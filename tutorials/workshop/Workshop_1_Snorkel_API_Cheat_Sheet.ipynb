{
 "cells": [
  {
   "cell_type": "markdown",
   "metadata": {
    "collapsed": true
   },
   "source": [
    "# Snorkel Workshop: Extracting Spouse Relations from the News\n",
    "## Part 1: Snorkel API Cheat Sheet\n",
    "\n",
    "Complete API documentation is available at:\n",
    "\n",
    "http://snorkel.readthedocs.io/en/latest/\n",
    "\n",
    "However, we provide several detailed examples below that are useful when you are using Snorkel for the first time. "
   ]
  },
  {
   "cell_type": "code",
   "execution_count": 1,
   "metadata": {
    "collapsed": false
   },
   "outputs": [],
   "source": [
    "%load_ext autoreload\n",
    "%autoreload 2\n",
    "%matplotlib inline\n",
    "import os\n",
    "\n",
    "# Connect to the database backend and initalize a Snorkel session\n",
    "from lib.init import *"
   ]
  },
  {
   "cell_type": "markdown",
   "metadata": {},
   "source": [
    "## 1: `Candidate` and `Span` Objects\n",
    "----\n",
    "\n",
    "`Candidate` objects represent potential mentions found in text and are a core abstraction used in Snorkel. Candidates consist of 1 or more `Span` objects. \n",
    "\n",
    "For real applications, we have to define a candidate relation type consisting named `Span` objects. In this API, we'll use the pre-defined Spouse candidate, initialized below:"
   ]
  },
  {
   "cell_type": "code",
   "execution_count": 2,
   "metadata": {
    "collapsed": true
   },
   "outputs": [],
   "source": [
    "try:\n",
    "    Spouse = candidate_subclass('Spouse', ['person1', 'person2'])\n",
    "except:\n",
    "    print>>sys.stderr,\"Info: Candidate type already defined\""
   ]
  },
  {
   "cell_type": "markdown",
   "metadata": {
    "collapsed": true
   },
   "source": [
    "### Querying `Candidate` Sets\n",
    "We assume that our Candidates have already been extracted and partitioned\n",
    "into `train`, `dev`, and `test` sets.\n",
    "\n",
    "See our preprocessing tutorial <a href=\"Workshop_Advanced_Preprocessing.ipynb\">Workshop_Advanced_Preprocessing.ipynb</a> for more information on how candidates are generated. \n",
    "\n",
    "For now, we will just load our `train` set candidates."
   ]
  },
  {
   "cell_type": "code",
   "execution_count": 3,
   "metadata": {
    "collapsed": false
   },
   "outputs": [],
   "source": [
    "cands = session.query(Candidate).filter(Candidate.split == 0).all()"
   ]
  },
  {
   "cell_type": "markdown",
   "metadata": {},
   "source": [
    "### Accessing `Span` Arguments\n",
    "The `Spouse` example above consists of 2 arguments: `person1` and `person2`. These are represented as `Span` objects. We can access these directy as member variables of a candidate as so:"
   ]
  },
  {
   "cell_type": "code",
   "execution_count": 4,
   "metadata": {
    "collapsed": false
   },
   "outputs": [],
   "source": [
    "c = cands[134]"
   ]
  },
  {
   "cell_type": "code",
   "execution_count": 5,
   "metadata": {
    "collapsed": false
   },
   "outputs": [
    {
     "name": "stdout",
     "output_type": "stream",
     "text": [
      "Span(\"Daniella Topol\", sentence=34178, chars=[127,140], words=[23,24])\n",
      "Span(\"Majok’s\", sentence=34178, chars=[15,21], words=[2,3])\n",
      "Span(\"Daniella Topol\", sentence=34178, chars=[127,140], words=[23,24]) Span(\"Majok’s\", sentence=34178, chars=[15,21], words=[2,3])\n"
     ]
    }
   ],
   "source": [
    "print c.person1\n",
    "print c.person2\n",
    "\n",
    "print c[0], c[1]"
   ]
  },
  {
   "cell_type": "markdown",
   "metadata": {},
   "source": [
    "### `Span` Member Functions\n",
    "`Span` objects provide several useful functions for accessing text attributes."
   ]
  },
  {
   "cell_type": "code",
   "execution_count": 6,
   "metadata": {
    "collapsed": false
   },
   "outputs": [
    {
     "name": "stdout",
     "output_type": "stream",
     "text": [
      "Span 0 words               \t[u'Daniella', u'Topol']\n",
      "Span 0 lemmas              \t[u'Daniella', u'Topol']\n",
      "Span 0 part-of-speech tags \t[u'NNP', u'NNP']\n"
     ]
    }
   ],
   "source": [
    "print \"Span 0 words               \\t\", c[0].get_attrib_tokens(\"words\")\n",
    "print \"Span 0 lemmas              \\t\", c[0].get_attrib_tokens(\"words\")\n",
    "print \"Span 0 part-of-speech tags \\t\", c[0].get_attrib_tokens(\"pos_tags\")"
   ]
  },
  {
   "cell_type": "markdown",
   "metadata": {},
   "source": [
    "## 2: `Context`  Objects: `Sentence` and `Document`\n",
    "----\n",
    "\n",
    "All `Candidate` objects live within a `Context`. We'll focus on `Sentence` objects to start. We can access any candidate's *parent* with the following method:"
   ]
  },
  {
   "cell_type": "code",
   "execution_count": 7,
   "metadata": {
    "collapsed": false
   },
   "outputs": [
    {
     "data": {
      "text/plain": [
       "Sentence(Document 6219eaee-178f-4f1a-87cb-5f4895955cd7,1,Beginning with Majok’s smart, jabbing play about one woman’s survival, Round House Theatre’s production, assuredly directed by Daniella Topol, gets all the elements right.)"
      ]
     },
     "execution_count": 7,
     "metadata": {},
     "output_type": "execute_result"
    }
   ],
   "source": [
    "sent = c.get_parent()\n",
    "sent"
   ]
  },
  {
   "cell_type": "markdown",
   "metadata": {},
   "source": [
    "### Text and Syntactic Attributes\n",
    "Text undergoes standard information extraction preprocessing to extract important syntatic attributes like part-of-speech tags and depenency tree information. You can access all of these attribtes for each token using these `Sentence` member variables:"
   ]
  },
  {
   "cell_type": "code",
   "execution_count": 8,
   "metadata": {
    "collapsed": false
   },
   "outputs": [
    {
     "name": "stdout",
     "output_type": "stream",
     "text": [
      "[u'Beginning', u'with', u'Majok', u'\\u2019s', u'smart', u',', u'jabbing', u'play', u'about', u'one', u'woman', u'\\u2019s', u'survival', u',', u'Round', u'House', u'Theatre', u'\\u2019s', u'production', u',', u'assuredly', u'directed', u'by', u'Daniella', u'Topol', u',', u'gets', u'all', u'the', u'elements', u'right', u'.']\n",
      "[u'begin', u'with', u'majok', u'\\u2019s', u'smart', u',', u'jab', u'play', u'about', u'one', u'woman', u'\\u2019s', u'survival', u',', u'round', u'house', u'theatre', u'\\u2019s', u'production', u',', u'assuredly', u'direct', u'by', u'daniella', u'topol', u',', u'get', u'all', u'the', u'element', u'right', u'.']\n",
      "[u'VBG', u'IN', u'NNP', u'NNP', u'JJ', u',', u'VBG', u'NN', u'IN', u'CD', u'NN', u'JJ', u'NN', u',', u'NNP', u'NNP', u'NNP', u'NNP', u'NN', u',', u'RB', u'VBN', u'IN', u'NNP', u'NNP', u',', u'VBZ', u'PDT', u'DT', u'NNS', u'RB', u'.']\n",
      "[u'O', u'O', u'PERSON', u'PERSON', u'O', u'O', u'O', u'O', u'CARDINAL', u'CARDINAL', u'O', u'O', u'O', u'O', u'ORG', u'ORG', u'ORG', u'O', u'O', u'O', u'O', u'O', u'O', u'PERSON', u'PERSON', u'O', u'O', u'O', u'O', u'O', u'O', u'O']\n",
      "[27, 1, 4, 2, 4, 27, 27, 7, 10, 11, 13, 13, 8, 13, 16, 19, 19, 19, 7, 19, 22, 19, 22, 25, 23, 25, 0, 30, 30, 27, 27, 27]\n",
      "[u'advcl', u'prep', u'compound', u'pobj', u'acomp', u'punct', u'advcl', u'dobj', u'advmod', u'nummod', u'compound', u'amod', u'dobj', u'punct', u'compound', u'compound', u'compound', u'compound', u'dobj', u'punct', u'advmod', u'acl', u'agent', u'compound', u'pobj', u'punct', u'ROOT', u'predet', u'det', u'dobj', u'ccomp', u'punct']\n"
     ]
    }
   ],
   "source": [
    "print sent.words\n",
    "print sent.lemmas\n",
    "print sent.pos_tags\n",
    "print sent.ner_tags\n",
    "print sent.dep_parents\n",
    "print sent.dep_labels"
   ]
  },
  {
   "cell_type": "markdown",
   "metadata": {},
   "source": [
    "### Character-level Offsets\n",
    "These lists give the starting offset (in characters) for each token in the `Sentence` object. \n",
    "`char_offsets` are relative to the start of the sentence while `abs_char_offsets` are releative to document. "
   ]
  },
  {
   "cell_type": "code",
   "execution_count": 9,
   "metadata": {
    "collapsed": false
   },
   "outputs": [
    {
     "name": "stdout",
     "output_type": "stream",
     "text": [
      "[0, 10, 15, 20, 23, 28, 30, 38, 43, 49, 53, 58, 61, 69, 71, 77, 83, 90, 93, 103, 105, 115, 124, 127, 136, 141, 143, 148, 152, 156, 165, 170]\n",
      "[195, 205, 210, 215, 218, 223, 225, 233, 238, 244, 248, 253, 256, 264, 266, 272, 278, 285, 288, 298, 300, 310, 319, 322, 331, 336, 338, 343, 347, 351, 360, 365]\n"
     ]
    }
   ],
   "source": [
    "print sent.char_offsets\n",
    "print sent.abs_char_offsets"
   ]
  },
  {
   "cell_type": "markdown",
   "metadata": {},
   "source": [
    "### Visualizing Candidates\n",
    "We can also visualize a candidate for purposes of debugging. \n",
    "This snippet shows the first 5 candidates in their parent sentences."
   ]
  },
  {
   "cell_type": "code",
   "execution_count": 10,
   "metadata": {
    "collapsed": false
   },
   "outputs": [
    {
     "data": {
      "text/html": [
       "<div style=\"border: 1px dotted #858585; border-radius:8px;\n",
       "    background-color:#FDFDFD; padding:5pt 10pt 5pt 10pt\"><p style=\"font-size:12pt;\">Beginning with <b style=\"background-color:#CCCCCC;padding:1pt 5pt 1pt 5pt; border-radius:8px\">Majok’s</b> smart, jabbing play about one woman’s survival, Round House Theatre’s production, assuredly directed by <b style=\"background-color:#CCCCCC;padding:1pt 5pt 1pt 5pt; border-radius:8px\">Daniella Topol</b>, gets all the elements right.</p></div>"
      ],
      "text/plain": [
       "<IPython.core.display.HTML object>"
      ]
     },
     "metadata": {},
     "output_type": "display_data"
    }
   ],
   "source": [
    "from lib.viz import *\n",
    "display_candidate(c)"
   ]
  },
  {
   "cell_type": "markdown",
   "metadata": {},
   "source": [
    "## 3: Helper functions\n",
    "\n",
    "These are python helper functions that you can apply to candidates to return objects that are helpful during LF development.\n",
    "\n",
    "You can (and should!) write your own helper functions to help write LFs."
   ]
  },
  {
   "cell_type": "code",
   "execution_count": 11,
   "metadata": {
    "collapsed": true
   },
   "outputs": [],
   "source": [
    "import re\n",
    "from snorkel.lf_helpers import (\n",
    "    get_left_tokens, get_right_tokens, get_between_tokens,\n",
    "    get_text_between, get_tagged_text,\n",
    ")"
   ]
  },
  {
   "cell_type": "code",
   "execution_count": 12,
   "metadata": {
    "collapsed": false
   },
   "outputs": [
    {
     "name": "stdout",
     "output_type": "stream",
     "text": [
      "Candidate LEFT tokens:   \t[u'directed', u'by']\n",
      "Candidate RIGHT tokens:  \t[u'smart', u',']\n",
      "Candidate BETWEEN tokens:\t smart, jabbing play about one woman’s survival, Round House Theatre’s production, assuredly directed by \n"
     ]
    }
   ],
   "source": [
    "print \"Candidate LEFT tokens:   \\t\", list(get_left_tokens(c,window=2))\n",
    "print \"Candidate RIGHT tokens:  \\t\", list(get_right_tokens(c,window=2))\n",
    "print \"Candidate BETWEEN tokens:\\t\", get_text_between(c)"
   ]
  },
  {
   "cell_type": "markdown",
   "metadata": {},
   "source": [
    "### Advanced `Candidate` and `Sentence` Attributes\n",
    "\n",
    "Snorkel creates a dependency tree representation for all `Sentence` objects. You can query\n",
    "this using advanced lxml-based operators, but sometimes its also useful just to visualize a\n",
    "sentence to identify important verbs, noun phrases, and other syntatic structure. "
   ]
  },
  {
   "cell_type": "code",
   "execution_count": 13,
   "metadata": {
    "collapsed": false
   },
   "outputs": [],
   "source": [
    "from lib.tree_structs_ipynb import *\n",
    "tree = sentence_to_xmltree(c.get_parent())"
   ]
  },
  {
   "cell_type": "code",
   "execution_count": 14,
   "metadata": {
    "collapsed": false
   },
   "outputs": [
    {
     "data": {
      "text/html": [
       "<style>\n",
       ".node {\n",
       "  cursor: pointer;\n",
       "}\n",
       "\n",
       ".node circle {\n",
       "  fill: #fff;\n",
       "  stroke: steelblue;\n",
       "  stroke-width: 3px;\n",
       "}\n",
       "\n",
       ".node text {\n",
       "  font: 12px sans-serif;\n",
       "}\n",
       "\n",
       ".edge {\n",
       "  fill: none;\n",
       "  stroke: #ccc;\n",
       "  stroke-width: 2px;\n",
       "  cursor: pointer;\n",
       "}\n",
       "\n",
       ".highlight {\n",
       "  stroke: red;\n",
       "  stroke-width: 3px;\n",
       "}\n",
       "</style>\n",
       "\n",
       "<!--Provide the canvas id via python string formatting here--!>\n",
       "<div id=\"tree-chart-1920943535161729607\"></div>\n"
      ]
     },
     "metadata": {},
     "output_type": "display_data"
    },
    {
     "data": {
      "application/javascript": [
       "$.getScript(\"http://d3js.org/d3.v3.min.js\", function () {\n",
       "// See http://bl.ocks.org/d3noob/8375092\n",
       "// Two vars need to be provided via python string formatting: the tree, and the canvas id\n",
       "\n",
       "// JSON tree\n",
       "var root = {\"attrib\": {\"dep_label\": \"ROOT\", \"pos_tag\": \"VBZ\", \"entity_cid\": \"O\", \"word\": \"gets\", \"ner_tag\": \"O\", \"char_offset\": \"143\", \"lemma\": \"get\", \"entity_typ\": \"O\", \"dep_parent\": \"0\"}, \"children\": [{\"attrib\": {\"dep_label\": \"advcl\", \"pos_tag\": \"VBG\", \"entity_cid\": \"O\", \"word\": \"Beginning\", \"ner_tag\": \"O\", \"char_offset\": \"0\", \"lemma\": \"begin\", \"entity_typ\": \"O\", \"dep_parent\": \"27\"}, \"children\": [{\"attrib\": {\"dep_label\": \"prep\", \"pos_tag\": \"IN\", \"entity_cid\": \"O\", \"word\": \"with\", \"ner_tag\": \"O\", \"char_offset\": \"10\", \"lemma\": \"with\", \"entity_typ\": \"O\", \"dep_parent\": \"1\"}, \"children\": [{\"attrib\": {\"dep_label\": \"pobj\", \"pos_tag\": \"NNP\", \"entity_cid\": \"O\", \"word\": \" \", \"ner_tag\": \"PERSON\", \"char_offset\": \"20\", \"lemma\": \" \", \"entity_typ\": \"O\", \"dep_parent\": \"2\"}, \"children\": [{\"attrib\": {\"dep_label\": \"compound\", \"pos_tag\": \"NNP\", \"entity_cid\": \"O\", \"word\": \"Majok\", \"ner_tag\": \"PERSON\", \"char_offset\": \"15\", \"lemma\": \"majok\", \"entity_typ\": \"O\", \"dep_parent\": \"4\"}, \"children\": []}, {\"attrib\": {\"dep_label\": \"acomp\", \"pos_tag\": \"JJ\", \"entity_cid\": \"O\", \"word\": \"smart\", \"ner_tag\": \"O\", \"char_offset\": \"23\", \"lemma\": \"smart\", \"entity_typ\": \"O\", \"dep_parent\": \"4\"}, \"children\": []}]}]}]}, {\"attrib\": {\"dep_label\": \"punct\", \"pos_tag\": \",\", \"entity_cid\": \"O\", \"word\": \",\", \"ner_tag\": \"O\", \"char_offset\": \"28\", \"lemma\": \",\", \"entity_typ\": \"O\", \"dep_parent\": \"27\"}, \"children\": []}, {\"attrib\": {\"dep_label\": \"advcl\", \"pos_tag\": \"VBG\", \"entity_cid\": \"O\", \"word\": \"jabbing\", \"ner_tag\": \"O\", \"char_offset\": \"30\", \"lemma\": \"jab\", \"entity_typ\": \"O\", \"dep_parent\": \"27\"}, \"children\": [{\"attrib\": {\"dep_label\": \"dobj\", \"pos_tag\": \"NN\", \"entity_cid\": \"O\", \"word\": \"play\", \"ner_tag\": \"O\", \"char_offset\": \"38\", \"lemma\": \"play\", \"entity_typ\": \"O\", \"dep_parent\": \"7\"}, \"children\": [{\"attrib\": {\"dep_label\": \"dobj\", \"pos_tag\": \"NN\", \"entity_cid\": \"O\", \"word\": \"survival\", \"ner_tag\": \"O\", \"char_offset\": \"61\", \"lemma\": \"survival\", \"entity_typ\": \"O\", \"dep_parent\": \"8\"}, \"children\": [{\"attrib\": {\"dep_label\": \"compound\", \"pos_tag\": \"NN\", \"entity_cid\": \"O\", \"word\": \"woman\", \"ner_tag\": \"O\", \"char_offset\": \"53\", \"lemma\": \"woman\", \"entity_typ\": \"O\", \"dep_parent\": \"13\"}, \"children\": [{\"attrib\": {\"dep_label\": \"nummod\", \"pos_tag\": \"CD\", \"entity_cid\": \"O\", \"word\": \"one\", \"ner_tag\": \"CARDINAL\", \"char_offset\": \"49\", \"lemma\": \"one\", \"entity_typ\": \"O\", \"dep_parent\": \"11\"}, \"children\": [{\"attrib\": {\"dep_label\": \"advmod\", \"pos_tag\": \"IN\", \"entity_cid\": \"O\", \"word\": \"about\", \"ner_tag\": \"CARDINAL\", \"char_offset\": \"43\", \"lemma\": \"about\", \"entity_typ\": \"O\", \"dep_parent\": \"10\"}, \"children\": []}]}]}, {\"attrib\": {\"dep_label\": \"amod\", \"pos_tag\": \"JJ\", \"entity_cid\": \"O\", \"word\": \" \", \"ner_tag\": \"O\", \"char_offset\": \"58\", \"lemma\": \" \", \"entity_typ\": \"O\", \"dep_parent\": \"13\"}, \"children\": []}, {\"attrib\": {\"dep_label\": \"punct\", \"pos_tag\": \",\", \"entity_cid\": \"O\", \"word\": \",\", \"ner_tag\": \"O\", \"char_offset\": \"69\", \"lemma\": \",\", \"entity_typ\": \"O\", \"dep_parent\": \"13\"}, \"children\": []}]}]}, {\"attrib\": {\"dep_label\": \"dobj\", \"pos_tag\": \"NN\", \"entity_cid\": \"O\", \"word\": \"production\", \"ner_tag\": \"O\", \"char_offset\": \"93\", \"lemma\": \"production\", \"entity_typ\": \"O\", \"dep_parent\": \"7\"}, \"children\": [{\"attrib\": {\"dep_label\": \"compound\", \"pos_tag\": \"NNP\", \"entity_cid\": \"O\", \"word\": \"House\", \"ner_tag\": \"ORG\", \"char_offset\": \"77\", \"lemma\": \"house\", \"entity_typ\": \"O\", \"dep_parent\": \"19\"}, \"children\": [{\"attrib\": {\"dep_label\": \"compound\", \"pos_tag\": \"NNP\", \"entity_cid\": \"O\", \"word\": \"Round\", \"ner_tag\": \"ORG\", \"char_offset\": \"71\", \"lemma\": \"round\", \"entity_typ\": \"O\", \"dep_parent\": \"16\"}, \"children\": []}]}, {\"attrib\": {\"dep_label\": \"compound\", \"pos_tag\": \"NNP\", \"entity_cid\": \"O\", \"word\": \"Theatre\", \"ner_tag\": \"ORG\", \"char_offset\": \"83\", \"lemma\": \"theatre\", \"entity_typ\": \"O\", \"dep_parent\": \"19\"}, \"children\": []}, {\"attrib\": {\"dep_label\": \"compound\", \"pos_tag\": \"NNP\", \"entity_cid\": \"O\", \"word\": \" \", \"ner_tag\": \"O\", \"char_offset\": \"90\", \"lemma\": \" \", \"entity_typ\": \"O\", \"dep_parent\": \"19\"}, \"children\": []}, {\"attrib\": {\"dep_label\": \"punct\", \"pos_tag\": \",\", \"entity_cid\": \"O\", \"word\": \",\", \"ner_tag\": \"O\", \"char_offset\": \"103\", \"lemma\": \",\", \"entity_typ\": \"O\", \"dep_parent\": \"19\"}, \"children\": []}, {\"attrib\": {\"dep_label\": \"acl\", \"pos_tag\": \"VBN\", \"entity_cid\": \"O\", \"word\": \"directed\", \"ner_tag\": \"O\", \"char_offset\": \"115\", \"lemma\": \"direct\", \"entity_typ\": \"O\", \"dep_parent\": \"19\"}, \"children\": [{\"attrib\": {\"dep_label\": \"advmod\", \"pos_tag\": \"RB\", \"entity_cid\": \"O\", \"word\": \"assuredly\", \"ner_tag\": \"O\", \"char_offset\": \"105\", \"lemma\": \"assuredly\", \"entity_typ\": \"O\", \"dep_parent\": \"22\"}, \"children\": []}, {\"attrib\": {\"dep_label\": \"agent\", \"pos_tag\": \"IN\", \"entity_cid\": \"O\", \"word\": \"by\", \"ner_tag\": \"O\", \"char_offset\": \"124\", \"lemma\": \"by\", \"entity_typ\": \"O\", \"dep_parent\": \"22\"}, \"children\": [{\"attrib\": {\"dep_label\": \"pobj\", \"pos_tag\": \"NNP\", \"entity_cid\": \"O\", \"word\": \"Topol\", \"ner_tag\": \"PERSON\", \"char_offset\": \"136\", \"lemma\": \"topol\", \"entity_typ\": \"O\", \"dep_parent\": \"23\"}, \"children\": [{\"attrib\": {\"dep_label\": \"compound\", \"pos_tag\": \"NNP\", \"entity_cid\": \"O\", \"word\": \"Daniella\", \"ner_tag\": \"PERSON\", \"char_offset\": \"127\", \"lemma\": \"daniella\", \"entity_typ\": \"O\", \"dep_parent\": \"25\"}, \"children\": []}, {\"attrib\": {\"dep_label\": \"punct\", \"pos_tag\": \",\", \"entity_cid\": \"O\", \"word\": \",\", \"ner_tag\": \"O\", \"char_offset\": \"141\", \"lemma\": \",\", \"entity_typ\": \"O\", \"dep_parent\": \"25\"}, \"children\": []}]}]}]}]}]}, {\"attrib\": {\"dep_label\": \"dobj\", \"pos_tag\": \"NNS\", \"entity_cid\": \"O\", \"word\": \"elements\", \"ner_tag\": \"O\", \"char_offset\": \"156\", \"lemma\": \"element\", \"entity_typ\": \"O\", \"dep_parent\": \"27\"}, \"children\": [{\"attrib\": {\"dep_label\": \"predet\", \"pos_tag\": \"PDT\", \"entity_cid\": \"O\", \"word\": \"all\", \"ner_tag\": \"O\", \"char_offset\": \"148\", \"lemma\": \"all\", \"entity_typ\": \"O\", \"dep_parent\": \"30\"}, \"children\": []}, {\"attrib\": {\"dep_label\": \"det\", \"pos_tag\": \"DT\", \"entity_cid\": \"O\", \"word\": \"the\", \"ner_tag\": \"O\", \"char_offset\": \"152\", \"lemma\": \"the\", \"entity_typ\": \"O\", \"dep_parent\": \"30\"}, \"children\": []}]}, {\"attrib\": {\"dep_label\": \"ccomp\", \"pos_tag\": \"RB\", \"entity_cid\": \"O\", \"word\": \"right\", \"ner_tag\": \"O\", \"char_offset\": \"165\", \"lemma\": \"right\", \"entity_typ\": \"O\", \"dep_parent\": \"27\"}, \"children\": []}, {\"attrib\": {\"dep_label\": \"punct\", \"pos_tag\": \".\", \"entity_cid\": \"O\", \"word\": \".\", \"ner_tag\": \"O\", \"char_offset\": \"170\", \"lemma\": \".\", \"entity_typ\": \"O\", \"dep_parent\": \"27\"}, \"children\": []}]};\n",
       "\n",
       "// Constants\n",
       "var margin = {top: 20, right: 20, bottom: 50, left: 20},\n",
       "width = 800 - (margin.left - margin.right),\n",
       "height = 300 - (margin.top - margin.bottom),\n",
       "R = 5;\n",
       "\n",
       "// Create the d3 tree object\n",
       "var tree = d3.layout.tree()\n",
       "  .size([width, height]);\n",
       "\n",
       "// Create the svg canvas\n",
       "var svg = d3.select(\"#tree-chart-1920943535161729607\")\n",
       "  .append(\"svg\")\n",
       "  .attr(\"width\", width + margin.left + margin.right)\n",
       "  .attr(\"height\", height + margin.top + margin.bottom)\n",
       "  .append(\"g\")\n",
       "  .attr(\"transform\", \"translate(\" + margin.left + \",\" + margin.top + \")\");\n",
       "\n",
       "function renderTree() {\n",
       "  var nodes = tree.nodes(root),\n",
       "  edges = tree.links(nodes);\n",
       "\n",
       "  // Place the nodes\n",
       "  var nodeGroups = svg.selectAll(\"g.node\")\n",
       "    .data(nodes)\n",
       "    .enter().append(\"g\")\n",
       "    .attr(\"class\", \"node\")\n",
       "    .attr(\"transform\", function(d) { return \"translate(\" + d.x + \",\" + d.y + \")\"; });\n",
       "       \n",
       "  // Append circles\n",
       "  nodeGroups.append(\"circle\")\n",
       "    .on(\"click\", function() {\n",
       "      d3.select(this).classed(\"highlight\", !d3.select(this).classed(\"highlight\")); })\n",
       "    .attr(\"r\", R);\n",
       "     \n",
       "  // Append the actual word\n",
       "  nodeGroups.append(\"text\")\n",
       "    .text(function(d) { return d.attrib.word; })\n",
       "    .attr(\"text-anchor\", function(d) { \n",
       "      return d.children && d.children.length > 0 ? \"start\" : \"middle\"; })\n",
       "    .attr(\"dx\", function(d) { \n",
       "      return d.children && d.children.length > 0 ? R + 3 : 0; })\n",
       "    .attr(\"dy\", function(d) { \n",
       "      return d.children && d.children.length > 0 ? 0 : 3*R + 3; });\n",
       "\n",
       "  // Place the edges\n",
       "  var edgePaths = svg.selectAll(\"path\")\n",
       "    .data(edges)\n",
       "    .enter().append(\"path\")\n",
       "    .attr(\"class\", \"edge\")\n",
       "    .on(\"click\", function() {\n",
       "      d3.select(this).classed(\"highlight\", !d3.select(this).classed(\"highlight\")); })\n",
       "    .attr(\"d\", d3.svg.diagonal());\n",
       "}\n",
       "\n",
       "renderTree();\n",
       "});\n"
      ]
     },
     "metadata": {},
     "output_type": "display_data"
    }
   ],
   "source": [
    "tree.render_tree()"
   ]
  },
  {
   "cell_type": "markdown",
   "metadata": {
    "collapsed": true
   },
   "source": [
    "## 4: `Cheat Sheet`\n",
    "----\n",
    "\n",
    "### Accessing `Candidate` tokens\n",
    "\n",
    "Full helper function list at\n",
    "http://snorkel.readthedocs.io/en/latest/etc.html#module-snorkel.lf_helpers\n",
    "\n",
    "`snorkel.lf_helpers.get_left_tokens(...)\n",
    "snorkel.lf_helpers.get_right_tokens(...)\n",
    "snorkel.lf_helpers.get_between_tokens(...)\n",
    "snorkel.lf_helpers.get_text_between(...)\n",
    "snorkel.lf_helpers.get_tagged_text(...)`\n",
    "\n",
    "### `Candidate` member functions\n",
    "\n",
    "`c[0].get_attrib_tokens(...)\n",
    "c[0].get_word_start(...)\n",
    "c[0].get_word_end(...)`\n",
    "\n",
    "\n",
    "### `Sentence` attributes\n",
    "\n",
    "| Variable Name   | Description                          |\n",
    "|-------------|------------------------------------------|\n",
    "| `s.words`   | Text Tokens                              |\n",
    "| `s.lemmas`  | Lemma, \"a base word and its inflections\" |\n",
    "| `s.pos_tags` | Part-of-speech Tags                     |\n",
    "| `s.ner_tags` | Named Entity Tags                     |\n",
    "| `s.dep_parents` |  Dependency Tree Heads            |\n",
    "| `s.dep_labels` |  Dependency Tree Tags            |  \n",
    "| `s.char_offsets` |  Character Offsets          |\n",
    "| `s.abs_char_offsets` |  Absolute (document) Character Offsets |\n",
    "\n",
    "\n",
    "### Computing Labeling Function Metrics\n",
    "\n",
    "`snorkel.lf_helpers.test_LF`"
   ]
  },
  {
   "cell_type": "code",
   "execution_count": null,
   "metadata": {
    "collapsed": true
   },
   "outputs": [],
   "source": []
  }
 ],
 "metadata": {
  "kernelspec": {
   "display_name": "Python 2",
   "language": "python",
   "name": "python2"
  },
  "language_info": {
   "codemirror_mode": {
    "name": "ipython",
    "version": 2
   },
   "file_extension": ".py",
   "mimetype": "text/x-python",
   "name": "python",
   "nbconvert_exporter": "python",
   "pygments_lexer": "ipython2",
   "version": "2.7.13"
  }
 },
 "nbformat": 4,
 "nbformat_minor": 2
}
