{
 "cells": [
  {
   "cell_type": "code",
   "execution_count": 1,
   "metadata": {},
   "outputs": [],
   "source": [
    "from snorkel.contrib.babble.pipelines.keywordBaselinesList import KeywordBaselinesList\n",
    "from snorkel.contrib.babble import Explanation, link_explanation_candidates"
   ]
  },
  {
   "cell_type": "code",
   "execution_count": 2,
   "metadata": {
    "collapsed": true
   },
   "outputs": [],
   "source": [
    "basic = [\n",
    "    Explanation(\n",
    "        name='LF_spouse_to_left',\n",
    "        condition=\"there is a spouse word within two words to the left of arg 1 or arg 2\",\n",
    "        candidate='03a1e1a0-93c3-41a8-a905-a535ce8f2b09::span:6822:6837~~03a1e1a0-93c3-41a8-a905-a535ce8f2b09::span:6855:6858',\n",
    "        label=True,\n",
    "        semantics=None),\n",
    "    Explanation(\n",
    "        name='LF_no_spouse_in_sentence',\n",
    "        condition=\"there are no spouse words in the sentence\",\n",
    "        candidate='d0de6a86-66d5-40e0-b345-6c86d2047c07::span:1634:1638~~d0de6a86-66d5-40e0-b345-6c86d2047c07::span:1650:1659',\n",
    "        label=False,\n",
    "        semantics=None),\n",
    "    Explanation(\n",
    "        name='LF_married_after',\n",
    "        condition=\"the word 'and' is between arg 1 and arg 2 and 'married' or 'marriage' is after arg 2\",\n",
    "        candidate='e522e66f-ad1f-4b8b-a532-4f030a8e7a75::span:4054:4059~~e522e66f-ad1f-4b8b-a532-4f030a8e7a75::span:4085:4091',\n",
    "        label=True,\n",
    "        semantics=None),\n",
    "    Explanation(\n",
    "        name='LF_family_between',\n",
    "        condition=\"there is a family word between arg 1 and arg 2\",\n",
    "        candidate='768f241b-786d-475e-a55c-9683ecdeeb86::span:518:529~~768f241b-786d-475e-a55c-9683ecdeeb86::span:637:638',\n",
    "        label=False,\n",
    "        semantics=None),\n",
    "    Explanation(\n",
    "        name='LF_family_to_left',\n",
    "        condition=\"there is a family word within three words to the left of arg 1 or arg 2\",\n",
    "        candidate='b86261b6-62c3-456d-8ed0-458f781776f7::span:42:53~~b86261b6-62c3-456d-8ed0-458f781776f7::span:72:91',\n",
    "        label=False,\n",
    "        semantics=None),\n",
    "    Explanation(\n",
    "        name='LF_other_between',\n",
    "        condition=\"there is an other word between arg 1 and arg 2\",\n",
    "        candidate='3375a3c2-9b8a-423a-8334-32fe860be60e::span:3939:3948~~3375a3c2-9b8a-423a-8334-32fe860be60e::span:3967:3981',\n",
    "        label=False,\n",
    "        semantics=None),\n",
    "    Explanation(\n",
    "        name='LF_spouse_to_left',\n",
    "        condition=\"the words 'wife' and 'husband' are within two words to the left of arg 1 or arg 2\",\n",
    "        candidate='03a1e1a0-93c3-41a8-a905-a535ce8f2b09::span:6822:6837~~03a1e1a0-93c3-41a8-a905-a535ce8f2b09::span:6855:6858',\n",
    "        label=True,\n",
    "        semantics=None)\n",
    "]"
   ]
  },
  {
   "cell_type": "code",
   "execution_count": 3,
   "metadata": {},
   "outputs": [
    {
     "ename": "NameError",
     "evalue": "global name 'newList' is not defined",
     "output_type": "error",
     "traceback": [
      "\u001b[0;31m---------------------------------------------------------------------------\u001b[0m",
      "\u001b[0;31mNameError\u001b[0m                                 Traceback (most recent call last)",
      "\u001b[0;32m<ipython-input-3-20d35d6d866e>\u001b[0m in \u001b[0;36m<module>\u001b[0;34m()\u001b[0m\n\u001b[0;32m----> 1\u001b[0;31m \u001b[0mtrimmedExplanationsAND\u001b[0m \u001b[0;34m=\u001b[0m \u001b[0mKeywordBaselinesList\u001b[0m\u001b[0;34m(\u001b[0m\u001b[0mbasic\u001b[0m\u001b[0;34m)\u001b[0m\u001b[0;34m.\u001b[0m\u001b[0mmakeBaselineList\u001b[0m\u001b[0;34m(\u001b[0m\u001b[0;34m)\u001b[0m\u001b[0;34m\u001b[0m\u001b[0m\n\u001b[0m\u001b[1;32m      2\u001b[0m \u001b[0;32mfor\u001b[0m \u001b[0mexplanation\u001b[0m \u001b[0;32min\u001b[0m \u001b[0mtrimmedExplanationsAND\u001b[0m\u001b[0;34m:\u001b[0m\u001b[0;34m\u001b[0m\u001b[0m\n\u001b[1;32m      3\u001b[0m     \u001b[0;32mprint\u001b[0m \u001b[0mexplanation\u001b[0m\u001b[0;34m\u001b[0m\u001b[0m\n",
      "\u001b[0;32m/Users/emilydiana/Code/Snorkel/snorkel/snorkel/contrib/babble/pipelines/keywordBaselinesList.py\u001b[0m in \u001b[0;36mmakeBaselineList\u001b[0;34m(self)\u001b[0m\n\u001b[1;32m     12\u001b[0m         \u001b[0;32mfor\u001b[0m \u001b[0mindex\u001b[0m\u001b[0;34m,\u001b[0m \u001b[0mexplanation\u001b[0m \u001b[0;32min\u001b[0m \u001b[0menumerate\u001b[0m\u001b[0;34m(\u001b[0m\u001b[0mbaselineList\u001b[0m\u001b[0;34m)\u001b[0m\u001b[0;34m:\u001b[0m\u001b[0;34m\u001b[0m\u001b[0m\n\u001b[1;32m     13\u001b[0m             \u001b[0mbaselineList\u001b[0m\u001b[0;34m[\u001b[0m\u001b[0mindex\u001b[0m\u001b[0;34m]\u001b[0m\u001b[0;34m=\u001b[0m\u001b[0mKeywordBaselines\u001b[0m\u001b[0;34m(\u001b[0m\u001b[0mbaselineList\u001b[0m\u001b[0;34m[\u001b[0m\u001b[0mindex\u001b[0m\u001b[0;34m]\u001b[0m\u001b[0;34m,\u001b[0m \u001b[0mself\u001b[0m\u001b[0;34m.\u001b[0m\u001b[0mconjunction\u001b[0m\u001b[0;34m)\u001b[0m\u001b[0;34m.\u001b[0m\u001b[0mmodify\u001b[0m\u001b[0;34m(\u001b[0m\u001b[0;34m)\u001b[0m\u001b[0;34m\u001b[0m\u001b[0m\n\u001b[0;32m---> 14\u001b[0;31m         \u001b[0;32mreturn\u001b[0m \u001b[0mnewList\u001b[0m\u001b[0;34m\u001b[0m\u001b[0m\n\u001b[0m",
      "\u001b[0;31mNameError\u001b[0m: global name 'newList' is not defined"
     ]
    }
   ],
   "source": [
    "trimmedExplanationsAND = KeywordBaselinesList(basic).makeBaselineList()\n",
    "for explanation in trimmedExplanationsAND:\n",
    "    print explanation"
   ]
  },
  {
   "cell_type": "code",
   "execution_count": null,
   "metadata": {},
   "outputs": [],
   "source": [
    "trimmedExplanationsOR = KeywordBaselinesList(basic, conjunction='or').makeBaselineList()\n",
    "for explanation in trimmedExplanationsOR:\n",
    "    print explanation"
   ]
  },
  {
   "cell_type": "code",
   "execution_count": null,
   "metadata": {},
   "outputs": [],
   "source": []
  },
  {
   "cell_type": "code",
   "execution_count": null,
   "metadata": {
    "collapsed": true
   },
   "outputs": [],
   "source": []
  }
 ],
 "metadata": {
  "kernelspec": {
   "display_name": "Python 2",
   "language": "python",
   "name": "python2"
  },
  "language_info": {
   "codemirror_mode": {
    "name": "ipython",
    "version": 2
   },
   "file_extension": ".py",
   "mimetype": "text/x-python",
   "name": "python",
   "nbconvert_exporter": "python",
   "pygments_lexer": "ipython2",
   "version": "2.7.13"
  }
 },
 "nbformat": 4,
 "nbformat_minor": 2
}
