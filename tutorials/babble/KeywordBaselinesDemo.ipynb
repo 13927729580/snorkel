{
 "cells": [
  {
   "cell_type": "code",
   "execution_count": null,
   "metadata": {},
   "outputs": [],
   "source": [
    "from snorkel.contrib.babble.pipelines.keywordBaselinesList import KeywordBaselinesList\n",
    "from snorkel.contrib.babble import Explanation, link_explanation_candidates"
   ]
  },
  {
   "cell_type": "code",
   "execution_count": null,
   "metadata": {
    "collapsed": true
   },
   "outputs": [],
   "source": [
    "basic = [\n",
    "    Explanation(\n",
    "        name='LF_spouse_to_left',\n",
    "        condition=\"there is a spouse word within two words to the left of arg 1 or arg 2\",\n",
    "        candidate='03a1e1a0-93c3-41a8-a905-a535ce8f2b09::span:6822:6837~~03a1e1a0-93c3-41a8-a905-a535ce8f2b09::span:6855:6858',\n",
    "        label=True,\n",
    "        semantics=None),\n",
    "    Explanation(\n",
    "        name='LF_no_spouse_in_sentence',\n",
    "        condition=\"there are no spouse words in the sentence\",\n",
    "        candidate='d0de6a86-66d5-40e0-b345-6c86d2047c07::span:1634:1638~~d0de6a86-66d5-40e0-b345-6c86d2047c07::span:1650:1659',\n",
    "        label=False,\n",
    "        semantics=None),\n",
    "    Explanation(\n",
    "        name='LF_married_after',\n",
    "        condition=\"the word 'and' is between arg 1 and arg 2 and 'married' or 'marriage' is after arg 2\",\n",
    "        candidate='e522e66f-ad1f-4b8b-a532-4f030a8e7a75::span:4054:4059~~e522e66f-ad1f-4b8b-a532-4f030a8e7a75::span:4085:4091',\n",
    "        label=True,\n",
    "        semantics=None),\n",
    "    Explanation(\n",
    "        name='LF_family_between',\n",
    "        condition=\"there is a family word between arg 1 and arg 2\",\n",
    "        candidate='768f241b-786d-475e-a55c-9683ecdeeb86::span:518:529~~768f241b-786d-475e-a55c-9683ecdeeb86::span:637:638',\n",
    "        label=False,\n",
    "        semantics=None),\n",
    "    Explanation(\n",
    "        name='LF_family_to_left',\n",
    "        condition=\"there is a family word within three words to the left of arg 1 or arg 2\",\n",
    "        candidate='b86261b6-62c3-456d-8ed0-458f781776f7::span:42:53~~b86261b6-62c3-456d-8ed0-458f781776f7::span:72:91',\n",
    "        label=False,\n",
    "        semantics=None),\n",
    "    Explanation(\n",
    "        name='LF_other_between',\n",
    "        condition=\"there is an other word between arg 1 and arg 2\",\n",
    "        candidate='3375a3c2-9b8a-423a-8334-32fe860be60e::span:3939:3948~~3375a3c2-9b8a-423a-8334-32fe860be60e::span:3967:3981',\n",
    "        label=False,\n",
    "        semantics=None),\n",
    "    Explanation(\n",
    "        name='LF_spouse_to_left',\n",
    "        condition=\"the words 'wife' and 'husband' are within two words to the left of arg 1 or arg 2\",\n",
    "        candidate='03a1e1a0-93c3-41a8-a905-a535ce8f2b09::span:6822:6837~~03a1e1a0-93c3-41a8-a905-a535ce8f2b09::span:6855:6858',\n",
    "        label=True,\n",
    "        semantics=None)\n",
    "]"
   ]
  },
  {
   "cell_type": "code",
   "execution_count": null,
   "metadata": {},
   "outputs": [],
   "source": [
    "trimmedExplanationsAND = KeywordBaselinesList(basic).modifyList()\n",
    "for explanation in trimmedExplanationsAND:\n",
    "    print explanation"
   ]
  },
  {
   "cell_type": "code",
   "execution_count": null,
   "metadata": {},
   "outputs": [],
   "source": [
    "trimmedExplanationsOR = KeywordBaselinesList(basic, conjunction='or').modifyList()\n",
    "for explanation in trimmedExplanationsOR:\n",
    "    print explanation"
   ]
  },
  {
   "cell_type": "code",
   "execution_count": null,
   "metadata": {},
   "outputs": [],
   "source": []
  },
  {
   "cell_type": "code",
   "execution_count": null,
   "metadata": {
    "collapsed": true
   },
   "outputs": [],
   "source": []
  }
 ],
 "metadata": {
  "kernelspec": {
   "display_name": "Python 2",
   "language": "python",
   "name": "python2"
  },
  "language_info": {
   "codemirror_mode": {
    "name": "ipython",
    "version": 2
   },
   "file_extension": ".py",
   "mimetype": "text/x-python",
   "name": "python",
   "nbconvert_exporter": "python",
   "pygments_lexer": "ipython2",
   "version": "2.7.13"
  }
 },
 "nbformat": 4,
 "nbformat_minor": 2
}
