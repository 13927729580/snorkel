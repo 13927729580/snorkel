{
 "cells": [
  {
   "cell_type": "markdown",
   "metadata": {},
   "source": [
    "# polarity"
   ]
  },
  {
   "cell_type": "markdown",
   "metadata": {},
   "source": [
    "## Setup"
   ]
  },
  {
   "cell_type": "code",
   "execution_count": 1,
   "metadata": {
    "collapsed": true
   },
   "outputs": [],
   "source": [
    "# If necessary:\n",
    "import os\n",
    "os.remove('snorkel.db')"
   ]
  },
  {
   "cell_type": "code",
   "execution_count": 2,
   "metadata": {
    "collapsed": false
   },
   "outputs": [
    {
     "name": "stdout",
     "output_type": "stream",
     "text": [
      "The autoreload extension is already loaded. To reload it, use:\n",
      "  %reload_ext autoreload\n"
     ]
    }
   ],
   "source": [
    "%load_ext autoreload\n",
    "%autoreload 2\n",
    "%matplotlib inline\n",
    "\n",
    "import os\n",
    "import sys\n",
    "sys.path.append(os.environ['SNORKELHOME'] + '/tutorials/tables/')"
   ]
  },
  {
   "cell_type": "markdown",
   "metadata": {},
   "source": [
    "## Parsing"
   ]
  },
  {
   "cell_type": "code",
   "execution_count": 3,
   "metadata": {
    "collapsed": true
   },
   "outputs": [],
   "source": [
    "from snorkel import SnorkelSession\n",
    "session = SnorkelSession()"
   ]
  },
  {
   "cell_type": "markdown",
   "metadata": {},
   "source": [
    "### Define Parser"
   ]
  },
  {
   "cell_type": "code",
   "execution_count": 4,
   "metadata": {
    "collapsed": true
   },
   "outputs": [],
   "source": [
    "import os\n",
    "from snorkel.parser import CorpusParser, HTMLParser, OmniParser\n",
    "from snorkel.utils import get_ORM_instance\n",
    "from snorkel.queries import split_corpus\n",
    "\n",
    "docs_path = os.environ['SNORKELHOME'] + '/tutorials/tables/data/hardware/hardware100_html/'\n",
    "doc_parser = HTMLParser(path=docs_path)\n",
    "context_parser = OmniParser()\n",
    "cp = CorpusParser(doc_parser, context_parser, max_docs=3) "
   ]
  },
  {
   "cell_type": "markdown",
   "metadata": {},
   "source": [
    "### Run Parser"
   ]
  },
  {
   "cell_type": "code",
   "execution_count": 5,
   "metadata": {
    "collapsed": false,
    "scrolled": true
   },
   "outputs": [
    {
     "name": "stdout",
     "output_type": "stream",
     "text": [
      "[========================================] 100%\n",
      "CPU times: user 4.1 s, sys: 146 ms, total: 4.24 s\n",
      "Wall time: 10.9 s\n"
     ]
    }
   ],
   "source": [
    "%time corpus = cp.parse_corpus(name='Hardware', session=session)\n",
    "\n",
    "session.add(corpus)\n",
    "session.commit()"
   ]
  },
  {
   "cell_type": "markdown",
   "metadata": {},
   "source": [
    "### Split Corpus"
   ]
  },
  {
   "cell_type": "code",
   "execution_count": 6,
   "metadata": {
    "collapsed": false
   },
   "outputs": [
    {
     "name": "stdout",
     "output_type": "stream",
     "text": [
      "2 Documents added to corpus Hardware Training\n",
      "1 Documents added to corpus Hardware Development\n"
     ]
    }
   ],
   "source": [
    "from snorkel.models import Corpus\n",
    "\n",
    "corpus = get_ORM_instance(Corpus, session, 'Hardware')\n",
    "split_corpus(session, corpus, train=0.6, development=0.4, test=0, seed=3)"
   ]
  },
  {
   "cell_type": "code",
   "execution_count": 7,
   "metadata": {
    "collapsed": true
   },
   "outputs": [],
   "source": [
    "# If necessary\n",
    "import os\n",
    "os.system('cp snorkel.db snorkel.db\\ corpus');"
   ]
  },
  {
   "cell_type": "markdown",
   "metadata": {},
   "source": [
    "## Extraction"
   ]
  },
  {
   "cell_type": "code",
   "execution_count": null,
   "metadata": {
    "collapsed": true
   },
   "outputs": [],
   "source": [
    "# If necessary:\n",
    "import os\n",
    "os.remove('snorkel.db');\n",
    "os.system('cp snorkel.db\\ corpus snorkel.db');\n",
    "\n",
    "import sys\n",
    "sys.path.append(os.environ['SNORKELHOME'] + '/tutorials/tables/')\n",
    "\n",
    "from snorkel import SnorkelSession\n",
    "session = SnorkelSession()"
   ]
  },
  {
   "cell_type": "code",
   "execution_count": 8,
   "metadata": {
    "collapsed": false
   },
   "outputs": [],
   "source": [
    "from snorkel.models import candidate_subclass\n",
    "\n",
    "Part_Polarity = candidate_subclass('Part_Polarity', ['part','polarity'])"
   ]
  },
  {
   "cell_type": "markdown",
   "metadata": {},
   "source": [
    "### Define Matchers"
   ]
  },
  {
   "cell_type": "code",
   "execution_count": 9,
   "metadata": {
    "collapsed": true
   },
   "outputs": [],
   "source": [
    "from snorkel.matchers import RegexMatchSpan, Union\n",
    "\n",
    "eeca_matcher = RegexMatchSpan(rgx='([b]{1}[abcdefklnpqruyz]{1}[\\swxyz]?[0-9]{3,5}[\\s]?[A-Z\\/]{0,5}[0-9]?[A-Z]?([-][A-Z0-9]{1,7})?([-][A-Z0-9]{1,2})?)')\n",
    "jedec_matcher = RegexMatchSpan(rgx='([123]N\\d{3,4}[A-Z]{0,5}[0-9]?[A-Z]?)')\n",
    "jis_matcher = RegexMatchSpan(rgx='(2S[abcdefghjkmqrstvz]{1}[\\d]{2,4})')\n",
    "others_matcher = RegexMatchSpan(rgx='((NSVBC|SMBT|MJ|MJE|MPS|MRF|RCA|TIP|ZTX|ZT|TIS|TIPL|DTC|MMBT|PZT){1}[\\d]{2,4}[A-Z]{0,3}([-][A-Z0-9]{0,6})?([-][A-Z0-9]{0,1})?)')\n",
    "parts_matcher = Union(eeca_matcher, jedec_matcher, jis_matcher, others_matcher)\n",
    "\n",
    "polarity_matcher = RegexMatchSpan(rgx=r'(pnp|npn)', ignore_case=True)"
   ]
  },
  {
   "cell_type": "markdown",
   "metadata": {},
   "source": [
    "### Define ContextSpaces"
   ]
  },
  {
   "cell_type": "code",
   "execution_count": 10,
   "metadata": {
    "collapsed": false
   },
   "outputs": [],
   "source": [
    "from snorkel.candidates import OmniNgrams\n",
    "from hardware_utils import OmniNgramsPart, get_gold_dict\n",
    "from collections import defaultdict\n",
    "import os\n",
    "\n",
    "# Make parts list\n",
    "gold_file = os.environ['SNORKELHOME'] + '/tutorials/tables/data/hardware/hardware_gold.csv'\n",
    "gold_parts = get_gold_dict(gold_file, doc_on=True, part_on=True, val_on=False)\n",
    "parts_by_doc = defaultdict(set)\n",
    "for part in gold_parts:\n",
    "    parts_by_doc[part[0]].add(part[1])\n",
    "\n",
    "part_ngrams = OmniNgramsPart(n_max=3, parts_by_doc=None) # NOTE: linking is turned off\n",
    "polarity_ngrams = OmniNgrams(n_max=1)"
   ]
  },
  {
   "cell_type": "markdown",
   "metadata": {},
   "source": [
    "### Run CandidateExtractor"
   ]
  },
  {
   "cell_type": "code",
   "execution_count": 11,
   "metadata": {
    "collapsed": false
   },
   "outputs": [
    {
     "name": "stdout",
     "output_type": "stream",
     "text": [
      "Extracting Candidates from Corpus (Hardware Training)\n",
      "[========================================] 100%\n",
      "CPU times: user 2.01 s, sys: 18.2 ms, total: 2.02 s\n",
      "Wall time: 2.05 s\n",
      "Candidate Set (Hardware Training Candidates) contains 709 Candidates\n",
      "Extracting Candidates from Corpus (Hardware Development)\n",
      "[========================================] 100%\n",
      "CPU times: user 960 ms, sys: 10.6 ms, total: 970 ms\n",
      "Wall time: 974 ms\n",
      "Candidate Set (Hardware Development Candidates) contains 115 Candidates\n"
     ]
    }
   ],
   "source": [
    "from snorkel.models import Corpus\n",
    "from snorkel.candidates import CandidateExtractor\n",
    "from snorkel.utils import get_ORM_instance\n",
    "ce = CandidateExtractor(Part_Polarity, \n",
    "                        [part_ngrams, polarity_ngrams], \n",
    "                        [parts_matcher, polarity_matcher], \n",
    "                        throttler=None)\n",
    "\n",
    "for corpus_name in ['Hardware Training', 'Hardware Development']:\n",
    "    corpus = get_ORM_instance(Corpus, session, corpus_name)\n",
    "    print \"Extracting Candidates from %s\" % corpus\n",
    "    %time candidates = ce.extract(\\\n",
    "        corpus.documents, corpus_name + ' Candidates', session)\n",
    "    session.add(candidates)\n",
    "    print \"%s contains %d Candidates\" % (candidates, len(candidates))\n",
    "session.commit()"
   ]
  },
  {
   "cell_type": "markdown",
   "metadata": {},
   "source": [
    "### Assess Recall"
   ]
  },
  {
   "cell_type": "code",
   "execution_count": 12,
   "metadata": {
    "collapsed": false
   },
   "outputs": [
    {
     "name": "stdout",
     "output_type": "stream",
     "text": [
      "Preparing candidates...\n",
      "[========================================] 100%\n",
      "========================================\n",
      "Scoring on Entity-Level Total Recall\n",
      "========================================\n",
      "Entity-level Candidates extracted: 51 \n",
      "Entity-level Gold: 829\n",
      "Intersection Candidates: 44\n",
      "----------------------------------------\n",
      "Overlap with Gold:  0.0531\n",
      "========================================\n",
      "\n"
     ]
    }
   ],
   "source": [
    "from snorkel.models import Candidate\n",
    "from hardware_utils import entity_level_total_recall\n",
    "\n",
    "all_candidates = session.query(Candidate).all()\n",
    "gold_file = os.environ['SNORKELHOME'] + '/tutorials/tables/data/hardware/hardware_gold.csv'\n",
    "(tp, fp, fn) = entity_level_total_recall(\n",
    "    all_candidates, gold_file, 'polarity', relation=True)"
   ]
  },
  {
   "cell_type": "code",
   "execution_count": null,
   "metadata": {
    "collapsed": false
   },
   "outputs": [],
   "source": [
    "from pprint import pprint\n",
    "pprint(fn)\n",
    "print len(fn)"
   ]
  },
  {
   "cell_type": "code",
   "execution_count": 13,
   "metadata": {
    "collapsed": true
   },
   "outputs": [],
   "source": [
    "# If necessary\n",
    "import os\n",
    "os.system('cp snorkel.db snorkel.db\\ candidates');"
   ]
  },
  {
   "cell_type": "markdown",
   "metadata": {},
   "source": [
    "## Gold Labels"
   ]
  },
  {
   "cell_type": "code",
   "execution_count": null,
   "metadata": {
    "collapsed": false
   },
   "outputs": [],
   "source": [
    "# If necessary\n",
    "import os\n",
    "os.remove('snorkel.db');\n",
    "os.system('cp snorkel.db\\ candidates snorkel.db');\n",
    "\n",
    "import sys\n",
    "sys.path.append(os.environ['SNORKELHOME'] + '/tutorials/tables/')\n",
    "\n",
    "from snorkel import SnorkelSession\n",
    "session = SnorkelSession()\n",
    "\n",
    "from snorkel.models import candidate_subclass\n",
    "Part_Polarity = candidate_subclass('Part_Polarity', ['part','polarity'])"
   ]
  },
  {
   "cell_type": "code",
   "execution_count": 14,
   "metadata": {
    "collapsed": false
   },
   "outputs": [
    {
     "name": "stdout",
     "output_type": "stream",
     "text": [
      "Loading 709 candidate labels\n",
      "[========================================] 100%\n",
      "CPU times: user 1.97 s, sys: 38.5 ms, total: 2 s\n",
      "Wall time: 2.06 s\n",
      "676/709 Candidates in Candidate Set (Hardware Training Candidates) have positive Labels\n",
      "Loading 115 candidate labels\n",
      "[========================================] 100%\n",
      "CPU times: user 1.11 s, sys: 31.5 ms, total: 1.14 s\n",
      "Wall time: 1.19 s\n",
      "110/115 Candidates in Candidate Set (Hardware Development Candidates) have positive Labels\n"
     ]
    }
   ],
   "source": [
    "import os\n",
    "from snorkel.models import CandidateSet\n",
    "from hardware_utils import load_hardware_labels\n",
    "\n",
    "gold_file = os.environ['SNORKELHOME'] + '/tutorials/tables/data/hardware/hardware_gold.csv'\n",
    "for set_name in ['Training', 'Development']:\n",
    "    candidate_set_name = 'Hardware %s Candidates' % set_name\n",
    "    candidates = session.query(CandidateSet).filter(\n",
    "        CandidateSet.name == candidate_set_name).one()\n",
    "    label_set_name = 'Hardware %s Candidates -- Gold' % set_name\n",
    "    annotation_key_name = 'Hardware %s Labels -- Gold' % set_name\n",
    "    %time gold_candidates, annotation_key = load_hardware_labels(session,\\\n",
    "                           label_set_name, \\\n",
    "                           annotation_key_name, \\\n",
    "                           candidates, \\\n",
    "                           gold_file, \\\n",
    "                           'polarity')\n",
    "    candidates_gold = session.query(CandidateSet).filter(\n",
    "        CandidateSet.name == candidate_set_name + ' -- Gold').one()\n",
    "    print \"%d/%d Candidates in %s have positive Labels\" % (\n",
    "        len(candidates_gold), len(candidates), candidates)"
   ]
  },
  {
   "cell_type": "code",
   "execution_count": null,
   "metadata": {
    "collapsed": true
   },
   "outputs": [],
   "source": [
    "# If necessary\n",
    "import os\n",
    "os.system('cp snorkel.db snorkel.db\\ labels');"
   ]
  },
  {
   "cell_type": "markdown",
   "metadata": {},
   "source": [
    "### Assess Baseline Performance"
   ]
  },
  {
   "cell_type": "code",
   "execution_count": null,
   "metadata": {
    "collapsed": false
   },
   "outputs": [],
   "source": [
    "# from snorkel.models import Corpus, Candidate\n",
    "# from snorkel.utils import get_ORM_instance\n",
    "# from snorkel.lf_helpers import *\n",
    "# from hardware_utils import entity_level_f1\n",
    "# from itertools import chain\n",
    "\n",
    "# def LF_all_true(c):\n",
    "#     return True\n",
    "\n",
    "# def LF_complement_nearby(c):\n",
    "#     return 1 if set(['complement','complementary']).isdisjoint(\n",
    "#         chain.from_iterable(\n",
    "#             [get_phrase_ngrams(c.part), \n",
    "#              get_phrase_ngrams(c.polarity),\n",
    "#              get_neighbor_phrase_ngrams(c.polarity)])) else 0\n",
    "\n",
    "# candidates = session.query(Candidate).all()\n",
    "# (tp, fp, tn, fn) = baseline(candidates, LF_complement_nearby)\n",
    "\n",
    "# corpus = get_ORM_instance(Corpus, session, 'Hardware')\n",
    "# gold_file = os.environ['SNORKELHOME'] + '/tutorials/tables/data/hardware/hardware_gold.csv'\n",
    "# (TP, FP, FN) = entity_level_f1(tp, fp, tn, fn, gold_file, corpus, 'polarity')"
   ]
  },
  {
   "cell_type": "code",
   "execution_count": null,
   "metadata": {
    "collapsed": false
   },
   "outputs": [],
   "source": [
    "# from pprint import pprint\n",
    "# pprint(FP)"
   ]
  },
  {
   "cell_type": "code",
   "execution_count": null,
   "metadata": {
    "collapsed": false
   },
   "outputs": [],
   "source": [
    "# pprint(FN)"
   ]
  },
  {
   "cell_type": "code",
   "execution_count": null,
   "metadata": {
    "collapsed": false
   },
   "outputs": [],
   "source": [
    "# from hardware_utils import entity_to_candidates\n",
    "\n",
    "# print len(candidates)\n",
    "# matches = entity_to_candidates((u'SIEMS01215-1', u'BC856', u'NPN'), candidates)\n",
    "# c = matches[0]\n",
    "# print c"
   ]
  },
  {
   "cell_type": "code",
   "execution_count": null,
   "metadata": {
    "collapsed": false
   },
   "outputs": [],
   "source": [
    "# from snorkel.models import ImplicitSpan\n",
    "# from snorkel.lf_helpers import *\n",
    "# phrases = []\n",
    "# print list(get_neighbor_phrase_ngrams(c.polarity))\n",
    "# print c.polarity.parent\n",
    "# print phrases\n",
    "# print \"SPAN_TYPE_[%s]\" % ('IMPLICIT' if isinstance(c.polarity, ImplicitSpan) else 'EXPLICIT')\n",
    "# # list(get_phrase_ngrams(c.polarity))"
   ]
  },
  {
   "cell_type": "markdown",
   "metadata": {},
   "source": [
    "## Features"
   ]
  },
  {
   "cell_type": "code",
   "execution_count": null,
   "metadata": {
    "collapsed": true
   },
   "outputs": [],
   "source": [
    "# If necessary:\n",
    "import os\n",
    "os.remove('snorkel.db');\n",
    "os.system('cp snorkel.db\\ labels snorkel.db');\n",
    "\n",
    "import sys\n",
    "sys.path.append(os.environ['SNORKELHOME'] + '/tutorials/tables/')\n",
    "\n",
    "from snorkel import SnorkelSession\n",
    "session = SnorkelSession()\n",
    "\n",
    "from snorkel.models import candidate_subclass\n",
    "Part_Polarity = candidate_subclass('Part_Polarity', ['part','polarity'])"
   ]
  },
  {
   "cell_type": "markdown",
   "metadata": {},
   "source": [
    "### Extract Features"
   ]
  },
  {
   "cell_type": "code",
   "execution_count": 15,
   "metadata": {
    "collapsed": false
   },
   "outputs": [
    {
     "name": "stdout",
     "output_type": "stream",
     "text": [
      "[========================================] 100%\n",
      "Bulk upserting 56050 annotations...\n",
      "Done.\n",
      "Loading sparse Feature matrix...\n",
      "CPU times: user 8.24 s, sys: 97.4 ms, total: 8.34 s\n",
      "Wall time: 8.44 s\n",
      "[========================================] 100%\n",
      "Bulk upserting 3007 annotations...\n",
      "Done.\n",
      "Loading sparse Feature matrix...\n",
      "CPU times: user 2.71 s, sys: 45.9 ms, total: 2.76 s\n",
      "Wall time: 2.79 s\n"
     ]
    }
   ],
   "source": [
    "from snorkel.models import CandidateSet\n",
    "from snorkel.fast_annotations import FeatureManager\n",
    "from snorkel.utils import get_ORM_instance\n",
    "\n",
    "train = get_ORM_instance(CandidateSet, session, 'Hardware Training Candidates')\n",
    "dev   = get_ORM_instance(CandidateSet, session, 'Hardware Development Candidates')\n",
    "\n",
    "feature_manager = FeatureManager()\n",
    "%time F_train = feature_manager.create(session, train, 'Train Features')\n",
    "%time F_dev = feature_manager.update(session, dev, 'Train Features', expand_key_set=False)"
   ]
  },
  {
   "cell_type": "code",
   "execution_count": 16,
   "metadata": {
    "collapsed": true
   },
   "outputs": [],
   "source": [
    "# If necessary:\n",
    "import os\n",
    "os.system('cp snorkel.db snorkel.db\\ featurized');"
   ]
  },
  {
   "cell_type": "markdown",
   "metadata": {},
   "source": [
    "## LFs"
   ]
  },
  {
   "cell_type": "code",
   "execution_count": null,
   "metadata": {
    "collapsed": true
   },
   "outputs": [],
   "source": [
    "# If necessary\n",
    "# import os\n",
    "# os.remove('snorkel.db');\n",
    "# os.system('cp snorkel.db\\ featurized snorkel.db');\n",
    "\n",
    "# from snorkel import SnorkelSession\n",
    "# session = SnorkelSession()\n",
    "\n",
    "# import sys\n",
    "# sys.path.append(os.environ['SNORKELHOME'] + '/tutorials/tables/')\n",
    "\n",
    "# from snorkel.models import candidate_subclass\n",
    "# Part_Polarity = candidate_subclass('Part_Polarity', ['part','polarity'])\n",
    "\n",
    "# from snorkel.models import CandidateSet\n",
    "# train = session.query(CandidateSet).filter(\n",
    "#     CandidateSet.name == 'Hardware Training Candidates').one()"
   ]
  },
  {
   "cell_type": "markdown",
   "metadata": {},
   "source": [
    "### Define LFs"
   ]
  },
  {
   "cell_type": "code",
   "execution_count": 17,
   "metadata": {
    "collapsed": false
   },
   "outputs": [],
   "source": [
    "from snorkel.fast_annotations import LabelManager\n",
    "from snorkel.lf_helpers import *\n",
    "import re\n",
    "label_manager = LabelManager()\n",
    "\n",
    "LFs = []\n",
    "\n",
    "def LF_complement_phrase_part(c):\n",
    "    return -1 if overlap(['complement','complementary'], \n",
    "                         get_phrase_ngrams(c.part)) else 0\n",
    "LFs.append(LF_complement_phrase_part)\n",
    "\n",
    "def LF_complement_phrase_polarity(c):\n",
    "    return -1 if overlap(['complement','complementary'], \n",
    "                         get_phrase_ngrams(c.polarity)) else 0\n",
    "LFs.append(LF_complement_phrase_polarity)\n",
    "\n",
    "def LF_complement_neighbor_polarity(c):\n",
    "    return -1 if overlap(['complement','complementary'], \n",
    "                         get_neighbor_phrase_ngrams(c.polarity)) else 0\n",
    "LFs.append(LF_complement_neighbor_polarity)\n",
    "\n",
    "def LF_top_mark_col_part(c):\n",
    "    return -1 if overlap(['top','mark'],\n",
    "                         get_col_ngrams(c.part)) else 0\n",
    "LFs.append(LF_top_mark_col_part)\n",
    "\n",
    "def LF_endswith_D_part(c):\n",
    "    return -1 if c.part.get_span().endswith('D') else 0\n",
    "LFs.append(LF_endswith_D_part)\n",
    "\n",
    "def LF_default_positive(c):\n",
    "    return 1 if not overlap(['complement','complementary'],\n",
    "                            chain.from_iterable([\n",
    "                            get_phrase_ngrams(c.part),\n",
    "                            get_phrase_ngrams(c.polarity),\n",
    "                            get_neighbor_phrase_ngrams(c.polarity)])) else 0\n",
    "LFs.append(LF_default_positive)"
   ]
  },
  {
   "cell_type": "code",
   "execution_count": null,
   "metadata": {
    "collapsed": false
   },
   "outputs": [],
   "source": [
    "from snorkel.models import Candidate\n",
    "from hardware_utils import entity_to_candidates\n",
    "\n",
    "candidates = session.query(Candidate).all()\n",
    "print len(candidates)\n",
    "# matches = entity_to_candidates((u'SIEMS01215-1', u'BC856', u'NPN'), candidates)\n",
    "# c = matches[0]\n",
    "c = candidates[0]\n",
    "print candidates[0]\n",
    "\n",
    "print LF_complement_phrase_part(c)\n",
    "print LF_complement_phrase_polarity(c)\n",
    "print LF_complement_neighbor_polarity(c)\n",
    "print LF_top_mark_col_part(c)\n",
    "print LF_endswith_D_part(c)\n",
    "print LF_default_positive(c)"
   ]
  },
  {
   "cell_type": "markdown",
   "metadata": {},
   "source": [
    "### Apply LFs"
   ]
  },
  {
   "cell_type": "code",
   "execution_count": 18,
   "metadata": {
    "collapsed": false
   },
   "outputs": [
    {
     "name": "stdout",
     "output_type": "stream",
     "text": [
      "[========================================] 100%\n",
      "Bulk upserting 4254 annotations...\n",
      "Done.\n",
      "Loading sparse Label matrix...\n",
      "CPU times: user 4.01 s, sys: 44.6 ms, total: 4.05 s\n",
      "Wall time: 4.1 s\n"
     ]
    },
    {
     "data": {
      "text/plain": [
       "<709x6 sparse matrix of type '<type 'numpy.float64'>'\n",
       "\twith 713 stored elements in Compressed Sparse Row format>"
      ]
     },
     "execution_count": 18,
     "metadata": {},
     "output_type": "execute_result"
    }
   ],
   "source": [
    "%time L_train = label_manager.create(session, train, 'LF Labels', f=LFs)\n",
    "L_train"
   ]
  },
  {
   "cell_type": "markdown",
   "metadata": {},
   "source": [
    "### Assess LF accuracy"
   ]
  },
  {
   "cell_type": "code",
   "execution_count": 19,
   "metadata": {
    "collapsed": false
   },
   "outputs": [
    {
     "name": "stdout",
     "output_type": "stream",
     "text": [
      "[========================================] 100%\n",
      "CPU times: user 79.9 ms, sys: 11.9 ms, total: 91.9 ms\n",
      "Wall time: 99.9 ms\n"
     ]
    },
    {
     "data": {
      "text/html": [
       "<div>\n",
       "<table border=\"1\" class=\"dataframe\">\n",
       "  <thead>\n",
       "    <tr style=\"text-align: right;\">\n",
       "      <th></th>\n",
       "      <th>accuracy</th>\n",
       "      <th>conflicts</th>\n",
       "      <th>coverage</th>\n",
       "      <th>j</th>\n",
       "      <th>overlaps</th>\n",
       "    </tr>\n",
       "  </thead>\n",
       "  <tbody>\n",
       "    <tr>\n",
       "      <th>LF_complement_phrase_part</th>\n",
       "      <td>NaN</td>\n",
       "      <td>0.000000</td>\n",
       "      <td>0.000000</td>\n",
       "      <td>0</td>\n",
       "      <td>0.000000</td>\n",
       "    </tr>\n",
       "    <tr>\n",
       "      <th>LF_complement_phrase_polarity</th>\n",
       "      <td>NaN</td>\n",
       "      <td>0.000000</td>\n",
       "      <td>0.000000</td>\n",
       "      <td>1</td>\n",
       "      <td>0.000000</td>\n",
       "    </tr>\n",
       "    <tr>\n",
       "      <th>LF_complement_neighbor_polarity</th>\n",
       "      <td>NaN</td>\n",
       "      <td>0.000000</td>\n",
       "      <td>0.000000</td>\n",
       "      <td>2</td>\n",
       "      <td>0.000000</td>\n",
       "    </tr>\n",
       "    <tr>\n",
       "      <th>LF_top_mark_col_part</th>\n",
       "      <td>NaN</td>\n",
       "      <td>0.000000</td>\n",
       "      <td>0.000000</td>\n",
       "      <td>3</td>\n",
       "      <td>0.000000</td>\n",
       "    </tr>\n",
       "    <tr>\n",
       "      <th>LF_endswith_D_part</th>\n",
       "      <td>1.000000</td>\n",
       "      <td>0.005642</td>\n",
       "      <td>0.005642</td>\n",
       "      <td>4</td>\n",
       "      <td>0.005642</td>\n",
       "    </tr>\n",
       "    <tr>\n",
       "      <th>LF_default_positive</th>\n",
       "      <td>0.953456</td>\n",
       "      <td>0.005642</td>\n",
       "      <td>1.000000</td>\n",
       "      <td>5</td>\n",
       "      <td>0.005642</td>\n",
       "    </tr>\n",
       "  </tbody>\n",
       "</table>\n",
       "</div>"
      ],
      "text/plain": [
       "                                 accuracy  conflicts  coverage  j  overlaps\n",
       "LF_complement_phrase_part             NaN   0.000000  0.000000  0  0.000000\n",
       "LF_complement_phrase_polarity         NaN   0.000000  0.000000  1  0.000000\n",
       "LF_complement_neighbor_polarity       NaN   0.000000  0.000000  2  0.000000\n",
       "LF_top_mark_col_part                  NaN   0.000000  0.000000  3  0.000000\n",
       "LF_endswith_D_part               1.000000   0.005642  0.005642  4  0.005642\n",
       "LF_default_positive              0.953456   0.005642  1.000000  5  0.005642"
      ]
     },
     "execution_count": 19,
     "metadata": {},
     "output_type": "execute_result"
    }
   ],
   "source": [
    "train_gold = session.query(CandidateSet).filter(\n",
    "    CandidateSet.name == 'Hardware Training Candidates -- Gold').one()\n",
    "%time L_train.lf_stats(train_gold)"
   ]
  },
  {
   "cell_type": "code",
   "execution_count": 20,
   "metadata": {
    "collapsed": true
   },
   "outputs": [],
   "source": [
    "# If necessary\n",
    "import os\n",
    "os.system('cp snorkel.db snorkel.db\\ features');"
   ]
  },
  {
   "cell_type": "markdown",
   "metadata": {},
   "source": [
    "## Learn and Evaluate"
   ]
  },
  {
   "cell_type": "code",
   "execution_count": null,
   "metadata": {
    "collapsed": false
   },
   "outputs": [],
   "source": [
    "# If necessary:\n",
    "# import os\n",
    "# os.remove('snorkel.db');\n",
    "# os.system('cp snorkel.db\\ features snorkel.db');\n",
    "\n",
    "# from snorkel import SnorkelSession\n",
    "# session = SnorkelSession()\n",
    "\n",
    "# import sys\n",
    "# sys.path.append(os.environ['SNORKELHOME'] + '/tutorials/tables/')\n",
    "\n",
    "# from snorkel.models import candidate_subclass\n",
    "# Part_Polarity = candidate_subclass('Part_Polarity', ['part','polarity'])\n",
    "\n",
    "# from snorkel.models import CandidateSet\n",
    "# train = session.query(CandidateSet).filter(\n",
    "#     CandidateSet.name == 'Hardware Training Candidates').one()\n",
    "# dev = session.query(CandidateSet).filter(\n",
    "#     CandidateSet.name == 'Hardware Development Candidates').one()\n",
    "\n",
    "# from snorkel.annotations import FeatureManager, LabelManager\n",
    "# feature_manager = FeatureManager()\n",
    "# %time F_train = feature_manager.load(session, train, 'Train Features')\n",
    "# %time F_dev = feature_manager.load(session, dev, 'Train Features')\n",
    "\n",
    "# label_manager = LabelManager()\n",
    "# %time L_train = label_manager.load(session, train, 'LF Labels')"
   ]
  },
  {
   "cell_type": "code",
   "execution_count": 21,
   "metadata": {
    "collapsed": false
   },
   "outputs": [
    {
     "name": "stdout",
     "output_type": "stream",
     "text": [
      "================================================================================\n",
      "Training marginals (!= 0.5):\t709\n",
      "Features:\t\t\t6\n",
      "================================================================================\n",
      "Begin training for rate=0.01, mu=1e-06\n",
      "\tLearning epoch = 0\tGradient mag. = 0.008217\n",
      "\tLearning epoch = 250\tGradient mag. = 0.008493\n",
      "\tLearning epoch = 500\tGradient mag. = 0.008340\n",
      "\tLearning epoch = 750\tGradient mag. = 0.008191\n",
      "\tLearning epoch = 1000\tGradient mag. = 0.008046\n",
      "\tLearning epoch = 1250\tGradient mag. = 0.007904\n",
      "\tLearning epoch = 1500\tGradient mag. = 0.007765\n",
      "\tLearning epoch = 1750\tGradient mag. = 0.007630\n",
      "\tLearning epoch = 2000\tGradient mag. = 0.007498\n",
      "\tLearning epoch = 2250\tGradient mag. = 0.007369\n",
      "\tLearning epoch = 2500\tGradient mag. = 0.007242\n",
      "\tLearning epoch = 2750\tGradient mag. = 0.007119\n",
      "\tLearning epoch = 3000\tGradient mag. = 0.006998\n",
      "\tLearning epoch = 3250\tGradient mag. = 0.006880\n",
      "\tLearning epoch = 3500\tGradient mag. = 0.006764\n",
      "\tLearning epoch = 3750\tGradient mag. = 0.006651\n",
      "\tLearning epoch = 4000\tGradient mag. = 0.006540\n",
      "\tLearning epoch = 4250\tGradient mag. = 0.006432\n",
      "\tLearning epoch = 4500\tGradient mag. = 0.006325\n",
      "\tLearning epoch = 4750\tGradient mag. = 0.006221\n",
      "\tLearning epoch = 5000\tGradient mag. = 0.006119\n",
      "\tLearning epoch = 5250\tGradient mag. = 0.006019\n",
      "\tLearning epoch = 5500\tGradient mag. = 0.005921\n",
      "\tLearning epoch = 5750\tGradient mag. = 0.005825\n",
      "\tLearning epoch = 6000\tGradient mag. = 0.005731\n",
      "\tLearning epoch = 6250\tGradient mag. = 0.005639\n",
      "\tLearning epoch = 6500\tGradient mag. = 0.005548\n",
      "\tLearning epoch = 6750\tGradient mag. = 0.005459\n",
      "\tLearning epoch = 7000\tGradient mag. = 0.005372\n",
      "\tLearning epoch = 7250\tGradient mag. = 0.005287\n",
      "\tLearning epoch = 7500\tGradient mag. = 0.005203\n",
      "\tLearning epoch = 7750\tGradient mag. = 0.005120\n",
      "\tLearning epoch = 8000\tGradient mag. = 0.005039\n",
      "\tLearning epoch = 8250\tGradient mag. = 0.004960\n",
      "\tLearning epoch = 8500\tGradient mag. = 0.004882\n",
      "\tLearning epoch = 8750\tGradient mag. = 0.004806\n",
      "\tLearning epoch = 9000\tGradient mag. = 0.004731\n",
      "\tLearning epoch = 9250\tGradient mag. = 0.004657\n",
      "\tLearning epoch = 9500\tGradient mag. = 0.004584\n",
      "\tLearning epoch = 9750\tGradient mag. = 0.004513\n",
      "\tLearning epoch = 10000\tGradient mag. = 0.004443\n",
      "\tLearning epoch = 10250\tGradient mag. = 0.004374\n",
      "\tLearning epoch = 10500\tGradient mag. = 0.004307\n",
      "\tLearning epoch = 10750\tGradient mag. = 0.004241\n",
      "\tLearning epoch = 11000\tGradient mag. = 0.004176\n",
      "\tLearning epoch = 11250\tGradient mag. = 0.004111\n",
      "\tLearning epoch = 11500\tGradient mag. = 0.004049\n",
      "\tLearning epoch = 11750\tGradient mag. = 0.003987\n",
      "\tLearning epoch = 12000\tGradient mag. = 0.003926\n",
      "\tLearning epoch = 12250\tGradient mag. = 0.003866\n",
      "\tLearning epoch = 12500\tGradient mag. = 0.003807\n",
      "\tLearning epoch = 12750\tGradient mag. = 0.003750\n",
      "\tLearning epoch = 13000\tGradient mag. = 0.003693\n",
      "\tLearning epoch = 13250\tGradient mag. = 0.003637\n",
      "\tLearning epoch = 13500\tGradient mag. = 0.003582\n",
      "\tLearning epoch = 13750\tGradient mag. = 0.003528\n",
      "\tLearning epoch = 14000\tGradient mag. = 0.003475\n",
      "\tLearning epoch = 14250\tGradient mag. = 0.003423\n",
      "\tLearning epoch = 14500\tGradient mag. = 0.003372\n",
      "\tLearning epoch = 14750\tGradient mag. = 0.003321\n",
      "Final gradient magnitude for rate=0.01, mu=1e-06: 0.003\n",
      "CPU times: user 12.8 ms, sys: 3.34 ms, total: 16.1 ms\n",
      "Wall time: 22 ms\n"
     ]
    },
    {
     "name": "stderr",
     "output_type": "stream",
     "text": [
      "/Users/bradenhancock/anaconda/lib/python2.7/site-packages/matplotlib/__init__.py:1318: UserWarning:  This call to matplotlib.use() has no effect\n",
      "because the backend has already been chosen;\n",
      "matplotlib.use() must be called *before* pylab, matplotlib.pyplot,\n",
      "or matplotlib.backends is imported for the first time.\n",
      "\n",
      "  warnings.warn(_use_error_msg)\n"
     ]
    }
   ],
   "source": [
    "from snorkel.learning import NaiveBayes\n",
    "\n",
    "gen_model = NaiveBayes()\n",
    "gen_model.train(L_train, n_iter=15000, rate=1e-2)\n",
    "%time gen_model.save(session, 'Generative Params')\n",
    "train_marginals = gen_model.marginals(L_train)"
   ]
  },
  {
   "cell_type": "code",
   "execution_count": 22,
   "metadata": {
    "collapsed": false
   },
   "outputs": [
    {
     "name": "stdout",
     "output_type": "stream",
     "text": [
      "================================================================================\n",
      "Training marginals (!= 0.5):\t709\n",
      "Features:\t\t\t839\n",
      "================================================================================\n",
      "Using gradient descent...\n",
      "\tLearning epoch = 0\tStep size = 1e-05\n",
      "\tLoss = 491.441351\tGradient magnitude = 327.391450\n",
      "\tLearning epoch = 100\tStep size = 9.04792147114e-06\n",
      "\tLoss = 480.675063\tGradient magnitude = 19.539327\n",
      "\tLearning epoch = 200\tStep size = 8.18648829479e-06\n",
      "\tLoss = 480.498616\tGradient magnitude = 11.123045\n",
      "\tLearning epoch = 300\tStep size = 7.40707032156e-06\n",
      "\tLoss = 480.438605\tGradient magnitude = 8.031825\n",
      "\tLearning epoch = 400\tStep size = 6.70185906007e-06\n",
      "\tLoss = 480.409629\tGradient magnitude = 6.609933\n",
      "\tLearning epoch = 500\tStep size = 6.06378944861e-06\n",
      "\tLoss = 480.392569\tGradient magnitude = 5.831144\n",
      "\tLearning epoch = 600\tStep size = 5.48646907485e-06\n",
      "\tLoss = 480.381777\tGradient magnitude = 5.367704\n",
      "\tLearning epoch = 700\tStep size = 4.96411413431e-06\n",
      "\tLoss = 480.374434\tGradient magnitude = 5.162330\n",
      "\tLearning epoch = 800\tStep size = 4.4914914861e-06\n",
      "\tLoss = 480.369057\tGradient magnitude = 5.047209\n",
      "\tLearning epoch = 900\tStep size = 4.06386622545e-06\n",
      "\tLoss = 480.365085\tGradient magnitude = 5.013969\n",
      "\tLearning epoch = 1000\tStep size = 3.67695424771e-06\n",
      "\tLoss = 480.362193\tGradient magnitude = 5.031636\n",
      "\tLearning epoch = 1100\tStep size = 3.32687932862e-06\n",
      "\tLoss = 480.360081\tGradient magnitude = 5.137335\n",
      "\tLearning epoch = 1200\tStep size = 3.01013429093e-06\n",
      "\tLoss = 480.358614\tGradient magnitude = 5.307048\n",
      "\tLearning epoch = 1300\tStep size = 2.72354586819e-06\n",
      "\tLoss = 480.357588\tGradient magnitude = 5.487757\n",
      "\tLearning epoch = 1400\tStep size = 2.46424291385e-06\n",
      "\tLoss = 480.357015\tGradient magnitude = 5.695405\n",
      "\tLearning epoch = 1500\tStep size = 2.22962763703e-06\n",
      "\tLoss = 480.356854\tGradient magnitude = 5.968636\n",
      "\tLearning epoch = 1600\tStep size = 2.01734957697e-06\n",
      "\tLoss = 480.357016\tGradient magnitude = 6.266992\n",
      "\tLearning epoch = 1700\tStep size = 1.82528205523e-06\n",
      "\tLoss = 480.357520\tGradient magnitude = 6.621375\n",
      "\tLearning epoch = 1800\tStep size = 1.65150086984e-06\n",
      "\tLoss = 480.358363\tGradient magnitude = 7.027964\n",
      "\tLearning epoch = 1900\tStep size = 1.49426501798e-06\n",
      "\tLoss = 480.359576\tGradient magnitude = 7.437406\n",
      "CPU times: user 165 ms, sys: 2.85 ms, total: 167 ms\n",
      "Wall time: 169 ms\n"
     ]
    }
   ],
   "source": [
    "from snorkel.learning import LogReg\n",
    "\n",
    "disc_model = LogReg()\n",
    "disc_model.train(F_train, train_marginals, n_iter=2000, rate=1e-5)\n",
    "%time disc_model.save(session, \"Discriminative Params\")"
   ]
  },
  {
   "cell_type": "code",
   "execution_count": 23,
   "metadata": {
    "collapsed": true
   },
   "outputs": [],
   "source": [
    "train_gold = session.query(CandidateSet).filter(\n",
    "    CandidateSet.name == 'Hardware Training Candidates -- Gold').one()"
   ]
  },
  {
   "cell_type": "code",
   "execution_count": 24,
   "metadata": {
    "collapsed": true
   },
   "outputs": [],
   "source": [
    "dev_gold = session.query(CandidateSet).filter(\n",
    "    CandidateSet.name == 'Hardware Development Candidates -- Gold').one()"
   ]
  },
  {
   "cell_type": "code",
   "execution_count": 25,
   "metadata": {
    "collapsed": false
   },
   "outputs": [],
   "source": [
    "from snorkel.models import CandidateSet\n",
    "from snorkel.annotations import LabelManager\n",
    "label_manager = LabelManager()\n",
    "L_dev = label_manager.load(session, dev, 'Hardware Development Labels -- Gold')"
   ]
  },
  {
   "cell_type": "code",
   "execution_count": 26,
   "metadata": {
    "collapsed": false
   },
   "outputs": [
    {
     "name": "stdout",
     "output_type": "stream",
     "text": [
      "Calibration plot:\n"
     ]
    },
    {
     "name": "stderr",
     "output_type": "stream",
     "text": [
      "/Users/bradenhancock/anaconda/lib/python2.7/site-packages/numpy/core/_methods.py:59: RuntimeWarning: Mean of empty slice.\n",
      "  warnings.warn(\"Mean of empty slice.\", RuntimeWarning)\n"
     ]
    },
    {
     "data": {
      "image/png": "[encoded data removed]",
      "text/plain": [
       "<matplotlib.figure.Figure at 0x11d9df710>"
      ]
     },
     "metadata": {},
     "output_type": "display_data"
    },
    {
     "name": "stdout",
     "output_type": "stream",
     "text": [
      "========================================\n",
      "Recall-corrected Noise-aware Model\n",
      "========================================\n",
      "Pos. class accuracy: 1.0\n",
      "Neg. class accuracy: 0.0\n",
      "Corpus Precision 0.957\n",
      "Corpus Recall    1.0\n",
      "Corpus F1        0.978\n",
      "----------------------------------------\n",
      "TP: 110 | FP: 5 | TN: 0 | FN: 0\n",
      "========================================\n",
      "\n",
      "========================================\n",
      "Recall-corrected Noise-aware Model\n",
      "========================================\n",
      "Pos. class accuracy: 1.0\n",
      "Neg. class accuracy: 0.0\n",
      "Corpus Precision 0.957\n",
      "Corpus Recall    1.0\n",
      "Corpus F1        0.978\n",
      "----------------------------------------\n",
      "TP: 110 | FP: 5 | TN: 0 | FN: 0\n",
      "========================================\n",
      "\n"
     ]
    }
   ],
   "source": [
    "tp, fp, tn, fn = disc_model.score(F_dev, L_dev, dev_gold)"
   ]
  },
  {
   "cell_type": "code",
   "execution_count": 27,
   "metadata": {
    "collapsed": false
   },
   "outputs": [
    {
     "name": "stdout",
     "output_type": "stream",
     "text": [
      "========================================\n",
      "Scoring on Entity-Level Gold Data\n",
      "========================================\n",
      "Corpus Precision 0.963\n",
      "Corpus Recall    1.0\n",
      "Corpus F1        0.981\n",
      "----------------------------------------\n",
      "TP: 26 | FP: 1 | FN: 0\n",
      "========================================\n",
      "\n"
     ]
    }
   ],
   "source": [
    "from snorkel.models import Corpus\n",
    "from hardware_utils import entity_level_f1\n",
    "import os\n",
    "\n",
    "gold_file = os.environ['SNORKELHOME'] + '/tutorials/tables/data/hardware/hardware_gold.csv'\n",
    "corpus = session.query(Corpus).filter(Corpus.name == 'Hardware Development').one()\n",
    "(TP, FP, FN) = entity_level_f1(tp, fp, tn, fn, gold_file, corpus, 'polarity')"
   ]
  },
  {
   "cell_type": "code",
   "execution_count": 28,
   "metadata": {
    "collapsed": false
   },
   "outputs": [
    {
     "name": "stdout",
     "output_type": "stream",
     "text": [
      "[(u'112823', u'BC548A', u'NPN')]\n"
     ]
    }
   ],
   "source": [
    "from pprint import pprint\n",
    "FP_list = sorted(list(FP))\n",
    "pprint(FP_list[:10])"
   ]
  },
  {
   "cell_type": "code",
   "execution_count": 32,
   "metadata": {
    "collapsed": false
   },
   "outputs": [
    {
     "data": {
      "text/plain": [
       "[(u'TAB_e2_CONTAINS_WORDS_[PNP]', 0.027633453643215417),\n",
       " (u'TAB_e2_HTML_TAG_html', 0.027633453643215417),\n",
       " (u'TAB_e2_SPAN_TYPE_[EXPLICIT]', 0.027633453643215417),\n",
       " (u'TAB_e1_SPAN_TYPE_[EXPLICIT]', 0.023743139611615602),\n",
       " (u'TAB_e2_RIGHT_WORDS_[general-purpose amplifier]', 0.01825614072889319),\n",
       " (u'TAB_e2_RIGHT_WORDS_[amplifier]', 0.01825614072889319),\n",
       " (u'TAB_e2_RIGHT_WORDS_[general-purpose]', 0.01825614072889319),\n",
       " (u'TAB_e1_HTML_TAG_html', 0.016461427489071652),\n",
       " (u'TAB_e2_LEFT_WORDS_[2n3906]', 0.013986392680680934),\n",
       " (u'TAB_e2_NEIGHBOR_PHRASE_WORDS_[2n3906]', 0.012220912832687711),\n",
       " (u'TAB_e1_CONTAINS_WORDS_[2N3906]', 0.009943724610096563),\n",
       " (u'TAB_e2_LEFT_WORDS_[mmbt3906]', 0.009918931759600402),\n",
       " (u'TAB_e2_LEFT_WORDS_[pzt3906]', 0.009918931759600402),\n",
       " (u'TAB_e1_HTML_TAG_td', 0.009173026320397518),\n",
       " (u'TAB_e1_HTML_ANC_TAG_[html]', 0.009173026320397518),\n",
       " (u'TAB_e1_HTML_ANC_TAG_[table]', 0.009173026320397518),\n",
       " (u'TAB_e1_HTML_ANC_TAG_[body]', 0.009173026320397518),\n",
       " (u'TAB_e1_COL_SPAN_[1]', 0.009173026320397518),\n",
       " (u'TAB_e1_HTML_ANC_TAG_[tr]', 0.009173026320397518),\n",
       " (u'TAB_e1_ROW_SPAN_[1]', 0.009173026320397518),\n",
       " (u'TAB_e2_NEIGHBOR_PHRASE_WORDS_[/ mmbt3906]', 0.008258659423826038),\n",
       " (u'TAB_e2_NEIGHBOR_PHRASE_WORDS_[/]', 0.008258659423826038),\n",
       " (u'TAB_e2_NEIGHBOR_PHRASE_WORDS_[2n3906 /]', 0.008258659423826038),\n",
       " (u'TAB_e2_NEIGHBOR_PHRASE_WORDS_[mmbt3906 /]', 0.008258659423826038),\n",
       " (u'TAB_e2_NEIGHBOR_PHRASE_WORDS_[/ pzt3906]', 0.008258659423826038),\n",
       " (u'TAB_e2_NEIGHBOR_PHRASE_WORDS_[mmbt3906]', 0.008153451911607058),\n",
       " (u'TAB_e2_NEIGHBOR_PHRASE_WORDS_[pzt3906]', 0.008153451911607058),\n",
       " (u'TAB_e2_LEFT_WORDS_[/ pzt3906]', 0.007998481471321234),\n",
       " (u'TAB_e2_LEFT_WORDS_[2n3906 /]', 0.007998481471321234),\n",
       " (u'TAB_e2_LEFT_WORDS_[mmbt3906 /]', 0.007998481471321234),\n",
       " (u'TAB_e2_LEFT_WORDS_[/ mmbt3906]', 0.007998481471321234),\n",
       " (u'TAB_e2_LEFT_WORDS_[pzt3906 --]', 0.007998481471321234),\n",
       " (u'TAB_e2_LEFT_WORDS_[/]', 0.007998481471321234),\n",
       " (u'TAB_e2_LEFT_WORDS_[--]', 0.007998481471321234),\n",
       " (u'TAB_e2_RIGHT_WORDS_[silicon]', 0.007378313080572519),\n",
       " (u'TAB_e1_LEFT_WORDS_[2n3906]', 0.006950376621685785),\n",
       " (u'TAB_e2_NEIGHBOR_PHRASE_WORDS_[description]', 0.006338209135545717),\n",
       " (u'TAB_e1_RIGHT_WORDS_[general-purpose]', 0.006150124503361969),\n",
       " (u'TAB_e1_RIGHT_WORDS_[pnp]', 0.0060482839711823635),\n",
       " (u'TAB_e1_NEIGHBOR_PHRASE_WORDS_[amplifier]', 0.005322998072717943),\n",
       " (u'TAB_e1_NEIGHBOR_PHRASE_WORDS_[general-purpose amplifier]',\n",
       "  0.005322998072717943),\n",
       " (u'TAB_e1_NEIGHBOR_PHRASE_WORDS_[general-purpose]', 0.005322998072717943),\n",
       " (u'TAB_e1_RIGHT_WORDS_[pzt3906]', 0.005220872933474646),\n",
       " (u'TAB_e1_RIGHT_WORDS_[pnp general-purpose]', 0.0051633715056705436),\n",
       " (u'TAB_e1_COL_NUM_[0]', 0.005104865148848122),\n",
       " (u'TAB_e1_COL_WORDS_[2n3906]', 0.004484804188725623),\n",
       " (u'TAB_e1_ROW_WORDS_[2000]', 0.004432756506579541),\n",
       " (u'TAB_e1_LEFT_WORDS_[mmbt3906]', 0.004427458029339631),\n",
       " (u'TDL_SEQ-BETWEEN[LEN:0-4]', 0.00412805876332822),\n",
       " (u'TAB_e2_NEIGHBOR_PHRASE_WORDS_[(]', 0.004012788012296999),\n",
       " (u'TAB_e2_NEIGHBOR_PHRASE_WORDS_[)]', 0.004012788012296999),\n",
       " (u'TAB_e2_LEFT_WORDS_[-]', 0.003988911375609605),\n",
       " (u'TAB_e1_NEIGHBOR_PHRASE_WORDS_[pnp]', 0.003953420240670721),\n",
       " (u'TAB_e1_RIGHT_WORDS_[--]', 0.0036875951777458247),\n",
       " (u'TAB_e1_RIGHT_WORDS_[-- pnp]', 0.0036875951777458247),\n",
       " (u'TAB_e1_CONTAINS_WORDS_[PZT3906]', 0.003681906817745182),\n",
       " (u'TAB_e1_ROW_WORDS_[tape]', 0.0035801235234554757),\n",
       " (u'TAB_e1_RIGHT_WORDS_[general-purpose amplifier]', 0.003351882771377492),\n",
       " (u'TAB_e1_RIGHT_WORDS_[amplifier]', 0.003351882771377492),\n",
       " (u'TAB_e1_RIGHT_WORDS_[/]', 0.003331737687724572),\n",
       " (u'TAB_e1_RIGHT_WORDS_[/ pzt3906]', 0.003331737687724572),\n",
       " (u'TAB_e2_NEIGHBOR_PHRASE_WORDS_[general]', 0.0033108521594920367),\n",
       " (u'TAB_e2_NEIGHBOR_PHRASE_WORDS_[transistors]', 0.0033108521594920367),\n",
       " (u'TAB_e2_NEIGHBOR_PHRASE_WORDS_[purpose]', 0.0033108521594920367),\n",
       " (u'TAB_e2_NEIGHBOR_PHRASE_WORDS_[features]', 0.0033108521594920367),\n",
       " (u'TAB_e2_NEIGHBOR_PHRASE_WORDS_[general purpose]', 0.0033108521594920367),\n",
       " (u'TAB_e2_NEIGHBOR_PHRASE_WORDS_[purpose transistors]',\n",
       "  0.0033108521594920367),\n",
       " (u'TAB_e1_LEFT_WORDS_[/]', 0.0031271467820024406),\n",
       " (u'TAB_e1_LEFT_WORDS_[2n3906 /]', 0.0031271467820024406),\n",
       " (u'TAB_e1_NEIGHBOR_PHRASE_WORDS_[10]', 0.0031070050854304586),\n",
       " (u'TAB_e1_NEIGHBOR_PHRASE_WORDS_[pnp general-purpose]', 0.003042187215982454),\n",
       " (u'TAB_e1_NEIGHBOR_PHRASE_WORDS_[.]', 0.0030111921937458286),\n",
       " (u'TDL_LEMMA:PARENTS-OF-BETWEEN-MENTION-and-MENTION[None]',\n",
       "  0.002773047579550967),\n",
       " (u'TAB_e1_RIGHT_WORDS_[mmbt3906]', 0.0026979543411285198),\n",
       " (u'TAB_e1_ROW_WORDS_[to]', 0.0025642163880659216),\n",
       " (u'TAB_e1_ROW_WORDS_[92]', 0.0025642163880659216),\n",
       " (u'TAB_e1_COL_HEAD_WORDS_[device]', 0.0025642163880659216),\n",
       " (u'TAB_e1_COL_WORDS_[device]', 0.0025642163880659216),\n",
       " (u'TAB_e1_ROW_WORDS_[to \\u2212]', 0.0025642163880659216),\n",
       " (u'TAB_e1_ROW_HEAD_WORDS_[\\u2212]', 0.0025642163880659216),\n",
       " (u'TAB_e1_ROW_WORDS_[\\u2212]', 0.0025642163880659216),\n",
       " (u'TAB_e1_ROW_HEAD_WORDS_[\\u2212 92]', 0.0025642163880659216),\n",
       " (u'TAB_e1_ROW_WORDS_[\\u2212 92]', 0.0025642163880659216),\n",
       " (u'TAB_e1_ROW_HEAD_WORDS_[to]', 0.0025642163880659216),\n",
       " (u'TAB_e1_ROW_HEAD_WORDS_[92]', 0.0025642163880659216),\n",
       " (u'TAB_e1_ROW_WORDS_[/]', 0.0025642163880659216),\n",
       " (u'TAB_e1_ROW_HEAD_WORDS_[to \\u2212]', 0.0025642163880659216),\n",
       " (u'TAB_e1_ROW_WORDS_[3l]', 0.002462252472514598),\n",
       " (u'TDL_DEP_LABEL:BETWEEN-MENTION-and-MENTION[ROOT]', 0.002433891816822204),\n",
       " (u'TAB_e1_NEIGHBOR_PHRASE_WORDS_[(]', 0.0021601671576217713),\n",
       " (u'TAB_e1_NEIGHBOR_PHRASE_WORDS_[)]', 0.0021601671576217713),\n",
       " (u'TAB_e1_COL_WORDS_[2n3906rlrmg]', 0.0021533407625560423),\n",
       " (u'TAB_e1_COL_WORDS_[2n3906rlrpg]', 0.002153340762556042),\n",
       " (u'TAB_e1_COL_WORDS_[2n3906rl1g]', 0.0021525261553548163),\n",
       " (u'TAB_e1_COL_WORDS_[2n3906rlrag]', 0.0021517148270241925),\n",
       " (u'TAB_e2_NEIGHBOR_PHRASE_WORDS_[dimensions]', 0.0021324879609151788),\n",
       " (u'TAB_e2_NEIGHBOR_PHRASE_WORDS_[physical]', 0.0021324879609151788),\n",
       " (u'TAB_e2_NEIGHBOR_PHRASE_WORDS_[physical dimensions]',\n",
       "  0.0021324879609151788),\n",
       " (u'TAB_e1_COL_WORDS_[2n3906rlrm]', 0.002085814393879834),\n",
       " (u'TAB_e1_COL_WORDS_[2n3906rlrp]', 0.0020850574637597914),\n",
       " (u'TAB_e1_COL_WORDS_[2n3906rl1]', 0.002084892172822413),\n",
       " (u'TAB_e1_COL_WORDS_[2n3906rlra]', 0.002084302439932768),\n",
       " (u'TAB_e1_COL_WORDS_[2n3906g]', 0.0020837872446006996),\n",
       " (u'TAB_e2_NEIGHBOR_PHRASE_WORDS_[.]', 0.0020803291054398224),\n",
       " (u'TAB_e2_LEFT_WORDS_[2n3906 -]', 0.0020684610873305045),\n",
       " (u'TAB_e2_LEFT_WORDS_[,]', 0.0020684610873305045),\n",
       " (u'TAB_e2_LEFT_WORDS_[transistors]', 0.0020684610873305045),\n",
       " (u'TAB_e2_LEFT_WORDS_[purpose transistors]', 0.0020684610873305045),\n",
       " (u'TAB_e2_LEFT_WORDS_[general]', 0.0020684610873305045),\n",
       " (u'TAB_e2_LEFT_WORDS_[general purpose]', 0.0020684610873305045),\n",
       " (u'TAB_e2_LEFT_WORDS_[transistors ,]', 0.0020684610873305045),\n",
       " (u'TAB_e2_LEFT_WORDS_[purpose]', 0.0020684610873305045),\n",
       " (u'TAB_e2_LEFT_WORDS_[- general]', 0.0020684610873305045),\n",
       " (u'TAB_e1_ROW_WORDS_[to-92]', 0.001996677378064802),\n",
       " (u'TAB_e1_ROW_WORDS_[to-92 3l]', 0.001996677378064802),\n",
       " (u'TAB_e2_NEIGHBOR_PHRASE_WORDS_[characteristics]', 0.0019437134825143327),\n",
       " (u'TDL_INV_LEMMA:PARENTS-OF-BETWEEN-MENTION-and-MENTION[None]',\n",
       "  0.0019356191187589983),\n",
       " (u'TDL_INV_DEP_LABEL:BETWEEN-MENTION-and-MENTION[ROOT]',\n",
       "  0.0019356191187589983),\n",
       " (u'TDL_INV_BETWEEN-MENTION-and-MENTION[LEN:0-2]', 0.0019356191187589983),\n",
       " (u'TAB_e1_SPAN_TYPE_[IMPLICIT]', 0.001891314197849941),\n",
       " (u'TAB_e1_ROW_WORDS_[reel]', 0.0018008113539434462),\n",
       " (u'TAB_e1_RIGHT_WORDS_[mmbt3906 /]', 0.0017778439984603561),\n",
       " (u'TAB_e1_RIGHT_WORDS_[/ mmbt3906]', 0.0017778439984603561),\n",
       " (u'TAB_e1_ROW_HEAD_WORDS_[)]', 0.001754900773667081),\n",
       " (u'TAB_e1_ROW_WORDS_[(]', 0.001754900773667081),\n",
       " (u'TAB_e1_ROW_HEAD_WORDS_[(]', 0.001754900773667081),\n",
       " (u'TAB_e1_ROW_WORDS_[)]', 0.001754900773667081),\n",
       " (u'TDL_INV_SEQ-BETWEEN[LEN:0-4]', 0.0016247498764462),\n",
       " (u'TAB_e1_NEIGHBOR_PHRASE_WORDS_[2n3906]', 0.0016219372697157655),\n",
       " (u'TAB_e1_ROW_WORDS_[ammo]', 0.0016185496202223329),\n",
       " (u'TAB_e1_CONTAINS_WORDS_[MMBT3906]', 0.001602678616437538),\n",
       " (u'TAB_e1_LEFT_WORDS_[mmbt3906 /]', 0.001573253092738176),\n",
       " (u'TAB_e1_LEFT_WORDS_[/ mmbt3906]', 0.001573253092738176),\n",
       " (u'TAB_e1_ROW_WORDS_[/ tape]', 0.0015637422928919198),\n",
       " (u'TAB_e1_ROW_WORDS_[&]', 0.0015637422928919198),\n",
       " (u'TAB_e1_ROW_WORDS_[tape &]', 0.0015637422928919198),\n",
       " (u'TAB_e1_ROW_WORDS_[2000 /]', 0.0015637422928919198),\n",
       " (u'TDL_BETWEEN-MENTION-and-MENTION[LEN:0-2]', 0.0014945697026460614),\n",
       " (u'TAB_e1_RIGHT_WORDS_[pzt3906 --]', 0.0013490504163755509),\n",
       " (u'TAB_e1_ROW_NUM_[1]', 0.0012752365352652515),\n",
       " (u'TDL_INV_LEMMA:SEQ-BETWEEN[/]', 0.0009411172798215342),\n",
       " (u'TDL_INV_DEP_LABEL|LEMMA:BETWEEN-MENTION-and-MENTION[ROOT|2n3906]',\n",
       "  0.0009411172798215342),\n",
       " (u'TDL_INV_LEMMA:BETWEEN-MENTION-and-MENTION[2n3906]', 0.0009411172798215342),\n",
       " (u'TAB_e2_NEIGHBOR_PHRASE_WORDS_[continued]', 0.0008959821470721433),\n",
       " (u'TAB_e2_NEIGHBOR_PHRASE_WORDS_[continued )]', 0.0008959821470721433),\n",
       " (u'TAB_e2_NEIGHBOR_PHRASE_WORDS_[( continued]', 0.0008959821470721433),\n",
       " (u'TAB_e1_NEIGHBOR_PHRASE_WORDS_[t]', 0.0008881272493882026),\n",
       " (u'TAB_e2_NEIGHBOR_PHRASE_WORDS_[performance characteristics]',\n",
       "  0.000855395323648782),\n",
       " (u'TAB_e2_NEIGHBOR_PHRASE_WORDS_[performance]', 0.000855395323648782),\n",
       " (u'TAB_e2_NEIGHBOR_PHRASE_WORDS_[typical performance]', 0.000855395323648782),\n",
       " (u'TAB_e2_NEIGHBOR_PHRASE_WORDS_[typical]', 0.000855395323648782),\n",
       " (u'TAB_e1_LEFT_WORDS_[2n3906 mmbt3906]', 0.0008552051028519181),\n",
       " (u'TAB_e1_NEIGHBOR_PHRASE_WORDS_[k]', 0.0008261942286952645),\n",
       " (u'TAB_e1_RIGHT_WORDS_[*]', 0.0008261942286952645),\n",
       " (u'TAB_e1_RIGHT_WORDS_[pf]', 0.0008261942286952645),\n",
       " (u'TAB_e1_RIGHT_WORDS_[<]', 0.0008261942286952645),\n",
       " (u'TAB_e1_RIGHT_WORDS_[4]', 0.0008261942286952645),\n",
       " (u'TAB_e1_RIGHT_WORDS_[< 4]', 0.0008261942286952645),\n",
       " (u'TAB_e1_NEIGHBOR_PHRASE_WORDS_[10 k]', 0.0008261942286952645),\n",
       " (u'TAB_e1_RIGHT_WORDS_[pf *]', 0.0008261942286952645),\n",
       " (u'TDL_LEMMA:RIGHT-OF-MENTION[c]', 0.0008261942286952645),\n",
       " (u'TAB_e1_RIGHT_WORDS_[4 pf]', 0.0008261942286952645),\n",
       " (u'TDL_LEMMA:SEQ-BETWEEN[pzt3906]', 0.0007398790090325013),\n",
       " (u'TAB_e1_NEIGHBOR_PHRASE_WORDS_[and]', 0.0007136188489632582),\n",
       " (u'TAB_e1_ROW_WORDS_[2n3906]', 0.0006774152662285921),\n",
       " (u'TAB_e1_ROW_HEAD_WORDS_[2n3906]', 0.0006774152662285921),\n",
       " (u'TAB_e1_NEIGHBOR_PHRASE_WORDS_[characteristics]', 0.0006342439754949568),\n",
       " (u'TAB_e2_NEIGHBOR_PHRASE_WORDS_[current]', 0.0006166891590418512),\n",
       " (u'TAB_e2_NEIGHBOR_PHRASE_WORDS_[current gain]', 0.0006166891590418512),\n",
       " (u'TAB_e2_NEIGHBOR_PHRASE_WORDS_[gain]', 0.0006166891590418512),\n",
       " (u'TAB_e1_NEIGHBOR_PHRASE_WORDS_[dimensions]', 0.0005871791441761646),\n",
       " (u'TAB_e1_NEIGHBOR_PHRASE_WORDS_[physical]', 0.0005871791441761646),\n",
       " (u'TAB_e1_NEIGHBOR_PHRASE_WORDS_[physical dimensions]',\n",
       "  0.0005871791441761646),\n",
       " (u'TAB_e1_NEIGHBOR_PHRASE_WORDS_[april]', 0.0005796578903666801),\n",
       " (u'TAB_e1_NEIGHBOR_PHRASE_WORDS_[2014]', 0.0005796578903666801),\n",
       " (u'TAB_e1_NEIGHBOR_PHRASE_WORDS_[april 2014]', 0.0005796578903666801),\n",
       " (u'TAB_e2_NEIGHBOR_PHRASE_WORDS_[,]', 0.0005645303035664115),\n",
       " (u'TAB_e2_NEIGHBOR_PHRASE_WORDS_[:]', 0.0005645303035664115),\n",
       " (u'TAB_e1_COL_HEAD_WORDS_[part]', 0.000541648927032442),\n",
       " (u'TAB_e1_COL_HEAD_WORDS_[part number]', 0.000541648927032442),\n",
       " (u'TAB_e1_COL_WORDS_[part number]', 0.000541648927032442),\n",
       " (u'TAB_e1_COL_WORDS_[number]', 0.000541648927032442),\n",
       " (u'TAB_e1_COL_HEAD_WORDS_[number]', 0.000541648927032442),\n",
       " (u'TAB_e1_COL_WORDS_[part]', 0.000541648927032442),\n",
       " (u'TAB_e1_NEIGHBOR_PHRASE_WORDS_[,]', 0.000540902780425497),\n",
       " (u'TDL_LEMMA:LEFT-OF-MENTION[/]', 0.0005200763291058858),\n",
       " (u'TAB_e1_NEIGHBOR_PHRASE_WORDS_[--]', 0.0004635294918664526),\n",
       " (u'TAB_e1_NEIGHBOR_PHRASE_WORDS_[mmbt3906 /]', 0.0004635294918664526),\n",
       " (u'TAB_e1_NEIGHBOR_PHRASE_WORDS_[-- pnp]', 0.0004635294918664526),\n",
       " (u'TAB_e1_NEIGHBOR_PHRASE_WORDS_[/ mmbt3906]', 0.0004635294918664526),\n",
       " (u'TAB_e1_NEIGHBOR_PHRASE_WORDS_[/ pzt3906]', 0.0004635294918664526),\n",
       " (u'TAB_e1_NEIGHBOR_PHRASE_WORDS_[pzt3906 --]', 0.0004635294918664526),\n",
       " (u'TAB_e1_NEIGHBOR_PHRASE_WORDS_[/]', 0.0004635294918664526),\n",
       " (u'TAB_e1_NEIGHBOR_PHRASE_WORDS_[2n3906 /]', 0.0004635294918664526),\n",
       " (u'TAB_e1_COL_WORDS_[3906]', 0.0004416329186189533),\n",
       " (u'TAB_e1_COL_HEAD_WORDS_[marking]', 0.0004416329186189533),\n",
       " (u'TAB_e1_COL_WORDS_[marking]', 0.0004416329186189533),\n",
       " (u'TAB_e1_COL_WORDS_[2a]', 0.0004416329186189533),\n",
       " (u'TAB_e1_COL_NUM_[1]', 0.0004416329186189533),\n",
       " (u'TDL_LEMMA:SEQ-BETWEEN[mmbt3906]', 0.00041477000893802297),\n",
       " (u'TAB_e1_NEIGHBOR_PHRASE_WORDS_[for]', 0.00041263514215438446),\n",
       " (u'TAB_e1_COL_WORDS_[2n3906tfr]', 0.00037192198712220943),\n",
       " (u'TAB_e1_COL_WORDS_[2n3906tf]', 0.00037154446570941306),\n",
       " (u'TAB_e1_NEIGHBOR_PHRASE_WORDS_[c]', 0.0003437440436786831),\n",
       " (u'TAB_e1_NEIGHBOR_PHRASE_WORDS_[( continued]', 0.00030600118492569685),\n",
       " (u'TAB_e1_NEIGHBOR_PHRASE_WORDS_[continued )]', 0.00030600118492569685),\n",
       " (u'TAB_e1_NEIGHBOR_PHRASE_WORDS_[continued]', 0.00030600118492569685),\n",
       " (u'TAB_e1_NEIGHBOR_PHRASE_WORDS_[at collector]', 0.00028181102298575244),\n",
       " (u'TAB_e1_NEIGHBOR_PHRASE_WORDS_[amplifier and]', 0.00028181102298575244),\n",
       " (u'TAB_e1_NEIGHBOR_PHRASE_WORDS_[collector currents]',\n",
       "  0.00028181102298575244),\n",
       " (u'TAB_e1_NEIGHBOR_PHRASE_WORDS_[at]', 0.00028181102298575244),\n",
       " (u'TAB_e1_NEIGHBOR_PHRASE_WORDS_[currents]', 0.00028181102298575244),\n",
       " (u'TAB_e1_NEIGHBOR_PHRASE_WORDS_[of]', 0.00028181102298575244),\n",
       " (u'TAB_e1_NEIGHBOR_PHRASE_WORDS_[for general-purpose]',\n",
       "  0.00028181102298575244),\n",
       " (u'TAB_e1_NEIGHBOR_PHRASE_WORDS_[ma]', 0.00028181102298575244),\n",
       " (u'TAB_e1_NEIGHBOR_PHRASE_WORDS_[device]', 0.00028181102298575244),\n",
       " (u'TAB_e1_NEIGHBOR_PHRASE_WORDS_[ma to]', 0.00028181102298575244),\n",
       " (u'TAB_e1_NEIGHBOR_PHRASE_WORDS_[this device]', 0.00028181102298575244),\n",
       " (u'TAB_e1_NEIGHBOR_PHRASE_WORDS_[is]', 0.00028181102298575244),\n",
       " (u'TAB_e1_NEIGHBOR_PHRASE_WORDS_[100 ma]', 0.00028181102298575244),\n",
       " (u'TAB_e1_NEIGHBOR_PHRASE_WORDS_[to 100]', 0.00028181102298575244),\n",
       " (u'TAB_e1_NEIGHBOR_PHRASE_WORDS_[this]', 0.00028181102298575244),\n",
       " (u'TAB_e1_NEIGHBOR_PHRASE_WORDS_[and switching]', 0.00028181102298575244),\n",
       " (u'TAB_e1_NEIGHBOR_PHRASE_WORDS_[switching]', 0.00028181102298575244),\n",
       " (u'TAB_e1_NEIGHBOR_PHRASE_WORDS_[applications]', 0.00028181102298575244),\n",
       " (u'TAB_e1_NEIGHBOR_PHRASE_WORDS_[to]', 0.00028181102298575244),\n",
       " (u'TAB_e1_NEIGHBOR_PHRASE_WORDS_[applications at]', 0.00028181102298575244),\n",
       " (u'TAB_e1_NEIGHBOR_PHRASE_WORDS_[device is]', 0.00028181102298575244),\n",
       " (u'TAB_e1_NEIGHBOR_PHRASE_WORDS_[collector]', 0.00028181102298575244),\n",
       " (u'TAB_e1_NEIGHBOR_PHRASE_WORDS_[designed for]', 0.00028181102298575244),\n",
       " (u'TAB_e1_NEIGHBOR_PHRASE_WORDS_[is designed]', 0.00028181102298575244),\n",
       " (u'TAB_e1_NEIGHBOR_PHRASE_WORDS_[of 10]', 0.00028181102298575244),\n",
       " (u'TAB_e1_NEIGHBOR_PHRASE_WORDS_[10 ma]', 0.00028181102298575244),\n",
       " (u'TAB_e1_NEIGHBOR_PHRASE_WORDS_[switching applications]',\n",
       "  0.00028181102298575244),\n",
       " (u'TAB_e1_NEIGHBOR_PHRASE_WORDS_[ma .]', 0.00028181102298575244),\n",
       " (u'TAB_e1_NEIGHBOR_PHRASE_WORDS_[currents of]', 0.00028181102298575244),\n",
       " (u'TAB_e1_NEIGHBOR_PHRASE_WORDS_[designed]', 0.00028181102298575244),\n",
       " (u'TAB_e1_NEIGHBOR_PHRASE_WORDS_[100]', 0.00028181102298575244),\n",
       " (u'TAB_e1_COL_WORDS_[2n3906tar]', 0.0001710271120240169),\n",
       " (u'TAB_e1_COL_WORDS_[2n3906ta]', 0.00017099477510673284),\n",
       " (u'TDL_INV_LEMMA:SEQ-BETWEEN[mmbt3906]', 0.00015381534684641876),\n",
       " (u'TAB_e1_ROW_WORDS_[bulk]', 0.00012813725955144082),\n",
       " (u'TAB_e1_ROW_HEAD_WORDS_[free]', 0.00012737235448812305),\n",
       " (u'TAB_e1_ROW_HEAD_WORDS_[pb]', 0.00012737235448812305),\n",
       " (u'TAB_e1_ROW_HEAD_WORDS_[pb \\u2212]', 0.00012737235448812305),\n",
       " (u'TAB_e1_ROW_WORDS_[\\u2212 free]', 0.00012737235448812305),\n",
       " (u'TAB_e1_ROW_HEAD_WORDS_[( pb]', 0.00012737235448812305),\n",
       " (u'TAB_e1_ROW_WORDS_[free]', 0.00012737235448812305),\n",
       " (u'TAB_e1_ROW_WORDS_[free )]', 0.00012737235448812305),\n",
       " (u'TAB_e1_ROW_WORDS_[pb]', 0.00012737235448812305),\n",
       " (u'TAB_e1_ROW_WORDS_[( pb]', 0.00012737235448812305),\n",
       " (u'TAB_e1_ROW_WORDS_[pb \\u2212]', 0.00012737235448812305),\n",
       " (u'TAB_e1_ROW_HEAD_WORDS_[free )]', 0.00012737235448812305),\n",
       " (u'TAB_e1_ROW_HEAD_WORDS_[\\u2212 free]', 0.00012737235448812305),\n",
       " (u'TAB_e1_COL_WORDS_[mmbt3906]', 7.607383258266262e-05),\n",
       " (u'TAB_e1_COL_WORDS_[2n3906bu]', 6.771183575384562e-05),\n",
       " (u'TAB_e2_NEIGHBOR_PHRASE_WORDS_[absolute]', 2.948787260936182e-05),\n",
       " (u'TAB_e2_NEIGHBOR_PHRASE_WORDS_[absolute maximum]', 2.948787260936182e-05),\n",
       " (u'TAB_e2_NEIGHBOR_PHRASE_WORDS_[maximum ratings]', 2.948787260936182e-05),\n",
       " (u'TAB_e2_NEIGHBOR_PHRASE_WORDS_[maximum]', 2.948787260936182e-05),\n",
       " (u'TAB_e2_NEIGHBOR_PHRASE_WORDS_[( 1]', 2.948787260936182e-05),\n",
       " (u'TAB_e2_NEIGHBOR_PHRASE_WORDS_[ratings]', 2.948787260936182e-05),\n",
       " (u'TAB_e2_NEIGHBOR_PHRASE_WORDS_[1 )]', 2.948787260936182e-05),\n",
       " (u'TAB_e2_NEIGHBOR_PHRASE_WORDS_[1]', 2.948787260936182e-05),\n",
       " (u'TAB_e2_NEIGHBOR_PHRASE_WORDS_[ratings (]', 2.948787260936182e-05),\n",
       " (u'TAB_e2_NEIGHBOR_PHRASE_WORDS_[2500]', 2.948787260936182e-05),\n",
       " (u'TAB_e1_COL_WORDS_[pzt3906]', 2.161972014616085e-05),\n",
       " (u'TAB_e1_ROW_WORDS_[and reel]', 1.73813968140329e-05),\n",
       " (u'TAB_e1_ROW_WORDS_[tape and]', 1.73813968140329e-05),\n",
       " (u'TAB_e1_ROW_WORDS_[and]', 1.73813968140329e-05)]"
      ]
     },
     "execution_count": 32,
     "metadata": {},
     "output_type": "execute_result"
    }
   ],
   "source": [
    "print disc_model.get_feature_weights(F_dev)"
   ]
  },
  {
   "cell_type": "code",
   "execution_count": null,
   "metadata": {
    "collapsed": false
   },
   "outputs": [
    {
     "name": "stdout",
     "output_type": "stream",
     "text": [
      "Entity: (5 matches)\n",
      "(u'112823', u'BC548A', u'NPN')\n",
      "\n",
      "Candidate:\n",
      "Part_Polarity(ImplicitSpan(\"BC548A\", parent=3200, words=[11,13], position=[1]), Span(\"NPN\", parent=16, chars=[0,2], words=[0,0]))\n",
      "\n",
      "Score:\n",
      "> /Users/bradenhancock/snorkel/snorkel/learning.py(343)get_candidate_feature_weights()\n",
      "-> return sorted([(f.name, w) for (f, w) in self.feature_weights if f in feats],\n",
      "(Pdb) print feats\n",
      "set([u'TAB_e2_NEIGHBOR_PHRASE_WORDS_[amplifier]', u'TAB_e1_ROW_WORDS_[\\u2212]', u'TAB_e2_HTML_TAG_html', u'TAB_e1_COL_WORDS_[5.0]', u'TAB_e1_COL_NUM_[0]', u'TAB_e2_RIGHT_WORDS_[silicon]', u'TDL_INV_LEMMA:PARENTS-OF-BETWEEN-MENTION-and-MENTION[None]', u'TAB_e1_COL_WORDS_[)]', u'TAB_e1_HTML_ANC_TAG_[table]', u'TAB_e2_SPAN_TYPE_[EXPLICIT]', u'TAB_e1_COL_INFERRED_WORDS_[(]', u'TAB_e1_SPAN_TYPE_[IMPLICIT]', u'TAB_e1_CELL_WORDS_[(]', u'TAB_e1_ROW_WORDS_[(]', u'TAB_e1_HTML_ANC_TAG_[tr]', u'TAB_e1_HTML_ANC_TAG_[html]', u'TAB_e1_ROW_SPAN_[1]', u'TAB_e1_HTML_ANC_TAG_[body]', u'TAB_e1_ROW_INFERRED_WORDS_[(]', u'TDL_INV_DEP_LABEL:BETWEEN-MENTION-and-MENTION[dep]', u'TAB_e1_HTML_TAG_td', u'TAB_e2_NEIGHBOR_PHRASE_WORDS_[transistors]', u'TAB_e2_NEIGHBOR_PHRASE_WORDS_[features]', u'TDL_INV_DEP_LABEL:BETWEEN-MENTION-and-MENTION[ROOT]', u'TAB_e1_COL_WORDS_[(]', u'TAB_e1_CELL_WORDS_[)]', u'TAB_e1_ROW_WORDS_[)]', u'TAB_e1_COL_SPAN_[1]'])\n"
     ]
    }
   ],
   "source": [
    "from hardware_utils import entity_to_candidates\n",
    "\n",
    "entity = FP_list[0]\n",
    "matches = entity_to_candidates(entity, fp)\n",
    "print \"Entity: (%d matches)\" % len(matches)\n",
    "print entity\n",
    "\n",
    "candidate = matches[0]\n",
    "print \"\\nCandidate:\"\n",
    "print candidate\n",
    "\n",
    "print \"\\nScore:\"\n",
    "print disc_model.get_candidate_score(candidate, F_dev)\n",
    "\n",
    "print \"\\nFeatures:\"\n",
    "pprint(disc_model.get_candidate_feature_weights(candidate, F_dev))"
   ]
  },
  {
   "cell_type": "code",
   "execution_count": null,
   "metadata": {
    "collapsed": false
   },
   "outputs": [],
   "source": [
    "from hardware_utils import part_error_analysis\n",
    "part_error_analysis(candidate)"
   ]
  },
  {
   "cell_type": "code",
   "execution_count": null,
   "metadata": {
    "collapsed": true
   },
   "outputs": [],
   "source": [
    "import os\n",
    "os.system('cp snorkel.db snorkel.db\\ final');"
   ]
  }
 ],
 "metadata": {
  "anaconda-cloud": {},
  "kernelspec": {
   "display_name": "Python [default]",
   "language": "python",
   "name": "python2"
  },
  "language_info": {
   "codemirror_mode": {
    "name": "ipython",
    "version": 2
   },
   "file_extension": ".py",
   "mimetype": "text/x-python",
   "name": "python",
   "nbconvert_exporter": "python",
   "pygments_lexer": "ipython2",
   "version": "2.7.10"
  }
 },
 "nbformat": 4,
 "nbformat_minor": 1
}
