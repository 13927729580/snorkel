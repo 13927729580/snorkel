{
 "cells": [
  {
   "cell_type": "code",
   "execution_count": 1,
   "metadata": {
    "collapsed": true
   },
   "outputs": [],
   "source": [
    "%load_ext autoreload\n",
    "%autoreload 2"
   ]
  },
  {
   "cell_type": "code",
   "execution_count": 2,
   "metadata": {
    "collapsed": true
   },
   "outputs": [],
   "source": [
    "config = {\n",
    "    'domain': 'spouse', # NOTE: hardcode below still\n",
    "#     'db_name': 'babble_spouse_demo',\n",
    "#     'babbler_candidate_split': 1,\n",
    "#     'babbler_label_split': 1,\n",
    "}"
   ]
  },
  {
   "cell_type": "code",
   "execution_count": 3,
   "metadata": {
    "collapsed": false
   },
   "outputs": [
    {
     "name": "stdout",
     "output_type": "stream",
     "text": [
      "$SNORKELDB = sqlite:///babble_spouse.db\n"
     ]
    }
   ],
   "source": [
    "# Get DB connection string and add to globals\n",
    "# NOTE: $SNORKELDB must be set before any snorkel imports\n",
    "import os\n",
    "\n",
    "default_db_name = 'babble_' + config['domain'] + ('_debug' if config.get('debug', False) else '')\n",
    "DB_NAME = config.get('db_name', default_db_name)\n",
    "if 'postgres' in config and config['postgres']:\n",
    "    DB_TYPE = 'postgres'\n",
    "else:\n",
    "    DB_TYPE = 'sqlite'\n",
    "    DB_NAME += '.db'\n",
    "DB_ADDR = \"localhost:{0}\".format(config['db_port']) if 'db_port' in config else \"\"\n",
    "os.environ['SNORKELDB'] = '{0}://{1}/{2}'.format(DB_TYPE, DB_ADDR, DB_NAME)\n",
    "print(\"$SNORKELDB = {0}\".format(os.environ['SNORKELDB']))"
   ]
  },
  {
   "cell_type": "code",
   "execution_count": 4,
   "metadata": {
    "collapsed": false
   },
   "outputs": [
    {
     "name": "stdout",
     "output_type": "stream",
     "text": [
      "Overwriting domain=None to domain=spouse\n",
      "Overwriting print_freq=1 to print_freq=5\n",
      "Overwriting LF_acc_prior_weight_default=1.0 to LF_acc_prior_weight_default=0.5\n",
      "Overwriting decay=0.95 to decay=0.99\n",
      "Overwriting init_class_prior=0 to init_class_prior=-1.15\n",
      "Overwriting reg_param=0.1 to reg_param=0.5\n",
      "Overwriting babbler_candidate_split=1 to babbler_candidate_split=[0, 1, 2]\n",
      "Overwriting disc_model_class=lstm to disc_model_class=logreg\n"
     ]
    }
   ],
   "source": [
    "from snorkel import SnorkelSession\n",
    "session = SnorkelSession()\n",
    "\n",
    "# Resolve config conflicts (nb_config > local_config > global_config)\n",
    "from snorkel.contrib.babble.pipelines import merge_configs, get_local_pipeline\n",
    "config = merge_configs(config)\n",
    "\n",
    "from snorkel.models import candidate_subclass\n",
    "candidate_class = candidate_subclass(config['candidate_name'], config['candidate_entities'])"
   ]
  },
  {
   "cell_type": "code",
   "execution_count": 5,
   "metadata": {
    "collapsed": true
   },
   "outputs": [],
   "source": [
    "# user_lists = {\n",
    "#     'spouse':  ['spouse', 'wife', 'husband', 'ex-wife', 'ex-husband'],\n",
    "#     'family':  ['father', 'father', 'mother', 'sister', 'sisters', \n",
    "#                 'brother', 'brothers', 'son', 'sons', 'daughter', 'daughters',\n",
    "#                 'grandfather', 'grandmother', 'uncle', 'uncles', 'aunt', 'aunts', \n",
    "#                 'cousin', 'cousins'],\n",
    "#     'other':  ['boyfriend', 'girlfriend', 'boss', 'employee', 'secretary', 'co-worker']}"
   ]
  },
  {
   "cell_type": "code",
   "execution_count": 6,
   "metadata": {
    "collapsed": false
   },
   "outputs": [],
   "source": [
    "# import os\n",
    "# import bz2\n",
    "# import cPickle\n",
    "\n",
    "# ctd_pickle_path = os.path.join(os.environ['SNORKELHOME'], \n",
    "#                                'tutorials/cdr/data/ctd.pkl.bz2') \n",
    "# print('Loading canonical ID ontologies...')\n",
    "# with bz2.BZ2File(ctd_pickle_path, 'rb') as ctd_f:\n",
    "#     ctd_unspecified, ctd_therapy, ctd_marker = cPickle.load(ctd_f)\n",
    "# print('Finished loading canonical ID ontologies.')\n",
    "\n",
    "# user_lists = {\n",
    "#     'uncertain': ['combin', 'possible', 'unlikely'],\n",
    "#     'causal': ['causes', 'caused', 'induce', 'induces', 'induced', 'associated with'],\n",
    "#     'treat': ['treat', 'effective', 'prevent', 'resistant', 'slow', 'promise', 'therap'],\n",
    "#     'procedure': ['inject', 'administrat'],\n",
    "#     'patient': ['in a patient with', 'in patients with'],\n",
    "#     'weak': ['none', 'although', 'was carried out', 'was conducted', 'seems', \n",
    "#              'suggests', 'risk', 'implicated', 'the aim', 'to investigate',\n",
    "#              'to assess', 'to study'],\n",
    "#     'ctd_unspecified': ctd_unspecified,\n",
    "#     'ctd_therapy': ctd_therapy,\n",
    "#     'ctd_marker': ctd_marker,\n",
    "# }"
   ]
  },
  {
   "cell_type": "code",
   "execution_count": 7,
   "metadata": {
    "collapsed": true
   },
   "outputs": [],
   "source": [
    "user_lists = {}"
   ]
  },
  {
   "cell_type": "code",
   "execution_count": 8,
   "metadata": {
    "collapsed": false
   },
   "outputs": [
    {
     "name": "stdout",
     "output_type": "stream",
     "text": [
      "Created grammar with 596 rules\n"
     ]
    }
   ],
   "source": [
    "from snorkel.contrib.babble import SemanticParser\n",
    "semparser = SemanticParser(\n",
    "    mode='text', candidate_class=candidate_class, user_lists=user_lists, beam_width=10)"
   ]
  },
  {
   "cell_type": "code",
   "execution_count": 9,
   "metadata": {
    "collapsed": false
   },
   "outputs": [],
   "source": [
    "from snorkel.contrib.babble import Explanation\n",
    "\n",
    "explanations = [\n",
    "    Explanation(\n",
    "        name='LF1',\n",
    "        condition=\"\"\"person2 occurs in a phrase surrounded by quotes\"\"\",\n",
    "        candidate='2a339c82-5086-40e8-91ba-e705418acc0d::span:2635:2636~~2a339c82-5086-40e8-91ba-e705418acc0d::span:2668:2683',\n",
    "        label=False,\n",
    "        semantics=None), # TBD\n",
    "]"
   ]
  },
  {
   "cell_type": "code",
   "execution_count": 10,
   "metadata": {
    "collapsed": false
   },
   "outputs": [
    {
     "name": "stdout",
     "output_type": "stream",
     "text": [
      "27688\n",
      "Building list of target candidate ids...\n",
      "Collected 1 unique target candidate ids from 1 explanations.\n",
      "Gathering desired candidates...\n",
      "Found 1/1 desired candidates\n",
      "Linking explanations to candidates...\n",
      "Linked 1/1 explanations\n"
     ]
    }
   ],
   "source": [
    "from snorkel.contrib.babble import link_explanation_candidates\n",
    "\n",
    "candidates = session.query(candidate_class).all()\n",
    "print(len(candidates))\n",
    "explanations = link_explanation_candidates(explanations, candidates)"
   ]
  },
  {
   "cell_type": "code",
   "execution_count": 11,
   "metadata": {
    "collapsed": false,
    "scrolled": false
   },
   "outputs": [
    {
     "name": "stdout",
     "output_type": "stream",
     "text": [
      "[========================================] 100%\n",
      "\n",
      "0\n"
     ]
    }
   ],
   "source": [
    "parses = semparser.parse(explanations, return_parses=True)\n",
    "print(len(parses))"
   ]
  },
  {
   "cell_type": "code",
   "execution_count": null,
   "metadata": {
    "collapsed": false,
    "scrolled": false
   },
   "outputs": [],
   "source": [
    "c = parses[0].explanation.candidate\n",
    "print(c[0].get_span(), c[1].get_span())\n",
    "print(c.get_parent().text)\n",
    "print(\"\")\n",
    "\n",
    "for parse in parses:\n",
    "    if parse.function(parse.explanation.candidate):\n",
    "        print(semparser.grammar.translate(parse.semantics))\n",
    "        print(\"\")\n",
    "        print(parse.semantics)\n",
    "    else:\n",
    "        print(\"FAIL!\")\n",
    "    print(\"\")"
   ]
  },
  {
   "cell_type": "code",
   "execution_count": null,
   "metadata": {
    "collapsed": false
   },
   "outputs": [],
   "source": [
    "# semparser.grammar.print_chart()"
   ]
  },
  {
   "cell_type": "code",
   "execution_count": null,
   "metadata": {
    "collapsed": true
   },
   "outputs": [],
   "source": []
  }
 ],
 "metadata": {
  "kernelspec": {
   "display_name": "Python 2",
   "language": "python",
   "name": "python2"
  },
  "language_info": {
   "codemirror_mode": {
    "name": "ipython",
    "version": 2
   },
   "file_extension": ".py",
   "mimetype": "text/x-python",
   "name": "python",
   "nbconvert_exporter": "python",
   "pygments_lexer": "ipython2",
   "version": "2.7.14"
  }
 },
 "nbformat": 4,
 "nbformat_minor": 2
}
