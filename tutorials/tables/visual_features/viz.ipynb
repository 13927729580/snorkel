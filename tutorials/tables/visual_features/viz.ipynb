{
 "cells": [
  {
   "cell_type": "markdown",
   "metadata": {},
   "source": [
    "# Adding Visual Features"
   ]
  },
  {
   "cell_type": "code",
   "execution_count": 1,
   "metadata": {
    "collapsed": false,
    "scrolled": true
   },
   "outputs": [
    {
     "name": "stdout",
     "output_type": "stream",
     "text": [
      "The autoreload extension is already loaded. To reload it, use:\n",
      "  %reload_ext autoreload\n"
     ]
    }
   ],
   "source": [
    "%load_ext autoreload\n",
    "%autoreload 2\n",
    "\n",
    "import os\n",
    "# os.remove('snorkel.db')\n",
    "\n",
    "import sys\n",
    "sys.path.append(os.environ['SNORKELHOME'] + '/tutorials/tables/')\n",
    "\n",
    "from snorkel import SnorkelSession\n",
    "session = SnorkelSession()\n",
    "\n",
    "from pdb import set_trace as t"
   ]
  },
  {
   "cell_type": "markdown",
   "metadata": {},
   "source": [
    "### Step 1: PDF to HTML Conversion"
   ]
  },
  {
   "cell_type": "markdown",
   "metadata": {},
   "source": [
    "Use Adobe Acrobat (or other program of your choice) to convert PDF -> HTML with structure."
   ]
  },
  {
   "cell_type": "code",
   "execution_count": 2,
   "metadata": {
    "collapsed": true
   },
   "outputs": [],
   "source": [
    "from visual_linking import VisualLinker\n",
    "vizlink = VisualLinker(session)"
   ]
  },
  {
   "cell_type": "markdown",
   "metadata": {},
   "source": [
    "### Step 2: Parse PDF"
   ]
  },
  {
   "cell_type": "code",
   "execution_count": 3,
   "metadata": {
    "collapsed": true
   },
   "outputs": [],
   "source": [
    "pdf_path = os.environ['SNORKELHOME'] + '/tutorials/tables/data/hardware/hardware100_pdf/'\n",
    "filename = 'bc546-d'\n",
    "pdf_file = pdf_path + filename + '.pdf' # Path to PDF file "
   ]
  },
  {
   "cell_type": "code",
   "execution_count": 4,
   "metadata": {
    "collapsed": false,
    "scrolled": true
   },
   "outputs": [
    {
     "name": "stdout",
     "output_type": "stream",
     "text": [
      "Extracted 2690 pdf words\n",
      "CPU times: user 308 ms, sys: 29.8 ms, total: 338 ms\n",
      "Wall time: 595 ms\n"
     ]
    }
   ],
   "source": [
    "%time vizlink.extract_pdf_words(pdf_file)"
   ]
  },
  {
   "cell_type": "code",
   "execution_count": 5,
   "metadata": {
    "collapsed": false
   },
   "outputs": [
    {
     "name": "stdout",
     "output_type": "stream",
     "text": [
      "[((1, 0), u'BC546B'),\n",
      " ((1, 0.5), u','),\n",
      " ((1, 1), u'BC547A'),\n",
      " ((1, 1.5), u','),\n",
      " ((1, 2), u'B')]\n",
      "[((3, 271), (3, 645, 325, 653, 332)),\n",
      " ((4, 135), (4, 638, 314, 645, 322)),\n",
      " ((5, 31), (5, 138, 434, 148, 451)),\n",
      " ((6, 167), (6, 349, 367, 355, 385)),\n",
      " ((1, 215), (1, 575, 453, 584, 460))]\n"
     ]
    }
   ],
   "source": [
    "from pprint import pprint\n",
    "\n",
    "pprint(vizlink.pdf_word_list[:5])\n",
    "pprint(vizlink.coordinate_map.items()[:5])"
   ]
  },
  {
   "cell_type": "markdown",
   "metadata": {},
   "source": [
    "### Step 3: Parse HTML"
   ]
  },
  {
   "cell_type": "code",
   "execution_count": 6,
   "metadata": {
    "collapsed": false,
    "scrolled": true
   },
   "outputs": [],
   "source": [
    "# from snorkel.parser import CorpusParser\n",
    "# from snorkel.parser import HTMLParser\n",
    "# from snorkel.parser import OmniParser\n",
    "\n",
    "# html_path = os.environ['SNORKELHOME'] + '/tutorials/tables/data/hardware/hardware100_html/'\n",
    "# filename = 'bc546-d'\n",
    "# html_file = html_path + filename + '.html'\n",
    "# doc_parser = HTMLParser(path=html_file)\n",
    "# context_parser = OmniParser()\n",
    "# cp = CorpusParser(doc_parser, context_parser, max_docs=100) \n",
    "\n",
    "# %time corpus = cp.parse_corpus(name='Hardware', session=session)\n",
    "\n",
    "import os\n",
    "from snorkel.models import Corpus\n",
    "from snorkel.utils import get_ORM_instance\n",
    "\n",
    "os.system('cp snorkel.db\\ corpus snorkel.db');\n",
    "corpus = get_ORM_instance(Corpus, session, 'Hardware')"
   ]
  },
  {
   "cell_type": "code",
   "execution_count": 7,
   "metadata": {
    "collapsed": false
   },
   "outputs": [
    {
     "name": "stdout",
     "output_type": "stream",
     "text": [
      "Extracted 2662 html words\n",
      "CPU times: user 61.1 ms, sys: 6.62 ms, total: 67.7 ms\n",
      "Wall time: 66.5 ms\n"
     ]
    }
   ],
   "source": [
    "%time vizlink.extract_html_words(corpus.documents[0])"
   ]
  },
  {
   "cell_type": "code",
   "execution_count": 8,
   "metadata": {
    "collapsed": false
   },
   "outputs": [
    {
     "name": "stdout",
     "output_type": "stream",
     "text": [
      "[((2, 0), u'BC546'),\n",
      " ((2, 1), u'-'),\n",
      " ((2, 2), u'NPN'),\n",
      " ((2, 3), u'Amplifier'),\n",
      " ((2, 4), u'Transistors')]\n"
     ]
    }
   ],
   "source": [
    "from pprint import pprint\n",
    "pprint(vizlink.html_word_list[:5])"
   ]
  },
  {
   "cell_type": "markdown",
   "metadata": {},
   "source": [
    "### Step 4: Visual Linking"
   ]
  },
  {
   "cell_type": "code",
   "execution_count": 9,
   "metadata": {
    "collapsed": false
   },
   "outputs": [
    {
     "name": "stdout",
     "output_type": "stream",
     "text": [
      "Linked 2662 words to 2690 bounding boxes\n",
      "Updated coordinates in snorkel.db\n",
      "CPU times: user 1.54 s, sys: 30.5 ms, total: 1.57 s\n",
      "Wall time: 1.59 s\n"
     ]
    }
   ],
   "source": [
    "%time vizlink.link_lists(searchMax=200)"
   ]
  },
  {
   "cell_type": "code",
   "execution_count": 10,
   "metadata": {
    "collapsed": false
   },
   "outputs": [
    {
     "name": "stdout",
     "output_type": "stream",
     "text": [
      "[((2, 0), (1, 31)),\n",
      " ((2, 1), (1, 23.5)),\n",
      " ((2, 2), (1, 8)),\n",
      " ((2, 3), (1, 6)),\n",
      " ((2, 4), (1, 7))]\n"
     ]
    }
   ],
   "source": [
    "pprint(vizlink.links.items()[:5])"
   ]
  },
  {
   "cell_type": "code",
   "execution_count": 11,
   "metadata": {
    "collapsed": false
   },
   "outputs": [
    {
     "name": "stdout",
     "output_type": "stream",
     "text": [
      "Phrase(Doc: bc546-d, Table: 0, Row: 1, Col: 0, Position: 0, Text: Collector - Emitter Voltage)\n",
      "1\n",
      "(268, 268, 268, 268)\n",
      "(277, 277, 277, 277)\n",
      "(64, 99, 105, 133)\n",
      "(96, 102, 130, 160)\n"
     ]
    }
   ],
   "source": [
    "phrase = corpus.documents[0].phrases[15]\n",
    "print phrase\n",
    "print phrase.page\n",
    "print phrase.top\n",
    "print phrase.bottom\n",
    "print phrase.left\n",
    "print phrase.right"
   ]
  },
  {
   "cell_type": "code",
   "execution_count": 19,
   "metadata": {
    "collapsed": false,
    "scrolled": false
   },
   "outputs": [
    {
     "name": "stdout",
     "output_type": "stream",
     "text": [
      "       i               html                pdf    j  offset\n",
      "0      0              BC546              BC546   42      -5\n",
      "1      1                  -                  -   36      -5\n",
      "2      2                NPN                NPN   13      14\n",
      "3      3          Amplifier          Amplifier   11      14\n",
      "4      4        Transistors        Transistors   12      14\n",
      "5      5             BC546B             BC546B    0      13\n",
      "6      6                  ,                  ,    9      12\n",
      "7      7             BC547A             BC547A    2      10\n",
      "8      8                  ,                  ,    9      10\n",
      "9      9                  B                  B    4       5\n",
      "10    10                  ,                  ,    5       6\n",
      "11    11                  C                  C    6       6\n",
      "12    12                  ,                  ,    7       7\n",
      "13    13             BC548B             BC548B    8       7\n",
      "14    14                  ,                  ,    7       8\n",
      "15    15                  C                  C   10       8\n",
      "16    16          Amplifier          Amplifier   11       9\n",
      "17    17        Transistors        Transistors   12      11\n",
      "18    18                NPN                NPN   13      12\n",
      "19    19            Silicon            Silicon   14      13\n",
      "20    20           Features           Features   15      14\n",
      "21    21            Pb-Free            Pb−Free   19      19\n",
      "22    22           Packages           Packages   20      15\n",
      "23    23                are                are   21      16\n",
      "24    24          Available          Available   22      21\n",
      "25    25                  *                  *   23      22\n",
      "26    26  http://onsemi.com  http://onsemi.com   16      22\n",
      "27    27          COLLECTOR          COLLECTOR   24      23\n",
      "28    28                  1                  1   25      24\n",
      "29    29            MAXIMUM            MAXIMUM   26      25\n",
      "30    30            RATINGS            RATINGS   27      26\n",
      "31    31                  2                  2   28      27\n",
      "32    32               BASE               BASE   33      28\n",
      "33    33             Rating             Rating   29      29\n",
      "34    34             Symbol             Symbol   30      30\n",
      "35    35              Value              Value   31      31\n",
      "36    36               Unit               Unit   32      32\n",
      "37    37          Collector          Collector   34      32\n",
      "38    38                  -                  -   36      33\n",
      "39    39            Emitter            Emitter   37      35\n",
      "40    40            Voltage            Voltage   38      37\n",
      "41    41                  V                  V   39      38\n",
      "42    42                CEO                CEO   41      39\n",
      "43    43                 65                 65   43      40\n",
      "44    44                Vdc                Vdc   40      41\n",
      "45    45              BC546              BC546   42      42\n",
      "46    46              BC547              BC547   45      43\n",
      "47    47                 45                 45   46      44\n",
      "48    48              BC548              BC548   48      46\n",
      "49    49                 30                 30   49      47\n",
      "50    50          Collector          Collector   50      49\n",
      "51    51                  -                  -   52      50\n",
      "52    52               Base               Base   53      51\n",
      "53    53            Voltage            Voltage   54      53\n",
      "54    54                  V                  V   55      54\n",
      "55    55                CBO                CBO   57      55\n",
      "56    56                 80                 80   59      56\n",
      "57    57                Vdc                Vdc   56      57\n",
      "58    58              BC546              BC546   58      58\n",
      "59    59              BC547              BC547   60      59\n",
      "60    60                 50                 50   61      60\n",
      "61    61              BC548              BC548   62      61\n",
      "62    62                 30                 30   63      62\n",
      "63    63            Emitter            Emitter   65      63\n",
      "64    64                  -                  -   67      64\n",
      "65    65               Base               Base   68      66\n",
      "66    66            Voltage            Voltage   69      68\n",
      "67    67                  V                  V   70      69\n",
      "68    68                EBO                EBO   73      70\n",
      "69    69                6.0                6.0   71      71\n",
      "70    70                Vdc                Vdc   72      72\n",
      "71    71          Collector          Collector   78      73\n",
      "72    72            Current            Current   79      74\n",
      "73    73                  -                  -   67      73\n",
      "74    74         Continuous         Continuous   82      79\n",
      "75    75                  I                  I   83      80\n",
      "76    76                  C                  C   86      83\n",
      "77    77                100                100   84      84\n",
      "78    78               mAdc               mAdc   85      85\n",
      "79    79              Total              Total   87      86\n",
      "80    80             Device             Device   88      87\n",
      "81    81        Dissipation        Dissipation   89      88\n",
      "82    82                  @                  @   91      89\n",
      "83    83                  T                  T   92      90\n",
      "84    84                  A                  A   99      92\n",
      "85    85                  =                  =   94      93\n",
      "86    86                 25                625   97      97\n",
      "87    87                  %                      93      93\n",
      "88    88                  C                  C   86      92\n",
      "89    89                  P                  P   96      92\n",
      "90    90                  D                  D  100      92\n",
      "91    91                625                625   97      97\n",
      "92    92                 mW                 mW   98      98\n",
      "93    93             Derate             Derate  103      99\n",
      "94    94              above              above  104     101\n",
      "95    95                 25                625   97      97\n",
      "96    96                  %                  1  101     101\n",
      "97    97                  C                  C   86     101\n",
      "98    98                5.0                5.0  106     101\n",
      "99    99                 mW                 mW   98      99\n",
      "100  100                  /                  A   99      99\n",
      "101  101                  %                  A   99      99\n",
      "102  102                  C                  C   86      99\n",
      "103  103              Total              Total  111      99\n",
      "104  104             Device             Device   88      98\n",
      "105  105        Dissipation        Dissipation   89      90\n",
      "106  106                  @                  @   91      90\n",
      "107  107                  T                  T   92      92\n",
      "108  108                  C                  C   86      90\n",
      "109  109                  =                  =   94      92\n",
      "110  110                 25                625   97      97\n",
      "111  111                  %                  T   92      92\n",
      "112  112                  C                  C   86      90\n",
      "113  113                  P                  P   96      92\n",
      "114  114                  D                  D  100      92\n",
      "115  115                1.5                1.5  121      97\n",
      "116  116                  W                  W  122     101\n",
      "117  117             Derate             Derate  103     104\n",
      "118  118              above              above  104     105\n",
      "119  119                 25                  2  108     108\n",
      "120  120                  %                  2  108     108\n",
      "121  121                  C                  C  123     105\n",
      "122  122                 12                 12  102     105\n",
      "123  123                 mW                 mW   98     103\n",
      "124  124                  /                  1  101     101\n",
      "125  125                  %                  1  101     101\n",
      "126  126                  C                  C   86     101\n",
      "127  127          Operating          Operating  138     101\n",
      "128  128                and                and  139     122\n",
      "129  129            Storage            Storage  140     139\n",
      "130  130           Junction           Junction  141     140\n",
      "131  131        Temperature        Temperature  152     141\n",
      "132  132              Range              Range  153     142\n",
      "133  133                  T                  T  142     143\n",
      "134  134                  J                  J  150     151\n",
      "135  135                  ,                  ,  144     151\n",
      "136  136                  T                  T  145     146\n",
      "137  137                stg                stg  151     146\n",
      "138  138                  -                  -   67     146\n",
      "139  139                 55                −55  146     146\n",
      "140  140                 to                 to  147     148\n",
      "141  141               +150               +150  148     149\n",
      "142  142                  %                  J  150     150\n",
      "143  143                  C                  C  123     149\n",
      "144  144                  3                  3  110     148\n",
      "145  145            EMITTER                  T  145     145\n",
      "146  146                 TO                  T  145     145\n",
      "147  147                  -                  -   67     124\n",
      "148  148                 92                 12  132     132\n",
      "149  149               CASE               CASE   74     124\n",
      "150  150                 29                 29   75      76\n",
      "151  151              STYLE              STYLE   76      76\n",
      "152  152                 17                 17   77      77\n",
      "153  153                  1                  1  101      77\n",
      "154  154                  2                  2  108      78\n",
      "155  155                  1                  1  101     102\n",
      "156  156                  2                  2  108     102\n",
      "157  157                  3                  3  109     109\n",
      "158  158                  3                  3  109     109\n",
      "159  159           STRAIGHT           STRAIGHT  125     110\n",
      "160  160               LEAD               LEAD  126     110\n",
      "161  161               BENT               BENT  127     126\n",
      "162  162               LEAD               LEAD  126     127\n",
      "163  163               TAPE               TAPE  134     127\n",
      "164  164                  &                  &  136     128\n",
      "165  165               REEL               REEL  137     135\n",
      "166  166            THERMAL            THERMAL  154     137\n",
      "167  167    CHARACTERISTICS    CHARACTERISTICS  155     138\n",
      "168  168     Characteristic     Characteristic  158     155\n",
      "169  169             Symbol             Symbol  159     156\n",
      "170  170                Max                Max  160     159\n",
      "171  171               Unit               Unit  161     160\n",
      "172  172            Thermal            Thermal  162     161\n",
      "173  173         Resistance         Resistance  163     162\n",
      "174  174                  ,                  ,  164     163\n",
      "175  175           Junction           Junction  141     163\n",
      "176  176                  -                  -   67     163\n",
      "177  177                 to                 to  147     148\n",
      "178  178                  -                  -   67     142\n",
      "179  179            Ambient                and  139     139\n",
      "180  180                  R                  R  167     148\n",
      "181  181                  8                  8  232     165\n",
      "182  182                 JA                qJA  170     170\n",
      "183  183                200                200  166     167\n",
      "184  184                  %                  R  167     167\n",
      "185  185                C/W               °C/W  168     168\n",
      "186  186            Thermal            Thermal  172     167\n",
      "187  187         Resistance         Resistance  163     167\n",
      "188  188                  ,                  ,  164     165\n",
      "189  189           Junction           Junction  141     165\n",
      "190  190                  -                  -   67     164\n",
      "191  191                 to                 to  147     148\n",
      "192  192                  -                  -   67     142\n",
      "193  193               Case                and  139     139\n",
      "194  194                  R                  R  167     148\n",
      "195  195                  8                  8  232     165\n",
      "196  196                 JC                 BC  169     169\n",
      "197  197               83.3               83.3  177     168\n",
      "198  198                  %                  R  167     167\n",
      "199  199                C/W               °C/W  168     168\n"
     ]
    }
   ],
   "source": [
    "import pandas as pd\n",
    "def print_full(x):\n",
    "    pd.set_option('display.max_rows', len(x))\n",
    "    print(x)\n",
    "    pd.reset_option('display.max_rows')\n",
    "\n",
    "matches = vizlink.display_links()\n",
    "print_full(matches[:200])"
   ]
  },
  {
   "cell_type": "markdown",
   "metadata": {},
   "source": [
    "### Step 5: Viewing Results"
   ]
  },
  {
   "cell_type": "code",
   "execution_count": 13,
   "metadata": {
    "collapsed": false
   },
   "outputs": [
    {
     "name": "stdout",
     "output_type": "stream",
     "text": [
      "Extracting Candidates from Corpus (Hardware)\n",
      "[========================================] 100%\n",
      "CPU times: user 978 ms, sys: 11.5 ms, total: 989 ms\n",
      "Wall time: 1 s\n",
      "Candidate Set (Hardware Candidates) contains 275 Candidates\n"
     ]
    }
   ],
   "source": [
    "import os\n",
    "from collections import defaultdict\n",
    "from snorkel.models import Corpus, candidate_subclass\n",
    "from snorkel.matchers import RegexMatchSpan, Union\n",
    "from snorkel.candidates import CandidateExtractor\n",
    "from snorkel.utils import get_ORM_instance\n",
    "from hardware_utils import OmniNgramsPart, OmniNgramsTemp, get_gold_dict\n",
    "\n",
    "# Candidate Type\n",
    "Part_Temp = candidate_subclass('Part_Temp', ['part','temp'])\n",
    "    \n",
    "# CandidateSpaces\n",
    "part_ngrams = OmniNgramsPart(parts_by_doc=None, n_max=3) # NOTE: no part linking right now\n",
    "temp_ngrams = OmniNgramsTemp(n_max=2)\n",
    "\n",
    "# Matchers\n",
    "eeca_matcher = RegexMatchSpan(rgx='([b]{1}[abcdefklnpqruyz]{1}[\\swxyz]?[0-9]{3,5}[\\s]?[A-Z\\/]{0,5}[0-9]?[A-Z]?([-][A-Z0-9]{1,7})?([-][A-Z0-9]{1,2})?)')\n",
    "jedec_matcher = RegexMatchSpan(rgx='([123]N\\d{3,4}[A-Z]{0,5}[0-9]?[A-Z]?)')\n",
    "jis_matcher = RegexMatchSpan(rgx='(2S[abcdefghjkmqrstvz]{1}[\\d]{2,4})')\n",
    "others_matcher = RegexMatchSpan(rgx='((NSVBC|SMBT|MJ|MJE|MPS|MRF|RCA|TIP|ZTX|ZT|TIS|TIPL|DTC|MMBT|PZT){1}[\\d]{2,4}[A-Z]{0,3}([-][A-Z0-9]{0,6})?([-][A-Z0-9]{0,1})?)')\n",
    "parts_matcher = Union(eeca_matcher, jedec_matcher, jis_matcher, others_matcher)\n",
    "\n",
    "temp_matcher = RegexMatchSpan(rgx=r'1[4-6]0', longest_match_only=False)\n",
    "\n",
    "# Throttler\n",
    "part_throttler = lambda x: x[0].parent.page == x[1].parent.page\n",
    "\n",
    "# Extractor\n",
    "ce = CandidateExtractor(Part_Temp, \n",
    "                        [part_ngrams, temp_ngrams], \n",
    "                        [parts_matcher, temp_matcher], \n",
    "                        throttler=part_throttler)\n",
    "\n",
    "# Extract\n",
    "for corpus_name in ['Hardware']:\n",
    "    corpus = get_ORM_instance(Corpus, session, corpus_name)\n",
    "    print \"Extracting Candidates from %s\" % corpus\n",
    "    %time candidates = ce.extract(\\\n",
    "        corpus.documents, corpus_name + ' Candidates', session)\n",
    "    session.add(candidates)\n",
    "    print \"%s contains %d Candidates\" % (candidates, len(candidates))\n",
    "session.commit()"
   ]
  },
  {
   "cell_type": "code",
   "execution_count": 14,
   "metadata": {
    "collapsed": false
   },
   "outputs": [
    {
     "name": "stdout",
     "output_type": "stream",
     "text": [
      "ImplicitSpan(\"BC547A\", parent=1050, words=[11,13], position=[0])\n",
      "30 91\n",
      "11\n",
      "13\n",
      "2\n",
      "[]\n",
      "[]\n",
      "[]\n",
      "[]\n"
     ]
    }
   ],
   "source": [
    "c = candidates[5]\n",
    "print c.part\n",
    "print c.part.char_start, c.part.char_end\n",
    "print c.part.get_word_start()\n",
    "print c.part.get_word_end()\n",
    "print c.part.parent.page\n",
    "print c.part.get_attrib_tokens('top')\n",
    "print c.part.get_attrib_tokens('bottom')\n",
    "print c.part.get_attrib_tokens('left')\n",
    "print c.part.get_attrib_tokens('right')"
   ]
  },
  {
   "cell_type": "code",
   "execution_count": 15,
   "metadata": {
    "collapsed": false,
    "scrolled": true
   },
   "outputs": [
    {
     "name": "stdout",
     "output_type": "stream",
     "text": [
      "Drawn: 9\n",
      "Not drawn: 541\n",
      "Total: 550\n",
      "Boxes per page:\n",
      "Page 1: 46 (9)\n",
      "Page 2: 504 (32)\n"
     ]
    }
   ],
   "source": [
    "vizlink.display_candidates(candidates, page_num=1, display=True)"
   ]
  },
  {
   "cell_type": "code",
   "execution_count": 16,
   "metadata": {
    "collapsed": false
   },
   "outputs": [],
   "source": [
    "# from visual_linking import display_boxes, get_box\n",
    "\n",
    "# boxes = []\n",
    "# for c in candidates:\n",
    "#     boxes.append(get_box(c.part))\n",
    "# boxes = list(set(boxes))\n",
    "# display_boxes(pdf_file, boxes, page_num=2)"
   ]
  },
  {
   "cell_type": "markdown",
   "metadata": {},
   "source": [
    "### Display Ordering of PDF Word List "
   ]
  },
  {
   "cell_type": "markdown",
   "metadata": {},
   "source": [
    "Display Ordering on a black page - Not very easy to display because of superposition"
   ]
  },
  {
   "cell_type": "code",
   "execution_count": 17,
   "metadata": {
    "collapsed": false
   },
   "outputs": [],
   "source": [
    "# import numpy as np\n",
    "# import cv2\n",
    "# import math\n",
    "\n",
    "# page_num = 2\n",
    "# page_height = 792\n",
    "# page_width = 612\n",
    "# img = np.ones((page_height,page_width,3))*255\n",
    "# font = cv2.FONT_HERSHEY_SIMPLEX\n",
    "# letter_width = 3\n",
    "# i = 0\n",
    "# for word_id, _ in pdf_word_list:\n",
    "#     if word_id[0] == page_num:\n",
    "#         i += 1\n",
    "#         _, top, left, bottom, right = coordinate_map[word_id]\n",
    "#         cv2.rectangle(img, (left, top), (right, bottom), (0,255,0), 1)\n",
    "#         cv2.putText(img, \n",
    "#                     str(i), \n",
    "#                     ((left + right)/2 - letter_width*int(math.ceil(math.log10(i))), \n",
    "#                     bottom + (top - bottom)/4), \n",
    "#                     font, \n",
    "#                     0.3, \n",
    "#                     (255,0,0), \n",
    "#                     1)\n",
    "# cv2.imshow('PDF Word List Order',img)\n",
    "# cv2.waitKey() # press any key to exit the opencv output \n",
    "# cv2.destroyAllWindows() "
   ]
  },
  {
   "cell_type": "markdown",
   "metadata": {},
   "source": [
    "The end."
   ]
  }
 ],
 "metadata": {
  "anaconda-cloud": {},
  "kernelspec": {
   "display_name": "Python 2",
   "language": "python",
   "name": "python2"
  },
  "language_info": {
   "codemirror_mode": {
    "name": "ipython",
    "version": 2
   },
   "file_extension": ".py",
   "mimetype": "text/x-python",
   "name": "python",
   "nbconvert_exporter": "python",
   "pygments_lexer": "ipython2",
   "version": "2.7.10"
  }
 },
 "nbformat": 4,
 "nbformat_minor": 1
}
