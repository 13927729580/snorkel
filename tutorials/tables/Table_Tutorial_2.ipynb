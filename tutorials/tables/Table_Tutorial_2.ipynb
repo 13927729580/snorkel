{
 "cells": [
  {
   "cell_type": "markdown",
   "metadata": {},
   "source": [
    "## Part II: `Candidate` Extraction"
   ]
  },
  {
   "cell_type": "code",
   "execution_count": 1,
   "metadata": {
    "collapsed": true
   },
   "outputs": [],
   "source": [
    "# If necessary:\n",
    "import os\n",
    "os.remove('snorkel.db');\n",
    "os.system('cp snorkel.db\\ corpus snorkel.db');"
   ]
  },
  {
   "cell_type": "code",
   "execution_count": 2,
   "metadata": {
    "collapsed": false
   },
   "outputs": [],
   "source": [
    "%load_ext autoreload\n",
    "%autoreload 2\n",
    "\n",
    "from snorkel import SnorkelSession\n",
    "session = SnorkelSession()"
   ]
  },
  {
   "cell_type": "markdown",
   "metadata": {},
   "source": [
    "## Loading the Training `Corpus`\n",
    "\n",
    "First, we will load the `Corpus` that we preprocessed in Part I:"
   ]
  },
  {
   "cell_type": "code",
   "execution_count": 3,
   "metadata": {
    "collapsed": false
   },
   "outputs": [
    {
     "name": "stdout",
     "output_type": "stream",
     "text": [
      "Corpus (Hardware Training) contains 80 Documents\n"
     ]
    }
   ],
   "source": [
    "from snorkel.models import Corpus\n",
    "from snorkel.utils import get_ORM_instance\n",
    "\n",
    "corpus = get_ORM_instance(Corpus, session, 'Hardware Training')\n",
    "print \"%s contains %d Documents\" % (corpus, len(corpus))"
   ]
  },
  {
   "cell_type": "markdown",
   "metadata": {},
   "source": [
    "## Defining a `Candidate` Schema"
   ]
  },
  {
   "cell_type": "code",
   "execution_count": 4,
   "metadata": {
    "collapsed": false
   },
   "outputs": [],
   "source": [
    "from snorkel.models import candidate_subclass\n",
    "\n",
    "Part_Temp = candidate_subclass('Part_Temp', ['part','temp'])"
   ]
  },
  {
   "cell_type": "markdown",
   "metadata": {},
   "source": [
    "## Writing a basic `CandidateExtractor`"
   ]
  },
  {
   "cell_type": "code",
   "execution_count": 5,
   "metadata": {
    "collapsed": false
   },
   "outputs": [],
   "source": [
    "from hardware_utils import OmniNgramsPart, OmniNgramsTemp\n",
    "\n",
    "part_ngrams = OmniNgramsPart(n_max=3, split_tokens=None)\n",
    "temp_ngrams = OmniNgramsTemp(n_max=3, split_tokens=None)"
   ]
  },
  {
   "cell_type": "code",
   "execution_count": 6,
   "metadata": {
    "collapsed": false
   },
   "outputs": [
    {
     "name": "stdout",
     "output_type": "stream",
     "text": [
      "Loaded 1286 part numbers.\n"
     ]
    }
   ],
   "source": [
    "from hardware_utils import load_extended_parts_dict\n",
    "gold_file ='data/hardware/hardware_gold.csv'\n",
    "parts_dict = load_extended_parts_dict(gold_file)\n",
    "print \"Loaded %d part numbers.\" % len(parts_dict)"
   ]
  },
  {
   "cell_type": "code",
   "execution_count": 7,
   "metadata": {
    "collapsed": false
   },
   "outputs": [],
   "source": [
    "from snorkel.matchers import DictionaryMatch, RegexMatchSpan, Union\n",
    "\n",
    "eeca_matcher = RegexMatchSpan(rgx='([b]{1}[abcdefklnpqruyz]{1}[\\swxyz]?[0-9]{3,4}[\\s]?[A-Z]{0,2}[0-9]?([-][A-Z0-9]{1,3})?)')\n",
    "jedec_matcher = RegexMatchSpan(rgx='([123]N\\d{3,4}[A-Z]?)')\n",
    "jis_matcher = RegexMatchSpan(rgx='(2S[abcdefghjkmqrstvz]{1}[\\d]{2,4})')\n",
    "others_matcher = RegexMatchSpan(rgx='((NSVBC|SMBT|MJ|MJE|MPS|MRF|RCA|TIP|ZTX|ZT|TIS|TIPL|DTC|MMBT|PZT){1}[\\d]{2,4}[A-Z]{0,3}([-][A-Z0-9]{0,3})?)')\n",
    "parts_matcher = Union(eeca_matcher, jedec_matcher, jis_matcher, others_matcher)\n",
    "# parts_matcher = DictionaryMatch(d=parts_dict)\n",
    "\n",
    "temp_matcher = RegexMatchSpan(rgx=r'-[5-7][05]')"
   ]
  },
  {
   "cell_type": "code",
   "execution_count": 8,
   "metadata": {
    "collapsed": false
   },
   "outputs": [],
   "source": [
    "from snorkel.candidates import CandidateExtractor\n",
    "\n",
    "ce = CandidateExtractor(Part_Temp, [part_ngrams, temp_ngrams], [parts_matcher, temp_matcher])"
   ]
  },
  {
   "cell_type": "markdown",
   "metadata": {},
   "source": [
    "## Running the `CandidateExtractor`"
   ]
  },
  {
   "cell_type": "code",
   "execution_count": 9,
   "metadata": {
    "collapsed": false,
    "scrolled": false
   },
   "outputs": [
    {
     "name": "stdout",
     "output_type": "stream",
     "text": [
      "[========================================] 100%\n",
      "\n",
      "CPU times: user 1min 12s, sys: 1.38 s, total: 1min 13s\n",
      "Wall time: 1min 16s\n",
      "Candidate Set (Hardware Training Candidates) contains 11549 Candidates\n"
     ]
    }
   ],
   "source": [
    "%time train = ce.extract(corpus.documents, 'Hardware Training Candidates', session)\n",
    "print \"%s contains %d Candidates\" % (train, len(train))"
   ]
  },
  {
   "cell_type": "code",
   "execution_count": 10,
   "metadata": {
    "collapsed": false
   },
   "outputs": [
    {
     "name": "stdout",
     "output_type": "stream",
     "text": [
      "Part_Temp(Span(\"BC807K\", parent=27872, chars=[94,99], words=[5,5]), ImplicitSpan(\"-55\", parent=87287, words=[0,0], position=[0]))\n",
      "Part_Temp(Span(\"BC817K\", parent=27857, chars=[0,5], words=[0,0]), ImplicitSpan(\"-55\", parent=87287, words=[0,0], position=[0]))\n",
      "Part_Temp(Span(\"BC818K\", parent=2149, chars=[9,14], words=[2,2]), ImplicitSpan(\"-55\", parent=87287, words=[0,0], position=[0]))\n"
     ]
    }
   ],
   "source": [
    "for c in train[:3]:\n",
    "    print c"
   ]
  },
  {
   "cell_type": "markdown",
   "metadata": {},
   "source": [
    "### Saving the extracted candidates"
   ]
  },
  {
   "cell_type": "code",
   "execution_count": 11,
   "metadata": {
    "collapsed": false
   },
   "outputs": [],
   "source": [
    "session.add(train)\n",
    "session.commit()"
   ]
  },
  {
   "cell_type": "markdown",
   "metadata": {},
   "source": [
    "### Reloading the candidates"
   ]
  },
  {
   "cell_type": "code",
   "execution_count": 12,
   "metadata": {
    "collapsed": false
   },
   "outputs": [
    {
     "name": "stdout",
     "output_type": "stream",
     "text": [
      "Candidate Set (Hardware Training Candidates) contains 11549 Candidates\n"
     ]
    }
   ],
   "source": [
    "from snorkel.models import CandidateSet\n",
    "from snorkel.utils import get_ORM_instance\n",
    "\n",
    "train = get_ORM_instance(CandidateSet, session, 'Hardware Training Candidates')\n",
    "print \"%s contains %d Candidates\" % (train, len(train))"
   ]
  },
  {
   "cell_type": "markdown",
   "metadata": {},
   "source": [
    "### Repeating for development and test corpora"
   ]
  },
  {
   "cell_type": "code",
   "execution_count": 13,
   "metadata": {
    "collapsed": false
   },
   "outputs": [
    {
     "name": "stdout",
     "output_type": "stream",
     "text": [
      "Extracting Candidates from Corpus (Hardware Development)\n",
      "[========================================] 100%\n",
      "\n",
      "CPU times: user 16.1 s, sys: 302 ms, total: 16.4 s\n",
      "Wall time: 16.8 s\n",
      "Candidate Set (Hardware Development Candidates) contains 3163 Candidates\n"
     ]
    }
   ],
   "source": [
    "for corpus_name in ['Hardware Development']:\n",
    "    corpus = get_ORM_instance(Corpus, session, corpus_name)\n",
    "    print \"Extracting Candidates from %s\" % corpus\n",
    "    %time candidates = ce.extract(corpus.documents, corpus_name + ' Candidates', session)\n",
    "    session.add(candidates)\n",
    "    print \"%s contains %d Candidates\" % (candidates, len(candidates))\n",
    "session.commit()"
   ]
  },
  {
   "cell_type": "code",
   "execution_count": 14,
   "metadata": {
    "collapsed": false
   },
   "outputs": [],
   "source": [
    "# train = get_ORM_instance(Corpus, session, 'Hardware Training')\n",
    "# dev = get_ORM_instance(Corpus, session, 'Hardware Development')\n",
    "# test = get_ORM_instance(Corpus, session, 'Hardware Test')\n",
    "# trainies = [d.name for d in train.documents]\n",
    "# len(trainies)\n",
    "# for d in test.documents:\n",
    "#     if d.name in trainies:\n",
    "#         print 'YES!'\n",
    "# # for d in test.documents[:10]: print d"
   ]
  },
  {
   "cell_type": "markdown",
   "metadata": {},
   "source": [
    "## TEMPORARY - Assessing Total Recall"
   ]
  },
  {
   "cell_type": "code",
   "execution_count": 15,
   "metadata": {
    "collapsed": false
   },
   "outputs": [],
   "source": [
    "from hardware_utils import entity_level_total_recall\n",
    "from snorkel.utils import get_ORM_instance\n",
    "\n",
    "train = session.query(CandidateSet).filter(\n",
    "    CandidateSet.name == 'Hardware Training Candidates').one()\n",
    "dev = session.query(CandidateSet).filter(\n",
    "    CandidateSet.name == 'Hardware Development Candidates').one()\n",
    "total_set = set([])\n",
    "for c in train:\n",
    "    total_set.add(c)\n",
    "for c in dev:\n",
    "    total_set.add(c)"
   ]
  },
  {
   "cell_type": "code",
   "execution_count": 16,
   "metadata": {
    "collapsed": false
   },
   "outputs": [
    {
     "name": "stdout",
     "output_type": "stream",
     "text": [
      "14712\n"
     ]
    }
   ],
   "source": [
    "print len(total_set)"
   ]
  },
  {
   "cell_type": "code",
   "execution_count": 17,
   "metadata": {
    "collapsed": false
   },
   "outputs": [
    {
     "name": "stdout",
     "output_type": "stream",
     "text": [
      "Preparing gold set...\n",
      "Preparing candidates...\n",
      "[========================================] 100%\n",
      "\n",
      "========================================\n",
      "Scoring on Entity-Level Total Recall\n",
      "========================================\n",
      "Entity-level Candidates extracted: 1632 \n",
      "Entity-level Gold: 544\n",
      "Intersection Candidates: 424\n",
      "----------------------------------------\n",
      "Overlap with Gold:  0.78\n",
      "========================================\n",
      "\n"
     ]
    }
   ],
   "source": [
    "# import os\n",
    "gold_file = os.environ['SNORKELHOME'] + '/tutorials/tables/data/hardware/hardware_gold.csv'\n",
    "(tp, fp, fn) = entity_level_total_recall(total_set, gold_file, relation=True)"
   ]
  },
  {
   "cell_type": "code",
   "execution_count": 18,
   "metadata": {
    "collapsed": false,
    "scrolled": true
   },
   "outputs": [
    {
     "name": "stdout",
     "output_type": "stream",
     "text": [
      "-------------------------------\n",
      "('BC546', 'BC548A', '-65')\n",
      "('BC547', 'BC548A', '-65')\n",
      "('BC547', 'BC549A', '-65')\n",
      "('BC547', 'BC550A', '-65')\n",
      "('BC547', 'BC550B', '-65')\n",
      "('BC550', 'BC546A', '-65')\n",
      "('BC550', 'BC546B', '-65')\n",
      "('BC550', 'BC546C', '-65')\n",
      "('BC550', 'BC547A', '-65')\n",
      "('BC550', 'BC547B', '-65')\n",
      "('BC550', 'BC547C', '-65')\n",
      "('BC550', 'BC548A', '-65')\n",
      "('BC550', 'BC548B', '-65')\n",
      "('BC550', 'BC548C', '-65')\n",
      "('BC550', 'BC549A', '-65')\n",
      "('BC550', 'BC549B', '-65')\n",
      "('BC550', 'BC549C', '-65')\n",
      "('BC550', 'BC550A', '-65')\n",
      "('BC550', 'BC550B', '-65')\n",
      "('BC550', 'BC550C', '-65')\n",
      "('BC818', 'BC817-16', '-65')\n",
      "('BC818', 'BC817-25', '-65')\n",
      "('BC818', 'BC817-40', '-65')\n",
      "('BC818', 'BC818-16', '-65')\n",
      "('BC818', 'BC818-25', '-65')\n",
      "('BC818', 'BC818-40', '-65')\n",
      "('CSEMS05382-1', 'BC546A', '-65')\n",
      "('FAIRS19194-1', 'BC856A', '-65')\n",
      "('FAIRS19194-1', 'BC856B', '-65')\n",
      "('FAIRS19194-1', 'BC856C', '-65')\n",
      "('FAIRS19194-1', 'BC857A', '-65')\n",
      "('FAIRS19194-1', 'BC857B', '-65')\n",
      "('FAIRS19194-1', 'BC857C', '-65')\n",
      "('FAIRS19194-1', 'BC858A', '-65')\n",
      "('FAIRS19194-1', 'BC858B', '-65')\n",
      "('FAIRS19194-1', 'BC858C', '-65')\n",
      "('FAIRS19194-1', 'BC859A', '-65')\n",
      "('FAIRS19194-1', 'BC859B', '-65')\n",
      "('FAIRS19194-1', 'BC859C', '-65')\n",
      "('FAIRS19194-1', 'BC860A', '-65')\n",
      "('FAIRS19194-1', 'BC860B', '-65')\n",
      "('FAIRS19194-1', 'BC860C', '-65')\n",
      "('FAIRS25065-1', 'BC237C', '-55')\n",
      "('FAIRS25065-1', 'BC238A', '-55')\n",
      "('FAIRS25065-1', 'BC238B', '-55')\n",
      "('FAIRS25065-1', 'BC238C', '-55')\n",
      "('FAIRS25065-1', 'BC239A', '-55')\n",
      "('FAIRS25065-1', 'BC239B', '-55')\n",
      "('FAIRS25065-1', 'BC239C', '-55')\n",
      "('KECCS05435-1', 'BC546A', '-55')\n",
      "('KECCS05435-1', 'BC546B', '-55')\n",
      "('KECCS05435-1', 'BC547A', '-55')\n",
      "('KECCS05435-1', 'BC547B', '-55')\n",
      "('KECCS05435-1', 'BC547C', '-55')\n",
      "('KECCS05435-1', 'BC548A', '-55')\n",
      "('KECCS05435-1', 'BC548B', '-55')\n",
      "('KECCS05435-1', 'BC548C', '-55')\n",
      "('LITES00689-1', 'BC337-16', '-55')\n",
      "('LITES00689-1', 'BC337-25', '-55')\n",
      "('LITES00689-1', 'BC337-40', '-55')\n",
      "('LITES00690-1', 'BC546A', '-65')\n",
      "('LITES00690-1', 'BC546B', '-65')\n",
      "('LITES00690-1', 'BC546C', '-65')\n",
      "('LITES00690-1', 'BC547A', '-65')\n",
      "('LITES00690-1', 'BC547B', '-65')\n",
      "('LITES00690-1', 'BC547C', '-65')\n",
      "('LITES00690-1', 'BC548A', '-65')\n",
      "('LITES00690-1', 'BC548B', '-65')\n",
      "('LITES00690-1', 'BC548C', '-65')\n",
      "('PJECS00521-1', 'MMBT3904', '-55')\n",
      "('SAMSD00049-518', 'BC546A', '-65')\n",
      "('SAMSD00049-518', 'BC546B', '-65')\n",
      "('SAMSD00049-518', 'BC546C', '-65')\n",
      "('SAMSD00049-518', 'BC547A', '-65')\n",
      "('SAMSD00049-518', 'BC547B', '-65')\n",
      "('SAMSD00049-518', 'BC547C', '-65')\n",
      "('SAMSD00049-518', 'BC548A', '-65')\n",
      "('SAMSD00049-518', 'BC548B', '-65')\n",
      "('SAMSD00049-518', 'BC548C', '-65')\n",
      "('SAMSD00049-518', 'BC549A', '-65')\n",
      "('SAMSD00049-518', 'BC549B', '-65')\n",
      "('SAMSD00049-518', 'BC549C', '-65')\n",
      "('SAMSD00049-518', 'BC550A', '-65')\n",
      "('SAMSD00049-518', 'BC550B', '-65')\n",
      "('SAMSD00049-518', 'BC550C', '-65')\n",
      "('SIEMS01215-1', 'BC856A', '-65')\n",
      "('SIEMS01215-1', 'BC856B', '-65')\n",
      "('SIEMS01215-1', 'BC857A', '-65')\n",
      "('SIEMS01215-1', 'BC857B', '-65')\n",
      "('SIEMS01215-1', 'BC857C', '-65')\n",
      "('SIEMS01215-1', 'BC858A', '-65')\n",
      "('SIEMS01215-1', 'BC858B', '-65')\n",
      "('SIEMS01215-1', 'BC858C', '-65')\n",
      "('SIEMS01215-1', 'BC859A', '-65')\n",
      "('SIEMS01215-1', 'BC859B', '-65')\n",
      "('SIEMS01215-1', 'BC859C', '-65')\n",
      "('SIEMS01215-1', 'BC860B', '-65')\n",
      "('SIEMS01215-1', 'BC860C', '-65')\n",
      "('UTCLS02155-1', 'BC807-16', '-65')\n",
      "('UTCLS02155-1', 'BC807-25', '-65')\n",
      "('UTCLS02155-1', 'BC807-40', '-65')\n",
      "('UTCLS02155-1', 'BC808-16', '-65')\n",
      "('UTCLS02155-1', 'BC808-25', '-65')\n",
      "('UTCLS02155-1', 'BC808-40', '-65')\n",
      "('VISHS23888-1', 'BC546A', '-65')\n",
      "('VISHS23888-1', 'BC546B', '-65')\n",
      "('VISHS23888-1', 'BC547A', '-65')\n",
      "('VISHS23888-1', 'BC547B', '-65')\n",
      "('VISHS23888-1', 'BC547C', '-65')\n",
      "('VISHS23888-1', 'BC548A', '-65')\n",
      "('VISHS23888-1', 'BC548B', '-65')\n",
      "('VISHS23888-1', 'BC548C', '-65')\n",
      "('VISHS23888-1', 'BC549B', '-65')\n",
      "('VISHS23888-1', 'BC549C', '-65')\n",
      "('VSMIS00373-1', 'BC337-16', '-65')\n",
      "('VSMIS00373-1', 'BC337-25', '-65')\n",
      "('VSMIS00373-1', 'BC337-40', '-65')\n",
      "('VSMIS00373-1', 'BC338-16', '-65')\n",
      "('VSMIS00373-1', 'BC338-25', '-65')\n",
      "('VSMIS00373-1', 'BC338-40', '-65')\n"
     ]
    }
   ],
   "source": [
    "# from snorkel.utils import ProgressBar\n",
    "# target = sorted(list(fn))[-1]\n",
    "# print target\n",
    "# print \"-------------------------------\"\n",
    "# pb = ProgressBar(len(candidates))\n",
    "# for i, c in enumerate(list(candidates)[:]):\n",
    "#     pb.bar(i)\n",
    "#     if (c.part.parent.document.name.upper() == target[0].upper())\n",
    "#         and c.part.get_span().upper() == target[1].upper()):\n",
    "#         print c\n",
    "# pb.close()\n",
    "print \"-------------------------------\"\n",
    "for c in sorted(list(fn))[:]:\n",
    "    print c"
   ]
  },
  {
   "cell_type": "code",
   "execution_count": 19,
   "metadata": {
    "collapsed": false
   },
   "outputs": [],
   "source": [
    "# corpus = session.query(Corpus).filter(Corpus.name == 'Hardware').one()\n",
    "\n",
    "# for doc in corpus.documents:\n",
    "#     if doc.name == 'PNJIS00254-1':\n",
    "#         d = doc\n",
    "#         break\n",
    "# print d"
   ]
  },
  {
   "cell_type": "code",
   "execution_count": 20,
   "metadata": {
    "collapsed": false
   },
   "outputs": [],
   "source": [
    "# for phrase in d.phrases:\n",
    "#     if '55' in phrase.words:\n",
    "#         p = phrase\n",
    "#         print p.cell\n",
    "#         import pdb; pdb.set_trace()"
   ]
  },
  {
   "cell_type": "code",
   "execution_count": 21,
   "metadata": {
    "collapsed": false
   },
   "outputs": [],
   "source": [
    "# candies = sorted(candidates, key=lambda x: x[0])"
   ]
  },
  {
   "cell_type": "code",
   "execution_count": 22,
   "metadata": {
    "collapsed": false
   },
   "outputs": [],
   "source": [
    "# from hardware_utils import count_hardware_labels\n",
    "\n",
    "# filename = os.environ['SNORKELHOME'] + '/tutorials/tables/data/hardware/hardware_gold.csv'\n",
    "# %time count_hardware_labels(candidates, filename, attrib='stg_temp_min', attrib_class='temp')"
   ]
  },
  {
   "cell_type": "markdown",
   "metadata": {},
   "source": [
    "## TEMPORARY - Return to Normalcy"
   ]
  },
  {
   "cell_type": "code",
   "execution_count": 23,
   "metadata": {
    "collapsed": true
   },
   "outputs": [],
   "source": [
    "# If necessary\n",
    "import os\n",
    "os.system('cp snorkel.db snorkel.db\\ candidates');"
   ]
  },
  {
   "cell_type": "markdown",
   "metadata": {},
   "source": [
    "Next, in Part 3, we will load `Labels` for each of our `Candidates` so that we can evaluate performance."
   ]
  }
 ],
 "metadata": {
  "anaconda-cloud": {},
  "kernelspec": {
   "display_name": "Python [default]",
   "language": "python",
   "name": "python2"
  },
  "language_info": {
   "codemirror_mode": {
    "name": "ipython",
    "version": 2
   },
   "file_extension": ".py",
   "mimetype": "text/x-python",
   "name": "python",
   "nbconvert_exporter": "python",
   "pygments_lexer": "ipython2",
   "version": "2.7.12"
  }
 },
 "nbformat": 4,
 "nbformat_minor": 0
}
