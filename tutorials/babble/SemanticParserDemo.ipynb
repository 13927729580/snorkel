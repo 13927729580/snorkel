{
 "cells": [
  {
   "cell_type": "code",
   "execution_count": null,
   "metadata": {
    "collapsed": true
   },
   "outputs": [],
   "source": [
    "%load_ext autoreload\n",
    "%autoreload 2"
   ]
  },
  {
   "cell_type": "code",
   "execution_count": null,
   "metadata": {
    "collapsed": true
   },
   "outputs": [],
   "source": [
    "from snorkel.models import candidate_subclass\n",
    "\n",
    "Spouse = candidate_subclass('Spouse', ['person1', 'person2'])\n",
    "ChemicalDisease = candidate_subclass('ChemicalDisease', ['chemical', 'disease'])\n",
    "\n",
    "# candidate_class = Spouse\n",
    "candidate_class = ChemicalDisease"
   ]
  },
  {
   "cell_type": "code",
   "execution_count": null,
   "metadata": {
    "collapsed": true
   },
   "outputs": [],
   "source": [
    "# user_lists = {\n",
    "#     'spouse':  ['spouse', 'wife', 'husband', 'ex-wife', 'ex-husband'],\n",
    "#     'family':  ['father', 'father', 'mother', 'sister', 'sisters', \n",
    "#                 'brother', 'brothers', 'son', 'sons', 'daughter', 'daughters',\n",
    "#                 'grandfather', 'grandmother', 'uncle', 'uncles', 'aunt', 'aunts', \n",
    "#                 'cousin', 'cousins'],\n",
    "#     'other':  ['boyfriend', 'girlfriend', 'boss', 'employee', 'secretary', 'co-worker']}\n",
    "user_lists = {}"
   ]
  },
  {
   "cell_type": "code",
   "execution_count": null,
   "metadata": {
    "collapsed": false
   },
   "outputs": [],
   "source": [
    "from snorkel.contrib.babble import SemanticParser\n",
    "semparser = SemanticParser(\n",
    "    mode='text', candidate_class=candidate_class, user_lists=user_lists, beam_width=10)"
   ]
  },
  {
   "cell_type": "code",
   "execution_count": null,
   "metadata": {
    "collapsed": false
   },
   "outputs": [],
   "source": [
    "from snorkel.contrib.babble import Explanation\n",
    "\n",
    "explanations = [\n",
    "    Explanation(\n",
    "        name='LF_arg_1',\n",
    "        condition=\"\"\"arg 1 is equal to 'Alice'\"\"\",\n",
    "        candidate=('Alice', 'Bob'),\n",
    "        label=False,\n",
    "        semantics=None),\n",
    "    Explanation(\n",
    "        name='LF_arg1',\n",
    "        condition=\"\"\"arg1 is equal to 'Alice'\"\"\",\n",
    "        candidate=('Alice', 'Bob'),\n",
    "        label=False,\n",
    "        semantics=None),    \n",
    "    Explanation(\n",
    "        name='LF_person_1',\n",
    "        condition=\"\"\"Person 1 is equal to 'Alice'\"\"\",\n",
    "        candidate=('Alice', 'Bob'),\n",
    "        label=False,\n",
    "        semantics=None),\n",
    "    Explanation(\n",
    "        name='LF_person_1',\n",
    "        condition=\"\"\"Person1 is equal to 'Alice'\"\"\",\n",
    "        candidate=('Alice', 'Bob'),\n",
    "        label=False,\n",
    "        semantics=None),    \n",
    "    Explanation(\n",
    "        name='LF_person_x',\n",
    "        condition=\"\"\"Person x is equal to 'Alice'\"\"\",\n",
    "        candidate=('Alice', 'Bob'),\n",
    "        label=False,\n",
    "        semantics=None),\n",
    "    Explanation(\n",
    "        name='LF_personx',\n",
    "        condition=\"\"\"PersonX is equal to 'Alice'\"\"\",\n",
    "        candidate=('Alice', 'Bob'),\n",
    "        label=False,\n",
    "        semantics=None),\n",
    "    Explanation(\n",
    "        name='LF_personx',\n",
    "        condition=\"\"\"PersonX is equal to 'Alice'\"\"\",\n",
    "        candidate=('Alice', 'Bob'),\n",
    "        label=False,\n",
    "        semantics=None),       \n",
    "#     Explanation(\n",
    "#         name='LF_spouse_between',\n",
    "#         condition=\"there is a spouse word between arg 1 and arg 2\",\n",
    "#         candidate='2ca6dbbb-870c-4e34-8053-0ac2dbd850f5::span:798:808~~2ca6dbbb-870c-4e34-8053-0ac2dbd850f5::span:839:851',\n",
    "#         label=True,\n",
    "#         semantics=None),      \n",
    "#     Explanation(\n",
    "#         name='LF_no_spouse_in_sentence',\n",
    "#         condition=\"there are no spouse words in the sentence\",\n",
    "#         candidate='d0de6a86-66d5-40e0-b345-6c86d2047c07::span:1634:1638~~d0de6a86-66d5-40e0-b345-6c86d2047c07::span:1650:1659',\n",
    "#         label=False,\n",
    "#         semantics=None),\n",
    "#     Explanation(\n",
    "#         name='LF_married_after',\n",
    "#         condition=\"the word 'and' is between arg 1 and arg 2 and 'married' or 'marriage' is after arg 2\",\n",
    "#         candidate='e522e66f-ad1f-4b8b-a532-4f030a8e7a75::span:4054:4059~~e522e66f-ad1f-4b8b-a532-4f030a8e7a75::span:4085:4091',\n",
    "#         label=True,\n",
    "#         semantics=None),\n",
    "]"
   ]
  },
  {
   "cell_type": "code",
   "execution_count": null,
   "metadata": {
    "collapsed": false,
    "scrolled": false
   },
   "outputs": [],
   "source": [
    "parses = semparser.parse(explanations, return_parses=True)\n",
    "print(len(parses))"
   ]
  },
  {
   "cell_type": "code",
   "execution_count": null,
   "metadata": {
    "collapsed": false,
    "scrolled": true
   },
   "outputs": [],
   "source": [
    "for parse in parses:\n",
    "    print(semparser.grammar.translate(parse.semantics))\n",
    "    #     try:\n",
    "    if not parse.function(parse.explanation.candidate): print(\"FAIL!\")\n",
    "#     except:\n",
    "#         print(\"FAIL! (exception)\")\n",
    "    "
   ]
  },
  {
   "cell_type": "code",
   "execution_count": null,
   "metadata": {
    "collapsed": true
   },
   "outputs": [],
   "source": []
  }
 ],
 "metadata": {
  "kernelspec": {
   "display_name": "Python 2",
   "language": "python",
   "name": "python2"
  },
  "language_info": {
   "codemirror_mode": {
    "name": "ipython",
    "version": 2
   },
   "file_extension": ".py",
   "mimetype": "text/x-python",
   "name": "python",
   "nbconvert_exporter": "python",
   "pygments_lexer": "ipython2",
   "version": "2.7.13"
  }
 },
 "nbformat": 4,
 "nbformat_minor": 2
}
