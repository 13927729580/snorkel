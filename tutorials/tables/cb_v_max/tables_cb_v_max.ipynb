{
 "cells": [
  {
   "cell_type": "markdown",
   "metadata": {},
   "source": [
    "# CB_V_MAX"
   ]
  },
  {
   "cell_type": "markdown",
   "metadata": {},
   "source": [
    "## Setup"
   ]
  },
  {
   "cell_type": "code",
   "execution_count": null,
   "metadata": {
    "collapsed": false
   },
   "outputs": [],
   "source": [
    "# If necessary:\n",
    "import os\n",
    "os.remove('snorkel.db')"
   ]
  },
  {
   "cell_type": "code",
   "execution_count": null,
   "metadata": {
    "collapsed": false
   },
   "outputs": [],
   "source": [
    "%load_ext autoreload\n",
    "%autoreload 2\n",
    "%matplotlib inline\n",
    "\n",
    "import os\n",
    "import sys\n",
    "sys.path.append(os.environ['SNORKELHOME'] + '/tutorials/tables/')"
   ]
  },
  {
   "cell_type": "markdown",
   "metadata": {},
   "source": [
    "## Parsing"
   ]
  },
  {
   "cell_type": "code",
   "execution_count": null,
   "metadata": {
    "collapsed": true
   },
   "outputs": [],
   "source": [
    "from snorkel import SnorkelSession\n",
    "session = SnorkelSession()"
   ]
  },
  {
   "cell_type": "markdown",
   "metadata": {},
   "source": [
    "### Define Parser"
   ]
  },
  {
   "cell_type": "code",
   "execution_count": null,
   "metadata": {
    "collapsed": true
   },
   "outputs": [],
   "source": [
    "import os\n",
    "from snorkel.parser import CorpusParser, HTMLParser, OmniParser\n",
    "from snorkel.utils import get_ORM_instance\n",
    "from snorkel.queries import split_corpus\n",
    "\n",
    "html_path = os.environ['SNORKELHOME'] + '/tutorials/tables/data/hardware/hardware100_html/'\n",
    "pdf_path  = os.environ['SNORKELHOME'] + '/tutorials/tables/data/hardware/hardware100_pdf/'\n",
    "doc_parser = HTMLParser(path=html_path)\n",
    "context_parser = OmniParser(flatten=['span'], blacklist=['style'],\n",
    "                            visual=True, pdf_path=pdf_path, session=session)\n",
    "cp = CorpusParser(doc_parser, context_parser, max_docs=100) "
   ]
  },
  {
   "cell_type": "markdown",
   "metadata": {},
   "source": [
    "### Run Parser"
   ]
  },
  {
   "cell_type": "code",
   "execution_count": null,
   "metadata": {
    "collapsed": false,
    "scrolled": true
   },
   "outputs": [],
   "source": [
    "%time corpus = cp.parse_corpus(name='Hardware', session=session)\n",
    "\n",
    "session.add(corpus)\n",
    "session.commit()"
   ]
  },
  {
   "cell_type": "markdown",
   "metadata": {},
   "source": [
    "### Split Corpus"
   ]
  },
  {
   "cell_type": "code",
   "execution_count": null,
   "metadata": {
    "collapsed": false
   },
   "outputs": [],
   "source": [
    "from snorkel.models import Corpus\n",
    "\n",
    "corpus = get_ORM_instance(Corpus, session, 'Hardware')\n",
    "split_corpus(session, corpus, train=0.8, development=0.2, test=0, seed=9)"
   ]
  },
  {
   "cell_type": "code",
   "execution_count": null,
   "metadata": {
    "collapsed": true
   },
   "outputs": [],
   "source": [
    "# If necessary\n",
    "import os\n",
    "os.system('cp snorkel.db snorkel.db\\ corpus');"
   ]
  },
  {
   "cell_type": "markdown",
   "metadata": {},
   "source": [
    "## Extraction"
   ]
  },
  {
   "cell_type": "code",
   "execution_count": null,
   "metadata": {
    "collapsed": false
   },
   "outputs": [],
   "source": [
    "# If necessary:\n",
    "import os\n",
    "os.remove('snorkel.db');\n",
    "os.system('cp snorkel.db\\ corpus snorkel.db');\n",
    "\n",
    "%load_ext autoreload\n",
    "%autoreload 2\n",
    "%matplotlib inline\n",
    "\n",
    "import sys\n",
    "sys.path.append(os.environ['SNORKELHOME'] + '/tutorials/tables/')\n",
    "\n",
    "from snorkel import SnorkelSession\n",
    "session = SnorkelSession()"
   ]
  },
  {
   "cell_type": "code",
   "execution_count": null,
   "metadata": {
    "collapsed": true
   },
   "outputs": [],
   "source": [
    "from snorkel.models import candidate_subclass\n",
    "\n",
    "Part_Voltage = candidate_subclass('Part_Voltage', ['part','voltage'])"
   ]
  },
  {
   "cell_type": "markdown",
   "metadata": {},
   "source": [
    "### Define Matchers"
   ]
  },
  {
   "cell_type": "code",
   "execution_count": null,
   "metadata": {
    "collapsed": false
   },
   "outputs": [],
   "source": [
    "from snorkel.matchers import RegexMatchSpan, Union\n",
    "\n",
    "eeca_rgx = '([b]{1}[abcdefklnpqruyz]{1}[\\swxyz]?[0-9]{3,5}[\\s]?[A-Z\\/]{0,5}[0-9]?[A-Z]?([-][A-Z0-9]{1,7})?([-][A-Z0-9]{1,2})?)'\n",
    "eeca_matcher = RegexMatchSpan(rgx=eeca_rgx)\n",
    "jedec_rgx = '([123]N\\d{3,4}[A-Z]{0,5}[0-9]?[A-Z]?)'\n",
    "jedec_matcher = RegexMatchSpan(rgx=jedec_rgx)\n",
    "jis_rgx = '(2S[abcdefghjkmqrstvz]{1}[\\d]{2,4})'\n",
    "jis_matcher = RegexMatchSpan(rgx=jis_rgx)\n",
    "others_rgx = '((NSVBC|SMBT|MJ|MJE|MPS|MRF|RCA|TIP|ZTX|ZT|TIS|TIPL|DTC|MMBT|PZT){1}[\\d]{2,4}[A-Z]{0,3}([-][A-Z0-9]{0,6})?([-][A-Z0-9]{0,1})?)'\n",
    "others_matcher = RegexMatchSpan(rgx=others_rgx)\n",
    "parts_rgx = '|'.join([eeca_rgx, jedec_rgx, jis_rgx, others_rgx])\n",
    "parts_matcher = Union(eeca_matcher, jedec_matcher, jis_matcher, others_matcher)\n",
    "\n",
    "#NOTE: This is super specific.\n",
    "cb_v_matcher = RegexMatchSpan(rgx=r'\\-?[2-8][0]', longest_match_only=False)"
   ]
  },
  {
   "cell_type": "code",
   "execution_count": null,
   "metadata": {
    "collapsed": false
   },
   "outputs": [],
   "source": [
    "# import re\n",
    "# part_finder = re.compile(parts_rgx, re.I)\n",
    "# print any([part_finder.match(x) for x in ['blue', 'red', 'black', 'green']])\n",
    "# print any([part_finder.match(x) for x in ['blue', 'red', 'BC546A', 'green']])"
   ]
  },
  {
   "cell_type": "markdown",
   "metadata": {},
   "source": [
    "### Define ContextSpaces"
   ]
  },
  {
   "cell_type": "code",
   "execution_count": null,
   "metadata": {
    "collapsed": false
   },
   "outputs": [],
   "source": [
    "import os\n",
    "from collections import defaultdict\n",
    "from hardware_utils import OmniNgramsPart, OmniNgramsTemp, get_gold_dict\n",
    "\n",
    "# Make parts list\n",
    "gold_file = os.environ['SNORKELHOME'] + '/tutorials/tables/data/hardware/hardware_gold.csv'\n",
    "gold_parts = get_gold_dict(gold_file, doc_on=True, part_on=True, val_on=False)\n",
    "parts_by_doc = defaultdict(set)\n",
    "for part in gold_parts:\n",
    "    parts_by_doc[part[0]].add(part[1])\n",
    "    \n",
    "part_ngrams = OmniNgramsPart(parts_by_doc=parts_by_doc, n_max=3)\n",
    "\n",
    "# TODO: This is missing the current represented as an Amp rather than a milliamp\n",
    "cb_v_ngrams = OmniNgramsTemp(n_max=3)"
   ]
  },
  {
   "cell_type": "markdown",
   "metadata": {},
   "source": [
    "### Define Throttler"
   ]
  },
  {
   "cell_type": "code",
   "execution_count": null,
   "metadata": {
    "collapsed": false
   },
   "outputs": [],
   "source": [
    "from snorkel.lf_helpers import *\n",
    "\n",
    "def cbv_throttler((part_span, attr_span)):\n",
    "    \"\"\"\n",
    "    Keep only those candidates where both spans are on the same page and\n",
    "    either aligned in the same table (visually or structurally) or the part is global.\n",
    "    \"\"\"\n",
    "    return(\n",
    "        same_page((part_span, attr_span)) and\n",
    "        (part_span.parent.table is None or\n",
    "        (same_row((part_span, attr_span)) or is_horz_aligned((part_span, attr_span)))))\n",
    "#     \"\"\"\n",
    "#     Reject any candidates whose attributes are horizontally aligned with at least one \n",
    "#     part number and are not horizontally aligned with the candidate part number\n",
    "#     \"\"\"\n",
    "#     return not (any(part_finder.match(word) for word in get_horz_aligned_ngrams(attr_span)) and \n",
    "#         not is_horz_aligned((part_span, attr_span)))"
   ]
  },
  {
   "cell_type": "markdown",
   "metadata": {},
   "source": [
    "### Run CandidateExtractor"
   ]
  },
  {
   "cell_type": "code",
   "execution_count": null,
   "metadata": {
    "collapsed": false,
    "scrolled": true
   },
   "outputs": [],
   "source": [
    "from snorkel.models import Corpus\n",
    "from snorkel.candidates import CandidateExtractor\n",
    "from snorkel.utils import get_ORM_instance\n",
    "\n",
    "\n",
    "ce = CandidateExtractor(Part_Voltage, \n",
    "                        [part_ngrams, cb_v_ngrams], \n",
    "                        [parts_matcher, cb_v_matcher],\n",
    "                        throttler=cbv_throttler)\n",
    "\n",
    "for corpus_name in ['Hardware Training', 'Hardware Development']:\n",
    "    corpus = get_ORM_instance(Corpus, session, corpus_name)\n",
    "    print \"Extracting Candidates from %s\" % corpus\n",
    "    %time candidates = ce.extract(\\\n",
    "        corpus.documents, corpus_name + ' Candidates', session)\n",
    "    session.add(candidates)\n",
    "    print \"%s contains %d Candidates\" % (candidates, len(candidates))\n",
    "session.commit()"
   ]
  },
  {
   "cell_type": "markdown",
   "metadata": {},
   "source": [
    "### Assess Recall"
   ]
  },
  {
   "cell_type": "code",
   "execution_count": null,
   "metadata": {
    "collapsed": false
   },
   "outputs": [],
   "source": [
    "from hardware_utils import entity_level_total_recall, most_common_document, get_gold_dict\n",
    "from snorkel.utils import get_ORM_instance\n",
    "from snorkel.models import Candidate, Corpus\n",
    "\n",
    "all_candidates = session.query(Candidate).all()\n",
    "gold_file = os.environ['SNORKELHOME'] + '/tutorials/tables/data/hardware/hardware_gold.csv'\n",
    "\n",
    "corpus = get_ORM_instance(Corpus, session, 'Hardware')\n",
    "(tp, fp, fn) = entity_level_total_recall(\n",
    "    all_candidates, gold_file, 'cb_v_max', corpus=corpus, relation=True, integerize=True)\n",
    "print len(tp)\n",
    "print len(fp)\n",
    "print len(fn)"
   ]
  },
  {
   "cell_type": "code",
   "execution_count": null,
   "metadata": {
    "collapsed": false
   },
   "outputs": [],
   "source": [
    "from pprint import pprint\n",
    "fns = list(fn)\n",
    "pprint(sorted(fns)[:10])"
   ]
  },
  {
   "cell_type": "code",
   "execution_count": null,
   "metadata": {
    "collapsed": false
   },
   "outputs": [],
   "source": [
    "# corpus = get_ORM_instance(Corpus, session, 'Hardware Training')\n",
    "# for document in corpus.documents:\n",
    "# #     print document.name\n",
    "#     if document.name == 'MOTOS03160-1':\n",
    "#         doc = document\n",
    "# print doc"
   ]
  },
  {
   "cell_type": "code",
   "execution_count": null,
   "metadata": {
    "collapsed": false
   },
   "outputs": [],
   "source": [
    "# for c in all_candidates:\n",
    "#     if c.part.get_span()=='BC183' and c.part.parent.document.name=='MOTOS03160-1':\n",
    "#         print c"
   ]
  },
  {
   "cell_type": "code",
   "execution_count": null,
   "metadata": {
    "collapsed": false
   },
   "outputs": [],
   "source": [
    "# for phrase in doc.phrases:\n",
    "#     if 'BC183' in phrase.words:\n",
    "#         print phrase"
   ]
  },
  {
   "cell_type": "code",
   "execution_count": null,
   "metadata": {
    "collapsed": true
   },
   "outputs": [],
   "source": [
    "# If necessary\n",
    "import os\n",
    "os.system('cp snorkel.db snorkel.db\\ candidates');"
   ]
  },
  {
   "cell_type": "markdown",
   "metadata": {},
   "source": [
    "## Gold Labels"
   ]
  },
  {
   "cell_type": "code",
   "execution_count": null,
   "metadata": {
    "collapsed": true
   },
   "outputs": [],
   "source": [
    "# If necessary\n",
    "# import os\n",
    "# os.remove('snorkel.db');\n",
    "# os.system('cp snorkel.db\\ candidates snorkel.db');\n",
    "\n",
    "# %load_ext autoreload\n",
    "# %autoreload 2\n",
    "# %matplotlib inline\n",
    "\n",
    "# import sys\n",
    "# sys.path.append(os.environ['SNORKELHOME'] + '/tutorials/tables/')\n",
    "\n",
    "# from snorkel import SnorkelSession\n",
    "# session = SnorkelSession()\n",
    "\n",
    "# from snorkel.models import candidate_subclass\n",
    "# Part_Voltage = candidate_subclass('Part_Voltage', ['part','voltage'])"
   ]
  },
  {
   "cell_type": "code",
   "execution_count": null,
   "metadata": {
    "collapsed": false
   },
   "outputs": [],
   "source": [
    "import os\n",
    "from snorkel.models import CandidateSet\n",
    "from hardware_utils import load_hardware_labels\n",
    "\n",
    "gold_file = os.environ['SNORKELHOME'] + '/tutorials/tables/data/hardware/hardware_gold.csv'\n",
    "for set_name in ['Training', 'Development']:\n",
    "    candidate_set_name = 'Hardware %s Candidates' % set_name\n",
    "    candidates = session.query(CandidateSet).filter(\n",
    "        CandidateSet.name == candidate_set_name).one()\n",
    "    label_set_name = 'Hardware %s Candidates -- Gold' % set_name\n",
    "    annotation_key_name = 'Hardware %s Labels -- Gold' % set_name\n",
    "    %time gold_candidates, annotation_key = load_hardware_labels(session,\\\n",
    "                           label_set_name, \\\n",
    "                           annotation_key_name, \\\n",
    "                           candidates, \\\n",
    "                           gold_file, \\\n",
    "                           attrib='cb_v_max')\n",
    "    candidates_gold = session.query(CandidateSet).filter(\n",
    "        CandidateSet.name == candidate_set_name + ' -- Gold').one()\n",
    "    print \"%d/%d Candidates in %s have positive Labels\" % (\n",
    "        len(candidates_gold), len(candidates), candidates)"
   ]
  },
  {
   "cell_type": "code",
   "execution_count": null,
   "metadata": {
    "collapsed": true
   },
   "outputs": [],
   "source": [
    "# If necessary\n",
    "import os\n",
    "os.system('cp snorkel.db snorkel.db\\ labels');"
   ]
  },
  {
   "cell_type": "markdown",
   "metadata": {},
   "source": [
    "## Features"
   ]
  },
  {
   "cell_type": "code",
   "execution_count": 1,
   "metadata": {
    "collapsed": false
   },
   "outputs": [],
   "source": [
    "# If necessary:\n",
    "import os\n",
    "os.remove('snorkel.db');\n",
    "os.system('cp snorkel.db\\ labels snorkel.db');\n",
    "\n",
    "%load_ext autoreload\n",
    "%autoreload 2\n",
    "%matplotlib inline\n",
    "\n",
    "import sys\n",
    "sys.path.append(os.environ['SNORKELHOME'] + '/tutorials/tables/')\n",
    "\n",
    "from snorkel import SnorkelSession\n",
    "session = SnorkelSession()\n",
    "\n",
    "from snorkel.models import candidate_subclass\n",
    "Part_Voltage = candidate_subclass('Part_Voltage', ['part','voltage'])"
   ]
  },
  {
   "cell_type": "markdown",
   "metadata": {},
   "source": [
    "### Extract Features"
   ]
  },
  {
   "cell_type": "code",
   "execution_count": 2,
   "metadata": {
    "collapsed": false
   },
   "outputs": [
    {
     "name": "stdout",
     "output_type": "stream",
     "text": [
      "[========================================] 100%\n",
      "Bulk upserting 28518103 annotations...\n",
      "Done.\n",
      "Loading sparse Feature matrix...\n",
      "CPU times: user 25min 19s, sys: 25min 29s, total: 50min 49s\n",
      "Wall time: 1h 9min 50s\n",
      "[========================================] 100%\n",
      "Bulk upserting 8342429 annotations...\n",
      "Done.\n",
      "Loading sparse Feature matrix...\n",
      "CPU times: user 10min 55s, sys: 9min 51s, total: 20min 47s\n",
      "Wall time: 27min 6s\n"
     ]
    }
   ],
   "source": [
    "from snorkel.models import CandidateSet\n",
    "from snorkel.fast_annotations import FeatureManager\n",
    "from snorkel.utils import get_ORM_instance\n",
    "\n",
    "train = get_ORM_instance(CandidateSet, session, 'Hardware Training Candidates')\n",
    "dev   = get_ORM_instance(CandidateSet, session, 'Hardware Development Candidates')\n",
    "\n",
    "feature_manager = FeatureManager()\n",
    "%time F_train = feature_manager.create(session, train, 'Train Features')\n",
    "%time F_dev = feature_manager.update(session, dev, 'Train Features', expand_key_set=False)"
   ]
  },
  {
   "cell_type": "code",
   "execution_count": 3,
   "metadata": {
    "collapsed": false
   },
   "outputs": [
    {
     "name": "stderr",
     "output_type": "stream",
     "text": [
      "[autoreload of snorkel.models.context failed: Traceback (most recent call last):\n",
      "  File \"/Users/bradenhancock/anaconda/lib/python2.7/site-packages/IPython/extensions/autoreload.py\", line 247, in check\n",
      "    superreload(m, reload, self.old_objects)\n",
      "InvalidRequestError: Table 'corpus_document_association' is already defined for this MetaData instance.  Specify 'extend_existing=True' to redefine options and columns on an existing Table object.\n",
      "]\n"
     ]
    }
   ],
   "source": [
    "# If necessary:\n",
    "import os\n",
    "os.system('cp snorkel.db snorkel.db\\ featurized');"
   ]
  },
  {
   "cell_type": "markdown",
   "metadata": {},
   "source": [
    "## LFs"
   ]
  },
  {
   "cell_type": "code",
   "execution_count": 1,
   "metadata": {
    "collapsed": false
   },
   "outputs": [
    {
     "ename": "CompileError",
     "evalue": "(in table 'label_vector', column 'keys'): Compiler <sqlalchemy.dialects.sqlite.base.SQLiteTypeCompiler object at 0x10acb2610> can't render element of type <class 'sqlalchemy.dialects.postgresql.base.ARRAY'>",
     "output_type": "error",
     "traceback": [
      "\u001b[0;31m---------------------------------------------------------------------------\u001b[0m",
      "\u001b[0;31mCompileError\u001b[0m                              Traceback (most recent call last)",
      "\u001b[0;32m<ipython-input-1-33ed40a7ce6c>\u001b[0m in \u001b[0;36m<module>\u001b[0;34m()\u001b[0m\n\u001b[1;32m     11\u001b[0m \u001b[0msys\u001b[0m\u001b[0;34m.\u001b[0m\u001b[0mpath\u001b[0m\u001b[0;34m.\u001b[0m\u001b[0mappend\u001b[0m\u001b[0;34m(\u001b[0m\u001b[0mos\u001b[0m\u001b[0;34m.\u001b[0m\u001b[0menviron\u001b[0m\u001b[0;34m[\u001b[0m\u001b[0;34m'SNORKELHOME'\u001b[0m\u001b[0;34m]\u001b[0m \u001b[0;34m+\u001b[0m \u001b[0;34m'/tutorials/tables/'\u001b[0m\u001b[0;34m)\u001b[0m\u001b[0;34m\u001b[0m\u001b[0m\n\u001b[1;32m     12\u001b[0m \u001b[0;34m\u001b[0m\u001b[0m\n\u001b[0;32m---> 13\u001b[0;31m \u001b[0;32mfrom\u001b[0m \u001b[0msnorkel\u001b[0m \u001b[0;32mimport\u001b[0m \u001b[0mSnorkelSession\u001b[0m\u001b[0;34m\u001b[0m\u001b[0m\n\u001b[0m\u001b[1;32m     14\u001b[0m \u001b[0msession\u001b[0m \u001b[0;34m=\u001b[0m \u001b[0mSnorkelSession\u001b[0m\u001b[0;34m(\u001b[0m\u001b[0;34m)\u001b[0m\u001b[0;34m\u001b[0m\u001b[0m\n\u001b[1;32m     15\u001b[0m \u001b[0;34m\u001b[0m\u001b[0m\n",
      "\u001b[0;32m/Users/bradenhancock/snorkel/snorkel/__init__.py\u001b[0m in \u001b[0;36m<module>\u001b[0;34m()\u001b[0m\n\u001b[0;32m----> 1\u001b[0;31m \u001b[0;32mfrom\u001b[0m \u001b[0;34m.\u001b[0m\u001b[0mmodels\u001b[0m \u001b[0;32mimport\u001b[0m \u001b[0mSnorkelSession\u001b[0m\u001b[0;34m\u001b[0m\u001b[0m\n\u001b[0m\u001b[1;32m      2\u001b[0m \u001b[0;34m\u001b[0m\u001b[0m\n\u001b[1;32m      3\u001b[0m \u001b[0m__version__\u001b[0m \u001b[0;34m=\u001b[0m \u001b[0;36m0.4\u001b[0m\u001b[0;34m\u001b[0m\u001b[0m\n",
      "\u001b[0;32m/Users/bradenhancock/snorkel/snorkel/models/__init__.py\u001b[0m in \u001b[0;36m<module>\u001b[0;34m()\u001b[0m\n\u001b[1;32m     46\u001b[0m \u001b[0;31m# This call must be performed after all classes that extend SnorkelBase are\u001b[0m\u001b[0;34m\u001b[0m\u001b[0;34m\u001b[0m\u001b[0m\n\u001b[1;32m     47\u001b[0m \u001b[0;31m# declared to ensure the storage schema is initialized\u001b[0m\u001b[0;34m\u001b[0m\u001b[0;34m\u001b[0m\u001b[0m\n\u001b[0;32m---> 48\u001b[0;31m \u001b[0mSnorkelBase\u001b[0m\u001b[0;34m.\u001b[0m\u001b[0mmetadata\u001b[0m\u001b[0;34m.\u001b[0m\u001b[0mcreate_all\u001b[0m\u001b[0;34m(\u001b[0m\u001b[0msnorkel_engine\u001b[0m\u001b[0;34m)\u001b[0m\u001b[0;34m\u001b[0m\u001b[0m\n\u001b[0m",
      "\u001b[0;32m/Users/bradenhancock/anaconda/lib/python2.7/site-packages/sqlalchemy/sql/schema.pyc\u001b[0m in \u001b[0;36mcreate_all\u001b[0;34m(self, bind, tables, checkfirst)\u001b[0m\n\u001b[1;32m   3693\u001b[0m                           \u001b[0mself\u001b[0m\u001b[0;34m,\u001b[0m\u001b[0;34m\u001b[0m\u001b[0m\n\u001b[1;32m   3694\u001b[0m                           \u001b[0mcheckfirst\u001b[0m\u001b[0;34m=\u001b[0m\u001b[0mcheckfirst\u001b[0m\u001b[0;34m,\u001b[0m\u001b[0;34m\u001b[0m\u001b[0m\n\u001b[0;32m-> 3695\u001b[0;31m                           tables=tables)\n\u001b[0m\u001b[1;32m   3696\u001b[0m \u001b[0;34m\u001b[0m\u001b[0m\n\u001b[1;32m   3697\u001b[0m     \u001b[0;32mdef\u001b[0m \u001b[0mdrop_all\u001b[0m\u001b[0;34m(\u001b[0m\u001b[0mself\u001b[0m\u001b[0;34m,\u001b[0m \u001b[0mbind\u001b[0m\u001b[0;34m=\u001b[0m\u001b[0mNone\u001b[0m\u001b[0;34m,\u001b[0m \u001b[0mtables\u001b[0m\u001b[0;34m=\u001b[0m\u001b[0mNone\u001b[0m\u001b[0;34m,\u001b[0m \u001b[0mcheckfirst\u001b[0m\u001b[0;34m=\u001b[0m\u001b[0mTrue\u001b[0m\u001b[0;34m)\u001b[0m\u001b[0;34m:\u001b[0m\u001b[0;34m\u001b[0m\u001b[0m\n",
      "\u001b[0;32m/Users/bradenhancock/anaconda/lib/python2.7/site-packages/sqlalchemy/engine/base.pyc\u001b[0m in \u001b[0;36m_run_visitor\u001b[0;34m(self, visitorcallable, element, connection, **kwargs)\u001b[0m\n\u001b[1;32m   1854\u001b[0m                      connection=None, **kwargs):\n\u001b[1;32m   1855\u001b[0m         \u001b[0;32mwith\u001b[0m \u001b[0mself\u001b[0m\u001b[0;34m.\u001b[0m\u001b[0m_optional_conn_ctx_manager\u001b[0m\u001b[0;34m(\u001b[0m\u001b[0mconnection\u001b[0m\u001b[0;34m)\u001b[0m \u001b[0;32mas\u001b[0m \u001b[0mconn\u001b[0m\u001b[0;34m:\u001b[0m\u001b[0;34m\u001b[0m\u001b[0m\n\u001b[0;32m-> 1856\u001b[0;31m             \u001b[0mconn\u001b[0m\u001b[0;34m.\u001b[0m\u001b[0m_run_visitor\u001b[0m\u001b[0;34m(\u001b[0m\u001b[0mvisitorcallable\u001b[0m\u001b[0;34m,\u001b[0m \u001b[0melement\u001b[0m\u001b[0;34m,\u001b[0m \u001b[0;34m**\u001b[0m\u001b[0mkwargs\u001b[0m\u001b[0;34m)\u001b[0m\u001b[0;34m\u001b[0m\u001b[0m\n\u001b[0m\u001b[1;32m   1857\u001b[0m \u001b[0;34m\u001b[0m\u001b[0m\n\u001b[1;32m   1858\u001b[0m     \u001b[0;32mclass\u001b[0m \u001b[0m_trans_ctx\u001b[0m\u001b[0;34m(\u001b[0m\u001b[0mobject\u001b[0m\u001b[0;34m)\u001b[0m\u001b[0;34m:\u001b[0m\u001b[0;34m\u001b[0m\u001b[0m\n",
      "\u001b[0;32m/Users/bradenhancock/anaconda/lib/python2.7/site-packages/sqlalchemy/engine/base.pyc\u001b[0m in \u001b[0;36m_run_visitor\u001b[0;34m(self, visitorcallable, element, **kwargs)\u001b[0m\n\u001b[1;32m   1479\u001b[0m     \u001b[0;32mdef\u001b[0m \u001b[0m_run_visitor\u001b[0m\u001b[0;34m(\u001b[0m\u001b[0mself\u001b[0m\u001b[0;34m,\u001b[0m \u001b[0mvisitorcallable\u001b[0m\u001b[0;34m,\u001b[0m \u001b[0melement\u001b[0m\u001b[0;34m,\u001b[0m \u001b[0;34m**\u001b[0m\u001b[0mkwargs\u001b[0m\u001b[0;34m)\u001b[0m\u001b[0;34m:\u001b[0m\u001b[0;34m\u001b[0m\u001b[0m\n\u001b[1;32m   1480\u001b[0m         visitorcallable(self.dialect, self,\n\u001b[0;32m-> 1481\u001b[0;31m                         **kwargs).traverse_single(element)\n\u001b[0m\u001b[1;32m   1482\u001b[0m \u001b[0;34m\u001b[0m\u001b[0m\n\u001b[1;32m   1483\u001b[0m \u001b[0;34m\u001b[0m\u001b[0m\n",
      "\u001b[0;32m/Users/bradenhancock/anaconda/lib/python2.7/site-packages/sqlalchemy/sql/visitors.pyc\u001b[0m in \u001b[0;36mtraverse_single\u001b[0;34m(self, obj, **kw)\u001b[0m\n\u001b[1;32m    119\u001b[0m             \u001b[0mmeth\u001b[0m \u001b[0;34m=\u001b[0m \u001b[0mgetattr\u001b[0m\u001b[0;34m(\u001b[0m\u001b[0mv\u001b[0m\u001b[0;34m,\u001b[0m \u001b[0;34m\"visit_%s\"\u001b[0m \u001b[0;34m%\u001b[0m \u001b[0mobj\u001b[0m\u001b[0;34m.\u001b[0m\u001b[0m__visit_name__\u001b[0m\u001b[0;34m,\u001b[0m \u001b[0mNone\u001b[0m\u001b[0;34m)\u001b[0m\u001b[0;34m\u001b[0m\u001b[0m\n\u001b[1;32m    120\u001b[0m             \u001b[0;32mif\u001b[0m \u001b[0mmeth\u001b[0m\u001b[0;34m:\u001b[0m\u001b[0;34m\u001b[0m\u001b[0m\n\u001b[0;32m--> 121\u001b[0;31m                 \u001b[0;32mreturn\u001b[0m \u001b[0mmeth\u001b[0m\u001b[0;34m(\u001b[0m\u001b[0mobj\u001b[0m\u001b[0;34m,\u001b[0m \u001b[0;34m**\u001b[0m\u001b[0mkw\u001b[0m\u001b[0;34m)\u001b[0m\u001b[0;34m\u001b[0m\u001b[0m\n\u001b[0m\u001b[1;32m    122\u001b[0m \u001b[0;34m\u001b[0m\u001b[0m\n\u001b[1;32m    123\u001b[0m     \u001b[0;32mdef\u001b[0m \u001b[0miterate\u001b[0m\u001b[0;34m(\u001b[0m\u001b[0mself\u001b[0m\u001b[0;34m,\u001b[0m \u001b[0mobj\u001b[0m\u001b[0;34m)\u001b[0m\u001b[0;34m:\u001b[0m\u001b[0;34m\u001b[0m\u001b[0m\n",
      "\u001b[0;32m/Users/bradenhancock/anaconda/lib/python2.7/site-packages/sqlalchemy/sql/ddl.pyc\u001b[0m in \u001b[0;36mvisit_metadata\u001b[0;34m(self, metadata)\u001b[0m\n\u001b[1;32m    728\u001b[0m                     \u001b[0mtable\u001b[0m\u001b[0;34m,\u001b[0m \u001b[0mcreate_ok\u001b[0m\u001b[0;34m=\u001b[0m\u001b[0mTrue\u001b[0m\u001b[0;34m,\u001b[0m\u001b[0;34m\u001b[0m\u001b[0m\n\u001b[1;32m    729\u001b[0m                     \u001b[0minclude_foreign_key_constraints\u001b[0m\u001b[0;34m=\u001b[0m\u001b[0mfkcs\u001b[0m\u001b[0;34m,\u001b[0m\u001b[0;34m\u001b[0m\u001b[0m\n\u001b[0;32m--> 730\u001b[0;31m                     _is_metadata_operation=True)\n\u001b[0m\u001b[1;32m    731\u001b[0m             \u001b[0;32melse\u001b[0m\u001b[0;34m:\u001b[0m\u001b[0;34m\u001b[0m\u001b[0m\n\u001b[1;32m    732\u001b[0m                 \u001b[0;32mfor\u001b[0m \u001b[0mfkc\u001b[0m \u001b[0;32min\u001b[0m \u001b[0mfkcs\u001b[0m\u001b[0;34m:\u001b[0m\u001b[0;34m\u001b[0m\u001b[0m\n",
      "\u001b[0;32m/Users/bradenhancock/anaconda/lib/python2.7/site-packages/sqlalchemy/sql/visitors.pyc\u001b[0m in \u001b[0;36mtraverse_single\u001b[0;34m(self, obj, **kw)\u001b[0m\n\u001b[1;32m    119\u001b[0m             \u001b[0mmeth\u001b[0m \u001b[0;34m=\u001b[0m \u001b[0mgetattr\u001b[0m\u001b[0;34m(\u001b[0m\u001b[0mv\u001b[0m\u001b[0;34m,\u001b[0m \u001b[0;34m\"visit_%s\"\u001b[0m \u001b[0;34m%\u001b[0m \u001b[0mobj\u001b[0m\u001b[0;34m.\u001b[0m\u001b[0m__visit_name__\u001b[0m\u001b[0;34m,\u001b[0m \u001b[0mNone\u001b[0m\u001b[0;34m)\u001b[0m\u001b[0;34m\u001b[0m\u001b[0m\n\u001b[1;32m    120\u001b[0m             \u001b[0;32mif\u001b[0m \u001b[0mmeth\u001b[0m\u001b[0;34m:\u001b[0m\u001b[0;34m\u001b[0m\u001b[0m\n\u001b[0;32m--> 121\u001b[0;31m                 \u001b[0;32mreturn\u001b[0m \u001b[0mmeth\u001b[0m\u001b[0;34m(\u001b[0m\u001b[0mobj\u001b[0m\u001b[0;34m,\u001b[0m \u001b[0;34m**\u001b[0m\u001b[0mkw\u001b[0m\u001b[0;34m)\u001b[0m\u001b[0;34m\u001b[0m\u001b[0m\n\u001b[0m\u001b[1;32m    122\u001b[0m \u001b[0;34m\u001b[0m\u001b[0m\n\u001b[1;32m    123\u001b[0m     \u001b[0;32mdef\u001b[0m \u001b[0miterate\u001b[0m\u001b[0;34m(\u001b[0m\u001b[0mself\u001b[0m\u001b[0;34m,\u001b[0m \u001b[0mobj\u001b[0m\u001b[0;34m)\u001b[0m\u001b[0;34m:\u001b[0m\u001b[0;34m\u001b[0m\u001b[0m\n",
      "\u001b[0;32m/Users/bradenhancock/anaconda/lib/python2.7/site-packages/sqlalchemy/sql/ddl.pyc\u001b[0m in \u001b[0;36mvisit_table\u001b[0;34m(self, table, create_ok, include_foreign_key_constraints, _is_metadata_operation)\u001b[0m\n\u001b[1;32m    762\u001b[0m             CreateTable(\n\u001b[1;32m    763\u001b[0m                 \u001b[0mtable\u001b[0m\u001b[0;34m,\u001b[0m\u001b[0;34m\u001b[0m\u001b[0m\n\u001b[0;32m--> 764\u001b[0;31m                 \u001b[0minclude_foreign_key_constraints\u001b[0m\u001b[0;34m=\u001b[0m\u001b[0minclude_foreign_key_constraints\u001b[0m\u001b[0;34m\u001b[0m\u001b[0m\n\u001b[0m\u001b[1;32m    765\u001b[0m             ))\n\u001b[1;32m    766\u001b[0m \u001b[0;34m\u001b[0m\u001b[0m\n",
      "\u001b[0;32m/Users/bradenhancock/anaconda/lib/python2.7/site-packages/sqlalchemy/engine/base.pyc\u001b[0m in \u001b[0;36mexecute\u001b[0;34m(self, object, *multiparams, **params)\u001b[0m\n\u001b[1;32m    912\u001b[0m                 type(object))\n\u001b[1;32m    913\u001b[0m         \u001b[0;32melse\u001b[0m\u001b[0;34m:\u001b[0m\u001b[0;34m\u001b[0m\u001b[0m\n\u001b[0;32m--> 914\u001b[0;31m             \u001b[0;32mreturn\u001b[0m \u001b[0mmeth\u001b[0m\u001b[0;34m(\u001b[0m\u001b[0mself\u001b[0m\u001b[0;34m,\u001b[0m \u001b[0mmultiparams\u001b[0m\u001b[0;34m,\u001b[0m \u001b[0mparams\u001b[0m\u001b[0;34m)\u001b[0m\u001b[0;34m\u001b[0m\u001b[0m\n\u001b[0m\u001b[1;32m    915\u001b[0m \u001b[0;34m\u001b[0m\u001b[0m\n\u001b[1;32m    916\u001b[0m     \u001b[0;32mdef\u001b[0m \u001b[0m_execute_function\u001b[0m\u001b[0;34m(\u001b[0m\u001b[0mself\u001b[0m\u001b[0;34m,\u001b[0m \u001b[0mfunc\u001b[0m\u001b[0;34m,\u001b[0m \u001b[0mmultiparams\u001b[0m\u001b[0;34m,\u001b[0m \u001b[0mparams\u001b[0m\u001b[0;34m)\u001b[0m\u001b[0;34m:\u001b[0m\u001b[0;34m\u001b[0m\u001b[0m\n",
      "\u001b[0;32m/Users/bradenhancock/anaconda/lib/python2.7/site-packages/sqlalchemy/sql/ddl.pyc\u001b[0m in \u001b[0;36m_execute_on_connection\u001b[0;34m(self, connection, multiparams, params)\u001b[0m\n\u001b[1;32m     66\u001b[0m \u001b[0;34m\u001b[0m\u001b[0m\n\u001b[1;32m     67\u001b[0m     \u001b[0;32mdef\u001b[0m \u001b[0m_execute_on_connection\u001b[0m\u001b[0;34m(\u001b[0m\u001b[0mself\u001b[0m\u001b[0;34m,\u001b[0m \u001b[0mconnection\u001b[0m\u001b[0;34m,\u001b[0m \u001b[0mmultiparams\u001b[0m\u001b[0;34m,\u001b[0m \u001b[0mparams\u001b[0m\u001b[0;34m)\u001b[0m\u001b[0;34m:\u001b[0m\u001b[0;34m\u001b[0m\u001b[0m\n\u001b[0;32m---> 68\u001b[0;31m         \u001b[0;32mreturn\u001b[0m \u001b[0mconnection\u001b[0m\u001b[0;34m.\u001b[0m\u001b[0m_execute_ddl\u001b[0m\u001b[0;34m(\u001b[0m\u001b[0mself\u001b[0m\u001b[0;34m,\u001b[0m \u001b[0mmultiparams\u001b[0m\u001b[0;34m,\u001b[0m \u001b[0mparams\u001b[0m\u001b[0;34m)\u001b[0m\u001b[0;34m\u001b[0m\u001b[0m\n\u001b[0m\u001b[1;32m     69\u001b[0m \u001b[0;34m\u001b[0m\u001b[0m\n\u001b[1;32m     70\u001b[0m     \u001b[0;32mdef\u001b[0m \u001b[0mexecute\u001b[0m\u001b[0;34m(\u001b[0m\u001b[0mself\u001b[0m\u001b[0;34m,\u001b[0m \u001b[0mbind\u001b[0m\u001b[0;34m=\u001b[0m\u001b[0mNone\u001b[0m\u001b[0;34m,\u001b[0m \u001b[0mtarget\u001b[0m\u001b[0;34m=\u001b[0m\u001b[0mNone\u001b[0m\u001b[0;34m)\u001b[0m\u001b[0;34m:\u001b[0m\u001b[0;34m\u001b[0m\u001b[0m\n",
      "\u001b[0;32m/Users/bradenhancock/anaconda/lib/python2.7/site-packages/sqlalchemy/engine/base.pyc\u001b[0m in \u001b[0;36m_execute_ddl\u001b[0;34m(self, ddl, multiparams, params)\u001b[0m\n\u001b[1;32m    960\u001b[0m         \u001b[0mdialect\u001b[0m \u001b[0;34m=\u001b[0m \u001b[0mself\u001b[0m\u001b[0;34m.\u001b[0m\u001b[0mdialect\u001b[0m\u001b[0;34m\u001b[0m\u001b[0m\n\u001b[1;32m    961\u001b[0m \u001b[0;34m\u001b[0m\u001b[0m\n\u001b[0;32m--> 962\u001b[0;31m         \u001b[0mcompiled\u001b[0m \u001b[0;34m=\u001b[0m \u001b[0mddl\u001b[0m\u001b[0;34m.\u001b[0m\u001b[0mcompile\u001b[0m\u001b[0;34m(\u001b[0m\u001b[0mdialect\u001b[0m\u001b[0;34m=\u001b[0m\u001b[0mdialect\u001b[0m\u001b[0;34m)\u001b[0m\u001b[0;34m\u001b[0m\u001b[0m\n\u001b[0m\u001b[1;32m    963\u001b[0m         ret = self._execute_context(\n\u001b[1;32m    964\u001b[0m             \u001b[0mdialect\u001b[0m\u001b[0;34m,\u001b[0m\u001b[0;34m\u001b[0m\u001b[0m\n",
      "\u001b[0;32m<string>\u001b[0m in \u001b[0;36m<lambda>\u001b[0;34m(self, bind, dialect, **kw)\u001b[0m\n",
      "\u001b[0;32m/Users/bradenhancock/anaconda/lib/python2.7/site-packages/sqlalchemy/sql/elements.pyc\u001b[0m in \u001b[0;36mcompile\u001b[0;34m(self, default, bind, dialect, **kw)\u001b[0m\n\u001b[1;32m    492\u001b[0m             \u001b[0;32melse\u001b[0m\u001b[0;34m:\u001b[0m\u001b[0;34m\u001b[0m\u001b[0m\n\u001b[1;32m    493\u001b[0m                 \u001b[0mdialect\u001b[0m \u001b[0;34m=\u001b[0m \u001b[0mdefault\u001b[0m\u001b[0;34m.\u001b[0m\u001b[0mDefaultDialect\u001b[0m\u001b[0;34m(\u001b[0m\u001b[0;34m)\u001b[0m\u001b[0;34m\u001b[0m\u001b[0m\n\u001b[0;32m--> 494\u001b[0;31m         \u001b[0;32mreturn\u001b[0m \u001b[0mself\u001b[0m\u001b[0;34m.\u001b[0m\u001b[0m_compiler\u001b[0m\u001b[0;34m(\u001b[0m\u001b[0mdialect\u001b[0m\u001b[0;34m,\u001b[0m \u001b[0mbind\u001b[0m\u001b[0;34m=\u001b[0m\u001b[0mbind\u001b[0m\u001b[0;34m,\u001b[0m \u001b[0;34m**\u001b[0m\u001b[0mkw\u001b[0m\u001b[0;34m)\u001b[0m\u001b[0;34m\u001b[0m\u001b[0m\n\u001b[0m\u001b[1;32m    495\u001b[0m \u001b[0;34m\u001b[0m\u001b[0m\n\u001b[1;32m    496\u001b[0m     \u001b[0;32mdef\u001b[0m \u001b[0m_compiler\u001b[0m\u001b[0;34m(\u001b[0m\u001b[0mself\u001b[0m\u001b[0;34m,\u001b[0m \u001b[0mdialect\u001b[0m\u001b[0;34m,\u001b[0m \u001b[0;34m**\u001b[0m\u001b[0mkw\u001b[0m\u001b[0;34m)\u001b[0m\u001b[0;34m:\u001b[0m\u001b[0;34m\u001b[0m\u001b[0m\n",
      "\u001b[0;32m/Users/bradenhancock/anaconda/lib/python2.7/site-packages/sqlalchemy/sql/ddl.pyc\u001b[0m in \u001b[0;36m_compiler\u001b[0;34m(self, dialect, **kw)\u001b[0m\n\u001b[1;32m     24\u001b[0m         Dialect.\"\"\"\n\u001b[1;32m     25\u001b[0m \u001b[0;34m\u001b[0m\u001b[0m\n\u001b[0;32m---> 26\u001b[0;31m         \u001b[0;32mreturn\u001b[0m \u001b[0mdialect\u001b[0m\u001b[0;34m.\u001b[0m\u001b[0mddl_compiler\u001b[0m\u001b[0;34m(\u001b[0m\u001b[0mdialect\u001b[0m\u001b[0;34m,\u001b[0m \u001b[0mself\u001b[0m\u001b[0;34m,\u001b[0m \u001b[0;34m**\u001b[0m\u001b[0mkw\u001b[0m\u001b[0;34m)\u001b[0m\u001b[0;34m\u001b[0m\u001b[0m\n\u001b[0m\u001b[1;32m     27\u001b[0m \u001b[0;34m\u001b[0m\u001b[0m\n\u001b[1;32m     28\u001b[0m \u001b[0;34m\u001b[0m\u001b[0m\n",
      "\u001b[0;32m/Users/bradenhancock/anaconda/lib/python2.7/site-packages/sqlalchemy/sql/compiler.pyc\u001b[0m in \u001b[0;36m__init__\u001b[0;34m(self, dialect, statement, bind, compile_kwargs)\u001b[0m\n\u001b[1;32m    188\u001b[0m             \u001b[0mself\u001b[0m\u001b[0;34m.\u001b[0m\u001b[0mstatement\u001b[0m \u001b[0;34m=\u001b[0m \u001b[0mstatement\u001b[0m\u001b[0;34m\u001b[0m\u001b[0m\n\u001b[1;32m    189\u001b[0m             \u001b[0mself\u001b[0m\u001b[0;34m.\u001b[0m\u001b[0mcan_execute\u001b[0m \u001b[0;34m=\u001b[0m \u001b[0mstatement\u001b[0m\u001b[0;34m.\u001b[0m\u001b[0msupports_execution\u001b[0m\u001b[0;34m\u001b[0m\u001b[0m\n\u001b[0;32m--> 190\u001b[0;31m             \u001b[0mself\u001b[0m\u001b[0;34m.\u001b[0m\u001b[0mstring\u001b[0m \u001b[0;34m=\u001b[0m \u001b[0mself\u001b[0m\u001b[0;34m.\u001b[0m\u001b[0mprocess\u001b[0m\u001b[0;34m(\u001b[0m\u001b[0mself\u001b[0m\u001b[0;34m.\u001b[0m\u001b[0mstatement\u001b[0m\u001b[0;34m,\u001b[0m \u001b[0;34m**\u001b[0m\u001b[0mcompile_kwargs\u001b[0m\u001b[0;34m)\u001b[0m\u001b[0;34m\u001b[0m\u001b[0m\n\u001b[0m\u001b[1;32m    191\u001b[0m \u001b[0;34m\u001b[0m\u001b[0m\n\u001b[1;32m    192\u001b[0m     @util.deprecated(\"0.7\", \":class:`.Compiled` objects now compile \"\n",
      "\u001b[0;32m/Users/bradenhancock/anaconda/lib/python2.7/site-packages/sqlalchemy/sql/compiler.pyc\u001b[0m in \u001b[0;36mprocess\u001b[0;34m(self, obj, **kwargs)\u001b[0m\n\u001b[1;32m    211\u001b[0m \u001b[0;34m\u001b[0m\u001b[0m\n\u001b[1;32m    212\u001b[0m     \u001b[0;32mdef\u001b[0m \u001b[0mprocess\u001b[0m\u001b[0;34m(\u001b[0m\u001b[0mself\u001b[0m\u001b[0;34m,\u001b[0m \u001b[0mobj\u001b[0m\u001b[0;34m,\u001b[0m \u001b[0;34m**\u001b[0m\u001b[0mkwargs\u001b[0m\u001b[0;34m)\u001b[0m\u001b[0;34m:\u001b[0m\u001b[0;34m\u001b[0m\u001b[0m\n\u001b[0;32m--> 213\u001b[0;31m         \u001b[0;32mreturn\u001b[0m \u001b[0mobj\u001b[0m\u001b[0;34m.\u001b[0m\u001b[0m_compiler_dispatch\u001b[0m\u001b[0;34m(\u001b[0m\u001b[0mself\u001b[0m\u001b[0;34m,\u001b[0m \u001b[0;34m**\u001b[0m\u001b[0mkwargs\u001b[0m\u001b[0;34m)\u001b[0m\u001b[0;34m\u001b[0m\u001b[0m\n\u001b[0m\u001b[1;32m    214\u001b[0m \u001b[0;34m\u001b[0m\u001b[0m\n\u001b[1;32m    215\u001b[0m     \u001b[0;32mdef\u001b[0m \u001b[0m__str__\u001b[0m\u001b[0;34m(\u001b[0m\u001b[0mself\u001b[0m\u001b[0;34m)\u001b[0m\u001b[0;34m:\u001b[0m\u001b[0;34m\u001b[0m\u001b[0m\n",
      "\u001b[0;32m/Users/bradenhancock/anaconda/lib/python2.7/site-packages/sqlalchemy/sql/visitors.pyc\u001b[0m in \u001b[0;36m_compiler_dispatch\u001b[0;34m(self, visitor, **kw)\u001b[0m\n\u001b[1;32m     79\u001b[0m                     \u001b[0;32mraise\u001b[0m \u001b[0mexc\u001b[0m\u001b[0;34m.\u001b[0m\u001b[0mUnsupportedCompilationError\u001b[0m\u001b[0;34m(\u001b[0m\u001b[0mvisitor\u001b[0m\u001b[0;34m,\u001b[0m \u001b[0mcls\u001b[0m\u001b[0;34m)\u001b[0m\u001b[0;34m\u001b[0m\u001b[0m\n\u001b[1;32m     80\u001b[0m                 \u001b[0;32melse\u001b[0m\u001b[0;34m:\u001b[0m\u001b[0;34m\u001b[0m\u001b[0m\n\u001b[0;32m---> 81\u001b[0;31m                     \u001b[0;32mreturn\u001b[0m \u001b[0mmeth\u001b[0m\u001b[0;34m(\u001b[0m\u001b[0mself\u001b[0m\u001b[0;34m,\u001b[0m \u001b[0;34m**\u001b[0m\u001b[0mkw\u001b[0m\u001b[0;34m)\u001b[0m\u001b[0;34m\u001b[0m\u001b[0m\n\u001b[0m\u001b[1;32m     82\u001b[0m         \u001b[0;32melse\u001b[0m\u001b[0;34m:\u001b[0m\u001b[0;34m\u001b[0m\u001b[0m\n\u001b[1;32m     83\u001b[0m             \u001b[0;31m# The optimization opportunity is lost for this case because the\u001b[0m\u001b[0;34m\u001b[0m\u001b[0;34m\u001b[0m\u001b[0m\n",
      "\u001b[0;32m/Users/bradenhancock/anaconda/lib/python2.7/site-packages/sqlalchemy/sql/compiler.pyc\u001b[0m in \u001b[0;36mvisit_create_table\u001b[0;34m(self, create)\u001b[0m\n\u001b[1;32m   2166\u001b[0m                     exc.CompileError(\n\u001b[1;32m   2167\u001b[0m                         \u001b[0mutil\u001b[0m\u001b[0;34m.\u001b[0m\u001b[0mu\u001b[0m\u001b[0;34m(\u001b[0m\u001b[0;34m\"(in table '%s', column '%s'): %s\"\u001b[0m\u001b[0;34m)\u001b[0m \u001b[0;34m%\u001b[0m\u001b[0;34m\u001b[0m\u001b[0m\n\u001b[0;32m-> 2168\u001b[0;31m                         \u001b[0;34m(\u001b[0m\u001b[0mtable\u001b[0m\u001b[0;34m.\u001b[0m\u001b[0mdescription\u001b[0m\u001b[0;34m,\u001b[0m \u001b[0mcolumn\u001b[0m\u001b[0;34m.\u001b[0m\u001b[0mname\u001b[0m\u001b[0;34m,\u001b[0m \u001b[0mce\u001b[0m\u001b[0;34m.\u001b[0m\u001b[0margs\u001b[0m\u001b[0;34m[\u001b[0m\u001b[0;36m0\u001b[0m\u001b[0;34m]\u001b[0m\u001b[0;34m)\u001b[0m\u001b[0;34m\u001b[0m\u001b[0m\n\u001b[0m\u001b[1;32m   2169\u001b[0m                     ))\n\u001b[1;32m   2170\u001b[0m \u001b[0;34m\u001b[0m\u001b[0m\n",
      "\u001b[0;32m/Users/bradenhancock/anaconda/lib/python2.7/site-packages/sqlalchemy/util/compat.pyc\u001b[0m in \u001b[0;36mraise_from_cause\u001b[0;34m(exception, exc_info)\u001b[0m\n\u001b[1;32m    200\u001b[0m     \u001b[0mexc_type\u001b[0m\u001b[0;34m,\u001b[0m \u001b[0mexc_value\u001b[0m\u001b[0;34m,\u001b[0m \u001b[0mexc_tb\u001b[0m \u001b[0;34m=\u001b[0m \u001b[0mexc_info\u001b[0m\u001b[0;34m\u001b[0m\u001b[0m\n\u001b[1;32m    201\u001b[0m     \u001b[0mcause\u001b[0m \u001b[0;34m=\u001b[0m \u001b[0mexc_value\u001b[0m \u001b[0;32mif\u001b[0m \u001b[0mexc_value\u001b[0m \u001b[0;32mis\u001b[0m \u001b[0;32mnot\u001b[0m \u001b[0mexception\u001b[0m \u001b[0;32melse\u001b[0m \u001b[0mNone\u001b[0m\u001b[0;34m\u001b[0m\u001b[0m\n\u001b[0;32m--> 202\u001b[0;31m     \u001b[0mreraise\u001b[0m\u001b[0;34m(\u001b[0m\u001b[0mtype\u001b[0m\u001b[0;34m(\u001b[0m\u001b[0mexception\u001b[0m\u001b[0;34m)\u001b[0m\u001b[0;34m,\u001b[0m \u001b[0mexception\u001b[0m\u001b[0;34m,\u001b[0m \u001b[0mtb\u001b[0m\u001b[0;34m=\u001b[0m\u001b[0mexc_tb\u001b[0m\u001b[0;34m,\u001b[0m \u001b[0mcause\u001b[0m\u001b[0;34m=\u001b[0m\u001b[0mcause\u001b[0m\u001b[0;34m)\u001b[0m\u001b[0;34m\u001b[0m\u001b[0m\n\u001b[0m\u001b[1;32m    203\u001b[0m \u001b[0;34m\u001b[0m\u001b[0m\n\u001b[1;32m    204\u001b[0m \u001b[0;32mif\u001b[0m \u001b[0mpy3k\u001b[0m\u001b[0;34m:\u001b[0m\u001b[0;34m\u001b[0m\u001b[0m\n",
      "\u001b[0;32m/Users/bradenhancock/anaconda/lib/python2.7/site-packages/sqlalchemy/sql/compiler.pyc\u001b[0m in \u001b[0;36mvisit_create_table\u001b[0;34m(self, create)\u001b[0m\n\u001b[1;32m   2155\u001b[0m                 processed = self.process(create_column,\n\u001b[1;32m   2156\u001b[0m                                          \u001b[0mfirst_pk\u001b[0m\u001b[0;34m=\u001b[0m\u001b[0mcolumn\u001b[0m\u001b[0;34m.\u001b[0m\u001b[0mprimary_key\u001b[0m\u001b[0;34m\u001b[0m\u001b[0m\n\u001b[0;32m-> 2157\u001b[0;31m                                          and not first_pk)\n\u001b[0m\u001b[1;32m   2158\u001b[0m                 \u001b[0;32mif\u001b[0m \u001b[0mprocessed\u001b[0m \u001b[0;32mis\u001b[0m \u001b[0;32mnot\u001b[0m \u001b[0mNone\u001b[0m\u001b[0;34m:\u001b[0m\u001b[0;34m\u001b[0m\u001b[0m\n\u001b[1;32m   2159\u001b[0m                     \u001b[0mtext\u001b[0m \u001b[0;34m+=\u001b[0m \u001b[0mseparator\u001b[0m\u001b[0;34m\u001b[0m\u001b[0m\n",
      "\u001b[0;32m/Users/bradenhancock/anaconda/lib/python2.7/site-packages/sqlalchemy/sql/compiler.pyc\u001b[0m in \u001b[0;36mprocess\u001b[0;34m(self, obj, **kwargs)\u001b[0m\n\u001b[1;32m    211\u001b[0m \u001b[0;34m\u001b[0m\u001b[0m\n\u001b[1;32m    212\u001b[0m     \u001b[0;32mdef\u001b[0m \u001b[0mprocess\u001b[0m\u001b[0;34m(\u001b[0m\u001b[0mself\u001b[0m\u001b[0;34m,\u001b[0m \u001b[0mobj\u001b[0m\u001b[0;34m,\u001b[0m \u001b[0;34m**\u001b[0m\u001b[0mkwargs\u001b[0m\u001b[0;34m)\u001b[0m\u001b[0;34m:\u001b[0m\u001b[0;34m\u001b[0m\u001b[0m\n\u001b[0;32m--> 213\u001b[0;31m         \u001b[0;32mreturn\u001b[0m \u001b[0mobj\u001b[0m\u001b[0;34m.\u001b[0m\u001b[0m_compiler_dispatch\u001b[0m\u001b[0;34m(\u001b[0m\u001b[0mself\u001b[0m\u001b[0;34m,\u001b[0m \u001b[0;34m**\u001b[0m\u001b[0mkwargs\u001b[0m\u001b[0;34m)\u001b[0m\u001b[0;34m\u001b[0m\u001b[0m\n\u001b[0m\u001b[1;32m    214\u001b[0m \u001b[0;34m\u001b[0m\u001b[0m\n\u001b[1;32m    215\u001b[0m     \u001b[0;32mdef\u001b[0m \u001b[0m__str__\u001b[0m\u001b[0;34m(\u001b[0m\u001b[0mself\u001b[0m\u001b[0;34m)\u001b[0m\u001b[0;34m:\u001b[0m\u001b[0;34m\u001b[0m\u001b[0m\n",
      "\u001b[0;32m/Users/bradenhancock/anaconda/lib/python2.7/site-packages/sqlalchemy/sql/visitors.pyc\u001b[0m in \u001b[0;36m_compiler_dispatch\u001b[0;34m(self, visitor, **kw)\u001b[0m\n\u001b[1;32m     79\u001b[0m                     \u001b[0;32mraise\u001b[0m \u001b[0mexc\u001b[0m\u001b[0;34m.\u001b[0m\u001b[0mUnsupportedCompilationError\u001b[0m\u001b[0;34m(\u001b[0m\u001b[0mvisitor\u001b[0m\u001b[0;34m,\u001b[0m \u001b[0mcls\u001b[0m\u001b[0;34m)\u001b[0m\u001b[0;34m\u001b[0m\u001b[0m\n\u001b[1;32m     80\u001b[0m                 \u001b[0;32melse\u001b[0m\u001b[0;34m:\u001b[0m\u001b[0;34m\u001b[0m\u001b[0m\n\u001b[0;32m---> 81\u001b[0;31m                     \u001b[0;32mreturn\u001b[0m \u001b[0mmeth\u001b[0m\u001b[0;34m(\u001b[0m\u001b[0mself\u001b[0m\u001b[0;34m,\u001b[0m \u001b[0;34m**\u001b[0m\u001b[0mkw\u001b[0m\u001b[0;34m)\u001b[0m\u001b[0;34m\u001b[0m\u001b[0m\n\u001b[0m\u001b[1;32m     82\u001b[0m         \u001b[0;32melse\u001b[0m\u001b[0;34m:\u001b[0m\u001b[0;34m\u001b[0m\u001b[0m\n\u001b[1;32m     83\u001b[0m             \u001b[0;31m# The optimization opportunity is lost for this case because the\u001b[0m\u001b[0;34m\u001b[0m\u001b[0;34m\u001b[0m\u001b[0m\n",
      "\u001b[0;32m/Users/bradenhancock/anaconda/lib/python2.7/site-packages/sqlalchemy/sql/compiler.pyc\u001b[0m in \u001b[0;36mvisit_create_column\u001b[0;34m(self, create, first_pk)\u001b[0m\n\u001b[1;32m   2186\u001b[0m         text = self.get_column_specification(\n\u001b[1;32m   2187\u001b[0m             \u001b[0mcolumn\u001b[0m\u001b[0;34m,\u001b[0m\u001b[0;34m\u001b[0m\u001b[0m\n\u001b[0;32m-> 2188\u001b[0;31m             \u001b[0mfirst_pk\u001b[0m\u001b[0;34m=\u001b[0m\u001b[0mfirst_pk\u001b[0m\u001b[0;34m\u001b[0m\u001b[0m\n\u001b[0m\u001b[1;32m   2189\u001b[0m         )\n\u001b[1;32m   2190\u001b[0m         const = \" \".join(self.process(constraint)\n",
      "\u001b[0;32m/Users/bradenhancock/anaconda/lib/python2.7/site-packages/sqlalchemy/dialects/sqlite/base.pyc\u001b[0m in \u001b[0;36mget_column_specification\u001b[0;34m(self, column, **kwargs)\u001b[0m\n\u001b[1;32m    851\u001b[0m     \u001b[0;32mdef\u001b[0m \u001b[0mget_column_specification\u001b[0m\u001b[0;34m(\u001b[0m\u001b[0mself\u001b[0m\u001b[0;34m,\u001b[0m \u001b[0mcolumn\u001b[0m\u001b[0;34m,\u001b[0m \u001b[0;34m**\u001b[0m\u001b[0mkwargs\u001b[0m\u001b[0;34m)\u001b[0m\u001b[0;34m:\u001b[0m\u001b[0;34m\u001b[0m\u001b[0m\n\u001b[1;32m    852\u001b[0m         coltype = self.dialect.type_compiler.process(\n\u001b[0;32m--> 853\u001b[0;31m             column.type, type_expression=column)\n\u001b[0m\u001b[1;32m    854\u001b[0m         \u001b[0mcolspec\u001b[0m \u001b[0;34m=\u001b[0m \u001b[0mself\u001b[0m\u001b[0;34m.\u001b[0m\u001b[0mpreparer\u001b[0m\u001b[0;34m.\u001b[0m\u001b[0mformat_column\u001b[0m\u001b[0;34m(\u001b[0m\u001b[0mcolumn\u001b[0m\u001b[0;34m)\u001b[0m \u001b[0;34m+\u001b[0m \u001b[0;34m\" \"\u001b[0m \u001b[0;34m+\u001b[0m \u001b[0mcoltype\u001b[0m\u001b[0;34m\u001b[0m\u001b[0m\n\u001b[1;32m    855\u001b[0m         \u001b[0mdefault\u001b[0m \u001b[0;34m=\u001b[0m \u001b[0mself\u001b[0m\u001b[0;34m.\u001b[0m\u001b[0mget_column_default_string\u001b[0m\u001b[0;34m(\u001b[0m\u001b[0mcolumn\u001b[0m\u001b[0;34m)\u001b[0m\u001b[0;34m\u001b[0m\u001b[0m\n",
      "\u001b[0;32m/Users/bradenhancock/anaconda/lib/python2.7/site-packages/sqlalchemy/sql/compiler.pyc\u001b[0m in \u001b[0;36mprocess\u001b[0;34m(self, type_, **kw)\u001b[0m\n\u001b[1;32m    259\u001b[0m \u001b[0;34m\u001b[0m\u001b[0m\n\u001b[1;32m    260\u001b[0m     \u001b[0;32mdef\u001b[0m \u001b[0mprocess\u001b[0m\u001b[0;34m(\u001b[0m\u001b[0mself\u001b[0m\u001b[0;34m,\u001b[0m \u001b[0mtype_\u001b[0m\u001b[0;34m,\u001b[0m \u001b[0;34m**\u001b[0m\u001b[0mkw\u001b[0m\u001b[0;34m)\u001b[0m\u001b[0;34m:\u001b[0m\u001b[0;34m\u001b[0m\u001b[0m\n\u001b[0;32m--> 261\u001b[0;31m         \u001b[0;32mreturn\u001b[0m \u001b[0mtype_\u001b[0m\u001b[0;34m.\u001b[0m\u001b[0m_compiler_dispatch\u001b[0m\u001b[0;34m(\u001b[0m\u001b[0mself\u001b[0m\u001b[0;34m,\u001b[0m \u001b[0;34m**\u001b[0m\u001b[0mkw\u001b[0m\u001b[0;34m)\u001b[0m\u001b[0;34m\u001b[0m\u001b[0m\n\u001b[0m\u001b[1;32m    262\u001b[0m \u001b[0;34m\u001b[0m\u001b[0m\n\u001b[1;32m    263\u001b[0m \u001b[0;34m\u001b[0m\u001b[0m\n",
      "\u001b[0;32m/Users/bradenhancock/anaconda/lib/python2.7/site-packages/sqlalchemy/sql/visitors.pyc\u001b[0m in \u001b[0;36m_compiler_dispatch\u001b[0;34m(self, visitor, **kw)\u001b[0m\n\u001b[1;32m     77\u001b[0m                     \u001b[0mmeth\u001b[0m \u001b[0;34m=\u001b[0m \u001b[0mgetter\u001b[0m\u001b[0;34m(\u001b[0m\u001b[0mvisitor\u001b[0m\u001b[0;34m)\u001b[0m\u001b[0;34m\u001b[0m\u001b[0m\n\u001b[1;32m     78\u001b[0m                 \u001b[0;32mexcept\u001b[0m \u001b[0mAttributeError\u001b[0m\u001b[0;34m:\u001b[0m\u001b[0;34m\u001b[0m\u001b[0m\n\u001b[0;32m---> 79\u001b[0;31m                     \u001b[0;32mraise\u001b[0m \u001b[0mexc\u001b[0m\u001b[0;34m.\u001b[0m\u001b[0mUnsupportedCompilationError\u001b[0m\u001b[0;34m(\u001b[0m\u001b[0mvisitor\u001b[0m\u001b[0;34m,\u001b[0m \u001b[0mcls\u001b[0m\u001b[0;34m)\u001b[0m\u001b[0;34m\u001b[0m\u001b[0m\n\u001b[0m\u001b[1;32m     80\u001b[0m                 \u001b[0;32melse\u001b[0m\u001b[0;34m:\u001b[0m\u001b[0;34m\u001b[0m\u001b[0m\n\u001b[1;32m     81\u001b[0m                     \u001b[0;32mreturn\u001b[0m \u001b[0mmeth\u001b[0m\u001b[0;34m(\u001b[0m\u001b[0mself\u001b[0m\u001b[0;34m,\u001b[0m \u001b[0;34m**\u001b[0m\u001b[0mkw\u001b[0m\u001b[0;34m)\u001b[0m\u001b[0;34m\u001b[0m\u001b[0m\n",
      "\u001b[0;31mCompileError\u001b[0m: (in table 'label_vector', column 'keys'): Compiler <sqlalchemy.dialects.sqlite.base.SQLiteTypeCompiler object at 0x10acb2610> can't render element of type <class 'sqlalchemy.dialects.postgresql.base.ARRAY'>"
     ]
    }
   ],
   "source": [
    "# If necessary\n",
    "import os\n",
    "os.remove('snorkel.db');\n",
    "os.system('cp snorkel.db\\ featurized snorkel.db');\n",
    "\n",
    "%load_ext autoreload\n",
    "%autoreload 2\n",
    "%matplotlib inline\n",
    "\n",
    "import sys\n",
    "sys.path.append(os.environ['SNORKELHOME'] + '/tutorials/tables/')\n",
    "\n",
    "from snorkel import SnorkelSession\n",
    "session = SnorkelSession()\n",
    "\n",
    "from snorkel.models import candidate_subclass\n",
    "Part_Voltage = candidate_subclass('Part_Voltage', ['part','voltage'])\n",
    "from snorkel.models import CandidateSet\n",
    "train = session.query(CandidateSet).filter(\n",
    "    CandidateSet.name == 'Hardware Training Candidates').one()\n",
    "dev = session.query(CandidateSet).filter(\n",
    "    CandidateSet.name == 'Hardware Development Candidates').one()"
   ]
  },
  {
   "cell_type": "markdown",
   "metadata": {},
   "source": [
    "### Define LFs"
   ]
  },
  {
   "cell_type": "code",
   "execution_count": 4,
   "metadata": {
    "collapsed": false
   },
   "outputs": [],
   "source": [
    "from snorkel.fast_annotations import LabelManager\n",
    "from snorkel.lf_helpers import *\n",
    "label_manager = LabelManager()\n",
    "\n",
    "LFs = []\n",
    "\n",
    "###################################################################\n",
    "# BOTH\n",
    "###################################################################\n",
    "\n",
    "# cb_words_individual = set(['collector', 'base', 'voltage'])\n",
    "# cb_words_together = set(['collector-base', 'voltage'])\n",
    "cb_words = set(['collector base', 'collector-base', 'collector - base'])\n",
    "def LF_cb_keywords_all(c):\n",
    "    return 1 if overlap(cb_words, get_row_ngrams(c.voltage, spread=[0,3], n_max=3)) else -1\n",
    "LFs.append(LF_cb_keywords_all)\n",
    "\n",
    "###################################################################\n",
    "# POSITIVE\n",
    "###################################################################\n",
    "    \n",
    "pos_keys = set(['cbo', 'vcbo']) # 'value', 'rating'\n",
    "def LF_pos_keywords_in_row(c):\n",
    "    return 1 if overlap(pos_keys, get_row_ngrams(c.voltage, spread=[0,3])) else 0\n",
    "LFs.append(LF_pos_keywords_in_row)\n",
    "\n",
    "def LF_pos_keywords_horz(c):\n",
    "    return 1 if overlap(pos_keys, get_horz_aligned_ngrams(c.voltage)) else 0\n",
    "LFs.append(LF_pos_keywords_horz)\n",
    "\n",
    "###################################################################\n",
    "# NEGATIVE\n",
    "###################################################################\n",
    "\n",
    "eeca_rgx = '([b]{1}[abcdefklnpqruyz]{1}[\\swxyz]?[0-9]{3,5}[\\s]?[A-Z\\/]{0,5}[0-9]?[A-Z]?([-][A-Z0-9]{1,7})?([-][A-Z0-9]{1,2})?)'\n",
    "jedec_rgx = '([123]N\\d{3,4}[A-Z]{0,5}[0-9]?[A-Z]?)'\n",
    "jis_rgx = '(2S[abcdefghjkmqrstvz]{1}[\\d]{2,4})'\n",
    "others_rgx = '((NSVBC|SMBT|MJ|MJE|MPS|MRF|RCA|TIP|ZTX|ZT|TIS|TIPL|DTC|MMBT|PZT){1}[\\d]{2,4}[A-Z]{0,3}([-][A-Z0-9]{0,6})?([-][A-Z0-9]{0,1})?)'\n",
    "parts_rgx = '|'.join([eeca_rgx, jedec_rgx, jis_rgx, others_rgx])\n",
    "part_sniffer = re.compile(parts_rgx)\n",
    "def LF_cheating_with_another_part(c):\n",
    "    return -1 if (any(part_sniffer.match(x) for x in get_horz_aligned_ngrams(c)) and \n",
    "                     not is_horz_aligned(c)) else 0\n",
    "LFs.append(LF_cheating_with_another_part)\n",
    "\n",
    "def LF_same_table_must_align(c):\n",
    "    part_row_ngrams    = list(get_row_ngrams(c.voltage, spread=[0,3], n_max=2))\n",
    "    volt_row_ngrams = list(get_row_ngrams(c.voltage, spread=[0,3], n_max=2))\n",
    "    return -1 if (overlap(part_row_ngrams, cb_words) and \n",
    "                  overlap(volt_row_ngrams, cb_words) and\n",
    "                  not is_horz_aligned(c)) else 0\n",
    "LFs.append(LF_same_table_must_align)\n",
    "\n",
    "# A good LF, but made obsolete by the throttling condition\n",
    "def LF_not_horz_aligned(c):\n",
    "    return -1 if (same_table(c) and not is_horz_aligned(c)) else 0\n",
    "LFs.append(LF_not_horz_aligned)\n",
    "\n",
    "def LF_voltage_not_in_table(c):\n",
    "    return -1 if c.voltage.parent.table is None else 0\n",
    "LFs.append(LF_voltage_not_in_table)\n",
    "\n",
    "def LF_low_table_num(c):\n",
    "    return -1 if (c.voltage.parent.table and\n",
    "        c.voltage.parent.table.position > 2) else 0\n",
    "LFs.append(LF_low_table_num)\n",
    "\n",
    "neg_keys = set(['continuous', 'emitter', 'cut-off', 'gain'])\n",
    "def LF_specific_neg_row_keywords(c):\n",
    "    return -1 if overlap(neg_keys, get_row_ngrams(c.voltage)) else 0\n",
    "LFs.append(LF_specific_neg_row_keywords)\n",
    "\n",
    "def LF_equals_in_row(c):\n",
    "    return -1 if overlap('=', get_row_ngrams(c.voltage)) else 0\n",
    "LFs.append(LF_equals_in_row)\n",
    "\n",
    "def LF_i_in_row(c):\n",
    "    return -1 if overlap('i', get_row_ngrams(c.voltage)) else 0\n",
    "LFs.append(LF_i_in_row)\n",
    "\n",
    "def LF_too_many_numbers_row(c):\n",
    "    num_numbers = list(get_row_ngrams(c.voltage, attrib=\"ner_tags\")).count('number')\n",
    "    return -1 if num_numbers >= 4 else 0\n",
    "LFs.append(LF_too_many_numbers_row)"
   ]
  },
  {
   "cell_type": "code",
   "execution_count": null,
   "metadata": {
    "collapsed": false
   },
   "outputs": [],
   "source": [
    "from snorkel.models import CandidateSet\n",
    "from snorkel.utils import get_ORM_instance\n",
    "from snorkel.utils import ProgressBar\n",
    "\n",
    "# train = get_ORM_instance(CandidateSet, session, 'Hardware Training Candidates')\n",
    "dev   = get_ORM_instance(CandidateSet, session, 'Hardware Development Candidates')\n",
    "\n",
    "tp = set()\n",
    "fp = set()\n",
    "fn = set()\n",
    "tn = set()\n",
    "pb = ProgressBar(len(dev))\n",
    "\n",
    "def heuristic(c): \n",
    "    return LF_cb_keywords_all(c) == 1 and not (\n",
    "        LF_cheating_with_another_part(c) or\n",
    "        LF_not_horz_aligned(c) or\n",
    "        LF_voltage_not_in_table(c) or\n",
    "        LF_same_table_must_align(c) or\n",
    "        LF_specific_neg_row_keywords(c) or\n",
    "        LF_equals_in_row(c) or\n",
    "        LF_i_in_row(c) or\n",
    "        LF_too_many_numbers_row(c)\n",
    "        )\n",
    "\n",
    "# from snorkel.utils import get_ORM_instance\n",
    "# from snorkel.models import Candidate\n",
    "# all_candidates = session.query(Candidate).all()\n",
    "\n",
    "for i, c in enumerate(dev):\n",
    "    pb.bar(i)\n",
    "    if heuristic(c):\n",
    "        tp.add(c)\n",
    "    else:\n",
    "        tn.add(c)\n",
    "pb.close()"
   ]
  },
  {
   "cell_type": "code",
   "execution_count": null,
   "metadata": {
    "collapsed": false
   },
   "outputs": [],
   "source": [
    "print len(dev)\n",
    "print len(tp) + len(tn)\n",
    "print len(tp)\n",
    "print len(tn)"
   ]
  },
  {
   "cell_type": "markdown",
   "metadata": {},
   "source": [
    "### Apply LFs"
   ]
  },
  {
   "cell_type": "code",
   "execution_count": 5,
   "metadata": {
    "collapsed": false
   },
   "outputs": [
    {
     "name": "stdout",
     "output_type": "stream",
     "text": [
      "[========================================] 100%\n",
      "Bulk upserting 189132 annotations...\n",
      "Done.\n",
      "Loading sparse Label matrix...\n",
      "CPU times: user 3min 19s, sys: 51 s, total: 4min 10s\n",
      "Wall time: 4min 17s\n"
     ]
    },
    {
     "data": {
      "text/plain": [
       "<15761x12 sparse matrix of type '<type 'numpy.float64'>'\n",
       "\twith 58268 stored elements in Compressed Sparse Row format>"
      ]
     },
     "execution_count": 5,
     "metadata": {},
     "output_type": "execute_result"
    }
   ],
   "source": [
    "%time L_train = label_manager.create(session, train, 'LF Labels', f=LFs)\n",
    "L_train"
   ]
  },
  {
   "cell_type": "markdown",
   "metadata": {},
   "source": [
    "### Assess LF accuracy"
   ]
  },
  {
   "cell_type": "code",
   "execution_count": 6,
   "metadata": {
    "collapsed": false
   },
   "outputs": [
    {
     "name": "stdout",
     "output_type": "stream",
     "text": [
      "[========================================] 100%\n",
      "CPU times: user 188 ms, sys: 26.4 ms, total: 214 ms\n",
      "Wall time: 216 ms\n"
     ]
    },
    {
     "data": {
      "text/html": [
       "<div>\n",
       "<table border=\"1\" class=\"dataframe\">\n",
       "  <thead>\n",
       "    <tr style=\"text-align: right;\">\n",
       "      <th></th>\n",
       "      <th>accuracy</th>\n",
       "      <th>conflicts</th>\n",
       "      <th>coverage</th>\n",
       "      <th>j</th>\n",
       "      <th>overlaps</th>\n",
       "    </tr>\n",
       "  </thead>\n",
       "  <tbody>\n",
       "    <tr>\n",
       "      <th>LF_cb_keywords_all</th>\n",
       "      <td>0.712772</td>\n",
       "      <td>0.341539</td>\n",
       "      <td>1.000000</td>\n",
       "      <td>0</td>\n",
       "      <td>1.000000</td>\n",
       "    </tr>\n",
       "    <tr>\n",
       "      <th>LF_pos_keywords_in_row</th>\n",
       "      <td>0.482231</td>\n",
       "      <td>0.335639</td>\n",
       "      <td>0.335639</td>\n",
       "      <td>1</td>\n",
       "      <td>0.335639</td>\n",
       "    </tr>\n",
       "    <tr>\n",
       "      <th>LF_pos_keywords_horz</th>\n",
       "      <td>0.498353</td>\n",
       "      <td>0.154051</td>\n",
       "      <td>0.154051</td>\n",
       "      <td>2</td>\n",
       "      <td>0.154051</td>\n",
       "    </tr>\n",
       "    <tr>\n",
       "      <th>LF_cheating_with_another_part</th>\n",
       "      <td>0.711386</td>\n",
       "      <td>0.153607</td>\n",
       "      <td>0.240721</td>\n",
       "      <td>3</td>\n",
       "      <td>0.240721</td>\n",
       "    </tr>\n",
       "    <tr>\n",
       "      <th>LF_same_table_must_align</th>\n",
       "      <td>0.623160</td>\n",
       "      <td>0.193960</td>\n",
       "      <td>0.193960</td>\n",
       "      <td>4</td>\n",
       "      <td>0.193960</td>\n",
       "    </tr>\n",
       "    <tr>\n",
       "      <th>LF_not_horz_aligned</th>\n",
       "      <td>NaN</td>\n",
       "      <td>0.000000</td>\n",
       "      <td>0.000000</td>\n",
       "      <td>5</td>\n",
       "      <td>0.000000</td>\n",
       "    </tr>\n",
       "    <tr>\n",
       "      <th>LF_voltage_not_in_table</th>\n",
       "      <td>0.820893</td>\n",
       "      <td>0.015164</td>\n",
       "      <td>0.453080</td>\n",
       "      <td>6</td>\n",
       "      <td>0.453080</td>\n",
       "    </tr>\n",
       "    <tr>\n",
       "      <th>LF_low_table_num</th>\n",
       "      <td>0.642923</td>\n",
       "      <td>0.326375</td>\n",
       "      <td>0.546920</td>\n",
       "      <td>7</td>\n",
       "      <td>0.546920</td>\n",
       "    </tr>\n",
       "    <tr>\n",
       "      <th>LF_specific_neg_row_keywords</th>\n",
       "      <td>0.722573</td>\n",
       "      <td>0.031280</td>\n",
       "      <td>0.050314</td>\n",
       "      <td>8</td>\n",
       "      <td>0.050314</td>\n",
       "    </tr>\n",
       "    <tr>\n",
       "      <th>LF_equals_in_row</th>\n",
       "      <td>0.748655</td>\n",
       "      <td>0.078548</td>\n",
       "      <td>0.342047</td>\n",
       "      <td>9</td>\n",
       "      <td>0.342047</td>\n",
       "    </tr>\n",
       "    <tr>\n",
       "      <th>LF_i_in_row</th>\n",
       "      <td>0.792770</td>\n",
       "      <td>0.059451</td>\n",
       "      <td>0.203604</td>\n",
       "      <td>10</td>\n",
       "      <td>0.203604</td>\n",
       "    </tr>\n",
       "    <tr>\n",
       "      <th>LF_too_many_numbers_row</th>\n",
       "      <td>0.757543</td>\n",
       "      <td>0.023856</td>\n",
       "      <td>0.176639</td>\n",
       "      <td>11</td>\n",
       "      <td>0.176639</td>\n",
       "    </tr>\n",
       "  </tbody>\n",
       "</table>\n",
       "</div>"
      ],
      "text/plain": [
       "                               accuracy  conflicts  coverage   j  overlaps\n",
       "LF_cb_keywords_all             0.712772   0.341539  1.000000   0  1.000000\n",
       "LF_pos_keywords_in_row         0.482231   0.335639  0.335639   1  0.335639\n",
       "LF_pos_keywords_horz           0.498353   0.154051  0.154051   2  0.154051\n",
       "LF_cheating_with_another_part  0.711386   0.153607  0.240721   3  0.240721\n",
       "LF_same_table_must_align       0.623160   0.193960  0.193960   4  0.193960\n",
       "LF_not_horz_aligned                 NaN   0.000000  0.000000   5  0.000000\n",
       "LF_voltage_not_in_table        0.820893   0.015164  0.453080   6  0.453080\n",
       "LF_low_table_num               0.642923   0.326375  0.546920   7  0.546920\n",
       "LF_specific_neg_row_keywords   0.722573   0.031280  0.050314   8  0.050314\n",
       "LF_equals_in_row               0.748655   0.078548  0.342047   9  0.342047\n",
       "LF_i_in_row                    0.792770   0.059451  0.203604  10  0.203604\n",
       "LF_too_many_numbers_row        0.757543   0.023856  0.176639  11  0.176639"
      ]
     },
     "execution_count": 6,
     "metadata": {},
     "output_type": "execute_result"
    }
   ],
   "source": [
    "train_gold = session.query(CandidateSet).filter(\n",
    "    CandidateSet.name == 'Hardware Training Candidates -- Gold').one()\n",
    "%time L_train.lf_stats(train_gold)"
   ]
  },
  {
   "cell_type": "code",
   "execution_count": 7,
   "metadata": {
    "collapsed": true
   },
   "outputs": [],
   "source": [
    "# If necessary\n",
    "import os\n",
    "os.system('cp snorkel.db snorkel.db\\ features');"
   ]
  },
  {
   "cell_type": "markdown",
   "metadata": {},
   "source": [
    "## Learn and Evaluate"
   ]
  },
  {
   "cell_type": "code",
   "execution_count": null,
   "metadata": {
    "collapsed": false
   },
   "outputs": [],
   "source": [
    "# If necessary:\n",
    "import os\n",
    "os.remove('snorkel.db');\n",
    "os.system('cp snorkel.db\\ features snorkel.db');\n",
    "\n",
    "%load_ext autoreload\n",
    "%autoreload 2\n",
    "%matplotlib inline\n",
    "\n",
    "import sys\n",
    "sys.path.append(os.environ['SNORKELHOME'] + '/tutorials/tables/')\n",
    "\n",
    "from snorkel import SnorkelSession\n",
    "session = SnorkelSession()\n",
    "\n",
    "from snorkel.models import candidate_subclass\n",
    "Part_Voltage = candidate_subclass('Part_Voltage', ['part','voltage'])"
   ]
  },
  {
   "cell_type": "code",
   "execution_count": 8,
   "metadata": {
    "collapsed": false
   },
   "outputs": [
    {
     "name": "stdout",
     "output_type": "stream",
     "text": [
      "CPU times: user 7min 20s, sys: 7min 35s, total: 14min 55s\n",
      "Wall time: 19min 6s\n",
      "CPU times: user 5min 4s, sys: 6min 39s, total: 11min 43s\n",
      "Wall time: 17min 25s\n",
      "CPU times: user 2.04 s, sys: 330 ms, total: 2.37 s\n",
      "Wall time: 2.94 s\n"
     ]
    }
   ],
   "source": [
    "from snorkel.fast_annotations import FeatureManager, LabelManager\n",
    "from snorkel.models import CandidateSet\n",
    "train = session.query(CandidateSet).filter(\n",
    "    CandidateSet.name == 'Hardware Training Candidates').one()\n",
    "dev = session.query(CandidateSet).filter(\n",
    "    CandidateSet.name == 'Hardware Development Candidates').one()\n",
    "\n",
    "feature_manager = FeatureManager()\n",
    "%time F_train = feature_manager.load(session, train, 'Train Features')\n",
    "%time F_dev = feature_manager.load(session, dev, 'Train Features')\n",
    "\n",
    "label_manager = LabelManager()\n",
    "%time L_train = label_manager.load(session, train, 'LF Labels')"
   ]
  },
  {
   "cell_type": "code",
   "execution_count": 9,
   "metadata": {
    "collapsed": false,
    "scrolled": false
   },
   "outputs": [
    {
     "name": "stderr",
     "output_type": "stream",
     "text": [
      "[autoreload of snorkel.models.context failed: Traceback (most recent call last):\n",
      "  File \"/Users/bradenhancock/anaconda/lib/python2.7/site-packages/IPython/extensions/autoreload.py\", line 247, in check\n",
      "    superreload(m, reload, self.old_objects)\n",
      "InvalidRequestError: Table 'corpus_document_association' is already defined for this MetaData instance.  Specify 'extend_existing=True' to redefine options and columns on an existing Table object.\n",
      "]\n",
      "[autoreload of snorkel.features.table_features failed: Traceback (most recent call last):\n",
      "  File \"/Users/bradenhancock/anaconda/lib/python2.7/site-packages/IPython/extensions/autoreload.py\", line 247, in check\n",
      "    superreload(m, reload, self.old_objects)\n",
      "  File \"/Users/bradenhancock/snorkel/snorkel/features/table_features.py\", line 68\n",
      "    if span1.is_tabular() and span2.is_tabular()\n",
      "                                               ^\n",
      "SyntaxError: invalid syntax\n",
      "]\n",
      "/Users/bradenhancock/anaconda/lib/python2.7/site-packages/matplotlib/__init__.py:1318: UserWarning:  This call to matplotlib.use() has no effect\n",
      "because the backend has already been chosen;\n",
      "matplotlib.use() must be called *before* pylab, matplotlib.pyplot,\n",
      "or matplotlib.backends is imported for the first time.\n",
      "\n",
      "  warnings.warn(_use_error_msg)\n"
     ]
    },
    {
     "name": "stdout",
     "output_type": "stream",
     "text": [
      "================================================================================\n",
      "Training marginals (!= 0.5):\t15761\n",
      "Features:\t\t\t12\n",
      "================================================================================\n",
      "Begin training for rate=1e-06, mu=1e-06\n",
      "\tLearning epoch = 0\tGradient mag. = 0.308585\n",
      "\tLearning epoch = 250\tGradient mag. = 0.324781\n",
      "\tLearning epoch = 500\tGradient mag. = 0.324737\n",
      "\tLearning epoch = 750\tGradient mag. = 0.324692\n",
      "\tLearning epoch = 1000\tGradient mag. = 0.324647\n",
      "\tLearning epoch = 1250\tGradient mag. = 0.324602\n",
      "\tLearning epoch = 1500\tGradient mag. = 0.324558\n",
      "\tLearning epoch = 1750\tGradient mag. = 0.324513\n",
      "\tLearning epoch = 2000\tGradient mag. = 0.324468\n",
      "\tLearning epoch = 2250\tGradient mag. = 0.324423\n",
      "\tLearning epoch = 2500\tGradient mag. = 0.324378\n",
      "\tLearning epoch = 2750\tGradient mag. = 0.324333\n",
      "\tLearning epoch = 3000\tGradient mag. = 0.324288\n",
      "\tLearning epoch = 3250\tGradient mag. = 0.324243\n",
      "\tLearning epoch = 3500\tGradient mag. = 0.324198\n",
      "\tLearning epoch = 3750\tGradient mag. = 0.324153\n",
      "\tLearning epoch = 4000\tGradient mag. = 0.324108\n",
      "\tLearning epoch = 4250\tGradient mag. = 0.324063\n",
      "\tLearning epoch = 4500\tGradient mag. = 0.324018\n",
      "\tLearning epoch = 4750\tGradient mag. = 0.323973\n",
      "\tLearning epoch = 5000\tGradient mag. = 0.323928\n",
      "\tLearning epoch = 5250\tGradient mag. = 0.323883\n",
      "\tLearning epoch = 5500\tGradient mag. = 0.323838\n",
      "\tLearning epoch = 5750\tGradient mag. = 0.323792\n",
      "\tLearning epoch = 6000\tGradient mag. = 0.323747\n",
      "\tLearning epoch = 6250\tGradient mag. = 0.323702\n",
      "\tLearning epoch = 6500\tGradient mag. = 0.323657\n",
      "\tLearning epoch = 6750\tGradient mag. = 0.323611\n",
      "\tLearning epoch = 7000\tGradient mag. = 0.323566\n",
      "\tLearning epoch = 7250\tGradient mag. = 0.323521\n",
      "\tLearning epoch = 7500\tGradient mag. = 0.323475\n",
      "\tLearning epoch = 7750\tGradient mag. = 0.323430\n",
      "\tLearning epoch = 8000\tGradient mag. = 0.323384\n",
      "\tLearning epoch = 8250\tGradient mag. = 0.323339\n",
      "\tLearning epoch = 8500\tGradient mag. = 0.323293\n",
      "\tLearning epoch = 8750\tGradient mag. = 0.323248\n",
      "\tLearning epoch = 9000\tGradient mag. = 0.323202\n",
      "\tLearning epoch = 9250\tGradient mag. = 0.323157\n",
      "\tLearning epoch = 9500\tGradient mag. = 0.323111\n",
      "\tLearning epoch = 9750\tGradient mag. = 0.323065\n",
      "\tLearning epoch = 10000\tGradient mag. = 0.323020\n",
      "\tLearning epoch = 10250\tGradient mag. = 0.322974\n",
      "\tLearning epoch = 10500\tGradient mag. = 0.322928\n",
      "\tLearning epoch = 10750\tGradient mag. = 0.322883\n",
      "\tLearning epoch = 11000\tGradient mag. = 0.322837\n",
      "\tLearning epoch = 11250\tGradient mag. = 0.322791\n",
      "\tLearning epoch = 11500\tGradient mag. = 0.322745\n",
      "\tLearning epoch = 11750\tGradient mag. = 0.322700\n",
      "\tLearning epoch = 12000\tGradient mag. = 0.322654\n",
      "\tLearning epoch = 12250\tGradient mag. = 0.322608\n",
      "\tLearning epoch = 12500\tGradient mag. = 0.322562\n",
      "\tLearning epoch = 12750\tGradient mag. = 0.322516\n",
      "\tLearning epoch = 13000\tGradient mag. = 0.322470\n",
      "\tLearning epoch = 13250\tGradient mag. = 0.322424\n",
      "\tLearning epoch = 13500\tGradient mag. = 0.322378\n",
      "\tLearning epoch = 13750\tGradient mag. = 0.322332\n",
      "\tLearning epoch = 14000\tGradient mag. = 0.322286\n",
      "\tLearning epoch = 14250\tGradient mag. = 0.322240\n",
      "\tLearning epoch = 14500\tGradient mag. = 0.322194\n",
      "\tLearning epoch = 14750\tGradient mag. = 0.322148\n",
      "\tLearning epoch = 15000\tGradient mag. = 0.322102\n",
      "\tLearning epoch = 15250\tGradient mag. = 0.322055\n",
      "\tLearning epoch = 15500\tGradient mag. = 0.322009\n",
      "\tLearning epoch = 15750\tGradient mag. = 0.321963\n",
      "\tLearning epoch = 16000\tGradient mag. = 0.321917\n",
      "\tLearning epoch = 16250\tGradient mag. = 0.321870\n",
      "\tLearning epoch = 16500\tGradient mag. = 0.321824\n",
      "\tLearning epoch = 16750\tGradient mag. = 0.321778\n",
      "\tLearning epoch = 17000\tGradient mag. = 0.321731\n",
      "\tLearning epoch = 17250\tGradient mag. = 0.321685\n",
      "\tLearning epoch = 17500\tGradient mag. = 0.321639\n",
      "\tLearning epoch = 17750\tGradient mag. = 0.321592\n",
      "\tLearning epoch = 18000\tGradient mag. = 0.321546\n",
      "\tLearning epoch = 18250\tGradient mag. = 0.321499\n",
      "\tLearning epoch = 18500\tGradient mag. = 0.321453\n",
      "\tLearning epoch = 18750\tGradient mag. = 0.321406\n",
      "\tLearning epoch = 19000\tGradient mag. = 0.321360\n",
      "\tLearning epoch = 19250\tGradient mag. = 0.321313\n",
      "\tLearning epoch = 19500\tGradient mag. = 0.321266\n",
      "\tLearning epoch = 19750\tGradient mag. = 0.321220\n",
      "\tLearning epoch = 20000\tGradient mag. = 0.321173\n",
      "\tLearning epoch = 20250\tGradient mag. = 0.321126\n",
      "\tLearning epoch = 20500\tGradient mag. = 0.321080\n",
      "\tLearning epoch = 20750\tGradient mag. = 0.321033\n",
      "\tLearning epoch = 21000\tGradient mag. = 0.320986\n",
      "\tLearning epoch = 21250\tGradient mag. = 0.320939\n",
      "\tLearning epoch = 21500\tGradient mag. = 0.320892\n",
      "\tLearning epoch = 21750\tGradient mag. = 0.320846\n",
      "\tLearning epoch = 22000\tGradient mag. = 0.320799\n",
      "\tLearning epoch = 22250\tGradient mag. = 0.320752\n",
      "\tLearning epoch = 22500\tGradient mag. = 0.320705\n",
      "\tLearning epoch = 22750\tGradient mag. = 0.320658\n",
      "\tLearning epoch = 23000\tGradient mag. = 0.320611\n",
      "\tLearning epoch = 23250\tGradient mag. = 0.320564\n",
      "\tLearning epoch = 23500\tGradient mag. = 0.320517\n",
      "\tLearning epoch = 23750\tGradient mag. = 0.320470\n",
      "\tLearning epoch = 24000\tGradient mag. = 0.320423\n",
      "\tLearning epoch = 24250\tGradient mag. = 0.320376\n",
      "\tLearning epoch = 24500\tGradient mag. = 0.320329\n",
      "\tLearning epoch = 24750\tGradient mag. = 0.320281\n",
      "\tLearning epoch = 25000\tGradient mag. = 0.320234\n",
      "\tLearning epoch = 25250\tGradient mag. = 0.320187\n",
      "\tLearning epoch = 25500\tGradient mag. = 0.320140\n",
      "\tLearning epoch = 25750\tGradient mag. = 0.320092\n",
      "\tLearning epoch = 26000\tGradient mag. = 0.320045\n",
      "\tLearning epoch = 26250\tGradient mag. = 0.319998\n",
      "\tLearning epoch = 26500\tGradient mag. = 0.319950\n",
      "\tLearning epoch = 26750\tGradient mag. = 0.319903\n",
      "\tLearning epoch = 27000\tGradient mag. = 0.319856\n",
      "\tLearning epoch = 27250\tGradient mag. = 0.319808\n",
      "\tLearning epoch = 27500\tGradient mag. = 0.319761\n",
      "\tLearning epoch = 27750\tGradient mag. = 0.319713\n",
      "\tLearning epoch = 28000\tGradient mag. = 0.319666\n",
      "\tLearning epoch = 28250\tGradient mag. = 0.319618\n",
      "\tLearning epoch = 28500\tGradient mag. = 0.319571\n",
      "\tLearning epoch = 28750\tGradient mag. = 0.319523\n",
      "\tLearning epoch = 29000\tGradient mag. = 0.319475\n",
      "\tLearning epoch = 29250\tGradient mag. = 0.319428\n",
      "\tLearning epoch = 29500\tGradient mag. = 0.319380\n",
      "\tLearning epoch = 29750\tGradient mag. = 0.319332\n",
      "\tLearning epoch = 30000\tGradient mag. = 0.319285\n",
      "\tLearning epoch = 30250\tGradient mag. = 0.319237\n",
      "\tLearning epoch = 30500\tGradient mag. = 0.319189\n",
      "\tLearning epoch = 30750\tGradient mag. = 0.319141\n",
      "\tLearning epoch = 31000\tGradient mag. = 0.319094\n",
      "\tLearning epoch = 31250\tGradient mag. = 0.319046\n",
      "\tLearning epoch = 31500\tGradient mag. = 0.318998\n",
      "\tLearning epoch = 31750\tGradient mag. = 0.318950\n",
      "\tLearning epoch = 32000\tGradient mag. = 0.318902\n",
      "\tLearning epoch = 32250\tGradient mag. = 0.318854\n",
      "\tLearning epoch = 32500\tGradient mag. = 0.318806\n",
      "\tLearning epoch = 32750\tGradient mag. = 0.318758\n",
      "\tLearning epoch = 33000\tGradient mag. = 0.318710\n",
      "\tLearning epoch = 33250\tGradient mag. = 0.318662\n",
      "\tLearning epoch = 33500\tGradient mag. = 0.318614\n",
      "\tLearning epoch = 33750\tGradient mag. = 0.318566\n",
      "\tLearning epoch = 34000\tGradient mag. = 0.318518\n",
      "\tLearning epoch = 34250\tGradient mag. = 0.318469\n",
      "\tLearning epoch = 34500\tGradient mag. = 0.318421\n",
      "\tLearning epoch = 34750\tGradient mag. = 0.318373\n",
      "\tLearning epoch = 35000\tGradient mag. = 0.318325\n",
      "\tLearning epoch = 35250\tGradient mag. = 0.318276\n",
      "\tLearning epoch = 35500\tGradient mag. = 0.318228\n",
      "\tLearning epoch = 35750\tGradient mag. = 0.318180\n",
      "\tLearning epoch = 36000\tGradient mag. = 0.318131\n",
      "\tLearning epoch = 36250\tGradient mag. = 0.318083\n",
      "\tLearning epoch = 36500\tGradient mag. = 0.318035\n",
      "\tLearning epoch = 36750\tGradient mag. = 0.317986\n",
      "\tLearning epoch = 37000\tGradient mag. = 0.317938\n",
      "\tLearning epoch = 37250\tGradient mag. = 0.317889\n",
      "\tLearning epoch = 37500\tGradient mag. = 0.317841\n",
      "\tLearning epoch = 37750\tGradient mag. = 0.317792\n",
      "\tLearning epoch = 38000\tGradient mag. = 0.317743\n",
      "\tLearning epoch = 38250\tGradient mag. = 0.317695\n",
      "\tLearning epoch = 38500\tGradient mag. = 0.317646\n",
      "\tLearning epoch = 38750\tGradient mag. = 0.317598\n",
      "\tLearning epoch = 39000\tGradient mag. = 0.317549\n",
      "\tLearning epoch = 39250\tGradient mag. = 0.317500\n",
      "\tLearning epoch = 39500\tGradient mag. = 0.317451\n",
      "\tLearning epoch = 39750\tGradient mag. = 0.317403\n",
      "\tLearning epoch = 40000\tGradient mag. = 0.317354\n",
      "\tLearning epoch = 40250\tGradient mag. = 0.317305\n",
      "\tLearning epoch = 40500\tGradient mag. = 0.317256\n",
      "\tLearning epoch = 40750\tGradient mag. = 0.317207\n",
      "\tLearning epoch = 41000\tGradient mag. = 0.317158\n",
      "\tLearning epoch = 41250\tGradient mag. = 0.317109\n",
      "\tLearning epoch = 41500\tGradient mag. = 0.317061\n",
      "\tLearning epoch = 41750\tGradient mag. = 0.317012\n",
      "\tLearning epoch = 42000\tGradient mag. = 0.316963\n",
      "\tLearning epoch = 42250\tGradient mag. = 0.316913\n",
      "\tLearning epoch = 42500\tGradient mag. = 0.316864\n",
      "\tLearning epoch = 42750\tGradient mag. = 0.316815\n",
      "\tLearning epoch = 43000\tGradient mag. = 0.316766\n",
      "\tLearning epoch = 43250\tGradient mag. = 0.316717\n",
      "\tLearning epoch = 43500\tGradient mag. = 0.316668\n",
      "\tLearning epoch = 43750\tGradient mag. = 0.316619\n",
      "\tLearning epoch = 44000\tGradient mag. = 0.316569\n",
      "\tLearning epoch = 44250\tGradient mag. = 0.316520\n",
      "\tLearning epoch = 44500\tGradient mag. = 0.316471\n",
      "\tLearning epoch = 44750\tGradient mag. = 0.316422\n",
      "\tLearning epoch = 45000\tGradient mag. = 0.316372\n",
      "\tLearning epoch = 45250\tGradient mag. = 0.316323\n",
      "\tLearning epoch = 45500\tGradient mag. = 0.316274\n",
      "\tLearning epoch = 45750\tGradient mag. = 0.316224\n",
      "\tLearning epoch = 46000\tGradient mag. = 0.316175\n",
      "\tLearning epoch = 46250\tGradient mag. = 0.316125\n",
      "\tLearning epoch = 46500\tGradient mag. = 0.316076\n",
      "\tLearning epoch = 46750\tGradient mag. = 0.316026\n",
      "\tLearning epoch = 47000\tGradient mag. = 0.315977\n",
      "\tLearning epoch = 47250\tGradient mag. = 0.315927\n",
      "\tLearning epoch = 47500\tGradient mag. = 0.315877\n",
      "\tLearning epoch = 47750\tGradient mag. = 0.315828\n",
      "\tLearning epoch = 48000\tGradient mag. = 0.315778\n",
      "\tLearning epoch = 48250\tGradient mag. = 0.315728\n",
      "\tLearning epoch = 48500\tGradient mag. = 0.315679\n",
      "\tLearning epoch = 48750\tGradient mag. = 0.315629\n",
      "\tLearning epoch = 49000\tGradient mag. = 0.315579\n",
      "\tLearning epoch = 49250\tGradient mag. = 0.315529\n",
      "\tLearning epoch = 49500\tGradient mag. = 0.315479\n",
      "\tLearning epoch = 49750\tGradient mag. = 0.315430\n",
      "\tLearning epoch = 50000\tGradient mag. = 0.315380\n",
      "\tLearning epoch = 50250\tGradient mag. = 0.315330\n",
      "\tLearning epoch = 50500\tGradient mag. = 0.315280\n",
      "\tLearning epoch = 50750\tGradient mag. = 0.315230\n",
      "\tLearning epoch = 51000\tGradient mag. = 0.315180\n",
      "\tLearning epoch = 51250\tGradient mag. = 0.315130\n",
      "\tLearning epoch = 51500\tGradient mag. = 0.315080\n",
      "\tLearning epoch = 51750\tGradient mag. = 0.315030\n",
      "\tLearning epoch = 52000\tGradient mag. = 0.314980\n",
      "\tLearning epoch = 52250\tGradient mag. = 0.314930\n",
      "\tLearning epoch = 52500\tGradient mag. = 0.314879\n",
      "\tLearning epoch = 52750\tGradient mag. = 0.314829\n",
      "\tLearning epoch = 53000\tGradient mag. = 0.314779\n",
      "\tLearning epoch = 53250\tGradient mag. = 0.314729\n",
      "\tLearning epoch = 53500\tGradient mag. = 0.314678\n",
      "\tLearning epoch = 53750\tGradient mag. = 0.314628\n",
      "\tLearning epoch = 54000\tGradient mag. = 0.314578\n",
      "\tLearning epoch = 54250\tGradient mag. = 0.314527\n",
      "\tLearning epoch = 54500\tGradient mag. = 0.314477\n",
      "\tLearning epoch = 54750\tGradient mag. = 0.314427\n",
      "\tLearning epoch = 55000\tGradient mag. = 0.314376\n",
      "\tLearning epoch = 55250\tGradient mag. = 0.314326\n",
      "\tLearning epoch = 55500\tGradient mag. = 0.314275\n",
      "\tLearning epoch = 55750\tGradient mag. = 0.314225\n",
      "\tLearning epoch = 56000\tGradient mag. = 0.314174\n",
      "\tLearning epoch = 56250\tGradient mag. = 0.314124\n",
      "\tLearning epoch = 56500\tGradient mag. = 0.314073\n",
      "\tLearning epoch = 56750\tGradient mag. = 0.314022\n",
      "\tLearning epoch = 57000\tGradient mag. = 0.313972\n",
      "\tLearning epoch = 57250\tGradient mag. = 0.313921\n",
      "\tLearning epoch = 57500\tGradient mag. = 0.313870\n",
      "\tLearning epoch = 57750\tGradient mag. = 0.313820\n",
      "\tLearning epoch = 58000\tGradient mag. = 0.313769\n",
      "\tLearning epoch = 58250\tGradient mag. = 0.313718\n",
      "\tLearning epoch = 58500\tGradient mag. = 0.313667\n",
      "\tLearning epoch = 58750\tGradient mag. = 0.313616\n",
      "\tLearning epoch = 59000\tGradient mag. = 0.313565\n",
      "\tLearning epoch = 59250\tGradient mag. = 0.313514\n",
      "\tLearning epoch = 59500\tGradient mag. = 0.313464\n",
      "\tLearning epoch = 59750\tGradient mag. = 0.313413\n",
      "\tLearning epoch = 60000\tGradient mag. = 0.313362\n",
      "\tLearning epoch = 60250\tGradient mag. = 0.313311\n",
      "\tLearning epoch = 60500\tGradient mag. = 0.313259\n",
      "\tLearning epoch = 60750\tGradient mag. = 0.313208\n",
      "\tLearning epoch = 61000\tGradient mag. = 0.313157\n",
      "\tLearning epoch = 61250\tGradient mag. = 0.313106\n",
      "\tLearning epoch = 61500\tGradient mag. = 0.313055\n",
      "\tLearning epoch = 61750\tGradient mag. = 0.313004\n",
      "\tLearning epoch = 62000\tGradient mag. = 0.312953\n",
      "\tLearning epoch = 62250\tGradient mag. = 0.312901\n",
      "\tLearning epoch = 62500\tGradient mag. = 0.312850\n",
      "\tLearning epoch = 62750\tGradient mag. = 0.312799\n",
      "\tLearning epoch = 63000\tGradient mag. = 0.312747\n",
      "\tLearning epoch = 63250\tGradient mag. = 0.312696\n",
      "\tLearning epoch = 63500\tGradient mag. = 0.312645\n",
      "\tLearning epoch = 63750\tGradient mag. = 0.312593\n",
      "\tLearning epoch = 64000\tGradient mag. = 0.312542\n",
      "\tLearning epoch = 64250\tGradient mag. = 0.312490\n",
      "\tLearning epoch = 64500\tGradient mag. = 0.312439\n",
      "\tLearning epoch = 64750\tGradient mag. = 0.312387\n",
      "\tLearning epoch = 65000\tGradient mag. = 0.312336\n",
      "\tLearning epoch = 65250\tGradient mag. = 0.312284\n",
      "\tLearning epoch = 65500\tGradient mag. = 0.312232\n",
      "\tLearning epoch = 65750\tGradient mag. = 0.312181\n",
      "\tLearning epoch = 66000\tGradient mag. = 0.312129\n",
      "\tLearning epoch = 66250\tGradient mag. = 0.312077\n",
      "\tLearning epoch = 66500\tGradient mag. = 0.312026\n",
      "\tLearning epoch = 66750\tGradient mag. = 0.311974\n",
      "\tLearning epoch = 67000\tGradient mag. = 0.311922\n",
      "\tLearning epoch = 67250\tGradient mag. = 0.311870\n",
      "\tLearning epoch = 67500\tGradient mag. = 0.311818\n",
      "\tLearning epoch = 67750\tGradient mag. = 0.311767\n",
      "\tLearning epoch = 68000\tGradient mag. = 0.311715\n",
      "\tLearning epoch = 68250\tGradient mag. = 0.311663\n",
      "\tLearning epoch = 68500\tGradient mag. = 0.311611\n",
      "\tLearning epoch = 68750\tGradient mag. = 0.311559\n",
      "\tLearning epoch = 69000\tGradient mag. = 0.311507\n",
      "\tLearning epoch = 69250\tGradient mag. = 0.311455\n",
      "\tLearning epoch = 69500\tGradient mag. = 0.311403\n",
      "\tLearning epoch = 69750\tGradient mag. = 0.311351\n",
      "\tLearning epoch = 70000\tGradient mag. = 0.311298\n",
      "\tLearning epoch = 70250\tGradient mag. = 0.311246\n",
      "\tLearning epoch = 70500\tGradient mag. = 0.311194\n",
      "\tLearning epoch = 70750\tGradient mag. = 0.311142\n",
      "\tLearning epoch = 71000\tGradient mag. = 0.311090\n",
      "\tLearning epoch = 71250\tGradient mag. = 0.311037\n",
      "\tLearning epoch = 71500\tGradient mag. = 0.310985\n",
      "\tLearning epoch = 71750\tGradient mag. = 0.310933\n",
      "\tLearning epoch = 72000\tGradient mag. = 0.310880\n",
      "\tLearning epoch = 72250\tGradient mag. = 0.310828\n",
      "\tLearning epoch = 72500\tGradient mag. = 0.310776\n",
      "\tLearning epoch = 72750\tGradient mag. = 0.310723\n",
      "\tLearning epoch = 73000\tGradient mag. = 0.310671\n",
      "\tLearning epoch = 73250\tGradient mag. = 0.310618\n",
      "\tLearning epoch = 73500\tGradient mag. = 0.310566\n",
      "\tLearning epoch = 73750\tGradient mag. = 0.310513\n",
      "\tLearning epoch = 74000\tGradient mag. = 0.310461\n",
      "\tLearning epoch = 74250\tGradient mag. = 0.310408\n",
      "\tLearning epoch = 74500\tGradient mag. = 0.310355\n",
      "\tLearning epoch = 74750\tGradient mag. = 0.310303\n",
      "\tLearning epoch = 75000\tGradient mag. = 0.310250\n",
      "\tLearning epoch = 75250\tGradient mag. = 0.310197\n",
      "\tLearning epoch = 75500\tGradient mag. = 0.310144\n",
      "\tLearning epoch = 75750\tGradient mag. = 0.310092\n",
      "\tLearning epoch = 76000\tGradient mag. = 0.310039\n",
      "\tLearning epoch = 76250\tGradient mag. = 0.309986\n",
      "\tLearning epoch = 76500\tGradient mag. = 0.309933\n",
      "\tLearning epoch = 76750\tGradient mag. = 0.309880\n",
      "\tLearning epoch = 77000\tGradient mag. = 0.309827\n",
      "\tLearning epoch = 77250\tGradient mag. = 0.309774\n",
      "\tLearning epoch = 77500\tGradient mag. = 0.309721\n",
      "\tLearning epoch = 77750\tGradient mag. = 0.309668\n",
      "\tLearning epoch = 78000\tGradient mag. = 0.309615\n",
      "\tLearning epoch = 78250\tGradient mag. = 0.309562\n",
      "\tLearning epoch = 78500\tGradient mag. = 0.309509\n",
      "\tLearning epoch = 78750\tGradient mag. = 0.309456\n",
      "\tLearning epoch = 79000\tGradient mag. = 0.309403\n",
      "\tLearning epoch = 79250\tGradient mag. = 0.309350\n",
      "\tLearning epoch = 79500\tGradient mag. = 0.309296\n",
      "\tLearning epoch = 79750\tGradient mag. = 0.309243\n",
      "\tLearning epoch = 80000\tGradient mag. = 0.309190\n",
      "\tLearning epoch = 80250\tGradient mag. = 0.309137\n",
      "\tLearning epoch = 80500\tGradient mag. = 0.309083\n",
      "\tLearning epoch = 80750\tGradient mag. = 0.309030\n",
      "\tLearning epoch = 81000\tGradient mag. = 0.308976\n",
      "\tLearning epoch = 81250\tGradient mag. = 0.308923\n",
      "\tLearning epoch = 81500\tGradient mag. = 0.308870\n",
      "\tLearning epoch = 81750\tGradient mag. = 0.308816\n",
      "\tLearning epoch = 82000\tGradient mag. = 0.308763\n",
      "\tLearning epoch = 82250\tGradient mag. = 0.308709\n",
      "\tLearning epoch = 82500\tGradient mag. = 0.308656\n",
      "\tLearning epoch = 82750\tGradient mag. = 0.308602\n",
      "\tLearning epoch = 83000\tGradient mag. = 0.308548\n",
      "\tLearning epoch = 83250\tGradient mag. = 0.308495\n",
      "\tLearning epoch = 83500\tGradient mag. = 0.308441\n",
      "\tLearning epoch = 83750\tGradient mag. = 0.308387\n",
      "\tLearning epoch = 84000\tGradient mag. = 0.308334\n",
      "\tLearning epoch = 84250\tGradient mag. = 0.308280\n",
      "\tLearning epoch = 84500\tGradient mag. = 0.308226\n",
      "\tLearning epoch = 84750\tGradient mag. = 0.308172\n",
      "\tLearning epoch = 85000\tGradient mag. = 0.308118\n",
      "\tLearning epoch = 85250\tGradient mag. = 0.308064\n",
      "\tLearning epoch = 85500\tGradient mag. = 0.308010\n",
      "\tLearning epoch = 85750\tGradient mag. = 0.307957\n",
      "\tLearning epoch = 86000\tGradient mag. = 0.307903\n",
      "\tLearning epoch = 86250\tGradient mag. = 0.307849\n",
      "\tLearning epoch = 86500\tGradient mag. = 0.307795\n",
      "\tLearning epoch = 86750\tGradient mag. = 0.307740\n",
      "\tLearning epoch = 87000\tGradient mag. = 0.307686\n",
      "\tLearning epoch = 87250\tGradient mag. = 0.307632\n",
      "\tLearning epoch = 87500\tGradient mag. = 0.307578\n",
      "\tLearning epoch = 87750\tGradient mag. = 0.307524\n",
      "\tLearning epoch = 88000\tGradient mag. = 0.307470\n",
      "\tLearning epoch = 88250\tGradient mag. = 0.307415\n",
      "\tLearning epoch = 88500\tGradient mag. = 0.307361\n",
      "\tLearning epoch = 88750\tGradient mag. = 0.307307\n",
      "\tLearning epoch = 89000\tGradient mag. = 0.307253\n",
      "\tLearning epoch = 89250\tGradient mag. = 0.307198\n",
      "\tLearning epoch = 89500\tGradient mag. = 0.307144\n",
      "\tLearning epoch = 89750\tGradient mag. = 0.307089\n",
      "\tLearning epoch = 90000\tGradient mag. = 0.307035\n",
      "\tLearning epoch = 90250\tGradient mag. = 0.306981\n",
      "\tLearning epoch = 90500\tGradient mag. = 0.306926\n",
      "\tLearning epoch = 90750\tGradient mag. = 0.306872\n",
      "\tLearning epoch = 91000\tGradient mag. = 0.306817\n",
      "\tLearning epoch = 91250\tGradient mag. = 0.306762\n",
      "\tLearning epoch = 91500\tGradient mag. = 0.306708\n",
      "\tLearning epoch = 91750\tGradient mag. = 0.306653\n",
      "\tLearning epoch = 92000\tGradient mag. = 0.306598\n",
      "\tLearning epoch = 92250\tGradient mag. = 0.306544\n",
      "\tLearning epoch = 92500\tGradient mag. = 0.306489\n",
      "\tLearning epoch = 92750\tGradient mag. = 0.306434\n",
      "\tLearning epoch = 93000\tGradient mag. = 0.306379\n",
      "\tLearning epoch = 93250\tGradient mag. = 0.306325\n",
      "\tLearning epoch = 93500\tGradient mag. = 0.306270\n",
      "\tLearning epoch = 93750\tGradient mag. = 0.306215\n",
      "\tLearning epoch = 94000\tGradient mag. = 0.306160\n",
      "\tLearning epoch = 94250\tGradient mag. = 0.306105\n",
      "\tLearning epoch = 94500\tGradient mag. = 0.306050\n",
      "\tLearning epoch = 94750\tGradient mag. = 0.305995\n",
      "\tLearning epoch = 95000\tGradient mag. = 0.305940\n",
      "\tLearning epoch = 95250\tGradient mag. = 0.305885\n",
      "\tLearning epoch = 95500\tGradient mag. = 0.305830\n",
      "\tLearning epoch = 95750\tGradient mag. = 0.305775\n",
      "\tLearning epoch = 96000\tGradient mag. = 0.305720\n",
      "\tLearning epoch = 96250\tGradient mag. = 0.305664\n",
      "\tLearning epoch = 96500\tGradient mag. = 0.305609\n",
      "\tLearning epoch = 96750\tGradient mag. = 0.305554\n",
      "\tLearning epoch = 97000\tGradient mag. = 0.305499\n",
      "\tLearning epoch = 97250\tGradient mag. = 0.305443\n",
      "\tLearning epoch = 97500\tGradient mag. = 0.305388\n",
      "\tLearning epoch = 97750\tGradient mag. = 0.305333\n",
      "\tLearning epoch = 98000\tGradient mag. = 0.305277\n",
      "\tLearning epoch = 98250\tGradient mag. = 0.305222\n",
      "\tLearning epoch = 98500\tGradient mag. = 0.305167\n",
      "\tLearning epoch = 98750\tGradient mag. = 0.305111\n",
      "\tLearning epoch = 99000\tGradient mag. = 0.305056\n",
      "\tLearning epoch = 99250\tGradient mag. = 0.305000\n",
      "\tLearning epoch = 99500\tGradient mag. = 0.304944\n",
      "\tLearning epoch = 99750\tGradient mag. = 0.304889\n",
      "Final gradient magnitude for rate=1e-06, mu=1e-06: 0.305\n",
      "CPU times: user 401 ms, sys: 255 ms, total: 656 ms\n",
      "Wall time: 793 ms\n"
     ]
    }
   ],
   "source": [
    "from snorkel.learning import NaiveBayes\n",
    "\n",
    "gen_model = NaiveBayes()\n",
    "gen_model.train(L_train, n_iter=100000, rate=1e-6)\n",
    "%time gen_model.save(session, 'Generative Params')\n",
    "train_marginals = gen_model.marginals(L_train)"
   ]
  },
  {
   "cell_type": "code",
   "execution_count": 10,
   "metadata": {
    "collapsed": false
   },
   "outputs": [
    {
     "name": "stdout",
     "output_type": "stream",
     "text": [
      "================================================================================\n",
      "Training marginals (!= 0.5):\t15718\n",
      "Features:\t\t\t48677\n",
      "================================================================================\n",
      "Using gradient descent...\n",
      "\tLearning epoch = 0\tStep size = 0.0001\n",
      "\tLoss = 10894.887384\tGradient magnitude = 105276.472565\n",
      "\tLearning epoch = 100\tStep size = 9.04792147114e-05\n",
      "\tLoss = 55233.757747\tGradient magnitude = 42026.933751\n",
      "\tLearning epoch = 200\tStep size = 8.18648829479e-05\n",
      "\tLoss = 62844.685921\tGradient magnitude = 47236.127903\n",
      "\tLearning epoch = 300\tStep size = 7.40707032156e-05\n",
      "\tLoss = 60480.248466\tGradient magnitude = 47026.486372\n",
      "\tLearning epoch = 400\tStep size = 6.70185906007e-05\n",
      "\tLoss = 39363.169813\tGradient magnitude = 40281.842224\n",
      "\tLearning epoch = 500\tStep size = 6.06378944861e-05\n",
      "\tLoss = 58669.716716\tGradient magnitude = 47003.826990\n",
      "\tLearning epoch = 600\tStep size = 5.48646907485e-05\n",
      "\tLoss = 43986.172110\tGradient magnitude = 35826.612715\n",
      "\tLearning epoch = 700\tStep size = 4.96411413431e-05\n",
      "\tLoss = 40561.432363\tGradient magnitude = 40105.616996\n",
      "\tLearning epoch = 800\tStep size = 4.4914914861e-05\n",
      "\tLoss = 72392.894427\tGradient magnitude = 175727.008642\n",
      "\tLearning epoch = 900\tStep size = 4.06386622545e-05\n",
      "\tLoss = 30512.475552\tGradient magnitude = 26906.445233\n",
      "\tLearning epoch = 1000\tStep size = 3.67695424771e-05\n",
      "\tLoss = 22701.600631\tGradient magnitude = 26122.150462\n",
      "\tLearning epoch = 1100\tStep size = 3.32687932862e-05\n",
      "\tLoss = 31875.310062\tGradient magnitude = 82902.877791\n",
      "\tLearning epoch = 1200\tStep size = 3.01013429093e-05\n",
      "\tLoss = 34087.742674\tGradient magnitude = 38053.255414\n",
      "\tLearning epoch = 1300\tStep size = 2.72354586819e-05\n",
      "\tLoss = 29182.561162\tGradient magnitude = 35380.072242\n",
      "\tLearning epoch = 1400\tStep size = 2.46424291385e-05\n",
      "\tLoss = 34622.889663\tGradient magnitude = 43182.297830\n",
      "\tLearning epoch = 1500\tStep size = 2.22962763703e-05\n",
      "\tLoss = 22758.364607\tGradient magnitude = 28346.852114\n",
      "\tLearning epoch = 1600\tStep size = 2.01734957697e-05\n",
      "\tLoss = 23268.636352\tGradient magnitude = 104793.716182\n",
      "\tLearning epoch = 1700\tStep size = 1.82528205523e-05\n",
      "\tLoss = 16443.343264\tGradient magnitude = 43253.126344\n",
      "\tLearning epoch = 1800\tStep size = 1.65150086984e-05\n",
      "\tLoss = 14053.029888\tGradient magnitude = 20098.954891\n",
      "\tLearning epoch = 1900\tStep size = 1.49426501798e-05\n",
      "\tLoss = 29571.685242\tGradient magnitude = 44635.369707\n",
      "CPU times: user 9.06 s, sys: 634 ms, total: 9.7 s\n",
      "Wall time: 9.43 s\n"
     ]
    }
   ],
   "source": [
    "from snorkel.learning import LogReg\n",
    "\n",
    "disc_model = LogReg()\n",
    "disc_model.train(F_train, train_marginals, n_iter=2000, rate=1e-4)\n",
    "%time disc_model.save(session, \"Discriminative Params\")"
   ]
  },
  {
   "cell_type": "code",
   "execution_count": 11,
   "metadata": {
    "collapsed": false
   },
   "outputs": [
    {
     "name": "stdout",
     "output_type": "stream",
     "text": [
      "Calibration plot:\n"
     ]
    },
    {
     "name": "stderr",
     "output_type": "stream",
     "text": [
      "/Users/bradenhancock/anaconda/lib/python2.7/site-packages/numpy/core/_methods.py:59: RuntimeWarning: Mean of empty slice.\n",
      "  warnings.warn(\"Mean of empty slice.\", RuntimeWarning)\n"
     ]
    },
    {
     "data": {
      "image/png": "[encoded data removed]",
      "text/plain": [
       "<matplotlib.figure.Figure at 0x12d4e76d0>"
      ]
     },
     "metadata": {},
     "output_type": "display_data"
    },
    {
     "name": "stdout",
     "output_type": "stream",
     "text": [
      "========================================\n",
      "Recall-corrected Noise-aware Model\n",
      "========================================\n",
      "Pos. class accuracy: 0.28156424581\n",
      "Neg. class accuracy: 0.861915367483\n",
      "Corpus Precision 0.475\n",
      "Corpus Recall    0.282\n",
      "Corpus F1        0.353\n",
      "----------------------------------------\n",
      "TP: 504 | FP: 558 | TN: 3483 | FN: 1286\n",
      "========================================\n",
      "\n",
      "========================================\n",
      "Recall-corrected Noise-aware Model\n",
      "========================================\n",
      "Pos. class accuracy: 0.28156424581\n",
      "Neg. class accuracy: 0.861915367483\n",
      "Corpus Precision 0.475\n",
      "Corpus Recall    0.282\n",
      "Corpus F1        0.353\n",
      "----------------------------------------\n",
      "TP: 504 | FP: 558 | TN: 3483 | FN: 1286\n",
      "========================================\n",
      "\n"
     ]
    }
   ],
   "source": [
    "train_gold = session.query(CandidateSet).filter(\n",
    "    CandidateSet.name == 'Hardware Training Candidates -- Gold').one()\n",
    "\n",
    "dev_gold = session.query(CandidateSet).filter(\n",
    "    CandidateSet.name == 'Hardware Development Candidates -- Gold').one()\n",
    "\n",
    "from snorkel.models import CandidateSet\n",
    "from snorkel.annotations import LabelManager\n",
    "label_manager = LabelManager()\n",
    "L_dev = label_manager.load(session, dev, 'Hardware Development Labels -- Gold')\n",
    "\n",
    "tp, fp, tn, fn = disc_model.score(F_dev, L_dev, dev_gold)"
   ]
  },
  {
   "cell_type": "code",
   "execution_count": 12,
   "metadata": {
    "collapsed": false,
    "scrolled": true
   },
   "outputs": [
    {
     "name": "stdout",
     "output_type": "stream",
     "text": [
      "========================================\n",
      "Scoring on Entity-Level Gold Data\n",
      "========================================\n",
      "Corpus Precision 0.536\n",
      "Corpus Recall    0.804\n",
      "Corpus F1        0.643\n",
      "----------------------------------------\n",
      "TP: 148 | FP: 128 | FN: 36\n",
      "========================================\n",
      "\n"
     ]
    }
   ],
   "source": [
    "from snorkel.models import Corpus\n",
    "from snorkel.utils import get_ORM_instance\n",
    "from hardware_utils import entity_level_f1\n",
    "import os\n",
    "\n",
    "dev_corpus = get_ORM_instance(Corpus, session, 'Hardware Development')\n",
    "\n",
    "gold_file = os.environ['SNORKELHOME'] + '/tutorials/tables/data/hardware/hardware_gold.csv'\n",
    "corpus = session.query(Corpus).filter(Corpus.name == 'Hardware Development').one()\n",
    "(TP, FP, FN) = entity_level_f1(tp, fp, tn, fn, gold_file, dev_corpus, 'cb_v_max')"
   ]
  },
  {
   "cell_type": "code",
   "execution_count": null,
   "metadata": {
    "collapsed": false
   },
   "outputs": [],
   "source": [
    "from pprint import pprint\n",
    "FN_list = sorted(list(FN))\n",
    "FP_list = sorted(list(FP))\n",
    "TP_list = sorted(list(TP))\n",
    "# pprint(FN_list[:])\n",
    "pprint(FN_list[:10])\n",
    "# pprint(TP_list[:10])"
   ]
  },
  {
   "cell_type": "code",
   "execution_count": null,
   "metadata": {
    "collapsed": false,
    "scrolled": true
   },
   "outputs": [],
   "source": [
    "# docs = set()\n",
    "# for doc in corpus.documents:\n",
    "#     docs.add(doc.name.upper())\n",
    "# pprint(docs)"
   ]
  },
  {
   "cell_type": "code",
   "execution_count": null,
   "metadata": {
    "collapsed": false
   },
   "outputs": [],
   "source": [
    "# import itertools\n",
    "# docs = set()\n",
    "# for f in itertools.chain.from_iterable([tp, tn, fp, fn]):\n",
    "#     docs.add(f.part.parent.document.name.upper())\n",
    "# #     if f.part.parent.document.name.upper() == 'AUKCS04635-1':\n",
    "# #         print f\n",
    "# pprint(docs)"
   ]
  },
  {
   "cell_type": "code",
   "execution_count": null,
   "metadata": {
    "collapsed": false,
    "scrolled": false
   },
   "outputs": [],
   "source": [
    "from hardware_utils import entity_to_candidates, part_error_analysis\n",
    "\n",
    "# disc_model.get_feature_weights(F_dev)\n",
    "\n",
    "entity = FN_list[0]\n",
    "matches = entity_to_candidates(entity, dev)\n",
    "print \"Entity: (%d matches)\" % len(matches)\n",
    "print entity\n",
    "\n",
    "stop = False\n",
    "for i, c in enumerate(matches):\n",
    "    part_error_analysis(c)\n",
    "    results = []\n",
    "    for lf in LFs:\n",
    "        name = lf.__name__\n",
    "        result = lf(c)\n",
    "        results.append((name, result))\n",
    "#         if name == 'LF_cb_keywords_all' and result == -1:\n",
    "#             print name\n",
    "#             ngrams = list(get_row_ngrams(c.voltage, spread=[0,3], n_max=3))\n",
    "#             print ngrams\n",
    "#             print overlap(ngrams, cb_words)\n",
    "#             stop = False\n",
    "#         if name == 'LF_cheating_with_another_part' and result == -1:\n",
    "#             print name\n",
    "#             horz_ngrams = list(get_horz_aligned_ngrams(c))\n",
    "#             print horz_ngrams\n",
    "#             print [part_sniffer.match(x) for x in horz_ngrams]\n",
    "#             stop = False\n",
    "        if name == 'LF_i_in_row' and result == -1:\n",
    "            print name\n",
    "            ngrams = list(get_row_ngrams(c.voltage, spread=[0,3], n_max=3))\n",
    "            print ngrams\n",
    "            stop = False\n",
    "        if stop: break\n",
    "    print \"MATCH %d:\" % i\n",
    "    print heuristic(c)\n",
    "    pprint(results)\n",
    "    print \"--------------------------------------------------------------------------------\"\n",
    "    if stop: break\n",
    "    \n",
    "#     if heuristic(candidate):\n",
    "#         print \"\\nCandidate:\"\n",
    "# #         print candidate\n",
    "#         print part_error_analysis(candidate)\n",
    "#     print heuristic(candidate)\n",
    "#     print LF_voltage_not_in_table(candidate)\n",
    "#         print candidate.voltage.parent.table\n",
    "#     print \"\\nScore:\"\n",
    "#     print disc_model.get_candidate_score(candidate, F_dev)\n",
    "\n",
    "#     print \"\\nFeatures:\"\n",
    "#     pprint(disc_model.get_candidate_feature_weights(candidate, F_dev))"
   ]
  },
  {
   "cell_type": "code",
   "execution_count": null,
   "metadata": {
    "collapsed": false
   },
   "outputs": [],
   "source": [
    "print cb_words"
   ]
  },
  {
   "cell_type": "code",
   "execution_count": null,
   "metadata": {
    "collapsed": false
   },
   "outputs": [],
   "source": [
    "candidate[0].parent.text"
   ]
  },
  {
   "cell_type": "code",
   "execution_count": null,
   "metadata": {
    "collapsed": false
   },
   "outputs": [],
   "source": [
    "candidate[0].get_span()"
   ]
  },
  {
   "cell_type": "code",
   "execution_count": null,
   "metadata": {
    "collapsed": true
   },
   "outputs": [],
   "source": [
    "results = []\n",
    "for lf in LFs:\n",
    "    results.append(lf.__name__, lf(candidate))"
   ]
  },
  {
   "cell_type": "code",
   "execution_count": null,
   "metadata": {
    "collapsed": false
   },
   "outputs": [],
   "source": [
    "print F_train.shape\n",
    "print F_dev.shape"
   ]
  },
  {
   "cell_type": "code",
   "execution_count": null,
   "metadata": {
    "collapsed": true
   },
   "outputs": [],
   "source": [
    "import os\n",
    "os.system('cp snorkel.db snorkel.db\\ final');"
   ]
  },
  {
   "cell_type": "code",
   "execution_count": null,
   "metadata": {
    "collapsed": true
   },
   "outputs": [],
   "source": []
  },
  {
   "cell_type": "code",
   "execution_count": null,
   "metadata": {
    "collapsed": false
   },
   "outputs": [],
   "source": []
  },
  {
   "cell_type": "code",
   "execution_count": null,
   "metadata": {
    "collapsed": true
   },
   "outputs": [],
   "source": [
    "# def LF_first_row(c):\n",
    "#     if c.voltage.parent.row_num == 0:\n",
    "#         return -1\n",
    "#     else:\n",
    "#         return 0\n",
    "# LFs.append(LF_first_row)\n",
    "    \n",
    "# def LF_not_ce_relevant(c):\n",
    "#     ce_keywords = set(['collector', 'emitter', 'collector-emitter'])\n",
    "#     ngrams = set(get_aligned_ngrams(c.voltage))\n",
    "#     if not set_any_in_set(ce_keywords, ngrams):\n",
    "#         return -1\n",
    "#     else:\n",
    "#         return 1\n",
    "# LFs.append(LF_not_ce_relevant)\n",
    "\n",
    "# def LF_negative_keywords(c):\n",
    "#     row_neg_keys = set(['ambient',\n",
    "#                     'small-signal',\n",
    "#                     'cut-off',\n",
    "#                     'na',\n",
    "#                     'ma',\n",
    "#                     'cex',\n",
    "#                     'resistance',\n",
    "#                     'power',\n",
    "#                     'junction',\n",
    "#                     'dissipation', \n",
    "#                     'breakdown',\n",
    "#                     'current',\n",
    "#                     'ceo',\n",
    "#                     'vceo'\n",
    "#                     'peak',\n",
    "#                     '=',\n",
    "#                     'f',\n",
    "#                     'p',\n",
    "#                     'base',\n",
    "#                     'mw',\n",
    "#                     'ebo',\n",
    "#                     'vebo',\n",
    "#                     'i c',\n",
    "#                     'total',\n",
    "#                     'device',\n",
    "#                     'c',\n",
    "#                     'mhz',\n",
    "#                     'temperature',\n",
    "#                     'saturation',\n",
    "#                     'operating',\n",
    "#                     'storage'\n",
    "#                     'bandwidth',\n",
    "#                     'derate',\n",
    "#                     'above',\n",
    "#                     'product',\n",
    "#                     'figure',\n",
    "#                     'conditions',\n",
    "#                     'current gain',\n",
    "#                     'saturation',\n",
    "#                     'min',\n",
    "#                     'min.',\n",
    "#                     'typ',\n",
    "#                     'typ.',\n",
    "#                     'max',\n",
    "#                     'max.',\n",
    "#                     'gain',\n",
    "#                     'p',\n",
    "#                     'thermal',\n",
    "#                     'test'])\n",
    "#     row_ngrams = set(get_row_ngrams(c.voltage))\n",
    "#     col_ngrams = set(get_col_ngrams(c.voltage))\n",
    "#     col_neg_keys = set(['conditions', \n",
    "#                         'condition', \n",
    "#                         'parameter', \n",
    "#                         'min',\n",
    "#                         'min.',\n",
    "#                         'typ',\n",
    "#                         'typ.',\n",
    "#                         'max',\n",
    "#                         'max.',\n",
    "#                         'test'])\n",
    "#     if set_any_in_set(row_neg_keys, row_ngrams):\n",
    "#         return -1\n",
    "#     if set_any_in_set(col_neg_keys, col_ngrams):\n",
    "#         return -1\n",
    "#     return 0\n",
    "# LFs.append(LF_negative_keywords)\n",
    "    \n",
    "# def LF_negative_keywords_in_col(c):\n",
    "#     neg_keys = set(['conditions',\n",
    "#                     'condition',\n",
    "#                     'parameter',\n",
    "#                     'test'])\n",
    "#     ngrams = set(get_col_ngrams(c.voltage))\n",
    "#     if set_any_in_set(neg_keys, ngrams):\n",
    "#         return -1\n",
    "#     else:\n",
    "#         return 0\n",
    "\n",
    "# LFs.append(LF_negative_keywords_in_col)\n",
    "\n",
    "# def LF_negative_keywords_in_part_aligned(c):\n",
    "#     ngrams = set(get_aligned_ngrams(c.part))\n",
    "#     return -1 if (\n",
    "#         'gain'          in ngrams or\n",
    "#         'small-signal'  in ngrams or\n",
    "#         'small'         in ngrams or\n",
    "#         'cbo'         in ngrams or\n",
    "#         'collector-emitter' in ngrams or\n",
    "#         'value'         in ngrams or\n",
    "#         'thermal'       in ngrams) else 0\n",
    "# LFs.append(LF_negative_keywords_in_part_aligned)\n",
    "\n",
    "# def LF_negative_keywords(c):\n",
    "#     ngrams = set(get_aligned_ngrams(c.voltage))\n",
    "#     return -1 if (\n",
    "#         'collector-base'    in ngrams or\n",
    "#         'cut-off'           in ngrams or\n",
    "#         '='                 in ngrams or\n",
    "#         'gain'              in ngrams or\n",
    "#         'h fe'              in ngrams or\n",
    "#         'typ.'              in ngrams or\n",
    "#         'typ'               in ngrams or\n",
    "#         'min'               in ngrams or\n",
    "#         'min.'              in ngrams or\n",
    "#         'saturation'        in ngrams or\n",
    "#         'mhz'               in ngrams or\n",
    "#         'gain'              in ngrams or\n",
    "#         'obo'               in ngrams or\n",
    "#         'c obo'             in ngrams) else 0\n",
    "# LFs.append(LF_negative_keywords)\n"
   ]
  }
 ],
 "metadata": {
  "anaconda-cloud": {},
  "kernelspec": {
   "display_name": "Python [default]",
   "language": "python",
   "name": "python2"
  },
  "language_info": {
   "codemirror_mode": {
    "name": "ipython",
    "version": 2
   },
   "file_extension": ".py",
   "mimetype": "text/x-python",
   "name": "python",
   "nbconvert_exporter": "python",
   "pygments_lexer": "ipython2",
   "version": "2.7.10"
  }
 },
 "nbformat": 4,
 "nbformat_minor": 1
}
