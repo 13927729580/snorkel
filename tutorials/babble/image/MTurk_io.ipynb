{
 "cells": [
  {
   "cell_type": "markdown",
   "metadata": {
    "deletable": true,
    "editable": true
   },
   "source": [
    "## MTurk I/O for Image Dataset\n",
    "\n",
    "The query of interest is: **The outlined boxes depict a person riding a bike** \n",
    "\n",
    "Want to generate the input .csv file for MTurk and parse the output csv file for results. Using MTurkHelper from babble with adjustments for candidate type."
   ]
  },
  {
   "cell_type": "code",
   "execution_count": 1,
   "metadata": {
    "collapsed": false,
    "deletable": true,
    "editable": true
   },
   "outputs": [],
   "source": [
    "import numpy as np\n",
    "%matplotlib inline\n",
    "\n",
    "import os\n",
    "import sys\n",
    "import pandas as pd\n",
    "\n",
    "\n",
    "%load_ext autoreload\n",
    "%autoreload 2"
   ]
  },
  {
   "cell_type": "markdown",
   "metadata": {
    "collapsed": true,
    "deletable": true,
    "editable": true
   },
   "source": [
    "## MTurk Helper for Input CSV"
   ]
  },
  {
   "cell_type": "code",
   "execution_count": 2,
   "metadata": {
    "collapsed": false,
    "deletable": true,
    "editable": true
   },
   "outputs": [
    {
     "name": "stdout",
     "output_type": "stream",
     "text": [
      "The autoreload extension is already loaded. To reload it, use:\n",
      "  %reload_ext autoreload\n"
     ]
    }
   ],
   "source": [
    "sys.path.append('../data/')\n",
    "from mturk_processing import MTurkHelper\n",
    "%load_ext autoreload\n",
    "%autoreload 2"
   ]
  },
  {
   "cell_type": "markdown",
   "metadata": {
    "deletable": true,
    "editable": true
   },
   "source": [
    "We want to make \"fake\" candidates for the visual tesk since it doesn't fit into the actual sense of the word \"candidate\". They will just be a list of image names that are saved (how convenient!)"
   ]
  },
  {
   "cell_type": "code",
   "execution_count": 3,
   "metadata": {
    "collapsed": false,
    "deletable": true,
    "editable": true
   },
   "outputs": [
    {
     "name": "stdout",
     "output_type": "stream",
     "text": [
      "False\n",
      "259\n"
     ]
    }
   ],
   "source": [
    "filelist= [file for file in os.listdir('/dfs/scratch0/paroma/visual_genome/') if ((file.startswith('val_')) and (file.endswith('.png')))]\n",
    "print (len(filelist) % 4 == 0)\n",
    "print len(filelist)/4"
   ]
  },
  {
   "cell_type": "code",
   "execution_count": 4,
   "metadata": {
    "collapsed": false,
    "deletable": true,
    "editable": true
   },
   "outputs": [],
   "source": [
    "helper = MTurkHelper(candidates=filelist, labels=[], num_hits=len(filelist)/4)"
   ]
  },
  {
   "cell_type": "code",
   "execution_count": 5,
   "metadata": {
    "collapsed": false,
    "deletable": true,
    "editable": true
   },
   "outputs": [
    {
     "name": "stdout",
     "output_type": "stream",
     "text": [
      "Wrote 259 HITs with 4 candidates per HIT\n"
     ]
    }
   ],
   "source": [
    "input_csv_path = './Labels_for_Visual_Genome_v0.2.csv'\n",
    "helper.preprocess_visual(input_csv_path)"
   ]
  },
  {
   "cell_type": "markdown",
   "metadata": {
    "collapsed": true,
    "deletable": true,
    "editable": true
   },
   "source": [
    "## MTurk Helper for Output Labels CSV"
   ]
  },
  {
   "cell_type": "code",
   "execution_count": 6,
   "metadata": {
    "collapsed": false,
    "deletable": true,
    "editable": true
   },
   "outputs": [],
   "source": [
    "output_csv_path = './Labels_for_Visual_Genome_all_out.csv'"
   ]
  },
  {
   "cell_type": "code",
   "execution_count": 7,
   "metadata": {
    "collapsed": false,
    "deletable": true,
    "editable": true
   },
   "outputs": [
    {
     "name": "stdout",
     "output_type": "stream",
     "text": [
      "Num HITs unique: 495\n",
      "Num HITs total: 997\n"
     ]
    },
    {
     "data": {
      "image/png": "[encoded data removed]",
      "text/plain": [
       "<matplotlib.figure.Figure at 0x7f3522ca4c50>"
      ]
     },
     "metadata": {},
     "output_type": "display_data"
    },
    {
     "name": "stdout",
     "output_type": "stream",
     "text": [
      "Median # seconds/HIT: 374 (93.0 s/explanation)\n"
     ]
    },
    {
     "data": {
      "image/png": "[encoded data removed]",
      "text/plain": [
       "<matplotlib.figure.Figure at 0x7f350dc43f90>"
      ]
     },
     "metadata": {},
     "output_type": "display_data"
    },
    {
     "name": "stdout",
     "output_type": "stream",
     "text": [
      "Unanimous: 952\n",
      "Majority: 0\n",
      "Split: 0\n",
      "Bad: 131\n"
     ]
    }
   ],
   "source": [
    "helper = MTurkHelper(candidates=[], labels=[], num_hits=259, domain='vg', workers_per_hit=2)\n",
    "labels_by_candidate = helper.postprocess_labels(output_csv_path, candidates=[], verbose=True)"
   ]
  },
  {
   "cell_type": "code",
   "execution_count": 8,
   "metadata": {
    "collapsed": false,
    "deletable": true,
    "editable": true
   },
   "outputs": [
    {
     "name": "stdout",
     "output_type": "stream",
     "text": [
      "Number of Valid Dev Set Candidates:  906\n"
     ]
    }
   ],
   "source": [
    "print \"Number of Valid Dev Set Candidates: \", len(labels_by_candidate)\n",
    "#np.save('/dfs/scratch0/paroma/coco/annotations/labels_by_candidate.npy', np.array(labels_by_candidate))"
   ]
  },
  {
   "cell_type": "markdown",
   "metadata": {
    "deletable": true,
    "editable": true
   },
   "source": [
    "## MTurk Helper for Explanations CSV"
   ]
  },
  {
   "cell_type": "code",
   "execution_count": 9,
   "metadata": {
    "collapsed": true,
    "deletable": true,
    "editable": true
   },
   "outputs": [],
   "source": [
    "output_csv_path = './VisualGenome_all_out.csv'"
   ]
  },
  {
   "cell_type": "code",
   "execution_count": 10,
   "metadata": {
    "collapsed": false,
    "deletable": true,
    "editable": true
   },
   "outputs": [
    {
     "name": "stdout",
     "output_type": "stream",
     "text": [
      "Num HITs unique: 40\n",
      "Num HITs total: 120\n"
     ]
    },
    {
     "data": {
      "image/png": "[encoded data removed]",
      "text/plain": [
       "<matplotlib.figure.Figure at 0x7f35230c5d90>"
      ]
     },
     "metadata": {},
     "output_type": "display_data"
    },
    {
     "name": "stdout",
     "output_type": "stream",
     "text": [
      "Median # seconds/HIT: 566 (141.0 s/explanation)\n"
     ]
    },
    {
     "data": {
      "image/png": "[encoded data removed]",
      "text/plain": [
       "<matplotlib.figure.Figure at 0x7f3523041450>"
      ]
     },
     "metadata": {},
     "output_type": "display_data"
    },
    {
     "name": "stdout",
     "output_type": "stream",
     "text": [
      "Unanimous: 99\n",
      "Majority: 33\n",
      "Split: 0\n",
      "Bad: 27\n"
     ]
    }
   ],
   "source": [
    "helper = MTurkHelper(candidates=[], labels=[], num_hits=40, domain='vg', workers_per_hit=3)\n",
    "explanations = helper.postprocess_visual(output_csv_path, candidates=[], verbose=True)"
   ]
  },
  {
   "cell_type": "code",
   "execution_count": 11,
   "metadata": {
    "collapsed": false,
    "deletable": true,
    "editable": true
   },
   "outputs": [
    {
     "name": "stdout",
     "output_type": "stream",
     "text": [
      "Created grammar with 268 rules\n"
     ]
    }
   ],
   "source": [
    "from snorkel.contrib.babble import Babbler\n",
    "user_lists = {}\n",
    "babbler = Babbler(mode='image', explanations=explanations)"
   ]
  },
  {
   "cell_type": "code",
   "execution_count": 12,
   "metadata": {
    "collapsed": false,
    "deletable": true,
    "editable": true
   },
   "outputs": [
    {
     "name": "stdout",
     "output_type": "stream",
     "text": [
      "413 parses created from 237 out of 367 explanation(s)\n"
     ]
    },
    {
     "data": {
      "text/plain": [
       "[Explanation(\"Explanation0: True, The top of Box Y is inside Box X.\"),\n",
       " Explanation(\"Explanation1: True, Box Y is directly below box X\"),\n",
       " Explanation(\"Explanation10: False, Box X is much taller than Box  Y, and Box Y is almost completely offset from Box X.\"),\n",
       " Explanation(\"Explanation101: False, Box Y is many many times smaller than box X.\"),\n",
       " Explanation(\"Explanation102: False, Box X is much bigger than Box Y.\"),\n",
       " Explanation(\"Explanation104: False, Box X is 10 times as big as Box Y.\"),\n",
       " Explanation(\"Explanation105: False, Box X is way bigger than Box Y.\"),\n",
       " Explanation(\"Explanation106: False, Box Y is a small fraction of box X.\"),\n",
       " Explanation(\"Explanation108: True, Box X overlaps the top of Box Y.\"),\n",
       " Explanation(\"Explanation109: True, Box Y is half the size of Box X.\"),\n",
       " Explanation(\"Explanation111: False, Box X is much larger than box Y\"),\n",
       " Explanation(\"Explanation112: False, The right edge of Box X is left of the center of Box Y.\"),\n",
       " Explanation(\"Explanation113: False, Box X is to the left of Box Y\"),\n",
       " Explanation(\"Explanation114: False, Box Y is directly to the right of box X. Box X and Box Y barely overlap.\"),\n",
       " Explanation(\"Explanation114: False, Box Y is directly to the right of box X. Box X and Box Y barely overlap.\"),\n",
       " Explanation(\"Explanation114: False, Box Y is directly to the right of box X. Box X and Box Y barely overlap.\"),\n",
       " Explanation(\"Explanation114: False, Box Y is directly to the right of box X. Box X and Box Y barely overlap.\"),\n",
       " Explanation(\"Explanation114: False, Box Y is directly to the right of box X. Box X and Box Y barely overlap.\"),\n",
       " Explanation(\"Explanation114: False, Box Y is directly to the right of box X. Box X and Box Y barely overlap.\"),\n",
       " Explanation(\"Explanation115: False, The left edge of box Y is  a little to the left of the right edge of box X,\"),\n",
       " Explanation(\"Explanation116: False, The center of box X is above and to the right of box Y.\"),\n",
       " Explanation(\"Explanation117: False, Box X is to the right of Box Y.\"),\n",
       " Explanation(\"Explanation118: False, Box X overlaps only one edge of Box Y.\"),\n",
       " Explanation(\"Explanation121: False, Box X is much wider than Box Y.\"),\n",
       " Explanation(\"Explanation122: False, Box X is over ten times larger than box Y.\"),\n",
       " Explanation(\"Explanation122: False, Box X is over ten times larger than box Y.\"),\n",
       " Explanation(\"Explanation122: False, Box X is over ten times larger than box Y.\"),\n",
       " Explanation(\"Explanation123: True, Box X\", \"Box X is taller than Box Y\"),\n",
       " Explanation(\"Explanation123: True, Box X\", \"Box X is taller than Box Y\"),\n",
       " Explanation(\"Explanation123: True, Box X\", \"Box X is taller than Box Y\"),\n",
       " Explanation(\"Explanation124: True, Box Y is wider than box X\"),\n",
       " Explanation(\"Explanation125: False, Box X is much wider than Box Y.\"),\n",
       " Explanation(\"Explanation126: False, Box X is maybe twenty times smaller than box Y.\"),\n",
       " Explanation(\"Explanation129: False, Box X is much taller than Box Y.\"),\n",
       " Explanation(\"Explanation131: True, Box X completely overlaps Box Y.\"),\n",
       " Explanation(\"Explanation132: True, Box Y is in the bottom right corner of box X\"),\n",
       " Explanation(\"Explanation132: True, Box Y is in the bottom right corner of box X\"),\n",
       " Explanation(\"Explanation132: True, Box Y is in the bottom right corner of box X\"),\n",
       " Explanation(\"Explanation133: True, box y is in the right corner of box x\"),\n",
       " Explanation(\"Explanation133: True, box y is in the right corner of box x\"),\n",
       " Explanation(\"Explanation133: True, box y is in the right corner of box x\"),\n",
       " Explanation(\"Explanation135: False, Box X is not centered over Box Y.\"),\n",
       " Explanation(\"Explanation135: False, Box X is not centered over Box Y.\"),\n",
       " Explanation(\"Explanation136: True, Box X is nearly centered over Box Y.\"),\n",
       " Explanation(\"Explanation136: True, Box X is nearly centered over Box Y.\"),\n",
       " Explanation(\"Explanation138: True, Box X almost completely overlaps Box Y.\"),\n",
       " Explanation(\"Explanation139: True, The top of box Y is about two thirds  of the way inside box X.\"),\n",
       " Explanation(\"Explanation14: False, Box X is a lot smaller than Box Y.\"),\n",
       " Explanation(\"Explanation140: True, The left and right edges of box Y are very close to the left and right edges of box X.\"),\n",
       " Explanation(\"Explanation140: True, The left and right edges of box Y are very close to the left and right edges of box X.\"),\n",
       " Explanation(\"Explanation140: True, The left and right edges of box Y are very close to the left and right edges of box X.\"),\n",
       " Explanation(\"Explanation140: True, The left and right edges of box Y are very close to the left and right edges of box X.\"),\n",
       " Explanation(\"Explanation140: True, The left and right edges of box Y are very close to the left and right edges of box X.\"),\n",
       " Explanation(\"Explanation140: True, The left and right edges of box Y are very close to the left and right edges of box X.\"),\n",
       " Explanation(\"Explanation141: False, Box X only overlaps the left part of Box Y.\"),\n",
       " Explanation(\"Explanation141: False, Box X only overlaps the left part of Box Y.\"),\n",
       " Explanation(\"Explanation142: False, the left edge of box Y is half way between the left and right edges of box X.\"),\n",
       " Explanation(\"Explanation143: False, Box X is way to the left of box Y. Box X barely fits some of Box Y inside.\"),\n",
       " Explanation(\"Explanation143: False, Box X is way to the left of box Y. Box X barely fits some of Box Y inside.\"),\n",
       " Explanation(\"Explanation143: False, Box X is way to the left of box Y. Box X barely fits some of Box Y inside.\"),\n",
       " Explanation(\"Explanation143: False, Box X is way to the left of box Y. Box X barely fits some of Box Y inside.\"),\n",
       " Explanation(\"Explanation143: False, Box X is way to the left of box Y. Box X barely fits some of Box Y inside.\"),\n",
       " Explanation(\"Explanation143: False, Box X is way to the left of box Y. Box X barely fits some of Box Y inside.\"),\n",
       " Explanation(\"Explanation143: False, Box X is way to the left of box Y. Box X barely fits some of Box Y inside.\"),\n",
       " Explanation(\"Explanation143: False, Box X is way to the left of box Y. Box X barely fits some of Box Y inside.\"),\n",
       " Explanation(\"Explanation143: False, Box X is way to the left of box Y. Box X barely fits some of Box Y inside.\"),\n",
       " Explanation(\"Explanation143: False, Box X is way to the left of box Y. Box X barely fits some of Box Y inside.\"),\n",
       " Explanation(\"Explanation144: False, Box Y is much smaller than Box X.\"),\n",
       " Explanation(\"Explanation145: False, Box X is four times as big as box Y\"),\n",
       " Explanation(\"Explanation146: False, Box X is to the right of Box Y.\"),\n",
       " Explanation(\"Explanation148: False, Box X is to the right of Box Y.\"),\n",
       " Explanation(\"Explanation149: False, Box X is much smaller than Box Y.\"),\n",
       " Explanation(\"Explanation15: False, Box Y is much bigger than box X.\"),\n",
       " Explanation(\"Explanation150: False, Box x is too far to the left of box y to be riding a bicycle.\"),\n",
       " Explanation(\"Explanation150: False, Box x is too far to the left of box y to be riding a bicycle.\"),\n",
       " Explanation(\"Explanation150: False, Box x is too far to the left of box y to be riding a bicycle.\"),\n",
       " Explanation(\"Explanation151: False, Box Y is significantly smaller and to the bottom right of Box X\"),\n",
       " Explanation(\"Explanation151: False, Box Y is significantly smaller and to the bottom right of Box X\"),\n",
       " Explanation(\"Explanation152: False, Box X is above Box Y.\"),\n",
       " Explanation(\"Explanation154: False, The bottom of box X is a small fraction of the top of box Y.\"),\n",
       " Explanation(\"Explanation155: True, Box X mostly overlaps Box Y.\"),\n",
       " Explanation(\"Explanation156: True, The bottom edge of box Y and the left edge of box Y match the bottom edge and left edges of box X.\"),\n",
       " Explanation(\"Explanation156: True, The bottom edge of box Y and the left edge of box Y match the bottom edge and left edges of box X.\"),\n",
       " Explanation(\"Explanation158: True, The bottom edge of Box X is just above the bottom edge of Box Y.\"),\n",
       " Explanation(\"Explanation16: False, The bottom of box X is touching the top of box Y at the top left corner of box Y.\"),\n",
       " Explanation(\"Explanation16: False, The bottom of box X is touching the top of box Y at the top left corner of box Y.\"),\n",
       " Explanation(\"Explanation16: False, The bottom of box X is touching the top of box Y at the top left corner of box Y.\"),\n",
       " Explanation(\"Explanation16: False, The bottom of box X is touching the top of box Y at the top left corner of box Y.\"),\n",
       " Explanation(\"Explanation161: False, Box X is larger and to the right of Box Y.\"),\n",
       " Explanation(\"Explanation161: False, Box X is larger and to the right of Box Y.\"),\n",
       " Explanation(\"Explanation162: False, box y is much shorter than box X is.\"),\n",
       " Explanation(\"Explanation163: False, A person in box x is not actively riding the bicycle in box y as it is lying on the ground.\"),\n",
       " Explanation(\"Explanation163: False, A person in box x is not actively riding the bicycle in box y as it is lying on the ground.\"),\n",
       " Explanation(\"Explanation164: False, Box X is much bigger than Box Y.\"),\n",
       " Explanation(\"Explanation165: False, Box x is 15 times bigger than box Y\"),\n",
       " Explanation(\"Explanation166: False, Box X barely overlaps Box Y.\"),\n",
       " Explanation(\"Explanation168: False, Box X is always a person and outlined in blue and Box Y is always a bicycle outlined in yellow.\"),\n",
       " Explanation(\"Explanation168: False, Box X is always a person and outlined in blue and Box Y is always a bicycle outlined in yellow.\"),\n",
       " Explanation(\"Explanation168: False, Box X is always a person and outlined in blue and Box Y is always a bicycle outlined in yellow.\"),\n",
       " Explanation(\"Explanation168: False, Box X is always a person and outlined in blue and Box Y is always a bicycle outlined in yellow.\"),\n",
       " Explanation(\"Explanation169: True, The center of Box X is near the top edge of Box Y.\"),\n",
       " Explanation(\"Explanation171: True, Box X is centered and slightly above Box Y.\"),\n",
       " Explanation(\"Explanation172: True, Box Y almost fits in the bottom of box X.\"),\n",
       " Explanation(\"Explanation172: True, Box Y almost fits in the bottom of box X.\"),\n",
       " Explanation(\"Explanation172: True, Box Y almost fits in the bottom of box X.\"),\n",
       " Explanation(\"Explanation173: True, The bottom of box Y is very close to the bottom of box X.\"),\n",
       " Explanation(\"Explanation174: True, Box Y is directly below box X\"),\n",
       " Explanation(\"Explanation175: True, Box X mostly overlaps Box Y.\"),\n",
       " Explanation(\"Explanation176: True, Box X is taller than Box Y. Box X and Box Y are equal at their bottom edges.\"),\n",
       " Explanation(\"Explanation176: True, Box X is taller than Box Y. Box X and Box Y are equal at their bottom edges.\"),\n",
       " Explanation(\"Explanation176: True, Box X is taller than Box Y. Box X and Box Y are equal at their bottom edges.\"),\n",
       " Explanation(\"Explanation176: True, Box X is taller than Box Y. Box X and Box Y are equal at their bottom edges.\"),\n",
       " Explanation(\"Explanation176: True, Box X is taller than Box Y. Box X and Box Y are equal at their bottom edges.\"),\n",
       " Explanation(\"Explanation176: True, Box X is taller than Box Y. Box X and Box Y are equal at their bottom edges.\"),\n",
       " Explanation(\"Explanation177: False, Box X is much larger than Box Y.\"),\n",
       " Explanation(\"Explanation178: False, Box Y is at most two times smaller than Box X\"),\n",
       " Explanation(\"Explanation178: False, Box Y is at most two times smaller than Box X\"),\n",
       " Explanation(\"Explanation178: False, Box Y is at most two times smaller than Box X\"),\n",
       " Explanation(\"Explanation179: False, Box Y is entirely enveloped by box X\"),\n",
       " Explanation(\"Explanation180: False, Box X is much wider than Box Y.\"),\n",
       " Explanation(\"Explanation181: False, Box X is 20 times as long as box Y\"),\n",
       " Explanation(\"Explanation182: False, Box X is slightly off to the left of Box Y.\"),\n",
       " Explanation(\"Explanation184: False, Box Y is half the size of Box X.\"),\n",
       " Explanation(\"Explanation185: False, Box Y is very far right of box X.\"),\n",
       " Explanation(\"Explanation185: False, Box Y is very far right of box X.\"),\n",
       " Explanation(\"Explanation185: False, Box Y is very far right of box X.\"),\n",
       " Explanation(\"Explanation186: False, Box X is to the left of Box Y.\"),\n",
       " Explanation(\"Explanation188: False, Box X barely overlaps Box Y at all, and Box Y is much larger.\"),\n",
       " Explanation(\"Explanation188: False, Box X barely overlaps Box Y at all, and Box Y is much larger.\"),\n",
       " Explanation(\"Explanation188: False, Box X barely overlaps Box Y at all, and Box Y is much larger.\"),\n",
       " Explanation(\"Explanation188: False, Box X barely overlaps Box Y at all, and Box Y is much larger.\"),\n",
       " Explanation(\"Explanation188: False, Box X barely overlaps Box Y at all, and Box Y is much larger.\"),\n",
       " Explanation(\"Explanation188: False, Box X barely overlaps Box Y at all, and Box Y is much larger.\"),\n",
       " Explanation(\"Explanation188: False, Box X barely overlaps Box Y at all, and Box Y is much larger.\"),\n",
       " Explanation(\"Explanation188: False, Box X barely overlaps Box Y at all, and Box Y is much larger.\"),\n",
       " Explanation(\"Explanation188: False, Box X barely overlaps Box Y at all, and Box Y is much larger.\"),\n",
       " Explanation(\"Explanation188: False, Box X barely overlaps Box Y at all, and Box Y is much larger.\"),\n",
       " Explanation(\"Explanation190: False, Box X overlaps the top left corner of Box Y.\"),\n",
       " Explanation(\"Explanation190: False, Box X overlaps the top left corner of Box Y.\"),\n",
       " Explanation(\"Explanation194: True, Box Y is wider and situated below box X\"),\n",
       " Explanation(\"Explanation194: True, Box Y is wider and situated below box X\"),\n",
       " Explanation(\"Explanation195: True, The center of box X is over the center of box Y.\"),\n",
       " Explanation(\"Explanation198: False, Box X includes several times more things than Box Y\"),\n",
       " Explanation(\"Explanation199: False, Box X is at least 15 times as wide as Box Y.\"),\n",
       " Explanation(\"Explanation199: False, Box X is at least 15 times as wide as Box Y.\"),\n",
       " Explanation(\"Explanation199: False, Box X is at least 15 times as wide as Box Y.\"),\n",
       " Explanation(\"Explanation2: True, Box X mostly overlaps Box Y.\"),\n",
       " Explanation(\"Explanation20: False, The bottom right edge of Box X is just to the right of the left edge of Box Y.\"),\n",
       " Explanation(\"Explanation20: False, The bottom right edge of Box X is just to the right of the left edge of Box Y.\"),\n",
       " Explanation(\"Explanation200: False, Box X is ten times wider than box Y\"),\n",
       " Explanation(\"Explanation201: False, Box Y is much much smaller than box X.\"),\n",
       " Explanation(\"Explanation202: False, Box X is 20 times bigger than box Y\"),\n",
       " Explanation(\"Explanation203: False, Box X is much bigger than Box Y.\"),\n",
       " Explanation(\"Explanation204: True, The bottom of box Y is at the same place as the bottom of box X.\"),\n",
       " Explanation(\"Explanation205: True, Box Y is only slightly wider than box X and the bottom of each box meet in the same spot\"),\n",
       " Explanation(\"Explanation207: False, Box X is smaller than box Y\"),\n",
       " Explanation(\"Explanation208: False, Box X is many times smaller than Box Y.\"),\n",
       " Explanation(\"Explanation209: False, Box X unevenly overlaps Box Y.\"),\n",
       " Explanation(\"Explanation21: False, The lower edge of Box X is at the exact same point as the lower edge of Box Y.\"),\n",
       " Explanation(\"Explanation213: True, Box X is above and overlapping Box Y, and they\"re similar in size.\"),\n",
       " Explanation(\"Explanation213: True, Box X is above and overlapping Box Y, and they\"re similar in size.\"),\n",
       " Explanation(\"Explanation213: True, Box X is above and overlapping Box Y, and they\"re similar in size.\"),\n",
       " Explanation(\"Explanation213: True, Box X is above and overlapping Box Y, and they\"re similar in size.\"),\n",
       " Explanation(\"Explanation214: False, Box X is to the right of Box Y.\"),\n",
       " Explanation(\"Explanation215: False, Box X is directly in front of Box Y.\"),\n",
       " Explanation(\"Explanation215: False, Box X is directly in front of Box Y.\"),\n",
       " Explanation(\"Explanation216: False, The right edge of box Y is almost on the left edge of box X.\"),\n",
       " Explanation(\"Explanation218: True, Box Y is twice as wide as box X\"),\n",
       " Explanation(\"Explanation219: True, Box X is in the center of Box Y.\"),\n",
       " Explanation(\"Explanation219: True, Box X is in the center of Box Y.\"),\n",
       " Explanation(\"Explanation220: False, Box x is in front of box y although they are correctly sized.\"),\n",
       " Explanation(\"Explanation220: False, Box x is in front of box y although they are correctly sized.\"),\n",
       " Explanation(\"Explanation223: True, Box X mostly overlaps Box Y.\"),\n",
       " Explanation(\"Explanation228: False, Box X is to the right of Box Y.\"),\n",
       " Explanation(\"Explanation229: False, The right side of box Y is where the right side of box X is.\"),\n",
       " Explanation(\"Explanation231: False, The right edge of box Y is along the right edge of box X.\"),\n",
       " Explanation(\"Explanation232: False, Box Y is directly to the right of box X\"),\n",
       " Explanation(\"Explanation233: False, Box X is left of Box Y.\"),\n",
       " Explanation(\"Explanation234: False, Left edge of Box X is touching right edge of Box Y\"),\n",
       " Explanation(\"Explanation235: False, Box X barely overlaps box Y\"),\n",
       " Explanation(\"Explanation236: False, Box X is to the right of Box Y.\"),\n",
       " Explanation(\"Explanation237: False, Box X ends at the left corner of Box Y.\"),\n",
       " Explanation(\"Explanation237: False, Box X ends at the left corner of Box Y.\"),\n",
       " Explanation(\"Explanation237: False, Box X ends at the left corner of Box Y.\"),\n",
       " Explanation(\"Explanation238: False, Box X is very much smaller than box Y, as well as narrow and half way to the left.\"),\n",
       " Explanation(\"Explanation238: False, Box X is very much smaller than box Y, as well as narrow and half way to the left.\"),\n",
       " Explanation(\"Explanation240: False, The bottom edge of box Y is just above the bottom edge of box X.\"),\n",
       " Explanation(\"Explanation242: False, Box X is slightly below Box Y.\"),\n",
       " Explanation(\"Explanation243: True, Box Y is half the size of box X\"),\n",
       " Explanation(\"Explanation244: True, Box X is centered over Box Y.\"),\n",
       " Explanation(\"Explanation244: True, Box X is centered over Box Y.\"),\n",
       " Explanation(\"Explanation245: True, Box X is twice as big as Box Y.\"),\n",
       " Explanation(\"Explanation246: True, The center of Box X is near the top edge of Box Y.\"),\n",
       " Explanation(\"Explanation249: False, Box X is much larger than Box Y\"),\n",
       " Explanation(\"Explanation25: False, Box X is much smaller than Box Y.\"),\n",
       " Explanation(\"Explanation250: False, Box X is ten times as big as box Y\"),\n",
       " Explanation(\"Explanation251: False, Box X is much larger than Box Y.\"),\n",
       " Explanation(\"Explanation254: True, Box X is nearly the same size as Box Y, and Box X is almost directly above Box Y.\"),\n",
       " Explanation(\"Explanation254: True, Box X is nearly the same size as Box Y, and Box X is almost directly above Box Y.\"),\n",
       " Explanation(\"Explanation254: True, Box X is nearly the same size as Box Y, and Box X is almost directly above Box Y.\"),\n",
       " Explanation(\"Explanation254: True, Box X is nearly the same size as Box Y, and Box X is almost directly above Box Y.\"),\n",
       " Explanation(\"Explanation254: True, Box X is nearly the same size as Box Y, and Box X is almost directly above Box Y.\"),\n",
       " Explanation(\"Explanation254: True, Box X is nearly the same size as Box Y, and Box X is almost directly above Box Y.\"),\n",
       " Explanation(\"Explanation255: False, Only a very small corner of box X overlaps box Y\"),\n",
       " Explanation(\"Explanation256: False, Box X only overlaps the top left corner of Box Y.\"),\n",
       " Explanation(\"Explanation256: False, Box X only overlaps the top left corner of Box Y.\"),\n",
       " Explanation(\"Explanation259: False, Box Y is much smaller than box X\"),\n",
       " Explanation(\"Explanation26: False, Box x is far too small compared to box y.\"),\n",
       " Explanation(\"Explanation26: False, Box x is far too small compared to box y.\"),\n",
       " Explanation(\"Explanation260: False, Box X is much wider and taller than Box Y.\"),\n",
       " Explanation(\"Explanation260: False, Box X is much wider and taller than Box Y.\"),\n",
       " Explanation(\"Explanation263: False, Box Y is much tinier than Box X.\"),\n",
       " Explanation(\"Explanation264: False, Box X is much taller than Box Y.\"),\n",
       " Explanation(\"Explanation265: False, Box Y is much much smaller than box X is.\"),\n",
       " Explanation(\"Explanation266: False, The person in box x is much closer and is not standing over a bicycle in box y.\"),\n",
       " Explanation(\"Explanation266: False, The person in box x is much closer and is not standing over a bicycle in box y.\"),\n",
       " Explanation(\"Explanation266: False, The person in box x is much closer and is not standing over a bicycle in box y.\"),\n",
       " Explanation(\"Explanation266: False, The person in box x is much closer and is not standing over a bicycle in box y.\"),\n",
       " Explanation(\"Explanation267: False, Box X is to the left of Box Y.\"),\n",
       " Explanation(\"Explanation269: False, The bottom edge of Box X is below the bottom edge of Box Y.\"),\n",
       " Explanation(\"Explanation27: False, Box X is much larger than Box Y.\"),\n",
       " Explanation(\"Explanation272: False, Box Y is to the right of and behind Box X.\"),\n",
       " Explanation(\"Explanation274: False, Box Y is only a small rectangle within Box X.\"),\n",
       " Explanation(\"Explanation274: False, Box Y is only a small rectangle within Box X.\"),\n",
       " Explanation(\"Explanation277: False, box Y goes above box X\"),\n",
       " Explanation(\"Explanation278: False, Box X is much larger than Box Y.\"),\n",
       " Explanation(\"Explanation279: False, Box Y and box X intersect over the top left corner of box X.\"),\n",
       " Explanation(\"Explanation279: False, Box Y and box X intersect over the top left corner of box X.\"),\n",
       " Explanation(\"Explanation279: False, Box Y and box X intersect over the top left corner of box X.\"),\n",
       " Explanation(\"Explanation279: False, Box Y and box X intersect over the top left corner of box X.\"),\n",
       " Explanation(\"Explanation279: False, Box Y and box X intersect over the top left corner of box X.\"),\n",
       " Explanation(\"Explanation279: False, Box Y and box X intersect over the top left corner of box X.\"),\n",
       " Explanation(\"Explanation279: False, Box Y and box X intersect over the top left corner of box X.\"),\n",
       " Explanation(\"Explanation279: False, Box Y and box X intersect over the top left corner of box X.\"),\n",
       " Explanation(\"Explanation279: False, Box Y and box X intersect over the top left corner of box X.\"),\n",
       " Explanation(\"Explanation281: True, The bottom of box X is in the center of box Y\"),\n",
       " Explanation(\"Explanation282: True, Box x overlaps box Y. The bottom half of box x fits inside box Y.\"),\n",
       " Explanation(\"Explanation282: True, Box x overlaps box Y. The bottom half of box x fits inside box Y.\"),\n",
       " Explanation(\"Explanation282: True, Box x overlaps box Y. The bottom half of box x fits inside box Y.\"),\n",
       " Explanation(\"Explanation282: True, Box x overlaps box Y. The bottom half of box x fits inside box Y.\"),\n",
       " Explanation(\"Explanation282: True, Box x overlaps box Y. The bottom half of box x fits inside box Y.\"),\n",
       " Explanation(\"Explanation282: True, Box x overlaps box Y. The bottom half of box x fits inside box Y.\"),\n",
       " Explanation(\"Explanation282: True, Box x overlaps box Y. The bottom half of box x fits inside box Y.\"),\n",
       " Explanation(\"Explanation282: True, Box x overlaps box Y. The bottom half of box x fits inside box Y.\"),\n",
       " Explanation(\"Explanation282: True, Box x overlaps box Y. The bottom half of box x fits inside box Y.\"),\n",
       " Explanation(\"Explanation282: True, Box x overlaps box Y. The bottom half of box x fits inside box Y.\"),\n",
       " Explanation(\"Explanation284: False, Box X completely engulfs Box Y.\"),\n",
       " Explanation(\"Explanation285: False, Box x doesn\"t specify one specific person and is several times larger than box y.\"),\n",
       " Explanation(\"Explanation287: False, Box X is much bigger than Box Y.\"),\n",
       " Explanation(\"Explanation288: False, Box X is about 50 times bigger than Box Y.\"),\n",
       " Explanation(\"Explanation289: False, Box X is taller than Box Y\"),\n",
       " Explanation(\"Explanation290: False, Only the very bottom of box X overlaps box Y\"),\n",
       " Explanation(\"Explanation291: False, Box X only has a small overlap over Box Y.\"),\n",
       " Explanation(\"Explanation291: False, Box X only has a small overlap over Box Y.\"),\n",
       " Explanation(\"Explanation292: False, Box X is to the right of Box Y.\"),\n",
       " Explanation(\"Explanation294: False, Box X is off in the distance while Box Y is closer to the camera.\"),\n",
       " Explanation(\"Explanation294: False, Box X is off in the distance while Box Y is closer to the camera.\"),\n",
       " Explanation(\"Explanation295: False, The left edge of Box X is on the same line as the right edge of Box Y.\"),\n",
       " Explanation(\"Explanation298: True, Box X overlaps Box Y, and they are nearly the same size.\"),\n",
       " Explanation(\"Explanation298: True, Box X overlaps Box Y, and they are nearly the same size.\"),\n",
       " Explanation(\"Explanation299: True, Box X is centered over Box Y.\"),\n",
       " Explanation(\"Explanation299: True, Box X is centered over Box Y.\"),\n",
       " Explanation(\"Explanation30: False, Box X is much taller and wider than Box Y.\"),\n",
       " Explanation(\"Explanation30: False, Box X is much taller and wider than Box Y.\"),\n",
       " Explanation(\"Explanation300: True, Box Y is at most two times smaller than Box X, Box X\", \"Box X is taller than Box Y\"),\n",
       " Explanation(\"Explanation300: True, Box Y is at most two times smaller than Box X, Box X\", \"Box X is taller than Box Y\"),\n",
       " Explanation(\"Explanation300: True, Box Y is at most two times smaller than Box X, Box X\", \"Box X is taller than Box Y\"),\n",
       " Explanation(\"Explanation301: True, Box y is directly below box x\"),\n",
       " Explanation(\"Explanation302: False, The bottom edge of Box X is only a tiny bit lower than the top edge of Box Y.\"),\n",
       " Explanation(\"Explanation305: True, The bottom edge of box X is at the center of box Y.\"),\n",
       " Explanation(\"Explanation306: True, The man in box X is on the bike in box Y\"),\n",
       " Explanation(\"Explanation306: True, The man in box X is on the bike in box Y\"),\n",
       " Explanation(\"Explanation308: True, Box X includes Box Y\"),\n",
       " Explanation(\"Explanation309: True, Box X mostly overlaps Box Y.\"),\n",
       " Explanation(\"Explanation310: True, Box Y is slimmer than box X\"),\n",
       " Explanation(\"Explanation313: True, The center of Box X is even with the top edge of Box Y.\"),\n",
       " Explanation(\"Explanation316: False, Box X is smaller than Box Y and is located in the top right corner of Box Y.\"),\n",
       " Explanation(\"Explanation316: False, Box X is smaller than Box Y and is located in the top right corner of Box Y.\"),\n",
       " Explanation(\"Explanation316: False, Box X is smaller than Box Y and is located in the top right corner of Box Y.\"),\n",
       " Explanation(\"Explanation316: False, Box X is smaller than Box Y and is located in the top right corner of Box Y.\"),\n",
       " Explanation(\"Explanation316: False, Box X is smaller than Box Y and is located in the top right corner of Box Y.\"),\n",
       " Explanation(\"Explanation316: False, Box X is smaller than Box Y and is located in the top right corner of Box Y.\"),\n",
       " Explanation(\"Explanation316: False, Box X is smaller than Box Y and is located in the top right corner of Box Y.\"),\n",
       " Explanation(\"Explanation316: False, Box X is smaller than Box Y and is located in the top right corner of Box Y.\"),\n",
       " Explanation(\"Explanation316: False, Box X is smaller than Box Y and is located in the top right corner of Box Y.\"),\n",
       " Explanation(\"Explanation316: False, Box X is smaller than Box Y and is located in the top right corner of Box Y.\"),\n",
       " Explanation(\"Explanation317: False, The bottom of box Y is higher than the bottom of box X.\"),\n",
       " Explanation(\"Explanation318: False, The top of box X is as high and partly to the left of box Y.\"),\n",
       " Explanation(\"Explanation319: False, Box X is slightly to the left of Box Y.\"),\n",
       " Explanation(\"Explanation323: False, Box X is standing near Box Y.\"),\n",
       " Explanation(\"Explanation323: False, Box X is standing near Box Y.\"),\n",
       " Explanation(\"Explanation324: False, Box Y is a tiny fraction of the size of box X\"),\n",
       " Explanation(\"Explanation325: False, Box X is much larger than Box Y.\"),\n",
       " Explanation(\"Explanation326: False, Box x is far too big to single out a rider for box y.\"),\n",
       " Explanation(\"Explanation326: False, Box x is far too big to single out a rider for box y.\"),\n",
       " Explanation(\"Explanation326: False, Box x is far too big to single out a rider for box y.\"),\n",
       " Explanation(\"Explanation327: True, Box X mostly overlaps Box Y.\"),\n",
       " Explanation(\"Explanation328: True, Box Y fits inside box X.\"),\n",
       " Explanation(\"Explanation328: True, Box Y fits inside box X.\"),\n",
       " Explanation(\"Explanation33: True, Box X is centered over Box Y.\"),\n",
       " Explanation(\"Explanation33: True, Box X is centered over Box Y.\"),\n",
       " Explanation(\"Explanation330: True, Box Y is almost as big as Box X.\"),\n",
       " Explanation(\"Explanation333: False, Box Y is many times smaller than Box X.\"),\n",
       " Explanation(\"Explanation335: False, Box X is above Box Y.\"),\n",
       " Explanation(\"Explanation337: False, The bottom edge of box X is very close but just below the top edge of box Y.\"),\n",
       " Explanation(\"Explanation337: False, The bottom edge of box X is very close but just below the top edge of box Y.\"),\n",
       " Explanation(\"Explanation338: True, Box X is centered and slightly above Box Y.\"),\n",
       " Explanation(\"Explanation339: True, The bottom edge of box Y is just a little bit below the bottom edge of box X.\"),\n",
       " Explanation(\"Explanation34: True, box Y sits just below box X.\"),\n",
       " Explanation(\"Explanation340: True, Box Y almost fits inside of box X. Box Y is in the dead center of box X.\"),\n",
       " Explanation(\"Explanation340: True, Box Y almost fits inside of box X. Box Y is in the dead center of box X.\"),\n",
       " Explanation(\"Explanation340: True, Box Y almost fits inside of box X. Box Y is in the dead center of box X.\"),\n",
       " Explanation(\"Explanation340: True, Box Y almost fits inside of box X. Box Y is in the dead center of box X.\"),\n",
       " Explanation(\"Explanation340: True, Box Y almost fits inside of box X. Box Y is in the dead center of box X.\"),\n",
       " Explanation(\"Explanation340: True, Box Y almost fits inside of box X. Box Y is in the dead center of box X.\"),\n",
       " Explanation(\"Explanation340: True, Box Y almost fits inside of box X. Box Y is in the dead center of box X.\"),\n",
       " Explanation(\"Explanation340: True, Box Y almost fits inside of box X. Box Y is in the dead center of box X.\"),\n",
       " Explanation(\"Explanation340: True, Box Y almost fits inside of box X. Box Y is in the dead center of box X.\"),\n",
       " Explanation(\"Explanation340: True, Box Y almost fits inside of box X. Box Y is in the dead center of box X.\"),\n",
       " Explanation(\"Explanation341: False, Box x is too far to the right of box y and is also below box y.\"),\n",
       " Explanation(\"Explanation342: False, Box Y is high and to the left of Box X, and is also a lot smaller\"),\n",
       " Explanation(\"Explanation344: False, Box X is to the left of Box Y.\"),\n",
       " Explanation(\"Explanation345: False, The bottom edge of Box X is very close to the top edge of Box Y.\"),\n",
       " Explanation(\"Explanation348: False, The lower edge of Box X is below than the lower edge of box Y.\"),\n",
       " Explanation(\"Explanation35: True, Box x is positioned and sized proportionately over box y for a person riding a bicycle.\"),\n",
       " Explanation(\"Explanation35: True, Box x is positioned and sized proportionately over box y for a person riding a bicycle.\"),\n",
       " Explanation(\"Explanation352: True, The bottom half of box X overlaps the center of box Y.\"),\n",
       " Explanation(\"Explanation353: True, Box X overlaps the center of Box Y.\"),\n",
       " Explanation(\"Explanation358: True, Box X is directly above Box Y and they\"re almost the same size.\"),\n",
       " Explanation(\"Explanation36: False, Box X is much bigger than Box Y.\"),\n",
       " Explanation(\"Explanation362: False, Box X is at least 10 times as wide as Box Y.\"),\n",
       " Explanation(\"Explanation362: False, Box X is at least 10 times as wide as Box Y.\"),\n",
       " Explanation(\"Explanation362: False, Box X is at least 10 times as wide as Box Y.\"),\n",
       " Explanation(\"Explanation363: False, Box Y is a very small fraction of box X.\"),\n",
       " Explanation(\"Explanation365: False, Box X only overlaps a sliver of the right side of Box Y.\"),\n",
       " Explanation(\"Explanation365: False, Box X only overlaps a sliver of the right side of Box Y.\"),\n",
       " Explanation(\"Explanation37: False, Box X is about thirty times larger than box Y. Box Y is but a small speck in box X.\"),\n",
       " Explanation(\"Explanation37: False, Box X is about thirty times larger than box Y. Box Y is but a small speck in box X.\"),\n",
       " Explanation(\"Explanation37: False, Box X is about thirty times larger than box Y. Box Y is but a small speck in box X.\"),\n",
       " Explanation(\"Explanation37: False, Box X is about thirty times larger than box Y. Box Y is but a small speck in box X.\"),\n",
       " Explanation(\"Explanation37: False, Box X is about thirty times larger than box Y. Box Y is but a small speck in box X.\"),\n",
       " Explanation(\"Explanation37: False, Box X is about thirty times larger than box Y. Box Y is but a small speck in box X.\"),\n",
       " Explanation(\"Explanation37: False, Box X is about thirty times larger than box Y. Box Y is but a small speck in box X.\"),\n",
       " Explanation(\"Explanation37: False, Box X is about thirty times larger than box Y. Box Y is but a small speck in box X.\"),\n",
       " Explanation(\"Explanation37: False, Box X is about thirty times larger than box Y. Box Y is but a small speck in box X.\"),\n",
       " Explanation(\"Explanation37: False, Box X is about thirty times larger than box Y. Box Y is but a small speck in box X.\"),\n",
       " Explanation(\"Explanation38: False, Box Y is a very small fraction of the size of box X.\"),\n",
       " Explanation(\"Explanation4: True, Box X is centered and slightly above Box Y.\"),\n",
       " Explanation(\"Explanation42: False, Box X is much bigger than Box Y.\"),\n",
       " Explanation(\"Explanation43: False, Box Y is over four times smaller than box X.\"),\n",
       " Explanation(\"Explanation43: False, Box Y is over four times smaller than box X.\"),\n",
       " Explanation(\"Explanation43: False, Box Y is over four times smaller than box X.\"),\n",
       " Explanation(\"Explanation44: False, Box X is to the right of Box Y.\"),\n",
       " Explanation(\"Explanation48: False, Box Y is way to the right of box X. Box X is not overlapping box Y. Box X only slightly collides with box Y.\"),\n",
       " Explanation(\"Explanation48: False, Box Y is way to the right of box X. Box X is not overlapping box Y. Box X only slightly collides with box Y.\"),\n",
       " Explanation(\"Explanation48: False, Box Y is way to the right of box X. Box X is not overlapping box Y. Box X only slightly collides with box Y.\"),\n",
       " Explanation(\"Explanation48: False, Box Y is way to the right of box X. Box X is not overlapping box Y. Box X only slightly collides with box Y.\"),\n",
       " Explanation(\"Explanation48: False, Box Y is way to the right of box X. Box X is not overlapping box Y. Box X only slightly collides with box Y.\"),\n",
       " Explanation(\"Explanation48: False, Box Y is way to the right of box X. Box X is not overlapping box Y. Box X only slightly collides with box Y.\"),\n",
       " Explanation(\"Explanation48: False, Box Y is way to the right of box X. Box X is not overlapping box Y. Box X only slightly collides with box Y.\"),\n",
       " Explanation(\"Explanation48: False, Box Y is way to the right of box X. Box X is not overlapping box Y. Box X only slightly collides with box Y.\"),\n",
       " Explanation(\"Explanation48: False, Box Y is way to the right of box X. Box X is not overlapping box Y. Box X only slightly collides with box Y.\"),\n",
       " Explanation(\"Explanation48: False, Box Y is way to the right of box X. Box X is not overlapping box Y. Box X only slightly collides with box Y.\"),\n",
       " Explanation(\"Explanation5: True, Box x is an appropriate size over this size of box y.\"),\n",
       " Explanation(\"Explanation5: True, Box x is an appropriate size over this size of box y.\"),\n",
       " Explanation(\"Explanation53: False, Box X is off-center to the right of Box Y.\"),\n",
       " Explanation(\"Explanation54: False, Box Y is too far to the left of box X\"),\n",
       " Explanation(\"Explanation54: False, Box Y is too far to the left of box X\"),\n",
       " Explanation(\"Explanation54: False, Box Y is too far to the left of box X\"),\n",
       " Explanation(\"Explanation57: False, Box X is much smaller than Box Y.\"),\n",
       " Explanation(\"Explanation58: False, Box X is to the left of Box Y\"),\n",
       " Explanation(\"Explanation59: False, Box X is much bigger than Box Y.\"),\n",
       " Explanation(\"Explanation60: False, Box X is much bigger than Box Y.\"),\n",
       " Explanation(\"Explanation62: False, Box Y is in the far distance and no where near Box X.\"),\n",
       " Explanation(\"Explanation62: False, Box Y is in the far distance and no where near Box X.\"),\n",
       " Explanation(\"Explanation62: False, Box Y is in the far distance and no where near Box X.\"),\n",
       " Explanation(\"Explanation62: False, Box Y is in the far distance and no where near Box X.\"),\n",
       " Explanation(\"Explanation62: False, Box Y is in the far distance and no where near Box X.\"),\n",
       " Explanation(\"Explanation62: False, Box Y is in the far distance and no where near Box X.\"),\n",
       " Explanation(\"Explanation63: False, Box X is multiple times larger than Box Y.\"),\n",
       " Explanation(\"Explanation65: False, Box X is behind Box Y and is not correct.\"),\n",
       " Explanation(\"Explanation66: False, The center of Box X is at the same point as the top left corner of Box Y.\"),\n",
       " Explanation(\"Explanation67: True, Box X is about 50 times bigger than Box Y.\"),\n",
       " Explanation(\"Explanation68: True, Box X is very many times larger than box Y.\"),\n",
       " Explanation(\"Explanation69: False, Box X is much wider than Box Y.\"),\n",
       " Explanation(\"Explanation7: False, Box X extends below Box Y, and the bounding boxes merely touch on one border.\"),\n",
       " Explanation(\"Explanation7: False, Box X extends below Box Y, and the bounding boxes merely touch on one border.\"),\n",
       " Explanation(\"Explanation71: False, Box X only bisects the left half of Box Y.\"),\n",
       " Explanation(\"Explanation71: False, Box X only bisects the left half of Box Y.\"),\n",
       " Explanation(\"Explanation71: False, Box X only bisects the left half of Box Y.\"),\n",
       " Explanation(\"Explanation75: True, The bottom of box X is in the center of box Y\"),\n",
       " Explanation(\"Explanation77: False, Box X is much bigger than Box Y.\"),\n",
       " Explanation(\"Explanation78: False, Box X is about 10 times larger than box Y\"),\n",
       " Explanation(\"Explanation79: False, Box x is fat too large and is underneath box y.\"),\n",
       " Explanation(\"Explanation80: True, Box X is directly above box Y.\"),\n",
       " Explanation(\"Explanation81: True, Box X bisects Box Y.\"),\n",
       " Explanation(\"Explanation82: True, Box X overlaps the center of Box Y.\"),\n",
       " Explanation(\"Explanation84: True, The bottom of box X is half covered by box Y\"),\n",
       " Explanation(\"Explanation85: False, Box X only overlaps the top right corner of Box Y.\"),\n",
       " Explanation(\"Explanation85: False, Box X only overlaps the top right corner of Box Y.\"),\n",
       " Explanation(\"Explanation86: False, Only the bottom left corner of box X overlaps box Y\"),\n",
       " Explanation(\"Explanation87: False, The right edge of Box X is just barely to the right of the left edge of Box Y.\"),\n",
       " Explanation(\"Explanation89: False, Box X is much larger than Box Y.\"),\n",
       " Explanation(\"Explanation90: False, Box Y is entirely surrounded by box X\"),\n",
       " Explanation(\"Explanation92: False, Box X is much smaller than Box Y.\"),\n",
       " Explanation(\"Explanation93: False, Box X is much smaller than Box Y.\"),\n",
       " Explanation(\"Explanation94: False, Box X is much smaller than box Y\"),\n",
       " Explanation(\"Explanation96: True, Box X is centered over Box Y.\"),\n",
       " Explanation(\"Explanation96: True, Box X is centered over Box Y.\"),\n",
       " Explanation(\"Explanation97: True, Box x is an appropriate size over this size of box y.\"),\n",
       " Explanation(\"Explanation97: True, Box x is an appropriate size over this size of box y.\"),\n",
       " Explanation(\"Explanation98: True, Box X is centered and overlapping Box Y.\"),\n",
       " Explanation(\"Explanation99: True, Box Y is skinnier than box X\")]"
      ]
     },
     "execution_count": 12,
     "metadata": {},
     "output_type": "execute_result"
    }
   ],
   "source": [
    "lfs = babbler.generate_lfs()\n",
    "babbler.get_explanations()"
   ]
  },
  {
   "cell_type": "code",
   "execution_count": 18,
   "metadata": {
    "collapsed": false,
    "deletable": true,
    "editable": true
   },
   "outputs": [
    {
     "name": "stdout",
     "output_type": "stream",
     "text": [
      "Filtered to 83 LFs with duplicate semantics filter (0 filtered).\n"
     ]
    }
   ],
   "source": [
    "babbler.filter_duplicate_semantics()"
   ]
  },
  {
   "cell_type": "code",
   "execution_count": 17,
   "metadata": {
    "collapsed": false,
    "deletable": true,
    "editable": true
   },
   "outputs": [
    {
     "name": "stdout",
     "output_type": "stream",
     "text": [
      "return 1 if call(('.within', ('.box', ('.int', 0))), ('.box', ('.int', 1))) else 0\n",
      "return 1 if call(('.below', ('.box', ('.int', 0))), ('.box', ('.int', 1))) else 0\n",
      "return 1 if call(('.overlaps', ('.box', ('.int', 1))), ('.box', ('.int', 0))) else 0\n",
      "return 1 if call(('.above', ('.box', ('.int', 1))), ('.box', ('.int', 0))) else 0\n",
      "return 1 if call(('.near', ('.box', ('.int', 1))), ('.box', ('.int', 0))) else 0\n",
      "return -1 if call(('.below', ('.box', ('.int', 1))), ('.box', ('.int', 0))) else 0\n",
      "return -1 if call(('.taller', ('.box', ('.int', 1))), ('.box', ('.int', 0))) else 0\n",
      "return -1 if call(('.smaller', ('.box', ('.int', 1))), ('.box', ('.int', 0))) else 0\n",
      "return -1 if call(('.larger', ('.box', ('.int', 0))), ('.box', ('.int', 1))) else 0\n",
      "return -1 if call(('.near', ('.corner', ('.box', ('.int', 1)), ('.string', 'top'), ('.string', 'left'))), ('.edge', ('.box', ('.int', 1)), ('.string', 'bottom'))) else 0\n",
      "return -1 if call(('.near', ('.corner', ('.box', ('.int', 1)), ('.string', 'top'), ('.string', 'left'))), ('.edge', ('.box', ('.int', 0)), ('.string', 'bottom'))) else 0\n",
      "return -1 if call(('.near', ('.corner', ('.box', ('.int', 1)), ('.string', 'top'), ('.string', 'left'))), ('.edge', ('.box', ('.int', 1)), ('.string', 'top'))) else 0\n",
      "return -1 if call(right(('.edge', ('.box', ('.int', 1)), ('.string', 'left'))), ('.edge', ('.box', ('.int', 0)), ('.string', 'bottom'))) else 0\n",
      "return -1 if call(right(('.edge', ('.box', ('.int', 1)), ('.string', 'left'))), ('.edge', ('.box', ('.int', 0)), ('.string', 'right'))) else 0\n",
      "return -1 if call(('.near', ('.edge', ('.box', ('.int', 1)), ('.string', 'bottom'))), ('.edge', ('.box', ('.int', 0)), ('.string', 'bottom'))) else 0\n",
      "return -1 if call(('.far', ('.box', ('.int', 1))), ('.box', ('.int', 0))) else 0\n",
      "return -1 if call(('.larger', ('.box', ('.int', 1))), ('.box', ('.int', 0))) else 0\n",
      "return -1 if call(('.wider', ('.box', ('.int', 1))), ('.box', ('.int', 0))) else 0\n",
      "return -1 if call(('.larger', ('.box', ('.int', 0))), ('.box', ('.int', 0))) else 0\n",
      "return -1 if call(('.near', ('.box', ('.int', 0))), ('.box', ('.int', 0))) else 0\n",
      "return -1 if call(('.near', ('.box', ('.int', 0))), ('.box', ('.int', 1))) else 0\n",
      "return -1 if call(('.smaller', ('.box', ('.int', 0))), ('.box', ('.int', 1))) else 0\n",
      "return -1 if call(right(('.box', ('.int', 1))), ('.box', ('.int', 0))) else 0\n",
      "return -1 if call(right(('.box', ('.int', 1))), ('.box', ('.int', 1))) else 0\n",
      "return -1 if call(('.overlaps', ('.box', ('.int', 1))), ('.box', ('.int', 1))) else 0\n",
      "return -1 if call(('.overlaps', ('.box', ('.int', 1))), ('.box', ('.int', 0))) else 0\n",
      "return -1 if call(('.far', ('.box', ('.int', 0))), ('.box', ('.int', 1))) else 0\n",
      "return -1 if call(left(('.box', ('.int', 0))), ('.box', ('.int', 1))) else 0\n",
      "return -1 if call(left(('.box', ('.int', 1))), ('.box', ('.int', 0))) else 0\n",
      "return -1 if not (True) else 0\n",
      "return -1 if call(('.near', ('.corner', ('.box', ('.int', 1)), ('.string', 'top'), ('.string', 'left'))), ('.center', ('.box', ('.int', 0)))) else 0\n",
      "return 1 if call(('.larger', ('.box', ('.int', 1))), ('.box', ('.int', 0))) else 0\n",
      "return 1 if call(('.near', ('.center', ('.box', ('.int', 1)))), ('.edge', ('.box', ('.int', 0)), ('.string', 'bottom'))) else 0\n",
      "return 1 if call(('.smaller', ('.box', ('.int', 1))), ('.box', ('.int', 0))) else 0\n",
      "return -1 if call(('.within', ('.box', ('.int', 0))), ('.box', ('.int', 1))) else 0\n",
      "return 1 if call(('.skinnier', ('.box', ('.int', 0))), ('.box', ('.int', 1))) else 0\n",
      "return 1 if call(('.smaller', ('.box', ('.int', 0))), ('.box', ('.int', 1))) else 0\n",
      "return -1 if call(left(('.center', ('.box', ('.int', 1)))), ('.edge', ('.box', ('.int', 0)), ('.string', 'right'))) else 0\n",
      "return -1 if call(right(('.box', ('.int', 0))), ('.box', ('.int', 1))) else 0\n",
      "return -1 if call(left(('.edge', ('.box', ('.int', 0)), ('.string', 'right'))), ('.edge', ('.box', ('.int', 1)), ('.string', 'left'))) else 0\n",
      "return -1 if call(('.above', ('.edge', ('.box', ('.int', 1)), ('.string', 'right'))), ('.center', ('.box', ('.int', 0)))) else 0\n",
      "return -1 if call(('.near', ('.box', ('.int', 1))), ('.box', ('.int', 0))) else 0\n",
      "return 1 if call(('.taller', ('.box', ('.int', 1))), ('.box', ('.int', 0))) else 0\n",
      "return 1 if call(('.wider', ('.box', ('.int', 0))), ('.box', ('.int', 1))) else 0\n",
      "return 1 if call(('.near', ('.box', ('.int', 0))), ('.box', ('.int', 1))) else 0\n",
      "return 1 if call(right(('.box', ('.int', 0))), ('.box', ('.int', 1))) else 0\n",
      "return 1 if call(('.near', ('.edge', ('.box', ('.int', 0)), ('.string', 'left'))), ('.edge', ('.box', ('.int', 1)), ('.string', 'left'))) else 0\n",
      "return 1 if call(('.near', ('.edge', ('.box', ('.int', 0)), ('.string', 'right'))), ('.edge', ('.box', ('.int', 1)), ('.string', 'left'))) else 0\n",
      "return 1 if call(left(('.edge', ('.box', ('.int', 0)), ('.string', 'right'))), ('.edge', ('.box', ('.int', 1)), ('.string', 'left'))) else 0\n",
      "return 1 if call(('.near', ('.edge', ('.box', ('.int', 0)), ('.string', 'left'))), ('.edge', ('.box', ('.int', 1)), ('.string', 'right'))) else 0\n",
      "return 1 if call(('.near', ('.edge', ('.box', ('.int', 0)), ('.string', 'right'))), ('.edge', ('.box', ('.int', 1)), ('.string', 'right'))) else 0\n",
      "return 1 if call(left(('.edge', ('.box', ('.int', 0)), ('.string', 'right'))), ('.edge', ('.box', ('.int', 1)), ('.string', 'right'))) else 0\n",
      "return -1 if call(left(('.box', ('.int', 0))), ('.box', ('.int', 0))) else 0\n",
      "return -1 if call(('.within', ('.box', ('.int', 1))), ('.box', ('.int', 0))) else 0\n",
      "return -1 if call(('.within', ('.box', ('.int', 1))), ('.box', ('.int', 1))) else 0\n",
      "return -1 if call(('.above', ('.box', ('.int', 1))), ('.box', ('.int', 0))) else 0\n",
      "return 1 if call(left(('.edge', ('.box', ('.int', 0)), ('.string', 'bottom'))), ('.edge', ('.box', ('.int', 1)), ('.string', 'bottom'))) else 0\n",
      "return 1 if call(left(('.edge', ('.box', ('.int', 0)), ('.string', 'left'))), ('.edge', ('.box', ('.int', 1)), ('.string', 'bottom'))) else 0\n",
      "return 1 if call(('.above', ('.edge', ('.box', ('.int', 1)), ('.string', 'bottom'))), ('.edge', ('.box', ('.int', 0)), ('.string', 'bottom'))) else 0\n",
      "return -1 if call(('.shorter', ('.box', ('.int', 0))), ('.box', ('.int', 1))) else 0\n",
      "return 1 if call(('.near', ('.edge', ('.box', ('.int', 1)), ('.string', 'top'))), ('.center', ('.box', ('.int', 0)))) else 0\n",
      "return 1 if call(('.near', ('.edge', ('.box', ('.int', 0)), ('.string', 'bottom'))), ('.edge', ('.box', ('.int', 1)), ('.string', 'bottom'))) else 0\n",
      "return 1 if call(('.taller', ('.box', ('.int', 0))), ('.box', ('.int', 0))) else 0\n",
      "return -1 if call(('.near', ('.box', ('.int', 1))), ('.box', ('.int', 1))) else 0\n",
      "return 1 if call(('.near', ('.center', ('.box', ('.int', 1)))), ('.center', ('.box', ('.int', 0)))) else 0\n",
      "return -1 if call(('.surrounds', ('.box', ('.int', 1))), ('.box', ('.int', 0))) else 0\n",
      "return -1 if call(left(('.box', ('.int', 0))), ('.edge', ('.box', ('.int', 1)), ('.string', 'right'))) else 0\n",
      "return -1 if call(right(('.box', ('.int', 0))), ('.edge', ('.box', ('.int', 1)), ('.string', 'right'))) else 0\n",
      "return -1 if call(right(('.box', ('.int', 1))), ('.edge', ('.box', ('.int', 0)), ('.string', 'left'))) else 0\n",
      "return -1 if call(('.above', ('.edge', ('.box', ('.int', 0)), ('.string', 'bottom'))), ('.edge', ('.box', ('.int', 1)), ('.string', 'bottom'))) else 0\n",
      "return 1 if call(('.above', ('.box', ('.int', 1))), ('.box', ('.int', 1))) else 0\n",
      "return -1 if call(('.below', ('.edge', ('.box', ('.int', 1)), ('.string', 'bottom'))), ('.edge', ('.box', ('.int', 0)), ('.string', 'bottom'))) else 0\n",
      "return -1 if call(('.above', ('.box', ('.int', 0))), ('.box', ('.int', 1))) else 0\n",
      "return 1 if call(('.within', ('.box', ('.int', 1))), ('.box', ('.int', 0))) else 0\n",
      "return 1 if call(('.smaller', ('.box', ('.int', 1))), ('.box', ('.int', 1))) else 0\n",
      "return -1 if call(('.below', ('.edge', ('.box', ('.int', 1)), ('.string', 'top'))), ('.edge', ('.box', ('.int', 0)), ('.string', 'bottom'))) else 0\n",
      "return 1 if call(('.surrounds', ('.box', ('.int', 1))), ('.box', ('.int', 0))) else 0\n",
      "return -1 if call(left(('.box', ('.int', 1))), ('.edge', ('.box', ('.int', 0)), ('.string', 'top'))) else 0\n",
      "return 1 if call(('.larger', ('.box', ('.int', 0))), ('.box', ('.int', 1))) else 0\n",
      "return -1 if call(('.near', ('.edge', ('.box', ('.int', 1)), ('.string', 'top'))), ('.edge', ('.box', ('.int', 0)), ('.string', 'bottom'))) else 0\n",
      "return 1 if call(('.below', ('.edge', ('.box', ('.int', 0)), ('.string', 'bottom'))), ('.edge', ('.box', ('.int', 1)), ('.string', 'bottom'))) else 0\n",
      "return 1 if call(('.near', ('.box', ('.int', 0))), ('.box', ('.int', 0))) else 0\n",
      "return -1 if call(('.below', ('.box', ('.int', 1))), ('.edge', ('.box', ('.int', 1)), ('.string', 'right'))) else 0\n"
     ]
    }
   ],
   "source": [
    "from snorkel.contrib.babble import sem_to_str\n",
    "\n",
    "for parse in babbler.parses:\n",
    "    print(sem_to_str(parse.semantics))"
   ]
  },
  {
   "cell_type": "code",
   "execution_count": null,
   "metadata": {
    "collapsed": true,
    "deletable": true,
    "editable": true
   },
   "outputs": [],
   "source": []
  }
 ],
 "metadata": {
  "kernelspec": {
   "display_name": "Python 2",
   "language": "python",
   "name": "python2"
  },
  "language_info": {
   "codemirror_mode": {
    "name": "ipython",
    "version": 2
   },
   "file_extension": ".py",
   "mimetype": "text/x-python",
   "name": "python",
   "nbconvert_exporter": "python",
   "pygments_lexer": "ipython2",
   "version": "2.7.6"
  }
 },
 "nbformat": 4,
 "nbformat_minor": 2
}
