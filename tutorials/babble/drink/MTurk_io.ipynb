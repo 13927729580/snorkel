{
 "cells": [
  {
   "cell_type": "markdown",
   "metadata": {
    "deletable": true,
    "editable": true
   },
   "source": [
    "## MTurk I/O for Image Dataset\n",
    "\n",
    "The query of interest is: **The outlined boxes depict a person drinking water** \n",
    "\n",
    "Want to generate the input .csv file for MTurk and parse the output csv file for results. Using MTurkHelper from babble with adjustments for candidate type."
   ]
  },
  {
   "cell_type": "code",
   "execution_count": 1,
   "metadata": {
    "collapsed": false,
    "deletable": true,
    "editable": true
   },
   "outputs": [],
   "source": [
    "import numpy as np\n",
    "%matplotlib inline\n",
    "\n",
    "import os\n",
    "import sys\n",
    "import pandas as pd\n",
    "\n",
    "\n",
    "%load_ext autoreload\n",
    "%autoreload 2"
   ]
  },
  {
   "cell_type": "markdown",
   "metadata": {
    "collapsed": true,
    "deletable": true,
    "editable": true
   },
   "source": [
    "## MTurk Helper for Input CSV"
   ]
  },
  {
   "cell_type": "code",
   "execution_count": 2,
   "metadata": {
    "collapsed": false,
    "deletable": true,
    "editable": true
   },
   "outputs": [
    {
     "name": "stdout",
     "output_type": "stream",
     "text": [
      "The autoreload extension is already loaded. To reload it, use:\n",
      "  %reload_ext autoreload\n"
     ]
    }
   ],
   "source": [
    "sys.path.append('../data/')\n",
    "from tutorials.babble import MTurkHelper\n",
    "%load_ext autoreload\n",
    "%autoreload 2"
   ]
  },
  {
   "cell_type": "markdown",
   "metadata": {
    "deletable": true,
    "editable": true
   },
   "source": [
    "We want to make \"fake\" candidates for the visual tesk since it doesn't fit into the actual sense of the word \"candidate\". They will just be a list of image names that are saved (how convenient!)"
   ]
  },
  {
   "cell_type": "code",
   "execution_count": 3,
   "metadata": {
    "collapsed": false,
    "deletable": true,
    "editable": true
   },
   "outputs": [
    {
     "name": "stdout",
     "output_type": "stream",
     "text": [
      "False\n",
      "123\n"
     ]
    }
   ],
   "source": [
    "filelist= [file for file in os.listdir('/dfs/scratch0/paroma/visual_genome/') if ((file.startswith('drink-val_')) and (file.endswith('.png')))]\n",
    "print (len(filelist) % 4 == 0)\n",
    "print len(filelist)/4"
   ]
  },
  {
   "cell_type": "code",
   "execution_count": 3,
   "metadata": {
    "collapsed": true,
    "deletable": true,
    "editable": true
   },
   "outputs": [
    {
     "ename": "NameError",
     "evalue": "name 'filelist' is not defined",
     "output_type": "error",
     "traceback": [
      "\u001b[0;31m---------------------------------------------------------------------------\u001b[0m",
      "\u001b[0;31mNameError\u001b[0m                                 Traceback (most recent call last)",
      "\u001b[0;32m<ipython-input-3-b588045e7655>\u001b[0m in \u001b[0;36m<module>\u001b[0;34m()\u001b[0m\n\u001b[0;32m----> 1\u001b[0;31m \u001b[0mhelper\u001b[0m \u001b[0;34m=\u001b[0m \u001b[0mMTurkHelper\u001b[0m\u001b[0;34m(\u001b[0m\u001b[0mcandidates\u001b[0m\u001b[0;34m=\u001b[0m\u001b[0mfilelist\u001b[0m\u001b[0;34m,\u001b[0m \u001b[0mlabels\u001b[0m\u001b[0;34m=\u001b[0m\u001b[0;34m[\u001b[0m\u001b[0;34m]\u001b[0m\u001b[0;34m,\u001b[0m \u001b[0mnum_hits\u001b[0m\u001b[0;34m=\u001b[0m\u001b[0;36m1\u001b[0m\u001b[0;34m+\u001b[0m\u001b[0mlen\u001b[0m\u001b[0;34m(\u001b[0m\u001b[0mfilelist\u001b[0m\u001b[0;34m)\u001b[0m\u001b[0;34m/\u001b[0m\u001b[0;36m4\u001b[0m\u001b[0;34m)\u001b[0m\u001b[0;34m\u001b[0m\u001b[0m\n\u001b[0m",
      "\u001b[0;31mNameError\u001b[0m: name 'filelist' is not defined"
     ]
    }
   ],
   "source": [
    "helper = MTurkHelper(candidates=filelist, labels=[], num_hits=1+len(filelist)/4)"
   ]
  },
  {
   "cell_type": "code",
   "execution_count": 4,
   "metadata": {
    "collapsed": true,
    "deletable": true,
    "editable": true
   },
   "outputs": [
    {
     "ename": "NameError",
     "evalue": "name 'helper' is not defined",
     "output_type": "error",
     "traceback": [
      "\u001b[0;31m---------------------------------------------------------------------------\u001b[0m",
      "\u001b[0;31mNameError\u001b[0m                                 Traceback (most recent call last)",
      "\u001b[0;32m<ipython-input-4-4e193d1c85d2>\u001b[0m in \u001b[0;36m<module>\u001b[0;34m()\u001b[0m\n\u001b[1;32m      1\u001b[0m \u001b[0minput_csv_path\u001b[0m \u001b[0;34m=\u001b[0m \u001b[0;34m'./data/Labels_for_Drink_v0.1.csv'\u001b[0m\u001b[0;34m\u001b[0m\u001b[0m\n\u001b[0;32m----> 2\u001b[0;31m \u001b[0mhelper\u001b[0m\u001b[0;34m.\u001b[0m\u001b[0mpreprocess_visual\u001b[0m\u001b[0;34m(\u001b[0m\u001b[0minput_csv_path\u001b[0m\u001b[0;34m)\u001b[0m\u001b[0;34m\u001b[0m\u001b[0m\n\u001b[0m",
      "\u001b[0;31mNameError\u001b[0m: name 'helper' is not defined"
     ]
    }
   ],
   "source": [
    "input_csv_path = './data/Labels_for_Drink_v0.1.csv'\n",
    "helper.preprocess_visual(input_csv_path)"
   ]
  },
  {
   "cell_type": "markdown",
   "metadata": {
    "collapsed": true,
    "deletable": true,
    "editable": true
   },
   "source": [
    "## MTurk Helper for Output Labels CSV"
   ]
  },
  {
   "cell_type": "code",
   "execution_count": 5,
   "metadata": {
    "collapsed": false,
    "deletable": true,
    "editable": true
   },
   "outputs": [],
   "source": [
    "output_csv_path = (os.environ['SNORKELHOME'] + '/tutorials/babble/drink/data/Labels_for_Drink_v0.1_out.csv')"
   ]
  },
  {
   "cell_type": "code",
   "execution_count": 6,
   "metadata": {
    "collapsed": false,
    "deletable": true,
    "editable": true
   },
   "outputs": [
    {
     "name": "stdout",
     "output_type": "stream",
     "text": [
      "Reading val CSV!\n",
      "Num HITs unique: 124\n",
      "Num HITs total: 372\n"
     ]
    },
    {
     "data": {
      "image/png": "[encoded data removed]",
      "text/plain": [
       "<matplotlib.figure.Figure at 0x7ff9ee720810>"
      ]
     },
     "metadata": {},
     "output_type": "display_data"
    },
    {
     "name": "stdout",
     "output_type": "stream",
     "text": [
      "Median # seconds/HIT: 217 (54.0 s/explanation)\n"
     ]
    },
    {
     "data": {
      "image/png": "[encoded data removed]",
      "text/plain": [
       "<matplotlib.figure.Figure at 0x7ff9ba8a1550>"
      ]
     },
     "metadata": {},
     "output_type": "display_data"
    },
    {
     "name": "stdout",
     "output_type": "stream",
     "text": [
      "Warning: for candidate 1:28::bbox:3~~1:28::bbox:1, expected 3 responses, found 6.\n",
      "Unanimous: 397\n",
      "Majority: 67\n",
      "Bad: 31\n"
     ]
    }
   ],
   "source": [
    "helper = MTurkHelper(candidates=[], labels=[], num_hits=None, domain='vg', workers_per_hit=3)\n",
    "labels_by_candidate = helper.postprocess_visual(output_csv_path, is_gold=True, set_name='val', candidates=[], verbose=True)"
   ]
  },
  {
   "cell_type": "code",
   "execution_count": 8,
   "metadata": {
    "collapsed": false,
    "deletable": true,
    "editable": true
   },
   "outputs": [
    {
     "name": "stdout",
     "output_type": "stream",
     "text": [
      "Number of Valid Dev Set Candidates:  464\n"
     ]
    }
   ],
   "source": [
    "print \"Number of Valid Dev Set Candidates: \", len(labels_by_candidate)\n",
    "#np.save(os.environ['SNORKELHOME'] + '/tutorials/babble/bike/data/temp_val_labels_by_candidate.npy', np.array(labels_by_candidate))"
   ]
  },
  {
   "cell_type": "markdown",
   "metadata": {
    "deletable": true,
    "editable": true
   },
   "source": [
    "## MTurk Helper for Explanation Generation"
   ]
  },
  {
   "cell_type": "code",
   "execution_count": 29,
   "metadata": {
    "collapsed": false,
    "deletable": true,
    "editable": true
   },
   "outputs": [
    {
     "name": "stdout",
     "output_type": "stream",
     "text": [
      "True\n",
      "40\n"
     ]
    }
   ],
   "source": [
    "filelist= [file for file in os.listdir('/dfs/scratch0/paroma/visual_genome/') if ((file.startswith('drink-train_')) and (file.endswith('.png')))]\n",
    "filelist.sort()\n",
    "filelist = filelist[0:160]\n",
    "\n",
    "print (len(filelist) % 4 == 0)\n",
    "print len(filelist)/4"
   ]
  },
  {
   "cell_type": "code",
   "execution_count": 30,
   "metadata": {
    "collapsed": true,
    "deletable": true,
    "editable": true
   },
   "outputs": [],
   "source": [
    "helper = MTurkHelper(candidates=filelist, labels=[], num_hits=len(filelist)/4)"
   ]
  },
  {
   "cell_type": "code",
   "execution_count": 32,
   "metadata": {
    "collapsed": false,
    "deletable": true,
    "editable": true
   },
   "outputs": [
    {
     "name": "stdout",
     "output_type": "stream",
     "text": [
      "Wrote 40 HITs with 4 candidates per HIT\n"
     ]
    }
   ],
   "source": [
    "input_csv_path = './data/Drink_VisualGenome.csv'\n",
    "helper.preprocess_visual(input_csv_path)"
   ]
  },
  {
   "cell_type": "markdown",
   "metadata": {
    "deletable": true,
    "editable": true
   },
   "source": [
    "## Generating Train Candidates for Labels"
   ]
  },
  {
   "cell_type": "code",
   "execution_count": 39,
   "metadata": {
    "collapsed": false,
    "deletable": true,
    "editable": true
   },
   "outputs": [
    {
     "name": "stdout",
     "output_type": "stream",
     "text": [
      "Num HITs:  631\n"
     ]
    }
   ],
   "source": [
    "all_train_cand = [file for file in os.listdir('/dfs/scratch0/paroma/visual_genome/') \n",
    "                  if ((file.startswith('drink-train_')) and (file.endswith('.png')))]\n",
    "print 'Num HITs: ', int(round(len(all_train_cand)/4.0))"
   ]
  },
  {
   "cell_type": "code",
   "execution_count": 68,
   "metadata": {
    "collapsed": false,
    "deletable": true,
    "editable": true
   },
   "outputs": [],
   "source": [
    "helper = MTurkHelper(candidates=all_train_cand, labels=[], num_hits=int(round(len(all_train_cand)/4.0)))"
   ]
  },
  {
   "cell_type": "code",
   "execution_count": 69,
   "metadata": {
    "collapsed": false,
    "deletable": true,
    "editable": true,
    "scrolled": true
   },
   "outputs": [],
   "source": [
    "# input_csv_path = './data/Drink_Train_Labels_in.csv'\n",
    "# helper.preprocess_visual(input_csv_path)"
   ]
  },
  {
   "cell_type": "code",
   "execution_count": 70,
   "metadata": {
    "collapsed": false,
    "deletable": true,
    "editable": true
   },
   "outputs": [],
   "source": [
    "output_csv_path = (os.environ['SNORKELHOME'] + '/tutorials/babble/drink/data/Drink_Train_Labels_out.csv')"
   ]
  },
  {
   "cell_type": "code",
   "execution_count": 73,
   "metadata": {
    "collapsed": false,
    "deletable": true,
    "editable": true
   },
   "outputs": [
    {
     "name": "stdout",
     "output_type": "stream",
     "text": [
      "Reading train CSV!\n",
      "Num HITs unique: 631\n",
      "Num HITs total: 1262\n"
     ]
    },
    {
     "data": {
      "image/png": "[encoded data removed]",
      "text/plain": [
       "<matplotlib.figure.Figure at 0x7ff92bf34e10>"
      ]
     },
     "metadata": {},
     "output_type": "display_data"
    },
    {
     "name": "stdout",
     "output_type": "stream",
     "text": [
      "Median # seconds/HIT: 295 (73.0 s/explanation)\n"
     ]
    },
    {
     "data": {
      "image/png": "[encoded data removed]",
      "text/plain": [
       "<matplotlib.figure.Figure at 0x7ff92cf3c350>"
      ]
     },
     "metadata": {},
     "output_type": "display_data"
    },
    {
     "name": "stdout",
     "output_type": "stream",
     "text": [
      "Warning: expected 2524 total explanations, found 4964.\n",
      "Unanimous: 2264\n",
      "Majority: 0\n",
      "Bad: 2700\n"
     ]
    }
   ],
   "source": [
    "helper = MTurkHelper(candidates=[], labels=[], num_hits=int(round(len(all_train_cand)/4.0)), domain='vg', workers_per_hit=2)\n",
    "labels_by_candidate = helper.postprocess_visual(output_csv_path, is_gold=True, set_name='train', verbose=True)"
   ]
  },
  {
   "cell_type": "code",
   "execution_count": 74,
   "metadata": {
    "collapsed": false,
    "deletable": true,
    "editable": true
   },
   "outputs": [
    {
     "name": "stdout",
     "output_type": "stream",
     "text": [
      "Number of Valid Train Set Candidates:  2440\n"
     ]
    }
   ],
   "source": [
    "print \"Number of Valid Train Set Candidates: \", len(labels_by_candidate)\n",
    "#np.save('/dfs/scratch0/paroma/coco/annotations/train_labels_by_candidate.npy', np.array(labels_by_candidate))"
   ]
  },
  {
   "cell_type": "markdown",
   "metadata": {
    "deletable": true,
    "editable": true
   },
   "source": [
    "## MTurk Helper for Explanations CSV"
   ]
  },
  {
   "cell_type": "code",
   "execution_count": 75,
   "metadata": {
    "collapsed": true,
    "deletable": true,
    "editable": true
   },
   "outputs": [],
   "source": [
    "output_csv_path = (os.environ['SNORKELHOME'] + '/tutorials/babble/drink/data/Drink_VisualGenome_out.csv')"
   ]
  },
  {
   "cell_type": "code",
   "execution_count": 76,
   "metadata": {
    "collapsed": false,
    "deletable": true,
    "editable": true
   },
   "outputs": [
    {
     "name": "stdout",
     "output_type": "stream",
     "text": [
      "Reading train CSV!\n",
      "Num HITs unique: 40\n",
      "Num HITs total: 120\n"
     ]
    },
    {
     "data": {
      "image/png": "[encoded data removed]",
      "text/plain": [
       "<matplotlib.figure.Figure at 0x7ff92bf50710>"
      ]
     },
     "metadata": {},
     "output_type": "display_data"
    },
    {
     "name": "stdout",
     "output_type": "stream",
     "text": [
      "Median # seconds/HIT: 806 (201.0 s/explanation)\n"
     ]
    },
    {
     "data": {
      "image/png": "[encoded data removed]",
      "text/plain": [
       "<matplotlib.figure.Figure at 0x7ff92ce89890>"
      ]
     },
     "metadata": {},
     "output_type": "display_data"
    },
    {
     "name": "stdout",
     "output_type": "stream",
     "text": [
      "Warning: expected 160 total explanations, found 307.\n",
      "Unanimous: 111\n",
      "Majority: 36\n",
      "Bad: 160\n"
     ]
    }
   ],
   "source": [
    "helper = MTurkHelper(candidates=[], labels=[], num_hits=40, domain='vg', workers_per_hit=3)\n",
    "explanations = helper.postprocess_visual(output_csv_path, set_name='train', candidates=[], verbose=True)"
   ]
  },
  {
   "cell_type": "markdown",
   "metadata": {
    "deletable": true,
    "editable": true
   },
   "source": [
    "## Debugging for BabbleModel"
   ]
  },
  {
   "cell_type": "code",
   "execution_count": 77,
   "metadata": {
    "collapsed": false,
    "deletable": true,
    "editable": true
   },
   "outputs": [
    {
     "name": "stdout",
     "output_type": "stream",
     "text": [
      "Created grammar with 426 rules\n"
     ]
    }
   ],
   "source": [
    "from snorkel.contrib.babble import Babbler\n",
    "user_lists = {}\n",
    "babbler = Babbler(mode='image', explanations=explanations)"
   ]
  },
  {
   "cell_type": "code",
   "execution_count": 78,
   "metadata": {
    "collapsed": true,
    "deletable": true,
    "editable": true
   },
   "outputs": [
    {
     "name": "stdout",
     "output_type": "stream",
     "text": [
      "233 parses created from 153 out of 398 explanation(s)\n",
      "Parsed 233 LFs from 398 explanations.\n"
     ]
    },
    {
     "data": {
      "text/plain": [
       "[Explanation(\"Explanation0: False, Box Y is too far from the center of Box X\"),\n",
       " Explanation(\"Explanation1: False, Box Y is against right edge of Box X\"),\n",
       " Explanation(\"Explanation10: False, Box Y is too far from the top of Box X\"),\n",
       " Explanation(\"Explanation100: False, The center of box Y is below the center of box X.\"),\n",
       " Explanation(\"Explanation103: False, The center of box Y is in the center of box X.\"),\n",
       " Explanation(\"Explanation11: False, Box Y is far right of center of Box X.\"),\n",
       " Explanation(\"Explanation11: False, Box Y is far right of center of Box X.\"),\n",
       " Explanation(\"Explanation11: False, Box Y is far right of center of Box X.\"),\n",
       " Explanation(\"Explanation113: False, The left of Box Y is inside the right of box X.\"),\n",
       " Explanation(\"Explanation116: False, The left of Box Y is to the right of box X.\"),\n",
       " Explanation(\"Explanation117: False, The center of Box Y is to the left of box X.\"),\n",
       " Explanation(\"Explanation119: False, Box Y is too far outside Box X\"),\n",
       " Explanation(\"Explanation119: False, Box Y is too far outside Box X\"),\n",
       " Explanation(\"Explanation121: False, BOX X IS BELOW THE BOX Y\"),\n",
       " Explanation(\"Explanation123: False, Box Y is too far to the edge of Box X\"),\n",
       " Explanation(\"Explanation123: False, Box Y is too far to the edge of Box X\"),\n",
       " Explanation(\"Explanation124: False, The bottom of box Y is inside the center of box X.\"),\n",
       " Explanation(\"Explanation127: False, Box X is not inside box Y\"),\n",
       " Explanation(\"Explanation128: False, The upper right corner of Box Y is far left of Box X.\"),\n",
       " Explanation(\"Explanation13: False, Box Y is too far outside the lower right corner of Box X\"),\n",
       " Explanation(\"Explanation131: False, Box Y is far out of Box X.\"),\n",
       " Explanation(\"Explanation131: False, Box Y is far out of Box X.\"),\n",
       " Explanation(\"Explanation142: False, The center of box Y is inside of box X.\"),\n",
       " Explanation(\"Explanation145: False, Box Y is not centered in box X.\"),\n",
       " Explanation(\"Explanation145: False, Box Y is not centered in box X.\"),\n",
       " Explanation(\"Explanation148: False, BOX X IS FAR FROM BOX Y\"),\n",
       " Explanation(\"Explanation148: False, BOX X IS FAR FROM BOX Y\"),\n",
       " Explanation(\"Explanation15: False, BOX X IS FAR AWAY FROM THE BOX Y\"),\n",
       " Explanation(\"Explanation15: False, BOX X IS FAR AWAY FROM THE BOX Y\"),\n",
       " Explanation(\"Explanation150: False, Box Y is much smaller than box X and top of Box Y is above top of Box X\"),\n",
       " Explanation(\"Explanation151: False, The center of Box Y is far Right to the the center of Box X.\"),\n",
       " Explanation(\"Explanation151: False, The center of Box Y is far Right to the the center of Box X.\"),\n",
       " Explanation(\"Explanation151: False, The center of Box Y is far Right to the the center of Box X.\"),\n",
       " Explanation(\"Explanation153: False, BOX X IS BELOW THE BOX Y\"),\n",
       " Explanation(\"Explanation156: False, BOX  X  FAR AWAY FROM THE BOX Y\"),\n",
       " Explanation(\"Explanation156: False, BOX  X  FAR AWAY FROM THE BOX Y\"),\n",
       " Explanation(\"Explanation158: False, Box Y center is lower the the center of Box X.\"),\n",
       " Explanation(\"Explanation159: False, Box Y is not scaled correctly in relation to box X.\"),\n",
       " Explanation(\"Explanation159: False, Box Y is not scaled correctly in relation to box X.\"),\n",
       " Explanation(\"Explanation16: False, Box Y is to far up in box X.\"),\n",
       " Explanation(\"Explanation16: False, Box Y is to far up in box X.\"),\n",
       " Explanation(\"Explanation16: False, Box Y is to far up in box X.\"),\n",
       " Explanation(\"Explanation16: False, Box Y is to far up in box X.\"),\n",
       " Explanation(\"Explanation160: False, BOX  X  FAR AWAY FROM THE BOX Y\"),\n",
       " Explanation(\"Explanation160: False, BOX  X  FAR AWAY FROM THE BOX Y\"),\n",
       " Explanation(\"Explanation162: False, Box Y is in the center of box X.\"),\n",
       " Explanation(\"Explanation165: False, The upper corners of Box Y are to high left in relation to Box X.\"),\n",
       " Explanation(\"Explanation165: False, The upper corners of Box Y are to high left in relation to Box X.\"),\n",
       " Explanation(\"Explanation167: False, Box Y is too far from the center of Box X\"),\n",
       " Explanation(\"Explanation168: False, BOX X is far away from BOX Y\"),\n",
       " Explanation(\"Explanation168: False, BOX X is far away from BOX Y\"),\n",
       " Explanation(\"Explanation177: False, Box Y is to the far edge of Box X\"),\n",
       " Explanation(\"Explanation177: False, Box Y is to the far edge of Box X\"),\n",
       " Explanation(\"Explanation180: False, The center of box Y is below the center of box X.\"),\n",
       " Explanation(\"Explanation186: False, Box Y is in the lower area of box X, if it were being drunk it would be in the upper area.\"),\n",
       " Explanation(\"Explanation187: False, Box Y is too far outside the bottom edge of Box X\"),\n",
       " Explanation(\"Explanation189: False, BOX X IS NEAR THE BOX Y\"),\n",
       " Explanation(\"Explanation189: False, BOX X IS NEAR THE BOX Y\"),\n",
       " Explanation(\"Explanation190: False, Box Y is too far from the center of Box X\"),\n",
       " Explanation(\"Explanation191: False, box x is smaller the box y\"),\n",
       " Explanation(\"Explanation194: False, BOX X is far away from BOX Y\"),\n",
       " Explanation(\"Explanation194: False, BOX X is far away from BOX Y\"),\n",
       " Explanation(\"Explanation198: False, The right of box Y is outside of box X. The left of box Y is inside of box X.\"),\n",
       " Explanation(\"Explanation198: False, The right of box Y is outside of box X. The left of box Y is inside of box X.\"),\n",
       " Explanation(\"Explanation198: False, The right of box Y is outside of box X. The left of box Y is inside of box X.\"),\n",
       " Explanation(\"Explanation2: False, Box Y is too far from the top edge of Box X\"),\n",
       " Explanation(\"Explanation20: False, The top of box Y is above the top of box X.\"),\n",
       " Explanation(\"Explanation200: False, The upper corners of box Y are to far out of box X.\"),\n",
       " Explanation(\"Explanation203: False, Box Y is too far to the top of Box X\"),\n",
       " Explanation(\"Explanation205: False, The bottom of box Y is above the top of box X.\"),\n",
       " Explanation(\"Explanation208: False, The bottom of box Y is above the top of box X.\"),\n",
       " Explanation(\"Explanation213: False, Box Y is much smaller than Box X\"),\n",
       " Explanation(\"Explanation214: False, Box Y is far too small compared to Box X\"),\n",
       " Explanation(\"Explanation214: False, Box Y is far too small compared to Box X\"),\n",
       " Explanation(\"Explanation215: False, The center of box Y is to the left inside box X.\"),\n",
       " Explanation(\"Explanation217: False, Box Y is outside the lower middle right edge of box X with on its left edge overlapping box X.\"),\n",
       " Explanation(\"Explanation217: False, Box Y is outside the lower middle right edge of box X with on its left edge overlapping box X.\"),\n",
       " Explanation(\"Explanation217: False, Box Y is outside the lower middle right edge of box X with on its left edge overlapping box X.\"),\n",
       " Explanation(\"Explanation217: False, Box Y is outside the lower middle right edge of box X with on its left edge overlapping box X.\"),\n",
       " Explanation(\"Explanation217: False, Box Y is outside the lower middle right edge of box X with on its left edge overlapping box X.\"),\n",
       " Explanation(\"Explanation217: False, Box Y is outside the lower middle right edge of box X with on its left edge overlapping box X.\"),\n",
       " Explanation(\"Explanation217: False, Box Y is outside the lower middle right edge of box X with on its left edge overlapping box X.\"),\n",
       " Explanation(\"Explanation217: False, Box Y is outside the lower middle right edge of box X with on its left edge overlapping box X.\"),\n",
       " Explanation(\"Explanation217: False, Box Y is outside the lower middle right edge of box X with on its left edge overlapping box X.\"),\n",
       " Explanation(\"Explanation218: False, Box Y is too far from the top of Box X\"),\n",
       " Explanation(\"Explanation219: False, Box Y is too far from the top center of Box X\"),\n",
       " Explanation(\"Explanation219: False, Box Y is too far from the top center of Box X\"),\n",
       " Explanation(\"Explanation22: False, Half of Box Y is below the bottom of Box X\"),\n",
       " Explanation(\"Explanation220: False, The bottom of box Y is at the bottom of box X.\"),\n",
       " Explanation(\"Explanation221: False, Box Y is in box X.\"),\n",
       " Explanation(\"Explanation221: False, Box Y is in box X.\"),\n",
       " Explanation(\"Explanation227: False, BOX  X  FAR AWAY FROM THE BOX Y\"),\n",
       " Explanation(\"Explanation227: False, BOX  X  FAR AWAY FROM THE BOX Y\"),\n",
       " Explanation(\"Explanation229: False, Box Y is not centered in Box X.\"),\n",
       " Explanation(\"Explanation229: False, Box Y is not centered in Box X.\"),\n",
       " Explanation(\"Explanation23: False, The center of Box Y is below the center of Box X.\"),\n",
       " Explanation(\"Explanation233: False, Box Y is too far toward the edge of Box X\"),\n",
       " Explanation(\"Explanation233: False, Box Y is too far toward the edge of Box X\"),\n",
       " Explanation(\"Explanation234: False, Box Y is too far outside Box X\"),\n",
       " Explanation(\"Explanation234: False, Box Y is too far outside Box X\"),\n",
       " Explanation(\"Explanation235: False, The center of Box Y is far left to the the center of Box X.\"),\n",
       " Explanation(\"Explanation235: False, The center of Box Y is far left to the the center of Box X.\"),\n",
       " Explanation(\"Explanation235: False, The center of Box Y is far left to the the center of Box X.\"),\n",
       " Explanation(\"Explanation238: False, Box Y is too small and too far toward the left side of Box X\"),\n",
       " Explanation(\"Explanation239: False, The center of box Y is to the left of box X.\"),\n",
       " Explanation(\"Explanation240: False, The center of Box Y is below the center of Box X.\"),\n",
       " Explanation(\"Explanation242: False, The center of box Y is inside the center of box X.\"),\n",
       " Explanation(\"Explanation248: False, Box Y is too far to the bottom of Box X\"),\n",
       " Explanation(\"Explanation249: False, Top of Box Y is above Bottom of Box X and Box Y is on the right side of Box X\"),\n",
       " Explanation(\"Explanation251: False, Box Y is far to small compared to the size of Box X.\"),\n",
       " Explanation(\"Explanation251: False, Box Y is far to small compared to the size of Box X.\"),\n",
       " Explanation(\"Explanation252: False, The top box Y is above the Box X\"),\n",
       " Explanation(\"Explanation254: False, BOX X IS ABOVE THE  BOX Y\"),\n",
       " Explanation(\"Explanation258: False, The center of box Y is above the bottom of box X.\"),\n",
       " Explanation(\"Explanation261: False, Box Y scale is incorrect with the Scale of Box X..\"),\n",
       " Explanation(\"Explanation268: False, Box Y is far to low in Box X.\"),\n",
       " Explanation(\"Explanation268: False, Box Y is far to low in Box X.\"),\n",
       " Explanation(\"Explanation268: False, Box Y is far to low in Box X.\"),\n",
       " Explanation(\"Explanation268: False, Box Y is far to low in Box X.\"),\n",
       " Explanation(\"Explanation27: False, Box Y is nowhere near the center of box x.\"),\n",
       " Explanation(\"Explanation272: False, Box Y is inside box X just to the right of center.\"),\n",
       " Explanation(\"Explanation273: False, Box Y is too close to the bottom edge of Box X\"),\n",
       " Explanation(\"Explanation274: False, The left corner of Box Y is far right the center of box X.\"),\n",
       " Explanation(\"Explanation274: False, The left corner of Box Y is far right the center of box X.\"),\n",
       " Explanation(\"Explanation274: False, The left corner of Box Y is far right the center of box X.\"),\n",
       " Explanation(\"Explanation276: False, Box Y is not near enough to the center of Box X\"),\n",
       " Explanation(\"Explanation277: False, Box Y is near the lower right half of box X.\"),\n",
       " Explanation(\"Explanation277: False, Box Y is near the lower right half of box X.\"),\n",
       " Explanation(\"Explanation277: False, Box Y is near the lower right half of box X.\"),\n",
       " Explanation(\"Explanation278: False, Box Y is too far from the top of Box X\"),\n",
       " Explanation(\"Explanation280: False, BOX X IS FAR AWAY FROM THE BOX Y\"),\n",
       " Explanation(\"Explanation280: False, BOX X IS FAR AWAY FROM THE BOX Y\"),\n",
       " Explanation(\"Explanation281: False, The top of box Y is inside the bottom of box X.\"),\n",
       " Explanation(\"Explanation284: False, Box Y contains a bottle, but this bottle is not being touched by the person in Box X.\"),\n",
       " Explanation(\"Explanation284: False, Box Y contains a bottle, but this bottle is not being touched by the person in Box X.\"),\n",
       " Explanation(\"Explanation288: False, Box Y lower left corner is to far out of Box X.\"),\n",
       " Explanation(\"Explanation29: False, BOX X IS ABOVE THE  BOX Y\"),\n",
       " Explanation(\"Explanation290: False, Box Y is larger than Box X.\"),\n",
       " Explanation(\"Explanation291: False, Box X is far away from Box Y\"),\n",
       " Explanation(\"Explanation291: False, Box X is far away from Box Y\"),\n",
       " Explanation(\"Explanation293: False, BOX X IS FAR AWAY FROM THE BOX Y\"),\n",
       " Explanation(\"Explanation293: False, BOX X IS FAR AWAY FROM THE BOX Y\"),\n",
       " Explanation(\"Explanation294: False, Box Y is not inside of Box X.\"),\n",
       " Explanation(\"Explanation299: False, Box Y is much larger than Box X\"),\n",
       " Explanation(\"Explanation30: False, Box Y is too far outside Box X\"),\n",
       " Explanation(\"Explanation30: False, Box Y is too far outside Box X\"),\n",
       " Explanation(\"Explanation302: False, Box Y is too far from Box X to be drunk.\"),\n",
       " Explanation(\"Explanation302: False, Box Y is too far from Box X to be drunk.\"),\n",
       " Explanation(\"Explanation308: False, Box Y is too far toward the bottom edge of Box X\"),\n",
       " Explanation(\"Explanation309: False, The center of box Y is above the bottom of box X.\"),\n",
       " Explanation(\"Explanation31: False, The center of box Y is to far low and to the right of the center of box X.\"),\n",
       " Explanation(\"Explanation31: False, The center of box Y is to far low and to the right of the center of box X.\"),\n",
       " Explanation(\"Explanation31: False, The center of box Y is to far low and to the right of the center of box X.\"),\n",
       " Explanation(\"Explanation312: False, The center of Box X is farther left then Box Y.\"),\n",
       " Explanation(\"Explanation316: False, The top of box Y is inside the center of box X.\"),\n",
       " Explanation(\"Explanation318: False, Box Y is too far outside Box X\"),\n",
       " Explanation(\"Explanation318: False, Box Y is too far outside Box X\"),\n",
       " Explanation(\"Explanation319: False, BOX X IS ABOVE THE  BOX Y\"),\n",
       " Explanation(\"Explanation32: False, Box Y is too far from the center of Box X\"),\n",
       " Explanation(\"Explanation321: False, Box Y is too far from the center of Box X\"),\n",
       " Explanation(\"Explanation325: False, Box Y is to far in the lower left corner of Box X.\"),\n",
       " Explanation(\"Explanation325: False, Box Y is to far in the lower left corner of Box X.\"),\n",
       " Explanation(\"Explanation326: False, Box Y is larger they Box X.\"),\n",
       " Explanation(\"Explanation329: False, Box Y is too far from the top of Box X\"),\n",
       " Explanation(\"Explanation330: False, BOX X IS BELOW THE BOX Y\"),\n",
       " Explanation(\"Explanation332: False, The bottom of box Y is near the top of box X.\"),\n",
       " Explanation(\"Explanation333: False, the bottom of box y is below the box x\"),\n",
       " Explanation(\"Explanation336: False, BOX X IS FAR AWAY FROM THE BOX Y\"),\n",
       " Explanation(\"Explanation336: False, BOX X IS FAR AWAY FROM THE BOX Y\"),\n",
       " Explanation(\"Explanation339: False, The left of box Y is to the right of box X.\"),\n",
       " Explanation(\"Explanation343: False, Box Y is above box X. The bottom left of box Y is slightly inside box X.\"),\n",
       " Explanation(\"Explanation343: False, Box Y is above box X. The bottom left of box Y is slightly inside box X.\"),\n",
       " Explanation(\"Explanation343: False, Box Y is above box X. The bottom left of box Y is slightly inside box X.\"),\n",
       " Explanation(\"Explanation343: False, Box Y is above box X. The bottom left of box Y is slightly inside box X.\"),\n",
       " Explanation(\"Explanation343: False, Box Y is above box X. The bottom left of box Y is slightly inside box X.\"),\n",
       " Explanation(\"Explanation343: False, Box Y is above box X. The bottom left of box Y is slightly inside box X.\"),\n",
       " Explanation(\"Explanation35: False, Box Y scale is not correct to Box X.\"),\n",
       " Explanation(\"Explanation350: False, The left of box Y is slightly inside the right side of box X.\"),\n",
       " Explanation(\"Explanation353: False, The top of Box Y is above the bottom of Box X.\"),\n",
       " Explanation(\"Explanation356: False, Box Y is not near enough the center of Box X\"),\n",
       " Explanation(\"Explanation358: False, The top of box Y is to the bottom left of box X.\"),\n",
       " Explanation(\"Explanation359: False, Box Y is small and top right corner too far toward the bottom left corner of Box X\"),\n",
       " Explanation(\"Explanation359: False, Box Y is small and top right corner too far toward the bottom left corner of Box X\"),\n",
       " Explanation(\"Explanation362: False, The bottom of Box Y is above the top of Box X.\"),\n",
       " Explanation(\"Explanation368: False, Box Y upper left corner is far left of Box X.\"),\n",
       " Explanation(\"Explanation368: False, Box Y upper left corner is far left of Box X.\"),\n",
       " Explanation(\"Explanation373: False, Box Y center is far right of Box X center.\"),\n",
       " Explanation(\"Explanation374: False, Box Y is too far from the top center of Box X\"),\n",
       " Explanation(\"Explanation374: False, Box Y is too far from the top center of Box X\"),\n",
       " Explanation(\"Explanation376: False, The right of Box Y is outside the left of Box X.\"),\n",
       " Explanation(\"Explanation377: False, The side of Box Y is below  the center of Box X.\"),\n",
       " Explanation(\"Explanation38: False, Box X is many times larger than Box Y.\"),\n",
       " Explanation(\"Explanation381: False, The center of Box Y is far left from the center of Box X.\"),\n",
       " Explanation(\"Explanation381: False, The center of Box Y is far left from the center of Box X.\"),\n",
       " Explanation(\"Explanation381: False, The center of Box Y is far left from the center of Box X.\"),\n",
       " Explanation(\"Explanation382: False, Box Y is far too small compared to Box X\"),\n",
       " Explanation(\"Explanation382: False, Box Y is far too small compared to Box X\"),\n",
       " Explanation(\"Explanation386: False, The right of box X is insight of box Y. The left of box X is outside of box Y.\"),\n",
       " Explanation(\"Explanation386: False, The right of box X is insight of box Y. The left of box X is outside of box Y.\"),\n",
       " Explanation(\"Explanation386: False, The right of box X is insight of box Y. The left of box X is outside of box Y.\"),\n",
       " Explanation(\"Explanation387: False, box y is to the left of box x\"),\n",
       " Explanation(\"Explanation39: False, The center of Box Y is to high in the upper right corner of Box X.\"),\n",
       " Explanation(\"Explanation392: False, Box Y is inside box X  at the center almost at the top edge.\"),\n",
       " Explanation(\"Explanation397: False, The right of box X is to the right of box Y.\"),\n",
       " Explanation(\"Explanation4: False, Box Y is inside of box X at the bottom.\"),\n",
       " Explanation(\"Explanation41: False, The upper corner of box Y is to far to the right of Box X.\"),\n",
       " Explanation(\"Explanation44: False, Box Y is much larger than Box X and encompasses Box X entirely.\"),\n",
       " Explanation(\"Explanation44: False, Box Y is much larger than Box X and encompasses Box X entirely.\"),\n",
       " Explanation(\"Explanation44: False, Box Y is much larger than Box X and encompasses Box X entirely.\"),\n",
       " Explanation(\"Explanation47: False, The bottom of box Y is above the bottom of box X.\"),\n",
       " Explanation(\"Explanation52: False, Box y is above the center of box x.\"),\n",
       " Explanation(\"Explanation53: False, Box Y is inside the top center of box X.\"),\n",
       " Explanation(\"Explanation60: False, The center of box Y is in the center of box X.\"),\n",
       " Explanation(\"Explanation61: False, Box Y is too small and too far toward the left side of Box X\"),\n",
       " Explanation(\"Explanation63: False, Box Y is too far outside Box X\"),\n",
       " Explanation(\"Explanation63: False, Box Y is too far outside Box X\"),\n",
       " Explanation(\"Explanation68: False, Box Y center is lower than the center of box Y.\"),\n",
       " Explanation(\"Explanation7: False, Box Y is in box X to the top right.\"),\n",
       " Explanation(\"Explanation7: False, Box Y is in box X to the top right.\"),\n",
       " Explanation(\"Explanation71: False, BOX X IS FAR AWAY FROM THE BOX Y\"),\n",
       " Explanation(\"Explanation71: False, BOX X IS FAR AWAY FROM THE BOX Y\"),\n",
       " Explanation(\"Explanation74: False, Box Y is far left of the center of Box X.\"),\n",
       " Explanation(\"Explanation74: False, Box Y is far left of the center of Box X.\"),\n",
       " Explanation(\"Explanation74: False, Box Y is far left of the center of Box X.\"),\n",
       " Explanation(\"Explanation77: False, Box Y is inside box X.\"),\n",
       " Explanation(\"Explanation84: False, Box Y is near the top of box x and not the center.\"),\n",
       " Explanation(\"Explanation88: False, The center of box Y is in the center of box X.\"),\n",
       " Explanation(\"Explanation90: False, Box Y is too far from the right side of Box X\"),\n",
       " Explanation(\"Explanation94: False, box y is not in box x\"),\n",
       " Explanation(\"Explanation94: False, box y is not in box x\"),\n",
       " Explanation(\"Explanation96: False, Box Y is almost entirely outside the lower left corner of Box X\"),\n",
       " Explanation(\"Explanation98: False, The top right corner of Box Y is touching the bottom left corner of Box X.\"),\n",
       " Explanation(\"Explanation99: False, Box Y is too far toward the bottom of Box X\")]"
      ]
     },
     "execution_count": 78,
     "metadata": {},
     "output_type": "execute_result"
    }
   ],
   "source": [
    "lfs = babbler.generate_lfs()\n",
    "babbler.get_explanations()"
   ]
  },
  {
   "cell_type": "code",
   "execution_count": 79,
   "metadata": {
    "collapsed": false,
    "deletable": true,
    "editable": true
   },
   "outputs": [
    {
     "name": "stdout",
     "output_type": "stream",
     "text": [
      "Filtered to 84 LFs with duplicate semantics filter (149 filtered).\n"
     ]
    }
   ],
   "source": [
    "babbler.filter_duplicate_semantics()"
   ]
  },
  {
   "cell_type": "code",
   "execution_count": null,
   "metadata": {
    "collapsed": true,
    "deletable": true,
    "editable": true
   },
   "outputs": [],
   "source": []
  }
 ],
 "metadata": {
  "kernelspec": {
   "display_name": "Python 2",
   "language": "python",
   "name": "python2"
  },
  "language_info": {
   "codemirror_mode": {
    "name": "ipython",
    "version": 2
   },
   "file_extension": ".py",
   "mimetype": "text/x-python",
   "name": "python",
   "nbconvert_exporter": "python",
   "pygments_lexer": "ipython2",
   "version": "2.7.6"
  }
 },
 "nbformat": 4,
 "nbformat_minor": 2
}
