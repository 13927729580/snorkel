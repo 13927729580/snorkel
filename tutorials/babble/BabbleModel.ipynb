{
 "cells": [
  {
   "cell_type": "code",
   "execution_count": 1,
   "metadata": {
    "collapsed": true,
    "deletable": true,
    "editable": true
   },
   "outputs": [],
   "source": [
    "%load_ext autoreload\n",
    "%autoreload 2"
   ]
  },
  {
   "cell_type": "code",
   "execution_count": 2,
   "metadata": {
    "collapsed": true,
    "deletable": true,
    "editable": true
   },
   "outputs": [],
   "source": [
    "import os\n",
    "\n",
    "DOMAIN = 'drink'\n",
    "DB = 'postgres'\n",
    "\n",
    "if DB == 'postgres':\n",
    "    db_dict = {\n",
    "        'test':   'postgres:///babble_model_unittest',\n",
    "        'spouse': 'postgres:///babble_model_spouse',\n",
    "        'bike':   'postgres:///babble_model_bike',\n",
    "        'drink':   'postgres:///babble_model_drink',\n",
    "        'cdr':    'postgres:///babble_model_cdr',\n",
    "    }\n",
    "    os.environ['SNORKELDB'] = db_dict[DOMAIN]\n",
    "elif DB == 'sqlite':\n",
    "    os.remove('snorkel.db')\n",
    "    import shutil\n",
    "    shutil.copy2('bike/snorkel.db', './')"
   ]
  },
  {
   "cell_type": "code",
   "execution_count": 3,
   "metadata": {
    "collapsed": false,
    "deletable": true,
    "editable": true,
    "scrolled": true
   },
   "outputs": [],
   "source": [
    "from snorkel import SnorkelSession\n",
    "session = SnorkelSession()"
   ]
  },
  {
   "cell_type": "code",
   "execution_count": 4,
   "metadata": {
    "collapsed": false,
    "deletable": true,
    "editable": true,
    "scrolled": true
   },
   "outputs": [],
   "source": [
    "from snorkel.contrib.babble.models import configuration\n",
    "\n",
    "config = configuration\n",
    "config['domain'] = DOMAIN\n",
    "config['splits'] = [0,1]\n",
    "config['babbler_split'] = 0\n",
    "config['max_docs'] = None\n",
    "config['parallelism'] = 1\n",
    "config['traditional'] = False\n",
    "config['majority_vote'] = False\n",
    "config['verbose'] = True\n",
    "config['display_marginals'] = True\n",
    "config['display_accuracies'] = True\n",
    "config['display_learned_accuracies'] = True"
   ]
  },
  {
   "cell_type": "code",
   "execution_count": 5,
   "metadata": {
    "collapsed": false,
    "deletable": true,
    "editable": true,
    "scrolled": true
   },
   "outputs": [
    {
     "name": "stdout",
     "output_type": "stream",
     "text": [
      "Reading train CSV!\n",
      "Num HITs unique: 40\n",
      "Num HITs total: 120\n",
      "Unanimous: 111\n",
      "Majority: 72\n",
      "Bad: 13\n",
      "Total explanations: 403\n"
     ]
    }
   ],
   "source": [
    "from snorkel.models import candidate_subclass\n",
    "from tutorials.babble import MTurkHelper\n",
    "from snorkel.contrib.babble import ExplanationIO\n",
    "\n",
    "if DOMAIN == 'spouse':\n",
    "    from tutorials.babble.spouse import SpouseModel\n",
    "    Spouse = candidate_subclass('Spouse', ['person1', 'person2'])\n",
    "    candidate_class = Spouse\n",
    "    \n",
    "    expio = ExplanationIO()\n",
    "    fpath = (os.environ['SNORKELHOME'] + \n",
    "        '/tutorials/babble/spouse/data/mturk_explanations_all.tsv')\n",
    "    explanations = expio.read(fpath)\n",
    "    \n",
    "    sm = SpouseModel(session, Spouse, config)\n",
    "elif DOMAIN == 'bike':\n",
    "    from tutorials.babble.bike import BikeModel\n",
    "    Biker = candidate_subclass('Biker', ['person', 'bike'])\n",
    "    candidate_class = Biker\n",
    "    \n",
    "    helper = MTurkHelper()\n",
    "    output_csv_path = (os.environ['SNORKELHOME'] + \n",
    "                       '/tutorials/babble/bike/data/VisualGenome_all_out.csv')\n",
    "    explanations = helper.postprocess_visual(output_csv_path, set_name='train', verbose=False)\n",
    "    \n",
    "    sm = BikeModel(session, Biker, config)\n",
    "elif DOMAIN == 'drink':\n",
    "    from tutorials.babble.drink import DrinkModel\n",
    "    Drinker = candidate_subclass('Drinker', ['person', 'cup'])\n",
    "    candidate_class = Drinker\n",
    "    \n",
    "    helper = MTurkHelper()\n",
    "    output_csv_path = (os.environ['SNORKELHOME'] + \n",
    "                       '/tutorials/babble/drink/data/Drink_VisualGenome_out.csv')\n",
    "    explanations = helper.postprocess_visual(output_csv_path, set_name='train', verbose=False)\n",
    "    \n",
    "    sm = DrinkModel(session, Drinker, config)   \n",
    "else:\n",
    "    raise Exception('Invalid domain: {}'.format(DOMAIN))\n",
    "user_lists = {}\n",
    "print(\"Total explanations: {}\".format(len(explanations)))"
   ]
  },
  {
   "cell_type": "code",
   "execution_count": 6,
   "metadata": {
    "collapsed": false,
    "deletable": true,
    "editable": true,
    "scrolled": true
   },
   "outputs": [
    {
     "name": "stdout",
     "output_type": "stream",
     "text": [
      "Clearing existing...\n",
      "Running UDF...\n",
      "Running UDF...\n",
      "CPU times: user 10.4 s, sys: 896 ms, total: 11.3 s\n",
      "Wall time: 25.6 s\n"
     ]
    }
   ],
   "source": [
    "anns_folder = os.environ['SNORKELHOME'] + '/tutorials/babble/drink/data/'\n",
    "%time sm.parse(anns_folder)"
   ]
  },
  {
   "cell_type": "code",
   "execution_count": 7,
   "metadata": {
    "collapsed": false,
    "deletable": true,
    "editable": true,
    "scrolled": true
   },
   "outputs": [
    {
     "name": "stdout",
     "output_type": "stream",
     "text": [
      "Extraction was performed during parse stage.\n",
      "Candidates [Split 0]: 2524\n",
      "Candidates [Split 1]: 495\n",
      "CPU times: user 12 ms, sys: 32 ms, total: 44 ms\n",
      "Wall time: 32.1 ms\n"
     ]
    }
   ],
   "source": [
    "%time sm.extract()"
   ]
  },
  {
   "cell_type": "code",
   "execution_count": 8,
   "metadata": {
    "collapsed": false,
    "deletable": true,
    "editable": true,
    "scrolled": true
   },
   "outputs": [
    {
     "name": "stdout",
     "output_type": "stream",
     "text": [
      "Reading val CSV!\n",
      "Num HITs unique: 124\n",
      "Num HITs total: 372\n",
      "Unanimous: 66\n",
      "Majority: 464\n",
      "Bad: 31\n",
      "Reading train CSV!\n",
      "Num HITs unique: 631\n",
      "Num HITs total: 1262\n",
      "Unanimous: 2264\n",
      "Majority: 352\n",
      "Bad: 84\n",
      "AnnotatorLabels created: 464\n",
      "AnnotatorLabels created: 2440\n",
      "CPU times: user 50 s, sys: 1.42 s, total: 51.5 s\n",
      "Wall time: 1min 2s\n"
     ]
    }
   ],
   "source": [
    "%time sm.load_gold(anns_folder)"
   ]
  },
  {
   "cell_type": "code",
   "execution_count": 9,
   "metadata": {
    "collapsed": false,
    "deletable": true,
    "editable": true
   },
   "outputs": [
    {
     "data": {
      "text/plain": [
       "<2524x1 sparse matrix of type '<type 'numpy.int64'>'\n",
       "\twith 2440 stored elements in Compressed Sparse Row format>"
      ]
     },
     "execution_count": 9,
     "metadata": {},
     "output_type": "execute_result"
    }
   ],
   "source": [
    "from snorkel.annotations import load_gold_labels\n",
    "L_gold_train = load_gold_labels(session, annotator_name='gold', split=0)\n",
    "L_gold_train"
   ]
  },
  {
   "cell_type": "code",
   "execution_count": 11,
   "metadata": {
    "collapsed": false,
    "deletable": true,
    "editable": true
   },
   "outputs": [
    {
     "data": {
      "text/plain": [
       "<495x1 sparse matrix of type '<type 'numpy.int64'>'\n",
       "\twith 464 stored elements in Compressed Sparse Row format>"
      ]
     },
     "execution_count": 11,
     "metadata": {},
     "output_type": "execute_result"
    }
   ],
   "source": [
    "from snorkel.annotations import load_gold_labels\n",
    "L_gold_dev = load_gold_labels(session, annotator_name='gold', split=1)\n",
    "L_gold_dev"
   ]
  },
  {
   "cell_type": "code",
   "execution_count": 13,
   "metadata": {
    "collapsed": false,
    "deletable": true,
    "editable": true
   },
   "outputs": [
    {
     "name": "stdout",
     "output_type": "stream",
     "text": [
      "2524\n"
     ]
    }
   ],
   "source": [
    "candidates = session.query(candidate_class).filter(\n",
    "    candidate_class.split == config['babbler_split']).all()\n",
    "# candidates = session.query(candidate_class).filter(candidate_class.split == 0).all()\n",
    "print(len(candidates))"
   ]
  },
  {
   "cell_type": "code",
   "execution_count": 14,
   "metadata": {
    "collapsed": false,
    "deletable": true,
    "editable": true
   },
   "outputs": [
    {
     "name": "stdout",
     "output_type": "stream",
     "text": [
      "Building list of target candidate ids...\n",
      "Collected 147 unique target candidate ids from 403 explanations.\n",
      "Gathering desired candidates...\n",
      "Found 147/147 desired candidates\n",
      "Linking explanations to candidates...\n",
      "Linked 403/403 explanations\n"
     ]
    }
   ],
   "source": [
    "from snorkel.contrib.babble import link_explanation_candidates\n",
    "\n",
    "explanations = link_explanation_candidates(explanations, candidates)"
   ]
  },
  {
   "cell_type": "code",
   "execution_count": 15,
   "metadata": {
    "collapsed": false,
    "deletable": true,
    "editable": true,
    "scrolled": false
   },
   "outputs": [
    {
     "name": "stdout",
     "output_type": "stream",
     "text": [
      "Calling babbler...\n",
      "Created grammar with 430 rules\n",
      "235 parses created from 155 out of 403 explanation(s)\n",
      "Parsed 235 LFs from 403 explanations.\n",
      "Filtered to 86 LFs with duplicate semantics filter (149 filtered).\n",
      "Filtered to 43 LFs with consistency filter (43 filtered).\n",
      "Clearing existing...\n",
      "Running UDF...\n",
      "[========================================] 100%\n",
      "\n",
      "Filtered to 35 LFs with uniform signatures filter (8 filtered).\n",
      "Filtered to 30 LFs with duplicate signatures filter (5 filtered).\n",
      "CPU times: user 1min 13s, sys: 3.3 s, total: 1min 16s\n",
      "Wall time: 2min 8s\n"
     ]
    }
   ],
   "source": [
    "%time sm.babble(explanations, user_lists=user_lists, config=config)"
   ]
  },
  {
   "cell_type": "code",
   "execution_count": 16,
   "metadata": {
    "collapsed": false,
    "deletable": true,
    "editable": true,
    "scrolled": true
   },
   "outputs": [
    {
     "data": {
      "text/plain": [
       "[Explanation(\"Explanation12: False, Box Y is far right of center of Box X.\"),\n",
       " Explanation(\"Explanation122: False, BOX X IS BELOW THE BOX Y\"),\n",
       " Explanation(\"Explanation128: False, Box X is not inside box Y\"),\n",
       " Explanation(\"Explanation151: False, Box Y is much smaller than box X and top of Box Y is above top of Box X\"),\n",
       " Explanation(\"Explanation16: False, BOX X IS FAR AWAY FROM THE BOX Y\")]"
      ]
     },
     "execution_count": 16,
     "metadata": {},
     "output_type": "execute_result"
    }
   ],
   "source": [
    "sm.babbler.get_explanations()[:5]"
   ]
  },
  {
   "cell_type": "code",
   "execution_count": 17,
   "metadata": {
    "collapsed": false,
    "deletable": true,
    "editable": true
   },
   "outputs": [
    {
     "data": {
      "text/plain": [
       "['return -1 if call(right(center(Box Y)), Box X) else 0',\n",
       " 'return -1 if call(below(Box X), Box Y) else 0',\n",
       " 'return -1 if not (call(within(Box X), Box Y)) else 0',\n",
       " \"return -1 if (call(smaller(Box Y), Box X) and call(above(edge(Box Y, 'top')), edge(Box X, 'top'))) else 0\",\n",
       " 'return -1 if call(far(Box X), Box Y) else 0']"
      ]
     },
     "execution_count": 17,
     "metadata": {},
     "output_type": "execute_result"
    }
   ],
   "source": [
    "sm.babbler.get_parses()[:5]"
   ]
  },
  {
   "cell_type": "code",
   "execution_count": 18,
   "metadata": {
    "collapsed": false,
    "deletable": true,
    "editable": true,
    "scrolled": false
   },
   "outputs": [
    {
     "name": "stdout",
     "output_type": "stream",
     "text": [
      "Clearing existing...\n",
      "Running UDF...\n",
      "[========================================] 100%\n",
      "\n",
      "\n",
      "Labeled split 0: (2524,30) sparse (nnz = 39998)\n",
      "Clearing existing...\n",
      "Running UDF...\n",
      "[========================================] 100%\n",
      "\n",
      "\n",
      "Labeled split 1: (495,30) sparse (nnz = 7858)\n",
      "CPU times: user 1min 7s, sys: 3.06 s, total: 1min 10s\n",
      "Wall time: 1min 48s\n"
     ]
    },
    {
     "data": {
      "text/html": [
       "<div>\n",
       "<table border=\"1\" class=\"dataframe\">\n",
       "  <thead>\n",
       "    <tr style=\"text-align: right;\">\n",
       "      <th></th>\n",
       "      <th>j</th>\n",
       "      <th>Coverage</th>\n",
       "      <th>Overlaps</th>\n",
       "      <th>Conflicts</th>\n",
       "      <th>TP</th>\n",
       "      <th>FP</th>\n",
       "      <th>FN</th>\n",
       "      <th>TN</th>\n",
       "      <th>Empirical Acc.</th>\n",
       "    </tr>\n",
       "  </thead>\n",
       "  <tbody>\n",
       "    <tr>\n",
       "      <th>Explanation5_0</th>\n",
       "      <td>0</td>\n",
       "      <td>0.393939</td>\n",
       "      <td>0.393939</td>\n",
       "      <td>0.0</td>\n",
       "      <td>0</td>\n",
       "      <td>0</td>\n",
       "      <td>6</td>\n",
       "      <td>178</td>\n",
       "      <td>0.967391</td>\n",
       "    </tr>\n",
       "    <tr>\n",
       "      <th>Explanation12_2</th>\n",
       "      <td>1</td>\n",
       "      <td>0.573737</td>\n",
       "      <td>0.573737</td>\n",
       "      <td>0.0</td>\n",
       "      <td>0</td>\n",
       "      <td>0</td>\n",
       "      <td>5</td>\n",
       "      <td>260</td>\n",
       "      <td>0.981132</td>\n",
       "    </tr>\n",
       "    <tr>\n",
       "      <th>Explanation16_0</th>\n",
       "      <td>2</td>\n",
       "      <td>0.511111</td>\n",
       "      <td>0.511111</td>\n",
       "      <td>0.0</td>\n",
       "      <td>0</td>\n",
       "      <td>0</td>\n",
       "      <td>1</td>\n",
       "      <td>245</td>\n",
       "      <td>0.995935</td>\n",
       "    </tr>\n",
       "    <tr>\n",
       "      <th>Explanation21_0</th>\n",
       "      <td>3</td>\n",
       "      <td>0.101010</td>\n",
       "      <td>0.101010</td>\n",
       "      <td>0.0</td>\n",
       "      <td>0</td>\n",
       "      <td>0</td>\n",
       "      <td>0</td>\n",
       "      <td>47</td>\n",
       "      <td>1.000000</td>\n",
       "    </tr>\n",
       "    <tr>\n",
       "      <th>Explanation23_0</th>\n",
       "      <td>4</td>\n",
       "      <td>0.365657</td>\n",
       "      <td>0.365657</td>\n",
       "      <td>0.0</td>\n",
       "      <td>0</td>\n",
       "      <td>0</td>\n",
       "      <td>0</td>\n",
       "      <td>168</td>\n",
       "      <td>1.000000</td>\n",
       "    </tr>\n",
       "    <tr>\n",
       "      <th>Explanation24_0</th>\n",
       "      <td>5</td>\n",
       "      <td>0.622222</td>\n",
       "      <td>0.622222</td>\n",
       "      <td>0.0</td>\n",
       "      <td>0</td>\n",
       "      <td>0</td>\n",
       "      <td>1</td>\n",
       "      <td>287</td>\n",
       "      <td>0.996528</td>\n",
       "    </tr>\n",
       "    <tr>\n",
       "      <th>Explanation30_0</th>\n",
       "      <td>6</td>\n",
       "      <td>0.903030</td>\n",
       "      <td>0.903030</td>\n",
       "      <td>0.0</td>\n",
       "      <td>0</td>\n",
       "      <td>0</td>\n",
       "      <td>6</td>\n",
       "      <td>413</td>\n",
       "      <td>0.985680</td>\n",
       "    </tr>\n",
       "    <tr>\n",
       "      <th>Explanation32_2</th>\n",
       "      <td>7</td>\n",
       "      <td>0.488889</td>\n",
       "      <td>0.488889</td>\n",
       "      <td>0.0</td>\n",
       "      <td>0</td>\n",
       "      <td>0</td>\n",
       "      <td>4</td>\n",
       "      <td>222</td>\n",
       "      <td>0.982301</td>\n",
       "    </tr>\n",
       "    <tr>\n",
       "      <th>Explanation39_0</th>\n",
       "      <td>8</td>\n",
       "      <td>0.947475</td>\n",
       "      <td>0.947475</td>\n",
       "      <td>0.0</td>\n",
       "      <td>0</td>\n",
       "      <td>0</td>\n",
       "      <td>6</td>\n",
       "      <td>432</td>\n",
       "      <td>0.986301</td>\n",
       "    </tr>\n",
       "    <tr>\n",
       "      <th>Explanation40_0</th>\n",
       "      <td>9</td>\n",
       "      <td>0.088889</td>\n",
       "      <td>0.088889</td>\n",
       "      <td>0.0</td>\n",
       "      <td>0</td>\n",
       "      <td>0</td>\n",
       "      <td>1</td>\n",
       "      <td>38</td>\n",
       "      <td>0.974359</td>\n",
       "    </tr>\n",
       "    <tr>\n",
       "      <th>Explanation45_0</th>\n",
       "      <td>10</td>\n",
       "      <td>0.052525</td>\n",
       "      <td>0.052525</td>\n",
       "      <td>0.0</td>\n",
       "      <td>0</td>\n",
       "      <td>0</td>\n",
       "      <td>0</td>\n",
       "      <td>26</td>\n",
       "      <td>1.000000</td>\n",
       "    </tr>\n",
       "    <tr>\n",
       "      <th>Explanation48_0</th>\n",
       "      <td>11</td>\n",
       "      <td>0.634343</td>\n",
       "      <td>0.634343</td>\n",
       "      <td>0.0</td>\n",
       "      <td>0</td>\n",
       "      <td>0</td>\n",
       "      <td>6</td>\n",
       "      <td>290</td>\n",
       "      <td>0.979730</td>\n",
       "    </tr>\n",
       "    <tr>\n",
       "      <th>Explanation53_0</th>\n",
       "      <td>12</td>\n",
       "      <td>0.476768</td>\n",
       "      <td>0.476768</td>\n",
       "      <td>0.0</td>\n",
       "      <td>0</td>\n",
       "      <td>0</td>\n",
       "      <td>5</td>\n",
       "      <td>216</td>\n",
       "      <td>0.977376</td>\n",
       "    </tr>\n",
       "    <tr>\n",
       "      <th>Explanation75_2</th>\n",
       "      <td>13</td>\n",
       "      <td>0.606061</td>\n",
       "      <td>0.606061</td>\n",
       "      <td>0.0</td>\n",
       "      <td>0</td>\n",
       "      <td>0</td>\n",
       "      <td>4</td>\n",
       "      <td>279</td>\n",
       "      <td>0.985866</td>\n",
       "    </tr>\n",
       "    <tr>\n",
       "      <th>Explanation95_0</th>\n",
       "      <td>14</td>\n",
       "      <td>0.804040</td>\n",
       "      <td>0.804040</td>\n",
       "      <td>0.0</td>\n",
       "      <td>0</td>\n",
       "      <td>0</td>\n",
       "      <td>3</td>\n",
       "      <td>377</td>\n",
       "      <td>0.992105</td>\n",
       "    </tr>\n",
       "    <tr>\n",
       "      <th>Explanation122_0</th>\n",
       "      <td>15</td>\n",
       "      <td>0.624242</td>\n",
       "      <td>0.624242</td>\n",
       "      <td>0.0</td>\n",
       "      <td>0</td>\n",
       "      <td>0</td>\n",
       "      <td>6</td>\n",
       "      <td>287</td>\n",
       "      <td>0.979522</td>\n",
       "    </tr>\n",
       "    <tr>\n",
       "      <th>Explanation128_0</th>\n",
       "      <td>16</td>\n",
       "      <td>0.995960</td>\n",
       "      <td>0.995960</td>\n",
       "      <td>0.0</td>\n",
       "      <td>0</td>\n",
       "      <td>0</td>\n",
       "      <td>6</td>\n",
       "      <td>456</td>\n",
       "      <td>0.987013</td>\n",
       "    </tr>\n",
       "    <tr>\n",
       "      <th>Explanation151_0</th>\n",
       "      <td>17</td>\n",
       "      <td>0.076768</td>\n",
       "      <td>0.076768</td>\n",
       "      <td>0.0</td>\n",
       "      <td>0</td>\n",
       "      <td>0</td>\n",
       "      <td>0</td>\n",
       "      <td>35</td>\n",
       "      <td>1.000000</td>\n",
       "    </tr>\n",
       "    <tr>\n",
       "      <th>Explanation160_0</th>\n",
       "      <td>18</td>\n",
       "      <td>0.707071</td>\n",
       "      <td>0.707071</td>\n",
       "      <td>0.0</td>\n",
       "      <td>0</td>\n",
       "      <td>0</td>\n",
       "      <td>3</td>\n",
       "      <td>325</td>\n",
       "      <td>0.990854</td>\n",
       "    </tr>\n",
       "    <tr>\n",
       "      <th>Explanation188_0</th>\n",
       "      <td>19</td>\n",
       "      <td>0.426263</td>\n",
       "      <td>0.426263</td>\n",
       "      <td>0.0</td>\n",
       "      <td>0</td>\n",
       "      <td>0</td>\n",
       "      <td>2</td>\n",
       "      <td>191</td>\n",
       "      <td>0.989637</td>\n",
       "    </tr>\n",
       "    <tr>\n",
       "      <th>Explanation219_3</th>\n",
       "      <td>20</td>\n",
       "      <td>0.993939</td>\n",
       "      <td>0.993939</td>\n",
       "      <td>0.0</td>\n",
       "      <td>0</td>\n",
       "      <td>0</td>\n",
       "      <td>6</td>\n",
       "      <td>455</td>\n",
       "      <td>0.986985</td>\n",
       "    </tr>\n",
       "    <tr>\n",
       "      <th>Explanation222_0</th>\n",
       "      <td>21</td>\n",
       "      <td>0.418182</td>\n",
       "      <td>0.418182</td>\n",
       "      <td>0.0</td>\n",
       "      <td>0</td>\n",
       "      <td>0</td>\n",
       "      <td>3</td>\n",
       "      <td>188</td>\n",
       "      <td>0.984293</td>\n",
       "    </tr>\n",
       "    <tr>\n",
       "      <th>Explanation237_2</th>\n",
       "      <td>22</td>\n",
       "      <td>0.511111</td>\n",
       "      <td>0.511111</td>\n",
       "      <td>0.0</td>\n",
       "      <td>0</td>\n",
       "      <td>0</td>\n",
       "      <td>2</td>\n",
       "      <td>236</td>\n",
       "      <td>0.991597</td>\n",
       "    </tr>\n",
       "    <tr>\n",
       "      <th>Explanation260_0</th>\n",
       "      <td>23</td>\n",
       "      <td>0.810101</td>\n",
       "      <td>0.810101</td>\n",
       "      <td>0.0</td>\n",
       "      <td>0</td>\n",
       "      <td>0</td>\n",
       "      <td>6</td>\n",
       "      <td>368</td>\n",
       "      <td>0.983957</td>\n",
       "    </tr>\n",
       "    <tr>\n",
       "      <th>Explanation276_2</th>\n",
       "      <td>24</td>\n",
       "      <td>0.393939</td>\n",
       "      <td>0.393939</td>\n",
       "      <td>0.0</td>\n",
       "      <td>0</td>\n",
       "      <td>0</td>\n",
       "      <td>2</td>\n",
       "      <td>179</td>\n",
       "      <td>0.988950</td>\n",
       "    </tr>\n",
       "    <tr>\n",
       "      <th>Explanation279_1</th>\n",
       "      <td>25</td>\n",
       "      <td>0.416162</td>\n",
       "      <td>0.416162</td>\n",
       "      <td>0.0</td>\n",
       "      <td>0</td>\n",
       "      <td>0</td>\n",
       "      <td>2</td>\n",
       "      <td>188</td>\n",
       "      <td>0.989474</td>\n",
       "    </tr>\n",
       "    <tr>\n",
       "      <th>Explanation296_0</th>\n",
       "      <td>26</td>\n",
       "      <td>0.606061</td>\n",
       "      <td>0.606061</td>\n",
       "      <td>0.0</td>\n",
       "      <td>0</td>\n",
       "      <td>0</td>\n",
       "      <td>0</td>\n",
       "      <td>280</td>\n",
       "      <td>1.000000</td>\n",
       "    </tr>\n",
       "    <tr>\n",
       "      <th>Explanation314_0</th>\n",
       "      <td>27</td>\n",
       "      <td>0.397980</td>\n",
       "      <td>0.397980</td>\n",
       "      <td>0.0</td>\n",
       "      <td>0</td>\n",
       "      <td>0</td>\n",
       "      <td>2</td>\n",
       "      <td>181</td>\n",
       "      <td>0.989071</td>\n",
       "    </tr>\n",
       "    <tr>\n",
       "      <th>Explanation337_0</th>\n",
       "      <td>28</td>\n",
       "      <td>0.127273</td>\n",
       "      <td>0.127273</td>\n",
       "      <td>0.0</td>\n",
       "      <td>0</td>\n",
       "      <td>0</td>\n",
       "      <td>1</td>\n",
       "      <td>56</td>\n",
       "      <td>0.982456</td>\n",
       "    </tr>\n",
       "    <tr>\n",
       "      <th>Explanation402_0</th>\n",
       "      <td>29</td>\n",
       "      <td>0.800000</td>\n",
       "      <td>0.800000</td>\n",
       "      <td>0.0</td>\n",
       "      <td>0</td>\n",
       "      <td>0</td>\n",
       "      <td>6</td>\n",
       "      <td>365</td>\n",
       "      <td>0.983827</td>\n",
       "    </tr>\n",
       "  </tbody>\n",
       "</table>\n",
       "</div>"
      ],
      "text/plain": [
       "                   j  Coverage  Overlaps  Conflicts  TP  FP  FN   TN  \\\n",
       "Explanation5_0     0  0.393939  0.393939        0.0   0   0   6  178   \n",
       "Explanation12_2    1  0.573737  0.573737        0.0   0   0   5  260   \n",
       "Explanation16_0    2  0.511111  0.511111        0.0   0   0   1  245   \n",
       "Explanation21_0    3  0.101010  0.101010        0.0   0   0   0   47   \n",
       "Explanation23_0    4  0.365657  0.365657        0.0   0   0   0  168   \n",
       "Explanation24_0    5  0.622222  0.622222        0.0   0   0   1  287   \n",
       "Explanation30_0    6  0.903030  0.903030        0.0   0   0   6  413   \n",
       "Explanation32_2    7  0.488889  0.488889        0.0   0   0   4  222   \n",
       "Explanation39_0    8  0.947475  0.947475        0.0   0   0   6  432   \n",
       "Explanation40_0    9  0.088889  0.088889        0.0   0   0   1   38   \n",
       "Explanation45_0   10  0.052525  0.052525        0.0   0   0   0   26   \n",
       "Explanation48_0   11  0.634343  0.634343        0.0   0   0   6  290   \n",
       "Explanation53_0   12  0.476768  0.476768        0.0   0   0   5  216   \n",
       "Explanation75_2   13  0.606061  0.606061        0.0   0   0   4  279   \n",
       "Explanation95_0   14  0.804040  0.804040        0.0   0   0   3  377   \n",
       "Explanation122_0  15  0.624242  0.624242        0.0   0   0   6  287   \n",
       "Explanation128_0  16  0.995960  0.995960        0.0   0   0   6  456   \n",
       "Explanation151_0  17  0.076768  0.076768        0.0   0   0   0   35   \n",
       "Explanation160_0  18  0.707071  0.707071        0.0   0   0   3  325   \n",
       "Explanation188_0  19  0.426263  0.426263        0.0   0   0   2  191   \n",
       "Explanation219_3  20  0.993939  0.993939        0.0   0   0   6  455   \n",
       "Explanation222_0  21  0.418182  0.418182        0.0   0   0   3  188   \n",
       "Explanation237_2  22  0.511111  0.511111        0.0   0   0   2  236   \n",
       "Explanation260_0  23  0.810101  0.810101        0.0   0   0   6  368   \n",
       "Explanation276_2  24  0.393939  0.393939        0.0   0   0   2  179   \n",
       "Explanation279_1  25  0.416162  0.416162        0.0   0   0   2  188   \n",
       "Explanation296_0  26  0.606061  0.606061        0.0   0   0   0  280   \n",
       "Explanation314_0  27  0.397980  0.397980        0.0   0   0   2  181   \n",
       "Explanation337_0  28  0.127273  0.127273        0.0   0   0   1   56   \n",
       "Explanation402_0  29  0.800000  0.800000        0.0   0   0   6  365   \n",
       "\n",
       "                  Empirical Acc.  \n",
       "Explanation5_0          0.967391  \n",
       "Explanation12_2         0.981132  \n",
       "Explanation16_0         0.995935  \n",
       "Explanation21_0         1.000000  \n",
       "Explanation23_0         1.000000  \n",
       "Explanation24_0         0.996528  \n",
       "Explanation30_0         0.985680  \n",
       "Explanation32_2         0.982301  \n",
       "Explanation39_0         0.986301  \n",
       "Explanation40_0         0.974359  \n",
       "Explanation45_0         1.000000  \n",
       "Explanation48_0         0.979730  \n",
       "Explanation53_0         0.977376  \n",
       "Explanation75_2         0.985866  \n",
       "Explanation95_0         0.992105  \n",
       "Explanation122_0        0.979522  \n",
       "Explanation128_0        0.987013  \n",
       "Explanation151_0        1.000000  \n",
       "Explanation160_0        0.990854  \n",
       "Explanation188_0        0.989637  \n",
       "Explanation219_3        0.986985  \n",
       "Explanation222_0        0.984293  \n",
       "Explanation237_2        0.991597  \n",
       "Explanation260_0        0.983957  \n",
       "Explanation276_2        0.988950  \n",
       "Explanation279_1        0.989474  \n",
       "Explanation296_0        1.000000  \n",
       "Explanation314_0        0.989071  \n",
       "Explanation337_0        0.982456  \n",
       "Explanation402_0        0.983827  "
      ]
     },
     "execution_count": 18,
     "metadata": {},
     "output_type": "execute_result"
    }
   ],
   "source": [
    "%time sm.label()"
   ]
  },
  {
   "cell_type": "code",
   "execution_count": 19,
   "metadata": {
    "collapsed": false,
    "deletable": true,
    "editable": true,
    "scrolled": false
   },
   "outputs": [
    {
     "name": "stdout",
     "output_type": "stream",
     "text": [
      "Inferred cardinality: 2\n"
     ]
    },
    {
     "data": {
      "image/png": "[encoded data removed]",
      "text/plain": [
       "<matplotlib.figure.Figure at 0x7fb73109a5d0>"
      ]
     },
     "metadata": {},
     "output_type": "display_data"
    },
    {
     "name": "stdout",
     "output_type": "stream",
     "text": [
      "CPU times: user 52 s, sys: 6.66 s, total: 58.7 s\n",
      "Wall time: 51.5 s\n"
     ]
    }
   ],
   "source": [
    "%time sm.supervise(config=config)\n",
    "import time\n",
    "time.sleep(5)"
   ]
  },
  {
   "cell_type": "code",
   "execution_count": null,
   "metadata": {
    "collapsed": false,
    "deletable": true,
    "editable": true
   },
   "outputs": [],
   "source": [
    "L_dev = sm.labeler.load_matrix(session, split=1)\n",
    "time.sleep(5)\n",
    "L_dev"
   ]
  },
  {
   "cell_type": "code",
   "execution_count": null,
   "metadata": {
    "collapsed": false,
    "deletable": true,
    "editable": true,
    "scrolled": true
   },
   "outputs": [],
   "source": [
    "L_dev.lf_stats(session, L_gold_dev)\n",
    "time.sleep(5)"
   ]
  },
  {
   "cell_type": "code",
   "execution_count": null,
   "metadata": {
    "collapsed": false,
    "deletable": true,
    "editable": true
   },
   "outputs": [],
   "source": [
    "tp, fp, tn, fn = sm.gen_model.error_analysis(session, L_dev, L_gold_dev)"
   ]
  },
  {
   "cell_type": "code",
   "execution_count": null,
   "metadata": {
    "collapsed": false,
    "deletable": true,
    "editable": true,
    "scrolled": true
   },
   "outputs": [],
   "source": [
    "# %time sm.classify()"
   ]
  },
  {
   "cell_type": "raw",
   "metadata": {
    "deletable": true,
    "editable": true
   },
   "source": [
    "BIKER DEV (majority vote) - 8/11/17\n",
    "========================================\n",
    "Scores (Un-adjusted)\n",
    "========================================\n",
    "Pos. class accuracy: 0.924\n",
    "Neg. class accuracy: 0.59\n",
    "Precision            0.364\n",
    "Recall               0.924\n",
    "F1                   0.522\n",
    "----------------------------------------\n",
    "TP: 194 | FP: 339 | TN: 488 | FN: 16\n",
    "========================================\n",
    "\n",
    "Baseline F1: 0.33 (guess all true)"
   ]
  },
  {
   "cell_type": "raw",
   "metadata": {
    "deletable": true,
    "editable": true
   },
   "source": [
    "SPOUSE TEST (w/ intro lfs):\n",
    "========================================\n",
    "Scores (Un-adjusted)\n",
    "========================================\n",
    "Pos. class accuracy: 0.624\n",
    "Neg. class accuracy: 0.926\n",
    "Precision            0.426\n",
    "Recall               0.624\n",
    "F1                   0.507\n",
    "----------------------------------------\n",
    "TP: 136 | FP: 183 | TN: 2300 | FN: 82\n",
    "========================================"
   ]
  },
  {
   "cell_type": "code",
   "execution_count": null,
   "metadata": {
    "collapsed": true,
    "deletable": true,
    "editable": true
   },
   "outputs": [],
   "source": []
  },
  {
   "cell_type": "code",
   "execution_count": null,
   "metadata": {
    "collapsed": false,
    "deletable": true,
    "editable": true
   },
   "outputs": [],
   "source": [
    "# L_train = sm.labeler.load_matrix(session, split=0)\n",
    "# L_train"
   ]
  },
  {
   "cell_type": "code",
   "execution_count": null,
   "metadata": {
    "collapsed": false,
    "deletable": true,
    "editable": true,
    "scrolled": true
   },
   "outputs": [],
   "source": [
    "# # from snorkel.learning import GenerativeModel\n",
    "# from snorkel.learning import RandomSearch, ListParameter, RangeParameter\n",
    "\n",
    "# epochs_param    = ListParameter('epochs', [5, 10, 20])\n",
    "# decay_param     = ListParameter('decay', [0.9, 0.95])\n",
    "# step_size_param = RangeParameter('step_size', 1e-6, 1e-5, step=1, log_base=10)\n",
    "# reg_param       = ListParameter('reg_param', [1e-6])\n",
    "\n",
    "# searcher = RandomSearch(GenerativeModel, \n",
    "#                         [step_size_param, decay_param, epochs_param, reg_param],\n",
    "#                         L_train, n=5)"
   ]
  },
  {
   "cell_type": "code",
   "execution_count": null,
   "metadata": {
    "collapsed": false,
    "deletable": true,
    "editable": true,
    "scrolled": true
   },
   "outputs": [],
   "source": [
    "# %%time\n",
    "# gen_model_best, run_stats = searcher.fit(L_dev, L_gold_dev)\n",
    "# run_stats"
   ]
  },
  {
   "cell_type": "code",
   "execution_count": null,
   "metadata": {
    "collapsed": true,
    "deletable": true,
    "editable": true
   },
   "outputs": [],
   "source": [
    "# gen_model_best = GenerativeModel(class_prior=False, lf_prior=False, \n",
    "#                                  lf_propensity=False, lf_class_propensity=False)"
   ]
  },
  {
   "cell_type": "code",
   "execution_count": null,
   "metadata": {
    "collapsed": false,
    "deletable": true,
    "editable": true,
    "scrolled": true
   },
   "outputs": [],
   "source": [
    "# gen_model_best.train(L_train, epochs=10, decay=0.95, step_size=1e-6, reg_param=1e-6)"
   ]
  },
  {
   "cell_type": "code",
   "execution_count": null,
   "metadata": {
    "collapsed": false,
    "deletable": true,
    "editable": true
   },
   "outputs": [],
   "source": [
    "# tp, fp, tn, fn = gen_model_best.error_analysis(session, L_dev, L_gold_dev, b=0.8)"
   ]
  },
  {
   "cell_type": "code",
   "execution_count": null,
   "metadata": {
    "collapsed": false,
    "deletable": true,
    "editable": true
   },
   "outputs": [],
   "source": [
    "# import matplotlib.pyplot as plt\n",
    "\n",
    "# train_marginals = gen_model_best.marginals(L_train)\n",
    "# plt.hist(train_marginals, bins=30)\n",
    "# plt.show()"
   ]
  }
 ],
 "metadata": {
  "anaconda-cloud": {},
  "kernelspec": {
   "display_name": "Python 2",
   "language": "python",
   "name": "python2"
  },
  "language_info": {
   "codemirror_mode": {
    "name": "ipython",
    "version": 2
   },
   "file_extension": ".py",
   "mimetype": "text/x-python",
   "name": "python",
   "nbconvert_exporter": "python",
   "pygments_lexer": "ipython2",
   "version": "2.7.6"
  }
 },
 "nbformat": 4,
 "nbformat_minor": 1
}
