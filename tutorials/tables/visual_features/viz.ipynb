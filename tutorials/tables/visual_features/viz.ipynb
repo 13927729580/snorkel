{
 "cells": [
  {
   "cell_type": "markdown",
   "metadata": {},
   "source": [
    "# Adding Visual Features"
   ]
  },
  {
   "cell_type": "code",
   "execution_count": 1,
   "metadata": {
    "collapsed": false,
    "scrolled": true
   },
   "outputs": [
    {
     "name": "stdout",
     "output_type": "stream",
     "text": [
      "The autoreload extension is already loaded. To reload it, use:\n",
      "  %reload_ext autoreload\n"
     ]
    }
   ],
   "source": [
    "%load_ext autoreload\n",
    "%autoreload 2\n",
    "\n",
    "import os\n",
    "os.remove('snorkel.db')\n",
    "\n",
    "import sys\n",
    "sys.path.append(os.environ['SNORKELHOME'] + '/tutorials/tables/')\n",
    "\n",
    "from snorkel import SnorkelSession\n",
    "session = SnorkelSession()\n",
    "\n",
    "from pdb import set_trace as t"
   ]
  },
  {
   "cell_type": "markdown",
   "metadata": {},
   "source": [
    "### Convert PDF to HTML"
   ]
  },
  {
   "cell_type": "markdown",
   "metadata": {},
   "source": [
    "Use Adobe Acrobat (or other program of your choice) to convert PDF -> HTML with structure."
   ]
  },
  {
   "cell_type": "markdown",
   "metadata": {},
   "source": [
    "### Parse HTML and PDF"
   ]
  },
  {
   "cell_type": "code",
   "execution_count": 2,
   "metadata": {
    "collapsed": false,
    "scrolled": true
   },
   "outputs": [
    {
     "name": "stdout",
     "output_type": "stream",
     "text": [
      "Extracted 2690 pdf words\n",
      "Elapsed: 0.511 s\n",
      "Extracted 2662 html words\n",
      "Elapsed: 0.073 s\n",
      "Linked 2662 words to 2690 bounding boxes\n",
      "Elapsed: 0.357 s\n",
      "Updated coordinates in snorkel.db\n",
      "Elapsed: 1.439 s\n",
      "[========================================] 100%\n",
      "CPU times: user 5.21 s, sys: 245 ms, total: 5.46 s\n",
      "Wall time: 8.09 s\n"
     ]
    }
   ],
   "source": [
    "import os\n",
    "from snorkel.parser import CorpusParser\n",
    "from snorkel.parser import HTMLParser\n",
    "from snorkel.parser import OmniParser\n",
    "\n",
    "pdf_path = os.environ['SNORKELHOME'] + '/tutorials/tables/data/hardware/hardware100_pdf/'\n",
    "html_path = os.environ['SNORKELHOME'] + '/tutorials/tables/data/hardware/hardware100_html/'\n",
    "\n",
    "filename = 'bc546-d'\n",
    "html_file = html_path + filename + '.html'\n",
    "\n",
    "doc_parser = HTMLParser(path=html_file)\n",
    "context_parser = OmniParser(pdf_path=pdf_path, session=session)\n",
    "cp = CorpusParser(doc_parser, context_parser, max_docs=100) \n",
    "\n",
    "%time corpus = cp.parse_corpus(name='Hardware', session=session)\n",
    "\n",
    "# Save results\n",
    "# os.system('cp snorkel.db snorkel.db\\ corpus');"
   ]
  },
  {
   "cell_type": "markdown",
   "metadata": {},
   "source": [
    "### Load results"
   ]
  },
  {
   "cell_type": "code",
   "execution_count": 3,
   "metadata": {
    "collapsed": false
   },
   "outputs": [],
   "source": [
    "# import os\n",
    "# from snorkel.models import Corpus\n",
    "# from snorkel.utils import get_ORM_instance\n",
    "\n",
    "# os.system('cp snorkel.db\\ corpus snorkel.db');\n",
    "# corpus = get_ORM_instance(Corpus, session, 'Hardware')"
   ]
  },
  {
   "cell_type": "markdown",
   "metadata": {},
   "source": [
    "### Extract Candidates"
   ]
  },
  {
   "cell_type": "code",
   "execution_count": 4,
   "metadata": {
    "collapsed": false
   },
   "outputs": [
    {
     "name": "stdout",
     "output_type": "stream",
     "text": [
      "Extracting Candidates from Corpus (Hardware)\n",
      "[========================================] 100%\n",
      "CPU times: user 1.4 s, sys: 19.3 ms, total: 1.42 s\n",
      "Wall time: 1.46 s\n",
      "Candidate Set (Hardware Candidates) contains 275 Candidates\n"
     ]
    }
   ],
   "source": [
    "import os\n",
    "from collections import defaultdict\n",
    "from snorkel.models import Corpus, candidate_subclass\n",
    "from snorkel.matchers import RegexMatchSpan, Union\n",
    "from snorkel.candidates import CandidateExtractor\n",
    "from snorkel.utils import get_ORM_instance\n",
    "from hardware_utils import OmniNgramsPart, OmniNgramsTemp, get_gold_dict\n",
    "\n",
    "# Candidate Type\n",
    "Part_Temp = candidate_subclass('Part_Temp', ['part','temp'])\n",
    "    \n",
    "# CandidateSpaces\n",
    "part_ngrams = OmniNgramsPart(parts_by_doc=None, n_max=3) # NOTE: no part linking right now\n",
    "temp_ngrams = OmniNgramsTemp(n_max=2)\n",
    "\n",
    "# Matchers\n",
    "eeca_matcher = RegexMatchSpan(rgx='([b]{1}[abcdefklnpqruyz]{1}[\\swxyz]?[0-9]{3,5}[\\s]?[A-Z\\/]{0,5}[0-9]?[A-Z]?([-][A-Z0-9]{1,7})?([-][A-Z0-9]{1,2})?)')\n",
    "jedec_matcher = RegexMatchSpan(rgx='([123]N\\d{3,4}[A-Z]{0,5}[0-9]?[A-Z]?)')\n",
    "jis_matcher = RegexMatchSpan(rgx='(2S[abcdefghjkmqrstvz]{1}[\\d]{2,4})')\n",
    "others_matcher = RegexMatchSpan(rgx='((NSVBC|SMBT|MJ|MJE|MPS|MRF|RCA|TIP|ZTX|ZT|TIS|TIPL|DTC|MMBT|PZT){1}[\\d]{2,4}[A-Z]{0,3}([-][A-Z0-9]{0,6})?([-][A-Z0-9]{0,1})?)')\n",
    "parts_matcher = Union(eeca_matcher, jedec_matcher, jis_matcher, others_matcher)\n",
    "\n",
    "temp_matcher = RegexMatchSpan(rgx=r'1[4-6]0', longest_match_only=False)\n",
    "\n",
    "# Throttler\n",
    "part_throttler = lambda x: x[0].parent.page == x[1].parent.page\n",
    "\n",
    "# Extractor\n",
    "ce = CandidateExtractor(Part_Temp, \n",
    "                        [part_ngrams, temp_ngrams], \n",
    "                        [parts_matcher, temp_matcher], \n",
    "                        throttler=part_throttler)\n",
    "\n",
    "# Extract\n",
    "for corpus_name in ['Hardware']:\n",
    "    corpus = get_ORM_instance(Corpus, session, corpus_name)\n",
    "    print \"Extracting Candidates from %s\" % corpus\n",
    "    %time candidates = ce.extract(\\\n",
    "        corpus.documents, corpus_name + ' Candidates', session)\n",
    "    session.add(candidates)\n",
    "    print \"%s contains %d Candidates\" % (candidates, len(candidates))\n",
    "session.commit()"
   ]
  },
  {
   "cell_type": "markdown",
   "metadata": {},
   "source": [
    "### View Results"
   ]
  },
  {
   "cell_type": "code",
   "execution_count": 5,
   "metadata": {
    "collapsed": false
   },
   "outputs": [
    {
     "name": "stdout",
     "output_type": "stream",
     "text": [
      "Span(\"BC548\", parent=1133, chars=[0,4], words=[0,0])\n",
      "0 4\n",
      "2\n",
      "[560]\n",
      "[569]\n",
      "[314]\n",
      "[339]\n"
     ]
    }
   ],
   "source": [
    "c = candidates[15]\n",
    "print c.part\n",
    "print c.part.char_start, c.part.char_end\n",
    "print c.part.parent.page\n",
    "print c.part.get_attrib_tokens('top')\n",
    "print c.part.get_attrib_tokens('bottom')\n",
    "print c.part.get_attrib_tokens('left')\n",
    "print c.part.get_attrib_tokens('right')"
   ]
  },
  {
   "cell_type": "code",
   "execution_count": 6,
   "metadata": {
    "collapsed": false
   },
   "outputs": [
    {
     "data": {
      "text/html": [
       "<div>\n",
       "<table border=\"1\" class=\"dataframe\">\n",
       "  <thead>\n",
       "    <tr style=\"text-align: right;\">\n",
       "      <th></th>\n",
       "      <th>i</th>\n",
       "      <th>html</th>\n",
       "      <th>pdf</th>\n",
       "      <th>j</th>\n",
       "      <th>offset</th>\n",
       "    </tr>\n",
       "  </thead>\n",
       "  <tbody>\n",
       "    <tr>\n",
       "      <th>0</th>\n",
       "      <td>0</td>\n",
       "      <td>BC546</td>\n",
       "      <td>BC546</td>\n",
       "      <td>42</td>\n",
       "      <td>-5</td>\n",
       "    </tr>\n",
       "    <tr>\n",
       "      <th>1</th>\n",
       "      <td>1</td>\n",
       "      <td>-</td>\n",
       "      <td>-</td>\n",
       "      <td>36</td>\n",
       "      <td>-5</td>\n",
       "    </tr>\n",
       "    <tr>\n",
       "      <th>2</th>\n",
       "      <td>2</td>\n",
       "      <td>NPN</td>\n",
       "      <td>NPN</td>\n",
       "      <td>13</td>\n",
       "      <td>14</td>\n",
       "    </tr>\n",
       "    <tr>\n",
       "      <th>3</th>\n",
       "      <td>3</td>\n",
       "      <td>Amplifier</td>\n",
       "      <td>Amplifier</td>\n",
       "      <td>11</td>\n",
       "      <td>14</td>\n",
       "    </tr>\n",
       "    <tr>\n",
       "      <th>4</th>\n",
       "      <td>4</td>\n",
       "      <td>Transistors</td>\n",
       "      <td>Transistors</td>\n",
       "      <td>12</td>\n",
       "      <td>14</td>\n",
       "    </tr>\n",
       "    <tr>\n",
       "      <th>5</th>\n",
       "      <td>5</td>\n",
       "      <td>BC546B</td>\n",
       "      <td>BC546B</td>\n",
       "      <td>0</td>\n",
       "      <td>13</td>\n",
       "    </tr>\n",
       "    <tr>\n",
       "      <th>6</th>\n",
       "      <td>6</td>\n",
       "      <td>,</td>\n",
       "      <td>,</td>\n",
       "      <td>9</td>\n",
       "      <td>12</td>\n",
       "    </tr>\n",
       "    <tr>\n",
       "      <th>7</th>\n",
       "      <td>7</td>\n",
       "      <td>BC547A</td>\n",
       "      <td>BC547A</td>\n",
       "      <td>2</td>\n",
       "      <td>10</td>\n",
       "    </tr>\n",
       "    <tr>\n",
       "      <th>8</th>\n",
       "      <td>8</td>\n",
       "      <td>,</td>\n",
       "      <td>,</td>\n",
       "      <td>9</td>\n",
       "      <td>10</td>\n",
       "    </tr>\n",
       "    <tr>\n",
       "      <th>9</th>\n",
       "      <td>9</td>\n",
       "      <td>B</td>\n",
       "      <td>B</td>\n",
       "      <td>4</td>\n",
       "      <td>5</td>\n",
       "    </tr>\n",
       "    <tr>\n",
       "      <th>...</th>\n",
       "      <td>...</td>\n",
       "      <td>...</td>\n",
       "      <td>...</td>\n",
       "      <td>...</td>\n",
       "      <td>...</td>\n",
       "    </tr>\n",
       "    <tr>\n",
       "      <th>2652</th>\n",
       "      <td>2652</td>\n",
       "      <td>additional</td>\n",
       "      <td>additional</td>\n",
       "      <td>2660</td>\n",
       "      <td>2626</td>\n",
       "    </tr>\n",
       "    <tr>\n",
       "      <th>2653</th>\n",
       "      <td>2653</td>\n",
       "      <td>information</td>\n",
       "      <td>information</td>\n",
       "      <td>2661</td>\n",
       "      <td>2660</td>\n",
       "    </tr>\n",
       "    <tr>\n",
       "      <th>2654</th>\n",
       "      <td>2654</td>\n",
       "      <td>,</td>\n",
       "      <td>,</td>\n",
       "      <td>2662</td>\n",
       "      <td>2661</td>\n",
       "    </tr>\n",
       "    <tr>\n",
       "      <th>2655</th>\n",
       "      <td>2655</td>\n",
       "      <td>please</td>\n",
       "      <td>please</td>\n",
       "      <td>2663</td>\n",
       "      <td>2662</td>\n",
       "    </tr>\n",
       "    <tr>\n",
       "      <th>2656</th>\n",
       "      <td>2656</td>\n",
       "      <td>contact</td>\n",
       "      <td>contact</td>\n",
       "      <td>2664</td>\n",
       "      <td>2663</td>\n",
       "    </tr>\n",
       "    <tr>\n",
       "      <th>2657</th>\n",
       "      <td>2657</td>\n",
       "      <td>your</td>\n",
       "      <td>your</td>\n",
       "      <td>2665</td>\n",
       "      <td>2664</td>\n",
       "    </tr>\n",
       "    <tr>\n",
       "      <th>2658</th>\n",
       "      <td>2658</td>\n",
       "      <td>loca</td>\n",
       "      <td>local</td>\n",
       "      <td>2666</td>\n",
       "      <td>2666</td>\n",
       "    </tr>\n",
       "    <tr>\n",
       "      <th>2659</th>\n",
       "      <td>2659</td>\n",
       "      <td>Sales</td>\n",
       "      <td>Sales</td>\n",
       "      <td>2679</td>\n",
       "      <td>2665</td>\n",
       "    </tr>\n",
       "    <tr>\n",
       "      <th>2660</th>\n",
       "      <td>2660</td>\n",
       "      <td>Representative</td>\n",
       "      <td>Representative</td>\n",
       "      <td>2680</td>\n",
       "      <td>2666</td>\n",
       "    </tr>\n",
       "    <tr>\n",
       "      <th>2661</th>\n",
       "      <td>2661</td>\n",
       "      <td>BC546/D</td>\n",
       "      <td>BC546/D</td>\n",
       "      <td>2688</td>\n",
       "      <td>2680</td>\n",
       "    </tr>\n",
       "  </tbody>\n",
       "</table>\n",
       "<p>2662 rows × 5 columns</p>\n",
       "</div>"
      ],
      "text/plain": [
       "         i            html             pdf     j  offset\n",
       "0        0           BC546           BC546    42      -5\n",
       "1        1               -               -    36      -5\n",
       "2        2             NPN             NPN    13      14\n",
       "3        3       Amplifier       Amplifier    11      14\n",
       "4        4     Transistors     Transistors    12      14\n",
       "5        5          BC546B          BC546B     0      13\n",
       "6        6               ,               ,     9      12\n",
       "7        7          BC547A          BC547A     2      10\n",
       "8        8               ,               ,     9      10\n",
       "9        9               B               B     4       5\n",
       "...    ...             ...             ...   ...     ...\n",
       "2652  2652      additional      additional  2660    2626\n",
       "2653  2653     information     information  2661    2660\n",
       "2654  2654               ,               ,  2662    2661\n",
       "2655  2655          please          please  2663    2662\n",
       "2656  2656         contact         contact  2664    2663\n",
       "2657  2657            your            your  2665    2664\n",
       "2658  2658            loca           local  2666    2666\n",
       "2659  2659           Sales           Sales  2679    2665\n",
       "2660  2660  Representative  Representative  2680    2666\n",
       "2661  2661         BC546/D         BC546/D  2688    2680\n",
       "\n",
       "[2662 rows x 5 columns]"
      ]
     },
     "execution_count": 6,
     "metadata": {},
     "output_type": "execute_result"
    }
   ],
   "source": [
    "context_parser.vizlink.display_links(20)"
   ]
  },
  {
   "cell_type": "code",
   "execution_count": 7,
   "metadata": {
    "collapsed": false,
    "scrolled": true
   },
   "outputs": [
    {
     "name": "stdout",
     "output_type": "stream",
     "text": [
      "Boxes per page:\n",
      "Page 1: 46 (13)\n",
      "Page 2: 504 (38)\n"
     ]
    }
   ],
   "source": [
    "# Note: Select image and press any key to close image.\n",
    "context_parser.vizlink.display_candidates(candidates, page_num=2, display=False)"
   ]
  },
  {
   "cell_type": "code",
   "execution_count": 12,
   "metadata": {
    "collapsed": false
   },
   "outputs": [
    {
     "name": "stdout",
     "output_type": "stream",
     "text": [
      "Boxes per page: total (unique)\n",
      "Page 1: 3 (2)\n",
      "Page 2: 8 (8)\n",
      "Page 4: 1 (1)\n"
     ]
    }
   ],
   "source": [
    "pdf_file = context_parser.vizlink.pdf_file\n",
    "\n",
    "context_parser.vizlink.display_word('BC546', page_num=2)\n",
    "# context_parser.vizlink.display_candidates(candidates, page_num=2)"
   ]
  },
  {
   "cell_type": "code",
   "execution_count": 9,
   "metadata": {
    "collapsed": false
   },
   "outputs": [],
   "source": [
    "# from visual_linking import display_boxes, get_box\n",
    "\n",
    "# boxes = []\n",
    "# for c in candidates:\n",
    "#     boxes.append(get_box(c.part))\n",
    "# boxes = list(set(boxes))\n",
    "# display_boxes(pdf_file, boxes, page_num=2)"
   ]
  },
  {
   "cell_type": "markdown",
   "metadata": {},
   "source": [
    "### Display Ordering of PDF Word List "
   ]
  },
  {
   "cell_type": "markdown",
   "metadata": {},
   "source": [
    "Display Ordering on a black page - Not very easy to display because of superposition"
   ]
  },
  {
   "cell_type": "code",
   "execution_count": 10,
   "metadata": {
    "collapsed": false
   },
   "outputs": [],
   "source": [
    "# import numpy as np\n",
    "# import cv2\n",
    "# import math\n",
    "\n",
    "# page_num = 2\n",
    "# page_height = 792\n",
    "# page_width = 612\n",
    "# img = np.ones((page_height,page_width,3))*255\n",
    "# font = cv2.FONT_HERSHEY_SIMPLEX\n",
    "# letter_width = 3\n",
    "# i = 0\n",
    "# for word_id, _ in pdf_word_list:\n",
    "#     if word_id[0] == page_num:\n",
    "#         i += 1\n",
    "#         _, top, left, bottom, right = coordinate_map[word_id]\n",
    "#         cv2.rectangle(img, (left, top), (right, bottom), (0,255,0), 1)\n",
    "#         cv2.putText(img, \n",
    "#                     str(i), \n",
    "#                     ((left + right)/2 - letter_width*int(math.ceil(math.log10(i))), \n",
    "#                     bottom + (top - bottom)/4), \n",
    "#                     font, \n",
    "#                     0.3, \n",
    "#                     (255,0,0), \n",
    "#                     1)\n",
    "# cv2.imshow('PDF Word List Order',img)\n",
    "# cv2.waitKey() # press any key to exit the opencv output \n",
    "# cv2.destroyAllWindows() "
   ]
  },
  {
   "cell_type": "markdown",
   "metadata": {},
   "source": [
    "The end."
   ]
  }
 ],
 "metadata": {
  "anaconda-cloud": {},
  "kernelspec": {
   "display_name": "Python [default]",
   "language": "python",
   "name": "python2"
  },
  "language_info": {
   "codemirror_mode": {
    "name": "ipython",
    "version": 2
   },
   "file_extension": ".py",
   "mimetype": "text/x-python",
   "name": "python",
   "nbconvert_exporter": "python",
   "pygments_lexer": "ipython2",
   "version": "2.7.10"
  }
 },
 "nbformat": 4,
 "nbformat_minor": 1
}
