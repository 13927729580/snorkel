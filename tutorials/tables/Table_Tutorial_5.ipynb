{
 "cells": [
  {
   "cell_type": "markdown",
   "metadata": {},
   "source": [
    "## Part V: Training a Model with Data Programming"
   ]
  },
  {
   "cell_type": "code",
   "execution_count": 1,
   "metadata": {
    "collapsed": false
   },
   "outputs": [],
   "source": [
    "# If necessary:\n",
    "import os\n",
    "os.remove('snorkel.db');\n",
    "os.system('cp snorkel.db\\ features snorkel.db');"
   ]
  },
  {
   "cell_type": "code",
   "execution_count": 2,
   "metadata": {
    "collapsed": false
   },
   "outputs": [
    {
     "name": "stdout",
     "output_type": "stream",
     "text": [
      "The autoreload extension is already loaded. To reload it, use:\n",
      "  %reload_ext autoreload\n"
     ]
    }
   ],
   "source": [
    "%load_ext autoreload\n",
    "%autoreload 2\n",
    "\n",
    "from snorkel import SnorkelSession\n",
    "session = SnorkelSession()"
   ]
  },
  {
   "cell_type": "code",
   "execution_count": 3,
   "metadata": {
    "collapsed": false
   },
   "outputs": [],
   "source": [
    "from snorkel.models import candidate_subclass\n",
    "\n",
    "Part_Temp = candidate_subclass('Part_Temp', ['part','temp'])"
   ]
  },
  {
   "cell_type": "markdown",
   "metadata": {},
   "source": [
    "### Loading the `CandidateSet`, feature matrix, and label matrix"
   ]
  },
  {
   "cell_type": "code",
   "execution_count": 4,
   "metadata": {
    "collapsed": false
   },
   "outputs": [],
   "source": [
    "from snorkel.models import CandidateSet\n",
    "train = session.query(CandidateSet).filter(\n",
    "    CandidateSet.name == 'Hardware Training Candidates').one()"
   ]
  },
  {
   "cell_type": "code",
   "execution_count": 5,
   "metadata": {
    "collapsed": false
   },
   "outputs": [
    {
     "name": "stdout",
     "output_type": "stream",
     "text": [
      "CPU times: user 54.7 s, sys: 2.01 s, total: 56.7 s\n",
      "Wall time: 58.8 s\n"
     ]
    }
   ],
   "source": [
    "from snorkel.annotations import FeatureManager\n",
    "\n",
    "feature_manager = FeatureManager()\n",
    "\n",
    "%time F_train = feature_manager.load(session, train, 'Train Features')"
   ]
  },
  {
   "cell_type": "code",
   "execution_count": 6,
   "metadata": {
    "collapsed": false
   },
   "outputs": [
    {
     "name": "stdout",
     "output_type": "stream",
     "text": [
      "CPU times: user 1.12 s, sys: 73.3 ms, total: 1.2 s\n",
      "Wall time: 1.3 s\n"
     ]
    }
   ],
   "source": [
    "from snorkel.annotations import LabelManager\n",
    "\n",
    "label_manager = LabelManager()\n",
    "\n",
    "%time L_train = label_manager.load(session, train, 'LF Labels 2')"
   ]
  },
  {
   "cell_type": "markdown",
   "metadata": {},
   "source": [
    "## Train Generative Model"
   ]
  },
  {
   "cell_type": "code",
   "execution_count": 7,
   "metadata": {
    "collapsed": false
   },
   "outputs": [
    {
     "name": "stdout",
     "output_type": "stream",
     "text": [
      "================================================================================\n",
      "Training marginals (!= 0.5):\t26544\n",
      "Features:\t\t\t9\n",
      "================================================================================\n",
      "Begin training for rate=0.01, mu=1e-06\n",
      "\tLearning epoch = 0\tGradient mag. = 0.384222\n",
      "\tLearning epoch = 250\tGradient mag. = 0.550661\n",
      "\tLearning epoch = 500\tGradient mag. = 0.756780\n",
      "\tLearning epoch = 750\tGradient mag. = 0.970949\n",
      "\tLearning epoch = 1000\tGradient mag. = 0.913820\n",
      "\tLearning epoch = 1250\tGradient mag. = 0.751362\n",
      "\tLearning epoch = 1500\tGradient mag. = 0.657093\n",
      "\tLearning epoch = 1750\tGradient mag. = 0.596412\n",
      "\tLearning epoch = 2000\tGradient mag. = 0.466138\n",
      "\tLearning epoch = 2250\tGradient mag. = 0.330497\n",
      "\tLearning epoch = 2500\tGradient mag. = 0.275490\n",
      "\tLearning epoch = 2750\tGradient mag. = 0.243697\n",
      "\tLearning epoch = 3000\tGradient mag. = 0.220060\n",
      "\tLearning epoch = 3250\tGradient mag. = 0.200634\n",
      "\tLearning epoch = 3500\tGradient mag. = 0.184074\n",
      "\tLearning epoch = 3750\tGradient mag. = 0.169722\n",
      "\tLearning epoch = 4000\tGradient mag. = 0.157158\n",
      "\tLearning epoch = 4250\tGradient mag. = 0.146076\n",
      "\tLearning epoch = 4500\tGradient mag. = 0.136241\n",
      "\tLearning epoch = 4750\tGradient mag. = 0.127463\n",
      "\tLearning epoch = 5000\tGradient mag. = 0.119588\n",
      "\tLearning epoch = 5250\tGradient mag. = 0.112487\n",
      "\tLearning epoch = 5500\tGradient mag. = 0.106053\n",
      "\tLearning epoch = 5750\tGradient mag. = 0.100197\n",
      "\tLearning epoch = 6000\tGradient mag. = 0.094843\n",
      "\tLearning epoch = 6250\tGradient mag. = 0.089928\n",
      "\tLearning epoch = 6500\tGradient mag. = 0.085399\n",
      "\tLearning epoch = 6750\tGradient mag. = 0.081209\n",
      "\tLearning epoch = 7000\tGradient mag. = 0.077320\n",
      "\tLearning epoch = 7250\tGradient mag. = 0.073699\n",
      "\tLearning epoch = 7500\tGradient mag. = 0.070318\n",
      "\tLearning epoch = 7750\tGradient mag. = 0.067152\n",
      "\tLearning epoch = 8000\tGradient mag. = 0.064181\n",
      "\tLearning epoch = 8250\tGradient mag. = 0.061386\n",
      "\tLearning epoch = 8500\tGradient mag. = 0.058751\n",
      "\tLearning epoch = 8750\tGradient mag. = 0.056264\n",
      "\tLearning epoch = 9000\tGradient mag. = 0.053911\n",
      "\tLearning epoch = 9250\tGradient mag. = 0.051682\n",
      "\tLearning epoch = 9500\tGradient mag. = 0.049568\n",
      "\tLearning epoch = 9750\tGradient mag. = 0.047560\n",
      "\tLearning epoch = 10000\tGradient mag. = 0.045652\n",
      "\tLearning epoch = 10250\tGradient mag. = 0.043835\n",
      "\tLearning epoch = 10500\tGradient mag. = 0.042104\n",
      "\tLearning epoch = 10750\tGradient mag. = 0.040454\n",
      "\tLearning epoch = 11000\tGradient mag. = 0.038880\n",
      "\tLearning epoch = 11250\tGradient mag. = 0.037377\n",
      "\tLearning epoch = 11500\tGradient mag. = 0.035941\n",
      "\tLearning epoch = 11750\tGradient mag. = 0.034568\n",
      "\tLearning epoch = 12000\tGradient mag. = 0.033255\n",
      "\tLearning epoch = 12250\tGradient mag. = 0.031998\n",
      "\tLearning epoch = 12500\tGradient mag. = 0.030795\n",
      "\tLearning epoch = 12750\tGradient mag. = 0.029643\n",
      "\tLearning epoch = 13000\tGradient mag. = 0.028539\n",
      "\tLearning epoch = 13250\tGradient mag. = 0.027481\n",
      "\tLearning epoch = 13500\tGradient mag. = 0.026466\n",
      "\tLearning epoch = 13750\tGradient mag. = 0.025493\n",
      "\tLearning epoch = 14000\tGradient mag. = 0.024559\n",
      "\tLearning epoch = 14250\tGradient mag. = 0.023663\n",
      "\tLearning epoch = 14500\tGradient mag. = 0.022803\n",
      "\tLearning epoch = 14750\tGradient mag. = 0.021977\n",
      "Final gradient magnitude for rate=0.01, mu=1e-06: 0.021\n"
     ]
    }
   ],
   "source": [
    "from snorkel.learning import NaiveBayes\n",
    "\n",
    "gen_model = NaiveBayes()\n",
    "# gen_model.train(L_train, n_iter=3000, rate=1e-5)\n",
    "gen_model.train(L_train, n_iter=15000, rate=1e-2)"
   ]
  },
  {
   "cell_type": "code",
   "execution_count": 8,
   "metadata": {
    "collapsed": true
   },
   "outputs": [],
   "source": [
    "gen_model.save(session, 'Generative Params')"
   ]
  },
  {
   "cell_type": "code",
   "execution_count": 9,
   "metadata": {
    "collapsed": true
   },
   "outputs": [],
   "source": [
    "train_marginals = gen_model.marginals(L_train)"
   ]
  },
  {
   "cell_type": "markdown",
   "metadata": {},
   "source": [
    "## Train Discriminative Model"
   ]
  },
  {
   "cell_type": "code",
   "execution_count": 10,
   "metadata": {
    "collapsed": false
   },
   "outputs": [
    {
     "name": "stdout",
     "output_type": "stream",
     "text": [
      "================================================================================\n",
      "Training marginals (!= 0.5):\t26544\n",
      "Features:\t\t\t14864\n",
      "================================================================================\n",
      "Using gradient descent...\n",
      "\tLearning epoch = 0\tStep size = 0.001\n",
      "\tLoss = 18398.898761\tGradient magnitude = 36095.095696\n",
      "\tLearning epoch = 100\tStep size = 0.000904792147114\n",
      "\tLoss = 29.745870\tGradient magnitude = 3.156072\n",
      "\tLearning epoch = 200\tStep size = 0.000818648829479\n",
      "\tLoss = 29.289281\tGradient magnitude = 1.875095\n",
      "\tLearning epoch = 300\tStep size = 0.000740707032156\n",
      "\tLoss = 29.044757\tGradient magnitude = 1.703231\n",
      "\tLearning epoch = 400\tStep size = 0.000670185906007\n",
      "\tLoss = 28.847388\tGradient magnitude = 1.651350\n",
      "\tLearning epoch = 500\tStep size = 0.000606378944861\n",
      "\tLoss = 28.676077\tGradient magnitude = 1.629568\n",
      "\tLearning epoch = 600\tStep size = 0.000548646907485\n",
      "\tLoss = 28.524033\tGradient magnitude = 1.618579\n",
      "\tLearning epoch = 700\tStep size = 0.000496411413431\n",
      "\tLoss = 28.387882\tGradient magnitude = 1.612317\n",
      "\tLearning epoch = 800\tStep size = 0.00044914914861\n",
      "\tLoss = 28.265453\tGradient magnitude = 1.608415\n",
      "\tLearning epoch = 900\tStep size = 0.000406386622545\n",
      "\tLoss = 28.155122\tGradient magnitude = 1.605807\n",
      "\tLearning epoch = 1000\tStep size = 0.000367695424771\n",
      "\tLoss = 28.055568\tGradient magnitude = 1.603963\n",
      "\tLearning epoch = 1100\tStep size = 0.000332687932862\n",
      "\tLoss = 27.965672\tGradient magnitude = 1.602598\n",
      "\tLearning epoch = 1200\tStep size = 0.000301013429093\n",
      "\tLoss = 27.884456\tGradient magnitude = 1.601549\n",
      "\tLearning epoch = 1300\tStep size = 0.000272354586819\n",
      "\tLoss = 27.811058\tGradient magnitude = 1.600719\n",
      "\tLearning epoch = 1400\tStep size = 0.000246424291385\n",
      "\tLoss = 27.744710\tGradient magnitude = 1.600045\n",
      "\tLearning epoch = 1500\tStep size = 0.000222962763703\n",
      "\tLoss = 27.684725\tGradient magnitude = 1.599488\n",
      "\tLearning epoch = 1600\tStep size = 0.000201734957697\n",
      "\tLoss = 27.630486\tGradient magnitude = 1.599019\n",
      "\tLearning epoch = 1700\tStep size = 0.000182528205523\n",
      "\tLoss = 27.581438\tGradient magnitude = 1.598619\n",
      "\tLearning epoch = 1800\tStep size = 0.000165150086984\n",
      "\tLoss = 27.537080\tGradient magnitude = 1.598274\n",
      "\tLearning epoch = 1900\tStep size = 0.000149426501798\n",
      "\tLoss = 27.496961\tGradient magnitude = 1.597975\n",
      "\tLearning epoch = 2000\tStep size = 0.000135199925397\n",
      "\tLoss = 27.460675\tGradient magnitude = 1.597713\n",
      "\tLearning epoch = 2100\tStep size = 0.00012232783079\n",
      "\tLoss = 27.427854\tGradient magnitude = 1.597483\n",
      "\tLearning epoch = 2200\tStep size = 0.000110681260672\n",
      "\tLoss = 27.398165\tGradient magnitude = 1.597279\n",
      "\tLearning epoch = 2300\tStep size = 0.000100143535489\n",
      "\tLoss = 27.371310\tGradient magnitude = 1.597099\n",
      "\tLearning epoch = 2400\tStep size = 9.06090844946e-05\n",
      "\tLoss = 27.347017\tGradient magnitude = 1.596938\n",
      "\tLearning epoch = 2500\tStep size = 8.19823881078e-05\n",
      "\tLoss = 27.325040\tGradient magnitude = 1.596795\n",
      "\tLearning epoch = 2600\tStep size = 7.41770209616e-05\n",
      "\tLoss = 27.305160\tGradient magnitude = 1.596666\n",
      "\tLearning epoch = 2700\tStep size = 6.71147860624e-05\n",
      "\tLoss = 27.287175\tGradient magnitude = 1.596551\n",
      "\tLearning epoch = 2800\tStep size = 6.07249313844e-05\n",
      "\tLoss = 27.270904\tGradient magnitude = 1.596448\n",
      "\tLearning epoch = 2900\tStep size = 5.49434410507e-05\n",
      "\tLoss = 27.256184\tGradient magnitude = 1.596356\n",
      "\tLearning epoch = 3000\tStep size = 4.9712393998e-05\n",
      "\tLoss = 27.242868\tGradient magnitude = 1.596273\n",
      "\tLearning epoch = 3100\tStep size = 4.49793837036e-05\n",
      "\tLoss = 27.230820\tGradient magnitude = 1.596198\n",
      "\tLearning epoch = 3200\tStep size = 4.06969931571e-05\n",
      "\tLoss = 27.219920\tGradient magnitude = 1.596130\n",
      "\tLearning epoch = 3300\tStep size = 3.68223198197e-05\n",
      "\tLoss = 27.210059\tGradient magnitude = 1.596070\n",
      "\tLearning epoch = 3400\tStep size = 3.33165458113e-05\n",
      "\tLoss = 27.201138\tGradient magnitude = 1.596015\n",
      "\tLearning epoch = 3500\tStep size = 3.01445490191e-05\n",
      "\tLoss = 27.193066\tGradient magnitude = 1.595965\n",
      "\tLearning epoch = 3600\tStep size = 2.72745512307e-05\n",
      "\tLoss = 27.185763\tGradient magnitude = 1.595921\n",
      "\tLearning epoch = 3700\tStep size = 2.46777997696e-05\n",
      "\tLoss = 27.179156\tGradient magnitude = 1.595881\n",
      "\tLearning epoch = 3800\tStep size = 2.23282794396e-05\n",
      "\tLoss = 27.173178\tGradient magnitude = 1.595844\n",
      "\tLearning epoch = 3900\tStep size = 2.02024518955e-05\n",
      "\tLoss = 27.167770\tGradient magnitude = 1.595811\n",
      "\tLearning epoch = 4000\tStep size = 1.82790198275e-05\n",
      "\tLoss = 27.162876\tGradient magnitude = 1.595782\n",
      "\tLearning epoch = 4100\tStep size = 1.65387135968e-05\n",
      "\tLoss = 27.158449\tGradient magnitude = 1.595755\n",
      "\tLearning epoch = 4200\tStep size = 1.49640981858e-05\n",
      "\tLoss = 27.154443\tGradient magnitude = 1.595731\n",
      "\tLearning epoch = 4300\tStep size = 1.35393985271e-05\n",
      "\tLoss = 27.150819\tGradient magnitude = 1.595709\n",
      "\tLearning epoch = 4400\tStep size = 1.2250341464e-05\n",
      "\tLoss = 27.147540\tGradient magnitude = 1.595689\n",
      "\tLearning epoch = 4500\tStep size = 1.10840127561e-05\n",
      "\tLoss = 27.144573\tGradient magnitude = 1.595671\n",
      "\tLearning epoch = 4600\tStep size = 1.00287277002e-05\n",
      "\tLoss = 27.141889\tGradient magnitude = 1.595655\n",
      "\tLearning epoch = 4700\tStep size = 9.0739140687e-06\n",
      "\tLoss = 27.139460\tGradient magnitude = 1.595641\n",
      "\tLearning epoch = 4800\tStep size = 8.21000619294e-06\n",
      "\tLoss = 27.137263\tGradient magnitude = 1.595627\n",
      "\tLearning epoch = 4900\tStep size = 7.42834913113e-06\n",
      "\tLoss = 27.135275\tGradient magnitude = 1.595615\n"
     ]
    }
   ],
   "source": [
    "from snorkel.learning import LogReg\n",
    "\n",
    "disc_model = LogReg()\n",
    "disc_model.train(F_train, train_marginals, n_iter=5000, rate=1e-3)"
   ]
  },
  {
   "cell_type": "code",
   "execution_count": 11,
   "metadata": {
    "collapsed": false
   },
   "outputs": [
    {
     "data": {
      "text/plain": [
       "(14864,)"
      ]
     },
     "execution_count": 11,
     "metadata": {},
     "output_type": "execute_result"
    }
   ],
   "source": [
    "disc_model.w.shape"
   ]
  },
  {
   "cell_type": "code",
   "execution_count": 12,
   "metadata": {
    "collapsed": false
   },
   "outputs": [
    {
     "name": "stdout",
     "output_type": "stream",
     "text": [
      "CPU times: user 2.6 s, sys: 67.5 ms, total: 2.67 s\n",
      "Wall time: 2.7 s\n"
     ]
    }
   ],
   "source": [
    "%time disc_model.save(session, \"Discriminative Params\")"
   ]
  },
  {
   "cell_type": "markdown",
   "metadata": {},
   "source": [
    "## Assess Performance on Development Set"
   ]
  },
  {
   "cell_type": "code",
   "execution_count": 13,
   "metadata": {
    "collapsed": false
   },
   "outputs": [],
   "source": [
    "from snorkel.models import CandidateSet\n",
    "dev = session.query(CandidateSet).filter(\n",
    "    CandidateSet.name == 'Hardware Development Candidates').one()"
   ]
  },
  {
   "cell_type": "markdown",
   "metadata": {},
   "source": [
    "### Loading the Development Feature Matrix"
   ]
  },
  {
   "cell_type": "code",
   "execution_count": 14,
   "metadata": {
    "collapsed": false
   },
   "outputs": [
    {
     "name": "stdout",
     "output_type": "stream",
     "text": [
      "CPU times: user 43.2 s, sys: 2.23 s, total: 45.4 s\n",
      "Wall time: 47.3 s\n"
     ]
    }
   ],
   "source": [
    "from snorkel.annotations import FeatureManager\n",
    "\n",
    "feature_manager = FeatureManager()\n",
    "%time F_dev = feature_manager.load(session, dev, 'Train Features')"
   ]
  },
  {
   "cell_type": "code",
   "execution_count": 15,
   "metadata": {
    "collapsed": false
   },
   "outputs": [],
   "source": [
    "L_dev = label_manager.load(session, dev, \"Hardware Development Labels -- Gold\")"
   ]
  },
  {
   "cell_type": "code",
   "execution_count": 16,
   "metadata": {
    "collapsed": false
   },
   "outputs": [],
   "source": [
    "gold_dev_set = session.query(CandidateSet).filter(\n",
    "    CandidateSet.name == 'Hardware Development Candidates -- Gold').one()"
   ]
  },
  {
   "cell_type": "code",
   "execution_count": 17,
   "metadata": {
    "collapsed": false
   },
   "outputs": [
    {
     "data": {
      "text/plain": [
       "(17804, 14864)"
      ]
     },
     "execution_count": 17,
     "metadata": {},
     "output_type": "execute_result"
    }
   ],
   "source": [
    "F_dev.shape"
   ]
  },
  {
   "cell_type": "code",
   "execution_count": 18,
   "metadata": {
    "collapsed": false,
    "scrolled": true
   },
   "outputs": [
    {
     "name": "stdout",
     "output_type": "stream",
     "text": [
      "Calibration plot:\n",
      "========================================\n",
      "Recall-corrected Noise-aware Model\n",
      "========================================\n",
      "Pos. class accuracy: 0.979873717443\n",
      "Neg. class accuracy: 0.918969849246\n",
      "Corpus Precision 0.828\n",
      "Corpus Recall    0.98\n",
      "Corpus F1        0.898\n",
      "----------------------------------------\n",
      "TP: 4966 | FP: 1032 | TN: 11704 | FN: 102\n",
      "========================================\n",
      "\n",
      "========================================\n",
      "Recall-corrected Noise-aware Model\n",
      "========================================\n",
      "Pos. class accuracy: 0.979873717443\n",
      "Neg. class accuracy: 0.918969849246\n",
      "Corpus Precision 0.828\n",
      "Corpus Recall    0.98\n",
      "Corpus F1        0.898\n",
      "----------------------------------------\n",
      "TP: 4966 | FP: 1032 | TN: 11704 | FN: 102\n",
      "========================================\n",
      "\n"
     ]
    },
    {
     "name": "stderr",
     "output_type": "stream",
     "text": [
      "/Users/bradenhancock/anaconda/lib/python2.7/site-packages/numpy/core/_methods.py:59: RuntimeWarning: Mean of empty slice.\n",
      "  warnings.warn(\"Mean of empty slice.\", RuntimeWarning)\n"
     ]
    }
   ],
   "source": [
    "tp, fp, tn, fn = disc_model.score(F_dev, L_dev, gold_dev_set)"
   ]
  },
  {
   "cell_type": "code",
   "execution_count": 19,
   "metadata": {
    "collapsed": false
   },
   "outputs": [],
   "source": [
    "from hardware_utils import part_error_analysis, table_info\n",
    "#     print c[0]\n",
    "#     print c[0].parent\n",
    "#     print (c[0].parent.row_num, c[0].parent.col_num)\n",
    "#     print c[1]\n",
    "#     print c[1].parent\n",
    "#     print (c[1].parent.row_num, c[1].parent.col_num)"
   ]
  },
  {
   "cell_type": "code",
   "execution_count": 21,
   "metadata": {
    "collapsed": false
   },
   "outputs": [],
   "source": [
    "# for c in list(fp)[:5]:\n",
    "#     print c\n",
    "# c = list(fp)[10]\n",
    "# error_analysis(c)\n",
    "# c = list(fp)[10]\n",
    "# part_error_analysis(c)\n",
    "# print c.temp.parent.row_num\n",
    "\n",
    "# for c in list(fp)[:5]:\n",
    "#     print c\n",
    "# print c.temp.parent.html_anc_tags"
   ]
  },
  {
   "cell_type": "code",
   "execution_count": 22,
   "metadata": {
    "collapsed": false
   },
   "outputs": [
    {
     "name": "stdout",
     "output_type": "stream",
     "text": [
      "========================================\n",
      "Scoring on Entity-Level Gold Data\n",
      "========================================\n",
      "Corpus Precision 0.808\n",
      "Corpus Recall    1.0\n",
      "Corpus F1        0.894\n",
      "----------------------------------------\n",
      "TP: 135 | FP: 32 | FN: 0\n",
      "========================================\n",
      "\n"
     ]
    }
   ],
   "source": [
    "from snorkel.models import Corpus\n",
    "from hardware_utils import entity_level_f1\n",
    "import os\n",
    "\n",
    "gold_file = os.environ['SNORKELHOME'] + '/tutorials/tables/data/hardware/hardware_gold.csv'\n",
    "corpus = session.query(Corpus).filter(Corpus.name == 'Hardware Development').one()\n",
    "(TP, FP, FN) = entity_level_f1(tp, fp, tn, fn, gold_file, corpus, 'stg_temp_min')"
   ]
  },
  {
   "cell_type": "code",
   "execution_count": 23,
   "metadata": {
    "collapsed": false
   },
   "outputs": [
    {
     "name": "stdout",
     "output_type": "stream",
     "text": [
      "set([(u'INFINEON-BC817KSERIES_BC818KSERIES-DS-V01_01-EN', u'BC817K-40W', u'-70'), (u'INFINEON-BC817KSERIES_BC818KSERIES-DS-V01_01-EN', u'BC817K-40', u'-70'), (u'INFINEON-BC857SERIES_BC858SERIES_BC859SERIES_BC860SERIES-DS-V01_01-EN', u'BC857CW', u'-60'), (u'INFINEON-BC857SERIES_BC858SERIES_BC859SERIES_BC860SERIES-DS-V01_01-EN', u'BC858C', u'-60'), (u'INFINEON-BC817KSERIES_BC818KSERIES-DS-V01_01-EN', u'BC817K-16W', u'-70'), (u'INFINEON-BC817KSERIES_BC818KSERIES-DS-V01_01-EN', u'BC817K-25W', u'-70'), (u'INFINEON-BC857SERIES_BC858SERIES_BC859SERIES_BC860SERIES-DS-V01_01-EN', u'BC857B', u'-60'), (u'INFINEON-BC857SERIES_BC858SERIES_BC859SERIES_BC860SERIES-DS-V01_01-EN', u'BC858B', u'-60'), (u'INFINEON-BC857SERIES_BC858SERIES_BC859SERIES_BC860SERIES-DS-V01_01-EN', u'BC857BL3', u'-60'), (u'INFINEON-BC817KSERIES_BC818KSERIES-DS-V01_01-EN', u'BC817K-25', u'-70'), (u'INFINEON-BC857SERIES_BC858SERIES_BC859SERIES_BC860SERIES-DS-V01_01-EN', u'BC858CW', u'-60'), (u'INFINEON-BC857SERIES_BC858SERIES_BC859SERIES_BC860SERIES-DS-V01_01-EN', u'BC857', u'-60'), (u'INFINEON-BC857SERIES_BC858SERIES_BC859SERIES_BC860SERIES-DS-V01_01-EN', u'BC859C', u'-60'), (u'INFINEON-BC857SERIES_BC858SERIES_BC859SERIES_BC860SERIES-DS-V01_01-EN', u'BC859', u'-60'), (u'INFINEON-BC857SERIES_BC858SERIES_BC859SERIES_BC860SERIES-DS-V01_01-EN', u'BC860BW', u'-60'), (u'INFINEON-BC857SERIES_BC858SERIES_BC859SERIES_BC860SERIES-DS-V01_01-EN', u'BC857C', u'-60'), (u'INFINEON-BC817KSERIES_BC818KSERIES-DS-V01_01-EN', u'BC818K-16W', u'-70'), (u'INFINEON-BC857SERIES_BC858SERIES_BC859SERIES_BC860SERIES-DS-V01_01-EN', u'BC860B', u'-60'), (u'INFINEON-BC817KSERIES_BC818KSERIES-DS-V01_01-EN', u'BC818K-40', u'-70'), (u'INFINEON-BC817KSERIES_BC818KSERIES-DS-V01_01-EN', u'BC818K', u'-70'), (u'INFINEON-BC857SERIES_BC858SERIES_BC859SERIES_BC860SERIES-DS-V01_01-EN', u'BC860CW', u'-60'), (u'INFINEON-BC857SERIES_BC858SERIES_BC859SERIES_BC860SERIES-DS-V01_01-EN', u'BC857BW', u'-60'), (u'INFINEON-BC857SERIES_BC858SERIES_BC859SERIES_BC860SERIES-DS-V01_01-EN', u'BC857A', u'-60'), (u'INFINEON-BC817KSERIES_BC818KSERIES-DS-V01_01-EN', u'BC818KW', u'-70'), (u'INFINEON-BC817KSERIES_BC818KSERIES-DS-V01_01-EN', u'BC817KW', u'-70'), (u'INFINEON-BC857SERIES_BC858SERIES_BC859SERIES_BC860SERIES-DS-V01_01-EN', u'BC858A', u'-60'), (u'INFINEON-BC857SERIES_BC858SERIES_BC859SERIES_BC860SERIES-DS-V01_01-EN', u'BC858', u'-60'), (u'INFINEON-BC817KSERIES_BC818KSERIES-DS-V01_01-EN', u'BC817K-16', u'-70'), (u'PHGLS18216-1', u'BC847CW', u'-65'), (u'INFINEON-BC817KSERIES_BC818KSERIES-DS-V01_01-EN', u'BC817K', u'-70'), (u'INFINEON-BC857SERIES_BC858SERIES_BC859SERIES_BC860SERIES-DS-V01_01-EN', u'BC858BW', u'-60'), (u'INFINEON-BC857SERIES_BC858SERIES_BC859SERIES_BC860SERIES-DS-V01_01-EN', u'BC860', u'-60')])\n"
     ]
    }
   ],
   "source": [
    "print FP"
   ]
  },
  {
   "cell_type": "code",
   "execution_count": null,
   "metadata": {
    "collapsed": true
   },
   "outputs": [],
   "source": [
    "import os\n",
    "os.system('cp snorkel.db snorkel.db\\ final');"
   ]
  },
  {
   "cell_type": "markdown",
   "metadata": {},
   "source": [
    "The End."
   ]
  }
 ],
 "metadata": {
  "anaconda-cloud": {},
  "kernelspec": {
   "display_name": "Python [default]",
   "language": "python",
   "name": "python2"
  },
  "language_info": {
   "codemirror_mode": {
    "name": "ipython",
    "version": 2
   },
   "file_extension": ".py",
   "mimetype": "text/x-python",
   "name": "python",
   "nbconvert_exporter": "python",
   "pygments_lexer": "ipython2",
   "version": "2.7.10"
  }
 },
 "nbformat": 4,
 "nbformat_minor": 0
}
