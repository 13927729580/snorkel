{
 "cells": [
  {
   "cell_type": "code",
   "execution_count": 1,
   "metadata": {
    "collapsed": false
   },
   "outputs": [],
   "source": [
    "import os\n",
    "os.remove('snorkel.db') #need these two files to exist in sandbox directory. Just copy from tutorials\n",
    "os.system('cp snorkel.db\\ corpus snorkel.db');"
   ]
  },
  {
   "cell_type": "code",
   "execution_count": 2,
   "metadata": {
    "collapsed": false
   },
   "outputs": [],
   "source": [
    "%load_ext autoreload\n",
    "%autoreload 2\n",
    "%matplotlib inline\n",
    "\n",
    "from snorkel import SnorkelSession\n",
    "session = SnorkelSession()\n",
    "\n",
    "import sys\n",
    "sys.path.append(os.environ['SNORKELHOME'] + '/tutorials/tables/')"
   ]
  },
  {
   "cell_type": "code",
   "execution_count": 3,
   "metadata": {
    "collapsed": false
   },
   "outputs": [
    {
     "name": "stdout",
     "output_type": "stream",
     "text": [
      "Corpus (Hardware) contains 97 Documents\n"
     ]
    }
   ],
   "source": [
    "from snorkel.models import Corpus\n",
    "\n",
    "corpus = session.query(Corpus).filter(Corpus.name == 'Hardware').one()\n",
    "print \"%s contains %d Documents\" % (corpus, len(corpus))"
   ]
  },
  {
   "cell_type": "code",
   "execution_count": 4,
   "metadata": {
    "collapsed": false
   },
   "outputs": [],
   "source": [
    "# Make parts list\n",
    "from hardware_utils import get_gold_dict\n",
    "from collections import defaultdict\n",
    "gold_file = os.environ['SNORKELHOME'] + '/tutorials/tables/data/hardware/hardware_dev/hardware_dev_gold.csv'\n",
    "gold_parts = get_gold_dict(gold_file, doc_on=True, part_on=True, val_on=False)\n",
    "parts_by_doc = defaultdict(set)\n",
    "for part in gold_parts:\n",
    "    parts_by_doc[part[0]].add(part[1])"
   ]
  },
  {
   "cell_type": "code",
   "execution_count": 5,
   "metadata": {
    "collapsed": false
   },
   "outputs": [],
   "source": [
    "from hardware_utils import OmniNgramsPart, load_extended_parts_dict, part_rgx\n",
    "from snorkel.models import candidate_subclass\n",
    "from snorkel.matchers import RegexMatchSpan\n",
    "\n",
    "Part = candidate_subclass('Part', ['part'])\n",
    "part_ngrams = OmniNgramsPart(n_max=3, parts_by_doc=None)\n",
    "part_matcher = RegexMatchSpan(rgx=part_rgx())"
   ]
  },
  {
   "cell_type": "code",
   "execution_count": 6,
   "metadata": {
    "collapsed": false
   },
   "outputs": [
    {
     "name": "stdout",
     "output_type": "stream",
     "text": [
      "809 gold parts loaded\n"
     ]
    }
   ],
   "source": [
    "from hardware_utils import get_gold_dict\n",
    "\n",
    "gold_file = os.environ['SNORKELHOME'] + '/tutorials/tables/data/hardware/hardware_dev/hardware_dev_gold.csv'\n",
    "gold_parts = get_gold_dict(gold_file, doc_on=True, part_on=True, val_on=False)\n",
    "print \"%d gold parts loaded\" % len(gold_parts)"
   ]
  },
  {
   "cell_type": "code",
   "execution_count": 7,
   "metadata": {
    "collapsed": false
   },
   "outputs": [],
   "source": [
    "from snorkel.candidates import CandidateExtractor\n",
    "\n",
    "ce = CandidateExtractor(Part, \n",
    "                        [part_ngrams], \n",
    "                        [part_matcher],\n",
    "                        throttler=None)"
   ]
  },
  {
   "cell_type": "code",
   "execution_count": 8,
   "metadata": {
    "collapsed": false
   },
   "outputs": [
    {
     "name": "stdout",
     "output_type": "stream",
     "text": [
      "[========================================] 100%\n",
      "CPU times: user 40.6 s, sys: 924 ms, total: 41.5 s\n",
      "Wall time: 44.1 s\n",
      "Candidate Set (Hardware Candidates) contains 6976 Candidates\n"
     ]
    }
   ],
   "source": [
    "%time candidates = ce.extract(corpus.documents, 'Hardware Candidates', session)\n",
    "print \"%s contains %d Candidates\" % (candidates, len(candidates))"
   ]
  },
  {
   "cell_type": "code",
   "execution_count": 9,
   "metadata": {
    "collapsed": false
   },
   "outputs": [
    {
     "name": "stdout",
     "output_type": "stream",
     "text": [
      "========================================\n",
      "Scoring on Entity-Level Gold Data\n",
      "========================================\n",
      "Corpus Precision 0.324\n",
      "Corpus Recall    0.89\n",
      "Corpus F1        0.475\n",
      "----------------------------------------\n",
      "TP: 720 | FP: 1502 | FN: 89\n",
      "========================================\n",
      "\n",
      "CPU times: user 24.8 s, sys: 493 ms, total: 25.3 s\n",
      "Wall time: 25.4 s\n"
     ]
    }
   ],
   "source": [
    "from hardware_utils import parts_f1\n",
    "\n",
    "%time tp, fp, fn = parts_f1(candidates, gold_parts)"
   ]
  },
  {
   "cell_type": "code",
   "execution_count": 10,
   "metadata": {
    "collapsed": false
   },
   "outputs": [
    {
     "name": "stdout",
     "output_type": "stream",
     "text": [
      "[('BC337', 'BC337-16'),\n",
      " ('BC337', 'BC337-25'),\n",
      " ('BC337', 'BC337-40'),\n",
      " ('BC337', 'BC338-25'),\n",
      " ('BC550', 'BC546A'),\n",
      " ('BC550', 'BC546B'),\n",
      " ('BC550', 'BC546C'),\n",
      " ('BC550', 'BC547A'),\n",
      " ('BC550', 'BC547B'),\n",
      " ('BC550', 'BC547C'),\n",
      " ('BC550', 'BC548A'),\n",
      " ('BC550', 'BC548B'),\n",
      " ('BC550', 'BC548C'),\n",
      " ('BC550', 'BC549A'),\n",
      " ('BC550', 'BC549B'),\n",
      " ('BC550', 'BC549C'),\n",
      " ('BC550', 'BC550A'),\n",
      " ('BC550', 'BC550B'),\n",
      " ('BC550', 'BC550C'),\n",
      " ('BC818', 'BC817-16'),\n",
      " ('BC818', 'BC817-25'),\n",
      " ('BC818', 'BC817-40'),\n",
      " ('BC818', 'BC818-16'),\n",
      " ('BC818', 'BC818-25'),\n",
      " ('BC818', 'BC818-40'),\n",
      " ('FAIRS19194-1', 'BC856A'),\n",
      " ('FAIRS19194-1', 'BC856B'),\n",
      " ('FAIRS19194-1', 'BC856C'),\n",
      " ('FAIRS19194-1', 'BC857A'),\n",
      " ('FAIRS19194-1', 'BC857B'),\n",
      " ('FAIRS19194-1', 'BC857C'),\n",
      " ('FAIRS19194-1', 'BC858A'),\n",
      " ('FAIRS19194-1', 'BC858B'),\n",
      " ('FAIRS19194-1', 'BC858C'),\n",
      " ('FAIRS19194-1', 'BC859A'),\n",
      " ('FAIRS19194-1', 'BC859B'),\n",
      " ('FAIRS19194-1', 'BC859C'),\n",
      " ('FAIRS19194-1', 'BC860A'),\n",
      " ('FAIRS19194-1', 'BC860B'),\n",
      " ('FAIRS19194-1', 'BC860C'),\n",
      " ('FAIRS25065-1', 'BC237C'),\n",
      " ('FAIRS25065-1', 'BC238A'),\n",
      " ('FAIRS25065-1', 'BC238B'),\n",
      " ('FAIRS25065-1', 'BC238C'),\n",
      " ('FAIRS25065-1', 'BC239A'),\n",
      " ('FAIRS25065-1', 'BC239B'),\n",
      " ('FAIRS25065-1', 'BC239C'),\n",
      " ('KECCS05435-1', 'BC546A'),\n",
      " ('KECCS05435-1', 'BC546B'),\n",
      " ('KECCS05435-1', 'BC547A'),\n",
      " ('KECCS05435-1', 'BC547B'),\n",
      " ('KECCS05435-1', 'BC547C'),\n",
      " ('KECCS05435-1', 'BC548A'),\n",
      " ('KECCS05435-1', 'BC548B'),\n",
      " ('KECCS05435-1', 'BC548C'),\n",
      " ('LITES00689-1', 'BC337-16'),\n",
      " ('LITES00689-1', 'BC337-25'),\n",
      " ('LITES00689-1', 'BC337-40'),\n",
      " ('LITES00690-1', 'BC546A'),\n",
      " ('LITES00690-1', 'BC546B'),\n",
      " ('LITES00690-1', 'BC546C'),\n",
      " ('LITES00690-1', 'BC547A'),\n",
      " ('LITES00690-1', 'BC547B'),\n",
      " ('LITES00690-1', 'BC547C'),\n",
      " ('LITES00690-1', 'BC548A'),\n",
      " ('LITES00690-1', 'BC548B'),\n",
      " ('LITES00690-1', 'BC548C'),\n",
      " ('UTCLS02155-1', 'BC807-16'),\n",
      " ('UTCLS02155-1', 'BC807-25'),\n",
      " ('UTCLS02155-1', 'BC807-40'),\n",
      " ('UTCLS02155-1', 'BC808-16'),\n",
      " ('UTCLS02155-1', 'BC808-25'),\n",
      " ('UTCLS02155-1', 'BC808-40'),\n",
      " ('VISHS23888-1', 'BC546A'),\n",
      " ('VISHS23888-1', 'BC546B'),\n",
      " ('VISHS23888-1', 'BC547A'),\n",
      " ('VISHS23888-1', 'BC547B'),\n",
      " ('VISHS23888-1', 'BC547C'),\n",
      " ('VISHS23888-1', 'BC548A'),\n",
      " ('VISHS23888-1', 'BC548B'),\n",
      " ('VISHS23888-1', 'BC548C'),\n",
      " ('VISHS23888-1', 'BC549B'),\n",
      " ('VISHS23888-1', 'BC549C'),\n",
      " ('VSMIS00373-1', 'BC337-16'),\n",
      " ('VSMIS00373-1', 'BC337-25'),\n",
      " ('VSMIS00373-1', 'BC337-40'),\n",
      " ('VSMIS00373-1', 'BC338-16'),\n",
      " ('VSMIS00373-1', 'BC338-25'),\n",
      " ('VSMIS00373-1', 'BC338-40')]\n"
     ]
    }
   ],
   "source": [
    "from pprint import pprint\n",
    "pprint(sorted(fn)[:100])"
   ]
  },
  {
   "cell_type": "code",
   "execution_count": null,
   "metadata": {
    "collapsed": true
   },
   "outputs": [],
   "source": []
  },
  {
   "cell_type": "markdown",
   "metadata": {},
   "source": [
    "The End."
   ]
  }
 ],
 "metadata": {
  "anaconda-cloud": {},
  "kernelspec": {
   "display_name": "Python [default]",
   "language": "python",
   "name": "python2"
  },
  "language_info": {
   "codemirror_mode": {
    "name": "ipython",
    "version": 2
   },
   "file_extension": ".py",
   "mimetype": "text/x-python",
   "name": "python",
   "nbconvert_exporter": "python",
   "pygments_lexer": "ipython2",
   "version": "2.7.10"
  }
 },
 "nbformat": 4,
 "nbformat_minor": 1
}
