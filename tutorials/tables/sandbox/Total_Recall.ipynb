{
 "cells": [
  {
   "cell_type": "code",
   "execution_count": 1,
   "metadata": {
    "collapsed": false
   },
   "outputs": [],
   "source": [
    "import os\n",
    "os.remove('snorkel.db')\n",
    "os.system('cp snorkel.db\\ corpus snorkel.db');"
   ]
  },
  {
   "cell_type": "code",
   "execution_count": 2,
   "metadata": {
    "collapsed": false
   },
   "outputs": [],
   "source": [
    "%load_ext autoreload\n",
    "%autoreload 2\n",
    "%matplotlib inline\n",
    "\n",
    "from snorkel import SnorkelSession\n",
    "session = SnorkelSession()\n",
    "\n",
    "import os, sys\n",
    "sys.path.append(os.environ['SNORKELHOME'] + '/tutorials/tables/')"
   ]
  },
  {
   "cell_type": "markdown",
   "metadata": {},
   "source": [
    "### Extraction"
   ]
  },
  {
   "cell_type": "code",
   "execution_count": 3,
   "metadata": {
    "collapsed": false
   },
   "outputs": [
    {
     "name": "stdout",
     "output_type": "stream",
     "text": [
      "Corpus (Hardware) contains 100 Documents\n"
     ]
    }
   ],
   "source": [
    "from snorkel.models import Corpus\n",
    "\n",
    "corpus = session.query(Corpus).filter(Corpus.name == 'Hardware').one()\n",
    "print \"%s contains %d Documents\" % (corpus, len(corpus))"
   ]
  },
  {
   "cell_type": "code",
   "execution_count": 4,
   "metadata": {
    "collapsed": true
   },
   "outputs": [],
   "source": [
    "from snorkel.models import candidate_subclass\n",
    "\n",
    "Part = candidate_subclass('Part', ['part'])"
   ]
  },
  {
   "cell_type": "code",
   "execution_count": 5,
   "metadata": {
    "collapsed": false
   },
   "outputs": [],
   "source": [
    "from hardware_utils import OmniNgramsHardware\n",
    "\n",
    "hardware_ngrams = OmniNgramsHardware(n_max=3, split_tokens=None)"
   ]
  },
  {
   "cell_type": "code",
   "execution_count": 6,
   "metadata": {
    "collapsed": false
   },
   "outputs": [
    {
     "name": "stdout",
     "output_type": "stream",
     "text": [
      "Loaded 1286 part numbers.\n"
     ]
    }
   ],
   "source": [
    "from hardware_utils import load_extended_parts_dict\n",
    "from snorkel.matchers import DictionaryMatch\n",
    "\n",
    "filename = os.environ['SNORKELHOME'] + '/tutorials/tables/data/hardware/hardware_gold.csv'\n",
    "parts_dict = load_extended_parts_dict(filename)\n",
    "print \"Loaded %d part numbers.\" % len(parts_dict)\n",
    "\n",
    "parts_matcher = DictionaryMatch(d=parts_dict, ignore_case=True)"
   ]
  },
  {
   "cell_type": "code",
   "execution_count": 7,
   "metadata": {
    "collapsed": true
   },
   "outputs": [],
   "source": [
    "from snorkel.candidates import CandidateExtractor\n",
    "\n",
    "ce = CandidateExtractor(Part, [hardware_ngrams], [parts_matcher])"
   ]
  },
  {
   "cell_type": "code",
   "execution_count": 8,
   "metadata": {
    "collapsed": false
   },
   "outputs": [
    {
     "name": "stdout",
     "output_type": "stream",
     "text": [
      "[========================================] 100%\n",
      "\n",
      "CPU times: user 3min 19s, sys: 4.55 s, total: 3min 24s\n",
      "Wall time: 3min 26s\n",
      "Candidate Set (Hardware Candidates) contains 16969 Candidates\n"
     ]
    }
   ],
   "source": [
    "%time candidates = ce.extract(corpus.documents, 'Hardware Candidates', session)\n",
    "print \"%s contains %d Candidates\" % (candidates, len(candidates))"
   ]
  },
  {
   "cell_type": "markdown",
   "metadata": {},
   "source": [
    "### Saving Candidates"
   ]
  },
  {
   "cell_type": "code",
   "execution_count": 9,
   "metadata": {
    "collapsed": true
   },
   "outputs": [],
   "source": [
    "session.add(candidates)\n",
    "session.commit()"
   ]
  },
  {
   "cell_type": "code",
   "execution_count": 10,
   "metadata": {
    "collapsed": true
   },
   "outputs": [],
   "source": [
    "import os\n",
    "os.system('cp snorkel.db snorkel.db\\ candidates');"
   ]
  },
  {
   "cell_type": "markdown",
   "metadata": {},
   "source": [
    "### Reloading Candidates"
   ]
  },
  {
   "cell_type": "code",
   "execution_count": 11,
   "metadata": {
    "collapsed": false
   },
   "outputs": [],
   "source": [
    "from snorkel import SnorkelSession\n",
    "session = SnorkelSession()\n",
    "\n",
    "import os, sys\n",
    "sys.path.append(os.environ['SNORKELHOME'] + '/tutorials/tables/')\n",
    "\n",
    "import os\n",
    "os.remove('snorkel.db')\n",
    "os.system('cp snorkel.db\\ candidates snorkel.db');\n",
    "\n",
    "from snorkel.models import Corpus\n",
    "corpus = session.query(Corpus).filter(Corpus.name == 'Hardware').one()"
   ]
  },
  {
   "cell_type": "code",
   "execution_count": 12,
   "metadata": {
    "collapsed": false
   },
   "outputs": [
    {
     "name": "stdout",
     "output_type": "stream",
     "text": [
      "Candidate Set (Hardware Candidates) contains 16969 Candidates\n"
     ]
    }
   ],
   "source": [
    "from snorkel.models import CandidateSet\n",
    "\n",
    "candidates = session.query(CandidateSet).filter(\n",
    "    CandidateSet.name == 'Hardware Candidates').one()\n",
    "print \"%s contains %d Candidates\" % (candidates, len(candidates))"
   ]
  },
  {
   "cell_type": "markdown",
   "metadata": {},
   "source": [
    "### Error Analysis"
   ]
  },
  {
   "cell_type": "code",
   "execution_count": 20,
   "metadata": {
    "collapsed": false
   },
   "outputs": [
    {
     "name": "stdout",
     "output_type": "stream",
     "text": [
      "16969\n",
      "Part(ImplicitSpan(\"MMBT3904-16\", parent=44040, words=[0,0], position=[1]))\n"
     ]
    }
   ],
   "source": [
    "print len(candidates)\n",
    "print candidates[0]"
   ]
  },
  {
   "cell_type": "code",
   "execution_count": 13,
   "metadata": {
    "collapsed": false
   },
   "outputs": [
    {
     "name": "stdout",
     "output_type": "stream",
     "text": [
      "Preparing gold set...\n",
      "Preparing candidates...\n",
      "[========================================] 100%\n",
      "\n",
      "========================================\n",
      "Scoring on Entity-Level Total Recall\n",
      "========================================\n",
      "Entity-level Candidates extracted: 2196 \n",
      "Entity-level Gold: 542\n",
      "Intersection Candidates: 541\n",
      "----------------------------------------\n",
      "Overlap with Gold:  1.00\n",
      "========================================\n",
      "\n"
     ]
    }
   ],
   "source": [
    "# TEMP\n",
    "from hardware_utils import entity_level_total_recall\n",
    "\n",
    "filename = os.environ['SNORKELHOME'] + '/tutorials/tables/data/hardware/hardware_gold.csv'\n",
    "(tp, fp, fn) = entity_level_total_recall(candidates, filename, 'stg_temp_min')"
   ]
  },
  {
   "cell_type": "code",
   "execution_count": 14,
   "metadata": {
    "collapsed": false
   },
   "outputs": [
    {
     "name": "stdout",
     "output_type": "stream",
     "text": [
      "('PJECS00521-1', 'MMBT3904')\n"
     ]
    }
   ],
   "source": [
    "for c in list(fn):\n",
    "    print c"
   ]
  },
  {
   "cell_type": "code",
   "execution_count": 15,
   "metadata": {
    "collapsed": false
   },
   "outputs": [
    {
     "name": "stdout",
     "output_type": "stream",
     "text": [
      "MCCCS08984-1\n"
     ]
    }
   ],
   "source": [
    "print candidates[0].part.parent.document.name"
   ]
  },
  {
   "cell_type": "code",
   "execution_count": 16,
   "metadata": {
    "collapsed": false
   },
   "outputs": [
    {
     "name": "stdout",
     "output_type": "stream",
     "text": [
      "BC856\n",
      "BC856-16\n",
      "BC856-25\n",
      "BC856-40\n",
      "BC856A\n",
      "BC856B\n",
      "BC856C\n"
     ]
    }
   ],
   "source": [
    "from hardware_utils import expand_part_range\n",
    "\n",
    "for p in expand_part_range(\"BC 856 A\"): print p"
   ]
  },
  {
   "cell_type": "code",
   "execution_count": 17,
   "metadata": {
    "collapsed": false
   },
   "outputs": [
    {
     "data": {
      "text/plain": [
       "True"
      ]
     },
     "execution_count": 17,
     "metadata": {},
     "output_type": "execute_result"
    }
   ],
   "source": [
    "\"BC 856 A\" in parts_dict"
   ]
  },
  {
   "cell_type": "code",
   "execution_count": null,
   "metadata": {
    "collapsed": false
   },
   "outputs": [],
   "source": [
    "for c in candidates:\n",
    "    if c.part.parent.document.name == \"SIEMS01215-1\":\n",
    "        import pdb; pdb.set_trace()"
   ]
  },
  {
   "cell_type": "code",
   "execution_count": null,
   "metadata": {
    "collapsed": false
   },
   "outputs": [],
   "source": [
    "# for c in candidates:\n",
    "#     if c.part.get_span() == 'BC858A':\n",
    "#         import pdb; pdb.set_trace()"
   ]
  },
  {
   "cell_type": "code",
   "execution_count": null,
   "metadata": {
    "collapsed": true
   },
   "outputs": [],
   "source": [
    "# def get_doc(corpus, doc_name):\n",
    "#     for doc in corpus.documents:\n",
    "#         if doc.name.upper() == doc_name.upper():\n",
    "#             return doc"
   ]
  },
  {
   "cell_type": "code",
   "execution_count": null,
   "metadata": {
    "collapsed": false
   },
   "outputs": [],
   "source": [
    "for c in candidates[100:200]:\n",
    "    print c"
   ]
  },
  {
   "cell_type": "code",
   "execution_count": null,
   "metadata": {
    "collapsed": false
   },
   "outputs": [],
   "source": [
    "# doc = get_doc(corpus, 'Infineon-BC857SERIES_BC858SERIES_BC859SERIES_BC860SERIES-DS-v01_01-en')\n",
    "# for phrase in doc.phrases:\n",
    "#     if 'BC857CW' in phrase.words:\n",
    "#         import pdb; pdb.set_trace()"
   ]
  },
  {
   "cell_type": "code",
   "execution_count": null,
   "metadata": {
    "collapsed": true
   },
   "outputs": [],
   "source": []
  }
 ],
 "metadata": {
  "anaconda-cloud": {},
  "kernelspec": {
   "display_name": "Python [default]",
   "language": "python",
   "name": "python2"
  },
  "language_info": {
   "codemirror_mode": {
    "name": "ipython",
    "version": 2
   },
   "file_extension": ".py",
   "mimetype": "text/x-python",
   "name": "python",
   "nbconvert_exporter": "python",
   "pygments_lexer": "ipython2",
   "version": "2.7.12"
  }
 },
 "nbformat": 4,
 "nbformat_minor": 0
}
