{
 "cells": [
  {
   "cell_type": "code",
   "execution_count": 1,
   "metadata": {
    "collapsed": false,
    "scrolled": true
   },
   "outputs": [
    {
     "name": "stdout",
     "output_type": "stream",
     "text": [
      "False\n"
     ]
    }
   ],
   "source": [
    "%load_ext autoreload\n",
    "%autoreload 2\n",
    "%matplotlib inline\n",
    "\n",
    "import os\n",
    "import sys\n",
    "sys.path.append(os.environ['SNORKELHOME'] + '/tutorials/tables/')\n",
    "snorkel_postgres = os.environ.get('SNORKELDB','').startswith('postgres')\n",
    "print snorkel_postgres"
   ]
  },
  {
   "cell_type": "markdown",
   "metadata": {},
   "source": [
    "### Parse"
   ]
  },
  {
   "cell_type": "code",
   "execution_count": 2,
   "metadata": {
    "collapsed": true
   },
   "outputs": [],
   "source": [
    "# If necessary:\n",
    "import os\n",
    "if snorkel_postgres:\n",
    "    os.environ['SNORKELDBNAME'] = 'stg_temp_max'\n",
    "    os.system(\"dropdb \" + os.environ['SNORKELDBNAME'])\n",
    "    os.system(\"createdb \" + os.environ['SNORKELDBNAME'])\n",
    "else:\n",
    "    try:\n",
    "        os.remove('snorkel.db')\n",
    "    except:\n",
    "        pass\n",
    "\n",
    "from snorkel import SnorkelSession\n",
    "session = SnorkelSession()"
   ]
  },
  {
   "cell_type": "code",
   "execution_count": null,
   "metadata": {
    "collapsed": false
   },
   "outputs": [],
   "source": [
    "import os\n",
    "\n",
    "docs_path = os.environ['SNORKELHOME'] + '/tutorials/tables/data/hardware/dev/html/'\n",
    "pdf_path = os.environ['SNORKELHOME'] + '/tutorials/tables/data/hardware/dev/pdf/'\n",
    "\n",
    "if snorkel_postgres:\n",
    "    from snorkel.async_parser import parse_corpus, HTMLParser, AsyncOmniParser\n",
    "   \n",
    "    # PARSE DEV\n",
    "    print \"Starting async parse...\"\n",
    "    doc_parser = HTMLParser()\n",
    "    context_parser = AsyncOmniParser(blacklist=['style'], flatten=['span','br'], \n",
    "                                     tabular=True, lingual=True,\n",
    "                                     visual=True, pdf_path=pdf_path)\n",
    "    %time corpus = parse_corpus(session, 'Hardware Dev', docs_path,\\\n",
    "                                doc_parser, context_parser,\\\n",
    "                                max_docs=3, parallel=3)\n",
    "    \n",
    "else:\n",
    "    from snorkel.parser import CorpusParser, HTMLParser, OmniParser\n",
    "    from snorkel.utils import get_ORM_instance\n",
    "\n",
    "    # PARSE DEV\n",
    "    print \"Starting sync parse...\"\n",
    "    doc_parser = HTMLParser(path=docs_path)\n",
    "    context_parser = OmniParser(blacklist=['style'], flatten=['span','br'], \n",
    "                                tabular=True, lingual=True,\n",
    "                                visual=True, pdf_path=pdf_path)\n",
    "    cp = CorpusParser(doc_parser, context_parser, max_docs=125)\n",
    "    %time corpus = cp.parse_corpus(name='Hardware Dev', session=session)\n",
    "\n",
    "    session.add(corpus)\n",
    "    session.commit()\n",
    "\n",
    "print \"%s contains %d documents\" % (corpus, len(corpus))"
   ]
  },
  {
   "cell_type": "code",
   "execution_count": null,
   "metadata": {
    "collapsed": true
   },
   "outputs": [],
   "source": [
    "# If necessary:\n",
    "if not snorkel_postgres:\n",
    "    import os\n",
    "    os.system('cp snorkel.db snorkel.db\\ corpus');"
   ]
  },
  {
   "cell_type": "markdown",
   "metadata": {},
   "source": [
    "### Load"
   ]
  },
  {
   "cell_type": "code",
   "execution_count": 3,
   "metadata": {
    "collapsed": false,
    "scrolled": false
   },
   "outputs": [
    {
     "name": "stdout",
     "output_type": "stream",
     "text": [
      "Corpus (Hardware Dev) contains 122 Documents\n"
     ]
    }
   ],
   "source": [
    "from snorkel.models import Corpus\n",
    "import os\n",
    "\n",
    "os.system('cp snorkel.db\\ corpus snorkel.db');\n",
    "from snorkel import SnorkelSession\n",
    "session = SnorkelSession()\n",
    "\n",
    "corpus = session.query(Corpus).filter(Corpus.name == 'Hardware Dev').one()\n",
    "print \"%s contains %d Documents\" % (corpus, len(corpus))\n",
    "\n",
    "# import cPickle as pickle\n",
    "# pickle_file = os.environ['SNORKELHOME'] + '/tutorials/tables/sandbox/parts_by_doc.pkl'\n",
    "# with open(pickle_file, 'r') as f:\n",
    "#     parts_by_doc = pickle.load(f)"
   ]
  },
  {
   "cell_type": "markdown",
   "metadata": {},
   "source": [
    "### 1st pass"
   ]
  },
  {
   "cell_type": "code",
   "execution_count": 14,
   "metadata": {
    "collapsed": false,
    "scrolled": false
   },
   "outputs": [
    {
     "name": "stdout",
     "output_type": "stream",
     "text": [
      "Finding part numbers...\n",
      "[========================================] 100%\n",
      "defaultdict(<type 'set'>, {u'BC818': set([u'25', u'40', u'16']), u'ONSEMICONDUCTOR_MMBT6521LT1': set([u'A']), u'VSMIS00373-1': set([u'-25', u'-40', u'-16']), u'UTCLS02155-1': set([u'25', u'40', u'16']), u'VISHS23888-1': set([u'A', u'C', u'B']), u'FAIRS25065-1': set([u'A', u'C', u'B']), u'FAIRCHILDSEMICONDUCTOR_KSC2310YTA': set([u'Y', u'R', u'O']), u'KECCS05435-1': set([u'A', u'C', u'B']), u'DISES00192-1': set([u'-25', u'-40', u'-16']), u'BC337': set([u'25', u'40', u'16']), u'BC546A_SERIES_B14-521026': set([u'A']), u'DISES00189-1': set([u'A', u'C', u'B']), u'VSMIS03793-1': set([u'25', u'40', u'16']), u'LITES00690-1': set([u'A', u'C', u'B']), u'MCCCS09741-1': set([u'25', u'40', u'16']), u'BC547': set([u'A', u'C', u'B']), u'BC546': set([u'A', u'C', u'B']), u'FAIRS19194-1': set([u'A', u'C', u'B']), u'LITES00689-1': set([u'40', u'16']), u'SANKEN_2SC4886': set([u'Y', u'O']), u'BC550': set([u'A', u'C', u'B']), u'DISES00645-1': set([u'-25', u'-40', u'-16']), u'DISES00490-1': set([u'A', u'C', u'B']), u'KECCS03676-1': set([u'A', u'C', u'B']), u'ZETXS01948-1': set([u'A', u'C', u'B']), u'SANKEN_2SD2643': set([u'Y', u'O']), u'ONSMS04099-1': set([u'A']), u'DISES00616-1': set([u'A', u'C', u'B']), u'BC546_DIOTEC': set([u'A', u'C', u'B'])})\n",
      "Appending suffixes...\n",
      "[========================================] 100%\n"
     ]
    }
   ],
   "source": [
    "from hardware_utils import get_gold_parts_by_doc, get_manual_parts_by_doc\n",
    "from snorkel.utils import get_ORM_instance\n",
    "from snorkel.models import Corpus\n",
    "\n",
    "corpus = get_ORM_instance(Corpus, session, 'Hardware Dev')\n",
    "\n",
    "# parts_by_doc = get_gold_parts_by_doc()\n",
    "parts_by_doc = get_manual_parts_by_doc(corpus)\n",
    "# parts_by_doc = None"
   ]
  },
  {
   "cell_type": "code",
   "execution_count": 15,
   "metadata": {
    "collapsed": false
   },
   "outputs": [],
   "source": [
    "import cPickle as pickle\n",
    "pickle_file = os.environ['SNORKELHOME'] + '/tutorials/tables/sandbox/parts_by_doc.pkl'\n",
    "\n",
    "with open(pickle_file, 'w') as f:\n",
    "    pickle.dump(parts_by_doc, f)"
   ]
  },
  {
   "cell_type": "markdown",
   "metadata": {},
   "source": [
    "### Extraction"
   ]
  },
  {
   "cell_type": "code",
   "execution_count": 7,
   "metadata": {
    "collapsed": false,
    "scrolled": true
   },
   "outputs": [],
   "source": [
    "from hardware_utils import OmniNgramsPart, get_part_matcher, get_part_throttler_wrapper\n",
    "from snorkel.models import candidate_subclass\n",
    "\n",
    "Part = candidate_subclass('Part', ['part'])\n",
    "part_ngrams = OmniNgramsPart(n_max=3, parts_by_doc=parts_by_doc)\n",
    "part_matcher = get_part_matcher()\n",
    "part_throttler = get_part_throttler_wrapper()"
   ]
  },
  {
   "cell_type": "code",
   "execution_count": 8,
   "metadata": {
    "collapsed": true
   },
   "outputs": [],
   "source": [
    "# Attempt at alternative regex:\n",
    "# from snorkel.matchers import RegexMatchSpan, Inverse, Intersect\n",
    "# long_enough = RegexMatchSpan(rgx='[A-Z2][A-Z0-9\\-]{4,}(?:\\/(?:DG|HF))?', ignore_case=False)\n",
    "# at_least_one_number = RegexMatchSpan(rgx='[A-Z0-9\\-\\/]*[0-9][A-Z0-9\\-\\/]*', ignore_case=False)\n",
    "# at_least_one_letter = RegexMatchSpan(rgx='[A-Z0-9\\-\\/]*[A-Z][A-Z0-9\\-\\/]*', ignore_case=False) \n",
    "# bad_form = Inverse(RegexMatchSpan(rgx='(?:[A-Z]+\\d)|(?:[A-Z0-9\\-\\/]{0,2}\\-[A-Z0-9\\-\\/]*)'))\n",
    "# bad_start = Inverse(RegexMatchSpan(rgx='(?:T[O0]|SOT|BRD|FIGURE|EHP)[A-Z0-9\\-\\/]*'))\n",
    "# bad_end = Inverse(RegexMatchSpan(rgx='[A-Z0-9\\-\\/]*(TYP|MAX|MIN|BASE|HZ|MM|VDC|VDF)'))\n",
    "# part_matcher = Intersect(long_enough, at_least_one_number, at_least_one_letter, \n",
    "#                          bad_form, bad_start, bad_end)"
   ]
  },
  {
   "cell_type": "code",
   "execution_count": 9,
   "metadata": {
    "collapsed": false
   },
   "outputs": [],
   "source": [
    "from snorkel.candidates import CandidateExtractor\n",
    "\n",
    "ce = CandidateExtractor(Part, \n",
    "                        [part_ngrams], \n",
    "                        [part_matcher],\n",
    "                        throttler=part_throttler)"
   ]
  },
  {
   "cell_type": "code",
   "execution_count": 10,
   "metadata": {
    "collapsed": false,
    "scrolled": true
   },
   "outputs": [
    {
     "name": "stdout",
     "output_type": "stream",
     "text": [
      "[========================================] 100%\n",
      "CPU times: user 5min 18s, sys: 1min 9s, total: 6min 27s\n",
      "Wall time: 6min 33s\n",
      "Candidate Set (Hardware Candidates) contains 3184 Candidates\n"
     ]
    }
   ],
   "source": [
    "%time candidates = ce.extract(corpus.documents, 'Hardware Candidates', session)\n",
    "print \"%s contains %d Candidates\" % (candidates, len(candidates))"
   ]
  },
  {
   "cell_type": "markdown",
   "metadata": {},
   "source": [
    "### Evaluation"
   ]
  },
  {
   "cell_type": "code",
   "execution_count": 11,
   "metadata": {
    "collapsed": false
   },
   "outputs": [
    {
     "name": "stdout",
     "output_type": "stream",
     "text": [
      "947 gold parts loaded\n"
     ]
    }
   ],
   "source": [
    "from hardware_utils import get_gold_dict\n",
    "\n",
    "gold_file = os.environ['SNORKELHOME'] + '/tutorials/tables/data/hardware/dev/hardware_dev_gold.csv'\n",
    "gold_parts = get_gold_dict(gold_file, doc_on=True, part_on=True, val_on=False)\n",
    "print \"%d gold parts loaded\" % len(gold_parts)"
   ]
  },
  {
   "cell_type": "code",
   "execution_count": 12,
   "metadata": {
    "collapsed": false,
    "scrolled": true
   },
   "outputs": [
    {
     "name": "stdout",
     "output_type": "stream",
     "text": [
      "========================================\n",
      "Scoring on Entity-Level Gold Data\n",
      "========================================\n",
      "Corpus Precision 0.888\n",
      "Corpus Recall    0.718\n",
      "Corpus F1        0.794\n",
      "----------------------------------------\n",
      "TP: 680 | FP: 86 | FN: 267\n",
      "========================================\n",
      "\n",
      "CPU times: user 14 s, sys: 372 ms, total: 14.4 s\n",
      "Wall time: 14.5 s\n"
     ]
    }
   ],
   "source": [
    "from hardware_utils import parts_f1\n",
    "\n",
    "%time TP, FP, FN = parts_f1(candidates, gold_parts)"
   ]
  },
  {
   "cell_type": "code",
   "execution_count": null,
   "metadata": {
    "collapsed": false,
    "scrolled": false
   },
   "outputs": [],
   "source": [
    "from pprint import pprint\n",
    "pprint(FP)"
   ]
  },
  {
   "cell_type": "code",
   "execution_count": 16,
   "metadata": {
    "collapsed": false
   },
   "outputs": [
    {
     "name": "stdout",
     "output_type": "stream",
     "text": [
      "========================================\n",
      "Scoring on Entity-Level Gold Data\n",
      "========================================\n",
      "Corpus Precision 0.821\n",
      "Corpus Recall    0.904\n",
      "Corpus F1        0.861\n",
      "----------------------------------------\n",
      "TP: 856 | FP: 186 | FN: 91\n",
      "========================================\n",
      "\n",
      "CPU times: user 8.55 s, sys: 234 ms, total: 8.78 s\n",
      "Wall time: 8.87 s\n"
     ]
    }
   ],
   "source": [
    "%time TP, FP, FN = parts_f1(candidates, gold_parts, parts_by_doc)"
   ]
  },
  {
   "cell_type": "code",
   "execution_count": 17,
   "metadata": {
    "collapsed": false,
    "scrolled": false
   },
   "outputs": [
    {
     "name": "stdout",
     "output_type": "stream",
     "text": [
      "[(u'BC337', u'BC33716'),\n",
      " (u'BC337', u'BC33725'),\n",
      " (u'BC337', u'BC33740'),\n",
      " (u'BC337', u'BC33740BU'),\n",
      " (u'BC337', u'BC338-16'),\n",
      " (u'BC337', u'BC338-40'),\n",
      " (u'BC337', u'BC33825'),\n",
      " (u'BC337-D', u'BC337-XX'),\n",
      " (u'BC546', u'BC548A'),\n",
      " (u'BC546', u'BC549A'),\n",
      " (u'BC546', u'BC550A'),\n",
      " (u'BC546', u'BC550B'),\n",
      " (u'BC546-BC548C(TO-92)', u'BC546-BC548C'),\n",
      " (u'BC546A_SERIES_B14-521026', u'BC546BA'),\n",
      " (u'BC546A_SERIES_B14-521026', u'BC546CA'),\n",
      " (u'BC546A_SERIES_B14-521026', u'BC547BA'),\n",
      " (u'BC546A_SERIES_B14-521026', u'BC547CA'),\n",
      " (u'BC546A_SERIES_B14-521026', u'BC548BA'),\n",
      " (u'BC546A_SERIES_B14-521026', u'BC548CA'),\n",
      " (u'BC546A_SERIES_B14-521026', u'BC549BA'),\n",
      " (u'BC546A_SERIES_B14-521026', u'BC549CA'),\n",
      " (u'BC546A_SERIES_B14-521026', u'BC550BA'),\n",
      " (u'BC546A_SERIES_B14-521026', u'BC550CA'),\n",
      " (u'BC546_DIOTEC', u'BC546C'),\n",
      " (u'BC546_DIOTEC', u'BC549A'),\n",
      " (u'BC547', u'BC548A'),\n",
      " (u'BC547', u'BC548BU'),\n",
      " (u'BC547', u'BC549A'),\n",
      " (u'BC547', u'BC550A'),\n",
      " (u'BC547', u'BC550B'),\n",
      " (u'BC818-40LT1-D', u'BC818-40LT1'),\n",
      " (u'CSEMS05382-1', u'BC546-48ABC'),\n",
      " (u'DIODESINCORPORATED_FCX491ATA', u'AP02001'),\n",
      " (u'DIODESINCORPORATED_FCX491ATA', u'AP02002'),\n",
      " (u'DIODESINCORPORATED_FZT651TC', u'AP02001'),\n",
      " (u'DIODESINCORPORATED_FZT651TC', u'AP02002'),\n",
      " (u'DIODESINCORPORATED_ZXT690BKTC', u'AP02001'),\n",
      " (u'DIODESINCORPORATED_ZXT690BKTC', u'AP02002'),\n",
      " (u'DIODESINCORPORATED_ZXT690BKTC', u'ZXT690B'),\n",
      " (u'DIODS13249-1', u'BC808'),\n",
      " (u'DIODS13249-1', u'BC81840'),\n",
      " (u'DISES00189-1', u'BC546C'),\n",
      " (u'DISES00189-1', u'BC546XBK'),\n",
      " (u'DISES00189-1', u'BC547XBK'),\n",
      " (u'DISES00189-1', u'BC548XBK'),\n",
      " (u'DISES00189-1', u'BC549A'),\n",
      " (u'DISES00189-1', u'BC549XBK'),\n",
      " (u'DISES00490-1', u'BC846WA'),\n",
      " (u'DISES00490-1', u'BC846WB'),\n",
      " (u'DISES00490-1', u'BC846WC'),\n",
      " (u'DISES00490-1', u'BC847WA'),\n",
      " (u'DISES00490-1', u'BC847WB'),\n",
      " (u'DISES00490-1', u'BC847WC'),\n",
      " (u'DISES00490-1', u'BC848WA'),\n",
      " (u'DISES00490-1', u'BC848WB'),\n",
      " (u'DISES00490-1', u'BC848WC'),\n",
      " (u'DISES00490-1', u'BC849WA'),\n",
      " (u'DISES00490-1', u'BC849WB'),\n",
      " (u'DISES00490-1', u'BC849WC'),\n",
      " (u'DISES00616-1', u'BC859A'),\n",
      " (u'DISES00616-1', u'BC860A'),\n",
      " (u'INFINEON-BC817KSERIES_BC818KSERIES-DS-V01_01-EN', u'AN077'),\n",
      " (u'INFINEON-BC817KSERIES_BC818KSERIES-DS-V01_01-EN', u'BC817'),\n",
      " (u'INFINEON-BC817KSERIES_BC818KSERIES-DS-V01_01-EN', u'BC818'),\n",
      " (u'INFINEON-BC857SERIES_BC858SERIES_BC859SERIES_BC860SERIES-DS-V01_01-EN',\n",
      "  u'AN077'),\n",
      " (u'INFINEON-BC857SERIES_BC858SERIES_BC859SERIES_BC860SERIES-DS-V01_01-EN',\n",
      "  u'BC850'),\n",
      " (u'INFINEON-BC857SERIES_BC858SERIES_BC859SERIES_BC860SERIES-DS-V01_01-EN',\n",
      "  u'BC857-BC860'),\n",
      " (u'INFINEON-BC857SERIES_BC858SERIES_BC859SERIES_BC860SERIES-DS-V01_01-EN',\n",
      "  u'BC857W'),\n",
      " (u'INFINEON-BC857SERIES_BC858SERIES_BC859SERIES_BC860SERIES-DS-V01_01-EN',\n",
      "  u'BC857W-BC860W'),\n",
      " (u'INFINEON-BC857SERIES_BC858SERIES_BC859SERIES_BC860SERIES-DS-V01_01-EN',\n",
      "  u'BC858W'),\n",
      " (u'INFINEON-BC857SERIES_BC858SERIES_BC859SERIES_BC860SERIES-DS-V01_01-EN',\n",
      "  u'BC859W'),\n",
      " (u'INFINEON-BC857SERIES_BC858SERIES_BC859SERIES_BC860SERIES-DS-V01_01-EN',\n",
      "  u'BC860W'),\n",
      " (u'INFNS19372-1', u'AN077'),\n",
      " (u'KECCS03676-1', u'BC856C'),\n",
      " (u'KECCS05435-1', u'BC546C'),\n",
      " (u'LITES00690-1', u'BC556'),\n",
      " (u'LITES00690-1', u'BC556A'),\n",
      " (u'LITES00690-1', u'BC556B'),\n",
      " (u'LITES00690-1', u'BC556C'),\n",
      " (u'LITES00690-1', u'BC557'),\n",
      " (u'LITES00690-1', u'BC557A'),\n",
      " (u'LITES00690-1', u'BC557B'),\n",
      " (u'LITES00690-1', u'BC557C'),\n",
      " (u'LITES00690-1', u'BC558'),\n",
      " (u'LITES00690-1', u'BC558A'),\n",
      " (u'LITES00690-1', u'BC558B'),\n",
      " (u'LITES00690-1', u'BC558C'),\n",
      " (u'LTSCS02910-1', u'BC818-REV'),\n",
      " (u'LTSCS02912-1', u'BC846W-REV'),\n",
      " (u'LTSCS02920-1', u'BC857-REV'),\n",
      " (u'MCCCS09540-1', u'BC846A-BC849C'),\n",
      " (u'MICROSEMICORPORATION_2N2484UB', u'2N2484'),\n",
      " (u'ONSEMICONDUCTOR_MMBT6521LT1', u'AN569'),\n",
      " (u'ONSEMICONDUCTOR_MMBT6521LT1', u'AN569A'),\n",
      " (u'ONSMS04099-1', u'BC237BA'),\n",
      " (u'ONSMS04099-1', u'BC237CA'),\n",
      " (u'ONSMS04099-1', u'BC238A'),\n",
      " (u'ONSMS04099-1', u'BC238BA'),\n",
      " (u'ONSMS04099-1', u'BC238CA'),\n",
      " (u'ONSMS04099-1', u'BC239A'),\n",
      " (u'ONSMS04099-1', u'MPS3904'),\n",
      " (u'ONSMS04099-1', u'MPS3904A'),\n",
      " (u'PHGLS18216-1', u'BC557'),\n",
      " (u'PHGLS18216-1', u'BC557B'),\n",
      " (u'PHGLS18216-1', u'BC557C'),\n",
      " (u'PHGLS18216-1', u'BC847DG'),\n",
      " (u'PHGLS18216-1', u'BC857'),\n",
      " (u'PHGLS18216-1', u'BC857A'),\n",
      " (u'PHGLS18216-1', u'BC857AM'),\n",
      " (u'PHGLS18216-1', u'BC857AT'),\n",
      " (u'PHGLS18216-1', u'BC857AW'),\n",
      " (u'PHGLS18216-1', u'BC857B'),\n",
      " (u'PHGLS18216-1', u'BC857BM'),\n",
      " (u'PHGLS18216-1', u'BC857BT'),\n",
      " (u'PHGLS18216-1', u'BC857BW'),\n",
      " (u'PHGLS18216-1', u'BC857C'),\n",
      " (u'PHGLS18216-1', u'BC857CM'),\n",
      " (u'PHGLS18216-1', u'BC857CT'),\n",
      " (u'PHGLS18216-1', u'BC857CW'),\n",
      " (u'PHGLS18216-1', u'BC857T'),\n",
      " (u'PHGLS18216-1', u'BC857W'),\n",
      " (u'PHGLS25601-1', u'BC856'),\n",
      " (u'PHGLS25601-1', u'BC856T'),\n",
      " (u'PHGLS25601-1', u'BC856W'),\n",
      " (u'PNJIS01186-1', u'BC807'),\n",
      " (u'PNJIS01593-1', u'BC846'),\n",
      " (u'PNJIS01593-1', u'BC849'),\n",
      " (u'RECTS01158-1', u'BC807-25LT1'),\n",
      " (u'RECTS01214-1', u'DTC114ECA-1'),\n",
      " (u'RECTS01242-1', u'BC857BLT1'),\n",
      " (u'RECTS01325-1', u'DTC114YCA-1'),\n",
      " (u'SANKEN_2SC4886', u'2SC4886O'),\n",
      " (u'SANKEN_2SC4886', u'2SC4886Y'),\n",
      " (u'SANKEN_2SD2643', u'2SD2643O'),\n",
      " (u'SANKEN_2SD2643', u'2SD2643Y'),\n",
      " (u'TWSCS04757-1', u'BC807'),\n",
      " (u'TWSCS04757-1', u'BC807-XX'),\n",
      " (u'UTCLS01324-1', u'MMBT3904-E'),\n",
      " (u'UTCLS03593-1', u'DTC114E-I'),\n",
      " (u'VISHS23888-1', u'BC546C'),\n",
      " (u'VISHS23888-1', u'BC549A'),\n",
      " (u'VSMIS03793-1', u'BC807'),\n",
      " (u'VSMIS03793-1', u'BC807-16'),\n",
      " (u'VSMIS03793-1', u'BC807-25'),\n",
      " (u'VSMIS03793-1', u'BC807-40'),\n",
      " (u'VSMIS03793-1', u'BC808'),\n",
      " (u'VSMIS03793-1', u'BC808-16'),\n",
      " (u'VSMIS03793-1', u'BC808-25'),\n",
      " (u'VSMIS03793-1', u'BC808-40'),\n",
      " (u'WEITS00252-1', u'BC807-1'),\n",
      " (u'WEITS00252-1', u'BC807-17'),\n",
      " (u'ZETXS01948-1', u'BC846'),\n",
      " (u'ZETXS01948-1', u'BC846A'),\n",
      " (u'ZETXS01948-1', u'BC846B'),\n",
      " (u'ZETXS01948-1', u'BC846C'),\n",
      " (u'ZETXS01948-1', u'BC847'),\n",
      " (u'ZETXS01948-1', u'BC847A'),\n",
      " (u'ZETXS01948-1', u'BC847B'),\n",
      " (u'ZETXS01948-1', u'BC847C'),\n",
      " (u'ZETXS01948-1', u'BC848'),\n",
      " (u'ZETXS01948-1', u'BC848A'),\n",
      " (u'ZETXS01948-1', u'BC848B'),\n",
      " (u'ZETXS01948-1', u'BC848C'),\n",
      " (u'ZETXS01948-1', u'BC849'),\n",
      " (u'ZETXS01948-1', u'BC849A'),\n",
      " (u'ZETXS01948-1', u'BC849B'),\n",
      " (u'ZETXS01948-1', u'BC849C'),\n",
      " (u'ZETXS01948-1', u'BC850'),\n",
      " (u'ZETXS01948-1', u'BC850A'),\n",
      " (u'ZETXS01948-1', u'BC850B'),\n",
      " (u'ZETXS01948-1', u'BC850C'),\n",
      " (u'ZETXS01948-1', u'BC856A'),\n",
      " (u'ZETXS01948-1', u'BC856B'),\n",
      " (u'ZETXS01948-1', u'BC856C'),\n",
      " (u'ZETXS01948-1', u'BC857A'),\n",
      " (u'ZETXS01948-1', u'BC857B'),\n",
      " (u'ZETXS01948-1', u'BC857C'),\n",
      " (u'ZETXS01948-1', u'BC858A'),\n",
      " (u'ZETXS01948-1', u'BC858B'),\n",
      " (u'ZETXS01948-1', u'BC858C'),\n",
      " (u'ZETXS01948-1', u'BC859A'),\n",
      " (u'ZETXS01948-1', u'BC859B'),\n",
      " (u'ZETXS01948-1', u'BC859C'),\n",
      " (u'ZETXS01948-1', u'BC860A'),\n",
      " (u'ZETXS01948-1', u'BC860B'),\n",
      " (u'ZETXS01948-1', u'BC860C')]\n"
     ]
    }
   ],
   "source": [
    "pprint(FP)"
   ]
  },
  {
   "cell_type": "code",
   "execution_count": null,
   "metadata": {
    "collapsed": true
   },
   "outputs": [],
   "source": [
    "from hardware_utils import entity_to_candidates, get_part_throttler\n",
    "from snorkel.lf_helpers import *\n",
    "\n",
    "entity = FP[]\n",
    "print entity\n",
    "print\n",
    "\n",
    "matches = entity_to_candidates(entity, candidates)\n",
    "print \"# Matches: %d\" % len(matches)\n",
    "print"
   ]
  },
  {
   "cell_type": "code",
   "execution_count": null,
   "metadata": {
    "collapsed": false
   },
   "outputs": [],
   "source": [
    "from hardware_utils import print_table_info\n",
    "\n",
    "candidate = matches[1]\n",
    "# print candidate\n",
    "# print\n",
    "print_table_info(candidate.part)\n",
    "print list(get_col_ngrams(candidate.part))\n",
    "# throttler = get_part_throttler()\n",
    "# print throttler(candidate)"
   ]
  },
  {
   "cell_type": "code",
   "execution_count": null,
   "metadata": {
    "collapsed": false
   },
   "outputs": [],
   "source": [
    "\n"
   ]
  },
  {
   "cell_type": "code",
   "execution_count": null,
   "metadata": {
    "collapsed": false
   },
   "outputs": [],
   "source": [
    "# from snorkel.lf_helpers import *\n",
    "# c = candidates[110]\n",
    "# print c\n",
    "# get_prev_sibling_tags(c.part).count('p')"
   ]
  },
  {
   "cell_type": "markdown",
   "metadata": {},
   "source": [
    "The End."
   ]
  }
 ],
 "metadata": {
  "anaconda-cloud": {},
  "kernelspec": {
   "display_name": "Python [default]",
   "language": "python",
   "name": "python2"
  },
  "language_info": {
   "codemirror_mode": {
    "name": "ipython",
    "version": 2
   },
   "file_extension": ".py",
   "mimetype": "text/x-python",
   "name": "python",
   "nbconvert_exporter": "python",
   "pygments_lexer": "ipython2",
   "version": "2.7.10"
  }
 },
 "nbformat": 4,
 "nbformat_minor": 1
}
