{
 "cells": [
  {
   "cell_type": "markdown",
   "metadata": {},
   "source": [
    "# polarity"
   ]
  },
  {
   "cell_type": "markdown",
   "metadata": {},
   "source": [
    "## Setup"
   ]
  },
  {
   "cell_type": "code",
   "execution_count": null,
   "metadata": {
    "collapsed": true
   },
   "outputs": [],
   "source": [
    "# If necessary:\n",
    "import os\n",
    "os.remove('snorkel.db')"
   ]
  },
  {
   "cell_type": "code",
   "execution_count": null,
   "metadata": {
    "collapsed": false
   },
   "outputs": [],
   "source": [
    "%load_ext autoreload\n",
    "%autoreload 2\n",
    "%matplotlib inline\n",
    "\n",
    "import os\n",
    "import sys\n",
    "sys.path.append(os.environ['SNORKELHOME'] + '/tutorials/tables/')"
   ]
  },
  {
   "cell_type": "markdown",
   "metadata": {},
   "source": [
    "## Parsing"
   ]
  },
  {
   "cell_type": "code",
   "execution_count": null,
   "metadata": {
    "collapsed": true
   },
   "outputs": [],
   "source": [
    "from snorkel import SnorkelSession\n",
    "session = SnorkelSession()"
   ]
  },
  {
   "cell_type": "markdown",
   "metadata": {},
   "source": [
    "### Define Parser"
   ]
  },
  {
   "cell_type": "code",
   "execution_count": null,
   "metadata": {
    "collapsed": true
   },
   "outputs": [],
   "source": [
    "import os\n",
    "from snorkel.parser import CorpusParser, HTMLParser, OmniParser\n",
    "from snorkel.utils import get_ORM_instance\n",
    "from snorkel.queries import split_corpus\n",
    "\n",
    "docs_path = os.environ['SNORKELHOME'] + '/tutorials/tables/data/hardware/hardware100_html/'\n",
    "doc_parser = HTMLParser(path=docs_path)\n",
    "context_parser = OmniParser()\n",
    "cp = CorpusParser(doc_parser, context_parser, max_docs=100) "
   ]
  },
  {
   "cell_type": "markdown",
   "metadata": {},
   "source": [
    "### Run Parser"
   ]
  },
  {
   "cell_type": "code",
   "execution_count": null,
   "metadata": {
    "collapsed": false,
    "scrolled": true
   },
   "outputs": [],
   "source": [
    "%time corpus = cp.parse_corpus(name='Hardware', session=session)\n",
    "\n",
    "session.add(corpus)\n",
    "session.commit()"
   ]
  },
  {
   "cell_type": "markdown",
   "metadata": {},
   "source": [
    "### Split Corpus"
   ]
  },
  {
   "cell_type": "code",
   "execution_count": null,
   "metadata": {
    "collapsed": false
   },
   "outputs": [],
   "source": [
    "from snorkel.models import Corpus\n",
    "\n",
    "corpus = get_ORM_instance(Corpus, session, 'Hardware')\n",
    "split_corpus(session, corpus, train=0.8, development=0.2, test=0, seed=3)"
   ]
  },
  {
   "cell_type": "code",
   "execution_count": null,
   "metadata": {
    "collapsed": true
   },
   "outputs": [],
   "source": [
    "# If necessary\n",
    "import os\n",
    "os.system('cp snorkel.db snorkel.db\\ corpus');"
   ]
  },
  {
   "cell_type": "markdown",
   "metadata": {},
   "source": [
    "## Extraction"
   ]
  },
  {
   "cell_type": "code",
   "execution_count": 1,
   "metadata": {
    "collapsed": true
   },
   "outputs": [],
   "source": [
    "# If necessary:\n",
    "import os\n",
    "os.remove('snorkel.db');\n",
    "os.system('cp snorkel.db\\ corpus snorkel.db');\n",
    "\n",
    "import sys\n",
    "sys.path.append(os.environ['SNORKELHOME'] + '/tutorials/tables/')\n",
    "\n",
    "from snorkel import SnorkelSession\n",
    "session = SnorkelSession()"
   ]
  },
  {
   "cell_type": "code",
   "execution_count": 2,
   "metadata": {
    "collapsed": false
   },
   "outputs": [],
   "source": [
    "from snorkel.models import candidate_subclass\n",
    "\n",
    "Part_Polarity = candidate_subclass('Part_Polarity', ['part','polarity'])"
   ]
  },
  {
   "cell_type": "markdown",
   "metadata": {},
   "source": [
    "### Define Matchers"
   ]
  },
  {
   "cell_type": "code",
   "execution_count": 3,
   "metadata": {
    "collapsed": true
   },
   "outputs": [],
   "source": [
    "from snorkel.matchers import RegexMatchSpan, Union\n",
    "\n",
    "eeca_matcher = RegexMatchSpan(rgx='([b]{1}[abcdefklnpqruyz]{1}[\\swxyz]?[0-9]{3,5}[\\s]?[A-Z\\/]{0,5}[0-9]?[A-Z]?([-][A-Z0-9]{1,7})?([-][A-Z0-9]{1,2})?)')\n",
    "jedec_matcher = RegexMatchSpan(rgx='([123]N\\d{3,4}[A-Z]{0,5}[0-9]?[A-Z]?)')\n",
    "jis_matcher = RegexMatchSpan(rgx='(2S[abcdefghjkmqrstvz]{1}[\\d]{2,4})')\n",
    "others_matcher = RegexMatchSpan(rgx='((NSVBC|SMBT|MJ|MJE|MPS|MRF|RCA|TIP|ZTX|ZT|TIS|TIPL|DTC|MMBT|PZT){1}[\\d]{2,4}[A-Z]{0,3}([-][A-Z0-9]{0,6})?([-][A-Z0-9]{0,1})?)')\n",
    "parts_matcher = Union(eeca_matcher, jedec_matcher, jis_matcher, others_matcher)\n",
    "\n",
    "polarity_matcher = RegexMatchSpan(rgx=r'(pnp|npn)', ignore_case=True)"
   ]
  },
  {
   "cell_type": "markdown",
   "metadata": {},
   "source": [
    "### Define ContextSpaces"
   ]
  },
  {
   "cell_type": "code",
   "execution_count": 4,
   "metadata": {
    "collapsed": false
   },
   "outputs": [],
   "source": [
    "from snorkel.candidates import OmniNgrams\n",
    "from hardware_utils import OmniNgramsPart, get_gold_dict\n",
    "from collections import defaultdict\n",
    "import os\n",
    "\n",
    "# Make parts list\n",
    "gold_file = os.environ['SNORKELHOME'] + '/tutorials/tables/data/hardware/hardware_gold.csv'\n",
    "gold_parts = get_gold_dict(gold_file, doc_on=True, part_on=True, val_on=False)\n",
    "parts_by_doc = defaultdict(set)\n",
    "for part in gold_parts:\n",
    "    parts_by_doc[part[0]].add(part[1])\n",
    "\n",
    "part_ngrams = OmniNgramsPart(n_max=3, parts_by_doc=None) # NOTE: linking is turned off\n",
    "polarity_ngrams = OmniNgrams(n_max=1)"
   ]
  },
  {
   "cell_type": "markdown",
   "metadata": {},
   "source": [
    "### Run CandidateExtractor"
   ]
  },
  {
   "cell_type": "code",
   "execution_count": 5,
   "metadata": {
    "collapsed": false
   },
   "outputs": [
    {
     "name": "stdout",
     "output_type": "stream",
     "text": [
      "Extracting Candidates from Corpus (Hardware Training)\n",
      "[========================================] 100%\n",
      "CPU times: user 37.4 s, sys: 407 ms, total: 37.8 s\n",
      "Wall time: 38 s\n",
      "Candidate Set (Hardware Training Candidates) contains 15680 Candidates\n",
      "Extracting Candidates from Corpus (Hardware Development)\n",
      "[========================================] 100%\n",
      "CPU times: user 7.64 s, sys: 46.1 ms, total: 7.69 s\n",
      "Wall time: 7.72 s\n",
      "Candidate Set (Hardware Development Candidates) contains 1757 Candidates\n"
     ]
    }
   ],
   "source": [
    "from snorkel.models import Corpus\n",
    "from snorkel.candidates import CandidateExtractor\n",
    "from snorkel.utils import get_ORM_instance\n",
    "ce = CandidateExtractor(Part_Polarity, \n",
    "                        [part_ngrams, polarity_ngrams], \n",
    "                        [parts_matcher, polarity_matcher], \n",
    "                        throttler=None)\n",
    "\n",
    "for corpus_name in ['Hardware Training', 'Hardware Development']:\n",
    "    corpus = get_ORM_instance(Corpus, session, corpus_name)\n",
    "    print \"Extracting Candidates from %s\" % corpus\n",
    "    %time candidates = ce.extract(\\\n",
    "        corpus.documents, corpus_name + ' Candidates', session)\n",
    "    session.add(candidates)\n",
    "    print \"%s contains %d Candidates\" % (candidates, len(candidates))\n",
    "session.commit()"
   ]
  },
  {
   "cell_type": "markdown",
   "metadata": {},
   "source": [
    "### Assess Recall"
   ]
  },
  {
   "cell_type": "code",
   "execution_count": 6,
   "metadata": {
    "collapsed": false
   },
   "outputs": [
    {
     "name": "stdout",
     "output_type": "stream",
     "text": [
      "Preparing candidates...\n",
      "[========================================] 100%\n",
      "========================================\n",
      "Scoring on Entity-Level Total Recall\n",
      "========================================\n",
      "Entity-level Candidates extracted: 1483 \n",
      "Entity-level Gold: 831\n",
      "Intersection Candidates: 699\n",
      "----------------------------------------\n",
      "Overlap with Gold:  0.8412\n",
      "========================================\n",
      "\n"
     ]
    }
   ],
   "source": [
    "from snorkel.models import Candidate\n",
    "from hardware_utils import entity_level_total_recall\n",
    "\n",
    "all_candidates = session.query(Candidate).all()\n",
    "gold_file = os.environ['SNORKELHOME'] + '/tutorials/tables/data/hardware/hardware_gold.csv'\n",
    "(tp, fp, fn) = entity_level_total_recall(\n",
    "    all_candidates, gold_file, 'polarity', relation=True)"
   ]
  },
  {
   "cell_type": "code",
   "execution_count": 7,
   "metadata": {
    "collapsed": false
   },
   "outputs": [
    {
     "name": "stdout",
     "output_type": "stream",
     "text": [
      "set([('BC337', 'BC337-16', 'NPN'),\n",
      "     ('BC337', 'BC337-25', 'NPN'),\n",
      "     ('BC337', 'BC337-40', 'NPN'),\n",
      "     ('BC337', 'BC338-25', 'NPN'),\n",
      "     ('BC337-D', 'BC337-025G', 'NPN'),\n",
      "     ('BC337-D', 'BC337-040G', 'NPN'),\n",
      "     ('BC337-D', 'BC337-25RL1G', 'NPN'),\n",
      "     ('BC337-D', 'BC337-25RLRAG', 'NPN'),\n",
      "     ('BC337-D', 'BC337-25ZL1G', 'NPN'),\n",
      "     ('BC337-D', 'BC337-40RL1G', 'NPN'),\n",
      "     ('BC337-D', 'BC337-40ZL1G', 'NPN'),\n",
      "     ('BC547', 'BC546BCTA', 'NPN'),\n",
      "     ('BC547', 'BC548BBU', 'NPN'),\n",
      "     ('BC550', 'BC546A', 'NPN'),\n",
      "     ('BC550', 'BC546B', 'NPN'),\n",
      "     ('BC550', 'BC546C', 'NPN'),\n",
      "     ('BC550', 'BC547A', 'NPN'),\n",
      "     ('BC550', 'BC547B', 'NPN'),\n",
      "     ('BC550', 'BC547C', 'NPN'),\n",
      "     ('BC550', 'BC548A', 'NPN'),\n",
      "     ('BC550', 'BC548B', 'NPN'),\n",
      "     ('BC550', 'BC548C', 'NPN'),\n",
      "     ('BC550', 'BC549A', 'NPN'),\n",
      "     ('BC550', 'BC549B', 'NPN'),\n",
      "     ('BC550', 'BC549C', 'NPN'),\n",
      "     ('BC550', 'BC550A', 'NPN'),\n",
      "     ('BC550', 'BC550B', 'NPN'),\n",
      "     ('BC550', 'BC550C', 'NPN'),\n",
      "     ('BC818', 'BC817-16', 'NPN'),\n",
      "     ('BC818', 'BC817-25', 'NPN'),\n",
      "     ('BC818', 'BC817-40', 'NPN'),\n",
      "     ('BC818', 'BC818-16', 'NPN'),\n",
      "     ('BC818', 'BC818-25', 'NPN'),\n",
      "     ('BC818', 'BC818-40', 'NPN'),\n",
      "     ('BC818-40LT1-D', 'BC818-40LT1G', 'NPN'),\n",
      "     ('BC818-40LT1-D', 'NSVBC818-40LT1G', 'NPN'),\n",
      "     ('FAIRS19194-1', 'BC856A', 'PNP'),\n",
      "     ('FAIRS19194-1', 'BC856B', 'PNP'),\n",
      "     ('FAIRS19194-1', 'BC856C', 'PNP'),\n",
      "     ('FAIRS19194-1', 'BC857A', 'PNP'),\n",
      "     ('FAIRS19194-1', 'BC857B', 'PNP'),\n",
      "     ('FAIRS19194-1', 'BC857C', 'PNP'),\n",
      "     ('FAIRS19194-1', 'BC858A', 'PNP'),\n",
      "     ('FAIRS19194-1', 'BC858B', 'PNP'),\n",
      "     ('FAIRS19194-1', 'BC858C', 'PNP'),\n",
      "     ('FAIRS19194-1', 'BC859A', 'PNP'),\n",
      "     ('FAIRS19194-1', 'BC859B', 'PNP'),\n",
      "     ('FAIRS19194-1', 'BC859C', 'PNP'),\n",
      "     ('FAIRS19194-1', 'BC860A', 'PNP'),\n",
      "     ('FAIRS19194-1', 'BC860B', 'PNP'),\n",
      "     ('FAIRS19194-1', 'BC860C', 'PNP'),\n",
      "     ('FAIRS25065-1', 'BC237C', 'NPN'),\n",
      "     ('FAIRS25065-1', 'BC238A', 'NPN'),\n",
      "     ('FAIRS25065-1', 'BC238B', 'NPN'),\n",
      "     ('FAIRS25065-1', 'BC238C', 'NPN'),\n",
      "     ('FAIRS25065-1', 'BC239A', 'NPN'),\n",
      "     ('FAIRS25065-1', 'BC239B', 'NPN'),\n",
      "     ('FAIRS25065-1', 'BC239C', 'NPN'),\n",
      "     ('KECCS05435-1', 'BC546A', 'NPN'),\n",
      "     ('KECCS05435-1', 'BC546B', 'NPN'),\n",
      "     ('KECCS05435-1', 'BC547A', 'NPN'),\n",
      "     ('KECCS05435-1', 'BC547B', 'NPN'),\n",
      "     ('KECCS05435-1', 'BC547C', 'NPN'),\n",
      "     ('KECCS05435-1', 'BC548A', 'NPN'),\n",
      "     ('KECCS05435-1', 'BC548B', 'NPN'),\n",
      "     ('KECCS05435-1', 'BC548C', 'NPN'),\n",
      "     ('LITES00689-1', 'BC337-16', 'NPN'),\n",
      "     ('LITES00689-1', 'BC337-25', 'NPN'),\n",
      "     ('LITES00689-1', 'BC337-40', 'NPN'),\n",
      "     ('LITES00690-1', 'BC546A', 'NPN'),\n",
      "     ('LITES00690-1', 'BC546B', 'NPN'),\n",
      "     ('LITES00690-1', 'BC546C', 'NPN'),\n",
      "     ('LITES00690-1', 'BC547A', 'NPN'),\n",
      "     ('LITES00690-1', 'BC547B', 'NPN'),\n",
      "     ('LITES00690-1', 'BC547C', 'NPN'),\n",
      "     ('LITES00690-1', 'BC548A', 'NPN'),\n",
      "     ('LITES00690-1', 'BC548B', 'NPN'),\n",
      "     ('LITES00690-1', 'BC548C', 'NPN'),\n",
      "     ('MOTOS03189-1', 'BC337-16', 'NPN'),\n",
      "     ('MOTOS03189-1', 'BC337-25', 'NPN'),\n",
      "     ('MOTOS03189-1', 'BC337-40', 'NPN'),\n",
      "     ('MOTOS03189-1', 'BC338-16', 'NPN'),\n",
      "     ('MOTOS03189-1', 'BC338-25', 'NPN'),\n",
      "     ('MOTOS03189-1', 'BC338-40', 'NPN'),\n",
      "     ('PHGLS18216-1', 'BC847AT/DG', 'NPN'),\n",
      "     ('PHGLS18216-1', 'BC847B/DG', 'NPN'),\n",
      "     ('PHGLS18216-1', 'BC847BW/DG', 'NPN'),\n",
      "     ('PJECS00521-1', 'MMBT3904', 'NPN'),\n",
      "     ('SAMSD00049-518', 'BC546', 'NPN'),\n",
      "     ('SAMSD00049-518', 'BC546A', 'NPN'),\n",
      "     ('SAMSD00049-518', 'BC546B', 'NPN'),\n",
      "     ('SAMSD00049-518', 'BC546C', 'NPN'),\n",
      "     ('SAMSD00049-518', 'BC547', 'NPN'),\n",
      "     ('SAMSD00049-518', 'BC547A', 'NPN'),\n",
      "     ('SAMSD00049-518', 'BC547B', 'NPN'),\n",
      "     ('SAMSD00049-518', 'BC547C', 'NPN'),\n",
      "     ('SAMSD00049-518', 'BC548', 'NPN'),\n",
      "     ('SAMSD00049-518', 'BC548A', 'NPN'),\n",
      "     ('SAMSD00049-518', 'BC548B', 'NPN'),\n",
      "     ('SAMSD00049-518', 'BC548C', 'NPN'),\n",
      "     ('SAMSD00049-518', 'BC549', 'NPN'),\n",
      "     ('SAMSD00049-518', 'BC549A', 'NPN'),\n",
      "     ('SAMSD00049-518', 'BC549B', 'NPN'),\n",
      "     ('SAMSD00049-518', 'BC549C', 'NPN'),\n",
      "     ('SAMSD00049-518', 'BC550', 'NPN'),\n",
      "     ('SAMSD00049-518', 'BC550A', 'NPN'),\n",
      "     ('SAMSD00049-518', 'BC550B', 'NPN'),\n",
      "     ('SAMSD00049-518', 'BC550C', 'NPN'),\n",
      "     ('UTCLS02155-1', 'BC807', 'PNP'),\n",
      "     ('UTCLS02155-1', 'BC807-16', 'PNP'),\n",
      "     ('UTCLS02155-1', 'BC807-25', 'PNP'),\n",
      "     ('UTCLS02155-1', 'BC807-40', 'PNP'),\n",
      "     ('UTCLS02155-1', 'BC808', 'PNP'),\n",
      "     ('UTCLS02155-1', 'BC808-16', 'PNP'),\n",
      "     ('UTCLS02155-1', 'BC808-25', 'PNP'),\n",
      "     ('UTCLS02155-1', 'BC808-40', 'PNP'),\n",
      "     ('VISHS23888-1', 'BC546A', 'NPN'),\n",
      "     ('VISHS23888-1', 'BC546B', 'NPN'),\n",
      "     ('VISHS23888-1', 'BC547A', 'NPN'),\n",
      "     ('VISHS23888-1', 'BC547B', 'NPN'),\n",
      "     ('VISHS23888-1', 'BC547C', 'NPN'),\n",
      "     ('VISHS23888-1', 'BC548A', 'NPN'),\n",
      "     ('VISHS23888-1', 'BC548B', 'NPN'),\n",
      "     ('VISHS23888-1', 'BC548C', 'NPN'),\n",
      "     ('VISHS23888-1', 'BC549B', 'NPN'),\n",
      "     ('VISHS23888-1', 'BC549C', 'NPN'),\n",
      "     ('VSMIS00373-1', 'BC337-16', 'NPN'),\n",
      "     ('VSMIS00373-1', 'BC337-25', 'NPN'),\n",
      "     ('VSMIS00373-1', 'BC337-40', 'NPN'),\n",
      "     ('VSMIS00373-1', 'BC338-16', 'NPN'),\n",
      "     ('VSMIS00373-1', 'BC338-25', 'NPN'),\n",
      "     ('VSMIS00373-1', 'BC338-40', 'NPN')])\n",
      "132\n"
     ]
    }
   ],
   "source": [
    "from pprint import pprint\n",
    "pprint(fn)\n",
    "print len(fn)"
   ]
  },
  {
   "cell_type": "code",
   "execution_count": 8,
   "metadata": {
    "collapsed": true
   },
   "outputs": [],
   "source": [
    "# If necessary\n",
    "import os\n",
    "os.system('cp snorkel.db snorkel.db\\ candidates');"
   ]
  },
  {
   "cell_type": "markdown",
   "metadata": {},
   "source": [
    "## Gold Labels"
   ]
  },
  {
   "cell_type": "code",
   "execution_count": null,
   "metadata": {
    "collapsed": false
   },
   "outputs": [],
   "source": [
    "# If necessary\n",
    "import os\n",
    "os.remove('snorkel.db');\n",
    "os.system('cp snorkel.db\\ candidates snorkel.db');\n",
    "\n",
    "import sys\n",
    "sys.path.append(os.environ['SNORKELHOME'] + '/tutorials/tables/')\n",
    "\n",
    "from snorkel import SnorkelSession\n",
    "session = SnorkelSession()\n",
    "\n",
    "from snorkel.models import candidate_subclass\n",
    "Part_Polarity = candidate_subclass('Part_Polarity', ['part','polarity'])"
   ]
  },
  {
   "cell_type": "code",
   "execution_count": 9,
   "metadata": {
    "collapsed": false
   },
   "outputs": [
    {
     "name": "stdout",
     "output_type": "stream",
     "text": [
      "Loading 15680 candidate labels\n",
      "[========================================] 100%\n",
      "CPU times: user 39.1 s, sys: 161 ms, total: 39.3 s\n",
      "Wall time: 39.4 s\n",
      "12222/15680 Candidates in Candidate Set (Hardware Training Candidates) have positive Labels\n",
      "Loading 1757 candidate labels\n",
      "[========================================] 100%\n",
      "CPU times: user 8.39 s, sys: 58 ms, total: 8.45 s\n",
      "Wall time: 8.51 s\n",
      "1311/1757 Candidates in Candidate Set (Hardware Development Candidates) have positive Labels\n"
     ]
    }
   ],
   "source": [
    "import os\n",
    "from snorkel.models import CandidateSet\n",
    "from hardware_utils import load_hardware_labels\n",
    "\n",
    "gold_file = os.environ['SNORKELHOME'] + '/tutorials/tables/data/hardware/hardware_gold.csv'\n",
    "for set_name in ['Training', 'Development']:\n",
    "    candidate_set_name = 'Hardware %s Candidates' % set_name\n",
    "    candidates = session.query(CandidateSet).filter(\n",
    "        CandidateSet.name == candidate_set_name).one()\n",
    "    label_set_name = 'Hardware %s Candidates -- Gold' % set_name\n",
    "    annotation_key_name = 'Hardware %s Labels -- Gold' % set_name\n",
    "    %time gold_candidates, annotation_key = load_hardware_labels(session,\\\n",
    "                           label_set_name, \\\n",
    "                           annotation_key_name, \\\n",
    "                           candidates, \\\n",
    "                           gold_file, \\\n",
    "                           'polarity')\n",
    "    candidates_gold = session.query(CandidateSet).filter(\n",
    "        CandidateSet.name == candidate_set_name + ' -- Gold').one()\n",
    "    print \"%d/%d Candidates in %s have positive Labels\" % (\n",
    "        len(candidates_gold), len(candidates), candidates)"
   ]
  },
  {
   "cell_type": "code",
   "execution_count": 10,
   "metadata": {
    "collapsed": true
   },
   "outputs": [],
   "source": [
    "# If necessary\n",
    "import os\n",
    "os.system('cp snorkel.db snorkel.db\\ labels');"
   ]
  },
  {
   "cell_type": "markdown",
   "metadata": {},
   "source": [
    "### Assess Baseline Performance"
   ]
  },
  {
   "cell_type": "code",
   "execution_count": 14,
   "metadata": {
    "collapsed": false
   },
   "outputs": [],
   "source": [
    "# from snorkel.models import Corpus, Candidate\n",
    "# from snorkel.utils import get_ORM_instance\n",
    "# from snorkel.lf_helpers import *\n",
    "# from hardware_utils import entity_level_f1\n",
    "# from itertools import chain\n",
    "\n",
    "# def LF_all_true(c):\n",
    "#     return True\n",
    "\n",
    "# def LF_complement_nearby(c):\n",
    "#     return 1 if set(['complement','complementary']).isdisjoint(\n",
    "#         chain.from_iterable(\n",
    "#             [get_phrase_ngrams(c.part), \n",
    "#              get_phrase_ngrams(c.polarity),\n",
    "#              get_neighbor_phrase_ngrams(c.polarity)])) else 0\n",
    "\n",
    "# candidates = session.query(Candidate).all()\n",
    "# (tp, fp, tn, fn) = baseline(candidates, LF_complement_nearby)\n",
    "\n",
    "# corpus = get_ORM_instance(Corpus, session, 'Hardware')\n",
    "# gold_file = os.environ['SNORKELHOME'] + '/tutorials/tables/data/hardware/hardware_gold.csv'\n",
    "# (TP, FP, FN) = entity_level_f1(tp, fp, tn, fn, gold_file, corpus, 'polarity')"
   ]
  },
  {
   "cell_type": "code",
   "execution_count": 15,
   "metadata": {
    "collapsed": false
   },
   "outputs": [],
   "source": [
    "# from pprint import pprint\n",
    "# pprint(FP)"
   ]
  },
  {
   "cell_type": "code",
   "execution_count": null,
   "metadata": {
    "collapsed": false
   },
   "outputs": [],
   "source": [
    "# pprint(FN)"
   ]
  },
  {
   "cell_type": "code",
   "execution_count": null,
   "metadata": {
    "collapsed": false
   },
   "outputs": [],
   "source": [
    "# from hardware_utils import entity_to_candidates\n",
    "\n",
    "# print len(candidates)\n",
    "# matches = entity_to_candidates((u'SIEMS01215-1', u'BC856', u'NPN'), candidates)\n",
    "# c = matches[0]\n",
    "# print c"
   ]
  },
  {
   "cell_type": "code",
   "execution_count": null,
   "metadata": {
    "collapsed": false
   },
   "outputs": [],
   "source": [
    "# from snorkel.models import ImplicitSpan\n",
    "# from snorkel.lf_helpers import *\n",
    "# phrases = []\n",
    "# print list(get_neighbor_phrase_ngrams(c.polarity))\n",
    "# print c.polarity.parent\n",
    "# print phrases\n",
    "# print \"SPAN_TYPE_[%s]\" % ('IMPLICIT' if isinstance(c.polarity, ImplicitSpan) else 'EXPLICIT')\n",
    "# # list(get_phrase_ngrams(c.polarity))"
   ]
  },
  {
   "cell_type": "markdown",
   "metadata": {},
   "source": [
    "## Features"
   ]
  },
  {
   "cell_type": "code",
   "execution_count": null,
   "metadata": {
    "collapsed": true
   },
   "outputs": [],
   "source": [
    "# If necessary:\n",
    "import os\n",
    "os.remove('snorkel.db');\n",
    "os.system('cp snorkel.db\\ labels snorkel.db');\n",
    "\n",
    "import sys\n",
    "sys.path.append(os.environ['SNORKELHOME'] + '/tutorials/tables/')\n",
    "\n",
    "from snorkel import SnorkelSession\n",
    "session = SnorkelSession()\n",
    "\n",
    "from snorkel.models import candidate_subclass\n",
    "Part_Polarity = candidate_subclass('Part_Polarity', ['part','polarity'])"
   ]
  },
  {
   "cell_type": "markdown",
   "metadata": {},
   "source": [
    "### Extract Features"
   ]
  },
  {
   "cell_type": "code",
   "execution_count": 16,
   "metadata": {
    "collapsed": false
   },
   "outputs": [
    {
     "name": "stdout",
     "output_type": "stream",
     "text": [
      "[========================================] 100%\n",
      "Bulk upserting 1629750 annotations...\n",
      "Done.\n",
      "Loading sparse Feature matrix...\n",
      "CPU times: user 4min 47s, sys: 1min 15s, total: 6min 2s\n",
      "Wall time: 6min 7s\n",
      "[========================================] 100%\n",
      "Bulk upserting 148318 annotations...\n",
      "Done.\n",
      "Loading sparse Feature matrix...\n",
      "CPU times: user 1min, sys: 20.3 s, total: 1min 20s\n",
      "Wall time: 1min 22s\n"
     ]
    }
   ],
   "source": [
    "from snorkel.models import CandidateSet\n",
    "from snorkel.fast_annotations import FeatureManager\n",
    "from snorkel.utils import get_ORM_instance\n",
    "\n",
    "train = get_ORM_instance(CandidateSet, session, 'Hardware Training Candidates')\n",
    "dev   = get_ORM_instance(CandidateSet, session, 'Hardware Development Candidates')\n",
    "\n",
    "feature_manager = FeatureManager()\n",
    "%time F_train = feature_manager.create(session, train, 'Train Features')\n",
    "%time F_dev = feature_manager.update(session, dev, 'Train Features', expand_key_set=False)"
   ]
  },
  {
   "cell_type": "code",
   "execution_count": 17,
   "metadata": {
    "collapsed": true
   },
   "outputs": [],
   "source": [
    "# If necessary:\n",
    "import os\n",
    "os.system('cp snorkel.db snorkel.db\\ featurized');"
   ]
  },
  {
   "cell_type": "markdown",
   "metadata": {},
   "source": [
    "## LFs"
   ]
  },
  {
   "cell_type": "code",
   "execution_count": null,
   "metadata": {
    "collapsed": true
   },
   "outputs": [],
   "source": [
    "# If necessary\n",
    "# import os\n",
    "# os.remove('snorkel.db');\n",
    "# os.system('cp snorkel.db\\ featurized snorkel.db');\n",
    "\n",
    "# from snorkel import SnorkelSession\n",
    "# session = SnorkelSession()\n",
    "\n",
    "# import sys\n",
    "# sys.path.append(os.environ['SNORKELHOME'] + '/tutorials/tables/')\n",
    "\n",
    "# from snorkel.models import candidate_subclass\n",
    "# Part_Polarity = candidate_subclass('Part_Polarity', ['part','polarity'])\n",
    "\n",
    "# from snorkel.models import CandidateSet\n",
    "# train = session.query(CandidateSet).filter(\n",
    "#     CandidateSet.name == 'Hardware Training Candidates').one()"
   ]
  },
  {
   "cell_type": "markdown",
   "metadata": {},
   "source": [
    "### Define LFs"
   ]
  },
  {
   "cell_type": "code",
   "execution_count": 18,
   "metadata": {
    "collapsed": false
   },
   "outputs": [],
   "source": [
    "from snorkel.fast_annotations import LabelManager\n",
    "from snorkel.lf_helpers import *\n",
    "import re\n",
    "label_manager = LabelManager()\n",
    "\n",
    "LFs = []\n",
    "\n",
    "def LF_complement_phrase_part(c):\n",
    "    return -1 if overlap(['complement','complementary'], \n",
    "                         get_phrase_ngrams(c.part)) else 0\n",
    "LFs.append(LF_complement_phrase_part)\n",
    "\n",
    "def LF_complement_phrase_polarity(c):\n",
    "    return -1 if overlap(['complement','complementary'], \n",
    "                         get_phrase_ngrams(c.polarity)) else 0\n",
    "LFs.append(LF_complement_phrase_polarity)\n",
    "\n",
    "def LF_complement_neighbor_polarity(c):\n",
    "    return -1 if overlap(['complement','complementary'], \n",
    "                         get_neighbor_phrase_ngrams(c.polarity)) else 0\n",
    "LFs.append(LF_complement_neighbor_polarity)\n",
    "\n",
    "def LF_top_mark_col_part(c):\n",
    "    return -1 if overlap(['top','mark'],\n",
    "                         get_col_ngrams(c.part)) else 0\n",
    "LFs.append(LF_top_mark_col_part)\n",
    "\n",
    "def LF_endswith_D_part(c):\n",
    "    return -1 if c.part.get_span().endswith('D') else 0\n",
    "LFs.append(LF_endswith_D_part)\n",
    "\n",
    "def LF_default_positive(c):\n",
    "    return 1 if not overlap(['complement','complementary'],\n",
    "                            chain.from_iterable([\n",
    "                            get_phrase_ngrams(c.part),\n",
    "                            get_phrase_ngrams(c.polarity),\n",
    "                            get_neighbor_phrase_ngrams(c.polarity)])) else 0\n",
    "LFs.append(LF_default_positive)"
   ]
  },
  {
   "cell_type": "code",
   "execution_count": 19,
   "metadata": {
    "collapsed": false
   },
   "outputs": [
    {
     "name": "stdout",
     "output_type": "stream",
     "text": [
      "17437\n",
      "Part_Polarity(Span(\"BC846W-REV\", parent=8214, chars=[17,26], words=[3,3]), Span(\"NPN\", parent=73798, chars=[0,2], words=[0,0]))\n",
      "0\n",
      "0\n",
      "0\n",
      "0\n",
      "0\n",
      "1\n"
     ]
    }
   ],
   "source": [
    "from snorkel.models import Candidate\n",
    "from hardware_utils import entity_to_candidates\n",
    "\n",
    "candidates = session.query(Candidate).all()\n",
    "print len(candidates)\n",
    "# matches = entity_to_candidates((u'SIEMS01215-1', u'BC856', u'NPN'), candidates)\n",
    "# c = matches[0]\n",
    "c = candidates[0]\n",
    "print candidates[0]\n",
    "\n",
    "print LF_complement_phrase_part(c)\n",
    "print LF_complement_phrase_polarity(c)\n",
    "print LF_complement_neighbor_polarity(c)\n",
    "print LF_top_mark_col_part(c)\n",
    "print LF_endswith_D_part(c)\n",
    "print LF_default_positive(c)"
   ]
  },
  {
   "cell_type": "markdown",
   "metadata": {},
   "source": [
    "### Apply LFs"
   ]
  },
  {
   "cell_type": "code",
   "execution_count": 20,
   "metadata": {
    "collapsed": false
   },
   "outputs": [
    {
     "name": "stdout",
     "output_type": "stream",
     "text": [
      "[========================================] 100%\n",
      "Bulk upserting 94080 annotations...\n",
      "Done.\n",
      "Loading sparse Label matrix...\n",
      "CPU times: user 2min 25s, sys: 39.4 s, total: 3min 4s\n",
      "Wall time: 3min 5s\n"
     ]
    },
    {
     "data": {
      "text/plain": [
       "<15680x6 sparse matrix of type '<type 'numpy.float64'>'\n",
       "\twith 15801 stored elements in Compressed Sparse Row format>"
      ]
     },
     "execution_count": 20,
     "metadata": {},
     "output_type": "execute_result"
    }
   ],
   "source": [
    "%time L_train = label_manager.create(session, train, 'LF Labels', f=LFs)\n",
    "L_train"
   ]
  },
  {
   "cell_type": "markdown",
   "metadata": {},
   "source": [
    "### Assess LF accuracy"
   ]
  },
  {
   "cell_type": "code",
   "execution_count": 21,
   "metadata": {
    "collapsed": false
   },
   "outputs": [
    {
     "name": "stdout",
     "output_type": "stream",
     "text": [
      "[========================================] 100%\n",
      "CPU times: user 379 ms, sys: 17.8 ms, total: 397 ms\n",
      "Wall time: 422 ms\n"
     ]
    },
    {
     "data": {
      "text/html": [
       "<div>\n",
       "<table border=\"1\" class=\"dataframe\">\n",
       "  <thead>\n",
       "    <tr style=\"text-align: right;\">\n",
       "      <th></th>\n",
       "      <th>accuracy</th>\n",
       "      <th>conflicts</th>\n",
       "      <th>coverage</th>\n",
       "      <th>j</th>\n",
       "      <th>overlaps</th>\n",
       "    </tr>\n",
       "  </thead>\n",
       "  <tbody>\n",
       "    <tr>\n",
       "      <th>LF_complement_phrase_part</th>\n",
       "      <td>0.993289</td>\n",
       "      <td>0.000000</td>\n",
       "      <td>0.028508</td>\n",
       "      <td>0</td>\n",
       "      <td>0.002742</td>\n",
       "    </tr>\n",
       "    <tr>\n",
       "      <th>LF_complement_phrase_polarity</th>\n",
       "      <td>1.000000</td>\n",
       "      <td>0.000000</td>\n",
       "      <td>0.055421</td>\n",
       "      <td>1</td>\n",
       "      <td>0.002551</td>\n",
       "    </tr>\n",
       "    <tr>\n",
       "      <th>LF_complement_neighbor_polarity</th>\n",
       "      <td>0.921986</td>\n",
       "      <td>0.000000</td>\n",
       "      <td>0.008992</td>\n",
       "      <td>2</td>\n",
       "      <td>0.000191</td>\n",
       "    </tr>\n",
       "    <tr>\n",
       "      <th>LF_top_mark_col_part</th>\n",
       "      <td>0.970588</td>\n",
       "      <td>0.004337</td>\n",
       "      <td>0.004337</td>\n",
       "      <td>3</td>\n",
       "      <td>0.004337</td>\n",
       "    </tr>\n",
       "    <tr>\n",
       "      <th>LF_endswith_D_part</th>\n",
       "      <td>1.000000</td>\n",
       "      <td>0.000638</td>\n",
       "      <td>0.000638</td>\n",
       "      <td>4</td>\n",
       "      <td>0.000638</td>\n",
       "    </tr>\n",
       "    <tr>\n",
       "      <th>LF_default_positive</th>\n",
       "      <td>0.855741</td>\n",
       "      <td>0.004974</td>\n",
       "      <td>0.909821</td>\n",
       "      <td>5</td>\n",
       "      <td>0.004974</td>\n",
       "    </tr>\n",
       "  </tbody>\n",
       "</table>\n",
       "</div>"
      ],
      "text/plain": [
       "                                 accuracy  conflicts  coverage  j  overlaps\n",
       "LF_complement_phrase_part        0.993289   0.000000  0.028508  0  0.002742\n",
       "LF_complement_phrase_polarity    1.000000   0.000000  0.055421  1  0.002551\n",
       "LF_complement_neighbor_polarity  0.921986   0.000000  0.008992  2  0.000191\n",
       "LF_top_mark_col_part             0.970588   0.004337  0.004337  3  0.004337\n",
       "LF_endswith_D_part               1.000000   0.000638  0.000638  4  0.000638\n",
       "LF_default_positive              0.855741   0.004974  0.909821  5  0.004974"
      ]
     },
     "execution_count": 21,
     "metadata": {},
     "output_type": "execute_result"
    }
   ],
   "source": [
    "train_gold = session.query(CandidateSet).filter(\n",
    "    CandidateSet.name == 'Hardware Training Candidates -- Gold').one()\n",
    "%time L_train.lf_stats(train_gold)"
   ]
  },
  {
   "cell_type": "code",
   "execution_count": 22,
   "metadata": {
    "collapsed": true
   },
   "outputs": [],
   "source": [
    "# If necessary\n",
    "import os\n",
    "os.system('cp snorkel.db snorkel.db\\ features');"
   ]
  },
  {
   "cell_type": "markdown",
   "metadata": {},
   "source": [
    "## Learn and Evaluate"
   ]
  },
  {
   "cell_type": "code",
   "execution_count": null,
   "metadata": {
    "collapsed": false
   },
   "outputs": [],
   "source": [
    "# If necessary:\n",
    "# import os\n",
    "# os.remove('snorkel.db');\n",
    "# os.system('cp snorkel.db\\ features snorkel.db');\n",
    "\n",
    "# from snorkel import SnorkelSession\n",
    "# session = SnorkelSession()\n",
    "\n",
    "# import sys\n",
    "# sys.path.append(os.environ['SNORKELHOME'] + '/tutorials/tables/')\n",
    "\n",
    "# from snorkel.models import candidate_subclass\n",
    "# Part_Polarity = candidate_subclass('Part_Polarity', ['part','polarity'])\n",
    "\n",
    "# from snorkel.models import CandidateSet\n",
    "# train = session.query(CandidateSet).filter(\n",
    "#     CandidateSet.name == 'Hardware Training Candidates').one()\n",
    "# dev = session.query(CandidateSet).filter(\n",
    "#     CandidateSet.name == 'Hardware Development Candidates').one()\n",
    "\n",
    "# from snorkel.annotations import FeatureManager, LabelManager\n",
    "# feature_manager = FeatureManager()\n",
    "# %time F_train = feature_manager.load(session, train, 'Train Features')\n",
    "# %time F_dev = feature_manager.load(session, dev, 'Train Features')\n",
    "\n",
    "# label_manager = LabelManager()\n",
    "# %time L_train = label_manager.load(session, train, 'LF Labels')"
   ]
  },
  {
   "cell_type": "code",
   "execution_count": 23,
   "metadata": {
    "collapsed": false
   },
   "outputs": [
    {
     "name": "stdout",
     "output_type": "stream",
     "text": [
      "================================================================================\n",
      "Training marginals (!= 0.5):\t15680\n",
      "Features:\t\t\t6\n",
      "================================================================================\n",
      "Begin training for rate=0.01, mu=1e-06\n",
      "\tLearning epoch = 0\tGradient mag. = 0.007403\n",
      "\tLearning epoch = 250\tGradient mag. = 0.007699\n",
      "\tLearning epoch = 500\tGradient mag. = 0.007608\n",
      "\tLearning epoch = 750\tGradient mag. = 0.007519\n",
      "\tLearning epoch = 1000\tGradient mag. = 0.007432\n",
      "\tLearning epoch = 1250\tGradient mag. = 0.007348\n",
      "\tLearning epoch = 1500\tGradient mag. = 0.007265\n",
      "\tLearning epoch = 1750\tGradient mag. = 0.007184\n",
      "\tLearning epoch = 2000\tGradient mag. = 0.007104\n",
      "\tLearning epoch = 2250\tGradient mag. = 0.007027\n",
      "\tLearning epoch = 2500\tGradient mag. = 0.006951\n",
      "\tLearning epoch = 2750\tGradient mag. = 0.006878\n",
      "\tLearning epoch = 3000\tGradient mag. = 0.006805\n",
      "\tLearning epoch = 3250\tGradient mag. = 0.006735\n",
      "\tLearning epoch = 3500\tGradient mag. = 0.006666\n",
      "\tLearning epoch = 3750\tGradient mag. = 0.006598\n",
      "\tLearning epoch = 4000\tGradient mag. = 0.006532\n",
      "\tLearning epoch = 4250\tGradient mag. = 0.006468\n",
      "\tLearning epoch = 4500\tGradient mag. = 0.006405\n",
      "\tLearning epoch = 4750\tGradient mag. = 0.006343\n",
      "\tLearning epoch = 5000\tGradient mag. = 0.006283\n",
      "\tLearning epoch = 5250\tGradient mag. = 0.006224\n",
      "\tLearning epoch = 5500\tGradient mag. = 0.006166\n",
      "\tLearning epoch = 5750\tGradient mag. = 0.006110\n",
      "\tLearning epoch = 6000\tGradient mag. = 0.006055\n",
      "\tLearning epoch = 6250\tGradient mag. = 0.006001\n",
      "\tLearning epoch = 6500\tGradient mag. = 0.005948\n",
      "\tLearning epoch = 6750\tGradient mag. = 0.005897\n",
      "\tLearning epoch = 7000\tGradient mag. = 0.005846\n",
      "\tLearning epoch = 7250\tGradient mag. = 0.005797\n",
      "\tLearning epoch = 7500\tGradient mag. = 0.005749\n",
      "\tLearning epoch = 7750\tGradient mag. = 0.005702\n",
      "\tLearning epoch = 8000\tGradient mag. = 0.005656\n",
      "\tLearning epoch = 8250\tGradient mag. = 0.005611\n",
      "\tLearning epoch = 8500\tGradient mag. = 0.005567\n",
      "\tLearning epoch = 8750\tGradient mag. = 0.005524\n",
      "\tLearning epoch = 9000\tGradient mag. = 0.005483\n",
      "\tLearning epoch = 9250\tGradient mag. = 0.005442\n",
      "\tLearning epoch = 9500\tGradient mag. = 0.005402\n",
      "\tLearning epoch = 9750\tGradient mag. = 0.005363\n",
      "\tLearning epoch = 10000\tGradient mag. = 0.005325\n",
      "\tLearning epoch = 10250\tGradient mag. = 0.005287\n",
      "\tLearning epoch = 10500\tGradient mag. = 0.005251\n",
      "\tLearning epoch = 10750\tGradient mag. = 0.005215\n",
      "\tLearning epoch = 11000\tGradient mag. = 0.005181\n",
      "\tLearning epoch = 11250\tGradient mag. = 0.005147\n",
      "\tLearning epoch = 11500\tGradient mag. = 0.005114\n",
      "\tLearning epoch = 11750\tGradient mag. = 0.005082\n",
      "\tLearning epoch = 12000\tGradient mag. = 0.005050\n",
      "\tLearning epoch = 12250\tGradient mag. = 0.005020\n",
      "\tLearning epoch = 12500\tGradient mag. = 0.004990\n",
      "\tLearning epoch = 12750\tGradient mag. = 0.004961\n",
      "\tLearning epoch = 13000\tGradient mag. = 0.004933\n",
      "\tLearning epoch = 13250\tGradient mag. = 0.004905\n",
      "\tLearning epoch = 13500\tGradient mag. = 0.004878\n",
      "\tLearning epoch = 13750\tGradient mag. = 0.004852\n",
      "\tLearning epoch = 14000\tGradient mag. = 0.004826\n",
      "\tLearning epoch = 14250\tGradient mag. = 0.004801\n",
      "\tLearning epoch = 14500\tGradient mag. = 0.004777\n",
      "\tLearning epoch = 14750\tGradient mag. = 0.004754\n",
      "Final gradient magnitude for rate=0.01, mu=1e-06: 0.005\n",
      "CPU times: user 117 ms, sys: 22.3 ms, total: 140 ms\n",
      "Wall time: 142 ms\n"
     ]
    }
   ],
   "source": [
    "from snorkel.learning import NaiveBayes\n",
    "\n",
    "gen_model = NaiveBayes()\n",
    "gen_model.train(L_train, n_iter=15000, rate=1e-2)\n",
    "%time gen_model.save(session, 'Generative Params')\n",
    "train_marginals = gen_model.marginals(L_train)"
   ]
  },
  {
   "cell_type": "code",
   "execution_count": 24,
   "metadata": {
    "collapsed": false
   },
   "outputs": [
    {
     "name": "stdout",
     "output_type": "stream",
     "text": [
      "================================================================================\n",
      "Training marginals (!= 0.5):\t15680\n",
      "Features:\t\t\t18400\n",
      "================================================================================\n",
      "Using gradient descent...\n",
      "\tLearning epoch = 0\tStep size = 1e-05\n",
      "\tLoss = 10868.547791\tGradient magnitude = 4199.468201\n",
      "\tLearning epoch = 100\tStep size = 9.04792147114e-06\n",
      "\tLoss = 10477.036441\tGradient magnitude = 255.533295\n",
      "\tLearning epoch = 200\tStep size = 8.18648829479e-06\n",
      "\tLoss = 10445.299212\tGradient magnitude = 148.660859\n",
      "\tLearning epoch = 300\tStep size = 7.40707032156e-06\n",
      "\tLoss = 10433.086879\tGradient magnitude = 110.415884\n",
      "\tLearning epoch = 400\tStep size = 6.70185906007e-06\n",
      "\tLoss = 10426.461924\tGradient magnitude = 90.703526\n",
      "\tLearning epoch = 500\tStep size = 6.06378944861e-06\n",
      "\tLoss = 10422.276785\tGradient magnitude = 78.691106\n",
      "\tLearning epoch = 600\tStep size = 5.48646907485e-06\n",
      "\tLoss = 10419.394211\tGradient magnitude = 70.656404\n",
      "\tLearning epoch = 700\tStep size = 4.96411413431e-06\n",
      "\tLoss = 10417.296789\tGradient magnitude = 64.933033\n",
      "\tLearning epoch = 800\tStep size = 4.4914914861e-06\n",
      "\tLoss = 10415.713135\tGradient magnitude = 60.707022\n",
      "\tLearning epoch = 900\tStep size = 4.06386622545e-06\n",
      "\tLoss = 10414.485383\tGradient magnitude = 57.496591\n",
      "\tLearning epoch = 1000\tStep size = 3.67695424771e-06\n",
      "\tLoss = 10413.515710\tGradient magnitude = 55.020149\n",
      "\tLearning epoch = 1100\tStep size = 3.32687932862e-06\n",
      "\tLoss = 10412.738853\tGradient magnitude = 53.098684\n",
      "\tLearning epoch = 1200\tStep size = 3.01013429093e-06\n",
      "\tLoss = 10412.110507\tGradient magnitude = 51.617303\n",
      "\tLearning epoch = 1300\tStep size = 2.72354586819e-06\n",
      "\tLoss = 10411.599530\tGradient magnitude = 50.496923\n",
      "\tLearning epoch = 1400\tStep size = 2.46424291385e-06\n",
      "\tLoss = 10411.182279\tGradient magnitude = 49.670419\n",
      "\tLearning epoch = 1500\tStep size = 2.22962763703e-06\n",
      "\tLoss = 10410.841693\tGradient magnitude = 49.078821\n",
      "\tLearning epoch = 1600\tStep size = 2.01734957697e-06\n",
      "\tLoss = 10410.564469\tGradient magnitude = 48.710734\n",
      "\tLearning epoch = 1700\tStep size = 1.82528205523e-06\n",
      "\tLoss = 10410.340482\tGradient magnitude = 48.538322\n",
      "\tLearning epoch = 1800\tStep size = 1.65150086984e-06\n",
      "\tLoss = 10410.162013\tGradient magnitude = 48.540401\n",
      "\tLearning epoch = 1900\tStep size = 1.49426501798e-06\n",
      "\tLoss = 10410.022865\tGradient magnitude = 48.734449\n",
      "CPU times: user 4.43 s, sys: 109 ms, total: 4.54 s\n",
      "Wall time: 4.32 s\n"
     ]
    }
   ],
   "source": [
    "from snorkel.learning import LogReg\n",
    "\n",
    "disc_model = LogReg()\n",
    "disc_model.train(F_train, train_marginals, n_iter=2000, rate=1e-5)\n",
    "%time disc_model.save(session, \"Discriminative Params\")"
   ]
  },
  {
   "cell_type": "code",
   "execution_count": 25,
   "metadata": {
    "collapsed": true
   },
   "outputs": [],
   "source": [
    "train_gold = session.query(CandidateSet).filter(\n",
    "    CandidateSet.name == 'Hardware Training Candidates -- Gold').one()"
   ]
  },
  {
   "cell_type": "code",
   "execution_count": 26,
   "metadata": {
    "collapsed": true
   },
   "outputs": [],
   "source": [
    "dev_gold = session.query(CandidateSet).filter(\n",
    "    CandidateSet.name == 'Hardware Development Candidates -- Gold').one()"
   ]
  },
  {
   "cell_type": "code",
   "execution_count": 27,
   "metadata": {
    "collapsed": false
   },
   "outputs": [],
   "source": [
    "from snorkel.models import CandidateSet\n",
    "from snorkel.annotations import LabelManager\n",
    "label_manager = LabelManager()\n",
    "L_dev = label_manager.load(session, dev, 'Hardware Development Labels -- Gold')"
   ]
  },
  {
   "cell_type": "code",
   "execution_count": 28,
   "metadata": {
    "collapsed": false
   },
   "outputs": [
    {
     "name": "stdout",
     "output_type": "stream",
     "text": [
      "Calibration plot:\n",
      "========================================\n",
      "Recall-corrected Noise-aware Model\n",
      "========================================\n",
      "Pos. class accuracy: 0.906178489703\n",
      "Neg. class accuracy: 0.630044843049\n",
      "Corpus Precision 0.878\n",
      "Corpus Recall    0.906\n",
      "Corpus F1        0.892\n",
      "----------------------------------------\n",
      "TP: 1188 | FP: 165 | TN: 281 | FN: 123\n",
      "========================================\n",
      "\n",
      "========================================\n",
      "Recall-corrected Noise-aware Model\n",
      "========================================\n",
      "Pos. class accuracy: 0.906178489703\n",
      "Neg. class accuracy: 0.630044843049\n",
      "Corpus Precision 0.878\n",
      "Corpus Recall    0.906\n",
      "Corpus F1        0.892\n",
      "----------------------------------------\n",
      "TP: 1188 | FP: 165 | TN: 281 | FN: 123\n",
      "========================================\n",
      "\n"
     ]
    },
    {
     "name": "stderr",
     "output_type": "stream",
     "text": [
      "/Users/bradenhancock/anaconda/lib/python2.7/site-packages/numpy/core/_methods.py:59: RuntimeWarning: Mean of empty slice.\n",
      "  warnings.warn(\"Mean of empty slice.\", RuntimeWarning)\n"
     ]
    }
   ],
   "source": [
    "tp, fp, tn, fn = disc_model.score(F_dev, L_dev, dev_gold)"
   ]
  },
  {
   "cell_type": "code",
   "execution_count": 29,
   "metadata": {
    "collapsed": false
   },
   "outputs": [
    {
     "name": "stdout",
     "output_type": "stream",
     "text": [
      "========================================\n",
      "Scoring on Entity-Level Gold Data\n",
      "========================================\n",
      "Corpus Precision 0.702\n",
      "Corpus Recall    0.827\n",
      "Corpus F1        0.759\n",
      "----------------------------------------\n",
      "TP: 134 | FP: 57 | FN: 28\n",
      "========================================\n",
      "\n"
     ]
    }
   ],
   "source": [
    "from snorkel.models import Corpus\n",
    "from hardware_utils import entity_level_f1\n",
    "import os\n",
    "\n",
    "gold_file = os.environ['SNORKELHOME'] + '/tutorials/tables/data/hardware/hardware_gold.csv'\n",
    "corpus = session.query(Corpus).filter(Corpus.name == 'Hardware Development').one()\n",
    "(TP, FP, FN) = entity_level_f1(tp, fp, tn, fn, gold_file, corpus, 'polarity')"
   ]
  },
  {
   "cell_type": "code",
   "execution_count": 31,
   "metadata": {
    "collapsed": false
   },
   "outputs": [
    {
     "name": "stdout",
     "output_type": "stream",
     "text": [
      "[(u'2N3906-D', u'1N916', u'PNP'),\n",
      " (u'2N3906-D', u'2N390D', u'PNP'),\n",
      " (u'2N4124', u'1N916', u'NPN'),\n",
      " (u'BC546-BC548C(TO-92)', u'BC546 THRU', u'NPN'),\n",
      " (u'BC546-BC548C(TO-92)', u'BC546-BC548C', u'NPN'),\n",
      " (u'BC546-D', u'BC548A', u'NPN'),\n",
      " (u'CSEMS05383-1', u'BC817 AND', u'NPN'),\n",
      " (u'DIODS13249-1', u'BC808', u'NPN'),\n",
      " (u'DIODS13249-1', u'BC81840', u'NPN'),\n",
      " (u'INFINEON-BC857SERIES_BC858SERIES_BC859SERIES_BC860SERIES-DS-V01_01-EN',\n",
      "  u'BC850',\n",
      "  u'PNP')]\n"
     ]
    }
   ],
   "source": [
    "from pprint import pprint\n",
    "FP_list = sorted(list(FP))\n",
    "pprint(FP_list[:10])"
   ]
  },
  {
   "cell_type": "code",
   "execution_count": 34,
   "metadata": {
    "collapsed": false
   },
   "outputs": [
    {
     "name": "stdout",
     "output_type": "stream",
     "text": [
      "Entity: (2 matches)\n",
      "(u'2N3906-D', u'1N916', u'PNP')\n",
      "\n",
      "Candidate:\n",
      "Part_Polarity(Span(\"1N916\", parent=525, chars=[0,4], words=[0,0]), Span(\"PNP\", parent=461, chars=[38,40], words=[6,6]))\n",
      "\n",
      "Score:\n",
      "0.190055360188\n",
      "\n",
      "Features:\n",
      "[(AnnotationKey (TAB_e2_RIGHT_WORDS_[silicon]), 0.08343734205289861),\n",
      " (AnnotationKey (TAB_e2_HTML_TAG_html), 0.08047433345965031),\n",
      " (AnnotationKey (TAB_e2_CONTAINS_WORDS_[PNP]), -0.04038806465249167),\n",
      " (AnnotationKey (TAB_e2_LEFT_WORDS_[,]), -0.03235906763952302),\n",
      " (AnnotationKey (TDL_LEMMA:PARENTS-OF-BETWEEN-MENTION-and-MENTION[None]),\n",
      "  -0.030354728294559805),\n",
      " (AnnotationKey (TDL_BETWEEN-MENTION-and-MENTION[LEN:0-2]),\n",
      "  -0.028146930059021587),\n",
      " (AnnotationKey (TAB_e2_LEFT_WORDS_[general purpose]), 0.02406298007207436),\n",
      " (AnnotationKey (TAB_e2_LEFT_WORDS_[general]), 0.02406298007207436),\n",
      " (AnnotationKey (TAB_e2_LEFT_WORDS_[purpose]), 0.02406298007207436),\n",
      " (AnnotationKey (TAB_e2_LEFT_WORDS_[transistors]), 0.017114837857083884),\n",
      " (AnnotationKey (TAB_e2_LEFT_WORDS_[2n3906]), 0.015899684373946236),\n",
      " (AnnotationKey (TAB_e2_SPAN_TYPE_[EXPLICIT]), 0.015698716901296917),\n",
      " (AnnotationKey (TAB_e2_LEFT_WORDS_[-]), -0.011814756212110108),\n",
      " (AnnotationKey (TAB_e1_SPAN_TYPE_[EXPLICIT]), 0.009719608833624436),\n",
      " (AnnotationKey (TAB_e1_HTML_TAG_html), 0.008851774393322165),\n",
      " (AnnotationKey (TAB_e1_NEIGHBOR_PHRASE_WORDS_[t]), 0.008443199514529274),\n",
      " (AnnotationKey (TAB_e2_NEIGHBOR_PHRASE_WORDS_[2n3906]), 0.00796237752344252),\n",
      " (AnnotationKey (TAB_e1_RIGHT_WORDS_[c]), 0.005356496082661531),\n",
      " (AnnotationKey (TAB_e1_NEIGHBOR_PHRASE_WORDS_[10]), 0.004797481376614713),\n",
      " (AnnotationKey (TDL_SEQ-BETWEEN[LEN:5-7]), 0.003719538100394935),\n",
      " (AnnotationKey (TDL_DEP_LABEL:BETWEEN-MENTION-and-MENTION[ROOT nsubj]),\n",
      "  -0.001078246082291879),\n",
      " (AnnotationKey (TAB_e2_LEFT_WORDS_[- general]), 0.0007360075750541448),\n",
      " (AnnotationKey (TDL_LEMMA:SEQ-BETWEEN[c]), -0.0006896288702328774),\n",
      " (AnnotationKey (TDL_DEP_LABEL:BETWEEN-MENTION-and-MENTION[ROOT]),\n",
      "  0.00039923227571056355),\n",
      " (AnnotationKey (TAB_e1_CONTAINS_WORDS_[1N916]), 8.721146180430739e-05)]\n"
     ]
    }
   ],
   "source": [
    "from hardware_utils import entity_to_candidates\n",
    "\n",
    "N = 1\n",
    "for i in range(N):\n",
    "    entity = FP_list[i]\n",
    "    matches = entity_to_candidates(entity, fp)\n",
    "    print \"Entity: (%d matches)\" % len(matches)\n",
    "    print entity\n",
    "\n",
    "    candidate = matches[0]\n",
    "    print \"\\nCandidate:\"\n",
    "    print candidate\n",
    "\n",
    "    print \"\\nScore:\"\n",
    "    print disc_model.get_candidate_score(candidate, F_dev)\n",
    "\n",
    "    print \"\\nFeatures:\"\n",
    "    pprint(disc_model.get_candidate_feature_weights(candidate, F_dev))"
   ]
  },
  {
   "cell_type": "code",
   "execution_count": 35,
   "metadata": {
    "collapsed": false
   },
   "outputs": [
    {
     "name": "stdout",
     "output_type": "stream",
     "text": [
      "Doc: Document 2N3906-D\n",
      "------------\n",
      "Part:\n",
      "Span(\"1N916\", parent=525, chars=[0,4], words=[0,0])\n",
      "------------\n",
      "Table: None\n",
      "Phrase: Phrase(Doc: 2N3906-D, Table: X, Row: (None, None), Col: (None, None), Position: 0, Text: 1N916                             C S   < 4 pF*)\n",
      "------------\n",
      "Attr:\n",
      "Span(\"PNP\", parent=461, chars=[38,40], words=[6,6])\n",
      "------------\n",
      "Table: None\n",
      "Phrase: Phrase(Doc: 2N3906-D, Table: X, Row: (None, None), Col: (None, None), Position: 0, Text: 2N3906 - General Purpose Transistors, PNP Silicon)\n",
      "------------\n"
     ]
    }
   ],
   "source": [
    "from hardware_utils import part_error_analysis\n",
    "part_error_analysis(candidate)"
   ]
  },
  {
   "cell_type": "code",
   "execution_count": null,
   "metadata": {
    "collapsed": true
   },
   "outputs": [],
   "source": [
    "import os\n",
    "os.system('cp snorkel.db snorkel.db\\ final');"
   ]
  },
  {
   "cell_type": "code",
   "execution_count": null,
   "metadata": {
    "collapsed": true
   },
   "outputs": [],
   "source": []
  }
 ],
 "metadata": {
  "anaconda-cloud": {},
  "kernelspec": {
   "display_name": "Python [default]",
   "language": "python",
   "name": "python2"
  },
  "language_info": {
   "codemirror_mode": {
    "name": "ipython",
    "version": 2
   },
   "file_extension": ".py",
   "mimetype": "text/x-python",
   "name": "python",
   "nbconvert_exporter": "python",
   "pygments_lexer": "ipython2",
   "version": "2.7.10"
  }
 },
 "nbformat": 4,
 "nbformat_minor": 1
}
