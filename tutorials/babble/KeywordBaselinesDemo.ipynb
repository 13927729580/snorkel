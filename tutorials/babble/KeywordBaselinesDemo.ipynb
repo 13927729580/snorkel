{
 "cells": [
  {
   "cell_type": "code",
   "execution_count": 11,
   "metadata": {},
   "outputs": [],
   "source": [
    "from keywordBaselines import KeywordBaselines"
   ]
  },
  {
   "cell_type": "code",
   "execution_count": 10,
   "metadata": {},
   "outputs": [],
   "source": [
    "testExp = Explanation(\n",
    "        name='LF_spouse_to_left',\n",
    "        condition=\"the word 'wife' is within two words to the left of arg 1 or arg 2\",\n",
    "        candidate='03a1e1a0-93c3-41a8-a905-a535ce8f2b09::span:6822:6837~~03a1e1a0-93c3-41a8-a905-a535ce8f2b09::span:6855:6858',\n",
    "        label=True,\n",
    "        semantics=None)\n"
   ]
  },
  {
   "cell_type": "code",
   "execution_count": 12,
   "metadata": {},
   "outputs": [
    {
     "name": "stdout",
     "output_type": "stream",
     "text": [
      "Explanation(\"LF_spouse_to_left: True, the word 'wife' is within two words to the left of arg 1 or arg 2\")\n",
      "wife\n",
      "Explanation(\"LF_spouse_to_left: True, wife\")\n"
     ]
    }
   ],
   "source": [
    "testing = KeywordBaselines(testExp)\n",
    "print(testing.explanation)\n",
    "keyword=testing.findKeywords()\n",
    "print(keyword[0])\n",
    "print(testing.modify(keyword[0]))"
   ]
  },
  {
   "cell_type": "code",
   "execution_count": null,
   "metadata": {
    "collapsed": true
   },
   "outputs": [],
   "source": []
  }
 ],
 "metadata": {
  "kernelspec": {
   "display_name": "Python 2",
   "language": "python",
   "name": "python2"
  },
  "language_info": {
   "codemirror_mode": {
    "name": "ipython",
    "version": 2
   },
   "file_extension": ".py",
   "mimetype": "text/x-python",
   "name": "python",
   "nbconvert_exporter": "python",
   "pygments_lexer": "ipython2",
   "version": "2.7.13"
  }
 },
 "nbformat": 4,
 "nbformat_minor": 2
}
