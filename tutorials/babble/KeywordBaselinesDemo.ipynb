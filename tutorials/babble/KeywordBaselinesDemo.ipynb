{
 "cells": [
  {
   "cell_type": "code",
   "execution_count": 1,
   "metadata": {},
   "outputs": [
    {
     "name": "stdout",
     "output_type": "stream",
     "text": [
      "Explanation(\"LF_spouse_to_left: True, the word 'wife' is within two words to the left of arg 1 or arg 2\")\n",
      "wife\n",
      "Explanation(\"LF_spouse_to_left: True, wife\")\n"
     ]
    }
   ],
   "source": [
    "from keywordBaselines import KeywordBaselines\n",
    "from snorkel.contrib.babble import Explanation, link_explanation_candidates"
   ]
  },
  {
   "cell_type": "code",
   "execution_count": 2,
   "metadata": {},
   "outputs": [],
   "source": [
    "testExp1 = Explanation(\n",
    "        name='LF_spouse_to_left',\n",
    "        condition=\"the word 'wife' is within two words to the left of arg 1 or arg 2\",\n",
    "        candidate='03a1e1a0-93c3-41a8-a905-a535ce8f2b09::span:6822:6837~~03a1e1a0-93c3-41a8-a905-a535ce8f2b09::span:6855:6858',\n",
    "        label=True,\n",
    "        semantics=None)\n",
    "\n",
    "\n"
   ]
  },
  {
   "cell_type": "code",
   "execution_count": 3,
   "metadata": {},
   "outputs": [
    {
     "name": "stdout",
     "output_type": "stream",
     "text": [
      "Explanation(\"LF_spouse_to_left: True, the word 'wife' is within two words to the left of arg 1 or arg 2\")\n",
      "wife\n",
      "Explanation(\"LF_spouse_to_left: True, wife\")\n"
     ]
    }
   ],
   "source": [
    "testing1 = KeywordBaselines(testExp1)\n",
    "print(testing1.explanation)\n",
    "keyword=testing1.findKeywords()\n",
    "print(keyword[0])\n",
    "print(testing1.modify(keyword[0]))"
   ]
  },
  {
   "cell_type": "code",
   "execution_count": 4,
   "metadata": {
    "collapsed": true
   },
   "outputs": [],
   "source": [
    "testExp2 = Explanation(\n",
    "        name='LF_no_spouse_in_sentence',\n",
    "        condition=\"the word 'husband' is not in the sentence\",\n",
    "        candidate='d0de6a86-66d5-40e0-b345-6c86d2047c07::span:1634:1638~~d0de6a86-66d5-40e0-b345-6c86d2047c07::span:1650:1659',\n",
    "        label=False,\n",
    "        semantics=None)"
   ]
  },
  {
   "cell_type": "code",
   "execution_count": 5,
   "metadata": {},
   "outputs": [
    {
     "name": "stdout",
     "output_type": "stream",
     "text": [
      "Explanation(\"LF_no_spouse_in_sentence: False, the word 'husband' is not in the sentence\")\n",
      "husband\n",
      "Explanation(\"LF_no_spouse_in_sentence: False, wife\")\n"
     ]
    }
   ],
   "source": [
    "testing2 = KeywordBaselines(testExp2)\n",
    "print(testing2.explanation)\n",
    "keyword2=testing2.findKeywords()\n",
    "print(keyword2[0])\n",
    "print(testing2.modify(keyword[0]))"
   ]
  },
  {
   "cell_type": "code",
   "execution_count": null,
   "metadata": {
    "collapsed": true
   },
   "outputs": [],
   "source": []
  }
 ],
 "metadata": {
  "kernelspec": {
   "display_name": "Python 2",
   "language": "python",
   "name": "python2"
  },
  "language_info": {
   "codemirror_mode": {
    "name": "ipython",
    "version": 2
   },
   "file_extension": ".py",
   "mimetype": "text/x-python",
   "name": "python",
   "nbconvert_exporter": "python",
   "pygments_lexer": "ipython2",
   "version": "2.7.13"
  }
 },
 "nbformat": 4,
 "nbformat_minor": 2
}
