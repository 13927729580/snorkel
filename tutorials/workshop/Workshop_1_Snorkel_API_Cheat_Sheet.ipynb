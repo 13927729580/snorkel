{
 "cells": [
  {
   "cell_type": "markdown",
   "metadata": {
    "collapsed": true
   },
   "source": [
    "# Snorkel Workshop: Extracting Spouse Relations from the News\n",
    "## Part 1: Snorkel API Cheat Sheet\n",
    "\n",
    "Complete API documentation is available at:\n",
    "\n",
    "http://snorkel.readthedocs.io/en/latest/\n",
    "\n",
    "However, we provide several detailed examples below that are useful when you are using Snorkel for the first time. "
   ]
  },
  {
   "cell_type": "code",
   "execution_count": 1,
   "metadata": {},
   "outputs": [
    {
     "name": "stderr",
     "output_type": "stream",
     "text": [
      "/home/ubuntu/anaconda2/lib/python2.7/site-packages/matplotlib/__init__.py:1405: UserWarning: \n",
      "This call to matplotlib.use() has no effect because the backend has already\n",
      "been chosen; matplotlib.use() must be called *before* pylab, matplotlib.pyplot,\n",
      "or matplotlib.backends is imported for the first time.\n",
      "\n",
      "  warnings.warn(_use_error_msg)\n"
     ]
    }
   ],
   "source": [
    "%load_ext autoreload\n",
    "%autoreload 2\n",
    "%matplotlib inline\n",
    "import os\n",
    "\n",
    "# Connect to the database backend and initalize a Snorkel session\n",
    "from lib.init import *"
   ]
  },
  {
   "cell_type": "markdown",
   "metadata": {},
   "source": [
    "## 1: `Candidate` and `Span` Objects\n",
    "----\n",
    "\n",
    "`Candidate` objects represent potential mentions found in text and are a core abstraction used in Snorkel. Candidates consist of 1 or more `Span` objects. \n",
    "\n",
    "For real applications, we have to define a candidate relation type consisting named `Span` objects. In this API, we'll use the pre-defined Spouse candidate, initialized below:"
   ]
  },
  {
   "cell_type": "code",
   "execution_count": 2,
   "metadata": {
    "collapsed": true
   },
   "outputs": [],
   "source": [
    "try:\n",
    "    Spouse = candidate_subclass('Spouse', ['person1', 'person2'])\n",
    "except:\n",
    "    print>>sys.stderr,\"Info: Candidate type already defined\""
   ]
  },
  {
   "cell_type": "markdown",
   "metadata": {
    "collapsed": true
   },
   "source": [
    "### Querying `Candidate` Sets\n",
    "We assume that our Candidates have already been extracted and partitioned\n",
    "into `train`, `dev`, and `test` sets.\n",
    "\n",
    "See our preprocessing tutorial <a href=\"Workshop_Advanced_Preprocessing.ipynb\">Workshop_Advanced_Preprocessing.ipynb</a> for more information on how candidates are generated. \n",
    "\n",
    "For now, we will just load our `train` set candidates."
   ]
  },
  {
   "cell_type": "code",
   "execution_count": 3,
   "metadata": {},
   "outputs": [],
   "source": [
    "cands = session.query(Candidate).filter(Candidate.split == 0).all()"
   ]
  },
  {
   "cell_type": "markdown",
   "metadata": {},
   "source": [
    "### Accessing `Span` Arguments\n",
    "The `Spouse` example above consists of 2 arguments: `person1` and `person2`. These are represented as `Span` objects. We can access these directy as member variables of a candidate as so:"
   ]
  },
  {
   "cell_type": "code",
   "execution_count": 4,
   "metadata": {},
   "outputs": [],
   "source": [
    "c = cands[134]"
   ]
  },
  {
   "cell_type": "code",
   "execution_count": 5,
   "metadata": {},
   "outputs": [
    {
     "name": "stdout",
     "output_type": "stream",
     "text": [
      "Span(\"Derek Hough\", sentence=68850, chars=[120,130], words=[22,23])\n",
      "Span(\"Bindi\", sentence=68850, chars=[37,41], words=[4,4])\n",
      "Span(\"Derek Hough\", sentence=68850, chars=[120,130], words=[22,23]) Span(\"Bindi\", sentence=68850, chars=[37,41], words=[4,4])\n"
     ]
    }
   ],
   "source": [
    "print c.person1\n",
    "print c.person2\n",
    "\n",
    "print c[0], c[1]"
   ]
  },
  {
   "cell_type": "markdown",
   "metadata": {},
   "source": [
    "### `Span` Member Functions\n",
    "`Span` objects provide several useful functions for accessing text attributes."
   ]
  },
  {
   "cell_type": "code",
   "execution_count": 6,
   "metadata": {},
   "outputs": [
    {
     "name": "stdout",
     "output_type": "stream",
     "text": [
      "Span 0 words               \t[u'Derek', u'Hough']\n",
      "Span 0 lemmas              \t[u'Derek', u'Hough']\n",
      "Span 0 part-of-speech tags \t[u'NNP', u'NNP']\n"
     ]
    }
   ],
   "source": [
    "print \"Span 0 words               \\t\", c[0].get_attrib_tokens(\"words\")\n",
    "print \"Span 0 lemmas              \\t\", c[0].get_attrib_tokens(\"words\")\n",
    "print \"Span 0 part-of-speech tags \\t\", c[0].get_attrib_tokens(\"pos_tags\")"
   ]
  },
  {
   "cell_type": "markdown",
   "metadata": {},
   "source": [
    "## 2: `Context`  Objects: `Sentence` and `Document`\n",
    "----\n",
    "\n",
    "All `Candidate` objects live within a `Context`. We'll focus on `Sentence` objects to start. We can access any candidate's *parent* with the following method:"
   ]
  },
  {
   "cell_type": "code",
   "execution_count": 7,
   "metadata": {},
   "outputs": [
    {
     "data": {
      "text/plain": [
       "Sentence(Document 2f02e6e0-fda5-4995-85c8-a976d46a3ebf,4,Actress and wildlife conservationist Bindi, 17, hit the stage with her Season 21 partner, five-time mirrorball champion Derek Hough, for an exciting jive that wowed the crowd.)"
      ]
     },
     "execution_count": 7,
     "metadata": {},
     "output_type": "execute_result"
    }
   ],
   "source": [
    "sent = c.get_parent()\n",
    "sent"
   ]
  },
  {
   "cell_type": "markdown",
   "metadata": {},
   "source": [
    "### Text and Syntactic Attributes\n",
    "Text undergoes standard information extraction preprocessing to extract important syntatic attributes like part-of-speech tags and depenency tree information. You can access all of these attribtes for each token using these `Sentence` member variables:"
   ]
  },
  {
   "cell_type": "code",
   "execution_count": 8,
   "metadata": {},
   "outputs": [
    {
     "name": "stdout",
     "output_type": "stream",
     "text": [
      "[u'Actress', u'and', u'wildlife', u'conservationist', u'Bindi', u',', u'17', u',', u'hit', u'the', u'stage', u'with', u'her', u'Season', u'21', u'partner', u',', u'five', u'-', u'time', u'mirrorball', u'champion', u'Derek', u'Hough', u',', u'for', u'an', u'exciting', u'jive', u'that', u'wowed', u'the', u'crowd', u'.']\n",
      "[u'actress', u'and', u'wildlife', u'conservationist', u'bindi', u',', u'17', u',', u'hit', u'the', u'stage', u'with', u'-PRON-', u'season', u'21', u'partner', u',', u'five', u'-', u'time', u'mirrorball', u'champion', u'derek', u'hough', u',', u'for', u'an', u'exciting', u'jive', u'that', u'wow', u'the', u'crowd', u'.']\n",
      "[u'NN', u'CC', u'NN', u'NN', u'NNP', u',', u'CD', u',', u'VBD', u'DT', u'NN', u'IN', u'PRP$', u'NNP', u'CD', u'NN', u',', u'CD', u'HYPH', u'NN', u'NN', u'NN', u'NNP', u'NNP', u',', u'IN', u'DT', u'JJ', u'NN', u'WDT', u'VBD', u'DT', u'NN', u'.']\n",
      "[u'O', u'O', u'O', u'O', u'PERSON', u'O', u'DATE', u'O', u'O', u'O', u'O', u'O', u'O', u'O', u'CARDINAL', u'O', u'O', u'CARDINAL', u'O', u'O', u'O', u'O', u'PERSON', u'PERSON', u'O', u'O', u'O', u'O', u'O', u'O', u'O', u'O', u'O', u'O']\n",
      "[9, 1, 4, 1, 4, 5, 5, 5, 0, 11, 9, 9, 16, 16, 14, 12, 16, 20, 20, 22, 22, 24, 24, 16, 16, 16, 29, 29, 26, 31, 29, 33, 31, 9]\n",
      "[u'nsubj', u'cc', u'compound', u'conj', u'appos', u'punct', u'appos', u'punct', u'ROOT', u'det', u'dobj', u'prep', u'poss', u'nmod', u'nummod', u'pobj', u'punct', u'nummod', u'punct', u'compound', u'compound', u'compound', u'compound', u'appos', u'punct', u'prep', u'det', u'amod', u'pobj', u'nsubj', u'relcl', u'det', u'dobj', u'punct']\n"
     ]
    }
   ],
   "source": [
    "print sent.words\n",
    "print sent.lemmas\n",
    "print sent.pos_tags\n",
    "print sent.ner_tags\n",
    "print sent.dep_parents\n",
    "print sent.dep_labels"
   ]
  },
  {
   "cell_type": "markdown",
   "metadata": {},
   "source": [
    "### Character-level Offsets\n",
    "These lists give the starting offset (in characters) for each token in the `Sentence` object. \n",
    "`char_offsets` are relative to the start of the sentence while `abs_char_offsets` are releative to document. "
   ]
  },
  {
   "cell_type": "code",
   "execution_count": 9,
   "metadata": {},
   "outputs": [
    {
     "name": "stdout",
     "output_type": "stream",
     "text": [
      "[0, 8, 12, 21, 37, 42, 44, 46, 48, 52, 56, 62, 67, 71, 78, 81, 88, 90, 94, 95, 100, 111, 120, 126, 131, 133, 137, 140, 149, 154, 159, 165, 169, 174]\n",
      "[606, 614, 618, 627, 643, 648, 650, 652, 654, 658, 662, 668, 673, 677, 684, 687, 694, 696, 700, 701, 706, 717, 726, 732, 737, 739, 743, 746, 755, 760, 765, 771, 775, 780]\n"
     ]
    }
   ],
   "source": [
    "print sent.char_offsets\n",
    "print sent.abs_char_offsets"
   ]
  },
  {
   "cell_type": "markdown",
   "metadata": {},
   "source": [
    "### Visualizing Candidates\n",
    "We can also visualize a candidate for purposes of debugging. \n",
    "This snippet shows the first 5 candidates in their parent sentences."
   ]
  },
  {
   "cell_type": "code",
   "execution_count": 10,
   "metadata": {},
   "outputs": [
    {
     "data": {
      "text/html": [
       "<div style=\"border: 1px dotted #858585; border-radius:8px;\n",
       "    background-color:#FDFDFD; padding:5pt 10pt 5pt 10pt\"><p style=\"font-size:12pt;\">Actress and wildlife conservationist <b style=\"background-color:#CCCCCC;padding:1pt 5pt 1pt 5pt; border-radius:8px\">Bindi</b>, 17, hit the stage with her Season 21 partner, five-time mirrorball champion <b style=\"background-color:#CCCCCC;padding:1pt 5pt 1pt 5pt; border-radius:8px\">Derek Hough</b>, for an exciting jive that wowed the crowd.</p></div>"
      ],
      "text/plain": [
       "<IPython.core.display.HTML object>"
      ]
     },
     "metadata": {},
     "output_type": "display_data"
    }
   ],
   "source": [
    "from lib.viz import *\n",
    "display_candidate(c)"
   ]
  },
  {
   "cell_type": "markdown",
   "metadata": {},
   "source": [
    "## 3: Helper functions\n",
    "\n",
    "These are python helper functions that you can apply to candidates to return objects that are helpful during LF development.\n",
    "\n",
    "You can (and should!) write your own helper functions to help write LFs."
   ]
  },
  {
   "cell_type": "code",
   "execution_count": 11,
   "metadata": {
    "collapsed": true
   },
   "outputs": [],
   "source": [
    "import re\n",
    "from snorkel.lf_helpers import (\n",
    "    get_left_tokens, get_right_tokens, get_between_tokens,\n",
    "    get_text_between, get_tagged_text,\n",
    ")"
   ]
  },
  {
   "cell_type": "code",
   "execution_count": 12,
   "metadata": {},
   "outputs": [
    {
     "name": "stdout",
     "output_type": "stream",
     "text": [
      "Candidate LEFT tokens:   \t[u'mirrorball', u'champion']\n",
      "Candidate RIGHT tokens:  \t[u',', u'17']\n",
      "Candidate BETWEEN tokens:\t, 17, hit the stage with her Season 21 partner, five-time mirrorball champion \n"
     ]
    }
   ],
   "source": [
    "print \"Candidate LEFT tokens:   \\t\", list(get_left_tokens(c,window=2))\n",
    "print \"Candidate RIGHT tokens:  \\t\", list(get_right_tokens(c,window=2))\n",
    "print \"Candidate BETWEEN tokens:\\t\", get_text_between(c)"
   ]
  },
  {
   "cell_type": "markdown",
   "metadata": {},
   "source": [
    "### Advanced `Candidate` and `Sentence` Attributes\n",
    "\n",
    "Snorkel creates a dependency tree representation for all `Sentence` objects. You can query\n",
    "this using advanced lxml-based operators, but sometimes its also useful just to visualize a\n",
    "sentence to identify important verbs, noun phrases, and other syntatic structure. "
   ]
  },
  {
   "cell_type": "code",
   "execution_count": 13,
   "metadata": {},
   "outputs": [],
   "source": [
    "from lib.tree_structs_ipynb import *\n",
    "tree = sentence_to_xmltree(c.get_parent())"
   ]
  },
  {
   "cell_type": "code",
   "execution_count": 14,
   "metadata": {},
   "outputs": [
    {
     "data": {
      "text/html": [
       "<style>\n",
       ".node {\n",
       "  cursor: pointer;\n",
       "}\n",
       "\n",
       ".node circle {\n",
       "  fill: #fff;\n",
       "  stroke: steelblue;\n",
       "  stroke-width: 3px;\n",
       "}\n",
       "\n",
       ".node text {\n",
       "  font: 12px sans-serif;\n",
       "}\n",
       "\n",
       ".edge {\n",
       "  fill: none;\n",
       "  stroke: #ccc;\n",
       "  stroke-width: 2px;\n",
       "  cursor: pointer;\n",
       "}\n",
       "\n",
       ".highlight {\n",
       "  stroke: red;\n",
       "  stroke-width: 3px;\n",
       "}\n",
       "</style>\n",
       "\n",
       "<!--Provide the canvas id via python string formatting here--!>\n",
       "<div id=\"tree-chart-1165848529123350832\"></div>\n"
      ]
     },
     "metadata": {},
     "output_type": "display_data"
    },
    {
     "data": {
      "application/javascript": [
       "$.getScript(\"http://d3js.org/d3.v3.min.js\", function () {\n",
       "// See http://bl.ocks.org/d3noob/8375092\n",
       "// Two vars need to be provided via python string formatting: the tree, and the canvas id\n",
       "\n",
       "// JSON tree\n",
       "var root = {\"attrib\": {\"dep_label\": \"ROOT\", \"pos_tag\": \"VBD\", \"entity_cid\": \"O\", \"word\": \"hit\", \"ner_tag\": \"O\", \"char_offset\": \"48\", \"lemma\": \"hit\", \"entity_typ\": \"O\", \"dep_parent\": \"0\"}, \"children\": [{\"attrib\": {\"dep_label\": \"nsubj\", \"pos_tag\": \"NN\", \"entity_cid\": \"O\", \"word\": \"Actress\", \"ner_tag\": \"O\", \"char_offset\": \"0\", \"lemma\": \"actress\", \"entity_typ\": \"O\", \"dep_parent\": \"9\"}, \"children\": [{\"attrib\": {\"dep_label\": \"cc\", \"pos_tag\": \"CC\", \"entity_cid\": \"O\", \"word\": \"and\", \"ner_tag\": \"O\", \"char_offset\": \"8\", \"lemma\": \"and\", \"entity_typ\": \"O\", \"dep_parent\": \"1\"}, \"children\": []}, {\"attrib\": {\"dep_label\": \"conj\", \"pos_tag\": \"NN\", \"entity_cid\": \"O\", \"word\": \"conservationist\", \"ner_tag\": \"O\", \"char_offset\": \"21\", \"lemma\": \"conservationist\", \"entity_typ\": \"O\", \"dep_parent\": \"1\"}, \"children\": [{\"attrib\": {\"dep_label\": \"compound\", \"pos_tag\": \"NN\", \"entity_cid\": \"O\", \"word\": \"wildlife\", \"ner_tag\": \"O\", \"char_offset\": \"12\", \"lemma\": \"wildlife\", \"entity_typ\": \"O\", \"dep_parent\": \"4\"}, \"children\": []}, {\"attrib\": {\"dep_label\": \"appos\", \"pos_tag\": \"NNP\", \"entity_cid\": \"O\", \"word\": \"Bindi\", \"ner_tag\": \"PERSON\", \"char_offset\": \"37\", \"lemma\": \"bindi\", \"entity_typ\": \"O\", \"dep_parent\": \"4\"}, \"children\": [{\"attrib\": {\"dep_label\": \"punct\", \"pos_tag\": \",\", \"entity_cid\": \"O\", \"word\": \",\", \"ner_tag\": \"O\", \"char_offset\": \"42\", \"lemma\": \",\", \"entity_typ\": \"O\", \"dep_parent\": \"5\"}, \"children\": []}, {\"attrib\": {\"dep_label\": \"appos\", \"pos_tag\": \"CD\", \"entity_cid\": \"O\", \"word\": \"17\", \"ner_tag\": \"DATE\", \"char_offset\": \"44\", \"lemma\": \"17\", \"entity_typ\": \"O\", \"dep_parent\": \"5\"}, \"children\": []}, {\"attrib\": {\"dep_label\": \"punct\", \"pos_tag\": \",\", \"entity_cid\": \"O\", \"word\": \",\", \"ner_tag\": \"O\", \"char_offset\": \"46\", \"lemma\": \",\", \"entity_typ\": \"O\", \"dep_parent\": \"5\"}, \"children\": []}]}]}]}, {\"attrib\": {\"dep_label\": \"dobj\", \"pos_tag\": \"NN\", \"entity_cid\": \"O\", \"word\": \"stage\", \"ner_tag\": \"O\", \"char_offset\": \"56\", \"lemma\": \"stage\", \"entity_typ\": \"O\", \"dep_parent\": \"9\"}, \"children\": [{\"attrib\": {\"dep_label\": \"det\", \"pos_tag\": \"DT\", \"entity_cid\": \"O\", \"word\": \"the\", \"ner_tag\": \"O\", \"char_offset\": \"52\", \"lemma\": \"the\", \"entity_typ\": \"O\", \"dep_parent\": \"11\"}, \"children\": []}]}, {\"attrib\": {\"dep_label\": \"prep\", \"pos_tag\": \"IN\", \"entity_cid\": \"O\", \"word\": \"with\", \"ner_tag\": \"O\", \"char_offset\": \"62\", \"lemma\": \"with\", \"entity_typ\": \"O\", \"dep_parent\": \"9\"}, \"children\": [{\"attrib\": {\"dep_label\": \"pobj\", \"pos_tag\": \"NN\", \"entity_cid\": \"O\", \"word\": \"partner\", \"ner_tag\": \"O\", \"char_offset\": \"81\", \"lemma\": \"partner\", \"entity_typ\": \"O\", \"dep_parent\": \"12\"}, \"children\": [{\"attrib\": {\"dep_label\": \"poss\", \"pos_tag\": \"PRP$\", \"entity_cid\": \"O\", \"word\": \"her\", \"ner_tag\": \"O\", \"char_offset\": \"67\", \"lemma\": \"-PRON-\", \"entity_typ\": \"O\", \"dep_parent\": \"16\"}, \"children\": []}, {\"attrib\": {\"dep_label\": \"nmod\", \"pos_tag\": \"NNP\", \"entity_cid\": \"O\", \"word\": \"Season\", \"ner_tag\": \"O\", \"char_offset\": \"71\", \"lemma\": \"season\", \"entity_typ\": \"O\", \"dep_parent\": \"16\"}, \"children\": [{\"attrib\": {\"dep_label\": \"nummod\", \"pos_tag\": \"CD\", \"entity_cid\": \"O\", \"word\": \"21\", \"ner_tag\": \"CARDINAL\", \"char_offset\": \"78\", \"lemma\": \"21\", \"entity_typ\": \"O\", \"dep_parent\": \"14\"}, \"children\": []}]}, {\"attrib\": {\"dep_label\": \"punct\", \"pos_tag\": \",\", \"entity_cid\": \"O\", \"word\": \",\", \"ner_tag\": \"O\", \"char_offset\": \"88\", \"lemma\": \",\", \"entity_typ\": \"O\", \"dep_parent\": \"16\"}, \"children\": []}, {\"attrib\": {\"dep_label\": \"appos\", \"pos_tag\": \"NNP\", \"entity_cid\": \"O\", \"word\": \"Hough\", \"ner_tag\": \"PERSON\", \"char_offset\": \"126\", \"lemma\": \"hough\", \"entity_typ\": \"O\", \"dep_parent\": \"16\"}, \"children\": [{\"attrib\": {\"dep_label\": \"compound\", \"pos_tag\": \"NN\", \"entity_cid\": \"O\", \"word\": \"champion\", \"ner_tag\": \"O\", \"char_offset\": \"111\", \"lemma\": \"champion\", \"entity_typ\": \"O\", \"dep_parent\": \"24\"}, \"children\": [{\"attrib\": {\"dep_label\": \"compound\", \"pos_tag\": \"NN\", \"entity_cid\": \"O\", \"word\": \"time\", \"ner_tag\": \"O\", \"char_offset\": \"95\", \"lemma\": \"time\", \"entity_typ\": \"O\", \"dep_parent\": \"22\"}, \"children\": [{\"attrib\": {\"dep_label\": \"nummod\", \"pos_tag\": \"CD\", \"entity_cid\": \"O\", \"word\": \"five\", \"ner_tag\": \"CARDINAL\", \"char_offset\": \"90\", \"lemma\": \"five\", \"entity_typ\": \"O\", \"dep_parent\": \"20\"}, \"children\": []}, {\"attrib\": {\"dep_label\": \"punct\", \"pos_tag\": \"HYPH\", \"entity_cid\": \"O\", \"word\": \"-\", \"ner_tag\": \"O\", \"char_offset\": \"94\", \"lemma\": \"-\", \"entity_typ\": \"O\", \"dep_parent\": \"20\"}, \"children\": []}]}, {\"attrib\": {\"dep_label\": \"compound\", \"pos_tag\": \"NN\", \"entity_cid\": \"O\", \"word\": \"mirrorball\", \"ner_tag\": \"O\", \"char_offset\": \"100\", \"lemma\": \"mirrorball\", \"entity_typ\": \"O\", \"dep_parent\": \"22\"}, \"children\": []}]}, {\"attrib\": {\"dep_label\": \"compound\", \"pos_tag\": \"NNP\", \"entity_cid\": \"O\", \"word\": \"Derek\", \"ner_tag\": \"PERSON\", \"char_offset\": \"120\", \"lemma\": \"derek\", \"entity_typ\": \"O\", \"dep_parent\": \"24\"}, \"children\": []}]}, {\"attrib\": {\"dep_label\": \"punct\", \"pos_tag\": \",\", \"entity_cid\": \"O\", \"word\": \",\", \"ner_tag\": \"O\", \"char_offset\": \"131\", \"lemma\": \",\", \"entity_typ\": \"O\", \"dep_parent\": \"16\"}, \"children\": []}, {\"attrib\": {\"dep_label\": \"prep\", \"pos_tag\": \"IN\", \"entity_cid\": \"O\", \"word\": \"for\", \"ner_tag\": \"O\", \"char_offset\": \"133\", \"lemma\": \"for\", \"entity_typ\": \"O\", \"dep_parent\": \"16\"}, \"children\": [{\"attrib\": {\"dep_label\": \"pobj\", \"pos_tag\": \"NN\", \"entity_cid\": \"O\", \"word\": \"jive\", \"ner_tag\": \"O\", \"char_offset\": \"149\", \"lemma\": \"jive\", \"entity_typ\": \"O\", \"dep_parent\": \"26\"}, \"children\": [{\"attrib\": {\"dep_label\": \"det\", \"pos_tag\": \"DT\", \"entity_cid\": \"O\", \"word\": \"an\", \"ner_tag\": \"O\", \"char_offset\": \"137\", \"lemma\": \"an\", \"entity_typ\": \"O\", \"dep_parent\": \"29\"}, \"children\": []}, {\"attrib\": {\"dep_label\": \"amod\", \"pos_tag\": \"JJ\", \"entity_cid\": \"O\", \"word\": \"exciting\", \"ner_tag\": \"O\", \"char_offset\": \"140\", \"lemma\": \"exciting\", \"entity_typ\": \"O\", \"dep_parent\": \"29\"}, \"children\": []}, {\"attrib\": {\"dep_label\": \"relcl\", \"pos_tag\": \"VBD\", \"entity_cid\": \"O\", \"word\": \"wowed\", \"ner_tag\": \"O\", \"char_offset\": \"159\", \"lemma\": \"wow\", \"entity_typ\": \"O\", \"dep_parent\": \"29\"}, \"children\": [{\"attrib\": {\"dep_label\": \"nsubj\", \"pos_tag\": \"WDT\", \"entity_cid\": \"O\", \"word\": \"that\", \"ner_tag\": \"O\", \"char_offset\": \"154\", \"lemma\": \"that\", \"entity_typ\": \"O\", \"dep_parent\": \"31\"}, \"children\": []}, {\"attrib\": {\"dep_label\": \"dobj\", \"pos_tag\": \"NN\", \"entity_cid\": \"O\", \"word\": \"crowd\", \"ner_tag\": \"O\", \"char_offset\": \"169\", \"lemma\": \"crowd\", \"entity_typ\": \"O\", \"dep_parent\": \"31\"}, \"children\": [{\"attrib\": {\"dep_label\": \"det\", \"pos_tag\": \"DT\", \"entity_cid\": \"O\", \"word\": \"the\", \"ner_tag\": \"O\", \"char_offset\": \"165\", \"lemma\": \"the\", \"entity_typ\": \"O\", \"dep_parent\": \"33\"}, \"children\": []}]}]}]}]}]}]}, {\"attrib\": {\"dep_label\": \"punct\", \"pos_tag\": \".\", \"entity_cid\": \"O\", \"word\": \".\", \"ner_tag\": \"O\", \"char_offset\": \"174\", \"lemma\": \".\", \"entity_typ\": \"O\", \"dep_parent\": \"9\"}, \"children\": []}]};\n",
       "\n",
       "// Constants\n",
       "var margin = {top: 20, right: 20, bottom: 50, left: 20},\n",
       "width = 800 - (margin.left - margin.right),\n",
       "height = 300 - (margin.top - margin.bottom),\n",
       "R = 5;\n",
       "\n",
       "// Create the d3 tree object\n",
       "var tree = d3.layout.tree()\n",
       "  .size([width, height]);\n",
       "\n",
       "// Create the svg canvas\n",
       "var svg = d3.select(\"#tree-chart-1165848529123350832\")\n",
       "  .append(\"svg\")\n",
       "  .attr(\"width\", width + margin.left + margin.right)\n",
       "  .attr(\"height\", height + margin.top + margin.bottom)\n",
       "  .append(\"g\")\n",
       "  .attr(\"transform\", \"translate(\" + margin.left + \",\" + margin.top + \")\");\n",
       "\n",
       "function renderTree() {\n",
       "  var nodes = tree.nodes(root),\n",
       "  edges = tree.links(nodes);\n",
       "\n",
       "  // Place the nodes\n",
       "  var nodeGroups = svg.selectAll(\"g.node\")\n",
       "    .data(nodes)\n",
       "    .enter().append(\"g\")\n",
       "    .attr(\"class\", \"node\")\n",
       "    .attr(\"transform\", function(d) { return \"translate(\" + d.x + \",\" + d.y + \")\"; });\n",
       "       \n",
       "  // Append circles\n",
       "  nodeGroups.append(\"circle\")\n",
       "    .on(\"click\", function() {\n",
       "      d3.select(this).classed(\"highlight\", !d3.select(this).classed(\"highlight\")); })\n",
       "    .attr(\"r\", R);\n",
       "     \n",
       "  // Append the actual word\n",
       "  nodeGroups.append(\"text\")\n",
       "    .text(function(d) { return d.attrib.word; })\n",
       "    .attr(\"text-anchor\", function(d) { \n",
       "      return d.children && d.children.length > 0 ? \"start\" : \"middle\"; })\n",
       "    .attr(\"dx\", function(d) { \n",
       "      return d.children && d.children.length > 0 ? R + 3 : 0; })\n",
       "    .attr(\"dy\", function(d) { \n",
       "      return d.children && d.children.length > 0 ? 0 : 3*R + 3; });\n",
       "\n",
       "  // Place the edges\n",
       "  var edgePaths = svg.selectAll(\"path\")\n",
       "    .data(edges)\n",
       "    .enter().append(\"path\")\n",
       "    .attr(\"class\", \"edge\")\n",
       "    .on(\"click\", function() {\n",
       "      d3.select(this).classed(\"highlight\", !d3.select(this).classed(\"highlight\")); })\n",
       "    .attr(\"d\", d3.svg.diagonal());\n",
       "}\n",
       "\n",
       "renderTree();\n",
       "});\n"
      ]
     },
     "metadata": {},
     "output_type": "display_data"
    }
   ],
   "source": [
    "tree.render_tree()"
   ]
  },
  {
   "cell_type": "markdown",
   "metadata": {
    "collapsed": true
   },
   "source": [
    "## 4: `Cheat Sheet`\n",
    "----\n",
    "\n",
    "### Accessing `Candidate` tokens\n",
    "\n",
    "Full helper function list at\n",
    "http://snorkel.readthedocs.io/en/latest/etc.html#module-snorkel.lf_helpers\n",
    "\n",
    "`snorkel.lf_helpers.get_left_tokens(...)\n",
    "snorkel.lf_helpers.get_right_tokens(...)\n",
    "snorkel.lf_helpers.get_between_tokens(...)\n",
    "snorkel.lf_helpers.get_text_between(...)\n",
    "snorkel.lf_helpers.get_tagged_text(...)`\n",
    "\n",
    "### `Candidate` member functions\n",
    "\n",
    "`c[0].get_attrib_tokens(...)\n",
    "c[0].get_word_start(...)\n",
    "c[0].get_word_end(...)`\n",
    "\n",
    "\n",
    "### `Sentence` attributes\n",
    "\n",
    "| Variable Name   | Description                          |\n",
    "|-------------|------------------------------------------|\n",
    "| `s.words`   | Text Tokens                              |\n",
    "| `s.lemmas`  | Lemma, \"a base word and its inflections\" |\n",
    "| `s.pos_tags` | Part-of-speech Tags                     |\n",
    "| `s.ner_tags` | Named Entity Tags                     |\n",
    "| `s.dep_parents` |  Dependency Tree Heads            |\n",
    "| `s.dep_labels` |  Dependency Tree Tags            |  \n",
    "| `s.char_offsets` |  Character Offsets          |\n",
    "| `s.abs_char_offsets` |  Absolute (document) Character Offsets |\n",
    "\n",
    "\n",
    "### Computing Labeling Function Metrics\n",
    "\n",
    "`snorkel.lf_helpers.test_LF`"
   ]
  },
  {
   "cell_type": "code",
   "execution_count": null,
   "metadata": {
    "collapsed": true
   },
   "outputs": [],
   "source": []
  }
 ],
 "metadata": {
  "kernelspec": {
   "display_name": "Python 2",
   "language": "python",
   "name": "python2"
  },
  "language_info": {
   "codemirror_mode": {
    "name": "ipython",
    "version": 2
   },
   "file_extension": ".py",
   "mimetype": "text/x-python",
   "name": "python",
   "nbconvert_exporter": "python",
   "pygments_lexer": "ipython2",
   "version": "2.7.13"
  }
 },
 "nbformat": 4,
 "nbformat_minor": 2
}
