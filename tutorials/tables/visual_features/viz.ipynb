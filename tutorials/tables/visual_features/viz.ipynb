{
 "cells": [
  {
   "cell_type": "markdown",
   "metadata": {},
   "source": [
    "# Adding Visual Features"
   ]
  },
  {
   "cell_type": "markdown",
   "metadata": {},
   "source": [
    "### Step 1: Coordinate Extraction"
   ]
  },
  {
   "cell_type": "code",
   "execution_count": 121,
   "metadata": {
    "collapsed": false
   },
   "outputs": [],
   "source": [
    "# Ines's code takes PDF and yields pdf_word_list, coordinate_map\n",
    "import os \n",
    "import subprocess\n",
    "\n",
    "pdf_file = \"/Users/ineschami/Desktop/bc546-d.pdf\" # Path to PDF file \n",
    "# create coordinates and id files\n",
    "os.system('./getCoordinates.sh {}'.format(pdf_file)) # requires bs4 and lxml pareser installed\n",
    "\n",
    "basename = subprocess.check_output('basename {} .pdf'.format(pdf_file), shell=True)\n",
    "dirname = subprocess.check_output('dirname {}'.format(pdf_file), shell=True)\n",
    "coordinates = open(dirname.rstrip() + '/' + basename.rstrip() + '.ids_coordinates.txt','r').readlines()\n",
    "words = open(dirname.rstrip() + '/' + basename.rstrip() + '.ids_words.txt','r').readlines()\n",
    "words_map = {}\n",
    "coordinate_map= {}\n",
    "for i in range(len(words)):\n",
    "    try:\n",
    "        # get words and ids\n",
    "        word_id, word = words[i].rstrip().split('\\t')\n",
    "        words_map[word_id] = word\n",
    "        # get ids and coordinates \n",
    "        word_id, page_nb, top, left, bottom, right = coordinates[i].rstrip().split('\\t')\n",
    "        coordinate_map[word_id] = (page_nb, top, left, bottom, right)\n",
    "    except ValueError as e: \n",
    "        if str(e) == 'need more than 1 value to unpack': # word is a white space, ignore it\n",
    "            pass\n",
    "        else: \n",
    "            raise"
   ]
  },
  {
   "cell_type": "markdown",
   "metadata": {},
   "source": [
    "### Step 2: PDF to HTML Conversion"
   ]
  },
  {
   "cell_type": "markdown",
   "metadata": {},
   "source": [
    "Use Adobe Acrobat (or other program of your choice) to convert PDF -> HTML with structure."
   ]
  },
  {
   "cell_type": "markdown",
   "metadata": {},
   "source": [
    "### Step 3: HTML Parsing"
   ]
  },
  {
   "cell_type": "code",
   "execution_count": null,
   "metadata": {
    "collapsed": true
   },
   "outputs": [],
   "source": [
    "# Payal's parser takes HTML and yields corpus object, html_word_list"
   ]
  },
  {
   "cell_type": "markdown",
   "metadata": {},
   "source": [
    "### Step 4: Visual Linking"
   ]
  },
  {
   "cell_type": "code",
   "execution_count": null,
   "metadata": {
    "collapsed": true
   },
   "outputs": [],
   "source": [
    "from visual_linking import link_lists\n",
    "\n",
    "%time links = link_lists(pdf_word_list, html_word_list)"
   ]
  },
  {
   "cell_type": "markdown",
   "metadata": {},
   "source": [
    "### Step 5: Updating with coordinates"
   ]
  },
  {
   "cell_type": "code",
   "execution_count": 2,
   "metadata": {
    "collapsed": true
   },
   "outputs": [],
   "source": [
    "# Payal's code walks through phrases, updating each one's five visual attributes\n",
    "# (page, top, left, bottom, right)"
   ]
  },
  {
   "cell_type": "markdown",
   "metadata": {},
   "source": [
    "### Step 6: Assess Results"
   ]
  },
  {
   "cell_type": "code",
   "execution_count": 122,
   "metadata": {
    "collapsed": true
   },
   "outputs": [],
   "source": [
    "# Use Ines's code to plot locations of words on the original PDF\n",
    "import numpy as np\n",
    "import cv2"
   ]
  },
  {
   "cell_type": "code",
   "execution_count": 128,
   "metadata": {
    "collapsed": false
   },
   "outputs": [],
   "source": [
    "page_to_visualize = '2' # page number to visualize"
   ]
  },
  {
   "cell_type": "code",
   "execution_count": 129,
   "metadata": {
    "collapsed": false
   },
   "outputs": [],
   "source": [
    "# Create a black image\n",
    "img = np.zeros((1150,920,3), np.uint8)  # size of A4 pdf \n",
    "for page_nb, top, left, bottom, right in coordinate_map.values():\n",
    "    if page_nb == page_to_visualize:\n",
    "        cv2.rectangle(img,(int(left),int(top)),(int(right),int(bottom)),(0,255,0),3)"
   ]
  },
  {
   "cell_type": "code",
   "execution_count": 130,
   "metadata": {
    "collapsed": false
   },
   "outputs": [],
   "source": [
    "cv2.imshow('Bounding boxes',img)\n",
    "cv2.waitKey() # press any key to exit the opencv output \n",
    "cv2.destroyAllWindows() "
   ]
  },
  {
   "cell_type": "code",
   "execution_count": 131,
   "metadata": {
    "collapsed": false
   },
   "outputs": [
    {
     "data": {
      "text/plain": [
       "True"
      ]
     },
     "execution_count": 131,
     "metadata": {},
     "output_type": "execute_result"
    }
   ],
   "source": [
    "cv2.imwrite('/Users/ineschami/Desktop/test.png', img)"
   ]
  }
 ],
 "metadata": {
  "anaconda-cloud": {},
  "kernelspec": {
   "display_name": "Python 2",
   "language": "python",
   "name": "python2"
  },
  "language_info": {
   "codemirror_mode": {
    "name": "ipython",
    "version": 2
   },
   "file_extension": ".py",
   "mimetype": "text/x-python",
   "name": "python",
   "nbconvert_exporter": "python",
   "pygments_lexer": "ipython2",
   "version": "2.7.10"
  }
 },
 "nbformat": 4,
 "nbformat_minor": 1
}
