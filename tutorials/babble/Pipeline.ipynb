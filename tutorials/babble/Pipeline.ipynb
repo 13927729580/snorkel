{
 "cells": [
  {
   "cell_type": "code",
   "execution_count": 1,
   "metadata": {
    "collapsed": false
   },
   "outputs": [],
   "source": [
    "%load_ext autoreload\n",
    "%autoreload 2"
   ]
  },
  {
   "cell_type": "code",
   "execution_count": 2,
   "metadata": {
    "collapsed": true
   },
   "outputs": [],
   "source": [
    "config = {\n",
    "    'domain': 'spouse',\n",
    "    'postgres': True,\n",
    "    'debug': True\n",
    "}"
   ]
  },
  {
   "cell_type": "code",
   "execution_count": 3,
   "metadata": {
    "collapsed": false
   },
   "outputs": [
    {
     "name": "stdout",
     "output_type": "stream",
     "text": [
      "$SNORKELDB = postgres:///babble_spouse_debug\n"
     ]
    }
   ],
   "source": [
    "# Get DB connection string and add to globals\n",
    "# NOTE: $SNORKELDB must be set before any snorkel imports\n",
    "import os\n",
    "\n",
    "default_db_name = 'babble_' + config['domain'] + ('_debug' if config['debug'] else '')\n",
    "DB_NAME = getattr(config, 'db_name', default_db_name)\n",
    "if 'postgres' in config and config['postgres']:\n",
    "    DB_TYPE = 'postgres'\n",
    "else:\n",
    "    DB_TYPE = 'sqlite'\n",
    "    DB_NAME += '.db'\n",
    "DB_ADDR = \"localhost:{0}\".format(config['db_port']) if 'db_port' in config else \"\"\n",
    "os.environ['SNORKELDB'] = '{0}://{1}/{2}'.format(DB_TYPE, DB_ADDR, DB_NAME)\n",
    "print(\"$SNORKELDB = {0}\".format(os.environ['SNORKELDB']))"
   ]
  },
  {
   "cell_type": "code",
   "execution_count": 4,
   "metadata": {
    "collapsed": false,
    "scrolled": false
   },
   "outputs": [
    {
     "name": "stdout",
     "output_type": "stream",
     "text": [
      "NOTE: --debug=True: modifying parameters...\n"
     ]
    }
   ],
   "source": [
    "from snorkel import SnorkelSession\n",
    "session = SnorkelSession()\n",
    "\n",
    "# Resolve config conflicts (nb_config > local_config > global_config)\n",
    "from snorkel.contrib.babble.pipelines import merge_configs, get_local_pipeline\n",
    "config = merge_configs(config)\n",
    "\n",
    "if config['debug']:\n",
    "    print(\"NOTE: --debug=True: modifying parameters...\")\n",
    "    config['max_docs'] = 100\n",
    "    config['gen_model_search_space'] = 2\n",
    "    config['disc_model_search_space'] = 2\n",
    "    config['gen-params-default']['epochs'] = 25\n",
    "    config['disc-params-default']['n_epochs'] = 5\n",
    "\n",
    "from snorkel.models import candidate_subclass\n",
    "candidate_class = candidate_subclass(config['candidate_name'], config['candidate_entities'])\n",
    "\n",
    "pipeline = get_local_pipeline(config['domain'])\n",
    "pipe = pipeline(session, candidate_class, config)"
   ]
  },
  {
   "cell_type": "code",
   "execution_count": 5,
   "metadata": {
    "collapsed": false
   },
   "outputs": [],
   "source": [
    "# pipe.parse()"
   ]
  },
  {
   "cell_type": "code",
   "execution_count": 6,
   "metadata": {
    "collapsed": false,
    "scrolled": true
   },
   "outputs": [],
   "source": [
    "# pipe.extract()"
   ]
  },
  {
   "cell_type": "code",
   "execution_count": 7,
   "metadata": {
    "collapsed": false,
    "scrolled": true
   },
   "outputs": [],
   "source": [
    "# pipe.load_gold()"
   ]
  },
  {
   "cell_type": "code",
   "execution_count": 8,
   "metadata": {
    "collapsed": false,
    "scrolled": false
   },
   "outputs": [],
   "source": [
    "# pipe.collect()"
   ]
  },
  {
   "cell_type": "code",
   "execution_count": 9,
   "metadata": {
    "collapsed": false
   },
   "outputs": [],
   "source": [
    "# pipe.label()"
   ]
  },
  {
   "cell_type": "code",
   "execution_count": 10,
   "metadata": {
    "collapsed": false,
    "scrolled": false
   },
   "outputs": [
    {
     "name": "stdout",
     "output_type": "stream",
     "text": [
      "Using L_train: <843x8 sparse matrix of type '<type 'numpy.int64'>'\n",
      "\twith 2364 stored elements in Compressed Sparse Row format>\n",
      "Using L_dev: <62x8 sparse matrix of type '<type 'numpy.int64'>'\n",
      "\twith 173 stored elements in Compressed Sparse Row format>\n",
      "Using L_test: <75x8 sparse matrix of type '<type 'numpy.int64'>'\n",
      "\twith 219 stored elements in Compressed Sparse Row format>\n",
      "============================================================\n",
      "[1] Testing init_class_prior = -1.00e+00, step_size = 1.00e-02, reg_param = 1.00e-02, LF_acc_prior_weights = None, LF_acc_prior_weight_default = 1.00e+00\n",
      "============================================================\n",
      "Inferred cardinality: 2\n",
      "[GenerativeModel] F-1 Score: 0.0\n",
      "[GenerativeModel] Model saved as <GenerativeModel_0>.\n",
      "============================================================\n",
      "[2] Testing init_class_prior = -1.00e+00, step_size = 1.00e-05, reg_param = 0.00e+00, LF_acc_prior_weights = None, LF_acc_prior_weight_default = 1.00e+00\n",
      "============================================================\n",
      "Inferred cardinality: 2\n",
      "[GenerativeModel] F-1 Score: 0.545454545455\n",
      "[GenerativeModel] Model saved as <GenerativeModel_1>.\n",
      "[GenerativeModel] Model <GenerativeModel_1> loaded.\n",
      "   init_class_prior  step_size  reg_param LF_acc_prior_weights  \\\n",
      "1              -1.0    0.00001       0.00                 None   \n",
      "0              -1.0    0.01000       0.01                 None   \n",
      "\n",
      "   LF_acc_prior_weight_default  Prec.  Rec.       F-1  \n",
      "1                          1.0    0.5   0.6  0.545455  \n",
      "0                          1.0    0.0   0.0  0.000000  \n",
      "[GenerativeModel] Model saved as <generative_spouse>.\n",
      "\n",
      "Gen. model (DP) score on test set (b=0.9):\n",
      "========================================\n",
      "Scores (Un-adjusted)\n",
      "========================================\n",
      "Pos. class accuracy: 0.571\n",
      "Neg. class accuracy: 1.0\n",
      "Precision            1.0\n",
      "Recall               0.571\n",
      "F1                   0.727\n",
      "----------------------------------------\n",
      "TP: 4 | FP: 0 | TN: 68 | FN: 3\n",
      "========================================\n",
      "\n"
     ]
    },
    {
     "data": {
      "image/png": "[encoded data removed]",
      "text/plain": [
       "<matplotlib.figure.Figure at 0x12aa1b310>"
      ]
     },
     "metadata": {},
     "output_type": "display_data"
    }
   ],
   "source": [
    "pipe.supervise()"
   ]
  },
  {
   "cell_type": "code",
   "execution_count": 11,
   "metadata": {
    "collapsed": false,
    "scrolled": false
   },
   "outputs": [
    {
     "name": "stdout",
     "output_type": "stream",
     "text": [
      "============================================================\n",
      "[1] Testing dim = 50, dropout = 2.50e-01, rebalance = 2.50e-01, lr = 1.00e-03\n",
      "============================================================\n"
     ]
    },
    {
     "name": "stderr",
     "output_type": "stream",
     "text": [
      "/Users/bradenjh/repos/snorkel/snorkel/learning/disc_models/rnn/rnn_base.py:34: UserWarning: Candidate 116 has argument past max length for model:\t[arg ends at index 136; max len 100]\n",
      "  warnings.warn('\\t'.join([w.format(i), info]))\n",
      "/Users/bradenjh/repos/snorkel/snorkel/learning/disc_models/rnn/rnn_base.py:35: UserWarning: Additional warnings of this nature will be suppressed.\n",
      "  warnings.warn('Additional warnings of this nature will be suppressed.')\n",
      "/Users/bradenjh/anaconda/envs/snorkel/lib/python2.7/site-packages/tensorflow/python/ops/gradients_impl.py:91: UserWarning: Converting sparse IndexedSlices to a dense Tensor of unknown shape. This may consume a large amount of memory.\n",
      "  \"Converting sparse IndexedSlices to a dense Tensor of unknown shape. \"\n"
     ]
    },
    {
     "name": "stdout",
     "output_type": "stream",
     "text": [
      "[reRNN] Training model\n",
      "[reRNN] n_train=280  #epochs=5  batch size=128\n",
      "[reRNN] Epoch 0 (0.72s)\tAverage loss=0.692205\tDev F1=0.00\n",
      "[reRNN] Epoch 1 (1.53s)\tAverage loss=0.686920\tDev F1=0.00\n",
      "[reRNN] Epoch 2 (2.32s)\tAverage loss=0.679299\tDev F1=0.00\n",
      "[reRNN] Epoch 3 (3.06s)\tAverage loss=0.672750\tDev F1=0.00\n",
      "[reRNN] Epoch 4 (3.74s)\tAverage loss=0.659548\tDev F1=0.00\n",
      "[reRNN] Training done (3.79s)\n",
      "[reRNN] F-1.0 Score: 0.0\n"
     ]
    },
    {
     "name": "stderr",
     "output_type": "stream",
     "text": [
      "/Users/bradenjh/repos/snorkel/snorkel/learning/disc_models/rnn/rnn_base.py:34: UserWarning: Candidate 45 has argument past max length for model:\t[arg ends at index 199; max len 100]\n",
      "  warnings.warn('\\t'.join([w.format(i), info]))\n"
     ]
    },
    {
     "name": "stdout",
     "output_type": "stream",
     "text": [
      "[reRNN] Model saved as <reRNN_0>\n",
      "============================================================\n",
      "[2] Testing dim = 100, dropout = 1.00e-01, rebalance = 2.50e-01, lr = 1.00e-03\n",
      "============================================================\n",
      "[reRNN] Training model\n",
      "[reRNN] n_train=280  #epochs=5  batch size=128\n",
      "[reRNN] Epoch 0 (1.22s)\tAverage loss=0.689455\tDev F1=0.00\n",
      "[reRNN] Epoch 1 (2.45s)\tAverage loss=0.675914\tDev F1=0.00\n",
      "[reRNN] Epoch 2 (3.54s)\tAverage loss=0.651022\tDev F1=0.00\n",
      "[reRNN] Epoch 3 (4.66s)\tAverage loss=0.618968\tDev F1=0.00\n",
      "[reRNN] Epoch 4 (5.84s)\tAverage loss=0.619171\tDev F1=0.00\n",
      "[reRNN] Training done (5.93s)\n",
      "[reRNN] F-1.0 Score: 0.0\n",
      "[reRNN] Loaded model <reRNN_0>\n",
      "   dim  dropout  rebalance     lr  Prec.  Rec.  F-1.0\n",
      "0   50     0.25       0.25  0.001    0.0   0.0    0.0\n",
      "1  100     0.10       0.25  0.001    0.0   0.0    0.0\n",
      "[reRNN] Model saved as <discriminative_spouse>\n",
      "### [7.2] Evaluate generative model\n",
      "### Done in 0.0s.\n",
      "\n",
      "### [7.3] Evaluate discriminative model\n",
      "### Done in 0.3s.\n",
      "\n",
      "      Coverage  F1 Score  Precision    Recall\n",
      "Disc       1.0  0.000000        0.0  0.000000\n",
      "Gen        1.0  0.727273        1.0  0.571429\n"
     ]
    },
    {
     "name": "stderr",
     "output_type": "stream",
     "text": [
      "/Users/bradenjh/repos/snorkel/snorkel/learning/disc_models/rnn/rnn_base.py:34: UserWarning: Candidate 38 has argument past max length for model:\t[arg ends at index 103; max len 100]\n",
      "  warnings.warn('\\t'.join([w.format(i), info]))\n"
     ]
    }
   ],
   "source": [
    "pipe.classify(config)"
   ]
  },
  {
   "cell_type": "code",
   "execution_count": null,
   "metadata": {
    "collapsed": true
   },
   "outputs": [],
   "source": []
  }
 ],
 "metadata": {
  "kernelspec": {
   "display_name": "Python 2",
   "language": "python",
   "name": "python2"
  },
  "language_info": {
   "codemirror_mode": {
    "name": "ipython",
    "version": 2
   },
   "file_extension": ".py",
   "mimetype": "text/x-python",
   "name": "python",
   "nbconvert_exporter": "python",
   "pygments_lexer": "ipython2",
   "version": "2.7.13"
  }
 },
 "nbformat": 4,
 "nbformat_minor": 2
}
