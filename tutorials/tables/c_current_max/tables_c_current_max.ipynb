{
 "cells": [
  {
   "cell_type": "markdown",
   "metadata": {},
   "source": [
    "# C_CURRENT_MAX"
   ]
  },
  {
   "cell_type": "markdown",
   "metadata": {},
   "source": [
    "## Setup"
   ]
  },
  {
   "cell_type": "code",
   "execution_count": null,
   "metadata": {
    "collapsed": true
   },
   "outputs": [],
   "source": [
    "# If necessary:\n",
    "import os\n",
    "os.remove('snorkel.db')"
   ]
  },
  {
   "cell_type": "code",
   "execution_count": null,
   "metadata": {
    "collapsed": false
   },
   "outputs": [],
   "source": [
    "%load_ext autoreload\n",
    "%autoreload 2\n",
    "%matplotlib inline\n",
    "\n",
    "import sys\n",
    "sys.path.append(os.environ['SNORKELHOME'] + '/tutorials/tables/')"
   ]
  },
  {
   "cell_type": "markdown",
   "metadata": {},
   "source": [
    "## Parsing"
   ]
  },
  {
   "cell_type": "code",
   "execution_count": null,
   "metadata": {
    "collapsed": true
   },
   "outputs": [],
   "source": [
    "from snorkel import SnorkelSession\n",
    "session = SnorkelSession()"
   ]
  },
  {
   "cell_type": "markdown",
   "metadata": {},
   "source": [
    "### Define Parser"
   ]
  },
  {
   "cell_type": "code",
   "execution_count": null,
   "metadata": {
    "collapsed": true
   },
   "outputs": [],
   "source": [
    "import os\n",
    "from snorkel.parser import CorpusParser, HTMLParser, OmniParser\n",
    "from snorkel.utils import get_ORM_instance\n",
    "from snorkel.queries import split_corpus\n",
    "\n",
    "docs_path = os.environ['SNORKELHOME'] + '/tutorials/tables/data/hardware/hardware100_html/'\n",
    "doc_parser = HTMLParser(path=docs_path)\n",
    "context_parser = OmniParser()\n",
    "cp = CorpusParser(doc_parser, context_parser, max_docs=100) "
   ]
  },
  {
   "cell_type": "markdown",
   "metadata": {},
   "source": [
    "### Run Parser"
   ]
  },
  {
   "cell_type": "code",
   "execution_count": null,
   "metadata": {
    "collapsed": false,
    "scrolled": true
   },
   "outputs": [],
   "source": [
    "%time corpus = cp.parse_corpus(name='Hardware', session=session)\n",
    "\n",
    "session.add(corpus)\n",
    "session.commit()"
   ]
  },
  {
   "cell_type": "markdown",
   "metadata": {},
   "source": [
    "### Split Corpus"
   ]
  },
  {
   "cell_type": "code",
   "execution_count": null,
   "metadata": {
    "collapsed": false
   },
   "outputs": [],
   "source": [
    "from snorkel.models import Corpus\n",
    "\n",
    "corpus = get_ORM_instance(Corpus, session, 'Hardware')\n",
    "split_corpus(session, corpus, train=0.8, development=0.2, test=0, seed=4)"
   ]
  },
  {
   "cell_type": "code",
   "execution_count": null,
   "metadata": {
    "collapsed": true
   },
   "outputs": [],
   "source": [
    "# If necessary\n",
    "import os\n",
    "os.system('cp snorkel.db snorkel.db\\ corpus');"
   ]
  },
  {
   "cell_type": "markdown",
   "metadata": {},
   "source": [
    "## Extraction"
   ]
  },
  {
   "cell_type": "code",
   "execution_count": null,
   "metadata": {
    "collapsed": false
   },
   "outputs": [],
   "source": [
    "# If necessary:\n",
    "import os\n",
    "os.remove('snorkel.db');\n",
    "os.system('cp snorkel.db\\ corpus snorkel.db');\n",
    "\n",
    "import sys\n",
    "sys.path.append(os.environ['SNORKELHOME'] + '/tutorials/tables/')\n",
    "\n",
    "from snorkel import SnorkelSession\n",
    "session = SnorkelSession()"
   ]
  },
  {
   "cell_type": "code",
   "execution_count": null,
   "metadata": {
    "collapsed": true
   },
   "outputs": [],
   "source": [
    "from snorkel.models import candidate_subclass\n",
    "\n",
    "Part_Current = candidate_subclass('Part_Current', ['part','current'])"
   ]
  },
  {
   "cell_type": "markdown",
   "metadata": {},
   "source": [
    "### Define Matchers"
   ]
  },
  {
   "cell_type": "code",
   "execution_count": null,
   "metadata": {
    "collapsed": true
   },
   "outputs": [],
   "source": [
    "from snorkel.matchers import RegexMatchSpan, Union\n",
    "\n",
    "eeca_matcher = RegexMatchSpan(rgx='([b]{1}[abcdefklnpqruyz]{1}[\\swxyz]?[0-9]{3,5}[\\s]?[A-Z\\/]{0,5}[0-9]?[A-Z]?([-][A-Z0-9]{1,7})?([-][A-Z0-9]{1,2})?)')\n",
    "jedec_matcher = RegexMatchSpan(rgx='([123]N\\d{3,4}[A-Z]{0,5}[0-9]?[A-Z]?)')\n",
    "jis_matcher = RegexMatchSpan(rgx='(2S[abcdefghjkmqrstvz]{1}[\\d]{2,4})')\n",
    "others_matcher = RegexMatchSpan(rgx='((NSVBC|SMBT|MJ|MJE|MPS|MRF|RCA|TIP|ZTX|ZT|TIS|TIPL|DTC|MMBT|PZT){1}[\\d]{2,4}[A-Z]{0,3}([-][A-Z0-9]{0,6})?([-][A-Z0-9]{0,1})?)')\n",
    "parts_matcher = Union(eeca_matcher, jedec_matcher, jis_matcher, others_matcher)\n",
    "\n",
    "#TODO: This is missing values represented as AMPs rather than milliamps\n",
    "current_matcher = RegexMatchSpan(rgx=r'\\-?([2-9]|1[0-2]?)00', longest_match_only=False)"
   ]
  },
  {
   "cell_type": "markdown",
   "metadata": {},
   "source": [
    "### Define ContextSpaces"
   ]
  },
  {
   "cell_type": "code",
   "execution_count": null,
   "metadata": {
    "collapsed": false
   },
   "outputs": [],
   "source": [
    "import os\n",
    "from collections import defaultdict\n",
    "from hardware_utils import OmniNgramsPart, OmniNgramsTemp, get_gold_dict\n",
    "\n",
    "# Make parts list\n",
    "gold_file = os.environ['SNORKELHOME'] + '/tutorials/tables/data/hardware/hardware_gold.csv'\n",
    "gold_parts = get_gold_dict(gold_file, doc_on=True, part_on=True, val_on=False)\n",
    "parts_by_doc = defaultdict(set)\n",
    "for part in gold_parts:\n",
    "    parts_by_doc[part[0]].add(part[1])\n",
    "    \n",
    "part_ngrams = OmniNgramsPart(parts_by_doc=parts_by_doc, n_max=3)\n",
    "\n",
    "# TODO: This is missing the current represented as an Amp rather than a milliamp\n",
    "current_ngrams = OmniNgramsTemp(n_max=3)"
   ]
  },
  {
   "cell_type": "markdown",
   "metadata": {},
   "source": [
    "### Run CandidateExtractor"
   ]
  },
  {
   "cell_type": "code",
   "execution_count": null,
   "metadata": {
    "collapsed": false
   },
   "outputs": [],
   "source": [
    "from snorkel.models import Corpus\n",
    "from snorkel.candidates import CandidateExtractor\n",
    "from snorkel.utils import get_ORM_instance\n",
    "from hardware_utils import PartCurrentThrottler\n",
    "\n",
    "part_throttler = PartCurrentThrottler()\n",
    "\n",
    "ce = CandidateExtractor(Part_Current, \n",
    "                        [part_ngrams, current_ngrams], \n",
    "                        [parts_matcher, current_matcher],\n",
    "                        part_throttler)\n",
    "\n",
    "for corpus_name in ['Hardware Training', 'Hardware Development']:\n",
    "    corpus = get_ORM_instance(Corpus, session, corpus_name)\n",
    "    print \"Extracting Candidates from %s\" % corpus\n",
    "    %time candidates = ce.extract(\\\n",
    "        corpus.documents, corpus_name + ' Candidates', session)\n",
    "    session.add(candidates)\n",
    "    print \"%s contains %d Candidates\" % (candidates, len(candidates))\n",
    "session.commit()"
   ]
  },
  {
   "cell_type": "markdown",
   "metadata": {},
   "source": [
    "### Assess Recall"
   ]
  },
  {
   "cell_type": "code",
   "execution_count": null,
   "metadata": {
    "collapsed": false
   },
   "outputs": [],
   "source": [
    "from snorkel.models import CandidateSet\n",
    "from hardware_utils import entity_level_total_recall, most_common_document\n",
    "from snorkel.models import Candidate\n",
    "\n",
    "all_candidates = session.query(Candidate).all()\n",
    "gold_file = os.environ['SNORKELHOME'] + '/tutorials/tables/data/hardware/hardware_gold.csv'\n",
    "(tp, fp, fn) = entity_level_total_recall(\n",
    "    all_candidates, gold_file, 'c_current_max', relation=True)\n",
    "print len(tp)\n",
    "print len(fp)\n",
    "print len(fn)"
   ]
  },
  {
   "cell_type": "code",
   "execution_count": null,
   "metadata": {
    "collapsed": false
   },
   "outputs": [],
   "source": [
    "from hardware_utils import entity_level_total_recall, most_common_document_candidates\n",
    "max_doc = most_common_document_candidates(all_candidates)\n",
    "print(max_doc)"
   ]
  },
  {
   "cell_type": "code",
   "execution_count": null,
   "metadata": {
    "collapsed": false
   },
   "outputs": [],
   "source": [
    "from pprint import pprint\n",
    "fns = list(fn)\n",
    "pprint(sorted(fns[:50]))"
   ]
  },
  {
   "cell_type": "code",
   "execution_count": null,
   "metadata": {
    "collapsed": true
   },
   "outputs": [],
   "source": []
  },
  {
   "cell_type": "code",
   "execution_count": null,
   "metadata": {
    "collapsed": true
   },
   "outputs": [],
   "source": [
    "# If necessary\n",
    "import os\n",
    "os.system('cp snorkel.db snorkel.db\\ candidates');"
   ]
  },
  {
   "cell_type": "markdown",
   "metadata": {},
   "source": [
    "## Gold Labels"
   ]
  },
  {
   "cell_type": "code",
   "execution_count": null,
   "metadata": {
    "collapsed": true
   },
   "outputs": [],
   "source": [
    "# If necessary\n",
    "import os\n",
    "os.remove('snorkel.db');\n",
    "os.system('cp snorkel.db\\ candidates snorkel.db');\n",
    "\n",
    "import sys\n",
    "sys.path.append(os.environ['SNORKELHOME'] + '/tutorials/tables/')\n",
    "\n",
    "from snorkel import SnorkelSession\n",
    "session = SnorkelSession()\n",
    "\n",
    "from snorkel.models import candidate_subclass\n",
    "Part_Current = candidate_subclass('Part_Current', ['part','current'])"
   ]
  },
  {
   "cell_type": "code",
   "execution_count": null,
   "metadata": {
    "collapsed": false
   },
   "outputs": [],
   "source": [
    "import os\n",
    "from snorkel.models import CandidateSet\n",
    "from hardware_utils import load_hardware_labels\n",
    "\n",
    "gold_file = os.environ['SNORKELHOME'] + '/tutorials/tables/data/hardware/hardware_gold.csv'\n",
    "for set_name in ['Training', 'Development']:\n",
    "    candidate_set_name = 'Hardware %s Candidates' % set_name\n",
    "    candidates = session.query(CandidateSet).filter(\n",
    "        CandidateSet.name == candidate_set_name).one()\n",
    "    label_set_name = 'Hardware %s Candidates -- Gold' % set_name\n",
    "    annotation_key_name = 'Hardware %s Labels -- Gold' % set_name\n",
    "    %time gold_candidates, annotation_key = load_hardware_labels(session,\\\n",
    "                           label_set_name, \\\n",
    "                           annotation_key_name, \\\n",
    "                           candidates, \\\n",
    "                           gold_file, \\\n",
    "                           attrib='c_current_max')\n",
    "    candidates_gold = session.query(CandidateSet).filter(\n",
    "        CandidateSet.name == candidate_set_name + ' -- Gold').one()\n",
    "    print \"%d/%d Candidates in %s have positive Labels\" % (\n",
    "        len(candidates_gold), len(candidates), candidates)"
   ]
  },
  {
   "cell_type": "code",
   "execution_count": null,
   "metadata": {
    "collapsed": true
   },
   "outputs": [],
   "source": [
    "# If necessary\n",
    "import os\n",
    "os.system('cp snorkel.db snorkel.db\\ labels');"
   ]
  },
  {
   "cell_type": "markdown",
   "metadata": {},
   "source": [
    "## Features"
   ]
  },
  {
   "cell_type": "code",
   "execution_count": null,
   "metadata": {
    "collapsed": true
   },
   "outputs": [],
   "source": [
    "# If necessary:\n",
    "import os\n",
    "os.remove('snorkel.db');\n",
    "os.system('cp snorkel.db\\ labels snorkel.db');\n",
    "\n",
    "import sys\n",
    "sys.path.append(os.environ['SNORKELHOME'] + '/tutorials/tables/')\n",
    "\n",
    "from snorkel import SnorkelSession\n",
    "session = SnorkelSession()\n",
    "\n",
    "from snorkel.models import candidate_subclass\n",
    "Part_Current = candidate_subclass('Part_Current', ['part','current'])"
   ]
  },
  {
   "cell_type": "markdown",
   "metadata": {},
   "source": [
    "### Extract Features"
   ]
  },
  {
   "cell_type": "code",
   "execution_count": null,
   "metadata": {
    "collapsed": false
   },
   "outputs": [],
   "source": [
    "from snorkel.models import CandidateSet\n",
    "from snorkel.annotations import FeatureManager\n",
    "from snorkel.utils import get_ORM_instance\n",
    "\n",
    "train = get_ORM_instance(CandidateSet, session, 'Hardware Training Candidates')\n",
    "dev   = get_ORM_instance(CandidateSet, session, 'Hardware Development Candidates')\n",
    "\n",
    "feature_manager = FeatureManager()\n",
    "%time F_train = feature_manager.create(session, train, 'Train Features')\n",
    "%time F_dev = feature_manager.update(session, dev, 'Train Features', expand_key_set=False)"
   ]
  },
  {
   "cell_type": "code",
   "execution_count": null,
   "metadata": {
    "collapsed": true
   },
   "outputs": [],
   "source": [
    "# If necessary:\n",
    "import os\n",
    "os.system('cp snorkel.db snorkel.db\\ featurized');"
   ]
  },
  {
   "cell_type": "markdown",
   "metadata": {},
   "source": [
    "## LFs"
   ]
  },
  {
   "cell_type": "code",
   "execution_count": null,
   "metadata": {
    "collapsed": true
   },
   "outputs": [],
   "source": [
    "# If necessary\n",
    "import os\n",
    "os.remove('snorkel.db');\n",
    "os.system('cp snorkel.db\\ featurized snorkel.db');\n",
    "\n",
    "import sys\n",
    "sys.path.append(os.environ['SNORKELHOME'] + '/tutorials/tables/')\n",
    "\n",
    "from snorkel import SnorkelSession\n",
    "session = SnorkelSession()\n",
    "\n",
    "from snorkel.models import candidate_subclass\n",
    "Part_Current = candidate_subclass('Part_Current', ['part','current'])\n",
    "\n",
    "from snorkel.models import CandidateSet\n",
    "train = session.query(CandidateSet).filter(\n",
    "    CandidateSet.name == 'Hardware Training Candidates').one()"
   ]
  },
  {
   "cell_type": "markdown",
   "metadata": {},
   "source": [
    "### Define LFs"
   ]
  },
  {
   "cell_type": "code",
   "execution_count": null,
   "metadata": {
    "collapsed": false
   },
   "outputs": [],
   "source": [
    "from snorkel.annotations import LabelManager\n",
    "from snorkel.lf_helpers import *\n",
    "label_manager = LabelManager()\n",
    "\n",
    "LFs = []\n",
    "\n",
    "# TODO: Get rid of generators\n",
    "\n",
    "# POSITIVE\n",
    "\n",
    "def LF_continuous_left(c):\n",
    "    return 1 if 'continuous' in get_left_ngrams(c.current, window=5) else 0\n",
    "LFs.append(LF_continuous_left)\n",
    "\n",
    "def LF_collector_current_row(c):\n",
    "    row_ngrams = set(get_row_ngrams(c.current))\n",
    "    return 1 if ('collector current' in row_ngrams or \n",
    "                 'continuous' in row_ngrams) else 0\n",
    "LFs.append(LF_collector_current_row)\n",
    "\n",
    "def LF_current_unit_row(c):\n",
    "    row_ngrams = set(get_row_ngrams(c.current))\n",
    "    return 1 if (\n",
    "        'mA'                in row_ngrams or\n",
    "        'A'                 in row_ngrams) else 0\n",
    "LFs.append(LF_current_unit_row)\n",
    "\n",
    "# NEGATIVE\n",
    "\n",
    "def LF_not_cc_relevant(c):\n",
    "    ngrams = get_aligned_ngrams(c.current)\n",
    "    return -1 if not ('collector' in ngrams or\n",
    "                      'current' in ngrams) else 0\n",
    "LFs.append(LF_not_cc_relevant)\n",
    "\n",
    "def LF_too_many_numbers_row(c):\n",
    "    num_numbers = list(get_row_ngrams(c.current, attrib=\"ner_tags\")).count('number')\n",
    "    return -1 if num_numbers >= 3 else 0\n",
    "LFs.append(LF_too_many_numbers_row)\n",
    "\n",
    "def LF_collector_aligned(c):\n",
    "    ngrams = set(get_aligned_ngrams(c.current))\n",
    "    return -1 if (\n",
    "        'collector-base'    in ngrams or\n",
    "        'cut-off'           in ngrams or\n",
    "        'collector-emitter' in ngrams) else 0\n",
    "LFs.append(LF_collector_aligned)\n",
    "\n",
    "def LF_voltage_row_temp(c):\n",
    "    ngrams = set(get_aligned_ngrams(c.current))\n",
    "    return -1 if (\n",
    "        'voltage' in ngrams or\n",
    "        'cbo'     in ngrams or\n",
    "        'ceo'     in ngrams or\n",
    "        'ebo'     in ngrams or\n",
    "        'v'       in ngrams) else 0\n",
    "LFs.append(LF_voltage_row_temp)\n",
    "\n",
    "def LF_voltage_row_part(c):\n",
    "    ngrams = set(get_aligned_ngrams(c.current))\n",
    "    return -1 if (\n",
    "        'voltage' in ngrams or\n",
    "        'cbo'     in ngrams or\n",
    "        'ceo'     in ngrams or\n",
    "        'ebo'     in ngrams or\n",
    "        'v'       in ngrams) else 0\n",
    "LFs.append(LF_voltage_row_part)\n",
    "\n",
    "def LF_test_condition_row(c):\n",
    "    ngrams = set(get_row_ngrams(c.current))\n",
    "    return -1 if ('test'      in ngrams and\n",
    "                  'condition' in ngrams) else 0\n",
    "LFs.append(LF_test_condition_row)\n"
   ]
  },
  {
   "cell_type": "markdown",
   "metadata": {},
   "source": [
    "### Apply LFs"
   ]
  },
  {
   "cell_type": "code",
   "execution_count": null,
   "metadata": {
    "collapsed": false
   },
   "outputs": [],
   "source": [
    "%time L_train = label_manager.create(session, train, 'LF Labels', f=LFs)\n",
    "L_train"
   ]
  },
  {
   "cell_type": "markdown",
   "metadata": {},
   "source": [
    "### Assess LF accuracy"
   ]
  },
  {
   "cell_type": "code",
   "execution_count": null,
   "metadata": {
    "collapsed": false
   },
   "outputs": [],
   "source": [
    "train_gold = session.query(CandidateSet).filter(\n",
    "    CandidateSet.name == 'Hardware Training Candidates -- Gold').one()\n",
    "%time L_train.lf_stats(train_gold)"
   ]
  },
  {
   "cell_type": "code",
   "execution_count": null,
   "metadata": {
    "collapsed": true
   },
   "outputs": [],
   "source": [
    "# If necessary\n",
    "import os\n",
    "os.system('cp snorkel.db snorkel.db\\ features');"
   ]
  },
  {
   "cell_type": "markdown",
   "metadata": {},
   "source": [
    "## Learn and Evaluate"
   ]
  },
  {
   "cell_type": "code",
   "execution_count": 1,
   "metadata": {
    "collapsed": false
   },
   "outputs": [],
   "source": [
    "# If necessary:\n",
    "import os\n",
    "os.remove('snorkel.db');\n",
    "os.system('cp snorkel.db\\ features snorkel.db');\n",
    "\n",
    "import sys\n",
    "sys.path.append(os.environ['SNORKELHOME'] + '/tutorials/tables/')\n",
    "\n",
    "from snorkel import SnorkelSession\n",
    "session = SnorkelSession()\n",
    "\n",
    "from snorkel.models import candidate_subclass\n",
    "Part_Current = candidate_subclass('Part_Current', ['part','current'])\n",
    "\n",
    "from snorkel.models import CandidateSet\n",
    "train = session.query(CandidateSet).filter(\n",
    "    CandidateSet.name == 'Hardware Training Candidates').one()\n",
    "dev = session.query(CandidateSet).filter(\n",
    "    CandidateSet.name == 'Hardware Development Candidates').one()"
   ]
  },
  {
   "cell_type": "code",
   "execution_count": 2,
   "metadata": {
    "collapsed": false
   },
   "outputs": [
    {
     "name": "stdout",
     "output_type": "stream",
     "text": [
      "CPU times: user 2min 19s, sys: 3.09 s, total: 2min 22s\n",
      "Wall time: 2min 22s\n",
      "CPU times: user 1min 20s, sys: 2.46 s, total: 1min 23s\n",
      "Wall time: 1min 22s\n",
      "CPU times: user 1.16 s, sys: 28 ms, total: 1.19 s\n",
      "Wall time: 1.19 s\n"
     ]
    }
   ],
   "source": [
    "from snorkel.annotations import FeatureManager, LabelManager\n",
    "feature_manager = FeatureManager()\n",
    "%time F_train = feature_manager.load(session, train, 'Train Features')\n",
    "%time F_dev = feature_manager.load(session, dev, 'Train Features')\n",
    "\n",
    "label_manager = LabelManager()\n",
    "%time L_train = label_manager.load(session, train, 'LF Labels')"
   ]
  },
  {
   "cell_type": "code",
   "execution_count": 3,
   "metadata": {
    "collapsed": false
   },
   "outputs": [
    {
     "name": "stdout",
     "output_type": "stream",
     "text": [
      "================================================================================\n",
      "Training marginals (!= 0.5):\t68987\n",
      "Features:\t\t\t9\n",
      "================================================================================\n",
      "Begin training for rate=0.01, mu=1e-06\n",
      "\tLearning epoch = 0\tGradient mag. = 0.759615\n",
      "\tLearning epoch = 250\tGradient mag. = 1.821662\n",
      "\tLearning epoch = 500\tGradient mag. = 1.770021\n",
      "\tLearning epoch = 750\tGradient mag. = 1.106671\n",
      "\tLearning epoch = 1000\tGradient mag. = 0.753251\n",
      "\tLearning epoch = 1250\tGradient mag. = 0.571275\n",
      "\tLearning epoch = 1500\tGradient mag. = 0.479383\n",
      "\tLearning epoch = 1750\tGradient mag. = 0.431820\n",
      "\tLearning epoch = 2000\tGradient mag. = 0.405440\n",
      "\tLearning epoch = 2250\tGradient mag. = 0.331887\n",
      "\tLearning epoch = 2500\tGradient mag. = 0.249520\n",
      "\tLearning epoch = 2750\tGradient mag. = 0.200275\n",
      "\tLearning epoch = 3000\tGradient mag. = 0.171192\n",
      "\tLearning epoch = 3250\tGradient mag. = 0.153844\n",
      "\tLearning epoch = 3500\tGradient mag. = 0.143150\n",
      "\tLearning epoch = 3750\tGradient mag. = 0.136256\n",
      "\tLearning epoch = 4000\tGradient mag. = 0.131616\n",
      "\tLearning epoch = 4250\tGradient mag. = 0.128388\n",
      "\tLearning epoch = 4500\tGradient mag. = 0.126091\n",
      "\tLearning epoch = 4750\tGradient mag. = 0.124438\n",
      "\tLearning epoch = 5000\tGradient mag. = 0.123243\n",
      "\tLearning epoch = 5250\tGradient mag. = 0.122379\n",
      "\tLearning epoch = 5500\tGradient mag. = 0.121758\n",
      "\tLearning epoch = 5750\tGradient mag. = 0.121317\n",
      "\tLearning epoch = 6000\tGradient mag. = 0.121008\n",
      "\tLearning epoch = 6250\tGradient mag. = 0.120797\n",
      "\tLearning epoch = 6500\tGradient mag. = 0.120660\n",
      "\tLearning epoch = 6750\tGradient mag. = 0.120577\n",
      "\tLearning epoch = 7000\tGradient mag. = 0.120535\n",
      "\tLearning epoch = 7250\tGradient mag. = 0.120524\n",
      "\tLearning epoch = 7500\tGradient mag. = 0.120536\n",
      "\tLearning epoch = 7750\tGradient mag. = 0.104239\n",
      "\tLearning epoch = 8000\tGradient mag. = 0.078358\n",
      "\tLearning epoch = 8250\tGradient mag. = 0.059027\n",
      "\tLearning epoch = 8500\tGradient mag. = 0.044614\n",
      "\tLearning epoch = 8750\tGradient mag. = 0.033900\n",
      "\tLearning epoch = 9000\tGradient mag. = 0.025976\n",
      "\tLearning epoch = 9250\tGradient mag. = 0.020164\n",
      "\tLearning epoch = 9500\tGradient mag. = 0.015957\n",
      "\tLearning epoch = 9750\tGradient mag. = 0.012969\n",
      "\tLearning epoch = 10000\tGradient mag. = 0.010900\n",
      "\tLearning epoch = 10250\tGradient mag. = 0.009508\n",
      "\tLearning epoch = 10500\tGradient mag. = 0.008598\n",
      "\tLearning epoch = 10750\tGradient mag. = 0.008018\n",
      "\tLearning epoch = 11000\tGradient mag. = 0.007653\n",
      "\tLearning epoch = 11250\tGradient mag. = 0.007424\n",
      "\tLearning epoch = 11500\tGradient mag. = 0.007280\n",
      "\tLearning epoch = 11750\tGradient mag. = 0.007189\n",
      "\tLearning epoch = 12000\tGradient mag. = 0.007129\n",
      "\tLearning epoch = 12250\tGradient mag. = 0.007089\n",
      "\tLearning epoch = 12500\tGradient mag. = 0.007062\n",
      "\tLearning epoch = 12750\tGradient mag. = 0.007044\n",
      "\tLearning epoch = 13000\tGradient mag. = 0.007030\n",
      "\tLearning epoch = 13250\tGradient mag. = 0.007021\n",
      "\tLearning epoch = 13500\tGradient mag. = 0.007013\n",
      "\tLearning epoch = 13750\tGradient mag. = 0.007008\n",
      "\tLearning epoch = 14000\tGradient mag. = 0.007004\n",
      "\tLearning epoch = 14250\tGradient mag. = 0.007000\n",
      "\tLearning epoch = 14500\tGradient mag. = 0.006998\n",
      "\tLearning epoch = 14750\tGradient mag. = 0.006996\n",
      "Final gradient magnitude for rate=0.01, mu=1e-06: 0.007\n",
      "CPU times: user 116 ms, sys: 4 ms, total: 120 ms\n",
      "Wall time: 209 ms\n"
     ]
    }
   ],
   "source": [
    "from snorkel.learning import NaiveBayes\n",
    "\n",
    "gen_model = NaiveBayes()\n",
    "gen_model.train(L_train, n_iter=15000, rate=1e-2)\n",
    "%time gen_model.save(session, 'Generative Params')\n",
    "train_marginals = gen_model.marginals(L_train)"
   ]
  },
  {
   "cell_type": "code",
   "execution_count": 4,
   "metadata": {
    "collapsed": false
   },
   "outputs": [
    {
     "name": "stdout",
     "output_type": "stream",
     "text": [
      "================================================================================\n",
      "Training marginals (!= 0.5):\t68678\n",
      "Features:\t\t\t22013\n",
      "================================================================================\n",
      "Using gradient descent...\n",
      "\tLearning epoch = 0\tStep size = 0.0001\n",
      "\tLoss = 47603.962066\tGradient magnitude = 268404.180971\n",
      "\tLearning epoch = 100\tStep size = 9.04792147114e-05\n",
      "\tLoss = 16.454197\tGradient magnitude = 3.289152\n",
      "\tLearning epoch = 200\tStep size = 8.18648829479e-05\n",
      "\tLoss = 16.454063\tGradient magnitude = 3.289152\n",
      "\tLearning epoch = 300\tStep size = 7.40707032156e-05\n",
      "\tLoss = 16.453928\tGradient magnitude = 3.289152\n",
      "\tLearning epoch = 400\tStep size = 6.70185906007e-05\n",
      "\tLoss = 16.453782\tGradient magnitude = 3.289152\n",
      "\tLearning epoch = 500\tStep size = 6.06378944861e-05\n",
      "\tLoss = 16.453592\tGradient magnitude = 3.289152\n",
      "\tLearning epoch = 600\tStep size = 5.48646907485e-05\n",
      "\tLoss = 16.453412\tGradient magnitude = 3.289152\n",
      "\tLearning epoch = 700\tStep size = 4.96411413431e-05\n",
      "\tLoss = 16.453246\tGradient magnitude = 3.289152\n",
      "\tLearning epoch = 800\tStep size = 4.4914914861e-05\n",
      "\tLoss = 16.453094\tGradient magnitude = 3.289152\n",
      "\tLearning epoch = 900\tStep size = 4.06386622545e-05\n",
      "\tLoss = 16.452953\tGradient magnitude = 3.289152\n",
      "\tLearning epoch = 1000\tStep size = 3.67695424771e-05\n",
      "\tLoss = 16.452816\tGradient magnitude = 3.289152\n",
      "\tLearning epoch = 1100\tStep size = 3.32687932862e-05\n",
      "\tLoss = 16.452685\tGradient magnitude = 3.289152\n",
      "\tLearning epoch = 1200\tStep size = 3.01013429093e-05\n",
      "\tLoss = 16.452564\tGradient magnitude = 3.289152\n",
      "\tLearning epoch = 1300\tStep size = 2.72354586819e-05\n",
      "\tLoss = 16.452451\tGradient magnitude = 3.289152\n",
      "\tLearning epoch = 1400\tStep size = 2.46424291385e-05\n",
      "\tLoss = 16.452346\tGradient magnitude = 3.289152\n",
      "\tLearning epoch = 1500\tStep size = 2.22962763703e-05\n",
      "\tLoss = 16.452248\tGradient magnitude = 3.289152\n",
      "\tLearning epoch = 1600\tStep size = 2.01734957697e-05\n",
      "\tLoss = 16.452157\tGradient magnitude = 3.289152\n",
      "\tLearning epoch = 1700\tStep size = 1.82528205523e-05\n",
      "\tLoss = 16.452068\tGradient magnitude = 3.289152\n",
      "\tLearning epoch = 1800\tStep size = 1.65150086984e-05\n",
      "\tLoss = 16.451977\tGradient magnitude = 3.289152\n",
      "\tLearning epoch = 1900\tStep size = 1.49426501798e-05\n",
      "\tLoss = 16.451889\tGradient magnitude = 3.289152\n",
      "CPU times: user 2.42 s, sys: 52 ms, total: 2.48 s\n",
      "Wall time: 2.59 s\n"
     ]
    }
   ],
   "source": [
    "from snorkel.learning import LogReg\n",
    "\n",
    "disc_model = LogReg()\n",
    "disc_model.train(F_train, train_marginals, n_iter=2000, rate=1e-4)\n",
    "%time disc_model.save(session, \"Discriminative Params\")"
   ]
  },
  {
   "cell_type": "code",
   "execution_count": 5,
   "metadata": {
    "collapsed": false
   },
   "outputs": [
    {
     "name": "stdout",
     "output_type": "stream",
     "text": [
      "Calibration plot:\n",
      "========================================\n",
      "Recall-corrected Noise-aware Model\n",
      "========================================\n",
      "Pos. class accuracy: 0.0\n",
      "Neg. class accuracy: 1.0\n",
      "Corpus Precision nan\n",
      "Corpus Recall    0.0\n",
      "Corpus F1        nan\n",
      "----------------------------------------\n",
      "TP: 0 | FP: 0 | TN: 13034 | FN: 8268\n",
      "========================================\n",
      "\n",
      "========================================\n",
      "Recall-corrected Noise-aware Model\n",
      "========================================\n",
      "Pos. class accuracy: 0.0\n",
      "Neg. class accuracy: 1.0\n",
      "Corpus Precision nan\n",
      "Corpus Recall    0.0\n",
      "Corpus F1        nan\n",
      "----------------------------------------\n",
      "TP: 0 | FP: 0 | TN: 13034 | FN: 8268\n",
      "========================================\n",
      "\n"
     ]
    },
    {
     "name": "stderr",
     "output_type": "stream",
     "text": [
      "/home/luke/repos/snorkel/.virtualenv/local/lib/python2.7/site-packages/numpy/core/_methods.py:59: RuntimeWarning: Mean of empty slice.\n",
      "  warnings.warn(\"Mean of empty slice.\", RuntimeWarning)\n"
     ]
    }
   ],
   "source": [
    "train_gold = session.query(CandidateSet).filter(\n",
    "    CandidateSet.name == 'Hardware Training Candidates -- Gold').one()\n",
    "\n",
    "dev_gold = session.query(CandidateSet).filter(\n",
    "    CandidateSet.name == 'Hardware Development Candidates -- Gold').one()\n",
    "\n",
    "from snorkel.models import CandidateSet\n",
    "from snorkel.annotations import LabelManager\n",
    "label_manager = LabelManager()\n",
    "L_dev = label_manager.load(session, dev, 'Hardware Development Labels -- Gold')\n",
    "\n",
    "tp, fp, tn, fn = disc_model.score(F_dev, L_dev, dev_gold)"
   ]
  },
  {
   "cell_type": "code",
   "execution_count": 6,
   "metadata": {
    "collapsed": false
   },
   "outputs": [
    {
     "name": "stdout",
     "output_type": "stream",
     "text": [
      "========================================\n",
      "Scoring on Entity-Level Gold Data\n",
      "========================================\n",
      "Corpus Precision nan\n",
      "Corpus Recall    0.0\n",
      "Corpus F1        nan\n",
      "----------------------------------------\n",
      "TP: 0 | FP: 0 | FN: 200\n",
      "========================================\n",
      "\n"
     ]
    }
   ],
   "source": [
    "from snorkel.models import Corpus\n",
    "from hardware_utils import entity_level_f1\n",
    "import os\n",
    "\n",
    "gold_file = os.environ['SNORKELHOME'] + '/tutorials/tables/data/hardware/hardware_gold.csv'\n",
    "corpus = session.query(Corpus).filter(Corpus.name == 'Hardware Development').one()\n",
    "(TP, FP, FN) = entity_level_f1(tp, fp, tn, fn, gold_file, corpus, 'c_current_max')\n"
   ]
  },
  {
   "cell_type": "code",
   "execution_count": 7,
   "metadata": {
    "collapsed": false
   },
   "outputs": [
    {
     "name": "stdout",
     "output_type": "stream",
     "text": [
      "[('2N3906', '2N3906', '-200'),\n",
      " ('2N3906', '2N3906BU', '-200'),\n",
      " ('2N3906', '2N3906TA', '-200'),\n",
      " ('2N3906', '2N3906TAR', '-200'),\n",
      " ('2N3906', '2N3906TF', '-200'),\n",
      " ('2N3906', '2N3906TFR', '-200'),\n",
      " ('2N3906', 'MMBT3906', '-200'),\n",
      " ('2N3906', 'PZT3906', '-200'),\n",
      " ('2N4123-D', '2N4123', '200'),\n",
      " ('2N4123-D', '2N4123RLRM', '200'),\n",
      " ('2N4123-D', '2N4124', '200'),\n",
      " ('2N4123-D', '2N4124G', '200'),\n",
      " ('2N6426-D', '2N6426', '500'),\n",
      " ('2N6426-D', '2N6426G', '500'),\n",
      " ('2N6426-D', '2N6426RLRAG', '500'),\n",
      " ('2N6426-D', '2N6427', '500'),\n",
      " ('2N6426-D', '2N6427G', '500'),\n",
      " ('2N6426-D', '2N6427RLRAG', '500'),\n",
      " ('BC546', 'BC546', '100'),\n",
      " ('BC546', 'BC546A', '100'),\n",
      " ('BC546', 'BC546ABU', '100'),\n",
      " ('BC546', 'BC546ATA', '100'),\n",
      " ('BC546', 'BC546B', '100'),\n",
      " ('BC546', 'BC546BTA', '100'),\n",
      " ('BC546', 'BC546BTF', '100'),\n",
      " ('BC546', 'BC546C', '100'),\n",
      " ('BC546', 'BC546CTA', '100'),\n",
      " ('BC546', 'BC547', '100'),\n",
      " ('BC546', 'BC547A', '100'),\n",
      " ('BC546', 'BC547ATA', '100'),\n",
      " ('BC546', 'BC547B', '100'),\n",
      " ('BC546', 'BC547BBU', '100'),\n",
      " ('BC546', 'BC547BTA', '100'),\n",
      " ('BC546', 'BC547BTF', '100'),\n",
      " ('BC546', 'BC547C', '100'),\n",
      " ('BC546', 'BC547CBU', '100'),\n",
      " ('BC546', 'BC547CTA', '100'),\n",
      " ('BC546', 'BC547CTFR', '100'),\n",
      " ('BC546', 'BC548', '100'),\n",
      " ('BC546', 'BC548B', '100'),\n",
      " ('BC546', 'BC548BTA', '100'),\n",
      " ('BC546', 'BC548BU', '100'),\n",
      " ('BC546', 'BC548C', '100'),\n",
      " ('BC546', 'BC548CTA', '100'),\n",
      " ('BC546', 'BC549', '100'),\n",
      " ('BC546', 'BC549B', '100'),\n",
      " ('BC546', 'BC549BTA', '100'),\n",
      " ('BC546', 'BC549BTF', '100'),\n",
      " ('BC546', 'BC549C', '100'),\n",
      " ('BC546', 'BC549CTA', '100'),\n",
      " ('BC546', 'BC550', '100'),\n",
      " ('BC546', 'BC550C', '100'),\n",
      " ('BC546', 'BC550CBU', '100'),\n",
      " ('BC546', 'BC550CTA', '100'),\n",
      " ('BC546-D', 'BC546', '100'),\n",
      " ('BC546-D', 'BC546B', '100'),\n",
      " ('BC546-D', 'BC546BG', '100'),\n",
      " ('BC546-D', 'BC546BRL1', '100'),\n",
      " ('BC546-D', 'BC546BRL1G', '100'),\n",
      " ('BC546-D', 'BC546BZL1G', '100'),\n",
      " ('BC546-D', 'BC547', '100'),\n",
      " ('BC546-D', 'BC547A', '100'),\n",
      " ('BC546-D', 'BC547ARL', '100'),\n",
      " ('BC546-D', 'BC547ARLG', '100'),\n",
      " ('BC546-D', 'BC547AZL1G', '100'),\n",
      " ('BC546-D', 'BC547B', '100'),\n",
      " ('BC546-D', 'BC547BG', '100'),\n",
      " ('BC546-D', 'BC547BRL1G', '100'),\n",
      " ('BC546-D', 'BC547BZL1G', '100'),\n",
      " ('BC546-D', 'BC547C', '100'),\n",
      " ('BC546-D', 'BC547CG', '100'),\n",
      " ('BC546-D', 'BC547CZL1G', '100'),\n",
      " ('BC546-D', 'BC548', '100'),\n",
      " ('BC546-D', 'BC548B', '100'),\n",
      " ('BC546-D', 'BC548BG', '100'),\n",
      " ('BC546-D', 'BC548BRL1G', '100'),\n",
      " ('BC546-D', 'BC548BZL1G', '100'),\n",
      " ('BC546-D', 'BC548C', '100'),\n",
      " ('BC546-D', 'BC548CG', '100'),\n",
      " ('BC546-D', 'BC548CZL1G', '100'),\n",
      " ('BC818-40LT1-D', 'BC818-40L', '500'),\n",
      " ('BC818-40LT1-D', 'BC818-40LT1G', '500'),\n",
      " ('BC818-40LT1-D', 'NSVBC818-40L', '500'),\n",
      " ('BC818-40LT1-D', 'NSVBC818-40LT1G', '500'),\n",
      " ('CSEMS02742-1', 'BC846', '100'),\n",
      " ('CSEMS02742-1', 'BC846A', '100'),\n",
      " ('CSEMS02742-1', 'BC846B', '100'),\n",
      " ('CSEMS02742-1', 'BC847', '100'),\n",
      " ('CSEMS02742-1', 'BC847A', '100'),\n",
      " ('CSEMS02742-1', 'BC847B', '100'),\n",
      " ('CSEMS02742-1', 'BC847C', '100'),\n",
      " ('CSEMS02742-1', 'BC848', '100'),\n",
      " ('CSEMS02742-1', 'BC848A', '100'),\n",
      " ('CSEMS02742-1', 'BC848B', '100'),\n",
      " ('CSEMS02742-1', 'BC848C', '100'),\n",
      " ('DIODS00215-1', '2N4124', '200'),\n",
      " ('DISES00189-1', 'BC546', '100'),\n",
      " ('DISES00189-1', 'BC546A', '100'),\n",
      " ('DISES00189-1', 'BC546B', '100'),\n",
      " ('DISES00189-1', 'BC547', '100'),\n",
      " ('DISES00189-1', 'BC547A', '100'),\n",
      " ('DISES00189-1', 'BC547B', '100'),\n",
      " ('DISES00189-1', 'BC547C', '100'),\n",
      " ('DISES00189-1', 'BC548', '100'),\n",
      " ('DISES00189-1', 'BC548A', '100'),\n",
      " ('DISES00189-1', 'BC548B', '100'),\n",
      " ('DISES00189-1', 'BC548C', '100'),\n",
      " ('DISES00189-1', 'BC549', '100'),\n",
      " ('DISES00189-1', 'BC549B', '100'),\n",
      " ('DISES00189-1', 'BC549C', '100'),\n",
      " ('FAIRS19194-1', 'BC856', '-100'),\n",
      " ('FAIRS19194-1', 'BC856A', '-100'),\n",
      " ('FAIRS19194-1', 'BC856B', '-100'),\n",
      " ('FAIRS19194-1', 'BC856C', '-100'),\n",
      " ('FAIRS19194-1', 'BC857', '-100'),\n",
      " ('FAIRS19194-1', 'BC857A', '-100'),\n",
      " ('FAIRS19194-1', 'BC857B', '-100'),\n",
      " ('FAIRS19194-1', 'BC857C', '-100'),\n",
      " ('FAIRS19194-1', 'BC858', '-100'),\n",
      " ('FAIRS19194-1', 'BC858A', '-100'),\n",
      " ('FAIRS19194-1', 'BC858B', '-100'),\n",
      " ('FAIRS19194-1', 'BC858C', '-100'),\n",
      " ('FAIRS19194-1', 'BC859', '-100'),\n",
      " ('FAIRS19194-1', 'BC859A', '-100'),\n",
      " ('FAIRS19194-1', 'BC859B', '-100'),\n",
      " ('FAIRS19194-1', 'BC859C', '-100'),\n",
      " ('FAIRS19194-1', 'BC860', '-100'),\n",
      " ('FAIRS19194-1', 'BC860A', '-100'),\n",
      " ('FAIRS19194-1', 'BC860B', '-100'),\n",
      " ('FAIRS19194-1', 'BC860C', '-100'),\n",
      " ('LTSCS02912-1', 'BC846AW', '100'),\n",
      " ('LTSCS02912-1', 'BC846BW', '100'),\n",
      " ('LTSCS02912-1', 'BC846W', '100'),\n",
      " ('MCCCS08818-1', 'DTC114YE', '100'),\n",
      " ('MCCCS08984-1', 'MMBT3904', '200'),\n",
      " ('MCCCS09540-1', 'BC846', '100'),\n",
      " ('MCCCS09540-1', 'BC846A', '100'),\n",
      " ('MCCCS09540-1', 'BC846B', '100'),\n",
      " ('MCCCS09540-1', 'BC847', '100'),\n",
      " ('MCCCS09540-1', 'BC847A', '100'),\n",
      " ('MCCCS09540-1', 'BC847B', '100'),\n",
      " ('MCCCS09540-1', 'BC847C', '100'),\n",
      " ('MCCCS09540-1', 'BC848', '100'),\n",
      " ('MCCCS09540-1', 'BC848A', '100'),\n",
      " ('MCCCS09540-1', 'BC848B', '100'),\n",
      " ('MCCCS09540-1', 'BC848C', '100'),\n",
      " ('MCCCS09540-1', 'BC849', '100'),\n",
      " ('MCCCS09540-1', 'BC849B', '100'),\n",
      " ('MCCCS09540-1', 'BC849C', '100'),\n",
      " ('MCCCS09741-1', 'BC337', '800'),\n",
      " ('MCCCS09741-1', 'BC337-16', '800'),\n",
      " ('MCCCS09741-1', 'BC337-25', '800'),\n",
      " ('MCCCS09741-1', 'BC337-40', '800'),\n",
      " ('MCCCS09741-1', 'BC338', '800'),\n",
      " ('MCCCS09741-1', 'BC338-16', '800'),\n",
      " ('MCCCS09741-1', 'BC338-25', '800'),\n",
      " ('MCCCS09741-1', 'BC338-40', '800'),\n",
      " ('MMMCS17742-1', 'BC807-16W', '500'),\n",
      " ('MMMCS17742-1', 'BC807-25W', '500'),\n",
      " ('MMMCS17742-1', 'BC807-40W', '500'),\n",
      " ('PNJIS01453-1', 'BC846', '100'),\n",
      " ('PNJIS01453-1', 'BC846A', '100'),\n",
      " ('PNJIS01453-1', 'BC846B', '100'),\n",
      " ('PNJIS01453-1', 'BC847', '100'),\n",
      " ('PNJIS01453-1', 'BC847A', '100'),\n",
      " ('PNJIS01453-1', 'BC847B', '100'),\n",
      " ('PNJIS01453-1', 'BC847C', '100'),\n",
      " ('PNJIS01453-1', 'BC848', '100'),\n",
      " ('PNJIS01453-1', 'BC848A', '100'),\n",
      " ('PNJIS01453-1', 'BC848B', '100'),\n",
      " ('PNJIS01453-1', 'BC848C', '100'),\n",
      " ('PNJIS01453-1', 'BC849', '100'),\n",
      " ('PNJIS01453-1', 'BC849B', '100'),\n",
      " ('PNJIS01453-1', 'BC849C', '100'),\n",
      " ('PNJIS01453-1', 'BC850', '100'),\n",
      " ('PNJIS01453-1', 'BC850B', '100'),\n",
      " ('PNJIS01453-1', 'BC850C', '100'),\n",
      " ('RECTS01214-1', 'DTC114EUA', '100'),\n",
      " ('SGSTS13702-1', 'BC547B', '100'),\n",
      " ('SGSTS13702-1', 'BC547B-AP', '100'),\n",
      " ('SGSTS13702-1', 'BC547C', '100'),\n",
      " ('SGSTS13702-1', 'BC547C-AP', '100'),\n",
      " ('SIEMS01215-1', 'BC856', '100'),\n",
      " ('SIEMS01215-1', 'BC856A', '100'),\n",
      " ('SIEMS01215-1', 'BC856B', '100'),\n",
      " ('SIEMS01215-1', 'BC857', '100'),\n",
      " ('SIEMS01215-1', 'BC857A', '100'),\n",
      " ('SIEMS01215-1', 'BC857B', '100'),\n",
      " ('SIEMS01215-1', 'BC857C', '100'),\n",
      " ('SIEMS01215-1', 'BC858', '100'),\n",
      " ('SIEMS01215-1', 'BC858A', '100'),\n",
      " ('SIEMS01215-1', 'BC858B', '100'),\n",
      " ('SIEMS01215-1', 'BC858C', '100'),\n",
      " ('SIEMS01215-1', 'BC859', '100'),\n",
      " ('SIEMS01215-1', 'BC859A', '100'),\n",
      " ('SIEMS01215-1', 'BC859B', '100'),\n",
      " ('SIEMS01215-1', 'BC859C', '100'),\n",
      " ('SIEMS01215-1', 'BC860', '100'),\n",
      " ('SIEMS01215-1', 'BC860B', '100'),\n",
      " ('SIEMS01215-1', 'BC860C', '100')]\n"
     ]
    }
   ],
   "source": [
    "from pprint import pprint\n",
    "FN_list = sorted(list(FN))\n",
    "pprint(FN_list)"
   ]
  },
  {
   "cell_type": "code",
   "execution_count": 8,
   "metadata": {
    "collapsed": false
   },
   "outputs": [
    {
     "name": "stdout",
     "output_type": "stream",
     "text": [
      "('2N3906', '2N3906', '-200')\n",
      "\n",
      "# Matches: 21\n",
      "Part_Current(ImplicitSpan(\"2N3906\", parent=4123, words=[4,4], position=[1]), ImplicitSpan(\"-200\", parent=85274, words=[0,0], position=[0]))\n",
      "\n",
      "-63.1020957817\n",
      "\n",
      "[(AnnotationKey (TAB_e2_HTML_TAG_p), -3.368035730631371),\n",
      " (AnnotationKey (TAB_e2_HTML_ANC_TAG_[p]), -3.368035730631371),\n",
      " (AnnotationKey (TAB_e1_HTML_ANC_TAG_[html]), -3.368035730631371),\n",
      " (AnnotationKey (TAB_e2_HTML_ANC_TAG_[html]), -3.368035730631371),\n",
      " (AnnotationKey (TAB_e2_HTML_ANC_TAG_[body]), -3.368035730631371),\n",
      " (AnnotationKey (TAB_e2_HTML_ANC_TAG_[td]), -3.3540079899241206),\n",
      " (AnnotationKey (TAB_e2_HTML_ANC_TAG_[tr]), -3.3540079899241206),\n",
      " (AnnotationKey (TAB_e2_HTML_ANC_TAG_[table]), -3.3540079899241206),\n",
      " (AnnotationKey (TAB_e1_HTML_ANC_TAG_[body]), -3.1546250454122693),\n",
      " (AnnotationKey (TAB_e1_HTML_ANC_TAG_[p]), -2.9386432095278163),\n",
      " (AnnotationKey (TAB_e1_HTML_TAG_p), -2.9327013354064726),\n",
      " (AnnotationKey (TAB_e2_ROW_WORDS_[i]), -2.869605151515753),\n",
      " (AnnotationKey (TAB_e2_ROW_WORDS_[c]), -2.618504842619301),\n",
      " (AnnotationKey (TAB_e2_ROW_WORDS_[i c]), -2.540263063368932),\n",
      " (AnnotationKey (TAB_e2_ROW_WORDS_[ma]), -2.4171984512451026),\n",
      " (AnnotationKey (TDL_INV_LEMMA:PARENTS-OF-BETWEEN-MENTION-and-MENTION[None]),\n",
      "  -1.8115334455610477),\n",
      " (AnnotationKey (TAB_e2_ROW_WORDS_[current]), -1.7248312188476886),\n",
      " (AnnotationKey (TAB_e2_ROW_WORDS_[-]), -1.5832383015234262),\n",
      " (AnnotationKey (TAB_e2_ROW_WORDS_[collector]), -1.33829955157212),\n",
      " (AnnotationKey (TAB_e2_ROW_WORDS_[collector current]), -1.159766777442407),\n",
      " (AnnotationKey (TAB_e2_ROW_HEAD_WORDS_[c]), -1.137641877518441),\n",
      " (AnnotationKey (TAB_e2_ROW_HEAD_WORDS_[i]), -1.0593889852041762),\n",
      " (AnnotationKey (TAB_e2_ROW_HEAD_WORDS_[i c]), -0.9803435586841843),\n",
      " (AnnotationKey (TAB_e2_COL_NUM_[2]), -0.9636458290852614),\n",
      " (AnnotationKey (TDL_INV_SEQ-BETWEEN[LEN:0-4]), -0.6596226689532952),\n",
      " (AnnotationKey (TDL_INV_DEP_LABEL:BETWEEN-MENTION-and-MENTION[dep]),\n",
      "  -0.4902923401914932),\n",
      " (AnnotationKey (TAB_e2_COL_WORDS_[+150]), -0.4235717461677748),\n",
      " (AnnotationKey (TAB_e2_COL_WORDS_[to]), -0.380750847392813),\n",
      " (AnnotationKey (TAB_e2_COL_WORDS_[value]), -0.3203003980966323),\n",
      " (AnnotationKey (TAB_e2_COL_HEAD_WORDS_[value]), -0.3203003980966323),\n",
      " (AnnotationKey (TAB_e2_ROW_NUM_[4]), -0.3179123023139258),\n",
      " (AnnotationKey (TAB_e2_COL_WORDS_[to +150]), -0.30691346875271386),\n",
      " (AnnotationKey (TAB_e1_RIGHT_WORDS_[100]), -0.23584251151535307),\n",
      " (AnnotationKey (TDL_INV_BETWEEN-MENTION-and-MENTION[LEN:3-3]),\n",
      "  -0.21318933516273336),\n",
      " (AnnotationKey (TAB_e2_ROW_WORDS_[current -]), -0.19741916111938437),\n",
      " (AnnotationKey (TAB_e2_COL_WORDS_[-55]), -0.1762743473702559),\n",
      " (AnnotationKey (TAB_e1_RIGHT_WORDS_[5]), -0.12476850925981857),\n",
      " (AnnotationKey (TAB_e2_ROW_WORDS_[continuous]), -0.12387725539680869),\n",
      " (AnnotationKey (TAB_e2_COL_WORDS_[-5.0]), -0.11949746340410437),\n",
      " (AnnotationKey (TAB_e2_ROW_WORDS_[- continuous]), -0.10406978332511174),\n",
      " (AnnotationKey (TAB_e1_RIGHT_WORDS_[10]), -0.08103930043115096),\n",
      " (AnnotationKey (TAB_e1_RIGHT_WORDS_[50]), -0.07570380082458288),\n",
      " (AnnotationKey (TAB_e1_RIGHT_WORDS_[20]), -0.06922825979371865),\n",
      " (AnnotationKey (TDL_INV_DEP_LABEL:BETWEEN-MENTION-and-MENTION[dep dep]),\n",
      "  -0.06713066736739688),\n",
      " (AnnotationKey (TAB_e2_COL_WORDS_[-55 to]), -0.059998120279413265),\n",
      " (AnnotationKey (TDL_INV_LEMMA:SEQ-BETWEEN[0.5]), -0.047728106506417727),\n",
      " (AnnotationKey (TAB_e1_LEFT_WORDS_[1]), -0.017469904686998224),\n",
      " (AnnotationKey (TDL_INV_LEMMA:SEQ-BETWEEN[1]), -0.017314943650012914),\n",
      " (AnnotationKey (TAB_e2_COL_WORDS_[-40]), -0.0070179608241265285),\n",
      " (AnnotationKey (TDL_INV_DEP_LABEL:BETWEEN-MENTION-and-MENTION[nummod]),\n",
      "  -0.005813692166686812),\n",
      " (AnnotationKey (TDL_INV_LEMMA:SEQ-BETWEEN[0.2]), -0.005511992545793453),\n",
      " (AnnotationKey (TAB_e1_LEFT_WORDS_[0.1]), -0.0008962919075883854),\n",
      " (AnnotationKey (TDL_INV_LEMMA:BETWEEN-MENTION-and-MENTION[5]),\n",
      "  -0.00020693673107933833)]\n"
     ]
    }
   ],
   "source": [
    "from hardware_utils import current_entity_to_candidates\n",
    "\n",
    "entity = FN_list[0]\n",
    "print entity\n",
    "print\n",
    "\n",
    "matches = current_entity_to_candidates(entity, fn)\n",
    "print \"# Matches: %d\" % len(matches)\n",
    "candidate = matches[0]\n",
    "print candidate\n",
    "print\n",
    "\n",
    "print disc_model.get_candidate_score(candidate, F_dev)\n",
    "print\n",
    "pprint(disc_model.get_candidate_feature_weights(candidate, F_dev))"
   ]
  },
  {
   "cell_type": "code",
   "execution_count": 9,
   "metadata": {
    "collapsed": true
   },
   "outputs": [],
   "source": [
    "\n",
    "import os\n",
    "os.system('cp snorkel.db snorkel.db\\ final');"
   ]
  },
  {
   "cell_type": "code",
   "execution_count": 10,
   "metadata": {
    "collapsed": true
   },
   "outputs": [],
   "source": []
  },
  {
   "cell_type": "code",
   "execution_count": null,
   "metadata": {
    "collapsed": true
   },
   "outputs": [],
   "source": []
  },
  {
   "cell_type": "code",
   "execution_count": null,
   "metadata": {
    "collapsed": true
   },
   "outputs": [],
   "source": []
  }
 ],
 "metadata": {
  "anaconda-cloud": {},
  "kernelspec": {
   "display_name": "Python 2",
   "language": "python",
   "name": "python2"
  },
  "language_info": {
   "codemirror_mode": {
    "name": "ipython",
    "version": 2
   },
   "file_extension": ".py",
   "mimetype": "text/x-python",
   "name": "python",
   "nbconvert_exporter": "python",
   "pygments_lexer": "ipython2",
   "version": "2.7.12"
  }
 },
 "nbformat": 4,
 "nbformat_minor": 1
}
