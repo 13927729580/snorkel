{
 "cells": [
  {
   "cell_type": "markdown",
   "metadata": {},
   "source": [
    "# C_CURRENT_MAX"
   ]
  },
  {
   "cell_type": "markdown",
   "metadata": {},
   "source": [
    "## Setup"
   ]
  },
  {
   "cell_type": "code",
   "execution_count": null,
   "metadata": {
    "collapsed": true
   },
   "outputs": [],
   "source": [
    "# If necessary:\n",
    "import os\n",
    "os.remove('snorkel.db')"
   ]
  },
  {
   "cell_type": "code",
   "execution_count": null,
   "metadata": {
    "collapsed": false
   },
   "outputs": [],
   "source": [
    "%load_ext autoreload\n",
    "%autoreload 2\n",
    "%matplotlib inline\n",
    "\n",
    "import sys\n",
    "sys.path.append(os.environ['SNORKELHOME'] + '/tutorials/tables/')"
   ]
  },
  {
   "cell_type": "markdown",
   "metadata": {},
   "source": [
    "## Parsing"
   ]
  },
  {
   "cell_type": "code",
   "execution_count": null,
   "metadata": {
    "collapsed": true
   },
   "outputs": [],
   "source": [
    "from snorkel import SnorkelSession\n",
    "session = SnorkelSession()"
   ]
  },
  {
   "cell_type": "markdown",
   "metadata": {},
   "source": [
    "### Define Parser"
   ]
  },
  {
   "cell_type": "code",
   "execution_count": null,
   "metadata": {
    "collapsed": true
   },
   "outputs": [],
   "source": [
    "import os\n",
    "from snorkel.parser import CorpusParser, HTMLParser, OmniParser\n",
    "from snorkel.utils import get_ORM_instance\n",
    "from snorkel.queries import split_corpus\n",
    "\n",
    "docs_path = os.environ['SNORKELHOME'] + '/tutorials/tables/data/hardware/hardware100_html/'\n",
    "doc_parser = HTMLParser(path=docs_path)\n",
    "context_parser = OmniParser()\n",
    "cp = CorpusParser(doc_parser, context_parser, max_docs=100) "
   ]
  },
  {
   "cell_type": "markdown",
   "metadata": {},
   "source": [
    "### Run Parser"
   ]
  },
  {
   "cell_type": "code",
   "execution_count": null,
   "metadata": {
    "collapsed": false,
    "scrolled": true
   },
   "outputs": [],
   "source": [
    "%time corpus = cp.parse_corpus(name='Hardware', session=session)\n",
    "\n",
    "session.add(corpus)\n",
    "session.commit()"
   ]
  },
  {
   "cell_type": "markdown",
   "metadata": {},
   "source": [
    "### Split Corpus"
   ]
  },
  {
   "cell_type": "code",
   "execution_count": null,
   "metadata": {
    "collapsed": false
   },
   "outputs": [],
   "source": [
    "from snorkel.models import Corpus\n",
    "\n",
    "corpus = get_ORM_instance(Corpus, session, 'Hardware')\n",
    "split_corpus(session, corpus, train=0.8, development=0.2, test=0, seed=4)"
   ]
  },
  {
   "cell_type": "code",
   "execution_count": null,
   "metadata": {
    "collapsed": true
   },
   "outputs": [],
   "source": [
    "# If necessary\n",
    "import os\n",
    "os.system('cp snorkel.db snorkel.db\\ corpus');"
   ]
  },
  {
   "cell_type": "markdown",
   "metadata": {},
   "source": [
    "## Extraction"
   ]
  },
  {
   "cell_type": "code",
   "execution_count": null,
   "metadata": {
    "collapsed": false
   },
   "outputs": [],
   "source": [
    "# If necessary:\n",
    "import os\n",
    "os.remove('snorkel.db');\n",
    "os.system('cp snorkel.db\\ corpus snorkel.db');\n",
    "\n",
    "import sys\n",
    "sys.path.append(os.environ['SNORKELHOME'] + '/tutorials/tables/')\n",
    "\n",
    "from snorkel import SnorkelSession\n",
    "session = SnorkelSession()"
   ]
  },
  {
   "cell_type": "code",
   "execution_count": null,
   "metadata": {
    "collapsed": true
   },
   "outputs": [],
   "source": [
    "from snorkel.models import candidate_subclass\n",
    "\n",
    "Part_Current = candidate_subclass('Part_Current', ['part','current'])"
   ]
  },
  {
   "cell_type": "markdown",
   "metadata": {},
   "source": [
    "### Define Matchers"
   ]
  },
  {
   "cell_type": "code",
   "execution_count": null,
   "metadata": {
    "collapsed": true
   },
   "outputs": [],
   "source": [
    "from snorkel.matchers import RegexMatchSpan, Union\n",
    "\n",
    "eeca_matcher = RegexMatchSpan(rgx='([b]{1}[abcdefklnpqruyz]{1}[\\swxyz]?[0-9]{3,5}[\\s]?[A-Z\\/]{0,5}[0-9]?[A-Z]?([-][A-Z0-9]{1,7})?([-][A-Z0-9]{1,2})?)')\n",
    "jedec_matcher = RegexMatchSpan(rgx='([123]N\\d{3,4}[A-Z]{0,5}[0-9]?[A-Z]?)')\n",
    "jis_matcher = RegexMatchSpan(rgx='(2S[abcdefghjkmqrstvz]{1}[\\d]{2,4})')\n",
    "others_matcher = RegexMatchSpan(rgx='((NSVBC|SMBT|MJ|MJE|MPS|MRF|RCA|TIP|ZTX|ZT|TIS|TIPL|DTC|MMBT|PZT){1}[\\d]{2,4}[A-Z]{0,3}([-][A-Z0-9]{0,6})?([-][A-Z0-9]{0,1})?)')\n",
    "parts_matcher = Union(eeca_matcher, jedec_matcher, jis_matcher, others_matcher)\n",
    "\n",
    "#TODO: This is missing values represented as AMPs rather than milliamps\n",
    "current_matcher = RegexMatchSpan(rgx=r'\\-?([2-9]|1[0-2]?)00', longest_match_only=False)"
   ]
  },
  {
   "cell_type": "markdown",
   "metadata": {},
   "source": [
    "### Define ContextSpaces"
   ]
  },
  {
   "cell_type": "code",
   "execution_count": null,
   "metadata": {
    "collapsed": false
   },
   "outputs": [],
   "source": [
    "import os\n",
    "from collections import defaultdict\n",
    "from hardware_utils import OmniNgramsPart, OmniNgramsTemp, get_gold_dict\n",
    "\n",
    "# Make parts list\n",
    "gold_file = os.environ['SNORKELHOME'] + '/tutorials/tables/data/hardware/hardware_gold.csv'\n",
    "gold_parts = get_gold_dict(gold_file, doc_on=True, part_on=True, val_on=False)\n",
    "parts_by_doc = defaultdict(set)\n",
    "for part in gold_parts:\n",
    "    parts_by_doc[part[0]].add(part[1])\n",
    "    \n",
    "part_ngrams = OmniNgramsPart(parts_by_doc=parts_by_doc, n_max=3)\n",
    "\n",
    "# TODO: This is missing the current represented as an Amp rather than a milliamp\n",
    "current_ngrams = OmniNgramsTemp(n_max=3)"
   ]
  },
  {
   "cell_type": "markdown",
   "metadata": {},
   "source": [
    "### Run CandidateExtractor"
   ]
  },
  {
   "cell_type": "code",
   "execution_count": null,
   "metadata": {
    "collapsed": false
   },
   "outputs": [],
   "source": [
    "from snorkel.models import Corpus\n",
    "from snorkel.candidates import CandidateExtractor\n",
    "from snorkel.utils import get_ORM_instance\n",
    "from hardware_utils import PartCurrentThrottler\n",
    "\n",
    "part_throttler = PartCurrentThrottler()\n",
    "\n",
    "ce = CandidateExtractor(Part_Current, \n",
    "                        [part_ngrams, current_ngrams], \n",
    "                        [parts_matcher, current_matcher],\n",
    "                        part_throttler)\n",
    "\n",
    "for corpus_name in ['Hardware Training', 'Hardware Development']:\n",
    "    corpus = get_ORM_instance(Corpus, session, corpus_name)\n",
    "    print \"Extracting Candidates from %s\" % corpus\n",
    "    %time candidates = ce.extract(\\\n",
    "        corpus.documents, corpus_name + ' Candidates', session)\n",
    "    session.add(candidates)\n",
    "    print \"%s contains %d Candidates\" % (candidates, len(candidates))\n",
    "session.commit()"
   ]
  },
  {
   "cell_type": "markdown",
   "metadata": {},
   "source": [
    "### Assess Recall"
   ]
  },
  {
   "cell_type": "code",
   "execution_count": null,
   "metadata": {
    "collapsed": false
   },
   "outputs": [],
   "source": [
    "from snorkel.models import CandidateSet\n",
    "from hardware_utils import entity_level_total_recall, most_common_document\n",
    "from snorkel.models import Candidate\n",
    "\n",
    "all_candidates = session.query(Candidate).all()\n",
    "gold_file = os.environ['SNORKELHOME'] + '/tutorials/tables/data/hardware/hardware_gold.csv'\n",
    "(tp, fp, fn) = entity_level_total_recall(\n",
    "    all_candidates, gold_file, 'c_current_max', relation=True)\n",
    "print len(tp)\n",
    "print len(fp)\n",
    "print len(fn)"
   ]
  },
  {
   "cell_type": "code",
   "execution_count": null,
   "metadata": {
    "collapsed": false
   },
   "outputs": [],
   "source": [
    "from hardware_utils import entity_level_total_recall, most_common_document_candidates\n",
    "max_doc = most_common_document_candidates(all_candidates)\n",
    "print(max_doc)"
   ]
  },
  {
   "cell_type": "code",
   "execution_count": null,
   "metadata": {
    "collapsed": false
   },
   "outputs": [],
   "source": [
    "from pprint import pprint\n",
    "fns = list(fn)\n",
    "pprint(sorted(fns[:50]))"
   ]
  },
  {
   "cell_type": "code",
   "execution_count": null,
   "metadata": {
    "collapsed": true
   },
   "outputs": [],
   "source": []
  },
  {
   "cell_type": "code",
   "execution_count": null,
   "metadata": {
    "collapsed": true
   },
   "outputs": [],
   "source": [
    "# If necessary\n",
    "import os\n",
    "os.system('cp snorkel.db snorkel.db\\ candidates');"
   ]
  },
  {
   "cell_type": "markdown",
   "metadata": {},
   "source": [
    "## Gold Labels"
   ]
  },
  {
   "cell_type": "code",
   "execution_count": null,
   "metadata": {
    "collapsed": true
   },
   "outputs": [],
   "source": [
    "# If necessary\n",
    "import os\n",
    "os.remove('snorkel.db');\n",
    "os.system('cp snorkel.db\\ candidates snorkel.db');\n",
    "\n",
    "import sys\n",
    "sys.path.append(os.environ['SNORKELHOME'] + '/tutorials/tables/')\n",
    "\n",
    "from snorkel import SnorkelSession\n",
    "session = SnorkelSession()\n",
    "\n",
    "from snorkel.models import candidate_subclass\n",
    "Part_Current = candidate_subclass('Part_Current', ['part','current'])"
   ]
  },
  {
   "cell_type": "code",
   "execution_count": null,
   "metadata": {
    "collapsed": false
   },
   "outputs": [],
   "source": [
    "import os\n",
    "from snorkel.models import CandidateSet\n",
    "from hardware_utils import load_hardware_labels\n",
    "\n",
    "gold_file = os.environ['SNORKELHOME'] + '/tutorials/tables/data/hardware/hardware_gold.csv'\n",
    "for set_name in ['Training', 'Development']:\n",
    "    candidate_set_name = 'Hardware %s Candidates' % set_name\n",
    "    candidates = session.query(CandidateSet).filter(\n",
    "        CandidateSet.name == candidate_set_name).one()\n",
    "    label_set_name = 'Hardware %s Candidates -- Gold' % set_name\n",
    "    annotation_key_name = 'Hardware %s Labels -- Gold' % set_name\n",
    "    %time gold_candidates, annotation_key = load_hardware_labels(session,\\\n",
    "                           label_set_name, \\\n",
    "                           annotation_key_name, \\\n",
    "                           candidates, \\\n",
    "                           gold_file, \\\n",
    "                           attrib='c_current_max')\n",
    "    candidates_gold = session.query(CandidateSet).filter(\n",
    "        CandidateSet.name == candidate_set_name + ' -- Gold').one()\n",
    "    print \"%d/%d Candidates in %s have positive Labels\" % (\n",
    "        len(candidates_gold), len(candidates), candidates)"
   ]
  },
  {
   "cell_type": "code",
   "execution_count": null,
   "metadata": {
    "collapsed": true
   },
   "outputs": [],
   "source": [
    "# If necessary\n",
    "import os\n",
    "os.system('cp snorkel.db snorkel.db\\ labels');"
   ]
  },
  {
   "cell_type": "markdown",
   "metadata": {},
   "source": [
    "## Features"
   ]
  },
  {
   "cell_type": "code",
   "execution_count": null,
   "metadata": {
    "collapsed": true
   },
   "outputs": [],
   "source": [
    "# If necessary:\n",
    "import os\n",
    "os.remove('snorkel.db');\n",
    "os.system('cp snorkel.db\\ labels snorkel.db');\n",
    "\n",
    "import sys\n",
    "sys.path.append(os.environ['SNORKELHOME'] + '/tutorials/tables/')\n",
    "\n",
    "from snorkel import SnorkelSession\n",
    "session = SnorkelSession()\n",
    "\n",
    "from snorkel.models import candidate_subclass\n",
    "Part_Current = candidate_subclass('Part_Current', ['part','current'])"
   ]
  },
  {
   "cell_type": "markdown",
   "metadata": {},
   "source": [
    "### Extract Features"
   ]
  },
  {
   "cell_type": "code",
   "execution_count": null,
   "metadata": {
    "collapsed": false
   },
   "outputs": [],
   "source": [
    "from snorkel.models import CandidateSet\n",
    "from snorkel.annotations import FeatureManager\n",
    "from snorkel.utils import get_ORM_instance\n",
    "\n",
    "train = get_ORM_instance(CandidateSet, session, 'Hardware Training Candidates')\n",
    "dev   = get_ORM_instance(CandidateSet, session, 'Hardware Development Candidates')\n",
    "\n",
    "feature_manager = FeatureManager()\n",
    "%time F_train = feature_manager.create(session, train, 'Train Features')\n",
    "%time F_dev = feature_manager.update(session, dev, 'Train Features', expand_key_set=False)"
   ]
  },
  {
   "cell_type": "code",
   "execution_count": null,
   "metadata": {
    "collapsed": true
   },
   "outputs": [],
   "source": [
    "# If necessary:\n",
    "import os\n",
    "os.system('cp snorkel.db snorkel.db\\ featurized');"
   ]
  },
  {
   "cell_type": "markdown",
   "metadata": {},
   "source": [
    "## LFs"
   ]
  },
  {
   "cell_type": "code",
   "execution_count": null,
   "metadata": {
    "collapsed": true
   },
   "outputs": [],
   "source": [
    "# If necessary\n",
    "import os\n",
    "os.remove('snorkel.db');\n",
    "os.system('cp snorkel.db\\ featurized snorkel.db');\n",
    "\n",
    "import sys\n",
    "sys.path.append(os.environ['SNORKELHOME'] + '/tutorials/tables/')\n",
    "\n",
    "from snorkel import SnorkelSession\n",
    "session = SnorkelSession()\n",
    "\n",
    "from snorkel.models import candidate_subclass\n",
    "Part_Current = candidate_subclass('Part_Current', ['part','current'])\n",
    "\n",
    "from snorkel.models import CandidateSet\n",
    "train = session.query(CandidateSet).filter(\n",
    "    CandidateSet.name == 'Hardware Training Candidates').one()"
   ]
  },
  {
   "cell_type": "markdown",
   "metadata": {},
   "source": [
    "### Define LFs"
   ]
  },
  {
   "cell_type": "code",
   "execution_count": null,
   "metadata": {
    "collapsed": false
   },
   "outputs": [],
   "source": [
    "from snorkel.annotations import LabelManager\n",
    "from snorkel.lf_helpers import *\n",
    "label_manager = LabelManager()\n",
    "\n",
    "LFs = []\n",
    "\n",
    "# TODO: Get rid of generators\n",
    "\n",
    "# POSITIVE\n",
    "\n",
    "def LF_head_is_IC(c):\n",
    "    head_ngrams = set(get_head_ngrams(c.current, axis='row'))\n",
    "    return 1 if ('ic' in head_ngrams or\n",
    "                 'i c' in head_ngrams) else 0\n",
    "LFs.append(LF_head_is_IC)\n",
    "\n",
    "def LF_current_inside_table(c):\n",
    "    return 1 if c.current.parent.row is not None else 0\n",
    "LFs.append(LF_current_inside_table)\n",
    "\n",
    "def LF_continuous_left(c):\n",
    "    return 1 if 'continuous' in get_left_ngrams(c.current, window=5) else 0\n",
    "LFs.append(LF_continuous_left)\n",
    "\n",
    "def LF_current_row(c):\n",
    "    return 1 if 'current' in get_row_ngrams(c.current) else 0\n",
    "LFs.append(LF_current_row)\n",
    "\n",
    "def LF_collector_row(c):\n",
    "    return 1 if 'collector' in get_row_ngrams(c.current) else 0\n",
    "LFs.append(LF_collector_row)\n",
    "    \n",
    "def LF_continuous_row(c):\n",
    "    return 1 if 'continuous' in get_row_ngrams(c.current) else 0\n",
    "LFs.append(LF_continuous_row)\n",
    "    \n",
    "# def LF_collector_current_row(c):\n",
    "#     row_ngrams = set(get_row_ngrams(c.current))\n",
    "#     return 1 if ('collector current' in row_ngrams or \n",
    "#                  'continuous' in row_ngrams) else 0\n",
    "# LFs.append(LF_collector_current_row)\n",
    "\n",
    "def LF_current_unit_row(c):\n",
    "    row_ngrams = set(get_row_ngrams(c.current))\n",
    "    return 1 if (\n",
    "        'ma'                in row_ngrams or\n",
    "        'a'                 in row_ngrams) else 0\n",
    "LFs.append(LF_current_unit_row)\n",
    "\n",
    "def LF_one_number_row(c):\n",
    "    num_numbers = list(get_row_ngrams(c.current, attrib=\"ner_tags\")).count('number')\n",
    "    return 1 if num_numbers == 1 else 0\n",
    "LFs.append(LF_one_number_row)\n",
    "\n",
    "# NEGATIVE\n",
    "\n",
    "def LF_not_cc_relevant(c):\n",
    "    ngrams = get_aligned_ngrams(c.current)\n",
    "    return -1 if not ('collector' in ngrams or\n",
    "                      'current' in ngrams) else 0\n",
    "LFs.append(LF_not_cc_relevant)\n",
    "\n",
    "def LF_too_many_numbers_row(c):\n",
    "    num_numbers = list(get_row_ngrams(c.current, attrib=\"ner_tags\")).count('number')\n",
    "    return -1 if num_numbers >= 3 else 0\n",
    "LFs.append(LF_too_many_numbers_row)\n",
    "\n",
    "def LF_thermal_row(c):\n",
    "    return -1 if 'thermal' in get_row_ngrams(c.current) else 0\n",
    "LFs.append(LF_collector_row)\n",
    "\n",
    "def LF_junction_row(c):\n",
    "    return -1 if 'junction' in get_row_ngrams(c.current) else 0\n",
    "LFs.append(LF_junction_row)\n",
    "\n",
    "def LF_resistance_row(c):\n",
    "    return -1 if 'resistance' in get_row_ngrams(c.current) else 0\n",
    "LFs.append(LF_resistance_row)\n",
    "\n",
    "def LF_small_signal_row(c):\n",
    "    return -1 if 'small-signal' in get_row_ngrams(c.current) else 0\n",
    "LFs.append(LF_small_signal_row)\n",
    "\n",
    "def LF_ambient_row(c):\n",
    "    return -1 if 'ambient' in get_row_ngrams(c.current) else 0\n",
    "LFs.append(LF_ambient_row)\n",
    "\n",
    "def LF_part_in_same_row(c):\n",
    "    return -1 if c.part.parent.row == c.current.parent.row else 0\n",
    "LFs.append(LF_part_in_same_row)\n",
    "\n",
    "# def LF_collector_aligned(c):\n",
    "#     ngrams = set(get_aligned_ngrams(c.current))\n",
    "#     return -1 if (\n",
    "#         'collector-base'    in ngrams or\n",
    "#         'cut-off'           in ngrams or\n",
    "#         'collector-emitter' in ngrams) else 0\n",
    "# LFs.append(LF_collector_aligned)\n",
    "\n",
    "# def LF_voltage_row_temp(c):\n",
    "#     ngrams = set(get_aligned_ngrams(c.current))\n",
    "#     return -1 if (\n",
    "#         'voltage' in ngrams or\n",
    "#         'cbo'     in ngrams or\n",
    "#         'ceo'     in ngrams or\n",
    "#         'ebo'     in ngrams or\n",
    "#         'v'       in ngrams) else 0\n",
    "# LFs.append(LF_voltage_row_temp)\n",
    "\n",
    "# def LF_voltage_row_part(c):\n",
    "#     ngrams = set(get_aligned_ngrams(c.current))\n",
    "#     return -1 if (\n",
    "#         'voltage' in ngrams or\n",
    "#         'cbo'     in ngrams or\n",
    "#         'ceo'     in ngrams or\n",
    "#         'ebo'     in ngrams or\n",
    "#         'v'       in ngrams) else 0\n",
    "# LFs.append(LF_voltage_row_part)\n",
    "\n",
    "# def LF_test_condition_row(c):\n",
    "#     ngrams = set(get_row_ngrams(c.current))\n",
    "#     return -1 if ('test'      in ngrams and\n",
    "#                   'condition' in ngrams) else 0\n",
    "# LFs.append(LF_test_condition_row)\n"
   ]
  },
  {
   "cell_type": "markdown",
   "metadata": {},
   "source": [
    "### Apply LFs"
   ]
  },
  {
   "cell_type": "code",
   "execution_count": null,
   "metadata": {
    "collapsed": false
   },
   "outputs": [],
   "source": [
    "%time L_train = label_manager.create(session, train, 'LF Labels', f=LFs)\n",
    "L_train"
   ]
  },
  {
   "cell_type": "markdown",
   "metadata": {},
   "source": [
    "### Assess LF accuracy"
   ]
  },
  {
   "cell_type": "code",
   "execution_count": null,
   "metadata": {
    "collapsed": false
   },
   "outputs": [],
   "source": [
    "train_gold = session.query(CandidateSet).filter(\n",
    "    CandidateSet.name == 'Hardware Training Candidates -- Gold').one()\n",
    "%time L_train.lf_stats(train_gold)"
   ]
  },
  {
   "cell_type": "code",
   "execution_count": null,
   "metadata": {
    "collapsed": true
   },
   "outputs": [],
   "source": [
    "# If necessary\n",
    "import os\n",
    "os.system('cp snorkel.db snorkel.db\\ features');"
   ]
  },
  {
   "cell_type": "markdown",
   "metadata": {},
   "source": [
    "## Learn and Evaluate"
   ]
  },
  {
   "cell_type": "code",
   "execution_count": 1,
   "metadata": {
    "collapsed": false
   },
   "outputs": [],
   "source": [
    "# If necessary:\n",
    "import os\n",
    "os.remove('snorkel.db');\n",
    "os.system('cp snorkel.db\\ features snorkel.db');\n",
    "\n",
    "import sys\n",
    "sys.path.append(os.environ['SNORKELHOME'] + '/tutorials/tables/')\n",
    "\n",
    "from snorkel import SnorkelSession\n",
    "session = SnorkelSession()\n",
    "\n",
    "from snorkel.models import candidate_subclass\n",
    "Part_Current = candidate_subclass('Part_Current', ['part','current'])\n",
    "\n",
    "from snorkel.models import CandidateSet\n",
    "train = session.query(CandidateSet).filter(\n",
    "    CandidateSet.name == 'Hardware Training Candidates').one()\n",
    "dev = session.query(CandidateSet).filter(\n",
    "    CandidateSet.name == 'Hardware Development Candidates').one()"
   ]
  },
  {
   "cell_type": "code",
   "execution_count": 2,
   "metadata": {
    "collapsed": false
   },
   "outputs": [
    {
     "name": "stdout",
     "output_type": "stream",
     "text": [
      "CPU times: user 2min 20s, sys: 3.31 s, total: 2min 23s\n",
      "Wall time: 2min 23s\n",
      "CPU times: user 1min 21s, sys: 2.09 s, total: 1min 23s\n",
      "Wall time: 1min 23s\n",
      "CPU times: user 1.44 s, sys: 36 ms, total: 1.48 s\n",
      "Wall time: 1.47 s\n"
     ]
    }
   ],
   "source": [
    "from snorkel.annotations import FeatureManager, LabelManager\n",
    "feature_manager = FeatureManager()\n",
    "%time F_train = feature_manager.load(session, train, 'Train Features')\n",
    "%time F_dev = feature_manager.load(session, dev, 'Train Features')\n",
    "\n",
    "label_manager = LabelManager()\n",
    "%time L_train = label_manager.load(session, train, 'LF Labels')"
   ]
  },
  {
   "cell_type": "code",
   "execution_count": 3,
   "metadata": {
    "collapsed": false
   },
   "outputs": [
    {
     "name": "stdout",
     "output_type": "stream",
     "text": [
      "================================================================================\n",
      "Training marginals (!= 0.5):\t68987\n",
      "Features:\t\t\t15\n",
      "================================================================================\n",
      "Begin training for rate=0.01, mu=1e-06\n",
      "\tLearning epoch = 0\tGradient mag. = 0.377300\n",
      "\tLearning epoch = 250\tGradient mag. = 0.797984\n",
      "\tLearning epoch = 500\tGradient mag. = 1.727767\n",
      "\tLearning epoch = 750\tGradient mag. = 2.146065\n",
      "\tLearning epoch = 1000\tGradient mag. = 1.515142\n",
      "\tLearning epoch = 1250\tGradient mag. = 1.041579\n",
      "\tLearning epoch = 1500\tGradient mag. = 0.744828\n",
      "\tLearning epoch = 1750\tGradient mag. = 0.553926\n",
      "\tLearning epoch = 2000\tGradient mag. = 0.428847\n",
      "\tLearning epoch = 2250\tGradient mag. = 0.345825\n",
      "\tLearning epoch = 2500\tGradient mag. = 0.289947\n",
      "\tLearning epoch = 2750\tGradient mag. = 0.251502\n",
      "\tLearning epoch = 3000\tGradient mag. = 0.224127\n",
      "\tLearning epoch = 3250\tGradient mag. = 0.203728\n",
      "\tLearning epoch = 3500\tGradient mag. = 0.187743\n",
      "\tLearning epoch = 3750\tGradient mag. = 0.174604\n",
      "\tLearning epoch = 4000\tGradient mag. = 0.163366\n",
      "\tLearning epoch = 4250\tGradient mag. = 0.153462\n",
      "\tLearning epoch = 4500\tGradient mag. = 0.144546\n",
      "\tLearning epoch = 4750\tGradient mag. = 0.136405\n",
      "\tLearning epoch = 5000\tGradient mag. = 0.128902\n",
      "\tLearning epoch = 5250\tGradient mag. = 0.121945\n",
      "\tLearning epoch = 5500\tGradient mag. = 0.115469\n",
      "\tLearning epoch = 5750\tGradient mag. = 0.109428\n",
      "\tLearning epoch = 6000\tGradient mag. = 0.103782\n",
      "\tLearning epoch = 6250\tGradient mag. = 0.098501\n",
      "\tLearning epoch = 6500\tGradient mag. = 0.093557\n",
      "\tLearning epoch = 6750\tGradient mag. = 0.088928\n",
      "\tLearning epoch = 7000\tGradient mag. = 0.084592\n",
      "\tLearning epoch = 7250\tGradient mag. = 0.080529\n",
      "\tLearning epoch = 7500\tGradient mag. = 0.076722\n",
      "\tLearning epoch = 7750\tGradient mag. = 0.073153\n",
      "\tLearning epoch = 8000\tGradient mag. = 0.069809\n",
      "\tLearning epoch = 8250\tGradient mag. = 0.066673\n",
      "\tLearning epoch = 8500\tGradient mag. = 0.063734\n",
      "\tLearning epoch = 8750\tGradient mag. = 0.060977\n",
      "\tLearning epoch = 9000\tGradient mag. = 0.058391\n",
      "\tLearning epoch = 9250\tGradient mag. = 0.055965\n",
      "\tLearning epoch = 9500\tGradient mag. = 0.053688\n",
      "\tLearning epoch = 9750\tGradient mag. = 0.051552\n",
      "\tLearning epoch = 10000\tGradient mag. = 0.049545\n",
      "\tLearning epoch = 10250\tGradient mag. = 0.047661\n",
      "\tLearning epoch = 10500\tGradient mag. = 0.045891\n",
      "\tLearning epoch = 10750\tGradient mag. = 0.044227\n",
      "\tLearning epoch = 11000\tGradient mag. = 0.042662\n",
      "\tLearning epoch = 11250\tGradient mag. = 0.041190\n",
      "\tLearning epoch = 11500\tGradient mag. = 0.039804\n",
      "\tLearning epoch = 11750\tGradient mag. = 0.038499\n",
      "\tLearning epoch = 12000\tGradient mag. = 0.037269\n",
      "\tLearning epoch = 12250\tGradient mag. = 0.036110\n",
      "\tLearning epoch = 12500\tGradient mag. = 0.035016\n",
      "\tLearning epoch = 12750\tGradient mag. = 0.033984\n",
      "\tLearning epoch = 13000\tGradient mag. = 0.033008\n",
      "\tLearning epoch = 13250\tGradient mag. = 0.032086\n",
      "\tLearning epoch = 13500\tGradient mag. = 0.031214\n",
      "\tLearning epoch = 13750\tGradient mag. = 0.030389\n",
      "\tLearning epoch = 14000\tGradient mag. = 0.029607\n",
      "\tLearning epoch = 14250\tGradient mag. = 0.028865\n",
      "\tLearning epoch = 14500\tGradient mag. = 0.028162\n",
      "\tLearning epoch = 14750\tGradient mag. = 0.027495\n",
      "Final gradient magnitude for rate=0.01, mu=1e-06: 0.027\n",
      "CPU times: user 112 ms, sys: 0 ns, total: 112 ms\n",
      "Wall time: 199 ms\n"
     ]
    }
   ],
   "source": [
    "from snorkel.learning import NaiveBayes\n",
    "\n",
    "gen_model = NaiveBayes()\n",
    "gen_model.train(L_train, n_iter=15000, rate=1e-2)\n",
    "%time gen_model.save(session, 'Generative Params')\n",
    "train_marginals = gen_model.marginals(L_train)"
   ]
  },
  {
   "cell_type": "code",
   "execution_count": 4,
   "metadata": {
    "collapsed": false
   },
   "outputs": [
    {
     "name": "stdout",
     "output_type": "stream",
     "text": [
      "================================================================================\n",
      "Training marginals (!= 0.5):\t68987\n",
      "Features:\t\t\t22013\n",
      "================================================================================\n",
      "Using gradient descent...\n",
      "\tLearning epoch = 0\tStep size = 0.0001\n",
      "\tLoss = 47818.144545\tGradient magnitude = 268851.843848\n",
      "\tLearning epoch = 100\tStep size = 9.04792147114e-05\n",
      "\tLoss = 0.091928\tGradient magnitude = 0.028110\n",
      "\tLearning epoch = 200\tStep size = 8.18648829479e-05\n",
      "\tLoss = 0.091927\tGradient magnitude = 0.028110\n",
      "\tLearning epoch = 300\tStep size = 7.40707032156e-05\n",
      "\tLoss = 0.091926\tGradient magnitude = 0.028110\n",
      "\tLearning epoch = 400\tStep size = 6.70185906007e-05\n",
      "\tLoss = 0.091925\tGradient magnitude = 0.028110\n",
      "\tLearning epoch = 500\tStep size = 6.06378944861e-05\n",
      "\tLoss = 0.091924\tGradient magnitude = 0.028110\n",
      "\tLearning epoch = 600\tStep size = 5.48646907485e-05\n",
      "\tLoss = 0.091923\tGradient magnitude = 0.028110\n",
      "\tLearning epoch = 700\tStep size = 4.96411413431e-05\n",
      "\tLoss = 0.091922\tGradient magnitude = 0.028110\n",
      "\tLearning epoch = 800\tStep size = 4.4914914861e-05\n",
      "\tLoss = 0.091921\tGradient magnitude = 0.028110\n",
      "\tLearning epoch = 900\tStep size = 4.06386622545e-05\n",
      "\tLoss = 0.091920\tGradient magnitude = 0.028110\n",
      "\tLearning epoch = 1000\tStep size = 3.67695424771e-05\n",
      "\tLoss = 0.091920\tGradient magnitude = 0.028110\n",
      "\tLearning epoch = 1100\tStep size = 3.32687932862e-05\n",
      "\tLoss = 0.091919\tGradient magnitude = 0.028110\n",
      "\tLearning epoch = 1200\tStep size = 3.01013429093e-05\n",
      "\tLoss = 0.091918\tGradient magnitude = 0.028110\n",
      "\tLearning epoch = 1300\tStep size = 2.72354586819e-05\n",
      "\tLoss = 0.091917\tGradient magnitude = 0.028110\n",
      "\tLearning epoch = 1400\tStep size = 2.46424291385e-05\n",
      "\tLoss = 0.091917\tGradient magnitude = 0.028110\n",
      "\tLearning epoch = 1500\tStep size = 2.22962763703e-05\n",
      "\tLoss = 0.091916\tGradient magnitude = 0.028110\n",
      "\tLearning epoch = 1600\tStep size = 2.01734957697e-05\n",
      "\tLoss = 0.091915\tGradient magnitude = 0.028110\n",
      "\tLearning epoch = 1700\tStep size = 1.82528205523e-05\n",
      "\tLoss = 0.091914\tGradient magnitude = 0.028110\n",
      "\tLearning epoch = 1800\tStep size = 1.65150086984e-05\n",
      "\tLoss = 0.091914\tGradient magnitude = 0.028110\n",
      "\tLearning epoch = 1900\tStep size = 1.49426501798e-05\n",
      "\tLoss = 0.091913\tGradient magnitude = 0.028110\n",
      "CPU times: user 2.46 s, sys: 24 ms, total: 2.48 s\n",
      "Wall time: 2.59 s\n"
     ]
    }
   ],
   "source": [
    "from snorkel.learning import LogReg\n",
    "\n",
    "disc_model = LogReg()\n",
    "disc_model.train(F_train, train_marginals, n_iter=2000, rate=1e-4)\n",
    "%time disc_model.save(session, \"Discriminative Params\")"
   ]
  },
  {
   "cell_type": "code",
   "execution_count": 5,
   "metadata": {
    "collapsed": false
   },
   "outputs": [
    {
     "name": "stdout",
     "output_type": "stream",
     "text": [
      "Calibration plot:\n",
      "========================================\n",
      "Recall-corrected Noise-aware Model\n",
      "========================================\n",
      "Pos. class accuracy: 1.0\n",
      "Neg. class accuracy: 0.0\n",
      "Corpus Precision 0.388\n",
      "Corpus Recall    1.0\n",
      "Corpus F1        0.559\n",
      "----------------------------------------\n",
      "TP: 8268 | FP: 13034 | TN: 0 | FN: 0\n",
      "========================================\n",
      "\n",
      "========================================\n",
      "Recall-corrected Noise-aware Model\n",
      "========================================\n",
      "Pos. class accuracy: 1.0\n",
      "Neg. class accuracy: 0.0\n",
      "Corpus Precision 0.388\n",
      "Corpus Recall    1.0\n",
      "Corpus F1        0.559\n",
      "----------------------------------------\n",
      "TP: 8268 | FP: 13034 | TN: 0 | FN: 0\n",
      "========================================\n",
      "\n"
     ]
    },
    {
     "name": "stderr",
     "output_type": "stream",
     "text": [
      "/home/luke/repos/snorkel/.virtualenv/local/lib/python2.7/site-packages/numpy/core/_methods.py:59: RuntimeWarning: Mean of empty slice.\n",
      "  warnings.warn(\"Mean of empty slice.\", RuntimeWarning)\n"
     ]
    }
   ],
   "source": [
    "train_gold = session.query(CandidateSet).filter(\n",
    "    CandidateSet.name == 'Hardware Training Candidates -- Gold').one()\n",
    "\n",
    "dev_gold = session.query(CandidateSet).filter(\n",
    "    CandidateSet.name == 'Hardware Development Candidates -- Gold').one()\n",
    "\n",
    "from snorkel.models import CandidateSet\n",
    "from snorkel.annotations import LabelManager\n",
    "label_manager = LabelManager()\n",
    "L_dev = label_manager.load(session, dev, 'Hardware Development Labels -- Gold')\n",
    "\n",
    "tp, fp, tn, fn = disc_model.score(F_dev, L_dev, dev_gold)"
   ]
  },
  {
   "cell_type": "code",
   "execution_count": 6,
   "metadata": {
    "collapsed": false,
    "scrolled": true
   },
   "outputs": [
    {
     "name": "stdout",
     "output_type": "stream",
     "text": [
      "========================================\n",
      "Scoring on Entity-Level Gold Data\n",
      "========================================\n",
      "Corpus Precision 0.175\n",
      "Corpus Recall    0.93\n",
      "Corpus F1        0.295\n",
      "----------------------------------------\n",
      "TP: 186 | FP: 874 | FN: 14\n",
      "========================================\n",
      "\n"
     ]
    }
   ],
   "source": [
    "from snorkel.models import Corpus\n",
    "from hardware_utils import entity_level_f1\n",
    "import os\n",
    "\n",
    "gold_file = os.environ['SNORKELHOME'] + '/tutorials/tables/data/hardware/hardware_gold.csv'\n",
    "corpus = session.query(Corpus).filter(Corpus.name == 'Hardware Development').one()\n",
    "(TP, FP, FN) = entity_level_f1(tp, fp, tn, fn, gold_file, corpus, 'c_current_max')\n"
   ]
  },
  {
   "cell_type": "code",
   "execution_count": 7,
   "metadata": {
    "collapsed": false
   },
   "outputs": [
    {
     "name": "stdout",
     "output_type": "stream",
     "text": [
      "[('MCCCS08818-1', 'DTC114YE', '100'),\n",
      " ('MCCCS08984-1', 'MMBT3904', '200'),\n",
      " ('MCCCS09741-1', 'BC337', '800'),\n",
      " ('MCCCS09741-1', 'BC337-16', '800'),\n",
      " ('MCCCS09741-1', 'BC337-25', '800'),\n",
      " ('MCCCS09741-1', 'BC337-40', '800'),\n",
      " ('MCCCS09741-1', 'BC338', '800'),\n",
      " ('MCCCS09741-1', 'BC338-16', '800'),\n",
      " ('MCCCS09741-1', 'BC338-25', '800'),\n",
      " ('MCCCS09741-1', 'BC338-40', '800'),\n",
      " ('MMMCS17742-1', 'BC807-16W', '500'),\n",
      " ('MMMCS17742-1', 'BC807-25W', '500'),\n",
      " ('MMMCS17742-1', 'BC807-40W', '500'),\n",
      " ('RECTS01214-1', 'DTC114EUA', '100')]\n"
     ]
    }
   ],
   "source": [
    "from pprint import pprint\n",
    "FN_list = sorted(list(FN))\n",
    "FP_list = sorted(list(FP))\n",
    "TP_list = sorted(list(TP))\n",
    "pprint(FN_list)"
   ]
  },
  {
   "cell_type": "code",
   "execution_count": 8,
   "metadata": {
    "collapsed": false
   },
   "outputs": [
    {
     "name": "stdout",
     "output_type": "stream",
     "text": [
      "('MCCCS09741-1', 'BC337', '800')\n",
      "\n",
      "# Matches: 0\n"
     ]
    },
    {
     "ename": "IndexError",
     "evalue": "list index out of range",
     "output_type": "error",
     "traceback": [
      "\u001b[0;31m---------------------------------------------------------------------------\u001b[0m",
      "\u001b[0;31mIndexError\u001b[0m                                Traceback (most recent call last)",
      "\u001b[0;32m<ipython-input-8-ee7962a1c2e5>\u001b[0m in \u001b[0;36m<module>\u001b[0;34m()\u001b[0m\n\u001b[1;32m      7\u001b[0m \u001b[0mmatches\u001b[0m \u001b[0;34m=\u001b[0m \u001b[0mcurrent_entity_to_candidates\u001b[0m\u001b[0;34m(\u001b[0m\u001b[0mentity\u001b[0m\u001b[0;34m,\u001b[0m \u001b[0mfn\u001b[0m\u001b[0;34m)\u001b[0m\u001b[0;34m\u001b[0m\u001b[0m\n\u001b[1;32m      8\u001b[0m \u001b[0;32mprint\u001b[0m \u001b[0;34m\"# Matches: %d\"\u001b[0m \u001b[0;34m%\u001b[0m \u001b[0mlen\u001b[0m\u001b[0;34m(\u001b[0m\u001b[0mmatches\u001b[0m\u001b[0;34m)\u001b[0m\u001b[0;34m\u001b[0m\u001b[0m\n\u001b[0;32m----> 9\u001b[0;31m \u001b[0mcandidate\u001b[0m \u001b[0;34m=\u001b[0m \u001b[0mmatches\u001b[0m\u001b[0;34m[\u001b[0m\u001b[0;36m0\u001b[0m\u001b[0;34m]\u001b[0m\u001b[0;34m\u001b[0m\u001b[0m\n\u001b[0m\u001b[1;32m     10\u001b[0m \u001b[0;32mprint\u001b[0m \u001b[0mcandidate\u001b[0m\u001b[0;34m\u001b[0m\u001b[0m\n\u001b[1;32m     11\u001b[0m \u001b[0;32mprint\u001b[0m\u001b[0;34m\u001b[0m\u001b[0m\n",
      "\u001b[0;31mIndexError\u001b[0m: list index out of range"
     ]
    }
   ],
   "source": [
    "from hardware_utils import current_entity_to_candidates\n",
    "\n",
    "entity = FN_list[2]\n",
    "print entity\n",
    "print\n",
    "\n",
    "matches = current_entity_to_candidates(entity, fn)\n",
    "print \"# Matches: %d\" % len(matches)\n",
    "candidate = matches[0]\n",
    "print candidate\n",
    "print\n",
    "\n",
    "print disc_model.get_candidate_score(candidate, F_dev)\n",
    "print\n",
    "pprint(disc_model.get_candidate_feature_weights(candidate, F_dev))"
   ]
  },
  {
   "cell_type": "code",
   "execution_count": null,
   "metadata": {
    "collapsed": true
   },
   "outputs": [],
   "source": [
    "\n",
    "import os\n",
    "os.system('cp snorkel.db snorkel.db\\ final');"
   ]
  },
  {
   "cell_type": "code",
   "execution_count": null,
   "metadata": {
    "collapsed": true
   },
   "outputs": [],
   "source": []
  },
  {
   "cell_type": "code",
   "execution_count": null,
   "metadata": {
    "collapsed": true
   },
   "outputs": [],
   "source": []
  },
  {
   "cell_type": "code",
   "execution_count": null,
   "metadata": {
    "collapsed": true
   },
   "outputs": [],
   "source": []
  }
 ],
 "metadata": {
  "anaconda-cloud": {},
  "kernelspec": {
   "display_name": "Python 2",
   "language": "python",
   "name": "python2"
  },
  "language_info": {
   "codemirror_mode": {
    "name": "ipython",
    "version": 2
   },
   "file_extension": ".py",
   "mimetype": "text/x-python",
   "name": "python",
   "nbconvert_exporter": "python",
   "pygments_lexer": "ipython2",
   "version": "2.7.12"
  }
 },
 "nbformat": 4,
 "nbformat_minor": 1
}
