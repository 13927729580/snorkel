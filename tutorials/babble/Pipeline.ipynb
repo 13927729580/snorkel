{
 "cells": [
  {
   "cell_type": "code",
   "execution_count": 1,
   "metadata": {
    "collapsed": false
   },
   "outputs": [],
   "source": [
    "%load_ext autoreload\n",
    "%autoreload 2"
   ]
  },
  {
   "cell_type": "code",
   "execution_count": 2,
   "metadata": {
    "collapsed": false
   },
   "outputs": [],
   "source": [
    "config = {\n",
    "    'project': 'babble',\n",
    "    'domain': 'spouse',\n",
    "    'debug': True,\n",
    "#     'db_name': 'babble_cdr_featurized_temp',\n",
    "#     'lf_source': 'gradturk',\n",
    "#     'max_explanations': 30,\n",
    "    'seed': 1,\n",
    "    'parallelism': 1,\n",
    "    'splits': [0,1,2],\n",
    "    'disc_model_class': 'logreg',\n",
    "    'supervision': 'majority',\n",
    "    'gold_explanations': False,\n",
    "}"
   ]
  },
  {
   "cell_type": "code",
   "execution_count": 3,
   "metadata": {
    "collapsed": false,
    "scrolled": true
   },
   "outputs": [
    {
     "name": "stdout",
     "output_type": "stream",
     "text": [
      "$SNORKELDB = sqlite:///babble_spouse_debug.db\n"
     ]
    }
   ],
   "source": [
    "# Get DB connection string and add to globals\n",
    "# NOTE: $SNORKELDB must be set before any snorkel imports\n",
    "import os\n",
    "\n",
    "default_db_name = 'babble_' + config['domain'] + ('_debug' if config.get('debug', False) else '')\n",
    "DB_NAME = config.get('db_name', default_db_name)\n",
    "if 'postgres' in config and config['postgres']:\n",
    "    DB_TYPE = 'postgres'\n",
    "else:\n",
    "    DB_TYPE = 'sqlite'\n",
    "    DB_NAME += '.db'\n",
    "DB_ADDR = \"localhost:{0}\".format(config['db_port']) if 'db_port' in config else \"\"\n",
    "os.environ['SNORKELDB'] = '{0}://{1}/{2}'.format(DB_TYPE, DB_ADDR, DB_NAME)\n",
    "print(\"$SNORKELDB = {0}\".format(os.environ['SNORKELDB']))"
   ]
  },
  {
   "cell_type": "code",
   "execution_count": 4,
   "metadata": {
    "collapsed": false,
    "scrolled": true
   },
   "outputs": [
    {
     "name": "stdout",
     "output_type": "stream",
     "text": [
      "Overwriting domain=None to domain=spouse\n",
      "Overwriting print_freq=1 to print_freq=5\n",
      "Overwriting LF_acc_prior_weight_default=1.0 to LF_acc_prior_weight_default=0.5\n",
      "Overwriting decay=0.95 to decay=0.99\n",
      "Overwriting init_class_prior=0 to init_class_prior=-1.15\n",
      "Overwriting reg_param=0.1 to reg_param=0.5\n",
      "Overwriting seed=0 to seed=1\n",
      "Overwriting babbler_candidate_split=1 to babbler_candidate_split=[0, 1, 2]\n",
      "Overwriting disc_model_class=lstm to disc_model_class=logreg\n",
      "Overwriting supervision=generative to supervision=majority\n",
      "Overwriting debug=False to debug=True\n",
      "NOTE: --debug=True: modifying parameters...\n",
      "Using SpousePipeline object.\n"
     ]
    }
   ],
   "source": [
    "from snorkel import SnorkelSession\n",
    "session = SnorkelSession()\n",
    "\n",
    "# Resolve config conflicts (nb_config > local_config > global_config)\n",
    "from snorkel.contrib.pipelines import merge_configs, get_local_pipeline\n",
    "config = merge_configs(config)\n",
    "\n",
    "if config['debug']:\n",
    "    print(\"NOTE: --debug=True: modifying parameters...\")\n",
    "    config['max_docs'] = 100\n",
    "    config['gen_model_search_space'] = 2\n",
    "    config['disc_model_search_space'] = 2\n",
    "    config['gen_params_default']['epochs'] = 25\n",
    "    config['disc_params_default']['n_epochs'] = 5\n",
    "\n",
    "from snorkel.models import candidate_subclass\n",
    "candidate_class = candidate_subclass(config['candidate_name'], config['candidate_entities'])\n",
    "\n",
    "pipeline = get_local_pipeline(config['domain'])\n",
    "pipe = pipeline(session, candidate_class, config)"
   ]
  },
  {
   "cell_type": "code",
   "execution_count": 5,
   "metadata": {
    "collapsed": false
   },
   "outputs": [
    {
     "data": {
      "text/plain": [
       "100"
      ]
     },
     "execution_count": 5,
     "metadata": {},
     "output_type": "execute_result"
    }
   ],
   "source": [
    "from snorkel.models import Document\n",
    "\n",
    "session.query(Document).count()"
   ]
  },
  {
   "cell_type": "code",
   "execution_count": 6,
   "metadata": {
    "collapsed": false
   },
   "outputs": [
    {
     "name": "stdout",
     "output_type": "stream",
     "text": [
      "831\n",
      "89\n",
      "56\n"
     ]
    }
   ],
   "source": [
    "for split in [0,1,2]:\n",
    "    print(session.query(pipe.candidate_class).filter(\n",
    "        pipe.candidate_class.split == split).count())"
   ]
  },
  {
   "cell_type": "code",
   "execution_count": 7,
   "metadata": {
    "collapsed": false,
    "scrolled": true
   },
   "outputs": [],
   "source": [
    "# %time pipe.parse()"
   ]
  },
  {
   "cell_type": "code",
   "execution_count": 8,
   "metadata": {
    "collapsed": false,
    "scrolled": true
   },
   "outputs": [],
   "source": [
    "# %time pipe.extract()"
   ]
  },
  {
   "cell_type": "code",
   "execution_count": 9,
   "metadata": {
    "collapsed": false,
    "scrolled": true
   },
   "outputs": [],
   "source": [
    "# %time pipe.load_gold()"
   ]
  },
  {
   "cell_type": "code",
   "execution_count": 10,
   "metadata": {
    "collapsed": true,
    "scrolled": true
   },
   "outputs": [],
   "source": [
    "# %time pipe.featurize()"
   ]
  },
  {
   "cell_type": "code",
   "execution_count": 11,
   "metadata": {
    "collapsed": false,
    "scrolled": true
   },
   "outputs": [
    {
     "name": "stdout",
     "output_type": "stream",
     "text": [
      "Linking candidates...\n",
      "# CANDIDATES: 976\n",
      "Building list of target candidate ids...\n",
      "Collected 30 unique target candidate ids from 30 explanations.\n",
      "Gathering desired candidates...\n",
      "Could not find 30 target candidates with the following stable_ids (first 5):\n",
      "e7b41f2f-d98a-45a1-9616-1d4a65e24501::span:81:84~~e7b41f2f-d98a-45a1-9616-1d4a65e24501::span:90:104\n",
      "75e1d890-c481-40fb-8d12-34fe6bcbd56d::span:4417:4422~~75e1d890-c481-40fb-8d12-34fe6bcbd56d::span:4446:4457\n",
      "d38fa137-ac2d-4e43-b216-18dacf22426d::span:3814:3823~~d38fa137-ac2d-4e43-b216-18dacf22426d::span:3957:3970\n",
      "e2657a53-566f-49d8-a6cf-8d676fd9c429::span:833:846~~e2657a53-566f-49d8-a6cf-8d676fd9c429::span:852:866\n",
      "6c242461-04a2-4d76-89b7-ecf20995032f::span:572:593~~6c242461-04a2-4d76-89b7-ecf20995032f::span:751:761\n",
      "Found 0/30 desired candidates\n",
      "Linking explanations to candidates...\n",
      "Linked 0/30 explanations\n",
      "Calling babbler...\n",
      "Created grammar with 596 rules\n",
      "Flushing all parses from previous explanation set.\n",
      "[========================================] 100%\n",
      "\n",
      "28 explanation(s) out of 30 were parseable.\n",
      "156 parse(s) generated from 30 explanation(s).\n",
      "40 parse(s) remain (116 parse(s) removed by DuplicateSemanticsFilter).\n",
      "Note: 40 LFs did not have candidates and therefore could not be filtered.\n",
      "40 parse(s) remain (0 parse(s) removed by ConsistencyFilter).\n",
      "### Applying labeling functions to split 1\n",
      "[========================================] 100%\n",
      "\n",
      "### Done in 0.4s.\n",
      "\n",
      "8 parse(s) remain (32 parse(s) removed by UniformSignatureFilter: (31 None, 1 All)).\n",
      "5 parse(s) remain (3 parse(s) removed by DuplicateSignatureFilter).\n",
      "Added 5 parse(s) from 4 explanations to set. (Total # parses = 5)\n",
      "CPU times: user 8.8 s, sys: 638 ms, total: 9.44 s\n",
      "Wall time: 9.41 s\n"
     ]
    }
   ],
   "source": [
    "%time pipe.collect()"
   ]
  },
  {
   "cell_type": "code",
   "execution_count": 12,
   "metadata": {
    "collapsed": false,
    "scrolled": true
   },
   "outputs": [],
   "source": [
    "# pipe.babbler.get_lf_stats()"
   ]
  },
  {
   "cell_type": "code",
   "execution_count": 13,
   "metadata": {
    "collapsed": false
   },
   "outputs": [],
   "source": [
    "# pipe.babbler.filtered_analysis()"
   ]
  },
  {
   "cell_type": "code",
   "execution_count": 14,
   "metadata": {
    "collapsed": false,
    "scrolled": true
   },
   "outputs": [],
   "source": [
    "# %time pipe.label()"
   ]
  },
  {
   "cell_type": "code",
   "execution_count": 15,
   "metadata": {
    "collapsed": false,
    "scrolled": false
   },
   "outputs": [],
   "source": [
    "# %time pipe.supervise()"
   ]
  },
  {
   "cell_type": "code",
   "execution_count": 16,
   "metadata": {
    "collapsed": false,
    "scrolled": true
   },
   "outputs": [],
   "source": [
    "# %time pipe.classify()"
   ]
  },
  {
   "cell_type": "code",
   "execution_count": null,
   "metadata": {
    "collapsed": true
   },
   "outputs": [],
   "source": []
  }
 ],
 "metadata": {
  "kernelspec": {
   "display_name": "Python 2",
   "language": "python",
   "name": "python2"
  },
  "language_info": {
   "codemirror_mode": {
    "name": "ipython",
    "version": 2
   },
   "file_extension": ".py",
   "mimetype": "text/x-python",
   "name": "python",
   "nbconvert_exporter": "python",
   "pygments_lexer": "ipython2",
   "version": "2.7.14"
  }
 },
 "nbformat": 4,
 "nbformat_minor": 2
}
