{
 "cells": [
  {
   "cell_type": "markdown",
   "metadata": {},
   "source": [
    "# Intro. to Snorkel: Extracting Spouse Relations from the News"
   ]
  },
  {
   "cell_type": "markdown",
   "metadata": {},
   "source": [
    "## Part III: Training an End Extraction Model\n",
    "\n",
    "In this final section of the tutorial, we'll use the noisy training labels we generated in the last tutorial part to train our end extraction model.\n",
    "\n",
    "For this tutorial, we will be training a Bi-LSTM, a state-of-the-art deep neural network implemented in [TensorFlow](https://www.tensorflow.org/)."
   ]
  },
  {
   "cell_type": "code",
   "execution_count": 1,
   "metadata": {
    "collapsed": true
   },
   "outputs": [],
   "source": [
    "%load_ext autoreload\n",
    "%autoreload 2\n",
    "%matplotlib inline\n",
    "import os\n",
    "\n",
    "# TO USE A DATABASE OTHER THAN SQLITE, USE THIS LINE\n",
    "# Note that this is necessary for parallel execution amongst other things...\n",
    "# os.environ['SNORKELDB'] = 'postgres:///snorkel-intro'\n",
    "\n",
    "from snorkel import SnorkelSession\n",
    "session = SnorkelSession()"
   ]
  },
  {
   "cell_type": "markdown",
   "metadata": {},
   "source": [
    "We repeat our definition of the `Spouse` `Candidate` subclass:"
   ]
  },
  {
   "cell_type": "code",
   "execution_count": 2,
   "metadata": {
    "collapsed": true
   },
   "outputs": [],
   "source": [
    "from snorkel.models import candidate_subclass\n",
    "\n",
    "Spouse = candidate_subclass('Spouse', ['person1', 'person2'])"
   ]
  },
  {
   "cell_type": "markdown",
   "metadata": {},
   "source": [
    "We reload the probabilistic training labels:"
   ]
  },
  {
   "cell_type": "code",
   "execution_count": 3,
   "metadata": {
    "collapsed": false
   },
   "outputs": [],
   "source": [
    "from snorkel.annotations import load_marginals\n",
    "\n",
    "train_marginals = load_marginals(session, split=0)"
   ]
  },
  {
   "cell_type": "markdown",
   "metadata": {},
   "source": [
    "We also reload the candidates:"
   ]
  },
  {
   "cell_type": "code",
   "execution_count": 4,
   "metadata": {
    "collapsed": true
   },
   "outputs": [],
   "source": [
    "train_cands = session.query(Spouse).filter(Spouse.split == 0).order_by(Spouse.id).all()\n",
    "dev_cands   = session.query(Spouse).filter(Spouse.split == 1).order_by(Spouse.id).all()\n",
    "test_cands  = session.query(Spouse).filter(Spouse.split == 2).order_by(Spouse.id).all()"
   ]
  },
  {
   "cell_type": "markdown",
   "metadata": {},
   "source": [
    "Finally, we load gold labels for evaluation:"
   ]
  },
  {
   "cell_type": "code",
   "execution_count": 5,
   "metadata": {
    "collapsed": true
   },
   "outputs": [],
   "source": [
    "from snorkel.annotations import load_gold_labels\n",
    "\n",
    "L_gold_dev  = load_gold_labels(session, annotator_name='gold', split=1)\n",
    "L_gold_test = load_gold_labels(session, annotator_name='gold', split=2)"
   ]
  },
  {
   "cell_type": "code",
   "execution_count": 56,
   "metadata": {
    "collapsed": false
   },
   "outputs": [
    {
     "name": "stdout",
     "output_type": "stream",
     "text": [
      "AnnotatorLabels created: 0\n",
      "(22254,)\n",
      "0\n"
     ]
    }
   ],
   "source": [
    "\n",
    "L_gold_train  = load_gold_labels(session, annotator_name='gold', split=0, load_as_array=True)\n",
    "print L_gold_train.shape\n",
    "print L_gold_train.sum()"
   ]
  },
  {
   "cell_type": "code",
   "execution_count": 66,
   "metadata": {
    "collapsed": false
   },
   "outputs": [
    {
     "name": "stdout",
     "output_type": "stream",
     "text": [
      "114\n",
      "[Spouse(Span(\"Mark Wilson/\", sentence=27040, chars=[10,21], words=[3,4]), Span(\"Obama on\", sentence=27040, chars=[42,49], words=[11,12])),\n",
      " Spouse(Span(\" Carson\", sentence=33689, chars=[15,21], words=[4,5]), Span(\"Obama\", sentence=33689, chars=[148,152], words=[25,25])),\n",
      " Spouse(Span(\"  Cruz's\", sentence=33703, chars=[14,21], words=[3,5]), Span(\"Barack Obama\", sentence=33703, chars=[155,166], words=[30,31])),\n",
      " Spouse(Span(\"Rafael\", sentence=33703, chars=[30,35], words=[7,7]), Span(\"Barack Obama\", sentence=33703, chars=[155,166], words=[30,31])),\n",
      " Spouse(Span(\"Peng\", sentence=47389, chars=[17,20], words=[4,4]), Span(\"Michelle Obama\", sentence=47389, chars=[88,101], words=[17,18])),\n",
      " Spouse(Span(\"Pope Francis\", sentence=16912, chars=[0,11], words=[0,1]), Span(\"Barack Obama\", sentence=16912, chars=[34,45], words=[5,6])),\n",
      " Spouse(Span(\"Barack Obama\", sentence=16912, chars=[34,45], words=[5,6]), Span(\"Laudato Si\", sentence=16912, chars=[116,125], words=[20,21])),\n",
      " Spouse(Span(\" Carson\", sentence=66887, chars=[15,21], words=[4,5]), Span(\"Obama\", sentence=66887, chars=[148,152], words=[25,25])),\n",
      " Spouse(Span(\"Pope\", sentence=28801, chars=[115,118], words=[21,21]), Span(\"Obama\", sentence=28801, chars=[143,147], words=[26,26])),\n",
      " Spouse(Span(\"Kennedy\", sentence=28801, chars=[67,73], words=[12,12]), Span(\"Obama\", sentence=28801, chars=[143,147], words=[26,26])),\n",
      " Spouse(Span(\"Saoirse\", sentence=28801, chars=[0,6], words=[0,0]), Span(\"Obama\", sentence=28801, chars=[143,147], words=[26,26])),\n",
      " Spouse(Span(\"Brady\", sentence=54014, chars=[27,31], words=[6,6]), Span(\"Obama\", sentence=54014, chars=[145,149], words=[28,28])),\n",
      " Spouse(Span(\"Obama\", sentence=18559, chars=[100,104], words=[17,17]), Span(\"Planned Parenthood\", sentence=18559, chars=[531,548], words=[85,86])),\n",
      " Spouse(Span(\"Pope\", sentence=45353, chars=[95,98], words=[17,17]), Span(\"Obama wsa '\", sentence=45353, chars=[129,139], words=[24,26])),\n",
      " Spouse(Span(\"Ms Obama\", sentence=27964, chars=[8,15], words=[2,3]), Span(\"Bush\", sentence=27964, chars=[24,27], words=[6,6])),\n",
      " Spouse(Span(\"Obama Unveils\", sentence=18564, chars=[18,30], words=[4,5]), Span(\"Obama\", sentence=18564, chars=[85,89], words=[15,15])),\n",
      " Spouse(Span(\"Sherman\", sentence=18556, chars=[1,7], words=[1,1]), Span(\"Barack Obama\", sentence=18556, chars=[292,303], words=[47,48])),\n",
      " Spouse(Span(\"Xi Jinping\", sentence=17153, chars=[70,79], words=[13,14]), Span(\"Barack Obama\", sentence=17153, chars=[95,106], words=[17,18])),\n",
      " Spouse(Span(\"Obama\", sentence=21246, chars=[0,4], words=[0,0]), Span(\"Michelle\", sentence=21246, chars=[19,26], words=[4,4])),\n",
      " Spouse(Span(\"Biden\", sentence=44391, chars=[73,77], words=[13,13]), Span(\"Barack Obama\", sentence=44391, chars=[179,190], words=[30,31])),\n",
      " Spouse(Span(\"Biden\", sentence=44391, chars=[118,122], words=[21,21]), Span(\"Barack Obama\", sentence=44391, chars=[179,190], words=[30,31])),\n",
      " Spouse(Span(\"Barack Obama\", sentence=44391, chars=[179,190], words=[30,31]), Span(\"Clinton\", sentence=44391, chars=[208,214], words=[36,36])),\n",
      " Spouse(Span(\" Carson\", sentence=64899, chars=[15,21], words=[4,5]), Span(\"Obama\", sentence=64899, chars=[148,152], words=[25,25])),\n",
      " Spouse(Span(\"Barack Obama\", sentence=45761, chars=[132,143], words=[24,25]), Span(\"Rick Warren\", sentence=45761, chars=[157,167], words=[28,29])),\n",
      " Spouse(Span(\"Joe Biden\", sentence=45761, chars=[0,8], words=[0,1]), Span(\"Barack Obama\", sentence=45761, chars=[132,143], words=[24,25])),\n",
      " Spouse(Span(\" Carson\", sentence=62441, chars=[15,21], words=[4,5]), Span(\"Obama\", sentence=62441, chars=[148,152], words=[25,25])),\n",
      " Spouse(Span(\"Jeff Mason\", sentence=66061, chars=[23,32], words=[4,5]), Span(\"Barack Obama\", sentence=66061, chars=[154,165], words=[28,29])),\n",
      " Spouse(Span(\"Michael Martina\", sentence=66061, chars=[3,17], words=[1,2]), Span(\"Barack Obama\", sentence=66061, chars=[154,165], words=[28,29])),\n",
      " Spouse(Span(\"Xi Jinping\", sentence=66061, chars=[66,75], words=[13,14]), Span(\"Barack Obama\", sentence=66061, chars=[154,165], words=[28,29])),\n",
      " Spouse(Span(\"Michelle Obama\", sentence=66084, chars=[16,29], words=[3,4]), Span(\"  \", sentence=66084, chars=[169,170], words=[36,36])),\n",
      " Spouse(Span(\"Michelle Obama\", sentence=66084, chars=[16,29], words=[3,4]), Span(\"Peng Liyuan\", sentence=66084, chars=[52,62], words=[11,12])),\n",
      " Spouse(Span(\"Michelle Obama\", sentence=66084, chars=[16,29], words=[3,4]), Span(\"Xi\", sentence=66084, chars=[41,42], words=[7,7])),\n",
      " Spouse(Span(\"Pope Francis\", sentence=18122, chars=[0,11], words=[0,1]), Span(\"Barack Obama\", sentence=18122, chars=[148,159], words=[26,27])),\n",
      " Spouse(Span(\"Pope Francis\", sentence=18123, chars=[0,11], words=[0,1]), Span(\"Barack Obama\", sentence=18123, chars=[148,159], words=[26,27])),\n",
      " Spouse(Span(\"Barack Obama\", sentence=18123, chars=[148,159], words=[26,27]), Span(\"Ellipse\", sentence=18123, chars=[241,247], words=[48,48])),\n",
      " Spouse(Span(\"Barack Obama\", sentence=18123, chars=[148,159], words=[26,27]), Span(\"Francis\", sentence=18123, chars=[219,225], words=[44,44])),\n",
      " Spouse(Span(\"  Cruz's\", sentence=14322, chars=[14,21], words=[3,5]), Span(\"Barack Obama\", sentence=14322, chars=[155,166], words=[30,31])),\n",
      " Spouse(Span(\"Rafael\", sentence=14322, chars=[30,35], words=[7,7]), Span(\"Barack Obama\", sentence=14322, chars=[155,166], words=[30,31])),\n",
      " Spouse(Span(\"David Brunnstrom\", sentence=47362, chars=[21,36], words=[4,5]), Span(\"Barack Obama\", sentence=47362, chars=[242,253], words=[45,46])),\n",
      " Spouse(Span(\"Ben Blanchard\", sentence=47362, chars=[3,15], words=[1,2]), Span(\"Barack Obama\", sentence=47362, chars=[242,253], words=[45,46])),\n",
      " Spouse(Span(\"Xi Jinping\", sentence=47362, chars=[108,117], words=[20,21]), Span(\"Barack Obama\", sentence=47362, chars=[242,253], words=[45,46])),\n",
      " Spouse(Span(\"WASHINGTON\", sentence=47362, chars=[48,57], words=[9,9]), Span(\"Barack Obama\", sentence=47362, chars=[242,253], words=[45,46])),\n",
      " Spouse(Span(\"Nina Ricci\", sentence=20493, chars=[91,100], words=[17,18]), Span(\"Michelle Obama\", sentence=20493, chars=[138,151], words=[27,28])),\n",
      " Spouse(Span(\"Barack Obama\", sentence=44139, chars=[10,21], words=[1,2]), Span(\"Kathleen Goforth\", sentence=44139, chars=[62,77], words=[10,11])),\n",
      " Spouse(Span(\"Barack Obama\", sentence=44139, chars=[10,21], words=[1,2]), Span(\"Darren Goforth\", sentence=44139, chars=[93,106], words=[16,17])),\n",
      " Spouse(Span(\"Brady\", sentence=48718, chars=[27,31], words=[6,6]), Span(\"Obama\", sentence=48718, chars=[145,149], words=[28,28])),\n",
      " Spouse(Span(\" Carson\", sentence=57872, chars=[15,21], words=[4,5]), Span(\"Obama\", sentence=57872, chars=[148,152], words=[25,25])),\n",
      " Spouse(Span(\" Carson\", sentence=14308, chars=[15,21], words=[4,5]), Span(\"Obama\", sentence=14308, chars=[148,152], words=[25,25])),\n",
      " Spouse(Span(\" Carson\", sentence=46581, chars=[15,21], words=[4,5]), Span(\"Obama\", sentence=46581, chars=[148,152], words=[25,25])),\n",
      " Spouse(Span(\"  Cruz's\", sentence=46595, chars=[14,21], words=[3,5]), Span(\"Barack Obama\", sentence=46595, chars=[155,166], words=[30,31])),\n",
      " Spouse(Span(\"Rafael\", sentence=46595, chars=[30,35], words=[7,7]), Span(\"Barack Obama\", sentence=46595, chars=[155,166], words=[30,31])),\n",
      " Spouse(Span(\"Michelle Obama\", sentence=21236, chars=[19,32], words=[4,5]), Span(\"Peng\", sentence=21236, chars=[72,75], words=[13,13])),\n",
      " Spouse(Span(\"Peng\", sentence=21237, chars=[36,39], words=[7,7]), Span(\"Michelle Obama\", sentence=21237, chars=[179,192], words=[39,40])),\n",
      " Spouse(Span(\"Barack Obama\", sentence=44408, chars=[58,69], words=[10,11]), Span(\"Jim Hodges\", sentence=44408, chars=[177,186], words=[36,37])),\n",
      " Spouse(Span(\"Barack Obama\", sentence=44408, chars=[58,69], words=[10,11]), Span(\"Clinton\", sentence=44408, chars=[233,239], words=[48,48])),\n",
      " Spouse(Span(\"  Bush's\", sentence=57748, chars=[138,145], words=[29,31]), Span(\"Obama\", sentence=57748, chars=[353,357], words=[70,70])),\n",
      " Spouse(Span(\"Obama\", sentence=12003, chars=[83,87], words=[15,15]), Span(\"Michelle\", sentence=12003, chars=[104,111], words=[19,19])),\n",
      " Spouse(Span(\"Barack Obama\", sentence=45341, chars=[10,21], words=[1,2]), Span(\"Pope Francis\", sentence=45341, chars=[31,42], words=[4,5])),\n",
      " Spouse(Span(\"Barack Obama\", sentence=22052, chars=[13,24], words=[2,3]), Span(\"Vladimir Putin\", sentence=22052, chars=[70,83], words=[11,12])),\n",
      " Spouse(Span(\"Barack Obama\", sentence=22052, chars=[13,24], words=[2,3]), Span(\"Putin\", sentence=22052, chars=[213,217], words=[35,35])),\n",
      " Spouse(Span(\"Nina Ricci\", sentence=58832, chars=[91,100], words=[17,18]), Span(\"Michelle Obama\", sentence=58832, chars=[138,151], words=[27,28])),\n",
      " Spouse(Span(\"  Cruz's\", sentence=62455, chars=[14,21], words=[3,5]), Span(\"Barack Obama\", sentence=62455, chars=[155,166], words=[30,31])),\n",
      " Spouse(Span(\"Rafael\", sentence=62455, chars=[30,35], words=[7,7]), Span(\"Barack Obama\", sentence=62455, chars=[155,166], words=[30,31])),\n",
      " Spouse(Span(\"Barack Obama\", sentence=44141, chars=[10,21], words=[1,2]), Span(\"Kathleen Goforth\", sentence=44141, chars=[55,70], words=[7,8])),\n",
      " Spouse(Span(\"Barack Obama\", sentence=44141, chars=[10,21], words=[1,2]), Span(\"Darren Goforth\", sentence=44141, chars=[86,99], words=[13,14])),\n",
      " Spouse(Span(\"Obama\", sentence=21242, chars=[218,222], words=[46,46]), Span(\"  \", sentence=21242, chars=[289,290], words=[59,59])),\n",
      " Spouse(Span(\"Peng\", sentence=21239, chars=[195,198], words=[29,29]), Span(\"Michelle Obama\", sentence=21239, chars=[205,218], words=[31,32])),\n",
      " Spouse(Span(\"Barack Obama\", sentence=12014, chars=[169,180], words=[36,37]), Span(\"Michelle Obama\", sentence=12014, chars=[197,210], words=[41,42])),\n",
      " Spouse(Span(\"Barack Obama\", sentence=12011, chars=[10,21], words=[1,2]), Span(\"Michelle Obama\", sentence=12011, chars=[38,51], words=[6,7])),\n",
      " Spouse(Span(\"Francis\", sentence=45343, chars=[33,39], words=[5,5]), Span(\"Obama\", sentence=45343, chars=[299,303], words=[56,56])),\n",
      " Spouse(Span(\" Carson\", sentence=51812, chars=[15,21], words=[4,5]), Span(\"Obama\", sentence=51812, chars=[148,152], words=[25,25])),\n",
      " Spouse(Span(\"  Cruz's\", sentence=51826, chars=[14,21], words=[3,5]), Span(\"Barack Obama\", sentence=51826, chars=[155,166], words=[30,31])),\n",
      " Spouse(Span(\"Rafael\", sentence=51826, chars=[30,35], words=[7,7]), Span(\"Barack Obama\", sentence=51826, chars=[155,166], words=[30,31])),\n",
      " Spouse(Span(\"Obama\", sentence=35991, chars=[10,14], words=[1,1]), Span(\"Vladimir Putin\", sentence=35991, chars=[29,42], words=[5,6])),\n",
      " Spouse(Span(\" Carson\", sentence=50701, chars=[15,21], words=[4,5]), Span(\"Obama\", sentence=50701, chars=[148,152], words=[25,25])),\n",
      " Spouse(Span(\"Obama\", sentence=37502, chars=[6,10], words=[1,1]), Span(\"Michelle\", sentence=37502, chars=[25,32], words=[5,5])),\n",
      " Spouse(Span(\"Xi Jinping\", sentence=38177, chars=[18,27], words=[2,3]), Span(\"Barack Obama\", sentence=38177, chars=[106,117], words=[17,18])),\n",
      " Spouse(Span(\"Xi Jinping\", sentence=38179, chars=[18,27], words=[2,3]), Span(\"Barack Obama\", sentence=38179, chars=[106,117], words=[17,18])),\n",
      " Spouse(Span(\"Lady Gaga\", sentence=52895, chars=[99,107], words=[19,20]), Span(\"Michelle Obama\", sentence=52895, chars=[123,136], words=[24,25])),\n",
      " Spouse(Span(\"McQueen\", sentence=52895, chars=[0,6], words=[0,0]), Span(\"Michelle Obama\", sentence=52895, chars=[123,136], words=[24,25])),\n",
      " Spouse(Span(\" Carson\", sentence=13949, chars=[15,21], words=[4,5]), Span(\"Obama\", sentence=13949, chars=[148,152], words=[25,25])),\n",
      " Spouse(Span(\"Michelle Obama\", sentence=27960, chars=[66,79], words=[11,12]), Span(\"Laura Bush\", sentence=27960, chars=[103,112], words=[17,18])),\n",
      " Spouse(Span(\"  Cruz's\", sentence=64913, chars=[14,21], words=[3,5]), Span(\"Barack Obama\", sentence=64913, chars=[155,166], words=[30,31])),\n",
      " Spouse(Span(\"Rafael\", sentence=64913, chars=[30,35], words=[7,7]), Span(\"Barack Obama\", sentence=64913, chars=[155,166], words=[30,31])),\n",
      " Spouse(Span(\"Michelle Obama\", sentence=25564, chars=[80,93], words=[17,18]), Span(\"Keira Knightley\", sentence=25564, chars=[115,129], words=[23,24])),\n",
      " Spouse(Span(\"Michelle Obama\", sentence=25564, chars=[80,93], words=[17,18]), Span(\"Gwyneth Paltrow\", sentence=25564, chars=[135,149], words=[26,27])),\n",
      " Spouse(Span(\"  Cruz's\", sentence=13963, chars=[14,21], words=[3,5]), Span(\"Barack Obama\", sentence=13963, chars=[155,166], words=[30,31])),\n",
      " Spouse(Span(\"Rafael\", sentence=13963, chars=[30,35], words=[7,7]), Span(\"Barack Obama\", sentence=13963, chars=[155,166], words=[30,31])),\n",
      " Spouse(Span(\"Clinton\", sentence=67948, chars=[158,164], words=[30,30]), Span(\"Obama '\", sentence=67948, chars=[243,249], words=[43,44])),\n",
      " Spouse(Span(\"Trump\", sentence=67948, chars=[4,8], words=[1,1]), Span(\"Obama '\", sentence=67948, chars=[243,249], words=[43,44])),\n",
      " Spouse(Span(\"  Biden\", sentence=45779, chars=[2,8], words=[1,2]), Span(\"Obama\", sentence=45779, chars=[43,47], words=[9,9])),\n",
      " Spouse(Span(\"Obama\", sentence=27042, chars=[77,81], words=[16,16]), Span(\"Ben Carson\", sentence=27042, chars=[114,123], words=[23,24])),\n",
      " Spouse(Span(\"Brady\", sentence=49063, chars=[27,31], words=[6,6]), Span(\"Obama\", sentence=49063, chars=[145,149], words=[28,28])),\n",
      " Spouse(Span(\"Obama\", sentence=28060, chars=[0,4], words=[0,0]), Span(\"Michelle Obama\", sentence=28060, chars=[16,29], words=[4,5])),\n",
      " Spouse(Span(\"  Cruz's\", sentence=57886, chars=[14,21], words=[3,5]), Span(\"Barack Obama\", sentence=57886, chars=[155,166], words=[30,31])),\n",
      " Spouse(Span(\"Rafael\", sentence=57886, chars=[30,35], words=[7,7]), Span(\"Barack Obama\", sentence=57886, chars=[155,166], words=[30,31])),\n",
      " Spouse(Span(\"Barack Obama\", sentence=28055, chars=[15,26], words=[2,3]), Span(\"Pontiff\", sentence=28055, chars=[82,88], words=[16,16])),\n",
      " Spouse(Span(\"Barack Obama\", sentence=28055, chars=[15,26], words=[2,3]), Span(\"Pope Francis\", sentence=28055, chars=[41,52], words=[8,9])),\n",
      " Spouse(Span(\"Pope Francis\", sentence=45320, chars=[0,11], words=[0,1]), Span(\"Barack Obama\", sentence=45320, chars=[75,86], words=[14,15])),\n",
      " Spouse(Span(\"Barack Obama\", sentence=28059, chars=[79,90], words=[16,17]), Span(\"Francis\", sentence=28059, chars=[126,132], words=[24,24])),\n",
      " Spouse(Span(\"Khanna\", sentence=45447, chars=[24,29], words=[4,4]), Span(\"Barack Obama's\", sentence=45447, chars=[69,82], words=[12,14])),\n",
      " Spouse(Span(\"  Cruz's\", sentence=68121, chars=[14,21], words=[3,5]), Span(\"Barack Obama\", sentence=68121, chars=[155,166], words=[30,31])),\n",
      " Spouse(Span(\"Rafael\", sentence=68121, chars=[30,35], words=[7,7]), Span(\"Barack Obama\", sentence=68121, chars=[155,166], words=[30,31])),\n",
      " Spouse(Span(\"Obama\", sentence=4591, chars=[42,46], words=[7,7]), Span(\"Trey Gowdy\", sentence=4591, chars=[93,102], words=[20,21])),\n",
      " Spouse(Span(\" Carson\", sentence=68107, chars=[15,21], words=[4,5]), Span(\"Obama\", sentence=68107, chars=[148,152], words=[25,25])),\n",
      " Spouse(Span(\"Obama\", sentence=35983, chars=[54,58], words=[11,11]), Span(\"Vladimir Putin\", sentence=35983, chars=[64,77], words=[13,14])),\n",
      " Spouse(Span(\"Michelle Obama\", sentence=69774, chars=[11,24], words=[2,3]), Span(\"Beyoncé\", sentence=69774, chars=[66,72], words=[10,10])),\n",
      " Spouse(Span(\"  Cruz's\", sentence=66901, chars=[14,21], words=[3,5]), Span(\"Barack Obama\", sentence=66901, chars=[155,166], words=[30,31])),\n",
      " Spouse(Span(\"Rafael\", sentence=66901, chars=[30,35], words=[7,7]), Span(\"Barack Obama\", sentence=66901, chars=[155,166], words=[30,31])),\n",
      " Spouse(Span(\"Obama\", sentence=18124, chars=[16,20], words=[3,3]), Span(\"Joe Biden\", sentence=18124, chars=[55,63], words=[10,11])),\n",
      " Spouse(Span(\"Francis\", sentence=18124, chars=[0,6], words=[0,0]), Span(\"Obama\", sentence=18124, chars=[16,20], words=[3,3])),\n",
      " Spouse(Span(\"  Cruz's\", sentence=50715, chars=[14,21], words=[3,5]), Span(\"Barack Obama\", sentence=50715, chars=[155,166], words=[30,31])),\n",
      " Spouse(Span(\"Rafael\", sentence=50715, chars=[30,35], words=[7,7]), Span(\"Barack Obama\", sentence=50715, chars=[155,166], words=[30,31])),\n",
      " Spouse(Span(\"Mr Carter\", sentence=19949, chars=[0,8], words=[0,1]), Span(\"Barack Obama's\", sentence=19949, chars=[61,74], words=[9,11]))]\n"
     ]
    }
   ],
   "source": [
    "obamas = [c for c in train_cands if 'Obama' in c.person1.get_span() + c.person2.get_span()]\n",
    "print len(obamas)\n",
    "from pprint import pprint\n",
    "pprint(obamas)"
   ]
  },
  {
   "cell_type": "code",
   "execution_count": 64,
   "metadata": {
    "collapsed": false
   },
   "outputs": [
    {
     "name": "stdout",
     "output_type": "stream",
     "text": [
      "22254\n"
     ]
    }
   ],
   "source": [
    "print len(obamas)"
   ]
  },
  {
   "cell_type": "markdown",
   "metadata": {},
   "source": [
    "Now we can setup our discriminative model. Here we specify the model and learning hyperparameters.\n",
    "\n",
    "They can also be set automatically using a search based on the dev set with a [GridSearch](https://github.com/HazyResearch/snorkel/blob/master/snorkel/learning/utils.py) object."
   ]
  },
  {
   "cell_type": "code",
   "execution_count": 59,
   "metadata": {
    "collapsed": false
   },
   "outputs": [
    {
     "name": "stdout",
     "output_type": "stream",
     "text": [
      "[reRNN] Training model\n",
      "[reRNN] n_train=2811  #epochs=20  batch size=256\n",
      "[reRNN] Epoch 0 (7.69s)\tAverage loss=0.319301\tDev F1=0.00\n",
      "[reRNN] Epoch 1 (18.19s)\tAverage loss=0.225449\tDev F1=32.06\n",
      "[reRNN] Epoch 2 (28.67s)\tAverage loss=0.200281\tDev F1=50.41\n",
      "[reRNN] Epoch 3 (39.08s)\tAverage loss=0.144881\tDev F1=60.27\n",
      "[reRNN] Epoch 4 (49.46s)\tAverage loss=0.121741\tDev F1=64.39\n",
      "[reRNN] Epoch 5 (60.03s)\tAverage loss=0.110585\tDev F1=65.45\n",
      "[reRNN] Epoch 6 (72.22s)\tAverage loss=0.100834\tDev F1=65.82\n",
      "[reRNN] Epoch 7 (84.57s)\tAverage loss=0.085636\tDev F1=75.27\n",
      "[reRNN] Epoch 8 (95.20s)\tAverage loss=0.080916\tDev F1=72.50\n",
      "[reRNN] Epoch 9 (105.71s)\tAverage loss=0.077849\tDev F1=73.19\n",
      "[reRNN] Epoch 10 (116.23s)\tAverage loss=0.085320\tDev F1=74.85\n",
      "[reRNN] Epoch 11 (126.75s)\tAverage loss=0.080988\tDev F1=72.50\n",
      "[reRNN] Epoch 12 (137.18s)\tAverage loss=0.071697\tDev F1=77.62\n",
      "[reRNN] Epoch 13 (147.63s)\tAverage loss=0.067060\tDev F1=81.82\n",
      "[reRNN] Epoch 14 (158.09s)\tAverage loss=0.063371\tDev F1=80.23\n",
      "[reRNN] Epoch 15 (168.49s)\tAverage loss=0.060536\tDev F1=78.81\n",
      "[reRNN] Epoch 16 (178.89s)\tAverage loss=0.059877\tDev F1=83.15\n",
      "[reRNN] Model saved as <reRNN>\n",
      "[reRNN] Epoch 17 (189.71s)\tAverage loss=0.058295\tDev F1=81.38\n",
      "[reRNN] Epoch 18 (200.41s)\tAverage loss=0.058771\tDev F1=76.64\n",
      "[reRNN] Epoch 19 (211.37s)\tAverage loss=0.054042\tDev F1=83.29\n",
      "[reRNN] Model saved as <reRNN>\n",
      "[reRNN] Training done (214.46s)\n",
      "INFO:tensorflow:Restoring parameters from checkpoints/reRNN/reRNN-19\n",
      "[reRNN] Loaded model <reRNN>\n"
     ]
    }
   ],
   "source": [
    "from snorkel.learning.disc_models.rnn import reRNN\n",
    "\n",
    "train_kwargs = {\n",
    "    'lr':         0.01,\n",
    "    'dim':        100,\n",
    "    'n_epochs':   20,\n",
    "    'dropout':    0.5,\n",
    "    'print_freq': 1,\n",
    "    'max_sentence_length': 100\n",
    "}\n",
    "\n",
    "lstm = reRNN(seed=1701, n_threads=None)\n",
    "gold_train_labels = L_gold_train\n",
    "# lstm.train(train_cands, train_marginals, X_dev=dev_cands, Y_dev=L_gold_dev, **train_kwargs)\n",
    "gold_dev_labels = L_gold_dev.toarray().squeeze()\n",
    "gold_dev_labels[gold_dev_labels==-1]=0\n",
    "lstm.train(dev_cands, gold_dev_labels, X_dev=dev_cands, Y_dev=L_gold_dev, **train_kwargs)"
   ]
  },
  {
   "cell_type": "code",
   "execution_count": 16,
   "metadata": {
    "collapsed": false
   },
   "outputs": [
    {
     "name": "stdout",
     "output_type": "stream",
     "text": [
      "[reRNN] Training model\n",
      "[reRNN] n_train=17205  #epochs=10  batch size=256\n",
      "[reRNN] Epoch 0 (23.43s)\tAverage loss=0.566997\tDev F1=34.46\n",
      "[reRNN] Epoch 1 (48.20s)\tAverage loss=0.535070\tDev F1=36.13\n",
      "[reRNN] Epoch 2 (73.24s)\tAverage loss=0.533329\tDev F1=35.49\n",
      "[reRNN] Epoch 3 (98.04s)\tAverage loss=0.532918\tDev F1=36.92\n",
      "[reRNN] Epoch 4 (123.41s)\tAverage loss=0.532681\tDev F1=35.93\n",
      "[reRNN] Epoch 5 (148.55s)\tAverage loss=0.532237\tDev F1=33.81\n",
      "[reRNN] Epoch 6 (174.32s)\tAverage loss=0.531906\tDev F1=38.29\n",
      "[reRNN] Epoch 7 (199.92s)\tAverage loss=0.531722\tDev F1=38.26\n",
      "[reRNN] Epoch 8 (224.76s)\tAverage loss=0.531367\tDev F1=38.54\n",
      "[reRNN] Model saved as <reRNN>\n",
      "[reRNN] Epoch 9 (251.51s)\tAverage loss=0.531073\tDev F1=39.50\n",
      "[reRNN] Model saved as <reRNN>\n",
      "[reRNN] Training done (254.57s)\n",
      "[reRNN] Loaded model <reRNN>\n"
     ]
    }
   ],
   "source": [
    "# from snorkel.learning.disc_models.rnn import reRNN\n",
    "\n",
    "# train_kwargs = {\n",
    "#     'lr':         0.01,\n",
    "#     'dim':        50,\n",
    "#     'n_epochs':   10,\n",
    "#     'dropout':    0.25,\n",
    "#     'print_freq': 1,\n",
    "#     'max_sentence_length': 100\n",
    "# }\n",
    "\n",
    "# lstm = reRNN(seed=1701, n_threads=None)\n",
    "# lstm.train(train_cands, train_marginals, X_dev=dev_cands, Y_dev=L_gold_dev, **train_kwargs)"
   ]
  },
  {
   "cell_type": "markdown",
   "metadata": {},
   "source": [
    "Now, we get the precision, recall, and F1 score from the discriminative model:"
   ]
  },
  {
   "cell_type": "code",
   "execution_count": 57,
   "metadata": {
    "collapsed": false
   },
   "outputs": [
    {
     "name": "stderr",
     "output_type": "stream",
     "text": [
      "/home/xiao/snorkel/snorkel/learning/disc_models/rnn/rnn_base.py:34: UserWarning: Candidate 404 has argument past max length for model:\t[arg ends at index 100; max len 100]\n",
      "  warnings.warn('\\t'.join([w.format(i), info]))\n",
      "/home/xiao/snorkel/snorkel/learning/disc_models/rnn/rnn_base.py:34: UserWarning: Candidate 416 has argument past max length for model:\t[arg ends at index 148; max len 100]\n",
      "  warnings.warn('\\t'.join([w.format(i), info]))\n",
      "/home/xiao/snorkel/snorkel/learning/disc_models/rnn/rnn_base.py:34: UserWarning: Candidate 417 has argument past max length for model:\t[arg ends at index 148; max len 100]\n",
      "  warnings.warn('\\t'.join([w.format(i), info]))\n",
      "/home/xiao/snorkel/snorkel/learning/disc_models/rnn/rnn_base.py:34: UserWarning: Candidate 418 has argument past max length for model:\t[arg ends at index 132; max len 100]\n",
      "  warnings.warn('\\t'.join([w.format(i), info]))\n",
      "/home/xiao/snorkel/snorkel/learning/disc_models/rnn/rnn_base.py:34: UserWarning: Candidate 420 has argument past max length for model:\t[arg ends at index 148; max len 100]\n",
      "  warnings.warn('\\t'.join([w.format(i), info]))\n",
      "/home/xiao/snorkel/snorkel/learning/disc_models/rnn/rnn_base.py:34: UserWarning: Candidate 421 has argument past max length for model:\t[arg ends at index 132; max len 100]\n",
      "  warnings.warn('\\t'.join([w.format(i), info]))\n",
      "/home/xiao/snorkel/snorkel/learning/disc_models/rnn/rnn_base.py:34: UserWarning: Candidate 474 has argument past max length for model:\t[arg ends at index 122; max len 100]\n",
      "  warnings.warn('\\t'.join([w.format(i), info]))\n",
      "/home/xiao/snorkel/snorkel/learning/disc_models/rnn/rnn_base.py:34: UserWarning: Candidate 477 has argument past max length for model:\t[arg ends at index 122; max len 100]\n",
      "  warnings.warn('\\t'.join([w.format(i), info]))\n",
      "/home/xiao/snorkel/snorkel/learning/disc_models/rnn/rnn_base.py:34: UserWarning: Candidate 478 has argument past max length for model:\t[arg ends at index 122; max len 100]\n",
      "  warnings.warn('\\t'.join([w.format(i), info]))\n",
      "/home/xiao/snorkel/snorkel/learning/disc_models/rnn/rnn_base.py:34: UserWarning: Candidate 693 has argument past max length for model:\t[arg ends at index 377; max len 100]\n",
      "  warnings.warn('\\t'.join([w.format(i), info]))\n",
      "/home/xiao/snorkel/snorkel/learning/disc_models/rnn/rnn_base.py:34: UserWarning: Candidate 694 has argument past max length for model:\t[arg ends at index 138; max len 100]\n",
      "  warnings.warn('\\t'.join([w.format(i), info]))\n",
      "/home/xiao/snorkel/snorkel/learning/disc_models/rnn/rnn_base.py:34: UserWarning: Candidate 695 has argument past max length for model:\t[arg ends at index 426; max len 100]\n",
      "  warnings.warn('\\t'.join([w.format(i), info]))\n",
      "/home/xiao/snorkel/snorkel/learning/disc_models/rnn/rnn_base.py:34: UserWarning: Candidate 697 has argument past max length for model:\t[arg ends at index 377; max len 100]\n",
      "  warnings.warn('\\t'.join([w.format(i), info]))\n",
      "/home/xiao/snorkel/snorkel/learning/disc_models/rnn/rnn_base.py:34: UserWarning: Candidate 698 has argument past max length for model:\t[arg ends at index 138; max len 100]\n",
      "  warnings.warn('\\t'.join([w.format(i), info]))\n",
      "/home/xiao/snorkel/snorkel/learning/disc_models/rnn/rnn_base.py:34: UserWarning: Candidate 699 has argument past max length for model:\t[arg ends at index 426; max len 100]\n",
      "  warnings.warn('\\t'.join([w.format(i), info]))\n",
      "/home/xiao/snorkel/snorkel/learning/disc_models/rnn/rnn_base.py:34: UserWarning: Candidate 700 has argument past max length for model:\t[arg ends at index 426; max len 100]\n",
      "  warnings.warn('\\t'.join([w.format(i), info]))\n",
      "/home/xiao/snorkel/snorkel/learning/disc_models/rnn/rnn_base.py:34: UserWarning: Candidate 701 has argument past max length for model:\t[arg ends at index 377; max len 100]\n",
      "  warnings.warn('\\t'.join([w.format(i), info]))\n",
      "/home/xiao/snorkel/snorkel/learning/disc_models/rnn/rnn_base.py:34: UserWarning: Candidate 702 has argument past max length for model:\t[arg ends at index 426; max len 100]\n",
      "  warnings.warn('\\t'.join([w.format(i), info]))\n",
      "/home/xiao/snorkel/snorkel/learning/disc_models/rnn/rnn_base.py:34: UserWarning: Candidate 1185 has argument past max length for model:\t[arg ends at index 283; max len 100]\n",
      "  warnings.warn('\\t'.join([w.format(i), info]))\n",
      "/home/xiao/snorkel/snorkel/learning/disc_models/rnn/rnn_base.py:34: UserWarning: Candidate 1186 has argument past max length for model:\t[arg ends at index 245; max len 100]\n",
      "  warnings.warn('\\t'.join([w.format(i), info]))\n",
      "/home/xiao/snorkel/snorkel/learning/disc_models/rnn/rnn_base.py:34: UserWarning: Candidate 1187 has argument past max length for model:\t[arg ends at index 283; max len 100]\n",
      "  warnings.warn('\\t'.join([w.format(i), info]))\n",
      "/home/xiao/snorkel/snorkel/learning/disc_models/rnn/rnn_base.py:34: UserWarning: Candidate 1240 has argument past max length for model:\t[arg ends at index 250; max len 100]\n",
      "  warnings.warn('\\t'.join([w.format(i), info]))\n",
      "/home/xiao/snorkel/snorkel/learning/disc_models/rnn/rnn_base.py:34: UserWarning: Candidate 1241 has argument past max length for model:\t[arg ends at index 242; max len 100]\n",
      "  warnings.warn('\\t'.join([w.format(i), info]))\n",
      "/home/xiao/snorkel/snorkel/learning/disc_models/rnn/rnn_base.py:34: UserWarning: Candidate 1242 has argument past max length for model:\t[arg ends at index 250; max len 100]\n",
      "  warnings.warn('\\t'.join([w.format(i), info]))\n",
      "/home/xiao/snorkel/snorkel/learning/disc_models/rnn/rnn_base.py:34: UserWarning: Candidate 1243 has argument past max length for model:\t[arg ends at index 188; max len 100]\n",
      "  warnings.warn('\\t'.join([w.format(i), info]))\n",
      "/home/xiao/snorkel/snorkel/learning/disc_models/rnn/rnn_base.py:34: UserWarning: Candidate 1244 has argument past max length for model:\t[arg ends at index 250; max len 100]\n",
      "  warnings.warn('\\t'.join([w.format(i), info]))\n",
      "/home/xiao/snorkel/snorkel/learning/disc_models/rnn/rnn_base.py:34: UserWarning: Candidate 1245 has argument past max length for model:\t[arg ends at index 242; max len 100]\n",
      "  warnings.warn('\\t'.join([w.format(i), info]))\n",
      "/home/xiao/snorkel/snorkel/learning/disc_models/rnn/rnn_base.py:34: UserWarning: Candidate 1250 has argument past max length for model:\t[arg ends at index 219; max len 100]\n",
      "  warnings.warn('\\t'.join([w.format(i), info]))\n",
      "/home/xiao/snorkel/snorkel/learning/disc_models/rnn/rnn_base.py:34: UserWarning: Candidate 1251 has argument past max length for model:\t[arg ends at index 138; max len 100]\n",
      "  warnings.warn('\\t'.join([w.format(i), info]))\n",
      "/home/xiao/snorkel/snorkel/learning/disc_models/rnn/rnn_base.py:34: UserWarning: Candidate 1252 has argument past max length for model:\t[arg ends at index 148; max len 100]\n",
      "  warnings.warn('\\t'.join([w.format(i), info]))\n",
      "/home/xiao/snorkel/snorkel/learning/disc_models/rnn/rnn_base.py:34: UserWarning: Candidate 1253 has argument past max length for model:\t[arg ends at index 219; max len 100]\n",
      "  warnings.warn('\\t'.join([w.format(i), info]))\n",
      "/home/xiao/snorkel/snorkel/learning/disc_models/rnn/rnn_base.py:34: UserWarning: Candidate 1254 has argument past max length for model:\t[arg ends at index 148; max len 100]\n",
      "  warnings.warn('\\t'.join([w.format(i), info]))\n",
      "/home/xiao/snorkel/snorkel/learning/disc_models/rnn/rnn_base.py:34: UserWarning: Candidate 1255 has argument past max length for model:\t[arg ends at index 219; max len 100]\n",
      "  warnings.warn('\\t'.join([w.format(i), info]))\n",
      "/home/xiao/snorkel/snorkel/learning/disc_models/rnn/rnn_base.py:34: UserWarning: Candidate 1357 has argument past max length for model:\t[arg ends at index 134; max len 100]\n",
      "  warnings.warn('\\t'.join([w.format(i), info]))\n",
      "/home/xiao/snorkel/snorkel/learning/disc_models/rnn/rnn_base.py:34: UserWarning: Candidate 1361 has argument past max length for model:\t[arg ends at index 134; max len 100]\n",
      "  warnings.warn('\\t'.join([w.format(i), info]))\n",
      "/home/xiao/snorkel/snorkel/learning/disc_models/rnn/rnn_base.py:34: UserWarning: Candidate 1364 has argument past max length for model:\t[arg ends at index 134; max len 100]\n",
      "  warnings.warn('\\t'.join([w.format(i), info]))\n",
      "/home/xiao/snorkel/snorkel/learning/disc_models/rnn/rnn_base.py:34: UserWarning: Candidate 1366 has argument past max length for model:\t[arg ends at index 134; max len 100]\n",
      "  warnings.warn('\\t'.join([w.format(i), info]))\n",
      "/home/xiao/snorkel/snorkel/learning/disc_models/rnn/rnn_base.py:34: UserWarning: Candidate 1409 has argument past max length for model:\t[arg ends at index 116; max len 100]\n",
      "  warnings.warn('\\t'.join([w.format(i), info]))\n",
      "/home/xiao/snorkel/snorkel/learning/disc_models/rnn/rnn_base.py:34: UserWarning: Candidate 1410 has argument past max length for model:\t[arg ends at index 116; max len 100]\n",
      "  warnings.warn('\\t'.join([w.format(i), info]))\n",
      "/home/xiao/snorkel/snorkel/learning/disc_models/rnn/rnn_base.py:34: UserWarning: Candidate 1413 has argument past max length for model:\t[arg ends at index 116; max len 100]\n",
      "  warnings.warn('\\t'.join([w.format(i), info]))\n",
      "/home/xiao/snorkel/snorkel/learning/disc_models/rnn/rnn_base.py:34: UserWarning: Candidate 1427 has argument past max length for model:\t[arg ends at index 110; max len 100]\n",
      "  warnings.warn('\\t'.join([w.format(i), info]))\n",
      "/home/xiao/snorkel/snorkel/learning/disc_models/rnn/rnn_base.py:34: UserWarning: Candidate 1428 has argument past max length for model:\t[arg ends at index 108; max len 100]\n",
      "  warnings.warn('\\t'.join([w.format(i), info]))\n",
      "/home/xiao/snorkel/snorkel/learning/disc_models/rnn/rnn_base.py:34: UserWarning: Candidate 1429 has argument past max length for model:\t[arg ends at index 110; max len 100]\n",
      "  warnings.warn('\\t'.join([w.format(i), info]))\n",
      "/home/xiao/snorkel/snorkel/learning/disc_models/rnn/rnn_base.py:34: UserWarning: Candidate 1430 has argument past max length for model:\t[arg ends at index 108; max len 100]\n",
      "  warnings.warn('\\t'.join([w.format(i), info]))\n",
      "/home/xiao/snorkel/snorkel/learning/disc_models/rnn/rnn_base.py:34: UserWarning: Candidate 1433 has argument past max length for model:\t[arg ends at index 110; max len 100]\n",
      "  warnings.warn('\\t'.join([w.format(i), info]))\n",
      "/home/xiao/snorkel/snorkel/learning/disc_models/rnn/rnn_base.py:34: UserWarning: Candidate 1434 has argument past max length for model:\t[arg ends at index 108; max len 100]\n",
      "  warnings.warn('\\t'.join([w.format(i), info]))\n",
      "/home/xiao/snorkel/snorkel/learning/disc_models/rnn/rnn_base.py:34: UserWarning: Candidate 1436 has argument past max length for model:\t[arg ends at index 110; max len 100]\n",
      "  warnings.warn('\\t'.join([w.format(i), info]))\n",
      "/home/xiao/snorkel/snorkel/learning/disc_models/rnn/rnn_base.py:34: UserWarning: Candidate 1491 has argument past max length for model:\t[arg ends at index 115; max len 100]\n",
      "  warnings.warn('\\t'.join([w.format(i), info]))\n",
      "/home/xiao/snorkel/snorkel/learning/disc_models/rnn/rnn_base.py:34: UserWarning: Candidate 1493 has argument past max length for model:\t[arg ends at index 115; max len 100]\n",
      "  warnings.warn('\\t'.join([w.format(i), info]))\n",
      "/home/xiao/snorkel/snorkel/learning/disc_models/rnn/rnn_base.py:34: UserWarning: Candidate 1739 has argument past max length for model:\t[arg ends at index 205; max len 100]\n",
      "  warnings.warn('\\t'.join([w.format(i), info]))\n",
      "/home/xiao/snorkel/snorkel/learning/disc_models/rnn/rnn_base.py:34: UserWarning: Candidate 1740 has argument past max length for model:\t[arg ends at index 198; max len 100]\n",
      "  warnings.warn('\\t'.join([w.format(i), info]))\n",
      "/home/xiao/snorkel/snorkel/learning/disc_models/rnn/rnn_base.py:34: UserWarning: Candidate 1741 has argument past max length for model:\t[arg ends at index 205; max len 100]\n",
      "  warnings.warn('\\t'.join([w.format(i), info]))\n",
      "/home/xiao/snorkel/snorkel/learning/disc_models/rnn/rnn_base.py:34: UserWarning: Candidate 1742 has argument past max length for model:\t[arg ends at index 190; max len 100]\n",
      "  warnings.warn('\\t'.join([w.format(i), info]))\n",
      "/home/xiao/snorkel/snorkel/learning/disc_models/rnn/rnn_base.py:34: UserWarning: Candidate 1743 has argument past max length for model:\t[arg ends at index 198; max len 100]\n",
      "  warnings.warn('\\t'.join([w.format(i), info]))\n",
      "/home/xiao/snorkel/snorkel/learning/disc_models/rnn/rnn_base.py:34: UserWarning: Candidate 1744 has argument past max length for model:\t[arg ends at index 205; max len 100]\n",
      "  warnings.warn('\\t'.join([w.format(i), info]))\n",
      "/home/xiao/snorkel/snorkel/learning/disc_models/rnn/rnn_base.py:34: UserWarning: Candidate 1770 has argument past max length for model:\t[arg ends at index 199; max len 100]\n",
      "  warnings.warn('\\t'.join([w.format(i), info]))\n",
      "/home/xiao/snorkel/snorkel/learning/disc_models/rnn/rnn_base.py:34: UserWarning: Candidate 1772 has argument past max length for model:\t[arg ends at index 161; max len 100]\n",
      "  warnings.warn('\\t'.join([w.format(i), info]))\n",
      "/home/xiao/snorkel/snorkel/learning/disc_models/rnn/rnn_base.py:34: UserWarning: Candidate 1774 has argument past max length for model:\t[arg ends at index 199; max len 100]\n",
      "  warnings.warn('\\t'.join([w.format(i), info]))\n",
      "/home/xiao/snorkel/snorkel/learning/disc_models/rnn/rnn_base.py:34: UserWarning: Candidate 1775 has argument past max length for model:\t[arg ends at index 161; max len 100]\n",
      "  warnings.warn('\\t'.join([w.format(i), info]))\n",
      "/home/xiao/snorkel/snorkel/learning/disc_models/rnn/rnn_base.py:34: UserWarning: Candidate 1777 has argument past max length for model:\t[arg ends at index 199; max len 100]\n",
      "  warnings.warn('\\t'.join([w.format(i), info]))\n",
      "/home/xiao/snorkel/snorkel/learning/disc_models/rnn/rnn_base.py:34: UserWarning: Candidate 1778 has argument past max length for model:\t[arg ends at index 199; max len 100]\n",
      "  warnings.warn('\\t'.join([w.format(i), info]))\n",
      "/home/xiao/snorkel/snorkel/learning/disc_models/rnn/rnn_base.py:34: UserWarning: Candidate 1779 has argument past max length for model:\t[arg ends at index 161; max len 100]\n",
      "  warnings.warn('\\t'.join([w.format(i), info]))\n",
      "/home/xiao/snorkel/snorkel/learning/disc_models/rnn/rnn_base.py:34: UserWarning: Candidate 1935 has argument past max length for model:\t[arg ends at index 103; max len 100]\n",
      "  warnings.warn('\\t'.join([w.format(i), info]))\n",
      "/home/xiao/snorkel/snorkel/learning/disc_models/rnn/rnn_base.py:34: UserWarning: Candidate 1938 has argument past max length for model:\t[arg ends at index 103; max len 100]\n",
      "  warnings.warn('\\t'.join([w.format(i), info]))\n",
      "/home/xiao/snorkel/snorkel/learning/disc_models/rnn/rnn_base.py:34: UserWarning: Candidate 1940 has argument past max length for model:\t[arg ends at index 103; max len 100]\n",
      "  warnings.warn('\\t'.join([w.format(i), info]))\n",
      "/home/xiao/snorkel/snorkel/learning/disc_models/rnn/rnn_base.py:34: UserWarning: Candidate 2276 has argument past max length for model:\t[arg ends at index 122; max len 100]\n",
      "  warnings.warn('\\t'.join([w.format(i), info]))\n",
      "/home/xiao/snorkel/snorkel/learning/disc_models/rnn/rnn_base.py:34: UserWarning: Candidate 2279 has argument past max length for model:\t[arg ends at index 122; max len 100]\n",
      "  warnings.warn('\\t'.join([w.format(i), info]))\n",
      "/home/xiao/snorkel/snorkel/learning/disc_models/rnn/rnn_base.py:34: UserWarning: Candidate 2281 has argument past max length for model:\t[arg ends at index 122; max len 100]\n",
      "  warnings.warn('\\t'.join([w.format(i), info]))\n",
      "/home/xiao/snorkel/snorkel/learning/disc_models/rnn/rnn_base.py:34: UserWarning: Candidate 2345 has argument past max length for model:\t[arg ends at index 130; max len 100]\n",
      "  warnings.warn('\\t'.join([w.format(i), info]))\n",
      "/home/xiao/snorkel/snorkel/learning/disc_models/rnn/rnn_base.py:34: UserWarning: Candidate 2346 has argument past max length for model:\t[arg ends at index 128; max len 100]\n",
      "  warnings.warn('\\t'.join([w.format(i), info]))\n",
      "/home/xiao/snorkel/snorkel/learning/disc_models/rnn/rnn_base.py:34: UserWarning: Candidate 2347 has argument past max length for model:\t[arg ends at index 130; max len 100]\n",
      "  warnings.warn('\\t'.join([w.format(i), info]))\n",
      "/home/xiao/snorkel/snorkel/learning/disc_models/rnn/rnn_base.py:34: UserWarning: Candidate 2349 has argument past max length for model:\t[arg ends at index 128; max len 100]\n",
      "  warnings.warn('\\t'.join([w.format(i), info]))\n",
      "/home/xiao/snorkel/snorkel/learning/disc_models/rnn/rnn_base.py:34: UserWarning: Candidate 2350 has argument past max length for model:\t[arg ends at index 130; max len 100]\n",
      "  warnings.warn('\\t'.join([w.format(i), info]))\n",
      "/home/xiao/snorkel/snorkel/learning/disc_models/rnn/rnn_base.py:34: UserWarning: Candidate 2445 has argument past max length for model:\t[arg ends at index 101; max len 100]\n",
      "  warnings.warn('\\t'.join([w.format(i), info]))\n"
     ]
    },
    {
     "name": "stdout",
     "output_type": "stream",
     "text": [
      "Prec: 0.141, Recall: 0.211, F1 Score: 0.169\n"
     ]
    }
   ],
   "source": [
    "p, r, f1 = lstm.score(test_cands, L_gold_test)\n",
    "print(\"Prec: {0:.3f}, Recall: {1:.3f}, F1 Score: {2:.3f}\".format(p, r, f1))"
   ]
  },
  {
   "cell_type": "markdown",
   "metadata": {},
   "source": [
    "We can also get the candidates returned in sets (true positives, false positives, true negatives, false negatives) as well as a more detailed score report:"
   ]
  },
  {
   "cell_type": "code",
   "execution_count": 60,
   "metadata": {
    "collapsed": false
   },
   "outputs": [
    {
     "name": "stdout",
     "output_type": "stream",
     "text": [
      "========================================\n",
      "Scores (Un-adjusted)\n",
      "========================================\n",
      "Pos. class accuracy: 0.183\n",
      "Neg. class accuracy: 0.899\n",
      "Precision            0.138\n",
      "Recall               0.183\n",
      "F1                   0.157\n",
      "----------------------------------------\n",
      "TP: 40 | FP: 250 | TN: 2233 | FN: 178\n",
      "========================================\n",
      "\n"
     ]
    }
   ],
   "source": [
    "tp, fp, tn, fn = lstm.error_analysis(session, test_cands, L_gold_test)"
   ]
  },
  {
   "cell_type": "markdown",
   "metadata": {},
   "source": [
    "Note that if this is the final test set that you will be reporting final numbers on, to avoid biasing results you should not inspect results.  However you can run the model on your _development set_ and, as we did in the previous part with the generative labeling function model, inspect examples to do error analysis.\n",
    "\n",
    "You can also improve performance substantially by increasing the number of training epochs!\n",
    "\n",
    "Finally, we can save the predictions of the model on the test set back to the database. (This also works for other candidate sets, such as unlabeled candidates.)"
   ]
  },
  {
   "cell_type": "code",
   "execution_count": 19,
   "metadata": {
    "collapsed": false
   },
   "outputs": [
    {
     "name": "stdout",
     "output_type": "stream",
     "text": [
      "Saved 2697 marginals\n"
     ]
    }
   ],
   "source": [
    "lstm.save_marginals(session, test_cands)"
   ]
  },
  {
   "cell_type": "markdown",
   "metadata": {},
   "source": [
    "##### More importantly, you completed the introduction to Snorkel! Give yourself a pat on the back!"
   ]
  }
 ],
 "metadata": {
  "anaconda-cloud": {},
  "kernelspec": {
   "display_name": "Python 2",
   "language": "python",
   "name": "python2"
  },
  "language_info": {
   "codemirror_mode": {
    "name": "ipython",
    "version": 2
   },
   "file_extension": ".py",
   "mimetype": "text/x-python",
   "name": "python",
   "nbconvert_exporter": "python",
   "pygments_lexer": "ipython2",
   "version": "2.7.12"
  }
 },
 "nbformat": 4,
 "nbformat_minor": 1
}
