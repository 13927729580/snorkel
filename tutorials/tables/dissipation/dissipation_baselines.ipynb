{
 "cells": [
  {
   "cell_type": "markdown",
   "metadata": {},
   "source": [
    "# dissipation baselines"
   ]
  },
  {
   "cell_type": "markdown",
   "metadata": {},
   "source": [
    "## Extraction"
   ]
  },
  {
   "cell_type": "code",
   "execution_count": 1,
   "metadata": {
    "collapsed": false
   },
   "outputs": [],
   "source": [
    "# If necessary:\n",
    "import os\n",
    "os.remove('snorkel.db');\n",
    "os.system('cp snorkel.db\\ corpus snorkel.db');\n",
    "\n",
    "import sys\n",
    "sys.path.append(os.environ['SNORKELHOME'] + '/tutorials/tables/')\n",
    "\n",
    "from snorkel import SnorkelSession\n",
    "session = SnorkelSession()"
   ]
  },
  {
   "cell_type": "code",
   "execution_count": 2,
   "metadata": {
    "collapsed": true
   },
   "outputs": [],
   "source": [
    "from snorkel.models import candidate_subclass\n",
    "\n",
    "Part_Dissipation = candidate_subclass('Part_Dissipation', ['part','dissipation'])"
   ]
  },
  {
   "cell_type": "markdown",
   "metadata": {},
   "source": [
    "### Define Matchers"
   ]
  },
  {
   "cell_type": "code",
   "execution_count": 3,
   "metadata": {
    "collapsed": true
   },
   "outputs": [],
   "source": [
    "from snorkel.matchers import RegexMatchSpan, Union\n",
    "\n",
    "eeca_matcher = RegexMatchSpan(rgx='([b]{1}[abcdefklnpqruyz]{1}[\\swxyz]?[0-9]{3,5}[\\s]?[A-Z\\/]{0,5}[0-9]?[A-Z]?([-][A-Z0-9]{1,7})?([-][A-Z0-9]{1,2})?)')\n",
    "jedec_matcher = RegexMatchSpan(rgx='([123]N\\d{3,4}[A-Z]{0,5}[0-9]?[A-Z]?)')\n",
    "jis_matcher = RegexMatchSpan(rgx='(2S[abcdefghjkmqrstvz]{1}[\\d]{2,4})')\n",
    "others_matcher = RegexMatchSpan(rgx='((NSVBC|SMBT|MJ|MJE|MPS|MRF|RCA|TIP|ZTX|ZT|TIS|TIPL|DTC|MMBT|PZT){1}[\\d]{2,4}[A-Z]{0,3}([-][A-Z0-9]{0,6})?([-][A-Z0-9]{0,1})?)')\n",
    "parts_matcher = Union(eeca_matcher, jedec_matcher, jis_matcher, others_matcher)\n",
    "\n",
    "dissipation_matcher = RegexMatchSpan(rgx=r'\\d\\d[05]')"
   ]
  },
  {
   "cell_type": "markdown",
   "metadata": {},
   "source": [
    "### Define ContextSpaces"
   ]
  },
  {
   "cell_type": "code",
   "execution_count": 4,
   "metadata": {
    "collapsed": false
   },
   "outputs": [],
   "source": [
    "import os\n",
    "from collections import defaultdict\n",
    "from snorkel.candidates import OmniNgrams\n",
    "from snorkel.lf_helpers import *\n",
    "from hardware_utils import OmniNgramsPart, get_gold_dict\n",
    "\n",
    "# Make parts list\n",
    "gold_file = os.environ['SNORKELHOME'] + '/tutorials/tables/data/hardware/hardware_gold.csv'\n",
    "gold_parts = get_gold_dict(gold_file, doc_on=True, part_on=True, val_on=False)\n",
    "parts_by_doc = defaultdict(set)\n",
    "for part in gold_parts:\n",
    "    parts_by_doc[part[0]].add(part[1])\n",
    "\n",
    "# Baseline 1: all candidates, no splitting/linking, majority label\n",
    "# part_ngrams        = OmniNgrams(n_max=1)\n",
    "# dissipation_ngrams = OmniNgrams(n_max=1)\n",
    "# throttler          = None\n",
    "\n",
    "# Baseline 2: candidates w/ throttler, no splitting/linking, majority label\n",
    "# part_ngrams        = OmniNgrams(n_max=1)\n",
    "# dissipation_ngrams = OmniNgrams(n_max=1)\n",
    "# throttler = lambda x: overlap(['power','dissipation','mw'], get_aligned_ngrams(x[1]))\n",
    "\n",
    "# Current 1: candidates (w/ throttler?), splitting, no linking, supervised learning\n",
    "# part_ngrams        = OmniNgramsPart(n_max=2)\n",
    "# dissipation_ngrams = OmniNgrams(n_max=1)\n",
    "# throttler = lambda x: overlap(['power','dissipation','mw'], get_aligned_ngrams(x[1]))\n",
    "\n",
    "# Oracle 1: candidates (w/ throttler?), splitting/linking, supervised learning\n",
    "part_ngrams        = OmniNgramsPart(n_max=2, parts_by_doc=parts_by_doc)\n",
    "dissipation_ngrams = OmniNgrams(n_max=1)\n",
    "throttler = lambda x: overlap(['power','dissipation','mw'], get_aligned_ngrams(x[1]))"
   ]
  },
  {
   "cell_type": "markdown",
   "metadata": {},
   "source": [
    "### Run CandidateExtractor"
   ]
  },
  {
   "cell_type": "code",
   "execution_count": 5,
   "metadata": {
    "collapsed": false
   },
   "outputs": [
    {
     "name": "stdout",
     "output_type": "stream",
     "text": [
      "Extracting Candidates from Corpus (Hardware Training)\n",
      "[========================================] 100%\n",
      "CPU times: user 9min 43s, sys: 3min 7s, total: 12min 51s\n",
      "Wall time: 13min 4s\n",
      "Candidate Set (Hardware Training Candidates) contains 36230 Candidates\n",
      "Extracting Candidates from Corpus (Hardware Development)\n",
      "[========================================] 100%\n",
      "CPU times: user 1min 23s, sys: 39.4 s, total: 2min 2s\n",
      "Wall time: 2min 3s\n",
      "Candidate Set (Hardware Development Candidates) contains 6735 Candidates\n"
     ]
    }
   ],
   "source": [
    "from snorkel.models import Corpus\n",
    "from snorkel.candidates import CandidateExtractor\n",
    "from snorkel.utils import get_ORM_instance\n",
    "ce = CandidateExtractor(Part_Dissipation, \n",
    "                        [part_ngrams, dissipation_ngrams], \n",
    "                        [parts_matcher, dissipation_matcher], \n",
    "                        throttler=throttler)\n",
    "\n",
    "for corpus_name in ['Hardware Training', 'Hardware Development']:\n",
    "    corpus = get_ORM_instance(Corpus, session, corpus_name)\n",
    "    print \"Extracting Candidates from %s\" % corpus\n",
    "    %time candidates = ce.extract(\\\n",
    "        corpus.documents, corpus_name + ' Candidates', session)\n",
    "    session.add(candidates)\n",
    "    print \"%s contains %d Candidates\" % (candidates, len(candidates))\n",
    "session.commit()"
   ]
  },
  {
   "cell_type": "code",
   "execution_count": 6,
   "metadata": {
    "collapsed": true
   },
   "outputs": [],
   "source": [
    "# If necessary\n",
    "import os\n",
    "os.system('cp snorkel.db snorkel.db\\ candidates');"
   ]
  },
  {
   "cell_type": "markdown",
   "metadata": {},
   "source": [
    "### Assess Baseline Performance"
   ]
  },
  {
   "cell_type": "code",
   "execution_count": 7,
   "metadata": {
    "collapsed": true
   },
   "outputs": [],
   "source": [
    "# If necessary\n",
    "# import os\n",
    "# os.remove('snorkel.db');\n",
    "# os.system('cp snorkel.db\\ candidates snorkel.db');\n",
    "\n",
    "# import sys\n",
    "# sys.path.append(os.environ['SNORKELHOME'] + '/tutorials/tables/')\n",
    "\n",
    "# from snorkel import SnorkelSession\n",
    "# session = SnorkelSession()\n",
    "\n",
    "# from snorkel.models import candidate_subclass\n",
    "# Part_Dissipation = candidate_subclass('Part_Dissipation', ['part','dissipation'])"
   ]
  },
  {
   "cell_type": "markdown",
   "metadata": {},
   "source": [
    "If we need to determine majority label:"
   ]
  },
  {
   "cell_type": "code",
   "execution_count": 8,
   "metadata": {
    "collapsed": false
   },
   "outputs": [],
   "source": [
    "# from snorkel.models import CandidateSet\n",
    "# from snorkel.utils import get_ORM_instance\n",
    "# from hardware_utils import candidates_to_entities, count_labels\n",
    "\n",
    "# # map train candidates to entities\n",
    "# train_candidates = get_ORM_instance(CandidateSet, session, 'Hardware Training Candidates')\n",
    "# train_entities   = candidates_to_entities(train_candidates)\n",
    "\n",
    "# # get majority label for training set\n",
    "# gold_file = os.environ['SNORKELHOME'] + '/tutorials/tables/data/hardware/hardware_gold.csv'\n",
    "# gold_entities = get_gold_dict(gold_file, attrib='dev_dissipation')\n",
    "# T, F = count_labels()\n",
    "# print \"True: %d, False: %d\" % (T, F)"
   ]
  },
  {
   "cell_type": "code",
   "execution_count": 9,
   "metadata": {
    "collapsed": false
   },
   "outputs": [],
   "source": [
    "# from snorkel.models import Corpus, CandidateSet\n",
    "# from hardware_utils import entity_level_f1\n",
    "\n",
    "# dev_corpus = get_ORM_instance(Corpus, session, 'Hardware Development')\n",
    "# dev_candidates = get_ORM_instance(CandidateSet, session, 'Hardware Development Candidates')\n",
    "# # dev_entities   = candidates_to_entities(dev_candidates)\n",
    "\n",
    "# # consider all candidates as True\n",
    "# tp = set([c for c in dev_candidates])\n",
    "# fp = set()\n",
    "# tn = set()\n",
    "# fn = set()\n",
    "# TP, FP, FN = entity_level_f1(tp, fp, tn, fn, gold_file, dev_corpus, 'dev_dissipation')"
   ]
  },
  {
   "cell_type": "markdown",
   "metadata": {},
   "source": [
    "## Gold Labels"
   ]
  },
  {
   "cell_type": "code",
   "execution_count": 10,
   "metadata": {
    "collapsed": false
   },
   "outputs": [],
   "source": [
    "# If necessary\n",
    "# import os\n",
    "# os.remove('snorkel.db');\n",
    "# os.system('cp snorkel.db\\ candidates snorkel.db');\n",
    "\n",
    "# import sys\n",
    "# sys.path.append(os.environ['SNORKELHOME'] + '/tutorials/tables/')\n",
    "\n",
    "# from snorkel import SnorkelSession\n",
    "# session = SnorkelSession()\n",
    "\n",
    "# from snorkel.models import candidate_subclass\n",
    "# Part_Dissipation = candidate_subclass('Part_Dissipation', ['part','dissipation'])"
   ]
  },
  {
   "cell_type": "code",
   "execution_count": 11,
   "metadata": {
    "collapsed": false
   },
   "outputs": [
    {
     "name": "stdout",
     "output_type": "stream",
     "text": [
      "Loading 36230 candidate labels\n",
      "[========================================] 100%\n",
      "CPU times: user 1min 57s, sys: 628 ms, total: 1min 58s\n",
      "Wall time: 1min 58s\n",
      "17850/36230 Candidates in Candidate Set (Hardware Training Candidates) have positive Labels\n",
      "Loading 6735 candidate labels\n",
      "[========================================] 100%\n",
      "CPU times: user 19.8 s, sys: 129 ms, total: 19.9 s\n",
      "Wall time: 20.2 s\n",
      "3003/6735 Candidates in Candidate Set (Hardware Development Candidates) have positive Labels\n"
     ]
    }
   ],
   "source": [
    "import os\n",
    "from snorkel.models import CandidateSet\n",
    "from hardware_utils import load_hardware_labels\n",
    "\n",
    "gold_file = os.environ['SNORKELHOME'] + '/tutorials/tables/data/hardware/hardware_gold.csv'\n",
    "for set_name in ['Training', 'Development']:\n",
    "    candidate_set_name = 'Hardware %s Candidates' % set_name\n",
    "    candidates = session.query(CandidateSet).filter(\n",
    "        CandidateSet.name == candidate_set_name).one()\n",
    "    label_set_name = 'Hardware %s Candidates -- Gold' % set_name\n",
    "    annotation_key_name = 'Hardware %s Labels -- Gold' % set_name\n",
    "    %time gold_candidates, annotation_key = load_hardware_labels(session,\\\n",
    "                           label_set_name, \\\n",
    "                           annotation_key_name, \\\n",
    "                           candidates, \\\n",
    "                           gold_file, \\\n",
    "                           'dev_dissipation')\n",
    "    candidates_gold = session.query(CandidateSet).filter(\n",
    "        CandidateSet.name == candidate_set_name + ' -- Gold').one()\n",
    "    print \"%d/%d Candidates in %s have positive Labels\" % (\n",
    "        len(candidates_gold), len(candidates), candidates)"
   ]
  },
  {
   "cell_type": "code",
   "execution_count": 12,
   "metadata": {
    "collapsed": true
   },
   "outputs": [],
   "source": [
    "# If necessary\n",
    "import os\n",
    "os.system('cp snorkel.db snorkel.db\\ labels');"
   ]
  },
  {
   "cell_type": "markdown",
   "metadata": {},
   "source": [
    "## Features"
   ]
  },
  {
   "cell_type": "code",
   "execution_count": 13,
   "metadata": {
    "collapsed": true
   },
   "outputs": [],
   "source": [
    "# If necessary:\n",
    "# import os\n",
    "# os.remove('snorkel.db');\n",
    "# os.system('cp snorkel.db\\ labels snorkel.db');\n",
    "\n",
    "# import sys\n",
    "# sys.path.append(os.environ['SNORKELHOME'] + '/tutorials/tables/')\n",
    "\n",
    "# from snorkel import SnorkelSession\n",
    "# session = SnorkelSession()\n",
    "\n",
    "# from snorkel.models import candidate_subclass\n",
    "# Part_Dissipation = candidate_subclass('Part_Dissipation', ['part','dissipation'])"
   ]
  },
  {
   "cell_type": "markdown",
   "metadata": {},
   "source": [
    "### Extract Features"
   ]
  },
  {
   "cell_type": "code",
   "execution_count": 14,
   "metadata": {
    "collapsed": false
   },
   "outputs": [
    {
     "name": "stdout",
     "output_type": "stream",
     "text": [
      "[========================================] 100%\n",
      "Bulk upserting 6542707 annotations...\n",
      "Done.\n",
      "Loading sparse Feature matrix...\n",
      "CPU times: user 15min 32s, sys: 3min 47s, total: 19min 19s\n",
      "Wall time: 25min 17s\n",
      "[========================================] 100%\n",
      "Bulk upserting 904819 annotations...\n",
      "Done.\n",
      "Loading sparse Feature matrix...\n",
      "CPU times: user 3min 31s, sys: 32.9 s, total: 4min 4s\n",
      "Wall time: 4min 6s\n"
     ]
    }
   ],
   "source": [
    "from snorkel.models import CandidateSet\n",
    "from snorkel.fast_annotations import FeatureManager\n",
    "from snorkel.utils import get_ORM_instance\n",
    "\n",
    "train = get_ORM_instance(CandidateSet, session, 'Hardware Training Candidates')\n",
    "dev   = get_ORM_instance(CandidateSet, session, 'Hardware Development Candidates')\n",
    "\n",
    "feature_manager = FeatureManager()\n",
    "%time F_train = feature_manager.create(session, train, 'Train Features')\n",
    "%time F_dev = feature_manager.update(session, dev, 'Train Features', expand_key_set=False)"
   ]
  },
  {
   "cell_type": "code",
   "execution_count": 15,
   "metadata": {
    "collapsed": true
   },
   "outputs": [],
   "source": [
    "# If necessary:\n",
    "import os\n",
    "os.system('cp snorkel.db snorkel.db\\ featurized');"
   ]
  },
  {
   "cell_type": "markdown",
   "metadata": {},
   "source": [
    "## LFs"
   ]
  },
  {
   "cell_type": "code",
   "execution_count": 16,
   "metadata": {
    "collapsed": true
   },
   "outputs": [],
   "source": [
    "# If necessary\n",
    "# import os\n",
    "# os.remove('snorkel.db');\n",
    "# os.system('cp snorkel.db\\ featurized snorkel.db');\n",
    "\n",
    "# from snorkel import SnorkelSession\n",
    "# session = SnorkelSession()\n",
    "\n",
    "# import sys\n",
    "# sys.path.append(os.environ['SNORKELHOME'] + '/tutorials/tables/')\n",
    "\n",
    "# from snorkel.models import candidate_subclass\n",
    "# Part_Dissipation = candidate_subclass('Part_Dissipation', ['part','dissipation'])\n",
    "\n",
    "# from snorkel.models import CandidateSet\n",
    "# train = session.query(CandidateSet).filter(\n",
    "#     CandidateSet.name == 'Hardware Training Candidates').one()"
   ]
  },
  {
   "cell_type": "markdown",
   "metadata": {},
   "source": [
    "### Define LFs"
   ]
  },
  {
   "cell_type": "code",
   "execution_count": 17,
   "metadata": {
    "collapsed": false
   },
   "outputs": [],
   "source": [
    "from snorkel.fast_annotations import LabelManager\n",
    "from snorkel.lf_helpers import *\n",
    "import re\n",
    "label_manager = LabelManager()\n",
    "\n",
    "LFs = []\n",
    "\n",
    "def LF_complement_phrase_part(c):\n",
    "    return -1 if overlap(['complement','complementary'], \n",
    "                         get_phrase_ngrams(c.part)) else 0\n",
    "LFs.append(LF_complement_phrase_part)\n",
    "\n",
    "def LF_complement_phrase_dissipation(c):\n",
    "    return -1 if overlap(['complement','complementary'], \n",
    "                         get_phrase_ngrams(c.dissipation)) else 0\n",
    "LFs.append(LF_complement_phrase_dissipation)\n",
    "\n",
    "def LF_complement_neighbor_dissipation(c):\n",
    "    return -1 if overlap(['complement','complementary'], \n",
    "                         get_neighbor_phrase_ngrams(c.dissipation)) else 0\n",
    "LFs.append(LF_complement_neighbor_dissipation)\n",
    "\n",
    "def LF_top_mark_col_part(c):\n",
    "    return -1 if overlap(['top','mark'],\n",
    "                         get_col_ngrams(c.part)) else 0\n",
    "LFs.append(LF_top_mark_col_part)\n",
    "\n",
    "def LF_endswith_D_part(c):\n",
    "    return -1 if c.part.get_span().endswith('D') else 0\n",
    "LFs.append(LF_endswith_D_part)\n",
    "\n",
    "def LF_default_positive(c):\n",
    "    return 1 if not overlap(['complement','complementary'],\n",
    "                            chain.from_iterable([\n",
    "                            get_phrase_ngrams(c.part),\n",
    "                            get_phrase_ngrams(c.dissipation),\n",
    "                            get_neighbor_phrase_ngrams(c.dissipation)])) else 0\n",
    "LFs.append(LF_default_positive)"
   ]
  },
  {
   "cell_type": "code",
   "execution_count": 18,
   "metadata": {
    "collapsed": false
   },
   "outputs": [
    {
     "name": "stdout",
     "output_type": "stream",
     "text": [
      "42965\n",
      "Part_Dissipation(Span(\"2N6427\", parent=2816, chars=[0,5], words=[0,0]), Span(\"625\", parent=79453, chars=[0,2], words=[0,0]))\n",
      "0\n",
      "0\n",
      "0\n",
      "0\n",
      "0\n",
      "1\n"
     ]
    }
   ],
   "source": [
    "from snorkel.models import Candidate\n",
    "from hardware_utils import entity_to_candidates\n",
    "\n",
    "candidates = session.query(Candidate).all()\n",
    "print len(candidates)\n",
    "# matches = entity_to_candidates((u'SIEMS01215-1', u'BC856', u'NPN'), candidates)\n",
    "# c = matches[0]\n",
    "c = candidates[0]\n",
    "print candidates[0]\n",
    "\n",
    "print LF_complement_phrase_part(c)\n",
    "print LF_complement_phrase_dissipation(c)\n",
    "print LF_complement_neighbor_dissipation(c)\n",
    "print LF_top_mark_col_part(c)\n",
    "print LF_endswith_D_part(c)\n",
    "print LF_default_positive(c)"
   ]
  },
  {
   "cell_type": "markdown",
   "metadata": {},
   "source": [
    "### Apply LFs"
   ]
  },
  {
   "cell_type": "code",
   "execution_count": 19,
   "metadata": {
    "collapsed": false
   },
   "outputs": [
    {
     "name": "stdout",
     "output_type": "stream",
     "text": [
      "[========================================] 100%\n",
      "Bulk upserting 217380 annotations...\n",
      "Done.\n",
      "Loading sparse Label matrix...\n",
      "CPU times: user 6min 50s, sys: 1min 43s, total: 8min 34s\n",
      "Wall time: 8min 36s\n"
     ]
    },
    {
     "data": {
      "text/plain": [
       "<36230x6 sparse matrix of type '<type 'numpy.float64'>'\n",
       "\twith 36310 stored elements in Compressed Sparse Row format>"
      ]
     },
     "execution_count": 19,
     "metadata": {},
     "output_type": "execute_result"
    }
   ],
   "source": [
    "%time L_train = label_manager.create(session, train, 'LF Labels', f=LFs)\n",
    "L_train"
   ]
  },
  {
   "cell_type": "markdown",
   "metadata": {},
   "source": [
    "### Assess LF accuracy"
   ]
  },
  {
   "cell_type": "code",
   "execution_count": 20,
   "metadata": {
    "collapsed": false
   },
   "outputs": [
    {
     "name": "stdout",
     "output_type": "stream",
     "text": [
      "[========================================] 100%\n",
      "CPU times: user 470 ms, sys: 19.8 ms, total: 490 ms\n",
      "Wall time: 489 ms\n"
     ]
    },
    {
     "data": {
      "text/html": [
       "<div>\n",
       "<table border=\"1\" class=\"dataframe\">\n",
       "  <thead>\n",
       "    <tr style=\"text-align: right;\">\n",
       "      <th></th>\n",
       "      <th>accuracy</th>\n",
       "      <th>conflicts</th>\n",
       "      <th>coverage</th>\n",
       "      <th>j</th>\n",
       "      <th>overlaps</th>\n",
       "    </tr>\n",
       "  </thead>\n",
       "  <tbody>\n",
       "    <tr>\n",
       "      <th>LF_complement_phrase_part</th>\n",
       "      <td>0.491803</td>\n",
       "      <td>0.000000</td>\n",
       "      <td>0.003367</td>\n",
       "      <td>0</td>\n",
       "      <td>0.000000</td>\n",
       "    </tr>\n",
       "    <tr>\n",
       "      <th>LF_complement_phrase_dissipation</th>\n",
       "      <td>NaN</td>\n",
       "      <td>0.000000</td>\n",
       "      <td>0.000000</td>\n",
       "      <td>1</td>\n",
       "      <td>0.000000</td>\n",
       "    </tr>\n",
       "    <tr>\n",
       "      <th>LF_complement_neighbor_dissipation</th>\n",
       "      <td>NaN</td>\n",
       "      <td>0.000000</td>\n",
       "      <td>0.000000</td>\n",
       "      <td>2</td>\n",
       "      <td>0.000000</td>\n",
       "    </tr>\n",
       "    <tr>\n",
       "      <th>LF_top_mark_col_part</th>\n",
       "      <td>0.462500</td>\n",
       "      <td>0.002208</td>\n",
       "      <td>0.002208</td>\n",
       "      <td>3</td>\n",
       "      <td>0.002208</td>\n",
       "    </tr>\n",
       "    <tr>\n",
       "      <th>LF_endswith_D_part</th>\n",
       "      <td>NaN</td>\n",
       "      <td>0.000000</td>\n",
       "      <td>0.000000</td>\n",
       "      <td>4</td>\n",
       "      <td>0.000000</td>\n",
       "    </tr>\n",
       "    <tr>\n",
       "      <th>LF_default_positive</th>\n",
       "      <td>0.492633</td>\n",
       "      <td>0.002208</td>\n",
       "      <td>0.996633</td>\n",
       "      <td>5</td>\n",
       "      <td>0.002208</td>\n",
       "    </tr>\n",
       "  </tbody>\n",
       "</table>\n",
       "</div>"
      ],
      "text/plain": [
       "                                    accuracy  conflicts  coverage  j  overlaps\n",
       "LF_complement_phrase_part           0.491803   0.000000  0.003367  0  0.000000\n",
       "LF_complement_phrase_dissipation         NaN   0.000000  0.000000  1  0.000000\n",
       "LF_complement_neighbor_dissipation       NaN   0.000000  0.000000  2  0.000000\n",
       "LF_top_mark_col_part                0.462500   0.002208  0.002208  3  0.002208\n",
       "LF_endswith_D_part                       NaN   0.000000  0.000000  4  0.000000\n",
       "LF_default_positive                 0.492633   0.002208  0.996633  5  0.002208"
      ]
     },
     "execution_count": 20,
     "metadata": {},
     "output_type": "execute_result"
    }
   ],
   "source": [
    "train_gold = session.query(CandidateSet).filter(\n",
    "    CandidateSet.name == 'Hardware Training Candidates -- Gold').one()\n",
    "%time L_train.lf_stats(train_gold)"
   ]
  },
  {
   "cell_type": "code",
   "execution_count": 21,
   "metadata": {
    "collapsed": true
   },
   "outputs": [],
   "source": [
    "# If necessary\n",
    "import os\n",
    "os.system('cp snorkel.db snorkel.db\\ features');"
   ]
  },
  {
   "cell_type": "markdown",
   "metadata": {},
   "source": [
    "## Learn and Evaluate"
   ]
  },
  {
   "cell_type": "code",
   "execution_count": 22,
   "metadata": {
    "collapsed": false
   },
   "outputs": [],
   "source": [
    "# If necessary:\n",
    "# import os\n",
    "# os.remove('snorkel.db');\n",
    "# os.system('cp snorkel.db\\ features snorkel.db');\n",
    "\n",
    "# from snorkel import SnorkelSession\n",
    "# session = SnorkelSession()\n",
    "\n",
    "# import sys\n",
    "# sys.path.append(os.environ['SNORKELHOME'] + '/tutorials/tables/')\n",
    "\n",
    "# from snorkel.models import candidate_subclass\n",
    "# Part_Dissipation = candidate_subclass('Part_Dissipation', ['part','dissipation'])\n",
    "\n",
    "# from snorkel.models import CandidateSet\n",
    "# train = session.query(CandidateSet).filter(\n",
    "#     CandidateSet.name == 'Hardware Training Candidates').one()\n",
    "# dev = session.query(CandidateSet).filter(\n",
    "#     CandidateSet.name == 'Hardware Development Candidates').one()\n",
    "\n",
    "# from snorkel.annotations import FeatureManager, LabelManager\n",
    "# feature_manager = FeatureManager()\n",
    "# %time F_train = feature_manager.load(session, train, 'Train Features')\n",
    "# %time F_dev = feature_manager.load(session, dev, 'Train Features')\n",
    "\n",
    "# label_manager = LabelManager()\n",
    "# %time L_train = label_manager.load(session, train, 'LF Labels')"
   ]
  },
  {
   "cell_type": "code",
   "execution_count": 23,
   "metadata": {
    "collapsed": false
   },
   "outputs": [
    {
     "name": "stdout",
     "output_type": "stream",
     "text": [
      "================================================================================\n",
      "Training marginals (!= 0.5):\t36230\n",
      "Features:\t\t\t6\n",
      "================================================================================\n",
      "Begin training for rate=0.01, mu=1e-06\n",
      "\tLearning epoch = 0\tGradient mag. = 0.003229\n",
      "\tLearning epoch = 250\tGradient mag. = 0.003373\n",
      "\tLearning epoch = 500\tGradient mag. = 0.003348\n",
      "\tLearning epoch = 750\tGradient mag. = 0.003324\n",
      "\tLearning epoch = 1000\tGradient mag. = 0.003299\n",
      "\tLearning epoch = 1250\tGradient mag. = 0.003275\n",
      "\tLearning epoch = 1500\tGradient mag. = 0.003251\n",
      "\tLearning epoch = 1750\tGradient mag. = 0.003227\n",
      "\tLearning epoch = 2000\tGradient mag. = 0.003203\n",
      "\tLearning epoch = 2250\tGradient mag. = 0.003180\n",
      "\tLearning epoch = 2500\tGradient mag. = 0.003157\n",
      "\tLearning epoch = 2750\tGradient mag. = 0.003134\n",
      "\tLearning epoch = 3000\tGradient mag. = 0.003111\n",
      "\tLearning epoch = 3250\tGradient mag. = 0.003089\n",
      "\tLearning epoch = 3500\tGradient mag. = 0.003066\n",
      "\tLearning epoch = 3750\tGradient mag. = 0.003044\n",
      "\tLearning epoch = 4000\tGradient mag. = 0.003023\n",
      "\tLearning epoch = 4250\tGradient mag. = 0.003001\n",
      "\tLearning epoch = 4500\tGradient mag. = 0.002980\n",
      "\tLearning epoch = 4750\tGradient mag. = 0.002958\n",
      "\tLearning epoch = 5000\tGradient mag. = 0.002937\n",
      "\tLearning epoch = 5250\tGradient mag. = 0.002916\n",
      "\tLearning epoch = 5500\tGradient mag. = 0.002896\n",
      "\tLearning epoch = 5750\tGradient mag. = 0.002875\n",
      "\tLearning epoch = 6000\tGradient mag. = 0.002855\n",
      "\tLearning epoch = 6250\tGradient mag. = 0.002835\n",
      "\tLearning epoch = 6500\tGradient mag. = 0.002815\n",
      "\tLearning epoch = 6750\tGradient mag. = 0.002795\n",
      "\tLearning epoch = 7000\tGradient mag. = 0.002776\n",
      "\tLearning epoch = 7250\tGradient mag. = 0.002756\n",
      "\tLearning epoch = 7500\tGradient mag. = 0.002737\n",
      "\tLearning epoch = 7750\tGradient mag. = 0.002718\n",
      "\tLearning epoch = 8000\tGradient mag. = 0.002699\n",
      "\tLearning epoch = 8250\tGradient mag. = 0.002680\n",
      "\tLearning epoch = 8500\tGradient mag. = 0.002662\n",
      "\tLearning epoch = 8750\tGradient mag. = 0.002643\n",
      "\tLearning epoch = 9000\tGradient mag. = 0.002625\n",
      "\tLearning epoch = 9250\tGradient mag. = 0.002607\n",
      "\tLearning epoch = 9500\tGradient mag. = 0.002589\n",
      "\tLearning epoch = 9750\tGradient mag. = 0.002571\n",
      "\tLearning epoch = 10000\tGradient mag. = 0.002554\n",
      "\tLearning epoch = 10250\tGradient mag. = 0.002536\n",
      "\tLearning epoch = 10500\tGradient mag. = 0.002519\n",
      "\tLearning epoch = 10750\tGradient mag. = 0.002502\n",
      "\tLearning epoch = 11000\tGradient mag. = 0.002485\n",
      "\tLearning epoch = 11250\tGradient mag. = 0.002468\n",
      "\tLearning epoch = 11500\tGradient mag. = 0.002451\n",
      "\tLearning epoch = 11750\tGradient mag. = 0.002434\n",
      "\tLearning epoch = 12000\tGradient mag. = 0.002418\n",
      "\tLearning epoch = 12250\tGradient mag. = 0.002401\n",
      "\tLearning epoch = 12500\tGradient mag. = 0.002385\n",
      "\tLearning epoch = 12750\tGradient mag. = 0.002369\n",
      "\tLearning epoch = 13000\tGradient mag. = 0.002353\n",
      "\tLearning epoch = 13250\tGradient mag. = 0.002337\n",
      "\tLearning epoch = 13500\tGradient mag. = 0.002321\n",
      "\tLearning epoch = 13750\tGradient mag. = 0.002306\n",
      "\tLearning epoch = 14000\tGradient mag. = 0.002290\n",
      "\tLearning epoch = 14250\tGradient mag. = 0.002275\n",
      "\tLearning epoch = 14500\tGradient mag. = 0.002260\n",
      "\tLearning epoch = 14750\tGradient mag. = 0.002244\n",
      "Final gradient magnitude for rate=0.01, mu=1e-06: 0.002\n",
      "CPU times: user 262 ms, sys: 46.3 ms, total: 308 ms\n",
      "Wall time: 310 ms\n"
     ]
    }
   ],
   "source": [
    "from snorkel.learning import NaiveBayes\n",
    "\n",
    "gen_model = NaiveBayes()\n",
    "gen_model.train(L_train, n_iter=15000, rate=1e-2)\n",
    "%time gen_model.save(session, 'Generative Params')\n",
    "train_marginals = gen_model.marginals(L_train)"
   ]
  },
  {
   "cell_type": "code",
   "execution_count": 24,
   "metadata": {
    "collapsed": false
   },
   "outputs": [
    {
     "name": "stdout",
     "output_type": "stream",
     "text": [
      "================================================================================\n",
      "Training marginals (!= 0.5):\t36230\n",
      "Features:\t\t\t22308\n",
      "================================================================================\n",
      "Using gradient descent...\n",
      "\tLearning epoch = 0\tStep size = 1e-05\n",
      "\tLoss = 25112.722352\tGradient magnitude = 31644.162686\n",
      "\tLearning epoch = 100\tStep size = 9.04792147114e-06\n",
      "\tLoss = 25536.777101\tGradient magnitude = 37795.212053\n",
      "\tLearning epoch = 200\tStep size = 8.18648829479e-06\n",
      "\tLoss = 24176.436402\tGradient magnitude = 24386.903786\n",
      "\tLearning epoch = 300\tStep size = 7.40707032156e-06\n",
      "\tLoss = 23217.243891\tGradient magnitude = 1160.220016\n",
      "\tLearning epoch = 400\tStep size = 6.70185906007e-06\n",
      "\tLoss = 23213.800496\tGradient magnitude = 38.598507\n",
      "\tLearning epoch = 500\tStep size = 6.06378944861e-06\n",
      "\tLoss = 23213.137075\tGradient magnitude = 33.338069\n",
      "\tLearning epoch = 600\tStep size = 5.48646907485e-06\n",
      "\tLoss = 23212.702822\tGradient magnitude = 29.994917\n",
      "\tLearning epoch = 700\tStep size = 4.96411413431e-06\n",
      "\tLoss = 23212.401955\tGradient magnitude = 27.726807\n",
      "\tLearning epoch = 800\tStep size = 4.4914914861e-06\n",
      "\tLoss = 23212.185419\tGradient magnitude = 26.235773\n",
      "\tLearning epoch = 900\tStep size = 4.06386622545e-06\n",
      "\tLoss = 23212.025272\tGradient magnitude = 25.257334\n",
      "\tLearning epoch = 1000\tStep size = 3.67695424771e-06\n",
      "\tLoss = 23211.904604\tGradient magnitude = 24.655385\n",
      "\tLearning epoch = 1100\tStep size = 3.32687932862e-06\n",
      "\tLoss = 23211.812668\tGradient magnitude = 24.414987\n",
      "\tLearning epoch = 1200\tStep size = 3.01013429093e-06\n",
      "\tLoss = 23211.742523\tGradient magnitude = 24.417981\n",
      "\tLearning epoch = 1300\tStep size = 2.72354586819e-06\n",
      "\tLoss = 23211.689117\tGradient magnitude = 24.576269\n",
      "\tLearning epoch = 1400\tStep size = 2.46424291385e-06\n",
      "\tLoss = 23211.648952\tGradient magnitude = 24.963448\n",
      "\tLearning epoch = 1500\tStep size = 2.22962763703e-06\n",
      "\tLoss = 23211.619144\tGradient magnitude = 25.398370\n",
      "\tLearning epoch = 1600\tStep size = 2.01734957697e-06\n",
      "\tLoss = 23211.598647\tGradient magnitude = 26.009527\n",
      "\tLearning epoch = 1700\tStep size = 1.82528205523e-06\n",
      "\tLoss = 23211.585988\tGradient magnitude = 26.772772\n",
      "\tLearning epoch = 1800\tStep size = 1.65150086984e-06\n",
      "\tLoss = 23211.580127\tGradient magnitude = 27.655161\n",
      "\tLearning epoch = 1900\tStep size = 1.49426501798e-06\n",
      "\tLoss = 23211.580057\tGradient magnitude = 28.714286\n",
      "CPU times: user 5.08 s, sys: 126 ms, total: 5.21 s\n",
      "Wall time: 4.93 s\n"
     ]
    }
   ],
   "source": [
    "from snorkel.learning import LogReg\n",
    "\n",
    "disc_model = LogReg()\n",
    "disc_model.train(F_train, train_marginals, n_iter=2000, rate=1e-5)\n",
    "%time disc_model.save(session, \"Discriminative Params\")"
   ]
  },
  {
   "cell_type": "code",
   "execution_count": 25,
   "metadata": {
    "collapsed": true
   },
   "outputs": [],
   "source": [
    "train_gold = session.query(CandidateSet).filter(\n",
    "    CandidateSet.name == 'Hardware Training Candidates -- Gold').one()"
   ]
  },
  {
   "cell_type": "code",
   "execution_count": 26,
   "metadata": {
    "collapsed": true
   },
   "outputs": [],
   "source": [
    "dev_gold = session.query(CandidateSet).filter(\n",
    "    CandidateSet.name == 'Hardware Development Candidates -- Gold').one()"
   ]
  },
  {
   "cell_type": "code",
   "execution_count": 27,
   "metadata": {
    "collapsed": false
   },
   "outputs": [],
   "source": [
    "from snorkel.models import CandidateSet\n",
    "from snorkel.annotations import LabelManager\n",
    "label_manager = LabelManager()\n",
    "L_dev = label_manager.load(session, dev, 'Hardware Development Labels -- Gold')"
   ]
  },
  {
   "cell_type": "code",
   "execution_count": 28,
   "metadata": {
    "collapsed": false
   },
   "outputs": [
    {
     "name": "stdout",
     "output_type": "stream",
     "text": [
      "Calibration plot:\n",
      "========================================\n",
      "Recall-corrected Noise-aware Model\n",
      "========================================\n",
      "Pos. class accuracy: 1.0\n",
      "Neg. class accuracy: 0.0\n",
      "Corpus Precision 0.446\n",
      "Corpus Recall    1.0\n",
      "Corpus F1        0.617\n",
      "----------------------------------------\n",
      "TP: 3003 | FP: 3732 | TN: 0 | FN: 0\n",
      "========================================\n",
      "\n",
      "========================================\n",
      "Recall-corrected Noise-aware Model\n",
      "========================================\n",
      "Pos. class accuracy: 1.0\n",
      "Neg. class accuracy: 0.0\n",
      "Corpus Precision 0.446\n",
      "Corpus Recall    1.0\n",
      "Corpus F1        0.617\n",
      "----------------------------------------\n",
      "TP: 3003 | FP: 3732 | TN: 0 | FN: 0\n",
      "========================================\n",
      "\n"
     ]
    },
    {
     "name": "stderr",
     "output_type": "stream",
     "text": [
      "/Users/bradenhancock/anaconda/lib/python2.7/site-packages/numpy/core/_methods.py:59: RuntimeWarning: Mean of empty slice.\n",
      "  warnings.warn(\"Mean of empty slice.\", RuntimeWarning)\n"
     ]
    }
   ],
   "source": [
    "tp, fp, tn, fn = disc_model.score(F_dev, L_dev, dev_gold)"
   ]
  },
  {
   "cell_type": "code",
   "execution_count": 29,
   "metadata": {
    "collapsed": false
   },
   "outputs": [
    {
     "name": "stdout",
     "output_type": "stream",
     "text": [
      "========================================\n",
      "Scoring on Entity-Level Gold Data\n",
      "========================================\n",
      "Corpus Precision 0.0\n",
      "Corpus Recall    nan\n",
      "Corpus F1        nan\n",
      "----------------------------------------\n",
      "TP: 0 | FP: 271 | FN: 0\n",
      "========================================\n",
      "\n"
     ]
    }
   ],
   "source": [
    "from snorkel.models import Corpus\n",
    "from hardware_utils import entity_level_f1\n",
    "import os\n",
    "\n",
    "gold_file = os.environ['SNORKELHOME'] + '/tutorials/tables/data/hardware/hardware_gold.csv'\n",
    "corpus = session.query(Corpus).filter(Corpus.name == 'Hardware Development').one()\n",
    "(TP, FP, FN) = entity_level_f1(tp, fp, tn, fn, gold_file, corpus, 'dissipation')"
   ]
  },
  {
   "cell_type": "code",
   "execution_count": 30,
   "metadata": {
    "collapsed": false
   },
   "outputs": [
    {
     "name": "stdout",
     "output_type": "stream",
     "text": [
      "[(u'BC546_DIOTEC', u'BC546', u'100'),\n",
      " (u'BC546_DIOTEC', u'BC546', u'200'),\n",
      " (u'BC546_DIOTEC', u'BC546', u'500'),\n",
      " (u'BC546_DIOTEC', u'BC546A', u'100'),\n",
      " (u'BC546_DIOTEC', u'BC546A', u'200'),\n",
      " (u'BC546_DIOTEC', u'BC546A', u'500'),\n",
      " (u'BC546_DIOTEC', u'BC546B', u'100'),\n",
      " (u'BC546_DIOTEC', u'BC546B', u'200'),\n",
      " (u'BC546_DIOTEC', u'BC546B', u'500'),\n",
      " (u'BC546_DIOTEC', u'BC547', u'100'),\n",
      " (u'BC546_DIOTEC', u'BC547', u'200'),\n",
      " (u'BC546_DIOTEC', u'BC547', u'500'),\n",
      " (u'BC546_DIOTEC', u'BC547A', u'100'),\n",
      " (u'BC546_DIOTEC', u'BC547A', u'200'),\n",
      " (u'BC546_DIOTEC', u'BC547A', u'500'),\n",
      " (u'BC546_DIOTEC', u'BC547B', u'100'),\n",
      " (u'BC546_DIOTEC', u'BC547B', u'200'),\n",
      " (u'BC546_DIOTEC', u'BC547B', u'500'),\n",
      " (u'BC546_DIOTEC', u'BC547C', u'100'),\n",
      " (u'BC546_DIOTEC', u'BC547C', u'200'),\n",
      " (u'BC546_DIOTEC', u'BC547C', u'500'),\n",
      " (u'BC546_DIOTEC', u'BC548', u'100'),\n",
      " (u'BC546_DIOTEC', u'BC548', u'200'),\n",
      " (u'BC546_DIOTEC', u'BC548', u'500'),\n",
      " (u'BC546_DIOTEC', u'BC548A', u'100'),\n",
      " (u'BC546_DIOTEC', u'BC548A', u'200'),\n",
      " (u'BC546_DIOTEC', u'BC548A', u'500'),\n",
      " (u'BC546_DIOTEC', u'BC548B', u'100'),\n",
      " (u'BC546_DIOTEC', u'BC548B', u'200'),\n",
      " (u'BC546_DIOTEC', u'BC548B', u'500'),\n",
      " (u'BC546_DIOTEC', u'BC548C', u'100'),\n",
      " (u'BC546_DIOTEC', u'BC548C', u'200'),\n",
      " (u'BC546_DIOTEC', u'BC548C', u'500'),\n",
      " (u'BC546_DIOTEC', u'BC549', u'100'),\n",
      " (u'BC546_DIOTEC', u'BC549', u'200'),\n",
      " (u'BC546_DIOTEC', u'BC549', u'500'),\n",
      " (u'BC546_DIOTEC', u'BC549B', u'100'),\n",
      " (u'BC546_DIOTEC', u'BC549B', u'200'),\n",
      " (u'BC546_DIOTEC', u'BC549B', u'500'),\n",
      " (u'BC546_DIOTEC', u'BC549C', u'100'),\n",
      " (u'BC546_DIOTEC', u'BC549C', u'200'),\n",
      " (u'BC546_DIOTEC', u'BC549C', u'500'),\n",
      " (u'BC550', u'BC546', u'500'),\n",
      " (u'BC550', u'BC546', u'550'),\n",
      " (u'BC550', u'BC546A', u'500'),\n",
      " (u'BC550', u'BC546A', u'550'),\n",
      " (u'BC550', u'BC546B', u'500'),\n",
      " (u'BC550', u'BC546B', u'550'),\n",
      " (u'BC550', u'BC546C', u'500'),\n",
      " (u'BC550', u'BC546C', u'550'),\n",
      " (u'BC550', u'BC547', u'500'),\n",
      " (u'BC550', u'BC547', u'550'),\n",
      " (u'BC550', u'BC547A', u'500'),\n",
      " (u'BC550', u'BC547A', u'550'),\n",
      " (u'BC550', u'BC547B', u'500'),\n",
      " (u'BC550', u'BC547B', u'550'),\n",
      " (u'BC550', u'BC547C', u'500'),\n",
      " (u'BC550', u'BC547C', u'550'),\n",
      " (u'BC550', u'BC548', u'500'),\n",
      " (u'BC550', u'BC548', u'550'),\n",
      " (u'BC550', u'BC548A', u'500'),\n",
      " (u'BC550', u'BC548A', u'550'),\n",
      " (u'BC550', u'BC548B', u'500'),\n",
      " (u'BC550', u'BC548B', u'550'),\n",
      " (u'BC550', u'BC548C', u'500'),\n",
      " (u'BC550', u'BC548C', u'550'),\n",
      " (u'BC550', u'BC549', u'500'),\n",
      " (u'BC550', u'BC549', u'550'),\n",
      " (u'BC550', u'BC549A', u'500'),\n",
      " (u'BC550', u'BC549A', u'550'),\n",
      " (u'BC550', u'BC549B', u'500'),\n",
      " (u'BC550', u'BC549B', u'550'),\n",
      " (u'BC550', u'BC549C', u'500'),\n",
      " (u'BC550', u'BC549C', u'550'),\n",
      " (u'BC550', u'BC550', u'500'),\n",
      " (u'BC550', u'BC550', u'550'),\n",
      " (u'BC550', u'BC550A', u'500'),\n",
      " (u'BC550', u'BC550A', u'550'),\n",
      " (u'BC550', u'BC550B', u'500'),\n",
      " (u'BC550', u'BC550B', u'550'),\n",
      " (u'BC550', u'BC550C', u'500'),\n",
      " (u'BC550', u'BC550C', u'550'),\n",
      " (u'BC818', u'BC817', u'310'),\n",
      " (u'BC818', u'BC817-16', u'310'),\n",
      " (u'BC818', u'BC817-25', u'310'),\n",
      " (u'BC818', u'BC817-40', u'310'),\n",
      " (u'BC818', u'BC81716MTF', u'310'),\n",
      " (u'BC818', u'BC81725MTF', u'310'),\n",
      " (u'BC818', u'BC81740MTF', u'310'),\n",
      " (u'BC818', u'BC818', u'310'),\n",
      " (u'BC818', u'BC818-16', u'310'),\n",
      " (u'BC818', u'BC818-25', u'310'),\n",
      " (u'BC818', u'BC818-40', u'310'),\n",
      " (u'BC818', u'BC81816MTF', u'310'),\n",
      " (u'BC818', u'BC81825MTF', u'310'),\n",
      " (u'BC818', u'BC81840MTF', u'310'),\n",
      " (u'CSEMS05382-1', u'BC546', u'250'),\n",
      " (u'CSEMS05382-1', u'BC546', u'500'),\n",
      " (u'CSEMS05382-1', u'BC546A', u'250'),\n",
      " (u'CSEMS05382-1', u'BC546A', u'500'),\n",
      " (u'CSEMS05382-1', u'BC546B', u'250'),\n",
      " (u'CSEMS05382-1', u'BC546B', u'500'),\n",
      " (u'CSEMS05382-1', u'BC547', u'250'),\n",
      " (u'CSEMS05382-1', u'BC547', u'500'),\n",
      " (u'CSEMS05382-1', u'BC547A', u'250'),\n",
      " (u'CSEMS05382-1', u'BC547A', u'500'),\n",
      " (u'CSEMS05382-1', u'BC547B', u'250'),\n",
      " (u'CSEMS05382-1', u'BC547B', u'500'),\n",
      " (u'CSEMS05382-1', u'BC547C', u'250'),\n",
      " (u'CSEMS05382-1', u'BC547C', u'500'),\n",
      " (u'CSEMS05382-1', u'BC548', u'250'),\n",
      " (u'CSEMS05382-1', u'BC548', u'500'),\n",
      " (u'CSEMS05382-1', u'BC548A', u'250'),\n",
      " (u'CSEMS05382-1', u'BC548A', u'500'),\n",
      " (u'CSEMS05382-1', u'BC548B', u'250'),\n",
      " (u'CSEMS05382-1', u'BC548B', u'500'),\n",
      " (u'CSEMS05382-1', u'BC548C', u'250'),\n",
      " (u'CSEMS05382-1', u'BC548C', u'500'),\n",
      " (u'DIODS00215-1', u'2N4124', u'625'),\n",
      " (u'DISES00189-1', u'BC546', u'100'),\n",
      " (u'DISES00189-1', u'BC546', u'200'),\n",
      " (u'DISES00189-1', u'BC546', u'500'),\n",
      " (u'DISES00189-1', u'BC546A', u'100'),\n",
      " (u'DISES00189-1', u'BC546A', u'200'),\n",
      " (u'DISES00189-1', u'BC546A', u'500'),\n",
      " (u'DISES00189-1', u'BC546B', u'100'),\n",
      " (u'DISES00189-1', u'BC546B', u'200'),\n",
      " (u'DISES00189-1', u'BC546B', u'500'),\n",
      " (u'DISES00189-1', u'BC547', u'100'),\n",
      " (u'DISES00189-1', u'BC547', u'200'),\n",
      " (u'DISES00189-1', u'BC547', u'500'),\n",
      " (u'DISES00189-1', u'BC547A', u'100'),\n",
      " (u'DISES00189-1', u'BC547A', u'200'),\n",
      " (u'DISES00189-1', u'BC547A', u'500'),\n",
      " (u'DISES00189-1', u'BC547B', u'100'),\n",
      " (u'DISES00189-1', u'BC547B', u'200'),\n",
      " (u'DISES00189-1', u'BC547B', u'500'),\n",
      " (u'DISES00189-1', u'BC547C', u'100'),\n",
      " (u'DISES00189-1', u'BC547C', u'200'),\n",
      " (u'DISES00189-1', u'BC547C', u'500'),\n",
      " (u'DISES00189-1', u'BC548', u'100'),\n",
      " (u'DISES00189-1', u'BC548', u'200'),\n",
      " (u'DISES00189-1', u'BC548', u'500'),\n",
      " (u'DISES00189-1', u'BC548A', u'100'),\n",
      " (u'DISES00189-1', u'BC548A', u'200'),\n",
      " (u'DISES00189-1', u'BC548A', u'500'),\n",
      " (u'DISES00189-1', u'BC548B', u'100'),\n",
      " (u'DISES00189-1', u'BC548B', u'200'),\n",
      " (u'DISES00189-1', u'BC548B', u'500'),\n",
      " (u'DISES00189-1', u'BC548C', u'100'),\n",
      " (u'DISES00189-1', u'BC548C', u'200'),\n",
      " (u'DISES00189-1', u'BC548C', u'500'),\n",
      " (u'DISES00189-1', u'BC549', u'100'),\n",
      " (u'DISES00189-1', u'BC549', u'200'),\n",
      " (u'DISES00189-1', u'BC549', u'500'),\n",
      " (u'DISES00189-1', u'BC549B', u'100'),\n",
      " (u'DISES00189-1', u'BC549B', u'200'),\n",
      " (u'DISES00189-1', u'BC549B', u'500'),\n",
      " (u'DISES00189-1', u'BC549C', u'100'),\n",
      " (u'DISES00189-1', u'BC549C', u'200'),\n",
      " (u'DISES00189-1', u'BC549C', u'500'),\n",
      " (u'DISES00192-1', u'BC807', u'200'),\n",
      " (u'DISES00192-1', u'BC807', u'310'),\n",
      " (u'DISES00192-1', u'BC807', u'800'),\n",
      " (u'DISES00192-1', u'BC807-16', u'200'),\n",
      " (u'DISES00192-1', u'BC807-16', u'310'),\n",
      " (u'DISES00192-1', u'BC807-16', u'800'),\n",
      " (u'DISES00192-1', u'BC807-25', u'200'),\n",
      " (u'DISES00192-1', u'BC807-25', u'310'),\n",
      " (u'DISES00192-1', u'BC807-25', u'800'),\n",
      " (u'DISES00192-1', u'BC807-40', u'200'),\n",
      " (u'DISES00192-1', u'BC807-40', u'310'),\n",
      " (u'DISES00192-1', u'BC807-40', u'800'),\n",
      " (u'DISES00192-1', u'BC808', u'200'),\n",
      " (u'DISES00192-1', u'BC808', u'310'),\n",
      " (u'DISES00192-1', u'BC808', u'800'),\n",
      " (u'DISES00192-1', u'BC808-16', u'200'),\n",
      " (u'DISES00192-1', u'BC808-16', u'310'),\n",
      " (u'DISES00192-1', u'BC808-16', u'800'),\n",
      " (u'DISES00192-1', u'BC808-25', u'200'),\n",
      " (u'DISES00192-1', u'BC808-25', u'310'),\n",
      " (u'DISES00192-1', u'BC808-25', u'800'),\n",
      " (u'DISES00192-1', u'BC808-40', u'200'),\n",
      " (u'DISES00192-1', u'BC808-40', u'310'),\n",
      " (u'DISES00192-1', u'BC808-40', u'800'),\n",
      " (u'INFNS19372-1', u'MMBT3904', u'115'),\n",
      " (u'INFNS19372-1', u'MMBT3904', u'250'),\n",
      " (u'INFNS19372-1', u'MMBT3904', u'330'),\n",
      " (u'INFNS19372-1', u'SMBT3904', u'115'),\n",
      " (u'INFNS19372-1', u'SMBT3904', u'250'),\n",
      " (u'INFNS19372-1', u'SMBT3904', u'330'),\n",
      " (u'INFNS19372-1', u'SMBT3904S', u'115'),\n",
      " (u'INFNS19372-1', u'SMBT3904S', u'250'),\n",
      " (u'INFNS19372-1', u'SMBT3904S', u'330'),\n",
      " (u'LITES00689-1', u'BC337', u'625'),\n",
      " (u'LITES00689-1', u'BC337-16', u'625'),\n",
      " (u'LITES00689-1', u'BC337-25', u'625'),\n",
      " (u'LITES00689-1', u'BC337-40', u'625'),\n",
      " (u'LITES00690-1', u'BC546', u'500'),\n",
      " (u'LITES00690-1', u'BC546A', u'500'),\n",
      " (u'LITES00690-1', u'BC546B', u'500'),\n",
      " (u'LITES00690-1', u'BC546C', u'500'),\n",
      " (u'LITES00690-1', u'BC547', u'500'),\n",
      " (u'LITES00690-1', u'BC547A', u'500'),\n",
      " (u'LITES00690-1', u'BC547B', u'500'),\n",
      " (u'LITES00690-1', u'BC547C', u'500'),\n",
      " (u'LITES00690-1', u'BC548', u'500'),\n",
      " (u'LITES00690-1', u'BC548A', u'500'),\n",
      " (u'LITES00690-1', u'BC548B', u'500'),\n",
      " (u'LITES00690-1', u'BC548C', u'500'),\n",
      " (u'LTSCS02910-1', u'BC818', u'300'),\n",
      " (u'LTSCS02910-1', u'BC818-16', u'300'),\n",
      " (u'LTSCS02910-1', u'BC818-25', u'300'),\n",
      " (u'LTSCS02910-1', u'BC818-40', u'300'),\n",
      " (u'MMBT3904', u'2N3904', u'125'),\n",
      " (u'MMBT3904', u'2N3904', u'350'),\n",
      " (u'MMBT3904', u'2N3904', u'625'),\n",
      " (u'MMBT3904', u'2N3904BU', u'125'),\n",
      " (u'MMBT3904', u'2N3904BU', u'350'),\n",
      " (u'MMBT3904', u'2N3904BU', u'625'),\n",
      " (u'MMBT3904', u'2N3904TA', u'125'),\n",
      " (u'MMBT3904', u'2N3904TA', u'350'),\n",
      " (u'MMBT3904', u'2N3904TA', u'625'),\n",
      " (u'MMBT3904', u'2N3904TAR', u'125'),\n",
      " (u'MMBT3904', u'2N3904TAR', u'350'),\n",
      " (u'MMBT3904', u'2N3904TAR', u'625'),\n",
      " (u'MMBT3904', u'2N3904TF', u'125'),\n",
      " (u'MMBT3904', u'2N3904TF', u'350'),\n",
      " (u'MMBT3904', u'2N3904TF', u'625'),\n",
      " (u'MMBT3904', u'2N3904TFR', u'125'),\n",
      " (u'MMBT3904', u'2N3904TFR', u'350'),\n",
      " (u'MMBT3904', u'2N3904TFR', u'625'),\n",
      " (u'MMBT3904', u'MMBT3904', u'125'),\n",
      " (u'MMBT3904', u'MMBT3904', u'350'),\n",
      " (u'MMBT3904', u'MMBT3904', u'625'),\n",
      " (u'MMBT3904', u'PZT3904', u'125'),\n",
      " (u'MMBT3904', u'PZT3904', u'350'),\n",
      " (u'MMBT3904', u'PZT3904', u'625'),\n",
      " (u'MOTOS03160-1', u'BC182', u'100'),\n",
      " (u'MOTOS03160-1', u'BC182', u'350'),\n",
      " (u'MOTOS03160-1', u'BC182A', u'100'),\n",
      " (u'MOTOS03160-1', u'BC182A', u'350'),\n",
      " (u'MOTOS03160-1', u'BC182B', u'100'),\n",
      " (u'MOTOS03160-1', u'BC182B', u'350'),\n",
      " (u'MOTOS03160-1', u'BC183', u'100'),\n",
      " (u'MOTOS03160-1', u'BC183', u'350'),\n",
      " (u'MOTOS03160-1', u'BC184', u'100'),\n",
      " (u'MOTOS03160-1', u'BC184', u'350'),\n",
      " (u'MOTOS03189-1', u'BC337', u'625'),\n",
      " (u'MOTOS03189-1', u'BC337', u'800'),\n",
      " (u'MOTOS03189-1', u'BC337-16', u'625'),\n",
      " (u'MOTOS03189-1', u'BC337-16', u'800'),\n",
      " (u'MOTOS03189-1', u'BC337-25', u'625'),\n",
      " (u'MOTOS03189-1', u'BC337-25', u'800'),\n",
      " (u'MOTOS03189-1', u'BC337-40', u'625'),\n",
      " (u'MOTOS03189-1', u'BC337-40', u'800'),\n",
      " (u'MOTOS03189-1', u'BC338', u'625'),\n",
      " (u'MOTOS03189-1', u'BC338', u'800'),\n",
      " (u'MOTOS03189-1', u'BC338-16', u'625'),\n",
      " (u'MOTOS03189-1', u'BC338-16', u'800'),\n",
      " (u'MOTOS03189-1', u'BC338-25', u'625'),\n",
      " (u'MOTOS03189-1', u'BC338-25', u'800'),\n",
      " (u'MOTOS03189-1', u'BC338-40', u'625'),\n",
      " (u'MOTOS03189-1', u'BC338-40', u'800'),\n",
      " (u'PNJIS01305-1', u'MMBT3904', u'225'),\n",
      " (u'SCSCS02324-1', u'MMBT3904', u'225'),\n",
      " (u'SCSCS02324-1', u'MMBT3904', u'300'),\n",
      " (u'SGSTS13734-1', u'BC337-25', u'625'),\n",
      " (u'SGSTS13734-1', u'BC337-25-AP', u'625'),\n",
      " (u'SGSTS13734-1', u'BC337-40', u'625'),\n",
      " (u'SGSTS13734-1', u'BC337-40-AP', u'625')]\n"
     ]
    }
   ],
   "source": [
    "from pprint import pprint\n",
    "FP_list = sorted(list(FP))\n",
    "pprint(FP_list)"
   ]
  },
  {
   "cell_type": "code",
   "execution_count": 31,
   "metadata": {
    "collapsed": false
   },
   "outputs": [
    {
     "name": "stdout",
     "output_type": "stream",
     "text": [
      "(u'BC546_DIOTEC', u'BC546', u'100')\n",
      "\n"
     ]
    },
    {
     "ename": "IndexError",
     "evalue": "list index out of range",
     "output_type": "error",
     "traceback": [
      "\u001b[0;31m---------------------------------------------------------------------------\u001b[0m",
      "\u001b[0;31mIndexError\u001b[0m                                Traceback (most recent call last)",
      "\u001b[0;32m<ipython-input-31-0c46131128dc>\u001b[0m in \u001b[0;36m<module>\u001b[0;34m()\u001b[0m\n\u001b[1;32m      8\u001b[0m     \u001b[0mmatches\u001b[0m \u001b[0;34m=\u001b[0m \u001b[0mentity_to_candidates\u001b[0m\u001b[0;34m(\u001b[0m\u001b[0mentity\u001b[0m\u001b[0;34m,\u001b[0m \u001b[0mfp\u001b[0m\u001b[0;34m)\u001b[0m\u001b[0;34m\u001b[0m\u001b[0m\n\u001b[1;32m      9\u001b[0m     \u001b[0;31m# print \"# Matches: %d\" % len(matches)\u001b[0m\u001b[0;34m\u001b[0m\u001b[0;34m\u001b[0m\u001b[0m\n\u001b[0;32m---> 10\u001b[0;31m     \u001b[0mcandidate\u001b[0m \u001b[0;34m=\u001b[0m \u001b[0mmatches\u001b[0m\u001b[0;34m[\u001b[0m\u001b[0;36m0\u001b[0m\u001b[0;34m]\u001b[0m\u001b[0;34m\u001b[0m\u001b[0m\n\u001b[0m\u001b[1;32m     11\u001b[0m     \u001b[0;31m# print candidate\u001b[0m\u001b[0;34m\u001b[0m\u001b[0;34m\u001b[0m\u001b[0m\n\u001b[1;32m     12\u001b[0m     \u001b[0;32mprint\u001b[0m\u001b[0;34m\u001b[0m\u001b[0m\n",
      "\u001b[0;31mIndexError\u001b[0m: list index out of range"
     ]
    }
   ],
   "source": [
    "from hardware_utils import entity_to_candidates\n",
    "\n",
    "for i in range(1):\n",
    "    entity = FP_list[i]\n",
    "    print entity\n",
    "    print\n",
    "\n",
    "    matches = entity_to_candidates(entity, fp)\n",
    "    # print \"# Matches: %d\" % len(matches)\n",
    "    candidate = matches[0]\n",
    "    # print candidate\n",
    "    print\n",
    "\n",
    "    print disc_model.get_candidate_score(candidate, F_dev)\n",
    "    print\n",
    "    pprint(disc_model.get_candidate_feature_weights(candidate, F_dev))"
   ]
  },
  {
   "cell_type": "code",
   "execution_count": null,
   "metadata": {
    "collapsed": false
   },
   "outputs": [],
   "source": [
    "for ngram in candidate.part.get_attrib_tokens():\n",
    "    print \"CONTAINS_%s_[%s]\" % ('words'.upper(), ngram)"
   ]
  },
  {
   "cell_type": "code",
   "execution_count": null,
   "metadata": {
    "collapsed": false
   },
   "outputs": [],
   "source": [
    "from hardware_utils import part_error_analysis\n",
    "part_error_analysis(candidate)"
   ]
  },
  {
   "cell_type": "code",
   "execution_count": null,
   "metadata": {
    "collapsed": true
   },
   "outputs": [],
   "source": [
    "import os\n",
    "os.system('cp snorkel.db snorkel.db\\ final');"
   ]
  },
  {
   "cell_type": "markdown",
   "metadata": {
    "collapsed": true
   },
   "source": [
    "The End."
   ]
  }
 ],
 "metadata": {
  "anaconda-cloud": {},
  "kernelspec": {
   "display_name": "Python [default]",
   "language": "python",
   "name": "python2"
  },
  "language_info": {
   "codemirror_mode": {
    "name": "ipython",
    "version": 2
   },
   "file_extension": ".py",
   "mimetype": "text/x-python",
   "name": "python",
   "nbconvert_exporter": "python",
   "pygments_lexer": "ipython2",
   "version": "2.7.10"
  }
 },
 "nbformat": 4,
 "nbformat_minor": 1
}
