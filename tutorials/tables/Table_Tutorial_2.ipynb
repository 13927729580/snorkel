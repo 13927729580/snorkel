{
 "cells": [
  {
   "cell_type": "markdown",
   "metadata": {},
   "source": [
    "## Part II: `Candidate` Extraction"
   ]
  },
  {
   "cell_type": "code",
   "execution_count": 1,
   "metadata": {
    "collapsed": true
   },
   "outputs": [],
   "source": [
    "# If necessary:\n",
    "import os\n",
    "os.remove('snorkel.db');\n",
    "os.system('cp snorkel.db\\ corpus snorkel.db');"
   ]
  },
  {
   "cell_type": "code",
   "execution_count": 2,
   "metadata": {
    "collapsed": false
   },
   "outputs": [],
   "source": [
    "%load_ext autoreload\n",
    "%autoreload 2\n",
    "\n",
    "from snorkel import SnorkelSession\n",
    "session = SnorkelSession()"
   ]
  },
  {
   "cell_type": "markdown",
   "metadata": {},
   "source": [
    "## Loading the `Corpus`\n",
    "\n",
    "First, we will load the `Corpus` that we preprocessed in Part I:"
   ]
  },
  {
   "cell_type": "code",
   "execution_count": 3,
   "metadata": {
    "collapsed": false
   },
   "outputs": [
    {
     "name": "stdout",
     "output_type": "stream",
     "text": [
      "Corpus (Hardware) contains 100 Documents\n"
     ]
    }
   ],
   "source": [
    "from snorkel.models import Corpus\n",
    "\n",
    "corpus = session.query(Corpus).filter(Corpus.name == 'Hardware').one()\n",
    "print \"%s contains %d Documents\" % (corpus, len(corpus))"
   ]
  },
  {
   "cell_type": "markdown",
   "metadata": {},
   "source": [
    "## Defining a `Candidate` Schema"
   ]
  },
  {
   "cell_type": "code",
   "execution_count": 4,
   "metadata": {
    "collapsed": false
   },
   "outputs": [],
   "source": [
    "from snorkel.models import candidate_subclass\n",
    "\n",
    "Part_Temp = candidate_subclass('Part_Temp', ['part','temp'])\n",
    "# Part = candidate_subclass('Part', ['part'])"
   ]
  },
  {
   "cell_type": "markdown",
   "metadata": {},
   "source": [
    "## Writing a basic `CandidateExtractor`"
   ]
  },
  {
   "cell_type": "code",
   "execution_count": 5,
   "metadata": {
    "collapsed": false
   },
   "outputs": [],
   "source": [
    "# from snorkel.candidates import OmniNgrams\n",
    "from hardware_utils import OmniNgramsPart, OmniNgramsTemp\n",
    "\n",
    "part_ngrams = OmniNgramsPart(n_max=3, split_tokens=None)\n",
    "temp_ngrams = OmniNgramsTemp(n_max=3, split_tokens=None)"
   ]
  },
  {
   "cell_type": "code",
   "execution_count": 6,
   "metadata": {
    "collapsed": false
   },
   "outputs": [
    {
     "name": "stdout",
     "output_type": "stream",
     "text": [
      "Loaded 1286 part numbers.\n"
     ]
    }
   ],
   "source": [
    "from hardware_utils import load_extended_parts_dict\n",
    "\n",
    "filename='data/hardware/hardware_gold.csv'\n",
    "parts_dict = load_extended_parts_dict(filename)\n",
    "print \"Loaded %d part numbers.\" % len(parts_dict)"
   ]
  },
  {
   "cell_type": "code",
   "execution_count": 7,
   "metadata": {
    "collapsed": false
   },
   "outputs": [],
   "source": [
    "from snorkel.matchers import DictionaryMatch, RegexMatchSpan\n",
    "\n",
    "parts_matcher = DictionaryMatch(d=parts_dict, ignore_case=True)\n",
    "temp_matcher = RegexMatchSpan(rgx=r'-[5-7][05]')"
   ]
  },
  {
   "cell_type": "code",
   "execution_count": 8,
   "metadata": {
    "collapsed": false
   },
   "outputs": [],
   "source": [
    "from snorkel.candidates import CandidateExtractor\n",
    "\n",
    "ce = CandidateExtractor(Part_Temp, [part_ngrams, temp_ngrams], [parts_matcher, temp_matcher])\n",
    "# ce = CandidateExtractor(Part, [hardware_ngrams], [parts_matcher])"
   ]
  },
  {
   "cell_type": "markdown",
   "metadata": {},
   "source": [
    "## Running the `CandidateExtractor`"
   ]
  },
  {
   "cell_type": "code",
   "execution_count": 9,
   "metadata": {
    "collapsed": false,
    "scrolled": false
   },
   "outputs": [
    {
     "name": "stdout",
     "output_type": "stream",
     "text": [
      "[========================================] 100%\n",
      "\n",
      "CPU times: user 1min 11s, sys: 1.67 s, total: 1min 13s\n",
      "Wall time: 1min 14s\n",
      "Candidate Set (Hardware Candidates) contains 12617 Candidates\n"
     ]
    }
   ],
   "source": [
    "%time candidates = ce.extract(corpus.documents, 'Hardware Candidates', session)\n",
    "print \"%s contains %d Candidates\" % (candidates, len(candidates))"
   ]
  },
  {
   "cell_type": "code",
   "execution_count": 10,
   "metadata": {
    "collapsed": false
   },
   "outputs": [
    {
     "name": "stdout",
     "output_type": "stream",
     "text": [
      "Part_Temp(Span(\"BC846W\", parent=34437, chars=[115,120], words=[3,3]), ImplicitSpan(\"-55\", parent=90183, words=[0,0], position=[0]))\n",
      "Part_Temp(Span(\"BC846AW\", parent=90266, chars=[0,6], words=[0,0]), ImplicitSpan(\"-55\", parent=90183, words=[0,0], position=[0]))\n",
      "Part_Temp(Span(\"BC846BW\", parent=90269, chars=[0,6], words=[0,0]), ImplicitSpan(\"-55\", parent=90183, words=[0,0], position=[0]))\n",
      "Part_Temp(Span(\"BC846W\", parent=3123, chars=[0,5], words=[0,0]), ImplicitSpan(\"-55\", parent=90183, words=[0,0], position=[0]))\n",
      "Part_Temp(Span(\"BC807\", parent=1920, chars=[0,4], words=[0,0]), ImplicitSpan(\"-55\", parent=87050, words=[0,0], position=[0]))\n"
     ]
    }
   ],
   "source": [
    "for c in candidates[:5]:\n",
    "    print c"
   ]
  },
  {
   "cell_type": "markdown",
   "metadata": {},
   "source": [
    "### Saving the extracted candidates"
   ]
  },
  {
   "cell_type": "code",
   "execution_count": 11,
   "metadata": {
    "collapsed": true
   },
   "outputs": [],
   "source": [
    "session.add(candidates)\n",
    "session.commit()"
   ]
  },
  {
   "cell_type": "markdown",
   "metadata": {},
   "source": [
    "### Reloading the candidates"
   ]
  },
  {
   "cell_type": "code",
   "execution_count": 12,
   "metadata": {
    "collapsed": false
   },
   "outputs": [
    {
     "name": "stdout",
     "output_type": "stream",
     "text": [
      "Candidate Set (Hardware Candidates) contains 12617 Candidates\n"
     ]
    }
   ],
   "source": [
    "from snorkel.models import CandidateSet\n",
    "\n",
    "candidates = session.query(CandidateSet).filter(\n",
    "    CandidateSet.name == 'Hardware Candidates').one()\n",
    "print \"%s contains %d Candidates\" % (candidates, len(candidates))"
   ]
  },
  {
   "cell_type": "markdown",
   "metadata": {},
   "source": [
    "### Repeating for development and test corpora"
   ]
  },
  {
   "cell_type": "code",
   "execution_count": 13,
   "metadata": {
    "collapsed": false
   },
   "outputs": [],
   "source": [
    "# for corpus_name in ['Hardware Development', 'Hardware Test']:\n",
    "#     corpus = session.query(Corpus).filter(Corpus.name == corpus_name).one()\n",
    "#     %time candidates = ce.extract(corpus.documents, corpus_name + ' Candidates', session)\n",
    "#     session.add(c)\n",
    "#     print \"%s contains %d Candidates\" % (candidates, len(candidates))\n",
    "# session.commit()"
   ]
  },
  {
   "cell_type": "markdown",
   "metadata": {},
   "source": [
    "## TEMPORARY - Assessing Total Recall"
   ]
  },
  {
   "cell_type": "code",
   "execution_count": 14,
   "metadata": {
    "collapsed": false
   },
   "outputs": [],
   "source": [
    "# TEMP\n",
    "# from hardware_utils import entity_level_total_recall\n",
    "# from snorkel.utils import get_ORM_instance\n",
    "\n",
    "# candidates = get_ORM_instance(CandidateSet, session, 'Hardware Candidates')\n",
    "# train = session.query(CandidateSet).filter(\n",
    "#     CandidateSet.name == 'Hardware Training Candidates').one()\n",
    "# dev = session.query(CandidateSet).filter(\n",
    "#     CandidateSet.name == 'Hardware Development Candidates').one()\n",
    "# total_set = set([])\n",
    "# for c in train:\n",
    "#     total_set.add(c)\n",
    "# for c in dev:\n",
    "#     total_set.add(c)"
   ]
  },
  {
   "cell_type": "code",
   "execution_count": 15,
   "metadata": {
    "collapsed": false
   },
   "outputs": [
    {
     "name": "stdout",
     "output_type": "stream",
     "text": [
      "Preparing gold set...\n",
      "Preparing candidates...\n",
      "[========================================] 100%\n",
      "\n",
      "========================================\n",
      "Scoring on Entity-Level Total Recall\n",
      "========================================\n",
      "Entity-level Candidates extracted: 1041 \n",
      "Entity-level Gold: 542\n",
      "Intersection Candidates: 425\n",
      "----------------------------------------\n",
      "Overlap with Gold:  0.78\n",
      "========================================\n",
      "\n"
     ]
    }
   ],
   "source": [
    "import os\n",
    "gold_file = os.environ['SNORKELHOME'] + '/tutorials/tables/data/hardware/hardware_gold.csv'\n",
    "(tp, fp, fn) = entity_level_total_recall(candidates, gold_file, relation=True)"
   ]
  },
  {
   "cell_type": "code",
   "execution_count": 16,
   "metadata": {
    "collapsed": false,
    "scrolled": true
   },
   "outputs": [
    {
     "name": "stdout",
     "output_type": "stream",
     "text": [
      "('BC546', 'BC548A', '-65')\n",
      "('BC547', 'BC548A', '-65')\n",
      "('BC547', 'BC549A', '-65')\n",
      "('BC547', 'BC550A', '-65')\n",
      "('BC547', 'BC550B', '-65')\n",
      "('BC550', 'BC546A', '-65')\n",
      "('BC550', 'BC546B', '-65')\n",
      "('BC550', 'BC546C', '-65')\n",
      "('BC550', 'BC547A', '-65')\n",
      "('BC550', 'BC547B', '-65')\n",
      "('BC550', 'BC547C', '-65')\n",
      "('BC550', 'BC548A', '-65')\n",
      "('BC550', 'BC548B', '-65')\n",
      "('BC550', 'BC548C', '-65')\n",
      "('BC550', 'BC549A', '-65')\n",
      "('BC550', 'BC549B', '-65')\n",
      "('BC550', 'BC549C', '-65')\n",
      "('BC818', 'BC817-16', '-65')\n",
      "('BC818', 'BC817-25', '-65')\n",
      "('BC818', 'BC817-40', '-65')\n",
      "('BC818', 'BC818-16', '-65')\n",
      "('BC818', 'BC818-25', '-65')\n",
      "('BC818', 'BC818-40', '-65')\n",
      "('CSEMS05382-1', 'BC546A', '-65')\n",
      "('FAIRS19194-1', 'BC856A', '-65')\n",
      "('FAIRS19194-1', 'BC856B', '-65')\n",
      "('FAIRS19194-1', 'BC856C', '-65')\n",
      "('FAIRS19194-1', 'BC857A', '-65')\n",
      "('FAIRS19194-1', 'BC857B', '-65')\n",
      "('FAIRS19194-1', 'BC857C', '-65')\n",
      "('FAIRS19194-1', 'BC858A', '-65')\n",
      "('FAIRS19194-1', 'BC858B', '-65')\n",
      "('FAIRS19194-1', 'BC858C', '-65')\n",
      "('FAIRS19194-1', 'BC859A', '-65')\n",
      "('FAIRS19194-1', 'BC859B', '-65')\n",
      "('FAIRS19194-1', 'BC859C', '-65')\n",
      "('FAIRS19194-1', 'BC860A', '-65')\n",
      "('FAIRS19194-1', 'BC860B', '-65')\n",
      "('FAIRS19194-1', 'BC860C', '-65')\n",
      "('FAIRS25065-1', 'BC237C', '-55')\n",
      "('FAIRS25065-1', 'BC238A', '-55')\n",
      "('FAIRS25065-1', 'BC238B', '-55')\n",
      "('FAIRS25065-1', 'BC238C', '-55')\n",
      "('FAIRS25065-1', 'BC239A', '-55')\n",
      "('FAIRS25065-1', 'BC239B', '-55')\n",
      "('FAIRS25065-1', 'BC239C', '-55')\n",
      "('KECCS05435-1', 'BC546A', '-55')\n",
      "('KECCS05435-1', 'BC546B', '-55')\n",
      "('KECCS05435-1', 'BC547A', '-55')\n",
      "('KECCS05435-1', 'BC547B', '-55')\n",
      "('KECCS05435-1', 'BC547C', '-55')\n",
      "('KECCS05435-1', 'BC548A', '-55')\n",
      "('KECCS05435-1', 'BC548B', '-55')\n",
      "('KECCS05435-1', 'BC548C', '-55')\n",
      "('LITES00689-1', 'BC337-16', '-55')\n",
      "('LITES00689-1', 'BC337-25', '-55')\n",
      "('LITES00689-1', 'BC337-40', '-55')\n",
      "('LITES00690-1', 'BC546A', '-65')\n",
      "('LITES00690-1', 'BC546B', '-65')\n",
      "('LITES00690-1', 'BC546C', '-65')\n",
      "('LITES00690-1', 'BC547A', '-65')\n",
      "('LITES00690-1', 'BC547B', '-65')\n",
      "('LITES00690-1', 'BC547C', '-65')\n",
      "('LITES00690-1', 'BC548A', '-65')\n",
      "('LITES00690-1', 'BC548B', '-65')\n",
      "('LITES00690-1', 'BC548C', '-65')\n",
      "('PJECS00521-1', 'MMBT3904', '-55')\n",
      "('SAMSD00049-518', 'BC546A', '-65')\n",
      "('SAMSD00049-518', 'BC546B', '-65')\n",
      "('SAMSD00049-518', 'BC546C', '-65')\n",
      "('SAMSD00049-518', 'BC547A', '-65')\n",
      "('SAMSD00049-518', 'BC547B', '-65')\n",
      "('SAMSD00049-518', 'BC547C', '-65')\n",
      "('SAMSD00049-518', 'BC548A', '-65')\n",
      "('SAMSD00049-518', 'BC548B', '-65')\n",
      "('SAMSD00049-518', 'BC548C', '-65')\n",
      "('SAMSD00049-518', 'BC549A', '-65')\n",
      "('SAMSD00049-518', 'BC549B', '-65')\n",
      "('SAMSD00049-518', 'BC549C', '-65')\n",
      "('SAMSD00049-518', 'BC550A', '-65')\n",
      "('SAMSD00049-518', 'BC550B', '-65')\n",
      "('SAMSD00049-518', 'BC550C', '-65')\n",
      "('SIEMS01215-1', 'BC856A', '-65')\n",
      "('SIEMS01215-1', 'BC856B', '-65')\n",
      "('SIEMS01215-1', 'BC857A', '-65')\n",
      "('SIEMS01215-1', 'BC857B', '-65')\n",
      "('SIEMS01215-1', 'BC857C', '-65')\n",
      "('SIEMS01215-1', 'BC858A', '-65')\n",
      "('SIEMS01215-1', 'BC858B', '-65')\n",
      "('SIEMS01215-1', 'BC858C', '-65')\n",
      "('SIEMS01215-1', 'BC859A', '-65')\n",
      "('SIEMS01215-1', 'BC859B', '-65')\n",
      "('SIEMS01215-1', 'BC859C', '-65')\n",
      "('SIEMS01215-1', 'BC860B', '-65')\n",
      "('SIEMS01215-1', 'BC860C', '-65')\n",
      "('UTCLS02155-1', 'BC807-16', '-65')\n",
      "('UTCLS02155-1', 'BC807-25', '-65')\n",
      "('UTCLS02155-1', 'BC807-40', '-65')\n",
      "('UTCLS02155-1', 'BC808-16', '-65')\n",
      "('UTCLS02155-1', 'BC808-25', '-65')\n",
      "('UTCLS02155-1', 'BC808-40', '-65')\n",
      "('VISHS23888-1', 'BC546A', '-65')\n",
      "('VISHS23888-1', 'BC546B', '-65')\n",
      "('VISHS23888-1', 'BC547A', '-65')\n",
      "('VISHS23888-1', 'BC547B', '-65')\n",
      "('VISHS23888-1', 'BC547C', '-65')\n",
      "('VISHS23888-1', 'BC548A', '-65')\n",
      "('VISHS23888-1', 'BC548B', '-65')\n",
      "('VISHS23888-1', 'BC548C', '-65')\n",
      "('VISHS23888-1', 'BC549B', '-65')\n",
      "('VISHS23888-1', 'BC549C', '-65')\n",
      "('VSMIS00373-1', 'BC337-16', '-65')\n",
      "('VSMIS00373-1', 'BC337-25', '-65')\n",
      "('VSMIS00373-1', 'BC337-40', '-65')\n",
      "('VSMIS00373-1', 'BC338-16', '-65')\n",
      "('VSMIS00373-1', 'BC338-25', '-65')\n",
      "('VSMIS00373-1', 'BC338-40', '-65')\n"
     ]
    }
   ],
   "source": [
    "# from snorkel.utils import ProgressBar\n",
    "# target = sorted(list(fn))[-1]\n",
    "# print target\n",
    "# print \"-------------------------------\"\n",
    "# pb = ProgressBar(len(candidates))\n",
    "# for i, c in enumerate(list(candidates)[:]):\n",
    "#     pb.bar(i)\n",
    "#     if (c.part.parent.document.name.upper() == target[0].upper())\n",
    "#         and c.part.get_span().upper() == target[1].upper()):\n",
    "#         print c\n",
    "# pb.close()\n",
    "# print \"-------------------------------\"\n",
    "for c in sorted(list(fn))[:]:\n",
    "    print c"
   ]
  },
  {
   "cell_type": "code",
   "execution_count": 17,
   "metadata": {
    "collapsed": false
   },
   "outputs": [],
   "source": [
    "# corpus = session.query(Corpus).filter(Corpus.name == 'Hardware').one()\n",
    "\n",
    "# for doc in corpus.documents:\n",
    "#     if doc.name == 'PNJIS00254-1':\n",
    "#         d = doc\n",
    "#         break\n",
    "# print d"
   ]
  },
  {
   "cell_type": "code",
   "execution_count": 18,
   "metadata": {
    "collapsed": false
   },
   "outputs": [],
   "source": [
    "# for phrase in d.phrases:\n",
    "#     if '55' in phrase.words:\n",
    "#         p = phrase\n",
    "#         print p.cell\n",
    "#         import pdb; pdb.set_trace()"
   ]
  },
  {
   "cell_type": "code",
   "execution_count": 19,
   "metadata": {
    "collapsed": false
   },
   "outputs": [],
   "source": [
    "# candies = sorted(candidates, key=lambda x: x[0])"
   ]
  },
  {
   "cell_type": "code",
   "execution_count": 20,
   "metadata": {
    "collapsed": false
   },
   "outputs": [],
   "source": [
    "# from hardware_utils import count_hardware_labels\n",
    "\n",
    "# filename = os.environ['SNORKELHOME'] + '/tutorials/tables/data/hardware/hardware_gold.csv'\n",
    "# %time count_hardware_labels(candidates, filename, attrib='stg_temp_min', attrib_class='temp')"
   ]
  },
  {
   "cell_type": "markdown",
   "metadata": {},
   "source": [
    "## TEMPORARY - Return to Normalcy"
   ]
  },
  {
   "cell_type": "code",
   "execution_count": 21,
   "metadata": {
    "collapsed": true
   },
   "outputs": [],
   "source": [
    "# If necessary\n",
    "import os\n",
    "os.system('cp snorkel.db snorkel.db\\ candidates');"
   ]
  },
  {
   "cell_type": "markdown",
   "metadata": {},
   "source": [
    "Next, in Part 3, we will load `Labels` for each of our `Candidates` so that we can evaluate performance."
   ]
  }
 ],
 "metadata": {
  "anaconda-cloud": {},
  "kernelspec": {
   "display_name": "Python [default]",
   "language": "python",
   "name": "python2"
  },
  "language_info": {
   "codemirror_mode": {
    "name": "ipython",
    "version": 2
   },
   "file_extension": ".py",
   "mimetype": "text/x-python",
   "name": "python",
   "nbconvert_exporter": "python",
   "pygments_lexer": "ipython2",
   "version": "2.7.12"
  }
 },
 "nbformat": 4,
 "nbformat_minor": 0
}
