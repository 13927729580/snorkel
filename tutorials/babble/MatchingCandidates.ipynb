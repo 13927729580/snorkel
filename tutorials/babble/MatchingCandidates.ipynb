{
 "cells": [
  {
   "cell_type": "markdown",
   "metadata": {},
   "source": [
    "The purpose of this notebook is to find candidates for explanations that do not have a candidate for consistency checking. For each explanation missing a candidate, loop through the candidates until you find one that matches. Confirm that the parse of the function is the right one, then move on."
   ]
  },
  {
   "cell_type": "code",
   "execution_count": 1,
   "metadata": {
    "collapsed": true
   },
   "outputs": [],
   "source": [
    "%load_ext autoreload\n",
    "%autoreload 2"
   ]
  },
  {
   "cell_type": "code",
   "execution_count": 2,
   "metadata": {
    "collapsed": true
   },
   "outputs": [],
   "source": [
    "config = {\n",
    "    'domain': 'spouse',\n",
    "    'debug': False,\n",
    "    'postgres': False,\n",
    "}"
   ]
  },
  {
   "cell_type": "code",
   "execution_count": 3,
   "metadata": {
    "collapsed": false
   },
   "outputs": [
    {
     "name": "stdout",
     "output_type": "stream",
     "text": [
      "$SNORKELDB = sqlite:///babble_cdr.db\n"
     ]
    }
   ],
   "source": [
    "# Get DB connection string and add to globals\n",
    "# NOTE: $SNORKELDB must be set before any snorkel imports\n",
    "import os\n",
    "\n",
    "default_db_name = 'babble_' + config['domain'] + ('_debug' if config.get('debug', False) else '')\n",
    "DB_NAME = config.get('db_name', default_db_name)\n",
    "if 'postgres' in config and config['postgres']:\n",
    "    DB_TYPE = 'postgres'\n",
    "else:\n",
    "    DB_TYPE = 'sqlite'\n",
    "    DB_NAME += '.db'\n",
    "DB_ADDR = \"localhost:{0}\".format(config['db_port']) if 'db_port' in config else \"\"\n",
    "os.environ['SNORKELDB'] = '{0}://{1}/{2}'.format(DB_TYPE, DB_ADDR, DB_NAME)\n",
    "print(\"$SNORKELDB = {0}\".format(os.environ['SNORKELDB']))"
   ]
  },
  {
   "cell_type": "code",
   "execution_count": 4,
   "metadata": {
    "collapsed": false
   },
   "outputs": [
    {
     "name": "stdout",
     "output_type": "stream",
     "text": [
      "Overwriting epochs=[25, 50, 75] to epochs=[10, 25, 50, 100]\n",
      "Overwriting reg_param=[0.0, 0.01, 0.1, 0.25, 0.5] to reg_param=[0.0, 0.01, 0.1, 0.25, 0.5, 0.75]\n",
      "Overwriting domain=None to domain=cdr\n",
      "Overwriting print_freq=1 to print_freq=5\n",
      "Overwriting init_class_prior=0 to init_class_prior=-0.695\n",
      "Overwriting LF_acc_prior_weight_default=1.0 to LF_acc_prior_weight_default=0.5\n",
      "Overwriting disc_model_class=lstm to disc_model_class=logreg\n"
     ]
    }
   ],
   "source": [
    "from snorkel import SnorkelSession\n",
    "session = SnorkelSession()\n",
    "\n",
    "# Resolve config conflicts (nb_config > local_config > global_config)\n",
    "from snorkel.contrib.babble.pipelines import merge_configs, get_local_pipeline\n",
    "config = merge_configs(config)\n",
    "\n",
    "from snorkel.models import candidate_subclass\n",
    "candidate_class = candidate_subclass(config['candidate_name'], config['candidate_entities'])\n",
    "\n",
    "pipeline = get_local_pipeline(config['domain'])\n",
    "pipe = pipeline(session, candidate_class, config)"
   ]
  },
  {
   "cell_type": "code",
   "execution_count": 5,
   "metadata": {
    "collapsed": false
   },
   "outputs": [],
   "source": [
    "candidates = session.query(pipe.candidate_class).all()"
   ]
  },
  {
   "cell_type": "code",
   "execution_count": 6,
   "metadata": {
    "collapsed": false
   },
   "outputs": [
    {
     "name": "stdout",
     "output_type": "stream",
     "text": [
      "Loading canonical ID ontologies...\n",
      "Finished loading canonical ID ontologies.\n"
     ]
    }
   ],
   "source": [
    "from tutorials.babble.cdr.cdr_examples import get_explanations, get_user_lists\n",
    "\n",
    "explanations = get_explanations()\n",
    "user_lists = get_user_lists()"
   ]
  },
  {
   "cell_type": "code",
   "execution_count": 7,
   "metadata": {
    "collapsed": false
   },
   "outputs": [
    {
     "name": "stdout",
     "output_type": "stream",
     "text": [
      "Building list of target candidate ids...\n",
      "Collected 28 unique target candidate ids from 30 explanations.\n",
      "Gathering desired candidates...\n",
      "Could not find 6 target candidates with the following stable_ids (first 5):\n",
      "19721134::span:1078:1084~~19721134::span:1017:1026\n",
      "14698717::span:322:330~~14698717::span:302:310\n",
      "17574447::span:110:122~~17574447::span:311:323\n",
      "10728962::span:32:40~~10728962::span:50:60\n",
      "11999899::span:962:970~~11999899::span:1112:1121\n",
      "Found 22/28 desired candidates\n",
      "Linking explanations to candidates...\n",
      "Linked 22/30 explanations\n"
     ]
    }
   ],
   "source": [
    "from snorkel.contrib.babble.utils import link_explanation_candidates\n",
    "explanations = link_explanation_candidates(explanations, candidates)"
   ]
  },
  {
   "cell_type": "code",
   "execution_count": 8,
   "metadata": {
    "collapsed": false
   },
   "outputs": [
    {
     "name": "stdout",
     "output_type": "stream",
     "text": [
      "Flushing all parses from previous explanation set.\n",
      "Created grammar with 593 rules\n",
      "30 explanation(s) out of 30 were parseable.\n",
      "106 parse(s) generated from 30 explanation(s).\n",
      "82 parse(s) remain (24 parse(s) removed by DuplicateSemanticsFilter).\n",
      "Note: 23 LFs did not have candidates and therefore could not be filtered.\n",
      "57 parse(s) remain (25 parse(s) removed by ConsistencyFilter).\n",
      "### Applying labeling functions to split 1\n",
      "[========================================] 100%\n",
      "\n",
      "### Done in 4.6s.\n",
      "\n",
      "44 parse(s) remain (13 parse(s) removed by UniformSignatureFilter: (13 None, 0 All)).\n",
      "31 parse(s) remain (13 parse(s) removed by DuplicateSignatureFilter).\n",
      "Added 31 parse(s) from 27 explanations to set. (Total # parses = 31)\n"
     ]
    }
   ],
   "source": [
    "from snorkel.contrib.babble import Babbler\n",
    "\n",
    "babbler = Babbler(session,\n",
    "                  mode='text', \n",
    "                  candidate_class=pipe.candidate_class, \n",
    "                  user_lists=user_lists)\n",
    "babbler.apply(explanations, \n",
    "              split=1)"
   ]
  },
  {
   "cell_type": "code",
   "execution_count": 9,
   "metadata": {
    "collapsed": false,
    "scrolled": true
   },
   "outputs": [],
   "source": [
    "parses = babbler.get_parses(translate=False)"
   ]
  },
  {
   "cell_type": "code",
   "execution_count": 10,
   "metadata": {
    "collapsed": false,
    "scrolled": false
   },
   "outputs": [],
   "source": [
    "# for parse in parses:\n",
    "#     print(parse.explanation)\n",
    "#     print(parse.semantics)\n",
    "#     print(babbler.semparser.grammar.translate(parse.semantics))\n",
    "#     print(\"\")"
   ]
  },
  {
   "cell_type": "code",
   "execution_count": 11,
   "metadata": {
    "collapsed": false,
    "scrolled": true
   },
   "outputs": [],
   "source": [
    "from collections import defaultdict\n",
    "\n",
    "explanation_map = defaultdict(list)\n",
    "for parse in parses:\n",
    "    if parse.explanation.candidate is None:\n",
    "        print(parse.explanation)\n",
    "        print(\"\")\n",
    "        for c in candidates:\n",
    "            if parse.function(c):\n",
    "                print((c[0].get_span(), c[1].get_span()))\n",
    "                print(\"\")\n",
    "                print(c.get_parent().text)\n",
    "                print(\"\")\n",
    "                import pdb; pdb.set_trace()"
   ]
  },
  {
   "cell_type": "code",
   "execution_count": null,
   "metadata": {
    "collapsed": false
   },
   "outputs": [],
   "source": [
    "# TRAIN = 0\n",
    "# candidates = session.query(pipe.candidate_class).filter(\n",
    "#     pipe.candidate_class.split == TRAIN)\n",
    "# for c in candidates:\n",
    "#     sentence = c.get_parent().text\n",
    "#     if 'develop' in sentence and 'following' in sentence:\n",
    "#         print(sentence)\n",
    "#         print(\"\")\n",
    "#         print(c)\n",
    "#         print(c.get_stable_id())\n",
    "#         print(\"\\n\")"
   ]
  },
  {
   "cell_type": "code",
   "execution_count": null,
   "metadata": {
    "collapsed": true
   },
   "outputs": [],
   "source": []
  }
 ],
 "metadata": {
  "kernelspec": {
   "display_name": "Python 2",
   "language": "python",
   "name": "python2"
  },
  "language_info": {
   "codemirror_mode": {
    "name": "ipython",
    "version": 2
   },
   "file_extension": ".py",
   "mimetype": "text/x-python",
   "name": "python",
   "nbconvert_exporter": "python",
   "pygments_lexer": "ipython2",
   "version": "2.7.13"
  }
 },
 "nbformat": 4,
 "nbformat_minor": 2
}
