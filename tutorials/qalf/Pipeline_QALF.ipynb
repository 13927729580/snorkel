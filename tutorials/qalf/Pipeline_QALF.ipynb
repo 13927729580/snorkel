{
 "cells": [
  {
   "cell_type": "code",
   "execution_count": 1,
   "metadata": {
    "collapsed": false
   },
   "outputs": [],
   "source": [
    "%load_ext autoreload\n",
    "%autoreload 2"
   ]
  },
  {
   "cell_type": "code",
   "execution_count": 2,
   "metadata": {
    "collapsed": false
   },
   "outputs": [],
   "source": [
    "config = {\n",
    "    'project': 'qalf',\n",
    "    'domain': 'tacred',\n",
    "    'relation': 'per_title',\n",
    "    'splits': [0],\n",
    "    'supervision': 'traditional',\n",
    "    'max_train': 2000,\n",
    "#     'max_lfs': 1,\n",
    "#     'learn_deps': True,\n",
    "#     'gen_model_search_space': 1,\n",
    "#     'gen_init_params': {\n",
    "#         'lf_propensity'         : True,\n",
    "#         'class_prior'           : True,\n",
    "#         'lf_class_propensity'   : True,\n",
    "#         'seed'                  : None,\n",
    "#     },\n",
    "#     'gen_params_default': {\n",
    "#         'step_size'     : 0.0001,\n",
    "#         'decay'         : 0.90,\n",
    "#         'reg_param'     : 0.50,\n",
    "#         'epochs'        : 25,\n",
    "#     },    \n",
    "    'disc_model_class': 'logreg',    \n",
    "    'disc_model_search_space': 1,\n",
    "}"
   ]
  },
  {
   "cell_type": "code",
   "execution_count": 3,
   "metadata": {
    "collapsed": false,
    "scrolled": true
   },
   "outputs": [
    {
     "name": "stdout",
     "output_type": "stream",
     "text": [
      "$SNORKELDB = sqlite:///qalf_tacred_per_title.db\n"
     ]
    }
   ],
   "source": [
    "# Get DB connection string and add to globals\n",
    "# NOTE: $SNORKELDB must be set before any snorkel imports\n",
    "import os\n",
    "\n",
    "default_db_name = (config['project'] + '_' + config['domain'] + \n",
    "                   ('_' + config['relation'] if config['relation'] else '') +\n",
    "                   ('_debug' if config.get('debug', False) else ''))\n",
    "DB_NAME = config.get('db_name', default_db_name)\n",
    "if 'postgres' in config and config['postgres']:\n",
    "    DB_TYPE = 'postgres'\n",
    "else:\n",
    "    DB_TYPE = 'sqlite'\n",
    "    DB_NAME += '.db'\n",
    "DB_ADDR = \"localhost:{0}\".format(config['db_port']) if 'db_port' in config else \"\"\n",
    "os.environ['SNORKELDB'] = '{0}://{1}/{2}'.format(DB_TYPE, DB_ADDR, DB_NAME)\n",
    "print(\"$SNORKELDB = {0}\".format(os.environ['SNORKELDB']))"
   ]
  },
  {
   "cell_type": "code",
   "execution_count": 4,
   "metadata": {
    "collapsed": false,
    "scrolled": false
   },
   "outputs": [
    {
     "name": "stdout",
     "output_type": "stream",
     "text": [
      "Overwriting disc_model_search_space=10 to disc_model_search_space=1\n",
      "Overwriting disc_model_class=lstm to disc_model_class=logreg\n",
      "Overwriting domain=None to domain=tacred\n",
      "Overwriting max_sentence_length=100 to max_sentence_length=200\n",
      "Overwriting rebalance=0.25 to rebalance=False\n",
      "Overwriting disc_model_search_space=10 to disc_model_search_space=1\n",
      "Overwriting splits=[0, 1, 2] to splits=[0]\n",
      "Overwriting max_train=None to max_train=2000\n",
      "Overwriting disc_model_class=lstm to disc_model_class=logreg\n",
      "Overwriting supervision=generative to supervision=traditional\n",
      "Overwriting project=babble to project=qalf\n",
      "Using TacredQalfPipeline object.\n"
     ]
    }
   ],
   "source": [
    "from snorkel import SnorkelSession\n",
    "session = SnorkelSession()\n",
    "\n",
    "# Resolve config conflicts (nb_config > local_config > global_config)\n",
    "from snorkel.contrib.babble.pipelines import merge_configs, get_local_pipeline\n",
    "config = merge_configs(config)\n",
    "\n",
    "from snorkel.models import candidate_subclass\n",
    "candidate_class = candidate_subclass(config['candidate_name'], config['candidate_entities'])\n",
    "\n",
    "pipeline = get_local_pipeline(config['domain'], config['project'])\n",
    "pipe = pipeline(session, candidate_class, config)"
   ]
  },
  {
   "cell_type": "code",
   "execution_count": 5,
   "metadata": {
    "collapsed": false
   },
   "outputs": [
    {
     "name": "stdout",
     "output_type": "stream",
     "text": [
      "Split 0: 5200 Candidates\n",
      "Split 1: 1935 Candidates\n",
      "Split 2: 0 Candidates\n"
     ]
    }
   ],
   "source": [
    "for split in [0,1,2]:\n",
    "    num_cands = pipe.session.query(pipe.candidate_class).filter(\n",
    "        pipe.candidate_class.split == split).count()\n",
    "    print(\"Split {}: {} Candidates\".format(split, num_cands))"
   ]
  },
  {
   "cell_type": "code",
   "execution_count": 6,
   "metadata": {
    "collapsed": false,
    "scrolled": false
   },
   "outputs": [],
   "source": [
    "# %time pipe.parse()"
   ]
  },
  {
   "cell_type": "code",
   "execution_count": 7,
   "metadata": {
    "collapsed": false,
    "scrolled": true
   },
   "outputs": [],
   "source": [
    "# %time pipe.extract()"
   ]
  },
  {
   "cell_type": "code",
   "execution_count": 8,
   "metadata": {
    "collapsed": false,
    "scrolled": true
   },
   "outputs": [],
   "source": [
    "# %time pipe.load_gold()"
   ]
  },
  {
   "cell_type": "code",
   "execution_count": 9,
   "metadata": {
    "collapsed": false,
    "scrolled": true
   },
   "outputs": [],
   "source": [
    "# %time pipe.featurize()"
   ]
  },
  {
   "cell_type": "code",
   "execution_count": 10,
   "metadata": {
    "collapsed": false,
    "scrolled": true
   },
   "outputs": [
    {
     "name": "stdout",
     "output_type": "stream",
     "text": [
      "*QalfPipeline objects load QA result matrices in the label() method.\n",
      "CPU times: user 109 µs, sys: 124 µs, total: 233 µs\n",
      "Wall time: 137 µs\n"
     ]
    }
   ],
   "source": [
    "%time pipe.collect()"
   ]
  },
  {
   "cell_type": "code",
   "execution_count": 11,
   "metadata": {
    "collapsed": false,
    "scrolled": true
   },
   "outputs": [
    {
     "name": "stdout",
     "output_type": "stream",
     "text": [
      "> /Users/bradenjh/repos/snorkel/tutorials/qalf/qalf_converter.py(44)convert()\n",
      "-> with open(mat_path, 'rb') as tsv:\n",
      "(Pdb) c\n",
      "Clearing existing...\n",
      "Running UDF...\n",
      "[========================================] 100%\n",
      "\n",
      "CPU times: user 13.6 s, sys: 291 ms, total: 13.9 s\n",
      "Wall time: 16.7 s\n"
     ]
    }
   ],
   "source": [
    "%time pipe.label()"
   ]
  },
  {
   "cell_type": "code",
   "execution_count": 12,
   "metadata": {
    "collapsed": false
   },
   "outputs": [],
   "source": [
    "# from snorkel.annotations import load_gold_labels\n",
    "# L_gold_train = load_gold_labels(session, annotator_name='gold', split=0)\n",
    "# pipe.L_train.lf_stats(session, labels=L_gold_train)"
   ]
  },
  {
   "cell_type": "code",
   "execution_count": 13,
   "metadata": {
    "collapsed": false,
    "scrolled": false
   },
   "outputs": [],
   "source": [
    "# from snorkel.annotations import load_gold_labels\n",
    "# L_gold_dev   = load_gold_labels(session, annotator_name='gold', split=1)\n",
    "# pipe.L_dev.lf_stats(session, labels=L_gold_dev)"
   ]
  },
  {
   "cell_type": "code",
   "execution_count": 14,
   "metadata": {
    "collapsed": false,
    "scrolled": false
   },
   "outputs": [
    {
     "name": "stdout",
     "output_type": "stream",
     "text": [
      "In 'traditional' supervision mode...skipping 'supervise' stage.\n",
      "CPU times: user 196 µs, sys: 121 µs, total: 317 µs\n",
      "Wall time: 214 µs\n"
     ]
    }
   ],
   "source": [
    "%time pipe.supervise()"
   ]
  },
  {
   "cell_type": "code",
   "execution_count": 15,
   "metadata": {
    "collapsed": false,
    "scrolled": false
   },
   "outputs": [
    {
     "name": "stdout",
     "output_type": "stream",
     "text": [
      "In 'traditional' supervision mode...grabbing candidate and gold label subsets.\n",
      "NOTE: traditional supervision helper assumes all candidates have labels.\n",
      "Using 2000 traditional gold labels\n",
      "(2000,)\n"
     ]
    },
    {
     "data": {
      "image/png": "[encoded data removed]",
      "text/plain": [
       "<matplotlib.figure.Figure at 0x1a21cc6850>"
      ]
     },
     "metadata": {},
     "output_type": "display_data"
    },
    {
     "name": "stdout",
     "output_type": "stream",
     "text": [
      "### [7.1] Begin training discriminative model\n",
      "Skipping grid search.\n",
      "[SparseLogisticRegression] Training model\n",
      "[SparseLogisticRegression] n_train=2000  #epochs=20  batch size=128\n",
      "[SparseLogisticRegression] Epoch 0 (0.07s)\tAverage loss=0.592741\tDev F1=75.08\n",
      "[SparseLogisticRegression] Epoch 1 (0.16s)\tAverage loss=0.502883\tDev F1=74.95\n",
      "[SparseLogisticRegression] Epoch 2 (0.27s)\tAverage loss=0.474242\tDev F1=75.69\n",
      "[SparseLogisticRegression] Epoch 3 (0.37s)\tAverage loss=0.454843\tDev F1=75.76\n",
      "[SparseLogisticRegression] Epoch 4 (0.48s)\tAverage loss=0.437939\tDev F1=75.88\n",
      "[SparseLogisticRegression] Epoch 5 (0.58s)\tAverage loss=0.424129\tDev F1=75.55\n",
      "[SparseLogisticRegression] Epoch 6 (0.68s)\tAverage loss=0.415995\tDev F1=75.48\n",
      "[SparseLogisticRegression] Epoch 7 (0.78s)\tAverage loss=0.409246\tDev F1=74.57\n",
      "[SparseLogisticRegression] Epoch 8 (0.88s)\tAverage loss=0.403903\tDev F1=73.76\n",
      "[SparseLogisticRegression] Epoch 9 (0.98s)\tAverage loss=0.395950\tDev F1=74.83\n",
      "[SparseLogisticRegression] Epoch 10 (1.08s)\tAverage loss=0.393205\tDev F1=73.74\n",
      "[SparseLogisticRegression] Epoch 11 (1.19s)\tAverage loss=0.387141\tDev F1=73.74\n",
      "[SparseLogisticRegression] Epoch 12 (1.29s)\tAverage loss=0.382774\tDev F1=73.77\n",
      "[SparseLogisticRegression] Epoch 13 (1.39s)\tAverage loss=0.384157\tDev F1=73.91\n",
      "[SparseLogisticRegression] Epoch 14 (1.49s)\tAverage loss=0.373786\tDev F1=72.89\n",
      "[SparseLogisticRegression] Epoch 15 (1.59s)\tAverage loss=0.373343\tDev F1=73.62\n",
      "[SparseLogisticRegression] Epoch 16 (1.69s)\tAverage loss=0.371989\tDev F1=73.53\n",
      "[SparseLogisticRegression] Model saved as <SparseLogisticRegression>\n",
      "[SparseLogisticRegression] Epoch 17 (2.28s)\tAverage loss=0.368410\tDev F1=73.10\n",
      "[SparseLogisticRegression] Epoch 18 (2.39s)\tAverage loss=0.365393\tDev F1=72.30\n",
      "[SparseLogisticRegression] Epoch 19 (2.49s)\tAverage loss=0.364249\tDev F1=73.34\n",
      "[SparseLogisticRegression] Training done (2.54s)\n",
      "[SparseLogisticRegression] Loaded model <SparseLogisticRegression>\n",
      "[SparseLogisticRegression] Model saved as <discriminative_tacred>\n",
      "### Done in 3.4s.\n",
      "\n",
      "Empty DataFrame\n",
      "Columns: [F1 Score, Precision, Recall]\n",
      "Index: []\n",
      "CPU times: user 7.19 s, sys: 501 ms, total: 7.69 s\n",
      "Wall time: 7 s\n"
     ]
    }
   ],
   "source": [
    "%time pipe.classify()"
   ]
  },
  {
   "cell_type": "code",
   "execution_count": null,
   "metadata": {
    "collapsed": true
   },
   "outputs": [],
   "source": []
  },
  {
   "cell_type": "markdown",
   "metadata": {},
   "source": [
    "## Scratch Space"
   ]
  },
  {
   "cell_type": "code",
   "execution_count": 16,
   "metadata": {
    "collapsed": false
   },
   "outputs": [],
   "source": [
    "# from snorkel.models import Sentence\n",
    "# s = pipe.session.query(Sentence).first()\n",
    "# s.pos_tags"
   ]
  },
  {
   "cell_type": "code",
   "execution_count": 17,
   "metadata": {
    "collapsed": false
   },
   "outputs": [],
   "source": [
    "# from spacy.lemmatizer import Lemmatizer\n",
    "# from spacy.en import LEMMA_INDEX, LEMMA_EXC, LEMMA_RULES\n",
    "# lemmatizer = Lemmatizer(LEMMA_INDEX, LEMMA_EXC, LEMMA_RULES)\n",
    "# lemmas = lemmatizer(u'ducks', u'NOUN')\n",
    "# print(lemmas)"
   ]
  },
  {
   "cell_type": "code",
   "execution_count": 18,
   "metadata": {
    "collapsed": false
   },
   "outputs": [],
   "source": [
    "# from spacy.lemmatizer import Lemmatizer\n",
    "# lemmatizer = Lemmatizer()"
   ]
  },
  {
   "cell_type": "code",
   "execution_count": null,
   "metadata": {
    "collapsed": true
   },
   "outputs": [],
   "source": []
  }
 ],
 "metadata": {
  "kernelspec": {
   "display_name": "Python 2",
   "language": "python",
   "name": "python2"
  },
  "language_info": {
   "codemirror_mode": {
    "name": "ipython",
    "version": 2
   },
   "file_extension": ".py",
   "mimetype": "text/x-python",
   "name": "python",
   "nbconvert_exporter": "python",
   "pygments_lexer": "ipython2",
   "version": "2.7.14"
  }
 },
 "nbformat": 4,
 "nbformat_minor": 2
}
