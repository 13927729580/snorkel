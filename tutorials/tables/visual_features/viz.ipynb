{
 "cells": [
  {
   "cell_type": "markdown",
   "metadata": {},
   "source": [
    "# Adding Visual Features"
   ]
  },
  {
   "cell_type": "code",
   "execution_count": 1,
   "metadata": {
    "collapsed": false,
    "scrolled": true
   },
   "outputs": [],
   "source": [
    "%load_ext autoreload\n",
    "%autoreload 2\n",
    "\n",
    "import os\n",
    "os.remove('snorkel.db')\n",
    "\n",
    "import sys\n",
    "sys.path.append(os.environ['SNORKELHOME'] + '/tutorials/tables/')\n",
    "\n",
    "from snorkel import SnorkelSession\n",
    "session = SnorkelSession()\n",
    "\n",
    "from pdb import set_trace as t"
   ]
  },
  {
   "cell_type": "markdown",
   "metadata": {},
   "source": [
    "### Convert PDF to HTML"
   ]
  },
  {
   "cell_type": "markdown",
   "metadata": {},
   "source": [
    "Use Adobe Acrobat (or other program of your choice) to convert PDF -> HTML with structure."
   ]
  },
  {
   "cell_type": "markdown",
   "metadata": {},
   "source": [
    "### Parse HTML and PDF"
   ]
  },
  {
   "cell_type": "code",
   "execution_count": 2,
   "metadata": {
    "collapsed": false,
    "scrolled": true
   },
   "outputs": [
    {
     "name": "stdout",
     "output_type": "stream",
     "text": [
      "Extracted 2690 pdf words\n",
      "Elapsed: 0.263 s\n",
      "Extracted 480 html words\n",
      "Elapsed: 0.009 s\n",
      "Linked 480 words to 2690 bounding boxes\n",
      "Elapsed: 0.026 s\n",
      "Updated coordinates in snorkel.db\n",
      "Elapsed: 0.153 s\n",
      "[========================================] 100%\n",
      "CPU times: user 843 ms, sys: 68.1 ms, total: 911 ms\n",
      "Wall time: 6.84 s\n"
     ]
    }
   ],
   "source": [
    "import os\n",
    "from snorkel.parser import CorpusParser\n",
    "from snorkel.parser import HTMLParser\n",
    "from snorkel.parser import OmniParser\n",
    "\n",
    "pdf_path = os.environ['SNORKELHOME'] + '/tutorials/tables/data/hardware/hardware100_pdf/'\n",
    "html_path = os.environ['SNORKELHOME'] + '/tutorials/tables/data/hardware/hardware100_html/'\n",
    "\n",
    "filename = 'bc546-d'\n",
    "html_file = html_path + filename + '.html'\n",
    "\n",
    "doc_parser = HTMLParser(path=html_file)\n",
    "context_parser = OmniParser(pdf_path=pdf_path, session=session)\n",
    "cp = CorpusParser(doc_parser, context_parser, max_docs=1) \n",
    "\n",
    "%time corpus = cp.parse_corpus(name='Hardware', session=session)\n",
    "\n",
    "# Save results\n",
    "# os.system('cp snorkel.db snorkel.db\\ corpus');"
   ]
  },
  {
   "cell_type": "markdown",
   "metadata": {},
   "source": [
    "### Load results"
   ]
  },
  {
   "cell_type": "code",
   "execution_count": 3,
   "metadata": {
    "collapsed": false
   },
   "outputs": [],
   "source": [
    "# import os\n",
    "# from snorkel.models import Corpus\n",
    "# from snorkel.utils import get_ORM_instance\n",
    "\n",
    "# os.system('cp snorkel.db\\ corpus snorkel.db');\n",
    "# corpus = get_ORM_instance(Corpus, session, 'Hardware')"
   ]
  },
  {
   "cell_type": "markdown",
   "metadata": {},
   "source": [
    "### Extract Candidates"
   ]
  },
  {
   "cell_type": "code",
   "execution_count": 4,
   "metadata": {
    "collapsed": false
   },
   "outputs": [
    {
     "name": "stdout",
     "output_type": "stream",
     "text": [
      "Extracting Candidates from Corpus (Hardware)\n",
      "[========================================] 100%\n",
      "CPU times: user 367 ms, sys: 0 ns, total: 367 ms\n",
      "Wall time: 384 ms\n",
      "Candidate Set (Hardware Candidates) contains 417 Candidates\n"
     ]
    }
   ],
   "source": [
    "import os\n",
    "from collections import defaultdict\n",
    "from snorkel.models import Corpus, candidate_subclass\n",
    "from snorkel.matchers import RegexMatchSpan, Union\n",
    "from snorkel.candidates import CandidateExtractor\n",
    "from snorkel.utils import get_ORM_instance\n",
    "from hardware_utils import OmniNgramsPart, OmniNgramsTemp, get_gold_dict\n",
    "\n",
    "# Candidate Type\n",
    "Part_Temp = candidate_subclass('Part_Temp', ['part','temp'])\n",
    "    \n",
    "# CandidateSpaces\n",
    "part_ngrams = OmniNgramsPart(parts_by_doc=None, n_max=3) # NOTE: no part linking right now\n",
    "temp_ngrams = OmniNgramsTemp(n_max=2)\n",
    "\n",
    "# Matchers\n",
    "eeca_matcher = RegexMatchSpan(rgx='([b]{1}[abcdefklnpqruyz]{1}[\\swxyz]?[0-9]{3,5}[\\s]?[A-Z\\/]{0,5}[0-9]?[A-Z]?([-][A-Z0-9]{1,7})?([-][A-Z0-9]{1,2})?)')\n",
    "jedec_matcher = RegexMatchSpan(rgx='([123]N\\d{3,4}[A-Z]{0,5}[0-9]?[A-Z]?)')\n",
    "jis_matcher = RegexMatchSpan(rgx='(2S[abcdefghjkmqrstvz]{1}[\\d]{2,4})')\n",
    "others_matcher = RegexMatchSpan(rgx='((NSVBC|SMBT|MJ|MJE|MPS|MRF|RCA|TIP|ZTX|ZT|TIS|TIPL|DTC|MMBT|PZT){1}[\\d]{2,4}[A-Z]{0,3}([-][A-Z0-9]{0,6})?([-][A-Z0-9]{0,1})?)')\n",
    "parts_matcher = Union(eeca_matcher, jedec_matcher, jis_matcher, others_matcher)\n",
    "\n",
    "temp_matcher = RegexMatchSpan(rgx=r'[0-9]+[05]', longest_match_only=False)\n",
    "\n",
    "# Throttler\n",
    "part_throttler = lambda x: x[0].parent.page == x[1].parent.page\n",
    "\n",
    "# Extractor\n",
    "ce = CandidateExtractor(Part_Temp, \n",
    "                        [part_ngrams, temp_ngrams], \n",
    "                        [parts_matcher, temp_matcher], \n",
    "                        throttler=part_throttler)\n",
    "\n",
    "# Extract\n",
    "for corpus_name in ['Hardware']:\n",
    "    corpus = get_ORM_instance(Corpus, session, corpus_name)\n",
    "    print \"Extracting Candidates from %s\" % corpus\n",
    "    %time candidates = ce.extract(\\\n",
    "        corpus.documents, corpus_name + ' Candidates', session)\n",
    "    session.add(candidates)\n",
    "    print \"%s contains %d Candidates\" % (candidates, len(candidates))\n",
    "session.commit()"
   ]
  },
  {
   "cell_type": "markdown",
   "metadata": {},
   "source": [
    "### View Results"
   ]
  },
  {
   "cell_type": "code",
   "execution_count": 14,
   "metadata": {
    "collapsed": false
   },
   "outputs": [
    {
     "name": "stdout",
     "output_type": "stream",
     "text": [
      " Span(\"BC546\", parent=220, chars=[0,4], words=[0,0])\n",
      "0 4\n",
      "1\n",
      "[319]\n",
      "[329]\n",
      "[189]\n",
      "[214]\n",
      "Document bc546-d\n",
      "====================\n",
      "For cacndidate pair:\n",
      "BC548\n",
      "30\n",
      "Visual features are:\n",
      "e2_ALIGNED_CENTER_min\n",
      "Y_ALIGNED\n",
      "HAS_COORDS\n",
      "e2_ALIGNED_min\n",
      "LF is_aligned_with_lemmas: True\n",
      "Phrase1 Phrase(Doc: bc546-d, Table: 3, Row: 3, Col: 0, Position: 0, Text: BC548) 2\n",
      "Phrase2 Phrase(Doc: bc546-d, Table: 3, Row: 3, Col: 1, Position: 0, Text: 30) 2\n",
      "bbox(top=122, bottom=131, left=314, right=339) bbox(top=122, bottom=131, left=411, right=420)\n",
      "====================\n",
      "For cacndidate pair:\n",
      "BC547\n",
      "50\n",
      "Visual features are:\n",
      "e1_ALIGNED_Y_emitter\n",
      "HAS_COORDS\n",
      "e2_ALIGNED_CENTER_min\n",
      "Y_ALIGNED\n",
      "e1_ALIGNED_base\n",
      "e1_ALIGNED_Y_base\n",
      "e1_ALIGNED_Y_breakdown\n",
      "e1_ALIGNED_breakdown\n",
      "e1_ALIGNED_emitter\n",
      "e1_ALIGNED_Y_voltage\n",
      "e1_ALIGNED_voltage\n",
      "e2_ALIGNED_min\n",
      "LF is_aligned_with_lemmas: True\n",
      "Phrase1 Phrase(Doc: bc546-d, Table: 3, Row: 7, Col: 1, Position: 0, Text: BC546 BC547) 2\n",
      "Phrase2 Phrase(Doc: bc546-d, Table: 3, Row: 4, Col: 3, Position: 0, Text: 50) 2\n",
      "bbox(top=154, bottom=164, left=314, right=339) bbox(top=154, bottom=164, left=411, right=420)\n",
      "====================\n",
      "For cacndidate pair:\n",
      "BC548\n",
      "30\n",
      "Visual features are:\n",
      "e2_ALIGNED_CENTER_min\n",
      "Y_ALIGNED\n",
      "HAS_COORDS\n",
      "e2_ALIGNED_min\n",
      "LF is_aligned_with_lemmas: True\n",
      "Phrase1 Phrase(Doc: bc546-d, Table: 3, Row: 6, Col: 0, Position: 0, Text: BC548) 2\n",
      "Phrase2 Phrase(Doc: bc546-d, Table: 3, Row: 6, Col: 1, Position: 0, Text: 30) 2\n",
      "bbox(top=163, bottom=173, left=314, right=339) bbox(top=163, bottom=173, left=411, right=420)\n",
      "====================\n",
      "For cacndidate pair:\n",
      "BC546\n",
      "80\n",
      "Visual features are:\n",
      "e2_ALIGNED_CENTER_min\n",
      "Y_ALIGNED\n",
      "HAS_COORDS\n",
      "e2_ALIGNED_min\n",
      "LF is_aligned_with_lemmas: True\n",
      "Phrase1 Phrase(Doc: bc546-d, Table: 3, Row: 4, Col: 1, Position: 0, Text: BC546 BC547) 2\n",
      "Phrase2 Phrase(Doc: bc546-d, Table: 3, Row: 4, Col: 3, Position: 0, Text: 80) 2\n",
      "bbox(top=145, bottom=155, left=314, right=339) bbox(top=145, bottom=155, left=411, right=420)\n",
      "====================\n",
      "For cacndidate pair:\n",
      "BC547\n",
      "50\n",
      "Visual features are:\n",
      "e2_ALIGNED_CENTER_min\n",
      "Y_ALIGNED\n",
      "HAS_COORDS\n",
      "e2_ALIGNED_min\n",
      "LF is_aligned_with_lemmas: True\n",
      "Phrase1 Phrase(Doc: bc546-d, Table: 3, Row: 4, Col: 1, Position: 0, Text: BC546 BC547) 2\n",
      "Phrase2 Phrase(Doc: bc546-d, Table: 3, Row: 4, Col: 3, Position: 0, Text: 50) 2\n",
      "bbox(top=154, bottom=164, left=314, right=339) bbox(top=154, bottom=164, left=411, right=420)\n",
      "====================\n",
      "For cacndidate pair:\n",
      "BC546\n",
      "65\n",
      "Visual features are:\n",
      "e2_ALIGNED_CENTER_min\n",
      "Y_ALIGNED\n",
      "HAS_COORDS\n",
      "e2_ALIGNED_min\n",
      "LF is_aligned_with_lemmas: True\n",
      "Phrase1 Phrase(Doc: bc546-d, Table: 3, Row: 0, Col: 1, Position: 0, Text: BC546) 2\n",
      "Phrase2 Phrase(Doc: bc546-d, Table: 3, Row: 0, Col: 3, Position: 0, Text: 65) 2\n",
      "bbox(top=104, bottom=114, left=314, right=339) bbox(top=104, bottom=114, left=411, right=420)\n",
      "====================\n",
      "For cacndidate pair:\n",
      "BC547\n",
      "45\n",
      "Visual features are:\n",
      "e2_ALIGNED_CENTER_min\n",
      "Y_ALIGNED\n",
      "HAS_COORDS\n",
      "e2_ALIGNED_min\n",
      "LF is_aligned_with_lemmas: True\n",
      "Phrase1 Phrase(Doc: bc546-d, Table: 3, Row: 2, Col: 0, Position: 0, Text: BC547) 2\n",
      "Phrase2 Phrase(Doc: bc546-d, Table: 3, Row: 2, Col: 1, Position: 0, Text: 45) 2\n",
      "bbox(top=113, bottom=122, left=314, right=339) bbox(top=113, bottom=122, left=411, right=420)\n",
      "417\n"
     ]
    }
   ],
   "source": [
    "c = candidates[15]\n",
    "print c.part\n",
    "print c.part.char_start, c.part.char_end\n",
    "print c.part.parent.page\n",
    "print c.part.get_attrib_tokens('top')\n",
    "print c.part.get_attrib_tokens('bottom')\n",
    "print c.part.get_attrib_tokens('left')\n",
    "print c.part.get_attrib_tokens('right')\n",
    "\n",
    "\n",
    "from snorkel.entity_features import visual_binary_features\n",
    "from snorkel.lf_helpers import get_aligned_lemmas, _bbox_from_span\n",
    "\n",
    "print c.part.parent.document\n",
    "for c in candidates:\n",
    "    \n",
    "    span1, span2 = c.get_arguments()\n",
    "    \n",
    "    feats = set()\n",
    "    for f in visual_binary_features(span1, span2):\n",
    "        feats.add(f)\n",
    "    text1 =   span1.get_span()\n",
    "    text2 = span2.get_span()\n",
    "    if not  'Y_ALIGNED' in feats or span1.parent.page!=2: continue\n",
    "    print '='*20\n",
    "    print 'For cacndidate pair:'\n",
    "    print span1.get_span()\n",
    "    print span2.get_span()\n",
    "    print 'Visual features are:'\n",
    "    for f in feats: print f\n",
    "    print 'LF is_aligned_with_lemmas:', 'min' in get_aligned_lemmas(span2)\n",
    "    print 'Phrase1', span1.parent,  span1.parent.page#.text, span1.parent.bbox\n",
    "    print 'Phrase2', span2.parent,  span2.parent.page#.text, span2.parent.bbox, span2.parent.page\n",
    "    print _bbox_from_span(span1), _bbox_from_span(span2)\n",
    "    \n",
    "print len(candidates)"
   ]
  },
  {
   "cell_type": "code",
   "execution_count": 6,
   "metadata": {
    "collapsed": false
   },
   "outputs": [
    {
     "data": {
      "text/html": [
       "<div style=\"max-height:1000px;max-width:1500px;overflow:auto;\">\n",
       "<table border=\"1\" class=\"dataframe\">\n",
       "  <thead>\n",
       "    <tr style=\"text-align: right;\">\n",
       "      <th></th>\n",
       "      <th>i</th>\n",
       "      <th>html</th>\n",
       "      <th>pdf</th>\n",
       "      <th>j</th>\n",
       "      <th>offset</th>\n",
       "    </tr>\n",
       "  </thead>\n",
       "  <tbody>\n",
       "    <tr>\n",
       "      <th>0  </th>\n",
       "      <td>   0</td>\n",
       "      <td>       BC546</td>\n",
       "      <td>       BC546</td>\n",
       "      <td>  42</td>\n",
       "      <td>  -5</td>\n",
       "    </tr>\n",
       "    <tr>\n",
       "      <th>1  </th>\n",
       "      <td>   1</td>\n",
       "      <td>           -</td>\n",
       "      <td>           -</td>\n",
       "      <td>  36</td>\n",
       "      <td>  -5</td>\n",
       "    </tr>\n",
       "    <tr>\n",
       "      <th>2  </th>\n",
       "      <td>   2</td>\n",
       "      <td>         NPN</td>\n",
       "      <td>         NPN</td>\n",
       "      <td>  13</td>\n",
       "      <td>  14</td>\n",
       "    </tr>\n",
       "    <tr>\n",
       "      <th>3  </th>\n",
       "      <td>   3</td>\n",
       "      <td>   Amplifier</td>\n",
       "      <td>   Amplifier</td>\n",
       "      <td>  11</td>\n",
       "      <td>  14</td>\n",
       "    </tr>\n",
       "    <tr>\n",
       "      <th>4  </th>\n",
       "      <td>   4</td>\n",
       "      <td> Transistors</td>\n",
       "      <td> Transistors</td>\n",
       "      <td>  12</td>\n",
       "      <td>  14</td>\n",
       "    </tr>\n",
       "    <tr>\n",
       "      <th>5  </th>\n",
       "      <td>   5</td>\n",
       "      <td>      BC546B</td>\n",
       "      <td>      BC546B</td>\n",
       "      <td>   0</td>\n",
       "      <td>  13</td>\n",
       "    </tr>\n",
       "    <tr>\n",
       "      <th>6  </th>\n",
       "      <td>   6</td>\n",
       "      <td>           ,</td>\n",
       "      <td>           ,</td>\n",
       "      <td>   9</td>\n",
       "      <td>  12</td>\n",
       "    </tr>\n",
       "    <tr>\n",
       "      <th>7  </th>\n",
       "      <td>   7</td>\n",
       "      <td>      BC547A</td>\n",
       "      <td>      BC547A</td>\n",
       "      <td>   2</td>\n",
       "      <td>  10</td>\n",
       "    </tr>\n",
       "    <tr>\n",
       "      <th>8  </th>\n",
       "      <td>   8</td>\n",
       "      <td>           ,</td>\n",
       "      <td>           ,</td>\n",
       "      <td>   9</td>\n",
       "      <td>  10</td>\n",
       "    </tr>\n",
       "    <tr>\n",
       "      <th>9  </th>\n",
       "      <td>   9</td>\n",
       "      <td>           B</td>\n",
       "      <td>           B</td>\n",
       "      <td>   4</td>\n",
       "      <td>   5</td>\n",
       "    </tr>\n",
       "    <tr>\n",
       "      <th>...</th>\n",
       "      <td>...</td>\n",
       "      <td>...</td>\n",
       "      <td>...</td>\n",
       "      <td>...</td>\n",
       "      <td>...</td>\n",
       "    </tr>\n",
       "    <tr>\n",
       "      <th>470</th>\n",
       "      <td> 470</td>\n",
       "      <td>           =</td>\n",
       "      <td>           =</td>\n",
       "      <td> 454</td>\n",
       "      <td> 453</td>\n",
       "    </tr>\n",
       "    <tr>\n",
       "      <th>471</th>\n",
       "      <td> 471</td>\n",
       "      <td>          10</td>\n",
       "      <td>          10</td>\n",
       "      <td> 455</td>\n",
       "      <td> 455</td>\n",
       "    </tr>\n",
       "    <tr>\n",
       "      <th>472</th>\n",
       "      <td> 472</td>\n",
       "      <td>           %</td>\n",
       "      <td>           =</td>\n",
       "      <td> 454</td>\n",
       "      <td> 454</td>\n",
       "    </tr>\n",
       "    <tr>\n",
       "      <th>473</th>\n",
       "      <td> 473</td>\n",
       "      <td>           A</td>\n",
       "      <td>           A</td>\n",
       "      <td> 550</td>\n",
       "      <td> 455</td>\n",
       "    </tr>\n",
       "    <tr>\n",
       "      <th>474</th>\n",
       "      <td> 474</td>\n",
       "      <td>           ,</td>\n",
       "      <td>           ,</td>\n",
       "      <td> 457</td>\n",
       "      <td> 456</td>\n",
       "    </tr>\n",
       "    <tr>\n",
       "      <th>475</th>\n",
       "      <td> 475</td>\n",
       "      <td>           I</td>\n",
       "      <td>           I</td>\n",
       "      <td> 458</td>\n",
       "      <td> 458</td>\n",
       "    </tr>\n",
       "    <tr>\n",
       "      <th>476</th>\n",
       "      <td> 476</td>\n",
       "      <td>           C</td>\n",
       "      <td>           C</td>\n",
       "      <td> 459</td>\n",
       "      <td> 459</td>\n",
       "    </tr>\n",
       "    <tr>\n",
       "      <th>477</th>\n",
       "      <td> 477</td>\n",
       "      <td>           =</td>\n",
       "      <td>           =</td>\n",
       "      <td> 461</td>\n",
       "      <td> 460</td>\n",
       "    </tr>\n",
       "    <tr>\n",
       "      <th>478</th>\n",
       "      <td> 478</td>\n",
       "      <td>           0</td>\n",
       "      <td>           0</td>\n",
       "      <td> 462</td>\n",
       "      <td> 460</td>\n",
       "    </tr>\n",
       "    <tr>\n",
       "      <th>479</th>\n",
       "      <td> 479</td>\n",
       "      <td>           )</td>\n",
       "      <td>           )</td>\n",
       "      <td> 463</td>\n",
       "      <td> 462</td>\n",
       "    </tr>\n",
       "  </tbody>\n",
       "</table>\n",
       "<p>480 rows × 5 columns</p>\n",
       "</div>"
      ],
      "text/plain": [
       "       i         html          pdf    j  offset\n",
       "0      0        BC546        BC546   42      -5\n",
       "1      1            -            -   36      -5\n",
       "2      2          NPN          NPN   13      14\n",
       "3      3    Amplifier    Amplifier   11      14\n",
       "4      4  Transistors  Transistors   12      14\n",
       "5      5       BC546B       BC546B    0      13\n",
       "6      6            ,            ,    9      12\n",
       "7      7       BC547A       BC547A    2      10\n",
       "8      8            ,            ,    9      10\n",
       "9      9            B            B    4       5\n",
       "..   ...          ...          ...  ...     ...\n",
       "470  470            =            =  454     453\n",
       "471  471           10           10  455     455\n",
       "472  472            %            =  454     454\n",
       "473  473            A            A  550     455\n",
       "474  474            ,            ,  457     456\n",
       "475  475            I            I  458     458\n",
       "476  476            C            C  459     459\n",
       "477  477            =            =  461     460\n",
       "478  478            0            0  462     460\n",
       "479  479            )            )  463     462\n",
       "\n",
       "[480 rows x 5 columns]"
      ]
     },
     "execution_count": 6,
     "metadata": {},
     "output_type": "execute_result"
    }
   ],
   "source": [
    "context_parser.vizlink.display_links(20)"
   ]
  },
  {
   "cell_type": "code",
   "execution_count": 7,
   "metadata": {
    "collapsed": false,
    "scrolled": true
   },
   "outputs": [
    {
     "name": "stdout",
     "output_type": "stream",
     "text": [
      "Boxes per page: total (unique)\n",
      "Page 1: 690 (25)\n",
      "Page 2: 144 (16)\n"
     ]
    }
   ],
   "source": [
    "# Note: Select image and press any key to close image.\n",
    "context_parser.vizlink.display_candidates(candidates, page_num=2, display=False)"
   ]
  },
  {
   "cell_type": "code",
   "execution_count": 8,
   "metadata": {
    "collapsed": false
   },
   "outputs": [],
   "source": [
    "# pdf_file = context_parser.vizlink.pdf_file\n",
    "\n",
    "# context_parser.vizlink.display_word('BC546', page_num=2)\n",
    "# context_parser.vizlink.display_candidates(candidates, page_num=2)"
   ]
  },
  {
   "cell_type": "code",
   "execution_count": 9,
   "metadata": {
    "collapsed": false
   },
   "outputs": [],
   "source": [
    "# from visual_linking import display_boxes, get_box\n",
    "\n",
    "# boxes = []\n",
    "# for c in candidates:\n",
    "#     boxes.append(get_box(c.part))\n",
    "# boxes = list(set(boxes))\n",
    "# display_boxes(pdf_file, boxes, page_num=2)"
   ]
  },
  {
   "cell_type": "markdown",
   "metadata": {},
   "source": [
    "### Display Ordering of PDF Word List "
   ]
  },
  {
   "cell_type": "markdown",
   "metadata": {},
   "source": [
    "Display Ordering on a black page - Not very easy to display because of superposition"
   ]
  },
  {
   "cell_type": "code",
   "execution_count": 10,
   "metadata": {
    "collapsed": false
   },
   "outputs": [],
   "source": [
    "# import numpy as np\n",
    "# import cv2\n",
    "# import math\n",
    "\n",
    "# page_num = 2\n",
    "# page_height = 792\n",
    "# page_width = 612\n",
    "# img = np.ones((page_height,page_width,3))*255\n",
    "# font = cv2.FONT_HERSHEY_SIMPLEX\n",
    "# letter_width = 3\n",
    "# i = 0\n",
    "# for word_id, _ in pdf_word_list:\n",
    "#     if word_id[0] == page_num:\n",
    "#         i += 1\n",
    "#         _, top, left, bottom, right = coordinate_map[word_id]\n",
    "#         cv2.rectangle(img, (left, top), (right, bottom), (0,255,0), 1)\n",
    "#         cv2.putText(img, \n",
    "#                     str(i), \n",
    "#                     ((left + right)/2 - letter_width*int(math.ceil(math.log10(i))), \n",
    "#                     bottom + (top - bottom)/4), \n",
    "#                     font, \n",
    "#                     0.3, \n",
    "#                     (255,0,0), \n",
    "#                     1)\n",
    "# cv2.imshow('PDF Word List Order',img)\n",
    "# cv2.waitKey() # press any key to exit the opencv output \n",
    "# cv2.destroyAllWindows() "
   ]
  },
  {
   "cell_type": "markdown",
   "metadata": {},
   "source": [
    "The end."
   ]
  }
 ],
 "metadata": {
  "anaconda-cloud": {},
  "kernelspec": {
   "display_name": "Python 2",
   "language": "python",
   "name": "python2"
  },
  "language_info": {
   "codemirror_mode": {
    "name": "ipython",
    "version": 2
   },
   "file_extension": ".py",
   "mimetype": "text/x-python",
   "name": "python",
   "nbconvert_exporter": "python",
   "pygments_lexer": "ipython2",
   "version": "2.7.11"
  }
 },
 "nbformat": 4,
 "nbformat_minor": 1
}
