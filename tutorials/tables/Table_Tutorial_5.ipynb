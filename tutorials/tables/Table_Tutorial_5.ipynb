{
 "cells": [
  {
   "cell_type": "markdown",
   "metadata": {},
   "source": [
    "## Part V: Training a Model with Data Programming"
   ]
  },
  {
   "cell_type": "code",
   "execution_count": 1,
   "metadata": {
    "collapsed": false
   },
   "outputs": [],
   "source": [
    "# If necessary:\n",
    "import os\n",
    "os.remove('snorkel.db');\n",
    "os.system('cp snorkel.db\\ features snorkel.db');"
   ]
  },
  {
   "cell_type": "code",
   "execution_count": 2,
   "metadata": {
    "collapsed": false
   },
   "outputs": [],
   "source": [
    "%load_ext autoreload\n",
    "%autoreload 2\n",
    "\n",
    "from snorkel import SnorkelSession\n",
    "session = SnorkelSession()"
   ]
  },
  {
   "cell_type": "code",
   "execution_count": 3,
   "metadata": {
    "collapsed": false
   },
   "outputs": [],
   "source": [
    "from snorkel.models import candidate_subclass\n",
    "\n",
    "Part_Temp = candidate_subclass('Part_Temp', ['part','temp'])"
   ]
  },
  {
   "cell_type": "markdown",
   "metadata": {},
   "source": [
    "### Loading the `CandidateSet`, feature matrix, and label matrix"
   ]
  },
  {
   "cell_type": "code",
   "execution_count": 4,
   "metadata": {
    "collapsed": false
   },
   "outputs": [],
   "source": [
    "from snorkel.models import CandidateSet\n",
    "train = session.query(CandidateSet).filter(\n",
    "    CandidateSet.name == 'Hardware Training Candidates').one()"
   ]
  },
  {
   "cell_type": "code",
   "execution_count": 5,
   "metadata": {
    "collapsed": false
   },
   "outputs": [
    {
     "name": "stdout",
     "output_type": "stream",
     "text": [
      "CPU times: user 1min 29s, sys: 2.51 s, total: 1min 32s\n",
      "Wall time: 1min 31s\n"
     ]
    }
   ],
   "source": [
    "from snorkel.annotations import FeatureManager\n",
    "\n",
    "feature_manager = FeatureManager()\n",
    "\n",
    "%time F_train = feature_manager.load(session, train, 'Train Features')"
   ]
  },
  {
   "cell_type": "code",
   "execution_count": 6,
   "metadata": {
    "collapsed": false
   },
   "outputs": [
    {
     "name": "stdout",
     "output_type": "stream",
     "text": [
      "CPU times: user 632 ms, sys: 24 ms, total: 656 ms\n",
      "Wall time: 655 ms\n"
     ]
    }
   ],
   "source": [
    "from snorkel.annotations import LabelManager\n",
    "\n",
    "label_manager = LabelManager()\n",
    "\n",
    "%time L_train = label_manager.load(session, train, 'LF Labels')"
   ]
  },
  {
   "cell_type": "markdown",
   "metadata": {},
   "source": [
    "## Train Generative Model"
   ]
  },
  {
   "cell_type": "code",
   "execution_count": 7,
   "metadata": {
    "collapsed": false
   },
   "outputs": [
    {
     "name": "stdout",
     "output_type": "stream",
     "text": [
      "================================================================================\n",
      "Training marginals (!= 0.5):\t75908\n",
      "Features:\t\t\t20\n",
      "================================================================================\n",
      "Begin training for rate=0.01, mu=1e-06\n",
      "\tLearning epoch = 0\tGradient mag. = 0.572158\n",
      "\tLearning epoch = 250\tGradient mag. = 0.982846\n",
      "\tLearning epoch = 500\tGradient mag. = 1.401972\n",
      "\tLearning epoch = 750\tGradient mag. = 1.260039\n",
      "\tLearning epoch = 1000\tGradient mag. = 0.992298\n",
      "\tLearning epoch = 1250\tGradient mag. = 0.857444\n",
      "\tLearning epoch = 1500\tGradient mag. = 0.779610\n",
      "\tLearning epoch = 1750\tGradient mag. = 0.588800\n",
      "\tLearning epoch = 2000\tGradient mag. = 0.487811\n",
      "\tLearning epoch = 2250\tGradient mag. = 0.414160\n",
      "\tLearning epoch = 2500\tGradient mag. = 0.362378\n",
      "\tLearning epoch = 2750\tGradient mag. = 0.323178\n",
      "\tLearning epoch = 3000\tGradient mag. = 0.292466\n",
      "\tLearning epoch = 3250\tGradient mag. = 0.268084\n",
      "\tLearning epoch = 3500\tGradient mag. = 0.248648\n",
      "\tLearning epoch = 3750\tGradient mag. = 0.233141\n",
      "\tLearning epoch = 4000\tGradient mag. = 0.220764\n",
      "\tLearning epoch = 4250\tGradient mag. = 0.210876\n",
      "\tLearning epoch = 4500\tGradient mag. = 0.197469\n",
      "\tLearning epoch = 4750\tGradient mag. = 0.169165\n",
      "\tLearning epoch = 5000\tGradient mag. = 0.145885\n",
      "\tLearning epoch = 5250\tGradient mag. = 0.126733\n",
      "\tLearning epoch = 5500\tGradient mag. = 0.110965\n",
      "\tLearning epoch = 5750\tGradient mag. = 0.097958\n",
      "\tLearning epoch = 6000\tGradient mag. = 0.087198\n",
      "\tLearning epoch = 6250\tGradient mag. = 0.078257\n",
      "\tLearning epoch = 6500\tGradient mag. = 0.070781\n",
      "\tLearning epoch = 6750\tGradient mag. = 0.064484\n",
      "\tLearning epoch = 7000\tGradient mag. = 0.059131\n",
      "\tLearning epoch = 7250\tGradient mag. = 0.054536\n",
      "\tLearning epoch = 7500\tGradient mag. = 0.050547\n",
      "\tLearning epoch = 7750\tGradient mag. = 0.047049\n",
      "\tLearning epoch = 8000\tGradient mag. = 0.043948\n",
      "\tLearning epoch = 8250\tGradient mag. = 0.041170\n",
      "\tLearning epoch = 8500\tGradient mag. = 0.038661\n",
      "\tLearning epoch = 8750\tGradient mag. = 0.036376\n",
      "\tLearning epoch = 9000\tGradient mag. = 0.034279\n",
      "\tLearning epoch = 9250\tGradient mag. = 0.032345\n",
      "\tLearning epoch = 9500\tGradient mag. = 0.030551\n",
      "\tLearning epoch = 9750\tGradient mag. = 0.028881\n",
      "\tLearning epoch = 10000\tGradient mag. = 0.027320\n",
      "\tLearning epoch = 10250\tGradient mag. = 0.025857\n",
      "\tLearning epoch = 10500\tGradient mag. = 0.024483\n",
      "\tLearning epoch = 10750\tGradient mag. = 0.023191\n",
      "\tLearning epoch = 11000\tGradient mag. = 0.021973\n",
      "\tLearning epoch = 11250\tGradient mag. = 0.020824\n",
      "\tLearning epoch = 11500\tGradient mag. = 0.019739\n",
      "\tLearning epoch = 11750\tGradient mag. = 0.018713\n",
      "\tLearning epoch = 12000\tGradient mag. = 0.017743\n",
      "\tLearning epoch = 12250\tGradient mag. = 0.016825\n",
      "\tLearning epoch = 12500\tGradient mag. = 0.015957\n",
      "\tLearning epoch = 12750\tGradient mag. = 0.015134\n",
      "\tLearning epoch = 13000\tGradient mag. = 0.014355\n",
      "\tLearning epoch = 13250\tGradient mag. = 0.013616\n",
      "\tLearning epoch = 13500\tGradient mag. = 0.012917\n",
      "\tLearning epoch = 13750\tGradient mag. = 0.012254\n",
      "\tLearning epoch = 14000\tGradient mag. = 0.011625\n",
      "\tLearning epoch = 14250\tGradient mag. = 0.011029\n",
      "\tLearning epoch = 14500\tGradient mag. = 0.010464\n",
      "\tLearning epoch = 14750\tGradient mag. = 0.009928\n",
      "Final gradient magnitude for rate=0.01, mu=1e-06: 0.009\n"
     ]
    }
   ],
   "source": [
    "from snorkel.learning import NaiveBayes\n",
    "\n",
    "gen_model = NaiveBayes()\n",
    "# gen_model.train(L_train, n_iter=3000, rate=1e-5)\n",
    "gen_model.train(L_train, n_iter=15000, rate=1e-2)"
   ]
  },
  {
   "cell_type": "code",
   "execution_count": 8,
   "metadata": {
    "collapsed": false
   },
   "outputs": [],
   "source": [
    "gen_model.save(session, 'Generative Params')"
   ]
  },
  {
   "cell_type": "code",
   "execution_count": 9,
   "metadata": {
    "collapsed": true
   },
   "outputs": [],
   "source": [
    "train_marginals = gen_model.marginals(L_train)"
   ]
  },
  {
   "cell_type": "markdown",
   "metadata": {},
   "source": [
    "## Train Discriminative Model"
   ]
  },
  {
   "cell_type": "code",
   "execution_count": 10,
   "metadata": {
    "collapsed": false
   },
   "outputs": [
    {
     "name": "stdout",
     "output_type": "stream",
     "text": [
      "================================================================================\n",
      "Training marginals (!= 0.5):\t33093\n",
      "Features:\t\t\t24073\n",
      "================================================================================\n",
      "Using gradient descent...\n",
      "\tLearning epoch = 0\tStep size = 0.001\n",
      "\tLoss = 22938.319646\tGradient magnitude = 62831.366282\n",
      "\tLearning epoch = 100\tStep size = 0.000904792147114\n",
      "\tLoss = 43391.402484\tGradient magnitude = 5459.416507\n",
      "\tLearning epoch = 200\tStep size = 0.000818648829479\n",
      "\tLoss = 31504.367903\tGradient magnitude = 14696.829717\n",
      "\tLearning epoch = 300\tStep size = 0.000740707032156\n",
      "\tLoss = 53642.152794\tGradient magnitude = 5459.480778\n",
      "\tLearning epoch = 400\tStep size = 0.000670185906007\n",
      "\tLoss = 26562.768417\tGradient magnitude = 5459.444492\n",
      "\tLearning epoch = 500\tStep size = 0.000606378944861\n",
      "\tLoss = 27931.479692\tGradient magnitude = 18120.553107\n",
      "\tLearning epoch = 600\tStep size = 0.000548646907485\n",
      "\tLoss = 14809.948572\tGradient magnitude = 5456.451445\n",
      "\tLearning epoch = 700\tStep size = 0.000496411413431\n",
      "\tLoss = 9496.789460\tGradient magnitude = 5453.709111\n",
      "\tLearning epoch = 800\tStep size = 0.00044914914861\n",
      "\tLoss = 18735.689691\tGradient magnitude = 5459.401910\n",
      "\tLearning epoch = 900\tStep size = 0.000406386622545\n",
      "\tLoss = 3567.947055\tGradient magnitude = 7419.862987\n",
      "\tLearning epoch = 1000\tStep size = 0.000367695424771\n",
      "\tLoss = 8691.354640\tGradient magnitude = 5401.507275\n",
      "\tLearning epoch = 1100\tStep size = 0.000332687932862\n",
      "\tLoss = 22072.461148\tGradient magnitude = 5458.665314\n",
      "\tLearning epoch = 1200\tStep size = 0.000301013429093\n",
      "\tLoss = 15242.325847\tGradient magnitude = 5449.050241\n",
      "\tLearning epoch = 1300\tStep size = 0.000272354586819\n",
      "\tLoss = 2167.252538\tGradient magnitude = 5885.849810\n",
      "\tLearning epoch = 1400\tStep size = 0.000246424291385\n",
      "\tLoss = 11642.132721\tGradient magnitude = 5443.178823\n",
      "\tLearning epoch = 1500\tStep size = 0.000222962763703\n",
      "\tLoss = 5964.705267\tGradient magnitude = 4863.629799\n",
      "\tLearning epoch = 1600\tStep size = 0.000201734957697\n",
      "\tLoss = 3791.269042\tGradient magnitude = 14579.653842\n",
      "\tLearning epoch = 1700\tStep size = 0.000182528205523\n",
      "\tLoss = 10727.619618\tGradient magnitude = 5439.023389\n",
      "\tLearning epoch = 1800\tStep size = 0.000165150086984\n",
      "\tLoss = 2806.687794\tGradient magnitude = 12389.163343\n",
      "\tLearning epoch = 1900\tStep size = 0.000149426501798\n",
      "\tLoss = 1837.134423\tGradient magnitude = 3671.271059\n",
      "\tLearning epoch = 2000\tStep size = 0.000135199925397\n",
      "\tLoss = 8062.697145\tGradient magnitude = 5397.499122\n",
      "\tLearning epoch = 2100\tStep size = 0.00012232783079\n",
      "\tLoss = 6630.111745\tGradient magnitude = 5313.422904\n",
      "\tLearning epoch = 2200\tStep size = 0.000110681260672\n",
      "\tLoss = 3149.310215\tGradient magnitude = 4702.831882\n",
      "\tLearning epoch = 2300\tStep size = 0.000100143535489\n",
      "\tLoss = 3405.508307\tGradient magnitude = 12208.252656\n",
      "\tLearning epoch = 2400\tStep size = 9.06090844946e-05\n",
      "\tLoss = 2927.982856\tGradient magnitude = 11685.307417\n",
      "\tLearning epoch = 2500\tStep size = 8.19823881078e-05\n",
      "\tLoss = 4427.184693\tGradient magnitude = 5186.650014\n",
      "\tLearning epoch = 2600\tStep size = 7.41770209616e-05\n",
      "\tLoss = 2026.943605\tGradient magnitude = 8839.537931\n",
      "\tLearning epoch = 2700\tStep size = 6.71147860624e-05\n",
      "\tLoss = 3056.426319\tGradient magnitude = 4962.705981\n",
      "\tLearning epoch = 2800\tStep size = 6.07249313844e-05\n",
      "\tLoss = 1660.810119\tGradient magnitude = 3507.077323\n",
      "\tLearning epoch = 2900\tStep size = 5.49434410507e-05\n",
      "\tLoss = 2203.736607\tGradient magnitude = 4677.005588\n",
      "\tLearning epoch = 3000\tStep size = 4.9712393998e-05\n",
      "\tLoss = 1607.603266\tGradient magnitude = 4824.743079\n",
      "\tLearning epoch = 3100\tStep size = 4.49793837036e-05\n",
      "\tLoss = 1537.494078\tGradient magnitude = 3548.601319\n",
      "\tLearning epoch = 3200\tStep size = 4.06969931571e-05\n",
      "\tLoss = 1505.292675\tGradient magnitude = 2784.738206\n",
      "\tLearning epoch = 3300\tStep size = 3.68223198197e-05\n",
      "\tLoss = 1461.909375\tGradient magnitude = 1207.366141\n",
      "\tLearning epoch = 3400\tStep size = 3.33165458113e-05\n",
      "\tLoss = 1450.887388\tGradient magnitude = 2.791336\n",
      "\tLearning epoch = 3500\tStep size = 3.01445490191e-05\n",
      "\tLoss = 1450.863475\tGradient magnitude = 2.708137\n",
      "\tLearning epoch = 3600\tStep size = 2.72745512307e-05\n",
      "\tLoss = 1450.842894\tGradient magnitude = 2.651739\n",
      "\tLearning epoch = 3700\tStep size = 2.46777997696e-05\n",
      "\tLoss = 1450.824957\tGradient magnitude = 2.607880\n",
      "\tLearning epoch = 3800\tStep size = 2.23282794396e-05\n",
      "\tLoss = 1450.809214\tGradient magnitude = 2.571971\n",
      "\tLearning epoch = 3900\tStep size = 2.02024518955e-05\n",
      "\tLoss = 1450.795331\tGradient magnitude = 2.541755\n",
      "\tLearning epoch = 4000\tStep size = 1.82790198275e-05\n",
      "\tLoss = 1450.783043\tGradient magnitude = 2.515891\n",
      "\tLearning epoch = 4100\tStep size = 1.65387135968e-05\n",
      "\tLoss = 1450.772136\tGradient magnitude = 2.493495\n",
      "\tLearning epoch = 4200\tStep size = 1.49640981858e-05\n",
      "\tLoss = 1450.762432\tGradient magnitude = 2.473943\n",
      "\tLearning epoch = 4300\tStep size = 1.35393985271e-05\n",
      "\tLoss = 1450.753781\tGradient magnitude = 2.456769\n",
      "\tLearning epoch = 4400\tStep size = 1.2250341464e-05\n",
      "\tLoss = 1450.746057\tGradient magnitude = 2.441613\n"
     ]
    }
   ],
   "source": [
    "from snorkel.learning import LogReg\n",
    "\n",
    "disc_model = LogReg()\n",
    "disc_model.train(F_train, train_marginals, n_iter=4500, rate=1e-3)"
   ]
  },
  {
   "cell_type": "code",
   "execution_count": 11,
   "metadata": {
    "collapsed": false
   },
   "outputs": [
    {
     "data": {
      "text/plain": [
       "(24073,)"
      ]
     },
     "execution_count": 11,
     "metadata": {},
     "output_type": "execute_result"
    }
   ],
   "source": [
    "disc_model.w.shape"
   ]
  },
  {
   "cell_type": "code",
   "execution_count": 12,
   "metadata": {
    "collapsed": false
   },
   "outputs": [
    {
     "name": "stdout",
     "output_type": "stream",
     "text": [
      "CPU times: user 2.8 s, sys: 120 ms, total: 2.92 s\n",
      "Wall time: 2.92 s\n"
     ]
    }
   ],
   "source": [
    "%time disc_model.save(session, \"Discriminative Params\")"
   ]
  },
  {
   "cell_type": "markdown",
   "metadata": {},
   "source": [
    "## Assess Performance on Development Set"
   ]
  },
  {
   "cell_type": "code",
   "execution_count": 13,
   "metadata": {
    "collapsed": false
   },
   "outputs": [],
   "source": [
    "from snorkel.models import CandidateSet\n",
    "dev = session.query(CandidateSet).filter(\n",
    "    CandidateSet.name == 'Hardware Development Candidates').one()"
   ]
  },
  {
   "cell_type": "markdown",
   "metadata": {},
   "source": [
    "### Loading the Development Feature Matrix"
   ]
  },
  {
   "cell_type": "code",
   "execution_count": 14,
   "metadata": {
    "collapsed": false
   },
   "outputs": [
    {
     "name": "stdout",
     "output_type": "stream",
     "text": [
      "CPU times: user 54.4 s, sys: 1.47 s, total: 55.9 s\n",
      "Wall time: 55.5 s\n"
     ]
    }
   ],
   "source": [
    "from snorkel.annotations import FeatureManager\n",
    "\n",
    "feature_manager = FeatureManager()\n",
    "%time F_dev = feature_manager.load(session, dev, 'Train Features')"
   ]
  },
  {
   "cell_type": "code",
   "execution_count": 15,
   "metadata": {
    "collapsed": false
   },
   "outputs": [],
   "source": [
    "L_dev = label_manager.load(session, dev, \"Hardware Development Labels -- Gold\")"
   ]
  },
  {
   "cell_type": "code",
   "execution_count": 16,
   "metadata": {
    "collapsed": false
   },
   "outputs": [],
   "source": [
    "gold_dev_set = session.query(CandidateSet).filter(\n",
    "    CandidateSet.name == 'Hardware Development Candidates -- Gold').one()"
   ]
  },
  {
   "cell_type": "code",
   "execution_count": 17,
   "metadata": {
    "collapsed": false
   },
   "outputs": [
    {
     "data": {
      "text/plain": [
       "(18971, 24073)"
      ]
     },
     "execution_count": 17,
     "metadata": {},
     "output_type": "execute_result"
    }
   ],
   "source": [
    "F_dev.shape"
   ]
  },
  {
   "cell_type": "code",
   "execution_count": 18,
   "metadata": {
    "collapsed": false,
    "scrolled": true
   },
   "outputs": [
    {
     "name": "stdout",
     "output_type": "stream",
     "text": [
      "Calibration plot:\n",
      "========================================\n",
      "Recall-corrected Noise-aware Model\n",
      "========================================\n",
      "Pos. class accuracy: 0.782620156401\n",
      "Neg. class accuracy: 0.627404479578\n",
      "Corpus Precision 0.759\n",
      "Corpus Recall    0.783\n",
      "Corpus F1        0.771\n",
      "----------------------------------------\n",
      "TP: 8907 | FP: 2828 | TN: 4762 | FN: 2474\n",
      "========================================\n",
      "\n",
      "========================================\n",
      "Recall-corrected Noise-aware Model\n",
      "========================================\n",
      "Pos. class accuracy: 0.782620156401\n",
      "Neg. class accuracy: 0.627404479578\n",
      "Corpus Precision 0.759\n",
      "Corpus Recall    0.783\n",
      "Corpus F1        0.771\n",
      "----------------------------------------\n",
      "TP: 8907 | FP: 2828 | TN: 4762 | FN: 2474\n",
      "========================================\n",
      "\n"
     ]
    }
   ],
   "source": [
    "tp, fp, tn, fn = disc_model.score(F_dev, L_dev, gold_dev_set)"
   ]
  },
  {
   "cell_type": "code",
   "execution_count": 19,
   "metadata": {
    "collapsed": false
   },
   "outputs": [],
   "source": [
    "from hardware_utils import part_error_analysis, table_info\n",
    "#     print c[0]\n",
    "#     print c[0].parent\n",
    "#     print (c[0].parent.row_num, c[0].parent.col_num)\n",
    "#     print c[1]\n",
    "#     print c[1].parent\n",
    "#     print (c[1].parent.row_num, c[1].parent.col_num)"
   ]
  },
  {
   "cell_type": "code",
   "execution_count": 20,
   "metadata": {
    "collapsed": false
   },
   "outputs": [],
   "source": [
    "# for c in list(fp)[:5]:\n",
    "#     print c\n",
    "# c = list(fp)[10]\n",
    "# error_analysis(c)\n",
    "# c = list(fp)[10]\n",
    "# part_error_analysis(c)\n",
    "# print c.temp.parent.row_num\n",
    "\n",
    "# for c in list(fp)[:5]:\n",
    "#     print c\n",
    "# print c.temp.parent.html_anc_tags"
   ]
  },
  {
   "cell_type": "code",
   "execution_count": 21,
   "metadata": {
    "collapsed": false
   },
   "outputs": [
    {
     "name": "stdout",
     "output_type": "stream",
     "text": [
      "========================================\n",
      "Scoring on Entity-Level Gold Data\n",
      "========================================\n",
      "Corpus Precision 0.717\n",
      "Corpus Recall    1.0\n",
      "Corpus F1        0.835\n",
      "----------------------------------------\n",
      "TP: 152 | FP: 60 | FN: 0\n",
      "========================================\n",
      "\n"
     ]
    }
   ],
   "source": [
    "from snorkel.models import Corpus\n",
    "from hardware_utils import entity_level_f1\n",
    "import os\n",
    "\n",
    "gold_file = os.environ['SNORKELHOME'] + '/tutorials/tables/data/hardware/hardware_gold.csv'\n",
    "corpus = session.query(Corpus).filter(Corpus.name == 'Hardware Development').one()\n",
    "(TP, FP, FN) = entity_level_f1(tp, fp, tn, fn, gold_file, corpus, 'stg_temp_min')"
   ]
  },
  {
   "cell_type": "code",
   "execution_count": 22,
   "metadata": {
    "collapsed": false
   },
   "outputs": [
    {
     "name": "stdout",
     "output_type": "stream",
     "text": [
      "set([])\n"
     ]
    }
   ],
   "source": [
    "print FN"
   ]
  },
  {
   "cell_type": "code",
   "execution_count": 23,
   "metadata": {
    "collapsed": false
   },
   "outputs": [
    {
     "name": "stdout",
     "output_type": "stream",
     "text": [
      "set([(u'ONSMS04099-1', u'BC237', u'-65'),\n",
      "     (u'ONSMS04099-1', u'BC237A', u'-65'),\n",
      "     (u'ONSMS04099-1', u'BC237B', u'-65'),\n",
      "     (u'ONSMS04099-1', u'BC237C', u'-65'),\n",
      "     (u'ONSMS04099-1', u'BC238', u'-65'),\n",
      "     (u'ONSMS04099-1', u'BC238B', u'-65'),\n",
      "     (u'ONSMS04099-1', u'BC238C', u'-65'),\n",
      "     (u'ONSMS04099-1', u'BC239', u'-65'),\n",
      "     (u'ONSMS04099-1', u'BC239C', u'-65'),\n",
      "     (u'PHGLS19500-1', u'MMBT3904', u'-55'),\n",
      "     (u'PNJIS01593-1', u'BC856', u'-65'),\n",
      "     (u'PNJIS01593-1', u'BC856A', u'-65'),\n",
      "     (u'PNJIS01593-1', u'BC856B', u'-65'),\n",
      "     (u'PNJIS01593-1', u'BC857', u'-65'),\n",
      "     (u'PNJIS01593-1', u'BC857A', u'-65'),\n",
      "     (u'PNJIS01593-1', u'BC857B', u'-65'),\n",
      "     (u'PNJIS01593-1', u'BC857C', u'-65'),\n",
      "     (u'PNJIS01593-1', u'BC858', u'-65'),\n",
      "     (u'PNJIS01593-1', u'BC858A', u'-65'),\n",
      "     (u'PNJIS01593-1', u'BC858B', u'-65'),\n",
      "     (u'PNJIS01593-1', u'BC858C', u'-65'),\n",
      "     (u'PNJIS01593-1', u'BC859', u'-65'),\n",
      "     (u'PNJIS01593-1', u'BC859B', u'-65'),\n",
      "     (u'PNJIS01593-1', u'BC859C', u'-65'),\n",
      "     (u'RECTS01158-1', u'BC807-25', u'-50'),\n",
      "     (u'UTCLS02155-1', u'BC807', u'-50'),\n",
      "     (u'UTCLS02155-1', u'BC807-16', u'-50'),\n",
      "     (u'UTCLS02155-1', u'BC807-25', u'-50'),\n",
      "     (u'UTCLS02155-1', u'BC807-40', u'-50'),\n",
      "     (u'UTCLS02155-1', u'BC808', u'-50'),\n",
      "     (u'UTCLS02155-1', u'BC808-16', u'-50'),\n",
      "     (u'UTCLS02155-1', u'BC808-25', u'-50'),\n",
      "     (u'UTCLS02155-1', u'BC808-40', u'-50'),\n",
      "     (u'VSMIS03793-1', u'BC817', u'-50'),\n",
      "     (u'VSMIS03793-1', u'BC817-16', u'-50'),\n",
      "     (u'VSMIS03793-1', u'BC817-25', u'-50'),\n",
      "     (u'VSMIS03793-1', u'BC817-40', u'-50'),\n",
      "     (u'VSMIS03793-1', u'BC818', u'-50'),\n",
      "     (u'VSMIS03793-1', u'BC818-16', u'-50'),\n",
      "     (u'VSMIS03793-1', u'BC818-25', u'-50'),\n",
      "     (u'VSMIS03793-1', u'BC818-40', u'-50'),\n",
      "     (u'ZETXS01948-1', u'BC856', u'-65'),\n",
      "     (u'ZETXS01948-1', u'BC856A-3A', u'-65'),\n",
      "     (u'ZETXS01948-1', u'BC856B-Z3B', u'-65'),\n",
      "     (u'ZETXS01948-1', u'BC857', u'-65'),\n",
      "     (u'ZETXS01948-1', u'BC857A-Z3E', u'-65'),\n",
      "     (u'ZETXS01948-1', u'BC857B-3F', u'-65'),\n",
      "     (u'ZETXS01948-1', u'BC857C-3G', u'-65'),\n",
      "     (u'ZETXS01948-1', u'BC858', u'-65'),\n",
      "     (u'ZETXS01948-1', u'BC858A-3J', u'-65'),\n",
      "     (u'ZETXS01948-1', u'BC858B-3K', u'-65'),\n",
      "     (u'ZETXS01948-1', u'BC858C-3L', u'-65'),\n",
      "     (u'ZETXS01948-1', u'BC859', u'-65'),\n",
      "     (u'ZETXS01948-1', u'BC859A-Z4A', u'-65'),\n",
      "     (u'ZETXS01948-1', u'BC859B-4B', u'-65'),\n",
      "     (u'ZETXS01948-1', u'BC859C-Z4C', u'-65'),\n",
      "     (u'ZETXS01948-1', u'BC860', u'-65'),\n",
      "     (u'ZETXS01948-1', u'BC860A-Z4E', u'-65'),\n",
      "     (u'ZETXS01948-1', u'BC860B-4F', u'-65'),\n",
      "     (u'ZETXS01948-1', u'BC860C-4GZ', u'-65')])\n"
     ]
    }
   ],
   "source": [
    "from pprint import pprint\n",
    "pprint(FP)"
   ]
  },
  {
   "cell_type": "code",
   "execution_count": 24,
   "metadata": {
    "collapsed": true
   },
   "outputs": [],
   "source": [
    "import os\n",
    "os.system('cp snorkel.db snorkel.db\\ final');"
   ]
  },
  {
   "cell_type": "code",
   "execution_count": 25,
   "metadata": {
    "collapsed": false
   },
   "outputs": [],
   "source": [
    "from pprint import pprint\n",
    "all_weights = disc_model.get_feature_weights(F_train)"
   ]
  },
  {
   "cell_type": "code",
   "execution_count": 26,
   "metadata": {
    "collapsed": false
   },
   "outputs": [
    {
     "name": "stdout",
     "output_type": "stream",
     "text": [
      "[(AnnotationKey (TAB_e2_ROW_WORDS_[temperature]), 11.774387696354319),\n",
      " (AnnotationKey (TAB_e2_ROW_WORDS_[t]), 11.571101992002395),\n",
      " (AnnotationKey (TAB_e2_ROW_WORDS_[storage]), 10.254517912459201),\n",
      " (AnnotationKey (TAB_e2_ROW_WORDS_[% c]), 8.355035669182524),\n",
      " (AnnotationKey (TAB_e2_ROW_WORDS_[stg]), 8.243764393149322),\n",
      " (AnnotationKey (TAB_e2_ROW_WORDS_[t stg]), 8.242765450291907),\n",
      " (AnnotationKey (TAB_e2_ROW_WORDS_[storage temperature]), 8.154853905423959),\n",
      " (AnnotationKey (TAB_e2_ROW_WORDS_[+150]), 7.62012982887663),\n",
      " (AnnotationKey (TAB_e2_COL_WORDS_[65]), 6.056303695414473),\n",
      " (AnnotationKey (TAB_e2_ROW_WORDS_[%]), 5.75508992719667),\n",
      " (AnnotationKey (TAB_e2_ROW_WORDS_[c]), 5.170811732721998),\n",
      " (AnnotationKey (TAB_e2_COL_WORDS_[+150]), 5.0151702315085345),\n",
      " (AnnotationKey (TAB_e2_ROW_WORDS_[range]), 4.909644840384417),\n",
      " (AnnotationKey (TAB_e2_ROW_WORDS_[temperature range]), 4.909644840384417),\n",
      " (AnnotationKey (TAB_e2_W_LEFT_POS_3_[CD TO CD]), 4.887981932104748),\n",
      " (AnnotationKey (TAB_e2_W_LEFT_3_[_NUMBER to _NUMBER]), 4.887981932104748),\n",
      " (AnnotationKey (TAB_e2_W_LEFT_2_[to _NUMBER]), 4.887981932104748),\n",
      " (AnnotationKey (TAB_e2_W_LEFT_POS_2_[TO CD]), 4.887981932104748),\n",
      " (AnnotationKey (TAB_e2_COL_WORDS_[to]), 4.887223800093614),\n",
      " (AnnotationKey (TAB_e2_ROW_WORDS_[to]), 4.887223800093614),\n",
      " (AnnotationKey (TAB_e2_ROW_WORDS_[150]), 4.268137315404506),\n",
      " (AnnotationKey (TAB_e2_ROW_WORDS_[-55]), 4.092334897241994),\n",
      " (AnnotationKey (TAB_e2_COL_WORDS_[-55]), 4.092334897241994),\n",
      " (AnnotationKey (TAB_e2_W_POS_L_3_R_2_[CD TO CD]_[TO CD]), 4.087826554743423),\n",
      " (AnnotationKey (TAB_e2_W_LEMMA_L_3_R_1_[_NUMBER to _NUMBER]_[to]),\n",
      "  4.087826554743423),\n",
      " (AnnotationKey (TAB_e2_W_RIGHT_POS_2_[TO CD]), 4.087826554743423),\n",
      " (AnnotationKey (TAB_e2_W_LEMMA_L_1_R_1_[_NUMBER]_[to]), 4.087826554743423),\n",
      " (AnnotationKey (TAB_e2_W_LEMMA_L_1_R_2_[_NUMBER]_[to _NUMBER]),\n",
      "  4.087826554743423),\n",
      " (AnnotationKey (TAB_e2_W_RIGHT_POS_1_[TO]), 4.087826554743423),\n",
      " (AnnotationKey (TAB_e2_W_POS_L_1_R_2_[CD]_[TO CD]), 4.087826554743423),\n",
      " (AnnotationKey (TAB_e2_W_RIGHT_2_[to _NUMBER]), 4.087826554743423),\n",
      " (AnnotationKey (TAB_e2_W_LEMMA_L_2_R_1_[to _NUMBER]_[to]), 4.087826554743423),\n",
      " (AnnotationKey (TAB_e2_W_POS_L_2_R_2_[TO CD]_[TO CD]), 4.087826554743423),\n",
      " (AnnotationKey (TAB_e2_W_LEMMA_L_3_R_2_[_NUMBER to _NUMBER]_[to _NUMBER]),\n",
      "  4.087826554743423),\n",
      " (AnnotationKey (TAB_e2_W_POS_L_2_R_1_[TO CD]_[TO]), 4.087826554743423),\n",
      " (AnnotationKey (TAB_e2_W_POS_L_3_R_1_[CD TO CD]_[TO]), 4.087826554743423),\n",
      " (AnnotationKey (TAB_e2_W_LEMMA_L_2_R_2_[to _NUMBER]_[to _NUMBER]),\n",
      "  4.087826554743423),\n",
      " (AnnotationKey (TAB_e2_W_POS_L_1_R_1_[CD]_[TO]), 4.087826554743423),\n",
      " (AnnotationKey (TAB_e2_W_RIGHT_1_[to]), 4.087826554743423),\n",
      " (AnnotationKey (TAB_e2_COL_WORDS_[150]), 4.048551837694061),\n",
      " (AnnotationKey (TAB_e2_COL_WORDS_[100]), 4.03753737630771),\n",
      " (AnnotationKey (TAB_e2_ROW_WORDS_[to +150]), 3.9646963180129853),\n",
      " (AnnotationKey (TAB_e2_COL_WORDS_[to +150]), 3.9646963180129853),\n",
      " (AnnotationKey (TAB_e2_LEMMA_SEQ_[-55]), 3.950743091891253),\n",
      " (AnnotationKey (TAB_e2_WORD_SEQ_[-55]), 3.950743091891253),\n",
      " (AnnotationKey (TAB_e2_ROW_WORDS_[t j]), 3.90753107248462),\n",
      " (AnnotationKey (TAB_e2_ROW_WORDS_[j]), 3.90753107248462),\n",
      " (AnnotationKey (TAB_e2_ROW_WORDS_[65]), 3.884595600109882),\n",
      " (AnnotationKey (TAB_e2_ROW_WORDS_[storage temperature range]),\n",
      "  3.550078068167109),\n",
      " (AnnotationKey (TAB_e2_LEMMA_SEQ_[-]), 3.1435401680641304),\n",
      " (AnnotationKey (TAB_e2_POS_SEQ_[:]), 3.1435401680641304),\n",
      " (AnnotationKey (TAB_e2_WORD_SEQ_[-]), 3.1435401680641304),\n",
      " (AnnotationKey (TAB_e2_ROW_WORDS_[t j ,]), 3.0381740949459446),\n",
      " (AnnotationKey (TAB_e2_ROW_WORDS_[j ,]), 3.0381740949459446),\n",
      " (AnnotationKey (TAB_e2_W_LEFT_1_[_NUMBER]), 3.0317481492370453),\n",
      " (AnnotationKey (TAB_e2_W_LEFT_POS_1_[CD]), 3.0317481492370453),\n",
      " (AnnotationKey (TAB_e2_W_POS_L_1_R_1_[CD]_[CD]), 2.91894275366913),\n",
      " (AnnotationKey (TAB_e2_W_RIGHT_POS_1_[CD]), 2.91894275366913),\n",
      " (AnnotationKey (TAB_e2_ROW_WORDS_[junction temperature]), 2.8897266543401217),\n",
      " (AnnotationKey (TAB_e2_ROW_WORDS_[- 65]), 2.8759590382467453)]\n"
     ]
    }
   ],
   "source": [
    "pprint(all_weights[:60])"
   ]
  },
  {
   "cell_type": "code",
   "execution_count": 27,
   "metadata": {
    "collapsed": false
   },
   "outputs": [
    {
     "name": "stdout",
     "output_type": "stream",
     "text": [
      "2828\n",
      "265\n"
     ]
    }
   ],
   "source": [
    "fp_zetx = set()\n",
    "print(len(fp))\n",
    "for f in fp:\n",
    "    if str(f.part.parent.document) == \"Document ZETXS01948-1\":\n",
    "        fp_zetx.add(f)\n",
    "\n",
    "print(len(fp_zetx))"
   ]
  },
  {
   "cell_type": "code",
   "execution_count": 29,
   "metadata": {
    "collapsed": false
   },
   "outputs": [
    {
     "name": "stdout",
     "output_type": "stream",
     "text": [
      "Part_Temp(ImplicitSpan(\"BC857A-Z3E\", parent=106607, words=[0,0], position=[16]), ImplicitSpan(\"-65\", parent=106275, words=[0,0], position=[0]))\n"
     ]
    }
   ],
   "source": [
    "sample = fp_zetx.pop()"
   ]
  },
  {
   "cell_type": "code",
   "execution_count": 35,
   "metadata": {
    "collapsed": false
   },
   "outputs": [
    {
     "name": "stdout",
     "output_type": "stream",
     "text": [
      "AnnotationKey (TAB_e1_ROW_WORDS_[75])\n",
      "AnnotationKey (TAB_e1_WORD_SEQ_[Group])\n",
      "AnnotationKey (TAB_e1_LEMMA_SEQ_[group])\n",
      "AnnotationKey (TAB_e1_W_LEMMA_L_2_R_1_[group b]_[b])\n",
      "AnnotationKey (TAB_e1_COL_WORDS_[forward])\n",
      "AnnotationKey (TAB_e1_COL_WORDS_[typ])\n",
      "AnnotationKey (TAB_e1_COL_WORDS_[group c])\n",
      "AnnotationKey (TAB_e2_COL_WORDS_[330])\n",
      "AnnotationKey (TAB_e1_ROW_WORDS_[group b])\n",
      "AnnotationKey (TAB_e1_COL_WORDS_[group b])\n",
      "AnnotationKey (TAB_e1_W_LEFT_2_[group b])\n",
      "AnnotationKey (TAB_e2_ROW_WORDS_[-45])\n",
      "AnnotationKey (TAB_e2_ROW_WORDS_[-30])\n",
      "AnnotationKey (TAB_e1_COL_WORDS_[max])\n",
      "AnnotationKey (TAB_e2_COL_WORDS_[-200])\n",
      "AnnotationKey (TAB_e1_ROW_WORDS_[ratio])\n",
      "AnnotationKey (TAB_e1_COL_WORDS_[group a])\n",
      "AnnotationKey (TAB_e1_COL_WORDS_[group])\n",
      "AnnotationKey (TAB_e1_COL_WORDS_[ratio])\n",
      "AnnotationKey (TAB_e1_COL_WORDS_[collector-base capacitance])\n",
      "AnnotationKey (TAB_e1_ROW_WORDS_[group a])\n",
      "AnnotationKey (TAB_e1_ROW_WORDS_[group])\n",
      "AnnotationKey (TAB_e1_ROW_WORDS_[150])\n",
      "AnnotationKey (TAB_e1_ROW_WORDS_[110])\n",
      "AnnotationKey (TAB_e1_ROW_WORDS_[h fe])\n",
      "AnnotationKey (TAB_e1_ROW_WORDS_[fe])\n",
      "AnnotationKey (TAB_e1_ROW_WORDS_[h])\n",
      "AnnotationKey (TAB_e1_COL_WORDS_[h fe])\n",
      "AnnotationKey (TAB_e1_COL_WORDS_[fe])\n",
      "AnnotationKey (TAB_e2_COL_WORDS_[-80])\n",
      "AnnotationKey (TAB_e2_ROW_WORDS_[v ceo])\n",
      "AnnotationKey (TAB_e2_COL_WORDS_[bc856])\n",
      "AnnotationKey (TAB_e2_ROW_WORDS_[collector-emitter voltage])\n",
      "AnnotationKey (TAB_e2_ROW_WORDS_[ceo])\n",
      "AnnotationKey (TAB_e1_COL_WORDS_[capacitance])\n",
      "AnnotationKey (TAB_e1_COL_WORDS_[transition])\n",
      "AnnotationKey (TAB_e1_COL_WORDS_[transition frequency])\n",
      "AnnotationKey (TAB_e1_COL_WORDS_[frequency])\n",
      "AnnotationKey (TAB_e1_COL_WORDS_[collector-base])\n",
      "AnnotationKey (TAB_e1_COL_WORDS_[parameter])\n",
      "AnnotationKey (TAB_e2_ROW_WORDS_[collector-emitter])\n",
      "AnnotationKey (TAB_e2_ROW_NUM_[3])\n",
      "AnnotationKey (TAB_e1_ROW_WORDS_[current])\n",
      "AnnotationKey (TAB_DIFF_TABLE_ROW_DIFF_[-2])\n",
      "AnnotationKey (TAB_e1_ROW_WORDS_[= -5])\n",
      "AnnotationKey (TAB_e1_ROW_WORDS_[= -5 v])\n",
      "AnnotationKey (TAB_e1_ROW_WORDS_[-5])\n",
      "AnnotationKey (TAB_e1_ROW_WORDS_[-5 v])\n",
      "AnnotationKey (TAB_e1_ROW_WORDS_[ce = -5])\n",
      "AnnotationKey (TAB_e1_ROW_WORDS_[-2 ma])\n",
      "AnnotationKey (TAB_e1_ROW_WORDS_[= -2 ma])\n",
      "AnnotationKey (TAB_e1_ROW_WORDS_[c = -2])\n",
      "AnnotationKey (TAB_e1_ROW_WORDS_[-2])\n",
      "AnnotationKey (TAB_e1_ROW_WORDS_[= -2])\n",
      "AnnotationKey (TAB_e2_ROW_WORDS_[voltage])\n",
      "AnnotationKey (TAB_e2_ROW_WORDS_[v])\n",
      "AnnotationKey (TAB_e2_LEMMA_SEQ_[-65])\n",
      "AnnotationKey (TAB_e2_WORD_SEQ_[-65])\n",
      "AnnotationKey (TAB_e2_COL_WORDS_[-5])\n",
      "AnnotationKey (TAB_e2_COL_WORDS_[-65])\n",
      "AnnotationKey (TAB_e2_COL_WORDS_[-100])\n",
      "AnnotationKey (TAB_e2_ROW_WORDS_[-65])\n",
      "AnnotationKey (TAB_e1_W_RIGHT_1_[b])\n",
      "AnnotationKey (TAB_e1_W_RIGHT_POS_1_[NN])\n",
      "AnnotationKey (TAB_e1_W_POS_L_1_R_1_[NN]_[NN])\n",
      "AnnotationKey (TAB_e1_W_LEMMA_L_1_R_1_[b]_[b])\n",
      "AnnotationKey (TAB_e1_COL_WORDS_[h])\n",
      "AnnotationKey (TAB_DIFF_TABLE_MANHATTAN_DIST_[4])\n",
      "AnnotationKey (TAB_e1_W_LEFT_POS_2_[NN NN])\n",
      "AnnotationKey (TAB_e1_W_POS_L_2_R_1_[NN NN]_[NN])\n",
      "AnnotationKey (TAB_e1_ROW_NUM_[1])\n",
      "AnnotationKey (TAB_e1_ROW_WORDS_[, v])\n",
      "AnnotationKey (TAB_e1_ROW_WORDS_[v ce])\n",
      "AnnotationKey (TAB_e1_ROW_WORDS_[ce =])\n",
      "AnnotationKey (TAB_e1_ROW_WORDS_[a])\n",
      "AnnotationKey (TAB_e1_ROW_WORDS_[ce])\n",
      "AnnotationKey (TAB_e1_ROW_WORDS_[, v ce])\n",
      "AnnotationKey (TAB_e1_ROW_WORDS_[v ce =])\n",
      "AnnotationKey (TAB_e1_ROW_WORDS_[ma , v])\n",
      "AnnotationKey (TAB_e1_COL_WORDS_[a])\n",
      "AnnotationKey (TAB_e1_COL_WORDS_[current])\n",
      "AnnotationKey (TAB_e2_W_LEFT_1_[_NUMBER])\n",
      "AnnotationKey (TAB_e2_DEP_SEQ_[ROOT])\n",
      "AnnotationKey (TAB_e2_POS_SEQ_[CD])\n",
      "AnnotationKey (TAB_e2_W_LEFT_POS_1_[CD])\n",
      "AnnotationKey (TAB_e2_HTML_ANC_TAG_[body])\n",
      "AnnotationKey (TAB_e2_HTML_ANC_TAG_[table])\n",
      "AnnotationKey (TAB_e2_HTML_ANC_TAG_[tr])\n",
      "AnnotationKey (TAB_e2_HTML_ATTR_[class])\n",
      "AnnotationKey (TAB_e2_HTML_TAG_p)\n",
      "AnnotationKey (TAB_e2_HTML_ANC_TAG_[td])\n",
      "AnnotationKey (TAB_e2_HTML_ATTR_[style])\n",
      "AnnotationKey (TAB_e2_COL_NUM_[2])\n",
      "AnnotationKey (TAB_e2_HTML_ANC_TAG_[html])\n",
      "AnnotationKey (TAB_e2_LENGTH_1)\n",
      "AnnotationKey (TAB_e2_HTML_ANC_TAG_[p])\n",
      "AnnotationKey (TAB_e2_COL_WORDS_[+150])\n",
      "AnnotationKey (TAB_e1_W_LEFT_1_[b])\n",
      "AnnotationKey (TAB_e2_COL_WORDS_[-55 to +150])\n",
      "AnnotationKey (TAB_e2_COL_WORDS_[to +150])\n",
      "AnnotationKey (TAB_e2_COL_WORDS_[-55])\n",
      "AnnotationKey (TAB_e1_W_LEFT_POS_1_[NN])\n",
      "AnnotationKey (TAB_e2_COL_WORDS_[-55 to])\n",
      "AnnotationKey (TAB_DIFF_TABLE_COL_DIFF_[-2])\n",
      "AnnotationKey (TAB_e2_COL_WORDS_[to])\n",
      "AnnotationKey (TAB_e1_COL_WORDS_[min])\n",
      "AnnotationKey (TAB_e1_POS_SEQ_[NN])\n",
      "AnnotationKey (TAB_e1_DEP_SEQ_[compound])\n",
      "AnnotationKey (TAB_e1_STARTS_WITH_CAPITAL)\n",
      "AnnotationKey (TAB_e1_LENGTH_1)\n",
      "AnnotationKey (TAB_e1_HTML_TAG_p)\n",
      "AnnotationKey (TAB_e1_HTML_ATTR_[style])\n",
      "AnnotationKey (TAB_e1_COL_NUM_[0])\n",
      "AnnotationKey (TAB_e1_HTML_ANC_TAG_[p])\n",
      "AnnotationKey (TAB_e1_HTML_ANC_TAG_[body])\n",
      "AnnotationKey (TAB_e1_ROW_WORDS_[-])\n",
      "AnnotationKey (TAB_e1_HTML_ATTR_[class])\n",
      "AnnotationKey (TAB_e1_ROW_WORDS_[i])\n",
      "AnnotationKey (TAB_e1_HTML_ANC_TAG_[tr])\n",
      "AnnotationKey (TAB_e1_HTML_ANC_TAG_[table])\n",
      "AnnotationKey (TAB_e1_ROW_WORDS_[i c])\n",
      "AnnotationKey (TAB_e1_HTML_ANC_TAG_[html])\n",
      "AnnotationKey (TAB_e1_HTML_ANC_TAG_[td])\n",
      "AnnotationKey (TAB_e1_ROW_WORDS_[=])\n",
      "AnnotationKey (TAB_e1_ROW_WORDS_[ma ,])\n",
      "AnnotationKey (TAB_e1_ROW_WORDS_[v])\n",
      "AnnotationKey (TAB_e1_ROW_WORDS_[i c =])\n",
      "AnnotationKey (TAB_e1_ROW_WORDS_[b])\n",
      "AnnotationKey (TAB_e1_ROW_WORDS_[,])\n",
      "AnnotationKey (TAB_e1_ROW_WORDS_[ma])\n",
      "AnnotationKey (TAB_e1_ROW_WORDS_[c =])\n",
      "AnnotationKey (TAB_e1_ROW_WORDS_[c])\n",
      "AnnotationKey (TAB_e1_COL_WORDS_[c])\n",
      "AnnotationKey (TAB_e1_COL_WORDS_[b])\n"
     ]
    }
   ],
   "source": [
    "from snorkel.utils import get_keys_by_candidate\n",
    "for a in sorted(get_keys_by_candidate(F_dev, sample)):\n",
    "    print a"
   ]
  },
  {
   "cell_type": "code",
   "execution_count": 36,
   "metadata": {
    "collapsed": false
   },
   "outputs": [
    {
     "data": {
      "text/plain": [
       "-1"
      ]
     },
     "execution_count": 36,
     "metadata": {},
     "output_type": "execute_result"
    }
   ],
   "source": [
    "from snorkel.lf_helpers import *\n",
    "def LF_v_row(c):\n",
    "    return -1 if 'v' in get_row_ngrams(c.temp, infer=True) else 0\n",
    "\n",
    "LF_v_row(sample)"
   ]
  },
  {
   "cell_type": "markdown",
   "metadata": {},
   "source": [
    "The End."
   ]
  }
 ],
 "metadata": {
  "anaconda-cloud": {},
  "kernelspec": {
   "display_name": "Python 2",
   "language": "python",
   "name": "python2"
  },
  "language_info": {
   "codemirror_mode": {
    "name": "ipython",
    "version": 2
   },
   "file_extension": ".py",
   "mimetype": "text/x-python",
   "name": "python",
   "nbconvert_exporter": "python",
   "pygments_lexer": "ipython2",
   "version": "2.7.12"
  }
 },
 "nbformat": 4,
 "nbformat_minor": 0
}
