{
 "cells": [
  {
   "cell_type": "code",
   "execution_count": null,
   "metadata": {
    "collapsed": false,
    "scrolled": true
   },
   "outputs": [],
   "source": [
    "import os\n",
    "os.remove('snorkel.db')"
   ]
  },
  {
   "cell_type": "code",
   "execution_count": 1,
   "metadata": {
    "collapsed": true
   },
   "outputs": [],
   "source": [
    "from snorkel import SnorkelSession\n",
    "session = SnorkelSession()\n",
    "\n",
    "import os, sys\n",
    "sys.path.append(os.environ['SNORKELHOME'] + '/tutorials/tables/')"
   ]
  },
  {
   "cell_type": "code",
   "execution_count": 2,
   "metadata": {
    "collapsed": false
   },
   "outputs": [],
   "source": [
    "import os\n",
    "from snorkel.parser import CorpusParser\n",
    "from snorkel.parser import HTMLParser\n",
    "from snorkel.parser import OmniParser\n",
    "\n",
    "doc_parser = HTMLParser(path=os.environ['SNORKELHOME'] + '/tutorials/tables/sandbox/diseases.xhtml')\n",
    "context_parser = OmniParser()\n",
    "cp = CorpusParser(doc_parser, context_parser, max_docs=1)"
   ]
  },
  {
   "cell_type": "code",
   "execution_count": 3,
   "metadata": {
    "collapsed": false
   },
   "outputs": [
    {
     "name": "stdout",
     "output_type": "stream",
     "text": [
      "[========================================] 100%\n",
      "\n",
      "CPU times: user 330 ms, sys: 22.4 ms, total: 352 ms\n",
      "Wall time: 1.07 s\n",
      "31 Phrases in Corpus (Sandbox)\n"
     ]
    }
   ],
   "source": [
    "%time corpus = cp.parse_corpus(name='Sandbox', session=session)\n",
    "print \"%d Phrases in %s\" % (\n",
    "    len([phrase for doc in corpus.documents for phrase in doc.phrases]), corpus)"
   ]
  },
  {
   "cell_type": "code",
   "execution_count": 4,
   "metadata": {
    "collapsed": false
   },
   "outputs": [],
   "source": [
    "# for cell in corpus.documents[0].cells: print cell.text[:10]"
   ]
  },
  {
   "cell_type": "code",
   "execution_count": 5,
   "metadata": {
    "collapsed": false
   },
   "outputs": [],
   "source": [
    "# for phrase in [phrase for doc in corpus.documents for phrase in doc.phrases]:\n",
    "#     print phrase"
   ]
  },
  {
   "cell_type": "code",
   "execution_count": 6,
   "metadata": {
    "collapsed": true
   },
   "outputs": [],
   "source": [
    "# (a,b,c) = (2,(3 if True else 5) ,4)"
   ]
  },
  {
   "cell_type": "code",
   "execution_count": 7,
   "metadata": {
    "collapsed": false
   },
   "outputs": [],
   "source": [
    "from snorkel.models import candidate_subclass\n",
    "\n",
    "# Year = candidate_subclass('Year', ['year'])\n",
    "# Temp = candidate_subclass('Temp', ['temp'])\n",
    "# Disease = candidate_subclass('Disease', ['disease'])\n",
    "# Part = candidate_subclass('Part', ['part'])\n",
    "Disease_Year = candidate_subclass('Disease_Year', ['disease','year'])"
   ]
  },
  {
   "cell_type": "code",
   "execution_count": 8,
   "metadata": {
    "collapsed": false
   },
   "outputs": [],
   "source": [
    "from snorkel.candidates import OmniNgrams\n",
    "from hardware_utils import OmniNgramsPart, OmniNgramsTemp\n",
    "\n",
    "omni_ngrams = OmniNgrams(n_max=3, split_tokens=None)\n",
    "# omni_part = OmniNgramsPart(n_max=3, split_tokens=None)\n",
    "# omni_temp = OmniNgramsTemp(n_max=3, split_tokens=None)"
   ]
  },
  {
   "cell_type": "code",
   "execution_count": 9,
   "metadata": {
    "collapsed": false
   },
   "outputs": [
    {
     "name": "stdout",
     "output_type": "stream",
     "text": [
      "Loaded 22 diseases.\n"
     ]
    }
   ],
   "source": [
    "diseases = ['viruses', 'coughs', 'colds', 'brain', 'cancer', 'shingles', 'warts',\n",
    "              'brain cancer', 'disease', 'location', 'polio', 'chicken pox', \n",
    "              'bubonic plague', 'plague', 'scurvy', 'infectious diseases', \n",
    "              'arthritis', 'yellow fever', 'fever', 'hypochondria', 'pneumonia',\n",
    "              'whooping cough']\n",
    "print \"Loaded %d diseases.\" % len(diseases)"
   ]
  },
  {
   "cell_type": "code",
   "execution_count": 10,
   "metadata": {
    "collapsed": false
   },
   "outputs": [],
   "source": [
    "from snorkel.matchers import DictionaryMatch, RegexMatchEach, RegexMatchSpan, DateMatcher\n",
    "\n",
    "disease_matcher = DictionaryMatch(d=diseases, ignore_case=True)\n",
    "year_matcher = DateMatcher()\n",
    "# part_matcher = RegexMatchEach(rgx='BC.*')\n",
    "# temp_matcher = RegexMatchSpan(rgx=r'-[5-7][05]')"
   ]
  },
  {
   "cell_type": "code",
   "execution_count": 11,
   "metadata": {
    "collapsed": false
   },
   "outputs": [],
   "source": [
    "from snorkel.candidates import CandidateExtractor\n",
    "\n",
    "# ce = CandidateExtractor(Part, [omni_part], [part_matcher])\n",
    "# ce = CandidateExtractor(Disease, [omni_ngrams], [disease_matcher])\n",
    "# ce = CandidateExtractor(Temp, [omni_temp], [temp_matcher])\n",
    "ce = CandidateExtractor(Disease_Year, \n",
    "                        [omni_ngrams, omni_ngrams], \n",
    "                        [disease_matcher, year_matcher])"
   ]
  },
  {
   "cell_type": "code",
   "execution_count": 12,
   "metadata": {
    "collapsed": false
   },
   "outputs": [
    {
     "name": "stdout",
     "output_type": "stream",
     "text": [
      "[========================================] 100%\n",
      "\n",
      "CPU times: user 102 ms, sys: 5.43 ms, total: 107 ms\n",
      "Wall time: 111 ms\n",
      "Candidate Set (Sandbox Candidates) contains 36 Candidates\n"
     ]
    }
   ],
   "source": [
    "%time candidates = ce.extract(corpus.documents, 'Sandbox Candidates', session)\n",
    "print \"%s contains %d Candidates\" % (candidates, len(candidates))"
   ]
  },
  {
   "cell_type": "code",
   "execution_count": 13,
   "metadata": {
    "collapsed": false
   },
   "outputs": [
    {
     "name": "stdout",
     "output_type": "stream",
     "text": [
      "Span(\"Hypochondria\", parent=70, chars=[0,11], words=[0,0])\n",
      "Span(\"Hypochondria\", parent=70, chars=[0,11], words=[0,0])\n",
      "Span(\"coughs\", parent=2, chars=[18,23], words=[4,4])\n",
      "Span(\"coughs\", parent=2, chars=[18,23], words=[4,4])\n",
      "Span(\"warts\", parent=24, chars=[34,38], words=[7,7])\n",
      "Span(\"warts\", parent=24, chars=[34,38], words=[7,7])\n",
      "Span(\"Brain\", parent=3, chars=[0,4], words=[0,0])\n",
      "Span(\"Brain\", parent=3, chars=[0,4], words=[0,0])\n",
      "Span(\"Scurvy\", parent=58, chars=[0,5], words=[0,0])\n",
      "Span(\"Scurvy\", parent=58, chars=[0,5], words=[0,0])\n",
      "Span(\"Infectious diseases\", parent=15, chars=[9,27], words=[3,4])\n",
      "Span(\"Infectious diseases\", parent=15, chars=[9,27], words=[3,4])\n",
      "Span(\"Arthritis\", parent=64, chars=[0,8], words=[0,0])\n",
      "Span(\"Arthritis\", parent=64, chars=[0,8], words=[0,0])\n",
      "Span(\"Brain Cancer\", parent=3, chars=[0,11], words=[0,1])\n",
      "Span(\"Brain Cancer\", parent=3, chars=[0,11], words=[0,1])\n",
      "Span(\"viruses\", parent=2, chars=[9,15], words=[2,2])\n",
      "Span(\"viruses\", parent=2, chars=[9,15], words=[2,2])\n",
      "Span(\"whooping cough\", parent=57, chars=[0,13], words=[0,1])\n",
      "Span(\"whooping cough\", parent=57, chars=[0,13], words=[0,1])\n",
      "Span(\"Pneumonia\", parent=23, chars=[27,35], words=[7,7])\n",
      "Span(\"Pneumonia\", parent=23, chars=[27,35], words=[7,7])\n",
      "Span(\"Location\", parent=50, chars=[0,7], words=[0,0])\n",
      "Span(\"Location\", parent=50, chars=[0,7], words=[0,0])\n",
      "Span(\"Polio\", parent=52, chars=[0,4], words=[0,0])\n",
      "Span(\"Polio\", parent=52, chars=[0,4], words=[0,0])\n",
      "Span(\"Cancer\", parent=3, chars=[6,11], words=[1,1])\n",
      "Span(\"Cancer\", parent=3, chars=[6,11], words=[1,1])\n",
      "Span(\"Disease\", parent=49, chars=[0,6], words=[0,0])\n",
      "Span(\"Disease\", parent=49, chars=[0,6], words=[0,0])\n",
      "Span(\"Shingles\", parent=56, chars=[0,7], words=[0,0])\n",
      "Span(\"Shingles\", parent=56, chars=[0,7], words=[0,0])\n",
      "Span(\"colds\", parent=2, chars=[30,34], words=[7,7])\n",
      "Span(\"colds\", parent=2, chars=[30,34], words=[7,7])\n",
      "Span(\"Fever\", parent=67, chars=[8,12], words=[1,1])\n",
      "Span(\"Fever\", parent=67, chars=[8,12], words=[1,1])\n"
     ]
    }
   ],
   "source": [
    "for c in candidates: print c.disease"
   ]
  },
  {
   "cell_type": "code",
   "execution_count": 16,
   "metadata": {
    "collapsed": false
   },
   "outputs": [
    {
     "name": "stdout",
     "output_type": "stream",
     "text": [
      "Disease_Year(Span(\"whooping cough\", parent=57, chars=[0,13], words=[0,1]), Span(\"1901\", parent=60, chars=[0,3], words=[0,0]))\n"
     ]
    }
   ],
   "source": [
    "c = candidates[19]\n",
    "print c"
   ]
  },
  {
   "cell_type": "code",
   "execution_count": 22,
   "metadata": {
    "collapsed": false
   },
   "outputs": [
    {
     "name": "stdout",
     "output_type": "stream",
     "text": [
      "[u'i', u'do', u\"n't\", u'like', u'chicken', u'pox', u'or', u'pizza', u'.', u'shingles', u'is', u'also', u'bad', u'.', u'%', u'2001']\n",
      "[]\n"
     ]
    }
   ],
   "source": [
    "from snorkel.lf_helpers import get_row_ngrams, get_right_ngrams\n",
    "\n",
    "# print [cell.text[:8] for cell in _get_aligned_cells(root_phrase.cell, axis, infer=infer)]\n",
    "# print [phrase.text for cell in _get_aligned_cells(root_phrase.cell, axis, infer=infer) for phrase in cell.phrases]\n",
    "print list(get_row_ngrams(c.disease, n_max=1, direct=True, infer=True))\n",
    "print list(get_right_ngrams(c.disease, n_max=1))"
   ]
  },
  {
   "cell_type": "code",
   "execution_count": null,
   "metadata": {
    "collapsed": false
   },
   "outputs": [],
   "source": [
    "# for c in candidates: print c"
   ]
  },
  {
   "cell_type": "code",
   "execution_count": null,
   "metadata": {
    "collapsed": false
   },
   "outputs": [],
   "source": [
    "# for c in candidates:\n",
    "#     print c\n",
    "c = candidates[14]\n",
    "print c\n",
    "print c.disease.parent.document\n",
    "print c.disease.parent.table\n",
    "# print c.disease.parent.row\n",
    "# print c.disease.parent.col\n",
    "print c.disease.parent.cell\n",
    "print c.disease.parent"
   ]
  },
  {
   "cell_type": "code",
   "execution_count": null,
   "metadata": {
    "collapsed": false
   },
   "outputs": [],
   "source": [
    "from snorkel.models import CandidateSet\n",
    "train = CandidateSet(name='train', candidates=candidates[:25])\n",
    "dev = CandidateSet(name='test', candidates=candidates[25:])\n",
    "print len(train)\n",
    "print train[0]\n",
    "print len(dev)\n",
    "print dev[0]"
   ]
  },
  {
   "cell_type": "code",
   "execution_count": null,
   "metadata": {
    "collapsed": false
   },
   "outputs": [],
   "source": [
    "print len(train)"
   ]
  },
  {
   "cell_type": "code",
   "execution_count": null,
   "metadata": {
    "collapsed": false
   },
   "outputs": [],
   "source": [
    "from snorkel.annotations import FeatureManager\n",
    "\n",
    "feature_manager = FeatureManager()\n",
    "%time F_train = feature_manager.create(session, train, 'Sandbox Features')\n",
    "F_train\n",
    "\n",
    "# from snorkel.features import get_span_feats\n",
    "# c = candidates[10]\n",
    "# %prun for feat in get_span_feats(c): print feat"
   ]
  },
  {
   "cell_type": "code",
   "execution_count": null,
   "metadata": {
    "collapsed": false
   },
   "outputs": [],
   "source": [
    "# other_manager = FeatureManager()\n",
    "# %time G_train = feature_manager.create(session, dev, 'Other Features')\n",
    "# G_train"
   ]
  },
  {
   "cell_type": "code",
   "execution_count": null,
   "metadata": {
    "collapsed": false
   },
   "outputs": [],
   "source": [
    "# F_train + G_train"
   ]
  },
  {
   "cell_type": "code",
   "execution_count": null,
   "metadata": {
    "collapsed": false
   },
   "outputs": [],
   "source": [
    "c = candidates[25]\n",
    "print c\n",
    "print c.disease.parent.row_num\n",
    "print c.disease.parent.row\n",
    "print c.disease.parent.col_num\n",
    "print c.disease.parent.col"
   ]
  },
  {
   "cell_type": "code",
   "execution_count": null,
   "metadata": {
    "collapsed": false
   },
   "outputs": [],
   "source": [
    "from snorkel.utils import get_keys_by_candidate\n",
    "\n",
    "print candidates[22]\n",
    "print \"Limited number of features being shown:\"\n",
    "for f in get_keys_by_candidate(F_train, F_train.get_candidate(22))[:]: print f"
   ]
  },
  {
   "cell_type": "code",
   "execution_count": null,
   "metadata": {
    "collapsed": false
   },
   "outputs": [],
   "source": [
    "# c = candidates[0]\n",
    "# print c\n",
    "# print c.year\n",
    "# print c.year.parent\n",
    "# print c.year.char_start\n",
    "# print c.year.char_end\n",
    "# print c.year.parent.words\n",
    "# print c.year.parent.char_offsets\n",
    "# print c.year.parent.lemmas\n",
    "# print c.year.parent.pos_tags\n",
    "# print c.year.parent.ner_tags\n",
    "# print c.year.parent.dep_parents\n",
    "# print c.year.parent.dep_labels\n",
    "# print c.year.get_word_start()\n",
    "# print c.year.get_word_end()\n",
    "# # print get_row_ngrams(c.year)\n",
    "# # print get_row_ngrams(c.year, infer=True)\n",
    "# %time for i in range(1000): _get_aligned_cells((c.year).parent.cell, 'col', infer=True)"
   ]
  },
  {
   "cell_type": "code",
   "execution_count": null,
   "metadata": {
    "collapsed": false
   },
   "outputs": [],
   "source": [
    "# from snorkel.models import Span, ImplicitSpan, TemporarySpan\n",
    "\n",
    "# print isinstance(c.year, TemporarySpan)"
   ]
  },
  {
   "cell_type": "code",
   "execution_count": null,
   "metadata": {
    "collapsed": true
   },
   "outputs": [],
   "source": [
    "# from snorkel.lf_helpers import get_between_ngrams, get_left_ngrams, get_right_ngrams\n",
    "# from snorkel.lf_helpers import contains_token, contains_regex\n",
    "# from snorkel.lf_helpers import get_phrase_ngrams, get_cell_ngrams, get_neighbor_cell_ngrams\n",
    "# from snorkel.lf_helpers import get_row_ngrams, get_col_ngrams, get_aligned_ngrams\n",
    "# from snorkel.lf_helpers import same_document, same_table, same_cell, same_phrase\n",
    "# from snorkel.lf_helpers import _get_aligned_cells, _get_nonempty_cell"
   ]
  },
  {
   "cell_type": "code",
   "execution_count": null,
   "metadata": {
    "collapsed": false
   },
   "outputs": [],
   "source": [
    "# print get_left_ngrams(c.disease)\n",
    "# print get_right_ngrams(c.disease)\n",
    "# print contains_token(c, 'plague')\n",
    "# print contains_regex(c, r'pla')\n",
    "# print same_document(c)\n",
    "# print same_table(c)\n",
    "# print same_cell(c)\n",
    "# print same_phrase(c)\n",
    "# print get_phrase_ngrams(c.disease, n_min=1, n_max=3, case_sensitive=True)\n",
    "# print get_cell_ngrams(c.disease, attrib='pos_tags')\n",
    "# print get_neighbor_cell_ngrams(c.disease, dist=2, directions=True)\n",
    "# print get_row_ngrams(c.disease)\n",
    "# print get_col_ngrams(c.disease)\n",
    "# print get_aligned_ngrams(c.disease)\n",
    "# print get_aligned_ngrams(c.disease, infer=True)"
   ]
  },
  {
   "cell_type": "code",
   "execution_count": null,
   "metadata": {
    "collapsed": false
   },
   "outputs": [],
   "source": [
    "# from hardware_utils import expand_implicit_text \n",
    "\n",
    "# for part in expand_implicit_text(''.join(['BC856/857/858', '/', '859/860'])): print part"
   ]
  },
  {
   "cell_type": "code",
   "execution_count": null,
   "metadata": {
    "collapsed": false
   },
   "outputs": [],
   "source": [
    "# def foo(n):\n",
    "#     phrase = 'repeat me'\n",
    "#     pmul = phrase * n\n",
    "#     pjoi = ''.join([phrase for x in xrange(n)])\n",
    "#     pinc = ''\n",
    "#     for x in xrange(n):\n",
    "#         pinc += phrase\n",
    "#     del pmul, pjoi, pinc"
   ]
  },
  {
   "cell_type": "code",
   "execution_count": null,
   "metadata": {
    "collapsed": false
   },
   "outputs": [],
   "source": [
    "# %lprun -f foo foo(1000)"
   ]
  },
  {
   "cell_type": "code",
   "execution_count": null,
   "metadata": {
    "collapsed": false
   },
   "outputs": [],
   "source": [
    "# from hardware_utils import get_gold_dict\n",
    "\n",
    "# filename = os.environ['SNORKELHOME'] + '/tutorials/tables/data/hardware/hardware_gold.csv'\n",
    "# gold_dict = get_gold_dict(filename, 'stg_temp_min')"
   ]
  },
  {
   "cell_type": "code",
   "execution_count": null,
   "metadata": {
    "collapsed": false
   },
   "outputs": [],
   "source": [
    "# print len(gold_dict.values())\n",
    "# print gold_dict.values().count(1)"
   ]
  },
  {
   "cell_type": "code",
   "execution_count": null,
   "metadata": {
    "collapsed": false
   },
   "outputs": [],
   "source": [
    "# from hardware_utils import count_hardware_labels\n",
    "\n",
    "# filename = os.environ['SNORKELHOME'] + '/tutorials/tables/data/hardware/hardware_gold.csv'\n",
    "# %time (certain, maybe) = count_hardware_labels(loader, candidates, filename, attrib='stg_temp_min', attrib_class='temp')"
   ]
  },
  {
   "cell_type": "code",
   "execution_count": null,
   "metadata": {
    "collapsed": false
   },
   "outputs": [],
   "source": [
    "%time \n",
    "for i in range(10000): \n",
    "    for j in range(100):\n",
    "        1 + 1"
   ]
  },
  {
   "cell_type": "code",
   "execution_count": null,
   "metadata": {
    "collapsed": true
   },
   "outputs": [],
   "source": []
  }
 ],
 "metadata": {
  "anaconda-cloud": {},
  "kernelspec": {
   "display_name": "Python [default]",
   "language": "python",
   "name": "python2"
  },
  "language_info": {
   "codemirror_mode": {
    "name": "ipython",
    "version": 2
   },
   "file_extension": ".py",
   "mimetype": "text/x-python",
   "name": "python",
   "nbconvert_exporter": "python",
   "pygments_lexer": "ipython2",
   "version": "2.7.10"
  }
 },
 "nbformat": 4,
 "nbformat_minor": 0
}
