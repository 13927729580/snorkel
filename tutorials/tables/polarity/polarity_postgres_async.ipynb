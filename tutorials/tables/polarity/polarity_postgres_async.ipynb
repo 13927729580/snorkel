{
 "cells": [
  {
   "cell_type": "markdown",
   "metadata": {},
   "source": [
    "# polarity"
   ]
  },
  {
   "cell_type": "markdown",
   "metadata": {},
   "source": [
    "## Setup"
   ]
  },
  {
   "cell_type": "code",
   "execution_count": 1,
   "metadata": {
    "collapsed": false
   },
   "outputs": [],
   "source": [
    "%load_ext autoreload\n",
    "%autoreload 2\n",
    "%matplotlib inline\n",
    "\n",
    "import os\n",
    "import sys\n",
    "sys.path.append(os.environ['SNORKELHOME'] + '/tutorials/tables/')"
   ]
  },
  {
   "cell_type": "markdown",
   "metadata": {},
   "source": [
    "## Clearing db"
   ]
  },
  {
   "cell_type": "code",
   "execution_count": 2,
   "metadata": {
    "collapsed": false
   },
   "outputs": [],
   "source": [
    "from snorkel.models.meta import clear_database\n",
    "clear_database()"
   ]
  },
  {
   "cell_type": "markdown",
   "metadata": {},
   "source": [
    "## Parsing"
   ]
  },
  {
   "cell_type": "code",
   "execution_count": 3,
   "metadata": {
    "collapsed": true
   },
   "outputs": [],
   "source": [
    "from snorkel import SnorkelSession\n",
    "session = SnorkelSession()"
   ]
  },
  {
   "cell_type": "markdown",
   "metadata": {},
   "source": [
    "### Define Parser"
   ]
  },
  {
   "cell_type": "code",
   "execution_count": 4,
   "metadata": {
    "collapsed": true
   },
   "outputs": [],
   "source": [
    "import os\n",
    "from snorkel.parser import CorpusParser, HTMLParser, OmniParser\n",
    "from snorkel.utils import get_ORM_instance\n",
    "from snorkel.queries import split_corpus\n",
    "\n",
    "docs_path = os.environ['SNORKELHOME'] + '/tutorials/tables/data/hardware/hardware100_html/'\n",
    "pdf_path = os.environ['SNORKELHOME'] + '/tutorials/tables/data/hardware/hardware100_pdf/'\n",
    "doc_parser = HTMLParser(path=docs_path)\n",
    "context_parser = OmniParser(pdf_path=pdf_path, visual=True, session=session)\n",
    "cp = CorpusParser(doc_parser, context_parser, max_docs=10) "
   ]
  },
  {
   "cell_type": "markdown",
   "metadata": {},
   "source": [
    "### Run Parser"
   ]
  },
  {
   "cell_type": "code",
   "execution_count": 5,
   "metadata": {
    "collapsed": false,
    "scrolled": true
   },
   "outputs": [
    {
     "name": "stdout",
     "output_type": "stream",
     "text": [
      "[========================================] 100%\n",
      "CPU times: user 4.66 s, sys: 248 ms, total: 4.91 s\n",
      "Wall time: 8.21 s\n"
     ]
    }
   ],
   "source": [
    "%time corpus = cp.parse_corpus(name='Hardware', session=session)\n",
    "\n",
    "session.add(corpus)\n",
    "session.commit()"
   ]
  },
  {
   "cell_type": "markdown",
   "metadata": {},
   "source": [
    "### Split Corpus"
   ]
  },
  {
   "cell_type": "code",
   "execution_count": 6,
   "metadata": {
    "collapsed": false
   },
   "outputs": [
    {
     "name": "stdout",
     "output_type": "stream",
     "text": [
      "6 Documents added to corpus Hardware Training\n",
      "4 Documents added to corpus Hardware Development\n"
     ]
    }
   ],
   "source": [
    "from snorkel.models import Corpus\n",
    "\n",
    "corpus = get_ORM_instance(Corpus, session, 'Hardware')\n",
    "split_corpus(session, corpus, train=0.6, development=0.4, test=0, seed=3)"
   ]
  },
  {
   "cell_type": "markdown",
   "metadata": {},
   "source": [
    "## Extraction"
   ]
  },
  {
   "cell_type": "code",
   "execution_count": 7,
   "metadata": {
    "collapsed": false
   },
   "outputs": [],
   "source": [
    "from snorkel.models import candidate_subclass\n",
    "\n",
    "Part_Polarity = candidate_subclass('Part_Polarity', ['part','polarity'])"
   ]
  },
  {
   "cell_type": "markdown",
   "metadata": {},
   "source": [
    "### Define Matchers"
   ]
  },
  {
   "cell_type": "code",
   "execution_count": 8,
   "metadata": {
    "collapsed": true
   },
   "outputs": [],
   "source": [
    "from snorkel.matchers import RegexMatchSpan, Union\n",
    "\n",
    "eeca_matcher = RegexMatchSpan(rgx='([b]{1}[abcdefklnpqruyz]{1}[\\swxyz]?[0-9]{3,5}[\\s]?[A-Z\\/]{0,5}[0-9]?[A-Z]?([-][A-Z0-9]{1,7})?([-][A-Z0-9]{1,2})?)')\n",
    "jedec_matcher = RegexMatchSpan(rgx='([123]N\\d{3,4}[A-Z]{0,5}[0-9]?[A-Z]?)')\n",
    "jis_matcher = RegexMatchSpan(rgx='(2S[abcdefghjkmqrstvz]{1}[\\d]{2,4})')\n",
    "others_matcher = RegexMatchSpan(rgx='((NSVBC|SMBT|MJ|MJE|MPS|MRF|RCA|TIP|ZTX|ZT|TIS|TIPL|DTC|MMBT|PZT){1}[\\d]{2,4}[A-Z]{0,3}([-][A-Z0-9]{0,6})?([-][A-Z0-9]{0,1})?)')\n",
    "parts_matcher = Union(eeca_matcher, jedec_matcher, jis_matcher, others_matcher)\n",
    "\n",
    "polarity_matcher = RegexMatchSpan(rgx=r'(pnp|npn)', ignore_case=True)"
   ]
  },
  {
   "cell_type": "markdown",
   "metadata": {},
   "source": [
    "### Define ContextSpaces"
   ]
  },
  {
   "cell_type": "code",
   "execution_count": 9,
   "metadata": {
    "collapsed": false
   },
   "outputs": [],
   "source": [
    "from snorkel.candidates import OmniNgrams\n",
    "from hardware_utils import OmniNgramsPart, get_gold_dict\n",
    "from collections import defaultdict\n",
    "import os\n",
    "\n",
    "# Make parts list\n",
    "gold_file = os.environ['SNORKELHOME'] + '/tutorials/tables/data/hardware/hardware_gold.csv'\n",
    "gold_parts = get_gold_dict(gold_file, doc_on=True, part_on=True, val_on=False)\n",
    "parts_by_doc = defaultdict(set)\n",
    "for part in gold_parts:\n",
    "    parts_by_doc[part[0]].add(part[1])\n",
    "\n",
    "part_ngrams = OmniNgramsPart(n_max=3, parts_by_doc=None) # NOTE: linking is turned off\n",
    "polarity_ngrams = OmniNgrams(n_max=1)"
   ]
  },
  {
   "cell_type": "markdown",
   "metadata": {},
   "source": [
    "### Run CandidateExtractor"
   ]
  },
  {
   "cell_type": "code",
   "execution_count": 10,
   "metadata": {
    "collapsed": false
   },
   "outputs": [
    {
     "name": "stdout",
     "output_type": "stream",
     "text": [
      "Extracting Candidates from Corpus (Hardware Training)\n",
      "[========================================] 100%\n",
      "CPU times: user 864 ms, sys: 12 ms, total: 876 ms\n",
      "Wall time: 1.07 s\n",
      "Candidate Set (Hardware Training Candidates) contains 385 Candidates\n",
      "Extracting Candidates from Corpus (Hardware Development)\n",
      "[========================================] 100%\n",
      "CPU times: user 396 ms, sys: 16 ms, total: 412 ms\n",
      "Wall time: 486 ms\n",
      "Candidate Set (Hardware Development Candidates) contains 130 Candidates\n"
     ]
    }
   ],
   "source": [
    "from snorkel.models import Corpus\n",
    "from snorkel.candidates import CandidateExtractor\n",
    "from snorkel.utils import get_ORM_instance\n",
    "ce = CandidateExtractor(Part_Polarity, \n",
    "                        [part_ngrams, polarity_ngrams], \n",
    "                        [parts_matcher, polarity_matcher], \n",
    "                        throttler=None)\n",
    "\n",
    "for corpus_name in ['Hardware Training', 'Hardware Development']:\n",
    "    corpus = get_ORM_instance(Corpus, session, corpus_name)\n",
    "    print \"Extracting Candidates from %s\" % corpus\n",
    "    %time candidates = ce.extract(\\\n",
    "        corpus.documents, corpus_name + ' Candidates', session)\n",
    "    session.add(candidates)\n",
    "    print \"%s contains %d Candidates\" % (candidates, len(candidates))\n",
    "session.commit()"
   ]
  },
  {
   "cell_type": "markdown",
   "metadata": {},
   "source": [
    "### Assess Recall"
   ]
  },
  {
   "cell_type": "code",
   "execution_count": 11,
   "metadata": {
    "collapsed": false
   },
   "outputs": [
    {
     "name": "stdout",
     "output_type": "stream",
     "text": [
      "Preparing candidates...\n",
      "[========================================] 100%\n",
      "========================================\n",
      "Scoring on Entity-Level Total Recall\n",
      "========================================\n",
      "Entity-level Candidates extracted: 93 \n",
      "Entity-level Gold: 829\n",
      "Intersection Candidates: 52\n",
      "----------------------------------------\n",
      "Overlap with Gold:  0.0627\n",
      "========================================\n",
      "\n"
     ]
    }
   ],
   "source": [
    "from snorkel.models import Candidate\n",
    "from hardware_utils import entity_level_total_recall\n",
    "\n",
    "all_candidates = session.query(Candidate).all()\n",
    "gold_file = os.environ['SNORKELHOME'] + '/tutorials/tables/data/hardware/hardware_gold.csv'\n",
    "(tp, fp, fn) = entity_level_total_recall(\n",
    "    all_candidates, gold_file, 'polarity', relation=True)"
   ]
  },
  {
   "cell_type": "code",
   "execution_count": 12,
   "metadata": {
    "collapsed": false
   },
   "outputs": [
    {
     "name": "stdout",
     "output_type": "stream",
     "text": [
      "set([('112823', 'BC546', 'NPN'),\n",
      "     ('112823', 'BC546B', 'NPN'),\n",
      "     ('112823', 'BC546BG', 'NPN'),\n",
      "     ('112823', 'BC546BRL1', 'NPN'),\n",
      "     ('112823', 'BC546BRL1G', 'NPN'),\n",
      "     ('112823', 'BC546BZL1G', 'NPN'),\n",
      "     ('112823', 'BC547', 'NPN'),\n",
      "     ('112823', 'BC547A', 'NPN'),\n",
      "     ('112823', 'BC547ARL', 'NPN'),\n",
      "     ('112823', 'BC547ARLG', 'NPN'),\n",
      "     ('112823', 'BC547AZL1G', 'NPN'),\n",
      "     ('112823', 'BC547B', 'NPN'),\n",
      "     ('112823', 'BC547BG', 'NPN'),\n",
      "     ('112823', 'BC547BRL1G', 'NPN'),\n",
      "     ('112823', 'BC547BZL1G', 'NPN'),\n",
      "     ('112823', 'BC547C', 'NPN'),\n",
      "     ('112823', 'BC547CG', 'NPN'),\n",
      "     ('112823', 'BC547CZL1G', 'NPN'),\n",
      "     ('112823', 'BC548', 'NPN'),\n",
      "     ('112823', 'BC548B', 'NPN'),\n",
      "     ('112823', 'BC548BG', 'NPN'),\n",
      "     ('112823', 'BC548BRL1G', 'NPN'),\n",
      "     ('112823', 'BC548BZL1G', 'NPN'),\n",
      "     ('112823', 'BC548C', 'NPN'),\n",
      "     ('112823', 'BC548CG', 'NPN'),\n",
      "     ('112823', 'BC548CZL1G', 'NPN'),\n",
      "     ('2N3906', '2N3906', 'PNP'),\n",
      "     ('2N3906', '2N3906BU', 'PNP'),\n",
      "     ('2N3906', '2N3906TA', 'PNP'),\n",
      "     ('2N3906', '2N3906TAR', 'PNP'),\n",
      "     ('2N3906', '2N3906TF', 'PNP'),\n",
      "     ('2N3906', '2N3906TFR', 'PNP'),\n",
      "     ('2N3906', 'MMBT3906', 'PNP'),\n",
      "     ('2N3906', 'PZT3906', 'PNP'),\n",
      "     ('2N3906-D', '2N3906', 'PNP'),\n",
      "     ('2N3906-D', '2N3906G', 'PNP'),\n",
      "     ('2N3906-D', '2N3906RL1', 'PNP'),\n",
      "     ('2N3906-D', '2N3906RL1G', 'PNP'),\n",
      "     ('2N3906-D', '2N3906RLRA', 'PNP'),\n",
      "     ('2N3906-D', '2N3906RLRAG', 'PNP'),\n",
      "     ('2N3906-D', '2N3906RLRM', 'PNP'),\n",
      "     ('2N3906-D', '2N3906RLRMG', 'PNP'),\n",
      "     ('2N3906-D', '2N3906RLRP', 'PNP'),\n",
      "     ('2N3906-D', '2N3906RLRPG', 'PNP'),\n",
      "     ('2N4123-D', '2N4123', 'NPN'),\n",
      "     ('2N4123-D', '2N4123RLRM', 'NPN'),\n",
      "     ('2N4123-D', '2N4124', 'NPN'),\n",
      "     ('2N4123-D', '2N4124G', 'NPN'),\n",
      "     ('2N4124', '2N4124', 'NPN'),\n",
      "     ('2N4124', 'MMBT4124', 'NPN'),\n",
      "     ('2N6426-D', '2N6426', 'NPN'),\n",
      "     ('2N6426-D', '2N6426G', 'NPN'),\n",
      "     ('2N6426-D', '2N6426RLRAG', 'NPN'),\n",
      "     ('2N6426-D', '2N6427', 'NPN'),\n",
      "     ('2N6426-D', '2N6427G', 'NPN'),\n",
      "     ('2N6426-D', '2N6427RLRAG', 'NPN'),\n",
      "     ('2N6427', '2N6427', 'NPN'),\n",
      "     ('2N6427', 'MMBT6427', 'NPN'),\n",
      "     ('AUKCS04635-1', '2N3906', 'PNP'),\n",
      "     ('BC182', 'BC182', 'NPN'),\n",
      "     ('BC337', 'BC337', 'NPN'),\n",
      "     ('BC337', 'BC337-16', 'NPN'),\n",
      "     ('BC337', 'BC337-25', 'NPN'),\n",
      "     ('BC337', 'BC337-40', 'NPN'),\n",
      "     ('BC337', 'BC33716BU', 'NPN'),\n",
      "     ('BC337', 'BC33716TA', 'NPN'),\n",
      "     ('BC337', 'BC33716TFR', 'NPN'),\n",
      "     ('BC337', 'BC33725BU', 'NPN'),\n",
      "     ('BC337', 'BC33725TA', 'NPN'),\n",
      "     ('BC337', 'BC33725TAR', 'NPN'),\n",
      "     ('BC337', 'BC33725TF', 'NPN'),\n",
      "     ('BC337', 'BC33725TFR', 'NPN'),\n",
      "     ('BC337', 'BC33740TA', 'NPN'),\n",
      "     ('BC337', 'BC338', 'NPN'),\n",
      "     ('BC337', 'BC338-25', 'NPN'),\n",
      "     ('BC337', 'BC33825TA', 'NPN'),\n",
      "     ('BC337-D', 'BC337', 'NPN'),\n",
      "     ('BC337-D', 'BC337-025G', 'NPN'),\n",
      "     ('BC337-D', 'BC337-040G', 'NPN'),\n",
      "     ('BC337-D', 'BC337-25', 'NPN'),\n",
      "     ('BC337-D', 'BC337-25RL1G', 'NPN'),\n",
      "     ('BC337-D', 'BC337-25RLRAG', 'NPN'),\n",
      "     ('BC337-D', 'BC337-25ZL1G', 'NPN'),\n",
      "     ('BC337-D', 'BC337-40', 'NPN'),\n",
      "     ('BC337-D', 'BC337-40RL1G', 'NPN'),\n",
      "     ('BC337-D', 'BC337-40ZL1G', 'NPN'),\n",
      "     ('BC337-D', 'BC337G', 'NPN'),\n",
      "     ('BC337-D', 'BC337RL1G', 'NPN'),\n",
      "     ('BC546', 'BC546', 'NPN'),\n",
      "     ('BC546', 'BC546A', 'NPN'),\n",
      "     ('BC546', 'BC546ABU', 'NPN'),\n",
      "     ('BC546', 'BC546ATA', 'NPN'),\n",
      "     ('BC546', 'BC546B', 'NPN'),\n",
      "     ('BC546', 'BC546BTA', 'NPN'),\n",
      "     ('BC546', 'BC546BTF', 'NPN'),\n",
      "     ('BC546', 'BC546C', 'NPN'),\n",
      "     ('BC546', 'BC546CTA', 'NPN'),\n",
      "     ('BC546', 'BC547', 'NPN'),\n",
      "     ('BC546', 'BC547A', 'NPN'),\n",
      "     ('BC546', 'BC547ATA', 'NPN'),\n",
      "     ('BC546', 'BC547B', 'NPN'),\n",
      "     ('BC546', 'BC547BBU', 'NPN'),\n",
      "     ('BC546', 'BC547BTA', 'NPN'),\n",
      "     ('BC546', 'BC547BTF', 'NPN'),\n",
      "     ('BC546', 'BC547C', 'NPN'),\n",
      "     ('BC546', 'BC547CBU', 'NPN'),\n",
      "     ('BC546', 'BC547CTA', 'NPN'),\n",
      "     ('BC546', 'BC547CTFR', 'NPN'),\n",
      "     ('BC546', 'BC548', 'NPN'),\n",
      "     ('BC546', 'BC548B', 'NPN'),\n",
      "     ('BC546', 'BC548BTA', 'NPN'),\n",
      "     ('BC546', 'BC548BU', 'NPN'),\n",
      "     ('BC546', 'BC548C', 'NPN'),\n",
      "     ('BC546', 'BC548CTA', 'NPN'),\n",
      "     ('BC546', 'BC549', 'NPN'),\n",
      "     ('BC546', 'BC549B', 'NPN'),\n",
      "     ('BC546', 'BC549BTA', 'NPN'),\n",
      "     ('BC546', 'BC549BTF', 'NPN'),\n",
      "     ('BC546', 'BC549C', 'NPN'),\n",
      "     ('BC546', 'BC549CTA', 'NPN'),\n",
      "     ('BC546', 'BC550', 'NPN'),\n",
      "     ('BC546', 'BC550C', 'NPN'),\n",
      "     ('BC546', 'BC550CBU', 'NPN'),\n",
      "     ('BC546', 'BC550CTA', 'NPN'),\n",
      "     ('BC546-BC548C(TO-92)', 'BC546', 'NPN'),\n",
      "     ('BC546-BC548C(TO-92)', 'BC546B', 'NPN'),\n",
      "     ('BC546-BC548C(TO-92)', 'BC547', 'NPN'),\n",
      "     ('BC546-BC548C(TO-92)', 'BC547A', 'NPN'),\n",
      "     ('BC546-BC548C(TO-92)', 'BC547B', 'NPN'),\n",
      "     ('BC546-BC548C(TO-92)', 'BC547C', 'NPN'),\n",
      "     ('BC546-BC548C(TO-92)', 'BC548', 'NPN'),\n",
      "     ('BC546-BC548C(TO-92)', 'BC548A', 'NPN'),\n",
      "     ('BC546-BC548C(TO-92)', 'BC548B', 'NPN'),\n",
      "     ('BC546-BC548C(TO-92)', 'BC548C', 'NPN'),\n",
      "     ('BC546-D', 'BC546', 'NPN'),\n",
      "     ('BC546-D', 'BC546B', 'NPN'),\n",
      "     ('BC546-D', 'BC546BG', 'NPN'),\n",
      "     ('BC546-D', 'BC546BRL1', 'NPN'),\n",
      "     ('BC546-D', 'BC546BRL1G', 'NPN'),\n",
      "     ('BC546-D', 'BC546BZL1G', 'NPN'),\n",
      "     ('BC546-D', 'BC547', 'NPN'),\n",
      "     ('BC546-D', 'BC547A', 'NPN'),\n",
      "     ('BC546-D', 'BC547ARL', 'NPN'),\n",
      "     ('BC546-D', 'BC547ARLG', 'NPN'),\n",
      "     ('BC546-D', 'BC547AZL1G', 'NPN'),\n",
      "     ('BC546-D', 'BC547B', 'NPN'),\n",
      "     ('BC546-D', 'BC547BG', 'NPN'),\n",
      "     ('BC546-D', 'BC547BRL1G', 'NPN'),\n",
      "     ('BC546-D', 'BC547BZL1G', 'NPN'),\n",
      "     ('BC546-D', 'BC547C', 'NPN'),\n",
      "     ('BC546-D', 'BC547CG', 'NPN'),\n",
      "     ('BC546-D', 'BC547CZL1G', 'NPN'),\n",
      "     ('BC546-D', 'BC548', 'NPN'),\n",
      "     ('BC546-D', 'BC548B', 'NPN'),\n",
      "     ('BC546-D', 'BC548BG', 'NPN'),\n",
      "     ('BC546-D', 'BC548BRL1G', 'NPN'),\n",
      "     ('BC546-D', 'BC548BZL1G', 'NPN'),\n",
      "     ('BC546-D', 'BC548C', 'NPN'),\n",
      "     ('BC546-D', 'BC548CG', 'NPN'),\n",
      "     ('BC546-D', 'BC548CZL1G', 'NPN'),\n",
      "     ('BC546A_SERIES_B14-521026', 'BC546', 'NPN'),\n",
      "     ('BC546A_SERIES_B14-521026', 'BC546A', 'NPN'),\n",
      "     ('BC546A_SERIES_B14-521026', 'BC546B', 'NPN'),\n",
      "     ('BC546A_SERIES_B14-521026', 'BC546C', 'NPN'),\n",
      "     ('BC546A_SERIES_B14-521026', 'BC547', 'NPN'),\n",
      "     ('BC546A_SERIES_B14-521026', 'BC547A', 'NPN'),\n",
      "     ('BC546A_SERIES_B14-521026', 'BC547B', 'NPN'),\n",
      "     ('BC546A_SERIES_B14-521026', 'BC547C', 'NPN'),\n",
      "     ('BC546A_SERIES_B14-521026', 'BC548', 'NPN'),\n",
      "     ('BC546A_SERIES_B14-521026', 'BC548A', 'NPN'),\n",
      "     ('BC546A_SERIES_B14-521026', 'BC548B', 'NPN'),\n",
      "     ('BC546A_SERIES_B14-521026', 'BC548C', 'NPN'),\n",
      "     ('BC546A_SERIES_B14-521026', 'BC549', 'NPN'),\n",
      "     ('BC546A_SERIES_B14-521026', 'BC549A', 'NPN'),\n",
      "     ('BC546A_SERIES_B14-521026', 'BC549B', 'NPN'),\n",
      "     ('BC546A_SERIES_B14-521026', 'BC549C', 'NPN'),\n",
      "     ('BC546A_SERIES_B14-521026', 'BC550', 'NPN'),\n",
      "     ('BC546A_SERIES_B14-521026', 'BC550A', 'NPN'),\n",
      "     ('BC546A_SERIES_B14-521026', 'BC550B', 'NPN'),\n",
      "     ('BC546A_SERIES_B14-521026', 'BC550C', 'NPN'),\n",
      "     ('BC546_DIOTEC', 'BC546', 'NPN'),\n",
      "     ('BC546_DIOTEC', 'BC546A', 'NPN'),\n",
      "     ('BC546_DIOTEC', 'BC546B', 'NPN'),\n",
      "     ('BC546_DIOTEC', 'BC547', 'NPN'),\n",
      "     ('BC546_DIOTEC', 'BC547A', 'NPN'),\n",
      "     ('BC546_DIOTEC', 'BC547B', 'NPN'),\n",
      "     ('BC546_DIOTEC', 'BC547C', 'NPN'),\n",
      "     ('BC546_DIOTEC', 'BC548', 'NPN'),\n",
      "     ('BC546_DIOTEC', 'BC548A', 'NPN'),\n",
      "     ('BC546_DIOTEC', 'BC548B', 'NPN'),\n",
      "     ('BC546_DIOTEC', 'BC548C', 'NPN'),\n",
      "     ('BC546_DIOTEC', 'BC549', 'NPN'),\n",
      "     ('BC546_DIOTEC', 'BC549B', 'NPN'),\n",
      "     ('BC546_DIOTEC', 'BC549C', 'NPN'),\n",
      "     ('BC547', 'BC546', 'NPN'),\n",
      "     ('BC547', 'BC546A', 'NPN'),\n",
      "     ('BC547', 'BC546ABU', 'NPN'),\n",
      "     ('BC547', 'BC546ATA', 'NPN'),\n",
      "     ('BC547', 'BC546B', 'NPN'),\n",
      "     ('BC547', 'BC546BTA', 'NPN'),\n",
      "     ('BC547', 'BC546BTF', 'NPN'),\n",
      "     ('BC547', 'BC546C', 'NPN'),\n",
      "     ('BC547', 'BC546CTA', 'NPN'),\n",
      "     ('BC547', 'BC547', 'NPN'),\n",
      "     ('BC547', 'BC547A', 'NPN'),\n",
      "     ('BC547', 'BC547ATA', 'NPN'),\n",
      "     ('BC547', 'BC547B', 'NPN'),\n",
      "     ('BC547', 'BC547BBU', 'NPN'),\n",
      "     ('BC547', 'BC547BTA', 'NPN'),\n",
      "     ('BC547', 'BC547BTF', 'NPN'),\n",
      "     ('BC547', 'BC547C', 'NPN'),\n",
      "     ('BC547', 'BC547CBU', 'NPN'),\n",
      "     ('BC547', 'BC547CTA', 'NPN'),\n",
      "     ('BC547', 'BC547CTFR', 'NPN'),\n",
      "     ('BC547', 'BC548', 'NPN'),\n",
      "     ('BC547', 'BC548B', 'NPN'),\n",
      "     ('BC547', 'BC548BTA', 'NPN'),\n",
      "     ('BC547', 'BC548C', 'NPN'),\n",
      "     ('BC547', 'BC548CTA', 'NPN'),\n",
      "     ('BC547', 'BC549', 'NPN'),\n",
      "     ('BC547', 'BC549B', 'NPN'),\n",
      "     ('BC547', 'BC549BTA', 'NPN'),\n",
      "     ('BC547', 'BC549BTF', 'NPN'),\n",
      "     ('BC547', 'BC549C', 'NPN'),\n",
      "     ('BC547', 'BC549CTA', 'NPN'),\n",
      "     ('BC547', 'BC550', 'NPN'),\n",
      "     ('BC547', 'BC550C', 'NPN'),\n",
      "     ('BC547', 'BC550CBU', 'NPN'),\n",
      "     ('BC547', 'BC550CTA', 'NPN'),\n",
      "     ('BC550', 'BC546', 'NPN'),\n",
      "     ('BC550', 'BC546A', 'NPN'),\n",
      "     ('BC550', 'BC546B', 'NPN'),\n",
      "     ('BC550', 'BC546C', 'NPN'),\n",
      "     ('BC550', 'BC547', 'NPN'),\n",
      "     ('BC550', 'BC547A', 'NPN'),\n",
      "     ('BC550', 'BC547B', 'NPN'),\n",
      "     ('BC550', 'BC547C', 'NPN'),\n",
      "     ('BC550', 'BC548', 'NPN'),\n",
      "     ('BC550', 'BC548A', 'NPN'),\n",
      "     ('BC550', 'BC548B', 'NPN'),\n",
      "     ('BC550', 'BC548C', 'NPN'),\n",
      "     ('BC550', 'BC549', 'NPN'),\n",
      "     ('BC550', 'BC549A', 'NPN'),\n",
      "     ('BC550', 'BC549B', 'NPN'),\n",
      "     ('BC550', 'BC549C', 'NPN'),\n",
      "     ('BC550', 'BC550', 'NPN'),\n",
      "     ('BC550', 'BC550A', 'NPN'),\n",
      "     ('BC550', 'BC550B', 'NPN'),\n",
      "     ('BC550', 'BC550C', 'NPN'),\n",
      "     ('BC818', 'BC817', 'NPN'),\n",
      "     ('BC818', 'BC817-16', 'NPN'),\n",
      "     ('BC818', 'BC817-25', 'NPN'),\n",
      "     ('BC818', 'BC817-40', 'NPN'),\n",
      "     ('BC818', 'BC81716MTF', 'NPN'),\n",
      "     ('BC818', 'BC81725MTF', 'NPN'),\n",
      "     ('BC818', 'BC81740MTF', 'NPN'),\n",
      "     ('BC818', 'BC818', 'NPN'),\n",
      "     ('BC818', 'BC818-16', 'NPN'),\n",
      "     ('BC818', 'BC818-25', 'NPN'),\n",
      "     ('BC818', 'BC818-40', 'NPN'),\n",
      "     ('BC818', 'BC81816MTF', 'NPN'),\n",
      "     ('BC818', 'BC81825MTF', 'NPN'),\n",
      "     ('BC818', 'BC81840MTF', 'NPN'),\n",
      "     ('BC818-40LT1-D', 'BC818-40L', 'NPN'),\n",
      "     ('BC818-40LT1-D', 'BC818-40LT1G', 'NPN'),\n",
      "     ('BC818-40LT1-D', 'NSVBC818-40L', 'NPN'),\n",
      "     ('BC818-40LT1-D', 'NSVBC818-40LT1G', 'NPN'),\n",
      "     ('CSEMS02742-1', 'BC846', 'NPN'),\n",
      "     ('CSEMS02742-1', 'BC846A', 'NPN'),\n",
      "     ('CSEMS02742-1', 'BC846B', 'NPN'),\n",
      "     ('CSEMS02742-1', 'BC847', 'NPN'),\n",
      "     ('CSEMS02742-1', 'BC847A', 'NPN'),\n",
      "     ('CSEMS02742-1', 'BC847B', 'NPN'),\n",
      "     ('CSEMS02742-1', 'BC847C', 'NPN'),\n",
      "     ('CSEMS02742-1', 'BC848', 'NPN'),\n",
      "     ('CSEMS02742-1', 'BC848A', 'NPN'),\n",
      "     ('CSEMS02742-1', 'BC848B', 'NPN'),\n",
      "     ('CSEMS02742-1', 'BC848C', 'NPN'),\n",
      "     ('CSEMS03485-1', '2N3905', 'PNP'),\n",
      "     ('CSEMS03485-1', '2N3906', 'PNP'),\n",
      "     ('CSEMS05382-1', 'BC546', 'NPN'),\n",
      "     ('CSEMS05382-1', 'BC546A', 'NPN'),\n",
      "     ('CSEMS05382-1', 'BC546B', 'NPN'),\n",
      "     ('CSEMS05382-1', 'BC547', 'NPN'),\n",
      "     ('CSEMS05382-1', 'BC547A', 'NPN'),\n",
      "     ('CSEMS05382-1', 'BC547B', 'NPN'),\n",
      "     ('CSEMS05382-1', 'BC547C', 'NPN'),\n",
      "     ('CSEMS05382-1', 'BC548', 'NPN'),\n",
      "     ('CSEMS05382-1', 'BC548A', 'NPN'),\n",
      "     ('CSEMS05382-1', 'BC548B', 'NPN'),\n",
      "     ('CSEMS05382-1', 'BC548C', 'NPN'),\n",
      "     ('CSEMS05383-1', 'BC817', 'NPN'),\n",
      "     ('CSEMS05383-1', 'BC817-16', 'NPN'),\n",
      "     ('CSEMS05383-1', 'BC817-25', 'NPN'),\n",
      "     ('CSEMS05383-1', 'BC817-40', 'NPN'),\n",
      "     ('CSEMS05383-1', 'BC818', 'NPN'),\n",
      "     ('CSEMS05383-1', 'BC818-16', 'NPN'),\n",
      "     ('CSEMS05383-1', 'BC818-25', 'NPN'),\n",
      "     ('CSEMS05383-1', 'BC818-40', 'NPN'),\n",
      "     ('DIODS00215-1', '2N4124', 'NPN'),\n",
      "     ('DISES00023-1', '2N3906', 'PNP'),\n",
      "     ('DISES00189-1', 'BC546', 'NPN'),\n",
      "     ('DISES00189-1', 'BC546A', 'NPN'),\n",
      "     ('DISES00189-1', 'BC546B', 'NPN'),\n",
      "     ('DISES00189-1', 'BC547', 'NPN'),\n",
      "     ('DISES00189-1', 'BC547A', 'NPN'),\n",
      "     ('DISES00189-1', 'BC547B', 'NPN'),\n",
      "     ('DISES00189-1', 'BC547C', 'NPN'),\n",
      "     ('DISES00189-1', 'BC548', 'NPN'),\n",
      "     ('DISES00189-1', 'BC548A', 'NPN'),\n",
      "     ('DISES00189-1', 'BC548B', 'NPN'),\n",
      "     ('DISES00189-1', 'BC548C', 'NPN'),\n",
      "     ('DISES00189-1', 'BC549', 'NPN'),\n",
      "     ('DISES00189-1', 'BC549B', 'NPN'),\n",
      "     ('DISES00189-1', 'BC549C', 'NPN'),\n",
      "     ('DISES00192-1', 'BC807', 'PNP'),\n",
      "     ('DISES00192-1', 'BC807-16', 'PNP'),\n",
      "     ('DISES00192-1', 'BC807-25', 'PNP'),\n",
      "     ('DISES00192-1', 'BC807-40', 'PNP'),\n",
      "     ('DISES00192-1', 'BC808', 'PNP'),\n",
      "     ('DISES00192-1', 'BC808-16', 'PNP'),\n",
      "     ('DISES00192-1', 'BC808-25', 'PNP'),\n",
      "     ('DISES00192-1', 'BC808-40', 'PNP'),\n",
      "     ('DISES00242-1', 'MMBT3904', 'NPN'),\n",
      "     ('DISES00490-1', 'BC846AW', 'NPN'),\n",
      "     ('DISES00490-1', 'BC846BW', 'NPN'),\n",
      "     ('DISES00490-1', 'BC846W', 'NPN'),\n",
      "     ('DISES00490-1', 'BC847AW', 'NPN'),\n",
      "     ('DISES00490-1', 'BC847BW', 'NPN'),\n",
      "     ('DISES00490-1', 'BC847CW', 'NPN'),\n",
      "     ('DISES00490-1', 'BC847W', 'NPN'),\n",
      "     ('DISES00490-1', 'BC848AW', 'NPN'),\n",
      "     ('DISES00490-1', 'BC848BW', 'NPN'),\n",
      "     ('DISES00490-1', 'BC848CW', 'NPN'),\n",
      "     ('DISES00490-1', 'BC848W', 'NPN'),\n",
      "     ('DISES00490-1', 'BC849BW', 'NPN'),\n",
      "     ('DISES00490-1', 'BC849CW', 'NPN'),\n",
      "     ('DISES00490-1', 'BC849W', 'NPN'),\n",
      "     ('DISES00616-1', 'BC856', 'PNP'),\n",
      "     ('DISES00616-1', 'BC856A', 'PNP'),\n",
      "     ('DISES00616-1', 'BC856B', 'PNP'),\n",
      "     ('DISES00616-1', 'BC856C', 'PNP'),\n",
      "     ('DISES00616-1', 'BC857', 'PNP'),\n",
      "     ('DISES00616-1', 'BC857A', 'PNP'),\n",
      "     ('DISES00616-1', 'BC857B', 'PNP'),\n",
      "     ('DISES00616-1', 'BC857C', 'PNP'),\n",
      "     ('DISES00616-1', 'BC858', 'PNP'),\n",
      "     ('DISES00616-1', 'BC858A', 'PNP'),\n",
      "     ('DISES00616-1', 'BC858B', 'PNP'),\n",
      "     ('DISES00616-1', 'BC858C', 'PNP'),\n",
      "     ('DISES00616-1', 'BC859', 'PNP'),\n",
      "     ('DISES00616-1', 'BC859B', 'PNP'),\n",
      "     ('DISES00616-1', 'BC859C', 'PNP'),\n",
      "     ('DISES00616-1', 'BC860', 'PNP'),\n",
      "     ('DISES00616-1', 'BC860B', 'PNP'),\n",
      "     ('DISES00616-1', 'BC860C', 'PNP'),\n",
      "     ('DTC114W', 'DTC114W', 'NPN'),\n",
      "     ('DTC114W', 'DTC114WE', 'NPN'),\n",
      "     ('DTC114W', 'DTC114WKA', 'NPN'),\n",
      "     ('DTC114W', 'DTC114WUA', 'NPN'),\n",
      "     ('FAIRS19194-1', 'BC856A', 'PNP'),\n",
      "     ('FAIRS19194-1', 'BC856B', 'PNP'),\n",
      "     ('FAIRS19194-1', 'BC856C', 'PNP'),\n",
      "     ('FAIRS19194-1', 'BC857A', 'PNP'),\n",
      "     ('FAIRS19194-1', 'BC857B', 'PNP'),\n",
      "     ('FAIRS19194-1', 'BC857C', 'PNP'),\n",
      "     ('FAIRS19194-1', 'BC858A', 'PNP'),\n",
      "     ('FAIRS19194-1', 'BC858B', 'PNP'),\n",
      "     ('FAIRS19194-1', 'BC858C', 'PNP'),\n",
      "     ('FAIRS19194-1', 'BC859A', 'PNP'),\n",
      "     ('FAIRS19194-1', 'BC859B', 'PNP'),\n",
      "     ('FAIRS19194-1', 'BC859C', 'PNP'),\n",
      "     ('FAIRS19194-1', 'BC860A', 'PNP'),\n",
      "     ('FAIRS19194-1', 'BC860B', 'PNP'),\n",
      "     ('FAIRS19194-1', 'BC860C', 'PNP'),\n",
      "     ('FAIRS25065-1', 'BC237', 'NPN'),\n",
      "     ('FAIRS25065-1', 'BC237A', 'NPN'),\n",
      "     ('FAIRS25065-1', 'BC237B', 'NPN'),\n",
      "     ('FAIRS25065-1', 'BC237C', 'NPN'),\n",
      "     ('FAIRS25065-1', 'BC238', 'NPN'),\n",
      "     ('FAIRS25065-1', 'BC238A', 'NPN'),\n",
      "     ('FAIRS25065-1', 'BC238B', 'NPN'),\n",
      "     ('FAIRS25065-1', 'BC238C', 'NPN'),\n",
      "     ('FAIRS25065-1', 'BC239', 'NPN'),\n",
      "     ('FAIRS25065-1', 'BC239A', 'NPN'),\n",
      "     ('FAIRS25065-1', 'BC239B', 'NPN'),\n",
      "     ('FAIRS25065-1', 'BC239C', 'NPN'),\n",
      "     ('INFINEON-BC817KSERIES_BC818KSERIES-DS-V01_01-EN', 'BC817K', 'NPN'),\n",
      "     ('INFINEON-BC817KSERIES_BC818KSERIES-DS-V01_01-EN', 'BC817K-16', 'NPN'),\n",
      "     ('INFINEON-BC817KSERIES_BC818KSERIES-DS-V01_01-EN', 'BC817K-16W', 'NPN'),\n",
      "     ('INFINEON-BC817KSERIES_BC818KSERIES-DS-V01_01-EN', 'BC817K-25', 'NPN'),\n",
      "     ('INFINEON-BC817KSERIES_BC818KSERIES-DS-V01_01-EN', 'BC817K-25W', 'NPN'),\n",
      "     ('INFINEON-BC817KSERIES_BC818KSERIES-DS-V01_01-EN', 'BC817K-40', 'NPN'),\n",
      "     ('INFINEON-BC817KSERIES_BC818KSERIES-DS-V01_01-EN', 'BC817K-40W', 'NPN'),\n",
      "     ('INFINEON-BC817KSERIES_BC818KSERIES-DS-V01_01-EN', 'BC817KW', 'NPN'),\n",
      "     ('INFINEON-BC817KSERIES_BC818KSERIES-DS-V01_01-EN', 'BC818K', 'NPN'),\n",
      "     ('INFINEON-BC817KSERIES_BC818KSERIES-DS-V01_01-EN', 'BC818K-16W', 'NPN'),\n",
      "     ('INFINEON-BC817KSERIES_BC818KSERIES-DS-V01_01-EN', 'BC818K-40', 'NPN'),\n",
      "     ('INFINEON-BC817KSERIES_BC818KSERIES-DS-V01_01-EN', 'BC818KW', 'NPN'),\n",
      "     ('INFINEON-BC857SERIES_BC858SERIES_BC859SERIES_BC860SERIES-DS-V01_01-EN',\n",
      "      'BC857',\n",
      "      'PNP'),\n",
      "     ('INFINEON-BC857SERIES_BC858SERIES_BC859SERIES_BC860SERIES-DS-V01_01-EN',\n",
      "      'BC857A',\n",
      "      'PNP'),\n",
      "     ('INFINEON-BC857SERIES_BC858SERIES_BC859SERIES_BC860SERIES-DS-V01_01-EN',\n",
      "      'BC857B',\n",
      "      'PNP'),\n",
      "     ('INFINEON-BC857SERIES_BC858SERIES_BC859SERIES_BC860SERIES-DS-V01_01-EN',\n",
      "      'BC857BL3',\n",
      "      'PNP'),\n",
      "     ('INFINEON-BC857SERIES_BC858SERIES_BC859SERIES_BC860SERIES-DS-V01_01-EN',\n",
      "      'BC857BW',\n",
      "      'PNP'),\n",
      "     ('INFINEON-BC857SERIES_BC858SERIES_BC859SERIES_BC860SERIES-DS-V01_01-EN',\n",
      "      'BC857C',\n",
      "      'PNP'),\n",
      "     ('INFINEON-BC857SERIES_BC858SERIES_BC859SERIES_BC860SERIES-DS-V01_01-EN',\n",
      "      'BC857CW',\n",
      "      'PNP'),\n",
      "     ('INFINEON-BC857SERIES_BC858SERIES_BC859SERIES_BC860SERIES-DS-V01_01-EN',\n",
      "      'BC858',\n",
      "      'PNP'),\n",
      "     ('INFINEON-BC857SERIES_BC858SERIES_BC859SERIES_BC860SERIES-DS-V01_01-EN',\n",
      "      'BC858A',\n",
      "      'PNP'),\n",
      "     ('INFINEON-BC857SERIES_BC858SERIES_BC859SERIES_BC860SERIES-DS-V01_01-EN',\n",
      "      'BC858B',\n",
      "      'PNP'),\n",
      "     ('INFINEON-BC857SERIES_BC858SERIES_BC859SERIES_BC860SERIES-DS-V01_01-EN',\n",
      "      'BC858BW',\n",
      "      'PNP'),\n",
      "     ('INFINEON-BC857SERIES_BC858SERIES_BC859SERIES_BC860SERIES-DS-V01_01-EN',\n",
      "      'BC858C',\n",
      "      'PNP'),\n",
      "     ('INFINEON-BC857SERIES_BC858SERIES_BC859SERIES_BC860SERIES-DS-V01_01-EN',\n",
      "      'BC858CW',\n",
      "      'PNP'),\n",
      "     ('INFINEON-BC857SERIES_BC858SERIES_BC859SERIES_BC860SERIES-DS-V01_01-EN',\n",
      "      'BC859',\n",
      "      'PNP'),\n",
      "     ('INFINEON-BC857SERIES_BC858SERIES_BC859SERIES_BC860SERIES-DS-V01_01-EN',\n",
      "      'BC859C',\n",
      "      'PNP'),\n",
      "     ('INFINEON-BC857SERIES_BC858SERIES_BC859SERIES_BC860SERIES-DS-V01_01-EN',\n",
      "      'BC860',\n",
      "      'PNP'),\n",
      "     ('INFINEON-BC857SERIES_BC858SERIES_BC859SERIES_BC860SERIES-DS-V01_01-EN',\n",
      "      'BC860B',\n",
      "      'PNP'),\n",
      "     ('INFINEON-BC857SERIES_BC858SERIES_BC859SERIES_BC860SERIES-DS-V01_01-EN',\n",
      "      'BC860BW',\n",
      "      'PNP'),\n",
      "     ('INFINEON-BC857SERIES_BC858SERIES_BC859SERIES_BC860SERIES-DS-V01_01-EN',\n",
      "      'BC860CW',\n",
      "      'PNP'),\n",
      "     ('INFNS19372-1', 'MMBT3904', 'NPN'),\n",
      "     ('INFNS19372-1', 'SMBT3904', 'NPN'),\n",
      "     ('INFNS19372-1', 'SMBT3904S', 'NPN'),\n",
      "     ('JCSTS01155-1', '2N4124', 'NPN'),\n",
      "     ('KECCS03676-1', 'BC856', 'PNP'),\n",
      "     ('KECCS03676-1', 'BC856A', 'PNP'),\n",
      "     ('KECCS03676-1', 'BC856B', 'PNP'),\n",
      "     ('KECCS03676-1', 'BC857', 'PNP'),\n",
      "     ('KECCS03676-1', 'BC857A', 'PNP'),\n",
      "     ('KECCS03676-1', 'BC857B', 'PNP'),\n",
      "     ('KECCS03676-1', 'BC857C', 'PNP'),\n",
      "     ('KECCS03676-1', 'BC858', 'PNP'),\n",
      "     ('KECCS03676-1', 'BC858A', 'PNP'),\n",
      "     ('KECCS03676-1', 'BC858B', 'PNP'),\n",
      "     ('KECCS03676-1', 'BC858C', 'PNP'),\n",
      "     ('KECCS05435-1', 'BC546A', 'NPN'),\n",
      "     ('KECCS05435-1', 'BC546B', 'NPN'),\n",
      "     ('KECCS05435-1', 'BC547A', 'NPN'),\n",
      "     ('KECCS05435-1', 'BC547B', 'NPN'),\n",
      "     ('KECCS05435-1', 'BC547C', 'NPN'),\n",
      "     ('KECCS05435-1', 'BC548A', 'NPN'),\n",
      "     ('KECCS05435-1', 'BC548B', 'NPN'),\n",
      "     ('KECCS05435-1', 'BC548C', 'NPN'),\n",
      "     ('LITES00424-1', '2N3906', 'PNP'),\n",
      "     ('LITES00686-1', '2N4124', 'NPN'),\n",
      "     ('LITES00689-1', 'BC337', 'NPN'),\n",
      "     ('LITES00689-1', 'BC337-16', 'NPN'),\n",
      "     ('LITES00689-1', 'BC337-25', 'NPN'),\n",
      "     ('LITES00689-1', 'BC337-40', 'NPN'),\n",
      "     ('LITES00690-1', 'BC546', 'NPN'),\n",
      "     ('LITES00690-1', 'BC546A', 'NPN'),\n",
      "     ('LITES00690-1', 'BC546B', 'NPN'),\n",
      "     ('LITES00690-1', 'BC546C', 'NPN'),\n",
      "     ('LITES00690-1', 'BC547', 'NPN'),\n",
      "     ('LITES00690-1', 'BC547A', 'NPN'),\n",
      "     ('LITES00690-1', 'BC547B', 'NPN'),\n",
      "     ('LITES00690-1', 'BC547C', 'NPN'),\n",
      "     ('LITES00690-1', 'BC548', 'NPN'),\n",
      "     ('LITES00690-1', 'BC548A', 'NPN'),\n",
      "     ('LITES00690-1', 'BC548B', 'NPN'),\n",
      "     ('LITES00690-1', 'BC548C', 'NPN'),\n",
      "     ('LTSCS02910-1', 'BC818', 'NPN'),\n",
      "     ('LTSCS02910-1', 'BC818-16', 'NPN'),\n",
      "     ('LTSCS02910-1', 'BC818-25', 'NPN'),\n",
      "     ('LTSCS02910-1', 'BC818-40', 'NPN'),\n",
      "     ('LTSCS02912-1', 'BC846AW', 'NPN'),\n",
      "     ('LTSCS02912-1', 'BC846BW', 'NPN'),\n",
      "     ('LTSCS02912-1', 'BC846W', 'NPN'),\n",
      "     ('LTSCS02920-1', 'BC857', 'PNP'),\n",
      "     ('LTSCS02920-1', 'BC857A', 'PNP'),\n",
      "     ('LTSCS02920-1', 'BC857B', 'PNP'),\n",
      "     ('LTSCS02920-1', 'BC857C', 'PNP'),\n",
      "     ('MCCCS08610-1', '2N4123', 'NPN'),\n",
      "     ('MCCCS08610-1', '2N4124', 'NPN'),\n",
      "     ('MCCCS08984-1', 'MMBT3904', 'NPN'),\n",
      "     ('MCCCS09540-1', 'BC846', 'NPN'),\n",
      "     ('MCCCS09540-1', 'BC846A', 'NPN'),\n",
      "     ('MCCCS09540-1', 'BC846B', 'NPN'),\n",
      "     ('MCCCS09540-1', 'BC847', 'NPN'),\n",
      "     ('MCCCS09540-1', 'BC847A', 'NPN'),\n",
      "     ('MCCCS09540-1', 'BC847B', 'NPN'),\n",
      "     ('MCCCS09540-1', 'BC847C', 'NPN'),\n",
      "     ('MCCCS09540-1', 'BC848', 'NPN'),\n",
      "     ('MCCCS09540-1', 'BC848A', 'NPN'),\n",
      "     ('MCCCS09540-1', 'BC848B', 'NPN'),\n",
      "     ('MCCCS09540-1', 'BC848C', 'NPN'),\n",
      "     ('MCCCS09540-1', 'BC849', 'NPN'),\n",
      "     ('MCCCS09540-1', 'BC849B', 'NPN'),\n",
      "     ('MCCCS09540-1', 'BC849C', 'NPN'),\n",
      "     ('MINDS00015-1', '2N3904', 'NPN'),\n",
      "     ('MINDS00015-1', 'MMBT3904', 'NPN'),\n",
      "     ('MMMCS17742-1', 'BC807-16W', 'PNP'),\n",
      "     ('MMMCS17742-1', 'BC807-25W', 'PNP'),\n",
      "     ('MMMCS17742-1', 'BC807-40W', 'PNP'),\n",
      "     ('MOTOS03160-1', 'BC182', 'NPN'),\n",
      "     ('MOTOS03160-1', 'BC182A', 'NPN'),\n",
      "     ('MOTOS03160-1', 'BC182B', 'NPN'),\n",
      "     ('MOTOS03160-1', 'BC183', 'NPN'),\n",
      "     ('MOTOS03160-1', 'BC184', 'NPN'),\n",
      "     ('MOTOS03189-1', 'BC337', 'NPN'),\n",
      "     ('MOTOS03189-1', 'BC337-16', 'NPN'),\n",
      "     ('MOTOS03189-1', 'BC337-25', 'NPN'),\n",
      "     ('MOTOS03189-1', 'BC337-40', 'NPN'),\n",
      "     ('MOTOS03189-1', 'BC338', 'NPN'),\n",
      "     ('MOTOS03189-1', 'BC338-16', 'NPN'),\n",
      "     ('MOTOS03189-1', 'BC338-25', 'NPN'),\n",
      "     ('MOTOS03189-1', 'BC338-40', 'NPN'),\n",
      "     ('MOTOS04676-1', '2N4123', 'NPN'),\n",
      "     ('MOTOS04676-1', '2N4124', 'NPN'),\n",
      "     ('MOTOS04796-1', '2N6426', 'NPN'),\n",
      "     ('MOTOS04796-1', '2N6427', 'NPN'),\n",
      "     ('ONSMS04099-1', 'BC237', 'NPN'),\n",
      "     ('ONSMS04099-1', 'BC237A', 'NPN'),\n",
      "     ('ONSMS04099-1', 'BC237B', 'NPN'),\n",
      "     ('ONSMS04099-1', 'BC237C', 'NPN'),\n",
      "     ('ONSMS04099-1', 'BC238', 'NPN'),\n",
      "     ('ONSMS04099-1', 'BC238B', 'NPN'),\n",
      "     ('ONSMS04099-1', 'BC238C', 'NPN'),\n",
      "     ('ONSMS04099-1', 'BC239', 'NPN'),\n",
      "     ('ONSMS04099-1', 'BC239C', 'NPN'),\n",
      "     ('PHGLS18216-1', 'BC547', 'NPN'),\n",
      "     ('PHGLS18216-1', 'BC547B', 'NPN'),\n",
      "     ('PHGLS18216-1', 'BC547C', 'NPN'),\n",
      "     ('PHGLS18216-1', 'BC847', 'NPN'),\n",
      "     ('PHGLS18216-1', 'BC847A', 'NPN'),\n",
      "     ('PHGLS18216-1', 'BC847AM', 'NPN'),\n",
      "     ('PHGLS18216-1', 'BC847AT', 'NPN'),\n",
      "     ('PHGLS18216-1', 'BC847AT/DG', 'NPN'),\n",
      "     ('PHGLS18216-1', 'BC847AW', 'NPN'),\n",
      "     ('PHGLS18216-1', 'BC847B', 'NPN'),\n",
      "     ('PHGLS18216-1', 'BC847B/DG', 'NPN'),\n",
      "     ('PHGLS18216-1', 'BC847BM', 'NPN'),\n",
      "     ('PHGLS18216-1', 'BC847BT', 'NPN'),\n",
      "     ('PHGLS18216-1', 'BC847BW', 'NPN'),\n",
      "     ('PHGLS18216-1', 'BC847BW/DG', 'NPN'),\n",
      "     ('PHGLS18216-1', 'BC847C', 'NPN'),\n",
      "     ('PHGLS18216-1', 'BC847CM', 'NPN'),\n",
      "     ('PHGLS18216-1', 'BC847CT', 'NPN'),\n",
      "     ('PHGLS18216-1', 'BC847CW', 'NPN'),\n",
      "     ('PHGLS18216-1', 'BC847T', 'NPN'),\n",
      "     ('PHGLS18216-1', 'BC847W', 'NPN'),\n",
      "     ('PHGLS19500-1', 'MMBT3904', 'NPN'),\n",
      "     ('PHGLS20125-1', 'BC327', 'PNP'),\n",
      "     ('PHGLS20125-1', 'BC327-16', 'PNP'),\n",
      "     ('PHGLS20125-1', 'BC327-25', 'PNP'),\n",
      "     ('PHGLS20125-1', 'BC327-40', 'PNP'),\n",
      "     ('PHGLS20125-1', 'BC807', 'PNP'),\n",
      "     ('PHGLS20125-1', 'BC807-16', 'PNP'),\n",
      "     ('PHGLS20125-1', 'BC807-16W', 'PNP'),\n",
      "     ('PHGLS20125-1', 'BC807-25', 'PNP'),\n",
      "     ('PHGLS20125-1', 'BC807-25W', 'PNP'),\n",
      "     ('PHGLS20125-1', 'BC807-40', 'PNP'),\n",
      "     ('PHGLS20125-1', 'BC807-40W', 'PNP'),\n",
      "     ('PHGLS20125-1', 'BC807W', 'PNP'),\n",
      "     ('PHGLS20126-1', 'BC337', 'NPN'),\n",
      "     ('PHGLS20126-1', 'BC337-16', 'NPN'),\n",
      "     ('PHGLS20126-1', 'BC337-25', 'NPN'),\n",
      "     ('PHGLS20126-1', 'BC337-40', 'NPN'),\n",
      "     ('PHGLS20126-1', 'BC817', 'NPN'),\n",
      "     ('PHGLS20126-1', 'BC817-16', 'NPN'),\n",
      "     ('PHGLS20126-1', 'BC817-16W', 'NPN'),\n",
      "     ('PHGLS20126-1', 'BC817-25', 'NPN'),\n",
      "     ('PHGLS20126-1', 'BC817-25W', 'NPN'),\n",
      "     ('PHGLS20126-1', 'BC817-40', 'NPN'),\n",
      "     ('PHGLS20126-1', 'BC817-40W', 'NPN'),\n",
      "     ('PHGLS20126-1', 'BC817W', 'NPN'),\n",
      "     ('PHGLS20267-1', '2N4124', 'NPN'),\n",
      "     ('PHGLS25601-1', 'BC846', 'NPN'),\n",
      "     ('PHGLS25601-1', 'BC846A', 'NPN'),\n",
      "     ('PHGLS25601-1', 'BC846AT', 'NPN'),\n",
      "     ('PHGLS25601-1', 'BC846AW', 'NPN'),\n",
      "     ('PHGLS25601-1', 'BC846B', 'NPN'),\n",
      "     ('PHGLS25601-1', 'BC846BT', 'NPN'),\n",
      "     ('PHGLS25601-1', 'BC846BW', 'NPN'),\n",
      "     ('PHGLS25601-1', 'BC846T', 'NPN'),\n",
      "     ('PHGLS25601-1', 'BC846W', 'NPN'),\n",
      "     ('PJECS00521-1', 'MMBT3904', 'NPN'),\n",
      "     ('PNJIS00254-1', 'BC807-16W', 'PNP'),\n",
      "     ('PNJIS00254-1', 'BC807-25W', 'PNP'),\n",
      "     ('PNJIS00254-1', 'BC807-40W', 'PNP'),\n",
      "     ('PNJIS01186-1', 'BC807-16', 'PNP'),\n",
      "     ('PNJIS01186-1', 'BC807-25', 'PNP'),\n",
      "     ('PNJIS01186-1', 'BC807-40', 'PNP'),\n",
      "     ('PNJIS01305-1', 'MMBT3904', 'NPN'),\n",
      "     ('PNJIS01453-1', 'BC846', 'NPN'),\n",
      "     ('PNJIS01453-1', 'BC846A', 'NPN'),\n",
      "     ('PNJIS01453-1', 'BC846B', 'NPN'),\n",
      "     ('PNJIS01453-1', 'BC847', 'NPN'),\n",
      "     ('PNJIS01453-1', 'BC847A', 'NPN'),\n",
      "     ('PNJIS01453-1', 'BC847B', 'NPN'),\n",
      "     ('PNJIS01453-1', 'BC847C', 'NPN'),\n",
      "     ('PNJIS01453-1', 'BC848', 'NPN'),\n",
      "     ('PNJIS01453-1', 'BC848A', 'NPN'),\n",
      "     ('PNJIS01453-1', 'BC848B', 'NPN'),\n",
      "     ('PNJIS01453-1', 'BC848C', 'NPN'),\n",
      "     ('PNJIS01453-1', 'BC849', 'NPN'),\n",
      "     ('PNJIS01453-1', 'BC849B', 'NPN'),\n",
      "     ('PNJIS01453-1', 'BC849C', 'NPN'),\n",
      "     ('PNJIS01453-1', 'BC850', 'NPN'),\n",
      "     ('PNJIS01453-1', 'BC850B', 'NPN'),\n",
      "     ('PNJIS01453-1', 'BC850C', 'NPN'),\n",
      "     ('PNJIS01593-1', 'BC856', 'PNP'),\n",
      "     ('PNJIS01593-1', 'BC856A', 'PNP'),\n",
      "     ('PNJIS01593-1', 'BC856B', 'PNP'),\n",
      "     ('PNJIS01593-1', 'BC857', 'PNP'),\n",
      "     ('PNJIS01593-1', 'BC857A', 'PNP'),\n",
      "     ('PNJIS01593-1', 'BC857B', 'PNP'),\n",
      "     ('PNJIS01593-1', 'BC857C', 'PNP'),\n",
      "     ('PNJIS01593-1', 'BC858', 'PNP'),\n",
      "     ('PNJIS01593-1', 'BC858A', 'PNP'),\n",
      "     ('PNJIS01593-1', 'BC858B', 'PNP'),\n",
      "     ('PNJIS01593-1', 'BC858C', 'PNP'),\n",
      "     ('PNJIS01593-1', 'BC859', 'PNP'),\n",
      "     ('PNJIS01593-1', 'BC859B', 'PNP'),\n",
      "     ('PNJIS01593-1', 'BC859C', 'PNP'),\n",
      "     ('RECTS00705-1', 'BC546', 'NPN'),\n",
      "     ('RECTS00705-1', 'BC546A', 'NPN'),\n",
      "     ('RECTS00705-1', 'BC546B', 'NPN'),\n",
      "     ('RECTS00705-1', 'BC546C', 'NPN'),\n",
      "     ('RECTS00705-1', 'BC547', 'NPN'),\n",
      "     ('RECTS00705-1', 'BC547A', 'NPN'),\n",
      "     ('RECTS00705-1', 'BC547B', 'NPN'),\n",
      "     ('RECTS00705-1', 'BC547C', 'NPN'),\n",
      "     ('RECTS00705-1', 'BC548', 'NPN'),\n",
      "     ('RECTS00705-1', 'BC548A', 'NPN'),\n",
      "     ('RECTS00705-1', 'BC548B', 'NPN'),\n",
      "     ('RECTS00705-1', 'BC548C', 'NPN'),\n",
      "     ('RECTS01002-1', 'MMBT3904', 'NPN'),\n",
      "     ('RECTS01158-1', 'BC807-25', 'PNP'),\n",
      "     ('RECTS01242-1', 'BC857B', 'PNP'),\n",
      "     ('RECTS01325-1', 'DTC114YUA', 'NPN'),\n",
      "     ('SAMSD00049-518', 'BC546', 'NPN'),\n",
      "     ('SAMSD00049-518', 'BC546A', 'NPN'),\n",
      "     ('SAMSD00049-518', 'BC546B', 'NPN'),\n",
      "     ('SAMSD00049-518', 'BC546C', 'NPN'),\n",
      "     ('SAMSD00049-518', 'BC547', 'NPN'),\n",
      "     ('SAMSD00049-518', 'BC547A', 'NPN'),\n",
      "     ('SAMSD00049-518', 'BC547B', 'NPN'),\n",
      "     ('SAMSD00049-518', 'BC547C', 'NPN'),\n",
      "     ('SAMSD00049-518', 'BC548', 'NPN'),\n",
      "     ('SAMSD00049-518', 'BC548A', 'NPN'),\n",
      "     ('SAMSD00049-518', 'BC548B', 'NPN'),\n",
      "     ('SAMSD00049-518', 'BC548C', 'NPN'),\n",
      "     ('SAMSD00049-518', 'BC549', 'NPN'),\n",
      "     ('SAMSD00049-518', 'BC549A', 'NPN'),\n",
      "     ('SAMSD00049-518', 'BC549B', 'NPN'),\n",
      "     ('SAMSD00049-518', 'BC549C', 'NPN'),\n",
      "     ('SAMSD00049-518', 'BC550', 'NPN'),\n",
      "     ('SAMSD00049-518', 'BC550A', 'NPN'),\n",
      "     ('SAMSD00049-518', 'BC550B', 'NPN'),\n",
      "     ('SAMSD00049-518', 'BC550C', 'NPN'),\n",
      "     ('SCSCS02175-1', 'BC546', 'NPN'),\n",
      "     ('SCSCS02175-1', 'BC546A', 'NPN'),\n",
      "     ('SCSCS02175-1', 'BC546B', 'NPN'),\n",
      "     ('SCSCS02175-1', 'BC546C', 'NPN'),\n",
      "     ('SCSCS02175-1', 'BC547', 'NPN'),\n",
      "     ('SCSCS02175-1', 'BC547A', 'NPN'),\n",
      "     ('SCSCS02175-1', 'BC547B', 'NPN'),\n",
      "     ('SCSCS02175-1', 'BC547C', 'NPN'),\n",
      "     ('SCSCS02175-1', 'BC548', 'NPN'),\n",
      "     ('SCSCS02175-1', 'BC548A', 'NPN'),\n",
      "     ('SCSCS02175-1', 'BC548B', 'NPN'),\n",
      "     ('SCSCS02175-1', 'BC548C', 'NPN'),\n",
      "     ('SCSCS02324-1', 'MMBT3904', 'NPN'),\n",
      "     ('SGSTS13702-1', 'BC547B', 'NPN'),\n",
      "     ('SGSTS13702-1', 'BC547B-AP', 'NPN'),\n",
      "     ('SGSTS13702-1', 'BC547C', 'NPN'),\n",
      "     ('SGSTS13702-1', 'BC547C-AP', 'NPN'),\n",
      "     ('SGSTS13734-1', 'BC337-25', 'NPN'),\n",
      "     ('SGSTS13734-1', 'BC337-25-AP', 'NPN'),\n",
      "     ('SGSTS13734-1', 'BC337-40', 'NPN'),\n",
      "     ('SGSTS13734-1', 'BC337-40-AP', 'NPN'),\n",
      "     ('SIEMS01215-1', 'BC856', 'PNP'),\n",
      "     ('SIEMS01215-1', 'BC856A', 'PNP'),\n",
      "     ('SIEMS01215-1', 'BC856B', 'PNP'),\n",
      "     ('SIEMS01215-1', 'BC857', 'PNP'),\n",
      "     ('SIEMS01215-1', 'BC857A', 'PNP'),\n",
      "     ('SIEMS01215-1', 'BC857B', 'PNP'),\n",
      "     ('SIEMS01215-1', 'BC857C', 'PNP'),\n",
      "     ('SIEMS01215-1', 'BC858', 'PNP'),\n",
      "     ('SIEMS01215-1', 'BC858A', 'PNP'),\n",
      "     ('SIEMS01215-1', 'BC858B', 'PNP'),\n",
      "     ('SIEMS01215-1', 'BC858C', 'PNP'),\n",
      "     ('SIEMS01215-1', 'BC859', 'PNP'),\n",
      "     ('SIEMS01215-1', 'BC859A', 'PNP'),\n",
      "     ('SIEMS01215-1', 'BC859B', 'PNP'),\n",
      "     ('SIEMS01215-1', 'BC859C', 'PNP'),\n",
      "     ('SIEMS01215-1', 'BC860', 'PNP'),\n",
      "     ('SIEMS01215-1', 'BC860B', 'PNP'),\n",
      "     ('SIEMS01215-1', 'BC860C', 'PNP'),\n",
      "     ('TKCGS00622-1', 'DTC114EE', 'NPN'),\n",
      "     ('TKCGS00622-1', 'DTC114TE', 'NPN'),\n",
      "     ('TKCGS00622-1', 'DTC114YE', 'NPN'),\n",
      "     ('TKCGS00622-1', 'DTC123EE', 'NPN'),\n",
      "     ('TKCGS00622-1', 'DTC123JE', 'NPN'),\n",
      "     ('TKCGS00622-1', 'DTC124EE', 'NPN'),\n",
      "     ('TKCGS00622-1', 'DTC124XE', 'NPN'),\n",
      "     ('TKCGS00622-1', 'DTC143EE', 'NPN'),\n",
      "     ('TKCGS00622-1', 'DTC143TE', 'NPN'),\n",
      "     ('TKCGS00622-1', 'DTC143ZE', 'NPN'),\n",
      "     ('TKCGS00622-1', 'DTC144EE', 'NPN'),\n",
      "     ('TWSCS04757-1', 'BC807-16', 'PNP'),\n",
      "     ('TWSCS04757-1', 'BC807-25', 'PNP'),\n",
      "     ('TWSCS04757-1', 'BC807-40', 'PNP'),\n",
      "     ('UTCLS02155-1', 'BC807', 'PNP'),\n",
      "     ('UTCLS02155-1', 'BC807-16', 'PNP'),\n",
      "     ('UTCLS02155-1', 'BC807-25', 'PNP'),\n",
      "     ('UTCLS02155-1', 'BC807-40', 'PNP'),\n",
      "     ('UTCLS02155-1', 'BC808', 'PNP'),\n",
      "     ('UTCLS02155-1', 'BC808-16', 'PNP'),\n",
      "     ('UTCLS02155-1', 'BC808-25', 'PNP'),\n",
      "     ('UTCLS02155-1', 'BC808-40', 'PNP'),\n",
      "     ('UTCLS03593-1', 'DTC114E', 'NPN'),\n",
      "     ('VISHS23888-1', 'BC546', 'NPN'),\n",
      "     ('VISHS23888-1', 'BC546A', 'NPN'),\n",
      "     ('VISHS23888-1', 'BC546B', 'NPN'),\n",
      "     ('VISHS23888-1', 'BC547', 'NPN'),\n",
      "     ('VISHS23888-1', 'BC547A', 'NPN'),\n",
      "     ('VISHS23888-1', 'BC547B', 'NPN'),\n",
      "     ('VISHS23888-1', 'BC547C', 'NPN'),\n",
      "     ('VISHS23888-1', 'BC548', 'NPN'),\n",
      "     ('VISHS23888-1', 'BC548A', 'NPN'),\n",
      "     ('VISHS23888-1', 'BC548B', 'NPN'),\n",
      "     ('VISHS23888-1', 'BC548C', 'NPN'),\n",
      "     ('VISHS23888-1', 'BC549', 'NPN'),\n",
      "     ('VISHS23888-1', 'BC549B', 'NPN'),\n",
      "     ('VISHS23888-1', 'BC549C', 'NPN'),\n",
      "     ('VSMIS00373-1', 'BC337', 'NPN'),\n",
      "     ('VSMIS00373-1', 'BC337-16', 'NPN'),\n",
      "     ('VSMIS00373-1', 'BC337-25', 'NPN'),\n",
      "     ('VSMIS00373-1', 'BC337-40', 'NPN'),\n",
      "     ('VSMIS00373-1', 'BC338', 'NPN'),\n",
      "     ('VSMIS00373-1', 'BC338-16', 'NPN'),\n",
      "     ('VSMIS00373-1', 'BC338-25', 'NPN'),\n",
      "     ('VSMIS00373-1', 'BC338-40', 'NPN'),\n",
      "     ('VSMIS03793-1', 'BC817', 'NPN'),\n",
      "     ('VSMIS03793-1', 'BC817-16', 'NPN'),\n",
      "     ('VSMIS03793-1', 'BC817-25', 'NPN'),\n",
      "     ('VSMIS03793-1', 'BC817-40', 'NPN'),\n",
      "     ('VSMIS03793-1', 'BC818', 'NPN'),\n",
      "     ('VSMIS03793-1', 'BC818-16', 'NPN'),\n",
      "     ('VSMIS03793-1', 'BC818-25', 'NPN'),\n",
      "     ('VSMIS03793-1', 'BC818-40', 'NPN'),\n",
      "     ('WEILS00082-1', 'BC856', 'PNP'),\n",
      "     ('WEILS00082-1', 'BC856A', 'PNP'),\n",
      "     ('WEILS00082-1', 'BC856B', 'PNP'),\n",
      "     ('WEILS00082-1', 'BC857', 'PNP'),\n",
      "     ('WEILS00082-1', 'BC857A', 'PNP'),\n",
      "     ('WEILS00082-1', 'BC857B', 'PNP'),\n",
      "     ('WEILS00082-1', 'BC857C', 'PNP'),\n",
      "     ('WEILS00082-1', 'BC858', 'PNP'),\n",
      "     ('WEILS00082-1', 'BC858A', 'PNP'),\n",
      "     ('WEILS00082-1', 'BC858B', 'PNP'),\n",
      "     ('WEILS00082-1', 'BC858C', 'PNP'),\n",
      "     ('WEILS00082-1', 'BC859', 'PNP'),\n",
      "     ('WEILS00082-1', 'BC859B', 'PNP'),\n",
      "     ('WEILS00082-1', 'BC859C', 'PNP'),\n",
      "     ('WEITS00252-1', 'BC807-16', 'PNP'),\n",
      "     ('WEITS00252-1', 'BC807-25', 'PNP'),\n",
      "     ('WEITS00252-1', 'BC807-40', 'PNP'),\n",
      "     ('ZETXS01948-1', 'BC856', 'PNP'),\n",
      "     ('ZETXS01948-1', 'BC856A-3A', 'PNP'),\n",
      "     ('ZETXS01948-1', 'BC856B-Z3B', 'PNP'),\n",
      "     ('ZETXS01948-1', 'BC857', 'PNP'),\n",
      "     ('ZETXS01948-1', 'BC857A-Z3E', 'PNP'),\n",
      "     ('ZETXS01948-1', 'BC857B-3F', 'PNP'),\n",
      "     ('ZETXS01948-1', 'BC857C-3G', 'PNP'),\n",
      "     ('ZETXS01948-1', 'BC858', 'PNP'),\n",
      "     ('ZETXS01948-1', 'BC858A-3J', 'PNP'),\n",
      "     ('ZETXS01948-1', 'BC858B-3K', 'PNP'),\n",
      "     ('ZETXS01948-1', 'BC858C-3L', 'PNP'),\n",
      "     ('ZETXS01948-1', 'BC859', 'PNP'),\n",
      "     ('ZETXS01948-1', 'BC859A-Z4A', 'PNP'),\n",
      "     ('ZETXS01948-1', 'BC859B-4B', 'PNP'),\n",
      "     ('ZETXS01948-1', 'BC859C-Z4C', 'PNP'),\n",
      "     ('ZETXS01948-1', 'BC860', 'PNP'),\n",
      "     ('ZETXS01948-1', 'BC860A-Z4E', 'PNP'),\n",
      "     ('ZETXS01948-1', 'BC860B-4F', 'PNP'),\n",
      "     ('ZETXS01948-1', 'BC860C-4GZ', 'PNP')])\n",
      "777\n"
     ]
    }
   ],
   "source": [
    "from pprint import pprint\n",
    "pprint(fn)\n",
    "print len(fn)"
   ]
  },
  {
   "cell_type": "markdown",
   "metadata": {},
   "source": [
    "## Gold Labels"
   ]
  },
  {
   "cell_type": "code",
   "execution_count": 13,
   "metadata": {
    "collapsed": false
   },
   "outputs": [
    {
     "name": "stdout",
     "output_type": "stream",
     "text": [
      "Loading 385 candidate labels\n",
      "[========================================] 100%\n",
      "CPU times: user 1.04 s, sys: 36 ms, total: 1.08 s\n",
      "Wall time: 1.26 s\n",
      "327/385 Candidates in Candidate Set (Hardware Training Candidates) have positive Labels\n",
      "Loading 130 candidate labels\n",
      "[========================================] 100%\n",
      "CPU times: user 516 ms, sys: 24 ms, total: 540 ms\n",
      "Wall time: 593 ms\n",
      "67/130 Candidates in Candidate Set (Hardware Development Candidates) have positive Labels\n"
     ]
    }
   ],
   "source": [
    "import os\n",
    "from snorkel.models import CandidateSet\n",
    "from hardware_utils import load_hardware_labels\n",
    "\n",
    "gold_file = os.environ['SNORKELHOME'] + '/tutorials/tables/data/hardware/hardware_gold.csv'\n",
    "for set_name in ['Training', 'Development']:\n",
    "    candidate_set_name = 'Hardware %s Candidates' % set_name\n",
    "    candidates = session.query(CandidateSet).filter(\n",
    "        CandidateSet.name == candidate_set_name).one()\n",
    "    label_set_name = 'Hardware %s Candidates -- Gold' % set_name\n",
    "    annotation_key_name = 'Hardware %s Labels -- Gold' % set_name\n",
    "    %time gold_candidates, annotation_key = load_hardware_labels(session,\\\n",
    "                           label_set_name, \\\n",
    "                           annotation_key_name, \\\n",
    "                           candidates, \\\n",
    "                           gold_file, \\\n",
    "                           'polarity')\n",
    "    candidates_gold = session.query(CandidateSet).filter(\n",
    "        CandidateSet.name == candidate_set_name + ' -- Gold').one()\n",
    "    print \"%d/%d Candidates in %s have positive Labels\" % (\n",
    "        len(candidates_gold), len(candidates), candidates)"
   ]
  },
  {
   "cell_type": "markdown",
   "metadata": {},
   "source": [
    "### Assess Baseline Performance"
   ]
  },
  {
   "cell_type": "code",
   "execution_count": 14,
   "metadata": {
    "collapsed": false
   },
   "outputs": [],
   "source": [
    "# from snorkel.models import Corpus, Candidate\n",
    "# from snorkel.utils import get_ORM_instance\n",
    "# from snorkel.lf_helpers import *\n",
    "# from hardware_utils import entity_level_f1\n",
    "# from itertools import chain\n",
    "\n",
    "# def LF_all_true(c):\n",
    "#     return True\n",
    "\n",
    "# def LF_complement_nearby(c):\n",
    "#     return 1 if set(['complement','complementary']).isdisjoint(\n",
    "#         chain.from_iterable(\n",
    "#             [get_phrase_ngrams(c.part), \n",
    "#              get_phrase_ngrams(c.polarity),\n",
    "#              get_neighbor_phrase_ngrams(c.polarity)])) else 0\n",
    "\n",
    "# candidates = session.query(Candidate).all()\n",
    "# (tp, fp, tn, fn) = baseline(candidates, LF_complement_nearby)\n",
    "\n",
    "# corpus = get_ORM_instance(Corpus, session, 'Hardware')\n",
    "# gold_file = os.environ['SNORKELHOME'] + '/tutorials/tables/data/hardware/hardware_gold.csv'\n",
    "# (TP, FP, FN) = entity_level_f1(tp, fp, tn, fn, gold_file, corpus, 'polarity')"
   ]
  },
  {
   "cell_type": "code",
   "execution_count": 15,
   "metadata": {
    "collapsed": false
   },
   "outputs": [],
   "source": [
    "# from pprint import pprint\n",
    "# pprint(FP)"
   ]
  },
  {
   "cell_type": "code",
   "execution_count": 16,
   "metadata": {
    "collapsed": false
   },
   "outputs": [],
   "source": [
    "# pprint(FN)"
   ]
  },
  {
   "cell_type": "code",
   "execution_count": 17,
   "metadata": {
    "collapsed": false
   },
   "outputs": [],
   "source": [
    "# from hardware_utils import entity_to_candidates\n",
    "\n",
    "# print len(candidates)\n",
    "# matches = entity_to_candidates((u'SIEMS01215-1', u'BC856', u'NPN'), candidates)\n",
    "# c = matches[0]\n",
    "# print c"
   ]
  },
  {
   "cell_type": "code",
   "execution_count": 18,
   "metadata": {
    "collapsed": false
   },
   "outputs": [],
   "source": [
    "# from snorkel.models import ImplicitSpan\n",
    "# from snorkel.lf_helpers import *\n",
    "# phrases = []\n",
    "# print list(get_neighbor_phrase_ngrams(c.polarity))\n",
    "# print c.polarity.parent\n",
    "# print phrases\n",
    "# print \"SPAN_TYPE_[%s]\" % ('IMPLICIT' if isinstance(c.polarity, ImplicitSpan) else 'EXPLICIT')\n",
    "# # list(get_phrase_ngrams(c.polarity))"
   ]
  },
  {
   "cell_type": "markdown",
   "metadata": {},
   "source": [
    "## Features"
   ]
  },
  {
   "cell_type": "markdown",
   "metadata": {},
   "source": [
    "### Extract Features"
   ]
  },
  {
   "cell_type": "code",
   "execution_count": 28,
   "metadata": {
    "collapsed": false
   },
   "outputs": [
    {
     "name": "stdout",
     "output_type": "stream",
     "text": [
      "Using 4 workers\n",
      "CPU times: user 216 ms, sys: 16 ms, total: 232 ms\n",
      "Wall time: 2.56 s\n",
      "Using 4 workers\n",
      "CPU times: user 40 ms, sys: 16 ms, total: 56 ms\n",
      "Wall time: 1.02 s\n",
      "Training features hash: 5523698361691647584 of length 1692\n"
     ]
    }
   ],
   "source": [
    "from snorkel.models import CandidateSet\n",
    "from snorkel.async_annotations import annotate\n",
    "from snorkel.utils import get_ORM_instance\n",
    "\n",
    "# Run batch extraction jobs\n",
    "train = get_ORM_instance(CandidateSet, session, 'Hardware Training Candidates')\n",
    "dev   = get_ORM_instance(CandidateSet, session, 'Hardware Development Candidates')\n",
    "\n",
    "%time F_train = annotate(train, parallel=4)\n",
    "%time F_dev = annotate(dev, parallel=4, keyset = 'Hardware Training Candidates')\n",
    "\n",
    "print 'Training features hash:', hash(frozenset(F_train.keys)),'of length', len(F_train.keys)"
   ]
  },
  {
   "cell_type": "code",
   "execution_count": 29,
   "metadata": {
    "collapsed": false
   },
   "outputs": [
    {
     "name": "stdout",
     "output_type": "stream",
     "text": [
      "[========================================] 100%\n",
      "Bulk upserting 37093 annotations...\n",
      "Done.\n",
      "Loading sparse Feature matrix...\n",
      "CPU times: user 8.13 s, sys: 276 ms, total: 8.4 s\n",
      "Wall time: 10.5 s\n",
      "[========================================] 100%\n",
      "Bulk upserting 4778 annotations...\n",
      "Done.\n",
      "Loading sparse Feature matrix...\n",
      "CPU times: user 3.02 s, sys: 72 ms, total: 3.09 s\n",
      "Wall time: 3.37 s\n"
     ]
    }
   ],
   "source": [
    "# from snorkel.models import CandidateSet\n",
    "# from snorkel.fast_annotations import FeatureManager\n",
    "# from snorkel.utils import get_ORM_instance\n",
    "\n",
    "# train = get_ORM_instance(CandidateSet, session, 'Hardware Training Candidates')\n",
    "# dev   = get_ORM_instance(CandidateSet, session, 'Hardware Development Candidates')\n",
    "\n",
    "# feature_manager = FeatureManager()\n",
    "# %time F_train = feature_manager.create(session, train, 'Train Features')\n",
    "# %time F_dev = feature_manager.update(session, dev, 'Train Features', expand_key_set=False)"
   ]
  },
  {
   "cell_type": "code",
   "execution_count": 30,
   "metadata": {
    "collapsed": false
   },
   "outputs": [
    {
     "name": "stdout",
     "output_type": "stream",
     "text": [
      "(385, 1692)\n"
     ]
    }
   ],
   "source": []
  },
  {
   "cell_type": "markdown",
   "metadata": {},
   "source": [
    "## LFs"
   ]
  },
  {
   "cell_type": "code",
   "execution_count": 21,
   "metadata": {
    "collapsed": false
   },
   "outputs": [],
   "source": [
    "# If necessary\n",
    "# import os\n",
    "# os.remove('snorkel.db');\n",
    "# os.system('cp snorkel.db\\ featurized snorkel.db');\n",
    "\n",
    "# from snorkel import SnorkelSession\n",
    "# session = SnorkelSession()\n",
    "\n",
    "# import sys\n",
    "# sys.path.append(os.environ['SNORKELHOME'] + '/tutorials/tables/')\n",
    "\n",
    "# from snorkel.models import candidate_subclass\n",
    "# Part_Polarity = candidate_subclass('Part_Polarity', ['part','polarity'])\n",
    "\n",
    "# from snorkel.models import CandidateSet\n",
    "# train = session.query(CandidateSet).filter(\n",
    "#     CandidateSet.name == 'Hardware Training Candidates').one()"
   ]
  },
  {
   "cell_type": "markdown",
   "metadata": {},
   "source": [
    "### Define LFs"
   ]
  },
  {
   "cell_type": "code",
   "execution_count": 22,
   "metadata": {
    "collapsed": false
   },
   "outputs": [],
   "source": [
    "from snorkel.fast_annotations import LabelManager\n",
    "from snorkel.lf_helpers import *\n",
    "import re\n",
    "label_manager = LabelManager()\n",
    "\n",
    "LFs = []\n",
    "\n",
    "def LF_complement_phrase_part(c):\n",
    "    return -1 if overlap(['complement','complementary'], \n",
    "                         get_phrase_ngrams(c.part)) else 0\n",
    "LFs.append(LF_complement_phrase_part)\n",
    "\n",
    "def LF_complement_phrase_polarity(c):\n",
    "    return -1 if overlap(['complement','complementary'], \n",
    "                         get_phrase_ngrams(c.polarity)) else 0\n",
    "LFs.append(LF_complement_phrase_polarity)\n",
    "\n",
    "def LF_complement_neighbor_polarity(c):\n",
    "    return -1 if overlap(['complement','complementary'], \n",
    "                         get_neighbor_phrase_ngrams(c.polarity)) else 0\n",
    "LFs.append(LF_complement_neighbor_polarity)\n",
    "\n",
    "def LF_top_mark_col_part(c):\n",
    "    return -1 if overlap(['top','mark'],\n",
    "                         get_col_ngrams(c.part)) else 0\n",
    "LFs.append(LF_top_mark_col_part)\n",
    "\n",
    "def LF_endswith_D_part(c):\n",
    "    return -1 if c.part.get_span().endswith('D') else 0\n",
    "LFs.append(LF_endswith_D_part)\n",
    "\n",
    "def LF_default_positive(c):\n",
    "    return 1 if not overlap(['complement','complementary'],\n",
    "                            chain.from_iterable([\n",
    "                            get_phrase_ngrams(c.part),\n",
    "                            get_phrase_ngrams(c.polarity),\n",
    "                            get_neighbor_phrase_ngrams(c.polarity)])) else 0\n",
    "LFs.append(LF_default_positive)"
   ]
  },
  {
   "cell_type": "code",
   "execution_count": 23,
   "metadata": {
    "collapsed": false
   },
   "outputs": [
    {
     "name": "stdout",
     "output_type": "stream",
     "text": [
      "515\n",
      "Part_Polarity(Span(\"DTC114YE\", parent=12, chars=[0,7], words=[0,0]), Span(\"NPN\", parent=17, chars=[0,2], words=[0,0]))\n",
      "0\n",
      "0\n",
      "0\n",
      "0\n",
      "0\n",
      "1\n"
     ]
    }
   ],
   "source": [
    "from snorkel.models import Candidate\n",
    "from hardware_utils import entity_to_candidates\n",
    "\n",
    "candidates = session.query(Candidate).all()\n",
    "print len(candidates)\n",
    "# matches = entity_to_candidates((u'SIEMS01215-1', u'BC856', u'NPN'), candidates)\n",
    "# c = matches[0]\n",
    "c = candidates[0]\n",
    "print candidates[0]\n",
    "\n",
    "print LF_complement_phrase_part(c)\n",
    "print LF_complement_phrase_polarity(c)\n",
    "print LF_complement_neighbor_polarity(c)\n",
    "print LF_top_mark_col_part(c)\n",
    "print LF_endswith_D_part(c)\n",
    "print LF_default_positive(c)"
   ]
  },
  {
   "cell_type": "markdown",
   "metadata": {},
   "source": [
    "### Apply LFs"
   ]
  },
  {
   "cell_type": "code",
   "execution_count": 24,
   "metadata": {
    "collapsed": false
   },
   "outputs": [
    {
     "name": "stdout",
     "output_type": "stream",
     "text": [
      "Using 2 workers\n",
      "Error of the COPY subprocess:\n",
      "ERROR:  malformed array literal: \"\"{\"\"LF_complement_phrase_part\"\",\"\"LF_complement_phrase_polarity\"\",\"\"LF_complement_neighbor_polarity\"\",\"\"LF_top_mark_col_part\"\",\"\"LF_endswith_D_part\"\",\"\"LF_default_positive\"\"}\"\"\n",
      "DETAIL:  Array value must start with \"{\" or dimension information.\n",
      "CONTEXT:  COPY hardware_training_candidates_labels, line 1, column keys: \"\"{\"\"LF_complement_phrase_part\"\",\"\"LF_complement_phrase_polarity\"\",\"\"LF_complement_neighbor_polarity\"...\"\n",
      "\n",
      "Error of the COPY subprocess:\n",
      "ERROR:  malformed array literal: \"\"{\"\"LF_complement_phrase_part\"\",\"\"LF_complement_phrase_polarity\"\",\"\"LF_complement_neighbor_polarity\"\",\"\"LF_top_mark_col_part\"\",\"\"LF_endswith_D_part\"\",\"\"LF_default_positive\"\"}\"\"\n",
      "DETAIL:  Array value must start with \"{\" or dimension information.\n",
      "CONTEXT:  COPY hardware_training_candidates_labels, line 1, column keys: \"\"{\"\"LF_complement_phrase_part\"\",\"\"LF_complement_phrase_polarity\"\",\"\"LF_complement_neighbor_polarity\"...\"\n",
      "\n",
      "CPU times: user 8 ms, sys: 8 ms, total: 16 ms\n",
      "Wall time: 933 ms\n"
     ]
    },
    {
     "data": {
      "text/plain": [
       "<385x0 sparse matrix of type '<type 'numpy.float32'>'\n",
       "\twith 0 stored elements in Compressed Sparse Row format>"
      ]
     },
     "execution_count": 24,
     "metadata": {},
     "output_type": "execute_result"
    }
   ],
   "source": [
    "from snorkel.async_annotations import annotate\n",
    "%time L_train = annotate(train, lfs=LFs)\n",
    "L_train"
   ]
  },
  {
   "cell_type": "markdown",
   "metadata": {},
   "source": [
    "### Assess LF accuracy"
   ]
  },
  {
   "cell_type": "code",
   "execution_count": 25,
   "metadata": {
    "collapsed": false
   },
   "outputs": [
    {
     "ename": "KeyError",
     "evalue": "1",
     "output_type": "error",
     "traceback": [
      "\u001b[1;31m---------------------------------------------------------------------------\u001b[0m",
      "\u001b[1;31mKeyError\u001b[0m                                  Traceback (most recent call last)",
      "\u001b[1;32m<ipython-input-25-5b0e10730059>\u001b[0m in \u001b[0;36m<module>\u001b[1;34m()\u001b[0m\n\u001b[0;32m      1\u001b[0m train_gold = session.query(CandidateSet).filter(\n\u001b[0;32m      2\u001b[0m     CandidateSet.name == 'Hardware Training Candidates -- Gold').one()\n\u001b[1;32m----> 3\u001b[1;33m \u001b[0mget_ipython\u001b[0m\u001b[1;33m(\u001b[0m\u001b[1;33m)\u001b[0m\u001b[1;33m.\u001b[0m\u001b[0mmagic\u001b[0m\u001b[1;33m(\u001b[0m\u001b[1;34mu'time L_train.lf_stats(train_gold)'\u001b[0m\u001b[1;33m)\u001b[0m\u001b[1;33m\u001b[0m\u001b[0m\n\u001b[0m",
      "\u001b[1;32m/home/xiao/software/anaconda/lib/python2.7/site-packages/IPython/core/interactiveshell.pyc\u001b[0m in \u001b[0;36mmagic\u001b[1;34m(self, arg_s)\u001b[0m\n\u001b[0;32m   2161\u001b[0m         \u001b[0mmagic_name\u001b[0m\u001b[1;33m,\u001b[0m \u001b[0m_\u001b[0m\u001b[1;33m,\u001b[0m \u001b[0mmagic_arg_s\u001b[0m \u001b[1;33m=\u001b[0m \u001b[0marg_s\u001b[0m\u001b[1;33m.\u001b[0m\u001b[0mpartition\u001b[0m\u001b[1;33m(\u001b[0m\u001b[1;34m' '\u001b[0m\u001b[1;33m)\u001b[0m\u001b[1;33m\u001b[0m\u001b[0m\n\u001b[0;32m   2162\u001b[0m         \u001b[0mmagic_name\u001b[0m \u001b[1;33m=\u001b[0m \u001b[0mmagic_name\u001b[0m\u001b[1;33m.\u001b[0m\u001b[0mlstrip\u001b[0m\u001b[1;33m(\u001b[0m\u001b[0mprefilter\u001b[0m\u001b[1;33m.\u001b[0m\u001b[0mESC_MAGIC\u001b[0m\u001b[1;33m)\u001b[0m\u001b[1;33m\u001b[0m\u001b[0m\n\u001b[1;32m-> 2163\u001b[1;33m         \u001b[1;32mreturn\u001b[0m \u001b[0mself\u001b[0m\u001b[1;33m.\u001b[0m\u001b[0mrun_line_magic\u001b[0m\u001b[1;33m(\u001b[0m\u001b[0mmagic_name\u001b[0m\u001b[1;33m,\u001b[0m \u001b[0mmagic_arg_s\u001b[0m\u001b[1;33m)\u001b[0m\u001b[1;33m\u001b[0m\u001b[0m\n\u001b[0m\u001b[0;32m   2164\u001b[0m \u001b[1;33m\u001b[0m\u001b[0m\n\u001b[0;32m   2165\u001b[0m     \u001b[1;31m#-------------------------------------------------------------------------\u001b[0m\u001b[1;33m\u001b[0m\u001b[1;33m\u001b[0m\u001b[0m\n",
      "\u001b[1;32m/home/xiao/software/anaconda/lib/python2.7/site-packages/IPython/core/interactiveshell.pyc\u001b[0m in \u001b[0;36mrun_line_magic\u001b[1;34m(self, magic_name, line)\u001b[0m\n\u001b[0;32m   2082\u001b[0m                 \u001b[0mkwargs\u001b[0m\u001b[1;33m[\u001b[0m\u001b[1;34m'local_ns'\u001b[0m\u001b[1;33m]\u001b[0m \u001b[1;33m=\u001b[0m \u001b[0msys\u001b[0m\u001b[1;33m.\u001b[0m\u001b[0m_getframe\u001b[0m\u001b[1;33m(\u001b[0m\u001b[0mstack_depth\u001b[0m\u001b[1;33m)\u001b[0m\u001b[1;33m.\u001b[0m\u001b[0mf_locals\u001b[0m\u001b[1;33m\u001b[0m\u001b[0m\n\u001b[0;32m   2083\u001b[0m             \u001b[1;32mwith\u001b[0m \u001b[0mself\u001b[0m\u001b[1;33m.\u001b[0m\u001b[0mbuiltin_trap\u001b[0m\u001b[1;33m:\u001b[0m\u001b[1;33m\u001b[0m\u001b[0m\n\u001b[1;32m-> 2084\u001b[1;33m                 \u001b[0mresult\u001b[0m \u001b[1;33m=\u001b[0m \u001b[0mfn\u001b[0m\u001b[1;33m(\u001b[0m\u001b[1;33m*\u001b[0m\u001b[0margs\u001b[0m\u001b[1;33m,\u001b[0m\u001b[1;33m**\u001b[0m\u001b[0mkwargs\u001b[0m\u001b[1;33m)\u001b[0m\u001b[1;33m\u001b[0m\u001b[0m\n\u001b[0m\u001b[0;32m   2085\u001b[0m             \u001b[1;32mreturn\u001b[0m \u001b[0mresult\u001b[0m\u001b[1;33m\u001b[0m\u001b[0m\n\u001b[0;32m   2086\u001b[0m \u001b[1;33m\u001b[0m\u001b[0m\n",
      "\u001b[1;32m/home/xiao/software/anaconda/lib/python2.7/site-packages/IPython/core/magics/execution.pyc\u001b[0m in \u001b[0;36mtime\u001b[1;34m(self, line, cell, local_ns)\u001b[0m\n",
      "\u001b[1;32m/home/xiao/software/anaconda/lib/python2.7/site-packages/IPython/core/magic.pyc\u001b[0m in \u001b[0;36m<lambda>\u001b[1;34m(f, *a, **k)\u001b[0m\n\u001b[0;32m    191\u001b[0m     \u001b[1;31m# but it's overkill for just that one bit of state.\u001b[0m\u001b[1;33m\u001b[0m\u001b[1;33m\u001b[0m\u001b[0m\n\u001b[0;32m    192\u001b[0m     \u001b[1;32mdef\u001b[0m \u001b[0mmagic_deco\u001b[0m\u001b[1;33m(\u001b[0m\u001b[0marg\u001b[0m\u001b[1;33m)\u001b[0m\u001b[1;33m:\u001b[0m\u001b[1;33m\u001b[0m\u001b[0m\n\u001b[1;32m--> 193\u001b[1;33m         \u001b[0mcall\u001b[0m \u001b[1;33m=\u001b[0m \u001b[1;32mlambda\u001b[0m \u001b[0mf\u001b[0m\u001b[1;33m,\u001b[0m \u001b[1;33m*\u001b[0m\u001b[0ma\u001b[0m\u001b[1;33m,\u001b[0m \u001b[1;33m**\u001b[0m\u001b[0mk\u001b[0m\u001b[1;33m:\u001b[0m \u001b[0mf\u001b[0m\u001b[1;33m(\u001b[0m\u001b[1;33m*\u001b[0m\u001b[0ma\u001b[0m\u001b[1;33m,\u001b[0m \u001b[1;33m**\u001b[0m\u001b[0mk\u001b[0m\u001b[1;33m)\u001b[0m\u001b[1;33m\u001b[0m\u001b[0m\n\u001b[0m\u001b[0;32m    194\u001b[0m \u001b[1;33m\u001b[0m\u001b[0m\n\u001b[0;32m    195\u001b[0m         \u001b[1;32mif\u001b[0m \u001b[0mcallable\u001b[0m\u001b[1;33m(\u001b[0m\u001b[0marg\u001b[0m\u001b[1;33m)\u001b[0m\u001b[1;33m:\u001b[0m\u001b[1;33m\u001b[0m\u001b[0m\n",
      "\u001b[1;32m/home/xiao/software/anaconda/lib/python2.7/site-packages/IPython/core/magics/execution.pyc\u001b[0m in \u001b[0;36mtime\u001b[1;34m(self, line, cell, local_ns)\u001b[0m\n\u001b[0;32m   1171\u001b[0m         \u001b[1;32mif\u001b[0m \u001b[0mmode\u001b[0m\u001b[1;33m==\u001b[0m\u001b[1;34m'eval'\u001b[0m\u001b[1;33m:\u001b[0m\u001b[1;33m\u001b[0m\u001b[0m\n\u001b[0;32m   1172\u001b[0m             \u001b[0mst\u001b[0m \u001b[1;33m=\u001b[0m \u001b[0mclock2\u001b[0m\u001b[1;33m(\u001b[0m\u001b[1;33m)\u001b[0m\u001b[1;33m\u001b[0m\u001b[0m\n\u001b[1;32m-> 1173\u001b[1;33m             \u001b[0mout\u001b[0m \u001b[1;33m=\u001b[0m \u001b[0meval\u001b[0m\u001b[1;33m(\u001b[0m\u001b[0mcode\u001b[0m\u001b[1;33m,\u001b[0m \u001b[0mglob\u001b[0m\u001b[1;33m,\u001b[0m \u001b[0mlocal_ns\u001b[0m\u001b[1;33m)\u001b[0m\u001b[1;33m\u001b[0m\u001b[0m\n\u001b[0m\u001b[0;32m   1174\u001b[0m             \u001b[0mend\u001b[0m \u001b[1;33m=\u001b[0m \u001b[0mclock2\u001b[0m\u001b[1;33m(\u001b[0m\u001b[1;33m)\u001b[0m\u001b[1;33m\u001b[0m\u001b[0m\n\u001b[0;32m   1175\u001b[0m         \u001b[1;32melse\u001b[0m\u001b[1;33m:\u001b[0m\u001b[1;33m\u001b[0m\u001b[0m\n",
      "\u001b[1;32m<timed eval>\u001b[0m in \u001b[0;36m<module>\u001b[1;34m()\u001b[0m\n",
      "\u001b[1;32m/home/xiao/snorkel/snorkel/async_annotations.py\u001b[0m in \u001b[0;36mlf_stats\u001b[1;34m(self, gold)\u001b[0m\n\u001b[0;32m     68\u001b[0m                 \u001b[1;34m'overlaps'\u001b[0m  \u001b[1;33m:\u001b[0m \u001b[0mSeries\u001b[0m\u001b[1;33m(\u001b[0m\u001b[0mdata\u001b[0m\u001b[1;33m=\u001b[0m\u001b[0mmatrix_overlaps\u001b[0m\u001b[1;33m(\u001b[0m\u001b[0mself\u001b[0m\u001b[1;33m)\u001b[0m\u001b[1;33m,\u001b[0m \u001b[0mindex\u001b[0m\u001b[1;33m=\u001b[0m\u001b[0mlf_names\u001b[0m\u001b[1;33m)\u001b[0m\u001b[1;33m,\u001b[0m\u001b[1;33m\u001b[0m\u001b[0m\n\u001b[0;32m     69\u001b[0m                 \u001b[1;34m'conflicts'\u001b[0m \u001b[1;33m:\u001b[0m \u001b[0mSeries\u001b[0m\u001b[1;33m(\u001b[0m\u001b[0mdata\u001b[0m\u001b[1;33m=\u001b[0m\u001b[0mmatrix_conflicts\u001b[0m\u001b[1;33m(\u001b[0m\u001b[0mself\u001b[0m\u001b[1;33m)\u001b[0m\u001b[1;33m,\u001b[0m \u001b[0mindex\u001b[0m\u001b[1;33m=\u001b[0m\u001b[0mlf_names\u001b[0m\u001b[1;33m)\u001b[0m\u001b[1;33m,\u001b[0m\u001b[1;33m\u001b[0m\u001b[0m\n\u001b[1;32m---> 70\u001b[1;33m                 \u001b[1;34m'accuracy'\u001b[0m  \u001b[1;33m:\u001b[0m \u001b[0mSeries\u001b[0m\u001b[1;33m(\u001b[0m\u001b[0mdata\u001b[0m\u001b[1;33m=\u001b[0m\u001b[0mmatrix_accuracy\u001b[0m\u001b[1;33m(\u001b[0m\u001b[0mself\u001b[0m\u001b[1;33m,\u001b[0m \u001b[0mgold\u001b[0m\u001b[1;33m)\u001b[0m\u001b[1;33m,\u001b[0m \u001b[0mindex\u001b[0m\u001b[1;33m=\u001b[0m\u001b[0mlf_names\u001b[0m\u001b[1;33m)\u001b[0m\u001b[1;33m,\u001b[0m\u001b[1;33m\u001b[0m\u001b[0m\n\u001b[0m\u001b[0;32m     71\u001b[0m             }\n\u001b[0;32m     72\u001b[0m         \u001b[1;32melse\u001b[0m\u001b[1;33m:\u001b[0m\u001b[1;33m\u001b[0m\u001b[0m\n",
      "\u001b[1;32m/home/xiao/snorkel/snorkel/utils.pyc\u001b[0m in \u001b[0;36mmatrix_accuracy\u001b[1;34m(L, G)\u001b[0m\n\u001b[0;32m    111\u001b[0m         \u001b[0mpb\u001b[0m\u001b[1;33m.\u001b[0m\u001b[0mbar\u001b[0m\u001b[1;33m(\u001b[0m\u001b[0mcount\u001b[0m\u001b[1;33m)\u001b[0m\u001b[1;33m\u001b[0m\u001b[0m\n\u001b[0;32m    112\u001b[0m         \u001b[0mcount\u001b[0m \u001b[1;33m+=\u001b[0m \u001b[1;36m1\u001b[0m\u001b[1;33m\u001b[0m\u001b[0m\n\u001b[1;32m--> 113\u001b[1;33m         \u001b[0mindex\u001b[0m \u001b[1;33m=\u001b[0m \u001b[0mL\u001b[0m\u001b[1;33m.\u001b[0m\u001b[0mget_row_index\u001b[0m\u001b[1;33m(\u001b[0m\u001b[0mc\u001b[0m\u001b[1;33m)\u001b[0m \u001b[1;31m# NOTE: Assumes G is a subset of L\u001b[0m\u001b[1;33m\u001b[0m\u001b[0m\n\u001b[0m\u001b[0;32m    114\u001b[0m         \u001b[0mgold_labels\u001b[0m\u001b[1;33m[\u001b[0m\u001b[0mindex\u001b[0m\u001b[1;33m]\u001b[0m \u001b[1;33m=\u001b[0m \u001b[1;33m[\u001b[0m\u001b[1;36m1\u001b[0m\u001b[1;33m]\u001b[0m\u001b[1;33m\u001b[0m\u001b[0m\n\u001b[0;32m    115\u001b[0m \u001b[1;33m\u001b[0m\u001b[0m\n",
      "\u001b[1;32m/home/xiao/snorkel/snorkel/async_annotations.py\u001b[0m in \u001b[0;36mget_row_index\u001b[1;34m(self, candidate)\u001b[0m\n\u001b[0;32m     44\u001b[0m     \u001b[1;32mdef\u001b[0m \u001b[0mget_row_index\u001b[0m\u001b[1;33m(\u001b[0m\u001b[0mself\u001b[0m\u001b[1;33m,\u001b[0m \u001b[0mcandidate\u001b[0m\u001b[1;33m)\u001b[0m\u001b[1;33m:\u001b[0m\u001b[1;33m\u001b[0m\u001b[0m\n\u001b[0;32m     45\u001b[0m         \u001b[1;34m\"\"\"Return the row index of the Candidate\"\"\"\u001b[0m\u001b[1;33m\u001b[0m\u001b[0m\n\u001b[1;32m---> 46\u001b[1;33m         \u001b[1;32mreturn\u001b[0m \u001b[0mself\u001b[0m\u001b[1;33m.\u001b[0m\u001b[0mcandidate_index\u001b[0m\u001b[1;33m[\u001b[0m\u001b[0mcandidate\u001b[0m\u001b[1;33m.\u001b[0m\u001b[0mid\u001b[0m\u001b[1;33m]\u001b[0m\u001b[1;33m\u001b[0m\u001b[0m\n\u001b[0m\u001b[0;32m     47\u001b[0m \u001b[1;33m\u001b[0m\u001b[0m\n\u001b[0;32m     48\u001b[0m     \u001b[1;32mdef\u001b[0m \u001b[0mget_key\u001b[0m\u001b[1;33m(\u001b[0m\u001b[0mself\u001b[0m\u001b[1;33m,\u001b[0m \u001b[0mj\u001b[0m\u001b[1;33m)\u001b[0m\u001b[1;33m:\u001b[0m\u001b[1;33m\u001b[0m\u001b[0m\n",
      "\u001b[1;31mKeyError\u001b[0m: 1"
     ]
    }
   ],
   "source": [
    "train_gold = session.query(CandidateSet).filter(\n",
    "    CandidateSet.name == 'Hardware Training Candidates -- Gold').one()\n",
    "%time L_train.lf_stats(train_gold)"
   ]
  },
  {
   "cell_type": "markdown",
   "metadata": {},
   "source": [
    "## Learn and Evaluate"
   ]
  },
  {
   "cell_type": "code",
   "execution_count": null,
   "metadata": {
    "collapsed": false
   },
   "outputs": [],
   "source": [
    "# If necessary:\n",
    "# import os\n",
    "# os.remove('snorkel.db');\n",
    "# os.system('cp snorkel.db\\ features snorkel.db');\n",
    "\n",
    "# from snorkel import SnorkelSession\n",
    "# session = SnorkelSession()\n",
    "\n",
    "# import sys\n",
    "# sys.path.append(os.environ['SNORKELHOME'] + '/tutorials/tables/')\n",
    "\n",
    "# from snorkel.models import candidate_subclass\n",
    "# Part_Polarity = candidate_subclass('Part_Polarity', ['part','polarity'])\n",
    "\n",
    "# from snorkel.models import CandidateSet\n",
    "# train = session.query(CandidateSet).filter(\n",
    "#     CandidateSet.name == 'Hardware Training Candidates').one()\n",
    "# dev = session.query(CandidateSet).filter(\n",
    "#     CandidateSet.name == 'Hardware Development Candidates').one()\n",
    "\n",
    "# from snorkel.annotations import FeatureManager, LabelManager\n",
    "# feature_manager = FeatureManager()\n",
    "# %time F_train = feature_manager.load(session, train, 'Train Features')\n",
    "# %time F_dev = feature_manager.load(session, dev, 'Train Features')\n",
    "\n",
    "# label_manager = LabelManager()\n",
    "# %time L_train = label_manager.load(session, train, 'LF Labels')"
   ]
  },
  {
   "cell_type": "code",
   "execution_count": null,
   "metadata": {
    "collapsed": false
   },
   "outputs": [],
   "source": [
    "from snorkel.learning import NaiveBayes\n",
    "\n",
    "gen_model = NaiveBayes()\n",
    "gen_model.train(L_train, n_iter=15000, rate=1e-2)\n",
    "\n",
    "#%time gen_model.save(session, 'Generative Params')\n",
    "train_marginals = gen_model.marginals(L_train)"
   ]
  },
  {
   "cell_type": "code",
   "execution_count": null,
   "metadata": {
    "collapsed": false
   },
   "outputs": [],
   "source": [
    "from snorkel.learning import LogReg\n",
    "\n",
    "disc_model = LogReg()\n",
    "disc_model.train(F_train, train_marginals, n_iter=2000, rate=1e-5)\n",
    "#%time disc_model.save(session, \"Discriminative Params\")"
   ]
  },
  {
   "cell_type": "code",
   "execution_count": null,
   "metadata": {
    "collapsed": false
   },
   "outputs": [],
   "source": [
    "train_gold = session.query(CandidateSet).filter(\n",
    "    CandidateSet.name == 'Hardware Training Candidates -- Gold').one()"
   ]
  },
  {
   "cell_type": "code",
   "execution_count": null,
   "metadata": {
    "collapsed": true
   },
   "outputs": [],
   "source": [
    "dev_gold = session.query(CandidateSet).filter(\n",
    "    CandidateSet.name == 'Hardware Development Candidates -- Gold').one()"
   ]
  },
  {
   "cell_type": "code",
   "execution_count": null,
   "metadata": {
    "collapsed": false
   },
   "outputs": [],
   "source": [
    "from snorkel.models import CandidateSet\n",
    "from snorkel.annotations import LabelManager\n",
    "label_manager = LabelManager()\n",
    "L_dev = label_manager.load(session, dev, 'Hardware Development Labels -- Gold')"
   ]
  },
  {
   "cell_type": "code",
   "execution_count": null,
   "metadata": {
    "collapsed": false
   },
   "outputs": [],
   "source": [
    "tp, fp, tn, fn = disc_model.score(F_dev, L_dev, dev_gold)"
   ]
  },
  {
   "cell_type": "code",
   "execution_count": null,
   "metadata": {
    "collapsed": false
   },
   "outputs": [],
   "source": [
    "from snorkel.models import Corpus\n",
    "from hardware_utils import entity_level_f1\n",
    "import os\n",
    "\n",
    "gold_file = os.environ['SNORKELHOME'] + '/tutorials/tables/data/hardware/hardware_gold.csv'\n",
    "corpus = session.query(Corpus).filter(Corpus.name == 'Hardware Development').one()\n",
    "(TP, FP, FN) = entity_level_f1(tp, fp, tn, fn, gold_file, corpus, 'polarity')"
   ]
  },
  {
   "cell_type": "code",
   "execution_count": null,
   "metadata": {
    "collapsed": false
   },
   "outputs": [],
   "source": [
    "from pprint import pprint\n",
    "FP_list = sorted(list(FP))\n",
    "pprint(FP_list[:10])"
   ]
  },
  {
   "cell_type": "code",
   "execution_count": null,
   "metadata": {
    "collapsed": false
   },
   "outputs": [],
   "source": [
    "print '\\n'.join(unicode(x[0]) for x in disc_model.get_feature_weights(F_dev))"
   ]
  },
  {
   "cell_type": "code",
   "execution_count": null,
   "metadata": {
    "collapsed": false
   },
   "outputs": [],
   "source": [
    "from hardware_utils import entity_to_candidates\n",
    "\n",
    "entity = FP_list[0]\n",
    "matches = entity_to_candidates(entity, fp)\n",
    "print \"Entity: (%d matches)\" % len(matches)\n",
    "print entity\n",
    "\n",
    "candidate = matches[0]\n",
    "print \"\\nCandidate:\"\n",
    "print candidate\n",
    "\n",
    "print \"\\nScore:\"\n",
    "print disc_model.get_candidate_score(candidate, F_dev)\n",
    "\n",
    "print \"\\nFeatures:\"\n",
    "pprint(disc_model.get_candidate_feature_weights(candidate, F_dev))"
   ]
  },
  {
   "cell_type": "code",
   "execution_count": null,
   "metadata": {
    "collapsed": false
   },
   "outputs": [],
   "source": [
    "from hardware_utils import part_error_analysis\n",
    "part_error_analysis(candidate)"
   ]
  }
 ],
 "metadata": {
  "anaconda-cloud": {},
  "kernelspec": {
   "display_name": "Python 2",
   "language": "python",
   "name": "python2"
  },
  "language_info": {
   "codemirror_mode": {
    "name": "ipython",
    "version": 2
   },
   "file_extension": ".py",
   "mimetype": "text/x-python",
   "name": "python",
   "nbconvert_exporter": "python",
   "pygments_lexer": "ipython2",
   "version": "2.7.12"
  }
 },
 "nbformat": 4,
 "nbformat_minor": 1
}
