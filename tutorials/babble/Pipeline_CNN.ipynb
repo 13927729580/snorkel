{
 "cells": [
  {
   "cell_type": "code",
   "execution_count": 1,
   "metadata": {},
   "outputs": [
    {
     "name": "stdout",
     "output_type": "stream",
     "text": [
      "The autoreload extension is already loaded. To reload it, use:\n",
      "  %reload_ext autoreload\n"
     ]
    }
   ],
   "source": [
    "%load_ext autoreload\n",
    "%autoreload 2"
   ]
  },
  {
   "cell_type": "code",
   "execution_count": 2,
   "metadata": {},
   "outputs": [],
   "source": [
    "config = {\n",
    "    'domain': 'bike',\n",
    "    'postgres': False,\n",
    "    'debug': True\n",
    "}"
   ]
  },
  {
   "cell_type": "code",
   "execution_count": 3,
   "metadata": {},
   "outputs": [
    {
     "name": "stdout",
     "output_type": "stream",
     "text": [
      "$SNORKELDB = sqlite:///babble_bike_debug.db\n"
     ]
    }
   ],
   "source": [
    "# Get DB connection string and add to globals\n",
    "# NOTE: $SNORKELDB must be set before any snorkel imports\n",
    "import os\n",
    "\n",
    "default_db_name = 'babble_' + config['domain'] + ('_debug' if config['debug'] else '')\n",
    "DB_NAME = getattr(config, 'db_name', default_db_name)\n",
    "if 'postgres' in config and config['postgres']:\n",
    "    DB_TYPE = 'postgres'\n",
    "else:\n",
    "    DB_TYPE = 'sqlite'\n",
    "    DB_NAME += '.db'\n",
    "DB_ADDR = \"localhost:{0}\".format(config['db_port']) if 'db_port' in config else \"\"\n",
    "os.environ['SNORKELDB'] = '{0}://{1}/{2}'.format(DB_TYPE, DB_ADDR, DB_NAME)\n",
    "print(\"$SNORKELDB = {0}\".format(os.environ['SNORKELDB']))"
   ]
  },
  {
   "cell_type": "code",
   "execution_count": 4,
   "metadata": {
    "scrolled": false
   },
   "outputs": [
    {
     "name": "stdout",
     "output_type": "stream",
     "text": [
      "NOTE: --debug=True: modifying parameters...\n"
     ]
    }
   ],
   "source": [
    "from snorkel import SnorkelSession\n",
    "session = SnorkelSession()\n",
    "\n",
    "# Resolve config conflicts (nb_config > local_config > global_config)\n",
    "from snorkel.contrib.babble.pipelines import merge_configs, get_local_pipeline\n",
    "config = merge_configs(config)\n",
    "\n",
    "if config['debug']:\n",
    "    print(\"NOTE: --debug=True: modifying parameters...\")\n",
    "    config['max_docs'] = 100\n",
    "    config['gen_model_search_space'] = 1\n",
    "    config['disc_model_search_space'] = 1\n",
    "    config['gen-params-default']['epochs'] = 25\n",
    "    config['disc-params-default']['n_epochs'] = 5\n",
    "\n",
    "from snorkel.models import candidate_subclass\n",
    "candidate_class = candidate_subclass(config['candidate_name'], config['candidate_entities'])\n",
    "\n",
    "pipeline = get_local_pipeline(config['domain'])\n",
    "pipe = pipeline(session, candidate_class, config)"
   ]
  },
  {
   "cell_type": "code",
   "execution_count": 5,
   "metadata": {},
   "outputs": [
    {
     "name": "stdout",
     "output_type": "stream",
     "text": [
      "Clearing existing...\n",
      "Running UDF...\n",
      "Running UDF...\n"
     ]
    }
   ],
   "source": [
    "pipe.parse()"
   ]
  },
  {
   "cell_type": "code",
   "execution_count": 6,
   "metadata": {
    "scrolled": true
   },
   "outputs": [
    {
     "name": "stdout",
     "output_type": "stream",
     "text": [
      "Extraction was performed during parse stage.\n",
      "Candidates [Split 0]: 2406\n",
      "Candidates [Split 1]: 1037\n"
     ]
    }
   ],
   "source": [
    "pipe.extract()"
   ]
  },
  {
   "cell_type": "code",
   "execution_count": 7,
   "metadata": {
    "scrolled": true
   },
   "outputs": [
    {
     "name": "stdout",
     "output_type": "stream",
     "text": [
      "Reading val CSV!\n",
      "Num HITs unique: 495\n",
      "Num HITs total: 997\n",
      "Unanimous: 311\n",
      "Majority: 772\n",
      "Bad: 131\n",
      "Reading train CSV!\n",
      "Num HITs unique: 602\n",
      "Num HITs total: 1806\n",
      "Unanimous: 1660\n",
      "Majority: 883\n",
      "Bad: 304\n",
      "AnnotatorLabels created: 906\n",
      "AnnotatorLabels created: 2102\n"
     ]
    }
   ],
   "source": [
    "pipe.load_gold()"
   ]
  },
  {
   "cell_type": "code",
   "execution_count": 8,
   "metadata": {
    "scrolled": false
   },
   "outputs": [
    {
     "name": "stdout",
     "output_type": "stream",
     "text": [
      "Reading train CSV!\n",
      "Num HITs unique: 40\n",
      "Num HITs total: 120\n",
      "Unanimous: 99\n",
      "Majority: 63\n",
      "Bad: 27\n",
      "Building list of target candidate ids...\n",
      "Collected 131 unique target candidate ids from 358 explanations.\n",
      "Gathering desired candidates...\n",
      "Found 131/131 desired candidates\n",
      "Linking explanations to candidates...\n",
      "Linked 358/358 explanations\n",
      "Calling babbler...\n",
      "Created grammar with 431 rules\n",
      "336 parses created from 241 out of 358 explanation(s)\n",
      "Parsed 336 LFs from 358 explanations.\n",
      "Filtered to 98 LFs with duplicate semantics filter (238 filtered).\n",
      "Filtered to 57 LFs with consistency filter (41 filtered).\n",
      "Clearing existing...\n",
      "Running UDF...\n",
      "[========================================] 100%\n",
      "\n",
      "Filtered to 47 LFs with uniform signatures filter (10 filtered).\n",
      "Filtered to 33 LFs with duplicate signatures filter (14 filtered).\n"
     ]
    }
   ],
   "source": [
    "pipe.collect()"
   ]
  },
  {
   "cell_type": "code",
   "execution_count": 9,
   "metadata": {},
   "outputs": [
    {
     "name": "stdout",
     "output_type": "stream",
     "text": [
      "Clearing existing...\n",
      "Running UDF...\n",
      "[========================================] 100%\n",
      "\n",
      "\n",
      "Labeled split 0: (2406,33) sparse (nnz = 41059)\n",
      "Clearing existing...\n",
      "Running UDF...\n",
      "[========================================] 100%\n",
      "\n",
      "\n",
      "Labeled split 1: (1037,33) sparse (nnz = 17416)\n",
      "                   j  Coverage  Overlaps  Conflicts   TP   FP   FN   TN  \\\n",
      "Explanation11_0    0  0.372228  0.372228   0.372228    0    0   59  278   \n",
      "Explanation12_0    1  0.487946  0.487946   0.487946    0    0   77  357   \n",
      "Explanation147_0   2  0.516876  0.516876   0.516876    0    0  101  374   \n",
      "Explanation16_0    3  0.392478  0.392478   0.392478    0    0   15  353   \n",
      "Explanation172_0   4  0.591128  0.591128   0.591128  144  355    0    0   \n",
      "Explanation185_0   5  0.511090  0.511090   0.511090   98  370    0    0   \n",
      "Explanation197_0   6  0.214079  0.214079   0.214079    0    0    6  195   \n",
      "Explanation20_0    7  0.816779  0.816779   0.816779    0    0  174  571   \n",
      "Explanation22_0    8  0.778206  0.778206   0.778206    0    0  171  528   \n",
      "Explanation249_0   9  0.398264  0.398264   0.398264    0    0   17  357   \n",
      "Explanation254_0  10  0.631630  0.631630   0.631630  149  390    0    0   \n",
      "Explanation254_4  11  0.638380  0.638380   0.638380  150  403    0    0   \n",
      "Explanation254_5  12  0.495661  0.495661   0.495661   80  364    0    0   \n",
      "Explanation28_0   13  0.504339  0.504339   0.504339    0    0   97  365   \n",
      "Explanation291_0  14  0.619094  0.619094   0.619094    0    0  157  377   \n",
      "Explanation294_0  15  0.607522  0.607522   0.607522  162  376    0    0   \n",
      "Explanation30_0   16  0.404050  0.404050   0.404050  102  224    0    0   \n",
      "Explanation31_0   17  0.601736  0.601736   0.601736  160  372    0    0   \n",
      "Explanation327_2  18  0.285439  0.285439   0.285439    0    0   20  260   \n",
      "Explanation330_0  19  0.387657  0.387657   0.387657  102  204    0    0   \n",
      "Explanation331_0  20  0.606557  0.606557   0.606557  131  393    0    0   \n",
      "Explanation341_0  21  0.727097  0.727097   0.727097    0    0   42  624   \n",
      "Explanation351_0  22  0.472517  0.472517   0.472517    0    0  108  281   \n",
      "Explanation36_0   23  0.484089  0.484089   0.484089    0    0   77  358   \n",
      "Explanation39_0   24  0.101254  0.101254   0.101254    0    0    0   97   \n",
      "Explanation40_0   25  0.627772  0.627772   0.627772    0    0  118  451   \n",
      "Explanation5_0    26  0.272903  0.272903   0.272903  135  105    0    0   \n",
      "Explanation53_0   27  0.488910  0.488910   0.488910   79  359    0    0   \n",
      "Explanation6_0    28  0.398264  0.398264   0.398264    0    0   67  250   \n",
      "Explanation60_0   29  0.553520  0.553520   0.553520    0    0  113  354   \n",
      "Explanation71_0   30  0.106075  0.106075   0.106075    0    0    5   88   \n",
      "Explanation86_0   31  0.802314  0.802314   0.802314  169  540    0    0   \n",
      "Explanation94_0   32  0.898746  0.898746   0.898746  177  632    0    0   \n",
      "\n",
      "                  Empirical Acc.  \n",
      "Explanation11_0         0.824926  \n",
      "Explanation12_0         0.822581  \n",
      "Explanation147_0        0.787368  \n",
      "Explanation16_0         0.959239  \n",
      "Explanation172_0        0.288577  \n",
      "Explanation185_0        0.209402  \n",
      "Explanation197_0        0.970149  \n",
      "Explanation20_0         0.766443  \n",
      "Explanation22_0         0.755365  \n",
      "Explanation249_0        0.954545  \n",
      "Explanation254_0        0.276438  \n",
      "Explanation254_4        0.271248  \n",
      "Explanation254_5        0.180180  \n",
      "Explanation28_0         0.790043  \n",
      "Explanation291_0        0.705993  \n",
      "Explanation294_0        0.301115  \n",
      "Explanation30_0         0.312883  \n",
      "Explanation31_0         0.300752  \n",
      "Explanation327_2        0.928571  \n",
      "Explanation330_0        0.333333  \n",
      "Explanation331_0        0.250000  \n",
      "Explanation341_0        0.936937  \n",
      "Explanation351_0        0.722365  \n",
      "Explanation36_0         0.822989  \n",
      "Explanation39_0         1.000000  \n",
      "Explanation40_0         0.792619  \n",
      "Explanation5_0          0.562500  \n",
      "Explanation53_0         0.180365  \n",
      "Explanation6_0          0.788644  \n",
      "Explanation60_0         0.758030  \n",
      "Explanation71_0         0.946237  \n",
      "Explanation86_0         0.238364  \n",
      "Explanation94_0         0.218789  \n"
     ]
    }
   ],
   "source": [
    "pipe.label()"
   ]
  },
  {
   "cell_type": "code",
   "execution_count": null,
   "metadata": {
    "scrolled": false
   },
   "outputs": [
    {
     "name": "stdout",
     "output_type": "stream",
     "text": [
      "Using L_train: <2406x33 sparse matrix of type '<type 'numpy.int64'>'\n",
      "\twith 41059 stored elements in Compressed Sparse Row format>\n",
      "Using L_dev: <1037x33 sparse matrix of type '<type 'numpy.int64'>'\n",
      "\twith 17416 stored elements in Compressed Sparse Row format>\n",
      "Skipping grid search.\n",
      "Inferred cardinality: 2\n",
      "[GenerativeModel] Model saved as <generative_bike>.\n",
      "\n",
      "Gen. model (DP) score on dev set (b=0.9):\n",
      "========================================\n",
      "Scores (Un-adjusted)\n",
      "========================================\n",
      "Pos. class accuracy: 1.0\n",
      "Neg. class accuracy: 0.0\n",
      "Precision            0.171\n",
      "Recall               1.0\n",
      "F1                   0.292\n",
      "----------------------------------------\n",
      "TP: 177 | FP: 860 | TN: 0 | FN: 0\n",
      "========================================\n",
      "\n"
     ]
    },
    {
     "data": {
      "image/png": "[encoded data removed]",
      "text/plain": [
       "<matplotlib.figure.Figure at 0x7f3fd584b910>"
      ]
     },
     "metadata": {},
     "output_type": "display_data"
    }
   ],
   "source": [
    "pipe.supervise()"
   ]
  },
  {
   "cell_type": "code",
   "execution_count": null,
   "metadata": {
    "scrolled": true
   },
   "outputs": [
    {
     "name": "stdout",
     "output_type": "stream",
     "text": [
      "Loading Images...\n",
      "Calling TFSlim...\n"
     ]
    }
   ],
   "source": [
    "config['disc_model_class'] = 'inception_v3'\n",
    "pipe.classify()"
   ]
  },
  {
   "cell_type": "raw",
   "metadata": {},
   "source": []
  }
 ],
 "metadata": {
  "kernelspec": {
   "display_name": "Python 2",
   "language": "python",
   "name": "python2"
  },
  "language_info": {
   "codemirror_mode": {
    "name": "ipython",
    "version": 2
   },
   "file_extension": ".py",
   "mimetype": "text/x-python",
   "name": "python",
   "nbconvert_exporter": "python",
   "pygments_lexer": "ipython2",
   "version": "2.7.13"
  }
 },
 "nbformat": 4,
 "nbformat_minor": 2
}
