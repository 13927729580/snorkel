{
 "cells": [
  {
   "cell_type": "markdown",
   "metadata": {},
   "source": [
    "# Creating Gold Annotation Labels with BRAT\n",
    "\n",
    "This is a short tutorial on how to use BRAT (Brat Rapid Annotation Tool), and\n",
    "online environment for collaborative text annotation. \n",
    "\n",
    "http://brat.nlplab.org/\n"
   ]
  },
  {
   "cell_type": "code",
   "execution_count": 1,
   "metadata": {
    "collapsed": false
   },
   "outputs": [],
   "source": [
    "%load_ext autoreload\n",
    "%autoreload 2\n",
    "%matplotlib inline\n",
    "import os\n",
    "import numpy as np\n",
    "\n",
    "# Connect to the database backend and initalize a Snorkel session\n",
    "from lib.init import *"
   ]
  },
  {
   "cell_type": "markdown",
   "metadata": {},
   "source": [
    "## Step 1: Define a `Candidate` Type"
   ]
  },
  {
   "cell_type": "code",
   "execution_count": 2,
   "metadata": {
    "collapsed": true
   },
   "outputs": [],
   "source": [
    "Spouse = candidate_subclass('Spouse', ['person1', 'person2'])"
   ]
  },
  {
   "cell_type": "markdown",
   "metadata": {},
   "source": [
    "### a) Select an example `Candidate` and `Document` \n",
    "\n",
    "Candidates are divided into 3 splits mapping to a unique integer id:  \n",
    "0: _training_  \n",
    "1: _development_  \n",
    "2: _testing_   \n",
    "\n",
    "In this tutorial, we'll load our training set candidates and create gold labels for a document using the BRAT interface"
   ]
  },
  {
   "cell_type": "markdown",
   "metadata": {},
   "source": [
    "## Step 2: Launching BRAT\n",
    "BRAT runs as as seperate server application. When you first initialize this server, you need to provide your applications `Candidate` type. For this tutorial, we use the `Spouse` relation defined above, which consists of a pair of `PERSON` named entities connected by marriage. \n",
    "\n",
    "Currently, we only support 1 relation type per-application. "
   ]
  },
  {
   "cell_type": "code",
   "execution_count": 3,
   "metadata": {
    "collapsed": false
   },
   "outputs": [
    {
     "name": "stdout",
     "output_type": "stream",
     "text": [
      "Launching BRAT server at http://localhost:8001 [pid=36348]...\n"
     ]
    }
   ],
   "source": [
    "from snorkel.contrib.brat import BratAnnotator\n",
    "\n",
    "brat = BratAnnotator(session, Spouse, encoding='utf-8')"
   ]
  },
  {
   "cell_type": "markdown",
   "metadata": {},
   "source": [
    "### a) Initialize our document collection\n",
    "\n",
    "BRAT creates a local copy of all the documents and annotations found in a `split` set. We initialize or document collection by passing in a set of candidates via the `split` id. Annotations are stored as plain text files in [standoff](http://brat.nlplab.org/standoff.html) format.\n",
    "\n",
    "<div style=\"margin-top:10px\">\n",
    "<div style=\"float:left; width:30%; margin-right:10px\">\n",
    "<img src=\"imgs/brat-login.jpg\" width=\"275px\">\n",
    "<p><b>Figure 1</b>: BRAT Login Screen</p>\n",
    "</div>\n",
    "<div style=\"float:right; width:65%\">\n",
    "After launching the BRAT annotator for the first time, you will need to login to begin editing annotations. Navigate your mouse to the upper right-hand corner of the BRAT interface (see Fig. 1) click 'login' and enter the following information:\n",
    "<br>\n",
    "<ul>\n",
    "<li><b>login</b>: brat</li>\n",
    "<li><b>password</b>: brat</li>\n",
    "</ul>\n",
    "<br>\n",
    "Advanced BRAT users can setup multiple annotator accounts by adding USER/PASSWORD key pairs to the `USER_PASSWORD` dictionary found in `snokel/contrib/brat/brat-v1.3_Crunchy_Frog/config.py`. This is useful if you would like to keep track of multiple annotator judgements for later adjudication or use as labeling functions as per our tutorial using [Snorkel for Crowdsourcing](https://github.com/HazyResearch/snorkel/blob/master/tutorials/crowdsourcing/Crowdsourced_Sentiment_Analysis.ipynb).\n",
    "</div>\n",
    "</div>\n",
    "\n",
    "<br style=\"clear: both;\"/>"
   ]
  },
  {
   "cell_type": "code",
   "execution_count": 5,
   "metadata": {
    "collapsed": false
   },
   "outputs": [
    {
     "name": "stdout",
     "output_type": "stream",
     "text": [
      "Removed existing collection at 'spouse/train'\n"
     ]
    }
   ],
   "source": [
    "brat.init_collection(\"spouse/train\", split=0)"
   ]
  },
  {
   "cell_type": "markdown",
   "metadata": {},
   "source": [
    "### b) Launch BRAT Interface in a New Window\n",
    "Once our collection is initialized, we can view specific documents for annotation. The default mode is to generate a HTML link to a new BRAT browser window. Click this link to connect to launch the annotator editor. "
   ]
  },
  {
   "cell_type": "code",
   "execution_count": 6,
   "metadata": {
    "collapsed": false
   },
   "outputs": [
    {
     "data": {
      "text/html": [
       "<a href='http://localhost:8001/index.xhtml#/spouse/train/5ede8912-59c9-4ba9-93df-c58cebb542b7' target='_blank'>Launch BRAT</a>"
      ],
      "text/plain": [
       "<IPython.core.display.HTML object>"
      ]
     },
     "metadata": {},
     "output_type": "display_data"
    }
   ],
   "source": [
    "doc_name = '5ede8912-59c9-4ba9-93df-c58cebb542b7'\n",
    "doc = session.query(Document).filter(Document.name==doc_name).one()\n",
    "\n",
    "brat.view(\"spouse/train\", doc)"
   ]
  },
  {
   "cell_type": "markdown",
   "metadata": {},
   "source": [
    "If you do not have a specific document to edit, you can optionally launch a BRAT file browser to navigate through all files found in the target collection."
   ]
  },
  {
   "cell_type": "code",
   "execution_count": 7,
   "metadata": {
    "collapsed": false
   },
   "outputs": [
    {
     "data": {
      "text/html": [
       "<a href='http://localhost:8001/index.xhtml#/spouse/train/' target='_blank'>Launch BRAT</a>"
      ],
      "text/plain": [
       "<IPython.core.display.HTML object>"
      ]
     },
     "metadata": {},
     "output_type": "display_data"
    }
   ],
   "source": [
    "brat.view(\"spouse/train\")"
   ]
  },
  {
   "cell_type": "markdown",
   "metadata": {},
   "source": [
    "## Step 3: Creating Gold Label Annotations\n",
    "\n",
    "### a) Annotating Named Entities\n",
    "`Spouse` relations consist of 2 `PERSON` named entities. When annotating our validation documents, the first task is to identify our target entities. In this tutorial, we will annotate all `PERSON` mentions found in our example document, though for your application you may choose to only label those that particpate in a true relation. \n",
    "\n",
    "<div style=\"margin-top:10px\">\n",
    "<div style=\"float:left; width:45%; margin-right:10px\">\n",
    "<img src=\"imgs/brat-anno-dialog.jpg\" width=\"600px\">\n",
    "<p><b>Figure 2</b>: BRAT Annotation Dialog Window</p>\n",
    "</div>\n",
    "<div style=\"float:right; width:50%\">\n",
    "\n",
    "Begin by selecting and highlighting the text corresponding to a `PERSON` entity. Once highlighted, an annotation dialog will appear on your screen (see Fig. 2). If this is correct, click ok. Repeat this for every entity you find in the document.\n",
    "\n",
    "<b>Recommended Annotation Guidelines</b>\n",
    "<ul>\n",
    "<li><b><span style=\"color:red\">Do not</span></b> include formal titles roles, e.g., <i><b>Pastor</b> Jeff</i>, <i><b>Prime Minister</b> Prayut Chan-O-Cha</i>\n",
    "<li>Do include informal titles, stage names, and nicknames, <i><b>Dog the Bounty Hunter</b></i></li>\n",
    "<li>Include possessive's, e.g., <i>Anna<b>'s</b></i>.</li>\n",
    "<li><b><span style=\"color:red\">Do not</span></b> include family names, e.g., <i>the Duggar family</i>.</li>\n",
    "</ul></div></div>\n",
    "<br style=\"clear: both;\"/>\n",
    "\n",
    "### b) Annotating Relations\n",
    "\n",
    "To annotate `Spouse` relations, we look through all pairs of `PERSON` entities found within a single sentence. BRAT identifies the bounds of each sentence and renders a numbered row in the annotation window (see the left-most column for the sentence number).  \n",
    "\n",
    "<div style=\"margin-top:10px\">\n",
    "<div style=\"float:left; width:45%; margin-right:10px\">\n",
    "<img src=\"imgs/brat-relation.jpg\" width=\"450px\">\n",
    "<p><b>Figure 3</b>: BRAT NER and Relation Labels</p>\n",
    "</div>\n",
    "<div style=\"float:right; width:50%\">\n",
    "\n",
    "Annotating relations is done through simple drag and drop. Begin by clicking and holding on a single `PERSON` entity and then drag that entity to its corresponding spouse entity. That is it!\n",
    "\n",
    "<b>Recommended Annotation Guidelines</b>\n",
    "<ul>\n",
    "<li>Restrict `PERSON` pairs to those found in the same sentence.</li>\n",
    "<li>The order of `PERSON` arguments does not matter in this application.</li>\n",
    "<li>Do not include relations where a `PERSON` argument is wrong or otherwise incomplete.</li>\n",
    "</ul></div></div>\n",
    "<br style=\"clear: both;\"/>\n",
    "\n"
   ]
  },
  {
   "cell_type": "markdown",
   "metadata": {},
   "source": [
    "## Step 4: Scoring Models using BRAT Labels\n",
    "\n",
    "### a) Evaluating System Recall\n",
    "\n",
    "Creating gold validation data with BRAT is a critical evaluation step because it allows us to compute an estimate of our model's _true recall_. When we create labeled data over a candidate set created by Snorkel, we miss mentions of relations that our candidate extraction step misses. This causes us to overestimate the system's true recall.\n",
    "\n",
    "In the code below, we show how to map BRAT annotations to an existing set of Snorkel candidates and compute some associated metrics. "
   ]
  },
  {
   "cell_type": "code",
   "execution_count": 8,
   "metadata": {
    "collapsed": true
   },
   "outputs": [],
   "source": [
    "train_cands = session.query(Candidate).filter(Candidate.split==0).all()"
   ]
  },
  {
   "cell_type": "markdown",
   "metadata": {},
   "source": [
    "### b) Mapping BRAT Annotations to Snorkel Candidates\n",
    "We annotated a single document using BRAT to illustrate the difference in scores when we factor in the effects of candidate generation. "
   ]
  },
  {
   "cell_type": "code",
   "execution_count": 9,
   "metadata": {
    "collapsed": false
   },
   "outputs": [
    {
     "name": "stderr",
     "output_type": "stream",
     "text": [
      "Mapped 7/14 (50%) of BRAT labels to candidates\n"
     ]
    }
   ],
   "source": [
    "mapped_train, missed_train = brat.map_annotations(session, \"spouse/train\", train_cands)"
   ]
  },
  {
   "cell_type": "markdown",
   "metadata": {},
   "source": [
    "Our candidate extractor only captures 7/14 (50%) of true mentions in this document. Our real system's recall is likely even worse, since we won't correctly predict the label for all true candidates. "
   ]
  },
  {
   "cell_type": "markdown",
   "metadata": {},
   "source": [
    "### c) Loading as Snorkel Gold Labels\n",
    "We can also load our BRAT annotations directly into the Snorkel database as follows: "
   ]
  },
  {
   "cell_type": "code",
   "execution_count": null,
   "metadata": {
    "collapsed": false
   },
   "outputs": [],
   "source": [
    "%time brat.import_gold_labels(session, \"spouse/train\", train_cands)"
   ]
  },
  {
   "cell_type": "markdown",
   "metadata": {},
   "source": [
    "### c) Evaluating Our Metrics\n",
    "Finally, let's evaluate the end model we trained in the discriminitive model notebook. We'll then compute the full, recall-corrected metrics for a small subset (n=10) of BRAT-annotated test documents.\n",
    "\n",
    "Important: These measures assume BRAT annotations are complete for the given set of documents!"
   ]
  },
  {
   "cell_type": "code",
   "execution_count": null,
   "metadata": {
    "collapsed": true
   },
   "outputs": [],
   "source": [
    "test_cands = session.query(Candidate).filter(Candidate.split==2).all()"
   ]
  },
  {
   "cell_type": "markdown",
   "metadata": {},
   "source": [
    "Since we're manually defining a subset of test documents with BRAT labels, let's build a query to initalize our candidate collection."
   ]
  },
  {
   "cell_type": "code",
   "execution_count": null,
   "metadata": {
    "collapsed": false
   },
   "outputs": [],
   "source": [
    "doc_ids = set(open(\"data/brat_test_docs.tsv\",\"rb\").read().splitlines())\n",
    "cid_query = [c.id for c in test_cands if c.get_parent().document.name in doc_ids]\n",
    "\n",
    "brat.init_collection(\"spouse/test-subset\", cid_query=cid_query, overwrite=False)"
   ]
  },
  {
   "cell_type": "code",
   "execution_count": null,
   "metadata": {
    "collapsed": false
   },
   "outputs": [],
   "source": [
    "brat.view(\"spouse/test-subset\")"
   ]
  },
  {
   "cell_type": "markdown",
   "metadata": {},
   "source": [
    "Now we'll load our test marginals and initalize the subset that maps to our BRAT annotated documents. "
   ]
  },
  {
   "cell_type": "code",
   "execution_count": null,
   "metadata": {
    "collapsed": false
   },
   "outputs": [],
   "source": [
    "marginals = np.load(\"test_marginals.npy\")"
   ]
  },
  {
   "cell_type": "code",
   "execution_count": null,
   "metadata": {
    "collapsed": false
   },
   "outputs": [],
   "source": [
    "brat.adjusted_score(session, test_cands, marginals, \"spouse/test-subset\")"
   ]
  }
 ],
 "metadata": {
  "kernelspec": {
   "display_name": "Python 2",
   "language": "python",
   "name": "python2"
  },
  "language_info": {
   "codemirror_mode": {
    "name": "ipython",
    "version": 2
   },
   "file_extension": ".py",
   "mimetype": "text/x-python",
   "name": "python",
   "nbconvert_exporter": "python",
   "pygments_lexer": "ipython2",
   "version": "2.7.13"
  }
 },
 "nbformat": 4,
 "nbformat_minor": 2
}
