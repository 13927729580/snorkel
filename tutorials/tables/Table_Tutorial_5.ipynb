{
 "cells": [
  {
   "cell_type": "markdown",
   "metadata": {},
   "source": [
    "## Part V: Training a Model with Data Programming"
   ]
  },
  {
   "cell_type": "code",
   "execution_count": 1,
   "metadata": {
    "collapsed": true
   },
   "outputs": [],
   "source": [
    "# If necessary:\n",
    "import os\n",
    "os.remove('snorkel.db');\n",
    "os.system('cp snorkel.db\\ features snorkel.db');"
   ]
  },
  {
   "cell_type": "code",
   "execution_count": 2,
   "metadata": {
    "collapsed": false
   },
   "outputs": [
    {
     "name": "stdout",
     "output_type": "stream",
     "text": [
      "The autoreload extension is already loaded. To reload it, use:\n",
      "  %reload_ext autoreload\n"
     ]
    }
   ],
   "source": [
    "%load_ext autoreload\n",
    "%autoreload 2\n",
    "\n",
    "from snorkel import SnorkelSession\n",
    "session = SnorkelSession()"
   ]
  },
  {
   "cell_type": "code",
   "execution_count": 3,
   "metadata": {
    "collapsed": false
   },
   "outputs": [],
   "source": [
    "from snorkel.models import candidate_subclass\n",
    "\n",
    "Part_Temp = candidate_subclass('Part_Temp', ['part','temp'])"
   ]
  },
  {
   "cell_type": "markdown",
   "metadata": {},
   "source": [
    "### Loading the `CandidateSet`, feature matrix, and label matrix"
   ]
  },
  {
   "cell_type": "code",
   "execution_count": 4,
   "metadata": {
    "collapsed": true
   },
   "outputs": [],
   "source": [
    "from snorkel.models import CandidateSet\n",
    "train = session.query(CandidateSet).filter(\n",
    "    CandidateSet.name == 'Hardware Training Candidates').one()"
   ]
  },
  {
   "cell_type": "code",
   "execution_count": 5,
   "metadata": {
    "collapsed": false
   },
   "outputs": [
    {
     "name": "stdout",
     "output_type": "stream",
     "text": [
      "CPU times: user 2 s, sys: 64.1 ms, total: 2.06 s\n",
      "Wall time: 2.1 s\n"
     ]
    }
   ],
   "source": [
    "from snorkel.annotations import FeatureManager\n",
    "\n",
    "feature_manager = FeatureManager()\n",
    "\n",
    "%time F_train = feature_manager.load(session, train, 'Train Features')"
   ]
  },
  {
   "cell_type": "code",
   "execution_count": 6,
   "metadata": {
    "collapsed": false
   },
   "outputs": [
    {
     "name": "stdout",
     "output_type": "stream",
     "text": [
      "CPU times: user 46 ms, sys: 3.28 ms, total: 49.2 ms\n",
      "Wall time: 66.4 ms\n"
     ]
    }
   ],
   "source": [
    "from snorkel.annotations import LabelManager\n",
    "\n",
    "label_manager = LabelManager()\n",
    "\n",
    "%time L_train = label_manager.load(session, train, 'LF Labels')"
   ]
  },
  {
   "cell_type": "markdown",
   "metadata": {},
   "source": [
    "## Train Generative Model"
   ]
  },
  {
   "cell_type": "code",
   "execution_count": 7,
   "metadata": {
    "collapsed": false
   },
   "outputs": [
    {
     "name": "stdout",
     "output_type": "stream",
     "text": [
      "================================================================================\n",
      "Training marginals (!= 0.5):\t319\n",
      "Features:\t\t\t13\n",
      "================================================================================\n",
      "Begin training for rate=1e-05, mu=1e-06\n",
      "\tLearning epoch = 0\tGradient mag. = 0.383645\n",
      "\tLearning epoch = 250\tGradient mag. = 0.403600\n",
      "\tLearning epoch = 500\tGradient mag. = 0.403362\n",
      "\tLearning epoch = 750\tGradient mag. = 0.403126\n",
      "\tLearning epoch = 1000\tGradient mag. = 0.402889\n",
      "\tLearning epoch = 1250\tGradient mag. = 0.402652\n",
      "\tLearning epoch = 1500\tGradient mag. = 0.402416\n",
      "\tLearning epoch = 1750\tGradient mag. = 0.402179\n",
      "\tLearning epoch = 2000\tGradient mag. = 0.401943\n",
      "\tLearning epoch = 2250\tGradient mag. = 0.401707\n",
      "\tLearning epoch = 2500\tGradient mag. = 0.401471\n",
      "\tLearning epoch = 2750\tGradient mag. = 0.401236\n",
      "Final gradient magnitude for rate=1e-05, mu=1e-06: 0.401\n"
     ]
    }
   ],
   "source": [
    "from snorkel.learning import NaiveBayes\n",
    "\n",
    "gen_model = NaiveBayes()\n",
    "gen_model.train(L_train, n_iter=3000, rate=1e-5)"
   ]
  },
  {
   "cell_type": "code",
   "execution_count": 8,
   "metadata": {
    "collapsed": true
   },
   "outputs": [],
   "source": [
    "gen_model.save(session, 'Generative Params')"
   ]
  },
  {
   "cell_type": "code",
   "execution_count": 9,
   "metadata": {
    "collapsed": true
   },
   "outputs": [],
   "source": [
    "train_marginals = gen_model.marginals(L_train)"
   ]
  },
  {
   "cell_type": "markdown",
   "metadata": {},
   "source": [
    "## Train Discriminative Model"
   ]
  },
  {
   "cell_type": "code",
   "execution_count": 10,
   "metadata": {
    "collapsed": false
   },
   "outputs": [
    {
     "name": "stdout",
     "output_type": "stream",
     "text": [
      "================================================================================\n",
      "Training marginals (!= 0.5):\t232\n",
      "Features:\t\t\t11085\n",
      "================================================================================\n",
      "Using gradient descent...\n",
      "\tLearning epoch = 0\tStep size = 0.001\n",
      "\tLoss = 160.810146\tGradient magnitude = 249.384722\n",
      "\tLearning epoch = 100\tStep size = 0.000904792147114\n",
      "\tLoss = 119.877978\tGradient magnitude = 163.152286\n",
      "\tLearning epoch = 200\tStep size = 0.000818648829479\n",
      "\tLoss = 114.811929\tGradient magnitude = 18.324685\n",
      "\tLearning epoch = 300\tStep size = 0.000740707032156\n",
      "\tLoss = 114.729231\tGradient magnitude = 0.405607\n",
      "\tLearning epoch = 400\tStep size = 0.000670185906007\n",
      "\tLoss = 114.720358\tGradient magnitude = 0.310139\n",
      "\tLearning epoch = 500\tStep size = 0.000606378944861\n",
      "\tLoss = 114.715288\tGradient magnitude = 0.256367\n",
      "\tLearning epoch = 600\tStep size = 0.000548646907485\n",
      "\tLoss = 114.711999\tGradient magnitude = 0.222457\n",
      "\tLearning epoch = 700\tStep size = 0.000496411413431\n",
      "\tLoss = 114.709685\tGradient magnitude = 0.199401\n",
      "\tLearning epoch = 800\tStep size = 0.00044914914861\n",
      "\tLoss = 114.707963\tGradient magnitude = 0.182861\n",
      "\tLearning epoch = 900\tStep size = 0.000406386622545\n",
      "\tLoss = 114.706632\tGradient magnitude = 0.170507\n",
      "\tLearning epoch = 1000\tStep size = 0.000367695424771\n",
      "\tLoss = 114.705571\tGradient magnitude = 0.160986\n",
      "\tLearning epoch = 1100\tStep size = 0.000332687932862\n",
      "\tLoss = 114.704707\tGradient magnitude = 0.153463\n",
      "\tLearning epoch = 1200\tStep size = 0.000301013429093\n",
      "\tLoss = 114.703991\tGradient magnitude = 0.147397\n",
      "\tLearning epoch = 1300\tStep size = 0.000272354586819\n",
      "\tLoss = 114.703390\tGradient magnitude = 0.142425\n",
      "\tLearning epoch = 1400\tStep size = 0.000246424291385\n",
      "\tLoss = 114.702880\tGradient magnitude = 0.138294\n",
      "\tLearning epoch = 1500\tStep size = 0.000222962763703\n",
      "\tLoss = 114.702443\tGradient magnitude = 0.134821\n",
      "\tLearning epoch = 1600\tStep size = 0.000201734957697\n",
      "\tLoss = 114.702066\tGradient magnitude = 0.131875\n",
      "\tLearning epoch = 1700\tStep size = 0.000182528205523\n",
      "\tLoss = 114.701738\tGradient magnitude = 0.129354\n",
      "\tLearning epoch = 1800\tStep size = 0.000165150086984\n",
      "\tLoss = 114.701453\tGradient magnitude = 0.127182\n",
      "\tLearning epoch = 1900\tStep size = 0.000149426501798\n",
      "\tLoss = 114.701202\tGradient magnitude = 0.125300\n",
      "\tLearning epoch = 2000\tStep size = 0.000135199925397\n",
      "\tLoss = 114.700982\tGradient magnitude = 0.123660\n",
      "\tLearning epoch = 2100\tStep size = 0.00012232783079\n",
      "\tLoss = 114.700788\tGradient magnitude = 0.122226\n",
      "\tLearning epoch = 2200\tStep size = 0.000110681260672\n",
      "\tLoss = 114.700616\tGradient magnitude = 0.120966\n",
      "\tLearning epoch = 2300\tStep size = 0.000100143535489\n",
      "\tLoss = 114.700463\tGradient magnitude = 0.119855\n",
      "\tLearning epoch = 2400\tStep size = 9.06090844946e-05\n",
      "\tLoss = 114.700327\tGradient magnitude = 0.118874\n",
      "\tLearning epoch = 2500\tStep size = 8.19823881078e-05\n",
      "\tLoss = 114.700207\tGradient magnitude = 0.118005\n",
      "\tLearning epoch = 2600\tStep size = 7.41770209616e-05\n",
      "\tLoss = 114.700099\tGradient magnitude = 0.117233\n",
      "\tLearning epoch = 2700\tStep size = 6.71147860624e-05\n",
      "\tLoss = 114.700002\tGradient magnitude = 0.116546\n",
      "\tLearning epoch = 2800\tStep size = 6.07249313844e-05\n",
      "\tLoss = 114.699916\tGradient magnitude = 0.115933\n",
      "\tLearning epoch = 2900\tStep size = 5.49434410507e-05\n",
      "\tLoss = 114.699839\tGradient magnitude = 0.115386\n",
      "\tLearning epoch = 3000\tStep size = 4.9712393998e-05\n",
      "\tLoss = 114.699770\tGradient magnitude = 0.114898\n",
      "\tLearning epoch = 3100\tStep size = 4.49793837036e-05\n",
      "\tLoss = 114.699707\tGradient magnitude = 0.114460\n",
      "\tLearning epoch = 3200\tStep size = 4.06969931571e-05\n",
      "\tLoss = 114.699652\tGradient magnitude = 0.114068\n",
      "\tLearning epoch = 3300\tStep size = 3.68223198197e-05\n",
      "\tLoss = 114.699601\tGradient magnitude = 0.113716\n",
      "\tLearning epoch = 3400\tStep size = 3.33165458113e-05\n",
      "\tLoss = 114.699556\tGradient magnitude = 0.113400\n",
      "\tLearning epoch = 3500\tStep size = 3.01445490191e-05\n",
      "\tLoss = 114.699516\tGradient magnitude = 0.113117\n",
      "\tLearning epoch = 3600\tStep size = 2.72745512307e-05\n",
      "\tLoss = 114.699479\tGradient magnitude = 0.112861\n",
      "\tLearning epoch = 3700\tStep size = 2.46777997696e-05\n",
      "\tLoss = 114.699446\tGradient magnitude = 0.112632\n",
      "\tLearning epoch = 3800\tStep size = 2.23282794396e-05\n",
      "\tLoss = 114.699416\tGradient magnitude = 0.112425\n",
      "\tLearning epoch = 3900\tStep size = 2.02024518955e-05\n",
      "\tLoss = 114.699389\tGradient magnitude = 0.112239\n",
      "\tLearning epoch = 4000\tStep size = 1.82790198275e-05\n",
      "\tLoss = 114.699365\tGradient magnitude = 0.112072\n",
      "\tLearning epoch = 4100\tStep size = 1.65387135968e-05\n",
      "\tLoss = 114.699343\tGradient magnitude = 0.111921\n",
      "\tLearning epoch = 4200\tStep size = 1.49640981858e-05\n",
      "\tLoss = 114.699324\tGradient magnitude = 0.111784\n",
      "\tLearning epoch = 4300\tStep size = 1.35393985271e-05\n",
      "\tLoss = 114.699306\tGradient magnitude = 0.111661\n",
      "\tLearning epoch = 4400\tStep size = 1.2250341464e-05\n",
      "\tLoss = 114.699290\tGradient magnitude = 0.111550\n",
      "\tLearning epoch = 4500\tStep size = 1.10840127561e-05\n",
      "\tLoss = 114.699275\tGradient magnitude = 0.111450\n",
      "\tLearning epoch = 4600\tStep size = 1.00287277002e-05\n",
      "\tLoss = 114.699262\tGradient magnitude = 0.111360\n",
      "\tLearning epoch = 4700\tStep size = 9.0739140687e-06\n",
      "\tLoss = 114.699251\tGradient magnitude = 0.111278\n",
      "\tLearning epoch = 4800\tStep size = 8.21000619294e-06\n",
      "\tLoss = 114.699240\tGradient magnitude = 0.111205\n",
      "\tLearning epoch = 4900\tStep size = 7.42834913113e-06\n",
      "\tLoss = 114.699230\tGradient magnitude = 0.111138\n"
     ]
    }
   ],
   "source": [
    "from snorkel.learning import LogReg\n",
    "\n",
    "disc_model = LogReg()\n",
    "disc_model.train(F_train, train_marginals, n_iter=5000, rate=1e-3)"
   ]
  },
  {
   "cell_type": "code",
   "execution_count": 11,
   "metadata": {
    "collapsed": false
   },
   "outputs": [
    {
     "data": {
      "text/plain": [
       "(11085,)"
      ]
     },
     "execution_count": 11,
     "metadata": {},
     "output_type": "execute_result"
    }
   ],
   "source": [
    "disc_model.w.shape"
   ]
  },
  {
   "cell_type": "code",
   "execution_count": 12,
   "metadata": {
    "collapsed": false
   },
   "outputs": [
    {
     "name": "stdout",
     "output_type": "stream",
     "text": [
      "CPU times: user 3.06 s, sys: 81.1 ms, total: 3.14 s\n",
      "Wall time: 3.06 s\n"
     ]
    }
   ],
   "source": [
    "%time disc_model.save(session, \"Discriminative Params\")"
   ]
  },
  {
   "cell_type": "markdown",
   "metadata": {},
   "source": [
    "## Assess Performance on Development Set"
   ]
  },
  {
   "cell_type": "code",
   "execution_count": 13,
   "metadata": {
    "collapsed": true
   },
   "outputs": [],
   "source": [
    "from snorkel.models import CandidateSet\n",
    "dev = session.query(CandidateSet).filter(\n",
    "    CandidateSet.name == 'Hardware Development Candidates').one()"
   ]
  },
  {
   "cell_type": "markdown",
   "metadata": {},
   "source": [
    "### Loading the Development Feature Matrix"
   ]
  },
  {
   "cell_type": "code",
   "execution_count": 14,
   "metadata": {
    "collapsed": false
   },
   "outputs": [
    {
     "name": "stdout",
     "output_type": "stream",
     "text": [
      "CPU times: user 2.01 s, sys: 51.8 ms, total: 2.06 s\n",
      "Wall time: 2.11 s\n"
     ]
    }
   ],
   "source": [
    "from snorkel.annotations import FeatureManager\n",
    "\n",
    "feature_manager = FeatureManager()\n",
    "%time F_dev = feature_manager.load(session, dev, 'Train Features')"
   ]
  },
  {
   "cell_type": "code",
   "execution_count": 15,
   "metadata": {
    "collapsed": false
   },
   "outputs": [],
   "source": [
    "L_dev = label_manager.load(session, dev, \"Hardware Development Labels -- Gold\")"
   ]
  },
  {
   "cell_type": "code",
   "execution_count": 16,
   "metadata": {
    "collapsed": false
   },
   "outputs": [],
   "source": [
    "gold_dev_set = session.query(CandidateSet).filter(\n",
    "    CandidateSet.name == 'Hardware Development Candidates -- Gold').one()"
   ]
  },
  {
   "cell_type": "code",
   "execution_count": 17,
   "metadata": {
    "collapsed": false
   },
   "outputs": [
    {
     "data": {
      "text/plain": [
       "(313, 11085)"
      ]
     },
     "execution_count": 17,
     "metadata": {},
     "output_type": "execute_result"
    }
   ],
   "source": [
    "F_dev.shape"
   ]
  },
  {
   "cell_type": "code",
   "execution_count": 18,
   "metadata": {
    "collapsed": false,
    "scrolled": true
   },
   "outputs": [
    {
     "name": "stdout",
     "output_type": "stream",
     "text": [
      "Calibration plot:\n",
      "========================================\n",
      "Recall-corrected Noise-aware Model\n",
      "========================================\n",
      "Pos. class accuracy: 0.7\n",
      "Neg. class accuracy: 0.932862190813\n",
      "Corpus Precision 0.525\n",
      "Corpus Recall    0.7\n",
      "Corpus F1        0.6\n",
      "----------------------------------------\n",
      "TP: 21 | FP: 19 | TN: 264 | FN: 9\n",
      "========================================\n",
      "\n",
      "========================================\n",
      "Recall-corrected Noise-aware Model\n",
      "========================================\n",
      "Pos. class accuracy: 0.7\n",
      "Neg. class accuracy: 0.932862190813\n",
      "Corpus Precision 0.525\n",
      "Corpus Recall    0.7\n",
      "Corpus F1        0.6\n",
      "----------------------------------------\n",
      "TP: 21 | FP: 19 | TN: 264 | FN: 9\n",
      "========================================\n",
      "\n"
     ]
    },
    {
     "name": "stderr",
     "output_type": "stream",
     "text": [
      "/Users/bradenhancock/anaconda/lib/python2.7/site-packages/numpy/core/_methods.py:59: RuntimeWarning: Mean of empty slice.\n",
      "  warnings.warn(\"Mean of empty slice.\", RuntimeWarning)\n"
     ]
    }
   ],
   "source": [
    "tp, fp, tn, fn = disc_model.score(F_dev, L_dev, gold_dev_set)"
   ]
  },
  {
   "cell_type": "code",
   "execution_count": 19,
   "metadata": {
    "collapsed": false
   },
   "outputs": [],
   "source": [
    "def error_analysis(c):\n",
    "    print c[0]\n",
    "    print c[0].parent\n",
    "    print (c[0].parent.row_num, c[0].parent.col_num)\n",
    "    print c[1]\n",
    "    print c[1].parent\n",
    "    print (c[1].parent.row_num, c[1].parent.col_num)"
   ]
  },
  {
   "cell_type": "code",
   "execution_count": 20,
   "metadata": {
    "collapsed": false
   },
   "outputs": [
    {
     "name": "stdout",
     "output_type": "stream",
     "text": [
      "Span(\"2N3905\", parent=1735, chars=[26,31], words=[3,3])\n",
      "Phrase(Document CSEMS03485-1, 0, u'The CENTRAL SEMICONDUCTOR 2N3905 and')\n",
      "(None, None)\n",
      "Span(\"-65\", parent=101754, chars=[0,2], words=[0,0])\n",
      "Phrase(Document CSEMS03485-1, 0, u'-65 to +150')\n",
      "(4, 2)\n",
      "['html', 'body', 'table', 'tr', 'td', 'p']\n"
     ]
    }
   ],
   "source": [
    "c = list(tp)[10]\n",
    "error_analysis(c)\n",
    "print c.temp.parent.html_anc_tags"
   ]
  },
  {
   "cell_type": "code",
   "execution_count": 21,
   "metadata": {
    "collapsed": false
   },
   "outputs": [
    {
     "name": "stdout",
     "output_type": "stream",
     "text": [
      "========================================\n",
      "Scoring on Entity-Level Gold Data\n",
      "========================================\n",
      "Corpus Precision 0.525\n",
      "Corpus Recall    0.196\n",
      "Corpus F1        0.286\n",
      "----------------------------------------\n",
      "TP: 21 | FP: 19 | FN: 86\n",
      "========================================\n",
      "\n"
     ]
    }
   ],
   "source": [
    "from snorkel.models import Corpus\n",
    "from hardware_utils import entity_level_f1\n",
    "import os\n",
    "\n",
    "filename = os.environ['SNORKELHOME'] + '/tutorials/tables/data/hardware/hardware_gold.csv'\n",
    "corpus = session.query(Corpus).filter(Corpus.name == 'Hardware Development').one()\n",
    "entity_level_f1(tp, fp, tn, fn, filename, corpus, 'stg_temp_min')"
   ]
  },
  {
   "cell_type": "code",
   "execution_count": 22,
   "metadata": {
    "collapsed": true
   },
   "outputs": [],
   "source": [
    "import os\n",
    "os.system('cp snorkel.db snorkel.db\\ final');"
   ]
  },
  {
   "cell_type": "markdown",
   "metadata": {},
   "source": [
    "The End."
   ]
  }
 ],
 "metadata": {
  "anaconda-cloud": {},
  "kernelspec": {
   "display_name": "Python [default]",
   "language": "python",
   "name": "python2"
  },
  "language_info": {
   "codemirror_mode": {
    "name": "ipython",
    "version": 2
   },
   "file_extension": ".py",
   "mimetype": "text/x-python",
   "name": "python",
   "nbconvert_exporter": "python",
   "pygments_lexer": "ipython2",
   "version": "2.7.12"
  }
 },
 "nbformat": 4,
 "nbformat_minor": 0
}
