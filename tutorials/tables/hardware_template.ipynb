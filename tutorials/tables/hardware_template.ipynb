{
 "cells": [
  {
   "cell_type": "markdown",
   "metadata": {},
   "source": [
    "# HARDWARE"
   ]
  },
  {
   "cell_type": "markdown",
   "metadata": {},
   "source": [
    "## Setup"
   ]
  },
  {
   "cell_type": "code",
   "execution_count": 1,
   "metadata": {
    "collapsed": false,
    "scrolled": false
   },
   "outputs": [
    {
     "name": "stdout",
     "output_type": "stream",
     "text": [
      "True\n"
     ]
    }
   ],
   "source": [
    "%load_ext autoreload\n",
    "%autoreload 2\n",
    "%matplotlib inline\n",
    "\n",
    "\"\"\"\n",
    "To change attributes:\n",
    "1) Change ATTRIBUTE and you're good to go\n",
    "\"\"\"\n",
    "ATTRIBUTE = 'stg_temp_max'\n",
    "COUNTER = '_test'\n",
    "PARALLEL = 30\n",
    "PARALLEL_EXTRACTION = 8\n",
    "TRAIN_SIZE = 5\n",
    "DEV_SIZE = 5\n",
    "TEST_SIZE = 5\n",
    "\n",
    "import os\n",
    "import sys\n",
    "sys.path.append(os.environ['SNORKELHOME'] + '/tutorials/tables/')\n",
    "snorkel_postgres = os.environ['SNORKELDB'].startswith('postgres')\n",
    "print snorkel_postgres"
   ]
  },
  {
   "cell_type": "code",
   "execution_count": 2,
   "metadata": {
    "collapsed": false
   },
   "outputs": [
    {
     "name": "stdout",
     "output_type": "stream",
     "text": [
      "0\n",
      "0\n",
      "SNORKELDBNAME = stg_temp_max_test\n"
     ]
    }
   ],
   "source": [
    "import os\n",
    "if snorkel_postgres:\n",
    "    os.environ['SNORKELDBNAME'] = ATTRIBUTE + str(COUNTER)\n",
    "    print os.system(\"dropdb \" + os.environ['SNORKELDBNAME'])\n",
    "    print os.system(\"createdb \" + os.environ['SNORKELDBNAME'])\n",
    "    print \"SNORKELDBNAME = %s\" % os.environ['SNORKELDBNAME']\n",
    "else:\n",
    "    try:\n",
    "        os.remove('snorkel.db')\n",
    "    except:\n",
    "        pass\n",
    "\n",
    "from snorkel import SnorkelSession\n",
    "session = SnorkelSession()"
   ]
  },
  {
   "cell_type": "markdown",
   "metadata": {},
   "source": [
    "## Parsing"
   ]
  },
  {
   "cell_type": "code",
   "execution_count": 3,
   "metadata": {
    "collapsed": false
   },
   "outputs": [
    {
     "name": "stdout",
     "output_type": "stream",
     "text": [
      "Starting async parse...\n",
      "[========================================] 100%\n",
      "CPU times: user 140 ms, sys: 164 ms, total: 304 ms\n",
      "Wall time: 13.6 s\n",
      "Corpus (Hardware Train) contains 5 documents\n",
      "[========================================] 100%\n",
      "CPU times: user 56 ms, sys: 144 ms, total: 200 ms\n",
      "Wall time: 5.72 s\n",
      "Corpus (Hardware Dev) contains 5 documents\n",
      "[========================================] 100%\n",
      "CPU times: user 44 ms, sys: 152 ms, total: 196 ms\n",
      "Wall time: 5.32 s\n",
      "Corpus (Hardware Test) contains 5 documents\n"
     ]
    }
   ],
   "source": [
    "import os\n",
    "if snorkel_postgres:\n",
    "    from snorkel.async_parser import parse_corpus, HTMLParser, AsyncOmniParser\n",
    "    print \"Starting async parse...\"\n",
    "    \n",
    "    # PARSE TRAIN\n",
    "    docs_path = os.environ['SNORKELHOME'] + '/tutorials/tables/data/hardware/train_digikey/html/'\n",
    "    pdf_path = os.environ['SNORKELHOME'] + '/tutorials/tables/data/hardware/train_digikey/pdf/'\n",
    "    doc_parser = HTMLParser()\n",
    "    context_parser = AsyncOmniParser(blacklist=['style'], flatten=['span','br'], \n",
    "                                     tabular=True, lingual=True,\n",
    "                                     visual=True, pdf_path=pdf_path)\n",
    "    %time corpus = parse_corpus(session, 'Hardware Train', docs_path,\\\n",
    "                                doc_parser, context_parser,\\\n",
    "                                max_docs=TRAIN_SIZE, parallel=PARALLEL)\n",
    "    print \"%s contains %d documents\" % (corpus, len(corpus))\n",
    "    \n",
    "    # PARSE DEV\n",
    "    docs_path = os.environ['SNORKELHOME'] + '/tutorials/tables/data/hardware/dev/html/'\n",
    "    pdf_path = os.environ['SNORKELHOME'] + '/tutorials/tables/data/hardware/dev/pdf/'\n",
    "    context_parser = AsyncOmniParser(blacklist=['style'], flatten=['span','br'], \n",
    "                                     tabular=True, lingual=True,\n",
    "                                     visual=True, pdf_path=pdf_path)\n",
    "    %time corpus = parse_corpus(session, 'Hardware Dev', docs_path,\\\n",
    "                                doc_parser, context_parser,\\\n",
    "                                max_docs=DEV_SIZE, parallel=PARALLEL)\n",
    "    print \"%s contains %d documents\" % (corpus, len(corpus))\n",
    "    \n",
    "    if TEST_SIZE:\n",
    "        # PARSE TEST\n",
    "        docs_path = os.environ['SNORKELHOME'] + '/tutorials/tables/data/hardware/test/html/'\n",
    "        pdf_path = os.environ['SNORKELHOME'] + '/tutorials/tables/data/hardware/test/pdf/'\n",
    "        context_parser = AsyncOmniParser(blacklist=['style'], flatten=['span','br'], \n",
    "                                         tabular=True, lingual=True,\n",
    "                                         visual=True, pdf_path=pdf_path)\n",
    "        %time corpus = parse_corpus(session, 'Hardware Test', docs_path,\\\n",
    "                                    doc_parser, context_parser,\\\n",
    "                                    max_docs=TEST_SIZE, parallel=PARALLEL)\n",
    "        print \"%s contains %d documents\" % (corpus, len(corpus))\n",
    "else:\n",
    "    from snorkel.parser import CorpusParser, HTMLParser, OmniParser\n",
    "    from snorkel.utils import get_ORM_instance\n",
    "    from snorkel.queries import split_corpus\n",
    "\n",
    "    print \"Starting sync parse...\"\n",
    "    # PARSE TRAIN\n",
    "    docs_path = os.environ['SNORKELHOME'] + '/tutorials/tables/data/hardware/train_small/html/'\n",
    "    pdf_path = os.environ['SNORKELHOME'] + '/tutorials/tables/data/hardware/train_small/pdf/'\n",
    "    doc_parser = HTMLParser(path=docs_path)\n",
    "    context_parser = AsyncOmniParser(blacklist=['style'], flatten=['span','br'], \n",
    "                                     tabular=True, lingual=True,\n",
    "                                     visual=True, pdf_path=pdf_path)\n",
    "    cp = CorpusParser(doc_parser, context_parser, max_docs=100)\n",
    "\n",
    "    %time corpus = cp.parse_corpus(name='Hardware Train', session=session)\n",
    "    print \"%s contains %d documents\" % corpus, len(corpus)\n",
    "\n",
    "    session.add(corpus)\n",
    "    session.commit()\n",
    "    \n",
    "    # PARSE DEV\n",
    "    docs_path = os.environ['SNORKELHOME'] + '/tutorials/tables/data/hardware/dev/html/'\n",
    "    pdf_path = os.environ['SNORKELHOME'] + '/tutorials/tables/data/hardware/dev/pdf/'\n",
    "    doc_parser = HTMLParser(path=docs_path)\n",
    "    context_parser = AsyncOmniParser(blacklist=['style'], flatten=['span','br'], \n",
    "                                 tabular=True, lingual=True,\n",
    "                                 visual=True, pdf_path=pdf_path)\n",
    "    cp = CorpusParser(doc_parser, context_parser, max_docs=125)\n",
    "\n",
    "    %time corpus = cp.parse_corpus(name='Hardware Dev', session=session)\n",
    "    print \"%s contains %d documents\" % (corpus, len(corpus))\n",
    "    session.add(corpus)\n",
    "    session.commit()"
   ]
  },
  {
   "cell_type": "code",
   "execution_count": 4,
   "metadata": {
    "collapsed": false
   },
   "outputs": [
    {
     "name": "stdout",
     "output_type": "stream",
     "text": [
      "CentralSemiconductorCorp_CXTA42TR\n",
      "CentralSemiconductorCorp_TIP147\n",
      "Sanken_2SD2083\n",
      "STMicroelectronics_STB130051\n",
      "MicrosemiIREDivision_JAN2N918UB\n"
     ]
    }
   ],
   "source": [
    "for d in corpus.documents.all(): print d.name"
   ]
  },
  {
   "cell_type": "markdown",
   "metadata": {},
   "source": [
    "### Save Corpus"
   ]
  },
  {
   "cell_type": "code",
   "execution_count": 5,
   "metadata": {
    "collapsed": true
   },
   "outputs": [],
   "source": [
    "# If necessary\n",
    "if not snorkel_postgres:\n",
    "    import os\n",
    "    os.system('cp snorkel.db snorkel.db\\ corpus');"
   ]
  },
  {
   "cell_type": "markdown",
   "metadata": {},
   "source": [
    "## Extraction"
   ]
  },
  {
   "cell_type": "code",
   "execution_count": 6,
   "metadata": {
    "collapsed": true
   },
   "outputs": [],
   "source": [
    "# # If necessary:\n",
    "# import os\n",
    "# os.remove('snorkel.db');\n",
    "# os.system('cp snorkel.db\\ corpus snorkel.db');\n",
    "\n",
    "# import sys\n",
    "# sys.path.append(os.environ['SNORKELHOME'] + '/tutorials/tables/')\n",
    "\n",
    "# from snorkel import SnorkelSession\n",
    "# session = SnorkelSession()"
   ]
  },
  {
   "cell_type": "code",
   "execution_count": 7,
   "metadata": {
    "collapsed": false
   },
   "outputs": [],
   "source": [
    "from snorkel.models import candidate_subclass\n",
    "\n",
    "Part_Attr = candidate_subclass('Part_Attr', ['part','attr'])"
   ]
  },
  {
   "cell_type": "markdown",
   "metadata": {},
   "source": [
    "### Define Matchers"
   ]
  },
  {
   "cell_type": "code",
   "execution_count": 8,
   "metadata": {
    "collapsed": false
   },
   "outputs": [],
   "source": [
    "from hardware_matchers import get_matcher\n",
    "\n",
    "part_matcher = get_matcher('part')\n",
    "attr_matcher = get_matcher(ATTRIBUTE)"
   ]
  },
  {
   "cell_type": "markdown",
   "metadata": {},
   "source": [
    "### Define ContextSpaces"
   ]
  },
  {
   "cell_type": "code",
   "execution_count": 9,
   "metadata": {
    "collapsed": false
   },
   "outputs": [],
   "source": [
    "from hardware_spaces import get_space\n",
    "    \n",
    "part_ngrams = get_space('part')\n",
    "attr_ngrams = get_space(ATTRIBUTE)"
   ]
  },
  {
   "cell_type": "markdown",
   "metadata": {},
   "source": [
    "### Define Candidate Throttler"
   ]
  },
  {
   "cell_type": "code",
   "execution_count": 10,
   "metadata": {
    "collapsed": false
   },
   "outputs": [],
   "source": [
    "from hardware_throttlers import get_throttler\n",
    "\n",
    "# throttler = get_throttler(ATTRIBUTE)\n",
    "throttler = None"
   ]
  },
  {
   "cell_type": "markdown",
   "metadata": {},
   "source": [
    "### Run CandidateExtractor"
   ]
  },
  {
   "cell_type": "code",
   "execution_count": 11,
   "metadata": {
    "collapsed": false
   },
   "outputs": [
    {
     "name": "stdout",
     "output_type": "stream",
     "text": [
      "Extracting Candidates from Corpus (Hardware Train)\n",
      "[========================================] 100%\n",
      "CPU times: user 24 ms, sys: 68 ms, total: 92 ms\n",
      "Wall time: 17.6 s\n",
      "Candidate Set (Hardware Train Candidates) contains 4062 Candidates\n",
      "Extracting Candidates from Corpus (Hardware Dev)\n",
      "[========================================] 100%\n",
      "CPU times: user 44 ms, sys: 24 ms, total: 68 ms\n",
      "Wall time: 1.24 s\n",
      "Candidate Set (Hardware Dev Candidates) contains 529 Candidates\n",
      "Extracting Candidates from Corpus (Hardware Test)\n",
      "[========================================] 100%\n",
      "CPU times: user 20 ms, sys: 36 ms, total: 56 ms\n",
      "Wall time: 4.06 s\n",
      "Candidate Set (Hardware Test Candidates) contains 78 Candidates\n"
     ]
    }
   ],
   "source": [
    "from snorkel.models import Corpus\n",
    "from snorkel.candidates import CandidateExtractor\n",
    "from snorkel.utils import get_ORM_instance\n",
    "from snorkel.async_candidates import parallel_extract\n",
    "\n",
    "ce = CandidateExtractor(Part_Attr, \n",
    "                        [part_ngrams, attr_ngrams], \n",
    "                        [part_matcher, attr_matcher], \n",
    "                        throttler=throttler)\n",
    "\n",
    "corpus_names = ['Hardware Train', 'Hardware Dev']\n",
    "if TEST_SIZE:\n",
    "    corpus_names.append('Hardware Test')\n",
    "for corpus_name in corpus_names:\n",
    "    corpus = get_ORM_instance(Corpus, session, corpus_name)\n",
    "    print \"Extracting Candidates from %s\" % corpus\n",
    "    %time candidates = parallel_extract(session, ce, corpus, \\\n",
    "                                        corpus_name + ' Candidates', \\\n",
    "                                        parallel=PARALLEL_EXTRACTION)\n",
    "    session.add(candidates)\n",
    "    print \"%s contains %d Candidates\" % (candidates, len(candidates))\n",
    "session.commit()"
   ]
  },
  {
   "cell_type": "markdown",
   "metadata": {},
   "source": [
    "### Second Pass"
   ]
  },
  {
   "cell_type": "code",
   "execution_count": 12,
   "metadata": {
    "collapsed": false
   },
   "outputs": [
    {
     "name": "stdout",
     "output_type": "stream",
     "text": [
      "Sanken_2SD2083 Part_Attr(Span(\"2SD2083\", parent=11626, chars=[0,6], words=[0,0]), ImplicitSpan(\"150\", parent=15290, words=[0,0], position=[0]))\n",
      "Sanken_2SD2083 Part_Attr(Span(\"2SD2083\", parent=11626, chars=[0,6], words=[0,0]), ImplicitSpan(\"150\", parent=15354, words=[0,0], position=[0]))\n",
      "Sanken_2SD2083 Part_Attr(Span(\"2SD2083\", parent=11626, chars=[0,6], words=[0,0]), ImplicitSpan(\"150\", parent=15297, words=[2,2], position=[0]))\n",
      "Sanken_2SD2083 Part_Attr(Span(\"2SD2083\", parent=11626, chars=[0,6], words=[0,0]), ImplicitSpan(\"200\", parent=11910, words=[1,1], position=[0]))\n",
      "Sanken_2SD2083 Part_Attr(Span(\"2SD2083\", parent=11626, chars=[0,6], words=[0,0]), ImplicitSpan(\"150\", parent=11918, words=[3,3], position=[0]))\n",
      "Sanken_2SD2083 Part_Attr(Span(\"2SD2083\", parent=11626, chars=[0,6], words=[0,0]), ImplicitSpan(\"150\", parent=15361, words=[2,2], position=[0]))\n",
      "MicrosemiIREDivision_JAN2N918UB Part_Attr(ImplicitSpan(\"2N918UB\", parent=14204, words=[3,4], position=[0]), ImplicitSpan(\"200\", parent=15896, words=[0,0], position=[0]))\n",
      "MicrosemiIREDivision_JAN2N918UB Part_Attr(ImplicitSpan(\"2N918UB\", parent=14204, words=[3,4], position=[0]), ImplicitSpan(\"150\", parent=15880, words=[6,6], position=[0]))\n",
      "MicrosemiIREDivision_JAN2N918UB Part_Attr(ImplicitSpan(\"2N918UB\", parent=14204, words=[3,4], position=[0]), ImplicitSpan(\"200\", parent=15849, words=[0,0], position=[0]))\n",
      "MicrosemiIREDivision_JAN2N918UB Part_Attr(ImplicitSpan(\"2N918UB\", parent=14204, words=[3,4], position=[0]), ImplicitSpan(\"150\", parent=15833, words=[6,6], position=[0]))\n",
      "MicrosemiIREDivision_JAN2N918UB Part_Attr(ImplicitSpan(\"2N918UB\", parent=14204, words=[3,4], position=[0]), ImplicitSpan(\"200\", parent=15814, words=[2,2], position=[0]))\n",
      "MicrosemiIREDivision_JAN2N918UB Part_Attr(ImplicitSpan(\"2N918UB\", parent=14204, words=[3,4], position=[0]), ImplicitSpan(\"200\", parent=15810, words=[0,0], position=[0]))\n",
      "MicrosemiIREDivision_JAN2N918UB Part_Attr(ImplicitSpan(\"2N918UB\", parent=14204, words=[3,4], position=[0]), ImplicitSpan(\"200\", parent=15782, words=[0,0], position=[0]))\n",
      "MicrosemiIREDivision_JAN2N918UB Part_Attr(ImplicitSpan(\"2N918UB\", parent=14204, words=[3,4], position=[0]), ImplicitSpan(\"200\", parent=15786, words=[2,2], position=[0]))\n",
      "MicrosemiIREDivision_JAN2N918UB Part_Attr(ImplicitSpan(\"2N918UB\", parent=14204, words=[3,5], position=[0]), ImplicitSpan(\"200\", parent=15896, words=[0,0], position=[0]))\n",
      "MicrosemiIREDivision_JAN2N918UB Part_Attr(ImplicitSpan(\"2N918UB\", parent=14204, words=[3,5], position=[0]), ImplicitSpan(\"150\", parent=15880, words=[6,6], position=[0]))\n",
      "MicrosemiIREDivision_JAN2N918UB Part_Attr(ImplicitSpan(\"2N918UB\", parent=14204, words=[3,5], position=[0]), ImplicitSpan(\"200\", parent=15849, words=[0,0], position=[0]))\n",
      "MicrosemiIREDivision_JAN2N918UB Part_Attr(ImplicitSpan(\"2N918UB\", parent=14204, words=[3,5], position=[0]), ImplicitSpan(\"150\", parent=15833, words=[6,6], position=[0]))\n",
      "MicrosemiIREDivision_JAN2N918UB Part_Attr(ImplicitSpan(\"2N918UB\", parent=14204, words=[3,5], position=[0]), ImplicitSpan(\"200\", parent=15814, words=[2,2], position=[0]))\n",
      "MicrosemiIREDivision_JAN2N918UB Part_Attr(ImplicitSpan(\"2N918UB\", parent=14204, words=[3,5], position=[0]), ImplicitSpan(\"200\", parent=15810, words=[0,0], position=[0]))\n",
      "MicrosemiIREDivision_JAN2N918UB Part_Attr(ImplicitSpan(\"2N918UB\", parent=14204, words=[3,5], position=[0]), ImplicitSpan(\"200\", parent=15782, words=[0,0], position=[0]))\n",
      "MicrosemiIREDivision_JAN2N918UB Part_Attr(ImplicitSpan(\"2N918UB\", parent=14204, words=[3,5], position=[0]), ImplicitSpan(\"200\", parent=15786, words=[2,2], position=[0]))\n",
      "MicrosemiIREDivision_JAN2N918UB Part_Attr(Span(\"2N918\", parent=14169, chars=[6,10], words=[1,1]), ImplicitSpan(\"200\", parent=15896, words=[0,0], position=[0]))\n",
      "MicrosemiIREDivision_JAN2N918UB Part_Attr(Span(\"2N918\", parent=14169, chars=[6,10], words=[1,1]), ImplicitSpan(\"150\", parent=15880, words=[6,6], position=[0]))\n",
      "MicrosemiIREDivision_JAN2N918UB Part_Attr(Span(\"2N918\", parent=14169, chars=[6,10], words=[1,1]), ImplicitSpan(\"200\", parent=15849, words=[0,0], position=[0]))\n",
      "MicrosemiIREDivision_JAN2N918UB Part_Attr(Span(\"2N918\", parent=14169, chars=[6,10], words=[1,1]), ImplicitSpan(\"150\", parent=15833, words=[6,6], position=[0]))\n",
      "MicrosemiIREDivision_JAN2N918UB Part_Attr(Span(\"2N918\", parent=14169, chars=[6,10], words=[1,1]), ImplicitSpan(\"200\", parent=15814, words=[2,2], position=[0]))\n",
      "MicrosemiIREDivision_JAN2N918UB Part_Attr(Span(\"2N918\", parent=14169, chars=[6,10], words=[1,1]), ImplicitSpan(\"200\", parent=15810, words=[0,0], position=[0]))\n",
      "MicrosemiIREDivision_JAN2N918UB Part_Attr(Span(\"2N918\", parent=14169, chars=[6,10], words=[1,1]), ImplicitSpan(\"200\", parent=15782, words=[0,0], position=[0]))\n",
      "MicrosemiIREDivision_JAN2N918UB Part_Attr(Span(\"2N918\", parent=14169, chars=[6,10], words=[1,1]), ImplicitSpan(\"200\", parent=15786, words=[2,2], position=[0]))\n",
      "MicrosemiIREDivision_JAN2N918UB Part_Attr(Span(\"2N918\", parent=14164, chars=[0,4], words=[0,0]), ImplicitSpan(\"200\", parent=15896, words=[0,0], position=[0]))\n",
      "MicrosemiIREDivision_JAN2N918UB Part_Attr(Span(\"2N918\", parent=14164, chars=[0,4], words=[0,0]), ImplicitSpan(\"150\", parent=15880, words=[6,6], position=[0]))\n",
      "MicrosemiIREDivision_JAN2N918UB Part_Attr(Span(\"2N918\", parent=14164, chars=[0,4], words=[0,0]), ImplicitSpan(\"200\", parent=15849, words=[0,0], position=[0]))\n",
      "MicrosemiIREDivision_JAN2N918UB Part_Attr(Span(\"2N918\", parent=14164, chars=[0,4], words=[0,0]), ImplicitSpan(\"150\", parent=15833, words=[6,6], position=[0]))\n",
      "MicrosemiIREDivision_JAN2N918UB Part_Attr(Span(\"2N918\", parent=14164, chars=[0,4], words=[0,0]), ImplicitSpan(\"200\", parent=15814, words=[2,2], position=[0]))\n",
      "MicrosemiIREDivision_JAN2N918UB Part_Attr(Span(\"2N918\", parent=14164, chars=[0,4], words=[0,0]), ImplicitSpan(\"200\", parent=15810, words=[0,0], position=[0]))\n",
      "MicrosemiIREDivision_JAN2N918UB Part_Attr(Span(\"2N918\", parent=14164, chars=[0,4], words=[0,0]), ImplicitSpan(\"200\", parent=15782, words=[0,0], position=[0]))\n",
      "MicrosemiIREDivision_JAN2N918UB Part_Attr(Span(\"2N918\", parent=14164, chars=[0,4], words=[0,0]), ImplicitSpan(\"200\", parent=15786, words=[2,2], position=[0]))\n",
      "MicrosemiIREDivision_JAN2N918UB Part_Attr(Span(\"2N918UB\", parent=14172, chars=[0,6], words=[0,0]), ImplicitSpan(\"200\", parent=15896, words=[0,0], position=[0]))\n",
      "MicrosemiIREDivision_JAN2N918UB Part_Attr(Span(\"2N918UB\", parent=14172, chars=[0,6], words=[0,0]), ImplicitSpan(\"150\", parent=15880, words=[6,6], position=[0]))\n",
      "MicrosemiIREDivision_JAN2N918UB Part_Attr(Span(\"2N918UB\", parent=14172, chars=[0,6], words=[0,0]), ImplicitSpan(\"200\", parent=15849, words=[0,0], position=[0]))\n",
      "MicrosemiIREDivision_JAN2N918UB Part_Attr(Span(\"2N918UB\", parent=14172, chars=[0,6], words=[0,0]), ImplicitSpan(\"150\", parent=15833, words=[6,6], position=[0]))\n",
      "MicrosemiIREDivision_JAN2N918UB Part_Attr(Span(\"2N918UB\", parent=14172, chars=[0,6], words=[0,0]), ImplicitSpan(\"200\", parent=15814, words=[2,2], position=[0]))\n",
      "MicrosemiIREDivision_JAN2N918UB Part_Attr(Span(\"2N918UB\", parent=14172, chars=[0,6], words=[0,0]), ImplicitSpan(\"200\", parent=15810, words=[0,0], position=[0]))\n",
      "MicrosemiIREDivision_JAN2N918UB Part_Attr(Span(\"2N918UB\", parent=14172, chars=[0,6], words=[0,0]), ImplicitSpan(\"200\", parent=15782, words=[0,0], position=[0]))\n",
      "MicrosemiIREDivision_JAN2N918UB Part_Attr(Span(\"2N918UB\", parent=14172, chars=[0,6], words=[0,0]), ImplicitSpan(\"200\", parent=15786, words=[2,2], position=[0]))\n",
      "MicrosemiIREDivision_JAN2N918UB Part_Attr(Span(\"2N918\", parent=14193, chars=[24,28], words=[3,3]), ImplicitSpan(\"200\", parent=15896, words=[0,0], position=[0]))\n",
      "MicrosemiIREDivision_JAN2N918UB Part_Attr(Span(\"2N918\", parent=14193, chars=[24,28], words=[3,3]), ImplicitSpan(\"150\", parent=15880, words=[6,6], position=[0]))\n",
      "MicrosemiIREDivision_JAN2N918UB Part_Attr(Span(\"2N918\", parent=14193, chars=[24,28], words=[3,3]), ImplicitSpan(\"200\", parent=15849, words=[0,0], position=[0]))\n",
      "MicrosemiIREDivision_JAN2N918UB Part_Attr(Span(\"2N918\", parent=14193, chars=[24,28], words=[3,3]), ImplicitSpan(\"150\", parent=15833, words=[6,6], position=[0]))\n",
      "MicrosemiIREDivision_JAN2N918UB Part_Attr(Span(\"2N918\", parent=14193, chars=[24,28], words=[3,3]), ImplicitSpan(\"200\", parent=15814, words=[2,2], position=[0]))\n",
      "MicrosemiIREDivision_JAN2N918UB Part_Attr(Span(\"2N918\", parent=14193, chars=[24,28], words=[3,3]), ImplicitSpan(\"200\", parent=15810, words=[0,0], position=[0]))\n",
      "MicrosemiIREDivision_JAN2N918UB Part_Attr(Span(\"2N918\", parent=14193, chars=[24,28], words=[3,3]), ImplicitSpan(\"200\", parent=15782, words=[0,0], position=[0]))\n",
      "MicrosemiIREDivision_JAN2N918UB Part_Attr(Span(\"2N918\", parent=14193, chars=[24,28], words=[3,3]), ImplicitSpan(\"200\", parent=15786, words=[2,2], position=[0]))\n",
      "MicrosemiIREDivision_JAN2N918UB Part_Attr(Span(\"2N918UB\", parent=14204, chars=[24,30], words=[3,3]), ImplicitSpan(\"200\", parent=15896, words=[0,0], position=[0]))\n",
      "MicrosemiIREDivision_JAN2N918UB Part_Attr(Span(\"2N918UB\", parent=14204, chars=[24,30], words=[3,3]), ImplicitSpan(\"150\", parent=15880, words=[6,6], position=[0]))\n",
      "MicrosemiIREDivision_JAN2N918UB Part_Attr(Span(\"2N918UB\", parent=14204, chars=[24,30], words=[3,3]), ImplicitSpan(\"200\", parent=15849, words=[0,0], position=[0]))\n",
      "MicrosemiIREDivision_JAN2N918UB Part_Attr(Span(\"2N918UB\", parent=14204, chars=[24,30], words=[3,3]), ImplicitSpan(\"150\", parent=15833, words=[6,6], position=[0]))\n",
      "MicrosemiIREDivision_JAN2N918UB Part_Attr(Span(\"2N918UB\", parent=14204, chars=[24,30], words=[3,3]), ImplicitSpan(\"200\", parent=15814, words=[2,2], position=[0]))\n",
      "MicrosemiIREDivision_JAN2N918UB Part_Attr(Span(\"2N918UB\", parent=14204, chars=[24,30], words=[3,3]), ImplicitSpan(\"200\", parent=15810, words=[0,0], position=[0]))\n",
      "MicrosemiIREDivision_JAN2N918UB Part_Attr(Span(\"2N918UB\", parent=14204, chars=[24,30], words=[3,3]), ImplicitSpan(\"200\", parent=15782, words=[0,0], position=[0]))\n",
      "MicrosemiIREDivision_JAN2N918UB Part_Attr(Span(\"2N918UB\", parent=14204, chars=[24,30], words=[3,3]), ImplicitSpan(\"200\", parent=15786, words=[2,2], position=[0]))\n",
      "MicrosemiIREDivision_JAN2N918UB Part_Attr(ImplicitSpan(\"2N918UB\", parent=14204, words=[2,4], position=[0]), ImplicitSpan(\"200\", parent=15896, words=[0,0], position=[0]))\n",
      "MicrosemiIREDivision_JAN2N918UB Part_Attr(ImplicitSpan(\"2N918UB\", parent=14204, words=[2,4], position=[0]), ImplicitSpan(\"150\", parent=15880, words=[6,6], position=[0]))\n",
      "MicrosemiIREDivision_JAN2N918UB Part_Attr(ImplicitSpan(\"2N918UB\", parent=14204, words=[2,4], position=[0]), ImplicitSpan(\"200\", parent=15849, words=[0,0], position=[0]))\n",
      "MicrosemiIREDivision_JAN2N918UB Part_Attr(ImplicitSpan(\"2N918UB\", parent=14204, words=[2,4], position=[0]), ImplicitSpan(\"150\", parent=15833, words=[6,6], position=[0]))\n",
      "MicrosemiIREDivision_JAN2N918UB Part_Attr(ImplicitSpan(\"2N918UB\", parent=14204, words=[2,4], position=[0]), ImplicitSpan(\"200\", parent=15814, words=[2,2], position=[0]))\n",
      "MicrosemiIREDivision_JAN2N918UB Part_Attr(ImplicitSpan(\"2N918UB\", parent=14204, words=[2,4], position=[0]), ImplicitSpan(\"200\", parent=15810, words=[0,0], position=[0]))\n",
      "MicrosemiIREDivision_JAN2N918UB Part_Attr(ImplicitSpan(\"2N918UB\", parent=14204, words=[2,4], position=[0]), ImplicitSpan(\"200\", parent=15782, words=[0,0], position=[0]))\n",
      "MicrosemiIREDivision_JAN2N918UB Part_Attr(ImplicitSpan(\"2N918UB\", parent=14204, words=[2,4], position=[0]), ImplicitSpan(\"200\", parent=15786, words=[2,2], position=[0]))\n",
      "MicrosemiIREDivision_JAN2N918UB Part_Attr(Span(\"2N918UB\", parent=14164, chars=[6,12], words=[1,1]), ImplicitSpan(\"200\", parent=15896, words=[0,0], position=[0]))\n",
      "MicrosemiIREDivision_JAN2N918UB Part_Attr(Span(\"2N918UB\", parent=14164, chars=[6,12], words=[1,1]), ImplicitSpan(\"150\", parent=15880, words=[6,6], position=[0]))\n",
      "MicrosemiIREDivision_JAN2N918UB Part_Attr(Span(\"2N918UB\", parent=14164, chars=[6,12], words=[1,1]), ImplicitSpan(\"200\", parent=15849, words=[0,0], position=[0]))\n",
      "MicrosemiIREDivision_JAN2N918UB Part_Attr(Span(\"2N918UB\", parent=14164, chars=[6,12], words=[1,1]), ImplicitSpan(\"150\", parent=15833, words=[6,6], position=[0]))\n",
      "MicrosemiIREDivision_JAN2N918UB Part_Attr(Span(\"2N918UB\", parent=14164, chars=[6,12], words=[1,1]), ImplicitSpan(\"200\", parent=15814, words=[2,2], position=[0]))\n",
      "MicrosemiIREDivision_JAN2N918UB Part_Attr(Span(\"2N918UB\", parent=14164, chars=[6,12], words=[1,1]), ImplicitSpan(\"200\", parent=15810, words=[0,0], position=[0]))\n",
      "MicrosemiIREDivision_JAN2N918UB Part_Attr(Span(\"2N918UB\", parent=14164, chars=[6,12], words=[1,1]), ImplicitSpan(\"200\", parent=15782, words=[0,0], position=[0]))\n",
      "MicrosemiIREDivision_JAN2N918UB Part_Attr(Span(\"2N918UB\", parent=14164, chars=[6,12], words=[1,1]), ImplicitSpan(\"200\", parent=15786, words=[2,2], position=[0]))\n"
     ]
    }
   ],
   "source": [
    "for c in candidates:\n",
    "    print c.part.parent.document.name, c"
   ]
  },
  {
   "cell_type": "code",
   "execution_count": null,
   "metadata": {
    "collapsed": false
   },
   "outputs": [],
   "source": [
    "# from hardware_utils import get_gold_parts_by_doc, get_manual_parts_by_doc\n",
    "# from snorkel.utils import get_ORM_instance\n",
    "# from snorkel.models import Corpus\n",
    "\n",
    "# corpus = get_ORM_instance(Corpus, session, 'Hardware Dev')\n",
    "\n",
    "# # parts_by_doc = get_gold_parts_by_doc()\n",
    "# parts_by_doc = get_manual_parts_by_doc(corpus.documents)\n",
    "# # parts_by_doc = None"
   ]
  },
  {
   "cell_type": "code",
   "execution_count": null,
   "metadata": {
    "collapsed": true
   },
   "outputs": [],
   "source": [
    "# import cPickle as pickle\n",
    "# pickle_file = os.environ['SNORKELHOME'] + '/tutorials/tables/sandbox/parts_by_doc.pkl'\n",
    "\n",
    "# with open(pickle_file, 'w') as f:\n",
    "#     pickle.dump(parts_by_doc, f)"
   ]
  },
  {
   "cell_type": "code",
   "execution_count": null,
   "metadata": {
    "collapsed": true
   },
   "outputs": [],
   "source": [
    "import cPickle as pickle\n",
    "pickle_file = os.environ['SNORKELHOME'] + '/tutorials/tables/sandbox/parts_by_doc.pkl'\n",
    "with open(pickle_file, 'r') as f:\n",
    "    parts_by_doc = pickle.load(f)"
   ]
  },
  {
   "cell_type": "markdown",
   "metadata": {},
   "source": [
    "### Assess Recall"
   ]
  },
  {
   "cell_type": "code",
   "execution_count": null,
   "metadata": {
    "collapsed": false
   },
   "outputs": [],
   "source": [
    "from snorkel.models import Corpus, CandidateSet\n",
    "from hardware_utils import entity_level_f1_from_candidates\n",
    "\n",
    "corpus = get_ORM_instance(Corpus, session, 'Hardware Dev')\n",
    "candidates = get_ORM_instance(CandidateSet, session, 'Hardware Dev Candidates')\n",
    "gold_file = os.environ['SNORKELHOME'] + \\\n",
    "    '/tutorials/tables/data/hardware/dev/hardware_dev_gold.csv'\n",
    "(ctp, cfp, cfn) = entity_level_f1_from_candidates(candidates, gold_file, ATTRIBUTE, \\\n",
    "                                                  corpus=corpus, relation=False, \\\n",
    "                                                  parts_by_doc=parts_by_doc)"
   ]
  },
  {
   "cell_type": "code",
   "execution_count": null,
   "metadata": {
    "collapsed": false
   },
   "outputs": [],
   "source": [
    "from pprint import pprint\n",
    "pprint(cfp)"
   ]
  },
  {
   "cell_type": "code",
   "execution_count": null,
   "metadata": {
    "collapsed": false
   },
   "outputs": [],
   "source": [
    "pprint(cfn)"
   ]
  },
  {
   "cell_type": "code",
   "execution_count": null,
   "metadata": {
    "collapsed": true
   },
   "outputs": [],
   "source": [
    "# If necessary\n",
    "if not snorkel_postgres:\n",
    "    import os\n",
    "    os.system('cp snorkel.db snorkel.db\\ candidates');"
   ]
  },
  {
   "cell_type": "markdown",
   "metadata": {},
   "source": [
    "## Gold Labels"
   ]
  },
  {
   "cell_type": "code",
   "execution_count": null,
   "metadata": {
    "collapsed": true
   },
   "outputs": [],
   "source": [
    "# If necessary\n",
    "# import os\n",
    "# os.remove('snorkel.db');\n",
    "# os.system('cp snorkel.db\\ candidates snorkel.db');\n",
    "\n",
    "# import sys\n",
    "# sys.path.append(os.environ['SNORKELHOME'] + '/tutorials/tables/')\n",
    "\n",
    "# from snorkel import SnorkelSession\n",
    "# session = SnorkelSession()\n",
    "\n",
    "# from snorkel.models import candidate_subclass\n",
    "# Part_Attr = candidate_subclass('Part_Attr', ['part','attr'])"
   ]
  },
  {
   "cell_type": "code",
   "execution_count": null,
   "metadata": {
    "collapsed": false
   },
   "outputs": [],
   "source": [
    "import os\n",
    "from snorkel.models import CandidateSet\n",
    "from hardware_utils import load_hardware_labels\n",
    "\n",
    " = \n",
    "gold_file = os.environ['SNORKELHOME'] + '/tutorials/tables/data/hardware/dev/hardware_dev_gold.csv'\n",
    "# for set_name in ['Test']:\n",
    "for set_name in ['Dev']:\n",
    "    candidate_set_name = 'Hardware %s Candidates' % set_name\n",
    "    candidates = session.query(CandidateSet).filter(\n",
    "        CandidateSet.name == candidate_set_name).one()\n",
    "    label_set_name = 'Hardware %s Candidates -- Gold' % set_name\n",
    "    annotation_key_name = 'Hardware %s Labels -- Gold' % set_name\n",
    "    %time gold_candidates, annotation_key = load_hardware_labels(session,\\\n",
    "                           label_set_name, \\\n",
    "                           annotation_key_name, \\\n",
    "                           candidates, \\\n",
    "                           gold_file, \\\n",
    "                           ATTRIBUTE)\n",
    "    candidates_gold = session.query(CandidateSet).filter(\n",
    "        CandidateSet.name == candidate_set_name + ' -- Gold').one()\n",
    "    print \"%d/%d Candidates in %s have positive Labels\" % (\n",
    "        len(candidates_gold), len(candidates), candidates)"
   ]
  },
  {
   "cell_type": "code",
   "execution_count": null,
   "metadata": {
    "collapsed": true
   },
   "outputs": [],
   "source": [
    "# If necessary\n",
    "if not snorkel_postgres:\n",
    "    import os\n",
    "    os.system('cp snorkel.db snorkel.db\\ labels');"
   ]
  },
  {
   "cell_type": "markdown",
   "metadata": {},
   "source": [
    "## Features"
   ]
  },
  {
   "cell_type": "code",
   "execution_count": null,
   "metadata": {
    "collapsed": false
   },
   "outputs": [],
   "source": [
    "# # If necessary:\n",
    "# import os\n",
    "# # os.remove('snorkel.db');\n",
    "# os.system('cp snorkel.db\\ labels snorkel.db');\n",
    "\n",
    "# from snorkel import SnorkelSession\n",
    "# session = SnorkelSession()\n",
    "\n",
    "# from snorkel.models import candidate_subclass\n",
    "# Part_Attr = candidate_subclass('Part_Attr', ['part','attr'])"
   ]
  },
  {
   "cell_type": "markdown",
   "metadata": {},
   "source": [
    "### Extract Features"
   ]
  },
  {
   "cell_type": "code",
   "execution_count": null,
   "metadata": {
    "collapsed": false
   },
   "outputs": [],
   "source": [
    "from snorkel.models import CandidateSet\n",
    "from snorkel.utils import get_ORM_instance\n",
    "\n",
    "train = get_ORM_instance(CandidateSet, session, 'Hardware Train Candidates')\n",
    "dev   = get_ORM_instance(CandidateSet, session, 'Hardware Dev Candidates')\n",
    "test  = get_ORM_instance(CandidateSet, session, 'Hardware Test Candidates')\n",
    "\n",
    "if snorkel_postgres:\n",
    "    from snorkel.async_annotations import annotate\n",
    "    print \"Starting async featurization...\"\n",
    "    %time F_train = annotate(train, parallel=PARALLEL)\n",
    "    %time F_dev   = annotate(dev,   parallel=PARALLEL, keyset = 'Hardware Train Candidates')\n",
    "#     %time F_test  = annotate(test,  parallel=PARALLEL, keyset = 'Hardware Train Candidates')\n",
    "    \n",
    "else:\n",
    "    from snorkel.models import CandidateSet\n",
    "    from snorkel.fast_annotations import FeatureManager\n",
    "    from snorkel.utils import get_ORM_instance\n",
    "\n",
    "    print \"Starting sync featurization...\"\n",
    "    feature_manager = FeatureManager()\n",
    "    %time F_train = feature_manager.create(session, train, 'Train Features')\n",
    "    %time F_dev = feature_manager.update(session, dev, 'Train Features', expand_key_set=False)"
   ]
  },
  {
   "cell_type": "code",
   "execution_count": null,
   "metadata": {
    "collapsed": false
   },
   "outputs": [],
   "source": [
    "F_train"
   ]
  },
  {
   "cell_type": "code",
   "execution_count": null,
   "metadata": {
    "collapsed": true
   },
   "outputs": [],
   "source": [
    "# If necessary:\n",
    "if not snorkel_postgres:\n",
    "    import os\n",
    "    os.system('cp snorkel.db snorkel.db\\ featurized');"
   ]
  },
  {
   "cell_type": "markdown",
   "metadata": {},
   "source": [
    "## LFs"
   ]
  },
  {
   "cell_type": "code",
   "execution_count": null,
   "metadata": {
    "collapsed": false
   },
   "outputs": [],
   "source": [
    "# If necessary\n",
    "# import os\n",
    "# os.remove('snorkel.db');\n",
    "# os.system('cp snorkel.db\\ featurized snorkel.db');\n",
    "\n",
    "# from snorkel import SnorkelSession\n",
    "# session = SnorkelSession()\n",
    "\n",
    "# import sys\n",
    "# sys.path.append(os.environ['SNORKELHOME'] + '/tutorials/tables/')\n",
    "\n",
    "# from snorkel.models import candidate_subclass\n",
    "# Part_Attr = candidate_subclass('Part_Attr', ['part','attr'])\n",
    "\n",
    "# from snorkel.models import CandidateSet\n",
    "# train = session.query(CandidateSet).filter(\n",
    "#     CandidateSet.name == 'Hardware Train Candidates').one()\n",
    "# dev = session.query(CandidateSet).filter(\n",
    "#     CandidateSet.name == 'Hardware Dev Candidates').one()\n",
    "\n",
    "# from snorkel.annotations import FeatureManager, LabelManager\n",
    "# feature_manager = FeatureManager()\n",
    "# %time F_train = feature_manager.load(session, train, 'Train Features')\n",
    "# %time F_dev = feature_manager.load(session, dev, 'Train Features')"
   ]
  },
  {
   "cell_type": "markdown",
   "metadata": {},
   "source": [
    "### Define LFs"
   ]
  },
  {
   "cell_type": "code",
   "execution_count": null,
   "metadata": {
    "collapsed": false
   },
   "outputs": [],
   "source": [
    "from hardware_lfs import get_lfs\n",
    "\n",
    "LFs = get_lfs(ATTRIBUTE)"
   ]
  },
  {
   "cell_type": "markdown",
   "metadata": {},
   "source": [
    "### Apply LFs"
   ]
  },
  {
   "cell_type": "code",
   "execution_count": null,
   "metadata": {
    "collapsed": false
   },
   "outputs": [],
   "source": [
    "if snorkel_postgres:\n",
    "    from snorkel.async_annotations import annotate\n",
    "    %time L_train = annotate(train, parallel=PARALLEL, lfs=LFs)\n",
    "else:\n",
    "    from snorkel.fast_annotations import LabelManager\n",
    "    label_manager = LabelManager()\n",
    "    %time L_train = label_manager.create(session, train, 'LF Labels', f=LFs)\n",
    "L_train"
   ]
  },
  {
   "cell_type": "markdown",
   "metadata": {},
   "source": [
    "### Assess LF accuracy"
   ]
  },
  {
   "cell_type": "code",
   "execution_count": null,
   "metadata": {
    "collapsed": false
   },
   "outputs": [],
   "source": [
    "%time L_train.lf_stats()"
   ]
  },
  {
   "cell_type": "code",
   "execution_count": null,
   "metadata": {
    "collapsed": true
   },
   "outputs": [],
   "source": [
    "# If necessary\n",
    "if not snorkel_postgres:\n",
    "    import os\n",
    "    os.system('cp snorkel.db snorkel.db\\ features');"
   ]
  },
  {
   "cell_type": "markdown",
   "metadata": {},
   "source": [
    "## Learn and Evaluate"
   ]
  },
  {
   "cell_type": "code",
   "execution_count": null,
   "metadata": {
    "collapsed": false
   },
   "outputs": [],
   "source": [
    "# If necessary:\n",
    "# import os\n",
    "# os.remove('snorkel.db');\n",
    "# os.system('cp snorkel.db\\ features snorkel.db');\n",
    "\n",
    "# from snorkel import SnorkelSession\n",
    "# session = SnorkelSession()\n",
    "\n",
    "# import sys\n",
    "# sys.path.append(os.environ['SNORKELHOME'] + '/tutorials/tables/')\n",
    "\n",
    "# from snorkel.models import candidate_subclass\n",
    "# Part_Attr = candidate_subclass('Part_Attr', ['part','attr'])\n",
    "\n",
    "# from snorkel.models import CandidateSet\n",
    "# train = session.query(CandidateSet).filter(\n",
    "#     CandidateSet.name == 'Hardware Training Candidates').one()\n",
    "# dev = session.query(CandidateSet).filter(\n",
    "#     CandidateSet.name == 'Hardware Development Candidates').one()\n",
    "\n",
    "# from snorkel.annotations import FeatureManager, LabelManager\n",
    "# feature_manager = FeatureManager()\n",
    "# %time F_train = feature_manager.load(session, train, 'Train Features')\n",
    "# %time F_dev = feature_manager.load(session, dev, 'Train Features')\n",
    "\n",
    "# label_manager = LabelManager()\n",
    "# %time L_train = label_manager.load(session, train, 'LF Labels')"
   ]
  },
  {
   "cell_type": "code",
   "execution_count": null,
   "metadata": {
    "collapsed": false,
    "scrolled": true
   },
   "outputs": [],
   "source": [
    "from snorkel.learning import NaiveBayes\n",
    "\n",
    "gen_model = NaiveBayes()\n",
    "gen_model.train(L_train, n_iter=50000, rate=1e-3, mu=1e-6)\n",
    "train_marginals = gen_model.marginals(L_train)"
   ]
  },
  {
   "cell_type": "code",
   "execution_count": null,
   "metadata": {
    "collapsed": false,
    "scrolled": true
   },
   "outputs": [],
   "source": [
    "from snorkel.learning import LogReg\n",
    "\n",
    "disc_model = LogReg()\n",
    "disc_model.train(F_train, train_marginals, n_iter=2000, rate=1e-4)"
   ]
  },
  {
   "cell_type": "code",
   "execution_count": null,
   "metadata": {
    "collapsed": false
   },
   "outputs": [],
   "source": [
    "dev_gold = session.query(CandidateSet).filter(\n",
    "    CandidateSet.name == 'Hardware Dev Candidates -- Gold').one()"
   ]
  },
  {
   "cell_type": "code",
   "execution_count": null,
   "metadata": {
    "collapsed": false
   },
   "outputs": [],
   "source": [
    "from snorkel.annotations import LabelManager\n",
    "label_manager = LabelManager()\n",
    "L_dev = label_manager.load(session, dev, 'Hardware Dev Labels -- Gold')\n",
    "L_dev.shape"
   ]
  },
  {
   "cell_type": "code",
   "execution_count": null,
   "metadata": {
    "collapsed": false,
    "scrolled": true
   },
   "outputs": [],
   "source": [
    "tp, fp, tn, fn = disc_model.score(F_dev, L_dev, dev_gold)"
   ]
  },
  {
   "cell_type": "code",
   "execution_count": null,
   "metadata": {
    "collapsed": false
   },
   "outputs": [],
   "source": [
    "from snorkel.models import Corpus\n",
    "from hardware_utils import entity_level_f1\n",
    "import os\n",
    "\n",
    "gold_file = os.environ['SNORKELHOME'] + '/tutorials/tables/data/hardware/dev/hardware_dev_gold.csv'\n",
    "corpus = session.query(Corpus).filter(Corpus.name == 'Hardware Dev').one()\n",
    "(TP, FP, FN) = entity_level_f1(tp, fp, tn, fn, gold_file, corpus, ATTRIBUTE)"
   ]
  },
  {
   "cell_type": "markdown",
   "metadata": {},
   "source": [
    "### Error Analysis"
   ]
  },
  {
   "cell_type": "code",
   "execution_count": null,
   "metadata": {
    "collapsed": true
   },
   "outputs": [],
   "source": [
    "from hardware_utils import separate_fns\n",
    "\n",
    "unfound, misclassified = separate_fns(FN, cfn)\n",
    "pprint(misclassified)"
   ]
  },
  {
   "cell_type": "code",
   "execution_count": null,
   "metadata": {
    "collapsed": false,
    "scrolled": true
   },
   "outputs": [],
   "source": [
    "from pprint import pprint\n",
    "pprint(FP)"
   ]
  },
  {
   "cell_type": "code",
   "execution_count": null,
   "metadata": {
    "collapsed": true
   },
   "outputs": [],
   "source": [
    "from pprint import pprint\n",
    "pprint(FN)"
   ]
  },
  {
   "cell_type": "code",
   "execution_count": null,
   "metadata": {
    "collapsed": true
   },
   "outputs": [],
   "source": [
    "from pprint import pprint\n",
    "pprint([(unicode(x[0]), x[1]) for x in disc_model.get_feature_weights(F_dev)[:100]])"
   ]
  },
  {
   "cell_type": "code",
   "execution_count": null,
   "metadata": {
    "collapsed": false
   },
   "outputs": [],
   "source": [
    "from hardware_utils import entity_to_candidates\n",
    "\n",
    "entity = FP[0]\n",
    "print entity\n",
    "print\n",
    "\n",
    "matches = entity_to_candidates(entity, fp)\n",
    "print \"# Matches: %d\" % len(matches)\n",
    "print\n",
    "\n",
    "candidate = matches[0]\n",
    "print candidate\n",
    "print\n",
    "\n",
    "# from hardware_utils import part_error_analysis\n",
    "# part_error_analysis(candidate)\n",
    "\n",
    "# pprint(disc_model.get_candidate_feature_weights(candidate, F_dev))"
   ]
  },
  {
   "cell_type": "markdown",
   "metadata": {
    "collapsed": true
   },
   "source": [
    "### Test Results"
   ]
  },
  {
   "cell_type": "code",
   "execution_count": null,
   "metadata": {
    "collapsed": true
   },
   "outputs": [],
   "source": [
    "from snorkel.annotations import LabelManager\n",
    "label_manager = LabelManager()\n",
    "L_test = label_manager.load(session, dev, 'Hardware Test Labels -- Gold')\n",
    "L_test.shape"
   ]
  },
  {
   "cell_type": "code",
   "execution_count": null,
   "metadata": {
    "collapsed": true
   },
   "outputs": [],
   "source": [
    "tp, fp, tn, fn = disc_model.score(F_test, L_test, dev_gold)"
   ]
  },
  {
   "cell_type": "code",
   "execution_count": null,
   "metadata": {
    "collapsed": true
   },
   "outputs": [],
   "source": [
    "from hardware_utils import get_gold_parts_by_doc, get_manual_parts_by_doc\n",
    "from snorkel.utils import get_ORM_instance\n",
    "from snorkel.models import Corpus\n",
    "\n",
    "corpus = get_ORM_instance(Corpus, session, 'Hardware Test')\n",
    "\n",
    "# parts_by_doc = get_gold_parts_by_doc()\n",
    "parts_by_doc = get_manual_parts_by_doc(corpus.documents.all())\n",
    "# parts_by_doc = None"
   ]
  },
  {
   "cell_type": "code",
   "execution_count": null,
   "metadata": {
    "collapsed": true
   },
   "outputs": [],
   "source": [
    "from snorkel.models import Corpus\n",
    "from hardware_utils import entity_level_f1\n",
    "import os\n",
    "\n",
    "gold_file = os.environ['SNORKELHOME'] + '/tutorials/tables/data/hardware/test/hardware_test_gold.csv'\n",
    "corpus = session.query(Corpus).filter(Corpus.name == 'Hardware Dev').one()\n",
    "(TP, FP, FN) = entity_level_f1(tp, fp, tn, fn, gold_file, corpus, ATTRIBUTE)"
   ]
  }
 ],
 "metadata": {
  "anaconda-cloud": {},
  "kernelspec": {
   "display_name": "Python 2",
   "language": "python",
   "name": "python2"
  },
  "language_info": {
   "codemirror_mode": {
    "name": "ipython",
    "version": 2
   },
   "file_extension": ".py",
   "mimetype": "text/x-python",
   "name": "python",
   "nbconvert_exporter": "python",
   "pygments_lexer": "ipython2",
   "version": "2.7.6"
  }
 },
 "nbformat": 4,
 "nbformat_minor": 1
}
