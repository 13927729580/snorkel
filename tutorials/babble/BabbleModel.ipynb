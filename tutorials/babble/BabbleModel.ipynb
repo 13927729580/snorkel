{
 "cells": [
  {
   "cell_type": "code",
   "execution_count": 1,
   "metadata": {
    "collapsed": true
   },
   "outputs": [],
   "source": [
    "%load_ext autoreload\n",
    "%autoreload 2"
   ]
  },
  {
   "cell_type": "code",
   "execution_count": 2,
   "metadata": {
    "collapsed": true
   },
   "outputs": [],
   "source": [
    "import os\n",
    "\n",
    "DOMAIN = 'spouse'\n",
    "\n",
    "db_dict = {\n",
    "    'test':   'postgres://localhost:5432/babble_model_unittest',\n",
    "    'spouse': 'postgres://localhost:5432/babble_model_spouse',\n",
    "    'cdr':    'postgres://localhost:5432/babble_model_cdr',\n",
    "}\n",
    "\n",
    "os.environ['SNORKELDB'] = db_dict[DOMAIN]"
   ]
  },
  {
   "cell_type": "code",
   "execution_count": 3,
   "metadata": {
    "collapsed": false,
    "scrolled": true
   },
   "outputs": [],
   "source": [
    "from snorkel import SnorkelSession\n",
    "session = SnorkelSession()"
   ]
  },
  {
   "cell_type": "code",
   "execution_count": 4,
   "metadata": {
    "collapsed": false,
    "scrolled": true
   },
   "outputs": [],
   "source": [
    "from snorkel.contrib.babble.models import configuration\n",
    "\n",
    "config = configuration\n",
    "config['domain'] = DOMAIN\n",
    "config['source'] = 'nl'\n",
    "config['parallelism'] = 1\n",
    "config['majority_vote'] = True\n",
    "config['num_epochs'] = 50\n",
    "config['num_search'] = 10"
   ]
  },
  {
   "cell_type": "code",
   "execution_count": 5,
   "metadata": {
    "collapsed": false,
    "scrolled": true
   },
   "outputs": [],
   "source": [
    "from snorkel.models import candidate_subclass\n",
    "Spouse = candidate_subclass('Spouse', ['person1', 'person2'])"
   ]
  },
  {
   "cell_type": "code",
   "execution_count": 12,
   "metadata": {
    "collapsed": false,
    "scrolled": false
   },
   "outputs": [],
   "source": [
    "from tutorials.babble.spouse import SpouseModel\n",
    "sm = SpouseModel(session, Spouse, config)"
   ]
  },
  {
   "cell_type": "code",
   "execution_count": 7,
   "metadata": {
    "collapsed": false,
    "scrolled": true
   },
   "outputs": [],
   "source": [
    "# %time sm.parse()"
   ]
  },
  {
   "cell_type": "code",
   "execution_count": 8,
   "metadata": {
    "collapsed": false,
    "scrolled": true
   },
   "outputs": [],
   "source": [
    "# %time sm.extract()"
   ]
  },
  {
   "cell_type": "code",
   "execution_count": 9,
   "metadata": {
    "collapsed": false,
    "scrolled": true
   },
   "outputs": [],
   "source": [
    "# %time sm.load_gold()"
   ]
  },
  {
   "cell_type": "code",
   "execution_count": 10,
   "metadata": {
    "collapsed": false,
    "scrolled": false
   },
   "outputs": [
    {
     "name": "stdout",
     "output_type": "stream",
     "text": [
      "Num HITs unique: 25\n",
      "Num HITs total: 75\n",
      "Unanimous: 61\n",
      "Majority: 14\n",
      "Bad: 25\n",
      "Total explanations: 211\n"
     ]
    }
   ],
   "source": [
    "from tutorials.babble.data import MTurkHelper\n",
    "output_csv_path= os.environ['SNORKELHOME'] + '/tutorials/babble/data/spouse/mturk_spouse_01_out.csv'\n",
    "candidates = session.query(Spouse).all()\n",
    "helper = MTurkHelper(candidates, num_hits=25)\n",
    "explanations = helper.postprocess(output_csv_path, candidates=candidates, verbose=False)\n",
    "user_lists = {}"
   ]
  },
  {
   "cell_type": "code",
   "execution_count": null,
   "metadata": {
    "collapsed": false,
    "scrolled": true
   },
   "outputs": [],
   "source": [
    "%time sm.babble(explanations, user_lists=user_lists)"
   ]
  },
  {
   "cell_type": "code",
   "execution_count": null,
   "metadata": {
    "collapsed": false
   },
   "outputs": [],
   "source": [
    "# sm.use_intro_lfs()"
   ]
  },
  {
   "cell_type": "code",
   "execution_count": null,
   "metadata": {
    "collapsed": false,
    "scrolled": false
   },
   "outputs": [],
   "source": [
    "%time sm.label()"
   ]
  },
  {
   "cell_type": "code",
   "execution_count": null,
   "metadata": {
    "collapsed": false,
    "scrolled": true
   },
   "outputs": [],
   "source": [
    "%time sm.supervise()"
   ]
  },
  {
   "cell_type": "code",
   "execution_count": null,
   "metadata": {
    "collapsed": false,
    "scrolled": false
   },
   "outputs": [],
   "source": [
    "%time sm.classify()"
   ]
  },
  {
   "cell_type": "raw",
   "metadata": {},
   "source": [
    "TEST:\n",
    "========================================\n",
    "Scores (Un-adjusted)\n",
    "========================================\n",
    "Pos. class accuracy: 0.624\n",
    "Neg. class accuracy: 0.926\n",
    "Precision            0.426\n",
    "Recall               0.624\n",
    "F1                   0.507\n",
    "----------------------------------------\n",
    "TP: 136 | FP: 183 | TN: 2300 | FN: 82\n",
    "========================================"
   ]
  },
  {
   "cell_type": "code",
   "execution_count": null,
   "metadata": {
    "collapsed": true
   },
   "outputs": [],
   "source": []
  }
 ],
 "metadata": {
  "anaconda-cloud": {},
  "kernelspec": {
   "display_name": "Python 2",
   "language": "python",
   "name": "python2"
  },
  "language_info": {
   "codemirror_mode": {
    "name": "ipython",
    "version": 2
   },
   "file_extension": ".py",
   "mimetype": "text/x-python",
   "name": "python",
   "nbconvert_exporter": "python",
   "pygments_lexer": "ipython2",
   "version": "2.7.13"
  }
 },
 "nbformat": 4,
 "nbformat_minor": 1
}
