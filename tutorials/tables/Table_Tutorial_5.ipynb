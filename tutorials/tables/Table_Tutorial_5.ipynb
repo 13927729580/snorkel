{
 "cells": [
  {
   "cell_type": "markdown",
   "metadata": {},
   "source": [
    "## Part V: Training a Model with Data Programming"
   ]
  },
  {
   "cell_type": "code",
   "execution_count": 1,
   "metadata": {
    "collapsed": false
   },
   "outputs": [],
   "source": [
    "# If necessary:\n",
    "import os\n",
    "os.remove('snorkel.db');\n",
    "os.system('cp snorkel.db\\ features snorkel.db');"
   ]
  },
  {
   "cell_type": "code",
   "execution_count": 2,
   "metadata": {
    "collapsed": false
   },
   "outputs": [
    {
     "name": "stdout",
     "output_type": "stream",
     "text": [
      "The autoreload extension is already loaded. To reload it, use:\n",
      "  %reload_ext autoreload\n"
     ]
    }
   ],
   "source": [
    "%load_ext autoreload\n",
    "%autoreload 2\n",
    "\n",
    "from snorkel import SnorkelSession\n",
    "session = SnorkelSession()"
   ]
  },
  {
   "cell_type": "code",
   "execution_count": 3,
   "metadata": {
    "collapsed": false
   },
   "outputs": [],
   "source": [
    "from snorkel.models import candidate_subclass\n",
    "\n",
    "Part_Temp = candidate_subclass('Part_Temp', ['part','temp'])"
   ]
  },
  {
   "cell_type": "markdown",
   "metadata": {},
   "source": [
    "### Loading the `CandidateSet`, feature matrix, and label matrix"
   ]
  },
  {
   "cell_type": "code",
   "execution_count": 4,
   "metadata": {
    "collapsed": false
   },
   "outputs": [],
   "source": [
    "from snorkel.models import CandidateSet\n",
    "train = session.query(CandidateSet).filter(\n",
    "    CandidateSet.name == 'Hardware Training Candidates').one()"
   ]
  },
  {
   "cell_type": "code",
   "execution_count": 5,
   "metadata": {
    "collapsed": false
   },
   "outputs": [
    {
     "name": "stdout",
     "output_type": "stream",
     "text": [
      "CPU times: user 2min 38s, sys: 12.7 s, total: 2min 51s\n",
      "Wall time: 2min 57s\n"
     ]
    }
   ],
   "source": [
    "from snorkel.annotations import FeatureManager\n",
    "\n",
    "feature_manager = FeatureManager()\n",
    "\n",
    "%time F_train = feature_manager.load(session, train, 'Train Features')"
   ]
  },
  {
   "cell_type": "code",
   "execution_count": 6,
   "metadata": {
    "collapsed": false
   },
   "outputs": [
    {
     "name": "stdout",
     "output_type": "stream",
     "text": [
      "CPU times: user 2.24 s, sys: 683 ms, total: 2.92 s\n",
      "Wall time: 3.03 s\n"
     ]
    }
   ],
   "source": [
    "from snorkel.annotations import LabelManager\n",
    "\n",
    "label_manager = LabelManager()\n",
    "\n",
    "%time L_train = label_manager.load(session, train, 'LF Labels')"
   ]
  },
  {
   "cell_type": "markdown",
   "metadata": {},
   "source": [
    "## Train Generative Model"
   ]
  },
  {
   "cell_type": "code",
   "execution_count": 7,
   "metadata": {
    "collapsed": false
   },
   "outputs": [
    {
     "name": "stdout",
     "output_type": "stream",
     "text": [
      "================================================================================\n",
      "Training marginals (!= 0.5):\t75908\n",
      "Features:\t\t\t20\n",
      "================================================================================\n",
      "Begin training for rate=0.01, mu=1e-06\n",
      "\tLearning epoch = 0\tGradient mag. = 0.630145\n",
      "\tLearning epoch = 250\tGradient mag. = 1.155185\n",
      "\tLearning epoch = 500\tGradient mag. = 1.610080\n",
      "\tLearning epoch = 750\tGradient mag. = 1.242761\n",
      "\tLearning epoch = 1000\tGradient mag. = 0.977723\n",
      "\tLearning epoch = 1250\tGradient mag. = 0.846643\n",
      "\tLearning epoch = 1500\tGradient mag. = 0.602580\n",
      "\tLearning epoch = 1750\tGradient mag. = 0.433504\n",
      "\tLearning epoch = 2000\tGradient mag. = 0.345236\n",
      "\tLearning epoch = 2250\tGradient mag. = 0.291882\n",
      "\tLearning epoch = 2500\tGradient mag. = 0.255884\n",
      "\tLearning epoch = 2750\tGradient mag. = 0.230345\n",
      "\tLearning epoch = 3000\tGradient mag. = 0.212040\n",
      "\tLearning epoch = 3250\tGradient mag. = 0.199078\n",
      "\tLearning epoch = 3500\tGradient mag. = 0.190156\n",
      "\tLearning epoch = 3750\tGradient mag. = 0.184311\n",
      "\tLearning epoch = 4000\tGradient mag. = 0.180815\n",
      "\tLearning epoch = 4250\tGradient mag. = 0.179120\n",
      "\tLearning epoch = 4500\tGradient mag. = 0.178814\n",
      "\tLearning epoch = 4750\tGradient mag. = 0.179588\n",
      "\tLearning epoch = 5000\tGradient mag. = 0.181212\n",
      "\tLearning epoch = 5250\tGradient mag. = 0.183511\n",
      "\tLearning epoch = 5500\tGradient mag. = 0.177515\n",
      "\tLearning epoch = 5750\tGradient mag. = 0.162690\n",
      "\tLearning epoch = 6000\tGradient mag. = 0.149534\n",
      "\tLearning epoch = 6250\tGradient mag. = 0.137881\n",
      "\tLearning epoch = 6500\tGradient mag. = 0.127580\n",
      "\tLearning epoch = 6750\tGradient mag. = 0.118495\n",
      "\tLearning epoch = 7000\tGradient mag. = 0.110503\n",
      "\tLearning epoch = 7250\tGradient mag. = 0.103492\n",
      "\tLearning epoch = 7500\tGradient mag. = 0.097360\n",
      "\tLearning epoch = 7750\tGradient mag. = 0.092014\n",
      "\tLearning epoch = 8000\tGradient mag. = 0.087365\n",
      "\tLearning epoch = 8250\tGradient mag. = 0.083337\n",
      "\tLearning epoch = 8500\tGradient mag. = 0.079855\n",
      "\tLearning epoch = 8750\tGradient mag. = 0.076855\n",
      "\tLearning epoch = 9000\tGradient mag. = 0.074275\n",
      "\tLearning epoch = 9250\tGradient mag. = 0.072062\n",
      "\tLearning epoch = 9500\tGradient mag. = 0.070166\n",
      "\tLearning epoch = 9750\tGradient mag. = 0.068546\n",
      "\tLearning epoch = 10000\tGradient mag. = 0.067161\n",
      "\tLearning epoch = 10250\tGradient mag. = 0.065979\n",
      "\tLearning epoch = 10500\tGradient mag. = 0.064970\n",
      "\tLearning epoch = 10750\tGradient mag. = 0.064109\n",
      "\tLearning epoch = 11000\tGradient mag. = 0.063374\n",
      "\tLearning epoch = 11250\tGradient mag. = 0.062746\n",
      "\tLearning epoch = 11500\tGradient mag. = 0.062209\n",
      "\tLearning epoch = 11750\tGradient mag. = 0.061750\n",
      "\tLearning epoch = 12000\tGradient mag. = 0.061356\n",
      "\tLearning epoch = 12250\tGradient mag. = 0.061018\n",
      "\tLearning epoch = 12500\tGradient mag. = 0.060728\n",
      "\tLearning epoch = 12750\tGradient mag. = 0.060479\n",
      "\tLearning epoch = 13000\tGradient mag. = 0.060264\n",
      "\tLearning epoch = 13250\tGradient mag. = 0.060078\n",
      "\tLearning epoch = 13500\tGradient mag. = 0.059918\n",
      "\tLearning epoch = 13750\tGradient mag. = 0.059779\n",
      "\tLearning epoch = 14000\tGradient mag. = 0.059659\n",
      "\tLearning epoch = 14250\tGradient mag. = 0.059554\n",
      "\tLearning epoch = 14500\tGradient mag. = 0.059463\n",
      "\tLearning epoch = 14750\tGradient mag. = 0.051092\n",
      "Final gradient magnitude for rate=0.01, mu=1e-06: 0.041\n"
     ]
    }
   ],
   "source": [
    "from snorkel.learning import NaiveBayes\n",
    "\n",
    "gen_model = NaiveBayes()\n",
    "# gen_model.train(L_train, n_iter=3000, rate=1e-5)\n",
    "gen_model.train(L_train, n_iter=15000, rate=1e-2)"
   ]
  },
  {
   "cell_type": "code",
   "execution_count": 8,
   "metadata": {
    "collapsed": false
   },
   "outputs": [],
   "source": [
    "gen_model.save(session, 'Generative Params')"
   ]
  },
  {
   "cell_type": "code",
   "execution_count": 9,
   "metadata": {
    "collapsed": true
   },
   "outputs": [],
   "source": [
    "train_marginals = gen_model.marginals(L_train)"
   ]
  },
  {
   "cell_type": "markdown",
   "metadata": {},
   "source": [
    "## Train Discriminative Model"
   ]
  },
  {
   "cell_type": "code",
   "execution_count": 10,
   "metadata": {
    "collapsed": false
   },
   "outputs": [
    {
     "name": "stdout",
     "output_type": "stream",
     "text": [
      "================================================================================\n",
      "Training marginals (!= 0.5):\t31893\n",
      "Features:\t\t\t19168\n",
      "================================================================================\n",
      "Using gradient descent...\n",
      "\tLearning epoch = 0\tStep size = 0.001\n",
      "\tLoss = 22106.543030\tGradient magnitude = 60040.581956\n",
      "\tLearning epoch = 100\tStep size = 0.000904792147114\n",
      "\tLoss = 34359.616881\tGradient magnitude = 4497.059732\n",
      "\tLearning epoch = 200\tStep size = 0.000818648829479\n",
      "\tLoss = 1944.161946\tGradient magnitude = 2019.485449\n",
      "\tLearning epoch = 300\tStep size = 0.000740707032156\n",
      "\tLoss = 19082.007108\tGradient magnitude = 11676.621825\n",
      "\tLearning epoch = 400\tStep size = 0.000670185906007\n",
      "\tLoss = 24453.248688\tGradient magnitude = 4499.029256\n",
      "\tLearning epoch = 500\tStep size = 0.000606378944861\n",
      "\tLoss = 7762.432351\tGradient magnitude = 11941.938575\n",
      "\tLearning epoch = 600\tStep size = 0.000548646907485\n",
      "\tLoss = 23932.230869\tGradient magnitude = 4500.803038\n",
      "\tLearning epoch = 700\tStep size = 0.000496411413431\n",
      "\tLoss = 9930.242639\tGradient magnitude = 9781.491858\n",
      "\tLearning epoch = 800\tStep size = 0.00044914914861\n",
      "\tLoss = 3782.694326\tGradient magnitude = 9936.197775\n",
      "\tLearning epoch = 900\tStep size = 0.000406386622545\n",
      "\tLoss = 8535.969768\tGradient magnitude = 4496.923080\n",
      "\tLearning epoch = 1000\tStep size = 0.000367695424771\n",
      "\tLoss = 14780.367797\tGradient magnitude = 4500.593329\n",
      "\tLearning epoch = 1100\tStep size = 0.000332687932862\n",
      "\tLoss = 5191.006725\tGradient magnitude = 4270.155288\n",
      "\tLearning epoch = 1200\tStep size = 0.000301013429093\n",
      "\tLoss = 4677.258134\tGradient magnitude = 4333.847233\n",
      "\tLearning epoch = 1300\tStep size = 0.000272354586819\n",
      "\tLoss = 4596.752814\tGradient magnitude = 4229.739032\n",
      "\tLearning epoch = 1400\tStep size = 0.000246424291385\n",
      "\tLoss = 4111.890678\tGradient magnitude = 4259.840627\n",
      "\tLearning epoch = 1500\tStep size = 0.000222962763703\n",
      "\tLoss = 1310.138440\tGradient magnitude = 1657.405261\n",
      "\tLearning epoch = 1600\tStep size = 0.000201734957697\n",
      "\tLoss = 6877.014947\tGradient magnitude = 4455.383824\n",
      "\tLearning epoch = 1700\tStep size = 0.000182528205523\n",
      "\tLoss = 6315.120676\tGradient magnitude = 4448.293448\n",
      "\tLearning epoch = 1800\tStep size = 0.000165150086984\n",
      "\tLoss = 5861.785562\tGradient magnitude = 4448.185945\n",
      "\tLearning epoch = 1900\tStep size = 0.000149426501798\n",
      "\tLoss = 2160.046720\tGradient magnitude = 4021.573450\n",
      "\tLearning epoch = 2000\tStep size = 0.000135199925397\n",
      "\tLoss = 4689.414472\tGradient magnitude = 4399.514338\n",
      "\tLearning epoch = 2100\tStep size = 0.00012232783079\n",
      "\tLoss = 1659.507174\tGradient magnitude = 5998.684939\n",
      "\tLearning epoch = 2200\tStep size = 0.000110681260672\n",
      "\tLoss = 3334.774618\tGradient magnitude = 4262.692424\n",
      "\tLearning epoch = 2300\tStep size = 0.000100143535489\n",
      "\tLoss = 1445.946497\tGradient magnitude = 2766.558798\n",
      "\tLearning epoch = 2400\tStep size = 9.06090844946e-05\n",
      "\tLoss = 2001.408783\tGradient magnitude = 3869.386858\n",
      "\tLearning epoch = 2500\tStep size = 8.19823881078e-05\n",
      "\tLoss = 1267.642471\tGradient magnitude = 1871.730211\n",
      "\tLearning epoch = 2600\tStep size = 7.41770209616e-05\n",
      "\tLoss = 1323.373817\tGradient magnitude = 2998.071713\n",
      "\tLearning epoch = 2700\tStep size = 6.71147860624e-05\n",
      "\tLoss = 1294.327077\tGradient magnitude = 2512.424268\n",
      "\tLearning epoch = 2800\tStep size = 6.07249313844e-05\n",
      "\tLoss = 1250.911869\tGradient magnitude = 1523.804315\n",
      "\tLearning epoch = 2900\tStep size = 5.49434410507e-05\n",
      "\tLoss = 1223.819680\tGradient magnitude = 10.928975\n",
      "\tLearning epoch = 3000\tStep size = 4.9712393998e-05\n",
      "\tLoss = 1223.769612\tGradient magnitude = 3.025957\n",
      "\tLearning epoch = 3100\tStep size = 4.49793837036e-05\n",
      "\tLoss = 1223.726827\tGradient magnitude = 2.991136\n",
      "\tLearning epoch = 3200\tStep size = 4.06969931571e-05\n",
      "\tLoss = 1223.688901\tGradient magnitude = 2.964126\n",
      "\tLearning epoch = 3300\tStep size = 3.68223198197e-05\n",
      "\tLoss = 1223.655146\tGradient magnitude = 2.942139\n",
      "\tLearning epoch = 3400\tStep size = 3.33165458113e-05\n",
      "\tLoss = 1223.625019\tGradient magnitude = 2.923771\n",
      "\tLearning epoch = 3500\tStep size = 3.01445490191e-05\n",
      "\tLoss = 1223.598075\tGradient magnitude = 2.908175\n",
      "\tLearning epoch = 3600\tStep size = 2.72745512307e-05\n",
      "\tLoss = 1223.573938\tGradient magnitude = 2.894782\n",
      "\tLearning epoch = 3700\tStep size = 2.46777997696e-05\n",
      "\tLoss = 1223.552287\tGradient magnitude = 2.883185\n",
      "\tLearning epoch = 3800\tStep size = 2.23282794396e-05\n",
      "\tLoss = 1223.532843\tGradient magnitude = 2.873080\n",
      "\tLearning epoch = 3900\tStep size = 2.02024518955e-05\n",
      "\tLoss = 1223.515367\tGradient magnitude = 2.864229\n",
      "\tLearning epoch = 4000\tStep size = 1.82790198275e-05\n",
      "\tLoss = 1223.499646\tGradient magnitude = 2.856445\n",
      "\tLearning epoch = 4100\tStep size = 1.65387135968e-05\n",
      "\tLoss = 1223.485494\tGradient magnitude = 2.849576\n",
      "\tLearning epoch = 4200\tStep size = 1.49640981858e-05\n",
      "\tLoss = 1223.472748\tGradient magnitude = 2.843495\n",
      "\tLearning epoch = 4300\tStep size = 1.35393985271e-05\n",
      "\tLoss = 1223.461262\tGradient magnitude = 2.838100\n",
      "\tLearning epoch = 4400\tStep size = 1.2250341464e-05\n",
      "\tLoss = 1223.450907\tGradient magnitude = 2.833302\n"
     ]
    }
   ],
   "source": [
    "from snorkel.learning import LogReg\n",
    "\n",
    "disc_model = LogReg()\n",
    "disc_model.train(F_train, train_marginals, n_iter=4500, rate=1e-3)"
   ]
  },
  {
   "cell_type": "code",
   "execution_count": 11,
   "metadata": {
    "collapsed": false
   },
   "outputs": [
    {
     "data": {
      "text/plain": [
       "(19168,)"
      ]
     },
     "execution_count": 11,
     "metadata": {},
     "output_type": "execute_result"
    }
   ],
   "source": [
    "disc_model.w.shape"
   ]
  },
  {
   "cell_type": "code",
   "execution_count": 12,
   "metadata": {
    "collapsed": false
   },
   "outputs": [
    {
     "name": "stdout",
     "output_type": "stream",
     "text": [
      "CPU times: user 3.92 s, sys: 97.2 ms, total: 4.01 s\n",
      "Wall time: 4.05 s\n"
     ]
    }
   ],
   "source": [
    "%time disc_model.save(session, \"Discriminative Params\")"
   ]
  },
  {
   "cell_type": "markdown",
   "metadata": {},
   "source": [
    "## Assess Performance on Development Set"
   ]
  },
  {
   "cell_type": "code",
   "execution_count": 13,
   "metadata": {
    "collapsed": false
   },
   "outputs": [],
   "source": [
    "from snorkel.models import CandidateSet\n",
    "dev = session.query(CandidateSet).filter(\n",
    "    CandidateSet.name == 'Hardware Development Candidates').one()"
   ]
  },
  {
   "cell_type": "markdown",
   "metadata": {},
   "source": [
    "### Loading the Development Feature Matrix"
   ]
  },
  {
   "cell_type": "code",
   "execution_count": 14,
   "metadata": {
    "collapsed": false
   },
   "outputs": [
    {
     "name": "stdout",
     "output_type": "stream",
     "text": [
      "CPU times: user 1min 38s, sys: 14.8 s, total: 1min 53s\n",
      "Wall time: 2min 4s\n"
     ]
    }
   ],
   "source": [
    "from snorkel.annotations import FeatureManager\n",
    "\n",
    "feature_manager = FeatureManager()\n",
    "%time F_dev = feature_manager.load(session, dev, 'Train Features')"
   ]
  },
  {
   "cell_type": "code",
   "execution_count": 15,
   "metadata": {
    "collapsed": false
   },
   "outputs": [],
   "source": [
    "train_gold = session.query(CandidateSet).filter(\n",
    "    CandidateSet.name == 'Hardware Training Candidates -- Silver').one()"
   ]
  },
  {
   "cell_type": "code",
   "execution_count": 16,
   "metadata": {
    "collapsed": false
   },
   "outputs": [],
   "source": [
    "# from snorkel.loaders import create_or_fetch\n",
    "# from snorkel.models import Label, AnnotationKeySet\n",
    "# annotation_key_name = \"Hardware Development Labels - Gold\"\n",
    "# annotation_key = create_or_fetch(session, AnnotationKey, annotation_key_name)\n",
    "# session.query(Label).filter(Label.key == annotation_key).count()"
   ]
  },
  {
   "cell_type": "code",
   "execution_count": 17,
   "metadata": {
    "collapsed": false,
    "scrolled": true
   },
   "outputs": [],
   "source": [
    "from snorkel.models import CandidateSet\n",
    "from snorkel.annotations import LabelManager\n",
    "label_manager = LabelManager()\n",
    "# from snorkel.utils import get_ORM_instance\n",
    "# dev_labels = get_ORM_instance(AnnotationKeySet, session, 'Hardware Development Labels - Gold')\n",
    "L_dev = label_manager.load(session, dev, 'Hardware Development Labels -- Silver')"
   ]
  },
  {
   "cell_type": "code",
   "execution_count": 18,
   "metadata": {
    "collapsed": false
   },
   "outputs": [],
   "source": [
    "gold_dev_set = session.query(CandidateSet).filter(\n",
    "    CandidateSet.name == 'Hardware Development Candidates -- Silver').one()"
   ]
  },
  {
   "cell_type": "code",
   "execution_count": 19,
   "metadata": {
    "collapsed": false
   },
   "outputs": [
    {
     "data": {
      "text/plain": [
       "(18971, 19168)"
      ]
     },
     "execution_count": 19,
     "metadata": {},
     "output_type": "execute_result"
    }
   ],
   "source": [
    "F_dev.shape"
   ]
  },
  {
   "cell_type": "code",
   "execution_count": 20,
   "metadata": {
    "collapsed": false,
    "scrolled": true
   },
   "outputs": [
    {
     "name": "stdout",
     "output_type": "stream",
     "text": [
      "Calibration plot:\n",
      "========================================\n",
      "Recall-corrected Noise-aware Model\n",
      "========================================\n",
      "Pos. class accuracy: 0.698890010091\n",
      "Neg. class accuracy: 0.757311555016\n",
      "Corpus Precision 0.759\n",
      "Corpus Recall    0.699\n",
      "Corpus F1        0.728\n",
      "----------------------------------------\n",
      "TP: 6926 | FP: 2199 | TN: 6862 | FN: 2984\n",
      "========================================\n",
      "\n",
      "========================================\n",
      "Recall-corrected Noise-aware Model\n",
      "========================================\n",
      "Pos. class accuracy: 0.698890010091\n",
      "Neg. class accuracy: 0.757311555016\n",
      "Corpus Precision 0.759\n",
      "Corpus Recall    0.699\n",
      "Corpus F1        0.728\n",
      "----------------------------------------\n",
      "TP: 6926 | FP: 2199 | TN: 6862 | FN: 2984\n",
      "========================================\n",
      "\n"
     ]
    },
    {
     "name": "stderr",
     "output_type": "stream",
     "text": [
      "/Users/bradenhancock/anaconda/lib/python2.7/site-packages/numpy/core/_methods.py:59: RuntimeWarning: Mean of empty slice.\n",
      "  warnings.warn(\"Mean of empty slice.\", RuntimeWarning)\n"
     ]
    }
   ],
   "source": [
    "tp, fp, tn, fn = disc_model.score(F_dev, L_dev, gold_dev_set)"
   ]
  },
  {
   "cell_type": "code",
   "execution_count": 21,
   "metadata": {
    "collapsed": false
   },
   "outputs": [],
   "source": [
    "from hardware_utils import part_error_analysis, table_info\n",
    "#     print c[0]\n",
    "#     print c[0].parent\n",
    "#     print (c[0].parent.row_num, c[0].parent.col_num)\n",
    "#     print c[1]\n",
    "#     print c[1].parent\n",
    "#     print (c[1].parent.row_num, c[1].parent.col_num)"
   ]
  },
  {
   "cell_type": "code",
   "execution_count": 22,
   "metadata": {
    "collapsed": false
   },
   "outputs": [],
   "source": [
    "# for c in list(fp)[:5]:\n",
    "#     print c\n",
    "# c = list(fp)[10]\n",
    "# error_analysis(c)\n",
    "# c = list(fp)[10]\n",
    "# part_error_analysis(c)\n",
    "# print c.temp.parent.row_num\n",
    "\n",
    "# for c in list(fp)[:5]:\n",
    "#     print c\n",
    "# print c.temp.parent.html_anc_tags"
   ]
  },
  {
   "cell_type": "code",
   "execution_count": 23,
   "metadata": {
    "collapsed": false
   },
   "outputs": [
    {
     "name": "stdout",
     "output_type": "stream",
     "text": [
      "========================================\n",
      "Scoring on Entity-Level Gold Data\n",
      "========================================\n",
      "Corpus Precision 0.822\n",
      "Corpus Recall    1.0\n",
      "Corpus F1        0.902\n",
      "----------------------------------------\n",
      "TP: 152 | FP: 33 | FN: 0\n",
      "========================================\n",
      "\n"
     ]
    }
   ],
   "source": [
    "from snorkel.models import Corpus\n",
    "from hardware_utils import entity_level_f1\n",
    "import os\n",
    "\n",
    "gold_file = os.environ['SNORKELHOME'] + '/tutorials/tables/data/hardware/hardware_gold.csv'\n",
    "corpus = session.query(Corpus).filter(Corpus.name == 'Hardware Development').one()\n",
    "(TP, FP, FN) = entity_level_f1(tp, fp, tn, fn, gold_file, corpus, 'stg_temp_min')"
   ]
  },
  {
   "cell_type": "code",
   "execution_count": 24,
   "metadata": {
    "collapsed": false
   },
   "outputs": [
    {
     "name": "stdout",
     "output_type": "stream",
     "text": [
      "set([])\n"
     ]
    }
   ],
   "source": [
    "print FN"
   ]
  },
  {
   "cell_type": "code",
   "execution_count": 25,
   "metadata": {
    "collapsed": false
   },
   "outputs": [
    {
     "name": "stdout",
     "output_type": "stream",
     "text": [
      "set([(u'ONSMS04099-1', u'BC237', u'-65'),\n",
      "     (u'ONSMS04099-1', u'BC237A', u'-65'),\n",
      "     (u'ONSMS04099-1', u'BC237B', u'-65'),\n",
      "     (u'ONSMS04099-1', u'BC237C', u'-65'),\n",
      "     (u'ONSMS04099-1', u'BC238', u'-65'),\n",
      "     (u'ONSMS04099-1', u'BC238B', u'-65'),\n",
      "     (u'ONSMS04099-1', u'BC238C', u'-65'),\n",
      "     (u'ONSMS04099-1', u'BC239', u'-65'),\n",
      "     (u'ONSMS04099-1', u'BC239C', u'-65'),\n",
      "     (u'PHGLS19500-1', u'MMBT3904', u'-55'),\n",
      "     (u'PNJIS01593-1', u'BC856', u'-65'),\n",
      "     (u'PNJIS01593-1', u'BC856A', u'-65'),\n",
      "     (u'PNJIS01593-1', u'BC856B', u'-65'),\n",
      "     (u'PNJIS01593-1', u'BC857', u'-65'),\n",
      "     (u'PNJIS01593-1', u'BC857A', u'-65'),\n",
      "     (u'PNJIS01593-1', u'BC857B', u'-65'),\n",
      "     (u'PNJIS01593-1', u'BC857C', u'-65'),\n",
      "     (u'PNJIS01593-1', u'BC858', u'-65'),\n",
      "     (u'PNJIS01593-1', u'BC858A', u'-65'),\n",
      "     (u'PNJIS01593-1', u'BC858B', u'-65'),\n",
      "     (u'PNJIS01593-1', u'BC858C', u'-65'),\n",
      "     (u'PNJIS01593-1', u'BC859', u'-65'),\n",
      "     (u'PNJIS01593-1', u'BC859B', u'-65'),\n",
      "     (u'PNJIS01593-1', u'BC859C', u'-65'),\n",
      "     (u'RECTS01158-1', u'BC807-25', u'-50'),\n",
      "     (u'VSMIS03793-1', u'BC817', u'-50'),\n",
      "     (u'VSMIS03793-1', u'BC817-16', u'-50'),\n",
      "     (u'VSMIS03793-1', u'BC817-25', u'-50'),\n",
      "     (u'VSMIS03793-1', u'BC817-40', u'-50'),\n",
      "     (u'VSMIS03793-1', u'BC818', u'-50'),\n",
      "     (u'VSMIS03793-1', u'BC818-16', u'-50'),\n",
      "     (u'VSMIS03793-1', u'BC818-25', u'-50'),\n",
      "     (u'VSMIS03793-1', u'BC818-40', u'-50')])\n"
     ]
    }
   ],
   "source": [
    "from pprint import pprint\n",
    "pprint(FP)"
   ]
  },
  {
   "cell_type": "code",
   "execution_count": 26,
   "metadata": {
    "collapsed": true
   },
   "outputs": [],
   "source": [
    "import os\n",
    "os.system('cp snorkel.db snorkel.db\\ final');"
   ]
  },
  {
   "cell_type": "code",
   "execution_count": 27,
   "metadata": {
    "collapsed": false
   },
   "outputs": [],
   "source": [
    "from pprint import pprint\n",
    "all_weights = disc_model.get_feature_weights(F_train)"
   ]
  },
  {
   "cell_type": "code",
   "execution_count": 28,
   "metadata": {
    "collapsed": false
   },
   "outputs": [
    {
     "name": "stdout",
     "output_type": "stream",
     "text": [
      "[(AnnotationKey (TAB_e2_ROW_LEMMAS_[temperature]), 12.648358601523558),\n",
      " (AnnotationKey (TAB_e2_ROW_LEMMAS_[t]), 12.445072897164422),\n",
      " (AnnotationKey (TAB_e2_ROW_LEMMAS_[storage]), 11.125439293776846),\n",
      " (AnnotationKey (TAB_e2_ROW_LEMMAS_[stg]), 9.327678702656604),\n",
      " (AnnotationKey (TAB_e2_ROW_LEMMAS_[t stg]), 9.326679759799017),\n",
      " (AnnotationKey (TAB_e2_ROW_LEMMAS_[storage temperature]), 9.241757295165732),\n",
      " (AnnotationKey (TAB_e2_ROW_LEMMAS_[% c]), 7.406441630200583),\n",
      " (AnnotationKey (TAB_e2_COL_LEMMAS_[65]), 7.244077268670047),\n",
      " (AnnotationKey (TAB_e2_ROW_LEMMAS_[temperature range]), 6.081553911728434),\n",
      " (AnnotationKey (TAB_e2_ROW_LEMMAS_[range]), 6.081553911728434),\n",
      " (AnnotationKey (TAB_e2_ROW_LEMMAS_[c]), 5.727914212488628),\n",
      " (AnnotationKey (TAB_e2_W_RIGHT_POS_1_[CD]), 4.863244305381174),\n",
      " (AnnotationKey (TAB_e2_W_POS_L_1_R_1_[CD]_[CD]), 4.863244305381174),\n",
      " (AnnotationKey (TAB_e2_W_RIGHT_1_[_NUMBER]), 4.821288705332301),\n",
      " (AnnotationKey (TAB_e2_W_LEMMA_L_1_R_1_[_NUMBER]_[_NUMBER]),\n",
      "  4.821288705332301),\n",
      " (AnnotationKey (TAB_e2_W_LEFT_2_[to _NUMBER]), 4.672000287473731),\n",
      " (AnnotationKey (TAB_e2_W_LEFT_POS_2_[TO CD]), 4.672000287473731),\n",
      " (AnnotationKey (TAB_e2_W_LEFT_POS_3_[CD TO CD]), 4.672000287473731),\n",
      " (AnnotationKey (TAB_e2_W_LEFT_3_[_NUMBER to _NUMBER]), 4.672000287473731),\n",
      " (AnnotationKey (TAB_e2_COL_LEMMAS_[80]), 4.535181966289002),\n",
      " (AnnotationKey (TAB_e2_COL_NUM_[2]), 4.1036844601684095),\n",
      " (AnnotationKey (TAB_e2_COL_LEMMAS_[value]), 4.006427341401251),\n",
      " (AnnotationKey (TAB_e2_W_RIGHT_1_[to]), 3.8718449101068058),\n",
      " (AnnotationKey (TAB_e2_W_RIGHT_POS_1_[TO]), 3.8718449101068058),\n",
      " (AnnotationKey (TAB_e2_W_RIGHT_2_[to _NUMBER]), 3.8718449101068058),\n",
      " (AnnotationKey (TAB_e2_W_LEMMA_L_1_R_1_[_NUMBER]_[to]), 3.8718449101068058),\n",
      " (AnnotationKey (TAB_e2_W_LEMMA_L_1_R_2_[_NUMBER]_[to _NUMBER]),\n",
      "  3.8718449101068058),\n",
      " (AnnotationKey (TAB_e2_W_POS_L_1_R_2_[CD]_[TO CD]), 3.8718449101068058),\n",
      " (AnnotationKey (TAB_e2_W_LEMMA_L_2_R_1_[to _NUMBER]_[to]),\n",
      "  3.8718449101068058),\n",
      " (AnnotationKey (TAB_e2_W_POS_L_2_R_1_[TO CD]_[TO]), 3.8718449101068058),\n",
      " (AnnotationKey (TAB_e2_W_LEMMA_L_2_R_2_[to _NUMBER]_[to _NUMBER]),\n",
      "  3.8718449101068058),\n",
      " (AnnotationKey (TAB_e2_W_POS_L_2_R_2_[TO CD]_[TO CD]), 3.8718449101068058),\n",
      " (AnnotationKey (TAB_e2_W_LEMMA_L_3_R_1_[_NUMBER to _NUMBER]_[to]),\n",
      "  3.8718449101068058),\n",
      " (AnnotationKey (TAB_e2_W_POS_L_3_R_1_[CD TO CD]_[TO]), 3.8718449101068058),\n",
      " (AnnotationKey (TAB_e2_W_RIGHT_POS_2_[TO CD]), 3.8718449101068058),\n",
      " (AnnotationKey (TAB_e2_W_POS_L_1_R_1_[CD]_[TO]), 3.8718449101068058),\n",
      " (AnnotationKey (TAB_e2_W_LEMMA_L_3_R_2_[_NUMBER to _NUMBER]_[to _NUMBER]),\n",
      "  3.8718449101068058),\n",
      " (AnnotationKey (TAB_e2_W_POS_L_3_R_2_[CD TO CD]_[TO CD]), 3.8718449101068058),\n",
      " (AnnotationKey (TAB_e2_WORD_SEQ_[-]), 3.8152473107688007),\n",
      " (AnnotationKey (TAB_e2_LEMMA_SEQ_[-]), 3.8152473107688007),\n",
      " (AnnotationKey (TAB_e2_POS_SEQ_[:]), 3.8152473107688007),\n",
      " (AnnotationKey (TAB_e2_W_LEFT_1_[_NUMBER]), 3.780657716037377),\n",
      " (AnnotationKey (TAB_e2_W_LEFT_POS_1_[CD]), 3.780657716037377),\n",
      " (AnnotationKey (TAB_e2_COL_LEMMAS_[150]), 3.7482516358037556),\n",
      " (AnnotationKey (TAB_e2_WORD_SEQ_[-55]), 3.7407421586792435),\n",
      " (AnnotationKey (TAB_e2_LEMMA_SEQ_[-55]), 3.7407421586792435),\n",
      " (AnnotationKey (TAB_e2_ROW_LEMMAS_[j]), 3.6945399004222566),\n",
      " (AnnotationKey (TAB_e2_ROW_LEMMAS_[t j]), 3.6945399004222566),\n",
      " (AnnotationKey (TAB_e2_COL_LEMMAS_[100]), 3.583545619226989),\n",
      " (AnnotationKey (TAB_e2_ROW_NUM_[12]), 3.563208848934569),\n",
      " (AnnotationKey (TAB_e2_ROW_LEMMAS_[%]), 3.51542274384401),\n",
      " (AnnotationKey (TAB_e2_ROW_LEMMAS_[junction]), 3.3743774092281735),\n",
      " (AnnotationKey (TAB_e2_ROW_LEMMAS_[junction temperature]),\n",
      "  2.8927174905121795),\n",
      " (AnnotationKey (TAB_e2_ROW_LEMMAS_[j ,]), 2.8221920867114307),\n",
      " (AnnotationKey (TAB_e2_COL_LEMMAS_[330]), 2.6913684008609113),\n",
      " (AnnotationKey (TAB_e2_ROW_LEMMAS_[and]), 2.5729548276031418),\n",
      " (AnnotationKey (TAB_e2_ROW_LEMMAS_[and storage]), 2.5729548276031418),\n",
      " (AnnotationKey (TAB_e2_ROW_LEMMAS_[+150]), 2.493394803713506),\n",
      " (AnnotationKey (TAB_e2_COL_LEMMAS_[45]), 2.432982714498736),\n",
      " (AnnotationKey (TAB_e2_COL_LEMMAS_[500]), 2.3013290713467085)]\n"
     ]
    }
   ],
   "source": [
    "pprint(all_weights[:60])"
   ]
  },
  {
   "cell_type": "code",
   "execution_count": 29,
   "metadata": {
    "collapsed": false
   },
   "outputs": [
    {
     "name": "stdout",
     "output_type": "stream",
     "text": [
      "2199\n",
      "0\n"
     ]
    }
   ],
   "source": [
    "fp_zetx = set()\n",
    "print(len(fp))\n",
    "for f in fp:\n",
    "    if str(f.part.parent.document) == \"Document ZETXS01948-1\":\n",
    "        fp_zetx.add(f)\n",
    "\n",
    "print(len(fp_zetx))"
   ]
  },
  {
   "cell_type": "code",
   "execution_count": 30,
   "metadata": {
    "collapsed": false
   },
   "outputs": [
    {
     "ename": "KeyError",
     "evalue": "'pop from an empty set'",
     "output_type": "error",
     "traceback": [
      "\u001b[0;31m---------------------------------------------------------------------------\u001b[0m",
      "\u001b[0;31mKeyError\u001b[0m                                  Traceback (most recent call last)",
      "\u001b[0;32m<ipython-input-30-753c2353111b>\u001b[0m in \u001b[0;36m<module>\u001b[0;34m()\u001b[0m\n\u001b[0;32m----> 1\u001b[0;31m \u001b[0msample\u001b[0m \u001b[0;34m=\u001b[0m \u001b[0mfp_zetx\u001b[0m\u001b[0;34m.\u001b[0m\u001b[0mpop\u001b[0m\u001b[0;34m(\u001b[0m\u001b[0;34m)\u001b[0m\u001b[0;34m\u001b[0m\u001b[0m\n\u001b[0m",
      "\u001b[0;31mKeyError\u001b[0m: 'pop from an empty set'"
     ]
    }
   ],
   "source": [
    "sample = fp_zetx.pop()"
   ]
  },
  {
   "cell_type": "code",
   "execution_count": null,
   "metadata": {
    "collapsed": false
   },
   "outputs": [],
   "source": [
    "from snorkel.utils import get_keys_by_candidate\n",
    "for a in sorted(get_keys_by_candidate(F_dev, sample)):\n",
    "    print a"
   ]
  },
  {
   "cell_type": "code",
   "execution_count": null,
   "metadata": {
    "collapsed": false
   },
   "outputs": [],
   "source": [
    "from snorkel.lf_helpers import *\n",
    "def LF_v_row(c):\n",
    "    return -1 if 'v' in get_row_ngrams(c.temp, infer=True) else 0\n",
    "\n",
    "LF_v_row(sample)"
   ]
  },
  {
   "cell_type": "markdown",
   "metadata": {},
   "source": [
    "The End."
   ]
  }
 ],
 "metadata": {
  "anaconda-cloud": {},
  "kernelspec": {
   "display_name": "Python [default]",
   "language": "python",
   "name": "python2"
  },
  "language_info": {
   "codemirror_mode": {
    "name": "ipython",
    "version": 2
   },
   "file_extension": ".py",
   "mimetype": "text/x-python",
   "name": "python",
   "nbconvert_exporter": "python",
   "pygments_lexer": "ipython2",
   "version": "2.7.10"
  }
 },
 "nbformat": 4,
 "nbformat_minor": 0
}
