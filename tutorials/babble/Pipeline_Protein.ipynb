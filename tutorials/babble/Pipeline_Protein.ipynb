{
 "cells": [
  {
   "cell_type": "code",
   "execution_count": 19,
   "metadata": {
    "collapsed": false
   },
   "outputs": [
    {
     "name": "stdout",
     "output_type": "stream",
     "text": [
      "The autoreload extension is already loaded. To reload it, use:\n",
      "  %reload_ext autoreload\n"
     ]
    }
   ],
   "source": [
    "%load_ext autoreload\n",
    "%autoreload 2"
   ]
  },
  {
   "cell_type": "code",
   "execution_count": 24,
   "metadata": {
    "collapsed": false
   },
   "outputs": [],
   "source": [
    "config = {\n",
    "    'domain': 'protein',\n",
    "    'postgres': False,\n",
    "    'debug': False,\n",
    "#     'max_docs': 3,\n",
    "    'babbler_candidate_split': 1,\n",
    "    'babbler_label_split': 2,\n",
    "    'supervision': 'majority_vote',\n",
    "    'do_filter_duplicate_semantics': False, \n",
    "    'do_filter_consistency': False, \n",
    "    'do_filter_duplicate_signatures': False, \n",
    "    'do_filter_uniform_signatures': False,\n",
    "}"
   ]
  },
  {
   "cell_type": "code",
   "execution_count": 25,
   "metadata": {
    "collapsed": false
   },
   "outputs": [
    {
     "name": "stdout",
     "output_type": "stream",
     "text": [
      "$SNORKELDB = sqlite:///babble_protein.db\n"
     ]
    }
   ],
   "source": [
    "# Get DB connection string and add to globals\n",
    "# NOTE: $SNORKELDB must be set before any snorkel imports\n",
    "import os\n",
    "\n",
    "default_db_name = 'babble_' + config['domain'] + ('_debug' if config.get('debug', False) else '')\n",
    "DB_NAME = config.get('db_name', default_db_name)\n",
    "if 'postgres' in config and config['postgres']:\n",
    "    DB_TYPE = 'postgres'\n",
    "else:\n",
    "    DB_TYPE = 'sqlite'\n",
    "    DB_NAME += '.db'\n",
    "DB_ADDR = \"localhost:{0}\".format(config['db_port']) if 'db_port' in config else \"\"\n",
    "os.environ['SNORKELDB'] = '{0}://{1}/{2}'.format(DB_TYPE, DB_ADDR, DB_NAME)\n",
    "print(\"$SNORKELDB = {0}\".format(os.environ['SNORKELDB']))"
   ]
  },
  {
   "cell_type": "code",
   "execution_count": 26,
   "metadata": {
    "collapsed": false,
    "scrolled": true
   },
   "outputs": [
    {
     "name": "stdout",
     "output_type": "stream",
     "text": [
      "Overwriting supervision=generative to supervision=majority_vote\n"
     ]
    }
   ],
   "source": [
    "from snorkel import SnorkelSession\n",
    "session = SnorkelSession()\n",
    "\n",
    "# Resolve config conflicts (nb_config > local_config > global_config)\n",
    "from snorkel.contrib.babble.pipelines import merge_configs, get_local_pipeline\n",
    "config = merge_configs(config)\n",
    "\n",
    "if config['debug']:\n",
    "    print(\"NOTE: --debug=True: modifying parameters...\")\n",
    "    config['max_docs'] = 100\n",
    "    config['gen_model_search_space'] = 2\n",
    "    config['disc_model_search_space'] = 2\n",
    "    config['gen_params_default']['epochs'] = 25\n",
    "    config['disc_params_default']['n_epochs'] = 5\n",
    "\n",
    "from snorkel.models import candidate_subclass\n",
    "candidate_class = candidate_subclass(config['candidate_name'], config['candidate_entities'])\n",
    "\n",
    "pipeline = get_local_pipeline(config['domain'])\n",
    "pipe = pipeline(session, candidate_class, config)"
   ]
  },
  {
   "cell_type": "code",
   "execution_count": 5,
   "metadata": {
    "collapsed": false,
    "scrolled": false
   },
   "outputs": [
    {
     "name": "stdout",
     "output_type": "stream",
     "text": [
      "Clearing existing...\n",
      "Running UDF...\n",
      "[========================================] 100%\n",
      "\n",
      "Documents: 53\n",
      "Sentences: 1551\n",
      "CPU times: user 3.75 s, sys: 142 ms, total: 3.89 s\n",
      "Wall time: 49 s\n"
     ]
    }
   ],
   "source": [
    "%time pipe.parse()"
   ]
  },
  {
   "cell_type": "code",
   "execution_count": 6,
   "metadata": {
    "collapsed": false,
    "scrolled": true
   },
   "outputs": [
    {
     "name": "stdout",
     "output_type": "stream",
     "text": [
      "Clearing existing...\n",
      "Running UDF...\n",
      "[========================================] 100%\n",
      "\n",
      "Candidates [Split 0]: 664\n",
      "Clearing existing...\n",
      "Running UDF...\n",
      "[========================================] 100%\n",
      "\n",
      "Candidates [Split 1]: 126\n",
      "Clearing existing...\n",
      "Running UDF...\n",
      "[========================================] 100%\n",
      "\n",
      "Candidates [Split 2]: 203\n",
      "CPU times: user 3.23 s, sys: 236 ms, total: 3.47 s\n",
      "Wall time: 3.35 s\n"
     ]
    }
   ],
   "source": [
    "%time pipe.extract()"
   ]
  },
  {
   "cell_type": "code",
   "execution_count": 23,
   "metadata": {
    "collapsed": false,
    "scrolled": false
   },
   "outputs": [
    {
     "name": "stdout",
     "output_type": "stream",
     "text": [
      "AnnotatorLabels created: 664\n",
      "AnnotatorLabels created: 0\n",
      "AnnotatorLabels created: 203\n",
      "CPU times: user 14 s, sys: 202 ms, total: 14.2 s\n",
      "Wall time: 14.3 s\n"
     ]
    }
   ],
   "source": [
    "%time pipe.load_gold()"
   ]
  },
  {
   "cell_type": "code",
   "execution_count": 8,
   "metadata": {
    "collapsed": false,
    "scrolled": false
   },
   "outputs": [
    {
     "name": "stdout",
     "output_type": "stream",
     "text": [
      "Skipping malformed or header row 23...\n",
      "Linking candidates...\n",
      "Building list of target candidate ids...\n",
      "Collected 29 unique target candidate ids from 56 explanations.\n",
      "Gathering desired candidates...\n",
      "Found 29/29 desired candidates\n",
      "Linking explanations to candidates...\n",
      "Linked 56/56 explanations\n",
      "Calling babbler...\n",
      "Created grammar with 480 rules\n",
      "57 parses created from 41 out of 56 explanation(s)\n",
      "Parsed 57 LFs from 56 explanations.\n",
      "Filtered to 40 LFs with duplicate semantics filter (17 filtered).\n",
      "Filtered to 23 LFs with consistency filter (17 filtered).\n",
      "Clearing existing...\n",
      "Running UDF...\n",
      "[========================================] 100%\n",
      "\n",
      "Filtered to 6 LFs with uniform signatures filter (17 filtered).\n",
      "Filtered to 6 LFs with duplicate signatures filter (0 filtered).\n",
      "CPU times: user 7.01 s, sys: 478 ms, total: 7.49 s\n",
      "Wall time: 7.47 s\n"
     ]
    }
   ],
   "source": [
    "%time pipe.collect()"
   ]
  },
  {
   "cell_type": "code",
   "execution_count": 12,
   "metadata": {
    "collapsed": false
   },
   "outputs": [
    {
     "name": "stdout",
     "output_type": "stream",
     "text": [
      "Clearing existing...\n",
      "Running UDF...\n",
      "[========================================] 100%\n",
      "\n",
      "\n",
      "Labeled split 0: (664,6) sparse (nnz = 104)\n",
      "Clearing existing...\n",
      "Running UDF...\n",
      "[========================================] 100%\n",
      "\n",
      "\n",
      "Labeled split 1: (126,6) sparse (nnz = 23)\n",
      "                 j  Coverage  Overlaps  Conflicts  TP  FP  FN  TN  \\\n",
      "Explanation2_0   0  0.015873  0.015873   0.007937   0   2   0   0   \n",
      "Explanation33_1  1  0.039683  0.000000   0.000000   0   0   0   5   \n",
      "Explanation5_1   2  0.007937  0.000000   0.000000   0   0   0   1   \n",
      "Explanation50_0  3  0.055556  0.023810   0.015873   0   7   0   0   \n",
      "Explanation51_1  4  0.055556  0.023810   0.023810   0   0   1   6   \n",
      "Explanation6_0   5  0.007937  0.000000   0.000000   0   0   0   1   \n",
      "\n",
      "                 Empirical Acc.  \n",
      "Explanation2_0         0.000000  \n",
      "Explanation33_1        1.000000  \n",
      "Explanation5_1         1.000000  \n",
      "Explanation50_0        0.000000  \n",
      "Explanation51_1        0.857143  \n",
      "Explanation6_0         1.000000  \n",
      "Clearing existing...\n",
      "Running UDF...\n",
      "[========================================] 100%\n",
      "\n",
      "\n",
      "Labeled split 2: (203,6) sparse (nnz = 15)\n",
      "CPU times: user 5.42 s, sys: 252 ms, total: 5.68 s\n",
      "Wall time: 5.59 s\n"
     ]
    }
   ],
   "source": [
    "%time pipe.label()"
   ]
  },
  {
   "cell_type": "code",
   "execution_count": 40,
   "metadata": {
    "collapsed": false,
    "scrolled": false
   },
   "outputs": [
    {
     "name": "stdout",
     "output_type": "stream",
     "text": [
      "Using L_train: <664x6 sparse matrix of type '<type 'numpy.int64'>'\n",
      "\twith 104 stored elements in Compressed Sparse Row format>\n",
      "Using L_gold_train: <664x1 sparse matrix of type '<type 'numpy.int64'>'\n",
      "\twith 664 stored elements in Compressed Sparse Row format>\n",
      "Positive Fraction: 1.5%\n",
      "\n",
      "Using L_dev: <126x6 sparse matrix of type '<type 'numpy.int64'>'\n",
      "\twith 23 stored elements in Compressed Sparse Row format>\n",
      "Using L_gold_dev: <126x1 sparse matrix of type '<type 'numpy.int64'>'\n",
      "\twith 126 stored elements in Compressed Sparse Row format>\n",
      "Positive Fraction: 7.1%\n",
      "\n",
      "Using L_test: <203x6 sparse matrix of type '<type 'numpy.int64'>'\n",
      "\twith 15 stored elements in Compressed Sparse Row format>\n",
      "Using L_gold_test: <203x1 sparse matrix of type '<type 'numpy.int64'>'\n",
      "\twith 203 stored elements in Compressed Sparse Row format>\n",
      "Positive Fraction: 5.9%\n",
      "\n",
      "Saved 664 marginals\n",
      "CPU times: user 42.2 ms, sys: 4.7 ms, total: 46.9 ms\n",
      "Wall time: 45.5 ms\n"
     ]
    }
   ],
   "source": [
    "%time pipe.supervise()"
   ]
  },
  {
   "cell_type": "code",
   "execution_count": 28,
   "metadata": {
    "collapsed": false,
    "scrolled": false
   },
   "outputs": [
    {
     "name": "stdout",
     "output_type": "stream",
     "text": [
      "### [7.1] Begin training discriminative model\n",
      "============================================================\n",
      "[1] Testing dim = 64, dropout = 2.50e-01, rebalance = 0.00e+00, lr = 1.00e-03\n",
      "============================================================\n"
     ]
    },
    {
     "name": "stderr",
     "output_type": "stream",
     "text": [
      "/Users/bradenjh/anaconda/envs/snorkel/lib/python2.7/site-packages/tensorflow/python/ops/gradients_impl.py:91: UserWarning: Converting sparse IndexedSlices to a dense Tensor of unknown shape. This may consume a large amount of memory.\n",
      "  \"Converting sparse IndexedSlices to a dense Tensor of unknown shape. \"\n"
     ]
    },
    {
     "name": "stdout",
     "output_type": "stream",
     "text": [
      "[reRNN] Training model\n",
      "[reRNN] n_train=664  #epochs=20  batch size=128\n",
      "[reRNN] Epoch 0 (1.57s)\tAverage loss=0.677659\tDev F1=0.00\n",
      "[reRNN] Epoch 1 (3.19s)\tAverage loss=0.567539\tDev F1=0.00\n",
      "[reRNN] Epoch 2 (4.82s)\tAverage loss=0.257527\tDev F1=0.00\n",
      "[reRNN] Epoch 3 (6.50s)\tAverage loss=0.098538\tDev F1=0.00\n",
      "[reRNN] Epoch 4 (8.18s)\tAverage loss=0.053479\tDev F1=0.00\n",
      "[reRNN] Epoch 5 (9.92s)\tAverage loss=0.097188\tDev F1=0.00\n",
      "[reRNN] Epoch 6 (11.64s)\tAverage loss=0.046231\tDev F1=0.00\n",
      "[reRNN] Epoch 7 (13.48s)\tAverage loss=0.046012\tDev F1=0.00\n",
      "[reRNN] Epoch 8 (15.31s)\tAverage loss=0.072844\tDev F1=0.00\n",
      "[reRNN] Epoch 9 (17.15s)\tAverage loss=0.072371\tDev F1=0.00\n",
      "[reRNN] Epoch 10 (19.01s)\tAverage loss=0.045975\tDev F1=0.00\n",
      "[reRNN] Epoch 11 (20.85s)\tAverage loss=0.045975\tDev F1=0.00\n",
      "[reRNN] Epoch 12 (22.72s)\tAverage loss=0.045779\tDev F1=0.00\n",
      "[reRNN] Epoch 13 (24.53s)\tAverage loss=0.045566\tDev F1=0.00\n",
      "[reRNN] Epoch 14 (26.42s)\tAverage loss=0.072123\tDev F1=0.00\n",
      "[reRNN] Epoch 15 (28.24s)\tAverage loss=0.044603\tDev F1=0.00\n",
      "[reRNN] Epoch 16 (30.16s)\tAverage loss=0.043198\tDev F1=0.00\n",
      "[reRNN] Epoch 17 (31.96s)\tAverage loss=0.059314\tDev F1=0.00\n",
      "[reRNN] Epoch 18 (33.86s)\tAverage loss=0.064522\tDev F1=0.00\n",
      "[reRNN] Epoch 19 (35.76s)\tAverage loss=0.061686\tDev F1=0.00\n",
      "[reRNN] Training done (35.87s)\n",
      "[reRNN] F-1.0 Score: 0.0\n",
      "[reRNN] Model saved as <reRNN_0>\n",
      "============================================================\n",
      "[2] Testing dim = 128, dropout = 5.00e-01, rebalance = 2.50e-01, lr = 1.00e-04\n",
      "============================================================\n",
      "[reRNN] Training model\n",
      "[reRNN] n_train=24  #epochs=20  batch size=24\n",
      "[reRNN] Epoch 0 (0.31s)\tAverage loss=0.693716\tDev F1=12.90\n",
      "[reRNN] Epoch 1 (0.90s)\tAverage loss=0.691520\tDev F1=17.39\n",
      "[reRNN] Epoch 2 (1.51s)\tAverage loss=0.689337\tDev F1=14.29\n",
      "[reRNN] Epoch 3 (2.12s)\tAverage loss=0.687168\tDev F1=0.00\n",
      "[reRNN] Epoch 4 (2.70s)\tAverage loss=0.685011\tDev F1=0.00\n",
      "[reRNN] Epoch 5 (3.33s)\tAverage loss=0.682863\tDev F1=0.00\n",
      "[reRNN] Epoch 6 (3.94s)\tAverage loss=0.680723\tDev F1=0.00\n",
      "[reRNN] Epoch 7 (4.53s)\tAverage loss=0.678588\tDev F1=0.00\n",
      "[reRNN] Epoch 8 (5.12s)\tAverage loss=0.676456\tDev F1=0.00\n",
      "[reRNN] Epoch 9 (5.76s)\tAverage loss=0.674326\tDev F1=0.00\n",
      "[reRNN] Epoch 10 (6.38s)\tAverage loss=0.672195\tDev F1=0.00\n",
      "[reRNN] Epoch 11 (6.97s)\tAverage loss=0.670061\tDev F1=0.00\n",
      "[reRNN] Epoch 12 (7.56s)\tAverage loss=0.667920\tDev F1=0.00\n",
      "[reRNN] Epoch 13 (8.16s)\tAverage loss=0.665770\tDev F1=0.00\n",
      "[reRNN] Epoch 14 (8.73s)\tAverage loss=0.663608\tDev F1=0.00\n",
      "[reRNN] Epoch 15 (9.33s)\tAverage loss=0.661432\tDev F1=0.00\n",
      "[reRNN] Epoch 16 (9.95s)\tAverage loss=0.659236\tDev F1=0.00\n",
      "[reRNN] Epoch 17 (10.55s)\tAverage loss=0.657019\tDev F1=0.00\n",
      "[reRNN] Epoch 18 (11.16s)\tAverage loss=0.654775\tDev F1=0.00\n",
      "[reRNN] Epoch 19 (11.77s)\tAverage loss=0.652501\tDev F1=0.00\n",
      "[reRNN] Training done (12.11s)\n",
      "[reRNN] F-1.0 Score: 0.0\n",
      "============================================================\n",
      "[3] Testing dim = 128, dropout = 1.00e-01, rebalance = 5.00e-01, lr = 1.00e-02\n",
      "============================================================\n",
      "[reRNN] Training model\n",
      "[reRNN] n_train=12  #epochs=20  batch size=12\n",
      "[reRNN] Epoch 0 (0.26s)\tAverage loss=0.691450\tDev F1=13.33\n",
      "[reRNN] Epoch 1 (0.97s)\tAverage loss=0.599001\tDev F1=0.00\n",
      "[reRNN] Epoch 2 (1.65s)\tAverage loss=0.568715\tDev F1=3.39\n",
      "[reRNN] Epoch 3 (2.33s)\tAverage loss=0.775846\tDev F1=9.30\n",
      "[reRNN] Epoch 4 (3.03s)\tAverage loss=0.340068\tDev F1=9.41\n",
      "[reRNN] Epoch 5 (3.72s)\tAverage loss=0.274534\tDev F1=10.39\n",
      "[reRNN] Epoch 6 (4.39s)\tAverage loss=0.248121\tDev F1=7.89\n",
      "[reRNN] Epoch 7 (5.05s)\tAverage loss=0.151094\tDev F1=8.00\n",
      "[reRNN] Epoch 8 (5.72s)\tAverage loss=0.112261\tDev F1=8.00\n",
      "[reRNN] Epoch 9 (6.41s)\tAverage loss=0.073085\tDev F1=8.11\n",
      "[reRNN] Epoch 10 (7.11s)\tAverage loss=0.044197\tDev F1=8.33\n",
      "[reRNN] Epoch 11 (7.83s)\tAverage loss=0.025956\tDev F1=8.45\n",
      "[reRNN] Epoch 12 (8.53s)\tAverage loss=0.015441\tDev F1=8.70\n",
      "[reRNN] Epoch 13 (9.24s)\tAverage loss=0.009294\tDev F1=8.70\n",
      "[reRNN] Epoch 14 (9.94s)\tAverage loss=0.005708\tDev F1=8.70\n",
      "[reRNN] Epoch 15 (10.63s)\tAverage loss=0.003625\tDev F1=8.70\n",
      "[reRNN] Epoch 16 (11.35s)\tAverage loss=0.002388\tDev F1=8.70\n",
      "[reRNN] Model saved as <reRNN>\n",
      "[reRNN] Epoch 17 (13.20s)\tAverage loss=0.001628\tDev F1=8.70\n",
      "[reRNN] Epoch 18 (13.87s)\tAverage loss=0.001146\tDev F1=8.70\n",
      "[reRNN] Epoch 19 (14.53s)\tAverage loss=0.000831\tDev F1=5.88\n",
      "[reRNN] Training done (14.99s)\n",
      "[reRNN] Loaded model <reRNN>\n",
      "[reRNN] F-1.0 Score: 0.0869565217391\n",
      "[reRNN] Model saved as <reRNN_2>\n",
      "============================================================\n",
      "[4] Testing dim = 64, dropout = 5.00e-01, rebalance = 5.00e-01, lr = 1.00e-04\n",
      "============================================================\n",
      "[reRNN] Training model\n",
      "[reRNN] n_train=12  #epochs=20  batch size=12\n",
      "[reRNN] Epoch 0 (0.21s)\tAverage loss=0.695637\tDev F1=4.88\n",
      "[reRNN] Epoch 1 (0.68s)\tAverage loss=0.695352\tDev F1=4.65\n",
      "[reRNN] Epoch 2 (1.12s)\tAverage loss=0.695068\tDev F1=4.30\n",
      "[reRNN] Epoch 3 (1.56s)\tAverage loss=0.694785\tDev F1=4.30\n",
      "[reRNN] Epoch 4 (1.99s)\tAverage loss=0.694504\tDev F1=4.30\n",
      "[reRNN] Epoch 5 (2.42s)\tAverage loss=0.694224\tDev F1=4.26\n",
      "[reRNN] Epoch 6 (2.86s)\tAverage loss=0.693945\tDev F1=4.26\n",
      "[reRNN] Epoch 7 (3.29s)\tAverage loss=0.693667\tDev F1=4.17\n",
      "[reRNN] Epoch 8 (3.74s)\tAverage loss=0.693389\tDev F1=8.08\n",
      "[reRNN] Epoch 9 (4.18s)\tAverage loss=0.693112\tDev F1=8.00\n",
      "[reRNN] Epoch 10 (4.65s)\tAverage loss=0.692835\tDev F1=8.00\n",
      "[reRNN] Epoch 11 (5.11s)\tAverage loss=0.692558\tDev F1=9.90\n",
      "[reRNN] Epoch 12 (5.56s)\tAverage loss=0.692280\tDev F1=9.80\n",
      "[reRNN] Epoch 13 (6.01s)\tAverage loss=0.692002\tDev F1=9.43\n",
      "[reRNN] Epoch 14 (6.45s)\tAverage loss=0.691723\tDev F1=11.21\n",
      "[reRNN] Epoch 15 (6.89s)\tAverage loss=0.691443\tDev F1=11.21\n",
      "[reRNN] Epoch 16 (7.32s)\tAverage loss=0.691161\tDev F1=11.21\n",
      "[reRNN] Model saved as <reRNN>\n",
      "[reRNN] Epoch 17 (8.88s)\tAverage loss=0.690877\tDev F1=11.21\n",
      "[reRNN] Epoch 18 (9.33s)\tAverage loss=0.690592\tDev F1=11.21\n",
      "[reRNN] Epoch 19 (9.77s)\tAverage loss=0.690304\tDev F1=11.21\n",
      "[reRNN] Training done (10.05s)\n",
      "[reRNN] Loaded model <reRNN>\n",
      "[reRNN] F-1.0 Score: 0.11214953271\n",
      "[reRNN] Model saved as <reRNN_3>\n",
      "============================================================\n",
      "[5] Testing dim = 128, dropout = 1.00e-01, rebalance = 5.00e-01, lr = 1.00e-02\n",
      "============================================================\n",
      "[reRNN] Training model\n",
      "[reRNN] n_train=12  #epochs=20  batch size=12\n",
      "[reRNN] Epoch 0 (0.25s)\tAverage loss=0.692006\tDev F1=13.33\n",
      "[reRNN] Epoch 1 (0.89s)\tAverage loss=0.616994\tDev F1=0.00\n",
      "[reRNN] Epoch 2 (1.55s)\tAverage loss=0.258601\tDev F1=5.19\n",
      "[reRNN] Epoch 3 (2.19s)\tAverage loss=1.794006\tDev F1=12.99\n",
      "[reRNN] Epoch 4 (2.83s)\tAverage loss=1.809012\tDev F1=12.99\n",
      "[reRNN] Epoch 5 (3.50s)\tAverage loss=1.052992\tDev F1=12.99\n",
      "[reRNN] Epoch 6 (4.16s)\tAverage loss=0.679138\tDev F1=0.00\n",
      "[reRNN] Epoch 7 (4.79s)\tAverage loss=0.604673\tDev F1=11.59\n",
      "[reRNN] Epoch 8 (5.45s)\tAverage loss=0.658141\tDev F1=11.11\n",
      "[reRNN] Epoch 9 (6.07s)\tAverage loss=0.690248\tDev F1=8.79\n",
      "[reRNN] Epoch 10 (6.71s)\tAverage loss=0.662056\tDev F1=0.00\n",
      "[reRNN] Epoch 11 (7.40s)\tAverage loss=0.534059\tDev F1=0.00\n",
      "[reRNN] Epoch 12 (8.07s)\tAverage loss=0.365379\tDev F1=12.84\n",
      "[reRNN] Epoch 13 (8.71s)\tAverage loss=0.357131\tDev F1=13.56\n",
      "[reRNN] Epoch 14 (9.36s)\tAverage loss=0.290764\tDev F1=12.12\n",
      "[reRNN] Epoch 15 (10.00s)\tAverage loss=0.208597\tDev F1=12.31\n",
      "[reRNN] Epoch 16 (10.66s)\tAverage loss=0.142484\tDev F1=12.50\n",
      "[reRNN] Model saved as <reRNN>\n",
      "[reRNN] Epoch 17 (12.60s)\tAverage loss=0.086933\tDev F1=13.79\n",
      "[reRNN] Model saved as <reRNN>\n",
      "[reRNN] Epoch 18 (14.42s)\tAverage loss=0.053130\tDev F1=12.84\n",
      "[reRNN] Epoch 19 (15.08s)\tAverage loss=0.034246\tDev F1=12.50\n",
      "[reRNN] Training done (15.55s)\n",
      "[reRNN] Loaded model <reRNN>\n",
      "[reRNN] F-1.0 Score: 0.137931034483\n",
      "[reRNN] Model saved as <reRNN_4>\n",
      "============================================================\n",
      "[6] Testing dim = 128, dropout = 1.00e-01, rebalance = 5.00e-01, lr = 1.00e-03\n",
      "============================================================\n",
      "[reRNN] Training model\n",
      "[reRNN] n_train=12  #epochs=20  batch size=12\n",
      "[reRNN] Epoch 0 (0.27s)\tAverage loss=0.691779\tDev F1=0.00\n",
      "[reRNN] Epoch 1 (0.95s)\tAverage loss=0.682890\tDev F1=4.65\n",
      "[reRNN] Epoch 2 (1.60s)\tAverage loss=0.673496\tDev F1=6.25\n",
      "[reRNN] Epoch 3 (2.28s)\tAverage loss=0.662765\tDev F1=3.12\n",
      "[reRNN] Epoch 4 (2.94s)\tAverage loss=0.649697\tDev F1=4.00\n",
      "[reRNN] Epoch 5 (3.57s)\tAverage loss=0.633157\tDev F1=5.56\n",
      "[reRNN] Epoch 6 (4.25s)\tAverage loss=0.611633\tDev F1=6.90\n",
      "[reRNN] Epoch 7 (4.95s)\tAverage loss=0.582838\tDev F1=9.09\n",
      "[reRNN] Epoch 8 (5.57s)\tAverage loss=0.543211\tDev F1=10.00\n",
      "[reRNN] Epoch 9 (6.21s)\tAverage loss=0.487204\tDev F1=0.00\n",
      "[reRNN] Epoch 10 (6.85s)\tAverage loss=0.409183\tDev F1=0.00\n",
      "[reRNN] Epoch 11 (7.49s)\tAverage loss=0.348094\tDev F1=0.00\n",
      "[reRNN] Epoch 12 (8.15s)\tAverage loss=0.267648\tDev F1=19.35\n",
      "[reRNN] Epoch 13 (8.85s)\tAverage loss=0.202933\tDev F1=15.38\n",
      "[reRNN] Epoch 14 (9.50s)\tAverage loss=0.148988\tDev F1=13.95\n",
      "[reRNN] Epoch 15 (10.17s)\tAverage loss=0.095407\tDev F1=16.33\n",
      "[reRNN] Epoch 16 (10.80s)\tAverage loss=0.056811\tDev F1=19.35\n",
      "[reRNN] Model saved as <reRNN>\n",
      "[reRNN] Epoch 17 (12.84s)\tAverage loss=0.035143\tDev F1=14.12\n",
      "[reRNN] Epoch 18 (13.47s)\tAverage loss=0.023566\tDev F1=12.90\n",
      "[reRNN] Epoch 19 (14.12s)\tAverage loss=0.016926\tDev F1=12.50\n",
      "[reRNN] Training done (14.56s)\n",
      "[reRNN] Loaded model <reRNN>\n",
      "[reRNN] F-1.0 Score: 0.193548387097\n",
      "[reRNN] Model saved as <reRNN_5>\n",
      "============================================================\n",
      "[7] Testing dim = 128, dropout = 1.00e-01, rebalance = 2.50e-01, lr = 1.00e-03\n",
      "============================================================\n",
      "[reRNN] Training model\n",
      "[reRNN] n_train=24  #epochs=20  batch size=24\n",
      "[reRNN] Epoch 0 (0.28s)\tAverage loss=0.691025\tDev F1=0.00\n",
      "[reRNN] Epoch 1 (0.82s)\tAverage loss=0.669589\tDev F1=0.00\n",
      "[reRNN] Epoch 2 (1.33s)\tAverage loss=0.648549\tDev F1=0.00\n",
      "[reRNN] Epoch 3 (1.87s)\tAverage loss=0.626553\tDev F1=0.00\n",
      "[reRNN] Epoch 4 (2.43s)\tAverage loss=0.602072\tDev F1=0.00\n",
      "[reRNN] Epoch 5 (3.00s)\tAverage loss=0.572808\tDev F1=0.00\n",
      "[reRNN] Epoch 6 (3.53s)\tAverage loss=0.534892\tDev F1=0.00\n",
      "[reRNN] Epoch 7 (4.07s)\tAverage loss=0.484888\tDev F1=0.00\n",
      "[reRNN] Epoch 8 (4.63s)\tAverage loss=0.469319\tDev F1=0.00\n",
      "[reRNN] Epoch 9 (5.18s)\tAverage loss=0.457326\tDev F1=0.00\n",
      "[reRNN] Epoch 10 (5.71s)\tAverage loss=0.407750\tDev F1=0.00\n",
      "[reRNN] Epoch 11 (6.25s)\tAverage loss=0.386742\tDev F1=0.00\n",
      "[reRNN] Epoch 12 (6.83s)\tAverage loss=0.368474\tDev F1=0.00\n",
      "[reRNN] Epoch 13 (7.39s)\tAverage loss=0.332499\tDev F1=0.00\n",
      "[reRNN] Epoch 14 (7.96s)\tAverage loss=0.276054\tDev F1=0.00\n",
      "[reRNN] Epoch 15 (8.53s)\tAverage loss=0.221095\tDev F1=0.00\n",
      "[reRNN] Epoch 16 (9.13s)\tAverage loss=0.189712\tDev F1=0.00\n",
      "[reRNN] Epoch 17 (9.70s)\tAverage loss=0.151054\tDev F1=0.00\n",
      "[reRNN] Epoch 18 (10.32s)\tAverage loss=0.121900\tDev F1=0.00\n",
      "[reRNN] Epoch 19 (10.90s)\tAverage loss=0.099328\tDev F1=0.00\n",
      "[reRNN] Training done (11.22s)\n",
      "[reRNN] F-1.0 Score: 0.0\n",
      "============================================================\n",
      "[8] Testing dim = 128, dropout = 5.00e-01, rebalance = 5.00e-01, lr = 1.00e-04\n",
      "============================================================\n",
      "[reRNN] Training model\n",
      "[reRNN] n_train=12  #epochs=20  batch size=12\n",
      "[reRNN] Epoch 0 (0.25s)\tAverage loss=0.692005\tDev F1=0.00\n",
      "[reRNN] Epoch 1 (0.93s)\tAverage loss=0.690968\tDev F1=0.00\n",
      "[reRNN] Epoch 2 (1.57s)\tAverage loss=0.689935\tDev F1=0.00\n",
      "[reRNN] Epoch 3 (2.22s)\tAverage loss=0.688903\tDev F1=0.00\n",
      "[reRNN] Epoch 4 (2.87s)\tAverage loss=0.687871\tDev F1=0.00\n",
      "[reRNN] Epoch 5 (3.50s)\tAverage loss=0.686837\tDev F1=0.00\n",
      "[reRNN] Epoch 6 (4.12s)\tAverage loss=0.685801\tDev F1=0.00\n",
      "[reRNN] Epoch 7 (4.77s)\tAverage loss=0.684759\tDev F1=4.17\n",
      "[reRNN] Epoch 8 (5.47s)\tAverage loss=0.683710\tDev F1=7.41\n",
      "[reRNN] Epoch 9 (6.13s)\tAverage loss=0.682651\tDev F1=6.78\n",
      "[reRNN] Epoch 10 (6.78s)\tAverage loss=0.681581\tDev F1=6.78\n",
      "[reRNN] Epoch 11 (7.46s)\tAverage loss=0.680495\tDev F1=6.78\n",
      "[reRNN] Epoch 12 (8.14s)\tAverage loss=0.679393\tDev F1=9.38\n",
      "[reRNN] Epoch 13 (8.84s)\tAverage loss=0.678270\tDev F1=14.71\n",
      "[reRNN] Epoch 14 (9.52s)\tAverage loss=0.677125\tDev F1=14.29\n",
      "[reRNN] Epoch 15 (10.17s)\tAverage loss=0.675955\tDev F1=14.29\n",
      "[reRNN] Epoch 16 (10.82s)\tAverage loss=0.674756\tDev F1=14.29\n",
      "[reRNN] Model saved as <reRNN>\n",
      "[reRNN] Epoch 17 (12.63s)\tAverage loss=0.673526\tDev F1=14.49\n",
      "[reRNN] Model saved as <reRNN>\n",
      "[reRNN] Epoch 18 (14.68s)\tAverage loss=0.672262\tDev F1=12.31\n",
      "[reRNN] Epoch 19 (15.29s)\tAverage loss=0.670960\tDev F1=6.78\n",
      "[reRNN] Training done (15.74s)\n",
      "[reRNN] Loaded model <reRNN>\n",
      "[reRNN] F-1.0 Score: 0.144927536232\n",
      "============================================================\n",
      "[9] Testing dim = 128, dropout = 2.50e-01, rebalance = 2.50e-01, lr = 1.00e-02\n",
      "============================================================\n",
      "[reRNN] Training model\n",
      "[reRNN] n_train=24  #epochs=20  batch size=24\n",
      "[reRNN] Epoch 0 (0.29s)\tAverage loss=0.694756\tDev F1=0.00\n",
      "[reRNN] Epoch 1 (0.81s)\tAverage loss=0.551402\tDev F1=0.00\n",
      "[reRNN] Epoch 2 (1.33s)\tAverage loss=0.834768\tDev F1=0.00\n",
      "[reRNN] Epoch 3 (1.87s)\tAverage loss=0.397320\tDev F1=0.00\n",
      "[reRNN] Epoch 4 (2.43s)\tAverage loss=0.260942\tDev F1=8.00\n",
      "[reRNN] Epoch 5 (3.04s)\tAverage loss=0.381290\tDev F1=11.90\n",
      "[reRNN] Epoch 6 (3.62s)\tAverage loss=0.310544\tDev F1=10.39\n",
      "[reRNN] Epoch 7 (4.17s)\tAverage loss=0.279902\tDev F1=11.11\n",
      "[reRNN] Epoch 8 (4.69s)\tAverage loss=0.260748\tDev F1=8.82\n",
      "[reRNN] Epoch 9 (5.23s)\tAverage loss=0.223751\tDev F1=8.82\n",
      "[reRNN] Epoch 10 (5.78s)\tAverage loss=0.195962\tDev F1=8.96\n",
      "[reRNN] Epoch 11 (6.37s)\tAverage loss=0.168131\tDev F1=9.84\n",
      "[reRNN] Epoch 12 (6.97s)\tAverage loss=0.120823\tDev F1=10.34\n",
      "[reRNN] Epoch 13 (7.61s)\tAverage loss=0.085846\tDev F1=7.14\n",
      "[reRNN] Epoch 14 (8.23s)\tAverage loss=0.058003\tDev F1=7.41\n",
      "[reRNN] Epoch 15 (8.84s)\tAverage loss=0.036288\tDev F1=3.92\n",
      "[reRNN] Epoch 16 (9.42s)\tAverage loss=0.022539\tDev F1=3.92\n",
      "[reRNN] Model saved as <reRNN>\n",
      "[reRNN] Epoch 17 (11.30s)\tAverage loss=0.014442\tDev F1=4.08\n",
      "[reRNN] Model saved as <reRNN>\n",
      "[reRNN] Epoch 18 (13.32s)\tAverage loss=0.009408\tDev F1=8.16\n",
      "[reRNN] Model saved as <reRNN>\n",
      "[reRNN] Epoch 19 (15.16s)\tAverage loss=0.006423\tDev F1=7.69\n",
      "[reRNN] Training done (15.46s)\n",
      "[reRNN] Loaded model <reRNN>\n",
      "[reRNN] F-1.0 Score: 0.0816326530612\n",
      "============================================================\n",
      "[10] Testing dim = 128, dropout = 5.00e-01, rebalance = 2.50e-01, lr = 1.00e-03\n",
      "============================================================\n",
      "[reRNN] Training model\n",
      "[reRNN] n_train=24  #epochs=20  batch size=24\n",
      "[reRNN] Epoch 0 (0.28s)\tAverage loss=0.699840\tDev F1=0.00\n",
      "[reRNN] Epoch 1 (0.86s)\tAverage loss=0.675866\tDev F1=0.00\n",
      "[reRNN] Epoch 2 (1.44s)\tAverage loss=0.653115\tDev F1=0.00\n",
      "[reRNN] Epoch 3 (1.96s)\tAverage loss=0.630112\tDev F1=0.00\n",
      "[reRNN] Epoch 4 (2.47s)\tAverage loss=0.605285\tDev F1=0.00\n",
      "[reRNN] Epoch 5 (3.03s)\tAverage loss=0.576614\tDev F1=0.00\n",
      "[reRNN] Epoch 6 (3.58s)\tAverage loss=0.541158\tDev F1=0.00\n",
      "[reRNN] Epoch 7 (4.18s)\tAverage loss=0.496128\tDev F1=0.00\n",
      "[reRNN] Epoch 8 (4.78s)\tAverage loss=0.463624\tDev F1=0.00\n",
      "[reRNN] Epoch 9 (5.37s)\tAverage loss=0.467706\tDev F1=0.00\n",
      "[reRNN] Epoch 10 (5.95s)\tAverage loss=0.416486\tDev F1=0.00\n",
      "[reRNN] Epoch 11 (6.55s)\tAverage loss=0.386316\tDev F1=0.00\n",
      "[reRNN] Epoch 12 (7.15s)\tAverage loss=0.373489\tDev F1=0.00\n",
      "[reRNN] Epoch 13 (7.70s)\tAverage loss=0.349581\tDev F1=0.00\n",
      "[reRNN] Epoch 14 (8.32s)\tAverage loss=0.308511\tDev F1=0.00\n",
      "[reRNN] Epoch 15 (8.86s)\tAverage loss=0.250249\tDev F1=0.00\n",
      "[reRNN] Epoch 16 (9.42s)\tAverage loss=0.203440\tDev F1=0.00\n",
      "[reRNN] Epoch 17 (9.99s)\tAverage loss=0.207564\tDev F1=0.00\n",
      "[reRNN] Epoch 18 (10.56s)\tAverage loss=0.147147\tDev F1=0.00\n",
      "[reRNN] Epoch 19 (11.12s)\tAverage loss=0.137587\tDev F1=0.00\n",
      "[reRNN] Training done (11.44s)\n",
      "[reRNN] F-1.0 Score: 0.0\n",
      "[reRNN] Loaded model <reRNN_5>\n",
      "   dim  dropout  rebalance      lr     Prec.      Rec.     F-1.0\n",
      "5  128     0.10       0.50  0.0010  0.113208  0.666667  0.193548\n",
      "7  128     0.50       0.50  0.0001  0.083333  0.555556  0.144928\n",
      "4  128     0.10       0.50  0.0100  0.074766  0.888889  0.137931\n",
      "3   64     0.50       0.50  0.0001  0.061224  0.666667  0.112150\n",
      "2  128     0.10       0.50  0.0100  0.050000  0.333333  0.086957\n",
      "8  128     0.25       0.25  0.0100  0.050000  0.222222  0.081633\n",
      "0   64     0.25       0.00  0.0010  0.000000  0.000000  0.000000\n",
      "1  128     0.50       0.25  0.0001  0.000000  0.000000  0.000000\n",
      "6  128     0.10       0.25  0.0010  0.000000  0.000000  0.000000\n",
      "9  128     0.50       0.25  0.0010  0.000000  0.000000  0.000000\n",
      "[reRNN] Model saved as <discriminative_protein>\n",
      "### Done in 191.0s.\n",
      "\n",
      "### [7.2] Evaluate generative model (opt_b=0.5)\n",
      "### Done in 0.0s.\n",
      "\n",
      "### [7.3] Evaluate discriminative model (opt_b=0.5)\n",
      "### Done in 0.7s.\n",
      "\n",
      "      F1 Score  Precision  Recall\n",
      "Disc  0.132353   0.072581    0.75\n",
      "Gen   0.000000   0.000000    0.00\n",
      "CPU times: user 12min 18s, sys: 2min 50s, total: 15min 8s\n",
      "Wall time: 3min 11s\n"
     ]
    }
   ],
   "source": [
    "%time pipe.classify()"
   ]
  },
  {
   "cell_type": "code",
   "execution_count": 29,
   "metadata": {
    "collapsed": true
   },
   "outputs": [],
   "source": [
    "from snorkel.annotations import load_gold_labels"
   ]
  },
  {
   "cell_type": "code",
   "execution_count": null,
   "metadata": {
    "collapsed": true
   },
   "outputs": [],
   "source": []
  },
  {
   "cell_type": "code",
   "execution_count": 30,
   "metadata": {
    "collapsed": true
   },
   "outputs": [],
   "source": [
    "L_gold_test = load_gold_labels(pipe.session, annotator_name='gold', split=2)"
   ]
  },
  {
   "cell_type": "code",
   "execution_count": 31,
   "metadata": {
    "collapsed": false
   },
   "outputs": [
    {
     "data": {
      "text/plain": [
       "<203x1 sparse matrix of type '<type 'numpy.int64'>'\n",
       "\twith 203 stored elements in Compressed Sparse Row format>"
      ]
     },
     "execution_count": 31,
     "metadata": {},
     "output_type": "execute_result"
    }
   ],
   "source": [
    "L_gold_test"
   ]
  },
  {
   "cell_type": "code",
   "execution_count": 35,
   "metadata": {
    "collapsed": false
   },
   "outputs": [
    {
     "data": {
      "text/plain": [
       "matrix([[12]])"
      ]
     },
     "execution_count": 35,
     "metadata": {},
     "output_type": "execute_result"
    }
   ],
   "source": [
    "sum(L_gold_test.todense() == 1)"
   ]
  },
  {
   "cell_type": "code",
   "execution_count": null,
   "metadata": {
    "collapsed": true
   },
   "outputs": [],
   "source": []
  }
 ],
 "metadata": {
  "kernelspec": {
   "display_name": "Python 2",
   "language": "python",
   "name": "python2"
  },
  "language_info": {
   "codemirror_mode": {
    "name": "ipython",
    "version": 2
   },
   "file_extension": ".py",
   "mimetype": "text/x-python",
   "name": "python",
   "nbconvert_exporter": "python",
   "pygments_lexer": "ipython2",
   "version": "2.7.13"
  }
 },
 "nbformat": 4,
 "nbformat_minor": 2
}
