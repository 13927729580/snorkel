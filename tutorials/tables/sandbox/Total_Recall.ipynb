{
 "cells": [
  {
   "cell_type": "code",
   "execution_count": 1,
   "metadata": {
    "collapsed": false
   },
   "outputs": [],
   "source": [
    "import os\n",
    "os.remove('snorkel.db')\n",
    "os.system('cp snorkel.db\\ corpus snorkel.db');"
   ]
  },
  {
   "cell_type": "code",
   "execution_count": 2,
   "metadata": {
    "collapsed": false
   },
   "outputs": [],
   "source": [
    "%load_ext autoreload\n",
    "%autoreload 2\n",
    "%matplotlib inline\n",
    "\n",
    "from snorkel import SnorkelSession\n",
    "session = SnorkelSession()\n",
    "\n",
    "import os, sys\n",
    "sys.path.append(os.environ['SNORKELHOME'] + '/tutorials/tables/')"
   ]
  },
  {
   "cell_type": "markdown",
   "metadata": {},
   "source": [
    "### Extraction"
   ]
  },
  {
   "cell_type": "code",
   "execution_count": 3,
   "metadata": {
    "collapsed": false
   },
   "outputs": [
    {
     "name": "stdout",
     "output_type": "stream",
     "text": [
      "Corpus (Hardware) contains 100 Documents\n"
     ]
    }
   ],
   "source": [
    "from snorkel.models import Corpus\n",
    "\n",
    "corpus = session.query(Corpus).filter(Corpus.name == 'Hardware').one()\n",
    "print \"%s contains %d Documents\" % (corpus, len(corpus))"
   ]
  },
  {
   "cell_type": "code",
   "execution_count": 4,
   "metadata": {
    "collapsed": true
   },
   "outputs": [],
   "source": [
    "from snorkel.models import candidate_subclass\n",
    "\n",
    "Part = candidate_subclass('Part', ['part'])"
   ]
  },
  {
   "cell_type": "code",
   "execution_count": 5,
   "metadata": {
    "collapsed": false
   },
   "outputs": [],
   "source": [
    "from hardware_utils import OmniNgramsHardware\n",
    "\n",
    "hardware_ngrams = OmniNgramsHardware(n_max=3, split_tokens=None)"
   ]
  },
  {
   "cell_type": "code",
   "execution_count": 6,
   "metadata": {
    "collapsed": false
   },
   "outputs": [
    {
     "name": "stdout",
     "output_type": "stream",
     "text": [
      "Loaded 1286 part numbers.\n"
     ]
    }
   ],
   "source": [
    "from hardware_utils import load_extended_parts_dict\n",
    "from snorkel.matchers import DictionaryMatch\n",
    "\n",
    "filename = os.environ['SNORKELHOME'] + '/tutorials/tables/data/hardware/hardware_gold.csv'\n",
    "parts_dict = load_extended_parts_dict(filename)\n",
    "print \"Loaded %d part numbers.\" % len(parts_dict)\n",
    "\n",
    "parts_matcher = DictionaryMatch(d=parts_dict, ignore_case=True)"
   ]
  },
  {
   "cell_type": "code",
   "execution_count": 7,
   "metadata": {
    "collapsed": true
   },
   "outputs": [],
   "source": [
    "from snorkel.candidates import CandidateExtractor\n",
    "\n",
    "ce = CandidateExtractor(Part, [hardware_ngrams], [parts_matcher])"
   ]
  },
  {
   "cell_type": "code",
   "execution_count": 8,
   "metadata": {
    "collapsed": false
   },
   "outputs": [
    {
     "name": "stdout",
     "output_type": "stream",
     "text": [
      "[========================================] 100%\n",
      "\n",
      "CPU times: user 2min 47s, sys: 3.29 s, total: 2min 50s\n",
      "Wall time: 2min 52s\n",
      "Candidate Set (Hardware Candidates) contains 16070 Candidates\n"
     ]
    }
   ],
   "source": [
    "%time candidates = ce.extract(corpus.documents, 'Hardware Candidates', session)\n",
    "print \"%s contains %d Candidates\" % (candidates, len(candidates))"
   ]
  },
  {
   "cell_type": "markdown",
   "metadata": {},
   "source": [
    "### Saving Candidates"
   ]
  },
  {
   "cell_type": "code",
   "execution_count": 9,
   "metadata": {
    "collapsed": true
   },
   "outputs": [],
   "source": [
    "session.add(candidates)\n",
    "session.commit()"
   ]
  },
  {
   "cell_type": "code",
   "execution_count": 10,
   "metadata": {
    "collapsed": true
   },
   "outputs": [],
   "source": [
    "import os\n",
    "os.system('cp snorkel.db snorkel.db\\ candidates');"
   ]
  },
  {
   "cell_type": "markdown",
   "metadata": {},
   "source": [
    "### Reloading Candidates"
   ]
  },
  {
   "cell_type": "code",
   "execution_count": 11,
   "metadata": {
    "collapsed": false
   },
   "outputs": [],
   "source": [
    "from snorkel import SnorkelSession\n",
    "session = SnorkelSession()\n",
    "\n",
    "import os, sys\n",
    "sys.path.append(os.environ['SNORKELHOME'] + '/tutorials/tables/')\n",
    "\n",
    "import os\n",
    "os.remove('snorkel.db')\n",
    "os.system('cp snorkel.db\\ candidates snorkel.db');\n",
    "\n",
    "from snorkel.models import Corpus\n",
    "corpus = session.query(Corpus).filter(Corpus.name == 'Hardware').one()"
   ]
  },
  {
   "cell_type": "code",
   "execution_count": 12,
   "metadata": {
    "collapsed": false
   },
   "outputs": [
    {
     "name": "stdout",
     "output_type": "stream",
     "text": [
      "Candidate Set (Hardware Candidates) contains 16070 Candidates\n"
     ]
    }
   ],
   "source": [
    "from snorkel.models import CandidateSet\n",
    "\n",
    "candidates = session.query(CandidateSet).filter(\n",
    "    CandidateSet.name == 'Hardware Candidates').one()\n",
    "print \"%s contains %d Candidates\" % (candidates, len(candidates))"
   ]
  },
  {
   "cell_type": "markdown",
   "metadata": {},
   "source": [
    "### Error Analysis"
   ]
  },
  {
   "cell_type": "code",
   "execution_count": 13,
   "metadata": {
    "collapsed": false
   },
   "outputs": [
    {
     "name": "stdout",
     "output_type": "stream",
     "text": [
      "Preparing gold set...\n",
      "Preparing candidates...\n",
      "[========================================] 100%\n",
      "\n",
      "========================================\n",
      "Scoring on Entity-Level Total Recall\n",
      "========================================\n",
      "Entity-level Candidates extracted: 2087 \n",
      "Entity-level Gold: 542\n",
      "Intersection Candidates: 528\n",
      "----------------------------------------\n",
      "Overlap with Gold:  0.97\n",
      "========================================\n",
      "\n"
     ]
    }
   ],
   "source": [
    "# TEMP\n",
    "from hardware_utils import entity_level_total_recall\n",
    "\n",
    "filename = os.environ['SNORKELHOME'] + '/tutorials/tables/data/hardware/hardware_gold.csv'\n",
    "(tp, fp, fn) = entity_level_total_recall(candidates, filename, 'stg_temp_min')"
   ]
  },
  {
   "cell_type": "code",
   "execution_count": 14,
   "metadata": {
    "collapsed": false
   },
   "outputs": [
    {
     "name": "stdout",
     "output_type": "stream",
     "text": [
      "('SIEMS01215-1', 'BC857A')\n",
      "('PJECS00521-1', 'MMBT3904')\n",
      "('SIEMS01215-1', 'BC858C')\n",
      "('SIEMS01215-1', 'BC858B')\n",
      "('SIEMS01215-1', 'BC859B')\n",
      "('SIEMS01215-1', 'BC858A')\n",
      "('SIEMS01215-1', 'BC856A')\n",
      "('SIEMS01215-1', 'BC859C')\n",
      "('SIEMS01215-1', 'BC860B')\n",
      "('SIEMS01215-1', 'BC859A')\n",
      "('SIEMS01215-1', 'BC856B')\n",
      "('SIEMS01215-1', 'BC857B')\n",
      "('SIEMS01215-1', 'BC860C')\n",
      "('SIEMS01215-1', 'BC857C')\n"
     ]
    }
   ],
   "source": [
    "for c in list(fn):\n",
    "    print c"
   ]
  },
  {
   "cell_type": "code",
   "execution_count": 30,
   "metadata": {
    "collapsed": false
   },
   "outputs": [
    {
     "name": "stdout",
     "output_type": "stream",
     "text": [
      "MCCCS08984-1\n"
     ]
    }
   ],
   "source": [
    "print candidates[0].part.parent.document.name"
   ]
  },
  {
   "cell_type": "code",
   "execution_count": 54,
   "metadata": {
    "collapsed": false
   },
   "outputs": [
    {
     "name": "stdout",
     "output_type": "stream",
     "text": [
      "BC856\n",
      "BC856-16\n",
      "BC856-25\n",
      "BC856-40\n",
      "BC856A\n",
      "BC856B\n",
      "BC856C\n"
     ]
    }
   ],
   "source": [
    "from hardware_utils import expand_part_range\n",
    "\n",
    "for p in expand_part_range(\"BC 856 A\"): print p"
   ]
  },
  {
   "cell_type": "code",
   "execution_count": 23,
   "metadata": {
    "collapsed": false
   },
   "outputs": [
    {
     "data": {
      "text/plain": [
       "True"
      ]
     },
     "execution_count": 23,
     "metadata": {},
     "output_type": "execute_result"
    }
   ],
   "source": [
    "\"BC 856 A\" in parts_dict"
   ]
  },
  {
   "cell_type": "code",
   "execution_count": 45,
   "metadata": {
    "collapsed": false
   },
   "outputs": [
    {
     "ename": "KeyboardInterrupt",
     "evalue": "",
     "output_type": "error",
     "traceback": [
      "\u001b[0;31m---------------------------------------------------------------------------\u001b[0m",
      "\u001b[0;31mKeyboardInterrupt\u001b[0m                         Traceback (most recent call last)",
      "\u001b[0;32m<ipython-input-45-7a1795bca886>\u001b[0m in \u001b[0;36m<module>\u001b[0;34m()\u001b[0m\n\u001b[1;32m      1\u001b[0m \u001b[0;32mfor\u001b[0m \u001b[0mc\u001b[0m \u001b[0;32min\u001b[0m \u001b[0mcandidates\u001b[0m\u001b[0;34m:\u001b[0m\u001b[0;34m\u001b[0m\u001b[0m\n\u001b[0;32m----> 2\u001b[0;31m     \u001b[0;32mif\u001b[0m \u001b[0mc\u001b[0m\u001b[0;34m.\u001b[0m\u001b[0mpart\u001b[0m\u001b[0;34m.\u001b[0m\u001b[0mparent\u001b[0m\u001b[0;34m.\u001b[0m\u001b[0mdocument\u001b[0m\u001b[0;34m.\u001b[0m\u001b[0mname\u001b[0m \u001b[0;34m==\u001b[0m \u001b[0;34m\"SIEMS01215-1\"\u001b[0m\u001b[0;34m:\u001b[0m\u001b[0;34m\u001b[0m\u001b[0m\n\u001b[0m\u001b[1;32m      3\u001b[0m         \u001b[0;32mimport\u001b[0m \u001b[0mpdb\u001b[0m\u001b[0;34m;\u001b[0m \u001b[0mpdb\u001b[0m\u001b[0;34m.\u001b[0m\u001b[0mset_trace\u001b[0m\u001b[0;34m(\u001b[0m\u001b[0;34m)\u001b[0m\u001b[0;34m\u001b[0m\u001b[0m\n",
      "\u001b[0;32m/Users/bradenhancock/anaconda/lib/python2.7/site-packages/sqlalchemy/orm/attributes.pyc\u001b[0m in \u001b[0;36m__get__\u001b[0;34m(self, instance, owner)\u001b[0m\n\u001b[1;32m    235\u001b[0m             \u001b[0;32mreturn\u001b[0m \u001b[0mdict_\u001b[0m\u001b[0;34m[\u001b[0m\u001b[0mself\u001b[0m\u001b[0;34m.\u001b[0m\u001b[0mkey\u001b[0m\u001b[0;34m]\u001b[0m\u001b[0;34m\u001b[0m\u001b[0m\n\u001b[1;32m    236\u001b[0m         \u001b[0;32melse\u001b[0m\u001b[0;34m:\u001b[0m\u001b[0;34m\u001b[0m\u001b[0m\n\u001b[0;32m--> 237\u001b[0;31m             \u001b[0;32mreturn\u001b[0m \u001b[0mself\u001b[0m\u001b[0;34m.\u001b[0m\u001b[0mimpl\u001b[0m\u001b[0;34m.\u001b[0m\u001b[0mget\u001b[0m\u001b[0;34m(\u001b[0m\u001b[0minstance_state\u001b[0m\u001b[0;34m(\u001b[0m\u001b[0minstance\u001b[0m\u001b[0;34m)\u001b[0m\u001b[0;34m,\u001b[0m \u001b[0mdict_\u001b[0m\u001b[0;34m)\u001b[0m\u001b[0;34m\u001b[0m\u001b[0m\n\u001b[0m\u001b[1;32m    238\u001b[0m \u001b[0;34m\u001b[0m\u001b[0m\n\u001b[1;32m    239\u001b[0m \u001b[0;34m\u001b[0m\u001b[0m\n",
      "\u001b[0;32m/Users/bradenhancock/anaconda/lib/python2.7/site-packages/sqlalchemy/orm/attributes.pyc\u001b[0m in \u001b[0;36mget\u001b[0;34m(self, state, dict_, passive)\u001b[0m\n\u001b[1;32m    581\u001b[0m                     \u001b[0mvalue\u001b[0m \u001b[0;34m=\u001b[0m \u001b[0mcallable_\u001b[0m\u001b[0;34m(\u001b[0m\u001b[0mstate\u001b[0m\u001b[0;34m,\u001b[0m \u001b[0mpassive\u001b[0m\u001b[0;34m)\u001b[0m\u001b[0;34m\u001b[0m\u001b[0m\n\u001b[1;32m    582\u001b[0m                 \u001b[0;32melif\u001b[0m \u001b[0mself\u001b[0m\u001b[0;34m.\u001b[0m\u001b[0mcallable_\u001b[0m\u001b[0;34m:\u001b[0m\u001b[0;34m\u001b[0m\u001b[0m\n\u001b[0;32m--> 583\u001b[0;31m                     \u001b[0mvalue\u001b[0m \u001b[0;34m=\u001b[0m \u001b[0mself\u001b[0m\u001b[0;34m.\u001b[0m\u001b[0mcallable_\u001b[0m\u001b[0;34m(\u001b[0m\u001b[0mstate\u001b[0m\u001b[0;34m,\u001b[0m \u001b[0mpassive\u001b[0m\u001b[0;34m)\u001b[0m\u001b[0;34m\u001b[0m\u001b[0m\n\u001b[0m\u001b[1;32m    584\u001b[0m                 \u001b[0;32melse\u001b[0m\u001b[0;34m:\u001b[0m\u001b[0;34m\u001b[0m\u001b[0m\n\u001b[1;32m    585\u001b[0m                     \u001b[0mvalue\u001b[0m \u001b[0;34m=\u001b[0m \u001b[0mATTR_EMPTY\u001b[0m\u001b[0;34m\u001b[0m\u001b[0m\n",
      "\u001b[0;32m/Users/bradenhancock/anaconda/lib/python2.7/site-packages/sqlalchemy/orm/strategies.pyc\u001b[0m in \u001b[0;36m_load_for_state\u001b[0;34m(self, state, passive)\u001b[0m\n\u001b[1;32m    542\u001b[0m                 \u001b[0;32mreturn\u001b[0m \u001b[0mattributes\u001b[0m\u001b[0;34m.\u001b[0m\u001b[0mPASSIVE_NO_RESULT\u001b[0m\u001b[0;34m\u001b[0m\u001b[0m\n\u001b[1;32m    543\u001b[0m \u001b[0;34m\u001b[0m\u001b[0m\n\u001b[0;32m--> 544\u001b[0;31m         \u001b[0;32mreturn\u001b[0m \u001b[0mself\u001b[0m\u001b[0;34m.\u001b[0m\u001b[0m_emit_lazyload\u001b[0m\u001b[0;34m(\u001b[0m\u001b[0msession\u001b[0m\u001b[0;34m,\u001b[0m \u001b[0mstate\u001b[0m\u001b[0;34m,\u001b[0m \u001b[0mident_key\u001b[0m\u001b[0;34m,\u001b[0m \u001b[0mpassive\u001b[0m\u001b[0;34m)\u001b[0m\u001b[0;34m\u001b[0m\u001b[0m\n\u001b[0m\u001b[1;32m    545\u001b[0m \u001b[0;34m\u001b[0m\u001b[0m\n\u001b[1;32m    546\u001b[0m     \u001b[0;32mdef\u001b[0m \u001b[0m_get_ident_for_use_get\u001b[0m\u001b[0;34m(\u001b[0m\u001b[0mself\u001b[0m\u001b[0;34m,\u001b[0m \u001b[0msession\u001b[0m\u001b[0;34m,\u001b[0m \u001b[0mstate\u001b[0m\u001b[0;34m,\u001b[0m \u001b[0mpassive\u001b[0m\u001b[0;34m)\u001b[0m\u001b[0;34m:\u001b[0m\u001b[0;34m\u001b[0m\u001b[0m\n",
      "\u001b[0;32m<string>\u001b[0m in \u001b[0;36m<lambda>\u001b[0;34m(self, session, state, ident_key, passive)\u001b[0m\n",
      "\u001b[0;32m/Users/bradenhancock/anaconda/lib/python2.7/site-packages/sqlalchemy/orm/strategies.pyc\u001b[0m in \u001b[0;36m_emit_lazyload\u001b[0;34m(self, strategy_options, session, state, ident_key, passive)\u001b[0m\n\u001b[1;32m    586\u001b[0m \u001b[0;34m\u001b[0m\u001b[0m\n\u001b[1;32m    587\u001b[0m         \u001b[0;32mif\u001b[0m \u001b[0mself\u001b[0m\u001b[0;34m.\u001b[0m\u001b[0muse_get\u001b[0m\u001b[0;34m:\u001b[0m\u001b[0;34m\u001b[0m\u001b[0m\n\u001b[0;32m--> 588\u001b[0;31m             \u001b[0;32mreturn\u001b[0m \u001b[0mloading\u001b[0m\u001b[0;34m.\u001b[0m\u001b[0mload_on_ident\u001b[0m\u001b[0;34m(\u001b[0m\u001b[0mq\u001b[0m\u001b[0;34m,\u001b[0m \u001b[0mident_key\u001b[0m\u001b[0;34m)\u001b[0m\u001b[0;34m\u001b[0m\u001b[0m\n\u001b[0m\u001b[1;32m    589\u001b[0m \u001b[0;34m\u001b[0m\u001b[0m\n\u001b[1;32m    590\u001b[0m         \u001b[0;32mif\u001b[0m \u001b[0mself\u001b[0m\u001b[0;34m.\u001b[0m\u001b[0mparent_property\u001b[0m\u001b[0;34m.\u001b[0m\u001b[0morder_by\u001b[0m\u001b[0;34m:\u001b[0m\u001b[0;34m\u001b[0m\u001b[0m\n",
      "\u001b[0;32m/Users/bradenhancock/anaconda/lib/python2.7/site-packages/sqlalchemy/orm/loading.pyc\u001b[0m in \u001b[0;36mload_on_ident\u001b[0;34m(query, key, refresh_state, lockmode, only_load_props)\u001b[0m\n\u001b[1;32m    217\u001b[0m \u001b[0;34m\u001b[0m\u001b[0m\n\u001b[1;32m    218\u001b[0m     \u001b[0;32mtry\u001b[0m\u001b[0;34m:\u001b[0m\u001b[0;34m\u001b[0m\u001b[0m\n\u001b[0;32m--> 219\u001b[0;31m         \u001b[0;32mreturn\u001b[0m \u001b[0mq\u001b[0m\u001b[0;34m.\u001b[0m\u001b[0mone\u001b[0m\u001b[0;34m(\u001b[0m\u001b[0;34m)\u001b[0m\u001b[0;34m\u001b[0m\u001b[0m\n\u001b[0m\u001b[1;32m    220\u001b[0m     \u001b[0;32mexcept\u001b[0m \u001b[0morm_exc\u001b[0m\u001b[0;34m.\u001b[0m\u001b[0mNoResultFound\u001b[0m\u001b[0;34m:\u001b[0m\u001b[0;34m\u001b[0m\u001b[0m\n\u001b[1;32m    221\u001b[0m         \u001b[0;32mreturn\u001b[0m \u001b[0mNone\u001b[0m\u001b[0;34m\u001b[0m\u001b[0m\n",
      "\u001b[0;32m/Users/bradenhancock/anaconda/lib/python2.7/site-packages/sqlalchemy/orm/query.pyc\u001b[0m in \u001b[0;36mone\u001b[0;34m(self)\u001b[0m\n\u001b[1;32m   2716\u001b[0m \u001b[0;34m\u001b[0m\u001b[0m\n\u001b[1;32m   2717\u001b[0m         \"\"\"\n\u001b[0;32m-> 2718\u001b[0;31m         \u001b[0mret\u001b[0m \u001b[0;34m=\u001b[0m \u001b[0mlist\u001b[0m\u001b[0;34m(\u001b[0m\u001b[0mself\u001b[0m\u001b[0;34m)\u001b[0m\u001b[0;34m\u001b[0m\u001b[0m\n\u001b[0m\u001b[1;32m   2719\u001b[0m \u001b[0;34m\u001b[0m\u001b[0m\n\u001b[1;32m   2720\u001b[0m         \u001b[0ml\u001b[0m \u001b[0;34m=\u001b[0m \u001b[0mlen\u001b[0m\u001b[0;34m(\u001b[0m\u001b[0mret\u001b[0m\u001b[0;34m)\u001b[0m\u001b[0;34m\u001b[0m\u001b[0m\n",
      "\u001b[0;32m/Users/bradenhancock/anaconda/lib/python2.7/site-packages/sqlalchemy/orm/query.pyc\u001b[0m in \u001b[0;36m__iter__\u001b[0;34m(self)\u001b[0m\n\u001b[1;32m   2755\u001b[0m \u001b[0;34m\u001b[0m\u001b[0m\n\u001b[1;32m   2756\u001b[0m     \u001b[0;32mdef\u001b[0m \u001b[0m__iter__\u001b[0m\u001b[0;34m(\u001b[0m\u001b[0mself\u001b[0m\u001b[0;34m)\u001b[0m\u001b[0;34m:\u001b[0m\u001b[0;34m\u001b[0m\u001b[0m\n\u001b[0;32m-> 2757\u001b[0;31m         \u001b[0mcontext\u001b[0m \u001b[0;34m=\u001b[0m \u001b[0mself\u001b[0m\u001b[0;34m.\u001b[0m\u001b[0m_compile_context\u001b[0m\u001b[0;34m(\u001b[0m\u001b[0;34m)\u001b[0m\u001b[0;34m\u001b[0m\u001b[0m\n\u001b[0m\u001b[1;32m   2758\u001b[0m         \u001b[0mcontext\u001b[0m\u001b[0;34m.\u001b[0m\u001b[0mstatement\u001b[0m\u001b[0;34m.\u001b[0m\u001b[0muse_labels\u001b[0m \u001b[0;34m=\u001b[0m \u001b[0mTrue\u001b[0m\u001b[0;34m\u001b[0m\u001b[0m\n\u001b[1;32m   2759\u001b[0m         \u001b[0;32mif\u001b[0m \u001b[0mself\u001b[0m\u001b[0;34m.\u001b[0m\u001b[0m_autoflush\u001b[0m \u001b[0;32mand\u001b[0m \u001b[0;32mnot\u001b[0m \u001b[0mself\u001b[0m\u001b[0;34m.\u001b[0m\u001b[0m_populate_existing\u001b[0m\u001b[0;34m:\u001b[0m\u001b[0;34m\u001b[0m\u001b[0m\n",
      "\u001b[0;32m/Users/bradenhancock/anaconda/lib/python2.7/site-packages/sqlalchemy/orm/query.pyc\u001b[0m in \u001b[0;36m_compile_context\u001b[0;34m(self, labels)\u001b[0m\n\u001b[1;32m   3249\u001b[0m             \u001b[0mcontext\u001b[0m\u001b[0;34m.\u001b[0m\u001b[0mstatement\u001b[0m \u001b[0;34m=\u001b[0m \u001b[0mself\u001b[0m\u001b[0;34m.\u001b[0m\u001b[0m_compound_eager_statement\u001b[0m\u001b[0;34m(\u001b[0m\u001b[0mcontext\u001b[0m\u001b[0;34m)\u001b[0m\u001b[0;34m\u001b[0m\u001b[0m\n\u001b[1;32m   3250\u001b[0m         \u001b[0;32melse\u001b[0m\u001b[0;34m:\u001b[0m\u001b[0;34m\u001b[0m\u001b[0m\n\u001b[0;32m-> 3251\u001b[0;31m             \u001b[0mcontext\u001b[0m\u001b[0;34m.\u001b[0m\u001b[0mstatement\u001b[0m \u001b[0;34m=\u001b[0m \u001b[0mself\u001b[0m\u001b[0;34m.\u001b[0m\u001b[0m_simple_statement\u001b[0m\u001b[0;34m(\u001b[0m\u001b[0mcontext\u001b[0m\u001b[0;34m)\u001b[0m\u001b[0;34m\u001b[0m\u001b[0m\n\u001b[0m\u001b[1;32m   3252\u001b[0m \u001b[0;34m\u001b[0m\u001b[0m\n\u001b[1;32m   3253\u001b[0m         \u001b[0;32mreturn\u001b[0m \u001b[0mcontext\u001b[0m\u001b[0;34m\u001b[0m\u001b[0m\n",
      "\u001b[0;32m/Users/bradenhancock/anaconda/lib/python2.7/site-packages/sqlalchemy/orm/query.pyc\u001b[0m in \u001b[0;36m_simple_statement\u001b[0;34m(self, context)\u001b[0m\n\u001b[1;32m   3342\u001b[0m             \u001b[0muse_labels\u001b[0m\u001b[0;34m=\u001b[0m\u001b[0mcontext\u001b[0m\u001b[0;34m.\u001b[0m\u001b[0mlabels\u001b[0m\u001b[0;34m,\u001b[0m\u001b[0;34m\u001b[0m\u001b[0m\n\u001b[1;32m   3343\u001b[0m             \u001b[0morder_by\u001b[0m\u001b[0;34m=\u001b[0m\u001b[0mcontext\u001b[0m\u001b[0;34m.\u001b[0m\u001b[0morder_by\u001b[0m\u001b[0;34m,\u001b[0m\u001b[0;34m\u001b[0m\u001b[0m\n\u001b[0;32m-> 3344\u001b[0;31m             \u001b[0;34m**\u001b[0m\u001b[0mself\u001b[0m\u001b[0;34m.\u001b[0m\u001b[0m_select_args\u001b[0m\u001b[0;34m\u001b[0m\u001b[0m\n\u001b[0m\u001b[1;32m   3345\u001b[0m         )\n\u001b[1;32m   3346\u001b[0m         \u001b[0mstatement\u001b[0m\u001b[0;34m.\u001b[0m\u001b[0m_for_update_arg\u001b[0m \u001b[0;34m=\u001b[0m \u001b[0mcontext\u001b[0m\u001b[0;34m.\u001b[0m\u001b[0m_for_update_arg\u001b[0m\u001b[0;34m\u001b[0m\u001b[0m\n",
      "\u001b[0;32m<string>\u001b[0m in \u001b[0;36mselect\u001b[0;34m(columns, whereclause, from_obj, distinct, having, correlate, prefixes, suffixes, **kwargs)\u001b[0m\n",
      "\u001b[0;32m/Users/bradenhancock/anaconda/lib/python2.7/site-packages/sqlalchemy/sql/selectable.pyc\u001b[0m in \u001b[0;36m__init__\u001b[0;34m(self, columns, whereclause, from_obj, distinct, having, correlate, prefixes, suffixes, **kwargs)\u001b[0m\n\u001b[1;32m   2437\u001b[0m             self._from_obj = util.OrderedSet(\n\u001b[1;32m   2438\u001b[0m                 \u001b[0m_interpret_as_from\u001b[0m\u001b[0;34m(\u001b[0m\u001b[0mf\u001b[0m\u001b[0;34m)\u001b[0m\u001b[0;34m\u001b[0m\u001b[0m\n\u001b[0;32m-> 2439\u001b[0;31m                 for f in util.to_list(from_obj))\n\u001b[0m\u001b[1;32m   2440\u001b[0m         \u001b[0;32melse\u001b[0m\u001b[0;34m:\u001b[0m\u001b[0;34m\u001b[0m\u001b[0m\n\u001b[1;32m   2441\u001b[0m             \u001b[0mself\u001b[0m\u001b[0;34m.\u001b[0m\u001b[0m_from_obj\u001b[0m \u001b[0;34m=\u001b[0m \u001b[0mutil\u001b[0m\u001b[0;34m.\u001b[0m\u001b[0mOrderedSet\u001b[0m\u001b[0;34m(\u001b[0m\u001b[0;34m)\u001b[0m\u001b[0;34m\u001b[0m\u001b[0m\n",
      "\u001b[0;32m/Users/bradenhancock/anaconda/lib/python2.7/site-packages/sqlalchemy/util/_collections.pyc\u001b[0m in \u001b[0;36m__init__\u001b[0;34m(self, d)\u001b[0m\n\u001b[1;32m    362\u001b[0m         \u001b[0mself\u001b[0m\u001b[0;34m.\u001b[0m\u001b[0m_list\u001b[0m \u001b[0;34m=\u001b[0m \u001b[0;34m[\u001b[0m\u001b[0;34m]\u001b[0m\u001b[0;34m\u001b[0m\u001b[0m\n\u001b[1;32m    363\u001b[0m         \u001b[0;32mif\u001b[0m \u001b[0md\u001b[0m \u001b[0;32mis\u001b[0m \u001b[0;32mnot\u001b[0m \u001b[0mNone\u001b[0m\u001b[0;34m:\u001b[0m\u001b[0;34m\u001b[0m\u001b[0m\n\u001b[0;32m--> 364\u001b[0;31m             \u001b[0mself\u001b[0m\u001b[0;34m.\u001b[0m\u001b[0m_list\u001b[0m \u001b[0;34m=\u001b[0m \u001b[0munique_list\u001b[0m\u001b[0;34m(\u001b[0m\u001b[0md\u001b[0m\u001b[0;34m)\u001b[0m\u001b[0;34m\u001b[0m\u001b[0m\n\u001b[0m\u001b[1;32m    365\u001b[0m             \u001b[0mset\u001b[0m\u001b[0;34m.\u001b[0m\u001b[0mupdate\u001b[0m\u001b[0;34m(\u001b[0m\u001b[0mself\u001b[0m\u001b[0;34m,\u001b[0m \u001b[0mself\u001b[0m\u001b[0;34m.\u001b[0m\u001b[0m_list\u001b[0m\u001b[0;34m)\u001b[0m\u001b[0;34m\u001b[0m\u001b[0m\n\u001b[1;32m    366\u001b[0m         \u001b[0;32melse\u001b[0m\u001b[0;34m:\u001b[0m\u001b[0;34m\u001b[0m\u001b[0m\n",
      "\u001b[0;32m/Users/bradenhancock/anaconda/lib/python2.7/site-packages/sqlalchemy/util/_collections.pyc\u001b[0m in \u001b[0;36munique_list\u001b[0;34m(seq, hashfunc)\u001b[0m\n\u001b[1;32m    750\u001b[0m     \u001b[0mseen_add\u001b[0m \u001b[0;34m=\u001b[0m \u001b[0mseen\u001b[0m\u001b[0;34m.\u001b[0m\u001b[0madd\u001b[0m\u001b[0;34m\u001b[0m\u001b[0m\n\u001b[1;32m    751\u001b[0m     \u001b[0;32mif\u001b[0m \u001b[0;32mnot\u001b[0m \u001b[0mhashfunc\u001b[0m\u001b[0;34m:\u001b[0m\u001b[0;34m\u001b[0m\u001b[0m\n\u001b[0;32m--> 752\u001b[0;31m         return [x for x in seq\n\u001b[0m\u001b[1;32m    753\u001b[0m                 \u001b[0;32mif\u001b[0m \u001b[0mx\u001b[0m \u001b[0;32mnot\u001b[0m \u001b[0;32min\u001b[0m \u001b[0mseen\u001b[0m\u001b[0;34m\u001b[0m\u001b[0m\n\u001b[1;32m    754\u001b[0m                 and not seen_add(x)]\n",
      "\u001b[0;32m/Users/bradenhancock/anaconda/lib/python2.7/site-packages/sqlalchemy/sql/selectable.pyc\u001b[0m in \u001b[0;36m<genexpr>\u001b[0;34m((f,))\u001b[0m\n\u001b[1;32m   2437\u001b[0m             self._from_obj = util.OrderedSet(\n\u001b[1;32m   2438\u001b[0m                 \u001b[0m_interpret_as_from\u001b[0m\u001b[0;34m(\u001b[0m\u001b[0mf\u001b[0m\u001b[0;34m)\u001b[0m\u001b[0;34m\u001b[0m\u001b[0m\n\u001b[0;32m-> 2439\u001b[0;31m                 for f in util.to_list(from_obj))\n\u001b[0m\u001b[1;32m   2440\u001b[0m         \u001b[0;32melse\u001b[0m\u001b[0;34m:\u001b[0m\u001b[0;34m\u001b[0m\u001b[0m\n\u001b[1;32m   2441\u001b[0m             \u001b[0mself\u001b[0m\u001b[0;34m.\u001b[0m\u001b[0m_from_obj\u001b[0m \u001b[0;34m=\u001b[0m \u001b[0mutil\u001b[0m\u001b[0;34m.\u001b[0m\u001b[0mOrderedSet\u001b[0m\u001b[0;34m(\u001b[0m\u001b[0;34m)\u001b[0m\u001b[0;34m\u001b[0m\u001b[0m\n",
      "\u001b[0;32m/Users/bradenhancock/anaconda/lib/python2.7/site-packages/sqlalchemy/sql/selectable.pyc\u001b[0m in \u001b[0;36m_interpret_as_from\u001b[0;34m(element)\u001b[0m\n\u001b[1;32m     34\u001b[0m \u001b[0;34m\u001b[0m\u001b[0m\n\u001b[1;32m     35\u001b[0m \u001b[0;32mdef\u001b[0m \u001b[0m_interpret_as_from\u001b[0m\u001b[0;34m(\u001b[0m\u001b[0melement\u001b[0m\u001b[0;34m)\u001b[0m\u001b[0;34m:\u001b[0m\u001b[0;34m\u001b[0m\u001b[0m\n\u001b[0;32m---> 36\u001b[0;31m     \u001b[0minsp\u001b[0m \u001b[0;34m=\u001b[0m \u001b[0minspection\u001b[0m\u001b[0;34m.\u001b[0m\u001b[0minspect\u001b[0m\u001b[0;34m(\u001b[0m\u001b[0melement\u001b[0m\u001b[0;34m,\u001b[0m \u001b[0mraiseerr\u001b[0m\u001b[0;34m=\u001b[0m\u001b[0mFalse\u001b[0m\u001b[0;34m)\u001b[0m\u001b[0;34m\u001b[0m\u001b[0m\n\u001b[0m\u001b[1;32m     37\u001b[0m     \u001b[0;32mif\u001b[0m \u001b[0minsp\u001b[0m \u001b[0;32mis\u001b[0m \u001b[0mNone\u001b[0m\u001b[0;34m:\u001b[0m\u001b[0;34m\u001b[0m\u001b[0m\n\u001b[1;32m     38\u001b[0m         \u001b[0;32mif\u001b[0m \u001b[0misinstance\u001b[0m\u001b[0;34m(\u001b[0m\u001b[0melement\u001b[0m\u001b[0;34m,\u001b[0m \u001b[0mutil\u001b[0m\u001b[0;34m.\u001b[0m\u001b[0mstring_types\u001b[0m\u001b[0;34m)\u001b[0m\u001b[0;34m:\u001b[0m\u001b[0;34m\u001b[0m\u001b[0m\n",
      "\u001b[0;31mKeyboardInterrupt\u001b[0m: "
     ]
    }
   ],
   "source": [
    "for c in candidates:\n",
    "    if c.part.parent.document.name == \"SIEMS01215-1\":\n",
    "        import pdb; pdb.set_trace()"
   ]
  },
  {
   "cell_type": "code",
   "execution_count": 16,
   "metadata": {
    "collapsed": false
   },
   "outputs": [],
   "source": [
    "# for c in candidates:\n",
    "#     if c.part.get_span() == 'BC858A':\n",
    "#         import pdb; pdb.set_trace()"
   ]
  },
  {
   "cell_type": "code",
   "execution_count": 17,
   "metadata": {
    "collapsed": true
   },
   "outputs": [],
   "source": [
    "# def get_doc(corpus, doc_name):\n",
    "#     for doc in corpus.documents:\n",
    "#         if doc.name.upper() == doc_name.upper():\n",
    "#             return doc"
   ]
  },
  {
   "cell_type": "code",
   "execution_count": 46,
   "metadata": {
    "collapsed": false
   },
   "outputs": [
    {
     "name": "stdout",
     "output_type": "stream",
     "text": [
      "Part(ImplicitSpan(\"BC857C\", parent=129929, words=[0,0], position=[6]))\n",
      "Part(Span(\"BC859\", parent=129649, chars=[0,4], words=[0,0]))\n",
      "Part(Span(\"BC860\", parent=9906, chars=[12,16], words=[2,2]))\n",
      "Part(ImplicitSpan(\"BC857\", parent=129457, words=[0,0], position=[0]))\n",
      "Part(ImplicitSpan(\"BC860A\", parent=129932, words=[0,0], position=[4]))\n",
      "Part(ImplicitSpan(\"BC859A\", parent=129649, words=[0,0], position=[4]))\n",
      "Part(ImplicitSpan(\"BC857\", parent=9907, words=[0,0], position=[0]))\n",
      "Part(ImplicitSpan(\"BC858B\", parent=129930, words=[0,0], position=[5]))\n",
      "Part(Span(\"BC858\", parent=88596, chars=[6,10], words=[1,1]))\n",
      "Part(ImplicitSpan(\"BC856B\", parent=88596, words=[0,0], position=[5]))\n",
      "Part(Span(\"BC856\", parent=9906, chars=[0,4], words=[0,0]))\n",
      "Part(Span(\"BC860A-Z4E\", parent=129447, chars=[0,9], words=[0,0]))\n",
      "Part(ImplicitSpan(\"BC857A\", parent=129457, words=[0,0], position=[4]))\n",
      "Part(Span(\"BC857\", parent=9907, chars=[0,4], words=[0,0]))\n",
      "Part(Span(\"BC856\", parent=129928, chars=[0,4], words=[0,0]))\n",
      "Part(Span(\"BC858\", parent=9906, chars=[6,10], words=[1,1]))\n",
      "Part(Span(\"BC860\", parent=129536, chars=[0,4], words=[0,0]))\n",
      "Part(ImplicitSpan(\"BC857\", parent=129929, words=[0,0], position=[0]))\n",
      "Part(ImplicitSpan(\"BC857C\", parent=129457, words=[0,0], position=[6]))\n",
      "Part(ImplicitSpan(\"BC856\", parent=9906, words=[0,0], position=[0]))\n",
      "Part(Span(\"BC850\", parent=129449, chars=[0,4], words=[0,0]))\n",
      "Part(ImplicitSpan(\"BC857B\", parent=129929, words=[0,0], position=[5]))\n",
      "Part(ImplicitSpan(\"BC857A\", parent=9907, words=[0,0], position=[4]))\n",
      "Part(ImplicitSpan(\"BC856A\", parent=9906, words=[0,0], position=[4]))\n",
      "Part(ImplicitSpan(\"BC856B\", parent=9906, words=[0,0], position=[5]))\n",
      "Part(ImplicitSpan(\"BC856C\", parent=9906, words=[0,0], position=[6]))\n",
      "Part(ImplicitSpan(\"BC860\", parent=129448, words=[0,0], position=[0]))\n",
      "Part(ImplicitSpan(\"BC860B\", parent=129448, words=[0,0], position=[5]))\n",
      "Part(ImplicitSpan(\"BC860A\", parent=129448, words=[0,0], position=[4]))\n",
      "Part(ImplicitSpan(\"BC857B\", parent=9907, words=[0,0], position=[5]))\n",
      "Part(ImplicitSpan(\"BC857C\", parent=9907, words=[0,0], position=[6]))\n",
      "Part(Span(\"BC858A-3J\", parent=129450, chars=[0,8], words=[0,0]))\n",
      "Part(ImplicitSpan(\"BC850\", parent=129449, words=[0,0], position=[0]))\n",
      "Part(ImplicitSpan(\"BC850B\", parent=129449, words=[0,0], position=[5]))\n",
      "Part(ImplicitSpan(\"BC850C\", parent=129449, words=[0,0], position=[6]))\n",
      "Part(Span(\"BC860B-4F\", parent=129451, chars=[0,8], words=[0,0]))\n",
      "Part(ImplicitSpan(\"BC856\", parent=88480, words=[0,0], position=[0]))\n",
      "Part(Span(\"BC856A-3A\", parent=129430, chars=[0,8], words=[0,0]))\n",
      "Part(ImplicitSpan(\"BC856A\", parent=88480, words=[0,0], position=[4]))\n",
      "Part(ImplicitSpan(\"BC856B\", parent=88480, words=[0,0], position=[5]))\n",
      "Part(ImplicitSpan(\"BC856C\", parent=88480, words=[0,0], position=[6]))\n",
      "Part(Span(\"BC858C-3L\", parent=129431, chars=[0,8], words=[0,0]))\n",
      "Part(ImplicitSpan(\"BC857\", parent=88481, words=[0,0], position=[0]))\n",
      "Part(ImplicitSpan(\"BC859\", parent=129931, words=[0,0], position=[0]))\n",
      "Part(Span(\"BC857\", parent=88481, chars=[0,4], words=[0,0]))\n",
      "Part(Span(\"BC856\", parent=129432, chars=[0,4], words=[0,0]))\n",
      "Part(ImplicitSpan(\"BC857B\", parent=88481, words=[0,0], position=[5]))\n",
      "Part(ImplicitSpan(\"BC857C\", parent=88481, words=[0,0], position=[6]))\n",
      "Part(Span(\"BC860C-4GZ\", parent=129453, chars=[0,9], words=[0,0]))\n",
      "Part(ImplicitSpan(\"BC858A\", parent=129458, words=[0,0], position=[4]))\n",
      "Part(Span(\"BC846\", parent=129433, chars=[0,4], words=[0,0]))\n",
      "Part(Span(\"BC859\", parent=129459, chars=[0,4], words=[0,0]))\n",
      "Part(ImplicitSpan(\"BC857B\", parent=88597, words=[0,0], position=[5]))\n",
      "Part(ImplicitSpan(\"BC857A\", parent=129647, words=[0,0], position=[4]))\n",
      "Part(ImplicitSpan(\"BC856\", parent=129432, words=[0,0], position=[0]))\n",
      "Part(ImplicitSpan(\"BC860A\", parent=129650, words=[0,0], position=[4]))\n",
      "Part(ImplicitSpan(\"BC859\", parent=129649, words=[0,0], position=[0]))\n",
      "Part(ImplicitSpan(\"BC856A\", parent=129432, words=[0,0], position=[4]))\n",
      "Part(ImplicitSpan(\"BC856B\", parent=129432, words=[0,0], position=[5]))\n",
      "Part(ImplicitSpan(\"BC856C\", parent=129432, words=[0,0], position=[6]))\n",
      "Part(Span(\"BC856B-Z3B\", parent=129434, chars=[0,9], words=[0,0]))\n",
      "Part(ImplicitSpan(\"BC846\", parent=129433, words=[0,0], position=[0]))\n",
      "Part(ImplicitSpan(\"BC859B\", parent=129931, words=[0,0], position=[5]))\n",
      "Part(ImplicitSpan(\"BC846-16\", parent=129433, words=[0,0], position=[1]))\n",
      "Part(ImplicitSpan(\"BC846A\", parent=129433, words=[0,0], position=[4]))\n",
      "Part(ImplicitSpan(\"BC846B\", parent=129433, words=[0,0], position=[5]))\n",
      "Part(ImplicitSpan(\"BC846C\", parent=129433, words=[0,0], position=[6]))\n",
      "Part(Span(\"BC859A-Z4A\", parent=129435, chars=[0,9], words=[0,0]))\n",
      "Part(ImplicitSpan(\"BC856\", parent=129646, words=[0,0], position=[0]))\n",
      "Part(ImplicitSpan(\"BC856B\", parent=129646, words=[0,0], position=[5]))\n",
      "Part(ImplicitSpan(\"BC856C\", parent=129646, words=[0,0], position=[6]))\n",
      "Part(ImplicitSpan(\"BC857\", parent=129647, words=[0,0], position=[0]))\n",
      "Part(Span(\"BC847\", parent=129437, chars=[0,4], words=[0,0]))\n",
      "Part(ImplicitSpan(\"BC857B\", parent=129647, words=[0,0], position=[5]))\n",
      "Part(ImplicitSpan(\"BC857C\", parent=129647, words=[0,0], position=[6]))\n",
      "Part(ImplicitSpan(\"BC859A\", parent=129931, words=[0,0], position=[4]))\n",
      "Part(ImplicitSpan(\"BC858\", parent=129930, words=[0,0], position=[0]))\n",
      "Part(ImplicitSpan(\"BC857\", parent=129436, words=[0,0], position=[0]))\n",
      "Part(ImplicitSpan(\"BC860\", parent=129932, words=[0,0], position=[0]))\n",
      "Part(ImplicitSpan(\"BC857A\", parent=129436, words=[0,0], position=[4]))\n",
      "Part(ImplicitSpan(\"BC857B\", parent=129436, words=[0,0], position=[5]))\n",
      "Part(ImplicitSpan(\"BC857C\", parent=129436, words=[0,0], position=[6]))\n",
      "Part(ImplicitSpan(\"BC858C\", parent=129930, words=[0,0], position=[6]))\n",
      "Part(Span(\"BC857A-Z3E\", parent=129438, chars=[0,9], words=[0,0]))\n",
      "Part(ImplicitSpan(\"BC847\", parent=129437, words=[0,0], position=[0]))\n",
      "Part(ImplicitSpan(\"BC856C\", parent=88596, words=[0,0], position=[6]))\n",
      "Part(ImplicitSpan(\"BC859A\", parent=129459, words=[0,0], position=[4]))\n",
      "Part(ImplicitSpan(\"BC847-16\", parent=129437, words=[0,0], position=[1]))\n",
      "Part(ImplicitSpan(\"BC847A\", parent=129437, words=[0,0], position=[4]))\n",
      "Part(ImplicitSpan(\"BC847B\", parent=129437, words=[0,0], position=[5]))\n",
      "Part(ImplicitSpan(\"BC847C\", parent=129437, words=[0,0], position=[6]))\n",
      "Part(Span(\"BC859B-4B\", parent=129439, chars=[0,8], words=[0,0]))\n",
      "Part(ImplicitSpan(\"BC858A\", parent=129648, words=[0,0], position=[4]))\n",
      "Part(ImplicitSpan(\"BC860\", parent=129650, words=[0,0], position=[0]))\n",
      "Part(Span(\"BC858\", parent=129440, chars=[0,4], words=[0,0]))\n",
      "Part(ImplicitSpan(\"BC860B\", parent=129650, words=[0,0], position=[5]))\n",
      "Part(Span(\"BC860\", parent=88480, chars=[12,16], words=[2,2]))\n",
      "Part(ImplicitSpan(\"BC858C\", parent=129648, words=[0,0], position=[6]))\n",
      "Part(ImplicitSpan(\"BC860B\", parent=129932, words=[0,0], position=[5]))\n",
      "Part(Span(\"BC848\", parent=129441, chars=[0,4], words=[0,0]))\n"
     ]
    }
   ],
   "source": [
    "for c in candidates[100:200]:\n",
    "    print c"
   ]
  },
  {
   "cell_type": "code",
   "execution_count": 19,
   "metadata": {
    "collapsed": false
   },
   "outputs": [],
   "source": [
    "# doc = get_doc(corpus, 'Infineon-BC857SERIES_BC858SERIES_BC859SERIES_BC860SERIES-DS-v01_01-en')\n",
    "# for phrase in doc.phrases:\n",
    "#     if 'BC857CW' in phrase.words:\n",
    "#         import pdb; pdb.set_trace()"
   ]
  },
  {
   "cell_type": "code",
   "execution_count": null,
   "metadata": {
    "collapsed": true
   },
   "outputs": [],
   "source": []
  }
 ],
 "metadata": {
  "anaconda-cloud": {},
  "kernelspec": {
   "display_name": "Python [default]",
   "language": "python",
   "name": "python2"
  },
  "language_info": {
   "codemirror_mode": {
    "name": "ipython",
    "version": 2
   },
   "file_extension": ".py",
   "mimetype": "text/x-python",
   "name": "python",
   "nbconvert_exporter": "python",
   "pygments_lexer": "ipython2",
   "version": "2.7.12"
  }
 },
 "nbformat": 4,
 "nbformat_minor": 0
}
