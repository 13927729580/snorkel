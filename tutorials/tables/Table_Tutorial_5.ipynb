{
 "cells": [
  {
   "cell_type": "markdown",
   "metadata": {},
   "source": [
    "## Part V: Training a Model with Data Programming"
   ]
  },
  {
   "cell_type": "code",
   "execution_count": 1,
   "metadata": {
    "collapsed": false
   },
   "outputs": [],
   "source": [
    "# If necessary:\n",
    "import os\n",
    "os.remove('snorkel.db');\n",
    "os.system('cp snorkel.db\\ features snorkel.db');"
   ]
  },
  {
   "cell_type": "code",
   "execution_count": 2,
   "metadata": {
    "collapsed": false
   },
   "outputs": [],
   "source": [
    "%load_ext autoreload\n",
    "%autoreload 2\n",
    "\n",
    "from snorkel import SnorkelSession\n",
    "session = SnorkelSession()"
   ]
  },
  {
   "cell_type": "code",
   "execution_count": 3,
   "metadata": {
    "collapsed": false
   },
   "outputs": [],
   "source": [
    "from snorkel.models import candidate_subclass\n",
    "\n",
    "Part_Temp = candidate_subclass('Part_Temp', ['part','temp'])"
   ]
  },
  {
   "cell_type": "markdown",
   "metadata": {},
   "source": [
    "### Loading the `CandidateSet`, feature matrix, and label matrix"
   ]
  },
  {
   "cell_type": "code",
   "execution_count": 4,
   "metadata": {
    "collapsed": false
   },
   "outputs": [],
   "source": [
    "from snorkel.models import CandidateSet\n",
    "train = session.query(CandidateSet).filter(\n",
    "    CandidateSet.name == 'Hardware Training Candidates').one()"
   ]
  },
  {
   "cell_type": "code",
   "execution_count": 5,
   "metadata": {
    "collapsed": false
   },
   "outputs": [
    {
     "name": "stdout",
     "output_type": "stream",
     "text": [
      "CPU times: user 1min 5s, sys: 1.32 s, total: 1min 6s\n",
      "Wall time: 1min 6s\n"
     ]
    }
   ],
   "source": [
    "from snorkel.annotations import FeatureManager\n",
    "\n",
    "feature_manager = FeatureManager()\n",
    "\n",
    "%time F_train = feature_manager.load(session, train, 'Train Features')"
   ]
  },
  {
   "cell_type": "code",
   "execution_count": 6,
   "metadata": {
    "collapsed": false
   },
   "outputs": [
    {
     "name": "stdout",
     "output_type": "stream",
     "text": [
      "CPU times: user 1.24 s, sys: 24 ms, total: 1.26 s\n",
      "Wall time: 1.26 s\n"
     ]
    }
   ],
   "source": [
    "from snorkel.annotations import LabelManager\n",
    "\n",
    "label_manager = LabelManager()\n",
    "\n",
    "%time L_train = label_manager.load(session, train, 'LF Labels')"
   ]
  },
  {
   "cell_type": "markdown",
   "metadata": {},
   "source": [
    "## Train Generative Model"
   ]
  },
  {
   "cell_type": "code",
   "execution_count": 7,
   "metadata": {
    "collapsed": false
   },
   "outputs": [
    {
     "name": "stdout",
     "output_type": "stream",
     "text": [
      "================================================================================\n",
      "Training marginals (!= 0.5):\t75908\n",
      "Features:\t\t\t18\n",
      "================================================================================\n",
      "Begin training for rate=0.01, mu=1e-06\n",
      "\tLearning epoch = 0\tGradient mag. = 0.447559\n",
      "\tLearning epoch = 250\tGradient mag. = 0.643923\n",
      "\tLearning epoch = 500\tGradient mag. = 0.856812\n",
      "\tLearning epoch = 750\tGradient mag. = 1.026238\n",
      "\tLearning epoch = 1000\tGradient mag. = 0.885512\n",
      "\tLearning epoch = 1250\tGradient mag. = 0.730135\n",
      "\tLearning epoch = 1500\tGradient mag. = 0.627682\n",
      "\tLearning epoch = 1750\tGradient mag. = 0.559833\n",
      "\tLearning epoch = 2000\tGradient mag. = 0.514375\n",
      "\tLearning epoch = 2250\tGradient mag. = 0.449767\n",
      "\tLearning epoch = 2500\tGradient mag. = 0.373345\n",
      "\tLearning epoch = 2750\tGradient mag. = 0.327320\n",
      "\tLearning epoch = 3000\tGradient mag. = 0.297182\n",
      "\tLearning epoch = 3250\tGradient mag. = 0.276133\n",
      "\tLearning epoch = 3500\tGradient mag. = 0.260928\n",
      "\tLearning epoch = 3750\tGradient mag. = 0.249632\n",
      "\tLearning epoch = 4000\tGradient mag. = 0.240899\n",
      "\tLearning epoch = 4250\tGradient mag. = 0.233727\n",
      "\tLearning epoch = 4500\tGradient mag. = 0.227319\n",
      "\tLearning epoch = 4750\tGradient mag. = 0.220975\n",
      "\tLearning epoch = 5000\tGradient mag. = 0.214045\n",
      "\tLearning epoch = 5250\tGradient mag. = 0.205951\n",
      "\tLearning epoch = 5500\tGradient mag. = 0.196310\n",
      "\tLearning epoch = 5750\tGradient mag. = 0.185117\n",
      "\tLearning epoch = 6000\tGradient mag. = 0.172859\n",
      "\tLearning epoch = 6250\tGradient mag. = 0.160427\n",
      "\tLearning epoch = 6500\tGradient mag. = 0.148829\n",
      "\tLearning epoch = 6750\tGradient mag. = 0.138513\n",
      "\tLearning epoch = 7000\tGradient mag. = 0.131137\n",
      "\tLearning epoch = 7250\tGradient mag. = 0.126418\n",
      "\tLearning epoch = 7500\tGradient mag. = 0.123762\n",
      "\tLearning epoch = 7750\tGradient mag. = 0.122574\n",
      "\tLearning epoch = 8000\tGradient mag. = 0.122374\n",
      "\tLearning epoch = 8250\tGradient mag. = 0.122826\n",
      "\tLearning epoch = 8500\tGradient mag. = 0.122630\n",
      "\tLearning epoch = 8750\tGradient mag. = 0.116779\n",
      "\tLearning epoch = 9000\tGradient mag. = 0.111494\n",
      "\tLearning epoch = 9250\tGradient mag. = 0.106728\n",
      "\tLearning epoch = 9500\tGradient mag. = 0.102452\n",
      "\tLearning epoch = 9750\tGradient mag. = 0.098648\n",
      "\tLearning epoch = 10000\tGradient mag. = 0.092368\n",
      "\tLearning epoch = 10250\tGradient mag. = 0.085087\n",
      "\tLearning epoch = 10500\tGradient mag. = 0.079939\n",
      "\tLearning epoch = 10750\tGradient mag. = 0.075756\n",
      "\tLearning epoch = 11000\tGradient mag. = 0.072107\n",
      "\tLearning epoch = 11250\tGradient mag. = 0.068829\n",
      "\tLearning epoch = 11500\tGradient mag. = 0.065853\n",
      "\tLearning epoch = 11750\tGradient mag. = 0.063144\n",
      "\tLearning epoch = 12000\tGradient mag. = 0.060676\n",
      "\tLearning epoch = 12250\tGradient mag. = 0.058430\n",
      "\tLearning epoch = 12500\tGradient mag. = 0.056387\n",
      "\tLearning epoch = 12750\tGradient mag. = 0.054530\n",
      "\tLearning epoch = 13000\tGradient mag. = 0.052843\n",
      "\tLearning epoch = 13250\tGradient mag. = 0.051312\n",
      "\tLearning epoch = 13500\tGradient mag. = 0.049923\n",
      "\tLearning epoch = 13750\tGradient mag. = 0.048665\n",
      "\tLearning epoch = 14000\tGradient mag. = 0.047524\n",
      "\tLearning epoch = 14250\tGradient mag. = 0.046491\n",
      "\tLearning epoch = 14500\tGradient mag. = 0.045556\n",
      "\tLearning epoch = 14750\tGradient mag. = 0.044709\n",
      "Final gradient magnitude for rate=0.01, mu=1e-06: 0.044\n"
     ]
    }
   ],
   "source": [
    "from snorkel.learning import NaiveBayes\n",
    "\n",
    "gen_model = NaiveBayes()\n",
    "# gen_model.train(L_train, n_iter=3000, rate=1e-5)\n",
    "gen_model.train(L_train, n_iter=15000, rate=1e-2)"
   ]
  },
  {
   "cell_type": "code",
   "execution_count": 8,
   "metadata": {
    "collapsed": false
   },
   "outputs": [],
   "source": [
    "gen_model.save(session, 'Generative Params')"
   ]
  },
  {
   "cell_type": "code",
   "execution_count": 9,
   "metadata": {
    "collapsed": true
   },
   "outputs": [],
   "source": [
    "train_marginals = gen_model.marginals(L_train)"
   ]
  },
  {
   "cell_type": "markdown",
   "metadata": {},
   "source": [
    "## Train Discriminative Model"
   ]
  },
  {
   "cell_type": "code",
   "execution_count": 10,
   "metadata": {
    "collapsed": false
   },
   "outputs": [
    {
     "name": "stdout",
     "output_type": "stream",
     "text": [
      "================================================================================\n",
      "Training marginals (!= 0.5):\t58499\n",
      "Features:\t\t\t19168\n",
      "================================================================================\n",
      "Using gradient descent...\n",
      "\tLearning epoch = 0\tStep size = 0.001\n",
      "\tLoss = 40548.416916\tGradient magnitude = 75386.358069\n",
      "\tLearning epoch = 100\tStep size = 0.000904792147114\n",
      "\tLoss = 5051.332712\tGradient magnitude = 1373.242792\n",
      "\tLearning epoch = 200\tStep size = 0.000818648829479\n",
      "\tLoss = 4308.227357\tGradient magnitude = 1373.217391\n",
      "\tLearning epoch = 300\tStep size = 0.000740707032156\n",
      "\tLoss = 3660.680681\tGradient magnitude = 1373.116297\n",
      "\tLearning epoch = 400\tStep size = 0.000670185906007\n",
      "\tLoss = 1450.698287\tGradient magnitude = 1336.335015\n",
      "\tLearning epoch = 500\tStep size = 0.000606378944861\n",
      "\tLoss = 1490.234457\tGradient magnitude = 3341.868626\n",
      "\tLearning epoch = 600\tStep size = 0.000548646907485\n",
      "\tLoss = 1740.641452\tGradient magnitude = 1369.408394\n",
      "\tLearning epoch = 700\tStep size = 0.000496411413431\n",
      "\tLoss = 1114.921893\tGradient magnitude = 1330.832552\n",
      "\tLearning epoch = 800\tStep size = 0.00044914914861\n",
      "\tLoss = 639.857801\tGradient magnitude = 153.002223\n",
      "\tLearning epoch = 900\tStep size = 0.000406386622545\n",
      "\tLoss = 684.395336\tGradient magnitude = 867.482886\n",
      "\tLearning epoch = 1000\tStep size = 0.000367695424771\n",
      "\tLoss = 855.411848\tGradient magnitude = 2446.756117\n",
      "\tLearning epoch = 1100\tStep size = 0.000332687932862\n",
      "\tLoss = 609.726777\tGradient magnitude = 740.396892\n",
      "\tLearning epoch = 1200\tStep size = 0.000301013429093\n",
      "\tLoss = 656.380812\tGradient magnitude = 1447.244265\n",
      "\tLearning epoch = 1300\tStep size = 0.000272354586819\n",
      "\tLoss = 610.132865\tGradient magnitude = 1070.322801\n",
      "\tLearning epoch = 1400\tStep size = 0.000246424291385\n",
      "\tLoss = 587.286483\tGradient magnitude = 866.084082\n",
      "\tLearning epoch = 1500\tStep size = 0.000222962763703\n",
      "\tLoss = 563.092291\tGradient magnitude = 532.656350\n",
      "\tLearning epoch = 1600\tStep size = 0.000201734957697\n",
      "\tLoss = 546.223549\tGradient magnitude = 15.646670\n",
      "\tLearning epoch = 1700\tStep size = 0.000182528205523\n",
      "\tLoss = 542.027109\tGradient magnitude = 14.686602\n",
      "\tLearning epoch = 1800\tStep size = 0.000165150086984\n",
      "\tLoss = 538.319119\tGradient magnitude = 14.546204\n",
      "\tLearning epoch = 1900\tStep size = 0.000149426501798\n",
      "\tLoss = 535.022360\tGradient magnitude = 14.424938\n",
      "\tLearning epoch = 2000\tStep size = 0.000135199925397\n",
      "\tLoss = 532.093073\tGradient magnitude = 14.275302\n",
      "\tLearning epoch = 2100\tStep size = 0.00012232783079\n",
      "\tLoss = 529.511175\tGradient magnitude = 14.039223\n",
      "\tLearning epoch = 2200\tStep size = 0.000110681260672\n",
      "\tLoss = 527.272588\tGradient magnitude = 13.670436\n",
      "\tLearning epoch = 2300\tStep size = 0.000100143535489\n",
      "\tLoss = 525.370305\tGradient magnitude = 13.190660\n",
      "\tLearning epoch = 2400\tStep size = 9.06090844946e-05\n",
      "\tLoss = 523.773960\tGradient magnitude = 12.694617\n",
      "\tLearning epoch = 2500\tStep size = 8.19823881078e-05\n",
      "\tLoss = 522.431884\tGradient magnitude = 12.268592\n",
      "\tLearning epoch = 2600\tStep size = 7.41770209616e-05\n",
      "\tLoss = 521.290183\tGradient magnitude = 11.939829\n",
      "\tLearning epoch = 2700\tStep size = 6.71147860624e-05\n",
      "\tLoss = 520.305359\tGradient magnitude = 11.696252\n",
      "\tLearning epoch = 2800\tStep size = 6.07249313844e-05\n",
      "\tLoss = 519.445831\tGradient magnitude = 11.515987\n",
      "\tLearning epoch = 2900\tStep size = 5.49434410507e-05\n",
      "\tLoss = 518.689068\tGradient magnitude = 11.380235\n",
      "\tLearning epoch = 3000\tStep size = 4.9712393998e-05\n",
      "\tLoss = 518.018597\tGradient magnitude = 11.275556\n",
      "\tLearning epoch = 3100\tStep size = 4.49793837036e-05\n",
      "\tLoss = 517.421914\tGradient magnitude = 11.192886\n",
      "\tLearning epoch = 3200\tStep size = 4.06969931571e-05\n",
      "\tLoss = 516.889175\tGradient magnitude = 11.126173\n",
      "\tLearning epoch = 3300\tStep size = 3.68223198197e-05\n",
      "\tLoss = 516.412380\tGradient magnitude = 11.071331\n",
      "\tLearning epoch = 3400\tStep size = 3.33165458113e-05\n",
      "\tLoss = 515.984876\tGradient magnitude = 11.025546\n",
      "\tLearning epoch = 3500\tStep size = 3.01445490191e-05\n",
      "\tLoss = 515.601022\tGradient magnitude = 10.986835\n",
      "\tLearning epoch = 3600\tStep size = 2.72745512307e-05\n",
      "\tLoss = 515.255973\tGradient magnitude = 10.953761\n",
      "\tLearning epoch = 3700\tStep size = 2.46777997696e-05\n",
      "\tLoss = 514.945523\tGradient magnitude = 10.925262\n",
      "\tLearning epoch = 3800\tStep size = 2.23282794396e-05\n",
      "\tLoss = 514.665996\tGradient magnitude = 10.900533\n",
      "\tLearning epoch = 3900\tStep size = 2.02024518955e-05\n",
      "\tLoss = 514.414153\tGradient magnitude = 10.878950\n",
      "\tLearning epoch = 4000\tStep size = 1.82790198275e-05\n",
      "\tLoss = 514.187134\tGradient magnitude = 10.860022\n",
      "\tLearning epoch = 4100\tStep size = 1.65387135968e-05\n",
      "\tLoss = 513.982401\tGradient magnitude = 10.843356\n",
      "\tLearning epoch = 4200\tStep size = 1.49640981858e-05\n",
      "\tLoss = 513.797696\tGradient magnitude = 10.828632\n",
      "\tLearning epoch = 4300\tStep size = 1.35393985271e-05\n",
      "\tLoss = 513.631004\tGradient magnitude = 10.815585\n",
      "\tLearning epoch = 4400\tStep size = 1.2250341464e-05\n",
      "\tLoss = 513.480525\tGradient magnitude = 10.803997\n"
     ]
    }
   ],
   "source": [
    "from snorkel.learning import LogReg\n",
    "\n",
    "disc_model = LogReg()\n",
    "disc_model.train(F_train, train_marginals, n_iter=4500, rate=1e-3)"
   ]
  },
  {
   "cell_type": "code",
   "execution_count": 11,
   "metadata": {
    "collapsed": false
   },
   "outputs": [
    {
     "data": {
      "text/plain": [
       "(19168,)"
      ]
     },
     "execution_count": 11,
     "metadata": {},
     "output_type": "execute_result"
    }
   ],
   "source": [
    "disc_model.w.shape"
   ]
  },
  {
   "cell_type": "code",
   "execution_count": 12,
   "metadata": {
    "collapsed": false
   },
   "outputs": [
    {
     "name": "stdout",
     "output_type": "stream",
     "text": [
      "CPU times: user 2.48 s, sys: 48 ms, total: 2.53 s\n",
      "Wall time: 2.64 s\n"
     ]
    }
   ],
   "source": [
    "%time disc_model.save(session, \"Discriminative Params\")"
   ]
  },
  {
   "cell_type": "markdown",
   "metadata": {},
   "source": [
    "## Assess Performance on Development Set"
   ]
  },
  {
   "cell_type": "code",
   "execution_count": null,
   "metadata": {
    "collapsed": false
   },
   "outputs": [],
   "source": [
    "from snorkel.models import CandidateSet\n",
    "dev = session.query(CandidateSet).filter(\n",
    "    CandidateSet.name == 'Hardware Development Candidates').one()"
   ]
  },
  {
   "cell_type": "markdown",
   "metadata": {},
   "source": [
    "### Loading the Development Feature Matrix"
   ]
  },
  {
   "cell_type": "code",
   "execution_count": null,
   "metadata": {
    "collapsed": false
   },
   "outputs": [],
   "source": [
    "from snorkel.annotations import FeatureManager\n",
    "\n",
    "feature_manager = FeatureManager()\n",
    "%time F_dev = feature_manager.load(session, dev, 'Train Features')"
   ]
  },
  {
   "cell_type": "code",
   "execution_count": null,
   "metadata": {
    "collapsed": false
   },
   "outputs": [],
   "source": [
    "train_gold = session.query(CandidateSet).filter(\n",
    "    CandidateSet.name == 'Hardware Training Candidates -- Silver').one()"
   ]
  },
  {
   "cell_type": "code",
   "execution_count": null,
   "metadata": {
    "collapsed": false
   },
   "outputs": [],
   "source": [
    "# from snorkel.loaders import create_or_fetch\n",
    "# from snorkel.models import Label, AnnotationKeySet\n",
    "# annotation_key_name = \"Hardware Development Labels - Gold\"\n",
    "# annotation_key = create_or_fetch(session, AnnotationKey, annotation_key_name)\n",
    "# session.query(Label).filter(Label.key == annotation_key).count()"
   ]
  },
  {
   "cell_type": "code",
   "execution_count": null,
   "metadata": {
    "collapsed": false,
    "scrolled": true
   },
   "outputs": [],
   "source": [
    "from snorkel.models import CandidateSet\n",
    "from snorkel.annotations import LabelManager\n",
    "label_manager = LabelManager()\n",
    "# from snorkel.utils import get_ORM_instance\n",
    "# dev_labels = get_ORM_instance(AnnotationKeySet, session, 'Hardware Development Labels - Gold')\n",
    "L_dev = label_manager.load(session, dev, 'Hardware Development Labels -- Silver')"
   ]
  },
  {
   "cell_type": "code",
   "execution_count": null,
   "metadata": {
    "collapsed": false
   },
   "outputs": [],
   "source": [
    "gold_dev_set = session.query(CandidateSet).filter(\n",
    "    CandidateSet.name == 'Hardware Development Candidates -- Silver').one()"
   ]
  },
  {
   "cell_type": "code",
   "execution_count": null,
   "metadata": {
    "collapsed": false
   },
   "outputs": [],
   "source": [
    "F_dev.shape"
   ]
  },
  {
   "cell_type": "code",
   "execution_count": null,
   "metadata": {
    "collapsed": false,
    "scrolled": true
   },
   "outputs": [],
   "source": [
    "tp, fp, tn, fn = disc_model.score(F_dev, L_dev, gold_dev_set)"
   ]
  },
  {
   "cell_type": "code",
   "execution_count": null,
   "metadata": {
    "collapsed": false
   },
   "outputs": [],
   "source": [
    "from hardware_utils import part_error_analysis, table_info\n",
    "#     print c[0]\n",
    "#     print c[0].parent\n",
    "#     print (c[0].parent.row_num, c[0].parent.col_num)\n",
    "#     print c[1]\n",
    "#     print c[1].parent\n",
    "#     print (c[1].parent.row_num, c[1].parent.col_num)"
   ]
  },
  {
   "cell_type": "code",
   "execution_count": null,
   "metadata": {
    "collapsed": false
   },
   "outputs": [],
   "source": [
    "# for c in list(fp)[:5]:\n",
    "#     print c\n",
    "# c = list(fp)[10]\n",
    "# error_analysis(c)\n",
    "# c = list(fp)[10]\n",
    "# part_error_analysis(c)\n",
    "# print c.temp.parent.row_num\n",
    "\n",
    "# for c in list(fp)[:5]:\n",
    "#     print c\n",
    "# print c.temp.parent.html_anc_tags"
   ]
  },
  {
   "cell_type": "code",
   "execution_count": null,
   "metadata": {
    "collapsed": false
   },
   "outputs": [],
   "source": [
    "from snorkel.models import Corpus\n",
    "from hardware_utils import entity_level_f1\n",
    "import os\n",
    "\n",
    "gold_file = os.environ['SNORKELHOME'] + '/tutorials/tables/data/hardware/hardware_gold.csv'\n",
    "corpus = session.query(Corpus).filter(Corpus.name == 'Hardware Development').one()\n",
    "(TP, FP, FN) = entity_level_f1(tp, fp, tn, fn, gold_file, corpus, 'stg_temp_min')"
   ]
  },
  {
   "cell_type": "code",
   "execution_count": null,
   "metadata": {
    "collapsed": false
   },
   "outputs": [],
   "source": [
    "print FN"
   ]
  },
  {
   "cell_type": "code",
   "execution_count": null,
   "metadata": {
    "collapsed": false
   },
   "outputs": [],
   "source": [
    "from pprint import pprint\n",
    "pprint(FP)"
   ]
  },
  {
   "cell_type": "code",
   "execution_count": null,
   "metadata": {
    "collapsed": true
   },
   "outputs": [],
   "source": [
    "import os\n",
    "os.system('cp snorkel.db snorkel.db\\ final');"
   ]
  },
  {
   "cell_type": "code",
   "execution_count": null,
   "metadata": {
    "collapsed": false
   },
   "outputs": [],
   "source": [
    "from pprint import pprint\n",
    "all_weights = disc_model.get_feature_weights(F_train)"
   ]
  },
  {
   "cell_type": "code",
   "execution_count": null,
   "metadata": {
    "collapsed": false
   },
   "outputs": [],
   "source": [
    "pprint(all_weights[:60])"
   ]
  },
  {
   "cell_type": "code",
   "execution_count": null,
   "metadata": {
    "collapsed": false
   },
   "outputs": [],
   "source": [
    "fp_zetx = set()\n",
    "print(len(fn))\n",
    "for f in fn:\n",
    "    if (str(f.part.parent.document) == \"Document PNJIS00254-1\"):\n",
    "        fp_zetx.add(f)\n",
    "\n",
    "print(len(fp_zetx))"
   ]
  },
  {
   "cell_type": "code",
   "execution_count": null,
   "metadata": {
    "collapsed": false
   },
   "outputs": [],
   "source": [
    "sample = fp_zetx.pop()\n",
    "print sample\n",
    "print sample.temp.parent"
   ]
  },
  {
   "cell_type": "code",
   "execution_count": null,
   "metadata": {
    "collapsed": false
   },
   "outputs": [],
   "source": [
    "from snorkel.utils import get_keys_by_candidate\n",
    "for a in sorted(get_keys_by_candidate(F_dev, sample)):\n",
    "    print a"
   ]
  },
  {
   "cell_type": "code",
   "execution_count": null,
   "metadata": {
    "collapsed": false
   },
   "outputs": [],
   "source": [
    "from snorkel.lf_helpers import *\n",
    "def LF_min_col(c):\n",
    "    return -1 if 'min' in get_col_ngrams(c.temp) or 'min.' in get_col_ngrams(c.temp) else 0\n",
    "\n",
    "LF_min_col(sample)"
   ]
  },
  {
   "cell_type": "markdown",
   "metadata": {},
   "source": [
    "The End."
   ]
  }
 ],
 "metadata": {
  "anaconda-cloud": {},
  "kernelspec": {
   "display_name": "Python 2",
   "language": "python",
   "name": "python2"
  },
  "language_info": {
   "codemirror_mode": {
    "name": "ipython",
    "version": 2
   },
   "file_extension": ".py",
   "mimetype": "text/x-python",
   "name": "python",
   "nbconvert_exporter": "python",
   "pygments_lexer": "ipython2",
   "version": "2.7.12"
  }
 },
 "nbformat": 4,
 "nbformat_minor": 0
}
