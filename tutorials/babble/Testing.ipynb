{
 "cells": [
  {
   "cell_type": "code",
   "execution_count": 1,
   "metadata": {
    "collapsed": false,
    "scrolled": true
   },
   "outputs": [],
   "source": [
    "%load_ext autoreload\n",
    "%autoreload 2"
   ]
  },
  {
   "cell_type": "code",
   "execution_count": 2,
   "metadata": {
    "collapsed": false
   },
   "outputs": [],
   "source": [
    "# DOMAIN = 'test'\n",
    "# DOMAIN = 'cdr'\n",
    "DOMAIN = 'spouse'\n",
    "# DOMAIN = 'bike'"
   ]
  },
  {
   "cell_type": "code",
   "execution_count": 3,
   "metadata": {
    "collapsed": false
   },
   "outputs": [],
   "source": [
    "import os\n",
    "\n",
    "db = {\n",
    "    'test':   'postgres://localhost:5432/babble_test_unittest',\n",
    "    'spouse': 'postgres://localhost:5432/babble_test_spouse',\n",
    "    'cdr':    'postgres://localhost:5432/babble_test_cdr',\n",
    "    'bike':   'postgres://localhost:5432/babble_test_bike',\n",
    "}\n",
    "\n",
    "os.environ['SNORKELDB'] = db[DOMAIN]"
   ]
  },
  {
   "cell_type": "code",
   "execution_count": 4,
   "metadata": {
    "collapsed": false
   },
   "outputs": [],
   "source": [
    "from snorkel import SnorkelSession\n",
    "session = SnorkelSession()"
   ]
  },
  {
   "cell_type": "code",
   "execution_count": 5,
   "metadata": {
    "collapsed": false,
    "scrolled": true
   },
   "outputs": [
    {
     "name": "stdout",
     "output_type": "stream",
     "text": [
      "Domain: spouse\n",
      "Explanations: 9\n",
      "Candidates: 27766\n",
      "CPU times: user 1.79 s, sys: 249 ms, total: 2.03 s\n",
      "Wall time: 2.43 s\n"
     ]
    }
   ],
   "source": [
    "%%time\n",
    "\n",
    "import os\n",
    "import sys\n",
    "    \n",
    "from snorkel.models import candidate_subclass\n",
    "from snorkel.contrib.babble import link_explanation_candidates\n",
    "\n",
    "# Extract domain-specific explanations and user_lists\n",
    "if DOMAIN == 'test':\n",
    "    sys.path.append(os.path.join(os.environ['SNORKELHOME'], 'test/babble/'))\n",
    "    import unittest_examples\n",
    "    user_lists = unittest_examples.get_user_lists()\n",
    "    explanations = unittest_examples.explanations\n",
    "    Spouse = candidate_subclass('Spouse', ['person1', 'person2'])\n",
    "    candidate_class = Spouse\n",
    "    mode = 'text'\n",
    "elif DOMAIN == 'spouse':\n",
    "    sys.path.append(os.path.join(os.environ['SNORKELHOME'], 'tutorials/babble/spouse/'))\n",
    "    import spouse_examples\n",
    "    user_lists = spouse_examples.get_user_lists()\n",
    "    explanations = spouse_examples.explanations\n",
    "    Spouse = candidate_subclass('Spouse', ['person1', 'person2'])\n",
    "    candidate_class = Spouse \n",
    "    mode = 'text'\n",
    "elif DOMAIN == 'cdr':\n",
    "    import cdr_examples\n",
    "    user_lists = cdr_examples.get_user_lists()\n",
    "    explanations = cdr_examples.explanations\n",
    "    ChemicalDisease = candidate_subclass('ChemicalDisease', ['chemical', 'disease'])\n",
    "    candidate_class = ChemicalDisease\n",
    "    mode = 'text'\n",
    "elif DOMAIN == 'bike':\n",
    "    user_lists = {}\n",
    "    Biker = candidate_subclass('Biker', ['person', 'bike'])\n",
    "    explanations = [] # FIXME\n",
    "    candidate_class = Biker  \n",
    "    mode = 'image'\n",
    "else:\n",
    "    raise Exception(\"Invalid domain: {}\".format(DOMAIN))\n",
    "    \n",
    "candidates = session.query(candidate_class).all()\n",
    "print(\"Domain: {}\".format(DOMAIN))\n",
    "print(\"Explanations: {}\".format(len(explanations)))\n",
    "print(\"Candidates: {}\".format(len(candidates)))"
   ]
  },
  {
   "cell_type": "code",
   "execution_count": 6,
   "metadata": {
    "collapsed": false
   },
   "outputs": [],
   "source": [
    "# import os\n",
    "# from snorkel.contrib.babble import ExplanationIO\n",
    "\n",
    "# fpath = os.environ['SNORKELHOME'] + '/tutorials/babble/spouse/data/mturk_explanations_all.tsv'\n",
    "\n",
    "# expio = ExplanationIO()\n",
    "# explanations = list(expio.read(fpath))"
   ]
  },
  {
   "cell_type": "code",
   "execution_count": 7,
   "metadata": {
    "collapsed": true
   },
   "outputs": [],
   "source": [
    "from snorkel.contrib.babble import Explanation\n",
    "\n",
    "explanations=[\n",
    "    Explanation(\n",
    "        name='LF_distant',\n",
    "        condition=\"either the pair of arg 1 and arg 2 or the pair arg 2 and arg 1 is in known_spouses\",\n",
    "        candidate='bd72fb43-2c7d-4067-9e11-36a33623b855::span:3406:3419~~bd72fb43-2c7d-4067-9e11-36a33623b855::span:3496:3507',\n",
    "        label=True,\n",
    "        semantics=None)\n",
    "]"
   ]
  },
  {
   "cell_type": "code",
   "execution_count": 8,
   "metadata": {
    "collapsed": false
   },
   "outputs": [
    {
     "name": "stdout",
     "output_type": "stream",
     "text": [
      "Building list of target candidate ids...\n",
      "Collected 1 unique target candidate ids from 1 explanations.\n",
      "Gathering desired candidates...\n",
      "Found 1/1 desired candidates\n",
      "Linking explanations to candidates...\n",
      "Linked 1/1 explanations\n"
     ]
    }
   ],
   "source": [
    "explanations = link_explanation_candidates(explanations, candidates)"
   ]
  },
  {
   "cell_type": "code",
   "execution_count": null,
   "metadata": {
    "collapsed": true
   },
   "outputs": [],
   "source": [
    "exp_iterator = iter(explanations)"
   ]
  },
  {
   "cell_type": "code",
   "execution_count": null,
   "metadata": {
    "collapsed": false
   },
   "outputs": [],
   "source": [
    "exp = exp_iterator.next()\n",
    "from snorkel.viewer import SentenceNgramViewer\n",
    "print(exp.condition)\n",
    "sv = SentenceNgramViewer([exp.candidate], session, n_per_page=3, height=150)\n",
    "sv"
   ]
  },
  {
   "cell_type": "code",
   "execution_count": null,
   "metadata": {
    "collapsed": false
   },
   "outputs": [],
   "source": [
    "# from snorkel.models import Bbox\n",
    "# A = Bbox(top=100, bottom=200, left=100, right=200)\n",
    "# B = Bbox(top=150, bottom=250, left=150, right=250)\n",
    "# a_and_b = (A, B)\n",
    "# explanations = [\n",
    "#     Explanation(\n",
    "#         condition=\"box x is near the top left corner of box y\",\n",
    "#         label=True,\n",
    "#         candidate=a_and_b,\n",
    "#         semantics=('.root', ('.label', ('.bool', True), ('.call', ('.near', ('.box', ('.int', 1))), ('.box', ('.int', 0)))))),\n",
    "# ]"
   ]
  },
  {
   "cell_type": "code",
   "execution_count": 9,
   "metadata": {
    "collapsed": false
   },
   "outputs": [],
   "source": [
    "from tutorials.babble.spouse.spouse_examples import get_user_lists\n",
    "user_lists = get_user_lists()"
   ]
  },
  {
   "cell_type": "code",
   "execution_count": 10,
   "metadata": {
    "collapsed": false
   },
   "outputs": [
    {
     "name": "stdout",
     "output_type": "stream",
     "text": [
      "Created grammar with 480 rules\n"
     ]
    }
   ],
   "source": [
    "from snorkel.contrib.babble import Babbler\n",
    "babbler = Babbler(mode=mode, candidate_class=candidate_class, \n",
    "                  explanations=explanations, user_lists=user_lists, top_k=-1)"
   ]
  },
  {
   "cell_type": "code",
   "execution_count": 11,
   "metadata": {
    "collapsed": false,
    "scrolled": false
   },
   "outputs": [
    {
     "name": "stdout",
     "output_type": "stream",
     "text": [
      "1 parses created from 1 out of 1 explanation(s)\n",
      "Parsed 1 LFs from 1 explanations.\n"
     ]
    }
   ],
   "source": [
    "lfs = babbler.generate_lfs()"
   ]
  },
  {
   "cell_type": "code",
   "execution_count": 12,
   "metadata": {
    "collapsed": false
   },
   "outputs": [
    {
     "data": {
      "text/plain": [
       "[\"return 1 if any(map(in $'known_spouses', [tuple([text(arg1),text(arg2)]),tuple([text(arg2),text(arg1)])])) else 0\"]"
      ]
     },
     "execution_count": 12,
     "metadata": {},
     "output_type": "execute_result"
    }
   ],
   "source": [
    "parses = babbler.get_parses(semantics=True, translate=True)\n",
    "parses"
   ]
  },
  {
   "cell_type": "code",
   "execution_count": 13,
   "metadata": {
    "collapsed": false
   },
   "outputs": [
    {
     "data": {
      "text/plain": [
       "[Explanation(\"LF_distant: True, either the pair of arg 1 and arg 2 or the pair arg 2 and arg 1 is in known_spouses\")]"
      ]
     },
     "execution_count": 13,
     "metadata": {},
     "output_type": "execute_result"
    }
   ],
   "source": [
    "explanations = babbler.get_explanations()\n",
    "explanations"
   ]
  },
  {
   "cell_type": "code",
   "execution_count": 14,
   "metadata": {
    "collapsed": false,
    "scrolled": false
   },
   "outputs": [
    {
     "name": "stdout",
     "output_type": "stream",
     "text": [
      "(0, 1)      \n",
      "<START>\n",
      "             $QueryToken\n",
      "             $Start\n",
      "(1, 2)      \n",
      "label\n",
      "             $QueryToken\n",
      "             $Label\n",
      "(2, 3)      \n",
      "true\n",
      "             $QueryToken\n",
      "             $True\n",
      "             $BoolLit\n",
      "             $Bool\n",
      "(3, 4)      \n",
      "if\n",
      "             $QueryToken\n",
      "             $Because\n",
      "(4, 5)      \n",
      "either\n",
      "             $QueryToken\n",
      "(5, 6)      \n",
      "the\n",
      "             $QueryToken\n",
      "(6, 7)      \n",
      "pair\n",
      "             $QueryToken\n",
      "             $Tuple\n",
      "(7, 8)      \n",
      "of\n",
      "             $QueryToken\n",
      "(8, 9)      \n",
      "arg\n",
      "             $QueryToken\n",
      "             $Arg\n",
      "(9, 10)     \n",
      "1\n",
      "             $Int\n",
      "             $QueryToken\n",
      "             $ArgNum\n",
      "             $Num\n",
      "(10, 11)    \n",
      "and\n",
      "             $QueryToken\n",
      "             $And\n",
      "             $Conj\n",
      "(11, 12)    \n",
      "arg\n",
      "             $QueryToken\n",
      "             $Arg\n",
      "(12, 13)    \n",
      "2\n",
      "             $Int\n",
      "             $QueryToken\n",
      "             $ArgNum\n",
      "             $Num\n",
      "(13, 14)    \n",
      "or\n",
      "             $QueryToken\n",
      "             $Or\n",
      "             $Conj\n",
      "(14, 15)    \n",
      "the\n",
      "             $QueryToken\n",
      "(15, 16)    \n",
      "pair\n",
      "             $QueryToken\n",
      "             $Tuple\n",
      "(16, 17)    \n",
      "arg\n",
      "             $QueryToken\n",
      "             $Arg\n",
      "(17, 18)    \n",
      "2\n",
      "             $Int\n",
      "             $QueryToken\n",
      "             $ArgNum\n",
      "             $Num\n",
      "(18, 19)    \n",
      "and\n",
      "             $QueryToken\n",
      "             $And\n",
      "             $Conj\n",
      "(19, 20)    \n",
      "arg\n",
      "             $QueryToken\n",
      "             $Arg\n",
      "(20, 21)    \n",
      "1\n",
      "             $Int\n",
      "             $QueryToken\n",
      "             $ArgNum\n",
      "             $Num\n",
      "(21, 22)    \n",
      "is\n",
      "             $QueryToken\n",
      "             $Is\n",
      "             $Exists\n",
      "             $Equals\n",
      "             $Compare\n",
      "             $StringBinToBool\n",
      "             $NumBinToBool\n",
      "(22, 23)    \n",
      "in\n",
      "             $QueryToken\n",
      "             $In\n",
      "             $StringBinToBool\n",
      "(23, 24)    \n",
      "known_spouses\n",
      "             $QueryToken\n",
      "             $UserList\n",
      "             $StringListOr\n",
      "             $StringList\n",
      "             $List\n",
      "(24, 25)    \n",
      "<STOP>\n",
      "             $QueryToken\n",
      "             $Stop\n",
      "(8, 10)     \n",
      "arg 1\n",
      "             $ArgX\n",
      "             $String\n",
      "(11, 13)    \n",
      "arg 2\n",
      "             $ArgX\n",
      "             $String\n",
      "(16, 18)    \n",
      "arg 2\n",
      "             $ArgX\n",
      "             $String\n",
      "(19, 21)    \n",
      "arg 1\n",
      "             $ArgX\n",
      "             $String\n",
      "(21, 23)    \n",
      "is in\n",
      "             $In\n",
      "             $StringBinToBool\n",
      "(22, 24)    \n",
      "in known_spouses\n",
      "             $ArgXToBool\n",
      "             $NumToBool\n",
      "             $StringToBool\n",
      "             $StringTupleToBool\n",
      "             $StringToBool\n",
      "             $StringToBool\n",
      "(23, 25)    \n",
      "known_spouses <STOP>\n",
      "             $ROOT_$Start___$Label_$Bool_$Because\n",
      "(10, 13)    \n",
      "and arg 2\n",
      "             $ArgXListAnd_$ArgX_$Separator\n",
      "             $ArgXListAnd_$ArgX_\n",
      "             $ArgXListAnd_$ArgXListStub_$Separator\n",
      "             $ArgXListAnd_$ArgXListStub_\n",
      "             $StringListAnd_$String_$Separator\n",
      "             $StringListAnd_$String_\n",
      "             $StringListAnd_$StringListStub_$Separator\n",
      "             $StringListAnd_$StringListStub_\n",
      "             $NumListAnd_$Num_$Separator\n",
      "             $NumListAnd_$Num_\n",
      "(18, 21)    \n",
      "and arg 1\n",
      "             $ArgXListAnd_$ArgX_$Separator\n",
      "             $ArgXListAnd_$ArgX_\n",
      "             $ArgXListAnd_$ArgXListStub_$Separator\n",
      "             $ArgXListAnd_$ArgXListStub_\n",
      "             $StringListAnd_$String_$Separator\n",
      "             $StringListAnd_$String_\n",
      "             $StringListAnd_$StringListStub_$Separator\n",
      "             $StringListAnd_$StringListStub_\n",
      "             $NumListAnd_$Num_$Separator\n",
      "             $NumListAnd_$Num_\n",
      "(21, 24)    \n",
      "is in known_spouses\n",
      "             $ArgXToBool\n",
      "             $NumToBool\n",
      "             $StringToBool\n",
      "             $StringTupleToBool\n",
      "             $StringToBool\n",
      "             $StringToBool\n",
      "             $StringToBool\n",
      "(9, 13)     \n",
      "1 and arg 2\n",
      "             $NumListAnd\n",
      "             $StringToBool_$Within_\n",
      "             $NumList\n",
      "             $List\n",
      "             $NumListStub\n",
      "             $NumList\n",
      "             $List\n",
      "(17, 21)    \n",
      "2 and arg 1\n",
      "             $NumListAnd\n",
      "             $StringToBool_$Within_\n",
      "             $NumList\n",
      "             $List\n",
      "             $NumListStub\n",
      "             $NumList\n",
      "             $List\n",
      "(20, 24)    \n",
      "1 is in known_spouses\n",
      "             $Bool\n",
      "             $Bool\n",
      "(8, 13)     \n",
      "arg 1 and arg 2\n",
      "             $ArgXListAnd\n",
      "             $StringListAnd\n",
      "             $ArgXList\n",
      "             $StringList\n",
      "             $List\n",
      "             $List\n",
      "             $ArgXListStub\n",
      "             $StringListStub\n",
      "             $ArgXList\n",
      "             $StringList\n",
      "(13, 18)    \n",
      "or the pair arg 2\n",
      "             $ArgXListOr_$ArgX_$Separator\n",
      "             $ArgXListOr_$ArgX_\n",
      "             $ArgXListOr_$ArgXListStub_$Separator\n",
      "             $ArgXListOr_$ArgXListStub_\n",
      "             $StringListOr_$String_$Separator\n",
      "             $StringListOr_$String_\n",
      "             $StringListOr_$StringListStub_$Separator\n",
      "             $StringListOr_$StringListStub_\n",
      "             $NumListOr_$Num_$Separator\n",
      "             $NumListOr_$Num_\n",
      "(16, 21)    \n",
      "arg 2 and arg 1\n",
      "             $ArgXListAnd\n",
      "             $StringListAnd\n",
      "             $ArgXList\n",
      "             $StringList\n",
      "             $List\n",
      "             $List\n",
      "             $ArgXListStub\n",
      "             $StringListStub\n",
      "             $ArgXList\n",
      "             $StringList\n",
      "(19, 24)    \n",
      "arg 1 is in known_spouses\n",
      "             $Bool\n",
      "             $Bool\n",
      "             $Bool\n",
      "             $Bool\n",
      "             $Bool\n",
      "             $Bool\n",
      "             $Bool\n",
      "             $Bool\n",
      "             $Bool\n",
      "(12, 18)    \n",
      "2 or the pair arg 2\n",
      "             $NumListOr\n",
      "             $StringToBool_$Within_\n",
      "             $NumList\n",
      "             $List\n",
      "             $NumListStub\n",
      "             $NumList\n",
      "             $List\n",
      "(15, 21)    \n",
      "pair arg 2 and arg 1\n",
      "             $StringTuple\n",
      "             $StringTuple\n",
      "(18, 24)    \n",
      "and arg 1 is in known_spouses\n",
      "             $Bool_$Bool\n",
      "             $Bool_$Bool\n",
      "             $Bool_$Bool\n",
      "             $Bool_$Bool\n",
      "             $Bool_$Bool\n",
      "             $Bool_$Bool\n",
      "             $Bool_$Bool\n",
      "             $Bool_$Bool\n",
      "             $Bool_$Bool\n",
      "             $Bool_$Bool\n",
      "(19, 25)    \n",
      "arg 1 is in known_spouses <STOP>\n",
      "             $ROOT_$Start__$Label_$Bool_$Because\n",
      "(6, 13)     \n",
      "pair of arg 1 and arg 2\n",
      "             $StringTuple\n",
      "             $StringTuple\n",
      "(11, 18)    \n",
      "arg 2 or the pair arg 2\n",
      "             $ArgXListOr\n",
      "             $StringListOr\n",
      "             $ArgXList\n",
      "             $StringList\n",
      "             $List\n",
      "             $List\n",
      "             $ArgXListStub\n",
      "             $StringListStub\n",
      "             $ArgXList\n",
      "             $StringList\n",
      "(17, 24)    \n",
      "2 and arg 1 is in known_spouses\n",
      "             $Bool\n",
      "             $BoolList\n",
      "             $Bool_$Exists_\n",
      "             $BoolList\n",
      "             $Bool_$Exists_\n",
      "             $Bool\n",
      "             $BoolList\n",
      "             $Bool_$Exists_\n",
      "             $Bool\n",
      "             $BoolList\n",
      "(10, 18)    \n",
      "and arg 2 or the pair arg 2\n",
      "             $ArgXListAnd_$ArgX_$Separator\n",
      "             $ArgXListAnd_$ArgX_\n",
      "             $ArgXListAnd_$ArgXListStub_$Separator\n",
      "             $ArgXListAnd_$ArgXListStub_\n",
      "             $StringListAnd_$String_$Separator\n",
      "             $StringListAnd_$String_\n",
      "             $StringListAnd_$StringListStub_$Separator\n",
      "             $StringListAnd_$StringListStub_\n",
      "             $NumListAnd_$Num_$Separator\n",
      "             $NumListAnd_$Num_\n",
      "(13, 21)    \n",
      "or the pair arg 2 and arg 1\n",
      "             $StringTupleListOr_$StringTuple_$Separator\n",
      "             $StringTupleListOr_$StringTuple_\n",
      "             $StringTupleListOr_$StringTupleListStub_$Separator\n",
      "             $StringTupleListOr_$StringTupleListStub_\n",
      "             $StringTupleListOr_$StringTuple_$Separator\n",
      "             $StringTupleListOr_$StringTuple_\n",
      "             $StringTupleListOr_$StringTupleListStub_$Separator\n",
      "             $StringTupleListOr_$StringTupleListStub_\n",
      "             $ArgXListOr_$ArgX_$Separator\n",
      "             $ArgXListOr_$ArgX_\n",
      "(16, 24)    \n",
      "arg 2 and arg 1 is in known_spouses\n",
      "             $Bool\n",
      "             $Bool\n",
      "             $Bool\n",
      "             $Bool\n",
      "             $BoolList\n",
      "             $Bool_$Exists\n",
      "             $BoolList\n",
      "             $Bool_$Exists___\n",
      "             $BoolList\n",
      "             $Bool_$Exists___\n",
      "(9, 18)     \n",
      "1 and arg 2 or the pair arg 2\n",
      "             $NumListAnd\n",
      "             $NumListOr\n",
      "             $StringToBool_$Within_\n",
      "             $NumListStub\n",
      "             $NumList\n",
      "             $NumList\n",
      "             $NumList\n",
      "             $List\n",
      "             $List\n",
      "             $List\n",
      "(12, 21)    \n",
      "2 or the pair arg 2 and arg 1\n",
      "             $NumListAnd\n",
      "             $StringToBool_$Within_\n",
      "             $NumListStub\n",
      "             $NumList\n",
      "             $NumList\n",
      "             $List\n",
      "             $List\n",
      "             $NumListStub\n",
      "             $NumList\n",
      "             $List\n",
      "(15, 24)    \n",
      "pair arg 2 and arg 1 is in known_spouses\n",
      "             $Bool\n",
      "             $Bool\n",
      "             $Bool\n",
      "             $Bool\n",
      "             $StringTuple\n",
      "(16, 25)    \n",
      "arg 2 and arg 1 is in known_spouses <STOP>\n",
      "             $ROOT_$Start___$Label_$Bool_$Because\n",
      "             $ROOT_$Start___$Label_$Bool_$Because\n",
      "             $ROOT_$Start__$Label_$Bool_$Because\n",
      "(8, 18)     \n",
      "arg 1 and arg 2 or the pair arg 2\n",
      "             $ArgXListOr\n",
      "             $StringListOr\n",
      "             $ArgXList\n",
      "             $StringList\n",
      "             $List\n",
      "             $List\n",
      "             $ArgXListStub\n",
      "             $StringListStub\n",
      "             $ArgXList\n",
      "             $StringList\n",
      "(11, 21)    \n",
      "arg 2 or the pair arg 2 and arg 1\n",
      "             $ArgXListAnd\n",
      "             $StringListAnd\n",
      "             $ArgXList\n",
      "             $StringList\n",
      "             $List\n",
      "             $List\n",
      "             $ArgXListStub\n",
      "             $StringListStub\n",
      "             $ArgXList\n",
      "             $StringList\n",
      "(10, 21)    \n",
      "and arg 2 or the pair arg 2 and arg 1\n",
      "             $StringTupleListAnd_$StringTuple_$Separator\n",
      "             $StringTupleListAnd_$StringTuple_\n",
      "             $StringTupleListAnd_$StringTupleListStub_$Separator\n",
      "             $StringTupleListAnd_$StringTupleListStub_\n",
      "             $StringTupleListAnd_$StringTuple_$Separator\n",
      "             $StringTupleListAnd_$StringTuple_\n",
      "             $StringTupleListAnd_$StringTupleListStub_$Separator\n",
      "             $StringTupleListAnd_$StringTupleListStub_\n",
      "             $ArgXListAnd_$ArgX_$Separator\n",
      "             $ArgXListAnd_$ArgX_\n",
      "(13, 24)    \n",
      "or the pair arg 2 and arg 1 is in known_spouses\n",
      "             $Bool_$Bool\n",
      "             $Bool_$Bool\n",
      "             $Bool_$Bool\n",
      "             $Bool_$Bool\n",
      "             $Bool_$Bool\n",
      "             $Bool_$Bool\n",
      "             $Bool_$Bool\n",
      "             $Bool_$Bool\n",
      "             $Bool_$Bool\n",
      "             $Bool_$Bool\n",
      "(6, 18)     \n",
      "pair of arg 1 and arg 2 or the pair arg 2\n",
      "             $StringTuple\n",
      "             $StringTuple\n",
      "             $StringTuple\n",
      "             $StringTuple\n",
      "(9, 21)     \n",
      "1 and arg 2 or the pair arg 2 and arg 1\n",
      "             $NumListStub\n",
      "             $NumList\n",
      "             $List\n",
      "             $NumListAnd\n",
      "             $StringToBool_$Within_\n",
      "             $NumListStub\n",
      "             $NumList\n",
      "             $NumList\n",
      "             $List\n",
      "             $List\n",
      "(12, 24)    \n",
      "2 or the pair arg 2 and arg 1 is in known_spouses\n",
      "             $Bool\n",
      "             $BoolList\n",
      "             $Bool_$Exists_\n",
      "             $BoolList\n",
      "             $Bool_$Exists_\n",
      "             $Bool\n",
      "             $BoolList\n",
      "             $Bool_$Exists_\n",
      "             $BoolList\n",
      "             $Bool_$Exists_\n",
      "(8, 21)     \n",
      "arg 1 and arg 2 or the pair arg 2 and arg 1\n",
      "             $ArgXListAnd\n",
      "             $StringListAnd\n",
      "             $ArgXList\n",
      "             $StringList\n",
      "             $List\n",
      "             $List\n",
      "             $ArgXListStub\n",
      "             $StringListStub\n",
      "             $ArgXList\n",
      "             $StringList\n",
      "(11, 24)    \n",
      "arg 2 or the pair arg 2 and arg 1 is in known_spouses\n",
      "             $Bool\n",
      "             $Bool\n",
      "             $Bool\n",
      "             $Bool\n",
      "             $BoolList\n",
      "             $Bool_$Exists\n",
      "             $BoolList\n",
      "             $Bool_$Exists___\n",
      "             $BoolList\n",
      "             $Bool_$Exists___\n",
      "(10, 24)    \n",
      "and arg 2 or the pair arg 2 and arg 1 is in known_spouses\n",
      "             $Bool_$Bool\n",
      "             $Bool_$Bool\n",
      "             $Bool_$Bool\n",
      "             $Bool_$Bool\n",
      "             $Bool_$Bool\n",
      "             $Bool_$Bool\n",
      "             $Bool_$Bool\n",
      "             $Bool_$Bool\n",
      "             $Bool_$Bool\n",
      "             $Bool_$Bool\n",
      "(11, 25)    \n",
      "arg 2 or the pair arg 2 and arg 1 is in known_spouses <STOP>\n",
      "             $ROOT_$Start___$Label_$Bool_$Because\n",
      "             $ROOT_$Start___$Label_$Bool_$Because\n",
      "             $ROOT_$Start___$Label_$Bool_$Because\n",
      "             $ROOT_$Start___$Label_$Bool_$Because\n",
      "             $ROOT_$Start__$Label_$Bool_$Because\n",
      "(6, 21)     \n",
      "pair of arg 1 and arg 2 or the pair arg 2 and arg 1\n",
      "             $StringTupleListOr\n",
      "             $StringTupleList\n",
      "             $List\n",
      "             $StringTupleListOr\n",
      "             $StringTupleListOr\n",
      "             $StringTupleListStub\n",
      "             $StringTupleList\n",
      "             $StringTupleList\n",
      "             $StringTupleList\n",
      "             $List\n",
      "(9, 24)     \n",
      "1 and arg 2 or the pair arg 2 and arg 1 is in known_spouses\n",
      "             $BoolList\n",
      "             $Bool_$Exists_\n",
      "             $Bool\n",
      "             $BoolList\n",
      "             $Bool_$Exists_\n",
      "             $BoolList\n",
      "             $Bool_$Exists_\n",
      "             $Bool\n",
      "             $BoolList\n",
      "             $Bool_$Exists_\n",
      "(8, 24)     \n",
      "arg 1 and arg 2 or the pair arg 2 and arg 1 is in known_spouses\n",
      "             $Bool\n",
      "             $Bool\n",
      "             $Bool\n",
      "             $Bool\n",
      "             $BoolList\n",
      "             $Bool_$Exists\n",
      "             $BoolList\n",
      "             $Bool_$Exists___\n",
      "             $BoolList\n",
      "             $Bool_$Exists___\n",
      "(8, 25)     \n",
      "arg 1 and arg 2 or the pair arg 2 and arg 1 is in known_spouses <STOP>\n",
      "             $ROOT_$Start___$Label_$Bool_$Because\n",
      "             $ROOT_$Start___$Label_$Bool_$Because\n",
      "             $ROOT_$Start___$Label_$Bool_$Because\n",
      "             $ROOT_$Start___$Label_$Bool_$Because\n",
      "             $ROOT_$Start___$Label_$Bool_$Because\n",
      "             $ROOT_$Start___$Label_$Bool_$Because\n",
      "             $ROOT_$Start__$Label_$Bool_$Because\n",
      "(6, 24)     \n",
      "pair of arg 1 and arg 2 or the pair arg 2 and arg 1 is in known_spouses\n",
      "             $Bool\n",
      "             $BoolList\n",
      "             $Bool_$Exists____\n",
      "             $Bool\n",
      "             $Bool\n",
      "             $BoolList\n",
      "             $Bool_$Exists____\n",
      "             $BoolList\n",
      "             $Bool_$Exists____\n",
      "             $BoolList\n",
      "(3, 24)     \n",
      "if either the pair of arg 1 and arg 2 or the pair arg 2 and arg 1 is in known_spouses\n",
      "             $LF_$Label__$Bool\n",
      "             $LF_$Label__$Bool\n",
      "             $LF_$Label__$Bool\n",
      "             $LF_$Label__$Bool\n",
      "             $LF_$Label__$Bool\n",
      "             $LF_$Label__$Bool\n",
      "             $LF_$Label__$Bool\n",
      "             $LF_$Label__$Bool\n",
      "             $LF_$Label__$Bool\n",
      "             $LF_$Label__$Bool\n",
      "(2, 24)     \n",
      "true if either the pair of arg 1 and arg 2 or the pair arg 2 and arg 1 is in known_spouses\n",
      "             $LF_$Label_\n",
      "             $LF_$Label_\n",
      "             $LF_$Label_\n",
      "             $LF_$Label_\n",
      "             $LF_$Label_\n",
      "             $LF_$Label_\n",
      "             $LF_$Label_\n",
      "             $LF_$Label_\n",
      "             $LF_$Label_\n",
      "             $LF_$Label_\n",
      "(3, 25)     \n",
      "if either the pair of arg 1 and arg 2 or the pair arg 2 and arg 1 is in known_spouses <STOP>\n",
      "             $ROOT_$Start___$Label_$Bool\n",
      "             $ROOT_$Start___$Label_$Bool\n",
      "             $ROOT_$Start___$Label_$Bool\n",
      "             $ROOT_$Start___$Label_$Bool\n",
      "             $ROOT_$Start___$Label_$Bool\n",
      "             $ROOT_$Start___$Label_$Bool\n",
      "             $ROOT_$Start___$Label_$Bool\n",
      "             $ROOT_$Start___$Label_$Bool\n",
      "             $ROOT_$Start___$Label_$Bool\n",
      "             $ROOT_$Start___$Label_$Bool\n",
      "(1, 24)     \n",
      "label true if either the pair of arg 1 and arg 2 or the pair arg 2 and arg 1 is in known_spouses\n",
      "             $LF\n",
      "             $LF\n",
      "             $LF\n",
      "             $LF\n",
      "             $LF\n",
      "             $LF\n",
      "             $LF\n",
      "             $LF\n",
      "             $LF\n",
      "             $LF\n",
      "(2, 25)     \n",
      "true if either the pair of arg 1 and arg 2 or the pair arg 2 and arg 1 is in known_spouses <STOP>\n",
      "             $ROOT_$Start___$Label\n",
      "             $ROOT_$Start___$Label\n",
      "             $ROOT_$Start___$Label\n",
      "             $ROOT_$Start___$Label\n",
      "             $ROOT_$Start___$Label\n",
      "             $ROOT_$Start___$Label\n",
      "             $ROOT_$Start___$Label\n",
      "             $ROOT_$Start___$Label\n",
      "             $ROOT_$Start___$Label\n",
      "             $ROOT_$Start___$Label\n",
      "(1, 25)     \n",
      "label true if either the pair of arg 1 and arg 2 or the pair arg 2 and arg 1 is in known_spouses <STOP>\n",
      "             $ROOT_$Start\n",
      "             $ROOT_$Start\n",
      "             $ROOT_$Start\n",
      "             $ROOT_$Start\n",
      "             $ROOT_$Start\n",
      "             $ROOT_$Start\n",
      "             $ROOT_$Start\n",
      "             $ROOT_$Start\n",
      "             $ROOT_$Start\n",
      "             $ROOT_$Start\n",
      "(0, 25)     \n",
      "<START> label true if either the pair of arg 1 and arg 2 or the pair arg 2 and arg 1 is in known_spouses <STOP>\n",
      "             $ROOT\n",
      "             $ROOT\n",
      "             $ROOT\n",
      "             $ROOT\n",
      "             $ROOT\n",
      "             $ROOT\n",
      "             $ROOT\n",
      "             $ROOT\n",
      "             $ROOT\n",
      "             $ROOT\n"
     ]
    }
   ],
   "source": [
    "babbler.semparser.grammar.print_chart()"
   ]
  },
  {
   "cell_type": "code",
   "execution_count": null,
   "metadata": {
    "collapsed": true
   },
   "outputs": [],
   "source": [
    "# def LF_wife_in_sentence(c):\n",
    "#     \"\"\"A simple example of a labeling function\"\"\"\n",
    "#     return 1 if 'wife' in c.get_parent().words else 0"
   ]
  },
  {
   "cell_type": "code",
   "execution_count": null,
   "metadata": {
    "collapsed": false,
    "scrolled": true
   },
   "outputs": [],
   "source": [
    "# from snorkel.lf_helpers import test_LF\n",
    "# %time tp, fp, tn, fn = test_LF(session, LF_wife_in_sentence, split=0, annotator_name='gold')"
   ]
  },
  {
   "cell_type": "code",
   "execution_count": null,
   "metadata": {
    "collapsed": false
   },
   "outputs": [],
   "source": [
    "babbler.filter_duplicate_semantics()"
   ]
  },
  {
   "cell_type": "code",
   "execution_count": null,
   "metadata": {
    "collapsed": false
   },
   "outputs": [],
   "source": [
    "babbler.filter_consistency()"
   ]
  },
  {
   "cell_type": "code",
   "execution_count": null,
   "metadata": {
    "collapsed": false,
    "scrolled": true
   },
   "outputs": [],
   "source": [
    "from snorkel.contrib.babble import sem_to_str\n",
    "[sem_to_str(p.semantics) for p in babbler.parses[:10]]"
   ]
  },
  {
   "cell_type": "code",
   "execution_count": null,
   "metadata": {
    "collapsed": false,
    "scrolled": true
   },
   "outputs": [],
   "source": [
    "L_dev = babbler.generate_label_matrix(split=1)\n",
    "# L_dev = babbler.load_matrix(session,split=1)"
   ]
  },
  {
   "cell_type": "code",
   "execution_count": null,
   "metadata": {
    "collapsed": false
   },
   "outputs": [],
   "source": [
    "L_dev"
   ]
  },
  {
   "cell_type": "code",
   "execution_count": null,
   "metadata": {
    "collapsed": false
   },
   "outputs": [],
   "source": [
    "babbler.filter_uniform_signatures()"
   ]
  },
  {
   "cell_type": "code",
   "execution_count": null,
   "metadata": {
    "collapsed": false,
    "scrolled": true
   },
   "outputs": [],
   "source": [
    "babbler.filter_duplicate_signatures()"
   ]
  },
  {
   "cell_type": "code",
   "execution_count": null,
   "metadata": {
    "collapsed": false
   },
   "outputs": [],
   "source": [
    "L_dev.lf_stats(session)"
   ]
  },
  {
   "cell_type": "code",
   "execution_count": null,
   "metadata": {
    "collapsed": false,
    "scrolled": true
   },
   "outputs": [],
   "source": [
    "import numpy as np\n",
    "np.sum(L_dev, axis=0)"
   ]
  },
  {
   "cell_type": "code",
   "execution_count": null,
   "metadata": {
    "collapsed": false
   },
   "outputs": [],
   "source": [
    "caught = set(L_dev[:,1].nonzero()[0])\n",
    "for i in range(2811):\n",
    "    if i not in caught:\n",
    "        print(i)"
   ]
  },
  {
   "cell_type": "code",
   "execution_count": null,
   "metadata": {
    "collapsed": false,
    "scrolled": false
   },
   "outputs": [],
   "source": [
    "from pprint import pprint\n",
    "from snorkel.contrib.babble.text import get_sentence_phrases\n",
    "pprint([p.words for p in get_sentence_phrases(L_dev.get_candidate(session, 843)[0],n_max=7)])"
   ]
  },
  {
   "cell_type": "code",
   "execution_count": null,
   "metadata": {
    "collapsed": true
   },
   "outputs": [],
   "source": []
  },
  {
   "cell_type": "code",
   "execution_count": null,
   "metadata": {
    "collapsed": true
   },
   "outputs": [],
   "source": []
  },
  {
   "cell_type": "code",
   "execution_count": null,
   "metadata": {
    "collapsed": false
   },
   "outputs": [],
   "source": [
    "dev_candidates = session.query(candidate_class).filter(Spouse.split == 1).all()\n",
    "print(len(dev_candidates))"
   ]
  },
  {
   "cell_type": "code",
   "execution_count": null,
   "metadata": {
    "collapsed": false
   },
   "outputs": [],
   "source": [
    "# import utils\n",
    "\n",
    "# # Link examples with their corresponding candidates\n",
    "# examples = utils.link_example_candidates(examples, dev_candidates)"
   ]
  },
  {
   "cell_type": "code",
   "execution_count": null,
   "metadata": {
    "collapsed": true
   },
   "outputs": [],
   "source": [
    "import re\n",
    "from snorkel.lf_helpers import (\n",
    "    get_left_tokens, get_right_tokens, get_between_tokens,\n",
    "    get_text_between, get_tagged_text,\n",
    ")"
   ]
  },
  {
   "cell_type": "code",
   "execution_count": null,
   "metadata": {
    "collapsed": false,
    "scrolled": false
   },
   "outputs": [],
   "source": [
    "spouse_label_path = os.path.join(os.environ['SNORKELHOME'], 'tutorials/intro/data/gold_labels.tsv') \n",
    "\n",
    "import intro\n",
    "\n",
    "%time intro.load_external_labels(session, Spouse, annotator_name='gold', path=spouse_label_path)"
   ]
  },
  {
   "cell_type": "code",
   "execution_count": null,
   "metadata": {
    "collapsed": false
   },
   "outputs": [],
   "source": [
    "# import bz2\n",
    "# import os \n",
    "\n",
    "# spouses_pickle_path = os.path.join(os.environ['SNORKELHOME'], \n",
    "#         'tutorials/intro/data/spouses_dbpedia.csv.bz2') \n",
    "\n",
    "# def strip_special(s):\n",
    "#     return ''.join(c for c in s if ord(c) < 128)\n",
    "\n",
    "# def last_name(s):\n",
    "#     name_parts = s.split(' ')\n",
    "#     return name_parts[-1] if len(name_parts) > 1 else None  \n",
    "\n",
    "# # Read in known spouse pairs and save as set of tuples\n",
    "# with bz2.BZ2File(spouses_pickle_path, 'rb') as f:\n",
    "#     known_spouses = set(\n",
    "#         tuple(strip_special(x).strip().split(',')) for x in f.readlines()\n",
    "#     )\n",
    "# # Last name pairs for known spouses\n",
    "# last_names = set([(last_name(x), last_name(y)) for x, y in known_spouses if last_name(x) and last_name(y)])\n",
    "\n",
    "# def LF_distant_supervision(c):\n",
    "#     p1, p2 = c.person1.get_span(), c.person2.get_span()\n",
    "#     return 1 if (p1, p2) in known_spouses or (p2, p1) in known_spouses else 0\n",
    "\n",
    "# def LF_distant_supervision_last_names(c):\n",
    "#     p1, p2 = c.person1.get_span(), c.person2.get_span()\n",
    "#     p1n, p2n = last_name(p1), last_name(p2)\n",
    "#     return 1 if (p1 != p2) and ((p1n, p2n) in last_names or (p2n, p1n) in last_names) else 0"
   ]
  },
  {
   "cell_type": "code",
   "execution_count": null,
   "metadata": {
    "collapsed": false
   },
   "outputs": [],
   "source": [
    "# candidate_subset = []\n",
    "# for c in dev_candidates:\n",
    "#     if hash(c) == -2597662937532403956:\n",
    "#         break"
   ]
  },
  {
   "cell_type": "code",
   "execution_count": null,
   "metadata": {
    "collapsed": false
   },
   "outputs": [],
   "source": [
    "from snorkel.viewer import SentenceNgramViewer\n",
    "sv = SentenceNgramViewer(dev_candidates[:300], session)\n",
    "sv"
   ]
  },
  {
   "cell_type": "code",
   "execution_count": null,
   "metadata": {
    "collapsed": true
   },
   "outputs": [],
   "source": [
    "married = ['husband', 'wife', 'spouse', 'marriage', 'married']"
   ]
  },
  {
   "cell_type": "code",
   "execution_count": null,
   "metadata": {
    "collapsed": true
   },
   "outputs": [],
   "source": [
    "def LF_neighbors(c):\n",
    "    return -1 if (len(c[0].get_attrib_tokens()) == 1 and \n",
    "                  len(c[1].get_attrib_tokens()) == 1 and \n",
    "                  not set(married).intersection(c.get_parent().words)) else 0"
   ]
  },
  {
   "cell_type": "code",
   "execution_count": null,
   "metadata": {
    "collapsed": false
   },
   "outputs": [],
   "source": [
    "labeled = []\n",
    "for c in session.query(Spouse).filter(Spouse.split == 1).all():\n",
    "    if LF_neighbors(c) != 0:\n",
    "        labeled.append(c)\n",
    "print(\"Number labeled:\", len(labeled))"
   ]
  },
  {
   "cell_type": "code",
   "execution_count": null,
   "metadata": {
    "collapsed": false
   },
   "outputs": [],
   "source": [
    "from snorkel.viewer import SentenceNgramViewer\n",
    "sv = SentenceNgramViewer(fn, session)\n",
    "sv"
   ]
  },
  {
   "cell_type": "code",
   "execution_count": null,
   "metadata": {
    "collapsed": false
   },
   "outputs": [],
   "source": [
    "print(len(dev_candidates))"
   ]
  },
  {
   "cell_type": "code",
   "execution_count": null,
   "metadata": {
    "collapsed": false
   },
   "outputs": [],
   "source": [
    "from snorkel.annotations import load_gold_labels\n",
    "test_labels     = load_gold_labels(session, annotator_name='gold', split=1)\n",
    "test_labels"
   ]
  },
  {
   "cell_type": "code",
   "execution_count": null,
   "metadata": {
    "collapsed": false
   },
   "outputs": [],
   "source": [
    "from snorkel.annotations import load_gold_labels\n",
    "from snorkel.models import Candidate\n",
    "from snorkel.learning.utils import MentionScorer\n",
    "import numpy as np\n",
    "\n",
    "lf = LF_neighbors\n",
    "\n",
    "dev_candidates = session.query(Candidate).filter(Candidate.split == 1).all()\n",
    "test_labels     = load_gold_labels(session, annotator_name='gold', split=1)\n",
    "scorer          = MentionScorer(dev_candidates, test_labels)\n",
    "test_marginals  = np.array([0.5 * (lf(c) + 1) for c in dev_candidates])\n",
    "scorer.score(test_marginals, set_unlabeled_as_neg=False, set_at_thresh_as_neg=False)"
   ]
  },
  {
   "cell_type": "code",
   "execution_count": null,
   "metadata": {
    "collapsed": false
   },
   "outputs": [],
   "source": [
    "print(len(test_candidates))\n",
    "print(test_labels.nnz)\n",
    "max(test_marginals)"
   ]
  },
  {
   "cell_type": "code",
   "execution_count": null,
   "metadata": {
    "collapsed": false
   },
   "outputs": [],
   "source": [
    "test_labels"
   ]
  },
  {
   "cell_type": "code",
   "execution_count": null,
   "metadata": {
    "collapsed": true
   },
   "outputs": [],
   "source": [
    "from snorkel.contrib.babble import Explanation\n",
    "\n",
    "explanations = [\n",
    "    # Tuple\n",
    "    Explanation(\n",
    "        condition=\"label True because the pair (arg 1, arg 2) is the same as the tuple ('foo', 'bar')\",\n",
    "        candidate=('foo', 'bar'),\n",
    "        label=1,\n",
    "        semantics=('.root', ('.label', ('.bool', True), ('.call', ('.eq', ('.tuple', ('.list', ('.string', u'foo'), ('.string', u'bar')))), ('.tuple', ('.list', ('.arg_to_string', ('.arg', ('.int', 1))), ('.arg_to_string', ('.arg', ('.int', 2))))))))),    \n",
    "]"
   ]
  },
  {
   "cell_type": "code",
   "execution_count": null,
   "metadata": {
    "collapsed": false,
    "scrolled": true
   },
   "outputs": [],
   "source": [
    "from snorkel.contrib.babble import SemanticParser\n",
    "\n",
    "%time sp = SemanticParser(candidate_class, user_lists, beam_width=10, top_k=-1)"
   ]
  },
  {
   "cell_type": "code",
   "execution_count": null,
   "metadata": {
    "collapsed": false,
    "scrolled": false
   },
   "outputs": [],
   "source": [
    "%time LFs = sp.parse_and_evaluate(explanations,\\\n",
    "                                  show_everything=True,\\\n",
    "                                  show_nothing=False,\\\n",
    "                                  show_explanation=True,\\\n",
    "                                  show_candidate=False,\\\n",
    "                                  show_sentence=False,\\\n",
    "                                  show_parse=True,\\\n",
    "                                  show_semantics=True,\\\n",
    "                                  show_correct=False,\\\n",
    "                                  show_passing=True,\\\n",
    "                                  show_failing=True,\\\n",
    "                                  pseudo_python=True,\\\n",
    "                                  remove_paren=False,\\\n",
    "                                  paraphrases=False,\\\n",
    "                                  only=[])\n",
    "sp.results"
   ]
  },
  {
   "cell_type": "code",
   "execution_count": null,
   "metadata": {
    "collapsed": false,
    "scrolled": false
   },
   "outputs": [],
   "source": [
    "import numpy as np\n",
    "print np.sum(sp.results, axis=0)"
   ]
  },
  {
   "cell_type": "code",
   "execution_count": null,
   "metadata": {
    "collapsed": false,
    "scrolled": true
   },
   "outputs": [],
   "source": [
    "sp.grammar.print_chart(nested=True)"
   ]
  },
  {
   "cell_type": "code",
   "execution_count": null,
   "metadata": {
    "collapsed": false,
    "scrolled": false
   },
   "outputs": [],
   "source": [
    "# sp.grammar.print_grammar()"
   ]
  },
  {
   "cell_type": "code",
   "execution_count": null,
   "metadata": {
    "collapsed": true
   },
   "outputs": [],
   "source": []
  },
  {
   "cell_type": "code",
   "execution_count": null,
   "metadata": {
    "collapsed": false,
    "scrolled": false
   },
   "outputs": [],
   "source": [
    "# # Make mini-corpus for test\n",
    "\n",
    "# import os\n",
    "\n",
    "# from snorkel import SnorkelSession\n",
    "# session = SnorkelSession()\n",
    "\n",
    "# from snorkel.models import Document, candidate_subclass\n",
    "# from snorkel.parser import TSVDocPreprocessor, CorpusParser\n",
    "# from snorkel.parser.spacy_parser import Spacy\n",
    "# from snorkel.candidates import Ngrams, CandidateExtractor\n",
    "# from snorkel.matchers import PersonMatcher\n",
    "# from snorkel.contrib.babble import SemanticParser, Example\n",
    "\n",
    "# test_article_path = os.environ['SNORKELHOME'] + '/test/babble/test_article.tsv'\n",
    "# doc_preprocessor = TSVDocPreprocessor(test_article_path)\n",
    "# corpus_parser = CorpusParser(parser=Spacy())\n",
    "# corpus_parser.apply(doc_preprocessor)\n",
    "# Spouse = candidate_subclass('Spouse', ['person1', 'person2'])\n",
    "# ngrams         = Ngrams(n_max=2)\n",
    "# person_matcher = PersonMatcher(longest_match_only=True)\n",
    "# cand_extractor = CandidateExtractor(Spouse, [ngrams, ngrams], [person_matcher, person_matcher], symmetric_relations=False)\n",
    "# docs = session.query(Document).order_by(Document.name).all()\n",
    "# sents = [s for doc in docs for s in doc.sentences]\n",
    "# cand_extractor.apply(sents, split=0)"
   ]
  },
  {
   "cell_type": "code",
   "execution_count": null,
   "metadata": {
    "collapsed": false,
    "scrolled": true
   },
   "outputs": [],
   "source": [
    "# candidates = session.query(Spouse).all()\n",
    "# for c in candidates:\n",
    "#     print(c)"
   ]
  },
  {
   "cell_type": "code",
   "execution_count": null,
   "metadata": {
    "collapsed": true
   },
   "outputs": [],
   "source": []
  }
 ],
 "metadata": {
  "anaconda-cloud": {},
  "kernelspec": {
   "display_name": "Python 2",
   "language": "python",
   "name": "python2"
  },
  "language_info": {
   "codemirror_mode": {
    "name": "ipython",
    "version": 2
   },
   "file_extension": ".py",
   "mimetype": "text/x-python",
   "name": "python",
   "nbconvert_exporter": "python",
   "pygments_lexer": "ipython2",
   "version": "2.7.13"
  }
 },
 "nbformat": 4,
 "nbformat_minor": 1
}
