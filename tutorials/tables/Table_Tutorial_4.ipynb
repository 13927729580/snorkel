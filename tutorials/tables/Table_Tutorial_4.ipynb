{
 "cells": [
  {
   "cell_type": "markdown",
   "metadata": {},
   "source": [
    "## Part IV:  Features and Labeling Functions"
   ]
  },
  {
   "cell_type": "markdown",
   "metadata": {},
   "source": [
    "## Generating Features"
   ]
  },
  {
   "cell_type": "code",
   "execution_count": null,
   "metadata": {
    "collapsed": true
   },
   "outputs": [],
   "source": [
    "# # If necessary:\n",
    "# import os\n",
    "# os.remove('snorkel.db');\n",
    "# os.system('cp snorkel.db\\ labels snorkel.db');"
   ]
  },
  {
   "cell_type": "code",
   "execution_count": null,
   "metadata": {
    "collapsed": false
   },
   "outputs": [],
   "source": [
    "# %load_ext autoreload\n",
    "# %autoreload 2\n",
    "\n",
    "# from snorkel import SnorkelSession\n",
    "# session = SnorkelSession()"
   ]
  },
  {
   "cell_type": "code",
   "execution_count": null,
   "metadata": {
    "collapsed": false
   },
   "outputs": [],
   "source": [
    "# from snorkel.models import candidate_subclass\n",
    "\n",
    "# Part_Temp = candidate_subclass('Part_Temp', ['part','temp'])"
   ]
  },
  {
   "cell_type": "markdown",
   "metadata": {},
   "source": [
    "### Loading the `CandidateSet`"
   ]
  },
  {
   "cell_type": "code",
   "execution_count": null,
   "metadata": {
    "collapsed": false
   },
   "outputs": [],
   "source": [
    "# from snorkel.models import CandidateSet\n",
    "# train = session.query(CandidateSet).filter(\n",
    "#     CandidateSet.name == 'Hardware Training Candidates').one()\n",
    "# dev = session.query(CandidateSet).filter(\n",
    "#     CandidateSet.name == 'Hardware Development Candidates').one()"
   ]
  },
  {
   "cell_type": "markdown",
   "metadata": {},
   "source": [
    "### Creating feature matrix"
   ]
  },
  {
   "cell_type": "code",
   "execution_count": null,
   "metadata": {
    "collapsed": false
   },
   "outputs": [],
   "source": [
    "# from snorkel.annotations import FeatureManager\n",
    "\n",
    "# feature_manager = FeatureManager()"
   ]
  },
  {
   "cell_type": "code",
   "execution_count": null,
   "metadata": {
    "collapsed": false
   },
   "outputs": [],
   "source": [
    "# %time F_train = feature_manager.create(session, train, 'Train Features')"
   ]
  },
  {
   "cell_type": "code",
   "execution_count": null,
   "metadata": {
    "collapsed": false
   },
   "outputs": [],
   "source": [
    "# %time F_dev = feature_manager.update(session, dev, 'Train Features', expand_key_set=False)"
   ]
  },
  {
   "cell_type": "markdown",
   "metadata": {},
   "source": [
    "### Reloading feature matrix"
   ]
  },
  {
   "cell_type": "code",
   "execution_count": null,
   "metadata": {
    "collapsed": false,
    "scrolled": true
   },
   "outputs": [],
   "source": [
    "# %time F_train = feature_manager.load(session, train, 'Train Features')"
   ]
  },
  {
   "cell_type": "code",
   "execution_count": null,
   "metadata": {
    "collapsed": false
   },
   "outputs": [],
   "source": [
    "# F_train"
   ]
  },
  {
   "cell_type": "code",
   "execution_count": null,
   "metadata": {
    "collapsed": false
   },
   "outputs": [],
   "source": [
    "# F_train.get_candidate(0)"
   ]
  },
  {
   "cell_type": "code",
   "execution_count": null,
   "metadata": {
    "collapsed": false
   },
   "outputs": [],
   "source": [
    "# F_train.get_key(0)"
   ]
  },
  {
   "cell_type": "code",
   "execution_count": null,
   "metadata": {
    "collapsed": false
   },
   "outputs": [],
   "source": [
    "# from snorkel.utils import get_keys_by_candidate\n",
    "\n",
    "# for f in get_keys_by_candidate(F_train, F_train.get_candidate(1))[:10]: print f"
   ]
  },
  {
   "cell_type": "markdown",
   "metadata": {},
   "source": [
    "### Saving feature matrices"
   ]
  },
  {
   "cell_type": "code",
   "execution_count": null,
   "metadata": {
    "collapsed": true
   },
   "outputs": [],
   "source": [
    "# # If necessary:\n",
    "# import os\n",
    "# os.system('cp snorkel.db snorkel.db\\ featurized');"
   ]
  },
  {
   "cell_type": "markdown",
   "metadata": {},
   "source": [
    "## Applying LFs"
   ]
  },
  {
   "cell_type": "code",
   "execution_count": null,
   "metadata": {
    "collapsed": false
   },
   "outputs": [],
   "source": [
    "# If necessary:\n",
    "import os\n",
    "os.remove('snorkel.db');\n",
    "os.system('cp snorkel.db\\ featurized snorkel.db');\n",
    "\n",
    "from snorkel import SnorkelSession\n",
    "session = SnorkelSession()\n",
    "\n",
    "from snorkel.models import candidate_subclass\n",
    "Part_Temp = candidate_subclass('Part_Temp', ['part','temp'])\n",
    "\n",
    "from snorkel.models import CandidateSet\n",
    "train = session.query(CandidateSet).filter(\n",
    "    CandidateSet.name == 'Hardware Training Candidates').one()"
   ]
  },
  {
   "cell_type": "code",
   "execution_count": null,
   "metadata": {
    "collapsed": false
   },
   "outputs": [],
   "source": [
    "from snorkel.annotations import LabelManager\n",
    "\n",
    "label_manager = LabelManager()"
   ]
  },
  {
   "cell_type": "markdown",
   "metadata": {},
   "source": [
    "### Defining Labeling Functions"
   ]
  },
  {
   "cell_type": "code",
   "execution_count": null,
   "metadata": {
    "collapsed": false
   },
   "outputs": [],
   "source": [
    "from snorkel.lf_helpers import *\n",
    "\n",
    "LFs = []\n",
    "\n",
    "# gold_file = os.environ['SNORKELHOME'] + '/tutorials/tables/data/hardware/hardware_gold.csv'\n",
    "# def LF_training_gold(c):\n",
    "#     training_gold_dict = get_gold_dict(gold_file, 'stg_temp_min')\n",
    "#     return 1 if ((c[0].parent.document.name).upper(), \n",
    "#                  (c[0].get_span()).upper(), \n",
    "#                  (''.join(c[1].get_span().split())).upper()) in training_gold_dict else 0\n",
    "# LFs.append(LF_training_gold)\n",
    "\n",
    "# from hardware_utils import load_extended_parts_dict\n",
    "# gold_file ='data/hardware/hardware_gold.csv'\n",
    "# parts_dict = load_extended_parts_dict(gold_file)\n",
    "# print \"Loaded %d part numbers.\" % len(parts_dict)\n",
    "\n",
    "# def LF_parts_dict(c):\n",
    "#     return 1 if (c.temp.parent.words)[0] in parts_dict else -1\n",
    "# LFs.append(LF_foo)\n",
    "\n",
    "# POSITIVE\n",
    "\n",
    "def LF_to_right(c):\n",
    "    return 1 if 'to' in get_right_ngrams(c.temp, window=1, n_max=1) else 0\n",
    "LFs.append(LF_to_right)\n",
    "\n",
    "def LF_150_right(c):\n",
    "    return 1 if '150' in get_right_ngrams(c.temp, window=4, n_max=1) else 0\n",
    "LFs.append(LF_150_right)\n",
    "\n",
    "def LF_storage_row(c):\n",
    "    return 1 if 'storage' in get_row_ngrams(c.temp, n_max=2) else 0\n",
    "LFs.append(LF_storage_row)\n",
    "\n",
    "def LF_operating_row(c):\n",
    "    return 1 if 'operating' in get_row_ngrams(c.temp, n_max=2) else 0\n",
    "LFs.append(LF_operating_row)\n",
    "\n",
    "def LF_c_row(c):\n",
    "    return 1 if '%C' in get_row_ngrams(c.temp, n_min=1, n_max=2, case_sensitive=True) else 0\n",
    "LFs.append(LF_c_row)\n",
    "\n",
    "def LF_temperature_row(c):\n",
    "    return 1 if 'temperature' in get_row_ngrams(c.temp) else 0\n",
    "LFs.append(LF_temperature_row)\n",
    "\n",
    "def LF_tstg_row(c):\n",
    "    row_ngrams = get_row_ngrams(c.temp, n_max=1)\n",
    "    return 1 if ('tstg' in row_ngrams or 'ts' in row_ngrams) else 0\n",
    "LFs.append(LF_tstg_row)\n",
    "\n",
    "\n",
    "# NEGATIVE\n",
    "\n",
    "def LF_temp_outside_table(c):\n",
    "    return -1 if c.temp.parent.table is None else 0\n",
    "LFs.append(LF_temp_outside_table)\n",
    "\n",
    "def LF_vsomething_row(c):\n",
    "    return -1 if 'V%' in get_row_ngrams(c.temp, infer=True) else 0\n",
    "LFs.append(LF_vsomething_row)\n",
    "\n",
    "def LF_collector_row(c):\n",
    "    return -1 if 'collector' in get_row_ngrams(c.temp) else 0\n",
    "LFs.append(LF_collector_row)\n",
    "\n",
    "def LF_collectorattrib_row(c):\n",
    "    return -1 if 'collector%' in get_row_ngrams(c.temp) else 0\n",
    "LFs.append(LF_collectorattrib_row)\n",
    "\n",
    "def LF_typ_row(c):\n",
    "    return -1 if 'typ' in get_row_ngrams(c.temp) else 0\n",
    "LFs.append(LF_collector_row)\n",
    "\n",
    "def LF_complement_left(c):\n",
    "    return -1 if 'complement' in get_left_ngrams(c.part) else 0\n",
    "LFs.append(LF_complement_left)\n",
    "\n",
    "def LF_voltage_row(c):\n",
    "    return -1 if 'voltage' in get_row_ngrams(c.temp, infer=True) else 0\n",
    "LFs.append(LF_voltage_row)\n",
    "\n",
    "def LF_v_row(c):\n",
    "    return -1 if 'v' in get_row_ngrams(c.temp, infer=True) else 0\n",
    "LFs.append(LF_v_row)\n",
    "\n",
    "def LF_vceo_row(c):\n",
    "    return -1 if 'vceo' in get_row_ngrams(c.temp, infer=True) else 0\n",
    "LFs.append(LF_vceo_row)\n",
    "\n",
    "def LF_mindot_row(c):\n",
    "    return -1 if 'min.' in get_col_ngrams(c.temp) else 0\n",
    "LFs.append(LF_mindot_row)\n",
    "\n",
    "def LF_min_row(c):\n",
    "    return -1 if 'min' in get_col_ngrams(c.temp) else 0\n",
    "LFs.append(LF_min_row)\n",
    "\n",
    "def LF_test_row(c):\n",
    "    return -1 if 'test' in get_row_ngrams(c.temp, infer=True) else 0\n",
    "LFs.append(LF_test_row)\n",
    "\n",
    "def LF_condition_row(c):\n",
    "    return -1 if 'condition' in get_row_ngrams(c.temp, infer=True) else 0\n",
    "LFs.append(LF_condition_row)"
   ]
  },
  {
   "cell_type": "markdown",
   "metadata": {},
   "source": [
    "### Testing LFs and LF_helpers"
   ]
  },
  {
   "cell_type": "code",
   "execution_count": null,
   "metadata": {
    "collapsed": false
   },
   "outputs": [],
   "source": [
    "from snorkel.lf_helpers import get_right_ngrams, get_left_ngrams\n",
    "from snorkel.lf_helpers import contains_token, contains_regex\n",
    "from snorkel.lf_helpers import get_phrase_ngrams, get_cell_ngrams, get_neighbor_cell_ngrams\n",
    "from snorkel.lf_helpers import get_row_ngrams, get_col_ngrams, get_aligned_ngrams\n",
    "from snorkel.lf_helpers import same_document, same_table, same_cell, same_phrase\n",
    "c = train[12]\n",
    "print c.part\n",
    "print c.temp\n",
    "print c.temp.parent\n",
    "print c.temp.parent.table\n",
    "print same_document(c)\n",
    "print same_table(c)\n",
    "print contains_regex(c, rgx=r'849')\n",
    "print LF_temp_outside_table(c)"
   ]
  },
  {
   "cell_type": "code",
   "execution_count": null,
   "metadata": {
    "collapsed": false,
    "scrolled": true
   },
   "outputs": [],
   "source": [
    "%time L_train = label_manager.create(session, train, 'LF Labels', f=LFs)\n",
    "L_train"
   ]
  },
  {
   "cell_type": "code",
   "execution_count": null,
   "metadata": {
    "collapsed": true
   },
   "outputs": [],
   "source": [
    "train_gold = session.query(CandidateSet).filter(\n",
    "    CandidateSet.name == 'Hardware Training Candidates -- Gold').one()"
   ]
  },
  {
   "cell_type": "code",
   "execution_count": null,
   "metadata": {
    "collapsed": false,
    "scrolled": false
   },
   "outputs": [],
   "source": [
    "# L_train.lf_stats()\n",
    "%time L_train.lf_stats(train_gold)"
   ]
  },
  {
   "cell_type": "code",
   "execution_count": null,
   "metadata": {
    "collapsed": true
   },
   "outputs": [],
   "source": [
    "# If necessary\n",
    "import os\n",
    "os.system('cp snorkel.db snorkel.db\\ features');"
   ]
  },
  {
   "cell_type": "markdown",
   "metadata": {},
   "source": [
    "Next, in Part 5, we will test our model on the development `CandidateSet`."
   ]
  },
  {
   "cell_type": "markdown",
   "metadata": {},
   "source": [
    "# TEMPORARY"
   ]
  },
  {
   "cell_type": "code",
   "execution_count": null,
   "metadata": {
    "collapsed": false
   },
   "outputs": [],
   "source": [
    "# from snorkel.models import Corpus\n",
    "# from snorkel.utils import get_ORM_instance\n",
    "# corpus = get_ORM_instance(Corpus, session, 'Hardware')\n",
    "\n",
    "# for d in corpus:\n",
    "#     if d.name == 'PHGLS18216-1':\n",
    "#         doc = d\n",
    "# print doc"
   ]
  },
  {
   "cell_type": "code",
   "execution_count": null,
   "metadata": {
    "collapsed": false
   },
   "outputs": [],
   "source": [
    "# for phrase in doc.phrases:\n",
    "#     for ngram in tokens_to_ngrams(phrase.words, n_max=2, n_min=2):\n",
    "#         if ngram == '- C':\n",
    "#             import pdb; pdb.set_trace()"
   ]
  },
  {
   "cell_type": "code",
   "execution_count": null,
   "metadata": {
    "collapsed": true
   },
   "outputs": [],
   "source": []
  }
 ],
 "metadata": {
  "anaconda-cloud": {},
  "kernelspec": {
   "display_name": "Python 2",
   "language": "python",
   "name": "python2"
  },
  "language_info": {
   "codemirror_mode": {
    "name": "ipython",
    "version": 2
   },
   "file_extension": ".py",
   "mimetype": "text/x-python",
   "name": "python",
   "nbconvert_exporter": "python",
   "pygments_lexer": "ipython2",
   "version": "2.7.12"
  }
 },
 "nbformat": 4,
 "nbformat_minor": 0
}
