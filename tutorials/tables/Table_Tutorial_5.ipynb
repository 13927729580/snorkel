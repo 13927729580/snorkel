{
 "cells": [
  {
   "cell_type": "markdown",
   "metadata": {},
   "source": [
    "## Part V: Training a Model with Data Programming"
   ]
  },
  {
   "cell_type": "code",
   "execution_count": 1,
   "metadata": {
    "collapsed": false
   },
   "outputs": [],
   "source": [
    "# If necessary:\n",
    "import os\n",
    "os.remove('snorkel.db');\n",
    "os.system('cp snorkel.db\\ features snorkel.db');"
   ]
  },
  {
   "cell_type": "code",
   "execution_count": 2,
   "metadata": {
    "collapsed": false
   },
   "outputs": [
    {
     "name": "stdout",
     "output_type": "stream",
     "text": [
      "The autoreload extension is already loaded. To reload it, use:\n",
      "  %reload_ext autoreload\n"
     ]
    }
   ],
   "source": [
    "%load_ext autoreload\n",
    "%autoreload 2\n",
    "\n",
    "from snorkel import SnorkelSession\n",
    "session = SnorkelSession()"
   ]
  },
  {
   "cell_type": "code",
   "execution_count": 3,
   "metadata": {
    "collapsed": false
   },
   "outputs": [],
   "source": [
    "from snorkel.models import candidate_subclass\n",
    "\n",
    "Part_Temp = candidate_subclass('Part_Temp', ['part','temp'])"
   ]
  },
  {
   "cell_type": "markdown",
   "metadata": {},
   "source": [
    "### Loading the `CandidateSet`, feature matrix, and label matrix"
   ]
  },
  {
   "cell_type": "code",
   "execution_count": 4,
   "metadata": {
    "collapsed": false
   },
   "outputs": [],
   "source": [
    "from snorkel.models import CandidateSet\n",
    "train = session.query(CandidateSet).filter(\n",
    "    CandidateSet.name == 'Hardware Training Candidates').one()"
   ]
  },
  {
   "cell_type": "code",
   "execution_count": 5,
   "metadata": {
    "collapsed": false
   },
   "outputs": [
    {
     "name": "stdout",
     "output_type": "stream",
     "text": [
      "CPU times: user 3min 48s, sys: 36.7 s, total: 4min 25s\n",
      "Wall time: 4min 48s\n"
     ]
    }
   ],
   "source": [
    "from snorkel.annotations import FeatureManager\n",
    "\n",
    "feature_manager = FeatureManager()\n",
    "\n",
    "%time F_train = feature_manager.load(session, train, 'Train Features')"
   ]
  },
  {
   "cell_type": "code",
   "execution_count": 6,
   "metadata": {
    "collapsed": false
   },
   "outputs": [
    {
     "name": "stdout",
     "output_type": "stream",
     "text": [
      "CPU times: user 2.83 s, sys: 218 ms, total: 3.05 s\n",
      "Wall time: 3.22 s\n"
     ]
    }
   ],
   "source": [
    "from snorkel.annotations import LabelManager\n",
    "\n",
    "label_manager = LabelManager()\n",
    "\n",
    "%time L_train = label_manager.load(session, train, 'LF Labels')"
   ]
  },
  {
   "cell_type": "markdown",
   "metadata": {},
   "source": [
    "## Train Generative Model"
   ]
  },
  {
   "cell_type": "code",
   "execution_count": 7,
   "metadata": {
    "collapsed": false
   },
   "outputs": [
    {
     "name": "stdout",
     "output_type": "stream",
     "text": [
      "================================================================================\n",
      "Training marginals (!= 0.5):\t75908\n",
      "Features:\t\t\t9\n",
      "================================================================================\n",
      "Begin training for rate=0.01, mu=1e-06\n",
      "\tLearning epoch = 0\tGradient mag. = 0.333918\n",
      "\tLearning epoch = 250\tGradient mag. = 0.401045\n",
      "\tLearning epoch = 500\tGradient mag. = 0.473478\n",
      "\tLearning epoch = 750\tGradient mag. = 0.511538\n",
      "\tLearning epoch = 1000\tGradient mag. = 0.492912\n",
      "\tLearning epoch = 1250\tGradient mag. = 0.460678\n",
      "\tLearning epoch = 1500\tGradient mag. = 0.453865\n",
      "\tLearning epoch = 1750\tGradient mag. = 0.472802\n",
      "\tLearning epoch = 2000\tGradient mag. = 0.463477\n",
      "\tLearning epoch = 2250\tGradient mag. = 0.414402\n",
      "\tLearning epoch = 2500\tGradient mag. = 0.357512\n",
      "\tLearning epoch = 2750\tGradient mag. = 0.311973\n",
      "\tLearning epoch = 3000\tGradient mag. = 0.275074\n",
      "\tLearning epoch = 3250\tGradient mag. = 0.244758\n",
      "\tLearning epoch = 3500\tGradient mag. = 0.219472\n",
      "\tLearning epoch = 3750\tGradient mag. = 0.198067\n",
      "\tLearning epoch = 4000\tGradient mag. = 0.179700\n",
      "\tLearning epoch = 4250\tGradient mag. = 0.163749\n",
      "\tLearning epoch = 4500\tGradient mag. = 0.149761\n",
      "\tLearning epoch = 4750\tGradient mag. = 0.137396\n",
      "\tLearning epoch = 5000\tGradient mag. = 0.126400\n",
      "\tLearning epoch = 5250\tGradient mag. = 0.116577\n",
      "\tLearning epoch = 5500\tGradient mag. = 0.107774\n",
      "\tLearning epoch = 5750\tGradient mag. = 0.099869\n",
      "\tLearning epoch = 6000\tGradient mag. = 0.092760\n",
      "\tLearning epoch = 6250\tGradient mag. = 0.086365\n",
      "\tLearning epoch = 6500\tGradient mag. = 0.080612\n",
      "\tLearning epoch = 6750\tGradient mag. = 0.075440\n",
      "\tLearning epoch = 7000\tGradient mag. = 0.070794\n",
      "\tLearning epoch = 7250\tGradient mag. = 0.066626\n",
      "\tLearning epoch = 7500\tGradient mag. = 0.062892\n",
      "\tLearning epoch = 7750\tGradient mag. = 0.059553\n",
      "\tLearning epoch = 8000\tGradient mag. = 0.056573\n",
      "\tLearning epoch = 8250\tGradient mag. = 0.053918\n",
      "\tLearning epoch = 8500\tGradient mag. = 0.051559\n",
      "\tLearning epoch = 8750\tGradient mag. = 0.049466\n",
      "\tLearning epoch = 9000\tGradient mag. = 0.047613\n",
      "\tLearning epoch = 9250\tGradient mag. = 0.045976\n",
      "\tLearning epoch = 9500\tGradient mag. = 0.044532\n",
      "\tLearning epoch = 9750\tGradient mag. = 0.043262\n",
      "\tLearning epoch = 10000\tGradient mag. = 0.042146\n",
      "\tLearning epoch = 10250\tGradient mag. = 0.041167\n",
      "\tLearning epoch = 10500\tGradient mag. = 0.040310\n",
      "\tLearning epoch = 10750\tGradient mag. = 0.039559\n",
      "\tLearning epoch = 11000\tGradient mag. = 0.038903\n",
      "\tLearning epoch = 11250\tGradient mag. = 0.038331\n",
      "\tLearning epoch = 11500\tGradient mag. = 0.037514\n",
      "\tLearning epoch = 11750\tGradient mag. = 0.036517\n",
      "\tLearning epoch = 12000\tGradient mag. = 0.035574\n",
      "\tLearning epoch = 12250\tGradient mag. = 0.034678\n",
      "\tLearning epoch = 12500\tGradient mag. = 0.033826\n",
      "\tLearning epoch = 12750\tGradient mag. = 0.033014\n",
      "\tLearning epoch = 13000\tGradient mag. = 0.032237\n",
      "\tLearning epoch = 13250\tGradient mag. = 0.031492\n",
      "\tLearning epoch = 13500\tGradient mag. = 0.030778\n",
      "\tLearning epoch = 13750\tGradient mag. = 0.030091\n",
      "\tLearning epoch = 14000\tGradient mag. = 0.029429\n",
      "\tLearning epoch = 14250\tGradient mag. = 0.028790\n",
      "\tLearning epoch = 14500\tGradient mag. = 0.028173\n",
      "\tLearning epoch = 14750\tGradient mag. = 0.027575\n",
      "Final gradient magnitude for rate=0.01, mu=1e-06: 0.027\n"
     ]
    }
   ],
   "source": [
    "from snorkel.learning import NaiveBayes\n",
    "\n",
    "gen_model = NaiveBayes()\n",
    "# gen_model.train(L_train, n_iter=3000, rate=1e-5)\n",
    "gen_model.train(L_train, n_iter=15000, rate=1e-2)"
   ]
  },
  {
   "cell_type": "code",
   "execution_count": 8,
   "metadata": {
    "collapsed": false
   },
   "outputs": [],
   "source": [
    "gen_model.save(session, 'Generative Params')"
   ]
  },
  {
   "cell_type": "code",
   "execution_count": 9,
   "metadata": {
    "collapsed": true
   },
   "outputs": [],
   "source": [
    "train_marginals = gen_model.marginals(L_train)"
   ]
  },
  {
   "cell_type": "markdown",
   "metadata": {},
   "source": [
    "## Train Discriminative Model"
   ]
  },
  {
   "cell_type": "code",
   "execution_count": 10,
   "metadata": {
    "collapsed": false
   },
   "outputs": [
    {
     "name": "stdout",
     "output_type": "stream",
     "text": [
      "================================================================================\n",
      "Training marginals (!= 0.5):\t75908\n",
      "Features:\t\t\t24073\n",
      "================================================================================\n",
      "Using gradient descent...\n",
      "\tLearning epoch = 0\tStep size = 0.001\n",
      "\tLoss = 52615.416182\tGradient magnitude = 126254.675834\n",
      "\tLearning epoch = 100\tStep size = 0.000904792147114\n",
      "\tLoss = inf\tGradient magnitude = 377.806667\n",
      "\tLearning epoch = 200\tStep size = 0.000818648829479\n",
      "\tLoss = inf\tGradient magnitude = 366.482727\n",
      "\tLearning epoch = 300\tStep size = 0.000740707032156\n",
      "\tLoss = inf\tGradient magnitude = 286.995481\n",
      "\tLearning epoch = 400\tStep size = 0.000670185906007\n",
      "\tLoss = inf\tGradient magnitude = 230.197220\n",
      "\tLearning epoch = 500\tStep size = 0.000606378944861\n",
      "\tLoss = inf\tGradient magnitude = 200.702270\n",
      "\tLearning epoch = 600\tStep size = 0.000548646907485\n",
      "\tLoss = inf\tGradient magnitude = 105.741497\n",
      "\tLearning epoch = 700\tStep size = 0.000496411413431\n",
      "\tLoss = inf\tGradient magnitude = 238.286145\n",
      "\tLearning epoch = 800\tStep size = 0.00044914914861\n",
      "\tLoss = inf\tGradient magnitude = 85.186766\n",
      "\tLearning epoch = 900\tStep size = 0.000406386622545\n",
      "\tLoss = inf\tGradient magnitude = 77.240552\n"
     ]
    }
   ],
   "source": [
    "from snorkel.learning import LogReg\n",
    "\n",
    "disc_model = LogReg()\n",
    "disc_model.train(F_train, train_marginals, n_iter=1000, rate=1e-3)"
   ]
  },
  {
   "cell_type": "code",
   "execution_count": 11,
   "metadata": {
    "collapsed": false
   },
   "outputs": [
    {
     "data": {
      "text/plain": [
       "(24073,)"
      ]
     },
     "execution_count": 11,
     "metadata": {},
     "output_type": "execute_result"
    }
   ],
   "source": [
    "disc_model.w.shape"
   ]
  },
  {
   "cell_type": "code",
   "execution_count": 12,
   "metadata": {
    "collapsed": false
   },
   "outputs": [
    {
     "name": "stdout",
     "output_type": "stream",
     "text": [
      "CPU times: user 4.33 s, sys: 184 ms, total: 4.52 s\n",
      "Wall time: 4.74 s\n"
     ]
    }
   ],
   "source": [
    "%time disc_model.save(session, \"Discriminative Params\")"
   ]
  },
  {
   "cell_type": "markdown",
   "metadata": {},
   "source": [
    "## Assess Performance on Development Set"
   ]
  },
  {
   "cell_type": "code",
   "execution_count": 13,
   "metadata": {
    "collapsed": false
   },
   "outputs": [],
   "source": [
    "from snorkel.models import CandidateSet\n",
    "dev = session.query(CandidateSet).filter(\n",
    "    CandidateSet.name == 'Hardware Development Candidates').one()"
   ]
  },
  {
   "cell_type": "markdown",
   "metadata": {},
   "source": [
    "### Loading the Development Feature Matrix"
   ]
  },
  {
   "cell_type": "code",
   "execution_count": 14,
   "metadata": {
    "collapsed": false
   },
   "outputs": [
    {
     "name": "stdout",
     "output_type": "stream",
     "text": [
      "CPU times: user 2min 14s, sys: 49 s, total: 3min 3s\n",
      "Wall time: 3min 28s\n"
     ]
    }
   ],
   "source": [
    "from snorkel.annotations import FeatureManager\n",
    "\n",
    "feature_manager = FeatureManager()\n",
    "%time F_dev = feature_manager.load(session, dev, 'Train Features')"
   ]
  },
  {
   "cell_type": "code",
   "execution_count": 15,
   "metadata": {
    "collapsed": false
   },
   "outputs": [],
   "source": [
    "L_dev = label_manager.load(session, dev, \"Hardware Development Labels -- Gold\")"
   ]
  },
  {
   "cell_type": "code",
   "execution_count": 16,
   "metadata": {
    "collapsed": false
   },
   "outputs": [],
   "source": [
    "gold_dev_set = session.query(CandidateSet).filter(\n",
    "    CandidateSet.name == 'Hardware Development Candidates -- Gold').one()"
   ]
  },
  {
   "cell_type": "code",
   "execution_count": 17,
   "metadata": {
    "collapsed": false
   },
   "outputs": [
    {
     "data": {
      "text/plain": [
       "(18971, 24073)"
      ]
     },
     "execution_count": 17,
     "metadata": {},
     "output_type": "execute_result"
    }
   ],
   "source": [
    "F_dev.shape"
   ]
  },
  {
   "cell_type": "code",
   "execution_count": 18,
   "metadata": {
    "collapsed": false,
    "scrolled": true
   },
   "outputs": [
    {
     "name": "stdout",
     "output_type": "stream",
     "text": [
      "Calibration plot:\n",
      "========================================\n",
      "Recall-corrected Noise-aware Model\n",
      "========================================\n",
      "Pos. class accuracy: 0.554520692382\n",
      "Neg. class accuracy: 0.698418972332\n",
      "Corpus Precision 0.734\n",
      "Corpus Recall    0.555\n",
      "Corpus F1        0.632\n",
      "----------------------------------------\n",
      "TP: 6311 | FP: 2289 | TN: 5301 | FN: 5070\n",
      "========================================\n",
      "\n",
      "========================================\n",
      "Recall-corrected Noise-aware Model\n",
      "========================================\n",
      "Pos. class accuracy: 0.554520692382\n",
      "Neg. class accuracy: 0.698418972332\n",
      "Corpus Precision 0.734\n",
      "Corpus Recall    0.555\n",
      "Corpus F1        0.632\n",
      "----------------------------------------\n",
      "TP: 6311 | FP: 2289 | TN: 5301 | FN: 5070\n",
      "========================================\n",
      "\n"
     ]
    },
    {
     "name": "stderr",
     "output_type": "stream",
     "text": [
      "/Users/bradenhancock/anaconda/lib/python2.7/site-packages/numpy/core/_methods.py:59: RuntimeWarning: Mean of empty slice.\n",
      "  warnings.warn(\"Mean of empty slice.\", RuntimeWarning)\n"
     ]
    }
   ],
   "source": [
    "tp, fp, tn, fn = disc_model.score(F_dev, L_dev, gold_dev_set)"
   ]
  },
  {
   "cell_type": "code",
   "execution_count": 19,
   "metadata": {
    "collapsed": false
   },
   "outputs": [],
   "source": [
    "from hardware_utils import part_error_analysis, table_info\n",
    "#     print c[0]\n",
    "#     print c[0].parent\n",
    "#     print (c[0].parent.row_num, c[0].parent.col_num)\n",
    "#     print c[1]\n",
    "#     print c[1].parent\n",
    "#     print (c[1].parent.row_num, c[1].parent.col_num)"
   ]
  },
  {
   "cell_type": "code",
   "execution_count": 20,
   "metadata": {
    "collapsed": false
   },
   "outputs": [],
   "source": [
    "# for c in list(fp)[:5]:\n",
    "#     print c\n",
    "# c = list(fp)[10]\n",
    "# error_analysis(c)\n",
    "# c = list(fp)[10]\n",
    "# part_error_analysis(c)\n",
    "# print c.temp.parent.row_num\n",
    "\n",
    "# for c in list(fp)[:5]:\n",
    "#     print c\n",
    "# print c.temp.parent.html_anc_tags"
   ]
  },
  {
   "cell_type": "code",
   "execution_count": 21,
   "metadata": {
    "collapsed": false
   },
   "outputs": [
    {
     "name": "stdout",
     "output_type": "stream",
     "text": [
      "========================================\n",
      "Scoring on Entity-Level Gold Data\n",
      "========================================\n",
      "Corpus Precision 0.749\n",
      "Corpus Recall    0.98\n",
      "Corpus F1        0.849\n",
      "----------------------------------------\n",
      "TP: 149 | FP: 50 | FN: 3\n",
      "========================================\n",
      "\n"
     ]
    }
   ],
   "source": [
    "from snorkel.models import Corpus\n",
    "from hardware_utils import entity_level_f1\n",
    "import os\n",
    "\n",
    "gold_file = os.environ['SNORKELHOME'] + '/tutorials/tables/data/hardware/hardware_gold.csv'\n",
    "corpus = session.query(Corpus).filter(Corpus.name == 'Hardware Development').one()\n",
    "(TP, FP, FN) = entity_level_f1(tp, fp, tn, fn, gold_file, corpus, 'stg_temp_min')"
   ]
  },
  {
   "cell_type": "code",
   "execution_count": 24,
   "metadata": {
    "collapsed": false
   },
   "outputs": [
    {
     "name": "stdout",
     "output_type": "stream",
     "text": [
      "set([('PNJIS00254-1', 'BC807-16W', '-55'), ('PNJIS00254-1', 'BC807-25W', '-55'), ('PNJIS00254-1', 'BC807-40W', '-55')])\n"
     ]
    }
   ],
   "source": [
    "print FN"
   ]
  },
  {
   "cell_type": "code",
   "execution_count": 22,
   "metadata": {
    "collapsed": false
   },
   "outputs": [
    {
     "name": "stdout",
     "output_type": "stream",
     "text": [
      "set([(u'PNJIS01593-1', u'BC858B', u'-65'), (u'PNJIS01593-1', u'BC857', u'-65'), (u'ONSMS04099-1', u'BC238C', u'-65'), (u'ZETXS01948-1', u'BC860C-4GZ', u'-65'), (u'ZETXS01948-1', u'BC857C-3G', u'-65'), (u'ZETXS01948-1', u'BC857B-3F', u'-65'), (u'ONSMS04099-1', u'BC238B', u'-65'), (u'ZETXS01948-1', u'BC860A-Z4E', u'-65'), (u'UTCLS02155-1', u'BC808-25', u'-50'), (u'UTCLS02155-1', u'BC808-40', u'-50'), (u'ZETXS01948-1', u'BC858B-3K', u'-65'), (u'ZETXS01948-1', u'BC856B-Z3B', u'-65'), (u'ZETXS01948-1', u'BC859B-4B', u'-65'), (u'PNJIS01593-1', u'BC857B', u'-65'), (u'ZETXS01948-1', u'BC858C-3L', u'-65'), (u'ZETXS01948-1', u'BC858', u'-65'), (u'UTCLS02155-1', u'BC807-16', u'-50'), (u'PNJIS01593-1', u'BC858C', u'-65'), (u'ZETXS01948-1', u'BC859', u'-65'), (u'UTCLS02155-1', u'BC807', u'-50'), (u'ONSMS04099-1', u'BC237A', u'-65'), (u'ZETXS01948-1', u'BC857', u'-65'), (u'PNJIS01593-1', u'BC859B', u'-65'), (u'ZETXS01948-1', u'BC858A-3J', u'-65'), (u'ONSMS04099-1', u'BC237B', u'-65'), (u'ZETXS01948-1', u'BC860', u'-65'), (u'PNJIS01593-1', u'BC859C', u'-65'), (u'ONSMS04099-1', u'BC239C', u'-65'), (u'ONSMS04099-1', u'BC237C', u'-65'), (u'PNJIS01593-1', u'BC856B', u'-65'), (u'PNJIS01593-1', u'BC859', u'-65'), (u'ZETXS01948-1', u'BC859C-Z4C', u'-65'), (u'UTCLS02155-1', u'BC807-25', u'-50'), (u'ONSMS04099-1', u'BC238', u'-65'), (u'PNJIS01593-1', u'BC857C', u'-65'), (u'ZETXS01948-1', u'BC857A-Z3E', u'-65'), (u'PNJIS01593-1', u'BC858A', u'-65'), (u'ONSMS04099-1', u'BC239', u'-65'), (u'UTCLS02155-1', u'BC808-16', u'-50'), (u'ZETXS01948-1', u'BC859A-Z4A', u'-65'), (u'PNJIS01593-1', u'BC858', u'-65'), (u'ZETXS01948-1', u'BC856', u'-65'), (u'PNJIS01593-1', u'BC857A', u'-65'), (u'ZETXS01948-1', u'BC860B-4F', u'-65'), (u'PNJIS01593-1', u'BC856A', u'-65'), (u'PNJIS01593-1', u'BC856', u'-65'), (u'UTCLS02155-1', u'BC808', u'-50'), (u'ZETXS01948-1', u'BC856A-3A', u'-65'), (u'ONSMS04099-1', u'BC237', u'-65'), (u'UTCLS02155-1', u'BC807-40', u'-50')])\n"
     ]
    }
   ],
   "source": [
    "print FP"
   ]
  },
  {
   "cell_type": "code",
   "execution_count": 23,
   "metadata": {
    "collapsed": true
   },
   "outputs": [],
   "source": [
    "import os\n",
    "os.system('cp snorkel.db snorkel.db\\ final');"
   ]
  },
  {
   "cell_type": "markdown",
   "metadata": {},
   "source": [
    "The End."
   ]
  }
 ],
 "metadata": {
  "anaconda-cloud": {},
  "kernelspec": {
   "display_name": "Python [default]",
   "language": "python",
   "name": "python2"
  },
  "language_info": {
   "codemirror_mode": {
    "name": "ipython",
    "version": 2
   },
   "file_extension": ".py",
   "mimetype": "text/x-python",
   "name": "python",
   "nbconvert_exporter": "python",
   "pygments_lexer": "ipython2",
   "version": "2.7.10"
  }
 },
 "nbformat": 4,
 "nbformat_minor": 0
}
