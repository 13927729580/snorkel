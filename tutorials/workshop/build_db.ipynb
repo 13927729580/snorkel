{
 "cells": [
  {
   "cell_type": "code",
   "execution_count": null,
   "metadata": {
    "collapsed": true,
    "deletable": true,
    "editable": true
   },
   "outputs": [],
   "source": [
    "import os\n",
    "from snorkel import SnorkelSession\n",
    "from snorkel.parser import CorpusParser\n",
    "from snorkel.parser import TSVDocPreprocessor\n",
    "from snorkel.models import Document, Sentence\n",
    "\n",
    "session = SnorkelSession()\n",
    "\n",
    "args.parser = \"corenlp\"\n",
    "\n",
    "\n",
    "\n",
    "doc_preprocessor = TSVDocPreprocessor('data/articles4.tsv', max_docs=max_docs)\n",
    "\n",
    "from snorkel.contrib.parser import *\n",
    "#parser = RuleBasedParser()\n",
    "#parser = Spacy()\n",
    "\n",
    "\n",
    "\n",
    "\n",
    "corpus_parser = CorpusParser()\n",
    "%time corpus_parser.apply(doc_preprocessor)\n",
    "\n",
    "\n",
    "\n",
    "print(\"Documents:\", session.query(Document).count())\n",
    "print(\"Sentences:\", session.query(Sentence).count())\n"
   ]
  }
 ],
 "metadata": {
  "kernelspec": {
   "display_name": "Python 2",
   "language": "python",
   "name": "python2"
  },
  "language_info": {
   "codemirror_mode": {
    "name": "ipython",
    "version": 2
   },
   "file_extension": ".py",
   "mimetype": "text/x-python",
   "name": "python",
   "nbconvert_exporter": "python",
   "pygments_lexer": "ipython2",
   "version": "2.7.13"
  }
 },
 "nbformat": 4,
 "nbformat_minor": 2
}
