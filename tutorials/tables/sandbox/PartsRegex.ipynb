{
 "cells": [
  {
   "cell_type": "code",
   "execution_count": 1,
   "metadata": {
    "collapsed": false
   },
   "outputs": [],
   "source": [
    "%load_ext autoreload\n",
    "%autoreload 2\n",
    "%matplotlib inline\n",
    "\n",
    "import os\n",
    "import sys\n",
    "sys.path.append(os.environ['SNORKELHOME'] + '/tutorials/tables/')"
   ]
  },
  {
   "cell_type": "markdown",
   "metadata": {},
   "source": [
    "### Parse"
   ]
  },
  {
   "cell_type": "code",
   "execution_count": 2,
   "metadata": {
    "collapsed": true
   },
   "outputs": [],
   "source": [
    "# try:\n",
    "#     os.remove('snorkel.db')\n",
    "# except:\n",
    "#     pass\n",
    "\n",
    "# from snorkel import SnorkelSession\n",
    "# session = SnorkelSession()"
   ]
  },
  {
   "cell_type": "code",
   "execution_count": 3,
   "metadata": {
    "collapsed": false
   },
   "outputs": [],
   "source": [
    "# import os\n",
    "# from snorkel.parser import CorpusParser, HTMLParser, OmniParser\n",
    "# from snorkel.utils import get_ORM_instance\n",
    "# from snorkel.queries import split_corpus\n",
    "\n",
    "# docs_path = os.environ['SNORKELHOME'] + '/tutorials/tables/data/hardware/dev/html/'\n",
    "# doc_parser = HTMLParser(path=docs_path)\n",
    "# context_parser = OmniParser(blacklist=['style'], \n",
    "#                             flatten=['span','br'], flatten_delim='',\n",
    "#                             tabular=True, visual=False, lingual=True)\n",
    "# cp = CorpusParser(doc_parser, context_parser, max_docs=125)\n",
    "\n",
    "# %time corpus = cp.parse_corpus(name='Hardware', session=session)\n",
    "\n",
    "# session.add(corpus)\n",
    "# session.commit()"
   ]
  },
  {
   "cell_type": "code",
   "execution_count": 4,
   "metadata": {
    "collapsed": true
   },
   "outputs": [],
   "source": [
    "# If necessary:\n",
    "# import os\n",
    "# os.system('cp snorkel.db snorkel.db\\ corpus');"
   ]
  },
  {
   "cell_type": "markdown",
   "metadata": {},
   "source": [
    "### Load"
   ]
  },
  {
   "cell_type": "code",
   "execution_count": 5,
   "metadata": {
    "collapsed": false
   },
   "outputs": [
    {
     "name": "stdout",
     "output_type": "stream",
     "text": [
      "Corpus (Hardware) contains 122 Documents\n"
     ]
    }
   ],
   "source": [
    "from snorkel.models import Corpus\n",
    "import os\n",
    "\n",
    "os.system('cp snorkel.db\\ corpus snorkel.db');\n",
    "from snorkel import SnorkelSession\n",
    "session = SnorkelSession()\n",
    "\n",
    "corpus = session.query(Corpus).filter(Corpus.name == 'Hardware').one()\n",
    "print \"%s contains %d Documents\" % (corpus, len(corpus))"
   ]
  },
  {
   "cell_type": "markdown",
   "metadata": {},
   "source": [
    "### 1st pass"
   ]
  },
  {
   "cell_type": "code",
   "execution_count": 6,
   "metadata": {
    "collapsed": false
   },
   "outputs": [],
   "source": [
    "# Make parts list\n",
    "from hardware_utils import get_gold_dict\n",
    "from collections import defaultdict\n",
    "gold_file = os.environ['SNORKELHOME'] + '/tutorials/tables/data/hardware/dev/hardware_dev_gold.csv'\n",
    "gold_parts = get_gold_dict(gold_file, doc_on=True, part_on=True, val_on=False)\n",
    "parts_by_doc = defaultdict(set)\n",
    "for part in gold_parts:\n",
    "    parts_by_doc[part[0]].add(part[1])"
   ]
  },
  {
   "cell_type": "markdown",
   "metadata": {},
   "source": [
    "### Extraction"
   ]
  },
  {
   "cell_type": "code",
   "execution_count": 7,
   "metadata": {
    "collapsed": false,
    "scrolled": true
   },
   "outputs": [],
   "source": [
    "from hardware_utils import OmniNgramsPart, load_extended_parts_dict, part_matcher\n",
    "from snorkel.models import candidate_subclass\n",
    "\n",
    "Part = candidate_subclass('Part', ['part'])\n",
    "part_ngrams = OmniNgramsPart(n_max=3, parts_by_doc=parts_by_doc)\n",
    "part_matcher = part_matcher()\n",
    "\n",
    "# from snorkel.matchers import RegexMatchSpan, Inverse, Intersect\n",
    "# long_enough = RegexMatchSpan(rgx='[A-Z1-2][A-Z0-9\\-]{4,}(?:\\/(?:DG|HF))?', ignore_case=False)\n",
    "# at_least_one_number = RegexMatchSpan(rgx='[A-Z0-9\\-\\/]*[0-9][A-Z0-9\\-\\/]*', ignore_case=False)\n",
    "# at_least_one_letter = RegexMatchSpan(rgx='[A-Z0-9\\-\\/]*[A-Z][A-Z0-9\\-\\/]*', ignore_case=False) \n",
    "# not_case_number = Inverse(RegexMatchSpan(rgx='TO-\\d+'))\n",
    "# part_matcher = Intersect(long_enough, at_least_one_number, at_least_one_letter, not_case_number)"
   ]
  },
  {
   "cell_type": "code",
   "execution_count": 8,
   "metadata": {
    "collapsed": false
   },
   "outputs": [],
   "source": [
    "from snorkel.candidates import CandidateExtractor\n",
    "\n",
    "ce = CandidateExtractor(Part, \n",
    "                        [part_ngrams], \n",
    "                        [part_matcher],\n",
    "                        throttler=None)"
   ]
  },
  {
   "cell_type": "code",
   "execution_count": 9,
   "metadata": {
    "collapsed": false,
    "scrolled": true
   },
   "outputs": [
    {
     "name": "stdout",
     "output_type": "stream",
     "text": [
      "[========================================] 100%\n",
      "CPU times: user 52.3 s, sys: 831 ms, total: 53.2 s\n",
      "Wall time: 53.8 s\n",
      "Candidate Set (Hardware Candidates) contains 13100 Candidates\n"
     ]
    }
   ],
   "source": [
    "%time candidates = ce.extract(corpus.documents, 'Hardware Candidates', session)\n",
    "print \"%s contains %d Candidates\" % (candidates, len(candidates))"
   ]
  },
  {
   "cell_type": "code",
   "execution_count": 10,
   "metadata": {
    "collapsed": false
   },
   "outputs": [],
   "source": [
    "# eeca_rgx = '([ABC][A-Z][WXYZ]?[0-9]{3,5}(?:[A-Z]){0,5}[0-9]?[A-Z]?(?:-[A-Z0-9]{1,7})?(?:[-][A-Z0-9]{1,2})?)'\n",
    "# jedec_rgx = '([123]N\\d{3,4}[A-Z]{0,5}[0-9]?[A-Z]?)'\n",
    "# print '|'.join([eeca_rgx, jedec_rgx])"
   ]
  },
  {
   "cell_type": "markdown",
   "metadata": {},
   "source": [
    "### Evaluation"
   ]
  },
  {
   "cell_type": "code",
   "execution_count": 11,
   "metadata": {
    "collapsed": false
   },
   "outputs": [
    {
     "name": "stdout",
     "output_type": "stream",
     "text": [
      "949 gold parts loaded\n"
     ]
    }
   ],
   "source": [
    "from hardware_utils import get_gold_dict\n",
    "\n",
    "gold_file = os.environ['SNORKELHOME'] + '/tutorials/tables/data/hardware/dev/hardware_dev_gold.csv'\n",
    "gold_parts = get_gold_dict(gold_file, doc_on=True, part_on=True, val_on=False)\n",
    "print \"%d gold parts loaded\" % len(gold_parts)"
   ]
  },
  {
   "cell_type": "code",
   "execution_count": 12,
   "metadata": {
    "collapsed": false
   },
   "outputs": [
    {
     "name": "stdout",
     "output_type": "stream",
     "text": [
      "========================================\n",
      "Scoring on Entity-Level Gold Data\n",
      "========================================\n",
      "Corpus Precision 0.607\n",
      "Corpus Recall    0.927\n",
      "Corpus F1        0.734\n",
      "----------------------------------------\n",
      "TP: 880 | FP: 569 | FN: 69\n",
      "========================================\n",
      "\n",
      "CPU times: user 46.6 s, sys: 1.14 s, total: 47.7 s\n",
      "Wall time: 48.3 s\n"
     ]
    }
   ],
   "source": [
    "from hardware_utils import parts_f1\n",
    "\n",
    "%time tp, fp, fn = parts_f1(candidates, gold_parts)"
   ]
  },
  {
   "cell_type": "code",
   "execution_count": 13,
   "metadata": {
    "collapsed": false,
    "scrolled": false
   },
   "outputs": [
    {
     "name": "stdout",
     "output_type": "stream",
     "text": [
      "[('CENTRALSEMICONDUCTORCORP_CENU45', 'CEN-U45'),\n",
      " ('CENTRALSEMICONDUCTORCORP_CMPT5401ETR', 'CMPT5401E'),\n",
      " ('CENTRALSEMICONDUCTORCORP_CXT4033TR', 'CXT4033'),\n",
      " ('DIODESINCORPORATED_2DD26527', '2DD2652'),\n",
      " ('DIODESINCORPORATED_2DD26527', '2DD2652-7'),\n",
      " ('DIODESINCORPORATED_FCX491ATA', 'FCX491A'),\n",
      " ('DIODESINCORPORATED_ZXT690BKTC', 'ZXT690BKQTC'),\n",
      " ('DIODESINCORPORATED_ZXT690BKTC', 'ZXT690BKTC'),\n",
      " ('FAIRCHILDSEMICONDUCTOR_KSC2310YTA', 'KSC2310'),\n",
      " ('FAIRCHILDSEMICONDUCTOR_KSC2310YTA', 'KSC2310O'),\n",
      " ('FAIRCHILDSEMICONDUCTOR_KSC2310YTA', 'KSC2310R'),\n",
      " ('FAIRCHILDSEMICONDUCTOR_KSC2310YTA', 'KSC2310Y'),\n",
      " ('MICROCOMMERCIALCO_2N3904AP', '2N3904-AP'),\n",
      " ('MICROCOMMERCIALCO_2N3904AP', '2N3904-AP-HF'),\n",
      " ('MICROCOMMERCIALCO_2N3904AP', '2N3904-BP'),\n",
      " ('MICROCOMMERCIALCO_2N3904AP', '2N3904-BP-HF'),\n",
      " ('MICROCOMMERCIALCO_TIP29ABP', 'TIP29A-BP-HF'),\n",
      " ('MICROCOMMERCIALCO_TIP29ABP', 'TIP29B-BP-HF'),\n",
      " ('MICROCOMMERCIALCO_TIP29ABP', 'TIP29C-BP-HF'),\n",
      " ('MICROCOMMERCIALCO_TIP29ABP', 'TIP30A-BP-HF'),\n",
      " ('MICROCOMMERCIALCO_TIP29ABP', 'TIP30B-BP-HF'),\n",
      " ('MICROCOMMERCIALCO_TIP29ABP', 'TIP30C-BP-HF'),\n",
      " ('NXPUSAINC_PBSS5360PASX', 'PBSS5360PAS'),\n",
      " ('ONSEMICONDUCTOR_MMBT6521LT1', 'MMBT6521LT1G'),\n",
      " ('ONSEMICONDUCTOR_MMBT6521LT1', 'MMBT6521LT1G,'),\n",
      " ('ONSEMICONDUCTOR_MMBT6521LT1', 'SMMBT6521LT1G'),\n",
      " ('SAMSD00049-518', 'BC546'),\n",
      " ('SAMSD00049-518', 'BC546A'),\n",
      " ('SAMSD00049-518', 'BC546B'),\n",
      " ('SAMSD00049-518', 'BC546C'),\n",
      " ('SAMSD00049-518', 'BC547'),\n",
      " ('SAMSD00049-518', 'BC547A'),\n",
      " ('SAMSD00049-518', 'BC547B'),\n",
      " ('SAMSD00049-518', 'BC547C'),\n",
      " ('SAMSD00049-518', 'BC548'),\n",
      " ('SAMSD00049-518', 'BC548A'),\n",
      " ('SAMSD00049-518', 'BC548B'),\n",
      " ('SAMSD00049-518', 'BC548C'),\n",
      " ('SAMSD00049-518', 'BC549'),\n",
      " ('SAMSD00049-518', 'BC549A'),\n",
      " ('SAMSD00049-518', 'BC549B'),\n",
      " ('SAMSD00049-518', 'BC549C'),\n",
      " ('SAMSD00049-518', 'BC550'),\n",
      " ('SAMSD00049-518', 'BC550A'),\n",
      " ('SAMSD00049-518', 'BC550B'),\n",
      " ('SAMSD00049-518', 'BC550C'),\n",
      " ('SANKEN_STD01N', 'STD01N'),\n",
      " ('SANKEN_STD01N', 'STD01P'),\n",
      " ('SIEMS01215-1', 'BC856'),\n",
      " ('SIEMS01215-1', 'BC856A'),\n",
      " ('SIEMS01215-1', 'BC856B'),\n",
      " ('SIEMS01215-1', 'BC857'),\n",
      " ('SIEMS01215-1', 'BC857A'),\n",
      " ('SIEMS01215-1', 'BC857B'),\n",
      " ('SIEMS01215-1', 'BC857C'),\n",
      " ('SIEMS01215-1', 'BC858'),\n",
      " ('SIEMS01215-1', 'BC858A'),\n",
      " ('SIEMS01215-1', 'BC858B'),\n",
      " ('SIEMS01215-1', 'BC858C'),\n",
      " ('SIEMS01215-1', 'BC859'),\n",
      " ('SIEMS01215-1', 'BC859A'),\n",
      " ('SIEMS01215-1', 'BC859B'),\n",
      " ('SIEMS01215-1', 'BC859C'),\n",
      " ('SIEMS01215-1', 'BC860'),\n",
      " ('SIEMS01215-1', 'BC860B'),\n",
      " ('SIEMS01215-1', 'BC860C'),\n",
      " ('STMICROELECTRONICS_BUV48A', 'BUV48A'),\n",
      " ('STMICROELECTRONICS_STI130051', 'STI13005-1'),\n",
      " ('TTELECTRONICSOPTEKTECHNOLOGY_2N2222AUATXV', '2N222AUA')]\n"
     ]
    }
   ],
   "source": [
    "from pprint import pprint\n",
    "pprint(sorted(fn)[:])"
   ]
  },
  {
   "cell_type": "code",
   "execution_count": null,
   "metadata": {
    "collapsed": true
   },
   "outputs": [],
   "source": []
  },
  {
   "cell_type": "markdown",
   "metadata": {},
   "source": [
    "The End."
   ]
  }
 ],
 "metadata": {
  "anaconda-cloud": {},
  "kernelspec": {
   "display_name": "Python [default]",
   "language": "python",
   "name": "python2"
  },
  "language_info": {
   "codemirror_mode": {
    "name": "ipython",
    "version": 2
   },
   "file_extension": ".py",
   "mimetype": "text/x-python",
   "name": "python",
   "nbconvert_exporter": "python",
   "pygments_lexer": "ipython2",
   "version": "2.7.10"
  }
 },
 "nbformat": 4,
 "nbformat_minor": 1
}
