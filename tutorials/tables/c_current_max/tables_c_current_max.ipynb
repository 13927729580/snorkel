{
 "cells": [
  {
   "cell_type": "markdown",
   "metadata": {},
   "source": [
    "# C_CURRENT_MAX"
   ]
  },
  {
   "cell_type": "markdown",
   "metadata": {},
   "source": [
    "## Setup"
   ]
  },
  {
   "cell_type": "code",
   "execution_count": null,
   "metadata": {
    "collapsed": true
   },
   "outputs": [],
   "source": [
    "# If necessary:\n",
    "import os\n",
    "os.remove('snorkel.db')"
   ]
  },
  {
   "cell_type": "code",
   "execution_count": null,
   "metadata": {
    "collapsed": false
   },
   "outputs": [],
   "source": [
    "%load_ext autoreload\n",
    "%autoreload 2\n",
    "%matplotlib inline\n",
    "\n",
    "import sys\n",
    "sys.path.append(os.environ['SNORKELHOME'] + '/tutorials/tables/')"
   ]
  },
  {
   "cell_type": "markdown",
   "metadata": {},
   "source": [
    "## Parsing"
   ]
  },
  {
   "cell_type": "code",
   "execution_count": null,
   "metadata": {
    "collapsed": true
   },
   "outputs": [],
   "source": [
    "from snorkel import SnorkelSession\n",
    "session = SnorkelSession()"
   ]
  },
  {
   "cell_type": "markdown",
   "metadata": {},
   "source": [
    "### Define Parser"
   ]
  },
  {
   "cell_type": "code",
   "execution_count": null,
   "metadata": {
    "collapsed": true
   },
   "outputs": [],
   "source": [
    "import os\n",
    "from snorkel.parser import CorpusParser, HTMLParser, OmniParser\n",
    "from snorkel.utils import get_ORM_instance\n",
    "from snorkel.queries import split_corpus\n",
    "\n",
    "docs_path = os.environ['SNORKELHOME'] + '/tutorials/tables/data/hardware/hardware100_html/'\n",
    "doc_parser = HTMLParser(path=docs_path)\n",
    "context_parser = OmniParser()\n",
    "cp = CorpusParser(doc_parser, context_parser, max_docs=100) "
   ]
  },
  {
   "cell_type": "markdown",
   "metadata": {},
   "source": [
    "### Run Parser"
   ]
  },
  {
   "cell_type": "code",
   "execution_count": null,
   "metadata": {
    "collapsed": false,
    "scrolled": true
   },
   "outputs": [],
   "source": [
    "%time corpus = cp.parse_corpus(name='Hardware', session=session)\n",
    "\n",
    "session.add(corpus)\n",
    "session.commit()"
   ]
  },
  {
   "cell_type": "markdown",
   "metadata": {},
   "source": [
    "### Split Corpus"
   ]
  },
  {
   "cell_type": "code",
   "execution_count": null,
   "metadata": {
    "collapsed": false
   },
   "outputs": [],
   "source": [
    "from snorkel.models import Corpus\n",
    "\n",
    "corpus = get_ORM_instance(Corpus, session, 'Hardware')\n",
    "split_corpus(session, corpus, train=0.8, development=0.2, test=0, seed=4)"
   ]
  },
  {
   "cell_type": "code",
   "execution_count": null,
   "metadata": {
    "collapsed": true
   },
   "outputs": [],
   "source": [
    "# If necessary\n",
    "import os\n",
    "os.system('cp snorkel.db snorkel.db\\ corpus');"
   ]
  },
  {
   "cell_type": "markdown",
   "metadata": {},
   "source": [
    "## Extraction"
   ]
  },
  {
   "cell_type": "code",
   "execution_count": null,
   "metadata": {
    "collapsed": false
   },
   "outputs": [],
   "source": [
    "# If necessary:\n",
    "import os\n",
    "os.remove('snorkel.db');\n",
    "os.system('cp snorkel.db\\ corpus snorkel.db');\n",
    "\n",
    "%load_ext autoreload\n",
    "%autoreload 2\n",
    "%matplotlib inline\n",
    "\n",
    "import sys\n",
    "sys.path.append(os.environ['SNORKELHOME'] + '/tutorials/tables/')\n",
    "\n",
    "from snorkel import SnorkelSession\n",
    "session = SnorkelSession()"
   ]
  },
  {
   "cell_type": "code",
   "execution_count": null,
   "metadata": {
    "collapsed": true
   },
   "outputs": [],
   "source": [
    "from snorkel.models import candidate_subclass\n",
    "\n",
    "Part_Current = candidate_subclass('Part_Current', ['part','current'])"
   ]
  },
  {
   "cell_type": "markdown",
   "metadata": {},
   "source": [
    "### Define Matchers"
   ]
  },
  {
   "cell_type": "code",
   "execution_count": null,
   "metadata": {
    "collapsed": true
   },
   "outputs": [],
   "source": [
    "from snorkel.matchers import RegexMatchSpan, Union\n",
    "\n",
    "eeca_matcher = RegexMatchSpan(rgx='([b]{1}[abcdefklnpqruyz]{1}[\\swxyz]?[0-9]{3,5}[\\s]?[A-Z\\/]{0,5}[0-9]?[A-Z]?([-][A-Z0-9]{1,7})?([-][A-Z0-9]{1,2})?)')\n",
    "jedec_matcher = RegexMatchSpan(rgx='([123]N\\d{3,4}[A-Z]{0,5}[0-9]?[A-Z]?)')\n",
    "jis_matcher = RegexMatchSpan(rgx='(2S[abcdefghjkmqrstvz]{1}[\\d]{2,4})')\n",
    "others_matcher = RegexMatchSpan(rgx='((NSVBC|SMBT|MJ|MJE|MPS|MRF|RCA|TIP|ZTX|ZT|TIS|TIPL|DTC|MMBT|PZT){1}[\\d]{2,4}[A-Z]{0,3}([-][A-Z0-9]{0,6})?([-][A-Z0-9]{0,1})?)')\n",
    "parts_matcher = Union(eeca_matcher, jedec_matcher, jis_matcher, others_matcher)\n",
    "\n",
    "#TODO: This is missing values represented as AMPs rather than milliamps\n",
    "current_matcher = RegexMatchSpan(rgx=r'\\-?([2-9]|1[0-2]?)00', longest_match_only=False)"
   ]
  },
  {
   "cell_type": "markdown",
   "metadata": {},
   "source": [
    "### Define ContextSpaces"
   ]
  },
  {
   "cell_type": "code",
   "execution_count": null,
   "metadata": {
    "collapsed": false
   },
   "outputs": [],
   "source": [
    "import os\n",
    "from collections import defaultdict\n",
    "from hardware_utils import OmniNgramsPart, OmniNgramsTemp, get_gold_dict\n",
    "\n",
    "# Make parts list\n",
    "gold_file = os.environ['SNORKELHOME'] + '/tutorials/tables/data/hardware/hardware_gold.csv'\n",
    "gold_parts = get_gold_dict(gold_file, doc_on=True, part_on=True, val_on=False)\n",
    "parts_by_doc = defaultdict(set)\n",
    "for part in gold_parts:\n",
    "    parts_by_doc[part[0]].add(part[1])\n",
    "    \n",
    "part_ngrams = OmniNgramsPart(parts_by_doc=parts_by_doc, n_max=3)\n",
    "\n",
    "# TODO: This is missing the current represented as an Amp rather than a milliamp\n",
    "current_ngrams = OmniNgramsTemp(n_max=3)"
   ]
  },
  {
   "cell_type": "markdown",
   "metadata": {},
   "source": [
    "### Run CandidateExtractor"
   ]
  },
  {
   "cell_type": "code",
   "execution_count": null,
   "metadata": {
    "collapsed": false
   },
   "outputs": [],
   "source": [
    "from snorkel.models import Corpus\n",
    "from snorkel.candidates import CandidateExtractor\n",
    "from snorkel.utils import get_ORM_instance\n",
    "from hardware_utils import PartCurrentThrottler\n",
    "\n",
    "part_throttler = PartCurrentThrottler()\n",
    "\n",
    "ce = CandidateExtractor(Part_Current, \n",
    "                        [part_ngrams, current_ngrams], \n",
    "                        [parts_matcher, current_matcher],\n",
    "                        part_throttler)\n",
    "\n",
    "for corpus_name in ['Hardware Training', 'Hardware Development']:\n",
    "    corpus = get_ORM_instance(Corpus, session, corpus_name)\n",
    "    print \"Extracting Candidates from %s\" % corpus\n",
    "    %time candidates = ce.extract(\\\n",
    "        corpus.documents, corpus_name + ' Candidates', session)\n",
    "    session.add(candidates)\n",
    "    print \"%s contains %d Candidates\" % (candidates, len(candidates))\n",
    "session.commit()"
   ]
  },
  {
   "cell_type": "markdown",
   "metadata": {},
   "source": [
    "### Assess Recall"
   ]
  },
  {
   "cell_type": "code",
   "execution_count": null,
   "metadata": {
    "collapsed": false
   },
   "outputs": [],
   "source": [
    "from snorkel.models import CandidateSet\n",
    "from hardware_utils import entity_level_total_recall, most_common_document, get_gold_dict\n",
    "from snorkel.models import Candidate\n",
    "\n",
    "all_candidates = session.query(Candidate).all()\n",
    "gold_file = os.environ['SNORKELHOME'] + '/tutorials/tables/data/hardware/hardware_gold.csv'\n",
    "\n",
    "# gold_dict = get_gold_dict(gold_file, attrib='c_current_max')\n",
    "\n",
    "(tp, fp, fn) = entity_level_total_recall(\n",
    "    all_candidates, gold_file, 'c_current_max', relation=True)\n",
    "print len(tp)\n",
    "print len(fp)\n",
    "print len(fn)"
   ]
  },
  {
   "cell_type": "code",
   "execution_count": null,
   "metadata": {
    "collapsed": false
   },
   "outputs": [],
   "source": [
    "from pprint import pprint\n",
    "fns = list(fn)\n",
    "pprint(sorted(fns))"
   ]
  },
  {
   "cell_type": "code",
   "execution_count": null,
   "metadata": {
    "collapsed": true
   },
   "outputs": [],
   "source": []
  },
  {
   "cell_type": "code",
   "execution_count": null,
   "metadata": {
    "collapsed": true
   },
   "outputs": [],
   "source": [
    "# If necessary\n",
    "import os\n",
    "os.system('cp snorkel.db snorkel.db\\ candidates');"
   ]
  },
  {
   "cell_type": "markdown",
   "metadata": {},
   "source": [
    "## Gold Labels"
   ]
  },
  {
   "cell_type": "code",
   "execution_count": null,
   "metadata": {
    "collapsed": true
   },
   "outputs": [],
   "source": [
    "# If necessary\n",
    "import os\n",
    "os.remove('snorkel.db');\n",
    "os.system('cp snorkel.db\\ candidates snorkel.db');\n",
    "\n",
    "%load_ext autoreload\n",
    "%autoreload 2\n",
    "%matplotlib inline\n",
    "\n",
    "import sys\n",
    "sys.path.append(os.environ['SNORKELHOME'] + '/tutorials/tables/')\n",
    "\n",
    "from snorkel import SnorkelSession\n",
    "session = SnorkelSession()\n",
    "\n",
    "from snorkel.models import candidate_subclass\n",
    "Part_Current = candidate_subclass('Part_Current', ['part','current'])"
   ]
  },
  {
   "cell_type": "code",
   "execution_count": null,
   "metadata": {
    "collapsed": false
   },
   "outputs": [],
   "source": [
    "import os\n",
    "from snorkel.models import CandidateSet\n",
    "from hardware_utils import load_hardware_labels\n",
    "\n",
    "gold_file = os.environ['SNORKELHOME'] + '/tutorials/tables/data/hardware/hardware_gold.csv'\n",
    "for set_name in ['Training', 'Development']:\n",
    "    candidate_set_name = 'Hardware %s Candidates' % set_name\n",
    "    candidates = session.query(CandidateSet).filter(\n",
    "        CandidateSet.name == candidate_set_name).one()\n",
    "    label_set_name = 'Hardware %s Candidates -- Gold' % set_name\n",
    "    annotation_key_name = 'Hardware %s Labels -- Gold' % set_name\n",
    "    %time gold_candidates, annotation_key = load_hardware_labels(session,\\\n",
    "                           label_set_name, \\\n",
    "                           annotation_key_name, \\\n",
    "                           candidates, \\\n",
    "                           gold_file, \\\n",
    "                           attrib='c_current_max')\n",
    "    candidates_gold = session.query(CandidateSet).filter(\n",
    "        CandidateSet.name == candidate_set_name + ' -- Gold').one()\n",
    "    print \"%d/%d Candidates in %s have positive Labels\" % (\n",
    "        len(candidates_gold), len(candidates), candidates)"
   ]
  },
  {
   "cell_type": "code",
   "execution_count": null,
   "metadata": {
    "collapsed": true
   },
   "outputs": [],
   "source": [
    "# If necessary\n",
    "import os\n",
    "os.system('cp snorkel.db snorkel.db\\ labels');"
   ]
  },
  {
   "cell_type": "markdown",
   "metadata": {},
   "source": [
    "## Features"
   ]
  },
  {
   "cell_type": "code",
   "execution_count": null,
   "metadata": {
    "collapsed": true
   },
   "outputs": [],
   "source": [
    "# If necessary:\n",
    "import os\n",
    "os.remove('snorkel.db');\n",
    "os.system('cp snorkel.db\\ labels snorkel.db');\n",
    "\n",
    "%load_ext autoreload\n",
    "%autoreload 2\n",
    "%matplotlib inline\n",
    "\n",
    "import sys\n",
    "sys.path.append(os.environ['SNORKELHOME'] + '/tutorials/tables/')\n",
    "\n",
    "from snorkel import SnorkelSession\n",
    "session = SnorkelSession()\n",
    "\n",
    "from snorkel.models import candidate_subclass\n",
    "Part_Current = candidate_subclass('Part_Current', ['part','current'])"
   ]
  },
  {
   "cell_type": "markdown",
   "metadata": {},
   "source": [
    "### Extract Features"
   ]
  },
  {
   "cell_type": "code",
   "execution_count": null,
   "metadata": {
    "collapsed": false
   },
   "outputs": [],
   "source": [
    "from snorkel.models import CandidateSet\n",
    "from snorkel.annotations import FeatureManager\n",
    "from snorkel.utils import get_ORM_instance\n",
    "\n",
    "train = get_ORM_instance(CandidateSet, session, 'Hardware Training Candidates')\n",
    "dev   = get_ORM_instance(CandidateSet, session, 'Hardware Development Candidates')\n",
    "\n",
    "feature_manager = FeatureManager()\n",
    "%time F_train = feature_manager.create(session, train, 'Train Features')\n",
    "%time F_dev = feature_manager.update(session, dev, 'Train Features', expand_key_set=False)"
   ]
  },
  {
   "cell_type": "code",
   "execution_count": null,
   "metadata": {
    "collapsed": true
   },
   "outputs": [],
   "source": [
    "# If necessary:\n",
    "import os\n",
    "os.system('cp snorkel.db snorkel.db\\ featurized');"
   ]
  },
  {
   "cell_type": "markdown",
   "metadata": {},
   "source": [
    "## LFs"
   ]
  },
  {
   "cell_type": "code",
   "execution_count": null,
   "metadata": {
    "collapsed": true
   },
   "outputs": [],
   "source": [
    "# If necessary\n",
    "import os\n",
    "os.remove('snorkel.db');\n",
    "os.system('cp snorkel.db\\ featurized snorkel.db');\n",
    "\n",
    "%load_ext autoreload\n",
    "%autoreload 2\n",
    "%matplotlib inline\n",
    "\n",
    "import sys\n",
    "sys.path.append(os.environ['SNORKELHOME'] + '/tutorials/tables/')\n",
    "\n",
    "from snorkel import SnorkelSession\n",
    "session = SnorkelSession()\n",
    "\n",
    "from snorkel.models import candidate_subclass\n",
    "Part_Current = candidate_subclass('Part_Current', ['part','current'])\n",
    "\n",
    "from snorkel.models import CandidateSet\n",
    "train = session.query(CandidateSet).filter(\n",
    "    CandidateSet.name == 'Hardware Training Candidates').one()"
   ]
  },
  {
   "cell_type": "markdown",
   "metadata": {},
   "source": [
    "### Define LFs"
   ]
  },
  {
   "cell_type": "code",
   "execution_count": null,
   "metadata": {
    "collapsed": false
   },
   "outputs": [],
   "source": [
    "from snorkel.annotations import LabelManager\n",
    "from snorkel.lf_helpers import *\n",
    "label_manager = LabelManager()\n",
    "\n",
    "LFs = []\n",
    "\n",
    "# POSITIVE\n",
    "\n",
    "def LF_head_is_IC(c):\n",
    "    head_ngrams = set(get_head_ngrams(c.current, axis='row'))\n",
    "    return 1 if ('ic' in head_ngrams) else 0\n",
    "LFs.append(LF_head_is_IC)\n",
    "\n",
    "# def LF_current_inside_table(c):\n",
    "#     return 1 if c.current.parent.row is not None else 0\n",
    "# LFs.append(LF_current_inside_table)\n",
    "\n",
    "def LF_continuous_left(c):\n",
    "    return 1 if 'continuous' in get_left_ngrams(c.current, window=5) else 0\n",
    "LFs.append(LF_continuous_left)\n",
    "\n",
    "# def LF_current_row(c):\n",
    "#     return 1 if 'current' in get_row_ngrams(c.current) else 0\n",
    "# LFs.append(LF_current_row)\n",
    "\n",
    "# def LF_collector_row(c):\n",
    "#     return 1 if 'collector' in get_row_ngrams(c.current) else 0\n",
    "# LFs.append(LF_collector_row)\n",
    "\n",
    "# def LF_all_one(c):\n",
    "#     return 1\n",
    "# LFs.append(LF_all_one)\n",
    "    \n",
    "# def LF_current_unit_row(c):\n",
    "#     row_ngrams = set(get_row_ngrams(c.current))\n",
    "#     return 1 if (\n",
    "#         'ma'                in row_ngrams and\n",
    "#         'collector'         in row_ngrams) else 0\n",
    "# LFs.append(LF_current_unit_row)\n",
    "\n",
    "\n",
    "# NEGATIVE\n",
    "\n",
    "def LF_not_cc_relevant(c):\n",
    "    ngrams = get_aligned_ngrams(c.current)\n",
    "    return -1 if not ('collector' in ngrams or\n",
    "                      'current' in ngrams) else 0\n",
    "LFs.append(LF_not_cc_relevant)\n",
    "\n",
    "def LF_too_many_numbers_row(c):\n",
    "    num_numbers = list(get_row_ngrams(c.current, attrib=\"ner_tags\")).count('number')\n",
    "    return -1 if num_numbers >= 3 else 0\n",
    "LFs.append(LF_too_many_numbers_row)\n",
    "\n",
    "# def LF_thermal_row(c):\n",
    "#     return -1 if 'thermal' in get_row_ngrams(c.current) else 0\n",
    "# LFs.append(LF_collector_row)\n",
    "\n",
    "# def LF_junction_row(c):\n",
    "#     return -1 if 'junction' in get_row_ngrams(c.current) else 0\n",
    "# LFs.append(LF_junction_row)\n",
    "\n",
    "# def LF_resistance_row(c):\n",
    "#     return -1 if 'resistance' in get_row_ngrams(c.current) else 0\n",
    "# LFs.append(LF_resistance_row)\n",
    "\n",
    "# def LF_small_signal_row(c):\n",
    "#     return -1 if 'small-signal' in get_row_ngrams(c.current) else 0\n",
    "# LFs.append(LF_small_signal_row)\n",
    "\n",
    "# def LF_ambient_row(c):\n",
    "#     return -1 if 'ambient' in get_row_ngrams(c.current) else 0\n",
    "# LFs.append(LF_ambient_row)\n",
    "\n",
    "def LF_part_in_same_row(c):\n",
    "    return -1 if c.part.parent.row == c.current.parent.row else 0\n",
    "LFs.append(LF_part_in_same_row)\n",
    "\n",
    "def LF_negative_keywords_in_row(c):\n",
    "    ngrams = set(get_row_ngrams(c.current))\n",
    "    return -1 if (\n",
    "        'ambient'       in ngrams or\n",
    "        'small-signal'  in ngrams or\n",
    "        'resistance'    in ngrams or\n",
    "        'junction'      in ngrams or\n",
    "        'voltage'       in ngrams or\n",
    "        'cbo'           in ngrams or\n",
    "        'ceo'           in ngrams or\n",
    "        'ce'            in ngrams or\n",
    "        'ebo'           in ngrams or\n",
    "        'v'             in ngrams or\n",
    "        'thermal'       in ngrams) else 1\n",
    "LFs.append(LF_negative_keywords_in_row)\n",
    "\n",
    "def LF_negative_keywords(c):\n",
    "    ngrams = set(get_aligned_ngrams(c.current))\n",
    "    return -1 if (\n",
    "        'collector-base'    in ngrams or\n",
    "        'cut-off'           in ngrams or\n",
    "        '='                 in ngrams or\n",
    "        'gain'              in ngrams or\n",
    "        'h fe'              in ngrams or\n",
    "        'typ.'              in ngrams or\n",
    "        'typ'               in ngrams or\n",
    "        'min'               in ngrams or\n",
    "        'min.'              in ngrams or\n",
    "        'mv'                in ngrams or\n",
    "        'saturation'        in ngrams or\n",
    "        'mhz'               in ngrams or\n",
    "        'gain'              in ngrams or\n",
    "        'collector-emitter' in ngrams) else 1\n",
    "LFs.append(LF_negative_keywords)\n",
    "\n",
    "# def LF_voltage_row_current(c):\n",
    "#     ngrams = set(get_row_ngrams(c.current))\n",
    "#     return -1 if (\n",
    "#         'voltage' in ngrams or\n",
    "#         'cbo'     in ngrams or\n",
    "#         'ceo'     in ngrams or\n",
    "#         'ce'      in ngrams or\n",
    "#         'ebo'     in ngrams or\n",
    "#         'v'       in ngrams) else 0\n",
    "# LFs.append(LF_voltage_row_current)\n",
    "\n",
    "# def LF_voltage_row_part(c):\n",
    "#     ngrams = set(get_row_ngrams(c.part))\n",
    "#     return -1 if (\n",
    "#         'voltage' in ngrams or\n",
    "#         'cbo'     in ngrams or\n",
    "#         'ceo'     in ngrams or\n",
    "#         'ebo'     in ngrams or\n",
    "#         'v'       in ngrams) else 0\n",
    "# LFs.append(LF_voltage_row_part)\n",
    "\n",
    "# def LF_test_condition_row(c):\n",
    "#     ngrams = set(get_row_ngrams(c.current))\n",
    "#     return -1 if ('test'      in ngrams and\n",
    "#                   'condition' in ngrams) else 0\n",
    "# LFs.append(LF_test_condition_row)\n"
   ]
  },
  {
   "cell_type": "markdown",
   "metadata": {},
   "source": [
    "### Apply LFs"
   ]
  },
  {
   "cell_type": "code",
   "execution_count": null,
   "metadata": {
    "collapsed": false
   },
   "outputs": [],
   "source": [
    "%time L_train = label_manager.create(session, train, 'LF Labels', f=LFs)\n",
    "L_train"
   ]
  },
  {
   "cell_type": "markdown",
   "metadata": {},
   "source": [
    "### Assess LF accuracy"
   ]
  },
  {
   "cell_type": "code",
   "execution_count": null,
   "metadata": {
    "collapsed": false
   },
   "outputs": [],
   "source": [
    "train_gold = session.query(CandidateSet).filter(\n",
    "    CandidateSet.name == 'Hardware Training Candidates -- Gold').one()\n",
    "%time L_train.lf_stats(train_gold)"
   ]
  },
  {
   "cell_type": "code",
   "execution_count": null,
   "metadata": {
    "collapsed": true
   },
   "outputs": [],
   "source": [
    "# If necessary\n",
    "import os\n",
    "os.system('cp snorkel.db snorkel.db\\ features');"
   ]
  },
  {
   "cell_type": "markdown",
   "metadata": {},
   "source": [
    "## Learn and Evaluate"
   ]
  },
  {
   "cell_type": "code",
   "execution_count": 1,
   "metadata": {
    "collapsed": false
   },
   "outputs": [],
   "source": [
    "# If necessary:\n",
    "import os\n",
    "os.remove('snorkel.db');\n",
    "os.system('cp snorkel.db\\ features snorkel.db');\n",
    "\n",
    "%load_ext autoreload\n",
    "%autoreload 2\n",
    "%matplotlib inline\n",
    "\n",
    "import sys\n",
    "sys.path.append(os.environ['SNORKELHOME'] + '/tutorials/tables/')\n",
    "\n",
    "from snorkel import SnorkelSession\n",
    "session = SnorkelSession()\n",
    "\n",
    "from snorkel.models import candidate_subclass\n",
    "Part_Current = candidate_subclass('Part_Current', ['part','current'])\n",
    "\n",
    "from snorkel.models import CandidateSet\n",
    "train = session.query(CandidateSet).filter(\n",
    "    CandidateSet.name == 'Hardware Training Candidates').one()\n",
    "dev = session.query(CandidateSet).filter(\n",
    "    CandidateSet.name == 'Hardware Development Candidates').one()"
   ]
  },
  {
   "cell_type": "code",
   "execution_count": 2,
   "metadata": {
    "collapsed": false
   },
   "outputs": [
    {
     "name": "stdout",
     "output_type": "stream",
     "text": [
      "CPU times: user 3min 52s, sys: 6.05 s, total: 3min 58s\n",
      "Wall time: 3min 57s\n",
      "CPU times: user 2min 41s, sys: 3.71 s, total: 2min 45s\n",
      "Wall time: 2min 44s\n",
      "CPU times: user 1.83 s, sys: 56 ms, total: 1.88 s\n",
      "Wall time: 1.88 s\n"
     ]
    }
   ],
   "source": [
    "from snorkel.annotations import FeatureManager, LabelManager\n",
    "feature_manager = FeatureManager()\n",
    "%time F_train = feature_manager.load(session, train, 'Train Features')\n",
    "%time F_dev = feature_manager.load(session, dev, 'Train Features')\n",
    "\n",
    "label_manager = LabelManager()\n",
    "%time L_train = label_manager.load(session, train, 'LF Labels')"
   ]
  },
  {
   "cell_type": "code",
   "execution_count": 3,
   "metadata": {
    "collapsed": false
   },
   "outputs": [
    {
     "name": "stderr",
     "output_type": "stream",
     "text": [
      "/home/lwhsiao/repos/snorkel/.virtualenv/local/lib/python2.7/site-packages/matplotlib/__init__.py:1357: UserWarning:  This call to matplotlib.use() has no effect\n",
      "because the backend has already been chosen;\n",
      "matplotlib.use() must be called *before* pylab, matplotlib.pyplot,\n",
      "or matplotlib.backends is imported for the first time.\n",
      "\n",
      "  warnings.warn(_use_error_msg)\n"
     ]
    },
    {
     "name": "stdout",
     "output_type": "stream",
     "text": [
      "================================================================================\n",
      "Training marginals (!= 0.5):\t68987\n",
      "Features:\t\t\t7\n",
      "================================================================================\n",
      "Begin training for rate=0.01, mu=1e-06\n",
      "\tLearning epoch = 0\tGradient mag. = 0.541007\n",
      "\tLearning epoch = 250\tGradient mag. = 0.571050\n",
      "\tLearning epoch = 500\tGradient mag. = 0.440874\n",
      "\tLearning epoch = 750\tGradient mag. = 0.316947\n",
      "\tLearning epoch = 1000\tGradient mag. = 0.229132\n",
      "\tLearning epoch = 1250\tGradient mag. = 0.173590\n",
      "\tLearning epoch = 1500\tGradient mag. = 0.141021\n",
      "\tLearning epoch = 1750\tGradient mag. = 0.122623\n",
      "\tLearning epoch = 2000\tGradient mag. = 0.112088\n",
      "\tLearning epoch = 2250\tGradient mag. = 0.105721\n",
      "\tLearning epoch = 2500\tGradient mag. = 0.101608\n",
      "\tLearning epoch = 2750\tGradient mag. = 0.098803\n",
      "\tLearning epoch = 3000\tGradient mag. = 0.096828\n",
      "\tLearning epoch = 3250\tGradient mag. = 0.095424\n",
      "\tLearning epoch = 3500\tGradient mag. = 0.094439\n",
      "\tLearning epoch = 3750\tGradient mag. = 0.093772\n",
      "\tLearning epoch = 4000\tGradient mag. = 0.093354\n",
      "\tLearning epoch = 4250\tGradient mag. = 0.093131\n",
      "\tLearning epoch = 4500\tGradient mag. = 0.093063\n",
      "\tLearning epoch = 4750\tGradient mag. = 0.093117\n",
      "\tLearning epoch = 5000\tGradient mag. = 0.093266\n",
      "\tLearning epoch = 5250\tGradient mag. = 0.093489\n",
      "\tLearning epoch = 5500\tGradient mag. = 0.093766\n",
      "\tLearning epoch = 5750\tGradient mag. = 0.094085\n",
      "\tLearning epoch = 6000\tGradient mag. = 0.094432\n",
      "\tLearning epoch = 6250\tGradient mag. = 0.071792\n",
      "\tLearning epoch = 6500\tGradient mag. = 0.047869\n",
      "\tLearning epoch = 6750\tGradient mag. = 0.032325\n",
      "\tLearning epoch = 7000\tGradient mag. = 0.022323\n",
      "\tLearning epoch = 7250\tGradient mag. = 0.015992\n",
      "\tLearning epoch = 7500\tGradient mag. = 0.012073\n",
      "\tLearning epoch = 7750\tGradient mag. = 0.009694\n",
      "\tLearning epoch = 8000\tGradient mag. = 0.008252\n",
      "\tLearning epoch = 8250\tGradient mag. = 0.007346\n",
      "\tLearning epoch = 8500\tGradient mag. = 0.006735\n",
      "\tLearning epoch = 8750\tGradient mag. = 0.006285\n",
      "\tLearning epoch = 9000\tGradient mag. = 0.005925\n",
      "\tLearning epoch = 9250\tGradient mag. = 0.005621\n",
      "\tLearning epoch = 9500\tGradient mag. = 0.005353\n",
      "\tLearning epoch = 9750\tGradient mag. = 0.005113\n",
      "\tLearning epoch = 10000\tGradient mag. = 0.004894\n",
      "\tLearning epoch = 10250\tGradient mag. = 0.004693\n",
      "\tLearning epoch = 10500\tGradient mag. = 0.004509\n",
      "\tLearning epoch = 10750\tGradient mag. = 0.004338\n",
      "\tLearning epoch = 11000\tGradient mag. = 0.004181\n",
      "\tLearning epoch = 11250\tGradient mag. = 0.004036\n",
      "\tLearning epoch = 11500\tGradient mag. = 0.003902\n",
      "\tLearning epoch = 11750\tGradient mag. = 0.003778\n",
      "\tLearning epoch = 12000\tGradient mag. = 0.003664\n",
      "\tLearning epoch = 12250\tGradient mag. = 0.003559\n",
      "\tLearning epoch = 12500\tGradient mag. = 0.003463\n",
      "\tLearning epoch = 12750\tGradient mag. = 0.003374\n",
      "\tLearning epoch = 13000\tGradient mag. = 0.003292\n",
      "\tLearning epoch = 13250\tGradient mag. = 0.003216\n",
      "\tLearning epoch = 13500\tGradient mag. = 0.003147\n",
      "\tLearning epoch = 13750\tGradient mag. = 0.003084\n",
      "\tLearning epoch = 14000\tGradient mag. = 0.003026\n",
      "\tLearning epoch = 14250\tGradient mag. = 0.002973\n",
      "\tLearning epoch = 14500\tGradient mag. = 0.002925\n",
      "\tLearning epoch = 14750\tGradient mag. = 0.002880\n",
      "Final gradient magnitude for rate=0.01, mu=1e-06: 0.003\n",
      "CPU times: user 136 ms, sys: 4 ms, total: 140 ms\n",
      "Wall time: 179 ms\n"
     ]
    }
   ],
   "source": [
    "from snorkel.learning import NaiveBayes\n",
    "\n",
    "gen_model = NaiveBayes()\n",
    "gen_model.train(L_train, n_iter=15000, rate=1e-2)\n",
    "%time gen_model.save(session, 'Generative Params')\n",
    "train_marginals = gen_model.marginals(L_train)"
   ]
  },
  {
   "cell_type": "code",
   "execution_count": 4,
   "metadata": {
    "collapsed": false
   },
   "outputs": [
    {
     "name": "stdout",
     "output_type": "stream",
     "text": [
      "================================================================================\n",
      "Training marginals (!= 0.5):\t68987\n",
      "Features:\t\t\t22013\n",
      "================================================================================\n",
      "Using gradient descent...\n",
      "\tLearning epoch = 0\tStep size = 0.0001\n",
      "\tLoss = 47818.144545\tGradient magnitude = 228956.622131\n",
      "\tLearning epoch = 100\tStep size = 9.04792147114e-05\n",
      "\tLoss = 4096.191680\tGradient magnitude = 558.066307\n",
      "\tLearning epoch = 200\tStep size = 8.18648829479e-05\n",
      "\tLoss = 2956.027532\tGradient magnitude = 216.712802\n",
      "\tLearning epoch = 300\tStep size = 7.40707032156e-05\n",
      "\tLoss = 2718.757025\tGradient magnitude = 142.140094\n",
      "\tLearning epoch = 400\tStep size = 6.70185906007e-05\n",
      "\tLoss = 2618.317494\tGradient magnitude = 103.728333\n",
      "\tLearning epoch = 500\tStep size = 6.06378944861e-05\n",
      "\tLoss = 2564.136448\tGradient magnitude = 84.759898\n",
      "\tLearning epoch = 600\tStep size = 5.48646907485e-05\n",
      "\tLoss = 2530.226482\tGradient magnitude = 71.194884\n",
      "\tLearning epoch = 700\tStep size = 4.96411413431e-05\n",
      "\tLoss = 2508.792212\tGradient magnitude = 60.642008\n",
      "\tLearning epoch = 800\tStep size = 4.4914914861e-05\n",
      "\tLoss = 2493.944351\tGradient magnitude = 54.870462\n",
      "\tLearning epoch = 900\tStep size = 4.06386622545e-05\n",
      "\tLoss = 2482.734246\tGradient magnitude = 50.835966\n",
      "\tLearning epoch = 1000\tStep size = 3.67695424771e-05\n",
      "\tLoss = 2473.952640\tGradient magnitude = 47.766587\n",
      "\tLearning epoch = 1100\tStep size = 3.32687932862e-05\n",
      "\tLoss = 2466.907019\tGradient magnitude = 45.330386\n",
      "\tLearning epoch = 1200\tStep size = 3.01013429093e-05\n",
      "\tLoss = 2461.156114\tGradient magnitude = 43.311139\n",
      "\tLearning epoch = 1300\tStep size = 2.72354586819e-05\n",
      "\tLoss = 2456.401150\tGradient magnitude = 41.577397\n",
      "\tLearning epoch = 1400\tStep size = 2.46424291385e-05\n",
      "\tLoss = 2452.432867\tGradient magnitude = 40.055694\n",
      "\tLearning epoch = 1500\tStep size = 2.22962763703e-05\n",
      "\tLoss = 2449.110345\tGradient magnitude = 38.708798\n",
      "\tLearning epoch = 1600\tStep size = 2.01734957697e-05\n",
      "\tLoss = 2446.314225\tGradient magnitude = 37.516997\n",
      "\tLearning epoch = 1700\tStep size = 1.82528205523e-05\n",
      "\tLoss = 2443.942489\tGradient magnitude = 36.466804\n",
      "\tLearning epoch = 1800\tStep size = 1.65150086984e-05\n",
      "\tLoss = 2441.922874\tGradient magnitude = 35.547978\n",
      "\tLearning epoch = 1900\tStep size = 1.49426501798e-05\n",
      "\tLoss = 2440.195679\tGradient magnitude = 34.746542\n",
      "CPU times: user 3.15 s, sys: 68 ms, total: 3.22 s\n",
      "Wall time: 3.19 s\n"
     ]
    }
   ],
   "source": [
    "from snorkel.learning import LogReg\n",
    "\n",
    "disc_model = LogReg()\n",
    "disc_model.train(F_train, train_marginals, n_iter=2000, rate=1e-4)\n",
    "%time disc_model.save(session, \"Discriminative Params\")"
   ]
  },
  {
   "cell_type": "code",
   "execution_count": 5,
   "metadata": {
    "collapsed": false
   },
   "outputs": [
    {
     "name": "stdout",
     "output_type": "stream",
     "text": [
      "Calibration plot:\n"
     ]
    },
    {
     "name": "stderr",
     "output_type": "stream",
     "text": [
      "/home/lwhsiao/repos/snorkel/.virtualenv/local/lib/python2.7/site-packages/numpy/core/_methods.py:59: RuntimeWarning: Mean of empty slice.\n",
      "  warnings.warn(\"Mean of empty slice.\", RuntimeWarning)\n"
     ]
    },
    {
     "data": {
      "image/png": "[encoded data removed]",
      "text/plain": [
       "<matplotlib.figure.Figure at 0x7f19cb363ad0>"
      ]
     },
     "metadata": {},
     "output_type": "display_data"
    },
    {
     "name": "stdout",
     "output_type": "stream",
     "text": [
      "========================================\n",
      "Recall-corrected Noise-aware Model\n",
      "========================================\n",
      "Pos. class accuracy: 0.408079342042\n",
      "Neg. class accuracy: 0.880082860212\n",
      "Corpus Precision 0.683\n",
      "Corpus Recall    0.408\n",
      "Corpus F1        0.511\n",
      "----------------------------------------\n",
      "TP: 3374 | FP: 1563 | TN: 11471 | FN: 4894\n",
      "========================================\n",
      "\n",
      "========================================\n",
      "Recall-corrected Noise-aware Model\n",
      "========================================\n",
      "Pos. class accuracy: 0.408079342042\n",
      "Neg. class accuracy: 0.880082860212\n",
      "Corpus Precision 0.683\n",
      "Corpus Recall    0.408\n",
      "Corpus F1        0.511\n",
      "----------------------------------------\n",
      "TP: 3374 | FP: 1563 | TN: 11471 | FN: 4894\n",
      "========================================\n",
      "\n"
     ]
    }
   ],
   "source": [
    "train_gold = session.query(CandidateSet).filter(\n",
    "    CandidateSet.name == 'Hardware Training Candidates -- Gold').one()\n",
    "\n",
    "dev_gold = session.query(CandidateSet).filter(\n",
    "    CandidateSet.name == 'Hardware Development Candidates -- Gold').one()\n",
    "\n",
    "from snorkel.models import CandidateSet\n",
    "from snorkel.annotations import LabelManager\n",
    "label_manager = LabelManager()\n",
    "L_dev = label_manager.load(session, dev, 'Hardware Development Labels -- Gold')\n",
    "\n",
    "tp, fp, tn, fn = disc_model.score(F_dev, L_dev, dev_gold)"
   ]
  },
  {
   "cell_type": "code",
   "execution_count": 6,
   "metadata": {
    "collapsed": false,
    "scrolled": true
   },
   "outputs": [
    {
     "name": "stdout",
     "output_type": "stream",
     "text": [
      "========================================\n",
      "Scoring on Entity-Level Gold Data\n",
      "========================================\n",
      "Corpus Precision 0.401\n",
      "Corpus Recall    0.85\n",
      "Corpus F1        0.545\n",
      "----------------------------------------\n",
      "TP: 170 | FP: 254 | FN: 30\n",
      "========================================\n",
      "\n"
     ]
    }
   ],
   "source": [
    "from snorkel.models import Corpus\n",
    "from hardware_utils import entity_level_f1\n",
    "import os\n",
    "\n",
    "gold_file = os.environ['SNORKELHOME'] + '/tutorials/tables/data/hardware/hardware_gold.csv'\n",
    "corpus = session.query(Corpus).filter(Corpus.name == 'Hardware Development').one()\n",
    "(TP, FP, FN) = entity_level_f1(tp, fp, tn, fn, gold_file, corpus, 'c_current_max')\n"
   ]
  },
  {
   "cell_type": "code",
   "execution_count": 7,
   "metadata": {
    "collapsed": false
   },
   "outputs": [
    {
     "name": "stdout",
     "output_type": "stream",
     "text": [
      "[('LTSCS02912-1', 'BC846AW', '100'),\n",
      " ('LTSCS02912-1', 'BC846BW', '100'),\n",
      " ('MCCCS08818-1', 'DTC114YE', '100'),\n",
      " ('MCCCS08984-1', 'MMBT3904', '200'),\n",
      " ('MCCCS09540-1', 'BC846', '100'),\n",
      " ('MCCCS09540-1', 'BC846A', '100'),\n",
      " ('MCCCS09540-1', 'BC846B', '100'),\n",
      " ('MCCCS09540-1', 'BC847', '100'),\n",
      " ('MCCCS09540-1', 'BC847A', '100'),\n",
      " ('MCCCS09540-1', 'BC847B', '100'),\n",
      " ('MCCCS09540-1', 'BC847C', '100'),\n",
      " ('MCCCS09540-1', 'BC848', '100'),\n",
      " ('MCCCS09540-1', 'BC848A', '100'),\n",
      " ('MCCCS09540-1', 'BC848B', '100'),\n",
      " ('MCCCS09540-1', 'BC848C', '100'),\n",
      " ('MCCCS09540-1', 'BC849', '100'),\n",
      " ('MCCCS09540-1', 'BC849B', '100'),\n",
      " ('MCCCS09540-1', 'BC849C', '100'),\n",
      " ('MCCCS09741-1', 'BC337', '800'),\n",
      " ('MCCCS09741-1', 'BC337-16', '800'),\n",
      " ('MCCCS09741-1', 'BC337-25', '800'),\n",
      " ('MCCCS09741-1', 'BC337-40', '800'),\n",
      " ('MCCCS09741-1', 'BC338', '800'),\n",
      " ('MCCCS09741-1', 'BC338-16', '800'),\n",
      " ('MCCCS09741-1', 'BC338-25', '800'),\n",
      " ('MCCCS09741-1', 'BC338-40', '800'),\n",
      " ('MMMCS17742-1', 'BC807-16W', '500'),\n",
      " ('MMMCS17742-1', 'BC807-25W', '500'),\n",
      " ('MMMCS17742-1', 'BC807-40W', '500'),\n",
      " ('RECTS01214-1', 'DTC114EUA', '100')]\n"
     ]
    }
   ],
   "source": [
    "from pprint import pprint\n",
    "FN_list = sorted(list(FN))\n",
    "FP_list = sorted(list(FP))\n",
    "TP_list = sorted(list(TP))\n",
    "pprint(FN_list)"
   ]
  },
  {
   "cell_type": "code",
   "execution_count": 8,
   "metadata": {
    "collapsed": false
   },
   "outputs": [
    {
     "name": "stdout",
     "output_type": "stream",
     "text": [
      "('LTSCS02912-1', 'BC846AW', '100')\n",
      "\n",
      "# Matches: 5\n",
      "Part_Current(ImplicitSpan(\"BC846AW\", parent=95191, words=[6,6], position=[0]), Span(\"100\", parent=95207, chars=[0,2], words=[0,0]))\n",
      "\n",
      "-11.9086640584\n",
      "\n",
      "[(AnnotationKey (TAB_e2_ROW_WORDS_[v]), -1.6100279296927273),\n",
      " (AnnotationKey (TAB_e2_COL_WORDS_[min]), -1.3232769107826137),\n",
      " (AnnotationKey (TAB_e2_ROW_WORDS_[=]), -1.2131303318563194),\n",
      " (AnnotationKey (TAB_e2_ROW_WORDS_[ce]), -0.9860722035276845),\n",
      " (AnnotationKey (TAB_e2_ROW_WORDS_[v ce]), -0.9835345095968423),\n",
      " (AnnotationKey (TAB_e2_ROW_WORDS_[ce =]), -0.8806253453629309),\n",
      " (AnnotationKey (TAB_e2_COL_WORDS_[.]), -0.629415994175107),\n",
      " (AnnotationKey (TAB_e2_COL_HEAD_WORDS_[.]), -0.6010124998469697),\n",
      " (AnnotationKey (TAB_e2_ROW_WORDS_[t]), -0.48060253736817676),\n",
      " (AnnotationKey (TAB_e2_ROW_WORDS_[f]), -0.47155875047375767),\n",
      " (AnnotationKey (TAB_e1_COL_WORDS_[0]), -0.4420614915634496),\n",
      " (AnnotationKey (TAB_e2_HTML_ANC_TAG_[table]), 0.4180904030878962),\n",
      " (AnnotationKey (TAB_e2_HTML_ANC_TAG_[td]), 0.4180904030878962),\n",
      " (AnnotationKey (TAB_e2_HTML_ANC_TAG_[tr]), 0.4180904030878962),\n",
      " (AnnotationKey (TAB_e2_ROW_WORDS_[f t]), -0.39247503782305715),\n",
      " (AnnotationKey (TAB_e1_COL_WORDS_[2]), -0.37224523937481774),\n",
      " (AnnotationKey (TAB_e2_ROW_NUM_[10]), 0.35865442742173437),\n",
      " (AnnotationKey (TAB_e2_ROW_WORDS_[,]), -0.34449631954168325),\n",
      " (AnnotationKey (TAB_e2_COL_HEAD_WORDS_[min]), -0.34110519713173565),\n",
      " (AnnotationKey (TAB_e1_ROW_WORDS_[b]), -0.32477911339582016),\n",
      " (AnnotationKey (TAB_e2_ROW_WORDS_[c =]), -0.3179105294546983),\n",
      " (AnnotationKey (TAB_e1_CELL_WORDS_[c]), -0.31342056243674665),\n",
      " (AnnotationKey (TAB_e2_ROW_WORDS_[mhz]), -0.31230530758223674),\n",
      " (AnnotationKey (TAB_e1_ROW_HEAD_WORDS_[voltage]), -0.30087065269847274),\n",
      " (AnnotationKey (TAB_e1_CELL_WORDS_[b]), -0.2780141209685147),\n",
      " (AnnotationKey (TAB_e1_ROW_HEAD_WORDS_[saturation voltage]),\n",
      "  -0.2660578973276988),\n",
      " (AnnotationKey (TAB_e1_ROW_HEAD_WORDS_[saturation]), -0.2660578973276988),\n",
      " (AnnotationKey (TAB_e1_COL_WORDS_[10 %]), -0.25796891063573857),\n",
      " (AnnotationKey (TAB_e2_COL_WORDS_[65]), 0.24668072054545565),\n",
      " (AnnotationKey (TAB_e1_ROW_INFERRED_WORDS_[c]), -0.2270766309569159),\n",
      " (AnnotationKey (TAB_e1_COL_INFERRED_WORDS_[c]), -0.2270766309569159),\n",
      " (AnnotationKey (TAB_e2_ROW_WORDS_[, i]), -0.2115208675998104),\n",
      " (AnnotationKey (TAB_e1_COL_WORDS_[v]), 0.20877557073080066),\n",
      " (AnnotationKey (TAB_e2_COL_WORDS_[110]), -0.20823918356994836),\n",
      " (AnnotationKey (TAB_e1_CELL_WORDS_[ma]), -0.18988203109784624),\n",
      " (AnnotationKey (TAB_e2_COL_WORDS_[200]), -0.18977149179846528),\n",
      " (AnnotationKey (TAB_e1_ROW_WORDS_[base-emitter]), -0.1855317622685041),\n",
      " (AnnotationKey (TAB_e1_ROW_WORDS_[saturation voltage]), -0.17780323325564973),\n",
      " (AnnotationKey (TAB_e1_COL_WORDS_[%]), -0.1714128274308632),\n",
      " (AnnotationKey (TAB_e2_ROW_WORDS_[f =]), -0.17107653227475092),\n",
      " (AnnotationKey (TAB_e1_COL_WORDS_[c =]), 0.16787070299158086),\n",
      " (AnnotationKey (TAB_e1_CELL_WORDS_[i]), -0.16766249236096878),\n",
      " (AnnotationKey (TAB_e1_COL_WORDS_[i]), -0.16722679549955802),\n",
      " (AnnotationKey (TAB_e1_COL_WORDS_[a]), -0.16585671118341744),\n",
      " (AnnotationKey (TAB_e1_COL_WORDS_[a ,]), -0.1614534520294078),\n",
      " (AnnotationKey (TAB_e1_COL_WORDS_[b]), -0.16048686537252577),\n",
      " (AnnotationKey (TAB_e2_ROW_WORDS_[, f]), -0.15992774913484833),\n",
      " (AnnotationKey (TAB_e1_ROW_WORDS_[=]), -0.15983697877781564),\n",
      " (AnnotationKey (TAB_e1_COL_WORDS_[f =]), 0.15596862554970317),\n",
      " (AnnotationKey (TAB_e1_COL_WORDS_[10]), -0.15450511222627578),\n",
      " (AnnotationKey (TAB_e2_ROW_WORDS_[i]), 0.1529731717358118),\n",
      " (AnnotationKey (TAB_e2_COL_WORDS_[80]), 0.14864970889468232),\n",
      " (AnnotationKey (TAB_e1_COL_WORDS_[cb]), -0.1444362759385203),\n",
      " (AnnotationKey (TAB_e1_CELL_WORDS_[i c]), -0.14250521626011725),\n",
      " (AnnotationKey (TAB_e1_ROW_HEAD_WORDS_[base-emitter]), -0.13416679029353543),\n",
      " (AnnotationKey (TAB_e1_ROW_INFERRED_WORDS_[b]), -0.13208198241573563),\n",
      " (AnnotationKey (TAB_e1_COL_INFERRED_WORDS_[b]), -0.13208198241573563),\n",
      " (AnnotationKey (TAB_e1_ROW_WORDS_[,]), 0.12773907894354924),\n",
      " (AnnotationKey (TAB_e1_ROW_WORDS_[, i]), 0.12667256910910982),\n",
      " (AnnotationKey (TAB_e1_ROW_WORDS_[base-emitter saturation]),\n",
      "  -0.12365017645861506),\n",
      " (AnnotationKey (TAB_e1_ROW_INFERRED_WORDS_[c =]), 0.11532855852312723),\n",
      " (AnnotationKey (TAB_e1_COL_INFERRED_WORDS_[c =]), 0.11532855852312723),\n",
      " (AnnotationKey (TAB_e1_ROW_WORDS_[saturation]), -0.11525676242029405),\n",
      " (AnnotationKey (TAB_e1_COL_WORDS_[test]), -0.11426751545968739),\n",
      " (AnnotationKey (TAB_e1_COL_WORDS_[, v]), 0.11113617849507557),\n",
      " (AnnotationKey (TAB_e1_CELL_WORDS_[=]), -0.11046810182109595),\n",
      " (AnnotationKey (TAB_SAME_TABLE_ROW_DIFF_[-2]), 0.10986894108991378),\n",
      " (AnnotationKey (TAB_e1_ROW_HEAD_WORDS_[base-emitter saturation]),\n",
      "  -0.107225169329887),\n",
      " (AnnotationKey (TAB_e1_COL_WORDS_[% a]), 0.10676880966535694),\n",
      " (AnnotationKey (TAB_e1_ROW_WORDS_[b =]), -0.10593070313395472),\n",
      " (AnnotationKey (TAB_e2_ROW_WORDS_[i c]), 0.10169309311729548),\n",
      " (AnnotationKey (TAB_e1_CELL_WORDS_[c =]), 0.10080328814037691),\n",
      " (AnnotationKey (TAB_e1_COL_WORDS_[= 1]), 0.10052118736871735),\n",
      " (AnnotationKey (TAB_e1_COL_WORDS_[1]), -0.09882247515733318),\n",
      " (AnnotationKey (TAB_e1_ROW_WORDS_[i]), -0.09665551217350413),\n",
      " (AnnotationKey (TAB_e2_HTML_ANC_TAG_[html]), 0.09498346262289169),\n",
      " (AnnotationKey (TAB_e2_HTML_ANC_TAG_[body]), 0.09498346262289169),\n",
      " (AnnotationKey (TAB_e2_HTML_ANC_TAG_[p]), 0.09498346262289169),\n",
      " (AnnotationKey (TAB_e1_HTML_ANC_TAG_[html]), 0.09498346262289169),\n",
      " (AnnotationKey (TAB_e2_HTML_TAG_p), 0.09498346262289169),\n",
      " (AnnotationKey (TAB_e1_ROW_WORDS_[ma]), -0.09207668487466368),\n",
      " (AnnotationKey (TAB_e1_LEFT_WORDS_[c =]), 0.09205811665938289),\n",
      " (AnnotationKey (TAB_e2_COL_WORDS_[580]), -0.09030967180560676),\n",
      " (AnnotationKey (TAB_e1_ROW_WORDS_[i c]), -0.09010176448788107),\n",
      " (AnnotationKey (TDL_INV_LEMMA:SEQ-BETWEEN[c =]), 0.08991908989309522),\n",
      " (AnnotationKey (TAB_e2_COL_HEAD_WORDS_[min .]), -0.08772114894919786),\n",
      " (AnnotationKey (TAB_e2_COL_WORDS_[min .]), -0.08772114894919786),\n",
      " (AnnotationKey (TAB_e1_ROW_WORDS_[0.5 ma]), 0.08450725807238403),\n",
      " (AnnotationKey (TAB_e1_COL_WORDS_[ma ,]), 0.08399981168043581),\n",
      " (AnnotationKey (TAB_e1_COL_WORDS_[i e]), 0.08327642656491395),\n",
      " (AnnotationKey (TAB_e1_ROW_WORDS_[= 0.5]), 0.07964205091104946),\n",
      " (AnnotationKey (TAB_e1_ROW_WORDS_[0.5]), 0.07964205091104946),\n",
      " (AnnotationKey (TAB_e1_CELL_WORDS_[,]), -0.07866201420210495),\n",
      " (AnnotationKey (TAB_e1_ROW_WORDS_[i b]), -0.0781773729789903),\n",
      " (AnnotationKey (TAB_e1_COL_WORDS_[f]), 0.07816376443009954),\n",
      " (AnnotationKey (TAB_e2_ROW_WORDS_[10ma ,]), -0.07794668381408063),\n",
      " (AnnotationKey (TAB_e2_COL_NUM_[3]), 0.0773472307469448),\n",
      " (AnnotationKey (TAB_e1_ROW_WORDS_[c =]), 0.07603272838020042),\n",
      " (AnnotationKey (TAB_e1_ROW_WORDS_[0.7]), -0.0755548363607909),\n",
      " (AnnotationKey (TAB_e1_ROW_WORDS_[c]), -0.0750476905564095),\n",
      " (AnnotationKey (TAB_e1_COL_WORDS_[, i]), 0.07341160386977018),\n",
      " (AnnotationKey (TAB_e1_COL_WORDS_[= 0.5]), 0.07061212720371104),\n",
      " (AnnotationKey (TAB_e1_COL_WORDS_[0.5]), 0.07061212720371104),\n",
      " (AnnotationKey (TAB_e1_RIGHT_WORDS_[ma]), 0.06979945116755389),\n",
      " (AnnotationKey (TAB_e1_ROW_WORDS_[voltage]), -0.06905776815670746),\n",
      " (AnnotationKey (TAB_e1_COL_WORDS_[c]), 0.06841386628246578),\n",
      " (AnnotationKey (TAB_e1_COL_HEAD_WORDS_[test]), -0.06391407719202159),\n",
      " (AnnotationKey (TAB_e1_ROW_INFERRED_WORDS_[5ma]), 0.06337832191685602),\n",
      " (AnnotationKey (TAB_e1_ROW_INFERRED_WORDS_[= 5ma]), 0.06337832191685602),\n",
      " (AnnotationKey (TAB_e1_COL_INFERRED_WORDS_[5ma]), 0.06337832191685602),\n",
      " (AnnotationKey (TAB_e1_COL_INFERRED_WORDS_[= 5ma]), 0.06337832191685602),\n",
      " (AnnotationKey (TAB_e2_ROW_WORDS_[10ma]), -0.06281842255872275),\n",
      " (AnnotationKey (TAB_e2_ROW_WORDS_[= 10ma]), -0.06281842255872275),\n",
      " (AnnotationKey (TAB_e1_COL_WORDS_[= 10ma]), -0.06214043917681421),\n",
      " (AnnotationKey (TAB_e1_COL_WORDS_[10ma]), -0.06214043917681421),\n",
      " (AnnotationKey (TAB_SAME_TABLE_COL_DIFF_[-2]), 0.060845016631023485),\n",
      " (AnnotationKey (TAB_SAME_TABLE_MANHATTAN_DIST_[4]), 0.0594245236392464),\n",
      " (AnnotationKey (TAB_e1_HTML_ANC_TAG_[tr]), 0.059230593017879724),\n",
      " (AnnotationKey (TAB_e1_HTML_ANC_TAG_[td]), 0.059230593017879724),\n",
      " (AnnotationKey (TAB_SAME_TABLE), 0.059230593017879724),\n",
      " (AnnotationKey (TAB_e1_HTML_ANC_TAG_[table]), 0.059230593017879724),\n",
      " (AnnotationKey (TAB_e2_ROW_WORDS_[c]), 0.05918832053202607),\n",
      " (AnnotationKey (TDL_INV_LEMMA:SEQ-BETWEEN[=]), 0.058898731314332695),\n",
      " (AnnotationKey (TAB_e1_COL_WORDS_[, f]), 0.0583680735094819),\n",
      " (AnnotationKey (TAB_e1_RIGHT_WORDS_[c]), -0.05691451612596076),\n",
      " (AnnotationKey (TDL_INV_DEP_LABEL:BETWEEN-MENTION-and-MENTION[ROOT]),\n",
      "  0.0566800676046829),\n",
      " (AnnotationKey (TAB_e1_COL_INFERRED_WORDS_[i]), -0.05661095756881454),\n",
      " (AnnotationKey (TAB_e1_ROW_INFERRED_WORDS_[i]), -0.05661095756881454),\n",
      " (AnnotationKey (TAB_e1_COL_WORDS_[1mhz]), 0.05617356631649124),\n",
      " (AnnotationKey (TAB_e1_COL_WORDS_[= 1mhz]), 0.05617356631649124),\n",
      " (AnnotationKey (TAB_e1_COL_WORDS_[= 10]), 0.055887591973916455),\n",
      " (AnnotationKey (TAB_e1_ROW_INFERRED_WORDS_[, i]), 0.052027649967576736),\n",
      " (AnnotationKey (TAB_e1_COL_INFERRED_WORDS_[, i]), 0.052027649967576736),\n",
      " (AnnotationKey (TAB_e1_COL_WORDS_[5v ,]), 0.05190701981123916),\n",
      " (AnnotationKey (TAB_e1_COL_WORDS_[i b]), 0.051077086203015654),\n",
      " (AnnotationKey (TAB_e2_ROW_WORDS_[5v ,]), 0.05106157943752377),\n",
      " (AnnotationKey (TAB_e1_LEFT_WORDS_[, i]), 0.050199019522083214),\n",
      " (AnnotationKey (TAB_e1_COL_INFERRED_WORDS_[0.5 ma]), 0.05005692897199704),\n",
      " (AnnotationKey (TAB_e1_COL_INFERRED_WORDS_[0.5]), 0.05005692897199704),\n",
      " (AnnotationKey (TAB_e1_COL_INFERRED_WORDS_[= 0.5]), 0.05005692897199704),\n",
      " (AnnotationKey (TAB_e1_ROW_INFERRED_WORDS_[= 0.5]), 0.05005692897199704),\n",
      " (AnnotationKey (TAB_e1_ROW_INFERRED_WORDS_[0.5 ma]), 0.05005692897199704),\n",
      " (AnnotationKey (TAB_e1_ROW_INFERRED_WORDS_[0.5]), 0.05005692897199704),\n",
      " (AnnotationKey (TAB_e1_CELL_WORDS_[= 5ma]), 0.04873582798255415),\n",
      " (AnnotationKey (TAB_e1_CELL_WORDS_[5ma]), 0.04873582798255415),\n",
      " (AnnotationKey (TAB_e1_COL_NUM_[1]), 0.04850609214462667),\n",
      " (AnnotationKey (TAB_e1_COL_WORDS_[e]), 0.047939419577114645),\n",
      " (AnnotationKey (TAB_e1_ROW_WORDS_[= 5ma]), 0.047640998064329164),\n",
      " (AnnotationKey (TAB_e1_ROW_WORDS_[5ma]), 0.047640998064329164),\n",
      " (AnnotationKey (TAB_e1_COL_WORDS_[10ma ,]), -0.046932802840866636),\n",
      " (AnnotationKey (TAB_e1_CELL_WORDS_[, i]), 0.04672098137769028),\n",
      " (AnnotationKey (TDL_INV_SEQ-BETWEEN[LEN:5-7]), 0.046286353582223036),\n",
      " (AnnotationKey (TAB_e2_COL_WORDS_[6]), -0.04627151417898284),\n",
      " (AnnotationKey (TAB_e1_COL_WORDS_[vce]), -0.0454043914196704),\n",
      " (AnnotationKey (TAB_e1_COL_WORDS_[vce =]), -0.0454043914196704),\n",
      " (AnnotationKey (TAB_e1_CELL_WORDS_[= 100ma]), 0.04490621848955175),\n",
      " (AnnotationKey (TAB_e1_CELL_WORDS_[100ma]), 0.04490621848955175),\n",
      " (AnnotationKey (TAB_e1_ROW_WORDS_[100ma ,]), 0.04490621848955175),\n",
      " (AnnotationKey (TAB_e1_CELL_WORDS_[100ma ,]), 0.04490621848955175),\n",
      " (AnnotationKey (TAB_e2_ROW_WORDS_[= 5v]), 0.04396356368686316),\n",
      " (AnnotationKey (TAB_e2_ROW_WORDS_[5v]), 0.04396356368686316),\n",
      " (AnnotationKey (TAB_e1_COL_WORDS_[2ma ,]), -0.043646510514764356),\n",
      " (AnnotationKey (TAB_e1_COL_WORDS_[100ma]), -0.04227278409055249),\n",
      " (AnnotationKey (TAB_e1_COL_WORDS_[= 100ma]), -0.04227278409055249),\n",
      " (AnnotationKey (TAB_e1_COL_WORDS_[1 %]), 0.04175573488619441),\n",
      " (AnnotationKey (TAB_e1_COL_WORDS_[e =]), 0.0405148766740718),\n",
      " (AnnotationKey (TAB_e1_ROW_WORDS_[)]), 0.039374740988608194),\n",
      " (AnnotationKey (TAB_e1_COL_WORDS_[test condition]), -0.03876587196504829),\n",
      " (AnnotationKey (TAB_e1_COL_WORDS_[condition]), -0.03876587196504829),\n",
      " (AnnotationKey (TAB_e1_COL_HEAD_WORDS_[condition]), -0.03876587196504829),\n",
      " (AnnotationKey (TAB_e1_COL_HEAD_WORDS_[test condition]),\n",
      "  -0.03876587196504829),\n",
      " (AnnotationKey (TAB_e1_COL_WORDS_[= 10ua]), -0.037752056416952964),\n",
      " (AnnotationKey (TAB_e1_COL_WORDS_[10ua]), -0.037752056416952964),\n",
      " (AnnotationKey (TAB_e1_COL_WORDS_[200hz]), -0.0376282654487856),\n",
      " (AnnotationKey (TAB_e1_COL_WORDS_[= 200hz]), -0.0376282654487856),\n",
      " (AnnotationKey (TAB_e1_COL_WORDS_[0.2]), -0.037110564016708085),\n",
      " (AnnotationKey (TDL_INV_LEMMA:SEQ-BETWEEN[, I]), 0.036415339232042356),\n",
      " (AnnotationKey (TAB_e1_COL_WORDS_[rev. 2]), -0.03604862402831307),\n",
      " (AnnotationKey (TAB_e1_COL_WORDS_[rev.]), -0.03604862402831307),\n",
      " (AnnotationKey (TAB_e1_COL_WORDS_[jun-2012 ,]), -0.03604862402831307),\n",
      " (AnnotationKey (TAB_e1_COL_WORDS_[jun-2012]), -0.03604862402831307),\n",
      " (AnnotationKey (TAB_e1_COL_WORDS_[, jun-2012]), -0.03604862402831307),\n",
      " (AnnotationKey (TAB_e1_COL_WORDS_[2 ,]), -0.03604862402831307),\n",
      " (AnnotationKey (TDL_INV_LEMMA:PARENTS-OF-BETWEEN-MENTION-and-MENTION[None]),\n",
      "  0.034784737765898306),\n",
      " (AnnotationKey (TAB_e1_COL_WORDS_[10v ,]), 0.03398821304916549),\n",
      " (AnnotationKey (TAB_e1_COL_WORDS_[0.5 ma]), 0.032746640324769344),\n",
      " (AnnotationKey (TAB_e1_COL_WORDS_[= 10v]), 0.03273621756395614),\n",
      " (AnnotationKey (TAB_e1_COL_WORDS_[10v]), 0.03273621756395614),\n",
      " (AnnotationKey (TAB_e1_HTML_TAG_p), -0.03249638693947691),\n",
      " (AnnotationKey (TAB_e2_COL_WORDS_[nf]), 0.03247661745210612),\n",
      " (AnnotationKey (TAB_e1_CELL_WORDS_[0.5 ma]), 0.032424610340298275),\n",
      " (AnnotationKey (TAB_e1_ROW_INFERRED_WORDS_[= 100ma]), 0.031792444532661564),\n",
      " (AnnotationKey (TAB_e1_COL_INFERRED_WORDS_[100ma]), 0.031792444532661564),\n",
      " (AnnotationKey (TAB_e1_COL_INFERRED_WORDS_[100ma ,]), 0.031792444532661564),\n",
      " (AnnotationKey (TAB_e1_ROW_INFERRED_WORDS_[100ma]), 0.031792444532661564),\n",
      " (AnnotationKey (TAB_e1_ROW_INFERRED_WORDS_[100ma ,]), 0.031792444532661564),\n",
      " (AnnotationKey (TAB_e1_COL_INFERRED_WORDS_[= 100ma]), 0.031792444532661564),\n",
      " (AnnotationKey (TDL_INV_BETWEEN-MENTION-and-MENTION[LEN:0-2]),\n",
      "  0.03130580953716753),\n",
      " (AnnotationKey (TAB_e1_COL_WORDS_[100ma ,]), -0.03116084671359333),\n",
      " (AnnotationKey (TAB_e1_COL_WORDS_[v cb]), 0.029623916961085548),\n",
      " (AnnotationKey (TAB_e1_COL_WORDS_[cb =]), 0.029623916961085548),\n",
      " (AnnotationKey (TAB_e1_COL_WORDS_[1khz ,]), 0.02868767255506993),\n",
      " (AnnotationKey (TAB_e1_LEFT_WORDS_[,]), -0.02867938632819776),\n",
      " (AnnotationKey (TAB_e1_ROW_INFERRED_WORDS_[,]), -0.028350706565031573),\n",
      " (AnnotationKey (TAB_e1_COL_INFERRED_WORDS_[,]), -0.028350706565031573),\n",
      " (AnnotationKey (TAB_e1_RIGHT_WORDS_[i]), 0.02775574574469475),\n",
      " (AnnotationKey (TAB_e1_CELL_WORDS_[= 0.5]), 0.027567395749420725),\n",
      " (AnnotationKey (TAB_e1_CELL_WORDS_[0.5]), 0.027567395749420725),\n",
      " (AnnotationKey (TAB_e1_COL_WORDS_[,]), -0.027131104656380203),\n",
      " (AnnotationKey (TAB_e1_COL_WORDS_[2k %]), 0.026490959389536602),\n",
      " (AnnotationKey (TAB_e1_RIGHT_WORDS_[= 0.5]), 0.026017025855039386),\n",
      " (AnnotationKey (TAB_e1_RIGHT_WORDS_[0.5 ma]), 0.026017025855039386),\n",
      " (AnnotationKey (TAB_e1_RIGHT_WORDS_[0.5]), 0.026017025855039386),\n",
      " (AnnotationKey (TAB_e1_ROW_WORDS_[v be]), -0.025662477294552344),\n",
      " (AnnotationKey (TAB_e1_ROW_WORDS_[be]), -0.025662477294552344),\n",
      " (AnnotationKey (TAB_e1_COL_WORDS_[ma]), 0.025472977081365377),\n",
      " (AnnotationKey (TAB_e1_RIGHT_WORDS_[100ma]), 0.024609828858305236),\n",
      " (AnnotationKey (TAB_e1_RIGHT_WORDS_[= 100ma]), 0.024609828858305236),\n",
      " (AnnotationKey (TDL_INV_DEP_LABEL|LEMMA:BETWEEN-MENTION-and-MENTION[ROOT|10ma conj|100ma]),\n",
      "  0.024516513430830382),\n",
      " (AnnotationKey (TDL_INV_DEP_LABEL|LEMMA:BETWEEN-MENTION-and-MENTION[conj|100ma]),\n",
      "  0.024516513430830382),\n",
      " (AnnotationKey (TDL_INV_LEMMA:BETWEEN-MENTION-and-MENTION[10ma 100ma]),\n",
      "  0.024516513430830382),\n",
      " (AnnotationKey (TAB_e1_ROW_WORDS_[(]), 0.022621788055143803),\n",
      " (AnnotationKey (TAB_e1_COL_WORDS_[bandwidth]), -0.02219068105434122),\n",
      " (AnnotationKey (TAB_e1_COL_WORDS_[ma i]), 0.022175352944827316),\n",
      " (AnnotationKey (TAB_e1_LEFT_WORDS_[10ma]), -0.02167344450821283),\n",
      " (AnnotationKey (TAB_e1_LEFT_WORDS_[= 10ma]), -0.02167344450821283),\n",
      " (AnnotationKey (TAB_e1_ROW_NUM_[8]), -0.02150926934745672),\n",
      " (AnnotationKey (TAB_e1_ROW_WORDS_[100ma]), 0.021454072243063043),\n",
      " (AnnotationKey (TAB_e1_ROW_WORDS_[= 100ma]), 0.021454072243063043),\n",
      " (AnnotationKey (TAB_e1_COL_WORDS_[2k]), 0.02122026450154901),\n",
      " (AnnotationKey (TAB_e1_COL_WORDS_[= 2k]), 0.02122026450154901),\n",
      " (AnnotationKey (TDL_INV_LEMMA:RIGHT-OF-MENTION[=]), 0.020659938280177113),\n",
      " (AnnotationKey (TDL_INV_DEP_LABEL:BETWEEN-MENTION-and-MENTION[ROOT conj]),\n",
      "  0.020447486015534793),\n",
      " (AnnotationKey (TAB_e1_ROW_INFERRED_WORDS_[i c]), -0.020224530213425424),\n",
      " (AnnotationKey (TAB_e1_COL_INFERRED_WORDS_[i c]), -0.020224530213425424),\n",
      " (AnnotationKey (TAB_e1_COL_INFERRED_WORDS_[ma]), 0.02021346633081819),\n",
      " (AnnotationKey (TAB_e1_ROW_INFERRED_WORDS_[ma]), 0.02021346633081819),\n",
      " (AnnotationKey (TAB_e1_COL_WORDS_[i c]), -0.019496849306576525),\n",
      " (AnnotationKey (TAB_e1_ROW_INFERRED_WORDS_[=]), 0.01855337977370581),\n",
      " (AnnotationKey (TAB_e1_COL_INFERRED_WORDS_[=]), 0.01855337977370581),\n",
      " (AnnotationKey (TAB_e1_COL_WORDS_[b =]), -0.016993748535700105),\n",
      " (AnnotationKey (TAB_e1_RIGHT_WORDS_[i c]), 0.016589675815746836),\n",
      " (AnnotationKey (TDL_INV_LEMMA:RIGHT-OF-MENTION[c]), -0.016263184868979666),\n",
      " (AnnotationKey (TAB_e2_COL_WORDS_[h]), -0.015746251051654718),\n",
      " (AnnotationKey (TAB_e1_ROW_INFERRED_WORDS_[i b]), 0.01551408778486185),\n",
      " (AnnotationKey (TAB_e1_ROW_INFERRED_WORDS_[b =]), 0.01551408778486185),\n",
      " (AnnotationKey (TAB_e1_COL_INFERRED_WORDS_[i b]), 0.01551408778486185),\n",
      " (AnnotationKey (TAB_e1_COL_INFERRED_WORDS_[b =]), 0.01551408778486185),\n",
      " (AnnotationKey (TAB_e1_HTML_ANC_TAG_[p]), -0.015464401585593087),\n",
      " (AnnotationKey (TAB_e1_LEFT_WORDS_[i c]), 0.015075590515727365),\n",
      " (AnnotationKey (TAB_e1_COL_WORDS_[1khz]), 0.014903261769511376),\n",
      " (AnnotationKey (TAB_e1_COL_WORDS_[= 1khz]), 0.014903261769511376),\n",
      " (AnnotationKey (TAB_e1_COL_WORDS_[=]), -0.014855506902216875),\n",
      " (AnnotationKey (TAB_e1_ROW_INFERRED_WORDS_[10ma ,]), 0.014570624440290154),\n",
      " (AnnotationKey (TAB_e1_COL_INFERRED_WORDS_[10ma ,]), 0.014570624440290154),\n",
      " (AnnotationKey (TAB_e1_COL_WORDS_[ce]), -0.0143424770403983),\n",
      " (AnnotationKey (TAB_e1_COL_WORDS_[v ce]), -0.0143424770403983),\n",
      " (AnnotationKey (TAB_e1_COL_WORDS_[= 2ma]), 0.013912245803688593),\n",
      " (AnnotationKey (TAB_e1_COL_WORDS_[2ma]), 0.013912245803688593),\n",
      " (AnnotationKey (TDL_INV_LEMMA:SEQ-BETWEEN[,]), -0.013542902349054487),\n",
      " (AnnotationKey (TAB_e1_COL_WORDS_[= 5ma]), 0.013439364440862762),\n",
      " (AnnotationKey (TAB_e1_COL_WORDS_[5ma]), 0.013439364440862762),\n",
      " (AnnotationKey (TAB_e1_COL_WORDS_[= 100mhz]), 0.0133703751231112),\n",
      " (AnnotationKey (TAB_e1_COL_WORDS_[100mhz]), 0.0133703751231112),\n",
      " (AnnotationKey (TAB_e1_COL_INFERRED_WORDS_[= 10ma]), 0.013322818966280433),\n",
      " (AnnotationKey (TAB_e1_ROW_INFERRED_WORDS_[10ma]), 0.013322818966280433),\n",
      " (AnnotationKey (TAB_e1_ROW_INFERRED_WORDS_[= 10ma]), 0.013322818966280433),\n",
      " (AnnotationKey (TAB_e1_COL_INFERRED_WORDS_[10ma]), 0.013322818966280433),\n",
      " (AnnotationKey (TAB_e1_LEFT_WORDS_[=]), 0.013291079644308645),\n",
      " (AnnotationKey (TAB_e1_COL_WORDS_[30v]), 0.01253787597621522),\n",
      " (AnnotationKey (TAB_e1_COL_WORDS_[= 30v]), 0.01253787597621522),\n",
      " (AnnotationKey (TAB_e2_ROW_WORDS_[= 100mhz]), -0.012432027772714556),\n",
      " (AnnotationKey (TAB_e2_ROW_WORDS_[100mhz]), -0.012432027772714556),\n",
      " (AnnotationKey (TDL_INV_LEMMA:SEQ-BETWEEN[10ma]), -0.012404790397559224),\n",
      " (AnnotationKey (TDL_INV_LEMMA:SEQ-BETWEEN[= 10ma]), -0.012404790397559224),\n",
      " (AnnotationKey (TDL_INV_LEMMA:SEQ-BETWEEN[c = 10ma]), -0.012404790397559224),\n",
      " (AnnotationKey (TAB_e1_RIGHT_WORDS_[c =]), 0.01169057136186946),\n",
      " (AnnotationKey (TAB_e2_ROW_WORDS_[transition]), -0.011123039813387785),\n",
      " (AnnotationKey (TAB_e2_ROW_WORDS_[transition frequency]),\n",
      "  -0.011123039813387785),\n",
      " (AnnotationKey (TAB_e2_ROW_WORDS_[frequency]), -0.011123039813387785),\n",
      " (AnnotationKey (TAB_e1_COL_WORDS_[ic =]), 0.010298828497929527),\n",
      " (AnnotationKey (TAB_e1_COL_WORDS_[ic]), 0.010298828497929527),\n",
      " (AnnotationKey (TAB_e1_COL_WORDS_[, ic]), 0.010298828497929527),\n",
      " (AnnotationKey (TAB_e1_HTML_ANC_TAG_[body]), 0.009425293219955387),\n",
      " (AnnotationKey (TAB_e1_LEFT_WORDS_[10ma ,]), -0.009380194485435549),\n",
      " (AnnotationKey (TAB_e1_COL_WORDS_[rs]), 0.008806981877775018),\n",
      " (AnnotationKey (TAB_e1_COL_WORDS_[, rs]), 0.008806981877775018),\n",
      " (AnnotationKey (TAB_e1_COL_WORDS_[bw]), 0.008806981877775018),\n",
      " (AnnotationKey (TAB_e1_COL_WORDS_[rs =]), 0.008806981877775018),\n",
      " (AnnotationKey (TAB_e1_COL_WORDS_[ce =]), 0.008633632216193787),\n",
      " (AnnotationKey (TAB_e1_COL_WORDS_[= 5v]), -0.007739934571230683),\n",
      " (AnnotationKey (TAB_e1_COL_WORDS_[5v]), -0.007739934571230683),\n",
      " (AnnotationKey (TAB_e1_CELL_WORDS_[ma i]), 0.007003218980515766),\n",
      " (AnnotationKey (TAB_e1_ROW_INFERRED_WORDS_[ma i]), 0.007003218980515766),\n",
      " (AnnotationKey (TAB_e1_COL_INFERRED_WORDS_[ma i]), 0.007003218980515766),\n",
      " (AnnotationKey (TAB_e2_ROW_HEAD_WORDS_[frequency]), -0.006874963599428926),\n",
      " (AnnotationKey (TAB_e2_ROW_HEAD_WORDS_[transition frequency]),\n",
      "  -0.006874963599428926),\n",
      " (AnnotationKey (TAB_e2_ROW_HEAD_WORDS_[transition]), -0.006874963599428926),\n",
      " (AnnotationKey (TAB_e1_ROW_WORDS_[be (]), 0.006848565656456953),\n",
      " (AnnotationKey (TDL_INV_DEP_LABEL:BETWEEN-MENTION-and-MENTION[conj]),\n",
      "  -0.006560661766481935),\n",
      " (AnnotationKey (TAB_e1_ROW_WORDS_[ma i]), 0.00593236948224388),\n",
      " (AnnotationKey (TAB_e1_COL_WORDS_[= 0]), 0.005637412004085834),\n",
      " (AnnotationKey (TDL_INV_DEP_LABEL|LEMMA:BETWEEN-MENTION-and-MENTION[ROOT|10ma]),\n",
      "  0.005571462465624795),\n",
      " (AnnotationKey (TDL_INV_LEMMA:BETWEEN-MENTION-and-MENTION[10ma]),\n",
      "  0.005571462465624795),\n",
      " (AnnotationKey (TAB_e1_CELL_WORDS_[i b]), 0.004918863040983),\n",
      " (AnnotationKey (TAB_e1_CELL_WORDS_[b =]), 0.004918863040983),\n",
      " (AnnotationKey (TDL_INV_LEMMA:SEQ-BETWEEN[I]), 0.004307435640148524),\n",
      " (AnnotationKey (TAB_e1_ROW_WORDS_[0.9]), 0.004177128012281442),\n",
      " (AnnotationKey (TAB_e1_LEFT_WORDS_[c]), -0.003822757277480241),\n",
      " (AnnotationKey (TAB_e1_ROW_WORDS_[v]), 0.003643598487463585),\n",
      " (AnnotationKey (TAB_e1_RIGHT_WORDS_[=]), -0.0030842047999635725),\n",
      " (AnnotationKey (TAB_e1_CELL_WORDS_[= 10ma]), 0.002476127969301847),\n",
      " (AnnotationKey (TAB_e1_CELL_WORDS_[10ma]), 0.002476127969301847),\n",
      " (AnnotationKey (TAB_e1_ROW_WORDS_[10ma ,]), -0.0020266557671835997),\n",
      " (AnnotationKey (TAB_e1_LEFT_WORDS_[i]), 0.0017149337462895303),\n",
      " (AnnotationKey (TDL_INV_LEMMA:SEQ-BETWEEN[10ma ,]), 0.0016872480202830646),\n",
      " (AnnotationKey (TDL_INV_LEMMA:SEQ-BETWEEN[10ma , I]), 0.0016872480202830646),\n",
      " (AnnotationKey (TDL_INV_LEMMA:SEQ-BETWEEN[= 10ma ,]), 0.0016872480202830646),\n",
      " (AnnotationKey (TAB_e1_ROW_WORDS_[10ma]), 0.0013773019461784369),\n",
      " (AnnotationKey (TAB_e1_ROW_WORDS_[= 10ma]), 0.0013773019461784369),\n",
      " (AnnotationKey (TAB_e1_CELL_WORDS_[10ma ,]), -0.0013582875304911021),\n",
      " (AnnotationKey (TDL_INV_LEMMA:SEQ-BETWEEN[c]), -0.0012520042711631069),\n",
      " (AnnotationKey (TAB_e1_RIGHT_WORDS_[ma i]), 0.0009473794569257913),\n",
      " (AnnotationKey (TAB_e1_COL_WORDS_[0.2 ma]), 0.0006707896662937658),\n",
      " (AnnotationKey (TAB_e1_COL_WORDS_[= 0.2]), 0.0006707896662937658),\n",
      " (AnnotationKey (TDL_INV_LEMMA:BETWEEN-MENTION-and-MENTION[100ma]),\n",
      "  -0.0002547395160231016),\n",
      " (AnnotationKey (TAB_e1_ROW_WORDS_[( sat]), -0.00017914469800820856),\n",
      " (AnnotationKey (TAB_e1_ROW_WORDS_[sat]), -0.00017914469800820856),\n",
      " (AnnotationKey (TAB_e1_ROW_WORDS_[sat )]), -0.00017914469800820856)]\n"
     ]
    }
   ],
   "source": [
    "from hardware_utils import current_entity_to_candidates\n",
    "\n",
    "entity = FN_list[0]\n",
    "print entity\n",
    "print\n",
    "\n",
    "matches = current_entity_to_candidates(entity, fn)\n",
    "print \"# Matches: %d\" % len(matches)\n",
    "candidate = matches[0]\n",
    "print candidate\n",
    "print\n",
    "\n",
    "print disc_model.get_candidate_score(candidate, F_dev)\n",
    "print\n",
    "pprint(disc_model.get_candidate_feature_weights(candidate, F_dev))"
   ]
  },
  {
   "cell_type": "code",
   "execution_count": 9,
   "metadata": {
    "collapsed": true
   },
   "outputs": [],
   "source": [
    "\n",
    "import os\n",
    "os.system('cp snorkel.db snorkel.db\\ final');"
   ]
  },
  {
   "cell_type": "code",
   "execution_count": null,
   "metadata": {
    "collapsed": true
   },
   "outputs": [],
   "source": []
  },
  {
   "cell_type": "code",
   "execution_count": null,
   "metadata": {
    "collapsed": true
   },
   "outputs": [],
   "source": []
  },
  {
   "cell_type": "code",
   "execution_count": null,
   "metadata": {
    "collapsed": true
   },
   "outputs": [],
   "source": []
  }
 ],
 "metadata": {
  "anaconda-cloud": {},
  "kernelspec": {
   "display_name": "Python 2",
   "language": "python",
   "name": "python2"
  },
  "language_info": {
   "codemirror_mode": {
    "name": "ipython",
    "version": 2
   },
   "file_extension": ".py",
   "mimetype": "text/x-python",
   "name": "python",
   "nbconvert_exporter": "python",
   "pygments_lexer": "ipython2",
   "version": "2.7.12"
  }
 },
 "nbformat": 4,
 "nbformat_minor": 1
}
