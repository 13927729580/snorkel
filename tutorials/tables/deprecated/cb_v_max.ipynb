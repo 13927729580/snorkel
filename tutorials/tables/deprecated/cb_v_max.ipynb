{
 "cells": [
  {
   "cell_type": "markdown",
   "metadata": {},
   "source": [
    "# CB_V_MAX"
   ]
  },
  {
   "cell_type": "markdown",
   "metadata": {},
   "source": [
    "## Setup"
   ]
  },
  {
   "cell_type": "code",
   "execution_count": 1,
   "metadata": {
    "collapsed": false
   },
   "outputs": [],
   "source": [
    "# If necessary:\n",
    "# import os\n",
    "# os.remove('snorkel.db')"
   ]
  },
  {
   "cell_type": "code",
   "execution_count": 2,
   "metadata": {
    "collapsed": false
   },
   "outputs": [],
   "source": [
    "%load_ext autoreload\n",
    "%autoreload 2\n",
    "%matplotlib inline\n",
    "\n",
    "import os\n",
    "import sys\n",
    "sys.path.append(os.environ['SNORKELHOME'] + '/tutorials/tables/')"
   ]
  },
  {
   "cell_type": "markdown",
   "metadata": {},
   "source": [
    "## Parsing"
   ]
  },
  {
   "cell_type": "code",
   "execution_count": 3,
   "metadata": {
    "collapsed": false
   },
   "outputs": [
    {
     "data": {
      "text/plain": [
       "0"
      ]
     },
     "execution_count": 3,
     "metadata": {},
     "output_type": "execute_result"
    }
   ],
   "source": [
    "os.environ['SNORKELDBNAME'] = 'polarity'\n",
    "os.system(\"dropdb \" + os.environ['SNORKELDBNAME'])\n",
    "os.system(\"createdb \" + os.environ['SNORKELDBNAME'])"
   ]
  },
  {
   "cell_type": "code",
   "execution_count": 4,
   "metadata": {
    "collapsed": true
   },
   "outputs": [],
   "source": [
    "from snorkel import SnorkelSession\n",
    "session = SnorkelSession()"
   ]
  },
  {
   "cell_type": "markdown",
   "metadata": {},
   "source": [
    "### Define Parser"
   ]
  },
  {
   "cell_type": "code",
   "execution_count": 5,
   "metadata": {
    "collapsed": true
   },
   "outputs": [],
   "source": [
    "import os\n",
    "from snorkel.parser import CorpusParser, HTMLParser, OmniParser\n",
    "from snorkel.utils import get_ORM_instance\n",
    "from snorkel.queries import split_corpus\n",
    "\n",
    "html_path = os.environ['SNORKELHOME'] + '/tutorials/tables/data/hardware/hardware100_html/'\n",
    "pdf_path  = os.environ['SNORKELHOME'] + '/tutorials/tables/data/hardware/hardware100_pdf/'\n",
    "doc_parser = HTMLParser(path=html_path)\n",
    "context_parser = OmniParser(flatten=['span'], blacklist=['style'],\n",
    "                            visual=True, pdf_path=pdf_path, session=session)\n",
    "cp = CorpusParser(doc_parser, context_parser, max_docs=100) "
   ]
  },
  {
   "cell_type": "markdown",
   "metadata": {},
   "source": [
    "### Run Parser"
   ]
  },
  {
   "cell_type": "code",
   "execution_count": 6,
   "metadata": {
    "collapsed": false,
    "scrolled": true
   },
   "outputs": [
    {
     "name": "stdout",
     "output_type": "stream",
     "text": [
      "[========================================] 100%\n",
      "CPU times: user 4min 23s, sys: 18.3 s, total: 4min 41s\n",
      "Wall time: 10min 2s\n"
     ]
    }
   ],
   "source": [
    "%time corpus = cp.parse_corpus(name='Hardware', session=session)\n",
    "\n",
    "session.add(corpus)\n",
    "session.commit()"
   ]
  },
  {
   "cell_type": "markdown",
   "metadata": {},
   "source": [
    "### Split Corpus"
   ]
  },
  {
   "cell_type": "code",
   "execution_count": 7,
   "metadata": {
    "collapsed": false
   },
   "outputs": [
    {
     "name": "stdout",
     "output_type": "stream",
     "text": [
      "78 Documents added to corpus Hardware Training\n",
      "19 Documents added to corpus Hardware Development\n"
     ]
    }
   ],
   "source": [
    "from snorkel.models import Corpus\n",
    "\n",
    "corpus = get_ORM_instance(Corpus, session, 'Hardware')\n",
    "split_corpus(session, corpus, train=0.8, development=0.2, test=0, seed=9)"
   ]
  },
  {
   "cell_type": "code",
   "execution_count": null,
   "metadata": {
    "collapsed": true
   },
   "outputs": [],
   "source": [
    "# If necessary\n",
    "# import os\n",
    "# os.system('cp snorkel.db snorkel.db\\ corpus');"
   ]
  },
  {
   "cell_type": "markdown",
   "metadata": {},
   "source": [
    "## Extraction"
   ]
  },
  {
   "cell_type": "code",
   "execution_count": null,
   "metadata": {
    "collapsed": false
   },
   "outputs": [],
   "source": [
    "# If necessary:\n",
    "# import os\n",
    "# os.remove('snorkel.db');\n",
    "# os.system('cp snorkel.db\\ corpus snorkel.db');\n",
    "\n",
    "# %load_ext autoreload\n",
    "# %autoreload 2\n",
    "# %matplotlib inline\n",
    "\n",
    "# import sys\n",
    "# sys.path.append(os.environ['SNORKELHOME'] + '/tutorials/tables/')\n",
    "\n",
    "# from snorkel import SnorkelSession\n",
    "# session = SnorkelSession()"
   ]
  },
  {
   "cell_type": "code",
   "execution_count": 8,
   "metadata": {
    "collapsed": true
   },
   "outputs": [],
   "source": [
    "from snorkel.models import candidate_subclass\n",
    "\n",
    "Part_Voltage = candidate_subclass('Part_Voltage', ['part','voltage'])"
   ]
  },
  {
   "cell_type": "markdown",
   "metadata": {},
   "source": [
    "### Define Matchers"
   ]
  },
  {
   "cell_type": "code",
   "execution_count": 9,
   "metadata": {
    "collapsed": false
   },
   "outputs": [],
   "source": [
    "from snorkel.matchers import RegexMatchSpan, Union\n",
    "\n",
    "eeca_rgx = '([b]{1}[abcdefklnpqruyz]{1}[\\swxyz]?[0-9]{3,5}[\\s]?[A-Z\\/]{0,5}[0-9]?[A-Z]?([-][A-Z0-9]{1,7})?([-][A-Z0-9]{1,2})?)'\n",
    "eeca_matcher = RegexMatchSpan(rgx=eeca_rgx)\n",
    "jedec_rgx = '([123]N\\d{3,4}[A-Z]{0,5}[0-9]?[A-Z]?)'\n",
    "jedec_matcher = RegexMatchSpan(rgx=jedec_rgx)\n",
    "jis_rgx = '(2S[abcdefghjkmqrstvz]{1}[\\d]{2,4})'\n",
    "jis_matcher = RegexMatchSpan(rgx=jis_rgx)\n",
    "others_rgx = '((NSVBC|SMBT|MJ|MJE|MPS|MRF|RCA|TIP|ZTX|ZT|TIS|TIPL|DTC|MMBT|PZT){1}[\\d]{2,4}[A-Z]{0,3}([-][A-Z0-9]{0,6})?([-][A-Z0-9]{0,1})?)'\n",
    "others_matcher = RegexMatchSpan(rgx=others_rgx)\n",
    "parts_rgx = '|'.join([eeca_rgx, jedec_rgx, jis_rgx, others_rgx])\n",
    "parts_matcher = Union(eeca_matcher, jedec_matcher, jis_matcher, others_matcher)\n",
    "\n",
    "#NOTE: This is super specific.\n",
    "cb_v_matcher = RegexMatchSpan(rgx=r'\\-?[2-8][0]', longest_match_only=False)"
   ]
  },
  {
   "cell_type": "code",
   "execution_count": 10,
   "metadata": {
    "collapsed": false
   },
   "outputs": [],
   "source": [
    "# import re\n",
    "# part_finder = re.compile(parts_rgx, re.I)\n",
    "# print any([part_finder.match(x) for x in ['blue', 'red', 'black', 'green']])\n",
    "# print any([part_finder.match(x) for x in ['blue', 'red', 'BC546A', 'green']])"
   ]
  },
  {
   "cell_type": "markdown",
   "metadata": {},
   "source": [
    "### Define ContextSpaces"
   ]
  },
  {
   "cell_type": "code",
   "execution_count": 11,
   "metadata": {
    "collapsed": false
   },
   "outputs": [],
   "source": [
    "import os\n",
    "from collections import defaultdict\n",
    "from hardware_utils import OmniNgramsPart, OmniNgramsTemp, get_gold_dict\n",
    "\n",
    "# Make parts list\n",
    "gold_file = os.environ['SNORKELHOME'] + '/tutorials/tables/data/hardware/hardware_gold.csv'\n",
    "gold_parts = get_gold_dict(gold_file, doc_on=True, part_on=True, val_on=False)\n",
    "parts_by_doc = defaultdict(set)\n",
    "for part in gold_parts:\n",
    "    parts_by_doc[part[0]].add(part[1])\n",
    "    \n",
    "part_ngrams = OmniNgramsPart(parts_by_doc=parts_by_doc, n_max=3)\n",
    "\n",
    "# TODO: This is missing the current represented as an Amp rather than a milliamp\n",
    "cb_v_ngrams = OmniNgramsTemp(n_max=3)"
   ]
  },
  {
   "cell_type": "markdown",
   "metadata": {},
   "source": [
    "### Define Throttler"
   ]
  },
  {
   "cell_type": "code",
   "execution_count": 12,
   "metadata": {
    "collapsed": false
   },
   "outputs": [],
   "source": [
    "from snorkel.lf_helpers import *\n",
    "\n",
    "def cbv_throttler((part_span, attr_span)):\n",
    "    \"\"\"\n",
    "    Keep only those candidates where both spans are on the same page and\n",
    "    either aligned in the same table (visually or structurally) or the part is global.\n",
    "    \"\"\"\n",
    "    return(\n",
    "        same_page((part_span, attr_span)) and\n",
    "        (part_span.parent.table is None or\n",
    "        (same_row((part_span, attr_span)) or is_horz_aligned((part_span, attr_span)))))\n",
    "#     \"\"\"\n",
    "#     Reject any candidates whose attributes are horizontally aligned with at least one \n",
    "#     part number and are not horizontally aligned with the candidate part number\n",
    "#     \"\"\"\n",
    "#     return not (any(part_finder.match(word) for word in get_horz_ngrams(attr_span)) and \n",
    "#         not is_horz_aligned((part_span, attr_span)))"
   ]
  },
  {
   "cell_type": "markdown",
   "metadata": {},
   "source": [
    "### Run CandidateExtractor"
   ]
  },
  {
   "cell_type": "code",
   "execution_count": 13,
   "metadata": {
    "collapsed": false,
    "scrolled": true
   },
   "outputs": [
    {
     "name": "stdout",
     "output_type": "stream",
     "text": [
      "Extracting Candidates from Corpus (Hardware Training)\n",
      "[========================================] 100%\n",
      "CPU times: user 1min 40s, sys: 9.15 s, total: 1min 49s\n",
      "Wall time: 2min 54s\n",
      "Candidate Set (Hardware Training Candidates) contains 17000 Candidates\n",
      "Extracting Candidates from Corpus (Hardware Development)\n",
      "[========================================] 100%\n",
      "CPU times: user 26.9 s, sys: 1.76 s, total: 28.7 s\n",
      "Wall time: 42.2 s\n",
      "Candidate Set (Hardware Development Candidates) contains 5982 Candidates\n"
     ]
    }
   ],
   "source": [
    "from snorkel.models import Corpus\n",
    "from snorkel.candidates import CandidateExtractor\n",
    "from snorkel.utils import get_ORM_instance\n",
    "\n",
    "\n",
    "ce = CandidateExtractor(Part_Voltage, \n",
    "                        [part_ngrams, cb_v_ngrams], \n",
    "                        [parts_matcher, cb_v_matcher],\n",
    "                        throttler=cbv_throttler)\n",
    "\n",
    "for corpus_name in ['Hardware Training', 'Hardware Development']:\n",
    "    corpus = get_ORM_instance(Corpus, session, corpus_name)\n",
    "    print \"Extracting Candidates from %s\" % corpus\n",
    "    %time candidates = ce.extract(\\\n",
    "        corpus.documents, corpus_name + ' Candidates', session)\n",
    "    session.add(candidates)\n",
    "    print \"%s contains %d Candidates\" % (candidates, len(candidates))\n",
    "session.commit()"
   ]
  },
  {
   "cell_type": "code",
   "execution_count": null,
   "metadata": {
    "collapsed": false
   },
   "outputs": [],
   "source": [
    "# from snorkel.features.features import get_all_feats\n",
    "\n",
    "# c = candidates[0]\n",
    "# for f, _ in get_all_feats(c):\n",
    "#     print f"
   ]
  },
  {
   "cell_type": "markdown",
   "metadata": {},
   "source": [
    "### Assess Recall"
   ]
  },
  {
   "cell_type": "code",
   "execution_count": 14,
   "metadata": {
    "collapsed": false
   },
   "outputs": [
    {
     "name": "stdout",
     "output_type": "stream",
     "text": [
      "Preparing candidates...\n",
      "[========================================] 100%\n",
      "========================================\n",
      "Scoring on Entity-Level Total Recall\n",
      "========================================\n",
      "Entity-level Candidates extracted: 3404 \n",
      "Entity-level Gold: 752\n",
      "Intersection Candidates: 661\n",
      "----------------------------------------\n",
      "Overlap with Gold:  0.8790\n",
      "========================================\n",
      "\n",
      "661\n",
      "2743\n",
      "91\n"
     ]
    }
   ],
   "source": [
    "from hardware_utils import entity_level_total_recall, most_common_document, get_gold_dict\n",
    "from snorkel.utils import get_ORM_instance\n",
    "from snorkel.models import Candidate, Corpus\n",
    "\n",
    "all_candidates = session.query(Candidate).all()\n",
    "gold_file = os.environ['SNORKELHOME'] + '/tutorials/tables/data/hardware/hardware_gold.csv'\n",
    "\n",
    "corpus = get_ORM_instance(Corpus, session, 'Hardware')\n",
    "(tp, fp, fn) = entity_level_total_recall(\n",
    "    all_candidates, gold_file, 'cb_v_max', corpus=corpus, relation=True, integerize=True)\n",
    "print len(tp)\n",
    "print len(fp)\n",
    "print len(fn)"
   ]
  },
  {
   "cell_type": "code",
   "execution_count": 15,
   "metadata": {
    "collapsed": false
   },
   "outputs": [
    {
     "name": "stdout",
     "output_type": "stream",
     "text": [
      "[('AUKCS04635-1', '2N3906', -40),\n",
      " ('DISES00490-1', 'BC846AW', 80),\n",
      " ('DISES00490-1', 'BC846BW', 80),\n",
      " ('DISES00490-1', 'BC847AW', 50),\n",
      " ('DISES00490-1', 'BC847BW', 50),\n",
      " ('DISES00490-1', 'BC847CW', 50),\n",
      " ('DISES00616-1', 'BC857', 50),\n",
      " ('DISES00616-1', 'BC857A', 50),\n",
      " ('DISES00616-1', 'BC857B', 50),\n",
      " ('DISES00616-1', 'BC857C', 50)]\n"
     ]
    }
   ],
   "source": [
    "from pprint import pprint\n",
    "fns = list(fn)\n",
    "pprint(sorted(fns)[:10])"
   ]
  },
  {
   "cell_type": "code",
   "execution_count": null,
   "metadata": {
    "collapsed": true
   },
   "outputs": [],
   "source": [
    "# If necessary\n",
    "# import os\n",
    "# os.system('cp snorkel.db snorkel.db\\ candidates');"
   ]
  },
  {
   "cell_type": "markdown",
   "metadata": {},
   "source": [
    "## Gold Labels"
   ]
  },
  {
   "cell_type": "code",
   "execution_count": null,
   "metadata": {
    "collapsed": false
   },
   "outputs": [],
   "source": [
    "# # If necessary\n",
    "# import os\n",
    "# os.remove('snorkel.db');\n",
    "# os.system('cp snorkel.db\\ candidates snorkel.db');\n",
    "\n",
    "# %load_ext autoreload\n",
    "# %autoreload 2\n",
    "# %matplotlib inline\n",
    "\n",
    "# import sys\n",
    "# sys.path.append(os.environ['SNORKELHOME'] + '/tutorials/tables/')\n",
    "\n",
    "# from snorkel import SnorkelSession\n",
    "# session = SnorkelSession()\n",
    "\n",
    "# from snorkel.models import candidate_subclass\n",
    "# Part_Voltage = candidate_subclass('Part_Voltage', ['part','voltage'])"
   ]
  },
  {
   "cell_type": "code",
   "execution_count": 16,
   "metadata": {
    "collapsed": false
   },
   "outputs": [
    {
     "name": "stdout",
     "output_type": "stream",
     "text": [
      "Loading 17000 candidate labels\n",
      "[========================================] 100%\n",
      "CPU times: user 48.3 s, sys: 1.95 s, total: 50.3 s\n",
      "Wall time: 1min 1s\n",
      "4503/17000 Candidates in Candidate Set (Hardware Training Candidates) have positive Labels\n",
      "Loading 5982 candidate labels\n",
      "[========================================] 100%\n",
      "CPU times: user 17.7 s, sys: 657 ms, total: 18.4 s\n",
      "Wall time: 22 s\n",
      "1818/5982 Candidates in Candidate Set (Hardware Development Candidates) have positive Labels\n"
     ]
    }
   ],
   "source": [
    "import os\n",
    "from snorkel.models import CandidateSet\n",
    "from hardware_utils import load_hardware_labels\n",
    "\n",
    "gold_file = os.environ['SNORKELHOME'] + '/tutorials/tables/data/hardware/hardware_gold.csv'\n",
    "for set_name in ['Training', 'Development']:\n",
    "    candidate_set_name = 'Hardware %s Candidates' % set_name\n",
    "    candidates = session.query(CandidateSet).filter(\n",
    "        CandidateSet.name == candidate_set_name).one()\n",
    "    label_set_name = 'Hardware %s Candidates -- Gold' % set_name\n",
    "    annotation_key_name = 'Hardware %s Labels -- Gold' % set_name\n",
    "    %time gold_candidates, annotation_key = load_hardware_labels(session,\\\n",
    "                           label_set_name, \\\n",
    "                           annotation_key_name, \\\n",
    "                           candidates, \\\n",
    "                           gold_file, \\\n",
    "                           attrib='cb_v_max')\n",
    "    candidates_gold = session.query(CandidateSet).filter(\n",
    "        CandidateSet.name == candidate_set_name + ' -- Gold').one()\n",
    "    print \"%d/%d Candidates in %s have positive Labels\" % (\n",
    "        len(candidates_gold), len(candidates), candidates)"
   ]
  },
  {
   "cell_type": "code",
   "execution_count": null,
   "metadata": {
    "collapsed": true
   },
   "outputs": [],
   "source": [
    "# If necessary\n",
    "# import os\n",
    "# os.system('cp snorkel.db snorkel.db\\ labels');"
   ]
  },
  {
   "cell_type": "markdown",
   "metadata": {},
   "source": [
    "## Features"
   ]
  },
  {
   "cell_type": "code",
   "execution_count": null,
   "metadata": {
    "collapsed": false
   },
   "outputs": [],
   "source": [
    "# If necessary:\n",
    "# import os\n",
    "# os.remove('snorkel.db');\n",
    "# os.system('cp snorkel.db\\ labels snorkel.db');\n",
    "\n",
    "# %load_ext autoreload\n",
    "# %autoreload 2\n",
    "# %matplotlib inline\n",
    "\n",
    "# import sys\n",
    "# sys.path.append(os.environ['SNORKELHOME'] + '/tutorials/tables/')\n",
    "\n",
    "# from snorkel import SnorkelSession\n",
    "# session = SnorkelSession()\n",
    "\n",
    "# from snorkel.models import candidate_subclass\n",
    "# Part_Voltage = candidate_subclass('Part_Voltage', ['part','voltage'])"
   ]
  },
  {
   "cell_type": "markdown",
   "metadata": {},
   "source": [
    "### Extract Features"
   ]
  },
  {
   "cell_type": "code",
   "execution_count": null,
   "metadata": {
    "collapsed": false
   },
   "outputs": [],
   "source": [
    "# from snorkel.models import CandidateSet\n",
    "# from snorkel.fast_annotations import FeatureManager\n",
    "# from snorkel.utils import get_ORM_instance\n",
    "\n",
    "# train = get_ORM_instance(CandidateSet, session, 'Hardware Training Candidates')\n",
    "# dev   = get_ORM_instance(CandidateSet, session, 'Hardware Development Candidates')\n",
    "\n",
    "# feature_manager = FeatureManager()\n",
    "# %time F_train = feature_manager.create(session, train, 'Train Features')\n",
    "# %time F_dev = feature_manager.update(session, dev, 'Train Features', expand_key_set=False)"
   ]
  },
  {
   "cell_type": "code",
   "execution_count": 47,
   "metadata": {
    "collapsed": false
   },
   "outputs": [
    {
     "name": "stdout",
     "output_type": "stream",
     "text": [
      "Using 4 workers\n",
      "CPU times: user 978 ms, sys: 167 ms, total: 1.14 s\n",
      "Wall time: 1min 31s\n",
      "Using 4 workers\n",
      "[========================================] 100%\n",
      "CPU times: user 252 ms, sys: 61.7 ms, total: 314 ms\n",
      "Wall time: 28.6 s\n",
      "Training features hash: 8068733309876620508 of length 13\n",
      "[========================================] 100%\n"
     ]
    }
   ],
   "source": [
    "from snorkel.models import CandidateSet\n",
    "from snorkel.async_annotations import annotate\n",
    "from snorkel.utils import get_ORM_instance\n",
    "\n",
    "# Run batch extraction jobs\n",
    "train = get_ORM_instance(CandidateSet, session, 'Hardware Training Candidates')\n",
    "dev   = get_ORM_instance(CandidateSet, session, 'Hardware Development Candidates')\n",
    "\n",
    "%time F_train = annotate(train, parallel=4)\n",
    "%time F_dev = annotate(dev, parallel=4, keyset = 'Hardware Training Candidates')\n",
    "\n",
    "print 'Training features hash:', hash(frozenset(F_train.keys)),'of length', len(F_train.keys)"
   ]
  },
  {
   "cell_type": "code",
   "execution_count": null,
   "metadata": {
    "collapsed": false
   },
   "outputs": [],
   "source": [
    "# Integrity check for async against original feature extractor\n",
    "# from snorkel.models.annotation import AnnotationKeySet\n",
    "# sync_keyset = session.query(AnnotationKeySet).filter(AnnotationKeySet.name=='Train Features').one()\n",
    "# print 'Async extractor extracted the same set of features as the original impl:',set(key.name for key in sync_keyset) == set(F_train.keys)"
   ]
  },
  {
   "cell_type": "code",
   "execution_count": null,
   "metadata": {
    "collapsed": false
   },
   "outputs": [],
   "source": [
    "# If necessary:\n",
    "# import os\n",
    "# os.system('cp snorkel.db snorkel.db\\ featurized');"
   ]
  },
  {
   "cell_type": "markdown",
   "metadata": {},
   "source": [
    "## LFs"
   ]
  },
  {
   "cell_type": "code",
   "execution_count": null,
   "metadata": {
    "collapsed": false
   },
   "outputs": [],
   "source": [
    "# If necessary\n",
    "# import os\n",
    "# os.remove('snorkel.db');\n",
    "# os.system('cp snorkel.db\\ featurized snorkel.db');\n",
    "\n",
    "# %load_ext autoreload\n",
    "# %autoreload 2\n",
    "# %matplotlib inline\n",
    "\n",
    "# import sys\n",
    "# sys.path.append(os.environ['SNORKELHOME'] + '/tutorials/tables/')\n",
    "\n",
    "# from snorkel import SnorkelSession\n",
    "# session = SnorkelSession()\n",
    "\n",
    "# from snorkel.models import candidate_subclass\n",
    "# Part_Voltage = candidate_subclass('Part_Voltage', ['part','voltage'])\n",
    "# from snorkel.models import CandidateSet\n",
    "# train = session.query(CandidateSet).filter(\n",
    "#     CandidateSet.name == 'Hardware Training Candidates').one()\n",
    "# dev = session.query(CandidateSet).filter(\n",
    "#     CandidateSet.name == 'Hardware Development Candidates').one()"
   ]
  },
  {
   "cell_type": "code",
   "execution_count": 18,
   "metadata": {
    "collapsed": true
   },
   "outputs": [],
   "source": [
    "# If necessary:\n",
    "# import os\n",
    "# os.remove('snorkel.db');\n",
    "# os.system('cp snorkel.db\\ candidates snorkel.db');"
   ]
  },
  {
   "cell_type": "markdown",
   "metadata": {},
   "source": [
    "### Define LFs"
   ]
  },
  {
   "cell_type": "code",
   "execution_count": 19,
   "metadata": {
    "collapsed": false
   },
   "outputs": [],
   "source": [
    "from snorkel.fast_annotations import LabelManager\n",
    "from snorkel.lf_helpers import *\n",
    "label_manager = LabelManager()\n",
    "\n",
    "LFs = []\n",
    "\n",
    "###################################################################\n",
    "# BOTH\n",
    "###################################################################\n",
    "\n",
    "# cb_words_individual = set(['collector', 'base', 'voltage'])\n",
    "# cb_words_together = set(['collector-base', 'voltage'])\n",
    "cb_words = set(['collector base', 'collector-base', 'collector - base'])\n",
    "def LF_cb_keywords_all(c):\n",
    "    return 1 if overlap(cb_words, get_row_ngrams(c.voltage, spread=[0,3], n_max=3)) else -1\n",
    "LFs.append(LF_cb_keywords_all)\n",
    "\n",
    "###################################################################\n",
    "# POSITIVE\n",
    "###################################################################\n",
    "    \n",
    "# pos_keys = set(['cbo', 'vcbo']) # 'value', 'rating'\n",
    "# def LF_pos_keywords_in_row(c):\n",
    "#     return 1 if overlap(pos_keys, get_row_ngrams(c.voltage, spread=[0,3])) else 0\n",
    "# LFs.append(LF_pos_keywords_in_row)\n",
    "\n",
    "# def LF_pos_keywords_horz(c):\n",
    "#     return 1 if overlap(pos_keys, get_horz_ngrams(c.voltage)) else 0\n",
    "# LFs.append(LF_pos_keywords_horz)\n",
    "\n",
    "###################################################################\n",
    "# NEGATIVE\n",
    "###################################################################\n",
    "\n",
    "eeca_rgx = '([b]{1}[abcdefklnpqruyz]{1}[\\swxyz]?[0-9]{3,5}[\\s]?[A-Z\\/]{0,5}[0-9]?[A-Z]?([-][A-Z0-9]{1,7})?([-][A-Z0-9]{1,2})?)'\n",
    "jedec_rgx = '([123]N\\d{3,4}[A-Z]{0,5}[0-9]?[A-Z]?)'\n",
    "jis_rgx = '(2S[abcdefghjkmqrstvz]{1}[\\d]{2,4})'\n",
    "others_rgx = '((NSVBC|SMBT|MJ|MJE|MPS|MRF|RCA|TIP|ZTX|ZT|TIS|TIPL|DTC|MMBT|PZT){1}[\\d]{2,4}[A-Z]{0,3}([-][A-Z0-9]{0,6})?([-][A-Z0-9]{0,1})?)'\n",
    "parts_rgx = '|'.join([eeca_rgx, jedec_rgx, jis_rgx, others_rgx])\n",
    "part_sniffer = re.compile(parts_rgx)\n",
    "def LF_cheating_with_another_part(c):\n",
    "    return -1 if (any(part_sniffer.match(x) for x in get_horz_ngrams(c.voltage)) and \n",
    "                     not is_horz_aligned(c)) else 0\n",
    "LFs.append(LF_cheating_with_another_part)\n",
    "\n",
    "# part_row_ngrams = list(get_row_ngrams(c.voltage, spread=[0,3], n_max=2))\n",
    "# volt_row_ngrams = list(get_row_ngrams(c.voltage, spread=[0,3], n_max=2))\n",
    "def LF_same_table_must_align(c):\n",
    "    return -1 if (same_table(c) and not is_horz_aligned(c)) else 0\n",
    "LFs.append(LF_same_table_must_align)\n",
    "\n",
    "# # A good LF, but made obsolete by the throttling condition\n",
    "# def LF_not_horz_aligned(c):\n",
    "#     return -1 if (same_table(c) and not is_horz_aligned(c)) else 0\n",
    "# LFs.append(LF_not_horz_aligned)\n",
    "\n",
    "# def LF_voltage_not_in_table(c):\n",
    "#     return -1 if c.voltage.parent.table is None else 0\n",
    "# LFs.append(LF_voltage_not_in_table)\n",
    "\n",
    "# def LF_low_table_num(c):\n",
    "#     return -1 if (c.voltage.parent.table and\n",
    "#         c.voltage.parent.table.position > 2) else 0\n",
    "# LFs.append(LF_low_table_num)\n",
    "\n",
    "# neg_keys = set(['continuous', 'emitter', 'cut-off', 'gain'])\n",
    "# def LF_specific_neg_row_keywords(c):\n",
    "#     return -1 if overlap(neg_keys, get_row_ngrams(c.voltage)) else 0\n",
    "# LFs.append(LF_specific_neg_row_keywords)\n",
    "\n",
    "# def LF_equals_in_row(c):\n",
    "#     return -1 if overlap('=', get_row_ngrams(c.voltage)) else 0\n",
    "# LFs.append(LF_equals_in_row)\n",
    "\n",
    "# def LF_i_in_row(c):\n",
    "#     return -1 if overlap('i', get_row_ngrams(c.voltage)) else 0\n",
    "# LFs.append(LF_i_in_row)\n",
    "\n",
    "# def LF_too_many_numbers_row(c):\n",
    "#     num_numbers = list(get_row_ngrams(c.voltage, attrib=\"ner_tags\")).count('number')\n",
    "#     return -1 if num_numbers >= 4 else 0\n",
    "# LFs.append(LF_too_many_numbers_row)"
   ]
  },
  {
   "cell_type": "code",
   "execution_count": null,
   "metadata": {
    "collapsed": false
   },
   "outputs": [],
   "source": [
    "from snorkel.models import Corpus, CandidateSet, Candidate\n",
    "from snorkel.utils import get_ORM_instance\n",
    "from snorkel.utils import ProgressBar\n",
    "from hardware_utils import get_gold_dict, candidate_to_entity, part_error_analysis\n",
    "from pdb import set_trace as t\n",
    "\n",
    "# train = get_ORM_instance(CandidateSet, session, 'Hardware Training Candidates')\n",
    "# dev = get_ORM_instance(CandidateSet, session, 'Hardware Development Candidates')\n",
    "# dev_corpus = get_ORM_instance(Corpus, session, 'Hardware Development')\n",
    "\n",
    "corpus = get_ORM_instance(Corpus, session, 'Hardware')\n",
    "candidates = session.query(Candidate).all()\n",
    "\n",
    "attribute = 'cb_v_max'\n",
    "docs = [(doc.name).upper() for doc in corpus.documents] if corpus else None\n",
    "gold_file = gold_file = os.environ['SNORKELHOME'] + '/tutorials/tables/data/hardware/hardware_gold.csv'\n",
    "gold_set = get_gold_dict(gold_file, docs=docs, \n",
    "                         doc_on=True, part_on=True, val_on=True, \n",
    "                         attrib=attribute)\n",
    "print \"Gold set size: %d\" % len(gold_set)\n",
    "\n",
    "heuristic_LFs_pos = [LF_cb_keywords_all]\n",
    "heuristic_LFs_neg = [LF_cheating_with_another_part,\n",
    "                    LF_not_horz_aligned,\n",
    "                    LF_voltage_not_in_table,\n",
    "                    LF_same_table_must_align,\n",
    "                    LF_specific_neg_row_keywords,\n",
    "                    LF_equals_in_row,\n",
    "                    LF_i_in_row,\n",
    "                    LF_too_many_numbers_row]\n",
    "\n",
    "def heuristic(c): \n",
    "    for lf in heuristic_LFs_pos:\n",
    "        if lf(c) != 1:\n",
    "            return lf.__name__\n",
    "    for lf in heuristic_LFs_neg:\n",
    "        if lf(c) == -1:\n",
    "            return lf.__name__\n",
    "    return None"
   ]
  },
  {
   "cell_type": "code",
   "execution_count": null,
   "metadata": {
    "collapsed": false
   },
   "outputs": [],
   "source": [
    "%%time\n",
    "from snorkel.lf_helpers import bbox_from_span\n",
    "\n",
    "tp = set()\n",
    "fp = set()\n",
    "tn = set()\n",
    "fn = set()\n",
    "tpe = set()\n",
    "fpe = set()\n",
    "tne = set()\n",
    "fne = set()\n",
    "\n",
    "pb = ProgressBar(len(candidates))\n",
    "for i, c in enumerate(candidates):\n",
    "    pb.bar(i)\n",
    "    entity = candidate_to_entity(c)\n",
    "    failed = heuristic(c)\n",
    "    if failed:\n",
    "        if entity in gold_set:\n",
    "            fn.add(c)\n",
    "            fne.add(entity)\n",
    "        else:\n",
    "            tn.add(c)\n",
    "            tne.add(entity)            \n",
    "    else:\n",
    "        if entity in gold_set:\n",
    "            tp.add(c)\n",
    "            tpe.add(entity)            \n",
    "        else:\n",
    "            fp.add(c)\n",
    "            fpe.add(entity)\n",
    "#             part_error_analysis(c)\n",
    "#             t()\n",
    "pb.close()"
   ]
  },
  {
   "cell_type": "code",
   "execution_count": null,
   "metadata": {
    "collapsed": false
   },
   "outputs": [],
   "source": [
    "from pprint import pprint\n",
    "\n",
    "fne = fne - tpe\n",
    "print len(candidates), sum(map(len, [tp, tn, fp, fn]))\n",
    "print map(len, [tpe, tne, fpe, fne])\n",
    "# pprint(fn)"
   ]
  },
  {
   "cell_type": "markdown",
   "metadata": {},
   "source": [
    "### Apply LFs"
   ]
  },
  {
   "cell_type": "code",
   "execution_count": 20,
   "metadata": {
    "collapsed": false
   },
   "outputs": [
    {
     "name": "stdout",
     "output_type": "stream",
     "text": [
      "Using 2 workers\n",
      "CPU times: user 2.16 s, sys: 193 ms, total: 2.35 s\n",
      "Wall time: 2min 13s\n",
      "[========================================] 100%\n"
     ]
    },
    {
     "data": {
      "text/plain": [
       "<17000x12 sparse matrix of type '<type 'numpy.float32'>'\n",
       "\twith 56384 stored elements in Compressed Sparse Row format>"
      ]
     },
     "execution_count": 20,
     "metadata": {},
     "output_type": "execute_result"
    }
   ],
   "source": [
    "from snorkel.async_annotations import annotate\n",
    "%time L_train = annotate(train, lfs=LFs)\n",
    "L_train"
   ]
  },
  {
   "cell_type": "code",
   "execution_count": null,
   "metadata": {
    "collapsed": false
   },
   "outputs": [],
   "source": [
    "# %time L_train = label_manager.create(session, train, 'LF Labels', f=LFs)\n",
    "# L_train"
   ]
  },
  {
   "cell_type": "markdown",
   "metadata": {},
   "source": [
    "### Assess LF accuracy"
   ]
  },
  {
   "cell_type": "code",
   "execution_count": 21,
   "metadata": {
    "collapsed": false
   },
   "outputs": [
    {
     "name": "stdout",
     "output_type": "stream",
     "text": [
      "[========================================] 100%\n",
      "CPU times: user 195 ms, sys: 82 ms, total: 277 ms\n",
      "Wall time: 307 ms\n"
     ]
    },
    {
     "data": {
      "text/html": [
       "<div>\n",
       "<table border=\"1\" class=\"dataframe\">\n",
       "  <thead>\n",
       "    <tr style=\"text-align: right;\">\n",
       "      <th></th>\n",
       "      <th>accuracy</th>\n",
       "      <th>conflicts</th>\n",
       "      <th>coverage</th>\n",
       "      <th>j</th>\n",
       "      <th>overlaps</th>\n",
       "    </tr>\n",
       "  </thead>\n",
       "  <tbody>\n",
       "    <tr>\n",
       "      <th>LF_pos_keywords_horz</th>\n",
       "      <td>0.461538</td>\n",
       "      <td>0.124471</td>\n",
       "      <td>0.155235</td>\n",
       "      <td>0</td>\n",
       "      <td>0.155235</td>\n",
       "    </tr>\n",
       "    <tr>\n",
       "      <th>LF_not_horz_aligned</th>\n",
       "      <td>0.886570</td>\n",
       "      <td>0.038706</td>\n",
       "      <td>0.064824</td>\n",
       "      <td>1</td>\n",
       "      <td>0.064824</td>\n",
       "    </tr>\n",
       "    <tr>\n",
       "      <th>LF_cb_keywords_all</th>\n",
       "      <td>0.704941</td>\n",
       "      <td>0.298000</td>\n",
       "      <td>1.000000</td>\n",
       "      <td>2</td>\n",
       "      <td>0.985706</td>\n",
       "    </tr>\n",
       "    <tr>\n",
       "      <th>LF_specific_neg_row_keywords</th>\n",
       "      <td>0.800000</td>\n",
       "      <td>0.029471</td>\n",
       "      <td>0.057059</td>\n",
       "      <td>3</td>\n",
       "      <td>0.057059</td>\n",
       "    </tr>\n",
       "    <tr>\n",
       "      <th>LF_low_table_num</th>\n",
       "      <td>0.854376</td>\n",
       "      <td>0.040353</td>\n",
       "      <td>0.157941</td>\n",
       "      <td>4</td>\n",
       "      <td>0.157941</td>\n",
       "    </tr>\n",
       "    <tr>\n",
       "      <th>LF_voltage_not_in_table</th>\n",
       "      <td>0.814979</td>\n",
       "      <td>0.014059</td>\n",
       "      <td>0.425706</td>\n",
       "      <td>5</td>\n",
       "      <td>0.425706</td>\n",
       "    </tr>\n",
       "    <tr>\n",
       "      <th>LF_too_many_numbers_row</th>\n",
       "      <td>0.778718</td>\n",
       "      <td>0.029176</td>\n",
       "      <td>0.194588</td>\n",
       "      <td>6</td>\n",
       "      <td>0.194588</td>\n",
       "    </tr>\n",
       "    <tr>\n",
       "      <th>LF_pos_keywords_in_row</th>\n",
       "      <td>0.440629</td>\n",
       "      <td>0.290235</td>\n",
       "      <td>0.347765</td>\n",
       "      <td>7</td>\n",
       "      <td>0.347765</td>\n",
       "    </tr>\n",
       "    <tr>\n",
       "      <th>LF_cheating_with_another_part</th>\n",
       "      <td>0.737691</td>\n",
       "      <td>0.179294</td>\n",
       "      <td>0.270000</td>\n",
       "      <td>8</td>\n",
       "      <td>0.270000</td>\n",
       "    </tr>\n",
       "    <tr>\n",
       "      <th>LF_i_in_row</th>\n",
       "      <td>0.809347</td>\n",
       "      <td>0.065529</td>\n",
       "      <td>0.221529</td>\n",
       "      <td>9</td>\n",
       "      <td>0.221529</td>\n",
       "    </tr>\n",
       "    <tr>\n",
       "      <th>LF_same_table_must_align</th>\n",
       "      <td>0.886570</td>\n",
       "      <td>0.038706</td>\n",
       "      <td>0.064824</td>\n",
       "      <td>10</td>\n",
       "      <td>0.064824</td>\n",
       "    </tr>\n",
       "    <tr>\n",
       "      <th>LF_equals_in_row</th>\n",
       "      <td>0.760744</td>\n",
       "      <td>0.088706</td>\n",
       "      <td>0.357235</td>\n",
       "      <td>11</td>\n",
       "      <td>0.357235</td>\n",
       "    </tr>\n",
       "  </tbody>\n",
       "</table>\n",
       "</div>"
      ],
      "text/plain": [
       "                               accuracy  conflicts  coverage   j  overlaps\n",
       "LF_pos_keywords_horz           0.461538   0.124471  0.155235   0  0.155235\n",
       "LF_not_horz_aligned            0.886570   0.038706  0.064824   1  0.064824\n",
       "LF_cb_keywords_all             0.704941   0.298000  1.000000   2  0.985706\n",
       "LF_specific_neg_row_keywords   0.800000   0.029471  0.057059   3  0.057059\n",
       "LF_low_table_num               0.854376   0.040353  0.157941   4  0.157941\n",
       "LF_voltage_not_in_table        0.814979   0.014059  0.425706   5  0.425706\n",
       "LF_too_many_numbers_row        0.778718   0.029176  0.194588   6  0.194588\n",
       "LF_pos_keywords_in_row         0.440629   0.290235  0.347765   7  0.347765\n",
       "LF_cheating_with_another_part  0.737691   0.179294  0.270000   8  0.270000\n",
       "LF_i_in_row                    0.809347   0.065529  0.221529   9  0.221529\n",
       "LF_same_table_must_align       0.886570   0.038706  0.064824  10  0.064824\n",
       "LF_equals_in_row               0.760744   0.088706  0.357235  11  0.357235"
      ]
     },
     "execution_count": 21,
     "metadata": {},
     "output_type": "execute_result"
    }
   ],
   "source": [
    "train_gold = session.query(CandidateSet).filter(\n",
    "    CandidateSet.name == 'Hardware Training Candidates -- Gold').one()\n",
    "%time L_train.lf_stats(train_gold)"
   ]
  },
  {
   "cell_type": "code",
   "execution_count": null,
   "metadata": {
    "collapsed": true
   },
   "outputs": [],
   "source": [
    "# If necessary\n",
    "# import os\n",
    "# os.system('cp snorkel.db snorkel.db\\ features');"
   ]
  },
  {
   "cell_type": "markdown",
   "metadata": {},
   "source": [
    "## Learn and Evaluate"
   ]
  },
  {
   "cell_type": "code",
   "execution_count": null,
   "metadata": {
    "collapsed": false
   },
   "outputs": [],
   "source": [
    "# If necessary:\n",
    "# import os\n",
    "# os.remove('snorkel.db');\n",
    "# os.system('cp snorkel.db\\ features snorkel.db');\n",
    "\n",
    "# %load_ext autoreload\n",
    "# %autoreload 2\n",
    "# %matplotlib inline\n",
    "\n",
    "# import sys\n",
    "# sys.path.append(os.environ['SNORKELHOME'] + '/tutorials/tables/')\n",
    "\n",
    "# from snorkel import SnorkelSession\n",
    "# session = SnorkelSession()\n",
    "\n",
    "# from snorkel.models import candidate_subclass\n",
    "# Part_Voltage = candidate_subclass('Part_Voltage', ['part','voltage'])"
   ]
  },
  {
   "cell_type": "code",
   "execution_count": null,
   "metadata": {
    "collapsed": false
   },
   "outputs": [],
   "source": [
    "# from snorkel.fast_annotations import FeatureManager, LabelManager\n",
    "# from snorkel.models import CandidateSet\n",
    "# train = session.query(CandidateSet).filter(\n",
    "#     CandidateSet.name == 'Hardware Training Candidates').one()\n",
    "# dev = session.query(CandidateSet).filter(\n",
    "#     CandidateSet.name == 'Hardware Development Candidates').one()\n",
    "\n",
    "# feature_manager = FeatureManager()\n",
    "# %time F_train = feature_manager.load(session, train, 'Train Features')\n",
    "# %time F_dev = feature_manager.load(session, dev, 'Train Features')\n",
    "\n",
    "# label_manager = LabelManager()\n",
    "# %time L_train = label_manager.load(session, train, 'LF Labels')"
   ]
  },
  {
   "cell_type": "code",
   "execution_count": 48,
   "metadata": {
    "collapsed": false,
    "scrolled": true
   },
   "outputs": [
    {
     "name": "stdout",
     "output_type": "stream",
     "text": [
      "================================================================================\n",
      "Training marginals (!= 0.5):\t17000\n",
      "Features:\t\t\t12\n",
      "================================================================================\n",
      "Begin training for rate=0.005, mu=1e-06\n",
      "\tLearning epoch = 0\tGradient mag. = 0.325672\n",
      "\tLearning epoch = 250\tGradient mag. = 0.349597\n",
      "\tLearning epoch = 500\tGradient mag. = 0.346313\n",
      "\tLearning epoch = 750\tGradient mag. = 0.335250\n",
      "\tLearning epoch = 1000\tGradient mag. = 0.319703\n",
      "\tLearning epoch = 1250\tGradient mag. = 0.302707\n",
      "\tLearning epoch = 1500\tGradient mag. = 0.286445\n",
      "\tLearning epoch = 1750\tGradient mag. = 0.272183\n",
      "\tLearning epoch = 2000\tGradient mag. = 0.260481\n",
      "\tLearning epoch = 2250\tGradient mag. = 0.251450\n",
      "\tLearning epoch = 2500\tGradient mag. = 0.244951\n",
      "\tLearning epoch = 2750\tGradient mag. = 0.240722\n",
      "\tLearning epoch = 3000\tGradient mag. = 0.238454\n",
      "\tLearning epoch = 3250\tGradient mag. = 0.237836\n",
      "\tLearning epoch = 3500\tGradient mag. = 0.238575\n",
      "\tLearning epoch = 3750\tGradient mag. = 0.240413\n",
      "\tLearning epoch = 4000\tGradient mag. = 0.243126\n",
      "\tLearning epoch = 4250\tGradient mag. = 0.246529\n",
      "\tLearning epoch = 4500\tGradient mag. = 0.250474\n",
      "\tLearning epoch = 4750\tGradient mag. = 0.254844\n",
      "\tLearning epoch = 5000\tGradient mag. = 0.259547\n",
      "\tLearning epoch = 5250\tGradient mag. = 0.264517\n",
      "\tLearning epoch = 5500\tGradient mag. = 0.269703\n",
      "\tLearning epoch = 5750\tGradient mag. = 0.275070\n",
      "\tLearning epoch = 6000\tGradient mag. = 0.256853\n",
      "\tLearning epoch = 6250\tGradient mag. = 0.239960\n",
      "\tLearning epoch = 6500\tGradient mag. = 0.224826\n",
      "\tLearning epoch = 6750\tGradient mag. = 0.211351\n",
      "\tLearning epoch = 7000\tGradient mag. = 0.199442\n",
      "\tLearning epoch = 7250\tGradient mag. = 0.189017\n",
      "\tLearning epoch = 7500\tGradient mag. = 0.179995\n",
      "\tLearning epoch = 7750\tGradient mag. = 0.172301\n",
      "\tLearning epoch = 8000\tGradient mag. = 0.165861\n",
      "\tLearning epoch = 8250\tGradient mag. = 0.160600\n",
      "\tLearning epoch = 8500\tGradient mag. = 0.156444\n",
      "\tLearning epoch = 8750\tGradient mag. = 0.153315\n",
      "\tLearning epoch = 9000\tGradient mag. = 0.151138\n",
      "\tLearning epoch = 9250\tGradient mag. = 0.149835\n",
      "\tLearning epoch = 9500\tGradient mag. = 0.149329\n",
      "\tLearning epoch = 9750\tGradient mag. = 0.149547\n",
      "\tLearning epoch = 10000\tGradient mag. = 0.150417\n",
      "\tLearning epoch = 10250\tGradient mag. = 0.151874\n",
      "\tLearning epoch = 10500\tGradient mag. = 0.153855\n",
      "\tLearning epoch = 10750\tGradient mag. = 0.156307\n",
      "\tLearning epoch = 11000\tGradient mag. = 0.159177\n",
      "\tLearning epoch = 11250\tGradient mag. = 0.162424\n",
      "\tLearning epoch = 11500\tGradient mag. = 0.166007\n",
      "\tLearning epoch = 11750\tGradient mag. = 0.169873\n",
      "\tLearning epoch = 12000\tGradient mag. = 0.174010\n",
      "\tLearning epoch = 12250\tGradient mag. = 0.178391\n",
      "\tLearning epoch = 12500\tGradient mag. = 0.182997\n",
      "\tLearning epoch = 12750\tGradient mag. = 0.187809\n",
      "\tLearning epoch = 13000\tGradient mag. = 0.192811\n",
      "\tLearning epoch = 13250\tGradient mag. = 0.197991\n",
      "\tLearning epoch = 13500\tGradient mag. = 0.203338\n",
      "\tLearning epoch = 13750\tGradient mag. = 0.208843\n",
      "\tLearning epoch = 14000\tGradient mag. = 0.214498\n",
      "\tLearning epoch = 14250\tGradient mag. = 0.220299\n",
      "\tLearning epoch = 14500\tGradient mag. = 0.214717\n",
      "\tLearning epoch = 14750\tGradient mag. = 0.207996\n",
      "\tLearning epoch = 15000\tGradient mag. = 0.204572\n",
      "\tLearning epoch = 15250\tGradient mag. = 0.203743\n",
      "\tLearning epoch = 15500\tGradient mag. = 0.204921\n",
      "\tLearning epoch = 15750\tGradient mag. = 0.207633\n",
      "\tLearning epoch = 16000\tGradient mag. = 0.211511\n",
      "\tLearning epoch = 16250\tGradient mag. = 0.216280\n",
      "\tLearning epoch = 16500\tGradient mag. = 0.206437\n",
      "\tLearning epoch = 16750\tGradient mag. = 0.189985\n",
      "\tLearning epoch = 17000\tGradient mag. = 0.177044\n",
      "\tLearning epoch = 17250\tGradient mag. = 0.167227\n",
      "\tLearning epoch = 17500\tGradient mag. = 0.160157\n",
      "\tLearning epoch = 17750\tGradient mag. = 0.155470\n",
      "\tLearning epoch = 18000\tGradient mag. = 0.152822\n",
      "\tLearning epoch = 18250\tGradient mag. = 0.151898\n",
      "\tLearning epoch = 18500\tGradient mag. = 0.152421\n",
      "\tLearning epoch = 18750\tGradient mag. = 0.154159\n",
      "\tLearning epoch = 19000\tGradient mag. = 0.156924\n",
      "\tLearning epoch = 19250\tGradient mag. = 0.160573\n",
      "\tLearning epoch = 19500\tGradient mag. = 0.165003\n",
      "\tLearning epoch = 19750\tGradient mag. = 0.170144\n",
      "\tLearning epoch = 20000\tGradient mag. = 0.175958\n",
      "\tLearning epoch = 20250\tGradient mag. = 0.182430\n",
      "\tLearning epoch = 20500\tGradient mag. = 0.189566\n",
      "\tLearning epoch = 20750\tGradient mag. = 0.197390\n",
      "\tLearning epoch = 21000\tGradient mag. = 0.204586\n",
      "\tLearning epoch = 21250\tGradient mag. = 0.211150\n",
      "\tLearning epoch = 21500\tGradient mag. = 0.218986\n",
      "\tLearning epoch = 21750\tGradient mag. = 0.228094\n",
      "\tLearning epoch = 22000\tGradient mag. = 0.238469\n",
      "\tLearning epoch = 22250\tGradient mag. = 0.246383\n",
      "\tLearning epoch = 22500\tGradient mag. = 0.247290\n",
      "\tLearning epoch = 22750\tGradient mag. = 0.250873\n",
      "\tLearning epoch = 23000\tGradient mag. = 0.257056\n",
      "\tLearning epoch = 23250\tGradient mag. = 0.265690\n",
      "\tLearning epoch = 23500\tGradient mag. = 0.274204\n",
      "\tLearning epoch = 23750\tGradient mag. = 0.277023\n",
      "\tLearning epoch = 24000\tGradient mag. = 0.281503\n",
      "\tLearning epoch = 24250\tGradient mag. = 0.287410\n",
      "\tLearning epoch = 24500\tGradient mag. = 0.294454\n",
      "\tLearning epoch = 24750\tGradient mag. = 0.302325\n",
      "\tLearning epoch = 25000\tGradient mag. = 0.310716\n",
      "\tLearning epoch = 25250\tGradient mag. = 0.319356\n",
      "\tLearning epoch = 25500\tGradient mag. = 0.328024\n",
      "\tLearning epoch = 25750\tGradient mag. = 0.336555\n",
      "\tLearning epoch = 26000\tGradient mag. = 0.344847\n",
      "\tLearning epoch = 26250\tGradient mag. = 0.352843\n",
      "\tLearning epoch = 26500\tGradient mag. = 0.360533\n",
      "\tLearning epoch = 26750\tGradient mag. = 0.367933\n",
      "\tLearning epoch = 27000\tGradient mag. = 0.375080\n",
      "\tLearning epoch = 27250\tGradient mag. = 0.382023\n",
      "\tLearning epoch = 27500\tGradient mag. = 0.388811\n",
      "\tLearning epoch = 27750\tGradient mag. = 0.395497\n",
      "\tLearning epoch = 28000\tGradient mag. = 0.389838\n",
      "\tLearning epoch = 28250\tGradient mag. = 0.382059\n",
      "\tLearning epoch = 28500\tGradient mag. = 0.374865\n",
      "\tLearning epoch = 28750\tGradient mag. = 0.368225\n",
      "\tLearning epoch = 29000\tGradient mag. = 0.362108\n",
      "\tLearning epoch = 29250\tGradient mag. = 0.356483\n",
      "\tLearning epoch = 29500\tGradient mag. = 0.351318\n",
      "\tLearning epoch = 29750\tGradient mag. = 0.337275\n",
      "\tLearning epoch = 30000\tGradient mag. = 0.319747\n",
      "\tLearning epoch = 30250\tGradient mag. = 0.304266\n",
      "\tLearning epoch = 30500\tGradient mag. = 0.290618\n",
      "\tLearning epoch = 30750\tGradient mag. = 0.278601\n",
      "\tLearning epoch = 31000\tGradient mag. = 0.268036\n",
      "\tLearning epoch = 31250\tGradient mag. = 0.258755\n",
      "\tLearning epoch = 31500\tGradient mag. = 0.250609\n",
      "\tLearning epoch = 31750\tGradient mag. = 0.243462\n",
      "\tLearning epoch = 32000\tGradient mag. = 0.237192\n",
      "\tLearning epoch = 32250\tGradient mag. = 0.224038\n",
      "\tLearning epoch = 32500\tGradient mag. = 0.204290\n",
      "\tLearning epoch = 32750\tGradient mag. = 0.187133\n",
      "\tLearning epoch = 33000\tGradient mag. = 0.172242\n",
      "\tLearning epoch = 33250\tGradient mag. = 0.159330\n",
      "\tLearning epoch = 33500\tGradient mag. = 0.148139\n",
      "\tLearning epoch = 33750\tGradient mag. = 0.138444\n",
      "\tLearning epoch = 34000\tGradient mag. = 0.130044\n",
      "\tLearning epoch = 34250\tGradient mag. = 0.122760\n",
      "\tLearning epoch = 34500\tGradient mag. = 0.116438\n",
      "\tLearning epoch = 34750\tGradient mag. = 0.110940\n",
      "\tLearning epoch = 35000\tGradient mag. = 0.106149\n",
      "\tLearning epoch = 35250\tGradient mag. = 0.101962\n",
      "\tLearning epoch = 35500\tGradient mag. = 0.098289\n",
      "\tLearning epoch = 35750\tGradient mag. = 0.095057\n",
      "\tLearning epoch = 36000\tGradient mag. = 0.092200\n",
      "\tLearning epoch = 36250\tGradient mag. = 0.089664\n",
      "\tLearning epoch = 36500\tGradient mag. = 0.087402\n",
      "\tLearning epoch = 36750\tGradient mag. = 0.084929\n",
      "\tLearning epoch = 37000\tGradient mag. = 0.082263\n",
      "\tLearning epoch = 37250\tGradient mag. = 0.079766\n",
      "\tLearning epoch = 37500\tGradient mag. = 0.077416\n",
      "\tLearning epoch = 37750\tGradient mag. = 0.075198\n",
      "\tLearning epoch = 38000\tGradient mag. = 0.073097\n",
      "\tLearning epoch = 38250\tGradient mag. = 0.071099\n",
      "\tLearning epoch = 38500\tGradient mag. = 0.069195\n",
      "\tLearning epoch = 38750\tGradient mag. = 0.067375\n",
      "\tLearning epoch = 39000\tGradient mag. = 0.065633\n",
      "\tLearning epoch = 39250\tGradient mag. = 0.063961\n",
      "\tLearning epoch = 39500\tGradient mag. = 0.062353\n",
      "\tLearning epoch = 39750\tGradient mag. = 0.060806\n",
      "\tLearning epoch = 40000\tGradient mag. = 0.059314\n",
      "\tLearning epoch = 40250\tGradient mag. = 0.057874\n",
      "\tLearning epoch = 40500\tGradient mag. = 0.056483\n",
      "\tLearning epoch = 40750\tGradient mag. = 0.055137\n",
      "\tLearning epoch = 41000\tGradient mag. = 0.053834\n",
      "\tLearning epoch = 41250\tGradient mag. = 0.052571\n",
      "\tLearning epoch = 41500\tGradient mag. = 0.051347\n",
      "\tLearning epoch = 41750\tGradient mag. = 0.050160\n",
      "\tLearning epoch = 42000\tGradient mag. = 0.049007\n",
      "\tLearning epoch = 42250\tGradient mag. = 0.047887\n",
      "\tLearning epoch = 42500\tGradient mag. = 0.046799\n",
      "\tLearning epoch = 42750\tGradient mag. = 0.045742\n",
      "\tLearning epoch = 43000\tGradient mag. = 0.044713\n",
      "\tLearning epoch = 43250\tGradient mag. = 0.043712\n",
      "\tLearning epoch = 43500\tGradient mag. = 0.042739\n",
      "\tLearning epoch = 43750\tGradient mag. = 0.041791\n",
      "\tLearning epoch = 44000\tGradient mag. = 0.040868\n",
      "\tLearning epoch = 44250\tGradient mag. = 0.039969\n",
      "\tLearning epoch = 44500\tGradient mag. = 0.039093\n",
      "\tLearning epoch = 44750\tGradient mag. = 0.038239\n",
      "\tLearning epoch = 45000\tGradient mag. = 0.037408\n",
      "\tLearning epoch = 45250\tGradient mag. = 0.036597\n",
      "\tLearning epoch = 45500\tGradient mag. = 0.035806\n",
      "\tLearning epoch = 45750\tGradient mag. = 0.035036\n",
      "\tLearning epoch = 46000\tGradient mag. = 0.034284\n",
      "\tLearning epoch = 46250\tGradient mag. = 0.033551\n",
      "\tLearning epoch = 46500\tGradient mag. = 0.032836\n",
      "\tLearning epoch = 46750\tGradient mag. = 0.032138\n",
      "\tLearning epoch = 47000\tGradient mag. = 0.031457\n",
      "\tLearning epoch = 47250\tGradient mag. = 0.030793\n",
      "\tLearning epoch = 47500\tGradient mag. = 0.030145\n",
      "\tLearning epoch = 47750\tGradient mag. = 0.029512\n",
      "\tLearning epoch = 48000\tGradient mag. = 0.028894\n",
      "\tLearning epoch = 48250\tGradient mag. = 0.028292\n",
      "\tLearning epoch = 48500\tGradient mag. = 0.027703\n",
      "\tLearning epoch = 48750\tGradient mag. = 0.027129\n",
      "\tLearning epoch = 49000\tGradient mag. = 0.026568\n",
      "\tLearning epoch = 49250\tGradient mag. = 0.026021\n",
      "\tLearning epoch = 49500\tGradient mag. = 0.025486\n",
      "\tLearning epoch = 49750\tGradient mag. = 0.024965\n",
      "\tLearning epoch = 50000\tGradient mag. = 0.024455\n",
      "\tLearning epoch = 50250\tGradient mag. = 0.023957\n",
      "\tLearning epoch = 50500\tGradient mag. = 0.023472\n",
      "\tLearning epoch = 50750\tGradient mag. = 0.022997\n",
      "\tLearning epoch = 51000\tGradient mag. = 0.022534\n",
      "\tLearning epoch = 51250\tGradient mag. = 0.022081\n",
      "\tLearning epoch = 51500\tGradient mag. = 0.021639\n",
      "\tLearning epoch = 51750\tGradient mag. = 0.021208\n",
      "\tLearning epoch = 52000\tGradient mag. = 0.020787\n",
      "\tLearning epoch = 52250\tGradient mag. = 0.020375\n",
      "\tLearning epoch = 52500\tGradient mag. = 0.019973\n",
      "\tLearning epoch = 52750\tGradient mag. = 0.019581\n",
      "\tLearning epoch = 53000\tGradient mag. = 0.019197\n",
      "\tLearning epoch = 53250\tGradient mag. = 0.018823\n",
      "\tLearning epoch = 53500\tGradient mag. = 0.018458\n",
      "\tLearning epoch = 53750\tGradient mag. = 0.018101\n",
      "\tLearning epoch = 54000\tGradient mag. = 0.017752\n",
      "\tLearning epoch = 54250\tGradient mag. = 0.017411\n",
      "\tLearning epoch = 54500\tGradient mag. = 0.017079\n",
      "\tLearning epoch = 54750\tGradient mag. = 0.016754\n",
      "\tLearning epoch = 55000\tGradient mag. = 0.016437\n",
      "\tLearning epoch = 55250\tGradient mag. = 0.016128\n",
      "\tLearning epoch = 55500\tGradient mag. = 0.015825\n",
      "\tLearning epoch = 55750\tGradient mag. = 0.015530\n",
      "\tLearning epoch = 56000\tGradient mag. = 0.015242\n",
      "\tLearning epoch = 56250\tGradient mag. = 0.014960\n",
      "\tLearning epoch = 56500\tGradient mag. = 0.014685\n",
      "\tLearning epoch = 56750\tGradient mag. = 0.014417\n",
      "\tLearning epoch = 57000\tGradient mag. = 0.014155\n",
      "\tLearning epoch = 57250\tGradient mag. = 0.013899\n",
      "\tLearning epoch = 57500\tGradient mag. = 0.013649\n",
      "\tLearning epoch = 57750\tGradient mag. = 0.013405\n",
      "\tLearning epoch = 58000\tGradient mag. = 0.013167\n",
      "\tLearning epoch = 58250\tGradient mag. = 0.012935\n",
      "\tLearning epoch = 58500\tGradient mag. = 0.012708\n",
      "\tLearning epoch = 58750\tGradient mag. = 0.012486\n",
      "\tLearning epoch = 59000\tGradient mag. = 0.012270\n",
      "\tLearning epoch = 59250\tGradient mag. = 0.012059\n",
      "\tLearning epoch = 59500\tGradient mag. = 0.011853\n",
      "\tLearning epoch = 59750\tGradient mag. = 0.011652\n",
      "\tLearning epoch = 60000\tGradient mag. = 0.011456\n",
      "\tLearning epoch = 60250\tGradient mag. = 0.011265\n",
      "\tLearning epoch = 60500\tGradient mag. = 0.011078\n",
      "\tLearning epoch = 60750\tGradient mag. = 0.010895\n",
      "\tLearning epoch = 61000\tGradient mag. = 0.010718\n",
      "\tLearning epoch = 61250\tGradient mag. = 0.010544\n",
      "\tLearning epoch = 61500\tGradient mag. = 0.010375\n",
      "\tLearning epoch = 61750\tGradient mag. = 0.010209\n",
      "\tLearning epoch = 62000\tGradient mag. = 0.010048\n",
      "\tLearning epoch = 62250\tGradient mag. = 0.009891\n",
      "\tLearning epoch = 62500\tGradient mag. = 0.009737\n",
      "\tLearning epoch = 62750\tGradient mag. = 0.009588\n",
      "\tLearning epoch = 63000\tGradient mag. = 0.009442\n",
      "\tLearning epoch = 63250\tGradient mag. = 0.009300\n",
      "\tLearning epoch = 63500\tGradient mag. = 0.009161\n",
      "\tLearning epoch = 63750\tGradient mag. = 0.009025\n",
      "\tLearning epoch = 64000\tGradient mag. = 0.008893\n",
      "\tLearning epoch = 64250\tGradient mag. = 0.008765\n",
      "\tLearning epoch = 64500\tGradient mag. = 0.008639\n",
      "\tLearning epoch = 64750\tGradient mag. = 0.008517\n",
      "\tLearning epoch = 65000\tGradient mag. = 0.008397\n",
      "\tLearning epoch = 65250\tGradient mag. = 0.008281\n",
      "\tLearning epoch = 65500\tGradient mag. = 0.008168\n",
      "\tLearning epoch = 65750\tGradient mag. = 0.008057\n",
      "\tLearning epoch = 66000\tGradient mag. = 0.007950\n",
      "\tLearning epoch = 66250\tGradient mag. = 0.007845\n",
      "\tLearning epoch = 66500\tGradient mag. = 0.007742\n",
      "\tLearning epoch = 66750\tGradient mag. = 0.007643\n",
      "\tLearning epoch = 67000\tGradient mag. = 0.007546\n",
      "\tLearning epoch = 67250\tGradient mag. = 0.007451\n",
      "\tLearning epoch = 67500\tGradient mag. = 0.007359\n",
      "\tLearning epoch = 67750\tGradient mag. = 0.007269\n",
      "\tLearning epoch = 68000\tGradient mag. = 0.007181\n",
      "\tLearning epoch = 68250\tGradient mag. = 0.007096\n",
      "\tLearning epoch = 68500\tGradient mag. = 0.007013\n",
      "\tLearning epoch = 68750\tGradient mag. = 0.006932\n",
      "\tLearning epoch = 69000\tGradient mag. = 0.006854\n",
      "\tLearning epoch = 69250\tGradient mag. = 0.006777\n",
      "\tLearning epoch = 69500\tGradient mag. = 0.006702\n",
      "\tLearning epoch = 69750\tGradient mag. = 0.006629\n",
      "\tLearning epoch = 70000\tGradient mag. = 0.006559\n",
      "\tLearning epoch = 70250\tGradient mag. = 0.006490\n",
      "\tLearning epoch = 70500\tGradient mag. = 0.006423\n",
      "\tLearning epoch = 70750\tGradient mag. = 0.006357\n",
      "\tLearning epoch = 71000\tGradient mag. = 0.006294\n",
      "\tLearning epoch = 71250\tGradient mag. = 0.006232\n",
      "\tLearning epoch = 71500\tGradient mag. = 0.006171\n",
      "\tLearning epoch = 71750\tGradient mag. = 0.006113\n",
      "\tLearning epoch = 72000\tGradient mag. = 0.006056\n",
      "\tLearning epoch = 72250\tGradient mag. = 0.006000\n",
      "\tLearning epoch = 72500\tGradient mag. = 0.005946\n",
      "\tLearning epoch = 72750\tGradient mag. = 0.005893\n",
      "\tLearning epoch = 73000\tGradient mag. = 0.005842\n",
      "\tLearning epoch = 73250\tGradient mag. = 0.005792\n",
      "\tLearning epoch = 73500\tGradient mag. = 0.005744\n",
      "\tLearning epoch = 73750\tGradient mag. = 0.005697\n",
      "\tLearning epoch = 74000\tGradient mag. = 0.005651\n",
      "\tLearning epoch = 74250\tGradient mag. = 0.005606\n",
      "\tLearning epoch = 74500\tGradient mag. = 0.005563\n",
      "\tLearning epoch = 74750\tGradient mag. = 0.005521\n",
      "\tLearning epoch = 75000\tGradient mag. = 0.005479\n",
      "\tLearning epoch = 75250\tGradient mag. = 0.005440\n",
      "\tLearning epoch = 75500\tGradient mag. = 0.005401\n",
      "\tLearning epoch = 75750\tGradient mag. = 0.005363\n",
      "\tLearning epoch = 76000\tGradient mag. = 0.005326\n",
      "\tLearning epoch = 76250\tGradient mag. = 0.005290\n",
      "\tLearning epoch = 76500\tGradient mag. = 0.005255\n",
      "\tLearning epoch = 76750\tGradient mag. = 0.005222\n",
      "\tLearning epoch = 77000\tGradient mag. = 0.005189\n",
      "\tLearning epoch = 77250\tGradient mag. = 0.005157\n",
      "\tLearning epoch = 77500\tGradient mag. = 0.005125\n",
      "\tLearning epoch = 77750\tGradient mag. = 0.005095\n",
      "\tLearning epoch = 78000\tGradient mag. = 0.005066\n",
      "\tLearning epoch = 78250\tGradient mag. = 0.005037\n",
      "\tLearning epoch = 78500\tGradient mag. = 0.005009\n",
      "\tLearning epoch = 78750\tGradient mag. = 0.004982\n",
      "\tLearning epoch = 79000\tGradient mag. = 0.004956\n",
      "\tLearning epoch = 79250\tGradient mag. = 0.004930\n",
      "\tLearning epoch = 79500\tGradient mag. = 0.004905\n",
      "\tLearning epoch = 79750\tGradient mag. = 0.004881\n",
      "\tLearning epoch = 80000\tGradient mag. = 0.004857\n",
      "\tLearning epoch = 80250\tGradient mag. = 0.004834\n",
      "\tLearning epoch = 80500\tGradient mag. = 0.004812\n",
      "\tLearning epoch = 80750\tGradient mag. = 0.004790\n",
      "\tLearning epoch = 81000\tGradient mag. = 0.004769\n",
      "\tLearning epoch = 81250\tGradient mag. = 0.004749\n",
      "\tLearning epoch = 81500\tGradient mag. = 0.004729\n",
      "\tLearning epoch = 81750\tGradient mag. = 0.004709\n",
      "\tLearning epoch = 82000\tGradient mag. = 0.004690\n",
      "\tLearning epoch = 82250\tGradient mag. = 0.004672\n",
      "\tLearning epoch = 82500\tGradient mag. = 0.004654\n",
      "\tLearning epoch = 82750\tGradient mag. = 0.004637\n",
      "\tLearning epoch = 83000\tGradient mag. = 0.004620\n",
      "\tLearning epoch = 83250\tGradient mag. = 0.004603\n",
      "\tLearning epoch = 83500\tGradient mag. = 0.004587\n",
      "\tLearning epoch = 83750\tGradient mag. = 0.004572\n",
      "\tLearning epoch = 84000\tGradient mag. = 0.004557\n",
      "\tLearning epoch = 84250\tGradient mag. = 0.004542\n",
      "\tLearning epoch = 84500\tGradient mag. = 0.004527\n",
      "\tLearning epoch = 84750\tGradient mag. = 0.004514\n",
      "\tLearning epoch = 85000\tGradient mag. = 0.004500\n",
      "\tLearning epoch = 85250\tGradient mag. = 0.004487\n",
      "\tLearning epoch = 85500\tGradient mag. = 0.004474\n",
      "\tLearning epoch = 85750\tGradient mag. = 0.004461\n",
      "\tLearning epoch = 86000\tGradient mag. = 0.004449\n",
      "\tLearning epoch = 86250\tGradient mag. = 0.004437\n",
      "\tLearning epoch = 86500\tGradient mag. = 0.004426\n",
      "\tLearning epoch = 86750\tGradient mag. = 0.004415\n",
      "\tLearning epoch = 87000\tGradient mag. = 0.004404\n",
      "\tLearning epoch = 87250\tGradient mag. = 0.004393\n",
      "\tLearning epoch = 87500\tGradient mag. = 0.004383\n",
      "\tLearning epoch = 87750\tGradient mag. = 0.004373\n",
      "\tLearning epoch = 88000\tGradient mag. = 0.004363\n",
      "\tLearning epoch = 88250\tGradient mag. = 0.004353\n",
      "\tLearning epoch = 88500\tGradient mag. = 0.004344\n",
      "\tLearning epoch = 88750\tGradient mag. = 0.004335\n",
      "\tLearning epoch = 89000\tGradient mag. = 0.004326\n",
      "\tLearning epoch = 89250\tGradient mag. = 0.004317\n",
      "\tLearning epoch = 89500\tGradient mag. = 0.004309\n",
      "\tLearning epoch = 89750\tGradient mag. = 0.004301\n",
      "\tLearning epoch = 90000\tGradient mag. = 0.004293\n",
      "\tLearning epoch = 90250\tGradient mag. = 0.004285\n",
      "\tLearning epoch = 90500\tGradient mag. = 0.004278\n",
      "\tLearning epoch = 90750\tGradient mag. = 0.004270\n",
      "\tLearning epoch = 91000\tGradient mag. = 0.004263\n",
      "\tLearning epoch = 91250\tGradient mag. = 0.004256\n",
      "\tLearning epoch = 91500\tGradient mag. = 0.004250\n",
      "\tLearning epoch = 91750\tGradient mag. = 0.004243\n",
      "\tLearning epoch = 92000\tGradient mag. = 0.004237\n",
      "\tLearning epoch = 92250\tGradient mag. = 0.004230\n",
      "\tLearning epoch = 92500\tGradient mag. = 0.004224\n",
      "\tLearning epoch = 92750\tGradient mag. = 0.004218\n",
      "\tLearning epoch = 93000\tGradient mag. = 0.004212\n",
      "\tLearning epoch = 93250\tGradient mag. = 0.004207\n",
      "\tLearning epoch = 93500\tGradient mag. = 0.004201\n",
      "\tLearning epoch = 93750\tGradient mag. = 0.004196\n",
      "\tLearning epoch = 94000\tGradient mag. = 0.004191\n",
      "\tLearning epoch = 94250\tGradient mag. = 0.004186\n",
      "\tLearning epoch = 94500\tGradient mag. = 0.004181\n",
      "\tLearning epoch = 94750\tGradient mag. = 0.004176\n",
      "\tLearning epoch = 95000\tGradient mag. = 0.004171\n",
      "\tLearning epoch = 95250\tGradient mag. = 0.004167\n",
      "\tLearning epoch = 95500\tGradient mag. = 0.004162\n",
      "\tLearning epoch = 95750\tGradient mag. = 0.004158\n",
      "\tLearning epoch = 96000\tGradient mag. = 0.004154\n",
      "\tLearning epoch = 96250\tGradient mag. = 0.004149\n",
      "\tLearning epoch = 96500\tGradient mag. = 0.004145\n",
      "\tLearning epoch = 96750\tGradient mag. = 0.004141\n",
      "\tLearning epoch = 97000\tGradient mag. = 0.004138\n",
      "\tLearning epoch = 97250\tGradient mag. = 0.004134\n",
      "\tLearning epoch = 97500\tGradient mag. = 0.004130\n",
      "\tLearning epoch = 97750\tGradient mag. = 0.004127\n",
      "\tLearning epoch = 98000\tGradient mag. = 0.004123\n",
      "\tLearning epoch = 98250\tGradient mag. = 0.004120\n",
      "\tLearning epoch = 98500\tGradient mag. = 0.004116\n",
      "\tLearning epoch = 98750\tGradient mag. = 0.004113\n",
      "\tLearning epoch = 99000\tGradient mag. = 0.004110\n",
      "\tLearning epoch = 99250\tGradient mag. = 0.004107\n",
      "\tLearning epoch = 99500\tGradient mag. = 0.004104\n",
      "\tLearning epoch = 99750\tGradient mag. = 0.004101\n",
      "Final gradient magnitude for rate=0.005, mu=1e-06: 0.004\n"
     ]
    }
   ],
   "source": [
    "from snorkel.learning import NaiveBayes\n",
    "\n",
    "gen_model = NaiveBayes()\n",
    "gen_model.train(L_train, n_iter=100000, rate=5e-3)\n",
    "# %time gen_model.save(session, 'Generative Params')\n",
    "train_marginals = gen_model.marginals(L_train)"
   ]
  },
  {
   "cell_type": "code",
   "execution_count": null,
   "metadata": {
    "collapsed": true
   },
   "outputs": [],
   "source": [
    "for i, c in enumerate(candidates):\n",
    "    "
   ]
  },
  {
   "cell_type": "code",
   "execution_count": 81,
   "metadata": {
    "collapsed": false,
    "scrolled": true
   },
   "outputs": [
    {
     "name": "stdout",
     "output_type": "stream",
     "text": [
      "0\n"
     ]
    }
   ],
   "source": [
    "# print len([m for m in train_marginals if m > 0.4])"
   ]
  },
  {
   "cell_type": "code",
   "execution_count": 49,
   "metadata": {
    "collapsed": false,
    "scrolled": true
   },
   "outputs": [
    {
     "name": "stdout",
     "output_type": "stream",
     "text": [
      "================================================================================\n",
      "Training marginals (!= 0.5):\t17000\n",
      "Features:\t\t\t13\n",
      "================================================================================\n",
      "Using gradient descent...\n",
      "\tLearning epoch = 0\tStep size = 0.0001\n",
      "\tLoss = 11783.502070\tGradient magnitude = 9383.986755\n",
      "\tLearning epoch = 100\tStep size = 9.04792147114e-05\n",
      "\tLoss = 354.874987\tGradient magnitude = 93.987647\n",
      "\tLearning epoch = 200\tStep size = 8.18648829479e-05\n",
      "\tLoss = 313.470633\tGradient magnitude = 52.636303\n",
      "\tLearning epoch = 300\tStep size = 7.40707032156e-05\n",
      "\tLoss = 296.742853\tGradient magnitude = 41.489327\n",
      "\tLearning epoch = 400\tStep size = 6.70185906007e-05\n",
      "\tLoss = 286.111816\tGradient magnitude = 36.642336\n",
      "\tLearning epoch = 500\tStep size = 6.06378944861e-05\n",
      "\tLoss = 278.235149\tGradient magnitude = 33.862676\n",
      "\tLearning epoch = 600\tStep size = 5.48646907485e-05\n",
      "\tLoss = 272.008597\tGradient magnitude = 31.981747\n",
      "\tLearning epoch = 700\tStep size = 4.96411413431e-05\n",
      "\tLoss = 266.920092\tGradient magnitude = 30.580786\n",
      "\tLearning epoch = 800\tStep size = 4.4914914861e-05\n",
      "\tLoss = 262.677503\tGradient magnitude = 29.476874\n",
      "\tLearning epoch = 900\tStep size = 4.06386622545e-05\n",
      "\tLoss = 259.091788\tGradient magnitude = 28.576453\n",
      "\tLearning epoch = 1000\tStep size = 3.67695424771e-05\n",
      "\tLoss = 256.030730\tGradient magnitude = 27.825345\n",
      "\tLearning epoch = 1100\tStep size = 3.32687932862e-05\n",
      "\tLoss = 253.397090\tGradient magnitude = 27.189050\n",
      "\tLearning epoch = 1200\tStep size = 3.01013429093e-05\n",
      "\tLoss = 251.116856\tGradient magnitude = 26.643971\n",
      "\tLearning epoch = 1300\tStep size = 2.72354586819e-05\n",
      "\tLoss = 249.132269\tGradient magnitude = 26.173091\n",
      "\tLearning epoch = 1400\tStep size = 2.46424291385e-05\n",
      "\tLoss = 247.397380\tGradient magnitude = 25.763638\n",
      "\tLearning epoch = 1500\tStep size = 2.22962763703e-05\n",
      "\tLoss = 245.875073\tGradient magnitude = 25.405730\n",
      "\tLearning epoch = 1600\tStep size = 2.01734957697e-05\n",
      "\tLoss = 244.534985\tGradient magnitude = 25.091540\n",
      "\tLearning epoch = 1700\tStep size = 1.82528205523e-05\n",
      "\tLoss = 243.352013\tGradient magnitude = 24.814750\n",
      "\tLearning epoch = 1800\tStep size = 1.65150086984e-05\n",
      "\tLoss = 242.305206\tGradient magnitude = 24.570185\n",
      "\tLearning epoch = 1900\tStep size = 1.49426501798e-05\n",
      "\tLoss = 241.376940\tGradient magnitude = 24.353553\n"
     ]
    }
   ],
   "source": [
    "from snorkel.learning import LogReg\n",
    "\n",
    "disc_model = LogReg()\n",
    "disc_model.train(F_train, train_marginals, n_iter=2000, rate=1e-4)\n",
    "# %time disc_model.save(session, \"Discriminative Params\")"
   ]
  },
  {
   "cell_type": "code",
   "execution_count": 50,
   "metadata": {
    "collapsed": false
   },
   "outputs": [
    {
     "name": "stdout",
     "output_type": "stream",
     "text": [
      "Calibration plot:\n"
     ]
    },
    {
     "data": {
      "image/png": "[encoded data removed]",
      "text/plain": [
       "<matplotlib.figure.Figure at 0x127f4af10>"
      ]
     },
     "metadata": {},
     "output_type": "display_data"
    },
    {
     "name": "stdout",
     "output_type": "stream",
     "text": [
      "========================================\n",
      "Recall-corrected Noise-aware Model\n",
      "========================================\n",
      "Pos. class accuracy: 0.0\n",
      "Neg. class accuracy: 1.0\n",
      "Corpus Precision nan\n",
      "Corpus Recall    0.0\n",
      "Corpus F1        nan\n",
      "----------------------------------------\n",
      "TP: 0 | FP: 0 | TN: 4164 | FN: 1818\n",
      "========================================\n",
      "\n",
      "========================================\n",
      "Recall-corrected Noise-aware Model\n",
      "========================================\n",
      "Pos. class accuracy: 0.0\n",
      "Neg. class accuracy: 1.0\n",
      "Corpus Precision nan\n",
      "Corpus Recall    0.0\n",
      "Corpus F1        nan\n",
      "----------------------------------------\n",
      "TP: 0 | FP: 0 | TN: 4164 | FN: 3636\n",
      "========================================\n",
      "\n"
     ]
    }
   ],
   "source": [
    "train_gold = session.query(CandidateSet).filter(\n",
    "    CandidateSet.name == 'Hardware Training Candidates -- Gold').one()\n",
    "\n",
    "dev_gold = session.query(CandidateSet).filter(\n",
    "    CandidateSet.name == 'Hardware Development Candidates -- Gold').one()\n",
    "\n",
    "from snorkel.models import CandidateSet\n",
    "from snorkel.annotations import LabelManager\n",
    "label_manager = LabelManager()\n",
    "L_dev = label_manager.load(session, dev, 'Hardware Development Labels -- Gold')\n",
    "\n",
    "tp, fp, tn, fn = disc_model.score(F_dev, L_dev, dev_gold)"
   ]
  },
  {
   "cell_type": "code",
   "execution_count": 51,
   "metadata": {
    "collapsed": false,
    "scrolled": true
   },
   "outputs": [
    {
     "name": "stdout",
     "output_type": "stream",
     "text": [
      "========================================\n",
      "Scoring on Entity-Level Gold Data\n",
      "========================================\n",
      "Corpus Precision nan\n",
      "Corpus Recall    0.0\n",
      "Corpus F1        nan\n",
      "----------------------------------------\n",
      "TP: 0 | FP: 0 | FN: 752\n",
      "========================================\n",
      "\n"
     ]
    }
   ],
   "source": [
    "from snorkel.models import Corpus\n",
    "from snorkel.utils import get_ORM_instance\n",
    "from hardware_utils import entity_level_f1\n",
    "import os\n",
    "\n",
    "dev_corpus = get_ORM_instance(Corpus, session, 'Hardware Development')\n",
    "\n",
    "gold_file = os.environ['SNORKELHOME'] + '/tutorials/tables/data/hardware/hardware_gold.csv'\n",
    "# NOTE: this is checking on all corpus, not just dev corpus\n",
    "corpus = session.query(Corpus).filter(Corpus.name == 'Hardware').one()\n",
    "(TP, FP, FN) = entity_level_f1(tp, fp, tn, fn, gold_file, corpus, 'cb_v_max')"
   ]
  },
  {
   "cell_type": "code",
   "execution_count": null,
   "metadata": {
    "collapsed": false
   },
   "outputs": [],
   "source": [
    "from pprint import pprint\n",
    "FN_list = sorted(list(FN))\n",
    "FP_list = sorted(list(FP))\n",
    "TP_list = sorted(list(TP))\n",
    "# pprint(FN_list[:])\n",
    "pprint(FN_list[:10])\n",
    "# pprint(TP_list[:10])"
   ]
  },
  {
   "cell_type": "code",
   "execution_count": null,
   "metadata": {
    "collapsed": false,
    "scrolled": true
   },
   "outputs": [],
   "source": [
    "# docs = set()\n",
    "# for doc in corpus.documents:\n",
    "#     docs.add(doc.name.upper())\n",
    "# pprint(docs)"
   ]
  },
  {
   "cell_type": "code",
   "execution_count": null,
   "metadata": {
    "collapsed": false
   },
   "outputs": [],
   "source": [
    "# import itertools\n",
    "# docs = set()\n",
    "# for f in itertools.chain.from_iterable([tp, tn, fp, fn]):\n",
    "#     docs.add(f.part.parent.document.name.upper())\n",
    "# #     if f.part.parent.document.name.upper() == 'AUKCS04635-1':\n",
    "# #         print f\n",
    "# pprint(docs)"
   ]
  },
  {
   "cell_type": "code",
   "execution_count": 53,
   "metadata": {
    "collapsed": false,
    "scrolled": true
   },
   "outputs": [
    {
     "data": {
      "text/plain": [
       "[(u'LF_cb_keywords_all[-1]', -2.2768049251483147),\n",
       " (u'LF_cb_keywords_all[1]', -2.6758445197883716),\n",
       " (u'LF_cheating_with_another_part[-1]', -2.2701815526753037),\n",
       " (u'LF_equals_in_row[-1]', -1.6330886588272309),\n",
       " (u'LF_i_in_row[-1]', -0.9462347563868578),\n",
       " (u'LF_low_table_num[-1]', -1.798097816099533),\n",
       " (u'LF_not_horz_aligned[-1]', -0.32535094442156903),\n",
       " (u'LF_pos_keywords_horz[1]', -0.9775801968669464),\n",
       " (u'LF_pos_keywords_in_row[1]', -2.790100368912572),\n",
       " (u'LF_same_table_must_align[-1]', -0.32535094442156903),\n",
       " (u'LF_specific_neg_row_keywords[-1]', -0.5995288675155236),\n",
       " (u'LF_too_many_numbers_row[-1]', -1.4646744603880761),\n",
       " (u'LF_voltage_not_in_table[-1]', -3.3206036300442947)]"
      ]
     },
     "execution_count": 53,
     "metadata": {},
     "output_type": "execute_result"
    }
   ],
   "source": [
    "sorted(disc_model.get_feature_weights(F_dev))"
   ]
  },
  {
   "cell_type": "code",
   "execution_count": 69,
   "metadata": {
    "collapsed": false
   },
   "outputs": [
    {
     "name": "stdout",
     "output_type": "stream",
     "text": [
      "Part_Voltage(ImplicitSpan(\"BC547A\", parent=877, words=[11,13], position=[1]), ImplicitSpan(\"80\", parent=757, words=[0,0], position=[0]))\n",
      "Doc: Document 112823\n",
      "------------\n",
      "Part:\n",
      "ImplicitSpan(\"BC547A\", parent=877, words=[11,13], position=[1])\n",
      "Phrase (Doc: 112823, Table: 4, Row: 0, Col: 0, Index: 0, Text: (I C  = 100 mA, V CE  = 5.0 V)                                                 BC547A/548A BC546B/547B/548B)\n",
      "------------\n",
      "Attr:\n",
      "ImplicitSpan(\"80\", parent=757, words=[0,0], position=[0])\n",
      "Phrase (Doc: 112823, Table: 0, Row: 4, Col: 2, Index: 0, Text: 80)\n",
      "------------\n",
      "None\n",
      "[('LF_cb_keywords_all[1]', 1), ('LF_pos_keywords_in_row[1]', 1)]\n",
      "[u'collector', u'collector -', u'collector - emitter', u'-', u'- emitter', u'- emitter voltage', u'emitter', u'emitter voltage', u'voltage', u'bc546', u'v', u'v ceo', u'ceo', u'65', u'vdc', u'bc547', u'45', u'bc548', u'30', u'collector', u'collector -', u'collector - base', u'-', u'- base', u'- base voltage', u'base', u'base voltage', u'voltage', u'bc546', u'v', u'v cbo', u'cbo', u'vdc', u'bc547', u'50', u'bc548', u'30', u'emitter', u'emitter -', u'emitter - base', u'-', u'- base', u'- base voltage', u'base', u'base voltage', u'voltage', u'v', u'v ebo', u'ebo', u'6.0', u'vdc']\n"
     ]
    }
   ],
   "source": [
    "from hardware_utils import part_error_analysis\n",
    "c = candidates[100]\n",
    "print c\n",
    "print part_error_analysis(c)\n",
    "print list(get_all_feats(c))\n",
    "print list(get_row_ngrams(c.voltage, spread=[0,3], n_max=3))"
   ]
  },
  {
   "cell_type": "code",
   "execution_count": null,
   "metadata": {
    "collapsed": true
   },
   "outputs": [],
   "source": [
    "from hardware_utils import entity_to_candidates, part_error_analysis\n",
    "\n",
    "entity = FN_list[0]\n",
    "matches = entity_to_candidates(entity, dev)\n",
    "print \"Entity: (%d matches)\" % len(matches)\n",
    "print entity\n"
   ]
  },
  {
   "cell_type": "code",
   "execution_count": null,
   "metadata": {
    "collapsed": false,
    "scrolled": false
   },
   "outputs": [],
   "source": [
    "from hardware_utils import entity_to_candidates, part_error_analysis\n",
    "\n",
    "# disc_model.get_feature_weights(F_dev)\n",
    "\n",
    "entity = FN_list[0]\n",
    "matches = entity_to_candidates(entity, dev)\n",
    "print \"Entity: (%d matches)\" % len(matches)\n",
    "print entity\n",
    "\n",
    "stop = False\n",
    "for i, c in enumerate(matches):\n",
    "    part_error_analysis(c)\n",
    "    results = []\n",
    "    for lf in LFs:\n",
    "        name = lf.__name__\n",
    "        result = lf(c)\n",
    "        results.append((name, result))\n",
    "#         if name == 'LF_cb_keywords_all' and result == -1:\n",
    "#             print name\n",
    "#             ngrams = list(get_row_ngrams(c.voltage, spread=[0,3], n_max=3))\n",
    "#             print ngrams\n",
    "#             print overlap(ngrams, cb_words)\n",
    "#             stop = False\n",
    "#         if name == 'LF_cheating_with_another_part' and result == -1:\n",
    "#             print name\n",
    "#             horz_ngrams = list(get_horz_ngrams(c))\n",
    "#             print horz_ngrams\n",
    "#             print [part_sniffer.match(x) for x in horz_ngrams]\n",
    "#             stop = False\n",
    "        if name == 'LF_i_in_row' and result == -1:\n",
    "            print name\n",
    "            ngrams = list(get_row_ngrams(c.voltage, spread=[0,3], n_max=3))\n",
    "            print ngrams\n",
    "            stop = False\n",
    "        if stop: break\n",
    "    print \"MATCH %d:\" % i\n",
    "    print heuristic(c)\n",
    "    pprint(results)\n",
    "    print \"--------------------------------------------------------------------------------\"\n",
    "    if stop: break\n",
    "    \n",
    "#     if heuristic(candidate):\n",
    "#         print \"\\nCandidate:\"\n",
    "# #         print candidate\n",
    "#         print part_error_analysis(candidate)\n",
    "#     print heuristic(candidate)\n",
    "#     print LF_voltage_not_in_table(candidate)\n",
    "#         print candidate.voltage.parent.table\n",
    "#     print \"\\nScore:\"\n",
    "#     print disc_model.get_candidate_score(candidate, F_dev)\n",
    "\n",
    "#     print \"\\nFeatures:\"\n",
    "#     pprint(disc_model.get_candidate_feature_weights(candidate, F_dev))"
   ]
  },
  {
   "cell_type": "code",
   "execution_count": null,
   "metadata": {
    "collapsed": true
   },
   "outputs": [],
   "source": [
    "# def LF_first_row(c):\n",
    "#     if c.voltage.parent.row_num == 0:\n",
    "#         return -1\n",
    "#     else:\n",
    "#         return 0\n",
    "# LFs.append(LF_first_row)\n",
    "    \n",
    "# def LF_not_ce_relevant(c):\n",
    "#     ce_keywords = set(['collector', 'emitter', 'collector-emitter'])\n",
    "#     ngrams = set(get_aligned_ngrams(c.voltage))\n",
    "#     if not set_any_in_set(ce_keywords, ngrams):\n",
    "#         return -1\n",
    "#     else:\n",
    "#         return 1\n",
    "# LFs.append(LF_not_ce_relevant)\n",
    "\n",
    "# def LF_negative_keywords(c):\n",
    "#     row_neg_keys = set(['ambient',\n",
    "#                     'small-signal',\n",
    "#                     'cut-off',\n",
    "#                     'na',\n",
    "#                     'ma',\n",
    "#                     'cex',\n",
    "#                     'resistance',\n",
    "#                     'power',\n",
    "#                     'junction',\n",
    "#                     'dissipation', \n",
    "#                     'breakdown',\n",
    "#                     'current',\n",
    "#                     'ceo',\n",
    "#                     'vceo'\n",
    "#                     'peak',\n",
    "#                     '=',\n",
    "#                     'f',\n",
    "#                     'p',\n",
    "#                     'base',\n",
    "#                     'mw',\n",
    "#                     'ebo',\n",
    "#                     'vebo',\n",
    "#                     'i c',\n",
    "#                     'total',\n",
    "#                     'device',\n",
    "#                     'c',\n",
    "#                     'mhz',\n",
    "#                     'temperature',\n",
    "#                     'saturation',\n",
    "#                     'operating',\n",
    "#                     'storage'\n",
    "#                     'bandwidth',\n",
    "#                     'derate',\n",
    "#                     'above',\n",
    "#                     'product',\n",
    "#                     'figure',\n",
    "#                     'conditions',\n",
    "#                     'current gain',\n",
    "#                     'saturation',\n",
    "#                     'min',\n",
    "#                     'min.',\n",
    "#                     'typ',\n",
    "#                     'typ.',\n",
    "#                     'max',\n",
    "#                     'max.',\n",
    "#                     'gain',\n",
    "#                     'p',\n",
    "#                     'thermal',\n",
    "#                     'test'])\n",
    "#     row_ngrams = set(get_row_ngrams(c.voltage))\n",
    "#     col_ngrams = set(get_col_ngrams(c.voltage))\n",
    "#     col_neg_keys = set(['conditions', \n",
    "#                         'condition', \n",
    "#                         'parameter', \n",
    "#                         'min',\n",
    "#                         'min.',\n",
    "#                         'typ',\n",
    "#                         'typ.',\n",
    "#                         'max',\n",
    "#                         'max.',\n",
    "#                         'test'])\n",
    "#     if set_any_in_set(row_neg_keys, row_ngrams):\n",
    "#         return -1\n",
    "#     if set_any_in_set(col_neg_keys, col_ngrams):\n",
    "#         return -1\n",
    "#     return 0\n",
    "# LFs.append(LF_negative_keywords)\n",
    "    \n",
    "# def LF_negative_keywords_in_col(c):\n",
    "#     neg_keys = set(['conditions',\n",
    "#                     'condition',\n",
    "#                     'parameter',\n",
    "#                     'test'])\n",
    "#     ngrams = set(get_col_ngrams(c.voltage))\n",
    "#     if set_any_in_set(neg_keys, ngrams):\n",
    "#         return -1\n",
    "#     else:\n",
    "#         return 0\n",
    "\n",
    "# LFs.append(LF_negative_keywords_in_col)\n",
    "\n",
    "# def LF_negative_keywords_in_part_aligned(c):\n",
    "#     ngrams = set(get_aligned_ngrams(c.part))\n",
    "#     return -1 if (\n",
    "#         'gain'          in ngrams or\n",
    "#         'small-signal'  in ngrams or\n",
    "#         'small'         in ngrams or\n",
    "#         'cbo'         in ngrams or\n",
    "#         'collector-emitter' in ngrams or\n",
    "#         'value'         in ngrams or\n",
    "#         'thermal'       in ngrams) else 0\n",
    "# LFs.append(LF_negative_keywords_in_part_aligned)\n",
    "\n",
    "# def LF_negative_keywords(c):\n",
    "#     ngrams = set(get_aligned_ngrams(c.voltage))\n",
    "#     return -1 if (\n",
    "#         'collector-base'    in ngrams or\n",
    "#         'cut-off'           in ngrams or\n",
    "#         '='                 in ngrams or\n",
    "#         'gain'              in ngrams or\n",
    "#         'h fe'              in ngrams or\n",
    "#         'typ.'              in ngrams or\n",
    "#         'typ'               in ngrams or\n",
    "#         'min'               in ngrams or\n",
    "#         'min.'              in ngrams or\n",
    "#         'saturation'        in ngrams or\n",
    "#         'mhz'               in ngrams or\n",
    "#         'gain'              in ngrams or\n",
    "#         'obo'               in ngrams or\n",
    "#         'c obo'             in ngrams) else 0\n",
    "# LFs.append(LF_negative_keywords)\n"
   ]
  },
  {
   "cell_type": "code",
   "execution_count": null,
   "metadata": {
    "collapsed": true
   },
   "outputs": [],
   "source": []
  }
 ],
 "metadata": {
  "anaconda-cloud": {},
  "kernelspec": {
   "display_name": "Python [default]",
   "language": "python",
   "name": "python2"
  },
  "language_info": {
   "codemirror_mode": {
    "name": "ipython",
    "version": 2
   },
   "file_extension": ".py",
   "mimetype": "text/x-python",
   "name": "python",
   "nbconvert_exporter": "python",
   "pygments_lexer": "ipython2",
   "version": "2.7.10"
  }
 },
 "nbformat": 4,
 "nbformat_minor": 1
}
