{
 "cells": [
  {
   "cell_type": "code",
   "execution_count": 1,
   "metadata": {
    "collapsed": false,
    "scrolled": false
   },
   "outputs": [
    {
     "name": "stdout",
     "output_type": "stream",
     "text": [
      "True\n"
     ]
    }
   ],
   "source": [
    "%load_ext autoreload\n",
    "%autoreload 2\n",
    "%matplotlib inline\n",
    "\n",
    "import os\n",
    "import sys\n",
    "sys.path.append(os.environ['SNORKELHOME'] + '/tutorials/tables/')\n",
    "snorkel_postgres = os.environ.get('SNORKELDB','').startswith('postgres')\n",
    "print snorkel_postgres"
   ]
  },
  {
   "cell_type": "markdown",
   "metadata": {},
   "source": [
    "### Parse"
   ]
  },
  {
   "cell_type": "code",
   "execution_count": 2,
   "metadata": {
    "collapsed": true
   },
   "outputs": [],
   "source": [
    "# If necessary:\n",
    "import os\n",
    "if snorkel_postgres:\n",
    "    os.environ['SNORKELDBNAME'] = 'parts_regex'\n",
    "    os.system(\"dropdb \" + os.environ['SNORKELDBNAME'])\n",
    "    os.system(\"createdb \" + os.environ['SNORKELDBNAME'])\n",
    "else:\n",
    "    try:\n",
    "        os.remove('snorkel.db')\n",
    "    except:\n",
    "        pass\n",
    "\n",
    "from snorkel import SnorkelSession\n",
    "session = SnorkelSession()"
   ]
  },
  {
   "cell_type": "code",
   "execution_count": 3,
   "metadata": {
    "collapsed": false
   },
   "outputs": [
    {
     "name": "stdout",
     "output_type": "stream",
     "text": [
      "Starting async parse...\n",
      "[========================================] 100%\n",
      "CPU times: user 242 ms, sys: 82.8 ms, total: 325 ms\n",
      "Wall time: 3min 25s\n",
      "Corpus (Hardware Dev) contains 122 documents\n"
     ]
    }
   ],
   "source": [
    "import os\n",
    "\n",
    "docs_path = os.environ['SNORKELHOME'] + '/tutorials/tables/data/hardware/dev/html/'\n",
    "pdf_path = os.environ['SNORKELHOME'] + '/tutorials/tables/data/hardware/dev/pdf/'\n",
    "\n",
    "if snorkel_postgres:\n",
    "    from snorkel.async_parser import parse_corpus, HTMLParser, AsyncOmniParser\n",
    "   \n",
    "    # PARSE DEV\n",
    "    print \"Starting async parse...\"\n",
    "    doc_parser = HTMLParser()\n",
    "    context_parser = AsyncOmniParser(blacklist=['style'], flatten=['span','br'], \n",
    "                                     tabular=True, lingual=True,\n",
    "                                     visual=True, pdf_path=pdf_path)\n",
    "    %time corpus = parse_corpus(session, 'Hardware Dev', docs_path,\\\n",
    "                                doc_parser, context_parser,\\\n",
    "                                max_docs=125, parallel=3)\n",
    "    \n",
    "else:\n",
    "    from snorkel.parser import CorpusParser, HTMLParser, OmniParser\n",
    "    from snorkel.utils import get_ORM_instance\n",
    "\n",
    "    # PARSE DEV\n",
    "    print \"Starting sync parse...\"\n",
    "    doc_parser = HTMLParser(path=docs_path)\n",
    "    context_parser = OmniParser(blacklist=['style'], flatten=['span','br'], \n",
    "                                tabular=True, lingual=True,\n",
    "                                visual=True, pdf_path=pdf_path)\n",
    "    cp = CorpusParser(doc_parser, context_parser, max_docs=125)\n",
    "    %time corpus = cp.parse_corpus(name='Hardware Dev', session=session)\n",
    "\n",
    "    session.add(corpus)\n",
    "    session.commit()\n",
    "\n",
    "print \"%s contains %d documents\" % (corpus, len(corpus))"
   ]
  },
  {
   "cell_type": "code",
   "execution_count": 4,
   "metadata": {
    "collapsed": true
   },
   "outputs": [],
   "source": [
    "# If necessary:\n",
    "if not snorkel_postgres:\n",
    "    import os\n",
    "    os.system('cp snorkel.db snorkel.db\\ corpus');"
   ]
  },
  {
   "cell_type": "markdown",
   "metadata": {},
   "source": [
    "### Load"
   ]
  },
  {
   "cell_type": "code",
   "execution_count": 5,
   "metadata": {
    "collapsed": false,
    "scrolled": false
   },
   "outputs": [],
   "source": [
    "# from snorkel.models import Corpus\n",
    "# import os\n",
    "\n",
    "# os.system('cp snorkel.db\\ corpus snorkel.db');\n",
    "# from snorkel import SnorkelSession\n",
    "# session = SnorkelSession()\n",
    "\n",
    "# corpus = session.query(Corpus).filter(Corpus.name == 'Hardware Dev').one()\n",
    "# print \"%s contains %d Documents\" % (corpus, len(corpus))"
   ]
  },
  {
   "cell_type": "markdown",
   "metadata": {},
   "source": [
    "### Extraction"
   ]
  },
  {
   "cell_type": "code",
   "execution_count": 6,
   "metadata": {
    "collapsed": false,
    "scrolled": true
   },
   "outputs": [],
   "source": [
    "from snorkel.models import candidate_subclass\n",
    "from hardware_spaces import get_space\n",
    "from hardware_matchers import get_matcher\n",
    "from hardware_throttlers import get_part_throttler_wrapper\n",
    "\n",
    "Part = candidate_subclass('Part', ['part'])\n",
    "part_ngrams = get_space('part')\n",
    "part_matcher = get_matcher('part')\n",
    "part_throttler = get_part_throttler_wrapper()\n",
    "# part_throttler = None"
   ]
  },
  {
   "cell_type": "code",
   "execution_count": 7,
   "metadata": {
    "collapsed": false
   },
   "outputs": [],
   "source": [
    "# from hardware_matchers import get_matcher\n",
    "\n",
    "# part_matcher = get_matcher('part')\n",
    "# part_matcher.rgx"
   ]
  },
  {
   "cell_type": "code",
   "execution_count": 8,
   "metadata": {
    "collapsed": true
   },
   "outputs": [],
   "source": [
    "# Attempt at alternative regex:\n",
    "# from snorkel.matchers import RegexMatchSpan, Inverse, Intersect\n",
    "# long_enough = RegexMatchSpan(rgx='[A-Z2][A-Z0-9\\-]{4,}(?:\\/(?:DG|HF))?', ignore_case=False)\n",
    "# at_least_one_number = RegexMatchSpan(rgx='[A-Z0-9\\-\\/]*[0-9][A-Z0-9\\-\\/]*', ignore_case=False)\n",
    "# at_least_one_letter = RegexMatchSpan(rgx='[A-Z0-9\\-\\/]*[A-Z][A-Z0-9\\-\\/]*', ignore_case=False) \n",
    "# bad_form = Inverse(RegexMatchSpan(rgx='(?:[A-Z]+\\d)|(?:[A-Z0-9\\-\\/]{0,2}\\-[A-Z0-9\\-\\/]*)'))\n",
    "# bad_start = Inverse(RegexMatchSpan(rgx='(?:T[O0]|SOT|BRD|FIGURE|EHP)[A-Z0-9\\-\\/]*'))\n",
    "# bad_end = Inverse(RegexMatchSpan(rgx='[A-Z0-9\\-\\/]*(TYP|MAX|MIN|BASE|HZ|MM|VDC|VDF)'))\n",
    "# part_matcher = Intersect(long_enough, at_least_one_number, at_least_one_letter, \n",
    "#                          bad_form, bad_start, bad_end)"
   ]
  },
  {
   "cell_type": "code",
   "execution_count": 9,
   "metadata": {
    "collapsed": false
   },
   "outputs": [],
   "source": [
    "from snorkel.candidates import CandidateExtractor\n",
    "\n",
    "ce = CandidateExtractor(Part, \n",
    "                        [part_ngrams], \n",
    "                        [part_matcher],\n",
    "                        throttler=part_throttler)"
   ]
  },
  {
   "cell_type": "code",
   "execution_count": 10,
   "metadata": {
    "collapsed": false,
    "scrolled": true
   },
   "outputs": [
    {
     "name": "stdout",
     "output_type": "stream",
     "text": [
      "[========================================] 100%\n",
      "CPU times: user 2min 23s, sys: 3.09 s, total: 2min 26s\n",
      "Wall time: 5min\n",
      "Candidate Set (Hardware Dev Candidates) contains 3179 Candidates\n"
     ]
    }
   ],
   "source": [
    "%time candidates = ce.extract(corpus.documents, 'Hardware Dev Candidates', session)\n",
    "print \"%s contains %d Candidates\" % (candidates, len(candidates))"
   ]
  },
  {
   "cell_type": "code",
   "execution_count": 11,
   "metadata": {
    "collapsed": true
   },
   "outputs": [],
   "source": [
    "# If necessary:\n",
    "if not snorkel_postgres:\n",
    "    import os\n",
    "    os.system('cp snorkel.db snorkel.db\\ candidates');"
   ]
  },
  {
   "cell_type": "markdown",
   "metadata": {},
   "source": [
    "### Second Pass"
   ]
  },
  {
   "cell_type": "code",
   "execution_count": 12,
   "metadata": {
    "collapsed": true
   },
   "outputs": [],
   "source": [
    "# If necessary:\n",
    "if not snorkel_postgres:\n",
    "    import os\n",
    "    os.system('cp snorkel.db\\ candidates snorkel.db');"
   ]
  },
  {
   "cell_type": "code",
   "execution_count": 13,
   "metadata": {
    "collapsed": false
   },
   "outputs": [],
   "source": [
    "# from hardware_utils import get_gold_parts_by_doc, get_manual_parts_by_doc\n",
    "# from snorkel.utils import get_ORM_instance\n",
    "# from snorkel.models import Corpus\n",
    "\n",
    "# corpus = get_ORM_instance(Corpus, session, 'Hardware Dev')\n",
    "\n",
    "# # parts_by_doc = get_gold_parts_by_doc()\n",
    "# parts_by_doc = get_manual_parts_by_doc(corpus)\n",
    "# # parts_by_doc = None"
   ]
  },
  {
   "cell_type": "code",
   "execution_count": 14,
   "metadata": {
    "collapsed": true
   },
   "outputs": [],
   "source": [
    "# import cPickle as pickle\n",
    "# pickle_file = os.environ['SNORKELHOME'] + '/tutorials/tables/sandbox/parts_by_doc.pkl'\n",
    "\n",
    "# with open(pickle_file, 'w') as f:\n",
    "#     pickle.dump(parts_by_doc, f)"
   ]
  },
  {
   "cell_type": "code",
   "execution_count": 15,
   "metadata": {
    "collapsed": true
   },
   "outputs": [],
   "source": [
    "import cPickle as pickle\n",
    "pickle_file = os.environ['SNORKELHOME'] + '/tutorials/tables/sandbox/parts_by_doc.pkl'\n",
    "with open(pickle_file, 'r') as f:\n",
    "    parts_by_doc = pickle.load(f)"
   ]
  },
  {
   "cell_type": "markdown",
   "metadata": {},
   "source": [
    "### Evaluation"
   ]
  },
  {
   "cell_type": "code",
   "execution_count": 16,
   "metadata": {
    "collapsed": false
   },
   "outputs": [
    {
     "name": "stdout",
     "output_type": "stream",
     "text": [
      "927 gold parts loaded\n"
     ]
    }
   ],
   "source": [
    "from hardware_utils import get_gold_dict\n",
    "\n",
    "gold_file = os.environ['SNORKELHOME'] + '/tutorials/tables/data/hardware/dev/hardware_dev_gold.csv'\n",
    "gold_parts = get_gold_dict(gold_file, doc_on=True, part_on=True, val_on=False)\n",
    "print \"%d gold parts loaded\" % len(gold_parts)"
   ]
  },
  {
   "cell_type": "code",
   "execution_count": 17,
   "metadata": {
    "collapsed": false,
    "scrolled": false
   },
   "outputs": [
    {
     "name": "stdout",
     "output_type": "stream",
     "text": [
      "========================================\n",
      "Scoring on Entity-Level Gold Data\n",
      "========================================\n",
      "Corpus Precision 0.826\n",
      "Corpus Recall    0.923\n",
      "Corpus F1        0.872\n",
      "----------------------------------------\n",
      "TP: 856 | FP: 180 | FN: 71\n",
      "========================================\n",
      "\n",
      "CPU times: user 13.6 s, sys: 602 ms, total: 14.2 s\n",
      "Wall time: 17.2 s\n"
     ]
    }
   ],
   "source": [
    "from hardware_utils import parts_f1\n",
    "\n",
    "%time TP, FP, FN = parts_f1(candidates, gold_parts, parts_by_doc)"
   ]
  },
  {
   "cell_type": "code",
   "execution_count": 18,
   "metadata": {
    "collapsed": false,
    "scrolled": false
   },
   "outputs": [
    {
     "name": "stdout",
     "output_type": "stream",
     "text": [
      "[(u'2N3906-D', u'2N3906/D'),\n",
      " (u'BC337', u'BC33716'),\n",
      " (u'BC337', u'BC33725'),\n",
      " (u'BC337', u'BC33740'),\n",
      " (u'BC337', u'BC33740BU'),\n",
      " (u'BC337', u'BC338-16'),\n",
      " (u'BC337', u'BC338-40'),\n",
      " (u'BC337', u'BC33825'),\n",
      " (u'BC337-D', u'BC337-XX'),\n",
      " (u'BC546', u'BC548A'),\n",
      " (u'BC546', u'BC549A'),\n",
      " (u'BC546', u'BC550A'),\n",
      " (u'BC546', u'BC550B'),\n",
      " (u'BC546-BC548C(TO-92)', u'BC546-BC548C'),\n",
      " (u'BC546-BC548C(TO-92)', u'BC547A/B/C'),\n",
      " (u'BC546-BC548C(TO-92)', u'BC548A/B/C'),\n",
      " (u'BC546A_SERIES_B14-521026', u'BC546A/B/C'),\n",
      " (u'BC546A_SERIES_B14-521026', u'BC550A/B/C'),\n",
      " (u'BC546_DIOTEC', u'BC546C'),\n",
      " (u'BC546_DIOTEC', u'BC549A'),\n",
      " (u'BC547', u'BC548A'),\n",
      " (u'BC547', u'BC548BU'),\n",
      " (u'BC547', u'BC549A'),\n",
      " (u'BC547', u'BC550A'),\n",
      " (u'BC547', u'BC550B'),\n",
      " (u'BC818-40LT1-D', u'BC818-40LT1'),\n",
      " (u'CSEMS05382-1', u'BC546-48ABC'),\n",
      " (u'DIODESINCORPORATED_FCX491ATA', u'AP02001'),\n",
      " (u'DIODESINCORPORATED_FCX491ATA', u'AP02002'),\n",
      " (u'DIODESINCORPORATED_FZT651TC', u'AP02001'),\n",
      " (u'DIODESINCORPORATED_FZT651TC', u'AP02002'),\n",
      " (u'DIODESINCORPORATED_ZXT690BKTC', u'AP02001'),\n",
      " (u'DIODESINCORPORATED_ZXT690BKTC', u'AP02002'),\n",
      " (u'DIODESINCORPORATED_ZXT690BKTC', u'ZXT690B'),\n",
      " (u'DIODS13249-1', u'BC808'),\n",
      " (u'DIODS13249-1', u'BC81840'),\n",
      " (u'DISES00189-1', u'BC546C'),\n",
      " (u'DISES00189-1', u'BC546XBK'),\n",
      " (u'DISES00189-1', u'BC547XBK'),\n",
      " (u'DISES00189-1', u'BC548XBK'),\n",
      " (u'DISES00189-1', u'BC549A'),\n",
      " (u'DISES00189-1', u'BC549XBK'),\n",
      " (u'DISES00490-1', u'BC846WA'),\n",
      " (u'DISES00490-1', u'BC846WB'),\n",
      " (u'DISES00490-1', u'BC846WC'),\n",
      " (u'DISES00490-1', u'BC847WA'),\n",
      " (u'DISES00490-1', u'BC847WB'),\n",
      " (u'DISES00490-1', u'BC847WC'),\n",
      " (u'DISES00490-1', u'BC848WA'),\n",
      " (u'DISES00490-1', u'BC848WB'),\n",
      " (u'DISES00490-1', u'BC848WC'),\n",
      " (u'DISES00490-1', u'BC849WA'),\n",
      " (u'DISES00490-1', u'BC849WB'),\n",
      " (u'DISES00490-1', u'BC849WC'),\n",
      " (u'DISES00616-1', u'BC859A'),\n",
      " (u'DISES00616-1', u'BC860A'),\n",
      " (u'INFINEON-BC817KSERIES_BC818KSERIES-DS-V01_01-EN', u'AN077'),\n",
      " (u'INFINEON-BC817KSERIES_BC818KSERIES-DS-V01_01-EN', u'BC817'),\n",
      " (u'INFINEON-BC817KSERIES_BC818KSERIES-DS-V01_01-EN', u'BC818'),\n",
      " (u'INFINEON-BC857SERIES_BC858SERIES_BC859SERIES_BC860SERIES-DS-V01_01-EN',\n",
      "  u'AN077'),\n",
      " (u'INFINEON-BC857SERIES_BC858SERIES_BC859SERIES_BC860SERIES-DS-V01_01-EN',\n",
      "  u'BC850'),\n",
      " (u'INFINEON-BC857SERIES_BC858SERIES_BC859SERIES_BC860SERIES-DS-V01_01-EN',\n",
      "  u'BC857-BC860'),\n",
      " (u'INFINEON-BC857SERIES_BC858SERIES_BC859SERIES_BC860SERIES-DS-V01_01-EN',\n",
      "  u'BC857W'),\n",
      " (u'INFINEON-BC857SERIES_BC858SERIES_BC859SERIES_BC860SERIES-DS-V01_01-EN',\n",
      "  u'BC857W-BC860W'),\n",
      " (u'INFINEON-BC857SERIES_BC858SERIES_BC859SERIES_BC860SERIES-DS-V01_01-EN',\n",
      "  u'BC858W'),\n",
      " (u'INFINEON-BC857SERIES_BC858SERIES_BC859SERIES_BC860SERIES-DS-V01_01-EN',\n",
      "  u'BC859W'),\n",
      " (u'INFINEON-BC857SERIES_BC858SERIES_BC859SERIES_BC860SERIES-DS-V01_01-EN',\n",
      "  u'BC860W'),\n",
      " (u'INFNS19372-1', u'AN077'),\n",
      " (u'KECCS03676-1', u'BC856C'),\n",
      " (u'KECCS05435-1', u'BC546C'),\n",
      " (u'LITES00690-1', u'BC556'),\n",
      " (u'LITES00690-1', u'BC556A'),\n",
      " (u'LITES00690-1', u'BC556B'),\n",
      " (u'LITES00690-1', u'BC556C'),\n",
      " (u'LITES00690-1', u'BC557'),\n",
      " (u'LITES00690-1', u'BC557A'),\n",
      " (u'LITES00690-1', u'BC557B'),\n",
      " (u'LITES00690-1', u'BC557C'),\n",
      " (u'LITES00690-1', u'BC558'),\n",
      " (u'LITES00690-1', u'BC558A'),\n",
      " (u'LITES00690-1', u'BC558B'),\n",
      " (u'LITES00690-1', u'BC558C'),\n",
      " (u'LTSCS02910-1', u'BC818-REV'),\n",
      " (u'LTSCS02912-1', u'BC846W-REV'),\n",
      " (u'LTSCS02920-1', u'BC857-REV'),\n",
      " (u'MCCCS09540-1', u'BC846A-BC849C'),\n",
      " (u'MCCCS09741-1', u'BC337-16/'),\n",
      " (u'MCCCS09741-1', u'BC338-16/'),\n",
      " (u'MICROSEMICORPORATION_2N2484UB', u'2N2484'),\n",
      " (u'MOTOS03160-1', u'BC182/D'),\n",
      " (u'MOTOS03189-1', u'BC337-16/'),\n",
      " (u'MOTOS03189-1', u'BC337-25/'),\n",
      " (u'MOTOS03189-1', u'BC337-40/'),\n",
      " (u'MOTOS03189-1', u'BC337/D'),\n",
      " (u'MOTOS04676-1', u'2N4123/D'),\n",
      " (u'MOTOS04796-1', u'2N6426/D'),\n",
      " (u'ONSEMICONDUCTOR_MMBT6521LT1', u'AN569'),\n",
      " (u'ONSEMICONDUCTOR_MMBT6521LT1', u'AN569/D'),\n",
      " (u'ONSEMICONDUCTOR_MMBT6521LT1', u'AN569A'),\n",
      " (u'ONSMS04099-1', u'BC237BA'),\n",
      " (u'ONSMS04099-1', u'BC237CA'),\n",
      " (u'ONSMS04099-1', u'BC238A'),\n",
      " (u'ONSMS04099-1', u'BC238BA'),\n",
      " (u'ONSMS04099-1', u'BC238CA'),\n",
      " (u'ONSMS04099-1', u'BC239A'),\n",
      " (u'ONSMS04099-1', u'MPS3904'),\n",
      " (u'ONSMS04099-1', u'MPS3904A'),\n",
      " (u'PHGLS18216-1', u'BC557'),\n",
      " (u'PHGLS18216-1', u'BC557B'),\n",
      " (u'PHGLS18216-1', u'BC557C'),\n",
      " (u'PHGLS18216-1', u'BC847DG'),\n",
      " (u'PHGLS18216-1', u'BC857'),\n",
      " (u'PHGLS18216-1', u'BC857A'),\n",
      " (u'PHGLS18216-1', u'BC857AM'),\n",
      " (u'PHGLS18216-1', u'BC857AT'),\n",
      " (u'PHGLS18216-1', u'BC857AW'),\n",
      " (u'PHGLS18216-1', u'BC857B'),\n",
      " (u'PHGLS18216-1', u'BC857BM'),\n",
      " (u'PHGLS18216-1', u'BC857BT'),\n",
      " (u'PHGLS18216-1', u'BC857BW'),\n",
      " (u'PHGLS18216-1', u'BC857C'),\n",
      " (u'PHGLS18216-1', u'BC857CM'),\n",
      " (u'PHGLS18216-1', u'BC857CT'),\n",
      " (u'PHGLS18216-1', u'BC857CW'),\n",
      " (u'PHGLS18216-1', u'BC857T'),\n",
      " (u'PHGLS18216-1', u'BC857W'),\n",
      " (u'PHGLS25601-1', u'BC856'),\n",
      " (u'PHGLS25601-1', u'BC856T'),\n",
      " (u'PHGLS25601-1', u'BC856W'),\n",
      " (u'PNJIS01186-1', u'BC807'),\n",
      " (u'PNJIS01593-1', u'BC846'),\n",
      " (u'PNJIS01593-1', u'BC849'),\n",
      " (u'RECTS01158-1', u'BC807-25LT1'),\n",
      " (u'RECTS01214-1', u'DTC114ECA-1'),\n",
      " (u'RECTS01242-1', u'BC857BLT1'),\n",
      " (u'RECTS01325-1', u'DTC114YCA-1'),\n",
      " (u'SANKEN_2SC4886', u'2SC4886O'),\n",
      " (u'SANKEN_2SC4886', u'2SC4886Y'),\n",
      " (u'SANKEN_2SD2643', u'2SD2643O'),\n",
      " (u'SANKEN_2SD2643', u'2SD2643Y'),\n",
      " (u'TWSCS04757-1', u'BC807'),\n",
      " (u'TWSCS04757-1', u'BC807-16/'),\n",
      " (u'TWSCS04757-1', u'BC807-XX'),\n",
      " (u'UTCLS01324-1', u'MMBT3904-E'),\n",
      " (u'UTCLS03593-1', u'DTC114E-I'),\n",
      " (u'VISHS23888-1', u'BC546C'),\n",
      " (u'VISHS23888-1', u'BC549A'),\n",
      " (u'VSMIS03793-1', u'BC807'),\n",
      " (u'VSMIS03793-1', u'BC807-16'),\n",
      " (u'VSMIS03793-1', u'BC807-25'),\n",
      " (u'VSMIS03793-1', u'BC807-40'),\n",
      " (u'VSMIS03793-1', u'BC808'),\n",
      " (u'VSMIS03793-1', u'BC808-16'),\n",
      " (u'VSMIS03793-1', u'BC808-25'),\n",
      " (u'VSMIS03793-1', u'BC808-40'),\n",
      " (u'WEILS00082-1', u'BC856A/B-BC'),\n",
      " (u'WEILS00082-1', u'BC858A/B/C-BC'),\n",
      " (u'WEITS00252-1', u'BC807-1'),\n",
      " (u'WEITS00252-1', u'BC807-16/'),\n",
      " (u'WEITS00252-1', u'BC807-17'),\n",
      " (u'ZETXS01948-1', u'BC856-40'),\n",
      " (u'ZETXS01948-1', u'BC856A'),\n",
      " (u'ZETXS01948-1', u'BC856B'),\n",
      " (u'ZETXS01948-1', u'BC856C'),\n",
      " (u'ZETXS01948-1', u'BC857-40'),\n",
      " (u'ZETXS01948-1', u'BC857A'),\n",
      " (u'ZETXS01948-1', u'BC857B'),\n",
      " (u'ZETXS01948-1', u'BC857C'),\n",
      " (u'ZETXS01948-1', u'BC858-40'),\n",
      " (u'ZETXS01948-1', u'BC858A'),\n",
      " (u'ZETXS01948-1', u'BC858B'),\n",
      " (u'ZETXS01948-1', u'BC858C'),\n",
      " (u'ZETXS01948-1', u'BC859-40'),\n",
      " (u'ZETXS01948-1', u'BC859A'),\n",
      " (u'ZETXS01948-1', u'BC859B'),\n",
      " (u'ZETXS01948-1', u'BC859C'),\n",
      " (u'ZETXS01948-1', u'BC860-40'),\n",
      " (u'ZETXS01948-1', u'BC860A'),\n",
      " (u'ZETXS01948-1', u'BC860B'),\n",
      " (u'ZETXS01948-1', u'BC860C')]\n"
     ]
    }
   ],
   "source": [
    "from pprint import pprint\n",
    "pprint(FP)"
   ]
  },
  {
   "cell_type": "code",
   "execution_count": 19,
   "metadata": {
    "collapsed": false
   },
   "outputs": [
    {
     "name": "stdout",
     "output_type": "stream",
     "text": [
      "[('CENTRALSEMICONDUCTORCORP_CENU45', 'CEN-U45'),\n",
      " ('CENTRALSEMICONDUCTORCORP_CMPT5401ETR', 'CMPT5401E'),\n",
      " ('CENTRALSEMICONDUCTORCORP_CXT4033TR', 'CXT4033'),\n",
      " ('DIODESINCORPORATED_2DD26527', '2DD2652'),\n",
      " ('DIODESINCORPORATED_2DD26527', '2DD2652-7'),\n",
      " ('DIODESINCORPORATED_FCX491ATA', 'FCX491A'),\n",
      " ('DIODESINCORPORATED_ZXT690BKTC', 'ZXT690BKQTC'),\n",
      " ('DIODESINCORPORATED_ZXT690BKTC', 'ZXT690BKTC'),\n",
      " ('DISES00490-1', 'BC846AW'),\n",
      " ('DISES00490-1', 'BC846BW'),\n",
      " ('DISES00490-1', 'BC847AW'),\n",
      " ('DISES00490-1', 'BC847BW'),\n",
      " ('DISES00490-1', 'BC847CW'),\n",
      " ('DISES00490-1', 'BC848AW'),\n",
      " ('DISES00490-1', 'BC848BW'),\n",
      " ('DISES00490-1', 'BC848CW'),\n",
      " ('DISES00490-1', 'BC849BW'),\n",
      " ('DISES00490-1', 'BC849CW'),\n",
      " ('FAIRCHILDSEMICONDUCTOR_KSC2310YTA', 'KSC2310'),\n",
      " ('FAIRCHILDSEMICONDUCTOR_KSC2310YTA', 'KSC2310O'),\n",
      " ('FAIRCHILDSEMICONDUCTOR_KSC2310YTA', 'KSC2310R'),\n",
      " ('FAIRCHILDSEMICONDUCTOR_KSC2310YTA', 'KSC2310Y'),\n",
      " ('LITES00689-1', 'BC337-25'),\n",
      " ('MICROCOMMERCIALCO_2N3904AP', '2N3904-AP'),\n",
      " ('MICROCOMMERCIALCO_2N3904AP', '2N3904-AP-HF'),\n",
      " ('MICROCOMMERCIALCO_2N3904AP', '2N3904-BP'),\n",
      " ('MICROCOMMERCIALCO_2N3904AP', '2N3904-BP-HF'),\n",
      " ('MICROCOMMERCIALCO_TIP29ABP', 'TIP29A-BP'),\n",
      " ('MICROCOMMERCIALCO_TIP29ABP', 'TIP29A-BP-HF'),\n",
      " ('MICROCOMMERCIALCO_TIP29ABP', 'TIP29B-BP'),\n",
      " ('MICROCOMMERCIALCO_TIP29ABP', 'TIP29B-BP-HF'),\n",
      " ('MICROCOMMERCIALCO_TIP29ABP', 'TIP29C-BP'),\n",
      " ('MICROCOMMERCIALCO_TIP29ABP', 'TIP29C-BP-HF'),\n",
      " ('MICROCOMMERCIALCO_TIP29ABP', 'TIP30A-BP'),\n",
      " ('MICROCOMMERCIALCO_TIP29ABP', 'TIP30A-BP-HF'),\n",
      " ('MICROCOMMERCIALCO_TIP29ABP', 'TIP30B-BP'),\n",
      " ('MICROCOMMERCIALCO_TIP29ABP', 'TIP30B-BP-HF'),\n",
      " ('MICROCOMMERCIALCO_TIP29ABP', 'TIP30C-BP'),\n",
      " ('MICROCOMMERCIALCO_TIP29ABP', 'TIP30C-BP-HF'),\n",
      " ('NXPUSAINC_PBSS5360PASX', 'PBSS5360PAS'),\n",
      " ('ONSEMICONDUCTOR_MMBT6521LT1', 'MMBT6521LT1G'),\n",
      " ('ONSEMICONDUCTOR_MMBT6521LT1', 'SMMBT6521LT1G'),\n",
      " ('ONSMS04099-1', 'BC239C'),\n",
      " ('RECTS00705-1', 'BC547A'),\n",
      " ('RECTS00705-1', 'BC547B'),\n",
      " ('RECTS00705-1', 'BC548A'),\n",
      " ('RECTS00705-1', 'BC548B'),\n",
      " ('SANKEN_STD01N', 'STD01N'),\n",
      " ('SANKEN_STD01N', 'STD01P'),\n",
      " ('SIEMS01215-1', 'BC856'),\n",
      " ('SIEMS01215-1', 'BC856A'),\n",
      " ('SIEMS01215-1', 'BC856B'),\n",
      " ('SIEMS01215-1', 'BC857'),\n",
      " ('SIEMS01215-1', 'BC857A'),\n",
      " ('SIEMS01215-1', 'BC857B'),\n",
      " ('SIEMS01215-1', 'BC857C'),\n",
      " ('SIEMS01215-1', 'BC858'),\n",
      " ('SIEMS01215-1', 'BC858A'),\n",
      " ('SIEMS01215-1', 'BC858B'),\n",
      " ('SIEMS01215-1', 'BC858C'),\n",
      " ('SIEMS01215-1', 'BC859'),\n",
      " ('SIEMS01215-1', 'BC859A'),\n",
      " ('SIEMS01215-1', 'BC859B'),\n",
      " ('SIEMS01215-1', 'BC859C'),\n",
      " ('SIEMS01215-1', 'BC860'),\n",
      " ('SIEMS01215-1', 'BC860B'),\n",
      " ('SIEMS01215-1', 'BC860C'),\n",
      " ('STMICROELECTRONICS_BUV48A', 'BUV48A'),\n",
      " ('STMICROELECTRONICS_STI130051', 'STI13005-1'),\n",
      " ('TTELECTRONICSOPTEKTECHNOLOGY_2N2222AUATXV', '2N2222AUATX'),\n",
      " ('TTELECTRONICSOPTEKTECHNOLOGY_2N2222AUATXV', '2N2222AUATXV')]\n"
     ]
    }
   ],
   "source": [
    "pprint(FN)"
   ]
  },
  {
   "cell_type": "code",
   "execution_count": 21,
   "metadata": {
    "collapsed": false
   },
   "outputs": [
    {
     "name": "stdout",
     "output_type": "stream",
     "text": [
      "(u'2N3906-D', u'2N3906/D')\n",
      "\n",
      "# Matches: 1\n",
      "\n"
     ]
    }
   ],
   "source": [
    "from hardware_utils import entity_to_candidates\n",
    "from snorkel.lf_helpers import *\n",
    "\n",
    "entity = FP[0]\n",
    "print entity\n",
    "print\n",
    "\n",
    "matches = entity_to_candidates(entity, candidates)\n",
    "print \"# Matches: %d\" % len(matches)\n",
    "print"
   ]
  },
  {
   "cell_type": "code",
   "execution_count": null,
   "metadata": {
    "collapsed": false
   },
   "outputs": [],
   "source": [
    "from hardware_utils import print_table_info\n",
    "\n",
    "candidate = matches[1]\n",
    "# print candidate\n",
    "# print\n",
    "print_table_info(candidate.part)\n",
    "# throttler = get_part_throttler()\n",
    "# print throttler(candidate)"
   ]
  },
  {
   "cell_type": "code",
   "execution_count": null,
   "metadata": {
    "collapsed": false
   },
   "outputs": [],
   "source": [
    "c = candidates[100]\n",
    "print c\n",
    "print c.part.get_attrib_tokens('top'), c.part.get_attrib_tokens('bottom')\n",
    "from snorkel.lf_helpers import *\n",
    "print get_min_col_num(c)\n",
    "print get_max_col_num(c)\n",
    "print list(get_row_ngrams(c))\n",
    "print_table_info(c.part)\n",
    "# print list(get_vert_aligned_ngrams(c.part))"
   ]
  },
  {
   "cell_type": "code",
   "execution_count": null,
   "metadata": {
    "collapsed": false
   },
   "outputs": [],
   "source": [
    "# from snorkel.lf_helpers import *\n",
    "# c = candidates[110]\n",
    "# print c\n",
    "# get_prev_sibling_tags(c.part).count('p')"
   ]
  },
  {
   "cell_type": "markdown",
   "metadata": {},
   "source": [
    "The End."
   ]
  }
 ],
 "metadata": {
  "anaconda-cloud": {},
  "kernelspec": {
   "display_name": "Python [default]",
   "language": "python",
   "name": "python2"
  },
  "language_info": {
   "codemirror_mode": {
    "name": "ipython",
    "version": 2
   },
   "file_extension": ".py",
   "mimetype": "text/x-python",
   "name": "python",
   "nbconvert_exporter": "python",
   "pygments_lexer": "ipython2",
   "version": "2.7.10"
  }
 },
 "nbformat": 4,
 "nbformat_minor": 1
}
