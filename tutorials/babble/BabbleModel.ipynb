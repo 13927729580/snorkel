{
 "cells": [
  {
   "cell_type": "code",
   "execution_count": 1,
   "metadata": {
    "collapsed": true
   },
   "outputs": [],
   "source": [
    "%load_ext autoreload\n",
    "%autoreload 2"
   ]
  },
  {
   "cell_type": "code",
   "execution_count": 2,
   "metadata": {
    "collapsed": true
   },
   "outputs": [],
   "source": [
    "import os\n",
    "\n",
    "DOMAIN = 'bike'\n",
    "\n",
    "db_dict = {\n",
    "    'test':   'postgres://localhost:5432/babble_model_unittest',\n",
    "    'spouse': 'postgres://localhost:5432/babble_model_spouse',\n",
    "    'bike':   'postgres://localhost:5432/babble_model_bike',\n",
    "    'cdr':    'postgres://localhost:5432/babble_model_cdr',\n",
    "}\n",
    "\n",
    "os.environ['SNORKELDB'] = db_dict[DOMAIN]"
   ]
  },
  {
   "cell_type": "code",
   "execution_count": 3,
   "metadata": {
    "collapsed": false,
    "scrolled": true
   },
   "outputs": [],
   "source": [
    "from snorkel import SnorkelSession\n",
    "session = SnorkelSession()"
   ]
  },
  {
   "cell_type": "code",
   "execution_count": 4,
   "metadata": {
    "collapsed": false,
    "scrolled": true
   },
   "outputs": [],
   "source": [
    "from snorkel.contrib.babble.models import configuration\n",
    "\n",
    "config = configuration\n",
    "config['domain'] = DOMAIN\n",
    "config['parallelism'] = 1\n",
    "config['majority_vote'] = True"
   ]
  },
  {
   "cell_type": "code",
   "execution_count": 5,
   "metadata": {
    "collapsed": false
   },
   "outputs": [],
   "source": [
    "from snorkel.models import candidate_subclass\n",
    "\n",
    "if DOMAIN == 'spouse':\n",
    "    from tutorials.babble.spouse import SpouseModel\n",
    "    Spouse = candidate_subclass('Spouse', ['person1', 'person2'])\n",
    "    candidate_class = Spouse\n",
    "    sm = SpouseModel(session, Spouse, config)\n",
    "    \n",
    "    from tutorials.babble.data import MTurkHelper\n",
    "    output_csv_path= (os.environ['SNORKELHOME'] + \n",
    "                      '/tutorials/babble/data/spouse/mturk_spouse_01_out.csv')\n",
    "    candidates = session.query(Spouse).all()\n",
    "    helper = MTurkHelper(candidates, num_hits=25)\n",
    "    explanations = helper.postprocess(output_csv_path, candidates=candidates, verbose=False)\n",
    "    user_lists = {}\n",
    "elif DOMAIN == 'bike':\n",
    "    from tutorials.babble.bike import BikeModel\n",
    "    Biker = candidate_subclass('Biker', ['person', 'bike'])\n",
    "    candidate_class = Biker\n",
    "    sm = BikeModel(session, Biker, config)\n",
    "    \n",
    "    output_csv_path = (os.environ['SNORKELHOME'] + \n",
    "                       '/tutorials/babble/data/bike/VisualGenome_all_out.csv')\n",
    "    helper = MTurkHelper(candidates=[], labels=[], num_hits=40, domain='vg', workers_per_hit=3)\n",
    "    explanations = helper.postprocess_visual(output_csv_path, candidates=[], verbose=True)\n",
    "else:\n",
    "    raise Exception('Invalid domain: {}'.format(DOMAIN))"
   ]
  },
  {
   "cell_type": "code",
   "execution_count": 6,
   "metadata": {
    "collapsed": false,
    "scrolled": true
   },
   "outputs": [
    {
     "name": "stdout",
     "output_type": "stream",
     "text": [
      "Clearing existing...\n",
      "Running UDF...\n",
      "Running UDF...\n",
      "CPU times: user 6.02 s, sys: 582 ms, total: 6.61 s\n",
      "Wall time: 14.9 s\n"
     ]
    }
   ],
   "source": [
    "# anns_folder = '/dfs/scratch0/paroma/coco/annotations/'\n",
    "anns_folder = os.environ['SNORKELHOME'] + '/tutorials/babble/bike/data/'\n",
    "%time sm.parse(anns_folder)"
   ]
  },
  {
   "cell_type": "code",
   "execution_count": 9,
   "metadata": {
    "collapsed": false,
    "scrolled": true
   },
   "outputs": [
    {
     "name": "stdout",
     "output_type": "stream",
     "text": [
      "Extraction was performed during parse stage.\n",
      "Candidates [Split 0]: 2406\n",
      "Candidates [Split 1]: 1037\n",
      "Candidates [Split 2]: 0\n",
      "CPU times: user 10.3 ms, sys: 3.25 ms, total: 13.6 ms\n",
      "Wall time: 41.8 ms\n"
     ]
    }
   ],
   "source": [
    "%time sm.extract()"
   ]
  },
  {
   "cell_type": "code",
   "execution_count": 10,
   "metadata": {
    "collapsed": false,
    "scrolled": true
   },
   "outputs": [
    {
     "name": "stdout",
     "output_type": "stream",
     "text": [
      "AnnotatorLabels created: 906\n",
      "CPU times: user 5.41 s, sys: 171 ms, total: 5.59 s\n",
      "Wall time: 7.05 s\n"
     ]
    }
   ],
   "source": [
    "%time sm.load_gold()"
   ]
  },
  {
   "cell_type": "code",
   "execution_count": null,
   "metadata": {
    "collapsed": false,
    "scrolled": true
   },
   "outputs": [],
   "source": [
    "%time sm.babble(explanations, user_lists=user_lists)"
   ]
  },
  {
   "cell_type": "code",
   "execution_count": null,
   "metadata": {
    "collapsed": false
   },
   "outputs": [],
   "source": [
    "# sm.use_intro_lfs()"
   ]
  },
  {
   "cell_type": "code",
   "execution_count": null,
   "metadata": {
    "collapsed": false,
    "scrolled": false
   },
   "outputs": [],
   "source": [
    "%time sm.label()"
   ]
  },
  {
   "cell_type": "code",
   "execution_count": null,
   "metadata": {
    "collapsed": false,
    "scrolled": true
   },
   "outputs": [],
   "source": [
    "%time sm.supervise()"
   ]
  },
  {
   "cell_type": "code",
   "execution_count": null,
   "metadata": {
    "collapsed": false,
    "scrolled": false
   },
   "outputs": [],
   "source": [
    "%time sm.classify()"
   ]
  },
  {
   "cell_type": "raw",
   "metadata": {},
   "source": [
    "SPOUSE TEST (w/ intro lfs):\n",
    "========================================\n",
    "Scores (Un-adjusted)\n",
    "========================================\n",
    "Pos. class accuracy: 0.624\n",
    "Neg. class accuracy: 0.926\n",
    "Precision            0.426\n",
    "Recall               0.624\n",
    "F1                   0.507\n",
    "----------------------------------------\n",
    "TP: 136 | FP: 183 | TN: 2300 | FN: 82\n",
    "========================================"
   ]
  },
  {
   "cell_type": "code",
   "execution_count": null,
   "metadata": {
    "collapsed": true
   },
   "outputs": [],
   "source": []
  }
 ],
 "metadata": {
  "anaconda-cloud": {},
  "kernelspec": {
   "display_name": "Python 2",
   "language": "python",
   "name": "python2"
  },
  "language_info": {
   "codemirror_mode": {
    "name": "ipython",
    "version": 2
   },
   "file_extension": ".py",
   "mimetype": "text/x-python",
   "name": "python",
   "nbconvert_exporter": "python",
   "pygments_lexer": "ipython2",
   "version": "2.7.13"
  }
 },
 "nbformat": 4,
 "nbformat_minor": 1
}
