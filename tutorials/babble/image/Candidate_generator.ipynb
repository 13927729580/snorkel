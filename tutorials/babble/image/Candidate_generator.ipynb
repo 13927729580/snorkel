{
 "cells": [
  {
   "cell_type": "markdown",
   "metadata": {
    "deletable": true,
    "editable": true
   },
   "source": [
    "## Candidate Generator\n",
    "\n",
    "The query of interest is: **The highlighted boxes depict a person biking on a street** \n",
    "\n",
    "Each candidate is a `(Bbox,Bbox)` tuple. Each _candidate hash_ is a string of the format \"[set_name]:[image_idx]:[person_idx]:[bike_idx]\" such that it uniquely maps to a candidate. Cirrently, there is no way to go from a `(Bbox,Bbox)` tuple to a candidate hash (but this should not be hard to implement). "
   ]
  },
  {
   "cell_type": "code",
   "execution_count": 14,
   "metadata": {
    "collapsed": false,
    "deletable": true,
    "editable": true
   },
   "outputs": [],
   "source": [
    "import numpy as np\n",
    "import matplotlib.pyplot as plt\n",
    "from matplotlib.patches import Rectangle\n",
    "%matplotlib inline\n",
    "\n",
    "import os\n",
    "import sys\n",
    "sys.path.append('/dfs/scratch0/paroma/coco')\n",
    "sys.path.append('/dfs/scratch0/paroma/coco/PythonAPI/')\n",
    "\n",
    "from pycocotools.coco import COCO\n",
    "import skimage.io as io\n",
    "import pylab\n",
    "import cv2\n",
    "\n",
    "import pandas as pd\n",
    "from snorkel.contrib.babble.image import BBox"
   ]
  },
  {
   "cell_type": "markdown",
   "metadata": {
    "deletable": true,
    "editable": true
   },
   "source": [
    "## Load Annotations\n",
    "Load the train and validation annotations for this task."
   ]
  },
  {
   "cell_type": "code",
   "execution_count": 8,
   "metadata": {
    "collapsed": false,
    "deletable": true,
    "editable": true
   },
   "outputs": [],
   "source": [
    "anns_folder = '/dfs/scratch0/paroma/coco/annotations/'\n",
    "train_anns = np.load(anns_folder+'train_anns.npy').tolist()\n",
    "val_anns = np.load(anns_folder+'val_anns.npy').tolist()"
   ]
  },
  {
   "cell_type": "markdown",
   "metadata": {
    "deletable": true,
    "editable": true
   },
   "source": [
    "## New Task Instructions\n",
    "For each image, we now want to:\n",
    "* Create separate lists of box indices that are person and that are bike\n",
    "* Create list of tuples of \"person,bike\"\n",
    "* Iterate through pairs to check which ones overlap, only save those\n",
    "\n",
    "Re-calculate the number of candidate pairs and the class balance."
   ]
  },
  {
   "cell_type": "code",
   "execution_count": 9,
   "metadata": {
    "collapsed": true,
    "deletable": true,
    "editable": true
   },
   "outputs": [],
   "source": [
    "def get_person_bike_boxes(anns):\n",
    "    person_indices = []\n",
    "    bike_indices = []\n",
    "    \n",
    "    for i in xrange(len(anns)):\n",
    "        if anns[i]['category_id'] == 1:\n",
    "            person_indices.append(i)\n",
    "        if anns[i]['category_id'] == 2:\n",
    "            bike_indices.append(i)\n",
    "    \n",
    "    return person_indices, bike_indices"
   ]
  },
  {
   "cell_type": "code",
   "execution_count": 10,
   "metadata": {
    "collapsed": true,
    "deletable": true,
    "editable": true
   },
   "outputs": [],
   "source": [
    "def overlap(box1, box2):\n",
    "    if (box1[0]+box1[2]<box2[0] or box2[0]+box2[2]<box1[0] or box1[1]+box1[3]<box2[1] or box2[1]+box2[3]<box1[1]):\n",
    "        return False\n",
    "    else:\n",
    "        return True"
   ]
  },
  {
   "cell_type": "code",
   "execution_count": 11,
   "metadata": {
    "collapsed": true,
    "deletable": true,
    "editable": true
   },
   "outputs": [],
   "source": [
    "def get_valid_pairs(anns, tuples):\n",
    "    valid_tuples = []\n",
    "    for person,bike in tuples:\n",
    "        person_box = anns[person]['bbox']\n",
    "        bike_box = anns[bike]['bbox']\n",
    "        \n",
    "        if overlap(person_box, bike_box):\n",
    "            valid_tuples.append((person,bike))\n",
    "    \n",
    "    return valid_tuples"
   ]
  },
  {
   "cell_type": "markdown",
   "metadata": {
    "deletable": true,
    "editable": true
   },
   "source": [
    "### Generate Candidate Hash and Dictionaries\n",
    "One for Gold Labels and One for BBox Objects"
   ]
  },
  {
   "cell_type": "code",
   "execution_count": 15,
   "metadata": {
    "collapsed": true,
    "deletable": true,
    "editable": true
   },
   "outputs": [],
   "source": [
    "def create_bbox_candidates(set_name, anns, img_idx,pidx,bidx):\n",
    "    p_bbox = BBox(anns[pidx], img_idx)\n",
    "    b_bbox = BBox(anns[bidx], img_idx)\n",
    "    return (p_bbox, b_bbox)\n",
    "    "
   ]
  },
  {
   "cell_type": "code",
   "execution_count": 33,
   "metadata": {
    "collapsed": false,
    "deletable": true,
    "editable": true
   },
   "outputs": [],
   "source": [
    "def create_candidate_dict(candidate_dict,set_name):\n",
    "    if set_name == 'val':\n",
    "        anns = val_anns\n",
    "    elif set_name == 'train':\n",
    "        anns = train_anns\n",
    "\n",
    "    for i in xrange(len(anns)):\n",
    "\n",
    "        #Find all valid person-bike pairs for given object\n",
    "        person_indices, bike_indices = get_person_bike_boxes(anns[i])\n",
    "        person_bike_tuples = [(x,y) for x in person_indices for y in bike_indices]\n",
    "        valid_pairs = get_valid_pairs(anns[i], person_bike_tuples)\n",
    "\n",
    "        #Generate candidates for each valid pair\n",
    "        for j in xrange(len(valid_pairs)):\n",
    "            candidate_hash = set_name+':%d:%d:%d'%(i,valid_pairs[j][0],valid_pairs[j][1])\n",
    "            candidate_dict[candidate_hash] = create_bbox_candidates(set_name, anns[i], i, valid_pairs[j][0], valid_pairs[j][1])\n",
    "            \n",
    "    \n",
    "    return candidate_dict"
   ]
  },
  {
   "cell_type": "code",
   "execution_count": 34,
   "metadata": {
    "collapsed": false,
    "deletable": true,
    "editable": true
   },
   "outputs": [
    {
     "name": "stdout",
     "output_type": "stream",
     "text": [
      "Candidates in Validation Set:  1037\n",
      "Total Candidates:  3443\n"
     ]
    }
   ],
   "source": [
    "candidate_dict = create_candidate_dict({},'val')\n",
    "print 'Candidates in Validation Set: ', len(candidate_dict)\n",
    "candidate_dict = create_candidate_dict(candidate_dict,'train')\n",
    "print 'Total Candidates: ', len(candidate_dict)"
   ]
  },
  {
   "cell_type": "code",
   "execution_count": null,
   "metadata": {
    "collapsed": true
   },
   "outputs": [],
   "source": []
  }
 ],
 "metadata": {
  "kernelspec": {
   "display_name": "Python 2",
   "language": "python",
   "name": "python2"
  },
  "language_info": {
   "codemirror_mode": {
    "name": "ipython",
    "version": 2
   },
   "file_extension": ".py",
   "mimetype": "text/x-python",
   "name": "python",
   "nbconvert_exporter": "python",
   "pygments_lexer": "ipython2",
   "version": "2.7.6"
  }
 },
 "nbformat": 4,
 "nbformat_minor": 2
}
