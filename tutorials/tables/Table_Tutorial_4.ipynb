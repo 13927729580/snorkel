{
 "cells": [
  {
   "cell_type": "markdown",
   "metadata": {},
   "source": [
    "## Part IV:  Features and Labeling Functions"
   ]
  },
  {
   "cell_type": "markdown",
   "metadata": {},
   "source": [
    "## Generating Features"
   ]
  },
  {
   "cell_type": "code",
   "execution_count": 1,
   "metadata": {
    "collapsed": true
   },
   "outputs": [],
   "source": [
    "# If necessary:\n",
    "import os\n",
    "os.remove('snorkel.db');\n",
    "os.system('cp snorkel.db\\ labels snorkel.db');"
   ]
  },
  {
   "cell_type": "code",
   "execution_count": 2,
   "metadata": {
    "collapsed": false
   },
   "outputs": [],
   "source": [
    "%load_ext autoreload\n",
    "%autoreload 2\n",
    "\n",
    "from snorkel import SnorkelSession\n",
    "session = SnorkelSession()"
   ]
  },
  {
   "cell_type": "code",
   "execution_count": 3,
   "metadata": {
    "collapsed": false
   },
   "outputs": [],
   "source": [
    "from snorkel.models import candidate_subclass\n",
    "\n",
    "Part_Temp = candidate_subclass('Part_Temp', ['part','temp'])"
   ]
  },
  {
   "cell_type": "markdown",
   "metadata": {},
   "source": [
    "### Loading the `CandidateSet`"
   ]
  },
  {
   "cell_type": "code",
   "execution_count": 4,
   "metadata": {
    "collapsed": false
   },
   "outputs": [],
   "source": [
    "from snorkel.models import CandidateSet\n",
    "train = session.query(CandidateSet).filter(\n",
    "    CandidateSet.name == 'Hardware Training Candidates').one()\n",
    "dev = session.query(CandidateSet).filter(\n",
    "    CandidateSet.name == 'Hardware Development Candidates').one()"
   ]
  },
  {
   "cell_type": "markdown",
   "metadata": {},
   "source": [
    "### Creating feature matrix"
   ]
  },
  {
   "cell_type": "code",
   "execution_count": 5,
   "metadata": {
    "collapsed": false
   },
   "outputs": [],
   "source": [
    "from snorkel.annotations import FeatureManager\n",
    "\n",
    "feature_manager = FeatureManager()"
   ]
  },
  {
   "cell_type": "code",
   "execution_count": 6,
   "metadata": {
    "collapsed": false
   },
   "outputs": [
    {
     "name": "stdout",
     "output_type": "stream",
     "text": [
      "[========================================] 100%\n",
      "\n",
      "Loading sparse Feature matrix...\n",
      "CPU times: user 45min 37s, sys: 1min 43s, total: 47min 21s\n",
      "Wall time: 48min 8s\n"
     ]
    }
   ],
   "source": [
    "%time F_train = feature_manager.create(session, train, 'Train Features')"
   ]
  },
  {
   "cell_type": "code",
   "execution_count": 7,
   "metadata": {
    "collapsed": false
   },
   "outputs": [
    {
     "name": "stdout",
     "output_type": "stream",
     "text": [
      "[========================================] 100%\n",
      "\n",
      "Loading sparse Feature matrix...\n",
      "CPU times: user 5min 15s, sys: 24.8 s, total: 5min 40s\n",
      "Wall time: 5min 40s\n"
     ]
    }
   ],
   "source": [
    "%time F_dev = feature_manager.update(session, dev, 'Train Features', expand_key_set=False)"
   ]
  },
  {
   "cell_type": "markdown",
   "metadata": {},
   "source": [
    "### Reloading feature matrix"
   ]
  },
  {
   "cell_type": "code",
   "execution_count": 8,
   "metadata": {
    "collapsed": false,
    "scrolled": true
   },
   "outputs": [
    {
     "name": "stdout",
     "output_type": "stream",
     "text": [
      "CPU times: user 24.3 s, sys: 824 ms, total: 25.1 s\n",
      "Wall time: 25.4 s\n"
     ]
    }
   ],
   "source": [
    "%time F_train = feature_manager.load(session, train, 'Train Features')"
   ]
  },
  {
   "cell_type": "code",
   "execution_count": 9,
   "metadata": {
    "collapsed": false
   },
   "outputs": [
    {
     "data": {
      "text/plain": [
       "<11549x19955 sparse matrix of type '<type 'numpy.float64'>'\n",
       "\twith 1856014 stored elements in Compressed Sparse Row format>"
      ]
     },
     "execution_count": 9,
     "metadata": {},
     "output_type": "execute_result"
    }
   ],
   "source": [
    "F_train"
   ]
  },
  {
   "cell_type": "code",
   "execution_count": 10,
   "metadata": {
    "collapsed": false
   },
   "outputs": [
    {
     "data": {
      "text/plain": [
       "Part_Temp(Span(\"BC807K\", parent=27872, chars=[94,99], words=[5,5]), ImplicitSpan(\"-55\", parent=87287, words=[0,0], position=[0]))"
      ]
     },
     "execution_count": 10,
     "metadata": {},
     "output_type": "execute_result"
    }
   ],
   "source": [
    "F_train.get_candidate(0)"
   ]
  },
  {
   "cell_type": "code",
   "execution_count": 11,
   "metadata": {
    "collapsed": false
   },
   "outputs": [
    {
     "data": {
      "text/plain": [
       "AnnotationKey (TDL_INV_LEMMA:PARENTS-OF-BETWEEN-MENTION-and-MENTION[None])"
      ]
     },
     "execution_count": 11,
     "metadata": {},
     "output_type": "execute_result"
    }
   ],
   "source": [
    "F_train.get_key(0)"
   ]
  },
  {
   "cell_type": "code",
   "execution_count": 12,
   "metadata": {
    "collapsed": false
   },
   "outputs": [
    {
     "name": "stdout",
     "output_type": "stream",
     "text": [
      "AnnotationKey (TAB_e1_W_RIGHT_1_[/])\n",
      "AnnotationKey (TAB_e1_W_RIGHT_POS_1_[:])\n",
      "AnnotationKey (TAB_e1_STARTS_WITH_CAPITAL)\n",
      "AnnotationKey (TAB_e1_LENGTH_1)\n",
      "AnnotationKey (TAB_e1_HTML_TAG_p)\n",
      "AnnotationKey (TAB_e1_HTML_ATTR_[style])\n",
      "AnnotationKey (TAB_e1_HTML_ANC_TAG_[html])\n",
      "AnnotationKey (TAB_e1_HTML_ANC_TAG_[body])\n",
      "AnnotationKey (TAB_e1_HTML_ANC_TAG_[p])\n",
      "AnnotationKey (TAB_e2_WORD_SEQ_[-55])\n"
     ]
    }
   ],
   "source": [
    "from snorkel.utils import get_keys_by_candidate\n",
    "\n",
    "for f in get_keys_by_candidate(F_train, F_train.get_candidate(1))[:10]: print f"
   ]
  },
  {
   "cell_type": "markdown",
   "metadata": {},
   "source": [
    "### Saving feature matrices"
   ]
  },
  {
   "cell_type": "code",
   "execution_count": 13,
   "metadata": {
    "collapsed": true
   },
   "outputs": [],
   "source": [
    "# If necessary:\n",
    "import os\n",
    "os.system('cp snorkel.db snorkel.db\\ featurized');"
   ]
  },
  {
   "cell_type": "markdown",
   "metadata": {},
   "source": [
    "## Applying LFs"
   ]
  },
  {
   "cell_type": "code",
   "execution_count": null,
   "metadata": {
    "collapsed": false
   },
   "outputs": [],
   "source": [
    "# If necessary:\n",
    "import os\n",
    "os.remove('snorkel.db');\n",
    "os.system('cp snorkel.db\\ featurized snorkel.db');\n",
    "\n",
    "from snorkel import SnorkelSession\n",
    "session = SnorkelSession()\n",
    "\n",
    "from snorkel.models import candidate_subclass\n",
    "Part_Temp = candidate_subclass('Part_Temp', ['part','temp'])\n",
    "\n",
    "from snorkel.models import CandidateSet\n",
    "train = session.query(CandidateSet).filter(\n",
    "    CandidateSet.name == 'Hardware Training Candidates').one()"
   ]
  },
  {
   "cell_type": "code",
   "execution_count": 14,
   "metadata": {
    "collapsed": false
   },
   "outputs": [],
   "source": [
    "from snorkel.annotations import LabelManager\n",
    "\n",
    "label_manager = LabelManager()"
   ]
  },
  {
   "cell_type": "markdown",
   "metadata": {},
   "source": [
    "### Defining Labeling Functions"
   ]
  },
  {
   "cell_type": "code",
   "execution_count": 15,
   "metadata": {
    "collapsed": false
   },
   "outputs": [],
   "source": [
    "from snorkel.lf_helpers import *\n",
    "\n",
    "LFs = []\n",
    "\n",
    "# def LF_training_gold(c):\n",
    "#     corpus = session.query(Corpus).filter(Corpus.name == 'Hardware Training').one()\n",
    "#     training_gold_dict = get_gold_dict(filename, 'stg_temp_min', docs=corpus.documents)\n",
    "#     return 1 if ((c[0].parent.document.name).upper(), \n",
    "#                  (c[0].get_span()).upper(), \n",
    "#                  (''.join(c[1].get_span().split())).upper()) in training_gold_dict else 0\n",
    "# LFs.append(LF_training_gold)\n",
    "\n",
    "# def LF_reckless_abandon(c):\n",
    "#     return 1\n",
    "\n",
    "# POSITIVE\n",
    "\n",
    "def LF_to_right(c):\n",
    "    return 1 if 'to' in get_right_ngrams(c.temp, window=1) else 0\n",
    "LFs.append(LF_to_right)\n",
    "\n",
    "def LF_tilde_right(c):\n",
    "    return 1 if '~' in get_right_ngrams(c.temp, window=1) else 0\n",
    "LFs.append(LF_tilde_right)\n",
    "\n",
    "# def LF_through_right(c):\n",
    "#     return 1 if len(set(['through','thru']).intersection(\n",
    "#         set(get_right_ngrams(c.temp, window=1)))) > 0 else 0\n",
    "# LFs.append(LF_through_right)\n",
    "\n",
    "def LF_150_right(c):\n",
    "    return 1 if '150' in get_right_ngrams(c.temp, window=3) else 0\n",
    "LFs.append(LF_150_right)\n",
    "\n",
    "def LF_storage_row(c):\n",
    "    return 1 if 'storage' in get_row_ngrams(c.temp) else 0\n",
    "LFs.append(LF_storage_row)\n",
    "\n",
    "# def LF_tj_row(c):\n",
    "#     return 1 if 'tj' in get_row_ngrams(c.temp) else 0\n",
    "# LFs.append(LF_tj_row)\n",
    "\n",
    "def LF_c_row(c):\n",
    "    return 1 if 'c' in get_row_ngrams(c.temp) else 0\n",
    "LFs.append(LF_c_row)\n",
    "\n",
    "def LF_same_table(c):\n",
    "    return 1 if same_table(c) else 0\n",
    "LFs.append(LF_same_table)\n",
    "\n",
    "# BOTH\n",
    "\n",
    "def LF_tstg_row(c):\n",
    "    return 1 if 'tstg' in get_row_ngrams(c.temp) else -1\n",
    "LFs.append(LF_tstg_row)\n",
    "\n",
    "def LF_temperature_row(c):\n",
    "    return 1 if 'temperature' in get_row_ngrams(c.temp) else -1\n",
    "LFs.append(LF_temperature_row)\n",
    "\n",
    "# NEGATIVE\n",
    "\n",
    "def LF_temp_outside_table(c):\n",
    "    return -1 if c.temp.parent.table is None else 0\n",
    "LFs.append(LF_temp_outside_table)\n",
    "\n",
    "def LF_complement_left(c):\n",
    "    return -1 if 'complement' in get_left_ngrams(c.part) else 0\n",
    "LFs.append(LF_complement_left)\n",
    "\n",
    "def LF_voltage_row(c):\n",
    "    return -1 if 'voltage' in get_row_ngrams(c.temp) else 0\n",
    "LFs.append(LF_voltage_row)"
   ]
  },
  {
   "cell_type": "markdown",
   "metadata": {},
   "source": [
    "### Testing LFs and LF_helpers"
   ]
  },
  {
   "cell_type": "code",
   "execution_count": 16,
   "metadata": {
    "collapsed": false
   },
   "outputs": [
    {
     "name": "stdout",
     "output_type": "stream",
     "text": [
      "Span(\"2N6426\", parent=4159, chars=[0,5], words=[0,0])\n",
      "ImplicitSpan(\"-55\", parent=41460, words=[0,0], position=[0])\n",
      "Phrase(Document MOTOS04796-1, 4171, None, 0, u'- 55  -  C TO 25  -  C')\n",
      "Table(Document MOTOS04796-1, 6)\n",
      "True\n",
      "False\n",
      "False\n",
      "0\n"
     ]
    }
   ],
   "source": [
    "from snorkel.lf_helpers import get_right_ngrams, get_left_ngrams\n",
    "from snorkel.lf_helpers import contains_token, contains_regex\n",
    "from snorkel.lf_helpers import get_phrase_ngrams, get_cell_ngrams, get_neighbor_cell_ngrams\n",
    "from snorkel.lf_helpers import get_row_ngrams, get_col_ngrams, get_aligned_ngrams\n",
    "from snorkel.lf_helpers import same_document, same_table, same_cell, same_phrase\n",
    "c = train[19]\n",
    "print c.part\n",
    "print c.temp\n",
    "print c.temp.parent\n",
    "print c.temp.parent.table\n",
    "print same_document(c)\n",
    "print same_table(c)\n",
    "print contains_regex(c, rgx=r'849')\n",
    "print LF_temp_outside_table(c)"
   ]
  },
  {
   "cell_type": "code",
   "execution_count": 17,
   "metadata": {
    "collapsed": false,
    "scrolled": true
   },
   "outputs": [
    {
     "name": "stdout",
     "output_type": "stream",
     "text": [
      "[========================================] 100%\n",
      "\n",
      "Loading sparse Label matrix...\n",
      "CPU times: user 3min 22s, sys: 16 s, total: 3min 38s\n",
      "Wall time: 3min 33s\n"
     ]
    },
    {
     "data": {
      "text/plain": [
       "<11549x13 sparse matrix of type '<type 'numpy.float64'>'\n",
       "\twith 36706 stored elements in Compressed Sparse Row format>"
      ]
     },
     "execution_count": 17,
     "metadata": {},
     "output_type": "execute_result"
    }
   ],
   "source": [
    "%time L_train = label_manager.create(session, train, 'LF Labels', f=LFs)\n",
    "L_train"
   ]
  },
  {
   "cell_type": "code",
   "execution_count": 18,
   "metadata": {
    "collapsed": true
   },
   "outputs": [],
   "source": [
    "train_gold = session.query(CandidateSet).filter(\n",
    "    CandidateSet.name == 'Hardware Training Candidates -- Gold').one()"
   ]
  },
  {
   "cell_type": "code",
   "execution_count": 21,
   "metadata": {
    "collapsed": false
   },
   "outputs": [
    {
     "data": {
      "text/html": [
       "<div>\n",
       "<table border=\"1\" class=\"dataframe\">\n",
       "  <thead>\n",
       "    <tr style=\"text-align: right;\">\n",
       "      <th></th>\n",
       "      <th>accuracy</th>\n",
       "      <th>conflicts</th>\n",
       "      <th>coverage</th>\n",
       "      <th>j</th>\n",
       "      <th>overlaps</th>\n",
       "    </tr>\n",
       "  </thead>\n",
       "  <tbody>\n",
       "    <tr>\n",
       "      <th>LF_to_right</th>\n",
       "      <td>0.668076</td>\n",
       "      <td>0.079834</td>\n",
       "      <td>0.122868</td>\n",
       "      <td>0</td>\n",
       "      <td>0.122868</td>\n",
       "    </tr>\n",
       "    <tr>\n",
       "      <th>LF_tilde_right</th>\n",
       "      <td>0.228669</td>\n",
       "      <td>0.024851</td>\n",
       "      <td>0.025370</td>\n",
       "      <td>1</td>\n",
       "      <td>0.025370</td>\n",
       "    </tr>\n",
       "    <tr>\n",
       "      <th>LF_through_right</th>\n",
       "      <td>0.000000</td>\n",
       "      <td>0.000000</td>\n",
       "      <td>0.000000</td>\n",
       "      <td>2</td>\n",
       "      <td>0.000000</td>\n",
       "    </tr>\n",
       "    <tr>\n",
       "      <th>LF_150_right</th>\n",
       "      <td>0.444737</td>\n",
       "      <td>0.065547</td>\n",
       "      <td>0.065807</td>\n",
       "      <td>3</td>\n",
       "      <td>0.065807</td>\n",
       "    </tr>\n",
       "    <tr>\n",
       "      <th>LF_storage_row</th>\n",
       "      <td>0.506390</td>\n",
       "      <td>0.188155</td>\n",
       "      <td>0.250671</td>\n",
       "      <td>4</td>\n",
       "      <td>0.250671</td>\n",
       "    </tr>\n",
       "    <tr>\n",
       "      <th>LF_tj_row</th>\n",
       "      <td>0.000000</td>\n",
       "      <td>0.000000</td>\n",
       "      <td>0.000000</td>\n",
       "      <td>5</td>\n",
       "      <td>0.000000</td>\n",
       "    </tr>\n",
       "    <tr>\n",
       "      <th>LF_c_row</th>\n",
       "      <td>0.361574</td>\n",
       "      <td>0.347043</td>\n",
       "      <td>0.431293</td>\n",
       "      <td>6</td>\n",
       "      <td>0.431293</td>\n",
       "    </tr>\n",
       "    <tr>\n",
       "      <th>LF_same_table</th>\n",
       "      <td>0.214600</td>\n",
       "      <td>0.090311</td>\n",
       "      <td>0.098450</td>\n",
       "      <td>7</td>\n",
       "      <td>0.098450</td>\n",
       "    </tr>\n",
       "    <tr>\n",
       "      <th>LF_tstg_row</th>\n",
       "      <td>0.775305</td>\n",
       "      <td>0.444887</td>\n",
       "      <td>1.000000</td>\n",
       "      <td>8</td>\n",
       "      <td>1.000000</td>\n",
       "    </tr>\n",
       "    <tr>\n",
       "      <th>LF_temperature_row</th>\n",
       "      <td>0.801108</td>\n",
       "      <td>0.444887</td>\n",
       "      <td>1.000000</td>\n",
       "      <td>9</td>\n",
       "      <td>1.000000</td>\n",
       "    </tr>\n",
       "    <tr>\n",
       "      <th>LF_temp_outside_table</th>\n",
       "      <td>0.755769</td>\n",
       "      <td>0.000173</td>\n",
       "      <td>0.045026</td>\n",
       "      <td>10</td>\n",
       "      <td>0.045026</td>\n",
       "    </tr>\n",
       "    <tr>\n",
       "      <th>LF_complement_left</th>\n",
       "      <td>1.000000</td>\n",
       "      <td>0.000693</td>\n",
       "      <td>0.001212</td>\n",
       "      <td>11</td>\n",
       "      <td>0.001212</td>\n",
       "    </tr>\n",
       "    <tr>\n",
       "      <th>LF_voltage_row</th>\n",
       "      <td>0.993707</td>\n",
       "      <td>0.082172</td>\n",
       "      <td>0.137588</td>\n",
       "      <td>12</td>\n",
       "      <td>0.137588</td>\n",
       "    </tr>\n",
       "  </tbody>\n",
       "</table>\n",
       "</div>"
      ],
      "text/plain": [
       "                       accuracy  conflicts  coverage   j  overlaps\n",
       "LF_to_right            0.668076   0.079834  0.122868   0  0.122868\n",
       "LF_tilde_right         0.228669   0.024851  0.025370   1  0.025370\n",
       "LF_through_right       0.000000   0.000000  0.000000   2  0.000000\n",
       "LF_150_right           0.444737   0.065547  0.065807   3  0.065807\n",
       "LF_storage_row         0.506390   0.188155  0.250671   4  0.250671\n",
       "LF_tj_row              0.000000   0.000000  0.000000   5  0.000000\n",
       "LF_c_row               0.361574   0.347043  0.431293   6  0.431293\n",
       "LF_same_table          0.214600   0.090311  0.098450   7  0.098450\n",
       "LF_tstg_row            0.775305   0.444887  1.000000   8  1.000000\n",
       "LF_temperature_row     0.801108   0.444887  1.000000   9  1.000000\n",
       "LF_temp_outside_table  0.755769   0.000173  0.045026  10  0.045026\n",
       "LF_complement_left     1.000000   0.000693  0.001212  11  0.001212\n",
       "LF_voltage_row         0.993707   0.082172  0.137588  12  0.137588"
      ]
     },
     "execution_count": 21,
     "metadata": {},
     "output_type": "execute_result"
    }
   ],
   "source": [
    "# print type(L_train)\n",
    "# print L_train.lf_stats()\n",
    "%time L_train.lf_accuracy(train_gold)"
   ]
  },
  {
   "cell_type": "code",
   "execution_count": 20,
   "metadata": {
    "collapsed": true
   },
   "outputs": [],
   "source": [
    "# If necessary\n",
    "import os\n",
    "os.system('cp snorkel.db snorkel.db\\ features');"
   ]
  },
  {
   "cell_type": "markdown",
   "metadata": {},
   "source": [
    "Next, in Part 5, we will test our model on the development `CandidateSet`."
   ]
  }
 ],
 "metadata": {
  "anaconda-cloud": {},
  "kernelspec": {
   "display_name": "Python [default]",
   "language": "python",
   "name": "python2"
  },
  "language_info": {
   "codemirror_mode": {
    "name": "ipython",
    "version": 2
   },
   "file_extension": ".py",
   "mimetype": "text/x-python",
   "name": "python",
   "nbconvert_exporter": "python",
   "pygments_lexer": "ipython2",
   "version": "2.7.12"
  }
 },
 "nbformat": 4,
 "nbformat_minor": 0
}
