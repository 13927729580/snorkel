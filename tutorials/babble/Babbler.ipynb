{
 "cells": [
  {
   "cell_type": "code",
   "execution_count": 1,
   "metadata": {
    "collapsed": true
   },
   "outputs": [],
   "source": [
    "# import os\n",
    "# os.environ['SNORKELDB'] = 'postgres://localhost:5432/babble_test_spouse'\n",
    "\n",
    "# from snorkel import SnorkelSession\n",
    "# session = SnorkelSession()"
   ]
  },
  {
   "cell_type": "code",
   "execution_count": 2,
   "metadata": {
    "collapsed": false
   },
   "outputs": [],
   "source": [
    "# import os\n",
    "\n",
    "# from snorkel.models import candidate_subclass\n",
    "# from snorkel.contrib.babble import ExplanationIO\n",
    "# from snorkel.contrib.babble.pipelines import config\n",
    "# from tutorials.babble.spouse import SpousePipeline\n",
    "\n",
    "# config = configuration\n",
    "# config['domain'] = 'spouse'\n",
    "# config['splits'] = [0,1,2]\n",
    "# config['babbler_split'] = 0\n",
    "# config['max_docs'] = None\n",
    "# config['parallelism'] = 1\n",
    "# config['traditional'] = False\n",
    "# config['majority_vote'] = True\n",
    "# config['verbose'] = True\n",
    "# config['display_marginals'] = True\n",
    "# config['display_accuracies'] = True\n",
    "# config['display_learned_accuracies'] = True\n",
    "\n",
    "# Spouse = candidate_subclass('Spouse', ['person1', 'person2'])\n",
    "\n",
    "# sm = SpousePipeline(session, Spouse, config)"
   ]
  },
  {
   "cell_type": "code",
   "execution_count": 3,
   "metadata": {
    "collapsed": false
   },
   "outputs": [],
   "source": [
    "# %time sm.parse(config=config)"
   ]
  },
  {
   "cell_type": "code",
   "execution_count": 4,
   "metadata": {
    "collapsed": false,
    "scrolled": true
   },
   "outputs": [],
   "source": [
    "# %time sm.extract(config=config)"
   ]
  },
  {
   "cell_type": "code",
   "execution_count": 5,
   "metadata": {
    "collapsed": false
   },
   "outputs": [],
   "source": [
    "%load_ext autoreload\n",
    "%autoreload 2\n",
    "%matplotlib inline\n",
    "import os\n",
    "import sys\n",
    "# sys.path.append(os.environ['SNORKELHOME'] + '/tutorials/babble/data/')\n",
    "os.environ['SNORKELDB'] = 'postgres://localhost:5432/babble_test_spouse'\n",
    "# os.environ['SNORKELDB'] = 'postgres://localhost:5432/babble_test_bike'\n",
    "\n",
    "from snorkel import SnorkelSession\n",
    "session = SnorkelSession()"
   ]
  },
  {
   "cell_type": "code",
   "execution_count": 6,
   "metadata": {
    "collapsed": false
   },
   "outputs": [
    {
     "name": "stdout",
     "output_type": "stream",
     "text": [
      "Read 445 explanations from /Users/bradenjh/repo...ata/mturk_explanations_all.tsv\n"
     ]
    }
   ],
   "source": [
    "from snorkel.models import candidate_subclass\n",
    "from snorkel.contrib.babble import ExplanationIO\n",
    "from mturk_processing import MTurkHelper\n",
    "\n",
    "import os\n",
    "\n",
    "# SPOUSE\n",
    "Spouse = candidate_subclass('Spouse', ['person1', 'person2'])\n",
    "candidate_class = Spouse\n",
    "mode = 'text'\n",
    "# fpath = os.environ['SNORKELHOME'] + '/tutorials/babble/spouse/data/grad_explanations.tsv'\n",
    "fpath = os.environ['SNORKELHOME'] + '/tutorials/babble/spouse/data/mturk_explanations_all.tsv'\n",
    "expio = ExplanationIO()\n",
    "explanations = expio.read(fpath)\n",
    "\n",
    "# BIKER\n",
    "# Biker = candidate_subclass('Biker', ['person', 'bike'])\n",
    "# candidate_class = Biker\n",
    "# mode = 'image'\n",
    "# helper = MTurkHelper(candidates, num_hits=40, workers_per_hit=3)\n",
    "# output_csv_path= os.environ['SNORKELHOME'] + '/tutorials/babble/bike/data/VisualGenome_all_out.csv'\n",
    "# explanations = helper.postprocess_visual(output_csv_path, verbose=False)"
   ]
  },
  {
   "cell_type": "code",
   "execution_count": 7,
   "metadata": {
    "collapsed": false
   },
   "outputs": [
    {
     "name": "stdout",
     "output_type": "stream",
     "text": [
      "23490\n"
     ]
    }
   ],
   "source": [
    "candidates = session.query(candidate_class).filter(candidate_class.split == 0).all()\n",
    "print(len(candidates))"
   ]
  },
  {
   "cell_type": "code",
   "execution_count": 8,
   "metadata": {
    "collapsed": false,
    "scrolled": true
   },
   "outputs": [
    {
     "name": "stdout",
     "output_type": "stream",
     "text": [
      "Building list of target candidate ids...\n",
      "Collected 155 unique target candidate ids from 445 explanations.\n",
      "Gathering desired candidates...\n",
      "Found 155/155 desired candidates\n",
      "Linking explanations to candidates...\n",
      "Linked 445/445 explanations\n"
     ]
    }
   ],
   "source": [
    "from snorkel.contrib.babble import link_explanation_candidates\n",
    "\n",
    "explanations = link_explanation_candidates(explanations, candidates)"
   ]
  },
  {
   "cell_type": "code",
   "execution_count": 9,
   "metadata": {
    "collapsed": false
   },
   "outputs": [],
   "source": [
    "# for exp in explanations:\n",
    "#     if exp.condition == 'widow is mentioned between the two names':\n",
    "#         explanations = [exp]\n",
    "#         break\n",
    "# print(explanations[0])"
   ]
  },
  {
   "cell_type": "code",
   "execution_count": 10,
   "metadata": {
    "collapsed": false
   },
   "outputs": [],
   "source": [
    "exp_iterator = iter(explanations)"
   ]
  },
  {
   "cell_type": "code",
   "execution_count": 11,
   "metadata": {
    "collapsed": false,
    "scrolled": true
   },
   "outputs": [
    {
     "name": "stdout",
     "output_type": "stream",
     "text": [
      "Politicians\n"
     ]
    },
    {
     "data": {
      "application/javascript": [
       "require.undef('viewer');\n",
       "\n",
       "// NOTE: all elements should be selected using this.$el.find to avoid collisions with other Viewers\n",
       "\n",
       "define('viewer', [\"jupyter-js-widgets\"], function(widgets) {\n",
       "    var ViewerView = widgets.DOMWidgetView.extend({\n",
       "        render: function() {\n",
       "            this.cids   = this.model.get('cids');\n",
       "            this.nPages = this.cids.length;\n",
       "            this.pid  = 0;\n",
       "            this.cxid = 0;\n",
       "            this.cid  = 0;\n",
       "\n",
       "            // Insert the html payload\n",
       "            this.$el.append(this.model.get('html'));\n",
       "\n",
       "            // Initialize all labels from previous sessions\n",
       "            this.labels = this.deserializeDict(this.model.get('_labels_serialized'));\n",
       "            for (var i=0; i < this.nPages; i++) {\n",
       "                this.pid = i;\n",
       "                for (var j=0; j < this.cids[i].length; j++) {\n",
       "                    this.cxid = j;\n",
       "                    for (var k=0; k < this.cids[i][j].length; k++) {\n",
       "                        this.cid = k;\n",
       "                        if (this.cids[i][j][k] in this.labels) {\n",
       "                            this.markCurrentCandidate(false);\n",
       "                        }\n",
       "                    }\n",
       "                }\n",
       "            }\n",
       "            this.pid  = 0;\n",
       "            this.cxid = 0;\n",
       "            this.cid  = 0;\n",
       "\n",
       "            // Enable button functionality for navigation\n",
       "            var that = this;\n",
       "            this.$el.find(\"#next-cand\").click(function() {\n",
       "                that.switchCandidate(1);\n",
       "            });\n",
       "            this.$el.find(\"#prev-cand\").click(function() {\n",
       "                that.switchCandidate(-1);\n",
       "            });\n",
       "            this.$el.find(\"#next-context\").click(function() {\n",
       "                that.switchContext(1);\n",
       "            });\n",
       "            this.$el.find(\"#prev-context\").click(function() {\n",
       "                that.switchContext(-1);\n",
       "            });\n",
       "            this.$el.find(\"#next-page\").click(function() {\n",
       "                that.switchPage(1);\n",
       "            });\n",
       "            this.$el.find(\"#prev-page\").click(function() {\n",
       "                that.switchPage(-1);\n",
       "            });\n",
       "            this.$el.find(\"#label-true\").click(function() {\n",
       "                that.labelCandidate(true, true);\n",
       "            });\n",
       "            this.$el.find(\"#label-false\").click(function() {\n",
       "                that.labelCandidate(false, true);\n",
       "            });\n",
       "\n",
       "            // Arrow key functionality\n",
       "            this.$el.keydown(function(e) {\n",
       "                switch(e.which) {\n",
       "                    case 74: // j\n",
       "                    that.switchCandidate(-1);\n",
       "                    break;\n",
       "\n",
       "                    case 73: // i\n",
       "                    that.switchPage(-1);\n",
       "                    break;\n",
       "\n",
       "                    case 76: // l\n",
       "                    that.switchCandidate(1);\n",
       "                    break;\n",
       "\n",
       "                    case 75: // k\n",
       "                    that.switchPage(1);\n",
       "                    break;\n",
       "\n",
       "                    case 84: // t\n",
       "                    that.labelCandidate(true, true);\n",
       "                    break;\n",
       "\n",
       "                    case 70: // f\n",
       "                    that.labelCandidate(false, true);\n",
       "                    break;\n",
       "                }\n",
       "            });\n",
       "\n",
       "            // Show the first page and highlight the first candidate\n",
       "            this.$el.find(\"#viewer-page-0\").show();\n",
       "            this.switchCandidate(0);\n",
       "        },\n",
       "\n",
       "        // Get candidate selector for currently selected candidate, escaping id properly\n",
       "        getCandidate: function() {\n",
       "            return this.$el.find(\".\"+this.cids[this.pid][this.cxid][this.cid]);\n",
       "        },  \n",
       "\n",
       "        // Color the candidate correctly according to registered label, as well as set highlighting\n",
       "        markCurrentCandidate: function(highlight) {\n",
       "            var cid  = this.cids[this.pid][this.cxid][this.cid];\n",
       "            var tags = this.$el.find(\".\"+cid);\n",
       "\n",
       "            // Clear color classes\n",
       "            tags.removeClass(\"candidate-h\");\n",
       "            tags.removeClass(\"true-candidate\");\n",
       "            tags.removeClass(\"true-candidate-h\");\n",
       "            tags.removeClass(\"false-candidate\");\n",
       "            tags.removeClass(\"false-candidate-h\");\n",
       "            tags.removeClass(\"highlighted\");\n",
       "\n",
       "            if (highlight) {\n",
       "                if (cid in this.labels) {\n",
       "                    tags.addClass(String(this.labels[cid]) + \"-candidate-h\");\n",
       "                } else {\n",
       "                    tags.addClass(\"candidate-h\");\n",
       "                }\n",
       "            \n",
       "            // If un-highlighting, leave with first non-null coloring\n",
       "            } else {\n",
       "                var that = this;\n",
       "                tags.each(function() {\n",
       "                    var cids = $(this).attr('class').split(/\\s+/).map(function(item) {\n",
       "                        return parseInt(item);\n",
       "                    });\n",
       "                    cids.sort();\n",
       "                    for (var i in cids) {\n",
       "                        if (cids[i] in that.labels) {\n",
       "                            var label = that.labels[cids[i]];\n",
       "                            $(this).addClass(String(label) + \"-candidate\");\n",
       "                            $(this).removeClass(String(!label) + \"-candidate\");\n",
       "                            break;\n",
       "                        }\n",
       "                    }\n",
       "                });\n",
       "            }\n",
       "\n",
       "            // Extra highlighting css\n",
       "            if (highlight) {\n",
       "                tags.addClass(\"highlighted\");\n",
       "            }\n",
       "\n",
       "            // Classes for showing direction of relation\n",
       "            if (highlight) {\n",
       "                this.$el.find(\".\"+cid+\"-0\").addClass(\"left-candidate\");\n",
       "                this.$el.find(\".\"+cid+\"-1\").addClass(\"right-candidate\");\n",
       "            } else {\n",
       "                this.$el.find(\".\"+cid+\"-0\").removeClass(\"left-candidate\");\n",
       "                this.$el.find(\".\"+cid+\"-1\").removeClass(\"right-candidate\");\n",
       "            }\n",
       "        },\n",
       "\n",
       "        // Cycle through candidates and highlight, by increment inc\n",
       "        switchCandidate: function(inc) {\n",
       "            var N = this.cids[this.pid].length\n",
       "            var M = this.cids[this.pid][this.cxid].length;\n",
       "            if (N == 0 || M == 0) { return false; }\n",
       "\n",
       "            // Clear highlighting from previous candidate\n",
       "            if (inc != 0) {\n",
       "                this.markCurrentCandidate(false);\n",
       "\n",
       "                // Increment the cid counter\n",
       "\n",
       "                // Move to next context\n",
       "                if (this.cid + inc >= M) {\n",
       "                    while (this.cid + inc >= M) {\n",
       "                        \n",
       "                        // At last context on page, halt\n",
       "                        if (this.cxid == N - 1) {\n",
       "                            this.cid = M - 1;\n",
       "                            inc = 0;\n",
       "                            break;\n",
       "                        \n",
       "                        // Increment to next context\n",
       "                        } else {\n",
       "                            inc -= M - this.cid;\n",
       "                            this.cxid += 1;\n",
       "                            M = this.cids[this.pid][this.cxid].length;\n",
       "                            this.cid = 0;\n",
       "                        }\n",
       "                    }\n",
       "\n",
       "                // Move to previous context\n",
       "                } else if (this.cid + inc < 0) {\n",
       "                    while (this.cid + inc < 0) {\n",
       "                        \n",
       "                        // At first context on page, halt\n",
       "                        if (this.cxid == 0) {\n",
       "                            this.cid = 0;\n",
       "                            inc = 0;\n",
       "                            break;\n",
       "                        \n",
       "                        // Increment to previous context\n",
       "                        } else {\n",
       "                            inc += this.cid + 1;\n",
       "                            this.cxid -= 1;\n",
       "                            M = this.cids[this.pid][this.cxid].length;\n",
       "                            this.cid = M - 1;\n",
       "                        }\n",
       "                    }\n",
       "                }\n",
       "\n",
       "                // Move within current context\n",
       "                this.cid += inc;\n",
       "            }\n",
       "            this.markCurrentCandidate(true);\n",
       "\n",
       "            // Push this new cid to the model\n",
       "            this.model.set('_selected_cid', this.cids[this.pid][this.cxid][this.cid]);\n",
       "            this.touch();\n",
       "        },\n",
       "\n",
       "        // Switch through contexts\n",
       "        switchContext: function(inc) {\n",
       "            this.markCurrentCandidate(false);\n",
       "\n",
       "            // Iterate context on this page\n",
       "            var M = this.cids[this.pid].length;\n",
       "            if (this.cxid + inc < 0) {\n",
       "                this.cxid = 0;\n",
       "            } else if (this.cxid + inc >= M) {\n",
       "                this.cxid = M - 1;\n",
       "            } else {\n",
       "                this.cxid += inc;\n",
       "            }\n",
       "\n",
       "            // Reset cid and set to first candidate\n",
       "            this.cid = 0;\n",
       "            this.switchCandidate(0);\n",
       "        },\n",
       "\n",
       "        // Switch through pages\n",
       "        switchPage: function(inc) {\n",
       "            this.markCurrentCandidate(false);\n",
       "            this.$el.find(\".viewer-page\").hide();\n",
       "            if (this.pid + inc < 0) {\n",
       "                this.pid = 0;\n",
       "            } else if (this.pid + inc > this.nPages - 1) {\n",
       "                this.pid = this.nPages - 1;\n",
       "            } else {\n",
       "                this.pid += inc;\n",
       "            }\n",
       "            this.$el.find(\"#viewer-page-\"+this.pid).show();\n",
       "\n",
       "            // Show pagination\n",
       "            this.$el.find(\"#page\").html(this.pid);\n",
       "\n",
       "            // Reset cid and set to first candidate\n",
       "            this.cid = 0;\n",
       "            this.cxid = 0;\n",
       "            this.switchCandidate(0);\n",
       "        },\n",
       "\n",
       "        // Label currently-selected candidate\n",
       "        labelCandidate: function(label, highlighted) {\n",
       "            var c    = this.getCandidate();\n",
       "            var cid  = this.cids[this.pid][this.cxid][this.cid];\n",
       "            var cl   = String(label) + \"-candidate\";\n",
       "            var clh  = String(label) + \"-candidate-h\";\n",
       "            var cln  = String(!label) + \"-candidate\";\n",
       "            var clnh = String(!label) + \"-candidate-h\";\n",
       "\n",
       "            // Toggle label highlighting\n",
       "            if (c.hasClass(cl) || c.hasClass(clh)) {\n",
       "                c.removeClass(cl);\n",
       "                c.removeClass(clh);\n",
       "                if (highlighted) {\n",
       "                    c.addClass(\"candidate-h\");\n",
       "                }\n",
       "                this.labels[cid] = null;\n",
       "                this.send({event: 'delete_label', cid: cid});\n",
       "            } else {\n",
       "                c.removeClass(cln);\n",
       "                c.removeClass(clnh);\n",
       "                if (highlighted) {\n",
       "                    c.addClass(clh);\n",
       "                } else {\n",
       "                    c.addClass(cl);\n",
       "                }\n",
       "                this.labels[cid] = label;\n",
       "                this.send({event: 'set_label', cid: cid, value: label});\n",
       "            }\n",
       "\n",
       "            // Set the label and pass back to the model\n",
       "            this.model.set('_labels_serialized', this.serializeDict(this.labels));\n",
       "            this.touch();\n",
       "        },\n",
       "\n",
       "        // Serialization of hash maps, because traitlets Dict doesn't seem to work...\n",
       "        serializeDict: function(d) {\n",
       "            var s = [];\n",
       "            for (var key in d) {\n",
       "                s.push(key+\"~~\"+d[key]);\n",
       "            }\n",
       "            return s.join();\n",
       "        },\n",
       "\n",
       "        // Deserialization of hash maps\n",
       "        deserializeDict: function(s) {\n",
       "            var d = {};\n",
       "            var entries = s.split(/,/);\n",
       "            var kv;\n",
       "            for (var i in entries) {\n",
       "                kv = entries[i].split(/~~/);\n",
       "                if (kv[1] == \"true\") {\n",
       "                    d[kv[0]] = true;\n",
       "                } else if (kv[1] == \"false\") {\n",
       "                    d[kv[0]] = false;\n",
       "                }\n",
       "            }\n",
       "            return d;\n",
       "        },\n",
       "    });\n",
       "\n",
       "    return {\n",
       "        ViewerView: ViewerView\n",
       "    };\n",
       "});\n"
      ],
      "text/plain": [
       "<IPython.core.display.Javascript object>"
      ]
     },
     "metadata": {},
     "output_type": "display_data"
    }
   ],
   "source": [
    "exp = exp_iterator.next()\n",
    "from snorkel.viewer import SentenceNgramViewer\n",
    "print(exp.condition)\n",
    "sv = SentenceNgramViewer([exp.candidate], session, n_per_page=3, height=150)\n",
    "sv"
   ]
  },
  {
   "cell_type": "code",
   "execution_count": 12,
   "metadata": {
    "collapsed": true
   },
   "outputs": [],
   "source": [
    "# exp.condition = 'since his widow is mentioned between the two names'"
   ]
  },
  {
   "cell_type": "code",
   "execution_count": 13,
   "metadata": {
    "collapsed": false
   },
   "outputs": [],
   "source": [
    "# explanations = [exp]\n",
    "# explanations"
   ]
  },
  {
   "cell_type": "code",
   "execution_count": 14,
   "metadata": {
    "collapsed": false,
    "scrolled": true
   },
   "outputs": [
    {
     "name": "stdout",
     "output_type": "stream",
     "text": [
      "Created grammar with 473 rules\n"
     ]
    }
   ],
   "source": [
    "from snorkel.contrib.babble import Babbler\n",
    "user_lists = {}\n",
    "babbler = Babbler(mode=mode, \n",
    "                  candidate_class=candidate_class, \n",
    "                  explanations=explanations,\n",
    "                  string_format='implicit')"
   ]
  },
  {
   "cell_type": "code",
   "execution_count": 15,
   "metadata": {
    "collapsed": false,
    "scrolled": false
   },
   "outputs": [],
   "source": [
    "# for exp in explanations:\n",
    "#     LF_dict = babbler.semparser.parse_and_evaluate(exp, show_erroring=True)\n",
    "#     num_correct = len(LF_dict['correct'])\n",
    "#     num_passing = len(LF_dict['passing'])\n",
    "#     num_acceptable = num_correct + num_passing\n",
    "#     if not num_acceptable > 0:\n",
    "#         print(LF_dict)\n",
    "#         babbler.semparser.grammar.print_chart()\n",
    "#         parses = babbler.semparser.parse(exp, return_parses=True)\n",
    "#         import pdb; pdb.set_trace()\n",
    "#     else:\n",
    "#         print('Acceptable: {}'.format(num_acceptable))"
   ]
  },
  {
   "cell_type": "code",
   "execution_count": 16,
   "metadata": {
    "collapsed": false
   },
   "outputs": [],
   "source": [
    "# for exp in explanations[:5]: print(exp.condition)"
   ]
  },
  {
   "cell_type": "code",
   "execution_count": 17,
   "metadata": {
    "collapsed": true
   },
   "outputs": [],
   "source": [
    "# from snorkel.contrib.babble import Explanation\n",
    "# exp = Explanation(\"person1 equals person2\", True, name='test_exp')\n",
    "# homemades = [exp]"
   ]
  },
  {
   "cell_type": "code",
   "execution_count": 18,
   "metadata": {
    "collapsed": false,
    "scrolled": false
   },
   "outputs": [
    {
     "name": "stdout",
     "output_type": "stream",
     "text": [
      "350 parses created from 260 out of 445 explanation(s)\n",
      "Parsed 350 LFs from 445 explanations.\n"
     ]
    }
   ],
   "source": [
    "lfs = babbler.generate_lfs()"
   ]
  },
  {
   "cell_type": "raw",
   "metadata": {},
   "source": [
    "133 parses created from 91 out of 445 explanation(s)"
   ]
  },
  {
   "cell_type": "raw",
   "metadata": {},
   "source": [
    "169 parses created from 123 out of 445 explanation(s)"
   ]
  },
  {
   "cell_type": "raw",
   "metadata": {},
   "source": [
    "350 parses created from 260 out of 445 explanation(s)"
   ]
  },
  {
   "cell_type": "code",
   "execution_count": 19,
   "metadata": {
    "collapsed": false
   },
   "outputs": [
    {
     "name": "stdout",
     "output_type": "stream",
     "text": [
      "Filtered to 260 LFs with duplicate semantics filter (90 filtered).\n"
     ]
    }
   ],
   "source": [
    "babbler.filter_duplicate_semantics()"
   ]
  },
  {
   "cell_type": "code",
   "execution_count": 20,
   "metadata": {
    "collapsed": false,
    "scrolled": true
   },
   "outputs": [
    {
     "name": "stdout",
     "output_type": "stream",
     "text": [
      "Filtered to 101 LFs with consistency filter (159 filtered).\n"
     ]
    }
   ],
   "source": [
    "babbler.filter_consistency()"
   ]
  },
  {
   "cell_type": "code",
   "execution_count": 27,
   "metadata": {
    "collapsed": false,
    "scrolled": false
   },
   "outputs": [
    {
     "data": {
      "text/plain": [
       "[\"return 1 if call(contains('tied the knot'), text(sentence())) else 0\",\n",
       " \"return 1 if call(contains('husband'), text(sentence())) else 0\",\n",
       " \"return -1 if call(in text(between([arg1,arg2])), 'brother') else 0\",\n",
       " \"return -1 if call(contains('gangsters'), text(sentence())) else 0\",\n",
       " \"return 1 if call(contains('wife'), text(sentence())) else 0\",\n",
       " \"return 1 if call(contains('widow'), text(sentence())) else 0\",\n",
       " \"return 1 if call(contains('son'), text(sentence())) else 0\",\n",
       " \"return 1 if call(contains('proposal'), text(sentence())) else 0\",\n",
       " \"return -1 if call(in text(left(arg1,'.leq',3,'words')), 'daughter') else 0\",\n",
       " \"return -1 if call(in text(left(arg2,'.eq',1,'words')), 'beau') else 0\",\n",
       " \"return 1 if call(in text(between([arg1,arg2])), 'married') else 0\",\n",
       " \"return 1 if all(map(in text(sentence()), ['marriage',text(arg1),text(arg2)])) else 0\",\n",
       " \"return 1 if call(in text(between([arg1,arg2])), 'widow') else 0\",\n",
       " \"return 1 if call(contains('her husband'), text(sentence())) else 0\",\n",
       " \"return -1 if any(map(in text(left(arg2)), ['son','daughter'])) else 0\",\n",
       " \"return -1 if call(in text(left(arg2,'.leq',3,'words')), 'daughter') else 0\",\n",
       " \"return 1 if call(in text(between([arg1,arg2])), 'wife') else 0\",\n",
       " \"all(map(in text(sentence()), [text(arg1),'sent',text(arg2)]))\",\n",
       " \"return 1 if call(contains('his wife'), text(sentence())) else 0\",\n",
       " \"return -1 if any(map(in text(left(arg2)), ['daughter','son','child'])) else 0\",\n",
       " 'return -1 if not (all(map((= text(arg1)), [text(arg1),text(arg2)]))) else 0']"
      ]
     },
     "execution_count": 27,
     "metadata": {},
     "output_type": "execute_result"
    }
   ],
   "source": [
    "babbler.get_parses(translate=True)"
   ]
  },
  {
   "cell_type": "code",
   "execution_count": 26,
   "metadata": {
    "collapsed": false,
    "scrolled": false
   },
   "outputs": [
    {
     "data": {
      "text/plain": [
       "[Explanation(\"Explanation12: True, It says they \"tied the knot\"\"),\n",
       " Explanation(\"Explanation123: True, It refers to Briath as Jodi's \"husband\"\"),\n",
       " Explanation(\"Explanation153: False, brother is between the names\"),\n",
       " Explanation(\"Explanation164: False, it says they are gangsters\"),\n",
       " Explanation(\"Explanation17: True, the text refers to person2 as being the wife of person1\"),\n",
       " Explanation(\"Explanation172: True, the text refers to person2 as the widow of person1\"),\n",
       " Explanation(\"Explanation210: True, text states that person1 and person2 have a son and they have the same last name\"),\n",
       " Explanation(\"Explanation234: True, the text mentions the proposal from person1 to person2\"),\n",
       " Explanation(\"Explanation241: False, the word \"daughter\" occurs within three words to the left of person1.\"),\n",
       " Explanation(\"Explanation250: False, \"beau\" is immediately before person 2\"),\n",
       " Explanation(\"Explanation261: True, the word married is between the names\"),\n",
       " Explanation(\"Explanation262: True, Article has marriage and Person 1 and Person 2 in the same sentence.\"),\n",
       " Explanation(\"Explanation312: True, widow is mentioned between the two names\"),\n",
       " Explanation(\"Explanation339: True, Text says \"her husband\"\"),\n",
       " Explanation(\"Explanation343: False, the word \"son\" or \"daughter\" appears to the left of person2\"),\n",
       " Explanation(\"Explanation37: False, the word \"daughter\" occurs within three words to the left of person2.\"),\n",
       " Explanation(\"Explanation398: True, wife is between the two names\"),\n",
       " Explanation(\"Explanation4: False, person1 merely sent a letter to person2.\"),\n",
       " Explanation(\"Explanation8: True, the text says \"his wife\"\"),\n",
       " Explanation(\"Explanation89: False, \"daughter\", \"son\" or \"child\" occurs to the left of person2\"),\n",
       " Explanation(\"Explanation99: False, The text does not indicate that person1 and person2 are married, and I'm not even sure if person1 is a person\")]"
      ]
     },
     "execution_count": 26,
     "metadata": {},
     "output_type": "execute_result"
    }
   ],
   "source": [
    "babbler.get_explanations()"
   ]
  },
  {
   "cell_type": "code",
   "execution_count": null,
   "metadata": {
    "collapsed": true
   },
   "outputs": [],
   "source": []
  },
  {
   "cell_type": "code",
   "execution_count": 23,
   "metadata": {
    "collapsed": false,
    "scrolled": true
   },
   "outputs": [
    {
     "name": "stdout",
     "output_type": "stream",
     "text": [
      "Clearing existing...\n",
      "Running UDF...\n",
      "[========================================] 100%\n",
      "\n",
      "CPU times: user 1min 9s, sys: 4.78 s, total: 1min 14s\n",
      "Wall time: 2min 10s\n"
     ]
    },
    {
     "data": {
      "text/plain": [
       "<2456x101 sparse matrix of type '<type 'numpy.int64'>'\n",
       "\twith 186647 stored elements in Compressed Sparse Row format>"
      ]
     },
     "execution_count": 23,
     "metadata": {},
     "output_type": "execute_result"
    }
   ],
   "source": [
    "%time babbler.generate_label_matrix(split=1, parallelism=1)"
   ]
  },
  {
   "cell_type": "code",
   "execution_count": 24,
   "metadata": {
    "collapsed": false
   },
   "outputs": [
    {
     "name": "stdout",
     "output_type": "stream",
     "text": [
      "Filtered to 54 LFs with uniform signatures filter (47 filtered).\n"
     ]
    }
   ],
   "source": [
    "babbler.filter_uniform_signatures()"
   ]
  },
  {
   "cell_type": "code",
   "execution_count": 25,
   "metadata": {
    "collapsed": false
   },
   "outputs": [
    {
     "name": "stdout",
     "output_type": "stream",
     "text": [
      "Filtered to 21 LFs with duplicate signatures filter (33 filtered).\n"
     ]
    }
   ],
   "source": [
    "babbler.filter_duplicate_signatures()"
   ]
  },
  {
   "cell_type": "code",
   "execution_count": null,
   "metadata": {
    "collapsed": false
   },
   "outputs": [],
   "source": [
    "from snorkel.annotations import load_gold_labels\n",
    "\n",
    "L_gold_dev = load_gold_labels(session, annotator_name='gold', split=1)\n",
    "L_gold_dev"
   ]
  },
  {
   "cell_type": "code",
   "execution_count": null,
   "metadata": {
    "collapsed": false,
    "scrolled": false
   },
   "outputs": [],
   "source": [
    "babbler.label_matrix.lf_stats(session, labels=L_gold_dev)"
   ]
  },
  {
   "cell_type": "code",
   "execution_count": null,
   "metadata": {
    "collapsed": true
   },
   "outputs": [],
   "source": []
  }
 ],
 "metadata": {
  "kernelspec": {
   "display_name": "Python 2",
   "language": "python",
   "name": "python2"
  },
  "language_info": {
   "codemirror_mode": {
    "name": "ipython",
    "version": 2
   },
   "file_extension": ".py",
   "mimetype": "text/x-python",
   "name": "python",
   "nbconvert_exporter": "python",
   "pygments_lexer": "ipython2",
   "version": "2.7.13"
  },
  "widgets": {
   "state": {
    "e287af264a86492680cb49c60ba30b74": {
     "views": [
      {
       "cell_index": 10
      }
     ]
    }
   },
   "version": "1.2.0"
  }
 },
 "nbformat": 4,
 "nbformat_minor": 2
}
