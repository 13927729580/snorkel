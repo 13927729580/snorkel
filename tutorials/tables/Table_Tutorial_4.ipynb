{
 "cells": [
  {
   "cell_type": "markdown",
   "metadata": {},
   "source": [
    "## Part IV:  Features and Labeling Functions"
   ]
  },
  {
   "cell_type": "markdown",
   "metadata": {},
   "source": [
    "## Generating Features"
   ]
  },
  {
   "cell_type": "code",
   "execution_count": 1,
   "metadata": {
    "collapsed": true
   },
   "outputs": [],
   "source": [
    "# If necessary:\n",
    "import os\n",
    "os.remove('snorkel.db');\n",
    "os.system('cp snorkel.db\\ labels snorkel.db');"
   ]
  },
  {
   "cell_type": "code",
   "execution_count": 2,
   "metadata": {
    "collapsed": false
   },
   "outputs": [],
   "source": [
    "%load_ext autoreload\n",
    "%autoreload 2\n",
    "\n",
    "from snorkel import SnorkelSession\n",
    "session = SnorkelSession()"
   ]
  },
  {
   "cell_type": "code",
   "execution_count": 3,
   "metadata": {
    "collapsed": false
   },
   "outputs": [],
   "source": [
    "from snorkel.models import candidate_subclass\n",
    "\n",
    "Part_Temp = candidate_subclass('Part_Temp', ['part','temp'])"
   ]
  },
  {
   "cell_type": "markdown",
   "metadata": {},
   "source": [
    "### Loading the `CandidateSet`"
   ]
  },
  {
   "cell_type": "code",
   "execution_count": 4,
   "metadata": {
    "collapsed": false
   },
   "outputs": [],
   "source": [
    "from snorkel.models import CandidateSet\n",
    "train = session.query(CandidateSet).filter(\n",
    "    CandidateSet.name == 'Hardware Candidates').one()\n",
    "# dev = session.query(CandidateSet).filter(\n",
    "#     CandidateSet.name == 'Hardware Development Candidates').one()"
   ]
  },
  {
   "cell_type": "markdown",
   "metadata": {},
   "source": [
    "### Creating feature matrix"
   ]
  },
  {
   "cell_type": "code",
   "execution_count": null,
   "metadata": {
    "collapsed": false
   },
   "outputs": [],
   "source": [
    "from snorkel.annotations import FeatureManager\n",
    "\n",
    "feature_manager = FeatureManager()"
   ]
  },
  {
   "cell_type": "code",
   "execution_count": null,
   "metadata": {
    "collapsed": false
   },
   "outputs": [
    {
     "name": "stdout",
     "output_type": "stream",
     "text": [
      "[==                                      ] 3%"
     ]
    }
   ],
   "source": [
    "%time F_train = feature_manager.create(session, train, 'Train Features')"
   ]
  },
  {
   "cell_type": "code",
   "execution_count": null,
   "metadata": {
    "collapsed": false
   },
   "outputs": [],
   "source": [
    "# %time F_dev = feature_manager.update(session, dev, 'Train Features', expand_key_set=False)"
   ]
  },
  {
   "cell_type": "markdown",
   "metadata": {},
   "source": [
    "### Reloading feature matrix"
   ]
  },
  {
   "cell_type": "code",
   "execution_count": null,
   "metadata": {
    "collapsed": false,
    "scrolled": true
   },
   "outputs": [],
   "source": [
    "%time F_train = feature_manager.load(session, train, 'Train Features')"
   ]
  },
  {
   "cell_type": "code",
   "execution_count": null,
   "metadata": {
    "collapsed": false
   },
   "outputs": [],
   "source": [
    "F_train"
   ]
  },
  {
   "cell_type": "code",
   "execution_count": null,
   "metadata": {
    "collapsed": false
   },
   "outputs": [],
   "source": [
    "F_train.get_candidate(0)"
   ]
  },
  {
   "cell_type": "code",
   "execution_count": null,
   "metadata": {
    "collapsed": false
   },
   "outputs": [],
   "source": [
    "F_train.get_key(0)"
   ]
  },
  {
   "cell_type": "code",
   "execution_count": null,
   "metadata": {
    "collapsed": false
   },
   "outputs": [],
   "source": [
    "from snorkel.utils import get_keys_by_candidate\n",
    "\n",
    "for f in get_keys_by_candidate(F_train, F_train.get_candidate(1))[:10]: print f"
   ]
  },
  {
   "cell_type": "markdown",
   "metadata": {},
   "source": [
    "## Applying LFs"
   ]
  },
  {
   "cell_type": "code",
   "execution_count": null,
   "metadata": {
    "collapsed": true
   },
   "outputs": [],
   "source": [
    "from snorkel.annotations import LabelManager\n",
    "\n",
    "label_manager = LabelManager()"
   ]
  },
  {
   "cell_type": "markdown",
   "metadata": {},
   "source": [
    "### Defining Labeling Functions"
   ]
  },
  {
   "cell_type": "code",
   "execution_count": null,
   "metadata": {
    "collapsed": false
   },
   "outputs": [],
   "source": [
    "from snorkel.lf_helpers import *\n",
    "\n",
    "LFs = []\n",
    "\n",
    "# def LF_training_gold(c):\n",
    "#     corpus = session.query(Corpus).filter(Corpus.name == 'Hardware Training').one()\n",
    "#     training_gold_dict = get_gold_dict(filename, 'stg_temp_min', docs=corpus.documents)\n",
    "#     return 1 if ((c[0].parent.document.name).upper(), \n",
    "#                  (c[0].get_span()).upper(), \n",
    "#                  (''.join(c[1].get_span().split())).upper()) in training_gold_dict else 0\n",
    "# LFs.append(LF_training_gold)\n",
    "\n",
    "# def LF_reckless_abandon(c):\n",
    "#     return 1\n",
    "\n",
    "# POSITIVE\n",
    "\n",
    "def LF_to_right(c):\n",
    "    return 1 if 'to' in get_right_ngrams(c.temp, window=1) else 0\n",
    "LFs.append(LF_to_right)\n",
    "\n",
    "def LF_tilde_right(c):\n",
    "    return 1 if '~' in get_right_ngrams(c.temp, window=1) else 0\n",
    "LFs.append(LF_tilde_right)\n",
    "\n",
    "def LF_through_right(c):\n",
    "    return 1 if len(set(['through','thru']).intersection(\n",
    "        set(get_right_ngrams(c.temp, window=1)))) > 0 else 0\n",
    "LFs.append(LF_through_right)\n",
    "\n",
    "def LF_150_right(c):\n",
    "    return 1 if '150' in get_right_ngrams(c.temp, window=3) else 0\n",
    "LFs.append(LF_150_right)\n",
    "\n",
    "def LF_storage_row(c):\n",
    "    return 1 if 'storage' in get_row_ngrams(c.temp) else 0\n",
    "LFs.append(LF_storage_row)\n",
    "\n",
    "def LF_tj_row(c):\n",
    "    return 1 if 'tj' in get_row_ngrams(c.temp) else 0\n",
    "LFs.append(LF_tj_row)\n",
    "\n",
    "def LF_c_row(c):\n",
    "    return 1 if 'c' in get_row_ngrams(c.temp) else 0\n",
    "LFs.append(LF_c_row)\n",
    "\n",
    "def LF_same_table(c):\n",
    "    return 1 if same_table(c) else 0\n",
    "LFs.append(LF_same_table)\n",
    "\n",
    "# BOTH\n",
    "\n",
    "def LF_tstg_row(c):\n",
    "    return 1 if 'tstg' in get_row_ngrams(c.temp) else -1\n",
    "LFs.append(LF_tstg_row)\n",
    "\n",
    "def LF_temperature_row(c):\n",
    "    return 1 if 'temperature' in get_row_ngrams(c.temp) else -1\n",
    "LFs.append(LF_temperature_row)\n",
    "\n",
    "# NEGATIVE\n",
    "\n",
    "def LF_temp_outside_table(c):\n",
    "    return -1 if c.temp.parent.table is None else 0\n",
    "LFs.append(LF_temp_outside_table)\n",
    "\n",
    "def LF_complement_left(c):\n",
    "    return -1 if 'complement' in get_left_ngrams(c.part) else 0\n",
    "LFs.append(LF_complement_left)\n",
    "\n",
    "def LF_voltage_row(c):\n",
    "    return -1 if 'voltage' in get_row_ngrams(c.temp) else 0"
   ]
  },
  {
   "cell_type": "markdown",
   "metadata": {},
   "source": [
    "### Testing LFs and LF_helpers"
   ]
  },
  {
   "cell_type": "code",
   "execution_count": null,
   "metadata": {
    "collapsed": false
   },
   "outputs": [],
   "source": [
    "from snorkel.lf_helpers import get_right_ngrams, get_left_ngrams\n",
    "from snorkel.lf_helpers import contains_token, contains_regex\n",
    "from snorkel.lf_helpers import get_phrase_ngrams, get_cell_ngrams, get_neighbor_cell_ngrams\n",
    "from snorkel.lf_helpers import get_row_ngrams, get_col_ngrams, get_aligned_ngrams\n",
    "from snorkel.lf_helpers import same_document, same_table, same_cell, same_phrase\n",
    "c = train[19]\n",
    "print c.part\n",
    "print c.temp\n",
    "print c.temp.parent\n",
    "print c.temp.parent.table\n",
    "print same_document(c)\n",
    "print same_table(c)\n",
    "print contains_regex(c, rgx=r'849')\n",
    "print LF_temp_outside_table(c)"
   ]
  },
  {
   "cell_type": "code",
   "execution_count": null,
   "metadata": {
    "collapsed": false,
    "scrolled": true
   },
   "outputs": [],
   "source": [
    "%time L_train = label_manager.create(session, train, 'LF Labels', f=LFs)\n",
    "L_train"
   ]
  },
  {
   "cell_type": "code",
   "execution_count": null,
   "metadata": {
    "collapsed": false
   },
   "outputs": [],
   "source": [
    "L_train.lf_stats()"
   ]
  },
  {
   "cell_type": "code",
   "execution_count": null,
   "metadata": {
    "collapsed": true
   },
   "outputs": [],
   "source": [
    "# If necessary\n",
    "import os\n",
    "os.system('cp snorkel.db snorkel.db\\ features');"
   ]
  },
  {
   "cell_type": "markdown",
   "metadata": {},
   "source": [
    "Next, in Part 5, we will test our model on the development `CandidateSet`."
   ]
  }
 ],
 "metadata": {
  "anaconda-cloud": {},
  "kernelspec": {
   "display_name": "Python [default]",
   "language": "python",
   "name": "python2"
  },
  "language_info": {
   "codemirror_mode": {
    "name": "ipython",
    "version": 2
   },
   "file_extension": ".py",
   "mimetype": "text/x-python",
   "name": "python",
   "nbconvert_exporter": "python",
   "pygments_lexer": "ipython2",
   "version": "2.7.12"
  }
 },
 "nbformat": 4,
 "nbformat_minor": 0
}
