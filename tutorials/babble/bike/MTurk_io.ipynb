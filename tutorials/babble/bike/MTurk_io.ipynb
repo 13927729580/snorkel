{
 "cells": [
  {
   "cell_type": "markdown",
   "metadata": {
    "deletable": true,
    "editable": true
   },
   "source": [
    "## MTurk I/O for Image Dataset\n",
    "\n",
    "The query of interest is: **The outlined boxes depict a person riding a bike** \n",
    "\n",
    "Want to generate the input .csv file for MTurk and parse the output csv file for results. Using MTurkHelper from babble with adjustments for candidate type."
   ]
  },
  {
   "cell_type": "code",
   "execution_count": null,
   "metadata": {
    "collapsed": false,
    "deletable": true,
    "editable": true
   },
   "outputs": [],
   "source": [
    "import numpy as np\n",
    "import matplotlib.pyplot as plt\n",
    "from matplotlib.patches import Rectangle\n",
    "%matplotlib inline\n",
    "\n",
    "import os\n",
    "import sys\n",
    "sys.path.append('/dfs/scratch0/paroma/coco')\n",
    "sys.path.append('/dfs/scratch0/paroma/coco/PythonAPI/')\n",
    "\n",
    "from pycocotools.coco import COCO\n",
    "import skimage.io as io\n",
    "import pylab\n",
    "import cv2\n",
    "\n",
    "import pandas as pd\n",
    "\n",
    "\n",
    "%load_ext autoreload\n",
    "%autoreload 2"
   ]
  },
  {
   "cell_type": "markdown",
   "metadata": {
    "deletable": true,
    "editable": true
   },
   "source": [
    "## Generate Input CSV\n",
    "Load the necessary data for this task and write out variables in the form:\n",
    "\n",
    "`<img class=\"img-responsive center-block\" src=\"http://paroma.github.io/turk_images/train_IDX_PIDX_BIDX.png\" />`"
   ]
  },
  {
   "cell_type": "code",
   "execution_count": null,
   "metadata": {
    "collapsed": false,
    "deletable": true,
    "editable": true
   },
   "outputs": [],
   "source": [
    "vg_folder = '/dfs/scratch0/paroma/visual_genome/'\n",
    "train_mscoco = np.load(vg_folder+'train_mscoco.npy')\n",
    "val_mscoco = np.load(vg_folder+'val_mscoco.npy')\n",
    "\n",
    "train_ground = np.load(vg_folder+'train_ground.npy')\n",
    "val_ground = np.load(vg_folder+'val_ground.npy')"
   ]
  },
  {
   "cell_type": "code",
   "execution_count": null,
   "metadata": {
    "collapsed": false,
    "deletable": true,
    "editable": true
   },
   "outputs": [],
   "source": [
    "#sizes of train-val-test\n",
    "print \"Train Set Size: \", np.shape(train_mscoco)[0], \" Positive: \", np.shape(np.where(train_ground == 1))[1] \n",
    "print \"Val Set Size: \", np.shape(val_mscoco)[0], \" Positive: \", np.shape(np.where(val_ground == 1))[1] "
   ]
  },
  {
   "cell_type": "code",
   "execution_count": null,
   "metadata": {
    "collapsed": true,
    "deletable": true,
    "editable": true
   },
   "outputs": [],
   "source": [
    "def generate_anns(filename, coco_ids):\n",
    "    coco=COCO(filename)\n",
    "    catIds = coco.getCatIds(catNms=['person','bicycle']);\n",
    "    set_anns = []\n",
    "\n",
    "    for set_id in coco_ids:\n",
    "        annIds = coco.getAnnIds(imgIds=set_id, catIds=catIds, iscrowd=None)\n",
    "        anns = coco.loadAnns(annIds)\n",
    "\n",
    "        temp_list = []\n",
    "        for i in xrange(len(anns)):\n",
    "            temp_dict = {'category_id':anns[i]['category_id'], 'bbox':anns[i]['bbox']}\n",
    "            temp_list.append(temp_dict)\n",
    "        set_anns.append(temp_list)\n",
    "        \n",
    "    return set_anns"
   ]
  },
  {
   "cell_type": "code",
   "execution_count": null,
   "metadata": {
    "collapsed": false,
    "deletable": true,
    "editable": true
   },
   "outputs": [],
   "source": [
    "from pycocotools.coco import COCO\n",
    "coco_path = '/dfs/scratch0/paroma/coco/annotations/'\n",
    "\n",
    "train_anns = generate_anns(coco_path+'instances_train2014.json', train_mscoco)\n",
    "#val_anns = generate_anns(coco_path+'instances_val2014.json', val_mscoco)"
   ]
  },
  {
   "cell_type": "markdown",
   "metadata": {
    "collapsed": true,
    "deletable": true,
    "editable": true
   },
   "source": [
    "## MTurk Helper for Input CSV"
   ]
  },
  {
   "cell_type": "code",
   "execution_count": null,
   "metadata": {
    "collapsed": false,
    "deletable": true,
    "editable": true
   },
   "outputs": [],
   "source": []
  },
  {
   "cell_type": "markdown",
   "metadata": {
    "deletable": true,
    "editable": true
   },
   "source": [
    "We want to make \"fake\" candidates for the visual tesk since it doesn't fit into the actual sense of the word \"candidate\". They will just be a list of image names that are saved (how convenient!)"
   ]
  },
  {
   "cell_type": "markdown",
   "metadata": {
    "collapsed": true,
    "deletable": true,
    "editable": true
   },
   "source": [
    "## MTurk Helper for Output CSV"
   ]
  },
  {
   "cell_type": "code",
   "execution_count": 1,
   "metadata": {
    "collapsed": false
   },
   "outputs": [],
   "source": [
    "%load_ext autoreload\n",
    "%autoreload 2\n",
    "\n",
    "import os\n",
    "import sys\n",
    "\n",
    "sys.path.append(os.environ['SNORKELHOME'] + '/tutorials/babble/data/')\n",
    "from mturk_processing import MTurkHelper"
   ]
  },
  {
   "cell_type": "code",
   "execution_count": 2,
   "metadata": {
    "collapsed": false,
    "deletable": true,
    "editable": true
   },
   "outputs": [],
   "source": [
    "output_csv_path = './mturk_visual_out.csv'"
   ]
  },
  {
   "cell_type": "code",
   "execution_count": 3,
   "metadata": {
    "collapsed": false,
    "deletable": true,
    "editable": true
   },
   "outputs": [
    {
     "name": "stdout",
     "output_type": "stream",
     "text": [
      "Num HITs unique: 25\n",
      "Num HITs total: 75\n",
      "Unanimous: 65\n",
      "Majority: 24\n",
      "Split: 0\n",
      "Bad: 11\n"
     ]
    }
   ],
   "source": [
    "from mturk_processing import MTurkHelper\n",
    "helper = MTurkHelper(candidates=[], labels=[], num_hits=25, domain='vg',\n",
    "                    anns_path='/Users/bradenjh/repos/snorkel/tutorials/babble/data/image/train_anns.npy')\n",
    "explanations = helper.postprocess_visual(output_csv_path, candidates=[], verbose=False)"
   ]
  },
  {
   "cell_type": "code",
   "execution_count": 4,
   "metadata": {
    "collapsed": false
   },
   "outputs": [
    {
     "data": {
      "text/plain": [
       "[Explanation(\"True, The top of Box Y is inside Box X.\"),\n",
       " Explanation(\"True, Box Y is directly below box X\"),\n",
       " Explanation(\"True, Box X mostly overlaps Box Y.\"),\n",
       " Explanation(\"True, Box X and Y line up perfectly.\"),\n",
       " Explanation(\"True, Box X is centered and slightly above Box Y.\"),\n",
       " Explanation(\"True, Box x is an appropriate size over this size of box y.\"),\n",
       " Explanation(\"False, Box Y is much bigger than box X.\"),\n",
       " Explanation(\"False, The bottom of box X is touching the top of box Y at the top left corner of box Y.\"),\n",
       " Explanation(\"False, Box X doesn't overlap Box Y.\"),\n",
       " Explanation(\"False, Box Y is much bigger than it needs to be.\")]"
      ]
     },
     "execution_count": 4,
     "metadata": {},
     "output_type": "execute_result"
    }
   ],
   "source": [
    "explanations[:10]"
   ]
  },
  {
   "cell_type": "code",
   "execution_count": 5,
   "metadata": {
    "collapsed": false,
    "deletable": true,
    "editable": true
   },
   "outputs": [
    {
     "name": "stdout",
     "output_type": "stream",
     "text": [
      "Number of Valid Explanations:  243\n"
     ]
    }
   ],
   "source": [
    "print \"Number of Valid Explanations: \", len(explanations)"
   ]
  },
  {
   "cell_type": "code",
   "execution_count": 6,
   "metadata": {
    "collapsed": false
   },
   "outputs": [],
   "source": [
    "# from snorkel.contrib.babble import Explanation\n",
    "# from snorkel.contrib.babble.image import BBox\n",
    "# A = BBox({'bbox': (100, 100, 100, 100), 'category_id': 1}, None)\n",
    "# B = BBox({'bbox': (150, 150, 100, 100), 'category_id': 2}, None)\n",
    "# a_and_b = (A, B)\n",
    "\n",
    "# explanations = [\n",
    "#     Explanation(\n",
    "#         condition=\"the top of box y is below the top of box x\",\n",
    "#         label=True,\n",
    "#         candidate=a_and_b,\n",
    "#         semantics=None),\n",
    "# ]"
   ]
  },
  {
   "cell_type": "code",
   "execution_count": 7,
   "metadata": {
    "collapsed": false
   },
   "outputs": [
    {
     "name": "stdout",
     "output_type": "stream",
     "text": [
      "Created grammar with 225 rules\n"
     ]
    }
   ],
   "source": [
    "from snorkel.contrib.babble import Babbler\n",
    "user_lists = {}\n",
    "babbler = Babbler(mode='image', explanations=explanations)"
   ]
  },
  {
   "cell_type": "code",
   "execution_count": 8,
   "metadata": {
    "collapsed": false
   },
   "outputs": [
    {
     "name": "stdout",
     "output_type": "stream",
     "text": [
      "47 parses created from 33 out of 243 explanation(s)\n"
     ]
    }
   ],
   "source": [
    "lfs = babbler.generate_lfs()"
   ]
  },
  {
   "cell_type": "code",
   "execution_count": null,
   "metadata": {
    "collapsed": false
   },
   "outputs": [],
   "source": [
    "babbler.get_explanations()"
   ]
  },
  {
   "cell_type": "code",
   "execution_count": null,
   "metadata": {
    "collapsed": false
   },
   "outputs": [],
   "source": [
    "from snorkel.contrib.babble import sem_to_str\n",
    "\n",
    "for parse in babbler.parses:\n",
    "    print(sem_to_str(parse.semantics))\n",
    "#     print(parse.semantics)"
   ]
  },
  {
   "cell_type": "code",
   "execution_count": null,
   "metadata": {
    "collapsed": true
   },
   "outputs": [],
   "source": []
  }
 ],
 "metadata": {
  "kernelspec": {
   "display_name": "Python 2",
   "language": "python",
   "name": "python2"
  },
  "language_info": {
   "codemirror_mode": {
    "name": "ipython",
    "version": 2
   },
   "file_extension": ".py",
   "mimetype": "text/x-python",
   "name": "python",
   "nbconvert_exporter": "python",
   "pygments_lexer": "ipython2",
   "version": "2.7.13"
  }
 },
 "nbformat": 4,
 "nbformat_minor": 2
}
