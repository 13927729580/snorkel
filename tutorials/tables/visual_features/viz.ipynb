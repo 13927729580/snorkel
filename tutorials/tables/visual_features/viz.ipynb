{
 "cells": [
  {
   "cell_type": "markdown",
   "metadata": {},
   "source": [
    "# Adding Visual Features"
   ]
  },
  {
   "cell_type": "code",
   "execution_count": 1,
   "metadata": {
    "collapsed": false,
    "scrolled": true
   },
   "outputs": [
    {
     "name": "stdout",
     "output_type": "stream",
     "text": [
      "The autoreload extension is already loaded. To reload it, use:\n",
      "  %reload_ext autoreload\n"
     ]
    }
   ],
   "source": [
    "%load_ext autoreload\n",
    "%autoreload 2\n",
    "\n",
    "import os\n",
    "os.remove('snorkel.db')\n",
    "\n",
    "import sys\n",
    "sys.path.append(os.environ['SNORKELHOME'] + '/tutorials/tables/')\n",
    "\n",
    "from snorkel import SnorkelSession\n",
    "session = SnorkelSession()\n",
    "\n",
    "from pdb import set_trace as t"
   ]
  },
  {
   "cell_type": "markdown",
   "metadata": {},
   "source": [
    "### Step 1: Coordinate Extraction"
   ]
  },
  {
   "cell_type": "code",
   "execution_count": 2,
   "metadata": {
    "collapsed": true
   },
   "outputs": [],
   "source": [
    "import os\n",
    "\n",
    "pdf_path = os.environ['SNORKELHOME'] + '/tutorials/tables/data/hardware/hardware100_pdf/'\n",
    "filename = 'bc546-d'\n",
    "pdf_file = pdf_path + filename + '.pdf' # Path to PDF file "
   ]
  },
  {
   "cell_type": "code",
   "execution_count": 3,
   "metadata": {
    "collapsed": false,
    "scrolled": true
   },
   "outputs": [],
   "source": [
    "from visual_linking import extract_coordinates\n",
    "\n",
    "pdf_word_list, coordinate_map = extract_coordinates(pdf_file)"
   ]
  },
  {
   "cell_type": "code",
   "execution_count": 4,
   "metadata": {
    "collapsed": false
   },
   "outputs": [
    {
     "name": "stdout",
     "output_type": "stream",
     "text": [
      "[((1, 0), u'BC546B,'),\n",
      " ((1, 1), u'BC547A,'),\n",
      " ((1, 2), u'B,'),\n",
      " ((1, 3), u'C,'),\n",
      " ((1, 4), u'BC548B,')]\n",
      "[((3, 271), (3, 645, 325, 653, 332)),\n",
      " ((4, 135), (4, 638, 314, 645, 322)),\n",
      " ((5, 31), (5, 138, 434, 148, 451)),\n",
      " ((6, 167), (6, 349, 367, 355, 385)),\n",
      " ((1, 215), (1, 575, 453, 584, 460))]\n"
     ]
    }
   ],
   "source": [
    "from pprint import pprint\n",
    "\n",
    "pprint(pdf_word_list[:5])\n",
    "pprint(coordinate_map.items()[:5])"
   ]
  },
  {
   "cell_type": "markdown",
   "metadata": {},
   "source": [
    "### Step 2: PDF to HTML Conversion"
   ]
  },
  {
   "cell_type": "markdown",
   "metadata": {},
   "source": [
    "Use Adobe Acrobat (or other program of your choice) to convert PDF -> HTML with structure."
   ]
  },
  {
   "cell_type": "markdown",
   "metadata": {},
   "source": [
    "### Step 3: HTML Parsing"
   ]
  },
  {
   "cell_type": "code",
   "execution_count": 5,
   "metadata": {
    "collapsed": false,
    "scrolled": true
   },
   "outputs": [
    {
     "name": "stdout",
     "output_type": "stream",
     "text": [
      "[========================================] 100%\n",
      "CPU times: user 3.12 s, sys: 163 ms, total: 3.28 s\n",
      "Wall time: 5.74 s\n"
     ]
    }
   ],
   "source": [
    "from snorkel.parser import CorpusParser\n",
    "from snorkel.parser import HTMLParser\n",
    "from snorkel.parser import OmniParser\n",
    "\n",
    "html_path = os.environ['SNORKELHOME'] + '/tutorials/tables/data/hardware/hardware100_html/'\n",
    "filename = 'bc546-d'\n",
    "html_file = html_path + filename + '.html'\n",
    "doc_parser = HTMLParser(path=html_file)\n",
    "context_parser = OmniParser()\n",
    "cp = CorpusParser(doc_parser, context_parser, max_docs=100) \n",
    "\n",
    "%time corpus = cp.parse_corpus(name='Hardware', session=session)"
   ]
  },
  {
   "cell_type": "code",
   "execution_count": 6,
   "metadata": {
    "collapsed": false
   },
   "outputs": [
    {
     "name": "stdout",
     "output_type": "stream",
     "text": [
      "2199\n",
      "2662\n",
      "[((2, 0), u'BC546'),\n",
      " ((2, 1), u'-'),\n",
      " ((2, 2), u'NPN'),\n",
      " ((2, 3), u'Amplifier'),\n",
      " ((2, 4), u'Transistors')]\n"
     ]
    }
   ],
   "source": [
    "from visual_linking import extract_words\n",
    "from pprint import pprint\n",
    "\n",
    "html_word_list = extract_words(corpus)\n",
    "\n",
    "print len(pdf_word_list)\n",
    "print len(html_word_list)\n",
    "pprint(html_word_list[:5])"
   ]
  },
  {
   "cell_type": "markdown",
   "metadata": {},
   "source": [
    "### Step 4: Visual Linking"
   ]
  },
  {
   "cell_type": "code",
   "execution_count": 7,
   "metadata": {
    "collapsed": false
   },
   "outputs": [
    {
     "name": "stdout",
     "output_type": "stream",
     "text": [
      "CPU times: user 439 ms, sys: 3.22 ms, total: 442 ms\n",
      "Wall time: 445 ms\n"
     ]
    }
   ],
   "source": [
    "from visual_linking import link_lists\n",
    "\n",
    "%time links = link_lists(html_word_list, pdf_word_list)"
   ]
  },
  {
   "cell_type": "code",
   "execution_count": 8,
   "metadata": {
    "collapsed": false
   },
   "outputs": [
    {
     "name": "stdout",
     "output_type": "stream",
     "text": [
      "[((2, 0), (1, 31)),\n",
      " ((2, 1), (1, 23)),\n",
      " ((2, 2), (1, 8)),\n",
      " ((2, 3), (1, 6)),\n",
      " ((2, 4), (1, 7))]\n"
     ]
    }
   ],
   "source": [
    "pprint(links.items()[:5])"
   ]
  },
  {
   "cell_type": "markdown",
   "metadata": {},
   "source": [
    "### Step 5: Updating with coordinates"
   ]
  },
  {
   "cell_type": "code",
   "execution_count": 9,
   "metadata": {
    "collapsed": false
   },
   "outputs": [],
   "source": [
    "from visual_linking import load_coordinates\n",
    "\n",
    "load_coordinates(corpus, links, coordinate_map, session)"
   ]
  },
  {
   "cell_type": "code",
   "execution_count": 10,
   "metadata": {
    "collapsed": false
   },
   "outputs": [
    {
     "name": "stdout",
     "output_type": "stream",
     "text": [
      "[u'BC546B', u',', u'BC547A', u',', u'B', u',', u'C', u',', u'BC548B', u',', u'C']\n",
      "(50, 182, 50, 182, 182, 182, 70, 70, 70, 70, 70)\n",
      "(73, 197, 73, 197, 197, 197, 93, 93, 93, 93, 93)\n",
      "(59, 59, 149, 59, 59, 59, 149, 149, 59, 149, 149)\n",
      "(143, 65, 234, 65, 65, 65, 163, 163, 143, 163, 163)\n"
     ]
    }
   ],
   "source": [
    "print corpus.documents[0].phrases[1].words\n",
    "print corpus.documents[0].phrases[1].top\n",
    "print corpus.documents[0].phrases[1].bottom\n",
    "print corpus.documents[0].phrases[1].left\n",
    "print corpus.documents[0].phrases[1].right"
   ]
  },
  {
   "cell_type": "code",
   "execution_count": 11,
   "metadata": {
    "collapsed": false
   },
   "outputs": [
    {
     "name": "stdout",
     "output_type": "stream",
     "text": [
      "Extracting Candidates from Corpus (Hardware)\n",
      "[========================================] 100%\n",
      "CPU times: user 1.28 s, sys: 15.1 ms, total: 1.3 s\n",
      "Wall time: 1.33 s\n",
      "Candidate Set (Hardware Candidates) contains 540 Candidates\n"
     ]
    }
   ],
   "source": [
    "import os\n",
    "from collections import defaultdict\n",
    "from snorkel.models import Corpus, candidate_subclass\n",
    "from snorkel.matchers import RegexMatchSpan, Union\n",
    "from snorkel.candidates import CandidateExtractor\n",
    "from snorkel.utils import get_ORM_instance\n",
    "from hardware_utils import OmniNgramsPart, OmniNgramsTemp, get_gold_dict\n",
    "\n",
    "# Candidate Type\n",
    "Part_Temp = candidate_subclass('Part_Temp', ['part','temp'])\n",
    "    \n",
    "# CandidateSpaces\n",
    "part_ngrams = OmniNgramsPart(parts_by_doc=None, n_max=3)\n",
    "temp_ngrams = OmniNgramsTemp(n_max=2)\n",
    "\n",
    "# Matchers\n",
    "eeca_matcher = RegexMatchSpan(rgx='([b]{1}[abcdefklnpqruyz]{1}[\\swxyz]?[0-9]{3,5}[\\s]?[A-Z\\/]{0,5}[0-9]?[A-Z]?([-][A-Z0-9]{1,7})?([-][A-Z0-9]{1,2})?)')\n",
    "jedec_matcher = RegexMatchSpan(rgx='([123]N\\d{3,4}[A-Z]{0,5}[0-9]?[A-Z]?)')\n",
    "jis_matcher = RegexMatchSpan(rgx='(2S[abcdefghjkmqrstvz]{1}[\\d]{2,4})')\n",
    "others_matcher = RegexMatchSpan(rgx='((NSVBC|SMBT|MJ|MJE|MPS|MRF|RCA|TIP|ZTX|ZT|TIS|TIPL|DTC|MMBT|PZT){1}[\\d]{2,4}[A-Z]{0,3}([-][A-Z0-9]{0,6})?([-][A-Z0-9]{0,1})?)')\n",
    "parts_matcher = Union(eeca_matcher, jedec_matcher, jis_matcher, others_matcher)\n",
    "\n",
    "temp_matcher = RegexMatchSpan(rgx=r'1[4-6]0', longest_match_only=False)\n",
    "\n",
    "# Throttler\n",
    "part_throttler = None\n",
    "\n",
    "# Extractor\n",
    "ce = CandidateExtractor(Part_Temp, \n",
    "                        [part_ngrams, temp_ngrams], \n",
    "                        [parts_matcher, temp_matcher], \n",
    "                        throttler=part_throttler)\n",
    "\n",
    "# Extract\n",
    "for corpus_name in ['Hardware']:\n",
    "    corpus = get_ORM_instance(Corpus, session, corpus_name)\n",
    "    print \"Extracting Candidates from %s\" % corpus\n",
    "    %time candidates = ce.extract(\\\n",
    "        corpus.documents, corpus_name + ' Candidates', session)\n",
    "    session.add(candidates)\n",
    "    print \"%s contains %d Candidates\" % (candidates, len(candidates))\n",
    "session.commit()"
   ]
  },
  {
   "cell_type": "code",
   "execution_count": 12,
   "metadata": {
    "collapsed": false
   },
   "outputs": [
    {
     "name": "stdout",
     "output_type": "stream",
     "text": [
      "Span(\"BC546\", parent=1005, chars=[0,4], words=[0,0])\n",
      "0 4\n",
      "0\n",
      "0\n",
      "2\n",
      "(186,)\n",
      "(196,)\n",
      "(314,)\n",
      "(339,)\n"
     ]
    }
   ],
   "source": [
    "c = candidates[5]\n",
    "print c.part\n",
    "print c.part.char_start, c.part.char_end\n",
    "print c.part.get_word_start()\n",
    "print c.part.get_word_end()\n",
    "print c.part.parent.page\n",
    "print c.part.get_attrib_tokens('top')\n",
    "print c.part.get_attrib_tokens('bottom')\n",
    "print c.part.get_attrib_tokens('left')\n",
    "print c.part.get_attrib_tokens('right')"
   ]
  },
  {
   "cell_type": "markdown",
   "metadata": {},
   "source": [
    "### Step 6: Assess Results"
   ]
  },
  {
   "cell_type": "code",
   "execution_count": 24,
   "metadata": {
    "collapsed": false
   },
   "outputs": [
    {
     "name": "stdout",
     "output_type": "stream",
     "text": [
      "Boxes per page:\n",
      "Page 1: 892 (24)\n",
      "Page 2: 2988 (72)\n",
      "Page 3: 40 (4)\n",
      "Page 4: 40 (8)\n",
      "Page 5: 360 (26)\n"
     ]
    }
   ],
   "source": [
    "from visual_linking import display_candidates, display_boxes\n",
    "\n",
    "display_candidates(pdf_file, candidates, page_num=1)"
   ]
  },
  {
   "cell_type": "code",
   "execution_count": 18,
   "metadata": {
    "collapsed": false
   },
   "outputs": [
    {
     "name": "stdout",
     "output_type": "stream",
     "text": [
      "Boxes per page:\n",
      "Page 1: 8\n",
      "Page 2: 30\n",
      "Page 3: 1\n",
      "Page 4: 2\n",
      "Page 5: 9\n"
     ]
    }
   ],
   "source": [
    "from visual_linking import display_boxes, get_box\n",
    "\n",
    "boxes = []\n",
    "for c in candidates:\n",
    "    boxes.append(get_box(c.part))\n",
    "boxes = list(set(boxes))\n",
    "display_boxes(pdf_file, boxes, page_num=2)"
   ]
  },
  {
   "cell_type": "markdown",
   "metadata": {},
   "source": [
    "### Display Ordering of PDF Word List "
   ]
  },
  {
   "cell_type": "markdown",
   "metadata": {},
   "source": [
    "Display Ordering on a black page - Not very easy to display because of superposition"
   ]
  },
  {
   "cell_type": "code",
   "execution_count": 29,
   "metadata": {
    "collapsed": false
   },
   "outputs": [],
   "source": [
    "import numpy as np\n",
    "import cv2\n",
    "\n",
    "page_num = 2\n",
    "page_height = 792\n",
    "page_width = 612\n",
    "img = np.zeros((page_height,page_width,3))\n",
    "font = cv2.FONT_HERSHEY_SIMPLEX\n",
    "i = 0\n",
    "for word_id, _ in pdf_word_list:\n",
    "    if word_id[0] == page_num:\n",
    "        i += 1\n",
    "        __, top, left, bottom, right = coordinate_map[word_id]\n",
    "        cv2.rectangle(img,(int(float(left)),int(float(top))),(int(float(right)),int(float(bottom))),(0,255,0),1)\n",
    "        cv2.putText(img, str(i), (int((float(left)+float(right))/2), int(float(bottom))), font, 0.3, (0,0,255), 1)\n",
    "cv2.imshow('Ordering',img)\n",
    "cv2.waitKey() # press any key to exit the opencv output \n",
    "cv2.destroyAllWindows() "
   ]
  },
  {
   "cell_type": "markdown",
   "metadata": {},
   "source": [
    "The end."
   ]
  }
 ],
 "metadata": {
  "anaconda-cloud": {},
  "kernelspec": {
   "display_name": "Python [default]",
   "language": "python",
   "name": "python2"
  },
  "language_info": {
   "codemirror_mode": {
    "name": "ipython",
    "version": 2
   },
   "file_extension": ".py",
   "mimetype": "text/x-python",
   "name": "python",
   "nbconvert_exporter": "python",
   "pygments_lexer": "ipython2",
   "version": "2.7.10"
  }
 },
 "nbformat": 4,
 "nbformat_minor": 1
}
