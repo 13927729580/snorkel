{
 "cells": [
  {
   "cell_type": "markdown",
   "metadata": {},
   "source": [
    "# Disease Tagging Tutorial\n",
    "\n",
    "In this example, we'll be writing an application to extract *mentions of* diseases from Pubmed abstracts, using annotations from the [BioCreative CDR Challenge](http://www.biocreative.org/resources/corpora/biocreative-v-cdr-corpus/).  This tutorial, which has 5 parts, walks through the process of constructing a model to classify _candidate_ disease mentions as either true (i.e., that it is truly a mention of a disease) or false."
   ]
  },
  {
   "cell_type": "markdown",
   "metadata": {},
   "source": [
    "## Part III: Creating or Loading Evaluation Labels"
   ]
  },
  {
   "cell_type": "code",
   "execution_count": null,
   "metadata": {
    "collapsed": false
   },
   "outputs": [],
   "source": [
    "%load_ext autoreload\n",
    "%autoreload 2\n",
    "\n",
    "from snorkel import SnorkelSession\n",
    "session = SnorkelSession()"
   ]
  },
  {
   "cell_type": "markdown",
   "metadata": {},
   "source": [
    "## Part III(a): Creating Evaluation Labels in the `Viewer`"
   ]
  },
  {
   "cell_type": "markdown",
   "metadata": {},
   "source": [
    "We repeat our definition of the `ChemicalDisease` `Candidate` subclass from Part II."
   ]
  },
  {
   "cell_type": "code",
   "execution_count": null,
   "metadata": {
    "collapsed": true
   },
   "outputs": [],
   "source": [
    "from snorkel.models import candidate_subclass\n",
    "\n",
    "Disease = candidate_subclass('Disease', ['disease'])"
   ]
  },
  {
   "cell_type": "markdown",
   "metadata": {},
   "source": [
    "## Loading the development `CandidateSet`"
   ]
  },
  {
   "cell_type": "markdown",
   "metadata": {},
   "source": [
    "We will start by viewing the development `CandidateSet` we created in Part II in the `Viewer`.\n",
    "\n",
    "First we reload the development `CandidateSet`."
   ]
  },
  {
   "cell_type": "code",
   "execution_count": null,
   "metadata": {
    "collapsed": false
   },
   "outputs": [],
   "source": [
    "from snorkel.models import CandidateSet\n",
    "\n",
    "cs = session.query(CandidateSet).filter(CandidateSet.name == 'CDR Development Candidates').one()\n",
    "cs"
   ]
  },
  {
   "cell_type": "markdown",
   "metadata": {},
   "source": [
    "## Labeling the `CandidateSet` in the `Viewer`"
   ]
  },
  {
   "cell_type": "markdown",
   "metadata": {},
   "source": [
    "We create a `Viewer` to annotate them manually."
   ]
  },
  {
   "cell_type": "code",
   "execution_count": null,
   "metadata": {
    "collapsed": false
   },
   "outputs": [],
   "source": [
    "from snorkel.viewer import SentenceNgramViewer\n",
    "\n",
    "# NOTE: This if-then statement is only to avoid opening the viewer during automated testing of this notebook\n",
    "# You should ignore this!\n",
    "import os\n",
    "if 'CI' not in os.environ:\n",
    "    sv = SentenceNgramViewer(cs[:300], session, annotator_name=\"Tutorial Part III User\")\n",
    "else:\n",
    "    sv = None"
   ]
  },
  {
   "cell_type": "markdown",
   "metadata": {},
   "source": [
    "We now open the Viewer.\n",
    "\n",
    "You can mark each `Candidate` as true or false. Remember that <span style=\"color:red\">red</span> denotes the first argument (chemical) and <span style=\"color:blue\">blue</span> denotes the second (disease). Try it!\n",
    "\n",
    "These labels are automatically saved in the database backend, and can be accessed using the annotator's name ('Tutorial Part III User') as the AnnotationKey."
   ]
  },
  {
   "cell_type": "code",
   "execution_count": null,
   "metadata": {
    "collapsed": true
   },
   "outputs": [],
   "source": [
    "sv"
   ]
  },
  {
   "cell_type": "markdown",
   "metadata": {},
   "source": [
    "## Part III(b): Loading External Evaluation Labels\n",
    "\n",
    "Loading in external annotations can be a bit messier, since these external annotations could be in any format.  Here, we'll provide an example of how to use the `ExternalAnnotationsLoader` helper class to make this a bit simpler.\n",
    "\n",
    "**Note that most of the code below is custom code just for this particular example's external annotations format;** we start, however, by creating the loader helper.  Note that we use it to create a `CandidateSet` (named \"Gold Candidates\") and `AnnotationKey` (named \"Gold Labels\") for the annotations we load.\n",
    "\n",
    "Note in particular that we need to define a new candidate set because _the external annotations we load might be over candidates not in our candidate set._"
   ]
  },
  {
   "cell_type": "code",
   "execution_count": null,
   "metadata": {
    "collapsed": true
   },
   "outputs": [],
   "source": [
    "from snorkel.loaders import ExternalAnnotationsLoader\n",
    "\n",
    "loader = ExternalAnnotationsLoader(session, Disease, \n",
    "                                   'CDR Development Candidates -- Gold',\n",
    "                                   'CDR Development Labels -- Gold',\n",
    "                                   expand_candidate_set=True)"
   ]
  },
  {
   "cell_type": "markdown",
   "metadata": {},
   "source": [
    "Next, we use custom scripts to extract this particular type of annotations.  **The details of these scripts are mostly left out as they are particular to this example (see `tutorial/utils.py`).**\n",
    "\n",
    "The key part is that we need to form a _dictionary of `TemporaryContexts`_ to pass into the loader:"
   ]
  },
  {
   "cell_type": "code",
   "execution_count": null,
   "metadata": {
    "collapsed": false
   },
   "outputs": [],
   "source": [
    "from utils import get_docs_xml, get_CID_unary_mentions\n",
    "from snorkel.models import Document, TemporarySpan\n",
    "import os\n",
    "ROOT = os.environ['SNORKELHOME'] + '/tutorials/disease_tagging/data/'\n",
    "\n",
    "def load_BioC_disease_labels(loader, file_name):\n",
    "    # Get all the annotated Pubtator documents as XML trees\n",
    "    doc_xmls = get_docs_xml(ROOT + file_name)\n",
    "    for doc_id, doc_xml in doc_xmls.iteritems():\n",
    "    \n",
    "        # Get the corresponding Document object\n",
    "        stable_id = \"%s::document:0:0\" % doc_id\n",
    "        doc       = session.query(Document).filter(Document.stable_id == stable_id).first()\n",
    "        if doc is not None:\n",
    "        \n",
    "            # Use custom script + loader to add\n",
    "            for d in get_CID_unary_mentions(doc_xml, doc, 'Disease'):\n",
    "                loader.add(d)\n",
    "\n",
    "load_BioC_disease_labels(loader, 'CDR_DevelopmentSet.BioC.xml')"
   ]
  },
  {
   "cell_type": "markdown",
   "metadata": {},
   "source": [
    "We've created a candidate set and a corresponding set of labels:"
   ]
  },
  {
   "cell_type": "code",
   "execution_count": null,
   "metadata": {
    "collapsed": false
   },
   "outputs": [],
   "source": [
    "from snorkel.models import Label\n",
    "\n",
    "cs = session.query(CandidateSet).filter(CandidateSet.name == 'CDR Development Candidates -- Gold').one()\n",
    "print len(cs)\n",
    "print session.query(Label).filter(Label.key == loader.annotation_key).count()"
   ]
  },
  {
   "cell_type": "markdown",
   "metadata": {},
   "source": [
    "Now we'll load the rest of the annotations:"
   ]
  },
  {
   "cell_type": "code",
   "execution_count": null,
   "metadata": {
    "collapsed": false
   },
   "outputs": [],
   "source": [
    "for set_name in ['Training', 'Test']:\n",
    "    loader = ExternalAnnotationsLoader(session, Disease, \n",
    "                                       'CDR %s Candidates -- Gold' % set_name,\n",
    "                                       'CDR %s Labels -- Gold' % set_name,\n",
    "                                       expand_candidate_set=True)\n",
    "    load_BioC_disease_labels(loader, 'CDR_%sSet.BioC.xml' % set_name)\n",
    "    print session.query(Label).filter(Label.key == loader.annotation_key).count()"
   ]
  }
 ],
 "metadata": {
  "kernelspec": {
   "display_name": "Python 2",
   "language": "python",
   "name": "python2"
  },
  "language_info": {
   "codemirror_mode": {
    "name": "ipython",
    "version": 2
   },
   "file_extension": ".py",
   "mimetype": "text/x-python",
   "name": "python",
   "nbconvert_exporter": "python",
   "pygments_lexer": "ipython2",
   "version": "2.7.12"
  }
 },
 "nbformat": 4,
 "nbformat_minor": 0
}
