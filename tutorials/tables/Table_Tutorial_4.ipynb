{
 "cells": [
  {
   "cell_type": "markdown",
   "metadata": {},
   "source": [
    "## Part IV:  Features and Labeling Functions"
   ]
  },
  {
   "cell_type": "markdown",
   "metadata": {},
   "source": [
    "## Generating Features"
   ]
  },
  {
   "cell_type": "code",
   "execution_count": 1,
   "metadata": {
    "collapsed": true
   },
   "outputs": [],
   "source": [
    "# # If necessary:\n",
    "# import os\n",
    "# os.remove('snorkel.db');\n",
    "# os.system('cp snorkel.db\\ labels snorkel.db');"
   ]
  },
  {
   "cell_type": "code",
   "execution_count": 2,
   "metadata": {
    "collapsed": false
   },
   "outputs": [],
   "source": [
    "# %load_ext autoreload\n",
    "# %autoreload 2\n",
    "\n",
    "# from snorkel import SnorkelSession\n",
    "# session = SnorkelSession()"
   ]
  },
  {
   "cell_type": "code",
   "execution_count": 3,
   "metadata": {
    "collapsed": false
   },
   "outputs": [],
   "source": [
    "# from snorkel.models import candidate_subclass\n",
    "\n",
    "# Part_Temp = candidate_subclass('Part_Temp', ['part','temp'])"
   ]
  },
  {
   "cell_type": "markdown",
   "metadata": {},
   "source": [
    "### Loading the `CandidateSet`"
   ]
  },
  {
   "cell_type": "code",
   "execution_count": 4,
   "metadata": {
    "collapsed": false
   },
   "outputs": [],
   "source": [
    "# from snorkel.models import CandidateSet\n",
    "# train = session.query(CandidateSet).filter(\n",
    "#     CandidateSet.name == 'Hardware Training Candidates').one()\n",
    "# dev = session.query(CandidateSet).filter(\n",
    "#     CandidateSet.name == 'Hardware Development Candidates').one()"
   ]
  },
  {
   "cell_type": "markdown",
   "metadata": {},
   "source": [
    "### Creating feature matrix"
   ]
  },
  {
   "cell_type": "code",
   "execution_count": 5,
   "metadata": {
    "collapsed": false
   },
   "outputs": [],
   "source": [
    "# from snorkel.annotations import FeatureManager\n",
    "\n",
    "# feature_manager = FeatureManager()"
   ]
  },
  {
   "cell_type": "code",
   "execution_count": 6,
   "metadata": {
    "collapsed": false
   },
   "outputs": [],
   "source": [
    "# %time F_train = feature_manager.create(session, train, 'Train Features')"
   ]
  },
  {
   "cell_type": "code",
   "execution_count": 7,
   "metadata": {
    "collapsed": false
   },
   "outputs": [],
   "source": [
    "# %time F_dev = feature_manager.update(session, dev, 'Train Features', expand_key_set=False)"
   ]
  },
  {
   "cell_type": "markdown",
   "metadata": {},
   "source": [
    "### Reloading feature matrix"
   ]
  },
  {
   "cell_type": "code",
   "execution_count": 8,
   "metadata": {
    "collapsed": false,
    "scrolled": true
   },
   "outputs": [],
   "source": [
    "# %time F_train = feature_manager.load(session, train, 'Train Features')"
   ]
  },
  {
   "cell_type": "code",
   "execution_count": 9,
   "metadata": {
    "collapsed": false
   },
   "outputs": [],
   "source": [
    "# F_train"
   ]
  },
  {
   "cell_type": "code",
   "execution_count": 10,
   "metadata": {
    "collapsed": false
   },
   "outputs": [],
   "source": [
    "# F_train.get_candidate(0)"
   ]
  },
  {
   "cell_type": "code",
   "execution_count": 11,
   "metadata": {
    "collapsed": false
   },
   "outputs": [],
   "source": [
    "# F_train.get_key(0)"
   ]
  },
  {
   "cell_type": "code",
   "execution_count": 12,
   "metadata": {
    "collapsed": false
   },
   "outputs": [],
   "source": [
    "# from snorkel.utils import get_keys_by_candidate\n",
    "\n",
    "# for f in get_keys_by_candidate(F_train, F_train.get_candidate(1))[:10]: print f"
   ]
  },
  {
   "cell_type": "markdown",
   "metadata": {},
   "source": [
    "### Saving feature matrices"
   ]
  },
  {
   "cell_type": "code",
   "execution_count": 13,
   "metadata": {
    "collapsed": true
   },
   "outputs": [],
   "source": [
    "# # If necessary:\n",
    "# import os\n",
    "# os.system('cp snorkel.db snorkel.db\\ featurized');"
   ]
  },
  {
   "cell_type": "markdown",
   "metadata": {},
   "source": [
    "## Applying LFs"
   ]
  },
  {
   "cell_type": "code",
   "execution_count": 14,
   "metadata": {
    "collapsed": false
   },
   "outputs": [],
   "source": [
    "# If necessary:\n",
    "import os\n",
    "os.remove('snorkel.db');\n",
    "os.system('cp snorkel.db\\ featurized snorkel.db');\n",
    "\n",
    "from snorkel import SnorkelSession\n",
    "session = SnorkelSession()\n",
    "\n",
    "from snorkel.models import candidate_subclass\n",
    "Part_Temp = candidate_subclass('Part_Temp', ['part','temp'])\n",
    "\n",
    "from snorkel.models import CandidateSet\n",
    "train = session.query(CandidateSet).filter(\n",
    "    CandidateSet.name == 'Hardware Training Candidates').one()"
   ]
  },
  {
   "cell_type": "code",
   "execution_count": 15,
   "metadata": {
    "collapsed": false
   },
   "outputs": [],
   "source": [
    "from snorkel.annotations import LabelManager\n",
    "\n",
    "label_manager = LabelManager()"
   ]
  },
  {
   "cell_type": "markdown",
   "metadata": {},
   "source": [
    "### Defining Labeling Functions"
   ]
  },
  {
   "cell_type": "code",
   "execution_count": 16,
   "metadata": {
    "collapsed": false
   },
   "outputs": [],
   "source": [
    "from snorkel.lf_helpers import *\n",
    "\n",
    "LFs = []\n",
    "\n",
    "# gold_file = os.environ['SNORKELHOME'] + '/tutorials/tables/data/hardware/hardware_gold.csv'\n",
    "# def LF_training_gold(c):\n",
    "#     training_gold_dict = get_gold_dict(gold_file, 'stg_temp_min')\n",
    "#     return 1 if ((c[0].parent.document.name).upper(), \n",
    "#                  (c[0].get_span()).upper(), \n",
    "#                  (''.join(c[1].get_span().split())).upper()) in training_gold_dict else 0\n",
    "# LFs.append(LF_training_gold)\n",
    "\n",
    "# from hardware_utils import load_extended_parts_dict\n",
    "# gold_file ='data/hardware/hardware_gold.csv'\n",
    "# parts_dict = load_extended_parts_dict(gold_file)\n",
    "# print \"Loaded %d part numbers.\" % len(parts_dict)\n",
    "\n",
    "# def LF_parts_dict(c):\n",
    "#     return 1 if (c.temp.parent.words)[0] in parts_dict else -1\n",
    "# LFs.append(LF_foo)\n",
    "\n",
    "# POSITIVE\n",
    "\n",
    "def LF_to_right(c):\n",
    "    return 1 if 'to' in get_right_ngrams(c.temp, window=1, n_max=1) else 0\n",
    "LFs.append(LF_to_right)\n",
    "\n",
    "def LF_150_right(c):\n",
    "    return 1 if '150' in get_right_ngrams(c.temp, window=4, n_max=1) else 0\n",
    "LFs.append(LF_150_right)\n",
    "\n",
    "def LF_storage_row(c):\n",
    "    return 1 if 'storage' in get_row_ngrams(c.temp, n_max=2) else 0\n",
    "LFs.append(LF_storage_row)\n",
    "\n",
    "def LF_operating_row(c):\n",
    "    return 1 if 'operating' in get_row_ngrams(c.temp, n_max=2) else 0\n",
    "LFs.append(LF_operating_row)\n",
    "\n",
    "def LF_c_row(c):\n",
    "    return 1 if '%C' in get_row_ngrams(c.temp, n_min=1, n_max=2, case_sensitive=True) else 0\n",
    "LFs.append(LF_c_row)\n",
    "\n",
    "def LF_temperature_row(c):\n",
    "    return 1 if 'temperature' in get_row_ngrams(c.temp) else 0\n",
    "LFs.append(LF_temperature_row)\n",
    "\n",
    "def LF_tstg_row(c):\n",
    "    row_ngrams = get_row_ngrams(c.temp, n_max=1)\n",
    "    return 1 if ('tstg' in row_ngrams or 'ts' in row_ngrams) else 0\n",
    "LFs.append(LF_tstg_row)\n",
    "\n",
    "\n",
    "# NEGATIVE\n",
    "\n",
    "def LF_temp_outside_table(c):\n",
    "    return -1 if c.temp.parent.table is None else 0\n",
    "LFs.append(LF_temp_outside_table)\n",
    "\n",
    "def LF_vsomething_row(c):\n",
    "    return -1 if 'V%' in get_row_ngrams(c.temp, infer=True) else 0\n",
    "LFs.append(LF_vsomething_row)\n",
    "\n",
    "def LF_collector_row(c):\n",
    "    return -1 if 'collector' in get_row_ngrams(c.temp) else 0\n",
    "LFs.append(LF_collector_row)\n",
    "\n",
    "def LF_collectorattrib_row(c):\n",
    "    return -1 if 'collector%' in get_row_ngrams(c.temp) else 0\n",
    "LFs.append(LF_collectorattrib_row)\n",
    "\n",
    "def LF_typ_row(c):\n",
    "    return -1 if 'typ' in get_row_ngrams(c.temp) else 0\n",
    "LFs.append(LF_collector_row)\n",
    "\n",
    "def LF_complement_left(c):\n",
    "    return -1 if 'complement' in get_left_ngrams(c.part) else 0\n",
    "LFs.append(LF_complement_left)\n",
    "\n",
    "def LF_voltage_row(c):\n",
    "    return -1 if 'voltage' in get_row_ngrams(c.temp, infer=True) else 0\n",
    "LFs.append(LF_voltage_row)\n",
    "\n",
    "def LF_v_row(c):\n",
    "    return -1 if 'v' in get_row_ngrams(c.temp, infer=True) else 0\n",
    "LFs.append(LF_v_row)\n",
    "\n",
    "def LF_vceo_row(c):\n",
    "    return -1 if 'vceo' in get_row_ngrams(c.temp, infer=True) else 0\n",
    "LFs.append(LF_vceo_row)\n",
    "\n",
    "def LF_mindot_row(c):\n",
    "    return -1 if 'min.' in get_col_ngrams(c.temp) else 0\n",
    "LFs.append(LF_mindot_row)\n",
    "\n",
    "def LF_min_row(c):\n",
    "    return -1 if 'min' in get_col_ngrams(c.temp) else 0\n",
    "LFs.append(LF_min_row)\n",
    "\n",
    "def LF_test_row(c):\n",
    "    return -1 if 'test' in get_row_ngrams(c.temp, infer=True) else 0\n",
    "LFs.append(LF_test_row)\n",
    "\n",
    "def LF_condition_row(c):\n",
    "    return -1 if 'condition' in get_row_ngrams(c.temp, infer=True) else 0\n",
    "LFs.append(LF_condition_row)"
   ]
  },
  {
   "cell_type": "markdown",
   "metadata": {},
   "source": [
    "### Testing LFs and LF_helpers"
   ]
  },
  {
   "cell_type": "code",
   "execution_count": 17,
   "metadata": {
    "collapsed": false
   },
   "outputs": [
    {
     "name": "stdout",
     "output_type": "stream",
     "text": [
      "Span(\"BC182\", parent=84426, chars=[0,4], words=[0,0])\n",
      "ImplicitSpan(\"-55\", parent=84276, words=[0,0], position=[0])\n",
      "Phrase(Doc: BC182-D, Table: 0, Row: 7, Col: 2, Position: 0, Text: -55 to +150)\n",
      "Table(Doc: BC182-D, Position: 0)\n",
      "True\n",
      "False\n",
      "False\n",
      "0\n"
     ]
    }
   ],
   "source": [
    "from snorkel.lf_helpers import get_right_ngrams, get_left_ngrams\n",
    "from snorkel.lf_helpers import contains_token, contains_regex\n",
    "from snorkel.lf_helpers import get_phrase_ngrams, get_cell_ngrams, get_neighbor_cell_ngrams\n",
    "from snorkel.lf_helpers import get_row_ngrams, get_col_ngrams, get_aligned_ngrams\n",
    "from snorkel.lf_helpers import same_document, same_table, same_cell, same_phrase\n",
    "c = train[12]\n",
    "print c.part\n",
    "print c.temp\n",
    "print c.temp.parent\n",
    "print c.temp.parent.table\n",
    "print same_document(c)\n",
    "print same_table(c)\n",
    "print contains_regex(c, rgx=r'849')\n",
    "print LF_temp_outside_table(c)"
   ]
  },
  {
   "cell_type": "code",
   "execution_count": 18,
   "metadata": {
    "collapsed": false,
    "scrolled": true
   },
   "outputs": [
    {
     "name": "stdout",
     "output_type": "stream",
     "text": [
      "[========================================] 100%\n",
      "\n",
      "Loading sparse Label matrix...\n",
      "CPU times: user 14min 17s, sys: 28.2 s, total: 14min 45s\n",
      "Wall time: 14min 24s\n"
     ]
    },
    {
     "data": {
      "text/plain": [
       "<75908x19 sparse matrix of type '<type 'numpy.float64'>'\n",
       "\twith 80892 stored elements in Compressed Sparse Row format>"
      ]
     },
     "execution_count": 18,
     "metadata": {},
     "output_type": "execute_result"
    }
   ],
   "source": [
    "%time L_train = label_manager.create(session, train, 'LF Labels', f=LFs)\n",
    "L_train"
   ]
  },
  {
   "cell_type": "code",
   "execution_count": 19,
   "metadata": {
    "collapsed": true
   },
   "outputs": [],
   "source": [
    "train_gold = session.query(CandidateSet).filter(\n",
    "    CandidateSet.name == 'Hardware Training Candidates -- Gold').one()"
   ]
  },
  {
   "cell_type": "code",
   "execution_count": 20,
   "metadata": {
    "collapsed": false,
    "scrolled": false
   },
   "outputs": [
    {
     "name": "stdout",
     "output_type": "stream",
     "text": [
      "[========================================] 100%\n",
      "\n",
      "CPU times: user 11.7 s, sys: 1.52 s, total: 13.2 s\n",
      "Wall time: 11.2 s\n"
     ]
    },
    {
     "data": {
      "text/html": [
       "<div>\n",
       "<table border=\"1\" class=\"dataframe\">\n",
       "  <thead>\n",
       "    <tr style=\"text-align: right;\">\n",
       "      <th></th>\n",
       "      <th>accuracy</th>\n",
       "      <th>conflicts</th>\n",
       "      <th>coverage</th>\n",
       "      <th>j</th>\n",
       "      <th>overlaps</th>\n",
       "    </tr>\n",
       "  </thead>\n",
       "  <tbody>\n",
       "    <tr>\n",
       "      <th>LF_to_right</th>\n",
       "      <td>1.000000</td>\n",
       "      <td>0.001278</td>\n",
       "      <td>0.101649</td>\n",
       "      <td>0</td>\n",
       "      <td>0.101649</td>\n",
       "    </tr>\n",
       "    <tr>\n",
       "      <th>LF_150_right</th>\n",
       "      <td>1.000000</td>\n",
       "      <td>0.000000</td>\n",
       "      <td>0.107551</td>\n",
       "      <td>1</td>\n",
       "      <td>0.107551</td>\n",
       "    </tr>\n",
       "    <tr>\n",
       "      <th>LF_storage_row</th>\n",
       "      <td>1.000000</td>\n",
       "      <td>0.014623</td>\n",
       "      <td>0.258906</td>\n",
       "      <td>2</td>\n",
       "      <td>0.258906</td>\n",
       "    </tr>\n",
       "    <tr>\n",
       "      <th>LF_operating_row</th>\n",
       "      <td>1.000000</td>\n",
       "      <td>0.001620</td>\n",
       "      <td>0.064736</td>\n",
       "      <td>3</td>\n",
       "      <td>0.064736</td>\n",
       "    </tr>\n",
       "    <tr>\n",
       "      <th>LF_c_row</th>\n",
       "      <td>NaN</td>\n",
       "      <td>0.000000</td>\n",
       "      <td>0.000000</td>\n",
       "      <td>4</td>\n",
       "      <td>0.000000</td>\n",
       "    </tr>\n",
       "    <tr>\n",
       "      <th>LF_temperature_row</th>\n",
       "      <td>1.000000</td>\n",
       "      <td>0.027942</td>\n",
       "      <td>0.301431</td>\n",
       "      <td>5</td>\n",
       "      <td>0.274661</td>\n",
       "    </tr>\n",
       "    <tr>\n",
       "      <th>LF_tstg_row</th>\n",
       "      <td>1.000000</td>\n",
       "      <td>0.001252</td>\n",
       "      <td>0.024134</td>\n",
       "      <td>6</td>\n",
       "      <td>0.024134</td>\n",
       "    </tr>\n",
       "    <tr>\n",
       "      <th>LF_temp_outside_table</th>\n",
       "      <td>0.000000</td>\n",
       "      <td>0.000026</td>\n",
       "      <td>0.019563</td>\n",
       "      <td>7</td>\n",
       "      <td>0.000026</td>\n",
       "    </tr>\n",
       "    <tr>\n",
       "      <th>LF_vsomething_row</th>\n",
       "      <td>NaN</td>\n",
       "      <td>0.000000</td>\n",
       "      <td>0.000000</td>\n",
       "      <td>8</td>\n",
       "      <td>0.000000</td>\n",
       "    </tr>\n",
       "    <tr>\n",
       "      <th>LF_collector_row</th>\n",
       "      <td>NaN</td>\n",
       "      <td>0.000000</td>\n",
       "      <td>0.000000</td>\n",
       "      <td>9</td>\n",
       "      <td>0.000000</td>\n",
       "    </tr>\n",
       "    <tr>\n",
       "      <th>LF_collectorattrib_row</th>\n",
       "      <td>NaN</td>\n",
       "      <td>0.000000</td>\n",
       "      <td>0.000000</td>\n",
       "      <td>10</td>\n",
       "      <td>0.000000</td>\n",
       "    </tr>\n",
       "    <tr>\n",
       "      <th>LF_complement_left</th>\n",
       "      <td>NaN</td>\n",
       "      <td>0.000000</td>\n",
       "      <td>0.000000</td>\n",
       "      <td>11</td>\n",
       "      <td>0.000000</td>\n",
       "    </tr>\n",
       "    <tr>\n",
       "      <th>LF_voltage_row</th>\n",
       "      <td>0.718649</td>\n",
       "      <td>0.000000</td>\n",
       "      <td>0.069018</td>\n",
       "      <td>12</td>\n",
       "      <td>0.069018</td>\n",
       "    </tr>\n",
       "    <tr>\n",
       "      <th>LF_v_row</th>\n",
       "      <td>0.614022</td>\n",
       "      <td>0.000000</td>\n",
       "      <td>0.090004</td>\n",
       "      <td>13</td>\n",
       "      <td>0.069018</td>\n",
       "    </tr>\n",
       "    <tr>\n",
       "      <th>LF_vceo_row</th>\n",
       "      <td>NaN</td>\n",
       "      <td>0.000000</td>\n",
       "      <td>0.000000</td>\n",
       "      <td>14</td>\n",
       "      <td>0.000000</td>\n",
       "    </tr>\n",
       "    <tr>\n",
       "      <th>LF_mindot_row</th>\n",
       "      <td>NaN</td>\n",
       "      <td>0.000000</td>\n",
       "      <td>0.000000</td>\n",
       "      <td>15</td>\n",
       "      <td>0.000000</td>\n",
       "    </tr>\n",
       "    <tr>\n",
       "      <th>LF_min_row</th>\n",
       "      <td>0.000000</td>\n",
       "      <td>0.027942</td>\n",
       "      <td>0.028666</td>\n",
       "      <td>16</td>\n",
       "      <td>0.028666</td>\n",
       "    </tr>\n",
       "    <tr>\n",
       "      <th>LF_test_row</th>\n",
       "      <td>NaN</td>\n",
       "      <td>0.000000</td>\n",
       "      <td>0.000000</td>\n",
       "      <td>17</td>\n",
       "      <td>0.000000</td>\n",
       "    </tr>\n",
       "    <tr>\n",
       "      <th>LF_condition_row</th>\n",
       "      <td>NaN</td>\n",
       "      <td>0.000000</td>\n",
       "      <td>0.000000</td>\n",
       "      <td>18</td>\n",
       "      <td>0.000000</td>\n",
       "    </tr>\n",
       "  </tbody>\n",
       "</table>\n",
       "</div>"
      ],
      "text/plain": [
       "                        accuracy  conflicts  coverage   j  overlaps\n",
       "LF_to_right             1.000000   0.001278  0.101649   0  0.101649\n",
       "LF_150_right            1.000000   0.000000  0.107551   1  0.107551\n",
       "LF_storage_row          1.000000   0.014623  0.258906   2  0.258906\n",
       "LF_operating_row        1.000000   0.001620  0.064736   3  0.064736\n",
       "LF_c_row                     NaN   0.000000  0.000000   4  0.000000\n",
       "LF_temperature_row      1.000000   0.027942  0.301431   5  0.274661\n",
       "LF_tstg_row             1.000000   0.001252  0.024134   6  0.024134\n",
       "LF_temp_outside_table   0.000000   0.000026  0.019563   7  0.000026\n",
       "LF_vsomething_row            NaN   0.000000  0.000000   8  0.000000\n",
       "LF_collector_row             NaN   0.000000  0.000000   9  0.000000\n",
       "LF_collectorattrib_row       NaN   0.000000  0.000000  10  0.000000\n",
       "LF_complement_left           NaN   0.000000  0.000000  11  0.000000\n",
       "LF_voltage_row          0.718649   0.000000  0.069018  12  0.069018\n",
       "LF_v_row                0.614022   0.000000  0.090004  13  0.069018\n",
       "LF_vceo_row                  NaN   0.000000  0.000000  14  0.000000\n",
       "LF_mindot_row                NaN   0.000000  0.000000  15  0.000000\n",
       "LF_min_row              0.000000   0.027942  0.028666  16  0.028666\n",
       "LF_test_row                  NaN   0.000000  0.000000  17  0.000000\n",
       "LF_condition_row             NaN   0.000000  0.000000  18  0.000000"
      ]
     },
     "execution_count": 20,
     "metadata": {},
     "output_type": "execute_result"
    }
   ],
   "source": [
    "# L_train.lf_stats()\n",
    "%time L_train.lf_stats(train_gold)"
   ]
  },
  {
   "cell_type": "code",
   "execution_count": 21,
   "metadata": {
    "collapsed": true
   },
   "outputs": [],
   "source": [
    "# If necessary\n",
    "import os\n",
    "os.system('cp snorkel.db snorkel.db\\ features');"
   ]
  },
  {
   "cell_type": "markdown",
   "metadata": {},
   "source": [
    "Next, in Part 5, we will test our model on the development `CandidateSet`."
   ]
  },
  {
   "cell_type": "markdown",
   "metadata": {},
   "source": [
    "# TEMPORARY"
   ]
  },
  {
   "cell_type": "code",
   "execution_count": 22,
   "metadata": {
    "collapsed": false
   },
   "outputs": [],
   "source": [
    "# from snorkel.models import Corpus\n",
    "# from snorkel.utils import get_ORM_instance\n",
    "# corpus = get_ORM_instance(Corpus, session, 'Hardware')\n",
    "\n",
    "# for d in corpus:\n",
    "#     if d.name == 'PHGLS18216-1':\n",
    "#         doc = d\n",
    "# print doc"
   ]
  },
  {
   "cell_type": "code",
   "execution_count": 23,
   "metadata": {
    "collapsed": false
   },
   "outputs": [],
   "source": [
    "# for phrase in doc.phrases:\n",
    "#     for ngram in tokens_to_ngrams(phrase.words, n_max=2, n_min=2):\n",
    "#         if ngram == '- C':\n",
    "#             import pdb; pdb.set_trace()"
   ]
  },
  {
   "cell_type": "code",
   "execution_count": null,
   "metadata": {
    "collapsed": true
   },
   "outputs": [],
   "source": []
  }
 ],
 "metadata": {
  "anaconda-cloud": {},
  "kernelspec": {
   "display_name": "Python 2",
   "language": "python",
   "name": "python2"
  },
  "language_info": {
   "codemirror_mode": {
    "name": "ipython",
    "version": 2
   },
   "file_extension": ".py",
   "mimetype": "text/x-python",
   "name": "python",
   "nbconvert_exporter": "python",
   "pygments_lexer": "ipython2",
   "version": "2.7.12"
  }
 },
 "nbformat": 4,
 "nbformat_minor": 0
}
