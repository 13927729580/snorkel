{
 "cells": [
  {
   "cell_type": "markdown",
   "metadata": {},
   "source": [
    "## Part V: Training a Model with Data Programming"
   ]
  },
  {
   "cell_type": "code",
   "execution_count": 1,
   "metadata": {
    "collapsed": false
   },
   "outputs": [],
   "source": [
    "# If necessary:\n",
    "import os\n",
    "os.remove('snorkel.db');\n",
    "os.system('cp snorkel.db\\ features snorkel.db');"
   ]
  },
  {
   "cell_type": "code",
   "execution_count": 2,
   "metadata": {
    "collapsed": false
   },
   "outputs": [
    {
     "name": "stdout",
     "output_type": "stream",
     "text": [
      "The autoreload extension is already loaded. To reload it, use:\n",
      "  %reload_ext autoreload\n"
     ]
    }
   ],
   "source": [
    "%load_ext autoreload\n",
    "%autoreload 2\n",
    "\n",
    "from snorkel import SnorkelSession\n",
    "session = SnorkelSession()"
   ]
  },
  {
   "cell_type": "code",
   "execution_count": 3,
   "metadata": {
    "collapsed": false
   },
   "outputs": [],
   "source": [
    "from snorkel.models import candidate_subclass\n",
    "\n",
    "Part_Temp = candidate_subclass('Part_Temp', ['part','temp'])"
   ]
  },
  {
   "cell_type": "markdown",
   "metadata": {},
   "source": [
    "### Loading the `CandidateSet`, feature matrix, and label matrix"
   ]
  },
  {
   "cell_type": "code",
   "execution_count": 4,
   "metadata": {
    "collapsed": false
   },
   "outputs": [],
   "source": [
    "from snorkel.models import CandidateSet\n",
    "train = session.query(CandidateSet).filter(\n",
    "    CandidateSet.name == 'Hardware Training Candidates').one()"
   ]
  },
  {
   "cell_type": "code",
   "execution_count": 63,
   "metadata": {
    "collapsed": false
   },
   "outputs": [
    {
     "name": "stdout",
     "output_type": "stream",
     "text": [
      "CPU times: user 3min 5s, sys: 19.5 s, total: 3min 25s\n",
      "Wall time: 3min 29s\n"
     ]
    }
   ],
   "source": [
    "from snorkel.annotations import FeatureManager\n",
    "\n",
    "feature_manager = FeatureManager()\n",
    "\n",
    "%time F_train = feature_manager.load(session, train, 'Train Features')"
   ]
  },
  {
   "cell_type": "code",
   "execution_count": 6,
   "metadata": {
    "collapsed": false
   },
   "outputs": [
    {
     "name": "stdout",
     "output_type": "stream",
     "text": [
      "CPU times: user 2.74 s, sys: 136 ms, total: 2.88 s\n",
      "Wall time: 2.99 s\n"
     ]
    }
   ],
   "source": [
    "from snorkel.annotations import LabelManager\n",
    "\n",
    "label_manager = LabelManager()\n",
    "\n",
    "%time L_train = label_manager.load(session, train, 'LF Labels')"
   ]
  },
  {
   "cell_type": "markdown",
   "metadata": {},
   "source": [
    "## Train Generative Model"
   ]
  },
  {
   "cell_type": "code",
   "execution_count": 7,
   "metadata": {
    "collapsed": false
   },
   "outputs": [
    {
     "name": "stdout",
     "output_type": "stream",
     "text": [
      "================================================================================\n",
      "Training marginals (!= 0.5):\t85377\n",
      "Features:\t\t\t18\n",
      "================================================================================\n",
      "Begin training for rate=0.01, mu=1e-06\n",
      "\tLearning epoch = 0\tGradient mag. = 0.417921\n",
      "\tLearning epoch = 250\tGradient mag. = 0.552370\n",
      "\tLearning epoch = 500\tGradient mag. = 0.685059\n",
      "\tLearning epoch = 750\tGradient mag. = 0.824752\n",
      "\tLearning epoch = 1000\tGradient mag. = 0.908164\n",
      "\tLearning epoch = 1250\tGradient mag. = 0.915530\n",
      "\tLearning epoch = 1500\tGradient mag. = 0.826081\n",
      "\tLearning epoch = 1750\tGradient mag. = 0.727261\n",
      "\tLearning epoch = 2000\tGradient mag. = 0.637984\n",
      "\tLearning epoch = 2250\tGradient mag. = 0.565730\n",
      "\tLearning epoch = 2500\tGradient mag. = 0.506027\n",
      "\tLearning epoch = 2750\tGradient mag. = 0.455836\n",
      "\tLearning epoch = 3000\tGradient mag. = 0.411510\n",
      "\tLearning epoch = 3250\tGradient mag. = 0.345356\n",
      "\tLearning epoch = 3500\tGradient mag. = 0.295165\n",
      "\tLearning epoch = 3750\tGradient mag. = 0.256485\n",
      "\tLearning epoch = 4000\tGradient mag. = 0.226166\n",
      "\tLearning epoch = 4250\tGradient mag. = 0.201976\n",
      "\tLearning epoch = 4500\tGradient mag. = 0.182334\n",
      "\tLearning epoch = 4750\tGradient mag. = 0.166121\n",
      "\tLearning epoch = 5000\tGradient mag. = 0.152535\n",
      "\tLearning epoch = 5250\tGradient mag. = 0.141001\n",
      "\tLearning epoch = 5500\tGradient mag. = 0.131094\n",
      "\tLearning epoch = 5750\tGradient mag. = 0.122501\n",
      "\tLearning epoch = 6000\tGradient mag. = 0.114981\n",
      "\tLearning epoch = 6250\tGradient mag. = 0.108350\n",
      "\tLearning epoch = 6500\tGradient mag. = 0.102462\n",
      "\tLearning epoch = 6750\tGradient mag. = 0.097201\n",
      "\tLearning epoch = 7000\tGradient mag. = 0.092473\n",
      "\tLearning epoch = 7250\tGradient mag. = 0.088202\n",
      "\tLearning epoch = 7500\tGradient mag. = 0.084326\n",
      "\tLearning epoch = 7750\tGradient mag. = 0.080792\n",
      "\tLearning epoch = 8000\tGradient mag. = 0.077558\n",
      "\tLearning epoch = 8250\tGradient mag. = 0.074586\n",
      "\tLearning epoch = 8500\tGradient mag. = 0.071846\n",
      "\tLearning epoch = 8750\tGradient mag. = 0.069313\n",
      "\tLearning epoch = 9000\tGradient mag. = 0.066964\n",
      "\tLearning epoch = 9250\tGradient mag. = 0.064780\n",
      "\tLearning epoch = 9500\tGradient mag. = 0.062745\n",
      "\tLearning epoch = 9750\tGradient mag. = 0.060845\n",
      "\tLearning epoch = 10000\tGradient mag. = 0.059067\n",
      "\tLearning epoch = 10250\tGradient mag. = 0.057401\n",
      "\tLearning epoch = 10500\tGradient mag. = 0.055838\n",
      "\tLearning epoch = 10750\tGradient mag. = 0.054368\n",
      "\tLearning epoch = 11000\tGradient mag. = 0.052986\n",
      "\tLearning epoch = 11250\tGradient mag. = 0.051683\n",
      "\tLearning epoch = 11500\tGradient mag. = 0.050455\n",
      "\tLearning epoch = 11750\tGradient mag. = 0.049296\n",
      "\tLearning epoch = 12000\tGradient mag. = 0.048202\n",
      "\tLearning epoch = 12250\tGradient mag. = 0.047167\n",
      "\tLearning epoch = 12500\tGradient mag. = 0.046189\n",
      "\tLearning epoch = 12750\tGradient mag. = 0.045263\n",
      "\tLearning epoch = 13000\tGradient mag. = 0.044386\n",
      "\tLearning epoch = 13250\tGradient mag. = 0.043556\n",
      "\tLearning epoch = 13500\tGradient mag. = 0.042769\n",
      "\tLearning epoch = 13750\tGradient mag. = 0.042023\n",
      "\tLearning epoch = 14000\tGradient mag. = 0.041316\n",
      "\tLearning epoch = 14250\tGradient mag. = 0.040645\n",
      "\tLearning epoch = 14500\tGradient mag. = 0.040008\n",
      "\tLearning epoch = 14750\tGradient mag. = 0.039404\n",
      "Final gradient magnitude for rate=0.01, mu=1e-06: 0.039\n"
     ]
    }
   ],
   "source": [
    "from snorkel.learning import NaiveBayes\n",
    "\n",
    "gen_model = NaiveBayes()\n",
    "# gen_model.train(L_train, n_iter=3000, rate=1e-5)\n",
    "gen_model.train(L_train, n_iter=15000, rate=1e-2)"
   ]
  },
  {
   "cell_type": "code",
   "execution_count": 8,
   "metadata": {
    "collapsed": false
   },
   "outputs": [],
   "source": [
    "gen_model.save(session, 'Generative Params')"
   ]
  },
  {
   "cell_type": "code",
   "execution_count": 9,
   "metadata": {
    "collapsed": true
   },
   "outputs": [],
   "source": [
    "train_marginals = gen_model.marginals(L_train)"
   ]
  },
  {
   "cell_type": "markdown",
   "metadata": {},
   "source": [
    "## Train Discriminative Model"
   ]
  },
  {
   "cell_type": "code",
   "execution_count": 38,
   "metadata": {
    "collapsed": false
   },
   "outputs": [
    {
     "name": "stdout",
     "output_type": "stream",
     "text": [
      "================================================================================\n",
      "Training marginals (!= 0.5):\t68829\n",
      "Features:\t\t\t19594\n",
      "================================================================================\n",
      "Using gradient descent...\n",
      "\tLearning epoch = 0\tStep size = 0.0005\n",
      "\tLoss = 47708.627291\tGradient magnitude = 79617.912043\n",
      "\tLearning epoch = 100\tStep size = 0.000452396073557\n",
      "\tLoss = 6485.003435\tGradient magnitude = 2435.064917\n",
      "\tLearning epoch = 200\tStep size = 0.000409324414739\n",
      "\tLoss = 6057.270125\tGradient magnitude = 2524.610640\n",
      "\tLearning epoch = 300\tStep size = 0.000370353516078\n",
      "\tLoss = 5188.565732\tGradient magnitude = 2606.181589\n",
      "\tLearning epoch = 400\tStep size = 0.000335092953003\n",
      "\tLoss = 5283.661779\tGradient magnitude = 2620.239240\n",
      "\tLearning epoch = 500\tStep size = 0.000303189472431\n",
      "\tLoss = 2414.806603\tGradient magnitude = 1166.856304\n",
      "\tLearning epoch = 600\tStep size = 0.000274323453743\n",
      "\tLoss = 3636.575799\tGradient magnitude = 2215.302318\n",
      "\tLearning epoch = 700\tStep size = 0.000248205706716\n",
      "\tLoss = 3027.708675\tGradient magnitude = 2336.312523\n",
      "\tLearning epoch = 800\tStep size = 0.000224574574305\n",
      "\tLoss = 2687.413415\tGradient magnitude = 2154.536425\n",
      "\tLearning epoch = 900\tStep size = 0.000203193311273\n",
      "\tLoss = 3014.452035\tGradient magnitude = 2313.330559\n",
      "\tLearning epoch = 1000\tStep size = 0.000183847712385\n",
      "\tLoss = 2251.990493\tGradient magnitude = 1132.782003\n",
      "\tLearning epoch = 1100\tStep size = 0.000166343966431\n",
      "\tLoss = 2258.880375\tGradient magnitude = 1470.074587\n",
      "\tLearning epoch = 1200\tStep size = 0.000150506714547\n",
      "\tLoss = 2234.410241\tGradient magnitude = 1118.958159\n",
      "\tLearning epoch = 1300\tStep size = 0.00013617729341\n",
      "\tLoss = 2207.245859\tGradient magnitude = 476.609570\n",
      "\tLearning epoch = 1400\tStep size = 0.000123212145692\n",
      "\tLoss = 2198.559052\tGradient magnitude = 13.878844\n",
      "\tLearning epoch = 1500\tStep size = 0.000111481381851\n",
      "\tLoss = 2196.454445\tGradient magnitude = 13.170330\n",
      "\tLearning epoch = 1600\tStep size = 0.000100867478849\n",
      "\tLoss = 2194.729708\tGradient magnitude = 12.588057\n",
      "\tLearning epoch = 1700\tStep size = 9.12641027614e-05\n",
      "\tLoss = 2193.297467\tGradient magnitude = 12.103584\n",
      "\tLearning epoch = 1800\tStep size = 8.25750434918e-05\n",
      "\tLoss = 2192.094852\tGradient magnitude = 11.696505\n",
      "\tLearning epoch = 1900\tStep size = 7.4713250899e-05\n",
      "\tLoss = 2191.075513\tGradient magnitude = 11.351541\n",
      "\tLearning epoch = 2000\tStep size = 6.75999626987e-05\n",
      "\tLoss = 2190.204574\tGradient magnitude = 11.057025\n",
      "\tLearning epoch = 2100\tStep size = 6.1163915395e-05\n",
      "\tLoss = 2189.455308\tGradient magnitude = 10.803920\n",
      "\tLearning epoch = 2200\tStep size = 5.53406303361e-05\n",
      "\tLoss = 2188.806899\tGradient magnitude = 10.585134\n",
      "\tLearning epoch = 2300\tStep size = 5.00717677445e-05\n",
      "\tLoss = 2188.242897\tGradient magnitude = 10.395044\n",
      "\tLearning epoch = 2400\tStep size = 4.53045422473e-05\n",
      "\tLoss = 2187.750133\tGradient magnitude = 10.229136\n",
      "\tLearning epoch = 2500\tStep size = 4.09911940539e-05\n",
      "\tLoss = 2187.317940\tGradient magnitude = 10.083758\n",
      "\tLearning epoch = 2600\tStep size = 3.70885104808e-05\n",
      "\tLoss = 2186.937586\tGradient magnitude = 9.955920\n",
      "\tLearning epoch = 2700\tStep size = 3.35573930312e-05\n",
      "\tLoss = 2186.601854\tGradient magnitude = 9.843158\n",
      "\tLearning epoch = 2800\tStep size = 3.03624656922e-05\n",
      "\tLoss = 2186.304730\tGradient magnitude = 9.743422\n",
      "\tLearning epoch = 2900\tStep size = 2.74717205253e-05\n",
      "\tLoss = 2186.041164\tGradient magnitude = 9.654992\n",
      "\tLearning epoch = 3000\tStep size = 2.4856196999e-05\n",
      "\tLoss = 2185.806884\tGradient magnitude = 9.576419\n",
      "\tLearning epoch = 3100\tStep size = 2.24896918518e-05\n",
      "\tLoss = 2185.598256\tGradient magnitude = 9.506472\n",
      "\tLearning epoch = 3200\tStep size = 2.03484965785e-05\n",
      "\tLoss = 2185.412169\tGradient magnitude = 9.444099\n",
      "\tLearning epoch = 3300\tStep size = 1.84111599098e-05\n",
      "\tLoss = 2185.245947\tGradient magnitude = 9.388396\n",
      "\tLearning epoch = 3400\tStep size = 1.66582729057e-05\n",
      "\tLoss = 2185.097276\tGradient magnitude = 9.338583\n",
      "\tLearning epoch = 3500\tStep size = 1.50722745095e-05\n",
      "\tLoss = 2184.964151\tGradient magnitude = 9.293984\n",
      "\tLearning epoch = 3600\tStep size = 1.36372756154e-05\n",
      "\tLoss = 2184.844821\tGradient magnitude = 9.254012\n",
      "\tLearning epoch = 3700\tStep size = 1.23388998848e-05\n",
      "\tLoss = 2184.737759\tGradient magnitude = 9.218152\n",
      "\tLearning epoch = 3800\tStep size = 1.11641397198e-05\n",
      "\tLoss = 2184.641622\tGradient magnitude = 9.185953\n",
      "\tLearning epoch = 3900\tStep size = 1.01012259477e-05\n",
      "\tLoss = 2184.555232\tGradient magnitude = 9.157020\n",
      "\tLearning epoch = 4000\tStep size = 9.13950991374e-06\n",
      "\tLoss = 2184.477548\tGradient magnitude = 9.131004\n",
      "\tLearning epoch = 4100\tStep size = 8.26935679842e-06\n",
      "\tLoss = 2184.407650\tGradient magnitude = 9.107596\n",
      "\tLearning epoch = 4200\tStep size = 7.4820490929e-06\n",
      "\tLoss = 2184.344725\tGradient magnitude = 9.086523\n",
      "\tLearning epoch = 4300\tStep size = 6.76969926357e-06\n",
      "\tLoss = 2184.288048\tGradient magnitude = 9.067543\n",
      "\tLearning epoch = 4400\tStep size = 6.125170732e-06\n",
      "\tLoss = 2184.236977\tGradient magnitude = 9.050441\n"
     ]
    }
   ],
   "source": [
    "from snorkel.learning import LogReg\n",
    "\n",
    "disc_model = LogReg()\n",
    "disc_model.train(F_train, train_marginals, n_iter=2000, rate=5e-4)"
   ]
  },
  {
   "cell_type": "code",
   "execution_count": 39,
   "metadata": {
    "collapsed": false
   },
   "outputs": [
    {
     "data": {
      "text/plain": [
       "(19594,)"
      ]
     },
     "execution_count": 39,
     "metadata": {},
     "output_type": "execute_result"
    }
   ],
   "source": [
    "disc_model.w.shape"
   ]
  },
  {
   "cell_type": "code",
   "execution_count": 12,
   "metadata": {
    "collapsed": false
   },
   "outputs": [
    {
     "name": "stdout",
     "output_type": "stream",
     "text": [
      "CPU times: user 3.73 s, sys: 171 ms, total: 3.9 s\n",
      "Wall time: 3.96 s\n"
     ]
    }
   ],
   "source": [
    "%time disc_model.save(session, \"Discriminative Params\")"
   ]
  },
  {
   "cell_type": "markdown",
   "metadata": {},
   "source": [
    "## Assess Performance on Development Set"
   ]
  },
  {
   "cell_type": "code",
   "execution_count": 40,
   "metadata": {
    "collapsed": false
   },
   "outputs": [],
   "source": [
    "from snorkel.models import CandidateSet\n",
    "dev = session.query(CandidateSet).filter(\n",
    "    CandidateSet.name == 'Hardware Development Candidates').one()"
   ]
  },
  {
   "cell_type": "markdown",
   "metadata": {},
   "source": [
    "### Loading the Development Feature Matrix"
   ]
  },
  {
   "cell_type": "code",
   "execution_count": 14,
   "metadata": {
    "collapsed": false
   },
   "outputs": [
    {
     "name": "stdout",
     "output_type": "stream",
     "text": [
      "CPU times: user 1min 33s, sys: 20.2 s, total: 1min 53s\n",
      "Wall time: 2min 5s\n"
     ]
    }
   ],
   "source": [
    "from snorkel.annotations import FeatureManager\n",
    "\n",
    "feature_manager = FeatureManager()\n",
    "%time F_dev = feature_manager.load(session, dev, 'Train Features')"
   ]
  },
  {
   "cell_type": "code",
   "execution_count": 15,
   "metadata": {
    "collapsed": false
   },
   "outputs": [],
   "source": [
    "train_gold = session.query(CandidateSet).filter(\n",
    "    CandidateSet.name == 'Hardware Training Candidates -- Gold').one()"
   ]
  },
  {
   "cell_type": "code",
   "execution_count": 16,
   "metadata": {
    "collapsed": false
   },
   "outputs": [],
   "source": [
    "# from snorkel.loaders import create_or_fetch\n",
    "# from snorkel.models import Label, AnnotationKeySet\n",
    "# annotation_key_name = \"Hardware Development Labels - Gold\"\n",
    "# annotation_key = create_or_fetch(session, AnnotationKey, annotation_key_name)\n",
    "# session.query(Label).filter(Label.key == annotation_key).count()"
   ]
  },
  {
   "cell_type": "code",
   "execution_count": 17,
   "metadata": {
    "collapsed": false,
    "scrolled": true
   },
   "outputs": [],
   "source": [
    "from snorkel.models import CandidateSet\n",
    "from snorkel.annotations import LabelManager\n",
    "label_manager = LabelManager()\n",
    "# from snorkel.utils import get_ORM_instance\n",
    "# dev_labels = get_ORM_instance(AnnotationKeySet, session, 'Hardware Development Labels - Gold')\n",
    "L_dev = label_manager.load(session, dev, 'Hardware Development Labels -- Gold')"
   ]
  },
  {
   "cell_type": "code",
   "execution_count": 18,
   "metadata": {
    "collapsed": false
   },
   "outputs": [],
   "source": [
    "gold_dev_set = session.query(CandidateSet).filter(\n",
    "    CandidateSet.name == 'Hardware Development Candidates -- Gold').one()"
   ]
  },
  {
   "cell_type": "code",
   "execution_count": 41,
   "metadata": {
    "collapsed": false
   },
   "outputs": [
    {
     "data": {
      "text/plain": [
       "(9502, 19594)"
      ]
     },
     "execution_count": 41,
     "metadata": {},
     "output_type": "execute_result"
    }
   ],
   "source": [
    "F_dev.shape"
   ]
  },
  {
   "cell_type": "code",
   "execution_count": 42,
   "metadata": {
    "collapsed": false,
    "scrolled": true
   },
   "outputs": [
    {
     "name": "stdout",
     "output_type": "stream",
     "text": [
      "Calibration plot:\n",
      "========================================\n",
      "Recall-corrected Noise-aware Model\n",
      "========================================\n",
      "Pos. class accuracy: 0.733830845771\n",
      "Neg. class accuracy: 0.670486435921\n",
      "Corpus Precision 0.731\n",
      "Corpus Recall    0.734\n",
      "Corpus F1        0.733\n",
      "----------------------------------------\n",
      "TP: 3835 | FP: 1409 | TN: 2867 | FN: 1391\n",
      "========================================\n",
      "\n",
      "========================================\n",
      "Recall-corrected Noise-aware Model\n",
      "========================================\n",
      "Pos. class accuracy: 0.733830845771\n",
      "Neg. class accuracy: 0.670486435921\n",
      "Corpus Precision 0.731\n",
      "Corpus Recall    0.734\n",
      "Corpus F1        0.733\n",
      "----------------------------------------\n",
      "TP: 3835 | FP: 1409 | TN: 2867 | FN: 1391\n",
      "========================================\n",
      "\n"
     ]
    }
   ],
   "source": [
    "tp, fp, tn, fn = disc_model.score(F_dev, L_dev, gold_dev_set)"
   ]
  },
  {
   "cell_type": "code",
   "execution_count": 21,
   "metadata": {
    "collapsed": false
   },
   "outputs": [],
   "source": [
    "from hardware_utils import part_error_analysis, table_info\n",
    "#     print c[0]\n",
    "#     print c[0].parent\n",
    "#     print (c[0].parent.row_num, c[0].parent.col_num)\n",
    "#     print c[1]\n",
    "#     print c[1].parent\n",
    "#     print (c[1].parent.row_num, c[1].parent.col_num)"
   ]
  },
  {
   "cell_type": "code",
   "execution_count": 22,
   "metadata": {
    "collapsed": false
   },
   "outputs": [],
   "source": [
    "# for c in list(fp)[:5]:\n",
    "#     print c\n",
    "# c = list(fp)[10]\n",
    "# error_analysis(c)\n",
    "# c = list(fp)[10]\n",
    "# part_error_analysis(c)\n",
    "# print c.temp.parent.row_num\n",
    "\n",
    "# for c in list(fp)[:5]:\n",
    "#     print c\n",
    "# print c.temp.parent.html_anc_tags"
   ]
  },
  {
   "cell_type": "code",
   "execution_count": 43,
   "metadata": {
    "collapsed": false
   },
   "outputs": [
    {
     "name": "stdout",
     "output_type": "stream",
     "text": [
      "========================================\n",
      "Scoring on Entity-Level Gold Data\n",
      "========================================\n",
      "Corpus Precision 0.801\n",
      "Corpus Recall    1.0\n",
      "Corpus F1        0.89\n",
      "----------------------------------------\n",
      "TP: 161 | FP: 40 | FN: 0\n",
      "========================================\n",
      "\n"
     ]
    }
   ],
   "source": [
    "from snorkel.models import Corpus\n",
    "from hardware_utils import entity_level_f1\n",
    "import os\n",
    "\n",
    "gold_file = os.environ['SNORKELHOME'] + '/tutorials/tables/data/hardware/hardware_gold.csv'\n",
    "corpus = session.query(Corpus).filter(Corpus.name == 'Hardware Development').one()\n",
    "(TP, FP, FN) = entity_level_f1(tp, fp, tn, fn, gold_file, corpus, 'stg_temp_min')"
   ]
  },
  {
   "cell_type": "code",
   "execution_count": 93,
   "metadata": {
    "collapsed": false
   },
   "outputs": [
    {
     "name": "stdout",
     "output_type": "stream",
     "text": [
      "[(u'DISES00023-1', u'2N3906', u'-50'),\n",
      " (u'DISES00023-1', u'2N3906', u'-75'),\n",
      " (u'FAIRS19194-1', u'BC856', u'-50'),\n",
      " (u'FAIRS19194-1', u'BC856A', u'-50'),\n",
      " (u'FAIRS19194-1', u'BC856B', u'-50'),\n",
      " (u'FAIRS19194-1', u'BC856C', u'-50'),\n",
      " (u'FAIRS19194-1', u'BC857', u'-50'),\n",
      " (u'FAIRS19194-1', u'BC857A', u'-50'),\n",
      " (u'FAIRS19194-1', u'BC857B', u'-50'),\n",
      " (u'FAIRS19194-1', u'BC857C', u'-50'),\n",
      " (u'FAIRS19194-1', u'BC858', u'-50'),\n",
      " (u'FAIRS19194-1', u'BC858A', u'-50'),\n",
      " (u'FAIRS19194-1', u'BC858B', u'-50'),\n",
      " (u'FAIRS19194-1', u'BC858C', u'-50'),\n",
      " (u'FAIRS19194-1', u'BC859', u'-50'),\n",
      " (u'FAIRS19194-1', u'BC859A', u'-50'),\n",
      " (u'FAIRS19194-1', u'BC859B', u'-50'),\n",
      " (u'FAIRS19194-1', u'BC859C', u'-50'),\n",
      " (u'FAIRS19194-1', u'BC860', u'-50'),\n",
      " (u'FAIRS19194-1', u'BC860A', u'-50'),\n",
      " (u'FAIRS19194-1', u'BC860B', u'-50'),\n",
      " (u'FAIRS19194-1', u'BC860C', u'-50'),\n",
      " (u'KECCS03676-1', u'BC856', u'-50'),\n",
      " (u'KECCS03676-1', u'BC856A', u'-50'),\n",
      " (u'KECCS03676-1', u'BC856B', u'-50'),\n",
      " (u'KECCS03676-1', u'BC857', u'-50'),\n",
      " (u'KECCS03676-1', u'BC857A', u'-50'),\n",
      " (u'KECCS03676-1', u'BC857B', u'-50'),\n",
      " (u'KECCS03676-1', u'BC857C', u'-50'),\n",
      " (u'KECCS03676-1', u'BC858', u'-50'),\n",
      " (u'KECCS03676-1', u'BC858A', u'-50'),\n",
      " (u'KECCS03676-1', u'BC858B', u'-50'),\n",
      " (u'KECCS03676-1', u'BC858C', u'-50'),\n",
      " (u'LITES00689-1', u'BC337', u'-50'),\n",
      " (u'LITES00689-1', u'BC337-16', u'-50'),\n",
      " (u'LITES00689-1', u'BC337-25', u'-50'),\n",
      " (u'LITES00689-1', u'BC337-40', u'-50'),\n",
      " (u'TWSCS04757-1', u'BC807-16', u'-50'),\n",
      " (u'TWSCS04757-1', u'BC807-25', u'-50'),\n",
      " (u'TWSCS04757-1', u'BC807-40', u'-50')]\n"
     ]
    }
   ],
   "source": [
    "from pprint import pprint\n",
    "FP_list = sorted(list(FP))\n",
    "pprint(FP_list)"
   ]
  },
  {
   "cell_type": "code",
   "execution_count": 100,
   "metadata": {
    "collapsed": true
   },
   "outputs": [],
   "source": [
    "# TODO: canonize some of these helper functions\n",
    "def entity_to_candidates(entity, candidate_subset):\n",
    "    matches = []\n",
    "    for c in candidate_subset:\n",
    "        if (c.part.parent.document.name, c.part.get_span(), c.temp.get_span()) == entity:\n",
    "            matches.append(c)\n",
    "    return matches\n",
    "\n",
    "def features_by_weight(candidate, feature_matrix, feature_weights):\n",
    "    feats = set(get_keys_by_candidate(feature_matrix, candidate))\n",
    "    return sorted([f_w for f_w in feature_weights if f_w[0] in feats], \n",
    "                  key=lambda x:abs(x[1]), reverse=True)"
   ]
  },
  {
   "cell_type": "code",
   "execution_count": 101,
   "metadata": {
    "collapsed": false
   },
   "outputs": [
    {
     "name": "stdout",
     "output_type": "stream",
     "text": [
      "(u'FAIRS19194-1', u'BC856', u'-50')\n",
      "\n",
      "Part_Temp(ImplicitSpan(\"BC856\", parent=7455, words=[0,1], position=[1]), ImplicitSpan(\"-50\", parent=88803, words=[0,0], position=[0]))\n",
      "\n",
      "[(AnnotationKey (TAB_e2_HTML_ANC_TAG_[td]), 7.748686425705095),\n",
      " (AnnotationKey (TAB_e2_HTML_ANC_TAG_[tr]), 7.748686425705095),\n",
      " (AnnotationKey (TAB_e2_HTML_ANC_TAG_[table]), 7.748686425705095),\n",
      " (AnnotationKey (TAB_e2_COL_LEMMAS_[)]), 1.3959788387068297),\n",
      " (AnnotationKey (TAB_e1_HTML_TAG_h1), 1.2742354017962279),\n",
      " (AnnotationKey (TAB_e1_HTML_ANC_TAG_[h1]), 0.5195218411003486),\n",
      " (AnnotationKey (TAB_e2_COL_LEMMAS_[:]), 0.49680486281841213),\n",
      " (AnnotationKey (TAB_e1_HTML_ANC_TAG_[html]), 0.4710099186281582),\n",
      " (AnnotationKey (TAB_e2_HTML_ANC_TAG_[body]), 0.4710099186281582),\n",
      " (AnnotationKey (TAB_e2_HTML_ANC_TAG_[html]), 0.4710099186281582),\n",
      " (AnnotationKey (TAB_e2_HTML_TAG_p), 0.4710099186281582),\n",
      " (AnnotationKey (TAB_e2_HTML_ANC_TAG_[p]), 0.4710099186281582),\n",
      " (AnnotationKey (TAB_e2_ROW_LEMMAS_[:]), 0.32175067810987884),\n",
      " (AnnotationKey (TAB_e2_HTML_ATTR_[class]), 0.2604940707864294),\n",
      " (AnnotationKey (TAB_e1_HTML_ANC_TAG_[body]), 0.2345872442248062),\n",
      " (AnnotationKey (TAB_e2_COL_LEMMAS_[(]), 0.015322415592375975)]\n"
     ]
    }
   ],
   "source": [
    "entity = sorted(list(FP))[2]\n",
    "print entity\n",
    "print\n",
    "\n",
    "matches = entity_to_candidates(entity, fp)\n",
    "candidate = matches[0]\n",
    "print candidate\n",
    "print\n",
    "\n",
    "pprint(features_by_weight(candidate, F_dev, feature_weights))"
   ]
  },
  {
   "cell_type": "code",
   "execution_count": 98,
   "metadata": {
    "collapsed": false
   },
   "outputs": [
    {
     "name": "stdout",
     "output_type": "stream",
     "text": [
      "AnnotationKey (TAB_e1_HTML_ATTR_[style])\n",
      "AnnotationKey (TAB_e1_HTML_ANC_TAG_[html])\n",
      "AnnotationKey (TAB_e1_HTML_ANC_TAG_[body])\n",
      "AnnotationKey (TAB_e2_HTML_TAG_p)\n",
      "AnnotationKey (TAB_e2_HTML_ATTR_[style])\n",
      "AnnotationKey (TAB_e2_HTML_ATTR_[class])\n",
      "AnnotationKey (TAB_e2_HTML_ANC_TAG_[html])\n",
      "AnnotationKey (TAB_e2_HTML_ANC_TAG_[body])\n",
      "AnnotationKey (TAB_e2_HTML_ANC_TAG_[p])\n",
      "AnnotationKey (TAB_e1_HTML_TAG_h1)\n",
      "AnnotationKey (TAB_e1_HTML_ANC_TAG_[h1])\n",
      "AnnotationKey (TAB_e2_HTML_ANC_TAG_[table])\n",
      "AnnotationKey (TAB_e2_HTML_ANC_TAG_[tr])\n",
      "AnnotationKey (TAB_e2_HTML_ANC_TAG_[td])\n",
      "AnnotationKey (TAB_e2_ROW_NUM_[3])\n",
      "AnnotationKey (TAB_e2_COL_NUM_[1])\n",
      "AnnotationKey (TAB_e2_COL_LEMMAS_[collector])\n",
      "AnnotationKey (TAB_e2_COL_LEMMAS_[collector current])\n",
      "AnnotationKey (TAB_e2_COL_LEMMAS_[current])\n",
      "AnnotationKey (TAB_e2_COL_LEMMAS_[:])\n",
      "AnnotationKey (TAB_e2_COL_LEMMAS_[voltage])\n",
      "AnnotationKey (TAB_e2_COL_LEMMAS_[(])\n",
      "AnnotationKey (TAB_e2_COL_LEMMAS_[)])\n",
      "AnnotationKey (TAB_e2_COL_LEMMAS_[collector-emitter])\n",
      "AnnotationKey (TAB_e2_ROW_LEMMAS_[v])\n",
      "AnnotationKey (TAB_e2_COL_LEMMAS_[-30])\n",
      "AnnotationKey (TAB_e2_COL_LEMMAS_[bc856])\n",
      "AnnotationKey (TAB_e2_ROW_LEMMAS_[:])\n",
      "AnnotationKey (TAB_e2_COL_LEMMAS_[current (])\n",
      "AnnotationKey (TAB_e2_COL_LEMMAS_[collector-base])\n",
      "AnnotationKey (TAB_e2_COL_LEMMAS_[emitter-base])\n",
      "AnnotationKey (TAB_e2_COL_LEMMAS_[dc])\n",
      "AnnotationKey (TAB_e2_COL_LEMMAS_[parameter])\n"
     ]
    }
   ],
   "source": [
    "from snorkel.utils import get_keys_by_candidate\n",
    "\n",
    "# F_train\n",
    "for f in get_keys_by_candidate(F_dev, candidate)[:]: print f"
   ]
  },
  {
   "cell_type": "code",
   "execution_count": 26,
   "metadata": {
    "collapsed": true
   },
   "outputs": [],
   "source": [
    "import os\n",
    "os.system('cp snorkel.db snorkel.db\\ final');"
   ]
  },
  {
   "cell_type": "code",
   "execution_count": 99,
   "metadata": {
    "collapsed": false
   },
   "outputs": [
    {
     "ename": "TypeError",
     "evalue": "get_feature_weights() got an unexpected keyword argument 'reverse'",
     "output_type": "error",
     "traceback": [
      "\u001b[0;31m---------------------------------------------------------------------------\u001b[0m",
      "\u001b[0;31mTypeError\u001b[0m                                 Traceback (most recent call last)",
      "\u001b[0;32m<ipython-input-99-472de71be009>\u001b[0m in \u001b[0;36m<module>\u001b[0;34m()\u001b[0m\n\u001b[1;32m      1\u001b[0m \u001b[0;32mfrom\u001b[0m \u001b[0mpprint\u001b[0m \u001b[0;32mimport\u001b[0m \u001b[0mpprint\u001b[0m\u001b[0;34m\u001b[0m\u001b[0m\n\u001b[0;32m----> 2\u001b[0;31m \u001b[0mfeature_weights\u001b[0m \u001b[0;34m=\u001b[0m \u001b[0mdisc_model\u001b[0m\u001b[0;34m.\u001b[0m\u001b[0mget_feature_weights\u001b[0m\u001b[0;34m(\u001b[0m\u001b[0mF_train\u001b[0m\u001b[0;34m,\u001b[0m \u001b[0mreverse\u001b[0m\u001b[0;34m=\u001b[0m\u001b[0mFalse\u001b[0m\u001b[0;34m)\u001b[0m\u001b[0;34m\u001b[0m\u001b[0m\n\u001b[0m",
      "\u001b[0;31mTypeError\u001b[0m: get_feature_weights() got an unexpected keyword argument 'reverse'"
     ]
    }
   ],
   "source": [
    "from pprint import pprint\n",
    "feature_weights = disc_model.get_feature_weights(F_train, reverse=False)"
   ]
  },
  {
   "cell_type": "code",
   "execution_count": 72,
   "metadata": {
    "collapsed": false
   },
   "outputs": [
    {
     "data": {
      "text/plain": [
       "AnnotationKey (TAB_e2_ROW_LEMMAS_[temperature])"
      ]
     },
     "execution_count": 72,
     "metadata": {},
     "output_type": "execute_result"
    }
   ],
   "source": [
    "feature_weights[0][0]"
   ]
  },
  {
   "cell_type": "code",
   "execution_count": 46,
   "metadata": {
    "collapsed": false
   },
   "outputs": [
    {
     "name": "stdout",
     "output_type": "stream",
     "text": [
      "[(AnnotationKey (TAB_e2_ROW_LEMMAS_[temperature]), 21.80470912655765),\n",
      " (AnnotationKey (TAB_e2_ROW_LEMMAS_[t]), 21.278126010205835),\n",
      " (AnnotationKey (TAB_e2_ROW_LEMMAS_[storage]), 17.90559549236179),\n",
      " (AnnotationKey (TAB_e2_ROW_LEMMAS_[% c]), 15.599014367520684),\n",
      " (AnnotationKey (TAB_e2_ROW_LEMMAS_[+150]), 15.167438781987517),\n",
      " (AnnotationKey (TAB_e2_ROW_LEMMAS_[stg]), 14.291424781156206),\n",
      " (AnnotationKey (TAB_e2_ROW_LEMMAS_[t stg]), 14.289430354927065),\n",
      " (AnnotationKey (TAB_e2_ROW_LEMMAS_[storage temperature]), 13.409695418499963),\n",
      " (AnnotationKey (TAB_e2_ROW_LEMMAS_[%]), 13.107554257735028),\n",
      " (AnnotationKey (TAB_e2_COL_LEMMAS_[65]), 12.947177288663257),\n",
      " (AnnotationKey (TAB_e2_ROW_LEMMAS_[c]), 12.388329038726159),\n",
      " (AnnotationKey (TAB_e2_RIGHT_LEMMAS_[+150]), 11.636808774913009),\n",
      " (AnnotationKey (TAB_e2_RIGHT_LEMMAS_[150]), 10.379317105185747),\n",
      " (AnnotationKey (TAB_e2_COL_LEMMAS_[100]), 10.130195545606679),\n",
      " (AnnotationKey (TAB_e2_RIGHT_LEMMAS_[to +150]), 9.575210481424996),\n",
      " (AnnotationKey (TAB_e2_ROW_LEMMAS_[temperature range]), 9.452458737933878),\n",
      " (AnnotationKey (TAB_e2_ROW_LEMMAS_[range]), 9.452458737933878),\n",
      " (AnnotationKey (TAB_e2_CELL_LEMMAS_[to]), 9.044462198090612),\n",
      " (AnnotationKey (TAB_e2_ROW_LEMMAS_[to]), 9.044462198090612),\n",
      " (AnnotationKey (TAB_e2_ROW_INFERRED_LEMMAS_[to]), 9.044462198090612),\n",
      " (AnnotationKey (TAB_e2_COL_INFERRED_LEMMAS_[to]), 9.044462198090612),\n",
      " (AnnotationKey (TAB_e2_CELL_LEMMAS_[+150]), 8.979572757778588),\n",
      " (AnnotationKey (TAB_e2_COL_INFERRED_LEMMAS_[+150]), 8.979572757778588),\n",
      " (AnnotationKey (TAB_e2_ROW_INFERRED_LEMMAS_[+150]), 8.979572757778588),\n",
      " (AnnotationKey (TAB_e2_RIGHT_LEMMAS_[to]), 8.832125475200039),\n",
      " (AnnotationKey (TAB_e2_ROW_LEMMAS_[t j]), 8.057467564921648),\n",
      " (AnnotationKey (TAB_e2_ROW_LEMMAS_[j]), 8.057467564921648),\n",
      " (AnnotationKey (TAB_e2_HTML_ANC_TAG_[td]), 7.748686425705095),\n",
      " (AnnotationKey (TAB_e2_HTML_ANC_TAG_[tr]), 7.748686425705095),\n",
      " (AnnotationKey (TAB_e2_HTML_ANC_TAG_[table]), 7.748686425705095),\n",
      " (AnnotationKey (TAB_e2_COL_LEMMAS_[150]), 7.62167279158624),\n",
      " (AnnotationKey (TAB_e2_ROW_LEMMAS_[to +150]), 6.9752329648295595),\n",
      " (AnnotationKey (TAB_e2_CELL_LEMMAS_[to +150]), 6.9752329648295595),\n",
      " (AnnotationKey (TAB_e2_COL_INFERRED_LEMMAS_[to +150]), 6.9752329648295595),\n",
      " (AnnotationKey (TAB_e2_ROW_INFERRED_LEMMAS_[to +150]), 6.9752329648295595),\n",
      " (AnnotationKey (TAB_e2_ROW_INFERRED_LEMMAS_[150]), 6.91956683275143),\n",
      " (AnnotationKey (TAB_e2_CELL_LEMMAS_[150]), 6.91956683275143),\n",
      " (AnnotationKey (TAB_e2_ROW_LEMMAS_[150]), 6.91956683275143),\n",
      " (AnnotationKey (TAB_e2_COL_INFERRED_LEMMAS_[150]), 6.91956683275143),\n",
      " (AnnotationKey (TAB_e2_COL_LEMMAS_[to]), 6.627911157109258),\n",
      " (AnnotationKey (TAB_e2_ROW_LEMMAS_[j ,]), 6.538813775475211),\n",
      " (AnnotationKey (TAB_e2_ROW_LEMMAS_[and]), 6.348848126710028),\n",
      " (AnnotationKey (TAB_e2_ROW_LEMMAS_[and storage]), 6.348848126710028),\n",
      " (AnnotationKey (TAB_e2_COL_NUM_[2]), 6.2055655204792215),\n",
      " (AnnotationKey (TAB_e2_LEFT_LEMMAS_[temperature]), 6.088292532992331),\n",
      " (AnnotationKey (TAB_e2_COL_LEMMAS_[+150]), 5.891477553936044),\n",
      " (AnnotationKey (TAB_e2_ROW_LEMMAS_[junction temperature]), 5.823867975735653),\n",
      " (AnnotationKey (TAB_e2_COL_LEMMAS_[80]), 5.316073850816778),\n",
      " (AnnotationKey (TAB_e2_ROW_LEMMAS_[junction]), 5.3087578577562615),\n",
      " (AnnotationKey (TAB_e2_RIGHT_LEMMAS_[to 150]), 5.02702748000472),\n",
      " (AnnotationKey (TAB_e2_COL_LEMMAS_[to +150]), 4.558681923848143),\n",
      " (AnnotationKey (TAB_e2_ROW_LEMMAS_[, t]), 4.543070466962672),\n",
      " (AnnotationKey (TAB_e2_COL_LEMMAS_[value]), 4.431274516571794),\n",
      " (AnnotationKey (TAB_e2_ROW_LEMMAS_[operating]), 4.378714217834467),\n",
      " (AnnotationKey (TAB_e2_COL_LEMMAS_[50]), 4.3252028342950055),\n",
      " (AnnotationKey (TAB_e2_ROW_NUM_[15]), 4.26238413686701),\n",
      " (AnnotationKey (TAB_e2_ROW_LEMMAS_[operating and]), 4.139862228783598),\n",
      " (AnnotationKey (TAB_e2_COL_LEMMAS_[200]), 4.032064995337745),\n",
      " (AnnotationKey (TAB_e2_COL_LEMMAS_[500]), 4.031129716452545),\n",
      " (AnnotationKey (TAB_e2_COL_LEMMAS_[45]), 3.9608657644390184)]\n"
     ]
    }
   ],
   "source": [
    "pprint(feature_weights[:60])"
   ]
  },
  {
   "cell_type": "code",
   "execution_count": 29,
   "metadata": {
    "collapsed": false
   },
   "outputs": [
    {
     "name": "stdout",
     "output_type": "stream",
     "text": [
      "1335\n",
      "0\n"
     ]
    }
   ],
   "source": [
    "fp_zetx = set()\n",
    "print(len(fn))\n",
    "for f in fn:\n",
    "    if (str(f.part.parent.document) == \"Document PNJIS00254-1\"):\n",
    "        fp_zetx.add(f)\n",
    "\n",
    "print(len(fp_zetx))"
   ]
  },
  {
   "cell_type": "code",
   "execution_count": null,
   "metadata": {
    "collapsed": false
   },
   "outputs": [],
   "source": [
    "from snorkel.utils import get_keys_by_candidate\n",
    "for a in sorted(get_keys_by_candidate(F_dev, sample)):\n",
    "    print a"
   ]
  },
  {
   "cell_type": "code",
   "execution_count": null,
   "metadata": {
    "collapsed": false
   },
   "outputs": [],
   "source": [
    "from snorkel.lf_helpers import *\n",
    "def LF_min_col(c):\n",
    "    return -1 if 'min' in get_col_ngrams(c.temp) or 'min.' in get_col_ngrams(c.temp) else 0\n",
    "\n",
    "LF_min_col(sample)"
   ]
  },
  {
   "cell_type": "markdown",
   "metadata": {},
   "source": [
    "The End."
   ]
  }
 ],
 "metadata": {
  "anaconda-cloud": {},
  "kernelspec": {
   "display_name": "Python [default]",
   "language": "python",
   "name": "python2"
  },
  "language_info": {
   "codemirror_mode": {
    "name": "ipython",
    "version": 2
   },
   "file_extension": ".py",
   "mimetype": "text/x-python",
   "name": "python",
   "nbconvert_exporter": "python",
   "pygments_lexer": "ipython2",
   "version": "2.7.10"
  }
 },
 "nbformat": 4,
 "nbformat_minor": 0
}
