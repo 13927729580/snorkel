{
 "cells": [
  {
   "cell_type": "code",
   "execution_count": 1,
   "metadata": {
    "collapsed": false
   },
   "outputs": [],
   "source": [
    "%load_ext autoreload\n",
    "%autoreload 2\n",
    "%matplotlib inline\n",
    "import os\n",
    "import sys\n",
    "# sys.path.append(os.environ['SNORKELHOME'] + '/tutorials/babble/data/')\n",
    "# os.environ['SNORKELDB'] = 'postgres://localhost:5432/babble_test_spouse'\n",
    "os.environ['SNORKELDB'] = 'postgres://localhost:5432/babble_test_bike'\n",
    "\n",
    "\n",
    "from snorkel import SnorkelSession\n",
    "session = SnorkelSession()"
   ]
  },
  {
   "cell_type": "code",
   "execution_count": 2,
   "metadata": {
    "collapsed": true
   },
   "outputs": [],
   "source": [
    "from snorkel.models import candidate_subclass\n",
    "\n",
    "# Spouse = candidate_subclass('Spouse', ['person1', 'person2'])\n",
    "# candidate_class = Spouse\n",
    "\n",
    "Biker = candidate_subclass('Biker', ['person', 'bike'])\n",
    "candidate_class = Biker"
   ]
  },
  {
   "cell_type": "code",
   "execution_count": 3,
   "metadata": {
    "collapsed": false
   },
   "outputs": [
    {
     "name": "stdout",
     "output_type": "stream",
     "text": [
      "2406\n"
     ]
    }
   ],
   "source": [
    "candidates = session.query(candidate_class).filter(candidate_class.split == 0).all()\n",
    "print(len(candidates))"
   ]
  },
  {
   "cell_type": "code",
   "execution_count": 4,
   "metadata": {
    "collapsed": true
   },
   "outputs": [],
   "source": [
    "from pprint import pprint"
   ]
  },
  {
   "cell_type": "code",
   "execution_count": 5,
   "metadata": {
    "collapsed": false
   },
   "outputs": [],
   "source": [
    "import os\n",
    "from mturk_processing import MTurkHelper\n",
    "helper = MTurkHelper(candidates, num_hits=40, workers_per_hit=3)"
   ]
  },
  {
   "cell_type": "code",
   "execution_count": 6,
   "metadata": {
    "collapsed": false,
    "scrolled": true
   },
   "outputs": [
    {
     "name": "stdout",
     "output_type": "stream",
     "text": [
      "Num HITs unique: 40\n",
      "Num HITs total: 120\n",
      "Warning: for candidate 0:179::bbox:5~~0:179::bbox:2, expected 3 responses, found 6.\n",
      "Warning: for candidate 0:208::bbox:6~~0:208::bbox:0, expected 3 responses, found 6.\n",
      "Warning: expected 160 total explanations, found 159.\n",
      "Unanimous: 99\n",
      "Majority: 33\n",
      "Bad: 27\n"
     ]
    }
   ],
   "source": [
    "output_csv_path= os.environ['SNORKELHOME'] + '/tutorials/babble/bike/data/VisualGenome_all_out.csv'\n",
    "explanations = helper.postprocess_visual(output_csv_path, verbose=False)"
   ]
  },
  {
   "cell_type": "code",
   "execution_count": 7,
   "metadata": {
    "collapsed": false
   },
   "outputs": [],
   "source": [
    "# exp_iterator = iter(explanations)"
   ]
  },
  {
   "cell_type": "code",
   "execution_count": 8,
   "metadata": {
    "collapsed": false,
    "scrolled": true
   },
   "outputs": [],
   "source": [
    "# exp = exp_iterator.next()\n",
    "# from snorkel.viewer import SentenceNgramViewer\n",
    "# print(exp.condition)\n",
    "# sv = SentenceNgramViewer([exp.candidate], session, n_per_page=3, height=150)\n",
    "# sv"
   ]
  },
  {
   "cell_type": "code",
   "execution_count": 9,
   "metadata": {
    "collapsed": false
   },
   "outputs": [
    {
     "name": "stdout",
     "output_type": "stream",
     "text": [
      "Box X barely overlaps Box Y.\n",
      "Box X and Box Y barely overlap.\n",
      "Box X is always a person and outlined in blue and Box Y is always a bicycle outlined in yellow.\n",
      "You can see the man standing up and peddling the bike.\n",
      "the boxes are perfect\n"
     ]
    }
   ],
   "source": [
    "for exp in explanations[:5]: print(exp.condition)"
   ]
  },
  {
   "cell_type": "code",
   "execution_count": 10,
   "metadata": {
    "collapsed": true
   },
   "outputs": [],
   "source": [
    "# from snorkel.contrib.babble import Explanation\n",
    "# exp = Explanation(\"person1 equals person2\", True, name='test_exp')\n",
    "# homemades = [exp]"
   ]
  },
  {
   "cell_type": "code",
   "execution_count": 11,
   "metadata": {
    "collapsed": false,
    "scrolled": false
   },
   "outputs": [
    {
     "name": "stdout",
     "output_type": "stream",
     "text": [
      "Created grammar with 441 rules\n"
     ]
    }
   ],
   "source": [
    "from snorkel.contrib.babble import Babbler\n",
    "user_lists = {}\n",
    "babbler = Babbler(mode='image', \n",
    "                  candidate_class=candidate_class, \n",
    "                  explanations=explanations)\n",
    "# babbler.apply(parallelism=1)"
   ]
  },
  {
   "cell_type": "code",
   "execution_count": 12,
   "metadata": {
    "collapsed": false,
    "scrolled": true
   },
   "outputs": [
    {
     "name": "stdout",
     "output_type": "stream",
     "text": [
      "358 parses created from 244 out of 367 explanation(s)\n"
     ]
    }
   ],
   "source": [
    "lfs = babbler.generate_lfs()"
   ]
  },
  {
   "cell_type": "raw",
   "metadata": {},
   "source": [
    "409 parses created from 242 out of 367 explanation(s)"
   ]
  },
  {
   "cell_type": "code",
   "execution_count": 13,
   "metadata": {
    "collapsed": false
   },
   "outputs": [
    {
     "name": "stdout",
     "output_type": "stream",
     "text": [
      "Filtered to 92 LFs with duplicate semantics filter (266 filtered).\n"
     ]
    }
   ],
   "source": [
    "babbler.filter_duplicate_semantics()"
   ]
  },
  {
   "cell_type": "code",
   "execution_count": 14,
   "metadata": {
    "collapsed": false
   },
   "outputs": [
    {
     "name": "stdout",
     "output_type": "stream",
     "text": [
      "Filtered to 58 LFs with consistency filter (34 filtered).\n"
     ]
    }
   ],
   "source": [
    "babbler.filter_consistency()"
   ]
  },
  {
   "cell_type": "code",
   "execution_count": 15,
   "metadata": {
    "collapsed": false,
    "scrolled": true
   },
   "outputs": [
    {
     "name": "stdout",
     "output_type": "stream",
     "text": [
      "Clearing existing...\n",
      "Running UDF...\n",
      "[========================================] 100%\n",
      "\n",
      "CPU times: user 14.4 s, sys: 1.09 s, total: 15.5 s\n",
      "Wall time: 25.4 s\n"
     ]
    },
    {
     "data": {
      "text/plain": [
       "<1037x58 sparse matrix of type '<type 'numpy.int64'>'\n",
       "\twith 37896 stored elements in Compressed Sparse Row format>"
      ]
     },
     "execution_count": 15,
     "metadata": {},
     "output_type": "execute_result"
    }
   ],
   "source": [
    "%time babbler.generate_label_matrix(split=1, parallelism=1)"
   ]
  },
  {
   "cell_type": "code",
   "execution_count": 16,
   "metadata": {
    "collapsed": false
   },
   "outputs": [],
   "source": [
    "# babbler.load_matrix(session, split=1)"
   ]
  },
  {
   "cell_type": "code",
   "execution_count": 17,
   "metadata": {
    "collapsed": false
   },
   "outputs": [
    {
     "name": "stdout",
     "output_type": "stream",
     "text": [
      "Filtered to 47 LFs with uniform signatures filter (11 filtered).\n"
     ]
    }
   ],
   "source": [
    "babbler.filter_uniform_signatures()"
   ]
  },
  {
   "cell_type": "code",
   "execution_count": 18,
   "metadata": {
    "collapsed": false
   },
   "outputs": [
    {
     "name": "stdout",
     "output_type": "stream",
     "text": [
      "Filtered to 30 LFs with duplicate signatures filter (17 filtered).\n"
     ]
    }
   ],
   "source": [
    "babbler.filter_duplicate_signatures()"
   ]
  },
  {
   "cell_type": "code",
   "execution_count": 19,
   "metadata": {
    "collapsed": false,
    "scrolled": true
   },
   "outputs": [
    {
     "data": {
      "text/plain": [
       "['return -1 if call(smaller(Box X), Box Y) else 0',\n",
       " 'return -1 if call(left(Box X), Box Y) else 0',\n",
       " \"return -1 if call(below(edge(Box X, 'bottom')), edge(Box Y, 'bottom')) else 0\",\n",
       " \"return 1 if call(near(center(Box X)), edge(Box Y, 'bottom')) else 0\",\n",
       " 'return 1 if call(taller(Box X), Box Y) else 0',\n",
       " 'return 1 if call(wider(Box Y), Box X) else 0',\n",
       " \"return -1 if call(left(center(Box X)), edge(Box Y, 'right')) else 0\",\n",
       " \"return 1 if call(near(edge(Box Y, 'bottom')), edge(Box X, 'bottom')) else 0\",\n",
       " \"return -1 if call(above(edge(Box Y, 'bottom')), edge(Box X, 'bottom')) else 0\",\n",
       " \"return 1 if call(near(edge(Box Y, 'left')), edge(Box X, 'left')) else 0\",\n",
       " \"return 1 if call(near(edge(Box Y, 'right')), edge(Box X, 'right')) else 0\",\n",
       " \"return 1 if call(left(edge(Box Y, 'right')), edge(Box X, 'right')) else 0\",\n",
       " \"return -1 if call(right(edge(Box X, 'left')), edge(Box Y, 'right')) else 0\",\n",
       " \"return 1 if call(above(edge(Box X, 'bottom')), edge(Box Y, 'bottom')) else 0\",\n",
       " 'return -1 if call(right(Box Y), Box X) else 0',\n",
       " 'return 1 if call(near(Box X), Box Y) else 0',\n",
       " 'return 1 if call(below(Box Y), Box X) else 0',\n",
       " 'return -1 if not (call(overlaps(Box X), Box Y)) else 0',\n",
       " \"return -1 if call(near(corner(Box X, 'top')), center(Box Y)) else 0\",\n",
       " 'return -1 if call(right(Box X), Box Y) else 0',\n",
       " 'return -1 if call(above(Box Y), Box X) else 0',\n",
       " 'return -1 if call(larger(Box X), Box Y) else 0',\n",
       " 'return -1 if all(map(left(Box Y), [Box X,Box Y])) else 0',\n",
       " 'return 1 if call(overlaps(Box X), Box Y) else 0',\n",
       " \"return -1 if call(below(edge(Box X, 'top')), edge(Box Y, 'bottom')) else 0\",\n",
       " 'return 1 if call(skinnier(Box Y), Box X) else 0',\n",
       " \"return -1 if call(near(edge(Box X, 'top')), edge(Box Y, 'bottom')) else 0\",\n",
       " 'return -1 if call(within(Box Y), Box X) else 0',\n",
       " \"return 1 if call(near(edge(Box X, 'top')), center(Box Y)) else 0\",\n",
       " 'return 1 if call(above(Box X), Box Y) else 0']"
      ]
     },
     "execution_count": 19,
     "metadata": {},
     "output_type": "execute_result"
    }
   ],
   "source": [
    "babbler.get_parses(translate=True)"
   ]
  },
  {
   "cell_type": "code",
   "execution_count": 20,
   "metadata": {
    "collapsed": false,
    "scrolled": true
   },
   "outputs": [
    {
     "data": {
      "text/plain": [
       "[Explanation(\"Explanation11: False, Box X is a lot smaller than Box Y.\"),\n",
       " Explanation(\"Explanation12: False, Box X is to the left of Box Y.\"),\n",
       " Explanation(\"Explanation16: False, The bottom edge of Box X is below the bottom edge of Box Y.\"),\n",
       " Explanation(\"Explanation177: True, The bottom edge of box X is at the center of box Y.\"),\n",
       " Explanation(\"Explanation18: True, Box X\", \"Box X is taller than Box Y\"),\n",
       " Explanation(\"Explanation19: True, Box Y is wider than box X\"),\n",
       " Explanation(\"Explanation202: False, The right edge of Box X is left of the center of Box Y.\"),\n",
       " Explanation(\"Explanation25: True, The bottom of box Y is at the same place as the bottom of box X.\"),\n",
       " Explanation(\"Explanation257: False, The bottom edge of box Y is just above the bottom edge of box X.\"),\n",
       " Explanation(\"Explanation262: True, The left and right edges of box Y are very close to the left and right edges of box X.\"),\n",
       " Explanation(\"Explanation262: True, The left and right edges of box Y are very close to the left and right edges of box X.\"),\n",
       " Explanation(\"Explanation262: True, The left and right edges of box Y are very close to the left and right edges of box X.\"),\n",
       " Explanation(\"Explanation29: False, The bottom right edge of Box X is just to the right of the left edge of Box Y.\"),\n",
       " Explanation(\"Explanation303: True, The bottom edge of Box X is just above the bottom edge of Box Y.\"),\n",
       " Explanation(\"Explanation31: False, Box Y is directly to the right of box X. Box X and Box Y barely overlap.\"),\n",
       " Explanation(\"Explanation33: True, Box X is centered over Box Y.\"),\n",
       " Explanation(\"Explanation34: True, box Y sits just below box X.\"),\n",
       " Explanation(\"Explanation350: False, Box Y is way to the right of box X. Box X is not overlapping box Y. Box X only slightly collides with box Y.\"),\n",
       " Explanation(\"Explanation360: False, The center of Box X is at the same point as the top left corner of Box Y.\"),\n",
       " Explanation(\"Explanation39: False, Box X is to the right of Box Y.\"),\n",
       " Explanation(\"Explanation42: False, box Y goes above box X\"),\n",
       " Explanation(\"Explanation43: False, Box X is much larger than Box Y.\"),\n",
       " Explanation(\"Explanation44: False, Box Y and box X intersect over the top left corner of box X.\"),\n",
       " Explanation(\"Explanation5: True, Box X overlaps Box Y, and they are nearly the same size.\"),\n",
       " Explanation(\"Explanation52: False, The bottom edge of Box X is only a tiny bit lower than the top edge of Box Y.\"),\n",
       " Explanation(\"Explanation57: True, Box Y is slimmer than box X\"),\n",
       " Explanation(\"Explanation6: False, The bottom edge of Box X is very close to the top edge of Box Y.\"),\n",
       " Explanation(\"Explanation75: False, Box Y is entirely enveloped by box X\"),\n",
       " Explanation(\"Explanation90: True, The center of Box X is near the top edge of Box Y.\"),\n",
       " Explanation(\"Explanation98: True, Box X is centered and slightly above Box Y.\")]"
      ]
     },
     "execution_count": 20,
     "metadata": {},
     "output_type": "execute_result"
    }
   ],
   "source": [
    "babbler.get_explanations()"
   ]
  },
  {
   "cell_type": "code",
   "execution_count": 21,
   "metadata": {
    "collapsed": false
   },
   "outputs": [
    {
     "data": {
      "text/plain": [
       "<1037x1 sparse matrix of type '<type 'numpy.int64'>'\n",
       "\twith 906 stored elements in Compressed Sparse Row format>"
      ]
     },
     "execution_count": 21,
     "metadata": {},
     "output_type": "execute_result"
    }
   ],
   "source": [
    "from snorkel.annotations import load_gold_labels\n",
    "\n",
    "L_gold_dev = load_gold_labels(session, annotator_name='gold', split=1)\n",
    "L_gold_dev"
   ]
  },
  {
   "cell_type": "code",
   "execution_count": 22,
   "metadata": {
    "collapsed": false,
    "scrolled": false
   },
   "outputs": [
    {
     "data": {
      "text/html": [
       "<div>\n",
       "<table border=\"1\" class=\"dataframe\">\n",
       "  <thead>\n",
       "    <tr style=\"text-align: right;\">\n",
       "      <th></th>\n",
       "      <th>j</th>\n",
       "      <th>Coverage</th>\n",
       "      <th>Overlaps</th>\n",
       "      <th>Conflicts</th>\n",
       "      <th>TP</th>\n",
       "      <th>FP</th>\n",
       "      <th>FN</th>\n",
       "      <th>TN</th>\n",
       "      <th>Empirical Acc.</th>\n",
       "    </tr>\n",
       "  </thead>\n",
       "  <tbody>\n",
       "    <tr>\n",
       "      <th>Explanation5_0</th>\n",
       "      <td>0</td>\n",
       "      <td>0.274831</td>\n",
       "      <td>0.274831</td>\n",
       "      <td>0.274831</td>\n",
       "      <td>154</td>\n",
       "      <td>87</td>\n",
       "      <td>0</td>\n",
       "      <td>0</td>\n",
       "      <td>0.639004</td>\n",
       "    </tr>\n",
       "    <tr>\n",
       "      <th>Explanation6_0</th>\n",
       "      <td>1</td>\n",
       "      <td>0.400193</td>\n",
       "      <td>0.400193</td>\n",
       "      <td>0.400193</td>\n",
       "      <td>0</td>\n",
       "      <td>0</td>\n",
       "      <td>84</td>\n",
       "      <td>235</td>\n",
       "      <td>0.736677</td>\n",
       "    </tr>\n",
       "    <tr>\n",
       "      <th>Explanation11_0</th>\n",
       "      <td>2</td>\n",
       "      <td>0.369335</td>\n",
       "      <td>0.369335</td>\n",
       "      <td>0.369335</td>\n",
       "      <td>0</td>\n",
       "      <td>0</td>\n",
       "      <td>68</td>\n",
       "      <td>268</td>\n",
       "      <td>0.797619</td>\n",
       "    </tr>\n",
       "    <tr>\n",
       "      <th>Explanation12_0</th>\n",
       "      <td>3</td>\n",
       "      <td>0.493732</td>\n",
       "      <td>0.493732</td>\n",
       "      <td>0.493732</td>\n",
       "      <td>0</td>\n",
       "      <td>0</td>\n",
       "      <td>98</td>\n",
       "      <td>341</td>\n",
       "      <td>0.776765</td>\n",
       "    </tr>\n",
       "    <tr>\n",
       "      <th>Explanation16_0</th>\n",
       "      <td>4</td>\n",
       "      <td>0.377049</td>\n",
       "      <td>0.377049</td>\n",
       "      <td>0.377049</td>\n",
       "      <td>0</td>\n",
       "      <td>0</td>\n",
       "      <td>15</td>\n",
       "      <td>339</td>\n",
       "      <td>0.957627</td>\n",
       "    </tr>\n",
       "    <tr>\n",
       "      <th>Explanation18_0</th>\n",
       "      <td>5</td>\n",
       "      <td>0.814851</td>\n",
       "      <td>0.814851</td>\n",
       "      <td>0.814851</td>\n",
       "      <td>202</td>\n",
       "      <td>541</td>\n",
       "      <td>0</td>\n",
       "      <td>0</td>\n",
       "      <td>0.271871</td>\n",
       "    </tr>\n",
       "    <tr>\n",
       "      <th>Explanation19_0</th>\n",
       "      <td>6</td>\n",
       "      <td>0.505304</td>\n",
       "      <td>0.505304</td>\n",
       "      <td>0.505304</td>\n",
       "      <td>109</td>\n",
       "      <td>354</td>\n",
       "      <td>0</td>\n",
       "      <td>0</td>\n",
       "      <td>0.235421</td>\n",
       "    </tr>\n",
       "    <tr>\n",
       "      <th>Explanation25_0</th>\n",
       "      <td>7</td>\n",
       "      <td>0.620058</td>\n",
       "      <td>0.620058</td>\n",
       "      <td>0.620058</td>\n",
       "      <td>184</td>\n",
       "      <td>351</td>\n",
       "      <td>0</td>\n",
       "      <td>0</td>\n",
       "      <td>0.343925</td>\n",
       "    </tr>\n",
       "    <tr>\n",
       "      <th>Explanation29_1</th>\n",
       "      <td>8</td>\n",
       "      <td>0.994214</td>\n",
       "      <td>0.994214</td>\n",
       "      <td>0.994214</td>\n",
       "      <td>0</td>\n",
       "      <td>0</td>\n",
       "      <td>210</td>\n",
       "      <td>690</td>\n",
       "      <td>0.766667</td>\n",
       "    </tr>\n",
       "    <tr>\n",
       "      <th>Explanation31_0</th>\n",
       "      <td>9</td>\n",
       "      <td>0.494696</td>\n",
       "      <td>0.494696</td>\n",
       "      <td>0.494696</td>\n",
       "      <td>0</td>\n",
       "      <td>0</td>\n",
       "      <td>103</td>\n",
       "      <td>350</td>\n",
       "      <td>0.772627</td>\n",
       "    </tr>\n",
       "    <tr>\n",
       "      <th>Explanation33_0</th>\n",
       "      <td>10</td>\n",
       "      <td>0.404050</td>\n",
       "      <td>0.404050</td>\n",
       "      <td>0.404050</td>\n",
       "      <td>118</td>\n",
       "      <td>208</td>\n",
       "      <td>0</td>\n",
       "      <td>0</td>\n",
       "      <td>0.361963</td>\n",
       "    </tr>\n",
       "    <tr>\n",
       "      <th>Explanation34_0</th>\n",
       "      <td>11</td>\n",
       "      <td>0.583414</td>\n",
       "      <td>0.583414</td>\n",
       "      <td>0.583414</td>\n",
       "      <td>181</td>\n",
       "      <td>338</td>\n",
       "      <td>0</td>\n",
       "      <td>0</td>\n",
       "      <td>0.348748</td>\n",
       "    </tr>\n",
       "    <tr>\n",
       "      <th>Explanation39_0</th>\n",
       "      <td>12</td>\n",
       "      <td>0.479267</td>\n",
       "      <td>0.479267</td>\n",
       "      <td>0.479267</td>\n",
       "      <td>0</td>\n",
       "      <td>0</td>\n",
       "      <td>96</td>\n",
       "      <td>336</td>\n",
       "      <td>0.777778</td>\n",
       "    </tr>\n",
       "    <tr>\n",
       "      <th>Explanation42_0</th>\n",
       "      <td>13</td>\n",
       "      <td>0.103182</td>\n",
       "      <td>0.103182</td>\n",
       "      <td>0.103182</td>\n",
       "      <td>0</td>\n",
       "      <td>0</td>\n",
       "      <td>0</td>\n",
       "      <td>99</td>\n",
       "      <td>1.000000</td>\n",
       "    </tr>\n",
       "    <tr>\n",
       "      <th>Explanation43_0</th>\n",
       "      <td>14</td>\n",
       "      <td>0.630665</td>\n",
       "      <td>0.630665</td>\n",
       "      <td>0.630665</td>\n",
       "      <td>0</td>\n",
       "      <td>0</td>\n",
       "      <td>142</td>\n",
       "      <td>428</td>\n",
       "      <td>0.750877</td>\n",
       "    </tr>\n",
       "    <tr>\n",
       "      <th>Explanation44_2</th>\n",
       "      <td>15</td>\n",
       "      <td>0.528447</td>\n",
       "      <td>0.528447</td>\n",
       "      <td>0.528447</td>\n",
       "      <td>0</td>\n",
       "      <td>0</td>\n",
       "      <td>122</td>\n",
       "      <td>361</td>\n",
       "      <td>0.747412</td>\n",
       "    </tr>\n",
       "    <tr>\n",
       "      <th>Explanation52_0</th>\n",
       "      <td>16</td>\n",
       "      <td>0.994214</td>\n",
       "      <td>0.994214</td>\n",
       "      <td>0.994214</td>\n",
       "      <td>0</td>\n",
       "      <td>0</td>\n",
       "      <td>210</td>\n",
       "      <td>694</td>\n",
       "      <td>0.767699</td>\n",
       "    </tr>\n",
       "    <tr>\n",
       "      <th>Explanation57_0</th>\n",
       "      <td>17</td>\n",
       "      <td>0.484089</td>\n",
       "      <td>0.484089</td>\n",
       "      <td>0.484089</td>\n",
       "      <td>96</td>\n",
       "      <td>340</td>\n",
       "      <td>0</td>\n",
       "      <td>0</td>\n",
       "      <td>0.220183</td>\n",
       "    </tr>\n",
       "    <tr>\n",
       "      <th>Explanation75_0</th>\n",
       "      <td>18</td>\n",
       "      <td>0.106075</td>\n",
       "      <td>0.106075</td>\n",
       "      <td>0.106075</td>\n",
       "      <td>0</td>\n",
       "      <td>0</td>\n",
       "      <td>7</td>\n",
       "      <td>86</td>\n",
       "      <td>0.924731</td>\n",
       "    </tr>\n",
       "    <tr>\n",
       "      <th>Explanation90_0</th>\n",
       "      <td>19</td>\n",
       "      <td>0.802314</td>\n",
       "      <td>0.802314</td>\n",
       "      <td>0.802314</td>\n",
       "      <td>199</td>\n",
       "      <td>510</td>\n",
       "      <td>0</td>\n",
       "      <td>0</td>\n",
       "      <td>0.280677</td>\n",
       "    </tr>\n",
       "    <tr>\n",
       "      <th>Explanation98_0</th>\n",
       "      <td>20</td>\n",
       "      <td>0.898746</td>\n",
       "      <td>0.898746</td>\n",
       "      <td>0.898746</td>\n",
       "      <td>210</td>\n",
       "      <td>599</td>\n",
       "      <td>0</td>\n",
       "      <td>0</td>\n",
       "      <td>0.259580</td>\n",
       "    </tr>\n",
       "    <tr>\n",
       "      <th>Explanation177_0</th>\n",
       "      <td>21</td>\n",
       "      <td>0.592093</td>\n",
       "      <td>0.592093</td>\n",
       "      <td>0.592093</td>\n",
       "      <td>167</td>\n",
       "      <td>333</td>\n",
       "      <td>0</td>\n",
       "      <td>0</td>\n",
       "      <td>0.334000</td>\n",
       "    </tr>\n",
       "    <tr>\n",
       "      <th>Explanation202_0</th>\n",
       "      <td>22</td>\n",
       "      <td>0.216008</td>\n",
       "      <td>0.216008</td>\n",
       "      <td>0.216008</td>\n",
       "      <td>0</td>\n",
       "      <td>0</td>\n",
       "      <td>9</td>\n",
       "      <td>194</td>\n",
       "      <td>0.955665</td>\n",
       "    </tr>\n",
       "    <tr>\n",
       "      <th>Explanation257_0</th>\n",
       "      <td>23</td>\n",
       "      <td>0.416586</td>\n",
       "      <td>0.416586</td>\n",
       "      <td>0.416586</td>\n",
       "      <td>0</td>\n",
       "      <td>0</td>\n",
       "      <td>29</td>\n",
       "      <td>358</td>\n",
       "      <td>0.925065</td>\n",
       "    </tr>\n",
       "    <tr>\n",
       "      <th>Explanation262_0</th>\n",
       "      <td>24</td>\n",
       "      <td>0.632594</td>\n",
       "      <td>0.632594</td>\n",
       "      <td>0.632594</td>\n",
       "      <td>175</td>\n",
       "      <td>365</td>\n",
       "      <td>0</td>\n",
       "      <td>0</td>\n",
       "      <td>0.324074</td>\n",
       "    </tr>\n",
       "    <tr>\n",
       "      <th>Explanation262_4</th>\n",
       "      <td>25</td>\n",
       "      <td>0.639344</td>\n",
       "      <td>0.639344</td>\n",
       "      <td>0.639344</td>\n",
       "      <td>173</td>\n",
       "      <td>381</td>\n",
       "      <td>0</td>\n",
       "      <td>0</td>\n",
       "      <td>0.312274</td>\n",
       "    </tr>\n",
       "    <tr>\n",
       "      <th>Explanation262_5</th>\n",
       "      <td>26</td>\n",
       "      <td>0.505304</td>\n",
       "      <td>0.505304</td>\n",
       "      <td>0.505304</td>\n",
       "      <td>107</td>\n",
       "      <td>346</td>\n",
       "      <td>0</td>\n",
       "      <td>0</td>\n",
       "      <td>0.236203</td>\n",
       "    </tr>\n",
       "    <tr>\n",
       "      <th>Explanation303_0</th>\n",
       "      <td>27</td>\n",
       "      <td>0.622951</td>\n",
       "      <td>0.622951</td>\n",
       "      <td>0.622951</td>\n",
       "      <td>195</td>\n",
       "      <td>357</td>\n",
       "      <td>0</td>\n",
       "      <td>0</td>\n",
       "      <td>0.353261</td>\n",
       "    </tr>\n",
       "    <tr>\n",
       "      <th>Explanation350_0</th>\n",
       "      <td>28</td>\n",
       "      <td>0.725169</td>\n",
       "      <td>0.725169</td>\n",
       "      <td>0.725169</td>\n",
       "      <td>0</td>\n",
       "      <td>0</td>\n",
       "      <td>56</td>\n",
       "      <td>609</td>\n",
       "      <td>0.915789</td>\n",
       "    </tr>\n",
       "    <tr>\n",
       "      <th>Explanation360_0</th>\n",
       "      <td>29</td>\n",
       "      <td>0.470588</td>\n",
       "      <td>0.470588</td>\n",
       "      <td>0.470588</td>\n",
       "      <td>0</td>\n",
       "      <td>0</td>\n",
       "      <td>128</td>\n",
       "      <td>259</td>\n",
       "      <td>0.669251</td>\n",
       "    </tr>\n",
       "  </tbody>\n",
       "</table>\n",
       "</div>"
      ],
      "text/plain": [
       "                   j  Coverage  Overlaps  Conflicts   TP   FP   FN   TN  \\\n",
       "Explanation5_0     0  0.274831  0.274831   0.274831  154   87    0    0   \n",
       "Explanation6_0     1  0.400193  0.400193   0.400193    0    0   84  235   \n",
       "Explanation11_0    2  0.369335  0.369335   0.369335    0    0   68  268   \n",
       "Explanation12_0    3  0.493732  0.493732   0.493732    0    0   98  341   \n",
       "Explanation16_0    4  0.377049  0.377049   0.377049    0    0   15  339   \n",
       "Explanation18_0    5  0.814851  0.814851   0.814851  202  541    0    0   \n",
       "Explanation19_0    6  0.505304  0.505304   0.505304  109  354    0    0   \n",
       "Explanation25_0    7  0.620058  0.620058   0.620058  184  351    0    0   \n",
       "Explanation29_1    8  0.994214  0.994214   0.994214    0    0  210  690   \n",
       "Explanation31_0    9  0.494696  0.494696   0.494696    0    0  103  350   \n",
       "Explanation33_0   10  0.404050  0.404050   0.404050  118  208    0    0   \n",
       "Explanation34_0   11  0.583414  0.583414   0.583414  181  338    0    0   \n",
       "Explanation39_0   12  0.479267  0.479267   0.479267    0    0   96  336   \n",
       "Explanation42_0   13  0.103182  0.103182   0.103182    0    0    0   99   \n",
       "Explanation43_0   14  0.630665  0.630665   0.630665    0    0  142  428   \n",
       "Explanation44_2   15  0.528447  0.528447   0.528447    0    0  122  361   \n",
       "Explanation52_0   16  0.994214  0.994214   0.994214    0    0  210  694   \n",
       "Explanation57_0   17  0.484089  0.484089   0.484089   96  340    0    0   \n",
       "Explanation75_0   18  0.106075  0.106075   0.106075    0    0    7   86   \n",
       "Explanation90_0   19  0.802314  0.802314   0.802314  199  510    0    0   \n",
       "Explanation98_0   20  0.898746  0.898746   0.898746  210  599    0    0   \n",
       "Explanation177_0  21  0.592093  0.592093   0.592093  167  333    0    0   \n",
       "Explanation202_0  22  0.216008  0.216008   0.216008    0    0    9  194   \n",
       "Explanation257_0  23  0.416586  0.416586   0.416586    0    0   29  358   \n",
       "Explanation262_0  24  0.632594  0.632594   0.632594  175  365    0    0   \n",
       "Explanation262_4  25  0.639344  0.639344   0.639344  173  381    0    0   \n",
       "Explanation262_5  26  0.505304  0.505304   0.505304  107  346    0    0   \n",
       "Explanation303_0  27  0.622951  0.622951   0.622951  195  357    0    0   \n",
       "Explanation350_0  28  0.725169  0.725169   0.725169    0    0   56  609   \n",
       "Explanation360_0  29  0.470588  0.470588   0.470588    0    0  128  259   \n",
       "\n",
       "                  Empirical Acc.  \n",
       "Explanation5_0          0.639004  \n",
       "Explanation6_0          0.736677  \n",
       "Explanation11_0         0.797619  \n",
       "Explanation12_0         0.776765  \n",
       "Explanation16_0         0.957627  \n",
       "Explanation18_0         0.271871  \n",
       "Explanation19_0         0.235421  \n",
       "Explanation25_0         0.343925  \n",
       "Explanation29_1         0.766667  \n",
       "Explanation31_0         0.772627  \n",
       "Explanation33_0         0.361963  \n",
       "Explanation34_0         0.348748  \n",
       "Explanation39_0         0.777778  \n",
       "Explanation42_0         1.000000  \n",
       "Explanation43_0         0.750877  \n",
       "Explanation44_2         0.747412  \n",
       "Explanation52_0         0.767699  \n",
       "Explanation57_0         0.220183  \n",
       "Explanation75_0         0.924731  \n",
       "Explanation90_0         0.280677  \n",
       "Explanation98_0         0.259580  \n",
       "Explanation177_0        0.334000  \n",
       "Explanation202_0        0.955665  \n",
       "Explanation257_0        0.925065  \n",
       "Explanation262_0        0.324074  \n",
       "Explanation262_4        0.312274  \n",
       "Explanation262_5        0.236203  \n",
       "Explanation303_0        0.353261  \n",
       "Explanation350_0        0.915789  \n",
       "Explanation360_0        0.669251  "
      ]
     },
     "execution_count": 22,
     "metadata": {},
     "output_type": "execute_result"
    }
   ],
   "source": [
    "babbler.label_matrix.lf_stats(session, labels=L_gold_dev)"
   ]
  },
  {
   "cell_type": "code",
   "execution_count": null,
   "metadata": {
    "collapsed": true
   },
   "outputs": [],
   "source": []
  }
 ],
 "metadata": {
  "kernelspec": {
   "display_name": "Python 2",
   "language": "python",
   "name": "python2"
  },
  "language_info": {
   "codemirror_mode": {
    "name": "ipython",
    "version": 2
   },
   "file_extension": ".py",
   "mimetype": "text/x-python",
   "name": "python",
   "nbconvert_exporter": "python",
   "pygments_lexer": "ipython2",
   "version": "2.7.13"
  }
 },
 "nbformat": 4,
 "nbformat_minor": 2
}
