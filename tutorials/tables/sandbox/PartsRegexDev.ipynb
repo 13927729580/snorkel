{
 "cells": [
  {
   "cell_type": "code",
   "execution_count": 1,
   "metadata": {
    "collapsed": false,
    "scrolled": false
   },
   "outputs": [
    {
     "name": "stdout",
     "output_type": "stream",
     "text": [
      "True\n"
     ]
    }
   ],
   "source": [
    "%load_ext autoreload\n",
    "%autoreload 2\n",
    "%matplotlib inline\n",
    "\n",
    "import os\n",
    "import sys\n",
    "sys.path.append(os.environ['SNORKELHOME'] + '/tutorials/tables/')\n",
    "snorkel_postgres = os.environ.get('SNORKELDB','').startswith('postgres')\n",
    "print snorkel_postgres\n",
    "\n",
    "PARALLEL = 30\n",
    "PARALLEL_EXTRACTION = 8"
   ]
  },
  {
   "cell_type": "markdown",
   "metadata": {},
   "source": [
    "### Parse"
   ]
  },
  {
   "cell_type": "code",
   "execution_count": 2,
   "metadata": {
    "collapsed": false
   },
   "outputs": [],
   "source": [
    "# If necessary:\n",
    "import os\n",
    "if snorkel_postgres:\n",
    "    os.environ['SNORKELDBNAME'] = 'parts_regex'\n",
    "    os.system(\"dropdb \" + os.environ['SNORKELDBNAME'])\n",
    "    os.system(\"createdb \" + os.environ['SNORKELDBNAME'])\n",
    "else:\n",
    "    try:\n",
    "        os.remove('snorkel.db')\n",
    "    except:\n",
    "        pass\n",
    "\n",
    "from snorkel import SnorkelSession\n",
    "session = SnorkelSession()"
   ]
  },
  {
   "cell_type": "code",
   "execution_count": 3,
   "metadata": {
    "collapsed": false
   },
   "outputs": [
    {
     "name": "stdout",
     "output_type": "stream",
     "text": [
      "Starting async parse...\n",
      "[========================================] 100%\n",
      "CPU times: user 292 ms, sys: 216 ms, total: 508 ms\n",
      "Wall time: 31.4 s\n",
      "Corpus (Hardware Test) contains 75 documents\n"
     ]
    }
   ],
   "source": [
    "import os\n",
    "\n",
    "docs_path = os.environ['SNORKELHOME'] + '/tutorials/tables/data/hardware/test/html/'\n",
    "pdf_path = os.environ['SNORKELHOME'] + '/tutorials/tables/data/hardware/test/pdf/'\n",
    "\n",
    "if snorkel_postgres:\n",
    "    from snorkel.async_parser import parse_corpus, HTMLParser, AsyncOmniParser\n",
    "   \n",
    "    # PARSE DEV\n",
    "    print \"Starting async parse...\"\n",
    "    doc_parser = HTMLParser()\n",
    "    context_parser = AsyncOmniParser(blacklist=['style'], flatten=['span','br'], \n",
    "                                     tabular=True, lingual=True,\n",
    "                                     visual=True, pdf_path=pdf_path)\n",
    "    %time corpus = parse_corpus(session, 'Hardware Test', docs_path,\\\n",
    "                                doc_parser, context_parser,\\\n",
    "                                max_docs=125, parallel=PARALLEL)\n",
    "    \n",
    "else:\n",
    "    from snorkel.parser import CorpusParser, HTMLParser, OmniParser\n",
    "    from snorkel.utils import get_ORM_instance\n",
    "\n",
    "    # PARSE DEV\n",
    "    print \"Starting sync parse...\"\n",
    "    doc_parser = HTMLParser(path=docs_path)\n",
    "    context_parser = OmniParser(blacklist=['style'], flatten=['span','br'], \n",
    "                                tabular=True, lingual=True,\n",
    "                                visual=True, pdf_path=pdf_path)\n",
    "    cp = CorpusParser(doc_parser, context_parser, max_docs=125)\n",
    "    %time corpus = cp.parse_corpus(name='Hardware Dev', session=session)\n",
    "\n",
    "    session.add(corpus)\n",
    "    session.commit()\n",
    "\n",
    "print \"%s contains %d documents\" % (corpus, len(corpus))"
   ]
  },
  {
   "cell_type": "code",
   "execution_count": 4,
   "metadata": {
    "collapsed": true
   },
   "outputs": [],
   "source": [
    "# If necessary:\n",
    "if not snorkel_postgres:\n",
    "    import os\n",
    "    os.system('cp snorkel.db snorkel.db\\ corpus');"
   ]
  },
  {
   "cell_type": "markdown",
   "metadata": {},
   "source": [
    "### Load"
   ]
  },
  {
   "cell_type": "code",
   "execution_count": 5,
   "metadata": {
    "collapsed": false,
    "scrolled": false
   },
   "outputs": [],
   "source": [
    "# from snorkel.models import Corpus\n",
    "# import os\n",
    "\n",
    "# os.system('cp snorkel.db\\ corpus snorkel.db');\n",
    "# from snorkel import SnorkelSession\n",
    "# session = SnorkelSession()\n",
    "\n",
    "# corpus = session.query(Corpus).filter(Corpus.name == 'Hardware Dev').one()\n",
    "# print \"%s contains %d Documents\" % (corpus, len(corpus))"
   ]
  },
  {
   "cell_type": "markdown",
   "metadata": {},
   "source": [
    "### Extraction"
   ]
  },
  {
   "cell_type": "code",
   "execution_count": 6,
   "metadata": {
    "collapsed": false,
    "scrolled": true
   },
   "outputs": [],
   "source": [
    "from snorkel.models import candidate_subclass\n",
    "from hardware_spaces import get_space\n",
    "from hardware_matchers import get_matcher\n",
    "\n",
    "Part = candidate_subclass('Part', ['part'])\n",
    "part_ngrams = get_space('part')\n",
    "dict_path = os.environ['SNORKELHOME'] +\\\n",
    "    '/tutorials/tables/data/hardware/gold_raw/digikey_part_dictionary.csv'\n",
    "part_matcher = get_matcher('part', dict_path=None)\n"
   ]
  },
  {
   "cell_type": "code",
   "execution_count": 7,
   "metadata": {
    "collapsed": true
   },
   "outputs": [],
   "source": [
    "# Attempt at alternative regex:\n",
    "# from snorkel.matchers import RegexMatchSpan, Inverse, Intersect\n",
    "# long_enough = RegexMatchSpan(rgx='[A-Z2][A-Z0-9\\-]{4,}(?:\\/(?:DG|HF))?', ignore_case=False)\n",
    "# at_least_one_number = RegexMatchSpan(rgx='[A-Z0-9\\-\\/]*[0-9][A-Z0-9\\-\\/]*', ignore_case=False)\n",
    "# at_least_one_letter = RegexMatchSpan(rgx='[A-Z0-9\\-\\/]*[A-Z][A-Z0-9\\-\\/]*', ignore_case=False) \n",
    "# bad_form = Inverse(RegexMatchSpan(rgx='(?:[A-Z]+\\d)|(?:[A-Z0-9\\-\\/]{0,2}\\-[A-Z0-9\\-\\/]*)'))\n",
    "# bad_start = Inverse(RegexMatchSpan(rgx='(?:T[O0]|SOT|BRD|FIGURE|EHP)[A-Z0-9\\-\\/]*'))\n",
    "# bad_end = Inverse(RegexMatchSpan(rgx='[A-Z0-9\\-\\/]*(TYP|MAX|MIN|BASE|HZ|MM|VDC|VDF)'))\n",
    "# part_matcher = Intersect(long_enough, at_least_one_number, at_least_one_letter, \n",
    "#                          bad_form, bad_start, bad_end)"
   ]
  },
  {
   "cell_type": "markdown",
   "metadata": {},
   "source": [
    "### Throttlers"
   ]
  },
  {
   "cell_type": "code",
   "execution_count": 8,
   "metadata": {
    "collapsed": false
   },
   "outputs": [],
   "source": [
    "# from hardware_throttlers import get_part_throttler_wrapper\n",
    "from hardware_lfs import get_lfs\n",
    "from collections import namedtuple\n",
    "\n",
    "# Option A: No throttler\n",
    "part_throttler = None\n",
    "\n",
    "# Option B: Standard throttler\n",
    "# part_throttler = get_part_throttler_wrapper()\n",
    "\n",
    "# Option C: LF-based throttler\n",
    "# FakeCandidate = namedtuple('FakeCandidate',['part','attr'])\n",
    "# parts_LFs = get_lfs('part')[:-1]\n",
    "# def part_throttler(Part):\n",
    "#     c = FakeCandidate(Part[0], None)\n",
    "#     for lf in parts_LFs:\n",
    "#         if lf(c) == -1:\n",
    "#             return False\n",
    "#     return True"
   ]
  },
  {
   "cell_type": "code",
   "execution_count": 9,
   "metadata": {
    "collapsed": false
   },
   "outputs": [],
   "source": [
    "from snorkel.candidates import CandidateExtractor\n",
    "\n",
    "ce = CandidateExtractor(Part, \n",
    "                        [part_ngrams], \n",
    "                        [part_matcher],\n",
    "                        throttler=part_throttler)"
   ]
  },
  {
   "cell_type": "code",
   "execution_count": 10,
   "metadata": {
    "collapsed": false,
    "scrolled": true
   },
   "outputs": [
    {
     "name": "stdout",
     "output_type": "stream",
     "text": [
      "[========================================] 100%\n",
      "CPU times: user 280 ms, sys: 176 ms, total: 456 ms\n",
      "Wall time: 3.76 s\n",
      "Candidate Set (Hardware Test Candidates) contains 424 Candidates\n"
     ]
    }
   ],
   "source": [
    "from snorkel.async_candidates import parallel_extract\n",
    "# %time candidates = ce.extract(corpus.documents.all(), 'Hardware Test Candidates', session)\n",
    "\n",
    "corpus_name = 'Hardware Test'\n",
    "%time candidates = parallel_extract(session, ce, corpus, \\\n",
    "                                    corpus_name + ' Candidates', \\\n",
    "                                    parallel=PARALLEL_EXTRACTION)\n",
    "print \"%s contains %d Candidates\" % (candidates, len(candidates))"
   ]
  },
  {
   "cell_type": "code",
   "execution_count": 11,
   "metadata": {
    "collapsed": true
   },
   "outputs": [],
   "source": [
    "# If necessary:\n",
    "if not snorkel_postgres:\n",
    "    import os\n",
    "    os.system('cp snorkel.db snorkel.db\\ candidates');"
   ]
  },
  {
   "cell_type": "markdown",
   "metadata": {},
   "source": [
    "### Second Pass"
   ]
  },
  {
   "cell_type": "code",
   "execution_count": 12,
   "metadata": {
    "collapsed": true
   },
   "outputs": [],
   "source": [
    "# If necessary:\n",
    "if not snorkel_postgres:\n",
    "    import os\n",
    "    os.system('cp snorkel.db\\ candidates snorkel.db');"
   ]
  },
  {
   "cell_type": "code",
   "execution_count": 13,
   "metadata": {
    "collapsed": false
   },
   "outputs": [],
   "source": [
    "# from hardware_utils import get_gold_parts_by_doc, get_manual_parts_by_doc\n",
    "# from snorkel.utils import get_ORM_instance\n",
    "# from snorkel.models import Corpus\n",
    "\n",
    "# corpus = get_ORM_instance(Corpus, session, 'Hardware Test')\n",
    "\n",
    "# # parts_by_doc = get_gold_parts_by_doc()\n",
    "# parts_by_doc = get_manual_parts_by_doc(corpus)\n",
    "# # parts_by_doc = None"
   ]
  },
  {
   "cell_type": "code",
   "execution_count": 14,
   "metadata": {
    "collapsed": true
   },
   "outputs": [],
   "source": [
    "# import cPickle as pickle\n",
    "# pickle_file = os.environ['SNORKELHOME'] + '/tutorials/tables/sandbox/parts_by_doc_test.pkl'\n",
    "\n",
    "# with open(pickle_file, 'w') as f:\n",
    "#     pickle.dump(parts_by_doc, f)"
   ]
  },
  {
   "cell_type": "code",
   "execution_count": 15,
   "metadata": {
    "collapsed": true
   },
   "outputs": [],
   "source": [
    "import cPickle as pickle\n",
    "pickle_file = os.environ['SNORKELHOME'] + '/tutorials/tables/sandbox/parts_by_doc_test.pkl'\n",
    "with open(pickle_file, 'r') as f:\n",
    "    parts_by_doc = pickle.load(f)"
   ]
  },
  {
   "cell_type": "markdown",
   "metadata": {},
   "source": [
    "### Evaluation"
   ]
  },
  {
   "cell_type": "code",
   "execution_count": 16,
   "metadata": {
    "collapsed": false
   },
   "outputs": [
    {
     "name": "stdout",
     "output_type": "stream",
     "text": [
      "226 gold parts loaded\n"
     ]
    }
   ],
   "source": [
    "from hardware_utils import get_gold_dict\n",
    "\n",
    "gold_file = os.environ['SNORKELHOME'] + '/tutorials/tables/data/hardware/test/hardware_test_gold.csv'\n",
    "gold_parts = get_gold_dict(gold_file, doc_on=True, part_on=True, val_on=False)\n",
    "print \"%d gold parts loaded\" % len(gold_parts)"
   ]
  },
  {
   "cell_type": "code",
   "execution_count": 17,
   "metadata": {
    "collapsed": false,
    "scrolled": false
   },
   "outputs": [
    {
     "name": "stdout",
     "output_type": "stream",
     "text": [
      "========================================\n",
      "Scoring on Entity-Level Gold Data\n",
      "========================================\n",
      "Corpus Precision 0.485\n",
      "Corpus Recall    0.416\n",
      "Corpus F1        0.448\n",
      "----------------------------------------\n",
      "TP: 94 | FP: 100 | FN: 132\n",
      "========================================\n",
      "\n",
      "CPU times: user 2.35 s, sys: 152 ms, total: 2.5 s\n",
      "Wall time: 3.04 s\n"
     ]
    }
   ],
   "source": [
    "from hardware_utils import parts_f1\n",
    "\n",
    "%time TP, FP, FN = parts_f1(candidates, gold_parts, parts_by_doc)"
   ]
  },
  {
   "cell_type": "code",
   "execution_count": 18,
   "metadata": {
    "collapsed": false,
    "scrolled": false
   },
   "outputs": [
    {
     "name": "stdout",
     "output_type": "stream",
     "text": [
      "[(u'BOURNSINC_TIPL761AS', u'2N2222'),\n",
      " (u'BOURNSINC_TIPL761AS', u'2N2904'),\n",
      " (u'BOURNSINC_TIPL761AS', u'BY205-400'),\n",
      " (u'CENTRALSEMICONDUCTORCORP_TIP147', u'BU426'),\n",
      " (u'CENTRALSEMICONDUCTORCORP_TIP147', u'BUV47A'),\n",
      " (u'CENTRALSEMICONDUCTORCORP_TIP147', u'CQ218-45B'),\n",
      " (u'CENTRALSEMICONDUCTORCORP_TIP147', u'CQ218-45D'),\n",
      " (u'CENTRALSEMICONDUCTORCORP_TIP147', u'CQ218-45M'),\n",
      " (u'CENTRALSEMICONDUCTORCORP_TIP147', u'CQ218-45N'),\n",
      " (u'CENTRALSEMICONDUCTORCORP_TIP147', u'CQ218I-25B'),\n",
      " (u'CENTRALSEMICONDUCTORCORP_TIP147', u'CQ218I-25D'),\n",
      " (u'CENTRALSEMICONDUCTORCORP_TIP147', u'CQ218I-25M'),\n",
      " (u'CENTRALSEMICONDUCTORCORP_TIP147', u'CQ218I-25N'),\n",
      " (u'CENTRALSEMICONDUCTORCORP_TIP147', u'CQ218I-40B'),\n",
      " (u'CENTRALSEMICONDUCTORCORP_TIP147', u'CQ218I-40D'),\n",
      " (u'CENTRALSEMICONDUCTORCORP_TIP147', u'CQ218I-40M'),\n",
      " (u'CENTRALSEMICONDUCTORCORP_TIP147', u'CQ218I-40N'),\n",
      " (u'CENTRALSEMICONDUCTORCORP_TIP147', u'CS218-35B'),\n",
      " (u'CENTRALSEMICONDUCTORCORP_TIP147', u'CS218-35D'),\n",
      " (u'CENTRALSEMICONDUCTORCORP_TIP147', u'CS218-35M'),\n",
      " (u'CENTRALSEMICONDUCTORCORP_TIP147', u'CS218-35N'),\n",
      " (u'CENTRALSEMICONDUCTORCORP_TIP147', u'CS218-35P'),\n",
      " (u'CENTRALSEMICONDUCTORCORP_TIP147', u'CS218-35PB'),\n",
      " (u'CENTRALSEMICONDUCTORCORP_TIP147', u'CS218-55B'),\n",
      " (u'CENTRALSEMICONDUCTORCORP_TIP147', u'CS218-55D'),\n",
      " (u'CENTRALSEMICONDUCTORCORP_TIP147', u'CS218-55M'),\n",
      " (u'CENTRALSEMICONDUCTORCORP_TIP147', u'CS218-55N'),\n",
      " (u'CENTRALSEMICONDUCTORCORP_TIP147', u'CS218-55P'),\n",
      " (u'CENTRALSEMICONDUCTORCORP_TIP147', u'CS218-55PB'),\n",
      " (u'CENTRALSEMICONDUCTORCORP_TIP147', u'CS218I-30B'),\n",
      " (u'CENTRALSEMICONDUCTORCORP_TIP147', u'CS218I-30D'),\n",
      " (u'CENTRALSEMICONDUCTORCORP_TIP147', u'CS218I-30M'),\n",
      " (u'CENTRALSEMICONDUCTORCORP_TIP147', u'CS218I-30N'),\n",
      " (u'CENTRALSEMICONDUCTORCORP_TIP147', u'CS218I-30P'),\n",
      " (u'CENTRALSEMICONDUCTORCORP_TIP147', u'CS218I-30PB'),\n",
      " (u'CENTRALSEMICONDUCTORCORP_TIP147', u'CS218I-50B'),\n",
      " (u'CENTRALSEMICONDUCTORCORP_TIP147', u'CS218I-50D'),\n",
      " (u'CENTRALSEMICONDUCTORCORP_TIP147', u'CS218I-50M'),\n",
      " (u'CENTRALSEMICONDUCTORCORP_TIP147', u'CS218I-50N'),\n",
      " (u'CENTRALSEMICONDUCTORCORP_TIP147', u'CS218I-50P'),\n",
      " (u'CENTRALSEMICONDUCTORCORP_TIP147', u'CS218I-50PB'),\n",
      " (u'CENTRALSEMICONDUCTORCORP_TIP147', u'TIP36'),\n",
      " (u'DIODESINCORPORATED_2DA1213Y13', u'AP02001'),\n",
      " (u'DIODESINCORPORATED_2DA1213Y13', u'AP02002'),\n",
      " (u'DIODESINCORPORATED_DXT790AP513', u'AP02001'),\n",
      " (u'DIODESINCORPORATED_DXT790AP513', u'AP02001-40'),\n",
      " (u'DIODESINCORPORATED_DXT790AP513', u'AP02001A'),\n",
      " (u'DIODESINCORPORATED_DXT790AP513', u'AP02002'),\n",
      " (u'DIODESINCORPORATED_DXT790AP513', u'AP02002-40'),\n",
      " (u'DIODESINCORPORATED_DXT790AP513', u'AP02002A'),\n",
      " (u'DIODESINCORPORATED_FCX495TC', u'AP02001'),\n",
      " (u'DIODESINCORPORATED_FCX495TC', u'AP02002'),\n",
      " (u'DIODESINCORPORATED_FCX555TA', u'AP02001'),\n",
      " (u'DIODESINCORPORATED_FCX555TA', u'AP02002'),\n",
      " (u'DIODESINCORPORATED_FCX690BTA', u'AP02001'),\n",
      " (u'DIODESINCORPORATED_FCX690BTA', u'AP02002'),\n",
      " (u'DIODESINCORPORATED_FMMT597TC', u'AP02001'),\n",
      " (u'DIODESINCORPORATED_FMMT597TC', u'AP02001A'),\n",
      " (u'DIODESINCORPORATED_FMMT597TC', u'AP02002'),\n",
      " (u'DIODESINCORPORATED_FMMT597TC', u'AP02002A'),\n",
      " (u'DIODESINCORPORATED_FMMT634QTA', u'AP02001'),\n",
      " (u'DIODESINCORPORATED_FMMT634QTA', u'AP02002'),\n",
      " (u'DIODESINCORPORATED_FMMT634QTA', u'CU100M'),\n",
      " (u'DIODESINCORPORATED_FZT758TC', u'AP02001'),\n",
      " (u'DIODESINCORPORATED_FZT758TC', u'AP02002'),\n",
      " (u'DIODESINCORPORATED_FZT758TC', u'FZT658'),\n",
      " (u'DIODESINCORPORATED_ZTX776', u'ZTX755'),\n",
      " (u'DIODESINCORPORATED_ZXTN19100CGTA', u'AP02001'),\n",
      " (u'DIODESINCORPORATED_ZXTN19100CGTA', u'AP02002'),\n",
      " (u'MICROCOMMERCIALCO_MJD32CTP', u'2SB1073'),\n",
      " (u'MICROCOMMERCIALCO_MJD32CTP', u'TIP32'),\n",
      " (u'ONSEMICONDUCTOR_BUL45D2', u'MJE210'),\n",
      " (u'ONSEMICONDUCTOR_MJE18004D2G', u'MJE210'),\n",
      " (u'ONSEMICONDUCTOR_NJVMJD127T4G', u'TIP120-TIP122'),\n",
      " (u'ONSEMICONDUCTOR_NJVMJD127T4G', u'TIP120-TIP122A'),\n",
      " (u'ONSEMICONDUCTOR_NJVMJD127T4G', u'TIP125'),\n",
      " (u'ONSEMICONDUCTOR_NJVMJD127T4G', u'TIP125-TIP127'),\n",
      " (u'ONSEMICONDUCTOR_NJVMJD127T4G', u'TIP125-TIP127A'),\n",
      " (u'ONSEMICONDUCTOR_NJVMJD127T4G', u'TIP125A'),\n",
      " (u'ONSEMICONDUCTOR_NJVMJD127T4G', u'TIP126'),\n",
      " (u'ONSEMICONDUCTOR_NJVMJD127T4G', u'TIP126A'),\n",
      " (u'ONSEMICONDUCTOR_NJVMJD127T4G', u'TIP127'),\n",
      " (u'ONSEMICONDUCTOR_NJVMJD127T4G', u'TIP127A'),\n",
      " (u'ROHMSEMICONDUCTOR_2SC5916TLQ', u'2SA2113'),\n",
      " (u'ROHMSEMICONDUCTOR_2SD1759TL', u'2SB1183'),\n",
      " (u'ROHMSEMICONDUCTOR_2SD1759TL', u'2SB1239'),\n",
      " (u'ROHMSEMICONDUCTOR_2SD2607FU6', u'2SB1668'),\n",
      " (u'SANKEN_2SC5100', u'2SA1908'),\n",
      " (u'SANKEN_2SC5100', u'2SA1908O'),\n",
      " (u'SANKEN_2SC5100', u'2SA1908Y'),\n",
      " (u'SANKEN_2SC5100', u'2SC510'),\n",
      " (u'SANKEN_2SC5100', u'2SC5100O'),\n",
      " (u'SANKEN_2SC5100', u'2SC5100Y'),\n",
      " (u'SANKEN_2SC5100', u'2SC510O'),\n",
      " (u'SANKEN_2SC5100', u'2SC510Y'),\n",
      " (u'SANKEN_2SD2082', u'2SB1382'),\n",
      " (u'SANKEN_2SD2083', u'2SB1383'),\n",
      " (u'STMICROELECTRONICS_BC14116', u'BC161-16'),\n",
      " (u'STMICROELECTRONICS_MJD2955T4', u'MJE2955T'),\n",
      " (u'STMICROELECTRONICS_MJD2955T4', u'MJE3055T')]\n"
     ]
    }
   ],
   "source": [
    "from pprint import pprint\n",
    "pprint(FP)"
   ]
  },
  {
   "cell_type": "code",
   "execution_count": 19,
   "metadata": {
    "collapsed": false
   },
   "outputs": [
    {
     "name": "stdout",
     "output_type": "stream",
     "text": [
      "[('CENTRALSEMICONDUCTORCORP_CMLT3820GTR', 'CMLT3820G'),\n",
      " ('CENTRALSEMICONDUCTORCORP_CMST2222ABK', 'CMST2222A'),\n",
      " ('CENTRALSEMICONDUCTORCORP_CMST3904BK', 'CMST3904'),\n",
      " ('CENTRALSEMICONDUCTORCORP_CMST3904BK', 'CMST3906'),\n",
      " ('CENTRALSEMICONDUCTORCORP_CXTA42TR', 'CXTA42'),\n",
      " ('CENTRALSEMICONDUCTORCORP_CXTA42TR', 'CXTA92'),\n",
      " ('CENTRALSEMICONDUCTORCORP_CZT5401EBK', 'CZT5401E'),\n",
      " ('CENTRALSEMICONDUCTORCORP_MPSA42', 'MPSA42'),\n",
      " ('CENTRALSEMICONDUCTORCORP_MPSA42', 'MPSA43'),\n",
      " ('CENTRALSEMICONDUCTORCORP_MPSA64', 'MPSA62'),\n",
      " ('CENTRALSEMICONDUCTORCORP_MPSA64', 'MPSA63'),\n",
      " ('CENTRALSEMICONDUCTORCORP_MPSA64', 'MPSA64'),\n",
      " ('CENTRALSEMICONDUCTORCORP_MPSA64', 'MPSA65'),\n",
      " ('CENTRALSEMICONDUCTORCORP_MPSA64', 'MPSA66'),\n",
      " ('CENTRALSEMICONDUCTORCORP_TIP147', 'BDV64'),\n",
      " ('CENTRALSEMICONDUCTORCORP_TIP147', 'BDV64A'),\n",
      " ('CENTRALSEMICONDUCTORCORP_TIP147', 'BDV64B'),\n",
      " ('CENTRALSEMICONDUCTORCORP_TIP147', 'BDV65'),\n",
      " ('CENTRALSEMICONDUCTORCORP_TIP147', 'BDV65A'),\n",
      " ('CENTRALSEMICONDUCTORCORP_TIP147', 'BDV65B'),\n",
      " ('CENTRALSEMICONDUCTORCORP_TIP147', 'BDW83A'),\n",
      " ('CENTRALSEMICONDUCTORCORP_TIP147', 'BDW83B'),\n",
      " ('CENTRALSEMICONDUCTORCORP_TIP147', 'BDW83C'),\n",
      " ('CENTRALSEMICONDUCTORCORP_TIP147', 'BDW84A'),\n",
      " ('CENTRALSEMICONDUCTORCORP_TIP147', 'BDW84B'),\n",
      " ('CENTRALSEMICONDUCTORCORP_TIP147', 'BDW84C'),\n",
      " ('DIODESINCORPORATED_2DA1213Y13', '2DA1213O'),\n",
      " ('DIODESINCORPORATED_2DA1213Y13', '2DA1213O-13'),\n",
      " ('DIODESINCORPORATED_2DA1213Y13', '2DA1213Y'),\n",
      " ('DIODESINCORPORATED_2DA1213Y13', '2DA1213Y-13'),\n",
      " ('DIODESINCORPORATED_2DA1213Y13', '2DA1213Y-13R'),\n",
      " ('DIODESINCORPORATED_DXT790AP513', 'DXT790AP5'),\n",
      " ('DIODESINCORPORATED_DXT790AP513', 'DXT790AP5-13'),\n",
      " ('DIODESINCORPORATED_FCX495TC', 'FCX495'),\n",
      " ('DIODESINCORPORATED_FCX495TC', 'FCX495-13R'),\n",
      " ('DIODESINCORPORATED_FCX495TC', 'FCX495TA'),\n",
      " ('DIODESINCORPORATED_FCX495TC', 'FCX495TC'),\n",
      " ('DIODESINCORPORATED_FCX555TA', 'FCX555'),\n",
      " ('DIODESINCORPORATED_FCX555TA', 'FCX555TA'),\n",
      " ('DIODESINCORPORATED_FCX690BTA', 'FCX690B'),\n",
      " ('DIODESINCORPORATED_FCX690BTA', 'FCX690B-13R'),\n",
      " ('DIODESINCORPORATED_FCX690BTA', 'FCX690BTA'),\n",
      " ('DIODESINCORPORATED_FCX705TA', 'FCX705'),\n",
      " ('DIODESINCORPORATED_FCX705TA', 'FCX705TA'),\n",
      " ('DIODESINCORPORATED_FMMT597TC', 'FMMT597'),\n",
      " ('DIODESINCORPORATED_FMMT597TC', 'FMMT597TA'),\n",
      " ('DIODESINCORPORATED_FMMT634QTA', 'FMMT634Q'),\n",
      " ('DIODESINCORPORATED_FMMT634QTA', 'FMMT634QTA'),\n",
      " ('DIODESINCORPORATED_ZXTN19100CGTA', 'ZXTN19100CG'),\n",
      " ('DIODESINCORPORATED_ZXTN19100CGTA', 'ZXTN19100CGTA'),\n",
      " ('DIODESINCORPORATED_ZXTP2008ZTA', 'ZXTP2008Z'),\n",
      " ('DIODESINCORPORATED_ZXTP2008ZTA', 'ZXTP2008ZTA'),\n",
      " ('DIODESINCORPORATED_ZXTP26020DMFTA', 'ZXTP26020DMF'),\n",
      " ('DIODESINCORPORATED_ZXTP26020DMFTA', 'ZXTP26020DMFTA'),\n",
      " ('DIODESINCORPORATED_ZXTP718MATA', 'ZXTP718MA'),\n",
      " ('DIODESINCORPORATED_ZXTP718MATA', 'ZXTP718MATA'),\n",
      " ('DIODESINCORPORATED_ZXTP718MATA', 'ZXTP718MATC'),\n",
      " ('FAIRCHILDSEMICONDUCTOR_BCX20', 'BCX20'),\n",
      " ('FAIRCHILDSEMICONDUCTOR_KSB794OSTU', 'KSB794'),\n",
      " ('FAIRCHILDSEMICONDUCTOR_KSB794OSTU', 'KSB794O'),\n",
      " ('FAIRCHILDSEMICONDUCTOR_KSB794OSTU', 'KSB794R'),\n",
      " ('FAIRCHILDSEMICONDUCTOR_KSB794OSTU', 'KSB794Y'),\n",
      " ('FAIRCHILDSEMICONDUCTOR_KSB794OSTU', 'KSB795'),\n",
      " ('FAIRCHILDSEMICONDUCTOR_KSB794OSTU', 'KSB795O'),\n",
      " ('FAIRCHILDSEMICONDUCTOR_KSB794OSTU', 'KSB795R'),\n",
      " ('FAIRCHILDSEMICONDUCTOR_KSB794OSTU', 'KSB795Y'),\n",
      " ('FAIRCHILDSEMICONDUCTOR_KSB907TU', 'KSB907'),\n",
      " ('FAIRCHILDSEMICONDUCTOR_KSC5367FTU', 'KSC5367F'),\n",
      " ('FAIRCHILDSEMICONDUCTOR_KSD1221GTU', 'KSD1221'),\n",
      " ('FAIRCHILDSEMICONDUCTOR_KSD1221GTU', 'KSD1221G'),\n",
      " ('FAIRCHILDSEMICONDUCTOR_KSD1221GTU', 'KSD1221O'),\n",
      " ('FAIRCHILDSEMICONDUCTOR_KSD1221GTU', 'KSD1221Y'),\n",
      " ('FAIRCHILDSEMICONDUCTOR_KST2484MTF', 'KST2484'),\n",
      " ('FAIRCHILDSEMICONDUCTOR_KST64MTF', 'KST63'),\n",
      " ('FAIRCHILDSEMICONDUCTOR_KST64MTF', 'KST64'),\n",
      " ('FAIRCHILDSEMICONDUCTOR_MPSA12', 'MPSA12'),\n",
      " ('FAIRCHILDSEMICONDUCTOR_TN3440A', 'TN3440A'),\n",
      " ('FAIRCHILDSEMICONDUCTOR_TN6725A', 'TN6725A'),\n",
      " ('MICROCOMMERCIALCO_MJD32CTP', 'MJD32C'),\n",
      " ('MICROCOMMERCIALCO_MPSA92AP', 'MPSA92'),\n",
      " ('MICROCOMMERCIALCO_MPSA92AP', 'MPSA92-AP'),\n",
      " ('MICROCOMMERCIALCO_MPSA92AP', 'MPSA92-AP-HF'),\n",
      " ('MICROCOMMERCIALCO_MPSA92AP', 'MPSA92-BP'),\n",
      " ('MICROCOMMERCIALCO_MPSA92AP', 'MPSA92-BP-HF'),\n",
      " ('NXPUSAINC_BUJ105AD118', 'BUJ105AD'),\n",
      " ('NXPUSAINC_PBSS4130QA', 'PBSS4130QA'),\n",
      " ('NXPUSAINC_PBSS4230QA', 'PBSS4230QA'),\n",
      " ('NXPUSAINC_PN2222A116', 'PN2222A'),\n",
      " ('NXPUSAINC_PN2222A116', 'PN2222A-AP'),\n",
      " ('ONSEMICONDUCTOR_BUL45D2', 'BUL45D2G'),\n",
      " ('ONSEMICONDUCTOR_MJE18004D2G', 'MJE18004D2G'),\n",
      " ('ONSEMICONDUCTOR_MJW3281A', 'MJW1302A'),\n",
      " ('ONSEMICONDUCTOR_MJW3281A', 'MJW1302AG'),\n",
      " ('ONSEMICONDUCTOR_MJW3281A', 'MJW3281A'),\n",
      " ('ONSEMICONDUCTOR_MJW3281A', 'MJW3281AG'),\n",
      " ('ONSEMICONDUCTOR_MMBTA06WT1G', 'MMBTA06W'),\n",
      " ('ONSEMICONDUCTOR_MMBTA06WT1G', 'MMBTA06WT1G'),\n",
      " ('ONSEMICONDUCTOR_MMBTA06WT1G', 'SMMBTA06W'),\n",
      " ('ONSEMICONDUCTOR_MMBTA06WT1G', 'SMMBTA06WT1G'),\n",
      " ('ONSEMICONDUCTOR_MMBTA06WT1G', 'SMMBTA06WT3G'),\n",
      " ('ONSEMICONDUCTOR_MMBTA92LT1G', 'MMBTA92L'),\n",
      " ('ONSEMICONDUCTOR_MMBTA92LT1G', 'MMBTA92LT1G'),\n",
      " ('ONSEMICONDUCTOR_MMBTA92LT1G', 'MMBTA92LT3G'),\n",
      " ('ONSEMICONDUCTOR_MMBTA92LT1G', 'MMBTA93L'),\n",
      " ('ONSEMICONDUCTOR_MMBTA92LT1G', 'MMBTA93LT1G'),\n",
      " ('ONSEMICONDUCTOR_MMBTA92LT1G', 'SMMBTA92L'),\n",
      " ('ONSEMICONDUCTOR_MMBTA92LT1G', 'SMMBTA92LT1G'),\n",
      " ('ONSEMICONDUCTOR_MMBTA92LT1G', 'SMMBTA92LT3G'),\n",
      " ('ONSEMICONDUCTOR_MPSA12', 'MPSA12'),\n",
      " ('ONSEMICONDUCTOR_MPSA12', 'MPSA12G'),\n",
      " ('ONSEMICONDUCTOR_MPSA12', 'MPSA12RLRA'),\n",
      " ('ONSEMICONDUCTOR_MPSA12', 'MPSA12RLRAG'),\n",
      " ('ONSEMICONDUCTOR_MPSA12', 'MPSA12RLRP'),\n",
      " ('ONSEMICONDUCTOR_MPSA12', 'MPSA12RLRPG'),\n",
      " ('ONSEMICONDUCTOR_NJVMJD127T4G', 'MJD122'),\n",
      " ('ONSEMICONDUCTOR_NJVMJD127T4G', 'MJD127'),\n",
      " ('ONSEMICONDUCTOR_NJVMJD127T4G', 'NJVMJD122'),\n",
      " ('ONSEMICONDUCTOR_NJVMJD127T4G', 'NJVMJD127'),\n",
      " ('ONSEMICONDUCTOR_NSS20600CF8T1G', 'NSS20600CF8T1G'),\n",
      " ('ONSEMICONDUCTOR_NSS40300MZ4T1G', 'NSS40300MZ4'),\n",
      " ('ONSEMICONDUCTOR_NSV12100UW3TCG', 'NSS12100UW3TCG'),\n",
      " ('ONSEMICONDUCTOR_NSV12100UW3TCG', 'NSV12100UW3TCG'),\n",
      " ('STMICROELECTRONICS_2STF2550', '2STF2550'),\n",
      " ('STMICROELECTRONICS_BUL804', 'BUL804'),\n",
      " ('STMICROELECTRONICS_D45H11FP', 'D44H11FP'),\n",
      " ('STMICROELECTRONICS_D45H11FP', 'D45H11FP'),\n",
      " ('STMICROELECTRONICS_HD1520FX', 'HD1520FX'),\n",
      " ('STMICROELECTRONICS_MJD2955T4', 'MJD2955'),\n",
      " ('STMICROELECTRONICS_MJD2955T4', 'MJD3055'),\n",
      " ('STMICROELECTRONICS_STB130051', 'STB13005'),\n",
      " ('STMICROELECTRONICS_STB130051', 'STB13005A'),\n",
      " ('STMICROELECTRONICS_STB130051', 'STB13005B')]\n"
     ]
    }
   ],
   "source": [
    "pprint(FN)"
   ]
  },
  {
   "cell_type": "code",
   "execution_count": 20,
   "metadata": {
    "collapsed": false
   },
   "outputs": [
    {
     "name": "stdout",
     "output_type": "stream",
     "text": [
      "(u'BOURNSINC_TIPL761AS', u'2N2222')\n",
      "\n",
      "# Matches: 1\n",
      "\n"
     ]
    }
   ],
   "source": [
    "from hardware_utils import entity_to_candidates\n",
    "from snorkel.lf_helpers import *\n",
    "\n",
    "entity = FP[0]\n",
    "print entity\n",
    "print\n",
    "\n",
    "matches = entity_to_candidates(entity, candidates)\n",
    "print \"# Matches: %d\" % len(matches)\n",
    "print"
   ]
  },
  {
   "cell_type": "code",
   "execution_count": 21,
   "metadata": {
    "collapsed": false
   },
   "outputs": [
    {
     "ename": "IndexError",
     "evalue": "list index out of range",
     "output_type": "error",
     "traceback": [
      "\u001b[0;31m---------------------------------------------------------------------------\u001b[0m",
      "\u001b[0;31mIndexError\u001b[0m                                Traceback (most recent call last)",
      "\u001b[0;32m<ipython-input-21-6ba6e5ade9ec>\u001b[0m in \u001b[0;36m<module>\u001b[0;34m()\u001b[0m\n\u001b[1;32m      1\u001b[0m \u001b[0;32mfrom\u001b[0m \u001b[0mhardware_utils\u001b[0m \u001b[0;32mimport\u001b[0m \u001b[0mprint_table_info\u001b[0m\u001b[0;34m\u001b[0m\u001b[0m\n\u001b[1;32m      2\u001b[0m \u001b[0;34m\u001b[0m\u001b[0m\n\u001b[0;32m----> 3\u001b[0;31m \u001b[0mcandidate\u001b[0m \u001b[0;34m=\u001b[0m \u001b[0mmatches\u001b[0m\u001b[0;34m[\u001b[0m\u001b[0;36m1\u001b[0m\u001b[0;34m]\u001b[0m\u001b[0;34m\u001b[0m\u001b[0m\n\u001b[0m\u001b[1;32m      4\u001b[0m \u001b[0;31m# print candidate\u001b[0m\u001b[0;34m\u001b[0m\u001b[0;34m\u001b[0m\u001b[0m\n\u001b[1;32m      5\u001b[0m \u001b[0;31m# print\u001b[0m\u001b[0;34m\u001b[0m\u001b[0;34m\u001b[0m\u001b[0m\n",
      "\u001b[0;31mIndexError\u001b[0m: list index out of range"
     ]
    }
   ],
   "source": [
    "from hardware_utils import print_table_info\n",
    "\n",
    "candidate = matches[1]\n",
    "# print candidate\n",
    "# print\n",
    "print_table_info(candidate.part)\n",
    "# throttler = get_part_throttler()\n",
    "# print throttler(candidate)"
   ]
  },
  {
   "cell_type": "code",
   "execution_count": null,
   "metadata": {
    "collapsed": false
   },
   "outputs": [],
   "source": [
    "c = candidates[100]\n",
    "print c\n",
    "print c.part.get_attrib_tokens('top'), c.part.get_attrib_tokens('bottom')\n",
    "from snorkel.lf_helpers import *\n",
    "print get_min_col_num(c)\n",
    "print get_max_col_num(c)\n",
    "print list(get_row_ngrams(c))\n",
    "print_table_info(c.part)\n",
    "# print list(get_vert_ngrams(c.part))"
   ]
  },
  {
   "cell_type": "code",
   "execution_count": null,
   "metadata": {
    "collapsed": false
   },
   "outputs": [],
   "source": [
    "# from snorkel.lf_helpers import *\n",
    "# c = candidates[110]\n",
    "# print c\n",
    "# get_prev_sibling_tags(c.part).count('p')"
   ]
  },
  {
   "cell_type": "markdown",
   "metadata": {},
   "source": [
    "The End."
   ]
  }
 ],
 "metadata": {
  "anaconda-cloud": {},
  "kernelspec": {
   "display_name": "Python 2",
   "language": "python",
   "name": "python2"
  },
  "language_info": {
   "codemirror_mode": {
    "name": "ipython",
    "version": 2
   },
   "file_extension": ".py",
   "mimetype": "text/x-python",
   "name": "python",
   "nbconvert_exporter": "python",
   "pygments_lexer": "ipython2",
   "version": "2.7.6"
  }
 },
 "nbformat": 4,
 "nbformat_minor": 1
}
