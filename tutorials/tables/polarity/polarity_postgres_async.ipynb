{
 "cells": [
  {
   "cell_type": "markdown",
   "metadata": {},
   "source": [
    "# polarity"
   ]
  },
  {
   "cell_type": "markdown",
   "metadata": {},
   "source": [
    "## Setup"
   ]
  },
  {
   "cell_type": "code",
   "execution_count": 1,
   "metadata": {
    "collapsed": false
   },
   "outputs": [],
   "source": [
    "%load_ext autoreload\n",
    "%autoreload 2\n",
    "%matplotlib inline\n",
    "\n",
    "import os\n",
    "import sys\n",
    "sys.path.append(os.environ['SNORKELHOME'] + '/tutorials/tables/')"
   ]
  },
  {
   "cell_type": "markdown",
   "metadata": {},
   "source": [
    "## Clearing db"
   ]
  },
  {
   "cell_type": "code",
   "execution_count": 2,
   "metadata": {
    "collapsed": false
   },
   "outputs": [],
   "source": [
    "from snorkel.models.meta import clear_database\n",
    "clear_database()"
   ]
  },
  {
   "cell_type": "markdown",
   "metadata": {},
   "source": [
    "## Parsing"
   ]
  },
  {
   "cell_type": "code",
   "execution_count": 3,
   "metadata": {
    "collapsed": true
   },
   "outputs": [],
   "source": [
    "from snorkel import SnorkelSession\n",
    "session = SnorkelSession()"
   ]
  },
  {
   "cell_type": "markdown",
   "metadata": {},
   "source": [
    "### Define Parser"
   ]
  },
  {
   "cell_type": "code",
   "execution_count": 4,
   "metadata": {
    "collapsed": false
   },
   "outputs": [
    {
     "name": "stdout",
     "output_type": "stream",
     "text": [
      "[========================================] 100%\n",
      "CPU times: user 148 ms, sys: 20 ms, total: 168 ms\n",
      "Wall time: 23.7 s\n"
     ]
    }
   ],
   "source": [
    "import os\n",
    "#from snorkel.parser import CorpusParser, HTMLParser, OmniParser\n",
    "from snorkel.async_parser import parse_corpus, HTMLParser, AsyncOmniParser\n",
    "from snorkel.utils import get_ORM_instance\n",
    "from snorkel.queries import split_corpus\n",
    "\n",
    "docs_path = os.environ['SNORKELHOME'] + '/tutorials/tables/data/hardware/hardware100_html/'\n",
    "pdf_path = os.environ['SNORKELHOME'] + '/tutorials/tables/data/hardware/hardware100_pdf/'\n",
    "doc_parser = HTMLParser()\n",
    "context_parser = AsyncOmniParser(pdf_path=pdf_path, visual=True)\n",
    "%time corpus = parse_corpus(session, 'Hardware', docs_path, doc_parser, context_parser, max_docs=100, parallel=3)"
   ]
  },
  {
   "cell_type": "markdown",
   "metadata": {},
   "source": [
    "### Run Parser"
   ]
  },
  {
   "cell_type": "code",
   "execution_count": 5,
   "metadata": {
    "collapsed": false,
    "scrolled": true
   },
   "outputs": [],
   "source": [
    "# raw_input()\n",
    "# %time corpus = cp.parse_corpus(name='Hardware', session=session)\n",
    "\n",
    "# session.add(corpus)\n",
    "# session.commit()"
   ]
  },
  {
   "cell_type": "markdown",
   "metadata": {},
   "source": [
    "### Split Corpus"
   ]
  },
  {
   "cell_type": "code",
   "execution_count": 6,
   "metadata": {
    "collapsed": false
   },
   "outputs": [
    {
     "name": "stdout",
     "output_type": "stream",
     "text": [
      "58 Documents added to corpus Hardware Training\n",
      "39 Documents added to corpus Hardware Development\n"
     ]
    }
   ],
   "source": [
    "from snorkel.models import Corpus\n",
    "\n",
    "corpus = get_ORM_instance(Corpus, session, 'Hardware')\n",
    "split_corpus(session, corpus, train=0.6, development=0.4, test=0, seed=3)"
   ]
  },
  {
   "cell_type": "markdown",
   "metadata": {},
   "source": [
    "## Extraction"
   ]
  },
  {
   "cell_type": "code",
   "execution_count": 7,
   "metadata": {
    "collapsed": false
   },
   "outputs": [],
   "source": [
    "from snorkel.models import candidate_subclass\n",
    "\n",
    "Part_Polarity = candidate_subclass('Part_Polarity', ['part','polarity'])"
   ]
  },
  {
   "cell_type": "markdown",
   "metadata": {},
   "source": [
    "### Define Matchers"
   ]
  },
  {
   "cell_type": "code",
   "execution_count": 8,
   "metadata": {
    "collapsed": true
   },
   "outputs": [],
   "source": [
    "from snorkel.matchers import RegexMatchSpan, Union\n",
    "\n",
    "eeca_matcher = RegexMatchSpan(rgx='([b]{1}[abcdefklnpqruyz]{1}[\\swxyz]?[0-9]{3,5}[\\s]?[A-Z\\/]{0,5}[0-9]?[A-Z]?([-][A-Z0-9]{1,7})?([-][A-Z0-9]{1,2})?)')\n",
    "jedec_matcher = RegexMatchSpan(rgx='([123]N\\d{3,4}[A-Z]{0,5}[0-9]?[A-Z]?)')\n",
    "jis_matcher = RegexMatchSpan(rgx='(2S[abcdefghjkmqrstvz]{1}[\\d]{2,4})')\n",
    "others_matcher = RegexMatchSpan(rgx='((NSVBC|SMBT|MJ|MJE|MPS|MRF|RCA|TIP|ZTX|ZT|TIS|TIPL|DTC|MMBT|PZT){1}[\\d]{2,4}[A-Z]{0,3}([-][A-Z0-9]{0,6})?([-][A-Z0-9]{0,1})?)')\n",
    "parts_matcher = Union(eeca_matcher, jedec_matcher, jis_matcher, others_matcher)\n",
    "\n",
    "polarity_matcher = RegexMatchSpan(rgx=r'(pnp|npn)', ignore_case=True)"
   ]
  },
  {
   "cell_type": "markdown",
   "metadata": {},
   "source": [
    "### Define ContextSpaces"
   ]
  },
  {
   "cell_type": "code",
   "execution_count": 9,
   "metadata": {
    "collapsed": false
   },
   "outputs": [],
   "source": [
    "from snorkel.candidates import OmniNgrams\n",
    "from hardware_utils import OmniNgramsPart, get_gold_dict\n",
    "from collections import defaultdict\n",
    "import os\n",
    "\n",
    "# Make parts list\n",
    "gold_file = os.environ['SNORKELHOME'] + '/tutorials/tables/data/hardware/hardware_gold.csv'\n",
    "gold_parts = get_gold_dict(gold_file, doc_on=True, part_on=True, val_on=False)\n",
    "parts_by_doc = defaultdict(set)\n",
    "for part in gold_parts:\n",
    "    parts_by_doc[part[0]].add(part[1])\n",
    "\n",
    "part_ngrams = OmniNgramsPart(n_max=3, parts_by_doc=None) # NOTE: linking is turned off\n",
    "polarity_ngrams = OmniNgrams(n_max=1)"
   ]
  },
  {
   "cell_type": "markdown",
   "metadata": {},
   "source": [
    "### Run CandidateExtractor"
   ]
  },
  {
   "cell_type": "code",
   "execution_count": 10,
   "metadata": {
    "collapsed": false
   },
   "outputs": [
    {
     "name": "stdout",
     "output_type": "stream",
     "text": [
      "Extracting Candidates from Corpus (Hardware Training)\n",
      "[========================================] 100%\n",
      "CPU times: user 6.77 s, sys: 244 ms, total: 7.01 s\n",
      "Wall time: 8.51 s\n",
      "Candidate Set (Hardware Training Candidates) contains 2935 Candidates\n",
      "Extracting Candidates from Corpus (Hardware Development)\n",
      "[========================================] 100%\n",
      "CPU times: user 4.58 s, sys: 188 ms, total: 4.77 s\n",
      "Wall time: 5.76 s\n",
      "Candidate Set (Hardware Development Candidates) contains 2058 Candidates\n"
     ]
    }
   ],
   "source": [
    "from snorkel.models import Corpus\n",
    "from snorkel.candidates import CandidateExtractor\n",
    "from snorkel.utils import get_ORM_instance\n",
    "ce = CandidateExtractor(Part_Polarity, \n",
    "                        [part_ngrams, polarity_ngrams], \n",
    "                        [parts_matcher, polarity_matcher], \n",
    "                        throttler=None)\n",
    "\n",
    "for corpus_name in ['Hardware Training', 'Hardware Development']:\n",
    "    corpus = get_ORM_instance(Corpus, session, corpus_name)\n",
    "    print \"Extracting Candidates from %s\" % corpus\n",
    "    %time candidates = ce.extract(\\\n",
    "        corpus.documents, corpus_name + ' Candidates', session)\n",
    "    session.add(candidates)\n",
    "    print \"%s contains %d Candidates\" % (candidates, len(candidates))\n",
    "session.commit()"
   ]
  },
  {
   "cell_type": "markdown",
   "metadata": {},
   "source": [
    "### Assess Recall"
   ]
  },
  {
   "cell_type": "code",
   "execution_count": 11,
   "metadata": {
    "collapsed": false
   },
   "outputs": [
    {
     "name": "stdout",
     "output_type": "stream",
     "text": [
      "Preparing candidates...\n",
      "[========================================] 100%\n",
      "========================================\n",
      "Scoring on Entity-Level Total Recall\n",
      "========================================\n",
      "Entity-level Candidates extracted: 930 \n",
      "Entity-level Gold: 843\n",
      "Intersection Candidates: 574\n",
      "----------------------------------------\n",
      "Overlap with Gold:  0.6809\n",
      "========================================\n",
      "\n"
     ]
    }
   ],
   "source": [
    "from snorkel.models import Candidate\n",
    "from hardware_utils import entity_level_total_recall\n",
    "\n",
    "all_candidates = session.query(Candidate).all()\n",
    "gold_file = os.environ['SNORKELHOME'] + '/tutorials/tables/data/hardware/hardware_gold.csv'\n",
    "(tp, fp, fn) = entity_level_total_recall(\n",
    "    all_candidates, gold_file, 'polarity', relation=True)"
   ]
  },
  {
   "cell_type": "code",
   "execution_count": 12,
   "metadata": {
    "collapsed": false
   },
   "outputs": [
    {
     "name": "stdout",
     "output_type": "stream",
     "text": [
      "set([('112823', 'BC546BG', 'NPN'),\n",
      "     ('112823', 'BC546BRL1', 'NPN'),\n",
      "     ('112823', 'BC546BRL1G', 'NPN'),\n",
      "     ('112823', 'BC546BZL1G', 'NPN'),\n",
      "     ('112823', 'BC547ARL', 'NPN'),\n",
      "     ('112823', 'BC547ARLG', 'NPN'),\n",
      "     ('112823', 'BC547AZL1G', 'NPN'),\n",
      "     ('112823', 'BC547BG', 'NPN'),\n",
      "     ('112823', 'BC547BRL1G', 'NPN'),\n",
      "     ('112823', 'BC547BZL1G', 'NPN'),\n",
      "     ('112823', 'BC547C', 'NPN'),\n",
      "     ('112823', 'BC547CG', 'NPN'),\n",
      "     ('112823', 'BC547CZL1G', 'NPN'),\n",
      "     ('112823', 'BC548BG', 'NPN'),\n",
      "     ('112823', 'BC548BRL1G', 'NPN'),\n",
      "     ('112823', 'BC548BZL1G', 'NPN'),\n",
      "     ('112823', 'BC548CG', 'NPN'),\n",
      "     ('112823', 'BC548CZL1G', 'NPN'),\n",
      "     ('2N3906-D', '2N3906G', 'PNP'),\n",
      "     ('2N3906-D', '2N3906RL1', 'PNP'),\n",
      "     ('2N3906-D', '2N3906RL1G', 'PNP'),\n",
      "     ('2N3906-D', '2N3906RLRA', 'PNP'),\n",
      "     ('2N3906-D', '2N3906RLRAG', 'PNP'),\n",
      "     ('2N3906-D', '2N3906RLRM', 'PNP'),\n",
      "     ('2N3906-D', '2N3906RLRMG', 'PNP'),\n",
      "     ('2N3906-D', '2N3906RLRP', 'PNP'),\n",
      "     ('2N3906-D', '2N3906RLRPG', 'PNP'),\n",
      "     ('2N6426-D', '2N6426G', 'NPN'),\n",
      "     ('2N6426-D', '2N6426RLRAG', 'NPN'),\n",
      "     ('2N6426-D', '2N6427G', 'NPN'),\n",
      "     ('2N6426-D', '2N6427RLRAG', 'NPN'),\n",
      "     ('BC337', 'BC337-16', 'NPN'),\n",
      "     ('BC337', 'BC337-25', 'NPN'),\n",
      "     ('BC337', 'BC337-40', 'NPN'),\n",
      "     ('BC337', 'BC338-25', 'NPN'),\n",
      "     ('BC337-D', 'BC337-025G', 'NPN'),\n",
      "     ('BC337-D', 'BC337-040G', 'NPN'),\n",
      "     ('BC337-D', 'BC337-25RL1G', 'NPN'),\n",
      "     ('BC337-D', 'BC337-25RLRAG', 'NPN'),\n",
      "     ('BC337-D', 'BC337-25ZL1G', 'NPN'),\n",
      "     ('BC337-D', 'BC337-40RL1G', 'NPN'),\n",
      "     ('BC337-D', 'BC337-40ZL1G', 'NPN'),\n",
      "     ('BC337-D', 'BC337G', 'NPN'),\n",
      "     ('BC337-D', 'BC337RL1G', 'NPN'),\n",
      "     ('BC546-D', 'BC546BG', 'NPN'),\n",
      "     ('BC546-D', 'BC546BRL1', 'NPN'),\n",
      "     ('BC546-D', 'BC546BRL1G', 'NPN'),\n",
      "     ('BC546-D', 'BC546BZL1G', 'NPN'),\n",
      "     ('BC546-D', 'BC547ARL', 'NPN'),\n",
      "     ('BC546-D', 'BC547ARLG', 'NPN'),\n",
      "     ('BC546-D', 'BC547AZL1G', 'NPN'),\n",
      "     ('BC546-D', 'BC547BG', 'NPN'),\n",
      "     ('BC546-D', 'BC547BRL1G', 'NPN'),\n",
      "     ('BC546-D', 'BC547BZL1G', 'NPN'),\n",
      "     ('BC546-D', 'BC547C', 'NPN'),\n",
      "     ('BC546-D', 'BC547CG', 'NPN'),\n",
      "     ('BC546-D', 'BC547CZL1G', 'NPN'),\n",
      "     ('BC546-D', 'BC548BG', 'NPN'),\n",
      "     ('BC546-D', 'BC548BRL1G', 'NPN'),\n",
      "     ('BC546-D', 'BC548BZL1G', 'NPN'),\n",
      "     ('BC546-D', 'BC548CG', 'NPN'),\n",
      "     ('BC546-D', 'BC548CZL1G', 'NPN'),\n",
      "     ('BC546_DIOTEC', 'BC546A', 'NPN'),\n",
      "     ('BC546_DIOTEC', 'BC546B', 'NPN'),\n",
      "     ('BC546_DIOTEC', 'BC547A', 'NPN'),\n",
      "     ('BC546_DIOTEC', 'BC547B', 'NPN'),\n",
      "     ('BC546_DIOTEC', 'BC547C', 'NPN'),\n",
      "     ('BC546_DIOTEC', 'BC548A', 'NPN'),\n",
      "     ('BC546_DIOTEC', 'BC548B', 'NPN'),\n",
      "     ('BC546_DIOTEC', 'BC548C', 'NPN'),\n",
      "     ('BC546_DIOTEC', 'BC549B', 'NPN'),\n",
      "     ('BC546_DIOTEC', 'BC549C', 'NPN'),\n",
      "     ('BC550', 'BC546A', 'NPN'),\n",
      "     ('BC550', 'BC546B', 'NPN'),\n",
      "     ('BC550', 'BC546C', 'NPN'),\n",
      "     ('BC550', 'BC547A', 'NPN'),\n",
      "     ('BC550', 'BC547B', 'NPN'),\n",
      "     ('BC550', 'BC547C', 'NPN'),\n",
      "     ('BC550', 'BC548A', 'NPN'),\n",
      "     ('BC550', 'BC548B', 'NPN'),\n",
      "     ('BC550', 'BC548C', 'NPN'),\n",
      "     ('BC550', 'BC549A', 'NPN'),\n",
      "     ('BC550', 'BC549B', 'NPN'),\n",
      "     ('BC550', 'BC549C', 'NPN'),\n",
      "     ('BC550', 'BC550A', 'NPN'),\n",
      "     ('BC550', 'BC550B', 'NPN'),\n",
      "     ('BC550', 'BC550C', 'NPN'),\n",
      "     ('BC818', 'BC817-16', 'NPN'),\n",
      "     ('BC818', 'BC817-25', 'NPN'),\n",
      "     ('BC818', 'BC817-40', 'NPN'),\n",
      "     ('BC818', 'BC818-16', 'NPN'),\n",
      "     ('BC818', 'BC818-25', 'NPN'),\n",
      "     ('BC818', 'BC818-40', 'NPN'),\n",
      "     ('BC818-40LT1-D', 'BC818-40LT1G', 'NPN'),\n",
      "     ('BC818-40LT1-D', 'NSVBC818-40LT1G', 'NPN'),\n",
      "     ('DISES00189-1', 'BC546A', 'NPN'),\n",
      "     ('DISES00189-1', 'BC546B', 'NPN'),\n",
      "     ('DISES00189-1', 'BC547A', 'NPN'),\n",
      "     ('DISES00189-1', 'BC547B', 'NPN'),\n",
      "     ('DISES00189-1', 'BC547C', 'NPN'),\n",
      "     ('DISES00189-1', 'BC548A', 'NPN'),\n",
      "     ('DISES00189-1', 'BC548B', 'NPN'),\n",
      "     ('DISES00189-1', 'BC548C', 'NPN'),\n",
      "     ('DISES00189-1', 'BC549B', 'NPN'),\n",
      "     ('DISES00189-1', 'BC549C', 'NPN'),\n",
      "     ('FAIRS19194-1', 'BC856A', 'PNP'),\n",
      "     ('FAIRS19194-1', 'BC856B', 'PNP'),\n",
      "     ('FAIRS19194-1', 'BC856C', 'PNP'),\n",
      "     ('FAIRS19194-1', 'BC857A', 'PNP'),\n",
      "     ('FAIRS19194-1', 'BC857B', 'PNP'),\n",
      "     ('FAIRS19194-1', 'BC857C', 'PNP'),\n",
      "     ('FAIRS19194-1', 'BC858A', 'PNP'),\n",
      "     ('FAIRS19194-1', 'BC858B', 'PNP'),\n",
      "     ('FAIRS19194-1', 'BC858C', 'PNP'),\n",
      "     ('FAIRS19194-1', 'BC859A', 'PNP'),\n",
      "     ('FAIRS19194-1', 'BC859B', 'PNP'),\n",
      "     ('FAIRS19194-1', 'BC859C', 'PNP'),\n",
      "     ('FAIRS19194-1', 'BC860A', 'PNP'),\n",
      "     ('FAIRS19194-1', 'BC860B', 'PNP'),\n",
      "     ('FAIRS19194-1', 'BC860C', 'PNP'),\n",
      "     ('FAIRS25065-1', 'BC237A', 'NPN'),\n",
      "     ('FAIRS25065-1', 'BC237B', 'NPN'),\n",
      "     ('FAIRS25065-1', 'BC237C', 'NPN'),\n",
      "     ('FAIRS25065-1', 'BC238A', 'NPN'),\n",
      "     ('FAIRS25065-1', 'BC238B', 'NPN'),\n",
      "     ('FAIRS25065-1', 'BC238C', 'NPN'),\n",
      "     ('FAIRS25065-1', 'BC239A', 'NPN'),\n",
      "     ('FAIRS25065-1', 'BC239B', 'NPN'),\n",
      "     ('FAIRS25065-1', 'BC239C', 'NPN'),\n",
      "     ('INFINEON-BC857SERIES_BC858SERIES_BC859SERIES_BC860SERIES-DS-V01_01-EN',\n",
      "      'BC857',\n",
      "      'PNP'),\n",
      "     ('INFINEON-BC857SERIES_BC858SERIES_BC859SERIES_BC860SERIES-DS-V01_01-EN',\n",
      "      'BC858',\n",
      "      'PNP'),\n",
      "     ('INFINEON-BC857SERIES_BC858SERIES_BC859SERIES_BC860SERIES-DS-V01_01-EN',\n",
      "      'BC859',\n",
      "      'PNP'),\n",
      "     ('INFINEON-BC857SERIES_BC858SERIES_BC859SERIES_BC860SERIES-DS-V01_01-EN',\n",
      "      'BC860',\n",
      "      'PNP'),\n",
      "     ('KECCS05435-1', 'BC546A', 'NPN'),\n",
      "     ('KECCS05435-1', 'BC546B', 'NPN'),\n",
      "     ('KECCS05435-1', 'BC547A', 'NPN'),\n",
      "     ('KECCS05435-1', 'BC547B', 'NPN'),\n",
      "     ('KECCS05435-1', 'BC547C', 'NPN'),\n",
      "     ('KECCS05435-1', 'BC548A', 'NPN'),\n",
      "     ('KECCS05435-1', 'BC548B', 'NPN'),\n",
      "     ('KECCS05435-1', 'BC548C', 'NPN'),\n",
      "     ('LITES00689-1', 'BC337-16', 'NPN'),\n",
      "     ('LITES00689-1', 'BC337-25', 'NPN'),\n",
      "     ('LITES00689-1', 'BC337-40', 'NPN'),\n",
      "     ('LITES00690-1', 'BC546A', 'NPN'),\n",
      "     ('LITES00690-1', 'BC546B', 'NPN'),\n",
      "     ('LITES00690-1', 'BC546C', 'NPN'),\n",
      "     ('LITES00690-1', 'BC547A', 'NPN'),\n",
      "     ('LITES00690-1', 'BC547B', 'NPN'),\n",
      "     ('LITES00690-1', 'BC547C', 'NPN'),\n",
      "     ('LITES00690-1', 'BC548A', 'NPN'),\n",
      "     ('LITES00690-1', 'BC548B', 'NPN'),\n",
      "     ('LITES00690-1', 'BC548C', 'NPN'),\n",
      "     ('LTSCS02910-1', 'BC818-25', 'NPN'),\n",
      "     ('LTSCS02910-1', 'BC818-40', 'NPN'),\n",
      "     ('LTSCS02912-1', 'BC846AW', 'NPN'),\n",
      "     ('LTSCS02912-1', 'BC846BW', 'NPN'),\n",
      "     ('LTSCS02920-1', 'BC857B', 'PNP'),\n",
      "     ('LTSCS02920-1', 'BC857C', 'PNP'),\n",
      "     ('MOTOS03160-1', 'BC182A', 'NPN'),\n",
      "     ('MOTOS03160-1', 'BC182B', 'NPN'),\n",
      "     ('MOTOS03189-1', 'BC337-16', 'NPN'),\n",
      "     ('MOTOS03189-1', 'BC337-25', 'NPN'),\n",
      "     ('MOTOS03189-1', 'BC337-40', 'NPN'),\n",
      "     ('MOTOS03189-1', 'BC338-16', 'NPN'),\n",
      "     ('MOTOS03189-1', 'BC338-25', 'NPN'),\n",
      "     ('MOTOS03189-1', 'BC338-40', 'NPN'),\n",
      "     ('ONSMS04099-1', 'BC237A', 'NPN'),\n",
      "     ('ONSMS04099-1', 'BC237B', 'NPN'),\n",
      "     ('ONSMS04099-1', 'BC237C', 'NPN'),\n",
      "     ('ONSMS04099-1', 'BC239C', 'NPN'),\n",
      "     ('PHGLS20125-1', 'BC327', 'PNP'),\n",
      "     ('PHGLS20125-1', 'BC327-16', 'PNP'),\n",
      "     ('PHGLS20125-1', 'BC327-25', 'PNP'),\n",
      "     ('PHGLS20125-1', 'BC327-40', 'PNP'),\n",
      "     ('PHGLS20125-1', 'BC807', 'PNP'),\n",
      "     ('PHGLS20125-1', 'BC807-16', 'PNP'),\n",
      "     ('PHGLS20125-1', 'BC807-16W', 'PNP'),\n",
      "     ('PHGLS20125-1', 'BC807-25', 'PNP'),\n",
      "     ('PHGLS20125-1', 'BC807-25W', 'PNP'),\n",
      "     ('PHGLS20125-1', 'BC807-40', 'PNP'),\n",
      "     ('PHGLS20125-1', 'BC807-40W', 'PNP'),\n",
      "     ('PHGLS20125-1', 'BC807W', 'PNP'),\n",
      "     ('PHGLS20126-1', 'BC337', 'NPN'),\n",
      "     ('PHGLS20126-1', 'BC337-16', 'NPN'),\n",
      "     ('PHGLS20126-1', 'BC337-25', 'NPN'),\n",
      "     ('PHGLS20126-1', 'BC337-40', 'NPN'),\n",
      "     ('PHGLS20126-1', 'BC817', 'NPN'),\n",
      "     ('PHGLS20126-1', 'BC817-16', 'NPN'),\n",
      "     ('PHGLS20126-1', 'BC817-16W', 'NPN'),\n",
      "     ('PHGLS20126-1', 'BC817-25', 'NPN'),\n",
      "     ('PHGLS20126-1', 'BC817-25W', 'NPN'),\n",
      "     ('PHGLS20126-1', 'BC817-40', 'NPN'),\n",
      "     ('PHGLS20126-1', 'BC817-40W', 'NPN'),\n",
      "     ('PHGLS20126-1', 'BC817W', 'NPN'),\n",
      "     ('PHGLS25601-1', 'BC846A', 'NPN'),\n",
      "     ('PHGLS25601-1', 'BC846AT', 'NPN'),\n",
      "     ('PHGLS25601-1', 'BC846AW', 'NPN'),\n",
      "     ('PHGLS25601-1', 'BC846B', 'NPN'),\n",
      "     ('PHGLS25601-1', 'BC846BT', 'NPN'),\n",
      "     ('PHGLS25601-1', 'BC846BW', 'NPN'),\n",
      "     ('PJECS00521-1', 'MMBT3904', 'NPN'),\n",
      "     ('SAMSD00049-518', 'BC546', 'NPN'),\n",
      "     ('SAMSD00049-518', 'BC546A', 'NPN'),\n",
      "     ('SAMSD00049-518', 'BC546B', 'NPN'),\n",
      "     ('SAMSD00049-518', 'BC546C', 'NPN'),\n",
      "     ('SAMSD00049-518', 'BC547', 'NPN'),\n",
      "     ('SAMSD00049-518', 'BC547A', 'NPN'),\n",
      "     ('SAMSD00049-518', 'BC547B', 'NPN'),\n",
      "     ('SAMSD00049-518', 'BC547C', 'NPN'),\n",
      "     ('SAMSD00049-518', 'BC548', 'NPN'),\n",
      "     ('SAMSD00049-518', 'BC548A', 'NPN'),\n",
      "     ('SAMSD00049-518', 'BC548B', 'NPN'),\n",
      "     ('SAMSD00049-518', 'BC548C', 'NPN'),\n",
      "     ('SAMSD00049-518', 'BC549', 'NPN'),\n",
      "     ('SAMSD00049-518', 'BC549A', 'NPN'),\n",
      "     ('SAMSD00049-518', 'BC549B', 'NPN'),\n",
      "     ('SAMSD00049-518', 'BC549C', 'NPN'),\n",
      "     ('SAMSD00049-518', 'BC550', 'NPN'),\n",
      "     ('SAMSD00049-518', 'BC550A', 'NPN'),\n",
      "     ('SAMSD00049-518', 'BC550B', 'NPN'),\n",
      "     ('SAMSD00049-518', 'BC550C', 'NPN'),\n",
      "     ('SIEMS01215-1', 'BC856', 'PNP'),\n",
      "     ('SIEMS01215-1', 'BC856A', 'PNP'),\n",
      "     ('SIEMS01215-1', 'BC856B', 'PNP'),\n",
      "     ('SIEMS01215-1', 'BC857', 'PNP'),\n",
      "     ('SIEMS01215-1', 'BC857A', 'PNP'),\n",
      "     ('SIEMS01215-1', 'BC857B', 'PNP'),\n",
      "     ('SIEMS01215-1', 'BC857C', 'PNP'),\n",
      "     ('SIEMS01215-1', 'BC858', 'PNP'),\n",
      "     ('SIEMS01215-1', 'BC858A', 'PNP'),\n",
      "     ('SIEMS01215-1', 'BC858B', 'PNP'),\n",
      "     ('SIEMS01215-1', 'BC858C', 'PNP'),\n",
      "     ('SIEMS01215-1', 'BC859', 'PNP'),\n",
      "     ('SIEMS01215-1', 'BC859A', 'PNP'),\n",
      "     ('SIEMS01215-1', 'BC859B', 'PNP'),\n",
      "     ('SIEMS01215-1', 'BC859C', 'PNP'),\n",
      "     ('SIEMS01215-1', 'BC860', 'PNP'),\n",
      "     ('SIEMS01215-1', 'BC860B', 'PNP'),\n",
      "     ('SIEMS01215-1', 'BC860C', 'PNP'),\n",
      "     ('UTCLS02155-1', 'BC807', 'PNP'),\n",
      "     ('UTCLS02155-1', 'BC807-16', 'PNP'),\n",
      "     ('UTCLS02155-1', 'BC807-25', 'PNP'),\n",
      "     ('UTCLS02155-1', 'BC807-40', 'PNP'),\n",
      "     ('UTCLS02155-1', 'BC808', 'PNP'),\n",
      "     ('UTCLS02155-1', 'BC808-16', 'PNP'),\n",
      "     ('UTCLS02155-1', 'BC808-25', 'PNP'),\n",
      "     ('UTCLS02155-1', 'BC808-40', 'PNP'),\n",
      "     ('VISHS23888-1', 'BC546A', 'NPN'),\n",
      "     ('VISHS23888-1', 'BC546B', 'NPN'),\n",
      "     ('VISHS23888-1', 'BC547A', 'NPN'),\n",
      "     ('VISHS23888-1', 'BC547B', 'NPN'),\n",
      "     ('VISHS23888-1', 'BC547C', 'NPN'),\n",
      "     ('VISHS23888-1', 'BC548A', 'NPN'),\n",
      "     ('VISHS23888-1', 'BC548B', 'NPN'),\n",
      "     ('VISHS23888-1', 'BC548C', 'NPN'),\n",
      "     ('VISHS23888-1', 'BC549B', 'NPN'),\n",
      "     ('VISHS23888-1', 'BC549C', 'NPN'),\n",
      "     ('VSMIS00373-1', 'BC337-16', 'NPN'),\n",
      "     ('VSMIS00373-1', 'BC337-25', 'NPN'),\n",
      "     ('VSMIS00373-1', 'BC337-40', 'NPN'),\n",
      "     ('VSMIS00373-1', 'BC338-16', 'NPN'),\n",
      "     ('VSMIS00373-1', 'BC338-25', 'NPN'),\n",
      "     ('VSMIS00373-1', 'BC338-40', 'NPN'),\n",
      "     ('WEILS00082-1', 'BC857C', 'PNP'),\n",
      "     ('WEILS00082-1', 'BC858B', 'PNP'),\n",
      "     ('WEILS00082-1', 'BC858C', 'PNP'),\n",
      "     ('WEILS00082-1', 'BC859B', 'PNP'),\n",
      "     ('WEILS00082-1', 'BC859C', 'PNP')])\n",
      "269\n"
     ]
    }
   ],
   "source": [
    "from pprint import pprint\n",
    "pprint(fn)\n",
    "print len(fn)"
   ]
  },
  {
   "cell_type": "markdown",
   "metadata": {},
   "source": [
    "## Gold Labels"
   ]
  },
  {
   "cell_type": "code",
   "execution_count": 13,
   "metadata": {
    "collapsed": false
   },
   "outputs": [
    {
     "name": "stdout",
     "output_type": "stream",
     "text": [
      "Loading 2935 candidate labels\n",
      "[========================================] 100%\n",
      "CPU times: user 7.12 s, sys: 204 ms, total: 7.32 s\n",
      "Wall time: 8.31 s\n",
      "2256/2935 Candidates in Candidate Set (Hardware Training Candidates) have positive Labels\n",
      "Loading 2058 candidate labels\n",
      "[========================================] 100%\n",
      "CPU times: user 4.78 s, sys: 148 ms, total: 4.92 s\n",
      "Wall time: 5.63 s\n",
      "1680/2058 Candidates in Candidate Set (Hardware Development Candidates) have positive Labels\n"
     ]
    }
   ],
   "source": [
    "import os\n",
    "from snorkel.models import CandidateSet\n",
    "from hardware_utils import load_hardware_labels\n",
    "\n",
    "gold_file = os.environ['SNORKELHOME'] + '/tutorials/tables/data/hardware/hardware_gold.csv'\n",
    "for set_name in ['Training', 'Development']:\n",
    "    candidate_set_name = 'Hardware %s Candidates' % set_name\n",
    "    candidates = session.query(CandidateSet).filter(\n",
    "        CandidateSet.name == candidate_set_name).one()\n",
    "    label_set_name = 'Hardware %s Candidates -- Gold' % set_name\n",
    "    annotation_key_name = 'Hardware %s Labels -- Gold' % set_name\n",
    "    %time gold_candidates, annotation_key = load_hardware_labels(session,\\\n",
    "                           label_set_name, \\\n",
    "                           annotation_key_name, \\\n",
    "                           candidates, \\\n",
    "                           gold_file, \\\n",
    "                           'polarity')\n",
    "    candidates_gold = session.query(CandidateSet).filter(\n",
    "        CandidateSet.name == candidate_set_name + ' -- Gold').one()\n",
    "    print \"%d/%d Candidates in %s have positive Labels\" % (\n",
    "        len(candidates_gold), len(candidates), candidates)"
   ]
  },
  {
   "cell_type": "markdown",
   "metadata": {},
   "source": [
    "### Assess Baseline Performance"
   ]
  },
  {
   "cell_type": "code",
   "execution_count": 14,
   "metadata": {
    "collapsed": false
   },
   "outputs": [],
   "source": [
    "# from snorkel.models import Corpus, Candidate\n",
    "# from snorkel.utils import get_ORM_instance\n",
    "# from snorkel.lf_helpers import *\n",
    "# from hardware_utils import entity_level_f1\n",
    "# from itertools import chain\n",
    "\n",
    "# def LF_all_true(c):\n",
    "#     return True\n",
    "\n",
    "# def LF_complement_nearby(c):\n",
    "#     return 1 if set(['complement','complementary']).isdisjoint(\n",
    "#         chain.from_iterable(\n",
    "#             [get_phrase_ngrams(c.part), \n",
    "#              get_phrase_ngrams(c.polarity),\n",
    "#              get_neighbor_phrase_ngrams(c.polarity)])) else 0\n",
    "\n",
    "# candidates = session.query(Candidate).all()\n",
    "# (tp, fp, tn, fn) = baseline(candidates, LF_complement_nearby)\n",
    "\n",
    "# corpus = get_ORM_instance(Corpus, session, 'Hardware')\n",
    "# gold_file = os.environ['SNORKELHOME'] + '/tutorials/tables/data/hardware/hardware_gold.csv'\n",
    "# (TP, FP, FN) = entity_level_f1(tp, fp, tn, fn, gold_file, corpus, 'polarity')"
   ]
  },
  {
   "cell_type": "code",
   "execution_count": 15,
   "metadata": {
    "collapsed": false
   },
   "outputs": [],
   "source": [
    "# from pprint import pprint\n",
    "# pprint(FP)"
   ]
  },
  {
   "cell_type": "code",
   "execution_count": 16,
   "metadata": {
    "collapsed": false
   },
   "outputs": [],
   "source": [
    "# pprint(FN)"
   ]
  },
  {
   "cell_type": "code",
   "execution_count": 17,
   "metadata": {
    "collapsed": false
   },
   "outputs": [],
   "source": [
    "# from hardware_utils import entity_to_candidates\n",
    "\n",
    "# print len(candidates)\n",
    "# matches = entity_to_candidates((u'SIEMS01215-1', u'BC856', u'NPN'), candidates)\n",
    "# c = matches[0]\n",
    "# print c"
   ]
  },
  {
   "cell_type": "code",
   "execution_count": null,
   "metadata": {
    "collapsed": false
   },
   "outputs": [],
   "source": [
    "# from snorkel.models import ImplicitSpan\n",
    "# from snorkel.lf_helpers import *\n",
    "# phrases = []\n",
    "# print list(get_neighbor_phrase_ngrams(c.polarity))\n",
    "# print c.polarity.parent\n",
    "# print phrases\n",
    "# print \"SPAN_TYPE_[%s]\" % ('IMPLICIT' if isinstance(c.polarity, ImplicitSpan) else 'EXPLICIT')\n",
    "# # list(get_phrase_ngrams(c.polarity))"
   ]
  },
  {
   "cell_type": "markdown",
   "metadata": {},
   "source": [
    "## Features"
   ]
  },
  {
   "cell_type": "markdown",
   "metadata": {},
   "source": [
    "### Extract Features"
   ]
  },
  {
   "cell_type": "code",
   "execution_count": null,
   "metadata": {
    "collapsed": false
   },
   "outputs": [
    {
     "name": "stdout",
     "output_type": "stream",
     "text": [
      "[========================================] 100%\n",
      "CPU times: user 2.56 s, sys: 48 ms, total: 2.6 s\n",
      "Wall time: 26.5 s\n",
      "[==============================          ] 73%"
     ]
    }
   ],
   "source": [
    "from snorkel.models import CandidateSet\n",
    "from snorkel.async_annotations import annotate\n",
    "from snorkel.utils import get_ORM_instance\n",
    "\n",
    "# Run batch extraction jobs\n",
    "train = get_ORM_instance(CandidateSet, session, 'Hardware Training Candidates')\n",
    "dev   = get_ORM_instance(CandidateSet, session, 'Hardware Development Candidates')\n",
    "\n",
    "%time F_train = annotate(train, parallel=4)\n",
    "%time F_dev = annotate(dev, parallel=4, keyset = 'Hardware Training Candidates')\n",
    "\n",
    "print 'Training features hash:', hash(frozenset(F_train.keys)),'of length', len(F_train.keys)"
   ]
  },
  {
   "cell_type": "code",
   "execution_count": null,
   "metadata": {
    "collapsed": false
   },
   "outputs": [],
   "source": [
    "# from snorkel.models import CandidateSet\n",
    "# from snorkel.fast_annotations import FeatureManager\n",
    "# from snorkel.utils import get_ORM_instance\n",
    "\n",
    "# train = get_ORM_instance(CandidateSet, session, 'Hardware Training Candidates')\n",
    "# dev   = get_ORM_instance(CandidateSet, session, 'Hardware Development Candidates')\n",
    "\n",
    "# feature_manager = FeatureManager()\n",
    "# %time F_train_sync = feature_manager.create(session, train, 'Train Features')\n",
    "# %time F_dev_sync = feature_manager.update(session, dev, 'Train Features', expand_key_set=False)\n",
    "# print F_train_sync.shape\n",
    "# # Integrity check for async against original feature extractor\n",
    "# from snorkel.models.annotation import AnnotationKeySet\n",
    "# sync_keyset = session.query(AnnotationKeySet).filter(AnnotationKeySet.name=='Train Features').one()\n",
    "# print 'Async extractor extracted the same set of features as the original impl:',set(key.name for key in sync_keyset) == set(F_train.keys)"
   ]
  },
  {
   "cell_type": "code",
   "execution_count": null,
   "metadata": {
    "collapsed": false
   },
   "outputs": [],
   "source": []
  },
  {
   "cell_type": "markdown",
   "metadata": {},
   "source": [
    "## LFs"
   ]
  },
  {
   "cell_type": "code",
   "execution_count": null,
   "metadata": {
    "collapsed": false
   },
   "outputs": [],
   "source": [
    "# If necessary\n",
    "# import os\n",
    "# os.remove('snorkel.db');\n",
    "# os.system('cp snorkel.db\\ featurized snorkel.db');\n",
    "\n",
    "# from snorkel import SnorkelSession\n",
    "# session = SnorkelSession()\n",
    "\n",
    "# import sys\n",
    "# sys.path.append(os.environ['SNORKELHOME'] + '/tutorials/tables/')\n",
    "\n",
    "# from snorkel.models import candidate_subclass\n",
    "# Part_Polarity = candidate_subclass('Part_Polarity', ['part','polarity'])\n",
    "\n",
    "# from snorkel.models import CandidateSet\n",
    "# train = session.query(CandidateSet).filter(\n",
    "#     CandidateSet.name == 'Hardware Training Candidates').one()"
   ]
  },
  {
   "cell_type": "markdown",
   "metadata": {},
   "source": [
    "### Define LFs"
   ]
  },
  {
   "cell_type": "code",
   "execution_count": null,
   "metadata": {
    "collapsed": false
   },
   "outputs": [],
   "source": [
    "from snorkel.fast_annotations import LabelManager\n",
    "from snorkel.lf_helpers import *\n",
    "import re\n",
    "label_manager = LabelManager()\n",
    "\n",
    "LFs = []\n",
    "\n",
    "def LF_complement_phrase_part(c):\n",
    "    return -1 if overlap(['complement','complementary'], \n",
    "                         get_phrase_ngrams(c.part)) else 0\n",
    "LFs.append(LF_complement_phrase_part)\n",
    "\n",
    "def LF_complement_phrase_polarity(c):\n",
    "    return -1 if overlap(['complement','complementary'], \n",
    "                         get_phrase_ngrams(c.polarity)) else 0\n",
    "LFs.append(LF_complement_phrase_polarity)\n",
    "\n",
    "def LF_complement_neighbor_polarity(c):\n",
    "    return -1 if overlap(['complement','complementary'], \n",
    "                         get_neighbor_phrase_ngrams(c.polarity)) else 0\n",
    "LFs.append(LF_complement_neighbor_polarity)\n",
    "\n",
    "def LF_top_mark_col_part(c):\n",
    "    return -1 if overlap(['top','mark'],\n",
    "                         get_col_ngrams(c.part)) else 0\n",
    "LFs.append(LF_top_mark_col_part)\n",
    "\n",
    "def LF_endswith_D_part(c):\n",
    "    return -1 if c.part.get_span().endswith('D') else 0\n",
    "LFs.append(LF_endswith_D_part)\n",
    "\n",
    "def LF_default_positive(c):\n",
    "    return 1 if not overlap(['complement','complementary'],\n",
    "                            chain.from_iterable([\n",
    "                            get_phrase_ngrams(c.part),\n",
    "                            get_phrase_ngrams(c.polarity),\n",
    "                            get_neighbor_phrase_ngrams(c.polarity)])) else 0\n",
    "LFs.append(LF_default_positive)"
   ]
  },
  {
   "cell_type": "code",
   "execution_count": null,
   "metadata": {
    "collapsed": false
   },
   "outputs": [],
   "source": [
    "from snorkel.models import Candidate\n",
    "from hardware_utils import entity_to_candidates\n",
    "\n",
    "candidates = session.query(Candidate).all()\n",
    "print len(candidates)\n",
    "# matches = entity_to_candidates((u'SIEMS01215-1', u'BC856', u'NPN'), candidates)\n",
    "# c = matches[0]\n",
    "c = candidates[0]\n",
    "print candidates[0]\n",
    "\n",
    "print LF_complement_phrase_part(c)\n",
    "print LF_complement_phrase_polarity(c)\n",
    "print LF_complement_neighbor_polarity(c)\n",
    "print LF_top_mark_col_part(c)\n",
    "print LF_endswith_D_part(c)\n",
    "print LF_default_positive(c)"
   ]
  },
  {
   "cell_type": "markdown",
   "metadata": {},
   "source": [
    "### Apply LFs"
   ]
  },
  {
   "cell_type": "code",
   "execution_count": null,
   "metadata": {
    "collapsed": false
   },
   "outputs": [],
   "source": [
    "from snorkel.async_annotations import annotate\n",
    "%time L_train = annotate(train, lfs=LFs)\n",
    "L_train"
   ]
  },
  {
   "cell_type": "markdown",
   "metadata": {},
   "source": [
    "### Assess LF accuracy"
   ]
  },
  {
   "cell_type": "code",
   "execution_count": null,
   "metadata": {
    "collapsed": false
   },
   "outputs": [],
   "source": [
    "train_gold = session.query(CandidateSet).filter(\n",
    "    CandidateSet.name == 'Hardware Training Candidates -- Gold').one()\n",
    "%time L_train.lf_stats(train_gold)"
   ]
  },
  {
   "cell_type": "markdown",
   "metadata": {},
   "source": [
    "## Learn and Evaluate"
   ]
  },
  {
   "cell_type": "code",
   "execution_count": null,
   "metadata": {
    "collapsed": false
   },
   "outputs": [],
   "source": [
    "# If necessary:\n",
    "# import os\n",
    "# os.remove('snorkel.db');\n",
    "# os.system('cp snorkel.db\\ features snorkel.db');\n",
    "\n",
    "# from snorkel import SnorkelSession\n",
    "# session = SnorkelSession()\n",
    "\n",
    "# import sys\n",
    "# sys.path.append(os.environ['SNORKELHOME'] + '/tutorials/tables/')\n",
    "\n",
    "# from snorkel.models import candidate_subclass\n",
    "# Part_Polarity = candidate_subclass('Part_Polarity', ['part','polarity'])\n",
    "\n",
    "# from snorkel.models import CandidateSet\n",
    "# train = session.query(CandidateSet).filter(\n",
    "#     CandidateSet.name == 'Hardware Training Candidates').one()\n",
    "# dev = session.query(CandidateSet).filter(\n",
    "#     CandidateSet.name == 'Hardware Development Candidates').one()\n",
    "\n",
    "# from snorkel.annotations import FeatureManager, LabelManager\n",
    "# feature_manager = FeatureManager()\n",
    "# %time F_train = feature_manager.load(session, train, 'Train Features')\n",
    "# %time F_dev = feature_manager.load(session, dev, 'Train Features')\n",
    "\n",
    "# label_manager = LabelManager()\n",
    "# %time L_train = label_manager.load(session, train, 'LF Labels')"
   ]
  },
  {
   "cell_type": "code",
   "execution_count": null,
   "metadata": {
    "collapsed": false
   },
   "outputs": [],
   "source": [
    "from snorkel.learning import NaiveBayes\n",
    "\n",
    "gen_model = NaiveBayes()\n",
    "gen_model.train(L_train, n_iter=15000, rate=1e-2)\n",
    "\n",
    "#%time gen_model.save(session, 'Generative Params')\n",
    "train_marginals = gen_model.marginals(L_train)"
   ]
  },
  {
   "cell_type": "code",
   "execution_count": null,
   "metadata": {
    "collapsed": false
   },
   "outputs": [],
   "source": [
    "from snorkel.learning import LogReg\n",
    "\n",
    "disc_model = LogReg()\n",
    "disc_model.train(F_train, train_marginals, n_iter=2000, rate=1e-5)\n",
    "#%time disc_model.save(session, \"Discriminative Params\")"
   ]
  },
  {
   "cell_type": "code",
   "execution_count": null,
   "metadata": {
    "collapsed": false
   },
   "outputs": [],
   "source": [
    "train_gold = session.query(CandidateSet).filter(\n",
    "    CandidateSet.name == 'Hardware Training Candidates -- Gold').one()"
   ]
  },
  {
   "cell_type": "code",
   "execution_count": null,
   "metadata": {
    "collapsed": true
   },
   "outputs": [],
   "source": [
    "dev_gold = session.query(CandidateSet).filter(\n",
    "    CandidateSet.name == 'Hardware Development Candidates -- Gold').one()"
   ]
  },
  {
   "cell_type": "code",
   "execution_count": null,
   "metadata": {
    "collapsed": false
   },
   "outputs": [],
   "source": [
    "from snorkel.models import CandidateSet\n",
    "from snorkel.annotations import LabelManager\n",
    "label_manager = LabelManager()\n",
    "L_dev_sync = label_manager.load(session, dev, 'Hardware Development Labels -- Gold')\n",
    "\n",
    "L_dev = annotate(dev, lfs=LFs)"
   ]
  },
  {
   "cell_type": "code",
   "execution_count": null,
   "metadata": {
    "collapsed": false
   },
   "outputs": [],
   "source": [
    "print train_marginals.shape"
   ]
  },
  {
   "cell_type": "code",
   "execution_count": null,
   "metadata": {
    "collapsed": false
   },
   "outputs": [],
   "source": [
    "tp, fp, tn, fn = disc_model.score(F_dev, L_dev, dev_gold)"
   ]
  },
  {
   "cell_type": "code",
   "execution_count": null,
   "metadata": {
    "collapsed": false
   },
   "outputs": [],
   "source": [
    "from snorkel.models import Corpus\n",
    "from hardware_utils import entity_level_f1\n",
    "import os\n",
    "\n",
    "gold_file = os.environ['SNORKELHOME'] + '/tutorials/tables/data/hardware/hardware_gold.csv'\n",
    "corpus = session.query(Corpus).filter(Corpus.name == 'Hardware Development').one()\n",
    "(TP, FP, FN) = entity_level_f1(tp, fp, tn, fn, gold_file, corpus, 'polarity')"
   ]
  },
  {
   "cell_type": "code",
   "execution_count": null,
   "metadata": {
    "collapsed": false
   },
   "outputs": [],
   "source": [
    "from pprint import pprint\n",
    "FP_list = sorted(list(FP))\n",
    "pprint(FP_list[:10])"
   ]
  },
  {
   "cell_type": "code",
   "execution_count": null,
   "metadata": {
    "collapsed": false
   },
   "outputs": [],
   "source": [
    "print '\\n'.join(unicode(x[0]) for x in disc_model.get_feature_weights(F_dev))"
   ]
  },
  {
   "cell_type": "code",
   "execution_count": null,
   "metadata": {
    "collapsed": false
   },
   "outputs": [],
   "source": [
    "from hardware_utils import entity_to_candidates\n",
    "\n",
    "entity = FP_list[0]\n",
    "matches = entity_to_candidates(entity, fp)\n",
    "print \"Entity: (%d matches)\" % len(matches)\n",
    "print entity\n",
    "\n",
    "candidate = matches[0]\n",
    "print \"\\nCandidate:\"\n",
    "print candidate\n",
    "\n",
    "print \"\\nScore:\"\n",
    "print disc_model.get_candidate_score(candidate, F_dev)\n",
    "\n",
    "print \"\\nFeatures:\"\n",
    "pprint(disc_model.get_candidate_feature_weights(candidate, F_dev))"
   ]
  },
  {
   "cell_type": "code",
   "execution_count": null,
   "metadata": {
    "collapsed": false
   },
   "outputs": [],
   "source": [
    "from hardware_utils import part_error_analysis\n",
    "part_error_analysis(candidate)"
   ]
  }
 ],
 "metadata": {
  "anaconda-cloud": {},
  "kernelspec": {
   "display_name": "Python 2",
   "language": "python",
   "name": "python2"
  },
  "language_info": {
   "codemirror_mode": {
    "name": "ipython",
    "version": 2
   },
   "file_extension": ".py",
   "mimetype": "text/x-python",
   "name": "python",
   "nbconvert_exporter": "python",
   "pygments_lexer": "ipython2",
   "version": "2.7.12"
  }
 },
 "nbformat": 4,
 "nbformat_minor": 1
}
