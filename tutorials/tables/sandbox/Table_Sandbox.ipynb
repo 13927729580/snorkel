{
 "cells": [
  {
   "cell_type": "code",
   "execution_count": 1,
   "metadata": {
    "collapsed": false,
    "scrolled": true
   },
   "outputs": [],
   "source": [
    "import os\n",
    "os.remove('snorkel.db')"
   ]
  },
  {
   "cell_type": "code",
   "execution_count": 2,
   "metadata": {
    "collapsed": true
   },
   "outputs": [],
   "source": [
    "from snorkel import SnorkelSession\n",
    "session = SnorkelSession()\n",
    "\n",
    "import os, sys\n",
    "sys.path.append(os.environ['SNORKELHOME'] + '/tutorials/tables/')"
   ]
  },
  {
   "cell_type": "code",
   "execution_count": 3,
   "metadata": {
    "collapsed": false
   },
   "outputs": [],
   "source": [
    "import os\n",
    "from snorkel.parser import CorpusParser\n",
    "from snorkel.parser import HTMLParser\n",
    "from snorkel.parser import OmniParser\n",
    "\n",
    "doc_parser = HTMLParser(path=os.environ['SNORKELHOME'] + '/tutorials/tables/sandbox/diseases.xhtml')\n",
    "context_parser = OmniParser()\n",
    "cp = CorpusParser(doc_parser, context_parser, max_docs=1)"
   ]
  },
  {
   "cell_type": "code",
   "execution_count": 4,
   "metadata": {
    "collapsed": false
   },
   "outputs": [
    {
     "name": "stdout",
     "output_type": "stream",
     "text": [
      "[========================================] 100%\n",
      "\n",
      "CPU times: user 296 ms, sys: 22.7 ms, total: 319 ms\n",
      "Wall time: 529 ms\n",
      "31 Phrases in Corpus (Sandbox)\n"
     ]
    }
   ],
   "source": [
    "%time corpus = cp.parse_corpus(name='Sandbox', session=session)\n",
    "print \"%d Phrases in %s\" % (\n",
    "    len([phrase for doc in corpus.documents for phrase in doc.phrases]), corpus)"
   ]
  },
  {
   "cell_type": "code",
   "execution_count": 5,
   "metadata": {
    "collapsed": false
   },
   "outputs": [
    {
     "name": "stdout",
     "output_type": "stream",
     "text": [
      "<th hobbie\n",
      "<th day=\"M\n",
      "<th>Year</\n",
      "<th>Polio \n",
      "<td style=\n",
      "<td style=\n",
      "<th>I don'\n",
      "<td>New Yo\n",
      "<td></td>\n",
      "<th>Scurvy\n",
      "<td>Annapo\n",
      "<td>1901</\n",
      "<th>Proble\n",
      "<th>Cause<\n",
      "<th>Cost</\n",
      "<th>Arthri\n",
      "<td>Pokemo\n",
      "<td>Free</\n",
      "<th>Yellow\n",
      "<td>Unicor\n",
      "<td>$17.75\n",
      "<th>Hypoch\n",
      "<td>Fear</\n",
      "<td>$100</\n"
     ]
    }
   ],
   "source": [
    "for cell in corpus.documents[0].cells: print cell.text[:10]"
   ]
  },
  {
   "cell_type": "code",
   "execution_count": 6,
   "metadata": {
    "collapsed": false
   },
   "outputs": [
    {
     "name": "stdout",
     "output_type": "stream",
     "text": [
      "Phrase(Doc: diseases, Table: 0, Row: 2, Col: 1, Position: 0, Text: New York)\n",
      "[u'<th>I do', u'<td styl']\n",
      "[u\"I don't like Chicken  Pox  or pizza.\", u'Shingles is also bad.', u'% 2001']\n"
     ]
    }
   ],
   "source": [
    "from snorkel.lf_helpers import _infer_cell, _get_aligned_cells\n",
    "\n",
    "root_phrase = corpus.documents[0].tables[0].cells[7].phrases[0]\n",
    "print root_phrase\n",
    "\n",
    "infer = True\n",
    "axis = 'row'\n",
    "other_axis = 'col_num'\n",
    "print [cell.text[:8] for cell in _get_aligned_cells(root_phrase.cell, axis, infer=infer)]\n",
    "print [phrase.text for cell in _get_aligned_cells(root_phrase.cell, axis, infer=infer) for phrase in cell.phrases]\n",
    "# print [phrase.text for cell in _get_aligned_cells(root_phrase.cell, axis, infer=False) for phrase in _infer_cell(cell, other_axis).phrases]"
   ]
  },
  {
   "cell_type": "code",
   "execution_count": 7,
   "metadata": {
    "collapsed": false
   },
   "outputs": [],
   "source": [
    "# for phrase in [phrase for doc in corpus.documents for phrase in doc.phrases]:\n",
    "#     print phrase"
   ]
  },
  {
   "cell_type": "code",
   "execution_count": 8,
   "metadata": {
    "collapsed": true
   },
   "outputs": [],
   "source": [
    "(a,b,c) = (2,(3 if True else 5) ,4)"
   ]
  },
  {
   "cell_type": "code",
   "execution_count": 9,
   "metadata": {
    "collapsed": false
   },
   "outputs": [],
   "source": [
    "from snorkel.models import candidate_subclass\n",
    "\n",
    "# Year = candidate_subclass('Year', ['year'])\n",
    "# Temp = candidate_subclass('Temp', ['temp'])\n",
    "# Disease = candidate_subclass('Disease', ['disease'])\n",
    "# Part = candidate_subclass('Part', ['part'])\n",
    "Disease_Year = candidate_subclass('Disease_Year', ['disease','year'])"
   ]
  },
  {
   "cell_type": "code",
   "execution_count": 10,
   "metadata": {
    "collapsed": false
   },
   "outputs": [],
   "source": [
    "from snorkel.candidates import OmniNgrams\n",
    "from hardware_utils import OmniNgramsPart, OmniNgramsTemp\n",
    "\n",
    "omni_ngrams = OmniNgrams(n_max=3, split_tokens=None)\n",
    "# omni_part = OmniNgramsPart(n_max=3, split_tokens=None)\n",
    "# omni_temp = OmniNgramsTemp(n_max=3, split_tokens=None)"
   ]
  },
  {
   "cell_type": "code",
   "execution_count": 11,
   "metadata": {
    "collapsed": false
   },
   "outputs": [
    {
     "name": "stdout",
     "output_type": "stream",
     "text": [
      "Loaded 21 diseases.\n"
     ]
    }
   ],
   "source": [
    "diseases = ['viruses', 'coughs', 'colds', 'brain', 'cancer', 'shingles', 'warts',\n",
    "              'brain cancer', 'disease', 'location', 'polio', 'chicken pox', \n",
    "              'bubonic plague', 'plague', 'scurvy', 'infectious diseases', \n",
    "              'arthritis', 'yellow fever', 'fever', 'hypochondria', 'pneumonia']\n",
    "print \"Loaded %d diseases.\" % len(diseases)"
   ]
  },
  {
   "cell_type": "code",
   "execution_count": 12,
   "metadata": {
    "collapsed": false
   },
   "outputs": [],
   "source": [
    "from snorkel.matchers import DictionaryMatch, RegexMatchEach, RegexMatchSpan, DateMatcher\n",
    "\n",
    "disease_matcher = DictionaryMatch(d=diseases, ignore_case=True)\n",
    "year_matcher = DateMatcher()\n",
    "# part_matcher = RegexMatchEach(rgx='BC.*')\n",
    "# temp_matcher = RegexMatchSpan(rgx=r'-[5-7][05]')"
   ]
  },
  {
   "cell_type": "code",
   "execution_count": 13,
   "metadata": {
    "collapsed": false
   },
   "outputs": [],
   "source": [
    "from snorkel.candidates import CandidateExtractor\n",
    "\n",
    "# ce = CandidateExtractor(Part, [omni_part], [part_matcher])\n",
    "# ce = CandidateExtractor(Disease, [omni_ngrams], [disease_matcher])\n",
    "# ce = CandidateExtractor(Temp, [omni_temp], [temp_matcher])\n",
    "ce = CandidateExtractor(Disease_Year, \n",
    "                        [omni_ngrams, omni_ngrams], \n",
    "                        [disease_matcher, year_matcher])"
   ]
  },
  {
   "cell_type": "code",
   "execution_count": 14,
   "metadata": {
    "collapsed": false
   },
   "outputs": [
    {
     "name": "stdout",
     "output_type": "stream",
     "text": [
      "[========================================] 100%\n",
      "\n",
      "CPU times: user 105 ms, sys: 7.21 ms, total: 112 ms\n",
      "Wall time: 112 ms\n",
      "Candidate Set (Sandbox Candidates) contains 34 Candidates\n"
     ]
    }
   ],
   "source": [
    "%time candidates = ce.extract(corpus.documents, 'Sandbox Candidates', session)\n",
    "print \"%s contains %d Candidates\" % (candidates, len(candidates))"
   ]
  },
  {
   "cell_type": "code",
   "execution_count": 15,
   "metadata": {
    "collapsed": false
   },
   "outputs": [],
   "source": [
    "# for c in candidates: print c"
   ]
  },
  {
   "cell_type": "code",
   "execution_count": 16,
   "metadata": {
    "collapsed": false
   },
   "outputs": [
    {
     "name": "stdout",
     "output_type": "stream",
     "text": [
      "Disease_Year(Span(\"Location\", parent=50, chars=[0,7], words=[0,0]), Span(\"1901\", parent=60, chars=[0,3], words=[0,0]))\n",
      "Document diseases\n",
      "Table(Doc: diseases, Position: 0)\n",
      "Cell(Doc: diseases, Table: 0, Row: 0, Col: 1)\n",
      "Phrase(Doc: diseases, Table: 0, Row: 0, Col: 1, Position: 0, Text: Location)\n"
     ]
    }
   ],
   "source": [
    "# for c in candidates:\n",
    "#     print c\n",
    "c = candidates[14]\n",
    "print c\n",
    "print c.disease.parent.document\n",
    "print c.disease.parent.table\n",
    "# print c.disease.parent.row\n",
    "# print c.disease.parent.col\n",
    "print c.disease.parent.cell\n",
    "print c.disease.parent"
   ]
  },
  {
   "cell_type": "code",
   "execution_count": 17,
   "metadata": {
    "collapsed": false
   },
   "outputs": [
    {
     "name": "stdout",
     "output_type": "stream",
     "text": [
      "25\n",
      "Disease_Year(Span(\"Brain Cancer\", parent=3, chars=[0,11], words=[0,1]), Span(\"1901\", parent=60, chars=[0,3], words=[0,0]))\n",
      "9\n",
      "Disease_Year(Span(\"Infectious diseases\", parent=15, chars=[9,27], words=[3,4]), Span(\"2001\", parent=54, chars=[2,5], words=[1,1]))\n"
     ]
    }
   ],
   "source": [
    "from snorkel.models import CandidateSet\n",
    "train = CandidateSet(name='train', candidates=candidates[:25])\n",
    "dev = CandidateSet(name='test', candidates=candidates[25:])\n",
    "print len(train)\n",
    "print train[0]\n",
    "print len(dev)\n",
    "print dev[0]"
   ]
  },
  {
   "cell_type": "code",
   "execution_count": 18,
   "metadata": {
    "collapsed": false
   },
   "outputs": [
    {
     "name": "stdout",
     "output_type": "stream",
     "text": [
      "25\n"
     ]
    }
   ],
   "source": [
    "print len(train)"
   ]
  },
  {
   "cell_type": "code",
   "execution_count": 19,
   "metadata": {
    "collapsed": false
   },
   "outputs": [
    {
     "name": "stdout",
     "output_type": "stream",
     "text": [
      "[========================================] 100%\n",
      "\n",
      "Loading sparse Feature matrix...\n",
      "CPU times: user 2.77 s, sys: 27.9 ms, total: 2.79 s\n",
      "Wall time: 2.84 s\n"
     ]
    },
    {
     "data": {
      "text/plain": [
       "<25x538 sparse matrix of type '<type 'numpy.float64'>'\n",
       "\twith 2444 stored elements in Compressed Sparse Row format>"
      ]
     },
     "execution_count": 19,
     "metadata": {},
     "output_type": "execute_result"
    }
   ],
   "source": [
    "from snorkel.annotations import FeatureManager\n",
    "\n",
    "feature_manager = FeatureManager()\n",
    "%time F_train = feature_manager.create(session, train, 'Sandbox Features')\n",
    "F_train\n",
    "\n",
    "# from snorkel.features import get_span_feats\n",
    "# c = candidates[10]\n",
    "# %prun for feat in get_span_feats(c): print feat"
   ]
  },
  {
   "cell_type": "code",
   "execution_count": 20,
   "metadata": {
    "collapsed": false
   },
   "outputs": [
    {
     "name": "stdout",
     "output_type": "stream",
     "text": [
      "[========================================] 100%\n",
      "\n",
      "Loading sparse Feature matrix...\n",
      "CPU times: user 969 ms, sys: 17.3 ms, total: 986 ms\n",
      "Wall time: 1.05 s\n"
     ]
    },
    {
     "data": {
      "text/plain": [
       "<9x251 sparse matrix of type '<type 'numpy.float64'>'\n",
       "\twith 761 stored elements in Compressed Sparse Row format>"
      ]
     },
     "execution_count": 20,
     "metadata": {},
     "output_type": "execute_result"
    }
   ],
   "source": [
    "other_manager = FeatureManager()\n",
    "%time G_train = feature_manager.create(session, dev, 'Other Features')\n",
    "G_train"
   ]
  },
  {
   "cell_type": "code",
   "execution_count": 21,
   "metadata": {
    "collapsed": false
   },
   "outputs": [],
   "source": [
    "# F_train + G_train"
   ]
  },
  {
   "cell_type": "code",
   "execution_count": 22,
   "metadata": {
    "collapsed": false
   },
   "outputs": [
    {
     "name": "stdout",
     "output_type": "stream",
     "text": [
      "Disease_Year(Span(\"Infectious diseases\", parent=15, chars=[9,27], words=[3,4]), Span(\"2001\", parent=54, chars=[2,5], words=[1,1]))\n",
      "None\n",
      "None\n",
      "None\n",
      "None\n"
     ]
    }
   ],
   "source": [
    "c = candidates[25]\n",
    "print c\n",
    "print c.disease.parent.row_num\n",
    "print c.disease.parent.row\n",
    "print c.disease.parent.col_num\n",
    "print c.disease.parent.col"
   ]
  },
  {
   "cell_type": "code",
   "execution_count": 23,
   "metadata": {
    "collapsed": false
   },
   "outputs": [
    {
     "name": "stdout",
     "output_type": "stream",
     "text": [
      "Disease_Year(Span(\"Infectious diseases\", parent=15, chars=[9,27], words=[3,4]), Span(\"2001\", parent=54, chars=[2,5], words=[1,1]))\n",
      "Limited number of features being shown:\n",
      "AnnotationKey (TAB_e1_STARTS_WITH_CAPITAL)\n",
      "AnnotationKey (TAB_e1_HTML_ANC_TAG_[html])\n",
      "AnnotationKey (TAB_e1_HTML_ANC_TAG_[body])\n",
      "AnnotationKey (TAB_e2_WORD_SEQ_[1901])\n",
      "AnnotationKey (TAB_e2_LEMMA_SEQ_[1901])\n",
      "AnnotationKey (TAB_e2_POS_SEQ_[CD])\n",
      "AnnotationKey (TAB_e2_DEP_SEQ_[ROOT])\n",
      "AnnotationKey (TAB_e2_W_LEFT_1_[_NUMBER])\n",
      "AnnotationKey (TAB_e2_W_LEFT_POS_1_[CD])\n",
      "AnnotationKey (TAB_e2_LENGTH_1)\n"
     ]
    }
   ],
   "source": [
    "from snorkel.utils import get_keys_by_candidate\n",
    "\n",
    "print candidates[25]\n",
    "print \"Limited number of features being shown:\"\n",
    "for f in get_keys_by_candidate(F_train, F_train.get_candidate(4))[:10]: print f"
   ]
  },
  {
   "cell_type": "code",
   "execution_count": 24,
   "metadata": {
    "collapsed": false
   },
   "outputs": [],
   "source": [
    "# c = candidates[0]\n",
    "# print c\n",
    "# print c.year\n",
    "# print c.year.parent\n",
    "# print c.year.char_start\n",
    "# print c.year.char_end\n",
    "# print c.year.parent.words\n",
    "# print c.year.parent.char_offsets\n",
    "# print c.year.parent.lemmas\n",
    "# print c.year.parent.pos_tags\n",
    "# print c.year.parent.ner_tags\n",
    "# print c.year.parent.dep_parents\n",
    "# print c.year.parent.dep_labels\n",
    "# print c.year.get_word_start()\n",
    "# print c.year.get_word_end()\n",
    "# # print get_row_ngrams(c.year)\n",
    "# # print get_row_ngrams(c.year, infer=True)\n",
    "# %time for i in range(1000): _get_aligned_cells((c.year).parent.cell, 'col', infer=True)"
   ]
  },
  {
   "cell_type": "code",
   "execution_count": 25,
   "metadata": {
    "collapsed": false
   },
   "outputs": [],
   "source": [
    "# from snorkel.models import Span, ImplicitSpan, TemporarySpan\n",
    "\n",
    "# print isinstance(c.year, TemporarySpan)"
   ]
  },
  {
   "cell_type": "code",
   "execution_count": 26,
   "metadata": {
    "collapsed": true
   },
   "outputs": [],
   "source": [
    "# from snorkel.lf_helpers import get_between_ngrams, get_left_ngrams, get_right_ngrams\n",
    "# from snorkel.lf_helpers import contains_token, contains_regex\n",
    "# from snorkel.lf_helpers import get_phrase_ngrams, get_cell_ngrams, get_neighbor_cell_ngrams\n",
    "# from snorkel.lf_helpers import get_row_ngrams, get_col_ngrams, get_aligned_ngrams\n",
    "# from snorkel.lf_helpers import same_document, same_table, same_cell, same_phrase\n",
    "# from snorkel.lf_helpers import _get_aligned_cells, _get_nonempty_cell"
   ]
  },
  {
   "cell_type": "code",
   "execution_count": 27,
   "metadata": {
    "collapsed": false
   },
   "outputs": [],
   "source": [
    "# print get_left_ngrams(c.disease)\n",
    "# print get_right_ngrams(c.disease)\n",
    "# print contains_token(c, 'plague')\n",
    "# print contains_regex(c, r'pla')\n",
    "# print same_document(c)\n",
    "# print same_table(c)\n",
    "# print same_cell(c)\n",
    "# print same_phrase(c)\n",
    "# print get_phrase_ngrams(c.disease, n_min=1, n_max=3, case_sensitive=True)\n",
    "# print get_cell_ngrams(c.disease, attrib='pos_tags')\n",
    "# print get_neighbor_cell_ngrams(c.disease, dist=2, directions=True)\n",
    "# print get_row_ngrams(c.disease)\n",
    "# print get_col_ngrams(c.disease)\n",
    "# print get_aligned_ngrams(c.disease)\n",
    "# print get_aligned_ngrams(c.disease, infer=True)"
   ]
  },
  {
   "cell_type": "code",
   "execution_count": 28,
   "metadata": {
    "collapsed": false
   },
   "outputs": [],
   "source": [
    "# from hardware_utils import expand_implicit_text \n",
    "\n",
    "# for part in expand_implicit_text(''.join(['BC856/857/858', '/', '859/860'])): print part"
   ]
  },
  {
   "cell_type": "code",
   "execution_count": 29,
   "metadata": {
    "collapsed": false
   },
   "outputs": [],
   "source": [
    "# def foo(n):\n",
    "#     phrase = 'repeat me'\n",
    "#     pmul = phrase * n\n",
    "#     pjoi = ''.join([phrase for x in xrange(n)])\n",
    "#     pinc = ''\n",
    "#     for x in xrange(n):\n",
    "#         pinc += phrase\n",
    "#     del pmul, pjoi, pinc"
   ]
  },
  {
   "cell_type": "code",
   "execution_count": 30,
   "metadata": {
    "collapsed": false
   },
   "outputs": [],
   "source": [
    "# %lprun -f foo foo(1000)"
   ]
  },
  {
   "cell_type": "code",
   "execution_count": 31,
   "metadata": {
    "collapsed": false
   },
   "outputs": [],
   "source": [
    "# from hardware_utils import get_gold_dict\n",
    "\n",
    "# filename = os.environ['SNORKELHOME'] + '/tutorials/tables/data/hardware/hardware_gold.csv'\n",
    "# gold_dict = get_gold_dict(filename, 'stg_temp_min')"
   ]
  },
  {
   "cell_type": "code",
   "execution_count": 32,
   "metadata": {
    "collapsed": false
   },
   "outputs": [],
   "source": [
    "# print len(gold_dict.values())\n",
    "# print gold_dict.values().count(1)"
   ]
  },
  {
   "cell_type": "code",
   "execution_count": 33,
   "metadata": {
    "collapsed": false
   },
   "outputs": [],
   "source": [
    "# from hardware_utils import count_hardware_labels\n",
    "\n",
    "# filename = os.environ['SNORKELHOME'] + '/tutorials/tables/data/hardware/hardware_gold.csv'\n",
    "# %time (certain, maybe) = count_hardware_labels(loader, candidates, filename, attrib='stg_temp_min', attrib_class='temp')"
   ]
  },
  {
   "cell_type": "code",
   "execution_count": 34,
   "metadata": {
    "collapsed": false
   },
   "outputs": [
    {
     "name": "stdout",
     "output_type": "stream",
     "text": [
      "CPU times: user 2 µs, sys: 0 ns, total: 2 µs\n",
      "Wall time: 5.96 µs\n"
     ]
    }
   ],
   "source": [
    "%time \n",
    "for i in range(10000): \n",
    "    for j in range(100):\n",
    "        1 + 1"
   ]
  },
  {
   "cell_type": "code",
   "execution_count": null,
   "metadata": {
    "collapsed": true
   },
   "outputs": [],
   "source": []
  }
 ],
 "metadata": {
  "anaconda-cloud": {},
  "kernelspec": {
   "display_name": "Python [default]",
   "language": "python",
   "name": "python2"
  },
  "language_info": {
   "codemirror_mode": {
    "name": "ipython",
    "version": 2
   },
   "file_extension": ".py",
   "mimetype": "text/x-python",
   "name": "python",
   "nbconvert_exporter": "python",
   "pygments_lexer": "ipython2",
   "version": "2.7.10"
  }
 },
 "nbformat": 4,
 "nbformat_minor": 0
}
