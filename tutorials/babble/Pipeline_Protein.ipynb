{
 "cells": [
  {
   "cell_type": "code",
   "execution_count": 1,
   "metadata": {
    "collapsed": false
   },
   "outputs": [],
   "source": [
    "%load_ext autoreload\n",
    "%autoreload 2"
   ]
  },
  {
   "cell_type": "code",
   "execution_count": 2,
   "metadata": {
    "collapsed": false
   },
   "outputs": [],
   "source": [
    "config = {\n",
    "    'domain': 'protein',\n",
    "    'postgres': False,\n",
    "    'debug': False,\n",
    "#     'max_docs': 3,\n",
    "    'babbler_candidate_split': 1,\n",
    "    'babbler_label_split': 2,\n",
    "    'supervision': 'majority_vote',\n",
    "    'do_filter_duplicate_semantics': False, \n",
    "    'do_filter_consistency': False, \n",
    "    'do_filter_duplicate_signatures': False, \n",
    "    'do_filter_uniform_signatures': False,\n",
    "}"
   ]
  },
  {
   "cell_type": "code",
   "execution_count": 3,
   "metadata": {
    "collapsed": false
   },
   "outputs": [
    {
     "name": "stdout",
     "output_type": "stream",
     "text": [
      "$SNORKELDB = sqlite:///babble_protein.db\n"
     ]
    }
   ],
   "source": [
    "# Get DB connection string and add to globals\n",
    "# NOTE: $SNORKELDB must be set before any snorkel imports\n",
    "import os\n",
    "\n",
    "default_db_name = 'babble_' + config['domain'] + ('_debug' if config.get('debug', False) else '')\n",
    "DB_NAME = config.get('db_name', default_db_name)\n",
    "if 'postgres' in config and config['postgres']:\n",
    "    DB_TYPE = 'postgres'\n",
    "else:\n",
    "    DB_TYPE = 'sqlite'\n",
    "    DB_NAME += '.db'\n",
    "DB_ADDR = \"localhost:{0}\".format(config['db_port']) if 'db_port' in config else \"\"\n",
    "os.environ['SNORKELDB'] = '{0}://{1}/{2}'.format(DB_TYPE, DB_ADDR, DB_NAME)\n",
    "print(\"$SNORKELDB = {0}\".format(os.environ['SNORKELDB']))"
   ]
  },
  {
   "cell_type": "code",
   "execution_count": 4,
   "metadata": {
    "collapsed": false,
    "scrolled": true
   },
   "outputs": [
    {
     "name": "stdout",
     "output_type": "stream",
     "text": [
      "Overwriting domain=None to domain=protein\n",
      "Overwriting babbler_candidate_split=0 to babbler_candidate_split=1\n",
      "Overwriting supervision=generative to supervision=majority_vote\n",
      "Overwriting do_filter_duplicate_semantics=True to do_filter_duplicate_semantics=False\n",
      "Overwriting babbler_label_split=0 to babbler_label_split=2\n",
      "Overwriting do_filter_consistency=True to do_filter_consistency=False\n",
      "Overwriting do_filter_uniform_signatures=True to do_filter_uniform_signatures=False\n",
      "Overwriting do_filter_duplicate_signatures=True to do_filter_duplicate_signatures=False\n"
     ]
    }
   ],
   "source": [
    "from snorkel import SnorkelSession\n",
    "session = SnorkelSession()\n",
    "\n",
    "# Resolve config conflicts (nb_config > local_config > global_config)\n",
    "from snorkel.contrib.babble.pipelines import merge_configs, get_local_pipeline\n",
    "config = merge_configs(config)\n",
    "\n",
    "if config['debug']:\n",
    "    print(\"NOTE: --debug=True: modifying parameters...\")\n",
    "    config['max_docs'] = 100\n",
    "    config['gen_model_search_space'] = 2\n",
    "    config['disc_model_search_space'] = 2\n",
    "    config['gen_params_default']['epochs'] = 25\n",
    "    config['disc_params_default']['n_epochs'] = 5\n",
    "\n",
    "from snorkel.models import candidate_subclass\n",
    "candidate_class = candidate_subclass(config['candidate_name'], config['candidate_entities'])\n",
    "\n",
    "pipeline = get_local_pipeline(config['domain'])\n",
    "pipe = pipeline(session, candidate_class, config)"
   ]
  },
  {
   "cell_type": "code",
   "execution_count": 5,
   "metadata": {
    "collapsed": false,
    "scrolled": false
   },
   "outputs": [
    {
     "name": "stdout",
     "output_type": "stream",
     "text": [
      "Clearing existing...\n",
      "Running UDF...\n",
      "[========================================] 100%\n",
      "\n",
      "Documents: 501\n",
      "Sentences: 5936\n",
      "CPU times: user 10 s, sys: 307 ms, total: 10.3 s\n",
      "Wall time: 1min 54s\n"
     ]
    }
   ],
   "source": [
    "%time pipe.parse()"
   ]
  },
  {
   "cell_type": "code",
   "execution_count": 6,
   "metadata": {
    "collapsed": false,
    "scrolled": true
   },
   "outputs": [
    {
     "name": "stdout",
     "output_type": "stream",
     "text": [
      "Clearing existing...\n",
      "Running UDF...\n",
      "[========================================] 100%\n",
      "\n",
      "Candidates [Split 0]: 1968\n",
      "Clearing existing...\n",
      "Running UDF...\n",
      "[========================================] 100%\n",
      "\n",
      "Candidates [Split 1]: 514\n",
      "Clearing existing...\n",
      "Running UDF...\n",
      "[========================================] 100%\n",
      "\n",
      "Candidates [Split 2]: 479\n",
      "CPU times: user 9.36 s, sys: 282 ms, total: 9.64 s\n",
      "Wall time: 9.55 s\n"
     ]
    }
   ],
   "source": [
    "%time pipe.extract()"
   ]
  },
  {
   "cell_type": "code",
   "execution_count": 7,
   "metadata": {
    "collapsed": false,
    "scrolled": true
   },
   "outputs": [
    {
     "name": "stdout",
     "output_type": "stream",
     "text": [
      "AnnotatorLabels created: 0\n",
      "AnnotatorLabels created: 74\n",
      "AnnotatorLabels created: 93\n",
      "CPU times: user 12.2 s, sys: 179 ms, total: 12.4 s\n",
      "Wall time: 12.4 s\n"
     ]
    }
   ],
   "source": [
    "%time pipe.load_gold()"
   ]
  },
  {
   "cell_type": "code",
   "execution_count": 8,
   "metadata": {
    "collapsed": false,
    "scrolled": false
   },
   "outputs": [
    {
     "name": "stdout",
     "output_type": "stream",
     "text": [
      "Skipping malformed or header row 23...\n",
      "Linking candidates...\n",
      "Building list of target candidate ids...\n",
      "Collected 29 unique target candidate ids from 56 explanations.\n",
      "Gathering desired candidates...\n",
      "Found 29/29 desired candidates\n",
      "Linking explanations to candidates...\n",
      "Linked 56/56 explanations\n",
      "Calling babbler...\n",
      "Created grammar with 499 rules\n",
      "41 explanation(s) out of 56 were parseable.\n",
      "57 parse(s) generated from 56 explanation(s).\n",
      "Parsed 57 LFs from 56 explanations.\n",
      "Filtered to 40 LFs with duplicate semantics filter (17 filtered).\n",
      "Filtered to 23 LFs with consistency filter (17 filtered).\n",
      "Clearing existing...\n",
      "Running UDF...\n",
      "[========================================] 100%\n",
      "\n",
      "Filtered to 11 LFs with uniform signatures filter (12 filtered).\n",
      "Filtered to 9 LFs with duplicate signatures filter (2 filtered).\n",
      "CPU times: user 8.65 s, sys: 960 ms, total: 9.61 s\n",
      "Wall time: 9.7 s\n"
     ]
    }
   ],
   "source": [
    "%time pipe.collect()"
   ]
  },
  {
   "cell_type": "code",
   "execution_count": 9,
   "metadata": {
    "collapsed": false,
    "scrolled": false
   },
   "outputs": [
    {
     "name": "stdout",
     "output_type": "stream",
     "text": [
      "Clearing existing...\n",
      "Running UDF...\n",
      "[========================================] 100%\n",
      "\n",
      "\n",
      "Labeled split 0: (1968,9) sparse (nnz = 388)\n",
      "Clearing existing...\n",
      "Running UDF...\n",
      "[========================================] 100%\n",
      "\n",
      "\n",
      "Labeled split 1: (514,9) sparse (nnz = 119)\n",
      "                 j  Coverage  Overlaps  Conflicts  TP  FP  FN  TN  \\\n",
      "Explanation0_0   0  0.007782  0.000000   0.000000   0   0   0   0   \n",
      "Explanation2_0   1  0.001946  0.000000   0.000000   0   0   0   0   \n",
      "Explanation33_1  2  0.029183  0.000000   0.000000   0   0   0   2   \n",
      "Explanation4_0   3  0.048638  0.029183   0.029183   0   1   0   0   \n",
      "Explanation42_0  4  0.005837  0.000000   0.000000   0   2   0   0   \n",
      "Explanation5_1   5  0.052529  0.029183   0.029183   0   0   1   3   \n",
      "Explanation50_0  6  0.013619  0.009728   0.009728   0   1   0   0   \n",
      "Explanation51_1  7  0.015564  0.009728   0.009728   0   0   0   2   \n",
      "Explanation6_0   8  0.056420  0.003891   0.003891   0   0   0   1   \n",
      "\n",
      "                 Empirical Acc.  \n",
      "Explanation0_0              NaN  \n",
      "Explanation2_0              NaN  \n",
      "Explanation33_1            1.00  \n",
      "Explanation4_0             0.00  \n",
      "Explanation42_0            0.00  \n",
      "Explanation5_1             0.75  \n",
      "Explanation50_0            0.00  \n",
      "Explanation51_1            1.00  \n",
      "Explanation6_0             1.00  \n",
      "Clearing existing...\n",
      "Running UDF...\n",
      "[===                                     ] 5%"
     ]
    },
    {
     "name": "stderr",
     "output_type": "stream",
     "text": [
      "/Users/bradenjh/repos/snorkel/snorkel/annotations.py:129: RuntimeWarning: invalid value encountered in divide\n",
      "  ac = (tp+tn).astype(float) / (tp+tn+fp+fn)\n"
     ]
    },
    {
     "name": "stdout",
     "output_type": "stream",
     "text": [
      "[========================================] 100%\n",
      "\n",
      "\n",
      "Labeled split 2: (479,9) sparse (nnz = 73)\n",
      "CPU times: user 15.8 s, sys: 381 ms, total: 16.2 s\n",
      "Wall time: 16.4 s\n"
     ]
    }
   ],
   "source": [
    "%time pipe.label()"
   ]
  },
  {
   "cell_type": "code",
   "execution_count": 10,
   "metadata": {
    "collapsed": false,
    "scrolled": false
   },
   "outputs": [
    {
     "name": "stdout",
     "output_type": "stream",
     "text": [
      "Using L_train: <1968x9 sparse matrix of type '<type 'numpy.int64'>'\n",
      "\twith 388 stored elements in Compressed Sparse Row format>\n",
      "Using L_gold_train: <1968x1 sparse matrix of type '<type 'numpy.int64'>'\n",
      "\twith 0 stored elements in Compressed Sparse Row format>\n",
      "Positive Fraction: 0.0%\n",
      "\n",
      "Using L_dev: <514x9 sparse matrix of type '<type 'numpy.int64'>'\n",
      "\twith 119 stored elements in Compressed Sparse Row format>\n",
      "Using L_gold_dev: <514x1 sparse matrix of type '<type 'numpy.int64'>'\n",
      "\twith 74 stored elements in Compressed Sparse Row format>\n",
      "Positive Fraction: 1.4%\n",
      "\n",
      "Using L_test: <479x9 sparse matrix of type '<type 'numpy.int64'>'\n",
      "\twith 73 stored elements in Compressed Sparse Row format>\n",
      "Using L_gold_test: <479x1 sparse matrix of type '<type 'numpy.int64'>'\n",
      "\twith 93 stored elements in Compressed Sparse Row format>\n",
      "Positive Fraction: 5.0%\n",
      "\n",
      "Saved 1968 marginals\n",
      "CPU times: user 127 ms, sys: 12.8 ms, total: 140 ms\n",
      "Wall time: 133 ms\n"
     ]
    }
   ],
   "source": [
    "%time pipe.supervise()"
   ]
  },
  {
   "cell_type": "code",
   "execution_count": 11,
   "metadata": {
    "collapsed": false,
    "scrolled": false
   },
   "outputs": [
    {
     "name": "stdout",
     "output_type": "stream",
     "text": [
      "### [7.1] Begin training discriminative model\n",
      "============================================================\n",
      "[1] Testing dim = 64, dropout = 2.50e-01, rebalance = 0.00e+00, lr = 1.00e-03\n",
      "============================================================\n"
     ]
    },
    {
     "name": "stderr",
     "output_type": "stream",
     "text": [
      "/Users/bradenjh/anaconda/envs/snorkel/lib/python2.7/site-packages/tensorflow/python/ops/gradients_impl.py:91: UserWarning: Converting sparse IndexedSlices to a dense Tensor of unknown shape. This may consume a large amount of memory.\n",
      "  \"Converting sparse IndexedSlices to a dense Tensor of unknown shape. \"\n"
     ]
    },
    {
     "name": "stdout",
     "output_type": "stream",
     "text": [
      "[reRNN] Training model\n",
      "[reRNN] n_train=1968  #epochs=20  batch size=128\n",
      "[reRNN] Epoch 0 (4.08s)\tAverage loss=0.530405\tDev F1=0.00\n",
      "[reRNN] Epoch 1 (8.65s)\tAverage loss=0.163537\tDev F1=0.00\n",
      "[reRNN] Epoch 2 (13.26s)\tAverage loss=0.151931\tDev F1=0.00\n",
      "[reRNN] Epoch 3 (17.92s)\tAverage loss=0.151665\tDev F1=0.00\n",
      "[reRNN] Epoch 4 (22.69s)\tAverage loss=0.161303\tDev F1=0.00\n",
      "[reRNN] Epoch 5 (27.52s)\tAverage loss=0.149935\tDev F1=0.00\n",
      "[reRNN] Epoch 6 (32.30s)\tAverage loss=0.155079\tDev F1=0.00\n",
      "[reRNN] Epoch 7 (37.17s)\tAverage loss=0.155170\tDev F1=0.00\n",
      "[reRNN] Epoch 8 (42.13s)\tAverage loss=0.149080\tDev F1=0.00\n",
      "[reRNN] Epoch 9 (47.04s)\tAverage loss=0.150795\tDev F1=0.00\n",
      "[reRNN] Epoch 10 (51.74s)\tAverage loss=0.147591\tDev F1=0.00\n",
      "[reRNN] Epoch 11 (56.84s)\tAverage loss=0.149325\tDev F1=0.00\n",
      "[reRNN] Epoch 12 (62.00s)\tAverage loss=0.148992\tDev F1=0.00\n",
      "[reRNN] Epoch 13 (66.90s)\tAverage loss=0.148461\tDev F1=0.00\n",
      "[reRNN] Epoch 14 (71.58s)\tAverage loss=0.150072\tDev F1=0.00\n",
      "[reRNN] Epoch 15 (76.10s)\tAverage loss=0.145718\tDev F1=0.00\n",
      "[reRNN] Epoch 16 (80.78s)\tAverage loss=0.139702\tDev F1=0.00\n",
      "[reRNN] Epoch 17 (85.43s)\tAverage loss=0.154274\tDev F1=0.00\n",
      "[reRNN] Epoch 18 (90.18s)\tAverage loss=0.150885\tDev F1=0.00\n",
      "[reRNN] Epoch 19 (94.85s)\tAverage loss=0.134559\tDev F1=0.00\n",
      "[reRNN] Training done (95.24s)\n",
      "[reRNN] F-1.0 Score: 0.0\n",
      "[reRNN] Model saved as <reRNN_0>\n",
      "============================================================\n",
      "[2] Testing dim = 128, dropout = 5.00e-01, rebalance = 2.50e-01, lr = 1.00e-04\n",
      "============================================================\n",
      "[reRNN] Training model\n",
      "[reRNN] n_train=284  #epochs=20  batch size=128\n",
      "[reRNN] Epoch 0 (1.54s)\tAverage loss=0.693039\tDev F1=8.79\n",
      "[reRNN] Epoch 1 (3.98s)\tAverage loss=0.686727\tDev F1=0.00\n",
      "[reRNN] Epoch 2 (6.25s)\tAverage loss=0.679557\tDev F1=0.00\n",
      "[reRNN] Epoch 3 (8.52s)\tAverage loss=0.674741\tDev F1=0.00\n",
      "[reRNN] Epoch 4 (10.88s)\tAverage loss=0.672211\tDev F1=0.00\n",
      "[reRNN] Epoch 5 (13.24s)\tAverage loss=0.660627\tDev F1=0.00\n",
      "[reRNN] Epoch 6 (15.65s)\tAverage loss=0.655740\tDev F1=0.00\n",
      "[reRNN] Epoch 7 (18.09s)\tAverage loss=0.650922\tDev F1=0.00\n",
      "[reRNN] Epoch 8 (20.42s)\tAverage loss=0.654923\tDev F1=0.00\n",
      "[reRNN] Epoch 9 (22.70s)\tAverage loss=0.637398\tDev F1=0.00\n",
      "[reRNN] Epoch 10 (24.90s)\tAverage loss=0.628904\tDev F1=0.00\n",
      "[reRNN] Epoch 11 (27.11s)\tAverage loss=0.626587\tDev F1=0.00\n",
      "[reRNN] Epoch 12 (29.29s)\tAverage loss=0.620274\tDev F1=0.00\n",
      "[reRNN] Epoch 13 (31.47s)\tAverage loss=0.611909\tDev F1=0.00\n",
      "[reRNN] Epoch 14 (33.61s)\tAverage loss=0.601540\tDev F1=0.00\n",
      "[reRNN] Epoch 15 (35.73s)\tAverage loss=0.572463\tDev F1=0.00\n",
      "[reRNN] Epoch 16 (37.93s)\tAverage loss=0.573011\tDev F1=0.00\n",
      "[reRNN] Epoch 17 (40.13s)\tAverage loss=0.542590\tDev F1=0.00\n",
      "[reRNN] Epoch 18 (42.34s)\tAverage loss=0.551410\tDev F1=0.00\n",
      "[reRNN] Epoch 19 (44.55s)\tAverage loss=0.542624\tDev F1=0.00\n",
      "[reRNN] Training done (45.37s)\n",
      "[reRNN] F-1.0 Score: 0.0\n",
      "============================================================\n",
      "[3] Testing dim = 128, dropout = 1.00e-01, rebalance = 5.00e-01, lr = 1.00e-02\n",
      "============================================================\n",
      "[reRNN] Training model\n",
      "[reRNN] n_train=142  #epochs=20  batch size=128\n",
      "[reRNN] Epoch 0 (0.83s)\tAverage loss=0.709378\tDev F1=2.67\n",
      "[reRNN] Epoch 1 (2.54s)\tAverage loss=0.644988\tDev F1=0.00\n",
      "[reRNN] Epoch 2 (4.07s)\tAverage loss=0.401896\tDev F1=2.69\n",
      "[reRNN] Epoch 3 (5.61s)\tAverage loss=0.609376\tDev F1=3.36\n",
      "[reRNN] Epoch 4 (7.14s)\tAverage loss=0.370340\tDev F1=1.23\n",
      "[reRNN] Epoch 5 (8.76s)\tAverage loss=0.207068\tDev F1=1.21\n",
      "[reRNN] Epoch 6 (10.41s)\tAverage loss=0.163677\tDev F1=1.72\n",
      "[reRNN] Epoch 7 (12.01s)\tAverage loss=0.120281\tDev F1=1.89\n",
      "[reRNN] Epoch 8 (13.59s)\tAverage loss=0.141256\tDev F1=0.00\n",
      "[reRNN] Epoch 9 (15.18s)\tAverage loss=0.042354\tDev F1=1.75\n",
      "[reRNN] Epoch 10 (16.74s)\tAverage loss=0.028525\tDev F1=1.23\n",
      "[reRNN] Epoch 11 (18.30s)\tAverage loss=0.020648\tDev F1=3.76\n",
      "[reRNN] Epoch 12 (19.87s)\tAverage loss=0.005862\tDev F1=3.60\n",
      "[reRNN] Epoch 13 (21.44s)\tAverage loss=0.011290\tDev F1=3.49\n",
      "[reRNN] Epoch 14 (22.98s)\tAverage loss=0.006414\tDev F1=3.54\n",
      "[reRNN] Epoch 15 (24.55s)\tAverage loss=0.003555\tDev F1=3.54\n",
      "[reRNN] Epoch 16 (26.07s)\tAverage loss=0.004284\tDev F1=3.48\n",
      "[reRNN] Model saved as <reRNN>\n",
      "[reRNN] Epoch 17 (28.93s)\tAverage loss=0.004181\tDev F1=3.39\n",
      "[reRNN] Epoch 18 (30.42s)\tAverage loss=0.001553\tDev F1=3.32\n",
      "[reRNN] Epoch 19 (31.99s)\tAverage loss=0.001680\tDev F1=3.40\n",
      "[reRNN] Training done (32.79s)\n",
      "[reRNN] Loaded model <reRNN>\n",
      "[reRNN] F-1.0 Score: 0.0347826086957\n",
      "[reRNN] Model saved as <reRNN_2>\n",
      "============================================================\n",
      "[4] Testing dim = 64, dropout = 5.00e-01, rebalance = 5.00e-01, lr = 1.00e-04\n",
      "============================================================\n",
      "[reRNN] Training model\n",
      "[reRNN] n_train=142  #epochs=20  batch size=128\n",
      "[reRNN] Epoch 0 (0.46s)\tAverage loss=0.691886\tDev F1=1.43\n",
      "[reRNN] Epoch 1 (1.31s)\tAverage loss=0.693891\tDev F1=0.00\n",
      "[reRNN] Epoch 2 (2.13s)\tAverage loss=0.692957\tDev F1=1.92\n",
      "[reRNN] Epoch 3 (2.92s)\tAverage loss=0.691842\tDev F1=1.69\n",
      "[reRNN] Epoch 4 (3.70s)\tAverage loss=0.691861\tDev F1=1.39\n",
      "[reRNN] Epoch 5 (4.48s)\tAverage loss=0.690279\tDev F1=1.37\n",
      "[reRNN] Epoch 6 (5.25s)\tAverage loss=0.692851\tDev F1=1.61\n",
      "[reRNN] Epoch 7 (6.05s)\tAverage loss=0.692804\tDev F1=1.71\n",
      "[reRNN] Epoch 8 (6.88s)\tAverage loss=0.691518\tDev F1=1.83\n",
      "[reRNN] Epoch 9 (7.73s)\tAverage loss=0.690774\tDev F1=2.08\n",
      "[reRNN] Epoch 10 (8.57s)\tAverage loss=0.689409\tDev F1=2.56\n",
      "[reRNN] Epoch 11 (9.46s)\tAverage loss=0.690365\tDev F1=3.33\n",
      "[reRNN] Epoch 12 (10.33s)\tAverage loss=0.689299\tDev F1=3.92\n",
      "[reRNN] Epoch 13 (11.17s)\tAverage loss=0.692620\tDev F1=4.26\n",
      "[reRNN] Epoch 14 (12.00s)\tAverage loss=0.690074\tDev F1=4.44\n",
      "[reRNN] Epoch 15 (12.81s)\tAverage loss=0.690571\tDev F1=4.44\n",
      "[reRNN] Epoch 16 (13.66s)\tAverage loss=0.686837\tDev F1=4.44\n",
      "[reRNN] Model saved as <reRNN>\n",
      "[reRNN] Epoch 17 (15.61s)\tAverage loss=0.688328\tDev F1=5.41\n",
      "[reRNN] Model saved as <reRNN>\n",
      "[reRNN] Epoch 18 (17.78s)\tAverage loss=0.686958\tDev F1=5.41\n",
      "[reRNN] Epoch 19 (18.57s)\tAverage loss=0.692783\tDev F1=0.00\n",
      "[reRNN] Training done (18.95s)\n",
      "[reRNN] Loaded model <reRNN>\n",
      "[reRNN] F-1.0 Score: 0.0540540540541\n",
      "[reRNN] Model saved as <reRNN_3>\n",
      "============================================================\n",
      "[5] Testing dim = 128, dropout = 1.00e-01, rebalance = 5.00e-01, lr = 1.00e-02\n",
      "============================================================\n",
      "[reRNN] Training model\n",
      "[reRNN] n_train=142  #epochs=20  batch size=128\n",
      "[reRNN] Epoch 0 (0.75s)\tAverage loss=0.679994\tDev F1=0.00\n",
      "[reRNN] Epoch 1 (2.22s)\tAverage loss=0.584957\tDev F1=3.83\n",
      "[reRNN] Epoch 2 (3.71s)\tAverage loss=0.872141\tDev F1=1.09\n",
      "[reRNN] Epoch 3 (5.27s)\tAverage loss=0.443156\tDev F1=1.55\n",
      "[reRNN] Epoch 4 (6.93s)\tAverage loss=0.401489\tDev F1=1.64\n",
      "[reRNN] Epoch 5 (8.74s)\tAverage loss=0.234587\tDev F1=1.34\n",
      "[reRNN] Epoch 6 (10.43s)\tAverage loss=0.214165\tDev F1=2.16\n",
      "[reRNN] Epoch 7 (12.04s)\tAverage loss=0.107397\tDev F1=1.63\n",
      "[reRNN] Epoch 8 (13.63s)\tAverage loss=0.049471\tDev F1=1.31\n",
      "[reRNN] Epoch 9 (15.22s)\tAverage loss=0.048642\tDev F1=0.80\n",
      "[reRNN] Epoch 10 (16.79s)\tAverage loss=0.036817\tDev F1=0.98\n",
      "[reRNN] Epoch 11 (18.40s)\tAverage loss=0.022188\tDev F1=1.41\n",
      "[reRNN] Epoch 12 (20.03s)\tAverage loss=0.011871\tDev F1=1.94\n",
      "[reRNN] Epoch 13 (21.61s)\tAverage loss=0.014834\tDev F1=2.45\n",
      "[reRNN] Epoch 14 (23.19s)\tAverage loss=0.008331\tDev F1=2.95\n",
      "[reRNN] Epoch 15 (24.84s)\tAverage loss=0.004033\tDev F1=2.79\n",
      "[reRNN] Epoch 16 (26.50s)\tAverage loss=0.004220\tDev F1=2.75\n",
      "[reRNN] Model saved as <reRNN>\n",
      "[reRNN] Epoch 17 (29.14s)\tAverage loss=0.003285\tDev F1=2.72\n",
      "[reRNN] Epoch 18 (30.71s)\tAverage loss=0.001891\tDev F1=2.72\n",
      "[reRNN] Epoch 19 (32.21s)\tAverage loss=0.002259\tDev F1=2.73\n",
      "[reRNN] Training done (33.03s)\n",
      "[reRNN] Loaded model <reRNN>\n",
      "[reRNN] F-1.0 Score: 0.0274725274725\n",
      "============================================================\n",
      "[6] Testing dim = 128, dropout = 1.00e-01, rebalance = 5.00e-01, lr = 1.00e-03\n",
      "============================================================\n",
      "[reRNN] Training model\n",
      "[reRNN] n_train=142  #epochs=20  batch size=128\n",
      "[reRNN] Epoch 0 (0.72s)\tAverage loss=0.692172\tDev F1=2.94\n",
      "[reRNN] Epoch 1 (2.22s)\tAverage loss=0.684303\tDev F1=10.00\n",
      "[reRNN] Epoch 2 (3.72s)\tAverage loss=0.682336\tDev F1=5.13\n",
      "[reRNN] Epoch 3 (5.19s)\tAverage loss=0.662185\tDev F1=1.20\n",
      "[reRNN] Epoch 4 (6.72s)\tAverage loss=0.648066\tDev F1=3.81\n",
      "[reRNN] Epoch 5 (8.31s)\tAverage loss=0.625392\tDev F1=5.50\n",
      "[reRNN] Epoch 6 (9.89s)\tAverage loss=0.527410\tDev F1=6.94\n",
      "[reRNN] Epoch 7 (11.47s)\tAverage loss=0.482969\tDev F1=5.21\n",
      "[reRNN] Epoch 8 (13.04s)\tAverage loss=0.435665\tDev F1=4.57\n",
      "[reRNN] Epoch 9 (14.60s)\tAverage loss=0.320797\tDev F1=6.13\n",
      "[reRNN] Epoch 10 (16.13s)\tAverage loss=0.319168\tDev F1=6.11\n",
      "[reRNN] Epoch 11 (17.68s)\tAverage loss=0.178129\tDev F1=4.60\n",
      "[reRNN] Epoch 12 (19.24s)\tAverage loss=0.124920\tDev F1=3.83\n",
      "[reRNN] Epoch 13 (20.78s)\tAverage loss=0.087234\tDev F1=6.50\n",
      "[reRNN] Epoch 14 (22.34s)\tAverage loss=0.063303\tDev F1=0.00\n",
      "[reRNN] Epoch 15 (23.93s)\tAverage loss=0.046744\tDev F1=0.00\n",
      "[reRNN] Epoch 16 (25.44s)\tAverage loss=0.025328\tDev F1=0.00\n",
      "[reRNN] Epoch 17 (27.02s)\tAverage loss=0.021699\tDev F1=0.00\n",
      "[reRNN] Epoch 18 (28.56s)\tAverage loss=0.017610\tDev F1=0.00\n",
      "[reRNN] Epoch 19 (30.11s)\tAverage loss=0.018004\tDev F1=0.00\n",
      "[reRNN] Training done (30.93s)\n",
      "[reRNN] F-1.0 Score: 0.0\n",
      "============================================================\n",
      "[7] Testing dim = 128, dropout = 1.00e-01, rebalance = 2.50e-01, lr = 1.00e-03\n",
      "============================================================\n",
      "[reRNN] Training model\n",
      "[reRNN] n_train=284  #epochs=20  batch size=128\n",
      "[reRNN] Epoch 0 (1.28s)\tAverage loss=0.673883\tDev F1=0.00\n",
      "[reRNN] Epoch 1 (3.33s)\tAverage loss=0.620889\tDev F1=0.00\n",
      "[reRNN] Epoch 2 (5.39s)\tAverage loss=0.554099\tDev F1=0.00\n",
      "[reRNN] Epoch 3 (7.58s)\tAverage loss=0.561308\tDev F1=0.00\n",
      "[reRNN] Epoch 4 (9.80s)\tAverage loss=0.554453\tDev F1=0.00\n",
      "[reRNN] Epoch 5 (11.96s)\tAverage loss=0.514605\tDev F1=0.00\n",
      "[reRNN] Epoch 6 (14.11s)\tAverage loss=0.511459\tDev F1=0.00\n",
      "[reRNN] Epoch 7 (16.28s)\tAverage loss=0.504182\tDev F1=0.00\n",
      "[reRNN] Epoch 8 (18.43s)\tAverage loss=0.521815\tDev F1=0.00\n",
      "[reRNN] Epoch 9 (20.56s)\tAverage loss=0.415018\tDev F1=0.00\n",
      "[reRNN] Epoch 10 (22.69s)\tAverage loss=0.318341\tDev F1=0.00\n",
      "[reRNN] Epoch 11 (24.86s)\tAverage loss=0.215933\tDev F1=2.00\n",
      "[reRNN] Epoch 12 (26.98s)\tAverage loss=0.150119\tDev F1=2.86\n",
      "[reRNN] Epoch 13 (29.19s)\tAverage loss=0.112029\tDev F1=2.02\n",
      "[reRNN] Epoch 14 (31.31s)\tAverage loss=0.144750\tDev F1=0.00\n",
      "[reRNN] Epoch 15 (33.44s)\tAverage loss=0.324244\tDev F1=0.00\n",
      "[reRNN] Epoch 16 (35.67s)\tAverage loss=0.188548\tDev F1=1.34\n",
      "[reRNN] Model saved as <reRNN>\n",
      "[reRNN] Epoch 17 (38.80s)\tAverage loss=0.125640\tDev F1=1.41\n",
      "[reRNN] Model saved as <reRNN>\n",
      "[reRNN] Epoch 18 (42.18s)\tAverage loss=0.145300\tDev F1=1.32\n",
      "[reRNN] Epoch 19 (44.23s)\tAverage loss=0.194232\tDev F1=1.59\n",
      "[reRNN] Model saved as <reRNN>\n",
      "[reRNN] Training done (46.30s)\n",
      "[reRNN] Loaded model <reRNN>\n",
      "[reRNN] F-1.0 Score: 0.015873015873\n",
      "============================================================\n",
      "[8] Testing dim = 128, dropout = 5.00e-01, rebalance = 5.00e-01, lr = 1.00e-04\n",
      "============================================================\n",
      "[reRNN] Training model\n",
      "[reRNN] n_train=142  #epochs=20  batch size=128\n",
      "[reRNN] Epoch 0 (0.71s)\tAverage loss=0.693709\tDev F1=0.00\n",
      "[reRNN] Epoch 1 (2.17s)\tAverage loss=0.691894\tDev F1=0.00\n",
      "[reRNN] Epoch 2 (3.64s)\tAverage loss=0.692693\tDev F1=0.00\n",
      "[reRNN] Epoch 3 (5.12s)\tAverage loss=0.691805\tDev F1=0.00\n",
      "[reRNN] Epoch 4 (6.68s)\tAverage loss=0.691302\tDev F1=0.00\n",
      "[reRNN] Epoch 5 (8.26s)\tAverage loss=0.690246\tDev F1=0.00\n",
      "[reRNN] Epoch 6 (9.90s)\tAverage loss=0.691637\tDev F1=0.00\n",
      "[reRNN] Epoch 7 (11.46s)\tAverage loss=0.690599\tDev F1=0.00\n",
      "[reRNN] Epoch 8 (13.01s)\tAverage loss=0.689681\tDev F1=0.00\n",
      "[reRNN] Epoch 9 (14.58s)\tAverage loss=0.688228\tDev F1=0.00\n",
      "[reRNN] Epoch 10 (16.14s)\tAverage loss=0.685795\tDev F1=0.00\n",
      "[reRNN] Epoch 11 (17.71s)\tAverage loss=0.686129\tDev F1=0.00\n",
      "[reRNN] Epoch 12 (19.23s)\tAverage loss=0.684781\tDev F1=0.00\n",
      "[reRNN] Epoch 13 (20.78s)\tAverage loss=0.688747\tDev F1=0.00\n",
      "[reRNN] Epoch 14 (22.33s)\tAverage loss=0.685296\tDev F1=0.00\n",
      "[reRNN] Epoch 15 (23.86s)\tAverage loss=0.687244\tDev F1=0.00\n",
      "[reRNN] Epoch 16 (25.43s)\tAverage loss=0.679521\tDev F1=0.00\n",
      "[reRNN] Epoch 17 (26.96s)\tAverage loss=0.681935\tDev F1=0.00\n",
      "[reRNN] Epoch 18 (28.51s)\tAverage loss=0.677065\tDev F1=0.00\n",
      "[reRNN] Epoch 19 (30.09s)\tAverage loss=0.688339\tDev F1=0.00\n",
      "[reRNN] Training done (30.95s)\n",
      "[reRNN] F-1.0 Score: 0.0\n",
      "============================================================\n",
      "[9] Testing dim = 128, dropout = 2.50e-01, rebalance = 2.50e-01, lr = 1.00e-02\n",
      "============================================================\n",
      "[reRNN] Training model\n",
      "[reRNN] n_train=284  #epochs=20  batch size=128\n",
      "[reRNN] Epoch 0 (1.27s)\tAverage loss=0.719426\tDev F1=0.00\n",
      "[reRNN] Epoch 1 (3.33s)\tAverage loss=0.599886\tDev F1=0.00\n",
      "[reRNN] Epoch 2 (5.47s)\tAverage loss=0.513567\tDev F1=0.00\n",
      "[reRNN] Epoch 3 (7.75s)\tAverage loss=0.440011\tDev F1=2.94\n",
      "[reRNN] Epoch 4 (9.99s)\tAverage loss=0.379916\tDev F1=3.92\n",
      "[reRNN] Epoch 5 (12.23s)\tAverage loss=0.201425\tDev F1=0.00\n",
      "[reRNN] Epoch 6 (14.41s)\tAverage loss=0.123688\tDev F1=0.00\n",
      "[reRNN] Epoch 7 (16.62s)\tAverage loss=0.093198\tDev F1=0.00\n",
      "[reRNN] Epoch 8 (18.79s)\tAverage loss=0.066485\tDev F1=0.00\n",
      "[reRNN] Epoch 9 (20.91s)\tAverage loss=0.090592\tDev F1=0.00\n",
      "[reRNN] Epoch 10 (23.07s)\tAverage loss=0.032815\tDev F1=0.00\n",
      "[reRNN] Epoch 11 (25.17s)\tAverage loss=0.060145\tDev F1=0.00\n",
      "[reRNN] Epoch 12 (27.35s)\tAverage loss=0.026673\tDev F1=0.00\n",
      "[reRNN] Epoch 13 (29.45s)\tAverage loss=0.091431\tDev F1=0.00\n",
      "[reRNN] Epoch 14 (31.60s)\tAverage loss=0.076458\tDev F1=0.00\n",
      "[reRNN] Epoch 15 (33.74s)\tAverage loss=0.035338\tDev F1=0.00\n",
      "[reRNN] Epoch 16 (35.93s)\tAverage loss=0.061520\tDev F1=0.00\n",
      "[reRNN] Epoch 17 (38.05s)\tAverage loss=0.043382\tDev F1=0.00\n",
      "[reRNN] Epoch 18 (40.16s)\tAverage loss=0.049779\tDev F1=0.00\n",
      "[reRNN] Epoch 19 (42.34s)\tAverage loss=0.065281\tDev F1=0.00\n",
      "[reRNN] Training done (43.14s)\n",
      "[reRNN] F-1.0 Score: 0.0\n",
      "============================================================\n",
      "[10] Testing dim = 128, dropout = 5.00e-01, rebalance = 2.50e-01, lr = 1.00e-03\n",
      "============================================================\n",
      "[reRNN] Training model\n",
      "[reRNN] n_train=284  #epochs=20  batch size=128\n",
      "[reRNN] Epoch 0 (1.27s)\tAverage loss=0.675032\tDev F1=0.00\n",
      "[reRNN] Epoch 1 (3.31s)\tAverage loss=0.623748\tDev F1=0.00\n",
      "[reRNN] Epoch 2 (5.39s)\tAverage loss=0.555219\tDev F1=0.00\n",
      "[reRNN] Epoch 3 (7.55s)\tAverage loss=0.571965\tDev F1=0.00\n",
      "[reRNN] Epoch 4 (9.76s)\tAverage loss=0.546507\tDev F1=0.00\n",
      "[reRNN] Epoch 5 (11.94s)\tAverage loss=0.506055\tDev F1=0.00\n",
      "[reRNN] Epoch 6 (14.09s)\tAverage loss=0.508156\tDev F1=0.00\n",
      "[reRNN] Epoch 7 (16.23s)\tAverage loss=0.500967\tDev F1=0.00\n",
      "[reRNN] Epoch 8 (18.45s)\tAverage loss=0.506210\tDev F1=0.00\n",
      "[reRNN] Epoch 9 (20.57s)\tAverage loss=0.402749\tDev F1=0.00\n",
      "[reRNN] Epoch 10 (22.73s)\tAverage loss=0.304152\tDev F1=0.00\n",
      "[reRNN] Epoch 11 (24.85s)\tAverage loss=0.218360\tDev F1=0.00\n",
      "[reRNN] Epoch 12 (26.99s)\tAverage loss=0.151889\tDev F1=0.00\n",
      "[reRNN] Epoch 13 (29.13s)\tAverage loss=0.137062\tDev F1=0.00\n",
      "[reRNN] Epoch 14 (31.28s)\tAverage loss=0.125320\tDev F1=0.00\n",
      "[reRNN] Epoch 15 (33.40s)\tAverage loss=0.098426\tDev F1=0.00\n",
      "[reRNN] Epoch 16 (35.54s)\tAverage loss=0.097842\tDev F1=0.00\n",
      "[reRNN] Epoch 17 (37.66s)\tAverage loss=0.161845\tDev F1=0.00\n",
      "[reRNN] Epoch 18 (39.78s)\tAverage loss=0.219000\tDev F1=0.00\n",
      "[reRNN] Epoch 19 (41.91s)\tAverage loss=0.197920\tDev F1=0.00\n",
      "[reRNN] Training done (42.72s)\n",
      "[reRNN] F-1.0 Score: 0.0\n",
      "[reRNN] Loaded model <reRNN_3>\n",
      "   dim  dropout  rebalance      lr     Prec.      Rec.     F-1.0\n",
      "3   64     0.50       0.50  0.0001  0.033333  0.142857  0.054054\n",
      "2  128     0.10       0.50  0.0100  0.017937  0.571429  0.034783\n",
      "4  128     0.10       0.50  0.0100  0.014006  0.714286  0.027473\n",
      "6  128     0.10       0.25  0.0010  0.008403  0.142857  0.015873\n",
      "0   64     0.25       0.00  0.0010  0.000000  0.000000  0.000000\n",
      "1  128     0.50       0.25  0.0001  0.000000  0.000000  0.000000\n",
      "5  128     0.10       0.50  0.0010  0.000000  0.000000  0.000000\n",
      "7  128     0.50       0.50  0.0001  0.000000  0.000000  0.000000\n",
      "8  128     0.25       0.25  0.0100  0.000000  0.000000  0.000000\n",
      "9  128     0.50       0.25  0.0010  0.000000  0.000000  0.000000\n",
      "[reRNN] Model saved as <discriminative_protein>\n",
      "### Done in 463.0s.\n",
      "\n",
      "### [7.2] Evaluate generative model (opt_b=0.5)\n",
      "### Done in 0.0s.\n",
      "\n",
      "### [7.3] Evaluate discriminative model (opt_b=0.5)\n",
      "### Done in 1.3s.\n",
      "\n",
      "      F1 Score  Precision    Recall\n",
      "Disc  0.000000   0.000000  0.000000\n",
      "Gen   0.052632   0.071429  0.041667\n",
      "CPU times: user 41min 26s, sys: 5min 12s, total: 46min 39s\n",
      "Wall time: 7min 44s\n"
     ]
    }
   ],
   "source": [
    "%time pipe.classify()"
   ]
  },
  {
   "cell_type": "code",
   "execution_count": null,
   "metadata": {
    "collapsed": true
   },
   "outputs": [],
   "source": []
  }
 ],
 "metadata": {
  "kernelspec": {
   "display_name": "Python 2",
   "language": "python",
   "name": "python2"
  },
  "language_info": {
   "codemirror_mode": {
    "name": "ipython",
    "version": 2
   },
   "file_extension": ".py",
   "mimetype": "text/x-python",
   "name": "python",
   "nbconvert_exporter": "python",
   "pygments_lexer": "ipython2",
   "version": "2.7.13"
  }
 },
 "nbformat": 4,
 "nbformat_minor": 2
}
