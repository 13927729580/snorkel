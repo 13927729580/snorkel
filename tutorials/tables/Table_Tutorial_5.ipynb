{
 "cells": [
  {
   "cell_type": "markdown",
   "metadata": {},
   "source": [
    "## Part V: Training a Model with Data Programming"
   ]
  },
  {
   "cell_type": "code",
   "execution_count": 1,
   "metadata": {
    "collapsed": false
   },
   "outputs": [],
   "source": [
    "# If necessary:\n",
    "import os\n",
    "os.remove('snorkel.db');\n",
    "os.system('cp snorkel.db\\ features snorkel.db');"
   ]
  },
  {
   "cell_type": "code",
   "execution_count": 2,
   "metadata": {
    "collapsed": false
   },
   "outputs": [],
   "source": [
    "%load_ext autoreload\n",
    "%autoreload 2\n",
    "\n",
    "from snorkel import SnorkelSession\n",
    "session = SnorkelSession()"
   ]
  },
  {
   "cell_type": "code",
   "execution_count": 3,
   "metadata": {
    "collapsed": false
   },
   "outputs": [],
   "source": [
    "from snorkel.models import candidate_subclass\n",
    "\n",
    "Part_Temp = candidate_subclass('Part_Temp', ['part','temp'])"
   ]
  },
  {
   "cell_type": "markdown",
   "metadata": {},
   "source": [
    "### Loading the `CandidateSet`, feature matrix, and label matrix"
   ]
  },
  {
   "cell_type": "code",
   "execution_count": 4,
   "metadata": {
    "collapsed": false
   },
   "outputs": [],
   "source": [
    "from snorkel.models import CandidateSet\n",
    "train = session.query(CandidateSet).filter(\n",
    "    CandidateSet.name == 'Hardware Training Candidates').one()"
   ]
  },
  {
   "cell_type": "code",
   "execution_count": 5,
   "metadata": {
    "collapsed": false
   },
   "outputs": [
    {
     "name": "stdout",
     "output_type": "stream",
     "text": [
      "CPU times: user 27.9 s, sys: 1.3 s, total: 29.2 s\n",
      "Wall time: 29.6 s\n"
     ]
    }
   ],
   "source": [
    "from snorkel.annotations import FeatureManager\n",
    "\n",
    "feature_manager = FeatureManager()\n",
    "\n",
    "%time F_train = feature_manager.load(session, train, 'Train Features')"
   ]
  },
  {
   "cell_type": "code",
   "execution_count": 6,
   "metadata": {
    "collapsed": false
   },
   "outputs": [
    {
     "name": "stdout",
     "output_type": "stream",
     "text": [
      "CPU times: user 512 ms, sys: 23.6 ms, total: 536 ms\n",
      "Wall time: 571 ms\n"
     ]
    }
   ],
   "source": [
    "from snorkel.annotations import LabelManager\n",
    "\n",
    "label_manager = LabelManager()\n",
    "\n",
    "%time L_train = label_manager.load(session, train, 'LF Labels')"
   ]
  },
  {
   "cell_type": "markdown",
   "metadata": {},
   "source": [
    "## Train Generative Model"
   ]
  },
  {
   "cell_type": "code",
   "execution_count": 34,
   "metadata": {
    "collapsed": false
   },
   "outputs": [
    {
     "name": "stdout",
     "output_type": "stream",
     "text": [
      "================================================================================\n",
      "Training marginals (!= 0.5):\t11549\n",
      "Features:\t\t\t13\n",
      "================================================================================\n",
      "Begin training for rate=0.001, mu=1e-06\n",
      "\tLearning epoch = 0\tGradient mag. = 0.328638\n",
      "\tLearning epoch = 250\tGradient mag. = 0.349080\n",
      "\tLearning epoch = 500\tGradient mag. = 0.353049\n",
      "\tLearning epoch = 750\tGradient mag. = 0.357757\n",
      "\tLearning epoch = 1000\tGradient mag. = 0.363124\n",
      "\tLearning epoch = 1250\tGradient mag. = 0.369074\n",
      "\tLearning epoch = 1500\tGradient mag. = 0.375534\n",
      "\tLearning epoch = 1750\tGradient mag. = 0.382440\n",
      "\tLearning epoch = 2000\tGradient mag. = 0.389731\n",
      "\tLearning epoch = 2250\tGradient mag. = 0.397351\n",
      "\tLearning epoch = 2500\tGradient mag. = 0.405251\n",
      "\tLearning epoch = 2750\tGradient mag. = 0.413388\n",
      "\tLearning epoch = 3000\tGradient mag. = 0.421722\n",
      "\tLearning epoch = 3250\tGradient mag. = 0.430219\n",
      "\tLearning epoch = 3500\tGradient mag. = 0.438847\n",
      "\tLearning epoch = 3750\tGradient mag. = 0.447580\n",
      "\tLearning epoch = 4000\tGradient mag. = 0.456394\n",
      "\tLearning epoch = 4250\tGradient mag. = 0.465266\n",
      "\tLearning epoch = 4500\tGradient mag. = 0.474179\n",
      "\tLearning epoch = 4750\tGradient mag. = 0.483114\n",
      "\tLearning epoch = 5000\tGradient mag. = 0.492057\n",
      "\tLearning epoch = 5250\tGradient mag. = 0.500995\n",
      "\tLearning epoch = 5500\tGradient mag. = 0.509917\n",
      "\tLearning epoch = 5750\tGradient mag. = 0.518815\n",
      "\tLearning epoch = 6000\tGradient mag. = 0.527682\n",
      "\tLearning epoch = 6250\tGradient mag. = 0.536515\n",
      "\tLearning epoch = 6500\tGradient mag. = 0.545311\n",
      "\tLearning epoch = 6750\tGradient mag. = 0.554072\n",
      "\tLearning epoch = 7000\tGradient mag. = 0.562800\n",
      "\tLearning epoch = 7250\tGradient mag. = 0.571499\n",
      "\tLearning epoch = 7500\tGradient mag. = 0.580175\n",
      "\tLearning epoch = 7750\tGradient mag. = 0.588833\n",
      "\tLearning epoch = 8000\tGradient mag. = 0.597480\n",
      "\tLearning epoch = 8250\tGradient mag. = 0.606123\n",
      "\tLearning epoch = 8500\tGradient mag. = 0.614770\n",
      "\tLearning epoch = 8750\tGradient mag. = 0.623426\n",
      "\tLearning epoch = 9000\tGradient mag. = 0.632097\n",
      "\tLearning epoch = 9250\tGradient mag. = 0.640788\n",
      "\tLearning epoch = 9500\tGradient mag. = 0.649506\n",
      "\tLearning epoch = 9750\tGradient mag. = 0.658254\n",
      "Final gradient magnitude for rate=0.001, mu=1e-06: 0.666\n"
     ]
    }
   ],
   "source": [
    "from snorkel.learning import NaiveBayes\n",
    "\n",
    "gen_model = NaiveBayes()\n",
    "# gen_model.train(L_train, n_iter=3000, rate=1e-5)\n",
    "gen_model.train(L_train, n_iter=10000, rate=1e-3)"
   ]
  },
  {
   "cell_type": "code",
   "execution_count": 8,
   "metadata": {
    "collapsed": true
   },
   "outputs": [],
   "source": [
    "gen_model.save(session, 'Generative Params')"
   ]
  },
  {
   "cell_type": "code",
   "execution_count": 9,
   "metadata": {
    "collapsed": true
   },
   "outputs": [],
   "source": [
    "train_marginals = gen_model.marginals(L_train)"
   ]
  },
  {
   "cell_type": "code",
   "execution_count": 35,
   "metadata": {
    "collapsed": false
   },
   "outputs": [
    {
     "name": "stdout",
     "output_type": "stream",
     "text": [
      "[ 2.46336601  1.42005359  0.99999     2.01689283  3.36379218  0.99999\n",
      "  0.50634606  0.56627684  1.2349349   4.56555276  1.52739283  0.99653459\n",
      "  2.31319165]\n"
     ]
    }
   ],
   "source": [
    "print gen_model.w"
   ]
  },
  {
   "cell_type": "markdown",
   "metadata": {},
   "source": [
    "## Train Discriminative Model"
   ]
  },
  {
   "cell_type": "code",
   "execution_count": 10,
   "metadata": {
    "collapsed": false
   },
   "outputs": [
    {
     "name": "stdout",
     "output_type": "stream",
     "text": [
      "================================================================================\n",
      "Training marginals (!= 0.5):\t11549\n",
      "Features:\t\t\t19955\n",
      "================================================================================\n",
      "Using gradient descent...\n",
      "\tLearning epoch = 0\tStep size = 0.001\n",
      "\tLoss = 8005.156788\tGradient magnitude = 11166.959807\n",
      "\tLearning epoch = 100\tStep size = 0.000904792147114\n",
      "\tLoss = 35996.843633\tGradient magnitude = 6470.501391\n",
      "\tLearning epoch = 200\tStep size = 0.000818648829479\n",
      "\tLoss = 58941.793690\tGradient magnitude = 29104.813215\n",
      "\tLearning epoch = 300\tStep size = 0.000740707032156\n",
      "\tLoss = 67702.749222\tGradient magnitude = 7983.638145\n",
      "\tLearning epoch = 400\tStep size = 0.000670185906007\n",
      "\tLoss = 50830.283398\tGradient magnitude = 15359.215311\n",
      "\tLearning epoch = 500\tStep size = 0.000606378944861\n",
      "\tLoss = 61617.204091\tGradient magnitude = 8399.724903\n",
      "\tLearning epoch = 600\tStep size = 0.000548646907485\n",
      "\tLoss = 20968.759949\tGradient magnitude = 5578.592258\n",
      "\tLearning epoch = 700\tStep size = 0.000496411413431\n",
      "\tLoss = 35346.350507\tGradient magnitude = 6105.839504\n",
      "\tLearning epoch = 800\tStep size = 0.00044914914861\n",
      "\tLoss = 31588.096425\tGradient magnitude = 14358.109675\n",
      "\tLearning epoch = 900\tStep size = 0.000406386622545\n",
      "\tLoss = 17870.254745\tGradient magnitude = 9867.715779\n",
      "\tLearning epoch = 1000\tStep size = 0.000367695424771\n",
      "\tLoss = 11505.185863\tGradient magnitude = 3523.397447\n",
      "\tLearning epoch = 1100\tStep size = 0.000332687932862\n",
      "\tLoss = 38331.860335\tGradient magnitude = 9721.516606\n",
      "\tLearning epoch = 1200\tStep size = 0.000301013429093\n",
      "\tLoss = 15513.797191\tGradient magnitude = 5704.790171\n",
      "\tLearning epoch = 1300\tStep size = 0.000272354586819\n",
      "\tLoss = 65381.122487\tGradient magnitude = 19478.312216\n",
      "\tLearning epoch = 1400\tStep size = 0.000246424291385\n",
      "\tLoss = 36628.282863\tGradient magnitude = 11570.581464\n",
      "\tLearning epoch = 1500\tStep size = 0.000222962763703\n",
      "\tLoss = 19765.927363\tGradient magnitude = 9308.057597\n",
      "\tLearning epoch = 1600\tStep size = 0.000201734957697\n",
      "\tLoss = 7921.567482\tGradient magnitude = 4963.543689\n",
      "\tLearning epoch = 1700\tStep size = 0.000182528205523\n",
      "\tLoss = 6552.010323\tGradient magnitude = 4070.111676\n",
      "\tLearning epoch = 1800\tStep size = 0.000165150086984\n",
      "\tLoss = 12332.437040\tGradient magnitude = 9532.472524\n",
      "\tLearning epoch = 1900\tStep size = 0.000149426501798\n",
      "\tLoss = 5166.557715\tGradient magnitude = 1708.806694\n",
      "\tLearning epoch = 2000\tStep size = 0.000135199925397\n",
      "\tLoss = 7016.466103\tGradient magnitude = 11862.066546\n",
      "\tLearning epoch = 2100\tStep size = 0.00012232783079\n",
      "\tLoss = 6751.040467\tGradient magnitude = 11742.372162\n",
      "\tLearning epoch = 2200\tStep size = 0.000110681260672\n",
      "\tLoss = 6124.866389\tGradient magnitude = 11094.603017\n",
      "\tLearning epoch = 2300\tStep size = 0.000100143535489\n",
      "\tLoss = 5611.542066\tGradient magnitude = 10326.587905\n",
      "\tLearning epoch = 2400\tStep size = 9.06090844946e-05\n",
      "\tLoss = 5208.868624\tGradient magnitude = 9410.558172\n",
      "\tLearning epoch = 2500\tStep size = 8.19823881078e-05\n",
      "\tLoss = 4874.421524\tGradient magnitude = 8165.676450\n",
      "\tLearning epoch = 2600\tStep size = 7.41770209616e-05\n",
      "\tLoss = 4581.908683\tGradient magnitude = 6274.365086\n",
      "\tLearning epoch = 2700\tStep size = 6.71147860624e-05\n",
      "\tLoss = 4441.599659\tGradient magnitude = 5443.865360\n",
      "\tLearning epoch = 2800\tStep size = 6.07249313844e-05\n",
      "\tLoss = 4299.822640\tGradient magnitude = 4275.937492\n",
      "\tLearning epoch = 2900\tStep size = 5.49434410507e-05\n",
      "\tLoss = 4150.860694\tGradient magnitude = 2245.309675\n",
      "\tLearning epoch = 3000\tStep size = 4.9712393998e-05\n",
      "\tLoss = 4090.323667\tGradient magnitude = 29.830021\n",
      "\tLearning epoch = 3100\tStep size = 4.49793837036e-05\n",
      "\tLoss = 4086.378041\tGradient magnitude = 28.133544\n",
      "\tLearning epoch = 3200\tStep size = 4.06969931571e-05\n",
      "\tLoss = 4083.131064\tGradient magnitude = 26.983932\n",
      "\tLearning epoch = 3300\tStep size = 3.68223198197e-05\n",
      "\tLoss = 4080.408400\tGradient magnitude = 26.067241\n",
      "\tLearning epoch = 3400\tStep size = 3.33165458113e-05\n",
      "\tLoss = 4078.097501\tGradient magnitude = 25.311139\n",
      "\tLearning epoch = 3500\tStep size = 3.01445490191e-05\n",
      "\tLoss = 4076.118247\tGradient magnitude = 24.674892\n",
      "\tLearning epoch = 3600\tStep size = 2.72745512307e-05\n",
      "\tLoss = 4074.410834\tGradient magnitude = 24.132183\n",
      "\tLearning epoch = 3700\tStep size = 2.46777997696e-05\n",
      "\tLoss = 4072.929229\tGradient magnitude = 23.664661\n",
      "\tLearning epoch = 3800\tStep size = 2.23282794396e-05\n",
      "\tLoss = 4071.637203\tGradient magnitude = 23.258862\n",
      "\tLearning epoch = 3900\tStep size = 2.02024518955e-05\n",
      "\tLoss = 4070.505744\tGradient magnitude = 22.904541\n",
      "\tLearning epoch = 4000\tStep size = 1.82790198275e-05\n",
      "\tLoss = 4069.511293\tGradient magnitude = 22.593683\n",
      "\tLearning epoch = 4100\tStep size = 1.65387135968e-05\n",
      "\tLoss = 4068.634495\tGradient magnitude = 22.319881\n",
      "\tLearning epoch = 4200\tStep size = 1.49640981858e-05\n",
      "\tLoss = 4067.859290\tGradient magnitude = 22.077920\n",
      "\tLearning epoch = 4300\tStep size = 1.35393985271e-05\n",
      "\tLoss = 4067.172235\tGradient magnitude = 21.863500\n",
      "\tLearning epoch = 4400\tStep size = 1.2250341464e-05\n",
      "\tLoss = 4066.561998\tGradient magnitude = 21.673034\n",
      "\tLearning epoch = 4500\tStep size = 1.10840127561e-05\n",
      "\tLoss = 4066.018953\tGradient magnitude = 21.503495\n",
      "\tLearning epoch = 4600\tStep size = 1.00287277002e-05\n",
      "\tLoss = 4065.534884\tGradient magnitude = 21.352314\n",
      "\tLearning epoch = 4700\tStep size = 9.0739140687e-06\n",
      "\tLoss = 4065.102734\tGradient magnitude = 21.217293\n",
      "\tLearning epoch = 4800\tStep size = 8.21000619294e-06\n",
      "\tLoss = 4064.716412\tGradient magnitude = 21.096537\n",
      "\tLearning epoch = 4900\tStep size = 7.42834913113e-06\n",
      "\tLoss = 4064.370643\tGradient magnitude = 20.988409\n"
     ]
    }
   ],
   "source": [
    "from snorkel.learning import LogReg\n",
    "\n",
    "disc_model = LogReg()\n",
    "disc_model.train(F_train, train_marginals, n_iter=5000, rate=1e-3)"
   ]
  },
  {
   "cell_type": "code",
   "execution_count": 11,
   "metadata": {
    "collapsed": false
   },
   "outputs": [
    {
     "data": {
      "text/plain": [
       "(19955,)"
      ]
     },
     "execution_count": 11,
     "metadata": {},
     "output_type": "execute_result"
    }
   ],
   "source": [
    "disc_model.w.shape"
   ]
  },
  {
   "cell_type": "code",
   "execution_count": 12,
   "metadata": {
    "collapsed": false
   },
   "outputs": [
    {
     "name": "stdout",
     "output_type": "stream",
     "text": [
      "CPU times: user 5.78 s, sys: 193 ms, total: 5.97 s\n",
      "Wall time: 6.02 s\n"
     ]
    }
   ],
   "source": [
    "%time disc_model.save(session, \"Discriminative Params\")"
   ]
  },
  {
   "cell_type": "markdown",
   "metadata": {},
   "source": [
    "## Assess Performance on Development Set"
   ]
  },
  {
   "cell_type": "code",
   "execution_count": 13,
   "metadata": {
    "collapsed": false
   },
   "outputs": [],
   "source": [
    "from snorkel.models import CandidateSet\n",
    "dev = session.query(CandidateSet).filter(\n",
    "    CandidateSet.name == 'Hardware Development Candidates').one()"
   ]
  },
  {
   "cell_type": "markdown",
   "metadata": {},
   "source": [
    "### Loading the Development Feature Matrix"
   ]
  },
  {
   "cell_type": "code",
   "execution_count": 14,
   "metadata": {
    "collapsed": false
   },
   "outputs": [
    {
     "name": "stdout",
     "output_type": "stream",
     "text": [
      "CPU times: user 16 s, sys: 688 ms, total: 16.7 s\n",
      "Wall time: 17 s\n"
     ]
    }
   ],
   "source": [
    "from snorkel.annotations import FeatureManager\n",
    "\n",
    "feature_manager = FeatureManager()\n",
    "%time F_dev = feature_manager.load(session, dev, 'Train Features')"
   ]
  },
  {
   "cell_type": "code",
   "execution_count": 15,
   "metadata": {
    "collapsed": false
   },
   "outputs": [],
   "source": [
    "L_dev = label_manager.load(session, dev, \"Hardware Development Labels -- Gold\")"
   ]
  },
  {
   "cell_type": "code",
   "execution_count": 16,
   "metadata": {
    "collapsed": false
   },
   "outputs": [],
   "source": [
    "gold_dev_set = session.query(CandidateSet).filter(\n",
    "    CandidateSet.name == 'Hardware Development Candidates -- Gold').one()"
   ]
  },
  {
   "cell_type": "code",
   "execution_count": 17,
   "metadata": {
    "collapsed": false
   },
   "outputs": [
    {
     "data": {
      "text/plain": [
       "(3163, 19955)"
      ]
     },
     "execution_count": 17,
     "metadata": {},
     "output_type": "execute_result"
    }
   ],
   "source": [
    "F_dev.shape"
   ]
  },
  {
   "cell_type": "code",
   "execution_count": 18,
   "metadata": {
    "collapsed": false,
    "scrolled": true
   },
   "outputs": [
    {
     "name": "stdout",
     "output_type": "stream",
     "text": [
      "Calibration plot:\n",
      "========================================\n",
      "Recall-corrected Noise-aware Model\n",
      "========================================\n",
      "Pos. class accuracy: 0.726519337017\n",
      "Neg. class accuracy: 0.751874330596\n",
      "Corpus Precision 0.275\n",
      "Corpus Recall    0.727\n",
      "Corpus F1        0.398\n",
      "----------------------------------------\n",
      "TP: 263 | FP: 695 | TN: 2106 | FN: 99\n",
      "========================================\n",
      "\n",
      "========================================\n",
      "Recall-corrected Noise-aware Model\n",
      "========================================\n",
      "Pos. class accuracy: 0.726519337017\n",
      "Neg. class accuracy: 0.751874330596\n",
      "Corpus Precision 0.275\n",
      "Corpus Recall    0.727\n",
      "Corpus F1        0.398\n",
      "----------------------------------------\n",
      "TP: 263 | FP: 695 | TN: 2106 | FN: 99\n",
      "========================================\n",
      "\n"
     ]
    },
    {
     "name": "stderr",
     "output_type": "stream",
     "text": [
      "/Users/bradenhancock/anaconda/lib/python2.7/site-packages/numpy/core/_methods.py:59: RuntimeWarning: Mean of empty slice.\n",
      "  warnings.warn(\"Mean of empty slice.\", RuntimeWarning)\n"
     ]
    }
   ],
   "source": [
    "tp, fp, tn, fn = disc_model.score(F_dev, L_dev, gold_dev_set)"
   ]
  },
  {
   "cell_type": "code",
   "execution_count": 44,
   "metadata": {
    "collapsed": false
   },
   "outputs": [],
   "source": [
    "def error_analysis(c):\n",
    "    print \"Doc: %s\" % c[0].parent.document\n",
    "    print \"Part:\"\n",
    "    print c.part\n",
    "    table_info(c.part)\n",
    "    print \"------------\"\n",
    "    print \"Temp:\"\n",
    "    print c.temp\n",
    "    table_info(c.temp)\n",
    "\n",
    "def table_info(span):\n",
    "    print \"Table: %s\" % span.parent.table\n",
    "    if span.parent.cell:\n",
    "        print \"Row: %s\" % span.parent.row_num\n",
    "        print \"Col: %s\" % span.parent.col_num\n",
    "    print \"Phrase\"\n",
    "#     print c[0]\n",
    "#     print c[0].parent\n",
    "#     print (c[0].parent.row_num, c[0].parent.col_num)\n",
    "#     print c[1]\n",
    "#     print c[1].parent\n",
    "#     print (c[1].parent.row_num, c[1].parent.col_num)"
   ]
  },
  {
   "cell_type": "code",
   "execution_count": 45,
   "metadata": {
    "collapsed": false
   },
   "outputs": [
    {
     "name": "stdout",
     "output_type": "stream",
     "text": [
      "Doc: Document PHGLS18216-1\n",
      "Part:\n",
      "ImplicitSpan(\"BC847DG\", parent=95266, words=[0,0], position=[0])\n",
      "Table: Table(Document PHGLS18216-1, 9)\n",
      "Row: 8\n",
      "Col: 0\n",
      "Temp: ImplicitSpan(\"-65\", parent=95349, words=[0,0], position=[0])\n"
     ]
    }
   ],
   "source": [
    "# for c in list(fp)[:5]:\n",
    "#     print c\n",
    "c = list(fp)[0]\n",
    "error_analysis(c)\n",
    "# print c.temp.parent.html_anc_tags"
   ]
  },
  {
   "cell_type": "code",
   "execution_count": 20,
   "metadata": {
    "collapsed": false
   },
   "outputs": [
    {
     "name": "stdout",
     "output_type": "stream",
     "text": [
      "========================================\n",
      "Scoring on Entity-Level Gold Data\n",
      "========================================\n",
      "Corpus Precision 0.385\n",
      "Corpus Recall    0.574\n",
      "Corpus F1        0.461\n",
      "----------------------------------------\n",
      "TP: 70 | FP: 112 | FN: 52\n",
      "========================================\n",
      "\n"
     ]
    }
   ],
   "source": [
    "from snorkel.models import Corpus\n",
    "from hardware_utils import entity_level_f1\n",
    "import os\n",
    "\n",
    "gold_file = os.environ['SNORKELHOME'] + '/tutorials/tables/data/hardware/hardware_gold.csv'\n",
    "corpus = session.query(Corpus).filter(Corpus.name == 'Hardware Development').one()\n",
    "entity_level_f1(tp, fp, tn, fn, gold_file, corpus, 'stg_temp_min')"
   ]
  },
  {
   "cell_type": "code",
   "execution_count": null,
   "metadata": {
    "collapsed": true
   },
   "outputs": [],
   "source": [
    "import os\n",
    "os.system('cp snorkel.db snorkel.db\\ final');"
   ]
  },
  {
   "cell_type": "markdown",
   "metadata": {},
   "source": [
    "The End."
   ]
  }
 ],
 "metadata": {
  "anaconda-cloud": {},
  "kernelspec": {
   "display_name": "Python [default]",
   "language": "python",
   "name": "python2"
  },
  "language_info": {
   "codemirror_mode": {
    "name": "ipython",
    "version": 2
   },
   "file_extension": ".py",
   "mimetype": "text/x-python",
   "name": "python",
   "nbconvert_exporter": "python",
   "pygments_lexer": "ipython2",
   "version": "2.7.12"
  }
 },
 "nbformat": 4,
 "nbformat_minor": 0
}
