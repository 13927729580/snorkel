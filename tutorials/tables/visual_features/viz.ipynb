{
 "cells": [
  {
   "cell_type": "markdown",
   "metadata": {},
   "source": [
    "# Adding Visual Features"
   ]
  },
  {
   "cell_type": "code",
   "execution_count": 1,
   "metadata": {
    "collapsed": false,
    "scrolled": true
   },
   "outputs": [
    {
     "name": "stdout",
     "output_type": "stream",
     "text": [
      "The autoreload extension is already loaded. To reload it, use:\n",
      "  %reload_ext autoreload\n"
     ]
    }
   ],
   "source": [
    "%load_ext autoreload\n",
    "%autoreload 2\n",
    "\n",
    "import os\n",
    "# os.remove('snorkel.db')\n",
    "\n",
    "import sys\n",
    "sys.path.append(os.environ['SNORKELHOME'] + '/tutorials/tables/')\n",
    "\n",
    "from snorkel import SnorkelSession\n",
    "session = SnorkelSession()\n",
    "\n",
    "from pdb import set_trace as t"
   ]
  },
  {
   "cell_type": "markdown",
   "metadata": {},
   "source": [
    "### Step 1: PDF to HTML Conversion"
   ]
  },
  {
   "cell_type": "markdown",
   "metadata": {},
   "source": [
    "Use Adobe Acrobat (or other program of your choice) to convert PDF -> HTML with structure."
   ]
  },
  {
   "cell_type": "code",
   "execution_count": 2,
   "metadata": {
    "collapsed": true
   },
   "outputs": [],
   "source": [
    "from visual_linking import VisualLinker\n",
    "vizlink = VisualLinker(session)"
   ]
  },
  {
   "cell_type": "markdown",
   "metadata": {},
   "source": [
    "### Step 2: Parse PDF"
   ]
  },
  {
   "cell_type": "code",
   "execution_count": 3,
   "metadata": {
    "collapsed": true
   },
   "outputs": [],
   "source": [
    "pdf_path = os.environ['SNORKELHOME'] + '/tutorials/tables/data/hardware/hardware100_pdf/'\n",
    "filename = 'bc546-d'\n",
    "pdf_file = pdf_path + filename + '.pdf' # Path to PDF file "
   ]
  },
  {
   "cell_type": "code",
   "execution_count": 4,
   "metadata": {
    "collapsed": false,
    "scrolled": true
   },
   "outputs": [
    {
     "name": "stdout",
     "output_type": "stream",
     "text": [
      "Extracted 2690 pdf words\n",
      "CPU times: user 308 ms, sys: 29.8 ms, total: 338 ms\n",
      "Wall time: 595 ms\n"
     ]
    }
   ],
   "source": [
    "%time vizlink.extract_pdf_words(pdf_file)"
   ]
  },
  {
   "cell_type": "code",
   "execution_count": 5,
   "metadata": {
    "collapsed": false
   },
   "outputs": [
    {
     "name": "stdout",
     "output_type": "stream",
     "text": [
      "[((1, 0), u'BC546B'),\n",
      " ((1, 0.5), u','),\n",
      " ((1, 1), u'BC547A'),\n",
      " ((1, 1.5), u','),\n",
      " ((1, 2), u'B')]\n",
      "[((3, 271), (3, 645, 325, 653, 332)),\n",
      " ((4, 135), (4, 638, 314, 645, 322)),\n",
      " ((5, 31), (5, 138, 434, 148, 451)),\n",
      " ((6, 167), (6, 349, 367, 355, 385)),\n",
      " ((1, 215), (1, 575, 453, 584, 460))]\n"
     ]
    }
   ],
   "source": [
    "from pprint import pprint\n",
    "\n",
    "pprint(vizlink.pdf_word_list[:5])\n",
    "pprint(vizlink.coordinate_map.items()[:5])"
   ]
  },
  {
   "cell_type": "markdown",
   "metadata": {},
   "source": [
    "### Step 3: Parse HTML"
   ]
  },
  {
   "cell_type": "code",
   "execution_count": 6,
   "metadata": {
    "collapsed": false,
    "scrolled": true
   },
   "outputs": [],
   "source": [
    "# from snorkel.parser import CorpusParser\n",
    "# from snorkel.parser import HTMLParser\n",
    "# from snorkel.parser import OmniParser\n",
    "\n",
    "# html_path = os.environ['SNORKELHOME'] + '/tutorials/tables/data/hardware/hardware100_html/'\n",
    "# filename = 'bc546-d'\n",
    "# html_file = html_path + filename + '.html'\n",
    "# doc_parser = HTMLParser(path=html_file)\n",
    "# context_parser = OmniParser()\n",
    "# cp = CorpusParser(doc_parser, context_parser, max_docs=100) \n",
    "\n",
    "# %time corpus = cp.parse_corpus(name='Hardware', session=session)\n",
    "\n",
    "import os\n",
    "from snorkel.models import Corpus\n",
    "from snorkel.utils import get_ORM_instance\n",
    "\n",
    "os.system('cp snorkel.db\\ corpus snorkel.db');\n",
    "corpus = get_ORM_instance(Corpus, session, 'Hardware')"
   ]
  },
  {
   "cell_type": "code",
   "execution_count": 7,
   "metadata": {
    "collapsed": false
   },
   "outputs": [
    {
     "name": "stdout",
     "output_type": "stream",
     "text": [
      "Extracted 2662 html words\n",
      "CPU times: user 61.1 ms, sys: 6.62 ms, total: 67.7 ms\n",
      "Wall time: 66.5 ms\n"
     ]
    }
   ],
   "source": [
    "%time vizlink.extract_html_words(corpus.documents[0])"
   ]
  },
  {
   "cell_type": "code",
   "execution_count": 8,
   "metadata": {
    "collapsed": false
   },
   "outputs": [
    {
     "name": "stdout",
     "output_type": "stream",
     "text": [
      "[((2, 0), u'BC546'),\n",
      " ((2, 1), u'-'),\n",
      " ((2, 2), u'NPN'),\n",
      " ((2, 3), u'Amplifier'),\n",
      " ((2, 4), u'Transistors')]\n"
     ]
    }
   ],
   "source": [
    "from pprint import pprint\n",
    "pprint(vizlink.html_word_list[:5])"
   ]
  },
  {
   "cell_type": "markdown",
   "metadata": {},
   "source": [
    "### Step 4: Visual Linking"
   ]
  },
  {
   "cell_type": "code",
   "execution_count": 9,
   "metadata": {
    "collapsed": false
   },
   "outputs": [
    {
     "name": "stdout",
     "output_type": "stream",
     "text": [
      "Linked 2662 words to 2690 bounding boxes\n",
      "Updated coordinates in snorkel.db\n",
      "CPU times: user 1.54 s, sys: 30.5 ms, total: 1.57 s\n",
      "Wall time: 1.59 s\n"
     ]
    }
   ],
   "source": [
    "%time vizlink.link_lists(searchMax=200)"
   ]
  },
  {
   "cell_type": "code",
   "execution_count": 10,
   "metadata": {
    "collapsed": false
   },
   "outputs": [
    {
     "name": "stdout",
     "output_type": "stream",
     "text": [
      "[((2, 0), (1, 31)),\n",
      " ((2, 1), (1, 23.5)),\n",
      " ((2, 2), (1, 8)),\n",
      " ((2, 3), (1, 6)),\n",
      " ((2, 4), (1, 7))]\n"
     ]
    }
   ],
   "source": [
    "pprint(vizlink.links.items()[:5])"
   ]
  },
  {
   "cell_type": "code",
   "execution_count": 11,
   "metadata": {
    "collapsed": false
   },
   "outputs": [
    {
     "name": "stdout",
     "output_type": "stream",
     "text": [
      "Phrase(Doc: bc546-d, Table: 0, Row: 1, Col: 0, Position: 0, Text: Collector - Emitter Voltage)\n",
      "1\n",
      "(268, 268, 268, 268)\n",
      "(277, 277, 277, 277)\n",
      "(64, 99, 105, 133)\n",
      "(96, 102, 130, 160)\n"
     ]
    }
   ],
   "source": [
    "phrase = corpus.documents[0].phrases[15]\n",
    "print phrase\n",
    "print phrase.page\n",
    "print phrase.top\n",
    "print phrase.bottom\n",
    "print phrase.left\n",
    "print phrase.right"
   ]
  },
  {
   "cell_type": "code",
   "execution_count": 12,
   "metadata": {
    "collapsed": false,
    "scrolled": true
   },
   "outputs": [
    {
     "name": "stdout",
     "output_type": "stream",
     "text": [
      "     i               html                pdf    j  offset\n",
      "0    0              BC546              BC546   42      -5\n",
      "1    1                  -                  -   36      -5\n",
      "2    2                NPN                NPN   13      14\n",
      "3    3          Amplifier          Amplifier   11      14\n",
      "4    4        Transistors        Transistors   12      14\n",
      "5    5             BC546B             BC546B    0      13\n",
      "6    6                  ,                  ,    9      12\n",
      "7    7             BC547A             BC547A    2      10\n",
      "8    8                  ,                  ,    9      10\n",
      "9    9                  B                  B    4       5\n",
      "10  10                  ,                  ,    5       6\n",
      "11  11                  C                  C    6       6\n",
      "12  12                  ,                  ,    7       7\n",
      "13  13             BC548B             BC548B    8       7\n",
      "14  14                  ,                  ,    7       8\n",
      "15  15                  C                  C   10       8\n",
      "16  16          Amplifier          Amplifier   11       9\n",
      "17  17        Transistors        Transistors   12      11\n",
      "18  18                NPN                NPN   13      12\n",
      "19  19            Silicon            Silicon   14      13\n",
      "20  20           Features           Features   15      14\n",
      "21  21            Pb-Free            Pb−Free   19      19\n",
      "22  22           Packages           Packages   20      15\n",
      "23  23                are                are   21      16\n",
      "24  24          Available          Available   22      21\n",
      "25  25                  *                  *   23      22\n",
      "26  26  http://onsemi.com  http://onsemi.com   16      22\n",
      "27  27          COLLECTOR          COLLECTOR   24      23\n",
      "28  28                  1                  1   25      24\n",
      "29  29            MAXIMUM            MAXIMUM   26      25\n",
      "..  ..                ...                ...  ...     ...\n",
      "70  70                Vdc                Vdc   72      72\n",
      "71  71          Collector          Collector   78      73\n",
      "72  72            Current            Current   79      74\n",
      "73  73                  -                  -   67      73\n",
      "74  74         Continuous         Continuous   82      79\n",
      "75  75                  I                  I   83      80\n",
      "76  76                  C                  C   86      83\n",
      "77  77                100                100   84      84\n",
      "78  78               mAdc               mAdc   85      85\n",
      "79  79              Total              Total   87      86\n",
      "80  80             Device             Device   88      87\n",
      "81  81        Dissipation        Dissipation   89      88\n",
      "82  82                  @                  @   91      89\n",
      "83  83                  T                  T   92      90\n",
      "84  84                  A                  A   99      92\n",
      "85  85                  =                  =   94      93\n",
      "86  86                 25                625   97      97\n",
      "87  87                  %                      93      93\n",
      "88  88                  C                  C   86      92\n",
      "89  89                  P                  P   96      92\n",
      "90  90                  D                  D  100      92\n",
      "91  91                625                625   97      97\n",
      "92  92                 mW                 mW   98      98\n",
      "93  93             Derate             Derate  103      99\n",
      "94  94              above              above  104     101\n",
      "95  95                 25                625   97      97\n",
      "96  96                  %                  1  101     101\n",
      "97  97                  C                  C   86     101\n",
      "98  98                5.0                5.0  106     101\n",
      "99  99                 mW                 mW   98      99\n",
      "\n",
      "[100 rows x 5 columns]\n"
     ]
    }
   ],
   "source": [
    "matches = vizlink.display_links()\n",
    "print matches[:100]"
   ]
  },
  {
   "cell_type": "markdown",
   "metadata": {},
   "source": [
    "### Step 5: Viewing Results"
   ]
  },
  {
   "cell_type": "code",
   "execution_count": 13,
   "metadata": {
    "collapsed": false
   },
   "outputs": [
    {
     "name": "stdout",
     "output_type": "stream",
     "text": [
      "Extracting Candidates from Corpus (Hardware)\n",
      "[========================================] 100%\n",
      "CPU times: user 978 ms, sys: 11.5 ms, total: 989 ms\n",
      "Wall time: 1 s\n",
      "Candidate Set (Hardware Candidates) contains 275 Candidates\n"
     ]
    }
   ],
   "source": [
    "import os\n",
    "from collections import defaultdict\n",
    "from snorkel.models import Corpus, candidate_subclass\n",
    "from snorkel.matchers import RegexMatchSpan, Union\n",
    "from snorkel.candidates import CandidateExtractor\n",
    "from snorkel.utils import get_ORM_instance\n",
    "from hardware_utils import OmniNgramsPart, OmniNgramsTemp, get_gold_dict\n",
    "\n",
    "# Candidate Type\n",
    "Part_Temp = candidate_subclass('Part_Temp', ['part','temp'])\n",
    "    \n",
    "# CandidateSpaces\n",
    "part_ngrams = OmniNgramsPart(parts_by_doc=None, n_max=3) # NOTE: no part linking right now\n",
    "temp_ngrams = OmniNgramsTemp(n_max=2)\n",
    "\n",
    "# Matchers\n",
    "eeca_matcher = RegexMatchSpan(rgx='([b]{1}[abcdefklnpqruyz]{1}[\\swxyz]?[0-9]{3,5}[\\s]?[A-Z\\/]{0,5}[0-9]?[A-Z]?([-][A-Z0-9]{1,7})?([-][A-Z0-9]{1,2})?)')\n",
    "jedec_matcher = RegexMatchSpan(rgx='([123]N\\d{3,4}[A-Z]{0,5}[0-9]?[A-Z]?)')\n",
    "jis_matcher = RegexMatchSpan(rgx='(2S[abcdefghjkmqrstvz]{1}[\\d]{2,4})')\n",
    "others_matcher = RegexMatchSpan(rgx='((NSVBC|SMBT|MJ|MJE|MPS|MRF|RCA|TIP|ZTX|ZT|TIS|TIPL|DTC|MMBT|PZT){1}[\\d]{2,4}[A-Z]{0,3}([-][A-Z0-9]{0,6})?([-][A-Z0-9]{0,1})?)')\n",
    "parts_matcher = Union(eeca_matcher, jedec_matcher, jis_matcher, others_matcher)\n",
    "\n",
    "temp_matcher = RegexMatchSpan(rgx=r'1[4-6]0', longest_match_only=False)\n",
    "\n",
    "# Throttler\n",
    "part_throttler = lambda x: x[0].parent.page == x[1].parent.page\n",
    "\n",
    "# Extractor\n",
    "ce = CandidateExtractor(Part_Temp, \n",
    "                        [part_ngrams, temp_ngrams], \n",
    "                        [parts_matcher, temp_matcher], \n",
    "                        throttler=part_throttler)\n",
    "\n",
    "# Extract\n",
    "for corpus_name in ['Hardware']:\n",
    "    corpus = get_ORM_instance(Corpus, session, corpus_name)\n",
    "    print \"Extracting Candidates from %s\" % corpus\n",
    "    %time candidates = ce.extract(\\\n",
    "        corpus.documents, corpus_name + ' Candidates', session)\n",
    "    session.add(candidates)\n",
    "    print \"%s contains %d Candidates\" % (candidates, len(candidates))\n",
    "session.commit()"
   ]
  },
  {
   "cell_type": "code",
   "execution_count": null,
   "metadata": {
    "collapsed": false
   },
   "outputs": [
    {
     "name": "stdout",
     "output_type": "stream",
     "text": [
      "ImplicitSpan(\"BC547A\", parent=1050, words=[11,13], position=[0])\n",
      "30 91\n",
      "11\n",
      "13\n",
      "2\n",
      "[]\n",
      "[]\n",
      "[]\n",
      "[]\n"
     ]
    }
   ],
   "source": [
    "c = candidates[5]\n",
    "print c.part\n",
    "print c.part.char_start, c.part.char_end\n",
    "print c.part.get_word_start()\n",
    "print c.part.get_word_end()\n",
    "print c.part.parent.page\n",
    "print c.part.get_attrib_tokens('top')\n",
    "print c.part.get_attrib_tokens('bottom')\n",
    "print c.part.get_attrib_tokens('left')\n",
    "print c.part.get_attrib_tokens('right')"
   ]
  },
  {
   "cell_type": "code",
   "execution_count": null,
   "metadata": {
    "collapsed": false,
    "scrolled": true
   },
   "outputs": [],
   "source": [
    "vizlink.display_candidates(candidates, page_num=1, display=True)"
   ]
  },
  {
   "cell_type": "code",
   "execution_count": null,
   "metadata": {
    "collapsed": false
   },
   "outputs": [],
   "source": [
    "# from visual_linking import display_boxes, get_box\n",
    "\n",
    "# boxes = []\n",
    "# for c in candidates:\n",
    "#     boxes.append(get_box(c.part))\n",
    "# boxes = list(set(boxes))\n",
    "# display_boxes(pdf_file, boxes, page_num=2)"
   ]
  },
  {
   "cell_type": "markdown",
   "metadata": {},
   "source": [
    "### Display Ordering of PDF Word List "
   ]
  },
  {
   "cell_type": "markdown",
   "metadata": {},
   "source": [
    "Display Ordering on a black page - Not very easy to display because of superposition"
   ]
  },
  {
   "cell_type": "code",
   "execution_count": null,
   "metadata": {
    "collapsed": false
   },
   "outputs": [],
   "source": [
    "# import numpy as np\n",
    "# import cv2\n",
    "# import math\n",
    "\n",
    "# page_num = 2\n",
    "# page_height = 792\n",
    "# page_width = 612\n",
    "# img = np.ones((page_height,page_width,3))*255\n",
    "# font = cv2.FONT_HERSHEY_SIMPLEX\n",
    "# letter_width = 3\n",
    "# i = 0\n",
    "# for word_id, _ in pdf_word_list:\n",
    "#     if word_id[0] == page_num:\n",
    "#         i += 1\n",
    "#         _, top, left, bottom, right = coordinate_map[word_id]\n",
    "#         cv2.rectangle(img, (left, top), (right, bottom), (0,255,0), 1)\n",
    "#         cv2.putText(img, \n",
    "#                     str(i), \n",
    "#                     ((left + right)/2 - letter_width*int(math.ceil(math.log10(i))), \n",
    "#                     bottom + (top - bottom)/4), \n",
    "#                     font, \n",
    "#                     0.3, \n",
    "#                     (255,0,0), \n",
    "#                     1)\n",
    "# cv2.imshow('PDF Word List Order',img)\n",
    "# cv2.waitKey() # press any key to exit the opencv output \n",
    "# cv2.destroyAllWindows() "
   ]
  },
  {
   "cell_type": "markdown",
   "metadata": {},
   "source": [
    "The end."
   ]
  }
 ],
 "metadata": {
  "anaconda-cloud": {},
  "kernelspec": {
   "display_name": "Python [default]",
   "language": "python",
   "name": "python2"
  },
  "language_info": {
   "codemirror_mode": {
    "name": "ipython",
    "version": 2
   },
   "file_extension": ".py",
   "mimetype": "text/x-python",
   "name": "python",
   "nbconvert_exporter": "python",
   "pygments_lexer": "ipython2",
   "version": "2.7.10"
  }
 },
 "nbformat": 4,
 "nbformat_minor": 1
}
