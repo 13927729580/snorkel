{
 "cells": [
  {
   "cell_type": "markdown",
   "metadata": {},
   "source": [
    "# CB_V_MAX"
   ]
  },
  {
   "cell_type": "markdown",
   "metadata": {},
   "source": [
    "## Setup"
   ]
  },
  {
   "cell_type": "code",
   "execution_count": null,
   "metadata": {
    "collapsed": false
   },
   "outputs": [],
   "source": [
    "# If necessary:\n",
    "import os\n",
    "os.remove('snorkel.db')"
   ]
  },
  {
   "cell_type": "code",
   "execution_count": null,
   "metadata": {
    "collapsed": false
   },
   "outputs": [],
   "source": [
    "%load_ext autoreload\n",
    "%autoreload 2\n",
    "%matplotlib inline\n",
    "\n",
    "import os\n",
    "import sys\n",
    "sys.path.append(os.environ['SNORKELHOME'] + '/tutorials/tables/')"
   ]
  },
  {
   "cell_type": "markdown",
   "metadata": {},
   "source": [
    "## Parsing"
   ]
  },
  {
   "cell_type": "code",
   "execution_count": null,
   "metadata": {
    "collapsed": true
   },
   "outputs": [],
   "source": [
    "from snorkel import SnorkelSession\n",
    "session = SnorkelSession()"
   ]
  },
  {
   "cell_type": "markdown",
   "metadata": {},
   "source": [
    "### Define Parser"
   ]
  },
  {
   "cell_type": "code",
   "execution_count": null,
   "metadata": {
    "collapsed": true
   },
   "outputs": [],
   "source": [
    "import os\n",
    "from snorkel.parser import CorpusParser, HTMLParser, OmniParser\n",
    "from snorkel.utils import get_ORM_instance\n",
    "from snorkel.queries import split_corpus\n",
    "\n",
    "html_path = os.environ['SNORKELHOME'] + '/tutorials/tables/data/hardware/hardware100_html/'\n",
    "pdf_path  = os.environ['SNORKELHOME'] + '/tutorials/tables/data/hardware/hardware100_pdf/'\n",
    "doc_parser = HTMLParser(path=html_path)\n",
    "context_parser = OmniParser(pdf_path=pdf_path, session=session)\n",
    "cp = CorpusParser(doc_parser, context_parser, max_docs=100) "
   ]
  },
  {
   "cell_type": "markdown",
   "metadata": {},
   "source": [
    "### Run Parser"
   ]
  },
  {
   "cell_type": "code",
   "execution_count": null,
   "metadata": {
    "collapsed": false,
    "scrolled": true
   },
   "outputs": [],
   "source": [
    "%time corpus = cp.parse_corpus(name='Hardware', session=session)\n",
    "\n",
    "session.add(corpus)\n",
    "session.commit()"
   ]
  },
  {
   "cell_type": "markdown",
   "metadata": {},
   "source": [
    "### Split Corpus"
   ]
  },
  {
   "cell_type": "code",
   "execution_count": null,
   "metadata": {
    "collapsed": false
   },
   "outputs": [],
   "source": [
    "from snorkel.models import Corpus\n",
    "\n",
    "corpus = get_ORM_instance(Corpus, session, 'Hardware')\n",
    "split_corpus(session, corpus, train=0.8, development=0.2, test=0, seed=9)"
   ]
  },
  {
   "cell_type": "code",
   "execution_count": null,
   "metadata": {
    "collapsed": true
   },
   "outputs": [],
   "source": [
    "# If necessary\n",
    "import os\n",
    "os.system('cp snorkel.db snorkel.db\\ corpus');"
   ]
  },
  {
   "cell_type": "markdown",
   "metadata": {},
   "source": [
    "## Extraction"
   ]
  },
  {
   "cell_type": "code",
   "execution_count": null,
   "metadata": {
    "collapsed": false
   },
   "outputs": [],
   "source": [
    "# If necessary:\n",
    "import os\n",
    "os.remove('snorkel.db');\n",
    "os.system('cp snorkel.db\\ corpus snorkel.db');\n",
    "\n",
    "%load_ext autoreload\n",
    "%autoreload 2\n",
    "%matplotlib inline\n",
    "\n",
    "import sys\n",
    "sys.path.append(os.environ['SNORKELHOME'] + '/tutorials/tables/')\n",
    "\n",
    "from snorkel import SnorkelSession\n",
    "session = SnorkelSession()"
   ]
  },
  {
   "cell_type": "code",
   "execution_count": null,
   "metadata": {
    "collapsed": true
   },
   "outputs": [],
   "source": [
    "from snorkel.models import candidate_subclass\n",
    "\n",
    "Part_Voltage = candidate_subclass('Part_Voltage', ['part','voltage'])"
   ]
  },
  {
   "cell_type": "markdown",
   "metadata": {},
   "source": [
    "### Define Matchers"
   ]
  },
  {
   "cell_type": "code",
   "execution_count": null,
   "metadata": {
    "collapsed": false
   },
   "outputs": [],
   "source": [
    "from snorkel.matchers import RegexMatchSpan, Union\n",
    "\n",
    "eeca_rgx = '([b]{1}[abcdefklnpqruyz]{1}[\\swxyz]?[0-9]{3,5}[\\s]?[A-Z\\/]{0,5}[0-9]?[A-Z]?([-][A-Z0-9]{1,7})?([-][A-Z0-9]{1,2})?)'\n",
    "eeca_matcher = RegexMatchSpan(rgx=eeca_rgx)\n",
    "jedec_rgx = '([123]N\\d{3,4}[A-Z]{0,5}[0-9]?[A-Z]?)'\n",
    "jedec_matcher = RegexMatchSpan(rgx=jedec_rgx)\n",
    "jis_rgx = '(2S[abcdefghjkmqrstvz]{1}[\\d]{2,4})'\n",
    "jis_matcher = RegexMatchSpan(rgx=jis_rgx)\n",
    "others_rgx = '((NSVBC|SMBT|MJ|MJE|MPS|MRF|RCA|TIP|ZTX|ZT|TIS|TIPL|DTC|MMBT|PZT){1}[\\d]{2,4}[A-Z]{0,3}([-][A-Z0-9]{0,6})?([-][A-Z0-9]{0,1})?)'\n",
    "others_matcher = RegexMatchSpan(rgx=others_rgx)\n",
    "parts_rgx = '|'.join([eeca_rgx, jedec_rgx, jis_rgx, others_rgx])\n",
    "parts_matcher = Union(eeca_matcher, jedec_matcher, jis_matcher, others_matcher)\n",
    "\n",
    "#NOTE: This is super specific.\n",
    "cb_v_matcher = RegexMatchSpan(rgx=r'\\-?[2-8][0]', longest_match_only=False)"
   ]
  },
  {
   "cell_type": "code",
   "execution_count": null,
   "metadata": {
    "collapsed": false
   },
   "outputs": [],
   "source": [
    "# import re\n",
    "# part_finder = re.compile(parts_rgx, re.I)\n",
    "# print any([part_finder.match(x) for x in ['blue', 'red', 'black', 'green']])\n",
    "# print any([part_finder.match(x) for x in ['blue', 'red', 'BC546A', 'green']])"
   ]
  },
  {
   "cell_type": "markdown",
   "metadata": {},
   "source": [
    "### Define ContextSpaces"
   ]
  },
  {
   "cell_type": "code",
   "execution_count": null,
   "metadata": {
    "collapsed": false
   },
   "outputs": [],
   "source": [
    "import os\n",
    "from collections import defaultdict\n",
    "from hardware_utils import OmniNgramsPart, OmniNgramsTemp, get_gold_dict\n",
    "\n",
    "# Make parts list\n",
    "gold_file = os.environ['SNORKELHOME'] + '/tutorials/tables/data/hardware/hardware_gold.csv'\n",
    "gold_parts = get_gold_dict(gold_file, doc_on=True, part_on=True, val_on=False)\n",
    "parts_by_doc = defaultdict(set)\n",
    "for part in gold_parts:\n",
    "    parts_by_doc[part[0]].add(part[1])\n",
    "    \n",
    "part_ngrams = OmniNgramsPart(parts_by_doc=parts_by_doc, n_max=3)\n",
    "\n",
    "# TODO: This is missing the current represented as an Amp rather than a milliamp\n",
    "cb_v_ngrams = OmniNgramsTemp(n_max=3)"
   ]
  },
  {
   "cell_type": "markdown",
   "metadata": {},
   "source": [
    "### Define Throttler"
   ]
  },
  {
   "cell_type": "code",
   "execution_count": null,
   "metadata": {
    "collapsed": false
   },
   "outputs": [],
   "source": [
    "from snorkel.lf_helpers import *\n",
    "\n",
    "def cbv_throttler((part_span, attr_span)):\n",
    "    \"\"\"\n",
    "    Keep only those candidates where both spans are on the same page and\n",
    "    either aligned in the same table (visually or structurally) or the part is global.\n",
    "    \"\"\"\n",
    "    return(\n",
    "        same_page((part_span, attr_span)) and\n",
    "        (part_span.parent.table is None or\n",
    "        (same_row((part_span, attr_span)) or is_horz_aligned((part_span, attr_span)))))\n",
    "#     \"\"\"\n",
    "#     Reject any candidates whose attributes are horizontally aligned with at least one \n",
    "#     part number and are not horizontally aligned with the candidate part number\n",
    "#     \"\"\"\n",
    "#     return not (any(part_finder.match(word) for word in get_horz_aligned_ngrams(attr_span)) and \n",
    "#         not is_horz_aligned((part_span, attr_span)))"
   ]
  },
  {
   "cell_type": "markdown",
   "metadata": {},
   "source": [
    "### Run CandidateExtractor"
   ]
  },
  {
   "cell_type": "code",
   "execution_count": null,
   "metadata": {
    "collapsed": false,
    "scrolled": true
   },
   "outputs": [],
   "source": [
    "from snorkel.models import Corpus\n",
    "from snorkel.candidates import CandidateExtractor\n",
    "from snorkel.utils import get_ORM_instance\n",
    "\n",
    "\n",
    "ce = CandidateExtractor(Part_Voltage, \n",
    "                        [part_ngrams, cb_v_ngrams], \n",
    "                        [parts_matcher, cb_v_matcher],\n",
    "                        throttler=cbv_throttler)\n",
    "\n",
    "for corpus_name in ['Hardware Training', 'Hardware Development']:\n",
    "    corpus = get_ORM_instance(Corpus, session, corpus_name)\n",
    "    print \"Extracting Candidates from %s\" % corpus\n",
    "    %time candidates = ce.extract(\\\n",
    "        corpus.documents, corpus_name + ' Candidates', session)\n",
    "    session.add(candidates)\n",
    "    print \"%s contains %d Candidates\" % (candidates, len(candidates))\n",
    "session.commit()"
   ]
  },
  {
   "cell_type": "markdown",
   "metadata": {},
   "source": [
    "### Assess Recall"
   ]
  },
  {
   "cell_type": "code",
   "execution_count": null,
   "metadata": {
    "collapsed": false
   },
   "outputs": [],
   "source": [
    "from hardware_utils import entity_level_total_recall, most_common_document, get_gold_dict\n",
    "from snorkel.utils import get_ORM_instance\n",
    "from snorkel.models import Candidate, Corpus\n",
    "\n",
    "all_candidates = session.query(Candidate).all()\n",
    "gold_file = os.environ['SNORKELHOME'] + '/tutorials/tables/data/hardware/hardware_gold.csv'\n",
    "\n",
    "corpus = get_ORM_instance(Corpus, session, 'Hardware')\n",
    "(tp, fp, fn) = entity_level_total_recall(\n",
    "    all_candidates, gold_file, 'cb_v_max', corpus=corpus, relation=True, integerize=True)\n",
    "print len(tp)\n",
    "print len(fp)\n",
    "print len(fn)"
   ]
  },
  {
   "cell_type": "code",
   "execution_count": null,
   "metadata": {
    "collapsed": false
   },
   "outputs": [],
   "source": [
    "from pprint import pprint\n",
    "fns = list(fn)\n",
    "pprint(sorted(fns)[:100])"
   ]
  },
  {
   "cell_type": "code",
   "execution_count": null,
   "metadata": {
    "collapsed": false
   },
   "outputs": [],
   "source": [
    "# corpus = get_ORM_instance(Corpus, session, 'Hardware Training')\n",
    "# for document in corpus.documents:\n",
    "# #     print document.name\n",
    "#     if document.name == 'MOTOS03160-1':\n",
    "#         doc = document\n",
    "# print doc"
   ]
  },
  {
   "cell_type": "code",
   "execution_count": null,
   "metadata": {
    "collapsed": false
   },
   "outputs": [],
   "source": [
    "# for c in all_candidates:\n",
    "#     if c.part.get_span()=='BC183' and c.part.parent.document.name=='MOTOS03160-1':\n",
    "#         print c"
   ]
  },
  {
   "cell_type": "code",
   "execution_count": null,
   "metadata": {
    "collapsed": false
   },
   "outputs": [],
   "source": [
    "# for phrase in doc.phrases:\n",
    "#     if 'BC183' in phrase.words:\n",
    "#         print phrase"
   ]
  },
  {
   "cell_type": "code",
   "execution_count": null,
   "metadata": {
    "collapsed": true
   },
   "outputs": [],
   "source": [
    "# If necessary\n",
    "import os\n",
    "os.system('cp snorkel.db snorkel.db\\ candidates');"
   ]
  },
  {
   "cell_type": "markdown",
   "metadata": {},
   "source": [
    "## Gold Labels"
   ]
  },
  {
   "cell_type": "code",
   "execution_count": null,
   "metadata": {
    "collapsed": true
   },
   "outputs": [],
   "source": [
    "# If necessary\n",
    "# import os\n",
    "# os.remove('snorkel.db');\n",
    "# os.system('cp snorkel.db\\ candidates snorkel.db');\n",
    "\n",
    "# %load_ext autoreload\n",
    "# %autoreload 2\n",
    "# %matplotlib inline\n",
    "\n",
    "# import sys\n",
    "# sys.path.append(os.environ['SNORKELHOME'] + '/tutorials/tables/')\n",
    "\n",
    "# from snorkel import SnorkelSession\n",
    "# session = SnorkelSession()\n",
    "\n",
    "# from snorkel.models import candidate_subclass\n",
    "# Part_Voltage = candidate_subclass('Part_Voltage', ['part','voltage'])"
   ]
  },
  {
   "cell_type": "code",
   "execution_count": null,
   "metadata": {
    "collapsed": false
   },
   "outputs": [],
   "source": [
    "import os\n",
    "from snorkel.models import CandidateSet\n",
    "from hardware_utils import load_hardware_labels\n",
    "\n",
    "gold_file = os.environ['SNORKELHOME'] + '/tutorials/tables/data/hardware/hardware_gold.csv'\n",
    "for set_name in ['Training', 'Development']:\n",
    "    candidate_set_name = 'Hardware %s Candidates' % set_name\n",
    "    candidates = session.query(CandidateSet).filter(\n",
    "        CandidateSet.name == candidate_set_name).one()\n",
    "    label_set_name = 'Hardware %s Candidates -- Gold' % set_name\n",
    "    annotation_key_name = 'Hardware %s Labels -- Gold' % set_name\n",
    "    %time gold_candidates, annotation_key = load_hardware_labels(session,\\\n",
    "                           label_set_name, \\\n",
    "                           annotation_key_name, \\\n",
    "                           candidates, \\\n",
    "                           gold_file, \\\n",
    "                           attrib='cb_v_max')\n",
    "    candidates_gold = session.query(CandidateSet).filter(\n",
    "        CandidateSet.name == candidate_set_name + ' -- Gold').one()\n",
    "    print \"%d/%d Candidates in %s have positive Labels\" % (\n",
    "        len(candidates_gold), len(candidates), candidates)"
   ]
  },
  {
   "cell_type": "code",
   "execution_count": null,
   "metadata": {
    "collapsed": true
   },
   "outputs": [],
   "source": [
    "# If necessary\n",
    "import os\n",
    "os.system('cp snorkel.db snorkel.db\\ labels');"
   ]
  },
  {
   "cell_type": "markdown",
   "metadata": {},
   "source": [
    "## Features"
   ]
  },
  {
   "cell_type": "code",
   "execution_count": null,
   "metadata": {
    "collapsed": false
   },
   "outputs": [],
   "source": [
    "# If necessary:\n",
    "import os\n",
    "os.remove('snorkel.db');\n",
    "os.system('cp snorkel.db\\ labels snorkel.db');\n",
    "\n",
    "%load_ext autoreload\n",
    "%autoreload 2\n",
    "%matplotlib inline\n",
    "\n",
    "import sys\n",
    "sys.path.append(os.environ['SNORKELHOME'] + '/tutorials/tables/')\n",
    "\n",
    "from snorkel import SnorkelSession\n",
    "session = SnorkelSession()\n",
    "\n",
    "from snorkel.models import candidate_subclass\n",
    "Part_Voltage = candidate_subclass('Part_Voltage', ['part','voltage'])"
   ]
  },
  {
   "cell_type": "markdown",
   "metadata": {},
   "source": [
    "### Extract Features"
   ]
  },
  {
   "cell_type": "code",
   "execution_count": null,
   "metadata": {
    "collapsed": false
   },
   "outputs": [],
   "source": [
    "from snorkel.models import CandidateSet\n",
    "from snorkel.fast_annotations import FeatureManager\n",
    "from snorkel.utils import get_ORM_instance\n",
    "\n",
    "train = get_ORM_instance(CandidateSet, session, 'Hardware Training Candidates')\n",
    "dev   = get_ORM_instance(CandidateSet, session, 'Hardware Development Candidates')\n",
    "\n",
    "feature_manager = FeatureManager()\n",
    "%time F_train = feature_manager.create(session, train, 'Train Features')\n",
    "%time F_dev = feature_manager.update(session, dev, 'Train Features', expand_key_set=False)"
   ]
  },
  {
   "cell_type": "code",
   "execution_count": null,
   "metadata": {
    "collapsed": true
   },
   "outputs": [],
   "source": [
    "# If necessary:\n",
    "import os\n",
    "os.system('cp snorkel.db snorkel.db\\ featurized');"
   ]
  },
  {
   "cell_type": "markdown",
   "metadata": {},
   "source": [
    "## LFs"
   ]
  },
  {
   "cell_type": "code",
   "execution_count": 1,
   "metadata": {
    "collapsed": false
   },
   "outputs": [
    {
     "name": "stdout",
     "output_type": "stream",
     "text": [
      "The autoreload extension is already loaded. To reload it, use:\n",
      "  %reload_ext autoreload\n"
     ]
    }
   ],
   "source": [
    "# If necessary\n",
    "import os\n",
    "os.remove('snorkel.db');\n",
    "os.system('cp snorkel.db\\ featurized snorkel.db');\n",
    "\n",
    "%load_ext autoreload\n",
    "%autoreload 2\n",
    "%matplotlib inline\n",
    "\n",
    "import sys\n",
    "sys.path.append(os.environ['SNORKELHOME'] + '/tutorials/tables/')\n",
    "\n",
    "from snorkel import SnorkelSession\n",
    "session = SnorkelSession()\n",
    "\n",
    "from snorkel.models import candidate_subclass\n",
    "Part_Voltage = candidate_subclass('Part_Voltage', ['part','voltage'])\n",
    "from snorkel.models import CandidateSet\n",
    "train = session.query(CandidateSet).filter(\n",
    "    CandidateSet.name == 'Hardware Training Candidates').one()"
   ]
  },
  {
   "cell_type": "markdown",
   "metadata": {},
   "source": [
    "### Define LFs"
   ]
  },
  {
   "cell_type": "code",
   "execution_count": 2,
   "metadata": {
    "collapsed": false
   },
   "outputs": [],
   "source": [
    "from snorkel.fast_annotations import LabelManager\n",
    "from snorkel.lf_helpers import *\n",
    "label_manager = LabelManager()\n",
    "\n",
    "LFs = []\n",
    "\n",
    "###################################################################\n",
    "# BOTH\n",
    "###################################################################\n",
    "\n",
    "cb_words_individual = set(['collector', 'base', 'voltage'])\n",
    "cb_words_together = set(['collector-base', 'voltage'])\n",
    "def LF_cb_keywords(c):\n",
    "    row_ngrams = list(get_row_ngrams(c.voltage, spread=[0,3]))\n",
    "    return 1 if (is_superset(row_ngrams, cb_words_individual) or \n",
    "        is_superset(row_ngrams, cb_words_together)) else -1\n",
    "LFs.append(LF_cb_keywords)\n",
    "\n",
    "def LF_low_table_num(c):\n",
    "    return 1 if (c.voltage.parent.table and\n",
    "        c.voltage.parent.table.position <= 2) else -1\n",
    "LFs.append(LF_low_table_num)\n",
    "\n",
    "###################################################################\n",
    "# POSITIVE\n",
    "###################################################################\n",
    "    \n",
    "pos_keys = set(['cbo', 'vcbo']) # 'value', 'rating'\n",
    "def LF_pos_keywords_in_row(c):\n",
    "    return 1 if overlap(pos_keys, get_row_ngrams(c.voltage, spread=[0,3])) else 0\n",
    "LFs.append(LF_pos_keywords_in_row)\n",
    "\n",
    "###################################################################\n",
    "# NEGATIVE\n",
    "###################################################################\n",
    "\n",
    "eeca_rgx = '([b]{1}[abcdefklnpqruyz]{1}[\\swxyz]?[0-9]{3,5}[\\s]?[A-Z\\/]{0,5}[0-9]?[A-Z]?([-][A-Z0-9]{1,7})?([-][A-Z0-9]{1,2})?)'\n",
    "jedec_rgx = '([123]N\\d{3,4}[A-Z]{0,5}[0-9]?[A-Z]?)'\n",
    "jis_rgx = '(2S[abcdefghjkmqrstvz]{1}[\\d]{2,4})'\n",
    "others_rgx = '((NSVBC|SMBT|MJ|MJE|MPS|MRF|RCA|TIP|ZTX|ZT|TIS|TIPL|DTC|MMBT|PZT){1}[\\d]{2,4}[A-Z]{0,3}([-][A-Z0-9]{0,6})?([-][A-Z0-9]{0,1})?)'\n",
    "parts_rgx = '|'.join([eeca_rgx, jedec_rgx, jis_rgx, others_rgx])\n",
    "part_sniffer = re.compile(parts_rgx)\n",
    "def LF_cheating_with_another_part(c):\n",
    "    return -1 if (any(part_sniffer.match(x) for x in get_horz_aligned_ngrams(c)) and \n",
    "                     not is_horz_aligned(c)) else 0\n",
    "LFs.append(LF_cheating_with_another_part)\n",
    "\n",
    "def LF_row_aligned(c):\n",
    "    return -1 if (same_table(c) and not (same_row(c) or is_horz_aligned(c))) else 0\n",
    "LFs.append(LF_row_aligned)\n",
    "\n",
    "def LF_voltage_inside_table(c):\n",
    "    return -1 if c.voltage.parent.table is None else 0\n",
    "LFs.append(LF_voltage_inside_table)\n",
    "\n",
    "neg_keys = set(['continuous', 'dc', 'cut-off'])\n",
    "def LF_specific_neg_row_keywords(c):\n",
    "    return -1 if overlap(neg_keys, get_row_ngrams(c.voltage, spread=[0,3])) else 0\n",
    "LFs.append(LF_specific_neg_row_keywords)\n",
    "\n",
    "def LF_equals_in_row(c):\n",
    "    return -1 if overlap('=', get_row_ngrams(c.voltage, spread=[0,3])) else 0\n",
    "LFs.append(LF_equals_in_row)\n",
    "\n",
    "def LF_i_in_row(c):\n",
    "    return -1 if overlap('i', get_row_ngrams(c.voltage, spread=[0,3])) else 0\n",
    "LFs.append(LF_i_in_row)\n",
    "\n",
    "def LF_too_many_numbers_row(c):\n",
    "    num_numbers = list(get_row_ngrams(c.voltage, attrib=\"ner_tags\")).count('number')\n",
    "    return -1 if num_numbers >= 4 else 0\n",
    "LFs.append(LF_too_many_numbers_row)\n",
    "\n",
    "# def LF_first_row(c):\n",
    "#     if c.voltage.parent.row_num == 0:\n",
    "#         return -1\n",
    "#     else:\n",
    "#         return 0\n",
    "# LFs.append(LF_first_row)\n",
    "    \n",
    "# def LF_not_ce_relevant(c):\n",
    "#     ce_keywords = set(['collector', 'emitter', 'collector-emitter'])\n",
    "#     ngrams = set(get_aligned_ngrams(c.voltage))\n",
    "#     if not set_any_in_set(ce_keywords, ngrams):\n",
    "#         return -1\n",
    "#     else:\n",
    "#         return 1\n",
    "# LFs.append(LF_not_ce_relevant)\n",
    "\n",
    "# def LF_negative_keywords(c):\n",
    "#     row_neg_keys = set(['ambient',\n",
    "#                     'small-signal',\n",
    "#                     'cut-off',\n",
    "#                     'na',\n",
    "#                     'ma',\n",
    "#                     'cex',\n",
    "#                     'resistance',\n",
    "#                     'power',\n",
    "#                     'junction',\n",
    "#                     'dissipation', \n",
    "#                     'breakdown',\n",
    "#                     'current',\n",
    "#                     'ceo',\n",
    "#                     'vceo'\n",
    "#                     'peak',\n",
    "#                     '=',\n",
    "#                     'f',\n",
    "#                     'p',\n",
    "#                     'base',\n",
    "#                     'mw',\n",
    "#                     'ebo',\n",
    "#                     'vebo',\n",
    "#                     'i c',\n",
    "#                     'total',\n",
    "#                     'device',\n",
    "#                     'c',\n",
    "#                     'mhz',\n",
    "#                     'temperature',\n",
    "#                     'saturation',\n",
    "#                     'operating',\n",
    "#                     'storage'\n",
    "#                     'bandwidth',\n",
    "#                     'derate',\n",
    "#                     'above',\n",
    "#                     'product',\n",
    "#                     'figure',\n",
    "#                     'conditions',\n",
    "#                     'current gain',\n",
    "#                     'saturation',\n",
    "#                     'min',\n",
    "#                     'min.',\n",
    "#                     'typ',\n",
    "#                     'typ.',\n",
    "#                     'max',\n",
    "#                     'max.',\n",
    "#                     'gain',\n",
    "#                     'p',\n",
    "#                     'thermal',\n",
    "#                     'test'])\n",
    "#     row_ngrams = set(get_row_ngrams(c.voltage))\n",
    "#     col_ngrams = set(get_col_ngrams(c.voltage))\n",
    "#     col_neg_keys = set(['conditions', \n",
    "#                         'condition', \n",
    "#                         'parameter', \n",
    "#                         'min',\n",
    "#                         'min.',\n",
    "#                         'typ',\n",
    "#                         'typ.',\n",
    "#                         'max',\n",
    "#                         'max.',\n",
    "#                         'test'])\n",
    "#     if set_any_in_set(row_neg_keys, row_ngrams):\n",
    "#         return -1\n",
    "#     if set_any_in_set(col_neg_keys, col_ngrams):\n",
    "#         return -1\n",
    "#     return 0\n",
    "# LFs.append(LF_negative_keywords)\n",
    "    \n",
    "# def LF_negative_keywords_in_col(c):\n",
    "#     neg_keys = set(['conditions',\n",
    "#                     'condition',\n",
    "#                     'parameter',\n",
    "#                     'test'])\n",
    "#     ngrams = set(get_col_ngrams(c.voltage))\n",
    "#     if set_any_in_set(neg_keys, ngrams):\n",
    "#         return -1\n",
    "#     else:\n",
    "#         return 0\n",
    "\n",
    "# LFs.append(LF_negative_keywords_in_col)\n",
    "\n",
    "# def LF_negative_keywords_in_part_aligned(c):\n",
    "#     ngrams = set(get_aligned_ngrams(c.part))\n",
    "#     return -1 if (\n",
    "#         'gain'          in ngrams or\n",
    "#         'small-signal'  in ngrams or\n",
    "#         'small'         in ngrams or\n",
    "#         'cbo'         in ngrams or\n",
    "#         'collector-emitter' in ngrams or\n",
    "#         'value'         in ngrams or\n",
    "#         'thermal'       in ngrams) else 0\n",
    "# LFs.append(LF_negative_keywords_in_part_aligned)\n",
    "\n",
    "# def LF_negative_keywords(c):\n",
    "#     ngrams = set(get_aligned_ngrams(c.voltage))\n",
    "#     return -1 if (\n",
    "#         'collector-base'    in ngrams or\n",
    "#         'cut-off'           in ngrams or\n",
    "#         '='                 in ngrams or\n",
    "#         'gain'              in ngrams or\n",
    "#         'h fe'              in ngrams or\n",
    "#         'typ.'              in ngrams or\n",
    "#         'typ'               in ngrams or\n",
    "#         'min'               in ngrams or\n",
    "#         'min.'              in ngrams or\n",
    "#         'saturation'        in ngrams or\n",
    "#         'mhz'               in ngrams or\n",
    "#         'gain'              in ngrams or\n",
    "#         'obo'               in ngrams or\n",
    "#         'c obo'             in ngrams) else 0\n",
    "# LFs.append(LF_negative_keywords)\n"
   ]
  },
  {
   "cell_type": "markdown",
   "metadata": {},
   "source": [
    "### Apply LFs"
   ]
  },
  {
   "cell_type": "code",
   "execution_count": 3,
   "metadata": {
    "collapsed": false
   },
   "outputs": [
    {
     "name": "stdout",
     "output_type": "stream",
     "text": [
      "[========================================] 100%\n",
      "Bulk upserting 342460 annotations...\n",
      "Done.\n",
      "Loading sparse Label matrix...\n",
      "CPU times: user 5min 38s, sys: 2min 7s, total: 7min 45s\n",
      "Wall time: 13min 28s\n"
     ]
    },
    {
     "data": {
      "text/plain": [
       "<34246x10 sparse matrix of type '<type 'numpy.float64'>'\n",
       "\twith 148467 stored elements in Compressed Sparse Row format>"
      ]
     },
     "execution_count": 3,
     "metadata": {},
     "output_type": "execute_result"
    }
   ],
   "source": [
    "%time L_train = label_manager.create(session, train, 'LF Labels', f=LFs)\n",
    "L_train"
   ]
  },
  {
   "cell_type": "markdown",
   "metadata": {},
   "source": [
    "### Assess LF accuracy"
   ]
  },
  {
   "cell_type": "code",
   "execution_count": 4,
   "metadata": {
    "collapsed": false
   },
   "outputs": [
    {
     "name": "stdout",
     "output_type": "stream",
     "text": [
      "[========================================] 100%\n",
      "CPU times: user 257 ms, sys: 22 ms, total: 279 ms\n",
      "Wall time: 279 ms\n"
     ]
    },
    {
     "data": {
      "text/html": [
       "<div>\n",
       "<table border=\"1\" class=\"dataframe\">\n",
       "  <thead>\n",
       "    <tr style=\"text-align: right;\">\n",
       "      <th></th>\n",
       "      <th>accuracy</th>\n",
       "      <th>conflicts</th>\n",
       "      <th>coverage</th>\n",
       "      <th>j</th>\n",
       "      <th>overlaps</th>\n",
       "    </tr>\n",
       "  </thead>\n",
       "  <tbody>\n",
       "    <tr>\n",
       "      <th>LF_cb_keywords</th>\n",
       "      <td>0.727676</td>\n",
       "      <td>0.357998</td>\n",
       "      <td>1.000000</td>\n",
       "      <td>0</td>\n",
       "      <td>1.000000</td>\n",
       "    </tr>\n",
       "    <tr>\n",
       "      <th>LF_low_table_num</th>\n",
       "      <td>0.705951</td>\n",
       "      <td>0.357998</td>\n",
       "      <td>1.000000</td>\n",
       "      <td>1</td>\n",
       "      <td>1.000000</td>\n",
       "    </tr>\n",
       "    <tr>\n",
       "      <th>LF_pos_keywords_in_row</th>\n",
       "      <td>0.411637</td>\n",
       "      <td>0.288034</td>\n",
       "      <td>0.295100</td>\n",
       "      <td>2</td>\n",
       "      <td>0.295100</td>\n",
       "    </tr>\n",
       "    <tr>\n",
       "      <th>LF_cheating_with_another_part</th>\n",
       "      <td>0.737939</td>\n",
       "      <td>0.165654</td>\n",
       "      <td>0.182182</td>\n",
       "      <td>3</td>\n",
       "      <td>0.182182</td>\n",
       "    </tr>\n",
       "    <tr>\n",
       "      <th>LF_row_aligned</th>\n",
       "      <td>NaN</td>\n",
       "      <td>0.000000</td>\n",
       "      <td>0.000000</td>\n",
       "      <td>4</td>\n",
       "      <td>0.000000</td>\n",
       "    </tr>\n",
       "    <tr>\n",
       "      <th>LF_voltage_inside_table</th>\n",
       "      <td>0.858101</td>\n",
       "      <td>0.006979</td>\n",
       "      <td>0.557262</td>\n",
       "      <td>5</td>\n",
       "      <td>0.557262</td>\n",
       "    </tr>\n",
       "    <tr>\n",
       "      <th>LF_specific_neg_row_keywords</th>\n",
       "      <td>0.684932</td>\n",
       "      <td>0.103895</td>\n",
       "      <td>0.127898</td>\n",
       "      <td>6</td>\n",
       "      <td>0.127898</td>\n",
       "    </tr>\n",
       "    <tr>\n",
       "      <th>LF_equals_in_row</th>\n",
       "      <td>0.753518</td>\n",
       "      <td>0.191964</td>\n",
       "      <td>0.468901</td>\n",
       "      <td>7</td>\n",
       "      <td>0.468901</td>\n",
       "    </tr>\n",
       "    <tr>\n",
       "      <th>LF_i_in_row</th>\n",
       "      <td>0.736208</td>\n",
       "      <td>0.269550</td>\n",
       "      <td>0.457834</td>\n",
       "      <td>8</td>\n",
       "      <td>0.457834</td>\n",
       "    </tr>\n",
       "    <tr>\n",
       "      <th>LF_too_many_numbers_row</th>\n",
       "      <td>0.779808</td>\n",
       "      <td>0.088945</td>\n",
       "      <td>0.246131</td>\n",
       "      <td>9</td>\n",
       "      <td>0.246131</td>\n",
       "    </tr>\n",
       "  </tbody>\n",
       "</table>\n",
       "</div>"
      ],
      "text/plain": [
       "                               accuracy  conflicts  coverage  j  overlaps\n",
       "LF_cb_keywords                 0.727676   0.357998  1.000000  0  1.000000\n",
       "LF_low_table_num               0.705951   0.357998  1.000000  1  1.000000\n",
       "LF_pos_keywords_in_row         0.411637   0.288034  0.295100  2  0.295100\n",
       "LF_cheating_with_another_part  0.737939   0.165654  0.182182  3  0.182182\n",
       "LF_row_aligned                      NaN   0.000000  0.000000  4  0.000000\n",
       "LF_voltage_inside_table        0.858101   0.006979  0.557262  5  0.557262\n",
       "LF_specific_neg_row_keywords   0.684932   0.103895  0.127898  6  0.127898\n",
       "LF_equals_in_row               0.753518   0.191964  0.468901  7  0.468901\n",
       "LF_i_in_row                    0.736208   0.269550  0.457834  8  0.457834\n",
       "LF_too_many_numbers_row        0.779808   0.088945  0.246131  9  0.246131"
      ]
     },
     "execution_count": 4,
     "metadata": {},
     "output_type": "execute_result"
    }
   ],
   "source": [
    "train_gold = session.query(CandidateSet).filter(\n",
    "    CandidateSet.name == 'Hardware Training Candidates -- Gold').one()\n",
    "%time L_train.lf_stats(train_gold)"
   ]
  },
  {
   "cell_type": "code",
   "execution_count": 5,
   "metadata": {
    "collapsed": true
   },
   "outputs": [],
   "source": [
    "# If necessary\n",
    "import os\n",
    "os.system('cp snorkel.db snorkel.db\\ features');"
   ]
  },
  {
   "cell_type": "markdown",
   "metadata": {},
   "source": [
    "## Learn and Evaluate"
   ]
  },
  {
   "cell_type": "code",
   "execution_count": null,
   "metadata": {
    "collapsed": false
   },
   "outputs": [],
   "source": [
    "# If necessary:\n",
    "import os\n",
    "os.remove('snorkel.db');\n",
    "os.system('cp snorkel.db\\ features snorkel.db');\n",
    "\n",
    "%load_ext autoreload\n",
    "%autoreload 2\n",
    "%matplotlib inline\n",
    "\n",
    "import sys\n",
    "sys.path.append(os.environ['SNORKELHOME'] + '/tutorials/tables/')\n",
    "\n",
    "from snorkel import SnorkelSession\n",
    "session = SnorkelSession()\n",
    "\n",
    "from snorkel.models import candidate_subclass\n",
    "Part_Voltage = candidate_subclass('Part_Voltage', ['part','voltage'])"
   ]
  },
  {
   "cell_type": "code",
   "execution_count": 6,
   "metadata": {
    "collapsed": false
   },
   "outputs": [
    {
     "name": "stdout",
     "output_type": "stream",
     "text": [
      "CPU times: user 1min 2s, sys: 5.62 s, total: 1min 7s\n",
      "Wall time: 1min 11s\n",
      "CPU times: user 41.5 s, sys: 5.85 s, total: 47.3 s\n",
      "Wall time: 57.1 s\n",
      "CPU times: user 4.04 s, sys: 320 ms, total: 4.36 s\n",
      "Wall time: 4.46 s\n"
     ]
    }
   ],
   "source": [
    "from snorkel.fast_annotations import FeatureManager, LabelManager\n",
    "from snorkel.models import CandidateSet\n",
    "train = session.query(CandidateSet).filter(\n",
    "    CandidateSet.name == 'Hardware Training Candidates').one()\n",
    "dev = session.query(CandidateSet).filter(\n",
    "    CandidateSet.name == 'Hardware Development Candidates').one()\n",
    "\n",
    "feature_manager = FeatureManager()\n",
    "%time F_train = feature_manager.load(session, train, 'Train Features')\n",
    "%time F_dev = feature_manager.load(session, dev, 'Train Features')\n",
    "\n",
    "label_manager = LabelManager()\n",
    "%time L_train = label_manager.load(session, train, 'LF Labels')"
   ]
  },
  {
   "cell_type": "code",
   "execution_count": 7,
   "metadata": {
    "collapsed": false
   },
   "outputs": [
    {
     "name": "stdout",
     "output_type": "stream",
     "text": [
      "================================================================================\n",
      "Training marginals (!= 0.5):\t34246\n",
      "Features:\t\t\t10\n",
      "================================================================================\n",
      "Begin training for rate=0.01, mu=1e-06\n",
      "\tLearning epoch = 0\tGradient mag. = 0.383075\n",
      "\tLearning epoch = 250\tGradient mag. = 0.424314\n",
      "\tLearning epoch = 500\tGradient mag. = 0.426070\n",
      "\tLearning epoch = 750\tGradient mag. = 0.423378\n",
      "\tLearning epoch = 1000\tGradient mag. = 0.419970\n",
      "\tLearning epoch = 1250\tGradient mag. = 0.415899\n",
      "\tLearning epoch = 1500\tGradient mag. = 0.411289\n",
      "\tLearning epoch = 1750\tGradient mag. = 0.305814\n",
      "\tLearning epoch = 2000\tGradient mag. = 0.224189\n",
      "\tLearning epoch = 2250\tGradient mag. = 0.165466\n",
      "\tLearning epoch = 2500\tGradient mag. = 0.123460\n",
      "\tLearning epoch = 2750\tGradient mag. = 0.093681\n",
      "\tLearning epoch = 3000\tGradient mag. = 0.072848\n",
      "\tLearning epoch = 3250\tGradient mag. = 0.058539\n",
      "\tLearning epoch = 3500\tGradient mag. = 0.048928\n",
      "\tLearning epoch = 3750\tGradient mag. = 0.042616\n",
      "\tLearning epoch = 4000\tGradient mag. = 0.038546\n",
      "\tLearning epoch = 4250\tGradient mag. = 0.035947\n",
      "\tLearning epoch = 4500\tGradient mag. = 0.034288\n",
      "\tLearning epoch = 4750\tGradient mag. = 0.033220\n",
      "\tLearning epoch = 5000\tGradient mag. = 0.032515\n",
      "\tLearning epoch = 5250\tGradient mag. = 0.032024\n",
      "\tLearning epoch = 5500\tGradient mag. = 0.031645\n",
      "\tLearning epoch = 5750\tGradient mag. = 0.031304\n",
      "\tLearning epoch = 6000\tGradient mag. = 0.030949\n",
      "\tLearning epoch = 6250\tGradient mag. = 0.030540\n",
      "\tLearning epoch = 6500\tGradient mag. = 0.030051\n",
      "\tLearning epoch = 6750\tGradient mag. = 0.029472\n",
      "\tLearning epoch = 7000\tGradient mag. = 0.028800\n",
      "\tLearning epoch = 7250\tGradient mag. = 0.028038\n",
      "\tLearning epoch = 7500\tGradient mag. = 0.027198\n",
      "\tLearning epoch = 7750\tGradient mag. = 0.026295\n",
      "\tLearning epoch = 8000\tGradient mag. = 0.025345\n",
      "\tLearning epoch = 8250\tGradient mag. = 0.024364\n",
      "\tLearning epoch = 8500\tGradient mag. = 0.023370\n",
      "\tLearning epoch = 8750\tGradient mag. = 0.022374\n",
      "\tLearning epoch = 9000\tGradient mag. = 0.021387\n",
      "\tLearning epoch = 9250\tGradient mag. = 0.020420\n",
      "\tLearning epoch = 9500\tGradient mag. = 0.019476\n",
      "\tLearning epoch = 9750\tGradient mag. = 0.018562\n",
      "\tLearning epoch = 10000\tGradient mag. = 0.017679\n",
      "\tLearning epoch = 10250\tGradient mag. = 0.016828\n",
      "\tLearning epoch = 10500\tGradient mag. = 0.016012\n",
      "\tLearning epoch = 10750\tGradient mag. = 0.015229\n",
      "\tLearning epoch = 11000\tGradient mag. = 0.014480\n",
      "\tLearning epoch = 11250\tGradient mag. = 0.013762\n",
      "\tLearning epoch = 11500\tGradient mag. = 0.013077\n",
      "\tLearning epoch = 11750\tGradient mag. = 0.012422\n",
      "\tLearning epoch = 12000\tGradient mag. = 0.011796\n",
      "\tLearning epoch = 12250\tGradient mag. = 0.011200\n",
      "\tLearning epoch = 12500\tGradient mag. = 0.010631\n",
      "\tLearning epoch = 12750\tGradient mag. = 0.010088\n",
      "\tLearning epoch = 13000\tGradient mag. = 0.009572\n",
      "\tLearning epoch = 13250\tGradient mag. = 0.009080\n",
      "\tLearning epoch = 13500\tGradient mag. = 0.008612\n",
      "\tLearning epoch = 13750\tGradient mag. = 0.008167\n",
      "\tLearning epoch = 14000\tGradient mag. = 0.007744\n",
      "\tLearning epoch = 14250\tGradient mag. = 0.007343\n",
      "\tLearning epoch = 14500\tGradient mag. = 0.006962\n",
      "\tLearning epoch = 14750\tGradient mag. = 0.006600\n",
      "Final gradient magnitude for rate=0.01, mu=1e-06: 0.006\n",
      "CPU times: user 200 ms, sys: 34.4 ms, total: 234 ms\n",
      "Wall time: 258 ms\n"
     ]
    },
    {
     "name": "stderr",
     "output_type": "stream",
     "text": [
      "/Users/bradenhancock/anaconda/lib/python2.7/site-packages/matplotlib/__init__.py:1318: UserWarning:  This call to matplotlib.use() has no effect\n",
      "because the backend has already been chosen;\n",
      "matplotlib.use() must be called *before* pylab, matplotlib.pyplot,\n",
      "or matplotlib.backends is imported for the first time.\n",
      "\n",
      "  warnings.warn(_use_error_msg)\n"
     ]
    }
   ],
   "source": [
    "from snorkel.learning import NaiveBayes\n",
    "\n",
    "gen_model = NaiveBayes()\n",
    "gen_model.train(L_train, n_iter=15000, rate=1e-2)\n",
    "%time gen_model.save(session, 'Generative Params')\n",
    "train_marginals = gen_model.marginals(L_train)"
   ]
  },
  {
   "cell_type": "code",
   "execution_count": 8,
   "metadata": {
    "collapsed": false
   },
   "outputs": [
    {
     "name": "stdout",
     "output_type": "stream",
     "text": [
      "================================================================================\n",
      "Training marginals (!= 0.5):\t34246\n",
      "Features:\t\t\t23320\n",
      "================================================================================\n",
      "Using gradient descent...\n",
      "\tLearning epoch = 0\tStep size = 0.0001\n",
      "\tLoss = 23737.518345\tGradient magnitude = 32061.115785\n",
      "\tLearning epoch = 100\tStep size = 9.04792147114e-05\n",
      "\tLoss = 2035.142655\tGradient magnitude = 1292.620173\n",
      "\tLearning epoch = 200\tStep size = 8.18648829479e-05\n",
      "\tLoss = 1933.761464\tGradient magnitude = 68.085992\n",
      "\tLearning epoch = 300\tStep size = 7.40707032156e-05\n",
      "\tLoss = 1907.389853\tGradient magnitude = 50.365601\n",
      "\tLearning epoch = 400\tStep size = 6.70185906007e-05\n",
      "\tLoss = 1893.080363\tGradient magnitude = 41.030561\n",
      "\tLearning epoch = 500\tStep size = 6.06378944861e-05\n",
      "\tLoss = 1884.061732\tGradient magnitude = 35.269941\n",
      "\tLearning epoch = 600\tStep size = 5.48646907485e-05\n",
      "\tLoss = 1877.860363\tGradient magnitude = 31.367766\n",
      "\tLearning epoch = 700\tStep size = 4.96411413431e-05\n",
      "\tLoss = 1873.347202\tGradient magnitude = 28.556966\n",
      "\tLearning epoch = 800\tStep size = 4.4914914861e-05\n",
      "\tLoss = 1869.929976\tGradient magnitude = 26.443386\n",
      "\tLearning epoch = 900\tStep size = 4.06386622545e-05\n",
      "\tLoss = 1867.267157\tGradient magnitude = 24.803809\n",
      "\tLearning epoch = 1000\tStep size = 3.67695424771e-05\n",
      "\tLoss = 1865.146426\tGradient magnitude = 23.503054\n",
      "\tLearning epoch = 1100\tStep size = 3.32687932862e-05\n",
      "\tLoss = 1863.428514\tGradient magnitude = 22.453538\n",
      "\tLearning epoch = 1200\tStep size = 3.01013429093e-05\n",
      "\tLoss = 1862.017694\tGradient magnitude = 21.596277\n",
      "\tLearning epoch = 1300\tStep size = 2.72354586819e-05\n",
      "\tLoss = 1860.846430\tGradient magnitude = 20.889652\n",
      "\tLearning epoch = 1400\tStep size = 2.46424291385e-05\n",
      "\tLoss = 1859.865837\tGradient magnitude = 20.303842\n",
      "\tLearning epoch = 1500\tStep size = 2.22962763703e-05\n",
      "\tLoss = 1859.039409\tGradient magnitude = 19.816942\n",
      "\tLearning epoch = 1600\tStep size = 2.01734957697e-05\n",
      "\tLoss = 1858.339319\tGradient magnitude = 19.411397\n",
      "\tLearning epoch = 1700\tStep size = 1.82528205523e-05\n",
      "\tLoss = 1857.743737\tGradient magnitude = 19.075554\n",
      "\tLearning epoch = 1800\tStep size = 1.65150086984e-05\n",
      "\tLoss = 1857.235832\tGradient magnitude = 18.799117\n",
      "\tLearning epoch = 1900\tStep size = 1.49426501798e-05\n",
      "\tLoss = 1856.802200\tGradient magnitude = 18.574635\n",
      "CPU times: user 4.76 s, sys: 111 ms, total: 4.87 s\n",
      "Wall time: 4.67 s\n"
     ]
    }
   ],
   "source": [
    "from snorkel.learning import LogReg\n",
    "\n",
    "disc_model = LogReg()\n",
    "disc_model.train(F_train, train_marginals, n_iter=2000, rate=1e-4)\n",
    "%time disc_model.save(session, \"Discriminative Params\")"
   ]
  },
  {
   "cell_type": "code",
   "execution_count": 9,
   "metadata": {
    "collapsed": false
   },
   "outputs": [
    {
     "name": "stdout",
     "output_type": "stream",
     "text": [
      "Calibration plot:\n"
     ]
    },
    {
     "name": "stderr",
     "output_type": "stream",
     "text": [
      "/Users/bradenhancock/anaconda/lib/python2.7/site-packages/numpy/core/_methods.py:59: RuntimeWarning: Mean of empty slice.\n",
      "  warnings.warn(\"Mean of empty slice.\", RuntimeWarning)\n"
     ]
    },
    {
     "data": {
      "image/png": "[encoded data removed]",
      "text/plain": [
       "<matplotlib.figure.Figure at 0x11e18ea10>"
      ]
     },
     "metadata": {},
     "output_type": "display_data"
    },
    {
     "name": "stdout",
     "output_type": "stream",
     "text": [
      "========================================\n",
      "Recall-corrected Noise-aware Model\n",
      "========================================\n",
      "Pos. class accuracy: 0.426759512559\n",
      "Neg. class accuracy: 0.763110590074\n",
      "Corpus Precision 0.361\n",
      "Corpus Recall    0.427\n",
      "Corpus F1        0.391\n",
      "----------------------------------------\n",
      "TP: 1716 | FP: 3031 | TN: 9764 | FN: 2305\n",
      "========================================\n",
      "\n",
      "========================================\n",
      "Recall-corrected Noise-aware Model\n",
      "========================================\n",
      "Pos. class accuracy: 0.426759512559\n",
      "Neg. class accuracy: 0.763110590074\n",
      "Corpus Precision 0.361\n",
      "Corpus Recall    0.427\n",
      "Corpus F1        0.391\n",
      "----------------------------------------\n",
      "TP: 1716 | FP: 3031 | TN: 9764 | FN: 2305\n",
      "========================================\n",
      "\n"
     ]
    }
   ],
   "source": [
    "train_gold = session.query(CandidateSet).filter(\n",
    "    CandidateSet.name == 'Hardware Training Candidates -- Gold').one()\n",
    "\n",
    "dev_gold = session.query(CandidateSet).filter(\n",
    "    CandidateSet.name == 'Hardware Development Candidates -- Gold').one()\n",
    "\n",
    "from snorkel.models import CandidateSet\n",
    "from snorkel.annotations import LabelManager\n",
    "label_manager = LabelManager()\n",
    "L_dev = label_manager.load(session, dev, 'Hardware Development Labels -- Gold')\n",
    "\n",
    "tp, fp, tn, fn = disc_model.score(F_dev, L_dev, dev_gold)"
   ]
  },
  {
   "cell_type": "code",
   "execution_count": null,
   "metadata": {
    "collapsed": false
   },
   "outputs": [],
   "source": [
    "# from pprint import pprint\n",
    "# for t in list(tp): print t"
   ]
  },
  {
   "cell_type": "code",
   "execution_count": 10,
   "metadata": {
    "collapsed": false,
    "scrolled": true
   },
   "outputs": [
    {
     "name": "stdout",
     "output_type": "stream",
     "text": [
      "========================================\n",
      "Scoring on Entity-Level Gold Data\n",
      "========================================\n",
      "Corpus Precision 0.331\n",
      "Corpus Recall    0.918\n",
      "Corpus F1        0.487\n",
      "----------------------------------------\n",
      "TP: 169 | FP: 341 | FN: 15\n",
      "========================================\n",
      "\n"
     ]
    }
   ],
   "source": [
    "from snorkel.models import Corpus\n",
    "from hardware_utils import entity_level_f1\n",
    "import os\n",
    "\n",
    "gold_file = os.environ['SNORKELHOME'] + '/tutorials/tables/data/hardware/hardware_gold.csv'\n",
    "corpus = session.query(Corpus).filter(Corpus.name == 'Hardware Development').one()\n",
    "(TP, FP, FN) = entity_level_f1(tp, fp, tn, fn, gold_file, corpus, 'cb_v_max')"
   ]
  },
  {
   "cell_type": "code",
   "execution_count": 11,
   "metadata": {
    "collapsed": false
   },
   "outputs": [
    {
     "name": "stdout",
     "output_type": "stream",
     "text": [
      "[('AUKCS04635-1', '2N3906', '-40'),\n",
      " ('INFNS19372-1', 'MMBT3904', '60'),\n",
      " ('INFNS19372-1', 'SMBT3904', '60'),\n",
      " ('MCCCS09741-1', 'BC337', '50'),\n",
      " ('MCCCS09741-1', 'BC337-16', '50'),\n",
      " ('MCCCS09741-1', 'BC337-25', '50'),\n",
      " ('MCCCS09741-1', 'BC337-40', '50'),\n",
      " ('MCCCS09741-1', 'BC338', '30'),\n",
      " ('MCCCS09741-1', 'BC338-16', '30'),\n",
      " ('MCCCS09741-1', 'BC338-25', '30')]\n",
      "[(u'112823', u'BC546', u'30'),\n",
      " (u'112823', u'BC546', u'50'),\n",
      " (u'112823', u'BC546B', u'30'),\n",
      " (u'112823', u'BC546B', u'50'),\n",
      " (u'112823', u'BC546BG', u'30'),\n",
      " (u'112823', u'BC546BG', u'50'),\n",
      " (u'112823', u'BC546BRL1', u'30'),\n",
      " (u'112823', u'BC546BRL1', u'50'),\n",
      " (u'112823', u'BC546BRL1G', u'30'),\n",
      " (u'112823', u'BC546BRL1G', u'50')]\n"
     ]
    }
   ],
   "source": [
    "from pprint import pprint\n",
    "FN_list = sorted(list(FN))\n",
    "FP_list = sorted(list(FP))\n",
    "TP_list = sorted(list(TP))\n",
    "pprint(FN_list[:10])\n",
    "pprint(FP_list[:10])"
   ]
  },
  {
   "cell_type": "code",
   "execution_count": null,
   "metadata": {
    "collapsed": false,
    "scrolled": true
   },
   "outputs": [],
   "source": [
    "# docs = set()\n",
    "# for doc in corpus.documents:\n",
    "#     docs.add(doc.name.upper())\n",
    "# pprint(docs)"
   ]
  },
  {
   "cell_type": "code",
   "execution_count": null,
   "metadata": {
    "collapsed": false
   },
   "outputs": [],
   "source": [
    "# import itertools\n",
    "# docs = set()\n",
    "# for f in itertools.chain.from_iterable([tp, tn, fp, fn]):\n",
    "#     docs.add(f.part.parent.document.name.upper())\n",
    "# #     if f.part.parent.document.name.upper() == 'AUKCS04635-1':\n",
    "# #         print f\n",
    "# pprint(docs)"
   ]
  },
  {
   "cell_type": "code",
   "execution_count": null,
   "metadata": {
    "collapsed": false
   },
   "outputs": [],
   "source": [
    "from hardware_utils import entity_to_candidates\n",
    "\n",
    "# disc_model.get_feature_weights(F_dev)\n",
    "\n",
    "entity = FN_list[1]\n",
    "print \"Entity: \", entity\n",
    "print\n",
    "\n",
    "matches = entity_to_candidates(entity, fn)\n",
    "print \"# Matches: %d\" % len(matches)\n",
    "candidate = matches[0]\n",
    "print candidate\n",
    "\n",
    "print \"\\nPhrase:\"\n",
    "print candidate.voltage.parent\n",
    "\n",
    "print disc_model.get_candidate_score(candidate, F_dev)\n",
    "print\n",
    "pprint(disc_model.get_candidate_feature_weights(candidate, F_dev))"
   ]
  },
  {
   "cell_type": "code",
   "execution_count": null,
   "metadata": {
    "collapsed": true
   },
   "outputs": [],
   "source": [
    "import os\n",
    "os.system('cp snorkel.db snorkel.db\\ final');"
   ]
  },
  {
   "cell_type": "code",
   "execution_count": null,
   "metadata": {
    "collapsed": true
   },
   "outputs": [],
   "source": []
  },
  {
   "cell_type": "code",
   "execution_count": null,
   "metadata": {
    "collapsed": false
   },
   "outputs": [],
   "source": []
  },
  {
   "cell_type": "code",
   "execution_count": null,
   "metadata": {
    "collapsed": true
   },
   "outputs": [],
   "source": []
  }
 ],
 "metadata": {
  "anaconda-cloud": {},
  "kernelspec": {
   "display_name": "Python [default]",
   "language": "python",
   "name": "python2"
  },
  "language_info": {
   "codemirror_mode": {
    "name": "ipython",
    "version": 2
   },
   "file_extension": ".py",
   "mimetype": "text/x-python",
   "name": "python",
   "nbconvert_exporter": "python",
   "pygments_lexer": "ipython2",
   "version": "2.7.10"
  }
 },
 "nbformat": 4,
 "nbformat_minor": 1
}
