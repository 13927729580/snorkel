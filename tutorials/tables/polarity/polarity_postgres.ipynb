{
 "cells": [
  {
   "cell_type": "markdown",
   "metadata": {},
   "source": [
    "# polarity"
   ]
  },
  {
   "cell_type": "markdown",
   "metadata": {},
   "source": [
    "## Setup"
   ]
  },
  {
   "cell_type": "code",
   "execution_count": 1,
   "metadata": {
    "collapsed": false
   },
   "outputs": [],
   "source": [
    "%load_ext autoreload\n",
    "%autoreload 2\n",
    "%matplotlib inline\n",
    "\n",
    "import os\n",
    "import sys\n",
    "sys.path.append(os.environ['SNORKELHOME'] + '/tutorials/tables/')"
   ]
  },
  {
   "cell_type": "markdown",
   "metadata": {},
   "source": [
    "## Parsing"
   ]
  },
  {
   "cell_type": "code",
   "execution_count": 2,
   "metadata": {
    "collapsed": false
   },
   "outputs": [],
   "source": [
    "from snorkel import SnorkelSession\n",
    "session = SnorkelSession()"
   ]
  },
  {
   "cell_type": "markdown",
   "metadata": {},
   "source": [
    "### Define Parser"
   ]
  },
  {
   "cell_type": "code",
   "execution_count": 3,
   "metadata": {
    "collapsed": true
   },
   "outputs": [],
   "source": [
    "from snorkel.parser import CorpusParser, HTMLParser, OmniParser\n",
    "from snorkel.utils import get_ORM_instance\n",
    "from snorkel.queries import split_corpus\n",
    "\n",
    "docs_path = os.environ['SNORKELHOME'] + '/tutorials/tables/data/hardware/hardware100_html/'\n",
    "doc_parser = HTMLParser(path=docs_path)\n",
    "context_parser = OmniParser()\n",
    "cp = CorpusParser(doc_parser, context_parser, max_docs=100) "
   ]
  },
  {
   "cell_type": "markdown",
   "metadata": {},
   "source": [
    "### Run Parser"
   ]
  },
  {
   "cell_type": "code",
   "execution_count": 4,
   "metadata": {
    "collapsed": false,
    "scrolled": true
   },
   "outputs": [
    {
     "name": "stdout",
     "output_type": "stream",
     "text": [
      "[========================================] 100%\n",
      "CPU times: user 20.1 s, sys: 512 ms, total: 20.6 s\n",
      "Wall time: 43.6 s\n"
     ]
    }
   ],
   "source": [
    "%time corpus = cp.parse_corpus(name='Hardware', session=session)\n",
    "\n",
    "session.add(corpus)\n",
    "session.commit()"
   ]
  },
  {
   "cell_type": "markdown",
   "metadata": {},
   "source": [
    "### Split Corpus"
   ]
  },
  {
   "cell_type": "code",
   "execution_count": 5,
   "metadata": {
    "collapsed": false
   },
   "outputs": [
    {
     "name": "stdout",
     "output_type": "stream",
     "text": [
      "60 Documents added to corpus Hardware Training\n",
      "40 Documents added to corpus Hardware Development\n"
     ]
    }
   ],
   "source": [
    "from snorkel.models import Corpus\n",
    "\n",
    "corpus = get_ORM_instance(Corpus, session, 'Hardware')\n",
    "split_corpus(session, corpus, train=0.6, development=0.4, test=0, seed=3)"
   ]
  },
  {
   "cell_type": "markdown",
   "metadata": {},
   "source": [
    "## Extraction"
   ]
  },
  {
   "cell_type": "code",
   "execution_count": 6,
   "metadata": {
    "collapsed": false
   },
   "outputs": [],
   "source": [
    "from snorkel.models import candidate_subclass\n",
    "\n",
    "Part_Polarity = candidate_subclass('Part_Polarity', ['part','polarity'])"
   ]
  },
  {
   "cell_type": "markdown",
   "metadata": {},
   "source": [
    "### Define Matchers"
   ]
  },
  {
   "cell_type": "code",
   "execution_count": 7,
   "metadata": {
    "collapsed": true
   },
   "outputs": [],
   "source": [
    "from snorkel.matchers import RegexMatchSpan, Union\n",
    "\n",
    "eeca_matcher = RegexMatchSpan(rgx='([b]{1}[abcdefklnpqruyz]{1}[\\swxyz]?[0-9]{3,5}[\\s]?[A-Z\\/]{0,5}[0-9]?[A-Z]?([-][A-Z0-9]{1,7})?([-][A-Z0-9]{1,2})?)')\n",
    "jedec_matcher = RegexMatchSpan(rgx='([123]N\\d{3,4}[A-Z]{0,5}[0-9]?[A-Z]?)')\n",
    "jis_matcher = RegexMatchSpan(rgx='(2S[abcdefghjkmqrstvz]{1}[\\d]{2,4})')\n",
    "others_matcher = RegexMatchSpan(rgx='((NSVBC|SMBT|MJ|MJE|MPS|MRF|RCA|TIP|ZTX|ZT|TIS|TIPL|DTC|MMBT|PZT){1}[\\d]{2,4}[A-Z]{0,3}([-][A-Z0-9]{0,6})?([-][A-Z0-9]{0,1})?)')\n",
    "parts_matcher = Union(eeca_matcher, jedec_matcher, jis_matcher, others_matcher)\n",
    "\n",
    "polarity_matcher = RegexMatchSpan(rgx=r'(pnp|npn)', ignore_case=True)"
   ]
  },
  {
   "cell_type": "markdown",
   "metadata": {},
   "source": [
    "### Define ContextSpaces"
   ]
  },
  {
   "cell_type": "code",
   "execution_count": 8,
   "metadata": {
    "collapsed": false
   },
   "outputs": [],
   "source": [
    "from snorkel.candidates import OmniNgrams\n",
    "from hardware_utils import OmniNgramsPart, get_gold_dict\n",
    "from collections import defaultdict\n",
    "\n",
    "# Make parts list\n",
    "gold_file = os.environ['SNORKELHOME'] + '/tutorials/tables/data/hardware/hardware_gold.csv'\n",
    "gold_parts = get_gold_dict(gold_file, doc_on=True, part_on=True, val_on=False)\n",
    "parts_by_doc = defaultdict(set)\n",
    "for part in gold_parts:\n",
    "    parts_by_doc[part[0]].add(part[1])\n",
    "\n",
    "part_ngrams = OmniNgramsPart(n_max=3, parts_by_doc=None) # NOTE: linking is turned off\n",
    "polarity_ngrams = OmniNgrams(n_max=1)"
   ]
  },
  {
   "cell_type": "markdown",
   "metadata": {},
   "source": [
    "### Run CandidateExtractor"
   ]
  },
  {
   "cell_type": "code",
   "execution_count": 9,
   "metadata": {
    "collapsed": false
   },
   "outputs": [
    {
     "name": "stdout",
     "output_type": "stream",
     "text": [
      "Extracting Candidates from Corpus (Hardware Training)\n",
      "[========================================] 100%\n",
      "CPU times: user 8.09 s, sys: 176 ms, total: 8.26 s\n",
      "Wall time: 10.1 s\n",
      "Candidate Set (Hardware Training Candidates) contains 4221 Candidates\n",
      "Extracting Candidates from Corpus (Hardware Development)\n",
      "[========================================] 100%\n",
      "CPU times: user 5.25 s, sys: 68 ms, total: 5.32 s\n",
      "Wall time: 6.24 s\n",
      "Candidate Set (Hardware Development Candidates) contains 2097 Candidates\n"
     ]
    }
   ],
   "source": [
    "from snorkel.models import Corpus\n",
    "from snorkel.candidates import CandidateExtractor\n",
    "from snorkel.utils import get_ORM_instance\n",
    "ce = CandidateExtractor(Part_Polarity, \n",
    "                        [part_ngrams, polarity_ngrams], \n",
    "                        [parts_matcher, polarity_matcher], \n",
    "                        throttler=None)\n",
    "\n",
    "for corpus_name in ['Hardware Training', 'Hardware Development']:\n",
    "    corpus = get_ORM_instance(Corpus, session, corpus_name)\n",
    "    print \"Extracting Candidates from %s\" % corpus\n",
    "    %time candidates = ce.extract(\\\n",
    "        corpus.documents, corpus_name + ' Candidates', session)\n",
    "    session.add(candidates)\n",
    "    print \"%s contains %d Candidates\" % (candidates, len(candidates))\n",
    "session.commit()"
   ]
  },
  {
   "cell_type": "markdown",
   "metadata": {},
   "source": [
    "### Assess Recall"
   ]
  },
  {
   "cell_type": "code",
   "execution_count": 10,
   "metadata": {
    "collapsed": false
   },
   "outputs": [
    {
     "name": "stdout",
     "output_type": "stream",
     "text": [
      "Preparing candidates...\n",
      "[========================================] 100%\n",
      "========================================\n",
      "Scoring on Entity-Level Total Recall\n",
      "========================================\n",
      "Entity-level Candidates extracted: 1146 \n",
      "Entity-level Gold: 829\n",
      "Intersection Candidates: 580\n",
      "----------------------------------------\n",
      "Overlap with Gold:  0.6996\n",
      "========================================\n",
      "\n"
     ]
    }
   ],
   "source": [
    "from snorkel.models import Candidate\n",
    "from hardware_utils import entity_level_total_recall\n",
    "\n",
    "all_candidates = session.query(Candidate).all()\n",
    "gold_file = os.environ['SNORKELHOME'] + '/tutorials/tables/data/hardware/hardware_gold.csv'\n",
    "(tp, fp, fn) = entity_level_total_recall(\n",
    "    all_candidates, gold_file, 'polarity', relation=True)"
   ]
  },
  {
   "cell_type": "code",
   "execution_count": 11,
   "metadata": {
    "collapsed": false
   },
   "outputs": [
    {
     "name": "stdout",
     "output_type": "stream",
     "text": [
      "set([('112823', 'BC546BG', 'NPN'),\n",
      "     ('112823', 'BC546BRL1', 'NPN'),\n",
      "     ('112823', 'BC546BRL1G', 'NPN'),\n",
      "     ('112823', 'BC546BZL1G', 'NPN'),\n",
      "     ('112823', 'BC547ARL', 'NPN'),\n",
      "     ('112823', 'BC547ARLG', 'NPN'),\n",
      "     ('112823', 'BC547AZL1G', 'NPN'),\n",
      "     ('112823', 'BC547BG', 'NPN'),\n",
      "     ('112823', 'BC547BRL1G', 'NPN'),\n",
      "     ('112823', 'BC547BZL1G', 'NPN'),\n",
      "     ('112823', 'BC547C', 'NPN'),\n",
      "     ('112823', 'BC547CG', 'NPN'),\n",
      "     ('112823', 'BC547CZL1G', 'NPN'),\n",
      "     ('112823', 'BC548BG', 'NPN'),\n",
      "     ('112823', 'BC548BRL1G', 'NPN'),\n",
      "     ('112823', 'BC548BZL1G', 'NPN'),\n",
      "     ('112823', 'BC548CG', 'NPN'),\n",
      "     ('112823', 'BC548CZL1G', 'NPN'),\n",
      "     ('2N3906-D', '2N3906G', 'PNP'),\n",
      "     ('2N3906-D', '2N3906RL1', 'PNP'),\n",
      "     ('2N3906-D', '2N3906RL1G', 'PNP'),\n",
      "     ('2N3906-D', '2N3906RLRA', 'PNP'),\n",
      "     ('2N3906-D', '2N3906RLRAG', 'PNP'),\n",
      "     ('2N3906-D', '2N3906RLRM', 'PNP'),\n",
      "     ('2N3906-D', '2N3906RLRMG', 'PNP'),\n",
      "     ('2N3906-D', '2N3906RLRP', 'PNP'),\n",
      "     ('2N3906-D', '2N3906RLRPG', 'PNP'),\n",
      "     ('2N6426-D', '2N6426G', 'NPN'),\n",
      "     ('2N6426-D', '2N6426RLRAG', 'NPN'),\n",
      "     ('2N6426-D', '2N6427G', 'NPN'),\n",
      "     ('2N6426-D', '2N6427RLRAG', 'NPN'),\n",
      "     ('BC337', 'BC337-16', 'NPN'),\n",
      "     ('BC337', 'BC337-25', 'NPN'),\n",
      "     ('BC337', 'BC337-40', 'NPN'),\n",
      "     ('BC337', 'BC338-25', 'NPN'),\n",
      "     ('BC337-D', 'BC337-025G', 'NPN'),\n",
      "     ('BC337-D', 'BC337-040G', 'NPN'),\n",
      "     ('BC337-D', 'BC337-25RL1G', 'NPN'),\n",
      "     ('BC337-D', 'BC337-25RLRAG', 'NPN'),\n",
      "     ('BC337-D', 'BC337-25ZL1G', 'NPN'),\n",
      "     ('BC337-D', 'BC337-40RL1G', 'NPN'),\n",
      "     ('BC337-D', 'BC337-40ZL1G', 'NPN'),\n",
      "     ('BC337-D', 'BC337G', 'NPN'),\n",
      "     ('BC337-D', 'BC337RL1G', 'NPN'),\n",
      "     ('BC546-D', 'BC546BG', 'NPN'),\n",
      "     ('BC546-D', 'BC546BRL1', 'NPN'),\n",
      "     ('BC546-D', 'BC546BRL1G', 'NPN'),\n",
      "     ('BC546-D', 'BC546BZL1G', 'NPN'),\n",
      "     ('BC546-D', 'BC547ARL', 'NPN'),\n",
      "     ('BC546-D', 'BC547ARLG', 'NPN'),\n",
      "     ('BC546-D', 'BC547AZL1G', 'NPN'),\n",
      "     ('BC546-D', 'BC547BG', 'NPN'),\n",
      "     ('BC546-D', 'BC547BRL1G', 'NPN'),\n",
      "     ('BC546-D', 'BC547BZL1G', 'NPN'),\n",
      "     ('BC546-D', 'BC547C', 'NPN'),\n",
      "     ('BC546-D', 'BC547CG', 'NPN'),\n",
      "     ('BC546-D', 'BC547CZL1G', 'NPN'),\n",
      "     ('BC546-D', 'BC548BG', 'NPN'),\n",
      "     ('BC546-D', 'BC548BRL1G', 'NPN'),\n",
      "     ('BC546-D', 'BC548BZL1G', 'NPN'),\n",
      "     ('BC546-D', 'BC548CG', 'NPN'),\n",
      "     ('BC546-D', 'BC548CZL1G', 'NPN'),\n",
      "     ('BC546_DIOTEC', 'BC546A', 'NPN'),\n",
      "     ('BC546_DIOTEC', 'BC546B', 'NPN'),\n",
      "     ('BC546_DIOTEC', 'BC547A', 'NPN'),\n",
      "     ('BC546_DIOTEC', 'BC547B', 'NPN'),\n",
      "     ('BC546_DIOTEC', 'BC547C', 'NPN'),\n",
      "     ('BC546_DIOTEC', 'BC548A', 'NPN'),\n",
      "     ('BC546_DIOTEC', 'BC548B', 'NPN'),\n",
      "     ('BC546_DIOTEC', 'BC548C', 'NPN'),\n",
      "     ('BC546_DIOTEC', 'BC549B', 'NPN'),\n",
      "     ('BC546_DIOTEC', 'BC549C', 'NPN'),\n",
      "     ('BC550', 'BC546A', 'NPN'),\n",
      "     ('BC550', 'BC546B', 'NPN'),\n",
      "     ('BC550', 'BC546C', 'NPN'),\n",
      "     ('BC550', 'BC547A', 'NPN'),\n",
      "     ('BC550', 'BC547B', 'NPN'),\n",
      "     ('BC550', 'BC547C', 'NPN'),\n",
      "     ('BC550', 'BC548A', 'NPN'),\n",
      "     ('BC550', 'BC548B', 'NPN'),\n",
      "     ('BC550', 'BC548C', 'NPN'),\n",
      "     ('BC550', 'BC549A', 'NPN'),\n",
      "     ('BC550', 'BC549B', 'NPN'),\n",
      "     ('BC550', 'BC549C', 'NPN'),\n",
      "     ('BC550', 'BC550A', 'NPN'),\n",
      "     ('BC550', 'BC550B', 'NPN'),\n",
      "     ('BC550', 'BC550C', 'NPN'),\n",
      "     ('BC818', 'BC817-16', 'NPN'),\n",
      "     ('BC818', 'BC817-25', 'NPN'),\n",
      "     ('BC818', 'BC817-40', 'NPN'),\n",
      "     ('BC818', 'BC818-16', 'NPN'),\n",
      "     ('BC818', 'BC818-25', 'NPN'),\n",
      "     ('BC818', 'BC818-40', 'NPN'),\n",
      "     ('DISES00189-1', 'BC546A', 'NPN'),\n",
      "     ('DISES00189-1', 'BC546B', 'NPN'),\n",
      "     ('DISES00189-1', 'BC547A', 'NPN'),\n",
      "     ('DISES00189-1', 'BC547B', 'NPN'),\n",
      "     ('DISES00189-1', 'BC547C', 'NPN'),\n",
      "     ('DISES00189-1', 'BC548A', 'NPN'),\n",
      "     ('DISES00189-1', 'BC548B', 'NPN'),\n",
      "     ('DISES00189-1', 'BC548C', 'NPN'),\n",
      "     ('DISES00189-1', 'BC549B', 'NPN'),\n",
      "     ('DISES00189-1', 'BC549C', 'NPN'),\n",
      "     ('FAIRS19194-1', 'BC856A', 'PNP'),\n",
      "     ('FAIRS19194-1', 'BC856B', 'PNP'),\n",
      "     ('FAIRS19194-1', 'BC856C', 'PNP'),\n",
      "     ('FAIRS19194-1', 'BC857A', 'PNP'),\n",
      "     ('FAIRS19194-1', 'BC857B', 'PNP'),\n",
      "     ('FAIRS19194-1', 'BC857C', 'PNP'),\n",
      "     ('FAIRS19194-1', 'BC858A', 'PNP'),\n",
      "     ('FAIRS19194-1', 'BC858B', 'PNP'),\n",
      "     ('FAIRS19194-1', 'BC858C', 'PNP'),\n",
      "     ('FAIRS19194-1', 'BC859A', 'PNP'),\n",
      "     ('FAIRS19194-1', 'BC859B', 'PNP'),\n",
      "     ('FAIRS19194-1', 'BC859C', 'PNP'),\n",
      "     ('FAIRS19194-1', 'BC860A', 'PNP'),\n",
      "     ('FAIRS19194-1', 'BC860B', 'PNP'),\n",
      "     ('FAIRS19194-1', 'BC860C', 'PNP'),\n",
      "     ('FAIRS25065-1', 'BC237A', 'NPN'),\n",
      "     ('FAIRS25065-1', 'BC237B', 'NPN'),\n",
      "     ('FAIRS25065-1', 'BC237C', 'NPN'),\n",
      "     ('FAIRS25065-1', 'BC238A', 'NPN'),\n",
      "     ('FAIRS25065-1', 'BC238B', 'NPN'),\n",
      "     ('FAIRS25065-1', 'BC238C', 'NPN'),\n",
      "     ('FAIRS25065-1', 'BC239A', 'NPN'),\n",
      "     ('FAIRS25065-1', 'BC239B', 'NPN'),\n",
      "     ('FAIRS25065-1', 'BC239C', 'NPN'),\n",
      "     ('INFINEON-BC857SERIES_BC858SERIES_BC859SERIES_BC860SERIES-DS-V01_01-EN',\n",
      "      'BC857',\n",
      "      'PNP'),\n",
      "     ('INFINEON-BC857SERIES_BC858SERIES_BC859SERIES_BC860SERIES-DS-V01_01-EN',\n",
      "      'BC858',\n",
      "      'PNP'),\n",
      "     ('INFINEON-BC857SERIES_BC858SERIES_BC859SERIES_BC860SERIES-DS-V01_01-EN',\n",
      "      'BC859',\n",
      "      'PNP'),\n",
      "     ('INFINEON-BC857SERIES_BC858SERIES_BC859SERIES_BC860SERIES-DS-V01_01-EN',\n",
      "      'BC860',\n",
      "      'PNP'),\n",
      "     ('KECCS05435-1', 'BC546A', 'NPN'),\n",
      "     ('KECCS05435-1', 'BC546B', 'NPN'),\n",
      "     ('KECCS05435-1', 'BC547A', 'NPN'),\n",
      "     ('KECCS05435-1', 'BC547B', 'NPN'),\n",
      "     ('KECCS05435-1', 'BC547C', 'NPN'),\n",
      "     ('KECCS05435-1', 'BC548A', 'NPN'),\n",
      "     ('KECCS05435-1', 'BC548B', 'NPN'),\n",
      "     ('KECCS05435-1', 'BC548C', 'NPN'),\n",
      "     ('LITES00689-1', 'BC337-16', 'NPN'),\n",
      "     ('LITES00689-1', 'BC337-25', 'NPN'),\n",
      "     ('LITES00689-1', 'BC337-40', 'NPN'),\n",
      "     ('LITES00690-1', 'BC546A', 'NPN'),\n",
      "     ('LITES00690-1', 'BC546B', 'NPN'),\n",
      "     ('LITES00690-1', 'BC546C', 'NPN'),\n",
      "     ('LITES00690-1', 'BC547A', 'NPN'),\n",
      "     ('LITES00690-1', 'BC547B', 'NPN'),\n",
      "     ('LITES00690-1', 'BC547C', 'NPN'),\n",
      "     ('LITES00690-1', 'BC548A', 'NPN'),\n",
      "     ('LITES00690-1', 'BC548B', 'NPN'),\n",
      "     ('LITES00690-1', 'BC548C', 'NPN'),\n",
      "     ('LTSCS02910-1', 'BC818-25', 'NPN'),\n",
      "     ('LTSCS02910-1', 'BC818-40', 'NPN'),\n",
      "     ('LTSCS02912-1', 'BC846AW', 'NPN'),\n",
      "     ('LTSCS02912-1', 'BC846BW', 'NPN'),\n",
      "     ('LTSCS02920-1', 'BC857B', 'PNP'),\n",
      "     ('LTSCS02920-1', 'BC857C', 'PNP'),\n",
      "     ('MOTOS03160-1', 'BC182A', 'NPN'),\n",
      "     ('MOTOS03160-1', 'BC182B', 'NPN'),\n",
      "     ('MOTOS03189-1', 'BC337-16', 'NPN'),\n",
      "     ('MOTOS03189-1', 'BC337-25', 'NPN'),\n",
      "     ('MOTOS03189-1', 'BC337-40', 'NPN'),\n",
      "     ('MOTOS03189-1', 'BC338-16', 'NPN'),\n",
      "     ('MOTOS03189-1', 'BC338-25', 'NPN'),\n",
      "     ('MOTOS03189-1', 'BC338-40', 'NPN'),\n",
      "     ('ONSMS04099-1', 'BC237A', 'NPN'),\n",
      "     ('ONSMS04099-1', 'BC237B', 'NPN'),\n",
      "     ('ONSMS04099-1', 'BC237C', 'NPN'),\n",
      "     ('ONSMS04099-1', 'BC239C', 'NPN'),\n",
      "     ('PHGLS20125-1', 'BC327', 'PNP'),\n",
      "     ('PHGLS20125-1', 'BC327-16', 'PNP'),\n",
      "     ('PHGLS20125-1', 'BC327-25', 'PNP'),\n",
      "     ('PHGLS20125-1', 'BC327-40', 'PNP'),\n",
      "     ('PHGLS20125-1', 'BC807', 'PNP'),\n",
      "     ('PHGLS20125-1', 'BC807-16', 'PNP'),\n",
      "     ('PHGLS20125-1', 'BC807-16W', 'PNP'),\n",
      "     ('PHGLS20125-1', 'BC807-25', 'PNP'),\n",
      "     ('PHGLS20125-1', 'BC807-25W', 'PNP'),\n",
      "     ('PHGLS20125-1', 'BC807-40', 'PNP'),\n",
      "     ('PHGLS20125-1', 'BC807-40W', 'PNP'),\n",
      "     ('PHGLS20125-1', 'BC807W', 'PNP'),\n",
      "     ('PHGLS20126-1', 'BC337', 'NPN'),\n",
      "     ('PHGLS20126-1', 'BC337-16', 'NPN'),\n",
      "     ('PHGLS20126-1', 'BC337-25', 'NPN'),\n",
      "     ('PHGLS20126-1', 'BC337-40', 'NPN'),\n",
      "     ('PHGLS20126-1', 'BC817', 'NPN'),\n",
      "     ('PHGLS20126-1', 'BC817-16', 'NPN'),\n",
      "     ('PHGLS20126-1', 'BC817-16W', 'NPN'),\n",
      "     ('PHGLS20126-1', 'BC817-25', 'NPN'),\n",
      "     ('PHGLS20126-1', 'BC817-25W', 'NPN'),\n",
      "     ('PHGLS20126-1', 'BC817-40', 'NPN'),\n",
      "     ('PHGLS20126-1', 'BC817-40W', 'NPN'),\n",
      "     ('PHGLS20126-1', 'BC817W', 'NPN'),\n",
      "     ('PHGLS25601-1', 'BC846A', 'NPN'),\n",
      "     ('PHGLS25601-1', 'BC846AT', 'NPN'),\n",
      "     ('PHGLS25601-1', 'BC846AW', 'NPN'),\n",
      "     ('PHGLS25601-1', 'BC846B', 'NPN'),\n",
      "     ('PHGLS25601-1', 'BC846BT', 'NPN'),\n",
      "     ('PHGLS25601-1', 'BC846BW', 'NPN'),\n",
      "     ('PJECS00521-1', 'MMBT3904', 'NPN'),\n",
      "     ('SAMSD00049-518', 'BC546', 'NPN'),\n",
      "     ('SAMSD00049-518', 'BC546A', 'NPN'),\n",
      "     ('SAMSD00049-518', 'BC546B', 'NPN'),\n",
      "     ('SAMSD00049-518', 'BC546C', 'NPN'),\n",
      "     ('SAMSD00049-518', 'BC547', 'NPN'),\n",
      "     ('SAMSD00049-518', 'BC547A', 'NPN'),\n",
      "     ('SAMSD00049-518', 'BC547B', 'NPN'),\n",
      "     ('SAMSD00049-518', 'BC547C', 'NPN'),\n",
      "     ('SAMSD00049-518', 'BC548', 'NPN'),\n",
      "     ('SAMSD00049-518', 'BC548A', 'NPN'),\n",
      "     ('SAMSD00049-518', 'BC548B', 'NPN'),\n",
      "     ('SAMSD00049-518', 'BC548C', 'NPN'),\n",
      "     ('SAMSD00049-518', 'BC549', 'NPN'),\n",
      "     ('SAMSD00049-518', 'BC549A', 'NPN'),\n",
      "     ('SAMSD00049-518', 'BC549B', 'NPN'),\n",
      "     ('SAMSD00049-518', 'BC549C', 'NPN'),\n",
      "     ('SAMSD00049-518', 'BC550', 'NPN'),\n",
      "     ('SAMSD00049-518', 'BC550A', 'NPN'),\n",
      "     ('SAMSD00049-518', 'BC550B', 'NPN'),\n",
      "     ('SAMSD00049-518', 'BC550C', 'NPN'),\n",
      "     ('UTCLS02155-1', 'BC807', 'PNP'),\n",
      "     ('UTCLS02155-1', 'BC807-16', 'PNP'),\n",
      "     ('UTCLS02155-1', 'BC807-25', 'PNP'),\n",
      "     ('UTCLS02155-1', 'BC807-40', 'PNP'),\n",
      "     ('UTCLS02155-1', 'BC808', 'PNP'),\n",
      "     ('UTCLS02155-1', 'BC808-16', 'PNP'),\n",
      "     ('UTCLS02155-1', 'BC808-25', 'PNP'),\n",
      "     ('UTCLS02155-1', 'BC808-40', 'PNP'),\n",
      "     ('VISHS23888-1', 'BC546A', 'NPN'),\n",
      "     ('VISHS23888-1', 'BC546B', 'NPN'),\n",
      "     ('VISHS23888-1', 'BC547A', 'NPN'),\n",
      "     ('VISHS23888-1', 'BC547B', 'NPN'),\n",
      "     ('VISHS23888-1', 'BC547C', 'NPN'),\n",
      "     ('VISHS23888-1', 'BC548A', 'NPN'),\n",
      "     ('VISHS23888-1', 'BC548B', 'NPN'),\n",
      "     ('VISHS23888-1', 'BC548C', 'NPN'),\n",
      "     ('VISHS23888-1', 'BC549B', 'NPN'),\n",
      "     ('VISHS23888-1', 'BC549C', 'NPN'),\n",
      "     ('VSMIS00373-1', 'BC337-16', 'NPN'),\n",
      "     ('VSMIS00373-1', 'BC337-25', 'NPN'),\n",
      "     ('VSMIS00373-1', 'BC337-40', 'NPN'),\n",
      "     ('VSMIS00373-1', 'BC338-16', 'NPN'),\n",
      "     ('VSMIS00373-1', 'BC338-25', 'NPN'),\n",
      "     ('VSMIS00373-1', 'BC338-40', 'NPN'),\n",
      "     ('WEILS00082-1', 'BC857C', 'PNP'),\n",
      "     ('WEILS00082-1', 'BC858B', 'PNP'),\n",
      "     ('WEILS00082-1', 'BC858C', 'PNP'),\n",
      "     ('WEILS00082-1', 'BC859B', 'PNP'),\n",
      "     ('WEILS00082-1', 'BC859C', 'PNP')])\n",
      "249\n"
     ]
    }
   ],
   "source": [
    "from pprint import pprint\n",
    "pprint(fn)\n",
    "print len(fn)"
   ]
  },
  {
   "cell_type": "markdown",
   "metadata": {},
   "source": [
    "## Gold Labels"
   ]
  },
  {
   "cell_type": "code",
   "execution_count": 12,
   "metadata": {
    "collapsed": false
   },
   "outputs": [
    {
     "name": "stdout",
     "output_type": "stream",
     "text": [
      "Loading 4221 candidate labels\n",
      "[========================================] 100%\n",
      "CPU times: user 10.5 s, sys: 120 ms, total: 10.7 s\n",
      "Wall time: 12.2 s\n",
      "3020/4221 Candidates in Candidate Set (Hardware Training Candidates) have positive Labels\n",
      "Loading 2097 candidate labels\n",
      "[========================================] 100%\n",
      "CPU times: user 6 s, sys: 104 ms, total: 6.11 s\n",
      "Wall time: 6.83 s\n",
      "1459/2097 Candidates in Candidate Set (Hardware Development Candidates) have positive Labels\n"
     ]
    }
   ],
   "source": [
    "import os\n",
    "from snorkel.models import CandidateSet\n",
    "from hardware_utils import load_hardware_labels\n",
    "\n",
    "gold_file = os.environ['SNORKELHOME'] + '/tutorials/tables/data/hardware/hardware_gold.csv'\n",
    "for set_name in ['Training', 'Development']:\n",
    "    candidate_set_name = 'Hardware %s Candidates' % set_name\n",
    "    candidates = session.query(CandidateSet).filter(\n",
    "        CandidateSet.name == candidate_set_name).one()\n",
    "    label_set_name = 'Hardware %s Candidates -- Gold' % set_name\n",
    "    annotation_key_name = 'Hardware %s Labels -- Gold' % set_name\n",
    "    %time gold_candidates, annotation_key = load_hardware_labels(session,\\\n",
    "                           label_set_name, \\\n",
    "                           annotation_key_name, \\\n",
    "                           candidates, \\\n",
    "                           gold_file, \\\n",
    "                           'polarity')\n",
    "    candidates_gold = session.query(CandidateSet).filter(\n",
    "        CandidateSet.name == candidate_set_name + ' -- Gold').one()\n",
    "    print \"%d/%d Candidates in %s have positive Labels\" % (\n",
    "        len(candidates_gold), len(candidates), candidates)"
   ]
  },
  {
   "cell_type": "markdown",
   "metadata": {},
   "source": [
    "### Assess Baseline Performance"
   ]
  },
  {
   "cell_type": "code",
   "execution_count": 13,
   "metadata": {
    "collapsed": false
   },
   "outputs": [],
   "source": [
    "# from snorkel.models import Corpus, Candidate\n",
    "# from snorkel.utils import get_ORM_instance\n",
    "# from snorkel.lf_helpers import *\n",
    "# from hardware_utils import entity_level_f1\n",
    "# from itertools import chain\n",
    "\n",
    "# def LF_all_true(c):\n",
    "#     return True\n",
    "\n",
    "# def LF_complement_nearby(c):\n",
    "#     return 1 if set(['complement','complementary']).isdisjoint(\n",
    "#         chain.from_iterable(\n",
    "#             [get_phrase_ngrams(c.part), \n",
    "#              get_phrase_ngrams(c.polarity),\n",
    "#              get_neighbor_phrase_ngrams(c.polarity)])) else 0\n",
    "\n",
    "# candidates = session.query(Candidate).all()\n",
    "# (tp, fp, tn, fn) = baseline(candidates, LF_complement_nearby)\n",
    "\n",
    "# corpus = get_ORM_instance(Corpus, session, 'Hardware')\n",
    "# gold_file = os.environ['SNORKELHOME'] + '/tutorials/tables/data/hardware/hardware_gold.csv'\n",
    "# (TP, FP, FN) = entity_level_f1(tp, fp, tn, fn, gold_file, corpus, 'polarity')"
   ]
  },
  {
   "cell_type": "code",
   "execution_count": 14,
   "metadata": {
    "collapsed": false
   },
   "outputs": [],
   "source": [
    "# from pprint import pprint\n",
    "# pprint(FP)"
   ]
  },
  {
   "cell_type": "code",
   "execution_count": 15,
   "metadata": {
    "collapsed": false
   },
   "outputs": [],
   "source": [
    "# pprint(FN)"
   ]
  },
  {
   "cell_type": "code",
   "execution_count": 16,
   "metadata": {
    "collapsed": false
   },
   "outputs": [],
   "source": [
    "# from hardware_utils import entity_to_candidates\n",
    "\n",
    "# print len(candidates)\n",
    "# matches = entity_to_candidates((u'SIEMS01215-1', u'BC856', u'NPN'), candidates)\n",
    "# c = matches[0]\n",
    "# print c"
   ]
  },
  {
   "cell_type": "code",
   "execution_count": 17,
   "metadata": {
    "collapsed": false
   },
   "outputs": [],
   "source": [
    "# from snorkel.models import ImplicitSpan\n",
    "# from snorkel.lf_helpers import *\n",
    "# phrases = []\n",
    "# print list(get_neighbor_phrase_ngrams(c.polarity))\n",
    "# print c.polarity.parent\n",
    "# print phrases\n",
    "# print \"SPAN_TYPE_[%s]\" % ('IMPLICIT' if isinstance(c.polarity, ImplicitSpan) else 'EXPLICIT')\n",
    "# # list(get_phrase_ngrams(c.polarity))"
   ]
  },
  {
   "cell_type": "markdown",
   "metadata": {},
   "source": [
    "## Features"
   ]
  },
  {
   "cell_type": "markdown",
   "metadata": {},
   "source": [
    "### Extract Features"
   ]
  },
  {
   "cell_type": "code",
   "execution_count": 18,
   "metadata": {
    "collapsed": false
   },
   "outputs": [
    {
     "name": "stdout",
     "output_type": "stream",
     "text": [
      "[========================================] 100%\n",
      "Bulk upserting 400501 annotations...\n",
      "Done.\n",
      "Loading sparse Feature matrix...\n",
      "CPU times: user 34.1 s, sys: 1.04 s, total: 35.1 s\n",
      "Wall time: 56.7 s\n",
      "[========================================] 100%\n",
      "Bulk upserting 103205 annotations...\n",
      "Done.\n",
      "Loading sparse Feature matrix...\n",
      "CPU times: user 15.4 s, sys: 276 ms, total: 15.6 s\n",
      "Wall time: 22 s\n"
     ]
    }
   ],
   "source": [
    "from snorkel.models import CandidateSet\n",
    "from snorkel.fast_annotations import FeatureManager\n",
    "from snorkel.utils import get_ORM_instance\n",
    "\n",
    "train = get_ORM_instance(CandidateSet, session, 'Hardware Training Candidates')\n",
    "dev   = get_ORM_instance(CandidateSet, session, 'Hardware Development Candidates')\n",
    "\n",
    "feature_manager = FeatureManager()\n",
    "%time F_train = feature_manager.create(session, train, 'Train Features')\n",
    "%time F_dev = feature_manager.update(session, dev, 'Train Features', expand_key_set=False)"
   ]
  },
  {
   "cell_type": "markdown",
   "metadata": {},
   "source": [
    "## LFs"
   ]
  },
  {
   "cell_type": "code",
   "execution_count": 19,
   "metadata": {
    "collapsed": true
   },
   "outputs": [],
   "source": [
    "# If necessary\n",
    "# import os\n",
    "# os.remove('snorkel.db');\n",
    "# os.system('cp snorkel.db\\ featurized snorkel.db');\n",
    "\n",
    "# from snorkel import SnorkelSession\n",
    "# session = SnorkelSession()\n",
    "\n",
    "# import sys\n",
    "# sys.path.append(os.environ['SNORKELHOME'] + '/tutorials/tables/')\n",
    "\n",
    "# from snorkel.models import candidate_subclass\n",
    "# Part_Polarity = candidate_subclass('Part_Polarity', ['part','polarity'])\n",
    "\n",
    "# from snorkel.models import CandidateSet\n",
    "# train = session.query(CandidateSet).filter(\n",
    "#     CandidateSet.name == 'Hardware Training Candidates').one()"
   ]
  },
  {
   "cell_type": "markdown",
   "metadata": {},
   "source": [
    "### Define LFs"
   ]
  },
  {
   "cell_type": "code",
   "execution_count": 20,
   "metadata": {
    "collapsed": false
   },
   "outputs": [],
   "source": [
    "from snorkel.fast_annotations import LabelManager\n",
    "from snorkel.lf_helpers import *\n",
    "import re\n",
    "label_manager = LabelManager()\n",
    "\n",
    "LFs = []\n",
    "\n",
    "def LF_complement_phrase_part(c):\n",
    "    return -1 if overlap(['complement','complementary'], \n",
    "                         get_phrase_ngrams(c.part)) else 0\n",
    "LFs.append(LF_complement_phrase_part)\n",
    "\n",
    "def LF_complement_phrase_polarity(c):\n",
    "    return -1 if overlap(['complement','complementary'], \n",
    "                         get_phrase_ngrams(c.polarity)) else 0\n",
    "LFs.append(LF_complement_phrase_polarity)\n",
    "\n",
    "def LF_complement_neighbor_polarity(c):\n",
    "    return -1 if overlap(['complement','complementary'], \n",
    "                         get_neighbor_phrase_ngrams(c.polarity)) else 0\n",
    "LFs.append(LF_complement_neighbor_polarity)\n",
    "\n",
    "def LF_top_mark_col_part(c):\n",
    "    return -1 if overlap(['top','mark'],\n",
    "                         get_col_ngrams(c.part)) else 0\n",
    "LFs.append(LF_top_mark_col_part)\n",
    "\n",
    "def LF_endswith_D_part(c):\n",
    "    return -1 if c.part.get_span().endswith('D') else 0\n",
    "LFs.append(LF_endswith_D_part)\n",
    "\n",
    "def LF_default_positive(c):\n",
    "    return 1 if not overlap(['complement','complementary'],\n",
    "                            chain.from_iterable([\n",
    "                            get_phrase_ngrams(c.part),\n",
    "                            get_phrase_ngrams(c.polarity),\n",
    "                            get_neighbor_phrase_ngrams(c.polarity)])) else 0\n",
    "LFs.append(LF_default_positive)"
   ]
  },
  {
   "cell_type": "code",
   "execution_count": 21,
   "metadata": {
    "collapsed": false
   },
   "outputs": [
    {
     "name": "stdout",
     "output_type": "stream",
     "text": [
      "6318\n",
      "Part_Polarity(Span(\"DTC114YE\", parent=111, chars=[0,7], words=[0,0]), Span(\"NPN\", parent=116, chars=[0,2], words=[0,0]))\n",
      "0\n",
      "0\n",
      "0\n",
      "0\n",
      "0\n",
      "1\n"
     ]
    }
   ],
   "source": [
    "from snorkel.models import Candidate\n",
    "from hardware_utils import entity_to_candidates\n",
    "\n",
    "candidates = session.query(Candidate).all()\n",
    "print len(candidates)\n",
    "# matches = entity_to_candidates((u'SIEMS01215-1', u'BC856', u'NPN'), candidates)\n",
    "# c = matches[0]\n",
    "c = candidates[0]\n",
    "print candidates[0]\n",
    "\n",
    "print LF_complement_phrase_part(c)\n",
    "print LF_complement_phrase_polarity(c)\n",
    "print LF_complement_neighbor_polarity(c)\n",
    "print LF_top_mark_col_part(c)\n",
    "print LF_endswith_D_part(c)\n",
    "print LF_default_positive(c)"
   ]
  },
  {
   "cell_type": "markdown",
   "metadata": {},
   "source": [
    "### Apply LFs"
   ]
  },
  {
   "cell_type": "code",
   "execution_count": 22,
   "metadata": {
    "collapsed": false
   },
   "outputs": [
    {
     "name": "stdout",
     "output_type": "stream",
     "text": [
      "[========================================] 100%\n",
      "Bulk upserting 25326 annotations...\n",
      "Done.\n",
      "Loading sparse Label matrix...\n",
      "CPU times: user 11.7 s, sys: 220 ms, total: 11.9 s\n",
      "Wall time: 15.3 s\n"
     ]
    },
    {
     "data": {
      "text/plain": [
       "<4221x6 sparse matrix of type '<type 'numpy.float64'>'\n",
       "\twith 4311 stored elements in Compressed Sparse Row format>"
      ]
     },
     "execution_count": 22,
     "metadata": {},
     "output_type": "execute_result"
    }
   ],
   "source": [
    "%time L_train = label_manager.create(session, train, 'LF Labels', f=LFs)\n",
    "L_train"
   ]
  },
  {
   "cell_type": "markdown",
   "metadata": {},
   "source": [
    "### Assess LF accuracy"
   ]
  },
  {
   "cell_type": "code",
   "execution_count": 23,
   "metadata": {
    "collapsed": false
   },
   "outputs": [
    {
     "name": "stdout",
     "output_type": "stream",
     "text": [
      "[========================================] 100%\n",
      "CPU times: user 92 ms, sys: 8 ms, total: 100 ms\n",
      "Wall time: 104 ms\n"
     ]
    },
    {
     "data": {
      "text/html": [
       "<div style=\"max-height:1000px;max-width:1500px;overflow:auto;\">\n",
       "<table border=\"1\" class=\"dataframe\">\n",
       "  <thead>\n",
       "    <tr style=\"text-align: right;\">\n",
       "      <th></th>\n",
       "      <th>accuracy</th>\n",
       "      <th>conflicts</th>\n",
       "      <th>coverage</th>\n",
       "      <th>j</th>\n",
       "      <th>overlaps</th>\n",
       "    </tr>\n",
       "  </thead>\n",
       "  <tbody>\n",
       "    <tr>\n",
       "      <th>LF_complement_phrase_part</th>\n",
       "      <td> 0.984906</td>\n",
       "      <td> 0.000000</td>\n",
       "      <td> 0.062781</td>\n",
       "      <td> 0</td>\n",
       "      <td> 0.008766</td>\n",
       "    </tr>\n",
       "    <tr>\n",
       "      <th>LF_complement_phrase_polarity</th>\n",
       "      <td> 1.000000</td>\n",
       "      <td> 0.000000</td>\n",
       "      <td> 0.070599</td>\n",
       "      <td> 1</td>\n",
       "      <td> 0.007344</td>\n",
       "    </tr>\n",
       "    <tr>\n",
       "      <th>LF_complement_neighbor_polarity</th>\n",
       "      <td> 0.870968</td>\n",
       "      <td> 0.000000</td>\n",
       "      <td> 0.014688</td>\n",
       "      <td> 2</td>\n",
       "      <td> 0.001421</td>\n",
       "    </tr>\n",
       "    <tr>\n",
       "      <th>LF_top_mark_col_part</th>\n",
       "      <td> 1.000000</td>\n",
       "      <td> 0.010424</td>\n",
       "      <td> 0.010424</td>\n",
       "      <td> 3</td>\n",
       "      <td> 0.010424</td>\n",
       "    </tr>\n",
       "    <tr>\n",
       "      <th>LF_endswith_D_part</th>\n",
       "      <td> 1.000000</td>\n",
       "      <td> 0.002132</td>\n",
       "      <td> 0.002132</td>\n",
       "      <td> 4</td>\n",
       "      <td> 0.002132</td>\n",
       "    </tr>\n",
       "    <tr>\n",
       "      <th>LF_default_positive</th>\n",
       "      <td> 0.827966</td>\n",
       "      <td> 0.012556</td>\n",
       "      <td> 0.860697</td>\n",
       "      <td> 5</td>\n",
       "      <td> 0.012556</td>\n",
       "    </tr>\n",
       "  </tbody>\n",
       "</table>\n",
       "</div>"
      ],
      "text/plain": [
       "                                 accuracy  conflicts  coverage  j  overlaps\n",
       "LF_complement_phrase_part        0.984906   0.000000  0.062781  0  0.008766\n",
       "LF_complement_phrase_polarity    1.000000   0.000000  0.070599  1  0.007344\n",
       "LF_complement_neighbor_polarity  0.870968   0.000000  0.014688  2  0.001421\n",
       "LF_top_mark_col_part             1.000000   0.010424  0.010424  3  0.010424\n",
       "LF_endswith_D_part               1.000000   0.002132  0.002132  4  0.002132\n",
       "LF_default_positive              0.827966   0.012556  0.860697  5  0.012556"
      ]
     },
     "execution_count": 23,
     "metadata": {},
     "output_type": "execute_result"
    }
   ],
   "source": [
    "train_gold = session.query(CandidateSet).filter(\n",
    "    CandidateSet.name == 'Hardware Training Candidates -- Gold').one()\n",
    "%time L_train.lf_stats(train_gold)"
   ]
  },
  {
   "cell_type": "markdown",
   "metadata": {},
   "source": [
    "## Learn and Evaluate"
   ]
  },
  {
   "cell_type": "code",
   "execution_count": 24,
   "metadata": {
    "collapsed": false
   },
   "outputs": [],
   "source": [
    "# If necessary:\n",
    "# import os\n",
    "# os.remove('snorkel.db');\n",
    "# os.system('cp snorkel.db\\ features snorkel.db');\n",
    "\n",
    "# from snorkel import SnorkelSession\n",
    "# session = SnorkelSession()\n",
    "\n",
    "# import sys\n",
    "# sys.path.append(os.environ['SNORKELHOME'] + '/tutorials/tables/')\n",
    "\n",
    "# from snorkel.models import candidate_subclass\n",
    "# Part_Polarity = candidate_subclass('Part_Polarity', ['part','polarity'])\n",
    "\n",
    "# from snorkel.models import CandidateSet\n",
    "# train = session.query(CandidateSet).filter(\n",
    "#     CandidateSet.name == 'Hardware Training Candidates').one()\n",
    "# dev = session.query(CandidateSet).filter(\n",
    "#     CandidateSet.name == 'Hardware Development Candidates').one()\n",
    "\n",
    "# from snorkel.annotations import FeatureManager, LabelManager\n",
    "# feature_manager = FeatureManager()\n",
    "# %time F_train = feature_manager.load(session, train, 'Train Features')\n",
    "# %time F_dev = feature_manager.load(session, dev, 'Train Features')\n",
    "\n",
    "# label_manager = LabelManager()\n",
    "# %time L_train = label_manager.load(session, train, 'LF Labels')"
   ]
  },
  {
   "cell_type": "code",
   "execution_count": 25,
   "metadata": {
    "collapsed": false
   },
   "outputs": [
    {
     "name": "stderr",
     "output_type": "stream",
     "text": [
      "/home/xiao/software/anaconda/lib/python2.7/site-packages/matplotlib/__init__.py:1318: UserWarning:  This call to matplotlib.use() has no effect\n",
      "because the backend has already been chosen;\n",
      "matplotlib.use() must be called *before* pylab, matplotlib.pyplot,\n",
      "or matplotlib.backends is imported for the first time.\n",
      "\n",
      "  warnings.warn(_use_error_msg)\n",
      "WARNING (theano.sandbox.cuda): CUDA is installed, but device gpu0 is not available  (error: Unable to get the number of gpus available: unknown error)\n"
     ]
    },
    {
     "name": "stdout",
     "output_type": "stream",
     "text": [
      "================================================================================\n",
      "Training marginals (!= 0.5):\t4221\n",
      "Features:\t\t\t6\n",
      "================================================================================\n",
      "Begin training for rate=0.01, mu=1e-06\n",
      "\tLearning epoch = 0\tGradient mag. = 0.018832\n",
      "\tLearning epoch = 250\tGradient mag. = 0.019331\n",
      "\tLearning epoch = 500\tGradient mag. = 0.018869\n",
      "\tLearning epoch = 750\tGradient mag. = 0.018434\n",
      "\tLearning epoch = 1000\tGradient mag. = 0.018025\n",
      "\tLearning epoch = 1250\tGradient mag. = 0.017640\n",
      "\tLearning epoch = 1500\tGradient mag. = 0.017278\n",
      "\tLearning epoch = 1750\tGradient mag. = 0.016938\n",
      "\tLearning epoch = 2000\tGradient mag. = 0.016618\n",
      "\tLearning epoch = 2250\tGradient mag. = 0.016317\n",
      "\tLearning epoch = 2500\tGradient mag. = 0.016034\n",
      "\tLearning epoch = 2750\tGradient mag. = 0.015768\n",
      "\tLearning epoch = 3000\tGradient mag. = 0.015519\n",
      "\tLearning epoch = 3250\tGradient mag. = 0.015285\n",
      "\tLearning epoch = 3500\tGradient mag. = 0.015066\n",
      "\tLearning epoch = 3750\tGradient mag. = 0.014860\n",
      "\tLearning epoch = 4000\tGradient mag. = 0.014668\n",
      "\tLearning epoch = 4250\tGradient mag. = 0.014488\n",
      "\tLearning epoch = 4500\tGradient mag. = 0.014320\n",
      "\tLearning epoch = 4750\tGradient mag. = 0.014164\n",
      "\tLearning epoch = 5000\tGradient mag. = 0.014018\n",
      "\tLearning epoch = 5250\tGradient mag. = 0.013883\n",
      "\tLearning epoch = 5500\tGradient mag. = 0.013758\n",
      "\tLearning epoch = 5750\tGradient mag. = 0.013642\n",
      "\tLearning epoch = 6000\tGradient mag. = 0.013535\n",
      "\tLearning epoch = 6250\tGradient mag. = 0.013437\n",
      "\tLearning epoch = 6500\tGradient mag. = 0.013347\n",
      "\tLearning epoch = 6750\tGradient mag. = 0.013264\n",
      "\tLearning epoch = 7000\tGradient mag. = 0.013190\n",
      "\tLearning epoch = 7250\tGradient mag. = 0.013122\n",
      "\tLearning epoch = 7500\tGradient mag. = 0.013061\n",
      "\tLearning epoch = 7750\tGradient mag. = 0.013007\n",
      "\tLearning epoch = 8000\tGradient mag. = 0.012960\n",
      "\tLearning epoch = 8250\tGradient mag. = 0.012918\n",
      "\tLearning epoch = 8500\tGradient mag. = 0.012883\n",
      "\tLearning epoch = 8750\tGradient mag. = 0.012853\n",
      "\tLearning epoch = 9000\tGradient mag. = 0.012828\n",
      "\tLearning epoch = 9250\tGradient mag. = 0.012809\n",
      "\tLearning epoch = 9500\tGradient mag. = 0.012795\n",
      "\tLearning epoch = 9750\tGradient mag. = 0.012786\n",
      "\tLearning epoch = 10000\tGradient mag. = 0.012782\n",
      "\tLearning epoch = 10250\tGradient mag. = 0.012782\n",
      "\tLearning epoch = 10500\tGradient mag. = 0.012787\n",
      "\tLearning epoch = 10750\tGradient mag. = 0.012797\n",
      "\tLearning epoch = 11000\tGradient mag. = 0.012811\n",
      "\tLearning epoch = 11250\tGradient mag. = 0.012829\n",
      "\tLearning epoch = 11500\tGradient mag. = 0.012851\n",
      "\tLearning epoch = 11750\tGradient mag. = 0.012877\n",
      "\tLearning epoch = 12000\tGradient mag. = 0.012907\n",
      "\tLearning epoch = 12250\tGradient mag. = 0.012941\n",
      "\tLearning epoch = 12500\tGradient mag. = 0.012979\n",
      "\tLearning epoch = 12750\tGradient mag. = 0.013020\n",
      "\tLearning epoch = 13000\tGradient mag. = 0.013065\n",
      "\tLearning epoch = 13250\tGradient mag. = 0.013114\n",
      "\tLearning epoch = 13500\tGradient mag. = 0.013166\n",
      "\tLearning epoch = 13750\tGradient mag. = 0.013223\n",
      "\tLearning epoch = 14000\tGradient mag. = 0.013282\n",
      "\tLearning epoch = 14250\tGradient mag. = 0.013346\n",
      "\tLearning epoch = 14500\tGradient mag. = 0.013413\n",
      "\tLearning epoch = 14750\tGradient mag. = 0.013484\n",
      "Final gradient magnitude for rate=0.01, mu=1e-06: 0.014\n",
      "CPU times: user 44 ms, sys: 4 ms, total: 48 ms\n",
      "Wall time: 57.6 ms\n"
     ]
    }
   ],
   "source": [
    "from snorkel.learning import NaiveBayes\n",
    "\n",
    "gen_model = NaiveBayes()\n",
    "gen_model.train(L_train, n_iter=15000, rate=1e-2)\n",
    "%time gen_model.save(session, 'Generative Params')\n",
    "train_marginals = gen_model.marginals(L_train)"
   ]
  },
  {
   "cell_type": "code",
   "execution_count": 26,
   "metadata": {
    "collapsed": false
   },
   "outputs": [
    {
     "name": "stdout",
     "output_type": "stream",
     "text": [
      "================================================================================\n",
      "Training marginals (!= 0.5):\t4221\n",
      "Features:\t\t\t9069\n",
      "================================================================================\n",
      "Using gradient descent...\n",
      "\tLearning epoch = 0\tStep size = 1e-05\n",
      "\tLoss = 2925.774249\tGradient magnitude = 1569.849467\n",
      "\tLearning epoch = 100\tStep size = 9.04792147114e-06\n",
      "\tLoss = 2743.431702\tGradient magnitude = 183.742392\n",
      "\tLearning epoch = 200\tStep size = 8.18648829479e-06\n",
      "\tLoss = 2725.261659\tGradient magnitude = 119.382203\n",
      "\tLearning epoch = 300\tStep size = 7.40707032156e-06\n",
      "\tLoss = 2717.049564\tGradient magnitude = 92.754149\n",
      "\tLearning epoch = 400\tStep size = 6.70185906007e-06\n",
      "\tLoss = 2712.307301\tGradient magnitude = 77.695347\n",
      "\tLearning epoch = 500\tStep size = 6.06378944861e-06\n",
      "\tLoss = 2709.227744\tGradient magnitude = 68.018159\n",
      "\tLearning epoch = 600\tStep size = 5.48646907485e-06\n",
      "\tLoss = 2707.080578\tGradient magnitude = 61.334232\n",
      "\tLearning epoch = 700\tStep size = 4.96411413431e-06\n",
      "\tLoss = 2705.510332\tGradient magnitude = 56.499466\n",
      "\tLearning epoch = 800\tStep size = 4.4914914861e-06\n",
      "\tLoss = 2704.322004\tGradient magnitude = 52.881338\n",
      "\tLearning epoch = 900\tStep size = 4.06386622545e-06\n",
      "\tLoss = 2703.400500\tGradient magnitude = 50.107618\n",
      "\tLearning epoch = 1000\tStep size = 3.67695424771e-06\n",
      "\tLoss = 2702.671904\tGradient magnitude = 47.950989\n",
      "\tLearning epoch = 1100\tStep size = 3.32687932862e-06\n",
      "\tLoss = 2702.088760\tGradient magnitude = 46.260079\n",
      "\tLearning epoch = 1200\tStep size = 3.01013429093e-06\n",
      "\tLoss = 2701.617385\tGradient magnitude = 44.873345\n",
      "\tLearning epoch = 1300\tStep size = 2.72354586819e-06\n",
      "\tLoss = 2701.234271\tGradient magnitude = 43.805635\n",
      "\tLearning epoch = 1400\tStep size = 2.46424291385e-06\n",
      "\tLoss = 2700.922064\tGradient magnitude = 42.995874\n",
      "\tLearning epoch = 1500\tStep size = 2.22962763703e-06\n",
      "\tLoss = 2700.668546\tGradient magnitude = 42.380166\n",
      "\tLearning epoch = 1600\tStep size = 2.01734957697e-06\n",
      "\tLoss = 2700.463709\tGradient magnitude = 41.944426\n",
      "\tLearning epoch = 1700\tStep size = 1.82528205523e-06\n",
      "\tLoss = 2700.299237\tGradient magnitude = 41.640146\n",
      "\tLearning epoch = 1800\tStep size = 1.65150086984e-06\n",
      "\tLoss = 2700.169192\tGradient magnitude = 41.478809\n",
      "\tLearning epoch = 1900\tStep size = 1.49426501798e-06\n",
      "\tLoss = 2700.068499\tGradient magnitude = 41.409456\n",
      "CPU times: user 1.31 s, sys: 24 ms, total: 1.34 s\n",
      "Wall time: 1.73 s\n"
     ]
    }
   ],
   "source": [
    "from snorkel.learning import LogReg\n",
    "\n",
    "disc_model = LogReg()\n",
    "disc_model.train(F_train, train_marginals, n_iter=2000, rate=1e-5)\n",
    "%time disc_model.save(session, \"Discriminative Params\")"
   ]
  },
  {
   "cell_type": "code",
   "execution_count": 27,
   "metadata": {
    "collapsed": true
   },
   "outputs": [],
   "source": [
    "train_gold = session.query(CandidateSet).filter(\n",
    "    CandidateSet.name == 'Hardware Training Candidates -- Gold').one()"
   ]
  },
  {
   "cell_type": "code",
   "execution_count": 28,
   "metadata": {
    "collapsed": true
   },
   "outputs": [],
   "source": [
    "dev_gold = session.query(CandidateSet).filter(\n",
    "    CandidateSet.name == 'Hardware Development Candidates -- Gold').one()"
   ]
  },
  {
   "cell_type": "code",
   "execution_count": 29,
   "metadata": {
    "collapsed": false
   },
   "outputs": [],
   "source": [
    "from snorkel.models import CandidateSet\n",
    "from snorkel.annotations import LabelManager\n",
    "label_manager = LabelManager()\n",
    "L_dev = label_manager.load(session, dev, 'Hardware Development Labels -- Gold')"
   ]
  },
  {
   "cell_type": "code",
   "execution_count": 30,
   "metadata": {
    "collapsed": false
   },
   "outputs": [
    {
     "name": "stdout",
     "output_type": "stream",
     "text": [
      "Calibration plot:\n"
     ]
    },
    {
     "name": "stderr",
     "output_type": "stream",
     "text": [
      "/home/xiao/software/anaconda/lib/python2.7/site-packages/numpy/core/_methods.py:59: RuntimeWarning: Mean of empty slice.\n",
      "  warnings.warn(\"Mean of empty slice.\", RuntimeWarning)\n"
     ]
    },
    {
     "data": {
      "image/png": "[encoded data removed]",
      "text/plain": [
       "<matplotlib.figure.Figure at 0x7f4de75ba210>"
      ]
     },
     "metadata": {},
     "output_type": "display_data"
    },
    {
     "name": "stdout",
     "output_type": "stream",
     "text": [
      "========================================\n",
      "Recall-corrected Noise-aware Model\n",
      "========================================\n",
      "Pos. class accuracy: 0.0\n",
      "Neg. class accuracy: 1.0\n",
      "Corpus Precision nan\n",
      "Corpus Recall    0.0\n",
      "Corpus F1        nan\n",
      "----------------------------------------\n",
      "TP: 0 | FP: 0 | TN: 638 | FN: 1459\n",
      "========================================\n",
      "\n",
      "========================================\n",
      "Recall-corrected Noise-aware Model\n",
      "========================================\n",
      "Pos. class accuracy: 0.0\n",
      "Neg. class accuracy: 1.0\n",
      "Corpus Precision nan\n",
      "Corpus Recall    0.0\n",
      "Corpus F1        nan\n",
      "----------------------------------------\n",
      "TP: 0 | FP: 0 | TN: 638 | FN: 1459\n",
      "========================================\n",
      "\n"
     ]
    }
   ],
   "source": [
    "tp, fp, tn, fn = disc_model.score(F_dev, L_dev, dev_gold)"
   ]
  },
  {
   "cell_type": "code",
   "execution_count": 31,
   "metadata": {
    "collapsed": false
   },
   "outputs": [
    {
     "name": "stdout",
     "output_type": "stream",
     "text": [
      "========================================\n",
      "Scoring on Entity-Level Gold Data\n",
      "========================================\n",
      "Corpus Precision nan\n",
      "Corpus Recall    0.0\n",
      "Corpus F1        nan\n",
      "----------------------------------------\n",
      "TP: 0 | FP: 0 | FN: 322\n",
      "========================================\n",
      "\n"
     ]
    }
   ],
   "source": [
    "from snorkel.models import Corpus\n",
    "from hardware_utils import entity_level_f1\n",
    "import os\n",
    "\n",
    "gold_file = os.environ['SNORKELHOME'] + '/tutorials/tables/data/hardware/hardware_gold.csv'\n",
    "corpus = session.query(Corpus).filter(Corpus.name == 'Hardware Development').one()\n",
    "(TP, FP, FN) = entity_level_f1(tp, fp, tn, fn, gold_file, corpus, 'polarity')"
   ]
  },
  {
   "cell_type": "code",
   "execution_count": 32,
   "metadata": {
    "collapsed": false
   },
   "outputs": [
    {
     "name": "stdout",
     "output_type": "stream",
     "text": [
      "[]\n"
     ]
    }
   ],
   "source": [
    "from pprint import pprint\n",
    "FP_list = sorted(list(FP))\n",
    "pprint(FP_list[:10])"
   ]
  },
  {
   "cell_type": "code",
   "execution_count": 33,
   "metadata": {
    "collapsed": false
   },
   "outputs": [
    {
     "name": "stdout",
     "output_type": "stream",
     "text": [
      "[(u'TAB_e2_LEFT_WORDS_[complementary]', -0.16303830173805237), (u'TAB_e2_SPAN_TYPE_[EXPLICIT]', -0.10085343885649942), (u'TAB_e1_NEIGHBOR_PHRASE_WORDS_[to-92]', -0.09891906349653382), (u'TAB_e2_CONTAINS_WORDS_[PNP]', -0.09330877096529298), (u'TAB_e1_HTML_TAG_html', -0.0886188412350201), (u'TAB_e1_LEFT_WORDS_[complement]', -0.08354839239228087), (u'TAB_e2_RIGHT_WORDS_[.]', -0.08317162374207925), (u'TAB_e1_LEFT_WORDS_[to]', -0.0817961692435796), (u'TAB_e2_HTML_TAG_html', -0.07860189676973024), (u'TAB_e1_LEFT_WORDS_[complementary]', -0.07502010385462482), (u'TAB_e1_LEFT_WORDS_[complement to]', -0.06917311672450017), (u'TAB_e2_NEIGHBOR_PHRASE_WORDS_[?]', -0.06677483429974047), (u'TAB_e2_RIGHT_WORDS_[type]', -0.06677483429974047), (u'TAB_e1_NEIGHBOR_PHRASE_WORDS_[1 to-92]', -0.06659966422191077), (u'TAB_e2_NEIGHBOR_PHRASE_WORDS_[)]', -0.0641329043968713), (u'TAB_e2_LEFT_WORDS_[the]', -0.06405961525472494), (u'TAB_e2_LEFT_WORDS_[types]', -0.058539298639019334), (u'TAB_e2_NEIGHBOR_PHRASE_WORDS_[types]', -0.054243538711062474), (u'TAB_e2_LEFT_WORDS_[complementary types]', -0.053789738288270925), (u'TAB_e1_LEFT_WORDS_[pnp]', -0.05359265471818887), (u'TAB_e2_NEIGHBOR_PHRASE_WORDS_[25]', -0.05329854634169028), (u'TDL_INV_DEP_LABEL:BETWEEN-MENTION-and-MENTION[nmod]', -0.0530970183586516), (u'TAB_e1_NEIGHBOR_PHRASE_WORDS_[1]', -0.052838795106069085), (u'TAB_e1_NEIGHBOR_PHRASE_WORDS_[for]', -0.052177443460535766), (u'TDL_INV_LEMMA:BETWEEN-MENTION-and-MENTION[type]', -0.05168833262650957), (u'TAB_e1_SPAN_TYPE_[EXPLICIT]', -0.05039922437317026), (u'TAB_e2_NEIGHBOR_PHRASE_WORDS_[and]', -0.05023560772381826), (u'TAB_e1_NEIGHBOR_PHRASE_WORDS_[low-noise]', -0.05013698598122559), (u'TAB_e1_RIGHT_WORDS_[and]', -0.0492783180628146), (u'TAB_e1_NEIGHBOR_PHRASE_WORDS_[suitable]', -0.04861350844014036), (u'TAB_e1_NEIGHBOR_PHRASE_WORDS_[suitable for]', -0.04861350844014036), (u'TAB_e1_SPAN_TYPE_[IMPLICIT]', -0.048455214649577014), (u'TAB_e1_RIGHT_WORDS_[.]', -0.04839091113398059), (u'TAB_e1_NEIGHBOR_PHRASE_WORDS_[low-noise :]', -0.04740309996207684), (u'TAB_e1_NEIGHBOR_PHRASE_WORDS_[: bc549]', -0.04740309996207684), (u'TAB_e2_NEIGHBOR_PHRASE_WORDS_[are]', -0.046435196232108), (u'TAB_e1_RIGHT_WORDS_[bc560]', -0.046169507434891364), (u'TAB_e2_NEIGHBOR_PHRASE_WORDS_[.]', -0.04561768827613327), (u'TAB_e2_NEIGHBOR_PHRASE_WORDS_[umgebende]', -0.04526782138999386), (u'TAB_e2_NEIGHBOR_PHRASE_WORDS_[luft r]', -0.04526782138999386), (u'TAB_e2_NEIGHBOR_PHRASE_WORDS_[luft]', -0.04526782138999386), (u'TAB_e2_NEIGHBOR_PHRASE_WORDS_[w?rmewiderstand]', -0.04526782138999386), (u'TAB_e2_NEIGHBOR_PHRASE_WORDS_[<]', -0.04526782138999386), (u'TAB_e2_LEFT_WORDS_[recommended]', -0.04526782138999386), (u'TAB_e2_NEIGHBOR_PHRASE_WORDS_[tha <]', -0.04526782138999386), (u'TAB_e2_NEIGHBOR_PHRASE_WORDS_[komplement?re]', -0.04526782138999386), (u'TAB_e2_NEIGHBOR_PHRASE_WORDS_[sperrschicht -]', -0.04526782138999386), (u'TAB_e2_LEFT_WORDS_[recommended complementary]', -0.04526782138999386), (u'TAB_e2_NEIGHBOR_PHRASE_WORDS_[r tha]', -0.04526782138999386), (u'TAB_e2_NEIGHBOR_PHRASE_WORDS_[k/w]', -0.04526782138999386), (u'TAB_e2_NEIGHBOR_PHRASE_WORDS_[empfohlene]', -0.04526782138999386), (u'TAB_e2_NEIGHBOR_PHRASE_WORDS_[umgebende luft]', -0.04526782138999386), (u'TAB_e2_NEIGHBOR_PHRASE_WORDS_[w?rmewiderstand sperrschicht]', -0.04526782138999386), (u'TAB_e2_NEIGHBOR_PHRASE_WORDS_[tha]', -0.04526782138999386), (u'TAB_e2_NEIGHBOR_PHRASE_WORDS_[sperrschicht]', -0.04526782138999386), (u'TAB_e2_NEIGHBOR_PHRASE_WORDS_[k/w )]', -0.04526782138999386), (u'TAB_e2_NEIGHBOR_PHRASE_WORDS_[- umgebende]', -0.04526782138999386), (u'TAB_e2_NEIGHBOR_PHRASE_WORDS_[empfohlene komplement?re]', -0.04526782138999386), (u'TAB_e1_NEIGHBOR_PHRASE_WORDS_[?]', -0.043875639708199014), (u'TDL_BETWEEN-MENTION-and-MENTION[LEN:0-2]', -0.04233772614369683), (u'TAB_e1_LEFT_WORDS_[bc556]', -0.042231473226732465), (u'TAB_e1_NEIGHBOR_PHRASE_WORDS_[bc549 ,]', -0.04197966251468257), (u'TAB_e1_NEIGHBOR_PHRASE_WORDS_[, bc550]', -0.04197966251468257), (u'TAB_e1_RIGHT_WORDS_[, and]', -0.041675924162224084), (u'TAB_e2_NEIGHBOR_PHRASE_WORDS_[package]', -0.04134684468871921), (u'TAB_e1_RIGHT_WORDS_[and bc560]', -0.04115795476832106), (u'TAB_e2_RIGHT_WORDS_[silicon]', 0.04040622032119986), (u'TAB_e2_RIGHT_WORDS_[complementary]', -0.039748412750889875), (u'TAB_e1_LEFT_WORDS_[types]', -0.0396677988876027), (u'TAB_e1_LEFT_WORDS_[to bc556]', -0.03957921878668299), (u'TAB_e2_NEIGHBOR_PHRASE_WORDS_[= 25]', -0.039365999339102634), (u'TAB_e2_LEFT_WORDS_[complementary with]', -0.039365999339102634), (u'TAB_e2_NEIGHBOR_PHRASE_WORDS_[ta =]', -0.039365999339102634), (u'TAB_e2_NEIGHBOR_PHRASE_WORDS_[rating (]', -0.039365999339102634), (u'TAB_e2_LEFT_WORDS_[with]', -0.039365999339102634), (u'TAB_e2_NEIGHBOR_PHRASE_WORDS_[ta]', -0.039365999339102634), (u'TAB_e2_NEIGHBOR_PHRASE_WORDS_[maximum rating]', -0.039365999339102634), (u'TAB_e2_RIGHT_WORDS_[bc556/557/558 .]', -0.039365999339102634), (u'TAB_e2_RIGHT_WORDS_[bc556/557/558]', -0.039365999339102634), (u'TAB_e2_LEFT_WORDS_[for complementary]', -0.039365999339102634), (u'TAB_e2_NEIGHBOR_PHRASE_WORDS_[? )]', -0.039365999339102634), (u'TAB_e2_NEIGHBOR_PHRASE_WORDS_[25 ?]', -0.039365999339102634), (u'TAB_e2_LEFT_WORDS_[for]', -0.039365999339102634), (u'TAB_e2_RIGHT_WORDS_[type bc556/557/558]', -0.039365999339102634), (u'TAB_e2_NEIGHBOR_PHRASE_WORDS_[( ta]', -0.039365999339102634), (u'TAB_e1_NEIGHBOR_PHRASE_WORDS_[bc549]', -0.03932270215473344), (u'TAB_e1_NEIGHBOR_PHRASE_WORDS_[bc550]', -0.03912344375655013), (u'TDL_INV_LEMMA:BETWEEN-MENTION-and-MENTION[complement]', -0.03864913935881261), (u'TDL_INV_DEP_LABEL|LEMMA:BETWEEN-MENTION-and-MENTION[ROOT|complement]', -0.03864913935881261), (u'TAB_e2_NEIGHBOR_PHRASE_WORDS_[maximum]', -0.03843233022845153), (u'TDL_LEMMA:BETWEEN-MENTION-and-MENTION[bc556]', -0.038218470612422936), (u'TDL_DEP_LABEL|LEMMA:BETWEEN-MENTION-and-MENTION[nmod|bc556]', -0.038218470612422936), (u'TDL_LEMMA:PARENTS-OF-BETWEEN-MENTION-and-MENTION[None complement]', -0.038218470612422936), (u'TDL_DEP_LABEL:BETWEEN-MENTION-and-MENTION[nmod]', -0.038218470612422936), (u'TDL_LEMMA:RIGHT-OF-MENTION[bc560]', -0.038218470612422936), (u'TDL_LEMMA:PARENTS-OF-BETWEEN-MENTION-and-MENTION[complement]', -0.038218470612422936), (u'TDL_LEMMA:PARENTS-OF-BETWEEN-MENTION-and-MENTION[None]', -0.038079273545147875), (u'TAB_e1_RIGHT_WORDS_[bc559]', -0.03749147344842545), (u'TAB_e2_NEIGHBOR_PHRASE_WORDS_[for]', -0.03720168994348517), (u'TAB_e1_LEFT_WORDS_[bc556 ,]', -0.03695010501569605), (u'TAB_e2_NEIGHBOR_PHRASE_WORDS_[r]', -0.036758866390530776), (u'TAB_e2_LEFT_WORDS_[as]', -0.03665078029408656), (u'TAB_e2_LEFT_WORDS_[as complementary]', -0.03665078029408656), (u'TAB_e2_NEIGHBOR_PHRASE_WORDS_[rating]', -0.036506516124505235), (u'TAB_e1_RIGHT_WORDS_[bc559 ,]', -0.036195888691075755), (u'TDL_INV_LEMMA:PARENTS-OF-BETWEEN-MENTION-and-MENTION[None]', -0.036122151942176654), (u'TAB_e1_LEFT_WORDS_[bc557]', -0.03597189171700579), (u'TAB_e2_NEIGHBOR_PHRASE_WORDS_[type]', -0.035395789422646165), (u'TAB_e1_NEIGHBOR_PHRASE_WORDS_[:]', -0.03514211986586669), (u'TAB_e1_LEFT_WORDS_[complementary types]', -0.03505611192582954), (u'TAB_e2_NEIGHBOR_PHRASE_WORDS_[the]', -0.03453121028321594), (u'TAB_e2_RIGHT_WORDS_[are]', -0.034441259182561176), (u'TDL_INV_BETWEEN-MENTION-and-MENTION[LEN:0-2]', -0.03377970072602274), (u'TAB_e1_LEFT_WORDS_[bc557 ,]', -0.033361381598468395), (u'TAB_e2_RIGHT_WORDS_[types]', -0.032956320843433), (u'TAB_e2_NEIGHBOR_PHRASE_WORDS_[complementary types]', -0.03269291996637293), (u'TAB_e2_NEIGHBOR_PHRASE_WORDS_[complementary]', -0.03269291996637293), (u'TAB_e2_NEIGHBOR_PHRASE_WORDS_[-]', -0.03263531986700428), (u'TAB_e2_LEFT_WORDS_[,]', -0.03247895250208922), (u'TAB_e1_NEIGHBOR_PHRASE_WORDS_[and]', -0.03218430174732742), (u'TAB_e2_RIGHT_WORDS_[complement]', -0.0321546522100924), (u'TAB_e1_LEFT_WORDS_[,]', -0.031915382142826805), (u'TDL_INV_DEP_LABEL|LEMMA:BETWEEN-MENTION-and-MENTION[nmod|type]', -0.031425539054220304), (u'TAB_e1_RIGHT_WORDS_[, bc559]', -0.031200203652525457), (u'TDL_INV_LEMMA:SEQ-BETWEEN[type]', -0.03051842343444022), (u'TAB_e2_RIGHT_WORDS_[)]', -0.030309847589520794), (u'TAB_e2_NEIGHBOR_PHRASE_WORDS_[compliant]', -0.029320757748279247), (u'TAB_e2_NEIGHBOR_PHRASE_WORDS_[types are]', -0.029001433944836983), (u'TAB_e1_NEIGHBOR_PHRASE_WORDS_[? )]', -0.02812471721212845), (u'TAB_e1_NEIGHBOR_PHRASE_WORDS_[ta]', -0.02812471721212845), (u'TAB_e1_NEIGHBOR_PHRASE_WORDS_[ta =]', -0.02812471721212845), (u'TDL_INV_LEMMA:PARENTS-OF-BETWEEN-MENTION-and-MENTION[complementary]', -0.02812471721212845), (u'TAB_e1_LEFT_WORDS_[complementary with]', -0.02812471721212845), (u'TAB_e1_NEIGHBOR_PHRASE_WORDS_[rating]', -0.02812471721212845), (u'TAB_e1_NEIGHBOR_PHRASE_WORDS_[maximum rating]', -0.02812471721212845), (u'TAB_e1_NEIGHBOR_PHRASE_WORDS_[rating (]', -0.02812471721212845), (u'TDL_INV_LEMMA:PARENTS-OF-BETWEEN-MENTION-and-MENTION[for complementary]', -0.02812471721212845), (u'TAB_e1_LEFT_WORDS_[for complementary]', -0.02812471721212845), (u'TAB_e1_LEFT_WORDS_[with]', -0.02812471721212845), (u'TAB_e1_NEIGHBOR_PHRASE_WORDS_[( ta]', -0.02812471721212845), (u'TDL_INV_LEMMA:PARENTS-OF-BETWEEN-MENTION-and-MENTION[None for]', -0.02812471721212845), (u'TDL_INV_LEMMA:PARENTS-OF-BETWEEN-MENTION-and-MENTION[None for complementary]', -0.02812471721212845), (u'TDL_INV_LEMMA:PARENTS-OF-BETWEEN-MENTION-and-MENTION[for]', -0.02812471721212845), (u'TAB_e1_NEIGHBOR_PHRASE_WORDS_[2]', -0.027919980105543443), (u'TAB_e1_NEIGHBOR_PHRASE_WORDS_[,]', -0.027901824091770548), (u'TAB_e1_LEFT_WORDS_[for]', -0.027645036292532548), (u'TAB_e1_NEIGHBOR_PHRASE_WORDS_[amplifier]', 0.02762230299684666), (u'TAB_e1_LEFT_WORDS_[, bc557]', -0.027593987466769682), (u'TAB_e2_NEIGHBOR_PHRASE_WORDS_[pin]', -0.0274680469452222), (u'TAB_e2_NEIGHBOR_PHRASE_WORDS_[=]', -0.027201414754013196), (u'TAB_e1_CONTAINS_WORDS_[BC556]', -0.026603396040708657), (u'TAB_e2_NEIGHBOR_PHRASE_WORDS_[,]', -0.026412274528445582), (u'TAB_e2_NEIGHBOR_PHRASE_WORDS_[suitable for]', -0.026403437241766182), (u'TAB_e2_NEIGHBOR_PHRASE_WORDS_[suitable]', -0.026403437241766182), (u'TAB_e1_NEIGHBOR_PHRASE_WORDS_[pin]', -0.02632494970504524), (u'TAB_e2_NEIGHBOR_PHRASE_WORDS_[to-92]', -0.026043289657598206), (u'TAB_e1_NEIGHBOR_PHRASE_WORDS_[low-power output]', -0.02597315466961915), (u'TAB_e1_NEIGHBOR_PHRASE_WORDS_[for af-driver]', -0.02597315466961915), (u'TAB_e1_NEIGHBOR_PHRASE_WORDS_[output stages]', -0.02597315466961915), (u'TAB_e1_NEIGHBOR_PHRASE_WORDS_[output]', -0.02597315466961915), (u'TAB_e1_NEIGHBOR_PHRASE_WORDS_[and low-power]', -0.02597315466961915), (u'TAB_e1_NEIGHBOR_PHRASE_WORDS_[low-power]', -0.02597315466961915), (u'TAB_e1_NEIGHBOR_PHRASE_WORDS_[stages and]', -0.02597315466961915), (u'TAB_e1_NEIGHBOR_PHRASE_WORDS_[af-driver stages]', -0.02597315466961915), (u'TAB_e1_NEIGHBOR_PHRASE_WORDS_[af-driver]', -0.02597315466961915), (u'TAB_e1_NEIGHBOR_PHRASE_WORDS_[stages]', -0.02597315466961915), (u'TAB_e1_NEIGHBOR_PHRASE_WORDS_[25 ?]', -0.025728228161637223), (u'TAB_e2_RIGHT_WORDS_[is bc557b]', -0.025409835126887163), (u'TAB_e2_LEFT_WORDS_[bc547b -]', -0.025409835126887163), (u'TAB_e2_LEFT_WORDS_[bc547b]', -0.025409835126887163), (u'TAB_e2_LEFT_WORDS_[- the]', -0.025409835126887163), (u'TAB_e2_RIGHT_WORDS_[type is]', -0.025409835126887163), (u'TAB_e2_RIGHT_WORDS_[complementary type]', -0.025409835126887163), (u'TAB_e2_RIGHT_WORDS_[bc557b]', -0.025409835126887163), (u'TAB_e2_RIGHT_WORDS_[is]', -0.025409835126887163), (u'TDL_LEMMA:LEFT-OF-MENTION[,]', -0.0253648594594273), (u'TAB_e2_RIGHT_WORDS_[planar]', 0.025305463871146145), (u'TDL_INV_LEMMA:SEQ-BETWEEN[to]', -0.025232925179232923), (u'TAB_e2_COL_WORDS_[complement]', -0.024789286823428777), (u'TAB_e2_COL_INFERRED_WORDS_[complement]', -0.024789286823428777), (u'TAB_e2_CELL_WORDS_[complement]', -0.024789286823428777), (u'TAB_e2_HTML_ANC_TAG_[ol]', -0.024789286823428777), (u'TAB_e2_COL_NUM_[4]', -0.024789286823428777), (u'TAB_e2_ROW_SPAN_[0]', -0.024789286823428777), (u'TAB_e2_ROW_NUM_[1]', -0.024789286823428777), (u'TAB_e2_ROW_INFERRED_WORDS_[complement]', -0.024789286823428777), (u'TAB_e2_HTML_ANC_TAG_[li]', -0.024789286823428777), (u'TAB_e2_ROW_WORDS_[complement]', -0.024789286823428777), (u'TAB_e1_LEFT_WORDS_[with pnp]', -0.02436635297903538), (u'TAB_e2_LEFT_WORDS_[(]', -0.024155466452154085), (u'TAB_e1_RIGHT_WORDS_[bc558]', -0.023964879341958432), (u'TAB_e1_RIGHT_WORDS_[bc558 ,]', -0.023964879341958432), (u'TAB_e1_NEIGHBOR_PHRASE_WORDS_[package]', -0.02385238292123376), (u'TAB_e2_RIGHT_WORDS_[general-purpose]', 0.023563077032260623), (u'TAB_e1_NEIGHBOR_PHRASE_WORDS_[25]', -0.023456289941826535), (u'TAB_e2_ROW_NUM_[0]', -0.02333699984416942), (u'TAB_e2_LEFT_WORDS_[850 (]', -0.02324310493247465), (u'TAB_e2_NEIGHBOR_PHRASE_WORDS_[bc 846]', -0.02324310493247465), (u'TAB_e2_NEIGHBOR_PHRASE_WORDS_[bc]', -0.02324310493247465), (u'TAB_e2_NEIGHBOR_PHRASE_WORDS_[846 ,]', -0.02324310493247465), (u'TAB_e2_NEIGHBOR_PHRASE_WORDS_[, bc]', -0.02324310493247465), (u'TAB_e2_LEFT_WORDS_[bc]', -0.02324310493247465), (u'TAB_e2_NEIGHBOR_PHRASE_WORDS_[847]', -0.02324310493247465), (u'TAB_e2_NEIGHBOR_PHRASE_WORDS_[types :]', -0.02324310493247465), (u'TAB_e2_NEIGHBOR_PHRASE_WORDS_[847 ,]', -0.02324310493247465), (u'TAB_e2_LEFT_WORDS_[849 ,]', -0.02324310493247465), (u'TAB_e2_LEFT_WORDS_[, bc]', -0.02324310493247465), (u'TAB_e2_NEIGHBOR_PHRASE_WORDS_[bc 847]', -0.02324310493247465), (u'TAB_e2_LEFT_WORDS_[bc 849]', -0.02324310493247465), (u'TAB_e2_NEIGHBOR_PHRASE_WORDS_[: bc]', -0.02324310493247465), (u'TAB_e2_LEFT_WORDS_[850]', -0.02324310493247465), (u'TAB_e2_LEFT_WORDS_[849]', -0.02324310493247465), (u'TAB_e2_NEIGHBOR_PHRASE_WORDS_[846]', -0.02324310493247465), (u'TAB_e2_LEFT_WORDS_[bc 850]', -0.02324310493247465), (u'TAB_e1_LEFT_WORDS_[, bc558]', -0.022798875099066643), (u'TAB_e1_LEFT_WORDS_[bc558]', -0.022798875099066643), (u'TAB_e2_NEIGHBOR_PHRASE_WORDS_[pnp-transistoren]', -0.022632822733247106), (u'TAB_e2_NEIGHBOR_PHRASE_WORDS_[komplement?re pnp-transistoren]', -0.022632822733247106), (u'TAB_e1_LEFT_WORDS_[the pnp]', -0.02224653284683109), (u'TAB_e1_CONTAINS_WORDS_[BC558]', -0.022101133836568653), (u'TAB_e1_CONTAINS_WORDS_[BC557]', -0.02207759627220409), (u'TAB_e2_RIGHT_WORDS_[amplifier]', 0.02207123289930348), (u'TAB_e1_NEIGHBOR_PHRASE_WORDS_[= 25]', -0.021937278409705076), (u'TAB_e2_LEFT_WORDS_[, the]', -0.021761140022463932), (u'TAB_e2_LEFT_WORDS_[types ,]', -0.021761140022463932), (u'TAB_e1_RIGHT_WORDS_[,]', -0.021734417055084863), (u'TAB_e2_NEIGHBOR_PHRASE_WORDS_[bc856]', 0.021670168564667695), (u'TDL_LEMMA:SEQ-BETWEEN[bc559]', -0.021648139372276935), (u'TDL_LEMMA:SEQ-BETWEEN[bc559 ,]', -0.021648139372276935), (u'TAB_e2_NEIGHBOR_PHRASE_WORDS_[series]', 0.0214294541819058), (u'TAB_e1_COL_HEAD_WORDS_[top]', -0.021081422082267695), (u'TAB_e1_COL_WORDS_[bc33725]', -0.021081422082267695), (u'TAB_e1_COL_WORDS_[bc33740]', -0.021081422082267695), (u'TAB_e1_COL_WORDS_[bc33716]', -0.021081422082267695), (u'TAB_e1_COL_WORDS_[mark]', -0.021081422082267695), (u'TAB_e1_COL_WORDS_[top mark]', -0.021081422082267695), (u'TAB_e1_COL_HEAD_WORDS_[mark]', -0.021081422082267695), (u'TAB_e1_COL_WORDS_[top]', -0.021081422082267695), (u'TAB_e1_COL_HEAD_WORDS_[top mark]', -0.021081422082267695), (u'TAB_e2_RIGHT_WORDS_[epitaxial silicon]', -0.02087250712306327), (u'TAB_e2_NEIGHBOR_PHRASE_WORDS_[npn-transistoren]', -0.02063599882299611), (u'TAB_e2_NEIGHBOR_PHRASE_WORDS_[bc850]', -0.02063599882299611), (u'TAB_e2_NEIGHBOR_PHRASE_WORDS_[komplement?re npn-transistoren]', -0.02063599882299611), (u'TAB_e2_NEIGHBOR_PHRASE_WORDS_[420]', -0.02063599882299611), (u'TAB_e2_NEIGHBOR_PHRASE_WORDS_[bc846 ...]', -0.02063599882299611), (u'TAB_e2_NEIGHBOR_PHRASE_WORDS_[< 420]', -0.02063599882299611), (u'TAB_e2_NEIGHBOR_PHRASE_WORDS_[npn-transistoren bc846]', -0.02063599882299611), (u'TAB_e2_NEIGHBOR_PHRASE_WORDS_[420 k/w]', -0.02063599882299611), (u'TAB_e2_NEIGHBOR_PHRASE_WORDS_[... bc850]', -0.02063599882299611), (u'TAB_e1_NEIGHBOR_PHRASE_WORDS_[bc546]', 0.020567613955264144), (u'TAB_e2_RIGHT_WORDS_[epitaxial planar]', 0.02031857878189387), (u'TAB_e2_HTML_ANC_TAG_[table]', -0.020252542253018643), (u'TAB_e2_HTML_ANC_TAG_[body]', -0.020252542253018643), (u'TAB_e2_HTML_ANC_TAG_[html]', -0.020252542253018643), (u'TAB_e2_HTML_TAG_td', -0.020252542253018643), (u'TAB_e2_COL_SPAN_[1]', -0.020252542253018643), (u'TAB_e2_HTML_ANC_TAG_[tr]', -0.020252542253018643), (u'TAB_e2_NEIGHBOR_PHRASE_WORDS_[to-92 package]', -0.020249056104399702), (u'TAB_e2_NEIGHBOR_PHRASE_WORDS_[pcb assembly]', -0.020249056104399702), (u'TAB_e2_NEIGHBOR_PHRASE_WORDS_[for through-hole]', -0.020249056104399702), (u'TAB_e2_NEIGHBOR_PHRASE_WORDS_[pcb]', -0.020249056104399702), (u'TAB_e2_NEIGHBOR_PHRASE_WORDS_[assembly]', -0.020249056104399702), (u'TAB_e2_NEIGHBOR_PHRASE_WORDS_[through-hole]', -0.020249056104399702), (u'TAB_e2_NEIGHBOR_PHRASE_WORDS_[through-hole pcb]', -0.020249056104399702), (u'TAB_e2_NEIGHBOR_PHRASE_WORDS_[package suitable]', -0.020249056104399702), (u'TAB_e1_CONTAINS_WORDS_[BC559]', -0.020181249141918652), (u'TAB_e2_NEIGHBOR_PHRASE_WORDS_[the pin]', -0.020102681558558367), (u'TAB_e2_NEIGHBOR_PHRASE_WORDS_[special]', -0.020102681558558367), (u'TAB_e2_NEIGHBOR_PHRASE_WORDS_[are also]', -0.020102681558558367), (u'TAB_e2_NEIGHBOR_PHRASE_WORDS_[manufactured in]', -0.020102681558558367), (u'TAB_e2_NEIGHBOR_PHRASE_WORDS_[special request]', -0.020102681558558367), (u'TAB_e2_NEIGHBOR_PHRASE_WORDS_[also]', -0.020102681558558367), (u'TAB_e2_NEIGHBOR_PHRASE_WORDS_[on special]', -0.020102681558558367), (u'TAB_e2_NEIGHBOR_PHRASE_WORDS_[configuration to-18]', -0.020102681558558367), (u'TAB_e2_NEIGHBOR_PHRASE_WORDS_[request ,]', -0.020102681558558367), (u'TAB_e2_NEIGHBOR_PHRASE_WORDS_[configuration]', -0.020102681558558367), (u'TAB_e2_RIGHT_WORDS_[recommended .]', -0.020102681558558367), (u'TAB_e2_RIGHT_WORDS_[recommended]', -0.020102681558558367), (u'TAB_e2_NEIGHBOR_PHRASE_WORDS_[also manufactured]', -0.020102681558558367), (u'TAB_e2_NEIGHBOR_PHRASE_WORDS_[manufactured]', -0.020102681558558367), (u'TAB_e2_NEIGHBOR_PHRASE_WORDS_[in the]', -0.020102681558558367), (u'TAB_e2_NEIGHBOR_PHRASE_WORDS_[to-18]', -0.020102681558558367), (u'TAB_e2_RIGHT_WORDS_[are recommended]', -0.020102681558558367), (u'TAB_e2_NEIGHBOR_PHRASE_WORDS_[to-18 .]', -0.020102681558558367), (u'TAB_e2_NEIGHBOR_PHRASE_WORDS_[pin configuration]', -0.020102681558558367), (u'TDL_INV_LEMMA:SEQ-BETWEEN[transistor]', -0.019866246354771556), (u'TAB_e2_NEIGHBOR_PHRASE_WORDS_[request]', -0.019780933670682108), (u'TAB_e2_NEIGHBOR_PHRASE_WORDS_[available]', -0.019780933670682108), (u'TAB_e1_NEIGHBOR_PHRASE_WORDS_[and amplifier]', 0.019662400699538105), (u'TAB_e1_NEIGHBOR_PHRASE_WORDS_[switching and]', 0.019662400699538105), (u'TAB_e2_RIGHT_WORDS_[and]', -0.01955161891093918), (u'TAB_e1_NEIGHBOR_PHRASE_WORDS_[)]', -0.019285497827313727), (u'TAB_e1_LEFT_WORDS_[bc558 ,]', -0.019274409679649475), (u'TAB_e1_RIGHT_WORDS_[, bc558]', -0.019204692416724), (u'TAB_e1_NEIGHBOR_PHRASE_WORDS_[epitaxial]', 0.019170014764178036), (u'TDL_INV_DEP_LABEL|LEMMA:BETWEEN-MENTION-and-MENTION[nmod|bc556]', -0.01910706501534226), (u'TDL_INV_LEMMA:BETWEEN-MENTION-and-MENTION[bc556]', -0.01910706501534226), (u'TDL_LEMMA:SEQ-BETWEEN[,]', -0.01899830959743232), (u'TAB_e1_COL_WORDS_[bc33825]', -0.018880339462085435), (u'TAB_e1_NEIGHBOR_PHRASE_WORDS_[types are]', -0.01886431754565807), (u'TAB_e1_RIGHT_WORDS_[=]', 0.018669229542407573), (u'TAB_e2_NEIGHBOR_PHRASE_WORDS_[:]', -0.018579695674702423), (u'TDL_INV_LEMMA:BETWEEN-MENTION-and-MENTION[transistor]', -0.018577671130710877), (u'TAB_e2_NEIGHBOR_PHRASE_WORDS_[bc856w]', -0.01854234548543366), (u'TAB_e2_NEIGHBOR_PHRASE_WORDS_[bc856w ...]', -0.01854234548543366), (u'TAB_e2_NEIGHBOR_PHRASE_WORDS_[bc859w]', -0.01854234548543366), (u'TAB_e2_NEIGHBOR_PHRASE_WORDS_[pnp-transistoren bc856w]', -0.01854234548543366), (u'TAB_e2_NEIGHBOR_PHRASE_WORDS_[620 k/w]', -0.01854234548543366), (u'TAB_e2_NEIGHBOR_PHRASE_WORDS_[620]', -0.01854234548543366), (u'TAB_e2_NEIGHBOR_PHRASE_WORDS_[< 620]', -0.01854234548543366), (u'TAB_e2_NEIGHBOR_PHRASE_WORDS_[... bc859w]', -0.01854234548543366), (u'TAB_e2_RIGHT_WORDS_[2n3904]', -0.01849395892761976), (u'TAB_e2_NEIGHBOR_PHRASE_WORDS_[switching]', -0.01849395892761976), (u'TDL_LEMMA:SEQ-BETWEEN[, bc559 ,]', -0.018227399535418423), (u'TDL_LEMMA:SEQ-BETWEEN[, bc559]', -0.018227399535418423), (u'TAB_e1_NEIGHBOR_PHRASE_WORDS_[maximum]', -0.01801591510249386), (u'TDL_DEP_LABEL:BETWEEN-MENTION-and-MENTION[dep]', 0.017884688873288614), (u'TAB_e1_LEFT_WORDS_[high-voltage]', 0.017798472222280606), (u'TAB_e1_RIGHT_WORDS_[= 65]', 0.017798472222280606), (u'TAB_e1_NEIGHBOR_PHRASE_WORDS_[-]', 0.017587001218993963), (u'TAB_e2_NEIGHBOR_PHRASE_WORDS_[bc338]', -0.017516405534676944), (u'TAB_e2_NEIGHBOR_PHRASE_WORDS_[si-epi-planar]', 0.017264184742880242), (u'TAB_e1_COL_NUM_[1]', -0.01705491645124621), (u'TAB_e1_CONTAINS_WORDS_[BC546]', 0.016937319771570404), (u'TDL_INV_LEMMA:SEQ-BETWEEN[complementary type]', -0.016935629851780494), (u'TDL_INV_LEMMA:SEQ-BETWEEN[complementary]', -0.016935629851780494), (u'TAB_e2_RIGHT_WORDS_[af]', 0.01689627866438832), (u'TAB_e2_RIGHT_WORDS_[silicon af]', 0.01689627866438832), (u'TAB_e1_LEFT_WORDS_[transistors]', -0.016801138995667597), (u'TAB_e1_RIGHT_WORDS_[ceo]', 0.016719858333194115), (u'TAB_e1_RIGHT_WORDS_[ceo =]', 0.016719858333194115), (u'TDL_INV_LEMMA:SEQ-BETWEEN[pnp]', -0.016677367413511217), (u'TAB_e1_NEIGHBOR_PHRASE_WORDS_[also]', -0.01664590420094541), (u'TAB_e1_NEIGHBOR_PHRASE_WORDS_[request ,]', -0.01664590420094541), (u'TAB_e1_NEIGHBOR_PHRASE_WORDS_[configuration to-18]', -0.01664590420094541), (u'TAB_e1_NEIGHBOR_PHRASE_WORDS_[on special]', -0.01664590420094541), (u'TAB_e1_LEFT_WORDS_[pnp transistors]', -0.01664590420094541), (u'TAB_e1_NEIGHBOR_PHRASE_WORDS_[to-18]', -0.01664590420094541), (u'TAB_e1_NEIGHBOR_PHRASE_WORDS_[manufactured in]', -0.01664590420094541), (u'TAB_e1_NEIGHBOR_PHRASE_WORDS_[also manufactured]', -0.01664590420094541), (u'TAB_e1_NEIGHBOR_PHRASE_WORDS_[request]', -0.01664590420094541), (u'TAB_e1_NEIGHBOR_PHRASE_WORDS_[special]', -0.01664590420094541), (u'TAB_e1_NEIGHBOR_PHRASE_WORDS_[pin configuration]', -0.01664590420094541), (u'TAB_e1_NEIGHBOR_PHRASE_WORDS_[in the]', -0.01664590420094541), (u'TAB_e1_NEIGHBOR_PHRASE_WORDS_[special request]', -0.01664590420094541), (u'TAB_e1_NEIGHBOR_PHRASE_WORDS_[are also]', -0.01664590420094541), (u'TAB_e1_NEIGHBOR_PHRASE_WORDS_[to-18 .]', -0.01664590420094541), (u'TAB_e1_NEIGHBOR_PHRASE_WORDS_[configuration]', -0.01664590420094541), (u'TAB_e1_NEIGHBOR_PHRASE_WORDS_[the pin]', -0.01664590420094541), (u'TAB_e2_NEIGHBOR_PHRASE_WORDS_[(]', -0.016584520845158268), (u'TAB_e1_NEIGHBOR_PHRASE_WORDS_[for through-hole]', -0.01640170769974329), (u'TAB_e1_NEIGHBOR_PHRASE_WORDS_[pcb assembly]', -0.01640170769974329), (u'TAB_e1_NEIGHBOR_PHRASE_WORDS_[through-hole]', -0.01640170769974329), (u'TAB_e1_NEIGHBOR_PHRASE_WORDS_[to-92 package]', -0.01640170769974329), (u'TAB_e1_NEIGHBOR_PHRASE_WORDS_[through-hole pcb]', -0.01640170769974329), (u'TAB_e1_NEIGHBOR_PHRASE_WORDS_[pcb]', -0.01640170769974329), (u'TAB_e1_NEIGHBOR_PHRASE_WORDS_[package suitable]', -0.01640170769974329), (u'TAB_e1_NEIGHBOR_PHRASE_WORDS_[assembly]', -0.01640170769974329), (u'TAB_e1_NEIGHBOR_PHRASE_WORDS_[(]', -0.01629937003307259), (u'TAB_e1_NEIGHBOR_PHRASE_WORDS_[bc548]', 0.016075073869407677), (u'TAB_e2_NEIGHBOR_PHRASE_WORDS_[...]', -0.015936182412480043), (u'TAB_e2_NEIGHBOR_PHRASE_WORDS_[bc549]', -0.01587760708039269), (u'TAB_e2_RIGHT_WORDS_[purpose transistors]', 0.015845996101973788), (u'TDL_INV_DEP_LABEL:BETWEEN-MENTION-and-MENTION[ROOT nmod]', -0.015801711254684377), (u'TAB_e2_RIGHT_WORDS_[planar transistors]', 0.015648656644642607), (u'TAB_e2_RIGHT_WORDS_[silicon epitaxial]', 0.015648656644642607), (u'TAB_e1_LEFT_WORDS_[npn]', -0.015539457012987937), (u'TAB_e1_NEIGHBOR_PHRASE_WORDS_[c]', 0.015456520877970848), (u'TAB_e2_NEIGHBOR_PHRASE_WORDS_[on]', -0.015402426875409093), (u'TAB_e2_RIGHT_WORDS_[transistors]', -0.015397937637770337), (u'TDL_INV_LEMMA:SEQ-BETWEEN[bc556]', -0.015153143852643021), (u'TAB_e2_NEIGHBOR_PHRASE_WORDS_[hz]', -0.015139958160435844), (u'TAB_e2_NEIGHBOR_PHRASE_WORDS_[15 khz]', -0.015139958160435844), (u'TAB_e2_LEFT_WORDS_[bc847...-bc850]', -0.015139958160435844), (u'TAB_e2_NEIGHBOR_PHRASE_WORDS_[15]', -0.015139958160435844), (u'TAB_e2_LEFT_WORDS_[: bc847...-bc850]', -0.015139958160435844), (u'TAB_e2_NEIGHBOR_PHRASE_WORDS_[khz]', -0.015139958160435844), (u'TAB_e2_LEFT_WORDS_[... (]', -0.015139958160435844), (u'TAB_e2_NEIGHBOR_PHRASE_WORDS_[rohs]', -0.015139958160435844), (u'TAB_e2_NEIGHBOR_PHRASE_WORDS_[30 hz]', -0.015139958160435844), (u'TAB_e2_LEFT_WORDS_[...]', -0.015139958160435844), (u'TAB_e2_NEIGHBOR_PHRASE_WORDS_[rohs compliant]', -0.015139958160435844), (u'TAB_e2_NEIGHBOR_PHRASE_WORDS_[and 15]', -0.015139958160435844), (u'TAB_e2_NEIGHBOR_PHRASE_WORDS_[low noise]', -0.015139958160435844), (u'TAB_e2_LEFT_WORDS_[:]', -0.015139958160435844), (u'TAB_e2_NEIGHBOR_PHRASE_WORDS_[noise]', -0.015139958160435844), (u'TAB_e2_LEFT_WORDS_[types :]', -0.015139958160435844), (u'TAB_e2_NEIGHBOR_PHRASE_WORDS_[compliant )]', -0.015139958160435844), (u'TAB_e2_NEIGHBOR_PHRASE_WORDS_[30]', -0.015139958160435844), (u'TAB_e2_NEIGHBOR_PHRASE_WORDS_[hz and]', -0.015139958160435844), (u'TAB_e2_NEIGHBOR_PHRASE_WORDS_[pb-free (]', -0.015139958160435844), (u'TAB_e2_NEIGHBOR_PHRASE_WORDS_[pb-free]', -0.015139958160435844), (u'TAB_e2_NEIGHBOR_PHRASE_WORDS_[noise between]', -0.015139958160435844), (u'TAB_e2_NEIGHBOR_PHRASE_WORDS_[between]', -0.015139958160435844), (u'TAB_e2_NEIGHBOR_PHRASE_WORDS_[between 30]', -0.015139958160435844), (u'TAB_e2_NEIGHBOR_PHRASE_WORDS_[low]', -0.015139958160435844), (u'TAB_e2_LEFT_WORDS_[bc847...-bc850 ...]', -0.015139958160435844), (u'TAB_e2_NEIGHBOR_PHRASE_WORDS_[( rohs]', -0.015139958160435844), (u'TAB_e2_NEIGHBOR_PHRASE_WORDS_[) package]', -0.015139958160435844), (u'TDL_INV_LEMMA:RIGHT-OF-MENTION[pnp]', -0.015089088917089122), (u'TAB_e1_RIGHT_WORDS_[65]', 0.015054253003957062), (u'TAB_e1_RIGHT_WORDS_[65 v]', 0.015054253003957062), (u'TAB_e2_NEIGHBOR_PHRASE_WORDS_[, b]', 0.014717930881915229), (u'TAB_e2_NEIGHBOR_PHRASE_WORDS_[b ,]', 0.014717930881915229), (u'TAB_e1_LEFT_WORDS_[/]', 0.014641665593383705), (u'TAB_e1_NEIGHBOR_PHRASE_WORDS_[/]', 0.014609414447823448), (u'TAB_e2_NEIGHBOR_PHRASE_WORDS_[recommended .]', -0.014549098901779686), (u'TAB_e2_NEIGHBOR_PHRASE_WORDS_[- 40]', -0.014549098901779686), (u'TAB_e2_NEIGHBOR_PHRASE_WORDS_[bc807 and]', -0.014549098901779686), (u'TAB_e2_NEIGHBOR_PHRASE_WORDS_[40 according]', -0.014549098901779686), (u'TAB_e2_NEIGHBOR_PHRASE_WORDS_[16]', -0.014549098901779686), (u'TAB_e2_NEIGHBOR_PHRASE_WORDS_[bc808]', -0.014549098901779686), (u'TAB_e2_NEIGHBOR_PHRASE_WORDS_[40]', -0.014549098901779686), (u'TAB_e2_NEIGHBOR_PHRASE_WORDS_[and -]', -0.014549098901779686), (u'TAB_e2_NEIGHBOR_PHRASE_WORDS_[16 ,]', -0.014549098901779686), (u'TAB_e2_NEIGHBOR_PHRASE_WORDS_[bc808 are]', -0.014549098901779686), (u'TAB_e2_NEIGHBOR_PHRASE_WORDS_[- 16]', -0.014549098901779686), (u'TAB_e2_NEIGHBOR_PHRASE_WORDS_[25 ,]', -0.014549098901779686), (u'TAB_e2_NEIGHBOR_PHRASE_WORDS_[and bc808]', -0.014549098901779686), (u'TAB_e2_NEIGHBOR_PHRASE_WORDS_[, -]', -0.014549098901779686), (u'TAB_e2_NEIGHBOR_PHRASE_WORDS_[are recommended]', -0.014549098901779686), (u'TAB_e1_RIGHT_WORDS_[v]', 0.014480332992036295), (u'TAB_e1_RIGHT_WORDS_[recommended]', -0.01439562224089716), (u'TAB_e1_RIGHT_WORDS_[recommended .]', -0.01439562224089716), (u'TAB_e2_NEIGHBOR_PHRASE_WORDS_[collector]', 0.014357938293811583), (u'TAB_e1_LEFT_WORDS_[type]', -0.014281675303096026), (u'TDL_LEMMA:BETWEEN-MENTION-and-MENTION[complement]', -0.014239774799909684), (u'TDL_DEP_LABEL|LEMMA:BETWEEN-MENTION-and-MENTION[ROOT|complement]', -0.014239774799909684), (u'TAB_e2_RIGHT_WORDS_[general-purpose amplifier]', 0.01410762921224463), (u'TAB_e1_NEIGHBOR_PHRASE_WORDS_[types]', -0.014093206518515618), (u'TAB_e2_NEIGHBOR_PHRASE_WORDS_[bc337]', -0.014073124126597643), (u'TDL_INV_LEMMA:RIGHT-OF-MENTION[complementary]', -0.013999933931851198), (u'TAB_e1_COL_NUM_[2]', 0.013943828841724742), (u'TAB_e1_NEIGHBOR_PHRASE_WORDS_[on]', -0.013935405592884193), (u'TAB_e1_NEIGHBOR_PHRASE_WORDS_[are]', -0.013851817414866859), (u'TAB_e2_NEIGHBOR_PHRASE_WORDS_[recommended]', -0.013727609008392537), (u'TAB_e2_RIGHT_WORDS_[general]', 0.013648969869902215), (u'TDL_LEMMA:SEQ-BETWEEN[bc558 , bc559]', -0.013505406305207801), (u'TDL_LEMMA:SEQ-BETWEEN[bc558 ,]', -0.013505406305207801), (u'TDL_LEMMA:SEQ-BETWEEN[bc558]', -0.013505406305207801), (u'TAB_e1_RIGHT_WORDS_[npn]', 0.013466236252096265), (u'TAB_e2_NEIGHBOR_PHRASE_WORDS_[version]', 0.013331154644920254), (u'TAB_e1_RIGHT_WORDS_[bc328]', -0.013320200093322855), (u'TDL_SEQ-BETWEEN[LEN:0-4]', -0.013308036672339261), (u'TAB_e1_NEIGHBOR_PHRASE_WORDS_[.]', -0.01320829840873361), (u'TAB_e1_NEIGHBOR_PHRASE_WORDS_[- npn]', 0.013160448423642855), (u'TAB_e2_NEIGHBOR_PHRASE_WORDS_[bc337 /]', -0.013059779898828443), (u'TAB_e2_NEIGHBOR_PHRASE_WORDS_[/ bc338]', -0.013059779898828443), (u'TAB_e1_LEFT_WORDS_[high-voltage :]', 0.01300522732702832), (u'TAB_e2_RIGHT_WORDS_[silicon transistor]', -0.012984416161499587), (u'TAB_e2_RIGHT_WORDS_[purpose]', 0.012920273322172783), (u'TAB_e2_RIGHT_WORDS_[general purpose]', 0.012920273322172783), (u'TAB_e1_NEIGHBOR_PHRASE_WORDS_[bc546 ,]', 0.012917390327561236), (u'TAB_e2_RIGHT_WORDS_[bc556]', -0.012890640437874594), (u'TAB_e2_RIGHT_WORDS_[bc556 ...]', -0.012890640437874594), (u'TAB_e2_NEIGHBOR_PHRASE_WORDS_[in groups]', -0.012890640437874594), (u'TAB_e2_NEIGHBOR_PHRASE_WORDS_[type and]', -0.012890640437874594), (u'TAB_e2_RIGHT_WORDS_[transistors bc556]', -0.012890640437874594), (u'TAB_e2_RIGHT_WORDS_[bc559 are]', -0.012890640437874594), (u'TAB_e2_LEFT_WORDS_[types the]', -0.012890640437874594), (u'TAB_e2_NEIGHBOR_PHRASE_WORDS_[bc549 is]', -0.012890640437874594), (u'TAB_e2_NEIGHBOR_PHRASE_WORDS_[available in]', -0.012890640437874594), (u'TAB_e2_NEIGHBOR_PHRASE_WORDS_[low-noise type]', -0.012890640437874594), (u'TAB_e2_RIGHT_WORDS_[bc559]', -0.012890640437874594), (u'TAB_e2_RIGHT_WORDS_[... bc559]', -0.012890640437874594), (u'TAB_e2_NEIGHBOR_PHRASE_WORDS_[is a]', -0.012890640437874594), (u'TAB_e2_NEIGHBOR_PHRASE_WORDS_[low-noise]', -0.012890640437874594), (u'TAB_e2_NEIGHBOR_PHRASE_WORDS_[b and]', -0.012890640437874594), (u'TAB_e2_NEIGHBOR_PHRASE_WORDS_[, these]', -0.012890640437874594), (u'TAB_e2_NEIGHBOR_PHRASE_WORDS_[the bc549]', -0.012890640437874594), (u'TAB_e2_NEIGHBOR_PHRASE_WORDS_[groups b]', -0.012890640437874594), (u'TAB_e2_NEIGHBOR_PHRASE_WORDS_[and available]', -0.012890640437874594), (u'TAB_e2_NEIGHBOR_PHRASE_WORDS_[a low-noise]', -0.012890640437874594), (u'TAB_e2_NEIGHBOR_PHRASE_WORDS_[c .]', -0.012890640437874594), (u'TDL_LEMMA:SEQ-BETWEEN[65 v]', 0.012822385919285436), (u'TDL_LEMMA:SEQ-BETWEEN[65]', 0.012822385919285436), (u'TDL_LEMMA:SEQ-BETWEEN[v]', 0.012822385919285436), (u'TDL_LEMMA:RIGHT-OF-MENTION[/]', -0.012820872432645555), (u'TAB_e2_LEFT_WORDS_[-]', -0.012676263242715043), (u'TAB_e2_NEIGHBOR_PHRASE_WORDS_[bc807]', -0.012629368954527341), (u'TDL_INV_LEMMA:BETWEEN-MENTION-and-MENTION[complement bc556]', -0.01250088941259363), (u'TDL_INV_DEP_LABEL|LEMMA:BETWEEN-MENTION-and-MENTION[ROOT|complement nmod|bc556]', -0.01250088941259363), (u'TDL_INV_LEMMA:SEQ-BETWEEN[to bc556]', -0.01250088941259363), (u'TAB_e2_NEIGHBOR_PHRASE_WORDS_[pnp]', -0.012491317072671591), (u'TAB_e2_NEIGHBOR_PHRASE_WORDS_[set for]', -0.012463362082065669), (u'TAB_e2_NEIGHBOR_PHRASE_WORDS_[making]', -0.012463362082065669), (u'TAB_e2_NEIGHBOR_PHRASE_WORDS_[need to]', -0.012463362082065669), (u'TAB_e2_NEIGHBOR_PHRASE_WORDS_[for operation]', -0.012463362082065669), (u'TAB_e2_NEIGHBOR_PHRASE_WORDS_[only]', -0.012463362082065669), (u'TAB_e2_RIGHT_WORDS_[dta114w series]', -0.012463362082065669), (u'TAB_e2_NEIGHBOR_PHRASE_WORDS_[conditions need]', -0.012463362082065669), (u'TAB_e2_NEIGHBOR_PHRASE_WORDS_[compliant .]', -0.012463362082065669), (u'TAB_e2_NEIGHBOR_PHRASE_WORDS_[be]', -0.012463362082065669), (u'TAB_e2_NEIGHBOR_PHRASE_WORDS_[operation ,]', -0.012463362082065669), (u'TAB_e2_NEIGHBOR_PHRASE_WORDS_[, making]', -0.012463362082065669), (u'TAB_e2_NEIGHBOR_PHRASE_WORDS_[on/off]', -0.012463362082065669), (u'TAB_e2_RIGHT_WORDS_[: dta114w]', -0.012463362082065669), (u'TAB_e2_NEIGHBOR_PHRASE_WORDS_[operation]', -0.012463362082065669), (u'TAB_e2_NEIGHBOR_PHRASE_WORDS_[design easy]', -0.012463362082065669), (u'TAB_e2_NEIGHBOR_PHRASE_WORDS_[easy]', -0.012463362082065669), (u'TAB_e2_NEIGHBOR_PHRASE_WORDS_[free/rohs compliant]', -0.012463362082065669), (u'TAB_e2_NEIGHBOR_PHRASE_WORDS_[on/off conditions]', -0.012463362082065669), (u'TAB_e2_NEIGHBOR_PHRASE_WORDS_[the circuit]', -0.012463362082065669), (u'TAB_e2_NEIGHBOR_PHRASE_WORDS_[be set]', -0.012463362082065669), (u'TAB_e2_RIGHT_WORDS_[types :]', -0.012463362082065669), (u'TAB_e2_NEIGHBOR_PHRASE_WORDS_[conditions]', -0.012463362082065669), (u'TAB_e2_NEIGHBOR_PHRASE_WORDS_[easy .]', -0.012463362082065669), (u'TAB_e2_NEIGHBOR_PHRASE_WORDS_[to be]', -0.012463362082065669), (u'TAB_e2_NEIGHBOR_PHRASE_WORDS_[circuit design]', -0.012463362082065669), (u'TAB_e2_NEIGHBOR_PHRASE_WORDS_[only the]', -0.012463362082065669), (u'TAB_e2_NEIGHBOR_PHRASE_WORDS_[need]', -0.012463362082065669), (u'TAB_e2_NEIGHBOR_PHRASE_WORDS_[set]', -0.012463362082065669), (u'TAB_e2_NEIGHBOR_PHRASE_WORDS_[lead free/rohs]', -0.012463362082065669), (u'TAB_e2_NEIGHBOR_PHRASE_WORDS_[the on/off]', -0.012463362082065669), (u'TAB_e2_NEIGHBOR_PHRASE_WORDS_[free/rohs]', -0.012463362082065669), (u'TAB_e2_NEIGHBOR_PHRASE_WORDS_[making the]', -0.012463362082065669), (u'TAB_e2_RIGHT_WORDS_[dta114w]', -0.012463362082065669), (u'TAB_e2_NEIGHBOR_PHRASE_WORDS_[circuit]', -0.012463362082065669), (u'TAB_e2_NEIGHBOR_PHRASE_WORDS_[bc857]', 0.012357536994181802), (u'TAB_e2_NEIGHBOR_PHRASE_WORDS_[bc859]', 0.012357536994181802), (u'TAB_e2_NEIGHBOR_PHRASE_WORDS_[and switching]', -0.012339577790254515), (u'TAB_e2_NEIGHBOR_PHRASE_WORDS_[pnp silicon]', -0.012339577790254515), (u'TAB_e2_RIGHT_WORDS_[are 2n3903]', -0.012339577790254515), (u'TAB_e2_RIGHT_WORDS_[and 2n3904]', -0.012339577790254515), (u'TAB_e2_RIGHT_WORDS_[types are]', -0.012339577790254515), (u'TAB_e2_NEIGHBOR_PHRASE_WORDS_[switching applications]', -0.012339577790254515), (u'TAB_e2_NEIGHBOR_PHRASE_WORDS_[silicon transistors]', -0.012339577790254515), (u'TAB_e2_RIGHT_WORDS_[complementary types]', -0.012339577790254515), (u'TAB_e2_NEIGHBOR_PHRASE_WORDS_[transistors designed]', -0.012339577790254515), (u'TAB_e2_NEIGHBOR_PHRASE_WORDS_[2n3906 types]', -0.012339577790254515), (u'TAB_e2_NEIGHBOR_PHRASE_WORDS_[are pnp]', -0.012339577790254515), (u'TAB_e2_RIGHT_WORDS_[2n3903]', -0.012339577790254515), (u'TAB_e2_RIGHT_WORDS_[2n3904 .]', -0.012339577790254515), (u'TAB_e2_RIGHT_WORDS_[2n3903 and]', -0.012339577790254515), (u'TAB_e2_NEIGHBOR_PHRASE_WORDS_[applications .]', -0.012339577790254515), (u'TAB_e1_RIGHT_WORDS_[v ceo]', 0.012130449450664191), (u'TAB_e2_NEIGHBOR_PHRASE_WORDS_[groups a]', 0.012064917350703962), (u'TAB_e2_NEIGHBOR_PHRASE_WORDS_[0.142]', 0.012064917350703962), (u'TAB_e2_NEIGHBOR_PHRASE_WORDS_[a ,]', 0.012064917350703962), (u'TAB_e2_NEIGHBOR_PHRASE_WORDS_[3.6 )]', 0.012064917350703962), (u'TAB_e2_NEIGHBOR_PHRASE_WORDS_[3.6]', 0.012064917350703962), (u'TAB_e2_NEIGHBOR_PHRASE_WORDS_[c according]', 0.012064917350703962), (u'TAB_e2_NEIGHBOR_PHRASE_WORDS_[( 3.6]', 0.012064917350703962), (u'TAB_e2_NEIGHBOR_PHRASE_WORDS_[are subdivided]', 0.012064917350703962), (u'TAB_e2_NEIGHBOR_PHRASE_WORDS_[0.142 (]', 0.012064917350703962), (u'TAB_e2_RIGHT_WORDS_[,]', 0.01191478389341439), (u'TAB_e1_CONTAINS_WORDS_[BC328]', -0.011866673299544647), (u'TDL_LEMMA:SEQ-BETWEEN[= 65]', 0.011864515535429318), (u'TDL_LEMMA:SEQ-BETWEEN[ceo = 65]', 0.011864515535429318), (u'TDL_LEMMA:SEQ-BETWEEN[ceo =]', 0.011864515535429318), (u'TDL_LEMMA:SEQ-BETWEEN[= 65 v]', 0.011864515535429318), (u'TDL_LEMMA:SEQ-BETWEEN[ceo]', 0.011864515535429318), (u'TAB_e2_NEIGHBOR_PHRASE_WORDS_[design]', -0.011641872188678468), (u'TAB_e2_NEIGHBOR_PHRASE_WORDS_[for general]', -0.011573861148107076), (u'TDL_INV_LEMMA:SEQ-BETWEEN[to bc556 ,]', -0.011508251717839126), (u'TDL_INV_LEMMA:SEQ-BETWEEN[bc556 ,]', -0.011508251717839126), (u'TAB_e2_LEFT_WORDS_[mmbt3906]', 0.01148203000651368), (u'TAB_e2_LEFT_WORDS_[pzt3906 -]', 0.01148203000651368), (u'TAB_e2_LEFT_WORDS_[pzt3906]', 0.01148203000651368), (u'TAB_e1_NEIGHBOR_PHRASE_WORDS_[are pnp]', -0.011431064197496817), (u'TAB_e1_NEIGHBOR_PHRASE_WORDS_[transistors designed]', -0.011431064197496817), (u'TAB_e1_NEIGHBOR_PHRASE_WORDS_[2n3906 types]', -0.011431064197496817), (u'TDL_INV_LEMMA:BETWEEN-MENTION-and-MENTION[bc546]', 0.011424649353285155), (u'TAB_e2_RIGHT_WORDS_[:]', -0.011319772469265844), (u'TAB_e2_NEIGHBOR_PHRASE_WORDS_[- 25]', -0.01117420703868028), (u'TAB_e1_RIGHT_WORDS_[-]', 0.011162797059777095), (u'TAB_e1_CONTAINS_WORDS_[BC327]', -0.011086786386953774), (u'TAB_e2_NEIGHBOR_PHRASE_WORDS_[bc846]', -0.011060886987168984), (u'TAB_e1_ROW_SPAN_[1]', -0.01101309018933436), (u'TAB_e1_RIGHT_WORDS_[are recommended]', -0.010953666971916132), (u'TAB_e1_NEIGHBOR_PHRASE_WORDS_[epitaxial silicon]', 0.0109416192106013), (u'TAB_e1_NEIGHBOR_PHRASE_WORDS_[silicon transistor]', 0.0109416192106013), (u'TAB_e1_NEIGHBOR_PHRASE_WORDS_[npn epitaxial]', 0.010915282749623011), (u'TDL_INV_LEMMA:LEFT-OF-MENTION[and]', -0.010891374324906179), (u'TAB_e1_NEIGHBOR_PHRASE_WORDS_[collector]', 0.01088712877796724), (u'TAB_e2_NEIGHBOR_PHRASE_WORDS_[is]', -0.010875967218488061), (u'TAB_e1_LEFT_WORDS_[pnp type]', -0.010838513726289642), (u'TDL_DEP_LABEL|LEMMA:BETWEEN-MENTION-and-MENTION[ROOT|be nsubj|type]', -0.01080107905385718), (u'TAB_e1_RIGHT_WORDS_[complementary]', -0.01080107905385718), (u'TAB_e1_RIGHT_WORDS_[complementary type]', -0.01080107905385718), (u'TDL_LEMMA:BETWEEN-MENTION-and-MENTION[be]', -0.01080107905385718), (u'TAB_e1_RIGHT_WORDS_[pnp complementary]', -0.01080107905385718), (u'TAB_e1_RIGHT_WORDS_[is bc557b]', -0.01080107905385718), (u'TDL_DEP_LABEL|LEMMA:BETWEEN-MENTION-and-MENTION[ROOT|be]', -0.01080107905385718), (u'TDL_LEMMA:BETWEEN-MENTION-and-MENTION[be type]', -0.01080107905385718), (u'TAB_e1_RIGHT_WORDS_[bc557b]', -0.01080107905385718), (u'TAB_e1_RIGHT_WORDS_[type is]', -0.01080107905385718), (u'TAB_e1_RIGHT_WORDS_[silicon]', 0.010756038025638178), (u'TDL_INV_LEMMA:RIGHT-OF-MENTION[bc556/557/558]', -0.010749407226496931), (u'TDL_INV_LEMMA:LEFT-OF-MENTION[with]', -0.010749407226496931), (u'TAB_e1_NEIGHBOR_PHRASE_WORDS_[characteristics (]', 0.010702433234606542), (u'TDL_INV_LEMMA:BETWEEN-MENTION-and-MENTION[recommend]', -0.010702372373603278), (u'TDL_INV_DEP_LABEL|LEMMA:BETWEEN-MENTION-and-MENTION[ROOT|type]', -0.010700507897628081), (u'TDL_INV_LEMMA:RIGHT-OF-MENTION[.]', -0.010678410994259742), (u'TAB_e1_NEIGHBOR_PHRASE_WORDS_[by]', 0.010678147397786579), (u'TAB_e1_COL_SPAN_[1]', -0.010668512814490003), (u'TAB_e1_RIGHT_WORDS_[transistor]', 0.010644602667979635), (u'TAB_e1_RIGHT_WORDS_[bc557 ,]', -0.010624190379333662), (u'TAB_e1_RIGHT_WORDS_[bc557]', -0.010624190379333662), (u'TDL_LEMMA:SEQ-BETWEEN[, bc558]', -0.010565867019423879), (u'TDL_LEMMA:SEQ-BETWEEN[, bc558 ,]', -0.010565867019423879), (u'TAB_e2_LEFT_WORDS_[bc338 -]', -0.010563264029190838), (u'TAB_e2_LEFT_WORDS_[bc338]', -0.010563264029190838), (u'TAB_e1_NEIGHBOR_PHRASE_WORDS_[in]', -0.010546737390522677), (u'TAB_e2_NEIGHBOR_PHRASE_WORDS_[... bc860]', 0.010544826416415133), (u'TAB_e2_NEIGHBOR_PHRASE_WORDS_[bc856 ...]', 0.010544826416415133), (u'TAB_e2_NEIGHBOR_PHRASE_WORDS_[bc860]', 0.010544826416415133), (u'TAB_DIFF_TABLE_COL_DIFF_[4]', -0.010315767442249157), (u'TAB_e2_NEIGHBOR_PHRASE_WORDS_[collector current]', 0.010239511453684956), (u'TAB_e1_HTML_ANC_TAG_[table]', -0.010235597787730588), (u'TAB_e1_HTML_ANC_TAG_[tr]', -0.010235597787730588), (u'TAB_e1_HTML_ANC_TAG_[html]', -0.010235597787730588), (u'TAB_e1_HTML_ANC_TAG_[body]', -0.010235597787730588), (u'TAB_e1_HTML_TAG_td', -0.010235597787730588), (u'TAB_e1_NEIGHBOR_PHRASE_WORDS_[bc547]', 0.010234753939528093), (u'TDL_LEMMA:BETWEEN-MENTION-and-MENTION[Transistor]', 0.010211104196024058), (u'TAB_e1_COL_HEAD_WORDS_[part number]', 0.01012220274032251), (u'TAB_e1_COL_WORDS_[part number]', 0.01012220274032251), (u'TAB_e1_COL_WORDS_[number]', 0.01012220274032251), (u'TAB_e1_COL_HEAD_WORDS_[number]', 0.01012220274032251), (u'TAB_DIFF_TABLE_ROW_DIFF_[1]', -0.010098658491011964), (u'TAB_e1_NEIGHBOR_PHRASE_WORDS_[npn transistor]', -0.01005382848194985), (u'TDL_DEP_LABEL:BETWEEN-MENTION-and-MENTION[ROOT dep]', 0.010027393895293564), (u'TDL_INV_LEMMA:RIGHT-OF-MENTION[:]', -0.010017502491008098), (u'TDL_LEMMA:BETWEEN-MENTION-and-MENTION[type]', -0.009992287786974675), (u'TAB_e1_RIGHT_WORDS_[epitaxial]', 0.009885260185720234), (u'TAB_e1_RIGHT_WORDS_[amplifier]', 0.009875836469723759), (u'TDL_DEP_LABEL|LEMMA:BETWEEN-MENTION-and-MENTION[dep|Transistor]', 0.009828289819238781), (u'TAB_e1_NEIGHBOR_PHRASE_WORDS_[ratings]', 0.009804361378214051), (u'TAB_e1_NEIGHBOR_PHRASE_WORDS_[pnp silicon]', -0.009789246236572317), (u'TAB_e1_RIGHT_WORDS_[series]', 0.009754574338582345), (u'TAB_e1_RIGHT_WORDS_[is]', -0.009742788140681125), (u'TAB_e2_NEIGHBOR_PHRASE_WORDS_[f?r]', 0.009667959508919188), (u'TDL_DEP_LABEL|LEMMA:BETWEEN-MENTION-and-MENTION[nsubj|type]', -0.009644080441067578), (u'TAB_e1_RIGHT_WORDS_[are]', -0.009604547332770188), (u'TAB_e1_NEIGHBOR_PHRASE_WORDS_[silicon]', 0.009565302049127635), (u'TAB_e2_NEIGHBOR_PHRASE_WORDS_[to]', -0.009561555916218156), (u'TAB_e1_NEIGHBOR_PHRASE_WORDS_[part]', -0.009489664211938365), (u'TAB_e1_NEIGHBOR_PHRASE_WORDS_[these]', -0.009454681391725632), (u'TAB_e1_NEIGHBOR_PHRASE_WORDS_[number]', -0.009402750832740697), (u'TAB_e2_NEIGHBOR_PHRASE_WORDS_[0.15]', 0.009250220595323207), (u'TAB_e2_NEIGHBOR_PHRASE_WORDS_[0.15 )]', 0.009250220595323207), (u'TAB_e2_NEIGHBOR_PHRASE_WORDS_[) min]', 0.009250220595323207), (u'TAB_e2_NEIGHBOR_PHRASE_WORDS_[bc858 ,]', 0.009250220595323207), (u'TAB_e2_NEIGHBOR_PHRASE_WORDS_[min .]', 0.009250220595323207), (u'TAB_e2_NEIGHBOR_PHRASE_WORDS_[bc856 ,]', 0.009250220595323207), (u'TAB_e2_NEIGHBOR_PHRASE_WORDS_[( 0.15]', 0.009250220595323207), (u'TAB_e2_NEIGHBOR_PHRASE_WORDS_[0.006]', 0.009250220595323207), (u'TAB_e2_NEIGHBOR_PHRASE_WORDS_[, bc858]', 0.009250220595323207), (u'TAB_e2_NEIGHBOR_PHRASE_WORDS_[bc859 series]', 0.009250220595323207), (u'TAB_e2_NEIGHBOR_PHRASE_WORDS_[bc857 ,]', 0.009250220595323207), (u'TAB_e2_NEIGHBOR_PHRASE_WORDS_[, bc857]', 0.009250220595323207), (u'TAB_e2_NEIGHBOR_PHRASE_WORDS_[, bc859]', 0.009250220595323207), (u'TAB_e2_NEIGHBOR_PHRASE_WORDS_[bc858]', 0.009250220595323207), (u'TAB_e2_NEIGHBOR_PHRASE_WORDS_[0.006 (]', 0.009250220595323207), (u'TAB_e1_NEIGHBOR_PHRASE_WORDS_[( 1]', 0.0092197424452312), (u'TDL_INV_LEMMA:LEFT-OF-MENTION[pnp]', -0.009207157474956613), (u'TDL_INV_LEMMA:SEQ-BETWEEN[/]', 0.009185104857835804), (u'TAB_e2_NEIGHBOR_PHRASE_WORDS_[in]', -0.009156455855239234), (u'TAB_e1_CONTAINS_WORDS_[BC337]', 0.009153947741521555), (u'TAB_e1_COL_WORDS_[bc546b]', 0.009118155899134138), (u'TAB_e1_LEFT_WORDS_[as complementary]', -0.009112411759122332), (u'TAB_e1_LEFT_WORDS_[as]', -0.009112411759122332), (u'TAB_e1_RIGHT_WORDS_[type]', -0.00908989087846938), (u'TDL_LEMMA:RIGHT-OF-MENTION[Epitaxial]', 0.00906882873180029), (u'TAB_e2_LEFT_WORDS_[series]', 0.009034564005592027), (u'TAB_e2_LEFT_WORDS_[transistor]', 0.009008462395828316), (u'TDL_INV_LEMMA:LEFT-OF-MENTION[type]', -0.008993560799982649), (u'TAB_e2_NEIGHBOR_PHRASE_WORDS_[amplifier and]', -0.008973382057843544), (u'TAB_e2_NEIGHBOR_PHRASE_WORDS_[designed for]', -0.008882085967782324), (u'TAB_e1_LEFT_WORDS_[types :]', -0.008834743286460573), (u'TAB_e1_LEFT_WORDS_[bc327]', -0.008820072569669624), (u'TAB_e1_ROW_WORDS_[i]', 0.008789772947968863), (u'TAB_e1_NEIGHBOR_PHRASE_WORDS_[switching applications]', -0.008713402741252665), (u'TAB_e1_NEIGHBOR_PHRASE_WORDS_[amplifier and]', -0.008713402741252665), (u'TAB_e1_NEIGHBOR_PHRASE_WORDS_[and switching]', -0.008713402741252665), (u'TAB_e1_NEIGHBOR_PHRASE_WORDS_[manufactured by]', 0.00868545941801519), (u'TAB_e1_NEIGHBOR_PHRASE_WORDS_[, designed]', 0.00868545941801519), (u'TAB_e1_NEIGHBOR_PHRASE_WORDS_[description]', 0.00868545941801519), (u'TAB_e1_NEIGHBOR_PHRASE_WORDS_[the epitaxial]', 0.00868545941801519), (u'TAB_e1_NEIGHBOR_PHRASE_WORDS_[planar process]', 0.00868545941801519), (u'TAB_e1_NEIGHBOR_PHRASE_WORDS_[process ,]', 0.00868545941801519), (u'TAB_e1_NEIGHBOR_PHRASE_WORDS_[by the]', 0.00868545941801519), (u'TAB_e1_NEIGHBOR_PHRASE_WORDS_[description :]', 0.00868545941801519), (u'TAB_e1_NEIGHBOR_PHRASE_WORDS_[process]', 0.00868545941801519), (u'TAB_e1_NEIGHBOR_PHRASE_WORDS_[1 )]', 0.008656078324879702), (u'TAB_e2_RIGHT_WORDS_[bc 856]', 0.008605376038862224), (u'TAB_e2_RIGHT_WORDS_[af transistors]', 0.008605376038862224), (u'TAB_e2_RIGHT_WORDS_[... bc]', 0.008605376038862224), (u'TAB_e2_RIGHT_WORDS_[transistors bc]', 0.008605376038862224), (u'TAB_e2_RIGHT_WORDS_[bc]', 0.008605376038862224), (u'TAB_e2_RIGHT_WORDS_[856]', 0.008605376038862224), (u'TAB_e2_NEIGHBOR_PHRASE_WORDS_[siems01215-1]', 0.008605376038862224), (u'TAB_e2_RIGHT_WORDS_[856 ...]', 0.008605376038862224), (u'TAB_e1_COL_WORDS_[bc548b]', 0.008584747219205102), (u'TAB_e1_NEIGHBOR_PHRASE_WORDS_[2n3905]', -0.008570627279203455), (u'TAB_e2_NEIGHBOR_PHRASE_WORDS_[si-epi-planar transistors]', 0.008546837786116738), (u'TAB_e2_NEIGHBOR_PHRASE_WORDS_[surface]', 0.008546837786116738), (u'TAB_e2_NEIGHBOR_PHRASE_WORDS_[surface mount]', 0.008546837786116738), (u'TAB_e2_NEIGHBOR_PHRASE_WORDS_[mount]', 0.008546837786116738), (u'TAB_e2_NEIGHBOR_PHRASE_WORDS_[purpose si-epi-planar]', 0.008546837786116738), (u'TAB_e2_NEIGHBOR_PHRASE_WORDS_[mount general]', 0.008546837786116738), (u'TAB_e1_NEIGHBOR_PHRASE_WORDS_[=]', -0.008514111598104265), (u'TAB_e1_COL_WORDS_[bc546a]', 0.008510654201322219), (u'TAB_e1_COL_WORDS_[bc547a]', 0.008506160874139591), (u'TAB_e1_NEIGHBOR_PHRASE_WORDS_[switching]', 0.00841641567807345), (u'TAB_e1_CONTAINS_WORDS_[BC33725]', -0.008405644714922972), (u'TAB_e2_LEFT_WORDS_[mmbt3906 /]', 0.008334170227042116), (u'TAB_e2_LEFT_WORDS_[/ pzt3906]', 0.008334170227042116), (u'TAB_e2_LEFT_WORDS_[/ mmbt3906]', 0.008334170227042116), (u'TAB_e2_LEFT_WORDS_[2n3906 /]', 0.008334170227042116), (u'TAB_e1_LEFT_WORDS_[bc546]', 0.008323842805089054), (u'TDL_INV_LEMMA:SEQ-BETWEEN[complementary type be]', -0.00828816528017266), (u'TDL_INV_LEMMA:SEQ-BETWEEN[type be]', -0.00828816528017266), (u'TDL_INV_DEP_LABEL|LEMMA:BETWEEN-MENTION-and-MENTION[nsubj|type]', -0.00828816528017266), (u'TAB_e1_HTML_ANC_TAG_[ol]', -0.00827780500094979), (u'TDL_LEMMA:SEQ-BETWEEN[v ceo =]', 0.008246404699262544), (u'TDL_LEMMA:SEQ-BETWEEN[v ceo]', 0.008246404699262544), (u'TAB_e1_RIGHT_WORDS_[silicon transistor]', 0.008221598854315558), (u'TAB_e2_NEIGHBOR_PHRASE_WORDS_[bc550 -]', 0.00821004544888833), (u'TAB_e1_NEIGHBOR_PHRASE_WORDS_[maximum ratings]', 0.008159752600591411), (u'TAB_e1_LEFT_WORDS_[types are]', -0.00807946862213082), (u'TDL_INV_LEMMA:BETWEEN-MENTION-and-MENTION[2n3903]', -0.00807946862213082), (u'TAB_e1_LEFT_WORDS_[are]', -0.00807946862213082), (u'TDL_INV_DEP_LABEL|LEMMA:BETWEEN-MENTION-and-MENTION[ROOT|2n3903]', -0.00807946862213082), (u'TAB_e1_LEFT_WORDS_[npn complementary]', -0.00807946862213082), (u'TAB_e2_LEFT_WORDS_[silicon]', 0.008075044873596383), (u'TDL_INV_LEMMA:SEQ-BETWEEN[bc556 , bc557]', -0.008073442305431132), (u'TDL_INV_LEMMA:SEQ-BETWEEN[, bc557]', -0.008073442305431132), (u'TDL_INV_LEMMA:SEQ-BETWEEN[bc557]', -0.008073442305431132), (u'TAB_e1_COL_WORDS_[bc550c]', 0.008045508332569187), (u'TAB_e1_COL_WORDS_[bc549b]', 0.008045508332569187), (u'TDL_INV_SEQ-BETWEEN[LEN:5-7]', -0.00791940436820097), (u'TAB_e1_RIGHT_WORDS_[epitaxial silicon]', 0.00787378250132552), (u'TAB_e1_RIGHT_WORDS_[- npn]', 0.007869338352952135), (u'TDL_INV_SEQ-BETWEEN[LEN:0-4]', -0.00782948680931467), (u'TDL_LEMMA:SEQ-BETWEEN[=]', 0.007806902500276838), (u'TAB_e2_NEIGHBOR_PHRASE_WORDS_[according to]', -0.007757163302584864), (u'TAB_e2_NEIGHBOR_PHRASE_WORDS_[, and]', -0.007757163302584864), (u'TAB_e2_NEIGHBOR_PHRASE_WORDS_[gain .]', -0.007757163302584864), (u'TAB_e2_NEIGHBOR_PHRASE_WORDS_[according]', -0.007757163302584864), (u'TAB_e2_NEIGHBOR_PHRASE_WORDS_[their]', -0.007757163302584864), (u'TAB_e2_NEIGHBOR_PHRASE_WORDS_[to their]', -0.007757163302584864), (u'TAB_e2_LEFT_WORDS_[purpose]', 0.007741644775295208), (u'TAB_e2_LEFT_WORDS_[general purpose]', 0.007741644775295208), (u'TAB_e2_LEFT_WORDS_[general]', 0.007741644775295208), (u'TAB_e1_COL_WORDS_[bc547b]', 0.007738477088595311), (u'TAB_e1_NEIGHBOR_PHRASE_WORDS_[characteristics]', 0.007729989251843031), (u'TAB_e2_LEFT_WORDS_[bc337 /]', -0.007698766189283432), (u'TAB_e2_LEFT_WORDS_[/ bc338]', -0.007698766189283432), (u'TAB_e1_NEIGHBOR_PHRASE_WORDS_[to-92 ;]', -0.007680045670351195), (u'TAB_e1_NEIGHBOR_PHRASE_WORDS_[; sot54]', -0.007680045670351195), (u'TDL_INV_LEMMA:SEQ-BETWEEN[complement]', -0.007680045670351195), (u'TAB_e1_NEIGHBOR_PHRASE_WORDS_[package .]', -0.007680045670351195), (u'TAB_e1_NEIGHBOR_PHRASE_WORDS_[sot54]', -0.007680045670351195), (u'TAB_e1_LEFT_WORDS_[pnp complement]', -0.007680045670351195), (u'TAB_e1_NEIGHBOR_PHRASE_WORDS_[a to-92]', -0.007680045670351195), (u'TAB_e1_NEIGHBOR_PHRASE_WORDS_[sot54 plastic]', -0.007680045670351195), (u'TAB_e1_NEIGHBOR_PHRASE_WORDS_[;]', -0.007680045670351195), (u'TAB_e1_LEFT_WORDS_[complement :]', -0.007680045670351195), (u'TAB_e1_CONTAINS_WORDS_[2N4126]', -0.007680045670351195), (u'TAB_e1_NEIGHBOR_PHRASE_WORDS_[transistor in]', -0.007680045670351195), (u'TAB_e1_NEIGHBOR_PHRASE_WORDS_[plastic package]', -0.007680045670351195), (u'TDL_INV_LEMMA:SEQ-BETWEEN[complement :]', -0.007680045670351195), (u'TAB_e2_RIGHT_WORDS_[general-purpose transistors]', 0.007578327875467259), (u'TAB_e2_NEIGHBOR_PHRASE_WORDS_[full part]', -0.007556184248348144), (u'TAB_e2_NEIGHBOR_PHRASE_WORDS_[: full]', -0.007556184248348144), (u'TAB_e2_NEIGHBOR_PHRASE_WORDS_[full]', -0.007556184248348144), (u'TAB_e1_NEIGHBOR_PHRASE_WORDS_[planar]', 0.007530079926624916), (u'TAB_e2_RIGHT_WORDS_[manufactured]', 0.0075266066220991395), (u'TAB_e2_RIGHT_WORDS_[manufactured by]', 0.0075266066220991395), (u'TAB_e2_RIGHT_WORDS_[by]', 0.0075266066220991395), (u'TAB_e2_RIGHT_WORDS_[the]', 0.0075266066220991395), (u'TAB_e2_RIGHT_WORDS_[by the]', 0.0075266066220991395), (u'TAB_e1_NEIGHBOR_PHRASE_WORDS_[2n3906]', -0.0075201686257007835), (u'TAB_e1_COL_WORDS_[bc549c]', 0.007506123220219339), (u'TAB_e2_RIGHT_WORDS_[designed]', -0.007450815200148381), (u'TAB_e2_RIGHT_WORDS_[for general]', -0.007450815200148381), (u'TAB_e2_LEFT_WORDS_[2n3906 types]', -0.007450815200148381), (u'TAB_e2_RIGHT_WORDS_[transistors designed]', -0.007450815200148381), (u'TAB_e2_NEIGHBOR_PHRASE_WORDS_[and 2n3904]', -0.007450815200148381), (u'TAB_e2_NEIGHBOR_PHRASE_WORDS_[2n3903]', -0.007450815200148381), (u'TAB_e2_NEIGHBOR_PHRASE_WORDS_[semiconductor 2n3905]', -0.007450815200148381), (u'TAB_e2_NEIGHBOR_PHRASE_WORDS_[2n3903 and]', -0.007450815200148381), (u'TAB_e2_NEIGHBOR_PHRASE_WORDS_[npn complementary]', -0.007450815200148381), (u'TAB_e2_NEIGHBOR_PHRASE_WORDS_[2n3904 .]', -0.007450815200148381), (u'TAB_e2_RIGHT_WORDS_[designed for]', -0.007450815200148381), (u'TAB_e2_NEIGHBOR_PHRASE_WORDS_[2n3904]', -0.007450815200148381), (u'TAB_e2_NEIGHBOR_PHRASE_WORDS_[2n3905 and]', -0.007450815200148381), (u'TAB_e2_NEIGHBOR_PHRASE_WORDS_[2n3905]', -0.007450815200148381), (u'TAB_e2_NEIGHBOR_PHRASE_WORDS_[are 2n3903]', -0.007450815200148381), (u'TAB_e1_RIGHT_WORDS_[pnp]', -0.007416776136534413), (u'TAB_e2_NEIGHBOR_PHRASE_WORDS_[min]', 0.007415143781172859), (u'TAB_e1_NEIGHBOR_PHRASE_WORDS_[purpose transistors]', 0.007405762986059956), (u'TDL_INV_DEP_LABEL|LEMMA:BETWEEN-MENTION-and-MENTION[dep|transistor]', -0.007401550531510011), (u'TAB_e1_NEIGHBOR_PHRASE_WORDS_[, these]', -0.007401550531510011), (u'TDL_INV_DEP_LABEL|LEMMA:BETWEEN-MENTION-and-MENTION[acl:relcl|recommend]', -0.007401550531510011), (u'TDL_INV_DEP_LABEL:BETWEEN-MENTION-and-MENTION[dep acl:relcl]', -0.007401550531510011), (u'TDL_INV_DEP_LABEL:BETWEEN-MENTION-and-MENTION[acl:relcl]', -0.007401550531510011), (u'TDL_INV_LEMMA:BETWEEN-MENTION-and-MENTION[transistor recommend]', -0.007401550531510011), (u'TAB_e1_LEFT_WORDS_[types the]', -0.007401550531510011), (u'TDL_INV_DEP_LABEL|LEMMA:BETWEEN-MENTION-and-MENTION[dep|transistor acl:relcl|recommend]', -0.007401550531510011), (u'TDL_INV_LEMMA:RIGHT-OF-MENTION[Voltage]', 0.007345910228176738), (u'TAB_e2_NEIGHBOR_PHRASE_WORDS_[c]', 0.007344324607092843), (u'TAB_e2_NEIGHBOR_PHRASE_WORDS_[device]', 0.007333609935966571), (u'TAB_e2_NEIGHBOR_PHRASE_WORDS_[is designed]', 0.007333609935966571), (u'TAB_e1_NEIGHBOR_PHRASE_WORDS_[bc559]', 0.0072937114296543855), (u'TAB_e1_NEIGHBOR_PHRASE_WORDS_[bc556]', 0.0072937114296543855), (u'TAB_e1_NEIGHBOR_PHRASE_WORDS_[available]', -0.007270229735690736), (u'TAB_e1_NEIGHBOR_PHRASE_WORDS_[groups]', -0.007270229735690736), (u'TDL_INV_LEMMA:SEQ-BETWEEN[, bc557 ,]', -0.007252433645297821), (u'TDL_INV_LEMMA:SEQ-BETWEEN[bc557 ,]', -0.007252433645297821), (u'TAB_e1_NEIGHBOR_PHRASE_WORDS_[-16]', -0.007245353835685181), (u'TAB_e1_NEIGHBOR_PHRASE_WORDS_[their dc]', -0.007245353835685181), (u'TAB_e1_NEIGHBOR_PHRASE_WORDS_[also available]', -0.007245353835685181), (u'TAB_e1_NEIGHBOR_PHRASE_WORDS_[, according]', -0.007245353835685181), (u'TAB_e1_NEIGHBOR_PHRASE_WORDS_[available subdivided]', -0.007245353835685181), (u'TAB_e1_NEIGHBOR_PHRASE_WORDS_[-40]', -0.007245353835685181), (u'TAB_e1_NEIGHBOR_PHRASE_WORDS_[groups -16]', -0.007245353835685181), (u'TAB_e1_NEIGHBOR_PHRASE_WORDS_[-16 ,]', -0.007245353835685181), (u'TAB_e1_NEIGHBOR_PHRASE_WORDS_[-25]', -0.007245353835685181), (u'TAB_e1_LEFT_WORDS_[types ,]', -0.007245353835685181), (u'TAB_e1_NEIGHBOR_PHRASE_WORDS_[-40 ,]', -0.007245353835685181), (u'TAB_e1_NEIGHBOR_PHRASE_WORDS_[this transistor]', -0.007245353835685181), (u'TAB_e1_NEIGHBOR_PHRASE_WORDS_[dc]', -0.007245353835685181), (u'TAB_e1_NEIGHBOR_PHRASE_WORDS_[, this]', -0.007245353835685181), (u'TAB_e1_NEIGHBOR_PHRASE_WORDS_[-25 ,]', -0.007245353835685181), (u'TAB_e1_NEIGHBOR_PHRASE_WORDS_[and -40]', -0.007245353835685181), (u'TAB_e1_NEIGHBOR_PHRASE_WORDS_[, -25]', -0.007245353835685181), (u'TAB_e1_NEIGHBOR_PHRASE_WORDS_[dc current]', -0.007245353835685181), (u'TAB_e1_NEIGHBOR_PHRASE_WORDS_[these types]', -0.007245353835685181), (u'TAB_e1_NEIGHBOR_PHRASE_WORDS_[transistor is]', -0.007245353835685181), (u'TAB_e1_NEIGHBOR_PHRASE_WORDS_[is also]', -0.007245353835685181), (u'TAB_e2_NEIGHBOR_PHRASE_WORDS_[purpose application]', -0.007215744108108408), (u'TAB_e2_NEIGHBOR_PHRASE_WORDS_[bc546/7/8]', -0.007215744108108408), (u'TAB_e2_NEIGHBOR_PHRASE_WORDS_[application .]', -0.007215744108108408), (u'TAB_e1_COL_HEAD_WORDS_[marking]', 0.007185740015982345), (u'TAB_e1_COL_WORDS_[marking]', 0.007185740015982345), (u'TAB_e2_NEIGHBOR_PHRASE_WORDS_[free]', 0.0071851940469378145), (u'TAB_e1_ROW_WORDS_[3]', -0.007153943733667035), (u'TAB_e1_ROW_WORDS_[voltage]', 0.007128186835703334), (u'TDL_LEMMA:LEFT-OF-MENTION[...]', -0.007126287223514409), (u'TAB_e1_RIGHT_WORDS_[bc550]', 0.00711627827884317), (u'TAB_e2_RIGHT_WORDS_[transistor]', -0.007111905646292303), (u'TAB_e2_LEFT_WORDS_[bc337]', -0.007093646160130184), (u'TAB_e2_NEIGHBOR_PHRASE_WORDS_[case]', 0.0070865060363073315), (u'TDL_LEMMA:SEQ-BETWEEN[-]', 0.007061061369342513), (u'TAB_e1_ROW_NUM_[0]', -0.00705177255730521), (u'TAB_e1_RIGHT_WORDS_[in]', 0.007003425459474677), (u'TDL_INV_LEMMA:SEQ-BETWEEN[Voltage]', 0.007002433695371403), (u'TAB_e1_COL_WORDS_[bc549]', 0.006974776697155435), (u'TAB_e1_NEIGHBOR_PHRASE_WORDS_[b ,]', 0.006963928266253738), (u'TAB_e1_LEFT_WORDS_[2n3906]', 0.0069151836791137115), (u'TAB_e2_NEIGHBOR_PHRASE_WORDS_[die]', 0.0068662019153408835), (u'TAB_e2_NEIGHBOR_PHRASE_WORDS_[oberfl?chenmontage]', 0.0068662019153408835), (u'TAB_e2_NEIGHBOR_PHRASE_WORDS_[die oberfl?chenmontage]', 0.0068662019153408835), (u'TAB_e2_NEIGHBOR_PHRASE_WORDS_[f?r die]', 0.0068662019153408835), (u'TAB_e2_NEIGHBOR_PHRASE_WORDS_[lead free]', 0.0068614481230960585), (u'TAB_e2_NEIGHBOR_PHRASE_WORDS_[marking :]', -0.006819395659208382), (u'TAB_e2_NEIGHBOR_PHRASE_WORDS_[part]', -0.006819395659208382), (u'TAB_e2_NEIGHBOR_PHRASE_WORDS_[part number]', -0.006819395659208382), (u'TAB_e1_LEFT_WORDS_[:]', 0.00679912857957816), (u'TAB_e1_COL_WORDS_[/ bc549]', 0.006793785822690908), (u'TAB_e1_COL_WORDS_[bc547 /]', 0.006793785822690908), (u'TAB_e1_COL_WORDS_[bc550]', 0.006793785822690908), (u'TAB_e1_COL_WORDS_[/ bc550]', 0.006793785822690908), (u'TAB_e1_COL_WORDS_[bc548 /]', 0.006793785822690908), (u'TAB_e2_NEIGHBOR_PHRASE_WORDS_[ma]', 0.0067774941132936325), (u'TAB_e1_ROW_WORDS_[v]', 0.0067687468567348315), (u'TDL_DEP_LABEL:BETWEEN-MENTION-and-MENTION[ROOT nsubj]', -0.006719202631880762), (u'TAB_e1_NEIGHBOR_PHRASE_WORDS_[ceo]', 0.006680595273060299), (u'TAB_e1_NEIGHBOR_PHRASE_WORDS_[v ceo]', 0.006680595273060299), (u'TAB_e1_NEIGHBOR_PHRASE_WORDS_[groups a]', 0.006672569555306642), (u'TAB_e2_NEIGHBOR_PHRASE_WORDS_[genesys]', 0.006627375744419319), (u'TDL_DEP_LABEL:BETWEEN-MENTION-and-MENTION[dep dep]', 0.006600996596198994), (u'TAB_e1_LEFT_WORDS_[the]', -0.006595757113506468), (u'TAB_e2_NEIGHBOR_PHRASE_WORDS_[2002/95/e c]', 0.006577887760161351), (u'TAB_e2_NEIGHBOR_PHRASE_WORDS_[0 lead]', 0.006577887760161351), (u'TAB_e2_RIGHT_WORDS_[devices :]', 0.006577887760161351), (u'TAB_e2_NEIGHBOR_PHRASE_WORDS_[u r]', 0.006577887760161351), (u'TAB_e2_RIGHT_WORDS_[devices]', 0.006577887760161351), (u'TAB_e2_NEIGHBOR_PHRASE_WORDS_[= -100]', 0.006577887760161351), (u'TAB_e2_NEIGHBOR_PHRASE_WORDS_[comply]', 0.006577887760161351), (u'TAB_e2_NEIGHBOR_PHRASE_WORDS_[directives]', 0.006577887760161351), (u'TAB_e2_RIGHT_WORDS_[: bc846/bc847/bc848]', 0.006577887760161351), (u'TAB_e2_NEIGHBOR_PHRASE_WORDS_[u]', 0.006577887760161351), (u'TAB_e2_NEIGHBOR_PHRASE_WORDS_[with e]', 0.006577887760161351), (u'TAB_e2_RIGHT_WORDS_[bc846/bc847/bc848]', 0.006577887760161351), (u'TAB_e2_RIGHT_WORDS_[bc846/bc847/bc848 /]', 0.006577887760161351), (u'TAB_e2_NEIGHBOR_PHRASE_WORDS_[-100]', 0.006577887760161351), (u'TAB_e2_NEIGHBOR_PHRASE_WORDS_[e]', 0.006577887760161351), (u'TAB_e2_RIGHT_WORDS_[) devices]', 0.006577887760161351), (u'TAB_e2_LEFT_WORDS_[complimentary (]', 0.006577887760161351), (u'TAB_e2_LEFT_WORDS_[complimentary]', 0.006577887760161351), (u'TAB_e2_NEIGHBOR_PHRASE_WORDS_[0]', 0.006577887760161351), (u'TAB_e2_NEIGHBOR_PHRASE_WORDS_[current ic]', 0.006577887760161351), (u'TAB_e2_NEIGHBOR_PHRASE_WORDS_[with]', 0.006577887760161351), (u'TAB_e2_NEIGHBOR_PHRASE_WORDS_[c directives]', 0.006577887760161351), (u'TAB_e2_NEIGHBOR_PHRASE_WORDS_[ohs 2002/95/e]', 0.006577887760161351), (u'TAB_e2_RIGHT_WORDS_[/ bc849]', 0.006577887760161351), (u'TAB_e2_RIGHT_WORDS_[bc849]', 0.006577887760161351), (u'TAB_e2_NEIGHBOR_PHRASE_WORDS_[ic]', 0.006577887760161351), (u'TAB_e2_NEIGHBOR_PHRASE_WORDS_[in comply]', 0.006577887760161351), (u'TAB_e2_NEIGHBOR_PHRASE_WORDS_[-100 ma]', 0.006577887760161351), (u'TAB_e2_RIGHT_WORDS_[/]', 0.006577887760161351), (u'TAB_e2_RIGHT_WORDS_[bc849 series]', 0.006577887760161351), (u'TAB_e2_NEIGHBOR_PHRASE_WORDS_[comply with]', 0.006577887760161351), (u'TAB_e2_NEIGHBOR_PHRASE_WORDS_[2002/95/e]', 0.006577887760161351), (u'TAB_e2_NEIGHBOR_PHRASE_WORDS_[ohs]', 0.006577887760161351), (u'TAB_e2_NEIGHBOR_PHRASE_WORDS_[free in]', 0.006577887760161351), (u'TAB_e2_NEIGHBOR_PHRASE_WORDS_[e u]', 0.006577887760161351), (u'TAB_e2_NEIGHBOR_PHRASE_WORDS_[directives .]', 0.006577887760161351), (u'TAB_e2_NEIGHBOR_PHRASE_WORDS_[r ohs]', 0.006577887760161351), (u'TAB_e2_NEIGHBOR_PHRASE_WORDS_[ic =]', 0.006577887760161351), (u'TAB_e1_NEIGHBOR_PHRASE_WORDS_[transistor]', -0.006568214355114526), (u'TAB_e1_NEIGHBOR_PHRASE_WORDS_[device]', 0.006559086532589651), (u'TAB_e2_NEIGHBOR_PHRASE_WORDS_[application]', -0.006450027465961079), (u'TAB_e2_NEIGHBOR_PHRASE_WORDS_[pzt3906]', 0.006424596292605927), (u'TAB_e1_LEFT_WORDS_[, and]', -0.006378904416486027), (u'TAB_e1_LEFT_WORDS_[, bc559]', -0.006378904416486027), (u'TAB_e1_CONTAINS_WORDS_[BC560]', -0.006378904416486027), (u'TAB_e1_LEFT_WORDS_[bc559 ,]', -0.006378904416486027), (u'TAB_e1_LEFT_WORDS_[bc559]', -0.006378904416486027), (u'TAB_e1_NEIGHBOR_PHRASE_WORDS_[npn )]', -0.00636877334038963), (u'TAB_e1_NEIGHBOR_PHRASE_WORDS_[( npn]', -0.00636877334038963), (u'TAB_e2_NEIGHBOR_PHRASE_WORDS_[and driver]', 0.006367827608010434), (u'TAB_e2_NEIGHBOR_PHRASE_WORDS_[input stages]', 0.006367827608010434), (u'TAB_e2_NEIGHBOR_PHRASE_WORDS_[input]', 0.006367827608010434), (u'TAB_e2_NEIGHBOR_PHRASE_WORDS_[stages]', 0.006367827608010434), (u'TAB_e2_NEIGHBOR_PHRASE_WORDS_[af input]', 0.006367827608010434), (u'TAB_e2_NEIGHBOR_PHRASE_WORDS_[stages and]', 0.006367827608010434), (u'TAB_e2_NEIGHBOR_PHRASE_WORDS_[for af]', 0.006367827608010434), (u'TAB_e2_NEIGHBOR_PHRASE_WORDS_[driver]', 0.006367827608010434), (u'TAB_e2_NEIGHBOR_PHRASE_WORDS_[af]', 0.006367827608010434), (u'TAB_e2_RIGHT_WORDS_[af transistor]', 0.006367827608010434), (u'TAB_e2_NEIGHBOR_PHRASE_WORDS_[driver applications]', 0.006367827608010434), (u'TAB_e2_LEFT_WORDS_[bc548]', 0.006343978977140341), (u'TDL_INV_DEP_LABEL|LEMMA:BETWEEN-MENTION-and-MENTION[nsubjpass|transistor]', -0.006342985984892974), (u'TAB_e1_NEIGHBOR_PHRASE_WORDS_[epitaxial planar]', 0.0063429630123385304), (u'TAB_e1_NEIGHBOR_PHRASE_WORDS_[silicon transistors]', -0.006317184921748363), (u'TAB_e1_NEIGHBOR_PHRASE_WORDS_[bc550 -]', 0.0063106264916748915), (u'TAB_e1_LEFT_WORDS_[and]', -0.006297057425507402), (u'TAB_e1_NEIGHBOR_PHRASE_WORDS_[ratings (]', 0.00629561798366177), (u'TAB_e1_NEIGHBOR_PHRASE_WORDS_[this]', -0.006282109267702949), (u'TAB_e2_NEIGHBOR_PHRASE_WORDS_[universaltransistoren]', 0.006245488484041798), (u'TAB_e2_NEIGHBOR_PHRASE_WORDS_[2011-11-07]', 0.006245488484041798), (u'TAB_e2_NEIGHBOR_PHRASE_WORDS_[universaltransistoren f?r]', 0.006245488484041798), (u'TAB_e2_NEIGHBOR_PHRASE_WORDS_[si-epi-planar universaltransistoren]', 0.006245488484041798), (u'TAB_e2_NEIGHBOR_PHRASE_WORDS_[version 2011-11-07]', 0.006245488484041798), (u'TAB_e1_RIGHT_WORDS_[npn epitaxial]', 0.006233075519496022), (u'TDL_INV_LEMMA:SEQ-BETWEEN[b]', 0.006206363143001194), (u'TAB_e1_COL_WORDS_[bc337]', 0.006196872452771776), (u'TAB_e1_COL_HEAD_WORDS_[type]', -0.006181109465126649), (u'TAB_e1_COL_WORDS_[type]', -0.006181109465126649), (u'TAB_DIFF_TABLE_MANHATTAN_DIST_[5]', -0.006179114649008029), (u'TAB_e1_NEIGHBOR_PHRASE_WORDS_[: full]', -0.006138068636572039), (u'TAB_e1_NEIGHBOR_PHRASE_WORDS_[full part]', -0.006138068636572039), (u'TAB_e1_NEIGHBOR_PHRASE_WORDS_[part number]', -0.006138068636572039), (u'TAB_e1_NEIGHBOR_PHRASE_WORDS_[full]', -0.006138068636572039), (u'TAB_e2_NEIGHBOR_PHRASE_WORDS_[npn]', -0.006125923954924449), (u'TAB_e2_NEIGHBOR_PHRASE_WORDS_[these]', -0.006098704838680296), (u'TAB_e2_NEIGHBOR_PHRASE_WORDS_[groups]', -0.006098704838680296), (u'TAB_e1_CONTAINS_WORDS_[BC338]', 0.006049202561065305), (u'TAB_e1_RIGHT_WORDS_[bc859]', 0.0060477659112994075), (u'TDL_DEP_LABEL:BETWEEN-MENTION-and-MENTION[ROOT]', -0.006047687215636512), (u'TAB_e1_RIGHT_WORDS_[bc549]', 0.006046987117429382), (u'TAB_e2_NEIGHBOR_PHRASE_WORDS_[1 to-92]', 0.006044381658664152), (u'TAB_e2_NEIGHBOR_PHRASE_WORDS_[symbol]', 0.006044381658664152), (u'TAB_e1_NEIGHBOR_PHRASE_WORDS_[manufactured]', -0.0060213854137533), (u'TAB_e1_COL_WORDS_[bc548c]', 0.005997389818838329), (u'TAB_e2_NEIGHBOR_PHRASE_WORDS_[1]', 0.005988907408081485), (u'TAB_e1_NEIGHBOR_PHRASE_WORDS_[pnp general]', 0.005975764704393893), (u'TAB_e1_COL_WORDS_[bc549 /]', 0.005916084100206556), (u'TAB_e2_LEFT_WORDS_[, bc550]', 0.005861992696562701), (u'TAB_e2_LEFT_WORDS_[bc549 ,]', 0.005861992696562701), (u'TAB_e2_LEFT_WORDS_[bc548 ,]', 0.005861992696562701), (u'TAB_e2_LEFT_WORDS_[, bc549]', 0.005861992696562701), (u'TAB_e2_LEFT_WORDS_[, bc548]', 0.005861992696562701), (u'TAB_e1_NEIGHBOR_PHRASE_WORDS_[to]', 0.005815947484112679), (u'TAB_e2_NEIGHBOR_PHRASE_WORDS_[2500]', 0.005793924738314812), (u'TAB_e2_NEIGHBOR_PHRASE_WORDS_[ratings (]', 0.005793924738314812), (u'TAB_e1_HTML_ANC_TAG_[ul]', 0.005771347606760895), (u'TDL_INV_LEMMA:BETWEEN-MENTION-and-MENTION[type transistor]', -0.0057460968870660985), (u'TAB_e1_COL_WORDS_[bc857bw]', -0.005704833328481849), (u'TAB_e1_COL_WORDS_[bc858c]', -0.005704379942884809), (u'TAB_e1_COL_WORDS_[bc858cw]', -0.005704378211194214), (u'TAB_e1_COL_WORDS_[bc858bw]', -0.005703922683477613), (u'TAB_e1_COL_WORDS_[bc857b]', -0.005703734450192437), (u'TAB_e1_COL_WORDS_[bc860b]', -0.005702332055202195), (u'TAB_e1_COL_WORDS_[bc860bw]', -0.005702176109222049), (u'TAB_e1_COL_WORDS_[bc857cw]', -0.005701901900078936), (u'TAB_e1_COL_WORDS_[bc857c]', -0.005701785045019835), (u'TAB_e1_COL_WORDS_[bc857a]', -0.005701238672689579), (u'TAB_e1_COL_WORDS_[bc858b]', -0.0057009496042371936), (u'TAB_e1_COL_WORDS_[bc859c]', -0.0057002646371654845), (u'TAB_e1_COL_WORDS_[bc860cw]', -0.005699748550190072), (u'TAB_e1_COL_WORDS_[bc858a]', -0.0056979962494841585), (u'TAB_e1_COL_WORDS_[bc857bl3 *]', -0.005691302697938697), (u'TAB_e1_COL_WORDS_[bc857bl3]', -0.005691302697938697), (u'TDL_DEP_LABEL:BETWEEN-MENTION-and-MENTION[nsubj]', -0.005681892410312283), (u'TDL_INV_LEMMA:RIGHT-OF-MENTION[bc559]', -0.005656588457196376), (u'TDL_INV_LEMMA:SEQ-BETWEEN[a]', 0.005640175400125741), (u'TAB_e1_COL_WORDS_[,]', 0.005627257066415779), (u'TAB_e1_COL_WORDS_[bc548]', 0.005586986895853904), (u'TAB_e1_CONTAINS_WORDS_[2N3904]', -0.00558422806400776), (u'TAB_e1_NEIGHBOR_PHRASE_WORDS_[, bc557]', 0.00555854694855693), (u'TAB_e1_NEIGHBOR_PHRASE_WORDS_[high-voltage]', 0.00555854694855693), (u'TAB_e1_NEIGHBOR_PHRASE_WORDS_[, v]', 0.00555854694855693), (u'TAB_e1_NEIGHBOR_PHRASE_WORDS_[, bc558]', 0.00555854694855693), (u'TAB_e1_NEIGHBOR_PHRASE_WORDS_[bc556 ,]', 0.00555854694855693), (u'TAB_e1_NEIGHBOR_PHRASE_WORDS_[ceo =]', 0.00555854694855693), (u'TAB_e1_NEIGHBOR_PHRASE_WORDS_[complement]', 0.00555854694855693), (u'TAB_e1_NEIGHBOR_PHRASE_WORDS_[bc560]', 0.00555854694855693), (u'TAB_e1_NEIGHBOR_PHRASE_WORDS_[bc558 ,]', 0.00555854694855693), (u'TAB_e1_NEIGHBOR_PHRASE_WORDS_[, bc559]', 0.00555854694855693), (u'TAB_e1_NEIGHBOR_PHRASE_WORDS_[to bc556]', 0.00555854694855693), (u'TAB_e1_NEIGHBOR_PHRASE_WORDS_[: bc546]', 0.00555854694855693), (u'TAB_e1_NEIGHBOR_PHRASE_WORDS_[high-voltage :]', 0.00555854694855693), (u'TAB_e1_NEIGHBOR_PHRASE_WORDS_[bc558]', 0.00555854694855693), (u'TAB_e1_NEIGHBOR_PHRASE_WORDS_[bc557 ,]', 0.00555854694855693), (u'TAB_e1_NEIGHBOR_PHRASE_WORDS_[bc559 ,]', 0.00555854694855693), (u'TAB_e1_LEFT_WORDS_[low-noise]', 0.00555854694855693), (u'TAB_e1_NEIGHBOR_PHRASE_WORDS_[= 65]', 0.00555854694855693), (u'TAB_e1_NEIGHBOR_PHRASE_WORDS_[and bc560]', 0.00555854694855693), (u'TAB_e1_NEIGHBOR_PHRASE_WORDS_[bc557]', 0.00555854694855693), (u'TAB_e1_NEIGHBOR_PHRASE_WORDS_[complement to]', 0.00555854694855693), (u'TAB_e1_NEIGHBOR_PHRASE_WORDS_[is]', -0.005550390223202626), (u'TAB_e2_CONTAINS_WORDS_[NPN]', -0.005545668057456681), (u'TAB_e2_NEIGHBOR_PHRASE_WORDS_[2n3906]', -0.005545550999588355), (u'TDL_LEMMA:SEQ-BETWEEN[bc557 ,]', -0.005534227628764014), (u'TDL_LEMMA:SEQ-BETWEEN[bc557]', -0.005534227628764014), (u'TDL_LEMMA:SEQ-BETWEEN[bc557 , bc558]', -0.005534227628764014), (u'TDL_LEMMA:SEQ-BETWEEN[bc550]', 0.0055242296725279035), (u'TAB_e1_ROW_WORDS_[-]', -0.005507443604779705), (u'TAB_e1_NEIGHBOR_PHRASE_WORDS_[absolute]', 0.005484857110221055), (u'TAB_e2_LEFT_WORDS_[transistors]', 0.005449633995743744), (u'TAB_e1_NEIGHBOR_PHRASE_WORDS_[amplifier applications]', 0.0054476308108845715), (u'TAB_e1_NEIGHBOR_PHRASE_WORDS_[plastic]', -0.005429763710301454), (u'TAB_e1_NEIGHBOR_PHRASE_WORDS_[, bc547]', 0.00539580771910026), (u'TAB_e1_NEIGHBOR_PHRASE_WORDS_[bc547 ,]', 0.00539580771910026), (u'TAB_e1_LEFT_WORDS_[central]', 0.00538781102950551), (u'TAB_e1_LEFT_WORDS_[the central]', 0.00538781102950551), (u'TAB_e2_NEIGHBOR_PHRASE_WORDS_[in a]', -0.005366365552913864), (u'TAB_e2_RIGHT_WORDS_[2n4126 .]', -0.005366365552913864), (u'TAB_e2_RIGHT_WORDS_[2n4126]', -0.005366365552913864), (u'TAB_e2_NEIGHBOR_PHRASE_WORDS_[a to-92]', -0.005366365552913864), (u'TAB_e2_NEIGHBOR_PHRASE_WORDS_[; sot54]', -0.005366365552913864), (u'TAB_e2_NEIGHBOR_PHRASE_WORDS_[sot54]', -0.005366365552913864), (u'TAB_e2_RIGHT_WORDS_[: 2n4126]', -0.005366365552913864), (u'TAB_e2_NEIGHBOR_PHRASE_WORDS_[to-92 ;]', -0.005366365552913864), (u'TAB_e2_NEIGHBOR_PHRASE_WORDS_[package .]', -0.005366365552913864), (u'TAB_e2_NEIGHBOR_PHRASE_WORDS_[sot54 plastic]', -0.005366365552913864), (u'TAB_e2_NEIGHBOR_PHRASE_WORDS_[npn transistor]', -0.005366365552913864), (u'TAB_e2_NEIGHBOR_PHRASE_WORDS_[plastic]', -0.005366365552913864), (u'TAB_e2_NEIGHBOR_PHRASE_WORDS_[;]', -0.005366365552913864), (u'TAB_e2_RIGHT_WORDS_[complement :]', -0.005366365552913864), (u'TAB_e2_NEIGHBOR_PHRASE_WORDS_[transistor in]', -0.005366365552913864), (u'TAB_e2_NEIGHBOR_PHRASE_WORDS_[plastic package]', -0.005366365552913864), (u'TDL_INV_LEMMA:SEQ-BETWEEN[type :]', -0.005353865168110537), (u'TAB_e1_ROW_WORDS_[1 =]', -0.005338014027318898), (u'TAB_e1_ROW_WORDS_[= b]', -0.005338014027318898), (u'TAB_e1_ROW_WORDS_[= e]', -0.005338014027318898), (u'TAB_e1_ROW_WORDS_[= c]', -0.005338014027318898), (u'TAB_e1_ROW_WORDS_[3 =]', -0.005338014027318898), (u'TAB_e1_ROW_WORDS_[2 =]', -0.005338014027318898), (u'TDL_LEMMA:BETWEEN-MENTION-and-MENTION[bc338]', 0.005337889099831601), (u'TAB_e1_NEIGHBOR_PHRASE_WORDS_[t]', 0.005331249597314235), (u'TAB_e2_NEIGHBOR_PHRASE_WORDS_[bc338 -]', -0.0053221236420058615), (u'TDL_INV_LEMMA:LEFT-OF-MENTION[:]', -0.0053041262672883244), (u'TAB_e1_ROW_WORDS_[sot323]', -0.005271659906459237), (u'TAB_e2_NEIGHBOR_PHRASE_WORDS_[3]', 0.005245411599316434), (u'TAB_e2_NEIGHBOR_PHRASE_WORDS_[bc8561.pdf]', 0.005245411599316434), (u'TAB_e2_LEFT_WORDS_[purpose transistor]', 0.005245411599316434), (u'TAB_e2_NEIGHBOR_PHRASE_WORDS_[sot-23 case]', 0.005242819638154135), (u'TAB_e2_LEFT_WORDS_[mount]', 0.005242819638154135), (u'TAB_e2_NEIGHBOR_PHRASE_WORDS_[sot-23]', 0.005242819638154135), (u'TAB_e2_LEFT_WORDS_[surface]', 0.005242819638154135), (u'TAB_e2_LEFT_WORDS_[surface mount]', 0.005242819638154135), (u'TDL_INV_LEMMA:LEFT-OF-MENTION[the]', -0.005242095870557622), (u'TAB_e1_NEIGHBOR_PHRASE_WORDS_[semiconductor 2n3905]', -0.005219031703837315), (u'TAB_e1_NEIGHBOR_PHRASE_WORDS_[2n3905 and]', -0.005219031703837315), (u'TAB_e2_NEIGHBOR_PHRASE_WORDS_[this transistor]', -0.005213041286936807), (u'TAB_e2_NEIGHBOR_PHRASE_WORDS_[, -25]', -0.005213041286936807), (u'TAB_e2_NEIGHBOR_PHRASE_WORDS_[-16]', -0.005213041286936807), (u'TAB_e2_RIGHT_WORDS_[bc328 are]', -0.005213041286936807), (u'TAB_e2_RIGHT_WORDS_[bc327]', -0.005213041286936807), (u'TAB_e2_RIGHT_WORDS_[transistors bc327]', -0.005213041286936807), (u'TAB_e2_RIGHT_WORDS_[and bc328]', -0.005213041286936807), (u'TAB_e2_NEIGHBOR_PHRASE_WORDS_[available subdivided]', -0.005213041286936807), (u'TAB_e2_NEIGHBOR_PHRASE_WORDS_[transistor is]', -0.005213041286936807), (u'TAB_e2_NEIGHBOR_PHRASE_WORDS_[groups -16]', -0.005213041286936807), (u'TAB_e2_RIGHT_WORDS_[bc327 and]', -0.005213041286936807), (u'TAB_e2_NEIGHBOR_PHRASE_WORDS_[-40]', -0.005213041286936807), (u'TAB_e2_NEIGHBOR_PHRASE_WORDS_[, this]', -0.005213041286936807), (u'TAB_e2_NEIGHBOR_PHRASE_WORDS_[is also]', -0.005213041286936807), (u'TAB_e2_RIGHT_WORDS_[bc328]', -0.005213041286936807), (u'TAB_e2_NEIGHBOR_PHRASE_WORDS_[and -40]', -0.005213041286936807), (u'TAB_e2_NEIGHBOR_PHRASE_WORDS_[-40 ,]', -0.005213041286936807), (u'TAB_e2_NEIGHBOR_PHRASE_WORDS_[, according]', -0.005213041286936807), (u'TAB_e2_NEIGHBOR_PHRASE_WORDS_[-25 ,]', -0.005213041286936807), (u'TAB_e2_NEIGHBOR_PHRASE_WORDS_[-16 ,]', -0.005213041286936807), (u'TAB_e2_NEIGHBOR_PHRASE_WORDS_[these types]', -0.005213041286936807), (u'TAB_e2_NEIGHBOR_PHRASE_WORDS_[-25]', -0.005213041286936807), (u'TAB_e2_NEIGHBOR_PHRASE_WORDS_[also available]', -0.005213041286936807), (u'TAB_e2_NEIGHBOR_PHRASE_WORDS_[their dc]', -0.005213041286936807), (u'TAB_e2_NEIGHBOR_PHRASE_WORDS_[, bc547]', 0.005210369232757103), (u'TAB_e2_NEIGHBOR_PHRASE_WORDS_[bc547 ,]', 0.005210369232757103), (u'TAB_e2_NEIGHBOR_PHRASE_WORDS_[bc546 ,]', 0.005210369232757103), (u'TAB_e2_NEIGHBOR_PHRASE_WORDS_[case -]', 0.005204582981811284), (u'TAB_e2_NEIGHBOR_PHRASE_WORDS_[outline]', 0.005204582981811284), (u'TAB_e2_NEIGHBOR_PHRASE_WORDS_[mechanical]', 0.005204582981811284), (u'TAB_e2_NEIGHBOR_PHRASE_WORDS_[mechanical outline]', 0.005204582981811284), (u'TAB_e2_NEIGHBOR_PHRASE_WORDS_[- mechanical]', 0.005204582981811284), (u'TAB_e1_COL_WORDS_[bc338]', 0.005174464500008644), (u'TAB_e1_LEFT_WORDS_[bc547]', 0.005156207851738293), (u'TAB_e1_RIGHT_WORDS_[b]', 0.005149904047305167), (u'TAB_e2_LEFT_WORDS_[transistors (]', 0.0051466739546461105), (u'TAB_e1_NEIGHBOR_PHRASE_WORDS_[30]', -0.005133841903276071), (u'TAB_e1_NEIGHBOR_PHRASE_WORDS_[hz and]', -0.005133841903276071), (u'TAB_e1_NEIGHBOR_PHRASE_WORDS_[849]', -0.005133841903276071), (u'TAB_e1_NEIGHBOR_PHRASE_WORDS_[30 hz]', -0.005133841903276071), (u'TAB_e1_NEIGHBOR_PHRASE_WORDS_[between 30]', -0.005133841903276071), (u'TAB_e1_NEIGHBOR_PHRASE_WORDS_[15]', -0.005133841903276071), (u'TAB_e1_NEIGHBOR_PHRASE_WORDS_[15 khz]', -0.005133841903276071), (u'TAB_e1_NEIGHBOR_PHRASE_WORDS_[between]', -0.005133841903276071), (u'TAB_e1_NEIGHBOR_PHRASE_WORDS_[low noise]', -0.005133841903276071), (u'TAB_e1_NEIGHBOR_PHRASE_WORDS_[and 15]', -0.005133841903276071), (u'TAB_e1_NEIGHBOR_PHRASE_WORDS_[hz]', -0.005133841903276071), (u'TAB_e1_NEIGHBOR_PHRASE_WORDS_[849 ,]', -0.005133841903276071), (u'TAB_e1_NEIGHBOR_PHRASE_WORDS_[850 (]', -0.005133841903276071), (u'TAB_e1_NEIGHBOR_PHRASE_WORDS_[noise between]', -0.005133841903276071), (u'TAB_e1_NEIGHBOR_PHRASE_WORDS_[bc 849]', -0.005133841903276071), (u'TAB_e1_NEIGHBOR_PHRASE_WORDS_[noise]', -0.005133841903276071), (u'TAB_e1_NEIGHBOR_PHRASE_WORDS_[850]', -0.005133841903276071), (u'TAB_e1_NEIGHBOR_PHRASE_WORDS_[khz]', -0.005133841903276071), (u'TAB_e1_NEIGHBOR_PHRASE_WORDS_[bc 850]', -0.005133841903276071), (u'TAB_e2_NEIGHBOR_PHRASE_WORDS_[digital]', 0.005133461021468216), (u'TDL_INV_DEP_LABEL|LEMMA:BETWEEN-MENTION-and-MENTION[ROOT|bc548]', 0.005124350503945566), (u'TDL_INV_LEMMA:BETWEEN-MENTION-and-MENTION[bc548]', 0.005124350503945566), (u'TAB_e2_NEIGHBOR_PHRASE_WORDS_[into]', 0.005050686142387598), (u'TAB_e2_NEIGHBOR_PHRASE_WORDS_[into three]', 0.005050686142387598), (u'TAB_e2_NEIGHBOR_PHRASE_WORDS_[subdivided into]', 0.005050686142387598), (u'TAB_e2_NEIGHBOR_PHRASE_WORDS_[subdivided]', 0.005050686142387598), (u'TAB_e2_NEIGHBOR_PHRASE_WORDS_[three groups]', 0.005050686142387598), (u'TAB_e2_NEIGHBOR_PHRASE_WORDS_[three]', 0.005050686142387598), (u'TAB_e1_NEIGHBOR_PHRASE_WORDS_[3]', 0.005050594643074309), (u'TAB_e2_NEIGHBOR_PHRASE_WORDS_[dc current]', -0.00503341532842501), (u'TAB_e2_NEIGHBOR_PHRASE_WORDS_[dc]', -0.00503341532842501), (u'TAB_e1_COL_WORDS_[bc546c]', 0.005011990745445188), (u'TAB_e1_NEIGHBOR_PHRASE_WORDS_[2014]', 0.0050098612592394025), (u'TAB_e1_NEIGHBOR_PHRASE_WORDS_[t j]', 0.005006873750080923), (u'TAB_e1_NEIGHBOR_PHRASE_WORDS_[http://www.diotec.com/ 1]', 0.005006873750080923), (u'TAB_e1_NEIGHBOR_PHRASE_WORDS_[diotec]', 0.005006873750080923), (u'TAB_e1_NEIGHBOR_PHRASE_WORDS_[semiconductor ag]', 0.005006873750080923), (u'TAB_e1_NEIGHBOR_PHRASE_WORDS_[j =]', 0.005006873750080923), (u'TAB_e1_NEIGHBOR_PHRASE_WORDS_[ag]', 0.005006873750080923), (u'TAB_e1_NEIGHBOR_PHRASE_WORDS_[ag http://www.diotec.com/]', 0.005006873750080923), (u'TAB_e1_NEIGHBOR_PHRASE_WORDS_[http://www.diotec.com/]', 0.005006873750080923), (u'TAB_e1_NEIGHBOR_PHRASE_WORDS_[diotec semiconductor]', 0.005006873750080923), (u'TAB_e1_NEIGHBOR_PHRASE_WORDS_[j]', 0.005006873750080923), (u'TAB_e1_NEIGHBOR_PHRASE_WORDS_[amplifier transistors]', 0.0049859077661832205), (u'TAB_e1_NEIGHBOR_PHRASE_WORDS_[( t]', 0.004984929353667313), (u'TAB_e1_COL_WORDS_[*]', -0.004964975629854205), (u'TAB_e2_NEIGHBOR_PHRASE_WORDS_[this device]', 0.004948565672271597), (u'TAB_e2_NEIGHBOR_PHRASE_WORDS_[device is]', 0.004948565672271597), (u'TAB_e1_NEIGHBOR_PHRASE_WORDS_[general-purpose amplifier]', 0.004945585953534405), (u'TAB_e1_NEIGHBOR_PHRASE_WORDS_[their current]', 0.004921418632551869), (u'TAB_e1_NEIGHBOR_PHRASE_WORDS_[c according]', 0.004921418632551869), (u'TAB_e1_NEIGHBOR_PHRASE_WORDS_[are subdivided]', 0.004921418632551869), (u'TAB_e2_NEIGHBOR_PHRASE_WORDS_[current gain]', -0.004885762163748321), (u'TAB_e2_NEIGHBOR_PHRASE_WORDS_[gain]', -0.004885762163748321), (u'TAB_e1_LEFT_WORDS_[bc856]', 0.004875095042903691), (u'TDL_INV_LEMMA:SEQ-BETWEEN[PNP transistor]', -0.004860295800031156), (u'TDL_INV_LEMMA:SEQ-BETWEEN[PNP]', -0.004860295800031156), (u'TAB_e2_NEIGHBOR_PHRASE_WORDS_[bc849w]', 0.004855324308199691), (u'TAB_e2_NEIGHBOR_PHRASE_WORDS_[bc846w]', 0.004855324308199691), (u'TAB_e2_NEIGHBOR_PHRASE_WORDS_[... bc849w]', 0.004855324308199691), (u'TAB_e2_NEIGHBOR_PHRASE_WORDS_[bc846w ...]', 0.004855324308199691), (u'TAB_e1_COL_WORDS_[/ bc547]', 0.004849926092850577), (u'TAB_e2_NEIGHBOR_PHRASE_WORDS_[bias]', 0.004847787327517388), (u'TAB_e2_LEFT_WORDS_[ma]', 0.0048370193883405365), (u'TAB_e2_LEFT_WORDS_[, 100]', 0.0048370193883405365), (u'TAB_e2_LEFT_WORDS_[v ,]', 0.0048370193883405365), (u'TAB_e2_LEFT_WORDS_[65 v]', 0.0048370193883405365), (u'TAB_e2_LEFT_WORDS_[v]', 0.0048370193883405365), (u'TAB_e2_LEFT_WORDS_[100]', 0.0048370193883405365), (u'TAB_e2_LEFT_WORDS_[100 ma]', 0.0048370193883405365), (u'TAB_e2_LEFT_WORDS_[65]', 0.0048370193883405365), (u'TDL_INV_DEP_LABEL:BETWEEN-MENTION-and-MENTION[compound]', -0.004835990201451748), (u'TAB_e1_NEIGHBOR_PHRASE_WORDS_[, bc]', -0.004828733712481299), (u'TAB_e1_NEIGHBOR_PHRASE_WORDS_[bc]', -0.004828733712481299), (u'TAB_e1_NEIGHBOR_PHRASE_WORDS_[bc849w]', -0.004827317563382359), (u'TAB_e1_COL_WORDS_[bc33725tf]', 0.004815219791981741), (u'TAB_e1_COL_WORDS_[bc33725tfr]', 0.004813368641168174), (u'TAB_e1_NEIGHBOR_PHRASE_WORDS_[p65]', 0.004808186811676752), (u'TAB_e1_NEIGHBOR_PHRASE_WORDS_[thermal characteristics]', 0.004801989548642269), (u'TAB_e1_COL_WORDS_[bc546 /]', 0.004801692961171562), (u'TDL_LEMMA:RIGHT-OF-MENTION[pnp]', -0.004800786473557432), (u'TAB_e1_COL_WORDS_[bc33716tfr]', 0.004797429767380008), (u'TAB_e1_COL_WORDS_[bc33725ta]', 0.004796180807671358), (u'TAB_e1_COL_WORDS_[bc33725tar]', 0.004796035993995074), (u'TAB_e1_COL_WORDS_[bc33716ta]', 0.004780009910278568), (u'TAB_e1_COL_WORDS_[bc33725bu]', 0.004778016277617117), (u'TAB_e1_COL_WORDS_[bc33740ta]', 0.004773069268596486), (u'TAB_e1_COL_WORDS_[bc33825ta]', 0.0047709356890777285), (u'TAB_e1_RIGHT_WORDS_[general-purpose amplifier]', 0.004769814625702635), (u'TAB_e1_COL_WORDS_[bc33716bu]', 0.004769352417672796), (u'TAB_e1_COL_WORDS_[bc33740bu]', 0.004762958865955964), (u'TAB_e2_NEIGHBOR_PHRASE_WORDS_[ammo]', -0.00476235240382172), (u'TAB_e1_RIGHT_WORDS_[2n3904]', -0.004735886961401671), (u'TAB_e1_RIGHT_WORDS_[2n3904 .]', -0.004735886961401671), (u'TAB_e2_NEIGHBOR_PHRASE_WORDS_[bc818]', 0.004721898700205988), (u'TAB_e2_NEIGHBOR_PHRASE_WORDS_[bc817]', 0.004721898700205988), (u'TAB_e2_NEIGHBOR_PHRASE_WORDS_[datasheet]', 0.004721898700205988), (u'TAB_e2_NEIGHBOR_PHRASE_WORDS_[to bc818]', 0.004721898700205988), (u'TAB_e2_NEIGHBOR_PHRASE_WORDS_[bc817 to]', 0.004721898700205988), (u'TAB_e2_NEIGHBOR_PHRASE_WORDS_[datasheet bc817]', 0.004721898700205988), (u'TAB_e1_NEIGHBOR_PHRASE_WORDS_[transistors]', 0.00471418719760977), (u'TAB_e2_LEFT_WORDS_[signal transistors]', 0.004684304487627308), (u'TAB_e1_LEFT_WORDS_[bc337]', 0.004676604808389848), (u'TDL_INV_LEMMA:SEQ-BETWEEN[=]', 0.004673051710595644), (u'TAB_e1_NEIGHBOR_PHRASE_WORDS_[low]', -0.004654160983680183), (u'TDL_LEMMA:BETWEEN-MENTION-and-MENTION[bc546]', 0.004652772384539169), (u'TDL_INV_DEP_LABEL|LEMMA:BETWEEN-MENTION-and-MENTION[nsubj|bc546]', 0.004647667150300116), (u'TDL_INV_LEMMA:RIGHT-OF-MENTION[type]', 0.004647667150300116), (u'TAB_e1_ROW_WORDS_[sot23]', -0.004625413238301425), (u'TDL_INV_LEMMA:PARENTS-OF-BETWEEN-MENTION-and-MENTION[None complement]', -0.004607175769001052), (u'TDL_INV_LEMMA:PARENTS-OF-BETWEEN-MENTION-and-MENTION[complement]', -0.004607175769001052), (u'TDL_INV_LEMMA:RIGHT-OF-MENTION[bc560]', -0.004607175769001052), (u'TDL_LEMMA:LEFT-OF-MENTION[-]', 0.004605902060761105), (u'TDL_INV_LEMMA:SEQ-BETWEEN[pnp type]', -0.004600770169134997), (u'TDL_INV_LEMMA:SEQ-BETWEEN[bc547]', 0.004599010989029088), (u'TDL_DEP_LABEL|LEMMA:BETWEEN-MENTION-and-MENTION[ROOT|bc546]', 0.004569362649996617), (u'TAB_e1_RIGHT_WORDS_[bc548]', 0.004561076249045847), (u'TAB_e2_NEIGHBOR_PHRASE_WORDS_[purpose amplifier]', -0.00455203583006918), (u'TAB_e1_NEIGHBOR_PHRASE_WORDS_[, b]', 0.004532676847453247), (u'TDL_INV_DEP_LABEL|LEMMA:BETWEEN-MENTION-and-MENTION[ROOT|bc546]', 0.004505585088589029), (u'TDL_INV_LEMMA:BETWEEN-MENTION-and-MENTION[bc856]', 0.004442425716006765), (u'TDL_INV_DEP_LABEL|LEMMA:BETWEEN-MENTION-and-MENTION[ROOT|bc856]', 0.004442425716006765), (u'TAB_e1_CONTAINS_WORDS_[BC547B-THE]', -0.004436952432550892), (u'TAB_e1_LEFT_WORDS_[low-noise :]', 0.004427262253004652), (u'TAB_e1_NEIGHBOR_PHRASE_WORDS_[general]', 0.004401533407463822), (u'TAB_e1_NEIGHBOR_PHRASE_WORDS_[purpose]', 0.004401533407463822), (u'TAB_e1_NEIGHBOR_PHRASE_WORDS_[general purpose]', 0.004401533407463822), (u'TAB_e1_RIGHT_WORDS_[general-purpose]', 0.004399418137865789), (u'TDL_LEMMA:BETWEEN-MENTION-and-MENTION[f]', -0.004395222531580679), (u'TDL_DEP_LABEL|LEMMA:BETWEEN-MENTION-and-MENTION[ROOT|f]', -0.004395222531580679), (u'TDL_DEP_LABEL|LEMMA:BETWEEN-MENTION-and-MENTION[dep|bc338]', 0.004394345069944395), (u'TAB_e1_COL_WORDS_[bc 860]', -0.004382373758884267), (u'TAB_e1_COL_WORDS_[860]', -0.004382373758884267), (u'TAB_e1_ROW_WORDS_[e]', -0.004365420975809837), (u'TAB_e1_RIGHT_WORDS_[the pnp]', -0.004365126787555166), (u'TAB_e1_RIGHT_WORDS_[the]', -0.004365126787555166), (u'TAB_e1_RIGHT_WORDS_[- the]', -0.004365126787555166), (u'TAB_e1_NEIGHBOR_PHRASE_WORDS_[absolute maximum]', 0.00436480679970485), (u'TDL_INV_LEMMA:SEQ-BETWEEN[bc327]', -0.004341173675219202), (u'TAB_e2_NEIGHBOR_PHRASE_WORDS_[bc549xbk]', 0.00433468373648272), (u'TAB_e2_NEIGHBOR_PHRASE_WORDS_[bc546xbk ...]', 0.00433468373648272), (u'TAB_e2_NEIGHBOR_PHRASE_WORDS_[bc546xbk]', 0.00433468373648272), (u'TAB_e2_NEIGHBOR_PHRASE_WORDS_[... bc549xbk]', 0.00433468373648272), (u'TDL_INV_LEMMA:RIGHT-OF-MENTION[komplement?re]', 0.0043305602826755624), (u'TDL_INV_LEMMA:SEQ-BETWEEN[komplement?re]', 0.0043305602826755624), (u'TAB_e1_RIGHT_WORDS_[pnp general-purpose]', 0.004329211362765546), (u'TDL_INV_DEP_LABEL:BETWEEN-MENTION-and-MENTION[ROOT compound]', -0.004291943211661816), (u'TAB_e1_CONTAINS_WORDS_[BC33716]', -0.004284297199255183), (u'TDL_INV_LEMMA:RIGHT-OF-MENTION[...]', -0.004275370505062594), (u'TDL_INV_LEMMA:LEFT-OF-MENTION[komplement?re]', -0.004275370505062594), (u'TAB_DIFF_TABLE_ROW_DIFF_[2]', -0.004245390512462257), (u'TAB_e1_NEIGHBOR_PHRASE_WORDS_[a ,]', 0.004244015409112144), (u'TAB_e1_LEFT_WORDS_[bc547b]', -0.0042435812235095795), (u'TAB_e2_RIGHT_WORDS_[amplifier transistors]', 0.0042435135746026476), (u'TAB_e2_RIGHT_WORDS_[darlington]', 0.004229834173347888), (u'TAB_e2_RIGHT_WORDS_[darlington transistor]', 0.004229834173347888), (u'TAB_e1_COL_WORDS_[dtc114we]', -0.004223090937275499), (u'TAB_e1_ROW_WORDS_[,]', 0.004220942390941735), (u'TAB_e1_NEIGHBOR_PHRASE_WORDS_[v]', 0.00421991667959534), (u'TAB_e1_RIGHT_WORDS_[groups]', 0.004208944966417817), (u'TAB_e1_NEIGHBOR_PHRASE_WORDS_[npn amplifier]', 0.004200839620322023), (u'TAB_e1_ROW_WORDS_[?]', 0.004197020863333585), (u'TAB_e1_COL_WORDS_[dtc114wka]', -0.004176100482133475), (u'TAB_e2_NEIGHBOR_PHRASE_WORDS_[mark]', 0.004175449461150221), (u'TAB_e2_NEIGHBOR_PHRASE_WORDS_[mark :]', 0.004175449461150221), (u'TAB_e1_CONTAINS_WORDS_[BC549]', 0.004170041643320367), (u'TAB_e2_NEIGHBOR_PHRASE_WORDS_[and amplifier]', -0.004155381303616819), (u'TAB_e2_NEIGHBOR_PHRASE_WORDS_[switching and]', -0.004155381303616819), (u'TAB_e2_RIGHT_WORDS_[2n3904 )]', -0.004155381303616819), (u'TAB_e2_RIGHT_WORDS_[( 2n3904]', -0.004155381303616819), (u'TAB_e2_NEIGHBOR_PHRASE_WORDS_[for switching]', -0.004155381303616819), (u'TAB_e2_RIGHT_WORDS_[available (]', -0.004155381303616819), (u'TAB_e2_RIGHT_WORDS_[available]', -0.004155381303616819), (u'TAB_e2_RIGHT_WORDS_[types available]', -0.004155381303616819), (u'TAB_e1_COL_WORDS_[collector-base]', 0.0041485377332756675), (u'TAB_e1_ROW_WORDS_[sc-70]', -0.004145324923451279), (u'TAB_e1_COL_WORDS_[/]', 0.004141962066742467), (u'TDL_INV_LEMMA:SEQ-BETWEEN[b ,]', 0.004137425273357755), (u'TDL_INV_DEP_LABEL:BETWEEN-MENTION-and-MENTION[ROOT]', 0.004115067963798405), (u'TAB_e2_NEIGHBOR_PHRASE_WORDS_[number]', -0.004082439877757412), (u'TAB_e1_COL_WORDS_[collector-emitter]', 0.004071756654952177), (u'TDL_INV_LEMMA:SEQ-BETWEEN[bc557 , bc558]', -0.004042343867449564), (u'TDL_INV_LEMMA:SEQ-BETWEEN[, bc558]', -0.004042343867449564), (u'TDL_INV_LEMMA:SEQ-BETWEEN[bc558]', -0.004042343867449564), (u'TAB_DIFF_TABLE_COL_DIFF_[0]', -0.004028281561225053), (u'TAB_e1_COL_HEAD_WORDS_[bc337]', 0.004004395363559558), (u'TDL_LEMMA:RIGHT-OF-MENTION[complementary]', -0.004001292746548572), (u'TDL_LEMMA:LEFT-OF-MENTION[the]', -0.004001292746548572), (u'TDL_INV_DEP_LABEL|LEMMA:BETWEEN-MENTION-and-MENTION[ROOT|High-Voltage]', 0.003959717091040507), (u'TDL_INV_LEMMA:BETWEEN-MENTION-and-MENTION[High-Voltage]', 0.003959717091040507), (u'TAB_e2_RIGHT_WORDS_[series]', -0.003954407082600898), (u'TAB_e1_NEIGHBOR_PHRASE_WORDS_[transistors ,]', 0.003953763357484349), (u'TDL_LEMMA:RIGHT-OF-MENTION[v]', -0.00394952077915458), (u'TAB_e1_LEFT_WORDS_[to bc327]', -0.0039388345678940135), (u'TAB_e1_LEFT_WORDS_[bc327 /]', -0.0039388345678940135), (u'TAB_e1_CONTAINS_WORDS_[BC550]', 0.0039291022432982395), (u'TAB_e1_LEFT_WORDS_[b]', 0.003908967675436477), (u'TAB_e2_NEIGHBOR_PHRASE_WORDS_[2n3906 /]', 0.0039083275371706175), (u'TAB_e2_NEIGHBOR_PHRASE_WORDS_[mmbt3906 /]', 0.0039083275371706175), (u'TAB_e2_NEIGHBOR_PHRASE_WORDS_[/ pzt3906]', 0.0039083275371706175), (u'TAB_e2_NEIGHBOR_PHRASE_WORDS_[/ mmbt3906]', 0.0039083275371706175), (u'TAB_e2_RIGHT_WORDS_[for]', -0.0038930503867479873), (u'TAB_e1_RIGHT_WORDS_[, bc859]', 0.0038692364388857843), (u'TAB_e1_RIGHT_WORDS_[bc859 series]', 0.0038590697215070166), (u'TAB_e2_NEIGHBOR_PHRASE_WORDS_[data]', 0.003858839633772222), (u'TDL_INV_LEMMA:RIGHT-OF-MENTION[=]', 0.0038561711962029994), (u'TAB_e1_ROW_WORDS_[25]', 0.0038477360137504925), (u'TAB_e2_NEIGHBOR_PHRASE_WORDS_[applications]', -0.0038476593143568806), (u'TAB_e2_NEIGHBOR_PHRASE_WORDS_[current]', 0.003840302056655177), (u'TAB_e2_NEIGHBOR_PHRASE_WORDS_[of]', 0.0038282713567223438), (u'TAB_e1_NEIGHBOR_PHRASE_WORDS_[semiconductor]', 0.0038246945714555136), (u'TAB_e2_RIGHT_WORDS_[;]', -0.00381686805150777), (u'TAB_e2_RIGHT_WORDS_[sot54]', -0.00381686805150777), (u'TAB_e2_RIGHT_WORDS_[plastic]', -0.00381686805150777), (u'TAB_e2_NEIGHBOR_PHRASE_WORDS_[2n4126]', -0.00381686805150777), (u'TAB_e2_NEIGHBOR_PHRASE_WORDS_[complement]', -0.00381686805150777), (u'TAB_e2_RIGHT_WORDS_[; sot54]', -0.00381686805150777), (u'TAB_e2_RIGHT_WORDS_[to-92 ;]', -0.00381686805150777), (u'TAB_e2_RIGHT_WORDS_[transistor in]', -0.00381686805150777), (u'TAB_e2_NEIGHBOR_PHRASE_WORDS_[pnp complement]', -0.00381686805150777), (u'TAB_e2_RIGHT_WORDS_[to-92]', -0.00381686805150777), (u'TAB_e2_RIGHT_WORDS_[sot54 plastic]', -0.00381686805150777), (u'TAB_e2_NEIGHBOR_PHRASE_WORDS_[complement :]', -0.00381686805150777), (u'TAB_e2_RIGHT_WORDS_[a]', -0.00381686805150777), (u'TAB_e2_RIGHT_WORDS_[a to-92]', -0.00381686805150777), (u'TAB_e2_RIGHT_WORDS_[in a]', -0.00381686805150777), (u'TAB_e2_NEIGHBOR_PHRASE_WORDS_[: 2n4126]', -0.00381686805150777), (u'TAB_e2_NEIGHBOR_PHRASE_WORDS_[2n4126 .]', -0.00381686805150777), (u'TDL_DEP_LABEL|LEMMA:BETWEEN-MENTION-and-MENTION[ROOT|bc846w]', -0.003816398652966393), (u'TDL_LEMMA:BETWEEN-MENTION-and-MENTION[bc846w]', -0.003816398652966393), (u'TAB_e1_NEIGHBOR_PHRASE_WORDS_[purpose amplifier]', -0.003808885369484126), (u'TAB_e1_NEIGHBOR_PHRASE_WORDS_[e]', 0.0037999369322648446), (u'TAB_e2_NEIGHBOR_PHRASE_WORDS_[pzt3906 -]', 0.0037950009120441977), (u'TAB_e2_NEIGHBOR_PHRASE_WORDS_[pnp general-purpose]', 0.0037950009120441977), (u'TAB_e2_NEIGHBOR_PHRASE_WORDS_[general-purpose]', 0.0037950009120441977), (u'TAB_e2_NEIGHBOR_PHRASE_WORDS_[- pnp]', 0.0037950009120441977), (u'TAB_e2_NEIGHBOR_PHRASE_WORDS_[general-purpose amplifier]', 0.0037950009120441977), (u'TAB_e1_LEFT_WORDS_[mmbt3906]', 0.0037876161247795007), (u'TDL_INV_LEMMA:SEQ-BETWEEN[be]', -0.003764727537756002), (u'TAB_e1_ROW_WORDS_[1]', -0.0037473725655606813), (u'TAB_e2_NEIGHBOR_PHRASE_WORDS_[april]', 0.0037424693026512673), (u'TDL_LEMMA:BETWEEN-MENTION-and-MENTION[bc337]', 0.003729568438871861), (u'TDL_DEP_LABEL|LEMMA:BETWEEN-MENTION-and-MENTION[ROOT|bc337]', 0.003729568438871861), (u'TAB_e1_CONTAINS_WORDS_[BC547B]', -0.0037237583398440225), (u'TAB_e1_LEFT_WORDS_[semiconductor]', 0.0037043156222656146), (u'TAB_e1_LEFT_WORDS_[central semiconductor]', 0.0037043156222656146), (u'TAB_e1_RIGHT_WORDS_[/]', 0.0037017231508712813), (u'TAB_e1_ROW_WORDS_[i c]', 0.003697368338317994), (u'TAB_e1_ROW_WORDS_[c =]', 0.003697368338317994), (u'TAB_e2_NEIGHBOR_PHRASE_WORDS_[to-92 /]', 0.0036873162428170806), (u'TAB_e2_NEIGHBOR_PHRASE_WORDS_[ammopack]', 0.0036873162428170806), (u'TAB_e2_NEIGHBOR_PHRASE_WORDS_[/ ammopack]', 0.0036873162428170806), (u'TAB_e2_LEFT_WORDS_[silicon epitaxial]', 0.0036873162428170806), (u'TAB_e2_NEIGHBOR_PHRASE_WORDS_[lead]', -0.0036728447546326357), (u'TAB_e1_RIGHT_WORDS_[pzt3906]', 0.0036684301687103784), (u'TAB_e1_NEIGHBOR_PHRASE_WORDS_[npn small]', 0.0036583604622330806), (u'TAB_e1_ROW_INFERRED_WORDS_[,]', 0.003608790406852008), (u'TAB_e1_COL_INFERRED_WORDS_[,]', 0.003608790406852008), (u'TDL_INV_LEMMA:BETWEEN-MENTION-and-MENTION[be type]', -0.0036016288121366946), (u'TAB_e1_CONTAINS_WORDS_[BC557B]', -0.0036016288121366946), (u'TAB_e1_LEFT_WORDS_[- the]', -0.0036016288121366946), (u'TDL_INV_DEP_LABEL|LEMMA:BETWEEN-MENTION-and-MENTION[ROOT|be nsubj|type]', -0.0036016288121366946), (u'TAB_e1_LEFT_WORDS_[complementary type]', -0.0036016288121366946), (u'TAB_e1_LEFT_WORDS_[bc547b -]', -0.0036016288121366946), (u'TAB_e1_LEFT_WORDS_[type is]', -0.0036016288121366946), (u'TAB_e1_LEFT_WORDS_[is]', -0.0036016288121366946), (u'TDL_INV_LEMMA:BETWEEN-MENTION-and-MENTION[be]', -0.0036016288121366946), (u'TDL_INV_DEP_LABEL|LEMMA:BETWEEN-MENTION-and-MENTION[ROOT|be]', -0.0036016288121366946), (u'TAB_e1_LEFT_WORDS_[pnp complementary]', -0.0036016288121366946), (u'TAB_e1_NEIGHBOR_PHRASE_WORDS_[, manufactured]', 0.0035735781732373216), (u'TAB_e1_NEIGHBOR_PHRASE_WORDS_[devices are]', 0.0035735781732373216), (u'TAB_e1_NEIGHBOR_PHRASE_WORDS_[devices]', 0.0035735781732373216), (u'TAB_e1_NEIGHBOR_PHRASE_WORDS_[are silicon]', 0.0035735781732373216), (u'TAB_e1_NEIGHBOR_PHRASE_WORDS_[bc548 series]', 0.0035735781732373216), (u'TAB_e1_NEIGHBOR_PHRASE_WORDS_[series devices]', 0.0035735781732373216), (u'TAB_e1_NEIGHBOR_PHRASE_WORDS_[silicon npn]', 0.0035735781732373216), (u'TAB_e1_NEIGHBOR_PHRASE_WORDS_[bc846w]', -0.0035455508491224175), (u'TAB_e1_NEIGHBOR_PHRASE_WORDS_[bc846w ...]', -0.0035455508491224175), (u'TAB_e1_CONTAINS_WORDS_[BC327/]', -0.0035154650432465814), (u'TAB_e2_NEIGHBOR_PHRASE_WORDS_[especially]', 0.0034929264074655937), (u'TAB_e2_NEIGHBOR_PHRASE_WORDS_[insertion]', 0.0034929264074655937), (u'TAB_e2_NEIGHBOR_PHRASE_WORDS_[thin-film]', 0.0034929264074655937), (u'TAB_e2_NEIGHBOR_PHRASE_WORDS_[for automatic]', 0.0034929264074655937), (u'TAB_e2_NEIGHBOR_PHRASE_WORDS_[suited for]', 0.0034929264074655937), (u'TAB_e2_NEIGHBOR_PHRASE_WORDS_[insertion in]', 0.0034929264074655937), (u'TAB_e2_NEIGHBOR_PHRASE_WORDS_[circuits .]', 0.0034929264074655937), (u'TAB_e2_NEIGHBOR_PHRASE_WORDS_[thin-film circuits]', 0.0034929264074655937), (u'TAB_e2_NEIGHBOR_PHRASE_WORDS_[especially suited]', 0.0034929264074655937), (u'TAB_e2_NEIGHBOR_PHRASE_WORDS_[automatic]', 0.0034929264074655937), (u'TAB_e2_NEIGHBOR_PHRASE_WORDS_[in thick]', 0.0034929264074655937), (u'TAB_e2_NEIGHBOR_PHRASE_WORDS_[thick and]', 0.0034929264074655937), (u'TAB_e2_NEIGHBOR_PHRASE_WORDS_[circuits]', 0.0034929264074655937), (u'TAB_e2_RIGHT_WORDS_[switching ,]', 0.0034929264074655937), (u'TAB_e2_NEIGHBOR_PHRASE_WORDS_[automatic insertion]', 0.0034929264074655937), (u'TAB_e2_NEIGHBOR_PHRASE_WORDS_[and thin-film]', 0.0034929264074655937), (u'TAB_e2_NEIGHBOR_PHRASE_WORDS_[suited]', 0.0034929264074655937), (u'TAB_e2_NEIGHBOR_PHRASE_WORDS_[thick]', 0.0034929264074655937), (u'TAB_e1_NEIGHBOR_PHRASE_WORDS_[, bc549]', 0.003454407733541988), (u'TAB_e1_NEIGHBOR_PHRASE_WORDS_[bc548 ,]', 0.003454407733541988), (u'TAB_e1_NEIGHBOR_PHRASE_WORDS_[, bc548]', 0.003454407733541988), (u'TAB_e1_RIGHT_WORDS_[/ bc328]', -0.0034426195486643926), (u'TAB_e1_ROW_WORDS_[b]', -0.0034306910871176695), (u'TAB_e1_NEIGHBOR_PHRASE_WORDS_[/ bc549]', 0.0034258126982151865), (u'TAB_e1_NEIGHBOR_PHRASE_WORDS_[bc548 /]', 0.0034258126982151865), (u'TAB_e2_RIGHT_WORDS_[bias]', 0.003423246689705543), (u'TAB_e1_LEFT_WORDS_[bc857]', 0.003412221749618312), (u'TAB_e2_NEIGHBOR_PHRASE_WORDS_[silicon]', -0.00341186687046407), (u'TDL_INV_LEMMA:SEQ-BETWEEN[bc546]', 0.003409197598685011), (u'TDL_LEMMA:RIGHT-OF-MENTION[bc328]', -0.0034089427097575846), (u'TDL_LEMMA:LEFT-OF-MENTION[bc327]', -0.0034089427097575846), (u'TDL_INV_LEMMA:RIGHT-OF-MENTION[and]', -0.0033929321540950444), (u'TAB_e1_NEIGHBOR_PHRASE_WORDS_[november]', 0.003385536180698038), (u'TAB_e1_NEIGHBOR_PHRASE_WORDS_[november 2014]', 0.003385536180698038), (u'TAB_e1_NEIGHBOR_PHRASE_WORDS_[, and]', 0.0033762957170003255), (u'TAB_e1_ROW_WORDS_[to-92 /]', -0.0033740579380640624), (u'TDL_INV_DEP_LABEL:BETWEEN-MENTION-and-MENTION[ROOT nsubj]', -0.0033720538766429387), (u'TAB_e1_NEIGHBOR_PHRASE_WORDS_[a]', -0.003364828667920846), (u'TAB_e2_NEIGHBOR_PHRASE_WORDS_[20-november 2009]', 0.003358212144064032), (u'TAB_e2_NEIGHBOR_PHRASE_WORDS_[r1]', 0.003358212144064032), (u'TAB_e2_NEIGHBOR_PHRASE_WORDS_[r1 (]', 0.003358212144064032), (u'TAB_e2_NEIGHBOR_PHRASE_WORDS_[20-november]', 0.003358212144064032), (u'TAB_e2_NEIGHBOR_PHRASE_WORDS_[2009]', 0.003358212144064032), (u'TAB_e2_NEIGHBOR_PHRASE_WORDS_[2009 )]', 0.003358212144064032), (u'TAB_e2_NEIGHBOR_PHRASE_WORDS_[( 20-november]', 0.003358212144064032), (u'TDL_INV_LEMMA:SEQ-BETWEEN[pnp transistor]', -0.0033476428957664017), (u'TDL_INV_LEMMA:BETWEEN-MENTION-and-MENTION[type transistor recommend]', -0.0033476428957664017), (u'TDL_INV_DEP_LABEL:BETWEEN-MENTION-and-MENTION[ROOT dep acl:relcl]', -0.0033476428957664017), (u'TDL_INV_DEP_LABEL|LEMMA:BETWEEN-MENTION-and-MENTION[ROOT|type dep|transistor acl:relcl|recommend]', -0.0033476428957664017), (u'TDL_INV_DEP_LABEL|LEMMA:BETWEEN-MENTION-and-MENTION[ROOT|type dep|transistor]', -0.0033476428957664017), (u'TDL_INV_LEMMA:SEQ-BETWEEN[the pnp transistor]', -0.0033476428957664017), (u'TDL_INV_LEMMA:SEQ-BETWEEN[the pnp]', -0.0033476428957664017), (u'TDL_INV_LEMMA:SEQ-BETWEEN[type the pnp]', -0.0033476428957664017), (u'TDL_INV_LEMMA:SEQ-BETWEEN[complementary type the]', -0.0033476428957664017), (u'TDL_INV_LEMMA:SEQ-BETWEEN[type the]', -0.0033476428957664017), (u'TAB_e2_NEIGHBOR_PHRASE_WORDS_[/ bc549]', -0.003334021514140394), (u'TAB_e2_NEIGHBOR_PHRASE_WORDS_[bc549 /]', -0.003334021514140394), (u'TAB_e2_NEIGHBOR_PHRASE_WORDS_[/ bc550]', -0.003334021514140394), (u'TAB_e2_NEIGHBOR_PHRASE_WORDS_[bc548 /]', -0.003334021514140394), (u'TDL_INV_LEMMA:PARENTS-OF-BETWEEN-MENTION-and-MENTION[recommend]', -0.0033228550835449388), (u'TDL_INV_LEMMA:PARENTS-OF-BETWEEN-MENTION-and-MENTION[None recommend]', -0.0033228550835449388), (u'TAB_e1_NEIGHBOR_PHRASE_WORDS_[device marking]', 0.0033068763434966454), (u'TAB_e1_RIGHT_WORDS_[bc547]', 0.0032911000694832815), (u'TAB_e1_COL_WORDS_[emitter-base]', 0.0032876927175412066), (u'TAB_e1_NEIGHBOR_PHRASE_WORDS_[bc846 series]', -0.0032698348412192276), (u'TAB_e2_NEIGHBOR_PHRASE_WORDS_[characteristics (]', -0.0032421405534334845), (u'TAB_e2_NEIGHBOR_PHRASE_WORDS_[thermal]', -0.0032421405534334845), (u'TAB_e2_NEIGHBOR_PHRASE_WORDS_[thermal characteristics]', -0.0032421405534334845), (u'TAB_e2_NEIGHBOR_PHRASE_WORDS_[characteristics]', -0.0032421405534334845), (u'TAB_e1_RIGHT_WORDS_[, v]', 0.003236985783946313), (u'TAB_e1_RIGHT_WORDS_[a]', 0.003236830535674587), (u'TAB_e1_NEIGHBOR_PHRASE_WORDS_[ma]', 0.003219388264371135), (u'TAB_e1_COL_WORDS_[bc846w]', -0.003168963563036174), (u'TAB_e1_CELL_WORDS_[voltage]', 0.003168638988534147), (u'TAB_e1_NEIGHBOR_PHRASE_WORDS_[transistors manufactured]', 0.003164563661639123), (u'TAB_e1_NEIGHBOR_PHRASE_WORDS_[and bc848]', 0.003164563661639123), (u'TAB_e1_NEIGHBOR_PHRASE_WORDS_[bc848 series]', 0.003164563661639123), (u'TAB_e1_NEIGHBOR_PHRASE_WORDS_[are npn]', 0.003164563661639123), (u'TAB_e1_NEIGHBOR_PHRASE_WORDS_[series types]', 0.003164563661639123), (u'TAB_e1_NEIGHBOR_PHRASE_WORDS_[bc848]', 0.003164563661639123), (u'TAB_e1_NEIGHBOR_PHRASE_WORDS_[molded]', 0.003164563661639123), (u'TAB_e1_NEIGHBOR_PHRASE_WORDS_[mount package]', 0.003164563661639123), (u'TAB_e1_NEIGHBOR_PHRASE_WORDS_[purpose switching]', 0.003164563661639123), (u'TAB_e1_NEIGHBOR_PHRASE_WORDS_[a surface]', 0.003164563661639123), (u'TAB_e1_NEIGHBOR_PHRASE_WORDS_[epoxy molded]', 0.003164563661639123), (u'TAB_e1_NEIGHBOR_PHRASE_WORDS_[epoxy]', 0.003164563661639123), (u'TAB_e1_NEIGHBOR_PHRASE_WORDS_[molded in]', 0.003164563661639123), (u'TAB_e1_NEIGHBOR_PHRASE_WORDS_[package ,]', 0.003164563661639123), (u'TAB_e1_NEIGHBOR_PHRASE_WORDS_[, epoxy]', 0.003164563661639123), (u'TAB_e2_NEIGHBOR_PHRASE_WORDS_[transistor]', -0.00315136145257315), (u'TAB_e1_ROW_WORDS_[:]', 0.0031432804172806467), (u'TDL_INV_LEMMA:SEQ-BETWEEN[, bc558 ,]', -0.003135051501713856), (u'TDL_INV_LEMMA:SEQ-BETWEEN[bc558 ,]', -0.003135051501713856), (u'TAB_e1_ROW_WORDS_[g]', 0.0031273243932013026), (u'TAB_e1_COL_WORDS_[dtc114wua]', -0.0031147001864528616), (u'TAB_e2_NEIGHBOR_PHRASE_WORDS_[designed]', -0.003112863450179764), (u'TAB_e1_LEFT_WORDS_[bc546 /]', 0.0031019287139758), (u'TAB_e1_NEIGHBOR_PHRASE_WORDS_[65]', 0.0030978683071392703), (u'TAB_e1_NEIGHBOR_PHRASE_WORDS_[65 v]', 0.0030978683071392703), (u'TAB_e1_NEIGHBOR_PHRASE_WORDS_[2n4124]', 0.003089656972564628), (u'TDL_LEMMA:SEQ-BETWEEN[, bc550]', 0.003045839748210216), (u'TAB_e1_CONTAINS_WORDS_[2N3905]', -0.003037812010365162), (u'TAB_e2_NEIGHBOR_PHRASE_WORDS_[bc807-16w]', 0.003031683189143522), (u'TAB_e1_COL_WORDS_[bc846t]', -0.0030264442950327145), (u'TAB_e1_NEIGHBOR_PHRASE_WORDS_[order]', -0.003020099250679306), (u'TAB_e1_COL_HEAD_WORDS_[parameter]', 0.0030165732407511307), (u'TAB_e1_COL_WORDS_[parameter]', 0.0030165732407511307), (u'TDL_INV_SEQ-BETWEEN[LEN:14-inf]', 0.0030112067470673223), (u'TAB_e1_NEIGHBOR_PHRASE_WORDS_[of]', 0.0029983559723250524), (u'TAB_e2_NEIGHBOR_PHRASE_WORDS_[bc846 series]', 0.002981648275735996), (u'TAB_e2_NEIGHBOR_PHRASE_WORDS_[2014]', 0.0029717609487284503), (u'TAB_e1_NEIGHBOR_PHRASE_WORDS_[directives]', 0.0029364302666940022), (u'TAB_e1_LEFT_WORDS_[( pnp]', 0.0029364302666940022), (u'TAB_e1_LEFT_WORDS_[pnp )]', 0.0029364302666940022), (u'TAB_e1_NEIGHBOR_PHRASE_WORDS_[2002/95/e c]', 0.0029364302666940022), (u'TAB_e1_NEIGHBOR_PHRASE_WORDS_[comply with]', 0.0029364302666940022), (u'TAB_e1_NEIGHBOR_PHRASE_WORDS_[ic]', 0.0029364302666940022), (u'TAB_e1_NEIGHBOR_PHRASE_WORDS_[e u]', 0.0029364302666940022), (u'TAB_e1_NEIGHBOR_PHRASE_WORDS_[2002/95/e]', 0.0029364302666940022), (u'TAB_e1_NEIGHBOR_PHRASE_WORDS_[0]', 0.0029364302666940022), (u'TAB_e1_NEIGHBOR_PHRASE_WORDS_[= -100]', 0.0029364302666940022), (u'TDL_INV_DEP_LABEL|LEMMA:BETWEEN-MENTION-and-MENTION[ROOT|Devices]', 0.0029364302666940022), (u'TAB_e1_NEIGHBOR_PHRASE_WORDS_[lead free]', 0.0029364302666940022), (u'TAB_e1_NEIGHBOR_PHRASE_WORDS_[current ic]', 0.0029364302666940022), (u'TAB_e1_NEIGHBOR_PHRASE_WORDS_[directives .]', 0.0029364302666940022), (u'TAB_e1_NEIGHBOR_PHRASE_WORDS_[ohs]', 0.0029364302666940022), (u'TAB_e1_NEIGHBOR_PHRASE_WORDS_[ohs 2002/95/e]', 0.0029364302666940022), (u'TDL_INV_LEMMA:BETWEEN-MENTION-and-MENTION[Devices]', 0.0029364302666940022), (u'TAB_e1_NEIGHBOR_PHRASE_WORDS_[u r]', 0.0029364302666940022), (u'TAB_e1_NEIGHBOR_PHRASE_WORDS_[c directives]', 0.0029364302666940022), (u'TAB_e1_NEIGHBOR_PHRASE_WORDS_[r]', 0.0029364302666940022), (u'TAB_e1_NEIGHBOR_PHRASE_WORDS_[lead]', 0.0029364302666940022), (u'TAB_e1_NEIGHBOR_PHRASE_WORDS_[free]', 0.0029364302666940022), (u'TAB_e1_NEIGHBOR_PHRASE_WORDS_[ic =]', 0.0029364302666940022), (u'TAB_e1_NEIGHBOR_PHRASE_WORDS_[collector current]', 0.0029364302666940022), (u'TAB_e1_NEIGHBOR_PHRASE_WORDS_[-100 ma]', 0.0029364302666940022), (u'TAB_e1_NEIGHBOR_PHRASE_WORDS_[with e]', 0.0029364302666940022), (u'TAB_e1_NEIGHBOR_PHRASE_WORDS_[0 lead]', 0.0029364302666940022), (u'TAB_e1_NEIGHBOR_PHRASE_WORDS_[free in]', 0.0029364302666940022), (u'TAB_e1_NEIGHBOR_PHRASE_WORDS_[-100]', 0.0029364302666940022), (u'TAB_e1_NEIGHBOR_PHRASE_WORDS_[comply]', 0.0029364302666940022), (u'TAB_e1_NEIGHBOR_PHRASE_WORDS_[u]', 0.0029364302666940022), (u'TAB_e1_NEIGHBOR_PHRASE_WORDS_[in comply]', 0.0029364302666940022), (u'TAB_e1_NEIGHBOR_PHRASE_WORDS_[r ohs]', 0.0029364302666940022), (u'TAB_e1_COL_HEAD_WORDS_[c]', 0.0029363414100824266), (u'TAB_e1_COL_HEAD_WORDS_[bc846]', -0.0029268397780312034), (u'TAB_e1_LEFT_WORDS_[2n3906 /]', 0.0029256903214716717), (u'TDL_LEMMA:BETWEEN-MENTION-and-MENTION[bc548]', -0.0029231954458762057), (u'TDL_DEP_LABEL|LEMMA:BETWEEN-MENTION-and-MENTION[ROOT|bc548]', -0.0029231954458762057), (u'TAB_e1_CONTAINS_WORDS_[BC846W]', -0.002912542789184241), (u'TDL_LEMMA:LEFT-OF-MENTION[bc547]', -0.002906195108747124), (u'TAB_e1_NEIGHBOR_PHRASE_WORDS_[mmbt4124]', 0.0029020781461684374), (u'TAB_e1_COL_WORDS_[a ,]', 0.0029008549054828354), (u'TAB_e1_ROW_WORDS_[2]', -0.0028980721377366856), (u'TAB_e1_LEFT_WORDS_[transistors bc327]', -0.002882238168024693), (u'TDL_INV_LEMMA:SEQ-BETWEEN[transistor bc327 and]', -0.002882238168024693), (u'TAB_e1_LEFT_WORDS_[bc327 and]', -0.002882238168024693), (u'TDL_INV_LEMMA:SEQ-BETWEEN[transistor bc327]', -0.002882238168024693), (u'TDL_INV_LEMMA:SEQ-BETWEEN[bc327 and]', -0.002882238168024693), (u'TDL_LEMMA:RIGHT-OF-MENTION[-]', -0.002879791121965298), (u'TDL_LEMMA:LEFT-OF-MENTION[/]', -0.0028724793747890937), (u'TDL_LEMMA:SEQ-BETWEEN[bc549]', 0.002869167289382565), (u'TAB_e2_ROW_SPAN_[1]', 0.0028674284185320246), (u'TAB_e1_ROW_WORDS_[)]', 0.0028411559556069297), (u'TAB_e1_RIGHT_WORDS_[, bc550]', 0.0028408077340247007), (u'TAB_e2_RIGHT_WORDS_[, manufactured]', 0.0028163618440380047), (u'TAB_e2_LEFT_WORDS_[are silicon]', 0.0028163618440380047), (u'TAB_e2_LEFT_WORDS_[bc548 series]', 0.0028163618440380047), (u'TAB_e2_RIGHT_WORDS_[transistors ,]', 0.0028163618440380047), (u'TAB_e2_RIGHT_WORDS_[signal transistors]', 0.0028163618440380047), (u'TAB_e2_LEFT_WORDS_[series devices]', 0.0028163618440380047), (u'TAB_e2_NEIGHBOR_PHRASE_WORDS_[semiconductor bc546]', 0.0028163618440380047), (u'TAB_e2_LEFT_WORDS_[devices are]', 0.0028163618440380047), (u'TAB_e2_LEFT_WORDS_[devices]', 0.0028163618440380047), (u'TDL_INV_LEMMA:RIGHT-OF-MENTION[/]', -0.002810822048763012), (u'TDL_INV_LEMMA:RIGHT-OF-MENTION[,]', 0.002806086051079567), (u'TAB_e1_LEFT_WORDS_[bc856 ,]', 0.0027653312533711194), (u'TAB_e1_NEIGHBOR_PHRASE_WORDS_[... bc849w]', -0.002764511763803009), (u'TAB_e2_NEIGHBOR_PHRASE_WORDS_[bc847]', 0.00275919728400074), (u'TAB_e2_LEFT_WORDS_[and]', 0.00275919728400074), (u'TAB_e2_NEIGHBOR_PHRASE_WORDS_[table]', 0.00275919728400074), (u'TAB_e2_LEFT_WORDS_[and bc848]', 0.00275919728400074), (u'TAB_e2_NEIGHBOR_PHRASE_WORDS_[semiconductor bc846]', 0.00275919728400074), (u'TAB_e2_NEIGHBOR_PHRASE_WORDS_[code :]', 0.00275919728400074), (u'TAB_e2_NEIGHBOR_PHRASE_WORDS_[: see]', 0.00275919728400074), (u'TAB_e2_NEIGHBOR_PHRASE_WORDS_[marking code]', 0.00275919728400074), (u'TAB_e2_NEIGHBOR_PHRASE_WORDS_[page]', 0.00275919728400074), (u'TAB_e2_NEIGHBOR_PHRASE_WORDS_[see marking]', 0.00275919728400074), (u'TAB_e2_RIGHT_WORDS_[the epitaxial]', 0.00275919728400074), (u'TAB_e2_LEFT_WORDS_[series types]', 0.00275919728400074), (u'TAB_e2_NEIGHBOR_PHRASE_WORDS_[on following]', 0.00275919728400074), (u'TAB_e2_NEIGHBOR_PHRASE_WORDS_[, bc847]', 0.00275919728400074), (u'TAB_e2_NEIGHBOR_PHRASE_WORDS_[table on]', 0.00275919728400074), (u'TAB_e2_NEIGHBOR_PHRASE_WORDS_[see]', 0.00275919728400074), (u'TAB_e2_LEFT_WORDS_[bc848 series]', 0.00275919728400074), (u'TAB_e2_RIGHT_WORDS_[transistors manufactured]', 0.00275919728400074), (u'TAB_e2_LEFT_WORDS_[bc848]', 0.00275919728400074), (u'TAB_e2_NEIGHBOR_PHRASE_WORDS_[bc846 ,]', 0.00275919728400074), (u'TAB_e2_NEIGHBOR_PHRASE_WORDS_[following page]', 0.00275919728400074), (u'TAB_e2_NEIGHBOR_PHRASE_WORDS_[code table]', 0.00275919728400074), (u'TAB_e2_NEIGHBOR_PHRASE_WORDS_[following]', 0.00275919728400074), (u'TAB_e1_COL_WORDS_[bc]', -0.0027591157204999908), (u'TDL_INV_LEMMA:SEQ-BETWEEN[group a and]', 0.0027519628171882595), (u'TDL_INV_LEMMA:SEQ-BETWEEN[and b ,]', 0.0027519628171882595), (u'TAB_e1_RIGHT_WORDS_[supplied]', 0.0027519628171882595), (u'TDL_INV_LEMMA:SEQ-BETWEEN[a and b]', 0.0027519628171882595), (u'TDL_INV_LEMMA:SEQ-BETWEEN[the type]', 0.0027519628171882595), (u'TDL_INV_LEMMA:SEQ-BETWEEN[however]', 0.0027519628171882595), (u'TDL_INV_LEMMA:SEQ-BETWEEN[a and]', 0.0027519628171882595), (u'TAB_e1_LEFT_WORDS_[the types]', 0.0027519628171882595), (u'TDL_INV_LEMMA:SEQ-BETWEEN[in group]', 0.0027519628171882595), (u'TAB_e1_RIGHT_WORDS_[in all]', 0.0027519628171882595), (u'TDL_INV_LEMMA:BETWEEN-MENTION-and-MENTION[supply]', 0.0027519628171882595), (u'TDL_INV_LEMMA:SEQ-BETWEEN[in]', 0.0027519628171882595), (u'TAB_e1_RIGHT_WORDS_[all]', 0.0027519628171882595), (u'TDL_INV_LEMMA:SEQ-BETWEEN[, the type]', 0.0027519628171882595), (u'TDL_INV_LEMMA:SEQ-BETWEEN[in group a]', 0.0027519628171882595), (u'TDL_INV_LEMMA:SEQ-BETWEEN[, however]', 0.0027519628171882595), (u'TDL_INV_LEMMA:SEQ-BETWEEN[and b]', 0.0027519628171882595), (u'TDL_INV_LEMMA:BETWEEN-MENTION-and-MENTION[available]', 0.0027519628171882595), (u'TDL_INV_LEMMA:SEQ-BETWEEN[however , the]', 0.0027519628171882595), (u'TDL_INV_LEMMA:SEQ-BETWEEN[group a]', 0.0027519628171882595), (u'TAB_e1_LEFT_WORDS_[however ,]', 0.0027519628171882595), (u'TDL_INV_LEMMA:SEQ-BETWEEN[, however ,]', 0.0027519628171882595), (u'TDL_INV_LEMMA:SEQ-BETWEEN[group]', 0.0027519628171882595), (u'TAB_e1_LEFT_WORDS_[, however]', 0.0027519628171882595), (u'TDL_INV_DEP_LABEL:BETWEEN-MENTION-and-MENTION[parataxis]', 0.0027519628171882595), (u'TDL_INV_LEMMA:SEQ-BETWEEN[b , however]', 0.0027519628171882595), (u'TDL_INV_DEP_LABEL|LEMMA:BETWEEN-MENTION-and-MENTION[parataxis|supply]', 0.0027519628171882595), (u'TAB_e1_RIGHT_WORDS_[supplied in]', 0.0027519628171882595), (u'TDL_INV_LEMMA:SEQ-BETWEEN[however ,]', 0.0027519628171882595), (u'TDL_INV_DEP_LABEL|LEMMA:BETWEEN-MENTION-and-MENTION[ROOT|available]', 0.0027519628171882595), (u'TAB_e1_LEFT_WORDS_[however]', 0.0027519628171882595), (u'TAB_e1_LEFT_WORDS_[bc549]', 0.00275192376672686), (u'TAB_e2_LEFT_WORDS_[types are]', -0.002750560516998559), (u'TAB_e2_RIGHT_WORDS_[silicon transistors]', -0.002750560516998559), (u'TAB_e1_LEFT_WORDS_[bc548 /]', 0.0027460080220733873), (u'TAB_e1_LEFT_WORDS_[, the]', -0.0027361565586545046), (u'TAB_e2_NEIGHBOR_PHRASE_WORDS_[silicon transistor]', 0.0027010618794608447), (u'TDL_INV_LEMMA:LEFT-OF-MENTION[...]', 0.0027010130171366688), (u'TAB_e2_NEIGHBOR_PHRASE_WORDS_[description :]', 0.0026997854830988727), (u'TDL_INV_LEMMA:SEQ-BETWEEN[Voltage bc547]', 0.002699152765308483), (u'TDL_INV_DEP_LABEL|LEMMA:BETWEEN-MENTION-and-MENTION[ROOT|2n3903 nsubj|type]', -0.002687536634285278), (u'TDL_INV_LEMMA:BETWEEN-MENTION-and-MENTION[2n3903 type]', -0.002687536634285278), (u'TDL_INV_LEMMA:LEFT-OF-MENTION[complementary]', -0.002664076560008243), (u'TDL_LEMMA:RIGHT-OF-MENTION[bc549]', -0.002652490757927547), (u'TAB_e1_NEIGHBOR_PHRASE_WORDS_[thermal]', 0.0026509024226149696), (u'TAB_e2_NEIGHBOR_PHRASE_WORDS_[general purpose]', -0.002610749817448893), (u'TAB_e2_NEIGHBOR_PHRASE_WORDS_[( continued]', 0.0025920604576801856), (u'TAB_e2_NEIGHBOR_PHRASE_WORDS_[continued]', 0.0025920604576801856), (u'TAB_e2_NEIGHBOR_PHRASE_WORDS_[continued )]', 0.0025920604576801856), (u'TAB_e1_NEIGHBOR_PHRASE_WORDS_[bc337]', 0.002588847172445759), (u'TAB_e1_COL_WORDS_[collector-emitter voltage]', 0.002583950151755949), (u'TAB_e1_COL_WORDS_[collector-base voltage]', 0.002583950151755949), (u'TDL_INV_LEMMA:SEQ-BETWEEN[komplement?re npn-transistoren]', 0.002566544883652826), (u'TDL_INV_LEMMA:SEQ-BETWEEN[npn-transistoren]', 0.002566544883652826), (u'TAB_e1_NEIGHBOR_PHRASE_WORDS_[in a]', -0.0025661663946040946), (u'TAB_e1_COL_WORDS_[part]', 0.002563312318509571), (u'TAB_e1_COL_HEAD_WORDS_[part]', 0.002563312318509571), (u'TAB_e1_RIGHT_WORDS_[- pnp]', 0.002550560879561472), (u'TAB_e1_COL_WORDS_[bc846]', -0.0025477763703568197), (u'TAB_e1_LEFT_WORDS_[complimentary (]', 0.0025476780028620078), (u'TAB_e1_LEFT_WORDS_[complimentary]', 0.0025476780028620078), (u'TDL_INV_LEMMA:SEQ-BETWEEN[available]', 0.0025463142486700377), (u'TDL_INV_LEMMA:SEQ-BETWEEN[type bc546]', 0.0025463142486700377), (u'TDL_INV_LEMMA:BETWEEN-MENTION-and-MENTION[available bc546 supply]', 0.0025463142486700377), (u'TDL_INV_LEMMA:BETWEEN-MENTION-and-MENTION[available bc546]', 0.0025463142486700377), (u'TDL_INV_LEMMA:SEQ-BETWEEN[available in]', 0.0025463142486700377), (u'TDL_INV_LEMMA:SEQ-BETWEEN[be available in]', 0.0025463142486700377), (u'TDL_INV_LEMMA:BETWEEN-MENTION-and-MENTION[bc546 supply]', 0.0025463142486700377), (u'TDL_INV_DEP_LABEL:BETWEEN-MENTION-and-MENTION[nsubj parataxis]', 0.0025463142486700377), (u'TDL_INV_DEP_LABEL:BETWEEN-MENTION-and-MENTION[ROOT nsubj parataxis]', 0.0025463142486700377), (u'TDL_INV_DEP_LABEL|LEMMA:BETWEEN-MENTION-and-MENTION[nsubj|bc546 parataxis|supply]', 0.0025463142486700377), (u'TDL_INV_DEP_LABEL|LEMMA:BETWEEN-MENTION-and-MENTION[ROOT|available nsubj|bc546 parataxis|supply]', 0.0025463142486700377), (u'TDL_INV_LEMMA:SEQ-BETWEEN[available in group]', 0.0025463142486700377), (u'TDL_INV_LEMMA:SEQ-BETWEEN[be available]', 0.0025463142486700377), (u'TDL_INV_LEMMA:SEQ-BETWEEN[bc546 be]', 0.0025463142486700377), (u'TDL_INV_LEMMA:SEQ-BETWEEN[type bc546 be]', 0.0025463142486700377), (u'TDL_INV_LEMMA:SEQ-BETWEEN[bc546 be available]', 0.0025463142486700377), (u'TDL_INV_DEP_LABEL|LEMMA:BETWEEN-MENTION-and-MENTION[ROOT|available nsubj|bc546]', 0.0025463142486700377), (u'TAB_e1_ROW_WORDS_[collector-emitter]', 0.002541516276183908), (u'TDL_INV_DEP_LABEL:BETWEEN-MENTION-and-MENTION[nsubjpass]', -0.00253907041657449), (u'TAB_e1_NEIGHBOR_PHRASE_WORDS_[...]', -0.0025331671563079894), (u'TAB_e1_NEIGHBOR_PHRASE_WORDS_[general-purpose]', 0.002522871914597181), (u'TAB_e2_NEIGHBOR_PHRASE_WORDS_[mmbt3906]', 0.002501960821399031), (u'TAB_e1_COL_WORDS_[: bc237]', 0.0024983779570143493), (u'TAB_e1_COL_WORDS_[bc238/239]', 0.0024983779570143493), (u'TAB_e1_CELL_WORDS_[:]', 0.0024983779570143493), (u'TAB_e1_COL_WORDS_[:]', 0.0024983779570143493), (u'TAB_e1_COL_WORDS_[: bc238/239]', 0.0024983779570143493), (u'TAB_e1_COL_WORDS_[bc237]', 0.0024983779570143493), (u'TAB_e1_NEIGHBOR_PHRASE_WORDS_[2500]', 0.0024966760099438524), (u'TAB_e1_COL_WORDS_[emitter-base voltage]', 0.002495658908933107), (u'TAB_e1_COL_HEAD_WORDS_[free]', 0.002493874396180012), (u'TAB_e1_COL_WORDS_[free]', 0.002493874396180012), (u'TAB_e1_COL_NUM_[4]', -0.002488872943586981), (u'TDL_INV_LEMMA:BETWEEN-MENTION-and-MENTION[High-Voltage =]', 0.0024802612198171715), (u'TDL_INV_DEP_LABEL|LEMMA:BETWEEN-MENTION-and-MENTION[ROOT|High-Voltage dep|=]', 0.0024802612198171715), (u'TAB_e1_NEIGHBOR_PHRASE_WORDS_[as complementary]', 0.0024659981494354723), (u'TAB_e1_NEIGHBOR_PHRASE_WORDS_[the pnp]', 0.0024659981494354723), (u'TAB_e1_NEIGHBOR_PHRASE_WORDS_[, the]', 0.0024659981494354723), (u'TAB_e1_NEIGHBOR_PHRASE_WORDS_[as]', 0.0024659981494354723), (u'TAB_e1_NEIGHBOR_PHRASE_WORDS_[current]', 0.0024576353973706487), (u'TAB_e2_NEIGHBOR_PHRASE_WORDS_[september 2015]', -0.0024576258020999288), (u'TAB_e2_NEIGHBOR_PHRASE_WORDS_[2015]', -0.0024576258020999288), (u'TAB_e2_NEIGHBOR_PHRASE_WORDS_[bc337 bc338]', -0.0024576258020999288), (u'TDL_INV_DEP_LABEL|LEMMA:BETWEEN-MENTION-and-MENTION[dep|=]', 0.0024343793114248785), (u'TAB_e2_NEIGHBOR_PHRASE_WORDS_[bias resistors]', 0.0024332972218780355), (u'TAB_e2_NEIGHBOR_PHRASE_WORDS_[( built]', 0.0024332972218780355), (u'TAB_e2_NEIGHBOR_PHRASE_WORDS_[in bias]', 0.0024332972218780355), (u'TAB_e2_NEIGHBOR_PHRASE_WORDS_[unisonic technologies]', 0.0024332972218780355), (u'TAB_e2_NEIGHBOR_PHRASE_WORDS_[ltd]', 0.0024332972218780355), (u'TAB_e2_NEIGHBOR_PHRASE_WORDS_[built]', 0.0024332972218780355), (u'TAB_e2_NEIGHBOR_PHRASE_WORDS_[npn digital]', 0.0024332972218780355), (u'TAB_e2_NEIGHBOR_PHRASE_WORDS_[technologies]', 0.0024332972218780355), (u'TAB_e2_NEIGHBOR_PHRASE_WORDS_[co. ,]', 0.0024332972218780355), (u'TAB_e2_LEFT_WORDS_[dtc114e]', 0.0024332972218780355), (u'TAB_e2_NEIGHBOR_PHRASE_WORDS_[built -]', 0.0024332972218780355), (u'TAB_e2_NEIGHBOR_PHRASE_WORDS_[unisonic]', 0.0024332972218780355), (u'TAB_e2_NEIGHBOR_PHRASE_WORDS_[technologies co.]', 0.0024332972218780355), (u'TAB_e2_NEIGHBOR_PHRASE_WORDS_[transistor (]', 0.0024332972218780355), (u'TAB_e2_NEIGHBOR_PHRASE_WORDS_[resistors]', 0.0024332972218780355), (u'TAB_e2_NEIGHBOR_PHRASE_WORDS_[co.]', 0.0024332972218780355), (u'TAB_e2_NEIGHBOR_PHRASE_WORDS_[, ltd]', 0.0024332972218780355), (u'TAB_e2_NEIGHBOR_PHRASE_WORDS_[digital transistor]', 0.0024332972218780355), (u'TAB_e2_NEIGHBOR_PHRASE_WORDS_[- in]', 0.0024332972218780355), (u'TAB_e2_NEIGHBOR_PHRASE_WORDS_[resistors )]', 0.0024332972218780355), (u'TDL_INV_LEMMA:SEQ-BETWEEN[and]', -0.0024223960291076267), (u'TAB_e1_CELL_WORDS_[,]', 0.0024170025132983805), (u'TAB_e2_LEFT_WORDS_[/ bc550]', -0.002416297698451512), (u'TAB_e2_LEFT_WORDS_[/ bc548]', -0.002416297698451512), (u'TAB_e2_LEFT_WORDS_[bc548 /]', -0.002416297698451512), (u'TAB_e2_LEFT_WORDS_[/ bc549]', -0.002416297698451512), (u'TAB_e2_LEFT_WORDS_[bc549 /]', -0.002416297698451512), (u'TAB_e2_RIGHT_WORDS_[...]', -0.0024001522166907773), (u'TAB_e1_CELL_WORDS_[c]', 0.002387282487244065), (u'TAB_e1_CONTAINS_WORDS_[BC817]', -0.0023810309758706886), (u'TAB_e2_NEIGHBOR_PHRASE_WORDS_[description]', 0.002375034770454934), (u'TAB_e1_NEIGHBOR_PHRASE_WORDS_[pnp transistors]', 0.0023669820532204924), (u'TDL_INV_LEMMA:LEFT-OF-MENTION[PNP]', -0.0023641158339104806), (u'TAB_e1_RIGHT_WORDS_[bc328 are]', -0.0023641158339104806), (u'TAB_e1_COL_WORDS_[device]', 0.0023633597824113182), (u'TAB_e1_NEIGHBOR_PHRASE_WORDS_[series]', 0.0023559507732361998), (u'TAB_e2_LEFT_WORDS_[2n3906]', 0.0023386791686653852), (u'TAB_e1_NEIGHBOR_PHRASE_WORDS_[weight :]', 0.002337440425745368), (u'TAB_e1_NEIGHBOR_PHRASE_WORDS_[weight]', 0.002337440425745368), (u'TDL_LEMMA:SEQ-BETWEEN[bc550 -]', 0.0023183414745820185), (u'TAB_e1_RIGHT_WORDS_[:]', 0.0023152338112842185), (u'TAB_e1_COL_WORDS_[t]', 0.0023078943601601105), (u'TDL_BETWEEN-MENTION-and-MENTION[LEN:3-3]', 0.0023034090175724133), (u'TAB_e1_COL_HEAD_WORDS_[device]', 0.0023009273785295206), (u'TAB_e1_CONTAINS_WORDS_[BC547]', 0.002294036545886636), (u'TAB_e1_ROW_WORDS_[-30]', 0.0022906374644482866), (u'TAB_e1_RIGHT_WORDS_[bc550 -]', 0.0022793569586459952), (u'TAB_e1_LEFT_WORDS_[bc548]', 0.0022683181154137984), (u'TAB_e1_RIGHT_WORDS_[, bc557]', -0.002264167867679834), (u'TDL_INV_LEMMA:SEQ-BETWEEN[Types Available (]', -0.002240646403279205), (u'TAB_e1_LEFT_WORDS_[complementary npn]', -0.002240646403279205), (u'TDL_INV_DEP_LABEL|LEMMA:BETWEEN-MENTION-and-MENTION[ROOT|Available]', -0.002240646403279205), (u'TDL_INV_LEMMA:SEQ-BETWEEN[Types Available]', -0.002240646403279205), (u'TAB_e1_LEFT_WORDS_[available]', -0.002240646403279205), (u'TDL_INV_LEMMA:SEQ-BETWEEN[Types]', -0.002240646403279205), (u'TDL_INV_LEMMA:LEFT-OF-MENTION[Types]', -0.002240646403279205), (u'TDL_INV_LEMMA:SEQ-BETWEEN[Available (]', -0.002240646403279205), (u'TAB_e1_LEFT_WORDS_[npn types]', -0.002240646403279205), (u'TDL_INV_LEMMA:SEQ-BETWEEN[Available]', -0.002240646403279205), (u'TAB_e1_LEFT_WORDS_[types available]', -0.002240646403279205), (u'TDL_INV_LEMMA:BETWEEN-MENTION-and-MENTION[Available]', -0.002240646403279205), (u'TAB_e1_NEIGHBOR_PHRASE_WORDS_[for switching]', -0.002240646403279205), (u'TAB_e1_LEFT_WORDS_[available (]', -0.002240646403279205), (u'TDL_DEP_LABEL|LEMMA:BETWEEN-MENTION-and-MENTION[dep|amplifier]', 0.002236745008795709), (u'TDL_LEMMA:BETWEEN-MENTION-and-MENTION[amplifier]', 0.002236745008795709), (u'TAB_e1_NEIGHBOR_PHRASE_WORDS_[pnp general-purpose]', 0.0022292565924407364), (u'TAB_e1_LEFT_WORDS_[a]', 0.0022271177384105396), (u'TAB_e1_CONTAINS_WORDS_[BC33740]', -0.0021923978804083786), (u'TAB_e1_ROW_WORDS_[sc-75]', -0.002179913548053785), (u'TAB_e1_ROW_WORDS_[sot416]', -0.002179913548053785), (u'TAB_e1_NEIGHBOR_PHRASE_WORDS_[/ mmbt4124]', 0.002175244377910065), (u'TAB_e1_NEIGHBOR_PHRASE_WORDS_[2n4124 /]', 0.002175244377910065), (u'TAB_e1_RIGHT_WORDS_[available]', 0.00217218643305098), (u'TAB_e1_RIGHT_WORDS_[available in]', 0.00217218643305098), (u'TAB_e1_NEIGHBOR_PHRASE_WORDS_[npn silicon]', 0.002153577765119679), (u'TAB_e1_COL_NUM_[0]', -0.002140176675963547), (u'TDL_INV_LEMMA:SEQ-BETWEEN[the]', -0.0021392674608276094), (u'TDL_INV_LEMMA:LEFT-OF-MENTION[/]', 0.002138529605599691), (u'TAB_DIFF_TABLE_MANHATTAN_DIST_[6]', -0.0021376529594901725), (u'TDL_INV_LEMMA:SEQ-BETWEEN[Devices]', 0.0021221568719078836), (u'TAB_e1_LEFT_WORDS_[) devices]', 0.0021221568719078836), (u'TAB_e1_LEFT_WORDS_[devices]', 0.0021221568719078836), (u'TDL_INV_LEMMA:SEQ-BETWEEN[) Devices]', 0.0021221568719078836), (u'TAB_e2_NEIGHBOR_PHRASE_WORDS_[marking]', -0.002119140976058648), (u'TAB_e1_RIGHT_WORDS_[b ,]', 0.0021111125204978875), (u'TAB_e1_ROW_WORDS_[30]', 0.002107451055955953), (u'TAB_e2_LEFT_WORDS_[sot23]', 0.0020936461579430647), (u'TAB_e2_NEIGHBOR_PHRASE_WORDS_[357 k/w]', -0.0020914774140634923), (u'TAB_e2_NEIGHBOR_PHRASE_WORDS_[< 357]', -0.0020914774140634923), (u'TAB_e2_NEIGHBOR_PHRASE_WORDS_[pnp-transistoren mmbt3906]', -0.0020914774140634923), (u'TAB_e2_NEIGHBOR_PHRASE_WORDS_[357]', -0.0020914774140634923), (u'TAB_e1_NEIGHBOR_PHRASE_WORDS_[electrical]', -0.0020828777527301533), (u'TAB_e1_NEIGHBOR_PHRASE_WORDS_[electrical characteristics]', -0.0020828777527301533), (u'TAB_e2_NEIGHBOR_PHRASE_WORDS_[bc546]', 0.0020666952957120936), (u'TAB_e2_NEIGHBOR_PHRASE_WORDS_[bc547]', 0.0020666952957120936), (u'TAB_e1_NEIGHBOR_PHRASE_WORDS_[signal transistors]', 0.0020658336087672952), (u'TAB_e1_COL_HEAD_WORDS_[bc546]', -0.002062469254832236), (u'TAB_e1_LEFT_WORDS_[bc546b]', 0.0020604776590000583), (u'TAB_e2_LEFT_WORDS_[epitaxial planar]', -0.0020549650856208804), (u'TAB_e2_LEFT_WORDS_[epitaxial]', -0.0020549650856208804), (u'TAB_e2_LEFT_WORDS_[planar]', -0.0020549650856208804), (u'TDL_INV_LEMMA:RIGHT-OF-MENTION[recommend]', -0.002054907801993651), (u'TDL_INV_LEMMA:BETWEEN-MENTION-and-MENTION[=]', 0.002048821986848815), (u'TAB_e1_ROW_WORDS_[5.0]', 0.0020358802246555384), (u'TAB_e1_NEIGHBOR_PHRASE_WORDS_[surface mount]', 0.0020281955953129617), (u'TAB_e1_NEIGHBOR_PHRASE_WORDS_[surface]', 0.0020281955953129617), (u'TAB_e1_NEIGHBOR_PHRASE_WORDS_[mount]', 0.0020281955953129617), (u'TAB_e1_NEIGHBOR_PHRASE_WORDS_[september]', 0.002016958096779682), (u'TAB_e1_NEIGHBOR_PHRASE_WORDS_[2015]', 0.002016958096779682), (u'TAB_e1_NEIGHBOR_PHRASE_WORDS_[september 2015]', 0.002016958096779682), (u'TAB_e2_NEIGHBOR_PHRASE_WORDS_[amplifier]', -0.0020156356348091727), (u'TDL_LEMMA:BETWEEN-MENTION-and-MENTION[bc546 Transistor]', 0.002013529564811076), (u'TDL_DEP_LABEL|LEMMA:BETWEEN-MENTION-and-MENTION[ROOT|bc546 dep|Transistor]', 0.002013529564811076), (u'TAB_e1_LEFT_WORDS_[bc547 /]', 0.0020091778521876894), (u'TAB_e1_RIGHT_WORDS_[bc858]', 0.0019897211404426556), (u'TAB_e2_RIGHT_WORDS_[switching]', 0.001980156312069783), (u'TDL_DEP_LABEL|LEMMA:BETWEEN-MENTION-and-MENTION[ROOT|bc337 dep|bc338]', 0.001978964165876241), (u'TDL_LEMMA:BETWEEN-MENTION-and-MENTION[bc337 bc338]', 0.001978964165876241), (u'TAB_e1_ROW_WORDS_[/]', -0.001970312319105927), (u'TDL_LEMMA:BETWEEN-MENTION-and-MENTION[bc547]', 0.0019493719905733181), (u'TDL_DEP_LABEL|LEMMA:BETWEEN-MENTION-and-MENTION[dep|bc547 dep|Transistor]', 0.0019493719905733181), (u'TDL_LEMMA:BETWEEN-MENTION-and-MENTION[bc547 Transistor]', 0.0019493719905733181), (u'TDL_DEP_LABEL|LEMMA:BETWEEN-MENTION-and-MENTION[dep|bc547]', 0.0019493719905733181), (u'TDL_LEMMA:BETWEEN-MENTION-and-MENTION[bc338 Transistor]', 0.0019493070789194026), (u'TDL_LEMMA:SEQ-BETWEEN[, bc550 -]', 0.0019380563775987095), (u'TAB_e1_NEIGHBOR_PHRASE_WORDS_[datasheet]', -0.0019359601413564565), (u'TAB_e1_NEIGHBOR_PHRASE_WORDS_[2n6427]', 0.0019341268818012839), (u'TAB_e1_NEIGHBOR_PHRASE_WORDS_[2n6427 /]', 0.0019341268818012839), (u'TAB_e1_NEIGHBOR_PHRASE_WORDS_[/ mmbt6427]', 0.0019341268818012839), (u'TAB_e1_NEIGHBOR_PHRASE_WORDS_[mmbt6427]', 0.0019341268818012839), (u'TAB_e1_COL_WORDS_[collector]', 0.0019337367092662316), (u'TAB_DIFF_TABLE_MANHATTAN_DIST_[1]', -0.0019205440082530026), (u'TAB_e1_COL_WORDS_[5.0]', 0.0019176803401848455), (u'TDL_LEMMA:RIGHT-OF-MENTION[Part]', -0.0019162527493625343), (u'TAB_e1_ROW_WORDS_[ce =]', 0.001885652289598627), (u'TAB_e1_ROW_WORDS_[v ce]', 0.001885652289598627), (u'TAB_e1_NEIGHBOR_PHRASE_WORDS_[otherwise]', 0.001882942695072304), (u'TAB_e1_NEIGHBOR_PHRASE_WORDS_[unless otherwise]', 0.001882942695072304), (u'TAB_e1_NEIGHBOR_PHRASE_WORDS_[c unless]', 0.001882942695072304), (u'TAB_e1_NEIGHBOR_PHRASE_WORDS_[25 c]', 0.001882942695072304), (u'TAB_e1_NEIGHBOR_PHRASE_WORDS_[unless]', 0.001882942695072304), (u'TAB_e1_NEIGHBOR_PHRASE_WORDS_[otherwise noted]', 0.001882942695072304), (u'TAB_e1_NEIGHBOR_PHRASE_WORDS_[collector 3]', 0.001882942695072304), (u'TAB_e1_NEIGHBOR_PHRASE_WORDS_[noted]', 0.001882942695072304), (u'TAB_e1_NEIGHBOR_PHRASE_WORDS_[noted )]', 0.001882942695072304), (u'TAB_e2_NEIGHBOR_PHRASE_WORDS_[purpose]', -0.001873961228309139), (u'TDL_INV_DEP_LABEL|LEMMA:BETWEEN-MENTION-and-MENTION[ROOT|bc846]', 0.001861762597355696), (u'TDL_INV_LEMMA:BETWEEN-MENTION-and-MENTION[bc846]', 0.001861762597355696), (u'TDL_LEMMA:BETWEEN-MENTION-and-MENTION[bc858]', 0.0018533092885928077), (u'TDL_DEP_LABEL|LEMMA:BETWEEN-MENTION-and-MENTION[ROOT|bc858]', 0.0018533092885928077), (u'TAB_e1_ROW_WORDS_[voltage bc856]', 0.0018464080491706958), (u'TAB_e1_CELL_WORDS_[bc856]', 0.0018464080491706958), (u'TAB_e1_CELL_WORDS_[voltage bc856]', 0.0018464080491706958), (u'TAB_e1_RIGHT_WORDS_[be]', 0.001846218320135318), (u'TAB_e1_RIGHT_WORDS_[be supplied]', 0.001846218320135318), (u'TAB_e2_NEIGHBOR_PHRASE_WORDS_[fax :]', 0.0018391743891927486), (u'TAB_e2_NEIGHBOR_PHRASE_WORDS_[: -lrb-818-rrb-\\xa0701-4939]', 0.0018391743891927486), (u'TAB_e2_NEIGHBOR_PHRASE_WORDS_[fax]', 0.0018391743891927486), (u'TAB_e2_NEIGHBOR_PHRASE_WORDS_[-lrb-818-rrb-\\xa0701-4939]', 0.0018391743891927486), (u'TAB_e1_COL_HEAD_WORDS_[part no]', -0.0018331823796369088), (u'TAB_e1_ROW_WORDS_[84]', -0.0018331823796369088), (u'TAB_e1_ROW_WORDS_[8]', -0.0018331823796369088), (u'TAB_e1_COL_WORDS_[part no]', -0.0018331823796369088), (u'TAB_e2_LEFT_WORDS_[si-epi-planar]', 0.0018226644165592327), (u'TAB_e2_LEFT_WORDS_[universaltransistoren]', 0.0018226644165592327), (u'TAB_e2_LEFT_WORDS_[universaltransistoren f?r]', 0.0018226644165592327), (u'TAB_e2_LEFT_WORDS_[die]', 0.0018226644165592327), (u'TAB_e2_LEFT_WORDS_[oberfl?chenmontage]', 0.0018226644165592327), (u'TAB_e2_LEFT_WORDS_[si-epi-planar universaltransistoren]', 0.0018226644165592327), (u'TAB_e2_LEFT_WORDS_[f?r]', 0.0018226644165592327), (u'TAB_e2_NEIGHBOR_PHRASE_WORDS_[2011-07-07]', 0.0018226644165592327), (u'TAB_e2_NEIGHBOR_PHRASE_WORDS_[version 2011-07-07]', 0.0018226644165592327), (u'TAB_e2_LEFT_WORDS_[die oberfl?chenmontage]', 0.0018226644165592327), (u'TAB_e2_LEFT_WORDS_[f?r die]', 0.0018226644165592327), (u'TDL_INV_BETWEEN-MENTION-and-MENTION[LEN:3-3]', -0.0018146015052701982), (u'TDL_LEMMA:RIGHT-OF-MENTION[general-purpose]', 0.0018145624711740581), (u'TDL_LEMMA:SEQ-BETWEEN[pzt3906]', 0.0018139780597225326), (u'TAB_e1_LEFT_WORDS_[bc337 /]', 0.0018073353073551836), (u'TDL_INV_LEMMA:SEQ-BETWEEN[...]', 0.0018051639447200275), (u'TAB_e2_COL_WORDS_[low]', 0.0018020151834982133), (u'TAB_e1_RIGHT_WORDS_[bc338]', 0.0017998939007629587), (u'TAB_e1_COL_WORDS_[bc 857]', -0.0017984021634453024), (u'TAB_e1_COL_WORDS_[857]', -0.0017984021634453024), (u'TDL_LEMMA:SEQ-BETWEEN[bc338]', 0.0017976593150961326), (u'TAB_e1_COL_WORDS_[bc547c]', 0.0017913126472598197), (u'TAB_e1_COL_WORDS_[bc 858]', -0.001791222387447959), (u'TAB_e1_COL_WORDS_[858]', -0.001791222387447959), (u'TAB_e1_COL_WORDS_[bc 859]', -0.0017905922534112938), (u'TAB_e1_COL_WORDS_[859]', -0.0017905922534112938), (u'TDL_INV_LEMMA:SEQ-BETWEEN[,]', 0.0017736992934852236), (u'TAB_e2_RIGHT_WORDS_[transistors for]', 0.0017545738259921097), (u'TAB_e2_RIGHT_WORDS_[for switching]', 0.0017545738259921097), (u'TAB_e1_RIGHT_WORDS_[all three]', 0.0017532245619415287), (u'TAB_e1_RIGHT_WORDS_[three]', 0.0017532245619415287), (u'TAB_e1_COL_WORDS_[bc817]', -0.0017476886194430841), (u'TAB_e2_NEIGHBOR_PHRASE_WORDS_[i c]', 0.0017394439405922666), (u'TAB_e2_RIGHT_WORDS_[, planar]', 0.0017394439405922666), (u'TAB_e2_RIGHT_WORDS_[design]', 0.0017394439405922666), (u'TAB_e2_RIGHT_WORDS_[silicon ,]', 0.0017394439405922666), (u'TAB_e2_NEIGHBOR_PHRASE_WORDS_[current i]', 0.0017394439405922666), (u'TAB_e2_NEIGHBOR_PHRASE_WORDS_[500ma]', 0.0017394439405922666), (u'TAB_e2_NEIGHBOR_PHRASE_WORDS_[c =]', 0.0017394439405922666), (u'TAB_e2_NEIGHBOR_PHRASE_WORDS_[i]', 0.0017394439405922666), (u'TAB_e2_RIGHT_WORDS_[planar design]', 0.0017394439405922666), (u'TAB_e2_NEIGHBOR_PHRASE_WORDS_[= 500ma]', 0.0017394439405922666), (u'TAB_e1_ROW_WORDS_[45]', 0.0017370697347826036), (u'TAB_e1_CONTAINS_WORDS_[BC337/D]', -0.001735289772998368), (u'TAB_e2_LEFT_WORDS_[bc550 -]', 0.001721024731380873), (u'TAB_e2_LEFT_WORDS_[bc549]', 0.001721024731380873), (u'TAB_e2_LEFT_WORDS_[bc550]', 0.001721024731380873), (u'TAB_e1_ROW_WORDS_[collector-emitter voltage]', 0.0017196684023593398), (u'TAB_e1_NEIGHBOR_PHRASE_WORDS_[page]', 0.0017170430960057137), (u'TAB_e1_NEIGHBOR_PHRASE_WORDS_[orientation]', -0.0017019015494341488), (u'TAB_e1_NEIGHBOR_PHRASE_WORDS_[reel]', -0.0017019015494341488), (u'TAB_e1_NEIGHBOR_PHRASE_WORDS_[information]', -0.0017019015494341488), (u'TAB_e1_NEIGHBOR_PHRASE_WORDS_[: for]', -0.0017019015494341488), (u'TAB_e1_NEIGHBOR_PHRASE_WORDS_[reel see]', -0.0017019015494341488), (u'TAB_e1_NEIGHBOR_PHRASE_WORDS_[see package]', -0.0017019015494341488), (u'TAB_e1_NEIGHBOR_PHRASE_WORDS_[information below]', -0.0017019015494341488), (u'TAB_e1_NEIGHBOR_PHRASE_WORDS_[below]', -0.0017019015494341488), (u'TAB_e1_NEIGHBOR_PHRASE_WORDS_[package information]', -0.0017019015494341488), (u'TAB_e1_NEIGHBOR_PHRASE_WORDS_[for orientation]', -0.0017019015494341488), (u'TAB_e1_NEIGHBOR_PHRASE_WORDS_[orientation in]', -0.0017019015494341488), (u'TAB_e1_NEIGHBOR_PHRASE_WORDS_[smbt3904s :]', -0.0017019015494341488), (u'TAB_e1_NEIGHBOR_PHRASE_WORDS_[smbt3904s]', -0.0017019015494341488), (u'TAB_e1_NEIGHBOR_PHRASE_WORDS_[in reel]', -0.0017019015494341488), (u'TDL_LEMMA:SEQ-BETWEEN[, v]', 0.0017007921200577756), (u'TDL_LEMMA:SEQ-BETWEEN[, v ceo]', 0.0017007921200577756), (u'TDL_DEP_LABEL|LEMMA:BETWEEN-MENTION-and-MENTION[ROOT|859b/c]', 0.0016882304510908608), (u'TAB_e1_RIGHT_WORDS_[859b/c]', 0.0016882304510908608), (u'TDL_LEMMA:BETWEEN-MENTION-and-MENTION[859b/c]', 0.0016882304510908608), (u'TAB_e1_CONTAINS_WORDS_[DTC114WKA]', -0.0016806843902648983), (u'TAB_e1_RIGHT_WORDS_[bc849]', 0.001673514907481089), (u'TAB_e1_RIGHT_WORDS_[bc849 series]', 0.001673514907481089), (u'TAB_e1_COL_HEAD_WORDS_[dtc114we]', -0.001667495823654126), (u'TAB_e1_CONTAINS_WORDS_[BC182]', 0.001658889961292826), (u'TAB_e1_CELL_WORDS_[c ,]', 0.0016529632923478635), (u'TAB_e1_COL_WORDS_[c ,]', 0.0016529632923478635), (u'TAB_e1_ROW_WORDS_[c ,]', 0.0016529632923478635), (u'TAB_e1_ROW_WORDS_[a]', 0.0016506137228093104), (u'TDL_INV_LEMMA:SEQ-BETWEEN[PNP transistor bc327]', -0.0016501373343052466), (u'TAB_e1_CONTAINS_WORDS_[MMBT4124]', 0.0016391048465188732), (u'TAB_e1_COL_WORDS_[860 b]', -0.001635171345877826), (u'TAB_e1_CONTAINS_WORDS_[DTC114WUA]', -0.0016351203956250899), (u'TAB_e1_CONTAINS_WORDS_[DTC114WE]', -0.0016336939351229347), (u'TAB_e1_COL_WORDS_[857 b]', -0.0016293747666678946), (u'TAB_e1_COL_WORDS_[bc549btf]', 0.0016273749287623576), (u'TAB_e1_COL_WORDS_[858 b]', -0.0016255106297433238), (u'TAB_e1_COL_WORDS_[, b]', 0.0016249538999038077), (u'TAB_e1_ROW_WORDS_[to-92]', -0.0016246156125993812), (u'TAB_e1_LEFT_WORDS_[b ,]', 0.0016226439322589478), (u'TAB_e1_COL_WORDS_[860 c]', -0.0016157718070801796), (u'TAB_e1_COL_WORDS_[bc546btf]', 0.0016141387907262473), (u'TAB_e1_LEFT_WORDS_[/ bc547]', 0.0016132660918526805), (u'TAB_e1_COL_WORDS_[bc547btf]', 0.0016111639958964928), (u'TAB_e2_NEIGHBOR_PHRASE_WORDS_[bc337-40]', 0.001608644764293715), (u'TAB_e2_NEIGHBOR_PHRASE_WORDS_[bc337 ,]', 0.001608644764293715), (u'TAB_e2_NEIGHBOR_PHRASE_WORDS_[, bc337-25]', 0.001608644764293715), (u'TAB_e2_NEIGHBOR_PHRASE_WORDS_[, bc337-40]', 0.001608644764293715), (u'TAB_e2_NEIGHBOR_PHRASE_WORDS_[bc337-25]', 0.001608644764293715), (u'TAB_e2_NEIGHBOR_PHRASE_WORDS_[bc337-25 ,]', 0.001608644764293715), (u'TAB_e2_LEFT_WORDS_[bc337 -]', 0.001608644764293715), (u'TAB_e1_COL_WORDS_[859 a]', -0.0016075123206063231), (u'TAB_e1_COL_WORDS_[bc547ctfr]', 0.0016064113533562172), (u'TAB_e1_LEFT_WORDS_[bc 846]', -0.0016042061472480264), (u'TAB_e1_LEFT_WORDS_[846]', -0.0016042061472480264), (u'TAB_e1_LEFT_WORDS_[846 ,]', -0.0016042061472480264), (u'TAB_e1_LEFT_WORDS_[: bc]', -0.0016042061472480264), (u'TAB_e1_ROW_WORDS_[;]', -0.0016041292000915357), (u'TAB_e1_ROW_WORDS_[surface-mounted]', -0.0016041292000915357), (u'TAB_e1_ROW_WORDS_[; 3]', -0.0016041292000915357), (u'TAB_e1_ROW_WORDS_[leads]', -0.0016041292000915357), (u'TAB_e1_ROW_WORDS_[3 leads]', -0.0016041292000915357), (u'TAB_e1_ROW_WORDS_[plastic surface-mounted]', -0.0016041292000915357), (u'TAB_e1_ROW_WORDS_[package ;]', -0.0016041292000915357), (u'TAB_e1_ROW_WORDS_[surface-mounted package]', -0.0016041292000915357), (u'TAB_e1_ROW_WORDS_[plastic]', -0.0016041292000915357), (u'TAB_e1_ROW_WORDS_[package]', -0.0016041292000915357), (u'TAB_e2_NEIGHBOR_PHRASE_WORDS_[volts]', 0.001603346982416091), (u'TAB_e2_NEIGHBOR_PHRASE_WORDS_[voltage]', 0.001603346982416091), (u'TAB_e2_NEIGHBOR_PHRASE_WORDS_[voltage 45]', 0.001603346982416091), (u'TAB_e2_NEIGHBOR_PHRASE_WORDS_[45]', 0.001603346982416091), (u'TAB_e2_NEIGHBOR_PHRASE_WORDS_[45 volts]', 0.001603346982416091), (u'TAB_e1_ROW_WORDS_[o]', 0.0016010993639199952), (u'TAB_e1_COL_WORDS_[bc550cta]', 0.0015984148959256928), (u'TAB_e1_COL_WORDS_[bc548bta]', 0.001596300905623935), (u'TAB_e1_COL_WORDS_[bc549cta]', 0.0015955044388521686), (u'TAB_e1_COL_WORDS_[bc548cta]', 0.0015940385443888308), (u'TAB_e1_COL_WORDS_[bc549bta]', 0.001593767796052558), (u'TAB_e1_COL_WORDS_[bc546cta]', 0.0015934952348066397), (u'TAB_e1_COL_WORDS_[bc547ata]', 0.0015930942843384904), (u'TAB_e1_COL_WORDS_[bc546bta]', 0.001591631834219953), (u'TAB_e1_COL_WORDS_[bc546ata]', 0.0015858554916160694), (u'TAB_e1_COL_WORDS_[bc547bta]', 0.0015826441276967401), (u'TAB_e1_NEIGHBOR_PHRASE_WORDS_[mmbt3906]', 0.0015804230987455786), (u'TAB_e1_LEFT_WORDS_[=]', 0.001575843394871921), (u'TAB_e1_COL_WORDS_[bc550cbu]', 0.0015750167028094528), (u'TAB_e1_COL_WORDS_[bc548bu]', 0.0015742779744924087), (u'TAB_e1_COL_WORDS_[bc547cta]', 0.0015733157215229393), (u'TAB_e1_COL_WORDS_[bc547bbu]', 0.0015730661307468185), (u'TAB_e2_NEIGHBOR_PHRASE_WORDS_[at collector]', 0.0015663854723132933), (u'TAB_e2_NEIGHBOR_PHRASE_WORDS_[currents to]', 0.0015663854723132933), (u'TAB_e2_NEIGHBOR_PHRASE_WORDS_[currents]', 0.0015663854723132933), (u'TAB_e2_NEIGHBOR_PHRASE_WORDS_[collector currents]', 0.0015663854723132933), (u'TAB_e2_NEIGHBOR_PHRASE_WORDS_[at]', 0.0015663854723132933), (u'TAB_e1_COL_WORDS_[bc546abu]', 0.0015643814705068573), (u'TDL_INV_LEMMA:RIGHT-OF-MENTION[PNP]', -0.0015594739579395183), (u'TAB_e1_RIGHT_WORDS_[in groups]', 0.0015593348603445219), (u'TAB_e1_CONTAINS_WORDS_[PZT3906]', 0.0015529730589385182), (u'TAB_e2_NEIGHBOR_PHRASE_WORDS_[mmbt6427]', 0.0015460512747512182), (u'TAB_e2_NEIGHBOR_PHRASE_WORDS_[/ mmbt6427]', 0.0015460512747512182), (u'TAB_e2_NEIGHBOR_PHRASE_WORDS_[2n6427]', 0.0015460512747512182), (u'TAB_e2_NEIGHBOR_PHRASE_WORDS_[2n6427 /]', 0.0015460512747512182), (u'TAB_e1_ROW_WORDS_[*]', 0.0015433531711814587), (u'TAB_e1_COL_WORDS_[bc547cbu]', 0.0015404557333735408), (u'TAB_e1_RIGHT_WORDS_[/ bc549]', 0.0015390735338943397), (u'TAB_e1_COL_HEAD_WORDS_[,]', 0.0015384159304321244), (u'TAB_e1_NEIGHBOR_PHRASE_WORDS_[complementary]', 0.0015338593225541208), (u'TAB_e1_RIGHT_WORDS_[bc 847]', -0.0015306359222787582), (u'TAB_e1_RIGHT_WORDS_[847 ,]', -0.0015306359222787582), (u'TAB_e1_RIGHT_WORDS_[847]', -0.0015306359222787582), (u'TAB_e1_LEFT_WORDS_[...]', -0.001520522989402737), (u'TAB_e1_ROW_WORDS_[(]', 0.001517503966058783), (u'TAB_e2_RIGHT_WORDS_[transistor 625mw]', 0.0015121803662428348), (u'TAB_e2_NEIGHBOR_PHRASE_WORDS_[hole]', 0.0015121803662428348), (u'TAB_e2_NEIGHBOR_PHRASE_WORDS_[hole package]', 0.0015121803662428348), (u'TAB_e2_NEIGHBOR_PHRASE_WORDS_[through hole]', 0.0015121803662428348), (u'TAB_e2_RIGHT_WORDS_[amplifier transistor]', 0.0015121803662428348), (u'TAB_e2_RIGHT_WORDS_[silicon amplifier]', 0.0015121803662428348), (u'TAB_e2_RIGHT_WORDS_[625mw]', 0.0015121803662428348), (u'TAB_e2_NEIGHBOR_PHRASE_WORDS_[through]', 0.0015121803662428348), (u'TDL_INV_LEMMA:SEQ-BETWEEN[:]', -0.0015084768701112189), (u'TAB_e1_ROW_WORDS_[250]', 0.001507058355992824), (u'TAB_e1_RIGHT_WORDS_[bc858 ,]', 0.0015059706347478456), (u'TAB_e1_LEFT_WORDS_[bc546 ,]', 0.0014944762940349418), (u'TAB_e2_NEIGHBOR_PHRASE_WORDS_[mmbt4124]', 0.001490790821154614), (u'TAB_e2_NEIGHBOR_PHRASE_WORDS_[2n4124 /]', 0.001490790821154614), (u'TAB_e2_NEIGHBOR_PHRASE_WORDS_[/ mmbt4124]', 0.001490790821154614), (u'TAB_e1_NEIGHBOR_PHRASE_WORDS_[npn]', 0.0014862908987590714), (u'TAB_e2_NEIGHBOR_PHRASE_WORDS_[switch .]', 0.0014794966141099672), (u'TAB_e2_NEIGHBOR_PHRASE_WORDS_[a general]', 0.0014794966141099672), (u'TAB_e2_NEIGHBOR_PHRASE_WORDS_[zc]', 0.0014794966141099672), (u'TAB_e2_NEIGHBOR_PHRASE_WORDS_[switch]', 0.0014794966141099672), (u'TAB_e2_NEIGHBOR_PHRASE_WORDS_[and switch]', 0.0014794966141099672), (u'TAB_e2_NEIGHBOR_PHRASE_WORDS_[as]', 0.0014794966141099672), (u'TAB_e2_NEIGHBOR_PHRASE_WORDS_[designed as]', 0.0014794966141099672), (u'TAB_e2_NEIGHBOR_PHRASE_WORDS_[: zc]', 0.0014794966141099672), (u'TAB_e2_NEIGHBOR_PHRASE_WORDS_[as a]', 0.0014794966141099672), (u'TAB_e1_ROW_WORDS_[, i]', 0.0014691743480471366), (u'TAB_e1_COL_WORDS_[856]', -0.0014669529567469006), (u'TAB_e1_COL_WORDS_[bc 856]', -0.0014669529567469006), (u'TAB_e1_CONTAINS_WORDS_[BC846]', -0.00146169616557661), (u'TAB_e1_RIGHT_WORDS_[specification datasheet]', -0.0014588153813444925), (u'TAB_e1_RIGHT_WORDS_[specification]', -0.0014588153813444925), (u'TAB_e2_NEIGHBOR_PHRASE_WORDS_[rev. 9]', 0.0014569769128803564), (u'TAB_e2_NEIGHBOR_PHRASE_WORDS_[9]', 0.0014569769128803564), (u'TAB_e2_NEIGHBOR_PHRASE_WORDS_[2012 product]', 0.0014569769128803564), (u'TAB_e2_NEIGHBOR_PHRASE_WORDS_[product data]', 0.0014569769128803564), (u'TAB_e2_NEIGHBOR_PHRASE_WORDS_[9 -]', 0.0014569769128803564), (u'TAB_e2_NEIGHBOR_PHRASE_WORDS_[september 2012]', 0.0014569769128803564), (u'TAB_e2_NEIGHBOR_PHRASE_WORDS_[rev.]', 0.0014569769128803564), (u'TAB_e2_NEIGHBOR_PHRASE_WORDS_[data sheet]', 0.0014569769128803564), (u'TAB_e2_NEIGHBOR_PHRASE_WORDS_[sheet]', 0.0014569769128803564), (u'TAB_e2_NEIGHBOR_PHRASE_WORDS_[25 september]', 0.0014569769128803564), (u'TAB_e2_NEIGHBOR_PHRASE_WORDS_[2012]', 0.0014569769128803564), (u'TAB_e2_NEIGHBOR_PHRASE_WORDS_[0.2 watts]', 0.001456233429027689), (u'TAB_e2_NEIGHBOR_PHRASE_WORDS_[capable of]', 0.001456233429027689), (u'TAB_e2_NEIGHBOR_PHRASE_WORDS_[dissipation]', 0.001456233429027689), (u'TAB_e2_NEIGHBOR_PHRASE_WORDS_[of power]', 0.001456233429027689), (u'TAB_e2_NEIGHBOR_PHRASE_WORDS_[bc807-25w]', 0.001456233429027689), (u'TAB_e2_NEIGHBOR_PHRASE_WORDS_[of 0.2]', 0.001456233429027689), (u'TAB_e2_NEIGHBOR_PHRASE_WORDS_[bc807-40w]', 0.001456233429027689), (u'TAB_e2_NEIGHBOR_PHRASE_WORDS_[power dissipation]', 0.001456233429027689), (u'TAB_e2_NEIGHBOR_PHRASE_WORDS_[bc807-16w bc807-25w]', 0.001456233429027689), (u'TAB_e2_NEIGHBOR_PHRASE_WORDS_[dissipation .]', 0.001456233429027689), (u'TAB_e2_NEIGHBOR_PHRASE_WORDS_[capable]', 0.001456233429027689), (u'TAB_e2_NEIGHBOR_PHRASE_WORDS_[watts of]', 0.001456233429027689), (u'TAB_e2_NEIGHBOR_PHRASE_WORDS_[watts]', 0.001456233429027689), (u'TAB_e2_NEIGHBOR_PHRASE_WORDS_[0.2]', 0.001456233429027689), (u'TAB_e2_NEIGHBOR_PHRASE_WORDS_[bc807-25w bc807-40w]', 0.001456233429027689), (u'TAB_e1_LEFT_WORDS_[, b]', 0.0014521541571172725), (u'TDL_INV_LEMMA:SEQ-BETWEEN[, b]', 0.0014521541571172725), (u'TAB_e1_COL_WORDS_[voltage bc856]', 0.0014444716825422455), (u'TAB_e1_COL_WORDS_[bc858 ,]', 0.0014444716825422455), (u'TAB_e1_COL_WORDS_[, bc859]', 0.0014444716825422455), (u'TAB_e1_ROW_WORDS_[emt3]', -0.0014428389165953384), (u'TAB_e1_ROW_WORDS_[umt3]', -0.0014400478926064402), (u'TAB_e1_COL_WORDS_[bc858]', 0.001439209295057736), (u'TAB_e1_CONTAINS_WORDS_[MMBT6427]', 0.0014349787571156234), (u'TAB_e1_COL_WORDS_[bc857]', 0.0014345222808973663), (u'TAB_e1_CONTAINS_WORDS_[2N3903and]', -0.0014305074908845194), (u'TDL_LEMMA:RIGHT-OF-MENTION[Transistor]', 0.001429542396976539), (u'TAB_e1_RIGHT_WORDS_[npn silicon]', 0.0014216404229514502), (u'TDL_INV_LEMMA:BETWEEN-MENTION-and-MENTION[f]', 0.001418159998854862), (u'TAB_e1_ROW_WORDS_[10]', 0.0014178592740997386), (u'TAB_e1_NEIGHBOR_PHRASE_WORDS_[recommended]', 0.0014115531021268925), (u'TAB_e2_ROW_WORDS_[ecb]', 0.00140714878589557), (u'TAB_e2_COL_WORDS_[npn low]', 0.00140714878589557), (u'TAB_e1_ROW_HEAD_WORDS_[npn]', 0.00140714878589557), (u'TAB_e2_COL_WORDS_[noise]', 0.00140714878589557), (u'TAB_e1_COL_HEAD_WORDS_[type no]', 0.00140714878589557), (u'TAB_e2_ROW_WORDS_[5.0]', 0.00140714878589557), (u'TAB_e2_COL_WORDS_[ampl/switch]', 0.00140714878589557), (u'TAB_SAME_TABLE_COL_DIFF_[1]', 0.00140714878589557), (u'TAB_e2_COL_WORDS_[description]', 0.00140714878589557), (u'TAB_SAME_TABLE', 0.00140714878589557), (u'TAB_e1_COL_WORDS_[type no]', 0.00140714878589557), (u'TAB_e2_COL_NUM_[1]', 0.00140714878589557), (u'TAB_e2_COL_HEAD_WORDS_[description]', 0.00140714878589557), (u'TAB_e2_COL_WORDS_[low noise]', 0.00140714878589557), (u'TAB_e1_ROW_WORDS_[npn]', 0.00140714878589557), (u'TAB_e2_COL_WORDS_[npn ampl/switch]', 0.00140714878589557), (u'TAB_e2_COL_WORDS_[npn]', 0.00140714878589557), (u'TAB_e1_ROW_WORDS_[ecb]', 0.00140714878589557), (u'TAB_e1_COL_WORDS_[base voltage]', -0.0013996785128879436), (u'TAB_e1_COL_WORDS_[emitter voltage]', -0.0013996785128879436), (u'TAB_e2_RIGHT_WORDS_[small]', 0.0013927028569081608), (u'TAB_e2_RIGHT_WORDS_[signal]', 0.0013927028569081608), (u'TAB_e2_RIGHT_WORDS_[small signal]', 0.0013927028569081608), (u'TAB_e1_NEIGHBOR_PHRASE_WORDS_[bc337 -]', 0.0013835680162336398), (u'TAB_e2_NEIGHBOR_PHRASE_WORDS_[new]', 0.0013793658449532452), (u'TAB_e1_NEIGHBOR_PHRASE_WORDS_[applications]', -0.0013706694733118452), (u'TAB_e1_RIGHT_WORDS_[, bc549]', 0.001367240609247487), (u'TDL_DEP_LABEL:BETWEEN-MENTION-and-MENTION[compound]', -0.0013616145624915968), (u'TAB_e2_LEFT_WORDS_[small]', 0.0013582843864190237), (u'TAB_e2_LEFT_WORDS_[small signal]', 0.0013582843864190237), (u'TAB_e2_LEFT_WORDS_[signal]', 0.0013582843864190237), (u'TAB_e1_NEIGHBOR_PHRASE_WORDS_[part specification]', -0.0013525957416156197), (u'TAB_e1_NEIGHBOR_PHRASE_WORDS_[2n3905 part]', -0.0013525957416156197), (u'TAB_e1_NEIGHBOR_PHRASE_WORDS_[specification]', -0.0013525957416156197), (u'TAB_e1_NEIGHBOR_PHRASE_WORDS_[specification datasheet]', -0.0013525957416156197), (u'TAB_e1_ROW_WORDS_[bc33725]', 0.001347947389298338), (u'TAB_e1_ROW_HEAD_WORDS_[bc33725]', 0.001347947389298338), (u'TAB_e1_LEFT_WORDS_[2n3903 and]', -0.0013445818269789901), (u'TDL_INV_LEMMA:SEQ-BETWEEN[2n3903]', -0.0013445818269789901), (u'TDL_INV_LEMMA:SEQ-BETWEEN[2n3903 and]', -0.0013445818269789901), (u'TAB_e1_LEFT_WORDS_[are 2n3903]', -0.0013445818269789901), (u'TAB_e1_LEFT_WORDS_[2n3903]', -0.0013445818269789901), (u'TAB_e1_CONTAINS_WORDS_[BC239]', 0.0013438786885134751), (u'TDL_INV_LEMMA:RIGHT-OF-MENTION[be]', 0.0013405455834641445), (u'TAB_e2_NEIGHBOR_PHRASE_WORDS_[transistors]', 0.001338742296070501), (u'TAB_e1_LEFT_WORDS_[a ,]', 0.0013347363620396274), (u'TDL_LEMMA:PARENTS-OF-BETWEEN-MENTION-and-MENTION[2n3906]', 0.0013245619781999814), (u'TDL_LEMMA:PARENTS-OF-BETWEEN-MENTION-and-MENTION[None 2n3906]', 0.0013245619781999814), (u'TDL_LEMMA:PARENTS-OF-BETWEEN-MENTION-and-MENTION[None bc546]', 0.0013245604734435578), (u'TDL_LEMMA:PARENTS-OF-BETWEEN-MENTION-and-MENTION[bc546]', 0.0013245604734435578), (u'TAB_e1_COL_WORDS_[junction]', 0.001320010273963197), (u'TAB_e1_ROW_WORDS_[tape]', 0.001312034486451282), (u'TAB_e1_CONTAINS_WORDS_[2N3903]', -0.001306379636767885), (u'TAB_e1_RIGHT_WORDS_[and 2n3904]', -0.001306379636767885), (u'TAB_e2_NEIGHBOR_PHRASE_WORDS_[epitaxial]', 0.001305773724960122), (u'TAB_e2_NEIGHBOR_PHRASE_WORDS_[- npn]', 0.001305773724960122), (u'TAB_e2_NEIGHBOR_PHRASE_WORDS_[epitaxial silicon]', 0.001305773724960122), (u'TAB_e2_NEIGHBOR_PHRASE_WORDS_[npn epitaxial]', 0.001305773724960122), (u'TAB_e1_NEIGHBOR_PHRASE_WORDS_[2n3904]', -0.0013037791207252448), (u'TAB_e1_RIGHT_WORDS_[transistors designed]', -0.0013037791207252448), (u'TAB_e1_NEIGHBOR_PHRASE_WORDS_[npn complementary]', -0.0013037791207252448), (u'TAB_e1_RIGHT_WORDS_[designed]', -0.0013037791207252448), (u'TAB_e1_RIGHT_WORDS_[designed for]', -0.0013037791207252448), (u'TAB_e1_NEIGHBOR_PHRASE_WORDS_[2n3903]', -0.0013037791207252448), (u'TAB_e1_NEIGHBOR_PHRASE_WORDS_[are 2n3903]', -0.0013037791207252448), (u'TAB_e1_NEIGHBOR_PHRASE_WORDS_[and 2n3904]', -0.0013037791207252448), (u'TAB_e1_RIGHT_WORDS_[are pnp]', -0.0013037791207252448), (u'TAB_e1_NEIGHBOR_PHRASE_WORDS_[2n3903 and]', -0.0013037791207252448), (u'TAB_e1_NEIGHBOR_PHRASE_WORDS_[2n3904 .]', -0.0013037791207252448), (u'TDL_INV_LEMMA:SEQ-BETWEEN[type ,]', -0.0013018220083422696), (u'TDL_INV_LEMMA:SEQ-BETWEEN[complementary type ,]', -0.0013018220083422696), (u'TDL_INV_DEP_LABEL|LEMMA:BETWEEN-MENTION-and-MENTION[ROOT|recommend nmod|type]', -0.0013018220083422696), (u'TDL_INV_LEMMA:BETWEEN-MENTION-and-MENTION[recommend type]', -0.0013018220083422696), (u'TDL_INV_LEMMA:SEQ-BETWEEN[type , the]', -0.0013018220083422696), (u'TDL_INV_LEMMA:SEQ-BETWEEN[, the PNP]', -0.0013018220083422696), (u'TDL_INV_LEMMA:SEQ-BETWEEN[the PNP transistor]', -0.0013018220083422696), (u'TDL_INV_LEMMA:SEQ-BETWEEN[the PNP]', -0.0013018220083422696), (u'TDL_INV_DEP_LABEL|LEMMA:BETWEEN-MENTION-and-MENTION[ROOT|recommend]', -0.0013018220083422696), (u'TDL_INV_LEMMA:SEQ-BETWEEN[( pnp]', 0.0012966123082661083), (u'TDL_INV_LEMMA:SEQ-BETWEEN[( pnp )]', 0.0012966123082661083), (u'TDL_INV_LEMMA:SEQ-BETWEEN[pnp )]', 0.0012966123082661083), (u'TAB_e1_COL_WORDS_[er]', 0.0012871442665635658), (u'TAB_e1_COL_WORDS_[cut]', -0.0012863524897305796), (u'TAB_e1_COL_WORDS_[emitter on]', -0.0012863524897305796), (u'TAB_e1_COL_WORDS_[emitter saturation]', -0.0012863524897305796), (u'TAB_e1_COL_WORDS_[base emitter]', -0.0012863524897305796), (u'TAB_e1_COL_WORDS_[description]', -0.0012863524897305796), (u'TAB_e1_COL_WORDS_[collector cut]', -0.0012863524897305796), (u'TAB_e1_COL_HEAD_WORDS_[description]', -0.0012863524897305796), (u'TAB_e1_COL_WORDS_[collector base]', -0.0012863524897305796), (u'TAB_e1_COL_WORDS_[bc547/bc547a/bc547b /]', -0.0012863524897305796), (u'TAB_e1_COL_WORDS_[/ bc547c]', -0.0012863524897305796), (u'TAB_e1_COL_WORDS_[bc547/bc547a/bc547b]', -0.0012863524897305796), (u'TAB_e1_COL_WORDS_[off]', -0.0012863524897305796), (u'TAB_e1_COL_WORDS_[off current]', -0.0012863524897305796), (u'TAB_e1_COL_WORDS_[bc548/bc548a/bc548b /]', -0.0012863524897305796), (u'TAB_e1_COL_WORDS_[/ bc546c]', -0.0012863524897305796), (u'TAB_e1_COL_WORDS_[bc548/bc548a/bc548b]', -0.0012863524897305796), (u'TAB_e1_COL_WORDS_[cut off]', -0.0012863524897305796), (u'TAB_e1_COL_WORDS_[bc546/bc546a/bc546b]', -0.0012863524897305796), (u'TAB_e1_COL_WORDS_[collector emitter]', -0.0012863524897305796), (u'TAB_e1_COL_WORDS_[/ bc548c]', -0.0012863524897305796), (u'TAB_e1_COL_WORDS_[bc546/bc546a/bc546b /]', -0.0012863524897305796), (u'TAB_e1_NEIGHBOR_PHRASE_WORDS_[publication]', -0.0012656823624180836), (u'TAB_e1_NEIGHBOR_PHRASE_WORDS_[order number]', -0.0012656823624180836), (u'TAB_e1_NEIGHBOR_PHRASE_WORDS_[number :]', -0.0012656823624180836), (u'TAB_e1_NEIGHBOR_PHRASE_WORDS_[publication order]', -0.0012656823624180836), (u'TAB_e1_NEIGHBOR_PHRASE_WORDS_[1 publication]', -0.0012656823624180836), (u'TAB_e2_LEFT_WORDS_[2n3906 mmbt3906]', 0.0012647456590903104), (u'TAB_e2_LEFT_WORDS_[mmbt3906 pzt3906]', 0.0012647456590903104), (u'TAB_e1_ROW_WORDS_[v v]', 0.001261756720865017), (u'TDL_LEMMA:SEQ-BETWEEN[...]', -0.0012599312266613329), (u'TAB_e2_NEIGHBOR_PHRASE_WORDS_[xls]', -0.0012598936877476416), (u'TAB_e2_RIGHT_WORDS_[planar epitaxial]', -0.0012598936877476416), (u'TAB_e2_RIGHT_WORDS_[epitaxial transistors]', -0.0012598936877476416), (u'TAB_e1_LEFT_WORDS_[mmbt3906 /]', 0.0012581084397149873), (u'TAB_e1_LEFT_WORDS_[/ mmbt3906]', 0.0012581084397149873), (u'TAB_e1_RIGHT_WORDS_[...]', -0.001255676182234981), (u'TAB_e2_NEIGHBOR_PHRASE_WORDS_[/ bc547]', -0.0012545678396854451), (u'TAB_e2_NEIGHBOR_PHRASE_WORDS_[bc547 /]', -0.0012545678396854451), (u'TAB_e2_NEIGHBOR_PHRASE_WORDS_[/ bc548]', -0.0012545678396854451), (u'TAB_e2_NEIGHBOR_PHRASE_WORDS_[bc546 /]', -0.0012545678396854451), (u'TAB_e2_NEIGHBOR_PHRASE_WORDS_[amplifier transistors]', 0.0012516341496691412), (u'TAB_e2_NEIGHBOR_PHRASE_WORDS_[this]', 0.0012466312517798964), (u'TAB_e1_LEFT_WORDS_[2n6427]', 0.0012366979907143868), (u'TAB_e2_RIGHT_WORDS_[epitaxial]', -0.0012363962581320494), (u'TAB_e1_LEFT_WORDS_[/ bc548]', 0.001234561370453571), (u'TAB_e1_NEIGHBOR_PHRASE_WORDS_[fairchild]', 0.00123334527734405), (u'TAB_e1_NEIGHBOR_PHRASE_WORDS_[semiconductor corporation]', 0.00123334527734405), (u'TAB_e1_NEIGHBOR_PHRASE_WORDS_[corporation]', 0.00123334527734405), (u'TAB_e1_NEIGHBOR_PHRASE_WORDS_[fairchild semiconductor]', 0.00123334527734405), (u'TAB_e1_ROW_WORDS_[, v]', 0.0012264587749105593), (u'TAB_e1_CONTAINS_WORDS_[BC858]', 0.0012251171008959122), (u'TDL_INV_DEP_LABEL:BETWEEN-MENTION-and-MENTION[ROOT dep]', 0.0012227226657488984), (u'TAB_e1_NEIGHBOR_PHRASE_WORDS_[) internal]', -0.0012222206298382757), (u'TAB_e1_NEIGHBOR_PHRASE_WORDS_[two (]', -0.0012222206298382757), (u'TAB_e1_NEIGHBOR_PHRASE_WORDS_[( galvanic]', -0.0012222206298382757), (u'TAB_e1_NEIGHBOR_PHRASE_WORDS_[two]', -0.0012222206298382757), (u'TAB_e1_NEIGHBOR_PHRASE_WORDS_[matching]', -0.0012222206298382757), (u'TAB_e1_NEIGHBOR_PHRASE_WORDS_[one]', -0.0012222206298382757), (u'TAB_e1_NEIGHBOR_PHRASE_WORDS_[good]', -0.0012222206298382757), (u'TAB_e1_NEIGHBOR_PHRASE_WORDS_[isolated transistors]', -0.0012222206298382757), (u'TAB_e1_NEIGHBOR_PHRASE_WORDS_[transistors with]', -0.0012222206298382757), (u'TAB_e1_NEIGHBOR_PHRASE_WORDS_[in one]', -0.0012222206298382757), (u'TAB_e1_NEIGHBOR_PHRASE_WORDS_[galvanic]', -0.0012222206298382757), (u'TAB_e1_NEIGHBOR_PHRASE_WORDS_[isolated]', -0.0012222206298382757), (u'TAB_e1_NEIGHBOR_PHRASE_WORDS_[with good]', -0.0012222206298382757), (u'TAB_e1_NEIGHBOR_PHRASE_WORDS_[galvanic )]', -0.0012222206298382757), (u'TAB_e1_NEIGHBOR_PHRASE_WORDS_[internal isolated]', -0.0012222206298382757), (u'TAB_e1_NEIGHBOR_PHRASE_WORDS_[matching in]', -0.0012222206298382757), (u'TAB_e1_NEIGHBOR_PHRASE_WORDS_[good matching]', -0.0012222206298382757), (u'TAB_e1_NEIGHBOR_PHRASE_WORDS_[one package]', -0.0012222206298382757), (u'TAB_e1_NEIGHBOR_PHRASE_WORDS_[internal]', -0.0012222206298382757), (u'TAB_e1_LEFT_WORDS_[general purpose]', -0.001221342320077442), (u'TDL_INV_LEMMA:SEQ-BETWEEN[purpose transistor]', -0.001221342320077442), (u'TDL_INV_DEP_LABEL|LEMMA:BETWEEN-MENTION-and-MENTION[ROOT|2n4124 compound|transistor]', -0.001221342320077442), (u'TAB_e1_LEFT_WORDS_[purpose transistor]', -0.001221342320077442), (u'TDL_INV_LEMMA:BETWEEN-MENTION-and-MENTION[2n4124 transistor]', -0.001221342320077442), (u'TAB_e1_LEFT_WORDS_[purpose]', -0.001221342320077442), (u'TDL_INV_LEMMA:SEQ-BETWEEN[general purpose transistor]', -0.001221342320077442), (u'TAB_e1_LEFT_WORDS_[npn general]', -0.001221342320077442), (u'TAB_e1_LEFT_WORDS_[transistor]', -0.001221342320077442), (u'TAB_e1_LEFT_WORDS_[general]', -0.001221342320077442), (u'TDL_INV_LEMMA:SEQ-BETWEEN[general purpose]', -0.001221342320077442), (u'TDL_INV_LEMMA:RIGHT-OF-MENTION[general]', -0.001221342320077442), (u'TDL_INV_LEMMA:SEQ-BETWEEN[purpose]', -0.001221342320077442), (u'TDL_INV_LEMMA:SEQ-BETWEEN[general]', -0.001221342320077442), (u'TAB_e1_COL_WORDS_[dc]', 0.0012183573504752922), (u'TAB_e1_COL_WORDS_[bc818]', -0.00121705581998505), (u'TDL_LEMMA:SEQ-BETWEEN[/]', 0.001207481335523553), (u'TAB_e2_RIGHT_WORDS_[planar general]', 0.0012067410319914383), (u'TAB_e2_NEIGHBOR_PHRASE_WORDS_[issue]', 0.0012067410319914383), (u'TAB_e2_NEIGHBOR_PHRASE_WORDS_[- april]', 0.0012067410319914383), (u'TAB_e2_NEIGHBOR_PHRASE_WORDS_[6]', 0.0012067410319914383), (u'TAB_e2_NEIGHBOR_PHRASE_WORDS_[april 1997]', 0.0012067410319914383), (u'TAB_e2_NEIGHBOR_PHRASE_WORDS_[issue 6]', 0.0012067410319914383), (u'TAB_e2_NEIGHBOR_PHRASE_WORDS_[6 -]', 0.0012067410319914383), (u'TAB_e2_NEIGHBOR_PHRASE_WORDS_[bc857 bc859]', 0.0012067410319914383), (u'TAB_e1_COL_WORDS_[=]', 0.001201466443470027), (u'TAB_e1_NEIGHBOR_PHRASE_WORDS_[bc857a]', 0.0011923889753259666), (u'TAB_e1_NEIGHBOR_PHRASE_WORDS_[bc857a =]', 0.0011923889753259666), (u'TAB_e1_CELL_WORDS_[: bc237]', 0.0011889832961256906), (u'TAB_e1_ROW_WORDS_[: bc237]', 0.0011889832961256906), (u'TAB_e1_CELL_WORDS_[bc237]', 0.0011889832961256906), (u'TAB_e1_ROW_WORDS_[bc237]', 0.0011889832961256906), (u'TAB_e1_NEIGHBOR_PHRASE_WORDS_[pzt3906 -]', 0.0011788340073930323), (u'TAB_e1_NEIGHBOR_PHRASE_WORDS_[- pnp]', 0.0011788340073930323), (u'TAB_e1_NEIGHBOR_PHRASE_WORDS_[pzt3906]', 0.0011788340073930323), (u'TAB_e1_NEIGHBOR_PHRASE_WORDS_[semiconductors]', -0.0011693207553517824), (u'TAB_e1_NEIGHBOR_PHRASE_WORDS_[discrete semiconductors]', -0.0011693207553517824), (u'TAB_e1_NEIGHBOR_PHRASE_WORDS_[discrete]', -0.0011693207553517824), (u'TAB_e1_NEIGHBOR_PHRASE_WORDS_[according]', -0.0011683282333238506), (u'TAB_e1_COL_WORDS_[bc859]', 0.0011623791602474707), (u'TAB_e1_RIGHT_WORDS_[bc549 /]', 0.0011615518032321763), (u'TAB_e1_NEIGHBOR_PHRASE_WORDS_[marking :]', -0.001160397878210029), (u'TAB_e2_NEIGHBOR_PHRASE_WORDS_[b]', 0.0011592044807795848), (u'TAB_e1_LEFT_WORDS_[c )]', -0.0011412972553190243), (u'TAB_e1_NEIGHBOR_PHRASE_WORDS_[: (]', -0.0011412972553190243), (u'TAB_e1_NEIGHBOR_PHRASE_WORDS_[characteristics :]', -0.0011412972553190243), (u'TAB_e1_COL_WORDS_[-]', 0.0011319759175648799), (u'TAB_e1_NEIGHBOR_PHRASE_WORDS_[ca]', 0.0011318550032756482), (u'TAB_e1_NEIGHBOR_PHRASE_WORDS_[commercial components]', 0.0011318550032756482), (u'TAB_e1_NEIGHBOR_PHRASE_WORDS_[20736]', 0.0011318550032756482), (u'TAB_e1_NEIGHBOR_PHRASE_WORDS_[micro]', 0.0011318550032756482), (u'TAB_e1_NEIGHBOR_PHRASE_WORDS_[marilla street]', 0.0011318550032756482), (u'TAB_e1_NEIGHBOR_PHRASE_WORDS_[chatsworth ca]', 0.0011318550032756482), (u'TAB_e1_NEIGHBOR_PHRASE_WORDS_[marilla]', 0.0011318550032756482), (u'TAB_e1_NEIGHBOR_PHRASE_WORDS_[commercial]', 0.0011318550032756482), (u'TAB_e1_NEIGHBOR_PHRASE_WORDS_[20736 marilla]', 0.0011318550032756482), (u'TAB_e1_NEIGHBOR_PHRASE_WORDS_[91311]', 0.0011318550032756482), (u'TAB_e1_NEIGHBOR_PHRASE_WORDS_[chatsworth]', 0.0011318550032756482), (u'TAB_e1_NEIGHBOR_PHRASE_WORDS_[micro commercial]', 0.0011318550032756482), (u'TAB_e1_NEIGHBOR_PHRASE_WORDS_[street]', 0.0011318550032756482), (u'TAB_e1_NEIGHBOR_PHRASE_WORDS_[street chatsworth]', 0.0011318550032756482), (u'TAB_e1_NEIGHBOR_PHRASE_WORDS_[components 20736]', 0.0011318550032756482), (u'TAB_e1_NEIGHBOR_PHRASE_WORDS_[ca 91311]', 0.0011318550032756482), (u'TAB_e1_NEIGHBOR_PHRASE_WORDS_[components]', 0.0011318550032756482), (u'TAB_e1_COL_WORDS_[2n3393]', 0.0011230732030443585), (u'TAB_e1_ROW_WORDS_[- -]', 0.0011230732030443585), (u'TDL_INV_LEMMA:SEQ-BETWEEN[a ,]', 0.0011184593640781195), (u'TAB_e1_ROW_HEAD_WORDS_[25]', 0.0011182840594610552), (u'TAB_e2_NEIGHBOR_PHRASE_WORDS_[power]', 0.0011172796464013622), (u'TDL_LEMMA:SEQ-BETWEEN[bc549 ,]', 0.0011158118782895077), (u'TDL_LEMMA:SEQ-BETWEEN[bc549 , bc550]', 0.0011158118782895077), (u'TAB_e2_NEIGHBOR_PHRASE_WORDS_[1 )]', 0.0011102790326539124), (u'TAB_e2_NEIGHBOR_PHRASE_WORDS_[( 1]', 0.0011102790326539124), (u'TDL_INV_LEMMA:LEFT-OF-MENTION[,]', -0.001107952688866476), (u'TAB_e1_ROW_WORDS_[bc546]', 0.0011000131068350438), (u'TAB_e1_COL_WORDS_[2n3391a]', 0.00109887096316094), (u'TAB_e1_COL_WORDS_[2n2926]', 0.0010908913452645972), (u'TAB_e1_ROW_WORDS_[bc846w]', -0.0010884615185642913), (u'TAB_e1_CONTAINS_WORDS_[BC848]', 0.0010878440920263906), (u'TAB_e1_LEFT_WORDS_[, bc857]', 0.0010823533391609572), (u'TAB_e1_COL_WORDS_[2n2924]', 0.0010804532928578273), (u'TAB_e1_COL_WORDS_[2n2925]', 0.0010788879880556373), (u'TAB_e1_ROW_WORDS_[noise]', 0.0010744586512532147), (u'TAB_e2_NEIGHBOR_PHRASE_WORDS_[high]', 0.0010730960648850719), (u'TAB_e1_RIGHT_WORDS_[datasheet]', -0.001072608008075785), (u'TAB_e1_ROW_WORDS_[6]', 0.0010685217790860808), (u'TAB_e1_COL_WORDS_[2n3392]', 0.0010661136034372071), (u'TAB_e1_LEFT_WORDS_[-]', -0.001064929524608585), (u'TAB_e1_NEIGHBOR_PHRASE_WORDS_[bc237/238/239]', 0.0010637604206462116), (u'TAB_e2_ROW_WORDS_[-]', 0.0010580800594575733), (u'TAB_e2_ROW_WORDS_[- -]', 0.0010580800594575733), (u'TDL_DEP_LABEL:BETWEEN-MENTION-and-MENTION[ROOT dep dep]', 0.0010566942878470775), (u'TAB_e1_COL_WORDS_[2n2923]', 0.0010532276131470207), (u'TAB_e2_RIGHT_WORDS_[digital]', 0.0010468486296981016), (u'TAB_e1_COL_HEAD_WORDS_[a]', 0.0010391456524801025), (u'TAB_e1_COL_HEAD_WORDS_[a ,]', 0.0010391456524801025), (u'TAB_e1_RIGHT_WORDS_[bc549 ,]', 0.0010364300096703887), (u'TAB_e1_RIGHT_WORDS_[purpose]', 0.0010244588250221905), (u'TAB_e2_LEFT_WORDS_[/]', -0.001021628227146073), (u'TAB_e1_NEIGHBOR_PHRASE_WORDS_[bc546 /]', 0.001015086299922461), (u'TAB_e1_NEIGHBOR_PHRASE_WORDS_[/ bc547]', 0.001015086299922461), (u'TAB_e1_COL_WORDS_[c]', 0.0010136694470466332), (u'TAB_e1_RIGHT_WORDS_[/ pzt3906]', 0.001008795992929245), (u'TDL_LEMMA:RIGHT-OF-MENTION[=]', 0.0010074765690437852), (u'TAB_e2_NEIGHBOR_PHRASE_WORDS_[si-epitaxial]', 0.0010073637499312504), (u'TAB_e2_NEIGHBOR_PHRASE_WORDS_[universellen einsatz]', 0.0010073637499312504), (u'TAB_e2_NEIGHBOR_PHRASE_WORDS_[planar-transistoren]', 0.0010073637499312504), (u'TAB_e2_NEIGHBOR_PHRASE_WORDS_[2009-12-03]', 0.0010073637499312504), (u'TAB_e2_NEIGHBOR_PHRASE_WORDS_[version 2009-12-03]', 0.0010073637499312504), (u'TAB_e2_NEIGHBOR_PHRASE_WORDS_[f?r universellen]', 0.0010073637499312504), (u'TAB_e2_NEIGHBOR_PHRASE_WORDS_[universellen]', 0.0010073637499312504), (u'TAB_e2_NEIGHBOR_PHRASE_WORDS_[planar-transistoren f?r]', 0.0010073637499312504), (u'TAB_e2_NEIGHBOR_PHRASE_WORDS_[einsatz]', 0.0010073637499312504), (u'TAB_e2_NEIGHBOR_PHRASE_WORDS_[si-epitaxial planar-transistoren]', 0.0010073637499312504), (u'TDL_DEP_LABEL|LEMMA:BETWEEN-MENTION-and-MENTION[dep|bc338 dep|Transistor]', 0.001005763049032527), (u'TAB_e1_ROW_WORDS_[ce]', 0.0009957939483924965), (u'TAB_e1_NEIGHBOR_PHRASE_WORDS_[sot-23]', 0.0009950774151816929), (u'TAB_e1_COL_WORDS_[150]', 0.000994903582510069), (u'TAB_e1_RIGHT_WORDS_[pzt3906 -]', 0.000992214935469565), (u'TAB_e2_NEIGHBOR_PHRASE_WORDS_[bc550]', -0.000987966808770633), (u'TDL_LEMMA:SEQ-BETWEEN[the]', -0.000983122923682746), (u'TDL_LEMMA:SEQ-BETWEEN[- the]', -0.000983122923682746), (u'TAB_e1_RIGHT_WORDS_[, c]', 0.0009683841935887554), (u'TAB_e1_RIGHT_WORDS_[for]', -0.0009680676502751119), (u'TAB_e1_COL_WORDS_[2n2714]', 0.0009644323422514509), (u'TDL_INV_DEP_LABEL|LEMMA:BETWEEN-MENTION-and-MENTION[ROOT|f]', 0.0009576950370070002), (u'TAB_e1_COL_WORDS_[2n2712]', 0.0009547735422556794), (u'TAB_e1_ROW_INFERRED_WORDS_[c ,]', 0.0009528778306107338), (u'TAB_e1_COL_INFERRED_WORDS_[c ,]', 0.0009528778306107338), (u'TAB_e1_NEIGHBOR_PHRASE_WORDS_[symbol]', -0.0009481905809199424), (u'TDL_INV_DEP_LABEL|LEMMA:BETWEEN-MENTION-and-MENTION[parataxis|supply nsubjpass|type]', 0.0009419349867418937), (u'TAB_e1_RIGHT_WORDS_[can be]', 0.0009419349867418937), (u'TDL_INV_DEP_LABEL|LEMMA:BETWEEN-MENTION-and-MENTION[nsubjpass|type]', 0.0009419349867418937), (u'TAB_e1_RIGHT_WORDS_[can]', 0.0009419349867418937), (u'TDL_INV_LEMMA:BETWEEN-MENTION-and-MENTION[supply type]', 0.0009419349867418937), (u'TDL_INV_DEP_LABEL:BETWEEN-MENTION-and-MENTION[parataxis nsubjpass]', 0.0009419349867418937), (u'TDL_INV_LEMMA:SEQ-BETWEEN[pnp complementary type]', -0.0009366960861808839), (u'TDL_INV_LEMMA:SEQ-BETWEEN[pnp complementary]', -0.0009366960861808839), (u'TAB_e1_RIGHT_WORDS_[, b]', 0.0009285127355727003), (u'TAB_e1_COL_WORDS_[bc547]', -0.0009274401302248147), (u'TAB_e1_COL_WORDS_[bc856w]', -0.0009179678250348966), (u'TAB_e1_NEIGHBOR_PHRASE_WORDS_[bc546 -]', 0.0009141769252477229), (u'TAB_e1_ROW_WORDS_[= 0]', 0.0009121677737705831), (u'TAB_e1_ROW_WORDS_[0]', 0.0009121677737705831), (u'TAB_e1_RIGHT_WORDS_[)]', -0.0009089912031409928), (u'TDL_LEMMA:LEFT-OF-MENTION[bc856]', -0.0009062858931079974), (u'TAB_e1_COL_WORDS_[bc546]', -0.0008975429946620073), (u'TAB_e1_ROW_HEAD_WORDS_[45]', 0.0008941426395432451), (u'TAB_e1_NEIGHBOR_PHRASE_WORDS_[bc549 /]', 0.0008871890442804221), (u'TAB_e1_NEIGHBOR_PHRASE_WORDS_[/ bc550]', 0.0008871890442804221), (u'TAB_e1_NEIGHBOR_PHRASE_WORDS_[bc547 /]', 0.0008871890442804221), (u'TAB_e1_NEIGHBOR_PHRASE_WORDS_[/ bc548]', 0.0008871890442804221), (u'TAB_e1_RIGHT_WORDS_[ma]', -0.0008751336827332526), (u'TAB_e2_LEFT_WORDS_[bc337 bc338]', -0.0008654980061562024), (u'TAB_e1_LEFT_WORDS_[bc547 and]', 0.0008651827394746751), (u'TDL_INV_LEMMA:SEQ-BETWEEN[type bc547]', 0.0008651827394746751), (u'TAB_e1_RIGHT_WORDS_[three groups]', 0.0008651827394746751), (u'TDL_INV_LEMMA:SEQ-BETWEEN[the type bc547]', 0.0008651827394746751), (u'TAB_e1_LEFT_WORDS_[types bc547]', 0.0008651827394746751), (u'TDL_INV_LEMMA:SEQ-BETWEEN[type bc547 and]', 0.0008651827394746751), (u'TDL_INV_LEMMA:SEQ-BETWEEN[bc547 and]', 0.0008651827394746751), (u'TAB_e1_COL_WORDS_[bc856t]', -0.0008606468178561407), (u'TAB_e2_NEIGHBOR_PHRASE_WORDS_[code]', 0.0008586562247273445), (u'TAB_e1_ROW_WORDS_[50]', 0.0008540509421761783), (u'TAB_e1_CONTAINS_WORDS_[BC238]', 0.000850948175241042), (u'TAB_e1_RIGHT_WORDS_[/ bc548]', 0.0008451640582775751), (u'TAB_e1_ROW_WORDS_[3000]', -0.0008394621772686759), (u'TAB_e2_NEIGHBOR_PHRASE_WORDS_[general description]', 0.0008358591715432067), (u'TAB_e2_RIGHT_WORDS_[device]', 0.0008358591715432067), (u'TAB_e2_RIGHT_WORDS_[surface-mounted]', 0.0008358591715432067), (u'TAB_e2_NEIGHBOR_PHRASE_WORDS_[type number]', 0.0008358591715432067), (u'TAB_e2_RIGHT_WORDS_[in surface-mounted]', 0.0008358591715432067), (u'TAB_e2_RIGHT_WORDS_[( smd]', 0.0008358591715432067), (u'TAB_e2_RIGHT_WORDS_[surface-mounted device]', 0.0008358591715432067), (u'TAB_e2_RIGHT_WORDS_[device (]', 0.0008358591715432067), (u'TAB_e2_RIGHT_WORDS_[smd]', 0.0008358591715432067), (u'TAB_e2_RIGHT_WORDS_[transistors in]', 0.0008358591715432067), (u'TDL_INV_DEP_LABEL|LEMMA:BETWEEN-MENTION-and-MENTION[compound|transistor]', -0.000835134946808716), (u'TAB_e1_RIGHT_WORDS_[, bc548b]', 0.0008290067399313926), (u'TDL_DEP_LABEL|LEMMA:BETWEEN-MENTION-and-MENTION[ROOT|series]', -0.0008197347728291677), (u'TDL_LEMMA:BETWEEN-MENTION-and-MENTION[series]', -0.0008197347728291677), (u'TAB_e1_RIGHT_WORDS_[pnp silicon]', -0.0008190324313660233), (u'TAB_e1_NEIGHBOR_PHRASE_WORDS_[to 100]', 0.0008165648463360162), (u'TAB_e1_NEIGHBOR_PHRASE_WORDS_[this device]', 0.0008165648463360162), (u'TAB_e1_NEIGHBOR_PHRASE_WORDS_[for general-purpose]', 0.0008165648463360162), (u'TAB_e1_NEIGHBOR_PHRASE_WORDS_[currents of]', 0.0008165648463360162), (u'TAB_e1_NEIGHBOR_PHRASE_WORDS_[ma .]', 0.0008165648463360162), (u'TAB_e1_NEIGHBOR_PHRASE_WORDS_[applications at]', 0.0008165648463360162), (u'TAB_e1_NEIGHBOR_PHRASE_WORDS_[10]', 0.0008165648463360162), (u'TAB_e1_NEIGHBOR_PHRASE_WORDS_[currents]', 0.0008165648463360162), (u'TAB_e1_NEIGHBOR_PHRASE_WORDS_[at]', 0.0008165648463360162), (u'TAB_e1_NEIGHBOR_PHRASE_WORDS_[10 ma]', 0.0008165648463360162), (u'TAB_e1_NEIGHBOR_PHRASE_WORDS_[at collector]', 0.0008165648463360162), (u'TAB_e1_NEIGHBOR_PHRASE_WORDS_[device is]', 0.0008165648463360162), (u'TAB_e1_NEIGHBOR_PHRASE_WORDS_[of 10]', 0.0008165648463360162), (u'TAB_e1_NEIGHBOR_PHRASE_WORDS_[collector currents]', 0.0008165648463360162), (u'TAB_e1_NEIGHBOR_PHRASE_WORDS_[ma to]', 0.0008165648463360162), (u'TAB_e1_NEIGHBOR_PHRASE_WORDS_[is designed]', 0.0008165648463360162), (u'TAB_e1_NEIGHBOR_PHRASE_WORDS_[the]', 0.0008081705430069612), (u'TAB_e1_COL_WORDS_[current gain]', 0.0008070437763105973), (u'TAB_e1_COL_WORDS_[dc current]', 0.0008070437763105973), (u'TAB_e1_COL_WORDS_[gain]', 0.0008070437763105973), (u'TAB_e1_NEIGHBOR_PHRASE_WORDS_[applications .]', -0.0008065454103038407), (u'TAB_e1_NEIGHBOR_PHRASE_WORDS_[for general]', -0.0008065454103038407), (u'TDL_INV_LEMMA:BETWEEN-MENTION-and-MENTION[a]', 0.0007958815839727107), (u'TAB_e1_COL_WORDS_[= 150]', 0.00079533076982289), (u'TAB_e1_COL_WORDS_[t j]', 0.00079533076982289), (u'TAB_e1_COL_WORDS_[j]', 0.00079533076982289), (u'TAB_e1_NEIGHBOR_PHRASE_WORDS_[complementary types]', 0.0007882301754953267), (u'TAB_e1_CELL_WORDS_[collector-emitter]', 0.0007881420135699657), (u'TAB_e1_COL_HEAD_WORDS_[er]', 0.0007858759546438504), (u'TAB_e1_NEIGHBOR_PHRASE_WORDS_[case weight]', 0.0007807873379131599), (u'TAB_e1_NEIGHBOR_PHRASE_WORDS_[types ,]', 0.0007807873379131599), (u'TAB_e1_NEIGHBOR_PHRASE_WORDS_[case :]', 0.0007807873379131599), (u'TAB_e1_NEIGHBOR_PHRASE_WORDS_[plastic case]', 0.0007807873379131599), (u'TAB_e1_NEIGHBOR_PHRASE_WORDS_[case]', 0.0007807873379131599), (u'TAB_e1_NEIGHBOR_PHRASE_WORDS_[approx]', 0.0007807873379131599), (u'TAB_e1_NEIGHBOR_PHRASE_WORDS_[approx .]', 0.0007807873379131599), (u'TAB_e1_NEIGHBOR_PHRASE_WORDS_[sot-23 plastic]', 0.0007807873379131599), (u'TAB_e1_NEIGHBOR_PHRASE_WORDS_[mechanical]', 0.0007807873379131599), (u'TAB_e1_NEIGHBOR_PHRASE_WORDS_[data case]', 0.0007807873379131599), (u'TAB_e1_NEIGHBOR_PHRASE_WORDS_[: approx]', 0.0007807873379131599), (u'TAB_e1_NEIGHBOR_PHRASE_WORDS_[mechanical data]', 0.0007807873379131599), (u'TAB_e1_NEIGHBOR_PHRASE_WORDS_[: sot-23]', 0.0007807873379131599), (u'TAB_e2_NEIGHBOR_PHRASE_WORDS_[a.]', 0.0007796603051837358), (u'TAB_e2_NEIGHBOR_PHRASE_WORDS_[: 1v]', 0.0007796603051837358), (u'TAB_e2_NEIGHBOR_PHRASE_WORDS_[applications requiring]', 0.0007796603051837358), (u'TAB_e2_NEIGHBOR_PHRASE_WORDS_[from process]', 0.0007796603051837358), (u'TAB_e2_NEIGHBOR_PHRASE_WORDS_[gain at]', 0.0007796603051837358), (u'TAB_e2_NEIGHBOR_PHRASE_WORDS_[1.0 a.]', 0.0007796603051837358), (u'TAB_e2_NEIGHBOR_PHRASE_WORDS_[to 1.0]', 0.0007796603051837358), (u'TAB_e2_NEIGHBOR_PHRASE_WORDS_[05 .]', 0.0007796603051837358), (u'TAB_e2_NEIGHBOR_PHRASE_WORDS_[sourced from]', 0.0007796603051837358), (u'TAB_e2_NEIGHBOR_PHRASE_WORDS_[process]', 0.0007796603051837358), (u'TAB_e2_NEIGHBOR_PHRASE_WORDS_[from]', 0.0007796603051837358), (u'TAB_e2_NEIGHBOR_PHRASE_WORDS_[requiring extremely]', 0.0007796603051837358), (u'TAB_e2_NEIGHBOR_PHRASE_WORDS_[process 05]', 0.0007796603051837358), (u'TAB_e2_NEIGHBOR_PHRASE_WORDS_[high current]', 0.0007796603051837358), (u'TAB_e2_NEIGHBOR_PHRASE_WORDS_[extremely]', 0.0007796603051837358), (u'TAB_e2_NEIGHBOR_PHRASE_WORDS_[for applications]', 0.0007796603051837358), (u'TAB_e2_NEIGHBOR_PHRASE_WORDS_[sourced]', 0.0007796603051837358), (u'TAB_e2_NEIGHBOR_PHRASE_WORDS_[05]', 0.0007796603051837358), (u'TAB_e2_NEIGHBOR_PHRASE_WORDS_[1v]', 0.0007796603051837358), (u'TAB_e2_NEIGHBOR_PHRASE_WORDS_[requiring]', 0.0007796603051837358), (u'TAB_e2_NEIGHBOR_PHRASE_WORDS_[1.0]', 0.0007796603051837358), (u'TAB_e2_NEIGHBOR_PHRASE_WORDS_[extremely high]', 0.0007796603051837358), (u'TAB_e2_NEIGHBOR_PHRASE_WORDS_[a. sourced]', 0.0007796603051837358), (u'TAB_e1_RIGHT_WORDS_[bc847]', 0.0007774850630464224), (u'TAB_e1_RIGHT_WORDS_[100 ma]', -0.0007771877602201026), (u'TAB_e1_RIGHT_WORDS_[100]', -0.0007771877602201026), (u'TAB_e1_RIGHT_WORDS_[ma npn]', -0.0007771877602201026), (u'TAB_e1_RIGHT_WORDS_[, 100]', -0.0007771877602201026), (u'TAB_e1_RIGHT_WORDS_[v ,]', -0.0007771877602201026), (u'TAB_e1_ROW_WORDS_[fe]', 0.0007710956491085518), (u'TAB_e1_ROW_WORDS_[h]', 0.0007710956491085518), (u'TAB_e1_ROW_WORDS_[h fe]', 0.0007710956491085518), (u'TAB_e1_NEIGHBOR_PHRASE_WORDS_[57a]', 0.0007668874681136026), (u'TAB_e1_NEIGHBOR_PHRASE_WORDS_[top]', 0.0007668874681136026), (u'TAB_e1_NEIGHBOR_PHRASE_WORDS_[56a]', 0.0007668874681136026), (u'TAB_e1_NEIGHBOR_PHRASE_WORDS_[= 58a]', 0.0007668874681136026), (u'TAB_e1_NEIGHBOR_PHRASE_WORDS_[58a]', 0.0007668874681136026), (u'TAB_e1_NEIGHBOR_PHRASE_WORDS_[= 56a]', 0.0007668874681136026), (u'TAB_e1_NEIGHBOR_PHRASE_WORDS_[57a bc858a]', 0.0007668874681136026), (u'TAB_e1_NEIGHBOR_PHRASE_WORDS_[= 57a]', 0.0007668874681136026), (u'TAB_e1_NEIGHBOR_PHRASE_WORDS_[view 3]', 0.0007668874681136026), (u'TAB_e1_NEIGHBOR_PHRASE_WORDS_[top view]', 0.0007668874681136026), (u'TAB_e1_NEIGHBOR_PHRASE_WORDS_[view]', 0.0007668874681136026), (u'TAB_e1_NEIGHBOR_PHRASE_WORDS_[56a bc857a]', 0.0007668874681136026), (u'TDL_INV_LEMMA:SEQ-BETWEEN[pnp ) Devices]', 0.0007668378701671871), (u'TDL_LEMMA:SEQ-BETWEEN[, bc549 ,]', 0.000764899387742109), (u'TDL_LEMMA:SEQ-BETWEEN[, bc549]', 0.000764899387742109), (u'TAB_e1_COL_HEAD_WORDS_[bc338]', 0.0007626304270357696), (u'TDL_INV_LEMMA:BETWEEN-MENTION-and-MENTION[bc546 supply type]', 0.0007614497336801281), (u'TDL_INV_DEP_LABEL|LEMMA:BETWEEN-MENTION-and-MENTION[nsubj|bc546 parataxis|supply nsubjpass|type]', 0.0007614497336801281), (u'TDL_INV_DEP_LABEL:BETWEEN-MENTION-and-MENTION[nsubj parataxis nsubjpass]', 0.0007614497336801281), (u'TAB_e1_ROW_WORDS_[to-236ab]', -0.0007598998355506705), (u'TAB_e1_NEIGHBOR_PHRASE_WORDS_[table]', 0.0007589883889927712), (u'TAB_e1_NEIGHBOR_PHRASE_WORDS_[: see]', 0.0007589883889927712), (u'TAB_e1_NEIGHBOR_PHRASE_WORDS_[code]', 0.0007589883889927712), (u'TAB_e1_RIGHT_WORDS_[manufactured]', 0.0007589883889927712), (u'TAB_e1_RIGHT_WORDS_[transistors manufactured]', 0.0007589883889927712), (u'TAB_e1_NEIGHBOR_PHRASE_WORDS_[marking code]', 0.0007589883889927712), (u'TDL_LEMMA:RIGHT-OF-MENTION[Series]', 0.0007589883889927712), (u'TAB_e1_NEIGHBOR_PHRASE_WORDS_[code table]', 0.0007589883889927712), (u'TAB_e1_NEIGHBOR_PHRASE_WORDS_[following page]', 0.0007589883889927712), (u'TAB_e1_NEIGHBOR_PHRASE_WORDS_[on following]', 0.0007589883889927712), (u'TAB_e1_NEIGHBOR_PHRASE_WORDS_[see marking]', 0.0007589883889927712), (u'TAB_e1_NEIGHBOR_PHRASE_WORDS_[bc846 ,]', 0.0007589883889927712), (u'TAB_e1_NEIGHBOR_PHRASE_WORDS_[semiconductor bc846]', 0.0007589883889927712), (u'TAB_e1_RIGHT_WORDS_[are npn]', 0.0007589883889927712), (u'TAB_e1_NEIGHBOR_PHRASE_WORDS_[code :]', 0.0007589883889927712), (u'TAB_e1_NEIGHBOR_PHRASE_WORDS_[bc847]', 0.0007589883889927712), (u'TAB_e1_NEIGHBOR_PHRASE_WORDS_[, bc847]', 0.0007589883889927712), (u'TAB_e1_NEIGHBOR_PHRASE_WORDS_[table on]', 0.0007589883889927712), (u'TAB_e1_NEIGHBOR_PHRASE_WORDS_[following]', 0.0007589883889927712), (u'TAB_e2_NEIGHBOR_PHRASE_WORDS_[digital transistors]', 0.0007575179447893326), (u'TAB_e1_RIGHT_WORDS_[c]', 0.0007527324444280728), (u'TAB_e2_NEIGHBOR_PHRASE_WORDS_[, c]', 0.0007525438985756515), (u'TAB_e2_NEIGHBOR_PHRASE_WORDS_[, bc548b]', 0.0007525438985756515), (u'TAB_e2_LEFT_WORDS_[bc546]', 0.0007525438985756515), (u'TAB_e2_LEFT_WORDS_[bc546 -]', 0.0007525438985756515), (u'TAB_e2_NEIGHBOR_PHRASE_WORDS_[bc547a]', 0.0007525438985756515), (u'TAB_e2_NEIGHBOR_PHRASE_WORDS_[bc548b]', 0.0007525438985756515), (u'TAB_e2_NEIGHBOR_PHRASE_WORDS_[bc546b ,]', 0.0007525438985756515), (u'TAB_e2_NEIGHBOR_PHRASE_WORDS_[, bc547a]', 0.0007525438985756515), (u'TAB_e2_NEIGHBOR_PHRASE_WORDS_[bc548b ,]', 0.0007525438985756515), (u'TAB_e2_NEIGHBOR_PHRASE_WORDS_[c ,]', 0.0007525438985756515), (u'TAB_e2_NEIGHBOR_PHRASE_WORDS_[bc546b]', 0.0007525438985756515), (u'TAB_e2_NEIGHBOR_PHRASE_WORDS_[bc547a ,]', 0.0007525438985756515), (u'TAB_e1_NEIGHBOR_PHRASE_WORDS_[bc856a]', 0.000748029577187702), (u'TAB_e1_NEIGHBOR_PHRASE_WORDS_[bc856a =]', 0.000748029577187702), (u'TAB_e1_COL_WORDS_[25]', 0.0007427510494221811), (u'TAB_e1_NEIGHBOR_PHRASE_WORDS_[a low-noise]', -0.0007348861853989495), (u'TAB_e1_NEIGHBOR_PHRASE_WORDS_[transistors are]', -0.0007348861853989495), (u'TAB_e1_NEIGHBOR_PHRASE_WORDS_[c .]', -0.0007348861853989495), (u'TAB_e1_NEIGHBOR_PHRASE_WORDS_[bc549 is]', -0.0007348861853989495), (u'TAB_e1_NEIGHBOR_PHRASE_WORDS_[these transistors]', -0.0007348861853989495), (u'TAB_e1_NEIGHBOR_PHRASE_WORDS_[low-noise type]', -0.0007348861853989495), (u'TAB_e1_NEIGHBOR_PHRASE_WORDS_[and c]', -0.0007348861853989495), (u'TAB_e1_NEIGHBOR_PHRASE_WORDS_[the bc549]', -0.0007348861853989495), (u'TAB_e1_NEIGHBOR_PHRASE_WORDS_[and available]', -0.0007348861853989495), (u'TAB_e1_NEIGHBOR_PHRASE_WORDS_[groups b]', -0.0007348861853989495), (u'TAB_e1_NEIGHBOR_PHRASE_WORDS_[type and]', -0.0007348861853989495), (u'TAB_e1_NEIGHBOR_PHRASE_WORDS_[b and]', -0.0007348861853989495), (u'TAB_e1_NEIGHBOR_PHRASE_WORDS_[is a]', -0.0007348861853989495), (u'TAB_e1_COL_WORDS_[voltage]', 0.000731519017828187), (u'TAB_e1_ROW_WORDS_[breakdown voltage]', 0.0007257119172548253), (u'TAB_e1_ROW_WORDS_[breakdown]', 0.0007257119172548253), (u'TDL_LEMMA:RIGHT-OF-MENTION[NPN]', 0.0007242270238632427), (u'TAB_e1_ROW_WORDS_[/ ammopack]', -0.0007240975405561581), (u'TAB_e1_ROW_WORDS_[ammopack]', -0.0007240975405561581), (u'TDL_INV_LEMMA:BETWEEN-MENTION-and-MENTION[bc547]', 0.0007212195784618733), (u'TAB_e1_NEIGHBOR_PHRASE_WORDS_[bc858a]', 0.0007203639800529851), (u'TAB_e1_NEIGHBOR_PHRASE_WORDS_[bc858a =]', 0.0007203639800529851), (u'TAB_e1_RIGHT_WORDS_[bc548b]', 0.000698799719064721), (u'TAB_e1_LEFT_WORDS_[bc857 ,]', 0.0006983309565871003), (u'TAB_e1_ROW_WORDS_[a ,]', 0.0006913351621092194), (u'TDL_INV_LEMMA:LEFT-OF-MENTION[=]', 0.0006875243943918438), (u'TDL_DEP_LABEL|LEMMA:BETWEEN-MENTION-and-MENTION[ROOT|bc547b]', 0.0006863744274238013), (u'TDL_LEMMA:BETWEEN-MENTION-and-MENTION[bc547b]', 0.0006863744274238013), (u'TAB_e1_COL_WORDS_[357]', 0.0006829080103360962), (u'TDL_LEMMA:LEFT-OF-MENTION[bc846w]', -0.0006782526327213857), (u'TDL_INV_DEP_LABEL:BETWEEN-MENTION-and-MENTION[ROOT appos]', 0.0006780170665015772), (u'TAB_e1_ROW_WORDS_[reel]', 0.0006764258692975808), (u'TAB_e1_COL_WORDS_[5]', -0.000675432913474572), (u'TAB_e1_CONTAINS_WORDS_[BC846T]', -0.0006738911395791577), (u'TAB_e1_CELL_WORDS_[bc857]', 0.0006608040542899298), (u'TAB_e1_LEFT_WORDS_[bc556 ...]', -0.0006532546062996549), (u'TDL_INV_LEMMA:SEQ-BETWEEN[transistor bc556 ...]', -0.0006532546062996549), (u'TDL_INV_LEMMA:SEQ-BETWEEN[bc556 ...]', -0.0006532546062996549), (u'TDL_INV_LEMMA:SEQ-BETWEEN[transistor bc556]', -0.0006532546062996549), (u'TDL_INV_LEMMA:LEFT-OF-MENTION[bc556]', -0.0006532546062996549), (u'TAB_e1_LEFT_WORDS_[transistors bc556]', -0.0006532546062996549), (u'TDL_INV_LEMMA:BETWEEN-MENTION-and-MENTION[bc549]', 0.0006522381809668653), (u'TAB_e1_RIGHT_WORDS_[amplifier applications]', 0.000651513321172176), (u'TAB_e1_RIGHT_WORDS_[applications]', 0.000651513321172176), (u'TAB_e2_LEFT_WORDS_[- general]', 0.0006470866690361724), (u'TAB_e2_NEIGHBOR_PHRASE_WORDS_[mmbt3906 pzt3906]', 0.00064314499570593), (u'TAB_e2_NEIGHBOR_PHRASE_WORDS_[2n3906 mmbt3906]', 0.00064314499570593), (u'TAB_e2_NEIGHBOR_PHRASE_WORDS_[april 2014]', 0.00064314499570593), (u'TAB_e1_COL_HEAD_WORDS_[b]', 0.000641578328531303), (u'TAB_e1_COL_HEAD_WORDS_[856 a]', 0.000641578328531303), (u'TAB_e1_COL_HEAD_WORDS_[bc 858]', 0.000641578328531303), (u'TAB_e1_COL_HEAD_WORDS_[, c]', 0.000641578328531303), (u'TAB_e1_COL_WORDS_[bc 858b]', 0.000641578328531303), (u'TAB_e1_COL_WORDS_[859b]', 0.000641578328531303), (u'TAB_e1_COL_HEAD_WORDS_[857]', 0.000641578328531303), (u'TAB_e1_COL_WORDS_[bc 859b]', 0.000641578328531303), (u'TAB_e1_COL_WORDS_[bc 857a]', 0.000641578328531303), (u'TAB_e1_COL_HEAD_WORDS_[856]', 0.000641578328531303), (u'TAB_e1_COL_WORDS_[bc 857b]', 0.000641578328531303), (u'TAB_e1_COL_WORDS_[857a]', 0.000641578328531303), (u'TAB_e1_COL_WORDS_[858a bc]', 0.000641578328531303), (u'TAB_e1_COL_HEAD_WORDS_[bc 856]', 0.000641578328531303), (u'TAB_e1_COL_HEAD_WORDS_[859b]', 0.000641578328531303), (u'TAB_e1_COL_HEAD_WORDS_[858]', 0.000641578328531303), (u'TAB_e1_COL_WORDS_[857b ,]', 0.000641578328531303), (u'TAB_e1_COL_HEAD_WORDS_[bc 857]', 0.000641578328531303), (u'TAB_e1_COL_WORDS_[bc 858a]', 0.000641578328531303), (u'TAB_e1_COL_WORDS_[, c]', 0.000641578328531303), (u'TAB_e1_COL_HEAD_WORDS_[bc 859b]', 0.000641578328531303), (u'TAB_e1_COL_WORDS_[857b]', 0.000641578328531303), (u'TAB_e1_COL_WORDS_[858b]', 0.000641578328531303), (u'TAB_e1_COL_WORDS_[859b ,]', 0.000641578328531303), (u'TAB_e1_COL_HEAD_WORDS_[, b]', 0.000641578328531303), (u'TAB_e1_COL_HEAD_WORDS_[c ,]', 0.000641578328531303), (u'TAB_e1_COL_HEAD_WORDS_[b bc]', 0.000641578328531303), (u'TAB_e1_COL_WORDS_[b ,]', 0.000641578328531303), (u'TAB_e1_COL_HEAD_WORDS_[b ,]', 0.000641578328531303), (u'TAB_e1_COL_HEAD_WORDS_[, bc]', 0.000641578328531303), (u'TAB_e1_COL_HEAD_WORDS_[bc]', 0.000641578328531303), (u'TAB_e1_COL_HEAD_WORDS_[857 a]', 0.000641578328531303), (u'TAB_e1_COL_WORDS_[b bc]', 0.000641578328531303), (u'TAB_e1_COL_WORDS_[858a]', 0.000641578328531303), (u'TAB_e1_COL_WORDS_[857a ,]', 0.000641578328531303), (u'TAB_e1_COL_WORDS_[858b ,]', 0.000641578328531303), (u'TAB_e1_COL_HEAD_WORDS_[859b ,]', 0.000641578328531303), (u'TAB_e1_COL_HEAD_WORDS_[858 a]', 0.000641578328531303), (u'TDL_INV_SEQ-BETWEEN[LEN:8-13]', -0.000639770494282574), (u'TDL_INV_LEMMA:SEQ-BETWEEN[)]', 0.0006385832949172578), (u'TDL_LEMMA:LEFT-OF-MENTION[bc859]', -0.0006372754270532193), (u'TAB_e1_RIGHT_WORDS_[bc548 /]', 0.000636027077582984), (u'TAB_e1_LEFT_WORDS_[2n3906 mmbt3906]', 0.0006307098630901024), (u'TAB_e1_CONTAINS_WORDS_[BC549xBK]', 0.0006300770447346919), (u'TDL_LEMMA:RIGHT-OF-MENTION[and]', 0.0006282224625784542), (u'TAB_e1_ROW_WORDS_[/ bulk]', -0.0006221168891252973), (u'TAB_e1_COL_WORDS_[rating]', 0.0006220546773388238), (u'TAB_e1_COL_HEAD_WORDS_[rating]', 0.0006220546773388238), (u'TAB_e2_ROW_WORDS_[100]', 0.0006202905497357201), (u'TDL_LEMMA:RIGHT-OF-MENTION[bc559]', -0.0006181732199322497), (u'TDL_LEMMA:LEFT-OF-MENTION[bc558]', -0.0006181732199322497), (u'TAB_e1_RIGHT_WORDS_[general purpose]', 0.0006165731855773027), (u'TAB_e1_ROW_WORDS_[200]', -0.0006142574159554685), (u'TDL_INV_DEP_LABEL|LEMMA:BETWEEN-MENTION-and-MENTION[ROOT|bc]', 0.0006131036348153452), (u'TAB_e1_COL_WORDS_[bc546 ,]', 0.0006108297828648936), (u'TAB_e1_ROW_WORDS_[bc547c]', -0.0006091716014745445), (u'TAB_e1_COL_WORDS_[= 25]', 0.0006041774741120033), (u'TAB_e1_ROW_WORDS_[ma]', 0.0006026127073322954), (u'TAB_e1_ROW_WORDS_[cbo]', 0.0006011172075987124), (u'TDL_SEQ-BETWEEN[LEN:5-7]', 0.0005967924298767053), (u'TAB_e1_CELL_WORDS_[a]', 0.00059003233533175), (u'TAB_e1_HTML_ANC_TAG_[li]', -0.0005893764206311093), (u'TAB_e1_LEFT_WORDS_[2n6427 /]', 0.0005870343733888234), (u'TAB_e2_NEIGHBOR_PHRASE_WORDS_[2n4124]', 0.0005798678314322625), (u'TAB_e1_NEIGHBOR_PHRASE_WORDS_[subdivided]', -0.0005786894895740816), (u'TAB_e1_NEIGHBOR_PHRASE_WORDS_[their]', -0.0005786894895740816), (u'TAB_e1_NEIGHBOR_PHRASE_WORDS_[subdivided into]', -0.0005786894895740816), (u'TAB_e1_NEIGHBOR_PHRASE_WORDS_[to their]', -0.0005786894895740816), (u'TAB_e1_NEIGHBOR_PHRASE_WORDS_[into]', -0.0005786894895740816), (u'TAB_e1_NEIGHBOR_PHRASE_WORDS_[according to]', -0.0005786894895740816), (u'TAB_e1_NEIGHBOR_PHRASE_WORDS_[into three]', -0.0005786894895740816), (u'TAB_e1_NEIGHBOR_PHRASE_WORDS_[gain .]', -0.0005786894895740816), (u'TAB_e2_NEIGHBOR_PHRASE_WORDS_[features]', -0.0005768661135248195), (u'TAB_e1_NEIGHBOR_PHRASE_WORDS_[mmbt3906 /]', 0.0005756264746634433), (u'TAB_e1_NEIGHBOR_PHRASE_WORDS_[/ mmbt3906]', 0.0005756264746634433), (u'TAB_e1_NEIGHBOR_PHRASE_WORDS_[2n3906 /]', 0.0005756264746634433), (u'TAB_e1_NEIGHBOR_PHRASE_WORDS_[/ pzt3906]', 0.0005756264746634433), (u'TAB_e1_CONTAINS_WORDS_[BC182/D]', -0.0005746273215734145), (u'TAB_e1_ROW_WORDS_[bc857]', 0.0005740006178811402), (u'TAB_e1_NEIGHBOR_PHRASE_WORDS_[purpose transistor]', -0.0005706045971514653), (u'TAB_e1_NEIGHBOR_PHRASE_WORDS_[the central]', -0.0005671331102167866), (u'TAB_e1_NEIGHBOR_PHRASE_WORDS_[central]', -0.0005671331102167866), (u'TAB_e1_NEIGHBOR_PHRASE_WORDS_[central semiconductor]', -0.0005671331102167866), (u'TAB_e1_LEFT_WORDS_[marking]', 0.0005659125637169138), (u'TDL_LEMMA:SEQ-BETWEEN[, bc557 ,]', -0.0005658387485136789), (u'TDL_LEMMA:SEQ-BETWEEN[, bc557]', -0.0005658387485136789), (u'TDL_DEP_LABEL:BETWEEN-MENTION-and-MENTION[ROOT compound]', -0.0005645852638508625), (u'TAB_e1_RIGHT_WORDS_[f]', -0.0005606060303374856), (u'TAB_e1_NEIGHBOR_PHRASE_WORDS_[bc846]', -0.0005593362331567525), (u'TAB_e1_COL_WORDS_[current]', 0.0005580157492649797), (u'TAB_e1_RIGHT_WORDS_[bc858a/b/c-bc 859b/c]', 0.0005561371678007593), (u'TDL_DEP_LABEL|LEMMA:BETWEEN-MENTION-and-MENTION[ROOT|859b/c nsubj|bc858a/b/c-bc]', 0.0005561371678007593), (u'TDL_LEMMA:BETWEEN-MENTION-and-MENTION[bc858a/b/c-bc]', 0.0005561371678007593), (u'TDL_LEMMA:RIGHT-OF-MENTION[857a/b/c]', 0.0005561371678007593), (u'TAB_e1_RIGHT_WORDS_[bc858a/b/c-bc]', 0.0005561371678007593), (u'TDL_DEP_LABEL|LEMMA:BETWEEN-MENTION-and-MENTION[nsubj|bc858a/b/c-bc]', 0.0005561371678007593), (u'TDL_LEMMA:SEQ-BETWEEN[bc858a/b/c-bc]', 0.0005561371678007593), (u'TDL_LEMMA:BETWEEN-MENTION-and-MENTION[859b/c bc858a/b/c-bc]', 0.0005561371678007593), (u'TAB_e1_ROW_WORDS_[tape reel]', 0.0005538789712627568), (u'TAB_e1_COL_WORDS_[current-continuous]', 0.0005509429981045516), (u'TAB_e1_COL_WORDS_[bc857 bc858]', 0.0005509429981045516), (u'TAB_e1_COL_WORDS_[collector current-continuous]', 0.0005509429981045516), (u'TAB_e1_ROW_WORDS_[ceo]', 0.00054830133516507), (u'TAB_e2_NEIGHBOR_PHRASE_WORDS_[their current]', -0.0005451221818980864), (u'TAB_e1_ROW_HEAD_WORDS_[200]', -0.0005423558191853608), (u'TAB_e1_NEIGHBOR_PHRASE_WORDS_[f]', -0.0005390973350904866), (u'TDL_INV_LEMMA:SEQ-BETWEEN[bc857]', 0.0005352253611766957), (u'TDL_DEP_LABEL|LEMMA:BETWEEN-MENTION-and-MENTION[ROOT|bc846]', 0.0005325840332060201), (u'TDL_LEMMA:BETWEEN-MENTION-and-MENTION[bc846]', 0.0005325840332060201), (u'TAB_e2_NEIGHBOR_PHRASE_WORDS_[bc818-40l]', 0.0005300869377885403), (u'TAB_e2_NEIGHBOR_PHRASE_WORDS_[bc818-40l ,]', 0.0005300869377885403), (u'TAB_e2_NEIGHBOR_PHRASE_WORDS_[, nsvbc818-40l]', 0.0005300869377885403), (u'TAB_e2_NEIGHBOR_PHRASE_WORDS_[nsvbc818-40l]', 0.0005300869377885403), (u'TAB_e2_LEFT_WORDS_[bc818-40lt1 -]', 0.0005300869377885403), (u'TAB_e2_LEFT_WORDS_[bc818-40lt1]', 0.0005300869377885403), (u'TDL_LEMMA:SEQ-BETWEEN[recommend]', -0.0005292708803825623), (u'TAB_e1_CELL_WORDS_[bc 856]', 0.0005272759352742043), (u'TAB_e1_CELL_WORDS_[856]', 0.0005272759352742043), (u'TDL_INV_DEP_LABEL:BETWEEN-MENTION-and-MENTION[appos]', 0.0005171094456448265), (u'TAB_e1_ROW_WORDS_[ma ,]', 0.0005162601779046969), (u'TAB_e1_ROW_WORDS_[low]', 0.0005100589667381278), (u'TAB_e1_ROW_HEAD_WORDS_[low noise]', 0.0005100589667381278), (u'TAB_e1_ROW_HEAD_WORDS_[noise]', 0.0005100589667381278), (u'TAB_e1_ROW_WORDS_[npn low]', 0.0005100589667381278), (u'TAB_e1_ROW_WORDS_[low noise]', 0.0005100589667381278), (u'TAB_e1_ROW_HEAD_WORDS_[npn low]', 0.0005100589667381278), (u'TAB_e1_ROW_HEAD_WORDS_[low]', 0.0005100589667381278), (u'TAB_e1_NEIGHBOR_PHRASE_WORDS_[be]', 0.0005084841117995466), (u'TAB_e2_NEIGHBOR_PHRASE_WORDS_[product]', 0.0005060620144271505), (u'TAB_e1_CELL_WORDS_[-]', 0.0005059551819923526), (u'TAB_e1_RIGHT_WORDS_[, bc]', -0.000503502624286297), (u'TAB_e2_NEIGHBOR_PHRASE_WORDS_[1997]', 0.0005028257048120639), (u'TAB_e2_NEIGHBOR_PHRASE_WORDS_[amplifier applications]', -0.0004997517179910008), (u'TAB_e1_ROW_WORDS_[856 a]', 0.0004993508727403741), (u'TAB_e1_CELL_WORDS_[856 a]', 0.0004993508727403741), (u'TAB_e1_COL_HEAD_WORDS_[bc846w]', -0.0004960725897074263), (u'TAB_e1_NEIGHBOR_PHRASE_WORDS_[general-purpose transistors]', -0.0004936472472494762), (u'TAB_e1_NEIGHBOR_PHRASE_WORDS_[v ,]', -0.0004936472472494762), (u'TAB_e1_NEIGHBOR_PHRASE_WORDS_[, 100]', -0.0004936472472494762), (u'TAB_e1_NEIGHBOR_PHRASE_WORDS_[series 65]', -0.0004936472472494762), (u'TAB_e1_NEIGHBOR_PHRASE_WORDS_[ma npn]', -0.0004936472472494762), (u'TAB_e1_NEIGHBOR_PHRASE_WORDS_[npn general-purpose]', -0.0004936472472494762), (u'TAB_e1_CONTAINS_WORDS_[BC328are]', -0.0004924065141934947), (u'TAB_e1_ROW_WORDS_[collector-base]', 0.0004903921059270661), (u'TAB_e1_ROW_WORDS_[= -10]', 0.0004902163895316078), (u'TAB_e1_ROW_WORDS_[-10]', 0.0004902163895316078), (u'TDL_INV_LEMMA:SEQ-BETWEEN[) Devices :]', 0.0004877639576403471), (u'TAB_e1_LEFT_WORDS_[devices :]', 0.0004877639576403471), (u'TDL_INV_LEMMA:SEQ-BETWEEN[Devices :]', 0.0004877639576403471), (u'TAB_e2_RIGHT_WORDS_[low noise]', 0.00048686644061993206), (u'TAB_e2_ROW_INFERRED_WORDS_[low noise]', 0.00048686644061993206), (u'TAB_e2_ROW_WORDS_[low noise]', 0.00048686644061993206), (u'TAB_e2_COL_INFERRED_WORDS_[low noise]', 0.00048686644061993206), (u'TAB_e2_ROW_WORDS_[25]', 0.00048686644061993206), (u'TAB_e2_ROW_INFERRED_WORDS_[low]', 0.00048686644061993206), (u'TAB_e2_RIGHT_WORDS_[low]', 0.00048686644061993206), (u'TAB_e2_CELL_WORDS_[noise]', 0.00048686644061993206), (u'TAB_e2_RIGHT_WORDS_[noise]', 0.00048686644061993206), (u'TAB_e2_ROW_WORDS_[low]', 0.00048686644061993206), (u'TAB_e2_CELL_WORDS_[low]', 0.00048686644061993206), (u'TAB_e2_ROW_INFERRED_WORDS_[noise]', 0.00048686644061993206), (u'TAB_e2_COL_INFERRED_WORDS_[low]', 0.00048686644061993206), (u'TAB_e2_CELL_WORDS_[low noise]', 0.00048686644061993206), (u'TAB_e2_ROW_WORDS_[noise]', 0.00048686644061993206), (u'TAB_e2_COL_INFERRED_WORDS_[noise]', 0.00048686644061993206), (u'TAB_e2_NEIGHBOR_PHRASE_WORDS_[a]', -0.00048280658705508533), (u'TAB_e2_NEIGHBOR_PHRASE_WORDS_[its external]', 0.0004677508686317297), (u'TAB_e2_NEIGHBOR_PHRASE_WORDS_[tak]', 0.0004677508686317297), (u'TAB_e2_RIGHT_WORDS_[surface mount]', 0.0004677508686317297), (u'TAB_e2_NEIGHBOR_PHRASE_WORDS_[single device]', 0.0004677508686317297), (u'TAB_e2_NEIGHBOR_PHRASE_WORDS_[tak cheong]', 0.0004677508686317297), (u'TAB_e2_NEIGHBOR_PHRASE_WORDS_[a single]', 0.0004677508686317297), (u'TAB_e2_NEIGHBOR_PHRASE_WORDS_[book -]', 0.0004677508686317297), (u'TAB_e2_NEIGHBOR_PHRASE_WORDS_[replace a]', 0.0004677508686317297), (u'TAB_e2_NEIGHBOR_PHRASE_WORDS_[cheong data]', 0.0004677508686317297), (u'TAB_e2_NEIGHBOR_PHRASE_WORDS_[sot523]', 0.0004677508686317297), (u'TAB_e2_NEIGHBOR_PHRASE_WORDS_[series of]', 0.0004677508686317297), (u'TAB_e2_NEIGHBOR_PHRASE_WORDS_[data book]', 0.0004677508686317297), (u'TAB_e2_NEIGHBOR_PHRASE_WORDS_[sot523 -]', 0.0004677508686317297), (u'TAB_e2_NEIGHBOR_PHRASE_WORDS_[word -]', 0.0004677508686317297), (u'TAB_e2_NEIGHBOR_PHRASE_WORDS_[of digital]', 0.0004677508686317297), (u'TAB_e2_NEIGHBOR_PHRASE_WORDS_[new series]', 0.0004677508686317297), (u'TAB_e2_LEFT_WORDS_[resistor]', 0.0004677508686317297), (u'TAB_e2_NEIGHBOR_PHRASE_WORDS_[- tak]', 0.0004677508686317297), (u'TAB_e2_NEIGHBOR_PHRASE_WORDS_[device and]', 0.0004677508686317297), (u'TAB_e2_LEFT_WORDS_[resistor transistor]', 0.0004677508686317297), (u'TAB_e2_NEIGHBOR_PHRASE_WORDS_[to replace]', 0.0004677508686317297), (u'TAB_e2_NEIGHBOR_PHRASE_WORDS_[dtcxxx series]', 0.0004677508686317297), (u'TAB_e2_NEIGHBOR_PHRASE_WORDS_[microsoft word]', 0.0004677508686317297), (u'TAB_e2_NEIGHBOR_PHRASE_WORDS_[transistors is]', 0.0004677508686317297), (u'TAB_e2_NEIGHBOR_PHRASE_WORDS_[and its]', 0.0004677508686317297), (u'TAB_e2_LEFT_WORDS_[bias resistor]', 0.0004677508686317297), (u'TAB_e2_NEIGHBOR_PHRASE_WORDS_[series preliminary.doc]', 0.0004677508686317297), (u'TAB_e2_NEIGHBOR_PHRASE_WORDS_[word]', 0.0004677508686317297), (u'TAB_e2_RIGHT_WORDS_[mount transistor]', 0.0004677508686317297), (u'TAB_e2_RIGHT_WORDS_[silicon surface]', 0.0004677508686317297), (u'TAB_e2_RIGHT_WORDS_[with monolithic]', 0.0004677508686317297), (u'TAB_e2_NEIGHBOR_PHRASE_WORDS_[resistor]', 0.0004677508686317297), (u'TAB_e2_NEIGHBOR_PHRASE_WORDS_[cheong]', 0.0004677508686317297), (u'TAB_e2_NEIGHBOR_PHRASE_WORDS_[its]', 0.0004677508686317297), (u'TAB_e2_RIGHT_WORDS_[monolithic]', 0.0004677508686317297), (u'TAB_e2_NEIGHBOR_PHRASE_WORDS_[dtcxxx]', 0.0004677508686317297), (u'TAB_e2_NEIGHBOR_PHRASE_WORDS_[bias network]', 0.0004677508686317297), (u'TAB_e2_NEIGHBOR_PHRASE_WORDS_[book]', 0.0004677508686317297), (u'TAB_e2_NEIGHBOR_PHRASE_WORDS_[microsoft]', 0.0004677508686317297), (u'TAB_e2_RIGHT_WORDS_[mount]', 0.0004677508686317297), (u'TAB_e2_NEIGHBOR_PHRASE_WORDS_[- sot523]', 0.0004677508686317297), (u'TAB_e2_RIGHT_WORDS_[with]', 0.0004677508686317297), (u'TAB_e2_NEIGHBOR_PHRASE_WORDS_[resistor bias]', 0.0004677508686317297), (u'TAB_e2_NEIGHBOR_PHRASE_WORDS_[designed to]', 0.0004677508686317297), (u'TAB_e2_NEIGHBOR_PHRASE_WORDS_[replace]', 0.0004677508686317297), (u'TAB_e2_RIGHT_WORDS_[transistor with]', 0.0004677508686317297), (u'TAB_e2_NEIGHBOR_PHRASE_WORDS_[single]', 0.0004677508686317297), (u'TAB_e2_NEIGHBOR_PHRASE_WORDS_[network .]', 0.0004677508686317297), (u'TAB_e2_LEFT_WORDS_[sot-523]', 0.0004677508686317297), (u'TAB_e2_RIGHT_WORDS_[surface]', 0.0004677508686317297), (u'TAB_e2_NEIGHBOR_PHRASE_WORDS_[external]', 0.0004677508686317297), (u'TAB_e2_NEIGHBOR_PHRASE_WORDS_[network]', 0.0004677508686317297), (u'TAB_e2_NEIGHBOR_PHRASE_WORDS_[- dtcxxx]', 0.0004677508686317297), (u'TAB_e2_LEFT_WORDS_[bias]', 0.0004677508686317297), (u'TAB_e2_NEIGHBOR_PHRASE_WORDS_[preliminary.doc]', 0.0004677508686317297), (u'TAB_e2_RIGHT_WORDS_[monolithic bias]', 0.0004677508686317297), (u'TAB_e2_LEFT_WORDS_[sot-523 bias]', 0.0004677508686317297), (u'TAB_e2_NEIGHBOR_PHRASE_WORDS_[external resistor]', 0.0004677508686317297), (u'TAB_e2_NEIGHBOR_PHRASE_WORDS_[this new]', 0.0004677508686317297), (u'TAB_e2_NEIGHBOR_PHRASE_WORDS_[maximum ratings]', 0.0004627780176431278), (u'TAB_e2_NEIGHBOR_PHRASE_WORDS_[absolute]', 0.0004627780176431278), (u'TAB_e2_NEIGHBOR_PHRASE_WORDS_[ratings]', 0.0004627780176431278), (u'TAB_e2_NEIGHBOR_PHRASE_WORDS_[absolute maximum]', 0.0004627780176431278), (u'TAB_e1_ROW_INFERRED_WORDS_[c]', 0.00045873639348997553), (u'TAB_e1_COL_INFERRED_WORDS_[c]', 0.00045873639348997553), (u'TAB_e1_COL_WORDS_[ordering code]', -0.00045598616061833414), (u'TAB_e1_COL_WORDS_[ordering]', -0.00045598616061833414), (u'TAB_e1_COL_HEAD_WORDS_[ordering]', -0.00045598616061833414), (u'TAB_e1_COL_WORDS_[code]', -0.00045598616061833414), (u'TAB_e1_COL_HEAD_WORDS_[ordering code]', -0.00045598616061833414), (u'TAB_e1_COL_HEAD_WORDS_[code]', -0.00045598616061833414), (u'TDL_INV_LEMMA:SEQ-BETWEEN[-]', 0.0004558485708297455), (u'TDL_LEMMA:PARENTS-OF-BETWEEN-MENTION-and-MENTION[bc337]', 0.00045480265018351063), (u'TDL_LEMMA:PARENTS-OF-BETWEEN-MENTION-and-MENTION[None bc337]', 0.00045480265018351063), (u'TAB_e1_LEFT_WORDS_[/ bc549]', 0.000452970360830185), (u'TAB_e1_LEFT_WORDS_[bc549 /]', 0.000452970360830185), (u'TAB_e2_NEIGHBOR_PHRASE_WORDS_[, bc549]', 0.0004409619985559173), (u'TAB_e2_NEIGHBOR_PHRASE_WORDS_[bc549 ,]', 0.0004409619985559173), (u'TAB_e2_NEIGHBOR_PHRASE_WORDS_[, bc550]', 0.0004409619985559173), (u'TAB_e2_NEIGHBOR_PHRASE_WORDS_[november 2014]', 0.0004409619985559173), (u'TAB_e2_NEIGHBOR_PHRASE_WORDS_[bc548 ,]', 0.0004409619985559173), (u'TAB_e2_NEIGHBOR_PHRASE_WORDS_[november]', 0.0004409619985559173), (u'TAB_e2_NEIGHBOR_PHRASE_WORDS_[, bc548]', 0.0004409619985559173), (u'TDL_INV_LEMMA:LEFT-OF-MENTION[CENTRAL]', 0.0004385985735319246), (u'TAB_e1_COL_HEAD_WORDS_[v]', -0.00043767902430375287), (u'TAB_e1_RIGHT_WORDS_[bc]', -0.0004330646997176146), (u'TDL_INV_LEMMA:BETWEEN-MENTION-and-MENTION[Low-Noise]', 0.0004235596624638283), (u'TDL_INV_DEP_LABEL|LEMMA:BETWEEN-MENTION-and-MENTION[ROOT|Low-Noise]', 0.0004235596624638283), (u'TAB_e1_NEIGHBOR_PHRASE_WORDS_[pnp]', 0.0004120713550791917), (u'TAB_e1_ROW_WORDS_[smt3]', -0.00040793920856429324), (u'TAB_e1_COL_WORDS_[-55]', -0.00040610881400187455), (u'TAB_e1_NEIGHBOR_PHRASE_WORDS_[marking]', 0.00040450654722520797), (u'TAB_e1_NEIGHBOR_PHRASE_WORDS_[transistors (]', -0.0004026097965659197), (u'TDL_INV_LEMMA:SEQ-BETWEEN[Marking]', 0.00040076553127289414), (u'TAB_e1_LEFT_WORDS_[marking :]', 0.00040076553127289414), (u'TDL_INV_DEP_LABEL|LEMMA:BETWEEN-MENTION-and-MENTION[ROOT|Marking]', 0.00040076553127289414), (u'TAB_e1_LEFT_WORDS_[device marking]', 0.00040076553127289414), (u'TDL_INV_LEMMA:SEQ-BETWEEN[Marking :]', 0.00040076553127289414), (u'TAB_e1_LEFT_WORDS_[device]', 0.00040076553127289414), (u'TDL_INV_LEMMA:BETWEEN-MENTION-and-MENTION[Marking]', 0.00040076553127289414), (u'TAB_e1_NEIGHBOR_PHRASE_WORDS_[bc857b]', 0.00039989742593343877), (u'TAB_e1_NEIGHBOR_PHRASE_WORDS_[bc857c =]', 0.00039989742593343877), (u'TAB_e1_NEIGHBOR_PHRASE_WORDS_[bc857c]', 0.00039989742593343877), (u'TAB_e1_NEIGHBOR_PHRASE_WORDS_[bc857b =]', 0.00039989742593343877), (u'TDL_INV_DEP_LABEL:BETWEEN-MENTION-and-MENTION[ROOT nmod nsubjpass]', -0.0003994541575499686), (u'TDL_INV_LEMMA:BETWEEN-MENTION-and-MENTION[recommend type transistor]', -0.0003994541575499686), (u'TDL_INV_DEP_LABEL|LEMMA:BETWEEN-MENTION-and-MENTION[ROOT|recommend nmod|type nsubjpass|transistor]', -0.0003994541575499686), (u'TDL_INV_DEP_LABEL|LEMMA:BETWEEN-MENTION-and-MENTION[nmod|type nsubjpass|transistor]', -0.0003994541575499686), (u'TDL_INV_DEP_LABEL:BETWEEN-MENTION-and-MENTION[nmod nsubjpass]', -0.0003994541575499686), (u'TDL_INV_DEP_LABEL|LEMMA:BETWEEN-MENTION-and-MENTION[dep|bc327]', -0.0003908318200817412), (u'TDL_INV_LEMMA:BETWEEN-MENTION-and-MENTION[transistor bc327]', -0.0003908318200817412), (u'TDL_INV_DEP_LABEL|LEMMA:BETWEEN-MENTION-and-MENTION[nsubjpass|transistor dep|bc327]', -0.0003908318200817412), (u'TDL_INV_LEMMA:BETWEEN-MENTION-and-MENTION[bc327]', -0.0003908318200817412), (u'TDL_INV_LEMMA:RIGHT-OF-MENTION[bc327]', -0.00038605820190429764), (u'TAB_e1_ROW_WORDS_[bc856]', 0.00038282047139156383), (u'TAB_e1_RIGHT_WORDS_[bc337-40]', 0.00038153881092806505), (u'TAB_e1_NEIGHBOR_PHRASE_WORDS_[motorola ,]', 0.000381486176448671), (u'TAB_e1_NEIGHBOR_PHRASE_WORDS_[1996]', 0.000381486176448671), (u'TAB_e1_NEIGHBOR_PHRASE_WORDS_[inc. 1996]', 0.000381486176448671), (u'TAB_e1_NEIGHBOR_PHRASE_WORDS_[, inc.]', 0.000381486176448671), (u'TAB_e1_NEIGHBOR_PHRASE_WORDS_[inc.]', 0.000381486176448671), (u'TAB_e1_NEIGHBOR_PHRASE_WORDS_[motorola]', 0.000381486176448671), (u'TDL_INV_LEMMA:RIGHT-OF-MENTION[?]', -0.00038023431682033263), (u'TAB_e1_NEIGHBOR_PHRASE_WORDS_[features]', 0.0003763483548413129), (u'TAB_e1_NEIGHBOR_PHRASE_WORDS_[planar npn]', -0.00037478297784787645), (u'TAB_e1_NEIGHBOR_PHRASE_WORDS_[technical data]', -0.00037478297784787645), (u'TAB_e1_NEIGHBOR_PHRASE_WORDS_[technical]', -0.00037478297784787645), (u'TDL_LEMMA:BETWEEN-MENTION-and-MENTION[Transistors]', 0.00037218159021163745), (u'TAB_e1_ROW_INFERRED_WORDS_[856]', 0.00037150512623505935), (u'TAB_e1_COL_INFERRED_WORDS_[bc 856]', 0.00037150512623505935), (u'TAB_e1_ROW_INFERRED_WORDS_[bc 856]', 0.00037150512623505935), (u'TAB_e1_COL_INFERRED_WORDS_[856]', 0.00037150512623505935), (u'TAB_e1_COL_WORDS_[halogen free]', 0.00037108333972617864), (u'TAB_e1_COL_HEAD_WORDS_[halogen]', 0.00037108333972617864), (u'TAB_e1_COL_WORDS_[halogen]', 0.00037108333972617864), (u'TAB_e1_COL_HEAD_WORDS_[halogen free]', 0.00037108333972617864), (u'TAB_e1_ROW_HEAD_WORDS_[emt3]', -0.00036930094837949866), (u'TDL_LEMMA:LEFT-OF-MENTION[be]', -0.00036370886368351075), (u'TDL_LEMMA:BETWEEN-MENTION-and-MENTION[pzt3906]', 0.0003580889604211492), (u'TDL_DEP_LABEL|LEMMA:BETWEEN-MENTION-and-MENTION[ROOT|pzt3906]', 0.0003580889604211492), (u'TAB_e1_CONTAINS_WORDS_[BC546/D]', -0.00035693379324028735), (u'TAB_e1_LEFT_WORDS_[by]', -0.0003565761175042757), (u'TAB_e1_COL_WORDS_[)]', 0.0003549605196943083), (u'TAB_e1_RIGHT_WORDS_[and b]', 0.00035427608167237464), (u'TAB_e1_RIGHT_WORDS_[a and]', 0.00035427608167237464), (u'TAB_e1_LEFT_WORDS_[the type]', 0.00035427608167237464), (u'TAB_e1_RIGHT_WORDS_[groups a]', 0.00035427608167237464), (u'TAB_e1_CONTAINS_WORDS_[2N6427]', 0.00035308684414270074), (u'TAB_e1_COL_HEAD_WORDS_[=]', 0.0003517076893946478), (u'TAB_e1_ROW_HEAD_WORDS_[umt3]', -0.0003483342102421993), (u'TAB_e1_ROW_INFERRED_WORDS_[856 a]', 0.0003415820447189677), (u'TAB_e1_COL_INFERRED_WORDS_[856 a]', 0.0003415820447189677), (u'TAB_e1_CELL_WORDS_[bc546]', 0.00033835308754031127), (u'TAB_e1_CONTAINS_WORDS_[BC807-16W]', 0.00033529203850911593), (u'TDL_LEMMA:SEQ-BETWEEN[mmbt3906]', 0.00032872482882158126), (u'TAB_e1_LEFT_WORDS_[bc549 ,]', 0.0003279256750607941), (u'TDL_INV_LEMMA:SEQ-BETWEEN[= 3e]', 0.00032632003947569523), (u'TDL_INV_LEMMA:SEQ-BETWEEN[3e]', 0.00032632003947569523), (u'TDL_INV_LEMMA:RIGHT-OF-MENTION[-]', 0.00032435011374579956), (u'TDL_LEMMA:SEQ-BETWEEN[b]', -0.0003215953591418949), (u'TAB_e1_NEIGHBOR_PHRASE_WORDS_[dises00490-1]', -0.0003198812845465754), (u'TAB_e1_NEIGHBOR_PHRASE_WORDS_[marking of]', 0.00031372272868261886), (u'TAB_e1_NEIGHBOR_PHRASE_WORDS_[of available]', 0.00031372272868261886), (u'TAB_e1_NEIGHBOR_PHRASE_WORDS_[gain groups]', 0.00031372272868261886), (u'TAB_e1_NEIGHBOR_PHRASE_WORDS_[available current]', 0.00031372272868261886), (u'TAB_e1_RIGHT_WORDS_[bc547 ,]', 0.0003023303500210492), (u'TAB_e1_CONTAINS_WORDS_[2N4124]', -0.00030227803457353735), (u'TAB_e1_COL_WORDS_[eb]', 0.0002962409140525834), (u'TAB_e1_COL_WORDS_[eb =]', 0.0002962409140525834), (u'TAB_e1_COL_WORDS_[v eb]', 0.0002962409140525834), (u'TAB_e1_CONTAINS_WORDS_[BC846series]', -0.0002928848694850161), (u'TAB_e1_RIGHT_WORDS_[/ bc550]', 0.0002895362390031242), (u'TAB_e1_ROW_WORDS_[b ,]', 0.000288117546711304), (u'TAB_e1_CELL_WORDS_[b ,]', 0.000288117546711304), (u'TAB_e1_ROW_INFERRED_WORDS_[b ,]', 0.000288117546711304), (u'TAB_e1_COL_INFERRED_WORDS_[b ,]', 0.000288117546711304), (u'TAB_e1_ROW_WORDS_[gain]', 0.00028675235639530664), (u'TAB_e1_ROW_WORDS_[dc]', 0.00028675235639530664), (u'TAB_e1_ROW_HEAD_WORDS_[gain]', 0.00028675235639530664), (u'TAB_e1_ROW_HEAD_WORDS_[dc]', 0.00028675235639530664), (u'TAB_e1_NEIGHBOR_PHRASE_WORDS_[darlington]', 0.0002858804547626736), (u'TAB_e1_NEIGHBOR_PHRASE_WORDS_[darlington transistor]', 0.0002858804547626736), (u'TAB_e1_NEIGHBOR_PHRASE_WORDS_[npn darlington]', 0.0002858804547626736), (u'TAB_e1_ROW_WORDS_[collector-base voltage]', 0.00028579722866998124), (u'TAB_e1_ROW_WORDS_[v cbo]', 0.00028579722866998124), (u'TDL_INV_LEMMA:RIGHT-OF-MENTION[Types]', -0.00028484240943818507), (u'TAB_e1_COL_WORDS_[, bc547]', 0.00027479061014363426), (u'TAB_e1_COL_WORDS_[bc548 ,]', 0.0002707563335798962), (u'TDL_INV_LEMMA:BETWEEN-MENTION-and-MENTION[Devices Series]', 0.00026774051690197856), (u'TDL_INV_DEP_LABEL|LEMMA:BETWEEN-MENTION-and-MENTION[dep|Series]', 0.00026774051690197856), (u'TDL_INV_DEP_LABEL|LEMMA:BETWEEN-MENTION-and-MENTION[ROOT|Devices dep|Series]', 0.00026774051690197856), (u'TDL_INV_DEP_LABEL:BETWEEN-MENTION-and-MENTION[dep]', -0.00026578278619868455), (u'TAB_e1_ROW_HEAD_WORDS_[sc-70]', -0.00026546840751849485), (u'TAB_e1_CONTAINS_WORDS_[BC327and]', -0.0002601777601197908), (u'TAB_e1_COL_WORDS_[bc848b]', 0.00025179154897094966), (u'TAB_e1_COL_WORDS_[bc846b]', 0.00024695420831437695), (u'TAB_e1_COL_INFERRED_WORDS_[bc859]', 0.00024643976616351435), (u'TAB_e1_ROW_INFERRED_WORDS_[bc859]', 0.00024643976616351435), (u'TAB_e1_COL_WORDS_[bc847b]', 0.00024393224814418118), (u'TAB_e1_CELL_WORDS_[a ,]', 0.00023736166524253915), (u'TAB_e1_COL_WORDS_[power]', 0.00023713216238272522), (u'TAB_e1_COL_WORDS_[storage temperature]', 0.00023713216238272522), (u'TAB_e1_NEIGHBOR_PHRASE_WORDS_[6gz]', -0.00023645624435166365), (u'TAB_e1_ROW_WORDS_[2000]', 0.00023427825978335453), (u'TAB_e1_RIGHT_WORDS_[bc184]', 0.000233571676638887), (u'TAB_e1_ROW_WORDS_[-50]', 0.0002287513991102323), (u'TAB_e1_ROW_WORDS_[-80]', 0.0002287513991102323), (u'TDL_INV_LEMMA:BETWEEN-MENTION-and-MENTION[59c]', 0.00022824001075241716), (u'TDL_INV_DEP_LABEL|LEMMA:BETWEEN-MENTION-and-MENTION[ROOT|59c]', 0.00022824001075241716), (u'TAB_e1_LEFT_WORDS_[(]', 0.00022626559734695276), (u'TAB_e1_NEIGHBOR_PHRASE_WORDS_[lieferbaren]', 0.00022529049077707534), (u'TAB_e1_NEIGHBOR_PHRASE_WORDS_[der lieferbaren]', 0.00022529049077707534), (u'TAB_e1_NEIGHBOR_PHRASE_WORDS_[groups stempelung]', 0.00022529049077707534), (u'TAB_e1_NEIGHBOR_PHRASE_WORDS_[stromverst?rkungsgruppen]', 0.00022529049077707534), (u'TAB_e1_NEIGHBOR_PHRASE_WORDS_[lieferbaren stromverst?rkungsgruppen]', 0.00022529049077707534), (u'TAB_e1_COL_WORDS_[temperature]', 0.00022007989096574422), (u'TAB_e1_COL_WORDS_[collector current]', 0.00022007989096574422), (u'TAB_e1_COL_WORDS_[storage]', 0.00022007989096574422), (u'TDL_INV_DEP_LABEL|LEMMA:BETWEEN-MENTION-and-MENTION[ROOT|2n3905]', -0.00021947110160753833), (u'TDL_INV_LEMMA:BETWEEN-MENTION-and-MENTION[2n3905]', -0.00021947110160753833), (u'TAB_e1_RIGHT_WORDS_[/ bc849]', 0.0002060452495375173), (u'TAB_e1_LEFT_WORDS_[microsoft word]', 0.00020559973479873544), (u'TAB_e1_LEFT_WORDS_[word]', 0.00020559973479873544), (u'TAB_e1_LEFT_WORDS_[word -]', 0.00020559973479873544), (u'TAB_e1_LEFT_WORDS_[microsoft]', 0.00020559973479873544), (u'TAB_e1_CONTAINS_WORDS_[BC856]', -0.000205445160848501), (u'TAB_e1_CONTAINS_WORDS_[BC33825]', -0.00020208278643287132), (u'TAB_e1_ROW_HEAD_WORDS_[bc33825ta]', -0.00020208278643287132), (u'TAB_e1_ROW_WORDS_[bc33825ta]', -0.00020208278643287132), (u'TAB_e1_COL_WORDS_[( sc-59]', -0.00019967813893468684), (u'TAB_e1_COL_WORDS_[sc-59]', -0.00019967813893468684), (u'TAB_e1_COL_WORDS_[emt3]', -0.00019967813893468684), (u'TAB_e1_COL_WORDS_[sc-75a )]', -0.00019967813893468684), (u'TAB_e1_COL_WORDS_[smt3]', -0.00019967813893468684), (u'TAB_e1_COL_WORDS_[( sc-75a]', -0.00019967813893468684), (u'TAB_e1_COL_WORDS_[sot-346]', -0.00019967813893468684), (u'TAB_e1_COL_WORDS_[sot-416 (]', -0.00019967813893468684), (u'TAB_e1_COL_WORDS_[sot-346 (]', -0.00019967813893468684), (u'TAB_e1_COL_WORDS_[sc-75a]', -0.00019967813893468684), (u'TAB_e1_COL_WORDS_[sot-416]', -0.00019967813893468684), (u'TAB_e1_COL_WORDS_[sc-59 )]', -0.00019967813893468684), (u'TDL_INV_LEMMA:RIGHT-OF-MENTION[2n3905]', -0.00019559956063124382), (u'TAB_e1_ROW_WORDS_[20]', -0.00018606508042958063), (u'TAB_e2_NEIGHBOR_PHRASE_WORDS_[bauelemente]', 0.00018336865617823758), (u'TAB_e2_RIGHT_WORDS_[plastic-encapsulate transistor]', 0.00018336865617823758), (u'TAB_e2_NEIGHBOR_PHRASE_WORDS_[elektronische bauelemente]', 0.00018336865617823758), (u'TAB_e2_NEIGHBOR_PHRASE_WORDS_[elektronische]', 0.00018336865617823758), (u'TAB_e2_RIGHT_WORDS_[plastic-encapsulate]', 0.00018336865617823758), (u'TAB_e1_COL_HEAD_WORDS_[lead free]', 0.00017681890431102268), (u'TAB_e1_COL_WORDS_[lead free]', 0.00017681890431102268), (u'TAB_e1_COL_HEAD_WORDS_[lead]', 0.00017681890431102268), (u'TAB_e1_COL_WORDS_[lead]', 0.00017681890431102268), (u'TAB_e1_ROW_INFERRED_WORDS_[:]', 0.0001748973610560085), (u'TAB_e1_COL_INFERRED_WORDS_[:]', 0.0001748973610560085), (u'TAB_e1_NEIGHBOR_PHRASE_WORDS_[w]', 0.00016925981872018784), (u'TDL_DEP_LABEL|LEMMA:BETWEEN-MENTION-and-MENTION[ROOT|b]', 0.00016845302168857443), (u'TDL_LEMMA:BETWEEN-MENTION-and-MENTION[b]', 0.00016845302168857443), (u'TDL_LEMMA:RIGHT-OF-MENTION[,]', 0.00016786185490661327), (u'TAB_e1_ROW_WORDS_[sot-416 (]', -0.0001662518168299156), (u'TAB_e1_ROW_WORDS_[sc-75a]', -0.0001662518168299156), (u'TAB_e1_ROW_WORDS_[( sc-70]', -0.0001662518168299156), (u'TAB_e1_ROW_WORDS_[sc-70 )]', -0.0001662518168299156), (u'TAB_e1_ROW_WORDS_[sc-75a )]', -0.0001662518168299156), (u'TAB_e1_ROW_WORDS_[sot-416]', -0.0001662518168299156), (u'TAB_e1_ROW_WORDS_[( sc-75a]', -0.0001662518168299156), (u'TAB_e1_ROW_WORDS_[sot-323 (]', -0.0001662518168299156), (u'TAB_e1_ROW_WORDS_[180]', -0.0001629714867970419), (u'TAB_e1_ROW_HEAD_WORDS_[100]', -0.00016263171148244148), (u'TDL_LEMMA:BETWEEN-MENTION-and-MENTION[mmbt3906]', 0.00015830895369887125), (u'TDL_DEP_LABEL|LEMMA:BETWEEN-MENTION-and-MENTION[dep|mmbt3906]', 0.00015830895369887125), (u'TDL_LEMMA:PARENTS-OF-BETWEEN-MENTION-and-MENTION[mmbt3906]', 0.0001542304558348414), (u'TDL_LEMMA:PARENTS-OF-BETWEEN-MENTION-and-MENTION[None 2n3906 mmbt3906]', 0.0001542304558348414), (u'TDL_LEMMA:PARENTS-OF-BETWEEN-MENTION-and-MENTION[2n3906 mmbt3906]', 0.0001542304558348414), (u'TAB_e1_COL_WORDS_[collector cut-off]', 0.00015397575066949742), (u'TAB_e1_COL_WORDS_[input base]', 0.00015397575066949742), (u'TAB_e1_COL_WORDS_[noise]', 0.00015397575066949742), (u'TAB_e1_COL_WORDS_[: bc239]', 0.00015397575066949742), (u'TAB_e1_COL_WORDS_[output capacitance]', 0.00015397575066949742), (u'TAB_e1_COL_WORDS_[base capacitance]', 0.00015397575066949742), (u'TAB_e1_COL_WORDS_[base breakdown]', 0.00015397575066949742), (u'TAB_e1_COL_WORDS_[input]', 0.00015397575066949742), (u'TAB_e1_COL_WORDS_[collector-base saturation]', 0.00015397575066949742), (u'TAB_e1_COL_WORDS_[collector-emitter saturation]', 0.00015397575066949742), (u'TAB_e1_COL_WORDS_[figure]', 0.00015397575066949742), (u'TAB_e1_COL_WORDS_[product]', 0.00015397575066949742), (u'TAB_e1_COL_WORDS_[bandwidth]', 0.00015397575066949742), (u'TAB_e1_COL_WORDS_[base-emitter]', 0.00015397575066949742), (u'TAB_e1_COL_WORDS_[output]', 0.00015397575066949742), (u'TAB_e1_COL_WORDS_[bandwidth product]', 0.00015397575066949742), (u'TAB_e1_COL_WORDS_[capacitance]', 0.00015397575066949742), (u'TAB_e1_COL_WORDS_[bc239]', 0.00015397575066949742), (u'TAB_e1_COL_WORDS_[base-emitter on]', 0.00015397575066949742), (u'TAB_e1_COL_WORDS_[cut-off]', 0.00015397575066949742), (u'TAB_e1_COL_WORDS_[noise figure]', 0.00015397575066949742), (u'TAB_e1_COL_WORDS_[gain bandwidth]', 0.00015397575066949742), (u'TAB_e1_COL_WORDS_[cut-off current]', 0.00015397575066949742), (u'TAB_e1_NEIGHBOR_PHRASE_WORDS_[: bc807-16w]', 0.00015277757522946648), (u'TAB_e1_NEIGHBOR_PHRASE_WORDS_[bc807-16w]', 0.00015277757522946648), (u'TAB_e1_LEFT_WORDS_[bc546b ,]', 0.0001506094213746378), (u'TAB_e1_ROW_NUM_[11]', -0.00015034708648323548), (u'TDL_INV_DEP_LABEL|LEMMA:BETWEEN-MENTION-and-MENTION[ROOT|BC548]', 0.00014943728075272696), (u'TDL_INV_LEMMA:BETWEEN-MENTION-and-MENTION[BC548]', 0.00014943728075272696), (u'TAB_e1_COL_WORDS_[3906]', 0.00014760710962799772), (u'TAB_e1_COL_WORDS_[2a]', 0.00014760710962799772), (u'TAB_e1_COL_WORDS_[2n3906]', 0.00014760710962799772), (u'TAB_e1_CONTAINS_WORDS_[2N390D]', -0.00014573136406384368), (u'TDL_LEMMA:BETWEEN-MENTION-and-MENTION[a]', 0.00014367692914731684), (u'TDL_DEP_LABEL|LEMMA:BETWEEN-MENTION-and-MENTION[ROOT|a]', 0.00014367692914731684), (u'TAB_e1_COL_WORDS_[10 ma]', -0.00014201590023735195), (u'TAB_e1_COL_WORDS_[858 ,]', -0.00014201590023735195), (u'TAB_e1_COL_WORDS_[857 ,]', -0.00014201590023735195), (u'TAB_e1_NEIGHBOR_PHRASE_WORDS_[npn transistors]', 0.00013810141986062062), (u'TAB_e2_ROW_WORDS_[10]', 0.00013275128979666105), (u'TAB_e2_ROW_WORDS_[*]', 0.00013275128979666105), (u'TAB_e1_NEIGHBOR_PHRASE_WORDS_[with]', 0.00012724422626576013), (u'TAB_e2_NEIGHBOR_PHRASE_WORDS_[/]', 0.0001271215308381298), (u'TDL_INV_LEMMA:PARENTS-OF-BETWEEN-MENTION-and-MENTION[available]', 0.0001169696982825217), (u'TDL_INV_LEMMA:PARENTS-OF-BETWEEN-MENTION-and-MENTION[None available]', 0.0001169696982825217), (u'TAB_e1_CONTAINS_WORDS_[DTC114W]', -0.00011596153167684812), (u'TAB_e1_NEIGHBOR_PHRASE_WORDS_[dtc114w]', -0.00011596153167684812), (u'TAB_e1_ROW_WORDS_[-45]', 0.00011054514696947699), (u'TAB_e1_ROW_WORDS_[-65]', 0.00011054514696947699), (u'TAB_e1_NEIGHBOR_PHRASE_WORDS_[bc807]', -0.00011036898762957267), (u'TAB_e1_ROW_HEAD_WORDS_[bc33716tfr]', -0.0001097763432839697), (u'TAB_e1_ROW_WORDS_[bc33716tfr]', -0.0001097763432839697), (u'TAB_DIFF_TABLE_MANHATTAN_DIST_[2]', -0.00010873771922231004), (u'TAB_e1_ROW_HEAD_WORDS_[20]', -0.00010835034196127103), (u'TAB_e1_RIGHT_WORDS_[and bc328]', -0.00010493824004113679), (u'TAB_e1_ROW_WORDS_[bc33740ta]', -0.00010153936263939843), (u'TAB_e1_ROW_HEAD_WORDS_[bc33740ta]', -0.00010153936263939843), (u'TAB_e1_ROW_WORDS_[bc33725tf]', -9.651575292500669e-05), (u'TAB_e1_ROW_HEAD_WORDS_[bc33725tf]', -9.651575292500669e-05), (u'TDL_INV_LEMMA:RIGHT-OF-MENTION[BC849]', 9.614233126644939e-05), (u'TAB_e1_ROW_WORDS_[to-92 3l]', -9.567352398819123e-05), (u'TAB_e1_ROW_HEAD_WORDS_[bc33725tfr]', -9.480733834838822e-05), (u'TAB_e1_ROW_WORDS_[bc33725tfr]', -9.480733834838822e-05), (u'TAB_e1_ROW_HEAD_WORDS_[bc33716ta]', -9.337917549111306e-05), (u'TAB_e1_ROW_WORDS_[bc33716ta]', -9.337917549111306e-05), (u'TAB_e1_ROW_HEAD_WORDS_[bc33740bu]', -9.185868401928235e-05), (u'TAB_e1_ROW_WORDS_[bc33740bu]', -9.185868401928235e-05), (u'TAB_e1_ROW_HEAD_WORDS_[ceo]', 9.018314422101603e-05), (u'TDL_INV_LEMMA:SEQ-BETWEEN[, the]', 8.989747431140349e-05), (u'TAB_e1_COL_WORDS_[bc848a]', 8.750495471900726e-05), (u'TAB_e1_COL_WORDS_[bc846a]', 8.608113264777757e-05), (u'TAB_e1_COL_WORDS_[bc847a]', 8.570278188051849e-05), (u'TAB_e1_COL_HEAD_WORDS_[bc856]', -8.552843938169364e-05), (u'TAB_e1_ROW_HEAD_WORDS_[30]', 8.502490448662533e-05), (u'TAB_e1_ROW_WORDS_[bc33716bu]', -8.314201298062678e-05), (u'TAB_e1_ROW_HEAD_WORDS_[bc33716bu]', -8.314201298062678e-05), (u'TDL_INV_DEP_LABEL|LEMMA:BETWEEN-MENTION-and-MENTION[nsubj|bc549]', 8.171105816084352e-05), (u'TDL_INV_DEP_LABEL|LEMMA:BETWEEN-MENTION-and-MENTION[ROOT|2n4124]', -8.081461191554325e-05), (u'TAB_e1_RIGHT_WORDS_[bc338 -]', 7.868854547513009e-05), (u'TAB_e1_ROW_HEAD_WORDS_[bc33725ta]', -7.861532232942868e-05), (u'TAB_e1_ROW_WORDS_[bc33725ta]', -7.861532232942868e-05), (u'TAB_e1_NEIGHBOR_PHRASE_WORDS_[bc807-25]', 7.851558502690848e-05), (u'TAB_e1_ROW_WORDS_[bc33725tar]', -7.84811846039083e-05), (u'TAB_e1_ROW_HEAD_WORDS_[bc33725tar]', -7.84811846039083e-05), (u'TDL_DEP_LABEL|LEMMA:BETWEEN-MENTION-and-MENTION[ROOT|Transistors]', 7.400819416392539e-05), (u'TAB_e1_ROW_HEAD_WORDS_[bc33716]', 7.369683232073332e-05), (u'TAB_e1_ROW_WORDS_[bc33716]', 7.369683232073332e-05), (u'TAB_e1_ROW_WORDS_[3l]', -7.081199112999521e-05), (u'TAB_e1_NEIGHBOR_PHRASE_WORDS_[2001 fairchild]', 7.037670358455278e-05), (u'TAB_e1_NEIGHBOR_PHRASE_WORDS_[2001]', 7.037670358455278e-05), (u'TDL_LEMMA:SEQ-BETWEEN[a]', -6.910679658166062e-05), (u'TAB_e1_COL_WORDS_[350]', 6.861458493039666e-05), (u'TDL_INV_LEMMA:SEQ-BETWEEN[bc857b]', 6.854003220553599e-05), (u'TDL_INV_LEMMA:SEQ-BETWEEN[bc857b =]', 6.854003220553599e-05), (u'TDL_LEMMA:BETWEEN-MENTION-and-MENTION[switching]', 6.832574764714704e-05), (u'TDL_DEP_LABEL|LEMMA:BETWEEN-MENTION-and-MENTION[ROOT|switching]', 6.832574764714704e-05), (u'TAB_e1_NEIGHBOR_PHRASE_WORDS_[bc849w f]', -6.380596582959873e-05), (u'TAB_e1_ROW_HEAD_WORDS_[bc33725bu]', -6.12257817163629e-05), (u'TAB_e1_ROW_WORDS_[bc33725bu]', -6.12257817163629e-05), (u'TAB_e1_NEIGHBOR_PHRASE_WORDS_[2n4124/mmbt4124]', 6.117204415240626e-05), (u'TAB_e1_ROW_HEAD_WORDS_[(]', 5.980879386885505e-05), (u'TAB_e1_ROW_HEAD_WORDS_[)]', 5.980879386885505e-05), (u'TDL_INV_DEP_LABEL|LEMMA:BETWEEN-MENTION-and-MENTION[ROOT|a]', 5.894809410680889e-05), (u'TAB_e1_RIGHT_WORDS_[, bc858]', 5.762013985217276e-05), (u'TAB_e1_ROW_WORDS_[5]', 5.515836127036671e-05), (u'TDL_LEMMA:SEQ-BETWEEN[bc]', -5.5078821523938344e-05), (u'TDL_LEMMA:SEQ-BETWEEN[, bc]', -5.5078821523938344e-05), (u'TAB_e1_RIGHT_WORDS_[bc548 can]', 5.484978995523821e-05), (u'TAB_e1_LEFT_WORDS_[and b]', 5.484978995523821e-05), (u'TAB_e1_CONTAINS_WORDS_[BC849W]', -5.346976938629894e-05), (u'TDL_LEMMA:SEQ-BETWEEN[pzt3906 -]', 5.257071516901245e-05), (u'TDL_LEMMA:BETWEEN-MENTION-and-MENTION[bc238/239]', 5.164463174016674e-05), (u'TDL_DEP_LABEL|LEMMA:BETWEEN-MENTION-and-MENTION[ROOT|bc238/239]', 5.164463174016674e-05), (u'TAB_e2_NEIGHBOR_PHRASE_WORDS_[bc547b]', -5.073825866401537e-05), (u'TAB_e1_ROW_INFERRED_WORDS_[a]', 4.7500369074663764e-05), (u'TAB_e1_COL_INFERRED_WORDS_[a]', 4.7500369074663764e-05), (u'TAB_e1_ROW_NUM_[1]', 4.7489379529249125e-05), (u'TAB_e1_COL_WORDS_[dtc114eg-t92-r]', 4.637474536425631e-05), (u'TAB_e1_COL_WORDS_[dtc114eg-ae3-r]', 4.296251944723082e-05), (u'TAB_e1_COL_WORDS_[dtc114eg-al3-r]', 4.243577014300984e-05), (u'TAB_e1_COL_WORDS_[dtc114eg-an3-r]', 4.1698702280667437e-05), (u'TAB_e1_COL_WORDS_[25 o]', 4.105319983927028e-05), (u'TAB_e1_COL_WORDS_[o c]', 4.105319983927028e-05), (u'TAB_e1_COL_WORDS_[o]', 4.105319983927028e-05), (u'TAB_e2_NEIGHBOR_PHRASE_WORDS_[ordering]', -3.940763726467552e-05), (u'TAB_e2_NEIGHBOR_PHRASE_WORDS_[ordering code]', -3.940763726467552e-05), (u'TAB_e2_NEIGHBOR_PHRASE_WORDS_[bc547c]', -3.940763726467552e-05), (u'TDL_INV_LEMMA:SEQ-BETWEEN[bc547 ,]', -3.673129970556819e-05), (u'TAB_e1_COL_WORDS_[dtc114eg-t92-b]', 3.6224807312517534e-05), (u'TDL_INV_LEMMA:BETWEEN-MENTION-and-MENTION[Series]', 3.4975644124688005e-05), (u'TAB_e1_CELL_WORDS_[859 c]', 3.446309434425506e-05), (u'TAB_e1_ROW_INFERRED_WORDS_[859 c]', 3.446309434425506e-05), (u'TAB_e1_COL_INFERRED_WORDS_[859 c]', 3.446309434425506e-05), (u'TAB_e1_ROW_WORDS_[859 c]', 3.446309434425506e-05), (u'TAB_e1_CONTAINS_WORDS_[MMBT3906]', 3.369058431898804e-05), (u'TAB_e1_COL_WORDS_[200]', 3.105720607444649e-05), (u'TAB_e1_COL_WORDS_[dtc114eg-t9s-k]', 3.07323617750363e-05), (u'TAB_e1_COL_WORDS_[dtc114eg-t92-k]', 2.9352487139251158e-05), (u'TAB_e1_NEIGHBOR_PHRASE_WORDS_[groups .]', 2.6305160018243383e-05), (u'TAB_e1_NEIGHBOR_PHRASE_WORDS_[a and]', 2.6305160018243383e-05), (u'TAB_e1_NEIGHBOR_PHRASE_WORDS_[the types]', 2.6305160018243383e-05), (u'TAB_e1_RIGHT_WORDS_[type and]', 2.6305160018243383e-05), (u'TAB_e1_NEIGHBOR_PHRASE_WORDS_[bc556 ...]', 2.6305160018243383e-05), (u'TAB_e1_NEIGHBOR_PHRASE_WORDS_[can]', 2.6305160018243383e-05), (u'TAB_e1_NEIGHBOR_PHRASE_WORDS_[supplied]', 2.6305160018243383e-05), (u'TAB_e1_NEIGHBOR_PHRASE_WORDS_[all three]', 2.6305160018243383e-05), (u'TAB_e1_NEIGHBOR_PHRASE_WORDS_[all]', 2.6305160018243383e-05), (u'TAB_e1_NEIGHBOR_PHRASE_WORDS_[and bc548]', 2.6305160018243383e-05), (u'TAB_e1_NEIGHBOR_PHRASE_WORDS_[the type]', 2.6305160018243383e-05), (u'TAB_e1_NEIGHBOR_PHRASE_WORDS_[in all]', 2.6305160018243383e-05), (u'TAB_e1_NEIGHBOR_PHRASE_WORDS_[recommended .]', 2.6305160018243383e-05), (u'TAB_e1_NEIGHBOR_PHRASE_WORDS_[bc546 is]', 2.6305160018243383e-05), (u'TAB_e1_NEIGHBOR_PHRASE_WORDS_[, however]', 2.6305160018243383e-05), (u'TAB_e1_RIGHT_WORDS_[low-noise type]', 2.6305160018243383e-05), (u'TAB_e1_NEIGHBOR_PHRASE_WORDS_[and b]', 2.6305160018243383e-05), (u'TAB_e1_NEIGHBOR_PHRASE_WORDS_[types the]', 2.6305160018243383e-05), (u'TAB_e1_NEIGHBOR_PHRASE_WORDS_[... bc559]', 2.6305160018243383e-05), (u'TAB_e1_NEIGHBOR_PHRASE_WORDS_[type bc546]', 2.6305160018243383e-05), (u'TAB_e1_NEIGHBOR_PHRASE_WORDS_[can be]', 2.6305160018243383e-05), (u'TAB_e1_NEIGHBOR_PHRASE_WORDS_[however]', 2.6305160018243383e-05), (u'TAB_e1_NEIGHBOR_PHRASE_WORDS_[transistors bc556]', 2.6305160018243383e-05), (u'TAB_e1_NEIGHBOR_PHRASE_WORDS_[bc548 can]', 2.6305160018243383e-05), (u'TAB_e1_NEIGHBOR_PHRASE_WORDS_[is available]', 2.6305160018243383e-05), (u'TAB_e1_NEIGHBOR_PHRASE_WORDS_[supplied in]', 2.6305160018243383e-05), (u'TAB_e1_NEIGHBOR_PHRASE_WORDS_[types bc547]', 2.6305160018243383e-05), (u'TAB_e1_NEIGHBOR_PHRASE_WORDS_[bc559 are]', 2.6305160018243383e-05), (u'TAB_e1_NEIGHBOR_PHRASE_WORDS_[are recommended]', 2.6305160018243383e-05), (u'TAB_e1_NEIGHBOR_PHRASE_WORDS_[be supplied]', 2.6305160018243383e-05), (u'TAB_e1_NEIGHBOR_PHRASE_WORDS_[bc547 and]', 2.6305160018243383e-05), (u'TAB_e1_RIGHT_WORDS_[and available]', 2.6305160018243383e-05), (u'TAB_e1_NEIGHBOR_PHRASE_WORDS_[however ,]', 2.6305160018243383e-05), (u'TAB_e1_RIGHT_WORDS_[low-noise]', 2.6305160018243383e-05), (u'TDL_INV_BETWEEN-MENTION-and-MENTION[LEN:4-5]', 2.1410350536330472e-05), (u'TAB_e1_COL_WORDS_[on]', -1.6970330322083236e-05), (u'TAB_e1_COL_WORDS_[on voltage]', -1.6970330322083236e-05), (u'TAB_e1_COL_WORDS_[emitter base]', -1.6970330322083236e-05), (u'TAB_e1_COL_WORDS_[saturation]', -1.6970330322083236e-05), (u'TAB_e1_COL_WORDS_[saturation voltage]', -1.6970330322083236e-05), (u'TAB_e1_ROW_WORDS_[100]', 1.6256839183596018e-05), (u'TAB_e1_CELL_WORDS_[?]', 1.5924542337573995e-05), (u'TAB_e1_ROW_WORDS_[2n3906]', 1.2412161060144152e-05), (u'TAB_e1_ROW_HEAD_WORDS_[2n3906]', 1.2412161060144152e-05), (u'TAB_e2_NEIGHBOR_PHRASE_WORDS_[bc807 series]', 1.0609330280732422e-05), (u'TAB_e1_COL_WORDS_[a )]', 9.547763425321471e-06), (u'TAB_e1_RIGHT_WORDS_[npn small]', 8.373031710381251e-06), (u'TAB_e1_RIGHT_WORDS_[are silicon]', 8.373031710381251e-06), (u'TAB_e1_RIGHT_WORDS_[silicon npn]', 8.373031710381251e-06), (u'TAB_e1_RIGHT_WORDS_[devices]', 8.373031710381251e-06), (u'TAB_e1_RIGHT_WORDS_[small signal]', 8.373031710381251e-06), (u'TAB_e1_NEIGHBOR_PHRASE_WORDS_[semiconductor bc546]', 8.373031710381251e-06), (u'TAB_e1_RIGHT_WORDS_[devices are]', 8.373031710381251e-06), (u'TAB_e1_RIGHT_WORDS_[small]', 8.373031710381251e-06), (u'TAB_e1_RIGHT_WORDS_[signal]', 8.373031710381251e-06)]\n"
     ]
    }
   ],
   "source": [
    "print disc_model.get_feature_weights(F_dev)"
   ]
  },
  {
   "cell_type": "code",
   "execution_count": 34,
   "metadata": {
    "collapsed": false
   },
   "outputs": [
    {
     "ename": "IndexError",
     "evalue": "list index out of range",
     "output_type": "error",
     "traceback": [
      "\u001b[1;31m---------------------------------------------------------------------------\u001b[0m",
      "\u001b[1;31mIndexError\u001b[0m                                Traceback (most recent call last)",
      "\u001b[1;32m<ipython-input-34-fa7e04ce4e08>\u001b[0m in \u001b[0;36m<module>\u001b[1;34m()\u001b[0m\n\u001b[0;32m      1\u001b[0m \u001b[1;32mfrom\u001b[0m \u001b[0mhardware_utils\u001b[0m \u001b[1;32mimport\u001b[0m \u001b[0mentity_to_candidates\u001b[0m\u001b[1;33m\u001b[0m\u001b[0m\n\u001b[0;32m      2\u001b[0m \u001b[1;33m\u001b[0m\u001b[0m\n\u001b[1;32m----> 3\u001b[1;33m \u001b[0mentity\u001b[0m \u001b[1;33m=\u001b[0m \u001b[0mFP_list\u001b[0m\u001b[1;33m[\u001b[0m\u001b[1;36m0\u001b[0m\u001b[1;33m]\u001b[0m\u001b[1;33m\u001b[0m\u001b[0m\n\u001b[0m\u001b[0;32m      4\u001b[0m \u001b[0mmatches\u001b[0m \u001b[1;33m=\u001b[0m \u001b[0mentity_to_candidates\u001b[0m\u001b[1;33m(\u001b[0m\u001b[0mentity\u001b[0m\u001b[1;33m,\u001b[0m \u001b[0mfp\u001b[0m\u001b[1;33m)\u001b[0m\u001b[1;33m\u001b[0m\u001b[0m\n\u001b[0;32m      5\u001b[0m \u001b[1;32mprint\u001b[0m \u001b[1;34m\"Entity: (%d matches)\"\u001b[0m \u001b[1;33m%\u001b[0m \u001b[0mlen\u001b[0m\u001b[1;33m(\u001b[0m\u001b[0mmatches\u001b[0m\u001b[1;33m)\u001b[0m\u001b[1;33m\u001b[0m\u001b[0m\n",
      "\u001b[1;31mIndexError\u001b[0m: list index out of range"
     ]
    }
   ],
   "source": [
    "from hardware_utils import entity_to_candidates\n",
    "\n",
    "entity = FP_list[0]\n",
    "matches = entity_to_candidates(entity, fp)\n",
    "print \"Entity: (%d matches)\" % len(matches)\n",
    "print entity\n",
    "\n",
    "candidate = matches[0]\n",
    "print \"\\nCandidate:\"\n",
    "print candidate\n",
    "\n",
    "print \"\\nScore:\"\n",
    "print disc_model.get_candidate_score(candidate, F_dev)\n",
    "\n",
    "print \"\\nFeatures:\"\n",
    "pprint(disc_model.get_candidate_feature_weights(candidate, F_dev))"
   ]
  },
  {
   "cell_type": "code",
   "execution_count": null,
   "metadata": {
    "collapsed": false
   },
   "outputs": [],
   "source": [
    "from hardware_utils import part_error_analysis\n",
    "part_error_analysis(candidate)"
   ]
  },
  {
   "cell_type": "code",
   "execution_count": null,
   "metadata": {
    "collapsed": true
   },
   "outputs": [],
   "source": [
    "import os\n",
    "os.system('cp snorkel.db snorkel.db\\ final');"
   ]
  }
 ],
 "metadata": {
  "anaconda-cloud": {},
  "kernelspec": {
   "display_name": "Python 2",
   "language": "python",
   "name": "python2"
  },
  "language_info": {
   "codemirror_mode": {
    "name": "ipython",
    "version": 2
   },
   "file_extension": ".py",
   "mimetype": "text/x-python",
   "name": "python",
   "nbconvert_exporter": "python",
   "pygments_lexer": "ipython2",
   "version": "2.7.12"
  }
 },
 "nbformat": 4,
 "nbformat_minor": 1
}
