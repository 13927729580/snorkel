{
 "cells": [
  {
   "cell_type": "code",
   "execution_count": 1,
   "metadata": {
    "collapsed": false
   },
   "outputs": [],
   "source": [
    "%load_ext autoreload\n",
    "%autoreload 2"
   ]
  },
  {
   "cell_type": "code",
   "execution_count": 2,
   "metadata": {
    "collapsed": false
   },
   "outputs": [],
   "source": [
    "config = {\n",
    "    'domain': 'spouse',\n",
    "    'supervision': 'majority',\n",
    "#     'learn_deps': False,\n",
    "#     'gen_model_search_space': 1,\n",
    "#     'gen_init_params': {\n",
    "#         'lf_propensity'         : True,\n",
    "#         'class_prior'           : True,\n",
    "#         'lf_class_propensity'   : True,\n",
    "#         'seed'                  : None,\n",
    "#     },\n",
    "#     'gen_params_default': {\n",
    "#         'step_size'     : 0.0001,\n",
    "#         'decay'         : 0.90,\n",
    "#         'reg_param'     : 0.50,\n",
    "#         'epochs'        : 25,\n",
    "#     },    \n",
    "    'disc_model_class': 'logreg',    \n",
    "    'disc_model_search_space': 1,\n",
    "}"
   ]
  },
  {
   "cell_type": "code",
   "execution_count": 3,
   "metadata": {
    "collapsed": false,
    "scrolled": true
   },
   "outputs": [
    {
     "name": "stdout",
     "output_type": "stream",
     "text": [
      "$SNORKELDB = sqlite:///babble_spouse.db\n"
     ]
    }
   ],
   "source": [
    "# Get DB connection string and add to globals\n",
    "# NOTE: $SNORKELDB must be set before any snorkel imports\n",
    "import os\n",
    "\n",
    "default_db_name = 'babble_' + config['domain'] + ('_debug' if config.get('debug', False) else '')\n",
    "DB_NAME = config.get('db_name', default_db_name)\n",
    "if 'postgres' in config and config['postgres']:\n",
    "    DB_TYPE = 'postgres'\n",
    "else:\n",
    "    DB_TYPE = 'sqlite'\n",
    "    DB_NAME += '.db'\n",
    "DB_ADDR = \"localhost:{0}\".format(config['db_port']) if 'db_port' in config else \"\"\n",
    "os.environ['SNORKELDB'] = '{0}://{1}/{2}'.format(DB_TYPE, DB_ADDR, DB_NAME)\n",
    "print(\"$SNORKELDB = {0}\".format(os.environ['SNORKELDB']))"
   ]
  },
  {
   "cell_type": "code",
   "execution_count": 4,
   "metadata": {
    "collapsed": false,
    "scrolled": false
   },
   "outputs": [
    {
     "name": "stdout",
     "output_type": "stream",
     "text": [
      "Overwriting disc_model_search_space=10 to disc_model_search_space=1\n",
      "Overwriting domain=None to domain=spouse\n",
      "Overwriting print_freq=1 to print_freq=5\n",
      "Overwriting disc_model_search_space=10 to disc_model_search_space=1\n",
      "Overwriting LF_acc_prior_weight_default=1.0 to LF_acc_prior_weight_default=0.5\n",
      "Overwriting decay=0.95 to decay=0.99\n",
      "Overwriting init_class_prior=0 to init_class_prior=-1.15\n",
      "Overwriting reg_param=0.1 to reg_param=0.5\n",
      "Overwriting babbler_candidate_split=1 to babbler_candidate_split=[0, 1, 2]\n",
      "Overwriting disc_model_class=lstm to disc_model_class=logreg\n",
      "Overwriting supervision=generative to supervision=majority\n"
     ]
    }
   ],
   "source": [
    "from snorkel import SnorkelSession\n",
    "session = SnorkelSession()\n",
    "\n",
    "# Resolve config conflicts (nb_config > local_config > global_config)\n",
    "from snorkel.contrib.babble.pipelines import merge_configs, get_local_pipeline\n",
    "config = merge_configs(config)\n",
    "\n",
    "from snorkel.models import candidate_subclass\n",
    "candidate_class = candidate_subclass(config['candidate_name'], config['candidate_entities'])\n",
    "\n",
    "pipeline = get_local_pipeline(config['domain'])\n",
    "pipe = pipeline(session, candidate_class, config)"
   ]
  },
  {
   "cell_type": "code",
   "execution_count": 5,
   "metadata": {
    "collapsed": false
   },
   "outputs": [
    {
     "name": "stdout",
     "output_type": "stream",
     "text": [
      "22195\n",
      "2796\n",
      "2697\n"
     ]
    }
   ],
   "source": [
    "for split in [0,1,2]:\n",
    "    print(session.query(pipe.candidate_class).filter(\n",
    "        pipe.candidate_class.split == split).count())"
   ]
  },
  {
   "cell_type": "code",
   "execution_count": 6,
   "metadata": {
    "collapsed": false,
    "scrolled": true
   },
   "outputs": [],
   "source": [
    "# %time pipe.parse()"
   ]
  },
  {
   "cell_type": "code",
   "execution_count": 7,
   "metadata": {
    "collapsed": false,
    "scrolled": true
   },
   "outputs": [],
   "source": [
    "# %time pipe.extract()"
   ]
  },
  {
   "cell_type": "code",
   "execution_count": 8,
   "metadata": {
    "collapsed": false,
    "scrolled": true
   },
   "outputs": [],
   "source": [
    "# %time pipe.load_gold()"
   ]
  },
  {
   "cell_type": "code",
   "execution_count": 9,
   "metadata": {
    "collapsed": false,
    "scrolled": true
   },
   "outputs": [],
   "source": [
    "# %time pipe.featurize()"
   ]
  },
  {
   "cell_type": "code",
   "execution_count": 10,
   "metadata": {
    "collapsed": false,
    "scrolled": false
   },
   "outputs": [],
   "source": [
    "# %time pipe.collect()"
   ]
  },
  {
   "cell_type": "code",
   "execution_count": 11,
   "metadata": {
    "collapsed": false,
    "scrolled": false
   },
   "outputs": [],
   "source": [
    "# %time pipe.label()"
   ]
  },
  {
   "cell_type": "code",
   "execution_count": 12,
   "metadata": {
    "collapsed": false,
    "scrolled": false
   },
   "outputs": [
    {
     "name": "stdout",
     "output_type": "stream",
     "text": [
      "Clearing existing...\n",
      "Running UDF...\n",
      "[========================================] 100%\n",
      "\n",
      "Clearing existing...\n",
      "Running UDF...\n",
      "[========================================] 100%\n",
      "\n",
      "Clearing existing...\n",
      "Running UDF...\n",
      "[========================================] 100%\n",
      "\n",
      "CPU times: user 1min 11s, sys: 1.23 s, total: 1min 12s\n",
      "Wall time: 1min 11s\n"
     ]
    }
   ],
   "source": [
    "%%time\n",
    "\n",
    "import os\n",
    "from tutorials.babble.spouse.spouse_qalf import QalfConverter\n",
    "\n",
    "qc = QalfConverter(session, pipe.candidate_class)\n",
    "matrix_path = (os.environ['SNORKELHOME'] + \n",
    "    '/tutorials/qalf/spouse/data/qalf_matrix_hp.tsv')\n",
    "stats_path = (os.environ['SNORKELHOME'] + \n",
    "    '/tutorials/qalf/spouse/data/qalf_stats_hp.tsv')\n",
    "L_train, L_dev, L_test = qc.convert(matrix_path, stats_path)\n",
    "\n",
    "pipe.L_train = L_train\n",
    "pipe.L_dev = L_dev\n",
    "pipe.L_test = L_test"
   ]
  },
  {
   "cell_type": "code",
   "execution_count": 13,
   "metadata": {
    "collapsed": false
   },
   "outputs": [],
   "source": [
    "from snorkel.annotations import load_gold_labels\n",
    "# L_gold_train = load_gold_labels(session, annotator_name='gold', split=0)\n",
    "L_gold_dev   = load_gold_labels(session, annotator_name='gold', split=1)\n",
    "# L_gold_test  = load_gold_labels(session, annotator_name='gold', split=2)"
   ]
  },
  {
   "cell_type": "code",
   "execution_count": 14,
   "metadata": {
    "collapsed": false,
    "scrolled": false
   },
   "outputs": [
    {
     "data": {
      "text/html": [
       "<div>\n",
       "<table border=\"1\" class=\"dataframe\">\n",
       "  <thead>\n",
       "    <tr style=\"text-align: right;\">\n",
       "      <th></th>\n",
       "      <th>j</th>\n",
       "      <th>Coverage</th>\n",
       "      <th>Overlaps</th>\n",
       "      <th>Conflicts</th>\n",
       "      <th>TP</th>\n",
       "      <th>FP</th>\n",
       "      <th>FN</th>\n",
       "      <th>TN</th>\n",
       "      <th>Empirical Acc.</th>\n",
       "    </tr>\n",
       "  </thead>\n",
       "  <tbody>\n",
       "    <tr>\n",
       "      <th>Who_is_ENT1_married_to?</th>\n",
       "      <td>0</td>\n",
       "      <td>0.033262</td>\n",
       "      <td>0.030401</td>\n",
       "      <td>0.017525</td>\n",
       "      <td>35</td>\n",
       "      <td>58</td>\n",
       "      <td>0</td>\n",
       "      <td>0</td>\n",
       "      <td>0.376344</td>\n",
       "    </tr>\n",
       "    <tr>\n",
       "      <th>Who_is_ENT2_married_to?</th>\n",
       "      <td>1</td>\n",
       "      <td>0.009299</td>\n",
       "      <td>0.008584</td>\n",
       "      <td>0.007153</td>\n",
       "      <td>4</td>\n",
       "      <td>22</td>\n",
       "      <td>0</td>\n",
       "      <td>0</td>\n",
       "      <td>0.153846</td>\n",
       "    </tr>\n",
       "    <tr>\n",
       "      <th>Who_got_married_to_ENT1_at_their_wedding?</th>\n",
       "      <td>2</td>\n",
       "      <td>0.013948</td>\n",
       "      <td>0.012160</td>\n",
       "      <td>0.006795</td>\n",
       "      <td>17</td>\n",
       "      <td>22</td>\n",
       "      <td>0</td>\n",
       "      <td>0</td>\n",
       "      <td>0.435897</td>\n",
       "    </tr>\n",
       "    <tr>\n",
       "      <th>Who_got_married_to_ENT2_at_their_wedding?</th>\n",
       "      <td>3</td>\n",
       "      <td>0.008941</td>\n",
       "      <td>0.006438</td>\n",
       "      <td>0.003934</td>\n",
       "      <td>9</td>\n",
       "      <td>16</td>\n",
       "      <td>0</td>\n",
       "      <td>0</td>\n",
       "      <td>0.360000</td>\n",
       "    </tr>\n",
       "    <tr>\n",
       "      <th>Who_is_ENT1's_husband?</th>\n",
       "      <td>4</td>\n",
       "      <td>0.047210</td>\n",
       "      <td>0.044707</td>\n",
       "      <td>0.023247</td>\n",
       "      <td>58</td>\n",
       "      <td>74</td>\n",
       "      <td>0</td>\n",
       "      <td>0</td>\n",
       "      <td>0.439394</td>\n",
       "    </tr>\n",
       "    <tr>\n",
       "      <th>Who_is_ENT2's_husband?</th>\n",
       "      <td>5</td>\n",
       "      <td>0.012518</td>\n",
       "      <td>0.012518</td>\n",
       "      <td>0.008941</td>\n",
       "      <td>7</td>\n",
       "      <td>28</td>\n",
       "      <td>0</td>\n",
       "      <td>0</td>\n",
       "      <td>0.200000</td>\n",
       "    </tr>\n",
       "    <tr>\n",
       "      <th>Who_is_ENT1's_wife?</th>\n",
       "      <td>6</td>\n",
       "      <td>0.053648</td>\n",
       "      <td>0.047568</td>\n",
       "      <td>0.025036</td>\n",
       "      <td>57</td>\n",
       "      <td>93</td>\n",
       "      <td>0</td>\n",
       "      <td>0</td>\n",
       "      <td>0.380000</td>\n",
       "    </tr>\n",
       "    <tr>\n",
       "      <th>Who_is_ENT2's_wife?</th>\n",
       "      <td>7</td>\n",
       "      <td>0.015379</td>\n",
       "      <td>0.013948</td>\n",
       "      <td>0.009299</td>\n",
       "      <td>7</td>\n",
       "      <td>36</td>\n",
       "      <td>0</td>\n",
       "      <td>0</td>\n",
       "      <td>0.162791</td>\n",
       "    </tr>\n",
       "    <tr>\n",
       "      <th>Who_else_is_the_parent_of_a_child_with_ENT1?</th>\n",
       "      <td>8</td>\n",
       "      <td>0.008941</td>\n",
       "      <td>0.008584</td>\n",
       "      <td>0.005722</td>\n",
       "      <td>8</td>\n",
       "      <td>17</td>\n",
       "      <td>0</td>\n",
       "      <td>0</td>\n",
       "      <td>0.320000</td>\n",
       "    </tr>\n",
       "    <tr>\n",
       "      <th>Who_else_is_the_parent_of_a_child_with_ENT2?</th>\n",
       "      <td>9</td>\n",
       "      <td>0.001788</td>\n",
       "      <td>0.001788</td>\n",
       "      <td>0.001431</td>\n",
       "      <td>2</td>\n",
       "      <td>3</td>\n",
       "      <td>0</td>\n",
       "      <td>0</td>\n",
       "      <td>0.400000</td>\n",
       "    </tr>\n",
       "    <tr>\n",
       "      <th>Who_is_ENT1's_brother?</th>\n",
       "      <td>10</td>\n",
       "      <td>0.029328</td>\n",
       "      <td>0.028255</td>\n",
       "      <td>0.015379</td>\n",
       "      <td>0</td>\n",
       "      <td>0</td>\n",
       "      <td>3</td>\n",
       "      <td>79</td>\n",
       "      <td>0.963415</td>\n",
       "    </tr>\n",
       "    <tr>\n",
       "      <th>Who_is_ENT2's_brother?</th>\n",
       "      <td>11</td>\n",
       "      <td>0.015737</td>\n",
       "      <td>0.015379</td>\n",
       "      <td>0.007868</td>\n",
       "      <td>0</td>\n",
       "      <td>0</td>\n",
       "      <td>1</td>\n",
       "      <td>43</td>\n",
       "      <td>0.977273</td>\n",
       "    </tr>\n",
       "    <tr>\n",
       "      <th>Who_is_ENT1's_father?</th>\n",
       "      <td>12</td>\n",
       "      <td>0.028612</td>\n",
       "      <td>0.028255</td>\n",
       "      <td>0.017167</td>\n",
       "      <td>0</td>\n",
       "      <td>0</td>\n",
       "      <td>5</td>\n",
       "      <td>75</td>\n",
       "      <td>0.937500</td>\n",
       "    </tr>\n",
       "    <tr>\n",
       "      <th>Who_is_ENT2's_father?</th>\n",
       "      <td>13</td>\n",
       "      <td>0.013591</td>\n",
       "      <td>0.013591</td>\n",
       "      <td>0.007868</td>\n",
       "      <td>0</td>\n",
       "      <td>0</td>\n",
       "      <td>1</td>\n",
       "      <td>37</td>\n",
       "      <td>0.973684</td>\n",
       "    </tr>\n",
       "    <tr>\n",
       "      <th>Who_is_ENT1's_son?</th>\n",
       "      <td>14</td>\n",
       "      <td>0.025036</td>\n",
       "      <td>0.024320</td>\n",
       "      <td>0.015021</td>\n",
       "      <td>0</td>\n",
       "      <td>0</td>\n",
       "      <td>4</td>\n",
       "      <td>66</td>\n",
       "      <td>0.942857</td>\n",
       "    </tr>\n",
       "    <tr>\n",
       "      <th>Who_is_ENT2's_son?</th>\n",
       "      <td>15</td>\n",
       "      <td>0.011445</td>\n",
       "      <td>0.011445</td>\n",
       "      <td>0.006438</td>\n",
       "      <td>0</td>\n",
       "      <td>0</td>\n",
       "      <td>1</td>\n",
       "      <td>31</td>\n",
       "      <td>0.968750</td>\n",
       "    </tr>\n",
       "    <tr>\n",
       "      <th>Who_is_ENT1's_boss?</th>\n",
       "      <td>16</td>\n",
       "      <td>0.021459</td>\n",
       "      <td>0.020386</td>\n",
       "      <td>0.015379</td>\n",
       "      <td>0</td>\n",
       "      <td>0</td>\n",
       "      <td>5</td>\n",
       "      <td>55</td>\n",
       "      <td>0.916667</td>\n",
       "    </tr>\n",
       "    <tr>\n",
       "      <th>Who_is_ENT2's_boss?</th>\n",
       "      <td>17</td>\n",
       "      <td>0.015021</td>\n",
       "      <td>0.014306</td>\n",
       "      <td>0.010014</td>\n",
       "      <td>0</td>\n",
       "      <td>0</td>\n",
       "      <td>1</td>\n",
       "      <td>41</td>\n",
       "      <td>0.976190</td>\n",
       "    </tr>\n",
       "    <tr>\n",
       "      <th>Who_is_ENT1's_employee?</th>\n",
       "      <td>18</td>\n",
       "      <td>0.023605</td>\n",
       "      <td>0.022532</td>\n",
       "      <td>0.016810</td>\n",
       "      <td>0</td>\n",
       "      <td>0</td>\n",
       "      <td>7</td>\n",
       "      <td>59</td>\n",
       "      <td>0.893939</td>\n",
       "    </tr>\n",
       "    <tr>\n",
       "      <th>Who_is_ENT2's_employee?</th>\n",
       "      <td>19</td>\n",
       "      <td>0.014664</td>\n",
       "      <td>0.013948</td>\n",
       "      <td>0.009657</td>\n",
       "      <td>0</td>\n",
       "      <td>0</td>\n",
       "      <td>1</td>\n",
       "      <td>40</td>\n",
       "      <td>0.975610</td>\n",
       "    </tr>\n",
       "    <tr>\n",
       "      <th>Who_does_ENT1_work_with?</th>\n",
       "      <td>20</td>\n",
       "      <td>0.023605</td>\n",
       "      <td>0.017883</td>\n",
       "      <td>0.014664</td>\n",
       "      <td>0</td>\n",
       "      <td>0</td>\n",
       "      <td>7</td>\n",
       "      <td>59</td>\n",
       "      <td>0.893939</td>\n",
       "    </tr>\n",
       "    <tr>\n",
       "      <th>Who_does_ENT2_work_with?</th>\n",
       "      <td>21</td>\n",
       "      <td>0.007511</td>\n",
       "      <td>0.007511</td>\n",
       "      <td>0.004649</td>\n",
       "      <td>0</td>\n",
       "      <td>0</td>\n",
       "      <td>1</td>\n",
       "      <td>20</td>\n",
       "      <td>0.952381</td>\n",
       "    </tr>\n",
       "    <tr>\n",
       "      <th>Who_works_at_the_same_company_as_ENT1?</th>\n",
       "      <td>22</td>\n",
       "      <td>0.007153</td>\n",
       "      <td>0.005007</td>\n",
       "      <td>0.002861</td>\n",
       "      <td>0</td>\n",
       "      <td>0</td>\n",
       "      <td>0</td>\n",
       "      <td>20</td>\n",
       "      <td>1.000000</td>\n",
       "    </tr>\n",
       "    <tr>\n",
       "      <th>Who_works_at_the_same_company_as_ENT2?</th>\n",
       "      <td>23</td>\n",
       "      <td>0.005365</td>\n",
       "      <td>0.004292</td>\n",
       "      <td>0.002504</td>\n",
       "      <td>0</td>\n",
       "      <td>0</td>\n",
       "      <td>0</td>\n",
       "      <td>15</td>\n",
       "      <td>1.000000</td>\n",
       "    </tr>\n",
       "  </tbody>\n",
       "</table>\n",
       "</div>"
      ],
      "text/plain": [
       "                                               j  Coverage  Overlaps  \\\n",
       "Who_is_ENT1_married_to?                        0  0.033262  0.030401   \n",
       "Who_is_ENT2_married_to?                        1  0.009299  0.008584   \n",
       "Who_got_married_to_ENT1_at_their_wedding?      2  0.013948  0.012160   \n",
       "Who_got_married_to_ENT2_at_their_wedding?      3  0.008941  0.006438   \n",
       "Who_is_ENT1's_husband?                         4  0.047210  0.044707   \n",
       "Who_is_ENT2's_husband?                         5  0.012518  0.012518   \n",
       "Who_is_ENT1's_wife?                            6  0.053648  0.047568   \n",
       "Who_is_ENT2's_wife?                            7  0.015379  0.013948   \n",
       "Who_else_is_the_parent_of_a_child_with_ENT1?   8  0.008941  0.008584   \n",
       "Who_else_is_the_parent_of_a_child_with_ENT2?   9  0.001788  0.001788   \n",
       "Who_is_ENT1's_brother?                        10  0.029328  0.028255   \n",
       "Who_is_ENT2's_brother?                        11  0.015737  0.015379   \n",
       "Who_is_ENT1's_father?                         12  0.028612  0.028255   \n",
       "Who_is_ENT2's_father?                         13  0.013591  0.013591   \n",
       "Who_is_ENT1's_son?                            14  0.025036  0.024320   \n",
       "Who_is_ENT2's_son?                            15  0.011445  0.011445   \n",
       "Who_is_ENT1's_boss?                           16  0.021459  0.020386   \n",
       "Who_is_ENT2's_boss?                           17  0.015021  0.014306   \n",
       "Who_is_ENT1's_employee?                       18  0.023605  0.022532   \n",
       "Who_is_ENT2's_employee?                       19  0.014664  0.013948   \n",
       "Who_does_ENT1_work_with?                      20  0.023605  0.017883   \n",
       "Who_does_ENT2_work_with?                      21  0.007511  0.007511   \n",
       "Who_works_at_the_same_company_as_ENT1?        22  0.007153  0.005007   \n",
       "Who_works_at_the_same_company_as_ENT2?        23  0.005365  0.004292   \n",
       "\n",
       "                                              Conflicts  TP  FP  FN  TN  \\\n",
       "Who_is_ENT1_married_to?                        0.017525  35  58   0   0   \n",
       "Who_is_ENT2_married_to?                        0.007153   4  22   0   0   \n",
       "Who_got_married_to_ENT1_at_their_wedding?      0.006795  17  22   0   0   \n",
       "Who_got_married_to_ENT2_at_their_wedding?      0.003934   9  16   0   0   \n",
       "Who_is_ENT1's_husband?                         0.023247  58  74   0   0   \n",
       "Who_is_ENT2's_husband?                         0.008941   7  28   0   0   \n",
       "Who_is_ENT1's_wife?                            0.025036  57  93   0   0   \n",
       "Who_is_ENT2's_wife?                            0.009299   7  36   0   0   \n",
       "Who_else_is_the_parent_of_a_child_with_ENT1?   0.005722   8  17   0   0   \n",
       "Who_else_is_the_parent_of_a_child_with_ENT2?   0.001431   2   3   0   0   \n",
       "Who_is_ENT1's_brother?                         0.015379   0   0   3  79   \n",
       "Who_is_ENT2's_brother?                         0.007868   0   0   1  43   \n",
       "Who_is_ENT1's_father?                          0.017167   0   0   5  75   \n",
       "Who_is_ENT2's_father?                          0.007868   0   0   1  37   \n",
       "Who_is_ENT1's_son?                             0.015021   0   0   4  66   \n",
       "Who_is_ENT2's_son?                             0.006438   0   0   1  31   \n",
       "Who_is_ENT1's_boss?                            0.015379   0   0   5  55   \n",
       "Who_is_ENT2's_boss?                            0.010014   0   0   1  41   \n",
       "Who_is_ENT1's_employee?                        0.016810   0   0   7  59   \n",
       "Who_is_ENT2's_employee?                        0.009657   0   0   1  40   \n",
       "Who_does_ENT1_work_with?                       0.014664   0   0   7  59   \n",
       "Who_does_ENT2_work_with?                       0.004649   0   0   1  20   \n",
       "Who_works_at_the_same_company_as_ENT1?         0.002861   0   0   0  20   \n",
       "Who_works_at_the_same_company_as_ENT2?         0.002504   0   0   0  15   \n",
       "\n",
       "                                              Empirical Acc.  \n",
       "Who_is_ENT1_married_to?                             0.376344  \n",
       "Who_is_ENT2_married_to?                             0.153846  \n",
       "Who_got_married_to_ENT1_at_their_wedding?           0.435897  \n",
       "Who_got_married_to_ENT2_at_their_wedding?           0.360000  \n",
       "Who_is_ENT1's_husband?                              0.439394  \n",
       "Who_is_ENT2's_husband?                              0.200000  \n",
       "Who_is_ENT1's_wife?                                 0.380000  \n",
       "Who_is_ENT2's_wife?                                 0.162791  \n",
       "Who_else_is_the_parent_of_a_child_with_ENT1?        0.320000  \n",
       "Who_else_is_the_parent_of_a_child_with_ENT2?        0.400000  \n",
       "Who_is_ENT1's_brother?                              0.963415  \n",
       "Who_is_ENT2's_brother?                              0.977273  \n",
       "Who_is_ENT1's_father?                               0.937500  \n",
       "Who_is_ENT2's_father?                               0.973684  \n",
       "Who_is_ENT1's_son?                                  0.942857  \n",
       "Who_is_ENT2's_son?                                  0.968750  \n",
       "Who_is_ENT1's_boss?                                 0.916667  \n",
       "Who_is_ENT2's_boss?                                 0.976190  \n",
       "Who_is_ENT1's_employee?                             0.893939  \n",
       "Who_is_ENT2's_employee?                             0.975610  \n",
       "Who_does_ENT1_work_with?                            0.893939  \n",
       "Who_does_ENT2_work_with?                            0.952381  \n",
       "Who_works_at_the_same_company_as_ENT1?              1.000000  \n",
       "Who_works_at_the_same_company_as_ENT2?              1.000000  "
      ]
     },
     "execution_count": 14,
     "metadata": {},
     "output_type": "execute_result"
    }
   ],
   "source": [
    "# L_train.lf_stats(session, labels=L_gold_train)\n",
    "L_dev.lf_stats(session, labels=L_gold_dev)\n",
    "# L_test.lf_stats(session, labels=L_gold_test)"
   ]
  },
  {
   "cell_type": "code",
   "execution_count": 15,
   "metadata": {
    "collapsed": false,
    "scrolled": true
   },
   "outputs": [
    {
     "name": "stdout",
     "output_type": "stream",
     "text": [
      "Using L_train: <22195x24 sparse matrix of type '<type 'numpy.int64'>'\n",
      "\twith 9463 stored elements in Compressed Sparse Row format>\n",
      "Using L_gold_train: <22195x1 sparse matrix of type '<type 'numpy.int64'>'\n",
      "\twith 22195 stored elements in Compressed Sparse Row format>\n",
      "Positive Fraction: 7.0%\n",
      "\n",
      "Using L_dev: <2796x24 sparse matrix of type '<type 'numpy.int64'>'\n",
      "\twith 1250 stored elements in Compressed Sparse Row format>\n",
      "Using L_gold_dev: <2796x1 sparse matrix of type '<type 'numpy.int64'>'\n",
      "\twith 2796 stored elements in Compressed Sparse Row format>\n",
      "Positive Fraction: 7.0%\n",
      "\n",
      "Using L_test: <2697x24 sparse matrix of type '<type 'numpy.int64'>'\n",
      "\twith 1198 stored elements in Compressed Sparse Row format>\n",
      "Using L_gold_test: <2697x1 sparse matrix of type '<type 'numpy.int64'>'\n",
      "\twith 2697 stored elements in Compressed Sparse Row format>\n",
      "Positive Fraction: 8.3%\n",
      "\n",
      "Saved 22195 marginals\n",
      "CPU times: user 2.13 s, sys: 65.9 ms, total: 2.2 s\n",
      "Wall time: 2.18 s\n"
     ]
    }
   ],
   "source": [
    "%time pipe.supervise()"
   ]
  },
  {
   "cell_type": "code",
   "execution_count": 16,
   "metadata": {
    "collapsed": false,
    "scrolled": false
   },
   "outputs": [
    {
     "name": "stdout",
     "output_type": "stream",
     "text": [
      "(22195,)\n"
     ]
    },
    {
     "data": {
      "image/png": "[encoded data removed]",
      "text/plain": [
       "<matplotlib.figure.Figure at 0x10a76a790>"
      ]
     },
     "metadata": {},
     "output_type": "display_data"
    },
    {
     "name": "stdout",
     "output_type": "stream",
     "text": [
      "### [7.1] Begin training discriminative model\n",
      "Skipping grid search.\n",
      "[SparseLogisticRegression] Training model\n",
      "[SparseLogisticRegression] n_train=5388  #epochs=20  batch size=128\n",
      "[SparseLogisticRegression] Epoch 0 (0.48s)\tAverage loss=0.527120\tDev F1=42.03\n",
      "[SparseLogisticRegression] Epoch 5 (2.94s)\tAverage loss=0.040244\tDev F1=45.67\n",
      "[SparseLogisticRegression] Epoch 10 (5.47s)\tAverage loss=0.018670\tDev F1=45.88\n",
      "[SparseLogisticRegression] Epoch 15 (8.02s)\tAverage loss=0.011280\tDev F1=46.12\n",
      "[SparseLogisticRegression] Epoch 19 (10.11s)\tAverage loss=0.008097\tDev F1=45.55\n",
      "[SparseLogisticRegression] Model saved as <SparseLogisticRegression>\n",
      "[SparseLogisticRegression] Training done (10.54s)\n",
      "[SparseLogisticRegression] Loaded model <SparseLogisticRegression>\n",
      "[SparseLogisticRegression] Model saved as <discriminative_spouse>\n",
      "### Done in 12.1s.\n",
      "\n",
      "### [7.2] Evaluate generative model (opt_b=0.75)\n",
      "### Done in 0.0s.\n",
      "\n",
      "### [7.3] Evaluate discriminative model (opt_b=0.75)\n",
      "### Done in 0.1s.\n",
      "\n",
      "      F1 Score  Precision    Recall\n",
      "Disc  0.417021   0.398374  0.437500\n",
      "Gen   0.444444   0.472362  0.419643\n",
      "CPU times: user 1min 5s, sys: 3.98 s, total: 1min 9s\n",
      "Wall time: 1min 5s\n"
     ]
    }
   ],
   "source": [
    "%time pipe.classify()"
   ]
  },
  {
   "cell_type": "code",
   "execution_count": null,
   "metadata": {
    "collapsed": true
   },
   "outputs": [],
   "source": []
  }
 ],
 "metadata": {
  "kernelspec": {
   "display_name": "Python 2",
   "language": "python",
   "name": "python2"
  },
  "language_info": {
   "codemirror_mode": {
    "name": "ipython",
    "version": 2
   },
   "file_extension": ".py",
   "mimetype": "text/x-python",
   "name": "python",
   "nbconvert_exporter": "python",
   "pygments_lexer": "ipython2",
   "version": "2.7.14"
  }
 },
 "nbformat": 4,
 "nbformat_minor": 2
}
