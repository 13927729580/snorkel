{
 "cells": [
  {
   "cell_type": "code",
   "execution_count": 1,
   "metadata": {
    "collapsed": false,
    "scrolled": false
   },
   "outputs": [],
   "source": [
    "import os\n",
    "os.remove('snorkel.db')"
   ]
  },
  {
   "cell_type": "code",
   "execution_count": 2,
   "metadata": {
    "collapsed": false,
    "scrolled": false
   },
   "outputs": [],
   "source": [
    "from snorkel import SnorkelSession\n",
    "session = SnorkelSession()\n",
    "\n",
    "import os, sys\n",
    "sys.path.append(os.environ['SNORKELHOME'] + '/tutorials/tables/')"
   ]
  },
  {
   "cell_type": "code",
   "execution_count": 3,
   "metadata": {
    "collapsed": false,
    "scrolled": true
   },
   "outputs": [],
   "source": [
    "import os\n",
    "from snorkel.parser import CorpusParser\n",
    "from snorkel.parser import HTMLParser\n",
    "from snorkel.parser import OmniParser\n",
    "\n",
    "doc_parser = HTMLParser(path=os.environ['SNORKELHOME'] + '/tutorials/tables/sandbox/diseases.xhtml')\n",
    "context_parser = OmniParser()\n",
    "cp = CorpusParser(doc_parser, context_parser, max_docs=1)"
   ]
  },
  {
   "cell_type": "code",
   "execution_count": 4,
   "metadata": {
    "collapsed": false,
    "scrolled": true
   },
   "outputs": [
    {
     "name": "stdout",
     "output_type": "stream",
     "text": [
      "[========================================] 100%\n",
      "CPU times: user 171 ms, sys: 34.8 ms, total: 206 ms\n",
      "Wall time: 561 ms\n",
      "34 Phrases in Corpus (Sandbox)\n"
     ]
    }
   ],
   "source": [
    "%time corpus = cp.parse_corpus(name='Sandbox', session=session)\n",
    "print \"%d Phrases in %s\" % (\n",
    "    len([phrase for doc in corpus.documents for phrase in doc.phrases]), corpus)"
   ]
  },
  {
   "cell_type": "code",
   "execution_count": 5,
   "metadata": {
    "collapsed": false
   },
   "outputs": [],
   "source": [
    "# for cell in corpus.documents[0].cells: print cell.text[:10]"
   ]
  },
  {
   "cell_type": "code",
   "execution_count": 6,
   "metadata": {
    "collapsed": false
   },
   "outputs": [
    {
     "name": "stdout",
     "output_type": "stream",
     "text": [
      "Types of viruses, coughs, and colds\n",
      "Brain Cancer\n",
      "See Table Below.\n",
      "Common Ailments\n",
      "Disease\n",
      "Location\n",
      "Year\n",
      "Polio is ?\n",
      "C cold.\n",
      "- Dublin to Milwaukee\n",
      "?\n",
      "2001\n",
      "I don't like Chicken Pox or pizza.\n",
      "Shingles is also bad.\n",
      "whooping cough\n",
      "Scurvy\n",
      "Annapolis\n",
      "Junction and Storage Temperature -55 to 150 o C\n",
      "Table 1: Infectious diseases and where to find them.\n",
      "In between the tables there is a nasty case of heart attack\n",
      "Problem\n",
      "Cause\n",
      "Cost\n",
      "Arthritis\n",
      "Pokemon Go\n",
      "Free\n",
      "Yellow  Fever\n",
      "Unicorns\n",
      "$17.75\n",
      "Hypochondria\n",
      "Fear\n",
      "$100\n",
      "Table 2: Three ways to get Pneumonia and how much they cost.\n",
      "And here is a final sentence with warts.\n"
     ]
    }
   ],
   "source": [
    "for phrase in [phrase for doc in corpus.documents for phrase in doc.phrases]:\n",
    "    phrase_total = len(phrase.cell.phrases) if phrase.cell else 0\n",
    "    # print \"%d: %d/%d\" % (phrase.phrase_id, phrase.position, phrase_total)\n",
    "    print phrase.text"
   ]
  },
  {
   "cell_type": "code",
   "execution_count": 7,
   "metadata": {
    "collapsed": true
   },
   "outputs": [],
   "source": [
    "# (a,b,c) = (2,(3 if True else 5) ,4)"
   ]
  },
  {
   "cell_type": "code",
   "execution_count": 8,
   "metadata": {
    "collapsed": false
   },
   "outputs": [],
   "source": [
    "from snorkel.models import candidate_subclass\n",
    "\n",
    "# Year = candidate_subclass('Year', ['year'])\n",
    "# Temp = candidate_subclass('Temp', ['temp'])\n",
    "# Disease = candidate_subclass('Disease', ['disease'])\n",
    "# Part = candidate_subclass('Part', ['part'])\n",
    "Disease_Year = candidate_subclass('Disease_Temp', ['disease','temp'])"
   ]
  },
  {
   "cell_type": "code",
   "execution_count": 9,
   "metadata": {
    "collapsed": false
   },
   "outputs": [],
   "source": [
    "from snorkel.candidates import OmniNgrams\n",
    "from hardware_utils import OmniNgramsPart, OmniNgramsTemp\n",
    "\n",
    "omni_ngrams = OmniNgrams(n_max=3, split_tokens=None)\n",
    "# omni_part = OmniNgramsPart(n_max=3)\n",
    "omni_temp = OmniNgramsTemp(n_max=3)\n",
    "# omni_temp = OmniNgrams(n_max=2)"
   ]
  },
  {
   "cell_type": "code",
   "execution_count": 10,
   "metadata": {
    "collapsed": false
   },
   "outputs": [
    {
     "name": "stdout",
     "output_type": "stream",
     "text": [
      "Loaded 23 diseases.\n"
     ]
    }
   ],
   "source": [
    "diseases = ['viruses', 'coughs', 'colds', 'brain', 'cancer', 'shingles', 'warts',\n",
    "              'brain cancer', 'disease', 'location', 'polio', 'chicken pox', \n",
    "              'bubonic plague', 'plague', 'scurvy', 'infectious diseases', \n",
    "              'arthritis', 'yellow fever', 'fever', 'hypochondria', 'pneumonia',\n",
    "              'whooping cough', 'heart attack']\n",
    "print \"Loaded %d diseases.\" % len(diseases)"
   ]
  },
  {
   "cell_type": "code",
   "execution_count": 11,
   "metadata": {
    "collapsed": false
   },
   "outputs": [],
   "source": [
    "from snorkel.matchers import DictionaryMatch, RegexMatchEach, RegexMatchSpan, DateMatcher\n",
    "\n",
    "disease_matcher = DictionaryMatch(d=diseases, ignore_case=True)\n",
    "# year_matcher = DateMatcher()\n",
    "# part_matcher = RegexMatchEach(rgx='BC.*')\n",
    "temp_matcher = RegexMatchSpan(rgx=r'-[5-7][05]')"
   ]
  },
  {
   "cell_type": "code",
   "execution_count": 12,
   "metadata": {
    "collapsed": false
   },
   "outputs": [],
   "source": [
    "from snorkel.candidates import CandidateExtractor\n",
    "\n",
    "# ce = CandidateExtractor(Part, [omni_part], [part_matcher])\n",
    "# ce = CandidateExtractor(Disease, [omni_ngrams], [disease_matcher])\n",
    "# ce = CandidateExtractor(Temp, [omni_temp], [temp_matcher])\n",
    "ce = CandidateExtractor(Disease_Year, \n",
    "                        [omni_ngrams, omni_temp], \n",
    "                        [disease_matcher, temp_matcher])"
   ]
  },
  {
   "cell_type": "code",
   "execution_count": 13,
   "metadata": {
    "collapsed": false,
    "scrolled": true
   },
   "outputs": [
    {
     "name": "stdout",
     "output_type": "stream",
     "text": [
      "[========================================] 100%\n",
      "CPU times: user 63.2 ms, sys: 6.69 ms, total: 69.9 ms\n",
      "Wall time: 68.6 ms\n",
      "Candidate Set (Sandbox Candidates) contains 20 Candidates\n"
     ]
    }
   ],
   "source": [
    "%time candidates = ce.extract(corpus.documents, 'Sandbox Candidates', session)\n",
    "print \"%s contains %d Candidates\" % (candidates, len(candidates))"
   ]
  },
  {
   "cell_type": "code",
   "execution_count": 14,
   "metadata": {
    "collapsed": false
   },
   "outputs": [
    {
     "name": "stdout",
     "output_type": "stream",
     "text": [
      "Disease_Temp(Span(\"Fever\", parent=56, chars=[8,12], words=[1,1]), ImplicitSpan(\"-55\", parent=49, words=[4,4], position=[0]))\n",
      "Span(\"Fever\", parent=56, chars=[8,12], words=[1,1])\n"
     ]
    }
   ],
   "source": [
    "c = candidates[0]\n",
    "print c\n",
    "part = c.get_arguments()[0]\n",
    "print part"
   ]
  },
  {
   "cell_type": "code",
   "execution_count": 15,
   "metadata": {
    "collapsed": false,
    "scrolled": true
   },
   "outputs": [
    {
     "name": "stdout",
     "output_type": "stream",
     "text": [
      "ImplicitSpan(\"-55\", parent=49, words=[4,4], position=[0])\n"
     ]
    }
   ],
   "source": [
    "example = candidates[0].temp\n",
    "print example"
   ]
  },
  {
   "cell_type": "code",
   "execution_count": 16,
   "metadata": {
    "collapsed": false
   },
   "outputs": [
    {
     "name": "stdout",
     "output_type": "stream",
     "text": [
      "Disease_Temp(Span(\"Fever\", parent=56, chars=[8,12], words=[1,1]), ImplicitSpan(\"-55\", parent=49, words=[4,4], position=[0]))\n"
     ]
    }
   ],
   "source": [
    "c = candidates[0]\n",
    "print c"
   ]
  },
  {
   "cell_type": "code",
   "execution_count": 17,
   "metadata": {
    "collapsed": false,
    "scrolled": true
   },
   "outputs": [
    {
     "name": "stdout",
     "output_type": "stream",
     "text": [
      "Phrase(Doc: diseases, Table: 1, Row: (2, 2), Col: (0, 0), Position: 0, Text: Yellow  Fever)\n",
      "Phrase(Doc: diseases, Table: 0, Row: (3, 3), Col: (2, 2), Position: 0, Text: Junction and Storage Temperature -55 to 150 o C)\n",
      "[u'Junction', u'and', u'Storage', u'Temperature']\n",
      "[u'to', u'150', u'o', u'c']\n",
      "[u'junction', u'and', u'storage', u'temperature', u'to', u'150', u'o', u'c']\n",
      "[u'junction', u'and', u'storage', u'temperature', u'to', u'150', u'o', u'c']\n",
      "[u'junction', u'and', u'storage', u'temperature', u'to', u'150', u'o', u'c', u'scurvy', u'annapolis']\n",
      "[u'scurvy']\n",
      "[u'year']\n"
     ]
    }
   ],
   "source": [
    "from snorkel.lf_helpers import *\n",
    "\n",
    "# print [cell.text[:8] for cell in _get_aligned_cells(root_phrase.cell, axis, infer=infer)]\n",
    "# print [phrase.text for cell in _get_aligned_cells(root_phrase.cell, axis, infer=infer) for phrase in cell.phrases]\n",
    "print c.disease.parent\n",
    "print c.temp.parent\n",
    "print list(get_left_ngrams(c.temp, n_max=1, window=10, lower=False))\n",
    "print list(get_right_ngrams(c.temp, n_max=1, window=5))\n",
    "print list(get_phrase_ngrams(c.temp, n_max=1))\n",
    "print list(get_cell_ngrams(c.temp, n_max=1))\n",
    "print list(get_row_ngrams(c.temp, n_max=1, direct=True, infer=True))\n",
    "print list(get_head_ngrams(c.temp, 'row'))\n",
    "print list(get_head_ngrams(c.temp, 'col'))"
   ]
  },
  {
   "cell_type": "code",
   "execution_count": 18,
   "metadata": {
    "collapsed": false
   },
   "outputs": [],
   "source": [
    "from snorkel.models import CandidateSet\n",
    "train = CandidateSet(name='train', candidates=candidates[:25])\n",
    "dev = CandidateSet(name='test', candidates=candidates[25:])"
   ]
  },
  {
   "cell_type": "code",
   "execution_count": 19,
   "metadata": {
    "collapsed": false,
    "scrolled": false
   },
   "outputs": [
    {
     "name": "stdout",
     "output_type": "stream",
     "text": [
      "Generating annotations for 20 candidates...\n"
     ]
    },
    {
     "ename": "NameError",
     "evalue": "global name 'num_rows' is not defined",
     "output_type": "error",
     "traceback": [
      "\u001b[0;31m---------------------------------------------------------------------------\u001b[0m",
      "\u001b[0;31mNameError\u001b[0m                                 Traceback (most recent call last)",
      "\u001b[0;32m<ipython-input-19-a79c26abfed2>\u001b[0m in \u001b[0;36m<module>\u001b[0;34m()\u001b[0m\n\u001b[1;32m      2\u001b[0m \u001b[0;34m\u001b[0m\u001b[0m\n\u001b[1;32m      3\u001b[0m \u001b[0mfeature_manager\u001b[0m \u001b[0;34m=\u001b[0m \u001b[0mFeatureManager\u001b[0m\u001b[0;34m(\u001b[0m\u001b[0;34m)\u001b[0m\u001b[0;34m\u001b[0m\u001b[0m\n\u001b[0;32m----> 4\u001b[0;31m \u001b[0mget_ipython\u001b[0m\u001b[0;34m(\u001b[0m\u001b[0;34m)\u001b[0m\u001b[0;34m.\u001b[0m\u001b[0mmagic\u001b[0m\u001b[0;34m(\u001b[0m\u001b[0;34mu\"time F_train = feature_manager.create(session, train, 'Sandbox Features')\"\u001b[0m\u001b[0;34m)\u001b[0m\u001b[0;34m\u001b[0m\u001b[0m\n\u001b[0m\u001b[1;32m      5\u001b[0m \u001b[0mF_train\u001b[0m\u001b[0;34m\u001b[0m\u001b[0m\n\u001b[1;32m      6\u001b[0m \u001b[0;34m\u001b[0m\u001b[0m\n",
      "\u001b[0;32m/Users/bradenhancock/anaconda/lib/python2.7/site-packages/IPython/core/interactiveshell.pyc\u001b[0m in \u001b[0;36mmagic\u001b[0;34m(self, arg_s)\u001b[0m\n\u001b[1;32m   2156\u001b[0m         \u001b[0mmagic_name\u001b[0m\u001b[0;34m,\u001b[0m \u001b[0m_\u001b[0m\u001b[0;34m,\u001b[0m \u001b[0mmagic_arg_s\u001b[0m \u001b[0;34m=\u001b[0m \u001b[0marg_s\u001b[0m\u001b[0;34m.\u001b[0m\u001b[0mpartition\u001b[0m\u001b[0;34m(\u001b[0m\u001b[0;34m' '\u001b[0m\u001b[0;34m)\u001b[0m\u001b[0;34m\u001b[0m\u001b[0m\n\u001b[1;32m   2157\u001b[0m         \u001b[0mmagic_name\u001b[0m \u001b[0;34m=\u001b[0m \u001b[0mmagic_name\u001b[0m\u001b[0;34m.\u001b[0m\u001b[0mlstrip\u001b[0m\u001b[0;34m(\u001b[0m\u001b[0mprefilter\u001b[0m\u001b[0;34m.\u001b[0m\u001b[0mESC_MAGIC\u001b[0m\u001b[0;34m)\u001b[0m\u001b[0;34m\u001b[0m\u001b[0m\n\u001b[0;32m-> 2158\u001b[0;31m         \u001b[0;32mreturn\u001b[0m \u001b[0mself\u001b[0m\u001b[0;34m.\u001b[0m\u001b[0mrun_line_magic\u001b[0m\u001b[0;34m(\u001b[0m\u001b[0mmagic_name\u001b[0m\u001b[0;34m,\u001b[0m \u001b[0mmagic_arg_s\u001b[0m\u001b[0;34m)\u001b[0m\u001b[0;34m\u001b[0m\u001b[0m\n\u001b[0m\u001b[1;32m   2159\u001b[0m \u001b[0;34m\u001b[0m\u001b[0m\n\u001b[1;32m   2160\u001b[0m     \u001b[0;31m#-------------------------------------------------------------------------\u001b[0m\u001b[0;34m\u001b[0m\u001b[0;34m\u001b[0m\u001b[0m\n",
      "\u001b[0;32m/Users/bradenhancock/anaconda/lib/python2.7/site-packages/IPython/core/interactiveshell.pyc\u001b[0m in \u001b[0;36mrun_line_magic\u001b[0;34m(self, magic_name, line)\u001b[0m\n\u001b[1;32m   2077\u001b[0m                 \u001b[0mkwargs\u001b[0m\u001b[0;34m[\u001b[0m\u001b[0;34m'local_ns'\u001b[0m\u001b[0;34m]\u001b[0m \u001b[0;34m=\u001b[0m \u001b[0msys\u001b[0m\u001b[0;34m.\u001b[0m\u001b[0m_getframe\u001b[0m\u001b[0;34m(\u001b[0m\u001b[0mstack_depth\u001b[0m\u001b[0;34m)\u001b[0m\u001b[0;34m.\u001b[0m\u001b[0mf_locals\u001b[0m\u001b[0;34m\u001b[0m\u001b[0m\n\u001b[1;32m   2078\u001b[0m             \u001b[0;32mwith\u001b[0m \u001b[0mself\u001b[0m\u001b[0;34m.\u001b[0m\u001b[0mbuiltin_trap\u001b[0m\u001b[0;34m:\u001b[0m\u001b[0;34m\u001b[0m\u001b[0m\n\u001b[0;32m-> 2079\u001b[0;31m                 \u001b[0mresult\u001b[0m \u001b[0;34m=\u001b[0m \u001b[0mfn\u001b[0m\u001b[0;34m(\u001b[0m\u001b[0;34m*\u001b[0m\u001b[0margs\u001b[0m\u001b[0;34m,\u001b[0m\u001b[0;34m**\u001b[0m\u001b[0mkwargs\u001b[0m\u001b[0;34m)\u001b[0m\u001b[0;34m\u001b[0m\u001b[0m\n\u001b[0m\u001b[1;32m   2080\u001b[0m             \u001b[0;32mreturn\u001b[0m \u001b[0mresult\u001b[0m\u001b[0;34m\u001b[0m\u001b[0m\n\u001b[1;32m   2081\u001b[0m \u001b[0;34m\u001b[0m\u001b[0m\n",
      "\u001b[0;32m/Users/bradenhancock/anaconda/lib/python2.7/site-packages/IPython/core/magics/execution.pyc\u001b[0m in \u001b[0;36mtime\u001b[0;34m(self, line, cell, local_ns)\u001b[0m\n",
      "\u001b[0;32m/Users/bradenhancock/anaconda/lib/python2.7/site-packages/IPython/core/magic.pyc\u001b[0m in \u001b[0;36m<lambda>\u001b[0;34m(f, *a, **k)\u001b[0m\n\u001b[1;32m    186\u001b[0m     \u001b[0;31m# but it's overkill for just that one bit of state.\u001b[0m\u001b[0;34m\u001b[0m\u001b[0;34m\u001b[0m\u001b[0m\n\u001b[1;32m    187\u001b[0m     \u001b[0;32mdef\u001b[0m \u001b[0mmagic_deco\u001b[0m\u001b[0;34m(\u001b[0m\u001b[0marg\u001b[0m\u001b[0;34m)\u001b[0m\u001b[0;34m:\u001b[0m\u001b[0;34m\u001b[0m\u001b[0m\n\u001b[0;32m--> 188\u001b[0;31m         \u001b[0mcall\u001b[0m \u001b[0;34m=\u001b[0m \u001b[0;32mlambda\u001b[0m \u001b[0mf\u001b[0m\u001b[0;34m,\u001b[0m \u001b[0;34m*\u001b[0m\u001b[0ma\u001b[0m\u001b[0;34m,\u001b[0m \u001b[0;34m**\u001b[0m\u001b[0mk\u001b[0m\u001b[0;34m:\u001b[0m \u001b[0mf\u001b[0m\u001b[0;34m(\u001b[0m\u001b[0;34m*\u001b[0m\u001b[0ma\u001b[0m\u001b[0;34m,\u001b[0m \u001b[0;34m**\u001b[0m\u001b[0mk\u001b[0m\u001b[0;34m)\u001b[0m\u001b[0;34m\u001b[0m\u001b[0m\n\u001b[0m\u001b[1;32m    189\u001b[0m \u001b[0;34m\u001b[0m\u001b[0m\n\u001b[1;32m    190\u001b[0m         \u001b[0;32mif\u001b[0m \u001b[0mcallable\u001b[0m\u001b[0;34m(\u001b[0m\u001b[0marg\u001b[0m\u001b[0;34m)\u001b[0m\u001b[0;34m:\u001b[0m\u001b[0;34m\u001b[0m\u001b[0m\n",
      "\u001b[0;32m/Users/bradenhancock/anaconda/lib/python2.7/site-packages/IPython/core/magics/execution.pyc\u001b[0m in \u001b[0;36mtime\u001b[0;34m(self, line, cell, local_ns)\u001b[0m\n\u001b[1;32m   1178\u001b[0m         \u001b[0;32melse\u001b[0m\u001b[0;34m:\u001b[0m\u001b[0;34m\u001b[0m\u001b[0m\n\u001b[1;32m   1179\u001b[0m             \u001b[0mst\u001b[0m \u001b[0;34m=\u001b[0m \u001b[0mclock2\u001b[0m\u001b[0;34m(\u001b[0m\u001b[0;34m)\u001b[0m\u001b[0;34m\u001b[0m\u001b[0m\n\u001b[0;32m-> 1180\u001b[0;31m             \u001b[0;32mexec\u001b[0m\u001b[0;34m(\u001b[0m\u001b[0mcode\u001b[0m\u001b[0;34m,\u001b[0m \u001b[0mglob\u001b[0m\u001b[0;34m,\u001b[0m \u001b[0mlocal_ns\u001b[0m\u001b[0;34m)\u001b[0m\u001b[0;34m\u001b[0m\u001b[0m\n\u001b[0m\u001b[1;32m   1181\u001b[0m             \u001b[0mend\u001b[0m \u001b[0;34m=\u001b[0m \u001b[0mclock2\u001b[0m\u001b[0;34m(\u001b[0m\u001b[0;34m)\u001b[0m\u001b[0;34m\u001b[0m\u001b[0m\n\u001b[1;32m   1182\u001b[0m             \u001b[0mout\u001b[0m \u001b[0;34m=\u001b[0m \u001b[0mNone\u001b[0m\u001b[0;34m\u001b[0m\u001b[0m\n",
      "\u001b[0;32m<timed exec>\u001b[0m in \u001b[0;36m<module>\u001b[0;34m()\u001b[0m\n",
      "\u001b[0;32m/Users/bradenhancock/snorkel/snorkel/annotations.pyc\u001b[0m in \u001b[0;36mcreate\u001b[0;34m(self, session, candidate_set, new_key_set, f)\u001b[0m\n\u001b[1;32m    117\u001b[0m         \u001b[0msession\u001b[0m\u001b[0;34m.\u001b[0m\u001b[0mcommit\u001b[0m\u001b[0;34m(\u001b[0m\u001b[0;34m)\u001b[0m\u001b[0;34m\u001b[0m\u001b[0m\n\u001b[1;32m    118\u001b[0m \u001b[0;34m\u001b[0m\u001b[0m\n\u001b[0;32m--> 119\u001b[0;31m         \u001b[0;32mreturn\u001b[0m \u001b[0mself\u001b[0m\u001b[0;34m.\u001b[0m\u001b[0mupdate\u001b[0m\u001b[0;34m(\u001b[0m\u001b[0msession\u001b[0m\u001b[0;34m,\u001b[0m \u001b[0mcandidate_set\u001b[0m\u001b[0;34m,\u001b[0m \u001b[0mkey_set\u001b[0m\u001b[0;34m,\u001b[0m \u001b[0mTrue\u001b[0m\u001b[0;34m,\u001b[0m \u001b[0mf\u001b[0m\u001b[0;34m)\u001b[0m\u001b[0;34m\u001b[0m\u001b[0m\n\u001b[0m\u001b[1;32m    120\u001b[0m \u001b[0;34m\u001b[0m\u001b[0m\n\u001b[1;32m    121\u001b[0m     \u001b[0;32mdef\u001b[0m \u001b[0mupdate\u001b[0m\u001b[0;34m(\u001b[0m\u001b[0mself\u001b[0m\u001b[0;34m,\u001b[0m \u001b[0msession\u001b[0m\u001b[0;34m,\u001b[0m \u001b[0mcandidate_set\u001b[0m\u001b[0;34m,\u001b[0m \u001b[0mkey_set\u001b[0m\u001b[0;34m,\u001b[0m \u001b[0mexpand_key_set\u001b[0m\u001b[0;34m,\u001b[0m \u001b[0mf\u001b[0m\u001b[0;34m=\u001b[0m\u001b[0mNone\u001b[0m\u001b[0;34m)\u001b[0m\u001b[0;34m:\u001b[0m\u001b[0;34m\u001b[0m\u001b[0m\n",
      "\u001b[0;32m/Users/bradenhancock/snorkel/snorkel/annotations.pyc\u001b[0m in \u001b[0;36mupdate\u001b[0;34m(self, session, candidate_set, key_set, expand_key_set, f)\u001b[0m\n\u001b[1;32m    173\u001b[0m         \u001b[0;32mfor\u001b[0m \u001b[0mi\u001b[0m\u001b[0;34m,\u001b[0m \u001b[0mcandidate\u001b[0m \u001b[0;32min\u001b[0m \u001b[0menumerate\u001b[0m\u001b[0;34m(\u001b[0m\u001b[0mcandidate_set\u001b[0m\u001b[0;34m)\u001b[0m\u001b[0;34m:\u001b[0m\u001b[0;34m\u001b[0m\u001b[0m\n\u001b[1;32m    174\u001b[0m             \u001b[0mpb\u001b[0m\u001b[0;34m.\u001b[0m\u001b[0mbar\u001b[0m\u001b[0;34m(\u001b[0m\u001b[0mi\u001b[0m\u001b[0;34m)\u001b[0m\u001b[0;34m\u001b[0m\u001b[0m\n\u001b[0;32m--> 175\u001b[0;31m             \u001b[0;32mfor\u001b[0m \u001b[0mkey_name\u001b[0m\u001b[0;34m,\u001b[0m \u001b[0mvalue\u001b[0m \u001b[0;32min\u001b[0m \u001b[0mannotation_generator\u001b[0m\u001b[0;34m(\u001b[0m\u001b[0mcandidate\u001b[0m\u001b[0;34m)\u001b[0m\u001b[0;34m:\u001b[0m\u001b[0;34m\u001b[0m\u001b[0m\n\u001b[0m\u001b[1;32m    176\u001b[0m                 \u001b[0;31m# Check if the AnnotationKey already exists, and gets its id\u001b[0m\u001b[0;34m\u001b[0m\u001b[0;34m\u001b[0m\u001b[0m\n\u001b[1;32m    177\u001b[0m                 \u001b[0mkey_id\u001b[0m \u001b[0;34m=\u001b[0m \u001b[0msession\u001b[0m\u001b[0;34m.\u001b[0m\u001b[0mexecute\u001b[0m\u001b[0;34m(\u001b[0m\u001b[0mkey_select_query\u001b[0m\u001b[0;34m,\u001b[0m \u001b[0;34m{\u001b[0m\u001b[0;34m'name'\u001b[0m\u001b[0;34m:\u001b[0m \u001b[0mkey_name\u001b[0m\u001b[0;34m}\u001b[0m\u001b[0;34m)\u001b[0m\u001b[0;34m.\u001b[0m\u001b[0mfirst\u001b[0m\u001b[0;34m(\u001b[0m\u001b[0;34m)\u001b[0m\u001b[0;34m\u001b[0m\u001b[0m\n",
      "\u001b[0;32m/Users/bradenhancock/snorkel/snorkel/features.pyc\u001b[0m in \u001b[0;36mget_span_feats\u001b[0;34m(candidate)\u001b[0m\n\u001b[1;32m     56\u001b[0m             \u001b[0;31m# NOTE: TableLib for relations calls DDLIB on entities internally\u001b[0m\u001b[0;34m\u001b[0m\u001b[0;34m\u001b[0m\u001b[0m\n\u001b[1;32m     57\u001b[0m             \u001b[0;32mif\u001b[0m \u001b[0misinstance\u001b[0m\u001b[0;34m(\u001b[0m\u001b[0mspan1\u001b[0m\u001b[0;34m.\u001b[0m\u001b[0mparent\u001b[0m\u001b[0;34m,\u001b[0m \u001b[0mPhrase\u001b[0m\u001b[0;34m)\u001b[0m \u001b[0;32mor\u001b[0m \u001b[0misinstance\u001b[0m\u001b[0;34m(\u001b[0m\u001b[0mspan2\u001b[0m\u001b[0;34m.\u001b[0m\u001b[0mparent\u001b[0m\u001b[0;34m,\u001b[0m \u001b[0mPhrase\u001b[0m\u001b[0;34m)\u001b[0m\u001b[0;34m:\u001b[0m\u001b[0;34m\u001b[0m\u001b[0m\n\u001b[0;32m---> 58\u001b[0;31m                 \u001b[0;32mfor\u001b[0m \u001b[0mf\u001b[0m \u001b[0;32min\u001b[0m \u001b[0mget_tablelib_feats\u001b[0m\u001b[0;34m(\u001b[0m\u001b[0mspan1\u001b[0m\u001b[0;34m,\u001b[0m \u001b[0mspan2\u001b[0m\u001b[0;34m,\u001b[0m \u001b[0ms1_idxs\u001b[0m\u001b[0;34m,\u001b[0m \u001b[0ms2_idxs\u001b[0m\u001b[0;34m)\u001b[0m\u001b[0;34m:\u001b[0m\u001b[0;34m\u001b[0m\u001b[0m\n\u001b[0m\u001b[1;32m     59\u001b[0m                     \u001b[0;32myield\u001b[0m \u001b[0;34m'TAB_'\u001b[0m \u001b[0;34m+\u001b[0m \u001b[0mf\u001b[0m\u001b[0;34m,\u001b[0m \u001b[0;36m1\u001b[0m\u001b[0;34m\u001b[0m\u001b[0m\n\u001b[1;32m     60\u001b[0m                 \u001b[0;32mfor\u001b[0m \u001b[0mf\u001b[0m \u001b[0;32min\u001b[0m \u001b[0mvisual_binary_features\u001b[0m\u001b[0;34m(\u001b[0m\u001b[0mspan1\u001b[0m\u001b[0;34m,\u001b[0m \u001b[0mspan2\u001b[0m\u001b[0;34m,\u001b[0m \u001b[0ms1_idxs\u001b[0m\u001b[0;34m,\u001b[0m \u001b[0ms2_idxs\u001b[0m\u001b[0;34m)\u001b[0m\u001b[0;34m:\u001b[0m\u001b[0;34m\u001b[0m\u001b[0m\n",
      "\u001b[0;32m/Users/bradenhancock/snorkel/snorkel/entity_features.pyc\u001b[0m in \u001b[0;36mtablelib_binary_features\u001b[0;34m(span1, span2, s1_idxs, s2_idxs)\u001b[0m\n\u001b[1;32m    184\u001b[0m     \u001b[0;31m# for feat in get_ddlib_feats(get_as_dict(span1.parent), s1_idxs):\u001b[0m\u001b[0;34m\u001b[0m\u001b[0;34m\u001b[0m\u001b[0m\n\u001b[1;32m    185\u001b[0m     \u001b[0;31m#     yield \"DDL_e1_\" + feat\u001b[0m\u001b[0;34m\u001b[0m\u001b[0;34m\u001b[0m\u001b[0m\n\u001b[0;32m--> 186\u001b[0;31m     \u001b[0;32mfor\u001b[0m \u001b[0mfeat\u001b[0m \u001b[0;32min\u001b[0m \u001b[0mtablelib_unary_features\u001b[0m\u001b[0;34m(\u001b[0m\u001b[0mspan1\u001b[0m\u001b[0;34m)\u001b[0m\u001b[0;34m:\u001b[0m\u001b[0;34m\u001b[0m\u001b[0m\n\u001b[0m\u001b[1;32m    187\u001b[0m         \u001b[0;32myield\u001b[0m \u001b[0;34m\"e1_\"\u001b[0m \u001b[0;34m+\u001b[0m \u001b[0mfeat\u001b[0m\u001b[0;34m\u001b[0m\u001b[0m\n\u001b[1;32m    188\u001b[0m     \u001b[0;31m# for feat in get_ddlib_feats(get_as_dict(span2.parent), s2_idxs):\u001b[0m\u001b[0;34m\u001b[0m\u001b[0;34m\u001b[0m\u001b[0m\n",
      "\u001b[0;32m/Users/bradenhancock/snorkel/snorkel/entity_features.pyc\u001b[0m in \u001b[0;36mtablelib_unary_features\u001b[0;34m(span)\u001b[0m\n\u001b[1;32m    157\u001b[0m                 \u001b[0;32myield\u001b[0m \u001b[0;34m\"COL_NUM_[%s]\"\u001b[0m \u001b[0;34m%\u001b[0m \u001b[0mcol_num\u001b[0m\u001b[0;34m\u001b[0m\u001b[0m\n\u001b[1;32m    158\u001b[0m             \u001b[0;31m# NOTE: These two features should be accounted for by HTML_ATTR_\u001b[0m\u001b[0;34m\u001b[0m\u001b[0;34m\u001b[0m\u001b[0m\n\u001b[0;32m--> 159\u001b[0;31m             \u001b[0;32myield\u001b[0m \u001b[0;34m\"ROW_SPAN_[%d]\"\u001b[0m \u001b[0;34m%\u001b[0m \u001b[0mnum_rows\u001b[0m\u001b[0;34m(\u001b[0m\u001b[0mphrase\u001b[0m\u001b[0;34m)\u001b[0m\u001b[0;34m\u001b[0m\u001b[0m\n\u001b[0m\u001b[1;32m    160\u001b[0m             \u001b[0;32myield\u001b[0m \u001b[0;34m\"COL_SPAN_[%d]\"\u001b[0m \u001b[0;34m%\u001b[0m \u001b[0mnum_cols\u001b[0m\u001b[0;34m(\u001b[0m\u001b[0mphrase\u001b[0m\u001b[0;34m)\u001b[0m\u001b[0;34m\u001b[0m\u001b[0m\n\u001b[1;32m    161\u001b[0m             \u001b[0;32mfor\u001b[0m \u001b[0maxis\u001b[0m \u001b[0;32min\u001b[0m \u001b[0;34m[\u001b[0m\u001b[0;34m'row'\u001b[0m\u001b[0;34m,\u001b[0m \u001b[0;34m'col'\u001b[0m\u001b[0;34m]\u001b[0m\u001b[0;34m:\u001b[0m\u001b[0;34m\u001b[0m\u001b[0m\n",
      "\u001b[0;31mNameError\u001b[0m: global name 'num_rows' is not defined"
     ]
    }
   ],
   "source": [
    "from snorkel.annotations import FeatureManager\n",
    "\n",
    "feature_manager = FeatureManager()\n",
    "%time F_train = feature_manager.create(session, train, 'Sandbox Features')\n",
    "F_train\n",
    "\n",
    "# from snorkel.features import get_span_feats\n",
    "# c = candidates[10]\n",
    "# %prun for feat in get_span_feats(c): print feat"
   ]
  },
  {
   "cell_type": "code",
   "execution_count": null,
   "metadata": {
    "collapsed": false,
    "scrolled": true
   },
   "outputs": [],
   "source": [
    "from snorkel.utils import get_keys_by_candidate\n",
    "\n",
    "c = candidates[0]\n",
    "print c\n",
    "print\n",
    "for f in get_keys_by_candidate(c, F_train)[:10]: print f"
   ]
  },
  {
   "cell_type": "code",
   "execution_count": null,
   "metadata": {
    "collapsed": false
   },
   "outputs": [],
   "source": [
    "# c = candidates[0]\n",
    "# print c\n",
    "# print c.year\n",
    "# print c.year.parent\n",
    "# print c.year.char_start\n",
    "# print c.year.char_end\n",
    "# print c.year.parent.words\n",
    "# print c.year.parent.char_offsets\n",
    "# print c.year.parent.lemmas\n",
    "# print c.year.parent.pos_tags\n",
    "# print c.year.parent.ner_tags\n",
    "# print c.year.parent.dep_parents\n",
    "# print c.year.parent.dep_labels\n",
    "# print c.year.get_word_start()\n",
    "# print c.year.get_word_end()\n",
    "# # print get_row_ngrams(c.year)\n",
    "# # print get_row_ngrams(c.year, infer=True)\n",
    "# %time for i in range(1000): _get_aligned_cells((c.year).parent.cell, 'col', infer=True)"
   ]
  },
  {
   "cell_type": "code",
   "execution_count": null,
   "metadata": {
    "collapsed": false
   },
   "outputs": [],
   "source": [
    "# from snorkel.models import Span, ImplicitSpan, TemporarySpan\n",
    "\n",
    "# print isinstance(c.year, TemporarySpan)"
   ]
  },
  {
   "cell_type": "code",
   "execution_count": null,
   "metadata": {
    "collapsed": true
   },
   "outputs": [],
   "source": [
    "# from snorkel.lf_helpers import get_between_ngrams, get_left_ngrams, get_right_ngrams\n",
    "# from snorkel.lf_helpers import contains_token, contains_regex\n",
    "# from snorkel.lf_helpers import get_phrase_ngrams, get_cell_ngrams, get_neighbor_cell_ngrams\n",
    "# from snorkel.lf_helpers import get_row_ngrams, get_col_ngrams, get_aligned_ngrams\n",
    "# from snorkel.lf_helpers import same_document, same_table, same_cell, same_phrase\n",
    "# from snorkel.lf_helpers import _get_aligned_cells, _get_nonempty_cell"
   ]
  },
  {
   "cell_type": "code",
   "execution_count": null,
   "metadata": {
    "collapsed": false
   },
   "outputs": [],
   "source": [
    "from snorkel.lf_helpers import *\n",
    "c = candidates[2]\n",
    "print list(get_head_ngrams(c.disease, axis='col'))\n",
    "# print get_left_ngrams(c.disease)\n",
    "# print get_right_ngrams(c.disease)\n",
    "# print contains_token(c, 'plague')\n",
    "# print contains_regex(c, r'pla')\n",
    "# print same_document(c)\n",
    "# print same_table(c)\n",
    "# print same_cell(c)\n",
    "# print same_phrase(c)\n",
    "# print get_phrase_ngrams(c.disease, n_min=1, n_max=3, case_sensitive=True)\n",
    "# print get_cell_ngrams(c.disease, attrib='pos_tags')\n",
    "# print get_neighbor_cell_ngrams(c.disease, dist=2, directions=True)\n",
    "# print get_row_ngrams(c.disease)\n",
    "# print get_col_ngrams(c.disease)\n",
    "# print get_aligned_ngrams(c.disease)\n",
    "# print get_aligned_ngrams(c.disease, infer=True)"
   ]
  },
  {
   "cell_type": "code",
   "execution_count": null,
   "metadata": {
    "collapsed": false
   },
   "outputs": [],
   "source": [
    "# from hardware_utils import expand_implicit_text \n",
    "\n",
    "# for part in expand_implicit_text(''.join(['BC856/857/858', '/', '859/860'])): print part"
   ]
  },
  {
   "cell_type": "code",
   "execution_count": null,
   "metadata": {
    "collapsed": false
   },
   "outputs": [],
   "source": [
    "# def foo(n):\n",
    "#     phrase = 'repeat me'\n",
    "#     pmul = phrase * n\n",
    "#     pjoi = ''.join([phrase for x in xrange(n)])\n",
    "#     pinc = ''\n",
    "#     for x in xrange(n):\n",
    "#         pinc += phrase\n",
    "#     del pmul, pjoi, pinc"
   ]
  },
  {
   "cell_type": "code",
   "execution_count": null,
   "metadata": {
    "collapsed": false
   },
   "outputs": [],
   "source": [
    "# %lprun -f foo foo(1000)"
   ]
  },
  {
   "cell_type": "code",
   "execution_count": null,
   "metadata": {
    "collapsed": false
   },
   "outputs": [],
   "source": [
    "# from hardware_utils import get_gold_dict\n",
    "\n",
    "# filename = os.environ['SNORKELHOME'] + '/tutorials/tables/data/hardware/hardware_gold.csv'\n",
    "# gold_dict = get_gold_dict(filename, 'stg_temp_min')"
   ]
  },
  {
   "cell_type": "code",
   "execution_count": null,
   "metadata": {
    "collapsed": false
   },
   "outputs": [],
   "source": [
    "# print len(gold_dict.values())\n",
    "# print gold_dict.values().count(1)"
   ]
  },
  {
   "cell_type": "code",
   "execution_count": null,
   "metadata": {
    "collapsed": false
   },
   "outputs": [],
   "source": [
    "# from hardware_utils import count_hardware_labels\n",
    "\n",
    "# filename = os.environ['SNORKELHOME'] + '/tutorials/tables/data/hardware/hardware_gold.csv'\n",
    "# %time (certain, maybe) = count_hardware_labels(loader, candidates, filename, attrib='stg_temp_min', attrib_class='temp')"
   ]
  },
  {
   "cell_type": "code",
   "execution_count": null,
   "metadata": {
    "collapsed": false
   },
   "outputs": [],
   "source": [
    "# %time \n",
    "# for i in range(10000): \n",
    "#     for j in range(100):\n",
    "#         1 + 1"
   ]
  },
  {
   "cell_type": "code",
   "execution_count": null,
   "metadata": {
    "collapsed": true
   },
   "outputs": [],
   "source": [
    "# from snorkel.utils import ProgressBar;"
   ]
  },
  {
   "cell_type": "code",
   "execution_count": null,
   "metadata": {
    "collapsed": false
   },
   "outputs": [],
   "source": [
    "# %%time\n",
    "# n = 100000\n",
    "# pb = ProgressBar(n)\n",
    "# for i in xrange(n):\n",
    "#     pb.bar(i)\n",
    "# pb.close()"
   ]
  },
  {
   "cell_type": "code",
   "execution_count": null,
   "metadata": {
    "collapsed": false
   },
   "outputs": [],
   "source": [
    "# N = 235\n",
    "# N = 10\n",
    "# ticks = set([int(i * N/100.0) for i in range(1,101)])\n",
    "# print ticks"
   ]
  },
  {
   "cell_type": "code",
   "execution_count": null,
   "metadata": {
    "collapsed": true
   },
   "outputs": [],
   "source": []
  }
 ],
 "metadata": {
  "anaconda-cloud": {},
  "kernelspec": {
   "display_name": "Python [default]",
   "language": "python",
   "name": "python2"
  },
  "language_info": {
   "codemirror_mode": {
    "name": "ipython",
    "version": 2
   },
   "file_extension": ".py",
   "mimetype": "text/x-python",
   "name": "python",
   "nbconvert_exporter": "python",
   "pygments_lexer": "ipython2",
   "version": "2.7.10"
  }
 },
 "nbformat": 4,
 "nbformat_minor": 0
}
