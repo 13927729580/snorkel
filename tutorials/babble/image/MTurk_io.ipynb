{
 "cells": [
  {
   "cell_type": "markdown",
   "metadata": {
    "deletable": true,
    "editable": true
   },
   "source": [
    "## MTurk I/O for Image Dataset\n",
    "\n",
    "The query of interest is: **The outlined boxes depict a person riding a bike** \n",
    "\n",
    "Want to generate the input .csv file for MTurk and parse the output csv file for results. Using MTurkHelper from babble with adjustments for candidate type."
   ]
  },
  {
   "cell_type": "code",
   "execution_count": 1,
   "metadata": {
    "collapsed": false,
    "deletable": true,
    "editable": true
   },
   "outputs": [],
   "source": [
    "import numpy as np\n",
    "import matplotlib.pyplot as plt\n",
    "from matplotlib.patches import Rectangle\n",
    "%matplotlib inline\n",
    "\n",
    "import os\n",
    "import sys\n",
    "sys.path.append('/dfs/scratch0/paroma/coco')\n",
    "sys.path.append('/dfs/scratch0/paroma/coco/PythonAPI/')\n",
    "\n",
    "from pycocotools.coco import COCO\n",
    "import skimage.io as io\n",
    "import pylab\n",
    "import cv2\n",
    "\n",
    "import pandas as pd"
   ]
  },
  {
   "cell_type": "markdown",
   "metadata": {
    "deletable": true,
    "editable": true
   },
   "source": [
    "## Generate Input CSV\n",
    "Load the necessary data for this task and write out variables in the form:\n",
    "\n",
    "`<img class=\"img-responsive center-block\" src=\"http://paroma.github.io/turk_images/train_IDX_PIDX_BIDX.png\" />`"
   ]
  },
  {
   "cell_type": "code",
   "execution_count": 2,
   "metadata": {
    "collapsed": false,
    "deletable": true,
    "editable": true
   },
   "outputs": [],
   "source": [
    "vg_folder = '/dfs/scratch0/paroma/visual_genome/'\n",
    "train_mscoco = np.load(vg_folder+'train_mscoco.npy')\n",
    "val_mscoco = np.load(vg_folder+'val_mscoco.npy')\n",
    "\n",
    "train_ground = np.load(vg_folder+'train_ground.npy')\n",
    "val_ground = np.load(vg_folder+'val_ground.npy')"
   ]
  },
  {
   "cell_type": "code",
   "execution_count": 3,
   "metadata": {
    "collapsed": false,
    "deletable": true,
    "editable": true
   },
   "outputs": [
    {
     "name": "stdout",
     "output_type": "stream",
     "text": [
      "Train Set Size:  903  Positive:  270\n",
      "Val Set Size:  429  Positive:  86\n"
     ]
    }
   ],
   "source": [
    "#sizes of train-val-test\n",
    "print \"Train Set Size: \", np.shape(train_mscoco)[0], \" Positive: \", np.shape(np.where(train_ground == 1))[1] \n",
    "print \"Val Set Size: \", np.shape(val_mscoco)[0], \" Positive: \", np.shape(np.where(val_ground == 1))[1] "
   ]
  },
  {
   "cell_type": "code",
   "execution_count": 4,
   "metadata": {
    "collapsed": true,
    "deletable": true,
    "editable": true
   },
   "outputs": [],
   "source": [
    "def generate_anns(filename, coco_ids):\n",
    "    coco=COCO(filename)\n",
    "    catIds = coco.getCatIds(catNms=['person','bicycle']);\n",
    "    set_anns = []\n",
    "\n",
    "    for set_id in coco_ids:\n",
    "        annIds = coco.getAnnIds(imgIds=set_id, catIds=catIds, iscrowd=None)\n",
    "        anns = coco.loadAnns(annIds)\n",
    "\n",
    "        temp_list = []\n",
    "        for i in xrange(len(anns)):\n",
    "            temp_dict = {'category_id':anns[i]['category_id'], 'bbox':anns[i]['bbox']}\n",
    "            temp_list.append(temp_dict)\n",
    "        set_anns.append(temp_list)\n",
    "        \n",
    "    return set_anns"
   ]
  },
  {
   "cell_type": "code",
   "execution_count": 5,
   "metadata": {
    "collapsed": false,
    "deletable": true,
    "editable": true
   },
   "outputs": [
    {
     "name": "stdout",
     "output_type": "stream",
     "text": [
      "loading annotations into memory...\n",
      "Done (t=20.50s)\n",
      "creating index...\n",
      "index created!\n",
      "loading annotations into memory...\n",
      "Done (t=10.44s)\n",
      "creating index...\n",
      "index created!\n"
     ]
    }
   ],
   "source": [
    "from pycocotools.coco import COCO\n",
    "coco_path = '/dfs/scratch0/paroma/coco/annotations/'\n",
    "\n",
    "train_anns = generate_anns(coco_path+'instances_train2014.json', train_mscoco)\n",
    "#val_anns = generate_anns(coco_path+'instances_val2014.json', val_mscoco)"
   ]
  },
  {
   "cell_type": "markdown",
   "metadata": {
    "collapsed": true,
    "deletable": true,
    "editable": true
   },
   "source": [
    "## MTurk Helper for Input CSV"
   ]
  },
  {
   "cell_type": "code",
   "execution_count": 18,
   "metadata": {
    "collapsed": false,
    "deletable": true,
    "editable": true
   },
   "outputs": [
    {
     "name": "stdout",
     "output_type": "stream",
     "text": [
      "The autoreload extension is already loaded. To reload it, use:\n",
      "  %reload_ext autoreload\n"
     ]
    }
   ],
   "source": [
    "sys.path.append('/afs/cs.stanford.edu/u/paroma/snorkel_new/babble_snorkel/tutorials/babble/data/')\n",
    "from mturk_processing import MTurkHelper\n",
    "%load_ext autoreload\n",
    "%autoreload 2"
   ]
  },
  {
   "cell_type": "markdown",
   "metadata": {
    "deletable": true,
    "editable": true
   },
   "source": [
    "We want to make \"fake\" candidates for the visual tesk since it doesn't fit into the actual sense of the word \"candidate\". They will just be a list of image names that are saved (how convenient!)"
   ]
  },
  {
   "cell_type": "code",
   "execution_count": 19,
   "metadata": {
    "collapsed": false,
    "deletable": true,
    "editable": true
   },
   "outputs": [],
   "source": [
    "filelist= [file for file in os.listdir('/dfs/scratch0/paroma/visual_genome/') if file.endswith('.png')]"
   ]
  },
  {
   "cell_type": "code",
   "execution_count": 20,
   "metadata": {
    "collapsed": false,
    "deletable": true,
    "editable": true
   },
   "outputs": [],
   "source": [
    "helper = MTurkHelper(candidates=filelist, labels=[], num_hits=25)"
   ]
  },
  {
   "cell_type": "code",
   "execution_count": 21,
   "metadata": {
    "collapsed": false,
    "deletable": true,
    "editable": true
   },
   "outputs": [
    {
     "name": "stdout",
     "output_type": "stream",
     "text": [
      "Wrote 25 HITs with 4 candidates per HIT\n"
     ]
    }
   ],
   "source": [
    "input_csv_path = './mturk_visual_in.csv'\n",
    "helper.preprocess_visual(input_csv_path)"
   ]
  },
  {
   "cell_type": "markdown",
   "metadata": {
    "collapsed": true,
    "deletable": true,
    "editable": true
   },
   "source": [
    "## MTurk Helper for Output CSV"
   ]
  },
  {
   "cell_type": "code",
   "execution_count": 22,
   "metadata": {
    "collapsed": false
   },
   "outputs": [],
   "source": [
    "output_csv_path = './mturk_visual_out.csv'"
   ]
  },
  {
   "cell_type": "code",
   "execution_count": 51,
   "metadata": {
    "collapsed": false
   },
   "outputs": [
    {
     "name": "stdout",
     "output_type": "stream",
     "text": [
      "Num HITs unique: 11\n",
      "Num HITs total: 13\n"
     ]
    },
    {
     "data": {
      "image/png": "[encoded data removed]",
      "text/plain": [
       "<matplotlib.figure.Figure at 0x7f09c693ba90>"
      ]
     },
     "metadata": {},
     "output_type": "display_data"
    },
    {
     "name": "stdout",
     "output_type": "stream",
     "text": [
      "Median # seconds/HIT: 1508 (377.0 s/explanation)\n"
     ]
    },
    {
     "data": {
      "image/png": "[encoded data removed]",
      "text/plain": [
       "<matplotlib.figure.Figure at 0x7f09c693a890>"
      ]
     },
     "metadata": {},
     "output_type": "display_data"
    },
    {
     "name": "stdout",
     "output_type": "stream",
     "text": [
      "Unanimous: 0\n",
      "Majority: 0\n",
      "Split: 0\n",
      "Bad: 6\n"
     ]
    }
   ],
   "source": [
    "from mturk_processing import MTurkHelper\n",
    "helper = MTurkHelper(candidates=[], labels=[], num_hits=25, domain='vg')\n",
    "explanations = helper.postprocess_visual(output_csv_path, candidates=[], verbose=True)"
   ]
  },
  {
   "cell_type": "code",
   "execution_count": null,
   "metadata": {
    "collapsed": true
   },
   "outputs": [],
   "source": []
  }
 ],
 "metadata": {
  "kernelspec": {
   "display_name": "Python 2",
   "language": "python",
   "name": "python2"
  },
  "language_info": {
   "codemirror_mode": {
    "name": "ipython",
    "version": 2
   },
   "file_extension": ".py",
   "mimetype": "text/x-python",
   "name": "python",
   "nbconvert_exporter": "python",
   "pygments_lexer": "ipython2",
   "version": "2.7.6"
  }
 },
 "nbformat": 4,
 "nbformat_minor": 2
}
