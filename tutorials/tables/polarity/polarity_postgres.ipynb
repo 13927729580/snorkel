{
 "cells": [
  {
   "cell_type": "markdown",
   "metadata": {},
   "source": [
    "# polarity"
   ]
  },
  {
   "cell_type": "markdown",
   "metadata": {},
   "source": [
    "## Setup"
   ]
  },
  {
   "cell_type": "code",
   "execution_count": 1,
   "metadata": {
    "collapsed": false
   },
   "outputs": [],
   "source": [
    "%load_ext autoreload\n",
    "%autoreload 2\n",
    "%matplotlib inline\n",
    "\n",
    "import os\n",
    "import sys\n",
    "sys.path.append(os.environ['SNORKELHOME'] + '/tutorials/tables/')"
   ]
  },
  {
   "cell_type": "markdown",
   "metadata": {},
   "source": [
    "## Clearing db"
   ]
  },
  {
   "cell_type": "code",
   "execution_count": 2,
   "metadata": {
    "collapsed": false
   },
   "outputs": [],
   "source": [
    "from snorkel.models.meta import clear_database\n",
    "clear_database()"
   ]
  },
  {
   "cell_type": "markdown",
   "metadata": {},
   "source": [
    "## Parsing"
   ]
  },
  {
   "cell_type": "code",
   "execution_count": 3,
   "metadata": {
    "collapsed": true
   },
   "outputs": [],
   "source": [
    "from snorkel import SnorkelSession\n",
    "session = SnorkelSession()"
   ]
  },
  {
   "cell_type": "markdown",
   "metadata": {},
   "source": [
    "### Define Parser"
   ]
  },
  {
   "cell_type": "code",
   "execution_count": 4,
   "metadata": {
    "collapsed": true
   },
   "outputs": [],
   "source": [
    "import os\n",
    "from snorkel.parser import CorpusParser, HTMLParser, OmniParser\n",
    "from snorkel.utils import get_ORM_instance\n",
    "from snorkel.queries import split_corpus\n",
    "\n",
    "docs_path = os.environ['SNORKELHOME'] + '/tutorials/tables/data/hardware/hardware100_html/'\n",
    "pdf_path = os.environ['SNORKELHOME'] + '/tutorials/tables/data/hardware/hardware100_pdf/'\n",
    "doc_parser = HTMLParser(path=docs_path)\n",
    "context_parser = OmniParser(pdf_path=pdf_path, visual=True, session=session)\n",
    "cp = CorpusParser(doc_parser, context_parser, max_docs=100) "
   ]
  },
  {
   "cell_type": "markdown",
   "metadata": {},
   "source": [
    "### Run Parser"
   ]
  },
  {
   "cell_type": "code",
   "execution_count": 5,
   "metadata": {
    "collapsed": false,
    "scrolled": true
   },
   "outputs": [
    {
     "name": "stdout",
     "output_type": "stream",
     "text": [
      "[========================================] 100%\n",
      "CPU times: user 50.2 s, sys: 3.35 s, total: 53.5 s\n",
      "Wall time: 1min 26s\n"
     ]
    }
   ],
   "source": [
    "%time corpus = cp.parse_corpus(name='Hardware', session=session)\n",
    "\n",
    "session.add(corpus)\n",
    "session.commit()"
   ]
  },
  {
   "cell_type": "markdown",
   "metadata": {},
   "source": [
    "### Split Corpus"
   ]
  },
  {
   "cell_type": "code",
   "execution_count": 6,
   "metadata": {
    "collapsed": false
   },
   "outputs": [
    {
     "name": "stdout",
     "output_type": "stream",
     "text": [
      "58 Documents added to corpus Hardware Training\n",
      "39 Documents added to corpus Hardware Development\n"
     ]
    }
   ],
   "source": [
    "from snorkel.models import Corpus\n",
    "\n",
    "corpus = get_ORM_instance(Corpus, session, 'Hardware')\n",
    "split_corpus(session, corpus, train=0.6, development=0.4, test=0, seed=3)"
   ]
  },
  {
   "cell_type": "markdown",
   "metadata": {},
   "source": [
    "## Extraction"
   ]
  },
  {
   "cell_type": "code",
   "execution_count": 7,
   "metadata": {
    "collapsed": false
   },
   "outputs": [],
   "source": [
    "from snorkel.models import candidate_subclass\n",
    "\n",
    "Part_Polarity = candidate_subclass('Part_Polarity', ['part','polarity'])"
   ]
  },
  {
   "cell_type": "markdown",
   "metadata": {},
   "source": [
    "### Define Matchers"
   ]
  },
  {
   "cell_type": "code",
   "execution_count": 8,
   "metadata": {
    "collapsed": true
   },
   "outputs": [],
   "source": [
    "from snorkel.matchers import RegexMatchSpan, Union\n",
    "\n",
    "eeca_matcher = RegexMatchSpan(rgx='([b]{1}[abcdefklnpqruyz]{1}[\\swxyz]?[0-9]{3,5}[\\s]?[A-Z\\/]{0,5}[0-9]?[A-Z]?([-][A-Z0-9]{1,7})?([-][A-Z0-9]{1,2})?)')\n",
    "jedec_matcher = RegexMatchSpan(rgx='([123]N\\d{3,4}[A-Z]{0,5}[0-9]?[A-Z]?)')\n",
    "jis_matcher = RegexMatchSpan(rgx='(2S[abcdefghjkmqrstvz]{1}[\\d]{2,4})')\n",
    "others_matcher = RegexMatchSpan(rgx='((NSVBC|SMBT|MJ|MJE|MPS|MRF|RCA|TIP|ZTX|ZT|TIS|TIPL|DTC|MMBT|PZT){1}[\\d]{2,4}[A-Z]{0,3}([-][A-Z0-9]{0,6})?([-][A-Z0-9]{0,1})?)')\n",
    "parts_matcher = Union(eeca_matcher, jedec_matcher, jis_matcher, others_matcher)\n",
    "\n",
    "polarity_matcher = RegexMatchSpan(rgx=r'(pnp|npn)', ignore_case=True)"
   ]
  },
  {
   "cell_type": "markdown",
   "metadata": {},
   "source": [
    "### Define ContextSpaces"
   ]
  },
  {
   "cell_type": "code",
   "execution_count": 9,
   "metadata": {
    "collapsed": false
   },
   "outputs": [],
   "source": [
    "from snorkel.candidates import OmniNgrams\n",
    "from hardware_utils import OmniNgramsPart, get_gold_dict\n",
    "from collections import defaultdict\n",
    "import os\n",
    "\n",
    "# Make parts list\n",
    "gold_file = os.environ['SNORKELHOME'] + '/tutorials/tables/data/hardware/hardware_gold.csv'\n",
    "gold_parts = get_gold_dict(gold_file, doc_on=True, part_on=True, val_on=False)\n",
    "parts_by_doc = defaultdict(set)\n",
    "for part in gold_parts:\n",
    "    parts_by_doc[part[0]].add(part[1])\n",
    "\n",
    "part_ngrams = OmniNgramsPart(n_max=3, parts_by_doc=None) # NOTE: linking is turned off\n",
    "polarity_ngrams = OmniNgrams(n_max=1)"
   ]
  },
  {
   "cell_type": "markdown",
   "metadata": {},
   "source": [
    "### Run CandidateExtractor"
   ]
  },
  {
   "cell_type": "code",
   "execution_count": 10,
   "metadata": {
    "collapsed": false
   },
   "outputs": [
    {
     "name": "stdout",
     "output_type": "stream",
     "text": [
      "Extracting Candidates from Corpus (Hardware Training)\n",
      "[========================================] 100%\n",
      "CPU times: user 8.01 s, sys: 356 ms, total: 8.36 s\n",
      "Wall time: 10.2 s\n",
      "Candidate Set (Hardware Training Candidates) contains 3551 Candidates\n",
      "Extracting Candidates from Corpus (Hardware Development)\n",
      "[========================================] 100%\n",
      "CPU times: user 5.51 s, sys: 224 ms, total: 5.74 s\n",
      "Wall time: 6.95 s\n",
      "Candidate Set (Hardware Development Candidates) contains 2539 Candidates\n"
     ]
    }
   ],
   "source": [
    "from snorkel.models import Corpus\n",
    "from snorkel.candidates import CandidateExtractor\n",
    "from snorkel.utils import get_ORM_instance\n",
    "ce = CandidateExtractor(Part_Polarity, \n",
    "                        [part_ngrams, polarity_ngrams], \n",
    "                        [parts_matcher, polarity_matcher], \n",
    "                        throttler=None)\n",
    "\n",
    "for corpus_name in ['Hardware Training', 'Hardware Development']:\n",
    "    corpus = get_ORM_instance(Corpus, session, corpus_name)\n",
    "    print \"Extracting Candidates from %s\" % corpus\n",
    "    %time candidates = ce.extract(\\\n",
    "        corpus.documents, corpus_name + ' Candidates', session)\n",
    "    session.add(candidates)\n",
    "    print \"%s contains %d Candidates\" % (candidates, len(candidates))\n",
    "session.commit()"
   ]
  },
  {
   "cell_type": "markdown",
   "metadata": {},
   "source": [
    "### Assess Recall"
   ]
  },
  {
   "cell_type": "code",
   "execution_count": 11,
   "metadata": {
    "collapsed": false
   },
   "outputs": [
    {
     "name": "stdout",
     "output_type": "stream",
     "text": [
      "Preparing candidates...\n",
      "[========================================] 100%\n",
      "========================================\n",
      "Scoring on Entity-Level Total Recall\n",
      "========================================\n",
      "Entity-level Candidates extracted: 1102 \n",
      "Entity-level Gold: 829\n",
      "Intersection Candidates: 578\n",
      "----------------------------------------\n",
      "Overlap with Gold:  0.6972\n",
      "========================================\n",
      "\n"
     ]
    }
   ],
   "source": [
    "from snorkel.models import Candidate\n",
    "from hardware_utils import entity_level_total_recall\n",
    "\n",
    "all_candidates = session.query(Candidate).all()\n",
    "gold_file = os.environ['SNORKELHOME'] + '/tutorials/tables/data/hardware/hardware_gold.csv'\n",
    "(tp, fp, fn) = entity_level_total_recall(\n",
    "    all_candidates, gold_file, 'polarity', relation=True)"
   ]
  },
  {
   "cell_type": "code",
   "execution_count": 12,
   "metadata": {
    "collapsed": false
   },
   "outputs": [
    {
     "name": "stdout",
     "output_type": "stream",
     "text": [
      "set([('112823', 'BC546BG', 'NPN'),\n",
      "     ('112823', 'BC546BRL1', 'NPN'),\n",
      "     ('112823', 'BC546BRL1G', 'NPN'),\n",
      "     ('112823', 'BC546BZL1G', 'NPN'),\n",
      "     ('112823', 'BC547ARL', 'NPN'),\n",
      "     ('112823', 'BC547ARLG', 'NPN'),\n",
      "     ('112823', 'BC547AZL1G', 'NPN'),\n",
      "     ('112823', 'BC547BG', 'NPN'),\n",
      "     ('112823', 'BC547BRL1G', 'NPN'),\n",
      "     ('112823', 'BC547BZL1G', 'NPN'),\n",
      "     ('112823', 'BC547C', 'NPN'),\n",
      "     ('112823', 'BC547CG', 'NPN'),\n",
      "     ('112823', 'BC547CZL1G', 'NPN'),\n",
      "     ('112823', 'BC548BG', 'NPN'),\n",
      "     ('112823', 'BC548BRL1G', 'NPN'),\n",
      "     ('112823', 'BC548BZL1G', 'NPN'),\n",
      "     ('112823', 'BC548CG', 'NPN'),\n",
      "     ('112823', 'BC548CZL1G', 'NPN'),\n",
      "     ('2N3906-D', '2N3906G', 'PNP'),\n",
      "     ('2N3906-D', '2N3906RL1', 'PNP'),\n",
      "     ('2N3906-D', '2N3906RL1G', 'PNP'),\n",
      "     ('2N3906-D', '2N3906RLRA', 'PNP'),\n",
      "     ('2N3906-D', '2N3906RLRAG', 'PNP'),\n",
      "     ('2N3906-D', '2N3906RLRM', 'PNP'),\n",
      "     ('2N3906-D', '2N3906RLRMG', 'PNP'),\n",
      "     ('2N3906-D', '2N3906RLRP', 'PNP'),\n",
      "     ('2N3906-D', '2N3906RLRPG', 'PNP'),\n",
      "     ('2N6426-D', '2N6426G', 'NPN'),\n",
      "     ('2N6426-D', '2N6426RLRAG', 'NPN'),\n",
      "     ('2N6426-D', '2N6427G', 'NPN'),\n",
      "     ('2N6426-D', '2N6427RLRAG', 'NPN'),\n",
      "     ('BC337', 'BC337-16', 'NPN'),\n",
      "     ('BC337', 'BC337-25', 'NPN'),\n",
      "     ('BC337', 'BC337-40', 'NPN'),\n",
      "     ('BC337', 'BC338-25', 'NPN'),\n",
      "     ('BC337-D', 'BC337-025G', 'NPN'),\n",
      "     ('BC337-D', 'BC337-040G', 'NPN'),\n",
      "     ('BC337-D', 'BC337-25RL1G', 'NPN'),\n",
      "     ('BC337-D', 'BC337-25RLRAG', 'NPN'),\n",
      "     ('BC337-D', 'BC337-25ZL1G', 'NPN'),\n",
      "     ('BC337-D', 'BC337-40RL1G', 'NPN'),\n",
      "     ('BC337-D', 'BC337-40ZL1G', 'NPN'),\n",
      "     ('BC337-D', 'BC337G', 'NPN'),\n",
      "     ('BC337-D', 'BC337RL1G', 'NPN'),\n",
      "     ('BC546-D', 'BC546BG', 'NPN'),\n",
      "     ('BC546-D', 'BC546BRL1', 'NPN'),\n",
      "     ('BC546-D', 'BC546BRL1G', 'NPN'),\n",
      "     ('BC546-D', 'BC546BZL1G', 'NPN'),\n",
      "     ('BC546-D', 'BC547ARL', 'NPN'),\n",
      "     ('BC546-D', 'BC547ARLG', 'NPN'),\n",
      "     ('BC546-D', 'BC547AZL1G', 'NPN'),\n",
      "     ('BC546-D', 'BC547BG', 'NPN'),\n",
      "     ('BC546-D', 'BC547BRL1G', 'NPN'),\n",
      "     ('BC546-D', 'BC547BZL1G', 'NPN'),\n",
      "     ('BC546-D', 'BC547C', 'NPN'),\n",
      "     ('BC546-D', 'BC547CG', 'NPN'),\n",
      "     ('BC546-D', 'BC547CZL1G', 'NPN'),\n",
      "     ('BC546-D', 'BC548BG', 'NPN'),\n",
      "     ('BC546-D', 'BC548BRL1G', 'NPN'),\n",
      "     ('BC546-D', 'BC548BZL1G', 'NPN'),\n",
      "     ('BC546-D', 'BC548CG', 'NPN'),\n",
      "     ('BC546-D', 'BC548CZL1G', 'NPN'),\n",
      "     ('BC546_DIOTEC', 'BC546A', 'NPN'),\n",
      "     ('BC546_DIOTEC', 'BC546B', 'NPN'),\n",
      "     ('BC546_DIOTEC', 'BC547A', 'NPN'),\n",
      "     ('BC546_DIOTEC', 'BC547B', 'NPN'),\n",
      "     ('BC546_DIOTEC', 'BC547C', 'NPN'),\n",
      "     ('BC546_DIOTEC', 'BC548A', 'NPN'),\n",
      "     ('BC546_DIOTEC', 'BC548B', 'NPN'),\n",
      "     ('BC546_DIOTEC', 'BC548C', 'NPN'),\n",
      "     ('BC546_DIOTEC', 'BC549B', 'NPN'),\n",
      "     ('BC546_DIOTEC', 'BC549C', 'NPN'),\n",
      "     ('BC550', 'BC546A', 'NPN'),\n",
      "     ('BC550', 'BC546B', 'NPN'),\n",
      "     ('BC550', 'BC546C', 'NPN'),\n",
      "     ('BC550', 'BC547A', 'NPN'),\n",
      "     ('BC550', 'BC547B', 'NPN'),\n",
      "     ('BC550', 'BC547C', 'NPN'),\n",
      "     ('BC550', 'BC548A', 'NPN'),\n",
      "     ('BC550', 'BC548B', 'NPN'),\n",
      "     ('BC550', 'BC548C', 'NPN'),\n",
      "     ('BC550', 'BC549A', 'NPN'),\n",
      "     ('BC550', 'BC549B', 'NPN'),\n",
      "     ('BC550', 'BC549C', 'NPN'),\n",
      "     ('BC550', 'BC550A', 'NPN'),\n",
      "     ('BC550', 'BC550B', 'NPN'),\n",
      "     ('BC550', 'BC550C', 'NPN'),\n",
      "     ('BC818', 'BC817-16', 'NPN'),\n",
      "     ('BC818', 'BC817-25', 'NPN'),\n",
      "     ('BC818', 'BC817-40', 'NPN'),\n",
      "     ('BC818', 'BC818-16', 'NPN'),\n",
      "     ('BC818', 'BC818-25', 'NPN'),\n",
      "     ('BC818', 'BC818-40', 'NPN'),\n",
      "     ('BC818-40LT1-D', 'BC818-40LT1G', 'NPN'),\n",
      "     ('BC818-40LT1-D', 'NSVBC818-40LT1G', 'NPN'),\n",
      "     ('DISES00189-1', 'BC546A', 'NPN'),\n",
      "     ('DISES00189-1', 'BC546B', 'NPN'),\n",
      "     ('DISES00189-1', 'BC547A', 'NPN'),\n",
      "     ('DISES00189-1', 'BC547B', 'NPN'),\n",
      "     ('DISES00189-1', 'BC547C', 'NPN'),\n",
      "     ('DISES00189-1', 'BC548A', 'NPN'),\n",
      "     ('DISES00189-1', 'BC548B', 'NPN'),\n",
      "     ('DISES00189-1', 'BC548C', 'NPN'),\n",
      "     ('DISES00189-1', 'BC549B', 'NPN'),\n",
      "     ('DISES00189-1', 'BC549C', 'NPN'),\n",
      "     ('FAIRS19194-1', 'BC856A', 'PNP'),\n",
      "     ('FAIRS19194-1', 'BC856B', 'PNP'),\n",
      "     ('FAIRS19194-1', 'BC856C', 'PNP'),\n",
      "     ('FAIRS19194-1', 'BC857A', 'PNP'),\n",
      "     ('FAIRS19194-1', 'BC857B', 'PNP'),\n",
      "     ('FAIRS19194-1', 'BC857C', 'PNP'),\n",
      "     ('FAIRS19194-1', 'BC858A', 'PNP'),\n",
      "     ('FAIRS19194-1', 'BC858B', 'PNP'),\n",
      "     ('FAIRS19194-1', 'BC858C', 'PNP'),\n",
      "     ('FAIRS19194-1', 'BC859A', 'PNP'),\n",
      "     ('FAIRS19194-1', 'BC859B', 'PNP'),\n",
      "     ('FAIRS19194-1', 'BC859C', 'PNP'),\n",
      "     ('FAIRS19194-1', 'BC860A', 'PNP'),\n",
      "     ('FAIRS19194-1', 'BC860B', 'PNP'),\n",
      "     ('FAIRS19194-1', 'BC860C', 'PNP'),\n",
      "     ('FAIRS25065-1', 'BC237A', 'NPN'),\n",
      "     ('FAIRS25065-1', 'BC237B', 'NPN'),\n",
      "     ('FAIRS25065-1', 'BC237C', 'NPN'),\n",
      "     ('FAIRS25065-1', 'BC238A', 'NPN'),\n",
      "     ('FAIRS25065-1', 'BC238B', 'NPN'),\n",
      "     ('FAIRS25065-1', 'BC238C', 'NPN'),\n",
      "     ('FAIRS25065-1', 'BC239A', 'NPN'),\n",
      "     ('FAIRS25065-1', 'BC239B', 'NPN'),\n",
      "     ('FAIRS25065-1', 'BC239C', 'NPN'),\n",
      "     ('INFINEON-BC857SERIES_BC858SERIES_BC859SERIES_BC860SERIES-DS-V01_01-EN',\n",
      "      'BC857',\n",
      "      'PNP'),\n",
      "     ('INFINEON-BC857SERIES_BC858SERIES_BC859SERIES_BC860SERIES-DS-V01_01-EN',\n",
      "      'BC858',\n",
      "      'PNP'),\n",
      "     ('INFINEON-BC857SERIES_BC858SERIES_BC859SERIES_BC860SERIES-DS-V01_01-EN',\n",
      "      'BC859',\n",
      "      'PNP'),\n",
      "     ('INFINEON-BC857SERIES_BC858SERIES_BC859SERIES_BC860SERIES-DS-V01_01-EN',\n",
      "      'BC860',\n",
      "      'PNP'),\n",
      "     ('KECCS05435-1', 'BC546A', 'NPN'),\n",
      "     ('KECCS05435-1', 'BC546B', 'NPN'),\n",
      "     ('KECCS05435-1', 'BC547A', 'NPN'),\n",
      "     ('KECCS05435-1', 'BC547B', 'NPN'),\n",
      "     ('KECCS05435-1', 'BC547C', 'NPN'),\n",
      "     ('KECCS05435-1', 'BC548A', 'NPN'),\n",
      "     ('KECCS05435-1', 'BC548B', 'NPN'),\n",
      "     ('KECCS05435-1', 'BC548C', 'NPN'),\n",
      "     ('LITES00689-1', 'BC337-16', 'NPN'),\n",
      "     ('LITES00689-1', 'BC337-25', 'NPN'),\n",
      "     ('LITES00689-1', 'BC337-40', 'NPN'),\n",
      "     ('LITES00690-1', 'BC546A', 'NPN'),\n",
      "     ('LITES00690-1', 'BC546B', 'NPN'),\n",
      "     ('LITES00690-1', 'BC546C', 'NPN'),\n",
      "     ('LITES00690-1', 'BC547A', 'NPN'),\n",
      "     ('LITES00690-1', 'BC547B', 'NPN'),\n",
      "     ('LITES00690-1', 'BC547C', 'NPN'),\n",
      "     ('LITES00690-1', 'BC548A', 'NPN'),\n",
      "     ('LITES00690-1', 'BC548B', 'NPN'),\n",
      "     ('LITES00690-1', 'BC548C', 'NPN'),\n",
      "     ('LTSCS02910-1', 'BC818-25', 'NPN'),\n",
      "     ('LTSCS02910-1', 'BC818-40', 'NPN'),\n",
      "     ('LTSCS02912-1', 'BC846AW', 'NPN'),\n",
      "     ('LTSCS02912-1', 'BC846BW', 'NPN'),\n",
      "     ('LTSCS02920-1', 'BC857B', 'PNP'),\n",
      "     ('LTSCS02920-1', 'BC857C', 'PNP'),\n",
      "     ('MOTOS03160-1', 'BC182A', 'NPN'),\n",
      "     ('MOTOS03160-1', 'BC182B', 'NPN'),\n",
      "     ('MOTOS03189-1', 'BC337-16', 'NPN'),\n",
      "     ('MOTOS03189-1', 'BC337-25', 'NPN'),\n",
      "     ('MOTOS03189-1', 'BC337-40', 'NPN'),\n",
      "     ('MOTOS03189-1', 'BC338-16', 'NPN'),\n",
      "     ('MOTOS03189-1', 'BC338-25', 'NPN'),\n",
      "     ('MOTOS03189-1', 'BC338-40', 'NPN'),\n",
      "     ('ONSMS04099-1', 'BC237A', 'NPN'),\n",
      "     ('ONSMS04099-1', 'BC237B', 'NPN'),\n",
      "     ('ONSMS04099-1', 'BC237C', 'NPN'),\n",
      "     ('ONSMS04099-1', 'BC239C', 'NPN'),\n",
      "     ('PHGLS20125-1', 'BC327', 'PNP'),\n",
      "     ('PHGLS20125-1', 'BC327-16', 'PNP'),\n",
      "     ('PHGLS20125-1', 'BC327-25', 'PNP'),\n",
      "     ('PHGLS20125-1', 'BC327-40', 'PNP'),\n",
      "     ('PHGLS20125-1', 'BC807', 'PNP'),\n",
      "     ('PHGLS20125-1', 'BC807-16', 'PNP'),\n",
      "     ('PHGLS20125-1', 'BC807-16W', 'PNP'),\n",
      "     ('PHGLS20125-1', 'BC807-25', 'PNP'),\n",
      "     ('PHGLS20125-1', 'BC807-25W', 'PNP'),\n",
      "     ('PHGLS20125-1', 'BC807-40', 'PNP'),\n",
      "     ('PHGLS20125-1', 'BC807-40W', 'PNP'),\n",
      "     ('PHGLS20125-1', 'BC807W', 'PNP'),\n",
      "     ('PHGLS20126-1', 'BC337', 'NPN'),\n",
      "     ('PHGLS20126-1', 'BC337-16', 'NPN'),\n",
      "     ('PHGLS20126-1', 'BC337-25', 'NPN'),\n",
      "     ('PHGLS20126-1', 'BC337-40', 'NPN'),\n",
      "     ('PHGLS20126-1', 'BC817', 'NPN'),\n",
      "     ('PHGLS20126-1', 'BC817-16', 'NPN'),\n",
      "     ('PHGLS20126-1', 'BC817-16W', 'NPN'),\n",
      "     ('PHGLS20126-1', 'BC817-25', 'NPN'),\n",
      "     ('PHGLS20126-1', 'BC817-25W', 'NPN'),\n",
      "     ('PHGLS20126-1', 'BC817-40', 'NPN'),\n",
      "     ('PHGLS20126-1', 'BC817-40W', 'NPN'),\n",
      "     ('PHGLS20126-1', 'BC817W', 'NPN'),\n",
      "     ('PHGLS25601-1', 'BC846A', 'NPN'),\n",
      "     ('PHGLS25601-1', 'BC846AT', 'NPN'),\n",
      "     ('PHGLS25601-1', 'BC846AW', 'NPN'),\n",
      "     ('PHGLS25601-1', 'BC846B', 'NPN'),\n",
      "     ('PHGLS25601-1', 'BC846BT', 'NPN'),\n",
      "     ('PHGLS25601-1', 'BC846BW', 'NPN'),\n",
      "     ('PJECS00521-1', 'MMBT3904', 'NPN'),\n",
      "     ('SAMSD00049-518', 'BC546', 'NPN'),\n",
      "     ('SAMSD00049-518', 'BC546A', 'NPN'),\n",
      "     ('SAMSD00049-518', 'BC546B', 'NPN'),\n",
      "     ('SAMSD00049-518', 'BC546C', 'NPN'),\n",
      "     ('SAMSD00049-518', 'BC547', 'NPN'),\n",
      "     ('SAMSD00049-518', 'BC547A', 'NPN'),\n",
      "     ('SAMSD00049-518', 'BC547B', 'NPN'),\n",
      "     ('SAMSD00049-518', 'BC547C', 'NPN'),\n",
      "     ('SAMSD00049-518', 'BC548', 'NPN'),\n",
      "     ('SAMSD00049-518', 'BC548A', 'NPN'),\n",
      "     ('SAMSD00049-518', 'BC548B', 'NPN'),\n",
      "     ('SAMSD00049-518', 'BC548C', 'NPN'),\n",
      "     ('SAMSD00049-518', 'BC549', 'NPN'),\n",
      "     ('SAMSD00049-518', 'BC549A', 'NPN'),\n",
      "     ('SAMSD00049-518', 'BC549B', 'NPN'),\n",
      "     ('SAMSD00049-518', 'BC549C', 'NPN'),\n",
      "     ('SAMSD00049-518', 'BC550', 'NPN'),\n",
      "     ('SAMSD00049-518', 'BC550A', 'NPN'),\n",
      "     ('SAMSD00049-518', 'BC550B', 'NPN'),\n",
      "     ('SAMSD00049-518', 'BC550C', 'NPN'),\n",
      "     ('UTCLS02155-1', 'BC807', 'PNP'),\n",
      "     ('UTCLS02155-1', 'BC807-16', 'PNP'),\n",
      "     ('UTCLS02155-1', 'BC807-25', 'PNP'),\n",
      "     ('UTCLS02155-1', 'BC807-40', 'PNP'),\n",
      "     ('UTCLS02155-1', 'BC808', 'PNP'),\n",
      "     ('UTCLS02155-1', 'BC808-16', 'PNP'),\n",
      "     ('UTCLS02155-1', 'BC808-25', 'PNP'),\n",
      "     ('UTCLS02155-1', 'BC808-40', 'PNP'),\n",
      "     ('VISHS23888-1', 'BC546A', 'NPN'),\n",
      "     ('VISHS23888-1', 'BC546B', 'NPN'),\n",
      "     ('VISHS23888-1', 'BC547A', 'NPN'),\n",
      "     ('VISHS23888-1', 'BC547B', 'NPN'),\n",
      "     ('VISHS23888-1', 'BC547C', 'NPN'),\n",
      "     ('VISHS23888-1', 'BC548A', 'NPN'),\n",
      "     ('VISHS23888-1', 'BC548B', 'NPN'),\n",
      "     ('VISHS23888-1', 'BC548C', 'NPN'),\n",
      "     ('VISHS23888-1', 'BC549B', 'NPN'),\n",
      "     ('VISHS23888-1', 'BC549C', 'NPN'),\n",
      "     ('VSMIS00373-1', 'BC337-16', 'NPN'),\n",
      "     ('VSMIS00373-1', 'BC337-25', 'NPN'),\n",
      "     ('VSMIS00373-1', 'BC337-40', 'NPN'),\n",
      "     ('VSMIS00373-1', 'BC338-16', 'NPN'),\n",
      "     ('VSMIS00373-1', 'BC338-25', 'NPN'),\n",
      "     ('VSMIS00373-1', 'BC338-40', 'NPN'),\n",
      "     ('WEILS00082-1', 'BC857C', 'PNP'),\n",
      "     ('WEILS00082-1', 'BC858B', 'PNP'),\n",
      "     ('WEILS00082-1', 'BC858C', 'PNP'),\n",
      "     ('WEILS00082-1', 'BC859B', 'PNP'),\n",
      "     ('WEILS00082-1', 'BC859C', 'PNP')])\n",
      "251\n"
     ]
    }
   ],
   "source": [
    "from pprint import pprint\n",
    "pprint(fn)\n",
    "print len(fn)"
   ]
  },
  {
   "cell_type": "markdown",
   "metadata": {},
   "source": [
    "## Gold Labels"
   ]
  },
  {
   "cell_type": "code",
   "execution_count": 13,
   "metadata": {
    "collapsed": false
   },
   "outputs": [
    {
     "name": "stdout",
     "output_type": "stream",
     "text": [
      "Loading 3551 candidate labels\n",
      "[========================================] 100%\n",
      "CPU times: user 8.24 s, sys: 204 ms, total: 8.44 s\n",
      "Wall time: 9.69 s\n",
      "2667/3551 Candidates in Candidate Set (Hardware Training Candidates) have positive Labels\n",
      "Loading 2539 candidate labels\n",
      "[========================================] 100%\n",
      "CPU times: user 5.45 s, sys: 144 ms, total: 5.6 s\n",
      "Wall time: 6.43 s\n",
      "1803/2539 Candidates in Candidate Set (Hardware Development Candidates) have positive Labels\n"
     ]
    }
   ],
   "source": [
    "import os\n",
    "from snorkel.models import CandidateSet\n",
    "from hardware_utils import load_hardware_labels\n",
    "\n",
    "gold_file = os.environ['SNORKELHOME'] + '/tutorials/tables/data/hardware/hardware_gold.csv'\n",
    "for set_name in ['Training', 'Development']:\n",
    "    candidate_set_name = 'Hardware %s Candidates' % set_name\n",
    "    candidates = session.query(CandidateSet).filter(\n",
    "        CandidateSet.name == candidate_set_name).one()\n",
    "    label_set_name = 'Hardware %s Candidates -- Gold' % set_name\n",
    "    annotation_key_name = 'Hardware %s Labels -- Gold' % set_name\n",
    "    %time gold_candidates, annotation_key = load_hardware_labels(session,\\\n",
    "                           label_set_name, \\\n",
    "                           annotation_key_name, \\\n",
    "                           candidates, \\\n",
    "                           gold_file, \\\n",
    "                           'polarity')\n",
    "    candidates_gold = session.query(CandidateSet).filter(\n",
    "        CandidateSet.name == candidate_set_name + ' -- Gold').one()\n",
    "    print \"%d/%d Candidates in %s have positive Labels\" % (\n",
    "        len(candidates_gold), len(candidates), candidates)"
   ]
  },
  {
   "cell_type": "markdown",
   "metadata": {},
   "source": [
    "### Assess Baseline Performance"
   ]
  },
  {
   "cell_type": "code",
   "execution_count": 14,
   "metadata": {
    "collapsed": false
   },
   "outputs": [],
   "source": [
    "# from snorkel.models import Corpus, Candidate\n",
    "# from snorkel.utils import get_ORM_instance\n",
    "# from snorkel.lf_helpers import *\n",
    "# from hardware_utils import entity_level_f1\n",
    "# from itertools import chain\n",
    "\n",
    "# def LF_all_true(c):\n",
    "#     return True\n",
    "\n",
    "# def LF_complement_nearby(c):\n",
    "#     return 1 if set(['complement','complementary']).isdisjoint(\n",
    "#         chain.from_iterable(\n",
    "#             [get_phrase_ngrams(c.part), \n",
    "#              get_phrase_ngrams(c.polarity),\n",
    "#              get_neighbor_phrase_ngrams(c.polarity)])) else 0\n",
    "\n",
    "# candidates = session.query(Candidate).all()\n",
    "# (tp, fp, tn, fn) = baseline(candidates, LF_complement_nearby)\n",
    "\n",
    "# corpus = get_ORM_instance(Corpus, session, 'Hardware')\n",
    "# gold_file = os.environ['SNORKELHOME'] + '/tutorials/tables/data/hardware/hardware_gold.csv'\n",
    "# (TP, FP, FN) = entity_level_f1(tp, fp, tn, fn, gold_file, corpus, 'polarity')"
   ]
  },
  {
   "cell_type": "code",
   "execution_count": 15,
   "metadata": {
    "collapsed": false
   },
   "outputs": [],
   "source": [
    "# from pprint import pprint\n",
    "# pprint(FP)"
   ]
  },
  {
   "cell_type": "code",
   "execution_count": 16,
   "metadata": {
    "collapsed": false
   },
   "outputs": [],
   "source": [
    "# pprint(FN)"
   ]
  },
  {
   "cell_type": "code",
   "execution_count": 17,
   "metadata": {
    "collapsed": false
   },
   "outputs": [],
   "source": [
    "# from hardware_utils import entity_to_candidates\n",
    "\n",
    "# print len(candidates)\n",
    "# matches = entity_to_candidates((u'SIEMS01215-1', u'BC856', u'NPN'), candidates)\n",
    "# c = matches[0]\n",
    "# print c"
   ]
  },
  {
   "cell_type": "code",
   "execution_count": 18,
   "metadata": {
    "collapsed": false
   },
   "outputs": [],
   "source": [
    "# from snorkel.models import ImplicitSpan\n",
    "# from snorkel.lf_helpers import *\n",
    "# phrases = []\n",
    "# print list(get_neighbor_phrase_ngrams(c.polarity))\n",
    "# print c.polarity.parent\n",
    "# print phrases\n",
    "# print \"SPAN_TYPE_[%s]\" % ('IMPLICIT' if isinstance(c.polarity, ImplicitSpan) else 'EXPLICIT')\n",
    "# # list(get_phrase_ngrams(c.polarity))"
   ]
  },
  {
   "cell_type": "markdown",
   "metadata": {},
   "source": [
    "## Features"
   ]
  },
  {
   "cell_type": "markdown",
   "metadata": {},
   "source": [
    "### Extract Features"
   ]
  },
  {
   "cell_type": "code",
   "execution_count": 21,
   "metadata": {
    "collapsed": false
   },
   "outputs": [
    {
     "name": "stdout",
     "output_type": "stream",
     "text": [
      "Using 4 workers\n",
      "CPU times: user 2.63 s, sys: 136 ms, total: 2.76 s\n",
      "Wall time: 31.8 s\n",
      "Using 4 workers\n",
      "CPU times: user 1.66 s, sys: 48 ms, total: 1.7 s\n",
      "Wall time: 21.6 s\n"
     ]
    }
   ],
   "source": [
    "from snorkel.models import CandidateSet\n",
    "from snorkel.async_annotations import annotate\n",
    "from snorkel.utils import get_ORM_instance\n",
    "\n",
    "# Run batch extraction jobs\n",
    "train = get_ORM_instance(CandidateSet, session, 'Hardware Training Candidates')\n",
    "dev   = get_ORM_instance(CandidateSet, session, 'Hardware Development Candidates')\n",
    "\n",
    "%time F_train = annotate(train, parallel=4)\n",
    "%time F_dev = annotate(dev, parallel=4, keyset = 'Hardware Training Candidates')"
   ]
  },
  {
   "cell_type": "code",
   "execution_count": 22,
   "metadata": {
    "collapsed": false
   },
   "outputs": [],
   "source": [
    "# from snorkel.models import CandidateSet\n",
    "# from snorkel.fast_annotations import FeatureManager\n",
    "# from snorkel.utils import get_ORM_instance\n",
    "\n",
    "# train = get_ORM_instance(CandidateSet, session, 'Hardware Training Candidates')\n",
    "# dev   = get_ORM_instance(CandidateSet, session, 'Hardware Development Candidates')\n",
    "\n",
    "# feature_manager = FeatureManager()\n",
    "# %time F_train = feature_manager.create(session, train, 'Train Features')\n",
    "# %time F_dev = feature_manager.update(session, dev, 'Train Features', expand_key_set=False)"
   ]
  },
  {
   "cell_type": "markdown",
   "metadata": {},
   "source": [
    "## LFs"
   ]
  },
  {
   "cell_type": "code",
   "execution_count": 23,
   "metadata": {
    "collapsed": false
   },
   "outputs": [],
   "source": [
    "# If necessary\n",
    "# import os\n",
    "# os.remove('snorkel.db');\n",
    "# os.system('cp snorkel.db\\ featurized snorkel.db');\n",
    "\n",
    "# from snorkel import SnorkelSession\n",
    "# session = SnorkelSession()\n",
    "\n",
    "# import sys\n",
    "# sys.path.append(os.environ['SNORKELHOME'] + '/tutorials/tables/')\n",
    "\n",
    "# from snorkel.models import candidate_subclass\n",
    "# Part_Polarity = candidate_subclass('Part_Polarity', ['part','polarity'])\n",
    "\n",
    "# from snorkel.models import CandidateSet\n",
    "# train = session.query(CandidateSet).filter(\n",
    "#     CandidateSet.name == 'Hardware Training Candidates').one()"
   ]
  },
  {
   "cell_type": "markdown",
   "metadata": {},
   "source": [
    "### Define LFs"
   ]
  },
  {
   "cell_type": "code",
   "execution_count": 24,
   "metadata": {
    "collapsed": false
   },
   "outputs": [],
   "source": [
    "from snorkel.fast_annotations import LabelManager\n",
    "from snorkel.lf_helpers import *\n",
    "import re\n",
    "label_manager = LabelManager()\n",
    "\n",
    "LFs = []\n",
    "\n",
    "def LF_complement_phrase_part(c):\n",
    "    return -1 if overlap(['complement','complementary'], \n",
    "                         get_phrase_ngrams(c.part)) else 0\n",
    "LFs.append(LF_complement_phrase_part)\n",
    "\n",
    "def LF_complement_phrase_polarity(c):\n",
    "    return -1 if overlap(['complement','complementary'], \n",
    "                         get_phrase_ngrams(c.polarity)) else 0\n",
    "LFs.append(LF_complement_phrase_polarity)\n",
    "\n",
    "def LF_complement_neighbor_polarity(c):\n",
    "    return -1 if overlap(['complement','complementary'], \n",
    "                         get_neighbor_phrase_ngrams(c.polarity)) else 0\n",
    "LFs.append(LF_complement_neighbor_polarity)\n",
    "\n",
    "def LF_top_mark_col_part(c):\n",
    "    return -1 if overlap(['top','mark'],\n",
    "                         get_col_ngrams(c.part)) else 0\n",
    "LFs.append(LF_top_mark_col_part)\n",
    "\n",
    "def LF_endswith_D_part(c):\n",
    "    return -1 if c.part.get_span().endswith('D') else 0\n",
    "LFs.append(LF_endswith_D_part)\n",
    "\n",
    "def LF_default_positive(c):\n",
    "    return 1 if not overlap(['complement','complementary'],\n",
    "                            chain.from_iterable([\n",
    "                            get_phrase_ngrams(c.part),\n",
    "                            get_phrase_ngrams(c.polarity),\n",
    "                            get_neighbor_phrase_ngrams(c.polarity)])) else 0\n",
    "LFs.append(LF_default_positive)"
   ]
  },
  {
   "cell_type": "code",
   "execution_count": 25,
   "metadata": {
    "collapsed": false
   },
   "outputs": [
    {
     "name": "stdout",
     "output_type": "stream",
     "text": [
      "6090\n",
      "Part_Polarity(Span(\"2N3906\", parent=14458, chars=[0,5], words=[0,0]), Span(\"PNP\", parent=14458, chars=[38,40], words=[6,6]))\n",
      "0\n",
      "0\n",
      "0\n",
      "0\n",
      "0\n",
      "1\n"
     ]
    }
   ],
   "source": [
    "from snorkel.models import Candidate\n",
    "from hardware_utils import entity_to_candidates\n",
    "\n",
    "candidates = session.query(Candidate).all()\n",
    "print len(candidates)\n",
    "# matches = entity_to_candidates((u'SIEMS01215-1', u'BC856', u'NPN'), candidates)\n",
    "# c = matches[0]\n",
    "c = candidates[0]\n",
    "print candidates[0]\n",
    "\n",
    "print LF_complement_phrase_part(c)\n",
    "print LF_complement_phrase_polarity(c)\n",
    "print LF_complement_neighbor_polarity(c)\n",
    "print LF_top_mark_col_part(c)\n",
    "print LF_endswith_D_part(c)\n",
    "print LF_default_positive(c)"
   ]
  },
  {
   "cell_type": "markdown",
   "metadata": {},
   "source": [
    "### Apply LFs"
   ]
  },
  {
   "cell_type": "code",
   "execution_count": 26,
   "metadata": {
    "collapsed": false
   },
   "outputs": [
    {
     "name": "stdout",
     "output_type": "stream",
     "text": [
      "Using 2 workers\n",
      "CPU times: user 128 ms, sys: 16 ms, total: 144 ms\n",
      "Wall time: 9.65 s\n"
     ]
    },
    {
     "data": {
      "text/plain": [
       "<3551x6 sparse matrix of type '<type 'numpy.float32'>'\n",
       "\twith 3785 stored elements in Compressed Sparse Row format>"
      ]
     },
     "execution_count": 26,
     "metadata": {},
     "output_type": "execute_result"
    }
   ],
   "source": [
    "from snorkel.async_annotations import annotate\n",
    "%time L_train = annotate(train, lfs=LFs)\n",
    "L_train"
   ]
  },
  {
   "cell_type": "markdown",
   "metadata": {},
   "source": [
    "### Assess LF accuracy"
   ]
  },
  {
   "cell_type": "code",
   "execution_count": 27,
   "metadata": {
    "collapsed": false
   },
   "outputs": [
    {
     "name": "stdout",
     "output_type": "stream",
     "text": [
      "[========================================] 100%\n",
      "CPU times: user 80 ms, sys: 12 ms, total: 92 ms\n",
      "Wall time: 92.8 ms\n"
     ]
    },
    {
     "data": {
      "text/html": [
       "<div style=\"max-height:1000px;max-width:1500px;overflow:auto;\">\n",
       "<table border=\"1\" class=\"dataframe\">\n",
       "  <thead>\n",
       "    <tr style=\"text-align: right;\">\n",
       "      <th></th>\n",
       "      <th>accuracy</th>\n",
       "      <th>conflicts</th>\n",
       "      <th>coverage</th>\n",
       "      <th>j</th>\n",
       "      <th>overlaps</th>\n",
       "    </tr>\n",
       "  </thead>\n",
       "  <tbody>\n",
       "    <tr>\n",
       "      <th>LF_complement_phrase_part</th>\n",
       "      <td> 1.000000</td>\n",
       "      <td> 0.003098</td>\n",
       "      <td> 0.003098</td>\n",
       "      <td> 0</td>\n",
       "      <td> 0.003098</td>\n",
       "    </tr>\n",
       "    <tr>\n",
       "      <th>LF_complement_phrase_polarity</th>\n",
       "      <td> 0.218539</td>\n",
       "      <td> 0.000000</td>\n",
       "      <td> 0.501267</td>\n",
       "      <td> 1</td>\n",
       "      <td> 0.054351</td>\n",
       "    </tr>\n",
       "    <tr>\n",
       "      <th>LF_complement_neighbor_polarity</th>\n",
       "      <td> 1.000000</td>\n",
       "      <td> 0.000000</td>\n",
       "      <td> 0.067023</td>\n",
       "      <td> 2</td>\n",
       "      <td> 0.008448</td>\n",
       "    </tr>\n",
       "    <tr>\n",
       "      <th>LF_top_mark_col_part</th>\n",
       "      <td> 1.000000</td>\n",
       "      <td> 0.000000</td>\n",
       "      <td> 0.064770</td>\n",
       "      <td> 3</td>\n",
       "      <td> 0.062799</td>\n",
       "    </tr>\n",
       "    <tr>\n",
       "      <th>LF_endswith_D_part</th>\n",
       "      <td> 0.836173</td>\n",
       "      <td> 0.003098</td>\n",
       "      <td> 0.429738</td>\n",
       "      <td> 4</td>\n",
       "      <td> 0.003098</td>\n",
       "    </tr>\n",
       "    <tr>\n",
       "      <th>LF_default_positive</th>\n",
       "      <td>      NaN</td>\n",
       "      <td> 0.000000</td>\n",
       "      <td> 0.000000</td>\n",
       "      <td> 5</td>\n",
       "      <td> 0.000000</td>\n",
       "    </tr>\n",
       "  </tbody>\n",
       "</table>\n",
       "</div>"
      ],
      "text/plain": [
       "                                 accuracy  conflicts  coverage  j  overlaps\n",
       "LF_complement_phrase_part        1.000000   0.003098  0.003098  0  0.003098\n",
       "LF_complement_phrase_polarity    0.218539   0.000000  0.501267  1  0.054351\n",
       "LF_complement_neighbor_polarity  1.000000   0.000000  0.067023  2  0.008448\n",
       "LF_top_mark_col_part             1.000000   0.000000  0.064770  3  0.062799\n",
       "LF_endswith_D_part               0.836173   0.003098  0.429738  4  0.003098\n",
       "LF_default_positive                   NaN   0.000000  0.000000  5  0.000000"
      ]
     },
     "execution_count": 27,
     "metadata": {},
     "output_type": "execute_result"
    }
   ],
   "source": [
    "train_gold = session.query(CandidateSet).filter(\n",
    "    CandidateSet.name == 'Hardware Training Candidates -- Gold').one()\n",
    "%time L_train.lf_stats(train_gold)"
   ]
  },
  {
   "cell_type": "markdown",
   "metadata": {},
   "source": [
    "## Learn and Evaluate"
   ]
  },
  {
   "cell_type": "code",
   "execution_count": 28,
   "metadata": {
    "collapsed": false
   },
   "outputs": [],
   "source": [
    "# If necessary:\n",
    "# import os\n",
    "# os.remove('snorkel.db');\n",
    "# os.system('cp snorkel.db\\ features snorkel.db');\n",
    "\n",
    "# from snorkel import SnorkelSession\n",
    "# session = SnorkelSession()\n",
    "\n",
    "# import sys\n",
    "# sys.path.append(os.environ['SNORKELHOME'] + '/tutorials/tables/')\n",
    "\n",
    "# from snorkel.models import candidate_subclass\n",
    "# Part_Polarity = candidate_subclass('Part_Polarity', ['part','polarity'])\n",
    "\n",
    "# from snorkel.models import CandidateSet\n",
    "# train = session.query(CandidateSet).filter(\n",
    "#     CandidateSet.name == 'Hardware Training Candidates').one()\n",
    "# dev = session.query(CandidateSet).filter(\n",
    "#     CandidateSet.name == 'Hardware Development Candidates').one()\n",
    "\n",
    "# from snorkel.annotations import FeatureManager, LabelManager\n",
    "# feature_manager = FeatureManager()\n",
    "# %time F_train = feature_manager.load(session, train, 'Train Features')\n",
    "# %time F_dev = feature_manager.load(session, dev, 'Train Features')\n",
    "\n",
    "# label_manager = LabelManager()\n",
    "# %time L_train = label_manager.load(session, train, 'LF Labels')"
   ]
  },
  {
   "cell_type": "code",
   "execution_count": 29,
   "metadata": {
    "collapsed": false
   },
   "outputs": [
    {
     "name": "stdout",
     "output_type": "stream",
     "text": [
      "================================================================================\n",
      "Training marginals (!= 0.5):\t3551\n",
      "Features:\t\t\t6\n",
      "================================================================================\n",
      "Begin training for rate=0.01, mu=1e-06\n",
      "\tLearning epoch = 0\tGradient mag. = 0.067251\n"
     ]
    },
    {
     "name": "stderr",
     "output_type": "stream",
     "text": [
      "/home/xiao/software/anaconda/lib/python2.7/site-packages/matplotlib/__init__.py:1318: UserWarning:  This call to matplotlib.use() has no effect\n",
      "because the backend has already been chosen;\n",
      "matplotlib.use() must be called *before* pylab, matplotlib.pyplot,\n",
      "or matplotlib.backends is imported for the first time.\n",
      "\n",
      "  warnings.warn(_use_error_msg)\n"
     ]
    },
    {
     "name": "stdout",
     "output_type": "stream",
     "text": [
      "\tLearning epoch = 250\tGradient mag. = 0.076943\n",
      "\tLearning epoch = 500\tGradient mag. = 0.083131\n",
      "\tLearning epoch = 750\tGradient mag. = 0.089265\n",
      "\tLearning epoch = 1000\tGradient mag. = 0.095277\n",
      "\tLearning epoch = 1250\tGradient mag. = 0.101118\n",
      "\tLearning epoch = 1500\tGradient mag. = 0.106755\n",
      "\tLearning epoch = 1750\tGradient mag. = 0.112168\n",
      "\tLearning epoch = 2000\tGradient mag. = 0.117347\n",
      "\tLearning epoch = 2250\tGradient mag. = 0.122289\n",
      "\tLearning epoch = 2500\tGradient mag. = 0.126995\n",
      "\tLearning epoch = 2750\tGradient mag. = 0.131467\n",
      "\tLearning epoch = 3000\tGradient mag. = 0.135709\n",
      "\tLearning epoch = 3250\tGradient mag. = 0.139726\n",
      "\tLearning epoch = 3500\tGradient mag. = 0.143523\n",
      "\tLearning epoch = 3750\tGradient mag. = 0.147105\n",
      "\tLearning epoch = 4000\tGradient mag. = 0.150478\n",
      "\tLearning epoch = 4250\tGradient mag. = 0.153648\n",
      "\tLearning epoch = 4500\tGradient mag. = 0.156621\n",
      "\tLearning epoch = 4750\tGradient mag. = 0.159407\n",
      "\tLearning epoch = 5000\tGradient mag. = 0.162012\n",
      "\tLearning epoch = 5250\tGradient mag. = 0.164445\n",
      "\tLearning epoch = 5500\tGradient mag. = 0.166717\n",
      "\tLearning epoch = 5750\tGradient mag. = 0.153547\n",
      "\tLearning epoch = 6000\tGradient mag. = 0.134982\n",
      "\tLearning epoch = 6250\tGradient mag. = 0.119430\n",
      "\tLearning epoch = 6500\tGradient mag. = 0.106491\n",
      "\tLearning epoch = 6750\tGradient mag. = 0.095814\n",
      "\tLearning epoch = 7000\tGradient mag. = 0.087084\n",
      "\tLearning epoch = 7250\tGradient mag. = 0.080019\n",
      "\tLearning epoch = 7500\tGradient mag. = 0.074362\n",
      "\tLearning epoch = 7750\tGradient mag. = 0.069880\n",
      "\tLearning epoch = 8000\tGradient mag. = 0.066367\n",
      "\tLearning epoch = 8250\tGradient mag. = 0.063638\n",
      "\tLearning epoch = 8500\tGradient mag. = 0.061536\n",
      "\tLearning epoch = 8750\tGradient mag. = 0.059928\n",
      "\tLearning epoch = 9000\tGradient mag. = 0.058704\n",
      "\tLearning epoch = 9250\tGradient mag. = 0.057776\n",
      "\tLearning epoch = 9500\tGradient mag. = 0.057074\n",
      "\tLearning epoch = 9750\tGradient mag. = 0.056544\n",
      "\tLearning epoch = 10000\tGradient mag. = 0.056144\n",
      "\tLearning epoch = 10250\tGradient mag. = 0.055842\n",
      "\tLearning epoch = 10500\tGradient mag. = 0.055613\n",
      "\tLearning epoch = 10750\tGradient mag. = 0.055439\n",
      "\tLearning epoch = 11000\tGradient mag. = 0.055306\n",
      "\tLearning epoch = 11250\tGradient mag. = 0.055205\n",
      "\tLearning epoch = 11500\tGradient mag. = 0.055127\n",
      "\tLearning epoch = 11750\tGradient mag. = 0.055066\n",
      "\tLearning epoch = 12000\tGradient mag. = 0.055018\n",
      "\tLearning epoch = 12250\tGradient mag. = 0.054981\n",
      "\tLearning epoch = 12500\tGradient mag. = 0.054951\n",
      "\tLearning epoch = 12750\tGradient mag. = 0.054927\n",
      "\tLearning epoch = 13000\tGradient mag. = 0.054907\n",
      "\tLearning epoch = 13250\tGradient mag. = 0.054891\n",
      "\tLearning epoch = 13500\tGradient mag. = 0.054877\n",
      "\tLearning epoch = 13750\tGradient mag. = 0.054865\n",
      "\tLearning epoch = 14000\tGradient mag. = 0.054855\n",
      "\tLearning epoch = 14250\tGradient mag. = 0.054846\n",
      "\tLearning epoch = 14500\tGradient mag. = 0.054838\n",
      "\tLearning epoch = 14750\tGradient mag. = 0.054831\n",
      "Final gradient magnitude for rate=0.01, mu=1e-06: 0.055\n"
     ]
    }
   ],
   "source": [
    "from snorkel.learning import NaiveBayes\n",
    "\n",
    "gen_model = NaiveBayes()\n",
    "gen_model.train(L_train, n_iter=15000, rate=1e-2)\n",
    "\n",
    "#%time gen_model.save(session, 'Generative Params')\n",
    "train_marginals = gen_model.marginals(L_train)"
   ]
  },
  {
   "cell_type": "code",
   "execution_count": 30,
   "metadata": {
    "collapsed": false
   },
   "outputs": [
    {
     "name": "stdout",
     "output_type": "stream",
     "text": [
      "================================================================================\n",
      "Training marginals (!= 0.5):\t3551\n",
      "Features:\t\t\t11406\n",
      "================================================================================\n",
      "Using gradient descent...\n",
      "\tLearning epoch = 0\tStep size = 1e-05\n",
      "\tLoss = 2461.365638\tGradient magnitude = 4423.021516\n",
      "\tLearning epoch = 100\tStep size = 9.04792147114e-06\n",
      "\tLoss = 1399.949366\tGradient magnitude = 397.923788\n",
      "\tLearning epoch = 200\tStep size = 8.18648829479e-06\n",
      "\tLoss = 1309.698515\tGradient magnitude = 270.326333\n",
      "\tLearning epoch = 300\tStep size = 7.40707032156e-06\n",
      "\tLoss = 1265.872144\tGradient magnitude = 214.050793\n",
      "\tLearning epoch = 400\tStep size = 6.70185906007e-06\n",
      "\tLoss = 1239.508998\tGradient magnitude = 181.508095\n",
      "\tLearning epoch = 500\tStep size = 6.06378944861e-06\n",
      "\tLoss = 1221.848259\tGradient magnitude = 160.276846\n",
      "\tLearning epoch = 600\tStep size = 5.48646907485e-06\n",
      "\tLoss = 1209.202984\tGradient magnitude = 145.376023\n",
      "\tLearning epoch = 700\tStep size = 4.96411413431e-06\n",
      "\tLoss = 1199.735267\tGradient magnitude = 134.399398\n",
      "\tLearning epoch = 800\tStep size = 4.4914914861e-06\n",
      "\tLoss = 1192.415572\tGradient magnitude = 126.026608\n",
      "\tLearning epoch = 900\tStep size = 4.06386622545e-06\n",
      "\tLoss = 1186.622060\tGradient magnitude = 119.478313\n",
      "\tLearning epoch = 1000\tStep size = 3.67695424771e-06\n",
      "\tLoss = 1181.954790\tGradient magnitude = 114.256551\n",
      "\tLearning epoch = 1100\tStep size = 3.32687932862e-06\n",
      "\tLoss = 1178.142528\tGradient magnitude = 110.033051\n",
      "\tLearning epoch = 1200\tStep size = 3.01013429093e-06\n",
      "\tLoss = 1174.996472\tGradient magnitude = 106.579221\n",
      "\tLearning epoch = 1300\tStep size = 2.72354586819e-06\n",
      "\tLoss = 1172.380662\tGradient magnitude = 103.731494\n",
      "\tLearning epoch = 1400\tStep size = 2.46424291385e-06\n",
      "\tLoss = 1170.192907\tGradient magnitude = 101.372785\n",
      "\tLearning epoch = 1500\tStep size = 2.22962763703e-06\n",
      "\tLoss = 1168.355344\tGradient magnitude = 99.412386\n",
      "\tLearning epoch = 1600\tStep size = 2.01734957697e-06\n",
      "\tLoss = 1166.809096\tGradient magnitude = 97.782341\n",
      "\tLearning epoch = 1700\tStep size = 1.82528205523e-06\n",
      "\tLoss = 1165.506718\tGradient magnitude = 96.429047\n",
      "\tLearning epoch = 1800\tStep size = 1.65150086984e-06\n",
      "\tLoss = 1164.411069\tGradient magnitude = 95.310249\n",
      "\tLearning epoch = 1900\tStep size = 1.49426501798e-06\n",
      "\tLoss = 1163.493121\tGradient magnitude = 94.391803\n"
     ]
    }
   ],
   "source": [
    "from snorkel.learning import LogReg\n",
    "\n",
    "disc_model = LogReg()\n",
    "disc_model.train(F_train, train_marginals, n_iter=2000, rate=1e-5)\n",
    "#%time disc_model.save(session, \"Discriminative Params\")"
   ]
  },
  {
   "cell_type": "code",
   "execution_count": 31,
   "metadata": {
    "collapsed": false
   },
   "outputs": [],
   "source": [
    "train_gold = session.query(CandidateSet).filter(\n",
    "    CandidateSet.name == 'Hardware Training Candidates -- Gold').one()"
   ]
  },
  {
   "cell_type": "code",
   "execution_count": 32,
   "metadata": {
    "collapsed": true
   },
   "outputs": [],
   "source": [
    "dev_gold = session.query(CandidateSet).filter(\n",
    "    CandidateSet.name == 'Hardware Development Candidates -- Gold').one()"
   ]
  },
  {
   "cell_type": "code",
   "execution_count": 33,
   "metadata": {
    "collapsed": false
   },
   "outputs": [],
   "source": [
    "from snorkel.models import CandidateSet\n",
    "from snorkel.annotations import LabelManager\n",
    "label_manager = LabelManager()\n",
    "L_dev = label_manager.load(session, dev, 'Hardware Development Labels -- Gold')"
   ]
  },
  {
   "cell_type": "code",
   "execution_count": 34,
   "metadata": {
    "collapsed": false
   },
   "outputs": [
    {
     "name": "stdout",
     "output_type": "stream",
     "text": [
      "Calibration plot:\n"
     ]
    },
    {
     "name": "stderr",
     "output_type": "stream",
     "text": [
      "/home/xiao/software/anaconda/lib/python2.7/site-packages/numpy/core/_methods.py:59: RuntimeWarning: Mean of empty slice.\n",
      "  warnings.warn(\"Mean of empty slice.\", RuntimeWarning)\n"
     ]
    },
    {
     "data": {
      "image/png": "[encoded data removed]",
      "text/plain": [
       "<matplotlib.figure.Figure at 0x7fca4fd07910>"
      ]
     },
     "metadata": {},
     "output_type": "display_data"
    },
    {
     "name": "stdout",
     "output_type": "stream",
     "text": [
      "========================================\n",
      "Recall-corrected Noise-aware Model\n",
      "========================================\n",
      "Pos. class accuracy: 0.0404880754298\n",
      "Neg. class accuracy: 0.979619565217\n",
      "Corpus Precision 0.83\n",
      "Corpus Recall    0.0405\n",
      "Corpus F1        0.0772\n",
      "----------------------------------------\n",
      "TP: 73 | FP: 15 | TN: 721 | FN: 1730\n",
      "========================================\n",
      "\n",
      "========================================\n",
      "Recall-corrected Noise-aware Model\n",
      "========================================\n",
      "Pos. class accuracy: 0.0202440377149\n",
      "Neg. class accuracy: 0.979619565217\n",
      "Corpus Precision 0.83\n",
      "Corpus Recall    0.0202\n",
      "Corpus F1        0.0395\n",
      "----------------------------------------\n",
      "TP: 73 | FP: 15 | TN: 721 | FN: 3533\n",
      "========================================\n",
      "\n"
     ]
    }
   ],
   "source": [
    "tp, fp, tn, fn = disc_model.score(F_dev, L_dev, dev_gold)"
   ]
  },
  {
   "cell_type": "code",
   "execution_count": 35,
   "metadata": {
    "collapsed": false
   },
   "outputs": [
    {
     "name": "stdout",
     "output_type": "stream",
     "text": [
      "========================================\n",
      "Scoring on Entity-Level Gold Data\n",
      "========================================\n",
      "Corpus Precision 0.688\n",
      "Corpus Recall    0.0688\n",
      "Corpus F1        0.125\n",
      "----------------------------------------\n",
      "TP: 22 | FP: 10 | FN: 298\n",
      "========================================\n",
      "\n"
     ]
    }
   ],
   "source": [
    "from snorkel.models import Corpus\n",
    "from hardware_utils import entity_level_f1\n",
    "import os\n",
    "\n",
    "gold_file = os.environ['SNORKELHOME'] + '/tutorials/tables/data/hardware/hardware_gold.csv'\n",
    "corpus = session.query(Corpus).filter(Corpus.name == 'Hardware Development').one()\n",
    "(TP, FP, FN) = entity_level_f1(tp, fp, tn, fn, gold_file, corpus, 'polarity')"
   ]
  },
  {
   "cell_type": "code",
   "execution_count": 36,
   "metadata": {
    "collapsed": false
   },
   "outputs": [
    {
     "name": "stdout",
     "output_type": "stream",
     "text": [
      "[(u'2N6426-D', u'2N6426IS', u'NPN'),\n",
      " (u'2N6426-D', u'2N6426ISA', u'NPN'),\n",
      " (u'2N6426-D', u'2N642D', u'NPN'),\n",
      " (u'BC546_DIOTEC', u'BC546/', u'NPN'),\n",
      " (u'BC546_DIOTEC', u'BC548/', u'NPN'),\n",
      " (u'LTSCS02910-1', u'BC818-REV', u'NPN'),\n",
      " (u'MOTOS04676-1', u'2N412D', u'NPN'),\n",
      " (u'MOTOS04796-1', u'2N642D', u'NPN'),\n",
      " (u'WEITS00252-1', u'BC807-1', u'PNP'),\n",
      " (u'WEITS00252-1', u'BC807-25BC807-40', u'PNP')]\n"
     ]
    }
   ],
   "source": [
    "from pprint import pprint\n",
    "FP_list = sorted(list(FP))\n",
    "pprint(FP_list[:10])"
   ]
  },
  {
   "cell_type": "code",
   "execution_count": 37,
   "metadata": {
    "collapsed": false
   },
   "outputs": [
    {
     "ename": "IndexError",
     "evalue": "list index out of range",
     "output_type": "error",
     "traceback": [
      "\u001b[1;31m---------------------------------------------------------------------------\u001b[0m",
      "\u001b[1;31mIndexError\u001b[0m                                Traceback (most recent call last)",
      "\u001b[1;32m<ipython-input-37-0832b1b7103f>\u001b[0m in \u001b[0;36m<module>\u001b[1;34m()\u001b[0m\n\u001b[1;32m----> 1\u001b[1;33m \u001b[1;32mprint\u001b[0m \u001b[0mdisc_model\u001b[0m\u001b[1;33m.\u001b[0m\u001b[0mget_feature_weights\u001b[0m\u001b[1;33m(\u001b[0m\u001b[0mF_dev\u001b[0m\u001b[1;33m)\u001b[0m\u001b[1;33m\u001b[0m\u001b[0m\n\u001b[0m",
      "\u001b[1;32m/home/xiao/snorkel/snorkel/learning.pyc\u001b[0m in \u001b[0;36mget_feature_weights\u001b[1;34m(self, feature_matrix, getDict, reverse)\u001b[0m\n\u001b[0;32m    331\u001b[0m         \u001b[1;32mfor\u001b[0m \u001b[0mi\u001b[0m \u001b[1;32min\u001b[0m \u001b[0mxrange\u001b[0m\u001b[1;33m(\u001b[0m\u001b[0mlen\u001b[0m\u001b[1;33m(\u001b[0m\u001b[0mself\u001b[0m\u001b[1;33m.\u001b[0m\u001b[0mw\u001b[0m\u001b[1;33m)\u001b[0m\u001b[1;33m)\u001b[0m\u001b[1;33m:\u001b[0m\u001b[1;33m\u001b[0m\u001b[0m\n\u001b[0;32m    332\u001b[0m             \u001b[1;32mif\u001b[0m \u001b[0mabs\u001b[0m\u001b[1;33m(\u001b[0m\u001b[0mself\u001b[0m\u001b[1;33m.\u001b[0m\u001b[0mw\u001b[0m\u001b[1;33m[\u001b[0m\u001b[0mi\u001b[0m\u001b[1;33m]\u001b[0m\u001b[1;33m)\u001b[0m \u001b[1;33m>=\u001b[0m \u001b[1;36m0.000001\u001b[0m\u001b[1;33m:\u001b[0m\u001b[1;33m\u001b[0m\u001b[0m\n\u001b[1;32m--> 333\u001b[1;33m                 \u001b[0mweights\u001b[0m\u001b[1;33m[\u001b[0m\u001b[0mfeature_matrix\u001b[0m\u001b[1;33m.\u001b[0m\u001b[0mget_key\u001b[0m\u001b[1;33m(\u001b[0m\u001b[0mi\u001b[0m\u001b[1;33m)\u001b[0m\u001b[1;33m.\u001b[0m\u001b[0mname\u001b[0m\u001b[1;33m]\u001b[0m \u001b[1;33m=\u001b[0m \u001b[0mfloat\u001b[0m\u001b[1;33m(\u001b[0m\u001b[0mself\u001b[0m\u001b[1;33m.\u001b[0m\u001b[0mw\u001b[0m\u001b[1;33m[\u001b[0m\u001b[0mi\u001b[0m\u001b[1;33m]\u001b[0m\u001b[1;33m)\u001b[0m\u001b[1;33m\u001b[0m\u001b[0m\n\u001b[0m\u001b[0;32m    334\u001b[0m \u001b[1;33m\u001b[0m\u001b[0m\n\u001b[0;32m    335\u001b[0m         \u001b[1;32mif\u001b[0m \u001b[0mgetDict\u001b[0m\u001b[1;33m:\u001b[0m \u001b[1;31m#optionally get access to the dictionary for easier searching\u001b[0m\u001b[1;33m\u001b[0m\u001b[0m\n",
      "\u001b[1;32m/home/xiao/snorkel/snorkel/async_annotations.py\u001b[0m in \u001b[0;36mget_key\u001b[1;34m(self, j)\u001b[0m\n\u001b[0;32m     48\u001b[0m     \u001b[1;32mdef\u001b[0m \u001b[0mget_key\u001b[0m\u001b[1;33m(\u001b[0m\u001b[0mself\u001b[0m\u001b[1;33m,\u001b[0m \u001b[0mj\u001b[0m\u001b[1;33m)\u001b[0m\u001b[1;33m:\u001b[0m\u001b[1;33m\u001b[0m\u001b[0m\n\u001b[0;32m     49\u001b[0m         \u001b[1;34m\"\"\"Return the AnnotationKey object corresponding to column j\"\"\"\u001b[0m\u001b[1;33m\u001b[0m\u001b[0m\n\u001b[1;32m---> 50\u001b[1;33m         \u001b[1;32mreturn\u001b[0m \u001b[0m_TempKey\u001b[0m\u001b[1;33m(\u001b[0m\u001b[0mj\u001b[0m\u001b[1;33m,\u001b[0m \u001b[0mself\u001b[0m\u001b[1;33m.\u001b[0m\u001b[0mkeys\u001b[0m\u001b[1;33m[\u001b[0m\u001b[0mj\u001b[0m\u001b[1;33m]\u001b[0m\u001b[1;33m)\u001b[0m\u001b[1;33m\u001b[0m\u001b[0m\n\u001b[0m\u001b[0;32m     51\u001b[0m \u001b[1;33m\u001b[0m\u001b[0m\n\u001b[0;32m     52\u001b[0m     \u001b[1;32mdef\u001b[0m \u001b[0mget_col_index\u001b[0m\u001b[1;33m(\u001b[0m\u001b[0mself\u001b[0m\u001b[1;33m,\u001b[0m \u001b[0mkey\u001b[0m\u001b[1;33m)\u001b[0m\u001b[1;33m:\u001b[0m\u001b[1;33m\u001b[0m\u001b[0m\n",
      "\u001b[1;31mIndexError\u001b[0m: list index out of range"
     ]
    }
   ],
   "source": [
    "print disc_model.get_feature_weights(F_dev)"
   ]
  },
  {
   "cell_type": "code",
   "execution_count": null,
   "metadata": {
    "collapsed": false
   },
   "outputs": [],
   "source": [
    "from hardware_utils import entity_to_candidates\n",
    "\n",
    "entity = FP_list[0]\n",
    "matches = entity_to_candidates(entity, fp)\n",
    "print \"Entity: (%d matches)\" % len(matches)\n",
    "print entity\n",
    "\n",
    "candidate = matches[0]\n",
    "print \"\\nCandidate:\"\n",
    "print candidate\n",
    "\n",
    "print \"\\nScore:\"\n",
    "print disc_model.get_candidate_score(candidate, F_dev)\n",
    "\n",
    "print \"\\nFeatures:\"\n",
    "pprint(disc_model.get_candidate_feature_weights(candidate, F_dev))"
   ]
  },
  {
   "cell_type": "code",
   "execution_count": null,
   "metadata": {
    "collapsed": false
   },
   "outputs": [],
   "source": [
    "from hardware_utils import part_error_analysis\n",
    "part_error_analysis(candidate)"
   ]
  }
 ],
 "metadata": {
  "anaconda-cloud": {},
  "kernelspec": {
   "display_name": "Python 2",
   "language": "python",
   "name": "python2"
  },
  "language_info": {
   "codemirror_mode": {
    "name": "ipython",
    "version": 2
   },
   "file_extension": ".py",
   "mimetype": "text/x-python",
   "name": "python",
   "nbconvert_exporter": "python",
   "pygments_lexer": "ipython2",
   "version": "2.7.12"
  }
 },
 "nbformat": 4,
 "nbformat_minor": 1
}
