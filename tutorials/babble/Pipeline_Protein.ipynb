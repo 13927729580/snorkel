{
 "cells": [
  {
   "cell_type": "code",
   "execution_count": 1,
   "metadata": {
    "collapsed": false
   },
   "outputs": [],
   "source": [
    "%load_ext autoreload\n",
    "%autoreload 2"
   ]
  },
  {
   "cell_type": "code",
   "execution_count": 2,
   "metadata": {
    "collapsed": false
   },
   "outputs": [],
   "source": [
    "config = {\n",
    "    'domain': 'protein',\n",
    "    'supervision': 'generative',\n",
    "    'traditional_split': 1,\n",
    "    'disc_model_class': 'logreg',\n",
    "    'display_learned_accuracies': True,\n",
    "}"
   ]
  },
  {
   "cell_type": "code",
   "execution_count": 3,
   "metadata": {
    "collapsed": false
   },
   "outputs": [
    {
     "name": "stdout",
     "output_type": "stream",
     "text": [
      "$SNORKELDB = sqlite:///babble_protein.db\n"
     ]
    }
   ],
   "source": [
    "# Get DB connection string and add to globals\n",
    "# NOTE: $SNORKELDB must be set before any snorkel imports\n",
    "import os\n",
    "\n",
    "default_db_name = 'babble_' + config['domain'] + ('_debug' if config.get('debug', False) else '')\n",
    "DB_NAME = config.get('db_name', default_db_name)\n",
    "if 'postgres' in config and config['postgres']:\n",
    "    DB_TYPE = 'postgres'\n",
    "else:\n",
    "    DB_TYPE = 'sqlite'\n",
    "    DB_NAME += '.db'\n",
    "DB_ADDR = \"localhost:{0}\".format(config['db_port']) if 'db_port' in config else \"\"\n",
    "os.environ['SNORKELDB'] = '{0}://{1}/{2}'.format(DB_TYPE, DB_ADDR, DB_NAME)\n",
    "print(\"$SNORKELDB = {0}\".format(os.environ['SNORKELDB']))"
   ]
  },
  {
   "cell_type": "code",
   "execution_count": 4,
   "metadata": {
    "collapsed": false,
    "scrolled": true
   },
   "outputs": [
    {
     "name": "stdout",
     "output_type": "stream",
     "text": [
      "Overwriting gen_f_beta=0.5 to gen_f_beta=1.0\n",
      "Overwriting domain=None to domain=protein\n",
      "Overwriting babbler_candidate_split=1 to babbler_candidate_split=[0, 1, 2]\n",
      "Overwriting disc_model_class=lstm to disc_model_class=logreg\n",
      "Overwriting display_learned_accuracies=False to display_learned_accuracies=True\n",
      "Overwriting traditional_split=0 to traditional_split=1\n"
     ]
    }
   ],
   "source": [
    "from snorkel import SnorkelSession\n",
    "session = SnorkelSession()\n",
    "\n",
    "# Resolve config conflicts (nb_config > local_config > global_config)\n",
    "from snorkel.contrib.babble.pipelines import merge_configs, get_local_pipeline\n",
    "config = merge_configs(config)\n",
    "\n",
    "if config['debug']:\n",
    "    print(\"NOTE: --debug=True: modifying parameters...\")\n",
    "    config['max_docs'] = 100\n",
    "    config['gen_model_search_space'] = 1\n",
    "    config['disc_model_search_space'] = 1\n",
    "    config['gen_params_default']['epochs'] = 25\n",
    "    config['disc_params_default']['n_epochs'] = 5\n",
    "\n",
    "from snorkel.models import candidate_subclass\n",
    "candidate_class = candidate_subclass(config['candidate_name'], config['candidate_entities'])\n",
    "\n",
    "pipeline = get_local_pipeline(config['domain'])\n",
    "pipe = pipeline(session, candidate_class, config)"
   ]
  },
  {
   "cell_type": "code",
   "execution_count": 5,
   "metadata": {
    "collapsed": false,
    "scrolled": true
   },
   "outputs": [],
   "source": [
    "# %time pipe.parse()"
   ]
  },
  {
   "cell_type": "code",
   "execution_count": 6,
   "metadata": {
    "collapsed": false,
    "scrolled": true
   },
   "outputs": [],
   "source": [
    "# %time pipe.extract()"
   ]
  },
  {
   "cell_type": "code",
   "execution_count": 7,
   "metadata": {
    "collapsed": false,
    "scrolled": false
   },
   "outputs": [],
   "source": [
    "# %time pipe.load_gold()"
   ]
  },
  {
   "cell_type": "code",
   "execution_count": 8,
   "metadata": {
    "collapsed": false
   },
   "outputs": [],
   "source": [
    "# %time pipe.featurize()"
   ]
  },
  {
   "cell_type": "code",
   "execution_count": 9,
   "metadata": {
    "collapsed": false,
    "scrolled": false
   },
   "outputs": [
    {
     "name": "stdout",
     "output_type": "stream",
     "text": [
      "Linking candidates...\n",
      "# CANDIDATES: 7615\n",
      "Building list of target candidate ids...\n",
      "Collected 20 unique target candidate ids from 30 explanations.\n",
      "Gathering desired candidates...\n",
      "Could not find 1 target candidates with the following stable_ids (first 5):\n",
      "\n",
      "Found 19/20 desired candidates\n",
      "Linking explanations to candidates...\n",
      "Linked 19/30 explanations\n",
      "Calling babbler...\n",
      "Created grammar with 598 rules\n",
      "WARNING: Number of candidates (1011) does not equal the number of pos (220) + neg (779) = 999 labels.\n",
      "Flushing all parses from previous explanation set.\n",
      "29 explanation(s) out of 30 were parseable.\n",
      "107 parse(s) generated from 30 explanation(s).\n",
      "72 parse(s) remain (35 parse(s) removed by DuplicateSemanticsFilter).\n",
      "Note: 32 LFs did not have candidates and therefore could not be filtered.\n",
      "48 parse(s) remain (24 parse(s) removed by ConsistencyFilter).\n",
      "### Applying labeling functions to split 1\n",
      "[========================================] 100%\n",
      "\n",
      "### Done in 6.8s.\n",
      "\n",
      "33 parse(s) remain (15 parse(s) removed by UniformSignatureFilter: (15 None, 0 All)).\n",
      "23 parse(s) remain (10 parse(s) removed by DuplicateSignatureFilter).\n",
      "Added 23 parse(s) from 20 explanations to set. (Total # parses = 23)\n",
      "CPU times: user 1min 6s, sys: 1.32 s, total: 1min 7s\n",
      "Wall time: 1min 7s\n"
     ]
    }
   ],
   "source": [
    "%time pipe.collect()"
   ]
  },
  {
   "cell_type": "code",
   "execution_count": 10,
   "metadata": {
    "collapsed": false
   },
   "outputs": [],
   "source": [
    "# pipe.babbler.get_explanations()"
   ]
  },
  {
   "cell_type": "code",
   "execution_count": 11,
   "metadata": {
    "collapsed": false
   },
   "outputs": [],
   "source": [
    "# pipe.babbler.get_parses()"
   ]
  },
  {
   "cell_type": "code",
   "execution_count": 12,
   "metadata": {
    "collapsed": false,
    "scrolled": false
   },
   "outputs": [],
   "source": [
    "# pipe.babbler.get_lf_stats()"
   ]
  },
  {
   "cell_type": "code",
   "execution_count": 13,
   "metadata": {
    "collapsed": false,
    "scrolled": false
   },
   "outputs": [],
   "source": [
    "# pipe.babbler.filtered_analysis()"
   ]
  },
  {
   "cell_type": "code",
   "execution_count": null,
   "metadata": {
    "collapsed": false,
    "scrolled": false
   },
   "outputs": [
    {
     "name": "stdout",
     "output_type": "stream",
     "text": [
      "Clearing existing...\n",
      "Running UDF...\n",
      "[========================================] 100%\n",
      "\n",
      "Labeled split 0: (5546,23) sparse (nnz = 11065)\n",
      "\n",
      "Clearing existing...\n",
      "Running UDF...\n",
      "[========================================] 100%\n",
      "\n",
      "Labeled split 1: (1011,23) sparse (nnz = 2082)\n",
      "\n",
      "                            j  Coverage  Overlaps  Conflicts  TP   FP  FN  \\\n",
      "LF_by_with_2                0  0.077151  0.063304   0.026706  44   33   0   \n",
      "LF_treatment_0              1  0.021761  0.016815   0.012859   0    0   5   \n",
      "LF_transfect_0              2  0.028684  0.025717   0.014837   0    0   1   \n",
      "LF_levels_0                 3  0.043521  0.041543   0.029674   0    0   3   \n",
      "LF_sequenc_in_sentence_0    4  0.003956  0.002967   0.002967   0    0   0   \n",
      "LF_expression_0             5  0.170129  0.129575   0.091988   0    0  11   \n",
      "LF_interact_in_sentence_0   6  0.073195  0.067260   0.019782  43   29   0   \n",
      "LF_bind_B_0                 7  0.063304  0.048467   0.014837  25   39   0   \n",
      "LF_regulate_Betw_1          8  0.011869  0.007913   0.000989   6    6   0   \n",
      "LF_mutat_B_0                9  0.061325  0.047478   0.034619   0    0   7   \n",
      "LF_genes_L_0               10  0.022750  0.021761   0.016815   0    0   0   \n",
      "LF_no_B_0                  11  0.235410  0.182987   0.137488   0    0  43   \n",
      "LF_close_1                 12  0.098912  0.087043   0.014837  55   42   0   \n",
      "LF_between_before_2        13  0.471810  0.471810   0.220574  56  414   0   \n",
      "LF_between_before_4        14  0.041543  0.041543   0.016815  12   28   0   \n",
      "LF_between_before_6        15  0.483680  0.483680   0.226508  60  422   0   \n",
      "LF_Ser_Tyr_0               16  0.004946  0.004946   0.000989   3    2   0   \n",
      "LF_influence_B_0           17  0.011869  0.011869   0.004946   3    9   0   \n",
      "LF_substrate_B_2           18  0.005935  0.005935   0.002967   4    2   0   \n",
      "LF_phosphory_B_0           19  0.024728  0.024728   0.006924  14   10   0   \n",
      "LF_phosphory_B_4           20  0.067260  0.062315   0.030663  26   41   0   \n",
      "LF_whereas_0               21  0.023739  0.022750   0.014837   0    0   5   \n",
      "LF_drug_0                  22  0.011869  0.009891   0.009891   0    0   1   \n",
      "\n",
      "                            TN  Empirical Acc.  \n",
      "LF_by_with_2                 0        0.571429  \n",
      "LF_treatment_0              16        0.761905  \n",
      "LF_transfect_0              26        0.962963  \n",
      "LF_levels_0                 41        0.931818  \n",
      "LF_sequenc_in_sentence_0     4        1.000000  \n",
      "LF_expression_0            159        0.935294  \n",
      "LF_interact_in_sentence_0    0        0.597222  \n",
      "LF_bind_B_0                  0        0.390625  \n",
      "LF_regulate_Betw_1           0        0.500000  \n",
      "LF_mutat_B_0                54        0.885246  \n",
      "LF_genes_L_0                23        1.000000  \n",
      "LF_no_B_0                  190        0.815451  \n",
      "LF_close_1                   0        0.567010  \n",
      "LF_between_before_2          0        0.119149  \n",
      "LF_between_before_4          0        0.300000  \n",
      "LF_between_before_6          0        0.124481  \n",
      "LF_Ser_Tyr_0                 0        0.600000  \n",
      "LF_influence_B_0             0        0.250000  \n",
      "LF_substrate_B_2             0        0.666667  \n",
      "LF_phosphory_B_0             0        0.583333  \n",
      "LF_phosphory_B_4             0        0.388060  \n",
      "LF_whereas_0                19        0.791667  \n",
      "LF_drug_0                   11        0.916667  \n",
      "Clearing existing...\n",
      "Running UDF...\n",
      "[========================================] 100%\n",
      "\n",
      "Labeled split 2: (1058,23) sparse (nnz = 2233)\n",
      "\n",
      "CPU times: user 1min 8s, sys: 896 ms, total: 1min 9s\n",
      "Wall time: 1min 9s\n"
     ]
    }
   ],
   "source": [
    "%time pipe.label()"
   ]
  },
  {
   "cell_type": "code",
   "execution_count": null,
   "metadata": {
    "collapsed": false,
    "scrolled": false
   },
   "outputs": [
    {
     "name": "stdout",
     "output_type": "stream",
     "text": [
      "Using L_train: <5546x23 sparse matrix of type '<type 'numpy.int64'>'\n",
      "\twith 11065 stored elements in Compressed Sparse Row format>\n",
      "Using L_gold_train: <5546x1 sparse matrix of type '<type 'numpy.int64'>'\n",
      "\twith 0 stored elements in Compressed Sparse Row format>\n",
      "Positive Fraction: 0.0%\n",
      "\n",
      "Using L_dev: <1011x23 sparse matrix of type '<type 'numpy.int64'>'\n",
      "\twith 2082 stored elements in Compressed Sparse Row format>\n",
      "Using L_gold_dev: <1011x1 sparse matrix of type '<type 'numpy.int64'>'\n",
      "\twith 999 stored elements in Compressed Sparse Row format>\n",
      "Positive Fraction: 21.8%\n",
      "\n",
      "Using L_test: <1058x23 sparse matrix of type '<type 'numpy.int64'>'\n",
      "\twith 2233 stored elements in Compressed Sparse Row format>\n",
      "Using L_gold_test: <1058x1 sparse matrix of type '<type 'numpy.int64'>'\n",
      "\twith 1053 stored elements in Compressed Sparse Row format>\n",
      "Positive Fraction: 21.6%\n",
      "\n",
      "============================================================\n",
      "[1] Testing epochs = 25, step_size = 1.00e-02, reg_param = 1.00e-02, decay = 9.00e-01\n",
      "============================================================\n",
      "Inferred cardinality: 2\n",
      "[GenerativeModel] F-1.0 Score: 0.328440366972\n",
      "[GenerativeModel] Model saved as <GenerativeModel_0>.\n",
      "============================================================\n",
      "[2] Testing epochs = 50, step_size = 1.00e-04, reg_param = 0.00e+00, decay = 9.50e-01\n",
      "============================================================\n",
      "Inferred cardinality: 2\n",
      "[GenerativeModel] F-1.0 Score: 0.327838827839\n",
      "============================================================\n",
      "[3] Testing epochs = 25, step_size = 1.00e-03, reg_param = 1.00e-02, decay = 9.50e-01\n",
      "============================================================\n",
      "Inferred cardinality: 2\n",
      "[GenerativeModel] F-1.0 Score: 0.328440366972\n",
      "============================================================\n",
      "[4] Testing epochs = 50, step_size = 1.00e-04, reg_param = 5.00e-01, decay = 9.90e-01\n",
      "============================================================\n",
      "Inferred cardinality: 2\n",
      "[GenerativeModel] F-1.0 Score: 0.349665924276\n",
      "[GenerativeModel] Model saved as <GenerativeModel_3>.\n",
      "============================================================\n",
      "[5] Testing epochs = 50, step_size = 1.00e-05, reg_param = 2.50e-01, decay = 9.00e-01\n",
      "============================================================\n",
      "Inferred cardinality: 2\n",
      "[GenerativeModel] F-1.0 Score: 0.349775784753\n",
      "[GenerativeModel] Model saved as <GenerativeModel_4>.\n",
      "============================================================\n",
      "[6] Testing epochs = 75, step_size = 1.00e-05, reg_param = 0.00e+00, decay = 9.50e-01\n",
      "============================================================\n",
      "Inferred cardinality: 2\n",
      "[GenerativeModel] F-1.0 Score: 0.349665924276\n",
      "============================================================\n",
      "[7] Testing epochs = 25, step_size = 1.00e-04, reg_param = 2.50e-01, decay = 9.50e-01\n",
      "============================================================\n",
      "Inferred cardinality: 2\n",
      "[GenerativeModel] F-1.0 Score: 0.349665924276\n",
      "============================================================\n",
      "[8] Testing epochs = 75, step_size = 1.00e-02, reg_param = 0.00e+00, decay = 9.50e-01\n",
      "============================================================\n",
      "Inferred cardinality: 2\n",
      "[GenerativeModel] F-1.0 Score: 0.327838827839\n",
      "============================================================\n",
      "[9] Testing epochs = 25, step_size = 1.00e-03, reg_param = 1.00e-01, decay = 9.00e-01\n",
      "============================================================\n",
      "Inferred cardinality: 2\n",
      "[GenerativeModel] F-1.0 Score: 0.346961325967\n",
      "============================================================\n",
      "[10] Testing epochs = 25, step_size = 1.00e-03, reg_param = 2.50e-01, decay = 9.90e-01\n",
      "============================================================\n",
      "Inferred cardinality: 2\n",
      "[GenerativeModel] F-1.0 Score: 0.349665924276\n",
      "[GenerativeModel] Model <GenerativeModel_4> loaded.\n",
      "   epochs  step_size  reg_param  decay     Prec.      Rec.     F-1.0\n",
      "4      50    0.00001       0.25   0.90  0.232143  0.709091  0.349776\n",
      "3      50    0.00010       0.50   0.99  0.231563  0.713636  0.349666\n",
      "5      75    0.00001       0.00   0.95  0.231563  0.713636  0.349666\n",
      "6      25    0.00010       0.25   0.95  0.231563  0.713636  0.349666\n",
      "9      25    0.00100       0.25   0.99  0.231563  0.713636  0.349666\n",
      "8      25    0.00100       0.10   0.90  0.229197  0.713636  0.346961\n",
      "0      25    0.01000       0.01   0.90  0.205747  0.813636  0.328440\n",
      "2      25    0.00100       0.01   0.95  0.205747  0.813636  0.328440\n",
      "1      50    0.00010       0.00   0.95  0.205275  0.813636  0.327839\n",
      "7      75    0.01000       0.00   0.95  0.205275  0.813636  0.327839\n",
      "[GenerativeModel] Model saved as <generative_protein>.\n",
      "\n",
      "Gen. model (DP) score on dev set (b=0.25):\n",
      "========================================\n",
      "Scores (Un-adjusted)\n",
      "========================================\n",
      "Pos. class accuracy: 0.9\n",
      "Neg. class accuracy: 0.217\n",
      "Precision            0.242\n",
      "Recall               0.9\n",
      "F1                   0.382\n",
      "----------------------------------------\n",
      "TP: 198 | FP: 619 | TN: 172 | FN: 22\n",
      "========================================\n",
      "\n"
     ]
    },
    {
     "data": {
      "image/png": "[encoded data removed]",
      "text/plain": [
       "<matplotlib.figure.Figure at 0x113c939d0>"
      ]
     },
     "metadata": {},
     "output_type": "display_data"
    }
   ],
   "source": [
    "%time pipe.supervise()"
   ]
  },
  {
   "cell_type": "code",
   "execution_count": null,
   "metadata": {
    "collapsed": false,
    "scrolled": false
   },
   "outputs": [],
   "source": [
    "%time pipe.classify()"
   ]
  }
 ],
 "metadata": {
  "kernelspec": {
   "display_name": "Python 2",
   "language": "python",
   "name": "python2"
  },
  "language_info": {
   "codemirror_mode": {
    "name": "ipython",
    "version": 2
   },
   "file_extension": ".py",
   "mimetype": "text/x-python",
   "name": "python",
   "nbconvert_exporter": "python",
   "pygments_lexer": "ipython2",
   "version": "2.7.14"
  }
 },
 "nbformat": 4,
 "nbformat_minor": 2
}
