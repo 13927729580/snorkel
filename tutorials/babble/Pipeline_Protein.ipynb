{
 "cells": [
  {
   "cell_type": "code",
   "execution_count": 1,
   "metadata": {
    "collapsed": false
   },
   "outputs": [],
   "source": [
    "%load_ext autoreload\n",
    "%autoreload 2"
   ]
  },
  {
   "cell_type": "code",
   "execution_count": 2,
   "metadata": {
    "collapsed": false
   },
   "outputs": [],
   "source": [
    "config = {\n",
    "    'domain': 'protein',\n",
    "    'postgres': False,\n",
    "    'debug': False,\n",
    "    'max_docs': 131,\n",
    "    'babbler_candidate_split': 1,\n",
    "    'babbler_label_split': 1\n",
    "}"
   ]
  },
  {
   "cell_type": "code",
   "execution_count": 3,
   "metadata": {
    "collapsed": false
   },
   "outputs": [
    {
     "name": "stdout",
     "output_type": "stream",
     "text": [
      "$SNORKELDB = sqlite:///babble_protein.db\n"
     ]
    }
   ],
   "source": [
    "# Get DB connection string and add to globals\n",
    "# NOTE: $SNORKELDB must be set before any snorkel imports\n",
    "import os\n",
    "\n",
    "default_db_name = 'babble_' + config['domain'] + ('_debug' if config.get('debug', False) else '')\n",
    "DB_NAME = config.get('db_name', default_db_name)\n",
    "if 'postgres' in config and config['postgres']:\n",
    "    DB_TYPE = 'postgres'\n",
    "else:\n",
    "    DB_TYPE = 'sqlite'\n",
    "    DB_NAME += '.db'\n",
    "DB_ADDR = \"localhost:{0}\".format(config['db_port']) if 'db_port' in config else \"\"\n",
    "os.environ['SNORKELDB'] = '{0}://{1}/{2}'.format(DB_TYPE, DB_ADDR, DB_NAME)\n",
    "print(\"$SNORKELDB = {0}\".format(os.environ['SNORKELDB']))"
   ]
  },
  {
   "cell_type": "code",
   "execution_count": 4,
   "metadata": {
    "collapsed": false,
    "scrolled": true
   },
   "outputs": [
    {
     "name": "stdout",
     "output_type": "stream",
     "text": [
      "Overwriting domain=None to domain=protein\n",
      "Overwriting babbler_candidate_split=0 to babbler_candidate_split=1\n",
      "Overwriting babbler_label_split=0 to babbler_label_split=1\n",
      "Overwriting max_docs=None to max_docs=2\n"
     ]
    }
   ],
   "source": [
    "from snorkel import SnorkelSession\n",
    "session = SnorkelSession()\n",
    "\n",
    "# Resolve config conflicts (nb_config > local_config > global_config)\n",
    "from snorkel.contrib.babble.pipelines import merge_configs, get_local_pipeline\n",
    "config = merge_configs(config)\n",
    "\n",
    "if config['debug']:\n",
    "    print(\"NOTE: --debug=True: modifying parameters...\")\n",
    "    config['max_docs'] = 100\n",
    "    config['gen_model_search_space'] = 2\n",
    "    config['disc_model_search_space'] = 2\n",
    "    config['gen_params_default']['epochs'] = 25\n",
    "    config['disc_params_default']['n_epochs'] = 5\n",
    "\n",
    "from snorkel.models import candidate_subclass\n",
    "candidate_class = candidate_subclass(config['candidate_name'], config['candidate_entities'])\n",
    "\n",
    "pipeline = get_local_pipeline(config['domain'])\n",
    "pipe = pipeline(session, candidate_class, config)"
   ]
  },
  {
   "cell_type": "code",
   "execution_count": null,
   "metadata": {
    "collapsed": false,
    "scrolled": false
   },
   "outputs": [],
   "source": [
    "%time pipe.parse()"
   ]
  },
  {
   "cell_type": "code",
   "execution_count": null,
   "metadata": {
    "collapsed": false,
    "scrolled": true
   },
   "outputs": [],
   "source": [
    "%time pipe.extract()"
   ]
  },
  {
   "cell_type": "code",
   "execution_count": null,
   "metadata": {
    "collapsed": false,
    "scrolled": true
   },
   "outputs": [],
   "source": [
    "%time pipe.load_gold()"
   ]
  },
  {
   "cell_type": "code",
   "execution_count": 5,
   "metadata": {
    "collapsed": false,
    "scrolled": false
   },
   "outputs": [
    {
     "name": "stdout",
     "output_type": "stream",
     "text": [
      "Building list of target candidate ids...\n",
      "Collected 30 unique target candidate ids from 61 explanations.\n",
      "Gathering desired candidates...\n",
      "Could not find 30 target candidates with the following stable_ids (first 5):\n",
      "(0, '28582422::span:437:441~~28582422::span:381:386')\n",
      "(1, '28582422::span:886:890~~28582422::span:829:834')\n",
      "(2, '24275654::span:282:285~~24275654::span:194:199')\n",
      "(3, '24275654::span:1313:1325~~24275654::span:1259:1264')\n",
      "(4, '28582422::span:842:850~~28582422::span:829:834')\n",
      "Found 0/30 desired candidates\n",
      "Linking explanations to candidates...\n",
      "Linked 0/61 explanations\n",
      "Linking candidates...\n",
      "Building list of target candidate ids...\n",
      "Collected 30 unique target candidate ids from 61 explanations.\n",
      "Gathering desired candidates...\n",
      "Could not find 30 target candidates with the following stable_ids (first 5):\n",
      "(0, '28582422::span:437:441~~28582422::span:381:386')\n",
      "(1, '28582422::span:886:890~~28582422::span:829:834')\n",
      "(2, '24275654::span:282:285~~24275654::span:194:199')\n",
      "(3, '24275654::span:1313:1325~~24275654::span:1259:1264')\n",
      "(4, '28582422::span:842:850~~28582422::span:829:834')\n",
      "Found 0/30 desired candidates\n",
      "Linking explanations to candidates...\n",
      "Linked 0/61 explanations\n",
      "Calling babbler...\n",
      "Created grammar with 480 rules\n",
      "74 parses created from 47 out of 61 explanation(s)\n",
      "Parsed 74 LFs from 61 explanations.\n",
      "Filtered to 50 LFs with duplicate semantics filter (24 filtered).\n",
      "Note: 50 LFs did not have candidates and therefore could not be filtered.\n",
      "Filtered to 50 LFs with consistency filter (0 filtered).\n",
      "Clearing existing...\n",
      "Running UDF...\n",
      "[========================================] 100%\n",
      "\n",
      "> /Users/bradenjh/repos/snorkel/snorkel/contrib/babble/babble.py(158)filter_uniform_signatures()\n",
      "-> self.label_matrix = self.label_matrix[:, non_uniform]\n",
      "(Pdb) self.label_matrix.shape\n",
      "(9, 50)\n",
      "(Pdb) c\n",
      "Filtered to 0 LFs with uniform signatures filter (50 filtered).\n",
      "Filtered to 0 LFs with duplicate signatures filter (0 filtered).\n",
      "CPU times: user 5.01 s, sys: 391 ms, total: 5.4 s\n",
      "Wall time: 15 s\n"
     ]
    }
   ],
   "source": [
    "%time pipe.collect()"
   ]
  },
  {
   "cell_type": "code",
   "execution_count": null,
   "metadata": {
    "collapsed": false
   },
   "outputs": [],
   "source": [
    "%time pipe.label()"
   ]
  },
  {
   "cell_type": "code",
   "execution_count": null,
   "metadata": {
    "collapsed": false,
    "scrolled": false
   },
   "outputs": [],
   "source": [
    "%time pipe.supervise()"
   ]
  },
  {
   "cell_type": "code",
   "execution_count": null,
   "metadata": {
    "collapsed": false,
    "scrolled": true
   },
   "outputs": [],
   "source": [
    "%time pipe.classify()"
   ]
  },
  {
   "cell_type": "code",
   "execution_count": null,
   "metadata": {
    "collapsed": true
   },
   "outputs": [],
   "source": []
  }
 ],
 "metadata": {
  "kernelspec": {
   "display_name": "Python 2",
   "language": "python",
   "name": "python2"
  },
  "language_info": {
   "codemirror_mode": {
    "name": "ipython",
    "version": 2
   },
   "file_extension": ".py",
   "mimetype": "text/x-python",
   "name": "python",
   "nbconvert_exporter": "python",
   "pygments_lexer": "ipython2",
   "version": "2.7.13"
  }
 },
 "nbformat": 4,
 "nbformat_minor": 2
}
