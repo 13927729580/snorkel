{
 "cells": [
  {
   "cell_type": "markdown",
   "metadata": {},
   "source": [
    "# polarity"
   ]
  },
  {
   "cell_type": "markdown",
   "metadata": {},
   "source": [
    "## Setup"
   ]
  },
  {
   "cell_type": "code",
   "execution_count": 1,
   "metadata": {
    "collapsed": false
   },
   "outputs": [],
   "source": [
    "%load_ext autoreload\n",
    "%autoreload 2\n",
    "%matplotlib inline\n",
    "\n",
    "import os\n",
    "import sys\n",
    "sys.path.append(os.environ['SNORKELHOME'] + '/tutorials/tables/')"
   ]
  },
  {
   "cell_type": "markdown",
   "metadata": {},
   "source": [
    "## Clearing db"
   ]
  },
  {
   "cell_type": "code",
   "execution_count": 2,
   "metadata": {
    "collapsed": true
   },
   "outputs": [],
   "source": [
    "from snorkel.models.meta import clear_database\n",
    "clear_database()"
   ]
  },
  {
   "cell_type": "markdown",
   "metadata": {},
   "source": [
    "## Parsing"
   ]
  },
  {
   "cell_type": "code",
   "execution_count": 3,
   "metadata": {
    "collapsed": true
   },
   "outputs": [],
   "source": [
    "from snorkel import SnorkelSession\n",
    "session = SnorkelSession()"
   ]
  },
  {
   "cell_type": "markdown",
   "metadata": {},
   "source": [
    "### Define Parser"
   ]
  },
  {
   "cell_type": "code",
   "execution_count": 4,
   "metadata": {
    "collapsed": true
   },
   "outputs": [],
   "source": [
    "import os\n",
    "from snorkel.parser import CorpusParser, HTMLParser, OmniParser\n",
    "from snorkel.utils import get_ORM_instance\n",
    "from snorkel.queries import split_corpus\n",
    "\n",
    "docs_path = os.environ['SNORKELHOME'] + '/tutorials/tables/data/hardware/hardware100_html/'\n",
    "pdf_path = os.environ['SNORKELHOME'] + '/tutorials/tables/data/hardware/hardware100_pdf/'\n",
    "doc_parser = HTMLParser(path=docs_path)\n",
    "context_parser = OmniParser(pdf_path=pdf_path, visual=True, session=session)\n",
    "cp = CorpusParser(doc_parser, context_parser, max_docs=10) "
   ]
  },
  {
   "cell_type": "markdown",
   "metadata": {},
   "source": [
    "### Run Parser"
   ]
  },
  {
   "cell_type": "code",
   "execution_count": 5,
   "metadata": {
    "collapsed": false,
    "scrolled": true
   },
   "outputs": [
    {
     "name": "stdout",
     "output_type": "stream",
     "text": [
      "[========================================] 100%\n",
      "CPU times: user 4.34 s, sys: 184 ms, total: 4.53 s\n",
      "Wall time: 15.9 s\n"
     ]
    }
   ],
   "source": [
    "%time corpus = cp.parse_corpus(name='Hardware', session=session)\n",
    "\n",
    "session.add(corpus)\n",
    "session.commit()"
   ]
  },
  {
   "cell_type": "markdown",
   "metadata": {},
   "source": [
    "### Split Corpus"
   ]
  },
  {
   "cell_type": "code",
   "execution_count": 6,
   "metadata": {
    "collapsed": false
   },
   "outputs": [
    {
     "name": "stdout",
     "output_type": "stream",
     "text": [
      "6 Documents added to corpus Hardware Training\n",
      "4 Documents added to corpus Hardware Development\n"
     ]
    }
   ],
   "source": [
    "from snorkel.models import Corpus\n",
    "\n",
    "corpus = get_ORM_instance(Corpus, session, 'Hardware')\n",
    "split_corpus(session, corpus, train=0.6, development=0.4, test=0, seed=3)"
   ]
  },
  {
   "cell_type": "markdown",
   "metadata": {},
   "source": [
    "## Extraction"
   ]
  },
  {
   "cell_type": "code",
   "execution_count": 7,
   "metadata": {
    "collapsed": false
   },
   "outputs": [],
   "source": [
    "from snorkel.models import candidate_subclass\n",
    "\n",
    "Part_Polarity = candidate_subclass('Part_Polarity', ['part','polarity'])"
   ]
  },
  {
   "cell_type": "markdown",
   "metadata": {},
   "source": [
    "### Define Matchers"
   ]
  },
  {
   "cell_type": "code",
   "execution_count": 8,
   "metadata": {
    "collapsed": true
   },
   "outputs": [],
   "source": [
    "from snorkel.matchers import RegexMatchSpan, Union\n",
    "\n",
    "eeca_matcher = RegexMatchSpan(rgx='([b]{1}[abcdefklnpqruyz]{1}[\\swxyz]?[0-9]{3,5}[\\s]?[A-Z\\/]{0,5}[0-9]?[A-Z]?([-][A-Z0-9]{1,7})?([-][A-Z0-9]{1,2})?)')\n",
    "jedec_matcher = RegexMatchSpan(rgx='([123]N\\d{3,4}[A-Z]{0,5}[0-9]?[A-Z]?)')\n",
    "jis_matcher = RegexMatchSpan(rgx='(2S[abcdefghjkmqrstvz]{1}[\\d]{2,4})')\n",
    "others_matcher = RegexMatchSpan(rgx='((NSVBC|SMBT|MJ|MJE|MPS|MRF|RCA|TIP|ZTX|ZT|TIS|TIPL|DTC|MMBT|PZT){1}[\\d]{2,4}[A-Z]{0,3}([-][A-Z0-9]{0,6})?([-][A-Z0-9]{0,1})?)')\n",
    "parts_matcher = Union(eeca_matcher, jedec_matcher, jis_matcher, others_matcher)\n",
    "\n",
    "polarity_matcher = RegexMatchSpan(rgx=r'(pnp|npn)', ignore_case=True)"
   ]
  },
  {
   "cell_type": "markdown",
   "metadata": {},
   "source": [
    "### Define ContextSpaces"
   ]
  },
  {
   "cell_type": "code",
   "execution_count": 9,
   "metadata": {
    "collapsed": false
   },
   "outputs": [],
   "source": [
    "from snorkel.candidates import OmniNgrams\n",
    "from hardware_utils import OmniNgramsPart, get_gold_dict\n",
    "from collections import defaultdict\n",
    "import os\n",
    "\n",
    "# Make parts list\n",
    "gold_file = os.environ['SNORKELHOME'] + '/tutorials/tables/data/hardware/hardware_gold.csv'\n",
    "gold_parts = get_gold_dict(gold_file, doc_on=True, part_on=True, val_on=False)\n",
    "parts_by_doc = defaultdict(set)\n",
    "for part in gold_parts:\n",
    "    parts_by_doc[part[0]].add(part[1])\n",
    "\n",
    "part_ngrams = OmniNgramsPart(n_max=3, parts_by_doc=None) # NOTE: linking is turned off\n",
    "polarity_ngrams = OmniNgrams(n_max=1)"
   ]
  },
  {
   "cell_type": "markdown",
   "metadata": {},
   "source": [
    "### Run CandidateExtractor"
   ]
  },
  {
   "cell_type": "code",
   "execution_count": 10,
   "metadata": {
    "collapsed": false
   },
   "outputs": [
    {
     "name": "stdout",
     "output_type": "stream",
     "text": [
      "Extracting Candidates from Corpus (Hardware Training)\n",
      "[========================================] 100%\n",
      "CPU times: user 804 ms, sys: 4 ms, total: 808 ms\n",
      "Wall time: 993 ms\n",
      "Candidate Set (Hardware Training Candidates) contains 399 Candidates\n",
      "Extracting Candidates from Corpus (Hardware Development)\n",
      "[========================================] 100%\n",
      "CPU times: user 428 ms, sys: 16 ms, total: 444 ms\n",
      "Wall time: 526 ms\n",
      "Candidate Set (Hardware Development Candidates) contains 130 Candidates\n"
     ]
    }
   ],
   "source": [
    "from snorkel.models import Corpus\n",
    "from snorkel.candidates import CandidateExtractor\n",
    "from snorkel.utils import get_ORM_instance\n",
    "ce = CandidateExtractor(Part_Polarity, \n",
    "                        [part_ngrams, polarity_ngrams], \n",
    "                        [parts_matcher, polarity_matcher], \n",
    "                        throttler=None)\n",
    "\n",
    "for corpus_name in ['Hardware Training', 'Hardware Development']:\n",
    "    corpus = get_ORM_instance(Corpus, session, corpus_name)\n",
    "    print \"Extracting Candidates from %s\" % corpus\n",
    "    %time candidates = ce.extract(\\\n",
    "        corpus.documents, corpus_name + ' Candidates', session)\n",
    "    session.add(candidates)\n",
    "    print \"%s contains %d Candidates\" % (candidates, len(candidates))\n",
    "session.commit()"
   ]
  },
  {
   "cell_type": "markdown",
   "metadata": {},
   "source": [
    "### Assess Recall"
   ]
  },
  {
   "cell_type": "code",
   "execution_count": 11,
   "metadata": {
    "collapsed": false
   },
   "outputs": [
    {
     "name": "stdout",
     "output_type": "stream",
     "text": [
      "Preparing candidates...\n",
      "[========================================] 100%\n",
      "========================================\n",
      "Scoring on Entity-Level Total Recall\n",
      "========================================\n",
      "Entity-level Candidates extracted: 93 \n",
      "Entity-level Gold: 829\n",
      "Intersection Candidates: 52\n",
      "----------------------------------------\n",
      "Overlap with Gold:  0.0627\n",
      "========================================\n",
      "\n"
     ]
    }
   ],
   "source": [
    "from snorkel.models import Candidate\n",
    "from hardware_utils import entity_level_total_recall\n",
    "\n",
    "all_candidates = session.query(Candidate).all()\n",
    "gold_file = os.environ['SNORKELHOME'] + '/tutorials/tables/data/hardware/hardware_gold.csv'\n",
    "(tp, fp, fn) = entity_level_total_recall(\n",
    "    all_candidates, gold_file, 'polarity', relation=True)"
   ]
  },
  {
   "cell_type": "code",
   "execution_count": 12,
   "metadata": {
    "collapsed": false
   },
   "outputs": [
    {
     "name": "stdout",
     "output_type": "stream",
     "text": [
      "set([('112823', 'BC546', 'NPN'),\n",
      "     ('112823', 'BC546B', 'NPN'),\n",
      "     ('112823', 'BC546BG', 'NPN'),\n",
      "     ('112823', 'BC546BRL1', 'NPN'),\n",
      "     ('112823', 'BC546BRL1G', 'NPN'),\n",
      "     ('112823', 'BC546BZL1G', 'NPN'),\n",
      "     ('112823', 'BC547', 'NPN'),\n",
      "     ('112823', 'BC547A', 'NPN'),\n",
      "     ('112823', 'BC547ARL', 'NPN'),\n",
      "     ('112823', 'BC547ARLG', 'NPN'),\n",
      "     ('112823', 'BC547AZL1G', 'NPN'),\n",
      "     ('112823', 'BC547B', 'NPN'),\n",
      "     ('112823', 'BC547BG', 'NPN'),\n",
      "     ('112823', 'BC547BRL1G', 'NPN'),\n",
      "     ('112823', 'BC547BZL1G', 'NPN'),\n",
      "     ('112823', 'BC547C', 'NPN'),\n",
      "     ('112823', 'BC547CG', 'NPN'),\n",
      "     ('112823', 'BC547CZL1G', 'NPN'),\n",
      "     ('112823', 'BC548', 'NPN'),\n",
      "     ('112823', 'BC548B', 'NPN'),\n",
      "     ('112823', 'BC548BG', 'NPN'),\n",
      "     ('112823', 'BC548BRL1G', 'NPN'),\n",
      "     ('112823', 'BC548BZL1G', 'NPN'),\n",
      "     ('112823', 'BC548C', 'NPN'),\n",
      "     ('112823', 'BC548CG', 'NPN'),\n",
      "     ('112823', 'BC548CZL1G', 'NPN'),\n",
      "     ('2N3906', '2N3906', 'PNP'),\n",
      "     ('2N3906', '2N3906BU', 'PNP'),\n",
      "     ('2N3906', '2N3906TA', 'PNP'),\n",
      "     ('2N3906', '2N3906TAR', 'PNP'),\n",
      "     ('2N3906', '2N3906TF', 'PNP'),\n",
      "     ('2N3906', '2N3906TFR', 'PNP'),\n",
      "     ('2N3906', 'MMBT3906', 'PNP'),\n",
      "     ('2N3906', 'PZT3906', 'PNP'),\n",
      "     ('2N3906-D', '2N3906', 'PNP'),\n",
      "     ('2N3906-D', '2N3906G', 'PNP'),\n",
      "     ('2N3906-D', '2N3906RL1', 'PNP'),\n",
      "     ('2N3906-D', '2N3906RL1G', 'PNP'),\n",
      "     ('2N3906-D', '2N3906RLRA', 'PNP'),\n",
      "     ('2N3906-D', '2N3906RLRAG', 'PNP'),\n",
      "     ('2N3906-D', '2N3906RLRM', 'PNP'),\n",
      "     ('2N3906-D', '2N3906RLRMG', 'PNP'),\n",
      "     ('2N3906-D', '2N3906RLRP', 'PNP'),\n",
      "     ('2N3906-D', '2N3906RLRPG', 'PNP'),\n",
      "     ('2N4123-D', '2N4123', 'NPN'),\n",
      "     ('2N4123-D', '2N4123RLRM', 'NPN'),\n",
      "     ('2N4123-D', '2N4124', 'NPN'),\n",
      "     ('2N4123-D', '2N4124G', 'NPN'),\n",
      "     ('2N4124', '2N4124', 'NPN'),\n",
      "     ('2N4124', 'MMBT4124', 'NPN'),\n",
      "     ('2N6426-D', '2N6426', 'NPN'),\n",
      "     ('2N6426-D', '2N6426G', 'NPN'),\n",
      "     ('2N6426-D', '2N6426RLRAG', 'NPN'),\n",
      "     ('2N6426-D', '2N6427', 'NPN'),\n",
      "     ('2N6426-D', '2N6427G', 'NPN'),\n",
      "     ('2N6426-D', '2N6427RLRAG', 'NPN'),\n",
      "     ('2N6427', '2N6427', 'NPN'),\n",
      "     ('2N6427', 'MMBT6427', 'NPN'),\n",
      "     ('AUKCS04635-1', '2N3906', 'PNP'),\n",
      "     ('BC182', 'BC182', 'NPN'),\n",
      "     ('BC337', 'BC337', 'NPN'),\n",
      "     ('BC337', 'BC337-16', 'NPN'),\n",
      "     ('BC337', 'BC337-25', 'NPN'),\n",
      "     ('BC337', 'BC337-40', 'NPN'),\n",
      "     ('BC337', 'BC33716BU', 'NPN'),\n",
      "     ('BC337', 'BC33716TA', 'NPN'),\n",
      "     ('BC337', 'BC33716TFR', 'NPN'),\n",
      "     ('BC337', 'BC33725BU', 'NPN'),\n",
      "     ('BC337', 'BC33725TA', 'NPN'),\n",
      "     ('BC337', 'BC33725TAR', 'NPN'),\n",
      "     ('BC337', 'BC33725TF', 'NPN'),\n",
      "     ('BC337', 'BC33725TFR', 'NPN'),\n",
      "     ('BC337', 'BC33740TA', 'NPN'),\n",
      "     ('BC337', 'BC338', 'NPN'),\n",
      "     ('BC337', 'BC338-25', 'NPN'),\n",
      "     ('BC337', 'BC33825TA', 'NPN'),\n",
      "     ('BC337-D', 'BC337', 'NPN'),\n",
      "     ('BC337-D', 'BC337-025G', 'NPN'),\n",
      "     ('BC337-D', 'BC337-040G', 'NPN'),\n",
      "     ('BC337-D', 'BC337-25', 'NPN'),\n",
      "     ('BC337-D', 'BC337-25RL1G', 'NPN'),\n",
      "     ('BC337-D', 'BC337-25RLRAG', 'NPN'),\n",
      "     ('BC337-D', 'BC337-25ZL1G', 'NPN'),\n",
      "     ('BC337-D', 'BC337-40', 'NPN'),\n",
      "     ('BC337-D', 'BC337-40RL1G', 'NPN'),\n",
      "     ('BC337-D', 'BC337-40ZL1G', 'NPN'),\n",
      "     ('BC337-D', 'BC337G', 'NPN'),\n",
      "     ('BC337-D', 'BC337RL1G', 'NPN'),\n",
      "     ('BC546', 'BC546', 'NPN'),\n",
      "     ('BC546', 'BC546A', 'NPN'),\n",
      "     ('BC546', 'BC546ABU', 'NPN'),\n",
      "     ('BC546', 'BC546ATA', 'NPN'),\n",
      "     ('BC546', 'BC546B', 'NPN'),\n",
      "     ('BC546', 'BC546BTA', 'NPN'),\n",
      "     ('BC546', 'BC546BTF', 'NPN'),\n",
      "     ('BC546', 'BC546C', 'NPN'),\n",
      "     ('BC546', 'BC546CTA', 'NPN'),\n",
      "     ('BC546', 'BC547', 'NPN'),\n",
      "     ('BC546', 'BC547A', 'NPN'),\n",
      "     ('BC546', 'BC547ATA', 'NPN'),\n",
      "     ('BC546', 'BC547B', 'NPN'),\n",
      "     ('BC546', 'BC547BBU', 'NPN'),\n",
      "     ('BC546', 'BC547BTA', 'NPN'),\n",
      "     ('BC546', 'BC547BTF', 'NPN'),\n",
      "     ('BC546', 'BC547C', 'NPN'),\n",
      "     ('BC546', 'BC547CBU', 'NPN'),\n",
      "     ('BC546', 'BC547CTA', 'NPN'),\n",
      "     ('BC546', 'BC547CTFR', 'NPN'),\n",
      "     ('BC546', 'BC548', 'NPN'),\n",
      "     ('BC546', 'BC548B', 'NPN'),\n",
      "     ('BC546', 'BC548BTA', 'NPN'),\n",
      "     ('BC546', 'BC548BU', 'NPN'),\n",
      "     ('BC546', 'BC548C', 'NPN'),\n",
      "     ('BC546', 'BC548CTA', 'NPN'),\n",
      "     ('BC546', 'BC549', 'NPN'),\n",
      "     ('BC546', 'BC549B', 'NPN'),\n",
      "     ('BC546', 'BC549BTA', 'NPN'),\n",
      "     ('BC546', 'BC549BTF', 'NPN'),\n",
      "     ('BC546', 'BC549C', 'NPN'),\n",
      "     ('BC546', 'BC549CTA', 'NPN'),\n",
      "     ('BC546', 'BC550', 'NPN'),\n",
      "     ('BC546', 'BC550C', 'NPN'),\n",
      "     ('BC546', 'BC550CBU', 'NPN'),\n",
      "     ('BC546', 'BC550CTA', 'NPN'),\n",
      "     ('BC546-BC548C(TO-92)', 'BC546', 'NPN'),\n",
      "     ('BC546-BC548C(TO-92)', 'BC546B', 'NPN'),\n",
      "     ('BC546-BC548C(TO-92)', 'BC547', 'NPN'),\n",
      "     ('BC546-BC548C(TO-92)', 'BC547A', 'NPN'),\n",
      "     ('BC546-BC548C(TO-92)', 'BC547B', 'NPN'),\n",
      "     ('BC546-BC548C(TO-92)', 'BC547C', 'NPN'),\n",
      "     ('BC546-BC548C(TO-92)', 'BC548', 'NPN'),\n",
      "     ('BC546-BC548C(TO-92)', 'BC548A', 'NPN'),\n",
      "     ('BC546-BC548C(TO-92)', 'BC548B', 'NPN'),\n",
      "     ('BC546-BC548C(TO-92)', 'BC548C', 'NPN'),\n",
      "     ('BC546-D', 'BC546', 'NPN'),\n",
      "     ('BC546-D', 'BC546B', 'NPN'),\n",
      "     ('BC546-D', 'BC546BG', 'NPN'),\n",
      "     ('BC546-D', 'BC546BRL1', 'NPN'),\n",
      "     ('BC546-D', 'BC546BRL1G', 'NPN'),\n",
      "     ('BC546-D', 'BC546BZL1G', 'NPN'),\n",
      "     ('BC546-D', 'BC547', 'NPN'),\n",
      "     ('BC546-D', 'BC547A', 'NPN'),\n",
      "     ('BC546-D', 'BC547ARL', 'NPN'),\n",
      "     ('BC546-D', 'BC547ARLG', 'NPN'),\n",
      "     ('BC546-D', 'BC547AZL1G', 'NPN'),\n",
      "     ('BC546-D', 'BC547B', 'NPN'),\n",
      "     ('BC546-D', 'BC547BG', 'NPN'),\n",
      "     ('BC546-D', 'BC547BRL1G', 'NPN'),\n",
      "     ('BC546-D', 'BC547BZL1G', 'NPN'),\n",
      "     ('BC546-D', 'BC547C', 'NPN'),\n",
      "     ('BC546-D', 'BC547CG', 'NPN'),\n",
      "     ('BC546-D', 'BC547CZL1G', 'NPN'),\n",
      "     ('BC546-D', 'BC548', 'NPN'),\n",
      "     ('BC546-D', 'BC548B', 'NPN'),\n",
      "     ('BC546-D', 'BC548BG', 'NPN'),\n",
      "     ('BC546-D', 'BC548BRL1G', 'NPN'),\n",
      "     ('BC546-D', 'BC548BZL1G', 'NPN'),\n",
      "     ('BC546-D', 'BC548C', 'NPN'),\n",
      "     ('BC546-D', 'BC548CG', 'NPN'),\n",
      "     ('BC546-D', 'BC548CZL1G', 'NPN'),\n",
      "     ('BC546A_SERIES_B14-521026', 'BC546', 'NPN'),\n",
      "     ('BC546A_SERIES_B14-521026', 'BC546A', 'NPN'),\n",
      "     ('BC546A_SERIES_B14-521026', 'BC546B', 'NPN'),\n",
      "     ('BC546A_SERIES_B14-521026', 'BC546C', 'NPN'),\n",
      "     ('BC546A_SERIES_B14-521026', 'BC547', 'NPN'),\n",
      "     ('BC546A_SERIES_B14-521026', 'BC547A', 'NPN'),\n",
      "     ('BC546A_SERIES_B14-521026', 'BC547B', 'NPN'),\n",
      "     ('BC546A_SERIES_B14-521026', 'BC547C', 'NPN'),\n",
      "     ('BC546A_SERIES_B14-521026', 'BC548', 'NPN'),\n",
      "     ('BC546A_SERIES_B14-521026', 'BC548A', 'NPN'),\n",
      "     ('BC546A_SERIES_B14-521026', 'BC548B', 'NPN'),\n",
      "     ('BC546A_SERIES_B14-521026', 'BC548C', 'NPN'),\n",
      "     ('BC546A_SERIES_B14-521026', 'BC549', 'NPN'),\n",
      "     ('BC546A_SERIES_B14-521026', 'BC549A', 'NPN'),\n",
      "     ('BC546A_SERIES_B14-521026', 'BC549B', 'NPN'),\n",
      "     ('BC546A_SERIES_B14-521026', 'BC549C', 'NPN'),\n",
      "     ('BC546A_SERIES_B14-521026', 'BC550', 'NPN'),\n",
      "     ('BC546A_SERIES_B14-521026', 'BC550A', 'NPN'),\n",
      "     ('BC546A_SERIES_B14-521026', 'BC550B', 'NPN'),\n",
      "     ('BC546A_SERIES_B14-521026', 'BC550C', 'NPN'),\n",
      "     ('BC546_DIOTEC', 'BC546', 'NPN'),\n",
      "     ('BC546_DIOTEC', 'BC546A', 'NPN'),\n",
      "     ('BC546_DIOTEC', 'BC546B', 'NPN'),\n",
      "     ('BC546_DIOTEC', 'BC547', 'NPN'),\n",
      "     ('BC546_DIOTEC', 'BC547A', 'NPN'),\n",
      "     ('BC546_DIOTEC', 'BC547B', 'NPN'),\n",
      "     ('BC546_DIOTEC', 'BC547C', 'NPN'),\n",
      "     ('BC546_DIOTEC', 'BC548', 'NPN'),\n",
      "     ('BC546_DIOTEC', 'BC548A', 'NPN'),\n",
      "     ('BC546_DIOTEC', 'BC548B', 'NPN'),\n",
      "     ('BC546_DIOTEC', 'BC548C', 'NPN'),\n",
      "     ('BC546_DIOTEC', 'BC549', 'NPN'),\n",
      "     ('BC546_DIOTEC', 'BC549B', 'NPN'),\n",
      "     ('BC546_DIOTEC', 'BC549C', 'NPN'),\n",
      "     ('BC547', 'BC546', 'NPN'),\n",
      "     ('BC547', 'BC546A', 'NPN'),\n",
      "     ('BC547', 'BC546ABU', 'NPN'),\n",
      "     ('BC547', 'BC546ATA', 'NPN'),\n",
      "     ('BC547', 'BC546B', 'NPN'),\n",
      "     ('BC547', 'BC546BTA', 'NPN'),\n",
      "     ('BC547', 'BC546BTF', 'NPN'),\n",
      "     ('BC547', 'BC546C', 'NPN'),\n",
      "     ('BC547', 'BC546CTA', 'NPN'),\n",
      "     ('BC547', 'BC547', 'NPN'),\n",
      "     ('BC547', 'BC547A', 'NPN'),\n",
      "     ('BC547', 'BC547ATA', 'NPN'),\n",
      "     ('BC547', 'BC547B', 'NPN'),\n",
      "     ('BC547', 'BC547BBU', 'NPN'),\n",
      "     ('BC547', 'BC547BTA', 'NPN'),\n",
      "     ('BC547', 'BC547BTF', 'NPN'),\n",
      "     ('BC547', 'BC547C', 'NPN'),\n",
      "     ('BC547', 'BC547CBU', 'NPN'),\n",
      "     ('BC547', 'BC547CTA', 'NPN'),\n",
      "     ('BC547', 'BC547CTFR', 'NPN'),\n",
      "     ('BC547', 'BC548', 'NPN'),\n",
      "     ('BC547', 'BC548B', 'NPN'),\n",
      "     ('BC547', 'BC548BTA', 'NPN'),\n",
      "     ('BC547', 'BC548C', 'NPN'),\n",
      "     ('BC547', 'BC548CTA', 'NPN'),\n",
      "     ('BC547', 'BC549', 'NPN'),\n",
      "     ('BC547', 'BC549B', 'NPN'),\n",
      "     ('BC547', 'BC549BTA', 'NPN'),\n",
      "     ('BC547', 'BC549BTF', 'NPN'),\n",
      "     ('BC547', 'BC549C', 'NPN'),\n",
      "     ('BC547', 'BC549CTA', 'NPN'),\n",
      "     ('BC547', 'BC550', 'NPN'),\n",
      "     ('BC547', 'BC550C', 'NPN'),\n",
      "     ('BC547', 'BC550CBU', 'NPN'),\n",
      "     ('BC547', 'BC550CTA', 'NPN'),\n",
      "     ('BC550', 'BC546', 'NPN'),\n",
      "     ('BC550', 'BC546A', 'NPN'),\n",
      "     ('BC550', 'BC546B', 'NPN'),\n",
      "     ('BC550', 'BC546C', 'NPN'),\n",
      "     ('BC550', 'BC547', 'NPN'),\n",
      "     ('BC550', 'BC547A', 'NPN'),\n",
      "     ('BC550', 'BC547B', 'NPN'),\n",
      "     ('BC550', 'BC547C', 'NPN'),\n",
      "     ('BC550', 'BC548', 'NPN'),\n",
      "     ('BC550', 'BC548A', 'NPN'),\n",
      "     ('BC550', 'BC548B', 'NPN'),\n",
      "     ('BC550', 'BC548C', 'NPN'),\n",
      "     ('BC550', 'BC549', 'NPN'),\n",
      "     ('BC550', 'BC549A', 'NPN'),\n",
      "     ('BC550', 'BC549B', 'NPN'),\n",
      "     ('BC550', 'BC549C', 'NPN'),\n",
      "     ('BC550', 'BC550', 'NPN'),\n",
      "     ('BC550', 'BC550A', 'NPN'),\n",
      "     ('BC550', 'BC550B', 'NPN'),\n",
      "     ('BC550', 'BC550C', 'NPN'),\n",
      "     ('BC818', 'BC817', 'NPN'),\n",
      "     ('BC818', 'BC817-16', 'NPN'),\n",
      "     ('BC818', 'BC817-25', 'NPN'),\n",
      "     ('BC818', 'BC817-40', 'NPN'),\n",
      "     ('BC818', 'BC81716MTF', 'NPN'),\n",
      "     ('BC818', 'BC81725MTF', 'NPN'),\n",
      "     ('BC818', 'BC81740MTF', 'NPN'),\n",
      "     ('BC818', 'BC818', 'NPN'),\n",
      "     ('BC818', 'BC818-16', 'NPN'),\n",
      "     ('BC818', 'BC818-25', 'NPN'),\n",
      "     ('BC818', 'BC818-40', 'NPN'),\n",
      "     ('BC818', 'BC81816MTF', 'NPN'),\n",
      "     ('BC818', 'BC81825MTF', 'NPN'),\n",
      "     ('BC818', 'BC81840MTF', 'NPN'),\n",
      "     ('BC818-40LT1-D', 'BC818-40L', 'NPN'),\n",
      "     ('BC818-40LT1-D', 'BC818-40LT1G', 'NPN'),\n",
      "     ('BC818-40LT1-D', 'NSVBC818-40L', 'NPN'),\n",
      "     ('BC818-40LT1-D', 'NSVBC818-40LT1G', 'NPN'),\n",
      "     ('CSEMS02742-1', 'BC846', 'NPN'),\n",
      "     ('CSEMS02742-1', 'BC846A', 'NPN'),\n",
      "     ('CSEMS02742-1', 'BC846B', 'NPN'),\n",
      "     ('CSEMS02742-1', 'BC847', 'NPN'),\n",
      "     ('CSEMS02742-1', 'BC847A', 'NPN'),\n",
      "     ('CSEMS02742-1', 'BC847B', 'NPN'),\n",
      "     ('CSEMS02742-1', 'BC847C', 'NPN'),\n",
      "     ('CSEMS02742-1', 'BC848', 'NPN'),\n",
      "     ('CSEMS02742-1', 'BC848A', 'NPN'),\n",
      "     ('CSEMS02742-1', 'BC848B', 'NPN'),\n",
      "     ('CSEMS02742-1', 'BC848C', 'NPN'),\n",
      "     ('CSEMS03485-1', '2N3905', 'PNP'),\n",
      "     ('CSEMS03485-1', '2N3906', 'PNP'),\n",
      "     ('CSEMS05382-1', 'BC546', 'NPN'),\n",
      "     ('CSEMS05382-1', 'BC546A', 'NPN'),\n",
      "     ('CSEMS05382-1', 'BC546B', 'NPN'),\n",
      "     ('CSEMS05382-1', 'BC547', 'NPN'),\n",
      "     ('CSEMS05382-1', 'BC547A', 'NPN'),\n",
      "     ('CSEMS05382-1', 'BC547B', 'NPN'),\n",
      "     ('CSEMS05382-1', 'BC547C', 'NPN'),\n",
      "     ('CSEMS05382-1', 'BC548', 'NPN'),\n",
      "     ('CSEMS05382-1', 'BC548A', 'NPN'),\n",
      "     ('CSEMS05382-1', 'BC548B', 'NPN'),\n",
      "     ('CSEMS05382-1', 'BC548C', 'NPN'),\n",
      "     ('CSEMS05383-1', 'BC817', 'NPN'),\n",
      "     ('CSEMS05383-1', 'BC817-16', 'NPN'),\n",
      "     ('CSEMS05383-1', 'BC817-25', 'NPN'),\n",
      "     ('CSEMS05383-1', 'BC817-40', 'NPN'),\n",
      "     ('CSEMS05383-1', 'BC818', 'NPN'),\n",
      "     ('CSEMS05383-1', 'BC818-16', 'NPN'),\n",
      "     ('CSEMS05383-1', 'BC818-25', 'NPN'),\n",
      "     ('CSEMS05383-1', 'BC818-40', 'NPN'),\n",
      "     ('DIODS00215-1', '2N4124', 'NPN'),\n",
      "     ('DISES00023-1', '2N3906', 'PNP'),\n",
      "     ('DISES00189-1', 'BC546', 'NPN'),\n",
      "     ('DISES00189-1', 'BC546A', 'NPN'),\n",
      "     ('DISES00189-1', 'BC546B', 'NPN'),\n",
      "     ('DISES00189-1', 'BC547', 'NPN'),\n",
      "     ('DISES00189-1', 'BC547A', 'NPN'),\n",
      "     ('DISES00189-1', 'BC547B', 'NPN'),\n",
      "     ('DISES00189-1', 'BC547C', 'NPN'),\n",
      "     ('DISES00189-1', 'BC548', 'NPN'),\n",
      "     ('DISES00189-1', 'BC548A', 'NPN'),\n",
      "     ('DISES00189-1', 'BC548B', 'NPN'),\n",
      "     ('DISES00189-1', 'BC548C', 'NPN'),\n",
      "     ('DISES00189-1', 'BC549', 'NPN'),\n",
      "     ('DISES00189-1', 'BC549B', 'NPN'),\n",
      "     ('DISES00189-1', 'BC549C', 'NPN'),\n",
      "     ('DISES00192-1', 'BC807', 'PNP'),\n",
      "     ('DISES00192-1', 'BC807-16', 'PNP'),\n",
      "     ('DISES00192-1', 'BC807-25', 'PNP'),\n",
      "     ('DISES00192-1', 'BC807-40', 'PNP'),\n",
      "     ('DISES00192-1', 'BC808', 'PNP'),\n",
      "     ('DISES00192-1', 'BC808-16', 'PNP'),\n",
      "     ('DISES00192-1', 'BC808-25', 'PNP'),\n",
      "     ('DISES00192-1', 'BC808-40', 'PNP'),\n",
      "     ('DISES00242-1', 'MMBT3904', 'NPN'),\n",
      "     ('DISES00490-1', 'BC846AW', 'NPN'),\n",
      "     ('DISES00490-1', 'BC846BW', 'NPN'),\n",
      "     ('DISES00490-1', 'BC846W', 'NPN'),\n",
      "     ('DISES00490-1', 'BC847AW', 'NPN'),\n",
      "     ('DISES00490-1', 'BC847BW', 'NPN'),\n",
      "     ('DISES00490-1', 'BC847CW', 'NPN'),\n",
      "     ('DISES00490-1', 'BC847W', 'NPN'),\n",
      "     ('DISES00490-1', 'BC848AW', 'NPN'),\n",
      "     ('DISES00490-1', 'BC848BW', 'NPN'),\n",
      "     ('DISES00490-1', 'BC848CW', 'NPN'),\n",
      "     ('DISES00490-1', 'BC848W', 'NPN'),\n",
      "     ('DISES00490-1', 'BC849BW', 'NPN'),\n",
      "     ('DISES00490-1', 'BC849CW', 'NPN'),\n",
      "     ('DISES00490-1', 'BC849W', 'NPN'),\n",
      "     ('DISES00616-1', 'BC856', 'PNP'),\n",
      "     ('DISES00616-1', 'BC856A', 'PNP'),\n",
      "     ('DISES00616-1', 'BC856B', 'PNP'),\n",
      "     ('DISES00616-1', 'BC856C', 'PNP'),\n",
      "     ('DISES00616-1', 'BC857', 'PNP'),\n",
      "     ('DISES00616-1', 'BC857A', 'PNP'),\n",
      "     ('DISES00616-1', 'BC857B', 'PNP'),\n",
      "     ('DISES00616-1', 'BC857C', 'PNP'),\n",
      "     ('DISES00616-1', 'BC858', 'PNP'),\n",
      "     ('DISES00616-1', 'BC858A', 'PNP'),\n",
      "     ('DISES00616-1', 'BC858B', 'PNP'),\n",
      "     ('DISES00616-1', 'BC858C', 'PNP'),\n",
      "     ('DISES00616-1', 'BC859', 'PNP'),\n",
      "     ('DISES00616-1', 'BC859B', 'PNP'),\n",
      "     ('DISES00616-1', 'BC859C', 'PNP'),\n",
      "     ('DISES00616-1', 'BC860', 'PNP'),\n",
      "     ('DISES00616-1', 'BC860B', 'PNP'),\n",
      "     ('DISES00616-1', 'BC860C', 'PNP'),\n",
      "     ('DTC114W', 'DTC114W', 'NPN'),\n",
      "     ('DTC114W', 'DTC114WE', 'NPN'),\n",
      "     ('DTC114W', 'DTC114WKA', 'NPN'),\n",
      "     ('DTC114W', 'DTC114WUA', 'NPN'),\n",
      "     ('FAIRS19194-1', 'BC856A', 'PNP'),\n",
      "     ('FAIRS19194-1', 'BC856B', 'PNP'),\n",
      "     ('FAIRS19194-1', 'BC856C', 'PNP'),\n",
      "     ('FAIRS19194-1', 'BC857A', 'PNP'),\n",
      "     ('FAIRS19194-1', 'BC857B', 'PNP'),\n",
      "     ('FAIRS19194-1', 'BC857C', 'PNP'),\n",
      "     ('FAIRS19194-1', 'BC858A', 'PNP'),\n",
      "     ('FAIRS19194-1', 'BC858B', 'PNP'),\n",
      "     ('FAIRS19194-1', 'BC858C', 'PNP'),\n",
      "     ('FAIRS19194-1', 'BC859A', 'PNP'),\n",
      "     ('FAIRS19194-1', 'BC859B', 'PNP'),\n",
      "     ('FAIRS19194-1', 'BC859C', 'PNP'),\n",
      "     ('FAIRS19194-1', 'BC860A', 'PNP'),\n",
      "     ('FAIRS19194-1', 'BC860B', 'PNP'),\n",
      "     ('FAIRS19194-1', 'BC860C', 'PNP'),\n",
      "     ('FAIRS25065-1', 'BC237', 'NPN'),\n",
      "     ('FAIRS25065-1', 'BC237A', 'NPN'),\n",
      "     ('FAIRS25065-1', 'BC237B', 'NPN'),\n",
      "     ('FAIRS25065-1', 'BC237C', 'NPN'),\n",
      "     ('FAIRS25065-1', 'BC238', 'NPN'),\n",
      "     ('FAIRS25065-1', 'BC238A', 'NPN'),\n",
      "     ('FAIRS25065-1', 'BC238B', 'NPN'),\n",
      "     ('FAIRS25065-1', 'BC238C', 'NPN'),\n",
      "     ('FAIRS25065-1', 'BC239', 'NPN'),\n",
      "     ('FAIRS25065-1', 'BC239A', 'NPN'),\n",
      "     ('FAIRS25065-1', 'BC239B', 'NPN'),\n",
      "     ('FAIRS25065-1', 'BC239C', 'NPN'),\n",
      "     ('INFINEON-BC817KSERIES_BC818KSERIES-DS-V01_01-EN', 'BC817K', 'NPN'),\n",
      "     ('INFINEON-BC817KSERIES_BC818KSERIES-DS-V01_01-EN', 'BC817K-16', 'NPN'),\n",
      "     ('INFINEON-BC817KSERIES_BC818KSERIES-DS-V01_01-EN', 'BC817K-16W', 'NPN'),\n",
      "     ('INFINEON-BC817KSERIES_BC818KSERIES-DS-V01_01-EN', 'BC817K-25', 'NPN'),\n",
      "     ('INFINEON-BC817KSERIES_BC818KSERIES-DS-V01_01-EN', 'BC817K-25W', 'NPN'),\n",
      "     ('INFINEON-BC817KSERIES_BC818KSERIES-DS-V01_01-EN', 'BC817K-40', 'NPN'),\n",
      "     ('INFINEON-BC817KSERIES_BC818KSERIES-DS-V01_01-EN', 'BC817K-40W', 'NPN'),\n",
      "     ('INFINEON-BC817KSERIES_BC818KSERIES-DS-V01_01-EN', 'BC817KW', 'NPN'),\n",
      "     ('INFINEON-BC817KSERIES_BC818KSERIES-DS-V01_01-EN', 'BC818K', 'NPN'),\n",
      "     ('INFINEON-BC817KSERIES_BC818KSERIES-DS-V01_01-EN', 'BC818K-16W', 'NPN'),\n",
      "     ('INFINEON-BC817KSERIES_BC818KSERIES-DS-V01_01-EN', 'BC818K-40', 'NPN'),\n",
      "     ('INFINEON-BC817KSERIES_BC818KSERIES-DS-V01_01-EN', 'BC818KW', 'NPN'),\n",
      "     ('INFINEON-BC857SERIES_BC858SERIES_BC859SERIES_BC860SERIES-DS-V01_01-EN',\n",
      "      'BC857',\n",
      "      'PNP'),\n",
      "     ('INFINEON-BC857SERIES_BC858SERIES_BC859SERIES_BC860SERIES-DS-V01_01-EN',\n",
      "      'BC857A',\n",
      "      'PNP'),\n",
      "     ('INFINEON-BC857SERIES_BC858SERIES_BC859SERIES_BC860SERIES-DS-V01_01-EN',\n",
      "      'BC857B',\n",
      "      'PNP'),\n",
      "     ('INFINEON-BC857SERIES_BC858SERIES_BC859SERIES_BC860SERIES-DS-V01_01-EN',\n",
      "      'BC857BL3',\n",
      "      'PNP'),\n",
      "     ('INFINEON-BC857SERIES_BC858SERIES_BC859SERIES_BC860SERIES-DS-V01_01-EN',\n",
      "      'BC857BW',\n",
      "      'PNP'),\n",
      "     ('INFINEON-BC857SERIES_BC858SERIES_BC859SERIES_BC860SERIES-DS-V01_01-EN',\n",
      "      'BC857C',\n",
      "      'PNP'),\n",
      "     ('INFINEON-BC857SERIES_BC858SERIES_BC859SERIES_BC860SERIES-DS-V01_01-EN',\n",
      "      'BC857CW',\n",
      "      'PNP'),\n",
      "     ('INFINEON-BC857SERIES_BC858SERIES_BC859SERIES_BC860SERIES-DS-V01_01-EN',\n",
      "      'BC858',\n",
      "      'PNP'),\n",
      "     ('INFINEON-BC857SERIES_BC858SERIES_BC859SERIES_BC860SERIES-DS-V01_01-EN',\n",
      "      'BC858A',\n",
      "      'PNP'),\n",
      "     ('INFINEON-BC857SERIES_BC858SERIES_BC859SERIES_BC860SERIES-DS-V01_01-EN',\n",
      "      'BC858B',\n",
      "      'PNP'),\n",
      "     ('INFINEON-BC857SERIES_BC858SERIES_BC859SERIES_BC860SERIES-DS-V01_01-EN',\n",
      "      'BC858BW',\n",
      "      'PNP'),\n",
      "     ('INFINEON-BC857SERIES_BC858SERIES_BC859SERIES_BC860SERIES-DS-V01_01-EN',\n",
      "      'BC858C',\n",
      "      'PNP'),\n",
      "     ('INFINEON-BC857SERIES_BC858SERIES_BC859SERIES_BC860SERIES-DS-V01_01-EN',\n",
      "      'BC858CW',\n",
      "      'PNP'),\n",
      "     ('INFINEON-BC857SERIES_BC858SERIES_BC859SERIES_BC860SERIES-DS-V01_01-EN',\n",
      "      'BC859',\n",
      "      'PNP'),\n",
      "     ('INFINEON-BC857SERIES_BC858SERIES_BC859SERIES_BC860SERIES-DS-V01_01-EN',\n",
      "      'BC859C',\n",
      "      'PNP'),\n",
      "     ('INFINEON-BC857SERIES_BC858SERIES_BC859SERIES_BC860SERIES-DS-V01_01-EN',\n",
      "      'BC860',\n",
      "      'PNP'),\n",
      "     ('INFINEON-BC857SERIES_BC858SERIES_BC859SERIES_BC860SERIES-DS-V01_01-EN',\n",
      "      'BC860B',\n",
      "      'PNP'),\n",
      "     ('INFINEON-BC857SERIES_BC858SERIES_BC859SERIES_BC860SERIES-DS-V01_01-EN',\n",
      "      'BC860BW',\n",
      "      'PNP'),\n",
      "     ('INFINEON-BC857SERIES_BC858SERIES_BC859SERIES_BC860SERIES-DS-V01_01-EN',\n",
      "      'BC860CW',\n",
      "      'PNP'),\n",
      "     ('INFNS19372-1', 'MMBT3904', 'NPN'),\n",
      "     ('INFNS19372-1', 'SMBT3904', 'NPN'),\n",
      "     ('INFNS19372-1', 'SMBT3904S', 'NPN'),\n",
      "     ('JCSTS01155-1', '2N4124', 'NPN'),\n",
      "     ('KECCS03676-1', 'BC856', 'PNP'),\n",
      "     ('KECCS03676-1', 'BC856A', 'PNP'),\n",
      "     ('KECCS03676-1', 'BC856B', 'PNP'),\n",
      "     ('KECCS03676-1', 'BC857', 'PNP'),\n",
      "     ('KECCS03676-1', 'BC857A', 'PNP'),\n",
      "     ('KECCS03676-1', 'BC857B', 'PNP'),\n",
      "     ('KECCS03676-1', 'BC857C', 'PNP'),\n",
      "     ('KECCS03676-1', 'BC858', 'PNP'),\n",
      "     ('KECCS03676-1', 'BC858A', 'PNP'),\n",
      "     ('KECCS03676-1', 'BC858B', 'PNP'),\n",
      "     ('KECCS03676-1', 'BC858C', 'PNP'),\n",
      "     ('KECCS05435-1', 'BC546A', 'NPN'),\n",
      "     ('KECCS05435-1', 'BC546B', 'NPN'),\n",
      "     ('KECCS05435-1', 'BC547A', 'NPN'),\n",
      "     ('KECCS05435-1', 'BC547B', 'NPN'),\n",
      "     ('KECCS05435-1', 'BC547C', 'NPN'),\n",
      "     ('KECCS05435-1', 'BC548A', 'NPN'),\n",
      "     ('KECCS05435-1', 'BC548B', 'NPN'),\n",
      "     ('KECCS05435-1', 'BC548C', 'NPN'),\n",
      "     ('LITES00424-1', '2N3906', 'PNP'),\n",
      "     ('LITES00686-1', '2N4124', 'NPN'),\n",
      "     ('LITES00689-1', 'BC337', 'NPN'),\n",
      "     ('LITES00689-1', 'BC337-16', 'NPN'),\n",
      "     ('LITES00689-1', 'BC337-25', 'NPN'),\n",
      "     ('LITES00689-1', 'BC337-40', 'NPN'),\n",
      "     ('LITES00690-1', 'BC546', 'NPN'),\n",
      "     ('LITES00690-1', 'BC546A', 'NPN'),\n",
      "     ('LITES00690-1', 'BC546B', 'NPN'),\n",
      "     ('LITES00690-1', 'BC546C', 'NPN'),\n",
      "     ('LITES00690-1', 'BC547', 'NPN'),\n",
      "     ('LITES00690-1', 'BC547A', 'NPN'),\n",
      "     ('LITES00690-1', 'BC547B', 'NPN'),\n",
      "     ('LITES00690-1', 'BC547C', 'NPN'),\n",
      "     ('LITES00690-1', 'BC548', 'NPN'),\n",
      "     ('LITES00690-1', 'BC548A', 'NPN'),\n",
      "     ('LITES00690-1', 'BC548B', 'NPN'),\n",
      "     ('LITES00690-1', 'BC548C', 'NPN'),\n",
      "     ('LTSCS02910-1', 'BC818', 'NPN'),\n",
      "     ('LTSCS02910-1', 'BC818-16', 'NPN'),\n",
      "     ('LTSCS02910-1', 'BC818-25', 'NPN'),\n",
      "     ('LTSCS02910-1', 'BC818-40', 'NPN'),\n",
      "     ('LTSCS02912-1', 'BC846AW', 'NPN'),\n",
      "     ('LTSCS02912-1', 'BC846BW', 'NPN'),\n",
      "     ('LTSCS02912-1', 'BC846W', 'NPN'),\n",
      "     ('LTSCS02920-1', 'BC857', 'PNP'),\n",
      "     ('LTSCS02920-1', 'BC857A', 'PNP'),\n",
      "     ('LTSCS02920-1', 'BC857B', 'PNP'),\n",
      "     ('LTSCS02920-1', 'BC857C', 'PNP'),\n",
      "     ('MCCCS08610-1', '2N4123', 'NPN'),\n",
      "     ('MCCCS08610-1', '2N4124', 'NPN'),\n",
      "     ('MCCCS08984-1', 'MMBT3904', 'NPN'),\n",
      "     ('MCCCS09540-1', 'BC846', 'NPN'),\n",
      "     ('MCCCS09540-1', 'BC846A', 'NPN'),\n",
      "     ('MCCCS09540-1', 'BC846B', 'NPN'),\n",
      "     ('MCCCS09540-1', 'BC847', 'NPN'),\n",
      "     ('MCCCS09540-1', 'BC847A', 'NPN'),\n",
      "     ('MCCCS09540-1', 'BC847B', 'NPN'),\n",
      "     ('MCCCS09540-1', 'BC847C', 'NPN'),\n",
      "     ('MCCCS09540-1', 'BC848', 'NPN'),\n",
      "     ('MCCCS09540-1', 'BC848A', 'NPN'),\n",
      "     ('MCCCS09540-1', 'BC848B', 'NPN'),\n",
      "     ('MCCCS09540-1', 'BC848C', 'NPN'),\n",
      "     ('MCCCS09540-1', 'BC849', 'NPN'),\n",
      "     ('MCCCS09540-1', 'BC849B', 'NPN'),\n",
      "     ('MCCCS09540-1', 'BC849C', 'NPN'),\n",
      "     ('MINDS00015-1', '2N3904', 'NPN'),\n",
      "     ('MINDS00015-1', 'MMBT3904', 'NPN'),\n",
      "     ('MMMCS17742-1', 'BC807-16W', 'PNP'),\n",
      "     ('MMMCS17742-1', 'BC807-25W', 'PNP'),\n",
      "     ('MMMCS17742-1', 'BC807-40W', 'PNP'),\n",
      "     ('MOTOS03160-1', 'BC182', 'NPN'),\n",
      "     ('MOTOS03160-1', 'BC182A', 'NPN'),\n",
      "     ('MOTOS03160-1', 'BC182B', 'NPN'),\n",
      "     ('MOTOS03160-1', 'BC183', 'NPN'),\n",
      "     ('MOTOS03160-1', 'BC184', 'NPN'),\n",
      "     ('MOTOS03189-1', 'BC337', 'NPN'),\n",
      "     ('MOTOS03189-1', 'BC337-16', 'NPN'),\n",
      "     ('MOTOS03189-1', 'BC337-25', 'NPN'),\n",
      "     ('MOTOS03189-1', 'BC337-40', 'NPN'),\n",
      "     ('MOTOS03189-1', 'BC338', 'NPN'),\n",
      "     ('MOTOS03189-1', 'BC338-16', 'NPN'),\n",
      "     ('MOTOS03189-1', 'BC338-25', 'NPN'),\n",
      "     ('MOTOS03189-1', 'BC338-40', 'NPN'),\n",
      "     ('MOTOS04676-1', '2N4123', 'NPN'),\n",
      "     ('MOTOS04676-1', '2N4124', 'NPN'),\n",
      "     ('MOTOS04796-1', '2N6426', 'NPN'),\n",
      "     ('MOTOS04796-1', '2N6427', 'NPN'),\n",
      "     ('ONSMS04099-1', 'BC237', 'NPN'),\n",
      "     ('ONSMS04099-1', 'BC237A', 'NPN'),\n",
      "     ('ONSMS04099-1', 'BC237B', 'NPN'),\n",
      "     ('ONSMS04099-1', 'BC237C', 'NPN'),\n",
      "     ('ONSMS04099-1', 'BC238', 'NPN'),\n",
      "     ('ONSMS04099-1', 'BC238B', 'NPN'),\n",
      "     ('ONSMS04099-1', 'BC238C', 'NPN'),\n",
      "     ('ONSMS04099-1', 'BC239', 'NPN'),\n",
      "     ('ONSMS04099-1', 'BC239C', 'NPN'),\n",
      "     ('PHGLS18216-1', 'BC547', 'NPN'),\n",
      "     ('PHGLS18216-1', 'BC547B', 'NPN'),\n",
      "     ('PHGLS18216-1', 'BC547C', 'NPN'),\n",
      "     ('PHGLS18216-1', 'BC847', 'NPN'),\n",
      "     ('PHGLS18216-1', 'BC847A', 'NPN'),\n",
      "     ('PHGLS18216-1', 'BC847AM', 'NPN'),\n",
      "     ('PHGLS18216-1', 'BC847AT', 'NPN'),\n",
      "     ('PHGLS18216-1', 'BC847AT/DG', 'NPN'),\n",
      "     ('PHGLS18216-1', 'BC847AW', 'NPN'),\n",
      "     ('PHGLS18216-1', 'BC847B', 'NPN'),\n",
      "     ('PHGLS18216-1', 'BC847B/DG', 'NPN'),\n",
      "     ('PHGLS18216-1', 'BC847BM', 'NPN'),\n",
      "     ('PHGLS18216-1', 'BC847BT', 'NPN'),\n",
      "     ('PHGLS18216-1', 'BC847BW', 'NPN'),\n",
      "     ('PHGLS18216-1', 'BC847BW/DG', 'NPN'),\n",
      "     ('PHGLS18216-1', 'BC847C', 'NPN'),\n",
      "     ('PHGLS18216-1', 'BC847CM', 'NPN'),\n",
      "     ('PHGLS18216-1', 'BC847CT', 'NPN'),\n",
      "     ('PHGLS18216-1', 'BC847CW', 'NPN'),\n",
      "     ('PHGLS18216-1', 'BC847T', 'NPN'),\n",
      "     ('PHGLS18216-1', 'BC847W', 'NPN'),\n",
      "     ('PHGLS19500-1', 'MMBT3904', 'NPN'),\n",
      "     ('PHGLS20125-1', 'BC327', 'PNP'),\n",
      "     ('PHGLS20125-1', 'BC327-16', 'PNP'),\n",
      "     ('PHGLS20125-1', 'BC327-25', 'PNP'),\n",
      "     ('PHGLS20125-1', 'BC327-40', 'PNP'),\n",
      "     ('PHGLS20125-1', 'BC807', 'PNP'),\n",
      "     ('PHGLS20125-1', 'BC807-16', 'PNP'),\n",
      "     ('PHGLS20125-1', 'BC807-16W', 'PNP'),\n",
      "     ('PHGLS20125-1', 'BC807-25', 'PNP'),\n",
      "     ('PHGLS20125-1', 'BC807-25W', 'PNP'),\n",
      "     ('PHGLS20125-1', 'BC807-40', 'PNP'),\n",
      "     ('PHGLS20125-1', 'BC807-40W', 'PNP'),\n",
      "     ('PHGLS20125-1', 'BC807W', 'PNP'),\n",
      "     ('PHGLS20126-1', 'BC337', 'NPN'),\n",
      "     ('PHGLS20126-1', 'BC337-16', 'NPN'),\n",
      "     ('PHGLS20126-1', 'BC337-25', 'NPN'),\n",
      "     ('PHGLS20126-1', 'BC337-40', 'NPN'),\n",
      "     ('PHGLS20126-1', 'BC817', 'NPN'),\n",
      "     ('PHGLS20126-1', 'BC817-16', 'NPN'),\n",
      "     ('PHGLS20126-1', 'BC817-16W', 'NPN'),\n",
      "     ('PHGLS20126-1', 'BC817-25', 'NPN'),\n",
      "     ('PHGLS20126-1', 'BC817-25W', 'NPN'),\n",
      "     ('PHGLS20126-1', 'BC817-40', 'NPN'),\n",
      "     ('PHGLS20126-1', 'BC817-40W', 'NPN'),\n",
      "     ('PHGLS20126-1', 'BC817W', 'NPN'),\n",
      "     ('PHGLS20267-1', '2N4124', 'NPN'),\n",
      "     ('PHGLS25601-1', 'BC846', 'NPN'),\n",
      "     ('PHGLS25601-1', 'BC846A', 'NPN'),\n",
      "     ('PHGLS25601-1', 'BC846AT', 'NPN'),\n",
      "     ('PHGLS25601-1', 'BC846AW', 'NPN'),\n",
      "     ('PHGLS25601-1', 'BC846B', 'NPN'),\n",
      "     ('PHGLS25601-1', 'BC846BT', 'NPN'),\n",
      "     ('PHGLS25601-1', 'BC846BW', 'NPN'),\n",
      "     ('PHGLS25601-1', 'BC846T', 'NPN'),\n",
      "     ('PHGLS25601-1', 'BC846W', 'NPN'),\n",
      "     ('PJECS00521-1', 'MMBT3904', 'NPN'),\n",
      "     ('PNJIS00254-1', 'BC807-16W', 'PNP'),\n",
      "     ('PNJIS00254-1', 'BC807-25W', 'PNP'),\n",
      "     ('PNJIS00254-1', 'BC807-40W', 'PNP'),\n",
      "     ('PNJIS01186-1', 'BC807-16', 'PNP'),\n",
      "     ('PNJIS01186-1', 'BC807-25', 'PNP'),\n",
      "     ('PNJIS01186-1', 'BC807-40', 'PNP'),\n",
      "     ('PNJIS01305-1', 'MMBT3904', 'NPN'),\n",
      "     ('PNJIS01453-1', 'BC846', 'NPN'),\n",
      "     ('PNJIS01453-1', 'BC846A', 'NPN'),\n",
      "     ('PNJIS01453-1', 'BC846B', 'NPN'),\n",
      "     ('PNJIS01453-1', 'BC847', 'NPN'),\n",
      "     ('PNJIS01453-1', 'BC847A', 'NPN'),\n",
      "     ('PNJIS01453-1', 'BC847B', 'NPN'),\n",
      "     ('PNJIS01453-1', 'BC847C', 'NPN'),\n",
      "     ('PNJIS01453-1', 'BC848', 'NPN'),\n",
      "     ('PNJIS01453-1', 'BC848A', 'NPN'),\n",
      "     ('PNJIS01453-1', 'BC848B', 'NPN'),\n",
      "     ('PNJIS01453-1', 'BC848C', 'NPN'),\n",
      "     ('PNJIS01453-1', 'BC849', 'NPN'),\n",
      "     ('PNJIS01453-1', 'BC849B', 'NPN'),\n",
      "     ('PNJIS01453-1', 'BC849C', 'NPN'),\n",
      "     ('PNJIS01453-1', 'BC850', 'NPN'),\n",
      "     ('PNJIS01453-1', 'BC850B', 'NPN'),\n",
      "     ('PNJIS01453-1', 'BC850C', 'NPN'),\n",
      "     ('PNJIS01593-1', 'BC856', 'PNP'),\n",
      "     ('PNJIS01593-1', 'BC856A', 'PNP'),\n",
      "     ('PNJIS01593-1', 'BC856B', 'PNP'),\n",
      "     ('PNJIS01593-1', 'BC857', 'PNP'),\n",
      "     ('PNJIS01593-1', 'BC857A', 'PNP'),\n",
      "     ('PNJIS01593-1', 'BC857B', 'PNP'),\n",
      "     ('PNJIS01593-1', 'BC857C', 'PNP'),\n",
      "     ('PNJIS01593-1', 'BC858', 'PNP'),\n",
      "     ('PNJIS01593-1', 'BC858A', 'PNP'),\n",
      "     ('PNJIS01593-1', 'BC858B', 'PNP'),\n",
      "     ('PNJIS01593-1', 'BC858C', 'PNP'),\n",
      "     ('PNJIS01593-1', 'BC859', 'PNP'),\n",
      "     ('PNJIS01593-1', 'BC859B', 'PNP'),\n",
      "     ('PNJIS01593-1', 'BC859C', 'PNP'),\n",
      "     ('RECTS00705-1', 'BC546', 'NPN'),\n",
      "     ('RECTS00705-1', 'BC546A', 'NPN'),\n",
      "     ('RECTS00705-1', 'BC546B', 'NPN'),\n",
      "     ('RECTS00705-1', 'BC546C', 'NPN'),\n",
      "     ('RECTS00705-1', 'BC547', 'NPN'),\n",
      "     ('RECTS00705-1', 'BC547A', 'NPN'),\n",
      "     ('RECTS00705-1', 'BC547B', 'NPN'),\n",
      "     ('RECTS00705-1', 'BC547C', 'NPN'),\n",
      "     ('RECTS00705-1', 'BC548', 'NPN'),\n",
      "     ('RECTS00705-1', 'BC548A', 'NPN'),\n",
      "     ('RECTS00705-1', 'BC548B', 'NPN'),\n",
      "     ('RECTS00705-1', 'BC548C', 'NPN'),\n",
      "     ('RECTS01002-1', 'MMBT3904', 'NPN'),\n",
      "     ('RECTS01158-1', 'BC807-25', 'PNP'),\n",
      "     ('RECTS01242-1', 'BC857B', 'PNP'),\n",
      "     ('RECTS01325-1', 'DTC114YUA', 'NPN'),\n",
      "     ('SAMSD00049-518', 'BC546', 'NPN'),\n",
      "     ('SAMSD00049-518', 'BC546A', 'NPN'),\n",
      "     ('SAMSD00049-518', 'BC546B', 'NPN'),\n",
      "     ('SAMSD00049-518', 'BC546C', 'NPN'),\n",
      "     ('SAMSD00049-518', 'BC547', 'NPN'),\n",
      "     ('SAMSD00049-518', 'BC547A', 'NPN'),\n",
      "     ('SAMSD00049-518', 'BC547B', 'NPN'),\n",
      "     ('SAMSD00049-518', 'BC547C', 'NPN'),\n",
      "     ('SAMSD00049-518', 'BC548', 'NPN'),\n",
      "     ('SAMSD00049-518', 'BC548A', 'NPN'),\n",
      "     ('SAMSD00049-518', 'BC548B', 'NPN'),\n",
      "     ('SAMSD00049-518', 'BC548C', 'NPN'),\n",
      "     ('SAMSD00049-518', 'BC549', 'NPN'),\n",
      "     ('SAMSD00049-518', 'BC549A', 'NPN'),\n",
      "     ('SAMSD00049-518', 'BC549B', 'NPN'),\n",
      "     ('SAMSD00049-518', 'BC549C', 'NPN'),\n",
      "     ('SAMSD00049-518', 'BC550', 'NPN'),\n",
      "     ('SAMSD00049-518', 'BC550A', 'NPN'),\n",
      "     ('SAMSD00049-518', 'BC550B', 'NPN'),\n",
      "     ('SAMSD00049-518', 'BC550C', 'NPN'),\n",
      "     ('SCSCS02175-1', 'BC546', 'NPN'),\n",
      "     ('SCSCS02175-1', 'BC546A', 'NPN'),\n",
      "     ('SCSCS02175-1', 'BC546B', 'NPN'),\n",
      "     ('SCSCS02175-1', 'BC546C', 'NPN'),\n",
      "     ('SCSCS02175-1', 'BC547', 'NPN'),\n",
      "     ('SCSCS02175-1', 'BC547A', 'NPN'),\n",
      "     ('SCSCS02175-1', 'BC547B', 'NPN'),\n",
      "     ('SCSCS02175-1', 'BC547C', 'NPN'),\n",
      "     ('SCSCS02175-1', 'BC548', 'NPN'),\n",
      "     ('SCSCS02175-1', 'BC548A', 'NPN'),\n",
      "     ('SCSCS02175-1', 'BC548B', 'NPN'),\n",
      "     ('SCSCS02175-1', 'BC548C', 'NPN'),\n",
      "     ('SCSCS02324-1', 'MMBT3904', 'NPN'),\n",
      "     ('SGSTS13702-1', 'BC547B', 'NPN'),\n",
      "     ('SGSTS13702-1', 'BC547B-AP', 'NPN'),\n",
      "     ('SGSTS13702-1', 'BC547C', 'NPN'),\n",
      "     ('SGSTS13702-1', 'BC547C-AP', 'NPN'),\n",
      "     ('SGSTS13734-1', 'BC337-25', 'NPN'),\n",
      "     ('SGSTS13734-1', 'BC337-25-AP', 'NPN'),\n",
      "     ('SGSTS13734-1', 'BC337-40', 'NPN'),\n",
      "     ('SGSTS13734-1', 'BC337-40-AP', 'NPN'),\n",
      "     ('SIEMS01215-1', 'BC856', 'PNP'),\n",
      "     ('SIEMS01215-1', 'BC856A', 'PNP'),\n",
      "     ('SIEMS01215-1', 'BC856B', 'PNP'),\n",
      "     ('SIEMS01215-1', 'BC857', 'PNP'),\n",
      "     ('SIEMS01215-1', 'BC857A', 'PNP'),\n",
      "     ('SIEMS01215-1', 'BC857B', 'PNP'),\n",
      "     ('SIEMS01215-1', 'BC857C', 'PNP'),\n",
      "     ('SIEMS01215-1', 'BC858', 'PNP'),\n",
      "     ('SIEMS01215-1', 'BC858A', 'PNP'),\n",
      "     ('SIEMS01215-1', 'BC858B', 'PNP'),\n",
      "     ('SIEMS01215-1', 'BC858C', 'PNP'),\n",
      "     ('SIEMS01215-1', 'BC859', 'PNP'),\n",
      "     ('SIEMS01215-1', 'BC859A', 'PNP'),\n",
      "     ('SIEMS01215-1', 'BC859B', 'PNP'),\n",
      "     ('SIEMS01215-1', 'BC859C', 'PNP'),\n",
      "     ('SIEMS01215-1', 'BC860', 'PNP'),\n",
      "     ('SIEMS01215-1', 'BC860B', 'PNP'),\n",
      "     ('SIEMS01215-1', 'BC860C', 'PNP'),\n",
      "     ('TKCGS00622-1', 'DTC114EE', 'NPN'),\n",
      "     ('TKCGS00622-1', 'DTC114TE', 'NPN'),\n",
      "     ('TKCGS00622-1', 'DTC114YE', 'NPN'),\n",
      "     ('TKCGS00622-1', 'DTC123EE', 'NPN'),\n",
      "     ('TKCGS00622-1', 'DTC123JE', 'NPN'),\n",
      "     ('TKCGS00622-1', 'DTC124EE', 'NPN'),\n",
      "     ('TKCGS00622-1', 'DTC124XE', 'NPN'),\n",
      "     ('TKCGS00622-1', 'DTC143EE', 'NPN'),\n",
      "     ('TKCGS00622-1', 'DTC143TE', 'NPN'),\n",
      "     ('TKCGS00622-1', 'DTC143ZE', 'NPN'),\n",
      "     ('TKCGS00622-1', 'DTC144EE', 'NPN'),\n",
      "     ('TWSCS04757-1', 'BC807-16', 'PNP'),\n",
      "     ('TWSCS04757-1', 'BC807-25', 'PNP'),\n",
      "     ('TWSCS04757-1', 'BC807-40', 'PNP'),\n",
      "     ('UTCLS02155-1', 'BC807', 'PNP'),\n",
      "     ('UTCLS02155-1', 'BC807-16', 'PNP'),\n",
      "     ('UTCLS02155-1', 'BC807-25', 'PNP'),\n",
      "     ('UTCLS02155-1', 'BC807-40', 'PNP'),\n",
      "     ('UTCLS02155-1', 'BC808', 'PNP'),\n",
      "     ('UTCLS02155-1', 'BC808-16', 'PNP'),\n",
      "     ('UTCLS02155-1', 'BC808-25', 'PNP'),\n",
      "     ('UTCLS02155-1', 'BC808-40', 'PNP'),\n",
      "     ('UTCLS03593-1', 'DTC114E', 'NPN'),\n",
      "     ('VISHS23888-1', 'BC546', 'NPN'),\n",
      "     ('VISHS23888-1', 'BC546A', 'NPN'),\n",
      "     ('VISHS23888-1', 'BC546B', 'NPN'),\n",
      "     ('VISHS23888-1', 'BC547', 'NPN'),\n",
      "     ('VISHS23888-1', 'BC547A', 'NPN'),\n",
      "     ('VISHS23888-1', 'BC547B', 'NPN'),\n",
      "     ('VISHS23888-1', 'BC547C', 'NPN'),\n",
      "     ('VISHS23888-1', 'BC548', 'NPN'),\n",
      "     ('VISHS23888-1', 'BC548A', 'NPN'),\n",
      "     ('VISHS23888-1', 'BC548B', 'NPN'),\n",
      "     ('VISHS23888-1', 'BC548C', 'NPN'),\n",
      "     ('VISHS23888-1', 'BC549', 'NPN'),\n",
      "     ('VISHS23888-1', 'BC549B', 'NPN'),\n",
      "     ('VISHS23888-1', 'BC549C', 'NPN'),\n",
      "     ('VSMIS00373-1', 'BC337', 'NPN'),\n",
      "     ('VSMIS00373-1', 'BC337-16', 'NPN'),\n",
      "     ('VSMIS00373-1', 'BC337-25', 'NPN'),\n",
      "     ('VSMIS00373-1', 'BC337-40', 'NPN'),\n",
      "     ('VSMIS00373-1', 'BC338', 'NPN'),\n",
      "     ('VSMIS00373-1', 'BC338-16', 'NPN'),\n",
      "     ('VSMIS00373-1', 'BC338-25', 'NPN'),\n",
      "     ('VSMIS00373-1', 'BC338-40', 'NPN'),\n",
      "     ('VSMIS03793-1', 'BC817', 'NPN'),\n",
      "     ('VSMIS03793-1', 'BC817-16', 'NPN'),\n",
      "     ('VSMIS03793-1', 'BC817-25', 'NPN'),\n",
      "     ('VSMIS03793-1', 'BC817-40', 'NPN'),\n",
      "     ('VSMIS03793-1', 'BC818', 'NPN'),\n",
      "     ('VSMIS03793-1', 'BC818-16', 'NPN'),\n",
      "     ('VSMIS03793-1', 'BC818-25', 'NPN'),\n",
      "     ('VSMIS03793-1', 'BC818-40', 'NPN'),\n",
      "     ('WEILS00082-1', 'BC856', 'PNP'),\n",
      "     ('WEILS00082-1', 'BC856A', 'PNP'),\n",
      "     ('WEILS00082-1', 'BC856B', 'PNP'),\n",
      "     ('WEILS00082-1', 'BC857', 'PNP'),\n",
      "     ('WEILS00082-1', 'BC857A', 'PNP'),\n",
      "     ('WEILS00082-1', 'BC857B', 'PNP'),\n",
      "     ('WEILS00082-1', 'BC857C', 'PNP'),\n",
      "     ('WEILS00082-1', 'BC858', 'PNP'),\n",
      "     ('WEILS00082-1', 'BC858A', 'PNP'),\n",
      "     ('WEILS00082-1', 'BC858B', 'PNP'),\n",
      "     ('WEILS00082-1', 'BC858C', 'PNP'),\n",
      "     ('WEILS00082-1', 'BC859', 'PNP'),\n",
      "     ('WEILS00082-1', 'BC859B', 'PNP'),\n",
      "     ('WEILS00082-1', 'BC859C', 'PNP'),\n",
      "     ('WEITS00252-1', 'BC807-16', 'PNP'),\n",
      "     ('WEITS00252-1', 'BC807-25', 'PNP'),\n",
      "     ('WEITS00252-1', 'BC807-40', 'PNP'),\n",
      "     ('ZETXS01948-1', 'BC856', 'PNP'),\n",
      "     ('ZETXS01948-1', 'BC856A-3A', 'PNP'),\n",
      "     ('ZETXS01948-1', 'BC856B-Z3B', 'PNP'),\n",
      "     ('ZETXS01948-1', 'BC857', 'PNP'),\n",
      "     ('ZETXS01948-1', 'BC857A-Z3E', 'PNP'),\n",
      "     ('ZETXS01948-1', 'BC857B-3F', 'PNP'),\n",
      "     ('ZETXS01948-1', 'BC857C-3G', 'PNP'),\n",
      "     ('ZETXS01948-1', 'BC858', 'PNP'),\n",
      "     ('ZETXS01948-1', 'BC858A-3J', 'PNP'),\n",
      "     ('ZETXS01948-1', 'BC858B-3K', 'PNP'),\n",
      "     ('ZETXS01948-1', 'BC858C-3L', 'PNP'),\n",
      "     ('ZETXS01948-1', 'BC859', 'PNP'),\n",
      "     ('ZETXS01948-1', 'BC859A-Z4A', 'PNP'),\n",
      "     ('ZETXS01948-1', 'BC859B-4B', 'PNP'),\n",
      "     ('ZETXS01948-1', 'BC859C-Z4C', 'PNP'),\n",
      "     ('ZETXS01948-1', 'BC860', 'PNP'),\n",
      "     ('ZETXS01948-1', 'BC860A-Z4E', 'PNP'),\n",
      "     ('ZETXS01948-1', 'BC860B-4F', 'PNP'),\n",
      "     ('ZETXS01948-1', 'BC860C-4GZ', 'PNP')])\n",
      "777\n"
     ]
    }
   ],
   "source": [
    "from pprint import pprint\n",
    "pprint(fn)\n",
    "print len(fn)"
   ]
  },
  {
   "cell_type": "markdown",
   "metadata": {},
   "source": [
    "## Gold Labels"
   ]
  },
  {
   "cell_type": "code",
   "execution_count": 13,
   "metadata": {
    "collapsed": false
   },
   "outputs": [
    {
     "name": "stdout",
     "output_type": "stream",
     "text": [
      "Loading 399 candidate labels\n",
      "[========================================] 100%\n",
      "CPU times: user 996 ms, sys: 24 ms, total: 1.02 s\n",
      "Wall time: 1.14 s\n",
      "327/399 Candidates in Candidate Set (Hardware Training Candidates) have positive Labels\n",
      "Loading 130 candidate labels\n",
      "[========================================] 100%\n",
      "CPU times: user 512 ms, sys: 20 ms, total: 532 ms\n",
      "Wall time: 576 ms\n",
      "67/130 Candidates in Candidate Set (Hardware Development Candidates) have positive Labels\n"
     ]
    }
   ],
   "source": [
    "import os\n",
    "from snorkel.models import CandidateSet\n",
    "from hardware_utils import load_hardware_labels\n",
    "\n",
    "gold_file = os.environ['SNORKELHOME'] + '/tutorials/tables/data/hardware/hardware_gold.csv'\n",
    "for set_name in ['Training', 'Development']:\n",
    "    candidate_set_name = 'Hardware %s Candidates' % set_name\n",
    "    candidates = session.query(CandidateSet).filter(\n",
    "        CandidateSet.name == candidate_set_name).one()\n",
    "    label_set_name = 'Hardware %s Candidates -- Gold' % set_name\n",
    "    annotation_key_name = 'Hardware %s Labels -- Gold' % set_name\n",
    "    %time gold_candidates, annotation_key = load_hardware_labels(session,\\\n",
    "                           label_set_name, \\\n",
    "                           annotation_key_name, \\\n",
    "                           candidates, \\\n",
    "                           gold_file, \\\n",
    "                           'polarity')\n",
    "    candidates_gold = session.query(CandidateSet).filter(\n",
    "        CandidateSet.name == candidate_set_name + ' -- Gold').one()\n",
    "    print \"%d/%d Candidates in %s have positive Labels\" % (\n",
    "        len(candidates_gold), len(candidates), candidates)"
   ]
  },
  {
   "cell_type": "markdown",
   "metadata": {},
   "source": [
    "### Assess Baseline Performance"
   ]
  },
  {
   "cell_type": "code",
   "execution_count": 14,
   "metadata": {
    "collapsed": false
   },
   "outputs": [],
   "source": [
    "# from snorkel.models import Corpus, Candidate\n",
    "# from snorkel.utils import get_ORM_instance\n",
    "# from snorkel.lf_helpers import *\n",
    "# from hardware_utils import entity_level_f1\n",
    "# from itertools import chain\n",
    "\n",
    "# def LF_all_true(c):\n",
    "#     return True\n",
    "\n",
    "# def LF_complement_nearby(c):\n",
    "#     return 1 if set(['complement','complementary']).isdisjoint(\n",
    "#         chain.from_iterable(\n",
    "#             [get_phrase_ngrams(c.part), \n",
    "#              get_phrase_ngrams(c.polarity),\n",
    "#              get_neighbor_phrase_ngrams(c.polarity)])) else 0\n",
    "\n",
    "# candidates = session.query(Candidate).all()\n",
    "# (tp, fp, tn, fn) = baseline(candidates, LF_complement_nearby)\n",
    "\n",
    "# corpus = get_ORM_instance(Corpus, session, 'Hardware')\n",
    "# gold_file = os.environ['SNORKELHOME'] + '/tutorials/tables/data/hardware/hardware_gold.csv'\n",
    "# (TP, FP, FN) = entity_level_f1(tp, fp, tn, fn, gold_file, corpus, 'polarity')"
   ]
  },
  {
   "cell_type": "code",
   "execution_count": 15,
   "metadata": {
    "collapsed": false
   },
   "outputs": [],
   "source": [
    "# from pprint import pprint\n",
    "# pprint(FP)"
   ]
  },
  {
   "cell_type": "code",
   "execution_count": 16,
   "metadata": {
    "collapsed": false
   },
   "outputs": [],
   "source": [
    "# pprint(FN)"
   ]
  },
  {
   "cell_type": "code",
   "execution_count": 17,
   "metadata": {
    "collapsed": false
   },
   "outputs": [],
   "source": [
    "# from hardware_utils import entity_to_candidates\n",
    "\n",
    "# print len(candidates)\n",
    "# matches = entity_to_candidates((u'SIEMS01215-1', u'BC856', u'NPN'), candidates)\n",
    "# c = matches[0]\n",
    "# print c"
   ]
  },
  {
   "cell_type": "code",
   "execution_count": 18,
   "metadata": {
    "collapsed": false
   },
   "outputs": [],
   "source": [
    "# from snorkel.models import ImplicitSpan\n",
    "# from snorkel.lf_helpers import *\n",
    "# phrases = []\n",
    "# print list(get_neighbor_phrase_ngrams(c.polarity))\n",
    "# print c.polarity.parent\n",
    "# print phrases\n",
    "# print \"SPAN_TYPE_[%s]\" % ('IMPLICIT' if isinstance(c.polarity, ImplicitSpan) else 'EXPLICIT')\n",
    "# # list(get_phrase_ngrams(c.polarity))"
   ]
  },
  {
   "cell_type": "markdown",
   "metadata": {},
   "source": [
    "## Features"
   ]
  },
  {
   "cell_type": "markdown",
   "metadata": {},
   "source": [
    "### Extract Features"
   ]
  },
  {
   "cell_type": "code",
   "execution_count": 19,
   "metadata": {
    "collapsed": false
   },
   "outputs": [
    {
     "name": "stdout",
     "output_type": "stream",
     "text": [
      "[========================================] 100%\n",
      "Bulk upserting 241180 annotations...\n",
      "Done.\n",
      "Loading sparse Feature matrix...\n",
      "CPU times: user 8.86 s, sys: 516 ms, total: 9.37 s\n",
      "Wall time: 19.3 s\n",
      "[========================================] 100%\n",
      "Bulk upserting 35576 annotations...\n",
      "Done.\n",
      "Loading sparse Feature matrix...\n",
      "CPU times: user 3.42 s, sys: 172 ms, total: 3.59 s\n",
      "Wall time: 5.12 s\n"
     ]
    }
   ],
   "source": [
    "from snorkel.models import CandidateSet\n",
    "from snorkel.fast_annotations import FeatureManager\n",
    "from snorkel.utils import get_ORM_instance\n",
    "\n",
    "train = get_ORM_instance(CandidateSet, session, 'Hardware Training Candidates')\n",
    "dev   = get_ORM_instance(CandidateSet, session, 'Hardware Development Candidates')\n",
    "\n",
    "feature_manager = FeatureManager()\n",
    "%time F_train = feature_manager.create(session, train, 'Train Features')\n",
    "%time F_dev = feature_manager.update(session, dev, 'Train Features', expand_key_set=False)"
   ]
  },
  {
   "cell_type": "code",
   "execution_count": 38,
   "metadata": {
    "collapsed": false
   },
   "outputs": [
    {
     "name": "stdout",
     "output_type": "stream",
     "text": [
      "Part_Polarity(Span(\"PZT3904\", parent=345, chars=[16,22], words=[2,2]), Span(\"NPN\", parent=346, chars=[30,32], words=[6,6]))\n",
      "Part_Polarity(Span(\"DTC114YE\", parent=6, chars=[0,7], words=[0,0]), Span(\"NPN\", parent=17, chars=[0,2], words=[0,0]))\n",
      "Part_Polarity(Span(\"PZT3904\", parent=345, chars=[16,22], words=[2,2]), Span(\"NPN\", parent=346, chars=[30,32], words=[6,6]))\n"
     ]
    }
   ],
   "source": [
    "from snorkel.candidates import CandidateSet\n",
    "ex  = session.query(CandidateSet).filter(CandidateSet.name ==  'Hardware Training Candidates').one()\n",
    "cs = ex.candidates\n",
    "print cs[10]\n",
    "print cs.slice(0,10)[0]\n",
    "print cs.slice(10,20)[0]"
   ]
  },
  {
   "cell_type": "markdown",
   "metadata": {},
   "source": [
    "## LFs"
   ]
  },
  {
   "cell_type": "code",
   "execution_count": 21,
   "metadata": {
    "collapsed": true
   },
   "outputs": [],
   "source": [
    "# If necessary\n",
    "# import os\n",
    "# os.remove('snorkel.db');\n",
    "# os.system('cp snorkel.db\\ featurized snorkel.db');\n",
    "\n",
    "# from snorkel import SnorkelSession\n",
    "# session = SnorkelSession()\n",
    "\n",
    "# import sys\n",
    "# sys.path.append(os.environ['SNORKELHOME'] + '/tutorials/tables/')\n",
    "\n",
    "# from snorkel.models import candidate_subclass\n",
    "# Part_Polarity = candidate_subclass('Part_Polarity', ['part','polarity'])\n",
    "\n",
    "# from snorkel.models import CandidateSet\n",
    "# train = session.query(CandidateSet).filter(\n",
    "#     CandidateSet.name == 'Hardware Training Candidates').one()"
   ]
  },
  {
   "cell_type": "markdown",
   "metadata": {},
   "source": [
    "### Define LFs"
   ]
  },
  {
   "cell_type": "code",
   "execution_count": 22,
   "metadata": {
    "collapsed": false
   },
   "outputs": [],
   "source": [
    "from snorkel.fast_annotations import LabelManager\n",
    "from snorkel.lf_helpers import *\n",
    "import re\n",
    "label_manager = LabelManager()\n",
    "\n",
    "LFs = []\n",
    "\n",
    "def LF_complement_phrase_part(c):\n",
    "    return -1 if overlap(['complement','complementary'], \n",
    "                         get_phrase_ngrams(c.part)) else 0\n",
    "LFs.append(LF_complement_phrase_part)\n",
    "\n",
    "def LF_complement_phrase_polarity(c):\n",
    "    return -1 if overlap(['complement','complementary'], \n",
    "                         get_phrase_ngrams(c.polarity)) else 0\n",
    "LFs.append(LF_complement_phrase_polarity)\n",
    "\n",
    "def LF_complement_neighbor_polarity(c):\n",
    "    return -1 if overlap(['complement','complementary'], \n",
    "                         get_neighbor_phrase_ngrams(c.polarity)) else 0\n",
    "LFs.append(LF_complement_neighbor_polarity)\n",
    "\n",
    "def LF_top_mark_col_part(c):\n",
    "    return -1 if overlap(['top','mark'],\n",
    "                         get_col_ngrams(c.part)) else 0\n",
    "LFs.append(LF_top_mark_col_part)\n",
    "\n",
    "def LF_endswith_D_part(c):\n",
    "    return -1 if c.part.get_span().endswith('D') else 0\n",
    "LFs.append(LF_endswith_D_part)\n",
    "\n",
    "def LF_default_positive(c):\n",
    "    return 1 if not overlap(['complement','complementary'],\n",
    "                            chain.from_iterable([\n",
    "                            get_phrase_ngrams(c.part),\n",
    "                            get_phrase_ngrams(c.polarity),\n",
    "                            get_neighbor_phrase_ngrams(c.polarity)])) else 0\n",
    "LFs.append(LF_default_positive)"
   ]
  },
  {
   "cell_type": "code",
   "execution_count": 23,
   "metadata": {
    "collapsed": false
   },
   "outputs": [
    {
     "name": "stdout",
     "output_type": "stream",
     "text": [
      "529\n",
      "Part_Polarity(Span(\"DTC114YE\", parent=6, chars=[0,7], words=[0,0]), Span(\"NPN\", parent=17, chars=[0,2], words=[0,0]))\n",
      "0\n",
      "0\n",
      "0\n",
      "0\n",
      "0\n",
      "1\n"
     ]
    }
   ],
   "source": [
    "from snorkel.models import Candidate\n",
    "from hardware_utils import entity_to_candidates\n",
    "\n",
    "candidates = session.query(Candidate).all()\n",
    "print len(candidates)\n",
    "# matches = entity_to_candidates((u'SIEMS01215-1', u'BC856', u'NPN'), candidates)\n",
    "# c = matches[0]\n",
    "c = candidates[0]\n",
    "print candidates[0]\n",
    "\n",
    "print LF_complement_phrase_part(c)\n",
    "print LF_complement_phrase_polarity(c)\n",
    "print LF_complement_neighbor_polarity(c)\n",
    "print LF_top_mark_col_part(c)\n",
    "print LF_endswith_D_part(c)\n",
    "print LF_default_positive(c)"
   ]
  },
  {
   "cell_type": "markdown",
   "metadata": {},
   "source": [
    "### Apply LFs"
   ]
  },
  {
   "cell_type": "code",
   "execution_count": 24,
   "metadata": {
    "collapsed": false
   },
   "outputs": [
    {
     "name": "stdout",
     "output_type": "stream",
     "text": [
      "[========================================] 100%\n",
      "Bulk upserting 2394 annotations...\n",
      "Done.\n",
      "Loading sparse Label matrix...\n",
      "CPU times: user 1.58 s, sys: 36 ms, total: 1.62 s\n",
      "Wall time: 1.8 s\n"
     ]
    },
    {
     "data": {
      "text/plain": [
       "<399x6 sparse matrix of type '<type 'numpy.float64'>'\n",
       "\twith 414 stored elements in Compressed Sparse Row format>"
      ]
     },
     "execution_count": 24,
     "metadata": {},
     "output_type": "execute_result"
    }
   ],
   "source": [
    "%time L_train = label_manager.create(session, train, 'LF Labels', f=LFs)\n",
    "L_train"
   ]
  },
  {
   "cell_type": "markdown",
   "metadata": {},
   "source": [
    "### Assess LF accuracy"
   ]
  },
  {
   "cell_type": "code",
   "execution_count": 25,
   "metadata": {
    "collapsed": false
   },
   "outputs": [
    {
     "name": "stdout",
     "output_type": "stream",
     "text": [
      "[========================================] 100%\n",
      "CPU times: user 40 ms, sys: 0 ns, total: 40 ms\n",
      "Wall time: 39.6 ms\n"
     ]
    },
    {
     "data": {
      "text/html": [
       "<div style=\"max-height:1000px;max-width:1500px;overflow:auto;\">\n",
       "<table border=\"1\" class=\"dataframe\">\n",
       "  <thead>\n",
       "    <tr style=\"text-align: right;\">\n",
       "      <th></th>\n",
       "      <th>accuracy</th>\n",
       "      <th>conflicts</th>\n",
       "      <th>coverage</th>\n",
       "      <th>j</th>\n",
       "      <th>overlaps</th>\n",
       "    </tr>\n",
       "  </thead>\n",
       "  <tbody>\n",
       "    <tr>\n",
       "      <th>LF_complement_phrase_part</th>\n",
       "      <td> 1.000000</td>\n",
       "      <td> 0.000000</td>\n",
       "      <td> 0.035088</td>\n",
       "      <td> 0</td>\n",
       "      <td> 0.035088</td>\n",
       "    </tr>\n",
       "    <tr>\n",
       "      <th>LF_complement_phrase_polarity</th>\n",
       "      <td> 1.000000</td>\n",
       "      <td> 0.000000</td>\n",
       "      <td> 0.062657</td>\n",
       "      <td> 1</td>\n",
       "      <td> 0.000000</td>\n",
       "    </tr>\n",
       "    <tr>\n",
       "      <th>LF_complement_neighbor_polarity</th>\n",
       "      <td> 0.104348</td>\n",
       "      <td> 0.000000</td>\n",
       "      <td> 0.576441</td>\n",
       "      <td> 2</td>\n",
       "      <td> 0.035088</td>\n",
       "    </tr>\n",
       "    <tr>\n",
       "      <th>LF_top_mark_col_part</th>\n",
       "      <td>      NaN</td>\n",
       "      <td> 0.000000</td>\n",
       "      <td> 0.000000</td>\n",
       "      <td> 3</td>\n",
       "      <td> 0.000000</td>\n",
       "    </tr>\n",
       "    <tr>\n",
       "      <th>LF_endswith_D_part</th>\n",
       "      <td> 1.000000</td>\n",
       "      <td> 0.002506</td>\n",
       "      <td> 0.002506</td>\n",
       "      <td> 4</td>\n",
       "      <td> 0.002506</td>\n",
       "    </tr>\n",
       "    <tr>\n",
       "      <th>LF_default_positive</th>\n",
       "      <td> 0.840278</td>\n",
       "      <td> 0.002506</td>\n",
       "      <td> 0.360902</td>\n",
       "      <td> 5</td>\n",
       "      <td> 0.002506</td>\n",
       "    </tr>\n",
       "  </tbody>\n",
       "</table>\n",
       "</div>"
      ],
      "text/plain": [
       "                                 accuracy  conflicts  coverage  j  overlaps\n",
       "LF_complement_phrase_part        1.000000   0.000000  0.035088  0  0.035088\n",
       "LF_complement_phrase_polarity    1.000000   0.000000  0.062657  1  0.000000\n",
       "LF_complement_neighbor_polarity  0.104348   0.000000  0.576441  2  0.035088\n",
       "LF_top_mark_col_part                  NaN   0.000000  0.000000  3  0.000000\n",
       "LF_endswith_D_part               1.000000   0.002506  0.002506  4  0.002506\n",
       "LF_default_positive              0.840278   0.002506  0.360902  5  0.002506"
      ]
     },
     "execution_count": 25,
     "metadata": {},
     "output_type": "execute_result"
    }
   ],
   "source": [
    "train_gold = session.query(CandidateSet).filter(\n",
    "    CandidateSet.name == 'Hardware Training Candidates -- Gold').one()\n",
    "%time L_train.lf_stats(train_gold)"
   ]
  },
  {
   "cell_type": "markdown",
   "metadata": {},
   "source": [
    "## Learn and Evaluate"
   ]
  },
  {
   "cell_type": "code",
   "execution_count": 26,
   "metadata": {
    "collapsed": false
   },
   "outputs": [],
   "source": [
    "# If necessary:\n",
    "# import os\n",
    "# os.remove('snorkel.db');\n",
    "# os.system('cp snorkel.db\\ features snorkel.db');\n",
    "\n",
    "# from snorkel import SnorkelSession\n",
    "# session = SnorkelSession()\n",
    "\n",
    "# import sys\n",
    "# sys.path.append(os.environ['SNORKELHOME'] + '/tutorials/tables/')\n",
    "\n",
    "# from snorkel.models import candidate_subclass\n",
    "# Part_Polarity = candidate_subclass('Part_Polarity', ['part','polarity'])\n",
    "\n",
    "# from snorkel.models import CandidateSet\n",
    "# train = session.query(CandidateSet).filter(\n",
    "#     CandidateSet.name == 'Hardware Training Candidates').one()\n",
    "# dev = session.query(CandidateSet).filter(\n",
    "#     CandidateSet.name == 'Hardware Development Candidates').one()\n",
    "\n",
    "# from snorkel.annotations import FeatureManager, LabelManager\n",
    "# feature_manager = FeatureManager()\n",
    "# %time F_train = feature_manager.load(session, train, 'Train Features')\n",
    "# %time F_dev = feature_manager.load(session, dev, 'Train Features')\n",
    "\n",
    "# label_manager = LabelManager()\n",
    "# %time L_train = label_manager.load(session, train, 'LF Labels')"
   ]
  },
  {
   "cell_type": "code",
   "execution_count": 27,
   "metadata": {
    "collapsed": false
   },
   "outputs": [
    {
     "name": "stderr",
     "output_type": "stream",
     "text": [
      "/home/xiao/software/anaconda/lib/python2.7/site-packages/matplotlib/__init__.py:1318: UserWarning:  This call to matplotlib.use() has no effect\n",
      "because the backend has already been chosen;\n",
      "matplotlib.use() must be called *before* pylab, matplotlib.pyplot,\n",
      "or matplotlib.backends is imported for the first time.\n",
      "\n",
      "  warnings.warn(_use_error_msg)\n",
      "Using gpu device 0: GeForce GTX 980 (CNMeM is enabled with initial size: 75.0% of memory, cuDNN 5005)\n"
     ]
    },
    {
     "name": "stdout",
     "output_type": "stream",
     "text": [
      "================================================================================\n",
      "Training marginals (!= 0.5):\t399\n",
      "Features:\t\t\t6\n",
      "================================================================================\n",
      "Begin training for rate=0.01, mu=1e-06\n",
      "\tLearning epoch = 0\tGradient mag. = 0.040699\n",
      "\tLearning epoch = 250\tGradient mag. = 0.045391\n",
      "\tLearning epoch = 500\tGradient mag. = 0.047990\n",
      "\tLearning epoch = 750\tGradient mag. = 0.050629\n",
      "\tLearning epoch = 1000\tGradient mag. = 0.053299\n",
      "\tLearning epoch = 1250\tGradient mag. = 0.055994\n",
      "\tLearning epoch = 1500\tGradient mag. = 0.058708\n",
      "\tLearning epoch = 1750\tGradient mag. = 0.061438\n",
      "\tLearning epoch = 2000\tGradient mag. = 0.064179\n",
      "\tLearning epoch = 2250\tGradient mag. = 0.066930\n",
      "\tLearning epoch = 2500\tGradient mag. = 0.069690\n",
      "\tLearning epoch = 2750\tGradient mag. = 0.072457\n",
      "\tLearning epoch = 3000\tGradient mag. = 0.075231\n",
      "\tLearning epoch = 3250\tGradient mag. = 0.078012\n",
      "\tLearning epoch = 3500\tGradient mag. = 0.080799\n",
      "\tLearning epoch = 3750\tGradient mag. = 0.083593\n",
      "\tLearning epoch = 4000\tGradient mag. = 0.086393\n",
      "\tLearning epoch = 4250\tGradient mag. = 0.089200\n",
      "\tLearning epoch = 4500\tGradient mag. = 0.092012\n",
      "\tLearning epoch = 4750\tGradient mag. = 0.094830\n",
      "\tLearning epoch = 5000\tGradient mag. = 0.097654\n",
      "\tLearning epoch = 5250\tGradient mag. = 0.100482\n",
      "\tLearning epoch = 5500\tGradient mag. = 0.103315\n",
      "\tLearning epoch = 5750\tGradient mag. = 0.106152\n",
      "\tLearning epoch = 6000\tGradient mag. = 0.108993\n",
      "\tLearning epoch = 6250\tGradient mag. = 0.111837\n",
      "\tLearning epoch = 6500\tGradient mag. = 0.114684\n",
      "\tLearning epoch = 6750\tGradient mag. = 0.117534\n",
      "\tLearning epoch = 7000\tGradient mag. = 0.120387\n",
      "\tLearning epoch = 7250\tGradient mag. = 0.123241\n",
      "\tLearning epoch = 7500\tGradient mag. = 0.118609\n",
      "\tLearning epoch = 7750\tGradient mag. = 0.109920\n",
      "\tLearning epoch = 8000\tGradient mag. = 0.102003\n",
      "\tLearning epoch = 8250\tGradient mag. = 0.094800\n",
      "\tLearning epoch = 8500\tGradient mag. = 0.088256\n",
      "\tLearning epoch = 8750\tGradient mag. = 0.082322\n",
      "\tLearning epoch = 9000\tGradient mag. = 0.076952\n",
      "\tLearning epoch = 9250\tGradient mag. = 0.072102\n",
      "\tLearning epoch = 9500\tGradient mag. = 0.067732\n",
      "\tLearning epoch = 9750\tGradient mag. = 0.063806\n",
      "\tLearning epoch = 10000\tGradient mag. = 0.060287\n",
      "\tLearning epoch = 10250\tGradient mag. = 0.057142\n",
      "\tLearning epoch = 10500\tGradient mag. = 0.054342\n",
      "\tLearning epoch = 10750\tGradient mag. = 0.051855\n",
      "\tLearning epoch = 11000\tGradient mag. = 0.049655\n",
      "\tLearning epoch = 11250\tGradient mag. = 0.047714\n",
      "\tLearning epoch = 11500\tGradient mag. = 0.046007\n",
      "\tLearning epoch = 11750\tGradient mag. = 0.044512\n",
      "\tLearning epoch = 12000\tGradient mag. = 0.043206\n",
      "\tLearning epoch = 12250\tGradient mag. = 0.042068\n",
      "\tLearning epoch = 12500\tGradient mag. = 0.041079\n",
      "\tLearning epoch = 12750\tGradient mag. = 0.040223\n",
      "\tLearning epoch = 13000\tGradient mag. = 0.039482\n",
      "\tLearning epoch = 13250\tGradient mag. = 0.038843\n",
      "\tLearning epoch = 13500\tGradient mag. = 0.038293\n",
      "\tLearning epoch = 13750\tGradient mag. = 0.037820\n",
      "\tLearning epoch = 14000\tGradient mag. = 0.037414\n",
      "\tLearning epoch = 14250\tGradient mag. = 0.037065\n",
      "\tLearning epoch = 14500\tGradient mag. = 0.036767\n",
      "\tLearning epoch = 14750\tGradient mag. = 0.036511\n",
      "Final gradient magnitude for rate=0.01, mu=1e-06: 0.036\n",
      "CPU times: user 8 ms, sys: 0 ns, total: 8 ms\n",
      "Wall time: 12 ms\n"
     ]
    }
   ],
   "source": [
    "from snorkel.learning import NaiveBayes\n",
    "\n",
    "gen_model = NaiveBayes()\n",
    "gen_model.train(L_train, n_iter=15000, rate=1e-2)\n",
    "%time gen_model.save(session, 'Generative Params')\n",
    "train_marginals = gen_model.marginals(L_train)"
   ]
  },
  {
   "cell_type": "code",
   "execution_count": 28,
   "metadata": {
    "collapsed": false
   },
   "outputs": [
    {
     "name": "stdout",
     "output_type": "stream",
     "text": [
      "================================================================================\n",
      "Training marginals (!= 0.5):\t399\n",
      "Features:\t\t\t4022\n",
      "================================================================================\n",
      "Using gradient descent...\n",
      "\tLearning epoch = 0\tStep size = 1e-05\n",
      "\tLoss = 276.565725\tGradient magnitude = 2166.216205\n",
      "\tLearning epoch = 100\tStep size = 9.04792147114e-06\n",
      "\tLoss = 121.395621\tGradient magnitude = 71.825514\n",
      "\tLearning epoch = 200\tStep size = 8.18648829479e-06\n",
      "\tLoss = 118.849424\tGradient magnitude = 45.494711\n",
      "\tLearning epoch = 300\tStep size = 7.40707032156e-06\n",
      "\tLoss = 117.706177\tGradient magnitude = 36.668708\n",
      "\tLearning epoch = 400\tStep size = 6.70185906007e-06\n",
      "\tLoss = 116.991867\tGradient magnitude = 32.308055\n",
      "\tLearning epoch = 500\tStep size = 6.06378944861e-06\n",
      "\tLoss = 116.484274\tGradient magnitude = 29.718267\n",
      "\tLearning epoch = 600\tStep size = 5.48646907485e-06\n",
      "\tLoss = 116.100672\tGradient magnitude = 28.019308\n",
      "\tLearning epoch = 700\tStep size = 4.96411413431e-06\n",
      "\tLoss = 115.800469\tGradient magnitude = 26.865767\n",
      "\tLearning epoch = 800\tStep size = 4.4914914861e-06\n",
      "\tLoss = 115.560538\tGradient magnitude = 26.093012\n",
      "\tLearning epoch = 900\tStep size = 4.06386622545e-06\n",
      "\tLoss = 115.366336\tGradient magnitude = 25.608267\n",
      "\tLearning epoch = 1000\tStep size = 3.67695424771e-06\n",
      "\tLoss = 115.207872\tGradient magnitude = 25.341304\n",
      "\tLearning epoch = 1100\tStep size = 3.32687932862e-06\n",
      "\tLoss = 115.078302\tGradient magnitude = 25.270178\n",
      "\tLearning epoch = 1200\tStep size = 3.01013429093e-06\n",
      "\tLoss = 114.972674\tGradient magnitude = 25.377439\n",
      "\tLearning epoch = 1300\tStep size = 2.72354586819e-06\n",
      "\tLoss = 114.886891\tGradient magnitude = 25.409532\n",
      "\tLearning epoch = 1400\tStep size = 2.46424291385e-06\n",
      "\tLoss = 114.819071\tGradient magnitude = 25.776144\n",
      "\tLearning epoch = 1500\tStep size = 2.22962763703e-06\n",
      "\tLoss = 114.766393\tGradient magnitude = 26.340478\n",
      "\tLearning epoch = 1600\tStep size = 2.01734957697e-06\n",
      "\tLoss = 114.727147\tGradient magnitude = 27.076856\n",
      "\tLearning epoch = 1700\tStep size = 1.82528205523e-06\n",
      "\tLoss = 114.700182\tGradient magnitude = 27.977815\n",
      "\tLearning epoch = 1800\tStep size = 1.65150086984e-06\n",
      "\tLoss = 114.684060\tGradient magnitude = 29.055308\n",
      "\tLearning epoch = 1900\tStep size = 1.49426501798e-06\n",
      "\tLoss = 114.678024\tGradient magnitude = 30.320948\n",
      "CPU times: user 492 ms, sys: 16 ms, total: 508 ms\n",
      "Wall time: 684 ms\n"
     ]
    }
   ],
   "source": [
    "from snorkel.learning import LogReg\n",
    "\n",
    "disc_model = LogReg()\n",
    "disc_model.train(F_train, train_marginals, n_iter=2000, rate=1e-5)\n",
    "%time disc_model.save(session, \"Discriminative Params\")"
   ]
  },
  {
   "cell_type": "code",
   "execution_count": 29,
   "metadata": {
    "collapsed": true
   },
   "outputs": [],
   "source": [
    "train_gold = session.query(CandidateSet).filter(\n",
    "    CandidateSet.name == 'Hardware Training Candidates -- Gold').one()"
   ]
  },
  {
   "cell_type": "code",
   "execution_count": 30,
   "metadata": {
    "collapsed": true
   },
   "outputs": [],
   "source": [
    "dev_gold = session.query(CandidateSet).filter(\n",
    "    CandidateSet.name == 'Hardware Development Candidates -- Gold').one()"
   ]
  },
  {
   "cell_type": "code",
   "execution_count": 31,
   "metadata": {
    "collapsed": false
   },
   "outputs": [],
   "source": [
    "from snorkel.models import CandidateSet\n",
    "from snorkel.annotations import LabelManager\n",
    "label_manager = LabelManager()\n",
    "L_dev = label_manager.load(session, dev, 'Hardware Development Labels -- Gold')"
   ]
  },
  {
   "cell_type": "code",
   "execution_count": 32,
   "metadata": {
    "collapsed": false
   },
   "outputs": [
    {
     "name": "stdout",
     "output_type": "stream",
     "text": [
      "Calibration plot:\n"
     ]
    },
    {
     "name": "stderr",
     "output_type": "stream",
     "text": [
      "/home/xiao/software/anaconda/lib/python2.7/site-packages/numpy/core/_methods.py:59: RuntimeWarning: Mean of empty slice.\n",
      "  warnings.warn(\"Mean of empty slice.\", RuntimeWarning)\n"
     ]
    },
    {
     "data": {
      "image/png": "[encoded data removed]",
      "text/plain": [
       "<matplotlib.figure.Figure at 0x7fb96abfe190>"
      ]
     },
     "metadata": {},
     "output_type": "display_data"
    },
    {
     "name": "stdout",
     "output_type": "stream",
     "text": [
      "========================================\n",
      "Recall-corrected Noise-aware Model\n",
      "========================================\n",
      "Pos. class accuracy: 0.0\n",
      "Neg. class accuracy: 1.0\n",
      "Corpus Precision nan\n",
      "Corpus Recall    0.0\n",
      "Corpus F1        nan\n",
      "----------------------------------------\n",
      "TP: 0 | FP: 0 | TN: 63 | FN: 67\n",
      "========================================\n",
      "\n",
      "========================================\n",
      "Recall-corrected Noise-aware Model\n",
      "========================================\n",
      "Pos. class accuracy: 0.0\n",
      "Neg. class accuracy: 1.0\n",
      "Corpus Precision nan\n",
      "Corpus Recall    0.0\n",
      "Corpus F1        nan\n",
      "----------------------------------------\n",
      "TP: 0 | FP: 0 | TN: 63 | FN: 67\n",
      "========================================\n",
      "\n"
     ]
    }
   ],
   "source": [
    "tp, fp, tn, fn = disc_model.score(F_dev, L_dev, dev_gold)"
   ]
  },
  {
   "cell_type": "code",
   "execution_count": 33,
   "metadata": {
    "collapsed": false
   },
   "outputs": [
    {
     "name": "stdout",
     "output_type": "stream",
     "text": [
      "========================================\n",
      "Scoring on Entity-Level Gold Data\n",
      "========================================\n",
      "Corpus Precision nan\n",
      "Corpus Recall    0.0\n",
      "Corpus F1        nan\n",
      "----------------------------------------\n",
      "TP: 0 | FP: 0 | FN: 32\n",
      "========================================\n",
      "\n"
     ]
    }
   ],
   "source": [
    "from snorkel.models import Corpus\n",
    "from hardware_utils import entity_level_f1\n",
    "import os\n",
    "\n",
    "gold_file = os.environ['SNORKELHOME'] + '/tutorials/tables/data/hardware/hardware_gold.csv'\n",
    "corpus = session.query(Corpus).filter(Corpus.name == 'Hardware Development').one()\n",
    "(TP, FP, FN) = entity_level_f1(tp, fp, tn, fn, gold_file, corpus, 'polarity')"
   ]
  },
  {
   "cell_type": "code",
   "execution_count": 34,
   "metadata": {
    "collapsed": false
   },
   "outputs": [
    {
     "name": "stdout",
     "output_type": "stream",
     "text": [
      "[]\n"
     ]
    }
   ],
   "source": [
    "from pprint import pprint\n",
    "FP_list = sorted(list(FP))\n",
    "pprint(FP_list[:10])"
   ]
  },
  {
   "cell_type": "code",
   "execution_count": 35,
   "metadata": {
    "collapsed": false
   },
   "outputs": [
    {
     "name": "stdout",
     "output_type": "stream",
     "text": [
      "[(u'TAB_e2_NEIGHBOR_PHRASE_WORDS_[pnp]', -0.0501637698387066), (u'VIZ_e2_PAGE_[1]', -0.03810835349405602), (u'TAB_e2_NEIGHBOR_PHRASE_WORDS_[pnp transistors]', -0.031226082778114554), (u'TAB_e2_NEIGHBOR_PHRASE_WORDS_[complementary pnp]', -0.031226082778114554), (u'TAB_e2_NEIGHBOR_PHRASE_WORDS_[complementary]', -0.031226082778114554), (u'TAB_e2_NEIGHBOR_PHRASE_WORDS_[recommended complementary]', -0.031226082778114554), (u'VIZ_e2_ALIGNED_characteristic', 0.026297737943929148), (u'VIZ_e2_ALIGNED_LEFT_sperrschicht', 0.026297737943929148), (u'VIZ_e2_ALIGNED_sperrschicht', 0.026297737943929148), (u'TAB_e2_RIGHT_WORDS_[transistors]', 0.026297737943929148), (u'VIZ_e2_ALIGNED_LEFT_point', 0.026297737943929148), (u'VIZ_e2_ALIGNED_current', 0.026297737943929148), (u'VIZ_e2_ALIGNED_junction', 0.026297737943929148), (u'VIZ_e2_ALIGNED_LEFT_frequency', 0.026297737943929148), (u'VIZ_e2_ALIGNED_capacitance', 0.026297737943929148), (u'TAB_e2_LEFT_WORDS_[recommended]', 0.026297737943929148), (u'VIZ_e2_ALIGNED_LEFT_cutoff', 0.026297737943929148), (u'VIZ_e2_ALIGNED_LEFT_capacitance', 0.026297737943929148), (u'VIZ_e2_ALIGNED_LEFT_transition', 0.026297737943929148), (u'VIZ_e2_ALIGNED_soldering', 0.026297737943929148), (u'VIZ_e2_ALIGNED_LEFT_junction', 0.026297737943929148), (u'VIZ_e2_ALIGNED_point', 0.026297737943929148), (u'VIZ_e2_ALIGNED_cutoff', 0.026297737943929148), (u'VIZ_e2_ALIGNED_LEFT_soldering', 0.026297737943929148), (u'VIZ_e2_ALIGNED_resistance', 0.026297737943929148), (u'VIZ_e2_ALIGNED_LEFT_current', 0.026297737943929148), (u'TAB_e2_LEFT_WORDS_[recommended complementary]', 0.026297737943929148), (u'VIZ_e2_ALIGNED_LEFT_transitfrequenz', 0.026297737943929148), (u'VIZ_e2_ALIGNED_LEFT_resistance', 0.026297737943929148), (u'VIZ_e2_ALIGNED_thermal', 0.026297737943929148), (u'VIZ_e2_ALIGNED_LEFT_characteristic', 0.026297737943929148), (u'TAB_e2_LEFT_WORDS_[complementary]', 0.026297737943929148), (u'VIZ_e2_ALIGNED_frequency', 0.026297737943929148), (u'VIZ_e2_ALIGNED_transitfrequenz', 0.026297737943929148), (u'VIZ_e2_ALIGNED_LEFT_to', 0.026297737943929148), (u'VIZ_e2_ALIGNED_LEFT_thermal', 0.026297737943929148), (u'VIZ_e2_ALIGNED_transition', 0.026297737943929148), (u'VIZ_e2_ALIGNED_to', 0.026297737943929148), (u'VIZ_e2_PAGE_[2]', 0.025096084654349815), (u'TAB_e2_NEIGHBOR_PHRASE_WORDS_[recommended]', -0.025008470702513823), (u'TAB_e2_NEIGHBOR_PHRASE_WORDS_[pf]', -0.021887012115983612), (u'TAB_e2_NEIGHBOR_PHRASE_WORDS_[saturation]', -0.021887012115983612), (u'TAB_e2_NEIGHBOR_PHRASE_WORDS_[saturation voltage]', -0.021887012115983612), (u'TAB_e2_NEIGHBOR_PHRASE_WORDS_[low]', -0.021887012115983612), (u'TAB_e2_NEIGHBOR_PHRASE_WORDS_[0 ,]', -0.021887012115983612), (u'TAB_e2_NEIGHBOR_PHRASE_WORDS_[dc )]', -0.021887012115983612), (u'TAB_e2_NEIGHBOR_PHRASE_WORDS_[min .]', -0.021887012115983612), (u'TAB_e2_NEIGHBOR_PHRASE_WORDS_[code]', -0.021887012115983612), (u'TAB_e2_NEIGHBOR_PHRASE_WORDS_[capacitance]', -0.021887012115983612), (u'TAB_e2_NEIGHBOR_PHRASE_WORDS_[base-emitter saturation]', -0.021887012115983612), (u'TAB_e2_NEIGHBOR_PHRASE_WORDS_[max .]', -0.021887012115983612), (u'TAB_e2_NEIGHBOR_PHRASE_WORDS_[( dc]', -0.021887012115983612), (u'TAB_e2_NEIGHBOR_PHRASE_WORDS_[typ .]', -0.021887012115983612), (u'TAB_e2_NEIGHBOR_PHRASE_WORDS_[4]', -0.021887012115983612), (u'TAB_e2_NEIGHBOR_PHRASE_WORDS_[collector-emitter saturation]', -0.021887012115983612), (u'TAB_e2_NEIGHBOR_PHRASE_WORDS_[base-emitter]', -0.021887012115983612), (u'TAB_e2_NEIGHBOR_PHRASE_WORDS_[type]', -0.021887012115983612), (u'TAB_e2_NEIGHBOR_PHRASE_WORDS_[30]', -0.01972614869067521), (u'TAB_e2_NEIGHBOR_PHRASE_WORDS_[1.2]', -0.01972614869067521), (u'TAB_e2_NEIGHBOR_PHRASE_WORDS_[, f]', -0.01972614869067521), (u'TAB_e2_NEIGHBOR_PHRASE_WORDS_[ce]', -0.019489647826612243), (u'TAB_e2_NEIGHBOR_PHRASE_WORDS_[storage temperature]', -0.019489647826612243), (u'TAB_e2_NEIGHBOR_PHRASE_WORDS_[fe]', -0.017499579278522963), (u'TAB_e2_NEIGHBOR_PHRASE_WORDS_[na]', -0.017499579278522963), (u'TAB_e2_NEIGHBOR_PHRASE_WORDS_[ma ,]', -0.017499579278522963), (u'TAB_e2_NEIGHBOR_PHRASE_WORDS_[base]', -0.017499579278522963), (u'TAB_e2_NEIGHBOR_PHRASE_WORDS_[cb]', -0.017499579278522963), (u'TAB_e2_NEIGHBOR_PHRASE_WORDS_[f =]', -0.01732878440130422), (u'TAB_e2_NEIGHBOR_PHRASE_WORDS_[f]', -0.01732878440130422), (u'TAB_e2_NEIGHBOR_PHRASE_WORDS_[power dissipation]', -0.01732878440130422), (u'TAB_e2_NEIGHBOR_PHRASE_WORDS_[power]', -0.01732878440130422), (u'TAB_e2_NEIGHBOR_PHRASE_WORDS_[30 ~]', -0.01693868722684182), (u'TAB_e2_NEIGHBOR_PHRASE_WORDS_[( sat]', -0.01693868722684182), (u'TAB_e2_NEIGHBOR_PHRASE_WORDS_[-10 ma]', -0.01693868722684182), (u'TAB_e2_NEIGHBOR_PHRASE_WORDS_[bc859/860]', -0.01693868722684182), (u'TAB_e2_RIGHT_WORDS_[transistor]', -0.01693868722684182), (u'TAB_e2_NEIGHBOR_PHRASE_WORDS_[-900]', -0.01693868722684182), (u'TAB_e2_NEIGHBOR_PHRASE_WORDS_[insertion]', -0.01693868722684182), (u'TAB_e2_NEIGHBOR_PHRASE_WORDS_[automatic insertion]', -0.01693868722684182), (u'TAB_e2_NEIGHBOR_PHRASE_WORDS_[condition]', -0.01693868722684182), (u'TAB_e2_NEIGHBOR_PHRASE_WORDS_[transistor]', -0.01693868722684182), (u'TAB_e2_NEIGHBOR_PHRASE_WORDS_[-2]', -0.01693868722684182), (u'TAB_e2_NEIGHBOR_PHRASE_WORDS_[-10 v]', -0.01693868722684182), (u'TAB_e2_NEIGHBOR_PHRASE_WORDS_[15000hz]', -0.01693868722684182), (u'TAB_e2_NEIGHBOR_PHRASE_WORDS_[-5 v]', -0.01693868722684182), (u'TAB_e2_NEIGHBOR_PHRASE_WORDS_[and amplifier]', -0.01693868722684182), (u'TAB_e2_NEIGHBOR_PHRASE_WORDS_[bc846]', -0.01693868722684182), (u'TAB_e2_NEIGHBOR_PHRASE_WORDS_[-80]', -0.01693868722684182), (u'TAB_e2_NEIGHBOR_PHRASE_WORDS_[856b]', -0.01693868722684182), (u'TAB_e2_NEIGHBOR_PHRASE_WORDS_[bc858/859]', -0.01693868722684182), (u'TAB_e2_NEIGHBOR_PHRASE_WORDS_[-250]', -0.01693868722684182), (u'TAB_e2_NEIGHBOR_PHRASE_WORDS_[420 ~]', -0.01693868722684182), (u'TAB_e2_NEIGHBOR_PHRASE_WORDS_[suitable for]', -0.01693868722684182), (u'TAB_e2_NEIGHBOR_PHRASE_WORDS_[silicon]', -0.01693868722684182), (u'TAB_e2_RIGHT_WORDS_[epitaxial silicon]', -0.01693868722684182), (u'TAB_e2_NEIGHBOR_PHRASE_WORDS_[complement]', -0.01693868722684182), (u'TAB_e2_NEIGHBOR_PHRASE_WORDS_[= -100]', -0.01693868722684182), (u'TAB_e2_NEIGHBOR_PHRASE_WORDS_[cut-off]', -0.01693868722684182), (u'TAB_e2_NEIGHBOR_PHRASE_WORDS_[858c]', -0.01693868722684182), (u'TAB_e2_NEIGHBOR_PHRASE_WORDS_[-5]', -0.01693868722684182), (u'TAB_e2_NEIGHBOR_PHRASE_WORDS_[, r]', -0.01693868722684182), (u'TAB_e2_NEIGHBOR_PHRASE_WORDS_[859/860]', -0.01693868722684182), (u'TAB_e2_NEIGHBOR_PHRASE_WORDS_[-90]', -0.01693868722684182), (u'TAB_e2_NEIGHBOR_PHRASE_WORDS_[= 2k]', -0.01693868722684182), (u'TAB_e2_NEIGHBOR_PHRASE_WORDS_[, bc860]', -0.01693868722684182), (u'TAB_e2_NEIGHBOR_PHRASE_WORDS_[base 2]', -0.01693868722684182), (u'TAB_e2_NEIGHBOR_PHRASE_WORDS_[: bc859/860]', -0.01693868722684182), (u'TAB_e2_NEIGHBOR_PHRASE_WORDS_[-65 ~]', -0.01693868722684182), (u'TAB_e2_NEIGHBOR_PHRASE_WORDS_[: bc856]', -0.01693868722684182), (u'TAB_e2_NEIGHBOR_PHRASE_WORDS_[marking code]', -0.01693868722684182), (u'TAB_e2_NEIGHBOR_PHRASE_WORDS_[-660]', -0.01693868722684182), (u'TAB_e2_NEIGHBOR_PHRASE_WORDS_[ob]', -0.01693868722684182), (u'TAB_e2_NEIGHBOR_PHRASE_WORDS_[= -10]', -0.01693868722684182), (u'TAB_e2_NEIGHBOR_PHRASE_WORDS_[200 ~]', -0.01693868722684182), (u'TAB_e2_NEIGHBOR_PHRASE_WORDS_[858b]', -0.01693868722684182), (u'TAB_e2_NEIGHBOR_PHRASE_WORDS_[insertion in]', -0.01693868722684182), (u'TAB_e2_NEIGHBOR_PHRASE_WORDS_[switching and]', -0.01693868722684182), (u'TAB_e2_NEIGHBOR_PHRASE_WORDS_[switching]', -0.01693868722684182), (u'TAB_e2_NEIGHBOR_PHRASE_WORDS_[-0.5 ma]', -0.01693868722684182), (u'TAB_e2_NEIGHBOR_PHRASE_WORDS_[sat]', -0.01693868722684182), (u'TAB_e2_NEIGHBOR_PHRASE_WORDS_[~ 15000hz]', -0.01693868722684182), (u'TAB_e2_NEIGHBOR_PHRASE_WORDS_[: bc856/857/858]', -0.01693868722684182), (u'TAB_e2_NEIGHBOR_PHRASE_WORDS_[858a]', -0.01693868722684182), (u'TAB_e2_NEIGHBOR_PHRASE_WORDS_[epitaxial]', -0.01693868722684182), (u'TAB_e2_NEIGHBOR_PHRASE_WORDS_[: bc860]', -0.01693868722684182), (u'TAB_e2_NEIGHBOR_PHRASE_WORDS_[complement to]', -0.01693868722684182), (u'TAB_e2_NEIGHBOR_PHRASE_WORDS_[: bc859]', -0.01693868722684182), (u'TAB_e2_NEIGHBOR_PHRASE_WORDS_[~ 450]', -0.01693868722684182), (u'TAB_e2_NEIGHBOR_PHRASE_WORDS_[thin-film circuits]', -0.01693868722684182), (u'TAB_e2_NEIGHBOR_PHRASE_WORDS_[bc850]', -0.01693868722684182), (u'TAB_e2_NEIGHBOR_PHRASE_WORDS_[1khz ,]', -0.01693868722684182), (u'TAB_e2_RIGHT_WORDS_[epitaxial]', -0.01693868722684182), (u'TAB_e2_NEIGHBOR_PHRASE_WORDS_[nf]', -0.01693868722684182), (u'TAB_e2_NEIGHBOR_PHRASE_WORDS_[base-emitter on]', -0.01693868722684182), (u'TAB_e2_NEIGHBOR_PHRASE_WORDS_[bc856/857/858]', -0.01693868722684182), (u'TAB_e2_NEIGHBOR_PHRASE_WORDS_[-65]', -0.01693868722684182), (u'TAB_e2_NEIGHBOR_PHRASE_WORDS_[~ 800]', -0.01693868722684182), (u'TAB_e2_NEIGHBOR_PHRASE_WORDS_[mv mv]', -0.01693868722684182), (u'TAB_e2_NEIGHBOR_PHRASE_WORDS_[2k]', -0.01693868722684182), (u'TAB_e2_NEIGHBOR_PHRASE_WORDS_[= -30]', -0.01693868722684182), (u'TAB_e2_NEIGHBOR_PHRASE_WORDS_[bc856/857/858 /]', -0.01693868722684182), (u'TAB_e2_NEIGHBOR_PHRASE_WORDS_[6]', -0.01693868722684182), (u'TAB_e2_NEIGHBOR_PHRASE_WORDS_[bandwidth]', -0.01693868722684182), (u'TAB_e2_NEIGHBOR_PHRASE_WORDS_[857b]', -0.01693868722684182), (u'TAB_e2_NEIGHBOR_PHRASE_WORDS_[low noise]', -0.01693868722684182), (u'TAB_e2_NEIGHBOR_PHRASE_WORDS_[-100]', -0.01693868722684182), (u'TAB_e2_NEIGHBOR_PHRASE_WORDS_[~ 220]', -0.01693868722684182), (u'TAB_e2_NEIGHBOR_PHRASE_WORDS_[automatic]', -0.01693868722684182), (u'TAB_e2_NEIGHBOR_PHRASE_WORDS_[856a]', -0.01693868722684182), (u'TAB_e2_NEIGHBOR_PHRASE_WORDS_[-800]', -0.01693868722684182), (u'TAB_e2_NEIGHBOR_PHRASE_WORDS_[...]', -0.01693868722684182), (u'TAB_e2_NEIGHBOR_PHRASE_WORDS_[bc856]', -0.01693868722684182), (u'TAB_e2_NEIGHBOR_PHRASE_WORDS_[in thick]', -0.01693868722684182), (u'TAB_e2_NEIGHBOR_PHRASE_WORDS_[-300]', -0.01693868722684182), (u'TAB_e2_NEIGHBOR_PHRASE_WORDS_[epitaxial silicon]', -0.01693868722684182), (u'TAB_e2_NEIGHBOR_PHRASE_WORDS_[= 1khz]', -0.01693868722684182), (u'TAB_e2_NEIGHBOR_PHRASE_WORDS_[= -200]', -0.01693868722684182), (u'TAB_e2_NEIGHBOR_PHRASE_WORDS_[cut-off current]', -0.01693868722684182), (u'TAB_e2_NEIGHBOR_PHRASE_WORDS_[to bc846]', -0.01693868722684182), (u'TAB_e2_NEIGHBOR_PHRASE_WORDS_[= -0.5]', -0.01693868722684182), (u'TAB_e2_NEIGHBOR_PHRASE_WORDS_[857c]', -0.01693868722684182), (u'TAB_e2_NEIGHBOR_PHRASE_WORDS_[suitable]', -0.01693868722684182), (u'TAB_e2_NEIGHBOR_PHRASE_WORDS_[amplifier applications]', -0.01693868722684182), (u'TAB_e2_NEIGHBOR_PHRASE_WORDS_[-0.5]', -0.01693868722684182), (u'TAB_e2_NEIGHBOR_PHRASE_WORDS_[collector power]', -0.01693868722684182), (u'TAB_e2_NEIGHBOR_PHRASE_WORDS_[= -5]', -0.01693868722684182), (u'TAB_e2_NEIGHBOR_PHRASE_WORDS_[thick and]', -0.01693868722684182), (u'TAB_e2_NEIGHBOR_PHRASE_WORDS_[noise]', -0.01693868722684182), (u'TAB_e2_NEIGHBOR_PHRASE_WORDS_[noise :]', -0.01693868722684182), (u'TAB_e2_NEIGHBOR_PHRASE_WORDS_[on voltage]', -0.01693868722684182), (u'TAB_e2_NEIGHBOR_PHRASE_WORDS_[800]', -0.01693868722684182), (u'TAB_e2_NEIGHBOR_PHRASE_WORDS_[collector cut-off]', -0.01693868722684182), (u'TAB_e2_NEIGHBOR_PHRASE_WORDS_[420]', -0.01693868722684182), (u'TAB_e2_NEIGHBOR_PHRASE_WORDS_[-50]', -0.01693868722684182), (u'TAB_e2_NEIGHBOR_PHRASE_WORDS_[856c]', -0.01693868722684182), (u'TAB_e2_NEIGHBOR_PHRASE_WORDS_[= -2]', -0.01693868722684182), (u'TAB_e2_NEIGHBOR_PHRASE_WORDS_[-2 ma]', -0.01693868722684182), (u'TAB_e2_NEIGHBOR_PHRASE_WORDS_[circuits]', -0.01693868722684182), (u'TAB_e2_NEIGHBOR_PHRASE_WORDS_[857a]', -0.01693868722684182), (u'TAB_e2_NEIGHBOR_PHRASE_WORDS_[-100 ma]', -0.01693868722684182), (u'TAB_e2_NEIGHBOR_PHRASE_WORDS_[bc846 ...]', -0.01693868722684182), (u'TAB_e2_NEIGHBOR_PHRASE_WORDS_[220]', -0.01693868722684182), (u'TAB_e2_NEIGHBOR_PHRASE_WORDS_[-200]', -0.01693868722684182), (u'TAB_e2_NEIGHBOR_PHRASE_WORDS_[: bc858/859]', -0.01693868722684182), (u'TAB_e2_NEIGHBOR_PHRASE_WORDS_[noise figure]', -0.01693868722684182), (u'TAB_e2_NEIGHBOR_PHRASE_WORDS_[bc860]', -0.01693868722684182), (u'TAB_e2_NEIGHBOR_PHRASE_WORDS_[bc857/860]', -0.01693868722684182), (u'TAB_e2_NEIGHBOR_PHRASE_WORDS_[-700]', -0.01693868722684182), (u'TAB_e2_NEIGHBOR_PHRASE_WORDS_[and thin-film]', -0.01693868722684182), (u'TAB_e2_NEIGHBOR_PHRASE_WORDS_[= 30]', -0.01693868722684182), (u'TAB_e2_NEIGHBOR_PHRASE_WORDS_[ma v]', -0.01693868722684182), (u'TAB_e2_NEIGHBOR_PHRASE_WORDS_[-650]', -0.01693868722684182), (u'TAB_e2_NEIGHBOR_PHRASE_WORDS_[thick]', -0.01693868722684182), (u'TAB_e2_NEIGHBOR_PHRASE_WORDS_[= 1mhz]', -0.01693868722684182), (u'TAB_e2_NEIGHBOR_PHRASE_WORDS_[-45]', -0.01693868722684182), (u'TAB_e2_NEIGHBOR_PHRASE_WORDS_[figure]', -0.01693868722684182), (u'TAB_e2_NEIGHBOR_PHRASE_WORDS_[-30 v]', -0.01693868722684182), (u'TAB_e2_NEIGHBOR_PHRASE_WORDS_[1khz]', -0.01693868722684182), (u'TAB_e2_NEIGHBOR_PHRASE_WORDS_[450]', -0.01693868722684182), (u'TAB_e2_NEIGHBOR_PHRASE_WORDS_[bandwidth product]', -0.01693868722684182), (u'TAB_e2_NEIGHBOR_PHRASE_WORDS_[: bc857/860]', -0.01693868722684182), (u'TAB_e2_NEIGHBOR_PHRASE_WORDS_[bc859]', -0.01693868722684182), (u'TAB_e2_NEIGHBOR_PHRASE_WORDS_[/ 859/860]', -0.01693868722684182), (u'TAB_e2_NEIGHBOR_PHRASE_WORDS_[110 ~]', -0.01693868722684182), (u'TAB_e2_NEIGHBOR_PHRASE_WORDS_[output capacitance]', -0.01693868722684182), (u'TAB_e2_NEIGHBOR_PHRASE_WORDS_[sat )]', -0.01693868722684182), (u'TAB_e2_NEIGHBOR_PHRASE_WORDS_[1mhz]', -0.01693868722684182), (u'TAB_e2_RIGHT_WORDS_[silicon transistor]', -0.01693868722684182), (u'TAB_e2_NEIGHBOR_PHRASE_WORDS_[test]', -0.01693868722684182), (u'TAB_e2_NEIGHBOR_PHRASE_WORDS_[310]', -0.01693868722684182), (u'TAB_e2_NEIGHBOR_PHRASE_WORDS_[~ 150]', -0.01693868722684182), (u'TAB_e2_NEIGHBOR_PHRASE_WORDS_[ma f]', -0.01693868722684182), (u'TAB_e2_NEIGHBOR_PHRASE_WORDS_[110]', -0.01693868722684182), (u'TAB_e2_NEIGHBOR_PHRASE_WORDS_[test condition]', -0.01693868722684182), (u'TAB_e2_NEIGHBOR_PHRASE_WORDS_[-15]', -0.01693868722684182), (u'TAB_e2_NEIGHBOR_PHRASE_WORDS_[gain bandwidth]', -0.01693868722684182), (u'TAB_e2_NEIGHBOR_PHRASE_WORDS_[pnp epitaxial]', -0.01693868722684182), (u'TAB_e2_NEIGHBOR_PHRASE_WORDS_[-750]', -0.01693868722684182), (u'TAB_e2_NEIGHBOR_PHRASE_WORDS_[bc859 ,]', -0.01693868722684182), (u'TAB_e2_NEIGHBOR_PHRASE_WORDS_[figure :]', -0.01693868722684182), (u'TAB_e2_NEIGHBOR_PHRASE_WORDS_[-30]', -0.01693868722684182), (u'TAB_e2_NEIGHBOR_PHRASE_WORDS_[db]', -0.01693868722684182), (u'TAB_e2_NEIGHBOR_PHRASE_WORDS_[mv]', -0.01693868722684182), (u'TAB_e2_NEIGHBOR_PHRASE_WORDS_[-600]', -0.01693868722684182), (u'TAB_e2_NEIGHBOR_PHRASE_WORDS_[ma i]', -0.01693868722684182), (u'TAB_e2_NEIGHBOR_PHRASE_WORDS_[product]', -0.01693868722684182), (u'TAB_e2_NEIGHBOR_PHRASE_WORDS_[-5 ma]', -0.01693868722684182), (u'TAB_e2_NEIGHBOR_PHRASE_WORDS_[v v]', -0.01693868722684182), (u'TAB_e2_NEIGHBOR_PHRASE_WORDS_[... bc850]', -0.01693868722684182), (u'TAB_e2_NEIGHBOR_PHRASE_WORDS_[silicon transistor]', -0.01693868722684182), (u'TAB_e2_NEIGHBOR_PHRASE_WORDS_[classification]', -0.01693868722684182), (u'TAB_e2_CONTAINS_WORDS_[NPN]', -0.01627860522172904), (u'TAB_e2_NEIGHBOR_PHRASE_WORDS_[sot-23]', -0.015573494721638569), (u'TAB_e2_NEIGHBOR_PHRASE_WORDS_[collector-emitter]', -0.015573494721638569), (u'TAB_e2_NEIGHBOR_PHRASE_WORDS_[collector-base]', -0.015573494721638569), (u'TDL_LEMMA:LEFT-OF-MENTION[/]', 0.015348271417599361), (u'TAB_e2_NEIGHBOR_PHRASE_WORDS_[dc current]', -0.01533871585321685), (u'TAB_e2_NEIGHBOR_PHRASE_WORDS_[, i]', -0.01533871585321685), (u'TAB_e2_NEIGHBOR_PHRASE_WORDS_[h]', -0.015102214989153826), (u'TAB_e2_NEIGHBOR_PHRASE_WORDS_[p]', -0.015102214989153826), (u'TAB_e2_NEIGHBOR_PHRASE_WORDS_[-10]', -0.014777823801535752), (u'TAB_e2_NEIGHBOR_PHRASE_WORDS_[~]', -0.014777823801535752), (u'TAB_e2_NEIGHBOR_PHRASE_WORDS_[1 .]', -0.014541322937472833), (u'TAB_e2_NEIGHBOR_PHRASE_WORDS_[2 .]', -0.014541322937472833), (u'VIZ_e2_ALIGNED_npn', -0.014492043275363244), (u'VIZ_e2_ALIGNED_Y_npn', -0.014492043275363244), (u'VIZ_SAME_PAGE', -0.013484608456970136), (u'TAB_e2_NEIGHBOR_PHRASE_WORDS_[200]', -0.013412631296330045), (u'TAB_e2_NEIGHBOR_PHRASE_WORDS_[the]', 0.013260178112740896), (u'TAB_e2_NEIGHBOR_PHRASE_WORDS_[device]', 0.013260178112740896), (u'TAB_e1_SPAN_TYPE_[IMPLICIT]', -0.013048912535419068), (u'TAB_e2_NEIGHBOR_PHRASE_WORDS_[dissipation]', -0.012941351563845321), (u'TAB_e2_NEIGHBOR_PHRASE_WORDS_[current gain]', -0.012941351563845321), (u'TAB_e2_NEIGHBOR_PHRASE_WORDS_[3]', -0.012941351563845321), (u'TAB_e2_NEIGHBOR_PHRASE_WORDS_[typ]', -0.012941351563845321), (u'TAB_e2_NEIGHBOR_PHRASE_WORDS_[0]', -0.012941351563845321), (u'TAB_e2_NEIGHBOR_PHRASE_WORDS_[gain]', -0.012941351563845321), (u'TAB_e2_NEIGHBOR_PHRASE_WORDS_[max]', -0.012941351563845321), (u'TAB_e2_NEIGHBOR_PHRASE_WORDS_[min]', -0.012941351563845321), (u'TAB_e2_NEIGHBOR_PHRASE_WORDS_[r]', -0.012941351563845321), (u'TAB_e2_NEIGHBOR_PHRASE_WORDS_[v ,]', -0.012941351563845321), (u'TAB_e2_NEIGHBOR_PHRASE_WORDS_[mw]', -0.012941351563845321), (u'TAB_e2_NEIGHBOR_PHRASE_WORDS_[dc]', -0.012941351563845321), (u'TAB_e2_NEIGHBOR_PHRASE_WORDS_[10]', -0.012941351563845321), (u'TAB_e2_RIGHT_WORDS_[silicon]', -0.012551254389382985), (u'TAB_e2_NEIGHBOR_PHRASE_WORDS_[g]', -0.012380459512164297), (u'TAB_e2_NEIGHBOR_PHRASE_WORDS_[output]', -0.012380459512164297), (u'TAB_e2_NEIGHBOR_PHRASE_WORDS_[thin-film]', -0.012380459512164297), (u'TAB_e2_NEIGHBOR_PHRASE_WORDS_[100mhz]', -0.012380459512164297), (u'TAB_e2_NEIGHBOR_PHRASE_WORDS_[= 100mhz]', -0.012380459512164297), (u'TAB_e2_NEIGHBOR_PHRASE_WORDS_[( on]', -0.012380459512164297), (u'TAB_e2_NEIGHBOR_PHRASE_WORDS_[on )]', -0.012380459512164297), (u'TDL_DEP_LABEL|LEMMA:BETWEEN-MENTION-and-MENTION[ROOT|bc817k]', 0.01196289387576395), (u'TDL_LEMMA:BETWEEN-MENTION-and-MENTION[bc817k]', 0.01196289387576395), (u'TAB_e2_NEIGHBOR_PHRASE_WORDS_[ebo]', -0.011186061884177251), (u'TAB_e2_NEIGHBOR_PHRASE_WORDS_[collector]', -0.011186061884177251), (u'TAB_e2_NEIGHBOR_PHRASE_WORDS_[marking]', -0.011186061884177251), (u'TAB_e2_NEIGHBOR_PHRASE_WORDS_[cbo]', -0.011186061884177251), (u'TAB_e2_NEIGHBOR_PHRASE_WORDS_[emitter-base]', -0.011186061884177251), (u'TAB_e2_NEIGHBOR_PHRASE_WORDS_[ceo]', -0.011186061884177251), (u'TAB_e2_NEIGHBOR_PHRASE_WORDS_[collector current]', -0.011186061884177251), (u'TAB_e2_NEIGHBOR_PHRASE_WORDS_[unit]', 0.011099314687432344), (u'TAB_e2_NEIGHBOR_PHRASE_WORDS_[information]', 0.011099314687432344), (u'TAB_e2_NEIGHBOR_PHRASE_WORDS_[ordering]', 0.011099314687432344), (u'TAB_e2_NEIGHBOR_PHRASE_WORDS_[ordering information]', 0.011099314687432344), (u'TAB_e2_NEIGHBOR_PHRASE_WORDS_[mhz]', -0.01101526700695857), (u'TAB_e2_NEIGHBOR_PHRASE_WORDS_[applications]', -0.010625169832496178), (u'TAB_e2_NEIGHBOR_PHRASE_WORDS_[collector-base voltage]', -0.010625169832496178), (u'TAB_e2_NEIGHBOR_PHRASE_WORDS_[collector-emitter voltage]', -0.010625169832496178), (u'TAB_e2_NEIGHBOR_PHRASE_WORDS_[emitter-base voltage]', -0.010625169832496178), (u'TAB_e2_NEIGHBOR_PHRASE_WORDS_[units]', -0.010390390964074481), (u'TDL_DEP_LABEL:BETWEEN-MENTION-and-MENTION[ROOT]', 0.010031738710728324), (u'TDL_BETWEEN-MENTION-and-MENTION[LEN:0-2]', 0.009733071619976266), (u'TDL_LEMMA:PARENTS-OF-BETWEEN-MENTION-and-MENTION[None]', 0.009475411082330751), (u'TAB_e1_COL_HEAD_WORDS_[parameter]', -0.00947163515520556), (u'TAB_e1_COL_WORDS_[collector-emitter]', -0.00947163515520556), (u'TAB_e1_COL_WORDS_[:]', -0.00947163515520556), (u'TAB_e1_COL_WORDS_[parameter]', -0.00947163515520556), (u'TAB_e1_COL_WORDS_[dc]', -0.00947163515520556), (u'TAB_e1_COL_WORDS_[current]', -0.00947163515520556), (u'TAB_e1_COL_WORDS_[voltage]', -0.00947163515520556), (u'TAB_e1_COL_WORDS_[collector]', -0.00947163515520556), (u'TAB_e2_NEIGHBOR_PHRASE_WORDS_[and]', -0.00902519845886863), (u'TAB_e2_NEIGHBOR_PHRASE_WORDS_[an]', 0.008872745275279167), (u'TAB_e2_NEIGHBOR_PHRASE_WORDS_[conditions]', 0.008872745275279167), (u'TAB_e2_NEIGHBOR_PHRASE_WORDS_[e]', -0.00878869759480565), (u'TAB_e2_NEIGHBOR_PHRASE_WORDS_[j]', -0.00878869759480565), (u'TAB_e2_NEIGHBOR_PHRASE_WORDS_[storage]', -0.00878869759480565), (u'TAB_e2_NEIGHBOR_PHRASE_WORDS_[junction temperature]', -0.00878869759480565), (u'TAB_e2_NEIGHBOR_PHRASE_WORDS_[junction]', -0.00878869759480565), (u'TAB_e2_NEIGHBOR_PHRASE_WORDS_[b]', -0.00878869759480565), (u'TAB_e2_NEIGHBOR_PHRASE_WORDS_[above]', 0.008701950398060413), (u'TAB_e2_NEIGHBOR_PHRASE_WORDS_[tape and]', 0.008701950398060413), (u'TAB_e2_NEIGHBOR_PHRASE_WORDS_[operating]', 0.008701950398060413), (u'TAB_e2_NEIGHBOR_PHRASE_WORDS_[2000]', 0.008701950398060413), (u'TAB_e2_NEIGHBOR_PHRASE_WORDS_[tape]', 0.008701950398060413), (u'TAB_e2_NEIGHBOR_PHRASE_WORDS_[6.0]', 0.008701950398060413), (u'TAB_e2_NEIGHBOR_PHRASE_WORDS_[stresses exceeding]', 0.008701950398060413), (u'TAB_e2_NEIGHBOR_PHRASE_WORDS_[damage the]', 0.008701950398060413), (u'TAB_e2_NEIGHBOR_PHRASE_WORDS_[ratings are]', 0.008701950398060413), (u'TAB_e2_NEIGHBOR_PHRASE_WORDS_[range]', 0.008701950398060413), (u'TAB_e2_NEIGHBOR_PHRASE_WORDS_[ammo]', 0.008701950398060413), (u'TAB_e2_NEIGHBOR_PHRASE_WORDS_[pack]', 0.008701950398060413), (u'TAB_e2_NEIGHBOR_PHRASE_WORDS_[these]', 0.008701950398060413), (u'TAB_e2_NEIGHBOR_PHRASE_WORDS_[temperature range]', 0.008701950398060413), (u'TAB_e2_NEIGHBOR_PHRASE_WORDS_[package]', 0.008701950398060413), (u'TAB_e2_NEIGHBOR_PHRASE_WORDS_[thermal characteristics]', 0.008701950398060413), (u'TAB_e2_NEIGHBOR_PHRASE_WORDS_[exceeding]', 0.008701950398060413), (u'TAB_e2_NEIGHBOR_PHRASE_WORDS_[damage]', 0.008701950398060413), (u'TAB_e2_NEIGHBOR_PHRASE_WORDS_[the device]', 0.008701950398060413), (u'TAB_e2_NEIGHBOR_PHRASE_WORDS_[-55 to]', 0.008701950398060413), (u'TAB_e2_NEIGHBOR_PHRASE_WORDS_[to-92]', 0.008701950398060413), (u'TAB_e2_NEIGHBOR_PHRASE_WORDS_[ratings may]', 0.008701950398060413), (u'TAB_e2_NEIGHBOR_PHRASE_WORDS_[storage junction]', 0.008701950398060413), (u'TAB_e2_NEIGHBOR_PHRASE_WORDS_[operating and]', 0.008701950398060413), (u'TAB_e2_NEIGHBOR_PHRASE_WORDS_[part]', 0.008701950398060413), (u'TAB_e2_NEIGHBOR_PHRASE_WORDS_[and reel]', 0.008701950398060413), (u'TAB_e2_NEIGHBOR_PHRASE_WORDS_[- continuous]', 0.008701950398060413), (u'TAB_e2_NEIGHBOR_PHRASE_WORDS_[bulk]', 0.008701950398060413), (u'TAB_e2_NEIGHBOR_PHRASE_WORDS_[continuous]', 0.008701950398060413), (u'TAB_e2_NEIGHBOR_PHRASE_WORDS_[may damage]', 0.008701950398060413), (u'TAB_e2_NEIGHBOR_PHRASE_WORDS_[device .]', 0.008701950398060413), (u'TAB_e2_NEIGHBOR_PHRASE_WORDS_[reel]', 0.008701950398060413), (u'TAB_e2_NEIGHBOR_PHRASE_WORDS_[are]', 0.008701950398060413), (u'TAB_e2_NEIGHBOR_PHRASE_WORDS_[and storage]', 0.008701950398060413), (u'TAB_e2_NEIGHBOR_PHRASE_WORDS_[may]', 0.008701950398060413), (u'TAB_e2_NEIGHBOR_PHRASE_WORDS_[60]', 0.008701950398060413), (u'TAB_e2_NEIGHBOR_PHRASE_WORDS_[these are]', 0.008701950398060413), (u'TAB_e2_NEIGHBOR_PHRASE_WORDS_[number]', 0.008701950398060413), (u'TAB_e2_NEIGHBOR_PHRASE_WORDS_[stresses]', 0.008701950398060413), (u'TAB_e2_CONTAINS_WORDS_[PNP]', 0.00841713822651663), (u'TDL_INV_DEP_LABEL:BETWEEN-MENTION-and-MENTION[ROOT]', -0.008353450048158904), (u'TAB_e2_NEIGHBOR_PHRASE_WORDS_[100]', 0.008317847229595674), (u'TAB_e2_NEIGHBOR_PHRASE_WORDS_[-]', 0.008317847229595674), (u'TAB_e2_NEIGHBOR_PHRASE_WORDS_[parameter]', -0.008227805543124703), (u'TAB_e2_NEIGHBOR_PHRASE_WORDS_[150]', -0.008227805543124703), (u'TAB_e2_NEIGHBOR_PHRASE_WORDS_[absolute]', -0.008227805543124703), (u'TAB_e2_NEIGHBOR_PHRASE_WORDS_[absolute maximum]', -0.008227805543124703), (u'VIZ_e1_PAGE_[1]', -0.008105063661948582), (u'TAB_e2_NEIGHBOR_PHRASE_WORDS_[for]', -0.007993026674702974), (u'TAB_e2_NEIGHBOR_PHRASE_WORDS_[in]', -0.007993026674702974), (u'TAB_e2_NEIGHBOR_PHRASE_WORDS_[= 0]', -0.007993026674702974), (u'TAB_e2_NEIGHBOR_PHRASE_WORDS_[electrical characteristics]', -0.007993026674702974), (u'TAB_e2_NEIGHBOR_PHRASE_WORDS_[electrical]', -0.007993026674702974), (u'TAB_e2_NEIGHBOR_PHRASE_WORDS_[current (]', -0.007993026674702974), (u'TAB_e2_LEFT_WORDS_[bc856/857/858]', -0.007796124503080383), (u'TAB_e2_LEFT_WORDS_[859/860]', -0.007796124503080383), (u'TAB_e2_LEFT_WORDS_[/ 859/860]', -0.007796124503080383), (u'TAB_e2_LEFT_WORDS_[bc856/857/858 /]', -0.007796124503080383), (u'TAB_e1_NEIGHBOR_PHRASE_WORDS_[pnp]', -0.007484568278031223), (u'TAB_e1_NEIGHBOR_PHRASE_WORDS_[code]', -0.007484568278031223), (u'TAB_e1_NEIGHBOR_PHRASE_WORDS_[typ .]', -0.007484568278031223), (u'TAB_e1_NEIGHBOR_PHRASE_WORDS_[base-emitter saturation]', -0.007484568278031223), (u'TAB_e1_NEIGHBOR_PHRASE_WORDS_[( dc]', -0.007484568278031223), (u'TAB_e1_NEIGHBOR_PHRASE_WORDS_[type]', -0.007484568278031223), (u'TAB_e1_NEIGHBOR_PHRASE_WORDS_[max .]', -0.007484568278031223), (u'TAB_e1_NEIGHBOR_PHRASE_WORDS_[capacitance]', -0.007484568278031223), (u'TAB_e1_NEIGHBOR_PHRASE_WORDS_[dc )]', -0.007484568278031223), (u'TAB_e1_NEIGHBOR_PHRASE_WORDS_[base-emitter]', -0.007484568278031223), (u'TAB_e1_NEIGHBOR_PHRASE_WORDS_[pf]', -0.007484568278031223), (u'TAB_e1_NEIGHBOR_PHRASE_WORDS_[collector-emitter saturation]', -0.007484568278031223), (u'TAB_e1_NEIGHBOR_PHRASE_WORDS_[4]', -0.007484568278031223), (u'TAB_e1_NEIGHBOR_PHRASE_WORDS_[min .]', -0.007484568278031223), (u'TAB_e1_NEIGHBOR_PHRASE_WORDS_[saturation voltage]', -0.007484568278031223), (u'TAB_e1_NEIGHBOR_PHRASE_WORDS_[saturation]', -0.007484568278031223), (u'TAB_e1_NEIGHBOR_PHRASE_WORDS_[0 ,]', -0.007484568278031223), (u'TAB_e1_ROW_WORDS_[v]', -0.007324115097011077), (u'VIZ_e2_ALIGNED_CENTER_and', -0.007143562890013462), (u'VIZ_e2_ALIGNED_RIGHT_switching', -0.007143562890013462), (u'VIZ_e2_ALIGNED_CENTER_amplifier', -0.007143562890013462), (u'VIZ_e2_ALIGNED_application', -0.007143562890013462), (u'VIZ_e2_ALIGNED_RIGHT_and', -0.007143562890013462), (u'VIZ_e2_ALIGNED_CENTER_switching', -0.007143562890013462), (u'VIZ_e2_ALIGNED_RIGHT_amplifier', -0.007143562890013462), (u'TAB_e2_NEIGHBOR_PHRASE_WORDS_[859/860 pnp]', -0.007143562890013462), (u'VIZ_e2_ALIGNED_switching', -0.007143562890013462), (u'VIZ_e2_ALIGNED_RIGHT_application', -0.007143562890013462), (u'VIZ_e2_ALIGNED_and', -0.007143562890013462), (u'VIZ_e2_ALIGNED_LEFT_and', -0.007143562890013462), (u'VIZ_e2_ALIGNED_amplifier', -0.007143562890013462), (u'VIZ_e2_ALIGNED_CENTER_application', -0.007143562890013462), (u'VIZ_e2_ALIGNED_LEFT_application', -0.007143562890013462), (u'VIZ_e2_ALIGNED_LEFT_switching', -0.007143562890013462), (u'VIZ_e2_ALIGNED_LEFT_amplifier', -0.007143562890013462), (u'TAB_e2_LEFT_WORDS_[/]', -0.00699673006754699), (u'TAB_e1_COL_NUM_[1]', -0.006962987862409421), (u'TAB_e2_NEIGHBOR_PHRASE_WORDS_[only]', 0.006946660718391299), (u'TAB_e2_NEIGHBOR_PHRASE_WORDS_[0 )]', 0.006946660718391299), (u'TAB_e2_NEIGHBOR_PHRASE_WORDS_[@]', 0.006946660718391299), (u'TAB_e2_NEIGHBOR_PHRASE_WORDS_[( v]', 0.006946660718391299), (u'TAB_e2_NEIGHBOR_PHRASE_WORDS_[features]', 0.006946660718391299), (u'TAB_e2_NEIGHBOR_PHRASE_WORDS_[off]', 0.006946660718391299), (u'TAB_e2_NEIGHBOR_PHRASE_WORDS_[lead]', 0.006946660718391299), (u'TAB_e2_NEIGHBOR_PHRASE_WORDS_[voltage (]', 0.006946660718391299), (u'TAB_e2_NEIGHBOR_PHRASE_WORDS_[( i]', 0.006946660718391299), (u'TAB_e1_NEIGHBOR_PHRASE_WORDS_[low]', -0.006719268036390628), (u'TAB_e2_NEIGHBOR_PHRASE_WORDS_[v]', -0.006627834169495561), (u'TAB_e2_NEIGHBOR_PHRASE_WORDS_[(]', -0.006627834169495561), (u'TAB_e2_NEIGHBOR_PHRASE_WORDS_[a]', -0.006627834169495561), (u'TAB_e2_NEIGHBOR_PHRASE_WORDS_[ma]', -0.006627834169495561), (u'TAB_e2_NEIGHBOR_PHRASE_WORDS_[i]', -0.006627834169495561), (u'TAB_e2_NEIGHBOR_PHRASE_WORDS_[?]', -0.006627834169495561), (u'TAB_e2_NEIGHBOR_PHRASE_WORDS_[)]', -0.006627834169495561), (u'TAB_e2_NEIGHBOR_PHRASE_WORDS_[t]', -0.006627834169495561), (u'TAB_e2_NEIGHBOR_PHRASE_WORDS_[2]', -0.006627834169495561), (u'TAB_e2_NEIGHBOR_PHRASE_WORDS_[=]', -0.006627834169495561), (u'TAB_e2_NEIGHBOR_PHRASE_WORDS_[/]', -0.006627834169495561), (u'TAB_e2_NEIGHBOR_PHRASE_WORDS_[voltage]', -0.006627834169495561), (u'TAB_e2_NEIGHBOR_PHRASE_WORDS_[,]', -0.006627834169495561), (u'TAB_e2_NEIGHBOR_PHRASE_WORDS_[maximum]', -0.006627834169495561), (u'TAB_e2_NEIGHBOR_PHRASE_WORDS_[.]', -0.006627834169495561), (u'TAB_e2_SPAN_TYPE_[EXPLICIT]', -0.006627834169495561), (u'TAB_e2_NEIGHBOR_PHRASE_WORDS_[current]', -0.006627834169495561), (u'TAB_e2_NEIGHBOR_PHRASE_WORDS_[1]', -0.006627834169495561), (u'TAB_e2_NEIGHBOR_PHRASE_WORDS_[25]', -0.006627834169495561), (u'TAB_e2_NEIGHBOR_PHRASE_WORDS_[temperature]', -0.006627834169495561), (u'TAB_e2_NEIGHBOR_PHRASE_WORDS_[ratings]', -0.006627834169495561), (u'TAB_e2_NEIGHBOR_PHRASE_WORDS_[to]', -0.006627834169495561), (u'TAB_e2_NEIGHBOR_PHRASE_WORDS_[characteristics]', -0.006627834169495561), (u'TAB_e2_NEIGHBOR_PHRASE_WORDS_[c]', -0.006627834169495561), (u'TAB_e2_NEIGHBOR_PHRASE_WORDS_[mark]', 0.006475380985906489), (u'TAB_e2_NEIGHBOR_PHRASE_WORDS_[1 )]', 0.006475380985906489), (u'TAB_e2_NEIGHBOR_PHRASE_WORDS_[( 2]', 0.006475380985906489), (u'TAB_e2_NEIGHBOR_PHRASE_WORDS_[limits]', 0.006475380985906489), (u'TAB_e2_NEIGHBOR_PHRASE_WORDS_[at]', 0.006475380985906489), (u'TAB_e2_NEIGHBOR_PHRASE_WORDS_[( 1]', 0.006475380985906489), (u'TAB_e2_NEIGHBOR_PHRASE_WORDS_[method]', 0.006475380985906489), (u'TAB_e2_NEIGHBOR_PHRASE_WORDS_[amplifier]', -0.006237736995033233), (u'TAB_e2_NEIGHBOR_PHRASE_WORDS_[value]', -0.006237736995033233), (u'TAB_e2_NEIGHBOR_PHRASE_WORDS_[-55]', 0.006156983804285956), (u'TAB_e1_NEIGHBOR_PHRASE_WORDS_[collector-emitter]', -0.006146407912311814), (u'TAB_e1_NEIGHBOR_PHRASE_WORDS_[collector-base]', -0.006146407912311814), (u'TAB_e1_NEIGHBOR_PHRASE_WORDS_[sot-23]', -0.006146407912311814), (u'TDL_INV_BETWEEN-MENTION-and-MENTION[LEN:0-2]', -0.0061003981052431665), (u'TDL_INV_LEMMA:PARENTS-OF-BETWEEN-MENTION-and-MENTION[None]', -0.0061003981052431665), (u'TAB_e1_NEIGHBOR_PHRASE_WORDS_[device]', 0.005935339585154474), (u'TAB_e1_NEIGHBOR_PHRASE_WORDS_[the]', 0.005935339585154474), (u'TAB_e1_NEIGHBOR_PHRASE_WORDS_[-30]', -0.005468052237888521), (u'TAB_e1_NEIGHBOR_PHRASE_WORDS_[-2 ma]', -0.005468052237888521), (u'TAB_e1_NEIGHBOR_PHRASE_WORDS_[automatic]', -0.005468052237888521), (u'TAB_e1_NEIGHBOR_PHRASE_WORDS_[-10 ma]', -0.005468052237888521), (u'TAB_e1_NEIGHBOR_PHRASE_WORDS_[epitaxial silicon]', -0.005468052237888521), (u'TAB_e1_NEIGHBOR_PHRASE_WORDS_[-300]', -0.005468052237888521), (u'TAB_e1_NEIGHBOR_PHRASE_WORDS_[-750]', -0.005468052237888521), (u'TAB_e1_NEIGHBOR_PHRASE_WORDS_[figure :]', -0.005468052237888521), (u'TAB_e1_NEIGHBOR_PHRASE_WORDS_[-5 v]', -0.005468052237888521), (u'TAB_e1_NEIGHBOR_PHRASE_WORDS_[: bc859]', -0.005468052237888521), (u'TAB_e1_NEIGHBOR_PHRASE_WORDS_[: bc860]', -0.005468052237888521), (u'TAB_e1_NEIGHBOR_PHRASE_WORDS_[cut-off current]', -0.005468052237888521), (u'TAB_e1_NEIGHBOR_PHRASE_WORDS_[800]', -0.005468052237888521), (u'TAB_e1_NEIGHBOR_PHRASE_WORDS_[30 ~]', -0.005468052237888521), (u'TAB_e1_NEIGHBOR_PHRASE_WORDS_[= -5]', -0.005468052237888521), (u'TAB_e1_NEIGHBOR_PHRASE_WORDS_[15000hz]', -0.005468052237888521), (u'TAB_e1_NEIGHBOR_PHRASE_WORDS_[420 ~]', -0.005468052237888521), (u'TAB_e1_NEIGHBOR_PHRASE_WORDS_[condition]', -0.005468052237888521), (u'TAB_e1_NEIGHBOR_PHRASE_WORDS_[310]', -0.005468052237888521), (u'TAB_e1_NEIGHBOR_PHRASE_WORDS_[~ 150]', -0.005468052237888521), (u'TAB_e1_NEIGHBOR_PHRASE_WORDS_[test condition]', -0.005468052237888521), (u'TAB_e1_NEIGHBOR_PHRASE_WORDS_[epitaxial]', -0.005468052237888521), (u'TAB_e1_NEIGHBOR_PHRASE_WORDS_[~ 220]', -0.005468052237888521), (u'TAB_e1_NEIGHBOR_PHRASE_WORDS_[-200]', -0.005468052237888521), (u'TAB_e1_NEIGHBOR_PHRASE_WORDS_[= -100]', -0.005468052237888521), (u'TAB_e1_NEIGHBOR_PHRASE_WORDS_[sat )]', -0.005468052237888521), (u'TAB_e1_NEIGHBOR_PHRASE_WORDS_[-65 ~]', -0.005468052237888521), (u'TAB_e1_NEIGHBOR_PHRASE_WORDS_[-100]', -0.005468052237888521), (u'TAB_e1_NEIGHBOR_PHRASE_WORDS_[bandwidth product]', -0.005468052237888521), (u'TAB_e1_NEIGHBOR_PHRASE_WORDS_[suitable]', -0.005468052237888521), (u'TAB_e1_NEIGHBOR_PHRASE_WORDS_[collector power]', -0.005468052237888521), (u'TAB_e1_NEIGHBOR_PHRASE_WORDS_[-600]', -0.005468052237888521), (u'TAB_e1_NEIGHBOR_PHRASE_WORDS_[200 ~]', -0.005468052237888521), (u'TAB_e1_NEIGHBOR_PHRASE_WORDS_[nf]', -0.005468052237888521), (u'TAB_e1_NEIGHBOR_PHRASE_WORDS_[: bc858/859]', -0.005468052237888521), (u'TAB_e1_NEIGHBOR_PHRASE_WORDS_[-50]', -0.005468052237888521), (u'TAB_e1_NEIGHBOR_PHRASE_WORDS_[-800]', -0.005468052237888521), (u'TAB_e1_NEIGHBOR_PHRASE_WORDS_[base-emitter on]', -0.005468052237888521), (u'TAB_e1_NEIGHBOR_PHRASE_WORDS_[= -2]', -0.005468052237888521), (u'TAB_e1_NEIGHBOR_PHRASE_WORDS_[suitable for]', -0.005468052237888521), (u'TAB_e1_NEIGHBOR_PHRASE_WORDS_[sat]', -0.005468052237888521), (u'TAB_e1_NEIGHBOR_PHRASE_WORDS_[bc856/857/858 /]', -0.005468052237888521), (u'TAB_e1_NEIGHBOR_PHRASE_WORDS_[( sat]', -0.005468052237888521), (u'TAB_e1_NEIGHBOR_PHRASE_WORDS_[-65]', -0.005468052237888521), (u'TAB_e1_NEIGHBOR_PHRASE_WORDS_[bc856]', -0.005468052237888521), (u'TAB_e1_NEIGHBOR_PHRASE_WORDS_[= 30]', -0.005468052237888521), (u'TAB_e1_NEIGHBOR_PHRASE_WORDS_[6]', -0.005468052237888521), (u'TAB_e1_NEIGHBOR_PHRASE_WORDS_[marking code]', -0.005468052237888521), (u'TAB_e1_NEIGHBOR_PHRASE_WORDS_[-10 v]', -0.005468052237888521), (u'TAB_e1_NEIGHBOR_PHRASE_WORDS_[-700]', -0.005468052237888521), (u'TAB_e1_NEIGHBOR_PHRASE_WORDS_[ma i]', -0.005468052237888521), (u'TAB_e1_NEIGHBOR_PHRASE_WORDS_[= 1mhz]', -0.005468052237888521), (u'TAB_e1_NEIGHBOR_PHRASE_WORDS_[ob]', -0.005468052237888521), (u'TAB_e1_NEIGHBOR_PHRASE_WORDS_[ma f]', -0.005468052237888521), (u'TAB_e1_NEIGHBOR_PHRASE_WORDS_[insertion in]', -0.005468052237888521), (u'TAB_e1_NEIGHBOR_PHRASE_WORDS_[base 2]', -0.005468052237888521), (u'TAB_e1_NEIGHBOR_PHRASE_WORDS_[cut-off]', -0.005468052237888521), (u'TAB_e1_NEIGHBOR_PHRASE_WORDS_[= 2k]', -0.005468052237888521), (u'TAB_e1_NEIGHBOR_PHRASE_WORDS_[857a]', -0.005468052237888521), (u'TAB_e1_NEIGHBOR_PHRASE_WORDS_[v v]', -0.005468052237888521), (u'TAB_e1_NEIGHBOR_PHRASE_WORDS_[classification]', -0.005468052237888521), (u'TAB_e1_NEIGHBOR_PHRASE_WORDS_[test]', -0.005468052237888521), (u'TAB_e1_NEIGHBOR_PHRASE_WORDS_[-660]', -0.005468052237888521), (u'TAB_e1_NEIGHBOR_PHRASE_WORDS_[, r]', -0.005468052237888521), (u'TAB_e1_NEIGHBOR_PHRASE_WORDS_[856b]', -0.005468052237888521), (u'TAB_e1_NEIGHBOR_PHRASE_WORDS_[1khz ,]', -0.005468052237888521), (u'TAB_e1_NEIGHBOR_PHRASE_WORDS_[110 ~]', -0.005468052237888521), (u'TAB_e1_NEIGHBOR_PHRASE_WORDS_[bc859]', -0.005468052237888521), (u'TAB_e1_NEIGHBOR_PHRASE_WORDS_[~ 450]', -0.005468052237888521), (u'TAB_e1_NEIGHBOR_PHRASE_WORDS_[: bc857/860]', -0.005468052237888521), (u'TAB_e1_NEIGHBOR_PHRASE_WORDS_[product]', -0.005468052237888521), (u'TAB_e1_NEIGHBOR_PHRASE_WORDS_[: bc856]', -0.005468052237888521), (u'TAB_e1_NEIGHBOR_PHRASE_WORDS_[bc858/859]', -0.005468052237888521), (u'TAB_e1_NEIGHBOR_PHRASE_WORDS_[-650]', -0.005468052237888521), (u'TAB_e1_NEIGHBOR_PHRASE_WORDS_[857b]', -0.005468052237888521), (u'TAB_e1_NEIGHBOR_PHRASE_WORDS_[= -30]', -0.005468052237888521), (u'TAB_e1_NEIGHBOR_PHRASE_WORDS_[856c]', -0.005468052237888521), (u'TAB_e1_NEIGHBOR_PHRASE_WORDS_[857c]', -0.005468052237888521), (u'TAB_e1_NEIGHBOR_PHRASE_WORDS_[-250]', -0.005468052237888521), (u'TAB_e1_NEIGHBOR_PHRASE_WORDS_[-5 ma]', -0.005468052237888521), (u'TAB_e1_NEIGHBOR_PHRASE_WORDS_[-900]', -0.005468052237888521), (u'TAB_e1_NEIGHBOR_PHRASE_WORDS_[: bc856/857/858]', -0.005468052237888521), (u'TAB_e1_NEIGHBOR_PHRASE_WORDS_[858b]', -0.005468052237888521), (u'TAB_e1_NEIGHBOR_PHRASE_WORDS_[db]', -0.005468052237888521), (u'TAB_e1_NEIGHBOR_PHRASE_WORDS_[figure]', -0.005468052237888521), (u'TAB_e1_NEIGHBOR_PHRASE_WORDS_[450]', -0.005468052237888521), (u'TAB_e1_NEIGHBOR_PHRASE_WORDS_[858a]', -0.005468052237888521), (u'TAB_e1_NEIGHBOR_PHRASE_WORDS_[/ 859/860]', -0.005468052237888521), (u'TAB_e1_NEIGHBOR_PHRASE_WORDS_[circuits]', -0.005468052237888521), (u'TAB_e1_NEIGHBOR_PHRASE_WORDS_[858c]', -0.005468052237888521), (u'TAB_e1_NEIGHBOR_PHRASE_WORDS_[thick]', -0.005468052237888521), (u'TAB_e1_NEIGHBOR_PHRASE_WORDS_[= 1khz]', -0.005468052237888521), (u'TAB_e1_NEIGHBOR_PHRASE_WORDS_[bc860]', -0.005468052237888521), (u'TAB_e1_NEIGHBOR_PHRASE_WORDS_[thick and]', -0.005468052237888521), (u'TAB_e1_NEIGHBOR_PHRASE_WORDS_[= -10]', -0.005468052237888521), (u'TAB_e1_NEIGHBOR_PHRASE_WORDS_[110]', -0.005468052237888521), (u'TAB_e1_NEIGHBOR_PHRASE_WORDS_[and amplifier]', -0.005468052237888521), (u'TAB_e1_NEIGHBOR_PHRASE_WORDS_[mv]', -0.005468052237888521), (u'TAB_e1_NEIGHBOR_PHRASE_WORDS_[1khz]', -0.005468052237888521), (u'TAB_e1_NEIGHBOR_PHRASE_WORDS_[and thin-film]', -0.005468052237888521), (u'TAB_e1_NEIGHBOR_PHRASE_WORDS_[switching]', -0.005468052237888521), (u'TAB_e1_NEIGHBOR_PHRASE_WORDS_[-45]', -0.005468052237888521), (u'TAB_e1_NEIGHBOR_PHRASE_WORDS_[-90]', -0.005468052237888521), (u'TAB_e1_NEIGHBOR_PHRASE_WORDS_[220]', -0.005468052237888521), (u'TAB_e1_NEIGHBOR_PHRASE_WORDS_[noise]', -0.005468052237888521), (u'TAB_e1_NEIGHBOR_PHRASE_WORDS_[-100 ma]', -0.005468052237888521), (u'TAB_e1_NEIGHBOR_PHRASE_WORDS_[-5]', -0.005468052237888521), (u'TAB_e1_NEIGHBOR_PHRASE_WORDS_[noise figure]', -0.005468052237888521), (u'TAB_e1_NEIGHBOR_PHRASE_WORDS_[switching and]', -0.005468052237888521), (u'TAB_e1_NEIGHBOR_PHRASE_WORDS_[-0.5 ma]', -0.005468052237888521), (u'TAB_e1_NEIGHBOR_PHRASE_WORDS_[pnp epitaxial]', -0.005468052237888521), (u'TAB_e1_NEIGHBOR_PHRASE_WORDS_[mv mv]', -0.005468052237888521), (u'TAB_e1_NEIGHBOR_PHRASE_WORDS_[automatic insertion]', -0.005468052237888521), (u'TAB_e1_NEIGHBOR_PHRASE_WORDS_[thin-film circuits]', -0.005468052237888521), (u'TAB_e1_NEIGHBOR_PHRASE_WORDS_[-80]', -0.005468052237888521), (u'TAB_e1_NEIGHBOR_PHRASE_WORDS_[-15]', -0.005468052237888521), (u'TAB_e1_NEIGHBOR_PHRASE_WORDS_[-0.5]', -0.005468052237888521), (u'TAB_e1_NEIGHBOR_PHRASE_WORDS_[420]', -0.005468052237888521), (u'TAB_e1_NEIGHBOR_PHRASE_WORDS_[in thick]', -0.005468052237888521), (u'TAB_e1_NEIGHBOR_PHRASE_WORDS_[2k]', -0.005468052237888521), (u'TAB_e1_NEIGHBOR_PHRASE_WORDS_[~ 15000hz]', -0.005468052237888521), (u'TAB_e1_NEIGHBOR_PHRASE_WORDS_[= -200]', -0.005468052237888521), (u'TAB_e1_NEIGHBOR_PHRASE_WORDS_[gain bandwidth]', -0.005468052237888521), (u'TAB_e1_NEIGHBOR_PHRASE_WORDS_[silicon transistor]', -0.005468052237888521), (u'TAB_e1_NEIGHBOR_PHRASE_WORDS_[ma v]', -0.005468052237888521), (u'TAB_e1_NEIGHBOR_PHRASE_WORDS_[bc856/857/858]', -0.005468052237888521), (u'TAB_e1_NEIGHBOR_PHRASE_WORDS_[collector cut-off]', -0.005468052237888521), (u'TAB_e1_NEIGHBOR_PHRASE_WORDS_[: bc859/860]', -0.005468052237888521), (u'TAB_e1_NEIGHBOR_PHRASE_WORDS_[amplifier applications]', -0.005468052237888521), (u'TAB_e1_NEIGHBOR_PHRASE_WORDS_[on voltage]', -0.005468052237888521), (u'TAB_e1_NEIGHBOR_PHRASE_WORDS_[bandwidth]', -0.005468052237888521), (u'TAB_e1_NEIGHBOR_PHRASE_WORDS_[bc859/860]', -0.005468052237888521), (u'TAB_e1_NEIGHBOR_PHRASE_WORDS_[856a]', -0.005468052237888521), (u'TAB_e1_NEIGHBOR_PHRASE_WORDS_[output capacitance]', -0.005468052237888521), (u'TAB_e1_NEIGHBOR_PHRASE_WORDS_[1mhz]', -0.005468052237888521), (u'TAB_e1_NEIGHBOR_PHRASE_WORDS_[859/860]', -0.005468052237888521), (u'TAB_e1_NEIGHBOR_PHRASE_WORDS_[= -0.5]', -0.005468052237888521), (u'TAB_e1_NEIGHBOR_PHRASE_WORDS_[~ 800]', -0.005468052237888521), (u'TAB_e1_NEIGHBOR_PHRASE_WORDS_[insertion]', -0.005468052237888521), (u'TAB_e1_NEIGHBOR_PHRASE_WORDS_[-2]', -0.005468052237888521), (u'TAB_e1_NEIGHBOR_PHRASE_WORDS_[bc857/860]', -0.005468052237888521), (u'TAB_e1_NEIGHBOR_PHRASE_WORDS_[-30 v]', -0.005468052237888521), (u'TAB_e1_NEIGHBOR_PHRASE_WORDS_[cb]', -0.005446616939526203), (u'TAB_e1_NEIGHBOR_PHRASE_WORDS_[fe]', -0.005446616939526203), (u'TAB_e1_NEIGHBOR_PHRASE_WORDS_[na]', -0.005446616939526203), (u'TAB_e1_NEIGHBOR_PHRASE_WORDS_[ma ,]', -0.005446616939526203), (u'TAB_e1_NEIGHBOR_PHRASE_WORDS_[base]', -0.005446616939526203), (u'TAB_e1_NEIGHBOR_PHRASE_WORDS_[, f]', -0.005323704852722731), (u'TAB_e1_NEIGHBOR_PHRASE_WORDS_[30]', -0.005323704852722731), (u'TAB_e1_NEIGHBOR_PHRASE_WORDS_[1.2]', -0.005323704852722731), (u'TAB_e1_ROW_WORDS_[:]', -0.005297224515680903), (u'TAB_e1_CELL_WORDS_[:]', -0.005297224515680903), (u'TAB_e1_NEIGHBOR_PHRASE_WORDS_[ce]', -0.0050872039886597905), (u'TAB_e1_NEIGHBOR_PHRASE_WORDS_[storage temperature]', -0.0050872039886597905), (u'TAB_e1_COL_SPAN_[1]', -0.005078605476618773), (u'TAB_e1_ROW_SPAN_[1]', -0.005078605476618773), (u'TAB_e2_NEIGHBOR_PHRASE_WORDS_[d]', 0.0047857972930827565), (u'TAB_e2_NEIGHBOR_PHRASE_WORDS_[components]', 0.0047857972930827565), (u'TAB_e2_NEIGHBOR_PHRASE_WORDS_[rating]', 0.0047857972930827565), (u'TAB_e2_NEIGHBOR_PHRASE_WORDS_[note]', 0.0047857972930827565), (u'TAB_e1_NEIGHBOR_PHRASE_WORDS_[, bc860]', -0.004702751996247905), (u'TAB_e1_NEIGHBOR_PHRASE_WORDS_[low noise]', -0.004702751996247905), (u'TAB_e1_NEIGHBOR_PHRASE_WORDS_[bc859 ,]', -0.004702751996247905), (u'TAB_e1_NEIGHBOR_PHRASE_WORDS_[noise :]', -0.004702751996247905), (u'TAB_e1_ROW_WORDS_[to-92]', 0.004609676504802394), (u'TAB_e1_NEIGHBOR_PHRASE_WORDS_[@]', 0.004597179219434983), (u'TAB_e1_NEIGHBOR_PHRASE_WORDS_[only]', 0.004597179219434983), (u'TAB_e1_NEIGHBOR_PHRASE_WORDS_[0 )]', 0.004597179219434983), (u'TAB_e1_NEIGHBOR_PHRASE_WORDS_[lead]', 0.004597179219434983), (u'TAB_e1_NEIGHBOR_PHRASE_WORDS_[( v]', 0.004597179219434983), (u'TAB_e1_NEIGHBOR_PHRASE_WORDS_[voltage (]', 0.004597179219434983), (u'TAB_e1_NEIGHBOR_PHRASE_WORDS_[( i]', 0.004597179219434983), (u'TAB_e1_NEIGHBOR_PHRASE_WORDS_[off]', 0.004597179219434983), (u'TAB_e1_NEIGHBOR_PHRASE_WORDS_[features]', 0.004597179219434983), (u'TAB_e2_NEIGHBOR_PHRASE_WORDS_[@ t]', 0.004549296429019753), (u'TAB_e2_NEIGHBOR_PHRASE_WORDS_[noted )]', 0.004549296429019753), (u'TAB_e2_NEIGHBOR_PHRASE_WORDS_[mounting]', 0.004549296429019753), (u'TAB_e2_NEIGHBOR_PHRASE_WORDS_[, v]', 0.004549296429019753), (u'TAB_e1_LEFT_WORDS_[:]', -0.00452887709925464), (u'TAB_e1_ROW_HEAD_WORDS_[v]', -0.004450427156371278), (u'TAB_e1_SPAN_TYPE_[EXPLICIT]', 0.0044300705421663885), (u'TAB_e1_COL_WORDS_[emitter-base]', -0.004376418651909045), (u'TAB_e1_COL_WORDS_[dissipation]', -0.004376418651909045), (u'TAB_e1_COL_WORDS_[power]', -0.004376418651909045), (u'TAB_e1_COL_WORDS_[)]', -0.004376418651909045), (u'TAB_e1_COL_WORDS_[collector-emitter voltage]', -0.004376418651909045), (u'TAB_e1_COL_WORDS_[power dissipation]', -0.004376418651909045), (u'TAB_e1_COL_WORDS_[temperature]', -0.004376418651909045), (u'TAB_e1_COL_WORDS_[collector current]', -0.004376418651909045), (u'TAB_e1_COL_WORDS_[storage temperature]', -0.004376418651909045), (u'TAB_e1_COL_WORDS_[emitter-base voltage]', -0.004376418651909045), (u'TAB_e1_COL_WORDS_[junction]', -0.004376418651909045), (u'TAB_e1_COL_WORDS_[collector power]', -0.004376418651909045), (u'TAB_e1_COL_WORDS_[: bc858/859]', -0.004376418651909045), (u'TAB_e1_COL_WORDS_[(]', -0.004376418651909045), (u'TAB_e1_COL_WORDS_[current (]', -0.004376418651909045), (u'TAB_e1_COL_WORDS_[: bc856]', -0.004376418651909045), (u'TAB_e1_COL_WORDS_[: bc857/860]', -0.004376418651909045), (u'TAB_e1_COL_WORDS_[bc856]', -0.004376418651909045), (u'TAB_e1_COL_WORDS_[( dc]', -0.004376418651909045), (u'TAB_e1_COL_WORDS_[bc857/860]', -0.004376418651909045), (u'TAB_e1_COL_WORDS_[bc858/859]', -0.004376418651909045), (u'TAB_e1_COL_WORDS_[junction temperature]', -0.004376418651909045), (u'TAB_e1_COL_WORDS_[collector-base]', -0.004376418651909045), (u'TAB_e1_COL_WORDS_[storage]', -0.004376418651909045), (u'TAB_e1_COL_WORDS_[collector-base voltage]', -0.004376418651909045), (u'TAB_e1_COL_WORDS_[dc )]', -0.004376418651909045), (u'TAB_e2_NEIGHBOR_PHRASE_WORDS_[involving]', 0.004314517560597968), (u'TAB_e2_NEIGHBOR_PHRASE_WORDS_[is not]', 0.004314517560597968), (u'TAB_e2_NEIGHBOR_PHRASE_WORDS_[c.]', 0.004314517560597968), (u'TAB_e2_NEIGHBOR_PHRASE_WORDS_[low-duty cycle]', 0.004314517560597968), (u'TAB_e2_NEIGHBOR_PHRASE_WORDS_[not recommended]', 0.004314517560597968), (u'TAB_e2_NEIGHBOR_PHRASE_WORDS_[operations .]', 0.004314517560597968), (u'TAB_e2_NEIGHBOR_PHRASE_WORDS_[:1 a]', 0.004314517560597968), (u'TAB_e2_RIGHT_WORDS_[amplifier]', 0.004314517560597968), (u'TAB_e2_NEIGHBOR_PHRASE_WORDS_[and to]', 0.004314517560597968), (u'TAB_e2_NEIGHBOR_PHRASE_WORDS_[switch .]', 0.004314517560597968), (u'TAB_e2_NEIGHBOR_PHRASE_WORDS_[ma as]', 0.004314517560597968), (u'TAB_e2_NEIGHBOR_PHRASE_WORDS_[the absolute]', 0.004314517560597968), (u'TAB_e2_NEIGHBOR_PHRASE_WORDS_[mark :1]', 0.004314517560597968), (u'TAB_e2_NEIGHBOR_PHRASE_WORDS_[limits .]', 0.004314517560597968), (u'TAB_e2_NEIGHBOR_PHRASE_WORDS_[a maximum]', 0.004314517560597968), (u'TAB_e2_NEIGHBOR_PHRASE_WORDS_[recommended .]', 0.004314517560597968), (u'TAB_e2_NEIGHBOR_PHRASE_WORDS_[eb c]', 0.004314517560597968), (u'TAB_e2_NEIGHBOR_PHRASE_WORDS_[function]', 0.004314517560597968), (u'TAB_e2_NEIGHBOR_PHRASE_WORDS_[this device]', 0.004314517560597968), (u'TAB_e2_NEIGHBOR_PHRASE_WORDS_[at t]', 0.004314517560597968), (u'TAB_e2_NEIGHBOR_PHRASE_WORDS_[pzt3904]', 0.004314517560597968), (u'TAB_e2_NEIGHBOR_PHRASE_WORDS_[semiconductor should]', 0.004314517560597968), (u'TAB_e2_NEIGHBOR_PHRASE_WORDS_[stressing]', 0.004314517560597968), (u'TAB_e2_NEIGHBOR_PHRASE_WORDS_[ble above]', 0.004314517560597968), (u'TAB_e2_NEIGHBOR_PHRASE_WORDS_[2n3904bu]', 0.004314517560597968), (u'TAB_e2_NEIGHBOR_PHRASE_WORDS_[fairchild]', 0.004314517560597968), (u'TAB_e2_NEIGHBOR_PHRASE_WORDS_[sot-223 4l]', 0.004314517560597968), (u'TAB_e2_NEIGHBOR_PHRASE_WORDS_[range extends]', 0.004314517560597968), (u'TAB_e2_NEIGHBOR_PHRASE_WORDS_[should]', 0.004314517560597968), (u'TAB_e2_NEIGHBOR_PHRASE_WORDS_[10000]', 0.004314517560597968), (u'TAB_e2_NEIGHBOR_PHRASE_WORDS_[mmbt3904]', 0.004314517560597968), (u'TAB_e2_NEIGHBOR_PHRASE_WORDS_[or low-duty]', 0.004314517560597968), (u'TAB_e2_NEIGHBOR_PHRASE_WORDS_[steady-state limits]', 0.004314517560597968), (u'TAB_e2_NEIGHBOR_PHRASE_WORDS_[consulted on]', 0.004314517560597968), (u'TAB_e2_NEIGHBOR_PHRASE_WORDS_[1a]', 0.004314517560597968), (u'TAB_e2_NEIGHBOR_PHRASE_WORDS_[maximum junction]', 0.004314517560597968), (u'TAB_e2_NEIGHBOR_PHRASE_WORDS_[to these]', 0.004314517560597968), (u'TAB_e2_NEIGHBOR_PHRASE_WORDS_[mmbt3904 /]', 0.004314517560597968), (u'TAB_e2_NEIGHBOR_PHRASE_WORDS_[an amplifier]', 0.004314517560597968), (u'TAB_e2_NEIGHBOR_PHRASE_WORDS_[the recommended]', 0.004314517560597968), (u'TAB_e2_NEIGHBOR_PHRASE_WORDS_[be opera]', 0.004314517560597968), (u'TAB_e2_NEIGHBOR_PHRASE_WORDS_[sot-23 3l]', 0.004314517560597968), (u'TAB_e2_NEIGHBOR_PHRASE_WORDS_[a switch]', 0.004314517560597968), (u'TAB_e2_NEIGHBOR_PHRASE_WORDS_[pzt3904 -]', 0.004314517560597968), (u'TAB_e2_NEIGHBOR_PHRASE_WORDS_[switch]', 0.004314517560597968), (u'TAB_e2_NEIGHBOR_PHRASE_WORDS_[the parts]', 0.004314517560597968), (u'TAB_e2_NEIGHBOR_PHRASE_WORDS_[/ mmbt3904]', 0.004314517560597968), (u'TAB_e2_NEIGHBOR_PHRASE_WORDS_[3l]', 0.004314517560597968), (u'TAB_e2_NEIGHBOR_PHRASE_WORDS_[opera -]', 0.004314517560597968), (u'TAB_e2_NEIGHBOR_PHRASE_WORDS_[operating conditions]', 0.004314517560597968), (u'TAB_e2_NEIGHBOR_PHRASE_WORDS_[2n3904ta]', 0.004314517560597968), (u'TAB_e2_NEIGHBOR_PHRASE_WORDS_[2014]', 0.004314517560597968), (u'TAB_e2_NEIGHBOR_PHRASE_WORDS_[be consulted]', 0.004314517560597968), (u'TAB_e2_NEIGHBOR_PHRASE_WORDS_[2n3904tfr]', 0.004314517560597968), (u'TAB_e2_NEIGHBOR_PHRASE_WORDS_[recommended operating]', 0.004314517560597968), (u'TAB_e2_NEIGHBOR_PHRASE_WORDS_[and switch]', 0.004314517560597968), (u'TAB_e2_NEIGHBOR_PHRASE_WORDS_[dynamic range]', 0.004314517560597968), (u'TAB_e2_NEIGHBOR_PHRASE_WORDS_[notes]', 0.004314517560597968), (u'TAB_e2_NEIGHBOR_PHRASE_WORDS_[2n3904tf]', 0.004314517560597968), (u'TAB_e2_NEIGHBOR_PHRASE_WORDS_[designed]', 0.004314517560597968), (u'TAB_e2_NEIGHBOR_PHRASE_WORDS_[- npn]', 0.004314517560597968), (u'TAB_e2_NEIGHBOR_PHRASE_WORDS_[:1]', 0.004314517560597968), (u'TAB_e2_NEIGHBOR_PHRASE_WORDS_[2n3904 mmbt3904]', 0.004314517560597968), (u'TAB_e2_NEIGHBOR_PHRASE_WORDS_[conditions and]', 0.004314517560597968), (u'TAB_e2_NEIGHBOR_PHRASE_WORDS_[parts to]', 0.004314517560597968), (u'TAB_e2_NEIGHBOR_PHRASE_WORDS_[notes :]', 0.004314517560597968), (u'TAB_e2_NEIGHBOR_PHRASE_WORDS_[these ratings]', 0.004314517560597968), (u'TAB_e2_NEIGHBOR_PHRASE_WORDS_[to 150]', 0.004314517560597968), (u'TAB_e2_NEIGHBOR_PHRASE_WORDS_[3000]', 0.004314517560597968), (u'TAB_e2_NEIGHBOR_PHRASE_WORDS_[cycle operations]', 0.004314517560597968), (u'TAB_e2_NEIGHBOR_PHRASE_WORDS_[october]', 0.004314517560597968), (u'TAB_e2_NEIGHBOR_PHRASE_WORDS_[mhz as]', 0.004314517560597968), (u'TAB_e2_NEIGHBOR_PHRASE_WORDS_[is]', 0.004314517560597968), (u'TAB_e2_NEIGHBOR_PHRASE_WORDS_[exceeding the]', 0.004314517560597968), (u'TAB_e2_NEIGHBOR_PHRASE_WORDS_[2n3904tar]', 0.004314517560597968), (u'TAB_e2_NEIGHBOR_PHRASE_WORDS_[levels]', 0.004314517560597968), (u'TAB_e2_NEIGHBOR_PHRASE_WORDS_[extends to]', 0.004314517560597968), (u'TAB_e2_NEIGHBOR_PHRASE_WORDS_[packing]', 0.004314517560597968), (u'TAB_e2_NEIGHBOR_PHRASE_WORDS_[general-purpose]', 0.004314517560597968), (u'TAB_e2_NEIGHBOR_PHRASE_WORDS_[ble]', 0.004314517560597968), (u'TAB_e2_NEIGHBOR_PHRASE_WORDS_[should be]', 0.004314517560597968), (u'TAB_e2_NEIGHBOR_PHRASE_WORDS_[this]', 0.004314517560597968), (u'TAB_e2_NEIGHBOR_PHRASE_WORDS_[3904]', 0.004314517560597968), (u'TAB_e2_NEIGHBOR_PHRASE_WORDS_[applications involving]', 0.004314517560597968), (u'TAB_e2_NEIGHBOR_PHRASE_WORDS_[involving pulsed]', 0.004314517560597968), (u'TAB_e2_NEIGHBOR_PHRASE_WORDS_[2n3904 /]', 0.004314517560597968), (u'TAB_e2_NEIGHBOR_PHRASE_WORDS_[operations]', 0.004314517560597968), (u'TAB_e2_NEIGHBOR_PHRASE_WORDS_[are steady-state]', 0.004314517560597968), (u'TAB_e2_NEIGHBOR_PHRASE_WORDS_[device is]', 0.004314517560597968), (u'TAB_e2_NEIGHBOR_PHRASE_WORDS_[and stressing]', 0.004314517560597968), (u'TAB_e2_NEIGHBOR_PHRASE_WORDS_[of 150]', 0.004314517560597968), (u'TAB_e2_NEIGHBOR_PHRASE_WORDS_[values are]', 0.004314517560597968), (u'TAB_e2_NEIGHBOR_PHRASE_WORDS_[sot-223]', 0.004314517560597968), (u'TAB_e2_NEIGHBOR_PHRASE_WORDS_[as]', 0.004314517560597968), (u'TAB_e2_NEIGHBOR_PHRASE_WORDS_[quantity]', 0.004314517560597968), (u'TAB_e2_NEIGHBOR_PHRASE_WORDS_[part number]', 0.004314517560597968), (u'TAB_e2_NEIGHBOR_PHRASE_WORDS_[designed as]', 0.004314517560597968), (u'TAB_e2_NEIGHBOR_PHRASE_WORDS_[2500]', 0.004314517560597968), (u'TAB_e2_NEIGHBOR_PHRASE_WORDS_[based]', 0.004314517560597968), (u'TAB_e2_NEIGHBOR_PHRASE_WORDS_[steady-state]', 0.004314517560597968), (u'TAB_e2_NEIGHBOR_PHRASE_WORDS_[based on]', 0.004314517560597968), (u'TAB_e2_NEIGHBOR_PHRASE_WORDS_[switch and]', 0.004314517560597968), (u'TAB_e2_NEIGHBOR_PHRASE_WORDS_[these levels]', 0.004314517560597968), (u'TAB_e2_NEIGHBOR_PHRASE_WORDS_[2n3904]', 0.004314517560597968), (u'TAB_e2_NEIGHBOR_PHRASE_WORDS_[pack quantity]', 0.004314517560597968), (u'TAB_e2_NEIGHBOR_PHRASE_WORDS_[or be]', 0.004314517560597968), (u'TAB_e2_NEIGHBOR_PHRASE_WORDS_[device may]', 0.004314517560597968), (u'TAB_e2_NEIGHBOR_PHRASE_WORDS_[above the]', 0.004314517560597968), (u'TAB_e2_NEIGHBOR_PHRASE_WORDS_[noted .]', 0.004314517560597968), (u'TAB_e2_NEIGHBOR_PHRASE_WORDS_[may not]', 0.004314517560597968), (u'TAB_e2_NEIGHBOR_PHRASE_WORDS_[amplifier .]', 0.004314517560597968), (u'TAB_e2_NEIGHBOR_PHRASE_WORDS_[october 2014]', 0.004314517560597968), (u'TAB_e2_NEIGHBOR_PHRASE_WORDS_[useful]', 0.004314517560597968), (u'TAB_e2_NEIGHBOR_PHRASE_WORDS_[function or]', 0.004314517560597968), (u'TAB_e2_NEIGHBOR_PHRASE_WORDS_[useful dynamic]', 0.004314517560597968), (u'TAB_e2_NEIGHBOR_PHRASE_WORDS_[stressing the]', 0.004314517560597968), (u'TAB_e2_NEIGHBOR_PHRASE_WORDS_[j ,]', 0.004314517560597968), (u'TAB_e2_NEIGHBOR_PHRASE_WORDS_[parts]', 0.004314517560597968), (u'TAB_e2_NEIGHBOR_PHRASE_WORDS_[temperature of]', 0.004314517560597968), (u'TAB_e2_NEIGHBOR_PHRASE_WORDS_[as an]', 0.004314517560597968), (u'TAB_e2_NEIGHBOR_PHRASE_WORDS_[to-92 3l]', 0.004314517560597968), (u'TAB_e2_NEIGHBOR_PHRASE_WORDS_[consulted]', 0.004314517560597968), (u'TAB_e2_NEIGHBOR_PHRASE_WORDS_[is designed]', 0.004314517560597968), (u'TAB_e2_NEIGHBOR_PHRASE_WORDS_[general-purpose amplifier]', 0.004314517560597968), (u'TAB_e2_NEIGHBOR_PHRASE_WORDS_[on applications]', 0.004314517560597968), (u'TAB_e2_NEIGHBOR_PHRASE_WORDS_[opera]', 0.004314517560597968), (u'TAB_e2_NEIGHBOR_PHRASE_WORDS_[amplifier and]', 0.004314517560597968), (u'TAB_e2_NEIGHBOR_PHRASE_WORDS_[low-duty]', 0.004314517560597968), (u'TAB_e2_NEIGHBOR_PHRASE_WORDS_[pulsed or]', 0.004314517560597968), (u'TAB_e2_NEIGHBOR_PHRASE_WORDS_[are at]', 0.004314517560597968), (u'TAB_e2_NEIGHBOR_PHRASE_WORDS_[description]', 0.004314517560597968), (u'TAB_e2_NEIGHBOR_PHRASE_WORDS_[not]', 0.004314517560597968), (u'TAB_e2_NEIGHBOR_PHRASE_WORDS_[npn general-purpose]', 0.004314517560597968), (u'TAB_e2_NEIGHBOR_PHRASE_WORDS_[are based]', 0.004314517560597968), (u'TAB_e2_NEIGHBOR_PHRASE_WORDS_[/ pzt3904]', 0.004314517560597968), (u'TAB_e2_NEIGHBOR_PHRASE_WORDS_[values]', 0.004314517560597968), (u'TAB_e2_NEIGHBOR_PHRASE_WORDS_[fairchild semiconductor]', 0.004314517560597968), (u'TAB_e2_NEIGHBOR_PHRASE_WORDS_[packing method]', 0.004314517560597968), (u'TAB_e2_NEIGHBOR_PHRASE_WORDS_[) ,]', 0.004314517560597968), (u'TAB_e2_NEIGHBOR_PHRASE_WORDS_[- ble]', 0.004314517560597968), (u'TAB_e2_NEIGHBOR_PHRASE_WORDS_[levels is]', 0.004314517560597968), (u'TAB_e2_NEIGHBOR_PHRASE_WORDS_[on a]', 0.004314517560597968), (u'TAB_e2_NEIGHBOR_PHRASE_WORDS_[not function]', 0.004314517560597968), (u'TAB_e2_NEIGHBOR_PHRASE_WORDS_[as a]', 0.004314517560597968), (u'TAB_e2_NEIGHBOR_PHRASE_WORDS_[pulsed]', 0.004314517560597968), (u'TAB_e2_RIGHT_WORDS_[general-purpose amplifier]', 0.004314517560597968), (u'TAB_e2_NEIGHBOR_PHRASE_WORDS_[4l]', 0.004314517560597968), (u'TAB_e2_NEIGHBOR_PHRASE_WORDS_[to 100]', 0.004314517560597968), (u'TAB_e2_NEIGHBOR_PHRASE_WORDS_[the useful]', 0.004314517560597968), (u'TAB_e2_RIGHT_WORDS_[general-purpose]', 0.004314517560597968), (u'TAB_e2_NEIGHBOR_PHRASE_WORDS_[extends]', 0.004314517560597968), (u'TAB_e2_NEIGHBOR_PHRASE_WORDS_[dynamic]', 0.004314517560597968), (u'TAB_e2_NEIGHBOR_PHRASE_WORDS_[a general-purpose]', 0.004314517560597968), (u'TAB_e1_NEIGHBOR_PHRASE_WORDS_[...]', -0.004310820296485282), (u'TAB_e1_NEIGHBOR_PHRASE_WORDS_[bc850]', -0.004310820296485282), (u'TAB_e1_NEIGHBOR_PHRASE_WORDS_[complement]', -0.004310820296485282), (u'TAB_e1_NEIGHBOR_PHRASE_WORDS_[... bc850]', -0.004310820296485282), (u'TAB_e1_NEIGHBOR_PHRASE_WORDS_[to bc846]', -0.004310820296485282), (u'TAB_e1_NEIGHBOR_PHRASE_WORDS_[bc846]', -0.004310820296485282), (u'TAB_e1_NEIGHBOR_PHRASE_WORDS_[bc846 ...]', -0.004310820296485282), (u'TAB_e1_NEIGHBOR_PHRASE_WORDS_[complement to]', -0.004310820296485282), (u'TAB_e1_NEIGHBOR_PHRASE_WORDS_[emitter-base voltage]', -0.0041298918721691), (u'TAB_e1_NEIGHBOR_PHRASE_WORDS_[applications]', -0.0041298918721691), (u'TAB_e1_NEIGHBOR_PHRASE_WORDS_[collector-base voltage]', -0.0041298918721691), (u'TAB_e1_NEIGHBOR_PHRASE_WORDS_[collector-emitter voltage]', -0.0041298918721691), (u'TAB_e1_NEIGHBOR_PHRASE_WORDS_[ceo]', -0.00410845657380674), (u'TAB_e1_NEIGHBOR_PHRASE_WORDS_[emitter-base]', -0.00410845657380674), (u'TAB_e1_NEIGHBOR_PHRASE_WORDS_[cbo]', -0.00410845657380674), (u'TAB_e1_NEIGHBOR_PHRASE_WORDS_[ebo]', -0.00410845657380674), (u'TAB_e1_NEIGHBOR_PHRASE_WORDS_[collector current]', -0.00410845657380674), (u'TAB_e1_NEIGHBOR_PHRASE_WORDS_[collector]', -0.00410845657380674), (u'TAB_e1_NEIGHBOR_PHRASE_WORDS_[marking]', -0.00410845657380674), (u'TAB_e1_NEIGHBOR_PHRASE_WORDS_[859/860 pnp]', -0.004079953676570729), (u'TAB_e2_NEIGHBOR_PHRASE_WORDS_[= 25]', -0.004076873569724744), (u'TAB_e2_NEIGHBOR_PHRASE_WORDS_[c unless]', -0.004076873569724744), (u'TAB_e2_NEIGHBOR_PHRASE_WORDS_[otherwise noted]', -0.004076873569724744), (u'TAB_e2_NEIGHBOR_PHRASE_WORDS_[noted]', -0.004076873569724744), (u'TAB_e2_NEIGHBOR_PHRASE_WORDS_[otherwise]', -0.004076873569724744), (u'TAB_e2_NEIGHBOR_PHRASE_WORDS_[unless]', -0.004076873569724744), (u'TAB_e2_NEIGHBOR_PHRASE_WORDS_[unless otherwise]', -0.004076873569724744), (u'TAB_e1_NEIGHBOR_PHRASE_WORDS_[200]', -0.003985544487003276), (u'TAB_e1_NEIGHBOR_PHRASE_WORDS_[npn]', 0.003932809572991922), (u'TAB_e1_NEIGHBOR_PHRASE_WORDS_[100]', 0.003932809572991922), (u'TAB_e1_NEIGHBOR_PHRASE_WORDS_[-]', 0.003932809572991922), (u'TAB_e2_NEIGHBOR_PHRASE_WORDS_[40]', 0.003932412396130336), (u'TAB_e2_NEIGHBOR_PHRASE_WORDS_[of]', 0.003932412396130336), (u'TAB_e1_NEIGHBOR_PHRASE_WORDS_[conditions]', 0.003897388246649431), (u'TAB_e1_NEIGHBOR_PHRASE_WORDS_[an]', 0.003897388246649431), (u'TAB_e1_ROW_INFERRED_WORDS_[:]', -0.003891477294418195), (u'TAB_e1_COL_INFERRED_WORDS_[:]', -0.003891477294418195), (u'TAB_e2_NEIGHBOR_PHRASE_WORDS_[stg]', -0.0038403727056617533), (u'TAB_e1_NEIGHBOR_PHRASE_WORDS_[ordering]', 0.003774476159845948), (u'TAB_e1_NEIGHBOR_PHRASE_WORDS_[information]', 0.003774476159845948), (u'TAB_e1_NEIGHBOR_PHRASE_WORDS_[ordering information]', 0.003774476159845948), (u'TAB_e1_NEIGHBOR_PHRASE_WORDS_[unit]', 0.003774476159845948), (u'TAB_e2_NEIGHBOR_PHRASE_WORDS_[current -]', 0.0037596195149144427), (u'TAB_e2_NEIGHBOR_PHRASE_WORDS_[thermal]', 0.0037596195149144427), (u'TAB_e2_NEIGHBOR_PHRASE_WORDS_[semiconductor]', 0.0037596195149144427), (u'TAB_e2_NEIGHBOR_PHRASE_WORDS_[eb]', 0.0037596195149144427), (u'VIZ_e1_ALIGNED_parameter', -0.0036606893969074656), (u'VIZ_e1_ALIGNED_CENTER_parameter', -0.0036606893969074656), (u'TAB_e1_NEIGHBOR_PHRASE_WORDS_[silicon]', -0.003430100899383505), (u'TAB_e1_NEIGHBOR_PHRASE_WORDS_[transistor]', -0.0033071888125800666), (u'TAB_e1_NEIGHBOR_PHRASE_WORDS_[~]', -0.0033071888125800666), (u'TAB_e1_NEIGHBOR_PHRASE_WORDS_[-10]', -0.0033071888125800666), (u'TAB_e1_NEIGHBOR_PHRASE_WORDS_[dc current]', -0.0032857535142177046), (u'TAB_e1_NEIGHBOR_PHRASE_WORDS_[, i]', -0.0032857535142177046), (u'TAB_e1_COL_WORDS_[collector cut-off]', -0.003096216669544893), (u'TAB_e1_COL_WORDS_[on]', -0.003096216669544893), (u'TAB_e1_ROW_HEAD_WORDS_[?]', -0.003096216669544893), (u'TAB_e1_COL_WORDS_[noise]', -0.003096216669544893), (u'TAB_e1_COL_WORDS_[output capacitance]', -0.003096216669544893), (u'TAB_e1_COL_WORDS_[on voltage]', -0.003096216669544893), (u'TAB_e1_COL_WORDS_[bandwidth]', -0.003096216669544893), (u'TAB_e1_COL_WORDS_[base-emitter]', -0.003096216669544893), (u'TAB_e1_COL_WORDS_[collector-emitter saturation]', -0.003096216669544893), (u'TAB_e1_COL_WORDS_[product]', -0.003096216669544893), (u'TAB_e1_COL_WORDS_[bandwidth product]', -0.003096216669544893), (u'TAB_e1_ROW_WORDS_[db]', -0.003096216669544893), (u'TAB_e1_COL_WORDS_[dc current]', -0.003096216669544893), (u'TAB_e1_COL_WORDS_[gain]', -0.003096216669544893), (u'TAB_e1_COL_WORDS_[output]', -0.003096216669544893), (u'TAB_e1_COL_WORDS_[capacitance]', -0.003096216669544893), (u'TAB_e1_COL_WORDS_[saturation]', -0.003096216669544893), (u'TAB_e1_ROW_WORDS_[=]', -0.003096216669544893), (u'TAB_e1_COL_WORDS_[cut-off]', -0.003096216669544893), (u'TAB_e1_COL_WORDS_[gain bandwidth]', -0.003096216669544893), (u'TAB_e1_COL_WORDS_[base-emitter saturation]', -0.003096216669544893), (u'TAB_e1_COL_WORDS_[base-emitter on]', -0.003096216669544893), (u'TAB_e1_COL_WORDS_[current gain]', -0.003096216669544893), (u'TAB_e1_ROW_WORDS_[?]', -0.003096216669544893), (u'TAB_e1_ROW_WORDS_[,]', -0.003096216669544893), (u'TAB_e1_COL_WORDS_[saturation voltage]', -0.003096216669544893), (u'TAB_e1_ROW_HEAD_WORDS_[,]', -0.003096216669544893), (u'TAB_e1_ROW_HEAD_WORDS_[=]', -0.003096216669544893), (u'TAB_e1_COL_WORDS_[cut-off current]', -0.003096216669544893), (u'TAB_e1_NEIGHBOR_PHRASE_WORDS_[1 .]', -0.0030706879485170513), (u'TAB_e1_NEIGHBOR_PHRASE_WORDS_[2 .]', -0.0030706879485170513), (u'TAB_e1_NEIGHBOR_PHRASE_WORDS_[h]', -0.003049252650154719), (u'TAB_e1_NEIGHBOR_PHRASE_WORDS_[p]', -0.003049252650154719), (u'TAB_e2_NEIGHBOR_PHRASE_WORDS_[- emitter-basis-reststrom]', -0.0029493250553923054), (u'TAB_e2_NEIGHBOR_PHRASE_WORDS_[peak base]', -0.0029493250553923054), (u'TAB_e2_NEIGHBOR_PHRASE_WORDS_[gain groups]', -0.0029493250553923054), (u'TAB_e2_NEIGHBOR_PHRASE_WORDS_[6ct]', -0.0029493250553923054), (u'TAB_e2_NEIGHBOR_PHRASE_WORDS_[= b]', -0.0029493250553923054), (u'TAB_e2_NEIGHBOR_PHRASE_WORDS_[1 mhz]', -0.0029493250553923054), (u'TAB_e2_NEIGHBOR_PHRASE_WORDS_[version]', -0.0029493250553923054), (u'TAB_e2_NEIGHBOR_PHRASE_WORDS_[reeled]', -0.0029493250553923054), (u'TAB_e2_NEIGHBOR_PHRASE_WORDS_[kollektor-basis-spannung]', -0.0029493250553923054), (u'TAB_e2_NEIGHBOR_PHRASE_WORDS_[- kollektor-basis-stromverh]', -0.0029493250553923054), (u'TAB_e2_NEIGHBOR_PHRASE_WORDS_[160]', -0.0029493250553923054), (u'TAB_e2_NEIGHBOR_PHRASE_WORDS_[( c]', -0.0029493250553923054), (u'TAB_e2_NEIGHBOR_PHRASE_WORDS_[6e]', -0.0029493250553923054), (u'TAB_e2_NEIGHBOR_PHRASE_WORDS_[- basisstrom]', -0.0029493250553923054), (u'TAB_e2_NEIGHBOR_PHRASE_WORDS_[transitfrequenz]', -0.0029493250553923054), (u'TAB_e2_NEIGHBOR_PHRASE_WORDS_[stempelung]', -0.0029493250553923054), (u'TAB_e2_NEIGHBOR_PHRASE_WORDS_[point]', -0.0029493250553923054), (u'TAB_e2_NEIGHBOR_PHRASE_WORDS_[verlustleistung]', -0.0029493250553923054), (u'TAB_e2_NEIGHBOR_PHRASE_WORDS_[) i]', -0.0029493250553923054), (u'TAB_e2_NEIGHBOR_PHRASE_WORDS_[kollektor-basis-reststrom]', -0.0029493250553923054), (u'TAB_e2_NEIGHBOR_PHRASE_WORDS_[- ma?e]', -0.0029493250553923054), (u'TAB_e2_NEIGHBOR_PHRASE_WORDS_[6g or]', -0.0029493250553923054), (u'TAB_e2_NEIGHBOR_PHRASE_WORDS_[plastic case]', -0.0029493250553923054), (u'TAB_e2_NEIGHBOR_PHRASE_WORDS_[= 6c]', -0.0029493250553923054), (u'TAB_e2_NEIGHBOR_PHRASE_WORDS_[version 2011-10-26]', -0.0029493250553923054), (u'TAB_e2_NEIGHBOR_PHRASE_WORDS_[geh?usematerial]', -0.0029493250553923054), (u'TAB_e2_NEIGHBOR_PHRASE_WORDS_[lieferbaren stromverst?rkungsgruppen]', -0.0029493250553923054), (u'TAB_e2_NEIGHBOR_PHRASE_WORDS_[- basis-spitzenstrom]', -0.0029493250553923054), (u'TAB_e2_NEIGHBOR_PHRASE_WORDS_[der lieferbaren]', -0.0029493250553923054), (u'TAB_e2_NEIGHBOR_PHRASE_WORDS_[si-epi-planar transistors]', -0.0029493250553923054), (u'TAB_e2_NEIGHBOR_PHRASE_WORDS_[available current]', -0.0029493250553923054), (u'TAB_e2_NEIGHBOR_PHRASE_WORDS_[30 v]', -0.0029493250553923054), (u'TAB_e2_NEIGHBOR_PHRASE_WORDS_[0.7]', -0.0029493250553923054), (u'TAB_e2_NEIGHBOR_PHRASE_WORDS_[mount low]', -0.0029493250553923054), (u'TAB_e2_NEIGHBOR_PHRASE_WORDS_[bc817k-25]', -0.0029493250553923054), (u'TAB_e2_NEIGHBOR_PHRASE_WORDS_[schaltverh?ltnis ?]', -0.0029493250553923054), (u'TAB_e2_NEIGHBOR_PHRASE_WORDS_[/ bc808k]', -0.0029493250553923054), (u'TAB_e2_NEIGHBOR_PHRASE_WORDS_[6cr bc817k-25]', -0.0029493250553923054), (u'TAB_e2_NEIGHBOR_PHRASE_WORDS_[, schaltverh?ltnis]', -0.0029493250553923054), (u'TAB_e2_NEIGHBOR_PHRASE_WORDS_[170]', -0.0029493250553923054), (u'TAB_e2_NEIGHBOR_PHRASE_WORDS_[with pulses]', -0.0029493250553923054), (u'TAB_e2_NEIGHBOR_PHRASE_WORDS_[surface]', -0.0029493250553923054), (u'TAB_e2_NEIGHBOR_PHRASE_WORDS_[>]', -0.0029493250553923054), (u'TAB_e2_NEIGHBOR_PHRASE_WORDS_[c open]', -0.0029493250553923054), (u'TAB_e2_NEIGHBOR_PHRASE_WORDS_[open )]', -0.0029493250553923054), (u'TAB_e2_NEIGHBOR_PHRASE_WORDS_[]]', -0.0029493250553923054), (u'TAB_e2_NEIGHBOR_PHRASE_WORDS_[6cr bc818k-25]', -0.0029493250553923054), (u'TAB_e2_NEIGHBOR_PHRASE_WORDS_[oberfl?chenmontage]', -0.0029493250553923054), (u'TAB_e2_NEIGHBOR_PHRASE_WORDS_[per]', -0.0029493250553923054), (u'TAB_e2_NEIGHBOR_PHRASE_WORDS_[voltage -]', -0.0029493250553923054), (u'TAB_e2_NEIGHBOR_PHRASE_WORDS_[6f]', -0.0029493250553923054), (u'TAB_e2_NEIGHBOR_PHRASE_WORDS_[emitter-basis-reststrom]', -0.0029493250553923054), (u'TAB_e2_NEIGHBOR_PHRASE_WORDS_[open]', -0.0029493250553923054), (u'TAB_e2_NEIGHBOR_PHRASE_WORDS_[ul94v-0 klassifiziert]', -0.0029493250553923054), (u'TAB_e2_NEIGHBOR_PHRASE_WORDS_[duty cycle]', -0.0029493250553923054), (u'TAB_e2_NEIGHBOR_PHRASE_WORDS_[basis-emitter-s ?]', -0.0029493250553923054), (u'TAB_e2_NEIGHBOR_PHRASE_WORDS_[auf]', -0.0029493250553923054), (u'TAB_e2_NEIGHBOR_PHRASE_WORDS_[6a]', -0.0029493250553923054), (u'TAB_e2_NEIGHBOR_PHRASE_WORDS_[collector-emitter-volt]', -0.0029493250553923054), (u'TAB_e2_NEIGHBOR_PHRASE_WORDS_[http://www.diotec.com/ ?]', -0.0029493250553923054), (u'TAB_e2_NEIGHBOR_PHRASE_WORDS_[gegurtet auf]', -0.0029493250553923054), (u'TAB_e2_NEIGHBOR_PHRASE_WORDS_[junction to]', -0.0029493250553923054), (u'TAB_e2_NEIGHBOR_PHRASE_WORDS_[approx]', -0.0029493250553923054), (u'TAB_e2_NEIGHBOR_PHRASE_WORDS_[45]', -0.0029493250553923054), (u'TAB_e2_NEIGHBOR_PHRASE_WORDS_[kollektorstrom (]', -0.0029493250553923054), (u'TAB_e2_NEIGHBOR_PHRASE_WORDS_[reeled standard]', -0.0029493250553923054), (u'TAB_e2_NEIGHBOR_PHRASE_WORDS_[ttigungsspg .]', -0.0029493250553923054), (u'TAB_e2_NEIGHBOR_PHRASE_WORDS_[- kollektor-spitzenstrom]', -0.0029493250553923054), (u'TAB_e2_NEIGHBOR_PHRASE_WORDS_[kennwerte (]', -0.0029493250553923054), (u'TAB_e2_NEIGHBOR_PHRASE_WORDS_[or 6ct]', -0.0029493250553923054), (u'TAB_e2_NEIGHBOR_PHRASE_WORDS_[= c]', -0.0029493250553923054), (u'TAB_e2_NEIGHBOR_PHRASE_WORDS_[ul94v-0]', -0.0029493250553923054), (u'TAB_e2_NEIGHBOR_PHRASE_WORDS_[115]', -0.0029493250553923054), (u'TAB_e2_NEIGHBOR_PHRASE_WORDS_[sperrschicht]', -0.0029493250553923054), (u'TAB_e2_NEIGHBOR_PHRASE_WORDS_[kollektorstrom]', -0.0029493250553923054), (u'TAB_e2_NEIGHBOR_PHRASE_WORDS_[frequency -]', -0.0029493250553923054), (u'TAB_e2_NEIGHBOR_PHRASE_WORDS_[stromverst?rkungsgruppen pro]', -0.0029493250553923054), (u'TAB_e2_NEIGHBOR_PHRASE_WORDS_[bc818k]', -0.0029493250553923054), (u'TAB_e2_NEIGHBOR_PHRASE_WORDS_[6cs bc818k-40]', -0.0029493250553923054), (u'TAB_e2_NEIGHBOR_PHRASE_WORDS_[= 6a]', -0.0029493250553923054), (u'TAB_e2_NEIGHBOR_PHRASE_WORDS_[resistance junction]', -0.0029493250553923054), (u'TAB_e2_NEIGHBOR_PHRASE_WORDS_[w?rmewiderstand]', -0.0029493250553923054), (u'TAB_e2_NEIGHBOR_PHRASE_WORDS_[bc817k-25 =]', -0.0029493250553923054), (u'TAB_e2_NEIGHBOR_PHRASE_WORDS_[k/w]', -0.0029493250553923054), (u'TAB_e2_NEIGHBOR_PHRASE_WORDS_[marking of]', -0.0029493250553923054), (u'TAB_e2_NEIGHBOR_PHRASE_WORDS_[si-epi-planar low]', -0.0029493250553923054), (u'TAB_e2_NEIGHBOR_PHRASE_WORDS_[lieferbaren]', -0.0029493250553923054), (u'TAB_e2_NEIGHBOR_PHRASE_WORDS_[cesat]', -0.0029493250553923054), (u'TAB_e2_NEIGHBOR_PHRASE_WORDS_[rth]', -0.0029493250553923054), (u'TAB_e2_NEIGHBOR_PHRASE_WORDS_[group -25]', -0.0029493250553923054), (u'TAB_e2_NEIGHBOR_PHRASE_WORDS_[pro typ]', -0.0029493250553923054), (u'TAB_e2_NEIGHBOR_PHRASE_WORDS_[2 =]', -0.0029493250553923054), (u'TAB_e2_NEIGHBOR_PHRASE_WORDS_[ag]', -0.0029493250553923054), (u'TAB_e2_NEIGHBOR_PHRASE_WORDS_[) min]', -0.0029493250553923054), (u'TAB_e2_NEIGHBOR_PHRASE_WORDS_[and reeled]', -0.0029493250553923054), (u'TAB_e2_NEIGHBOR_PHRASE_WORDS_[6e or]', -0.0029493250553923054), (u'TAB_e2_NEIGHBOR_PHRASE_WORDS_[) grenzwerte]', -0.0029493250553923054), (u'TAB_e2_NEIGHBOR_PHRASE_WORDS_[1 a]', -0.0029493250553923054), (u'TAB_e2_NEIGHBOR_PHRASE_WORDS_[peak collector]', -0.0029493250553923054), (u'TAB_e2_NEIGHBOR_PHRASE_WORDS_[2 tested]', -0.0029493250553923054), (u'TAB_e2_NEIGHBOR_PHRASE_WORDS_[transistoren f?r]', -0.0029493250553923054), (u'TAB_e2_NEIGHBOR_PHRASE_WORDS_[1 =]', -0.0029493250553923054), (u'TAB_e2_NEIGHBOR_PHRASE_WORDS_[50 ma]', -0.0029493250553923054), (u'TAB_e2_NEIGHBOR_PHRASE_WORDS_[collector-base cutoff]', -0.0029493250553923054), (u'TAB_e2_NEIGHBOR_PHRASE_WORDS_[mm ]]', -0.0029493250553923054), (u'TAB_e2_NEIGHBOR_PHRASE_WORDS_[= 6f]', -0.0029493250553923054), (u'TAB_e2_NEIGHBOR_PHRASE_WORDS_[<<]', -0.0029493250553923054), (u'TAB_e2_NEIGHBOR_PHRASE_WORDS_[6g]', -0.0029493250553923054), (u'TAB_e2_NEIGHBOR_PHRASE_WORDS_[die oberfl?chenmontage]', -0.0029493250553923054), (u'TAB_e2_NEIGHBOR_PHRASE_WORDS_[taped]', -0.0029493250553923054), (u'TAB_e2_NEIGHBOR_PHRASE_WORDS_[duty]', -0.0029493250553923054), (u'TAB_e2_NEIGHBOR_PHRASE_WORDS_[or 6cr]', -0.0029493250553923054), (u'TAB_e2_NEIGHBOR_PHRASE_WORDS_[stempelung der]', -0.0029493250553923054), (u'TAB_e2_NEIGHBOR_PHRASE_WORDS_[bc817k-40]', -0.0029493250553923054), (u'TAB_e2_NEIGHBOR_PHRASE_WORDS_[bc818k-25 =]', -0.0029493250553923054), (u'TAB_e2_NEIGHBOR_PHRASE_WORDS_[basis-emitter-s]', -0.0029493250553923054), (u'TAB_e2_NEIGHBOR_PHRASE_WORDS_[transistoren]', -0.0029493250553923054), (u'TAB_e2_NEIGHBOR_PHRASE_WORDS_[pnp-transistoren]', -0.0029493250553923054), (u'TAB_e2_NEIGHBOR_PHRASE_WORDS_[b open]', -0.0029493250553923054), (u'TAB_e2_NEIGHBOR_PHRASE_WORDS_[45 v]', -0.0029493250553923054), (u'TAB_e2_NEIGHBOR_PHRASE_WORDS_[kollektor-emitter-spannung]', -0.0029493250553923054), (u'TAB_e2_NEIGHBOR_PHRASE_WORDS_[= 6g]', -0.0029493250553923054), (u'TAB_e2_NEIGHBOR_PHRASE_WORDS_[tested with]', -0.0029493250553923054), (u'TAB_e2_NEIGHBOR_PHRASE_WORDS_[tested]', -0.0029493250553923054), (u'TAB_e2_NEIGHBOR_PHRASE_WORDS_[gewicht]', -0.0029493250553923054), (u'TAB_e2_NEIGHBOR_PHRASE_WORDS_[300]', -0.0029493250553923054), (u'TAB_e2_NEIGHBOR_PHRASE_WORDS_[komplement?re]', -0.0029493250553923054), (u'TAB_e2_NEIGHBOR_PHRASE_WORDS_[or 6cs]', -0.0029493250553923054), (u'TAB_e2_NEIGHBOR_PHRASE_WORDS_[1.9]', -0.0029493250553923054), (u'TAB_e2_NEIGHBOR_PHRASE_WORDS_[der]', -0.0029493250553923054), (u'TAB_e2_NEIGHBOR_PHRASE_WORDS_[pulses t]', -0.0029493250553923054), (u'TAB_e2_NEIGHBOR_PHRASE_WORDS_[1.2 v]', -0.0029493250553923054), (u'TAB_e2_NEIGHBOR_PHRASE_WORDS_[sperrschichttemperatur storage]', -0.0029493250553923054), (u'TAB_e2_NEIGHBOR_PHRASE_WORDS_[nb >]', -0.0029493250553923054), (u'TAB_e2_NEIGHBOR_PHRASE_WORDS_[kollektor-basis-stromverh ?]', -0.0029493250553923054), (u'TAB_e2_NEIGHBOR_PHRASE_WORDS_[collector-base capacitance]', -0.0029493250553923054), (u'TAB_e2_NEIGHBOR_PHRASE_WORDS_[6b]', -0.0029493250553923054), (u'TAB_e2_NEIGHBOR_PHRASE_WORDS_[bc818k-40 =]', -0.0029493250553923054), (u'TAB_e2_NEIGHBOR_PHRASE_WORDS_[sot-23 (]', -0.0029493250553923054), (u'TAB_e2_NEIGHBOR_PHRASE_WORDS_[collector-emitter-volt .]', -0.0029493250553923054), (u'TAB_e2_NEIGHBOR_PHRASE_WORDS_[emitter-base-voltage]', -0.0029493250553923054), (u'TAB_e2_NEIGHBOR_PHRASE_WORDS_[ttigungsspg]', -0.0029493250553923054), (u'TAB_e2_NEIGHBOR_PHRASE_WORDS_[gegurtet]', -0.0029493250553923054), (u'TAB_e2_NEIGHBOR_PHRASE_WORDS_[standard packaging]', -0.0029493250553923054), (u'TAB_e2_NEIGHBOR_PHRASE_WORDS_[collector-base-volt]', -0.0029493250553923054), (u'TAB_e2_NEIGHBOR_PHRASE_WORDS_[6cr]', -0.0029493250553923054), (u'TAB_e2_NEIGHBOR_PHRASE_WORDS_[pf -]', -0.0029493250553923054), (u'TAB_e2_NEIGHBOR_PHRASE_WORDS_[gain -]', -0.0029493250553923054), (u'TAB_e2_NEIGHBOR_PHRASE_WORDS_[basis-spitzenstrom]', -0.0029493250553923054), (u'TAB_e2_NEIGHBOR_PHRASE_WORDS_[) kennwerte]', -0.0029493250553923054), (u'TAB_e2_NEIGHBOR_PHRASE_WORDS_[semiconductor ag]', -0.0029493250553923054), (u'TAB_e2_NEIGHBOR_PHRASE_WORDS_[lieferform]', -0.0029493250553923054), (u'TAB_e2_NEIGHBOR_PHRASE_WORDS_[mhz -]', -0.0029493250553923054), (u'TAB_e2_NEIGHBOR_PHRASE_WORDS_[500 mw]', -0.0029493250553923054), (u'TAB_e2_NEIGHBOR_PHRASE_WORDS_[all groups]', -0.0029493250553923054), (u'TAB_e2_NEIGHBOR_PHRASE_WORDS_[pro]', -0.0029493250553923054), (u'TAB_e2_NEIGHBOR_PHRASE_WORDS_[0.4]', -0.0029493250553923054), (u'TAB_e2_NEIGHBOR_PHRASE_WORDS_[low rth]', -0.0029493250553923054), (u'TAB_e2_NEIGHBOR_PHRASE_WORDS_[mount]', -0.0029493250553923054), (u'TAB_e2_NEIGHBOR_PHRASE_WORDS_[200 ma]', -0.0029493250553923054), (u'TAB_e2_NEIGHBOR_PHRASE_WORDS_[2.5]', -0.0029493250553923054), (u'TAB_e2_NEIGHBOR_PHRASE_WORDS_[taped and]', -0.0029493250553923054), (u'TAB_e2_NEIGHBOR_PHRASE_WORDS_[/ bc818k]', -0.0029493250553923054), (u'TAB_e2_NEIGHBOR_PHRASE_WORDS_[- kollektor-emitter-spannung]', -0.0029493250553923054), (u'TAB_e2_NEIGHBOR_PHRASE_WORDS_[2.9]', -0.0029493250553923054), (u'TAB_e2_NEIGHBOR_PHRASE_WORDS_[170 mhz]', -0.0029493250553923054), (u'TAB_e2_NEIGHBOR_PHRASE_WORDS_[kollektor-emitter-spannung b]', -0.0029493250553923054), (u'TAB_e2_NEIGHBOR_PHRASE_WORDS_[-25]', -0.0029493250553923054), (u'TAB_e2_NEIGHBOR_PHRASE_WORDS_[rolle]', -0.0029493250553923054), (u'TAB_e2_NEIGHBOR_PHRASE_WORDS_[500 ma]', -0.0029493250553923054), (u'TAB_e2_NEIGHBOR_PHRASE_WORDS_[70 k/w]', -0.0029493250553923054), (u'TAB_e2_NEIGHBOR_PHRASE_WORDS_[gewicht ca]', -0.0029493250553923054), (u'TAB_e2_NEIGHBOR_PHRASE_WORDS_[10 v]', -0.0029493250553923054), (u'TAB_e2_NEIGHBOR_PHRASE_WORDS_[-40]', -0.0029493250553923054), (u'TAB_e2_NEIGHBOR_PHRASE_WORDS_[bc817k-16]', -0.0029493250553923054), (u'TAB_e2_NEIGHBOR_PHRASE_WORDS_[-55 ?]', -0.0029493250553923054), (u'TAB_e2_NEIGHBOR_PHRASE_WORDS_[f?r]', -0.0029493250553923054), (u'TAB_e2_NEIGHBOR_PHRASE_WORDS_[cycle ?]', -0.0029493250553923054), (u'TAB_e2_NEIGHBOR_PHRASE_WORDS_[- kollektorstrom]', -0.0029493250553923054), (u'TAB_e2_NEIGHBOR_PHRASE_WORDS_[, duty]', -0.0029493250553923054), (u'TAB_e2_NEIGHBOR_PHRASE_WORDS_[empfohlene]', -0.0029493250553923054), (u'TAB_e2_NEIGHBOR_PHRASE_WORDS_[e 3]', -0.0029493250553923054), (u'TAB_e2_NEIGHBOR_PHRASE_WORDS_[case kunststoffgeh?use]', -0.0029493250553923054), (u'TAB_e2_NEIGHBOR_PHRASE_WORDS_[bc818k-16 =]', -0.0029493250553923054), (u'TAB_e2_NEIGHBOR_PHRASE_WORDS_[+150 ?]', -0.0029493250553923054), (u'TAB_e2_NEIGHBOR_PHRASE_WORDS_[group]', -0.0029493250553923054), (u'TAB_e2_NEIGHBOR_PHRASE_WORDS_[emitter-basis-spannung]', -0.0029493250553923054), (u'TAB_e2_NEIGHBOR_PHRASE_WORDS_[6b or]', -0.0029493250553923054), (u'TAB_e2_NEIGHBOR_PHRASE_WORDS_[kollektor-basis-kapazit]', -0.0029493250553923054), (u'TAB_e2_NEIGHBOR_PHRASE_WORDS_[> 70]', -0.0029493250553923054), (u'TAB_e2_NEIGHBOR_PHRASE_WORDS_[tot]', -0.0029493250553923054), (u'TAB_e2_NEIGHBOR_PHRASE_WORDS_[4 v]', -0.0029493250553923054), (u'TAB_e2_NEIGHBOR_PHRASE_WORDS_[6cs bc817k-40]', -0.0029493250553923054), (u'TAB_e2_NEIGHBOR_PHRASE_WORDS_[- l?tpunkt]', -0.0029493250553923054), (u'TAB_e2_NEIGHBOR_PHRASE_WORDS_[ttigungsspannung]', -0.0029493250553923054), (u'TAB_e2_NEIGHBOR_PHRASE_WORDS_[pulses]', -0.0029493250553923054), (u'TAB_e2_NEIGHBOR_PHRASE_WORDS_[group -40]', -0.0029493250553923054), (u'TAB_e2_NEIGHBOR_PHRASE_WORDS_[- kollektor-basis-spannung]', -0.0029493250553923054), (u'TAB_e2_NEIGHBOR_PHRASE_WORDS_[stromverst?rkungsgruppen]', -0.0029493250553923054), (u'TAB_e2_NEIGHBOR_PHRASE_WORDS_[100 na]', -0.0029493250553923054), (u'TAB_e2_NEIGHBOR_PHRASE_WORDS_[verlustleistung t]', -0.0029493250553923054), (u'TAB_e2_NEIGHBOR_PHRASE_WORDS_[kollektor-basis-spannung c]', -0.0029493250553923054), (u'TAB_e2_NEIGHBOR_PHRASE_WORDS_[bc818k-16]', -0.0029493250553923054), (u'TAB_e2_NEIGHBOR_PHRASE_WORDS_[2.5 max]', -0.0029493250553923054), (u'TAB_e2_NEIGHBOR_PHRASE_WORDS_[1 2]', -0.0029493250553923054), (u'TAB_e2_NEIGHBOR_PHRASE_WORDS_[cm]', -0.0029493250553923054), (u'TAB_e2_NEIGHBOR_PHRASE_WORDS_[capacitance -]', -0.0029493250553923054), (u'TAB_e2_NEIGHBOR_PHRASE_WORDS_[( to-236]', -0.0029493250553923054), (u'TAB_e2_NEIGHBOR_PHRASE_WORDS_[= i]', -0.0029493250553923054), (u'TAB_e2_NEIGHBOR_PHRASE_WORDS_[nb]', -0.0029493250553923054), (u'TAB_e2_NEIGHBOR_PHRASE_WORDS_[ma?e []', -0.0029493250553923054), (u'TAB_e2_NEIGHBOR_PHRASE_WORDS_[diotec]', -0.0029493250553923054), (u'TAB_e2_NEIGHBOR_PHRASE_WORDS_[weight approx]', -0.0029493250553923054), (u'TAB_e2_NEIGHBOR_PHRASE_WORDS_[thsp]', -0.0029493250553923054), (u'TAB_e2_NEIGHBOR_PHRASE_WORDS_[<< nb]', -0.0029493250553923054), (u'TAB_e2_NEIGHBOR_PHRASE_WORDS_[peak]', -0.0029493250553923054), (u'TAB_e2_NEIGHBOR_PHRASE_WORDS_[[ mm]', -0.0029493250553923054), (u'TAB_e2_NEIGHBOR_PHRASE_WORDS_[e open]', -0.0029493250553923054), (u'TAB_e2_NEIGHBOR_PHRASE_WORDS_[bc808k]', -0.0029493250553923054), (u'TAB_e2_NEIGHBOR_PHRASE_WORDS_[6c or]', -0.0029493250553923054), (u'TAB_e2_NEIGHBOR_PHRASE_WORDS_[ltnis]', -0.0029493250553923054), (u'TAB_e2_NEIGHBOR_PHRASE_WORDS_[[]', -0.0029493250553923054), (u'TAB_e2_NEIGHBOR_PHRASE_WORDS_[grenzwerte (]', -0.0029493250553923054), (u'TAB_e2_NEIGHBOR_PHRASE_WORDS_[bc817k]', -0.0029493250553923054), (u'TAB_e2_NEIGHBOR_PHRASE_WORDS_[= 1]', -0.0029493250553923054), (u'TAB_e2_NEIGHBOR_PHRASE_WORDS_[- kollektor-basis-kapazit]', -0.0029493250553923054), (u'TAB_e2_NEIGHBOR_PHRASE_WORDS_[630]', -0.0029493250553923054), (u'TAB_e2_NEIGHBOR_PHRASE_WORDS_[grenzwerte]', -0.0029493250553923054), (u'TAB_e2_NEIGHBOR_PHRASE_WORDS_[kollektor-spitzenstrom]', -0.0029493250553923054), (u'TAB_e2_NEIGHBOR_PHRASE_WORDS_[mhz f]', -0.0029493250553923054), (u'TAB_e2_NEIGHBOR_PHRASE_WORDS_[groups per]', -0.0029493250553923054), (u'TAB_e2_NEIGHBOR_PHRASE_WORDS_[1 v]', -0.0029493250553923054), (u'TAB_e2_NEIGHBOR_PHRASE_WORDS_[rth si-epi-planar]', -0.0029493250553923054), (u'TAB_e2_NEIGHBOR_PHRASE_WORDS_[kollektor-basis-stromverh]', -0.0029493250553923054), (u'TAB_e2_NEIGHBOR_PHRASE_WORDS_[- emitter-basis-spannung]', -0.0029493250553923054), (u'TAB_e2_NEIGHBOR_PHRASE_WORDS_[geh?usematerial ul94v-0]', -0.0029493250553923054), (u'TAB_e2_NEIGHBOR_PHRASE_WORDS_[packaging taped]', -0.0029493250553923054), (u'TAB_e2_NEIGHBOR_PHRASE_WORDS_[-16]', -0.0029493250553923054), (u'TAB_e2_NEIGHBOR_PHRASE_WORDS_[emitter-basis-spannung c]', -0.0029493250553923054), (u'TAB_e2_NEIGHBOR_PHRASE_WORDS_[klassifiziert]', -0.0029493250553923054), (u'TAB_e2_NEIGHBOR_PHRASE_WORDS_[300 ?]', -0.0029493250553923054), (u'TAB_e2_NEIGHBOR_PHRASE_WORDS_[to soldering]', -0.0029493250553923054), (u'TAB_e2_NEIGHBOR_PHRASE_WORDS_[- transitfrequenz]', -0.0029493250553923054), (u'TAB_e2_NEIGHBOR_PHRASE_WORDS_[emitter-base-voltage -]', -0.0029493250553923054), (u'TAB_e2_NEIGHBOR_PHRASE_WORDS_[sp]', -0.0029493250553923054), (u'TAB_e2_NEIGHBOR_PHRASE_WORDS_[400]', -0.0029493250553923054), (u'TAB_e2_NEIGHBOR_PHRASE_WORDS_[l?tpunkt]', -0.0029493250553923054), (u'TAB_e2_NEIGHBOR_PHRASE_WORDS_[- sperrschichttemperatur]', -0.0029493250553923054), (u'TAB_e2_NEIGHBOR_PHRASE_WORDS_[si-epi-planar]', -0.0029493250553923054), (u'TAB_e2_NEIGHBOR_PHRASE_WORDS_[base current]', -0.0029493250553923054), (u'TAB_e2_NEIGHBOR_PHRASE_WORDS_[0.7 v]', -0.0029493250553923054), (u'TAB_e2_NEIGHBOR_PHRASE_WORDS_[= 300]', -0.0029493250553923054), (u'TAB_e2_NEIGHBOR_PHRASE_WORDS_[= e]', -0.0029493250553923054), (u'TAB_e2_NEIGHBOR_PHRASE_WORDS_[f?r die]', -0.0029493250553923054), (u'TAB_e2_NEIGHBOR_PHRASE_WORDS_[kollektor-basis-kapazit ?]', -0.0029493250553923054), (u'TAB_e2_NEIGHBOR_PHRASE_WORDS_[115 ?]', -0.0029493250553923054), (u'TAB_e2_NEIGHBOR_PHRASE_WORDS_[b 2]', -0.0029493250553923054), (u'TAB_e2_NEIGHBOR_PHRASE_WORDS_[surface mount]', -0.0029493250553923054), (u'TAB_e2_NEIGHBOR_PHRASE_WORDS_[6f or]', -0.0029493250553923054), (u'TAB_e2_NEIGHBOR_PHRASE_WORDS_[( e]', -0.0029493250553923054), (u'TAB_e2_NEIGHBOR_PHRASE_WORDS_[type stempelung]', -0.0029493250553923054), (u'TAB_e2_NEIGHBOR_PHRASE_WORDS_[dissipation -]', -0.0029493250553923054), (u'TAB_e2_NEIGHBOR_PHRASE_WORDS_[= 6b]', -0.0029493250553923054), (u'TAB_e2_NEIGHBOR_PHRASE_WORDS_[dises00645-1]', -0.0029493250553923054), (u'TAB_e2_NEIGHBOR_PHRASE_WORDS_[bc817k-40 =]', -0.0029493250553923054), (u'TAB_e2_NEIGHBOR_PHRASE_WORDS_[approx .]', -0.0029493250553923054), (u'TAB_e2_NEIGHBOR_PHRASE_WORDS_[bm]', -0.0029493250553923054), (u'TAB_e2_NEIGHBOR_PHRASE_WORDS_[3 pf]', -0.0029493250553923054), (u'TAB_e2_NEIGHBOR_PHRASE_WORDS_[- gewicht]', -0.0029493250553923054), (u'TAB_e2_NEIGHBOR_PHRASE_WORDS_[bc807k]', -0.0029493250553923054), (u'TAB_e2_NEIGHBOR_PHRASE_WORDS_[http://www.diotec.com/]', -0.0029493250553923054), (u'TAB_e2_NEIGHBOR_PHRASE_WORDS_[groups]', -0.0029493250553923054), (u'TAB_e2_NEIGHBOR_PHRASE_WORDS_[collector-base-volt .]', -0.0029493250553923054), (u'TAB_e2_NEIGHBOR_PHRASE_WORDS_[3 =]', -0.0029493250553923054), (u'TAB_e2_NEIGHBOR_PHRASE_WORDS_[temperature -]', -0.0029493250553923054), (u'TAB_e2_NEIGHBOR_PHRASE_WORDS_[] 1]', -0.0029493250553923054), (u'TAB_e2_NEIGHBOR_PHRASE_WORDS_[500]', -0.0029493250553923054), (u'TAB_e2_NEIGHBOR_PHRASE_WORDS_[sperrschichttemperatur]', -0.0029493250553923054), (u'TAB_e2_NEIGHBOR_PHRASE_WORDS_[basisstrom]', -0.0029493250553923054), (u'TAB_e2_NEIGHBOR_PHRASE_WORDS_[die]', -0.0029493250553923054), (u'TAB_e2_NEIGHBOR_PHRASE_WORDS_[- 100]', -0.0029493250553923054), (u'TAB_e2_NEIGHBOR_PHRASE_WORDS_[emitter-base cutoff]', -0.0029493250553923054), (u'TAB_e2_NEIGHBOR_PHRASE_WORDS_[ma?e]', -0.0029493250553923054), (u'TAB_e2_NEIGHBOR_PHRASE_WORDS_[bc818k-40]', -0.0029493250553923054), (u'TAB_e2_NEIGHBOR_PHRASE_WORDS_[6a or]', -0.0029493250553923054), (u'TAB_e2_NEIGHBOR_PHRASE_WORDS_[kollektor-emitter-s ?]', -0.0029493250553923054), (u'TAB_e2_NEIGHBOR_PHRASE_WORDS_[- kollektor-emitter-s]', -0.0029493250553923054), (u'TAB_e2_NEIGHBOR_PHRASE_WORDS_[- verlustleistung]', -0.0029493250553923054), (u'TAB_e2_NEIGHBOR_PHRASE_WORDS_[group -16]', -0.0029493250553923054), (u'TAB_e2_NEIGHBOR_PHRASE_WORDS_[, (]', -0.0029493250553923054), (u'TAB_e2_NEIGHBOR_PHRASE_WORDS_[of available]', -0.0029493250553923054), (u'TAB_e2_NEIGHBOR_PHRASE_WORDS_[lagerungstemperatur]', -0.0029493250553923054), (u'TAB_e2_NEIGHBOR_PHRASE_WORDS_[bc817k /]', -0.0029493250553923054), (u'TAB_e2_NEIGHBOR_PHRASE_WORDS_[sperrschicht -]', -0.0029493250553923054), (u'TAB_e2_NEIGHBOR_PHRASE_WORDS_[schaltverh?ltnis]', -0.0029493250553923054), (u'TAB_e2_NEIGHBOR_PHRASE_WORDS_[dimensions -]', -0.0029493250553923054), (u'TAB_e2_NEIGHBOR_PHRASE_WORDS_[komplement?re pnp-transistoren]', -0.0029493250553923054), (u'TAB_e2_NEIGHBOR_PHRASE_WORDS_[1.1]', -0.0029493250553923054), (u'TAB_e2_NEIGHBOR_PHRASE_WORDS_[mhz c]', -0.0029493250553923054), (u'TAB_e2_NEIGHBOR_PHRASE_WORDS_[kennwerte]', -0.0029493250553923054), (u'TAB_e2_NEIGHBOR_PHRASE_WORDS_[c )]', -0.0029493250553923054), (u'TAB_e2_NEIGHBOR_PHRASE_WORDS_[to-236 )]', -0.0029493250553923054), (u'TAB_e2_NEIGHBOR_PHRASE_WORDS_[empfohlene komplement?re]', -0.0029493250553923054), (u'TAB_e2_NEIGHBOR_PHRASE_WORDS_[- lagerungstemperatur]', -0.0029493250553923054), (u'TAB_e2_NEIGHBOR_PHRASE_WORDS_[6c]', -0.0029493250553923054), (u'TAB_e2_NEIGHBOR_PHRASE_WORDS_[per type]', -0.0029493250553923054), (u'TAB_e2_NEIGHBOR_PHRASE_WORDS_[bc817k-16 =]', -0.0029493250553923054), (u'TAB_e2_NEIGHBOR_PHRASE_WORDS_[kunststoffgeh?use]', -0.0029493250553923054), (u'TAB_e2_NEIGHBOR_PHRASE_WORDS_[2011-10-26]', -0.0029493250553923054), (u'TAB_e2_NEIGHBOR_PHRASE_WORDS_[type code]', -0.0029493250553923054), (u'TAB_e2_NEIGHBOR_PHRASE_WORDS_[bc818k-25]', -0.0029493250553923054), (u'TAB_e2_NEIGHBOR_PHRASE_WORDS_[diotec semiconductor]', -0.0029493250553923054), (u'TAB_e2_NEIGHBOR_PHRASE_WORDS_[s ,]', -0.0029493250553923054), (u'TAB_e2_NEIGHBOR_PHRASE_WORDS_[soldering point]', -0.0029493250553923054), (u'TAB_e2_NEIGHBOR_PHRASE_WORDS_[kollektor-emitter-s]', -0.0029493250553923054), (u'TAB_e2_NEIGHBOR_PHRASE_WORDS_[auf rolle]', -0.0029493250553923054), (u'TAB_e2_NEIGHBOR_PHRASE_WORDS_[ma all]', -0.0029493250553923054), (u'TAB_e2_NEIGHBOR_PHRASE_WORDS_[5 v]', -0.0029493250553923054), (u'TAB_e2_NEIGHBOR_PHRASE_WORDS_[1.3]', -0.0029493250553923054), (u'TAB_e2_NEIGHBOR_PHRASE_WORDS_[rth transistoren]', -0.0029493250553923054), (u'TAB_e2_NEIGHBOR_PHRASE_WORDS_[to-236]', -0.0029493250553923054), (u'TAB_e2_NEIGHBOR_PHRASE_WORDS_[w?rmewiderstand sperrschicht]', -0.0029493250553923054), (u'TAB_e2_NEIGHBOR_PHRASE_WORDS_[ca .]', -0.0029493250553923054), (u'TAB_e2_NEIGHBOR_PHRASE_WORDS_[- kollektor-basis-reststrom]', -0.0029493250553923054), (u'TAB_e2_NEIGHBOR_PHRASE_WORDS_[standard lieferform]', -0.0029493250553923054), (u'TAB_e2_NEIGHBOR_PHRASE_WORDS_[besat]', -0.0029493250553923054), (u'TAB_e2_NEIGHBOR_PHRASE_WORDS_[- basis-emitter-s]', -0.0029493250553923054), (u'TAB_e2_NEIGHBOR_PHRASE_WORDS_[ratings (]', -0.0029493250553923054), (u'TAB_e2_NEIGHBOR_PHRASE_WORDS_[= 6e]', -0.0029493250553923054), (u'TAB_e2_NEIGHBOR_PHRASE_WORDS_[standard]', -0.0029493250553923054), (u'TAB_e2_NEIGHBOR_PHRASE_WORDS_[all]', -0.0029493250553923054), (u'TAB_e2_NEIGHBOR_PHRASE_WORDS_[lieferform gegurtet]', -0.0029493250553923054), (u'TAB_e2_NEIGHBOR_PHRASE_WORDS_[25 v]', -0.0029493250553923054), (u'TAB_e2_NEIGHBOR_PHRASE_WORDS_[6cs]', -0.0029493250553923054), (u'TAB_e1_NEIGHBOR_PHRASE_WORDS_[power dissipation]', -0.0029263405633512376), (u'TAB_e1_NEIGHBOR_PHRASE_WORDS_[f]', -0.0029263405633512376), (u'TAB_e1_NEIGHBOR_PHRASE_WORDS_[f =]', -0.0029263405633512376), (u'TAB_e1_NEIGHBOR_PHRASE_WORDS_[power]', -0.0029263405633512376), (u'TAB_e1_COL_NUM_[0]', 0.002817191401040255), (u'TAB_e1_COL_WORDS_[: bc859]', -0.0027507093560183086), (u'TAB_e1_COL_WORDS_[bc859]', -0.0027507093560183086), (u'TAB_e1_COL_WORDS_[bc860]', -0.002739244511487292), (u'TAB_e1_COL_WORDS_[: bc860]', -0.002739244511487292), (u'TDL_SEQ-BETWEEN[LEN:0-4]', 0.002728271982348444), (u'TAB_e1_NEIGHBOR_PHRASE_WORDS_[transistors]', 0.0026945508307212), (u'TAB_e1_NEIGHBOR_PHRASE_WORDS_[resistance]', 0.0026945508307212), (u'TAB_e1_NEIGHBOR_PHRASE_WORDS_[= 100]', 0.0026945508307212), (u'TAB_e1_NEIGHBOR_PHRASE_WORDS_[50]', 0.0026945508307212), (u'TDL_INV_DEP_LABEL:BETWEEN-MENTION-and-MENTION[compound]', 0.002679918981791732), (u'TAB_e1_ROW_WORDS_[-30]', -0.002574648868243592), (u'TAB_e1_NEIGHBOR_PHRASE_WORDS_[consist of]', 0.0025592278809300037), (u'TAB_e2_NEIGHBOR_PHRASE_WORDS_[inverter circuit]', 0.0025592278809300037), (u'TAB_e2_NEIGHBOR_PHRASE_WORDS_[supply voltage]', 0.0025592278809300037), (u'TAB_e2_NEIGHBOR_PHRASE_WORDS_[13]', 0.0025592278809300037), (u'TAB_e1_NEIGHBOR_PHRASE_WORDS_[100mhz )]', 0.0025592278809300037), (u'TAB_e1_NEIGHBOR_PHRASE_WORDS_[input resistance]', 0.0025592278809300037), (u'TAB_e1_NEIGHBOR_PHRASE_WORDS_[also]', 0.0025592278809300037), (u'TAB_e2_NEIGHBOR_PHRASE_WORDS_[need to]', 0.0025592278809300037), (u'TAB_e1_NEIGHBOR_PHRASE_WORDS_[/ r]', 0.0025592278809300037), (u'TAB_e2_NEIGHBOR_PHRASE_WORDS_[configuration of]', 0.0025592278809300037), (u'TAB_e2_NEIGHBOR_PHRASE_WORDS_[input resistance]', 0.0025592278809300037), (u'TAB_e1_NEIGHBOR_PHRASE_WORDS_[built-in bias]', 0.0025592278809300037), (u'TAB_e1_NEIGHBOR_PHRASE_WORDS_[completely]', 0.0025592278809300037), (u'TAB_e1_NEIGHBOR_PHRASE_WORDS_[digital]', 0.0025592278809300037), (u'TAB_e2_NEIGHBOR_PHRASE_WORDS_[advantage]', 0.0025592278809300037), (u'TAB_e2_NEIGHBOR_PHRASE_WORDS_[isolation]', 0.0025592278809300037), (u'TAB_e2_NEIGHBOR_PHRASE_WORDS_[( off]', 0.0025592278809300037), (u'TAB_e2_NEIGHBOR_PHRASE_WORDS_[set for]', 0.0025592278809300037), (u'TAB_e1_NEIGHBOR_PHRASE_WORDS_[( max]', 0.0025592278809300037), (u'TAB_e2_NEIGHBOR_PHRASE_WORDS_[completely]', 0.0025592278809300037), (u'TAB_e2_NEIGHBOR_PHRASE_WORDS_[( max]', 0.0025592278809300037), (u'TAB_e1_NEIGHBOR_PHRASE_WORDS_[also have]', 0.0025592278809300037), (u'TAB_e1_NEIGHBOR_PHRASE_WORDS_[built-in]', 0.0025592278809300037), (u'TAB_e1_NEIGHBOR_PHRASE_WORDS_[the on/off]', 0.0025592278809300037), (u'TAB_e2_NEIGHBOR_PHRASE_WORDS_[input]', 0.0025592278809300037), (u'TAB_e1_NEIGHBOR_PHRASE_WORDS_[ul]', 0.0025592278809300037), (u'TAB_e2_NEIGHBOR_PHRASE_WORDS_[isolation to]', 0.0025592278809300037), (u'TAB_e2_NEIGHBOR_PHRASE_WORDS_[the on/off]', 0.0025592278809300037), (u'TAB_e1_NEIGHBOR_PHRASE_WORDS_[allow]', 0.0025592278809300037), (u'TAB_e2_NEIGHBOR_PHRASE_WORDS_[resistance ratio]', 0.0025592278809300037), (u'TAB_e2_NEIGHBOR_PHRASE_WORDS_[enable]', 0.0025592278809300037), (u'TAB_e1_NEIGHBOR_PHRASE_WORDS_[cc]', 0.0025592278809300037), (u'TAB_e2_NEIGHBOR_PHRASE_WORDS_[conditions need]', 0.0025592278809300037), (u'TAB_e2_NEIGHBOR_PHRASE_WORDS_[only the]', 0.0025592278809300037), (u'TAB_e2_NEIGHBOR_PHRASE_WORDS_[gnd]', 0.0025592278809300037), (u'TAB_e2_NEIGHBOR_PHRASE_WORDS_[operation]', 0.0025592278809300037), (u'TAB_e1_NEIGHBOR_PHRASE_WORDS_[resistors enable]', 0.0025592278809300037), (u'TAB_e2_NEIGHBOR_PHRASE_WORDS_[external]', 0.0025592278809300037), (u'TAB_e1_NEIGHBOR_PHRASE_WORDS_[have]', 0.0025592278809300037), (u'TAB_e2_NEIGHBOR_PHRASE_WORDS_[= 5ma]', 0.0025592278809300037), (u'TAB_e1_NEIGHBOR_PHRASE_WORDS_[o]', 0.0025592278809300037), (u'TAB_e1_NEIGHBOR_PHRASE_WORDS_[ma )]', 0.0025592278809300037), (u'TAB_e1_NEIGHBOR_PHRASE_WORDS_[operation]', 0.0025592278809300037), (u'TAB_e2_NEIGHBOR_PHRASE_WORDS_[100mhz )]', 0.0025592278809300037), (u'TAB_e1_NEIGHBOR_PHRASE_WORDS_[be set]', 0.0025592278809300037), (u'TAB_e2_NEIGHBOR_PHRASE_WORDS_[also]', 0.0025592278809300037), (u'TAB_e2_NEIGHBOR_PHRASE_WORDS_[without]', 0.0025592278809300037), (u'TAB_e1_NEIGHBOR_PHRASE_WORDS_[biasing of]', 0.0025592278809300037), (u'TAB_e2_NEIGHBOR_PHRASE_WORDS_[allow]', 0.0025592278809300037), (u'TAB_e1_NEIGHBOR_PHRASE_WORDS_[the bias]', 0.0025592278809300037), (u'TAB_e2_NEIGHBOR_PHRASE_WORDS_[output current]', 0.0025592278809300037), (u'TAB_e1_NEIGHBOR_PHRASE_WORDS_[isolation]', 0.0025592278809300037), (u'TAB_e2_NEIGHBOR_PHRASE_WORDS_[off )]', 0.0025592278809300037), (u'TAB_e2_NEIGHBOR_PHRASE_WORDS_[0.5]', 0.0025592278809300037), (u'TAB_e2_NEIGHBOR_PHRASE_WORDS_[bias]', 0.0025592278809300037), (u'TAB_e1_NEIGHBOR_PHRASE_WORDS_[almost completely]', 0.0025592278809300037), (u'TAB_e2_NEIGHBOR_PHRASE_WORDS_[on/off]', 0.0025592278809300037), (u'TAB_e2_NEIGHBOR_PHRASE_WORDS_[of an]', 0.0025592278809300037), (u'TAB_e1_NEIGHBOR_PHRASE_WORDS_[isolation to]', 0.0025592278809300037), (u'TAB_e1_NEIGHBOR_PHRASE_WORDS_[on/off]', 0.0025592278809300037), (u'TAB_e2_NEIGHBOR_PHRASE_WORDS_[set]', 0.0025592278809300037), (u'TAB_e2_NEIGHBOR_PHRASE_WORDS_[they also]', 0.0025592278809300037), (u'TAB_e1_NEIGHBOR_PHRASE_WORDS_[external]', 0.0025592278809300037), (u'TAB_e1_NEIGHBOR_PHRASE_WORDS_[set for]', 0.0025592278809300037), (u'TAB_e2_NEIGHBOR_PHRASE_WORDS_[i (]', 0.0025592278809300037), (u'TAB_e2_NEIGHBOR_PHRASE_WORDS_[built-in]', 0.0025592278809300037), (u'TAB_e1_NEIGHBOR_PHRASE_WORDS_[negative]', 0.0025592278809300037), (u'TAB_e1_NEIGHBOR_PHRASE_WORDS_[for operation]', 0.0025592278809300037), (u'TAB_e2_NEIGHBOR_PHRASE_WORDS_[ratio]', 0.0025592278809300037), (u'TAB_e1_NEIGHBOR_PHRASE_WORDS_[of the]', 0.0025592278809300037), (u'TAB_e1_NEIGHBOR_PHRASE_WORDS_[negative biasing]', 0.0025592278809300037), (u'TAB_e2_NEIGHBOR_PHRASE_WORDS_[consist of]', 0.0025592278809300037), (u'TAB_e1_NEIGHBOR_PHRASE_WORDS_[enable]', 0.0025592278809300037), (u'TAB_e2_NEIGHBOR_PHRASE_WORDS_[resistors consist]', 0.0025592278809300037), (u'TAB_e1_NEIGHBOR_PHRASE_WORDS_[advantage of]', 0.0025592278809300037), (u'TAB_e2_NEIGHBOR_PHRASE_WORDS_[without connecting]', 0.0025592278809300037), (u'TAB_e2_NEIGHBOR_PHRASE_WORDS_[0.88]', 0.0025592278809300037), (u'TAB_e1_NEIGHBOR_PHRASE_WORDS_[conditions need]', 0.0025592278809300037), (u'TAB_e1_NEIGHBOR_PHRASE_WORDS_[effects]', 0.0025592278809300037), (u'TAB_e1_NEIGHBOR_PHRASE_WORDS_[= 50v]', 0.0025592278809300037), (u'TAB_e2_NEIGHBOR_PHRASE_WORDS_[of almost]', 0.0025592278809300037), (u'TAB_e2_NEIGHBOR_PHRASE_WORDS_[design easy]', 0.0025592278809300037), (u'TAB_e2_NEIGHBOR_PHRASE_WORDS_[easy]', 0.0025592278809300037), (u'TAB_e2_NEIGHBOR_PHRASE_WORDS_[thin-film resistors]', 0.0025592278809300037), (u'TAB_e1_NEIGHBOR_PHRASE_WORDS_[on/off conditions]', 0.0025592278809300037), (u'TAB_e2_NEIGHBOR_PHRASE_WORDS_[5v )]', 0.0025592278809300037), (u'TAB_e1_NEIGHBOR_PHRASE_WORDS_[10v]', 0.0025592278809300037), (u'TAB_e2_NEIGHBOR_PHRASE_WORDS_[to allow]', 0.0025592278809300037), (u'TAB_e1_NEIGHBOR_PHRASE_WORDS_[of an]', 0.0025592278809300037), (u'TAB_e2_NEIGHBOR_PHRASE_WORDS_[ul]', 0.0025592278809300037), (u'TAB_e1_NEIGHBOR_PHRASE_WORDS_[the configuration]', 0.0025592278809300037), (u'TAB_e2_NEIGHBOR_PHRASE_WORDS_[0.3]', 0.0025592278809300037), (u'TAB_e1_NEIGHBOR_PHRASE_WORDS_[off )]', 0.0025592278809300037), (u'TAB_e1_NEIGHBOR_PHRASE_WORDS_[enable the]', 0.0025592278809300037), (u'TAB_e1_NEIGHBOR_PHRASE_WORDS_[the advantage]', 0.0025592278809300037), (u'TAB_e1_NEIGHBOR_PHRASE_WORDS_[0.3]', 0.0025592278809300037), (u'TAB_e2_NEIGHBOR_PHRASE_WORDS_[= 10v]', 0.0025592278809300037), (u'TAB_e2_NEIGHBOR_PHRASE_WORDS_[0.3 v]', 0.0025592278809300037), (u'TAB_e1_NEIGHBOR_PHRASE_WORDS_[almost]', 0.0025592278809300037), (u'TAB_e2_NEIGHBOR_PHRASE_WORDS_[built-in bias]', 0.0025592278809300037), (u'TAB_e2_NEIGHBOR_PHRASE_WORDS_[they]', 0.0025592278809300037), (u'TAB_e1_NEIGHBOR_PHRASE_WORDS_[set]', 0.0025592278809300037), (u'TAB_e2_NEIGHBOR_PHRASE_WORDS_[have]', 0.0025592278809300037), (u'TAB_e1_NEIGHBOR_PHRASE_WORDS_[thin-film resistors]', 0.0025592278809300037), (u'TAB_e2_NEIGHBOR_PHRASE_WORDS_[/ r]', 0.0025592278809300037), (u'TAB_e1_NEIGHBOR_PHRASE_WORDS_[bias resistors]', 0.0025592278809300037), (u'TAB_e2_NEIGHBOR_PHRASE_WORDS_[parasitic effects]', 0.0025592278809300037), (u'TAB_e2_NEIGHBOR_PHRASE_WORDS_[the configuration]', 0.0025592278809300037), (u'TAB_e1_NEIGHBOR_PHRASE_WORDS_[effects .]', 0.0025592278809300037), (u'TAB_e1_NEIGHBOR_PHRASE_WORDS_[connecting]', 0.0025592278809300037), (u'TAB_e2_NEIGHBOR_PHRASE_WORDS_[on/off conditions]', 0.0025592278809300037), (u'TAB_e1_NEIGHBOR_PHRASE_WORDS_[0.88]', 0.0025592278809300037), (u'TAB_e2_NEIGHBOR_PHRASE_WORDS_[pdf]', 0.0025592278809300037), (u'TAB_e1_NEIGHBOR_PHRASE_WORDS_[see]', 0.0025592278809300037), (u'TAB_e2_NEIGHBOR_PHRASE_WORDS_[negative biasing]', 0.0025592278809300037), (u'TAB_e2_NEIGHBOR_PHRASE_WORDS_[see]', 0.0025592278809300037), (u'TAB_e2_NEIGHBOR_PHRASE_WORDS_[design]', 0.0025592278809300037), (u'TAB_e1_NEIGHBOR_PHRASE_WORDS_[output current]', 0.0025592278809300037), (u'TAB_e2_NEIGHBOR_PHRASE_WORDS_[be set]', 0.0025592278809300037), (u'TAB_e1_NEIGHBOR_PHRASE_WORDS_[5ma]', 0.0025592278809300037), (u'TAB_e2_NEIGHBOR_PHRASE_WORDS_[connecting]', 0.0025592278809300037), (u'TAB_e2_NEIGHBOR_PHRASE_WORDS_[resistors with]', 0.0025592278809300037), (u'TAB_e1_NEIGHBOR_PHRASE_WORDS_[input]', 0.0025592278809300037), (u'TAB_e2_NEIGHBOR_PHRASE_WORDS_[of the]', 0.0025592278809300037), (u'TAB_e1_NEIGHBOR_PHRASE_WORDS_[without]', 0.0025592278809300037), (u'TAB_e2_NEIGHBOR_PHRASE_WORDS_[configuration]', 0.0025592278809300037), (u'TAB_e2_NEIGHBOR_PHRASE_WORDS_[of thin-film]', 0.0025592278809300037), (u'TAB_e1_NEIGHBOR_PHRASE_WORDS_[configuration of]', 0.0025592278809300037), (u'TAB_e2_NEIGHBOR_PHRASE_WORDS_[resistors enable]', 0.0025592278809300037), (u'TAB_e2_NEIGHBOR_PHRASE_WORDS_[effects .]', 0.0025592278809300037), (u'TAB_e1_NEIGHBOR_PHRASE_WORDS_[parasitic effects]', 0.0025592278809300037), (u'TAB_e2_NEIGHBOR_PHRASE_WORDS_[input voltage]', 0.0025592278809300037), (u'TAB_e2_NEIGHBOR_PHRASE_WORDS_[advantage of]', 0.0025592278809300037), (u'TAB_e1_NEIGHBOR_PHRASE_WORDS_[= 0.3]', 0.0025592278809300037), (u'TAB_e2_NEIGHBOR_PHRASE_WORDS_[max )]', 0.0025592278809300037), (u'TAB_e2_NEIGHBOR_PHRASE_WORDS_[enable the]', 0.0025592278809300037), (u'TAB_e2_NEIGHBOR_PHRASE_WORDS_[k]', 0.0025592278809300037), (u'TAB_e2_NEIGHBOR_PHRASE_WORDS_[10v]', 0.0025592278809300037), (u'TAB_e2_NEIGHBOR_PHRASE_WORDS_[input .]', 0.0025592278809300037), (u'TAB_e2_NEIGHBOR_PHRASE_WORDS_[cc]', 0.0025592278809300037), (u'TAB_e2_NEIGHBOR_PHRASE_WORDS_[c (]', 0.0025592278809300037), (u'TAB_e1_NEIGHBOR_PHRASE_WORDS_[need to]', 0.0025592278809300037), (u'TAB_e1_NEIGHBOR_PHRASE_WORDS_[5v ,]', 0.0025592278809300037), (u'TAB_e2_NEIGHBOR_PHRASE_WORDS_[o (]', 0.0025592278809300037), (u'TAB_e1_NEIGHBOR_PHRASE_WORDS_[5v]', 0.0025592278809300037), (u'TAB_e1_NEIGHBOR_PHRASE_WORDS_[a )]', 0.0025592278809300037), (u'TAB_e2_NEIGHBOR_PHRASE_WORDS_[5ma )]', 0.0025592278809300037), (u'TAB_e1_NEIGHBOR_PHRASE_WORDS_[5ma ,]', 0.0025592278809300037), (u'TAB_e2_NEIGHBOR_PHRASE_WORDS_[gain (]', 0.0025592278809300037), (u'TAB_e2_NEIGHBOR_PHRASE_WORDS_[device design]', 0.0025592278809300037), (u'TAB_e1_NEIGHBOR_PHRASE_WORDS_[i (]', 0.0025592278809300037), (u'TAB_e1_NEIGHBOR_PHRASE_WORDS_[biasing]', 0.0025592278809300037), (u'TAB_e1_NEIGHBOR_PHRASE_WORDS_[only the]', 0.0025592278809300037), (u'TAB_e1_NEIGHBOR_PHRASE_WORDS_[input .]', 0.0025592278809300037), (u'TAB_e2_NEIGHBOR_PHRASE_WORDS_[to be]', 0.0025592278809300037), (u'TAB_e1_NEIGHBOR_PHRASE_WORDS_[need]', 0.0025592278809300037), (u'TAB_e2_NEIGHBOR_PHRASE_WORDS_[allow negative]', 0.0025592278809300037), (u'TAB_e2_NEIGHBOR_PHRASE_WORDS_[10v ,]', 0.0025592278809300037), (u'TAB_e1_NEIGHBOR_PHRASE_WORDS_[device design]', 0.0025592278809300037), (u'TAB_e1_NEIGHBOR_PHRASE_WORDS_[o (]', 0.0025592278809300037), (u'TAB_e1_NEIGHBOR_PHRASE_WORDS_[gain (]', 0.0025592278809300037), (u'TAB_e2_NEIGHBOR_PHRASE_WORDS_[biasing]', 0.0025592278809300037), (u'TAB_e1_NEIGHBOR_PHRASE_WORDS_[to be]', 0.0025592278809300037), (u'TAB_e1_NEIGHBOR_PHRASE_WORDS_[design]', 0.0025592278809300037), (u'TAB_e1_NEIGHBOR_PHRASE_WORDS_[resistors with]', 0.0025592278809300037), (u'TAB_e2_NEIGHBOR_PHRASE_WORDS_[inverter]', 0.0025592278809300037), (u'TAB_e2_NEIGHBOR_PHRASE_WORDS_[effects]', 0.0025592278809300037), (u'TAB_e1_NEIGHBOR_PHRASE_WORDS_[input voltage]', 0.0025592278809300037), (u'TAB_e1_NEIGHBOR_PHRASE_WORDS_[the input]', 0.0025592278809300037), (u'TAB_e2_NEIGHBOR_PHRASE_WORDS_[= 5v]', 0.0025592278809300037), (u'TAB_e1_NEIGHBOR_PHRASE_WORDS_[gnd]', 0.0025592278809300037), (u'TAB_e1_NEIGHBOR_PHRASE_WORDS_[supply voltage]', 0.0025592278809300037), (u'TAB_e1_NEIGHBOR_PHRASE_WORDS_[c (]', 0.0025592278809300037), (u'TAB_e2_NEIGHBOR_PHRASE_WORDS_[ma )]', 0.0025592278809300037), (u'TAB_e1_NEIGHBOR_PHRASE_WORDS_[input resistors]', 0.0025592278809300037), (u'TAB_e1_NEIGHBOR_PHRASE_WORDS_[they also]', 0.0025592278809300037), (u'TAB_e1_NEIGHBOR_PHRASE_WORDS_[have the]', 0.0025592278809300037), (u'TAB_e2_NEIGHBOR_PHRASE_WORDS_[5v]', 0.0025592278809300037), (u'TAB_e1_NEIGHBOR_PHRASE_WORDS_[13]', 0.0025592278809300037), (u'TAB_e2_NEIGHBOR_PHRASE_WORDS_[almost]', 0.0025592278809300037), (u'TAB_e1_NEIGHBOR_PHRASE_WORDS_[10v ,]', 0.0025592278809300037), (u'TAB_e2_NEIGHBOR_PHRASE_WORDS_[) .]', 0.0025592278809300037), (u'TAB_e2_NEIGHBOR_PHRASE_WORDS_[5v ,]', 0.0025592278809300037), (u'TAB_e1_NEIGHBOR_PHRASE_WORDS_[of almost]', 0.0025592278809300037), (u'TAB_e1_NEIGHBOR_PHRASE_WORDS_[out]', 0.0025592278809300037), (u'TAB_e2_NEIGHBOR_PHRASE_WORDS_[have the]', 0.0025592278809300037), (u'TAB_e2_NEIGHBOR_PHRASE_WORDS_[negative]', 0.0025592278809300037), (u'TAB_e2_NEIGHBOR_PHRASE_WORDS_[5ma]', 0.0025592278809300037), (u'TAB_e1_NEIGHBOR_PHRASE_WORDS_[resistors]', 0.0025592278809300037), (u'TAB_e1_NEIGHBOR_PHRASE_WORDS_[supply]', 0.0025592278809300037), (u'TAB_e2_NEIGHBOR_PHRASE_WORDS_[circuit]', 0.0025592278809300037), (u'TAB_e1_NEIGHBOR_PHRASE_WORDS_[max )]', 0.0025592278809300037), (u'TAB_e2_NEIGHBOR_PHRASE_WORDS_[an inverter]', 0.0025592278809300037), (u'TAB_e2_NEIGHBOR_PHRASE_WORDS_[the input]', 0.0025592278809300037), (u'TAB_e1_NEIGHBOR_PHRASE_WORDS_[ratio]', 0.0025592278809300037), (u'TAB_e1_NEIGHBOR_PHRASE_WORDS_[design easy]', 0.0025592278809300037), (u'TAB_e2_NEIGHBOR_PHRASE_WORDS_[a )]', 0.0025592278809300037), (u'TAB_e1_NEIGHBOR_PHRASE_WORDS_[bias]', 0.0025592278809300037), (u'TAB_e2_NEIGHBOR_PHRASE_WORDS_[50v ,]', 0.0025592278809300037), (u'TAB_e1_NEIGHBOR_PHRASE_WORDS_[of thin-film]', 0.0025592278809300037), (u'TAB_e2_NEIGHBOR_PHRASE_WORDS_[o]', 0.0025592278809300037), (u'TAB_e1_NEIGHBOR_PHRASE_WORDS_[inverter]', 0.0025592278809300037), (u'TAB_e2_NEIGHBOR_PHRASE_WORDS_[bias resistors]', 0.0025592278809300037), (u'TAB_e2_NEIGHBOR_PHRASE_WORDS_[input resistors]', 0.0025592278809300037), (u'TAB_e1_NEIGHBOR_PHRASE_WORDS_[50v ,]', 0.0025592278809300037), (u'TAB_e2_NEIGHBOR_PHRASE_WORDS_[parasitic]', 0.0025592278809300037), (u'TAB_e2_NEIGHBOR_PHRASE_WORDS_[almost completely]', 0.0025592278809300037), (u'TAB_e2_NEIGHBOR_PHRASE_WORDS_[= 50v]', 0.0025592278809300037), (u'TAB_e1_NEIGHBOR_PHRASE_WORDS_[advantage]', 0.0025592278809300037), (u'TAB_e1_NEIGHBOR_PHRASE_WORDS_[they]', 0.0025592278809300037), (u'TAB_e2_NEIGHBOR_PHRASE_WORDS_[resistors]', 0.0025592278809300037), (u'TAB_e1_NEIGHBOR_PHRASE_WORDS_[50v]', 0.0025592278809300037), (u'TAB_e1_NEIGHBOR_PHRASE_WORDS_[k]', 0.0025592278809300037), (u'TAB_e1_NEIGHBOR_PHRASE_WORDS_[resistors consist]', 0.0025592278809300037), (u'TAB_e1_NEIGHBOR_PHRASE_WORDS_[consist]', 0.0025592278809300037), (u'TAB_e1_NEIGHBOR_PHRASE_WORDS_[circuit]', 0.0025592278809300037), (u'TAB_e1_NEIGHBOR_PHRASE_WORDS_[= 10v]', 0.0025592278809300037), (u'TAB_e1_NEIGHBOR_PHRASE_WORDS_[allow negative]', 0.0025592278809300037), (u'TAB_e2_NEIGHBOR_PHRASE_WORDS_[supply]', 0.0025592278809300037), (u'TAB_e2_NEIGHBOR_PHRASE_WORDS_[epoxy]', 0.0025592278809300037), (u'TAB_e2_NEIGHBOR_PHRASE_WORDS_[= 0.3]', 0.0025592278809300037), (u'TAB_e2_NEIGHBOR_PHRASE_WORDS_[out]', 0.0025592278809300037), (u'TAB_e2_NEIGHBOR_PHRASE_WORDS_[biasing of]', 0.0025592278809300037), (u'TAB_e2_NEIGHBOR_PHRASE_WORDS_[50v]', 0.0025592278809300037), (u'TAB_e2_NEIGHBOR_PHRASE_WORDS_[for operation]', 0.0025592278809300037), (u'TAB_e2_NEIGHBOR_PHRASE_WORDS_[the bias]', 0.0025592278809300037), (u'TAB_e2_NEIGHBOR_PHRASE_WORDS_[the advantage]', 0.0025592278809300037), (u'TAB_e1_NEIGHBOR_PHRASE_WORDS_[= 5v]', 0.0025592278809300037), (u'TAB_e2_NEIGHBOR_PHRASE_WORDS_[5ma ,]', 0.0025592278809300037), (u'TAB_e1_NEIGHBOR_PHRASE_WORDS_[0.3 v]', 0.0025592278809300037), (u'TAB_e1_NEIGHBOR_PHRASE_WORDS_[without connecting]', 0.0025592278809300037), (u'TAB_e1_NEIGHBOR_PHRASE_WORDS_[( off]', 0.0025592278809300037), (u'TAB_e1_NEIGHBOR_PHRASE_WORDS_[inverter circuit]', 0.0025592278809300037), (u'TAB_e1_NEIGHBOR_PHRASE_WORDS_[to allow]', 0.0025592278809300037), (u'TAB_e2_NEIGHBOR_PHRASE_WORDS_[connecting external]', 0.0025592278809300037), (u'TAB_e2_NEIGHBOR_PHRASE_WORDS_[consist]', 0.0025592278809300037), (u'TAB_e1_NEIGHBOR_PHRASE_WORDS_[easy]', 0.0025592278809300037), (u'TAB_e1_NEIGHBOR_PHRASE_WORDS_[5v )]', 0.0025592278809300037), (u'TAB_e1_NEIGHBOR_PHRASE_WORDS_[connecting external]', 0.0025592278809300037), (u'TAB_e1_NEIGHBOR_PHRASE_WORDS_[epoxy]', 0.0025592278809300037), (u'TAB_e2_NEIGHBOR_PHRASE_WORDS_[need]', 0.0025592278809300037), (u'TAB_e1_NEIGHBOR_PHRASE_WORDS_[external input]', 0.0025592278809300037), (u'TAB_e1_NEIGHBOR_PHRASE_WORDS_[0.5]', 0.0025592278809300037), (u'TAB_e1_NEIGHBOR_PHRASE_WORDS_[= 5ma]', 0.0025592278809300037), (u'TAB_e1_NEIGHBOR_PHRASE_WORDS_[configuration]', 0.0025592278809300037), (u'TAB_e1_NEIGHBOR_PHRASE_WORDS_[5ma )]', 0.0025592278809300037), (u'TAB_e2_NEIGHBOR_PHRASE_WORDS_[also have]', 0.0025592278809300037), (u'TAB_e1_NEIGHBOR_PHRASE_WORDS_[parasitic]', 0.0025592278809300037), (u'TAB_e1_NEIGHBOR_PHRASE_WORDS_[resistance ratio]', 0.0025592278809300037), (u'TAB_e1_NEIGHBOR_PHRASE_WORDS_[pdf]', 0.0025592278809300037), (u'TAB_e1_NEIGHBOR_PHRASE_WORDS_[an inverter]', 0.0025592278809300037), (u'TAB_e2_NEIGHBOR_PHRASE_WORDS_[external input]', 0.0025592278809300037), (u'TAB_e1_ROW_WORDS_[3l]', 0.0025570154742643107), (u'TAB_e2_NEIGHBOR_PHRASE_WORDS_[mmbt3904 pzt3904]', 0.002443030238158323), (u'TAB_e1_NEIGHBOR_PHRASE_WORDS_[rating]', 0.0024363157941265133), (u'TAB_e1_NEIGHBOR_PHRASE_WORDS_[components]', 0.0024363157941265133), (u'TAB_e1_NEIGHBOR_PHRASE_WORDS_[note]', 0.0024363157941265133), (u'TAB_e1_NEIGHBOR_PHRASE_WORDS_[d]', 0.0024363157941265133), (u'TAB_e2_NEIGHBOR_PHRASE_WORDS_[brd8011/d]', 0.002388433003711276), (u'TAB_e2_NEIGHBOR_PHRASE_WORDS_[manual ,]', 0.002388433003711276), (u'TAB_e2_NEIGHBOR_PHRASE_WORDS_[assembly]', 0.002388433003711276), (u'TAB_e2_NEIGHBOR_PHRASE_WORDS_[bc182]', 0.002388433003711276), (u'TAB_e2_NEIGHBOR_PHRASE_WORDS_[note :]', 0.002388433003711276), (u'TAB_e2_NEIGHBOR_PHRASE_WORDS_[bc182/d]', 0.002388433003711276), (u'TAB_e2_NEIGHBOR_PHRASE_WORDS_[including part]', 0.002388433003711276), (u'TAB_e2_NEIGHBOR_PHRASE_WORDS_[above 25]', 0.002388433003711276), (u'TAB_e2_NEIGHBOR_PHRASE_WORDS_[off characteristics]', 0.002388433003711276), (u'TAB_e2_NEIGHBOR_PHRASE_WORDS_[= 10]', 0.002388433003711276), (u'TAB_e2_NEIGHBOR_PHRASE_WORDS_[solderrm/d]', 0.002388433003711276), (u'TAB_e2_NEIGHBOR_PHRASE_WORDS_[packaging specifications]', 0.002388433003711276), (u'TAB_e2_NEIGHBOR_PHRASE_WORDS_[a ,]', 0.002388433003711276), (u'TAB_e2_NEIGHBOR_PHRASE_WORDS_[download]', 0.002388433003711276), (u'TAB_e2_NEIGHBOR_PHRASE_WORDS_[additional]', 0.002388433003711276), (u'TAB_e2_NEIGHBOR_PHRASE_WORDS_[rev. 5]', 0.002388433003711276), (u'TAB_e2_NEIGHBOR_PHRASE_WORDS_[for additional]', 0.002388433003711276), (u'TAB_e2_NEIGHBOR_PHRASE_WORDS_[leakage current]', 0.002388433003711276), (u'TAB_e2_NEIGHBOR_PHRASE_WORDS_[= year]', 0.002388433003711276), (u'TAB_e2_NEIGHBOR_PHRASE_WORDS_[c/w]', 0.002388433003711276), (u'TAB_e2_NEIGHBOR_PHRASE_WORDS_[march ,]', 0.002388433003711276), (u'TAB_e2_NEIGHBOR_PHRASE_WORDS_[the on]', 0.002388433003711276), (u'TAB_e2_NEIGHBOR_PHRASE_WORDS_[pb-free )]', 0.002388433003711276), (u'TAB_e2_NEIGHBOR_PHRASE_WORDS_[on semiconductor]', 0.002388433003711276), (u'TAB_e2_NEIGHBOR_PHRASE_WORDS_[stress ratings]', 0.002388433003711276), (u'TAB_e2_NEIGHBOR_PHRASE_WORDS_[tape &]', 0.002388433003711276), (u'TAB_e2_NEIGHBOR_PHRASE_WORDS_[- base]', 0.002388433003711276), (u'TAB_e2_NEIGHBOR_PHRASE_WORDS_[lead tape]', 0.002388433003711276), (u'TAB_e2_NEIGHBOR_PHRASE_WORDS_[for information]', 0.002388433003711276), (u'TAB_e2_NEIGHBOR_PHRASE_WORDS_[- rev.]', 0.002388433003711276), (u'TAB_e2_NEIGHBOR_PHRASE_WORDS_[( note]', 0.002388433003711276), (u'TAB_e2_NEIGHBOR_PHRASE_WORDS_[industries ,]', 0.002388433003711276), (u'TAB_e2_NEIGHBOR_PHRASE_WORDS_[brochure ,]', 0.002388433003711276), (u'TAB_e2_NEIGHBOR_PHRASE_WORDS_[y =]', 0.002388433003711276), (u'TAB_e2_NEIGHBOR_PHRASE_WORDS_[8.0]', 0.002388433003711276), (u'TAB_e2_NEIGHBOR_PHRASE_WORDS_[and mounting]', 0.002388433003711276), (u'TAB_e2_NEIGHBOR_PHRASE_WORDS_[in either]', 0.002388433003711276), (u'TAB_e2_NEIGHBOR_PHRASE_WORDS_[w]', 0.002388433003711276), (u'TAB_e2_NEIGHBOR_PHRASE_WORDS_[publication]', 0.002388433003711276), (u'TAB_e2_NEIGHBOR_PHRASE_WORDS_[download the]', 0.002388433003711276), (u'TAB_e2_NEIGHBOR_PHRASE_WORDS_[manual]', 0.002388433003711276), (u'TAB_e2_NEIGHBOR_PHRASE_WORDS_[br )]', 0.002388433003711276), (u'TAB_e2_NEIGHBOR_PHRASE_WORDS_[jc]', 0.002388433003711276), (u'TAB_e2_NEIGHBOR_PHRASE_WORDS_[4.0]', 0.002388433003711276), (u'TAB_e2_NEIGHBOR_PHRASE_WORDS_[resistance ,]', 0.002388433003711276), (u'TAB_e2_NEIGHBOR_PHRASE_WORDS_[on tape]', 0.002388433003711276), (u'TAB_e2_NEIGHBOR_PHRASE_WORDS_[on characteristics]', 0.002388433003711276), (u'TAB_e2_NEIGHBOR_PHRASE_WORDS_[refer to]', 0.002388433003711276), (u'TAB_e2_NEIGHBOR_PHRASE_WORDS_[llc]', 0.002388433003711276), (u'TAB_e2_NEIGHBOR_PHRASE_WORDS_[may be]', 0.002388433003711276), (u'TAB_e2_NEIGHBOR_PHRASE_WORDS_[ratings only]', 0.002388433003711276), (u'TAB_e2_NEIGHBOR_PHRASE_WORDS_[http://onsemi.com]', 0.002388433003711276), (u'TAB_e2_NEIGHBOR_PHRASE_WORDS_[work]', 0.002388433003711276), (u'TAB_e2_NEIGHBOR_PHRASE_WORDS_[our]', 0.002388433003711276), (u'TAB_e2_NEIGHBOR_PHRASE_WORDS_[ayw]', 0.002388433003711276), (u'TAB_e2_NEIGHBOR_PHRASE_WORDS_[2.0]', 0.002388433003711276), (u'TAB_e2_NEIGHBOR_PHRASE_WORDS_[a =]', 0.002388433003711276), (u'TAB_e2_NEIGHBOR_PHRASE_WORDS_[junction-to-case]', 0.002388433003711276), (u'TAB_e2_NEIGHBOR_PHRASE_WORDS_[style 17]', 0.002388433003711276), (u'TAB_e2_NEIGHBOR_PHRASE_WORDS_[emitter voltage]', 0.002388433003711276), (u'TAB_e2_NEIGHBOR_PHRASE_WORDS_[orientation]', 0.002388433003711276), (u'TAB_e2_NEIGHBOR_PHRASE_WORDS_[specifications brochure]', 0.002388433003711276), (u'TAB_e2_NEIGHBOR_PHRASE_WORDS_[/ bulk]', 0.002388433003711276), (u'TAB_e2_NEIGHBOR_PHRASE_WORDS_[= assembly]', 0.002388433003711276), (u'TAB_e2_NEIGHBOR_PHRASE_WORDS_[our tape]', 0.002388433003711276), (u'TAB_e2_NEIGHBOR_PHRASE_WORDS_[bc]', 0.002388433003711276), (u'TAB_e2_NEIGHBOR_PHRASE_WORDS_[amplifier transistors]', 0.002388433003711276), (u'TAB_e2_NEIGHBOR_PHRASE_WORDS_[location )]', 0.002388433003711276), (u'TAB_e2_NEIGHBOR_PHRASE_WORDS_[shipping]', 0.002388433003711276), (u'TAB_e2_NEIGHBOR_PHRASE_WORDS_[pb-free strategy]', 0.002388433003711276), (u'TAB_e2_NEIGHBOR_PHRASE_WORDS_[0.2]', 0.002388433003711276), (u'TAB_e2_NEIGHBOR_PHRASE_WORDS_[diagram]', 0.002388433003711276), (u'TAB_e2_NEIGHBOR_PHRASE_WORDS_[are pb-free]', 0.002388433003711276), (u'TAB_e2_NEIGHBOR_PHRASE_WORDS_[4.0 v]', 0.002388433003711276), (u'TAB_e2_NEIGHBOR_PHRASE_WORDS_[2000 /]', 0.002388433003711276), (u'TAB_e2_NEIGHBOR_PHRASE_WORDS_[) ebo]', 0.002388433003711276), (u'TAB_e2_NEIGHBOR_PHRASE_WORDS_[reel specifications]', 0.002388433003711276), (u'TAB_e2_NEIGHBOR_PHRASE_WORDS_[leakage]', 0.002388433003711276), (u'TAB_e2_NEIGHBOR_PHRASE_WORDS_[derate above]', 0.002388433003711276), (u'TAB_e2_NEIGHBOR_PHRASE_WORDS_[specifications ,]', 0.002388433003711276), (u'TAB_e2_NEIGHBOR_PHRASE_WORDS_[please refer]', 0.002388433003711276), (u'TAB_e2_NEIGHBOR_PHRASE_WORDS_[mounting techniques]', 0.002388433003711276), (u'TAB_e2_NEIGHBOR_PHRASE_WORDS_[, bc182b]', 0.002388433003711276), (u'TAB_e2_NEIGHBOR_PHRASE_WORDS_[) ceo]', 0.002388433003711276), (u'TAB_e2_NEIGHBOR_PHRASE_WORDS_[refer]', 0.002388433003711276), (u'TAB_e2_NEIGHBOR_PHRASE_WORDS_[brd8011/d .]', 0.002388433003711276), (u'TAB_e2_NEIGHBOR_PHRASE_WORDS_[part orientation]', 0.002388433003711276), (u'TAB_e2_NEIGHBOR_PHRASE_WORDS_[29]', 0.002388433003711276), (u'TAB_e2_NEIGHBOR_PHRASE_WORDS_[, brd8011/d]', 0.002388433003711276), (u'TAB_e2_NEIGHBOR_PHRASE_WORDS_[style]', 0.002388433003711276), (u'TAB_e2_NEIGHBOR_PHRASE_WORDS_[mw /]', 0.002388433003711276), (u'TAB_e2_NEIGHBOR_PHRASE_WORDS_[order number]', 0.002388433003711276), (u'TAB_e2_NEIGHBOR_PHRASE_WORDS_[bent lead]', 0.002388433003711276), (u'TAB_e2_NEIGHBOR_PHRASE_WORDS_[= pb-free]', 0.002388433003711276), (u'TAB_e2_NEIGHBOR_PHRASE_WORDS_[2.0 ma]', 0.002388433003711276), (u'TAB_e2_NEIGHBOR_PHRASE_WORDS_[reference manual]', 0.002388433003711276), (u'TAB_e2_NEIGHBOR_PHRASE_WORDS_[on our]', 0.002388433003711276), (u'TAB_e2_NEIGHBOR_PHRASE_WORDS_[bent]', 0.002388433003711276), (u'TAB_e2_NEIGHBOR_PHRASE_WORDS_[bulk pack]', 0.002388433003711276), (u'TAB_e2_NEIGHBOR_PHRASE_WORDS_[collector -]', 0.002388433003711276), (u'TAB_e2_NEIGHBOR_PHRASE_WORDS_[2007 -]', 0.002388433003711276), (u'TAB_e2_NEIGHBOR_PHRASE_WORDS_[lead bulk]', 0.002388433003711276), (u'TAB_e2_NEIGHBOR_PHRASE_WORDS_[w =]', 0.002388433003711276), (u'TAB_e2_NEIGHBOR_PHRASE_WORDS_[be in]', 0.002388433003711276), (u'TAB_e2_NEIGHBOR_PHRASE_WORDS_[125]', 0.002388433003711276), (u'TAB_e2_NEIGHBOR_PHRASE_WORDS_[, junction-to-ambient]', 0.002388433003711276), (u'TAB_e2_NEIGHBOR_PHRASE_WORDS_[bc182g]', 0.002388433003711276), (u'TAB_e2_NEIGHBOR_PHRASE_WORDS_[collector cutoff]', 0.002388433003711276), (u'TAB_e2_NEIGHBOR_PHRASE_WORDS_[including]', 0.002388433003711276), (u'TAB_e2_NEIGHBOR_PHRASE_WORDS_[stress]', 0.002388433003711276), (u'TAB_e2_NEIGHBOR_PHRASE_WORDS_[emitter-base leakage]', 0.002388433003711276), (u'TAB_e2_NEIGHBOR_PHRASE_WORDS_[march]', 0.002388433003711276), (u'TAB_e2_NEIGHBOR_PHRASE_WORDS_[orientation and]', 0.002388433003711276), (u'TAB_e2_NEIGHBOR_PHRASE_WORDS_[reel packaging]', 0.002388433003711276), (u'TAB_e2_NEIGHBOR_PHRASE_WORDS_[please]', 0.002388433003711276), (u'TAB_e2_NEIGHBOR_PHRASE_WORDS_[madc]', 0.002388433003711276), (u'TAB_e2_NEIGHBOR_PHRASE_WORDS_[week]', 0.002388433003711276), (u'TAB_e2_NEIGHBOR_PHRASE_WORDS_[5000 units]', 0.002388433003711276), (u'TAB_e2_NEIGHBOR_PHRASE_WORDS_[, including]', 0.002388433003711276), (u'TAB_e2_NEIGHBOR_PHRASE_WORDS_[bc182brl1g]', 0.002388433003711276), (u'TAB_e2_NEIGHBOR_PHRASE_WORDS_[rev.]', 0.002388433003711276), (u'TAB_e2_NEIGHBOR_PHRASE_WORDS_[pb-free package]', 0.002388433003711276), (u'TAB_e2_NEIGHBOR_PHRASE_WORDS_[location]', 0.002388433003711276), (u'TAB_e2_NEIGHBOR_PHRASE_WORDS_[number :]', 0.002388433003711276), (u'TAB_e2_NEIGHBOR_PHRASE_WORDS_[y]', 0.002388433003711276), (u'TAB_e2_NEIGHBOR_PHRASE_WORDS_[( br]', 0.002388433003711276), (u'TAB_e2_NEIGHBOR_PHRASE_WORDS_[straight]', 0.002388433003711276), (u'TAB_e2_NEIGHBOR_PHRASE_WORDS_[2007]', 0.002388433003711276), (u'TAB_e2_NEIGHBOR_PHRASE_WORDS_[information on]', 0.002388433003711276), (u'TAB_e2_NEIGHBOR_PHRASE_WORDS_[specifications]', 0.002388433003711276), (u'TAB_e2_NEIGHBOR_PHRASE_WORDS_[pb-free devices]', 0.002388433003711276), (u'TAB_e2_NEIGHBOR_PHRASE_WORDS_[publication order]', 0.002388433003711276), (u'TAB_e2_NEIGHBOR_PHRASE_WORDS_[marking diagram]', 0.002388433003711276), (u'TAB_e2_NEIGHBOR_PHRASE_WORDS_[year]', 0.002388433003711276), (u'TAB_e2_NEIGHBOR_PHRASE_WORDS_[bc182 ,]', 0.002388433003711276), (u'TAB_e2_NEIGHBOR_PHRASE_WORDS_[= work]', 0.002388433003711276), (u'TAB_e2_NEIGHBOR_PHRASE_WORDS_[units /]', 0.002388433003711276), (u'TAB_e2_NEIGHBOR_PHRASE_WORDS_[1.0]', 0.002388433003711276), (u'TAB_e2_NEIGHBOR_PHRASE_WORDS_[either location]', 0.002388433003711276), (u'TAB_e2_NEIGHBOR_PHRASE_WORDS_[soldering details]', 0.002388433003711276), (u'TAB_e2_NEIGHBOR_PHRASE_WORDS_[breakdown voltage]', 0.002388433003711276), (u'TAB_e2_NEIGHBOR_PHRASE_WORDS_[assembly location]', 0.002388433003711276), (u'TAB_e2_NEIGHBOR_PHRASE_WORDS_[industries]', 0.002388433003711276), (u'TAB_e2_NEIGHBOR_PHRASE_WORDS_[, please]', 0.002388433003711276), (u'TAB_e2_NEIGHBOR_PHRASE_WORDS_[breakdown]', 0.002388433003711276), (u'TAB_e2_NEIGHBOR_PHRASE_WORDS_[bc182b]', 0.002388433003711276), (u'TAB_e2_NEIGHBOR_PHRASE_WORDS_[reel ammo]', 0.002388433003711276), (u'TAB_e2_NEIGHBOR_PHRASE_WORDS_[5000]', 0.002388433003711276), (u'TAB_e2_NEIGHBOR_PHRASE_WORDS_[llc ,]', 0.002388433003711276), (u'TAB_e2_NEIGHBOR_PHRASE_WORDS_[either]', 0.002388433003711276), (u'TAB_e2_NEIGHBOR_PHRASE_WORDS_[c derate]', 0.002388433003711276), (u'TAB_e2_NEIGHBOR_PHRASE_WORDS_[&]', 0.002388433003711276), (u'TAB_e2_NEIGHBOR_PHRASE_WORDS_[sizes]', 0.002388433003711276), (u'TAB_e2_NEIGHBOR_PHRASE_WORDS_[2.8]', 0.002388433003711276), (u'TAB_e2_NEIGHBOR_PHRASE_WORDS_[, llc]', 0.002388433003711276), (u'TAB_e2_NEIGHBOR_PHRASE_WORDS_[sizes ,]', 0.002388433003711276), (u'TAB_e2_NEIGHBOR_PHRASE_WORDS_[are stress]', 0.002388433003711276), (u'TAB_e2_NEIGHBOR_PHRASE_WORDS_[strategy]', 0.002388433003711276), (u'TAB_e2_NEIGHBOR_PHRASE_WORDS_[techniques]', 0.002388433003711276), (u'TAB_e2_NEIGHBOR_PHRASE_WORDS_[semiconductor components]', 0.002388433003711276), (u'TAB_e2_NEIGHBOR_PHRASE_WORDS_[= 2.0]', 0.002388433003711276), (u'TAB_e2_NEIGHBOR_PHRASE_WORDS_[techniques reference]', 0.002388433003711276), (u'TAB_e2_NEIGHBOR_PHRASE_WORDS_[350]', 0.002388433003711276), (u'TAB_e2_NEIGHBOR_PHRASE_WORDS_[= 50]', 0.002388433003711276), (u'TAB_e2_NEIGHBOR_PHRASE_WORDS_[emitter breakdown]', 0.002388433003711276), (u'TAB_e2_NEIGHBOR_PHRASE_WORDS_[brochure]', 0.002388433003711276), (u'TAB_e2_NEIGHBOR_PHRASE_WORDS_[and soldering]', 0.002388433003711276), (u'TAB_e2_NEIGHBOR_PHRASE_WORDS_[to +150]', 0.002388433003711276), (u'TAB_e2_NEIGHBOR_PHRASE_WORDS_[ammo pack]', 0.002388433003711276), (u'TAB_e2_NEIGHBOR_PHRASE_WORDS_[( pb-free]', 0.002388433003711276), (u'TAB_e2_NEIGHBOR_PHRASE_WORDS_[and tape]', 0.002388433003711276), (u'TAB_e2_NEIGHBOR_PHRASE_WORDS_[additional information]', 0.002388433003711276), (u'TAB_e2_NEIGHBOR_PHRASE_WORDS_[to-92 case]', 0.002388433003711276), (u'TAB_e2_NEIGHBOR_PHRASE_WORDS_[dissipation @]', 0.002388433003711276), (u'TAB_e2_NEIGHBOR_PHRASE_WORDS_[*]', 0.002388433003711276), (u'TAB_e2_NEIGHBOR_PHRASE_WORDS_[reference]', 0.002388433003711276), (u'TAB_e2_NEIGHBOR_PHRASE_WORDS_[details]', 0.002388433003711276), (u'TAB_e2_NEIGHBOR_PHRASE_WORDS_[* for]', 0.002388433003711276), (u'TAB_e2_NEIGHBOR_PHRASE_WORDS_[pb-free]', 0.002388433003711276), (u'TAB_e2_NEIGHBOR_PHRASE_WORDS_[derate]', 0.002388433003711276), (u'TAB_e2_NEIGHBOR_PHRASE_WORDS_[= 4.0]', 0.002388433003711276), (u'TAB_e2_NEIGHBOR_PHRASE_WORDS_[17]', 0.002388433003711276), (u'TAB_e2_NEIGHBOR_PHRASE_WORDS_[- emitter]', 0.002388433003711276), (u'TAB_e2_NEIGHBOR_PHRASE_WORDS_[characteristic]', 0.002388433003711276), (u'TAB_e2_NEIGHBOR_PHRASE_WORDS_[to our]', 0.002388433003711276), (u'TAB_e2_NEIGHBOR_PHRASE_WORDS_[only .]', 0.002388433003711276), (u'TAB_e2_NEIGHBOR_PHRASE_WORDS_[) cbo]', 0.002388433003711276), (u'TAB_e2_NEIGHBOR_PHRASE_WORDS_[& reel]', 0.002388433003711276), (u'TAB_e2_NEIGHBOR_PHRASE_WORDS_[emitter -]', 0.002388433003711276), (u'TAB_e2_NEIGHBOR_PHRASE_WORDS_[case 29]', 0.002388433003711276), (u'TAB_e2_NEIGHBOR_PHRASE_WORDS_[microdot may]', 0.002388433003711276), (u'TAB_e2_NEIGHBOR_PHRASE_WORDS_[devices *]', 0.002388433003711276), (u'TAB_e2_NEIGHBOR_PHRASE_WORDS_[ja]', 0.002388433003711276), (u'TAB_e2_NEIGHBOR_PHRASE_WORDS_[device dissipation]', 0.002388433003711276), (u'TAB_e2_NEIGHBOR_PHRASE_WORDS_[soldering and]', 0.002388433003711276), (u'TAB_e2_NEIGHBOR_PHRASE_WORDS_[182b]', 0.002388433003711276), (u'TAB_e2_NEIGHBOR_PHRASE_WORDS_[work week]', 0.002388433003711276), (u'TAB_e2_NEIGHBOR_PHRASE_WORDS_[components industries]', 0.002388433003711276), (u'TAB_e2_NEIGHBOR_PHRASE_WORDS_[br]', 0.002388433003711276), (u'TAB_e2_NEIGHBOR_PHRASE_WORDS_[emitter]', 0.002388433003711276), (u'TAB_e2_NEIGHBOR_PHRASE_WORDS_[base breakdown]', 0.002388433003711276), (u'TAB_e2_NEIGHBOR_PHRASE_WORDS_[, junction-to-case]', 0.002388433003711276), (u'TAB_e2_NEIGHBOR_PHRASE_WORDS_[straight lead]', 0.002388433003711276), (u'TAB_e2_NEIGHBOR_PHRASE_WORDS_[bc182bg]', 0.002388433003711276), (u'TAB_e2_NEIGHBOR_PHRASE_WORDS_[exceeding maximum]', 0.002388433003711276), (u'TAB_e2_NEIGHBOR_PHRASE_WORDS_[total]', 0.002388433003711276), (u'TAB_e2_NEIGHBOR_PHRASE_WORDS_[, 2007]', 0.002388433003711276), (u'TAB_e2_NEIGHBOR_PHRASE_WORDS_[devices]', 0.002388433003711276), (u'TAB_e2_NEIGHBOR_PHRASE_WORDS_[solderrm/d .]', 0.002388433003711276), (u'TAB_e2_NEIGHBOR_PHRASE_WORDS_[vdc]', 0.002388433003711276), (u'TAB_e2_NEIGHBOR_PHRASE_WORDS_[, solderrm/d]', 0.002388433003711276), (u'TAB_e2_NEIGHBOR_PHRASE_WORDS_[total device]', 0.002388433003711276), (u'TAB_e2_NEIGHBOR_PHRASE_WORDS_[base voltage]', 0.002388433003711276), (u'TAB_e2_NEIGHBOR_PHRASE_WORDS_[: microdot]', 0.002388433003711276), (u'TAB_e2_NEIGHBOR_PHRASE_WORDS_[junction-to-ambient]', 0.002388433003711276), (u'TAB_e2_NEIGHBOR_PHRASE_WORDS_[our pb-free]', 0.002388433003711276), (u'TAB_e2_NEIGHBOR_PHRASE_WORDS_[15]', 0.002388433003711276), (u'TAB_e2_NEIGHBOR_PHRASE_WORDS_[357]', 0.002388433003711276), (u'TAB_e2_NEIGHBOR_PHRASE_WORDS_[microdot]', 0.002388433003711276), (u'TAB_e2_NEIGHBOR_PHRASE_WORDS_[/ tape]', 0.002388433003711276), (u'TAB_e2_NEIGHBOR_PHRASE_WORDS_[please download]', 0.002388433003711276), (u'TAB_e2_NEIGHBOR_PHRASE_WORDS_[collector 1]', 0.002388433003711276), (u'TAB_e2_NEIGHBOR_PHRASE_WORDS_[tape sizes]', 0.002388433003711276), (u'TAB_e2_NEIGHBOR_PHRASE_WORDS_[mw mw]', 0.002388433003711276), (u'TAB_e2_NEIGHBOR_PHRASE_WORDS_[order]', 0.002388433003711276), (u'TAB_e2_NEIGHBOR_PHRASE_WORDS_[details ,]', 0.002388433003711276), (u'TAB_e2_NEIGHBOR_PHRASE_WORDS_[strategy and]', 0.002388433003711276), (u'TAB_e2_NEIGHBOR_PHRASE_WORDS_[semiconductor soldering]', 0.002388433003711276), (u'TAB_e1_ROW_WORDS_[to-92 3l]', 0.002260195005846157), (u'TAB_e1_ROW_WORDS_[2000]', 0.0022136854454181247), (u'TAB_e1_NEIGHBOR_PHRASE_WORDS_[mounting]', 0.0021998149300635284), (u'TAB_e1_NEIGHBOR_PHRASE_WORDS_[, v]', 0.0021998149300635284), (u'TAB_e1_NEIGHBOR_PHRASE_WORDS_[noted )]', 0.0021998149300635284), (u'TAB_e1_NEIGHBOR_PHRASE_WORDS_[@ t]', 0.0021998149300635284), (u'TAB_e2_NEIGHBOR_PHRASE_WORDS_[50]', 0.0021262099072653848), (u'TAB_e2_NEIGHBOR_PHRASE_WORDS_[= 100]', 0.0021262099072653848), (u'TAB_e2_NEIGHBOR_PHRASE_WORDS_[resistance]', 0.0021262099072653848), (u'TAB_e1_NEIGHBOR_PHRASE_WORDS_[value]', -0.0020919405336640474), (u'TAB_e1_NEIGHBOR_PHRASE_WORDS_[amplifier]', -0.0020919405336640474), (u'TAB_e1_COL_WORDS_[noise figure]', -0.002091903636891979), (u'TAB_e1_COL_WORDS_[figure]', -0.002091903636891979), (u'TAB_e1_NEIGHBOR_PHRASE_WORDS_[and]', -0.00194759314849824), (u'TDL_INV_SEQ-BETWEEN[LEN:0-4]', -0.0019324310081211583), (u'TAB_e1_CONTAINS_WORDS_[BC857]', -0.001916146612712252), (u'TAB_e1_CONTAINS_WORDS_[BC858]', -0.0019148519765593624), (u'TAB_e1_NEIGHBOR_PHRASE_WORDS_[of]', 0.001900852261463482), (u'TAB_e1_NEIGHBOR_PHRASE_WORDS_[40]', 0.001900852261463482), (u'TAB_e1_NEIGHBOR_PHRASE_WORDS_[-55]', 0.001773944155676657), (u'TAB_e1_NEIGHBOR_PHRASE_WORDS_[parameter]', -0.0017325275827976463), (u'TAB_e1_NEIGHBOR_PHRASE_WORDS_[absolute maximum]', -0.0017325275827976463), (u'TAB_e1_NEIGHBOR_PHRASE_WORDS_[150]', -0.0017325275827976463), (u'TAB_e1_NEIGHBOR_PHRASE_WORDS_[absolute]', -0.0017325275827976463), (u'TAB_e1_LEFT_WORDS_[noise]', -0.0017320555890717613), (u'TDL_INV_DEP_LABEL|LEMMA:BETWEEN-MENTION-and-MENTION[ROOT|bc817k]', -0.0017295920332868135), (u'TDL_INV_LEMMA:BETWEEN-MENTION-and-MENTION[bc817k]', -0.0017295920332868135), (u'TAB_e1_NEIGHBOR_PHRASE_WORDS_[junction]', -0.001711092284435329), (u'TAB_e1_NEIGHBOR_PHRASE_WORDS_[b]', -0.001711092284435329), (u'TAB_e1_NEIGHBOR_PHRASE_WORDS_[e]', -0.001711092284435329), (u'TAB_e1_NEIGHBOR_PHRASE_WORDS_[j]', -0.001711092284435329), (u'TAB_e1_NEIGHBOR_PHRASE_WORDS_[junction temperature]', -0.001711092284435329), (u'TAB_e1_NEIGHBOR_PHRASE_WORDS_[storage]', -0.001711092284435329), (u'TAB_e2_NEIGHBOR_PHRASE_WORDS_[be]', -0.0016795092803532764), (u'TAB_e2_NEIGHBOR_PHRASE_WORDS_[maximum ratings]', -0.0016795092803532764), (u'TAB_e2_NEIGHBOR_PHRASE_WORDS_[on]', -0.0016795092803532764), (u'TAB_e2_NEIGHBOR_PHRASE_WORDS_[:]', -0.0016795092803532764), (u'TAB_e2_NEIGHBOR_PHRASE_WORDS_[symbol]', -0.0016795092803532764), (u'VIZ_e1_ALIGNED_collector', -0.0016692348190153522), (u'VIZ_e1_ALIGNED_current', -0.0016692348190153522), (u'TAB_e1_COL_WORDS_[bc859/860]', -0.0016692348190153522), (u'TAB_e1_COL_WORDS_[: bc859/860]', -0.0016692348190153522), (u'TAB_e1_NEIGHBOR_PHRASE_WORDS_[mhz]', -0.0015881801976319167), (u'TAB_e2_NEIGHBOR_PHRASE_WORDS_[2 )]', 0.0015350481067589075), (u'TAB_e1_NEIGHBOR_PHRASE_WORDS_[limits]', 0.0015000239572783315), (u'TAB_e1_NEIGHBOR_PHRASE_WORDS_[1 )]', 0.0015000239572783315), (u'TAB_e1_NEIGHBOR_PHRASE_WORDS_[method]', 0.0015000239572783315), (u'TAB_e1_NEIGHBOR_PHRASE_WORDS_[at]', 0.0015000239572783315), (u'TAB_e1_NEIGHBOR_PHRASE_WORDS_[( 2]', 0.0015000239572783315), (u'TAB_e1_NEIGHBOR_PHRASE_WORDS_[( 1]', 0.0015000239572783315), (u'TAB_e1_NEIGHBOR_PHRASE_WORDS_[mark]', 0.0015000239572783315), (u'TAB_e1_CONTAINS_WORDS_[BC859]', -0.0014895065445488247), (u'TAB_e1_NEIGHBOR_PHRASE_WORDS_[thermal characteristics]', 0.001377111870474705), (u'TAB_e1_NEIGHBOR_PHRASE_WORDS_[exceeding]', 0.001377111870474705), (u'TAB_e1_NEIGHBOR_PHRASE_WORDS_[range]', 0.001377111870474705), (u'TAB_e1_NEIGHBOR_PHRASE_WORDS_[these]', 0.001377111870474705), (u'TAB_e1_NEIGHBOR_PHRASE_WORDS_[device .]', 0.001377111870474705), (u'TAB_e1_NEIGHBOR_PHRASE_WORDS_[temperature range]', 0.001377111870474705), (u'TAB_e1_NEIGHBOR_PHRASE_WORDS_[operating and]', 0.001377111870474705), (u'TAB_e1_NEIGHBOR_PHRASE_WORDS_[above]', 0.001377111870474705), (u'TAB_e1_NEIGHBOR_PHRASE_WORDS_[tape]', 0.001377111870474705), (u'TAB_e1_NEIGHBOR_PHRASE_WORDS_[storage junction]', 0.001377111870474705), (u'TAB_e1_NEIGHBOR_PHRASE_WORDS_[ratings may]', 0.001377111870474705), (u'TAB_e1_NEIGHBOR_PHRASE_WORDS_[damage the]', 0.001377111870474705), (u'TAB_e1_NEIGHBOR_PHRASE_WORDS_[stresses]', 0.001377111870474705), (u'TAB_e1_NEIGHBOR_PHRASE_WORDS_[the device]', 0.001377111870474705), (u'TAB_e1_NEIGHBOR_PHRASE_WORDS_[pack]', 0.001377111870474705), (u'TAB_e1_NEIGHBOR_PHRASE_WORDS_[and storage]', 0.001377111870474705), (u'TAB_e1_NEIGHBOR_PHRASE_WORDS_[package]', 0.001377111870474705), (u'TAB_e1_NEIGHBOR_PHRASE_WORDS_[stresses exceeding]', 0.001377111870474705), (u'TAB_e1_NEIGHBOR_PHRASE_WORDS_[ratings are]', 0.001377111870474705), (u'TAB_e1_NEIGHBOR_PHRASE_WORDS_[are]', 0.001377111870474705), (u'TAB_e1_NEIGHBOR_PHRASE_WORDS_[continuous]', 0.001377111870474705), (u'TAB_e1_NEIGHBOR_PHRASE_WORDS_[tape and]', 0.001377111870474705), (u'TAB_e1_NEIGHBOR_PHRASE_WORDS_[-55 to]', 0.001377111870474705), (u'TAB_e1_NEIGHBOR_PHRASE_WORDS_[and reel]', 0.001377111870474705), (u'TAB_e1_NEIGHBOR_PHRASE_WORDS_[these are]', 0.001377111870474705), (u'TAB_e1_NEIGHBOR_PHRASE_WORDS_[- continuous]', 0.001377111870474705), (u'TAB_e1_NEIGHBOR_PHRASE_WORDS_[may damage]', 0.001377111870474705), (u'TAB_e1_NEIGHBOR_PHRASE_WORDS_[6.0]', 0.001377111870474705), (u'TAB_e1_NEIGHBOR_PHRASE_WORDS_[damage]', 0.001377111870474705), (u'TAB_e1_NEIGHBOR_PHRASE_WORDS_[60]', 0.001377111870474705), (u'TAB_e1_NEIGHBOR_PHRASE_WORDS_[reel]', 0.001377111870474705), (u'TAB_e1_NEIGHBOR_PHRASE_WORDS_[to-92]', 0.001377111870474705), (u'TAB_e1_NEIGHBOR_PHRASE_WORDS_[bulk]', 0.001377111870474705), (u'TAB_e1_NEIGHBOR_PHRASE_WORDS_[operating]', 0.001377111870474705), (u'TAB_e1_NEIGHBOR_PHRASE_WORDS_[2000]', 0.001377111870474705), (u'TAB_e1_NEIGHBOR_PHRASE_WORDS_[ammo]', 0.001377111870474705), (u'TAB_e1_NEIGHBOR_PHRASE_WORDS_[may]', 0.001377111870474705), (u'TAB_e1_NEIGHBOR_PHRASE_WORDS_[part]', 0.001377111870474705), (u'TAB_e1_NEIGHBOR_PHRASE_WORDS_[number]', 0.001377111870474705), (u'TAB_e1_NEIGHBOR_PHRASE_WORDS_[) .]', 0.001360298283918417), (u'TAB_e1_ROW_WORDS_[2]', -0.0013237275054888626), (u'TAB_e1_ROW_WORDS_[v ,]', -0.0013122626609578857), (u'TAB_e1_ROW_WORDS_[= -200]', -0.0013122626609578857), (u'TAB_e1_ROW_WORDS_[i]', -0.0013122626609578857), (u'TAB_e1_ROW_HEAD_WORDS_[, i]', -0.0013122626609578857), (u'TAB_e1_ROW_HEAD_WORDS_[a]', -0.0013122626609578857), (u'TAB_e1_ROW_HEAD_WORDS_[c]', -0.0013122626609578857), (u'TAB_e1_ROW_WORDS_[-200]', -0.0013122626609578857), (u'TAB_e1_ROW_WORDS_[c]', -0.0013122626609578857), (u'TAB_e1_ROW_HEAD_WORDS_[-5 v]', -0.0013122626609578857), (u'TAB_e1_ROW_WORDS_[-5]', -0.0013122626609578857), (u'TAB_e1_ROW_HEAD_WORDS_[ce]', -0.0013122626609578857), (u'TAB_e1_ROW_WORDS_[, i]', -0.0013122626609578857), (u'TAB_e1_ROW_HEAD_WORDS_[v ,]', -0.0013122626609578857), (u'TAB_e1_ROW_WORDS_[ce]', -0.0013122626609578857), (u'TAB_e1_ROW_HEAD_WORDS_[= -5]', -0.0013122626609578857), (u'TAB_e1_ROW_HEAD_WORDS_[= -200]', -0.0013122626609578857), (u'TAB_e1_ROW_WORDS_[-5 v]', -0.0013122626609578857), (u'TAB_e1_ROW_HEAD_WORDS_[i]', -0.0013122626609578857), (u'TAB_e1_ROW_WORDS_[= -5]', -0.0013122626609578857), (u'TAB_e1_ROW_WORDS_[a]', -0.0013122626609578857), (u'TAB_e1_ROW_HEAD_WORDS_[-200]', -0.0013122626609578857), (u'TAB_e1_ROW_HEAD_WORDS_[-5]', -0.0013122626609578857), (u'TAB_e1_NEIGHBOR_PHRASE_WORDS_[units]', -0.0012692374740750916), (u'TAB_e1_CONTAINS_WORDS_[BC860]', -0.001247397601923058), (u'TAB_e1_CONTAINS_WORDS_[BC856]', -0.0012175532146962602), (u'VIZ_e1_PAGE_[2]', -0.0012080239796784652), (u'TAB_e1_ROW_WORDS_[voltage]', -0.0011391646616638806), (u'TAB_e1_ROW_WORDS_[collector-emitter]', -0.0011391646616638806), (u'TAB_e1_ROW_HEAD_WORDS_[ceo]', -0.0011391646616638806), (u'TAB_e1_ROW_WORDS_[-45]', -0.0011391646616638806), (u'TAB_e1_CELL_WORDS_[collector-emitter voltage]', -0.0011391646616638806), (u'TAB_e1_CELL_WORDS_[collector-emitter]', -0.0011391646616638806), (u'TAB_e1_ROW_WORDS_[-65]', -0.0011391646616638806), (u'TAB_e1_ROW_WORDS_[collector-emitter voltage]', -0.0011391646616638806), (u'TAB_e1_ROW_WORDS_[ceo]', -0.0011391646616638806), (u'TAB_e1_CELL_WORDS_[voltage]', -0.0011391646616638806), (u'TAB_e1_ROW_WORDS_[v v]', -0.0011391646616638806), (u'TAB_e1_ROW_WORDS_[reel]', 0.0011254029025010786), (u'TAB_e1_ROW_WORDS_[tape]', 0.0011254029025010786), (u'TAB_e1_COL_WORDS_[figure :]', -0.0010999535892390095), (u'TAB_e1_RIGHT_WORDS_[859/860]', -0.0010216762976074756), (u'VIZ_e1_ALIGNED_LEFT_voltage', -0.0009667553474314852), (u'VIZ_e1_ALIGNED_gain', -0.0009667553474314852), (u'VIZ_e1_ALIGNED_CENTER_voltage', -0.0009667553474314852), (u'VIZ_e1_ALIGNED_bandwidth', -0.0009667553474314852), (u'VIZ_e1_ALIGNED_dc', -0.0009667553474314852), (u'VIZ_e1_ALIGNED_LEFT_product', -0.0009667553474314852), (u'VIZ_e1_ALIGNED_LEFT_output', -0.0009667553474314852), (u'VIZ_e1_ALIGNED_output', -0.0009667553474314852), (u'VIZ_e1_ALIGNED_Y_nf', -0.0009667553474314852), (u'VIZ_e1_ALIGNED_LEFT_dc', -0.0009667553474314852), (u'VIZ_e1_ALIGNED_product', -0.0009667553474314852), (u'VIZ_e1_ALIGNED_LEFT_bandwidth', -0.0009667553474314852), (u'TAB_e1_ROW_INFERRED_WORDS_[noise]', -0.0009667553474314852), (u'VIZ_e1_ALIGNED_LEFT_saturation', -0.0009667553474314852), (u'VIZ_e1_ALIGNED_LEFT_capacitance', -0.0009667553474314852), (u'TAB_e1_COL_INFERRED_WORDS_[noise]', -0.0009667553474314852), (u'VIZ_e1_ALIGNED_capacitance', -0.0009667553474314852), (u'VIZ_e1_ALIGNED_voltage', -0.0009667553474314852), (u'VIZ_e1_ALIGNED_LEFT_current', -0.0009667553474314852), (u'VIZ_e1_ALIGNED_LEFT_collector', -0.0009667553474314852), (u'TAB_e1_ROW_WORDS_[10]', -0.0009667553474314852), (u'VIZ_e1_ALIGNED_saturation', -0.0009667553474314852), (u'VIZ_e1_ALIGNED_nf', -0.0009667553474314852), (u'TAB_e1_CELL_WORDS_[noise]', -0.0009667553474314852), (u'VIZ_e1_ALIGNED_on', -0.0009667553474314852), (u'VIZ_e1_ALIGNED_LEFT_on', -0.0009667553474314852), (u'VIZ_e1_ALIGNED_LEFT_gain', -0.0009667553474314852), (u'TAB_e1_ROW_WORDS_[noise]', -0.0009667553474314852), (u'TAB_e1_ROW_NUM_[9]', -0.0009667553474314852), (u'TAB_e1_ROW_NUM_[0]', -0.0009328090152499808), (u'TAB_e1_COL_WORDS_[v]', -0.0009328090152499808), (u'TAB_e1_COL_HEAD_WORDS_[v]', -0.0009328090152499808), (u'TDL_INV_LEMMA:LEFT-OF-MENTION[/]', -0.0009313679840753668), (u'TAB_e1_NEIGHBOR_PHRASE_WORDS_[thin-film]', -0.0009098245232087087), (u'TAB_e1_NEIGHBOR_PHRASE_WORDS_[100mhz]', -0.0009098245232087087), (u'TAB_e1_NEIGHBOR_PHRASE_WORDS_[output]', -0.0009098245232087087), (u'TAB_e1_NEIGHBOR_PHRASE_WORDS_[on )]', -0.0009098245232087087), (u'TAB_e1_NEIGHBOR_PHRASE_WORDS_[g]', -0.0009098245232087087), (u'TAB_e1_NEIGHBOR_PHRASE_WORDS_[( on]', -0.0009098245232087087), (u'TAB_e1_NEIGHBOR_PHRASE_WORDS_[= 100mhz]', -0.0009098245232087087), (u'TAB_e1_NEIGHBOR_PHRASE_WORDS_[max]', -0.0008883892248464105), (u'TAB_e1_NEIGHBOR_PHRASE_WORDS_[0]', -0.0008883892248464105), (u'TAB_e1_NEIGHBOR_PHRASE_WORDS_[min]', -0.0008883892248464105), (u'TAB_e1_NEIGHBOR_PHRASE_WORDS_[v ,]', -0.0008883892248464105), (u'TAB_e1_NEIGHBOR_PHRASE_WORDS_[dissipation]', -0.0008883892248464105), (u'TAB_e1_NEIGHBOR_PHRASE_WORDS_[r]', -0.0008883892248464105), (u'TAB_e1_NEIGHBOR_PHRASE_WORDS_[dc]', -0.0008883892248464105), (u'TAB_e1_NEIGHBOR_PHRASE_WORDS_[10]', -0.0008883892248464105), (u'TAB_e1_NEIGHBOR_PHRASE_WORDS_[mw]', -0.0008883892248464105), (u'TAB_e1_NEIGHBOR_PHRASE_WORDS_[typ]', -0.0008883892248464105), (u'TAB_e1_NEIGHBOR_PHRASE_WORDS_[gain]', -0.0008883892248464105), (u'TAB_e1_NEIGHBOR_PHRASE_WORDS_[3]', -0.0008883892248464105), (u'TAB_e1_NEIGHBOR_PHRASE_WORDS_[current gain]', -0.0008883892248464105), (u'TAB_e2_NEIGHBOR_PHRASE_WORDS_[weight]', -0.0007884616300840981), (u'TAB_e2_NEIGHBOR_PHRASE_WORDS_[plastic]', -0.0007884616300840981), (u'TAB_e1_ROW_WORDS_[bc856]', -0.0007870014562681016), (u'TAB_e1_ROW_WORDS_[: bc856]', -0.0007870014562681016), (u'TAB_e1_CELL_WORDS_[: bc856]', -0.0007870014562681016), (u'TAB_e1_CELL_WORDS_[bc856]', -0.0007870014562681016), (u'TAB_e1_NEIGHBOR_PHRASE_WORDS_[transition frequency]', 0.0007764847371543741), (u'TAB_e1_NEIGHBOR_PHRASE_WORDS_[250]', 0.0007764847371543741), (u'TAB_e1_NEIGHBOR_PHRASE_WORDS_[with]', 0.0007764847371543741), (u'TAB_e1_NEIGHBOR_PHRASE_WORDS_[frequency]', 0.0007764847371543741), (u'TAB_e1_NEIGHBOR_PHRASE_WORDS_[transition]', 0.0007764847371543741), (u'TDL_INV_LEMMA:SEQ-BETWEEN[=]', -0.0006888062713636886), (u'TAB_e2_LEFT_WORDS_[-]', 0.0006718819242219596), (u'TAB_e2_LEFT_WORDS_[mmbt3904]', 0.0006718819242219596), (u'TAB_e2_LEFT_WORDS_[pzt3904]', 0.0006718819242219596), (u'TAB_e2_LEFT_WORDS_[pzt3904 -]', 0.0006718819242219596), (u'TAB_e2_LEFT_WORDS_[2n3904]', 0.0006718819242219596), (u'TDL_INV_LEMMA:SEQ-BETWEEN[/]', -0.0006441277161606973), (u'VIZ_HORZ_ALIGNED', 0.0006200356382090866), (u'TAB_e1_NEIGHBOR_PHRASE_WORDS_[bc182/d]', 0.0006117824757260408), (u'TAB_e2_NEIGHBOR_PHRASE_WORDS_[0.1]', -0.0005519607660210426), (u'TAB_e2_NEIGHBOR_PHRASE_WORDS_[mm]', -0.0005519607660210426), (u'TAB_e2_NEIGHBOR_PHRASE_WORDS_[ca]', -0.0005519607660210426), (u'TAB_e2_NEIGHBOR_PHRASE_WORDS_[dimensions]', -0.0005519607660210426), (u'TAB_e2_NEIGHBOR_PHRASE_WORDS_[70]', -0.0005519607660210426), (u'TAB_e2_NEIGHBOR_PHRASE_WORDS_[available]', -0.0005519607660210426), (u'TDL_INV_SEQ-BETWEEN[LEN:8-13]', -0.0005506645427283746), (u'TDL_INV_LEMMA:SEQ-BETWEEN[= 6a or]', -0.0005492795875079541), (u'TDL_INV_LEMMA:SEQ-BETWEEN[6a]', -0.0005492795875079541), (u'TDL_INV_LEMMA:SEQ-BETWEEN[= 6a]', -0.0005492795875079541), (u'TDL_INV_LEMMA:SEQ-BETWEEN[6a or 6cr]', -0.0005492795875079541), (u'TDL_INV_LEMMA:SEQ-BETWEEN[6a or]', -0.0005492795875079541), (u'TDL_INV_LEMMA:SEQ-BETWEEN[6e]', -0.0005491038925247553), (u'TDL_INV_LEMMA:SEQ-BETWEEN[= 6e]', -0.0005491038925247553), (u'TDL_INV_LEMMA:SEQ-BETWEEN[6e or]', -0.0005491038925247553), (u'TDL_INV_LEMMA:SEQ-BETWEEN[6e or 6cr]', -0.0005491038925247553), (u'TDL_INV_LEMMA:SEQ-BETWEEN[= 6e or]', -0.0005491038925247553), (u'TAB_e1_CONTAINS_WORDS_[2N3904]', 0.0005289714998426724), (u'TAB_e1_COL_WORDS_[3904]', 0.0005096474590448539), (u'TAB_e1_COL_HEAD_WORDS_[marking]', 0.0005096474590448539), (u'TAB_e1_COL_WORDS_[1a]', 0.0005096474590448539), (u'TAB_e1_COL_WORDS_[2n3904]', 0.0005096474590448539), (u'TAB_e1_COL_WORDS_[marking]', 0.0005096474590448539), (u'TAB_e1_COL_HEAD_WORDS_[part number]', 0.0004677099020843361), (u'TAB_e1_COL_WORDS_[number]', 0.0004677099020843361), (u'TAB_e1_COL_WORDS_[part]', 0.0004677099020843361), (u'TAB_e1_COL_HEAD_WORDS_[number]', 0.0004677099020843361), (u'TAB_e1_COL_WORDS_[part number]', 0.0004677099020843361), (u'TAB_e1_COL_HEAD_WORDS_[part]', 0.0004677099020843361), (u'TDL_INV_SEQ-BETWEEN[LEN:5-7]', 0.00042282079977182393), (u'TDL_INV_LEMMA:BETWEEN-MENTION-and-MENTION[bc818k-25]', 0.0004186525638964183), (u'TDL_INV_DEP_LABEL|LEMMA:BETWEEN-MENTION-and-MENTION[compound|bc818k-25]', 0.0004186525638964183), (u'TDL_INV_LEMMA:BETWEEN-MENTION-and-MENTION[bc817k-25]', 0.00041856444917802834), (u'TDL_INV_DEP_LABEL|LEMMA:BETWEEN-MENTION-and-MENTION[compound|bc817k-25]', 0.00041856444917802834), (u'TAB_e1_NEIGHBOR_PHRASE_WORDS_[upon request]', 0.00039836445562172894), (u'TAB_e1_NEIGHBOR_PHRASE_WORDS_[h j]', 0.00039836445562172894), (u'TAB_e2_NEIGHBOR_PHRASE_WORDS_[information )]', 0.00039836445562172894), (u'TAB_e2_NEIGHBOR_PHRASE_WORDS_[digital transistors]', 0.00039836445562172894), (u'TAB_e2_NEIGHBOR_PHRASE_WORDS_[making]', 0.00039836445562172894), (u'TAB_e1_NEIGHBOR_PHRASE_WORDS_[- hf]', 0.00039836445562172894), (u'TAB_e1_NEIGHBOR_PHRASE_WORDS_[phone :]', 0.00039836445562172894), (u'TAB_e2_NEIGHBOR_PHRASE_WORDS_[5ma/0]', 0.00039836445562172894), (u\"TAB_e1_NEIGHBOR_PHRASE_WORDS_[hf '']\", 0.00039836445562172894), (u'TAB_e1_NEIGHBOR_PHRASE_WORDS_[hf]', 0.00039836445562172894), (u'TAB_e2_NEIGHBOR_PHRASE_WORDS_[`` p]', 0.00039836445562172894), (u'TAB_e2_NEIGHBOR_PHRASE_WORDS_[tm]', 0.00039836445562172894), (u'TAB_e2_NEIGHBOR_PHRASE_WORDS_[: -lrb-818-rrb-\\xa0701-4939]', 0.00039836445562172894), (u'TAB_e1_NEIGHBOR_PHRASE_WORDS_[commercial components]', 0.00039836445562172894), (u'TAB_e2_NEIGHBOR_PHRASE_WORDS_[91311]', 0.00039836445562172894), (u'TAB_e2_NEIGHBOR_PHRASE_WORDS_[suffix]', 0.00039836445562172894), (u'TAB_e1_NEIGHBOR_PHRASE_WORDS_[upon]', 0.00039836445562172894), (u'TAB_e2_NEIGHBOR_PHRASE_WORDS_[dtc114ye]', 0.00039836445562172894), (u'TAB_e1_NEIGHBOR_PHRASE_WORDS_[= 5ma/0]', 0.00039836445562172894), (u'TAB_e1_NEIGHBOR_PHRASE_WORDS_[compliant .]', 0.00039836445562172894), (u'TAB_e2_NEIGHBOR_PHRASE_WORDS_[available upon]', 0.00039836445562172894), (u'TAB_e2_NEIGHBOR_PHRASE_WORDS_[4.7]', 0.00039836445562172894), (u'TAB_e2_NEIGHBOR_PHRASE_WORDS_[94]', 0.00039836445562172894), (u'TAB_e2_NEIGHBOR_PHRASE_WORDS_[inches]', 0.00039836445562172894), (u'TAB_e1_NEIGHBOR_PHRASE_WORDS_[20736]', 0.00039836445562172894), (u'TAB_e2_NEIGHBOR_PHRASE_WORDS_[= 1ma]', 0.00039836445562172894), (u'TAB_e2_NEIGHBOR_PHRASE_WORDS_[moisure]', 0.00039836445562172894), (u'TAB_e2_NEIGHBOR_PHRASE_WORDS_[see ordering]', 0.00039836445562172894), (u'TAB_e2_NEIGHBOR_PHRASE_WORDS_[marilla street]', 0.00039836445562172894), (u'TAB_e1_NEIGHBOR_PHRASE_WORDS_[with complete]', 0.00039836445562172894), (u'TAB_e1_NEIGHBOR_PHRASE_WORDS_[.067]', 0.00039836445562172894), (u'TAB_e2_NEIGHBOR_PHRASE_WORDS_[m c]', 0.00039836445562172894), (u'TAB_e1_NEIGHBOR_PHRASE_WORDS_[micro]', 0.00039836445562172894), (u'TAB_e1_NEIGHBOR_PHRASE_WORDS_[marilla street]', 0.00039836445562172894), (u'TAB_e2_NEIGHBOR_PHRASE_WORDS_[sensitivity]', 0.00039836445562172894), (u\"TAB_e1_NEIGHBOR_PHRASE_WORDS_['']\", 0.00039836445562172894), (u'TAB_e2_NEIGHBOR_PHRASE_WORDS_[flammability rating]', 0.00039836445562172894), (u'TAB_e1_NEIGHBOR_PHRASE_WORDS_[phone]', 0.00039836445562172894), (u'TAB_e2_NEIGHBOR_PHRASE_WORDS_[commercial]', 0.00039836445562172894), (u'TAB_e2_NEIGHBOR_PHRASE_WORDS_[v-0 flammability]', 0.00039836445562172894), (u'TAB_e2_NEIGHBOR_PHRASE_WORDS_[compliant .]', 0.00039836445562172894), (u'TAB_e2_NEIGHBOR_PHRASE_WORDS_[- hf]', 0.00039836445562172894), (u\"TAB_e2_NEIGHBOR_PHRASE_WORDS_['' suffix]\", 0.00039836445562172894), (u'TAB_e2_NEIGHBOR_PHRASE_WORDS_[h j]', 0.00039836445562172894), (u'TAB_e2_NEIGHBOR_PHRASE_WORDS_[eliminating]', 0.00039836445562172894), (u'TAB_e2_NEIGHBOR_PHRASE_WORDS_[adding suffix]', 0.00039836445562172894), (u'TAB_e1_NEIGHBOR_PHRASE_WORDS_[complete isolation]', 0.00039836445562172894), (u'TAB_e2_NEIGHBOR_PHRASE_WORDS_[operation ,]', 0.00039836445562172894), (u'TAB_e2_NEIGHBOR_PHRASE_WORDS_[@ 25]', 0.00039836445562172894), (u'TAB_e2_NEIGHBOR_PHRASE_WORDS_[.25]', 0.00039836445562172894), (u'TAB_e1_NEIGHBOR_PHRASE_WORDS_[chatsworth ca]', 0.00039836445562172894), (u\"TAB_e2_NEIGHBOR_PHRASE_WORDS_[suffix '']\", 0.00039836445562172894), (u'TAB_e1_NEIGHBOR_PHRASE_WORDS_[v-0 flammability]', 0.00039836445562172894), (u'TAB_e1_NEIGHBOR_PHRASE_WORDS_[adding suffix]', 0.00039836445562172894), (u'TAB_e2_NEIGHBOR_PHRASE_WORDS_[adding]', 0.00039836445562172894), (u'TAB_e2_NEIGHBOR_PHRASE_WORDS_[halogen]', 0.00039836445562172894), (u'TAB_e2_NEIGHBOR_PHRASE_WORDS_[hf]', 0.00039836445562172894), (u'TAB_e2_NEIGHBOR_PHRASE_WORDS_[g h]', 0.00039836445562172894), (u'TAB_e1_NEIGHBOR_PHRASE_WORDS_[lead free]', 0.00039836445562172894), (u'TAB_e1_NEIGHBOR_PHRASE_WORDS_[-6]', 0.00039836445562172894), (u'TAB_e2_NEIGHBOR_PHRASE_WORDS_[sot-523 )]', 0.00039836445562172894), (u\"TAB_e2_NEIGHBOR_PHRASE_WORDS_['' -]\", 0.00039836445562172894), (u'TAB_e2_NEIGHBOR_PHRASE_WORDS_[complete]', 0.00039836445562172894), (u'TAB_e2_NEIGHBOR_PHRASE_WORDS_[rohs]', 0.00039836445562172894), (u'TAB_e1_NEIGHBOR_PHRASE_WORDS_[kq]', 0.00039836445562172894), (u'TAB_e1_NEIGHBOR_PHRASE_WORDS_[request by]', 0.00039836445562172894), (u'TAB_e1_NEIGHBOR_PHRASE_WORDS_[/ i]', 0.00039836445562172894), (u'TAB_e1_NEIGHBOR_PHRASE_WORDS_[marilla]', 0.00039836445562172894), (u'TAB_e2_NEIGHBOR_PHRASE_WORDS_[street chatsworth]', 0.00039836445562172894), (u'TAB_e2_NEIGHBOR_PHRASE_WORDS_[request]', 0.00039836445562172894), (u'TAB_e2_NEIGHBOR_PHRASE_WORDS_[, making]', 0.00039836445562172894), (u'TAB_e1_NEIGHBOR_PHRASE_WORDS_[g h]', 0.00039836445562172894), (u'TAB_e1_NEIGHBOR_PHRASE_WORDS_[halogen]', 0.00039836445562172894), (u'TAB_e1_NEIGHBOR_PHRASE_WORDS_[`` p]', 0.00039836445562172894), (u'TAB_e2_NEIGHBOR_PHRASE_WORDS_[/ i]', 0.00039836445562172894), (u'TAB_e1_NEIGHBOR_PHRASE_WORDS_[operation ,]', 0.00039836445562172894), (u'TAB_e2_NEIGHBOR_PHRASE_WORDS_[micro commercial]', 0.00039836445562172894), (u'TAB_e2_NEIGHBOR_PHRASE_WORDS_[= 5ma/0]', 0.00039836445562172894), (u'TAB_e1_NEIGHBOR_PHRASE_WORDS_[commercial]', 0.00039836445562172894), (u\"TAB_e1_NEIGHBOR_PHRASE_WORDS_['' -]\", 0.00039836445562172894), (u'TAB_e2_NEIGHBOR_PHRASE_WORDS_[68]', 0.00039836445562172894), (u'TAB_e1_NEIGHBOR_PHRASE_WORDS_[20736 marilla]', 0.00039836445562172894), (u'TAB_e2_NEIGHBOR_PHRASE_WORDS_[commercial components]', 0.00039836445562172894), (u'TAB_e1_NEIGHBOR_PHRASE_WORDS_[m]', 0.00039836445562172894), (u'TAB_e1_NEIGHBOR_PHRASE_WORDS_[3 .]', 0.00039836445562172894), (u'TAB_e1_NEIGHBOR_PHRASE_WORDS_[finish/rohs]', 0.00039836445562172894), (u'TAB_e2_NEIGHBOR_PHRASE_WORDS_[ul 94]', 0.00039836445562172894), (u'TAB_e1_NEIGHBOR_PHRASE_WORDS_[sensitivity]', 0.00039836445562172894), (u'TAB_e2_NEIGHBOR_PHRASE_WORDS_[complete isolation]', 0.00039836445562172894), (u'TAB_e2_NEIGHBOR_PHRASE_WORDS_[finish/rohs compliant]', 0.00039836445562172894), (u'TAB_e2_NEIGHBOR_PHRASE_WORDS_[sot-523]', 0.00039836445562172894), (u'TAB_e2_NEIGHBOR_PHRASE_WORDS_[by]', 0.00039836445562172894), (u'TAB_e1_NEIGHBOR_PHRASE_WORDS_[1ma )]', 0.00039836445562172894), (u\"TAB_e2_NEIGHBOR_PHRASE_WORDS_[p '']\", 0.00039836445562172894), (u'TAB_e2_NEIGHBOR_PHRASE_WORDS_[designates]', 0.00039836445562172894), (u'TAB_e2_NEIGHBOR_PHRASE_WORDS_[with complete]', 0.00039836445562172894), (u'TAB_e2_NEIGHBOR_PHRASE_WORDS_[rohs compliant]', 0.00039836445562172894), (u'TAB_e2_NEIGHBOR_PHRASE_WORDS_[phone :]', 0.00039836445562172894), (u'TAB_e2_NEIGHBOR_PHRASE_WORDS_[finish/rohs]', 0.00039836445562172894), (u'TAB_e1_NEIGHBOR_PHRASE_WORDS_[dim]', 0.00039836445562172894), (u'TAB_e1_NEIGHBOR_PHRASE_WORDS_[91311]', 0.00039836445562172894), (u\"TAB_e1_NEIGHBOR_PHRASE_WORDS_[p '']\", 0.00039836445562172894), (u'TAB_e1_NEIGHBOR_PHRASE_WORDS_[tm]', 0.00039836445562172894), (u'TAB_e1_NEIGHBOR_PHRASE_WORDS_[94]', 0.00039836445562172894), (u'TAB_e2_NEIGHBOR_PHRASE_WORDS_[( ``]', 0.00039836445562172894), (u'TAB_e2_NEIGHBOR_PHRASE_WORDS_[eliminating parasitic]', 0.00039836445562172894), (u'TAB_e2_NEIGHBOR_PHRASE_WORDS_[-6]', 0.00039836445562172894), (u'TAB_e2_NEIGHBOR_PHRASE_WORDS_[fax :]', 0.00039836445562172894), (u'TAB_e2_NEIGHBOR_PHRASE_WORDS_[upon request]', 0.00039836445562172894), (u'TAB_e1_NEIGHBOR_PHRASE_WORDS_[eliminating]', 0.00039836445562172894), (u'TAB_e2_NEIGHBOR_PHRASE_WORDS_[free available]', 0.00039836445562172894), (u'TAB_e2_NEIGHBOR_PHRASE_WORDS_[dim]', 0.00039836445562172894), (u'TAB_e1_NEIGHBOR_PHRASE_WORDS_[94 v-0]', 0.00039836445562172894), (u'TAB_e2_NEIGHBOR_PHRASE_WORDS_[request by]', 0.00039836445562172894), (u'TAB_e2_NEIGHBOR_PHRASE_WORDS_[level 1]', 0.00039836445562172894), (u'TAB_e1_NEIGHBOR_PHRASE_WORDS_[fax :]', 0.00039836445562172894), (u'TAB_e1_NEIGHBOR_PHRASE_WORDS_[ratings @]', 0.00039836445562172894), (u'TAB_e1_NEIGHBOR_PHRASE_WORDS_[flammability rating]', 0.00039836445562172894), (u'TAB_e1_NEIGHBOR_PHRASE_WORDS_[characteristics @]', 0.00039836445562172894), (u\"TAB_e2_NEIGHBOR_PHRASE_WORDS_['']\", 0.00039836445562172894), (u'TAB_e1_NEIGHBOR_PHRASE_WORDS_[see ordering]', 0.00039836445562172894), (u'TAB_e1_NEIGHBOR_PHRASE_WORDS_[( ``]', 0.00039836445562172894), (u'TAB_e1_NEIGHBOR_PHRASE_WORDS_[eliminating parasitic]', 0.00039836445562172894), (u'TAB_e2_NEIGHBOR_PHRASE_WORDS_[phone]', 0.00039836445562172894), (u'TAB_e1_NEIGHBOR_PHRASE_WORDS_[request]', 0.00039836445562172894), (u'TAB_e2_NEIGHBOR_PHRASE_WORDS_[marilla]', 0.00039836445562172894), (u'TAB_e2_NEIGHBOR_PHRASE_WORDS_[chatsworth]', 0.00039836445562172894), (u'TAB_e2_NEIGHBOR_PHRASE_WORDS_[epoxy meets]', 0.00039836445562172894), (u'TAB_e1_NEIGHBOR_PHRASE_WORDS_[5ma/0 .25]', 0.00039836445562172894), (u'TAB_e1_NEIGHBOR_PHRASE_WORDS_[5.7]', 0.00039836445562172894), (u'TAB_e2_NEIGHBOR_PHRASE_WORDS_[3.7]', 0.00039836445562172894), (u'TAB_e1_NEIGHBOR_PHRASE_WORDS_[chatsworth]', 0.00039836445562172894), (u'TAB_e2_NEIGHBOR_PHRASE_WORDS_[5ma/0 .25]', 0.00039836445562172894), (u'TAB_e2_NEIGHBOR_PHRASE_WORDS_[5.7]', 0.00039836445562172894), (u'TAB_e2_NEIGHBOR_PHRASE_WORDS_[upon]', 0.00039836445562172894), (u\"TAB_e1_NEIGHBOR_PHRASE_WORDS_['' suffix]\", 0.00039836445562172894), (u'TAB_e2_NEIGHBOR_PHRASE_WORDS_[-lrb-818-rrb-\\xa0701-4933]', 0.00039836445562172894), (u'TAB_e1_NEIGHBOR_PHRASE_WORDS_[m c]', 0.00039836445562172894), (u'TAB_e1_NEIGHBOR_PHRASE_WORDS_[suffix]', 0.00039836445562172894), (u'TAB_e1_NEIGHBOR_PHRASE_WORDS_[moisure]', 0.00039836445562172894), (u'TAB_e1_NEIGHBOR_PHRASE_WORDS_[: -lrb-818-rrb-\\xa0701-4933]', 0.00039836445562172894), (u'TAB_e1_NEIGHBOR_PHRASE_WORDS_[.25 ma]', 0.00039836445562172894), (u'TAB_e1_NEIGHBOR_PHRASE_WORDS_[level]', 0.00039836445562172894), (u'TAB_e2_NEIGHBOR_PHRASE_WORDS_[free finish/rohs]', 0.00039836445562172894), (u'TAB_e2_NEIGHBOR_PHRASE_WORDS_[dtc114ye (]', 0.00039836445562172894), (u'TAB_e1_NEIGHBOR_PHRASE_WORDS_[micro commercial]', 0.00039836445562172894), (u'TAB_e1_NEIGHBOR_PHRASE_WORDS_[5ma/0]', 0.00039836445562172894), (u'TAB_e1_NEIGHBOR_PHRASE_WORDS_[v-0]', 0.00039836445562172894), (u'TAB_e2_NEIGHBOR_PHRASE_WORDS_[flammability]', 0.00039836445562172894), (u'TAB_e2_NEIGHBOR_PHRASE_WORDS_[meets ul]', 0.00039836445562172894), (u'TAB_e1_NEIGHBOR_PHRASE_WORDS_[meets ul]', 0.00039836445562172894), (u'TAB_e2_NEIGHBOR_PHRASE_WORDS_[digital]', 0.00039836445562172894), (u'TAB_e1_NEIGHBOR_PHRASE_WORDS_[by]', 0.00039836445562172894), (u'TAB_e2_NEIGHBOR_PHRASE_WORDS_[compliant]', 0.00039836445562172894), (u'TAB_e1_NEIGHBOR_PHRASE_WORDS_[finish/rohs compliant]', 0.00039836445562172894), (u'TAB_e1_NEIGHBOR_PHRASE_WORDS_[@ 25]', 0.00039836445562172894), (u'TAB_e1_NEIGHBOR_PHRASE_WORDS_[free finish/rohs]', 0.00039836445562172894), (u'TAB_e1_NEIGHBOR_PHRASE_WORDS_[adding]', 0.00039836445562172894), (u'TAB_e2_NEIGHBOR_PHRASE_WORDS_[20736 marilla]', 0.00039836445562172894), (u'TAB_e2_NEIGHBOR_PHRASE_WORDS_[chatsworth ca]', 0.00039836445562172894), (u\"TAB_e2_NEIGHBOR_PHRASE_WORDS_[hf '']\", 0.00039836445562172894), (u'TAB_e1_NEIGHBOR_PHRASE_WORDS_[.25]', 0.00039836445562172894), (u'TAB_e1_NEIGHBOR_PHRASE_WORDS_[1ma]', 0.00039836445562172894), (u'TAB_e1_NEIGHBOR_PHRASE_WORDS_[street]', 0.00039836445562172894), (u'TAB_e1_NEIGHBOR_PHRASE_WORDS_[7.0]', 0.00039836445562172894), (u'TAB_e1_NEIGHBOR_PHRASE_WORDS_[-lrb-818-rrb-\\xa0701-4939]', 0.00039836445562172894), (u'TAB_e1_NEIGHBOR_PHRASE_WORDS_[moisure sensitivity]', 0.00039836445562172894), (u'TAB_e1_NEIGHBOR_PHRASE_WORDS_[making]', 0.00039836445562172894), (u'TAB_e1_NEIGHBOR_PHRASE_WORDS_[level 1]', 0.00039836445562172894), (u'TAB_e1_NEIGHBOR_PHRASE_WORDS_[epoxy meets]', 0.00039836445562172894), (u'TAB_e2_NEIGHBOR_PHRASE_WORDS_[1.4]', 0.00039836445562172894), (u'TAB_e1_NEIGHBOR_PHRASE_WORDS_[street chatsworth]', 0.00039836445562172894), (u'TAB_e2_NEIGHBOR_PHRASE_WORDS_[lead free]', 0.00039836445562172894), (u'TAB_e1_NEIGHBOR_PHRASE_WORDS_[.059]', 0.00039836445562172894), (u'TAB_e2_NEIGHBOR_PHRASE_WORDS_[ca 91311]', 0.00039836445562172894), (u'TAB_e1_NEIGHBOR_PHRASE_WORDS_[4.7]', 0.00039836445562172894), (u'TAB_e1_NEIGHBOR_PHRASE_WORDS_[, making]', 0.00039836445562172894), (u'TAB_e1_NEIGHBOR_PHRASE_WORDS_[sot-523]', 0.00039836445562172894), (u'TAB_e2_NEIGHBOR_PHRASE_WORDS_[20736]', 0.00039836445562172894), (u'TAB_e2_NEIGHBOR_PHRASE_WORDS_[c c]', 0.00039836445562172894), (u'TAB_e1_NEIGHBOR_PHRASE_WORDS_[compliant (]', 0.00039836445562172894), (u'TAB_e1_NEIGHBOR_PHRASE_WORDS_[completely eliminating]', 0.00039836445562172894), (u'TAB_e2_NEIGHBOR_PHRASE_WORDS_[suffix designates]', 0.00039836445562172894), (u'TAB_e2_NEIGHBOR_PHRASE_WORDS_[fax]', 0.00039836445562172894), (u\"TAB_e1_NEIGHBOR_PHRASE_WORDS_[suffix '']\", 0.00039836445562172894), (u'TAB_e1_NEIGHBOR_PHRASE_WORDS_[dtc114ye]', 0.00039836445562172894), (u'TAB_e2_NEIGHBOR_PHRASE_WORDS_[characteristics @]', 0.00039836445562172894), (u'TAB_e2_NEIGHBOR_PHRASE_WORDS_[making device]', 0.00039836445562172894), (u'TAB_e1_NEIGHBOR_PHRASE_WORDS_[suffix designates]', 0.00039836445562172894), (u'TAB_e2_NEIGHBOR_PHRASE_WORDS_[1ma]', 0.00039836445562172894), (u'TAB_e1_NEIGHBOR_PHRASE_WORDS_[designates]', 0.00039836445562172894), (u'TAB_e2_NEIGHBOR_PHRASE_WORDS_[micro]', 0.00039836445562172894), (u'TAB_e2_NEIGHBOR_PHRASE_WORDS_[94 v-0]', 0.00039836445562172894), (u'TAB_e2_NEIGHBOR_PHRASE_WORDS_[.059]', 0.00039836445562172894), (u'TAB_e1_NEIGHBOR_PHRASE_WORDS_[rohs compliant]', 0.00039836445562172894), (u'TAB_e2_NEIGHBOR_PHRASE_WORDS_[free]', 0.00039836445562172894), (u'TAB_e1_NEIGHBOR_PHRASE_WORDS_[compliant]', 0.00039836445562172894), (u'TAB_e1_NEIGHBOR_PHRASE_WORDS_[68]', 0.00039836445562172894), (u'TAB_e2_NEIGHBOR_PHRASE_WORDS_[kq]', 0.00039836445562172894), (u'TAB_e2_NEIGHBOR_PHRASE_WORDS_[compliant (]', 0.00039836445562172894), (u'TAB_e1_NEIGHBOR_PHRASE_WORDS_[ul 94]', 0.00039836445562172894), (u'TAB_e2_NEIGHBOR_PHRASE_WORDS_[``]', 0.00039836445562172894), (u'TAB_e1_NEIGHBOR_PHRASE_WORDS_[information )]', 0.00039836445562172894), (u'TAB_e1_NEIGHBOR_PHRASE_WORDS_[--]', 0.00039836445562172894), (u'TAB_e2_NEIGHBOR_PHRASE_WORDS_[1ma )]', 0.00039836445562172894), (u'TAB_e1_NEIGHBOR_PHRASE_WORDS_[components 20736]', 0.00039836445562172894), (u'TAB_e1_NEIGHBOR_PHRASE_WORDS_[``]', 0.00039836445562172894), (u'TAB_e2_NEIGHBOR_PHRASE_WORDS_[--]', 0.00039836445562172894), (u'TAB_e1_NEIGHBOR_PHRASE_WORDS_[complete]', 0.00039836445562172894), (u'TAB_e2_NEIGHBOR_PHRASE_WORDS_[components 20736]', 0.00039836445562172894), (u'TAB_e2_NEIGHBOR_PHRASE_WORDS_[by adding]', 0.00039836445562172894), (u'TAB_e1_NEIGHBOR_PHRASE_WORDS_[: -lrb-818-rrb-\\xa0701-4939]', 0.00039836445562172894), (u'TAB_e1_NEIGHBOR_PHRASE_WORDS_[sensitivity level]', 0.00039836445562172894), (u'TAB_e2_NEIGHBOR_PHRASE_WORDS_[v-0]', 0.00039836445562172894), (u'TAB_e1_NEIGHBOR_PHRASE_WORDS_[available upon]', 0.00039836445562172894), (u'TAB_e1_NEIGHBOR_PHRASE_WORDS_[rohs]', 0.00039836445562172894), (u'TAB_e2_NEIGHBOR_PHRASE_WORDS_[ratings @]', 0.00039836445562172894), (u'TAB_e2_NEIGHBOR_PHRASE_WORDS_[moisure sensitivity]', 0.00039836445562172894), (u'TAB_e1_NEIGHBOR_PHRASE_WORDS_[fax]', 0.00039836445562172894), (u'TAB_e1_NEIGHBOR_PHRASE_WORDS_[flammability]', 0.00039836445562172894), (u'TAB_e1_NEIGHBOR_PHRASE_WORDS_[inches]', 0.00039836445562172894), (u'TAB_e2_NEIGHBOR_PHRASE_WORDS_[halogen free]', 0.00039836445562172894), (u'TAB_e1_NEIGHBOR_PHRASE_WORDS_[c c]', 0.00039836445562172894), (u'TAB_e1_NEIGHBOR_PHRASE_WORDS_[3.7]', 0.00039836445562172894), (u'TAB_e2_NEIGHBOR_PHRASE_WORDS_[sensitivity level]', 0.00039836445562172894), (u'TAB_e2_NEIGHBOR_PHRASE_WORDS_[( sot-523]', 0.00039836445562172894), (u'TAB_e1_NEIGHBOR_PHRASE_WORDS_[digital transistors]', 0.00039836445562172894), (u'TAB_e1_NEIGHBOR_PHRASE_WORDS_[-lrb-818-rrb-\\xa0701-4933]', 0.00039836445562172894), (u'TAB_e2_NEIGHBOR_PHRASE_WORDS_[level]', 0.00039836445562172894), (u'TAB_e2_NEIGHBOR_PHRASE_WORDS_[completely eliminating]', 0.00039836445562172894), (u'TAB_e2_NEIGHBOR_PHRASE_WORDS_[7.0]', 0.00039836445562172894), (u'TAB_e1_CONTAINS_WORDS_[DTC114YE]', 0.00039836445562172894), (u'TAB_e2_NEIGHBOR_PHRASE_WORDS_[.25 ma]', 0.00039836445562172894), (u'TAB_e1_NEIGHBOR_PHRASE_WORDS_[ca 91311]', 0.00039836445562172894), (u'TAB_e1_NEIGHBOR_PHRASE_WORDS_[free available]', 0.00039836445562172894), (u'TAB_e1_NEIGHBOR_PHRASE_WORDS_[1.4]', 0.00039836445562172894), (u'TAB_e1_NEIGHBOR_PHRASE_WORDS_[meets]', 0.00039836445562172894), (u'TAB_e2_NEIGHBOR_PHRASE_WORDS_[-lrb-818-rrb-\\xa0701-4939]', 0.00039836445562172894), (u'TAB_e1_NEIGHBOR_PHRASE_WORDS_[making device]', 0.00039836445562172894), (u'TAB_e2_NEIGHBOR_PHRASE_WORDS_[.067]', 0.00039836445562172894), (u'TAB_e1_NEIGHBOR_PHRASE_WORDS_[free]', 0.00039836445562172894), (u'TAB_e2_NEIGHBOR_PHRASE_WORDS_[3 .]', 0.00039836445562172894), (u'TAB_e2_NEIGHBOR_PHRASE_WORDS_[meets]', 0.00039836445562172894), (u'TAB_e1_NEIGHBOR_PHRASE_WORDS_[= 1ma]', 0.00039836445562172894), (u'TAB_e2_NEIGHBOR_PHRASE_WORDS_[street]', 0.00039836445562172894), (u'TAB_e2_NEIGHBOR_PHRASE_WORDS_[m]', 0.00039836445562172894), (u'TAB_e1_NEIGHBOR_PHRASE_WORDS_[halogen free]', 0.00039836445562172894), (u'TAB_e2_NEIGHBOR_PHRASE_WORDS_[: -lrb-818-rrb-\\xa0701-4933]', 0.00039836445562172894), (u'TAB_e1_NEIGHBOR_PHRASE_WORDS_[by adding]', 0.00039836445562172894), (u'TAB_e1_ROW_WORDS_[bulk]', 0.0003969912256345471), (u'TDL_LEMMA:SEQ-BETWEEN[/]', 0.0003624232417241176), (u'TDL_LEMMA:SEQ-BETWEEN[=]', 0.00035484445946062774), (u'TDL_INV_DEP_LABEL:BETWEEN-MENTION-and-MENTION[ROOT compound]', 0.00035468551709733575), (u'TAB_e1_ROW_WORDS_[pb-free )]', 0.000350481665206419), (u'TAB_e1_ROW_WORDS_[(]', 0.000350481665206419), (u'TAB_e1_ROW_WORDS_[)]', 0.000350481665206419), (u'TAB_e1_ROW_WORDS_[/]', 0.000350481665206419), (u'TAB_e1_ROW_HEAD_WORDS_[(]', 0.000350481665206419), (u'TAB_e1_COL_HEAD_WORDS_[device]', 0.000350481665206419), (u'TAB_e1_ROW_HEAD_WORDS_[pb-free]', 0.000350481665206419), (u'TAB_e1_ROW_HEAD_WORDS_[)]', 0.000350481665206419), (u'TAB_e1_ROW_WORDS_[pb-free]', 0.000350481665206419), (u'TAB_e1_COL_WORDS_[device]', 0.000350481665206419), (u'TAB_e1_ROW_HEAD_WORDS_[to-92]', 0.000350481665206419), (u'TAB_e1_ROW_HEAD_WORDS_[( pb-free]', 0.000350481665206419), (u'TAB_e1_ROW_HEAD_WORDS_[pb-free )]', 0.000350481665206419), (u'TAB_e1_ROW_WORDS_[( pb-free]', 0.000350481665206419), (u'TAB_e1_ROW_WORDS_[tape and]', 0.0003467742741805629), (u'TAB_e1_ROW_WORDS_[and]', 0.0003467742741805629), (u'TAB_e1_ROW_WORDS_[and reel]', 0.0003467742741805629), (u'TAB_e1_NEIGHBOR_PHRASE_WORDS_[case]', 0.0003291555883376472), (u'TAB_e1_ROW_NUM_[5]', -0.000316158442978515), (u'TAB_e1_RIGHT_WORDS_[.]', 0.00027768741891019043), (u'VIZ_e1_ALIGNED_number', 0.00017088943366612173), (u'VIZ_e1_ALIGNED_part', 0.00017088943366612173), (u'TAB_e1_COL_WORDS_[mmbt3904]', 0.00017088943366612173), (u'VIZ_e1_ALIGNED_CENTER_number', 0.00017088943366612173), (u'VIZ_e1_ALIGNED_CENTER_part', 0.00017088943366612173), (u'TAB_e1_NEIGHBOR_PHRASE_WORDS_[2.20]', 0.00016186359155866907), (u'TAB_e1_NEIGHBOR_PHRASE_WORDS_[retardant]', 0.00016186359155866907), (u'TAB_e2_NEIGHBOR_PHRASE_WORDS_[0.15 )]', 0.00016186359155866907), (u'TAB_e1_NEIGHBOR_PHRASE_WORDS_[( 0.40]', 0.00016186359155866907), (u'TAB_e1_NEIGHBOR_PHRASE_WORDS_[minating]', 0.00016186359155866907), (u'TAB_e2_NEIGHBOR_PHRASE_WORDS_[0.15]', 0.00016186359155866907), (u'TAB_e1_NEIGHBOR_PHRASE_WORDS_[( 1.20]', 0.00016186359155866907), (u'TAB_e1_NEIGHBOR_PHRASE_WORDS_[0.045 (]', 0.00016186359155866907), (u'TAB_e2_NEIGHBOR_PHRASE_WORDS_[dtc114eca-1]', 0.00016186359155866907), (u'TAB_e2_NEIGHBOR_PHRASE_WORDS_[0.096 (]', 0.00016186359155866907), (u'TAB_e2_NEIGHBOR_PHRASE_WORDS_[ref]', 0.00016186359155866907), (u'TAB_e2_NEIGHBOR_PHRASE_WORDS_[( 3]', 0.00016186359155866907), (u'TAB_e1_NEIGHBOR_PHRASE_WORDS_[0.045]', 0.00016186359155866907), (u'TAB_e2_NEIGHBOR_PHRASE_WORDS_[0.008 (]', 0.00016186359155866907), (u'TAB_e2_NEIGHBOR_PHRASE_WORDS_[0.055 (]', 0.00016186359155866907), (u'TAB_e1_NEIGHBOR_PHRASE_WORDS_[( 2.45]', 0.00016186359155866907), (u'TAB_e2_NEIGHBOR_PHRASE_WORDS_[208c]', 0.00016186359155866907), (u'TAB_e2_LEFT_WORDS_[(]', 0.00016186359155866907), (u'TAB_e2_NEIGHBOR_PHRASE_WORDS_[0.53]', 0.00016186359155866907), (u'TAB_e2_NEIGHBOR_PHRASE_WORDS_[operation mark]', 0.00016186359155866907), (u'TAB_e2_NEIGHBOR_PHRASE_WORDS_[0.021]', 0.00016186359155866907), (u'TAB_e1_NEIGHBOR_PHRASE_WORDS_[: mil-std-202e]', 0.00016186359155866907), (u'TAB_e1_NEIGHBOR_PHRASE_WORDS_[0.087 (]', 0.00016186359155866907), (u'TAB_e1_NEIGHBOR_PHRASE_WORDS_[0.085]', 0.00016186359155866907), (u'TAB_e2_NEIGHBOR_PHRASE_WORDS_[( 1.10]', 0.00016186359155866907), (u'TAB_e1_NEIGHBOR_PHRASE_WORDS_[0.003 (]', 0.00016186359155866907), (u'TAB_e2_NEIGHBOR_PHRASE_WORDS_[- minating]', 0.00016186359155866907), (u'TAB_e2_NEIGHBOR_PHRASE_WORDS_[specified .]', 0.00016186359155866907), (u'TAB_e1_NEIGHBOR_PHRASE_WORDS_[otherwise specified]', 0.00016186359155866907), (u'TAB_e1_NEIGHBOR_PHRASE_WORDS_[2.45 )]', 0.00016186359155866907), (u'TAB_e1_NEIGHBOR_PHRASE_WORDS_[0.10]', 0.00016186359155866907), (u'TAB_e2_NEIGHBOR_PHRASE_WORDS_[ratings at]', 0.00016186359155866907), (u'TAB_e2_NEIGHBOR_PHRASE_WORDS_[( 0.40]', 0.00016186359155866907), (u'TAB_e1_NEIGHBOR_PHRASE_WORDS_[equi -]', 0.00016186359155866907), (u'TAB_e1_NEIGHBOR_PHRASE_WORDS_[transistors (]', 0.00016186359155866907), (u'TAB_e1_NEIGHBOR_PHRASE_WORDS_[0.053]', 0.00016186359155866907), (u'TAB_e1_NEIGHBOR_PHRASE_WORDS_[: 0.006]', 0.00016186359155866907), (u'TAB_e1_NEIGHBOR_PHRASE_WORDS_[specified .]', 0.00016186359155866907), (u'TAB_e2_NEIGHBOR_PHRASE_WORDS_[eli]', 0.00016186359155866907), (u'TAB_e1_NEIGHBOR_PHRASE_WORDS_[resistors .]', 0.00016186359155866907), (u'TAB_e2_NEIGHBOR_PHRASE_WORDS_[0.016 (]', 0.00016186359155866907), (u'TAB_e2_NEIGHBOR_PHRASE_WORDS_[circuit )]', 0.00016186359155866907), (u'TAB_e1_NEIGHBOR_PHRASE_WORDS_[25 c]', 0.00016186359155866907), (u'TAB_e2_NEIGHBOR_PHRASE_WORDS_[1.35]', 0.00016186359155866907), (u'TAB_e2_NEIGHBOR_PHRASE_WORDS_[0.006 gram]', 0.00016186359155866907), (u'TAB_e2_NEIGHBOR_PHRASE_WORDS_[flame retardant]', 0.00016186359155866907), (u'TAB_e1_NEIGHBOR_PHRASE_WORDS_[0.000]', 0.00016186359155866907), (u'TAB_e2_NEIGHBOR_PHRASE_WORDS_[1.10]', 0.00016186359155866907), (u'TAB_e2_LEFT_WORDS_[sot-323]', 0.00016186359155866907), (u'TAB_e1_NEIGHBOR_PHRASE_WORDS_[10ma]', 0.00016186359155866907), (u'TAB_e1_NEIGHBOR_PHRASE_WORDS_[( 0.08]', 0.00016186359155866907), (u'TAB_e1_NEIGHBOR_PHRASE_WORDS_[weight :]', 0.00016186359155866907), (u'TAB_e2_NEIGHBOR_PHRASE_WORDS_[ing device]', 0.00016186359155866907), (u'TAB_e2_NEIGHBOR_PHRASE_WORDS_[0.000 (]', 0.00016186359155866907), (u'TAB_e2_NEIGHBOR_PHRASE_WORDS_[mechanical data]', 0.00016186359155866907), (u'TAB_e1_NEIGHBOR_PHRASE_WORDS_[mplete]', 0.00016186359155866907), (u'TAB_e2_NEIGHBOR_PHRASE_WORDS_[0.000]', 0.00016186359155866907), (u'TAB_e1_NEIGHBOR_PHRASE_WORDS_[0.021 (]', 0.00016186359155866907), (u'TAB_e1_NEIGHBOR_PHRASE_WORDS_[sot-323 digital]', 0.00016186359155866907), (u'TAB_e2_NEIGHBOR_PHRASE_WORDS_[pd]', 0.00016186359155866907), (u'TAB_e2_LEFT_WORDS_[digital transistor]', 0.00016186359155866907), (u'TAB_e2_NEIGHBOR_PHRASE_WORDS_[molded plastic]', 0.00016186359155866907), (u'TAB_e2_NEIGHBOR_PHRASE_WORDS_[sot-323]', 0.00016186359155866907), (u'TAB_e2_NEIGHBOR_PHRASE_WORDS_[= 10ma]', 0.00016186359155866907), (u'TAB_e1_NEIGHBOR_PHRASE_WORDS_[0.00 )]', 0.00016186359155866907), (u'TAB_e2_NEIGHBOR_PHRASE_WORDS_[2.00 )]', 0.00016186359155866907), (u'TAB_e1_NEIGHBOR_PHRASE_WORDS_[( 1.35]', 0.00016186359155866907), (u'TAB_e2_NEIGHBOR_PHRASE_WORDS_[0.004 (]', 0.00016186359155866907), (u'TAB_e1_NEIGHBOR_PHRASE_WORDS_[208c]', 0.00016186359155866907), (u'TAB_e1_NEIGHBOR_PHRASE_WORDS_[- ing]', 0.00016186359155866907), (u'TAB_e2_NEIGHBOR_PHRASE_WORDS_[mplete]', 0.00016186359155866907), (u'TAB_e1_NEIGHBOR_PHRASE_WORDS_[output voltage]', 0.00016186359155866907), (u'TAB_e1_NEIGHBOR_PHRASE_WORDS_[0.087]', 0.00016186359155866907), (u'TAB_e2_LEFT_WORDS_[digital]', 0.00016186359155866907), (u'TAB_e1_NEIGHBOR_PHRASE_WORDS_[sot-323]', 0.00016186359155866907), (u'TAB_e2_NEIGHBOR_PHRASE_WORDS_[0.055]', 0.00016186359155866907), (u'TAB_e1_NEIGHBOR_PHRASE_WORDS_[0.047]', 0.00016186359155866907), (u'TAB_e1_NEIGHBOR_PHRASE_WORDS_[0.043 (]', 0.00016186359155866907), (u'TAB_e1_NEIGHBOR_PHRASE_WORDS_[: ul]', 0.00016186359155866907), (u'TAB_e1_NEIGHBOR_PHRASE_WORDS_[1.40]', 0.00016186359155866907), (u'TAB_e1_NEIGHBOR_PHRASE_WORDS_[0.053 (]', 0.00016186359155866907), (u'TAB_e2_NEIGHBOR_PHRASE_WORDS_[valent]', 0.00016186359155866907), (u'TAB_e2_NEIGHBOR_PHRASE_WORDS_[( 2.00]', 0.00016186359155866907), (u'TAB_e1_NEIGHBOR_PHRASE_WORDS_[method 208c]', 0.00016186359155866907), (u'TAB_e2_NEIGHBOR_PHRASE_WORDS_[0.016]', 0.00016186359155866907), (u'TAB_e1_NEIGHBOR_PHRASE_WORDS_[eli]', 0.00016186359155866907), (u'TAB_e1_NEIGHBOR_PHRASE_WORDS_[rate]', 0.00016186359155866907), (u'TAB_e2_NEIGHBOR_PHRASE_WORDS_[ul 94v-o]', 0.00016186359155866907), (u'TAB_e2_NEIGHBOR_PHRASE_WORDS_[: any]', 0.00016186359155866907), (u'TAB_e1_NEIGHBOR_PHRASE_WORDS_[0.085 (]', 0.00016186359155866907), (u'TAB_e2_NEIGHBOR_PHRASE_WORDS_[( 1.35]', 0.00016186359155866907), (u'TAB_e1_NEIGHBOR_PHRASE_WORDS_[completely eli]', 0.00016186359155866907), (u'TAB_e2_NEIGHBOR_PHRASE_WORDS_[1.15 )]', 0.00016186359155866907), (u'TAB_e1_NEIGHBOR_PHRASE_WORDS_[0.004]', 0.00016186359155866907), (u'TAB_e1_NEIGHBOR_PHRASE_WORDS_[0.90 )]', 0.00016186359155866907), (u'TAB_e1_NEIGHBOR_PHRASE_WORDS_[7]', 0.00016186359155866907), (u'TAB_e1_NEIGHBOR_PHRASE_WORDS_[circuit without]', 0.00016186359155866907), (u'TAB_e2_NEIGHBOR_PHRASE_WORDS_[position :]', 0.00016186359155866907), (u'TAB_e1_NEIGHBOR_PHRASE_WORDS_[( 2.00]', 0.00016186359155866907), (u'TAB_e1_NEIGHBOR_PHRASE_WORDS_[( 0.20]', 0.00016186359155866907), (u'TAB_e1_NEIGHBOR_PHRASE_WORDS_[pd]', 0.00016186359155866907), (u'TAB_e1_NEIGHBOR_PHRASE_WORDS_[maximum ratinges]', 0.00016186359155866907), (u'TAB_e1_NEIGHBOR_PHRASE_WORDS_[case :]', 0.00016186359155866907), (u'TAB_e2_NEIGHBOR_PHRASE_WORDS_[0.40]', 0.00016186359155866907), (u'TAB_e1_NEIGHBOR_PHRASE_WORDS_[( 0.53]', 0.00016186359155866907), (u'TAB_e1_NEIGHBOR_PHRASE_WORDS_[2.00 )]', 0.00016186359155866907), (u'TAB_e2_NEIGHBOR_PHRASE_WORDS_[molded]', 0.00016186359155866907), (u'TAB_e1_NEIGHBOR_PHRASE_WORDS_[0.53 )]', 0.00016186359155866907), (u'TAB_e2_NEIGHBOR_PHRASE_WORDS_[resistors .]', 0.00016186359155866907), (u'TAB_e1_NEIGHBOR_PHRASE_WORDS_[ambient temperature]', 0.00016186359155866907), (u'TAB_e1_NEIGHBOR_PHRASE_WORDS_[) (]', 0.00016186359155866907), (u'TAB_e1_NEIGHBOR_PHRASE_WORDS_[0.40]', 0.00016186359155866907), (u'TAB_e2_NEIGHBOR_PHRASE_WORDS_[0.08]', 0.00016186359155866907), (u'TAB_e2_NEIGHBOR_PHRASE_WORDS_[ref 0.021]', 0.00016186359155866907), (u'TAB_e2_LEFT_WORDS_[transistors]', 0.00016186359155866907), (u'TAB_e2_NEIGHBOR_PHRASE_WORDS_[( 0.10]', 0.00016186359155866907), (u'TAB_e2_NEIGHBOR_PHRASE_WORDS_[ratings and]', 0.00016186359155866907), (u'TAB_e2_NEIGHBOR_PHRASE_WORDS_[0.40 )]', 0.00016186359155866907), (u'TAB_e2_NEIGHBOR_PHRASE_WORDS_[ing]', 0.00016186359155866907), (u'TAB_e1_NEIGHBOR_PHRASE_WORDS_[position :]', 0.00016186359155866907), (u'TAB_e2_NEIGHBOR_PHRASE_WORDS_[25 c]', 0.00016186359155866907), (u'TAB_e2_NEIGHBOR_PHRASE_WORDS_[0.053]', 0.00016186359155866907), (u'TAB_e2_NEIGHBOR_PHRASE_WORDS_[0.003]', 0.00016186359155866907), (u'TAB_e2_NEIGHBOR_PHRASE_WORDS_[minating parasitic]', 0.00016186359155866907), (u'TAB_e1_NEIGHBOR_PHRASE_WORDS_[/ 0.5]', 0.00016186359155866907), (u'TAB_e1_NEIGHBOR_PHRASE_WORDS_[1.40 )]', 0.00016186359155866907), (u'TAB_e2_NEIGHBOR_PHRASE_WORDS_[mil-std-202e]', 0.00016186359155866907), (u'TAB_e2_NEIGHBOR_PHRASE_WORDS_[( 2.15]', 0.00016186359155866907), (u'TAB_e2_NEIGHBOR_PHRASE_WORDS_[gram]', 0.00016186359155866907), (u'TAB_e2_NEIGHBOR_PHRASE_WORDS_[0.085]', 0.00016186359155866907), (u'TAB_e1_NEIGHBOR_PHRASE_WORDS_[0.047 (]', 0.00016186359155866907), (u'TAB_e1_NEIGHBOR_PHRASE_WORDS_[valent]', 0.00016186359155866907), (u'TAB_e1_NEIGHBOR_PHRASE_WORDS_[0.016 (]', 0.00016186359155866907), (u'TAB_e1_NEIGHBOR_PHRASE_WORDS_[ratings and]', 0.00016186359155866907), (u'TAB_e2_NEIGHBOR_PHRASE_WORDS_[mplete isolation]', 0.00016186359155866907), (u'TAB_e2_NEIGHBOR_PHRASE_WORDS_[( 2.20]', 0.00016186359155866907), (u'TAB_e1_NEIGHBOR_PHRASE_WORDS_[ul 94v-o]', 0.00016186359155866907), (u'TAB_e1_NEIGHBOR_PHRASE_WORDS_[see equi]', 0.00016186359155866907), (u'TAB_e1_NEIGHBOR_PHRASE_WORDS_[( 1.10]', 0.00016186359155866907), (u'TAB_e2_NEIGHBOR_PHRASE_WORDS_[- mplete]', 0.00016186359155866907), (u'TAB_e1_NEIGHBOR_PHRASE_WORDS_[1.20 )]', 0.00016186359155866907), (u'TAB_e1_NEIGHBOR_PHRASE_WORDS_[epoxy :]', 0.00016186359155866907), (u'TAB_e1_NEIGHBOR_PHRASE_WORDS_[0.006]', 0.00016186359155866907), (u'TAB_e1_NEIGHBOR_PHRASE_WORDS_[2.45]', 0.00016186359155866907), (u'TAB_e1_NEIGHBOR_PHRASE_WORDS_[with co]', 0.00016186359155866907), (u'TAB_e2_NEIGHBOR_PHRASE_WORDS_[specified]', 0.00016186359155866907), (u'TAB_e2_NEIGHBOR_PHRASE_WORDS_[frequency (]', 0.00016186359155866907), (u'TAB_e1_NEIGHBOR_PHRASE_WORDS_[lead :]', 0.00016186359155866907), (u'TAB_e1_NEIGHBOR_PHRASE_WORDS_[~ 40]', 0.00016186359155866907), (u'TAB_e2_NEIGHBOR_PHRASE_WORDS_[dtc114eca-1 .]', 0.00016186359155866907), (u'TAB_e2_NEIGHBOR_PHRASE_WORDS_[rate flame]', 0.00016186359155866907), (u'TAB_e1_NEIGHBOR_PHRASE_WORDS_[npn )]', 0.00016186359155866907), (u'TAB_e2_NEIGHBOR_PHRASE_WORDS_[- valent]', 0.00016186359155866907), (u'TAB_e2_NEIGHBOR_PHRASE_WORDS_[- ing]', 0.00016186359155866907), (u'TAB_e1_NEIGHBOR_PHRASE_WORDS_[2.15]', 0.00016186359155866907), (u'TAB_e1_NEIGHBOR_PHRASE_WORDS_[0.055 (]', 0.00016186359155866907), (u'TAB_e2_NEIGHBOR_PHRASE_WORDS_[0.045]', 0.00016186359155866907), (u'TAB_e2_NEIGHBOR_PHRASE_WORDS_[0.20 )]', 0.00016186359155866907), (u'TAB_e1_NEIGHBOR_PHRASE_WORDS_[molded]', 0.00016186359155866907), (u'TAB_e2_NEIGHBOR_PHRASE_WORDS_[1.40]', 0.00016186359155866907), (u'TAB_e1_NEIGHBOR_PHRASE_WORDS_[0.08]', 0.00016186359155866907), (u'TAB_e2_NEIGHBOR_PHRASE_WORDS_[0.079 (]', 0.00016186359155866907), (u'TAB_e2_NEIGHBOR_PHRASE_WORDS_[3 )]', 0.00016186359155866907), (u'TAB_e2_NEIGHBOR_PHRASE_WORDS_[0.004]', 0.00016186359155866907), (u'TAB_e2_NEIGHBOR_PHRASE_WORDS_[0.045 (]', 0.00016186359155866907), (u'TAB_e1_NEIGHBOR_PHRASE_WORDS_[0.15 )]', 0.00016186359155866907), (u'TAB_e2_NEIGHBOR_PHRASE_WORDS_[/ 0.5]', 0.00016186359155866907), (u'TAB_e2_NEIGHBOR_PHRASE_WORDS_[( 0.90]', 0.00016186359155866907), (u'TAB_e1_NEIGHBOR_PHRASE_WORDS_[gram]', 0.00016186359155866907), (u'TAB_e2_NEIGHBOR_PHRASE_WORDS_[( 0.20]', 0.00016186359155866907), (u'TAB_e2_NEIGHBOR_PHRASE_WORDS_[1.10 )]', 0.00016186359155866907), (u'TAB_e1_NEIGHBOR_PHRASE_WORDS_[( 3]', 0.00016186359155866907), (u'TAB_e2_NEIGHBOR_PHRASE_WORDS_[co]', 0.00016186359155866907), (u'TAB_e2_NEIGHBOR_PHRASE_WORDS_[maximum ratinges]', 0.00016186359155866907), (u'TAB_e2_NEIGHBOR_PHRASE_WORDS_[208c guaranteed]', 0.00016186359155866907), (u'TAB_e1_NEIGHBOR_PHRASE_WORDS_[: molded]', 0.00016186359155866907), (u'TAB_e2_NEIGHBOR_PHRASE_WORDS_[minating]', 0.00016186359155866907), (u'TAB_e1_NEIGHBOR_PHRASE_WORDS_[minating parasitic]', 0.00016186359155866907), (u'TAB_e1_NEIGHBOR_PHRASE_WORDS_[data]', 0.00016186359155866907), (u'TAB_e1_NEIGHBOR_PHRASE_WORDS_[position]', 0.00016186359155866907), (u'TAB_e1_NEIGHBOR_PHRASE_WORDS_[0.006 (]', 0.00016186359155866907), (u'TAB_e1_NEIGHBOR_PHRASE_WORDS_[0.10 )]', 0.00016186359155866907), (u'TAB_e2_NEIGHBOR_PHRASE_WORDS_[( 1.40]', 0.00016186359155866907), (u'TAB_e1_NEIGHBOR_PHRASE_WORDS_[ref 0.021]', 0.00016186359155866907), (u'TAB_e1_NEIGHBOR_PHRASE_WORDS_[0.006 gram]', 0.00016186359155866907), (u'TAB_e1_NEIGHBOR_PHRASE_WORDS_[( see]', 0.00016186359155866907), (u'TAB_e1_NEIGHBOR_PHRASE_WORDS_[0.08 )]', 0.00016186359155866907), (u'TAB_e1_NEIGHBOR_PHRASE_WORDS_[- minating]', 0.00016186359155866907), (u'TAB_e1_NEIGHBOR_PHRASE_WORDS_[94v-o rate]', 0.00016186359155866907), (u'TAB_e2_NEIGHBOR_PHRASE_WORDS_[weight :]', 0.00016186359155866907), (u'TAB_e2_NEIGHBOR_PHRASE_WORDS_[equi]', 0.00016186359155866907), (u'TAB_e1_NEIGHBOR_PHRASE_WORDS_[1.35]', 0.00016186359155866907), (u'TAB_e2_NEIGHBOR_PHRASE_WORDS_[( 0.15]', 0.00016186359155866907), (u'TAB_e2_NEIGHBOR_PHRASE_WORDS_[case :]', 0.00016186359155866907), (u'TAB_e2_NEIGHBOR_PHRASE_WORDS_[0.096]', 0.00016186359155866907), (u'TAB_e2_NEIGHBOR_PHRASE_WORDS_[dtc114eua]', 0.00016186359155866907), (u'TAB_e1_NEIGHBOR_PHRASE_WORDS_[mplete isolation]', 0.00016186359155866907), (u'TAB_e2_NEIGHBOR_PHRASE_WORDS_[0.087]', 0.00016186359155866907), (u'TAB_e1_NEIGHBOR_PHRASE_WORDS_[temperature unless]', 0.00016186359155866907), (u'TAB_e1_NEIGHBOR_PHRASE_WORDS_[0.035]', 0.00016186359155866907), (u'TAB_e2_NEIGHBOR_PHRASE_WORDS_[eli -]', 0.00016186359155866907), (u'TAB_e2_RIGHT_WORDS_[)]', 0.00016186359155866907), (u'TAB_e1_NEIGHBOR_PHRASE_WORDS_[digital transistor]', 0.00016186359155866907), (u'TAB_e1_NEIGHBOR_PHRASE_WORDS_[( 0.15]', 0.00016186359155866907), (u'TAB_e1_NEIGHBOR_PHRASE_WORDS_[0.035 (]', 0.00016186359155866907), (u'TAB_e2_NEIGHBOR_PHRASE_WORDS_[co -]', 0.00016186359155866907), (u'TAB_e1_NEIGHBOR_PHRASE_WORDS_[molded plastic]', 0.00016186359155866907), (u'TAB_e2_NEIGHBOR_PHRASE_WORDS_[lead :]', 0.00016186359155866907), (u'TAB_e2_NEIGHBOR_PHRASE_WORDS_[0.047]', 0.00016186359155866907), (u'TAB_e1_NEIGHBOR_PHRASE_WORDS_[mil-std-202e]', 0.00016186359155866907), (u'TAB_e1_NEIGHBOR_PHRASE_WORDS_[= 10ma]', 0.00016186359155866907), (u'TAB_e1_NEIGHBOR_PHRASE_WORDS_[( 1.15]', 0.00016186359155866907), (u'TAB_e1_NEIGHBOR_PHRASE_WORDS_[operation mark]', 0.00016186359155866907), (u'TAB_e2_NEIGHBOR_PHRASE_WORDS_[0.08 )]', 0.00016186359155866907), (u'TAB_e1_NEIGHBOR_PHRASE_WORDS_[and electrical]', 0.00016186359155866907), (u'TAB_e2_NEIGHBOR_PHRASE_WORDS_[0.006]', 0.00016186359155866907), (u'TAB_e2_NEIGHBOR_PHRASE_WORDS_[2.45]', 0.00016186359155866907), (u'TAB_e1_NEIGHBOR_PHRASE_WORDS_[2.20 )]', 0.00016186359155866907), (u'TAB_e2_NEIGHBOR_PHRASE_WORDS_[mechanical]', 0.00016186359155866907), (u'TAB_e1_NEIGHBOR_PHRASE_WORDS_[guaranteed]', 0.00016186359155866907), (u'TAB_e1_NEIGHBOR_PHRASE_WORDS_[1.10 )]', 0.00016186359155866907), (u'TAB_e2_NEIGHBOR_PHRASE_WORDS_[mark -]', 0.00016186359155866907), (u'TAB_e2_NEIGHBOR_PHRASE_WORDS_[0.008]', 0.00016186359155866907), (u'TAB_e2_NEIGHBOR_PHRASE_WORDS_[1.40 )]', 0.00016186359155866907), (u'TAB_e1_NEIGHBOR_PHRASE_WORDS_[easy .]', 0.00016186359155866907), (u'TAB_e1_NEIGHBOR_PHRASE_WORDS_[( @]', 0.00016186359155866907), (u'TAB_e2_LEFT_WORDS_[transistor transistors]', 0.00016186359155866907), (u'TAB_e2_NEIGHBOR_PHRASE_WORDS_[: 0.006]', 0.00016186359155866907), (u'TAB_e1_NEIGHBOR_PHRASE_WORDS_[frequency (]', 0.00016186359155866907), (u'TAB_e2_NEIGHBOR_PHRASE_WORDS_[) (]', 0.00016186359155866907), (u'TAB_e1_NEIGHBOR_PHRASE_WORDS_[2.00]', 0.00016186359155866907), (u'TAB_e1_NEIGHBOR_PHRASE_WORDS_[0.003]', 0.00016186359155866907), (u'TAB_e1_NEIGHBOR_PHRASE_WORDS_[0.53]', 0.00016186359155866907), (u'TAB_e2_NEIGHBOR_PHRASE_WORDS_[valent circuit]', 0.00016186359155866907), (u'TAB_e2_NEIGHBOR_PHRASE_WORDS_[epoxy :]', 0.00016186359155866907), (u'TAB_e1_NEIGHBOR_PHRASE_WORDS_[flame retardant]', 0.00016186359155866907), (u'TAB_e1_NEIGHBOR_PHRASE_WORDS_[0.096]', 0.00016186359155866907), (u'TAB_e2_NEIGHBOR_PHRASE_WORDS_[and electrical]', 0.00016186359155866907), (u'TAB_e2_NEIGHBOR_PHRASE_WORDS_[data]', 0.00016186359155866907), (u'TAB_e2_NEIGHBOR_PHRASE_WORDS_[position]', 0.00016186359155866907), (u'TAB_e2_NEIGHBOR_PHRASE_WORDS_[7]', 0.00016186359155866907), (u'TAB_e2_NEIGHBOR_PHRASE_WORDS_[0.8]', 0.00016186359155866907), (u'TAB_e2_NEIGHBOR_PHRASE_WORDS_[0.085 (]', 0.00016186359155866907), (u'TAB_e2_NEIGHBOR_PHRASE_WORDS_[easy .]', 0.00016186359155866907), (u'TAB_e1_NEIGHBOR_PHRASE_WORDS_[0.021]', 0.00016186359155866907), (u'TAB_e2_NEIGHBOR_PHRASE_WORDS_[c ambient]', 0.00016186359155866907), (u'TAB_e1_NEIGHBOR_PHRASE_WORDS_[mounting position]', 0.00016186359155866907), (u'TAB_e2_NEIGHBOR_PHRASE_WORDS_[-10 ~]', 0.00016186359155866907), (u'TAB_e2_NEIGHBOR_PHRASE_WORDS_[0.053 (]', 0.00016186359155866907), (u'TAB_e1_NEIGHBOR_PHRASE_WORDS_[( 0.90]', 0.00016186359155866907), (u'TAB_e1_NEIGHBOR_PHRASE_WORDS_[1.20]', 0.00016186359155866907), (u'TAB_e1_NEIGHBOR_PHRASE_WORDS_[0.20]', 0.00016186359155866907), (u'TAB_e1_NEIGHBOR_PHRASE_WORDS_[rate flame]', 0.00016186359155866907), (u'TAB_e2_NEIGHBOR_PHRASE_WORDS_[temperature unless]', 0.00016186359155866907), (u'TAB_e2_NEIGHBOR_PHRASE_WORDS_[10ma )]', 0.00016186359155866907), (u'TAB_e1_NEIGHBOR_PHRASE_WORDS_[at 25]', 0.00016186359155866907), (u'TAB_e2_NEIGHBOR_PHRASE_WORDS_[0.00 )]', 0.00016186359155866907), (u'TAB_e1_NEIGHBOR_PHRASE_WORDS_[input current]', 0.00016186359155866907), (u'TAB_e2_LEFT_WORDS_[transistors (]', 0.00016186359155866907), (u'TAB_e2_NEIGHBOR_PHRASE_WORDS_[2.45 )]', 0.00016186359155866907), (u'TAB_e2_NEIGHBOR_PHRASE_WORDS_[input current]', 0.00016186359155866907), (u'TAB_e1_NEIGHBOR_PHRASE_WORDS_[( 2.20]', 0.00016186359155866907), (u'TAB_e2_NEIGHBOR_PHRASE_WORDS_[0.90]', 0.00016186359155866907), (u'TAB_e1_NEIGHBOR_PHRASE_WORDS_[ing]', 0.00016186359155866907), (u'TAB_e2_NEIGHBOR_PHRASE_WORDS_[guaranteed]', 0.00016186359155866907), (u'TAB_e1_NEIGHBOR_PHRASE_WORDS_[10ma /]', 0.00016186359155866907), (u'TAB_e1_NEIGHBOR_PHRASE_WORDS_[0.40 )]', 0.00016186359155866907), (u'TAB_e1_NEIGHBOR_PHRASE_WORDS_[any]', 0.00016186359155866907), (u'TAB_e1_NEIGHBOR_PHRASE_WORDS_[( 2.15]', 0.00016186359155866907), (u'TAB_e2_NEIGHBOR_PHRASE_WORDS_[1.35 )]', 0.00016186359155866907), (u'TAB_e2_NEIGHBOR_PHRASE_WORDS_[~ 40]', 0.00016186359155866907), (u'TAB_e2_NEIGHBOR_PHRASE_WORDS_[: molded]', 0.00016186359155866907), (u'TAB_e2_LEFT_WORDS_[sot-323 digital]', 0.00016186359155866907), (u'TAB_e2_NEIGHBOR_PHRASE_WORDS_[2.15]', 0.00016186359155866907), (u'TAB_e1_NEIGHBOR_PHRASE_WORDS_[( 0.00]', 0.00016186359155866907), (u'TAB_e1_NEIGHBOR_PHRASE_WORDS_[2.15 )]', 0.00016186359155866907), (u'TAB_e1_NEIGHBOR_PHRASE_WORDS_[0.004 (]', 0.00016186359155866907), (u'TAB_e1_NEIGHBOR_PHRASE_WORDS_[ing device]', 0.00016186359155866907), (u'TAB_e1_NEIGHBOR_PHRASE_WORDS_[valent circuit]', 0.00016186359155866907), (u'TAB_e2_NEIGHBOR_PHRASE_WORDS_[at 25]', 0.00016186359155866907), (u'TAB_e2_NEIGHBOR_PHRASE_WORDS_[method 208c]', 0.00016186359155866907), (u'TAB_e2_NEIGHBOR_PHRASE_WORDS_[0.90 )]', 0.00016186359155866907), (u'TAB_e2_NEIGHBOR_PHRASE_WORDS_[0.021 (]', 0.00016186359155866907), (u'TAB_e2_NEIGHBOR_PHRASE_WORDS_[0.20]', 0.00016186359155866907), (u'TAB_e1_NEIGHBOR_PHRASE_WORDS_[1.10]', 0.00016186359155866907), (u'TAB_e2_NEIGHBOR_PHRASE_WORDS_[1.20]', 0.00016186359155866907), (u'TAB_e2_NEIGHBOR_PHRASE_WORDS_[: mil-std-202e]', 0.00016186359155866907), (u'TAB_e2_NEIGHBOR_PHRASE_WORDS_[0.047 (]', 0.00016186359155866907), (u'TAB_e1_NEIGHBOR_PHRASE_WORDS_[flame]', 0.00016186359155866907), (u'TAB_e2_NEIGHBOR_PHRASE_WORDS_[rate]', 0.00016186359155866907), (u'TAB_e1_NEIGHBOR_PHRASE_WORDS_[- valent]', 0.00016186359155866907), (u'TAB_e2_NEIGHBOR_PHRASE_WORDS_[0.5 ma]', 0.00016186359155866907), (u'TAB_e1_NEIGHBOR_PHRASE_WORDS_[0.016]', 0.00016186359155866907), (u'TAB_e2_NEIGHBOR_PHRASE_WORDS_[94v-o rate]', 0.00016186359155866907), (u'TAB_e2_NEIGHBOR_PHRASE_WORDS_[0.53 )]', 0.00016186359155866907), (u'TAB_e2_NEIGHBOR_PHRASE_WORDS_[ratinges]', 0.00016186359155866907), (u'TAB_e2_NEIGHBOR_PHRASE_WORDS_[otherwise specified]', 0.00016186359155866907), (u'TAB_e2_NEIGHBOR_PHRASE_WORDS_[0.043 (]', 0.00016186359155866907), (u'TAB_e1_NEIGHBOR_PHRASE_WORDS_[94v-o]', 0.00016186359155866907), (u'TAB_e2_NEIGHBOR_PHRASE_WORDS_[1.20 )]', 0.00016186359155866907), (u'TAB_e2_NEIGHBOR_PHRASE_WORDS_[0.079]', 0.00016186359155866907), (u'TAB_e1_NEIGHBOR_PHRASE_WORDS_[0.000 (]', 0.00016186359155866907), (u'TAB_e1_NEIGHBOR_PHRASE_WORDS_[( 0.10]', 0.00016186359155866907), (u'TAB_e1_NEIGHBOR_PHRASE_WORDS_[mechanical]', 0.00016186359155866907), (u'TAB_e1_NEIGHBOR_PHRASE_WORDS_[-10 ~]', 0.00016186359155866907), (u'TAB_e2_NEIGHBOR_PHRASE_WORDS_[2.15 )]', 0.00016186359155866907), (u'TAB_e2_NEIGHBOR_PHRASE_WORDS_[: ul]', 0.00016186359155866907), (u'TAB_e2_NEIGHBOR_PHRASE_WORDS_[0.10 )]', 0.00016186359155866907), (u'TAB_e2_NEIGHBOR_PHRASE_WORDS_[0.10]', 0.00016186359155866907), (u'TAB_e2_NEIGHBOR_PHRASE_WORDS_[any]', 0.00016186359155866907), (u'TAB_e2_NEIGHBOR_PHRASE_WORDS_[10ma /]', 0.00016186359155866907), (u'TAB_e1_NEIGHBOR_PHRASE_WORDS_[ambient]', 0.00016186359155866907), (u'TAB_e2_NEIGHBOR_PHRASE_WORDS_[( 0.53]', 0.00016186359155866907), (u'TAB_e1_NEIGHBOR_PHRASE_WORDS_[10ma )]', 0.00016186359155866907), (u'TAB_e2_NEIGHBOR_PHRASE_WORDS_[2.00]', 0.00016186359155866907), (u'TAB_e2_NEIGHBOR_PHRASE_WORDS_[( 1.20]', 0.00016186359155866907), (u'TAB_e2_NEIGHBOR_PHRASE_WORDS_[94v-o]', 0.00016186359155866907), (u'TAB_e2_NEIGHBOR_PHRASE_WORDS_[ambient]', 0.00016186359155866907), (u'TAB_e2_NEIGHBOR_PHRASE_WORDS_[( 1.15]', 0.00016186359155866907), (u'TAB_e2_NEIGHBOR_PHRASE_WORDS_[0.035 (]', 0.00016186359155866907), (u'TAB_e1_NEIGHBOR_PHRASE_WORDS_[ratinges]', 0.00016186359155866907), (u'TAB_e2_NEIGHBOR_PHRASE_WORDS_[completely eli]', 0.00016186359155866907), (u'TAB_e1_NEIGHBOR_PHRASE_WORDS_[0.079]', 0.00016186359155866907), (u'TAB_e2_NEIGHBOR_PHRASE_WORDS_[0.043]', 0.00016186359155866907), (u'TAB_e2_NEIGHBOR_PHRASE_WORDS_[ambient temperature]', 0.00016186359155866907), (u'TAB_e1_NEIGHBOR_PHRASE_WORDS_[208c guaranteed]', 0.00016186359155866907), (u'TAB_e1_NEIGHBOR_PHRASE_WORDS_[mil-std-202e method]', 0.00016186359155866907), (u'TAB_e2_NEIGHBOR_PHRASE_WORDS_[( @]', 0.00016186359155866907), (u'TAB_e1_NEIGHBOR_PHRASE_WORDS_[eli -]', 0.00016186359155866907), (u'TAB_e1_NEIGHBOR_PHRASE_WORDS_[0.20 )]', 0.00016186359155866907), (u'TAB_e2_NEIGHBOR_PHRASE_WORDS_[with co]', 0.00016186359155866907), (u'TAB_e1_NEIGHBOR_PHRASE_WORDS_[( 1.40]', 0.00016186359155866907), (u'TAB_e2_NEIGHBOR_PHRASE_WORDS_[( 0.00]', 0.00016186359155866907), (u'TAB_e2_NEIGHBOR_PHRASE_WORDS_[0.00]', 0.00016186359155866907), (u'TAB_e1_NEIGHBOR_PHRASE_WORDS_[mark -]', 0.00016186359155866907), (u'TAB_e1_NEIGHBOR_PHRASE_WORDS_[0.15]', 0.00016186359155866907), (u'TAB_e1_NEIGHBOR_PHRASE_WORDS_[0.008 (]', 0.00016186359155866907), (u'TAB_e1_NEIGHBOR_PHRASE_WORDS_[0.8]', 0.00016186359155866907), (u'TAB_e1_NEIGHBOR_PHRASE_WORDS_[ref]', 0.00016186359155866907), (u'TAB_e1_NEIGHBOR_PHRASE_WORDS_[( npn]', 0.00016186359155866907), (u'TAB_e2_NEIGHBOR_PHRASE_WORDS_[see equi]', 0.00016186359155866907), (u'TAB_e1_NEIGHBOR_PHRASE_WORDS_[- mplete]', 0.00016186359155866907), (u'TAB_e1_NEIGHBOR_PHRASE_WORDS_[co -]', 0.00016186359155866907), (u'TAB_e1_NEIGHBOR_PHRASE_WORDS_[0.043]', 0.00016186359155866907), (u'TAB_e2_NEIGHBOR_PHRASE_WORDS_[mil-std-202e method]', 0.00016186359155866907), (u'TAB_e1_NEIGHBOR_PHRASE_WORDS_[1.15]', 0.00016186359155866907), (u'TAB_e1_NEIGHBOR_PHRASE_WORDS_[0.079 (]', 0.00016186359155866907), (u'TAB_e2_NEIGHBOR_PHRASE_WORDS_[0.003 (]', 0.00016186359155866907), (u'TAB_e2_NEIGHBOR_PHRASE_WORDS_[0.035]', 0.00016186359155866907), (u'TAB_e1_NEIGHBOR_PHRASE_WORDS_[transistor transistors]', 0.00016186359155866907), (u'TAB_e1_NEIGHBOR_PHRASE_WORDS_[0.096 (]', 0.00016186359155866907), (u'TAB_e1_NEIGHBOR_PHRASE_WORDS_[: any]', 0.00016186359155866907), (u'TAB_e1_NEIGHBOR_PHRASE_WORDS_[mechanical data]', 0.00016186359155866907), (u'TAB_e1_NEIGHBOR_PHRASE_WORDS_[equi]', 0.00016186359155866907), (u'TAB_e2_NEIGHBOR_PHRASE_WORDS_[flame]', 0.00016186359155866907), (u'TAB_e2_NEIGHBOR_PHRASE_WORDS_[10ma]', 0.00016186359155866907), (u'TAB_e2_NEIGHBOR_PHRASE_WORDS_[2.20 )]', 0.00016186359155866907), (u'TAB_e2_NEIGHBOR_PHRASE_WORDS_[circuit without]', 0.00016186359155866907), (u'TAB_e1_NEIGHBOR_PHRASE_WORDS_[1.35 )]', 0.00016186359155866907), (u'TAB_e2_NEIGHBOR_PHRASE_WORDS_[( see]', 0.00016186359155866907), (u'TAB_e2_NEIGHBOR_PHRASE_WORDS_[mounting position]', 0.00016186359155866907), (u'TAB_e2_LEFT_WORDS_[transistor]', 0.00016186359155866907), (u'TAB_e1_NEIGHBOR_PHRASE_WORDS_[c ambient]', 0.00016186359155866907), (u'TAB_e2_NEIGHBOR_PHRASE_WORDS_[0.087 (]', 0.00016186359155866907), (u'TAB_e1_NEIGHBOR_PHRASE_WORDS_[0.055]', 0.00016186359155866907), (u'TAB_e2_NEIGHBOR_PHRASE_WORDS_[( 0.08]', 0.00016186359155866907), (u'TAB_e1_NEIGHBOR_PHRASE_WORDS_[0.008]', 0.00016186359155866907), (u'TAB_e2_NEIGHBOR_PHRASE_WORDS_[output voltage]', 0.00016186359155866907), (u'TAB_e1_NEIGHBOR_PHRASE_WORDS_[ratings at]', 0.00016186359155866907), (u'TAB_e1_NEIGHBOR_PHRASE_WORDS_[circuit )]', 0.00016186359155866907), (u'TAB_e1_NEIGHBOR_PHRASE_WORDS_[0.90]', 0.00016186359155866907), (u'TAB_e1_NEIGHBOR_PHRASE_WORDS_[0.5 ma]', 0.00016186359155866907), (u'TAB_e2_NEIGHBOR_PHRASE_WORDS_[2.20]', 0.00016186359155866907), (u'TAB_e2_NEIGHBOR_PHRASE_WORDS_[retardant]', 0.00016186359155866907), (u'TAB_e1_NEIGHBOR_PHRASE_WORDS_[specified]', 0.00016186359155866907), (u'TAB_e1_NEIGHBOR_PHRASE_WORDS_[co]', 0.00016186359155866907), (u'TAB_e1_NEIGHBOR_PHRASE_WORDS_[0.00]', 0.00016186359155866907), (u'TAB_e2_NEIGHBOR_PHRASE_WORDS_[( 2.45]', 0.00016186359155866907), (u'TAB_e1_NEIGHBOR_PHRASE_WORDS_[1.15 )]', 0.00016186359155866907), (u'TAB_e1_NEIGHBOR_PHRASE_WORDS_[3 )]', 0.00016186359155866907), (u'TAB_e2_NEIGHBOR_PHRASE_WORDS_[1.15]', 0.00016186359155866907), (u'TAB_e2_NEIGHBOR_PHRASE_WORDS_[0.006 (]', 0.00016186359155866907), (u'TAB_e2_NEIGHBOR_PHRASE_WORDS_[equi -]', 0.00016186359155866907), (u'TAB_e1_CONTAINS_WORDS_[BC182]', 0.0001612970433479938), (u'TAB_e1_COL_WORDS_[2n3904tf]', 0.00014965966010351938), (u'TAB_e1_COL_WORDS_[2n3904tfr]', 0.00014150151559772837), (u'TAB_e1_COL_WORDS_[bc856/857/858]', -0.00013046148836408895), (u'TAB_e1_COL_WORDS_[: bc856/857/858]', -0.00013046148836408895), (u'TAB_e1_COL_WORDS_[2n3904ta]', 0.00010442937662033156), (u'TAB_e1_COL_WORDS_[2n3904tar]', 0.0001025200502974514), (u'TAB_e1_COL_WORDS_[2n3904bu]', 8.989136100079326e-05), (u'TAB_e1_CONTAINS_WORDS_[BC817K]', -7.772185734108114e-05), (u'TAB_e1_COL_WORDS_[pzt3904]', 4.836818147007389e-05), (u'TAB_e1_NEIGHBOR_PHRASE_WORDS_[be in]', 3.895150475528252e-05), (u'TAB_e1_NEIGHBOR_PHRASE_WORDS_[2007]', 3.895150475528252e-05), (u'TAB_e1_NEIGHBOR_PHRASE_WORDS_[dissipation @]', 3.895150475528252e-05), (u'TAB_e1_NEIGHBOR_PHRASE_WORDS_[= year]', 3.895150475528252e-05), (u'TAB_e1_NEIGHBOR_PHRASE_WORDS_[base voltage]', 3.895150475528252e-05), (u'TAB_e1_NEIGHBOR_PHRASE_WORDS_[bc182brl1g]', 3.895150475528252e-05), (u'TAB_e1_NEIGHBOR_PHRASE_WORDS_[llc ,]', 3.895150475528252e-05), (u'TAB_e1_NEIGHBOR_PHRASE_WORDS_[pb-free]', 3.895150475528252e-05), (u'TAB_e1_NEIGHBOR_PHRASE_WORDS_[breakdown voltage]', 3.895150475528252e-05), (u'TAB_e1_NEIGHBOR_PHRASE_WORDS_[microdot]', 3.895150475528252e-05), (u'TAB_e1_NEIGHBOR_PHRASE_WORDS_[jc]', 3.895150475528252e-05), (u'TAB_e1_NEIGHBOR_PHRASE_WORDS_[- emitter]', 3.895150475528252e-05), (u'TAB_e1_NEIGHBOR_PHRASE_WORDS_[brd8011/d]', 3.895150475528252e-05), (u'TAB_e1_NEIGHBOR_PHRASE_WORDS_[collector cutoff]', 3.895150475528252e-05), (u'TAB_e1_NEIGHBOR_PHRASE_WORDS_[specifications brochure]', 3.895150475528252e-05), (u'TAB_e1_NEIGHBOR_PHRASE_WORDS_[techniques reference]', 3.895150475528252e-05), (u'TAB_e1_NEIGHBOR_PHRASE_WORDS_[, solderrm/d]', 3.895150475528252e-05), (u'TAB_e1_NEIGHBOR_PHRASE_WORDS_[ayw]', 3.895150475528252e-05), (u'TAB_e1_NEIGHBOR_PHRASE_WORDS_[reel specifications]', 3.895150475528252e-05), (u'TAB_e1_NEIGHBOR_PHRASE_WORDS_[4.0 v]', 3.895150475528252e-05), (u'TAB_e1_NEIGHBOR_PHRASE_WORDS_[straight lead]', 3.895150475528252e-05), (u'TAB_e1_NEIGHBOR_PHRASE_WORDS_[= 4.0]', 3.895150475528252e-05), (u'TAB_e1_NEIGHBOR_PHRASE_WORDS_[y]', 3.895150475528252e-05), (u'TAB_e1_NEIGHBOR_PHRASE_WORDS_[sizes]', 3.895150475528252e-05), (u'TAB_e1_NEIGHBOR_PHRASE_WORDS_[leakage current]', 3.895150475528252e-05), (u'TAB_e1_NEIGHBOR_PHRASE_WORDS_[17]', 3.895150475528252e-05), (u'TAB_e1_NEIGHBOR_PHRASE_WORDS_[location )]', 3.895150475528252e-05), (u'TAB_e1_NEIGHBOR_PHRASE_WORDS_[soldering and]', 3.895150475528252e-05), (u'TAB_e1_NEIGHBOR_PHRASE_WORDS_[, please]', 3.895150475528252e-05), (u'TAB_e1_NEIGHBOR_PHRASE_WORDS_[&]', 3.895150475528252e-05), (u'TAB_e1_NEIGHBOR_PHRASE_WORDS_[solderrm/d]', 3.895150475528252e-05), (u'TAB_e1_NEIGHBOR_PHRASE_WORDS_[refer]', 3.895150475528252e-05), (u'TAB_e1_NEIGHBOR_PHRASE_WORDS_[5000 units]', 3.895150475528252e-05), (u'TAB_e1_NEIGHBOR_PHRASE_WORDS_[devices *]', 3.895150475528252e-05), (u'TAB_e1_NEIGHBOR_PHRASE_WORDS_[publication]', 3.895150475528252e-05), (u'TAB_e1_NEIGHBOR_PHRASE_WORDS_[packaging specifications]', 3.895150475528252e-05), (u'TAB_e1_NEIGHBOR_PHRASE_WORDS_[, including]', 3.895150475528252e-05), (u'TAB_e1_NEIGHBOR_PHRASE_WORDS_[derate above]', 3.895150475528252e-05), (u'TAB_e1_NEIGHBOR_PHRASE_WORDS_[182b]', 3.895150475528252e-05), (u'TAB_e1_NEIGHBOR_PHRASE_WORDS_[ja]', 3.895150475528252e-05), (u'TAB_e1_NEIGHBOR_PHRASE_WORDS_[bent lead]', 3.895150475528252e-05), (u'TAB_e1_NEIGHBOR_PHRASE_WORDS_[) ceo]', 3.895150475528252e-05), (u'TAB_e1_NEIGHBOR_PHRASE_WORDS_[download the]', 3.895150475528252e-05), (u'TAB_e1_NEIGHBOR_PHRASE_WORDS_[125]', 3.895150475528252e-05), (u'TAB_e1_NEIGHBOR_PHRASE_WORDS_[- rev.]', 3.895150475528252e-05), (u'TAB_e1_NEIGHBOR_PHRASE_WORDS_[are stress]', 3.895150475528252e-05), (u'TAB_e1_NEIGHBOR_PHRASE_WORDS_[manual]', 3.895150475528252e-05), (u'TAB_e1_NEIGHBOR_PHRASE_WORDS_[: microdot]', 3.895150475528252e-05), (u'TAB_e1_NEIGHBOR_PHRASE_WORDS_[the on]', 3.895150475528252e-05), (u'TAB_e1_NEIGHBOR_PHRASE_WORDS_[emitter-base leakage]', 3.895150475528252e-05), (u'TAB_e1_NEIGHBOR_PHRASE_WORDS_[ratings only]', 3.895150475528252e-05), (u'TAB_e1_NEIGHBOR_PHRASE_WORDS_[= 50]', 3.895150475528252e-05), (u'TAB_e1_NEIGHBOR_PHRASE_WORDS_[/ tape]', 3.895150475528252e-05), (u'TAB_e1_NEIGHBOR_PHRASE_WORDS_[industries]', 3.895150475528252e-05), (u'TAB_e1_NEIGHBOR_PHRASE_WORDS_[march]', 3.895150475528252e-05), (u'TAB_e1_NEIGHBOR_PHRASE_WORDS_[llc]', 3.895150475528252e-05), (u'TAB_e1_NEIGHBOR_PHRASE_WORDS_[pb-free )]', 3.895150475528252e-05), (u'TAB_e1_NEIGHBOR_PHRASE_WORDS_[brd8011/d .]', 3.895150475528252e-05), (u'TAB_e1_NEIGHBOR_PHRASE_WORDS_[lead bulk]', 3.895150475528252e-05), (u'TAB_e1_NEIGHBOR_PHRASE_WORDS_[style 17]', 3.895150475528252e-05), (u'TAB_e1_NEIGHBOR_PHRASE_WORDS_[details ,]', 3.895150475528252e-05), (u'TAB_e1_NEIGHBOR_PHRASE_WORDS_[mw /]', 3.895150475528252e-05), (u'TAB_e1_NEIGHBOR_PHRASE_WORDS_[industries ,]', 3.895150475528252e-05), (u'TAB_e1_NEIGHBOR_PHRASE_WORDS_[15]', 3.895150475528252e-05), (u'TAB_e1_NEIGHBOR_PHRASE_WORDS_[and tape]', 3.895150475528252e-05), (u'TAB_e1_NEIGHBOR_PHRASE_WORDS_[week]', 3.895150475528252e-05), (u'TAB_e1_NEIGHBOR_PHRASE_WORDS_[base breakdown]', 3.895150475528252e-05), (u'TAB_e1_NEIGHBOR_PHRASE_WORDS_[5000]', 3.895150475528252e-05), (u'TAB_e1_NEIGHBOR_PHRASE_WORDS_[lead tape]', 3.895150475528252e-05), (u'TAB_e1_NEIGHBOR_PHRASE_WORDS_[device dissipation]', 3.895150475528252e-05), (u'TAB_e1_NEIGHBOR_PHRASE_WORDS_[2.0]', 3.895150475528252e-05), (u'TAB_e1_NEIGHBOR_PHRASE_WORDS_[amplifier transistors]', 3.895150475528252e-05), (u'TAB_e1_NEIGHBOR_PHRASE_WORDS_[strategy]', 3.895150475528252e-05), (u'TAB_e1_NEIGHBOR_PHRASE_WORDS_[in either]', 3.895150475528252e-05), (u'TAB_e1_NEIGHBOR_PHRASE_WORDS_[c/w]', 3.895150475528252e-05), (u'TAB_e1_NEIGHBOR_PHRASE_WORDS_[our]', 3.895150475528252e-05), (u'TAB_e1_NEIGHBOR_PHRASE_WORDS_[resistance ,]', 3.895150475528252e-05), (u'TAB_e1_NEIGHBOR_PHRASE_WORDS_[work week]', 3.895150475528252e-05), (u'TAB_e1_NEIGHBOR_PHRASE_WORDS_[please refer]', 3.895150475528252e-05), (u'TAB_e1_NEIGHBOR_PHRASE_WORDS_[orientation and]', 3.895150475528252e-05), (u'TAB_e1_NEIGHBOR_PHRASE_WORDS_[derate]', 3.895150475528252e-05), (u'TAB_e1_NEIGHBOR_PHRASE_WORDS_[, llc]', 3.895150475528252e-05), (u'TAB_e1_NEIGHBOR_PHRASE_WORDS_[= 2.0]', 3.895150475528252e-05), (u'TAB_e1_NEIGHBOR_PHRASE_WORDS_[units /]', 3.895150475528252e-05), (u'TAB_e1_NEIGHBOR_PHRASE_WORDS_[ammo pack]', 3.895150475528252e-05), (u'TAB_e1_NEIGHBOR_PHRASE_WORDS_[2.8]', 3.895150475528252e-05), (u'TAB_e1_NEIGHBOR_PHRASE_WORDS_[, junction-to-case]', 3.895150475528252e-05), (u'TAB_e1_NEIGHBOR_PHRASE_WORDS_[publication order]', 3.895150475528252e-05), (u'TAB_e1_NEIGHBOR_PHRASE_WORDS_[marking diagram]', 3.895150475528252e-05), (u'TAB_e1_NEIGHBOR_PHRASE_WORDS_[order number]', 3.895150475528252e-05), (u'TAB_e1_NEIGHBOR_PHRASE_WORDS_[& reel]', 3.895150475528252e-05), (u'TAB_e1_NEIGHBOR_PHRASE_WORDS_[shipping]', 3.895150475528252e-05), (u'TAB_e1_NEIGHBOR_PHRASE_WORDS_[may be]', 3.895150475528252e-05), (u'TAB_e1_NEIGHBOR_PHRASE_WORDS_[devices]', 3.895150475528252e-05), (u'TAB_e1_NEIGHBOR_PHRASE_WORDS_[components industries]', 3.895150475528252e-05), (u'TAB_e1_NEIGHBOR_PHRASE_WORDS_[are pb-free]', 3.895150475528252e-05), (u'TAB_e1_NEIGHBOR_PHRASE_WORDS_[only .]', 3.895150475528252e-05), (u'TAB_e1_NEIGHBOR_PHRASE_WORDS_[0.2]', 3.895150475528252e-05), (u'TAB_e1_NEIGHBOR_PHRASE_WORDS_[4.0]', 3.895150475528252e-05), (u'TAB_e1_NEIGHBOR_PHRASE_WORDS_[on characteristics]', 3.895150475528252e-05), (u'TAB_e1_NEIGHBOR_PHRASE_WORDS_[sizes ,]', 3.895150475528252e-05), (u'TAB_e1_NEIGHBOR_PHRASE_WORDS_[breakdown]', 3.895150475528252e-05), (u'TAB_e1_NEIGHBOR_PHRASE_WORDS_[soldering details]', 3.895150475528252e-05), (u'TAB_e1_NEIGHBOR_PHRASE_WORDS_[style]', 3.895150475528252e-05), (u'TAB_e1_NEIGHBOR_PHRASE_WORDS_[microdot may]', 3.895150475528252e-05), (u'TAB_e1_NEIGHBOR_PHRASE_WORDS_[= work]', 3.895150475528252e-05), (u'TAB_e1_NEIGHBOR_PHRASE_WORDS_[number :]', 3.895150475528252e-05), (u'TAB_e1_NEIGHBOR_PHRASE_WORDS_[pb-free devices]', 3.895150475528252e-05), (u'TAB_e1_NEIGHBOR_PHRASE_WORDS_[emitter]', 3.895150475528252e-05), (u'TAB_e1_NEIGHBOR_PHRASE_WORDS_[and mounting]', 3.895150475528252e-05), (u'TAB_e1_NEIGHBOR_PHRASE_WORDS_[please]', 3.895150475528252e-05), (u'TAB_e1_NEIGHBOR_PHRASE_WORDS_[reference manual]', 3.895150475528252e-05), (u'TAB_e1_NEIGHBOR_PHRASE_WORDS_[for additional]', 3.895150475528252e-05), (u'TAB_e1_NEIGHBOR_PHRASE_WORDS_[pb-free strategy]', 3.895150475528252e-05), (u'TAB_e1_NEIGHBOR_PHRASE_WORDS_[order]', 3.895150475528252e-05), (u'TAB_e1_NEIGHBOR_PHRASE_WORDS_[additional information]', 3.895150475528252e-05), (u'TAB_e1_NEIGHBOR_PHRASE_WORDS_[2007 -]', 3.895150475528252e-05), (u'TAB_e1_NEIGHBOR_PHRASE_WORDS_[29]', 3.895150475528252e-05), (u'TAB_e1_NEIGHBOR_PHRASE_WORDS_[part orientation]', 3.895150475528252e-05), (u'TAB_e1_NEIGHBOR_PHRASE_WORDS_[on our]', 3.895150475528252e-05), (u'TAB_e1_NEIGHBOR_PHRASE_WORDS_[2000 /]', 3.895150475528252e-05), (u'TAB_e1_NEIGHBOR_PHRASE_WORDS_[semiconductor soldering]', 3.895150475528252e-05), (u'TAB_e1_NEIGHBOR_PHRASE_WORDS_[march ,]', 3.895150475528252e-05), (u'TAB_e1_NEIGHBOR_PHRASE_WORDS_[- base]', 3.895150475528252e-05), (u'TAB_e1_NEIGHBOR_PHRASE_WORDS_[junction-to-ambient]', 3.895150475528252e-05), (u'TAB_e1_NEIGHBOR_PHRASE_WORDS_[exceeding maximum]', 3.895150475528252e-05), (u'TAB_e1_NEIGHBOR_PHRASE_WORDS_[characteristic]', 3.895150475528252e-05), (u'TAB_e1_NEIGHBOR_PHRASE_WORDS_[collector -]', 3.895150475528252e-05), (u'TAB_e1_NEIGHBOR_PHRASE_WORDS_[( br]', 3.895150475528252e-05), (u'TAB_e1_NEIGHBOR_PHRASE_WORDS_[assembly location]', 3.895150475528252e-05), (u'TAB_e1_NEIGHBOR_PHRASE_WORDS_[strategy and]', 3.895150475528252e-05), (u'TAB_e1_NEIGHBOR_PHRASE_WORDS_[location]', 3.895150475528252e-05), (u'TAB_e1_NEIGHBOR_PHRASE_WORDS_[1.0]', 3.895150475528252e-05), (u'TAB_e1_NEIGHBOR_PHRASE_WORDS_[, 2007]', 3.895150475528252e-05), (u'TAB_e1_NEIGHBOR_PHRASE_WORDS_[note :]', 3.895150475528252e-05), (u'TAB_e1_NEIGHBOR_PHRASE_WORDS_[diagram]', 3.895150475528252e-05), (u'TAB_e1_NEIGHBOR_PHRASE_WORDS_[emitter -]', 3.895150475528252e-05), (u'TAB_e1_NEIGHBOR_PHRASE_WORDS_[tape &]', 3.895150475528252e-05), (u'TAB_e1_NEIGHBOR_PHRASE_WORDS_[junction-to-case]', 3.895150475528252e-05), (u'TAB_e1_NEIGHBOR_PHRASE_WORDS_[br )]', 3.895150475528252e-05), (u'TAB_e1_NEIGHBOR_PHRASE_WORDS_[npn silicon]', 3.895150475528252e-05), (u'TAB_e1_NEIGHBOR_PHRASE_WORDS_[download]', 3.895150475528252e-05), (u'TAB_e1_NEIGHBOR_PHRASE_WORDS_[bc182]', 3.895150475528252e-05), (u'TAB_e1_NEIGHBOR_PHRASE_WORDS_[, brd8011/d]', 3.895150475528252e-05), (u'TAB_e1_NEIGHBOR_PHRASE_WORDS_[solderrm/d .]', 3.895150475528252e-05), (u'TAB_e1_NEIGHBOR_PHRASE_WORDS_[to our]', 3.895150475528252e-05), (u'TAB_e1_NEIGHBOR_PHRASE_WORDS_[bc]', 3.895150475528252e-05), (u'TAB_e1_NEIGHBOR_PHRASE_WORDS_[= assembly]', 3.895150475528252e-05), (u'TAB_e1_NEIGHBOR_PHRASE_WORDS_[either]', 3.895150475528252e-05), (u'TAB_e1_NEIGHBOR_PHRASE_WORDS_[straight]', 3.895150475528252e-05), (u'TAB_e1_NEIGHBOR_PHRASE_WORDS_[http://onsemi.com]', 3.895150475528252e-05), (u'TAB_e1_NEIGHBOR_PHRASE_WORDS_[techniques]', 3.895150475528252e-05), (u'TAB_e1_NEIGHBOR_PHRASE_WORDS_[refer to]', 3.895150475528252e-05), (u'TAB_e1_NEIGHBOR_PHRASE_WORDS_[and soldering]', 3.895150475528252e-05), (u'TAB_e1_NEIGHBOR_PHRASE_WORDS_[details]', 3.895150475528252e-05), (u'TAB_e1_NEIGHBOR_PHRASE_WORDS_[leakage]', 3.895150475528252e-05), (u'TAB_e1_NEIGHBOR_PHRASE_WORDS_[= 10]', 3.895150475528252e-05), (u'TAB_e1_NEIGHBOR_PHRASE_WORDS_[madc]', 3.895150475528252e-05), (u'TAB_e1_NEIGHBOR_PHRASE_WORDS_[reference]', 3.895150475528252e-05), (u'TAB_e1_NEIGHBOR_PHRASE_WORDS_[including part]', 3.895150475528252e-05), (u'TAB_e1_NEIGHBOR_PHRASE_WORDS_[/ bulk]', 3.895150475528252e-05), (u'TAB_e1_NEIGHBOR_PHRASE_WORDS_[w]', 3.895150475528252e-05), (u'TAB_e1_NEIGHBOR_PHRASE_WORDS_[a =]', 3.895150475528252e-05), (u'TAB_e1_NEIGHBOR_PHRASE_WORDS_[stress]', 3.895150475528252e-05), (u'TAB_e1_NEIGHBOR_PHRASE_WORDS_[reel packaging]', 3.895150475528252e-05), (u'TAB_e1_NEIGHBOR_PHRASE_WORDS_[reel ammo]', 3.895150475528252e-05), (u'TAB_e1_NEIGHBOR_PHRASE_WORDS_[brochure]', 3.895150475528252e-05), (u'TAB_e1_NEIGHBOR_PHRASE_WORDS_[for information]', 3.895150475528252e-05), (u'TAB_e1_NEIGHBOR_PHRASE_WORDS_[additional]', 3.895150475528252e-05), (u'TAB_e1_NEIGHBOR_PHRASE_WORDS_[a ,]', 3.895150475528252e-05), (u'TAB_e1_NEIGHBOR_PHRASE_WORDS_[rev.]', 3.895150475528252e-05), (u'TAB_e1_NEIGHBOR_PHRASE_WORDS_[please download]', 3.895150475528252e-05), (u'TAB_e1_NEIGHBOR_PHRASE_WORDS_[work]', 3.895150475528252e-05), (u'TAB_e1_NEIGHBOR_PHRASE_WORDS_[350]', 3.895150475528252e-05), (u'TAB_e1_NEIGHBOR_PHRASE_WORDS_[) ebo]', 3.895150475528252e-05), (u'TAB_e1_NEIGHBOR_PHRASE_WORDS_[information on]', 3.895150475528252e-05), (u'TAB_e1_NEIGHBOR_PHRASE_WORDS_[bc182g]', 3.895150475528252e-05), (u'TAB_e1_NEIGHBOR_PHRASE_WORDS_[our tape]', 3.895150475528252e-05), (u'TAB_e1_NEIGHBOR_PHRASE_WORDS_[*]', 3.895150475528252e-05), (u'TAB_e1_NEIGHBOR_PHRASE_WORDS_[total device]', 3.895150475528252e-05), (u'TAB_e1_NEIGHBOR_PHRASE_WORDS_[manual ,]', 3.895150475528252e-05), (u'TAB_e1_NEIGHBOR_PHRASE_WORDS_[bulk pack]', 3.895150475528252e-05), (u'TAB_e1_NEIGHBOR_PHRASE_WORDS_[bent]', 3.895150475528252e-05), (u'TAB_e1_NEIGHBOR_PHRASE_WORDS_[orientation]', 3.895150475528252e-05), (u'TAB_e1_NEIGHBOR_PHRASE_WORDS_[our pb-free]', 3.895150475528252e-05), (u'TAB_e1_NEIGHBOR_PHRASE_WORDS_[, junction-to-ambient]', 3.895150475528252e-05), (u'TAB_e1_NEIGHBOR_PHRASE_WORDS_[total]', 3.895150475528252e-05), (u'TAB_e1_NEIGHBOR_PHRASE_WORDS_[( pb-free]', 3.895150475528252e-05), (u'TAB_e1_NEIGHBOR_PHRASE_WORDS_[specifications]', 3.895150475528252e-05), (u'TAB_e1_NEIGHBOR_PHRASE_WORDS_[( note]', 3.895150475528252e-05), (u'TAB_e1_NEIGHBOR_PHRASE_WORDS_[pb-free package]', 3.895150475528252e-05), (u'TAB_e1_NEIGHBOR_PHRASE_WORDS_[collector 1]', 3.895150475528252e-05), (u'TAB_e1_NEIGHBOR_PHRASE_WORDS_[stress ratings]', 3.895150475528252e-05), (u'TAB_e1_NEIGHBOR_PHRASE_WORDS_[year]', 3.895150475528252e-05), (u'TAB_e1_NEIGHBOR_PHRASE_WORDS_[specifications ,]', 3.895150475528252e-05), (u'TAB_e1_NEIGHBOR_PHRASE_WORDS_[rev. 5]', 3.895150475528252e-05), (u'TAB_e1_NEIGHBOR_PHRASE_WORDS_[= pb-free]', 3.895150475528252e-05), (u'TAB_e1_NEIGHBOR_PHRASE_WORDS_[case 29]', 3.895150475528252e-05), (u'TAB_e1_NEIGHBOR_PHRASE_WORDS_[br]', 3.895150475528252e-05), (u'TAB_e1_NEIGHBOR_PHRASE_WORDS_[off characteristics]', 3.895150475528252e-05), (u'TAB_e1_NEIGHBOR_PHRASE_WORDS_[tape sizes]', 3.895150475528252e-05), (u'TAB_e1_NEIGHBOR_PHRASE_WORDS_[to +150]', 3.895150475528252e-05), (u'TAB_e1_NEIGHBOR_PHRASE_WORDS_[vdc]', 3.895150475528252e-05), (u'TAB_e1_NEIGHBOR_PHRASE_WORDS_[mw mw]', 3.895150475528252e-05), (u'TAB_e1_NEIGHBOR_PHRASE_WORDS_[assembly]', 3.895150475528252e-05), (u'TAB_e1_NEIGHBOR_PHRASE_WORDS_[bc182bg]', 3.895150475528252e-05), (u'TAB_e1_NEIGHBOR_PHRASE_WORDS_[c derate]', 3.895150475528252e-05), (u'TAB_e1_NEIGHBOR_PHRASE_WORDS_[above 25]', 3.895150475528252e-05), (u'TAB_e1_NEIGHBOR_PHRASE_WORDS_[on semiconductor]', 3.895150475528252e-05), (u'TAB_e1_NEIGHBOR_PHRASE_WORDS_[including]', 3.895150475528252e-05), (u'TAB_e1_NEIGHBOR_PHRASE_WORDS_[w =]', 3.895150475528252e-05), (u'TAB_e1_NEIGHBOR_PHRASE_WORDS_[8.0]', 3.895150475528252e-05), (u'TAB_e1_NEIGHBOR_PHRASE_WORDS_[) cbo]', 3.895150475528252e-05), (u'TAB_e1_NEIGHBOR_PHRASE_WORDS_[2.0 ma]', 3.895150475528252e-05), (u'TAB_e1_NEIGHBOR_PHRASE_WORDS_[on tape]', 3.895150475528252e-05), (u'TAB_e1_NEIGHBOR_PHRASE_WORDS_[357]', 3.895150475528252e-05), (u'TAB_e1_NEIGHBOR_PHRASE_WORDS_[emitter voltage]', 3.895150475528252e-05), (u'TAB_e1_NEIGHBOR_PHRASE_WORDS_[semiconductor components]', 3.895150475528252e-05), (u'TAB_e1_NEIGHBOR_PHRASE_WORDS_[emitter breakdown]', 3.895150475528252e-05), (u'TAB_e1_NEIGHBOR_PHRASE_WORDS_[* for]', 3.895150475528252e-05), (u'TAB_e1_NEIGHBOR_PHRASE_WORDS_[mounting techniques]', 3.895150475528252e-05), (u'TAB_e1_NEIGHBOR_PHRASE_WORDS_[brochure ,]', 3.895150475528252e-05), (u'TAB_e1_NEIGHBOR_PHRASE_WORDS_[to-92 case]', 3.895150475528252e-05), (u'TAB_e1_NEIGHBOR_PHRASE_WORDS_[either location]', 3.895150475528252e-05), (u'TAB_e1_NEIGHBOR_PHRASE_WORDS_[y =]', 3.895150475528252e-05), (u'TDL_DEP_LABEL:BETWEEN-MENTION-and-MENTION[ROOT compound]', 3.346107273077494e-05), (u'TAB_e1_NEIGHBOR_PHRASE_WORDS_[sot-23 (]', -1.7516206392913004e-05), (u'TAB_e1_NEIGHBOR_PHRASE_WORDS_[-16]', -1.7516206392913004e-05), (u'TAB_e1_NEIGHBOR_PHRASE_WORDS_[cesat]', -1.7516206392913004e-05), (u'TAB_e1_NEIGHBOR_PHRASE_WORDS_[ul94v-0]', -1.7516206392913004e-05), (u'TAB_e1_NEIGHBOR_PHRASE_WORDS_[si-epi-planar transistors]', -1.7516206392913004e-05), (u'TAB_e1_NEIGHBOR_PHRASE_WORDS_[- lagerungstemperatur]', -1.7516206392913004e-05), (u'TAB_e1_NEIGHBOR_PHRASE_WORDS_[- basis-spitzenstrom]', -1.7516206392913004e-05), (u'TAB_e1_NEIGHBOR_PHRASE_WORDS_[peak base]', -1.7516206392913004e-05), (u'TAB_e1_NEIGHBOR_PHRASE_WORDS_[25 v]', -1.7516206392913004e-05), (u'TAB_e1_NEIGHBOR_PHRASE_WORDS_[collector-base cutoff]', -1.7516206392913004e-05), (u'TAB_e1_NEIGHBOR_PHRASE_WORDS_[kollektorstrom]', -1.7516206392913004e-05), (u'TAB_e1_NEIGHBOR_PHRASE_WORDS_[or 6cr]', -1.7516206392913004e-05), (u'TAB_e1_NEIGHBOR_PHRASE_WORDS_[tot]', -1.7516206392913004e-05), (u'TAB_e1_NEIGHBOR_PHRASE_WORDS_[0.4]', -1.7516206392913004e-05), (u'TAB_e1_NEIGHBOR_PHRASE_WORDS_[die oberfl?chenmontage]', -1.7516206392913004e-05), (u'TAB_e1_NEIGHBOR_PHRASE_WORDS_[e 3]', -1.7516206392913004e-05), (u'TAB_e1_NEIGHBOR_PHRASE_WORDS_[+150 ?]', -1.7516206392913004e-05), (u'TAB_e1_NEIGHBOR_PHRASE_WORDS_[collector-emitter-volt]', -1.7516206392913004e-05), (u'TAB_e1_NEIGHBOR_PHRASE_WORDS_[schaltverh?ltnis]', -1.7516206392913004e-05), (u'TAB_e1_NEIGHBOR_PHRASE_WORDS_[group]', -1.7516206392913004e-05), (u'TAB_e1_NEIGHBOR_PHRASE_WORDS_[ma?e []', -1.7516206392913004e-05), (u'TAB_e1_NEIGHBOR_PHRASE_WORDS_[surface mount]', -1.7516206392913004e-05), (u'TAB_e1_NEIGHBOR_PHRASE_WORDS_[approx]', -1.7516206392913004e-05), (u'TAB_e1_NEIGHBOR_PHRASE_WORDS_[pnp-transistoren]', -1.7516206392913004e-05), (u'TAB_e1_NEIGHBOR_PHRASE_WORDS_[] 1]', -1.7516206392913004e-05), (u'TAB_e1_NEIGHBOR_PHRASE_WORDS_[= 1]', -1.7516206392913004e-05), (u'TAB_e1_NEIGHBOR_PHRASE_WORDS_[0.7]', -1.7516206392913004e-05), (u'TAB_e1_NEIGHBOR_PHRASE_WORDS_[voltage -]', -1.7516206392913004e-05), (u'TAB_e1_NEIGHBOR_PHRASE_WORDS_[basis-spitzenstrom]', -1.7516206392913004e-05), (u'TAB_e1_NEIGHBOR_PHRASE_WORDS_[45 v]', -1.7516206392913004e-05), (u'TAB_e1_NEIGHBOR_PHRASE_WORDS_[auf rolle]', -1.7516206392913004e-05), (u'TAB_e1_NEIGHBOR_PHRASE_WORDS_[pulses]', -1.7516206392913004e-05), (u'TAB_e1_NEIGHBOR_PHRASE_WORDS_[300 ?]', -1.7516206392913004e-05), (u'TAB_e1_NEIGHBOR_PHRASE_WORDS_[w?rmewiderstand sperrschicht]', -1.7516206392913004e-05), (u'TAB_e1_NEIGHBOR_PHRASE_WORDS_[taped and]', -1.7516206392913004e-05), (u'TAB_e1_NEIGHBOR_PHRASE_WORDS_[[ mm]', -1.7516206392913004e-05), (u'TAB_e1_NEIGHBOR_PHRASE_WORDS_[- kollektor-basis-reststrom]', -1.7516206392913004e-05), (u'TAB_e1_NEIGHBOR_PHRASE_WORDS_[geh?usematerial]', -1.7516206392913004e-05), (u'TAB_e1_NEIGHBOR_PHRASE_WORDS_[2.9]', -1.7516206392913004e-05), (u'TAB_e1_NEIGHBOR_PHRASE_WORDS_[and reeled]', -1.7516206392913004e-05), (u'TAB_e1_NEIGHBOR_PHRASE_WORDS_[pulses t]', -1.7516206392913004e-05), (u'TAB_e1_NEIGHBOR_PHRASE_WORDS_[sp]', -1.7516206392913004e-05), (u'TAB_e1_NEIGHBOR_PHRASE_WORDS_[komplement?re pnp-transistoren]', -1.7516206392913004e-05), (u'TAB_e1_NEIGHBOR_PHRASE_WORDS_[collector-base-volt]', -1.7516206392913004e-05), (u'TAB_e1_NEIGHBOR_PHRASE_WORDS_[6cs]', -1.7516206392913004e-05), (u'TAB_e1_NEIGHBOR_PHRASE_WORDS_[ttigungsspannung]', -1.7516206392913004e-05), (u'TAB_e1_NEIGHBOR_PHRASE_WORDS_[type stempelung]', -1.7516206392913004e-05), (u'TAB_e1_NEIGHBOR_PHRASE_WORDS_[type code]', -1.7516206392913004e-05), (u'TAB_e1_NEIGHBOR_PHRASE_WORDS_[- basis-emitter-s]', -1.7516206392913004e-05), (u'TAB_e1_NEIGHBOR_PHRASE_WORDS_[kollektor-basis-spannung]', -1.7516206392913004e-05), (u'TAB_e1_NEIGHBOR_PHRASE_WORDS_[mhz -]', -1.7516206392913004e-05), (u'TAB_e1_NEIGHBOR_PHRASE_WORDS_[1 a]', -1.7516206392913004e-05), (u'TAB_e1_NEIGHBOR_PHRASE_WORDS_[or 6ct]', -1.7516206392913004e-05), (u'TAB_e1_NEIGHBOR_PHRASE_WORDS_[marking of]', -1.7516206392913004e-05), (u'TAB_e1_NEIGHBOR_PHRASE_WORDS_[duty]', -1.7516206392913004e-05), (u'TAB_e1_NEIGHBOR_PHRASE_WORDS_[500 mw]', -1.7516206392913004e-05), (u'TAB_e1_NEIGHBOR_PHRASE_WORDS_[300]', -1.7516206392913004e-05), (u'TAB_e1_NEIGHBOR_PHRASE_WORDS_[group -25]', -1.7516206392913004e-05), (u'TAB_e1_NEIGHBOR_PHRASE_WORDS_[open )]', -1.7516206392913004e-05), (u'TAB_e1_NEIGHBOR_PHRASE_WORDS_[- kollektor-basis-spannung]', -1.7516206392913004e-05), (u'TAB_e1_NEIGHBOR_PHRASE_WORDS_[sperrschichttemperatur]', -1.7516206392913004e-05), (u'TAB_e1_NEIGHBOR_PHRASE_WORDS_[115 ?]', -1.7516206392913004e-05), (u'TAB_e1_NEIGHBOR_PHRASE_WORDS_[temperature -]', -1.7516206392913004e-05), (u'TAB_e1_NEIGHBOR_PHRASE_WORDS_[b open]', -1.7516206392913004e-05), (u'TAB_e1_NEIGHBOR_PHRASE_WORDS_[kunststoffgeh?use]', -1.7516206392913004e-05), (u'TAB_e1_NEIGHBOR_PHRASE_WORDS_[45]', -1.7516206392913004e-05), (u'TAB_e1_NEIGHBOR_PHRASE_WORDS_[= e]', -1.7516206392913004e-05), (u'TAB_e1_NEIGHBOR_PHRASE_WORDS_[recommended complementary]', -1.7516206392913004e-05), (u'TAB_e1_NEIGHBOR_PHRASE_WORDS_[complementary]', -1.7516206392913004e-05), (u'TAB_e1_NEIGHBOR_PHRASE_WORDS_[1.2 v]', -1.7516206392913004e-05), (u'TAB_e1_NEIGHBOR_PHRASE_WORDS_[ratings (]', -1.7516206392913004e-05), (u'TAB_e1_NEIGHBOR_PHRASE_WORDS_[lagerungstemperatur]', -1.7516206392913004e-05), (u'TAB_e1_NEIGHBOR_PHRASE_WORDS_[kollektor-emitter-spannung b]', -1.7516206392913004e-05), (u'TAB_e1_NEIGHBOR_PHRASE_WORDS_[verlustleistung t]', -1.7516206392913004e-05), (u'TAB_e1_NEIGHBOR_PHRASE_WORDS_[auf]', -1.7516206392913004e-05), (u'TAB_e1_NEIGHBOR_PHRASE_WORDS_[pro]', -1.7516206392913004e-05), (u'TAB_e1_NEIGHBOR_PHRASE_WORDS_[4 v]', -1.7516206392913004e-05), (u'TAB_e1_NEIGHBOR_PHRASE_WORDS_[0.7 v]', -1.7516206392913004e-05), (u'TAB_e1_NEIGHBOR_PHRASE_WORDS_[2 =]', -1.7516206392913004e-05), (u'TAB_e1_NEIGHBOR_PHRASE_WORDS_[f?r die]', -1.7516206392913004e-05), (u'TAB_e1_NEIGHBOR_PHRASE_WORDS_[weight approx]', -1.7516206392913004e-05), (u'TAB_e1_NEIGHBOR_PHRASE_WORDS_[- ma?e]', -1.7516206392913004e-05), (u'TAB_e1_NEIGHBOR_PHRASE_WORDS_[to-236 )]', -1.7516206392913004e-05), (u'TAB_e1_NEIGHBOR_PHRASE_WORDS_[- emitter-basis-spannung]', -1.7516206392913004e-05), (u'TAB_e1_NEIGHBOR_PHRASE_WORDS_[complementary pnp]', -1.7516206392913004e-05), (u'TAB_e1_NEIGHBOR_PHRASE_WORDS_[= b]', -1.7516206392913004e-05), (u'TAB_e1_NEIGHBOR_PHRASE_WORDS_[) kennwerte]', -1.7516206392913004e-05), (u'TAB_e1_NEIGHBOR_PHRASE_WORDS_[si-epi-planar low]', -1.7516206392913004e-05), (u'TAB_e1_NEIGHBOR_PHRASE_WORDS_[thsp]', -1.7516206392913004e-05), (u'TAB_e1_NEIGHBOR_PHRASE_WORDS_[bc818k]', -1.7516206392913004e-05), (u'TAB_e1_NEIGHBOR_PHRASE_WORDS_[115]', -1.7516206392913004e-05), (u'TAB_e1_NEIGHBOR_PHRASE_WORDS_[( e]', -1.7516206392913004e-05), (u'TAB_e1_NEIGHBOR_PHRASE_WORDS_[gain -]', -1.7516206392913004e-05), (u'TAB_e1_NEIGHBOR_PHRASE_WORDS_[all groups]', -1.7516206392913004e-05), (u'TAB_e1_NEIGHBOR_PHRASE_WORDS_[nb]', -1.7516206392913004e-05), (u'TAB_e1_NEIGHBOR_PHRASE_WORDS_[http://www.diotec.com/ ?]', -1.7516206392913004e-05), (u'TAB_e1_NEIGHBOR_PHRASE_WORDS_[mhz f]', -1.7516206392913004e-05), (u'TAB_e1_NEIGHBOR_PHRASE_WORDS_[ma?e]', -1.7516206392913004e-05), (u'TAB_e1_NEIGHBOR_PHRASE_WORDS_[emitter-base-voltage]', -1.7516206392913004e-05), (u'TAB_e1_NEIGHBOR_PHRASE_WORDS_[version 2011-10-26]', -1.7516206392913004e-05), (u'TAB_e1_NEIGHBOR_PHRASE_WORDS_[plastic case]', -1.7516206392913004e-05), (u'TAB_e1_NEIGHBOR_PHRASE_WORDS_[2.5 max]', -1.7516206392913004e-05), (u'TAB_e1_NEIGHBOR_PHRASE_WORDS_[-40]', -1.7516206392913004e-05), (u'TAB_e1_NEIGHBOR_PHRASE_WORDS_[der lieferbaren]', -1.7516206392913004e-05), (u'TAB_e1_NEIGHBOR_PHRASE_WORDS_[gegurtet]', -1.7516206392913004e-05), (u'TAB_e1_NEIGHBOR_PHRASE_WORDS_[emitter-base-voltage -]', -1.7516206392913004e-05), (u'TAB_e1_NEIGHBOR_PHRASE_WORDS_[- kollektor-basis-stromverh]', -1.7516206392913004e-05), (u'TAB_e1_NEIGHBOR_PHRASE_WORDS_[dimensions -]', -1.7516206392913004e-05), (u'TAB_e1_NEIGHBOR_PHRASE_WORDS_[standard lieferform]', -1.7516206392913004e-05), (u'TAB_e1_NEIGHBOR_PHRASE_WORDS_[= c]', -1.7516206392913004e-05), (u'TAB_e1_NEIGHBOR_PHRASE_WORDS_[basis-emitter-s ?]', -1.7516206392913004e-05), (u'TAB_e1_NEIGHBOR_PHRASE_WORDS_[1 v]', -1.7516206392913004e-05), (u'TAB_e1_NEIGHBOR_PHRASE_WORDS_[170]', -1.7516206392913004e-05), (u'TAB_e1_NEIGHBOR_PHRASE_WORDS_[der]', -1.7516206392913004e-05), (u'TAB_e1_NEIGHBOR_PHRASE_WORDS_[diotec]', -1.7516206392913004e-05), (u'TAB_e1_NEIGHBOR_PHRASE_WORDS_[ma all]', -1.7516206392913004e-05), (u'TAB_e1_NEIGHBOR_PHRASE_WORDS_[( to-236]', -1.7516206392913004e-05), (u'TAB_e1_NEIGHBOR_PHRASE_WORDS_[emitter-base cutoff]', -1.7516206392913004e-05), (u'TAB_e1_NEIGHBOR_PHRASE_WORDS_[rolle]', -1.7516206392913004e-05), (u'TAB_e1_NEIGHBOR_PHRASE_WORDS_[1 mhz]', -1.7516206392913004e-05), (u'TAB_e1_NEIGHBOR_PHRASE_WORDS_[besat]', -1.7516206392913004e-05), (u'TAB_e1_NEIGHBOR_PHRASE_WORDS_[gewicht ca]', -1.7516206392913004e-05), (u'TAB_e1_NEIGHBOR_PHRASE_WORDS_[semiconductor ag]', -1.7516206392913004e-05), (u'TAB_e1_NEIGHBOR_PHRASE_WORDS_[e open]', -1.7516206392913004e-05), (u'TAB_e1_NEIGHBOR_PHRASE_WORDS_[kollektor-emitter-s]', -1.7516206392913004e-05), (u'TAB_e1_NEIGHBOR_PHRASE_WORDS_[lieferform gegurtet]', -1.7516206392913004e-05), (u'TAB_e1_NEIGHBOR_PHRASE_WORDS_[groups per]', -1.7516206392913004e-05), (u'TAB_e1_NEIGHBOR_PHRASE_WORDS_[- kollektorstrom]', -1.7516206392913004e-05), (u'TAB_e1_NEIGHBOR_PHRASE_WORDS_[stromverst?rkungsgruppen]', -1.7516206392913004e-05), (u'TAB_e1_NEIGHBOR_PHRASE_WORDS_[geh?usematerial ul94v-0]', -1.7516206392913004e-05), (u'TAB_e1_NEIGHBOR_PHRASE_WORDS_[<< nb]', -1.7516206392913004e-05), (u'TAB_e1_NEIGHBOR_PHRASE_WORDS_[pro typ]', -1.7516206392913004e-05), (u'TAB_e1_NEIGHBOR_PHRASE_WORDS_[160]', -1.7516206392913004e-05), (u'TAB_e1_NEIGHBOR_PHRASE_WORDS_[cycle ?]', -1.7516206392913004e-05), (u'TAB_e1_NEIGHBOR_PHRASE_WORDS_[per]', -1.7516206392913004e-05), (u'TAB_e1_NEIGHBOR_PHRASE_WORDS_[verlustleistung]', -1.7516206392913004e-05), (u'TAB_e1_NEIGHBOR_PHRASE_WORDS_[all]', -1.7516206392913004e-05), (u'TAB_e1_NEIGHBOR_PHRASE_WORDS_[reeled standard]', -1.7516206392913004e-05), (u'TAB_e1_NEIGHBOR_PHRASE_WORDS_[kollektor-emitter-spannung]', -1.7516206392913004e-05), (u'TAB_e1_NEIGHBOR_PHRASE_WORDS_[peak collector]', -1.7516206392913004e-05), (u'TAB_e1_NEIGHBOR_PHRASE_WORDS_[emitter-basis-spannung]', -1.7516206392913004e-05), (u'TAB_e1_NEIGHBOR_PHRASE_WORDS_[group -16]', -1.7516206392913004e-05), (u'TAB_e1_NEIGHBOR_PHRASE_WORDS_[s ,]', -1.7516206392913004e-05), (u'TAB_e1_NEIGHBOR_PHRASE_WORDS_[ttigungsspg]', -1.7516206392913004e-05), (u'TAB_e1_NEIGHBOR_PHRASE_WORDS_[rth transistoren]', -1.7516206392913004e-05), (u'TAB_e1_NEIGHBOR_PHRASE_WORDS_[3 pf]', -1.7516206392913004e-05), (u'TAB_e1_NEIGHBOR_PHRASE_WORDS_[- l?tpunkt]', -1.7516206392913004e-05), (u'TAB_e1_NEIGHBOR_PHRASE_WORDS_[low rth]', -1.7516206392913004e-05), (u'TAB_e1_NEIGHBOR_PHRASE_WORDS_[2 tested]', -1.7516206392913004e-05), (u'TAB_e1_NEIGHBOR_PHRASE_WORDS_[- kollektor-basis-kapazit]', -1.7516206392913004e-05), (u'TAB_e1_NEIGHBOR_PHRASE_WORDS_[f?r]', -1.7516206392913004e-05), (u'TAB_e1_NEIGHBOR_PHRASE_WORDS_[= 300]', -1.7516206392913004e-05), (u'TAB_e1_NEIGHBOR_PHRASE_WORDS_[oberfl?chenmontage]', -1.7516206392913004e-05), (u'TAB_e1_NEIGHBOR_PHRASE_WORDS_[30 v]', -1.7516206392913004e-05), (u'TAB_e1_NEIGHBOR_PHRASE_WORDS_[100 na]', -1.7516206392913004e-05), (u'TAB_e1_NEIGHBOR_PHRASE_WORDS_[stromverst?rkungsgruppen pro]', -1.7516206392913004e-05), (u'TAB_e1_NEIGHBOR_PHRASE_WORDS_[, (]', -1.7516206392913004e-05), (u'TAB_e1_NEIGHBOR_PHRASE_WORDS_[- 100]', -1.7516206392913004e-05), (u'TAB_e1_NEIGHBOR_PHRASE_WORDS_[6ct]', -1.7516206392913004e-05), (u'TAB_e1_NEIGHBOR_PHRASE_WORDS_[http://www.diotec.com/]', -1.7516206392913004e-05), (u'TAB_e1_NEIGHBOR_PHRASE_WORDS_[dissipation -]', -1.7516206392913004e-05), (u'TAB_e1_NEIGHBOR_PHRASE_WORDS_[emitter-basis-spannung c]', -1.7516206392913004e-05), (u'TAB_e1_NEIGHBOR_PHRASE_WORDS_[500 ma]', -1.7516206392913004e-05), (u'TAB_e1_NEIGHBOR_PHRASE_WORDS_[2011-10-26]', -1.7516206392913004e-05), (u'TAB_e1_NEIGHBOR_PHRASE_WORDS_[sperrschicht -]', -1.7516206392913004e-05), (u'TAB_e1_NEIGHBOR_PHRASE_WORDS_[stempelung]', -1.7516206392913004e-05), (u'TAB_e1_NEIGHBOR_PHRASE_WORDS_[of available]', -1.7516206392913004e-05), (u'TAB_e1_NEIGHBOR_PHRASE_WORDS_[mount low]', -1.7516206392913004e-05), (u'TAB_e1_NEIGHBOR_PHRASE_WORDS_[gain groups]', -1.7516206392913004e-05), (u'TAB_e1_NEIGHBOR_PHRASE_WORDS_[with pulses]', -1.7516206392913004e-05), (u'TAB_e1_NEIGHBOR_PHRASE_WORDS_[stempelung der]', -1.7516206392913004e-05), (u'TAB_e1_NEIGHBOR_PHRASE_WORDS_[) grenzwerte]', -1.7516206392913004e-05), (u'TAB_e1_NEIGHBOR_PHRASE_WORDS_[pnp transistors]', -1.7516206392913004e-05), (u'TAB_e1_NEIGHBOR_PHRASE_WORDS_[ag]', -1.7516206392913004e-05), (u'TAB_e1_NEIGHBOR_PHRASE_WORDS_[collector-emitter-volt .]', -1.7516206392913004e-05), (u'TAB_e1_NEIGHBOR_PHRASE_WORDS_[base current]', -1.7516206392913004e-05), (u'TAB_e1_NEIGHBOR_PHRASE_WORDS_[klassifiziert]', -1.7516206392913004e-05), (u'TAB_e1_NEIGHBOR_PHRASE_WORDS_[- emitter-basis-reststrom]', -1.7516206392913004e-05), (u'TAB_e1_NEIGHBOR_PHRASE_WORDS_[50 ma]', -1.7516206392913004e-05), (u'TAB_e1_NEIGHBOR_PHRASE_WORDS_[10 v]', -1.7516206392913004e-05), (u'TAB_e1_NEIGHBOR_PHRASE_WORDS_[empfohlene]', -1.7516206392913004e-05), (u'TAB_e1_NEIGHBOR_PHRASE_WORDS_[1 2]', -1.7516206392913004e-05), (u'TAB_e1_NEIGHBOR_PHRASE_WORDS_[kollektor-basis-spannung c]', -1.7516206392913004e-05), (u'TAB_e1_NEIGHBOR_PHRASE_WORDS_[gegurtet auf]', -1.7516206392913004e-05), (u'TAB_e1_NEIGHBOR_PHRASE_WORDS_[sperrschicht]', -1.7516206392913004e-05), (u'TAB_e1_NEIGHBOR_PHRASE_WORDS_[tested with]', -1.7516206392913004e-05), (u'TAB_e1_NEIGHBOR_PHRASE_WORDS_[6cr]', -1.7516206392913004e-05), (u'TAB_e1_NEIGHBOR_PHRASE_WORDS_[collector-base capacitance]', -1.7516206392913004e-05), (u'TAB_e1_NEIGHBOR_PHRASE_WORDS_[transitfrequenz]', -1.7516206392913004e-05), (u'TAB_e1_NEIGHBOR_PHRASE_WORDS_[kollektorstrom (]', -1.7516206392913004e-05), (u'TAB_e1_NEIGHBOR_PHRASE_WORDS_[duty cycle]', -1.7516206392913004e-05), (u'TAB_e1_NEIGHBOR_PHRASE_WORDS_[empfohlene komplement?re]', -1.7516206392913004e-05), (u'TAB_e1_NEIGHBOR_PHRASE_WORDS_[diotec semiconductor]', -1.7516206392913004e-05), (u'TAB_e1_NEIGHBOR_PHRASE_WORDS_[kollektor-basis-kapazit]', -1.7516206392913004e-05), (u'TAB_e1_NEIGHBOR_PHRASE_WORDS_[standard packaging]', -1.7516206392913004e-05), (u'TAB_e1_NEIGHBOR_PHRASE_WORDS_[basisstrom]', -1.7516206392913004e-05), (u'TAB_e1_NEIGHBOR_PHRASE_WORDS_[/ bc818k]', -1.7516206392913004e-05), (u'TAB_e1_NEIGHBOR_PHRASE_WORDS_[resistance junction]', -1.7516206392913004e-05), (u'TAB_e1_NEIGHBOR_PHRASE_WORDS_[bm]', -1.7516206392913004e-05), (u'TAB_e1_NEIGHBOR_PHRASE_WORDS_[1 =]', -1.7516206392913004e-05), (u'TAB_e1_NEIGHBOR_PHRASE_WORDS_[1.1]', -1.7516206392913004e-05), (u'TAB_e1_NEIGHBOR_PHRASE_WORDS_[mhz c]', -1.7516206392913004e-05), (u'TAB_e1_NEIGHBOR_PHRASE_WORDS_[approx .]', -1.7516206392913004e-05), (u'TAB_e1_NEIGHBOR_PHRASE_WORDS_[to-236]', -1.7516206392913004e-05), (u'TAB_e1_NEIGHBOR_PHRASE_WORDS_[1.9]', -1.7516206392913004e-05), (u'TAB_e1_NEIGHBOR_PHRASE_WORDS_[]]', -1.7516206392913004e-05), (u'TAB_e1_NEIGHBOR_PHRASE_WORDS_[to soldering]', -1.7516206392913004e-05), (u'TAB_e1_NEIGHBOR_PHRASE_WORDS_[3 =]', -1.7516206392913004e-05), (u'TAB_e1_NEIGHBOR_PHRASE_WORDS_[or 6cs]', -1.7516206392913004e-05), (u'TAB_e1_NEIGHBOR_PHRASE_WORDS_[bc817k]', -1.7516206392913004e-05), (u'TAB_e1_NEIGHBOR_PHRASE_WORDS_[open]', -1.7516206392913004e-05), (u'TAB_e1_NEIGHBOR_PHRASE_WORDS_[- basisstrom]', -1.7516206392913004e-05), (u'TAB_e1_NEIGHBOR_PHRASE_WORDS_[transistoren f?r]', -1.7516206392913004e-05), (u'TAB_e1_NEIGHBOR_PHRASE_WORDS_[- verlustleistung]', -1.7516206392913004e-05), (u'TAB_e1_NEIGHBOR_PHRASE_WORDS_[-25]', -1.7516206392913004e-05), (u'TAB_e1_NEIGHBOR_PHRASE_WORDS_[sperrschichttemperatur storage]', -1.7516206392913004e-05), (u'TAB_e1_NEIGHBOR_PHRASE_WORDS_[junction to]', -1.7516206392913004e-05), (u'TAB_e1_NEIGHBOR_PHRASE_WORDS_[rth]', -1.7516206392913004e-05), (u'TAB_e1_NEIGHBOR_PHRASE_WORDS_[kennwerte (]', -1.7516206392913004e-05), (u'TAB_e1_NEIGHBOR_PHRASE_WORDS_[-55 ?]', -1.7516206392913004e-05), (u'TAB_e1_NEIGHBOR_PHRASE_WORDS_[peak]', -1.7516206392913004e-05), (u'TAB_e1_NEIGHBOR_PHRASE_WORDS_[, schaltverh?ltnis]', -1.7516206392913004e-05), (u'TAB_e1_NEIGHBOR_PHRASE_WORDS_[kollektor-emitter-s ?]', -1.7516206392913004e-05), (u'TAB_e1_NEIGHBOR_PHRASE_WORDS_[collector-base-volt .]', -1.7516206392913004e-05), (u'TAB_e1_NEIGHBOR_PHRASE_WORDS_[[]', -1.7516206392913004e-05), (u'TAB_e1_NEIGHBOR_PHRASE_WORDS_[mm ]]', -1.7516206392913004e-05), (u'TAB_e1_NEIGHBOR_PHRASE_WORDS_[kollektor-basis-reststrom]', -1.7516206392913004e-05), (u'TAB_e1_NEIGHBOR_PHRASE_WORDS_[version]', -1.7516206392913004e-05), (u'TAB_e1_NEIGHBOR_PHRASE_WORDS_[c )]', -1.7516206392913004e-05), (u'TAB_e1_NEIGHBOR_PHRASE_WORDS_[200 ma]', -1.7516206392913004e-05), (u'TAB_e1_NEIGHBOR_PHRASE_WORDS_[70 k/w]', -1.7516206392913004e-05), (u'TAB_e1_NEIGHBOR_PHRASE_WORDS_[dises00645-1]', -1.7516206392913004e-05), (u'TAB_e1_NEIGHBOR_PHRASE_WORDS_[point]', -1.7516206392913004e-05), (u'TAB_e1_NEIGHBOR_PHRASE_WORDS_[groups]', -1.7516206392913004e-05), (u'TAB_e1_NEIGHBOR_PHRASE_WORDS_[lieferbaren]', -1.7516206392913004e-05), (u'TAB_e1_NEIGHBOR_PHRASE_WORDS_[si-epi-planar]', -1.7516206392913004e-05), (u'TAB_e1_NEIGHBOR_PHRASE_WORDS_[kollektor-basis-stromverh ?]', -1.7516206392913004e-05), (u'TAB_e1_NEIGHBOR_PHRASE_WORDS_[( c]', -1.7516206392913004e-05), (u'TAB_e1_NEIGHBOR_PHRASE_WORDS_[l?tpunkt]', -1.7516206392913004e-05), (u'TAB_e1_NEIGHBOR_PHRASE_WORDS_[500]', -1.7516206392913004e-05), (u'TAB_e1_NEIGHBOR_PHRASE_WORDS_[surface]', -1.7516206392913004e-05), (u'TAB_e1_NEIGHBOR_PHRASE_WORDS_[die]', -1.7516206392913004e-05), (u'TAB_e1_NEIGHBOR_PHRASE_WORDS_[w?rmewiderstand]', -1.7516206392913004e-05), (u'TAB_e1_NEIGHBOR_PHRASE_WORDS_[group -40]', -1.7516206392913004e-05), (u'TAB_e1_NEIGHBOR_PHRASE_WORDS_[1.3]', -1.7516206392913004e-05), (u'TAB_e1_NEIGHBOR_PHRASE_WORDS_[nb >]', -1.7516206392913004e-05), (u'TAB_e1_NEIGHBOR_PHRASE_WORDS_[b 2]', -1.7516206392913004e-05), (u'TAB_e1_NEIGHBOR_PHRASE_WORDS_[kollektor-basis-stromverh]', -1.7516206392913004e-05), (u'TAB_e1_NEIGHBOR_PHRASE_WORDS_[mount]', -1.7516206392913004e-05), (u'TAB_e1_NEIGHBOR_PHRASE_WORDS_[k/w]', -1.7516206392913004e-05), (u'TAB_e1_NEIGHBOR_PHRASE_WORDS_[packaging taped]', -1.7516206392913004e-05), (u'TAB_e1_NEIGHBOR_PHRASE_WORDS_[cm]', -1.7516206392913004e-05), (u'TAB_e1_NEIGHBOR_PHRASE_WORDS_[) i]', -1.7516206392913004e-05), (u'TAB_e1_NEIGHBOR_PHRASE_WORDS_[case kunststoffgeh?use]', -1.7516206392913004e-05), (u'TAB_e1_NEIGHBOR_PHRASE_WORDS_[ltnis]', -1.7516206392913004e-05), (u'TAB_e1_NEIGHBOR_PHRASE_WORDS_[- gewicht]', -1.7516206392913004e-05), (u'TAB_e1_NEIGHBOR_PHRASE_WORDS_[komplement?re]', -1.7516206392913004e-05), (u'TAB_e1_NEIGHBOR_PHRASE_WORDS_[170 mhz]', -1.7516206392913004e-05), (u'TAB_e1_NEIGHBOR_PHRASE_WORDS_[kollektor-basis-kapazit ?]', -1.7516206392913004e-05), (u'TAB_e1_NEIGHBOR_PHRASE_WORDS_[standard]', -1.7516206392913004e-05), (u'TAB_e1_NEIGHBOR_PHRASE_WORDS_[) min]', -1.7516206392913004e-05), (u'TAB_e1_NEIGHBOR_PHRASE_WORDS_[gewicht]', -1.7516206392913004e-05), (u'TAB_e1_NEIGHBOR_PHRASE_WORDS_[5 v]', -1.7516206392913004e-05), (u'TAB_e1_NEIGHBOR_PHRASE_WORDS_[- sperrschichttemperatur]', -1.7516206392913004e-05), (u'TAB_e1_NEIGHBOR_PHRASE_WORDS_[400]', -1.7516206392913004e-05), (u'TAB_e1_NEIGHBOR_PHRASE_WORDS_[>]', -1.7516206392913004e-05), (u'TAB_e1_NEIGHBOR_PHRASE_WORDS_[taped]', -1.7516206392913004e-05), (u'TAB_e1_NEIGHBOR_PHRASE_WORDS_[grenzwerte (]', -1.7516206392913004e-05), (u'TAB_e1_NEIGHBOR_PHRASE_WORDS_[kollektor-spitzenstrom]', -1.7516206392913004e-05), (u'TAB_e1_NEIGHBOR_PHRASE_WORDS_[schaltverh?ltnis ?]', -1.7516206392913004e-05), (u'TAB_e1_NEIGHBOR_PHRASE_WORDS_[lieferbaren stromverst?rkungsgruppen]', -1.7516206392913004e-05), (u'TAB_e1_NEIGHBOR_PHRASE_WORDS_[frequency -]', -1.7516206392913004e-05), (u'TAB_e1_NEIGHBOR_PHRASE_WORDS_[lieferform]', -1.7516206392913004e-05), (u'TAB_e1_NEIGHBOR_PHRASE_WORDS_[transistoren]', -1.7516206392913004e-05), (u'TAB_e1_NEIGHBOR_PHRASE_WORDS_[= i]', -1.7516206392913004e-05), (u'TAB_e1_NEIGHBOR_PHRASE_WORDS_[- kollektor-emitter-spannung]', -1.7516206392913004e-05), (u'TAB_e1_NEIGHBOR_PHRASE_WORDS_[, duty]', -1.7516206392913004e-05), (u'TAB_e1_NEIGHBOR_PHRASE_WORDS_[- kollektor-emitter-s]', -1.7516206392913004e-05), (u'TAB_e1_NEIGHBOR_PHRASE_WORDS_[bc817k /]', -1.7516206392913004e-05), (u'TAB_e1_NEIGHBOR_PHRASE_WORDS_[kennwerte]', -1.7516206392913004e-05), (u'TAB_e1_NEIGHBOR_PHRASE_WORDS_[> 70]', -1.7516206392913004e-05), (u'TAB_e1_NEIGHBOR_PHRASE_WORDS_[- transitfrequenz]', -1.7516206392913004e-05), (u'TAB_e1_NEIGHBOR_PHRASE_WORDS_[tested]', -1.7516206392913004e-05), (u'TAB_e1_NEIGHBOR_PHRASE_WORDS_[ttigungsspg .]', -1.7516206392913004e-05), (u'TAB_e1_NEIGHBOR_PHRASE_WORDS_[reeled]', -1.7516206392913004e-05), (u'TAB_e1_NEIGHBOR_PHRASE_WORDS_[capacitance -]', -1.7516206392913004e-05), (u'TAB_e1_NEIGHBOR_PHRASE_WORDS_[pf -]', -1.7516206392913004e-05), (u'TAB_e1_NEIGHBOR_PHRASE_WORDS_[per type]', -1.7516206392913004e-05), (u'TAB_e1_NEIGHBOR_PHRASE_WORDS_[630]', -1.7516206392913004e-05), (u'TAB_e1_NEIGHBOR_PHRASE_WORDS_[c open]', -1.7516206392913004e-05), (u'TAB_e1_NEIGHBOR_PHRASE_WORDS_[- kollektor-spitzenstrom]', -1.7516206392913004e-05), (u'TAB_e1_NEIGHBOR_PHRASE_WORDS_[available current]', -1.7516206392913004e-05), (u'TAB_e1_NEIGHBOR_PHRASE_WORDS_[2.5]', -1.7516206392913004e-05), (u'TAB_e1_NEIGHBOR_PHRASE_WORDS_[grenzwerte]', -1.7516206392913004e-05), (u'TAB_e1_NEIGHBOR_PHRASE_WORDS_[ca .]', -1.7516206392913004e-05), (u'TAB_e1_NEIGHBOR_PHRASE_WORDS_[<<]', -1.7516206392913004e-05), (u'TAB_e1_NEIGHBOR_PHRASE_WORDS_[emitter-basis-reststrom]', -1.7516206392913004e-05), (u'TAB_e1_NEIGHBOR_PHRASE_WORDS_[rth si-epi-planar]', -1.7516206392913004e-05), (u'TAB_e1_NEIGHBOR_PHRASE_WORDS_[basis-emitter-s]', -1.7516206392913004e-05), (u'TAB_e1_NEIGHBOR_PHRASE_WORDS_[soldering point]', -1.7516206392913004e-05), (u'TAB_e1_NEIGHBOR_PHRASE_WORDS_[ul94v-0 klassifiziert]', -1.7516206392913004e-05), (u'TAB_e1_NEIGHBOR_PHRASE_WORDS_[on]', 7.838414179054497e-06), (u'TAB_e1_NEIGHBOR_PHRASE_WORDS_[be]', 7.838414179054497e-06), (u'TAB_e1_NEIGHBOR_PHRASE_WORDS_[symbol]', 7.838414179054497e-06), (u'TAB_e1_NEIGHBOR_PHRASE_WORDS_[maximum ratings]', 7.838414179054497e-06), (u'TAB_e1_NEIGHBOR_PHRASE_WORDS_[:]', 7.838414179054497e-06), (u'TAB_e2_NEIGHBOR_PHRASE_WORDS_[transistors]', 3.309886599094008e-06)]\n"
     ]
    }
   ],
   "source": [
    "print disc_model.get_feature_weights(F_dev)"
   ]
  },
  {
   "cell_type": "code",
   "execution_count": 36,
   "metadata": {
    "collapsed": false
   },
   "outputs": [
    {
     "ename": "IndexError",
     "evalue": "list index out of range",
     "output_type": "error",
     "traceback": [
      "\u001b[1;31m---------------------------------------------------------------------------\u001b[0m",
      "\u001b[1;31mIndexError\u001b[0m                                Traceback (most recent call last)",
      "\u001b[1;32m<ipython-input-36-fa7e04ce4e08>\u001b[0m in \u001b[0;36m<module>\u001b[1;34m()\u001b[0m\n\u001b[0;32m      1\u001b[0m \u001b[1;32mfrom\u001b[0m \u001b[0mhardware_utils\u001b[0m \u001b[1;32mimport\u001b[0m \u001b[0mentity_to_candidates\u001b[0m\u001b[1;33m\u001b[0m\u001b[0m\n\u001b[0;32m      2\u001b[0m \u001b[1;33m\u001b[0m\u001b[0m\n\u001b[1;32m----> 3\u001b[1;33m \u001b[0mentity\u001b[0m \u001b[1;33m=\u001b[0m \u001b[0mFP_list\u001b[0m\u001b[1;33m[\u001b[0m\u001b[1;36m0\u001b[0m\u001b[1;33m]\u001b[0m\u001b[1;33m\u001b[0m\u001b[0m\n\u001b[0m\u001b[0;32m      4\u001b[0m \u001b[0mmatches\u001b[0m \u001b[1;33m=\u001b[0m \u001b[0mentity_to_candidates\u001b[0m\u001b[1;33m(\u001b[0m\u001b[0mentity\u001b[0m\u001b[1;33m,\u001b[0m \u001b[0mfp\u001b[0m\u001b[1;33m)\u001b[0m\u001b[1;33m\u001b[0m\u001b[0m\n\u001b[0;32m      5\u001b[0m \u001b[1;32mprint\u001b[0m \u001b[1;34m\"Entity: (%d matches)\"\u001b[0m \u001b[1;33m%\u001b[0m \u001b[0mlen\u001b[0m\u001b[1;33m(\u001b[0m\u001b[0mmatches\u001b[0m\u001b[1;33m)\u001b[0m\u001b[1;33m\u001b[0m\u001b[0m\n",
      "\u001b[1;31mIndexError\u001b[0m: list index out of range"
     ]
    }
   ],
   "source": [
    "from hardware_utils import entity_to_candidates\n",
    "\n",
    "entity = FP_list[0]\n",
    "matches = entity_to_candidates(entity, fp)\n",
    "print \"Entity: (%d matches)\" % len(matches)\n",
    "print entity\n",
    "\n",
    "candidate = matches[0]\n",
    "print \"\\nCandidate:\"\n",
    "print candidate\n",
    "\n",
    "print \"\\nScore:\"\n",
    "print disc_model.get_candidate_score(candidate, F_dev)\n",
    "\n",
    "print \"\\nFeatures:\"\n",
    "pprint(disc_model.get_candidate_feature_weights(candidate, F_dev))"
   ]
  },
  {
   "cell_type": "code",
   "execution_count": null,
   "metadata": {
    "collapsed": false
   },
   "outputs": [],
   "source": [
    "from hardware_utils import part_error_analysis\n",
    "part_error_analysis(candidate)"
   ]
  }
 ],
 "metadata": {
  "anaconda-cloud": {},
  "kernelspec": {
   "display_name": "Python 2",
   "language": "python",
   "name": "python2"
  },
  "language_info": {
   "codemirror_mode": {
    "name": "ipython",
    "version": 2
   },
   "file_extension": ".py",
   "mimetype": "text/x-python",
   "name": "python",
   "nbconvert_exporter": "python",
   "pygments_lexer": "ipython2",
   "version": "2.7.12"
  }
 },
 "nbformat": 4,
 "nbformat_minor": 1
}
