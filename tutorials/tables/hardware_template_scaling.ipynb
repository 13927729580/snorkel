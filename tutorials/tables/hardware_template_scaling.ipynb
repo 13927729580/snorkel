{
 "cells": [
  {
   "cell_type": "markdown",
   "metadata": {},
   "source": [
    "# HARDWARE"
   ]
  },
  {
   "cell_type": "markdown",
   "metadata": {},
   "source": [
    "## Setup"
   ]
  },
  {
   "cell_type": "code",
   "execution_count": 1,
   "metadata": {
    "collapsed": false,
    "scrolled": false
   },
   "outputs": [
    {
     "name": "stdout",
     "output_type": "stream",
     "text": [
      "True\n"
     ]
    }
   ],
   "source": [
    "%load_ext autoreload\n",
    "%autoreload 2\n",
    "%matplotlib inline\n",
    "\n",
    "\"\"\"\n",
    "To change attributes:\n",
    "1) Change ATTRIBUTE and you're good to go\n",
    "\"\"\"\n",
    "ATTRIBUTE = 'stg_temp_min'\n",
    "COUNTER = 1001\n",
    "PARALLEL = 80\n",
    "PARALLEL_EXTRACTION = 8\n",
    "SCALE_SIZE = 10000\n",
    "\n",
    "import os\n",
    "import sys\n",
    "sys.path.append(os.environ['SNORKELHOME'] + '/tutorials/tables/')\n",
    "snorkel_postgres = os.environ['SNORKELDB'].startswith('postgres')\n",
    "print snorkel_postgres"
   ]
  },
  {
   "cell_type": "code",
   "execution_count": null,
   "metadata": {
    "collapsed": false
   },
   "outputs": [
    {
     "name": "stdout",
     "output_type": "stream",
     "text": [
      "0\n",
      "0\n",
      "SNORKELDBNAME = stg_temp_min1001\n"
     ]
    }
   ],
   "source": [
    "import os\n",
    "if snorkel_postgres:\n",
    "    os.environ['SNORKELDBNAME'] = ATTRIBUTE + str(COUNTER)\n",
    "    print os.system(\"dropdb \" + os.environ['SNORKELDBNAME'])\n",
    "    print os.system(\"createdb \" + os.environ['SNORKELDBNAME'])\n",
    "    print \"SNORKELDBNAME = %s\" % os.environ['SNORKELDBNAME']\n",
    "else:\n",
    "    try:\n",
    "        os.remove('snorkel.db')\n",
    "    except:\n",
    "        pass\n",
    "\n",
    "from snorkel import SnorkelSession\n",
    "session = SnorkelSession()"
   ]
  },
  {
   "cell_type": "markdown",
   "metadata": {},
   "source": [
    "## Parsing"
   ]
  },
  {
   "cell_type": "code",
   "execution_count": null,
   "metadata": {
    "collapsed": false
   },
   "outputs": [
    {
     "name": "stdout",
     "output_type": "stream",
     "text": [
      "Starting async parse...\n",
      "[================                        ] 39%"
     ]
    },
    {
     "name": "stderr",
     "output_type": "stream",
     "text": [
      "/lfs/raiders10/0/lwhsiao/repos/snorkel/snorkel/parser.py:259: RuntimeWarning: CoreNLP skipped a malformed sentence.\n",
      "  warnings.warn(\"CoreNLP skipped a malformed sentence.\", RuntimeWarning)\n"
     ]
    },
    {
     "name": "stdout",
     "output_type": "stream",
     "text": [
      "[=====================                   ] 51%[=================                       ] 41%"
     ]
    },
    {
     "name": "stderr",
     "output_type": "stream",
     "text": [
      "/lfs/raiders10/0/lwhsiao/repos/snorkel/snorkel/visual.py:40: RuntimeWarning: Words could not be extracted from PDF: /lfs/raiders10/0/lwhsiao/repos/snorkel/tutorials/tables/data/hardware/symlinked_pdf/622281.pdf\n",
      "  warnings.warn(e.message, RuntimeWarning)\n"
     ]
    },
    {
     "name": "stdout",
     "output_type": "stream",
     "text": [
      "[==================================      ] 85%[======================                  ] 53%"
     ]
    },
    {
     "name": "stderr",
     "output_type": "stream",
     "text": [
      "/lfs/raiders10/0/lwhsiao/repos/snorkel/snorkel/parser.py:259: RuntimeWarning: CoreNLP skipped a malformed sentence.\n",
      "  warnings.warn(\"CoreNLP skipped a malformed sentence.\", RuntimeWarning)\n"
     ]
    },
    {
     "name": "stdout",
     "output_type": "stream",
     "text": [
      "[========================================] 100%===================================     ] 87%\n",
      "Corpus (Hardware Scale) contains 10000 documents\n"
     ]
    }
   ],
   "source": [
    "import os\n",
    "if snorkel_postgres:\n",
    "    from snorkel.async_parser import parse_corpus, HTMLParser, AsyncOmniParser\n",
    "    print \"Starting async parse...\"\n",
    "    \n",
    "    # PARSE TRAIN\n",
    "    docs_path = os.environ['SNORKELHOME'] + '/tutorials/tables/data/hardware/symlinked_html/'\n",
    "    pdf_path = os.environ['SNORKELHOME'] + '/tutorials/tables/data/hardware/symlinked_pdf/'\n",
    "    doc_parser = HTMLParser()\n",
    "    context_parser = AsyncOmniParser(blacklist=['style'], flatten=['span','br'], \n",
    "                                     tabular=True, lingual=True,\n",
    "                                     visual=True, pdf_path=pdf_path)\n",
    "    %time corpus = parse_corpus(session, 'Hardware Scale', docs_path,\\\n",
    "                                doc_parser, context_parser,\\\n",
    "                                max_docs=SCALE_SIZE, parallel=PARALLEL)\n",
    "\n",
    "    print \"%s contains %d documents\" % (corpus, len(corpus))"
   ]
  },
  {
   "cell_type": "markdown",
   "metadata": {},
   "source": [
    "### Log Results\n",
    "\n",
    "All parsing features to true.\n",
    "\n",
    "Run 0: PARALLEL = 80, SCALE_SIZE = 1e2. Runtime = 35.4s\n",
    "\n",
    "Run 1: PARALLEL = 80, SCALE_SIZE = 1e3. Runtime = 2min 50sec\n",
    "\n",
    "Run 2: PARALLEL = 80, SCALE_SIZE = 1e4. Runtime = 22min 21sec\n",
    "\n",
    "Run 3: PARALLEL = 80, SCALE_SIZE = 1e5. Runtime = 3h 41min 1s\n",
    "\n",
    "Turning Lingual to False\n",
    "\n",
    "Run 0: Parallel = 80, SCALE_SIZE = 1e4. Runtime = 11min 34s\n",
    "\n",
    "Turing visual to False\n",
    "\n",
    "Run 0: Parallel = 80, SCALE_SIZE = 1e4. Runtime = 21min 28s\n"
   ]
  },
  {
   "cell_type": "code",
   "execution_count": null,
   "metadata": {
    "collapsed": true
   },
   "outputs": [],
   "source": []
  }
 ],
 "metadata": {
  "anaconda-cloud": {},
  "kernelspec": {
   "display_name": "Python 2",
   "language": "python",
   "name": "python2"
  },
  "language_info": {
   "codemirror_mode": {
    "name": "ipython",
    "version": 2
   },
   "file_extension": ".py",
   "mimetype": "text/x-python",
   "name": "python",
   "nbconvert_exporter": "python",
   "pygments_lexer": "ipython2",
   "version": "2.7.6"
  }
 },
 "nbformat": 4,
 "nbformat_minor": 1
}
