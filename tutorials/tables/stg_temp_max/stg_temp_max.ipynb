{
 "cells": [
  {
   "cell_type": "markdown",
   "metadata": {},
   "source": [
    "# STG_TEMP_MAX"
   ]
  },
  {
   "cell_type": "markdown",
   "metadata": {},
   "source": [
    "## Setup"
   ]
  },
  {
   "cell_type": "code",
   "execution_count": null,
   "metadata": {
    "collapsed": true
   },
   "outputs": [],
   "source": [
    "# If necessary:\n",
    "import os\n",
    "os.remove('snorkel.db')"
   ]
  },
  {
   "cell_type": "code",
   "execution_count": null,
   "metadata": {
    "collapsed": false
   },
   "outputs": [],
   "source": [
    "%load_ext autoreload\n",
    "%autoreload 2\n",
    "%matplotlib inline\n",
    "\n",
    "import sys\n",
    "sys.path.append(os.environ['SNORKELHOME'] + '/tutorials/tables/')"
   ]
  },
  {
   "cell_type": "markdown",
   "metadata": {},
   "source": [
    "## Parsing"
   ]
  },
  {
   "cell_type": "code",
   "execution_count": null,
   "metadata": {
    "collapsed": true
   },
   "outputs": [],
   "source": [
    "from snorkel import SnorkelSession\n",
    "session = SnorkelSession()"
   ]
  },
  {
   "cell_type": "markdown",
   "metadata": {},
   "source": [
    "### Define Parser"
   ]
  },
  {
   "cell_type": "code",
   "execution_count": null,
   "metadata": {
    "collapsed": true
   },
   "outputs": [],
   "source": [
    "import os\n",
    "from snorkel.parser import CorpusParser, HTMLParser, OmniParser\n",
    "from snorkel.utils import get_ORM_instance\n",
    "from snorkel.queries import split_corpus\n",
    "\n",
    "docs_path = os.environ['SNORKELHOME'] + '/tutorials/tables/data/hardware/hardware100_html/'\n",
    "doc_parser = HTMLParser(path=docs_path)\n",
    "context_parser = OmniParser()\n",
    "cp = CorpusParser(doc_parser, context_parser, max_docs=100) "
   ]
  },
  {
   "cell_type": "markdown",
   "metadata": {},
   "source": [
    "### Run Parser"
   ]
  },
  {
   "cell_type": "code",
   "execution_count": null,
   "metadata": {
    "collapsed": false,
    "scrolled": true
   },
   "outputs": [],
   "source": [
    "%time corpus = cp.parse_corpus(name='Hardware', session=session)\n",
    "\n",
    "session.add(corpus)\n",
    "session.commit()"
   ]
  },
  {
   "cell_type": "markdown",
   "metadata": {},
   "source": [
    "### Split Corpus"
   ]
  },
  {
   "cell_type": "code",
   "execution_count": null,
   "metadata": {
    "collapsed": false
   },
   "outputs": [],
   "source": [
    "from snorkel.models import Corpus\n",
    "\n",
    "corpus = get_ORM_instance(Corpus, session, 'Hardware')\n",
    "split_corpus(session, corpus, train=0.8, development=0.2, test=0, seed=3)"
   ]
  },
  {
   "cell_type": "code",
   "execution_count": null,
   "metadata": {
    "collapsed": true
   },
   "outputs": [],
   "source": [
    "# If necessary\n",
    "import os\n",
    "os.system('cp snorkel.db snorkel.db\\ corpus');"
   ]
  },
  {
   "cell_type": "markdown",
   "metadata": {},
   "source": [
    "## Extraction"
   ]
  },
  {
   "cell_type": "code",
   "execution_count": null,
   "metadata": {
    "collapsed": true
   },
   "outputs": [],
   "source": [
    "# If necessary:\n",
    "# import os\n",
    "# os.remove('snorkel.db');\n",
    "# os.system('cp snorkel.db\\ corpus snorkel.db');\n",
    "\n",
    "# import sys\n",
    "# sys.path.append(os.environ['SNORKELHOME'] + '/tutorials/tables/')\n",
    "\n",
    "# from snorkel import SnorkelSession\n",
    "# session = SnorkelSession()"
   ]
  },
  {
   "cell_type": "code",
   "execution_count": null,
   "metadata": {
    "collapsed": true
   },
   "outputs": [],
   "source": [
    "from snorkel.models import candidate_subclass\n",
    "\n",
    "Part_Temp = candidate_subclass('Part_Temp', ['part','temp'])"
   ]
  },
  {
   "cell_type": "markdown",
   "metadata": {},
   "source": [
    "### Define Matchers"
   ]
  },
  {
   "cell_type": "code",
   "execution_count": null,
   "metadata": {
    "collapsed": true
   },
   "outputs": [],
   "source": [
    "from snorkel.matchers import RegexMatchSpan, Union\n",
    "\n",
    "eeca_matcher = RegexMatchSpan(rgx='([b]{1}[abcdefklnpqruyz]{1}[\\swxyz]?[0-9]{3,5}[\\s]?[A-Z\\/]{0,5}[0-9]?[A-Z]?([-][A-Z0-9]{1,7})?([-][A-Z0-9]{1,2})?)')\n",
    "jedec_matcher = RegexMatchSpan(rgx='([123]N\\d{3,4}[A-Z]{0,5}[0-9]?[A-Z]?)')\n",
    "jis_matcher = RegexMatchSpan(rgx='(2S[abcdefghjkmqrstvz]{1}[\\d]{2,4})')\n",
    "others_matcher = RegexMatchSpan(rgx='((NSVBC|SMBT|MJ|MJE|MPS|MRF|RCA|TIP|ZTX|ZT|TIS|TIPL|DTC|MMBT|PZT){1}[\\d]{2,4}[A-Z]{0,3}([-][A-Z0-9]{0,6})?([-][A-Z0-9]{0,1})?)')\n",
    "parts_matcher = Union(eeca_matcher, jedec_matcher, jis_matcher, others_matcher)\n",
    "\n",
    "temp_matcher = RegexMatchSpan(rgx=r'1[4-6]0', longest_match_only=False)\n",
    "# temp_matcher = RegexMatchSpan(rgx=r'-[5-7][05]', longest_match_only=False)"
   ]
  },
  {
   "cell_type": "markdown",
   "metadata": {},
   "source": [
    "### Define ContextSpaces"
   ]
  },
  {
   "cell_type": "code",
   "execution_count": null,
   "metadata": {
    "collapsed": false
   },
   "outputs": [],
   "source": [
    "import os\n",
    "from collections import defaultdict\n",
    "from hardware_utils import OmniNgramsPart, OmniNgramsTemp, get_gold_dict\n",
    "\n",
    "# Make parts list\n",
    "gold_file = os.environ['SNORKELHOME'] + '/tutorials/tables/data/hardware/hardware_gold.csv'\n",
    "gold_parts = get_gold_dict(gold_file, doc_on=True, part_on=True, val_on=False)\n",
    "parts_by_doc = defaultdict(set)\n",
    "for part in gold_parts:\n",
    "    parts_by_doc[part[0]].add(part[1])\n",
    "    \n",
    "part_ngrams = OmniNgramsPart(parts_by_doc=parts_by_doc, n_max=3)\n",
    "temp_ngrams = OmniNgramsTemp(n_max=2)"
   ]
  },
  {
   "cell_type": "markdown",
   "metadata": {},
   "source": [
    "### Define Candidate Throttler"
   ]
  },
  {
   "cell_type": "code",
   "execution_count": null,
   "metadata": {
    "collapsed": false
   },
   "outputs": [],
   "source": [
    "from hardware_utils import PartThrottler\n",
    "part_throttler = PartThrottler()"
   ]
  },
  {
   "cell_type": "markdown",
   "metadata": {},
   "source": [
    "### Run CandidateExtractor"
   ]
  },
  {
   "cell_type": "code",
   "execution_count": null,
   "metadata": {
    "collapsed": false
   },
   "outputs": [],
   "source": [
    "from snorkel.models import Corpus\n",
    "from snorkel.candidates import CandidateExtractor\n",
    "from snorkel.utils import get_ORM_instance\n",
    "ce = CandidateExtractor(Part_Temp, [part_ngrams, temp_ngrams], [parts_matcher, temp_matcher], throttler=part_throttler)\n",
    "\n",
    "for corpus_name in ['Hardware Training', 'Hardware Development']:\n",
    "    corpus = get_ORM_instance(Corpus, session, corpus_name)\n",
    "    print \"Extracting Candidates from %s\" % corpus\n",
    "    %time candidates = ce.extract(\\\n",
    "        corpus.documents, corpus_name + ' Candidates', session)\n",
    "    session.add(candidates)\n",
    "    print \"%s contains %d Candidates\" % (candidates, len(candidates))\n",
    "session.commit()"
   ]
  },
  {
   "cell_type": "markdown",
   "metadata": {},
   "source": [
    "### Assess Recall"
   ]
  },
  {
   "cell_type": "code",
   "execution_count": null,
   "metadata": {
    "collapsed": false
   },
   "outputs": [],
   "source": [
    "from snorkel.models import Candidate\n",
    "from hardware_utils import entity_level_total_recall\n",
    "\n",
    "all_candidates = session.query(Candidate).all()\n",
    "gold_file = os.environ['SNORKELHOME'] + '/tutorials/tables/data/hardware/hardware_gold.csv'\n",
    "(tp, fp, fn) = entity_level_total_recall(\n",
    "    all_candidates, gold_file, 'stg_temp_max', relation=True)"
   ]
  },
  {
   "cell_type": "code",
   "execution_count": null,
   "metadata": {
    "collapsed": true
   },
   "outputs": [],
   "source": [
    "# If necessary\n",
    "import os\n",
    "os.system('cp snorkel.db snorkel.db\\ candidates');"
   ]
  },
  {
   "cell_type": "markdown",
   "metadata": {},
   "source": [
    "## Gold Labels"
   ]
  },
  {
   "cell_type": "code",
   "execution_count": null,
   "metadata": {
    "collapsed": true
   },
   "outputs": [],
   "source": [
    "# If necessary\n",
    "# import os\n",
    "# os.remove('snorkel.db');\n",
    "# os.system('cp snorkel.db\\ candidates snorkel.db');\n",
    "\n",
    "# import sys\n",
    "# sys.path.append(os.environ['SNORKELHOME'] + '/tutorials/tables/')\n",
    "\n",
    "# from snorkel import SnorkelSession\n",
    "# session = SnorkelSession()\n",
    "\n",
    "# from snorkel.models import candidate_subclass\n",
    "# Part_Temp = candidate_subclass('Part_Temp', ['part','temp'])"
   ]
  },
  {
   "cell_type": "code",
   "execution_count": null,
   "metadata": {
    "collapsed": false
   },
   "outputs": [],
   "source": [
    "import os\n",
    "from snorkel.models import CandidateSet\n",
    "from hardware_utils import load_hardware_labels\n",
    "\n",
    "gold_file = os.environ['SNORKELHOME'] + '/tutorials/tables/data/hardware/hardware_gold.csv'\n",
    "for set_name in ['Training', 'Development']:\n",
    "    candidate_set_name = 'Hardware %s Candidates' % set_name\n",
    "    candidates = session.query(CandidateSet).filter(\n",
    "        CandidateSet.name == candidate_set_name).one()\n",
    "    label_set_name = 'Hardware %s Candidates -- Gold' % set_name\n",
    "    annotation_key_name = 'Hardware %s Labels -- Gold' % set_name\n",
    "    %time gold_candidates, annotation_key = load_hardware_labels(session,\\\n",
    "                           label_set_name, \\\n",
    "                           annotation_key_name, \\\n",
    "                           candidates, \\\n",
    "                           gold_file, \\\n",
    "                           'stg_temp_max')\n",
    "    candidates_gold = session.query(CandidateSet).filter(\n",
    "        CandidateSet.name == candidate_set_name + ' -- Gold').one()\n",
    "    print \"%d/%d Candidates in %s have positive Labels\" % (\n",
    "        len(candidates_gold), len(candidates), candidates)"
   ]
  },
  {
   "cell_type": "code",
   "execution_count": null,
   "metadata": {
    "collapsed": true
   },
   "outputs": [],
   "source": [
    "# If necessary\n",
    "import os\n",
    "os.system('cp snorkel.db snorkel.db\\ labels');"
   ]
  },
  {
   "cell_type": "markdown",
   "metadata": {},
   "source": [
    "## Features"
   ]
  },
  {
   "cell_type": "code",
   "execution_count": null,
   "metadata": {
    "collapsed": true
   },
   "outputs": [],
   "source": [
    "# If necessary:\n",
    "# import os\n",
    "# os.remove('snorkel.db');\n",
    "# os.system('cp snorkel.db\\ labels snorkel.db');\n",
    "\n",
    "# from snorkel import SnorkelSession\n",
    "# session = SnorkelSession()\n",
    "\n",
    "# from snorkel.models import candidate_subclass\n",
    "# Part_Temp = candidate_subclass('Part_Temp', ['part','temp'])"
   ]
  },
  {
   "cell_type": "markdown",
   "metadata": {},
   "source": [
    "### Extract Features"
   ]
  },
  {
   "cell_type": "code",
   "execution_count": null,
   "metadata": {
    "collapsed": false
   },
   "outputs": [],
   "source": [
    "from snorkel.models import CandidateSet\n",
    "from snorkel.fast_annotations import FeatureManager\n",
    "from snorkel.utils import get_ORM_instance\n",
    "\n",
    "train = get_ORM_instance(CandidateSet, session, 'Hardware Training Candidates')\n",
    "dev   = get_ORM_instance(CandidateSet, session, 'Hardware Development Candidates')\n",
    "\n",
    "feature_manager = FeatureManager()\n",
    "%time F_train = feature_manager.create(session, train, 'Train Features')\n",
    "%time F_dev = feature_manager.update(session, dev, 'Train Features', expand_key_set=False)"
   ]
  },
  {
   "cell_type": "code",
   "execution_count": null,
   "metadata": {
    "collapsed": true
   },
   "outputs": [],
   "source": [
    "# If necessary:\n",
    "import os\n",
    "os.system('cp snorkel.db snorkel.db\\ featurized');"
   ]
  },
  {
   "cell_type": "markdown",
   "metadata": {},
   "source": [
    "## LFs"
   ]
  },
  {
   "cell_type": "code",
   "execution_count": null,
   "metadata": {
    "collapsed": true
   },
   "outputs": [],
   "source": [
    "# If necessary\n",
    "# import os\n",
    "# os.remove('snorkel.db');\n",
    "# os.system('cp snorkel.db\\ featurized snorkel.db');\n",
    "\n",
    "# from snorkel import SnorkelSession\n",
    "# session = SnorkelSession()\n",
    "\n",
    "# import sys\n",
    "# sys.path.append(os.environ['SNORKELHOME'] + '/tutorials/tables/')\n",
    "\n",
    "# from snorkel.models import candidate_subclass\n",
    "# Part_Temp = candidate_subclass('Part_Temp', ['part','temp'])\n",
    "\n",
    "# from snorkel.models import CandidateSet\n",
    "# train = session.query(CandidateSet).filter(\n",
    "#     CandidateSet.name == 'Hardware Training Candidates').one()"
   ]
  },
  {
   "cell_type": "markdown",
   "metadata": {},
   "source": [
    "### Define LFs"
   ]
  },
  {
   "cell_type": "code",
   "execution_count": null,
   "metadata": {
    "collapsed": false
   },
   "outputs": [],
   "source": [
    "from snorkel.fast_annotations import LabelManager\n",
    "from snorkel.lf_helpers import *\n",
    "import re\n",
    "label_manager = LabelManager()\n",
    "\n",
    "LFs = []\n",
    "\n",
    "# POSITIVE\n",
    "\n",
    "def LF_to_left(c):\n",
    "    return 1 if 'to' in get_left_ngrams(c.temp, window=2) else 0\n",
    "LFs.append(LF_to_left)\n",
    "\n",
    "def LF_negative_left(c):\n",
    "    return 1 if any([re.match(r'-\\s*\\d+', ngram) for ngram in get_left_ngrams(c.temp, window=4)]) else 0\n",
    "LFs.append(LF_negative_left)\n",
    "\n",
    "def LF_storage_row(c):\n",
    "    return 1 if 'storage' in get_row_ngrams(c.temp) else 0\n",
    "LFs.append(LF_storage_row)\n",
    "\n",
    "def LF_operating_row(c):\n",
    "    return 1 if 'operating' in get_row_ngrams(c.temp) else 0\n",
    "LFs.append(LF_operating_row)\n",
    "\n",
    "def LF_temperature_row(c):\n",
    "    return 1 if 'temperature' in get_row_ngrams(c.temp) else 0\n",
    "LFs.append(LF_temperature_row)\n",
    "\n",
    "def LF_tstg_row(c):\n",
    "    return 1 if overlap(\n",
    "        ['tstg','stg','ts'], \n",
    "        list(get_row_ngrams(c.temp))) else 0\n",
    "LFs.append(LF_tstg_row)\n",
    "\n",
    "# NEGATIVE\n",
    "\n",
    "def LF_not_temp_relevant(c):\n",
    "    return -1 if not overlap(\n",
    "        ['storage','temperature','tstg','ts','stg'],\n",
    "        list(get_aligned_ngrams(c.temp))) else 0\n",
    "LFs.append(LF_not_temp_relevant)\n",
    "\n",
    "def LF_temp_outside_table(c):\n",
    "    return -1 if c.temp.parent.row is None else 0\n",
    "LFs.append(LF_temp_outside_table)\n",
    "\n",
    "def LF_too_many_numbers_row(c):\n",
    "    num_numbers = list(get_row_ngrams(c.temp, attrib=\"ner_tags\")).count('number')\n",
    "    return -1 if num_numbers >= 3 else 0\n",
    "LFs.append(LF_too_many_numbers_row)\n",
    "\n",
    "def LF_collector_aligned(c):\n",
    "    return -1 if overlap(\n",
    "        ['collector', 'collector-current', 'collector-base', 'collector-emitter'],\n",
    "        list(get_aligned_ngrams(c.temp))) else 0\n",
    "LFs.append(LF_collector_aligned)\n",
    "\n",
    "def LF_current_aligned(c):\n",
    "    ngrams = get_aligned_ngrams(c.temp)\n",
    "    return -1 if overlap(\n",
    "        ['current', 'dc', 'ic'],\n",
    "        list(get_aligned_ngrams(c.temp))) else 0\n",
    "LFs.append(LF_current_aligned)\n",
    "\n",
    "def LF_voltage_row_temp(c):\n",
    "    ngrams = get_aligned_ngrams(c.temp)\n",
    "    return -1 if overlap(\n",
    "        ['voltage', 'cbo', 'ceo', 'ebo', 'v'],\n",
    "        list(get_aligned_ngrams(c.temp))) else 0\n",
    "LFs.append(LF_voltage_row_temp)\n",
    "\n",
    "def LF_voltage_row_part(c):\n",
    "    ngrams = get_aligned_ngrams(c.part)\n",
    "    return -1 if overlap(\n",
    "        ['voltage', 'cbo', 'ceo', 'ebo', 'v'],\n",
    "        list(get_aligned_ngrams(c.temp))) else 0\n",
    "LFs.append(LF_voltage_row_part)\n",
    "\n",
    "def LF_typ_row(c):\n",
    "    return -1 if overlap(\n",
    "        ['typ', 'typ.'],\n",
    "        list(get_row_ngrams(c.temp))) else 0\n",
    "LFs.append(LF_typ_row)\n",
    "\n",
    "def LF_test_condition_aligned(c):\n",
    "    return -1 if overlap(\n",
    "        ['test', 'condition'],\n",
    "        list(get_aligned_ngrams(c.temp))) else 0\n",
    "LFs.append(LF_test_condition_aligned)\n",
    "\n",
    "def LF_complement_left_row(c):\n",
    "    return -1 if 'complement' in get_row_ngrams(c.part) else 0\n",
    "LFs.append(LF_complement_left_row)"
   ]
  },
  {
   "cell_type": "markdown",
   "metadata": {},
   "source": [
    "### Apply LFs"
   ]
  },
  {
   "cell_type": "code",
   "execution_count": null,
   "metadata": {
    "collapsed": false
   },
   "outputs": [],
   "source": [
    "%time L_train = label_manager.create(session, train, 'LF Labels', f=LFs)\n",
    "L_train"
   ]
  },
  {
   "cell_type": "markdown",
   "metadata": {},
   "source": [
    "### Assess LF accuracy"
   ]
  },
  {
   "cell_type": "code",
   "execution_count": null,
   "metadata": {
    "collapsed": false
   },
   "outputs": [],
   "source": [
    "train_gold = session.query(CandidateSet).filter(\n",
    "    CandidateSet.name == 'Hardware Training Candidates -- Gold').one()\n",
    "%time L_train.lf_stats(train_gold)"
   ]
  },
  {
   "cell_type": "code",
   "execution_count": null,
   "metadata": {
    "collapsed": true
   },
   "outputs": [],
   "source": [
    "# If necessary\n",
    "import os\n",
    "os.system('cp snorkel.db snorkel.db\\ features');"
   ]
  },
  {
   "cell_type": "markdown",
   "metadata": {},
   "source": [
    "## Learn and Evaluate"
   ]
  },
  {
   "cell_type": "code",
   "execution_count": 1,
   "metadata": {
    "collapsed": false
   },
   "outputs": [
    {
     "name": "stdout",
     "output_type": "stream",
     "text": [
      "CPU times: user 1min 10s, sys: 2.54 s, total: 1min 13s\n",
      "Wall time: 1min 13s\n",
      "CPU times: user 34.1 s, sys: 1.48 s, total: 35.6 s\n",
      "Wall time: 35.8 s\n",
      "CPU times: user 12.1 s, sys: 531 ms, total: 12.6 s\n",
      "Wall time: 12.9 s\n"
     ]
    }
   ],
   "source": [
    "# If necessary:\n",
    "# import os\n",
    "# os.remove('snorkel.db');\n",
    "# os.system('cp snorkel.db\\ features snorkel.db');\n",
    "\n",
    "# from snorkel import SnorkelSession\n",
    "# session = SnorkelSession()\n",
    "\n",
    "# import sys\n",
    "# sys.path.append(os.environ['SNORKELHOME'] + '/tutorials/tables/')\n",
    "\n",
    "# from snorkel.models import candidate_subclass\n",
    "# Part_Temp = candidate_subclass('Part_Temp', ['part','temp'])\n",
    "\n",
    "# from snorkel.models import CandidateSet\n",
    "# train = session.query(CandidateSet).filter(\n",
    "#     CandidateSet.name == 'Hardware Training Candidates').one()\n",
    "# dev = session.query(CandidateSet).filter(\n",
    "#     CandidateSet.name == 'Hardware Development Candidates').one()\n",
    "\n",
    "# from snorkel.annotations import FeatureManager, LabelManager\n",
    "# feature_manager = FeatureManager()\n",
    "# %time F_train = feature_manager.load(session, train, 'Train Features')\n",
    "# %time F_dev = feature_manager.load(session, dev, 'Train Features')\n",
    "\n",
    "# label_manager = LabelManager()\n",
    "# %time L_train = label_manager.load(session, train, 'LF Labels')"
   ]
  },
  {
   "cell_type": "code",
   "execution_count": 2,
   "metadata": {
    "collapsed": false
   },
   "outputs": [
    {
     "name": "stdout",
     "output_type": "stream",
     "text": [
      "================================================================================\n",
      "Training marginals (!= 0.5):\t61982\n",
      "Features:\t\t\t16\n",
      "================================================================================\n",
      "Begin training for rate=0.01, mu=1e-06\n",
      "\tLearning epoch = 0\tGradient mag. = 0.428656\n",
      "\tLearning epoch = 250\tGradient mag. = 0.554836\n",
      "\tLearning epoch = 500\tGradient mag. = 0.624353\n",
      "\tLearning epoch = 750\tGradient mag. = 0.658952\n",
      "\tLearning epoch = 1000\tGradient mag. = 0.656587\n",
      "\tLearning epoch = 1250\tGradient mag. = 0.637571\n",
      "\tLearning epoch = 1500\tGradient mag. = 0.624727\n",
      "\tLearning epoch = 1750\tGradient mag. = 0.507007\n",
      "\tLearning epoch = 2000\tGradient mag. = 0.399121\n",
      "\tLearning epoch = 2250\tGradient mag. = 0.363564\n",
      "\tLearning epoch = 2500\tGradient mag. = 0.338219\n",
      "\tLearning epoch = 2750\tGradient mag. = 0.318006\n",
      "\tLearning epoch = 3000\tGradient mag. = 0.303478\n",
      "\tLearning epoch = 3250\tGradient mag. = 0.292682\n",
      "\tLearning epoch = 3500\tGradient mag. = 0.284690\n",
      "\tLearning epoch = 3750\tGradient mag. = 0.278917\n",
      "\tLearning epoch = 4000\tGradient mag. = 0.274916\n",
      "\tLearning epoch = 4250\tGradient mag. = 0.271489\n",
      "\tLearning epoch = 4500\tGradient mag. = 0.251673\n",
      "\tLearning epoch = 4750\tGradient mag. = 0.231305\n",
      "\tLearning epoch = 5000\tGradient mag. = 0.213418\n",
      "\tLearning epoch = 5250\tGradient mag. = 0.197720\n",
      "\tLearning epoch = 5500\tGradient mag. = 0.183947\n",
      "\tLearning epoch = 5750\tGradient mag. = 0.171108\n",
      "\tLearning epoch = 6000\tGradient mag. = 0.159503\n",
      "\tLearning epoch = 6250\tGradient mag. = 0.149141\n",
      "\tLearning epoch = 6500\tGradient mag. = 0.139865\n",
      "\tLearning epoch = 6750\tGradient mag. = 0.131537\n",
      "\tLearning epoch = 7000\tGradient mag. = 0.124036\n",
      "\tLearning epoch = 7250\tGradient mag. = 0.117257\n",
      "\tLearning epoch = 7500\tGradient mag. = 0.111110\n",
      "\tLearning epoch = 7750\tGradient mag. = 0.105514\n",
      "\tLearning epoch = 8000\tGradient mag. = 0.100401\n",
      "\tLearning epoch = 8250\tGradient mag. = 0.095711\n",
      "\tLearning epoch = 8500\tGradient mag. = 0.091394\n",
      "\tLearning epoch = 8750\tGradient mag. = 0.087405\n",
      "\tLearning epoch = 9000\tGradient mag. = 0.083706\n",
      "\tLearning epoch = 9250\tGradient mag. = 0.080265\n",
      "\tLearning epoch = 9500\tGradient mag. = 0.077052\n",
      "\tLearning epoch = 9750\tGradient mag. = 0.074045\n",
      "\tLearning epoch = 10000\tGradient mag. = 0.071223\n",
      "\tLearning epoch = 10250\tGradient mag. = 0.068566\n",
      "\tLearning epoch = 10500\tGradient mag. = 0.066060\n",
      "\tLearning epoch = 10750\tGradient mag. = 0.063690\n",
      "\tLearning epoch = 11000\tGradient mag. = 0.061446\n",
      "\tLearning epoch = 11250\tGradient mag. = 0.059316\n",
      "\tLearning epoch = 11500\tGradient mag. = 0.057291\n",
      "\tLearning epoch = 11750\tGradient mag. = 0.055364\n",
      "\tLearning epoch = 12000\tGradient mag. = 0.053527\n",
      "\tLearning epoch = 12250\tGradient mag. = 0.051774\n",
      "\tLearning epoch = 12500\tGradient mag. = 0.050099\n",
      "\tLearning epoch = 12750\tGradient mag. = 0.048497\n",
      "\tLearning epoch = 13000\tGradient mag. = 0.046965\n",
      "\tLearning epoch = 13250\tGradient mag. = 0.045496\n",
      "\tLearning epoch = 13500\tGradient mag. = 0.044089\n",
      "\tLearning epoch = 13750\tGradient mag. = 0.042739\n",
      "\tLearning epoch = 14000\tGradient mag. = 0.041443\n",
      "\tLearning epoch = 14250\tGradient mag. = 0.040198\n",
      "\tLearning epoch = 14500\tGradient mag. = 0.039002\n",
      "\tLearning epoch = 14750\tGradient mag. = 0.037852\n",
      "Final gradient magnitude for rate=0.01, mu=1e-06: 0.037\n",
      "CPU times: user 144 ms, sys: 19.2 ms, total: 163 ms\n",
      "Wall time: 167 ms\n"
     ]
    }
   ],
   "source": [
    "from snorkel.learning import NaiveBayes\n",
    "\n",
    "gen_model = NaiveBayes()\n",
    "gen_model.train(L_train, n_iter=15000, rate=1e-2)\n",
    "%time gen_model.save(session, 'Generative Params')\n",
    "train_marginals = gen_model.marginals(L_train)"
   ]
  },
  {
   "cell_type": "code",
   "execution_count": 3,
   "metadata": {
    "collapsed": false
   },
   "outputs": [
    {
     "name": "stdout",
     "output_type": "stream",
     "text": [
      "================================================================================\n",
      "Training marginals (!= 0.5):\t61982\n",
      "Features:\t\t\t16200\n",
      "================================================================================\n",
      "Using gradient descent...\n",
      "\tLearning epoch = 0\tStep size = 0.0001\n",
      "\tLoss = 42962.648545\tGradient magnitude = 71935.959755\n",
      "\tLearning epoch = 100\tStep size = 9.04792147114e-05\n",
      "\tLoss = 1942.930014\tGradient magnitude = 123.435604\n",
      "\tLearning epoch = 200\tStep size = 8.18648829479e-05\n",
      "\tLoss = 1864.325499\tGradient magnitude = 75.956231\n",
      "\tLearning epoch = 300\tStep size = 7.40707032156e-05\n",
      "\tLoss = 1830.780246\tGradient magnitude = 54.361144\n",
      "\tLearning epoch = 400\tStep size = 6.70185906007e-05\n",
      "\tLoss = 1816.781772\tGradient magnitude = 36.752384\n",
      "\tLearning epoch = 500\tStep size = 6.06378944861e-05\n",
      "\tLoss = 1809.801557\tGradient magnitude = 30.332203\n",
      "\tLearning epoch = 600\tStep size = 5.48646907485e-05\n",
      "\tLoss = 1805.221985\tGradient magnitude = 26.572696\n",
      "\tLearning epoch = 700\tStep size = 4.96411413431e-05\n",
      "\tLoss = 1801.962949\tGradient magnitude = 23.956685\n",
      "\tLearning epoch = 800\tStep size = 4.4914914861e-05\n",
      "\tLoss = 1799.530076\tGradient magnitude = 22.031956\n",
      "\tLearning epoch = 900\tStep size = 4.06386622545e-05\n",
      "\tLoss = 1797.650173\tGradient magnitude = 20.563242\n",
      "\tLearning epoch = 1000\tStep size = 3.67695424771e-05\n",
      "\tLoss = 1796.159885\tGradient magnitude = 19.412194\n",
      "\tLearning epoch = 1100\tStep size = 3.32687932862e-05\n",
      "\tLoss = 1794.954963\tGradient magnitude = 18.490937\n",
      "\tLearning epoch = 1200\tStep size = 3.01013429093e-05\n",
      "\tLoss = 1793.965465\tGradient magnitude = 17.741366\n",
      "\tLearning epoch = 1300\tStep size = 2.72354586819e-05\n",
      "\tLoss = 1793.142660\tGradient magnitude = 17.123518\n",
      "\tLearning epoch = 1400\tStep size = 2.46424291385e-05\n",
      "\tLoss = 1792.451667\tGradient magnitude = 16.609178\n",
      "\tLearning epoch = 1500\tStep size = 2.22962763703e-05\n",
      "\tLoss = 1791.866601\tGradient magnitude = 16.177503\n",
      "\tLearning epoch = 1600\tStep size = 2.01734957697e-05\n",
      "\tLoss = 1791.367940\tGradient magnitude = 15.813083\n",
      "\tLearning epoch = 1700\tStep size = 1.82528205523e-05\n",
      "\tLoss = 1790.940983\tGradient magnitude = 15.503978\n",
      "\tLearning epoch = 1800\tStep size = 1.65150086984e-05\n",
      "\tLoss = 1790.573694\tGradient magnitude = 15.241234\n",
      "\tLearning epoch = 1900\tStep size = 1.49426501798e-05\n",
      "\tLoss = 1790.256698\tGradient magnitude = 15.016967\n",
      "CPU times: user 2.96 s, sys: 82.6 ms, total: 3.04 s\n",
      "Wall time: 3.07 s\n"
     ]
    }
   ],
   "source": [
    "from snorkel.learning import LogReg\n",
    "\n",
    "disc_model = LogReg()\n",
    "disc_model.train(F_train, train_marginals, n_iter=2000, rate=1e-4)\n",
    "%time disc_model.save(session, \"Discriminative Params\")"
   ]
  },
  {
   "cell_type": "code",
   "execution_count": 4,
   "metadata": {
    "collapsed": true
   },
   "outputs": [],
   "source": [
    "train_gold = session.query(CandidateSet).filter(\n",
    "    CandidateSet.name == 'Hardware Training Candidates -- Gold').one()"
   ]
  },
  {
   "cell_type": "code",
   "execution_count": 5,
   "metadata": {
    "collapsed": true
   },
   "outputs": [],
   "source": [
    "dev_gold = session.query(CandidateSet).filter(\n",
    "    CandidateSet.name == 'Hardware Development Candidates -- Gold').one()"
   ]
  },
  {
   "cell_type": "code",
   "execution_count": 6,
   "metadata": {
    "collapsed": false
   },
   "outputs": [],
   "source": [
    "from snorkel.models import CandidateSet\n",
    "from snorkel.annotations import LabelManager\n",
    "label_manager = LabelManager()\n",
    "L_dev = label_manager.load(session, dev, 'Hardware Development Labels -- Gold')"
   ]
  },
  {
   "cell_type": "code",
   "execution_count": 7,
   "metadata": {
    "collapsed": false
   },
   "outputs": [
    {
     "name": "stdout",
     "output_type": "stream",
     "text": [
      "Calibration plot:\n",
      "========================================\n",
      "Recall-corrected Noise-aware Model\n",
      "========================================\n",
      "Pos. class accuracy: 0.463169297431\n",
      "Neg. class accuracy: 1.0\n",
      "Corpus Precision 1.0\n",
      "Corpus Recall    0.463\n",
      "Corpus F1        0.633\n",
      "----------------------------------------\n",
      "TP: 2993 | FP: 0 | TN: 733 | FN: 3469\n",
      "========================================\n",
      "\n",
      "========================================\n",
      "Recall-corrected Noise-aware Model\n",
      "========================================\n",
      "Pos. class accuracy: 0.463169297431\n",
      "Neg. class accuracy: 1.0\n",
      "Corpus Precision 1.0\n",
      "Corpus Recall    0.463\n",
      "Corpus F1        0.633\n",
      "----------------------------------------\n",
      "TP: 2993 | FP: 0 | TN: 733 | FN: 3469\n",
      "========================================\n",
      "\n"
     ]
    },
    {
     "name": "stderr",
     "output_type": "stream",
     "text": [
      "/Users/bradenhancock/anaconda/lib/python2.7/site-packages/numpy/core/_methods.py:59: RuntimeWarning: Mean of empty slice.\n",
      "  warnings.warn(\"Mean of empty slice.\", RuntimeWarning)\n"
     ]
    }
   ],
   "source": [
    "tp, fp, tn, fn = disc_model.score(F_dev, L_dev, dev_gold)"
   ]
  },
  {
   "cell_type": "code",
   "execution_count": 8,
   "metadata": {
    "collapsed": false
   },
   "outputs": [
    {
     "name": "stdout",
     "output_type": "stream",
     "text": [
      "========================================\n",
      "Scoring on Entity-Level Gold Data\n",
      "========================================\n",
      "Corpus Precision 1.0\n",
      "Corpus Recall    0.94\n",
      "Corpus F1        0.969\n",
      "----------------------------------------\n",
      "TP: 156 | FP: 0 | FN: 10\n",
      "========================================\n",
      "\n"
     ]
    }
   ],
   "source": [
    "from snorkel.models import Corpus\n",
    "from hardware_utils import entity_level_f1\n",
    "import os\n",
    "\n",
    "gold_file = os.environ['SNORKELHOME'] + '/tutorials/tables/data/hardware/hardware_gold.csv'\n",
    "corpus = session.query(Corpus).filter(Corpus.name == 'Hardware Development').one()\n",
    "(TP, FP, FN) = entity_level_f1(tp, fp, tn, fn, gold_file, corpus, 'stg_temp_max')"
   ]
  },
  {
   "cell_type": "code",
   "execution_count": 9,
   "metadata": {
    "collapsed": false
   },
   "outputs": [
    {
     "name": "stdout",
     "output_type": "stream",
     "text": [
      "[('SCSCS02324-1', 'MMBT3904', '150'),\n",
      " ('TKCGS00622-1', 'DTC114TE', '150'),\n",
      " ('TKCGS00622-1', 'DTC114YE', '150'),\n",
      " ('TKCGS00622-1', 'DTC123EE', '150'),\n",
      " ('TKCGS00622-1', 'DTC124EE', '150'),\n",
      " ('TKCGS00622-1', 'DTC124XE', '150'),\n",
      " ('TKCGS00622-1', 'DTC143EE', '150'),\n",
      " ('TKCGS00622-1', 'DTC143TE', '150'),\n",
      " ('TKCGS00622-1', 'DTC143ZE', '150'),\n",
      " ('TKCGS00622-1', 'DTC144EE', '150')]\n"
     ]
    }
   ],
   "source": [
    "from pprint import pprint\n",
    "FN_list = sorted(list(FN))\n",
    "pprint(FN_list)"
   ]
  },
  {
   "cell_type": "code",
   "execution_count": 16,
   "metadata": {
    "collapsed": false
   },
   "outputs": [
    {
     "name": "stdout",
     "output_type": "stream",
     "text": [
      "('TKCGS00622-1', 'DTC114TE', '150')\n",
      "\n",
      "# Matches: 2\n",
      "Part_Temp(Span(\"DTC114TE\", parent=104324, chars=[36,43], words=[4,4]), ImplicitSpan(\"150\", parent=104347, words=[0,0], position=[0]))\n",
      "\n",
      "-13.3157731116\n",
      "\n",
      "[(AnnotationKey (TAB_e2_HTML_ANC_TAG_[p]), -1.0589626992406873),\n",
      " (AnnotationKey (TAB_e2_HTML_ANC_TAG_[html]), -1.0589626992406873),\n",
      " (AnnotationKey (TAB_e2_HTML_TAG_p), -1.0589626992406873),\n",
      " (AnnotationKey (TAB_e1_HTML_ANC_TAG_[html]), -1.0589626992406873),\n",
      " (AnnotationKey (TAB_e2_HTML_ANC_TAG_[body]), -1.0589626992406873),\n",
      " (AnnotationKey (TAB_e2_ROW_WORDS_[c]), 0.81309487283043),\n",
      " (AnnotationKey (TAB_e1_HTML_ANC_TAG_[body]), -0.7200657523626274),\n",
      " (AnnotationKey (TAB_e2_ROW_WORDS_[=]), -0.6055302504899801),\n",
      " (AnnotationKey (TAB_e2_COL_WORDS_[200]), 0.5831720973313892),\n",
      " (AnnotationKey (TAB_e2_HTML_ANC_TAG_[li]), 0.4844351273020427),\n",
      " (AnnotationKey (TAB_e2_ROW_WORDS_[v]), -0.46736275638108976),\n",
      " (AnnotationKey (TAB_e2_ROW_WORDS_[i]), -0.43367066687150707),\n",
      " (AnnotationKey (TAB_e2_HTML_ANC_TAG_[ul]), 0.40252970632383284),\n",
      " (AnnotationKey (TAB_e2_ROW_WORDS_[current]), -0.35222981000731346),\n",
      " (AnnotationKey (TAB_e2_ROW_WORDS_[h]), -0.3286406716152515),\n",
      " (AnnotationKey (TAB_e2_ROW_WORDS_[ce =]), -0.3262216534928394),\n",
      " (AnnotationKey (TAB_e2_ROW_WORDS_[v ce]), -0.3262216534928394),\n",
      " (AnnotationKey (TAB_e2_ROW_WORDS_[ce]), -0.3262216534928394),\n",
      " (AnnotationKey (TAB_e2_ROW_WORDS_[c =]), -0.32616572368118196),\n",
      " (AnnotationKey (TAB_e2_ROW_WORDS_[i c]), -0.3247670608814788),\n",
      " (AnnotationKey (TAB_e2_ROW_WORDS_[ma]), -0.28708794424870476),\n",
      " (AnnotationKey (TDL_INV_LEMMA:PARENTS-OF-BETWEEN-MENTION-and-MENTION[None]),\n",
      "  -0.2797854951954374),\n",
      " (AnnotationKey (TAB_e2_ROW_WORDS_[100]), -0.27277620871408276),\n",
      " (AnnotationKey (TAB_e2_ROW_WORDS_[h fe]), -0.27218149475843356),\n",
      " (AnnotationKey (TAB_e2_ROW_WORDS_[fe]), -0.27218149475843356),\n",
      " (AnnotationKey (TAB_e1_HTML_ANC_TAG_[li]), -0.2676047854575388),\n",
      " (AnnotationKey (TAB_e1_HTML_TAG_p), -0.2649017636204454),\n",
      " (AnnotationKey (TAB_e1_HTML_ANC_TAG_[p]), -0.2443237181983552),\n",
      " (AnnotationKey (TAB_e1_HTML_ANC_TAG_[ul]), -0.244136342838985),\n",
      " (AnnotationKey (TAB_e2_ROW_WORDS_[5.0]), -0.22640328859585604),\n",
      " (AnnotationKey (TAB_e2_ROW_WORDS_[dc]), -0.21747018558556316),\n",
      " (AnnotationKey (TAB_e2_ROW_WORDS_[-]), -0.20225179415424907),\n",
      " (AnnotationKey (TAB_e2_ROW_WORDS_[dc current]), -0.19750205621181252),\n",
      " (AnnotationKey (TAB_e2_COL_WORDS_[100]), 0.1924098441062155),\n",
      " (AnnotationKey (TAB_e2_ROW_WORDS_[= 5.0]), -0.18078664537735278),\n",
      " (AnnotationKey (TAB_e2_COL_WORDS_[60]), 0.17520317681554298),\n",
      " (AnnotationKey (TAB_e2_ROW_WORDS_[200]), -0.15412929046869803),\n",
      " (AnnotationKey (TAB_e2_COL_WORDS_[30]), -0.14502865565626968),\n",
      " (AnnotationKey (TAB_e2_COL_NUM_[4]), 0.10733706437272096),\n",
      " (AnnotationKey (TAB_e2_ROW_WORDS_[, i]), -0.10659164972143496),\n",
      " (AnnotationKey (TAB_e1_ROW_WORDS_[c]), -0.1060994692169216),\n",
      " (AnnotationKey (TAB_e1_ROW_WORDS_[=]), -0.10396990839669248),\n",
      " (AnnotationKey (TAB_e2_COL_WORDS_[--]), 0.09777457660680251),\n",
      " (AnnotationKey (TDL_INV_SEQ-BETWEEN[LEN:0-4]), 0.09713693184285387),\n",
      " (AnnotationKey (TAB_e1_ROW_WORDS_[i c]), -0.08621218479331715),\n",
      " (AnnotationKey (TAB_e2_ROW_WORDS_[30]), -0.08448473765746782),\n",
      " (AnnotationKey (TAB_e1_ROW_WORDS_[,]), -0.08408222266226588),\n",
      " (AnnotationKey (TAB_e1_COL_WORDS_[)]), -0.08267886575265553),\n",
      " (AnnotationKey (TDL_INV_DEP_LABEL:BETWEEN-MENTION-and-MENTION[nsubj]),\n",
      "  -0.08196341885601142),\n",
      " (AnnotationKey (TAB_e1_ROW_WORDS_[-]), -0.08124912831351991),\n",
      " (AnnotationKey (TAB_e2_ROW_NUM_[2]), -0.0798205645608709),\n",
      " (AnnotationKey (TAB_e1_ROW_WORDS_[c =]), -0.07603305737877002),\n",
      " (AnnotationKey (TAB_e2_ROW_HEAD_WORDS_[h]), -0.07581907840702316),\n",
      " (AnnotationKey (TAB_e1_ROW_WORDS_[v]), -0.07319307815596802),\n",
      " (AnnotationKey (TAB_e2_ROW_WORDS_[15]), -0.06985178215895424),\n",
      " (AnnotationKey (TAB_e1_COL_WORDS_[(]), -0.06711171413510604),\n",
      " (AnnotationKey (TAB_SAME_TABLE_ROW_DIFF_[0]), -0.05860356876849915),\n",
      " (AnnotationKey (TAB_e1_ROW_WORDS_[h fe]), -0.052265278466829226),\n",
      " (AnnotationKey (TAB_e1_ROW_WORDS_[fe]), -0.052265278466829226),\n",
      " (AnnotationKey (TAB_e1_ROW_WORDS_[h]), -0.052265278466829226),\n",
      " (AnnotationKey (TAB_e2_ROW_WORDS_[60]), -0.051338731958357704),\n",
      " (AnnotationKey (TAB_e1_COL_WORDS_[current]), -0.05107126978576129),\n",
      " (AnnotationKey (TAB_e1_HTML_ANC_TAG_[tr]), -0.050255670090493434),\n",
      " (AnnotationKey (TAB_e1_HTML_ANC_TAG_[td]), -0.050255670090493434),\n",
      " (AnnotationKey (TAB_e1_HTML_ANC_TAG_[table]), -0.050255670090493434),\n",
      " (AnnotationKey (TAB_SAME_TABLE), -0.050255670090493434),\n",
      " (AnnotationKey (TAB_e1_ROW_WORDS_[ce]), -0.04980654538238388),\n",
      " (AnnotationKey (TAB_e1_ROW_WORDS_[v ce]), -0.04980654538238388),\n",
      " (AnnotationKey (TAB_e1_COL_WORDS_[voltage]), -0.048956862118848504),\n",
      " (AnnotationKey (TAB_e1_COL_NUM_[1]), -0.04550382843542447),\n",
      " (AnnotationKey (TAB_e1_ROW_WORDS_[ce =]), -0.043768283639801196),\n",
      " (AnnotationKey (TAB_e2_ROW_WORDS_[,]), 0.043061023497620164),\n",
      " (AnnotationKey (TAB_e2_CELL_WORDS_[30]), -0.041825219094389195),\n",
      " (AnnotationKey (TAB_e2_COL_WORDS_[15]), -0.04076840900521069),\n",
      " (AnnotationKey (TAB_e2_HTML_ANC_TAG_[table]), 0.04061584150350057),\n",
      " (AnnotationKey (TAB_e2_HTML_ANC_TAG_[tr]), 0.04061584150350057),\n",
      " (AnnotationKey (TAB_e2_HTML_ANC_TAG_[td]), 0.04061584150350057),\n",
      " (AnnotationKey (TAB_e1_COL_WORDS_[saturation]), -0.03998116703688468),\n",
      " (AnnotationKey (TAB_e1_ROW_WORDS_[150]), -0.03943268188244729),\n",
      " (AnnotationKey (TAB_e1_COL_WORDS_[saturation voltage]), -0.03917675622199243),\n",
      " (AnnotationKey (TAB_e1_ROW_WORDS_[i]), -0.03858581357283636),\n",
      " (AnnotationKey (TAB_e1_ROW_WORDS_[dc]), -0.03727088095757494),\n",
      " (AnnotationKey (TAB_e1_ROW_WORDS_[, i]), -0.03374626388671978),\n",
      " (AnnotationKey (TAB_e2_COL_WORDS_[350]), 0.030967214825049775),\n",
      " (AnnotationKey (TAB_e1_COL_WORDS_[dc]), -0.030816302639510487),\n",
      " (AnnotationKey (TAB_e1_COL_WORDS_[dc current]), -0.030816302639510487),\n",
      " (AnnotationKey (TAB_e1_COL_WORDS_[on]), -0.03031044136928605),\n",
      " (AnnotationKey (TAB_e1_ROW_WORDS_[5.0]), -0.028808971348882256),\n",
      " (AnnotationKey (TAB_e1_ROW_HEAD_WORDS_[fe]), -0.02860091727387602),\n",
      " (AnnotationKey (TAB_e1_ROW_HEAD_WORDS_[h]), -0.02860091727387602),\n",
      " (AnnotationKey (TAB_e1_ROW_HEAD_WORDS_[h fe]), -0.02860091727387602),\n",
      " (AnnotationKey (TAB_e1_ROW_WORDS_[= 5.0]), -0.026573565829555536),\n",
      " (AnnotationKey (TDL_INV_BETWEEN-MENTION-and-MENTION[LEN:0-2]),\n",
      "  -0.025987260960063385),\n",
      " (AnnotationKey (TAB_e1_COL_WORDS_[collector-emitter]), -0.02522623962505846),\n",
      " (AnnotationKey (TAB_e1_ROW_WORDS_[dc current]), -0.024696717796963436),\n",
      " (AnnotationKey (TAB_e1_ROW_WORDS_[100]), -0.022348300080073175),\n",
      " (AnnotationKey (TAB_e1_ROW_WORDS_[200]), -0.021848750117756156),\n",
      " (AnnotationKey (TAB_SAME_TABLE_COL_DIFF_[-3]), -0.02087377623895855),\n",
      " (AnnotationKey (TAB_e1_ROW_WORDS_[current]), 0.01970792621454598),\n",
      " (AnnotationKey (TAB_e2_ROW_HEAD_WORDS_[fe]), -0.019462076539955183),\n",
      " (AnnotationKey (TAB_e2_ROW_HEAD_WORDS_[h fe]), -0.019462076539955183),\n",
      " (AnnotationKey (TAB_e1_CELL_WORDS_[current]), -0.01900788342568989),\n",
      " (AnnotationKey (TAB_e1_COL_WORDS_[collector-emitter saturation]),\n",
      "  -0.017355736861871383),\n",
      " (AnnotationKey (TAB_SAME_TABLE_MANHATTAN_DIST_[3]), -0.016496172861981816),\n",
      " (AnnotationKey (TAB_e1_CELL_WORDS_[dc current]), -0.015864288152707993),\n",
      " (AnnotationKey (TAB_e1_CELL_WORDS_[dc]), -0.015864288152707993),\n",
      " (AnnotationKey (TAB_e1_COL_WORDS_[voltage (]), -0.014705114406157679),\n",
      " (AnnotationKey (TAB_e1_COL_WORDS_[( on]), -0.01360518483511236),\n",
      " (AnnotationKey (TAB_e1_COL_WORDS_[on )]), -0.01360518483511236),\n",
      " (AnnotationKey (TAB_e2_CELL_WORDS_[100]), -0.010775091410770673),\n",
      " (AnnotationKey (TAB_e1_COL_WORDS_[typ]), -0.010466213817213557),\n",
      " (AnnotationKey (TAB_e1_COL_WORDS_[parameter]), -0.01028316176240985),\n",
      " (AnnotationKey (TAB_e1_ROW_WORDS_[80]), -0.009494749025985093),\n",
      " (AnnotationKey (TAB_e1_COL_HEAD_WORDS_[parameter]), -0.009063182959369363),\n",
      " (AnnotationKey (TAB_e1_ROW_NUM_[2]), 0.00881316018384574),\n",
      " (AnnotationKey (TAB_e2_CELL_WORDS_[60]), -0.008679213395282166),\n",
      " (AnnotationKey (TAB_e2_CELL_WORDS_[200]), -0.0029908101857612146),\n",
      " (AnnotationKey (TAB_e1_COL_WORDS_[output]), -0.0026618843317881553),\n",
      " (AnnotationKey (TAB_e2_ROW_WORDS_[350]), 0.002637723911654524),\n",
      " (AnnotationKey (TAB_e2_CELL_WORDS_[350]), 0.002637723911654524),\n",
      " (AnnotationKey (TAB_e1_ROW_WORDS_[160]), -0.0023713823014936426),\n",
      " (AnnotationKey (TAB_e1_ROW_WORDS_[140]), -0.0018359573639786545),\n",
      " (AnnotationKey (TAB_e2_COL_HEAD_WORDS_[unit]), -0.001146427371752939),\n",
      " (AnnotationKey (TAB_e2_COL_WORDS_[unit]), -0.001146427371752939),\n",
      " (AnnotationKey (TAB_e1_ROW_WORDS_[ma]), -0.0008458382925900015),\n",
      " (AnnotationKey (TAB_e1_ROW_WORDS_[5.0 ma]), -0.00015656363373514338)]\n"
     ]
    }
   ],
   "source": [
    "from hardware_utils import entity_to_candidates\n",
    "\n",
    "entity = FN_list[0]\n",
    "print entity\n",
    "print\n",
    "\n",
    "matches = entity_to_candidates(entity, fn)\n",
    "print \"# Matches: %d\" % len(matches)\n",
    "candidate = matches[0]\n",
    "print candidate\n",
    "print\n",
    "\n",
    "print disc_model.get_candidate_score(candidate, F_dev)\n",
    "print\n",
    "pprint(disc_model.get_candidate_feature_weights(candidate, F_dev))"
   ]
  },
  {
   "cell_type": "code",
   "execution_count": 20,
   "metadata": {
    "collapsed": false
   },
   "outputs": [
    {
     "name": "stdout",
     "output_type": "stream",
     "text": [
      "Doc: Document TKCGS00622-1\n",
      "------------\n",
      "Part:\n",
      "Span(\"DTC114TE\", parent=104324, chars=[36,43], words=[4,4])\n",
      "Table: Table(Doc: TKCGS00622-1, Position: 3)\n",
      "Row: 2\n",
      "Col: 1\n",
      "Phrase: Phrase(Doc: TKCGS00622-1, Table: 3, Row: 2, Col: 1, Position: 0, Text: DTC114EE DTC124EE DTC144EE DTC114YE DTC114TE DTC143TE DTC123EE DTC143EE DTC143ZE DTC124XE)\n",
      "------------\n",
      "Temp:\n",
      "ImplicitSpan(\"150\", parent=104347, words=[0,0], position=[0])\n",
      "Table: Table(Doc: TKCGS00622-1, Position: 3)\n",
      "Row: 2\n",
      "Col: 4\n",
      "Phrase: Phrase(Doc: TKCGS00622-1, Table: 3, Row: 2, Col: 4, Position: 0, Text: 150)\n"
     ]
    }
   ],
   "source": [
    "from hardware_utils import part_error_analysis\n",
    "part_error_analysis(candidate)"
   ]
  },
  {
   "cell_type": "code",
   "execution_count": null,
   "metadata": {
    "collapsed": true
   },
   "outputs": [],
   "source": [
    "import os\n",
    "os.system('cp snorkel.db snorkel.db\\ final');"
   ]
  }
 ],
 "metadata": {
  "anaconda-cloud": {},
  "kernelspec": {
   "display_name": "Python [default]",
   "language": "python",
   "name": "python2"
  },
  "language_info": {
   "codemirror_mode": {
    "name": "ipython",
    "version": 2
   },
   "file_extension": ".py",
   "mimetype": "text/x-python",
   "name": "python",
   "nbconvert_exporter": "python",
   "pygments_lexer": "ipython2",
   "version": "2.7.10"
  }
 },
 "nbformat": 4,
 "nbformat_minor": 1
}
