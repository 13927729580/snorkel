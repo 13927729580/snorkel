{
 "cells": [
  {
   "cell_type": "markdown",
   "metadata": {},
   "source": [
    "# polarity"
   ]
  },
  {
   "cell_type": "markdown",
   "metadata": {},
   "source": [
    "## Setup"
   ]
  },
  {
   "cell_type": "code",
   "execution_count": null,
   "metadata": {
    "collapsed": true
   },
   "outputs": [],
   "source": [
    "# If necessary:\n",
    "import os\n",
    "os.remove('snorkel.db')"
   ]
  },
  {
   "cell_type": "code",
   "execution_count": null,
   "metadata": {
    "collapsed": false
   },
   "outputs": [],
   "source": [
    "%load_ext autoreload\n",
    "%autoreload 2\n",
    "%matplotlib inline\n",
    "\n",
    "import os\n",
    "import sys\n",
    "sys.path.append(os.environ['SNORKELHOME'] + '/tutorials/tables/')"
   ]
  },
  {
   "cell_type": "markdown",
   "metadata": {},
   "source": [
    "## Parsing"
   ]
  },
  {
   "cell_type": "code",
   "execution_count": null,
   "metadata": {
    "collapsed": true
   },
   "outputs": [],
   "source": [
    "from snorkel import SnorkelSession\n",
    "session = SnorkelSession()"
   ]
  },
  {
   "cell_type": "markdown",
   "metadata": {},
   "source": [
    "### Define Parser"
   ]
  },
  {
   "cell_type": "code",
   "execution_count": null,
   "metadata": {
    "collapsed": true
   },
   "outputs": [],
   "source": [
    "import os\n",
    "from snorkel.parser import CorpusParser, HTMLParser, OmniParser\n",
    "from snorkel.utils import get_ORM_instance\n",
    "from snorkel.queries import split_corpus\n",
    "\n",
    "docs_path = os.environ['SNORKELHOME'] + '/tutorials/tables/data/hardware/hardware100_html/'\n",
    "doc_parser = HTMLParser(path=docs_path)\n",
    "context_parser = OmniParser()\n",
    "cp = CorpusParser(doc_parser, context_parser, max_docs=100) "
   ]
  },
  {
   "cell_type": "markdown",
   "metadata": {},
   "source": [
    "### Run Parser"
   ]
  },
  {
   "cell_type": "code",
   "execution_count": null,
   "metadata": {
    "collapsed": false,
    "scrolled": true
   },
   "outputs": [],
   "source": [
    "%time corpus = cp.parse_corpus(name='Hardware', session=session)\n",
    "\n",
    "session.add(corpus)\n",
    "session.commit()"
   ]
  },
  {
   "cell_type": "markdown",
   "metadata": {},
   "source": [
    "### Split Corpus"
   ]
  },
  {
   "cell_type": "code",
   "execution_count": null,
   "metadata": {
    "collapsed": false
   },
   "outputs": [],
   "source": [
    "from snorkel.models import Corpus\n",
    "\n",
    "corpus = get_ORM_instance(Corpus, session, 'Hardware')\n",
    "split_corpus(session, corpus, train=0.8, development=0.2, test=0, seed=3)"
   ]
  },
  {
   "cell_type": "code",
   "execution_count": null,
   "metadata": {
    "collapsed": true
   },
   "outputs": [],
   "source": [
    "# If necessary\n",
    "import os\n",
    "os.system('cp snorkel.db snorkel.db\\ corpus');"
   ]
  },
  {
   "cell_type": "markdown",
   "metadata": {},
   "source": [
    "## Extraction"
   ]
  },
  {
   "cell_type": "code",
   "execution_count": null,
   "metadata": {
    "collapsed": true
   },
   "outputs": [],
   "source": [
    "# If necessary:\n",
    "import os\n",
    "os.remove('snorkel.db');\n",
    "os.system('cp snorkel.db\\ corpus snorkel.db');\n",
    "\n",
    "import sys\n",
    "sys.path.append(os.environ['SNORKELHOME'] + '/tutorials/tables/')\n",
    "\n",
    "from snorkel import SnorkelSession\n",
    "session = SnorkelSession()"
   ]
  },
  {
   "cell_type": "code",
   "execution_count": null,
   "metadata": {
    "collapsed": true
   },
   "outputs": [],
   "source": [
    "from snorkel.models import candidate_subclass\n",
    "\n",
    "Part_Polarity = candidate_subclass('Part_Polarity', ['part','polarity'])"
   ]
  },
  {
   "cell_type": "markdown",
   "metadata": {},
   "source": [
    "### Define Matchers"
   ]
  },
  {
   "cell_type": "code",
   "execution_count": null,
   "metadata": {
    "collapsed": true
   },
   "outputs": [],
   "source": [
    "from snorkel.matchers import RegexMatchSpan, Union\n",
    "\n",
    "eeca_matcher = RegexMatchSpan(rgx='([b]{1}[abcdefklnpqruyz]{1}[\\swxyz]?[0-9]{3,5}[\\s]?[A-Z\\/]{0,5}[0-9]?[A-Z]?([-][A-Z0-9]{1,7})?([-][A-Z0-9]{1,2})?)')\n",
    "jedec_matcher = RegexMatchSpan(rgx='([123]N\\d{3,4}[A-Z]{0,5}[0-9]?[A-Z]?)')\n",
    "jis_matcher = RegexMatchSpan(rgx='(2S[abcdefghjkmqrstvz]{1}[\\d]{2,4})')\n",
    "others_matcher = RegexMatchSpan(rgx='((NSVBC|SMBT|MJ|MJE|MPS|MRF|RCA|TIP|ZTX|ZT|TIS|TIPL|DTC|MMBT|PZT){1}[\\d]{2,4}[A-Z]{0,3}([-][A-Z0-9]{0,6})?([-][A-Z0-9]{0,1})?)')\n",
    "parts_matcher = Union(eeca_matcher, jedec_matcher, jis_matcher, others_matcher)\n",
    "\n",
    "polarity_matcher = RegexMatchSpan(rgx=r'(pnp|npn)', ignore_case=True)"
   ]
  },
  {
   "cell_type": "markdown",
   "metadata": {},
   "source": [
    "### Define ContextSpaces"
   ]
  },
  {
   "cell_type": "code",
   "execution_count": null,
   "metadata": {
    "collapsed": false
   },
   "outputs": [],
   "source": [
    "from snorkel.candidates import OmniNgrams\n",
    "from hardware_utils import OmniNgramsPart, get_gold_dict\n",
    "from collections import defaultdict\n",
    "import os\n",
    "\n",
    "# Make parts list\n",
    "gold_file = os.environ['SNORKELHOME'] + '/tutorials/tables/data/hardware/hardware_gold.csv'\n",
    "gold_parts = get_gold_dict(gold_file, doc_on=True, part_on=True, val_on=False)\n",
    "parts_by_doc = defaultdict(set)\n",
    "for part in gold_parts:\n",
    "    parts_by_doc[part[0]].add(part[1])\n",
    "\n",
    "part_ngrams = OmniNgramsPart(n_max=3, parts_by_doc=parts_by_doc)\n",
    "polarity_ngrams = OmniNgrams(n_max=1)"
   ]
  },
  {
   "cell_type": "markdown",
   "metadata": {},
   "source": [
    "### Run CandidateExtractor"
   ]
  },
  {
   "cell_type": "code",
   "execution_count": null,
   "metadata": {
    "collapsed": false
   },
   "outputs": [],
   "source": [
    "from snorkel.models import Corpus\n",
    "from snorkel.candidates import CandidateExtractor\n",
    "from snorkel.utils import get_ORM_instance\n",
    "ce = CandidateExtractor(Part_Polarity, \n",
    "                        [part_ngrams, polarity_ngrams], \n",
    "                        [parts_matcher, polarity_matcher], \n",
    "                        throttler=None)\n",
    "\n",
    "for corpus_name in ['Hardware Training', 'Hardware Development']:\n",
    "    corpus = get_ORM_instance(Corpus, session, corpus_name)\n",
    "    print \"Extracting Candidates from %s\" % corpus\n",
    "    %time candidates = ce.extract(\\\n",
    "        corpus.documents, corpus_name + ' Candidates', session)\n",
    "    session.add(candidates)\n",
    "    print \"%s contains %d Candidates\" % (candidates, len(candidates))\n",
    "session.commit()"
   ]
  },
  {
   "cell_type": "markdown",
   "metadata": {},
   "source": [
    "### Assess Recall"
   ]
  },
  {
   "cell_type": "code",
   "execution_count": null,
   "metadata": {
    "collapsed": false
   },
   "outputs": [],
   "source": [
    "from snorkel.models import Candidate\n",
    "from hardware_utils import entity_level_total_recall\n",
    "\n",
    "all_candidates = session.query(Candidate).all()\n",
    "gold_file = os.environ['SNORKELHOME'] + '/tutorials/tables/data/hardware/hardware_gold.csv'\n",
    "(tp, fp, fn) = entity_level_total_recall(\n",
    "    all_candidates, gold_file, 'polarity', relation=True)"
   ]
  },
  {
   "cell_type": "code",
   "execution_count": null,
   "metadata": {
    "collapsed": false
   },
   "outputs": [],
   "source": [
    "from pprint import pprint\n",
    "pprint(fn)\n",
    "print len(fn)"
   ]
  },
  {
   "cell_type": "code",
   "execution_count": null,
   "metadata": {
    "collapsed": true
   },
   "outputs": [],
   "source": [
    "# If necessary\n",
    "import os\n",
    "os.system('cp snorkel.db snorkel.db\\ candidates');"
   ]
  },
  {
   "cell_type": "markdown",
   "metadata": {},
   "source": [
    "## Gold Labels"
   ]
  },
  {
   "cell_type": "code",
   "execution_count": 1,
   "metadata": {
    "collapsed": false
   },
   "outputs": [],
   "source": [
    "# If necessary\n",
    "import os\n",
    "os.remove('snorkel.db');\n",
    "os.system('cp snorkel.db\\ candidates snorkel.db');\n",
    "\n",
    "import sys\n",
    "sys.path.append(os.environ['SNORKELHOME'] + '/tutorials/tables/')\n",
    "\n",
    "from snorkel import SnorkelSession\n",
    "session = SnorkelSession()\n",
    "\n",
    "from snorkel.models import candidate_subclass\n",
    "Part_Polarity = candidate_subclass('Part_Polarity', ['part','polarity'])"
   ]
  },
  {
   "cell_type": "code",
   "execution_count": 2,
   "metadata": {
    "collapsed": false
   },
   "outputs": [
    {
     "name": "stdout",
     "output_type": "stream",
     "text": [
      "Loading 92047 candidate labels\n",
      "[========================================] 100%\n",
      "CPU times: user 3min 41s, sys: 1.92 s, total: 3min 43s\n",
      "Wall time: 3min 48s\n",
      "86466/92047 Candidates in Candidate Set (Hardware Training Candidates) have positive Labels\n",
      "Loading 22020 candidate labels\n",
      "[========================================] 100%\n",
      "CPU times: user 55.2 s, sys: 397 ms, total: 55.6 s\n",
      "Wall time: 56.2 s\n",
      "19634/22020 Candidates in Candidate Set (Hardware Development Candidates) have positive Labels\n"
     ]
    }
   ],
   "source": [
    "import os\n",
    "from snorkel.models import CandidateSet\n",
    "from hardware_utils import load_hardware_labels\n",
    "\n",
    "gold_file = os.environ['SNORKELHOME'] + '/tutorials/tables/data/hardware/hardware_gold.csv'\n",
    "for set_name in ['Training', 'Development']:\n",
    "    candidate_set_name = 'Hardware %s Candidates' % set_name\n",
    "    candidates = session.query(CandidateSet).filter(\n",
    "        CandidateSet.name == candidate_set_name).one()\n",
    "    label_set_name = 'Hardware %s Candidates -- Gold' % set_name\n",
    "    annotation_key_name = 'Hardware %s Labels -- Gold' % set_name\n",
    "    %time gold_candidates, annotation_key = load_hardware_labels(session,\\\n",
    "                           label_set_name, \\\n",
    "                           annotation_key_name, \\\n",
    "                           candidates, \\\n",
    "                           gold_file, \\\n",
    "                           'polarity')\n",
    "    candidates_gold = session.query(CandidateSet).filter(\n",
    "        CandidateSet.name == candidate_set_name + ' -- Gold').one()\n",
    "    print \"%d/%d Candidates in %s have positive Labels\" % (\n",
    "        len(candidates_gold), len(candidates), candidates)"
   ]
  },
  {
   "cell_type": "code",
   "execution_count": 3,
   "metadata": {
    "collapsed": true
   },
   "outputs": [],
   "source": [
    "# If necessary\n",
    "import os\n",
    "os.system('cp snorkel.db snorkel.db\\ labels');"
   ]
  },
  {
   "cell_type": "markdown",
   "metadata": {},
   "source": [
    "### Assess Baseline Performance"
   ]
  },
  {
   "cell_type": "code",
   "execution_count": 17,
   "metadata": {
    "collapsed": false
   },
   "outputs": [
    {
     "name": "stdout",
     "output_type": "stream",
     "text": [
      "[========================================] 100%\n",
      "========================================\n",
      "Scoring on Entity-Level Gold Data\n",
      "========================================\n",
      "Corpus Precision 1.0\n",
      "Corpus Recall    0.964\n",
      "Corpus F1        0.982\n",
      "----------------------------------------\n",
      "TP: 801 | FP: 0 | FN: 30\n",
      "========================================\n",
      "\n"
     ]
    }
   ],
   "source": [
    "from snorkel.models import Corpus, Candidate\n",
    "from snorkel.utils import get_ORM_instance\n",
    "from snorkel.lf_helpers import *\n",
    "from hardware_utils import baseline, entity_level_f1\n",
    "from itertools import chain\n",
    "\n",
    "def LF_all_true(c):\n",
    "    return True\n",
    "\n",
    "def LF_complement_nearby(c):\n",
    "    return 1 if set(['complement','complementary']).isdisjoint(\n",
    "        chain.from_iterable(\n",
    "            [get_phrase_ngrams(c.part), \n",
    "             get_phrase_ngrams(c.polarity),\n",
    "             get_neighbor_phrase_ngrams(c.polarity)])) else 0\n",
    "\n",
    "candidates = session.query(Candidate).all()\n",
    "(tp, fp, tn, fn) = baseline(candidates, LF_complement_nearby)\n",
    "\n",
    "corpus = get_ORM_instance(Corpus, session, 'Hardware')\n",
    "gold_file = os.environ['SNORKELHOME'] + '/tutorials/tables/data/hardware/hardware_gold.csv'\n",
    "(TP, FP, FN) = entity_level_f1(tp, fp, tn, fn, gold_file, corpus, 'polarity')"
   ]
  },
  {
   "cell_type": "code",
   "execution_count": 18,
   "metadata": {
    "collapsed": false
   },
   "outputs": [
    {
     "name": "stdout",
     "output_type": "stream",
     "text": [
      "set([])\n"
     ]
    }
   ],
   "source": [
    "from pprint import pprint\n",
    "pprint(FP)"
   ]
  },
  {
   "cell_type": "code",
   "execution_count": 19,
   "metadata": {
    "collapsed": false
   },
   "outputs": [
    {
     "name": "stdout",
     "output_type": "stream",
     "text": [
      "set([('CSEMS03485-1', '2N3905', 'PNP'),\n",
      "     ('CSEMS03485-1', '2N3906', 'PNP'),\n",
      "     ('SAMSD00049-518', 'BC546', 'NPN'),\n",
      "     ('SAMSD00049-518', 'BC546A', 'NPN'),\n",
      "     ('SAMSD00049-518', 'BC546B', 'NPN'),\n",
      "     ('SAMSD00049-518', 'BC546C', 'NPN'),\n",
      "     ('SAMSD00049-518', 'BC547', 'NPN'),\n",
      "     ('SAMSD00049-518', 'BC547A', 'NPN'),\n",
      "     ('SAMSD00049-518', 'BC547B', 'NPN'),\n",
      "     ('SAMSD00049-518', 'BC547C', 'NPN'),\n",
      "     ('SAMSD00049-518', 'BC548', 'NPN'),\n",
      "     ('SAMSD00049-518', 'BC548A', 'NPN'),\n",
      "     ('SAMSD00049-518', 'BC548B', 'NPN'),\n",
      "     ('SAMSD00049-518', 'BC548C', 'NPN'),\n",
      "     ('SAMSD00049-518', 'BC549', 'NPN'),\n",
      "     ('SAMSD00049-518', 'BC549A', 'NPN'),\n",
      "     ('SAMSD00049-518', 'BC549B', 'NPN'),\n",
      "     ('SAMSD00049-518', 'BC549C', 'NPN'),\n",
      "     ('SAMSD00049-518', 'BC550', 'NPN'),\n",
      "     ('SAMSD00049-518', 'BC550A', 'NPN'),\n",
      "     ('SAMSD00049-518', 'BC550B', 'NPN'),\n",
      "     ('SAMSD00049-518', 'BC550C', 'NPN'),\n",
      "     ('UTCLS02155-1', 'BC807', 'PNP'),\n",
      "     ('UTCLS02155-1', 'BC807-16', 'PNP'),\n",
      "     ('UTCLS02155-1', 'BC807-25', 'PNP'),\n",
      "     ('UTCLS02155-1', 'BC807-40', 'PNP'),\n",
      "     ('UTCLS02155-1', 'BC808', 'PNP'),\n",
      "     ('UTCLS02155-1', 'BC808-16', 'PNP'),\n",
      "     ('UTCLS02155-1', 'BC808-25', 'PNP'),\n",
      "     ('UTCLS02155-1', 'BC808-40', 'PNP')])\n"
     ]
    }
   ],
   "source": [
    "pprint(FN)"
   ]
  },
  {
   "cell_type": "code",
   "execution_count": 7,
   "metadata": {
    "collapsed": false
   },
   "outputs": [
    {
     "name": "stdout",
     "output_type": "stream",
     "text": [
      "114067\n",
      "Part_Polarity(ImplicitSpan(\"BC856\", parent=104141, words=[0,0], position=[2]), Span(\"NPN\", parent=22719, chars=[16,18], words=[6,6]))\n"
     ]
    }
   ],
   "source": [
    "from hardware_utils import entity_to_candidates\n",
    "\n",
    "print len(candidates)\n",
    "matches = entity_to_candidates((u'SIEMS01215-1', u'BC856', u'NPN'), candidates)\n",
    "c = matches[0]\n",
    "print c"
   ]
  },
  {
   "cell_type": "code",
   "execution_count": 22,
   "metadata": {
    "collapsed": false
   },
   "outputs": [
    {
     "name": "stdout",
     "output_type": "stream",
     "text": [
      "[u'complementary', u'types', u':', u'bc', u'846', u',', u'bc', u'847', u',', u'type']\n",
      "Phrase(Doc: SIEMS01215-1, Table: X, Row: X, Col: X, Position: 0, Text: BC 849, BC 850 (NPN))\n",
      "[]\n",
      "SPAN_TYPE_[EXPLICIT]\n"
     ]
    }
   ],
   "source": [
    "from snorkel.models import ImplicitSpan\n",
    "from snorkel.lf_helpers import *\n",
    "phrases = []\n",
    "print list(get_neighbor_phrase_ngrams(c.polarity))\n",
    "print c.polarity.parent\n",
    "print phrases\n",
    "print \"SPAN_TYPE_[%s]\" % ('IMPLICIT' if isinstance(c.polarity, ImplicitSpan) else 'EXPLICIT')\n",
    "# list(get_phrase_ngrams(c.polarity))"
   ]
  },
  {
   "cell_type": "markdown",
   "metadata": {},
   "source": [
    "## Features"
   ]
  },
  {
   "cell_type": "code",
   "execution_count": 1,
   "metadata": {
    "collapsed": true
   },
   "outputs": [],
   "source": [
    "# If necessary:\n",
    "import os\n",
    "os.remove('snorkel.db');\n",
    "os.system('cp snorkel.db\\ labels snorkel.db');\n",
    "\n",
    "from snorkel import SnorkelSession\n",
    "session = SnorkelSession()\n",
    "\n",
    "from snorkel.models import candidate_subclass\n",
    "Part_Polarity = candidate_subclass('Part_Polarity', ['part','polarity'])"
   ]
  },
  {
   "cell_type": "markdown",
   "metadata": {},
   "source": [
    "### Extract Features"
   ]
  },
  {
   "cell_type": "code",
   "execution_count": 2,
   "metadata": {
    "collapsed": false
   },
   "outputs": [
    {
     "name": "stdout",
     "output_type": "stream",
     "text": [
      "[========================================] 100%\n",
      "Bulk upserting 18469929 annotations...\n",
      "Done.\n",
      "Loading sparse Feature matrix...\n",
      "CPU times: user 38min 50s, sys: 15min 51s, total: 54min 42s\n",
      "Wall time: 59min 49s\n",
      "[========================================] 100%\n",
      "Bulk upserting 3671296 annotations...\n",
      "Done.\n",
      "Loading sparse Feature matrix...\n",
      "CPU times: user 9min 21s, sys: 3min 24s, total: 12min 45s\n",
      "Wall time: 13min 45s\n"
     ]
    }
   ],
   "source": [
    "from snorkel.models import CandidateSet\n",
    "from snorkel.fast_annotations import FeatureManager\n",
    "from snorkel.utils import get_ORM_instance\n",
    "\n",
    "train = get_ORM_instance(CandidateSet, session, 'Hardware Training Candidates')\n",
    "dev   = get_ORM_instance(CandidateSet, session, 'Hardware Development Candidates')\n",
    "\n",
    "feature_manager = FeatureManager()\n",
    "%time F_train = feature_manager.create(session, train, 'Train Features')\n",
    "%time F_dev = feature_manager.update(session, dev, 'Train Features', expand_key_set=False)"
   ]
  },
  {
   "cell_type": "code",
   "execution_count": 3,
   "metadata": {
    "collapsed": true
   },
   "outputs": [],
   "source": [
    "# If necessary:\n",
    "import os\n",
    "os.system('cp snorkel.db snorkel.db\\ featurized');"
   ]
  },
  {
   "cell_type": "markdown",
   "metadata": {},
   "source": [
    "## LFs"
   ]
  },
  {
   "cell_type": "code",
   "execution_count": 1,
   "metadata": {
    "collapsed": true
   },
   "outputs": [],
   "source": [
    "# If necessary\n",
    "import os\n",
    "os.remove('snorkel.db');\n",
    "os.system('cp snorkel.db\\ featurized snorkel.db');\n",
    "\n",
    "from snorkel import SnorkelSession\n",
    "session = SnorkelSession()\n",
    "\n",
    "import sys\n",
    "sys.path.append(os.environ['SNORKELHOME'] + '/tutorials/tables/')\n",
    "\n",
    "from snorkel.models import candidate_subclass\n",
    "Part_Polarity = candidate_subclass('Part_Polarity', ['part','polarity'])\n",
    "\n",
    "from snorkel.models import CandidateSet\n",
    "train = session.query(CandidateSet).filter(\n",
    "    CandidateSet.name == 'Hardware Training Candidates').one()"
   ]
  },
  {
   "cell_type": "markdown",
   "metadata": {},
   "source": [
    "### Define LFs"
   ]
  },
  {
   "cell_type": "code",
   "execution_count": 2,
   "metadata": {
    "collapsed": false
   },
   "outputs": [],
   "source": [
    "from snorkel.fast_annotations import LabelManager\n",
    "from snorkel.lf_helpers import *\n",
    "import re\n",
    "label_manager = LabelManager()\n",
    "\n",
    "LFs = []\n",
    "\n",
    "def LF_complement_phrase_part(c):\n",
    "    return -1 if overlap(['complement','complementary'], \n",
    "                         get_phrase_ngrams(c.part)) else 0\n",
    "LFs.append(LF_complement_phrase_part)\n",
    "\n",
    "def LF_complement_phrase_polarity(c):\n",
    "    return -1 if overlap(['complement','complementary'], \n",
    "                         get_phrase_ngrams(c.polarity)) else 0\n",
    "LFs.append(LF_complement_phrase_polarity)\n",
    "\n",
    "def LF_complement_neighbor_polarity(c):\n",
    "    return -1 if overlap(['complement','complementary'], \n",
    "                         get_neighbor_phrase_ngrams(c.polarity)) else 0\n",
    "LFs.append(LF_complement_neighbor_polarity)\n",
    "\n",
    "def LF_top_mark_col_part(c):\n",
    "    return -1 if overlap(['top','mark'],\n",
    "                         get_col_ngrams(c.part)) else 0\n",
    "LFs.append(LF_top_mark_col_part)\n",
    "\n",
    "def LF_endswith_D_part(c):\n",
    "    return -1 if c.part.get_span().endswith('D') else 0\n",
    "LFs.append(LF_endswith_D_part)\n",
    "\n",
    "def LF_default_positive(c):\n",
    "    return 1 if not overlap(['complement','complementary'],\n",
    "                            chain.from_iterable([\n",
    "                            get_phrase_ngrams(c.part),\n",
    "                            get_phrase_ngrams(c.polarity),\n",
    "                            get_neighbor_phrase_ngrams(c.polarity)])) else 0\n",
    "LFs.append(LF_default_positive)"
   ]
  },
  {
   "cell_type": "code",
   "execution_count": 6,
   "metadata": {
    "collapsed": false
   },
   "outputs": [
    {
     "name": "stdout",
     "output_type": "stream",
     "text": [
      "114067\n",
      "Part_Polarity(ImplicitSpan(\"BC807-25\", parent=6783, words=[0,0], position=[1]), Span(\"NPN\", parent=6804, chars=[26,28], words=[2,2]))\n",
      "0\n",
      "-1\n",
      "0\n",
      "0\n",
      "0\n",
      "0\n"
     ]
    }
   ],
   "source": [
    "from snorkel.models import Candidate\n",
    "from hardware_utils import entity_to_candidates\n",
    "\n",
    "candidates = session.query(Candidate).all()\n",
    "print len(candidates)\n",
    "# matches = entity_to_candidates((u'SIEMS01215-1', u'BC856', u'NPN'), candidates)\n",
    "# c = matches[0]\n",
    "c = candidates[0]\n",
    "print candidates[0]\n",
    "\n",
    "print LF_complement_phrase_part(c)\n",
    "print LF_complement_phrase_polarity(c)\n",
    "print LF_complement_neighbor_polarity(c)\n",
    "print LF_top_mark_col_part(c)\n",
    "print LF_endswith_D_part(c)\n",
    "print LF_default_positive(c)"
   ]
  },
  {
   "cell_type": "markdown",
   "metadata": {},
   "source": [
    "### Apply LFs"
   ]
  },
  {
   "cell_type": "code",
   "execution_count": 7,
   "metadata": {
    "collapsed": false
   },
   "outputs": [
    {
     "name": "stdout",
     "output_type": "stream",
     "text": [
      "[========================================] 100%\n",
      "Bulk upserting 552282 annotations...\n",
      "Done.\n",
      "Loading sparse Label matrix...\n",
      "CPU times: user 15min 32s, sys: 2min, total: 17min 32s\n",
      "Wall time: 17min 50s\n"
     ]
    },
    {
     "data": {
      "text/plain": [
       "<92047x6 sparse matrix of type '<type 'numpy.float64'>'\n",
       "\twith 92282 stored elements in Compressed Sparse Row format>"
      ]
     },
     "execution_count": 7,
     "metadata": {},
     "output_type": "execute_result"
    }
   ],
   "source": [
    "%time L_train = label_manager.create(session, train, 'LF Labels', f=LFs)\n",
    "L_train"
   ]
  },
  {
   "cell_type": "markdown",
   "metadata": {},
   "source": [
    "### Assess LF accuracy"
   ]
  },
  {
   "cell_type": "code",
   "execution_count": 8,
   "metadata": {
    "collapsed": false
   },
   "outputs": [
    {
     "name": "stdout",
     "output_type": "stream",
     "text": [
      "[========================================] 100%\n",
      "CPU times: user 1.89 s, sys: 54.6 ms, total: 1.94 s\n",
      "Wall time: 1.95 s\n"
     ]
    },
    {
     "data": {
      "text/html": [
       "<div>\n",
       "<table border=\"1\" class=\"dataframe\">\n",
       "  <thead>\n",
       "    <tr style=\"text-align: right;\">\n",
       "      <th></th>\n",
       "      <th>accuracy</th>\n",
       "      <th>conflicts</th>\n",
       "      <th>coverage</th>\n",
       "      <th>j</th>\n",
       "      <th>overlaps</th>\n",
       "    </tr>\n",
       "  </thead>\n",
       "  <tbody>\n",
       "    <tr>\n",
       "      <th>LF_complement_phrase_part</th>\n",
       "      <td>0</td>\n",
       "      <td>0.000000</td>\n",
       "      <td>0.000043</td>\n",
       "      <td>0</td>\n",
       "      <td>0.000000</td>\n",
       "    </tr>\n",
       "    <tr>\n",
       "      <th>LF_complement_phrase_polarity</th>\n",
       "      <td>1</td>\n",
       "      <td>0.000000</td>\n",
       "      <td>0.060632</td>\n",
       "      <td>1</td>\n",
       "      <td>0.000000</td>\n",
       "    </tr>\n",
       "    <tr>\n",
       "      <th>LF_complement_neighbor_polarity</th>\n",
       "      <td>0</td>\n",
       "      <td>0.000000</td>\n",
       "      <td>0.000500</td>\n",
       "      <td>2</td>\n",
       "      <td>0.000000</td>\n",
       "    </tr>\n",
       "    <tr>\n",
       "      <th>LF_top_mark_col_part</th>\n",
       "      <td>0</td>\n",
       "      <td>0.002553</td>\n",
       "      <td>0.002553</td>\n",
       "      <td>3</td>\n",
       "      <td>0.002553</td>\n",
       "    </tr>\n",
       "    <tr>\n",
       "      <th>LF_endswith_D_part</th>\n",
       "      <td>NaN</td>\n",
       "      <td>0.000000</td>\n",
       "      <td>0.000000</td>\n",
       "      <td>4</td>\n",
       "      <td>0.000000</td>\n",
       "    </tr>\n",
       "    <tr>\n",
       "      <th>LF_default_positive</th>\n",
       "      <td>1</td>\n",
       "      <td>0.002553</td>\n",
       "      <td>0.938825</td>\n",
       "      <td>5</td>\n",
       "      <td>0.002553</td>\n",
       "    </tr>\n",
       "  </tbody>\n",
       "</table>\n",
       "</div>"
      ],
      "text/plain": [
       "                                 accuracy  conflicts  coverage  j  overlaps\n",
       "LF_complement_phrase_part               0   0.000000  0.000043  0  0.000000\n",
       "LF_complement_phrase_polarity           1   0.000000  0.060632  1  0.000000\n",
       "LF_complement_neighbor_polarity         0   0.000000  0.000500  2  0.000000\n",
       "LF_top_mark_col_part                    0   0.002553  0.002553  3  0.002553\n",
       "LF_endswith_D_part                    NaN   0.000000  0.000000  4  0.000000\n",
       "LF_default_positive                     1   0.002553  0.938825  5  0.002553"
      ]
     },
     "execution_count": 8,
     "metadata": {},
     "output_type": "execute_result"
    }
   ],
   "source": [
    "train_gold = session.query(CandidateSet).filter(\n",
    "    CandidateSet.name == 'Hardware Training Candidates -- Gold').one()\n",
    "%time L_train.lf_stats(train_gold)"
   ]
  },
  {
   "cell_type": "code",
   "execution_count": 9,
   "metadata": {
    "collapsed": true
   },
   "outputs": [],
   "source": [
    "# If necessary\n",
    "import os\n",
    "os.system('cp snorkel.db snorkel.db\\ features');"
   ]
  },
  {
   "cell_type": "markdown",
   "metadata": {},
   "source": [
    "## Learn and Evaluate"
   ]
  },
  {
   "cell_type": "code",
   "execution_count": 1,
   "metadata": {
    "collapsed": false
   },
   "outputs": [
    {
     "name": "stdout",
     "output_type": "stream",
     "text": [
      "CPU times: user 4min 35s, sys: 1min 35s, total: 6min 11s\n",
      "Wall time: 7min 44s\n",
      "CPU times: user 2min 29s, sys: 55.6 s, total: 3min 24s\n",
      "Wall time: 3min 46s\n",
      "CPU times: user 6.99 s, sys: 395 ms, total: 7.38 s\n",
      "Wall time: 7.7 s\n"
     ]
    }
   ],
   "source": [
    "# If necessary:\n",
    "import os\n",
    "os.remove('snorkel.db');\n",
    "os.system('cp snorkel.db\\ features snorkel.db');\n",
    "\n",
    "from snorkel import SnorkelSession\n",
    "session = SnorkelSession()\n",
    "\n",
    "import sys\n",
    "sys.path.append(os.environ['SNORKELHOME'] + '/tutorials/tables/')\n",
    "\n",
    "from snorkel.models import candidate_subclass\n",
    "Part_Polarity = candidate_subclass('Part_Polarity', ['part','polarity'])\n",
    "\n",
    "from snorkel.models import CandidateSet\n",
    "train = session.query(CandidateSet).filter(\n",
    "    CandidateSet.name == 'Hardware Training Candidates').one()\n",
    "dev = session.query(CandidateSet).filter(\n",
    "    CandidateSet.name == 'Hardware Development Candidates').one()\n",
    "\n",
    "from snorkel.annotations import FeatureManager, LabelManager\n",
    "feature_manager = FeatureManager()\n",
    "%time F_train = feature_manager.load(session, train, 'Train Features')\n",
    "%time F_dev = feature_manager.load(session, dev, 'Train Features')\n",
    "\n",
    "label_manager = LabelManager()\n",
    "%time L_train = label_manager.load(session, train, 'LF Labels')"
   ]
  },
  {
   "cell_type": "code",
   "execution_count": 2,
   "metadata": {
    "collapsed": false
   },
   "outputs": [
    {
     "name": "stdout",
     "output_type": "stream",
     "text": [
      "================================================================================\n",
      "Training marginals (!= 0.5):\t92047\n",
      "Features:\t\t\t6\n",
      "================================================================================\n",
      "Begin training for rate=0.01, mu=1e-06\n",
      "\tLearning epoch = 0\tGradient mag. = 0.003731\n",
      "\tLearning epoch = 250\tGradient mag. = 0.003894\n",
      "\tLearning epoch = 500\tGradient mag. = 0.003861\n",
      "\tLearning epoch = 750\tGradient mag. = 0.003829\n",
      "\tLearning epoch = 1000\tGradient mag. = 0.003796\n",
      "\tLearning epoch = 1250\tGradient mag. = 0.003764\n",
      "\tLearning epoch = 1500\tGradient mag. = 0.003733\n",
      "\tLearning epoch = 1750\tGradient mag. = 0.003701\n",
      "\tLearning epoch = 2000\tGradient mag. = 0.003671\n",
      "\tLearning epoch = 2250\tGradient mag. = 0.003640\n",
      "\tLearning epoch = 2500\tGradient mag. = 0.003610\n",
      "\tLearning epoch = 2750\tGradient mag. = 0.003580\n",
      "\tLearning epoch = 3000\tGradient mag. = 0.003550\n",
      "\tLearning epoch = 3250\tGradient mag. = 0.003521\n",
      "\tLearning epoch = 3500\tGradient mag. = 0.003492\n",
      "\tLearning epoch = 3750\tGradient mag. = 0.003464\n",
      "\tLearning epoch = 4000\tGradient mag. = 0.003435\n",
      "\tLearning epoch = 4250\tGradient mag. = 0.003407\n",
      "\tLearning epoch = 4500\tGradient mag. = 0.003380\n",
      "\tLearning epoch = 4750\tGradient mag. = 0.003352\n",
      "\tLearning epoch = 5000\tGradient mag. = 0.003325\n",
      "\tLearning epoch = 5250\tGradient mag. = 0.003298\n",
      "\tLearning epoch = 5500\tGradient mag. = 0.003272\n",
      "\tLearning epoch = 5750\tGradient mag. = 0.003245\n",
      "\tLearning epoch = 6000\tGradient mag. = 0.003219\n",
      "\tLearning epoch = 6250\tGradient mag. = 0.003193\n",
      "\tLearning epoch = 6500\tGradient mag. = 0.003168\n",
      "\tLearning epoch = 6750\tGradient mag. = 0.003143\n",
      "\tLearning epoch = 7000\tGradient mag. = 0.003118\n",
      "\tLearning epoch = 7250\tGradient mag. = 0.003093\n",
      "\tLearning epoch = 7500\tGradient mag. = 0.003068\n",
      "\tLearning epoch = 7750\tGradient mag. = 0.003044\n",
      "\tLearning epoch = 8000\tGradient mag. = 0.003020\n",
      "\tLearning epoch = 8250\tGradient mag. = 0.002996\n",
      "\tLearning epoch = 8500\tGradient mag. = 0.002973\n",
      "\tLearning epoch = 8750\tGradient mag. = 0.002949\n",
      "\tLearning epoch = 9000\tGradient mag. = 0.002926\n",
      "\tLearning epoch = 9250\tGradient mag. = 0.002903\n",
      "\tLearning epoch = 9500\tGradient mag. = 0.002881\n",
      "\tLearning epoch = 9750\tGradient mag. = 0.002858\n",
      "\tLearning epoch = 10000\tGradient mag. = 0.002836\n",
      "\tLearning epoch = 10250\tGradient mag. = 0.002814\n",
      "\tLearning epoch = 10500\tGradient mag. = 0.002792\n",
      "\tLearning epoch = 10750\tGradient mag. = 0.002771\n",
      "\tLearning epoch = 11000\tGradient mag. = 0.002749\n",
      "\tLearning epoch = 11250\tGradient mag. = 0.002728\n",
      "\tLearning epoch = 11500\tGradient mag. = 0.002707\n",
      "\tLearning epoch = 11750\tGradient mag. = 0.002686\n",
      "\tLearning epoch = 12000\tGradient mag. = 0.002665\n",
      "\tLearning epoch = 12250\tGradient mag. = 0.002645\n",
      "\tLearning epoch = 12500\tGradient mag. = 0.002625\n",
      "\tLearning epoch = 12750\tGradient mag. = 0.002605\n",
      "\tLearning epoch = 13000\tGradient mag. = 0.002585\n",
      "\tLearning epoch = 13250\tGradient mag. = 0.002565\n",
      "\tLearning epoch = 13500\tGradient mag. = 0.002545\n",
      "\tLearning epoch = 13750\tGradient mag. = 0.002526\n",
      "\tLearning epoch = 14000\tGradient mag. = 0.002507\n",
      "\tLearning epoch = 14250\tGradient mag. = 0.002488\n",
      "\tLearning epoch = 14500\tGradient mag. = 0.002469\n",
      "\tLearning epoch = 14750\tGradient mag. = 0.002450\n",
      "Final gradient magnitude for rate=0.01, mu=1e-06: 0.002\n",
      "CPU times: user 210 ms, sys: 96.2 ms, total: 307 ms\n",
      "Wall time: 319 ms\n"
     ]
    }
   ],
   "source": [
    "from snorkel.learning import NaiveBayes\n",
    "\n",
    "gen_model = NaiveBayes()\n",
    "gen_model.train(L_train, n_iter=15000, rate=1e-2)\n",
    "%time gen_model.save(session, 'Generative Params')\n",
    "train_marginals = gen_model.marginals(L_train)"
   ]
  },
  {
   "cell_type": "code",
   "execution_count": 3,
   "metadata": {
    "collapsed": false
   },
   "outputs": [
    {
     "name": "stdout",
     "output_type": "stream",
     "text": [
      "================================================================================\n",
      "Training marginals (!= 0.5):\t92047\n",
      "Features:\t\t\t27309\n",
      "================================================================================\n",
      "Using gradient descent...\n",
      "\tLearning epoch = 0\tStep size = 0.0001\n",
      "\tLoss = 63802.118529\tGradient magnitude = 77319.261662\n",
      "\tLearning epoch = 100\tStep size = 9.04792147114e-05\n",
      "\tLoss = 1445390.672085\tGradient magnitude = 359287.573540\n",
      "\tLearning epoch = 200\tStep size = 8.18648829479e-05\n",
      "\tLoss = 837342.429578\tGradient magnitude = 205369.696101\n",
      "\tLearning epoch = 300\tStep size = 7.40707032156e-05\n",
      "\tLoss = 174509.924880\tGradient magnitude = 131531.128523\n",
      "\tLearning epoch = 400\tStep size = 6.70185906007e-05\n",
      "\tLoss = 784196.078070\tGradient magnitude = 199216.396786\n",
      "\tLearning epoch = 500\tStep size = 6.06378944861e-05\n",
      "\tLoss = 436488.799274\tGradient magnitude = 138010.218687\n",
      "\tLearning epoch = 600\tStep size = 5.48646907485e-05\n",
      "\tLoss = 457751.683677\tGradient magnitude = 173094.616450\n",
      "\tLearning epoch = 700\tStep size = 4.96411413431e-05\n",
      "\tLoss = 400722.000411\tGradient magnitude = 174526.499424\n",
      "\tLearning epoch = 800\tStep size = 4.4914914861e-05\n",
      "\tLoss = 812769.936827\tGradient magnitude = 205671.154245\n",
      "\tLearning epoch = 900\tStep size = 4.06386622545e-05\n",
      "\tLoss = 164917.946720\tGradient magnitude = 166268.556692\n",
      "\tLearning epoch = 1000\tStep size = 3.67695424771e-05\n",
      "\tLoss = 753111.424613\tGradient magnitude = 203265.066921\n",
      "\tLearning epoch = 1100\tStep size = 3.32687932862e-05\n",
      "\tLoss = 330787.547608\tGradient magnitude = 120319.886011\n",
      "\tLearning epoch = 1200\tStep size = 3.01013429093e-05\n",
      "\tLoss = 419046.834752\tGradient magnitude = 271637.724766\n",
      "\tLearning epoch = 1300\tStep size = 2.72354586819e-05\n",
      "\tLoss = 675315.593799\tGradient magnitude = 198134.531563\n",
      "\tLearning epoch = 1400\tStep size = 2.46424291385e-05\n",
      "\tLoss = 159381.456641\tGradient magnitude = 166446.597273\n",
      "\tLearning epoch = 1500\tStep size = 2.22962763703e-05\n",
      "\tLoss = 981114.286881\tGradient magnitude = 359045.358677\n",
      "\tLearning epoch = 1600\tStep size = 2.01734957697e-05\n",
      "\tLoss = 648473.331649\tGradient magnitude = 204213.072758\n",
      "\tLearning epoch = 1700\tStep size = 1.82528205523e-05\n",
      "\tLoss = 172569.121334\tGradient magnitude = 177711.343038\n",
      "\tLearning epoch = 1800\tStep size = 1.65150086984e-05\n",
      "\tLoss = 793063.267367\tGradient magnitude = 357699.459345\n",
      "\tLearning epoch = 1900\tStep size = 1.49426501798e-05\n",
      "\tLoss = 558421.609331\tGradient magnitude = 201583.012857\n",
      "CPU times: user 6.27 s, sys: 1.23 s, total: 7.49 s\n",
      "Wall time: 7.53 s\n"
     ]
    }
   ],
   "source": [
    "from snorkel.learning import LogReg\n",
    "\n",
    "disc_model = LogReg()\n",
    "disc_model.train(F_train, train_marginals, n_iter=2000, rate=1e-4)\n",
    "%time disc_model.save(session, \"Discriminative Params\")"
   ]
  },
  {
   "cell_type": "code",
   "execution_count": 4,
   "metadata": {
    "collapsed": true
   },
   "outputs": [],
   "source": [
    "train_gold = session.query(CandidateSet).filter(\n",
    "    CandidateSet.name == 'Hardware Training Candidates -- Gold').one()"
   ]
  },
  {
   "cell_type": "code",
   "execution_count": 5,
   "metadata": {
    "collapsed": true
   },
   "outputs": [],
   "source": [
    "dev_gold = session.query(CandidateSet).filter(\n",
    "    CandidateSet.name == 'Hardware Development Candidates -- Gold').one()"
   ]
  },
  {
   "cell_type": "code",
   "execution_count": 6,
   "metadata": {
    "collapsed": false
   },
   "outputs": [],
   "source": [
    "from snorkel.models import CandidateSet\n",
    "from snorkel.annotations import LabelManager\n",
    "label_manager = LabelManager()\n",
    "L_dev = label_manager.load(session, dev, 'Hardware Development Labels -- Gold')"
   ]
  },
  {
   "cell_type": "code",
   "execution_count": 7,
   "metadata": {
    "collapsed": false
   },
   "outputs": [
    {
     "name": "stdout",
     "output_type": "stream",
     "text": [
      "Calibration plot:\n",
      "========================================\n",
      "Recall-corrected Noise-aware Model\n",
      "========================================\n",
      "Pos. class accuracy: 0.979474381176\n",
      "Neg. class accuracy: 0.622799664711\n",
      "Corpus Precision 0.955\n",
      "Corpus Recall    0.979\n",
      "Corpus F1        0.967\n",
      "----------------------------------------\n",
      "TP: 19231 | FP: 900 | TN: 1486 | FN: 403\n",
      "========================================\n",
      "\n",
      "========================================\n",
      "Recall-corrected Noise-aware Model\n",
      "========================================\n",
      "Pos. class accuracy: 0.979474381176\n",
      "Neg. class accuracy: 0.622799664711\n",
      "Corpus Precision 0.955\n",
      "Corpus Recall    0.979\n",
      "Corpus F1        0.967\n",
      "----------------------------------------\n",
      "TP: 19231 | FP: 900 | TN: 1486 | FN: 403\n",
      "========================================\n",
      "\n"
     ]
    },
    {
     "name": "stderr",
     "output_type": "stream",
     "text": [
      "/Users/bradenhancock/anaconda/lib/python2.7/site-packages/numpy/core/_methods.py:59: RuntimeWarning: Mean of empty slice.\n",
      "  warnings.warn(\"Mean of empty slice.\", RuntimeWarning)\n"
     ]
    }
   ],
   "source": [
    "tp, fp, tn, fn = disc_model.score(F_dev, L_dev, dev_gold)"
   ]
  },
  {
   "cell_type": "code",
   "execution_count": 9,
   "metadata": {
    "collapsed": false
   },
   "outputs": [
    {
     "name": "stdout",
     "output_type": "stream",
     "text": [
      "========================================\n",
      "Scoring on Entity-Level Gold Data\n",
      "========================================\n",
      "Corpus Precision 0.902\n",
      "Corpus Recall    1.0\n",
      "Corpus F1        0.949\n",
      "----------------------------------------\n",
      "TP: 166 | FP: 18 | FN: 0\n",
      "========================================\n",
      "\n"
     ]
    }
   ],
   "source": [
    "from snorkel.models import Corpus\n",
    "from hardware_utils import entity_level_f1\n",
    "import os\n",
    "\n",
    "gold_file = os.environ['SNORKELHOME'] + '/tutorials/tables/data/hardware/hardware_gold.csv'\n",
    "corpus = session.query(Corpus).filter(Corpus.name == 'Hardware Development').one()\n",
    "(TP, FP, FN) = entity_level_f1(tp, fp, tn, fn, gold_file, corpus, 'polarity')"
   ]
  },
  {
   "cell_type": "code",
   "execution_count": 10,
   "metadata": {
    "collapsed": false
   },
   "outputs": [
    {
     "name": "stdout",
     "output_type": "stream",
     "text": [
      "[(u'SIEMS01215-1', u'BC856', u'NPN'),\n",
      " (u'SIEMS01215-1', u'BC856A', u'NPN'),\n",
      " (u'SIEMS01215-1', u'BC856B', u'NPN'),\n",
      " (u'SIEMS01215-1', u'BC857', u'NPN'),\n",
      " (u'SIEMS01215-1', u'BC857A', u'NPN'),\n",
      " (u'SIEMS01215-1', u'BC857B', u'NPN'),\n",
      " (u'SIEMS01215-1', u'BC857C', u'NPN'),\n",
      " (u'SIEMS01215-1', u'BC858', u'NPN'),\n",
      " (u'SIEMS01215-1', u'BC858A', u'NPN'),\n",
      " (u'SIEMS01215-1', u'BC858B', u'NPN'),\n",
      " (u'SIEMS01215-1', u'BC858C', u'NPN'),\n",
      " (u'SIEMS01215-1', u'BC859', u'NPN'),\n",
      " (u'SIEMS01215-1', u'BC859A', u'NPN'),\n",
      " (u'SIEMS01215-1', u'BC859B', u'NPN'),\n",
      " (u'SIEMS01215-1', u'BC859C', u'NPN'),\n",
      " (u'SIEMS01215-1', u'BC860', u'NPN'),\n",
      " (u'SIEMS01215-1', u'BC860B', u'NPN'),\n",
      " (u'SIEMS01215-1', u'BC860C', u'NPN')]\n"
     ]
    }
   ],
   "source": [
    "from pprint import pprint\n",
    "FP_list = sorted(list(FP))\n",
    "pprint(FP_list)"
   ]
  },
  {
   "cell_type": "code",
   "execution_count": 11,
   "metadata": {
    "collapsed": false
   },
   "outputs": [
    {
     "name": "stdout",
     "output_type": "stream",
     "text": [
      "(u'SIEMS01215-1', u'BC856', u'NPN')\n",
      "\n",
      "# Matches: 50\n",
      "Part_Polarity(ImplicitSpan(\"BC856\", parent=103821, words=[0,0], position=[2]), Span(\"NPN\", parent=22719, chars=[16,18], words=[6,6]))\n",
      "\n",
      "1.24856084328\n",
      "\n",
      "[(AnnotationKey (TDL_SEQ-BETWEEN[LEN:0-4]), 0.3365735297766512),\n",
      " (AnnotationKey (TAB_e2_RIGHT_WORDS_[)]), -0.31749907934314336),\n",
      " (AnnotationKey (TAB_e2_NEIGHBOR_PHRASE_WORDS_[:]), -0.28240687125558395),\n",
      " (AnnotationKey (TAB_e2_NEIGHBOR_PHRASE_WORDS_[types]), -0.2063248517192647),\n",
      " (AnnotationKey (TAB_e1_CONTAINS_WORDS_[C]), 0.1848952365227314),\n",
      " (AnnotationKey (TAB_e1_CONTAINS_WORDS_[B]), 0.17607145312710265),\n",
      " (AnnotationKey (TAB_e2_CONTAINS_WORDS_[N]), 0.16468676088145986),\n",
      " (AnnotationKey (TAB_e1_HTML_ANC_TAG_[html]), 0.16468676088145986),\n",
      " (AnnotationKey (TAB_e2_CONTAINS_WORDS_[P]), 0.16468676088145986),\n",
      " (AnnotationKey (TAB_e2_HTML_ANC_TAG_[html]), 0.16468676088145986),\n",
      " (AnnotationKey (TAB_e2_SPAN_TYPE_[EXPLICIT]), 0.16468676088145986),\n",
      " (AnnotationKey (TAB_e1_COL_WORDS_[1]), -0.15766719425490308),\n",
      " (AnnotationKey (TAB_e2_LEFT_WORDS_[,]), -0.14808105211461672),\n",
      " (AnnotationKey (TAB_e1_HTML_ANC_TAG_[body]), 0.14202547982577143),\n",
      " (AnnotationKey (TDL_LEMMA:SEQ-BETWEEN[a]), -0.14024958239448726),\n",
      " (AnnotationKey (TAB_e2_HTML_ANC_TAG_[body]), 0.13838644252767004),\n",
      " (AnnotationKey (TAB_e1_HTML_ANC_TAG_[p]), 0.12196939331461225),\n",
      " (AnnotationKey (TAB_e1_COL_NUM_[0]), 0.11293898275884913),\n",
      " (AnnotationKey (TAB_e2_LEFT_WORDS_[(]), 0.09203404112387766),\n",
      " (AnnotationKey (TAB_e2_NEIGHBOR_PHRASE_WORDS_[complementary]),\n",
      "  -0.09128069304189548),\n",
      " (AnnotationKey (TAB_e2_NEIGHBOR_PHRASE_WORDS_[complementary types]),\n",
      "  -0.09128069304189548),\n",
      " (AnnotationKey (TAB_e1_CONTAINS_WORDS_[6]), 0.08289336578643645),\n",
      " (AnnotationKey (TAB_e1_HTML_TAG_p), 0.07927913578738136),\n",
      " (AnnotationKey (TAB_e1_SPAN_TYPE_[IMPLICIT]), 0.07755098218507359),\n",
      " (AnnotationKey (TAB_e1_ROW_WORDS_[a]), 0.0730813690091581),\n",
      " (AnnotationKey (TAB_e1_CONTAINS_WORDS_[5]), 0.07290022395799431),\n",
      " (AnnotationKey (TAB_e1_RIGHT_WORDS_[a]), -0.07151654030361085),\n",
      " (AnnotationKey (TAB_e2_NEIGHBOR_PHRASE_WORDS_[,]), 0.06772317622851493),\n",
      " (AnnotationKey (TAB_e2_HTML_TAG_p), -0.06129661960320462),\n",
      " (AnnotationKey (TAB_e1_COL_WORDS_[a]), 0.05724250252524871),\n",
      " (AnnotationKey (TAB_e1_CONTAINS_WORDS_[8]), 0.04532560638772142),\n",
      " (AnnotationKey (TAB_e1_COL_WORDS_[b]), -0.030190887165800834),\n",
      " (AnnotationKey (TAB_e2_HTML_ANC_TAG_[p]), 0.021636883603647607),\n",
      " (AnnotationKey (TAB_e1_ROW_NUM_[7]), 0.018444002000864025),\n",
      " (AnnotationKey (TAB_e1_CELL_WORDS_[a]), 0.016419794761097124),\n",
      " (AnnotationKey (TAB_e1_HTML_ANC_TAG_[tr]), 0.016235472664341954),\n",
      " (AnnotationKey (TAB_e1_HTML_ANC_TAG_[table]), 0.016235472664341954),\n",
      " (AnnotationKey (TAB_e1_HTML_ANC_TAG_[td]), 0.016235472664341954),\n",
      " (AnnotationKey (TAB_e1_COL_HEAD_WORDS_[type]), 0.01393300087677056),\n",
      " (AnnotationKey (TAB_e1_ROW_INFERRED_WORDS_[a]), 0.011797898217025971),\n",
      " (AnnotationKey (TAB_e1_COL_INFERRED_WORDS_[a]), 0.011797898217025971),\n",
      " (AnnotationKey (TAB_e1_COL_WORDS_[c]), 0.010789750969549768),\n",
      " (AnnotationKey (TAB_e2_NEIGHBOR_PHRASE_WORDS_[type]), 0.009054234983984744),\n",
      " (AnnotationKey (TAB_e1_ROW_WORDS_[858 a]), -0.007420854418866286),\n",
      " (AnnotationKey (TAB_e1_RIGHT_WORDS_[858 a]), -0.007370318159417591),\n",
      " (AnnotationKey (TDL_LEMMA:SEQ-BETWEEN[858]), -0.005684830756940174),\n",
      " (AnnotationKey (TAB_e1_COL_WORDS_[type]), 0.004904868452910887),\n",
      " (AnnotationKey (TAB_e1_ROW_WORDS_[858]), -0.00375901612346815),\n",
      " (AnnotationKey (TAB_e1_RIGHT_WORDS_[858]), -0.0027534448597096007),\n",
      " (AnnotationKey (TAB_e1_CELL_WORDS_[858 a]), -0.0022453208624293513),\n",
      " (AnnotationKey (TAB_e1_COL_WORDS_[bc]), 0.0018766628417233272),\n",
      " (AnnotationKey (TAB_e1_ROW_INFERRED_WORDS_[858]), 0.0018142002892279842),\n",
      " (AnnotationKey (TAB_e1_COL_INFERRED_WORDS_[858]), 0.0018142002892279842),\n",
      " (AnnotationKey (TAB_e1_ROW_INFERRED_WORDS_[858 a]), -0.001527551009694346),\n",
      " (AnnotationKey (TAB_e1_COL_INFERRED_WORDS_[858 a]), -0.001527551009694346),\n",
      " (AnnotationKey (TAB_e1_COL_WORDS_[856 a]), 0.00123233405196988),\n",
      " (AnnotationKey (TAB_e1_CELL_WORDS_[858]), 0.00123233405196988),\n",
      " (AnnotationKey (TAB_e1_COL_WORDS_[856]), 0.00123233405196988),\n",
      " (AnnotationKey (TAB_e1_COL_WORDS_[859 b]), 0.00123233405196988),\n",
      " (AnnotationKey (TAB_e1_COL_WORDS_[858 a]), 0.00123233405196988),\n",
      " (AnnotationKey (TAB_e1_COL_WORDS_[859]), 0.00123233405196988),\n",
      " (AnnotationKey (TAB_e1_COL_WORDS_[857 a]), 0.00123233405196988),\n",
      " (AnnotationKey (TAB_e1_COL_WORDS_[bc 857]), 0.00123233405196988),\n",
      " (AnnotationKey (TAB_e1_COL_WORDS_[bc 859]), 0.00123233405196988),\n",
      " (AnnotationKey (TAB_e1_COL_WORDS_[856 b]), 0.00123233405196988),\n",
      " (AnnotationKey (TAB_e1_COL_WORDS_[859 c]), 0.00123233405196988),\n",
      " (AnnotationKey (TAB_e1_COL_WORDS_[857]), 0.00123233405196988),\n",
      " (AnnotationKey (TAB_e1_COL_WORDS_[858 c]), 0.00123233405196988),\n",
      " (AnnotationKey (TAB_e1_COL_WORDS_[bc 856]), 0.00123233405196988),\n",
      " (AnnotationKey (TAB_e1_COL_WORDS_[857 c]), 0.00123233405196988),\n",
      " (AnnotationKey (TAB_e1_COL_WORDS_[bc 858]), 0.00123233405196988),\n",
      " (AnnotationKey (TAB_e1_COL_WORDS_[858]), 0.00123233405196988),\n",
      " (AnnotationKey (TAB_e1_ROW_HEAD_WORDS_[3js]), 0.0008161139198779222),\n",
      " (AnnotationKey (TAB_e1_NEIGHBOR_PHRASE_WORDS_[3js]), -0.00021826841469749326),\n",
      " (AnnotationKey (TAB_e1_ROW_WORDS_[3js]), -0.00021826841469749326)]\n"
     ]
    }
   ],
   "source": [
    "from hardware_utils import entity_to_candidates\n",
    "\n",
    "entity = FP_list[0]\n",
    "print entity\n",
    "print\n",
    "\n",
    "matches = entity_to_candidates(entity, fp)\n",
    "print \"# Matches: %d\" % len(matches)\n",
    "candidate = matches[0]\n",
    "print candidate\n",
    "print\n",
    "\n",
    "print disc_model.get_candidate_score(candidate, F_dev)\n",
    "print\n",
    "pprint(disc_model.get_candidate_feature_weights(candidate, F_dev))"
   ]
  },
  {
   "cell_type": "code",
   "execution_count": 18,
   "metadata": {
    "collapsed": false
   },
   "outputs": [
    {
     "name": "stdout",
     "output_type": "stream",
     "text": [
      "CONTAINS_WORDS_[BC856]\n"
     ]
    }
   ],
   "source": [
    "for ngram in candidate.part.get_attrib_tokens():\n",
    "    print \"CONTAINS_%s_[%s]\" % ('words'.upper(), ngram)"
   ]
  },
  {
   "cell_type": "code",
   "execution_count": null,
   "metadata": {
    "collapsed": false
   },
   "outputs": [],
   "source": [
    "from hardware_utils import part_error_analysis\n",
    "part_error_analysis(candidate)"
   ]
  },
  {
   "cell_type": "code",
   "execution_count": null,
   "metadata": {
    "collapsed": true
   },
   "outputs": [],
   "source": [
    "import os\n",
    "os.system('cp snorkel.db snorkel.db\\ final');"
   ]
  }
 ],
 "metadata": {
  "anaconda-cloud": {},
  "kernelspec": {
   "display_name": "Python [default]",
   "language": "python",
   "name": "python2"
  },
  "language_info": {
   "codemirror_mode": {
    "name": "ipython",
    "version": 2
   },
   "file_extension": ".py",
   "mimetype": "text/x-python",
   "name": "python",
   "nbconvert_exporter": "python",
   "pygments_lexer": "ipython2",
   "version": "2.7.10"
  }
 },
 "nbformat": 4,
 "nbformat_minor": 1
}
