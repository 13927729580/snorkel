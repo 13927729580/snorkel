{
 "cells": [
  {
   "cell_type": "code",
   "execution_count": 1,
   "metadata": {
    "collapsed": true
   },
   "outputs": [],
   "source": [
    "%load_ext autoreload\n",
    "%autoreload 2"
   ]
  },
  {
   "cell_type": "code",
   "execution_count": 2,
   "metadata": {
    "collapsed": true
   },
   "outputs": [],
   "source": [
    "from snorkel.models import candidate_subclass\n",
    "Spouse = candidate_subclass('Spouse', ['person1', 'person2'])"
   ]
  },
  {
   "cell_type": "code",
   "execution_count": 3,
   "metadata": {
    "collapsed": true
   },
   "outputs": [],
   "source": [
    "user_lists = {\n",
    "    'spouse':  ['spouse', 'wife', 'husband', 'ex-wife', 'ex-husband'],\n",
    "    'family':  ['father', 'father', 'mother', 'sister', 'sisters', \n",
    "                'brother', 'brothers', 'son', 'sons', 'daughter', 'daughters',\n",
    "                'grandfather', 'grandmother', 'uncle', 'uncles', 'aunt', 'aunts', \n",
    "                'cousin', 'cousins'],\n",
    "    'other':  ['boyfriend', 'girlfriend', 'boss', 'employee', 'secretary', 'co-worker']}"
   ]
  },
  {
   "cell_type": "code",
   "execution_count": 4,
   "metadata": {
    "collapsed": false
   },
   "outputs": [
    {
     "name": "stdout",
     "output_type": "stream",
     "text": [
      "Created grammar with 480 rules\n"
     ]
    }
   ],
   "source": [
    "from snorkel.contrib.babble import SemanticParser\n",
    "semparser = SemanticParser(\n",
    "    mode='text', candidate_class=Spouse, user_lists=user_lists, beam_width=10)"
   ]
  },
  {
   "cell_type": "code",
   "execution_count": 5,
   "metadata": {
    "collapsed": false
   },
   "outputs": [],
   "source": [
    "from snorkel.contrib.babble import Explanation\n",
    "\n",
    "explanations = [\n",
    "    Explanation(\n",
    "        name='LF_spouse_between',\n",
    "        condition=\"there is a spouse word between arg 1 and arg 2\",\n",
    "        candidate='2ca6dbbb-870c-4e34-8053-0ac2dbd850f5::span:798:808~~2ca6dbbb-870c-4e34-8053-0ac2dbd850f5::span:839:851',\n",
    "        label=True,\n",
    "        semantics=None),      \n",
    "    Explanation(\n",
    "        name='LF_no_spouse_in_sentence',\n",
    "        condition=\"there are no spouse words in the sentence\",\n",
    "        candidate='d0de6a86-66d5-40e0-b345-6c86d2047c07::span:1634:1638~~d0de6a86-66d5-40e0-b345-6c86d2047c07::span:1650:1659',\n",
    "        label=False,\n",
    "        semantics=None),\n",
    "    Explanation(\n",
    "        name='LF_married_after',\n",
    "        condition=\"the word 'and' is between arg 1 and arg 2 and 'married' or 'marriage' is after arg 2\",\n",
    "        candidate='e522e66f-ad1f-4b8b-a532-4f030a8e7a75::span:4054:4059~~e522e66f-ad1f-4b8b-a532-4f030a8e7a75::span:4085:4091',\n",
    "        label=True,\n",
    "        semantics=None),\n",
    "]"
   ]
  },
  {
   "cell_type": "code",
   "execution_count": 8,
   "metadata": {
    "collapsed": false
   },
   "outputs": [
    {
     "name": "stdout",
     "output_type": "stream",
     "text": [
      "($ROOT ($Start <START>) ($ROOT_$Start ($LF ($Label label) ($LF_$Label_ ($Bool ($BoolLit ($True true))) ($LF_$Label__$Bool ($Because if) ($Bool ($Exists ($Is is)) ($Bool_$Exists__ ($NumToBool ($AtLeastOne a)) ($TokenList ($Word word) ($Phrase ($Between between) ($ArgXListAnd ($ArgX ($Arg arg) ($ArgNum 1)) ($ArgXListAnd_$ArgX_ ($And and) ($ArgX ($Arg arg) ($ArgNum 2))))))))))) ($Stop <STOP>)))\n"
     ]
    }
   ],
   "source": [
    "parses = semparser.parse(explanations, return_parses=True)\n",
    "print(parses[0])"
   ]
  },
  {
   "cell_type": "code",
   "execution_count": 9,
   "metadata": {
    "collapsed": false
   },
   "outputs": [
    {
     "name": "stdout",
     "output_type": "stream",
     "text": [
      "('.root', ('.label', ('.bool', True), ('.call', ('.geq', ('.int', 1)), ('.count', ('.filter', ('.between', ('.list', ('.arg', ('.int', 1)), ('.arg', ('.int', 2)))), 'words', '\\\\w+\\\\S*')))))\n"
     ]
    }
   ],
   "source": [
    "print(parses[0].semantics)"
   ]
  },
  {
   "cell_type": "code",
   "execution_count": 10,
   "metadata": {
    "collapsed": false
   },
   "outputs": [
    {
     "name": "stdout",
     "output_type": "stream",
     "text": [
      "<function LF_spouse_between_0 at 0x1152eb320>\n"
     ]
    }
   ],
   "source": [
    "print(parses[0].function)"
   ]
  },
  {
   "cell_type": "code",
   "execution_count": 11,
   "metadata": {
    "collapsed": true
   },
   "outputs": [],
   "source": [
    "parses = semparser.parse(explanations)"
   ]
  },
  {
   "cell_type": "code",
   "execution_count": 12,
   "metadata": {
    "collapsed": false
   },
   "outputs": [
    {
     "data": {
      "text/plain": [
       "[<function snorkel.contrib.babble.grammar.grammar.LF_spouse_between_0>,\n",
       " <function snorkel.contrib.babble.grammar.grammar.LF_no_spouse_in_sentence_0>,\n",
       " <function snorkel.contrib.babble.grammar.grammar.LF_married_after_0>,\n",
       " <function snorkel.contrib.babble.grammar.grammar.LF_married_after_1>,\n",
       " <function snorkel.contrib.babble.grammar.grammar.LF_married_after_2>,\n",
       " <function snorkel.contrib.babble.grammar.grammar.LF_married_after_3>]"
      ]
     },
     "execution_count": 12,
     "metadata": {},
     "output_type": "execute_result"
    }
   ],
   "source": [
    "parses"
   ]
  },
  {
   "cell_type": "code",
   "execution_count": null,
   "metadata": {
    "collapsed": true
   },
   "outputs": [],
   "source": []
  }
 ],
 "metadata": {
  "kernelspec": {
   "display_name": "Python 2",
   "language": "python",
   "name": "python2"
  },
  "language_info": {
   "codemirror_mode": {
    "name": "ipython",
    "version": 2
   },
   "file_extension": ".py",
   "mimetype": "text/x-python",
   "name": "python",
   "nbconvert_exporter": "python",
   "pygments_lexer": "ipython2",
   "version": "2.7.13"
  }
 },
 "nbformat": 4,
 "nbformat_minor": 2
}
