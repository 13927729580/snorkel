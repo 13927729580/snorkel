{
 "cells": [
  {
   "cell_type": "markdown",
   "metadata": {},
   "source": [
    "# Table Tutorial"
   ]
  },
  {
   "cell_type": "markdown",
   "metadata": {},
   "source": [
    "## Preprocessing"
   ]
  },
  {
   "cell_type": "code",
   "execution_count": null,
   "metadata": {
    "collapsed": false
   },
   "outputs": [],
   "source": [
    "import os\n",
    "os.remove('snorkel.db')"
   ]
  },
  {
   "cell_type": "code",
   "execution_count": 1,
   "metadata": {
    "collapsed": false
   },
   "outputs": [
    {
     "name": "stdout",
     "output_type": "stream",
     "text": [
      "The autoreload extension is already loaded. To reload it, use:\n",
      "  %reload_ext autoreload\n"
     ]
    }
   ],
   "source": [
    "%load_ext autoreload\n",
    "%autoreload 2\n",
    "%matplotlib inline\n",
    "\n",
    "from snorkel import SnorkelSession\n",
    "session = SnorkelSession()"
   ]
  },
  {
   "cell_type": "markdown",
   "metadata": {},
   "source": [
    "## Parse the `Corpus`"
   ]
  },
  {
   "cell_type": "code",
   "execution_count": null,
   "metadata": {
    "collapsed": false
   },
   "outputs": [],
   "source": [
    "from snorkel.parser import CorpusParser\n",
    "from snorkel.parser import HTMLParser\n",
    "from snorkel.parser import OmniParser\n",
    "\n",
    "doc_parser = HTMLParser(path='data/hardware/hardware_html/')\n",
    "context_parser = OmniParser()\n",
    "cp = CorpusParser(doc_parser, context_parser, max_docs=101)"
   ]
  },
  {
   "cell_type": "code",
   "execution_count": null,
   "metadata": {
    "collapsed": false
   },
   "outputs": [],
   "source": [
    "%time corpus = cp.parse_corpus(name='Hardware', session=session)"
   ]
  },
  {
   "cell_type": "code",
   "execution_count": null,
   "metadata": {
    "collapsed": false
   },
   "outputs": [],
   "source": [
    "for doc in corpus.documents[:5]: print doc"
   ]
  },
  {
   "cell_type": "markdown",
   "metadata": {},
   "source": [
    "### Saving the `Corpus`\n",
    "Finally, we persist the parsed corpus in Snorkel's database backend:"
   ]
  },
  {
   "cell_type": "code",
   "execution_count": null,
   "metadata": {
    "collapsed": false
   },
   "outputs": [],
   "source": [
    "session.add(corpus)\n",
    "session.commit()"
   ]
  },
  {
   "cell_type": "markdown",
   "metadata": {},
   "source": [
    "### Reloading the `Corpus`\n",
    "If the corpus has already been parsed, load it here:"
   ]
  },
  {
   "cell_type": "code",
   "execution_count": 2,
   "metadata": {
    "collapsed": false
   },
   "outputs": [
    {
     "name": "stdout",
     "output_type": "stream",
     "text": [
      "Corpus (Hardware)\n",
      "Hardware contains 100 Documents\n"
     ]
    }
   ],
   "source": [
    "from snorkel.models import Corpus\n",
    "\n",
    "corpus = session.query(Corpus).filter(Corpus.name == 'Hardware').one()\n",
    "print corpus\n",
    "print \"%s contains %d Documents\" % (corpus.name, len(corpus))"
   ]
  },
  {
   "cell_type": "markdown",
   "metadata": {},
   "source": [
    "### Split the `Corpus` into Train/Dev/Test"
   ]
  },
  {
   "cell_type": "code",
   "execution_count": 3,
   "metadata": {
    "collapsed": false
   },
   "outputs": [],
   "source": [
    "# If necessary:\n",
    "train = session.query(Corpus).filter(Corpus.name == 'Hardware Training').one()\n",
    "session.delete(train)\n",
    "dev = session.query(Corpus).filter(Corpus.name == 'Hardware Development').one()\n",
    "session.delete(dev)\n",
    "test = session.query(Corpus).filter(Corpus.name == 'Hardware Test').one()\n",
    "session.delete(test)\n",
    "session.commit()"
   ]
  },
  {
   "cell_type": "code",
   "execution_count": 4,
   "metadata": {
    "collapsed": false
   },
   "outputs": [
    {
     "name": "stdout",
     "output_type": "stream",
     "text": [
      "50 Documents added to corpus Hardware Training\n",
      "25 Documents added to corpus Hardware Development\n",
      "25 Documents added to corpus Hardware Test\n"
     ]
    }
   ],
   "source": [
    "from snorkel.utils import split_corpus\n",
    "\n",
    "split_corpus(session, corpus, train=0.50, development=0.25, test=0.25, seed=3)"
   ]
  },
  {
   "cell_type": "markdown",
   "metadata": {},
   "source": [
    "## Extract the `Candidates`"
   ]
  },
  {
   "cell_type": "code",
   "execution_count": 5,
   "metadata": {
    "collapsed": false
   },
   "outputs": [],
   "source": [
    "from snorkel.models import candidate_subclass\n",
    "\n",
    "Part_Temp = candidate_subclass('Part_Temp', ['part','temp'])"
   ]
  },
  {
   "cell_type": "code",
   "execution_count": 6,
   "metadata": {
    "collapsed": true
   },
   "outputs": [],
   "source": [
    "from snorkel.candidates import OmniNgrams\n",
    "\n",
    "omni_ngrams = OmniNgrams(n_max=3, split_tokens=None)"
   ]
  },
  {
   "cell_type": "code",
   "execution_count": 7,
   "metadata": {
    "collapsed": false
   },
   "outputs": [
    {
     "name": "stdout",
     "output_type": "stream",
     "text": [
      "Loaded 5331 part numbers.\n"
     ]
    }
   ],
   "source": [
    "from hardware_utils import load_extended_parts_dict\n",
    "\n",
    "filename='data/hardware/hardware_gold.csv'\n",
    "parts_dict = load_extended_parts_dict(filename)\n",
    "print \"Loaded %d part numbers.\" % len(parts_dict)"
   ]
  },
  {
   "cell_type": "code",
   "execution_count": 8,
   "metadata": {
    "collapsed": false
   },
   "outputs": [],
   "source": [
    "from snorkel.matchers import DictionaryMatch, RegexMatchSpan\n",
    "\n",
    "parts_matcher = DictionaryMatch(d=parts_dict, ignore_case=True)\n",
    "temp_matcher = RegexMatchSpan(rgx=ur'-\\s?[5-7][05]')"
   ]
  },
  {
   "cell_type": "code",
   "execution_count": 9,
   "metadata": {
    "collapsed": false
   },
   "outputs": [],
   "source": [
    "from snorkel.candidates import CandidateExtractor\n",
    "\n",
    "ce = CandidateExtractor(Part_Temp, [omni_ngrams, omni_ngrams], [parts_matcher, temp_matcher])"
   ]
  },
  {
   "cell_type": "code",
   "execution_count": 10,
   "metadata": {
    "collapsed": false,
    "scrolled": true
   },
   "outputs": [
    {
     "name": "stdout",
     "output_type": "stream",
     "text": [
      "[========================================] 100%\n",
      "\n",
      "CPU times: user 29.5 s, sys: 1.44 s, total: 31 s\n",
      "Wall time: 31.5 s\n",
      "Candidate Set (Hardware Training Candidates) contains 646 Candidates\n"
     ]
    }
   ],
   "source": [
    "%time candidates = ce.extract(corpus.documents, 'Hardware Training Candidates', session)\n",
    "print \"%s contains %d Candidates\" % (candidates, len(candidates))"
   ]
  },
  {
   "cell_type": "code",
   "execution_count": null,
   "metadata": {
    "collapsed": false
   },
   "outputs": [],
   "source": [
    "# session.rollback()\n",
    "# session.delete(c)\n",
    "# session.commit()"
   ]
  },
  {
   "cell_type": "code",
   "execution_count": 11,
   "metadata": {
    "collapsed": false
   },
   "outputs": [
    {
     "name": "stdout",
     "output_type": "stream",
     "text": [
      "Part_Temp(Span(\"BC807-25\", parent=80944, chars=[36,43], words=[5,5]), Span(\"-50\", parent=123581, chars=[0,2], words=[0,0]))\n",
      "Part_Temp(Span(\"BC807-25\", parent=80944, chars=[36,43], words=[5,5]), Span(\"-50\", parent=123653, chars=[2,4], words=[1,1]))\n",
      "Part_Temp(Span(\"BC817\", parent=80853, chars=[33,37], words=[5,5]), Span(\"-50\", parent=123581, chars=[0,2], words=[0,0]))\n",
      "Part_Temp(Span(\"BC817\", parent=80853, chars=[33,37], words=[5,5]), Span(\"-50\", parent=123653, chars=[2,4], words=[1,1]))\n",
      "Part_Temp(Span(\"BC818-16\", parent=9751, chars=[22,29], words=[3,3]), Span(\"- 65\", parent=128693, chars=[0,3], words=[0,1]))\n"
     ]
    }
   ],
   "source": [
    "for c in candidates[:5]:\n",
    "    print c"
   ]
  },
  {
   "cell_type": "markdown",
   "metadata": {},
   "source": [
    "### Saving the extracted candidates"
   ]
  },
  {
   "cell_type": "code",
   "execution_count": 12,
   "metadata": {
    "collapsed": true
   },
   "outputs": [],
   "source": [
    "session.add(candidates)\n",
    "session.commit()"
   ]
  },
  {
   "cell_type": "markdown",
   "metadata": {},
   "source": [
    "### Reloading the candidates"
   ]
  },
  {
   "cell_type": "code",
   "execution_count": 13,
   "metadata": {
    "collapsed": false
   },
   "outputs": [
    {
     "name": "stdout",
     "output_type": "stream",
     "text": [
      "Candidate Set (Hardware Training Candidates) contains 646 Candidates\n"
     ]
    }
   ],
   "source": [
    "from snorkel.models import CandidateSet\n",
    "\n",
    "candidates = session.query(CandidateSet).filter(\n",
    "    CandidateSet.name == 'Hardware Training Candidates').one()\n",
    "print \"%s contains %d Candidates\" % (candidates, len(candidates))"
   ]
  },
  {
   "cell_type": "markdown",
   "metadata": {},
   "source": [
    "### Repeating for development and test corpora"
   ]
  },
  {
   "cell_type": "code",
   "execution_count": 14,
   "metadata": {
    "collapsed": false
   },
   "outputs": [
    {
     "name": "stdout",
     "output_type": "stream",
     "text": [
      "[========================================] 100%\n",
      "\n",
      "CPU times: user 7.38 s, sys: 240 ms, total: 7.62 s\n",
      "Wall time: 7.73 s\n",
      "Candidate Set (Hardware Training Candidates) contains 646 Candidates\n",
      "[========================================] 100%\n",
      "\n",
      "CPU times: user 5.65 s, sys: 150 ms, total: 5.81 s\n",
      "Wall time: 5.82 s\n",
      "Candidate Set (Hardware Training Candidates) contains 646 Candidates\n"
     ]
    }
   ],
   "source": [
    "for corpus_name in ['Hardware Development', 'Hardware Test']:\n",
    "    corpus = session.query(Corpus).filter(Corpus.name == corpus_name).one()\n",
    "    %time c = ce.extract(corpus.documents, corpus_name + ' Candidates', session)\n",
    "    session.add(c)\n",
    "    print \"%s contains %d Candidates\" % (candidates, len(candidates))\n",
    "session.commit()"
   ]
  },
  {
   "cell_type": "markdown",
   "metadata": {},
   "source": [
    "## Prepare Gold Data"
   ]
  },
  {
   "cell_type": "code",
   "execution_count": null,
   "metadata": {
    "collapsed": true
   },
   "outputs": [],
   "source": [
    "# Make labels gold, candidates gold"
   ]
  },
  {
   "cell_type": "code",
   "execution_count": null,
   "metadata": {
    "collapsed": false
   },
   "outputs": [],
   "source": [
    "# TEMP\n",
    "import os\n",
    "os.remove('snorkel.db')\n",
    "os.system('cp snorkel.db\\ candidates snorkel.db')\n",
    "from snorkel import SnorkelSession\n",
    "session = SnorkelSession()\n",
    "from snorkel.models import Corpus\n",
    "corpus = session.query(Corpus).filter(Corpus.name == 'Hardware Training').one()\n",
    "print \"%s contains %d Documents\" % (corpus, len(corpus))\n",
    "from snorkel.models import candidate_subclass\n",
    "Part_Temp = candidate_subclass('Part_Temp', ['part','temp'])\n",
    "from snorkel.models import CandidateSet\n",
    "candidates = session.query(CandidateSet).filter(CandidateSet.name == 'Hardware Training Candidates').one()\n",
    "print \"%s contains %d Candidates\" % (candidates, len(candidates))"
   ]
  },
  {
   "cell_type": "code",
   "execution_count": 15,
   "metadata": {
    "collapsed": false
   },
   "outputs": [],
   "source": [
    "from snorkel.loaders import ExternalAnnotationsLoader\n",
    "\n",
    "loader = ExternalAnnotationsLoader(session, Part_Temp, \n",
    "                                   'Hardware Training Candidates -- Gold',\n",
    "                                   'Hardware Training Labels -- Gold',\n",
    "                                   expand_candidate_set=True)"
   ]
  },
  {
   "cell_type": "code",
   "execution_count": 16,
   "metadata": {
    "collapsed": false
   },
   "outputs": [
    {
     "name": "stdout",
     "output_type": "stream",
     "text": [
      "0\n",
      "1\n",
      "2\n",
      "3\n",
      "4\n",
      "5\n",
      "6\n",
      "7\n",
      "8\n",
      "9\n",
      "10\n",
      "11\n",
      "12\n",
      "13\n",
      "14\n",
      "15\n",
      "16\n",
      "17\n",
      "18\n",
      "19\n",
      "20\n",
      "21\n",
      "22\n",
      "23\n",
      "24\n",
      "25\n",
      "26\n",
      "27\n",
      "28\n",
      "29\n",
      "30\n",
      "31\n",
      "32\n",
      "33\n",
      "34\n",
      "35\n",
      "36\n",
      "37\n",
      "38\n",
      "39\n",
      "40\n",
      "41\n",
      "42\n",
      "43\n",
      "44\n",
      "45\n",
      "46\n",
      "47\n",
      "48\n",
      "49\n",
      "50\n",
      "51\n",
      "52\n",
      "53\n",
      "54\n",
      "55\n",
      "56\n",
      "57\n",
      "58\n",
      "59\n",
      "60\n",
      "61\n",
      "62\n",
      "63\n",
      "64\n",
      "65\n",
      "66\n",
      "67\n",
      "68\n",
      "69\n",
      "70\n",
      "71\n",
      "72\n",
      "73\n",
      "74\n",
      "75\n",
      "76\n",
      "77\n",
      "78\n",
      "79\n",
      "80\n",
      "81\n",
      "82\n",
      "83\n",
      "84\n",
      "85\n",
      "86\n",
      "87\n",
      "88\n",
      "89\n",
      "90\n",
      "91\n",
      "92\n",
      "93\n",
      "94\n",
      "95\n",
      "96\n",
      "97\n",
      "98\n",
      "99\n",
      "100\n",
      "101\n",
      "102\n",
      "103\n",
      "104\n",
      "105\n",
      "106\n",
      "107\n",
      "108\n",
      "109\n",
      "110\n",
      "111\n",
      "112\n",
      "113\n",
      "114\n",
      "115\n",
      "116\n",
      "117\n",
      "118\n",
      "119\n",
      "120\n",
      "121\n",
      "122\n",
      "123\n",
      "124\n",
      "125\n",
      "126\n",
      "127\n",
      "128\n",
      "129\n",
      "130\n",
      "131\n",
      "132\n",
      "133\n",
      "134\n",
      "135\n",
      "136\n",
      "137\n",
      "138\n",
      "139\n",
      "140\n",
      "141\n",
      "142\n",
      "143\n",
      "144\n",
      "145\n",
      "146\n",
      "147\n",
      "148\n",
      "149\n",
      "150\n",
      "151\n",
      "152\n",
      "153\n"
     ]
    }
   ],
   "source": [
    "import os\n",
    "from hardware_utils import load_hardware_labels\n",
    "\n",
    "filename = os.environ['SNORKELHOME'] + '/tutorials/tables/data/hardware/hardware_gold.csv'\n",
    "load_hardware_labels(loader, candidates, filename, 'Part_Temp', attrib='stg_temp_min')"
   ]
  },
  {
   "cell_type": "code",
   "execution_count": 17,
   "metadata": {
    "collapsed": false
   },
   "outputs": [
    {
     "name": "stdout",
     "output_type": "stream",
     "text": [
      "154/646 Candidates have positive Labels\n",
      "154 Labels loaded\n"
     ]
    }
   ],
   "source": [
    "from snorkel.models import Label\n",
    "\n",
    "train = session.query(CandidateSet).filter(\n",
    "    CandidateSet.name == 'Hardware Training Candidates').one()\n",
    "train_gold = session.query(CandidateSet).filter(\n",
    "    CandidateSet.name == 'Hardware Training Candidates -- Gold').one()\n",
    "print \"%d/%d Candidates have positive Labels\" % (len(train_gold), len(train))\n",
    "print \"%d Labels loaded\" % session.query(Label).filter(\n",
    "    Label.key == loader.annotation_key).count()"
   ]
  },
  {
   "cell_type": "code",
   "execution_count": 18,
   "metadata": {
    "collapsed": false
   },
   "outputs": [
    {
     "name": "stdout",
     "output_type": "stream",
     "text": [
      "44/116 Candidates have positive Labels\n",
      "44 Labels loaded\n",
      "31/91 Candidates have positive Labels\n",
      "31 Labels loaded\n"
     ]
    }
   ],
   "source": [
    "for set_name in ['Development', 'Test']:\n",
    "    candidate_set_name = 'Hardware %s Candidates' % set_name\n",
    "    candidates = session.query(CandidateSet).filter(\n",
    "        CandidateSet.name == candidate_set_name).one()\n",
    "    loader = ExternalAnnotationsLoader(session, Part_Temp, \n",
    "                                       'Hardware %s Candidates -- Gold' % set_name,\n",
    "                                       'Hardware %s Labels -- Gold' % set_name,\n",
    "                                       expand_candidate_set=True)\n",
    "    load_hardware_labels(loader, candidates, filename, 'Part_Temp', attrib='stg_temp_min')\n",
    "    candidates_gold = session.query(CandidateSet).filter(\n",
    "        CandidateSet.name == candidate_set_name + ' -- Gold').one()\n",
    "    print \"%d/%d Candidates have positive Labels\" % (len(candidates_gold), len(candidates))\n",
    "    print \"%d Labels loaded\" % session.query(Label).filter(\n",
    "        Label.key == loader.annotation_key).count()"
   ]
  },
  {
   "cell_type": "markdown",
   "metadata": {},
   "source": [
    "## Generating Features"
   ]
  },
  {
   "cell_type": "code",
   "execution_count": 19,
   "metadata": {
    "collapsed": true
   },
   "outputs": [],
   "source": [
    "from snorkel.models import CandidateSet\n",
    "train = session.query(CandidateSet).filter(CandidateSet.name == 'Hardware Training Candidates').one()"
   ]
  },
  {
   "cell_type": "code",
   "execution_count": 20,
   "metadata": {
    "collapsed": true
   },
   "outputs": [],
   "source": [
    "from snorkel.annotations import FeatureManager\n",
    "\n",
    "feature_manager = FeatureManager()"
   ]
  },
  {
   "cell_type": "markdown",
   "metadata": {},
   "source": [
    "### Creating feature matrix"
   ]
  },
  {
   "cell_type": "code",
   "execution_count": 21,
   "metadata": {
    "collapsed": false
   },
   "outputs": [
    {
     "name": "stdout",
     "output_type": "stream",
     "text": [
      "[========================================] 97%\n",
      "\n",
      "Loading sparse Feature matrix...\n",
      "CPU times: user 21.8 s, sys: 536 ms, total: 22.4 s\n",
      "Wall time: 22.2 s\n"
     ]
    }
   ],
   "source": [
    "%time F_train = feature_manager.create(session, train, 'Train Features')"
   ]
  },
  {
   "cell_type": "markdown",
   "metadata": {},
   "source": [
    "### Reloading feature matrix"
   ]
  },
  {
   "cell_type": "code",
   "execution_count": 22,
   "metadata": {
    "collapsed": false,
    "scrolled": true
   },
   "outputs": [
    {
     "name": "stdout",
     "output_type": "stream",
     "text": [
      "CPU times: user 142 ms, sys: 2.12 ms, total: 144 ms\n",
      "Wall time: 155 ms\n"
     ]
    }
   ],
   "source": [
    "%time F_train = feature_manager.load(session, train, 'Train Features')"
   ]
  },
  {
   "cell_type": "code",
   "execution_count": 23,
   "metadata": {
    "collapsed": false
   },
   "outputs": [
    {
     "data": {
      "text/plain": [
       "<646x1714 sparse matrix of type '<type 'numpy.float64'>'\n",
       "\twith 10918 stored elements in Compressed Sparse Row format>"
      ]
     },
     "execution_count": 23,
     "metadata": {},
     "output_type": "execute_result"
    }
   ],
   "source": [
    "F_train"
   ]
  },
  {
   "cell_type": "code",
   "execution_count": 24,
   "metadata": {
    "collapsed": false
   },
   "outputs": [
    {
     "data": {
      "text/plain": [
       "Part_Temp(Span(\"BC807-25\", parent=80944, chars=[36,43], words=[5,5]), Span(\"-50\", parent=123581, chars=[0,2], words=[0,0]))"
      ]
     },
     "execution_count": 24,
     "metadata": {},
     "output_type": "execute_result"
    }
   ],
   "source": [
    "F_train.get_candidate(0)"
   ]
  },
  {
   "cell_type": "code",
   "execution_count": 25,
   "metadata": {
    "collapsed": false
   },
   "outputs": [
    {
     "data": {
      "text/plain": [
       "AnnotationKey (TDL_INV_LEMMA:PARENTS-OF-BETWEEN-MENTION-and-MENTION[None])"
      ]
     },
     "execution_count": 25,
     "metadata": {},
     "output_type": "execute_result"
    }
   ],
   "source": [
    "F_train.get_key(0)"
   ]
  },
  {
   "cell_type": "code",
   "execution_count": 26,
   "metadata": {
    "collapsed": false
   },
   "outputs": [
    {
     "name": "stdout",
     "output_type": "stream",
     "text": [
      "AnnotationKey (TDL_INV_LEMMA:PARENTS-OF-BETWEEN-MENTION-and-MENTION[None])\n",
      "AnnotationKey (TDL_INV_LEMMA:BETWEEN-MENTION-and-MENTION[bc807-25])\n",
      "AnnotationKey (TDL_INV_DEP_LABEL:BETWEEN-MENTION-and-MENTION[ROOT])\n",
      "AnnotationKey (TDL_INV_DEP_LABEL|LEMMA:BETWEEN-MENTION-and-MENTION[ROOT|bc807-25])\n",
      "AnnotationKey (TDL_INV_LEMMA:SEQ-BETWEEN[and])\n",
      "AnnotationKey (TDL_INV_LEMMA:SEQ-BETWEEN[characteristic])\n",
      "AnnotationKey (TDL_INV_LEMMA:SEQ-BETWEEN[curve])\n",
      "AnnotationKey (TDL_INV_LEMMA:SEQ-BETWEEN[(])\n",
      "AnnotationKey (TDL_INV_LEMMA:SEQ-BETWEEN[and characteristic])\n",
      "AnnotationKey (TDL_INV_LEMMA:SEQ-BETWEEN[characteristic curve])\n"
     ]
    }
   ],
   "source": [
    "from snorkel.utils import get_keys_by_candidate\n",
    "\n",
    "for f in get_keys_by_candidate(F_train, F_train.get_candidate(0))[:10]: print f"
   ]
  },
  {
   "cell_type": "markdown",
   "metadata": {},
   "source": [
    "## Applying LFs"
   ]
  },
  {
   "cell_type": "code",
   "execution_count": 27,
   "metadata": {
    "collapsed": true
   },
   "outputs": [],
   "source": [
    "from snorkel.annotations import LabelManager\n",
    "\n",
    "label_manager = LabelManager()"
   ]
  },
  {
   "cell_type": "code",
   "execution_count": null,
   "metadata": {
    "collapsed": false
   },
   "outputs": [],
   "source": [
    "# TEMP\n",
    "# from snorkel import SnorkelSession\n",
    "# session = SnorkelSession()\n",
    "# from snorkel.models import candidate_subclass\n",
    "# Part_Temp = candidate_subclass('Part_Temp', ['part','temp'])\n",
    "# from snorkel.models import CandidateSet\n",
    "# candidates = session.query(CandidateSet).filter(CandidateSet.name == 'Hardware Training Candidates').one()\n",
    "# print candidates\n",
    "# train = candidates"
   ]
  },
  {
   "cell_type": "code",
   "execution_count": 28,
   "metadata": {
    "collapsed": false
   },
   "outputs": [
    {
     "name": "stdout",
     "output_type": "stream",
     "text": [
      "Part_Temp(Span(\"BC807-25\", parent=80944, chars=[36,43], words=[5,5]), Span(\"-50\", parent=123581, chars=[0,2], words=[0,0]))\n",
      "-50\n",
      "[]\n",
      "[]\n",
      "[]\n",
      "[u'-50']\n",
      "[u'min', u'v', u'cbo', u'-', u'-45']\n",
      "[u'collector-base', u'breakdown', u'voltage', '(', u'i', u'c', u'=', u'-10', u'?', u'a', u',', u'i', u'e', u'=', u'0', ')', u'v', u'cbo', u'-', u'v']\n",
      "[u'min', u'-45', u'-5', u'-', u'-', u'-', u'160', u'-', u'-', u'100']\n",
      "[u'collector-base', u'breakdown', u'voltage', '(', u'i', u'c', u'=', u'-10', u'?', u'a', u',', u'i', u'e', u'=', u'0', ')', u'v', u'cbo', u'-', u'v', u'min', u'-45', u'-5', u'-', u'-', u'-', u'160', u'-', u'-', u'100']\n"
     ]
    }
   ],
   "source": [
    "from snorkel.lf_helpers import get_right_ngrams, get_left_ngrams, contains_token\n",
    "from snorkel.lf_helpers import get_phrase_ngrams, get_cell_ngrams, get_neighbor_cell_ngrams\n",
    "from snorkel.lf_helpers import get_row_ngrams, get_col_ngrams, get_aligned_ngrams\n",
    "cand = train[0]\n",
    "print cand\n",
    "print cand[1].parent.cell.text\n",
    "print get_left_ngrams(cand[1])\n",
    "print get_right_ngrams(cand[1])\n",
    "print get_phrase_ngrams(cand[1])\n",
    "print get_cell_ngrams(cand[1])\n",
    "print get_neighbor_cell_ngrams(cand[1])\n",
    "print get_row_ngrams(cand[1])\n",
    "print get_col_ngrams(cand[1])\n",
    "print get_aligned_ngrams(cand[1])"
   ]
  },
  {
   "cell_type": "code",
   "execution_count": 29,
   "metadata": {
    "collapsed": false
   },
   "outputs": [],
   "source": [
    "from snorkel.lf_helpers import *\n",
    "\n",
    "LFs = []\n",
    "\n",
    "def LF_to_range(c):\n",
    "    return 1 if 'to' in get_right_ngrams(c) else 0\n",
    "LFs.append(LF_to_range)\n",
    "\n",
    "def LF_tilde_range(c):\n",
    "    return 1 if '~' in get_right_ngrams(c) else 0\n",
    "LFs.append(LF_tilde_range)\n",
    "\n",
    "def LF_through_range(c):\n",
    "    return 1 if set(['through','thru']).intersection(set(get_right_ngrams(c))) > 0 else 0\n",
    "LFs.append(LF_through_range)\n",
    "\n",
    "def LF_contains_minus(c):\n",
    "    return 1 if contains_token(c, '-') or contains_token(c,'-50') else -1\n",
    "LFs.append(LF_contains_minus)\n",
    "\n",
    "def LF_storage(c):\n",
    "    return 1 if 'storage' in get_row_ngrams(c, attrib='words') else -1\n",
    "LFs.append(LF_storage)\n",
    "\n",
    "def LF_tstg(c):\n",
    "    return 1 if 'tstg' in get_row_ngrams(c, attrib='words') else -1\n",
    "LFs.append(LF_tstg)\n",
    "\n",
    "def LF_tj(c):\n",
    "    return 1 if 'tj' in get_row_ngrams(c, attrib='words') else -1\n",
    "LFs.append(LF_tj)\n",
    "\n",
    "def LF_temperature(c):\n",
    "    return 1 if 'temperature' in get_row_ngrams(c, attrib='words') else -1\n",
    "LFs.append(LF_temperature)\n",
    "\n",
    "def LF_celsius(c):\n",
    "    return 1 if 'c' in get_row_ngrams(c, attrib='words') else -1\n",
    "LFs.append(LF_celsius)\n",
    "\n",
    "def LF_max(c):\n",
    "    return 1 if 'max' in get_aligned_ngrams(c, attrib='words') else 0\n",
    "LFs.append(LF_max)\n",
    "\n",
    "def LF_min(c):\n",
    "    return 1 if 'min' in get_aligned_ngrams(c, attrib='words') else 0\n",
    "LFs.append(LF_min)"
   ]
  },
  {
   "cell_type": "code",
   "execution_count": 30,
   "metadata": {
    "collapsed": false
   },
   "outputs": [
    {
     "name": "stdout",
     "output_type": "stream",
     "text": [
      "[========================================] 97%\n",
      "\n",
      "Loading sparse Label matrix...\n",
      "CPU times: user 11 s, sys: 485 ms, total: 11.5 s\n",
      "Wall time: 11.3 s\n"
     ]
    },
    {
     "data": {
      "text/plain": [
       "<646x11 sparse matrix of type '<type 'numpy.float64'>'\n",
       "\twith 4603 stored elements in Compressed Sparse Row format>"
      ]
     },
     "execution_count": 30,
     "metadata": {},
     "output_type": "execute_result"
    }
   ],
   "source": [
    "%time L_train = label_manager.create(session, train, 'LF Labels', f=LFs)\n",
    "L_train"
   ]
  },
  {
   "cell_type": "code",
   "execution_count": 31,
   "metadata": {
    "collapsed": false
   },
   "outputs": [
    {
     "data": {
      "text/html": [
       "<div>\n",
       "<table border=\"1\" class=\"dataframe\">\n",
       "  <thead>\n",
       "    <tr style=\"text-align: right;\">\n",
       "      <th></th>\n",
       "      <th>conflicts</th>\n",
       "      <th>coverage</th>\n",
       "      <th>j</th>\n",
       "      <th>overlaps</th>\n",
       "    </tr>\n",
       "  </thead>\n",
       "  <tbody>\n",
       "    <tr>\n",
       "      <th>LF_to_range</th>\n",
       "      <td>0.236842</td>\n",
       "      <td>0.236842</td>\n",
       "      <td>0</td>\n",
       "      <td>0.236842</td>\n",
       "    </tr>\n",
       "    <tr>\n",
       "      <th>LF_tilde_range</th>\n",
       "      <td>0.040248</td>\n",
       "      <td>0.040248</td>\n",
       "      <td>1</td>\n",
       "      <td>0.040248</td>\n",
       "    </tr>\n",
       "    <tr>\n",
       "      <th>LF_through_range</th>\n",
       "      <td>0.978328</td>\n",
       "      <td>0.978328</td>\n",
       "      <td>2</td>\n",
       "      <td>0.978328</td>\n",
       "    </tr>\n",
       "    <tr>\n",
       "      <th>LF_contains_minus</th>\n",
       "      <td>0.978328</td>\n",
       "      <td>0.978328</td>\n",
       "      <td>3</td>\n",
       "      <td>0.978328</td>\n",
       "    </tr>\n",
       "    <tr>\n",
       "      <th>LF_storage</th>\n",
       "      <td>0.978328</td>\n",
       "      <td>0.978328</td>\n",
       "      <td>4</td>\n",
       "      <td>0.978328</td>\n",
       "    </tr>\n",
       "    <tr>\n",
       "      <th>LF_tstg</th>\n",
       "      <td>0.978328</td>\n",
       "      <td>0.978328</td>\n",
       "      <td>5</td>\n",
       "      <td>0.978328</td>\n",
       "    </tr>\n",
       "    <tr>\n",
       "      <th>LF_tj</th>\n",
       "      <td>0.978328</td>\n",
       "      <td>0.978328</td>\n",
       "      <td>6</td>\n",
       "      <td>0.978328</td>\n",
       "    </tr>\n",
       "    <tr>\n",
       "      <th>LF_temperature</th>\n",
       "      <td>0.978328</td>\n",
       "      <td>0.978328</td>\n",
       "      <td>7</td>\n",
       "      <td>0.978328</td>\n",
       "    </tr>\n",
       "    <tr>\n",
       "      <th>LF_celsius</th>\n",
       "      <td>0.978328</td>\n",
       "      <td>0.978328</td>\n",
       "      <td>8</td>\n",
       "      <td>0.978328</td>\n",
       "    </tr>\n",
       "    <tr>\n",
       "      <th>LF_max</th>\n",
       "      <td>0.000000</td>\n",
       "      <td>0.000000</td>\n",
       "      <td>9</td>\n",
       "      <td>0.000000</td>\n",
       "    </tr>\n",
       "    <tr>\n",
       "      <th>LF_min</th>\n",
       "      <td>0.000000</td>\n",
       "      <td>0.000000</td>\n",
       "      <td>10</td>\n",
       "      <td>0.000000</td>\n",
       "    </tr>\n",
       "  </tbody>\n",
       "</table>\n",
       "</div>"
      ],
      "text/plain": [
       "                   conflicts  coverage   j  overlaps\n",
       "LF_to_range         0.236842  0.236842   0  0.236842\n",
       "LF_tilde_range      0.040248  0.040248   1  0.040248\n",
       "LF_through_range    0.978328  0.978328   2  0.978328\n",
       "LF_contains_minus   0.978328  0.978328   3  0.978328\n",
       "LF_storage          0.978328  0.978328   4  0.978328\n",
       "LF_tstg             0.978328  0.978328   5  0.978328\n",
       "LF_tj               0.978328  0.978328   6  0.978328\n",
       "LF_temperature      0.978328  0.978328   7  0.978328\n",
       "LF_celsius          0.978328  0.978328   8  0.978328\n",
       "LF_max              0.000000  0.000000   9  0.000000\n",
       "LF_min              0.000000  0.000000  10  0.000000"
      ]
     },
     "execution_count": 31,
     "metadata": {},
     "output_type": "execute_result"
    }
   ],
   "source": [
    "L_train.lf_stats()"
   ]
  },
  {
   "cell_type": "markdown",
   "metadata": {},
   "source": [
    "## Train Generative Model"
   ]
  },
  {
   "cell_type": "code",
   "execution_count": 32,
   "metadata": {
    "collapsed": false
   },
   "outputs": [
    {
     "name": "stderr",
     "output_type": "stream",
     "text": [
      "/Users/bradenhancock/anaconda/lib/python2.7/site-packages/matplotlib/__init__.py:1350: UserWarning:  This call to matplotlib.use() has no effect\n",
      "because the backend has already been chosen;\n",
      "matplotlib.use() must be called *before* pylab, matplotlib.pyplot,\n",
      "or matplotlib.backends is imported for the first time.\n",
      "\n",
      "  warnings.warn(_use_error_msg)\n"
     ]
    },
    {
     "name": "stdout",
     "output_type": "stream",
     "text": [
      "================================================================================\n",
      "Training marginals (!= 0.5):\t646\n",
      "Features:\t\t\t11\n",
      "================================================================================\n",
      "Begin training for rate=1e-05, mu=1e-06\n",
      "\tLearning epoch = 0\tGradient mag. = 0.913727\n",
      "\tLearning epoch = 250\tGradient mag. = 0.963354\n",
      "\tLearning epoch = 500\tGradient mag. = 0.964895\n",
      "\tLearning epoch = 750\tGradient mag. = 0.966439\n",
      "\tLearning epoch = 1000\tGradient mag. = 0.967987\n",
      "\tLearning epoch = 1250\tGradient mag. = 0.969537\n",
      "\tLearning epoch = 1500\tGradient mag. = 0.971091\n",
      "\tLearning epoch = 1750\tGradient mag. = 0.972648\n",
      "\tLearning epoch = 2000\tGradient mag. = 0.974208\n",
      "\tLearning epoch = 2250\tGradient mag. = 0.975771\n",
      "\tLearning epoch = 2500\tGradient mag. = 0.977337\n",
      "\tLearning epoch = 2750\tGradient mag. = 0.978907\n",
      "Final gradient magnitude for rate=1e-05, mu=1e-06: 0.980\n"
     ]
    }
   ],
   "source": [
    "from snorkel.learning import NaiveBayes\n",
    "\n",
    "gen_model = NaiveBayes()\n",
    "gen_model.train(L_train, n_iter=3000, rate=1e-5)"
   ]
  },
  {
   "cell_type": "code",
   "execution_count": 33,
   "metadata": {
    "collapsed": true
   },
   "outputs": [],
   "source": [
    "gen_model.save(session, 'Generative Params')"
   ]
  },
  {
   "cell_type": "code",
   "execution_count": 34,
   "metadata": {
    "collapsed": true
   },
   "outputs": [],
   "source": [
    "train_marginals = gen_model.marginals(L_train)"
   ]
  },
  {
   "cell_type": "markdown",
   "metadata": {},
   "source": [
    "## Train Discriminative Model"
   ]
  },
  {
   "cell_type": "code",
   "execution_count": 35,
   "metadata": {
    "collapsed": false
   },
   "outputs": [
    {
     "name": "stdout",
     "output_type": "stream",
     "text": [
      "================================================================================\n",
      "Training marginals (!= 0.5):\t632\n",
      "Features:\t\t\t1714\n",
      "================================================================================\n",
      "Using gradient descent...\n",
      "\tLearning epoch = 0\tStep size = 0.001\n",
      "\tLoss = 438.069018\tGradient magnitude = 441.369984\n",
      "\tLearning epoch = 100\tStep size = 0.000904792147114\n",
      "\tLoss = 114.074824\tGradient magnitude = 9.462703\n",
      "\tLearning epoch = 200\tStep size = 0.000818648829479\n",
      "\tLoss = 109.571442\tGradient magnitude = 5.597344\n",
      "\tLearning epoch = 300\tStep size = 0.000740707032156\n",
      "\tLoss = 107.721648\tGradient magnitude = 4.271160\n",
      "\tLearning epoch = 400\tStep size = 0.000670185906007\n",
      "\tLoss = 106.637602\tGradient magnitude = 3.614356\n",
      "\tLearning epoch = 500\tStep size = 0.000606378944861\n",
      "\tLoss = 105.896542\tGradient magnitude = 3.221343\n",
      "\tLearning epoch = 600\tStep size = 0.000548646907485\n",
      "\tLoss = 105.347617\tGradient magnitude = 2.956399\n",
      "\tLearning epoch = 700\tStep size = 0.000496411413431\n",
      "\tLoss = 104.921375\tGradient magnitude = 2.763498\n",
      "\tLearning epoch = 800\tStep size = 0.00044914914861\n",
      "\tLoss = 104.580079\tGradient magnitude = 2.615856\n",
      "\tLearning epoch = 900\tStep size = 0.000406386622545\n",
      "\tLoss = 104.300807\tGradient magnitude = 2.499049\n",
      "\tLearning epoch = 1000\tStep size = 0.000367695424771\n",
      "\tLoss = 104.068535\tGradient magnitude = 2.404491\n",
      "\tLearning epoch = 1100\tStep size = 0.000332687932862\n",
      "\tLoss = 103.872874\tGradient magnitude = 2.326645\n",
      "\tLearning epoch = 1200\tStep size = 0.000301013429093\n",
      "\tLoss = 103.706352\tGradient magnitude = 2.261722\n",
      "\tLearning epoch = 1300\tStep size = 0.000272354586819\n",
      "\tLoss = 103.563433\tGradient magnitude = 2.207007\n",
      "\tLearning epoch = 1400\tStep size = 0.000246424291385\n",
      "\tLoss = 103.439908\tGradient magnitude = 2.160492\n",
      "\tLearning epoch = 1500\tStep size = 0.000222962763703\n",
      "\tLoss = 103.332518\tGradient magnitude = 2.120656\n",
      "\tLearning epoch = 1600\tStep size = 0.000201734957697\n",
      "\tLoss = 103.238687\tGradient magnitude = 2.086323\n",
      "\tLearning epoch = 1700\tStep size = 0.000182528205523\n",
      "\tLoss = 103.156356\tGradient magnitude = 2.056568\n",
      "\tLearning epoch = 1800\tStep size = 0.000165150086984\n",
      "\tLoss = 103.083852\tGradient magnitude = 2.030657\n",
      "\tLearning epoch = 1900\tStep size = 0.000149426501798\n",
      "\tLoss = 103.019800\tGradient magnitude = 2.007999\n",
      "\tLearning epoch = 2000\tStep size = 0.000135199925397\n",
      "\tLoss = 102.963061\tGradient magnitude = 1.988110\n",
      "\tLearning epoch = 2100\tStep size = 0.00012232783079\n",
      "\tLoss = 102.912680\tGradient magnitude = 1.970597\n",
      "\tLearning epoch = 2200\tStep size = 0.000110681260672\n",
      "\tLoss = 102.867852\tGradient magnitude = 1.955129\n",
      "\tLearning epoch = 2300\tStep size = 0.000100143535489\n",
      "\tLoss = 102.827893\tGradient magnitude = 1.941434\n",
      "\tLearning epoch = 2400\tStep size = 9.06090844946e-05\n",
      "\tLoss = 102.792216\tGradient magnitude = 1.929280\n",
      "\tLearning epoch = 2500\tStep size = 8.19823881078e-05\n",
      "\tLoss = 102.760317\tGradient magnitude = 1.918473\n",
      "\tLearning epoch = 2600\tStep size = 7.41770209616e-05\n",
      "\tLoss = 102.731762\tGradient magnitude = 1.908846\n",
      "\tLearning epoch = 2700\tStep size = 6.71147860624e-05\n",
      "\tLoss = 102.706170\tGradient magnitude = 1.900256\n",
      "\tLearning epoch = 2800\tStep size = 6.07249313844e-05\n",
      "\tLoss = 102.683212\tGradient magnitude = 1.892581\n",
      "\tLearning epoch = 2900\tStep size = 5.49434410507e-05\n",
      "\tLoss = 102.662600\tGradient magnitude = 1.885715\n",
      "\tLearning epoch = 3000\tStep size = 4.9712393998e-05\n",
      "\tLoss = 102.644077\tGradient magnitude = 1.879565\n",
      "\tLearning epoch = 3100\tStep size = 4.49793837036e-05\n",
      "\tLoss = 102.627422\tGradient magnitude = 1.874051\n",
      "\tLearning epoch = 3200\tStep size = 4.06969931571e-05\n",
      "\tLoss = 102.612437\tGradient magnitude = 1.869103\n",
      "\tLearning epoch = 3300\tStep size = 3.68223198197e-05\n",
      "\tLoss = 102.598946\tGradient magnitude = 1.864659\n",
      "\tLearning epoch = 3400\tStep size = 3.33165458113e-05\n",
      "\tLoss = 102.586795\tGradient magnitude = 1.860665\n",
      "\tLearning epoch = 3500\tStep size = 3.01445490191e-05\n",
      "\tLoss = 102.575846\tGradient magnitude = 1.857073\n",
      "\tLearning epoch = 3600\tStep size = 2.72745512307e-05\n",
      "\tLoss = 102.565975\tGradient magnitude = 1.853841\n",
      "\tLearning epoch = 3700\tStep size = 2.46777997696e-05\n",
      "\tLoss = 102.557073\tGradient magnitude = 1.850930\n",
      "\tLearning epoch = 3800\tStep size = 2.23282794396e-05\n",
      "\tLoss = 102.549044\tGradient magnitude = 1.848308\n",
      "\tLearning epoch = 3900\tStep size = 2.02024518955e-05\n",
      "\tLoss = 102.541798\tGradient magnitude = 1.845946\n",
      "\tLearning epoch = 4000\tStep size = 1.82790198275e-05\n",
      "\tLoss = 102.535258\tGradient magnitude = 1.843816\n",
      "\tLearning epoch = 4100\tStep size = 1.65387135968e-05\n",
      "\tLoss = 102.529354\tGradient magnitude = 1.841895\n",
      "\tLearning epoch = 4200\tStep size = 1.49640981858e-05\n",
      "\tLoss = 102.524022\tGradient magnitude = 1.840162\n",
      "\tLearning epoch = 4300\tStep size = 1.35393985271e-05\n",
      "\tLoss = 102.519207\tGradient magnitude = 1.838598\n",
      "\tLearning epoch = 4400\tStep size = 1.2250341464e-05\n",
      "\tLoss = 102.514857\tGradient magnitude = 1.837186\n",
      "\tLearning epoch = 4500\tStep size = 1.10840127561e-05\n",
      "\tLoss = 102.510927\tGradient magnitude = 1.835911\n",
      "\tLearning epoch = 4600\tStep size = 1.00287277002e-05\n",
      "\tLoss = 102.507376\tGradient magnitude = 1.834761\n",
      "\tLearning epoch = 4700\tStep size = 9.0739140687e-06\n",
      "\tLoss = 102.504166\tGradient magnitude = 1.833721\n",
      "\tLearning epoch = 4800\tStep size = 8.21000619294e-06\n",
      "\tLoss = 102.501266\tGradient magnitude = 1.832782\n",
      "\tLearning epoch = 4900\tStep size = 7.42834913113e-06\n",
      "\tLoss = 102.498644\tGradient magnitude = 1.831934\n"
     ]
    }
   ],
   "source": [
    "from snorkel.learning import LogReg\n",
    "\n",
    "disc_model = LogReg()\n",
    "disc_model.train(F_train, train_marginals, n_iter=5000, rate=1e-3)"
   ]
  },
  {
   "cell_type": "code",
   "execution_count": 36,
   "metadata": {
    "collapsed": false
   },
   "outputs": [
    {
     "data": {
      "text/plain": [
       "(1714,)"
      ]
     },
     "execution_count": 36,
     "metadata": {},
     "output_type": "execute_result"
    }
   ],
   "source": [
    "disc_model.w.shape"
   ]
  },
  {
   "cell_type": "code",
   "execution_count": 37,
   "metadata": {
    "collapsed": false
   },
   "outputs": [
    {
     "name": "stdout",
     "output_type": "stream",
     "text": [
      "CPU times: user 476 ms, sys: 26.7 ms, total: 503 ms\n",
      "Wall time: 492 ms\n"
     ]
    }
   ],
   "source": [
    "%time disc_model.save(session, \"Discriminative Params\")"
   ]
  },
  {
   "cell_type": "markdown",
   "metadata": {},
   "source": [
    "## Assess Performance on Dev Set"
   ]
  },
  {
   "cell_type": "code",
   "execution_count": 38,
   "metadata": {
    "collapsed": true
   },
   "outputs": [],
   "source": [
    "from snorkel.models import CandidateSet\n",
    "dev = session.query(CandidateSet).filter(CandidateSet.name == 'Hardware Development Candidates').one()"
   ]
  },
  {
   "cell_type": "code",
   "execution_count": 39,
   "metadata": {
    "collapsed": false,
    "scrolled": true
   },
   "outputs": [
    {
     "name": "stdout",
     "output_type": "stream",
     "text": [
      "[========================================] 100%\n",
      "\n",
      "Loading sparse Feature matrix...\n",
      "CPU times: user 3.66 s, sys: 129 ms, total: 3.79 s\n",
      "Wall time: 3.79 s\n"
     ]
    }
   ],
   "source": [
    "%time F_dev = feature_manager.update(session, dev, 'Train Features', False)"
   ]
  },
  {
   "cell_type": "code",
   "execution_count": 40,
   "metadata": {
    "collapsed": false
   },
   "outputs": [],
   "source": [
    "L_dev = label_manager.load(session, dev, \"Hardware Development Labels -- Gold\")"
   ]
  },
  {
   "cell_type": "code",
   "execution_count": 41,
   "metadata": {
    "collapsed": false
   },
   "outputs": [],
   "source": [
    "gold_dev_set = session.query(CandidateSet).filter(CandidateSet.name == 'Hardware Development Candidates').one()"
   ]
  },
  {
   "cell_type": "code",
   "execution_count": 42,
   "metadata": {
    "collapsed": false
   },
   "outputs": [
    {
     "data": {
      "text/plain": [
       "(116, 1714)"
      ]
     },
     "execution_count": 42,
     "metadata": {},
     "output_type": "execute_result"
    }
   ],
   "source": [
    "F_dev.shape"
   ]
  },
  {
   "cell_type": "code",
   "execution_count": 43,
   "metadata": {
    "collapsed": false
   },
   "outputs": [
    {
     "name": "stdout",
     "output_type": "stream",
     "text": [
      "Calibration plot:\n"
     ]
    },
    {
     "name": "stderr",
     "output_type": "stream",
     "text": [
      "/Users/bradenhancock/anaconda/lib/python2.7/site-packages/numpy/core/_methods.py:59: RuntimeWarning: Mean of empty slice.\n",
      "  warnings.warn(\"Mean of empty slice.\", RuntimeWarning)\n"
     ]
    },
    {
     "data": {
      "image/png": "[encoded data removed]",
      "text/plain": [
       "<matplotlib.figure.Figure at 0x11938c2d0>"
      ]
     },
     "metadata": {},
     "output_type": "display_data"
    },
    {
     "name": "stdout",
     "output_type": "stream",
     "text": [
      "========================================\n",
      "Test set size:\t116\n",
      "----------------------------------------\n",
      "Pos. class accuracy: 0.0\n",
      "Neg. class accuracy: 1.0\n",
      "----------------------------------------\n",
      "Precision:\tnan\n",
      "Recall:\t\t0.0\n",
      "F1 Score:\tnan\n",
      "----------------------------------------\n",
      "TP: 0 | FP: 0 | TN: 72 | FN: 44\n",
      "========================================\n",
      "========================================\n",
      "Recall-corrected Noise-aware Model\n",
      "========================================\n",
      "Pos. class accuracy: 0.0\n",
      "Neg. class accuracy: 1.0\n",
      "Corpus Precision nan\n",
      "Corpus Recall    0.0\n",
      "Corpus F1        nan\n",
      "----------------------------------------\n",
      "TP: 0 | FP: 0 | TN: 72 | FN: 44\n",
      "========================================\n",
      "\n"
     ]
    }
   ],
   "source": [
    "tp, fp, tn, fn = disc_model.score(F_dev, L_dev, gold_dev_set)"
   ]
  }
 ],
 "metadata": {
  "anaconda-cloud": {},
  "kernelspec": {
   "display_name": "Python [default]",
   "language": "python",
   "name": "python2"
  },
  "language_info": {
   "codemirror_mode": {
    "name": "ipython",
    "version": 2
   },
   "file_extension": ".py",
   "mimetype": "text/x-python",
   "name": "python",
   "nbconvert_exporter": "python",
   "pygments_lexer": "ipython2",
   "version": "2.7.12"
  }
 },
 "nbformat": 4,
 "nbformat_minor": 0
}
