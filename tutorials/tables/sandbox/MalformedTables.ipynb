{
 "cells": [
  {
   "cell_type": "code",
   "execution_count": 1,
   "metadata": {
    "collapsed": true
   },
   "outputs": [],
   "source": [
    "# If necessary:\n",
    "import os\n",
    "os.remove('snorkel.db')"
   ]
  },
  {
   "cell_type": "code",
   "execution_count": 2,
   "metadata": {
    "collapsed": false
   },
   "outputs": [
    {
     "name": "stdout",
     "output_type": "stream",
     "text": [
      "The autoreload extension is already loaded. To reload it, use:\n",
      "  %reload_ext autoreload\n"
     ]
    }
   ],
   "source": [
    "%load_ext autoreload\n",
    "%autoreload 2\n",
    "%matplotlib inline\n",
    "\n",
    "import os\n",
    "import sys\n",
    "sys.path.append(os.environ['SNORKELHOME'] + '/tutorials/tables/')\n",
    "\n",
    "from snorkel import SnorkelSession\n",
    "session = SnorkelSession()"
   ]
  },
  {
   "cell_type": "code",
   "execution_count": 3,
   "metadata": {
    "collapsed": true
   },
   "outputs": [],
   "source": [
    "# from snorkel.parser import CorpusParser\n",
    "# from snorkel.parser import HTMLParser\n",
    "# from snorkel.parser import OmniParser\n",
    "\n",
    "# docs_path = os.environ['SNORKELHOME'] + '/tutorials/tables/data/hardware/hardware100_html/'\n",
    "# doc_parser = HTMLParser(path=docs_path)\n",
    "# context_parser = OmniParser()\n",
    "# cp = CorpusParser(doc_parser, context_parser, max_docs=100) "
   ]
  },
  {
   "cell_type": "code",
   "execution_count": 4,
   "metadata": {
    "collapsed": false
   },
   "outputs": [
    {
     "name": "stdout",
     "output_type": "stream",
     "text": [
      "[========================================] 100%\n",
      "CPU times: user 2min 43s, sys: 8.88 s, total: 2min 52s\n",
      "Wall time: 5min 3s\n"
     ]
    }
   ],
   "source": [
    "# %time corpus = cp.parse_corpus(name='Hardware', session=session)"
   ]
  },
  {
   "cell_type": "code",
   "execution_count": 5,
   "metadata": {
    "collapsed": true
   },
   "outputs": [],
   "source": [
    "# session.add(corpus)\n",
    "# session.commit()"
   ]
  },
  {
   "cell_type": "code",
   "execution_count": 6,
   "metadata": {
    "collapsed": true
   },
   "outputs": [],
   "source": [
    "#If necessary:\n",
    "# import os\n",
    "# os.system('cp snorkel.db snorkel.db\\ corpus');"
   ]
  },
  {
   "cell_type": "code",
   "execution_count": 7,
   "metadata": {
    "collapsed": true
   },
   "outputs": [],
   "source": [
    "#If necessary:\n",
    "import os\n",
    "os.remove('snorkel.db');\n",
    "os.system('cp snorkel.db\\ corpus snorkel.db');"
   ]
  },
  {
   "cell_type": "code",
   "execution_count": 8,
   "metadata": {
    "collapsed": false,
    "scrolled": true
   },
   "outputs": [
    {
     "name": "stdout",
     "output_type": "stream",
     "text": [
      "Corpus (Hardware) contains 98 Documents\n"
     ]
    }
   ],
   "source": [
    "from snorkel.models import Corpus\n",
    "from snorkel.utils import get_ORM_instance\n",
    "\n",
    "corpus = get_ORM_instance(Corpus, session, 'Hardware')\n",
    "print \"%s contains %d Documents\" % (corpus, len(corpus))"
   ]
  },
  {
   "cell_type": "code",
   "execution_count": null,
   "metadata": {
    "collapsed": false
   },
   "outputs": [
    {
     "name": "stdout",
     "output_type": "stream",
     "text": [
      "> <ipython-input-10-0b56dea1e404>(23)<module>()\n",
      "-> break\n",
      "(Pdb) print table.text\n",
      "<table cellspacing=\"0\" style=\"border-collapse:collapse\"><tr style=\"height:16pt\"><td style=\"width:156pt;border-top-style:solid;border-top-width:1pt;border-top-color:#231F20;border-left-style:solid;border-left-width:1pt;border-left-color:#231F20;border-bottom-style:solid;border-bottom-width:1pt;border-bottom-color:#231F20;border-right-style:solid;border-right-width:1pt;border-right-color:#231F20\"><p class=\"s5\" style=\"padding-top: 1pt;padding-right: 1pt;text-indent: 0pt;text-align: center;\">Rating</p></td><td style=\"width:38pt;border-top-style:solid;border-top-width:1pt;border-top-color:#231F20;border-left-style:solid;border-left-width:1pt;border-left-color:#231F20;border-bottom-style:solid;border-bottom-width:1pt;border-bottom-color:#231F20;border-right-style:solid;border-right-width:1pt;border-right-color:#231F20\"><p class=\"s5\" style=\"padding-top: 1pt;padding-left: 4pt;text-indent: 0pt;text-align: left;\">Symbol</p></td><td style=\"width:35pt;border-top-style:solid;border-top-width:1pt;border-top-color:#231F20;border-left-style:solid;border-left-width:1pt;border-left-color:#231F20;border-bottom-style:solid;border-bottom-width:1pt;border-bottom-color:#231F20;border-right-style:solid;border-right-width:1pt;border-right-color:#231F20\"><p class=\"s5\" style=\"padding-top: 1pt;padding-left: 4pt;text-indent: 0pt;text-align: left;\">BC237</p></td><td style=\"width:34pt;border-top-style:solid;border-top-width:1pt;border-top-color:#231F20;border-left-style:solid;border-left-width:1pt;border-left-color:#231F20;border-bottom-style:solid;border-bottom-width:1pt;border-bottom-color:#231F20;border-right-style:solid;border-right-width:1pt;border-right-color:#231F20\"><p class=\"s5\" style=\"padding-top: 1pt;padding-left: 4pt;text-indent: 0pt;text-align: left;\">BC238</p></td><td style=\"width:35pt;border-top-style:solid;border-top-width:1pt;border-top-color:#231F20;border-left-style:solid;border-left-width:1pt;border-left-color:#231F20;border-bottom-style:solid;border-bottom-width:1pt;border-bottom-color:#231F20;border-right-style:solid;border-right-width:1pt;border-right-color:#231F20\"><p class=\"s5\" style=\"padding-top: 1pt;padding-left: 4pt;text-indent: 0pt;text-align: left;\">BC239</p></td><td style=\"width:36pt;border-top-style:solid;border-top-width:1pt;border-top-color:#231F20;border-left-style:solid;border-left-width:1pt;border-left-color:#231F20;border-bottom-style:solid;border-bottom-width:1pt;border-bottom-color:#231F20;border-right-style:solid;border-right-width:1pt;border-right-color:#231F20\"><p class=\"s5\" style=\"padding-top: 1pt;padding-left: 9pt;text-indent: 0pt;text-align: left;\">Unit</p></td></tr><tr style=\"height:16pt\"><td style=\"width:156pt;border-top-style:solid;border-top-width:1pt;border-top-color:#231F20;border-left-style:solid;border-left-width:1pt;border-left-color:#231F20;border-bottom-style:solid;border-bottom-width:1pt;border-bottom-color:#231F20;border-right-style:solid;border-right-width:1pt;border-right-color:#231F20\"><p class=\"s6\" style=\"padding-top: 1pt;padding-left: 7pt;text-indent: 0pt;text-align: left;\">Collector- Emitter Voltage</p></td><td style=\"width:38pt;border-top-style:solid;border-top-width:1pt;border-top-color:#231F20;border-left-style:solid;border-left-width:1pt;border-left-color:#231F20;border-bottom-style:solid;border-bottom-width:1pt;border-bottom-color:#231F20;border-right-style:solid;border-right-width:1pt;border-right-color:#231F20\"><p class=\"s7\" style=\"padding-top: 1pt;padding-left: 7pt;text-indent: 0pt;text-align: left;\">V<span class=\"s6\">CEO</span></p></td><td style=\"width:35pt;border-top-style:solid;border-top-width:1pt;border-top-color:#231F20;border-left-style:solid;border-left-width:1pt;border-left-color:#231F20;border-bottom-style:solid;border-bottom-width:1pt;border-bottom-color:#231F20;border-right-style:solid;border-right-width:1pt;border-right-color:#231F20\"><p class=\"s6\" style=\"padding-top: 1pt;text-indent: 0pt;text-align: center;\">45</p></td><td style=\"width:34pt;border-top-style:solid;border-top-width:1pt;border-top-color:#231F20;border-left-style:solid;border-left-width:1pt;border-left-color:#231F20;border-bottom-style:solid;border-bottom-width:1pt;border-bottom-color:#231F20;border-right-style:solid;border-right-width:1pt;border-right-color:#231F20\"><p class=\"s6\" style=\"padding-top: 1pt;text-indent: 0pt;text-align: center;\">25</p></td><td style=\"width:35pt;border-top-style:solid;border-top-width:1pt;border-top-color:#231F20;border-left-style:solid;border-left-width:1pt;border-left-color:#231F20;border-bottom-style:solid;border-bottom-width:1pt;border-bottom-color:#231F20;border-right-style:solid;border-right-width:1pt;border-right-color:#231F20\"><p class=\"s6\" style=\"padding-top: 1pt;text-indent: 0pt;text-align: center;\">25</p></td><td style=\"width:36pt;border-top-style:solid;border-top-width:1pt;border-top-color:#231F20;border-left-style:solid;border-left-width:1pt;border-left-color:#231F20;border-bottom-style:solid;border-bottom-width:1pt;border-bottom-color:#231F20;border-right-style:solid;border-right-width:1pt;border-right-color:#231F20\"><p class=\"s6\" style=\"padding-top: 1pt;padding-left: 10pt;text-indent: 0pt;text-align: left;\">Vdc</p></td></tr><tr style=\"height:16pt\"><td style=\"width:156pt;border-top-style:solid;border-top-width:1pt;border-top-color:#231F20;border-left-style:solid;border-left-width:1pt;border-left-color:#231F20;border-bottom-style:solid;border-bottom-width:1pt;border-bottom-color:#231F20;border-right-style:solid;border-right-width:1pt;border-right-color:#231F20\"><p class=\"s6\" style=\"padding-top: 1pt;padding-left: 7pt;text-indent: 0pt;text-align: left;\">Collector- Emitter Voltage</p></td><td style=\"width:38pt;border-top-style:solid;border-top-width:1pt;border-top-color:#231F20;border-left-style:solid;border-left-width:1pt;border-left-color:#231F20;border-bottom-style:solid;border-bottom-width:1pt;border-bottom-color:#231F20;border-right-style:solid;border-right-width:1pt;border-right-color:#231F20\"><p class=\"s7\" style=\"padding-top: 1pt;padding-left: 7pt;text-indent: 0pt;text-align: left;\">V<span class=\"s6\">CES</span></p></td><td style=\"width:35pt;border-top-style:solid;border-top-width:1pt;border-top-color:#231F20;border-left-style:solid;border-left-width:1pt;border-left-color:#231F20;border-bottom-style:solid;border-bottom-width:1pt;border-bottom-color:#231F20;border-right-style:solid;border-right-width:1pt;border-right-color:#231F20\"><p class=\"s6\" style=\"padding-top: 1pt;text-indent: 0pt;text-align: center;\">50</p></td><td style=\"width:34pt;border-top-style:solid;border-top-width:1pt;border-top-color:#231F20;border-left-style:solid;border-left-width:1pt;border-left-color:#231F20;border-bottom-style:solid;border-bottom-width:1pt;border-bottom-color:#231F20;border-right-style:solid;border-right-width:1pt;border-right-color:#231F20\"><p class=\"s6\" style=\"padding-top: 1pt;text-indent: 0pt;text-align: center;\">30</p></td><td style=\"width:35pt;border-top-style:solid;border-top-width:1pt;border-top-color:#231F20;border-left-style:solid;border-left-width:1pt;border-left-color:#231F20;border-bottom-style:solid;border-bottom-width:1pt;border-bottom-color:#231F20;border-right-style:solid;border-right-width:1pt;border-right-color:#231F20\"><p class=\"s6\" style=\"padding-top: 1pt;text-indent: 0pt;text-align: center;\">30</p></td><td style=\"width:36pt;border-top-style:solid;border-top-width:1pt;border-top-color:#231F20;border-left-style:solid;border-left-width:1pt;border-left-color:#231F20;border-bottom-style:solid;border-bottom-width:1pt;border-bottom-color:#231F20;border-right-style:solid;border-right-width:1pt;border-right-color:#231F20\"><p class=\"s6\" style=\"padding-top: 1pt;padding-left: 10pt;text-indent: 0pt;text-align: left;\">Vdc</p></td></tr><tr style=\"height:16pt\"><td style=\"width:156pt;border-top-style:solid;border-top-width:1pt;border-top-color:#231F20;border-left-style:solid;border-left-width:1pt;border-left-color:#231F20;border-bottom-style:solid;border-bottom-width:1pt;border-bottom-color:#231F20;border-right-style:solid;border-right-width:1pt;border-right-color:#231F20\"><p class=\"s6\" style=\"padding-top: 1pt;padding-left: 7pt;text-indent: 0pt;text-align: left;\">Emitter- Base Voltage</p></td><td style=\"width:38pt;border-top-style:solid;border-top-width:1pt;border-top-color:#231F20;border-left-style:solid;border-left-width:1pt;border-left-color:#231F20;border-bottom-style:solid;border-bottom-width:1pt;border-bottom-color:#231F20;border-right-style:solid;border-right-width:1pt;border-right-color:#231F20\"><p class=\"s7\" style=\"padding-top: 1pt;padding-left: 7pt;text-indent: 0pt;text-align: left;\">V<span class=\"s6\">EBO</span></p></td><td style=\"width:35pt;border-top-style:solid;border-top-width:1pt;border-top-color:#231F20;border-left-style:solid;border-left-width:1pt;border-left-color:#231F20;border-bottom-style:solid;border-bottom-width:1pt;border-bottom-color:#231F20;border-right-style:solid;border-right-width:1pt;border-right-color:#231F20\"><p class=\"s6\" style=\"padding-top: 1pt;padding-left: 11pt;text-indent: 0pt;text-align: left;\">6.0</p></td><td style=\"width:34pt;border-top-style:solid;border-top-width:1pt;border-top-color:#231F20;border-left-style:solid;border-left-width:1pt;border-left-color:#231F20;border-bottom-style:solid;border-bottom-width:1pt;border-bottom-color:#231F20;border-right-style:solid;border-right-width:1pt;border-right-color:#231F20\"><p class=\"s6\" style=\"padding-top: 1pt;padding-left: 11pt;text-indent: 0pt;text-align: left;\">5.0</p></td><td style=\"width:35pt;border-top-style:solid;border-top-width:1pt;border-top-color:#231F20;border-left-style:solid;border-left-width:1pt;border-left-color:#231F20;border-bottom-style:solid;border-bottom-width:1pt;border-bottom-color:#231F20;border-right-style:solid;border-right-width:1pt;border-right-color:#231F20\"><p class=\"s6\" style=\"padding-top: 1pt;padding-left: 11pt;text-indent: 0pt;text-align: left;\">5.0</p></td><td style=\"width:36pt;border-top-style:solid;border-top-width:1pt;border-top-color:#231F20;border-left-style:solid;border-left-width:1pt;border-left-color:#231F20;border-bottom-style:solid;border-bottom-width:1pt;border-bottom-color:#231F20;border-right-style:solid;border-right-width:1pt;border-right-color:#231F20\"><p class=\"s6\" style=\"padding-top: 1pt;padding-left: 10pt;text-indent: 0pt;text-align: left;\">Vdc</p></td></tr><tr style=\"height:16pt\"><td style=\"width:156pt;border-top-style:solid;border-top-width:1pt;border-top-color:#231F20;border-left-style:solid;border-left-width:1pt;border-left-color:#231F20;border-bottom-style:solid;border-bottom-width:1pt;border-bottom-color:#231F20;border-right-style:solid;border-right-width:1pt;border-right-color:#231F20\"><p class=\"s6\" style=\"padding-top: 1pt;padding-left: 7pt;text-indent: 0pt;text-align: left;\">Collector Current - Continuous</p></td><td style=\"width:38pt;border-top-style:solid;border-top-width:1pt;border-top-color:#231F20;border-left-style:solid;border-left-width:1pt;border-left-color:#231F20;border-bottom-style:solid;border-bottom-width:1pt;border-bottom-color:#231F20;border-right-style:solid;border-right-width:1pt;border-right-color:#231F20\"><p class=\"s6\" style=\"padding-top: 1pt;text-indent: 0pt;text-align: center;\">I<span class=\"s8\">C</span></p></td><td colspan=\"3\" style=\"width:104pt;border-top-style:solid;border-top-width:1pt;border-top-color:#231F20;border-left-style:solid;border-left-width:1pt;border-left-color:#231F20;border-bottom-style:solid;border-bottom-width:1pt;border-bottom-color:#231F20;border-right-style:solid;border-right-width:1pt;border-right-color:#231F20\"><p class=\"s6\" style=\"padding-top: 1pt;text-indent: 0pt;text-align: center;\">100</p></td><td style=\"width:36pt;border-top-style:solid;border-top-width:1pt;border-top-color:#231F20;border-left-style:solid;border-left-width:1pt;border-left-color:#231F20;border-bottom-style:solid;border-bottom-width:1pt;border-bottom-color:#231F20;border-right-style:solid;border-right-width:1pt;border-right-color:#231F20\"><p class=\"s6\" style=\"padding-top: 1pt;padding-left: 6pt;text-indent: 0pt;text-align: left;\">mAdc</p></td></tr><tr style=\"height:14pt\"><td style=\"width:156pt;border-top-style:solid;border-top-width:1pt;border-top-color:#231F20;border-left-style:solid;border-left-width:1pt;border-left-color:#231F20;border-right-style:solid;border-right-width:1pt;border-right-color:#231F20\"><p class=\"s6\" style=\"padding-top: 1pt;padding-left: 7pt;text-indent: 0pt;line-height: 12pt;text-align: left;\">Total Device Dissipation @ T<span class=\"s8\">A</span> = 25<span class=\"s9\">?</span>C</p></td><td rowspan=\"2\" style=\"width:38pt;border-top-style:solid;border-top-width:1pt;border-top-color:#231F20;border-left-style:solid;border-left-width:1pt;border-left-color:#231F20;border-bottom-style:solid;border-bottom-width:1pt;border-bottom-color:#231F20;border-right-style:solid;border-right-width:1pt;border-right-color:#231F20\"><p class=\"s6\" style=\"padding-top: 1pt;text-indent: 0pt;text-align: center;\">P<span class=\"s8\">D</span></p></td><td colspan=\"3\" style=\"width:104pt;border-top-style:solid;border-top-width:1pt;border-top-color:#231F20;border-left-style:solid;border-left-width:1pt;border-left-color:#231F20;border-right-style:solid;border-right-width:1pt;border-right-color:#231F20\"><p class=\"s6\" style=\"padding-top: 1pt;text-indent: 0pt;text-align: center;\">350</p></td><td style=\"width:36pt;border-top-style:solid;border-top-width:1pt;border-top-color:#231F20;border-left-style:solid;border-left-width:1pt;border-left-color:#231F20;border-right-style:solid;border-right-width:1pt;border-right-color:#231F20\"><p class=\"s6\" style=\"padding-top: 1pt;padding-left: 9pt;text-indent: 0pt;text-align: left;\">mW</p></td></tr><tr style=\"height:13pt\"><td style=\"width:156pt;border-left-style:solid;border-left-width:1pt;border-left-color:#231F20;border-bottom-style:solid;border-bottom-width:1pt;border-bottom-color:#231F20;border-right-style:solid;border-right-width:1pt;border-right-color:#231F20\"><p class=\"s6\" style=\"padding-left: 15pt;text-indent: 0pt;line-height: 8pt;text-align: left;\">Derate above 25<span class=\"s9\">?</span>C</p></td><td colspan=\"3\" style=\"width:104pt;border-left-style:solid;border-left-width:1pt;border-left-color:#231F20;border-bottom-style:solid;border-bottom-width:1pt;border-bottom-color:#231F20;border-right-style:solid;border-right-width:1pt;border-right-color:#231F20\"><p class=\"s6\" style=\"text-indent: 0pt;line-height: 8pt;text-align: center;\">2.8</p></td><td style=\"width:36pt;border-left-style:solid;border-left-width:1pt;border-left-color:#231F20;border-bottom-style:solid;border-bottom-width:1pt;border-bottom-color:#231F20;border-right-style:solid;border-right-width:1pt;border-right-color:#231F20\"><p class=\"s6\" style=\"padding-left: 4pt;text-indent: 0pt;line-height: 8pt;text-align: left;\">mW/<span class=\"s9\">?</span>C</p></td></tr><tr style=\"height:14pt\"><td style=\"width:156pt;border-top-style:solid;border-top-width:1pt;border-top-color:#231F20;border-left-style:solid;border-left-width:1pt;border-left-color:#231F20;border-right-style:solid;border-right-width:1pt;border-right-color:#231F20\"><p class=\"s6\" style=\"padding-top: 1pt;padding-left: 7pt;text-indent: 0pt;line-height: 12pt;text-align: left;\">Total Device Dissipation @ T<span class=\"s8\">C</span> = 25<span class=\"s9\">?</span>C</p></td><td rowspan=\"2\" style=\"width:38pt;border-top-style:solid;border-top-width:1pt;border-top-color:#231F20;border-left-style:solid;border-left-width:1pt;border-left-color:#231F20;border-bottom-style:solid;border-bottom-width:1pt;border-bottom-color:#231F20;border-right-style:solid;border-right-width:1pt;border-right-color:#231F20\"><p class=\"s6\" style=\"padding-top: 1pt;text-indent: 0pt;text-align: center;\">P<span class=\"s8\">D</span></p></td><td colspan=\"3\" style=\"width:104pt;border-top-style:solid;border-top-width:1pt;border-top-color:#231F20;border-left-style:solid;border-left-width:1pt;border-left-color:#231F20;border-right-style:solid;border-right-width:1pt;border-right-color:#231F20\"><p class=\"s6\" style=\"padding-top: 1pt;text-indent: 0pt;text-align: center;\">1.0</p></td><td style=\"width:36pt;border-top-style:solid;border-top-width:1pt;border-top-color:#231F20;border-left-style:solid;border-left-width:1pt;border-left-color:#231F20;border-right-style:solid;border-right-width:1pt;border-right-color:#231F20\"><p class=\"s6\" style=\"padding-top: 1pt;padding-left: 6pt;text-indent: 0pt;text-align: left;\">Watts</p></td></tr><tr style=\"height:13pt\"><td style=\"width:156pt;border-left-style:solid;border-left-width:1pt;border-left-color:#231F20;border-bottom-style:solid;border-bottom-width:1pt;border-bottom-color:#231F20;border-right-style:solid;border-right-width:1pt;border-right-color:#231F20\"><p class=\"s6\" style=\"padding-left: 15pt;text-indent: 0pt;line-height: 8pt;text-align: left;\">Derate above 25<span class=\"s9\">?</span>C</p></td><td colspan=\"3\" style=\"width:104pt;border-left-style:solid;border-left-width:1pt;border-left-color:#231F20;border-bottom-style:solid;border-bottom-width:1pt;border-bottom-color:#231F20;border-right-style:solid;border-right-width:1pt;border-right-color:#231F20\"><p class=\"s6\" style=\"text-indent: 0pt;line-height: 8pt;text-align: center;\">8.0</p></td><td style=\"width:36pt;border-left-style:solid;border-left-width:1pt;border-left-color:#231F20;border-bottom-style:solid;border-bottom-width:1pt;border-bottom-color:#231F20;border-right-style:solid;border-right-width:1pt;border-right-color:#231F20\"><p class=\"s6\" style=\"padding-left: 4pt;text-indent: 0pt;line-height: 8pt;text-align: left;\">mW/<span class=\"s9\">?</span>C</p></td></tr><tr style=\"height:26pt\"><td style=\"width:156pt;border-top-style:solid;border-top-width:1pt;border-top-color:#231F20;border-left-style:solid;border-left-width:1pt;border-left-color:#231F20;border-bottom-style:solid;border-bottom-width:1pt;border-bottom-color:#231F20;border-right-style:solid;border-right-width:1pt;border-right-color:#231F20\"><p class=\"s6\" style=\"padding-top: 1pt;padding-left: 15pt;padding-right: 35pt;text-indent: -8pt;line-height: 108%;text-align: left;\">Operating and Storage Junction Temperature Range</p></td><td style=\"width:38pt;border-top-style:solid;border-top-width:1pt;border-top-color:#231F20;border-left-style:solid;border-left-width:1pt;border-left-color:#231F20;border-bottom-style:solid;border-bottom-width:1pt;border-bottom-color:#231F20;border-right-style:solid;border-right-width:1pt;border-right-color:#231F20\"><p class=\"s7\" style=\"padding-top: 1pt;padding-left: 4pt;text-indent: 0pt;text-align: left;\">T<span class=\"s6\">J</span>, <span class=\"s6\">Tstg</span></p></td><td colspan=\"3\" style=\"width:104pt;border-top-style:solid;border-top-width:1pt;border-top-color:#231F20;border-left-style:solid;border-left-width:1pt;border-left-color:#231F20;border-bottom-style:solid;border-bottom-width:1pt;border-bottom-color:#231F20;border-right-style:solid;border-right-width:1pt;border-right-color:#231F20\"><p class=\"s6\" style=\"padding-top: 1pt;padding-left: 29pt;text-indent: 0pt;text-align: left;\">- 55 to +150</p></td><td style=\"width:36pt;border-top-style:solid;border-top-width:1pt;border-top-color:#231F20;border-left-style:solid;border-left-width:1pt;border-left-color:#231F20;border-bottom-style:solid;border-bottom-width:1pt;border-bottom-color:#231F20;border-right-style:solid;border-right-width:1pt;border-right-color:#231F20\"><p class=\"s9\" style=\"padding-top: 1pt;text-indent: 0pt;text-align: center;\">?<span class=\"s6\">C</span></p></td></tr></table>\n"
     ]
    }
   ],
   "source": [
    "import itertools\n",
    "from collections import defaultdict\n",
    "import numpy as np\n",
    "from pdb import set_trace as t\n",
    "\n",
    "total = 0\n",
    "bad = 0\n",
    "for doc in corpus.documents:\n",
    "    for table in doc.tables:\n",
    "        total += 1\n",
    "        m = max(cell.row_end for cell in table.cells) + 1\n",
    "        n = max(cell.col_end for cell in table.cells) + 1\n",
    "        table_grid = np.zeros((m,n))\n",
    "        for cell in table.cells:\n",
    "            for i, j in itertools.product(\n",
    "                range(cell.row_start, cell.row_end + 1), \n",
    "                range(cell.col_start, cell.col_end + 1)):\n",
    "                table_grid[i,j] += 1\n",
    "        for i, j in itertools.product(range(m), range(n)):\n",
    "            if table_grid[(i,j)] != 1:\n",
    "                bad += 1\n",
    "                t()\n",
    "                break\n",
    "good = total - bad\n",
    "print good, bad, total"
   ]
  },
  {
   "cell_type": "markdown",
   "metadata": {},
   "source": [
    "Original test:\n",
    "432 227 659\n",
    "\n",
    "New test:\n",
    "418 382 800"
   ]
  },
  {
   "cell_type": "code",
   "execution_count": null,
   "metadata": {
    "collapsed": true
   },
   "outputs": [],
   "source": []
  }
 ],
 "metadata": {
  "anaconda-cloud": {},
  "kernelspec": {
   "display_name": "Python [default]",
   "language": "python",
   "name": "python2"
  },
  "language_info": {
   "codemirror_mode": {
    "name": "ipython",
    "version": 2
   },
   "file_extension": ".py",
   "mimetype": "text/x-python",
   "name": "python",
   "nbconvert_exporter": "python",
   "pygments_lexer": "ipython2",
   "version": "2.7.10"
  }
 },
 "nbformat": 4,
 "nbformat_minor": 1
}
