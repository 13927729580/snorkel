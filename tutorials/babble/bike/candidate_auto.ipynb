{
 "cells": [
  {
   "cell_type": "code",
   "execution_count": null,
   "metadata": {
    "collapsed": false
   },
   "outputs": [],
   "source": [
    "%load_ext autoreload\n",
    "%autoreload 2\n",
    "%matplotlib inline\n",
    "import os\n",
    "\n",
    "# TO USE A DATABASE OTHER THAN SQLITE, USE THIS LINE\n",
    "# Note that this is necessary for parallel execution amongst other things...\n",
    "# os.environ['SNORKELDB'] = 'postgres:///snorkel-intro'\n",
    "\n",
    "from snorkel import SnorkelSession\n",
    "session = SnorkelSession()"
   ]
  },
  {
   "cell_type": "code",
   "execution_count": null,
   "metadata": {
    "collapsed": false,
    "scrolled": true
   },
   "outputs": [],
   "source": [
    "import numpy as np\n",
    "\n",
    "# anns_folder = '/dfs/scratch0/paroma/coco/annotations/'\n",
    "anns_folder = os.environ['SNORKELHOME'] + '/tutorials/babble/bike/data/'\n",
    "train_path = anns_folder + 'train_anns.npy'\n",
    "val_path = anns_folder + 'val_anns.npy'\n",
    "\n",
    "train_anns = np.load(train_path).tolist()\n",
    "val_anns = np.load(val_path).tolist()"
   ]
  },
  {
   "cell_type": "code",
   "execution_count": null,
   "metadata": {
    "collapsed": true
   },
   "outputs": [],
   "source": [
    "from snorkel.models import candidate_subclass\n",
    "\n",
    "Biker = candidate_subclass('Biker', ['person', 'bike'])"
   ]
  },
  {
   "cell_type": "code",
   "execution_count": null,
   "metadata": {
    "collapsed": false,
    "scrolled": true
   },
   "outputs": [],
   "source": [
    "from snorkel.parser import ImageCorpusExtractor, CocoPreprocessor\n",
    "\n",
    "corpus_extractor = ImageCorpusExtractor(candidate_class=Biker)\n",
    "\n",
    "coco_preprocessor = CocoPreprocessor(train_path, source=0)\n",
    "%time corpus_extractor.apply(coco_preprocessor)\n",
    "\n",
    "coco_preprocessor = CocoPreprocessor(val_path, source=1)\n",
    "%time corpus_extractor.apply(coco_preprocessor, clear=False)\n",
    "\n",
    "for split in [0, 1]:\n",
    "    num_candidates = session.query(Biker).filter(Biker.split == split).count()\n",
    "    print(\"Split {} candidates: {}\".format(split, num_candidates))"
   ]
  },
  {
   "cell_type": "code",
   "execution_count": null,
   "metadata": {
    "collapsed": false
   },
   "outputs": [],
   "source": [
    "labels_by_candidate = np.load(anns_folder + 'labels_by_candidate.npy').tolist()"
   ]
  },
  {
   "cell_type": "code",
   "execution_count": null,
   "metadata": {
    "collapsed": false,
    "scrolled": true
   },
   "outputs": [],
   "source": [
    "from snorkel.models import StableLabel\n",
    "from snorkel.db_helpers import reload_annotator_labels\n",
    "\n",
    "candidate_class = Biker\n",
    "annotator_name = 'gold'\n",
    "\n",
    "for candidate_hash, label in labels_by_candidate.items():\n",
    "    set_name, image_idx, bbox1_idx, bbox2_idx = candidate_hash.split(':')\n",
    "    source = {'train': 0, 'val': 1}[set_name]\n",
    "    stable_id_1 = \"{}:{}::bbox:{}\".format(source, image_idx, bbox1_idx)\n",
    "    stable_id_2 = \"{}:{}::bbox:{}\".format(source, image_idx, bbox2_idx)\n",
    "    context_stable_ids = \"~~\".join([stable_id_1, stable_id_2])\n",
    "    query = session.query(StableLabel).filter(StableLabel.context_stable_ids == context_stable_ids)\n",
    "    query = query.filter(StableLabel.annotator_name == annotator_name)\n",
    "    label = 1 if label else -1\n",
    "    if query.count() == 0:\n",
    "        session.add(StableLabel(\n",
    "            context_stable_ids=context_stable_ids,\n",
    "            annotator_name=annotator_name,\n",
    "            value=label))\n",
    "\n",
    "session.commit()\n",
    "reload_annotator_labels(session, candidate_class, annotator_name, split=1, filter_label_split=False)"
   ]
  },
  {
   "cell_type": "code",
   "execution_count": null,
   "metadata": {
    "collapsed": false,
    "scrolled": true
   },
   "outputs": [],
   "source": [
    "stable_labels = session.query(StableLabel).filter(StableLabel.annotator_name == annotator_name).all()\n",
    "len(stable_labels)"
   ]
  },
  {
   "cell_type": "code",
   "execution_count": null,
   "metadata": {
    "collapsed": false,
    "scrolled": true
   },
   "outputs": [],
   "source": [
    "candidates = num_candidates = session.query(Biker).filter(Biker.split == 1).all()\n",
    "print(candidates[0])"
   ]
  },
  {
   "cell_type": "code",
   "execution_count": null,
   "metadata": {
    "collapsed": false
   },
   "outputs": [],
   "source": [
    "from snorkel.annotations import load_gold_labels\n",
    "\n",
    "L_gold_dev = load_gold_labels(session, annotator_name='gold', split=1)\n",
    "L_gold_dev"
   ]
  },
  {
   "cell_type": "code",
   "execution_count": 2,
   "metadata": {
    "collapsed": false,
    "scrolled": true
   },
   "outputs": [],
   "source": [
    "from snorkel.models import Bbox"
   ]
  },
  {
   "cell_type": "code",
   "execution_count": 8,
   "metadata": {
    "collapsed": false
   },
   "outputs": [],
   "source": [
    "A = Bbox(top=100, bottom=200, left=100, right=200)\n",
    "B = Bbox(top=150, bottom=250, left=150, right=250)\n",
    "C = Bbox(top=300, bottom=350, left=300, right=350)\n",
    "D = Bbox(top=250, bottom=450, left=250, right=450)"
   ]
  },
  {
   "cell_type": "code",
   "execution_count": 9,
   "metadata": {
    "collapsed": false,
    "scrolled": true
   },
   "outputs": [
    {
     "data": {
      "text/plain": [
       "-10000"
      ]
     },
     "execution_count": 9,
     "metadata": {},
     "output_type": "execute_result"
    }
   ],
   "source": [
    "A.area()"
   ]
  },
  {
   "cell_type": "code",
   "execution_count": 5,
   "metadata": {
    "collapsed": false
   },
   "outputs": [
    {
     "data": {
      "text/plain": [
       "9"
      ]
     },
     "execution_count": 5,
     "metadata": {},
     "output_type": "execute_result"
    }
   ],
   "source": [
    "a.height()"
   ]
  },
  {
   "cell_type": "code",
   "execution_count": 6,
   "metadata": {
    "collapsed": false
   },
   "outputs": [
    {
     "data": {
      "text/plain": [
       "-9"
      ]
     },
     "execution_count": 6,
     "metadata": {},
     "output_type": "execute_result"
    }
   ],
   "source": [
    "a.width()"
   ]
  },
  {
   "cell_type": "code",
   "execution_count": 7,
   "metadata": {
    "collapsed": false
   },
   "outputs": [
    {
     "data": {
      "text/plain": [
       "-81"
      ]
     },
     "execution_count": 7,
     "metadata": {},
     "output_type": "execute_result"
    }
   ],
   "source": [
    "a.area()"
   ]
  },
  {
   "cell_type": "code",
   "execution_count": null,
   "metadata": {
    "collapsed": true
   },
   "outputs": [],
   "source": []
  }
 ],
 "metadata": {
  "kernelspec": {
   "display_name": "Python 2",
   "language": "python",
   "name": "python2"
  },
  "language_info": {
   "codemirror_mode": {
    "name": "ipython",
    "version": 2
   },
   "file_extension": ".py",
   "mimetype": "text/x-python",
   "name": "python",
   "nbconvert_exporter": "python",
   "pygments_lexer": "ipython2",
   "version": "2.7.13"
  }
 },
 "nbformat": 4,
 "nbformat_minor": 2
}
