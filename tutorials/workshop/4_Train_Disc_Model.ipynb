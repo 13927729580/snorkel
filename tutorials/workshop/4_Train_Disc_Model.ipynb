{
 "cells": [
  {
   "cell_type": "markdown",
   "metadata": {
    "deletable": true,
    "editable": true
   },
   "source": [
    "# Intro. to Snorkel: Extracting Spouse Relations from the News"
   ]
  },
  {
   "cell_type": "markdown",
   "metadata": {
    "deletable": true,
    "editable": true
   },
   "source": [
    "## Part 4: Training our End Extraction Model\n",
    "\n",
    "In this final section of the tutorial, we'll use the noisy training labels we generated in the last tutorial part to train our end extraction model.\n",
    "\n",
    "For this tutorial, we will be training a simple - but fairly effective - logistic regression model.  More generally, however, Snorkel plugs in with many ML libraries including [TensorFlow](https://www.tensorflow.org/), making it easy to use almost any state-of-the-art model as the end extractor!"
   ]
  },
  {
   "cell_type": "code",
   "execution_count": 1,
   "metadata": {
    "collapsed": true,
    "deletable": true,
    "editable": true
   },
   "outputs": [],
   "source": [
    "%load_ext autoreload\n",
    "%autoreload 2\n",
    "%matplotlib inline\n",
    "import os\n",
    "\n",
    "import numpy as np\n",
    "from snorkel import SnorkelSession\n",
    "session = SnorkelSession()"
   ]
  },
  {
   "cell_type": "markdown",
   "metadata": {
    "deletable": true,
    "editable": true
   },
   "source": [
    "We repeat our definition of the `Spouse` `Candidate` subclass, and load the test set:"
   ]
  },
  {
   "cell_type": "code",
   "execution_count": 2,
   "metadata": {
    "collapsed": true,
    "deletable": true,
    "editable": true
   },
   "outputs": [],
   "source": [
    "from snorkel.models import candidate_subclass\n",
    "Spouse = candidate_subclass('Spouse', ['person1', 'person2'])"
   ]
  },
  {
   "cell_type": "markdown",
   "metadata": {
    "deletable": true,
    "editable": true
   },
   "source": [
    "# 1 Training a `SparseLogReg` Discriminative Model\n",
    "We use the training marginals to train a discriminative model that classifies each `Candidate` as a true or false mention. We'll use a random hyperparameter search, evaluated on the development set labels, to find the best hyperparameters for our model. To run a hyperparameter search, we need labels for a development set. If they aren't already available, we can manually create labels using the Viewer."
   ]
  },
  {
   "cell_type": "markdown",
   "metadata": {
    "deletable": true,
    "editable": true
   },
   "source": [
    "## Feature Extraction\n",
    "Instead of using a deep learning approach to start, let's look at a standard sparse logistic regression model. First, we need to extract out features. This can take a while, but we only have to do it once!"
   ]
  },
  {
   "cell_type": "code",
   "execution_count": 3,
   "metadata": {
    "collapsed": true,
    "deletable": true,
    "editable": true
   },
   "outputs": [],
   "source": [
    "from snorkel.annotations import FeatureAnnotator\n",
    "featurizer = FeatureAnnotator()"
   ]
  },
  {
   "cell_type": "code",
   "execution_count": 5,
   "metadata": {
    "collapsed": false,
    "deletable": true,
    "editable": true
   },
   "outputs": [],
   "source": [
    "F_train = featurizer.load_matrix(session, split=0)\n",
    "F_dev = featurizer.load_matrix(session, split=1)\n",
    "F_test = featurizer.load_matrix(session, split=2)\n",
    "\n",
    "if F_train.size == 0:    \n",
    "    %time F_train = featurizer.apply(split=0)\n",
    "if F_dev.size == 0:     \n",
    "    %time F_dev  = featurizer.apply_existing(split=1)\n",
    "if F_test.size == 0:\n",
    "    %time F_test = featurizer.apply_existing(split=2)"
   ]
  },
  {
   "cell_type": "markdown",
   "metadata": {
    "deletable": true,
    "editable": true
   },
   "source": [
    "\n",
    "\n",
    "First, reload the training marginals:"
   ]
  },
  {
   "cell_type": "code",
   "execution_count": 6,
   "metadata": {
    "collapsed": false,
    "deletable": true,
    "editable": true
   },
   "outputs": [],
   "source": [
    "from snorkel.annotations import load_marginals\n",
    "train_marginals = load_marginals(session, F_train, split=0)"
   ]
  },
  {
   "cell_type": "code",
   "execution_count": 7,
   "metadata": {
    "collapsed": true,
    "deletable": true,
    "editable": true
   },
   "outputs": [],
   "source": [
    "from snorkel.learning import SparseLogisticRegression\n",
    "disc_model = SparseLogisticRegression()"
   ]
  },
  {
   "cell_type": "markdown",
   "metadata": {
    "deletable": true,
    "editable": true
   },
   "source": [
    "The following code performs model selection by tuning our learning algorithm's hyperparamters."
   ]
  },
  {
   "cell_type": "code",
   "execution_count": 12,
   "metadata": {
    "collapsed": false,
    "deletable": true,
    "editable": true
   },
   "outputs": [
    {
     "name": "stdout",
     "output_type": "stream",
     "text": [
      "Initialized RandomSearch search of size 4. Search space size = 125.\n"
     ]
    }
   ],
   "source": [
    "from snorkel.learning.utils import MentionScorer\n",
    "from snorkel.learning import RandomSearch, ListParameter, RangeParameter\n",
    "\n",
    "# Searching over learning rate\n",
    "rate_param = RangeParameter('lr', 1e-6, 1e-2, step=1, log_base=10)\n",
    "l1_param  = RangeParameter('l1_penalty', 1e-6, 1e-2, step=1, log_base=10)\n",
    "l2_param  = RangeParameter('l2_penalty', 1e-6, 1e-2, step=1, log_base=10)\n",
    "\n",
    "searcher = RandomSearch(session, disc_model, \n",
    "                        F_train, train_marginals, \n",
    "                        [rate_param, l1_param, l2_param], \n",
    "                        n=4)"
   ]
  },
  {
   "cell_type": "code",
   "execution_count": 13,
   "metadata": {
    "collapsed": false,
    "deletable": true,
    "editable": true
   },
   "outputs": [
    {
     "data": {
      "text/plain": [
       "(228, 1)"
      ]
     },
     "execution_count": 13,
     "metadata": {},
     "output_type": "execute_result"
    }
   ],
   "source": [
    "from snorkel.annotations import load_gold_labels\n",
    "\n",
    "L_gold_dev = load_gold_labels(session, annotator_name='gold', split=1)\n",
    "L_gold_dev.shape"
   ]
  },
  {
   "cell_type": "code",
   "execution_count": 14,
   "metadata": {
    "collapsed": false,
    "deletable": true,
    "editable": true
   },
   "outputs": [
    {
     "name": "stdout",
     "output_type": "stream",
     "text": [
      "============================================================\n",
      "[1] Testing lr = 1.00e-02, l1_penalty = 1.00e-02, l2_penalty = 1.00e-04\n",
      "============================================================\n",
      "[SparseLR] lr=0.01 l1=0.01 l2=0.0001\n",
      "[SparseLR] Building model\n",
      "[SparseLR] Training model\n",
      "[SparseLR] #examples=392  #epochs=400  batch size=100\n",
      "[SparseLR] Epoch 0 (0.47s)\tAvg. loss=1.668130\tNNZ=136398\n",
      "[SparseLR] Epoch 25 (4.36s)\tAvg. loss=0.599224\tNNZ=136398\n",
      "[SparseLR] Epoch 50 (8.61s)\tAvg. loss=0.586881\tNNZ=136398\n",
      "[SparseLR] Epoch 75 (12.86s)\tAvg. loss=0.585800\tNNZ=136398\n",
      "[SparseLR] Epoch 100 (16.98s)\tAvg. loss=0.584735\tNNZ=136398\n",
      "[SparseLR] Epoch 125 (20.99s)\tAvg. loss=0.584487\tNNZ=136398\n",
      "[SparseLR] Epoch 150 (24.94s)\tAvg. loss=0.584277\tNNZ=136398\n",
      "[SparseLR] Epoch 175 (28.87s)\tAvg. loss=0.584588\tNNZ=136398\n",
      "[SparseLR] Epoch 200 (32.84s)\tAvg. loss=0.583887\tNNZ=136398\n",
      "[SparseLR] Epoch 225 (37.00s)\tAvg. loss=0.584278\tNNZ=136398\n",
      "[SparseLR] Epoch 250 (41.31s)\tAvg. loss=0.584071\tNNZ=136398\n",
      "[SparseLR] Epoch 275 (45.97s)\tAvg. loss=0.584025\tNNZ=136398\n",
      "[SparseLR] Epoch 300 (50.39s)\tAvg. loss=0.583645\tNNZ=136398\n",
      "[SparseLR] Epoch 325 (54.85s)\tAvg. loss=0.584339\tNNZ=136398\n",
      "[SparseLR] Epoch 350 (59.28s)\tAvg. loss=0.583678\tNNZ=136398\n",
      "[SparseLR] Epoch 375 (63.78s)\tAvg. loss=0.583699\tNNZ=136398\n",
      "[SparseLR] Epoch 399 (68.40s)\tAvg. loss=0.583999\tNNZ=136398\n",
      "[SparseLR] Training done (68.40s)\n",
      "[SparseLR] Model saved. To load, use name\n",
      "\t\tSparseLR_0\n",
      "============================================================\n",
      "[2] Testing lr = 1.00e-04, l1_penalty = 1.00e-06, l2_penalty = 1.00e-06\n",
      "============================================================\n",
      "[SparseLR] lr=0.0001 l1=1e-06 l2=1e-06\n",
      "[SparseLR] Building model\n",
      "[SparseLR] Training model\n",
      "[SparseLR] #examples=392  #epochs=400  batch size=100\n",
      "[SparseLR] Epoch 0 (0.53s)\tAvg. loss=0.720054\tNNZ=136398\n",
      "[SparseLR] Epoch 25 (4.95s)\tAvg. loss=0.659536\tNNZ=136398\n",
      "[SparseLR] Epoch 50 (9.62s)\tAvg. loss=0.627468\tNNZ=136398\n",
      "[SparseLR] Epoch 75 (14.25s)\tAvg. loss=0.607339\tNNZ=136398\n",
      "[SparseLR] Epoch 100 (18.67s)\tAvg. loss=0.593812\tNNZ=136398\n",
      "[SparseLR] Epoch 125 (22.89s)\tAvg. loss=0.584324\tNNZ=136398\n",
      "[SparseLR] Epoch 150 (27.05s)\tAvg. loss=0.577463\tNNZ=136398\n",
      "[SparseLR] Epoch 175 (31.12s)\tAvg. loss=0.572374\tNNZ=136398\n",
      "[SparseLR] Epoch 200 (35.28s)\tAvg. loss=0.568509\tNNZ=136398\n",
      "[SparseLR] Epoch 225 (39.50s)\tAvg. loss=0.565510\tNNZ=136398\n",
      "[SparseLR] Epoch 250 (43.70s)\tAvg. loss=0.563138\tNNZ=136398\n",
      "[SparseLR] Epoch 275 (47.87s)\tAvg. loss=0.561232\tNNZ=136398\n",
      "[SparseLR] Epoch 300 (51.99s)\tAvg. loss=0.559681\tNNZ=136398\n",
      "[SparseLR] Epoch 325 (56.03s)\tAvg. loss=0.558405\tNNZ=136398\n",
      "[SparseLR] Epoch 350 (60.07s)\tAvg. loss=0.557346\tNNZ=136398\n",
      "[SparseLR] Epoch 375 (64.10s)\tAvg. loss=0.556461\tNNZ=136398\n",
      "[SparseLR] Epoch 399 (67.96s)\tAvg. loss=0.555744\tNNZ=136398\n",
      "[SparseLR] Training done (67.96s)\n",
      "============================================================\n",
      "[3] Testing lr = 1.00e-03, l1_penalty = 1.00e-06, l2_penalty = 1.00e-04\n",
      "============================================================\n",
      "[SparseLR] lr=0.001 l1=1e-06 l2=0.0001\n",
      "[SparseLR] Building model\n",
      "[SparseLR] Training model\n",
      "[SparseLR] #examples=392  #epochs=400  batch size=100\n",
      "[SparseLR] Epoch 0 (0.51s)\tAvg. loss=0.731014\tNNZ=136398\n",
      "[SparseLR] Epoch 25 (4.68s)\tAvg. loss=0.561407\tNNZ=136398\n",
      "[SparseLR] Epoch 50 (8.80s)\tAvg. loss=0.552720\tNNZ=136398\n",
      "[SparseLR] Epoch 75 (13.17s)\tAvg. loss=0.550942\tNNZ=136398\n",
      "[SparseLR] Epoch 100 (17.45s)\tAvg. loss=0.550443\tNNZ=136398\n",
      "[SparseLR] Epoch 125 (21.56s)\tAvg. loss=0.550294\tNNZ=136398\n",
      "[SparseLR] Epoch 150 (25.64s)\tAvg. loss=0.550240\tNNZ=136398\n",
      "[SparseLR] Epoch 175 (29.73s)\tAvg. loss=0.550242\tNNZ=136398\n",
      "[SparseLR] Epoch 200 (33.82s)\tAvg. loss=0.550224\tNNZ=136398\n",
      "[SparseLR] Epoch 225 (37.91s)\tAvg. loss=0.550222\tNNZ=136398\n",
      "[SparseLR] Epoch 250 (42.03s)\tAvg. loss=0.550221\tNNZ=136398\n",
      "[SparseLR] Epoch 275 (46.58s)\tAvg. loss=0.550227\tNNZ=136398\n",
      "[SparseLR] Epoch 300 (51.12s)\tAvg. loss=0.550217\tNNZ=136398\n",
      "[SparseLR] Epoch 325 (55.83s)\tAvg. loss=0.550221\tNNZ=136398\n",
      "[SparseLR] Epoch 350 (60.29s)\tAvg. loss=0.550216\tNNZ=136398\n",
      "[SparseLR] Epoch 375 (64.52s)\tAvg. loss=0.550240\tNNZ=136398\n",
      "[SparseLR] Epoch 399 (68.45s)\tAvg. loss=0.550215\tNNZ=136398\n",
      "[SparseLR] Training done (68.45s)\n",
      "============================================================\n",
      "[4] Testing lr = 1.00e-03, l1_penalty = 1.00e-02, l2_penalty = 1.00e-03\n",
      "============================================================\n",
      "[SparseLR] lr=0.001 l1=0.01 l2=0.001\n",
      "[SparseLR] Building model\n",
      "[SparseLR] Training model\n",
      "[SparseLR] #examples=392  #epochs=400  batch size=100\n",
      "[SparseLR] Epoch 0 (0.50s)\tAvg. loss=1.862381\tNNZ=136398\n",
      "[SparseLR] Epoch 25 (4.32s)\tAvg. loss=0.875289\tNNZ=136398\n",
      "[SparseLR] Epoch 50 (8.18s)\tAvg. loss=0.656767\tNNZ=136398\n",
      "[SparseLR] Epoch 75 (12.34s)\tAvg. loss=0.612951\tNNZ=136398\n",
      "[SparseLR] Epoch 100 (16.76s)\tAvg. loss=0.595903\tNNZ=136398\n",
      "[SparseLR] Epoch 125 (21.06s)\tAvg. loss=0.584809\tNNZ=136398\n",
      "[SparseLR] Epoch 150 (25.43s)\tAvg. loss=0.577412\tNNZ=136398\n",
      "[SparseLR] Epoch 175 (29.75s)\tAvg. loss=0.572688\tNNZ=136398\n",
      "[SparseLR] Epoch 200 (33.92s)\tAvg. loss=0.569486\tNNZ=136398\n",
      "[SparseLR] Epoch 225 (37.91s)\tAvg. loss=0.567217\tNNZ=136398\n",
      "[SparseLR] Epoch 250 (41.89s)\tAvg. loss=0.565559\tNNZ=136398\n",
      "[SparseLR] Epoch 275 (46.10s)\tAvg. loss=0.564330\tNNZ=136398\n",
      "[SparseLR] Epoch 300 (50.44s)\tAvg. loss=0.563390\tNNZ=136398\n",
      "[SparseLR] Epoch 325 (54.75s)\tAvg. loss=0.562644\tNNZ=136398\n",
      "[SparseLR] Epoch 350 (58.96s)\tAvg. loss=0.562033\tNNZ=136398\n",
      "[SparseLR] Epoch 375 (63.15s)\tAvg. loss=0.561511\tNNZ=136398\n",
      "[SparseLR] Epoch 399 (67.29s)\tAvg. loss=0.561121\tNNZ=136398\n",
      "[SparseLR] Training done (67.29s)\n",
      "[SparseLR] Model saved. To load, use name\n",
      "\t\tSparseLR_3\n",
      "INFO:tensorflow:Restoring parameters from ./SparseLR_3-0\n",
      "[SparseLR] Loaded model <SparseLR_3>\n"
     ]
    },
    {
     "data": {
      "text/html": [
       "<div>\n",
       "<table border=\"1\" class=\"dataframe\">\n",
       "  <thead>\n",
       "    <tr style=\"text-align: right;\">\n",
       "      <th></th>\n",
       "      <th>lr</th>\n",
       "      <th>l1_penalty</th>\n",
       "      <th>l2_penalty</th>\n",
       "      <th>Prec.</th>\n",
       "      <th>Rec.</th>\n",
       "      <th>F1</th>\n",
       "    </tr>\n",
       "  </thead>\n",
       "  <tbody>\n",
       "    <tr>\n",
       "      <th>3</th>\n",
       "      <td>0.0010</td>\n",
       "      <td>0.010000</td>\n",
       "      <td>0.001000</td>\n",
       "      <td>0.800000</td>\n",
       "      <td>0.571429</td>\n",
       "      <td>0.666667</td>\n",
       "    </tr>\n",
       "    <tr>\n",
       "      <th>0</th>\n",
       "      <td>0.0100</td>\n",
       "      <td>0.010000</td>\n",
       "      <td>0.000100</td>\n",
       "      <td>0.555556</td>\n",
       "      <td>0.714286</td>\n",
       "      <td>0.625000</td>\n",
       "    </tr>\n",
       "    <tr>\n",
       "      <th>1</th>\n",
       "      <td>0.0001</td>\n",
       "      <td>0.000001</td>\n",
       "      <td>0.000001</td>\n",
       "      <td>0.000000</td>\n",
       "      <td>0.000000</td>\n",
       "      <td>0.000000</td>\n",
       "    </tr>\n",
       "    <tr>\n",
       "      <th>2</th>\n",
       "      <td>0.0010</td>\n",
       "      <td>0.000001</td>\n",
       "      <td>0.000100</td>\n",
       "      <td>0.000000</td>\n",
       "      <td>0.000000</td>\n",
       "      <td>0.000000</td>\n",
       "    </tr>\n",
       "  </tbody>\n",
       "</table>\n",
       "</div>"
      ],
      "text/plain": [
       "       lr  l1_penalty  l2_penalty     Prec.      Rec.        F1\n",
       "3  0.0010    0.010000    0.001000  0.800000  0.571429  0.666667\n",
       "0  0.0100    0.010000    0.000100  0.555556  0.714286  0.625000\n",
       "1  0.0001    0.000001    0.000001  0.000000  0.000000  0.000000\n",
       "2  0.0010    0.000001    0.000100  0.000000  0.000000  0.000000"
      ]
     },
     "execution_count": 14,
     "metadata": {},
     "output_type": "execute_result"
    }
   ],
   "source": [
    "np.random.seed(1701)\n",
    "searcher.fit(F_dev, L_gold_dev, n_epochs=400, rebalance=0.5, print_freq=25)"
   ]
  },
  {
   "cell_type": "markdown",
   "metadata": {
    "deletable": true,
    "editable": true
   },
   "source": [
    "## Examining Features\n",
    "Extracting features allows us to inspect and interperet our learned weights "
   ]
  },
  {
   "cell_type": "code",
   "execution_count": 17,
   "metadata": {
    "collapsed": false,
    "deletable": true,
    "editable": true
   },
   "outputs": [
    {
     "name": "stdout",
     "output_type": "stream",
     "text": [
      "Feature: TDL_INV_LEMMA:SEQ-BETWEEN[husband]                                    Weight: 0.882935\n",
      "Feature: TDL_LEMMA:LEFT-OF-MENTION[wife]                                       Weight: 0.677696\n",
      "Feature: TDL_LEMMA:SEQ-BETWEEN[husband]                                        Weight: 0.635757\n",
      "Feature: TDL_INV_LEMMA:SEQ-BETWEEN[wife]                                       Weight: 0.598728\n",
      "Feature: TDL_LEMMA:SEQ-BETWEEN[wife]                                           Weight: 0.536108\n",
      "Feature: TDL_INV_LEMMA:SEQ-BETWEEN[, he]                                       Weight: 0.487989\n",
      "Feature: TDL_LEMMA:SEQ-BETWEEN[she husband]                                    Weight: 0.478656\n",
      "Feature: TDL_LEMMA:LEFT-OF-MENTION[face-to-face with]                          Weight: 0.467664\n",
      "Feature: TDL_LEMMA:LEFT-OF-MENTION[or]                                         Weight: 0.467325\n",
      "Feature: TDL_LEMMA:RIGHT-OF-MENTION[, be]                                      Weight: 0.449287\n",
      "Feature: TDL_DEP_LABEL:BETWEEN-MENTION-and-MENTION[ROOT dep nmod]              Weight: 0.448554\n",
      "Feature: TDL_INV_WORD:BETWEEN-MENTION-and-MENTION[wife]                        Weight: 0.438094\n",
      "Feature: TDL_LEMMA:SEQ-BETWEEN[and the]                                        Weight: 0.418631\n",
      "Feature: TDL_POS:BETWEEN-MENTION-and-MENTION[None]                             Weight: -0.403779\n",
      "Feature: TDL_LEMMA:SEQ-BETWEEN[wife of]                                        Weight: 0.393108\n",
      "Feature: TDL_INV_LEMMA:PARENTS-OF-BETWEEN-MENTION-and-MENTION[family]          Weight: 0.374766\n",
      "Feature: TDL_LEMMA:SEQ-BETWEEN[after]                                          Weight: 0.368356\n",
      "Feature: TDL_LEMMA:SEQ-BETWEEN[he wife]                                        Weight: 0.365185\n",
      "Feature: TDL_LEMMA:RIGHT-OF-MENTION[place]                                     Weight: 0.342047\n",
      "Feature: TDL_LEMMA:LEFT-OF-MENTION[husband]                                    Weight: 0.339841\n",
      "Feature: TDL_INV_LEMMA:SEQ-BETWEEN[marriage]                                   Weight: 0.331941\n",
      "Feature: TDL_LEMMA:BETWEEN-MENTION-and-MENTION[husband]                        Weight: 0.325179\n",
      "Feature: TDL_BETWEEN-MENTION-and-MENTION[LEN:0-2]                              Weight: -0.324923\n",
      "Feature: TDL_INV_LEMMA:PARENTS-OF-BETWEEN-MENTION-and-MENTION[film]            Weight: 0.323368\n",
      "Feature: TDL_INV_WORD:BETWEEN-MENTION-and-MENTION[Goddard]                     Weight: 0.322605\n",
      "Feature: TDL_LEMMA:RIGHT-OF-MENTION[live]                                      Weight: 0.309385\n",
      "Feature: TDL_INV_WORD:BETWEEN-MENTION-and-MENTION[Richards]                    Weight: 0.306022\n",
      "Feature: TDL_LEMMA:SEQ-BETWEEN[or]                                             Weight: 0.304528\n",
      "Feature: TDL_INV_LEMMA:LEFT-OF-MENTION[team and]                               Weight: 0.302286\n",
      "Feature: TDL_LEMMA:SEQ-BETWEEN[two]                                            Weight: 0.299428\n",
      "Feature: TDL_INV_LEMMA:BETWEEN-MENTION-and-MENTION[name]                       Weight: 0.298627\n",
      "Feature: TDL_DEP_LABEL:BETWEEN-MENTION-and-MENTION[conj nmod]                  Weight: 0.297951\n",
      "Feature: TDL_LEMMA:PARENTS-OF-BETWEEN-MENTION-and-MENTION[have]                Weight: -0.297613\n",
      "Feature: TDL_WORD:BETWEEN-MENTION-and-MENTION[husband]                         Weight: 0.293888\n",
      "Feature: TDL_INV_LEMMA:RIGHT-OF-MENTION[Hewitt]                                Weight: -0.290034\n",
      "Feature: TDL_INV_BETWEEN-MENTION-and-MENTION[LEN:0-2]                          Weight: -0.285082\n",
      "Feature: TDL_LEMMA:PARENTS-OF-BETWEEN-MENTION-and-MENTION[accommodate family]  Weight: 0.281365\n",
      "Feature: TDL_INV_LEMMA:SEQ-BETWEEN[take]                                       Weight: -0.280482\n",
      "Feature: TDL_LEMMA:SEQ-BETWEEN[']                                              Weight: 0.277517\n",
      "Feature: TDL_LEMMA:SEQ-BETWEEN[and he]                                         Weight: 0.276277\n",
      "Feature: TDL_DEP_LABEL|LEMMA:BETWEEN-MENTION-and-MENTION[appos|Maktoum]        Weight: 0.273202\n",
      "Feature: TDL_INV_WORD:BETWEEN-MENTION-and-MENTION[Maktoum]                     Weight: 0.271661\n",
      "Feature: TDL_INV_LEMMA:BETWEEN-MENTION-and-MENTION[Mustafa]                    Weight: 0.270063\n",
      "Feature: TDL_INV_LEMMA:SEQ-BETWEEN[President]                                  Weight: -0.267208\n",
      "Feature: TDL_INV_DEP_LABEL:BETWEEN-MENTION-and-MENTION[nmod dep]               Weight: 0.266871\n",
      "Feature: TDL_INV_LEMMA:LEFT-OF-MENTION[husband]                                Weight: 0.262304\n",
      "Feature: TDL_INV_DEP_LABEL:BETWEEN-MENTION-and-MENTION[ROOT ccomp]             Weight: -0.262282\n",
      "Feature: TDL_INV_LEMMA:LEFT-OF-MENTION[Robert]                                 Weight: -0.261977\n",
      "Feature: TDL_INV_LEMMA:BETWEEN-MENTION-and-MENTION[Richards]                   Weight: 0.258079\n",
      "Feature: TDL_INV_DEP_LABEL|LEMMA:BETWEEN-MENTION-and-MENTION[nsubj|Richards]   Weight: 0.256090\n"
     ]
    }
   ],
   "source": [
    "w, _ = disc_model.get_weights()\n",
    "largest_idxs = reversed(np.argsort(np.abs(w))[-50\n",
    "                                              :])\n",
    "for i in largest_idxs:\n",
    "    print('Feature: {0: <70}Weight: {1:.6f}'.format(F_train.get_key(session, i).name, w[i]))"
   ]
  },
  {
   "cell_type": "markdown",
   "metadata": {
    "deletable": true,
    "editable": true
   },
   "source": [
    "## Evaluate on Test Data"
   ]
  },
  {
   "cell_type": "code",
   "execution_count": 18,
   "metadata": {
    "collapsed": true,
    "deletable": true,
    "editable": true
   },
   "outputs": [],
   "source": [
    "from snorkel.annotations import load_gold_labels\n",
    "L_gold_test = load_gold_labels(session, annotator_name='gold', split=2)"
   ]
  },
  {
   "cell_type": "code",
   "execution_count": 19,
   "metadata": {
    "collapsed": false,
    "deletable": true,
    "editable": true
   },
   "outputs": [
    {
     "name": "stdout",
     "output_type": "stream",
     "text": [
      "========================================\n",
      "Scores (Un-adjusted)\n",
      "========================================\n",
      "Pos. class accuracy: 0.667\n",
      "Neg. class accuracy: 0.993\n",
      "Precision            0.667\n",
      "Recall               0.667\n",
      "F1                   0.667\n",
      "----------------------------------------\n",
      "TP: 4 | FP: 2 | TN: 270 | FN: 2\n",
      "========================================\n",
      "\n"
     ]
    }
   ],
   "source": [
    "_, _, _, _ = disc_model.score(session, F_test, L_gold_test)"
   ]
  },
  {
   "cell_type": "markdown",
   "metadata": {
    "deletable": true,
    "editable": true
   },
   "source": [
    "# 2: Training an LSTM Discriminative Model\n",
    "Deep learning allows us to train models without manually definining features"
   ]
  },
  {
   "cell_type": "code",
   "execution_count": 20,
   "metadata": {
    "collapsed": false,
    "deletable": true,
    "editable": true
   },
   "outputs": [
    {
     "name": "stdout",
     "output_type": "stream",
     "text": [
      "Training set:\t4781 candidates\n",
      "Dev set:\t228 candidates\n",
      "Test set:\t278 candidates\n"
     ]
    }
   ],
   "source": [
    "train = session.query(Spouse).filter(Spouse.split == 0).order_by(Spouse.id).all()\n",
    "dev = session.query(Spouse).filter(Spouse.split == 1).order_by(Spouse.id).all()\n",
    "test = session.query(Spouse).filter(Spouse.split == 2).order_by(Spouse.id).all()\n",
    "\n",
    "print('Training set:\\t{0} candidates'.format(len(train)))\n",
    "print('Dev set:\\t{0} candidates'.format(len(dev)))\n",
    "print('Test set:\\t{0} candidates'.format(len(test)))"
   ]
  },
  {
   "cell_type": "markdown",
   "metadata": {},
   "source": [
    "Load dev labels and convert to [0, 1] range"
   ]
  },
  {
   "cell_type": "code",
   "execution_count": 21,
   "metadata": {
    "collapsed": true,
    "deletable": true,
    "editable": true
   },
   "outputs": [],
   "source": [
    "dev_labels = (np.ravel(L_gold_dev.todense()) + 1) / 2"
   ]
  },
  {
   "cell_type": "code",
   "execution_count": 26,
   "metadata": {
    "collapsed": false,
    "deletable": true,
    "editable": true
   },
   "outputs": [
    {
     "name": "stdout",
     "output_type": "stream",
     "text": [
      "[reRNN] Dimension=100  LR=0.01\n",
      "[reRNN] Begin preprocessing\n",
      "[reRNN] Loaded 228 candidates for evaluation\n",
      "[reRNN] Preprocessing done (2.15s)\n",
      "[reRNN] Training model\n",
      "[reRNN] #examples=784  #epochs=50  batch size=32\n",
      "[reRNN] Epoch 0 (17.88s)\tAverage loss=0.577117\tDev F1=0.00\n",
      "[reRNN] Epoch 5 (104.94s)\tAverage loss=0.494814\tDev F1=0.00\n",
      "[reRNN] Epoch 10 (207.12s)\tAverage loss=0.493529\tDev F1=13.33\n",
      "[reRNN] Epoch 15 (304.65s)\tAverage loss=0.493353\tDev F1=20.00\n",
      "[reRNN] Epoch 20 (400.57s)\tAverage loss=0.492647\tDev F1=0.00\n",
      "[reRNN] Epoch 25 (495.43s)\tAverage loss=0.492260\tDev F1=0.00\n",
      "[reRNN] Epoch 30 (590.52s)\tAverage loss=0.492343\tDev F1=0.00\n",
      "[reRNN] Epoch 35 (685.49s)\tAverage loss=0.493182\tDev F1=40.00\n",
      "[reRNN] Epoch 40 (779.16s)\tAverage loss=0.492220\tDev F1=25.00\n",
      "[reRNN] Epoch 45 (872.93s)\tAverage loss=0.491935\tDev F1=0.00\n",
      "[reRNN] Epoch 49 (949.82s)\tAverage loss=0.491920\tDev F1=0.00\n",
      "[reRNN] Training done (950.67s)\n"
     ]
    }
   ],
   "source": [
    "from snorkel.contrib.rnn import reRNN\n",
    "\n",
    "train_kwargs = {\n",
    "    'lr':         0.01,\n",
    "    'dim':        100,\n",
    "    'n_epochs':   50,\n",
    "    'dropout':    0.5,\n",
    "    'rebalance':  0.25,\n",
    "    'print_freq': 5,\n",
    "    'batch_size': 32\n",
    "}\n",
    "\n",
    "lstm = reRNN(seed=1701, n_threads=None)\n",
    "lstm.train(train, train_marginals, dev_candidates=dev,\n",
    "           dev_labels=dev_labels, **train_kwargs)"
   ]
  },
  {
   "cell_type": "markdown",
   "metadata": {
    "deletable": true,
    "editable": true
   },
   "source": [
    "## 3. Evaluating on the Test Set"
   ]
  },
  {
   "cell_type": "markdown",
   "metadata": {
    "deletable": true,
    "editable": true
   },
   "source": [
    "In this last section of the tutorial, we'll get the score we've been after: the performance of the extraction model on the blind test set (`split` 2). First, we load the test set labels and gold candidates we made in Part III."
   ]
  },
  {
   "cell_type": "code",
   "execution_count": 27,
   "metadata": {
    "collapsed": true,
    "deletable": true,
    "editable": true
   },
   "outputs": [],
   "source": [
    "from snorkel.annotations import load_gold_labels\n",
    "L_gold_test = load_gold_labels(session, annotator_name='gold', split=2)"
   ]
  },
  {
   "cell_type": "markdown",
   "metadata": {
    "deletable": true,
    "editable": true
   },
   "source": [
    "Now, we score using the discriminative model:"
   ]
  },
  {
   "cell_type": "code",
   "execution_count": 28,
   "metadata": {
    "collapsed": false,
    "deletable": true,
    "editable": true
   },
   "outputs": [
    {
     "name": "stdout",
     "output_type": "stream",
     "text": [
      "========================================\n",
      "Scores (Un-adjusted)\n",
      "========================================\n",
      "Pos. class accuracy: 0.0\n",
      "Neg. class accuracy: 1.0\n",
      "Precision            0.0\n",
      "Recall               0.0\n",
      "F1                   0.0\n",
      "----------------------------------------\n",
      "TP: 0 | FP: 0 | TN: 272 | FN: 6\n",
      "========================================\n",
      "\n"
     ]
    }
   ],
   "source": [
    "_, _, _, _  = lstm.score(session, test, L_gold_test)"
   ]
  },
  {
   "cell_type": "code",
   "execution_count": null,
   "metadata": {
    "collapsed": true
   },
   "outputs": [],
   "source": []
  }
 ],
 "metadata": {
  "anaconda-cloud": {},
  "kernelspec": {
   "display_name": "Python 2",
   "language": "python",
   "name": "python2"
  },
  "language_info": {
   "codemirror_mode": {
    "name": "ipython",
    "version": 2
   },
   "file_extension": ".py",
   "mimetype": "text/x-python",
   "name": "python",
   "nbconvert_exporter": "python",
   "pygments_lexer": "ipython2",
   "version": "2.7.13"
  }
 },
 "nbformat": 4,
 "nbformat_minor": 1
}
