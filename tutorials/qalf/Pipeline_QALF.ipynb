{
 "cells": [
  {
   "cell_type": "code",
   "execution_count": 1,
   "metadata": {
    "collapsed": false
   },
   "outputs": [],
   "source": [
    "%load_ext autoreload\n",
    "%autoreload 2"
   ]
  },
  {
   "cell_type": "code",
   "execution_count": 2,
   "metadata": {
    "collapsed": false
   },
   "outputs": [],
   "source": [
    "config = {\n",
    "    'project': 'qalf',\n",
    "    'domain': 'tacred',\n",
    "    'relation': 'per_title',\n",
    "    'splits': [0],\n",
    "    'supervision': 'majority',\n",
    "#     'learn_deps': False,\n",
    "#     'gen_model_search_space': 1,\n",
    "#     'gen_init_params': {\n",
    "#         'lf_propensity'         : True,\n",
    "#         'class_prior'           : True,\n",
    "#         'lf_class_propensity'   : True,\n",
    "#         'seed'                  : None,\n",
    "#     },\n",
    "#     'gen_params_default': {\n",
    "#         'step_size'     : 0.0001,\n",
    "#         'decay'         : 0.90,\n",
    "#         'reg_param'     : 0.50,\n",
    "#         'epochs'        : 25,\n",
    "#     },    \n",
    "    'disc_model_class': 'logreg',    \n",
    "    'disc_model_search_space': 1,\n",
    "}"
   ]
  },
  {
   "cell_type": "code",
   "execution_count": 3,
   "metadata": {
    "collapsed": false,
    "scrolled": true
   },
   "outputs": [
    {
     "name": "stdout",
     "output_type": "stream",
     "text": [
      "$SNORKELDB = sqlite:///qalf_tacred.db\n"
     ]
    }
   ],
   "source": [
    "# Get DB connection string and add to globals\n",
    "# NOTE: $SNORKELDB must be set before any snorkel imports\n",
    "import os\n",
    "\n",
    "default_db_name = 'qalf_' + config['domain'] + ('_debug' if config.get('debug', False) else '')\n",
    "DB_NAME = config.get('db_name', default_db_name)\n",
    "if 'postgres' in config and config['postgres']:\n",
    "    DB_TYPE = 'postgres'\n",
    "else:\n",
    "    DB_TYPE = 'sqlite'\n",
    "    DB_NAME += '.db'\n",
    "DB_ADDR = \"localhost:{0}\".format(config['db_port']) if 'db_port' in config else \"\"\n",
    "os.environ['SNORKELDB'] = '{0}://{1}/{2}'.format(DB_TYPE, DB_ADDR, DB_NAME)\n",
    "print(\"$SNORKELDB = {0}\".format(os.environ['SNORKELDB']))"
   ]
  },
  {
   "cell_type": "code",
   "execution_count": 4,
   "metadata": {
    "collapsed": false,
    "scrolled": false
   },
   "outputs": [
    {
     "name": "stdout",
     "output_type": "stream",
     "text": [
      "Overwriting domain=None to domain=tacred\n",
      "Overwriting splits=[0, 1, 2] to splits=[0]\n",
      "Overwriting disc_model_search_space=10 to disc_model_search_space=1\n",
      "Overwriting disc_model_class=lstm to disc_model_class=logreg\n",
      "Overwriting supervision=generative to supervision=majority\n",
      "Overwriting project=babble to project=qalf\n",
      "Using TacredQalfPipeline object.\n"
     ]
    }
   ],
   "source": [
    "from snorkel import SnorkelSession\n",
    "session = SnorkelSession()\n",
    "\n",
    "# Resolve config conflicts (nb_config > local_config > global_config)\n",
    "from snorkel.contrib.babble.pipelines import merge_configs, get_local_pipeline\n",
    "config = merge_configs(config)\n",
    "\n",
    "from snorkel.models import candidate_subclass\n",
    "candidate_class = candidate_subclass(config['candidate_name'], config['candidate_entities'])\n",
    "\n",
    "pipeline = get_local_pipeline(config['domain'], config['project'])\n",
    "pipe = pipeline(session, candidate_class, config)"
   ]
  },
  {
   "cell_type": "code",
   "execution_count": 5,
   "metadata": {
    "collapsed": false,
    "scrolled": false
   },
   "outputs": [
    {
     "name": "stdout",
     "output_type": "stream",
     "text": [
      "Clearing existing...\n",
      "Running UDF...\n",
      "[========================================] 100%\n",
      "\n",
      "Parsed 5200 Documents\n",
      "Parsed 5200 Sentences\n",
      "CPU times: user 8.98 s, sys: 850 ms, total: 9.83 s\n",
      "Wall time: 9.35 s\n"
     ]
    }
   ],
   "source": [
    "%time pipe.parse()"
   ]
  },
  {
   "cell_type": "code",
   "execution_count": 6,
   "metadata": {
    "collapsed": false,
    "scrolled": true
   },
   "outputs": [
    {
     "name": "stdout",
     "output_type": "stream",
     "text": [
      "Clearing existing...\n",
      "Running UDF...\n",
      "[========================================] 100%\n",
      "\n",
      "Split 0: Extracted 5200 Candidates\n",
      "CPU times: user 14.1 s, sys: 193 ms, total: 14.3 s\n",
      "Wall time: 14.2 s\n"
     ]
    }
   ],
   "source": [
    "%time pipe.extract()"
   ]
  },
  {
   "cell_type": "code",
   "execution_count": 7,
   "metadata": {
    "collapsed": false,
    "scrolled": true
   },
   "outputs": [
    {
     "name": "stdout",
     "output_type": "stream",
     "text": [
      "[========================================] 100%\n",
      "\n",
      "AnnotatorLabels created: 5200\n",
      "CPU times: user 1min 2s, sys: 241 ms, total: 1min 2s\n",
      "Wall time: 1min 2s\n"
     ]
    }
   ],
   "source": [
    "%time pipe.load_gold()"
   ]
  },
  {
   "cell_type": "code",
   "execution_count": 8,
   "metadata": {
    "collapsed": false,
    "scrolled": true
   },
   "outputs": [],
   "source": [
    "# %time pipe.featurize()"
   ]
  },
  {
   "cell_type": "code",
   "execution_count": 9,
   "metadata": {
    "collapsed": false,
    "scrolled": true
   },
   "outputs": [
    {
     "name": "stdout",
     "output_type": "stream",
     "text": [
      "*QalfPipeline objects load QA result matrices in the label() method.\n",
      "CPU times: user 186 µs, sys: 131 µs, total: 317 µs\n",
      "Wall time: 186 µs\n"
     ]
    }
   ],
   "source": [
    "%time pipe.collect()"
   ]
  },
  {
   "cell_type": "code",
   "execution_count": 10,
   "metadata": {
    "collapsed": false,
    "scrolled": true
   },
   "outputs": [
    {
     "name": "stdout",
     "output_type": "stream",
     "text": [
      "Clearing existing...\n",
      "Running UDF...\n",
      "[========================================] 100%\n",
      "\n",
      "CPU times: user 13.8 s, sys: 247 ms, total: 14.1 s\n",
      "Wall time: 14 s\n"
     ]
    }
   ],
   "source": [
    "%time pipe.label()"
   ]
  },
  {
   "cell_type": "code",
   "execution_count": 11,
   "metadata": {
    "collapsed": false
   },
   "outputs": [],
   "source": [
    "from snorkel.annotations import load_gold_labels\n",
    "L_gold_train = load_gold_labels(session, annotator_name='gold', split=0)\n",
    "# L_gold_dev   = load_gold_labels(session, annotator_name='gold', split=1)\n",
    "# L_gold_test  = load_gold_labels(session, annotator_name='gold', split=2)"
   ]
  },
  {
   "cell_type": "code",
   "execution_count": 14,
   "metadata": {
    "collapsed": false,
    "scrolled": false
   },
   "outputs": [
    {
     "data": {
      "text/html": [
       "<div>\n",
       "<table border=\"1\" class=\"dataframe\">\n",
       "  <thead>\n",
       "    <tr style=\"text-align: right;\">\n",
       "      <th></th>\n",
       "      <th>j</th>\n",
       "      <th>Coverage</th>\n",
       "      <th>Overlaps</th>\n",
       "      <th>Conflicts</th>\n",
       "      <th>TP</th>\n",
       "      <th>FP</th>\n",
       "      <th>FN</th>\n",
       "      <th>TN</th>\n",
       "      <th>Empirical Acc.</th>\n",
       "    </tr>\n",
       "  </thead>\n",
       "  <tbody>\n",
       "    <tr>\n",
       "      <th>What was ENT:subj's title? (0.80 -&gt; +1)</th>\n",
       "      <td>0</td>\n",
       "      <td>0.190385</td>\n",
       "      <td>0.167500</td>\n",
       "      <td>0.002885</td>\n",
       "      <td>851</td>\n",
       "      <td>139</td>\n",
       "      <td>0</td>\n",
       "      <td>0</td>\n",
       "      <td>0.859596</td>\n",
       "    </tr>\n",
       "    <tr>\n",
       "      <th>What was ENT:subj's job? (0.80 -&gt; +1)</th>\n",
       "      <td>1</td>\n",
       "      <td>0.252308</td>\n",
       "      <td>0.177885</td>\n",
       "      <td>0.010192</td>\n",
       "      <td>1079</td>\n",
       "      <td>233</td>\n",
       "      <td>0</td>\n",
       "      <td>0</td>\n",
       "      <td>0.822409</td>\n",
       "    </tr>\n",
       "    <tr>\n",
       "      <th>What was the name of the ENT:obj? (0.80 -&gt; +1)</th>\n",
       "      <td>2</td>\n",
       "      <td>0.182308</td>\n",
       "      <td>0.171538</td>\n",
       "      <td>0.007308</td>\n",
       "      <td>838</td>\n",
       "      <td>110</td>\n",
       "      <td>0</td>\n",
       "      <td>0</td>\n",
       "      <td>0.883966</td>\n",
       "    </tr>\n",
       "    <tr>\n",
       "      <th>Who was the ENT:obj? (0.80 -&gt; +1)</th>\n",
       "      <td>3</td>\n",
       "      <td>0.174231</td>\n",
       "      <td>0.164808</td>\n",
       "      <td>0.009038</td>\n",
       "      <td>799</td>\n",
       "      <td>107</td>\n",
       "      <td>0</td>\n",
       "      <td>0</td>\n",
       "      <td>0.881898</td>\n",
       "    </tr>\n",
       "    <tr>\n",
       "      <th>What was ENT:subj's title? (&lt;0.01 -&gt; -1)</th>\n",
       "      <td>4</td>\n",
       "      <td>0.179038</td>\n",
       "      <td>0.148269</td>\n",
       "      <td>0.002885</td>\n",
       "      <td>0</td>\n",
       "      <td>0</td>\n",
       "      <td>199</td>\n",
       "      <td>732</td>\n",
       "      <td>0.786251</td>\n",
       "    </tr>\n",
       "    <tr>\n",
       "      <th>What was ENT:subj's job? (&lt;0.01 -&gt; -1)</th>\n",
       "      <td>5</td>\n",
       "      <td>0.129231</td>\n",
       "      <td>0.117308</td>\n",
       "      <td>0.009038</td>\n",
       "      <td>0</td>\n",
       "      <td>0</td>\n",
       "      <td>125</td>\n",
       "      <td>547</td>\n",
       "      <td>0.813988</td>\n",
       "    </tr>\n",
       "    <tr>\n",
       "      <th>What was the name of the ENT:obj? (&lt;0.01 -&gt; -1)</th>\n",
       "      <td>6</td>\n",
       "      <td>0.293654</td>\n",
       "      <td>0.264615</td>\n",
       "      <td>0.008654</td>\n",
       "      <td>0</td>\n",
       "      <td>0</td>\n",
       "      <td>304</td>\n",
       "      <td>1223</td>\n",
       "      <td>0.800917</td>\n",
       "    </tr>\n",
       "    <tr>\n",
       "      <th>Who was the ENT:obj? (&lt;0.01 -&gt; -1)</th>\n",
       "      <td>7</td>\n",
       "      <td>0.269808</td>\n",
       "      <td>0.253269</td>\n",
       "      <td>0.006538</td>\n",
       "      <td>0</td>\n",
       "      <td>0</td>\n",
       "      <td>276</td>\n",
       "      <td>1127</td>\n",
       "      <td>0.803279</td>\n",
       "    </tr>\n",
       "  </tbody>\n",
       "</table>\n",
       "</div>"
      ],
      "text/plain": [
       "                                                 j  Coverage  Overlaps  \\\n",
       "What was ENT:subj's title? (0.80 -> +1)          0  0.190385  0.167500   \n",
       "What was ENT:subj's job? (0.80 -> +1)            1  0.252308  0.177885   \n",
       "What was the name of the ENT:obj? (0.80 -> +1)   2  0.182308  0.171538   \n",
       "Who was the ENT:obj? (0.80 -> +1)                3  0.174231  0.164808   \n",
       "What was ENT:subj's title? (<0.01 -> -1)         4  0.179038  0.148269   \n",
       "What was ENT:subj's job? (<0.01 -> -1)           5  0.129231  0.117308   \n",
       "What was the name of the ENT:obj? (<0.01 -> -1)  6  0.293654  0.264615   \n",
       "Who was the ENT:obj? (<0.01 -> -1)               7  0.269808  0.253269   \n",
       "\n",
       "                                                 Conflicts    TP   FP   FN  \\\n",
       "What was ENT:subj's title? (0.80 -> +1)           0.002885   851  139    0   \n",
       "What was ENT:subj's job? (0.80 -> +1)             0.010192  1079  233    0   \n",
       "What was the name of the ENT:obj? (0.80 -> +1)    0.007308   838  110    0   \n",
       "Who was the ENT:obj? (0.80 -> +1)                 0.009038   799  107    0   \n",
       "What was ENT:subj's title? (<0.01 -> -1)          0.002885     0    0  199   \n",
       "What was ENT:subj's job? (<0.01 -> -1)            0.009038     0    0  125   \n",
       "What was the name of the ENT:obj? (<0.01 -> -1)   0.008654     0    0  304   \n",
       "Who was the ENT:obj? (<0.01 -> -1)                0.006538     0    0  276   \n",
       "\n",
       "                                                   TN  Empirical Acc.  \n",
       "What was ENT:subj's title? (0.80 -> +1)             0        0.859596  \n",
       "What was ENT:subj's job? (0.80 -> +1)               0        0.822409  \n",
       "What was the name of the ENT:obj? (0.80 -> +1)      0        0.883966  \n",
       "Who was the ENT:obj? (0.80 -> +1)                   0        0.881898  \n",
       "What was ENT:subj's title? (<0.01 -> -1)          732        0.786251  \n",
       "What was ENT:subj's job? (<0.01 -> -1)            547        0.813988  \n",
       "What was the name of the ENT:obj? (<0.01 -> -1)  1223        0.800917  \n",
       "Who was the ENT:obj? (<0.01 -> -1)               1127        0.803279  "
      ]
     },
     "execution_count": 14,
     "metadata": {},
     "output_type": "execute_result"
    }
   ],
   "source": [
    "pipe.L_train.lf_stats(session, labels=L_gold_train)\n",
    "# pipe.L_dev.lf_stats(session, labels=L_gold_dev)\n",
    "# L_test.lf_stats(session, labels=L_gold_test)"
   ]
  },
  {
   "cell_type": "code",
   "execution_count": 15,
   "metadata": {
    "collapsed": false,
    "scrolled": true
   },
   "outputs": [],
   "source": [
    "# %time pipe.supervise()"
   ]
  },
  {
   "cell_type": "code",
   "execution_count": 16,
   "metadata": {
    "collapsed": false,
    "scrolled": false
   },
   "outputs": [],
   "source": [
    "# %time pipe.classify()"
   ]
  },
  {
   "cell_type": "code",
   "execution_count": null,
   "metadata": {
    "collapsed": true
   },
   "outputs": [],
   "source": []
  }
 ],
 "metadata": {
  "kernelspec": {
   "display_name": "Python 2",
   "language": "python",
   "name": "python2"
  },
  "language_info": {
   "codemirror_mode": {
    "name": "ipython",
    "version": 2
   },
   "file_extension": ".py",
   "mimetype": "text/x-python",
   "name": "python",
   "nbconvert_exporter": "python",
   "pygments_lexer": "ipython2",
   "version": "2.7.14"
  }
 },
 "nbformat": 4,
 "nbformat_minor": 2
}
