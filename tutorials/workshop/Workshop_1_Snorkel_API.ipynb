{
 "cells": [
  {
   "cell_type": "markdown",
   "metadata": {
    "collapsed": true
   },
   "source": [
    "<img align=\"left\" src=\"imgs/logo.jpg\" width=\"50px\" style=\"margin-right:10px\">\n",
    "# Snorkel Workshop \n",
    "## Part 1: Snorkel API\n",
    "\n",
    "Complete Snorkel API documentation is available via [Read the Docs](http://snorkel.readthedocs.io/en/master/)\n",
    "\n",
    "However, we provide several detailed examples below that are useful when you are using Snorkel for the first time. "
   ]
  },
  {
   "cell_type": "code",
   "execution_count": 3,
   "metadata": {
    "collapsed": false
   },
   "outputs": [],
   "source": [
    "%load_ext autoreload\n",
    "%autoreload 2\n",
    "%matplotlib inline\n",
    "from lib.init import *"
   ]
  },
  {
   "cell_type": "markdown",
   "metadata": {},
   "source": [
    "## I. Candidates and Contexts\n",
    "----\n",
    "<img src=\"imgs/candidate.jpg\" width=\"300px\">\n",
    "`Candidate` objects represent potential mentions found in text and are a core abstraction used in Snorkel. `Candidate(s)` are defined over 1 or more `Context` objects, which are typically some unit of text like words in a sentence. All Snorkel applications require a custom Candidate class definition. \n",
    "\n",
    "### A. Example Definitions\n",
    "\n",
    "<img src=\"imgs/spouse.jpg\" width=\"300px\">\n",
    "\n",
    "In our tutorial, we define a `Spouse` relation as consisting of 2 `Span(s)` (i.e., sequences of words or characters) representing the mentions of 2 people that married. Defining a new `Candidate` class requires providing a name for the class (`Spouse`) and its `Span` arguments (`person1` and `person2`). The syntax for defining this relation is below:"
   ]
  },
  {
   "cell_type": "code",
   "execution_count": 4,
   "metadata": {
    "collapsed": true
   },
   "outputs": [],
   "source": [
    "Spouse = candidate_subclass('Spouse', ['person1', 'person2'])"
   ]
  },
  {
   "cell_type": "markdown",
   "metadata": {},
   "source": [
    "<img src=\"imgs/person.jpg\" width=\"175px;\">\n",
    "\n",
    "Alternatively, if we just want `Person` entities, we can define a `Candidate` that contains only 1 `Span` representing a person’s name. Note how we only provide a list containing 1 argument now. "
   ]
  },
  {
   "cell_type": "code",
   "execution_count": 5,
   "metadata": {
    "collapsed": true
   },
   "outputs": [],
   "source": [
    "Person = candidate_subclass('Person', ['person'])"
   ]
  },
  {
   "cell_type": "markdown",
   "metadata": {},
   "source": [
    "### B. Candidates in Context\n",
    "<img src=\"imgs/sentence.jpg\" width=\"700px;\">\n",
    "\n",
    "By default, Snorkel candidates are defined over `Span` objects within a `Sentence` context.  `Span(s)` correspond to conceptual categories in text like people or disease names. In the above example, our candidate represents the possible `Spouse` mention `(Barrack Obama, Michelle Obama)`. As readers, we know this mention is true due to external knowledge and the keyword of `wedding` occuring later in the sentence.\n",
    "\n",
    "### C. Context Hierarchy \n",
    "<img src=\"imgs/context-hierarchy.jpg\" width=\"300px;\">\n",
    "\n",
    "All `Context(s)` are hierarchical in Snorkel. The default objects provided by Snorkel are show above. "
   ]
  },
  {
   "cell_type": "markdown",
   "metadata": {
    "collapsed": true
   },
   "source": [
    "## II. Loading  `Candidate(s)` \n",
    "\n",
    "### A. Querying Candiates from the  Database\n",
    "Once you've defined candidates as shown above, you need to do some preprocessing to load \n",
    "your documents, extract candidates, and then load everything into a database. This is a time consuming process, so we've pre-generated a database snapshot for you. Refer to our preprocessing tutorial <a href=\"Workshop_5_Advanced_Preprocessing.ipynb\">Workshop 5 Advanced Preprocessing</a> for specific information on how this is done.\n",
    "\n",
    "We assume that our Candidates have already been extracted and partitioned into `train`, `dev`, and `test` sets. For now, we will just load our `train` set candidates.\n",
    "\n",
    "This query returns a list of candidate objects."
   ]
  },
  {
   "cell_type": "code",
   "execution_count": 6,
   "metadata": {
    "collapsed": true
   },
   "outputs": [],
   "source": [
    "cands = session.query(Candidate).filter(Candidate.split == 0).all()"
   ]
  },
  {
   "cell_type": "markdown",
   "metadata": {},
   "source": [
    "### B. `Candidate` Member Functions and Variables\n",
    "\n",
    "You will interact with candidates while writing labeling functions in Snorkel. The definition of the `Spouse` and `Span` classes is outlined below;\n",
    "\n",
    "```\n",
    "class Spouse(Candidate)\n",
    " Attributes:\n",
    "    person1 (Span): relation argument\n",
    "    person2 (Span): relation argument\n",
    "\n",
    "class Span(Context)\n",
    " Methods:\n",
    "    get_attrib_tokens(a=\"words\"): return all tokens of the provided type a\n",
    "    get_parent(): return parent Context\n",
    "\n",
    "```\n",
    "\n",
    "For the following examples, we'll look at the first candidate in our `cands` list. First we'll show the candidate in its parent sentence."
   ]
  },
  {
   "cell_type": "code",
   "execution_count": 17,
   "metadata": {
    "collapsed": false
   },
   "outputs": [
    {
     "data": {
      "text/html": [
       "<div style=\"border: 1px dotted #858585; border-radius:8px;\n",
       "    background-color:#FDFDFD; padding:5pt 10pt 5pt 10pt\"><p style=\"font-size:12pt;\">Nineteen-year-old <b style=\"background-color:#CCCCCC;padding:1pt 5pt 1pt 5pt; border-radius:8px\">Saurav Sharma</b> passed out of the Gaduala Inter College in 2013   Nineteen-year-old <b style=\"background-color:#CCCCCC;padding:1pt 5pt 1pt 5pt; border-radius:8px\">Saurav Sharma</b> passed out of the Gaduala Inter College in 2013 with a degree and a promise from 17-year-old Pooja that they would marry as soon as she finished her graduation.</p></div>"
      ],
      "text/plain": [
       "<IPython.core.display.HTML object>"
      ]
     },
     "metadata": {},
     "output_type": "display_data"
    }
   ],
   "source": [
    "from lib.viz import display_candidate\n",
    "\n",
    "display_candidate(cands[0])"
   ]
  },
  {
   "cell_type": "code",
   "execution_count": 18,
   "metadata": {
    "collapsed": false
   },
   "outputs": [
    {
     "name": "stdout",
     "output_type": "stream",
     "text": [
      "Span(\"Saurav Sharma\", sentence=51287, chars=[18,30], words=[5,6])\n",
      "Span(\"Saurav Sharma\", sentence=51287, chars=[100,112], words=[22,23])\n",
      "[u'Saurav', u'Sharma']\n",
      "[u'NNP', u'NNP']\n",
      "[u'PERSON', u'PERSON']\n"
     ]
    }
   ],
   "source": [
    "# we can access Span(s) as named member variables\n",
    "print cands[0].person1\n",
    "print cands[0].person2\n",
    "\n",
    "# the raw word tokens for the person1 Span\n",
    "print cands[0].person1.get_attrib_tokens(\"words\")\n",
    "\n",
    "# part of speech tags\n",
    "print cands[0].person1.get_attrib_tokens(\"pos_tags\")\n",
    "\n",
    "# named entity recognition tags\n",
    "print cands[0].person1.get_attrib_tokens(\"ner_tags\")"
   ]
  },
  {
   "cell_type": "markdown",
   "metadata": {},
   "source": [
    "### C. Accessing Parent `Context(s)`\n",
    "\n",
    "Candidates live within Context objects. If we want to access the Context hierarchy, we can do so as follows:"
   ]
  },
  {
   "cell_type": "code",
   "execution_count": 36,
   "metadata": {
    "collapsed": false
   },
   "outputs": [],
   "source": [
    "sentence = cands[0].get_parent()\n",
    "document = sentence.get_parent()"
   ]
  },
  {
   "cell_type": "markdown",
   "metadata": {},
   "source": [
    "## III: Labeling Function Helpers\n",
    "\n",
    "These are python helper functions that you can apply to candidates to return objects that are helpful during LF development.\n",
    "\n",
    "You can (and should!) write your own helper functions to help write LFs."
   ]
  },
  {
   "cell_type": "code",
   "execution_count": 32,
   "metadata": {
    "collapsed": true
   },
   "outputs": [],
   "source": [
    "import re\n",
    "from snorkel.lf_helpers import (\n",
    "    get_left_tokens, get_right_tokens, get_between_tokens,\n",
    "    get_text_between, get_tagged_text,\n",
    ")"
   ]
  },
  {
   "cell_type": "code",
   "execution_count": 34,
   "metadata": {
    "collapsed": false
   },
   "outputs": [
    {
     "name": "stdout",
     "output_type": "stream",
     "text": [
      "Candidate LEFT tokens:   \t[u'-', u'old']\n",
      "Candidate RIGHT tokens:  \t[u'passed', u'out']\n",
      "Candidate BETWEEN tokens:\t passed out of the Gaduala Inter College in 2013   Nineteen-year-old \n"
     ]
    }
   ],
   "source": [
    "print \"Candidate LEFT tokens:   \\t\", list(get_left_tokens(cands[0],window=2))\n",
    "print \"Candidate RIGHT tokens:  \\t\", list(get_right_tokens(cands[0],window=2))\n",
    "print \"Candidate BETWEEN tokens:\\t\", get_text_between(cands[0])"
   ]
  },
  {
   "cell_type": "markdown",
   "metadata": {
    "collapsed": true
   },
   "source": [
    "## VI. Cheat Sheet\n",
    "----\n",
    "<img src=\"https://media.readthedocs.com/corporate/img/header-logo.png\" width=\"200px;\">\n",
    "\n",
    "Complete Snorkel API documentation on [Read the Docs](http://snorkel.readthedocs.io/en/master/)\n",
    "\n",
    "###  `Candidate` Helper Functions\n",
    "\n",
    "Helper functions operate on a `Candidate` class instance, `c`.\n",
    "  \n",
    "`get_left_tokens(c, window=3, attrib='words', n_max=1, case_sensitive=False)\n",
    "get_right_tokens(c, window=3, attrib='words', n_max=1, case_sensitive=False)\n",
    "get_between_tokens(c, attrib='words', n_max=1, case_sensitive=False)\n",
    "get_text_between(c)\n",
    "get_tagged_text(c)`\n",
    "\n",
    "A full list of helper functions is available at\n",
    "http://snorkel.readthedocs.io/en/master/etc.html#module-snorkel.lf_helpers\n",
    "\n",
    "### `Candidate` Member Functions\n",
    "\n",
    "Give a `Candidate` class instance\n",
    "\n",
    "`.get_attrib_tokens(a='words')\n",
    ".get_word_start()\n",
    ".get_word_end()`\n",
    "\n",
    "\n",
    "### `Sentence` Attributes\n",
    "\n",
    "| Variable Name   | Description                          |\n",
    "|-------------|------------------------------------------|\n",
    "| `words`   | Text Tokens                              |\n",
    "| `lemmas`  | Lemma, \"a base word and its inflections\" |\n",
    "| `pos_tags` | Part-of-speech Tags                     |\n",
    "| `ner_tags` | Named Entity Tags                     |\n",
    "| `dep_parents` |  Dependency Tree Heads            |\n",
    "| `dep_labels` |  Dependency Tree Tags            |  \n",
    "| `char_offsets` |  Character Offsets          |\n",
    "| `abs_char_offsets` |  Absolute (document) Character Offsets |\n",
    "\n",
    "\n",
    "### Computing Labeling Function Metrics\n",
    "\n",
    "`snorkel.lf_helpers.test_LF`"
   ]
  },
  {
   "cell_type": "code",
   "execution_count": null,
   "metadata": {
    "collapsed": true
   },
   "outputs": [],
   "source": []
  }
 ],
 "metadata": {
  "kernelspec": {
   "display_name": "Python 2",
   "language": "python",
   "name": "python2"
  },
  "language_info": {
   "codemirror_mode": {
    "name": "ipython",
    "version": 2
   },
   "file_extension": ".py",
   "mimetype": "text/x-python",
   "name": "python",
   "nbconvert_exporter": "python",
   "pygments_lexer": "ipython2",
   "version": "2.7.13"
  }
 },
 "nbformat": 4,
 "nbformat_minor": 2
}
