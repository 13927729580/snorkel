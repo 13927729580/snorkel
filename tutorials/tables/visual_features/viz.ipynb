{
 "cells": [
  {
   "cell_type": "markdown",
   "metadata": {},
   "source": [
    "# Adding Visual Features"
   ]
  },
  {
   "cell_type": "code",
   "execution_count": 1,
   "metadata": {
    "collapsed": false,
    "scrolled": true
   },
   "outputs": [],
   "source": [
    "%load_ext autoreload\n",
    "%autoreload 2\n",
    "\n",
    "import os\n",
    "os.remove('snorkel.db')\n",
    "\n",
    "import sys\n",
    "sys.path.append(os.environ['SNORKELHOME'] + '/tutorials/tables/')\n",
    "\n",
    "from snorkel import SnorkelSession\n",
    "session = SnorkelSession()\n",
    "\n",
    "from pdb import set_trace as t"
   ]
  },
  {
   "cell_type": "markdown",
   "metadata": {},
   "source": [
    "### Convert PDF to HTML"
   ]
  },
  {
   "cell_type": "markdown",
   "metadata": {},
   "source": [
    "Use Adobe Acrobat (or other program of your choice) to convert PDF -> HTML with structure."
   ]
  },
  {
   "cell_type": "markdown",
   "metadata": {},
   "source": [
    "### Parse HTML and PDF"
   ]
  },
  {
   "cell_type": "code",
   "execution_count": 2,
   "metadata": {
    "collapsed": false,
    "scrolled": true
   },
   "outputs": [
    {
     "name": "stdout",
     "output_type": "stream",
     "text": [
      "Extracted 2690 pdf words\n",
      "Elapsed: 0.269 s\n",
      "Extracted 480 html words\n",
      "Elapsed: 0.010 s\n",
      "Linked 480 words to 2690 bounding boxes\n",
      "Elapsed: 0.027 s\n",
      "Updated coordinates in snorkel.db\n",
      "Elapsed: 0.188 s\n",
      "[========================================] 100%\n",
      "CPU times: user 827 ms, sys: 105 ms, total: 932 ms\n",
      "Wall time: 6.83 s\n"
     ]
    }
   ],
   "source": [
    "import os\n",
    "from snorkel.parser import CorpusParser\n",
    "from snorkel.parser import HTMLParser\n",
    "from snorkel.parser import OmniParser\n",
    "\n",
    "pdf_path = os.environ['SNORKELHOME'] + '/tutorials/tables/data/hardware/hardware100_pdf/'\n",
    "html_path = os.environ['SNORKELHOME'] + '/tutorials/tables/data/hardware/hardware100_html/'\n",
    "\n",
    "filename = 'bc546-d'\n",
    "html_file = html_path + filename + '.html'\n",
    "\n",
    "doc_parser = HTMLParser(path=html_file)\n",
    "context_parser = OmniParser(pdf_path=pdf_path, session=session)\n",
    "cp = CorpusParser(doc_parser, context_parser, max_docs=1) \n",
    "\n",
    "%time corpus = cp.parse_corpus(name='Hardware', session=session)\n",
    "\n",
    "# Save results\n",
    "# os.system('cp snorkel.db snorkel.db\\ corpus');"
   ]
  },
  {
   "cell_type": "markdown",
   "metadata": {},
   "source": [
    "### Load results"
   ]
  },
  {
   "cell_type": "code",
   "execution_count": 3,
   "metadata": {
    "collapsed": false
   },
   "outputs": [],
   "source": [
    "# import os\n",
    "# from snorkel.models import Corpus\n",
    "# from snorkel.utils import get_ORM_instance\n",
    "\n",
    "# os.system('cp snorkel.db\\ corpus snorkel.db');\n",
    "# corpus = get_ORM_instance(Corpus, session, 'Hardware')"
   ]
  },
  {
   "cell_type": "markdown",
   "metadata": {},
   "source": [
    "### Extract Candidates"
   ]
  },
  {
   "cell_type": "code",
   "execution_count": 4,
   "metadata": {
    "collapsed": false
   },
   "outputs": [
    {
     "name": "stdout",
     "output_type": "stream",
     "text": [
      "Extracting Candidates from Corpus (Hardware)\n",
      "[========================================] 100%\n",
      "CPU times: user 315 ms, sys: 0 ns, total: 315 ms\n",
      "Wall time: 339 ms\n",
      "Candidate Set (Hardware Candidates) contains 317 Candidates\n"
     ]
    }
   ],
   "source": [
    "import os\n",
    "from collections import defaultdict\n",
    "from snorkel.models import Corpus, candidate_subclass\n",
    "from snorkel.matchers import RegexMatchSpan, Union\n",
    "from snorkel.candidates import CandidateExtractor\n",
    "from snorkel.utils import get_ORM_instance\n",
    "from hardware_utils import OmniNgramsPart, OmniNgramsTemp, get_gold_dict\n",
    "\n",
    "# Candidate Type\n",
    "Part_Temp = candidate_subclass('Part_Temp', ['part','temp'])\n",
    "    \n",
    "# CandidateSpaces\n",
    "part_ngrams = OmniNgramsPart(parts_by_doc=None, n_max=3) # NOTE: no part linking right now\n",
    "temp_ngrams = OmniNgramsTemp(n_max=2)\n",
    "\n",
    "# Matchers\n",
    "eeca_matcher = RegexMatchSpan(rgx='([b]{1}[abcdefklnpqruyz]{1}[\\swxyz]?[0-9]{3,5}[\\s]?[A-Z\\/]{0,5}[0-9]?[A-Z]?([-][A-Z0-9]{1,7})?([-][A-Z0-9]{1,2})?)')\n",
    "jedec_matcher = RegexMatchSpan(rgx='([123]N\\d{3,4}[A-Z]{0,5}[0-9]?[A-Z]?)')\n",
    "jis_matcher = RegexMatchSpan(rgx='(2S[abcdefghjkmqrstvz]{1}[\\d]{2,4})')\n",
    "others_matcher = RegexMatchSpan(rgx='((NSVBC|SMBT|MJ|MJE|MPS|MRF|RCA|TIP|ZTX|ZT|TIS|TIPL|DTC|MMBT|PZT){1}[\\d]{2,4}[A-Z]{0,3}([-][A-Z0-9]{0,6})?([-][A-Z0-9]{0,1})?)')\n",
    "parts_matcher = Union(eeca_matcher, jedec_matcher, jis_matcher, others_matcher)\n",
    "\n",
    "temp_matcher = RegexMatchSpan(rgx=r'[0-9][05]', longest_match_only=False)\n",
    "\n",
    "# Throttler\n",
    "part_throttler = lambda x: x[0].parent.page == x[1].parent.page\n",
    "\n",
    "# Extractor\n",
    "ce = CandidateExtractor(Part_Temp, \n",
    "                        [part_ngrams, temp_ngrams], \n",
    "                        [parts_matcher, temp_matcher], \n",
    "                        throttler=part_throttler)\n",
    "\n",
    "# Extract\n",
    "for corpus_name in ['Hardware']:\n",
    "    corpus = get_ORM_instance(Corpus, session, corpus_name)\n",
    "    print \"Extracting Candidates from %s\" % corpus\n",
    "    %time candidates = ce.extract(\\\n",
    "        corpus.documents, corpus_name + ' Candidates', session)\n",
    "    session.add(candidates)\n",
    "    print \"%s contains %d Candidates\" % (candidates, len(candidates))\n",
    "session.commit()"
   ]
  },
  {
   "cell_type": "markdown",
   "metadata": {},
   "source": [
    "### View Results"
   ]
  },
  {
   "cell_type": "code",
   "execution_count": 25,
   "metadata": {
    "collapsed": false
   },
   "outputs": [
    {
     "name": "stdout",
     "output_type": "stream",
     "text": [
      "Span(\"BC546\", parent=2, chars=[0,4], words=[0,0])\n",
      "0 4\n",
      "1\n",
      "[277]\n",
      "[286]\n",
      "[189]\n",
      "[214]\n",
      "Document bc546-d\n",
      "====================\n",
      "e2_ALIGNED_CENTER_value\n",
      "e2_ALIGNED_value\n",
      "Y_ALIGNED\n",
      "HAS_COORDS\n",
      "Phrase1 BC546 - NPN Amplifier Transistors bbox(top=109, bottom=286, left=59, right=265) 1\n",
      "Phrase2 65 bbox(top=277, bottom=286, left=274, right=283) 1\n",
      "bbox(top=277, bottom=286, left=189, right=214) bbox(top=277, bottom=286, left=274, right=283)\n",
      "BC546\n",
      "65\n",
      "====================\n",
      "e2_ALIGNED_CENTER_value\n",
      "e2_ALIGNED_value\n",
      "Y_ALIGNED\n",
      "HAS_COORDS\n",
      "Phrase1 BC546 bbox(top=319, bottom=329, left=189, right=214) 1\n",
      "Phrase2 80 bbox(top=319, bottom=329, left=274, right=283) 1\n",
      "bbox(top=319, bottom=329, left=189, right=214) bbox(top=319, bottom=329, left=274, right=283)\n",
      "BC546\n",
      "80\n",
      "====================\n",
      "e2_ALIGNED_CENTER_value\n",
      "e2_ALIGNED_value\n",
      "Y_ALIGNED\n",
      "HAS_COORDS\n",
      "Phrase1 BC547 bbox(top=328, bottom=337, left=189, right=214) 1\n",
      "Phrase2 50 bbox(top=328, bottom=337, left=274, right=283) 1\n",
      "bbox(top=328, bottom=337, left=189, right=214) bbox(top=328, bottom=337, left=274, right=283)\n",
      "BC547\n",
      "50\n",
      "====================\n",
      "e2_ALIGNED_CENTER_value\n",
      "e2_ALIGNED_value\n",
      "Y_ALIGNED\n",
      "HAS_COORDS\n",
      "Phrase1 BC546 bbox(top=277, bottom=286, left=189, right=214) 1\n",
      "Phrase2 65 bbox(top=277, bottom=286, left=274, right=283) 1\n",
      "bbox(top=277, bottom=286, left=189, right=214) bbox(top=277, bottom=286, left=274, right=283)\n",
      "BC546\n",
      "65\n",
      "====================\n",
      "e2_ALIGNED_CENTER_value\n",
      "e2_ALIGNED_value\n",
      "Y_ALIGNED\n",
      "HAS_COORDS\n",
      "Phrase1 BC547 bbox(top=286, bottom=295, left=189, right=214) 1\n",
      "Phrase2 45 bbox(top=286, bottom=295, left=274, right=283) 1\n",
      "bbox(top=286, bottom=295, left=189, right=214) bbox(top=286, bottom=295, left=274, right=283)\n",
      "BC547\n",
      "45\n",
      "====================\n",
      "e2_ALIGNED_CENTER_value\n",
      "e2_ALIGNED_value\n",
      "Y_ALIGNED\n",
      "HAS_COORDS\n",
      "Phrase1 BC548 bbox(top=337, bottom=346, left=189, right=214) 1\n",
      "Phrase2 30 bbox(top=337, bottom=346, left=274, right=283) 1\n",
      "bbox(top=337, bottom=346, left=189, right=214) bbox(top=337, bottom=346, left=274, right=283)\n",
      "BC548\n",
      "30\n",
      "====================\n",
      "e2_ALIGNED_CENTER_value\n",
      "e2_ALIGNED_value\n",
      "Y_ALIGNED\n",
      "HAS_COORDS\n",
      "Phrase1 BC548 bbox(top=294, bottom=304, left=189, right=214) 1\n",
      "Phrase2 30 bbox(top=294, bottom=304, left=274, right=283) 1\n",
      "bbox(top=294, bottom=304, left=189, right=214) bbox(top=294, bottom=304, left=274, right=283)\n",
      "BC548\n",
      "30\n",
      "317\n"
     ]
    }
   ],
   "source": [
    "c = candidates[15]\n",
    "print c.part\n",
    "print c.part.char_start, c.part.char_end\n",
    "print c.part.parent.page\n",
    "print c.part.get_attrib_tokens('top')\n",
    "print c.part.get_attrib_tokens('bottom')\n",
    "print c.part.get_attrib_tokens('left')\n",
    "print c.part.get_attrib_tokens('right')\n",
    "\n",
    "\n",
    "from snorkel.entity_features import visual_binary_features, _bbox_from_span\n",
    "\n",
    "print c.part.parent.document\n",
    "for c in candidates:\n",
    "    \n",
    "    span1, span2 = c.get_arguments()\n",
    "\n",
    "    feats = set()\n",
    "    for f in visual_binary_features(span1, span2):\n",
    "        feats.add(f)\n",
    "    text1 =   span1.get_span()\n",
    "    text2 = span2.get_span()\n",
    "    if not  'Y_ALIGNED' in feats or span1.parent.page>1: continue\n",
    "    print '='*20\n",
    "    for f in feats: print f\n",
    "    print 'Phrase1', span1.parent.text, span1.parent.bbox, span1.parent.page\n",
    "    print 'Phrase2', span2.parent.text, span2.parent.bbox, span2.parent.page\n",
    "    print _bbox_from_span(span1), _bbox_from_span(span2)\n",
    "    print span1.get_span()\n",
    "    print span2.get_span()\n",
    "print len(candidates)"
   ]
  },
  {
   "cell_type": "code",
   "execution_count": 6,
   "metadata": {
    "collapsed": false
   },
   "outputs": [],
   "source": [
    "# context_parser.vizlink.display_links(20)"
   ]
  },
  {
   "cell_type": "code",
   "execution_count": 7,
   "metadata": {
    "collapsed": false,
    "scrolled": true
   },
   "outputs": [],
   "source": [
    "# Note: Select image and press any key to close image.\n",
    "# context_parser.vizlink.display_candidates(candidates, page_num=2, display=False)"
   ]
  },
  {
   "cell_type": "code",
   "execution_count": 8,
   "metadata": {
    "collapsed": false
   },
   "outputs": [],
   "source": [
    "# pdf_file = context_parser.vizlink.pdf_file\n",
    "\n",
    "# context_parser.vizlink.display_word('BC546', page_num=2)\n",
    "# context_parser.vizlink.display_candidates(candidates, page_num=2)"
   ]
  },
  {
   "cell_type": "code",
   "execution_count": 9,
   "metadata": {
    "collapsed": false
   },
   "outputs": [],
   "source": [
    "# from visual_linking import display_boxes, get_box\n",
    "\n",
    "# boxes = []\n",
    "# for c in candidates:\n",
    "#     boxes.append(get_box(c.part))\n",
    "# boxes = list(set(boxes))\n",
    "# display_boxes(pdf_file, boxes, page_num=2)"
   ]
  },
  {
   "cell_type": "markdown",
   "metadata": {},
   "source": [
    "### Display Ordering of PDF Word List "
   ]
  },
  {
   "cell_type": "markdown",
   "metadata": {},
   "source": [
    "Display Ordering on a black page - Not very easy to display because of superposition"
   ]
  },
  {
   "cell_type": "code",
   "execution_count": 10,
   "metadata": {
    "collapsed": false
   },
   "outputs": [],
   "source": [
    "# import numpy as np\n",
    "# import cv2\n",
    "# import math\n",
    "\n",
    "# page_num = 2\n",
    "# page_height = 792\n",
    "# page_width = 612\n",
    "# img = np.ones((page_height,page_width,3))*255\n",
    "# font = cv2.FONT_HERSHEY_SIMPLEX\n",
    "# letter_width = 3\n",
    "# i = 0\n",
    "# for word_id, _ in pdf_word_list:\n",
    "#     if word_id[0] == page_num:\n",
    "#         i += 1\n",
    "#         _, top, left, bottom, right = coordinate_map[word_id]\n",
    "#         cv2.rectangle(img, (left, top), (right, bottom), (0,255,0), 1)\n",
    "#         cv2.putText(img, \n",
    "#                     str(i), \n",
    "#                     ((left + right)/2 - letter_width*int(math.ceil(math.log10(i))), \n",
    "#                     bottom + (top - bottom)/4), \n",
    "#                     font, \n",
    "#                     0.3, \n",
    "#                     (255,0,0), \n",
    "#                     1)\n",
    "# cv2.imshow('PDF Word List Order',img)\n",
    "# cv2.waitKey() # press any key to exit the opencv output \n",
    "# cv2.destroyAllWindows() "
   ]
  },
  {
   "cell_type": "markdown",
   "metadata": {},
   "source": [
    "The end."
   ]
  }
 ],
 "metadata": {
  "anaconda-cloud": {},
  "kernelspec": {
   "display_name": "Python 2",
   "language": "python",
   "name": "python2"
  },
  "language_info": {
   "codemirror_mode": {
    "name": "ipython",
    "version": 2
   },
   "file_extension": ".py",
   "mimetype": "text/x-python",
   "name": "python",
   "nbconvert_exporter": "python",
   "pygments_lexer": "ipython2",
   "version": "2.7.11"
  }
 },
 "nbformat": 4,
 "nbformat_minor": 1
}
