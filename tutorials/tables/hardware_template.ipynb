{
 "cells": [
  {
   "cell_type": "markdown",
   "metadata": {},
   "source": [
    "# HARDWARE"
   ]
  },
  {
   "cell_type": "markdown",
   "metadata": {},
   "source": [
    "## Setup"
   ]
  },
  {
   "cell_type": "code",
   "execution_count": 1,
   "metadata": {
    "collapsed": false,
    "scrolled": false
   },
   "outputs": [
    {
     "name": "stdout",
     "output_type": "stream",
     "text": [
      "True\n"
     ]
    }
   ],
   "source": [
    "%load_ext autoreload\n",
    "%autoreload 2\n",
    "%matplotlib inline\n",
    "\n",
    "\"\"\"\n",
    "To change attributes:\n",
    "1) Change ATTRIBUTE and you're good to go\n",
    "\"\"\"\n",
    "ATTRIBUTE = 'stg_temp_min'\n",
    "COUNTER = '_template'\n",
    "PARALLEL = 20\n",
    "PARALLEL_EXTRACTION = 8\n",
    "TRAIN_SIZE = 3\n",
    "DEV_SIZE = 3\n",
    "TEST_SIZE = 3\n",
    "\n",
    "import os\n",
    "import sys\n",
    "sys.path.append(os.environ['SNORKELHOME'] + '/tutorials/tables/')\n",
    "snorkel_postgres = os.environ['SNORKELDB'].startswith('postgres')\n",
    "print snorkel_postgres"
   ]
  },
  {
   "cell_type": "code",
   "execution_count": 2,
   "metadata": {
    "collapsed": false
   },
   "outputs": [
    {
     "name": "stdout",
     "output_type": "stream",
     "text": [
      "256\n",
      "0\n",
      "SNORKELDBNAME = stg_temp_min_dry_run2\n"
     ]
    }
   ],
   "source": [
    "import os\n",
    "if snorkel_postgres:\n",
    "    os.environ['SNORKELDBNAME'] = ATTRIBUTE + str(COUNTER)\n",
    "    print os.system(\"dropdb \" + os.environ['SNORKELDBNAME'])\n",
    "    print os.system(\"createdb \" + os.environ['SNORKELDBNAME'])\n",
    "    print \"SNORKELDBNAME = %s\" % os.environ['SNORKELDBNAME']\n",
    "else:\n",
    "    try:\n",
    "        os.remove('snorkel.db')\n",
    "    except:\n",
    "        pass\n",
    "\n",
    "from snorkel import SnorkelSession\n",
    "session = SnorkelSession()"
   ]
  },
  {
   "cell_type": "markdown",
   "metadata": {},
   "source": [
    "## Parsing"
   ]
  },
  {
   "cell_type": "code",
   "execution_count": 3,
   "metadata": {
    "collapsed": false
   },
   "outputs": [
    {
     "name": "stdout",
     "output_type": "stream",
     "text": [
      "Starting async parse...\n",
      "[========================================] 100%\n",
      "CPU times: user 112 ms, sys: 100 ms, total: 212 ms\n",
      "Wall time: 13.6 s\n",
      "Corpus (Hardware Train) contains 3 documents\n",
      "[========================================] 100%\n",
      "CPU times: user 16 ms, sys: 156 ms, total: 172 ms\n",
      "Wall time: 2.68 s\n",
      "Corpus (Hardware Dev) contains 3 documents\n",
      "[========================================] 100%\n",
      "CPU times: user 48 ms, sys: 100 ms, total: 148 ms\n",
      "Wall time: 5.06 s\n",
      "Corpus (Hardware Test) contains 3 documents\n"
     ]
    }
   ],
   "source": [
    "import os\n",
    "if snorkel_postgres:\n",
    "    from snorkel.async_parser import parse_corpus, HTMLParser, AsyncOmniParser\n",
    "    print \"Starting async parse...\"\n",
    "    \n",
    "    # PARSE TRAIN\n",
    "    docs_path = os.environ['SNORKELHOME'] + '/tutorials/tables/data/hardware/train_digikey/html/'\n",
    "    pdf_path = os.environ['SNORKELHOME'] + '/tutorials/tables/data/hardware/train_digikey/pdf/'\n",
    "    doc_parser = HTMLParser()\n",
    "    context_parser = AsyncOmniParser(blacklist=['style'], flatten=['span','br'], \n",
    "                                     tabular=True, lingual=True,\n",
    "                                     visual=True, pdf_path=pdf_path)\n",
    "    %time corpus = parse_corpus(session, 'Hardware Train', docs_path,\\\n",
    "                                doc_parser, context_parser,\\\n",
    "                                max_docs=TRAIN_SIZE, parallel=PARALLEL)\n",
    "    print \"%s contains %d documents\" % (corpus, len(corpus))\n",
    "    \n",
    "    # PARSE DEV\n",
    "    docs_path = os.environ['SNORKELHOME'] + '/tutorials/tables/data/hardware/dev/html/'\n",
    "    pdf_path = os.environ['SNORKELHOME'] + '/tutorials/tables/data/hardware/dev/pdf/'\n",
    "    context_parser = AsyncOmniParser(blacklist=['style'], flatten=['span','br'], \n",
    "                                     tabular=True, lingual=True,\n",
    "                                     visual=True, pdf_path=pdf_path)\n",
    "    %time corpus = parse_corpus(session, 'Hardware Dev', docs_path,\\\n",
    "                                doc_parser, context_parser,\\\n",
    "                                max_docs=DEV_SIZE, parallel=PARALLEL)\n",
    "    print \"%s contains %d documents\" % (corpus, len(corpus))\n",
    "    \n",
    "    if TEST_SIZE:\n",
    "        # PARSE TEST\n",
    "        docs_path = os.environ['SNORKELHOME'] + '/tutorials/tables/data/hardware/test/html/'\n",
    "        pdf_path = os.environ['SNORKELHOME'] + '/tutorials/tables/data/hardware/test/pdf/'\n",
    "        context_parser = AsyncOmniParser(blacklist=['style'], flatten=['span','br'], \n",
    "                                         tabular=True, lingual=True,\n",
    "                                         visual=True, pdf_path=pdf_path)\n",
    "        %time corpus = parse_corpus(session, 'Hardware Test', docs_path,\\\n",
    "                                    doc_parser, context_parser,\\\n",
    "                                    max_docs=TEST_SIZE, parallel=PARALLEL)\n",
    "        print \"%s contains %d documents\" % (corpus, len(corpus))\n",
    "else:\n",
    "    from snorkel.parser import CorpusParser, HTMLParser, OmniParser\n",
    "    from snorkel.utils import get_ORM_instance\n",
    "    from snorkel.queries import split_corpus\n",
    "\n",
    "    print \"Starting sync parse...\"\n",
    "    # PARSE TRAIN\n",
    "    docs_path = os.environ['SNORKELHOME'] + '/tutorials/tables/data/hardware/train_small/html/'\n",
    "    pdf_path = os.environ['SNORKELHOME'] + '/tutorials/tables/data/hardware/train_small/pdf/'\n",
    "    doc_parser = HTMLParser(path=docs_path)\n",
    "    context_parser = AsyncOmniParser(blacklist=['style'], flatten=['span','br'], \n",
    "                                     tabular=True, lingual=True,\n",
    "                                     visual=True, pdf_path=pdf_path)\n",
    "    cp = CorpusParser(doc_parser, context_parser, max_docs=100)\n",
    "\n",
    "    %time corpus = cp.parse_corpus(name='Hardware Train', session=session)\n",
    "    print \"%s contains %d documents\" % corpus, len(corpus)\n",
    "\n",
    "    session.add(corpus)\n",
    "    session.commit()\n",
    "    \n",
    "    # PARSE DEV\n",
    "    docs_path = os.environ['SNORKELHOME'] + '/tutorials/tables/data/hardware/dev/html/'\n",
    "    pdf_path = os.environ['SNORKELHOME'] + '/tutorials/tables/data/hardware/dev/pdf/'\n",
    "    doc_parser = HTMLParser(path=docs_path)\n",
    "    context_parser = AsyncOmniParser(blacklist=['style'], flatten=['span','br'], \n",
    "                                 tabular=True, lingual=True,\n",
    "                                 visual=True, pdf_path=pdf_path)\n",
    "    cp = CorpusParser(doc_parser, context_parser, max_docs=125)\n",
    "\n",
    "    %time corpus = cp.parse_corpus(name='Hardware Dev', session=session)\n",
    "    print \"%s contains %d documents\" % (corpus, len(corpus))\n",
    "    session.add(corpus)\n",
    "    session.commit()"
   ]
  },
  {
   "cell_type": "markdown",
   "metadata": {},
   "source": [
    "### Save Corpus"
   ]
  },
  {
   "cell_type": "code",
   "execution_count": 4,
   "metadata": {
    "collapsed": true
   },
   "outputs": [],
   "source": [
    "# If necessary\n",
    "if not snorkel_postgres:\n",
    "    import os\n",
    "    os.system('cp snorkel.db snorkel.db\\ corpus');"
   ]
  },
  {
   "cell_type": "markdown",
   "metadata": {},
   "source": [
    "## Extraction"
   ]
  },
  {
   "cell_type": "code",
   "execution_count": 5,
   "metadata": {
    "collapsed": true
   },
   "outputs": [],
   "source": [
    "# # If necessary:\n",
    "# import os\n",
    "# os.remove('snorkel.db');\n",
    "# os.system('cp snorkel.db\\ corpus snorkel.db');\n",
    "\n",
    "# import sys\n",
    "# sys.path.append(os.environ['SNORKELHOME'] + '/tutorials/tables/')\n",
    "\n",
    "# from snorkel import SnorkelSession\n",
    "# session = SnorkelSession()"
   ]
  },
  {
   "cell_type": "code",
   "execution_count": 6,
   "metadata": {
    "collapsed": false
   },
   "outputs": [],
   "source": [
    "from snorkel.models import candidate_subclass\n",
    "\n",
    "Part_Attr = candidate_subclass('Part_Attr', ['part','attr'])"
   ]
  },
  {
   "cell_type": "markdown",
   "metadata": {},
   "source": [
    "### Define Matchers"
   ]
  },
  {
   "cell_type": "code",
   "execution_count": 7,
   "metadata": {
    "collapsed": false
   },
   "outputs": [
    {
     "name": "stdout",
     "output_type": "stream",
     "text": [
      "Using combined matcher.\n"
     ]
    }
   ],
   "source": [
    "from hardware_matchers import get_matcher\n",
    "\n",
    "dict_path = os.environ['SNORKELHOME'] +\\\n",
    "    '/tutorials/tables/data/hardware/gold_raw/digikey_part_dictionary.csv'\n",
    "part_matcher = get_matcher('part', dict_path)\n",
    "attr_matcher = get_matcher(ATTRIBUTE)"
   ]
  },
  {
   "cell_type": "markdown",
   "metadata": {},
   "source": [
    "### Define ContextSpaces"
   ]
  },
  {
   "cell_type": "code",
   "execution_count": 8,
   "metadata": {
    "collapsed": false
   },
   "outputs": [],
   "source": [
    "from hardware_spaces import get_space\n",
    "    \n",
    "part_ngrams = get_space('part')\n",
    "attr_ngrams = get_space(ATTRIBUTE)"
   ]
  },
  {
   "cell_type": "markdown",
   "metadata": {},
   "source": [
    "### Define Candidate Throttler"
   ]
  },
  {
   "cell_type": "code",
   "execution_count": 9,
   "metadata": {
    "collapsed": false
   },
   "outputs": [],
   "source": [
    "from hardware_throttlers import get_throttler\n",
    "\n",
    "throttler = get_throttler(ATTRIBUTE)\n",
    "# throttler = None"
   ]
  },
  {
   "cell_type": "markdown",
   "metadata": {},
   "source": [
    "### Run CandidateExtractor"
   ]
  },
  {
   "cell_type": "code",
   "execution_count": 10,
   "metadata": {
    "collapsed": false
   },
   "outputs": [
    {
     "name": "stdout",
     "output_type": "stream",
     "text": [
      "Extracting Candidates from Corpus (Hardware Train)\n",
      "[========================================] 100%\n",
      "CPU times: user 36 ms, sys: 88 ms, total: 124 ms\n",
      "Wall time: 11.8 s\n",
      "Candidate Set (Hardware Train Candidates) contains 90 Candidates\n",
      "Extracting Candidates from Corpus (Hardware Dev)\n",
      "[========================================] 100%\n",
      "CPU times: user 20 ms, sys: 40 ms, total: 60 ms\n",
      "Wall time: 564 ms\n",
      "Candidate Set (Hardware Dev Candidates) contains 23 Candidates\n",
      "Extracting Candidates from Corpus (Hardware Test)\n",
      "[========================================] 100%\n",
      "CPU times: user 28 ms, sys: 36 ms, total: 64 ms\n",
      "Wall time: 1.17 s\n",
      "Candidate Set (Hardware Test Candidates) contains 11 Candidates\n"
     ]
    }
   ],
   "source": [
    "from snorkel.models import Corpus\n",
    "from snorkel.candidates import CandidateExtractor\n",
    "from snorkel.utils import get_ORM_instance\n",
    "from snorkel.async_candidates import parallel_extract\n",
    "\n",
    "ce = CandidateExtractor(Part_Attr, \n",
    "                        [part_ngrams, attr_ngrams], \n",
    "                        [part_matcher, attr_matcher], \n",
    "                        throttler=throttler)\n",
    "\n",
    "corpus_names = ['Hardware Train', 'Hardware Dev']\n",
    "if TEST_SIZE:\n",
    "    corpus_names.append('Hardware Test')\n",
    "for corpus_name in corpus_names:\n",
    "    corpus = get_ORM_instance(Corpus, session, corpus_name)\n",
    "    print \"Extracting Candidates from %s\" % corpus\n",
    "    %time candidates = parallel_extract(session, ce, corpus, \\\n",
    "                                        corpus_name + ' Candidates', \\\n",
    "                                        parallel=PARALLEL_EXTRACTION)\n",
    "    session.add(candidates)\n",
    "    print \"%s contains %d Candidates\" % (candidates, len(candidates))\n",
    "session.commit()"
   ]
  },
  {
   "cell_type": "markdown",
   "metadata": {},
   "source": [
    "### Second Pass"
   ]
  },
  {
   "cell_type": "code",
   "execution_count": 11,
   "metadata": {
    "collapsed": false
   },
   "outputs": [],
   "source": [
    "# from hardware_utils import get_gold_parts_by_doc, get_manual_parts_by_doc\n",
    "# from snorkel.utils import get_ORM_instance\n",
    "# from snorkel.models import Corpus\n",
    "\n",
    "# corpus = get_ORM_instance(Corpus, session, 'Hardware Dev')\n",
    "\n",
    "# # parts_by_doc = get_gold_parts_by_doc()\n",
    "# parts_by_doc = get_manual_parts_by_doc(corpus.documents.all())\n",
    "# # parts_by_doc = None"
   ]
  },
  {
   "cell_type": "code",
   "execution_count": 12,
   "metadata": {
    "collapsed": true
   },
   "outputs": [],
   "source": [
    "# import cPickle as pickle\n",
    "# pickle_file = os.environ['SNORKELHOME'] + '/tutorials/tables/sandbox/parts_by_doc_dev.pkl'\n",
    "\n",
    "# with open(pickle_file, 'w') as f:\n",
    "#     pickle.dump(parts_by_doc, f)"
   ]
  },
  {
   "cell_type": "code",
   "execution_count": 13,
   "metadata": {
    "collapsed": true
   },
   "outputs": [],
   "source": [
    "import cPickle as pickle\n",
    "pickle_file = os.environ['SNORKELHOME'] + '/tutorials/tables/sandbox/parts_by_doc_dev.pkl'\n",
    "with open(pickle_file, 'r') as f:\n",
    "    parts_by_doc = pickle.load(f)"
   ]
  },
  {
   "cell_type": "markdown",
   "metadata": {},
   "source": [
    "### Assess Recall"
   ]
  },
  {
   "cell_type": "code",
   "execution_count": 14,
   "metadata": {
    "collapsed": false
   },
   "outputs": [
    {
     "name": "stdout",
     "output_type": "stream",
     "text": [
      "Preparing candidates...\n",
      "[========================================] 100%\n",
      "========================================\n",
      "Scoring on Entity-Level Gold Data\n",
      "========================================\n",
      "Corpus Precision 0.905\n",
      "Corpus Recall    1.0\n",
      "Corpus F1        0.95\n",
      "----------------------------------------\n",
      "TP: 19 | FP: 2 | FN: 0\n",
      "========================================\n",
      "\n",
      "CPU times: user 284 ms, sys: 100 ms, total: 384 ms\n",
      "Wall time: 344 ms\n"
     ]
    }
   ],
   "source": [
    "from snorkel.models import Corpus, CandidateSet\n",
    "from hardware_utils import entity_level_f1\n",
    "\n",
    "corpus = get_ORM_instance(Corpus, session, 'Hardware Dev')\n",
    "candidates = get_ORM_instance(CandidateSet, session, 'Hardware Dev Candidates')\n",
    "gold_file = os.environ['SNORKELHOME'] + \\\n",
    "    '/tutorials/tables/data/hardware/dev/hardware_dev_gold.csv'\n",
    "%time (ctp, cfp, cfn) = entity_level_f1(candidates, gold_file, ATTRIBUTE, corpus, parts_by_doc)"
   ]
  },
  {
   "cell_type": "code",
   "execution_count": 15,
   "metadata": {
    "collapsed": false
   },
   "outputs": [
    {
     "name": "stdout",
     "output_type": "stream",
     "text": [
      "[(u'LTSCS02912-1', u'BC846W-REV', u'-55'),\n",
      " (u'UTCLS03593-1', u'DTC114E-I', u'-55')]\n"
     ]
    }
   ],
   "source": [
    "from pprint import pprint\n",
    "pprint(cfp)"
   ]
  },
  {
   "cell_type": "code",
   "execution_count": 16,
   "metadata": {
    "collapsed": false
   },
   "outputs": [
    {
     "name": "stdout",
     "output_type": "stream",
     "text": [
      "[]\n"
     ]
    }
   ],
   "source": [
    "pprint(cfn)"
   ]
  },
  {
   "cell_type": "code",
   "execution_count": 17,
   "metadata": {
    "collapsed": true
   },
   "outputs": [],
   "source": [
    "# If necessary\n",
    "if not snorkel_postgres:\n",
    "    import os\n",
    "    os.system('cp snorkel.db snorkel.db\\ candidates');"
   ]
  },
  {
   "cell_type": "markdown",
   "metadata": {},
   "source": [
    "## Gold Labels"
   ]
  },
  {
   "cell_type": "code",
   "execution_count": 18,
   "metadata": {
    "collapsed": true
   },
   "outputs": [],
   "source": [
    "# If necessary\n",
    "# import os\n",
    "# os.remove('snorkel.db');\n",
    "# os.system('cp snorkel.db\\ candidates snorkel.db');\n",
    "\n",
    "# import sys\n",
    "# sys.path.append(os.environ['SNORKELHOME'] + '/tutorials/tables/')\n",
    "\n",
    "# from snorkel import SnorkelSession\n",
    "# session = SnorkelSession()\n",
    "\n",
    "# from snorkel.models import candidate_subclass\n",
    "# Part_Attr = candidate_subclass('Part_Attr', ['part','attr'])"
   ]
  },
  {
   "cell_type": "code",
   "execution_count": 19,
   "metadata": {
    "collapsed": false
   },
   "outputs": [
    {
     "name": "stdout",
     "output_type": "stream",
     "text": [
      "Loading 23 candidate labels\n",
      "[========================================] 100%\n",
      "CPU times: user 388 ms, sys: 68 ms, total: 456 ms\n",
      "Wall time: 465 ms\n",
      "21/23 Candidates in Candidate Set (Hardware Dev Candidates) have positive Labels\n",
      "Loading 11 candidate labels\n",
      "[========================================] 100%\n",
      "CPU times: user 204 ms, sys: 20 ms, total: 224 ms\n",
      "Wall time: 242 ms\n",
      "10/11 Candidates in Candidate Set (Hardware Test Candidates) have positive Labels\n"
     ]
    }
   ],
   "source": [
    "import os\n",
    "from snorkel.models import CandidateSet\n",
    "from hardware_utils import load_hardware_labels\n",
    "\n",
    "data_sets = ['Dev']\n",
    "gold_file = {}\n",
    "gold_file['Dev'] = os.environ['SNORKELHOME'] + '/tutorials/tables/data/hardware/dev/hardware_dev_gold.csv'\n",
    "if TEST_SIZE:\n",
    "    data_sets.append('Test')\n",
    "    gold_file['Test'] = os.environ['SNORKELHOME'] + '/tutorials/tables/data/hardware/test/hardware_test_gold.csv'\n",
    "for data_set in data_sets:\n",
    "    candidate_set_name = 'Hardware %s Candidates' % data_set\n",
    "    candidates = session.query(CandidateSet).filter(\n",
    "        CandidateSet.name == candidate_set_name).one()\n",
    "    label_set_name = 'Hardware %s Candidates -- Gold' % data_set\n",
    "    annotation_key_name = 'Hardware %s Labels -- Gold' % data_set\n",
    "    %time gold_candidates, annotation_key = load_hardware_labels(session,\\\n",
    "                           label_set_name, \\\n",
    "                           annotation_key_name, \\\n",
    "                           candidates, \\\n",
    "                           gold_file[data_set], \\\n",
    "                           ATTRIBUTE)\n",
    "    candidates_gold = session.query(CandidateSet).filter(\n",
    "        CandidateSet.name == candidate_set_name + ' -- Gold').one()\n",
    "    print \"%d/%d Candidates in %s have positive Labels\" % (\n",
    "        len(candidates_gold), len(candidates), candidates)"
   ]
  },
  {
   "cell_type": "code",
   "execution_count": 20,
   "metadata": {
    "collapsed": true
   },
   "outputs": [],
   "source": [
    "# If necessary\n",
    "if not snorkel_postgres:\n",
    "    import os\n",
    "    os.system('cp snorkel.db snorkel.db\\ labels');"
   ]
  },
  {
   "cell_type": "markdown",
   "metadata": {},
   "source": [
    "## Features"
   ]
  },
  {
   "cell_type": "code",
   "execution_count": 21,
   "metadata": {
    "collapsed": false
   },
   "outputs": [],
   "source": [
    "# # If necessary:\n",
    "# import os\n",
    "# # os.remove('snorkel.db');\n",
    "# os.system('cp snorkel.db\\ labels snorkel.db');\n",
    "\n",
    "# from snorkel import SnorkelSession\n",
    "# session = SnorkelSession()\n",
    "\n",
    "# from snorkel.models import candidate_subclass\n",
    "# Part_Attr = candidate_subclass('Part_Attr', ['part','attr'])"
   ]
  },
  {
   "cell_type": "markdown",
   "metadata": {},
   "source": [
    "### Extract Features"
   ]
  },
  {
   "cell_type": "code",
   "execution_count": 22,
   "metadata": {
    "collapsed": false
   },
   "outputs": [
    {
     "name": "stdout",
     "output_type": "stream",
     "text": [
      "Starting async featurization...\n",
      "[========================================] 100%\n",
      "Copying hardware_train_candidates_features to postgres\n",
      "COPY 90\n",
      "\n",
      "CPU times: user 264 ms, sys: 256 ms, total: 520 ms\n",
      "Wall time: 2.6 s\n",
      "[========================================] 100%\n",
      "Copying hardware_dev_candidates_features to postgres\n",
      "COPY 23\n",
      "\n",
      "CPU times: user 64 ms, sys: 132 ms, total: 196 ms\n",
      "Wall time: 1.27 s\n",
      "[========================================] 100%\n",
      "Copying hardware_test_candidates_features to postgres\n",
      "COPY 11\n",
      "\n",
      "CPU times: user 72 ms, sys: 132 ms, total: 204 ms\n",
      "Wall time: 1.27 s\n"
     ]
    }
   ],
   "source": [
    "from snorkel.models import CandidateSet\n",
    "from snorkel.utils import get_ORM_instance\n",
    "\n",
    "train = get_ORM_instance(CandidateSet, session, 'Hardware Train Candidates')\n",
    "dev   = get_ORM_instance(CandidateSet, session, 'Hardware Dev Candidates')\n",
    "test  = get_ORM_instance(CandidateSet, session, 'Hardware Test Candidates')\n",
    "\n",
    "if snorkel_postgres:\n",
    "    from snorkel.async_annotations import annotate\n",
    "    print \"Starting async featurization...\"\n",
    "    %time F_train = annotate(train, parallel=PARALLEL, dynamic_scheduling=True)\n",
    "    %time F_dev   = annotate(dev, parallel=PARALLEL, dynamic_scheduling=True,\\\n",
    "                             keyset = 'Hardware Train Candidates')\n",
    "    if TEST_SIZE:\n",
    "        %time F_test = annotate(test, parallel=PARALLEL, dynamic_scheduling=True,\\\n",
    "                                keyset = 'Hardware Train Candidates')\n",
    "    \n",
    "else:\n",
    "    from snorkel.models import CandidateSet\n",
    "    from snorkel.fast_annotations import FeatureManager\n",
    "    from snorkel.utils import get_ORM_instance\n",
    "\n",
    "    print \"Starting sync featurization...\"\n",
    "    feature_manager = FeatureManager()\n",
    "    %time F_train = feature_manager.create(session, train, 'Train Features')\n",
    "    %time F_dev = feature_manager.update(session, dev, 'Train Features', expand_key_set=False)"
   ]
  },
  {
   "cell_type": "code",
   "execution_count": 23,
   "metadata": {
    "collapsed": true
   },
   "outputs": [],
   "source": [
    "# If necessary:\n",
    "if not snorkel_postgres:\n",
    "    import os\n",
    "    os.system('cp snorkel.db snorkel.db\\ featurized');"
   ]
  },
  {
   "cell_type": "markdown",
   "metadata": {},
   "source": [
    "## LFs"
   ]
  },
  {
   "cell_type": "code",
   "execution_count": 24,
   "metadata": {
    "collapsed": false
   },
   "outputs": [],
   "source": [
    "# If necessary\n",
    "# import os\n",
    "# os.remove('snorkel.db');\n",
    "# os.system('cp snorkel.db\\ featurized snorkel.db');\n",
    "\n",
    "# from snorkel import SnorkelSession\n",
    "# session = SnorkelSession()\n",
    "\n",
    "# import sys\n",
    "# sys.path.append(os.environ['SNORKELHOME'] + '/tutorials/tables/')\n",
    "\n",
    "# from snorkel.models import candidate_subclass\n",
    "# Part_Attr = candidate_subclass('Part_Attr', ['part','attr'])\n",
    "\n",
    "# from snorkel.models import CandidateSet\n",
    "# train = session.query(CandidateSet).filter(\n",
    "#     CandidateSet.name == 'Hardware Train Candidates').one()\n",
    "# dev = session.query(CandidateSet).filter(\n",
    "#     CandidateSet.name == 'Hardware Dev Candidates').one()\n",
    "\n",
    "# from snorkel.annotations import FeatureManager, LabelManager\n",
    "# feature_manager = FeatureManager()\n",
    "# %time F_train = feature_manager.load(session, train, 'Train Features')\n",
    "# %time F_dev = feature_manager.load(session, dev, 'Train Features')"
   ]
  },
  {
   "cell_type": "markdown",
   "metadata": {},
   "source": [
    "### Define LFs"
   ]
  },
  {
   "cell_type": "code",
   "execution_count": 25,
   "metadata": {
    "collapsed": false
   },
   "outputs": [],
   "source": [
    "from hardware_lfs import get_lfs\n",
    "\n",
    "LFs = get_lfs(ATTRIBUTE)"
   ]
  },
  {
   "cell_type": "markdown",
   "metadata": {},
   "source": [
    "### Apply LFs"
   ]
  },
  {
   "cell_type": "code",
   "execution_count": 26,
   "metadata": {
    "collapsed": false
   },
   "outputs": [
    {
     "name": "stdout",
     "output_type": "stream",
     "text": [
      "[========================================] 100%\n",
      "Copying hardware_train_candidates_labels to postgres\n",
      "COPY 90\n",
      "\n",
      "CPU times: user 72 ms, sys: 188 ms, total: 260 ms\n",
      "Wall time: 1.28 s\n"
     ]
    },
    {
     "data": {
      "text/plain": [
       "<90x25 sparse matrix of type '<type 'numpy.float32'>'\n",
       "\twith 489 stored elements in Compressed Sparse Row format>"
      ]
     },
     "execution_count": 26,
     "metadata": {},
     "output_type": "execute_result"
    }
   ],
   "source": [
    "if snorkel_postgres:\n",
    "    from snorkel.async_annotations import annotate\n",
    "    %time L_train = annotate(train, parallel=PARALLEL, lfs=LFs, dynamic_scheduling=True)\n",
    "else:\n",
    "    from snorkel.fast_annotations import LabelManager\n",
    "    label_manager = LabelManager()\n",
    "    %time L_train = label_manager.create(session, train, 'LF Labels', f=LFs)\n",
    "L_train"
   ]
  },
  {
   "cell_type": "markdown",
   "metadata": {},
   "source": [
    "### Assess LF accuracy"
   ]
  },
  {
   "cell_type": "code",
   "execution_count": 27,
   "metadata": {
    "collapsed": false
   },
   "outputs": [
    {
     "name": "stdout",
     "output_type": "stream",
     "text": [
      "CPU times: user 8 ms, sys: 0 ns, total: 8 ms\n",
      "Wall time: 7.33 ms\n"
     ]
    },
    {
     "data": {
      "text/html": [
       "<div>\n",
       "<table border=\"1\" class=\"dataframe\">\n",
       "  <thead>\n",
       "    <tr style=\"text-align: right;\">\n",
       "      <th></th>\n",
       "      <th>conflicts</th>\n",
       "      <th>coverage</th>\n",
       "      <th>j</th>\n",
       "      <th>overlaps</th>\n",
       "    </tr>\n",
       "  </thead>\n",
       "  <tbody>\n",
       "    <tr>\n",
       "      <th>LF_current_aligned</th>\n",
       "      <td>0.000000</td>\n",
       "      <td>0.000000</td>\n",
       "      <td>0</td>\n",
       "      <td>0.000000</td>\n",
       "    </tr>\n",
       "    <tr>\n",
       "      <th>LF_tstg_row</th>\n",
       "      <td>0.733333</td>\n",
       "      <td>0.733333</td>\n",
       "      <td>1</td>\n",
       "      <td>0.733333</td>\n",
       "    </tr>\n",
       "    <tr>\n",
       "      <th>LF_part_complement</th>\n",
       "      <td>0.000000</td>\n",
       "      <td>0.000000</td>\n",
       "      <td>2</td>\n",
       "      <td>0.000000</td>\n",
       "    </tr>\n",
       "    <tr>\n",
       "      <th>LF_positive_number_right</th>\n",
       "      <td>0.000000</td>\n",
       "      <td>0.000000</td>\n",
       "      <td>3</td>\n",
       "      <td>0.000000</td>\n",
       "    </tr>\n",
       "    <tr>\n",
       "      <th>LF_typ_row</th>\n",
       "      <td>0.000000</td>\n",
       "      <td>0.000000</td>\n",
       "      <td>4</td>\n",
       "      <td>0.000000</td>\n",
       "    </tr>\n",
       "    <tr>\n",
       "      <th>LF_voltage_row_part</th>\n",
       "      <td>0.000000</td>\n",
       "      <td>0.000000</td>\n",
       "      <td>5</td>\n",
       "      <td>0.000000</td>\n",
       "    </tr>\n",
       "    <tr>\n",
       "      <th>LF_collector_aligned</th>\n",
       "      <td>0.000000</td>\n",
       "      <td>0.000000</td>\n",
       "      <td>6</td>\n",
       "      <td>0.000000</td>\n",
       "    </tr>\n",
       "    <tr>\n",
       "      <th>LF_replacement_table</th>\n",
       "      <td>0.000000</td>\n",
       "      <td>0.000000</td>\n",
       "      <td>7</td>\n",
       "      <td>0.000000</td>\n",
       "    </tr>\n",
       "    <tr>\n",
       "      <th>LF_part_num_in_high_col_num</th>\n",
       "      <td>0.000000</td>\n",
       "      <td>0.000000</td>\n",
       "      <td>8</td>\n",
       "      <td>0.000000</td>\n",
       "    </tr>\n",
       "    <tr>\n",
       "      <th>LF_not_temp_relevant</th>\n",
       "      <td>0.022222</td>\n",
       "      <td>0.266667</td>\n",
       "      <td>9</td>\n",
       "      <td>0.266667</td>\n",
       "    </tr>\n",
       "    <tr>\n",
       "      <th>LF_voltage_row_temp</th>\n",
       "      <td>0.000000</td>\n",
       "      <td>0.000000</td>\n",
       "      <td>10</td>\n",
       "      <td>0.000000</td>\n",
       "    </tr>\n",
       "    <tr>\n",
       "      <th>LF_operating_row</th>\n",
       "      <td>0.733333</td>\n",
       "      <td>0.733333</td>\n",
       "      <td>11</td>\n",
       "      <td>0.733333</td>\n",
       "    </tr>\n",
       "    <tr>\n",
       "      <th>LF_please_to_left</th>\n",
       "      <td>0.000000</td>\n",
       "      <td>0.000000</td>\n",
       "      <td>12</td>\n",
       "      <td>0.000000</td>\n",
       "    </tr>\n",
       "    <tr>\n",
       "      <th>LF_test_condition_aligned</th>\n",
       "      <td>0.000000</td>\n",
       "      <td>0.000000</td>\n",
       "      <td>13</td>\n",
       "      <td>0.000000</td>\n",
       "    </tr>\n",
       "    <tr>\n",
       "      <th>LF_temp_outside_table</th>\n",
       "      <td>0.755556</td>\n",
       "      <td>1.000000</td>\n",
       "      <td>14</td>\n",
       "      <td>1.000000</td>\n",
       "    </tr>\n",
       "    <tr>\n",
       "      <th>LF_to_right</th>\n",
       "      <td>0.733333</td>\n",
       "      <td>0.733333</td>\n",
       "      <td>15</td>\n",
       "      <td>0.733333</td>\n",
       "    </tr>\n",
       "    <tr>\n",
       "      <th>LF_too_many_numbers_row</th>\n",
       "      <td>0.000000</td>\n",
       "      <td>0.000000</td>\n",
       "      <td>16</td>\n",
       "      <td>0.000000</td>\n",
       "    </tr>\n",
       "    <tr>\n",
       "      <th>LF_many_p_siblings</th>\n",
       "      <td>0.033333</td>\n",
       "      <td>0.033333</td>\n",
       "      <td>17</td>\n",
       "      <td>0.033333</td>\n",
       "    </tr>\n",
       "    <tr>\n",
       "      <th>LF_part_in_header_tag</th>\n",
       "      <td>0.200000</td>\n",
       "      <td>0.200000</td>\n",
       "      <td>18</td>\n",
       "      <td>0.200000</td>\n",
       "    </tr>\n",
       "    <tr>\n",
       "      <th>LF_temp_on_high_page_num</th>\n",
       "      <td>0.022222</td>\n",
       "      <td>0.266667</td>\n",
       "      <td>19</td>\n",
       "      <td>0.266667</td>\n",
       "    </tr>\n",
       "    <tr>\n",
       "      <th>LF_cheating_with_another_part</th>\n",
       "      <td>0.000000</td>\n",
       "      <td>0.000000</td>\n",
       "      <td>20</td>\n",
       "      <td>0.000000</td>\n",
       "    </tr>\n",
       "    <tr>\n",
       "      <th>LF_complement_left_row</th>\n",
       "      <td>0.000000</td>\n",
       "      <td>0.000000</td>\n",
       "      <td>21</td>\n",
       "      <td>0.000000</td>\n",
       "    </tr>\n",
       "    <tr>\n",
       "      <th>LF_temperature_row</th>\n",
       "      <td>0.733333</td>\n",
       "      <td>0.733333</td>\n",
       "      <td>22</td>\n",
       "      <td>0.733333</td>\n",
       "    </tr>\n",
       "    <tr>\n",
       "      <th>LF_storage_row</th>\n",
       "      <td>0.733333</td>\n",
       "      <td>0.733333</td>\n",
       "      <td>23</td>\n",
       "      <td>0.733333</td>\n",
       "    </tr>\n",
       "    <tr>\n",
       "      <th>LF_other_minus_signs_in_row</th>\n",
       "      <td>0.000000</td>\n",
       "      <td>0.000000</td>\n",
       "      <td>24</td>\n",
       "      <td>0.000000</td>\n",
       "    </tr>\n",
       "  </tbody>\n",
       "</table>\n",
       "</div>"
      ],
      "text/plain": [
       "                               conflicts  coverage   j  overlaps\n",
       "LF_current_aligned              0.000000  0.000000   0  0.000000\n",
       "LF_tstg_row                     0.733333  0.733333   1  0.733333\n",
       "LF_part_complement              0.000000  0.000000   2  0.000000\n",
       "LF_positive_number_right        0.000000  0.000000   3  0.000000\n",
       "LF_typ_row                      0.000000  0.000000   4  0.000000\n",
       "LF_voltage_row_part             0.000000  0.000000   5  0.000000\n",
       "LF_collector_aligned            0.000000  0.000000   6  0.000000\n",
       "LF_replacement_table            0.000000  0.000000   7  0.000000\n",
       "LF_part_num_in_high_col_num     0.000000  0.000000   8  0.000000\n",
       "LF_not_temp_relevant            0.022222  0.266667   9  0.266667\n",
       "LF_voltage_row_temp             0.000000  0.000000  10  0.000000\n",
       "LF_operating_row                0.733333  0.733333  11  0.733333\n",
       "LF_please_to_left               0.000000  0.000000  12  0.000000\n",
       "LF_test_condition_aligned       0.000000  0.000000  13  0.000000\n",
       "LF_temp_outside_table           0.755556  1.000000  14  1.000000\n",
       "LF_to_right                     0.733333  0.733333  15  0.733333\n",
       "LF_too_many_numbers_row         0.000000  0.000000  16  0.000000\n",
       "LF_many_p_siblings              0.033333  0.033333  17  0.033333\n",
       "LF_part_in_header_tag           0.200000  0.200000  18  0.200000\n",
       "LF_temp_on_high_page_num        0.022222  0.266667  19  0.266667\n",
       "LF_cheating_with_another_part   0.000000  0.000000  20  0.000000\n",
       "LF_complement_left_row          0.000000  0.000000  21  0.000000\n",
       "LF_temperature_row              0.733333  0.733333  22  0.733333\n",
       "LF_storage_row                  0.733333  0.733333  23  0.733333\n",
       "LF_other_minus_signs_in_row     0.000000  0.000000  24  0.000000"
      ]
     },
     "execution_count": 27,
     "metadata": {},
     "output_type": "execute_result"
    }
   ],
   "source": [
    "%time L_train.lf_stats()"
   ]
  },
  {
   "cell_type": "code",
   "execution_count": 28,
   "metadata": {
    "collapsed": true
   },
   "outputs": [],
   "source": [
    "# If necessary\n",
    "if not snorkel_postgres:\n",
    "    import os\n",
    "    os.system('cp snorkel.db snorkel.db\\ features');"
   ]
  },
  {
   "cell_type": "markdown",
   "metadata": {},
   "source": [
    "## Learn and Evaluate"
   ]
  },
  {
   "cell_type": "code",
   "execution_count": 29,
   "metadata": {
    "collapsed": false
   },
   "outputs": [],
   "source": [
    "# If necessary:\n",
    "# import os\n",
    "# os.remove('snorkel.db');\n",
    "# os.system('cp snorkel.db\\ features snorkel.db');\n",
    "\n",
    "# from snorkel import SnorkelSession\n",
    "# session = SnorkelSession()\n",
    "\n",
    "# import sys\n",
    "# sys.path.append(os.environ['SNORKELHOME'] + '/tutorials/tables/')\n",
    "\n",
    "# from snorkel.models import candidate_subclass\n",
    "# Part_Attr = candidate_subclass('Part_Attr', ['part','attr'])\n",
    "\n",
    "# from snorkel.models import CandidateSet\n",
    "# train = session.query(CandidateSet).filter(\n",
    "#     CandidateSet.name == 'Hardware Training Candidates').one()\n",
    "# dev = session.query(CandidateSet).filter(\n",
    "#     CandidateSet.name == 'Hardware Development Candidates').one()\n",
    "\n",
    "# from snorkel.annotations import FeatureManager, LabelManager\n",
    "# feature_manager = FeatureManager()\n",
    "# %time F_train = feature_manager.load(session, train, 'Train Features')\n",
    "# %time F_dev = feature_manager.load(session, dev, 'Train Features')\n",
    "\n",
    "# label_manager = LabelManager()\n",
    "# %time L_train = label_manager.load(session, train, 'LF Labels')"
   ]
  },
  {
   "cell_type": "code",
   "execution_count": 30,
   "metadata": {
    "collapsed": false,
    "scrolled": true
   },
   "outputs": [
    {
     "name": "stderr",
     "output_type": "stream",
     "text": [
      "/usr/lib/pymodules/python2.7/matplotlib/__init__.py:1173: UserWarning:  This call to matplotlib.use() has no effect\n",
      "because the backend has already been chosen;\n",
      "matplotlib.use() must be called *before* pylab, matplotlib.pyplot,\n",
      "or matplotlib.backends is imported for the first time.\n",
      "\n",
      "  warnings.warn(_use_error_msg)\n"
     ]
    },
    {
     "name": "stdout",
     "output_type": "stream",
     "text": [
      "================================================================================\n",
      "Training marginals (!= 0.5):\t90\n",
      "Features:\t\t\t25\n",
      "================================================================================\n",
      "Begin training for rate=0.001, mu=1e-06\n",
      "\tLearning epoch = 0\tGradient mag. = 0.977811\n",
      "\tLearning epoch = 250\tGradient mag. = 1.180665\n",
      "\tLearning epoch = 500\tGradient mag. = 1.357664\n",
      "\tLearning epoch = 750\tGradient mag. = 1.563310\n",
      "\tLearning epoch = 1000\tGradient mag. = 1.801089\n",
      "\tLearning epoch = 1250\tGradient mag. = 2.075014\n",
      "\tLearning epoch = 1500\tGradient mag. = 2.389756\n",
      "\tLearning epoch = 1750\tGradient mag. = 2.340091\n",
      "\tLearning epoch = 2000\tGradient mag. = 2.262286\n",
      "\tLearning epoch = 2250\tGradient mag. = 2.187094\n",
      "\tLearning epoch = 2500\tGradient mag. = 2.114425\n",
      "\tLearning epoch = 2750\tGradient mag. = 2.044196\n",
      "\tLearning epoch = 3000\tGradient mag. = 1.976324\n",
      "\tLearning epoch = 3250\tGradient mag. = 1.910729\n",
      "\tLearning epoch = 3500\tGradient mag. = 1.847334\n",
      "\tLearning epoch = 3750\tGradient mag. = 1.786076\n",
      "\tLearning epoch = 4000\tGradient mag. = 1.726872\n",
      "\tLearning epoch = 4250\tGradient mag. = 1.669653\n",
      "\tLearning epoch = 4500\tGradient mag. = 1.614352\n",
      "\tLearning epoch = 4750\tGradient mag. = 1.560905\n",
      "\tLearning epoch = 5000\tGradient mag. = 1.509248\n",
      "\tLearning epoch = 5250\tGradient mag. = 1.459323\n",
      "\tLearning epoch = 5500\tGradient mag. = 1.411070\n",
      "\tLearning epoch = 5750\tGradient mag. = 1.364434\n",
      "\tLearning epoch = 6000\tGradient mag. = 1.319360\n",
      "\tLearning epoch = 6250\tGradient mag. = 1.275796\n",
      "\tLearning epoch = 6500\tGradient mag. = 1.233690\n",
      "\tLearning epoch = 6750\tGradient mag. = 1.192995\n",
      "\tLearning epoch = 7000\tGradient mag. = 1.153663\n",
      "\tLearning epoch = 7250\tGradient mag. = 1.115648\n",
      "\tLearning epoch = 7500\tGradient mag. = 1.078906\n",
      "\tLearning epoch = 7750\tGradient mag. = 1.043394\n",
      "\tLearning epoch = 8000\tGradient mag. = 1.009071\n",
      "\tLearning epoch = 8250\tGradient mag. = 0.975898\n",
      "\tLearning epoch = 8500\tGradient mag. = 0.943835\n",
      "\tLearning epoch = 8750\tGradient mag. = 0.912846\n",
      "\tLearning epoch = 9000\tGradient mag. = 0.882894\n",
      "\tLearning epoch = 9250\tGradient mag. = 0.853945\n",
      "\tLearning epoch = 9500\tGradient mag. = 0.825966\n",
      "\tLearning epoch = 9750\tGradient mag. = 0.798923\n",
      "\tLearning epoch = 10000\tGradient mag. = 0.772787\n",
      "\tLearning epoch = 10250\tGradient mag. = 0.747525\n",
      "\tLearning epoch = 10500\tGradient mag. = 0.723110\n",
      "\tLearning epoch = 10750\tGradient mag. = 0.699513\n",
      "\tLearning epoch = 11000\tGradient mag. = 0.676706\n",
      "\tLearning epoch = 11250\tGradient mag. = 0.654663\n",
      "\tLearning epoch = 11500\tGradient mag. = 0.633359\n",
      "\tLearning epoch = 11750\tGradient mag. = 0.612769\n",
      "\tLearning epoch = 12000\tGradient mag. = 0.592869\n",
      "\tLearning epoch = 12250\tGradient mag. = 0.573636\n",
      "\tLearning epoch = 12500\tGradient mag. = 0.555049\n",
      "\tLearning epoch = 12750\tGradient mag. = 0.537084\n",
      "\tLearning epoch = 13000\tGradient mag. = 0.519723\n",
      "\tLearning epoch = 13250\tGradient mag. = 0.502944\n",
      "\tLearning epoch = 13500\tGradient mag. = 0.486729\n",
      "\tLearning epoch = 13750\tGradient mag. = 0.471058\n",
      "\tLearning epoch = 14000\tGradient mag. = 0.455913\n",
      "\tLearning epoch = 14250\tGradient mag. = 0.441278\n",
      "\tLearning epoch = 14500\tGradient mag. = 0.427134\n",
      "\tLearning epoch = 14750\tGradient mag. = 0.413467\n",
      "\tLearning epoch = 15000\tGradient mag. = 0.400259\n",
      "\tLearning epoch = 15250\tGradient mag. = 0.387496\n",
      "\tLearning epoch = 15500\tGradient mag. = 0.375164\n",
      "\tLearning epoch = 15750\tGradient mag. = 0.363247\n",
      "\tLearning epoch = 16000\tGradient mag. = 0.351732\n",
      "\tLearning epoch = 16250\tGradient mag. = 0.340606\n",
      "\tLearning epoch = 16500\tGradient mag. = 0.329856\n",
      "\tLearning epoch = 16750\tGradient mag. = 0.319469\n",
      "\tLearning epoch = 17000\tGradient mag. = 0.309434\n",
      "\tLearning epoch = 17250\tGradient mag. = 0.299739\n",
      "\tLearning epoch = 17500\tGradient mag. = 0.290374\n",
      "\tLearning epoch = 17750\tGradient mag. = 0.281326\n",
      "\tLearning epoch = 18000\tGradient mag. = 0.272586\n",
      "\tLearning epoch = 18250\tGradient mag. = 0.264144\n",
      "\tLearning epoch = 18500\tGradient mag. = 0.255989\n",
      "\tLearning epoch = 18750\tGradient mag. = 0.248114\n",
      "\tLearning epoch = 19000\tGradient mag. = 0.240508\n",
      "\tLearning epoch = 19250\tGradient mag. = 0.233162\n",
      "\tLearning epoch = 19500\tGradient mag. = 0.226069\n",
      "\tLearning epoch = 19750\tGradient mag. = 0.219221\n",
      "\tLearning epoch = 20000\tGradient mag. = 0.212609\n",
      "\tLearning epoch = 20250\tGradient mag. = 0.206225\n",
      "\tLearning epoch = 20500\tGradient mag. = 0.200063\n",
      "\tLearning epoch = 20750\tGradient mag. = 0.194116\n",
      "\tLearning epoch = 21000\tGradient mag. = 0.188376\n",
      "\tLearning epoch = 21250\tGradient mag. = 0.182837\n",
      "\tLearning epoch = 21500\tGradient mag. = 0.177493\n",
      "\tLearning epoch = 21750\tGradient mag. = 0.172337\n",
      "\tLearning epoch = 22000\tGradient mag. = 0.167364\n",
      "\tLearning epoch = 22250\tGradient mag. = 0.162568\n",
      "\tLearning epoch = 22500\tGradient mag. = 0.157944\n",
      "\tLearning epoch = 22750\tGradient mag. = 0.153486\n",
      "\tLearning epoch = 23000\tGradient mag. = 0.149189\n",
      "\tLearning epoch = 23250\tGradient mag. = 0.145049\n",
      "\tLearning epoch = 23500\tGradient mag. = 0.141059\n",
      "\tLearning epoch = 23750\tGradient mag. = 0.137217\n",
      "\tLearning epoch = 24000\tGradient mag. = 0.133518\n",
      "\tLearning epoch = 24250\tGradient mag. = 0.129956\n",
      "\tLearning epoch = 24500\tGradient mag. = 0.126529\n",
      "\tLearning epoch = 24750\tGradient mag. = 0.123233\n",
      "\tLearning epoch = 25000\tGradient mag. = 0.120063\n",
      "\tLearning epoch = 25250\tGradient mag. = 0.117015\n",
      "\tLearning epoch = 25500\tGradient mag. = 0.114087\n",
      "\tLearning epoch = 25750\tGradient mag. = 0.111276\n",
      "\tLearning epoch = 26000\tGradient mag. = 0.108576\n",
      "\tLearning epoch = 26250\tGradient mag. = 0.105986\n",
      "\tLearning epoch = 26500\tGradient mag. = 0.103503\n",
      "\tLearning epoch = 26750\tGradient mag. = 0.101124\n",
      "\tLearning epoch = 27000\tGradient mag. = 0.098844\n",
      "\tLearning epoch = 27250\tGradient mag. = 0.096663\n",
      "\tLearning epoch = 27500\tGradient mag. = 0.094578\n",
      "\tLearning epoch = 27750\tGradient mag. = 0.092585\n",
      "\tLearning epoch = 28000\tGradient mag. = 0.090682\n",
      "\tLearning epoch = 28250\tGradient mag. = 0.088867\n",
      "\tLearning epoch = 28500\tGradient mag. = 0.087138\n",
      "\tLearning epoch = 28750\tGradient mag. = 0.085491\n",
      "\tLearning epoch = 29000\tGradient mag. = 0.083926\n",
      "\tLearning epoch = 29250\tGradient mag. = 0.082440\n",
      "\tLearning epoch = 29500\tGradient mag. = 0.081031\n",
      "\tLearning epoch = 29750\tGradient mag. = 0.079696\n",
      "\tLearning epoch = 30000\tGradient mag. = 0.078434\n",
      "\tLearning epoch = 30250\tGradient mag. = 0.077243\n",
      "\tLearning epoch = 30500\tGradient mag. = 0.076121\n",
      "\tLearning epoch = 30750\tGradient mag. = 0.075066\n",
      "\tLearning epoch = 31000\tGradient mag. = 0.074077\n",
      "\tLearning epoch = 31250\tGradient mag. = 0.073150\n",
      "\tLearning epoch = 31500\tGradient mag. = 0.072286\n",
      "\tLearning epoch = 31750\tGradient mag. = 0.071482\n",
      "\tLearning epoch = 32000\tGradient mag. = 0.070735\n",
      "\tLearning epoch = 32250\tGradient mag. = 0.070046\n",
      "\tLearning epoch = 32500\tGradient mag. = 0.069412\n",
      "\tLearning epoch = 32750\tGradient mag. = 0.068831\n",
      "\tLearning epoch = 33000\tGradient mag. = 0.068302\n",
      "\tLearning epoch = 33250\tGradient mag. = 0.067824\n",
      "\tLearning epoch = 33500\tGradient mag. = 0.067394\n",
      "\tLearning epoch = 33750\tGradient mag. = 0.067012\n",
      "\tLearning epoch = 34000\tGradient mag. = 0.066676\n",
      "\tLearning epoch = 34250\tGradient mag. = 0.066385\n",
      "\tLearning epoch = 34500\tGradient mag. = 0.066137\n",
      "\tLearning epoch = 34750\tGradient mag. = 0.065930\n",
      "\tLearning epoch = 35000\tGradient mag. = 0.065765\n",
      "\tLearning epoch = 35250\tGradient mag. = 0.065638\n",
      "\tLearning epoch = 35500\tGradient mag. = 0.065550\n",
      "\tLearning epoch = 35750\tGradient mag. = 0.065499\n",
      "\tLearning epoch = 36000\tGradient mag. = 0.065483\n",
      "\tLearning epoch = 36250\tGradient mag. = 0.065502\n",
      "\tLearning epoch = 36500\tGradient mag. = 0.065555\n",
      "\tLearning epoch = 36750\tGradient mag. = 0.065640\n",
      "\tLearning epoch = 37000\tGradient mag. = 0.065757\n",
      "\tLearning epoch = 37250\tGradient mag. = 0.065904\n",
      "\tLearning epoch = 37500\tGradient mag. = 0.066081\n",
      "\tLearning epoch = 37750\tGradient mag. = 0.066287\n",
      "\tLearning epoch = 38000\tGradient mag. = 0.066520\n",
      "\tLearning epoch = 38250\tGradient mag. = 0.066780\n",
      "\tLearning epoch = 38500\tGradient mag. = 0.067067\n",
      "\tLearning epoch = 38750\tGradient mag. = 0.067380\n",
      "\tLearning epoch = 39000\tGradient mag. = 0.067717\n",
      "\tLearning epoch = 39250\tGradient mag. = 0.068078\n",
      "\tLearning epoch = 39500\tGradient mag. = 0.068463\n",
      "\tLearning epoch = 39750\tGradient mag. = 0.068871\n",
      "\tLearning epoch = 40000\tGradient mag. = 0.069301\n",
      "\tLearning epoch = 40250\tGradient mag. = 0.069753\n",
      "\tLearning epoch = 40500\tGradient mag. = 0.070226\n",
      "\tLearning epoch = 40750\tGradient mag. = 0.070720\n",
      "\tLearning epoch = 41000\tGradient mag. = 0.071235\n",
      "\tLearning epoch = 41250\tGradient mag. = 0.071770\n",
      "\tLearning epoch = 41500\tGradient mag. = 0.072324\n",
      "\tLearning epoch = 41750\tGradient mag. = 0.072897\n",
      "\tLearning epoch = 42000\tGradient mag. = 0.073489\n",
      "\tLearning epoch = 42250\tGradient mag. = 0.074100\n",
      "\tLearning epoch = 42500\tGradient mag. = 0.074729\n",
      "\tLearning epoch = 42750\tGradient mag. = 0.075376\n",
      "\tLearning epoch = 43000\tGradient mag. = 0.076041\n",
      "\tLearning epoch = 43250\tGradient mag. = 0.076723\n",
      "\tLearning epoch = 43500\tGradient mag. = 0.077423\n",
      "\tLearning epoch = 43750\tGradient mag. = 0.078140\n",
      "\tLearning epoch = 44000\tGradient mag. = 0.078873\n",
      "\tLearning epoch = 44250\tGradient mag. = 0.079624\n",
      "\tLearning epoch = 44500\tGradient mag. = 0.080391\n",
      "\tLearning epoch = 44750\tGradient mag. = 0.081174\n",
      "\tLearning epoch = 45000\tGradient mag. = 0.081974\n",
      "\tLearning epoch = 45250\tGradient mag. = 0.082790\n",
      "\tLearning epoch = 45500\tGradient mag. = 0.083623\n",
      "\tLearning epoch = 45750\tGradient mag. = 0.084471\n",
      "\tLearning epoch = 46000\tGradient mag. = 0.085336\n",
      "\tLearning epoch = 46250\tGradient mag. = 0.086216\n",
      "\tLearning epoch = 46500\tGradient mag. = 0.087113\n",
      "\tLearning epoch = 46750\tGradient mag. = 0.088025\n",
      "\tLearning epoch = 47000\tGradient mag. = 0.088954\n",
      "\tLearning epoch = 47250\tGradient mag. = 0.089898\n",
      "\tLearning epoch = 47500\tGradient mag. = 0.090858\n",
      "\tLearning epoch = 47750\tGradient mag. = 0.091834\n",
      "\tLearning epoch = 48000\tGradient mag. = 0.092826\n",
      "\tLearning epoch = 48250\tGradient mag. = 0.093835\n",
      "\tLearning epoch = 48500\tGradient mag. = 0.094859\n",
      "\tLearning epoch = 48750\tGradient mag. = 0.095899\n",
      "\tLearning epoch = 49000\tGradient mag. = 0.096955\n",
      "\tLearning epoch = 49250\tGradient mag. = 0.098027\n",
      "\tLearning epoch = 49500\tGradient mag. = 0.099116\n",
      "\tLearning epoch = 49750\tGradient mag. = 0.100221\n",
      "\tLearning epoch = 50000\tGradient mag. = 0.101342\n",
      "\tLearning epoch = 50250\tGradient mag. = 0.102480\n",
      "\tLearning epoch = 50500\tGradient mag. = 0.103634\n",
      "\tLearning epoch = 50750\tGradient mag. = 0.104805\n",
      "\tLearning epoch = 51000\tGradient mag. = 0.105992\n",
      "\tLearning epoch = 51250\tGradient mag. = 0.107197\n",
      "\tLearning epoch = 51500\tGradient mag. = 0.108418\n",
      "\tLearning epoch = 51750\tGradient mag. = 0.109656\n",
      "\tLearning epoch = 52000\tGradient mag. = 0.110912\n",
      "\tLearning epoch = 52250\tGradient mag. = 0.112185\n",
      "\tLearning epoch = 52500\tGradient mag. = 0.113475\n",
      "\tLearning epoch = 52750\tGradient mag. = 0.114783\n",
      "\tLearning epoch = 53000\tGradient mag. = 0.116108\n",
      "\tLearning epoch = 53250\tGradient mag. = 0.117451\n",
      "\tLearning epoch = 53500\tGradient mag. = 0.118813\n",
      "\tLearning epoch = 53750\tGradient mag. = 0.120192\n",
      "\tLearning epoch = 54000\tGradient mag. = 0.121590\n",
      "\tLearning epoch = 54250\tGradient mag. = 0.123006\n",
      "\tLearning epoch = 54500\tGradient mag. = 0.124441\n",
      "\tLearning epoch = 54750\tGradient mag. = 0.125894\n",
      "\tLearning epoch = 55000\tGradient mag. = 0.127367\n",
      "\tLearning epoch = 55250\tGradient mag. = 0.128858\n",
      "\tLearning epoch = 55500\tGradient mag. = 0.130369\n",
      "\tLearning epoch = 55750\tGradient mag. = 0.131900\n",
      "\tLearning epoch = 56000\tGradient mag. = 0.133450\n",
      "\tLearning epoch = 56250\tGradient mag. = 0.135020\n",
      "\tLearning epoch = 56500\tGradient mag. = 0.136610\n",
      "\tLearning epoch = 56750\tGradient mag. = 0.138220\n",
      "\tLearning epoch = 57000\tGradient mag. = 0.139851\n",
      "\tLearning epoch = 57250\tGradient mag. = 0.141502\n",
      "\tLearning epoch = 57500\tGradient mag. = 0.143174\n",
      "\tLearning epoch = 57750\tGradient mag. = 0.144868\n",
      "\tLearning epoch = 58000\tGradient mag. = 0.146583\n",
      "\tLearning epoch = 58250\tGradient mag. = 0.148319\n",
      "\tLearning epoch = 58500\tGradient mag. = 0.150077\n",
      "\tLearning epoch = 58750\tGradient mag. = 0.151857\n",
      "\tLearning epoch = 59000\tGradient mag. = 0.153659\n",
      "\tLearning epoch = 59250\tGradient mag. = 0.155484\n",
      "\tLearning epoch = 59500\tGradient mag. = 0.157331\n",
      "\tLearning epoch = 59750\tGradient mag. = 0.159202\n",
      "\tLearning epoch = 60000\tGradient mag. = 0.161095\n",
      "\tLearning epoch = 60250\tGradient mag. = 0.163012\n",
      "\tLearning epoch = 60500\tGradient mag. = 0.164953\n",
      "\tLearning epoch = 60750\tGradient mag. = 0.166918\n",
      "\tLearning epoch = 61000\tGradient mag. = 0.168907\n",
      "\tLearning epoch = 61250\tGradient mag. = 0.170921\n",
      "\tLearning epoch = 61500\tGradient mag. = 0.172959\n",
      "\tLearning epoch = 61750\tGradient mag. = 0.175023\n",
      "\tLearning epoch = 62000\tGradient mag. = 0.177112\n",
      "\tLearning epoch = 62250\tGradient mag. = 0.179227\n",
      "\tLearning epoch = 62500\tGradient mag. = 0.181367\n",
      "\tLearning epoch = 62750\tGradient mag. = 0.183534\n",
      "\tLearning epoch = 63000\tGradient mag. = 0.185728\n",
      "\tLearning epoch = 63250\tGradient mag. = 0.187948\n",
      "\tLearning epoch = 63500\tGradient mag. = 0.190196\n",
      "\tLearning epoch = 63750\tGradient mag. = 0.192471\n",
      "\tLearning epoch = 64000\tGradient mag. = 0.194774\n",
      "\tLearning epoch = 64250\tGradient mag. = 0.197105\n",
      "\tLearning epoch = 64500\tGradient mag. = 0.199465\n",
      "\tLearning epoch = 64750\tGradient mag. = 0.201853\n",
      "\tLearning epoch = 65000\tGradient mag. = 0.204271\n",
      "\tLearning epoch = 65250\tGradient mag. = 0.206718\n",
      "\tLearning epoch = 65500\tGradient mag. = 0.209195\n",
      "\tLearning epoch = 65750\tGradient mag. = 0.211703\n",
      "\tLearning epoch = 66000\tGradient mag. = 0.214241\n",
      "\tLearning epoch = 66250\tGradient mag. = 0.216810\n",
      "\tLearning epoch = 66500\tGradient mag. = 0.219410\n",
      "\tLearning epoch = 66750\tGradient mag. = 0.222042\n",
      "\tLearning epoch = 67000\tGradient mag. = 0.224706\n",
      "\tLearning epoch = 67250\tGradient mag. = 0.227403\n",
      "\tLearning epoch = 67500\tGradient mag. = 0.230132\n",
      "\tLearning epoch = 67750\tGradient mag. = 0.232895\n",
      "\tLearning epoch = 68000\tGradient mag. = 0.235692\n",
      "\tLearning epoch = 68250\tGradient mag. = 0.238522\n",
      "\tLearning epoch = 68500\tGradient mag. = 0.241387\n",
      "\tLearning epoch = 68750\tGradient mag. = 0.244287\n",
      "\tLearning epoch = 69000\tGradient mag. = 0.247223\n",
      "\tLearning epoch = 69250\tGradient mag. = 0.250194\n",
      "\tLearning epoch = 69500\tGradient mag. = 0.253201\n",
      "\tLearning epoch = 69750\tGradient mag. = 0.256246\n",
      "\tLearning epoch = 70000\tGradient mag. = 0.259327\n",
      "\tLearning epoch = 70250\tGradient mag. = 0.262445\n",
      "\tLearning epoch = 70500\tGradient mag. = 0.265602\n",
      "\tLearning epoch = 70750\tGradient mag. = 0.268797\n",
      "\tLearning epoch = 71000\tGradient mag. = 0.272032\n",
      "\tLearning epoch = 71250\tGradient mag. = 0.275305\n",
      "\tLearning epoch = 71500\tGradient mag. = 0.278619\n",
      "\tLearning epoch = 71750\tGradient mag. = 0.281973\n",
      "\tLearning epoch = 72000\tGradient mag. = 0.285368\n",
      "\tLearning epoch = 72250\tGradient mag. = 0.288804\n",
      "\tLearning epoch = 72500\tGradient mag. = 0.292282\n",
      "\tLearning epoch = 72750\tGradient mag. = 0.295803\n",
      "\tLearning epoch = 73000\tGradient mag. = 0.298264\n",
      "\tLearning epoch = 73250\tGradient mag. = 0.294702\n",
      "\tLearning epoch = 73500\tGradient mag. = 0.291184\n",
      "\tLearning epoch = 73750\tGradient mag. = 0.287709\n",
      "\tLearning epoch = 74000\tGradient mag. = 0.284277\n",
      "\tLearning epoch = 74250\tGradient mag. = 0.280888\n",
      "\tLearning epoch = 74500\tGradient mag. = 0.277540\n",
      "\tLearning epoch = 74750\tGradient mag. = 0.274234\n",
      "\tLearning epoch = 75000\tGradient mag. = 0.270969\n",
      "\tLearning epoch = 75250\tGradient mag. = 0.267744\n",
      "\tLearning epoch = 75500\tGradient mag. = 0.264558\n",
      "\tLearning epoch = 75750\tGradient mag. = 0.261413\n",
      "\tLearning epoch = 76000\tGradient mag. = 0.258306\n",
      "\tLearning epoch = 76250\tGradient mag. = 0.255237\n",
      "\tLearning epoch = 76500\tGradient mag. = 0.252206\n",
      "\tLearning epoch = 76750\tGradient mag. = 0.249213\n",
      "\tLearning epoch = 77000\tGradient mag. = 0.246257\n",
      "\tLearning epoch = 77250\tGradient mag. = 0.243337\n",
      "\tLearning epoch = 77500\tGradient mag. = 0.240454\n",
      "\tLearning epoch = 77750\tGradient mag. = 0.237606\n",
      "\tLearning epoch = 78000\tGradient mag. = 0.234793\n",
      "\tLearning epoch = 78250\tGradient mag. = 0.232015\n",
      "\tLearning epoch = 78500\tGradient mag. = 0.229271\n",
      "\tLearning epoch = 78750\tGradient mag. = 0.226561\n",
      "\tLearning epoch = 79000\tGradient mag. = 0.223885\n",
      "\tLearning epoch = 79250\tGradient mag. = 0.221242\n",
      "\tLearning epoch = 79500\tGradient mag. = 0.218632\n",
      "\tLearning epoch = 79750\tGradient mag. = 0.216054\n",
      "\tLearning epoch = 80000\tGradient mag. = 0.213507\n",
      "\tLearning epoch = 80250\tGradient mag. = 0.210993\n",
      "\tLearning epoch = 80500\tGradient mag. = 0.208509\n",
      "\tLearning epoch = 80750\tGradient mag. = 0.206056\n",
      "\tLearning epoch = 81000\tGradient mag. = 0.203633\n",
      "\tLearning epoch = 81250\tGradient mag. = 0.201241\n",
      "\tLearning epoch = 81500\tGradient mag. = 0.198878\n",
      "\tLearning epoch = 81750\tGradient mag. = 0.196544\n",
      "\tLearning epoch = 82000\tGradient mag. = 0.194239\n",
      "\tLearning epoch = 82250\tGradient mag. = 0.191963\n",
      "\tLearning epoch = 82500\tGradient mag. = 0.189715\n",
      "\tLearning epoch = 82750\tGradient mag. = 0.187495\n",
      "\tLearning epoch = 83000\tGradient mag. = 0.185302\n",
      "\tLearning epoch = 83250\tGradient mag. = 0.183136\n",
      "\tLearning epoch = 83500\tGradient mag. = 0.180998\n",
      "\tLearning epoch = 83750\tGradient mag. = 0.178885\n",
      "\tLearning epoch = 84000\tGradient mag. = 0.176799\n",
      "\tLearning epoch = 84250\tGradient mag. = 0.174739\n",
      "\tLearning epoch = 84500\tGradient mag. = 0.172704\n",
      "\tLearning epoch = 84750\tGradient mag. = 0.170695\n",
      "\tLearning epoch = 85000\tGradient mag. = 0.168710\n",
      "\tLearning epoch = 85250\tGradient mag. = 0.166751\n",
      "\tLearning epoch = 85500\tGradient mag. = 0.164815\n",
      "\tLearning epoch = 85750\tGradient mag. = 0.162903\n",
      "\tLearning epoch = 86000\tGradient mag. = 0.161015\n",
      "\tLearning epoch = 86250\tGradient mag. = 0.159151\n",
      "\tLearning epoch = 86500\tGradient mag. = 0.157310\n",
      "\tLearning epoch = 86750\tGradient mag. = 0.155491\n",
      "\tLearning epoch = 87000\tGradient mag. = 0.153695\n",
      "\tLearning epoch = 87250\tGradient mag. = 0.151922\n",
      "\tLearning epoch = 87500\tGradient mag. = 0.150170\n",
      "\tLearning epoch = 87750\tGradient mag. = 0.148440\n",
      "\tLearning epoch = 88000\tGradient mag. = 0.146732\n",
      "\tLearning epoch = 88250\tGradient mag. = 0.145045\n",
      "\tLearning epoch = 88500\tGradient mag. = 0.143379\n",
      "\tLearning epoch = 88750\tGradient mag. = 0.141733\n",
      "\tLearning epoch = 89000\tGradient mag. = 0.140108\n",
      "\tLearning epoch = 89250\tGradient mag. = 0.138504\n",
      "\tLearning epoch = 89500\tGradient mag. = 0.136919\n",
      "\tLearning epoch = 89750\tGradient mag. = 0.135354\n",
      "\tLearning epoch = 90000\tGradient mag. = 0.133808\n",
      "\tLearning epoch = 90250\tGradient mag. = 0.132282\n",
      "\tLearning epoch = 90500\tGradient mag. = 0.130774\n",
      "\tLearning epoch = 90750\tGradient mag. = 0.129286\n",
      "\tLearning epoch = 91000\tGradient mag. = 0.127816\n",
      "\tLearning epoch = 91250\tGradient mag. = 0.126364\n",
      "\tLearning epoch = 91500\tGradient mag. = 0.124930\n",
      "\tLearning epoch = 91750\tGradient mag. = 0.123515\n",
      "\tLearning epoch = 92000\tGradient mag. = 0.122117\n",
      "\tLearning epoch = 92250\tGradient mag. = 0.120736\n",
      "\tLearning epoch = 92500\tGradient mag. = 0.119372\n",
      "\tLearning epoch = 92750\tGradient mag. = 0.118026\n",
      "\tLearning epoch = 93000\tGradient mag. = 0.116696\n",
      "\tLearning epoch = 93250\tGradient mag. = 0.115383\n",
      "\tLearning epoch = 93500\tGradient mag. = 0.114087\n",
      "\tLearning epoch = 93750\tGradient mag. = 0.112806\n",
      "\tLearning epoch = 94000\tGradient mag. = 0.111542\n",
      "\tLearning epoch = 94250\tGradient mag. = 0.110293\n",
      "\tLearning epoch = 94500\tGradient mag. = 0.109060\n",
      "\tLearning epoch = 94750\tGradient mag. = 0.107842\n",
      "\tLearning epoch = 95000\tGradient mag. = 0.106640\n",
      "\tLearning epoch = 95250\tGradient mag. = 0.105453\n",
      "\tLearning epoch = 95500\tGradient mag. = 0.104280\n",
      "\tLearning epoch = 95750\tGradient mag. = 0.103123\n",
      "\tLearning epoch = 96000\tGradient mag. = 0.101979\n",
      "\tLearning epoch = 96250\tGradient mag. = 0.100850\n",
      "\tLearning epoch = 96500\tGradient mag. = 0.099736\n",
      "\tLearning epoch = 96750\tGradient mag. = 0.098635\n",
      "\tLearning epoch = 97000\tGradient mag. = 0.097548\n",
      "\tLearning epoch = 97250\tGradient mag. = 0.096474\n",
      "\tLearning epoch = 97500\tGradient mag. = 0.095415\n",
      "\tLearning epoch = 97750\tGradient mag. = 0.094368\n",
      "\tLearning epoch = 98000\tGradient mag. = 0.093335\n",
      "\tLearning epoch = 98250\tGradient mag. = 0.092314\n",
      "\tLearning epoch = 98500\tGradient mag. = 0.091307\n",
      "\tLearning epoch = 98750\tGradient mag. = 0.090312\n",
      "\tLearning epoch = 99000\tGradient mag. = 0.089329\n",
      "\tLearning epoch = 99250\tGradient mag. = 0.088359\n",
      "\tLearning epoch = 99500\tGradient mag. = 0.087401\n",
      "\tLearning epoch = 99750\tGradient mag. = 0.086456\n",
      "Final gradient magnitude for rate=0.001, mu=1e-06: 0.086\n",
      "CPU times: user 18.6 s, sys: 176 ms, total: 18.8 s\n",
      "Wall time: 18.6 s\n"
     ]
    }
   ],
   "source": [
    "from snorkel.learning import NaiveBayes\n",
    "\n",
    "gen_model = NaiveBayes()\n",
    "%time gen_model.train(L_train, n_iter=100000, rate=1e-3, mu=1e-6)\n",
    "train_marginals = gen_model.marginals(L_train)"
   ]
  },
  {
   "cell_type": "code",
   "execution_count": 31,
   "metadata": {
    "collapsed": false
   },
   "outputs": [
    {
     "name": "stdout",
     "output_type": "stream",
     "text": [
      "[('LF_part_in_header_tag', 0.85368830916411864),\n",
      " ('LF_cheating_with_another_part', 9.9556968687047167),\n",
      " ('LF_replacement_table', 0.85368830916411864),\n",
      " ('LF_many_p_siblings', 0.85368830916411864),\n",
      " ('LF_part_complement', 0.85368830916411864),\n",
      " ('LF_please_to_left', 0.85368830916411864),\n",
      " ('LF_part_num_in_high_col_num', 0.85368830916411864),\n",
      " ('LF_storage_row', 0.85368830916411864),\n",
      " ('LF_operating_row', 0.85368830916411864),\n",
      " ('LF_temperature_row', 8.7854387148189499),\n",
      " ('LF_tstg_row', 0.85368830916411864),\n",
      " ('LF_not_temp_relevant', 9.9556968687047167),\n",
      " ('LF_temp_outside_table', 0.85368830916411864),\n",
      " ('LF_too_many_numbers_row', 0.85368830916411864),\n",
      " ('LF_collector_aligned', -1.0034528026599396),\n",
      " ('LF_current_aligned', 9.9556968687047167),\n",
      " ('LF_voltage_row_temp', 0.85368830916411864),\n",
      " ('LF_voltage_row_part', 0.088044806010223714),\n",
      " ('LF_typ_row', 2.0310178986756187),\n",
      " ('LF_test_condition_aligned', 8.7854387148189499),\n",
      " ('LF_complement_left_row', 0.85368830916411864),\n",
      " ('LF_temp_on_high_page_num', 0.85368830916411864),\n",
      " ('LF_to_right', 9.9556968687047167),\n",
      " ('LF_positive_number_right', 9.9556968687047167),\n",
      " ('LF_other_minus_signs_in_row', 0.85368830916411864)]\n",
      "6.38056118276e-08\n",
      "0.999999999986\n"
     ]
    }
   ],
   "source": [
    "pprint(zip([lf.__name__ for lf in LFs], gen_model.w))\n",
    "print min(train_marginals)\n",
    "print max(train_marginals)"
   ]
  },
  {
   "cell_type": "code",
   "execution_count": 32,
   "metadata": {
    "collapsed": false,
    "scrolled": true
   },
   "outputs": [
    {
     "name": "stdout",
     "output_type": "stream",
     "text": [
      "================================================================================\n",
      "Training marginals (!= 0.5):\t90\n",
      "Features:\t\t\t999\n",
      "================================================================================\n",
      "Using gradient descent...\n",
      "\tLearning epoch = 0\tStep size = 0.0001\n",
      "\tLoss = 62.383246\tGradient magnitude = 326.364061\n",
      "\tLearning epoch = 100\tStep size = 9.04792147114e-05\n",
      "\tLoss = 4.171608\tGradient magnitude = 20.754271\n",
      "\tLearning epoch = 200\tStep size = 8.18648829479e-05\n",
      "\tLoss = 2.201329\tGradient magnitude = 11.103908\n",
      "\tLearning epoch = 300\tStep size = 7.40707032156e-05\n",
      "\tLoss = 1.539676\tGradient magnitude = 7.804695\n",
      "\tLearning epoch = 400\tStep size = 6.70185906007e-05\n",
      "\tLoss = 1.211541\tGradient magnitude = 6.157043\n",
      "\tLearning epoch = 500\tStep size = 6.06378944861e-05\n",
      "\tLoss = 1.017027\tGradient magnitude = 5.176722\n",
      "\tLearning epoch = 600\tStep size = 5.48646907485e-05\n",
      "\tLoss = 0.889235\tGradient magnitude = 4.531274\n",
      "\tLearning epoch = 700\tStep size = 4.96411413431e-05\n",
      "\tLoss = 0.799511\tGradient magnitude = 4.077508\n",
      "\tLearning epoch = 800\tStep size = 4.4914914861e-05\n",
      "\tLoss = 0.733549\tGradient magnitude = 3.743670\n",
      "\tLearning epoch = 900\tStep size = 4.06386622545e-05\n",
      "\tLoss = 0.683409\tGradient magnitude = 3.489851\n",
      "\tLearning epoch = 1000\tStep size = 3.67695424771e-05\n",
      "\tLoss = 0.644316\tGradient magnitude = 3.291975\n",
      "\tLearning epoch = 1100\tStep size = 3.32687932862e-05\n",
      "\tLoss = 0.613269\tGradient magnitude = 3.134921\n",
      "\tLearning epoch = 1200\tStep size = 3.01013429093e-05\n",
      "\tLoss = 0.588265\tGradient magnitude = 3.008564\n",
      "\tLearning epoch = 1300\tStep size = 2.72354586819e-05\n",
      "\tLoss = 0.567912\tGradient magnitude = 2.905873\n",
      "\tLearning epoch = 1400\tStep size = 2.46424291385e-05\n",
      "\tLoss = 0.551216\tGradient magnitude = 2.821824\n",
      "\tLearning epoch = 1500\tStep size = 2.22962763703e-05\n",
      "\tLoss = 0.537450\tGradient magnitude = 2.752734\n",
      "\tLearning epoch = 1600\tStep size = 2.01734957697e-05\n",
      "\tLoss = 0.526066\tGradient magnitude = 2.695831\n",
      "\tLearning epoch = 1700\tStep size = 1.82528205523e-05\n",
      "\tLoss = 0.516650\tGradient magnitude = 2.649010\n",
      "\tLearning epoch = 1800\tStep size = 1.65150086984e-05\n",
      "\tLoss = 0.508873\tGradient magnitude = 2.610623\n",
      "\tLearning epoch = 1900\tStep size = 1.49426501798e-05\n",
      "\tLoss = 0.502466\tGradient magnitude = 2.579253\n",
      "CPU times: user 956 ms, sys: 44 ms, total: 1 s\n",
      "Wall time: 957 ms\n"
     ]
    }
   ],
   "source": [
    "from snorkel.learning import LogReg\n",
    "\n",
    "disc_model = LogReg()\n",
    "%time disc_model.train(F_train, train_marginals, n_iter=2000, rate=1e-4)"
   ]
  },
  {
   "cell_type": "code",
   "execution_count": 33,
   "metadata": {
    "collapsed": false
   },
   "outputs": [],
   "source": [
    "dev_gold = session.query(CandidateSet).filter(\n",
    "    CandidateSet.name == 'Hardware Dev Candidates -- Gold').one()"
   ]
  },
  {
   "cell_type": "code",
   "execution_count": 34,
   "metadata": {
    "collapsed": false
   },
   "outputs": [
    {
     "data": {
      "text/plain": [
       "(23, 1)"
      ]
     },
     "execution_count": 34,
     "metadata": {},
     "output_type": "execute_result"
    }
   ],
   "source": [
    "from snorkel.annotations import LabelManager\n",
    "label_manager = LabelManager()\n",
    "L_dev = label_manager.load(session, dev, 'Hardware Dev Labels -- Gold')\n",
    "L_dev.shape"
   ]
  },
  {
   "cell_type": "code",
   "execution_count": 35,
   "metadata": {
    "collapsed": false,
    "scrolled": true
   },
   "outputs": [
    {
     "name": "stdout",
     "output_type": "stream",
     "text": [
      "Calibration plot:\n"
     ]
    },
    {
     "name": "stderr",
     "output_type": "stream",
     "text": [
      "/usr/local/lib/python2.7/dist-packages/numpy/core/_methods.py:59: RuntimeWarning: Mean of empty slice.\n",
      "  warnings.warn(\"Mean of empty slice.\", RuntimeWarning)\n"
     ]
    },
    {
     "data": {
      "image/png": "[encoded data removed]",
      "text/plain": [
       "<matplotlib.figure.Figure at 0x7fa65db7dcd0>"
      ]
     },
     "metadata": {},
     "output_type": "display_data"
    },
    {
     "name": "stdout",
     "output_type": "stream",
     "text": [
      "========================================\n",
      "Recall-corrected Noise-aware Model\n",
      "========================================\n",
      "Pos. class accuracy: 1.0\n",
      "Neg. class accuracy: 0.0\n",
      "Corpus Precision 0.913\n",
      "Corpus Recall    1.0\n",
      "Corpus F1        0.955\n",
      "----------------------------------------\n",
      "TP: 21 | FP: 2 | TN: 0 | FN: 0\n",
      "========================================\n",
      "\n",
      "========================================\n",
      "Recall-corrected Noise-aware Model\n",
      "========================================\n",
      "Pos. class accuracy: 0.5\n",
      "Neg. class accuracy: 0.0\n",
      "Corpus Precision 0.913\n",
      "Corpus Recall    0.5\n",
      "Corpus F1        0.646\n",
      "----------------------------------------\n",
      "TP: 21 | FP: 2 | TN: 0 | FN: 21\n",
      "========================================\n",
      "\n"
     ]
    }
   ],
   "source": [
    "tp, fp, tn, fn = disc_model.score(F_dev, L_dev, dev_gold)"
   ]
  },
  {
   "cell_type": "code",
   "execution_count": 36,
   "metadata": {
    "collapsed": false
   },
   "outputs": [
    {
     "name": "stdout",
     "output_type": "stream",
     "text": [
      "Preparing candidates...\n",
      "[========================================] 100%\n",
      "========================================\n",
      "Scoring on Entity-Level Gold Data\n",
      "========================================\n",
      "Corpus Precision 0.905\n",
      "Corpus Recall    1.0\n",
      "Corpus F1        0.95\n",
      "----------------------------------------\n",
      "TP: 19 | FP: 2 | FN: 0\n",
      "========================================\n",
      "\n",
      "CPU times: user 192 ms, sys: 60 ms, total: 252 ms\n",
      "Wall time: 236 ms\n",
      "Preparing candidates...\n",
      "[========================================] 100%\n",
      "========================================\n",
      "Scoring on Entity-Level Gold Data\n",
      "========================================\n",
      "Corpus Precision 0.905\n",
      "Corpus Recall    1.0\n",
      "Corpus F1        0.95\n",
      "----------------------------------------\n",
      "TP: 19 | FP: 2 | FN: 0\n",
      "========================================\n",
      "\n",
      "CPU times: user 60 ms, sys: 12 ms, total: 72 ms\n",
      "Wall time: 64.5 ms\n"
     ]
    }
   ],
   "source": [
    "from snorkel.models import Corpus\n",
    "from hardware_utils import entity_level_f1\n",
    "import os\n",
    "\n",
    "gold_file = os.environ['SNORKELHOME'] + '/tutorials/tables/data/hardware/dev/hardware_dev_gold.csv'\n",
    "corpus = session.query(Corpus).filter(Corpus.name == 'Hardware Dev').one()\n",
    "%time (TP, FP, FN) = entity_level_f1(tp.union(fp), gold_file, ATTRIBUTE, corpus, parts_by_doc=None)\n",
    "%time (TP, FP, FN) = entity_level_f1(tp.union(fp), gold_file, ATTRIBUTE, corpus, parts_by_doc=parts_by_doc)"
   ]
  },
  {
   "cell_type": "markdown",
   "metadata": {},
   "source": [
    "### Error Analysis"
   ]
  },
  {
   "cell_type": "code",
   "execution_count": 37,
   "metadata": {
    "collapsed": false
   },
   "outputs": [],
   "source": [
    "# from hardware_utils import separate_fns\n",
    "\n",
    "# unfound, misclassified = separate_fns(FN, cfn)"
   ]
  },
  {
   "cell_type": "code",
   "execution_count": 38,
   "metadata": {
    "collapsed": true
   },
   "outputs": [],
   "source": [
    "# pprint(misclassified)"
   ]
  },
  {
   "cell_type": "code",
   "execution_count": 39,
   "metadata": {
    "collapsed": true
   },
   "outputs": [],
   "source": [
    "# pprint(unfound)"
   ]
  },
  {
   "cell_type": "code",
   "execution_count": 40,
   "metadata": {
    "collapsed": false,
    "scrolled": true
   },
   "outputs": [],
   "source": [
    "# from hardware_utils import separate_fps\n",
    "\n",
    "# bad_part, bad_relation = separate_fps(FP, corpus, gold_file)"
   ]
  },
  {
   "cell_type": "code",
   "execution_count": 41,
   "metadata": {
    "collapsed": true
   },
   "outputs": [],
   "source": [
    "# pprint(bad_relation)"
   ]
  },
  {
   "cell_type": "code",
   "execution_count": 42,
   "metadata": {
    "collapsed": true
   },
   "outputs": [],
   "source": [
    "# pprint(bad_part)"
   ]
  },
  {
   "cell_type": "code",
   "execution_count": 43,
   "metadata": {
    "collapsed": true
   },
   "outputs": [],
   "source": [
    "# from pprint import pprint\n",
    "# pprint([(unicode(x[0]), x[1]) for x in disc_model.get_feature_weights(F_dev)[:100]])"
   ]
  },
  {
   "cell_type": "code",
   "execution_count": 44,
   "metadata": {
    "collapsed": false
   },
   "outputs": [],
   "source": [
    "# from hardware_utils import entity_to_candidates\n",
    "\n",
    "# entity = FP[0]\n",
    "# print entity\n",
    "# print\n",
    "\n",
    "# matches = entity_to_candidates(entity, fp)\n",
    "# print \"# Matches: %d\" % len(matches)\n",
    "# print\n",
    "\n",
    "# candidate = matches[0]\n",
    "# print candidate\n",
    "# print\n",
    "\n",
    "# from hardware_utils import part_error_analysis\n",
    "# part_error_analysis(candidate)\n",
    "\n",
    "# pprint(disc_model.get_candidate_feature_weights(candidate, F_dev))"
   ]
  },
  {
   "cell_type": "markdown",
   "metadata": {},
   "source": [
    "### Oracle"
   ]
  },
  {
   "cell_type": "code",
   "execution_count": 45,
   "metadata": {
    "collapsed": false
   },
   "outputs": [
    {
     "name": "stdout",
     "output_type": "stream",
     "text": [
      "Preparing candidates...\n",
      "[========================================] 100%\n",
      "========================================\n",
      "Scoring on Entity-Level Gold Data\n",
      "========================================\n",
      "Corpus Precision 0.905\n",
      "Corpus Recall    1.0\n",
      "Corpus F1        0.95\n",
      "----------------------------------------\n",
      "TP: 19 | FP: 2 | FN: 0\n",
      "========================================\n",
      "\n"
     ]
    }
   ],
   "source": [
    "from hardware_utils import get_gold_parts_by_doc, get_manual_parts_by_doc\n",
    "from snorkel.utils import get_ORM_instance\n",
    "from snorkel.models import Corpus\n",
    "\n",
    "parts_by_doc = get_gold_parts_by_doc()\n",
    "(TP, FP, FN) = entity_level_f1(tp.union(fp), gold_file, ATTRIBUTE, corpus, parts_by_doc)"
   ]
  },
  {
   "cell_type": "markdown",
   "metadata": {
    "collapsed": true
   },
   "source": [
    "### Test Results"
   ]
  },
  {
   "cell_type": "code",
   "execution_count": 46,
   "metadata": {
    "collapsed": false
   },
   "outputs": [
    {
     "name": "stdout",
     "output_type": "stream",
     "text": [
      "Calibration plot:\n"
     ]
    },
    {
     "data": {
      "image/png": "[encoded data removed]",
      "text/plain": [
       "<matplotlib.figure.Figure at 0x7fa60f307b90>"
      ]
     },
     "metadata": {},
     "output_type": "display_data"
    },
    {
     "name": "stdout",
     "output_type": "stream",
     "text": [
      "========================================\n",
      "Recall-corrected Noise-aware Model\n",
      "========================================\n",
      "Pos. class accuracy: 1.0\n",
      "Neg. class accuracy: 0.0\n",
      "Corpus Precision 0.909\n",
      "Corpus Recall    1.0\n",
      "Corpus F1        0.952\n",
      "----------------------------------------\n",
      "TP: 10 | FP: 1 | TN: 0 | FN: 0\n",
      "========================================\n",
      "\n",
      "========================================\n",
      "Recall-corrected Noise-aware Model\n",
      "========================================\n",
      "Pos. class accuracy: 0.322580645161\n",
      "Neg. class accuracy: 0.0\n",
      "Corpus Precision 0.909\n",
      "Corpus Recall    0.323\n",
      "Corpus F1        0.476\n",
      "----------------------------------------\n",
      "TP: 10 | FP: 1 | TN: 0 | FN: 21\n",
      "========================================\n",
      "\n",
      "Preparing candidates...\n",
      "[========================================] 100%\n",
      "========================================\n",
      "Scoring on Entity-Level Gold Data\n",
      "========================================\n",
      "Corpus Precision 0.75\n",
      "Corpus Recall    0.6\n",
      "Corpus F1        0.667\n",
      "----------------------------------------\n",
      "TP: 3 | FP: 1 | FN: 2\n",
      "========================================\n",
      "\n",
      "Preparing candidates...\n",
      "[========================================] 100%\n",
      "========================================\n",
      "Scoring on Entity-Level Gold Data\n",
      "========================================\n",
      "Corpus Precision 0.75\n",
      "Corpus Recall    0.6\n",
      "Corpus F1        0.667\n",
      "----------------------------------------\n",
      "TP: 3 | FP: 1 | FN: 2\n",
      "========================================\n",
      "\n"
     ]
    }
   ],
   "source": [
    "if TEST_SIZE:\n",
    "    from snorkel.annotations import LabelManager\n",
    "    label_manager = LabelManager()\n",
    "    L_test = label_manager.load(session, test, 'Hardware Test Labels -- Gold')\n",
    "    L_test.shape\n",
    "    \n",
    "    tp, fp, tn, fn = disc_model.score(F_test, L_test, dev_gold)\n",
    "    \n",
    "    from hardware_utils import get_gold_parts_by_doc, get_manual_parts_by_doc\n",
    "    from snorkel.utils import get_ORM_instance\n",
    "    from snorkel.models import Corpus\n",
    "\n",
    "    corpus = get_ORM_instance(Corpus, session, 'Hardware Test')\n",
    "\n",
    "    # parts_by_doc_test = get_manual_parts_by_doc(corpus.documents.all())\n",
    "    # parts_by_doc_test = None\n",
    "    import cPickle as pickle\n",
    "    pickle_file = os.environ['SNORKELHOME'] + '/tutorials/tables/sandbox/parts_by_doc_test.pkl'\n",
    "    with open(pickle_file, 'r') as f:\n",
    "        parts_by_doc_test = pickle.load(f)\n",
    "\n",
    "    from snorkel.models import Corpus\n",
    "    from hardware_utils import entity_level_f1\n",
    "    import os\n",
    "\n",
    "    gold_file = os.environ['SNORKELHOME'] + '/tutorials/tables/data/hardware/test/hardware_test_gold.csv'\n",
    "    (TP, FP, FN) = entity_level_f1(tp.union(fp), gold_file, ATTRIBUTE, corpus)\n",
    "    (TP, FP, FN) = entity_level_f1(tp.union(fp), gold_file, ATTRIBUTE, corpus, parts_by_doc_test)"
   ]
  },
  {
   "cell_type": "code",
   "execution_count": null,
   "metadata": {
    "collapsed": true
   },
   "outputs": [],
   "source": []
  }
 ],
 "metadata": {
  "anaconda-cloud": {},
  "kernelspec": {
   "display_name": "Python 2",
   "language": "python",
   "name": "python2"
  },
  "language_info": {
   "codemirror_mode": {
    "name": "ipython",
    "version": 2
   },
   "file_extension": ".py",
   "mimetype": "text/x-python",
   "name": "python",
   "nbconvert_exporter": "python",
   "pygments_lexer": "ipython2",
   "version": "2.7.6"
  }
 },
 "nbformat": 4,
 "nbformat_minor": 1
}
