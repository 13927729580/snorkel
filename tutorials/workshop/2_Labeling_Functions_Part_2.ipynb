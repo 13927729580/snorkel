{
 "cells": [
  {
   "cell_type": "markdown",
   "metadata": {
    "deletable": true,
    "editable": true
   },
   "source": [
    "# Intro. to Snorkel: Extracting Spouse Relations from the News\n",
    "## Part 2: Writing Distant Supervision Labeling Functions\n"
   ]
  },
  {
   "cell_type": "code",
   "execution_count": 9,
   "metadata": {
    "collapsed": false,
    "deletable": true,
    "editable": true
   },
   "outputs": [
    {
     "name": "stdout",
     "output_type": "stream",
     "text": [
      "The autoreload extension is already loaded. To reload it, use:\n",
      "  %reload_ext autoreload\n"
     ]
    }
   ],
   "source": [
    "%load_ext autoreload\n",
    "%autoreload 2\n",
    "%matplotlib inline\n",
    "\n",
    "import os\n",
    "import sys\n",
    "import numpy as np\n",
    "from snorkel.models import Candidate\n",
    "from snorkel import SnorkelSession\n",
    "\n",
    "session = SnorkelSession()"
   ]
  },
  {
   "cell_type": "markdown",
   "metadata": {
    "deletable": true,
    "editable": true
   },
   "source": [
    "Snorkel requires that we formally define a type for our candidate."
   ]
  },
  {
   "cell_type": "code",
   "execution_count": 10,
   "metadata": {
    "collapsed": false,
    "deletable": true,
    "editable": true
   },
   "outputs": [
    {
     "name": "stderr",
     "output_type": "stream",
     "text": [
      "Info: Candidate type already defined\n"
     ]
    }
   ],
   "source": [
    "from snorkel.models import candidate_subclass\n",
    "try:\n",
    "    Spouse = candidate_subclass('Spouse', ['person1', 'person2'])\n",
    "except:\n",
    "    print>>sys.stderr,\"Info: Candidate type already defined\""
   ]
  },
  {
   "cell_type": "markdown",
   "metadata": {
    "deletable": true,
    "editable": true
   },
   "source": [
    "Development set data"
   ]
  },
  {
   "cell_type": "code",
   "execution_count": 11,
   "metadata": {
    "collapsed": true,
    "deletable": true,
    "editable": true
   },
   "outputs": [],
   "source": [
    "from snorkel.annotations import load_gold_labels\n",
    "L_gold_dev = load_gold_labels(session, annotator_name='gold', split=1)"
   ]
  },
  {
   "cell_type": "code",
   "execution_count": 19,
   "metadata": {
    "collapsed": false,
    "scrolled": false
   },
   "outputs": [
    {
     "data": {
      "text/html": [
       "<div style=\"border: 1px dotted #858585; border-radius:8px;\n",
       "    background-color:#FDFDFD; padding:5pt 10pt 5pt 10pt\"><p style=\"font-size:12pt;\">\\nAlso there is a free eBook on creating games with <b style=\"background-color:#CCCCCC;padding:1pt 5pt 1pt 5pt; border-radius:8px\">Python</b> which states, \"written to be understandable by kids as young as 10 to 12 years old, although it is great for anyone of any age who has never programmed before\":\\n\\n\\nInvent with <b style=\"background-color:#CCCCCC;padding:1pt 5pt 1pt 5pt; border-radius:8px\">Python</b>\\n\\n\\nA friend has suggested that this is a nice intro.</p></div>"
      ],
      "text/plain": [
       "<IPython.core.display.HTML object>"
      ]
     },
     "metadata": {},
     "output_type": "display_data"
    },
    {
     "data": {
      "text/html": [
       "<div style=\"border: 1px dotted #858585; border-radius:8px;\n",
       "    background-color:#FDFDFD; padding:5pt 10pt 5pt 10pt\"><p style=\"font-size:12pt;\">STEVE SMITH said the bouncer which caused England captain <b style=\"background-color:#CCCCCC;padding:1pt 5pt 1pt 5pt; border-radius:8px\">Eoin Morgan</b>'s concussion left several Australia players \"shaken\" having brought back memories of the fatal injury to <b style=\"background-color:#CCCCCC;padding:1pt 5pt 1pt 5pt; border-radius:8px\">Phillip Hughes</b>.</p></div>"
      ],
      "text/plain": [
       "<IPython.core.display.HTML object>"
      ]
     },
     "metadata": {},
     "output_type": "display_data"
    },
    {
     "data": {
      "text/html": [
       "<div style=\"border: 1px dotted #858585; border-radius:8px;\n",
       "    background-color:#FDFDFD; padding:5pt 10pt 5pt 10pt\"><p style=\"font-size:12pt;\"><b style=\"background-color:#CCCCCC;padding:1pt 5pt 1pt 5pt; border-radius:8px\">STEVE SMITH</b> said the bouncer which caused England captain Eoin Morgan's concussion left several Australia players \"shaken\" having brought back memories of the fatal injury to <b style=\"background-color:#CCCCCC;padding:1pt 5pt 1pt 5pt; border-radius:8px\">Phillip Hughes</b>.</p></div>"
      ],
      "text/plain": [
       "<IPython.core.display.HTML object>"
      ]
     },
     "metadata": {},
     "output_type": "display_data"
    },
    {
     "data": {
      "text/html": [
       "<div style=\"border: 1px dotted #858585; border-radius:8px;\n",
       "    background-color:#FDFDFD; padding:5pt 10pt 5pt 10pt\"><p style=\"font-size:12pt;\"><b style=\"background-color:#CCCCCC;padding:1pt 5pt 1pt 5pt; border-radius:8px\">STEVE SMITH</b> said the bouncer which caused England captain <b style=\"background-color:#CCCCCC;padding:1pt 5pt 1pt 5pt; border-radius:8px\">Eoin Morgan</b>'s concussion left several Australia players \"shaken\" having brought back memories of the fatal injury to Phillip Hughes.</p></div>"
      ],
      "text/plain": [
       "<IPython.core.display.HTML object>"
      ]
     },
     "metadata": {},
     "output_type": "display_data"
    },
    {
     "data": {
      "text/html": [
       "<div style=\"border: 1px dotted #858585; border-radius:8px;\n",
       "    background-color:#FDFDFD; padding:5pt 10pt 5pt 10pt\"><p style=\"font-size:12pt;\">\\n\\nDarren <b style=\"background-color:#CCCCCC;padding:1pt 5pt 1pt 5pt; border-radius:8px\">Lehmann</b> saw fit to immediately walk around the boundary and talk to Starc and <b style=\"background-color:#CCCCCC;padding:1pt 5pt 1pt 5pt; border-radius:8px\">Smith</b> admitted that a few of their number were affected.</p></div>"
      ],
      "text/plain": [
       "<IPython.core.display.HTML object>"
      ]
     },
     "metadata": {},
     "output_type": "display_data"
    },
    {
     "data": {
      "text/html": [
       "<div style=\"border: 1px dotted #858585; border-radius:8px;\n",
       "    background-color:#FDFDFD; padding:5pt 10pt 5pt 10pt\"><p style=\"font-size:12pt;\">\\n\\nDarren <b style=\"background-color:#CCCCCC;padding:1pt 5pt 1pt 5pt; border-radius:8px\">Lehmann</b> saw fit to immediately walk around the boundary and talk to <b style=\"background-color:#CCCCCC;padding:1pt 5pt 1pt 5pt; border-radius:8px\">Starc</b> and Smith admitted that a few of their number were affected.</p></div>"
      ],
      "text/plain": [
       "<IPython.core.display.HTML object>"
      ]
     },
     "metadata": {},
     "output_type": "display_data"
    },
    {
     "data": {
      "text/html": [
       "<div style=\"border: 1px dotted #858585; border-radius:8px;\n",
       "    background-color:#FDFDFD; padding:5pt 10pt 5pt 10pt\"><p style=\"font-size:12pt;\">\\n\\nDarren Lehmann saw fit to immediately walk around the boundary and talk to <b style=\"background-color:#CCCCCC;padding:1pt 5pt 1pt 5pt; border-radius:8px\">Starc</b> and <b style=\"background-color:#CCCCCC;padding:1pt 5pt 1pt 5pt; border-radius:8px\">Smith</b> admitted that a few of their number were affected.</p></div>"
      ],
      "text/plain": [
       "<IPython.core.display.HTML object>"
      ]
     },
     "metadata": {},
     "output_type": "display_data"
    },
    {
     "data": {
      "text/html": [
       "<div style=\"border: 1px dotted #858585; border-radius:8px;\n",
       "    background-color:#FDFDFD; padding:5pt 10pt 5pt 10pt\"><p style=\"font-size:12pt;\">President <b style=\"background-color:#CCCCCC;padding:1pt 5pt 1pt 5pt; border-radius:8px\">Obama</b> presides over the executive branch but <b style=\"background-color:#CCCCCC;padding:1pt 5pt 1pt 5pt; border-radius:8px\">Boehner</b> holds the purse strings.</p></div>"
      ],
      "text/plain": [
       "<IPython.core.display.HTML object>"
      ]
     },
     "metadata": {},
     "output_type": "display_data"
    },
    {
     "data": {
      "text/html": [
       "<div style=\"border: 1px dotted #858585; border-radius:8px;\n",
       "    background-color:#FDFDFD; padding:5pt 10pt 5pt 10pt\"><p style=\"font-size:12pt;\">\\n \\nSide-by-Side was started on Facebook by <b style=\"background-color:#CCCCCC;padding:1pt 5pt 1pt 5pt; border-radius:8px\">Rachel Hattingh</b> and her husband <b style=\"background-color:#CCCCCC;padding:1pt 5pt 1pt 5pt; border-radius:8px\">Graham Marshall</b>, a London homeless charity chief executive, from Stanford-le- Hope.</p></div>"
      ],
      "text/plain": [
       "<IPython.core.display.HTML object>"
      ]
     },
     "metadata": {},
     "output_type": "display_data"
    },
    {
     "data": {
      "text/html": [
       "<div style=\"border: 1px dotted #858585; border-radius:8px;\n",
       "    background-color:#FDFDFD; padding:5pt 10pt 5pt 10pt\"><p style=\"font-size:12pt;\">\\n \\nBoth <b style=\"background-color:#CCCCCC;padding:1pt 5pt 1pt 5pt; border-radius:8px\">Rachel</b> and fellow organiser <b style=\"background-color:#CCCCCC;padding:1pt 5pt 1pt 5pt; border-radius:8px\">Kerry-Ann Branco</b> will next week be travelling out to Calais with supplies, including tents, sleeping bags and food.</p></div>"
      ],
      "text/plain": [
       "<IPython.core.display.HTML object>"
      ]
     },
     "metadata": {},
     "output_type": "display_data"
    },
    {
     "data": {
      "text/html": [
       "<div style=\"border: 1px dotted #858585; border-radius:8px;\n",
       "    background-color:#FDFDFD; padding:5pt 10pt 5pt 10pt\"><p style=\"font-size:12pt;\">\\n \\n\"This can't be an easy stand for Mrs. <b style=\"background-color:#CCCCCC;padding:1pt 5pt 1pt 5pt; border-radius:8px\">Davis</b> to take,\" <b style=\"background-color:#CCCCCC;padding:1pt 5pt 1pt 5pt; border-radius:8px\">Chitwood</b> said.</p></div>"
      ],
      "text/plain": [
       "<IPython.core.display.HTML object>"
      ]
     },
     "metadata": {},
     "output_type": "display_data"
    },
    {
     "data": {
      "text/html": [
       "<div style=\"border: 1px dotted #858585; border-radius:8px;\n",
       "    background-color:#FDFDFD; padding:5pt 10pt 5pt 10pt\"><p style=\"font-size:12pt;\">The position, open since <b style=\"background-color:#CCCCCC;padding:1pt 5pt 1pt 5pt; border-radius:8px\">Jeff Halstead</b>'s January departure, will require a candidate who is dynamic enough to face  ... \\n   Crowds begin to gather for <b style=\"background-color:#CCCCCC;padding:1pt 5pt 1pt 5pt; border-radius:8px\">Trump</b>’s return to Texas  \\nStar-Telegram - Tuesday 15th September, 2015 \\n \\nSupporters and detractors alike of Republican presidential candidate Donald Trump were already turning out at midday in downtown Dallas in advance of this evening's rally at the  ... \\n   Forbes Dallas Cowboys worth $4 billion Patriots second at $3.2 billion  \\nSports Illustrated - Tuesday 15th September, 2015 \\n \\n49ers .</p></div>"
      ],
      "text/plain": [
       "<IPython.core.display.HTML object>"
      ]
     },
     "metadata": {},
     "output_type": "display_data"
    },
    {
     "data": {
      "text/html": [
       "<div style=\"border: 1px dotted #858585; border-radius:8px;\n",
       "    background-color:#FDFDFD; padding:5pt 10pt 5pt 10pt\"><p style=\"font-size:12pt;\">The position, open since Jeff Halstead's January departure, will require a candidate who is dynamic enough to face  ... \\n   Crowds begin to gather for <b style=\"background-color:#CCCCCC;padding:1pt 5pt 1pt 5pt; border-radius:8px\">Trump</b>’s return to Texas  \\nStar-Telegram - Tuesday 15th September, 2015 \\n \\nSupporters and detractors alike of Republican presidential candidate <b style=\"background-color:#CCCCCC;padding:1pt 5pt 1pt 5pt; border-radius:8px\">Donald Trump</b> were already turning out at midday in downtown Dallas in advance of this evening's rally at the  ... \\n   Forbes Dallas Cowboys worth $4 billion Patriots second at $3.2 billion  \\nSports Illustrated - Tuesday 15th September, 2015 \\n \\n49ers .</p></div>"
      ],
      "text/plain": [
       "<IPython.core.display.HTML object>"
      ]
     },
     "metadata": {},
     "output_type": "display_data"
    },
    {
     "data": {
      "text/html": [
       "<div style=\"border: 1px dotted #858585; border-radius:8px;\n",
       "    background-color:#FDFDFD; padding:5pt 10pt 5pt 10pt\"><p style=\"font-size:12pt;\">The position, open since <b style=\"background-color:#CCCCCC;padding:1pt 5pt 1pt 5pt; border-radius:8px\">Jeff Halstead</b>'s January departure, will require a candidate who is dynamic enough to face  ... \\n   Crowds begin to gather for Trump’s return to Texas  \\nStar-Telegram - Tuesday 15th September, 2015 \\n \\nSupporters and detractors alike of Republican presidential candidate <b style=\"background-color:#CCCCCC;padding:1pt 5pt 1pt 5pt; border-radius:8px\">Donald Trump</b> were already turning out at midday in downtown Dallas in advance of this evening's rally at the  ... \\n   Forbes Dallas Cowboys worth $4 billion Patriots second at $3.2 billion  \\nSports Illustrated - Tuesday 15th September, 2015 \\n \\n49ers .</p></div>"
      ],
      "text/plain": [
       "<IPython.core.display.HTML object>"
      ]
     },
     "metadata": {},
     "output_type": "display_data"
    },
    {
     "data": {
      "text/html": [
       "<div style=\"border: 1px dotted #858585; border-radius:8px;\n",
       "    background-color:#FDFDFD; padding:5pt 10pt 5pt 10pt\"><p style=\"font-size:12pt;\">\\n \\nTom <b style=\"background-color:#CCCCCC;padding:1pt 5pt 1pt 5pt; border-radius:8px\">James</b>, president of the Kentucky Baptist Convention, told BP he supports <b style=\"background-color:#CCCCCC;padding:1pt 5pt 1pt 5pt; border-radius:8px\">Davis</b>.</p></div>"
      ],
      "text/plain": [
       "<IPython.core.display.HTML object>"
      ]
     },
     "metadata": {},
     "output_type": "display_data"
    },
    {
     "data": {
      "text/html": [
       "<div style=\"border: 1px dotted #858585; border-radius:8px;\n",
       "    background-color:#FDFDFD; padding:5pt 10pt 5pt 10pt\"><p style=\"font-size:12pt;\">\\n \\nMajor shareholders <b style=\"background-color:#CCCCCC;padding:1pt 5pt 1pt 5pt; border-radius:8px\">Ryan Walkinshaw</b> and <b style=\"background-color:#CCCCCC;padding:1pt 5pt 1pt 5pt; border-radius:8px\">Martin St Quinton</b> are understood to be looking for at least £25million for the club, which is one of the few professional rugby clubs to turn a profit.</p></div>"
      ],
      "text/plain": [
       "<IPython.core.display.HTML object>"
      ]
     },
     "metadata": {},
     "output_type": "display_data"
    },
    {
     "data": {
      "text/html": [
       "<div style=\"border: 1px dotted #858585; border-radius:8px;\n",
       "    background-color:#FDFDFD; padding:5pt 10pt 5pt 10pt\"><p style=\"font-size:12pt;\">\\n \\nGary <b style=\"background-color:#CCCCCC;padding:1pt 5pt 1pt 5pt; border-radius:8px\">Teague</b>, landlord of <b style=\"background-color:#CCCCCC;padding:1pt 5pt 1pt 5pt; border-radius:8px\">Teague</b>’s Bar opposite Kingsholm, said new investment could take Gloucester Rugby to greater things on the field.</p></div>"
      ],
      "text/plain": [
       "<IPython.core.display.HTML object>"
      ]
     },
     "metadata": {},
     "output_type": "display_data"
    },
    {
     "data": {
      "text/html": [
       "<div style=\"border: 1px dotted #858585; border-radius:8px;\n",
       "    background-color:#FDFDFD; padding:5pt 10pt 5pt 10pt\"><p style=\"font-size:12pt;\">\\n\\n“There’s a couch in the Winelands with your name on it”- <b style=\"background-color:#CCCCCC;padding:1pt 5pt 1pt 5pt; border-radius:8px\">Dana</b>’s wife, <b style=\"background-color:#CCCCCC;padding:1pt 5pt 1pt 5pt; border-radius:8px\">Anneke</b> \\n\\nMuch like the idyllic mountain ranges within which the wine farm is set, Vrede en Lust’s Wine Plaza is earthy and elegant, characterized by family photographs, fresh orchids, fireplaces, couches and passionate reds.</p></div>"
      ],
      "text/plain": [
       "<IPython.core.display.HTML object>"
      ]
     },
     "metadata": {},
     "output_type": "display_data"
    },
    {
     "data": {
      "text/html": [
       "<div style=\"border: 1px dotted #858585; border-radius:8px;\n",
       "    background-color:#FDFDFD; padding:5pt 10pt 5pt 10pt\"><p style=\"font-size:12pt;\">\\n \\nMr <b style=\"background-color:#CCCCCC;padding:1pt 5pt 1pt 5pt; border-radius:8px\">Walkinshaw</b> and Mr <b style=\"background-color:#CCCCCC;padding:1pt 5pt 1pt 5pt; border-radius:8px\">St Quinton</b> are not desperate to sell the club and maintain any agreement would be made in the best interests of the club.</p></div>"
      ],
      "text/plain": [
       "<IPython.core.display.HTML object>"
      ]
     },
     "metadata": {},
     "output_type": "display_data"
    },
    {
     "data": {
      "text/html": [
       "<div style=\"border: 1px dotted #858585; border-radius:8px;\n",
       "    background-color:#FDFDFD; padding:5pt 10pt 5pt 10pt\"><p style=\"font-size:12pt;\">The next morning after breakfast at the hotel we got in our van and <b style=\"background-color:#CCCCCC;padding:1pt 5pt 1pt 5pt; border-radius:8px\">Benjamin</b> and our driver <b style=\"background-color:#CCCCCC;padding:1pt 5pt 1pt 5pt; border-radius:8px\">Miguel</b> drove the 4 of us on a 2 hour drive to the Puerto Barillas Marina and Lodge  .</p></div>"
      ],
      "text/plain": [
       "<IPython.core.display.HTML object>"
      ]
     },
     "metadata": {},
     "output_type": "display_data"
    },
    {
     "data": {
      "text/html": [
       "<div style=\"border: 1px dotted #858585; border-radius:8px;\n",
       "    background-color:#FDFDFD; padding:5pt 10pt 5pt 10pt\"><p style=\"font-size:12pt;\"><b style=\"background-color:#CCCCCC;padding:1pt 5pt 1pt 5pt; border-radius:8px\">Bernie</b>’s Agenda: ’Democratic-Capitalism,’ Not Old World ‘Socialism’ <b style=\"background-color:#CCCCCC;padding:1pt 5pt 1pt 5pt; border-radius:8px\">Bernie Sanders</b>, by any classic measure, is a lousy socialist who should jettison this inflammatory, injurious misnomer.</p></div>"
      ],
      "text/plain": [
       "<IPython.core.display.HTML object>"
      ]
     },
     "metadata": {},
     "output_type": "display_data"
    },
    {
     "data": {
      "text/html": [
       "<div style=\"border: 1px dotted #858585; border-radius:8px;\n",
       "    background-color:#FDFDFD; padding:5pt 10pt 5pt 10pt\"><p style=\"font-size:12pt;\">\"<b style=\"background-color:#CCCCCC;padding:1pt 5pt 1pt 5pt; border-radius:8px\">Hardpop</b> has really helped unify and heal <b style=\"background-color:#CCCCCC;padding:1pt 5pt 1pt 5pt; border-radius:8px\">Juárez</b>,\" he concludes.</p></div>"
      ],
      "text/plain": [
       "<IPython.core.display.HTML object>"
      ]
     },
     "metadata": {},
     "output_type": "display_data"
    },
    {
     "data": {
      "text/html": [
       "<div style=\"border: 1px dotted #858585; border-radius:8px;\n",
       "    background-color:#FDFDFD; padding:5pt 10pt 5pt 10pt\"><p style=\"font-size:12pt;\"><b style=\"background-color:#CCCCCC;padding:1pt 5pt 1pt 5pt; border-radius:8px\">Julio Medem</b> ’s filmography includes some of the most distinctive titles of 90s Spanish cinema, but his two features since 2000’s Sex and <b style=\"background-color:#CCCCCC;padding:1pt 5pt 1pt 5pt; border-radius:8px\">Lucia</b> -- Chaotic Ana and Room in Rome -- were at best uneven.</p></div>"
      ],
      "text/plain": [
       "<IPython.core.display.HTML object>"
      ]
     },
     "metadata": {},
     "output_type": "display_data"
    },
    {
     "data": {
      "text/html": [
       "<div style=\"border: 1px dotted #858585; border-radius:8px;\n",
       "    background-color:#FDFDFD; padding:5pt 10pt 5pt 10pt\"><p style=\"font-size:12pt;\">\\n\\nAccording to a 2008 Defense Department file on <b style=\"background-color:#CCCCCC;padding:1pt 5pt 1pt 5pt; border-radius:8px\">Shalabi</b>, he was captured while attempting to cross the Afghan-Pakistan border after fleeing <b style=\"background-color:#CCCCCC;padding:1pt 5pt 1pt 5pt; border-radius:8px\">bin Laden</b>'s Tora Bora mountain complex.</p></div>"
      ],
      "text/plain": [
       "<IPython.core.display.HTML object>"
      ]
     },
     "metadata": {},
     "output_type": "display_data"
    },
    {
     "data": {
      "text/html": [
       "<div style=\"border: 1px dotted #858585; border-radius:8px;\n",
       "    background-color:#FDFDFD; padding:5pt 10pt 5pt 10pt\"><p style=\"font-size:12pt;\">Fall Preview: Check out all the must-see new shows Our heroes are led by Dr. <b style=\"background-color:#CCCCCC;padding:1pt 5pt 1pt 5pt; border-radius:8px\">Leanne Rorish</b> ( <b style=\"background-color:#CCCCCC;padding:1pt 5pt 1pt 5pt; border-radius:8px\">Marcia Gay Harden</b> ), the residency director who, of course, has endured a personal tragedy and, as a result, is willing to perform high-risk procedures to save lives, no matter who objects.</p></div>"
      ],
      "text/plain": [
       "<IPython.core.display.HTML object>"
      ]
     },
     "metadata": {},
     "output_type": "display_data"
    },
    {
     "data": {
      "text/html": [
       "<div style=\"border: 1px dotted #858585; border-radius:8px;\n",
       "    background-color:#FDFDFD; padding:5pt 10pt 5pt 10pt\"><p style=\"font-size:12pt;\">Leading the objection most often is Dr. <b style=\"background-color:#CCCCCC;padding:1pt 5pt 1pt 5pt; border-radius:8px\">Neal Hudson</b> ( <b style=\"background-color:#CCCCCC;padding:1pt 5pt 1pt 5pt; border-radius:8px\">Raza Jeffrey</b> ), a standout physician in his own right, but one who disapproves of Leanne's \"cowboy\" approach to medicine.</p></div>"
      ],
      "text/plain": [
       "<IPython.core.display.HTML object>"
      ]
     },
     "metadata": {},
     "output_type": "display_data"
    },
    {
     "data": {
      "text/html": [
       "<div style=\"border: 1px dotted #858585; border-radius:8px;\n",
       "    background-color:#FDFDFD; padding:5pt 10pt 5pt 10pt\"><p style=\"font-size:12pt;\">Leading the objection most often is Dr. Neal Hudson ( <b style=\"background-color:#CCCCCC;padding:1pt 5pt 1pt 5pt; border-radius:8px\">Raza Jeffrey</b> ), a standout physician in his own right, but one who disapproves of <b style=\"background-color:#CCCCCC;padding:1pt 5pt 1pt 5pt; border-radius:8px\">Leanne</b>'s \"cowboy\" approach to medicine.</p></div>"
      ],
      "text/plain": [
       "<IPython.core.display.HTML object>"
      ]
     },
     "metadata": {},
     "output_type": "display_data"
    },
    {
     "data": {
      "text/html": [
       "<div style=\"border: 1px dotted #858585; border-radius:8px;\n",
       "    background-color:#FDFDFD; padding:5pt 10pt 5pt 10pt\"><p style=\"font-size:12pt;\">Leading the objection most often is Dr. <b style=\"background-color:#CCCCCC;padding:1pt 5pt 1pt 5pt; border-radius:8px\">Neal Hudson</b> ( Raza Jeffrey ), a standout physician in his own right, but one who disapproves of <b style=\"background-color:#CCCCCC;padding:1pt 5pt 1pt 5pt; border-radius:8px\">Leanne</b>'s \"cowboy\" approach to medicine.</p></div>"
      ],
      "text/plain": [
       "<IPython.core.display.HTML object>"
      ]
     },
     "metadata": {},
     "output_type": "display_data"
    },
    {
     "data": {
      "text/html": [
       "<div style=\"border: 1px dotted #858585; border-radius:8px;\n",
       "    background-color:#FDFDFD; padding:5pt 10pt 5pt 10pt\"><p style=\"font-size:12pt;\">(\"You're the doctor they want, \"<b style=\"background-color:#CCCCCC;padding:1pt 5pt 1pt 5pt; border-radius:8px\">Leanne</b> tells <b style=\"background-color:#CCCCCC;padding:1pt 5pt 1pt 5pt; border-radius:8px\">Neal</b> in the pilot.</p></div>"
      ],
      "text/plain": [
       "<IPython.core.display.HTML object>"
      ]
     },
     "metadata": {},
     "output_type": "display_data"
    },
    {
     "data": {
      "text/html": [
       "<div style=\"border: 1px dotted #858585; border-radius:8px;\n",
       "    background-color:#FDFDFD; padding:5pt 10pt 5pt 10pt\"><p style=\"font-size:12pt;\">Together with <b style=\"background-color:#CCCCCC;padding:1pt 5pt 1pt 5pt; border-radius:8px\">Jesse Sallander</b> ( Luis Guzman ), a seen-it-all-before nurse who instructs the residents to refer to him as \"Mama,\" <b style=\"background-color:#CCCCCC;padding:1pt 5pt 1pt 5pt; border-radius:8px\">Leanne</b> and Neal are charged with guiding four first-year residents as they are thrown into the deep end on their first day.</p></div>"
      ],
      "text/plain": [
       "<IPython.core.display.HTML object>"
      ]
     },
     "metadata": {},
     "output_type": "display_data"
    },
    {
     "data": {
      "text/html": [
       "<div style=\"border: 1px dotted #858585; border-radius:8px;\n",
       "    background-color:#FDFDFD; padding:5pt 10pt 5pt 10pt\"><p style=\"font-size:12pt;\">Together with Jesse Sallander ( Luis Guzman ), a seen-it-all-before nurse who instructs the residents to refer to him as \"Mama,\" <b style=\"background-color:#CCCCCC;padding:1pt 5pt 1pt 5pt; border-radius:8px\">Leanne</b> and <b style=\"background-color:#CCCCCC;padding:1pt 5pt 1pt 5pt; border-radius:8px\">Neal</b> are charged with guiding four first-year residents as they are thrown into the deep end on their first day.</p></div>"
      ],
      "text/plain": [
       "<IPython.core.display.HTML object>"
      ]
     },
     "metadata": {},
     "output_type": "display_data"
    },
    {
     "data": {
      "text/html": [
       "<div style=\"border: 1px dotted #858585; border-radius:8px;\n",
       "    background-color:#FDFDFD; padding:5pt 10pt 5pt 10pt\"><p style=\"font-size:12pt;\">Together with Jesse Sallander ( <b style=\"background-color:#CCCCCC;padding:1pt 5pt 1pt 5pt; border-radius:8px\">Luis Guzman</b> ), a seen-it-all-before nurse who instructs the residents to refer to him as \"Mama,\" <b style=\"background-color:#CCCCCC;padding:1pt 5pt 1pt 5pt; border-radius:8px\">Leanne</b> and Neal are charged with guiding four first-year residents as they are thrown into the deep end on their first day.</p></div>"
      ],
      "text/plain": [
       "<IPython.core.display.HTML object>"
      ]
     },
     "metadata": {},
     "output_type": "display_data"
    },
    {
     "data": {
      "text/html": [
       "<div style=\"border: 1px dotted #858585; border-radius:8px;\n",
       "    background-color:#FDFDFD; padding:5pt 10pt 5pt 10pt\"><p style=\"font-size:12pt;\">Together with <b style=\"background-color:#CCCCCC;padding:1pt 5pt 1pt 5pt; border-radius:8px\">Jesse Sallander</b> ( Luis Guzman ), a seen-it-all-before nurse who instructs the residents to refer to him as \"Mama,\" Leanne and <b style=\"background-color:#CCCCCC;padding:1pt 5pt 1pt 5pt; border-radius:8px\">Neal</b> are charged with guiding four first-year residents as they are thrown into the deep end on their first day.</p></div>"
      ],
      "text/plain": [
       "<IPython.core.display.HTML object>"
      ]
     },
     "metadata": {},
     "output_type": "display_data"
    },
    {
     "data": {
      "text/html": [
       "<div style=\"border: 1px dotted #858585; border-radius:8px;\n",
       "    background-color:#FDFDFD; padding:5pt 10pt 5pt 10pt\"><p style=\"font-size:12pt;\">Together with <b style=\"background-color:#CCCCCC;padding:1pt 5pt 1pt 5pt; border-radius:8px\">Jesse Sallander</b> ( <b style=\"background-color:#CCCCCC;padding:1pt 5pt 1pt 5pt; border-radius:8px\">Luis Guzman</b> ), a seen-it-all-before nurse who instructs the residents to refer to him as \"Mama,\" Leanne and Neal are charged with guiding four first-year residents as they are thrown into the deep end on their first day.</p></div>"
      ],
      "text/plain": [
       "<IPython.core.display.HTML object>"
      ]
     },
     "metadata": {},
     "output_type": "display_data"
    },
    {
     "data": {
      "text/html": [
       "<div style=\"border: 1px dotted #858585; border-radius:8px;\n",
       "    background-color:#FDFDFD; padding:5pt 10pt 5pt 10pt\"><p style=\"font-size:12pt;\">Together with Jesse Sallander ( <b style=\"background-color:#CCCCCC;padding:1pt 5pt 1pt 5pt; border-radius:8px\">Luis Guzman</b> ), a seen-it-all-before nurse who instructs the residents to refer to him as \"Mama,\" Leanne and <b style=\"background-color:#CCCCCC;padding:1pt 5pt 1pt 5pt; border-radius:8px\">Neal</b> are charged with guiding four first-year residents as they are thrown into the deep end on their first day.</p></div>"
      ],
      "text/plain": [
       "<IPython.core.display.HTML object>"
      ]
     },
     "metadata": {},
     "output_type": "display_data"
    },
    {
     "data": {
      "text/html": [
       "<div style=\"border: 1px dotted #858585; border-radius:8px;\n",
       "    background-color:#FDFDFD; padding:5pt 10pt 5pt 10pt\"><p style=\"font-size:12pt;\">\\n \\nSince opening Aug. 5, <b style=\"background-color:#CCCCCC;padding:1pt 5pt 1pt 5pt; border-radius:8px\">Posey</b> and Slop's owner <b style=\"background-color:#CCCCCC;padding:1pt 5pt 1pt 5pt; border-radius:8px\">Josh Christiansen</b> have developed a business partnership that allows patrons of both establishments to receive the services offered at each, a sort of \"best of both worlds\" approach.</p></div>"
      ],
      "text/plain": [
       "<IPython.core.display.HTML object>"
      ]
     },
     "metadata": {},
     "output_type": "display_data"
    },
    {
     "data": {
      "text/html": [
       "<div style=\"border: 1px dotted #858585; border-radius:8px;\n",
       "    background-color:#FDFDFD; padding:5pt 10pt 5pt 10pt\"><p style=\"font-size:12pt;\">Are you excited to see <b style=\"background-color:#CCCCCC;padding:1pt 5pt 1pt 5pt; border-radius:8px\">Jill</b> and <b style=\"background-color:#CCCCCC;padding:1pt 5pt 1pt 5pt; border-radius:8px\">Jessa</b> back on TV, or would you rather never hear from their clan again?</p></div>"
      ],
      "text/plain": [
       "<IPython.core.display.HTML object>"
      ]
     },
     "metadata": {},
     "output_type": "display_data"
    },
    {
     "data": {
      "text/html": [
       "<div style=\"border: 1px dotted #858585; border-radius:8px;\n",
       "    background-color:#FDFDFD; padding:5pt 10pt 5pt 10pt\"><p style=\"font-size:12pt;\">WATCH: TLC announces new <b style=\"background-color:#CCCCCC;padding:1pt 5pt 1pt 5pt; border-radius:8px\">Duggar</b> specials starring <b style=\"background-color:#CCCCCC;padding:1pt 5pt 1pt 5pt; border-radius:8px\">Jessa</b> and Jill</p></div>"
      ],
      "text/plain": [
       "<IPython.core.display.HTML object>"
      ]
     },
     "metadata": {},
     "output_type": "display_data"
    },
    {
     "data": {
      "text/html": [
       "<div style=\"border: 1px dotted #858585; border-radius:8px;\n",
       "    background-color:#FDFDFD; padding:5pt 10pt 5pt 10pt\"><p style=\"font-size:12pt;\">WATCH: TLC announces new <b style=\"background-color:#CCCCCC;padding:1pt 5pt 1pt 5pt; border-radius:8px\">Duggar</b> specials starring Jessa and <b style=\"background-color:#CCCCCC;padding:1pt 5pt 1pt 5pt; border-radius:8px\">Jill</b></p></div>"
      ],
      "text/plain": [
       "<IPython.core.display.HTML object>"
      ]
     },
     "metadata": {},
     "output_type": "display_data"
    },
    {
     "data": {
      "text/html": [
       "<div style=\"border: 1px dotted #858585; border-radius:8px;\n",
       "    background-color:#FDFDFD; padding:5pt 10pt 5pt 10pt\"><p style=\"font-size:12pt;\">WATCH: TLC announces new Duggar specials starring <b style=\"background-color:#CCCCCC;padding:1pt 5pt 1pt 5pt; border-radius:8px\">Jessa</b> and <b style=\"background-color:#CCCCCC;padding:1pt 5pt 1pt 5pt; border-radius:8px\">Jill</b></p></div>"
      ],
      "text/plain": [
       "<IPython.core.display.HTML object>"
      ]
     },
     "metadata": {},
     "output_type": "display_data"
    },
    {
     "data": {
      "text/html": [
       "<div style=\"border: 1px dotted #858585; border-radius:8px;\n",
       "    background-color:#FDFDFD; padding:5pt 10pt 5pt 10pt\"><p style=\"font-size:12pt;\">Oilers prospects excited to play with <b style=\"background-color:#CCCCCC;padding:1pt 5pt 1pt 5pt; border-radius:8px\">McDavid</b>\\nThursday, 09.10.2015 / 6:07 PM / NHL Insider By <b style=\"background-color:#CCCCCC;padding:1pt 5pt 1pt 5pt; border-radius:8px\">Derek Van Diest</b> - NHL.com Correspondent Share with your Friends\\nTo:\\nFrom:\\nMessage:\\nOilers prospects excited to play with McDavid\\nEdmonton Oilers prospects are looking at the Young Stars Classic tournament as an opportunity of a lifetime.</p></div>"
      ],
      "text/plain": [
       "<IPython.core.display.HTML object>"
      ]
     },
     "metadata": {},
     "output_type": "display_data"
    },
    {
     "data": {
      "text/html": [
       "<div style=\"border: 1px dotted #858585; border-radius:8px;\n",
       "    background-color:#FDFDFD; padding:5pt 10pt 5pt 10pt\"><p style=\"font-size:12pt;\">Oilers prospects excited to play with <b style=\"background-color:#CCCCCC;padding:1pt 5pt 1pt 5pt; border-radius:8px\">McDavid</b>\\nThursday, 09.10.2015 / 6:07 PM / NHL Insider By Derek Van Diest - NHL.com Correspondent Share with your Friends\\nTo:\\nFrom:\\nMessage:\\nOilers prospects excited to play with <b style=\"background-color:#CCCCCC;padding:1pt 5pt 1pt 5pt; border-radius:8px\">McDavid</b>\\nEdmonton Oilers prospects are looking at the Young Stars Classic tournament as an opportunity of a lifetime.</p></div>"
      ],
      "text/plain": [
       "<IPython.core.display.HTML object>"
      ]
     },
     "metadata": {},
     "output_type": "display_data"
    },
    {
     "data": {
      "text/html": [
       "<div style=\"border: 1px dotted #858585; border-radius:8px;\n",
       "    background-color:#FDFDFD; padding:5pt 10pt 5pt 10pt\"><p style=\"font-size:12pt;\">Oilers prospects excited to play with McDavid\\nThursday, 09.10.2015 / 6:07 PM / NHL Insider By <b style=\"background-color:#CCCCCC;padding:1pt 5pt 1pt 5pt; border-radius:8px\">Derek Van Diest</b> - NHL.com Correspondent Share with your Friends\\nTo:\\nFrom:\\nMessage:\\nOilers prospects excited to play with <b style=\"background-color:#CCCCCC;padding:1pt 5pt 1pt 5pt; border-radius:8px\">McDavid</b>\\nEdmonton Oilers prospects are looking at the Young Stars Classic tournament as an opportunity of a lifetime.</p></div>"
      ],
      "text/plain": [
       "<IPython.core.display.HTML object>"
      ]
     },
     "metadata": {},
     "output_type": "display_data"
    },
    {
     "data": {
      "text/html": [
       "<div style=\"border: 1px dotted #858585; border-radius:8px;\n",
       "    background-color:#FDFDFD; padding:5pt 10pt 5pt 10pt\"><p style=\"font-size:12pt;\">EDMONTON -- Edmonton Oilers prospect Kyle Platzer is looking at the Young Stars Classic tournament as an opportunity of a lifetime.There is a possibility <b style=\"background-color:#CCCCCC;padding:1pt 5pt 1pt 5pt; border-radius:8px\">Platzer</b>, a center, could play on a line with <b style=\"background-color:#CCCCCC;padding:1pt 5pt 1pt 5pt; border-radius:8px\">Connor McDavid</b>, the No. 1 pick in the 2015 NHL Draft.</p></div>"
      ],
      "text/plain": [
       "<IPython.core.display.HTML object>"
      ]
     },
     "metadata": {},
     "output_type": "display_data"
    },
    {
     "data": {
      "text/html": [
       "<div style=\"border: 1px dotted #858585; border-radius:8px;\n",
       "    background-color:#FDFDFD; padding:5pt 10pt 5pt 10pt\"><p style=\"font-size:12pt;\">EDMONTON -- Edmonton Oilers prospect <b style=\"background-color:#CCCCCC;padding:1pt 5pt 1pt 5pt; border-radius:8px\">Kyle Platzer</b> is looking at the Young Stars Classic tournament as an opportunity of a lifetime.There is a possibility <b style=\"background-color:#CCCCCC;padding:1pt 5pt 1pt 5pt; border-radius:8px\">Platzer</b>, a center, could play on a line with Connor McDavid, the No. 1 pick in the 2015 NHL Draft.</p></div>"
      ],
      "text/plain": [
       "<IPython.core.display.HTML object>"
      ]
     },
     "metadata": {},
     "output_type": "display_data"
    },
    {
     "data": {
      "text/html": [
       "<div style=\"border: 1px dotted #858585; border-radius:8px;\n",
       "    background-color:#FDFDFD; padding:5pt 10pt 5pt 10pt\"><p style=\"font-size:12pt;\">EDMONTON -- Edmonton Oilers prospect <b style=\"background-color:#CCCCCC;padding:1pt 5pt 1pt 5pt; border-radius:8px\">Kyle Platzer</b> is looking at the Young Stars Classic tournament as an opportunity of a lifetime.There is a possibility Platzer, a center, could play on a line with <b style=\"background-color:#CCCCCC;padding:1pt 5pt 1pt 5pt; border-radius:8px\">Connor McDavid</b>, the No. 1 pick in the 2015 NHL Draft.</p></div>"
      ],
      "text/plain": [
       "<IPython.core.display.HTML object>"
      ]
     },
     "metadata": {},
     "output_type": "display_data"
    },
    {
     "data": {
      "text/html": [
       "<div style=\"border: 1px dotted #858585; border-radius:8px;\n",
       "    background-color:#FDFDFD; padding:5pt 10pt 5pt 10pt\"><p style=\"font-size:12pt;\">\\n \\nWhile <b style=\"background-color:#CCCCCC;padding:1pt 5pt 1pt 5pt; border-radius:8px\">Deanna</b>'s Java Cafe offers the standard baked goods as the java station, one special item <b style=\"background-color:#CCCCCC;padding:1pt 5pt 1pt 5pt; border-radius:8px\">Posey</b> has added to the menu at the new location is a waffle bar.</p></div>"
      ],
      "text/plain": [
       "<IPython.core.display.HTML object>"
      ]
     },
     "metadata": {},
     "output_type": "display_data"
    },
    {
     "data": {
      "text/html": [
       "<div style=\"border: 1px dotted #858585; border-radius:8px;\n",
       "    background-color:#FDFDFD; padding:5pt 10pt 5pt 10pt\"><p style=\"font-size:12pt;\">\"McDavid (No. 1), defenseman <b style=\"background-color:#CCCCCC;padding:1pt 5pt 1pt 5pt; border-radius:8px\">Darnell Nurse</b> (No. 2), and center <b style=\"background-color:#CCCCCC;padding:1pt 5pt 1pt 5pt; border-radius:8px\">Leon Draisaitl</b> (No. 3) are Edmonton's three highest-rated prospects at the tournament, according to NHL.com.McDavid is expected to be part of the Oilers' opening-night roster and Nurse, 20, and Draisaitl, 19, will challenge for a spot in the lineup.</p></div>"
      ],
      "text/plain": [
       "<IPython.core.display.HTML object>"
      ]
     },
     "metadata": {},
     "output_type": "display_data"
    },
    {
     "data": {
      "text/html": [
       "<div style=\"border: 1px dotted #858585; border-radius:8px;\n",
       "    background-color:#FDFDFD; padding:5pt 10pt 5pt 10pt\"><p style=\"font-size:12pt;\">\"<b style=\"background-color:#CCCCCC;padding:1pt 5pt 1pt 5pt; border-radius:8px\">McDavid</b> (No. 1), defenseman Darnell Nurse (No. 2), and center <b style=\"background-color:#CCCCCC;padding:1pt 5pt 1pt 5pt; border-radius:8px\">Leon Draisaitl</b> (No. 3) are Edmonton's three highest-rated prospects at the tournament, according to NHL.com.McDavid is expected to be part of the Oilers' opening-night roster and Nurse, 20, and Draisaitl, 19, will challenge for a spot in the lineup.</p></div>"
      ],
      "text/plain": [
       "<IPython.core.display.HTML object>"
      ]
     },
     "metadata": {},
     "output_type": "display_data"
    },
    {
     "data": {
      "text/html": [
       "<div style=\"border: 1px dotted #858585; border-radius:8px;\n",
       "    background-color:#FDFDFD; padding:5pt 10pt 5pt 10pt\"><p style=\"font-size:12pt;\">\"McDavid (No. 1), defenseman Darnell Nurse (No. 2), and center <b style=\"background-color:#CCCCCC;padding:1pt 5pt 1pt 5pt; border-radius:8px\">Leon Draisaitl</b> (No. 3) are Edmonton's three highest-rated prospects at the tournament, according to NHL.com.McDavid is expected to be part of the Oilers' opening-night roster and Nurse, 20, and <b style=\"background-color:#CCCCCC;padding:1pt 5pt 1pt 5pt; border-radius:8px\">Draisaitl</b>, 19, will challenge for a spot in the lineup.</p></div>"
      ],
      "text/plain": [
       "<IPython.core.display.HTML object>"
      ]
     },
     "metadata": {},
     "output_type": "display_data"
    }
   ],
   "source": [
    "from viz import *\n",
    "candidates = session.query(Candidate).filter(Candidate.split == 0).all()\n",
    "candidates = candidates[0:50]\n",
    "for c in candidates:\n",
    "    display_candidate(c)"
   ]
  },
  {
   "cell_type": "markdown",
   "metadata": {
    "deletable": true,
    "editable": true
   },
   "source": [
    "## 1. Distant Supervision Labeling Functions\n",
    "\n",
    "In addition to writing labeling functions that describe text pattern-based heuristics for labeling training examples, we can also write labeling functions that distantly supervise examples. Here, we'll load in a list of known spouse pairs and check to see if the candidate pair matches one of these.\n",
    "\n",
    "### DBpedia\n",
    "http://wiki.dbpedia.org/\n",
    "Out database of known spouses comes from DBpedia, which is a community-driven resource similar to Wikipedia but for curating structured data. We use a preprocesses snapshot as our knowledge base for all labeling function development."
   ]
  },
  {
   "cell_type": "code",
   "execution_count": 12,
   "metadata": {
    "collapsed": false,
    "deletable": true,
    "editable": true
   },
   "outputs": [],
   "source": [
    "import bz2\n",
    "\n",
    "# Helper function to get last name\n",
    "def last_name(s):\n",
    "    name_parts = s.split(' ')\n",
    "    return name_parts[-1] if len(name_parts) > 1 else None    \n",
    "\n",
    "# Function to remove special characters from text\n",
    "def strip_special(s):\n",
    "    return ''.join(c for c in s if ord(c) < 128)\n",
    "\n",
    "# Read in known spouse pairs and save as set of tuples\n",
    "with bz2.BZ2File('data/spouses_dbpedia.csv.bz2', 'rb') as f:\n",
    "    known_spouses = set(\n",
    "        tuple(strip_special(x).strip().split(',')) for x in f.readlines()\n",
    "    )\n",
    "# Last name pairs for known spouses\n",
    "last_names = set([(last_name(x), last_name(y)) for x, y in known_spouses if last_name(x) and last_name(y)])"
   ]
  },
  {
   "cell_type": "markdown",
   "metadata": {
    "deletable": true,
    "editable": true
   },
   "source": [
    "### Example Entries"
   ]
  },
  {
   "cell_type": "code",
   "execution_count": 13,
   "metadata": {
    "collapsed": false,
    "deletable": true,
    "editable": true
   },
   "outputs": [
    {
     "data": {
      "text/plain": [
       "[('Eleanor Powell', 'Glenn Ford'),\n",
       " ('Andronikos Doukas', 'Maria of Bulgaria'),\n",
       " ('Marjorie Rambeau', 'Willard Mack'),\n",
       " ('Margo St. James', 'Paul Avery'),\n",
       " ('Joan of England', 'William II the Good'),\n",
       " ('Maiko Jeong Shun Lee', 'The Viscount Rothermere'),\n",
       " ('Heinrich von Coudenhove-Kalergi', 'Mitsuko Aoyama'),\n",
       " ('Kiran Nadar', 'Shiv Nadar ( )'),\n",
       " ('Cecilia Mnsdotter Eka', 'Erik Johansson Vasa'),\n",
       " ('Bonne of Bohemia', 'John the Good')]"
      ]
     },
     "execution_count": 13,
     "metadata": {},
     "output_type": "execute_result"
    }
   ],
   "source": [
    "list(known_spouses)[0:10]"
   ]
  },
  {
   "cell_type": "markdown",
   "metadata": {
    "deletable": true,
    "editable": true
   },
   "source": [
    "Load our helper functions"
   ]
  },
  {
   "cell_type": "code",
   "execution_count": 14,
   "metadata": {
    "collapsed": true,
    "deletable": true,
    "editable": true,
    "scrolled": true
   },
   "outputs": [],
   "source": [
    "import re\n",
    "from snorkel.lf_helpers import (\n",
    "    get_left_tokens, get_right_tokens, get_between_tokens,\n",
    "    get_text_between, get_tagged_text,\n",
    ")"
   ]
  },
  {
   "cell_type": "markdown",
   "metadata": {
    "deletable": true,
    "editable": true
   },
   "source": [
    "# Sandbox\n",
    "\n",
    "Write your labeling functions below:"
   ]
  },
  {
   "cell_type": "code",
   "execution_count": 15,
   "metadata": {
    "collapsed": true,
    "deletable": true,
    "editable": true
   },
   "outputs": [],
   "source": [
    "def LF_distant_supervision(c):\n",
    "    p1, p2 = c.person1.get_span(), c.person2.get_span()\n",
    "    return 1 if (p1, p2) in known_spouses or (p2, p1) in known_spouses else 0"
   ]
  },
  {
   "cell_type": "markdown",
   "metadata": {
    "deletable": true,
    "editable": true
   },
   "source": [
    "## Evaluating Labeling Functions\n",
    "\n",
    "### Individual LF Statistics\n",
    "One simple thing we can do is quickly test it on our development set (or any other set), without saving it to the database.  This is simple to do. For example, we can easily get every candidate that this LF labels as true:"
   ]
  },
  {
   "cell_type": "code",
   "execution_count": 16,
   "metadata": {
    "collapsed": false,
    "deletable": true,
    "editable": true
   },
   "outputs": [],
   "source": [
    "def eval_lf(lf, split, gold=None):\n",
    "    labeled = []\n",
    "    cands = session.query(Spouse).filter(Spouse.split == split).order_by(Candidate.id).all()\n",
    "    for i,c in enumerate(cands):\n",
    "        if lf(c) != 0:\n",
    "            if gold != None and gold.size != 0:\n",
    "                labeled.append((c, gold[i,0]))\n",
    "            else:\n",
    "                labeled.append(c)\n",
    "    print(\"Number labeled:\", len(labeled))\n",
    "    return labeled"
   ]
  },
  {
   "cell_type": "code",
   "execution_count": 17,
   "metadata": {
    "collapsed": false,
    "deletable": true,
    "editable": true
   },
   "outputs": [
    {
     "name": "stdout",
     "output_type": "stream",
     "text": [
      "('Number labeled:', 0)\n"
     ]
    }
   ],
   "source": [
    "labeled = eval_lf(LF_distant_supervision, 1)"
   ]
  },
  {
   "cell_type": "markdown",
   "metadata": {
    "deletable": true,
    "editable": true
   },
   "source": [
    "We can view candidates en masse. WARNING -- this is slow for very large candidate sets so use with caution!!"
   ]
  },
  {
   "cell_type": "code",
   "execution_count": 18,
   "metadata": {
    "collapsed": false,
    "deletable": true,
    "editable": true
   },
   "outputs": [
    {
     "name": "stdout",
     "output_type": "stream",
     "text": [
      "('Number labeled:', 0)\n"
     ]
    }
   ],
   "source": [
    "for c,label in eval_lf(LF_distant_supervision, 1, L_gold_dev):\n",
    "    display_candidate(c, label=label)"
   ]
  },
  {
   "cell_type": "markdown",
   "metadata": {
    "deletable": true,
    "editable": true
   },
   "source": [
    "For later convenience we group the labeling functions into a list."
   ]
  },
  {
   "cell_type": "code",
   "execution_count": null,
   "metadata": {
    "collapsed": false,
    "deletable": true,
    "editable": true
   },
   "outputs": [],
   "source": [
    "from snorkel.lf_helpers import test_LF\n",
    "tp, fp, tn, fn = test_LF(session, LF_distant_supervision, split=1, annotator_name='gold')"
   ]
  },
  {
   "cell_type": "markdown",
   "metadata": {
    "deletable": true,
    "editable": true
   },
   "source": [
    "## 2. Applying the Labeling Functions\n",
    "\n",
    "Next, we need to actually run the LFs over all of our training candidates, producing a set of `Labels` and `LabelKeys` (just the names of the LFs) in the database.  We'll do this using the `LabelAnnotator` class, a UDF which we will again run with `UDFRunner`.  **Note that this will delete any existing `Labels` and `LabelKeys` for this candidate set.**  We start by setting up the class:"
   ]
  },
  {
   "cell_type": "code",
   "execution_count": null,
   "metadata": {
    "collapsed": false,
    "deletable": true,
    "editable": true
   },
   "outputs": [],
   "source": [
    "LFs = [\n",
    "    LF_distant_supervision\n",
    "]"
   ]
  },
  {
   "cell_type": "code",
   "execution_count": null,
   "metadata": {
    "collapsed": false,
    "deletable": true,
    "editable": true
   },
   "outputs": [],
   "source": [
    "from snorkel.annotations import LabelAnnotator\n",
    "labeler = LabelAnnotator(lfs=LFs)"
   ]
  },
  {
   "cell_type": "markdown",
   "metadata": {
    "deletable": true,
    "editable": true
   },
   "source": [
    "Finally, we run the `labeler`. Note that we set a random seed for reproducibility, since some of the LFs involve random number generators. Again, this can be run in parallel, given an appropriate database like Postgres is being used:"
   ]
  },
  {
   "cell_type": "code",
   "execution_count": null,
   "metadata": {
    "collapsed": false,
    "deletable": true,
    "editable": true
   },
   "outputs": [],
   "source": [
    "np.random.seed(1701)\n",
    "%time L_train = labeler.apply(split=0)\n",
    "L_train"
   ]
  },
  {
   "cell_type": "markdown",
   "metadata": {
    "deletable": true,
    "editable": true
   },
   "source": [
    "If we've already created the labels (saved in the database), we can load them in as a sparse matrix here too:"
   ]
  },
  {
   "cell_type": "code",
   "execution_count": null,
   "metadata": {
    "collapsed": false,
    "deletable": true,
    "editable": true
   },
   "outputs": [],
   "source": [
    "L_train = labeler.load_matrix(session, split=0)\n",
    "L_train"
   ]
  },
  {
   "cell_type": "markdown",
   "metadata": {
    "deletable": true,
    "editable": true
   },
   "source": [
    "Note that the returned matrix is a special subclass of the `scipy.sparse.csr_matrix` class, with some special features which we demonstrate below:"
   ]
  },
  {
   "cell_type": "code",
   "execution_count": null,
   "metadata": {
    "collapsed": false,
    "deletable": true,
    "editable": true
   },
   "outputs": [],
   "source": [
    "L_train.get_candidate(session, 0)"
   ]
  },
  {
   "cell_type": "code",
   "execution_count": null,
   "metadata": {
    "collapsed": false,
    "deletable": true,
    "editable": true
   },
   "outputs": [],
   "source": [
    "L_train.get_key(session, 0)"
   ]
  },
  {
   "cell_type": "markdown",
   "metadata": {
    "deletable": true,
    "editable": true
   },
   "source": [
    "We can also view statistics about the resulting label matrix.\n",
    "\n",
    "* **Coverage** is the fraction of candidates that the labeling function emits a non-zero label for.\n",
    "* **Overlap** is the fraction candidates that the labeling function emits a non-zero label for and that another labeling function emits a non-zero label for.\n",
    "* **Conflict** is the fraction candidates that the labeling function emits a non-zero label for and that another labeling function emits a *conflicting* non-zero label for."
   ]
  },
  {
   "cell_type": "code",
   "execution_count": null,
   "metadata": {
    "collapsed": false,
    "deletable": true,
    "editable": true
   },
   "outputs": [],
   "source": [
    "L_train.lf_stats(session)"
   ]
  },
  {
   "cell_type": "code",
   "execution_count": null,
   "metadata": {
    "collapsed": true
   },
   "outputs": [],
   "source": []
  }
 ],
 "metadata": {
  "anaconda-butt": {},
  "kernelspec": {
   "display_name": "Python 2",
   "language": "python",
   "name": "python2"
  },
  "language_info": {
   "codemirror_mode": {
    "name": "ipython",
    "version": 2
   },
   "file_extension": ".py",
   "mimetype": "text/x-python",
   "name": "python",
   "nbconvert_exporter": "python",
   "pygments_lexer": "ipython2",
   "version": "2.7.13"
  }
 },
 "nbformat": 4,
 "nbformat_minor": 1
}
