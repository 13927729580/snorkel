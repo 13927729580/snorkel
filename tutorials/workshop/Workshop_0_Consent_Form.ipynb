{
 "cells": [
  {
   "cell_type": "markdown",
   "metadata": {},
   "source": [
    "\n",
    "**STANFORD UNIVERSITY**   Research Information Sheet  \n",
    "**Protocol Director**:    Jason Alan Fries\n",
    "\n",
    "# Evaluating the Usability of a Software Platform for Building Lightweight Machine Learning Systems\n",
    "\n",
    "## DESCRIPTION: \n",
    "You are invited to participate in a research study on the usability of a software framework for building complex machine learning systems without requiring advanced experience in computer programming.  The purpose of this research is to quantify any benefits provided by this framework as measured in time spent writing code and the overall score of this code on a benchmark machine-learning task. You will be asked to participate in a tutorial session where you will be provided instructions on using this framework as well as translating plain language rules into code using the Python programming language. You will then interact with 4 web-based assessments by reading instructions, writing code, and executing small programs. \n",
    "\n",
    "## TIME INVOLVEMENT: \n",
    "Your participation will take approximately 4 hours for instructional material, coding exercises, and web-based assessment. \n",
    "\n",
    "## RISKS AND BENEFITS:\n",
    "There are no foreseeable risks to participants in this research study. Participants may gain a better understanding of how to use machine-learning tools in their research. However, we cannot and do not guarantee or promise that you will receive any benefits from this study.\n",
    "\n",
    "## PAYMENTS:\n",
    "You will receive no financial payment or reimbursement for your participation. \n",
    "\n",
    "## SUBJECT'S RIGHTS: \n",
    "If you have read this form and have decided to participate in this project, please understand your participation is voluntary and you have the right to withdraw your consent or discontinue participation at any time without penalty or loss of benefits to which you are otherwise entitled.  The alternative is not to participate.  You have the right to refuse to answer particular questions.  Your individual privacy will be maintained in all published and written data resulting from the study. \n",
    "\n",
    "## CONTACT INFORMATION: \n",
    "Questions:  If you have any questions, concerns or complaints about this research, its procedures, risks and benefits, contact the Protocol Director, Jason Alan Fries (319) 594-2461 \n",
    "\n",
    "## Independent Contact:\n",
    "If you are not satisfied with how this study is being conducted, or if you have any concerns, complaints, or general questions about the research or your rights as a participant, please contact the Stanford Institutional Review Board (IRB) to speak to someone independent of the research team at (650)-723-2480 or toll free at 1-866-680-2906.  You can also write to the Stanford IRB, Stanford University, 3000 El Camino Real, Five Palo Alto Square, 4th Floor, Palo Alto, CA 94306.\n",
    "\n",
    "Please print a copy of this page for your records.\n",
    "\n",
    "If you agree to participate in this research, please indicate this to the researcher.\n"
   ]
  },
  {
   "cell_type": "code",
   "execution_count": null,
   "metadata": {
    "collapsed": true
   },
   "outputs": [],
   "source": []
  }
 ],
 "metadata": {
  "kernelspec": {
   "display_name": "Python 2",
   "language": "python",
   "name": "python2"
  },
  "language_info": {
   "codemirror_mode": {
    "name": "ipython",
    "version": 2
   },
   "file_extension": ".py",
   "mimetype": "text/x-python",
   "name": "python",
   "nbconvert_exporter": "python",
   "pygments_lexer": "ipython2",
   "version": "2.7.13"
  }
 },
 "nbformat": 4,
 "nbformat_minor": 2
}
