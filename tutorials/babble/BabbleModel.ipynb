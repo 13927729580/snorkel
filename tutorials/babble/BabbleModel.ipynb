{
 "cells": [
  {
   "cell_type": "code",
   "execution_count": 1,
   "metadata": {
    "collapsed": true
   },
   "outputs": [],
   "source": [
    "%load_ext autoreload\n",
    "%autoreload 2"
   ]
  },
  {
   "cell_type": "code",
   "execution_count": 2,
   "metadata": {
    "collapsed": true
   },
   "outputs": [],
   "source": [
    "import os\n",
    "\n",
    "DOMAIN = 'bike'\n",
    "\n",
    "db_dict = {\n",
    "    'test':   'postgres://localhost:5432/babble_model_unittest',\n",
    "    'spouse': 'postgres://localhost:5432/babble_model_spouse',\n",
    "    'bike':   'postgres://localhost:5432/babble_model_bike',\n",
    "    'cdr':    'postgres://localhost:5432/babble_model_cdr',\n",
    "}\n",
    "\n",
    "os.environ['SNORKELDB'] = db_dict[DOMAIN]"
   ]
  },
  {
   "cell_type": "code",
   "execution_count": 3,
   "metadata": {
    "collapsed": false,
    "scrolled": true
   },
   "outputs": [],
   "source": [
    "from snorkel import SnorkelSession\n",
    "session = SnorkelSession()"
   ]
  },
  {
   "cell_type": "code",
   "execution_count": 6,
   "metadata": {
    "collapsed": false,
    "scrolled": true
   },
   "outputs": [],
   "source": [
    "from snorkel.contrib.babble.models import configuration\n",
    "\n",
    "config = configuration\n",
    "config['domain'] = DOMAIN\n",
    "config['splits'] = [0,1]\n",
    "config['parallelism'] = 1\n",
    "config['majority_vote'] = False\n",
    "config['verbose'] = False"
   ]
  },
  {
   "cell_type": "code",
   "execution_count": 9,
   "metadata": {
    "collapsed": false,
    "scrolled": true
   },
   "outputs": [
    {
     "name": "stdout",
     "output_type": "stream",
     "text": [
      "Candidates (split 0): 2406\n",
      "Num HITs unique: 40\n",
      "Num HITs total: 120\n",
      "Warning: for candidate 0:179::bbox:5~~0:179::bbox:2, expected 3 responses, found 6.\n",
      "Warning: for candidate 0:208::bbox:6~~0:208::bbox:0, expected 3 responses, found 6.\n",
      "Warning: expected 160 total explanations, found 159.\n",
      "Unanimous: 99\n",
      "Majority: 33\n",
      "Bad: 27\n"
     ]
    }
   ],
   "source": [
    "from snorkel.models import candidate_subclass\n",
    "from tutorials.babble import MTurkHelper\n",
    "\n",
    "if DOMAIN == 'spouse':\n",
    "    from tutorials.babble.spouse import SpouseModel\n",
    "    Spouse = candidate_subclass('Spouse', ['person1', 'person2'])\n",
    "    candidate_class = Spouse\n",
    "    \n",
    "    sm = SpouseModel(session, Spouse, config)\n",
    "    output_csv_path= (os.environ['SNORKELHOME'] + \n",
    "                      '/tutorials/babble/data/spouse/mturk_spouse_01_out.csv')\n",
    "    candidates = session.query(Spouse).all()\n",
    "    \n",
    "    helper = MTurkHelper(candidates, num_hits=25)\n",
    "    explanations = helper.postprocess(output_csv_path, candidates=candidates, verbose=False)\n",
    "elif DOMAIN == 'bike':\n",
    "    from tutorials.babble.bike import BikeModel\n",
    "    Biker = candidate_subclass('Biker', ['person', 'bike'])\n",
    "    candidate_class = Biker\n",
    "    \n",
    "    sm = BikeModel(session, Biker, config)\n",
    "    output_csv_path = (os.environ['SNORKELHOME'] + \n",
    "                       '/tutorials/babble/bike/data/VisualGenome_all_out.csv')\n",
    "    SPLIT = 0\n",
    "    candidates = session.query(candidate_class).filter(candidate_class.split == SPLIT).all()\n",
    "    print(\"Candidates (split {}): {}\".format(SPLIT, len(candidates)))\n",
    "    \n",
    "    helper = MTurkHelper(candidates, num_hits=40)\n",
    "    explanations = helper.postprocess_visual(output_csv_path, verbose=False)\n",
    "else:\n",
    "    raise Exception('Invalid domain: {}'.format(DOMAIN))\n",
    "user_lists = {}"
   ]
  },
  {
   "cell_type": "code",
   "execution_count": 10,
   "metadata": {
    "collapsed": false,
    "scrolled": true
   },
   "outputs": [],
   "source": [
    "# anns_folder = '/dfs/scratch0/paroma/coco/annotations/'\n",
    "# anns_folder = os.environ['SNORKELHOME'] + '/tutorials/babble/bike/data/'\n",
    "# %time sm.parse(anns_folder)"
   ]
  },
  {
   "cell_type": "code",
   "execution_count": 11,
   "metadata": {
    "collapsed": false,
    "scrolled": true
   },
   "outputs": [],
   "source": [
    "# %time sm.extract()"
   ]
  },
  {
   "cell_type": "code",
   "execution_count": 12,
   "metadata": {
    "collapsed": false,
    "scrolled": true
   },
   "outputs": [],
   "source": [
    "# %time sm.load_gold()"
   ]
  },
  {
   "cell_type": "code",
   "execution_count": 13,
   "metadata": {
    "collapsed": false,
    "scrolled": true
   },
   "outputs": [
    {
     "name": "stdout",
     "output_type": "stream",
     "text": [
      "Created grammar with 441 rules\n",
      "358 parses created from 244 out of 367 explanation(s)\n",
      "Filtered to 92 LFs with duplicate semantics filter (266 filtered).\n",
      "Filtered to 58 LFs with consistency filter (34 filtered).\n",
      "Clearing existing...\n",
      "Running UDF...\n",
      "[========================================] 100%\n",
      "\n",
      "Filtered to 47 LFs with uniform signatures filter (11 filtered).\n",
      "Filtered to 30 LFs with duplicate signatures filter (17 filtered).\n",
      "CPU times: user 19.7 s, sys: 1.56 s, total: 21.3 s\n",
      "Wall time: 30.7 s\n"
     ]
    }
   ],
   "source": [
    "%time sm.babble(explanations, user_lists=user_lists)"
   ]
  },
  {
   "cell_type": "code",
   "execution_count": 14,
   "metadata": {
    "collapsed": false
   },
   "outputs": [],
   "source": [
    "# sm.use_intro_lfs()"
   ]
  },
  {
   "cell_type": "code",
   "execution_count": 15,
   "metadata": {
    "collapsed": false,
    "scrolled": true
   },
   "outputs": [
    {
     "name": "stdout",
     "output_type": "stream",
     "text": [
      "Clearing existing...\n",
      "Running UDF...\n",
      "[========================================] 100%\n",
      "\n",
      "\n",
      "Labeled split 0: (2406,30) sparse (nnz = 39489)\n",
      "Clearing existing...\n",
      "Running UDF...\n",
      "[========================================] 100%\n",
      "\n",
      "\n",
      "Labeled split 1: (1037,30) sparse (nnz = 16778)\n",
      "CPU times: user 32.3 s, sys: 1.93 s, total: 34.3 s\n",
      "Wall time: 51 s\n"
     ]
    }
   ],
   "source": [
    "%time sm.label()"
   ]
  },
  {
   "cell_type": "code",
   "execution_count": 16,
   "metadata": {
    "collapsed": false,
    "scrolled": true
   },
   "outputs": [
    {
     "name": "stdout",
     "output_type": "stream",
     "text": [
      "Inferred cardinality: 2\n",
      "Saved 2406 marginals\n",
      "CPU times: user 42.5 s, sys: 275 ms, total: 42.8 s\n",
      "Wall time: 43.8 s\n"
     ]
    }
   ],
   "source": [
    "%time sm.supervise()"
   ]
  },
  {
   "cell_type": "code",
   "execution_count": 17,
   "metadata": {
    "collapsed": false
   },
   "outputs": [],
   "source": [
    "L_train = sm.labeler.load_matrix(sm.session, split=0)\n",
    "train_marginals = sm.gen_model.marginals(L_train)"
   ]
  },
  {
   "cell_type": "code",
   "execution_count": 18,
   "metadata": {
    "collapsed": false
   },
   "outputs": [
    {
     "data": {
      "image/png": "[encoded data removed]",
      "text/plain": [
       "<matplotlib.figure.Figure at 0x12a0ffa50>"
      ]
     },
     "metadata": {},
     "output_type": "display_data"
    }
   ],
   "source": [
    "import matplotlib.pyplot as plt\n",
    "plt.hist(train_marginals, bins=20)\n",
    "plt.show()"
   ]
  },
  {
   "cell_type": "code",
   "execution_count": 19,
   "metadata": {
    "collapsed": false
   },
   "outputs": [
    {
     "data": {
      "text/html": [
       "<div>\n",
       "<table border=\"1\" class=\"dataframe\">\n",
       "  <thead>\n",
       "    <tr style=\"text-align: right;\">\n",
       "      <th></th>\n",
       "      <th>Accuracy</th>\n",
       "      <th>Coverage</th>\n",
       "      <th>Precision</th>\n",
       "      <th>Recall</th>\n",
       "    </tr>\n",
       "  </thead>\n",
       "  <tbody>\n",
       "    <tr>\n",
       "      <th>0</th>\n",
       "      <td>0.996015</td>\n",
       "      <td>0.3011</td>\n",
       "      <td>0.995367</td>\n",
       "      <td>0.3008</td>\n",
       "    </tr>\n",
       "    <tr>\n",
       "      <th>1</th>\n",
       "      <td>0.002945</td>\n",
       "      <td>0.4754</td>\n",
       "      <td>0.003380</td>\n",
       "      <td>0.0016</td>\n",
       "    </tr>\n",
       "    <tr>\n",
       "      <th>2</th>\n",
       "      <td>0.005121</td>\n",
       "      <td>0.3710</td>\n",
       "      <td>0.003235</td>\n",
       "      <td>0.0012</td>\n",
       "    </tr>\n",
       "    <tr>\n",
       "      <th>3</th>\n",
       "      <td>0.003688</td>\n",
       "      <td>0.5152</td>\n",
       "      <td>0.004657</td>\n",
       "      <td>0.0024</td>\n",
       "    </tr>\n",
       "    <tr>\n",
       "      <th>4</th>\n",
       "      <td>0.003635</td>\n",
       "      <td>0.3301</td>\n",
       "      <td>0.004260</td>\n",
       "      <td>0.0014</td>\n",
       "    </tr>\n",
       "    <tr>\n",
       "      <th>5</th>\n",
       "      <td>0.999367</td>\n",
       "      <td>0.7901</td>\n",
       "      <td>0.999242</td>\n",
       "      <td>0.7912</td>\n",
       "    </tr>\n",
       "    <tr>\n",
       "      <th>6</th>\n",
       "      <td>0.997831</td>\n",
       "      <td>0.5071</td>\n",
       "      <td>0.997230</td>\n",
       "      <td>0.5040</td>\n",
       "    </tr>\n",
       "    <tr>\n",
       "      <th>7</th>\n",
       "      <td>0.998191</td>\n",
       "      <td>0.6632</td>\n",
       "      <td>0.998486</td>\n",
       "      <td>0.6596</td>\n",
       "    </tr>\n",
       "    <tr>\n",
       "      <th>8</th>\n",
       "      <td>0.000000</td>\n",
       "      <td>0.9979</td>\n",
       "      <td>0.000000</td>\n",
       "      <td>0.0000</td>\n",
       "    </tr>\n",
       "    <tr>\n",
       "      <th>9</th>\n",
       "      <td>0.003763</td>\n",
       "      <td>0.5049</td>\n",
       "      <td>0.003553</td>\n",
       "      <td>0.0018</td>\n",
       "    </tr>\n",
       "    <tr>\n",
       "      <th>10</th>\n",
       "      <td>0.998424</td>\n",
       "      <td>0.4441</td>\n",
       "      <td>0.998203</td>\n",
       "      <td>0.4444</td>\n",
       "    </tr>\n",
       "    <tr>\n",
       "      <th>11</th>\n",
       "      <td>0.998748</td>\n",
       "      <td>0.6388</td>\n",
       "      <td>0.998433</td>\n",
       "      <td>0.6370</td>\n",
       "    </tr>\n",
       "    <tr>\n",
       "      <th>12</th>\n",
       "      <td>0.003734</td>\n",
       "      <td>0.4821</td>\n",
       "      <td>0.003328</td>\n",
       "      <td>0.0016</td>\n",
       "    </tr>\n",
       "    <tr>\n",
       "      <th>13</th>\n",
       "      <td>0.025761</td>\n",
       "      <td>0.0854</td>\n",
       "      <td>0.016949</td>\n",
       "      <td>0.0014</td>\n",
       "    </tr>\n",
       "    <tr>\n",
       "      <th>14</th>\n",
       "      <td>0.000952</td>\n",
       "      <td>0.6304</td>\n",
       "      <td>0.000632</td>\n",
       "      <td>0.0004</td>\n",
       "    </tr>\n",
       "    <tr>\n",
       "      <th>15</th>\n",
       "      <td>0.001917</td>\n",
       "      <td>0.5217</td>\n",
       "      <td>0.001542</td>\n",
       "      <td>0.0008</td>\n",
       "    </tr>\n",
       "    <tr>\n",
       "      <th>16</th>\n",
       "      <td>0.000000</td>\n",
       "      <td>0.9965</td>\n",
       "      <td>0.000000</td>\n",
       "      <td>0.0000</td>\n",
       "    </tr>\n",
       "    <tr>\n",
       "      <th>17</th>\n",
       "      <td>0.995181</td>\n",
       "      <td>0.4980</td>\n",
       "      <td>0.994495</td>\n",
       "      <td>0.5058</td>\n",
       "    </tr>\n",
       "    <tr>\n",
       "      <th>18</th>\n",
       "      <td>0.018701</td>\n",
       "      <td>0.1016</td>\n",
       "      <td>0.023166</td>\n",
       "      <td>0.0024</td>\n",
       "    </tr>\n",
       "    <tr>\n",
       "      <th>19</th>\n",
       "      <td>0.999514</td>\n",
       "      <td>0.8235</td>\n",
       "      <td>0.999759</td>\n",
       "      <td>0.8290</td>\n",
       "    </tr>\n",
       "    <tr>\n",
       "      <th>20</th>\n",
       "      <td>0.999892</td>\n",
       "      <td>0.9234</td>\n",
       "      <td>0.999782</td>\n",
       "      <td>0.9188</td>\n",
       "    </tr>\n",
       "    <tr>\n",
       "      <th>21</th>\n",
       "      <td>0.998481</td>\n",
       "      <td>0.6584</td>\n",
       "      <td>0.998489</td>\n",
       "      <td>0.6610</td>\n",
       "    </tr>\n",
       "    <tr>\n",
       "      <th>22</th>\n",
       "      <td>0.004243</td>\n",
       "      <td>0.2121</td>\n",
       "      <td>0.004686</td>\n",
       "      <td>0.0010</td>\n",
       "    </tr>\n",
       "    <tr>\n",
       "      <th>23</th>\n",
       "      <td>0.006780</td>\n",
       "      <td>0.3540</td>\n",
       "      <td>0.006826</td>\n",
       "      <td>0.0024</td>\n",
       "    </tr>\n",
       "    <tr>\n",
       "      <th>24</th>\n",
       "      <td>0.998598</td>\n",
       "      <td>0.6421</td>\n",
       "      <td>0.997522</td>\n",
       "      <td>0.6440</td>\n",
       "    </tr>\n",
       "    <tr>\n",
       "      <th>25</th>\n",
       "      <td>0.998452</td>\n",
       "      <td>0.6458</td>\n",
       "      <td>0.997813</td>\n",
       "      <td>0.6386</td>\n",
       "    </tr>\n",
       "    <tr>\n",
       "      <th>26</th>\n",
       "      <td>0.996408</td>\n",
       "      <td>0.5011</td>\n",
       "      <td>0.996381</td>\n",
       "      <td>0.4956</td>\n",
       "    </tr>\n",
       "    <tr>\n",
       "      <th>27</th>\n",
       "      <td>0.998373</td>\n",
       "      <td>0.6759</td>\n",
       "      <td>0.998493</td>\n",
       "      <td>0.6624</td>\n",
       "    </tr>\n",
       "    <tr>\n",
       "      <th>28</th>\n",
       "      <td>0.001248</td>\n",
       "      <td>0.7209</td>\n",
       "      <td>0.001391</td>\n",
       "      <td>0.0010</td>\n",
       "    </tr>\n",
       "    <tr>\n",
       "      <th>29</th>\n",
       "      <td>0.002423</td>\n",
       "      <td>0.4952</td>\n",
       "      <td>0.002009</td>\n",
       "      <td>0.0010</td>\n",
       "    </tr>\n",
       "  </tbody>\n",
       "</table>\n",
       "</div>"
      ],
      "text/plain": [
       "    Accuracy  Coverage  Precision  Recall\n",
       "0   0.996015    0.3011   0.995367  0.3008\n",
       "1   0.002945    0.4754   0.003380  0.0016\n",
       "2   0.005121    0.3710   0.003235  0.0012\n",
       "3   0.003688    0.5152   0.004657  0.0024\n",
       "4   0.003635    0.3301   0.004260  0.0014\n",
       "5   0.999367    0.7901   0.999242  0.7912\n",
       "6   0.997831    0.5071   0.997230  0.5040\n",
       "7   0.998191    0.6632   0.998486  0.6596\n",
       "8   0.000000    0.9979   0.000000  0.0000\n",
       "9   0.003763    0.5049   0.003553  0.0018\n",
       "10  0.998424    0.4441   0.998203  0.4444\n",
       "11  0.998748    0.6388   0.998433  0.6370\n",
       "12  0.003734    0.4821   0.003328  0.0016\n",
       "13  0.025761    0.0854   0.016949  0.0014\n",
       "14  0.000952    0.6304   0.000632  0.0004\n",
       "15  0.001917    0.5217   0.001542  0.0008\n",
       "16  0.000000    0.9965   0.000000  0.0000\n",
       "17  0.995181    0.4980   0.994495  0.5058\n",
       "18  0.018701    0.1016   0.023166  0.0024\n",
       "19  0.999514    0.8235   0.999759  0.8290\n",
       "20  0.999892    0.9234   0.999782  0.9188\n",
       "21  0.998481    0.6584   0.998489  0.6610\n",
       "22  0.004243    0.2121   0.004686  0.0010\n",
       "23  0.006780    0.3540   0.006826  0.0024\n",
       "24  0.998598    0.6421   0.997522  0.6440\n",
       "25  0.998452    0.6458   0.997813  0.6386\n",
       "26  0.996408    0.5011   0.996381  0.4956\n",
       "27  0.998373    0.6759   0.998493  0.6624\n",
       "28  0.001248    0.7209   0.001391  0.0010\n",
       "29  0.002423    0.4952   0.002009  0.0010"
      ]
     },
     "execution_count": 19,
     "metadata": {},
     "output_type": "execute_result"
    }
   ],
   "source": [
    "sm.gen_model.learned_lf_stats()"
   ]
  },
  {
   "cell_type": "code",
   "execution_count": 20,
   "metadata": {
    "collapsed": false
   },
   "outputs": [
    {
     "name": "stdout",
     "output_type": "stream",
     "text": [
      "Clearing existing...\n",
      "Running UDF...\n",
      "[========================================] 100%\n",
      "\n"
     ]
    }
   ],
   "source": [
    "L_dev = sm.labeler.apply_existing(split=1)"
   ]
  },
  {
   "cell_type": "code",
   "execution_count": 21,
   "metadata": {
    "collapsed": true
   },
   "outputs": [],
   "source": [
    "from snorkel.annotations import load_gold_labels\n",
    "L_gold_dev = load_gold_labels(session, annotator_name='gold', split=1)"
   ]
  },
  {
   "cell_type": "code",
   "execution_count": 22,
   "metadata": {
    "collapsed": false
   },
   "outputs": [
    {
     "name": "stdout",
     "output_type": "stream",
     "text": [
      "========================================\n",
      "Scores (Un-adjusted)\n",
      "========================================\n",
      "Pos. class accuracy: 1.0\n",
      "Neg. class accuracy: 0.0\n",
      "Precision            0.203\n",
      "Recall               1.0\n",
      "F1                   0.337\n",
      "----------------------------------------\n",
      "TP: 210 | FP: 827 | TN: 0 | FN: 0\n",
      "========================================\n",
      "\n"
     ]
    }
   ],
   "source": [
    "tp, fp, tn, fn = sm.gen_model.error_analysis(session, L_dev, L_gold_dev)"
   ]
  },
  {
   "cell_type": "code",
   "execution_count": null,
   "metadata": {
    "collapsed": false,
    "scrolled": true
   },
   "outputs": [],
   "source": [
    "# %time sm.classify()"
   ]
  },
  {
   "cell_type": "raw",
   "metadata": {},
   "source": [
    "SPOUSE TEST (w/ intro lfs):\n",
    "========================================\n",
    "Scores (Un-adjusted)\n",
    "========================================\n",
    "Pos. class accuracy: 0.624\n",
    "Neg. class accuracy: 0.926\n",
    "Precision            0.426\n",
    "Recall               0.624\n",
    "F1                   0.507\n",
    "----------------------------------------\n",
    "TP: 136 | FP: 183 | TN: 2300 | FN: 82\n",
    "========================================"
   ]
  },
  {
   "cell_type": "code",
   "execution_count": null,
   "metadata": {
    "collapsed": true
   },
   "outputs": [],
   "source": []
  }
 ],
 "metadata": {
  "anaconda-cloud": {},
  "kernelspec": {
   "display_name": "Python 2",
   "language": "python",
   "name": "python2"
  },
  "language_info": {
   "codemirror_mode": {
    "name": "ipython",
    "version": 2
   },
   "file_extension": ".py",
   "mimetype": "text/x-python",
   "name": "python",
   "nbconvert_exporter": "python",
   "pygments_lexer": "ipython2",
   "version": "2.7.13"
  }
 },
 "nbformat": 4,
 "nbformat_minor": 1
}
