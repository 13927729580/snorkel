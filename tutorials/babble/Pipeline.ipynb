{
 "cells": [
  {
   "cell_type": "code",
   "execution_count": 26,
   "metadata": {},
   "outputs": [
    {
     "name": "stdout",
     "output_type": "stream",
     "text": [
      "The autoreload extension is already loaded. To reload it, use:\n",
      "  %reload_ext autoreload\n"
     ]
    }
   ],
   "source": [
    "%load_ext autoreload\n",
    "%autoreload 2"
   ]
  },
  {
   "cell_type": "code",
   "execution_count": 28,
   "metadata": {},
   "outputs": [],
   "source": [
    "config = {\n",
    "    'domain': 'drink',\n",
    "    'debug': True,\n",
    "    'postgres': False,\n",
    "    'parallelism': 1,\n",
    "    'splits': [0,1,2],\n",
    "    'disc_model_class': 'logreg',\n",
    "    'supervision': 'generative',\n",
    "}"
   ]
  },
  {
   "cell_type": "code",
   "execution_count": 29,
   "metadata": {
    "scrolled": true
   },
   "outputs": [
    {
     "name": "stdout",
     "output_type": "stream",
     "text": [
      "$SNORKELDB = sqlite:///babble_drink_debug.db\n"
     ]
    }
   ],
   "source": [
    "# Get DB connection string and add to globals\n",
    "# NOTE: $SNORKELDB must be set before any snorkel imports\n",
    "import os\n",
    "\n",
    "default_db_name = 'babble_' + config['domain'] + ('_debug' if config.get('debug', False) else '')\n",
    "DB_NAME = config.get('db_name', default_db_name)\n",
    "if 'postgres' in config and config['postgres']:\n",
    "    DB_TYPE = 'postgres'\n",
    "else:\n",
    "    DB_TYPE = 'sqlite'\n",
    "    DB_NAME += '.db'\n",
    "DB_ADDR = \"localhost:{0}\".format(config['db_port']) if 'db_port' in config else \"\"\n",
    "os.environ['SNORKELDB'] = '{0}://{1}/{2}'.format(DB_TYPE, DB_ADDR, DB_NAME)\n",
    "print(\"$SNORKELDB = {0}\".format(os.environ['SNORKELDB']))"
   ]
  },
  {
   "cell_type": "code",
   "execution_count": 30,
   "metadata": {
    "scrolled": true
   },
   "outputs": [
    {
     "name": "stdout",
     "output_type": "stream",
     "text": [
      "Overwriting splits=[0, 1] to splits=[0, 1, 2]\n",
      "Overwriting disc_model_class=inception_v3 to disc_model_class=logreg\n",
      "Overwriting epochs=25 to epochs=100\n",
      "Overwriting disc_model_class=inception_v3 to disc_model_class=logreg\n",
      "Overwriting supervision=traditional to supervision=generative\n",
      "Overwriting gen_model_search_space=2 to gen_model_search_space=1\n",
      "NOTE: --debug=True: modifying parameters...\n"
     ]
    }
   ],
   "source": [
    "from snorkel import SnorkelSession\n",
    "session = SnorkelSession()\n",
    "\n",
    "# Resolve config conflicts (nb_config > local_config > global_config)\n",
    "from snorkel.contrib.babble.pipelines import merge_configs, get_local_pipeline\n",
    "config = merge_configs(config)\n",
    "\n",
    "if config['debug']:\n",
    "    print(\"NOTE: --debug=True: modifying parameters...\")\n",
    "    config['max_docs'] = 100\n",
    "    config['gen_model_search_space'] = 2\n",
    "    config['disc_model_search_space'] = 2\n",
    "    config['gen_params_default']['epochs'] = 25\n",
    "    config['disc_params_default']['n_epochs'] = 5\n",
    "\n",
    "from snorkel.models import candidate_subclass\n",
    "candidate_class = candidate_subclass(config['candidate_name'], config['candidate_entities'])\n",
    "\n",
    "pipeline = get_local_pipeline(config['domain'])\n",
    "pipe = pipeline(session, candidate_class, config)"
   ]
  },
  {
   "cell_type": "code",
   "execution_count": 31,
   "metadata": {
    "scrolled": true
   },
   "outputs": [
    {
     "name": "stdout",
     "output_type": "stream",
     "text": [
      "Clearing existing...\n",
      "Running UDF...\n",
      "Running UDF...\n",
      "CPU times: user 20.6 s, sys: 568 ms, total: 21.2 s\n",
      "Wall time: 21.7 s\n"
     ]
    }
   ],
   "source": [
    "%time pipe.parse()"
   ]
  },
  {
   "cell_type": "code",
   "execution_count": 32,
   "metadata": {
    "scrolled": true
   },
   "outputs": [
    {
     "name": "stdout",
     "output_type": "stream",
     "text": [
      "Extraction was performed during parse stage.\n",
      "Candidates [Split 0]: 15711\n",
      "Candidates [Split 1]: 3377\n",
      "Candidates [Split 2]: 0\n",
      "CPU times: user 16 ms, sys: 16 ms, total: 32 ms\n",
      "Wall time: 18 ms\n"
     ]
    }
   ],
   "source": [
    "%time pipe.extract()"
   ]
  },
  {
   "cell_type": "code",
   "execution_count": 33,
   "metadata": {
    "scrolled": true
   },
   "outputs": [
    {
     "name": "stdout",
     "output_type": "stream",
     "text": [
      "Reading train CSV!\n",
      "Num HITs unique: 1525\n",
      "Num HITs total: 3050\n",
      "Unanimous: 4542\n",
      "Majority: 2211\n",
      "Bad: 450\n",
      "Reading val CSV!\n",
      "Num HITs unique: 184\n",
      "Num HITs total: 368\n",
      "Unanimous: 474\n",
      "Majority: 318\n",
      "Bad: 100\n",
      "AnnotatorLabels created: 5648\n",
      "AnnotatorLabels created: 634\n",
      "CPU times: user 1min, sys: 692 ms, total: 1min 1s\n",
      "Wall time: 1min 1s\n"
     ]
    }
   ],
   "source": [
    "%time pipe.load_gold()"
   ]
  },
  {
   "cell_type": "code",
   "execution_count": 34,
   "metadata": {
    "scrolled": true
   },
   "outputs": [],
   "source": [
    "# %time pipe.featurize()"
   ]
  },
  {
   "cell_type": "code",
   "execution_count": null,
   "metadata": {
    "scrolled": false
   },
   "outputs": [
    {
     "name": "stdout",
     "output_type": "stream",
     "text": [
      "Reading train CSV!\n",
      "Num HITs unique: 44\n",
      "Num HITs total: 132\n",
      "Unanimous: 112\n",
      "Majority: 54\n",
      "Bad: 37\n",
      "Building list of target candidate ids...\n",
      "Collected 139 unique target candidate ids from 370 explanations.\n",
      "Gathering desired candidates...\n",
      "Found 139/139 desired candidates\n",
      "Linking explanations to candidates...\n",
      "Linked 370/370 explanations\n",
      "Calling babbler...\n",
      "WARNING: Number of candidates (3377) does not equal the number of pos (168) + neg (466) = 634 labels.\n",
      "Flushing all parses from previous explanation set.\n",
      "Created grammar with 453 rules\n",
      "121 explanation(s) out of 370 were parseable.\n",
      "171 parse(s) generated from 370 explanation(s).\n",
      "49 parse(s) remain (122 parse(s) removed by DuplicateSemanticsFilter).\n",
      "24 parse(s) remain (25 parse(s) removed by ConsistencyFilter).\n",
      "### Applying labeling functions to split 1\n",
      "[========================================] 100%\n",
      "\n",
      "### Done in 4.8s.\n",
      "\n",
      "18 parse(s) remain (6 parse(s) removed by UniformSignatureFilter: (0 None, 6 All)).\n",
      "14 parse(s) remain (4 parse(s) removed by DuplicateSignatureFilter).\n",
      "Added 14 parse(s) from 13 explanations to set. (Total # parses = 14)\n",
      "CPU times: user 16.9 s, sys: 1.51 s, total: 18.4 s\n",
      "Wall time: 17.8 s\n"
     ]
    }
   ],
   "source": [
    "%time pipe.collect()"
   ]
  },
  {
   "cell_type": "code",
   "execution_count": null,
   "metadata": {
    "scrolled": false
   },
   "outputs": [
    {
     "name": "stdout",
     "output_type": "stream",
     "text": [
      "Clearing existing...\n",
      "Running UDF...\n",
      "[========================================] 100%\n",
      "\n"
     ]
    }
   ],
   "source": [
    "%time pipe.label()"
   ]
  },
  {
   "cell_type": "code",
   "execution_count": null,
   "metadata": {
    "scrolled": false
   },
   "outputs": [],
   "source": [
    "%time pipe.supervise()"
   ]
  },
  {
   "cell_type": "code",
   "execution_count": null,
   "metadata": {
    "scrolled": false
   },
   "outputs": [],
   "source": [
    "config['display_marginals'] = False\n",
    "config['download_data'] = False\n",
    "config['disc_model_class'] = 'inception_v3'\n",
    "\n",
    "%time pipe.classify(slim_ws_path='/dfs/scratch0/paroma/slim_new/slim_ws/')"
   ]
  },
  {
   "cell_type": "markdown",
   "metadata": {},
   "source": [
    "Drink:\n",
    "208, 416, 624, 858"
   ]
  },
  {
   "cell_type": "code",
   "execution_count": null,
   "metadata": {},
   "outputs": [],
   "source": []
  }
 ],
 "metadata": {
  "kernelspec": {
   "display_name": "Python 2",
   "language": "python",
   "name": "python2"
  },
  "language_info": {
   "codemirror_mode": {
    "name": "ipython",
    "version": 2
   },
   "file_extension": ".py",
   "mimetype": "text/x-python",
   "name": "python",
   "nbconvert_exporter": "python",
   "pygments_lexer": "ipython2",
   "version": "2.7.13"
  }
 },
 "nbformat": 4,
 "nbformat_minor": 2
}
