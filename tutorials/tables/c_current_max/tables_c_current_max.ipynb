{
 "cells": [
  {
   "cell_type": "markdown",
   "metadata": {},
   "source": [
    "# C_CURRENT_MAX"
   ]
  },
  {
   "cell_type": "markdown",
   "metadata": {},
   "source": [
    "## Setup"
   ]
  },
  {
   "cell_type": "code",
   "execution_count": null,
   "metadata": {
    "collapsed": true
   },
   "outputs": [],
   "source": [
    "# If necessary:\n",
    "import os\n",
    "os.remove('snorkel.db')"
   ]
  },
  {
   "cell_type": "code",
   "execution_count": null,
   "metadata": {
    "collapsed": false
   },
   "outputs": [],
   "source": [
    "%load_ext autoreload\n",
    "%autoreload 2\n",
    "%matplotlib inline\n",
    "\n",
    "import sys\n",
    "sys.path.append(os.environ['SNORKELHOME'] + '/tutorials/tables/')"
   ]
  },
  {
   "cell_type": "markdown",
   "metadata": {},
   "source": [
    "## Parsing"
   ]
  },
  {
   "cell_type": "code",
   "execution_count": null,
   "metadata": {
    "collapsed": true
   },
   "outputs": [],
   "source": [
    "from snorkel import SnorkelSession\n",
    "session = SnorkelSession()"
   ]
  },
  {
   "cell_type": "markdown",
   "metadata": {},
   "source": [
    "### Define Parser"
   ]
  },
  {
   "cell_type": "code",
   "execution_count": null,
   "metadata": {
    "collapsed": true
   },
   "outputs": [],
   "source": [
    "import os\n",
    "from snorkel.parser import CorpusParser, HTMLParser, OmniParser\n",
    "from snorkel.utils import get_ORM_instance\n",
    "from snorkel.queries import split_corpus\n",
    "\n",
    "docs_path = os.environ['SNORKELHOME'] + '/tutorials/tables/data/hardware/hardware100_html/'\n",
    "doc_parser = HTMLParser(path=docs_path)\n",
    "context_parser = OmniParser()\n",
    "cp = CorpusParser(doc_parser, context_parser, max_docs=100) "
   ]
  },
  {
   "cell_type": "markdown",
   "metadata": {},
   "source": [
    "### Run Parser"
   ]
  },
  {
   "cell_type": "code",
   "execution_count": null,
   "metadata": {
    "collapsed": false,
    "scrolled": true
   },
   "outputs": [],
   "source": [
    "%time corpus = cp.parse_corpus(name='Hardware', session=session)\n",
    "\n",
    "session.add(corpus)\n",
    "session.commit()"
   ]
  },
  {
   "cell_type": "markdown",
   "metadata": {},
   "source": [
    "### Split Corpus"
   ]
  },
  {
   "cell_type": "code",
   "execution_count": null,
   "metadata": {
    "collapsed": false
   },
   "outputs": [],
   "source": [
    "from snorkel.models import Corpus\n",
    "\n",
    "corpus = get_ORM_instance(Corpus, session, 'Hardware')\n",
    "split_corpus(session, corpus, train=0.8, development=0.2, test=0, seed=4)"
   ]
  },
  {
   "cell_type": "code",
   "execution_count": null,
   "metadata": {
    "collapsed": true
   },
   "outputs": [],
   "source": [
    "# If necessary\n",
    "import os\n",
    "os.system('cp snorkel.db snorkel.db\\ corpus');"
   ]
  },
  {
   "cell_type": "markdown",
   "metadata": {},
   "source": [
    "## Extraction"
   ]
  },
  {
   "cell_type": "code",
   "execution_count": null,
   "metadata": {
    "collapsed": false
   },
   "outputs": [],
   "source": [
    "# If necessary:\n",
    "import os\n",
    "os.remove('snorkel.db');\n",
    "os.system('cp snorkel.db\\ corpus snorkel.db');\n",
    "\n",
    "%load_ext autoreload\n",
    "%autoreload 2\n",
    "%matplotlib inline\n",
    "\n",
    "import sys\n",
    "sys.path.append(os.environ['SNORKELHOME'] + '/tutorials/tables/')\n",
    "\n",
    "from snorkel import SnorkelSession\n",
    "session = SnorkelSession()"
   ]
  },
  {
   "cell_type": "code",
   "execution_count": null,
   "metadata": {
    "collapsed": true
   },
   "outputs": [],
   "source": [
    "from snorkel.models import candidate_subclass\n",
    "\n",
    "Part_Current = candidate_subclass('Part_Current', ['part','current'])"
   ]
  },
  {
   "cell_type": "markdown",
   "metadata": {},
   "source": [
    "### Define Matchers"
   ]
  },
  {
   "cell_type": "code",
   "execution_count": null,
   "metadata": {
    "collapsed": true
   },
   "outputs": [],
   "source": [
    "from snorkel.matchers import RegexMatchSpan, Union\n",
    "\n",
    "eeca_matcher = RegexMatchSpan(rgx='([b]{1}[abcdefklnpqruyz]{1}[\\swxyz]?[0-9]{3,5}[\\s]?[A-Z\\/]{0,5}[0-9]?[A-Z]?([-][A-Z0-9]{1,7})?([-][A-Z0-9]{1,2})?)')\n",
    "jedec_matcher = RegexMatchSpan(rgx='([123]N\\d{3,4}[A-Z]{0,5}[0-9]?[A-Z]?)')\n",
    "jis_matcher = RegexMatchSpan(rgx='(2S[abcdefghjkmqrstvz]{1}[\\d]{2,4})')\n",
    "others_matcher = RegexMatchSpan(rgx='((NSVBC|SMBT|MJ|MJE|MPS|MRF|RCA|TIP|ZTX|ZT|TIS|TIPL|DTC|MMBT|PZT){1}[\\d]{2,4}[A-Z]{0,3}([-][A-Z0-9]{0,6})?([-][A-Z0-9]{0,1})?)')\n",
    "parts_matcher = Union(eeca_matcher, jedec_matcher, jis_matcher, others_matcher)\n",
    "\n",
    "#TODO: This is missing values represented as AMPs rather than milliamps\n",
    "current_matcher = RegexMatchSpan(rgx=r'\\-?([2-9]|1[0-2]?)00', longest_match_only=False)"
   ]
  },
  {
   "cell_type": "markdown",
   "metadata": {},
   "source": [
    "### Define ContextSpaces"
   ]
  },
  {
   "cell_type": "code",
   "execution_count": null,
   "metadata": {
    "collapsed": false
   },
   "outputs": [],
   "source": [
    "import os\n",
    "from collections import defaultdict\n",
    "from hardware_utils import OmniNgramsPart, OmniNgramsTemp, get_gold_dict\n",
    "\n",
    "# Make parts list\n",
    "gold_file = os.environ['SNORKELHOME'] + '/tutorials/tables/data/hardware/hardware_gold.csv'\n",
    "gold_parts = get_gold_dict(gold_file, doc_on=True, part_on=True, val_on=False)\n",
    "parts_by_doc = defaultdict(set)\n",
    "for part in gold_parts:\n",
    "    parts_by_doc[part[0]].add(part[1])\n",
    "    \n",
    "part_ngrams = OmniNgramsPart(parts_by_doc=parts_by_doc, n_max=3)\n",
    "\n",
    "# TODO: This is missing the current represented as an Amp rather than a milliamp\n",
    "current_ngrams = OmniNgramsTemp(n_max=3)"
   ]
  },
  {
   "cell_type": "markdown",
   "metadata": {},
   "source": [
    "### Run CandidateExtractor"
   ]
  },
  {
   "cell_type": "code",
   "execution_count": null,
   "metadata": {
    "collapsed": false
   },
   "outputs": [],
   "source": [
    "from snorkel.models import Corpus\n",
    "from snorkel.candidates import CandidateExtractor\n",
    "from snorkel.utils import get_ORM_instance\n",
    "from hardware_utils import PartCurrentThrottler\n",
    "\n",
    "part_throttler = PartCurrentThrottler()\n",
    "\n",
    "ce = CandidateExtractor(Part_Current, \n",
    "                        [part_ngrams, current_ngrams], \n",
    "                        [parts_matcher, current_matcher],\n",
    "                        part_throttler)\n",
    "\n",
    "for corpus_name in ['Hardware Training', 'Hardware Development']:\n",
    "    corpus = get_ORM_instance(Corpus, session, corpus_name)\n",
    "    print \"Extracting Candidates from %s\" % corpus\n",
    "    %time candidates = ce.extract(\\\n",
    "        corpus.documents, corpus_name + ' Candidates', session)\n",
    "    session.add(candidates)\n",
    "    print \"%s contains %d Candidates\" % (candidates, len(candidates))\n",
    "session.commit()"
   ]
  },
  {
   "cell_type": "markdown",
   "metadata": {},
   "source": [
    "### Assess Recall"
   ]
  },
  {
   "cell_type": "code",
   "execution_count": null,
   "metadata": {
    "collapsed": false
   },
   "outputs": [],
   "source": [
    "from snorkel.models import CandidateSet\n",
    "from hardware_utils import entity_level_total_recall, most_common_document, get_gold_dict\n",
    "from snorkel.models import Candidate\n",
    "\n",
    "all_candidates = session.query(Candidate).all()\n",
    "gold_file = os.environ['SNORKELHOME'] + '/tutorials/tables/data/hardware/hardware_gold.csv'\n",
    "\n",
    "# gold_dict = get_gold_dict(gold_file, attrib='c_current_max')\n",
    "\n",
    "(tp, fp, fn) = entity_level_total_recall(\n",
    "    all_candidates, gold_file, 'c_current_max', relation=True)\n",
    "print len(tp)\n",
    "print len(fp)\n",
    "print len(fn)"
   ]
  },
  {
   "cell_type": "code",
   "execution_count": null,
   "metadata": {
    "collapsed": false
   },
   "outputs": [],
   "source": [
    "from pprint import pprint\n",
    "fns = list(fn)\n",
    "pprint(sorted(fns))"
   ]
  },
  {
   "cell_type": "code",
   "execution_count": null,
   "metadata": {
    "collapsed": true
   },
   "outputs": [],
   "source": []
  },
  {
   "cell_type": "code",
   "execution_count": null,
   "metadata": {
    "collapsed": true
   },
   "outputs": [],
   "source": [
    "# If necessary\n",
    "import os\n",
    "os.system('cp snorkel.db snorkel.db\\ candidates');"
   ]
  },
  {
   "cell_type": "markdown",
   "metadata": {},
   "source": [
    "## Gold Labels"
   ]
  },
  {
   "cell_type": "code",
   "execution_count": null,
   "metadata": {
    "collapsed": true
   },
   "outputs": [],
   "source": [
    "# If necessary\n",
    "import os\n",
    "os.remove('snorkel.db');\n",
    "os.system('cp snorkel.db\\ candidates snorkel.db');\n",
    "\n",
    "%load_ext autoreload\n",
    "%autoreload 2\n",
    "%matplotlib inline\n",
    "\n",
    "import sys\n",
    "sys.path.append(os.environ['SNORKELHOME'] + '/tutorials/tables/')\n",
    "\n",
    "from snorkel import SnorkelSession\n",
    "session = SnorkelSession()\n",
    "\n",
    "from snorkel.models import candidate_subclass\n",
    "Part_Current = candidate_subclass('Part_Current', ['part','current'])"
   ]
  },
  {
   "cell_type": "code",
   "execution_count": null,
   "metadata": {
    "collapsed": false
   },
   "outputs": [],
   "source": [
    "import os\n",
    "from snorkel.models import CandidateSet\n",
    "from hardware_utils import load_hardware_labels\n",
    "\n",
    "gold_file = os.environ['SNORKELHOME'] + '/tutorials/tables/data/hardware/hardware_gold.csv'\n",
    "for set_name in ['Training', 'Development']:\n",
    "    candidate_set_name = 'Hardware %s Candidates' % set_name\n",
    "    candidates = session.query(CandidateSet).filter(\n",
    "        CandidateSet.name == candidate_set_name).one()\n",
    "    label_set_name = 'Hardware %s Candidates -- Gold' % set_name\n",
    "    annotation_key_name = 'Hardware %s Labels -- Gold' % set_name\n",
    "    %time gold_candidates, annotation_key = load_hardware_labels(session,\\\n",
    "                           label_set_name, \\\n",
    "                           annotation_key_name, \\\n",
    "                           candidates, \\\n",
    "                           gold_file, \\\n",
    "                           attrib='c_current_max')\n",
    "    candidates_gold = session.query(CandidateSet).filter(\n",
    "        CandidateSet.name == candidate_set_name + ' -- Gold').one()\n",
    "    print \"%d/%d Candidates in %s have positive Labels\" % (\n",
    "        len(candidates_gold), len(candidates), candidates)"
   ]
  },
  {
   "cell_type": "code",
   "execution_count": null,
   "metadata": {
    "collapsed": true
   },
   "outputs": [],
   "source": [
    "# If necessary\n",
    "import os\n",
    "os.system('cp snorkel.db snorkel.db\\ labels');"
   ]
  },
  {
   "cell_type": "markdown",
   "metadata": {},
   "source": [
    "## Features"
   ]
  },
  {
   "cell_type": "code",
   "execution_count": null,
   "metadata": {
    "collapsed": true
   },
   "outputs": [],
   "source": [
    "# If necessary:\n",
    "import os\n",
    "os.remove('snorkel.db');\n",
    "os.system('cp snorkel.db\\ labels snorkel.db');\n",
    "\n",
    "%load_ext autoreload\n",
    "%autoreload 2\n",
    "%matplotlib inline\n",
    "\n",
    "import sys\n",
    "sys.path.append(os.environ['SNORKELHOME'] + '/tutorials/tables/')\n",
    "\n",
    "from snorkel import SnorkelSession\n",
    "session = SnorkelSession()\n",
    "\n",
    "from snorkel.models import candidate_subclass\n",
    "Part_Current = candidate_subclass('Part_Current', ['part','current'])"
   ]
  },
  {
   "cell_type": "markdown",
   "metadata": {},
   "source": [
    "### Extract Features"
   ]
  },
  {
   "cell_type": "code",
   "execution_count": null,
   "metadata": {
    "collapsed": false
   },
   "outputs": [],
   "source": [
    "from snorkel.models import CandidateSet\n",
    "from snorkel.annotations import FeatureManager\n",
    "from snorkel.utils import get_ORM_instance\n",
    "\n",
    "train = get_ORM_instance(CandidateSet, session, 'Hardware Training Candidates')\n",
    "dev   = get_ORM_instance(CandidateSet, session, 'Hardware Development Candidates')\n",
    "\n",
    "feature_manager = FeatureManager()\n",
    "%time F_train = feature_manager.create(session, train, 'Train Features')\n",
    "%time F_dev = feature_manager.update(session, dev, 'Train Features', expand_key_set=False)"
   ]
  },
  {
   "cell_type": "code",
   "execution_count": null,
   "metadata": {
    "collapsed": true
   },
   "outputs": [],
   "source": [
    "# If necessary:\n",
    "import os\n",
    "os.system('cp snorkel.db snorkel.db\\ featurized');"
   ]
  },
  {
   "cell_type": "markdown",
   "metadata": {},
   "source": [
    "## LFs"
   ]
  },
  {
   "cell_type": "code",
   "execution_count": null,
   "metadata": {
    "collapsed": true
   },
   "outputs": [],
   "source": [
    "# If necessary\n",
    "import os\n",
    "os.remove('snorkel.db');\n",
    "os.system('cp snorkel.db\\ featurized snorkel.db');\n",
    "\n",
    "%load_ext autoreload\n",
    "%autoreload 2\n",
    "%matplotlib inline\n",
    "\n",
    "import sys\n",
    "sys.path.append(os.environ['SNORKELHOME'] + '/tutorials/tables/')\n",
    "\n",
    "from snorkel import SnorkelSession\n",
    "session = SnorkelSession()\n",
    "\n",
    "from snorkel.models import candidate_subclass\n",
    "Part_Current = candidate_subclass('Part_Current', ['part','current'])\n",
    "\n",
    "from snorkel.models import CandidateSet\n",
    "train = session.query(CandidateSet).filter(\n",
    "    CandidateSet.name == 'Hardware Training Candidates').one()"
   ]
  },
  {
   "cell_type": "markdown",
   "metadata": {},
   "source": [
    "### Define LFs"
   ]
  },
  {
   "cell_type": "code",
   "execution_count": null,
   "metadata": {
    "collapsed": false
   },
   "outputs": [],
   "source": [
    "from snorkel.annotations import LabelManager\n",
    "from snorkel.lf_helpers import *\n",
    "label_manager = LabelManager()\n",
    "\n",
    "LFs = []\n",
    "\n",
    "# POSITIVE\n",
    "\n",
    "def LF_head_is_IC(c):\n",
    "    head_ngrams = set(get_head_ngrams(c.current, axis='row'))\n",
    "    return 1 if ('ic' in head_ngrams) else 0\n",
    "LFs.append(LF_head_is_IC)\n",
    "\n",
    "# def LF_current_inside_table(c):\n",
    "#     return 1 if c.current.parent.row is not None else 0\n",
    "# LFs.append(LF_current_inside_table)\n",
    "\n",
    "def LF_continuous_left(c):\n",
    "    return 1 if 'continuous' in get_left_ngrams(c.current, window=5) else 0\n",
    "LFs.append(LF_continuous_left)\n",
    "\n",
    "# def LF_current_row(c):\n",
    "#     return 1 if 'current' in get_row_ngrams(c.current) else 0\n",
    "# LFs.append(LF_current_row)\n",
    "\n",
    "# def LF_collector_row(c):\n",
    "#     return 1 if 'collector' in get_row_ngrams(c.current) else 0\n",
    "# LFs.append(LF_collector_row)\n",
    "\n",
    "# def LF_all_one(c):\n",
    "#     return 1\n",
    "# LFs.append(LF_all_one)\n",
    "    \n",
    "# def LF_current_unit_row(c):\n",
    "#     row_ngrams = set(get_row_ngrams(c.current))\n",
    "#     return 1 if (\n",
    "#         'ma'                in row_ngrams and\n",
    "#         'collector'         in row_ngrams) else 0\n",
    "# LFs.append(LF_current_unit_row)\n",
    "\n",
    "\n",
    "# NEGATIVE\n",
    "\n",
    "def LF_not_cc_relevant(c):\n",
    "    ngrams = get_aligned_ngrams(c.current)\n",
    "    return -1 if not ('collector' in ngrams or\n",
    "                      'current' in ngrams) else 0\n",
    "LFs.append(LF_not_cc_relevant)\n",
    "\n",
    "def LF_too_many_numbers_row(c):\n",
    "    num_numbers = list(get_row_ngrams(c.current, attrib=\"ner_tags\")).count('number')\n",
    "    return -1 if num_numbers >= 3 else 0\n",
    "LFs.append(LF_too_many_numbers_row)\n",
    "\n",
    "# def LF_thermal_row(c):\n",
    "#     return -1 if 'thermal' in get_row_ngrams(c.current) else 0\n",
    "# LFs.append(LF_collector_row)\n",
    "\n",
    "# def LF_junction_row(c):\n",
    "#     return -1 if 'junction' in get_row_ngrams(c.current) else 0\n",
    "# LFs.append(LF_junction_row)\n",
    "\n",
    "# def LF_resistance_row(c):\n",
    "#     return -1 if 'resistance' in get_row_ngrams(c.current) else 0\n",
    "# LFs.append(LF_resistance_row)\n",
    "\n",
    "# def LF_small_signal_row(c):\n",
    "#     return -1 if 'small-signal' in get_row_ngrams(c.current) else 0\n",
    "# LFs.append(LF_small_signal_row)\n",
    "\n",
    "# def LF_ambient_row(c):\n",
    "#     return -1 if 'ambient' in get_row_ngrams(c.current) else 0\n",
    "# LFs.append(LF_ambient_row)\n",
    "\n",
    "def LF_part_in_same_row(c):\n",
    "    return -1 if c.part.parent.row == c.current.parent.row else 0\n",
    "LFs.append(LF_part_in_same_row)\n",
    "\n",
    "def LF_negative_keywords_in_row(c):\n",
    "    ngrams = set(get_row_ngrams(c.current))\n",
    "    return -1 if (\n",
    "        'ambient'       in ngrams or\n",
    "        'small-signal'  in ngrams or\n",
    "        'resistance'    in ngrams or\n",
    "        'power'         in ngrams or\n",
    "        'junction'      in ngrams or\n",
    "        'dissipation'   in ngrams or\n",
    "        'voltage'       in ngrams or\n",
    "        'cbo'           in ngrams or\n",
    "        'ceo'           in ngrams or\n",
    "        'ce'            in ngrams or\n",
    "        'mw'            in ngrams or\n",
    "        'ebo'           in ngrams or\n",
    "        'v'             in ngrams or\n",
    "        'p'             in ngrams or\n",
    "        'thermal'       in ngrams) else 1\n",
    "LFs.append(LF_negative_keywords_in_row)\n",
    "\n",
    "def LF_negative_keywords_in_part_aligned(c):\n",
    "    ngrams = set(get_aligned_ngrams(c.part))\n",
    "    return -1 if (\n",
    "        'gain'          in ngrams or\n",
    "        'small-signal'  in ngrams or\n",
    "        'small'         in ngrams or\n",
    "        'cbo'         in ngrams or\n",
    "        'collector-emitter' in ngrams or\n",
    "        'value'         in ngrams or\n",
    "        'thermal'       in ngrams) else 0\n",
    "LFs.append(LF_negative_keywords_in_part_aligned)\n",
    "\n",
    "def LF_negative_keywords(c):\n",
    "    ngrams = set(get_aligned_ngrams(c.current))\n",
    "    return -1 if (\n",
    "        'collector-base'    in ngrams or\n",
    "        'cut-off'           in ngrams or\n",
    "        '='                 in ngrams or\n",
    "        'gain'              in ngrams or\n",
    "        'h fe'              in ngrams or\n",
    "        'typ.'              in ngrams or\n",
    "        'typ'               in ngrams or\n",
    "        'min'               in ngrams or\n",
    "        'min.'              in ngrams or\n",
    "        'mv'                in ngrams or\n",
    "        'saturation'        in ngrams or\n",
    "        'mhz'               in ngrams or\n",
    "        'gain'              in ngrams or\n",
    "        'obo'              in ngrams or\n",
    "        'c obo'              in ngrams or\n",
    "        'collector-emitter' in ngrams) else 1\n",
    "LFs.append(LF_negative_keywords)\n",
    "\n",
    "# def LF_voltage_row_current(c):\n",
    "#     ngrams = set(get_row_ngrams(c.current))\n",
    "#     return -1 if (\n",
    "#         'voltage' in ngrams or\n",
    "#         'cbo'     in ngrams or\n",
    "#         'ceo'     in ngrams or\n",
    "#         'ce'      in ngrams or\n",
    "#         'ebo'     in ngrams or\n",
    "#         'v'       in ngrams) else 0\n",
    "# LFs.append(LF_voltage_row_current)\n",
    "\n",
    "# def LF_voltage_row_part(c):\n",
    "#     ngrams = set(get_row_ngrams(c.part))\n",
    "#     return -1 if (\n",
    "#         'voltage' in ngrams or\n",
    "#         'cbo'     in ngrams or\n",
    "#         'ceo'     in ngrams or\n",
    "#         'ebo'     in ngrams or\n",
    "#         'v'       in ngrams) else 0\n",
    "# LFs.append(LF_voltage_row_part)\n",
    "\n",
    "# def LF_test_condition_row(c):\n",
    "#     ngrams = set(get_row_ngrams(c.current))\n",
    "#     return -1 if ('test'      in ngrams and\n",
    "#                   'condition' in ngrams) else 0\n",
    "# LFs.append(LF_test_condition_row)\n"
   ]
  },
  {
   "cell_type": "markdown",
   "metadata": {},
   "source": [
    "### Apply LFs"
   ]
  },
  {
   "cell_type": "code",
   "execution_count": null,
   "metadata": {
    "collapsed": false
   },
   "outputs": [],
   "source": [
    "%time L_train = label_manager.create(session, train, 'LF Labels', f=LFs)\n",
    "L_train"
   ]
  },
  {
   "cell_type": "markdown",
   "metadata": {},
   "source": [
    "### Assess LF accuracy"
   ]
  },
  {
   "cell_type": "code",
   "execution_count": null,
   "metadata": {
    "collapsed": false
   },
   "outputs": [],
   "source": [
    "train_gold = session.query(CandidateSet).filter(\n",
    "    CandidateSet.name == 'Hardware Training Candidates -- Gold').one()\n",
    "%time L_train.lf_stats(train_gold)"
   ]
  },
  {
   "cell_type": "code",
   "execution_count": null,
   "metadata": {
    "collapsed": true
   },
   "outputs": [],
   "source": [
    "# If necessary\n",
    "import os\n",
    "os.system('cp snorkel.db snorkel.db\\ features');"
   ]
  },
  {
   "cell_type": "markdown",
   "metadata": {},
   "source": [
    "## Learn and Evaluate"
   ]
  },
  {
   "cell_type": "code",
   "execution_count": 1,
   "metadata": {
    "collapsed": false
   },
   "outputs": [],
   "source": [
    "# If necessary:\n",
    "import os\n",
    "os.remove('snorkel.db');\n",
    "os.system('cp snorkel.db\\ features snorkel.db');\n",
    "\n",
    "%load_ext autoreload\n",
    "%autoreload 2\n",
    "%matplotlib inline\n",
    "\n",
    "import sys\n",
    "sys.path.append(os.environ['SNORKELHOME'] + '/tutorials/tables/')\n",
    "\n",
    "from snorkel import SnorkelSession\n",
    "session = SnorkelSession()\n",
    "\n",
    "from snorkel.models import candidate_subclass\n",
    "Part_Current = candidate_subclass('Part_Current', ['part','current'])\n",
    "\n",
    "from snorkel.models import CandidateSet\n",
    "train = session.query(CandidateSet).filter(\n",
    "    CandidateSet.name == 'Hardware Training Candidates').one()\n",
    "dev = session.query(CandidateSet).filter(\n",
    "    CandidateSet.name == 'Hardware Development Candidates').one()"
   ]
  },
  {
   "cell_type": "code",
   "execution_count": 2,
   "metadata": {
    "collapsed": false
   },
   "outputs": [
    {
     "name": "stdout",
     "output_type": "stream",
     "text": [
      "CPU times: user 4min 12s, sys: 6.24 s, total: 4min 18s\n",
      "Wall time: 4min 18s\n",
      "CPU times: user 3min, sys: 4.5 s, total: 3min 4s\n",
      "Wall time: 3min 4s\n",
      "CPU times: user 2.42 s, sys: 72 ms, total: 2.49 s\n",
      "Wall time: 2.49 s\n"
     ]
    }
   ],
   "source": [
    "from snorkel.annotations import FeatureManager, LabelManager\n",
    "feature_manager = FeatureManager()\n",
    "%time F_train = feature_manager.load(session, train, 'Train Features')\n",
    "%time F_dev = feature_manager.load(session, dev, 'Train Features')\n",
    "\n",
    "label_manager = LabelManager()\n",
    "%time L_train = label_manager.load(session, train, 'LF Labels')"
   ]
  },
  {
   "cell_type": "code",
   "execution_count": 3,
   "metadata": {
    "collapsed": false
   },
   "outputs": [
    {
     "name": "stderr",
     "output_type": "stream",
     "text": [
      "/home/lwhsiao/repos/snorkel/.virtualenv/local/lib/python2.7/site-packages/matplotlib/__init__.py:1357: UserWarning:  This call to matplotlib.use() has no effect\n",
      "because the backend has already been chosen;\n",
      "matplotlib.use() must be called *before* pylab, matplotlib.pyplot,\n",
      "or matplotlib.backends is imported for the first time.\n",
      "\n",
      "  warnings.warn(_use_error_msg)\n"
     ]
    },
    {
     "name": "stdout",
     "output_type": "stream",
     "text": [
      "================================================================================\n",
      "Training marginals (!= 0.5):\t68987\n",
      "Features:\t\t\t8\n",
      "================================================================================\n",
      "Begin training for rate=0.01, mu=1e-06\n",
      "\tLearning epoch = 0\tGradient mag. = 0.533460\n",
      "\tLearning epoch = 250\tGradient mag. = 0.535250\n",
      "\tLearning epoch = 500\tGradient mag. = 0.441428\n",
      "\tLearning epoch = 750\tGradient mag. = 0.370647\n",
      "\tLearning epoch = 1000\tGradient mag. = 0.332994\n",
      "\tLearning epoch = 1250\tGradient mag. = 0.317375\n",
      "\tLearning epoch = 1500\tGradient mag. = 0.315061\n",
      "\tLearning epoch = 1750\tGradient mag. = 0.320649\n",
      "\tLearning epoch = 2000\tGradient mag. = 0.330397\n",
      "\tLearning epoch = 2250\tGradient mag. = 0.240384\n",
      "\tLearning epoch = 2500\tGradient mag. = 0.174499\n",
      "\tLearning epoch = 2750\tGradient mag. = 0.129727\n",
      "\tLearning epoch = 3000\tGradient mag. = 0.099712\n",
      "\tLearning epoch = 3250\tGradient mag. = 0.079840\n",
      "\tLearning epoch = 3500\tGradient mag. = 0.066730\n",
      "\tLearning epoch = 3750\tGradient mag. = 0.057953\n",
      "\tLearning epoch = 4000\tGradient mag. = 0.051848\n",
      "\tLearning epoch = 4250\tGradient mag. = 0.047358\n",
      "\tLearning epoch = 4500\tGradient mag. = 0.043846\n",
      "\tLearning epoch = 4750\tGradient mag. = 0.040945\n",
      "\tLearning epoch = 5000\tGradient mag. = 0.038448\n",
      "\tLearning epoch = 5250\tGradient mag. = 0.036236\n",
      "\tLearning epoch = 5500\tGradient mag. = 0.034242\n",
      "\tLearning epoch = 5750\tGradient mag. = 0.032423\n",
      "\tLearning epoch = 6000\tGradient mag. = 0.030752\n",
      "\tLearning epoch = 6250\tGradient mag. = 0.029209\n",
      "\tLearning epoch = 6500\tGradient mag. = 0.027779\n",
      "\tLearning epoch = 6750\tGradient mag. = 0.026452\n",
      "\tLearning epoch = 7000\tGradient mag. = 0.025217\n",
      "\tLearning epoch = 7250\tGradient mag. = 0.024065\n",
      "\tLearning epoch = 7500\tGradient mag. = 0.022990\n",
      "\tLearning epoch = 7750\tGradient mag. = 0.021986\n",
      "\tLearning epoch = 8000\tGradient mag. = 0.021045\n",
      "\tLearning epoch = 8250\tGradient mag. = 0.020163\n",
      "\tLearning epoch = 8500\tGradient mag. = 0.019336\n",
      "\tLearning epoch = 8750\tGradient mag. = 0.018559\n",
      "\tLearning epoch = 9000\tGradient mag. = 0.017828\n",
      "\tLearning epoch = 9250\tGradient mag. = 0.017140\n",
      "\tLearning epoch = 9500\tGradient mag. = 0.016491\n",
      "\tLearning epoch = 9750\tGradient mag. = 0.015880\n",
      "\tLearning epoch = 10000\tGradient mag. = 0.015302\n",
      "\tLearning epoch = 10250\tGradient mag. = 0.014757\n",
      "\tLearning epoch = 10500\tGradient mag. = 0.014241\n",
      "\tLearning epoch = 10750\tGradient mag. = 0.013752\n",
      "\tLearning epoch = 11000\tGradient mag. = 0.013290\n",
      "\tLearning epoch = 11250\tGradient mag. = 0.012851\n",
      "\tLearning epoch = 11500\tGradient mag. = 0.012435\n",
      "\tLearning epoch = 11750\tGradient mag. = 0.012040\n",
      "\tLearning epoch = 12000\tGradient mag. = 0.011664\n",
      "\tLearning epoch = 12250\tGradient mag. = 0.011308\n",
      "\tLearning epoch = 12500\tGradient mag. = 0.010968\n",
      "\tLearning epoch = 12750\tGradient mag. = 0.010645\n",
      "\tLearning epoch = 13000\tGradient mag. = 0.010337\n",
      "\tLearning epoch = 13250\tGradient mag. = 0.010044\n",
      "\tLearning epoch = 13500\tGradient mag. = 0.009765\n",
      "\tLearning epoch = 13750\tGradient mag. = 0.009498\n",
      "\tLearning epoch = 14000\tGradient mag. = 0.009243\n",
      "\tLearning epoch = 14250\tGradient mag. = 0.009000\n",
      "\tLearning epoch = 14500\tGradient mag. = 0.008767\n",
      "\tLearning epoch = 14750\tGradient mag. = 0.008545\n",
      "Final gradient magnitude for rate=0.01, mu=1e-06: 0.008\n",
      "CPU times: user 156 ms, sys: 4 ms, total: 160 ms\n",
      "Wall time: 169 ms\n"
     ]
    }
   ],
   "source": [
    "from snorkel.learning import NaiveBayes\n",
    "\n",
    "gen_model = NaiveBayes()\n",
    "gen_model.train(L_train, n_iter=15000, rate=1e-2)\n",
    "%time gen_model.save(session, 'Generative Params')\n",
    "train_marginals = gen_model.marginals(L_train)"
   ]
  },
  {
   "cell_type": "code",
   "execution_count": 4,
   "metadata": {
    "collapsed": false
   },
   "outputs": [
    {
     "name": "stdout",
     "output_type": "stream",
     "text": [
      "================================================================================\n",
      "Training marginals (!= 0.5):\t68987\n",
      "Features:\t\t\t22013\n",
      "================================================================================\n",
      "Using gradient descent...\n",
      "\tLearning epoch = 0\tStep size = 0.0001\n",
      "\tLoss = 47818.144545\tGradient magnitude = 243932.027570\n",
      "\tLearning epoch = 100\tStep size = 9.04792147114e-05\n",
      "\tLoss = 7185.140175\tGradient magnitude = 7400.144111\n",
      "\tLearning epoch = 200\tStep size = 8.18648829479e-05\n",
      "\tLoss = 5559.880130\tGradient magnitude = 6317.209591\n",
      "\tLearning epoch = 300\tStep size = 7.40707032156e-05\n",
      "\tLoss = 4761.505578\tGradient magnitude = 4923.414734\n",
      "\tLearning epoch = 400\tStep size = 6.70185906007e-05\n",
      "\tLoss = 4217.048844\tGradient magnitude = 2487.293650\n",
      "\tLearning epoch = 500\tStep size = 6.06378944861e-05\n",
      "\tLoss = 4056.553350\tGradient magnitude = 80.484718\n",
      "\tLearning epoch = 600\tStep size = 5.48646907485e-05\n",
      "\tLoss = 4028.941811\tGradient magnitude = 63.959301\n",
      "\tLearning epoch = 700\tStep size = 4.96411413431e-05\n",
      "\tLoss = 4011.501819\tGradient magnitude = 56.111311\n",
      "\tLearning epoch = 800\tStep size = 4.4914914861e-05\n",
      "\tLoss = 3998.647882\tGradient magnitude = 51.836037\n",
      "\tLearning epoch = 900\tStep size = 4.06386622545e-05\n",
      "\tLoss = 3988.335781\tGradient magnitude = 49.132968\n",
      "\tLearning epoch = 1000\tStep size = 3.67695424771e-05\n",
      "\tLoss = 3979.821019\tGradient magnitude = 47.198235\n",
      "\tLearning epoch = 1100\tStep size = 3.32687932862e-05\n",
      "\tLoss = 3972.637871\tGradient magnitude = 45.689040\n",
      "\tLearning epoch = 1200\tStep size = 3.01013429093e-05\n",
      "\tLoss = 3966.505566\tGradient magnitude = 44.441708\n",
      "\tLearning epoch = 1300\tStep size = 2.72354586819e-05\n",
      "\tLoss = 3961.232103\tGradient magnitude = 43.369214\n",
      "\tLearning epoch = 1400\tStep size = 2.46424291385e-05\n",
      "\tLoss = 3956.675483\tGradient magnitude = 42.421034\n",
      "\tLearning epoch = 1500\tStep size = 2.22962763703e-05\n",
      "\tLoss = 3952.730471\tGradient magnitude = 41.562839\n",
      "\tLearning epoch = 1600\tStep size = 2.01734957697e-05\n",
      "\tLoss = 3949.295255\tGradient magnitude = 40.773221\n",
      "\tLearning epoch = 1700\tStep size = 1.82528205523e-05\n",
      "\tLoss = 3946.278102\tGradient magnitude = 40.038217\n",
      "\tLearning epoch = 1800\tStep size = 1.65150086984e-05\n",
      "\tLoss = 3943.643122\tGradient magnitude = 39.348278\n",
      "\tLearning epoch = 1900\tStep size = 1.49426501798e-05\n",
      "\tLoss = 3941.341589\tGradient magnitude = 38.698748\n",
      "CPU times: user 3.58 s, sys: 108 ms, total: 3.68 s\n",
      "Wall time: 3.67 s\n"
     ]
    }
   ],
   "source": [
    "from snorkel.learning import LogReg\n",
    "\n",
    "disc_model = LogReg()\n",
    "disc_model.train(F_train, train_marginals, n_iter=2000, rate=1e-4)\n",
    "%time disc_model.save(session, \"Discriminative Params\")"
   ]
  },
  {
   "cell_type": "code",
   "execution_count": 5,
   "metadata": {
    "collapsed": false
   },
   "outputs": [
    {
     "name": "stdout",
     "output_type": "stream",
     "text": [
      "Calibration plot:\n"
     ]
    },
    {
     "name": "stderr",
     "output_type": "stream",
     "text": [
      "/home/lwhsiao/repos/snorkel/.virtualenv/local/lib/python2.7/site-packages/numpy/core/_methods.py:59: RuntimeWarning: Mean of empty slice.\n",
      "  warnings.warn(\"Mean of empty slice.\", RuntimeWarning)\n"
     ]
    },
    {
     "data": {
      "image/png": "[encoded data removed]",
      "text/plain": [
       "<matplotlib.figure.Figure at 0x7f19d5d09ad0>"
      ]
     },
     "metadata": {},
     "output_type": "display_data"
    },
    {
     "name": "stdout",
     "output_type": "stream",
     "text": [
      "========================================\n",
      "Recall-corrected Noise-aware Model\n",
      "========================================\n",
      "Pos. class accuracy: 0.377358490566\n",
      "Neg. class accuracy: 0.967392972226\n",
      "Corpus Precision 0.88\n",
      "Corpus Recall    0.377\n",
      "Corpus F1        0.528\n",
      "----------------------------------------\n",
      "TP: 3120 | FP: 425 | TN: 12609 | FN: 5148\n",
      "========================================\n",
      "\n",
      "========================================\n",
      "Recall-corrected Noise-aware Model\n",
      "========================================\n",
      "Pos. class accuracy: 0.377358490566\n",
      "Neg. class accuracy: 0.967392972226\n",
      "Corpus Precision 0.88\n",
      "Corpus Recall    0.377\n",
      "Corpus F1        0.528\n",
      "----------------------------------------\n",
      "TP: 3120 | FP: 425 | TN: 12609 | FN: 5148\n",
      "========================================\n",
      "\n"
     ]
    }
   ],
   "source": [
    "train_gold = session.query(CandidateSet).filter(\n",
    "    CandidateSet.name == 'Hardware Training Candidates -- Gold').one()\n",
    "\n",
    "dev_gold = session.query(CandidateSet).filter(\n",
    "    CandidateSet.name == 'Hardware Development Candidates -- Gold').one()\n",
    "\n",
    "from snorkel.models import CandidateSet\n",
    "from snorkel.annotations import LabelManager\n",
    "label_manager = LabelManager()\n",
    "L_dev = label_manager.load(session, dev, 'Hardware Development Labels -- Gold')\n",
    "\n",
    "tp, fp, tn, fn = disc_model.score(F_dev, L_dev, dev_gold)"
   ]
  },
  {
   "cell_type": "code",
   "execution_count": 6,
   "metadata": {
    "collapsed": false,
    "scrolled": true
   },
   "outputs": [
    {
     "name": "stdout",
     "output_type": "stream",
     "text": [
      "========================================\n",
      "Scoring on Entity-Level Gold Data\n",
      "========================================\n",
      "Corpus Precision 0.766\n",
      "Corpus Recall    0.85\n",
      "Corpus F1        0.806\n",
      "----------------------------------------\n",
      "TP: 170 | FP: 52 | FN: 30\n",
      "========================================\n",
      "\n"
     ]
    }
   ],
   "source": [
    "from snorkel.models import Corpus\n",
    "from hardware_utils import entity_level_f1\n",
    "import os\n",
    "\n",
    "gold_file = os.environ['SNORKELHOME'] + '/tutorials/tables/data/hardware/hardware_gold.csv'\n",
    "corpus = session.query(Corpus).filter(Corpus.name == 'Hardware Development').one()\n",
    "(TP, FP, FN) = entity_level_f1(tp, fp, tn, fn, gold_file, corpus, 'c_current_max')\n"
   ]
  },
  {
   "cell_type": "code",
   "execution_count": 7,
   "metadata": {
    "collapsed": false
   },
   "outputs": [
    {
     "name": "stdout",
     "output_type": "stream",
     "text": [
      "[(u'BC818-40LT1-D', u'BC818-40L', u'100'),\n",
      " (u'BC818-40LT1-D', u'BC818-40LT1G', u'100'),\n",
      " (u'BC818-40LT1-D', u'NSVBC818-40L', u'100'),\n",
      " (u'BC818-40LT1-D', u'NSVBC818-40LT1G', u'100'),\n",
      " (u'CSEMS02742-1', u'BC846', u'200'),\n",
      " (u'CSEMS02742-1', u'BC846A', u'200'),\n",
      " (u'CSEMS02742-1', u'BC846B', u'200'),\n",
      " (u'CSEMS02742-1', u'BC847', u'200'),\n",
      " (u'CSEMS02742-1', u'BC847A', u'200'),\n",
      " (u'CSEMS02742-1', u'BC847B', u'200'),\n",
      " (u'CSEMS02742-1', u'BC847C', u'200'),\n",
      " (u'CSEMS02742-1', u'BC848', u'200'),\n",
      " (u'CSEMS02742-1', u'BC848A', u'200'),\n",
      " (u'CSEMS02742-1', u'BC848B', u'200'),\n",
      " (u'CSEMS02742-1', u'BC848C', u'200'),\n",
      " (u'DIODS00215-1', u'2N4124', u'800'),\n",
      " (u'DISES00189-1', u'BC546', u'200'),\n",
      " (u'DISES00189-1', u'BC546A', u'200'),\n",
      " (u'DISES00189-1', u'BC546B', u'200'),\n",
      " (u'DISES00189-1', u'BC547', u'200'),\n",
      " (u'DISES00189-1', u'BC547A', u'200'),\n",
      " (u'DISES00189-1', u'BC547B', u'200'),\n",
      " (u'DISES00189-1', u'BC547C', u'200'),\n",
      " (u'DISES00189-1', u'BC548', u'200'),\n",
      " (u'DISES00189-1', u'BC548A', u'200'),\n",
      " (u'DISES00189-1', u'BC548B', u'200'),\n",
      " (u'DISES00189-1', u'BC548C', u'200'),\n",
      " (u'DISES00189-1', u'BC549', u'200'),\n",
      " (u'DISES00189-1', u'BC549B', u'200'),\n",
      " (u'DISES00189-1', u'BC549C', u'200'),\n",
      " (u'SGSTS13702-1', u'BC547B', u'200'),\n",
      " (u'SGSTS13702-1', u'BC547B-AP', u'200'),\n",
      " (u'SGSTS13702-1', u'BC547C', u'200'),\n",
      " (u'SGSTS13702-1', u'BC547C-AP', u'200'),\n",
      " (u'SIEMS01215-1', u'BC856', u'200'),\n",
      " (u'SIEMS01215-1', u'BC856A', u'200'),\n",
      " (u'SIEMS01215-1', u'BC856B', u'200'),\n",
      " (u'SIEMS01215-1', u'BC857', u'200'),\n",
      " (u'SIEMS01215-1', u'BC857A', u'200'),\n",
      " (u'SIEMS01215-1', u'BC857B', u'200'),\n",
      " (u'SIEMS01215-1', u'BC857C', u'200'),\n",
      " (u'SIEMS01215-1', u'BC858', u'200'),\n",
      " (u'SIEMS01215-1', u'BC858A', u'200'),\n",
      " (u'SIEMS01215-1', u'BC858B', u'200'),\n",
      " (u'SIEMS01215-1', u'BC858C', u'200'),\n",
      " (u'SIEMS01215-1', u'BC859', u'200'),\n",
      " (u'SIEMS01215-1', u'BC859A', u'200'),\n",
      " (u'SIEMS01215-1', u'BC859B', u'200'),\n",
      " (u'SIEMS01215-1', u'BC859C', u'200'),\n",
      " (u'SIEMS01215-1', u'BC860', u'200'),\n",
      " (u'SIEMS01215-1', u'BC860B', u'200'),\n",
      " (u'SIEMS01215-1', u'BC860C', u'200')]\n"
     ]
    }
   ],
   "source": [
    "from pprint import pprint\n",
    "FN_list = sorted(list(FN))\n",
    "FP_list = sorted(list(FP))\n",
    "TP_list = sorted(list(TP))\n",
    "pprint(FP_list[:60])"
   ]
  },
  {
   "cell_type": "code",
   "execution_count": 8,
   "metadata": {
    "collapsed": false
   },
   "outputs": [
    {
     "name": "stdout",
     "output_type": "stream",
     "text": [
      "(u'CSEMS02742-1', u'BC846A', u'200')\n",
      "\n",
      "# Matches: 5\n",
      "Part_Current(ImplicitSpan(\"BC846A\", parent=4492, words=[3,4], position=[1]), Span(\"200\", parent=85490, chars=[0,2], words=[0,0]))\n",
      "\n",
      "0.982158675989\n",
      "\n",
      "[(AnnotationKey (TAB_e2_ROW_WORDS_[collector]), 1.4280874591322381),\n",
      " (AnnotationKey (TAB_e2_ROW_WORDS_[collector current]), 0.9312427659268036),\n",
      " (AnnotationKey (TAB_e2_COL_WORDS_[10]), -0.624262565915807),\n",
      " (AnnotationKey (TAB_e2_ROW_NUM_[4]), 0.4382378497447938),\n",
      " (AnnotationKey (TAB_e2_ROW_HEAD_WORDS_[collector]), 0.39256418440559104),\n",
      " (AnnotationKey (TAB_e2_COL_WORDS_[min]), -0.3836517449844414),\n",
      " (AnnotationKey (TAB_e2_COL_WORDS_[max]), 0.3808254764456605),\n",
      " (AnnotationKey (TAB_e2_ROW_WORDS_[current]), 0.3694212345332578),\n",
      " (AnnotationKey (TAB_e2_ROW_WORDS_[cm]), 0.3660657970671539),\n",
      " (AnnotationKey (TAB_e2_ROW_WORDS_[i cm]), 0.3660657970671539),\n",
      " (AnnotationKey (TAB_e2_COL_HEAD_WORDS_[50]), -0.3338583175201834),\n",
      " (AnnotationKey (TAB_e2_COL_WORDS_[15]), -0.32413488830294257),\n",
      " (AnnotationKey (TAB_e2_COL_WORDS_[+150]), 0.2792712478665945),\n",
      " (AnnotationKey (TAB_e2_COL_WORDS_[200]), -0.2389868562400667),\n",
      " (AnnotationKey (TAB_e2_ROW_HEAD_WORDS_[current]), -0.22972687267134703),\n",
      " (AnnotationKey (TAB_e2_COL_WORDS_[45]), 0.22158246869924855),\n",
      " (AnnotationKey (TAB_e2_COL_WORDS_[5.0]), -0.19491267070906257),\n",
      " (AnnotationKey (TAB_e2_HTML_ANC_TAG_[table]), 0.1819102796618681),\n",
      " (AnnotationKey (TAB_e2_HTML_ANC_TAG_[td]), 0.1819102796618681),\n",
      " (AnnotationKey (TAB_e2_HTML_ANC_TAG_[tr]), 0.1819102796618681),\n",
      " (AnnotationKey (TAB_e2_ROW_HEAD_WORDS_[collector current]),\n",
      "  0.1572393223354337),\n",
      " (AnnotationKey (TAB_e1_LEFT_WORDS_[the]), -0.15602849262810872),\n",
      " (AnnotationKey (TAB_e2_COL_WORDS_[350]), -0.15486414585024555),\n",
      " (AnnotationKey (TDL_INV_LEMMA:SEQ-BETWEEN[CENTRAL]), -0.14741477046536622),\n",
      " (AnnotationKey (TAB_e1_LEFT_WORDS_[the central]), -0.14741477046536622),\n",
      " (AnnotationKey (TDL_INV_LEMMA:RIGHT-OF-MENTION[CENTRAL]),\n",
      "  -0.14741477046536622),\n",
      " (AnnotationKey (TAB_e1_LEFT_WORDS_[central]), -0.14741477046536622),\n",
      " (AnnotationKey (TAB_e2_COL_WORDS_[-65 to]), -0.14122981676513555),\n",
      " (AnnotationKey (TAB_e2_COL_WORDS_[357]), -0.14089090446224029),\n",
      " (AnnotationKey (TAB_e2_ROW_HEAD_WORDS_[peak]), -0.13367754741866045),\n",
      " (AnnotationKey (TAB_e2_ROW_WORDS_[ma]), 0.13337523861008468),\n",
      " (AnnotationKey (TAB_e2_ROW_WORDS_[peak collector]), 0.12485078550857626),\n",
      " (AnnotationKey (TAB_e2_COL_WORDS_[100]), -0.12359958549959812),\n",
      " (AnnotationKey (TAB_e2_COL_WORDS_[0.25]), -0.12116993799059424),\n",
      " (AnnotationKey (TAB_e1_HTML_ANC_TAG_[body]), -0.11832070412167991),\n",
      " (AnnotationKey (TAB_e2_HTML_ANC_TAG_[p]), -0.0993187662526122),\n",
      " (AnnotationKey (TAB_e1_HTML_ANC_TAG_[html]), -0.0993187662526122),\n",
      " (AnnotationKey (TAB_e2_HTML_ANC_TAG_[body]), -0.0993187662526122),\n",
      " (AnnotationKey (TAB_e2_HTML_TAG_p), -0.0993187662526122),\n",
      " (AnnotationKey (TAB_e2_HTML_ANC_TAG_[html]), -0.0993187662526122),\n",
      " (AnnotationKey (TAB_e2_COL_WORDS_[-65]), -0.09778259138101793),\n",
      " (AnnotationKey (TAB_e1_LEFT_WORDS_[semiconductor]), -0.0967760613353164),\n",
      " (AnnotationKey (TAB_e1_LEFT_WORDS_[central semiconductor]),\n",
      "  -0.0967760613353164),\n",
      " (AnnotationKey (TDL_INV_LEMMA:SEQ-BETWEEN[CENTRAL semiconductor]),\n",
      "  -0.0967760613353164),\n",
      " (AnnotationKey (TDL_INV_LEMMA:SEQ-BETWEEN[semiconductor]),\n",
      "  -0.0967760613353164),\n",
      " (AnnotationKey (TAB_e2_COL_WORDS_[to +150]), -0.09502985770407023),\n",
      " (AnnotationKey (TDL_INV_BETWEEN-MENTION-and-MENTION[LEN:0-2]),\n",
      "  -0.07442726365768504),\n",
      " (AnnotationKey (TAB_e2_COL_NUM_[3]), 0.06876861129882333),\n",
      " (AnnotationKey (TAB_e2_COL_WORDS_[50]), 0.06387206011019943),\n",
      " (AnnotationKey (TDL_INV_SEQ-BETWEEN[LEN:0-4]), 0.06236489799676249),\n",
      " (AnnotationKey (TAB_e2_ROW_HEAD_WORDS_[peak collector]),\n",
      "  -0.060142649741823234),\n",
      " (AnnotationKey (TAB_e2_COL_WORDS_[to]), -0.05936266656346778),\n",
      " (AnnotationKey (TAB_e1_HTML_TAG_p), -0.051664223026953345),\n",
      " (AnnotationKey (TAB_e2_COL_WORDS_[0.77]), 0.03367205255104756),\n",
      " (AnnotationKey (TAB_e1_HTML_ANC_TAG_[p]), -0.028997451824537862),\n",
      " (AnnotationKey (TDL_INV_LEMMA:PARENTS-OF-BETWEEN-MENTION-and-MENTION[None]),\n",
      "  -0.027936130339946852),\n",
      " (AnnotationKey (TDL_INV_DEP_LABEL:BETWEEN-MENTION-and-MENTION[ROOT]),\n",
      "  0.026205588312080186),\n",
      " (AnnotationKey (TAB_e2_ROW_WORDS_[peak]), -0.024853330605344188),\n",
      " (AnnotationKey (TAB_e2_ROW_WORDS_[i]), 0.013129299764787593),\n",
      " (AnnotationKey (TAB_e2_COL_WORDS_[0.60]), -0.006860361387835909),\n",
      " (AnnotationKey (TDL_INV_LEMMA:LEFT-OF-MENTION[semiconductor]),\n",
      "  -0.0022942029928422277),\n",
      " (AnnotationKey (TAB_e2_COL_WORDS_[450]), 0.001608638398308874)]\n"
     ]
    }
   ],
   "source": [
    "from hardware_utils import current_entity_to_candidates\n",
    "\n",
    "entity = FP_list[5]\n",
    "print entity\n",
    "print\n",
    "\n",
    "matches = current_entity_to_candidates(entity, fp)\n",
    "print \"# Matches: %d\" % len(matches)\n",
    "candidate = matches[0]\n",
    "print candidate\n",
    "print\n",
    "\n",
    "print disc_model.get_candidate_score(candidate, F_dev)\n",
    "print\n",
    "pprint(disc_model.get_candidate_feature_weights(candidate, F_dev))"
   ]
  },
  {
   "cell_type": "code",
   "execution_count": null,
   "metadata": {
    "collapsed": true
   },
   "outputs": [],
   "source": [
    "\n",
    "import os\n",
    "os.system('cp snorkel.db snorkel.db\\ final');"
   ]
  },
  {
   "cell_type": "code",
   "execution_count": null,
   "metadata": {
    "collapsed": true
   },
   "outputs": [],
   "source": []
  },
  {
   "cell_type": "code",
   "execution_count": null,
   "metadata": {
    "collapsed": true
   },
   "outputs": [],
   "source": []
  },
  {
   "cell_type": "code",
   "execution_count": null,
   "metadata": {
    "collapsed": true
   },
   "outputs": [],
   "source": []
  }
 ],
 "metadata": {
  "anaconda-cloud": {},
  "kernelspec": {
   "display_name": "Python 2",
   "language": "python",
   "name": "python2"
  },
  "language_info": {
   "codemirror_mode": {
    "name": "ipython",
    "version": 2
   },
   "file_extension": ".py",
   "mimetype": "text/x-python",
   "name": "python",
   "nbconvert_exporter": "python",
   "pygments_lexer": "ipython2",
   "version": "2.7.12"
  }
 },
 "nbformat": 4,
 "nbformat_minor": 1
}
