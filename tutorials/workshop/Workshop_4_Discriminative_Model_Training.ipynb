{
 "cells": [
  {
   "cell_type": "markdown",
   "metadata": {},
   "source": [
    "<img align=\"left\" src=\"imgs/logo.jpg\" width=\"50px\" style=\"margin-right:10px\">\n",
    "# Snorkel Workshop: Extracting Spouse Relations <br> from the News\n",
    "## Part 4: Training our End Extraction Model\n",
    "\n",
    "In this final section of the tutorial, we'll use the noisy training labels we generated in the last tutorial part to train our end extraction model.\n",
    "\n",
    "For this tutorial, we will be training a fairly effective deep learning model. More generally, however, Snorkel plugs in with many ML libraries including [TensorFlow](https://www.tensorflow.org/), making it easy to use almost any state-of-the-art model as the end extractor!"
   ]
  },
  {
   "cell_type": "code",
   "execution_count": 1,
   "metadata": {
    "collapsed": false
   },
   "outputs": [],
   "source": [
    "%load_ext autoreload\n",
    "%autoreload 2\n",
    "%matplotlib inline\n",
    "import os\n",
    "import numpy as np\n",
    "\n",
    "# Connect to the database backend and initalize a Snorkel session\n",
    "from lib.init import *\n",
    "from snorkel.annotations import load_marginals\n",
    "from snorkel.models import candidate_subclass\n",
    "\n",
    "Spouse = candidate_subclass('Spouse', ['person1', 'person2'])"
   ]
  },
  {
   "cell_type": "markdown",
   "metadata": {},
   "source": [
    "## I. Loading Candidates and Gold Labels\n"
   ]
  },
  {
   "cell_type": "code",
   "execution_count": 2,
   "metadata": {
    "collapsed": true
   },
   "outputs": [],
   "source": [
    "from snorkel.annotations import load_gold_labels\n",
    "\n",
    "train_cands = session.query(Spouse).filter(Spouse.split == 0).order_by(Spouse.id).all()\n",
    "dev_cands   = session.query(Spouse).filter(Spouse.split == 1).order_by(Spouse.id).all()\n",
    "test_cands  = session.query(Spouse).filter(Spouse.split == 2).order_by(Spouse.id).all()\n",
    "\n",
    "L_gold_dev  = load_gold_labels(session, annotator_name='gold', split=1, load_as_array=True, zero_one=True)\n",
    "L_gold_test = load_gold_labels(session, annotator_name='gold', split=2, zero_one=True)\n",
    "\n",
    "train_marginals = load_marginals(session, split=0)"
   ]
  },
  {
   "cell_type": "markdown",
   "metadata": {},
   "source": [
    "## II. Training a _Long Short-term Memory_ (LSTM) Neural Network\n",
    "\n",
    "[LSTMs](https://en.wikipedia.org/wiki/Long_short-term_memory) can acheive state-of-the-art performance on many text classification tasks. We'll train a simple LSTM model below. \n",
    "\n",
    "In deep learning, hyperparamter tuning is very important and computationally expensive step in training models. For purposes of this tutorial, we've selected some pre-tuned settings so that you can train a model in under 10 minutes. Advanced users can look at our [grid search tutorial](https://github.com/HazyResearch/snorkel/blob/master/tutorials/advanced/Hyperparameter_Search.ipynb). \n",
    "\n",
    "**Parameter Definitions**\n",
    "    \n",
    "    n_epochs    A single pass through all the data in your training set\n",
    "    dim         Vector embedding (i.e., learned representation) dimension \n",
    "    lr          The learning rate by which we update model weights after \n",
    "                computing the gradient\n",
    "    dropout     A neural network regularization techique [0.0 - 1.0]\n",
    "    print_freq  Print updates every k epochs\n",
    "    batch_size  Estimate the gradient using k samples. Larger batch sizes run faster,\n",
    "                but may perform worse\n",
    "    max_sentence_length  The max length of an input sequence. Setting this too large \n",
    "                can slow your training down substantially  \n",
    "                \n",
    "### Please Note !!!\n",
    "With the provided hyperparameters below, your model should train in about 9.5 minutes. Don't change them!"
   ]
  },
  {
   "cell_type": "code",
   "execution_count": 17,
   "metadata": {
    "collapsed": false
   },
   "outputs": [
    {
     "name": "stdout",
     "output_type": "stream",
     "text": [
      "[reRNN] Training model\n",
      "[reRNN] n_train=5356  #epochs=20  batch size=128\n",
      "[reRNN] Epoch 0 (12.89s)\tAverage loss=0.678806\tDev F1=17.20\n",
      "[reRNN] Epoch 1 (29.11s)\tAverage loss=0.663771\tDev F1=17.26\n",
      "[reRNN] Epoch 2 (45.69s)\tAverage loss=0.660834\tDev F1=17.18\n",
      "[reRNN] Epoch 3 (62.46s)\tAverage loss=0.659845\tDev F1=18.39\n",
      "[reRNN] Epoch 4 (80.11s)\tAverage loss=0.659381\tDev F1=17.16\n",
      "[reRNN] Epoch 5 (98.66s)\tAverage loss=0.658705\tDev F1=17.26\n",
      "[reRNN] Epoch 6 (118.06s)\tAverage loss=0.658434\tDev F1=17.49\n",
      "[reRNN] Epoch 7 (139.20s)\tAverage loss=0.657881\tDev F1=16.49\n",
      "[reRNN] Epoch 8 (161.58s)\tAverage loss=0.657722\tDev F1=17.99\n",
      "[reRNN] Epoch 9 (185.26s)\tAverage loss=0.657645\tDev F1=17.98\n",
      "[reRNN] Epoch 10 (207.66s)\tAverage loss=0.657276\tDev F1=16.79\n",
      "[reRNN] Epoch 11 (230.90s)\tAverage loss=0.657069\tDev F1=16.64\n",
      "[reRNN] Epoch 12 (254.99s)\tAverage loss=0.657084\tDev F1=16.05\n",
      "[reRNN] Epoch 13 (279.11s)\tAverage loss=0.656984\tDev F1=16.55\n",
      "[reRNN] Epoch 14 (299.94s)\tAverage loss=0.656826\tDev F1=16.49\n",
      "[reRNN] Epoch 15 (320.73s)\tAverage loss=0.656781\tDev F1=16.00\n",
      "[reRNN] Epoch 16 (342.13s)\tAverage loss=0.656631\tDev F1=16.69\n",
      "[reRNN] Model saved as <reRNN>\n",
      "[reRNN] Epoch 17 (367.11s)\tAverage loss=0.656656\tDev F1=16.89\n",
      "[reRNN] Model saved as <reRNN>\n",
      "[reRNN] Epoch 18 (390.19s)\tAverage loss=0.656595\tDev F1=16.21\n",
      "[reRNN] Epoch 19 (412.25s)\tAverage loss=0.656485\tDev F1=17.04\n",
      "[reRNN] Model saved as <reRNN>\n",
      "[reRNN] Training done (418.17s)\n",
      "INFO:tensorflow:Restoring parameters from checkpoints/reRNN/reRNN-19\n",
      "[reRNN] Loaded model <reRNN>\n"
     ]
    }
   ],
   "source": [
    "from snorkel.learning.disc_models.rnn import reRNN\n",
    "\n",
    "train_kwargs = {\n",
    "    'lr':         0.001,\n",
    "    'dim':        100,\n",
    "    'n_epochs':   20,\n",
    "    'dropout':    0.25,\n",
    "    'print_freq': 1,\n",
    "    'batch_size': 128,\n",
    "    'max_sentence_length': 100\n",
    "}\n",
    "\n",
    "lstm = reRNN(seed=1701, n_threads=7)\n",
    "lstm.train(train_cands, train_marginals, X_dev=dev_cands, Y_dev=L_gold_dev, **train_kwargs)"
   ]
  },
  {
   "cell_type": "markdown",
   "metadata": {},
   "source": [
    "Now, we get the precision, recall, and F1 score from the discriminative model:"
   ]
  },
  {
   "cell_type": "code",
   "execution_count": 18,
   "metadata": {
    "collapsed": false
   },
   "outputs": [
    {
     "name": "stdout",
     "output_type": "stream",
     "text": [
      "Prec: 0.117, Recall: 0.798, F1 Score: 0.205\n"
     ]
    }
   ],
   "source": [
    "p, r, f1 = lstm.score(test_cands, L_gold_test)\n",
    "print(\"Prec: {0:.3f}, Recall: {1:.3f}, F1 Score: {2:.3f}\".format(p, r, f1))"
   ]
  },
  {
   "cell_type": "markdown",
   "metadata": {},
   "source": [
    "We can also get the candidates returned in sets (true positives, false positives, true negatives, false negatives) as well as a more detailed score report:"
   ]
  },
  {
   "cell_type": "code",
   "execution_count": 19,
   "metadata": {
    "collapsed": false
   },
   "outputs": [
    {
     "name": "stdout",
     "output_type": "stream",
     "text": [
      "========================================\n",
      "Scores (Un-adjusted)\n",
      "========================================\n",
      "Pos. class accuracy: 0.798\n",
      "Neg. class accuracy: 0.473\n",
      "Precision            0.117\n",
      "Recall               0.798\n",
      "F1                   0.205\n",
      "----------------------------------------\n",
      "TP: 174 | FP: 1308 | TN: 1175 | FN: 44\n",
      "========================================\n",
      "\n"
     ]
    }
   ],
   "source": [
    "tp, fp, tn, fn = lstm.error_analysis(session, test_cands, L_gold_test)"
   ]
  },
  {
   "cell_type": "markdown",
   "metadata": {},
   "source": [
    "Finally, let's save our model for later use. "
   ]
  },
  {
   "cell_type": "code",
   "execution_count": 20,
   "metadata": {
    "collapsed": false
   },
   "outputs": [
    {
     "name": "stdout",
     "output_type": "stream",
     "text": [
      "[reRNN] Model saved as <spouse.lstm>\n"
     ]
    }
   ],
   "source": [
    "lstm.save(\"spouse.lstm\")"
   ]
  },
  {
   "cell_type": "raw",
   "metadata": {},
   "source": [
    "    10 epochs\n",
    "Pos. class accuracy: 0.706\n",
    "Neg. class accuracy: 0.611\n",
    "Precision            0.138\n",
    "Recall               0.706\n",
    "F1                   0.23\n",
    "--------------------------\n",
    "\n",
    "20 epochs   dropout 0.5\n",
    "========================================\n",
    "Scores (Un-adjusted)\n",
    "========================================\n",
    "Pos. class accuracy: 0.798\n",
    "Neg. class accuracy: 0.473\n",
    "Precision            0.117\n",
    "Recall               0.798\n",
    "F1                   0.205\n",
    "----------------------------------------\n",
    "TP: 174 | FP: 1308 | TN: 1175 | FN: 44\n",
    "========================================\n",
    "\n",
    "40 epochs    dropout 0.5\n",
    "========================================\n",
    "Scores (Un-adjusted)\n",
    "========================================\n",
    "Pos. class accuracy: 0.826\n",
    "Neg. class accuracy: 0.408\n",
    "Precision            0.109\n",
    "Recall               0.826\n",
    "F1                   0.193\n",
    "----------------------------------------\n",
    "TP: 180 | FP: 1469 | TN: 1014 | FN: 38\n",
    "========================================\n",
    "\n",
    "========================================\n",
    "Scores (Un-adjusted)\n",
    "========================================\n",
    "Pos. class accuracy: 0.706\n",
    "Neg. class accuracy: 0.611\n",
    "Precision            0.138\n",
    "Recall               0.706\n",
    "F1                   0.23\n",
    "----------------------------------------\n",
    "TP: 154 | FP: 966 | TN: 1517 | FN: 64\n",
    "========================================\n"
   ]
  }
 ],
 "metadata": {
  "anaconda-cloud": {},
  "kernelspec": {
   "display_name": "Python 2",
   "language": "python",
   "name": "python2"
  },
  "language_info": {
   "codemirror_mode": {
    "name": "ipython",
    "version": 2
   },
   "file_extension": ".py",
   "mimetype": "text/x-python",
   "name": "python",
   "nbconvert_exporter": "python",
   "pygments_lexer": "ipython2",
   "version": "2.7.13"
  }
 },
 "nbformat": 4,
 "nbformat_minor": 1
}
