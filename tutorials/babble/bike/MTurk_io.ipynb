{
 "cells": [
  {
   "cell_type": "markdown",
   "metadata": {
    "deletable": true,
    "editable": true
   },
   "source": [
    "## MTurk I/O for Image Dataset\n",
    "\n",
    "The query of interest is: **The outlined boxes depict a person riding a bike** \n",
    "\n",
    "Want to generate the input .csv file for MTurk and parse the output csv file for results. Using MTurkHelper from babble with adjustments for candidate type."
   ]
  },
  {
   "cell_type": "code",
   "execution_count": 1,
   "metadata": {
    "collapsed": false,
    "deletable": true,
    "editable": true
   },
   "outputs": [],
   "source": [
    "import numpy as np\n",
    "%matplotlib inline\n",
    "\n",
    "import os\n",
    "import sys\n",
    "import pandas as pd\n",
    "\n",
    "\n",
    "%load_ext autoreload\n",
    "%autoreload 2"
   ]
  },
  {
   "cell_type": "markdown",
   "metadata": {
    "collapsed": true,
    "deletable": true,
    "editable": true
   },
   "source": [
    "## MTurk Helper for Input CSV"
   ]
  },
  {
   "cell_type": "code",
   "execution_count": 2,
   "metadata": {
    "collapsed": false,
    "deletable": true,
    "editable": true
   },
   "outputs": [
    {
     "name": "stdout",
     "output_type": "stream",
     "text": [
      "The autoreload extension is already loaded. To reload it, use:\n",
      "  %reload_ext autoreload\n"
     ]
    }
   ],
   "source": [
    "sys.path.append('../data/')\n",
    "from tutorials.babble import MTurkHelper\n",
    "%load_ext autoreload\n",
    "%autoreload 2"
   ]
  },
  {
   "cell_type": "markdown",
   "metadata": {
    "deletable": true,
    "editable": true
   },
   "source": [
    "We want to make \"fake\" candidates for the visual tesk since it doesn't fit into the actual sense of the word \"candidate\". They will just be a list of image names that are saved (how convenient!)"
   ]
  },
  {
   "cell_type": "code",
   "execution_count": 3,
   "metadata": {
    "collapsed": false,
    "deletable": true,
    "editable": true
   },
   "outputs": [
    {
     "name": "stdout",
     "output_type": "stream",
     "text": [
      "False\n",
      "259\n"
     ]
    }
   ],
   "source": [
    "filelist= [file for file in os.listdir('/dfs/scratch0/paroma/visual_genome/') if ((file.startswith('val_')) and (file.endswith('.png')))]\n",
    "print (len(filelist) % 4 == 0)\n",
    "print len(filelist)/4"
   ]
  },
  {
   "cell_type": "code",
   "execution_count": 4,
   "metadata": {
    "collapsed": false,
    "deletable": true,
    "editable": true
   },
   "outputs": [],
   "source": [
    "helper = MTurkHelper(candidates=filelist, labels=[], num_hits=len(filelist)/4)"
   ]
  },
  {
   "cell_type": "code",
   "execution_count": 5,
   "metadata": {
    "collapsed": false,
    "deletable": true,
    "editable": true
   },
   "outputs": [
    {
     "name": "stdout",
     "output_type": "stream",
     "text": [
      "Wrote 259 HITs with 4 candidates per HIT\n"
     ]
    }
   ],
   "source": [
    "input_csv_path = './Labels_for_Visual_Genome_v0.2.csv'\n",
    "helper.preprocess_visual(input_csv_path)"
   ]
  },
  {
   "cell_type": "markdown",
   "metadata": {
    "collapsed": true,
    "deletable": true,
    "editable": true
   },
   "source": [
    "## MTurk Helper for Output Labels CSV"
   ]
  },
  {
   "cell_type": "code",
   "execution_count": 14,
   "metadata": {
    "collapsed": false,
    "deletable": true,
    "editable": true
   },
   "outputs": [],
   "source": [
    "output_csv_path = (os.environ['SNORKELHOME'] + '/tutorials/babble/bike/data/Labels_for_Visual_Genome_all_out.csv')"
   ]
  },
  {
   "cell_type": "code",
   "execution_count": 15,
   "metadata": {
    "collapsed": false,
    "deletable": true,
    "editable": true
   },
   "outputs": [
    {
     "name": "stdout",
     "output_type": "stream",
     "text": [
      "Num HITs unique: 495\n",
      "Num HITs total: 997\n"
     ]
    },
    {
     "data": {
      "image/png": "[encoded data removed]",
      "text/plain": [
       "<matplotlib.figure.Figure at 0x7f40e1d7dcd0>"
      ]
     },
     "metadata": {},
     "output_type": "display_data"
    },
    {
     "name": "stdout",
     "output_type": "stream",
     "text": [
      "Median # seconds/HIT: 374 (93.0 s/explanation)\n"
     ]
    },
    {
     "data": {
      "image/png": "[encoded data removed]",
      "text/plain": [
       "<matplotlib.figure.Figure at 0x7f40e1a432d0>"
      ]
     },
     "metadata": {},
     "output_type": "display_data"
    },
    {
     "ename": "NameError",
     "evalue": "global name 'num_expected_explanations' is not defined",
     "output_type": "error",
     "traceback": [
      "\u001b[0;31m---------------------------------------------------------------------------\u001b[0m",
      "\u001b[0;31mNameError\u001b[0m                                 Traceback (most recent call last)",
      "\u001b[0;32m<ipython-input-15-004a14e1aff3>\u001b[0m in \u001b[0;36m<module>\u001b[0;34m()\u001b[0m\n\u001b[1;32m      1\u001b[0m \u001b[0mhelper\u001b[0m \u001b[0;34m=\u001b[0m \u001b[0mMTurkHelper\u001b[0m\u001b[0;34m(\u001b[0m\u001b[0mcandidates\u001b[0m\u001b[0;34m=\u001b[0m\u001b[0;34m[\u001b[0m\u001b[0;34m]\u001b[0m\u001b[0;34m,\u001b[0m \u001b[0mlabels\u001b[0m\u001b[0;34m=\u001b[0m\u001b[0;34m[\u001b[0m\u001b[0;34m]\u001b[0m\u001b[0;34m,\u001b[0m \u001b[0mnum_hits\u001b[0m\u001b[0;34m=\u001b[0m\u001b[0;36m259\u001b[0m\u001b[0;34m,\u001b[0m \u001b[0mdomain\u001b[0m\u001b[0;34m=\u001b[0m\u001b[0;34m'vg'\u001b[0m\u001b[0;34m,\u001b[0m \u001b[0mworkers_per_hit\u001b[0m\u001b[0;34m=\u001b[0m\u001b[0;36m2\u001b[0m\u001b[0;34m)\u001b[0m\u001b[0;34m\u001b[0m\u001b[0m\n\u001b[0;32m----> 2\u001b[0;31m \u001b[0mlabels_by_candidate\u001b[0m \u001b[0;34m=\u001b[0m \u001b[0mhelper\u001b[0m\u001b[0;34m.\u001b[0m\u001b[0mpostprocess_labels\u001b[0m\u001b[0;34m(\u001b[0m\u001b[0moutput_csv_path\u001b[0m\u001b[0;34m,\u001b[0m \u001b[0mcandidates\u001b[0m\u001b[0;34m=\u001b[0m\u001b[0;34m[\u001b[0m\u001b[0;34m]\u001b[0m\u001b[0;34m,\u001b[0m \u001b[0mverbose\u001b[0m\u001b[0;34m=\u001b[0m\u001b[0mTrue\u001b[0m\u001b[0;34m)\u001b[0m\u001b[0;34m\u001b[0m\u001b[0m\n\u001b[0m",
      "\u001b[0;32m/afs/cs.stanford.edu/u/paroma/snorkel_new/babble_snorkel/tutorials/babble/mturk_processing.pyc\u001b[0m in \u001b[0;36mpostprocess_labels\u001b[0;34m(self, csvpath, candidates, verbose)\u001b[0m\n\u001b[1;32m    272\u001b[0m \u001b[0;34m\u001b[0m\u001b[0m\n\u001b[1;32m    273\u001b[0m             print(\"Warning: expected {} total explanations, found {}.\".format(\n\u001b[0;32m--> 274\u001b[0;31m                 num_expected_explanations, num_actual_explanations))\n\u001b[0m\u001b[1;32m    275\u001b[0m             \u001b[0;32mprint\u001b[0m\u001b[0;34m(\u001b[0m\u001b[0;34m\"Unanimous: {}\"\u001b[0m\u001b[0;34m.\u001b[0m\u001b[0mformat\u001b[0m\u001b[0;34m(\u001b[0m\u001b[0mnum_unanimous\u001b[0m\u001b[0;34m)\u001b[0m\u001b[0;34m)\u001b[0m\u001b[0;34m\u001b[0m\u001b[0m\n\u001b[1;32m    276\u001b[0m             \u001b[0;32mprint\u001b[0m\u001b[0;34m(\u001b[0m\u001b[0;34m\"Majority: {}\"\u001b[0m\u001b[0;34m.\u001b[0m\u001b[0mformat\u001b[0m\u001b[0;34m(\u001b[0m\u001b[0mnum_majority\u001b[0m\u001b[0;34m)\u001b[0m\u001b[0;34m)\u001b[0m\u001b[0;34m\u001b[0m\u001b[0m\n",
      "\u001b[0;31mNameError\u001b[0m: global name 'num_expected_explanations' is not defined"
     ]
    }
   ],
   "source": [
    "helper = MTurkHelper(candidates=[], labels=[], num_hits=259, domain='vg', workers_per_hit=2)\n",
    "labels_by_candidate = helper.postprocess_labels(output_csv_path, candidates=[], verbose=True)"
   ]
  },
  {
   "cell_type": "code",
   "execution_count": 8,
   "metadata": {
    "collapsed": false,
    "deletable": true,
    "editable": true
   },
   "outputs": [
    {
     "name": "stdout",
     "output_type": "stream",
     "text": [
      "Number of Valid Dev Set Candidates:  906\n"
     ]
    }
   ],
   "source": [
    "print \"Number of Valid Dev Set Candidates: \", len(labels_by_candidate)\n",
    "#np.save('/dfs/scratch0/paroma/coco/annotations/labels_by_candidate.npy', np.array(labels_by_candidate))"
   ]
  },
  {
   "cell_type": "markdown",
   "metadata": {
    "deletable": true,
    "editable": true
   },
   "source": [
    "## MTurk Helper for Explanations CSV"
   ]
  },
  {
   "cell_type": "code",
   "execution_count": 18,
   "metadata": {
    "collapsed": true,
    "deletable": true,
    "editable": true
   },
   "outputs": [],
   "source": [
    "output_csv_path = (os.environ['SNORKELHOME'] + '/tutorials/babble/bike/data/VisualGenome_all_out.csv')"
   ]
  },
  {
   "cell_type": "code",
   "execution_count": 19,
   "metadata": {
    "collapsed": false,
    "deletable": true,
    "editable": true
   },
   "outputs": [
    {
     "name": "stdout",
     "output_type": "stream",
     "text": [
      "Num HITs unique: 40\n",
      "Num HITs total: 120\n"
     ]
    },
    {
     "data": {
      "image/png": "[encoded data removed]",
      "text/plain": [
       "<matplotlib.figure.Figure at 0x7f4067e7acd0>"
      ]
     },
     "metadata": {},
     "output_type": "display_data"
    },
    {
     "name": "stdout",
     "output_type": "stream",
     "text": [
      "Median # seconds/HIT: 566 (141.0 s/explanation)\n"
     ]
    },
    {
     "data": {
      "image/png": "[encoded data removed]",
      "text/plain": [
       "<matplotlib.figure.Figure at 0x7f40e44cb790>"
      ]
     },
     "metadata": {},
     "output_type": "display_data"
    },
    {
     "name": "stdout",
     "output_type": "stream",
     "text": [
      "Warning: for candidate 0:179::bbox:5~~0:179::bbox:2, expected 3 responses, found 6.\n",
      "Warning: for candidate 0:208::bbox:6~~0:208::bbox:0, expected 3 responses, found 6.\n",
      "Warning: expected 160 total explanations, found 159.\n",
      "Unanimous: 99\n",
      "Majority: 33\n",
      "Bad: 27\n"
     ]
    }
   ],
   "source": [
    "helper = MTurkHelper(candidates=[], labels=[], num_hits=40, domain='vg', workers_per_hit=3)\n",
    "explanations = helper.postprocess_visual(output_csv_path, candidates=[], verbose=True)"
   ]
  },
  {
   "cell_type": "markdown",
   "metadata": {
    "deletable": true,
    "editable": true
   },
   "source": [
    "## Generating Train Candidates for Labels"
   ]
  },
  {
   "cell_type": "code",
   "execution_count": 6,
   "metadata": {
    "collapsed": false,
    "deletable": true,
    "editable": true
   },
   "outputs": [
    {
     "name": "stdout",
     "output_type": "stream",
     "text": [
      "Num HITs:  602\n"
     ]
    }
   ],
   "source": [
    "all_train_cand = [file for file in os.listdir('/dfs/scratch0/paroma/visual_genome/') \n",
    "                  if ((file.startswith('train_')) and (file.endswith('.png')))]\n",
    "print 'Num HITs: ', int(round(len(all_train_cand)/4.0))"
   ]
  },
  {
   "cell_type": "code",
   "execution_count": 39,
   "metadata": {
    "collapsed": false,
    "deletable": true,
    "editable": true
   },
   "outputs": [],
   "source": [
    "helper = MTurkHelper(candidates=all_train_cand, labels=[], num_hits=int(round(len(all_train_cand)/4.0)))"
   ]
  },
  {
   "cell_type": "code",
   "execution_count": 42,
   "metadata": {
    "collapsed": false,
    "deletable": true,
    "editable": true
   },
   "outputs": [
    {
     "name": "stdout",
     "output_type": "stream",
     "text": [
      "Wrote 602 HITs with 4 candidates per HIT\n"
     ]
    }
   ],
   "source": [
    "input_csv_path = './Train_Labels_for_Visual_Genome_in.csv'\n",
    "helper.preprocess_visual(input_csv_path)"
   ]
  },
  {
   "cell_type": "code",
   "execution_count": 22,
   "metadata": {
    "collapsed": true
   },
   "outputs": [],
   "source": [
    "output_csv_path = (os.environ['SNORKELHOME'] + 'tutorials/babble/bike/data/Train_Labels_for_Visual_Genome_out.csv')"
   ]
  },
  {
   "cell_type": "code",
   "execution_count": 23,
   "metadata": {
    "collapsed": false
   },
   "outputs": [
    {
     "name": "stdout",
     "output_type": "stream",
     "text": [
      "Analyzing train Set!\n",
      "Num HITs unique: 602\n",
      "Num HITs total: 1806\n"
     ]
    },
    {
     "data": {
      "image/png": "[encoded data removed]",
      "text/plain": [
       "<matplotlib.figure.Figure at 0x7f19c6fd29d0>"
      ]
     },
     "metadata": {},
     "output_type": "display_data"
    },
    {
     "name": "stdout",
     "output_type": "stream",
     "text": [
      "Median # seconds/HIT: 299 (74.0 s/explanation)\n"
     ]
    },
    {
     "data": {
      "image/png": "[encoded data removed]",
      "text/plain": [
       "<matplotlib.figure.Figure at 0x7f1a46e840d0>"
      ]
     },
     "metadata": {},
     "output_type": "display_data"
    },
    {
     "name": "stdout",
     "output_type": "stream",
     "text": [
      "Warning: expected 2408 total explanations, found 2406.\n",
      "Unanimous: 1661\n",
      "Majority: 441\n",
      "Bad: 304\n"
     ]
    }
   ],
   "source": [
    "helper = MTurkHelper(candidates=[], labels=[], num_hits=int(round(len(all_train_cand)/4.0)), domain='vg', workers_per_hit=3)\n",
    "labels_by_candidate = helper.postprocess_labels(output_csv_path, set_name='train', verbose=True)"
   ]
  },
  {
   "cell_type": "code",
   "execution_count": 24,
   "metadata": {
    "collapsed": false
   },
   "outputs": [
    {
     "name": "stdout",
     "output_type": "stream",
     "text": [
      "Number of Valid Train Set Candidates:  2102\n"
     ]
    }
   ],
   "source": [
    "print \"Number of Valid Train Set Candidates: \", len(labels_by_candidate)\n",
    "np.save('/dfs/scratch0/paroma/coco/annotations/train_labels_by_candidate.npy', np.array(labels_by_candidate))"
   ]
  },
  {
   "cell_type": "markdown",
   "metadata": {
    "deletable": true,
    "editable": true
   },
   "source": [
    "## Debugging for BabbleModel"
   ]
  },
  {
   "cell_type": "code",
   "execution_count": 20,
   "metadata": {
    "collapsed": false,
    "deletable": true,
    "editable": true
   },
   "outputs": [
    {
     "name": "stdout",
     "output_type": "stream",
     "text": [
      "Created grammar with 418 rules\n"
     ]
    }
   ],
   "source": [
    "from snorkel.contrib.babble import Babbler\n",
    "user_lists = {}\n",
    "babbler = Babbler(mode='image', explanations=explanations)"
   ]
  },
  {
   "cell_type": "code",
   "execution_count": 21,
   "metadata": {
    "collapsed": false,
    "deletable": true,
    "editable": true
   },
   "outputs": [
    {
     "name": "stdout",
     "output_type": "stream",
     "text": [
      "338 parses created from 246 out of 367 explanation(s)\n"
     ]
    },
    {
     "data": {
      "text/plain": [
       "[Explanation(\"Explanation0: False, Box X barely overlaps Box Y.\"),\n",
       " Explanation(\"Explanation102: False, Box X is much wider than Box Y.\"),\n",
       " Explanation(\"Explanation104: False, Box X is much larger than Box Y.\"),\n",
       " Explanation(\"Explanation107: False, The lower edge of Box X is below than the lower edge of box Y.\"),\n",
       " Explanation(\"Explanation11: False, Box X is a lot smaller than Box Y.\"),\n",
       " Explanation(\"Explanation110: True, Box X overlaps the center of Box Y.\"),\n",
       " Explanation(\"Explanation111: True, Box Y is almost the same size as Box X.\"),\n",
       " Explanation(\"Explanation112: True, The bottom of box X is half covered by box Y\"),\n",
       " Explanation(\"Explanation113: False, Box X is much wider than Box Y.\"),\n",
       " Explanation(\"Explanation114: False, Box X is 20 times as long as box Y\"),\n",
       " Explanation(\"Explanation115: True, Box X is centered and slightly above Box Y.\"),\n",
       " Explanation(\"Explanation116: True, The bottom edge of box Y is just a little bit below the bottom edge of box X.\"),\n",
       " Explanation(\"Explanation117: True, Box Y almost fits inside of box X. Box Y is in the dead center of box X.\"),\n",
       " Explanation(\"Explanation117: True, Box Y almost fits inside of box X. Box Y is in the dead center of box X.\"),\n",
       " Explanation(\"Explanation118: False, Box X is at least 10 times as wide as Box Y.\"),\n",
       " Explanation(\"Explanation119: False, Box Y is a very small fraction of box X.\"),\n",
       " Explanation(\"Explanation12: False, Box X is to the left of Box Y.\"),\n",
       " Explanation(\"Explanation123: True, The center of Box X is even with the top edge of Box Y.\"),\n",
       " Explanation(\"Explanation124: False, The center of box X is above and to the right of box Y.\"),\n",
       " Explanation(\"Explanation125: False, Box X is to the right of Box Y.\"),\n",
       " Explanation(\"Explanation126: True, Box X is centered over Box Y.\"),\n",
       " Explanation(\"Explanation126: True, Box X is centered over Box Y.\"),\n",
       " Explanation(\"Explanation127: True, Box Y is at most two times smaller than Box X, Box X\", \"Box X is taller than Box Y\"),\n",
       " Explanation(\"Explanation128: True, Box y is directly below box x\"),\n",
       " Explanation(\"Explanation129: False, Box X is much bigger than Box Y.\"),\n",
       " Explanation(\"Explanation130: False, Box X is about thirty times larger than box Y. Box Y is but a small speck in box X.\"),\n",
       " Explanation(\"Explanation130: False, Box X is about thirty times larger than box Y. Box Y is but a small speck in box X.\"),\n",
       " Explanation(\"Explanation130: False, Box X is about thirty times larger than box Y. Box Y is but a small speck in box X.\"),\n",
       " Explanation(\"Explanation130: False, Box X is about thirty times larger than box Y. Box Y is but a small speck in box X.\"),\n",
       " Explanation(\"Explanation130: False, Box X is about thirty times larger than box Y. Box Y is but a small speck in box X.\"),\n",
       " Explanation(\"Explanation130: False, Box X is about thirty times larger than box Y. Box Y is but a small speck in box X.\"),\n",
       " Explanation(\"Explanation131: False, Box Y is a very small fraction of the size of box X.\"),\n",
       " Explanation(\"Explanation133: True, Box Y is twice as wide as box X\"),\n",
       " Explanation(\"Explanation134: True, Box X is in the center of Box Y.\"),\n",
       " Explanation(\"Explanation137: True, Box X is directly above Box Y and they're almost the same size.\"),\n",
       " Explanation(\"Explanation138: False, Box X is above Box Y.\"),\n",
       " Explanation(\"Explanation14: False, Box Y's center is a little to the left and down from box X's center.\"),\n",
       " Explanation(\"Explanation140: False, The bottom of box X is a small fraction of the top of box Y.\"),\n",
       " Explanation(\"Explanation141: False, Box X is much bigger than Box Y.\"),\n",
       " Explanation(\"Explanation142: False, Box X is about 10 times larger than box Y\"),\n",
       " Explanation(\"Explanation143: False, Box x is fat too large and is underneath box y.\"),\n",
       " Explanation(\"Explanation144: False, Box Y is half the size of Box X.\"),\n",
       " Explanation(\"Explanation145: False, Box Y is very far right of box X.\"),\n",
       " Explanation(\"Explanation146: False, Box X is to the left of Box Y.\"),\n",
       " Explanation(\"Explanation147: False, Box X only overlaps the left part of Box Y.\"),\n",
       " Explanation(\"Explanation147: False, Box X only overlaps the left part of Box Y.\"),\n",
       " Explanation(\"Explanation148: False, the left edge of box Y is half way between the left and right edges of box X.\"),\n",
       " Explanation(\"Explanation149: False, Box X is way to the left of box Y. Box X barely fits some of Box Y inside.\"),\n",
       " Explanation(\"Explanation149: False, Box X is way to the left of box Y. Box X barely fits some of Box Y inside.\"),\n",
       " Explanation(\"Explanation149: False, Box X is way to the left of box Y. Box X barely fits some of Box Y inside.\"),\n",
       " Explanation(\"Explanation149: False, Box X is way to the left of box Y. Box X barely fits some of Box Y inside.\"),\n",
       " Explanation(\"Explanation15: False, Box X is to the left of Box Y.\"),\n",
       " Explanation(\"Explanation150: False, Box x is too far to the right of box y and is also below box y.\"),\n",
       " Explanation(\"Explanation150: False, Box x is too far to the right of box y and is also below box y.\"),\n",
       " Explanation(\"Explanation150: False, Box x is too far to the right of box y and is also below box y.\"),\n",
       " Explanation(\"Explanation150: False, Box x is too far to the right of box y and is also below box y.\"),\n",
       " Explanation(\"Explanation151: False, Box Y is high and to the left of Box X, and is also a lot smaller\"),\n",
       " Explanation(\"Explanation152: False, Box X is much wider than Box Y.\"),\n",
       " Explanation(\"Explanation153: False, Box X is over ten times larger than box Y.\"),\n",
       " Explanation(\"Explanation153: False, Box X is over ten times larger than box Y.\"),\n",
       " Explanation(\"Explanation153: False, Box X is over ten times larger than box Y.\"),\n",
       " Explanation(\"Explanation154: True, Box X is about the same size as Box Y.\"),\n",
       " Explanation(\"Explanation155: True, Box Y is almost as big as Box X.\"),\n",
       " Explanation(\"Explanation158: True, Box X mostly overlaps Box Y.\"),\n",
       " Explanation(\"Explanation16: False, The bottom edge of Box X is below the bottom edge of Box Y.\"),\n",
       " Explanation(\"Explanation166: True, Box X is centered over Box Y.\"),\n",
       " Explanation(\"Explanation166: True, Box X is centered over Box Y.\"),\n",
       " Explanation(\"Explanation167: True, Box x is an appropriate size over this size of box y.\"),\n",
       " Explanation(\"Explanation167: True, Box x is an appropriate size over this size of box y.\"),\n",
       " Explanation(\"Explanation168: False, Box Y is much much smaller than box X.\"),\n",
       " Explanation(\"Explanation169: False, Box X is 20 times bigger than box Y\"),\n",
       " Explanation(\"Explanation170: False, Box X is much bigger than Box Y.\"),\n",
       " Explanation(\"Explanation171: False, Only a very small corner of box X overlaps box Y\"),\n",
       " Explanation(\"Explanation172: False, Box X only overlaps the top left corner of Box Y.\"),\n",
       " Explanation(\"Explanation172: False, Box X only overlaps the top left corner of Box Y.\"),\n",
       " Explanation(\"Explanation175: False, Box X barely overlaps Box Y at all, and Box Y is much larger.\"),\n",
       " Explanation(\"Explanation177: True, The bottom edge of box X is at the center of box Y.\"),\n",
       " Explanation(\"Explanation178: True, The man in box X is on the bike in box Y\"),\n",
       " Explanation(\"Explanation178: True, The man in box X is on the bike in box Y\"),\n",
       " Explanation(\"Explanation18: True, Box X\", \"Box X is taller than Box Y\"),\n",
       " Explanation(\"Explanation18: True, Box X\", \"Box X is taller than Box Y\"),\n",
       " Explanation(\"Explanation18: True, Box X\", \"Box X is taller than Box Y\"),\n",
       " Explanation(\"Explanation180: False, Box X is to the right of Box Y.\"),\n",
       " Explanation(\"Explanation181: False, Box X is directly in front of Box Y.\"),\n",
       " Explanation(\"Explanation181: False, Box X is directly in front of Box Y.\"),\n",
       " Explanation(\"Explanation182: False, The right edge of box Y is almost on the left edge of box X.\"),\n",
       " Explanation(\"Explanation184: False, Box X completely engulfs Box Y.\"),\n",
       " Explanation(\"Explanation185: False, Box x doesn't specify one specific person and is several times larger than box y.\"),\n",
       " Explanation(\"Explanation186: False, Box X is to the left of Box Y\"),\n",
       " Explanation(\"Explanation187: False, Box X is much bigger than Box Y.\"),\n",
       " Explanation(\"Explanation188: False, Box X is much bigger than Box Y.\"),\n",
       " Explanation(\"Explanation189: True, Box X is about the same size as Box Y.\"),\n",
       " Explanation(\"Explanation19: True, Box Y is wider than box X\"),\n",
       " Explanation(\"Explanation190: True, Box Y is wider and situated below box X\"),\n",
       " Explanation(\"Explanation190: True, Box Y is wider and situated below box X\"),\n",
       " Explanation(\"Explanation191: True, The center of box X is over the center of box Y.\"),\n",
       " Explanation(\"Explanation192: False, Box X is slightly off to the left of Box Y.\"),\n",
       " Explanation(\"Explanation195: True, Box X overlaps the top of Box Y.\"),\n",
       " Explanation(\"Explanation196: True, Box Y is half the size of Box X.\"),\n",
       " Explanation(\"Explanation197: False, Left edge of Box X is touching right edge of Box Y\"),\n",
       " Explanation(\"Explanation198: False, Box X barely overlaps box Y\"),\n",
       " Explanation(\"Explanation199: False, Box X is to the right of Box Y.\"),\n",
       " Explanation(\"Explanation2: False, Box X is always a person and outlined in blue and Box Y is always a bicycle outlined in yellow.\"),\n",
       " Explanation(\"Explanation2: False, Box X is always a person and outlined in blue and Box Y is always a bicycle outlined in yellow.\"),\n",
       " Explanation(\"Explanation2: False, Box X is always a person and outlined in blue and Box Y is always a bicycle outlined in yellow.\"),\n",
       " Explanation(\"Explanation2: False, Box X is always a person and outlined in blue and Box Y is always a bicycle outlined in yellow.\"),\n",
       " Explanation(\"Explanation201: False, Box X is much larger than box Y\"),\n",
       " Explanation(\"Explanation202: False, The right edge of Box X is left of the center of Box Y.\"),\n",
       " Explanation(\"Explanation204: False, Box Y is to the right of and behind Box X.\"),\n",
       " Explanation(\"Explanation206: False, Box X is much taller than Box Y.\"),\n",
       " Explanation(\"Explanation207: False, Box Y is much much smaller than box X is.\"),\n",
       " Explanation(\"Explanation208: False, The person in box x is much closer and is not standing over a bicycle in box y.\"),\n",
       " Explanation(\"Explanation208: False, The person in box x is much closer and is not standing over a bicycle in box y.\"),\n",
       " Explanation(\"Explanation208: False, The person in box x is much closer and is not standing over a bicycle in box y.\"),\n",
       " Explanation(\"Explanation208: False, The person in box x is much closer and is not standing over a bicycle in box y.\"),\n",
       " Explanation(\"Explanation21: False, Box X is much taller than Box Y.\"),\n",
       " Explanation(\"Explanation210: True, The bottom of box X is in the center of box Y\"),\n",
       " Explanation(\"Explanation211: True, Box x overlaps box Y. The bottom half of box x fits inside box Y.\"),\n",
       " Explanation(\"Explanation211: True, Box x overlaps box Y. The bottom half of box x fits inside box Y.\"),\n",
       " Explanation(\"Explanation211: True, Box x overlaps box Y. The bottom half of box x fits inside box Y.\"),\n",
       " Explanation(\"Explanation211: True, Box x overlaps box Y. The bottom half of box x fits inside box Y.\"),\n",
       " Explanation(\"Explanation211: True, Box x overlaps box Y. The bottom half of box x fits inside box Y.\"),\n",
       " Explanation(\"Explanation211: True, Box x overlaps box Y. The bottom half of box x fits inside box Y.\"),\n",
       " Explanation(\"Explanation211: True, Box x overlaps box Y. The bottom half of box x fits inside box Y.\"),\n",
       " Explanation(\"Explanation212: False, Box X is above Box Y.\"),\n",
       " Explanation(\"Explanation214: False, The bottom edge of box X is very close but just below the top edge of box Y.\"),\n",
       " Explanation(\"Explanation214: False, The bottom edge of box X is very close but just below the top edge of box Y.\"),\n",
       " Explanation(\"Explanation215: False, The right edge of Box X is just barely to the right of the left edge of Box Y.\"),\n",
       " Explanation(\"Explanation219: False, Box X is much smaller than Box Y.\"),\n",
       " Explanation(\"Explanation220: False, Box Y is many many times smaller than box X.\"),\n",
       " Explanation(\"Explanation221: False, Box X is much bigger than Box Y.\"),\n",
       " Explanation(\"Explanation225: False, Box X is smaller than Box Y and is located in the top right corner of Box Y.\"),\n",
       " Explanation(\"Explanation225: False, Box X is smaller than Box Y and is located in the top right corner of Box Y.\"),\n",
       " Explanation(\"Explanation225: False, Box X is smaller than Box Y and is located in the top right corner of Box Y.\"),\n",
       " Explanation(\"Explanation227: False, Box X is much bigger than Box Y.\"),\n",
       " Explanation(\"Explanation228: False, Box X is about 50 times bigger than Box Y.\"),\n",
       " Explanation(\"Explanation229: True, Box X is directly above box Y.\"),\n",
       " Explanation(\"Explanation230: True, Box X bisects Box Y.\"),\n",
       " Explanation(\"Explanation231: False, Box X is much bigger than Box Y.\"),\n",
       " Explanation(\"Explanation232: False, Box Y is over four times smaller than box X.\"),\n",
       " Explanation(\"Explanation232: False, Box Y is over four times smaller than box X.\"),\n",
       " Explanation(\"Explanation232: False, Box Y is over four times smaller than box X.\"),\n",
       " Explanation(\"Explanation233: False, Box X is 10 times as big as Box Y.\"),\n",
       " Explanation(\"Explanation234: False, Box X is way bigger than Box Y.\"),\n",
       " Explanation(\"Explanation235: False, Box Y is a small fraction of box X.\"),\n",
       " Explanation(\"Explanation236: True, Box Y almost fits in the bottom of box X.\"),\n",
       " Explanation(\"Explanation237: True, The bottom of box Y is very close to the bottom of box X.\"),\n",
       " Explanation(\"Explanation241: False, Box X is much smaller than Box Y.\"),\n",
       " Explanation(\"Explanation242: False, Box X is much smaller than Box Y.\"),\n",
       " Explanation(\"Explanation243: False, Box X is much smaller than box Y\"),\n",
       " Explanation(\"Explanation246: True, Box X is above and overlapping Box Y, and they're similar in size.\"),\n",
       " Explanation(\"Explanation246: True, Box X is above and overlapping Box Y, and they're similar in size.\"),\n",
       " Explanation(\"Explanation247: False, Box X is much larger than Box Y.\"),\n",
       " Explanation(\"Explanation248: False, Box Y is entirely surrounded by box X\"),\n",
       " Explanation(\"Explanation25: True, The bottom of box Y is at the same place as the bottom of box X.\"),\n",
       " Explanation(\"Explanation250: False, Box x is in front of box y although they are correctly sized.\"),\n",
       " Explanation(\"Explanation250: False, Box x is in front of box y although they are correctly sized.\"),\n",
       " Explanation(\"Explanation252: True, Box X is nearly centered over Box Y.\"),\n",
       " Explanation(\"Explanation252: True, Box X is nearly centered over Box Y.\"),\n",
       " Explanation(\"Explanation255: False, Box Y is much smaller than box X\"),\n",
       " Explanation(\"Explanation256: False, Box X is much wider and taller than Box Y.\"),\n",
       " Explanation(\"Explanation256: False, Box X is much wider and taller than Box Y.\"),\n",
       " Explanation(\"Explanation257: False, The bottom edge of box Y is just above the bottom edge of box X.\"),\n",
       " Explanation(\"Explanation258: False, The bottom of box X is past the bottom of box Y\"),\n",
       " Explanation(\"Explanation259: False, Box X is slightly below Box Y.\"),\n",
       " Explanation(\"Explanation26: True, Box Y is only slightly wider than box X and the bottom of each box meet in the same spot\"),\n",
       " Explanation(\"Explanation260: True, Box X almost completely overlaps Box Y.\"),\n",
       " Explanation(\"Explanation261: True, The top of box Y is about two thirds  of the way inside box X.\"),\n",
       " Explanation(\"Explanation262: True, The left and right edges of box Y are very close to the left and right edges of box X.\"),\n",
       " Explanation(\"Explanation262: True, The left and right edges of box Y are very close to the left and right edges of box X.\"),\n",
       " Explanation(\"Explanation262: True, The left and right edges of box Y are very close to the left and right edges of box X.\"),\n",
       " Explanation(\"Explanation262: True, The left and right edges of box Y are very close to the left and right edges of box X.\"),\n",
       " Explanation(\"Explanation262: True, The left and right edges of box Y are very close to the left and right edges of box X.\"),\n",
       " Explanation(\"Explanation262: True, The left and right edges of box Y are very close to the left and right edges of box X.\"),\n",
       " Explanation(\"Explanation263: False, Box X only overlaps a sliver of the right side of Box Y.\"),\n",
       " Explanation(\"Explanation263: False, Box X only overlaps a sliver of the right side of Box Y.\"),\n",
       " Explanation(\"Explanation266: False, Box X is to the right of Box Y.\"),\n",
       " Explanation(\"Explanation267: False, Box X is much smaller than Box Y.\"),\n",
       " Explanation(\"Explanation269: True, Box X is centered and slightly above Box Y.\"),\n",
       " Explanation(\"Explanation270: True, Box x is an appropriate size over this size of box y.\"),\n",
       " Explanation(\"Explanation270: True, Box x is an appropriate size over this size of box y.\"),\n",
       " Explanation(\"Explanation273: False, Box X unevenly overlaps Box Y.\"),\n",
       " Explanation(\"Explanation275: False, Box X is off-center to the right of Box Y.\"),\n",
       " Explanation(\"Explanation276: False, Box Y is too far to the left of box X\"),\n",
       " Explanation(\"Explanation277: False, Box X is much larger than Box Y\"),\n",
       " Explanation(\"Explanation278: False, Box X is ten times as big as box Y\"),\n",
       " Explanation(\"Explanation279: False, Box X is much larger than Box Y.\"),\n",
       " Explanation(\"Explanation280: True, Box X is centered and overlapping Box Y.\"),\n",
       " Explanation(\"Explanation281: True, Box Y is skinnier than box X\"),\n",
       " Explanation(\"Explanation283: True, Box X's top edge is about half way above the top edge of box Y.\"),\n",
       " Explanation(\"Explanation284: True, Box X is about the same size as Box Y.\"),\n",
       " Explanation(\"Explanation286: False, Box Y is much smaller than Box X.\"),\n",
       " Explanation(\"Explanation287: False, Box X is four times as big as box Y\"),\n",
       " Explanation(\"Explanation288: False, Box X is to the right of Box Y.\"),\n",
       " Explanation(\"Explanation289: True, Box Y is directly below box X\"),\n",
       " Explanation(\"Explanation29: False, The bottom right edge of Box X is just to the right of the left edge of Box Y.\"),\n",
       " Explanation(\"Explanation29: False, The bottom right edge of Box X is just to the right of the left edge of Box Y.\"),\n",
       " Explanation(\"Explanation290: True, Box X mostly overlaps Box Y.\"),\n",
       " Explanation(\"Explanation291: True, Box X is taller than Box Y. Box X and Box Y are equal at their bottom edges.\"),\n",
       " Explanation(\"Explanation291: True, Box X is taller than Box Y. Box X and Box Y are equal at their bottom edges.\"),\n",
       " Explanation(\"Explanation292: False, Box X is to the right of Box Y.\"),\n",
       " Explanation(\"Explanation294: False, Box X is off in the distance while Box Y is closer to the camera.\"),\n",
       " Explanation(\"Explanation294: False, Box X is off in the distance while Box Y is closer to the camera.\"),\n",
       " Explanation(\"Explanation295: False, The left edge of Box X is on the same line as the right edge of Box Y.\"),\n",
       " Explanation(\"Explanation296: True, Box X mostly overlaps Box Y.\"),\n",
       " Explanation(\"Explanation297: True, Box Y fits inside box X.\"),\n",
       " Explanation(\"Explanation297: True, Box Y fits inside box X.\"),\n",
       " Explanation(\"Explanation299: False, Box X is not centered over Box Y.\"),\n",
       " Explanation(\"Explanation299: False, Box X is not centered over Box Y.\"),\n",
       " Explanation(\"Explanation30: False, Box X is to the left of Box Y\"),\n",
       " Explanation(\"Explanation300: False, The lower edge of Box X is at the exact same point as the lower edge of Box Y.\"),\n",
       " Explanation(\"Explanation303: True, The bottom edge of Box X is just above the bottom edge of Box Y.\"),\n",
       " Explanation(\"Explanation306: True, The top of Box Y is inside Box X.\"),\n",
       " Explanation(\"Explanation307: True, Box Y is directly below box X\"),\n",
       " Explanation(\"Explanation308: True, Box X mostly overlaps Box Y.\"),\n",
       " Explanation(\"Explanation31: False, Box Y is directly to the right of box X. Box X and Box Y barely overlap.\"),\n",
       " Explanation(\"Explanation31: False, Box Y is directly to the right of box X. Box X and Box Y barely overlap.\"),\n",
       " Explanation(\"Explanation310: False, Box X is standing near Box Y.\"),\n",
       " Explanation(\"Explanation310: False, Box X is standing near Box Y.\"),\n",
       " Explanation(\"Explanation312: False, Box Y is many times smaller than Box X.\"),\n",
       " Explanation(\"Explanation316: True, Box X is nearly the same size as Box Y, and Box X is almost directly above Box Y.\"),\n",
       " Explanation(\"Explanation318: False, Box X is much smaller than Box Y.\"),\n",
       " Explanation(\"Explanation319: False, Box x is far too small compared to box y.\"),\n",
       " Explanation(\"Explanation319: False, Box x is far too small compared to box y.\"),\n",
       " Explanation(\"Explanation32: False, The left edge of box Y is  a little to the left of the right edge of box X,\"),\n",
       " Explanation(\"Explanation321: False, Box X extends below Box Y, and the bounding boxes merely touch on one border.\"),\n",
       " Explanation(\"Explanation323: False, Box X is larger and to the right of Box Y.\"),\n",
       " Explanation(\"Explanation323: False, Box X is larger and to the right of Box Y.\"),\n",
       " Explanation(\"Explanation324: False, box y is much shorter than box X is.\"),\n",
       " Explanation(\"Explanation325: False, A person in box x is not actively riding the bicycle in box y as it is lying on the ground.\"),\n",
       " Explanation(\"Explanation325: False, A person in box x is not actively riding the bicycle in box y as it is lying on the ground.\"),\n",
       " Explanation(\"Explanation328: False, Box Y is much tinier than Box X.\"),\n",
       " Explanation(\"Explanation329: False, Box Y is only a small rectangle within Box X.\"),\n",
       " Explanation(\"Explanation33: True, Box X is centered over Box Y.\"),\n",
       " Explanation(\"Explanation33: True, Box X is centered over Box Y.\"),\n",
       " Explanation(\"Explanation332: False, Box X overlaps only one edge of Box Y.\"),\n",
       " Explanation(\"Explanation336: False, Box Y is in the far distance and no where near Box X.\"),\n",
       " Explanation(\"Explanation336: False, Box Y is in the far distance and no where near Box X.\"),\n",
       " Explanation(\"Explanation336: False, Box Y is in the far distance and no where near Box X.\"),\n",
       " Explanation(\"Explanation336: False, Box Y is in the far distance and no where near Box X.\"),\n",
       " Explanation(\"Explanation336: False, Box Y is in the far distance and no where near Box X.\"),\n",
       " Explanation(\"Explanation336: False, Box Y is in the far distance and no where near Box X.\"),\n",
       " Explanation(\"Explanation337: False, Box X is multiple times larger than Box Y.\"),\n",
       " Explanation(\"Explanation338: True, Box X completely overlaps Box Y.\"),\n",
       " Explanation(\"Explanation339: True, Box Y is in the bottom right corner of box X\"),\n",
       " Explanation(\"Explanation34: True, box Y sits just below box X.\"),\n",
       " Explanation(\"Explanation340: True, box y is in the right corner of box x\"),\n",
       " Explanation(\"Explanation341: False, Box X only overlaps the top right corner of Box Y.\"),\n",
       " Explanation(\"Explanation341: False, Box X only overlaps the top right corner of Box Y.\"),\n",
       " Explanation(\"Explanation342: False, Only the bottom left corner of box X overlaps box Y\"),\n",
       " Explanation(\"Explanation343: False, Box X is taller than Box Y\"),\n",
       " Explanation(\"Explanation344: False, Only the very bottom of box X overlaps box Y\"),\n",
       " Explanation(\"Explanation345: False, Box X only has a small overlap over Box Y.\"),\n",
       " Explanation(\"Explanation345: False, Box X only has a small overlap over Box Y.\"),\n",
       " Explanation(\"Explanation346: False, Box X is to the right of Box Y.\"),\n",
       " Explanation(\"Explanation347: False, The right side of box Y is where the right side of box X is.\"),\n",
       " Explanation(\"Explanation35: True, Box x is positioned and sized proportionately over box y for a person riding a bicycle.\"),\n",
       " Explanation(\"Explanation35: True, Box x is positioned and sized proportionately over box y for a person riding a bicycle.\"),\n",
       " Explanation(\"Explanation350: False, Box Y is way to the right of box X. Box X is not overlapping box Y. Box X only slightly collides with box Y.\"),\n",
       " Explanation(\"Explanation350: False, Box Y is way to the right of box X. Box X is not overlapping box Y. Box X only slightly collides with box Y.\"),\n",
       " Explanation(\"Explanation350: False, Box Y is way to the right of box X. Box X is not overlapping box Y. Box X only slightly collides with box Y.\"),\n",
       " Explanation(\"Explanation350: False, Box Y is way to the right of box X. Box X is not overlapping box Y. Box X only slightly collides with box Y.\"),\n",
       " Explanation(\"Explanation350: False, Box Y is way to the right of box X. Box X is not overlapping box Y. Box X only slightly collides with box Y.\"),\n",
       " Explanation(\"Explanation350: False, Box Y is way to the right of box X. Box X is not overlapping box Y. Box X only slightly collides with box Y.\"),\n",
       " Explanation(\"Explanation350: False, Box Y is way to the right of box X. Box X is not overlapping box Y. Box X only slightly collides with box Y.\"),\n",
       " Explanation(\"Explanation350: False, Box Y is way to the right of box X. Box X is not overlapping box Y. Box X only slightly collides with box Y.\"),\n",
       " Explanation(\"Explanation350: False, Box Y is way to the right of box X. Box X is not overlapping box Y. Box X only slightly collides with box Y.\"),\n",
       " Explanation(\"Explanation350: False, Box Y is way to the right of box X. Box X is not overlapping box Y. Box X only slightly collides with box Y.\"),\n",
       " Explanation(\"Explanation352: False, Box X is much taller and wider than Box Y.\"),\n",
       " Explanation(\"Explanation352: False, Box X is much taller and wider than Box Y.\"),\n",
       " Explanation(\"Explanation355: False, Box X is much wider than Box Y.\"),\n",
       " Explanation(\"Explanation356: False, Box X is maybe twenty times smaller than box Y.\"),\n",
       " Explanation(\"Explanation359: False, Box X is behind Box Y and is not correct.\"),\n",
       " Explanation(\"Explanation36: False, Box X overlaps the top left corner of Box Y.\"),\n",
       " Explanation(\"Explanation36: False, Box X overlaps the top left corner of Box Y.\"),\n",
       " Explanation(\"Explanation360: False, The center of Box X is at the same point as the top left corner of Box Y.\"),\n",
       " Explanation(\"Explanation362: True, The bottom of box X is in the center of box Y\"),\n",
       " Explanation(\"Explanation364: False, The bottom of box Y is higher than the bottom of box X.\"),\n",
       " Explanation(\"Explanation365: False, The top of box X is as high and partly to the left of box Y.\"),\n",
       " Explanation(\"Explanation366: False, Box X is slightly to the left of Box Y.\"),\n",
       " Explanation(\"Explanation38: False, Box X's top edge is half way past box Y's top edge.\"),\n",
       " Explanation(\"Explanation39: False, Box X is to the right of Box Y.\"),\n",
       " Explanation(\"Explanation40: False, Box Y's center is parallel but far to the left of the center of  box X.\"),\n",
       " Explanation(\"Explanation40: False, Box Y's center is parallel but far to the left of the center of  box X.\"),\n",
       " Explanation(\"Explanation40: False, Box Y's center is parallel but far to the left of the center of  box X.\"),\n",
       " Explanation(\"Explanation42: False, box Y goes above box X\"),\n",
       " Explanation(\"Explanation43: False, Box X is much larger than Box Y.\"),\n",
       " Explanation(\"Explanation44: False, Box Y and box X intersect over the top left corner of box X.\"),\n",
       " Explanation(\"Explanation45: False, Box X is much bigger than Box Y.\"),\n",
       " Explanation(\"Explanation46: False, Box x is 15 times bigger than box Y\"),\n",
       " Explanation(\"Explanation48: False, Box X is much taller than Box  Y, and Box Y is almost completely offset from Box X.\"),\n",
       " Explanation(\"Explanation5: True, Box X overlaps Box Y, and they are nearly the same size.\"),\n",
       " Explanation(\"Explanation50: True, Box X is about 50 times bigger than Box Y.\"),\n",
       " Explanation(\"Explanation51: True, Box X is very many times larger than box Y.\"),\n",
       " Explanation(\"Explanation52: False, The bottom edge of Box X is only a tiny bit lower than the top edge of Box Y.\"),\n",
       " Explanation(\"Explanation55: True, Box X includes Box Y\"),\n",
       " Explanation(\"Explanation56: True, Box X mostly overlaps Box Y.\"),\n",
       " Explanation(\"Explanation57: True, Box Y is slimmer than box X\"),\n",
       " Explanation(\"Explanation58: False, Box Y is a tiny fraction of the size of box X\"),\n",
       " Explanation(\"Explanation59: False, Box X is much larger than Box Y.\"),\n",
       " Explanation(\"Explanation6: False, The bottom edge of Box X is very close to the top edge of Box Y.\"),\n",
       " Explanation(\"Explanation60: False, Box x is far too big to single out a rider for box y.\"),\n",
       " Explanation(\"Explanation60: False, Box x is far too big to single out a rider for box y.\"),\n",
       " Explanation(\"Explanation60: False, Box x is far too big to single out a rider for box y.\"),\n",
       " Explanation(\"Explanation61: True, Box X mostly overlaps Box Y.\"),\n",
       " Explanation(\"Explanation62: True, The bottom edge of box Y and the left edge of box Y match the bottom edge and left edges of box X.\"),\n",
       " Explanation(\"Explanation64: False, Box X ends at the left corner of Box Y.\"),\n",
       " Explanation(\"Explanation65: False, Box X is very much smaller than box Y, as well as narrow and half way to the left.\"),\n",
       " Explanation(\"Explanation67: False, The right edge of box Y is along the right edge of box X.\"),\n",
       " Explanation(\"Explanation68: False, Box Y is directly to the right of box X\"),\n",
       " Explanation(\"Explanation69: False, Box X is left of Box Y.\"),\n",
       " Explanation(\"Explanation70: False, Box X only bisects the left half of Box Y.\"),\n",
       " Explanation(\"Explanation70: False, Box X only bisects the left half of Box Y.\"),\n",
       " Explanation(\"Explanation70: False, Box X only bisects the left half of Box Y.\"),\n",
       " Explanation(\"Explanation73: False, Box X is much larger than Box Y.\"),\n",
       " Explanation(\"Explanation74: False, Box Y is at most two times smaller than Box X\"),\n",
       " Explanation(\"Explanation74: False, Box Y is at most two times smaller than Box X\"),\n",
       " Explanation(\"Explanation74: False, Box Y is at most two times smaller than Box X\"),\n",
       " Explanation(\"Explanation75: False, Box Y is entirely enveloped by box X\"),\n",
       " Explanation(\"Explanation76: False, Box x is too far to the left of box y to be riding a bicycle.\"),\n",
       " Explanation(\"Explanation77: False, Box Y is significantly smaller and to the bottom right of Box X\"),\n",
       " Explanation(\"Explanation77: False, Box Y is significantly smaller and to the bottom right of Box X\"),\n",
       " Explanation(\"Explanation78: False, Box X includes several times more things than Box Y\"),\n",
       " Explanation(\"Explanation79: False, Box X is at least 15 times as wide as Box Y.\"),\n",
       " Explanation(\"Explanation80: False, Box X is ten times wider than box Y\"),\n",
       " Explanation(\"Explanation81: False, Box Y is much bigger than box X.\"),\n",
       " Explanation(\"Explanation82: False, The bottom of box X is touching the top of box Y at the top left corner of box Y.\"),\n",
       " Explanation(\"Explanation85: True, The bottom half of box X overlaps the center of box Y.\"),\n",
       " Explanation(\"Explanation86: True, Box X overlaps the center of Box Y.\"),\n",
       " Explanation(\"Explanation87: True, Box Y is half the size of box X\"),\n",
       " Explanation(\"Explanation88: True, Box X is centered over Box Y.\"),\n",
       " Explanation(\"Explanation88: True, Box X is centered over Box Y.\"),\n",
       " Explanation(\"Explanation89: True, Box X is twice as big as Box Y.\"),\n",
       " Explanation(\"Explanation90: True, The center of Box X is near the top edge of Box Y.\"),\n",
       " Explanation(\"Explanation94: False, Box X is smaller than box Y\"),\n",
       " Explanation(\"Explanation95: False, Box X is many times smaller than Box Y.\"),\n",
       " Explanation(\"Explanation96: True, The center of Box X is near the top edge of Box Y.\"),\n",
       " Explanation(\"Explanation98: True, Box X is centered and slightly above Box Y.\")]"
      ]
     },
     "execution_count": 21,
     "metadata": {},
     "output_type": "execute_result"
    }
   ],
   "source": [
    "lfs = babbler.generate_lfs()\n",
    "babbler.get_explanations()"
   ]
  },
  {
   "cell_type": "code",
   "execution_count": 18,
   "metadata": {
    "collapsed": false,
    "deletable": true,
    "editable": true
   },
   "outputs": [
    {
     "name": "stdout",
     "output_type": "stream",
     "text": [
      "Filtered to 83 LFs with duplicate semantics filter (0 filtered).\n"
     ]
    }
   ],
   "source": [
    "babbler.filter_duplicate_semantics()"
   ]
  },
  {
   "cell_type": "code",
   "execution_count": 17,
   "metadata": {
    "collapsed": false,
    "deletable": true,
    "editable": true
   },
   "outputs": [
    {
     "name": "stdout",
     "output_type": "stream",
     "text": [
      "return 1 if call(('.within', ('.box', ('.int', 0))), ('.box', ('.int', 1))) else 0\n",
      "return 1 if call(('.below', ('.box', ('.int', 0))), ('.box', ('.int', 1))) else 0\n",
      "return 1 if call(('.overlaps', ('.box', ('.int', 1))), ('.box', ('.int', 0))) else 0\n",
      "return 1 if call(('.above', ('.box', ('.int', 1))), ('.box', ('.int', 0))) else 0\n",
      "return 1 if call(('.near', ('.box', ('.int', 1))), ('.box', ('.int', 0))) else 0\n",
      "return -1 if call(('.below', ('.box', ('.int', 1))), ('.box', ('.int', 0))) else 0\n",
      "return -1 if call(('.taller', ('.box', ('.int', 1))), ('.box', ('.int', 0))) else 0\n",
      "return -1 if call(('.smaller', ('.box', ('.int', 1))), ('.box', ('.int', 0))) else 0\n",
      "return -1 if call(('.larger', ('.box', ('.int', 0))), ('.box', ('.int', 1))) else 0\n",
      "return -1 if call(('.near', ('.corner', ('.box', ('.int', 1)), ('.string', 'top'), ('.string', 'left'))), ('.edge', ('.box', ('.int', 1)), ('.string', 'bottom'))) else 0\n",
      "return -1 if call(('.near', ('.corner', ('.box', ('.int', 1)), ('.string', 'top'), ('.string', 'left'))), ('.edge', ('.box', ('.int', 0)), ('.string', 'bottom'))) else 0\n",
      "return -1 if call(('.near', ('.corner', ('.box', ('.int', 1)), ('.string', 'top'), ('.string', 'left'))), ('.edge', ('.box', ('.int', 1)), ('.string', 'top'))) else 0\n",
      "return -1 if call(right(('.edge', ('.box', ('.int', 1)), ('.string', 'left'))), ('.edge', ('.box', ('.int', 0)), ('.string', 'bottom'))) else 0\n",
      "return -1 if call(right(('.edge', ('.box', ('.int', 1)), ('.string', 'left'))), ('.edge', ('.box', ('.int', 0)), ('.string', 'right'))) else 0\n",
      "return -1 if call(('.near', ('.edge', ('.box', ('.int', 1)), ('.string', 'bottom'))), ('.edge', ('.box', ('.int', 0)), ('.string', 'bottom'))) else 0\n",
      "return -1 if call(('.far', ('.box', ('.int', 1))), ('.box', ('.int', 0))) else 0\n",
      "return -1 if call(('.larger', ('.box', ('.int', 1))), ('.box', ('.int', 0))) else 0\n",
      "return -1 if call(('.wider', ('.box', ('.int', 1))), ('.box', ('.int', 0))) else 0\n",
      "return -1 if call(('.larger', ('.box', ('.int', 0))), ('.box', ('.int', 0))) else 0\n",
      "return -1 if call(('.near', ('.box', ('.int', 0))), ('.box', ('.int', 0))) else 0\n",
      "return -1 if call(('.near', ('.box', ('.int', 0))), ('.box', ('.int', 1))) else 0\n",
      "return -1 if call(('.smaller', ('.box', ('.int', 0))), ('.box', ('.int', 1))) else 0\n",
      "return -1 if call(right(('.box', ('.int', 1))), ('.box', ('.int', 0))) else 0\n",
      "return -1 if call(right(('.box', ('.int', 1))), ('.box', ('.int', 1))) else 0\n",
      "return -1 if call(('.overlaps', ('.box', ('.int', 1))), ('.box', ('.int', 1))) else 0\n",
      "return -1 if call(('.overlaps', ('.box', ('.int', 1))), ('.box', ('.int', 0))) else 0\n",
      "return -1 if call(('.far', ('.box', ('.int', 0))), ('.box', ('.int', 1))) else 0\n",
      "return -1 if call(left(('.box', ('.int', 0))), ('.box', ('.int', 1))) else 0\n",
      "return -1 if call(left(('.box', ('.int', 1))), ('.box', ('.int', 0))) else 0\n",
      "return -1 if not (True) else 0\n",
      "return -1 if call(('.near', ('.corner', ('.box', ('.int', 1)), ('.string', 'top'), ('.string', 'left'))), ('.center', ('.box', ('.int', 0)))) else 0\n",
      "return 1 if call(('.larger', ('.box', ('.int', 1))), ('.box', ('.int', 0))) else 0\n",
      "return 1 if call(('.near', ('.center', ('.box', ('.int', 1)))), ('.edge', ('.box', ('.int', 0)), ('.string', 'bottom'))) else 0\n",
      "return 1 if call(('.smaller', ('.box', ('.int', 1))), ('.box', ('.int', 0))) else 0\n",
      "return -1 if call(('.within', ('.box', ('.int', 0))), ('.box', ('.int', 1))) else 0\n",
      "return 1 if call(('.skinnier', ('.box', ('.int', 0))), ('.box', ('.int', 1))) else 0\n",
      "return 1 if call(('.smaller', ('.box', ('.int', 0))), ('.box', ('.int', 1))) else 0\n",
      "return -1 if call(left(('.center', ('.box', ('.int', 1)))), ('.edge', ('.box', ('.int', 0)), ('.string', 'right'))) else 0\n",
      "return -1 if call(right(('.box', ('.int', 0))), ('.box', ('.int', 1))) else 0\n",
      "return -1 if call(left(('.edge', ('.box', ('.int', 0)), ('.string', 'right'))), ('.edge', ('.box', ('.int', 1)), ('.string', 'left'))) else 0\n",
      "return -1 if call(('.above', ('.edge', ('.box', ('.int', 1)), ('.string', 'right'))), ('.center', ('.box', ('.int', 0)))) else 0\n",
      "return -1 if call(('.near', ('.box', ('.int', 1))), ('.box', ('.int', 0))) else 0\n",
      "return 1 if call(('.taller', ('.box', ('.int', 1))), ('.box', ('.int', 0))) else 0\n",
      "return 1 if call(('.wider', ('.box', ('.int', 0))), ('.box', ('.int', 1))) else 0\n",
      "return 1 if call(('.near', ('.box', ('.int', 0))), ('.box', ('.int', 1))) else 0\n",
      "return 1 if call(right(('.box', ('.int', 0))), ('.box', ('.int', 1))) else 0\n",
      "return 1 if call(('.near', ('.edge', ('.box', ('.int', 0)), ('.string', 'left'))), ('.edge', ('.box', ('.int', 1)), ('.string', 'left'))) else 0\n",
      "return 1 if call(('.near', ('.edge', ('.box', ('.int', 0)), ('.string', 'right'))), ('.edge', ('.box', ('.int', 1)), ('.string', 'left'))) else 0\n",
      "return 1 if call(left(('.edge', ('.box', ('.int', 0)), ('.string', 'right'))), ('.edge', ('.box', ('.int', 1)), ('.string', 'left'))) else 0\n",
      "return 1 if call(('.near', ('.edge', ('.box', ('.int', 0)), ('.string', 'left'))), ('.edge', ('.box', ('.int', 1)), ('.string', 'right'))) else 0\n",
      "return 1 if call(('.near', ('.edge', ('.box', ('.int', 0)), ('.string', 'right'))), ('.edge', ('.box', ('.int', 1)), ('.string', 'right'))) else 0\n",
      "return 1 if call(left(('.edge', ('.box', ('.int', 0)), ('.string', 'right'))), ('.edge', ('.box', ('.int', 1)), ('.string', 'right'))) else 0\n",
      "return -1 if call(left(('.box', ('.int', 0))), ('.box', ('.int', 0))) else 0\n",
      "return -1 if call(('.within', ('.box', ('.int', 1))), ('.box', ('.int', 0))) else 0\n",
      "return -1 if call(('.within', ('.box', ('.int', 1))), ('.box', ('.int', 1))) else 0\n",
      "return -1 if call(('.above', ('.box', ('.int', 1))), ('.box', ('.int', 0))) else 0\n",
      "return 1 if call(left(('.edge', ('.box', ('.int', 0)), ('.string', 'bottom'))), ('.edge', ('.box', ('.int', 1)), ('.string', 'bottom'))) else 0\n",
      "return 1 if call(left(('.edge', ('.box', ('.int', 0)), ('.string', 'left'))), ('.edge', ('.box', ('.int', 1)), ('.string', 'bottom'))) else 0\n",
      "return 1 if call(('.above', ('.edge', ('.box', ('.int', 1)), ('.string', 'bottom'))), ('.edge', ('.box', ('.int', 0)), ('.string', 'bottom'))) else 0\n",
      "return -1 if call(('.shorter', ('.box', ('.int', 0))), ('.box', ('.int', 1))) else 0\n",
      "return 1 if call(('.near', ('.edge', ('.box', ('.int', 1)), ('.string', 'top'))), ('.center', ('.box', ('.int', 0)))) else 0\n",
      "return 1 if call(('.near', ('.edge', ('.box', ('.int', 0)), ('.string', 'bottom'))), ('.edge', ('.box', ('.int', 1)), ('.string', 'bottom'))) else 0\n",
      "return 1 if call(('.taller', ('.box', ('.int', 0))), ('.box', ('.int', 0))) else 0\n",
      "return -1 if call(('.near', ('.box', ('.int', 1))), ('.box', ('.int', 1))) else 0\n",
      "return 1 if call(('.near', ('.center', ('.box', ('.int', 1)))), ('.center', ('.box', ('.int', 0)))) else 0\n",
      "return -1 if call(('.surrounds', ('.box', ('.int', 1))), ('.box', ('.int', 0))) else 0\n",
      "return -1 if call(left(('.box', ('.int', 0))), ('.edge', ('.box', ('.int', 1)), ('.string', 'right'))) else 0\n",
      "return -1 if call(right(('.box', ('.int', 0))), ('.edge', ('.box', ('.int', 1)), ('.string', 'right'))) else 0\n",
      "return -1 if call(right(('.box', ('.int', 1))), ('.edge', ('.box', ('.int', 0)), ('.string', 'left'))) else 0\n",
      "return -1 if call(('.above', ('.edge', ('.box', ('.int', 0)), ('.string', 'bottom'))), ('.edge', ('.box', ('.int', 1)), ('.string', 'bottom'))) else 0\n",
      "return 1 if call(('.above', ('.box', ('.int', 1))), ('.box', ('.int', 1))) else 0\n",
      "return -1 if call(('.below', ('.edge', ('.box', ('.int', 1)), ('.string', 'bottom'))), ('.edge', ('.box', ('.int', 0)), ('.string', 'bottom'))) else 0\n",
      "return -1 if call(('.above', ('.box', ('.int', 0))), ('.box', ('.int', 1))) else 0\n",
      "return 1 if call(('.within', ('.box', ('.int', 1))), ('.box', ('.int', 0))) else 0\n",
      "return 1 if call(('.smaller', ('.box', ('.int', 1))), ('.box', ('.int', 1))) else 0\n",
      "return -1 if call(('.below', ('.edge', ('.box', ('.int', 1)), ('.string', 'top'))), ('.edge', ('.box', ('.int', 0)), ('.string', 'bottom'))) else 0\n",
      "return 1 if call(('.surrounds', ('.box', ('.int', 1))), ('.box', ('.int', 0))) else 0\n",
      "return -1 if call(left(('.box', ('.int', 1))), ('.edge', ('.box', ('.int', 0)), ('.string', 'top'))) else 0\n",
      "return 1 if call(('.larger', ('.box', ('.int', 0))), ('.box', ('.int', 1))) else 0\n",
      "return -1 if call(('.near', ('.edge', ('.box', ('.int', 1)), ('.string', 'top'))), ('.edge', ('.box', ('.int', 0)), ('.string', 'bottom'))) else 0\n",
      "return 1 if call(('.below', ('.edge', ('.box', ('.int', 0)), ('.string', 'bottom'))), ('.edge', ('.box', ('.int', 1)), ('.string', 'bottom'))) else 0\n",
      "return 1 if call(('.near', ('.box', ('.int', 0))), ('.box', ('.int', 0))) else 0\n",
      "return -1 if call(('.below', ('.box', ('.int', 1))), ('.edge', ('.box', ('.int', 1)), ('.string', 'right'))) else 0\n"
     ]
    }
   ],
   "source": [
    "from snorkel.contrib.babble import sem_to_str\n",
    "\n",
    "for parse in babbler.parses:\n",
    "    print(sem_to_str(parse.semantics))"
   ]
  },
  {
   "cell_type": "code",
   "execution_count": null,
   "metadata": {
    "collapsed": true,
    "deletable": true,
    "editable": true
   },
   "outputs": [],
   "source": []
  }
 ],
 "metadata": {
  "kernelspec": {
   "display_name": "Python 2",
   "language": "python",
   "name": "python2"
  },
  "language_info": {
   "codemirror_mode": {
    "name": "ipython",
    "version": 2
   },
   "file_extension": ".py",
   "mimetype": "text/x-python",
   "name": "python",
   "nbconvert_exporter": "python",
   "pygments_lexer": "ipython2",
   "version": "2.7.6"
  }
 },
 "nbformat": 4,
 "nbformat_minor": 2
}
