{
 "cells": [
  {
   "cell_type": "markdown",
   "metadata": {},
   "source": [
    "## Part V: Training a Model with Data Programming"
   ]
  },
  {
   "cell_type": "code",
   "execution_count": 1,
   "metadata": {
    "collapsed": false
   },
   "outputs": [],
   "source": [
    "# If necessary:\n",
    "import os\n",
    "os.remove('snorkel.db');\n",
    "os.system('cp snorkel.db\\ features snorkel.db');"
   ]
  },
  {
   "cell_type": "code",
   "execution_count": 2,
   "metadata": {
    "collapsed": false
   },
   "outputs": [
    {
     "name": "stdout",
     "output_type": "stream",
     "text": [
      "The autoreload extension is already loaded. To reload it, use:\n",
      "  %reload_ext autoreload\n"
     ]
    }
   ],
   "source": [
    "%load_ext autoreload\n",
    "%autoreload 2\n",
    "\n",
    "from snorkel import SnorkelSession\n",
    "session = SnorkelSession()"
   ]
  },
  {
   "cell_type": "code",
   "execution_count": 3,
   "metadata": {
    "collapsed": false
   },
   "outputs": [],
   "source": [
    "from snorkel.models import candidate_subclass\n",
    "\n",
    "Part_Temp = candidate_subclass('Part_Temp', ['part','temp'])"
   ]
  },
  {
   "cell_type": "markdown",
   "metadata": {},
   "source": [
    "### Loading the `CandidateSet`, feature matrix, and label matrix"
   ]
  },
  {
   "cell_type": "code",
   "execution_count": 4,
   "metadata": {
    "collapsed": false
   },
   "outputs": [],
   "source": [
    "from snorkel.models import CandidateSet\n",
    "train = session.query(CandidateSet).filter(\n",
    "    CandidateSet.name == 'Hardware Training Candidates').one()"
   ]
  },
  {
   "cell_type": "code",
   "execution_count": 5,
   "metadata": {
    "collapsed": false
   },
   "outputs": [
    {
     "name": "stdout",
     "output_type": "stream",
     "text": [
      "CPU times: user 2min 40s, sys: 13.1 s, total: 2min 53s\n",
      "Wall time: 3min\n"
     ]
    }
   ],
   "source": [
    "from snorkel.annotations import FeatureManager\n",
    "\n",
    "feature_manager = FeatureManager()\n",
    "\n",
    "%time F_train = feature_manager.load(session, train, 'Train Features')"
   ]
  },
  {
   "cell_type": "code",
   "execution_count": 6,
   "metadata": {
    "collapsed": false
   },
   "outputs": [
    {
     "name": "stdout",
     "output_type": "stream",
     "text": [
      "CPU times: user 3.19 s, sys: 722 ms, total: 3.91 s\n",
      "Wall time: 4.09 s\n"
     ]
    }
   ],
   "source": [
    "from snorkel.annotations import LabelManager\n",
    "\n",
    "label_manager = LabelManager()\n",
    "\n",
    "%time L_train = label_manager.load(session, train, 'LF Labels')"
   ]
  },
  {
   "cell_type": "markdown",
   "metadata": {},
   "source": [
    "## Train Generative Model"
   ]
  },
  {
   "cell_type": "code",
   "execution_count": 7,
   "metadata": {
    "collapsed": false
   },
   "outputs": [
    {
     "name": "stdout",
     "output_type": "stream",
     "text": [
      "================================================================================\n",
      "Training marginals (!= 0.5):\t75908\n",
      "Features:\t\t\t18\n",
      "================================================================================\n",
      "Begin training for rate=0.01, mu=1e-06\n",
      "\tLearning epoch = 0\tGradient mag. = 0.368645\n",
      "\tLearning epoch = 250\tGradient mag. = 0.491158\n",
      "\tLearning epoch = 500\tGradient mag. = 0.618887\n",
      "\tLearning epoch = 750\tGradient mag. = 0.751792\n",
      "\tLearning epoch = 1000\tGradient mag. = 0.831461\n",
      "\tLearning epoch = 1250\tGradient mag. = 0.741360\n",
      "\tLearning epoch = 1500\tGradient mag. = 0.626068\n",
      "\tLearning epoch = 1750\tGradient mag. = 0.538426\n",
      "\tLearning epoch = 2000\tGradient mag. = 0.473630\n",
      "\tLearning epoch = 2250\tGradient mag. = 0.422921\n",
      "\tLearning epoch = 2500\tGradient mag. = 0.381266\n",
      "\tLearning epoch = 2750\tGradient mag. = 0.346783\n",
      "\tLearning epoch = 3000\tGradient mag. = 0.319224\n",
      "\tLearning epoch = 3250\tGradient mag. = 0.298483\n",
      "\tLearning epoch = 3500\tGradient mag. = 0.283973\n",
      "\tLearning epoch = 3750\tGradient mag. = 0.265775\n",
      "\tLearning epoch = 4000\tGradient mag. = 0.244649\n",
      "\tLearning epoch = 4250\tGradient mag. = 0.226658\n",
      "\tLearning epoch = 4500\tGradient mag. = 0.211249\n",
      "\tLearning epoch = 4750\tGradient mag. = 0.197980\n",
      "\tLearning epoch = 5000\tGradient mag. = 0.186508\n",
      "\tLearning epoch = 5250\tGradient mag. = 0.176563\n",
      "\tLearning epoch = 5500\tGradient mag. = 0.167927\n",
      "\tLearning epoch = 5750\tGradient mag. = 0.160423\n",
      "\tLearning epoch = 6000\tGradient mag. = 0.153902\n",
      "\tLearning epoch = 6250\tGradient mag. = 0.148237\n",
      "\tLearning epoch = 6500\tGradient mag. = 0.143318\n",
      "\tLearning epoch = 6750\tGradient mag. = 0.139047\n",
      "\tLearning epoch = 7000\tGradient mag. = 0.135341\n",
      "\tLearning epoch = 7250\tGradient mag. = 0.124120\n",
      "\tLearning epoch = 7500\tGradient mag. = 0.113050\n",
      "\tLearning epoch = 7750\tGradient mag. = 0.103217\n",
      "\tLearning epoch = 8000\tGradient mag. = 0.094486\n",
      "\tLearning epoch = 8250\tGradient mag. = 0.086736\n",
      "\tLearning epoch = 8500\tGradient mag. = 0.079861\n",
      "\tLearning epoch = 8750\tGradient mag. = 0.073763\n",
      "\tLearning epoch = 9000\tGradient mag. = 0.068355\n",
      "\tLearning epoch = 9250\tGradient mag. = 0.063560\n",
      "\tLearning epoch = 9500\tGradient mag. = 0.059306\n",
      "\tLearning epoch = 9750\tGradient mag. = 0.055530\n",
      "\tLearning epoch = 10000\tGradient mag. = 0.052176\n",
      "\tLearning epoch = 10250\tGradient mag. = 0.049192\n",
      "\tLearning epoch = 10500\tGradient mag. = 0.046534\n",
      "\tLearning epoch = 10750\tGradient mag. = 0.044160\n",
      "\tLearning epoch = 11000\tGradient mag. = 0.042035\n",
      "\tLearning epoch = 11250\tGradient mag. = 0.040127\n",
      "\tLearning epoch = 11500\tGradient mag. = 0.038408\n",
      "\tLearning epoch = 11750\tGradient mag. = 0.036854\n",
      "\tLearning epoch = 12000\tGradient mag. = 0.035442\n",
      "\tLearning epoch = 12250\tGradient mag. = 0.034153\n",
      "\tLearning epoch = 12500\tGradient mag. = 0.032973\n",
      "\tLearning epoch = 12750\tGradient mag. = 0.031886\n",
      "\tLearning epoch = 13000\tGradient mag. = 0.030881\n",
      "\tLearning epoch = 13250\tGradient mag. = 0.029946\n",
      "\tLearning epoch = 13500\tGradient mag. = 0.029073\n",
      "\tLearning epoch = 13750\tGradient mag. = 0.028255\n",
      "\tLearning epoch = 14000\tGradient mag. = 0.027483\n",
      "\tLearning epoch = 14250\tGradient mag. = 0.026754\n",
      "\tLearning epoch = 14500\tGradient mag. = 0.026060\n",
      "\tLearning epoch = 14750\tGradient mag. = 0.025399\n",
      "Final gradient magnitude for rate=0.01, mu=1e-06: 0.025\n"
     ]
    }
   ],
   "source": [
    "from snorkel.learning import NaiveBayes\n",
    "\n",
    "gen_model = NaiveBayes()\n",
    "# gen_model.train(L_train, n_iter=3000, rate=1e-5)\n",
    "gen_model.train(L_train, n_iter=15000, rate=1e-2)"
   ]
  },
  {
   "cell_type": "code",
   "execution_count": 8,
   "metadata": {
    "collapsed": false
   },
   "outputs": [],
   "source": [
    "gen_model.save(session, 'Generative Params')"
   ]
  },
  {
   "cell_type": "code",
   "execution_count": 9,
   "metadata": {
    "collapsed": true
   },
   "outputs": [],
   "source": [
    "train_marginals = gen_model.marginals(L_train)"
   ]
  },
  {
   "cell_type": "markdown",
   "metadata": {},
   "source": [
    "## Train Discriminative Model"
   ]
  },
  {
   "cell_type": "code",
   "execution_count": 10,
   "metadata": {
    "collapsed": false
   },
   "outputs": [
    {
     "name": "stdout",
     "output_type": "stream",
     "text": [
      "================================================================================\n",
      "Training marginals (!= 0.5):\t59699\n",
      "Features:\t\t\t19168\n",
      "================================================================================\n",
      "Using gradient descent...\n",
      "\tLearning epoch = 0\tStep size = 0.001\n",
      "\tLoss = 41380.193532\tGradient magnitude = 70993.801698\n",
      "\tLearning epoch = 100\tStep size = 0.000904792147114\n",
      "\tLoss = 39612.814287\tGradient magnitude = 5381.482894\n",
      "\tLearning epoch = 200\tStep size = 0.000818648829479\n",
      "\tLoss = 212963.945946\tGradient magnitude = 15710.857944\n",
      "\tLearning epoch = 300\tStep size = 0.000740707032156\n",
      "\tLoss = 77940.491218\tGradient magnitude = 2496.459661\n",
      "\tLearning epoch = 400\tStep size = 0.000670185906007\n",
      "\tLoss = 25706.122873\tGradient magnitude = 2301.106650\n",
      "\tLearning epoch = 500\tStep size = 0.000606378944861\n",
      "\tLoss = 29477.333460\tGradient magnitude = 2304.353107\n",
      "\tLearning epoch = 600\tStep size = 0.000548646907485\n",
      "\tLoss = 51481.179098\tGradient magnitude = 2369.000257\n",
      "\tLearning epoch = 700\tStep size = 0.000496411413431\n",
      "\tLoss = 16233.732067\tGradient magnitude = 2134.240654\n",
      "\tLearning epoch = 800\tStep size = 0.00044914914861\n",
      "\tLoss = 14999.072146\tGradient magnitude = 2182.593525\n",
      "\tLearning epoch = 900\tStep size = 0.000406386622545\n",
      "\tLoss = 10017.244270\tGradient magnitude = 2076.409789\n",
      "\tLearning epoch = 1000\tStep size = 0.000367695424771\n",
      "\tLoss = 20965.818898\tGradient magnitude = 2307.053063\n",
      "\tLearning epoch = 1100\tStep size = 0.000332687932862\n",
      "\tLoss = 33906.917618\tGradient magnitude = 13430.972087\n",
      "\tLearning epoch = 1200\tStep size = 0.000301013429093\n",
      "\tLoss = 8346.701470\tGradient magnitude = 10103.467961\n",
      "\tLearning epoch = 1300\tStep size = 0.000272354586819\n",
      "\tLoss = 12277.009020\tGradient magnitude = 2299.345956\n",
      "\tLearning epoch = 1400\tStep size = 0.000246424291385\n",
      "\tLoss = 56114.811456\tGradient magnitude = 14727.353825\n",
      "\tLearning epoch = 1500\tStep size = 0.000222962763703\n",
      "\tLoss = 9195.555952\tGradient magnitude = 2261.219094\n",
      "\tLearning epoch = 1600\tStep size = 0.000201734957697\n",
      "\tLoss = 4568.459984\tGradient magnitude = 1502.319503\n",
      "\tLearning epoch = 1700\tStep size = 0.000182528205523\n",
      "\tLoss = 4968.896663\tGradient magnitude = 1974.687397\n",
      "\tLearning epoch = 1800\tStep size = 0.000165150086984\n",
      "\tLoss = 6499.633116\tGradient magnitude = 10148.016605\n",
      "\tLearning epoch = 1900\tStep size = 0.000149426501798\n",
      "\tLoss = 6190.877569\tGradient magnitude = 14055.151332\n",
      "\tLearning epoch = 2000\tStep size = 0.000135199925397\n",
      "\tLoss = 3375.799191\tGradient magnitude = 804.671188\n",
      "\tLearning epoch = 2100\tStep size = 0.00012232783079\n",
      "\tLoss = 3245.872256\tGradient magnitude = 134.329859\n",
      "\tLearning epoch = 2200\tStep size = 0.000110681260672\n",
      "\tLoss = 3378.452411\tGradient magnitude = 2406.773853\n",
      "\tLearning epoch = 2300\tStep size = 0.000100143535489\n",
      "\tLoss = 3227.571010\tGradient magnitude = 1568.024013\n",
      "\tLearning epoch = 2400\tStep size = 9.06090844946e-05\n",
      "\tLoss = 3139.552496\tGradient magnitude = 696.267549\n",
      "\tLearning epoch = 2500\tStep size = 8.19823881078e-05\n",
      "\tLoss = 3102.400277\tGradient magnitude = 54.428686\n",
      "\tLearning epoch = 2600\tStep size = 7.41770209616e-05\n",
      "\tLoss = 3079.863387\tGradient magnitude = 53.108014\n",
      "\tLearning epoch = 2700\tStep size = 6.71147860624e-05\n",
      "\tLoss = 3060.364221\tGradient magnitude = 52.052635\n",
      "\tLearning epoch = 2800\tStep size = 6.07249313844e-05\n",
      "\tLoss = 3043.345641\tGradient magnitude = 51.231111\n",
      "\tLearning epoch = 2900\tStep size = 5.49434410507e-05\n",
      "\tLoss = 3028.376614\tGradient magnitude = 50.599811\n",
      "\tLearning epoch = 3000\tStep size = 4.9712393998e-05\n",
      "\tLoss = 3015.127862\tGradient magnitude = 50.111604\n",
      "\tLearning epoch = 3100\tStep size = 4.49793837036e-05\n",
      "\tLoss = 3003.347168\tGradient magnitude = 49.723496\n",
      "\tLearning epoch = 3200\tStep size = 4.06969931571e-05\n",
      "\tLoss = 2992.839504\tGradient magnitude = 49.394191\n",
      "\tLearning epoch = 3300\tStep size = 3.68223198197e-05\n",
      "\tLoss = 2983.454690\tGradient magnitude = 49.073477\n",
      "\tLearning epoch = 3400\tStep size = 3.33165458113e-05\n",
      "\tLoss = 2975.082151\tGradient magnitude = 48.685831\n",
      "\tLearning epoch = 3500\tStep size = 3.01445490191e-05\n",
      "\tLoss = 2967.650509\tGradient magnitude = 48.112705\n",
      "\tLearning epoch = 3600\tStep size = 2.72745512307e-05\n",
      "\tLoss = 2961.127516\tGradient magnitude = 47.186542\n",
      "\tLearning epoch = 3700\tStep size = 2.46777997696e-05\n",
      "\tLoss = 2955.512566\tGradient magnitude = 45.721128\n",
      "\tLearning epoch = 3800\tStep size = 2.23282794396e-05\n",
      "\tLoss = 2950.813743\tGradient magnitude = 43.596772\n",
      "\tLearning epoch = 3900\tStep size = 2.02024518955e-05\n",
      "\tLoss = 2947.011753\tGradient magnitude = 40.865383\n",
      "\tLearning epoch = 4000\tStep size = 1.82790198275e-05\n",
      "\tLoss = 2944.031734\tGradient magnitude = 37.776578\n",
      "\tLearning epoch = 4100\tStep size = 1.65387135968e-05\n",
      "\tLoss = 2941.746180\tGradient magnitude = 34.672324\n",
      "\tLearning epoch = 4200\tStep size = 1.49640981858e-05\n",
      "\tLoss = 2940.005463\tGradient magnitude = 31.837176\n",
      "\tLearning epoch = 4300\tStep size = 1.35393985271e-05\n",
      "\tLoss = 2938.670456\tGradient magnitude = 29.421586\n",
      "\tLearning epoch = 4400\tStep size = 1.2250341464e-05\n",
      "\tLoss = 2937.629646\tGradient magnitude = 27.454694\n"
     ]
    }
   ],
   "source": [
    "from snorkel.learning import LogReg\n",
    "\n",
    "disc_model = LogReg()\n",
    "disc_model.train(F_train, train_marginals, n_iter=4500, rate=1e-3)"
   ]
  },
  {
   "cell_type": "code",
   "execution_count": 11,
   "metadata": {
    "collapsed": false
   },
   "outputs": [
    {
     "data": {
      "text/plain": [
       "(19168,)"
      ]
     },
     "execution_count": 11,
     "metadata": {},
     "output_type": "execute_result"
    }
   ],
   "source": [
    "disc_model.w.shape"
   ]
  },
  {
   "cell_type": "code",
   "execution_count": 12,
   "metadata": {
    "collapsed": false
   },
   "outputs": [
    {
     "name": "stdout",
     "output_type": "stream",
     "text": [
      "CPU times: user 3.96 s, sys: 98.3 ms, total: 4.05 s\n",
      "Wall time: 4.08 s\n"
     ]
    }
   ],
   "source": [
    "%time disc_model.save(session, \"Discriminative Params\")"
   ]
  },
  {
   "cell_type": "markdown",
   "metadata": {},
   "source": [
    "## Assess Performance on Development Set"
   ]
  },
  {
   "cell_type": "code",
   "execution_count": 13,
   "metadata": {
    "collapsed": false
   },
   "outputs": [],
   "source": [
    "from snorkel.models import CandidateSet\n",
    "dev = session.query(CandidateSet).filter(\n",
    "    CandidateSet.name == 'Hardware Development Candidates').one()"
   ]
  },
  {
   "cell_type": "markdown",
   "metadata": {},
   "source": [
    "### Loading the Development Feature Matrix"
   ]
  },
  {
   "cell_type": "code",
   "execution_count": 14,
   "metadata": {
    "collapsed": false
   },
   "outputs": [
    {
     "name": "stdout",
     "output_type": "stream",
     "text": [
      "CPU times: user 1min 34s, sys: 7.06 s, total: 1min 41s\n",
      "Wall time: 1min 43s\n"
     ]
    }
   ],
   "source": [
    "from snorkel.annotations import FeatureManager\n",
    "\n",
    "feature_manager = FeatureManager()\n",
    "%time F_dev = feature_manager.load(session, dev, 'Train Features')"
   ]
  },
  {
   "cell_type": "code",
   "execution_count": 15,
   "metadata": {
    "collapsed": false
   },
   "outputs": [],
   "source": [
    "train_gold = session.query(CandidateSet).filter(\n",
    "    CandidateSet.name == 'Hardware Training Candidates -- Gold').one()"
   ]
  },
  {
   "cell_type": "code",
   "execution_count": 16,
   "metadata": {
    "collapsed": false
   },
   "outputs": [],
   "source": [
    "# from snorkel.loaders import create_or_fetch\n",
    "# from snorkel.models import Label, AnnotationKeySet\n",
    "# annotation_key_name = \"Hardware Development Labels - Gold\"\n",
    "# annotation_key = create_or_fetch(session, AnnotationKey, annotation_key_name)\n",
    "# session.query(Label).filter(Label.key == annotation_key).count()"
   ]
  },
  {
   "cell_type": "code",
   "execution_count": 17,
   "metadata": {
    "collapsed": false,
    "scrolled": true
   },
   "outputs": [],
   "source": [
    "from snorkel.models import CandidateSet\n",
    "from snorkel.annotations import LabelManager\n",
    "label_manager = LabelManager()\n",
    "# from snorkel.utils import get_ORM_instance\n",
    "# dev_labels = get_ORM_instance(AnnotationKeySet, session, 'Hardware Development Labels - Gold')\n",
    "L_dev = label_manager.load(session, dev, 'Hardware Development Labels -- Gold')"
   ]
  },
  {
   "cell_type": "code",
   "execution_count": 18,
   "metadata": {
    "collapsed": false
   },
   "outputs": [],
   "source": [
    "gold_dev_set = session.query(CandidateSet).filter(\n",
    "    CandidateSet.name == 'Hardware Development Candidates -- Gold').one()"
   ]
  },
  {
   "cell_type": "code",
   "execution_count": 19,
   "metadata": {
    "collapsed": false
   },
   "outputs": [
    {
     "data": {
      "text/plain": [
       "(18971, 19168)"
      ]
     },
     "execution_count": 19,
     "metadata": {},
     "output_type": "execute_result"
    }
   ],
   "source": [
    "F_dev.shape"
   ]
  },
  {
   "cell_type": "code",
   "execution_count": 20,
   "metadata": {
    "collapsed": false,
    "scrolled": true
   },
   "outputs": [
    {
     "name": "stdout",
     "output_type": "stream",
     "text": [
      "Calibration plot:\n",
      "========================================\n",
      "Recall-corrected Noise-aware Model\n",
      "========================================\n",
      "Pos. class accuracy: 0.654894046418\n",
      "Neg. class accuracy: 0.719236287385\n",
      "Corpus Precision 0.718\n",
      "Corpus Recall    0.655\n",
      "Corpus F1        0.685\n",
      "----------------------------------------\n",
      "TP: 6490 | FP: 2544 | TN: 6517 | FN: 3420\n",
      "========================================\n",
      "\n",
      "========================================\n",
      "Recall-corrected Noise-aware Model\n",
      "========================================\n",
      "Pos. class accuracy: 0.654894046418\n",
      "Neg. class accuracy: 0.719236287385\n",
      "Corpus Precision 0.718\n",
      "Corpus Recall    0.655\n",
      "Corpus F1        0.685\n",
      "----------------------------------------\n",
      "TP: 6490 | FP: 2544 | TN: 6517 | FN: 3420\n",
      "========================================\n",
      "\n"
     ]
    },
    {
     "name": "stderr",
     "output_type": "stream",
     "text": [
      "/Users/bradenhancock/anaconda/lib/python2.7/site-packages/numpy/core/_methods.py:59: RuntimeWarning: Mean of empty slice.\n",
      "  warnings.warn(\"Mean of empty slice.\", RuntimeWarning)\n"
     ]
    }
   ],
   "source": [
    "tp, fp, tn, fn = disc_model.score(F_dev, L_dev, gold_dev_set)"
   ]
  },
  {
   "cell_type": "code",
   "execution_count": 21,
   "metadata": {
    "collapsed": false
   },
   "outputs": [],
   "source": [
    "from hardware_utils import part_error_analysis, table_info\n",
    "#     print c[0]\n",
    "#     print c[0].parent\n",
    "#     print (c[0].parent.row_num, c[0].parent.col_num)\n",
    "#     print c[1]\n",
    "#     print c[1].parent\n",
    "#     print (c[1].parent.row_num, c[1].parent.col_num)"
   ]
  },
  {
   "cell_type": "code",
   "execution_count": 22,
   "metadata": {
    "collapsed": false
   },
   "outputs": [],
   "source": [
    "# for c in list(fp)[:5]:\n",
    "#     print c\n",
    "# c = list(fp)[10]\n",
    "# error_analysis(c)\n",
    "# c = list(fp)[10]\n",
    "# part_error_analysis(c)\n",
    "# print c.temp.parent.row_num\n",
    "\n",
    "# for c in list(fp)[:5]:\n",
    "#     print c\n",
    "# print c.temp.parent.html_anc_tags"
   ]
  },
  {
   "cell_type": "code",
   "execution_count": 23,
   "metadata": {
    "collapsed": false
   },
   "outputs": [
    {
     "name": "stdout",
     "output_type": "stream",
     "text": [
      "========================================\n",
      "Scoring on Entity-Level Gold Data\n",
      "========================================\n",
      "Corpus Precision 0.822\n",
      "Corpus Recall    1.0\n",
      "Corpus F1        0.902\n",
      "----------------------------------------\n",
      "TP: 152 | FP: 33 | FN: 0\n",
      "========================================\n",
      "\n"
     ]
    }
   ],
   "source": [
    "from snorkel.models import Corpus\n",
    "from hardware_utils import entity_level_f1\n",
    "import os\n",
    "\n",
    "gold_file = os.environ['SNORKELHOME'] + '/tutorials/tables/data/hardware/hardware_gold.csv'\n",
    "corpus = session.query(Corpus).filter(Corpus.name == 'Hardware Development').one()\n",
    "(TP, FP, FN) = entity_level_f1(tp, fp, tn, fn, gold_file, corpus, 'stg_temp_min')"
   ]
  },
  {
   "cell_type": "code",
   "execution_count": 24,
   "metadata": {
    "collapsed": false
   },
   "outputs": [
    {
     "name": "stdout",
     "output_type": "stream",
     "text": [
      "set([])\n"
     ]
    }
   ],
   "source": [
    "print FN"
   ]
  },
  {
   "cell_type": "code",
   "execution_count": 25,
   "metadata": {
    "collapsed": false
   },
   "outputs": [
    {
     "name": "stdout",
     "output_type": "stream",
     "text": [
      "set([(u'ONSMS04099-1', u'BC237', u'-65'),\n",
      "     (u'ONSMS04099-1', u'BC237A', u'-65'),\n",
      "     (u'ONSMS04099-1', u'BC237B', u'-65'),\n",
      "     (u'ONSMS04099-1', u'BC237C', u'-65'),\n",
      "     (u'ONSMS04099-1', u'BC238', u'-65'),\n",
      "     (u'ONSMS04099-1', u'BC238B', u'-65'),\n",
      "     (u'ONSMS04099-1', u'BC238C', u'-65'),\n",
      "     (u'ONSMS04099-1', u'BC239', u'-65'),\n",
      "     (u'ONSMS04099-1', u'BC239C', u'-65'),\n",
      "     (u'PHGLS19500-1', u'MMBT3904', u'-55'),\n",
      "     (u'PNJIS01593-1', u'BC856', u'-65'),\n",
      "     (u'PNJIS01593-1', u'BC856A', u'-65'),\n",
      "     (u'PNJIS01593-1', u'BC856B', u'-65'),\n",
      "     (u'PNJIS01593-1', u'BC857', u'-65'),\n",
      "     (u'PNJIS01593-1', u'BC857A', u'-65'),\n",
      "     (u'PNJIS01593-1', u'BC857B', u'-65'),\n",
      "     (u'PNJIS01593-1', u'BC857C', u'-65'),\n",
      "     (u'PNJIS01593-1', u'BC858', u'-65'),\n",
      "     (u'PNJIS01593-1', u'BC858A', u'-65'),\n",
      "     (u'PNJIS01593-1', u'BC858B', u'-65'),\n",
      "     (u'PNJIS01593-1', u'BC858C', u'-65'),\n",
      "     (u'PNJIS01593-1', u'BC859', u'-65'),\n",
      "     (u'PNJIS01593-1', u'BC859B', u'-65'),\n",
      "     (u'PNJIS01593-1', u'BC859C', u'-65'),\n",
      "     (u'RECTS01158-1', u'BC807-25', u'-50'),\n",
      "     (u'VSMIS03793-1', u'BC817', u'-50'),\n",
      "     (u'VSMIS03793-1', u'BC817-16', u'-50'),\n",
      "     (u'VSMIS03793-1', u'BC817-25', u'-50'),\n",
      "     (u'VSMIS03793-1', u'BC817-40', u'-50'),\n",
      "     (u'VSMIS03793-1', u'BC818', u'-50'),\n",
      "     (u'VSMIS03793-1', u'BC818-16', u'-50'),\n",
      "     (u'VSMIS03793-1', u'BC818-25', u'-50'),\n",
      "     (u'VSMIS03793-1', u'BC818-40', u'-50')])\n"
     ]
    }
   ],
   "source": [
    "from pprint import pprint\n",
    "pprint(FP)"
   ]
  },
  {
   "cell_type": "code",
   "execution_count": 26,
   "metadata": {
    "collapsed": true
   },
   "outputs": [],
   "source": [
    "import os\n",
    "os.system('cp snorkel.db snorkel.db\\ final');"
   ]
  },
  {
   "cell_type": "code",
   "execution_count": 27,
   "metadata": {
    "collapsed": false
   },
   "outputs": [],
   "source": [
    "from pprint import pprint\n",
    "all_weights = disc_model.get_feature_weights(F_train)"
   ]
  },
  {
   "cell_type": "code",
   "execution_count": 28,
   "metadata": {
    "collapsed": false
   },
   "outputs": [
    {
     "name": "stdout",
     "output_type": "stream",
     "text": [
      "[(AnnotationKey (TAB_e2_ROW_LEMMAS_[storage]), 27.779176006753143),\n",
      " (AnnotationKey (TAB_e2_ROW_LEMMAS_[storage temperature]), 23.197103524491123),\n",
      " (AnnotationKey (TAB_e2_ROW_LEMMAS_[stg]), 20.535407429044525),\n",
      " (AnnotationKey (TAB_e2_ROW_LEMMAS_[t stg]), 20.53249686118379),\n",
      " (AnnotationKey (TAB_e2_ROW_LEMMAS_[temperature]), 18.980118208578798),\n",
      " (AnnotationKey (TAB_e2_ROW_LEMMAS_[t]), 18.173587020149323),\n",
      " (AnnotationKey (TAB_e2_COL_LEMMAS_[80]), 10.401075548903389),\n",
      " (AnnotationKey (TAB_e2_COL_LEMMAS_[100]), 10.368437239665312),\n",
      " (AnnotationKey (TAB_e2_ROW_LEMMAS_[range]), 10.30837547022631),\n",
      " (AnnotationKey (TAB_e2_ROW_LEMMAS_[temperature range]), 10.30837547022631),\n",
      " (AnnotationKey (TAB_e2_COL_LEMMAS_[150]), 10.043978795889958),\n",
      " (AnnotationKey (TAB_e2_COL_LEMMAS_[65]), 8.884559575925453),\n",
      " (AnnotationKey (TAB_e2_COL_NUM_[2]), 8.828013609235567),\n",
      " (AnnotationKey (TAB_e2_W_LEFT_POS_3_[CD TO CD]), 8.62074540597933),\n",
      " (AnnotationKey (TAB_e2_W_LEFT_POS_2_[TO CD]), 8.62074540597933),\n",
      " (AnnotationKey (TAB_e2_W_LEFT_2_[to _NUMBER]), 8.62074540597933),\n",
      " (AnnotationKey (TAB_e2_W_LEFT_3_[_NUMBER to _NUMBER]), 8.62074540597933),\n",
      " (AnnotationKey (TAB_e2_W_RIGHT_1_[to]), 7.3598621859595745),\n",
      " (AnnotationKey (TAB_e2_W_RIGHT_POS_1_[TO]), 7.3598621859595745),\n",
      " (AnnotationKey (TAB_e2_W_RIGHT_2_[to _NUMBER]), 7.3598621859595745),\n",
      " (AnnotationKey (TAB_e2_W_LEMMA_L_1_R_1_[_NUMBER]_[to]), 7.3598621859595745),\n",
      " (AnnotationKey (TAB_e2_W_LEMMA_L_1_R_2_[_NUMBER]_[to _NUMBER]),\n",
      "  7.3598621859595745),\n",
      " (AnnotationKey (TAB_e2_W_POS_L_1_R_2_[CD]_[TO CD]), 7.3598621859595745),\n",
      " (AnnotationKey (TAB_e2_W_LEMMA_L_2_R_1_[to _NUMBER]_[to]),\n",
      "  7.3598621859595745),\n",
      " (AnnotationKey (TAB_e2_W_LEMMA_L_2_R_2_[to _NUMBER]_[to _NUMBER]),\n",
      "  7.3598621859595745),\n",
      " (AnnotationKey (TAB_e2_W_POS_L_2_R_2_[TO CD]_[TO CD]), 7.3598621859595745),\n",
      " (AnnotationKey (TAB_e2_W_LEMMA_L_3_R_1_[_NUMBER to _NUMBER]_[to]),\n",
      "  7.3598621859595745),\n",
      " (AnnotationKey (TAB_e2_W_POS_L_3_R_1_[CD TO CD]_[TO]), 7.3598621859595745),\n",
      " (AnnotationKey (TAB_e2_W_LEMMA_L_3_R_2_[_NUMBER to _NUMBER]_[to _NUMBER]),\n",
      "  7.3598621859595745),\n",
      " (AnnotationKey (TAB_e2_W_POS_L_3_R_2_[CD TO CD]_[TO CD]), 7.3598621859595745),\n",
      " (AnnotationKey (TAB_e2_W_RIGHT_POS_2_[TO CD]), 7.3598621859595745),\n",
      " (AnnotationKey (TAB_e2_W_POS_L_2_R_1_[TO CD]_[TO]), 7.3598621859595745),\n",
      " (AnnotationKey (TAB_e2_W_POS_L_1_R_1_[CD]_[TO]), 7.3598621859595745),\n",
      " (AnnotationKey (TAB_e2_COL_LEMMAS_[45]), 7.025046923497039),\n",
      " (AnnotationKey (TAB_e2_COL_LEMMAS_[5]), 7.00585803348375),\n",
      " (AnnotationKey (TAB_e2_COL_LEMMAS_[500]), 6.9498667944482015),\n",
      " (AnnotationKey (TAB_e2_COL_LEMMAS_[50]), 6.697364185848809),\n",
      " (AnnotationKey (TAB_e2_ROW_LEMMAS_[% c]), 6.682803084626073),\n",
      " (AnnotationKey (TAB_e2_ROW_LEMMAS_[c]), 6.501957374688295),\n",
      " (AnnotationKey (TAB_e2_COL_LEMMAS_[200]), 6.476421584080198),\n",
      " (AnnotationKey (TAB_e2_ROW_NUM_[12]), 6.162913833766745),\n",
      " (AnnotationKey (TAB_e2_W_RIGHT_POS_2_[NN CD]), 5.894538361568638),\n",
      " (AnnotationKey (TAB_e2_COL_LEMMAS_[value]), 5.793201130390679),\n",
      " (AnnotationKey (TAB_e2_ROW_LEMMAS_[t j]), 5.742716920439167),\n",
      " (AnnotationKey (TAB_e2_ROW_LEMMAS_[j]), 5.742716920439167),\n",
      " (AnnotationKey (TAB_e2_ROW_LEMMAS_[j ,]), 5.4705554992890075),\n",
      " (AnnotationKey (TAB_e2_ROW_LEMMAS_[and]), 4.869417648982564),\n",
      " (AnnotationKey (TAB_e2_ROW_LEMMAS_[and storage]), 4.869417648982564),\n",
      " (AnnotationKey (TAB_e2_ROW_NUM_[10]), 4.796647188324568),\n",
      " (AnnotationKey (TAB_e2_COL_LEMMAS_[330]), 4.709010857194294),\n",
      " (AnnotationKey (TAB_e2_WORD_SEQ_[x]), 4.583858526161001),\n",
      " (AnnotationKey (TAB_e2_LEMMA_SEQ_[x]), 4.583858526161001),\n",
      " (AnnotationKey (TAB_e2_POS_SEQ_[CC]), 4.583858526161001),\n",
      " (AnnotationKey (TAB_e2_ROW_LEMMAS_[s]), 4.361197512370533),\n",
      " (AnnotationKey (TAB_e2_ROW_LEMMAS_[t s]), 4.358286944509894),\n",
      " (AnnotationKey (TAB_e2_W_LEFT_3_[to _NUMBER %]), 4.269658462056976),\n",
      " (AnnotationKey (TAB_e2_W_LEFT_2_[_NUMBER %]), 4.269658462056976),\n",
      " (AnnotationKey (TAB_e2_W_LEFT_1_[%]), 4.269658462056976),\n",
      " (AnnotationKey (TAB_e2_ROW_NUM_[8]), 4.246648615959157),\n",
      " (AnnotationKey (TAB_e2_COL_LEMMAS_[bc547]), 4.177575946718355)]\n"
     ]
    }
   ],
   "source": [
    "pprint(all_weights[:60])"
   ]
  },
  {
   "cell_type": "code",
   "execution_count": 29,
   "metadata": {
    "collapsed": false
   },
   "outputs": [
    {
     "name": "stdout",
     "output_type": "stream",
     "text": [
      "3420\n",
      "0\n"
     ]
    }
   ],
   "source": [
    "fp_zetx = set()\n",
    "print(len(fn))\n",
    "for f in fn:\n",
    "    if (str(f.part.parent.document) == \"Document PNJIS00254-1\"):\n",
    "        fp_zetx.add(f)\n",
    "\n",
    "print(len(fp_zetx))"
   ]
  },
  {
   "cell_type": "code",
   "execution_count": 30,
   "metadata": {
    "collapsed": false
   },
   "outputs": [
    {
     "ename": "KeyError",
     "evalue": "'pop from an empty set'",
     "output_type": "error",
     "traceback": [
      "\u001b[0;31m---------------------------------------------------------------------------\u001b[0m",
      "\u001b[0;31mKeyError\u001b[0m                                  Traceback (most recent call last)",
      "\u001b[0;32m<ipython-input-30-ae2a08d6c97c>\u001b[0m in \u001b[0;36m<module>\u001b[0;34m()\u001b[0m\n\u001b[0;32m----> 1\u001b[0;31m \u001b[0msample\u001b[0m \u001b[0;34m=\u001b[0m \u001b[0mfp_zetx\u001b[0m\u001b[0;34m.\u001b[0m\u001b[0mpop\u001b[0m\u001b[0;34m(\u001b[0m\u001b[0;34m)\u001b[0m\u001b[0;34m\u001b[0m\u001b[0m\n\u001b[0m\u001b[1;32m      2\u001b[0m \u001b[0;32mprint\u001b[0m \u001b[0msample\u001b[0m\u001b[0;34m\u001b[0m\u001b[0m\n\u001b[1;32m      3\u001b[0m \u001b[0;32mprint\u001b[0m \u001b[0msample\u001b[0m\u001b[0;34m.\u001b[0m\u001b[0mtemp\u001b[0m\u001b[0;34m.\u001b[0m\u001b[0mparent\u001b[0m\u001b[0;34m\u001b[0m\u001b[0m\n",
      "\u001b[0;31mKeyError\u001b[0m: 'pop from an empty set'"
     ]
    }
   ],
   "source": [
    "sample = fp_zetx.pop()\n",
    "print sample\n",
    "print sample.temp.parent"
   ]
  },
  {
   "cell_type": "code",
   "execution_count": null,
   "metadata": {
    "collapsed": false
   },
   "outputs": [],
   "source": [
    "from snorkel.utils import get_keys_by_candidate\n",
    "for a in sorted(get_keys_by_candidate(F_dev, sample)):\n",
    "    print a"
   ]
  },
  {
   "cell_type": "code",
   "execution_count": null,
   "metadata": {
    "collapsed": false
   },
   "outputs": [],
   "source": [
    "from snorkel.lf_helpers import *\n",
    "def LF_min_col(c):\n",
    "    return -1 if 'min' in get_col_ngrams(c.temp) or 'min.' in get_col_ngrams(c.temp) else 0\n",
    "\n",
    "LF_min_col(sample)"
   ]
  },
  {
   "cell_type": "markdown",
   "metadata": {},
   "source": [
    "The End."
   ]
  }
 ],
 "metadata": {
  "anaconda-cloud": {},
  "kernelspec": {
   "display_name": "Python [default]",
   "language": "python",
   "name": "python2"
  },
  "language_info": {
   "codemirror_mode": {
    "name": "ipython",
    "version": 2
   },
   "file_extension": ".py",
   "mimetype": "text/x-python",
   "name": "python",
   "nbconvert_exporter": "python",
   "pygments_lexer": "ipython2",
   "version": "2.7.10"
  }
 },
 "nbformat": 4,
 "nbformat_minor": 0
}
