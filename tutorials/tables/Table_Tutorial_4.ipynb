{
 "cells": [
  {
   "cell_type": "markdown",
   "metadata": {},
   "source": [
    "## Part IV:  Features and Labeling Functions"
   ]
  },
  {
   "cell_type": "markdown",
   "metadata": {},
   "source": [
    "## Generating Features"
   ]
  },
  {
   "cell_type": "code",
   "execution_count": 1,
   "metadata": {
    "collapsed": true
   },
   "outputs": [],
   "source": [
    "# If necessary:\n",
    "import os\n",
    "os.remove('snorkel.db');\n",
    "os.system('cp snorkel.db\\ labels snorkel.db');"
   ]
  },
  {
   "cell_type": "code",
   "execution_count": 2,
   "metadata": {
    "collapsed": false
   },
   "outputs": [
    {
     "name": "stdout",
     "output_type": "stream",
     "text": [
      "The autoreload extension is already loaded. To reload it, use:\n",
      "  %reload_ext autoreload\n"
     ]
    }
   ],
   "source": [
    "%load_ext autoreload\n",
    "%autoreload 2\n",
    "\n",
    "from snorkel import SnorkelSession\n",
    "session = SnorkelSession()"
   ]
  },
  {
   "cell_type": "code",
   "execution_count": 3,
   "metadata": {
    "collapsed": false
   },
   "outputs": [],
   "source": [
    "from snorkel.models import candidate_subclass\n",
    "\n",
    "Part_Temp = candidate_subclass('Part_Temp', ['part','temp'])"
   ]
  },
  {
   "cell_type": "markdown",
   "metadata": {},
   "source": [
    "### Loading the `CandidateSet`"
   ]
  },
  {
   "cell_type": "code",
   "execution_count": 4,
   "metadata": {
    "collapsed": false
   },
   "outputs": [],
   "source": [
    "from snorkel.models import CandidateSet\n",
    "train = session.query(CandidateSet).filter(\n",
    "    CandidateSet.name == 'Hardware Training Candidates').one()\n",
    "dev = session.query(CandidateSet).filter(\n",
    "    CandidateSet.name == 'Hardware Development Candidates').one()"
   ]
  },
  {
   "cell_type": "markdown",
   "metadata": {},
   "source": [
    "### Creating feature matrix"
   ]
  },
  {
   "cell_type": "code",
   "execution_count": 5,
   "metadata": {
    "collapsed": false
   },
   "outputs": [],
   "source": [
    "from snorkel.annotations import FeatureManager\n",
    "\n",
    "feature_manager = FeatureManager()"
   ]
  },
  {
   "cell_type": "code",
   "execution_count": 6,
   "metadata": {
    "collapsed": false
   },
   "outputs": [
    {
     "name": "stdout",
     "output_type": "stream",
     "text": [
      "[=========================================] 100%\n",
      "\n",
      "Loading sparse Feature matrix...\n",
      "CPU times: user 3min 24s, sys: 16.5 s, total: 3min 40s\n",
      "Wall time: 3min 45s\n"
     ]
    }
   ],
   "source": [
    "%time F_train = feature_manager.create(session, train, 'Train Features')"
   ]
  },
  {
   "cell_type": "code",
   "execution_count": 7,
   "metadata": {
    "collapsed": false
   },
   "outputs": [
    {
     "name": "stdout",
     "output_type": "stream",
     "text": [
      "[=========================================] 100%\n",
      "\n",
      "Loading sparse Feature matrix...\n",
      "CPU times: user 1min 51s, sys: 5.5 s, total: 1min 57s\n",
      "Wall time: 1min 57s\n"
     ]
    }
   ],
   "source": [
    "%time F_dev = feature_manager.update(session, dev, 'Train Features', expand_key_set=False)"
   ]
  },
  {
   "cell_type": "markdown",
   "metadata": {},
   "source": [
    "### Reloading feature matrix"
   ]
  },
  {
   "cell_type": "code",
   "execution_count": 8,
   "metadata": {
    "collapsed": false,
    "scrolled": true
   },
   "outputs": [
    {
     "name": "stdout",
     "output_type": "stream",
     "text": [
      "CPU times: user 1.7 s, sys: 20.7 ms, total: 1.72 s\n",
      "Wall time: 1.72 s\n"
     ]
    }
   ],
   "source": [
    "%time F_train = feature_manager.load(session, train, 'Train Features')"
   ]
  },
  {
   "cell_type": "code",
   "execution_count": 9,
   "metadata": {
    "collapsed": false
   },
   "outputs": [
    {
     "data": {
      "text/plain": [
       "<319x11085 sparse matrix of type '<type 'numpy.float64'>'\n",
       "\twith 100311 stored elements in Compressed Sparse Row format>"
      ]
     },
     "execution_count": 9,
     "metadata": {},
     "output_type": "execute_result"
    }
   ],
   "source": [
    "F_train"
   ]
  },
  {
   "cell_type": "code",
   "execution_count": 10,
   "metadata": {
    "collapsed": false
   },
   "outputs": [
    {
     "data": {
      "text/plain": [
       "Part_Temp(Span(\"BC337-16\", parent=3898, chars=[0,7], words=[0,0]), Span(\"-55\", parent=3927, chars=[22,24], words=[3,3]))"
      ]
     },
     "execution_count": 10,
     "metadata": {},
     "output_type": "execute_result"
    }
   ],
   "source": [
    "F_train.get_candidate(0)"
   ]
  },
  {
   "cell_type": "code",
   "execution_count": 11,
   "metadata": {
    "collapsed": false
   },
   "outputs": [
    {
     "data": {
      "text/plain": [
       "AnnotationKey (TDL_LEMMA:PARENTS-OF-BETWEEN-MENTION-and-MENTION[None])"
      ]
     },
     "execution_count": 11,
     "metadata": {},
     "output_type": "execute_result"
    }
   ],
   "source": [
    "F_train.get_key(0)"
   ]
  },
  {
   "cell_type": "code",
   "execution_count": 12,
   "metadata": {
    "collapsed": false
   },
   "outputs": [
    {
     "name": "stdout",
     "output_type": "stream",
     "text": [
      "AnnotationKey (TDL_LEMMA:PARENTS-OF-BETWEEN-MENTION-and-MENTION[None])\n",
      "AnnotationKey (TDL_LEMMA:BETWEEN-MENTION-and-MENTION[bc337-16])\n",
      "AnnotationKey (TDL_DEP_LABEL:BETWEEN-MENTION-and-MENTION[ROOT])\n",
      "AnnotationKey (TDL_DEP_LABEL|LEMMA:BETWEEN-MENTION-and-MENTION[ROOT|bc337-16])\n",
      "AnnotationKey (TDL_LEMMA:SEQ-BETWEEN[/])\n",
      "AnnotationKey (TDL_LEMMA:SEQ-BETWEEN[25/40])\n",
      "AnnotationKey (TDL_LEMMA:SEQ-BETWEEN[/ 25/40])\n",
      "AnnotationKey (TDL_LEMMA:RIGHT-OF-MENTION[25/40])\n",
      "AnnotationKey (TDL_SEQ-BETWEEN[LEN:0-4])\n",
      "AnnotationKey (TDL_BETWEEN-MENTION-and-MENTION[LEN:0-2])\n",
      "AnnotationKey (TAB_e1_WORD_SEQ_[BC337-16])\n",
      "AnnotationKey (TAB_e1_LEMMA_SEQ_[bc337-16])\n",
      "AnnotationKey (TAB_e1_POS_SEQ_[JJ])\n",
      "AnnotationKey (TAB_e1_DEP_SEQ_[ROOT])\n",
      "AnnotationKey (TAB_e1_W_LEFT_1_[25/40])\n",
      "AnnotationKey (TAB_e1_W_LEFT_POS_1_[CD])\n",
      "AnnotationKey (TAB_e1_W_LEFT_2_[/ 25/40])\n",
      "AnnotationKey (TAB_e1_W_LEFT_POS_2_[: CD])\n",
      "AnnotationKey (TAB_e1_W_LEFT_3_[bc338-16 / 25/40])\n",
      "AnnotationKey (TAB_e1_W_LEFT_POS_3_[NN : CD])\n",
      "AnnotationKey (TAB_e1_W_RIGHT_1_[/])\n",
      "AnnotationKey (TAB_e1_W_RIGHT_POS_1_[:])\n",
      "AnnotationKey (TAB_e1_W_RIGHT_2_[/ 25/40])\n",
      "AnnotationKey (TAB_e1_W_RIGHT_POS_2_[: CD])\n",
      "AnnotationKey (TAB_e1_W_RIGHT_3_[/ 25/40 bc338-16])\n",
      "AnnotationKey (TAB_e1_W_RIGHT_POS_3_[: CD NN])\n",
      "AnnotationKey (TAB_e1_W_LEMMA_L_1_R_1_[25/40]_[/])\n",
      "AnnotationKey (TAB_e1_W_POS_L_1_R_1_[CD]_[:])\n",
      "AnnotationKey (TAB_e1_W_LEMMA_L_1_R_2_[25/40]_[/ 25/40])\n",
      "AnnotationKey (TAB_e1_W_POS_L_1_R_2_[CD]_[: CD])\n",
      "AnnotationKey (TAB_e1_W_LEMMA_L_1_R_3_[25/40]_[/ 25/40 bc338-16])\n",
      "AnnotationKey (TAB_e1_W_POS_L_1_R_3_[CD]_[: CD NN])\n",
      "AnnotationKey (TAB_e1_W_LEMMA_L_2_R_1_[/ 25/40]_[/])\n",
      "AnnotationKey (TAB_e1_W_POS_L_2_R_1_[: CD]_[:])\n",
      "AnnotationKey (TAB_e1_W_LEMMA_L_2_R_2_[/ 25/40]_[/ 25/40])\n",
      "AnnotationKey (TAB_e1_W_POS_L_2_R_2_[: CD]_[: CD])\n",
      "AnnotationKey (TAB_e1_W_LEMMA_L_2_R_3_[/ 25/40]_[/ 25/40 bc338-16])\n",
      "AnnotationKey (TAB_e1_W_POS_L_2_R_3_[: CD]_[: CD NN])\n",
      "AnnotationKey (TAB_e1_W_LEMMA_L_3_R_1_[bc338-16 / 25/40]_[/])\n",
      "AnnotationKey (TAB_e1_W_POS_L_3_R_1_[NN : CD]_[:])\n",
      "AnnotationKey (TAB_e1_W_LEMMA_L_3_R_2_[bc338-16 / 25/40]_[/ 25/40])\n",
      "AnnotationKey (TAB_e1_W_POS_L_3_R_2_[NN : CD]_[: CD])\n",
      "AnnotationKey (TAB_e1_W_LEMMA_L_3_R_3_[bc338-16 / 25/40]_[/ 25/40 bc338-16])\n",
      "AnnotationKey (TAB_e1_W_POS_L_3_R_3_[NN : CD]_[: CD NN])\n",
      "AnnotationKey (TAB_e1_STARTS_WITH_CAPTIAL)\n",
      "AnnotationKey (TAB_e1_LENGTH_1)\n",
      "AnnotationKey (TAB_e1_HTML_TAG_p)\n",
      "AnnotationKey (TAB_e1_HTML_ATTR_style)\n",
      "AnnotationKey (TAB_e1_HTML_ATTR_class)\n",
      "AnnotationKey (TAB_e1_HTML_ANC_TAG_html)\n",
      "AnnotationKey (TAB_e1_HTML_ANC_TAG_body)\n",
      "AnnotationKey (TAB_e1_HTML_ANC_TAG_p)\n",
      "AnnotationKey (TAB_e1_HTML_ANC_ATTR_xmlns)\n",
      "AnnotationKey (TAB_e1_HTML_ANC_ATTR_style)\n",
      "AnnotationKey (TAB_e1_HTML_ANC_ATTR_class)\n",
      "AnnotationKey (TAB_e2_WORD_SEQ_[-55])\n",
      "AnnotationKey (TAB_e2_LEMMA_SEQ_[-55])\n",
      "AnnotationKey (TAB_e2_POS_SEQ_[CD])\n",
      "AnnotationKey (TAB_e2_DEP_SEQ_[dep])\n",
      "AnnotationKey (TAB_e2_W_LEFT_1_[:])\n",
      "AnnotationKey (TAB_e2_W_LEFT_POS_1_[:])\n",
      "AnnotationKey (TAB_e2_W_LEFT_2_[temperature :])\n",
      "AnnotationKey (TAB_e2_W_LEFT_POS_2_[NN :])\n",
      "AnnotationKey (TAB_e2_LENGTH_1)\n",
      "AnnotationKey (TAB_e2_HTML_TAG_p)\n",
      "AnnotationKey (TAB_e2_HTML_ATTR_style)\n",
      "AnnotationKey (TAB_e2_HTML_ATTR_class)\n",
      "AnnotationKey (TAB_e2_HTML_ANC_TAG_html)\n",
      "AnnotationKey (TAB_e2_HTML_ANC_TAG_body)\n",
      "AnnotationKey (TAB_e2_HTML_ANC_TAG_p)\n",
      "AnnotationKey (TAB_e2_HTML_ANC_ATTR_xmlns)\n",
      "AnnotationKey (TAB_e2_HTML_ANC_ATTR_style)\n",
      "AnnotationKey (TAB_e2_HTML_ANC_ATTR_class)\n",
      "AnnotationKey (TAB_SAME_TABLE)\n",
      "AnnotationKey (TAB_e2_W_LEFT_3_[operate temperature :])\n",
      "AnnotationKey (TAB_e2_W_LEFT_POS_3_[VBG NN :])\n"
     ]
    }
   ],
   "source": [
    "from snorkel.utils import get_keys_by_candidate\n",
    "\n",
    "for f in get_keys_by_candidate(F_train, F_train.get_candidate(1))[:]: print f"
   ]
  },
  {
   "cell_type": "markdown",
   "metadata": {},
   "source": [
    "## Applying LFs"
   ]
  },
  {
   "cell_type": "code",
   "execution_count": 13,
   "metadata": {
    "collapsed": true
   },
   "outputs": [],
   "source": [
    "from snorkel.annotations import LabelManager\n",
    "\n",
    "label_manager = LabelManager()"
   ]
  },
  {
   "cell_type": "markdown",
   "metadata": {},
   "source": [
    "### Defining Labeling Functions"
   ]
  },
  {
   "cell_type": "code",
   "execution_count": 14,
   "metadata": {
    "collapsed": false
   },
   "outputs": [],
   "source": [
    "from snorkel.lf_helpers import *\n",
    "\n",
    "LFs = []\n",
    "\n",
    "# def LF_training_gold(c):\n",
    "#     corpus = session.query(Corpus).filter(Corpus.name == 'Hardware Training').one()\n",
    "#     training_gold_dict = get_gold_dict(filename, 'stg_temp_min', docs=corpus.documents)\n",
    "#     return 1 if ((c[0].parent.document.name).upper(), \n",
    "#                  (c[0].get_span()).upper(), \n",
    "#                  (''.join(c[1].get_span().split())).upper()) in training_gold_dict else 0\n",
    "# LFs.append(LF_training_gold)\n",
    "\n",
    "# POSITIVE\n",
    "\n",
    "def LF_to_right(c):\n",
    "    return 1 if 'to' in get_right_ngrams(c.temp, window=1) else 0\n",
    "LFs.append(LF_to_right)\n",
    "\n",
    "def LF_tilde_right(c):\n",
    "    return 1 if '~' in get_right_ngrams(c.temp, window=1) else 0\n",
    "LFs.append(LF_tilde_right)\n",
    "\n",
    "def LF_through_right(c):\n",
    "    return 1 if len(set(['through','thru']).intersection(\n",
    "        set(get_right_ngrams(c.temp, window=1)))) > 0 else 0\n",
    "LFs.append(LF_through_right)\n",
    "\n",
    "def LF_150_right(c):\n",
    "    return 1 if '150' in get_right_ngrams(c.temp, window=3) else 0\n",
    "LFs.append(LF_150_right)\n",
    "\n",
    "def LF_storage_row(c):\n",
    "    return 1 if 'storage' in get_row_ngrams(c.temp) else 0\n",
    "LFs.append(LF_storage_row)\n",
    "\n",
    "def LF_tj_row(c):\n",
    "    return 1 if 'tj' in get_row_ngrams(c.temp) else 0\n",
    "LFs.append(LF_tj_row)\n",
    "\n",
    "def LF_c_row(c):\n",
    "    return 1 if 'c' in get_row_ngrams(c.temp) else 0\n",
    "LFs.append(LF_c_row)\n",
    "\n",
    "def LF_same_table(c):\n",
    "    return 1 if same_table(c) else 0\n",
    "LFs.append(LF_same_table)\n",
    "\n",
    "# BOTH\n",
    "\n",
    "def LF_tstg_row(c):\n",
    "    return 1 if 'tstg' in get_row_ngrams(c.temp) else -1\n",
    "LFs.append(LF_tstg_row)\n",
    "\n",
    "def LF_temperature_row(c):\n",
    "    return 1 if 'temperature' in get_row_ngrams(c.temp) else -1\n",
    "LFs.append(LF_temperature_row)\n",
    "\n",
    "# NEGATIVE\n",
    "\n",
    "def LF_temp_outside_table(c):\n",
    "    return -1 if c.temp.parent.table is None else 0\n",
    "LFs.append(LF_temp_outside_table)\n",
    "\n",
    "def LF_complement_left(c):\n",
    "    return -1 if 'complement' in get_left_ngrams(c.part) else 0\n",
    "LFs.append(LF_complement_left)\n",
    "\n",
    "def LF_voltage_row(c):\n",
    "    return -1 if 'voltage' in get_row_ngrams(c.temp) else 0"
   ]
  },
  {
   "cell_type": "markdown",
   "metadata": {},
   "source": [
    "### Testing LFs and LF_helpers"
   ]
  },
  {
   "cell_type": "code",
   "execution_count": 15,
   "metadata": {
    "collapsed": false
   },
   "outputs": [
    {
     "name": "stdout",
     "output_type": "stream",
     "text": [
      "Span(\"BC548\", parent=1417, chars=[14,18], words=[4,4])\n",
      "Span(\"-65\", parent=95441, chars=[0,2], words=[0,0])\n",
      "Phrase(Document BC547, 0, u'-65 to +150')\n",
      "Table(Document BC547, 1)\n",
      "True\n",
      "False\n",
      "False\n",
      "0\n"
     ]
    }
   ],
   "source": [
    "from snorkel.lf_helpers import get_right_ngrams, get_left_ngrams\n",
    "from snorkel.lf_helpers import contains_token, contains_regex\n",
    "from snorkel.lf_helpers import get_phrase_ngrams, get_cell_ngrams, get_neighbor_cell_ngrams\n",
    "from snorkel.lf_helpers import get_row_ngrams, get_col_ngrams, get_aligned_ngrams\n",
    "from snorkel.lf_helpers import same_document, same_table, same_cell, same_phrase\n",
    "c = train[19]\n",
    "print c.part\n",
    "print c.temp\n",
    "print c.temp.parent\n",
    "print c.temp.parent.table\n",
    "print same_document(c)\n",
    "print same_table(c)\n",
    "print contains_regex(c, rgx=r'849')\n",
    "print LF_temp_outside_table(c)"
   ]
  },
  {
   "cell_type": "code",
   "execution_count": 17,
   "metadata": {
    "collapsed": false,
    "scrolled": true
   },
   "outputs": [
    {
     "name": "stdout",
     "output_type": "stream",
     "text": [
      "[=========================================] 100%\n",
      "\n",
      "Loading sparse Label matrix...\n",
      "CPU times: user 11.9 s, sys: 2.94 s, total: 14.9 s\n",
      "Wall time: 14.9 s\n"
     ]
    },
    {
     "data": {
      "text/plain": [
       "<319x13 sparse matrix of type '<type 'numpy.float64'>'\n",
       "\twith 1316 stored elements in Compressed Sparse Row format>"
      ]
     },
     "execution_count": 17,
     "metadata": {},
     "output_type": "execute_result"
    }
   ],
   "source": [
    "%time L_train = label_manager.create(session, train, 'LF Labels', f=LFs)\n",
    "L_train"
   ]
  },
  {
   "cell_type": "code",
   "execution_count": 18,
   "metadata": {
    "collapsed": false
   },
   "outputs": [
    {
     "data": {
      "text/html": [
       "<div>\n",
       "<table border=\"1\" class=\"dataframe\">\n",
       "  <thead>\n",
       "    <tr style=\"text-align: right;\">\n",
       "      <th></th>\n",
       "      <th>conflicts</th>\n",
       "      <th>coverage</th>\n",
       "      <th>j</th>\n",
       "      <th>overlaps</th>\n",
       "    </tr>\n",
       "  </thead>\n",
       "  <tbody>\n",
       "    <tr>\n",
       "      <th>LF_to_right</th>\n",
       "      <td>0.385580</td>\n",
       "      <td>0.385580</td>\n",
       "      <td>0</td>\n",
       "      <td>0.385580</td>\n",
       "    </tr>\n",
       "    <tr>\n",
       "      <th>LF_tilde_right</th>\n",
       "      <td>0.081505</td>\n",
       "      <td>0.081505</td>\n",
       "      <td>1</td>\n",
       "      <td>0.081505</td>\n",
       "    </tr>\n",
       "    <tr>\n",
       "      <th>LF_through_right</th>\n",
       "      <td>0.000000</td>\n",
       "      <td>0.000000</td>\n",
       "      <td>2</td>\n",
       "      <td>0.000000</td>\n",
       "    </tr>\n",
       "    <tr>\n",
       "      <th>LF_150_right</th>\n",
       "      <td>0.250784</td>\n",
       "      <td>0.250784</td>\n",
       "      <td>3</td>\n",
       "      <td>0.250784</td>\n",
       "    </tr>\n",
       "    <tr>\n",
       "      <th>LF_minus_regex</th>\n",
       "      <td>1.000000</td>\n",
       "      <td>1.000000</td>\n",
       "      <td>4</td>\n",
       "      <td>1.000000</td>\n",
       "    </tr>\n",
       "    <tr>\n",
       "      <th>LF_storage_row</th>\n",
       "      <td>0.000000</td>\n",
       "      <td>0.000000</td>\n",
       "      <td>5</td>\n",
       "      <td>0.000000</td>\n",
       "    </tr>\n",
       "    <tr>\n",
       "      <th>LF_tj_row</th>\n",
       "      <td>0.000000</td>\n",
       "      <td>0.000000</td>\n",
       "      <td>6</td>\n",
       "      <td>0.000000</td>\n",
       "    </tr>\n",
       "    <tr>\n",
       "      <th>LF_c_row</th>\n",
       "      <td>0.031348</td>\n",
       "      <td>0.031348</td>\n",
       "      <td>7</td>\n",
       "      <td>0.031348</td>\n",
       "    </tr>\n",
       "    <tr>\n",
       "      <th>LF_same_table</th>\n",
       "      <td>0.122257</td>\n",
       "      <td>0.122257</td>\n",
       "      <td>8</td>\n",
       "      <td>0.122257</td>\n",
       "    </tr>\n",
       "    <tr>\n",
       "      <th>LF_tstg_row</th>\n",
       "      <td>1.000000</td>\n",
       "      <td>1.000000</td>\n",
       "      <td>9</td>\n",
       "      <td>1.000000</td>\n",
       "    </tr>\n",
       "    <tr>\n",
       "      <th>LF_temperature_row</th>\n",
       "      <td>1.000000</td>\n",
       "      <td>1.000000</td>\n",
       "      <td>10</td>\n",
       "      <td>1.000000</td>\n",
       "    </tr>\n",
       "    <tr>\n",
       "      <th>LF_temp_outside_table</th>\n",
       "      <td>0.235110</td>\n",
       "      <td>0.235110</td>\n",
       "      <td>11</td>\n",
       "      <td>0.235110</td>\n",
       "    </tr>\n",
       "    <tr>\n",
       "      <th>LF_complement_left</th>\n",
       "      <td>0.018809</td>\n",
       "      <td>0.018809</td>\n",
       "      <td>12</td>\n",
       "      <td>0.018809</td>\n",
       "    </tr>\n",
       "  </tbody>\n",
       "</table>\n",
       "</div>"
      ],
      "text/plain": [
       "                       conflicts  coverage   j  overlaps\n",
       "LF_to_right             0.385580  0.385580   0  0.385580\n",
       "LF_tilde_right          0.081505  0.081505   1  0.081505\n",
       "LF_through_right        0.000000  0.000000   2  0.000000\n",
       "LF_150_right            0.250784  0.250784   3  0.250784\n",
       "LF_minus_regex          1.000000  1.000000   4  1.000000\n",
       "LF_storage_row          0.000000  0.000000   5  0.000000\n",
       "LF_tj_row               0.000000  0.000000   6  0.000000\n",
       "LF_c_row                0.031348  0.031348   7  0.031348\n",
       "LF_same_table           0.122257  0.122257   8  0.122257\n",
       "LF_tstg_row             1.000000  1.000000   9  1.000000\n",
       "LF_temperature_row      1.000000  1.000000  10  1.000000\n",
       "LF_temp_outside_table   0.235110  0.235110  11  0.235110\n",
       "LF_complement_left      0.018809  0.018809  12  0.018809"
      ]
     },
     "execution_count": 18,
     "metadata": {},
     "output_type": "execute_result"
    }
   ],
   "source": [
    "L_train.lf_stats()"
   ]
  },
  {
   "cell_type": "code",
   "execution_count": 19,
   "metadata": {
    "collapsed": true
   },
   "outputs": [],
   "source": [
    "# If necessary\n",
    "# import os\n",
    "# os.system('cp snorkel.db snorkel.db\\ features');"
   ]
  },
  {
   "cell_type": "markdown",
   "metadata": {},
   "source": [
    "Next, in Part 5, we will test our model on the development `CandidateSet`."
   ]
  }
 ],
 "metadata": {
  "anaconda-cloud": {},
  "kernelspec": {
   "display_name": "Python [default]",
   "language": "python",
   "name": "python2"
  },
  "language_info": {
   "codemirror_mode": {
    "name": "ipython",
    "version": 2
   },
   "file_extension": ".py",
   "mimetype": "text/x-python",
   "name": "python",
   "nbconvert_exporter": "python",
   "pygments_lexer": "ipython2",
   "version": "2.7.12"
  }
 },
 "nbformat": 4,
 "nbformat_minor": 0
}
